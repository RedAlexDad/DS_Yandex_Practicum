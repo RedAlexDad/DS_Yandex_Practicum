{
 "cells": [
  {
   "cell_type": "markdown",
   "id": "c81daeeb",
   "metadata": {
    "deletable": false,
    "editable": false,
    "id": "c81daeeb"
   },
   "source": [
    "# Исследование надежности заемщиков"
   ]
  },
  {
   "cell_type": "markdown",
   "id": "-G3EJWzf62s6",
   "metadata": {
    "deletable": false,
    "editable": false,
    "id": "-G3EJWzf62s6"
   },
   "source": [
    "Это первая часть проекта, она будет проверена автоматически. Вторую часть проверит ревьюер. "
   ]
  },
  {
   "cell_type": "markdown",
   "id": "744d7639",
   "metadata": {
    "deletable": false,
    "editable": false,
    "id": "744d7639"
   },
   "source": [
    "## Откройте таблицу и изучите общую информацию о данных"
   ]
  },
  {
   "cell_type": "markdown",
   "id": "e7a14c31",
   "metadata": {
    "deletable": false,
    "editable": false,
    "id": "e7a14c31",
    "tags": [
     "start_task"
    ]
   },
   "source": [
    "**Задание 1. Импортируйте библиотеку pandas. Считайте данные из csv-файла в датафрейм и сохраните в переменную `data`. Путь к файлу:**\n",
    "\n",
    "`/datasets/data.csv`"
   ]
  },
  {
   "cell_type": "code",
   "execution_count": 267,
   "id": "7bcf75c9",
   "metadata": {
    "id": "7bcf75c9"
   },
   "outputs": [],
   "source": [
    "# импортируйте библиотеку pandas\n",
    "import pandas as pd"
   ]
  },
  {
   "cell_type": "code",
   "execution_count": 195,
   "id": "4d240ee2",
   "metadata": {
    "id": "4d240ee2"
   },
   "outputs": [],
   "source": [
    "# прочитайте csv-файл\n",
    "data = pd.read_csv('/datasets/data.csv')"
   ]
  },
  {
   "cell_type": "markdown",
   "id": "b8038fe3",
   "metadata": {
    "deletable": false,
    "editable": false,
    "id": "b8038fe3",
    "tags": [
     "start_task"
    ]
   },
   "source": [
    "**Задание 2. Выведите первые 20 строчек датафрейма `data` на экран.**"
   ]
  },
  {
   "cell_type": "code",
   "execution_count": 196,
   "id": "2a7cab99",
   "metadata": {
    "id": "2a7cab99"
   },
   "outputs": [
    {
     "data": {
      "text/html": [
       "<div>\n",
       "<style scoped>\n",
       "    .dataframe tbody tr th:only-of-type {\n",
       "        vertical-align: middle;\n",
       "    }\n",
       "\n",
       "    .dataframe tbody tr th {\n",
       "        vertical-align: top;\n",
       "    }\n",
       "\n",
       "    .dataframe thead th {\n",
       "        text-align: right;\n",
       "    }\n",
       "</style>\n",
       "<table border=\"1\" class=\"dataframe\">\n",
       "  <thead>\n",
       "    <tr style=\"text-align: right;\">\n",
       "      <th></th>\n",
       "      <th>children</th>\n",
       "      <th>days_employed</th>\n",
       "      <th>dob_years</th>\n",
       "      <th>education</th>\n",
       "      <th>education_id</th>\n",
       "      <th>family_status</th>\n",
       "      <th>family_status_id</th>\n",
       "      <th>gender</th>\n",
       "      <th>income_type</th>\n",
       "      <th>debt</th>\n",
       "      <th>total_income</th>\n",
       "      <th>purpose</th>\n",
       "    </tr>\n",
       "  </thead>\n",
       "  <tbody>\n",
       "    <tr>\n",
       "      <th>0</th>\n",
       "      <td>1</td>\n",
       "      <td>-8437.673028</td>\n",
       "      <td>42</td>\n",
       "      <td>высшее</td>\n",
       "      <td>0</td>\n",
       "      <td>женат / замужем</td>\n",
       "      <td>0</td>\n",
       "      <td>F</td>\n",
       "      <td>сотрудник</td>\n",
       "      <td>0</td>\n",
       "      <td>253875.639453</td>\n",
       "      <td>покупка жилья</td>\n",
       "    </tr>\n",
       "    <tr>\n",
       "      <th>1</th>\n",
       "      <td>1</td>\n",
       "      <td>-4024.803754</td>\n",
       "      <td>36</td>\n",
       "      <td>среднее</td>\n",
       "      <td>1</td>\n",
       "      <td>женат / замужем</td>\n",
       "      <td>0</td>\n",
       "      <td>F</td>\n",
       "      <td>сотрудник</td>\n",
       "      <td>0</td>\n",
       "      <td>112080.014102</td>\n",
       "      <td>приобретение автомобиля</td>\n",
       "    </tr>\n",
       "    <tr>\n",
       "      <th>2</th>\n",
       "      <td>0</td>\n",
       "      <td>-5623.422610</td>\n",
       "      <td>33</td>\n",
       "      <td>Среднее</td>\n",
       "      <td>1</td>\n",
       "      <td>женат / замужем</td>\n",
       "      <td>0</td>\n",
       "      <td>M</td>\n",
       "      <td>сотрудник</td>\n",
       "      <td>0</td>\n",
       "      <td>145885.952297</td>\n",
       "      <td>покупка жилья</td>\n",
       "    </tr>\n",
       "    <tr>\n",
       "      <th>3</th>\n",
       "      <td>3</td>\n",
       "      <td>-4124.747207</td>\n",
       "      <td>32</td>\n",
       "      <td>среднее</td>\n",
       "      <td>1</td>\n",
       "      <td>женат / замужем</td>\n",
       "      <td>0</td>\n",
       "      <td>M</td>\n",
       "      <td>сотрудник</td>\n",
       "      <td>0</td>\n",
       "      <td>267628.550329</td>\n",
       "      <td>дополнительное образование</td>\n",
       "    </tr>\n",
       "    <tr>\n",
       "      <th>4</th>\n",
       "      <td>0</td>\n",
       "      <td>340266.072047</td>\n",
       "      <td>53</td>\n",
       "      <td>среднее</td>\n",
       "      <td>1</td>\n",
       "      <td>гражданский брак</td>\n",
       "      <td>1</td>\n",
       "      <td>F</td>\n",
       "      <td>пенсионер</td>\n",
       "      <td>0</td>\n",
       "      <td>158616.077870</td>\n",
       "      <td>сыграть свадьбу</td>\n",
       "    </tr>\n",
       "    <tr>\n",
       "      <th>5</th>\n",
       "      <td>0</td>\n",
       "      <td>-926.185831</td>\n",
       "      <td>27</td>\n",
       "      <td>высшее</td>\n",
       "      <td>0</td>\n",
       "      <td>гражданский брак</td>\n",
       "      <td>1</td>\n",
       "      <td>M</td>\n",
       "      <td>компаньон</td>\n",
       "      <td>0</td>\n",
       "      <td>255763.565419</td>\n",
       "      <td>покупка жилья</td>\n",
       "    </tr>\n",
       "    <tr>\n",
       "      <th>6</th>\n",
       "      <td>0</td>\n",
       "      <td>-2879.202052</td>\n",
       "      <td>43</td>\n",
       "      <td>высшее</td>\n",
       "      <td>0</td>\n",
       "      <td>женат / замужем</td>\n",
       "      <td>0</td>\n",
       "      <td>F</td>\n",
       "      <td>компаньон</td>\n",
       "      <td>0</td>\n",
       "      <td>240525.971920</td>\n",
       "      <td>операции с жильем</td>\n",
       "    </tr>\n",
       "    <tr>\n",
       "      <th>7</th>\n",
       "      <td>0</td>\n",
       "      <td>-152.779569</td>\n",
       "      <td>50</td>\n",
       "      <td>СРЕДНЕЕ</td>\n",
       "      <td>1</td>\n",
       "      <td>женат / замужем</td>\n",
       "      <td>0</td>\n",
       "      <td>M</td>\n",
       "      <td>сотрудник</td>\n",
       "      <td>0</td>\n",
       "      <td>135823.934197</td>\n",
       "      <td>образование</td>\n",
       "    </tr>\n",
       "    <tr>\n",
       "      <th>8</th>\n",
       "      <td>2</td>\n",
       "      <td>-6929.865299</td>\n",
       "      <td>35</td>\n",
       "      <td>ВЫСШЕЕ</td>\n",
       "      <td>0</td>\n",
       "      <td>гражданский брак</td>\n",
       "      <td>1</td>\n",
       "      <td>F</td>\n",
       "      <td>сотрудник</td>\n",
       "      <td>0</td>\n",
       "      <td>95856.832424</td>\n",
       "      <td>на проведение свадьбы</td>\n",
       "    </tr>\n",
       "    <tr>\n",
       "      <th>9</th>\n",
       "      <td>0</td>\n",
       "      <td>-2188.756445</td>\n",
       "      <td>41</td>\n",
       "      <td>среднее</td>\n",
       "      <td>1</td>\n",
       "      <td>женат / замужем</td>\n",
       "      <td>0</td>\n",
       "      <td>M</td>\n",
       "      <td>сотрудник</td>\n",
       "      <td>0</td>\n",
       "      <td>144425.938277</td>\n",
       "      <td>покупка жилья для семьи</td>\n",
       "    </tr>\n",
       "    <tr>\n",
       "      <th>10</th>\n",
       "      <td>2</td>\n",
       "      <td>-4171.483647</td>\n",
       "      <td>36</td>\n",
       "      <td>высшее</td>\n",
       "      <td>0</td>\n",
       "      <td>женат / замужем</td>\n",
       "      <td>0</td>\n",
       "      <td>M</td>\n",
       "      <td>компаньон</td>\n",
       "      <td>0</td>\n",
       "      <td>113943.491460</td>\n",
       "      <td>покупка недвижимости</td>\n",
       "    </tr>\n",
       "    <tr>\n",
       "      <th>11</th>\n",
       "      <td>0</td>\n",
       "      <td>-792.701887</td>\n",
       "      <td>40</td>\n",
       "      <td>среднее</td>\n",
       "      <td>1</td>\n",
       "      <td>женат / замужем</td>\n",
       "      <td>0</td>\n",
       "      <td>F</td>\n",
       "      <td>сотрудник</td>\n",
       "      <td>0</td>\n",
       "      <td>77069.234271</td>\n",
       "      <td>покупка коммерческой недвижимости</td>\n",
       "    </tr>\n",
       "    <tr>\n",
       "      <th>12</th>\n",
       "      <td>0</td>\n",
       "      <td>NaN</td>\n",
       "      <td>65</td>\n",
       "      <td>среднее</td>\n",
       "      <td>1</td>\n",
       "      <td>гражданский брак</td>\n",
       "      <td>1</td>\n",
       "      <td>M</td>\n",
       "      <td>пенсионер</td>\n",
       "      <td>0</td>\n",
       "      <td>NaN</td>\n",
       "      <td>сыграть свадьбу</td>\n",
       "    </tr>\n",
       "    <tr>\n",
       "      <th>13</th>\n",
       "      <td>0</td>\n",
       "      <td>-1846.641941</td>\n",
       "      <td>54</td>\n",
       "      <td>неоконченное высшее</td>\n",
       "      <td>2</td>\n",
       "      <td>женат / замужем</td>\n",
       "      <td>0</td>\n",
       "      <td>F</td>\n",
       "      <td>сотрудник</td>\n",
       "      <td>0</td>\n",
       "      <td>130458.228857</td>\n",
       "      <td>приобретение автомобиля</td>\n",
       "    </tr>\n",
       "    <tr>\n",
       "      <th>14</th>\n",
       "      <td>0</td>\n",
       "      <td>-1844.956182</td>\n",
       "      <td>56</td>\n",
       "      <td>высшее</td>\n",
       "      <td>0</td>\n",
       "      <td>гражданский брак</td>\n",
       "      <td>1</td>\n",
       "      <td>F</td>\n",
       "      <td>компаньон</td>\n",
       "      <td>1</td>\n",
       "      <td>165127.911772</td>\n",
       "      <td>покупка жилой недвижимости</td>\n",
       "    </tr>\n",
       "    <tr>\n",
       "      <th>15</th>\n",
       "      <td>1</td>\n",
       "      <td>-972.364419</td>\n",
       "      <td>26</td>\n",
       "      <td>среднее</td>\n",
       "      <td>1</td>\n",
       "      <td>женат / замужем</td>\n",
       "      <td>0</td>\n",
       "      <td>F</td>\n",
       "      <td>сотрудник</td>\n",
       "      <td>0</td>\n",
       "      <td>116820.904450</td>\n",
       "      <td>строительство собственной недвижимости</td>\n",
       "    </tr>\n",
       "    <tr>\n",
       "      <th>16</th>\n",
       "      <td>0</td>\n",
       "      <td>-1719.934226</td>\n",
       "      <td>35</td>\n",
       "      <td>среднее</td>\n",
       "      <td>1</td>\n",
       "      <td>женат / замужем</td>\n",
       "      <td>0</td>\n",
       "      <td>F</td>\n",
       "      <td>сотрудник</td>\n",
       "      <td>0</td>\n",
       "      <td>289202.704229</td>\n",
       "      <td>недвижимость</td>\n",
       "    </tr>\n",
       "    <tr>\n",
       "      <th>17</th>\n",
       "      <td>0</td>\n",
       "      <td>-2369.999720</td>\n",
       "      <td>33</td>\n",
       "      <td>высшее</td>\n",
       "      <td>0</td>\n",
       "      <td>гражданский брак</td>\n",
       "      <td>1</td>\n",
       "      <td>M</td>\n",
       "      <td>сотрудник</td>\n",
       "      <td>0</td>\n",
       "      <td>90410.586745</td>\n",
       "      <td>строительство недвижимости</td>\n",
       "    </tr>\n",
       "    <tr>\n",
       "      <th>18</th>\n",
       "      <td>0</td>\n",
       "      <td>400281.136913</td>\n",
       "      <td>53</td>\n",
       "      <td>среднее</td>\n",
       "      <td>1</td>\n",
       "      <td>вдовец / вдова</td>\n",
       "      <td>2</td>\n",
       "      <td>F</td>\n",
       "      <td>пенсионер</td>\n",
       "      <td>0</td>\n",
       "      <td>56823.777243</td>\n",
       "      <td>на покупку подержанного автомобиля</td>\n",
       "    </tr>\n",
       "    <tr>\n",
       "      <th>19</th>\n",
       "      <td>0</td>\n",
       "      <td>-10038.818549</td>\n",
       "      <td>48</td>\n",
       "      <td>СРЕДНЕЕ</td>\n",
       "      <td>1</td>\n",
       "      <td>в разводе</td>\n",
       "      <td>3</td>\n",
       "      <td>F</td>\n",
       "      <td>сотрудник</td>\n",
       "      <td>0</td>\n",
       "      <td>242831.107982</td>\n",
       "      <td>на покупку своего автомобиля</td>\n",
       "    </tr>\n",
       "  </tbody>\n",
       "</table>\n",
       "</div>"
      ],
      "text/plain": [
       "    children  days_employed  dob_years            education  education_id  \\\n",
       "0          1   -8437.673028         42               высшее             0   \n",
       "1          1   -4024.803754         36              среднее             1   \n",
       "2          0   -5623.422610         33              Среднее             1   \n",
       "3          3   -4124.747207         32              среднее             1   \n",
       "4          0  340266.072047         53              среднее             1   \n",
       "5          0    -926.185831         27               высшее             0   \n",
       "6          0   -2879.202052         43               высшее             0   \n",
       "7          0    -152.779569         50              СРЕДНЕЕ             1   \n",
       "8          2   -6929.865299         35               ВЫСШЕЕ             0   \n",
       "9          0   -2188.756445         41              среднее             1   \n",
       "10         2   -4171.483647         36               высшее             0   \n",
       "11         0    -792.701887         40              среднее             1   \n",
       "12         0            NaN         65              среднее             1   \n",
       "13         0   -1846.641941         54  неоконченное высшее             2   \n",
       "14         0   -1844.956182         56               высшее             0   \n",
       "15         1    -972.364419         26              среднее             1   \n",
       "16         0   -1719.934226         35              среднее             1   \n",
       "17         0   -2369.999720         33               высшее             0   \n",
       "18         0  400281.136913         53              среднее             1   \n",
       "19         0  -10038.818549         48              СРЕДНЕЕ             1   \n",
       "\n",
       "       family_status  family_status_id gender income_type  debt  \\\n",
       "0    женат / замужем                 0      F   сотрудник     0   \n",
       "1    женат / замужем                 0      F   сотрудник     0   \n",
       "2    женат / замужем                 0      M   сотрудник     0   \n",
       "3    женат / замужем                 0      M   сотрудник     0   \n",
       "4   гражданский брак                 1      F   пенсионер     0   \n",
       "5   гражданский брак                 1      M   компаньон     0   \n",
       "6    женат / замужем                 0      F   компаньон     0   \n",
       "7    женат / замужем                 0      M   сотрудник     0   \n",
       "8   гражданский брак                 1      F   сотрудник     0   \n",
       "9    женат / замужем                 0      M   сотрудник     0   \n",
       "10   женат / замужем                 0      M   компаньон     0   \n",
       "11   женат / замужем                 0      F   сотрудник     0   \n",
       "12  гражданский брак                 1      M   пенсионер     0   \n",
       "13   женат / замужем                 0      F   сотрудник     0   \n",
       "14  гражданский брак                 1      F   компаньон     1   \n",
       "15   женат / замужем                 0      F   сотрудник     0   \n",
       "16   женат / замужем                 0      F   сотрудник     0   \n",
       "17  гражданский брак                 1      M   сотрудник     0   \n",
       "18    вдовец / вдова                 2      F   пенсионер     0   \n",
       "19         в разводе                 3      F   сотрудник     0   \n",
       "\n",
       "     total_income                                 purpose  \n",
       "0   253875.639453                           покупка жилья  \n",
       "1   112080.014102                 приобретение автомобиля  \n",
       "2   145885.952297                           покупка жилья  \n",
       "3   267628.550329              дополнительное образование  \n",
       "4   158616.077870                         сыграть свадьбу  \n",
       "5   255763.565419                           покупка жилья  \n",
       "6   240525.971920                       операции с жильем  \n",
       "7   135823.934197                             образование  \n",
       "8    95856.832424                   на проведение свадьбы  \n",
       "9   144425.938277                 покупка жилья для семьи  \n",
       "10  113943.491460                    покупка недвижимости  \n",
       "11   77069.234271       покупка коммерческой недвижимости  \n",
       "12            NaN                         сыграть свадьбу  \n",
       "13  130458.228857                 приобретение автомобиля  \n",
       "14  165127.911772              покупка жилой недвижимости  \n",
       "15  116820.904450  строительство собственной недвижимости  \n",
       "16  289202.704229                            недвижимость  \n",
       "17   90410.586745              строительство недвижимости  \n",
       "18   56823.777243      на покупку подержанного автомобиля  \n",
       "19  242831.107982            на покупку своего автомобиля  "
      ]
     },
     "execution_count": 196,
     "metadata": {},
     "output_type": "execute_result"
    }
   ],
   "source": [
    "# ваш код здесь\n",
    "data.head(20)"
   ]
  },
  {
   "cell_type": "markdown",
   "id": "1c12e233",
   "metadata": {
    "deletable": false,
    "editable": false,
    "id": "1c12e233",
    "tags": [
     "start_task"
    ]
   },
   "source": [
    "**Задание 3. Выведите основную информацию о датафрейме с помощью метода `info()`.**"
   ]
  },
  {
   "cell_type": "code",
   "execution_count": 197,
   "id": "2b757bca",
   "metadata": {
    "id": "2b757bca"
   },
   "outputs": [
    {
     "name": "stdout",
     "output_type": "stream",
     "text": [
      "<class 'pandas.core.frame.DataFrame'>\n",
      "RangeIndex: 21525 entries, 0 to 21524\n",
      "Data columns (total 12 columns):\n",
      " #   Column            Non-Null Count  Dtype  \n",
      "---  ------            --------------  -----  \n",
      " 0   children          21525 non-null  int64  \n",
      " 1   days_employed     19351 non-null  float64\n",
      " 2   dob_years         21525 non-null  int64  \n",
      " 3   education         21525 non-null  object \n",
      " 4   education_id      21525 non-null  int64  \n",
      " 5   family_status     21525 non-null  object \n",
      " 6   family_status_id  21525 non-null  int64  \n",
      " 7   gender            21525 non-null  object \n",
      " 8   income_type       21525 non-null  object \n",
      " 9   debt              21525 non-null  int64  \n",
      " 10  total_income      19351 non-null  float64\n",
      " 11  purpose           21525 non-null  object \n",
      "dtypes: float64(2), int64(5), object(5)\n",
      "memory usage: 2.0+ MB\n"
     ]
    }
   ],
   "source": [
    "# ваш код здесь\n",
    "data.info()"
   ]
  },
  {
   "cell_type": "markdown",
   "id": "333ec665",
   "metadata": {
    "deletable": false,
    "editable": false,
    "id": "333ec665"
   },
   "source": [
    "## Предобработка данных"
   ]
  },
  {
   "cell_type": "markdown",
   "id": "02d92d53",
   "metadata": {
    "deletable": false,
    "editable": false,
    "id": "02d92d53"
   },
   "source": [
    "### Удаление пропусков"
   ]
  },
  {
   "cell_type": "markdown",
   "id": "cd84967c",
   "metadata": {
    "deletable": false,
    "editable": false,
    "id": "cd84967c",
    "tags": [
     "start_task"
    ]
   },
   "source": [
    "**Задание 4. Выведите количество пропущенных значений для каждого столбца. Используйте комбинацию двух методов.**"
   ]
  },
  {
   "cell_type": "code",
   "execution_count": 198,
   "id": "7f9b2309",
   "metadata": {
    "id": "7f9b2309"
   },
   "outputs": [
    {
     "data": {
      "text/plain": [
       "children               0\n",
       "days_employed       2174\n",
       "dob_years              0\n",
       "education              0\n",
       "education_id           0\n",
       "family_status          0\n",
       "family_status_id       0\n",
       "gender                 0\n",
       "income_type            0\n",
       "debt                   0\n",
       "total_income        2174\n",
       "purpose                0\n",
       "dtype: int64"
      ]
     },
     "execution_count": 198,
     "metadata": {},
     "output_type": "execute_result"
    }
   ],
   "source": [
    "# ваш код здесь\n",
    "data.isna().sum()"
   ]
  },
  {
   "cell_type": "markdown",
   "id": "db86e27b",
   "metadata": {
    "deletable": false,
    "editable": false,
    "id": "db86e27b",
    "tags": [
     "start_task"
    ]
   },
   "source": [
    "**Задание 5. В двух столбцах есть пропущенные значения. Один из них — `days_employed`. Пропуски в этом столбце вы обработаете на следующем этапе. Другой столбец с пропущенными значениями — `total_income` — хранит данные о доходах. На сумму дохода сильнее всего влияет тип занятости, поэтому заполнить пропуски в этом столбце нужно медианным значением по каждому типу из столбца `income_type`. Например, у человека с типом занятости `сотрудник` пропуск в столбце `total_income` должен быть заполнен медианным доходом среди всех записей с тем же типом.**"
   ]
  },
  {
   "cell_type": "code",
   "execution_count": 199,
   "id": "42006a93",
   "metadata": {
    "id": "42006a93"
   },
   "outputs": [],
   "source": [
    "# ваш код здесь\n",
    "median_income_type = data.groupby('income_type')['total_income'].transform('median')\n",
    "data['total_income'] = data['total_income'].fillna(median_income_type)"
   ]
  },
  {
   "cell_type": "markdown",
   "id": "89da5ece",
   "metadata": {
    "deletable": false,
    "editable": false,
    "id": "89da5ece"
   },
   "source": [
    "### Обработка аномальных значений"
   ]
  },
  {
   "cell_type": "markdown",
   "id": "57964554",
   "metadata": {
    "deletable": false,
    "editable": false,
    "id": "57964554",
    "tags": [
     "start_task"
    ]
   },
   "source": [
    "**Задание 6. В данных могут встречаться артефакты (аномалии) — значения, которые не отражают действительность и появились по какой-то ошибке. Таким артефактом будет отрицательное количество дней трудового стажа в столбце `days_employed`. Для реальных данных это нормально. Обработайте значения в этом столбце: замените все отрицательные значения положительными с помощью метода `abs()`.**"
   ]
  },
  {
   "cell_type": "code",
   "execution_count": 200,
   "id": "f6f055bf",
   "metadata": {
    "id": "f6f055bf"
   },
   "outputs": [],
   "source": [
    "# ваш код здесь\n",
    "data['days_employed'] = data['days_employed'].abs()"
   ]
  },
  {
   "cell_type": "markdown",
   "id": "6107dd2f",
   "metadata": {
    "deletable": false,
    "editable": false,
    "id": "6107dd2f",
    "tags": [
     "start_task"
    ]
   },
   "source": [
    "**Задание 7. Для каждого типа занятости выведите медианное значение трудового стажа `days_employed` в днях.**"
   ]
  },
  {
   "cell_type": "code",
   "execution_count": 201,
   "id": "85a5faf6",
   "metadata": {
    "id": "85a5faf6"
   },
   "outputs": [
    {
     "data": {
      "text/plain": [
       "0          1574.202821\n",
       "1          1574.202821\n",
       "2          1574.202821\n",
       "3          1574.202821\n",
       "4        365213.306266\n",
       "             ...      \n",
       "21520      1547.382223\n",
       "21521    365213.306266\n",
       "21522      1574.202821\n",
       "21523      1574.202821\n",
       "21524      1574.202821\n",
       "Name: days_employed, Length: 21525, dtype: float64"
      ]
     },
     "execution_count": 201,
     "metadata": {},
     "output_type": "execute_result"
    }
   ],
   "source": [
    "# ваш код здесь\n",
    "# median_days_employed = data.groupby('income_type')['days_employed'].median()\n",
    "median_days_employed = data.groupby('income_type')['days_employed'].transform('median')\n",
    "median_days_employed"
   ]
  },
  {
   "cell_type": "markdown",
   "id": "38d1a030",
   "metadata": {
    "deletable": false,
    "editable": false,
    "id": "38d1a030"
   },
   "source": [
    "У двух типов (безработные и пенсионеры) получатся аномально большие значения. Исправить такие значения сложно, поэтому оставьте их как есть. Тем более этот столбец не понадобится вам для исследования."
   ]
  },
  {
   "cell_type": "markdown",
   "id": "d8a9f147",
   "metadata": {
    "deletable": false,
    "editable": false,
    "id": "d8a9f147",
    "tags": [
     "start_task"
    ]
   },
   "source": [
    "**Задание 8. Выведите перечень уникальных значений столбца `children`.**"
   ]
  },
  {
   "cell_type": "code",
   "execution_count": 202,
   "id": "ef5056eb",
   "metadata": {
    "id": "ef5056eb"
   },
   "outputs": [
    {
     "data": {
      "text/plain": [
       "array([ 1,  0,  3,  2, -1,  4, 20,  5])"
      ]
     },
     "execution_count": 202,
     "metadata": {},
     "output_type": "execute_result"
    }
   ],
   "source": [
    "# ваш код здесь\n",
    "data['children'].unique()"
   ]
  },
  {
   "cell_type": "markdown",
   "id": "40b9ebf2",
   "metadata": {
    "deletable": false,
    "editable": false,
    "id": "40b9ebf2",
    "tags": [
     "start_task"
    ]
   },
   "source": [
    "**Задание 9. В столбце `children` есть два аномальных значения. Удалите строки, в которых встречаются такие аномальные значения из датафрейма `data`.**"
   ]
  },
  {
   "cell_type": "code",
   "execution_count": 203,
   "id": "3ff9801d",
   "metadata": {
    "id": "3ff9801d"
   },
   "outputs": [],
   "source": [
    "# ваш код здесь\n",
    "data = data[data['children'] != -1]\n",
    "data = data[data['children'] != 20]"
   ]
  },
  {
   "cell_type": "markdown",
   "id": "bbc4d0ce",
   "metadata": {
    "deletable": false,
    "editable": false,
    "id": "bbc4d0ce",
    "tags": [
     "start_task"
    ]
   },
   "source": [
    "**Задание 10. Ещё раз выведите перечень уникальных значений столбца `children`, чтобы убедиться, что артефакты удалены.**"
   ]
  },
  {
   "cell_type": "code",
   "execution_count": 204,
   "id": "ad4fa8b7",
   "metadata": {
    "id": "ad4fa8b7"
   },
   "outputs": [
    {
     "data": {
      "text/plain": [
       "array([1, 0, 3, 2, 4, 5])"
      ]
     },
     "execution_count": 204,
     "metadata": {},
     "output_type": "execute_result"
    }
   ],
   "source": [
    "# ваш код здесь\n",
    "data['children'].unique()"
   ]
  },
  {
   "cell_type": "markdown",
   "id": "75440b63",
   "metadata": {
    "deletable": false,
    "editable": false,
    "id": "75440b63"
   },
   "source": [
    "### Удаление пропусков (продолжение)"
   ]
  },
  {
   "cell_type": "markdown",
   "id": "f4ea573f",
   "metadata": {
    "deletable": false,
    "editable": false,
    "id": "f4ea573f",
    "tags": [
     "start_task"
    ]
   },
   "source": [
    "**Задание 11. Заполните пропуски в столбце `days_employed` медианными значениями по каждому типу занятости `income_type`.**"
   ]
  },
  {
   "cell_type": "code",
   "execution_count": 205,
   "id": "af6b1a7e",
   "metadata": {
    "id": "af6b1a7e"
   },
   "outputs": [],
   "source": [
    "# ваш код здесь\n",
    "list_of_income_type = data['income_type'].unique()# список уникальных значений типа занятости\n",
    "median_days_employed = [] #список соответстующих медианных зачений\n",
    "\n",
    "for income_type_in_list in list_of_income_type:\n",
    "    median_days_employed.append(data[data['income_type'] == income_type_in_list]['days_employed'].median()) # находим медиану по каждому типу занятости\n",
    "\n",
    "\n",
    "#заполняем пропуски в столбце total_income полученными медианными значениями для каждого типа занятости\n",
    "for i in range(len(list_of_income_type)):\n",
    "    income_type_now = list_of_income_type[i]\n",
    "    median_days_employed_now = median_days_employed[i]\n",
    "    data.loc[(data['income_type'] == income_type_now)&(data['days_employed'].isna()),'days_employed'] = median_days_employed_now"
   ]
  },
  {
   "cell_type": "markdown",
   "id": "2753f40d",
   "metadata": {
    "deletable": false,
    "editable": false,
    "id": "2753f40d",
    "tags": [
     "start_task"
    ]
   },
   "source": [
    "**Задание 12. Убедитесь, что все пропуски заполнены. Проверьте себя и ещё раз выведите количество пропущенных значений для каждого столбца с помощью двух методов.**"
   ]
  },
  {
   "cell_type": "code",
   "execution_count": 206,
   "id": "55f78bc2",
   "metadata": {
    "id": "55f78bc2"
   },
   "outputs": [
    {
     "data": {
      "text/plain": [
       "children            0\n",
       "days_employed       0\n",
       "dob_years           0\n",
       "education           0\n",
       "education_id        0\n",
       "family_status       0\n",
       "family_status_id    0\n",
       "gender              0\n",
       "income_type         0\n",
       "debt                0\n",
       "total_income        0\n",
       "purpose             0\n",
       "dtype: int64"
      ]
     },
     "execution_count": 206,
     "metadata": {},
     "output_type": "execute_result"
    }
   ],
   "source": [
    "# ваш код здесь\n",
    "data.isna().sum()"
   ]
  },
  {
   "cell_type": "markdown",
   "id": "ddc81e43",
   "metadata": {
    "deletable": false,
    "editable": false,
    "id": "ddc81e43"
   },
   "source": [
    "### Изменение типов данных"
   ]
  },
  {
   "cell_type": "markdown",
   "id": "42d19d24",
   "metadata": {
    "deletable": false,
    "editable": false,
    "id": "42d19d24",
    "tags": [
     "start_task"
    ]
   },
   "source": [
    "**Задание 13. Замените вещественный тип данных в столбце `total_income` на целочисленный с помощью метода `astype()`.**"
   ]
  },
  {
   "cell_type": "code",
   "execution_count": 207,
   "id": "920b65ad",
   "metadata": {
    "id": "920b65ad"
   },
   "outputs": [],
   "source": [
    "# ваш код здесь\n",
    "data['total_income'] = data['total_income'].astype('int')"
   ]
  },
  {
   "cell_type": "markdown",
   "id": "80c420ba",
   "metadata": {
    "deletable": false,
    "editable": false,
    "id": "80c420ba"
   },
   "source": [
    "### Обработка дубликатов"
   ]
  },
  {
   "cell_type": "markdown",
   "id": "dc587695",
   "metadata": {
    "deletable": false,
    "editable": false,
    "id": "dc587695",
    "tags": [
     "start_task"
    ]
   },
   "source": [
    "**Задание 14. Выведите на экран количество строк-дубликатов в данных. Если такие строки присутствуют, удалите их.**"
   ]
  },
  {
   "cell_type": "code",
   "execution_count": 208,
   "id": "3ee445e4",
   "metadata": {
    "id": "3ee445e4"
   },
   "outputs": [],
   "source": [
    "# посчитайте дубликаты\n",
    "data['education'] = data['education'].str.lower()"
   ]
  },
  {
   "cell_type": "code",
   "execution_count": 209,
   "id": "8575fe05",
   "metadata": {
    "id": "8575fe05"
   },
   "outputs": [],
   "source": [
    "# удалите дубликаты\n",
    "data['education'] = data['education'].str.lower()"
   ]
  },
  {
   "cell_type": "markdown",
   "id": "9771a76c",
   "metadata": {
    "deletable": false,
    "editable": false,
    "id": "9771a76c",
    "tags": [
     "start_task"
    ]
   },
   "source": [
    "**Задание 15. Обработайте неявные дубликаты в столбце `education`. В этом столбце есть одни и те же значения, но записанные по-разному: с использованием заглавных и строчных букв. Приведите их к нижнему регистру.**"
   ]
  },
  {
   "cell_type": "code",
   "execution_count": 210,
   "id": "a9f8e2bf",
   "metadata": {
    "id": "a9f8e2bf"
   },
   "outputs": [],
   "source": [
    "# ваш код здесь\n",
    "data.duplicated().sum()\n",
    "data = data.drop_duplicates()"
   ]
  },
  {
   "cell_type": "markdown",
   "id": "9904cf55",
   "metadata": {
    "deletable": false,
    "editable": false,
    "id": "9904cf55"
   },
   "source": [
    "### Категоризация данных"
   ]
  },
  {
   "cell_type": "markdown",
   "id": "72fcc8a2",
   "metadata": {
    "deletable": false,
    "editable": false,
    "id": "72fcc8a2",
    "tags": [
     "start_task"
    ]
   },
   "source": [
    "**Задание 16. На основании диапазонов, указанных ниже, создайте в датафрейме `data` столбец `total_income_category` с категориями:**\n",
    "\n",
    "- 0–30000 — `'E'`;\n",
    "- 30001–50000 — `'D'`;\n",
    "- 50001–200000 — `'C'`;\n",
    "- 200001–1000000 — `'B'`;\n",
    "- 1000001 и выше — `'A'`.\n",
    "\n",
    "\n",
    "**Например, кредитополучателю с доходом 25000 нужно назначить категорию `'E'`, а клиенту, получающему 235000, — `'B'`. Используйте собственную функцию с именем `categorize_income()` и метод `apply()`.**"
   ]
  },
  {
   "cell_type": "code",
   "execution_count": 211,
   "id": "e1771346",
   "metadata": {
    "id": "e1771346"
   },
   "outputs": [],
   "source": [
    "# создайте функцию categorize_income()\n",
    "def categorize_income(total_income_category):\n",
    "    if(total_income_category <= 30000):\n",
    "        return 'E'\n",
    "    elif(total_income_category <= 50000):\n",
    "        return 'D'\n",
    "    elif(total_income_category <= 200000):\n",
    "        return 'C'\n",
    "    elif(total_income_category <= 1000000):\n",
    "        return 'B'\n",
    "    else:\n",
    "        return 'A'"
   ]
  },
  {
   "cell_type": "code",
   "execution_count": 212,
   "id": "d5f3586d",
   "metadata": {
    "id": "d5f3586d"
   },
   "outputs": [],
   "source": [
    "# примените функцию методом apply()\n",
    "data['total_income_category'] = data['total_income'].apply(categorize_income)"
   ]
  },
  {
   "cell_type": "markdown",
   "id": "dde49b5c",
   "metadata": {
    "deletable": false,
    "editable": false,
    "id": "dde49b5c",
    "tags": [
     "start_task"
    ]
   },
   "source": [
    "**Задание 17. Выведите на экран перечень уникальных целей взятия кредита из столбца `purpose`.**"
   ]
  },
  {
   "cell_type": "code",
   "execution_count": 213,
   "id": "f67ce9b3",
   "metadata": {
    "id": "f67ce9b3"
   },
   "outputs": [
    {
     "data": {
      "text/plain": [
       "array(['покупка жилья', 'приобретение автомобиля',\n",
       "       'дополнительное образование', 'сыграть свадьбу',\n",
       "       'операции с жильем', 'образование', 'на проведение свадьбы',\n",
       "       'покупка жилья для семьи', 'покупка недвижимости',\n",
       "       'покупка коммерческой недвижимости', 'покупка жилой недвижимости',\n",
       "       'строительство собственной недвижимости', 'недвижимость',\n",
       "       'строительство недвижимости', 'на покупку подержанного автомобиля',\n",
       "       'на покупку своего автомобиля',\n",
       "       'операции с коммерческой недвижимостью',\n",
       "       'строительство жилой недвижимости', 'жилье',\n",
       "       'операции со своей недвижимостью', 'автомобили',\n",
       "       'заняться образованием', 'сделка с подержанным автомобилем',\n",
       "       'получение образования', 'автомобиль', 'свадьба',\n",
       "       'получение дополнительного образования', 'покупка своего жилья',\n",
       "       'операции с недвижимостью', 'получение высшего образования',\n",
       "       'свой автомобиль', 'сделка с автомобилем',\n",
       "       'профильное образование', 'высшее образование',\n",
       "       'покупка жилья для сдачи', 'на покупку автомобиля', 'ремонт жилью',\n",
       "       'заняться высшим образованием'], dtype=object)"
      ]
     },
     "execution_count": 213,
     "metadata": {},
     "output_type": "execute_result"
    }
   ],
   "source": [
    "# ваш код здесь\n",
    "data['purpose'].unique()"
   ]
  },
  {
   "cell_type": "markdown",
   "id": "85d0aef0",
   "metadata": {
    "deletable": false,
    "editable": false,
    "id": "85d0aef0",
    "tags": [
     "start_task"
    ]
   },
   "source": [
    "**Задание 18. Создайте функцию, которая на основании данных из столбца `purpose` сформирует новый столбец `purpose_category`, в который войдут следующие категории:**\n",
    "\n",
    "- `'операции с автомобилем'`,\n",
    "- `'операции с недвижимостью'`,\n",
    "- `'проведение свадьбы'`,\n",
    "- `'получение образования'`.\n",
    "\n",
    "**Например, если в столбце `purpose` находится подстрока `'на покупку автомобиля'`, то в столбце `purpose_category` должна появиться строка `'операции с автомобилем'`.**\n",
    "\n",
    "**Используйте собственную функцию с именем `categorize_purpose()` и метод `apply()`. Изучите данные в столбце `purpose` и определите, какие подстроки помогут вам правильно определить категорию.**"
   ]
  },
  {
   "cell_type": "code",
   "execution_count": 263,
   "id": "e149fab4",
   "metadata": {
    "id": "e149fab4"
   },
   "outputs": [],
   "source": [
    "# создайте функцию categorize_purpose()\n",
    "def categorize_purpose(type_purpose):\n",
    "    if (type_purpose.find('автомоб') != -1):\n",
    "        type_purpose = 'операции с автомобилем'\n",
    "        return type_purpose\n",
    "    elif (type_purpose.find('недвижим') != -1 or type_purpose.find('жиль') != -1):\n",
    "        type_purpose = 'операции с недвижимостью'\n",
    "        return type_purpose\n",
    "    elif (type_purpose.find('свадьб') != -1):\n",
    "        type_purpose = 'проведение свадьбы'\n",
    "        return type_purpose\n",
    "    elif (type_purpose.find('образов') != -1):\n",
    "        type_purpose = 'получение образования'\n",
    "        return type_purpose\n",
    "    else:\n",
    "        return type_purpose"
   ]
  },
  {
   "cell_type": "code",
   "execution_count": 264,
   "id": "bf36e69b",
   "metadata": {
    "id": "bf36e69b"
   },
   "outputs": [],
   "source": [
    "# примените функцию методом apply()\n",
    "data['purpose_category'] = data['purpose'].apply(categorize_purpose)"
   ]
  }
 ],
 "metadata": {
  "ExecuteTimeLog": [
   {
    "duration": 402,
    "start_time": "2022-11-02T18:45:20.693Z"
   },
   {
    "duration": 307,
    "start_time": "2022-11-02T18:45:21.215Z"
   },
   {
    "duration": 10,
    "start_time": "2022-11-02T18:45:21.941Z"
   },
   {
    "duration": 14,
    "start_time": "2022-11-02T18:46:05.302Z"
   },
   {
    "duration": 13,
    "start_time": "2022-11-02T18:47:26.648Z"
   },
   {
    "duration": 10,
    "start_time": "2022-11-02T18:49:23.104Z"
   },
   {
    "duration": 6,
    "start_time": "2022-11-02T18:49:29.814Z"
   },
   {
    "duration": 7,
    "start_time": "2022-11-02T18:49:37.272Z"
   },
   {
    "duration": 7,
    "start_time": "2022-11-02T18:49:51.256Z"
   },
   {
    "duration": 5,
    "start_time": "2022-11-02T18:49:53.673Z"
   },
   {
    "duration": 5,
    "start_time": "2022-11-02T18:49:59.100Z"
   },
   {
    "duration": 3,
    "start_time": "2022-11-02T18:50:30.668Z"
   },
   {
    "duration": 4,
    "start_time": "2022-11-02T18:50:36.675Z"
   },
   {
    "duration": 5,
    "start_time": "2022-11-02T18:52:37.872Z"
   },
   {
    "duration": 7,
    "start_time": "2022-11-02T18:52:44.155Z"
   },
   {
    "duration": 6,
    "start_time": "2022-11-02T18:52:46.724Z"
   },
   {
    "duration": 4,
    "start_time": "2022-11-02T18:52:57.796Z"
   },
   {
    "duration": 5,
    "start_time": "2022-11-02T18:53:08.247Z"
   },
   {
    "duration": 3,
    "start_time": "2022-11-02T18:53:15.835Z"
   },
   {
    "duration": 6,
    "start_time": "2022-11-02T18:53:25.606Z"
   },
   {
    "duration": 6,
    "start_time": "2022-11-02T18:53:47.535Z"
   },
   {
    "duration": 4,
    "start_time": "2022-11-02T18:53:51.822Z"
   },
   {
    "duration": 4,
    "start_time": "2022-11-02T18:53:57.687Z"
   },
   {
    "duration": 9,
    "start_time": "2022-11-02T18:55:09.283Z"
   },
   {
    "duration": 7,
    "start_time": "2022-11-02T18:57:21.595Z"
   },
   {
    "duration": 7,
    "start_time": "2022-11-02T18:57:43.417Z"
   },
   {
    "duration": 10,
    "start_time": "2022-11-02T18:57:47.613Z"
   },
   {
    "duration": 30,
    "start_time": "2022-11-02T19:03:28.977Z"
   },
   {
    "duration": 22,
    "start_time": "2022-11-02T19:04:49.173Z"
   },
   {
    "duration": 22,
    "start_time": "2022-11-02T19:05:11.052Z"
   },
   {
    "duration": 829,
    "start_time": "2022-11-02T19:07:16.363Z"
   },
   {
    "duration": 763,
    "start_time": "2022-11-02T19:07:31.544Z"
   },
   {
    "duration": 47,
    "start_time": "2022-11-02T19:08:31.152Z"
   },
   {
    "duration": 52,
    "start_time": "2022-11-02T19:09:51.737Z"
   },
   {
    "duration": 49,
    "start_time": "2022-11-02T19:10:05.695Z"
   },
   {
    "duration": 10,
    "start_time": "2022-11-02T19:12:38.081Z"
   },
   {
    "duration": 42,
    "start_time": "2022-11-02T19:12:39.339Z"
   },
   {
    "duration": 3,
    "start_time": "2022-11-02T19:13:04.107Z"
   },
   {
    "duration": 72,
    "start_time": "2022-11-02T19:13:04.111Z"
   },
   {
    "duration": 8,
    "start_time": "2022-11-02T19:13:04.185Z"
   },
   {
    "duration": 16,
    "start_time": "2022-11-02T19:13:04.194Z"
   },
   {
    "duration": 12,
    "start_time": "2022-11-02T19:13:04.212Z"
   },
   {
    "duration": 44,
    "start_time": "2022-11-02T19:13:04.226Z"
   },
   {
    "duration": 4,
    "start_time": "2022-11-02T19:13:04.271Z"
   },
   {
    "duration": 5,
    "start_time": "2022-11-02T19:13:04.276Z"
   },
   {
    "duration": 4,
    "start_time": "2022-11-02T19:13:04.283Z"
   },
   {
    "duration": 4,
    "start_time": "2022-11-02T19:13:04.288Z"
   },
   {
    "duration": 4,
    "start_time": "2022-11-02T19:13:04.294Z"
   },
   {
    "duration": 23,
    "start_time": "2022-11-02T19:13:04.299Z"
   },
   {
    "duration": 5,
    "start_time": "2022-11-02T19:13:04.324Z"
   },
   {
    "duration": 9,
    "start_time": "2022-11-02T19:13:04.330Z"
   },
   {
    "duration": 4,
    "start_time": "2022-11-02T19:13:04.340Z"
   },
   {
    "duration": 5,
    "start_time": "2022-11-02T19:13:04.345Z"
   },
   {
    "duration": 5,
    "start_time": "2022-11-02T19:13:04.351Z"
   },
   {
    "duration": 5,
    "start_time": "2022-11-02T19:13:04.358Z"
   },
   {
    "duration": 5,
    "start_time": "2022-11-02T19:13:04.364Z"
   },
   {
    "duration": 4,
    "start_time": "2022-11-02T19:13:04.370Z"
   },
   {
    "duration": 4,
    "start_time": "2022-11-02T19:13:04.375Z"
   },
   {
    "duration": 4,
    "start_time": "2022-11-02T19:13:04.380Z"
   },
   {
    "duration": 2,
    "start_time": "2022-11-02T19:13:10.539Z"
   },
   {
    "duration": 2,
    "start_time": "2022-11-02T19:13:14.732Z"
   },
   {
    "duration": 74,
    "start_time": "2022-11-02T19:13:14.737Z"
   },
   {
    "duration": 7,
    "start_time": "2022-11-02T19:13:14.813Z"
   },
   {
    "duration": 17,
    "start_time": "2022-11-02T19:13:14.822Z"
   },
   {
    "duration": 9,
    "start_time": "2022-11-02T19:13:14.840Z"
   },
   {
    "duration": 47,
    "start_time": "2022-11-02T19:13:14.850Z"
   },
   {
    "duration": 3,
    "start_time": "2022-11-02T19:13:14.899Z"
   },
   {
    "duration": 18,
    "start_time": "2022-11-02T19:13:14.904Z"
   },
   {
    "duration": 3,
    "start_time": "2022-11-02T19:13:14.923Z"
   },
   {
    "duration": 5,
    "start_time": "2022-11-02T19:13:14.927Z"
   },
   {
    "duration": 4,
    "start_time": "2022-11-02T19:13:14.934Z"
   },
   {
    "duration": 4,
    "start_time": "2022-11-02T19:13:14.939Z"
   },
   {
    "duration": 4,
    "start_time": "2022-11-02T19:13:14.944Z"
   },
   {
    "duration": 4,
    "start_time": "2022-11-02T19:13:14.950Z"
   },
   {
    "duration": 4,
    "start_time": "2022-11-02T19:13:14.955Z"
   },
   {
    "duration": 4,
    "start_time": "2022-11-02T19:13:14.960Z"
   },
   {
    "duration": 4,
    "start_time": "2022-11-02T19:13:14.966Z"
   },
   {
    "duration": 5,
    "start_time": "2022-11-02T19:13:14.971Z"
   },
   {
    "duration": 5,
    "start_time": "2022-11-02T19:13:14.977Z"
   },
   {
    "duration": 5,
    "start_time": "2022-11-02T19:13:14.983Z"
   },
   {
    "duration": 7,
    "start_time": "2022-11-02T19:13:14.989Z"
   },
   {
    "duration": 25,
    "start_time": "2022-11-02T19:13:14.997Z"
   },
   {
    "duration": 2,
    "start_time": "2022-11-02T19:13:18.867Z"
   },
   {
    "duration": 3,
    "start_time": "2022-11-02T19:13:19.232Z"
   },
   {
    "duration": 66,
    "start_time": "2022-11-02T19:13:23.115Z"
   },
   {
    "duration": 40,
    "start_time": "2022-11-02T19:13:50.679Z"
   },
   {
    "duration": 3,
    "start_time": "2022-11-02T19:14:06.006Z"
   },
   {
    "duration": 66,
    "start_time": "2022-11-02T19:14:06.669Z"
   },
   {
    "duration": 7,
    "start_time": "2022-11-02T19:14:07.664Z"
   },
   {
    "duration": 13,
    "start_time": "2022-11-02T19:14:09.868Z"
   },
   {
    "duration": 10,
    "start_time": "2022-11-02T19:14:11.498Z"
   },
   {
    "duration": 40,
    "start_time": "2022-11-02T19:14:12.867Z"
   },
   {
    "duration": 44,
    "start_time": "2022-11-02T19:16:36.510Z"
   },
   {
    "duration": 5,
    "start_time": "2022-11-02T19:19:49.918Z"
   },
   {
    "duration": 5,
    "start_time": "2022-11-02T19:19:53.667Z"
   },
   {
    "duration": 3,
    "start_time": "2022-11-02T19:20:25.875Z"
   },
   {
    "duration": 5,
    "start_time": "2022-11-02T19:20:40.191Z"
   },
   {
    "duration": 8,
    "start_time": "2022-11-02T19:20:58.999Z"
   },
   {
    "duration": 6,
    "start_time": "2022-11-02T19:21:01.698Z"
   },
   {
    "duration": 12,
    "start_time": "2022-11-02T19:21:04.380Z"
   },
   {
    "duration": 6,
    "start_time": "2022-11-02T19:21:12.293Z"
   },
   {
    "duration": 6,
    "start_time": "2022-11-02T19:21:16.748Z"
   },
   {
    "duration": 6,
    "start_time": "2022-11-02T19:21:21.809Z"
   },
   {
    "duration": 5,
    "start_time": "2022-11-02T19:21:26.868Z"
   },
   {
    "duration": 6,
    "start_time": "2022-11-02T19:21:31.119Z"
   },
   {
    "duration": 7,
    "start_time": "2022-11-02T19:22:40.251Z"
   },
   {
    "duration": 7,
    "start_time": "2022-11-02T19:22:48.359Z"
   },
   {
    "duration": 8,
    "start_time": "2022-11-02T19:22:51.757Z"
   },
   {
    "duration": 8,
    "start_time": "2022-11-02T19:22:54.670Z"
   },
   {
    "duration": 7,
    "start_time": "2022-11-02T19:22:55.306Z"
   },
   {
    "duration": 4,
    "start_time": "2022-11-02T19:22:59.494Z"
   },
   {
    "duration": 5,
    "start_time": "2022-11-02T19:23:02.653Z"
   },
   {
    "duration": 46,
    "start_time": "2022-11-02T19:23:24.494Z"
   },
   {
    "duration": 5,
    "start_time": "2022-11-02T19:23:25.886Z"
   },
   {
    "duration": 2,
    "start_time": "2022-11-02T19:23:29.583Z"
   },
   {
    "duration": 76,
    "start_time": "2022-11-02T19:23:29.587Z"
   },
   {
    "duration": 8,
    "start_time": "2022-11-02T19:23:29.665Z"
   },
   {
    "duration": 21,
    "start_time": "2022-11-02T19:23:29.674Z"
   },
   {
    "duration": 10,
    "start_time": "2022-11-02T19:23:29.696Z"
   },
   {
    "duration": 55,
    "start_time": "2022-11-02T19:23:29.707Z"
   },
   {
    "duration": 4,
    "start_time": "2022-11-02T19:23:29.764Z"
   },
   {
    "duration": 4,
    "start_time": "2022-11-02T19:23:29.769Z"
   },
   {
    "duration": 5,
    "start_time": "2022-11-02T19:23:29.774Z"
   },
   {
    "duration": 6,
    "start_time": "2022-11-02T19:23:29.780Z"
   },
   {
    "duration": 6,
    "start_time": "2022-11-02T19:23:29.787Z"
   },
   {
    "duration": 16,
    "start_time": "2022-11-02T19:23:29.794Z"
   },
   {
    "duration": 10,
    "start_time": "2022-11-02T19:23:29.812Z"
   },
   {
    "duration": 7,
    "start_time": "2022-11-02T19:23:29.824Z"
   },
   {
    "duration": 7,
    "start_time": "2022-11-02T19:23:29.832Z"
   },
   {
    "duration": 22,
    "start_time": "2022-11-02T19:23:29.840Z"
   },
   {
    "duration": 7,
    "start_time": "2022-11-02T19:23:29.864Z"
   },
   {
    "duration": 7,
    "start_time": "2022-11-02T19:23:29.873Z"
   },
   {
    "duration": 19,
    "start_time": "2022-11-02T19:23:29.882Z"
   },
   {
    "duration": 12,
    "start_time": "2022-11-02T19:23:29.903Z"
   },
   {
    "duration": 15,
    "start_time": "2022-11-02T19:23:29.916Z"
   },
   {
    "duration": 10,
    "start_time": "2022-11-02T19:23:29.932Z"
   },
   {
    "duration": 9,
    "start_time": "2022-11-02T19:23:43.689Z"
   },
   {
    "duration": 7,
    "start_time": "2022-11-02T19:23:50.329Z"
   },
   {
    "duration": 10,
    "start_time": "2022-11-02T19:23:56.018Z"
   },
   {
    "duration": 8,
    "start_time": "2022-11-02T19:23:58.071Z"
   },
   {
    "duration": 8,
    "start_time": "2022-11-02T19:24:00.249Z"
   },
   {
    "duration": 3,
    "start_time": "2022-11-02T19:24:14.415Z"
   },
   {
    "duration": 4,
    "start_time": "2022-11-02T19:24:16.001Z"
   },
   {
    "duration": 621,
    "start_time": "2022-11-02T19:30:26.610Z"
   },
   {
    "duration": 195,
    "start_time": "2022-11-02T19:30:27.234Z"
   },
   {
    "duration": 15,
    "start_time": "2022-11-02T19:30:27.431Z"
   },
   {
    "duration": 78,
    "start_time": "2022-11-02T19:30:27.449Z"
   },
   {
    "duration": 23,
    "start_time": "2022-11-02T19:30:27.529Z"
   },
   {
    "duration": 168,
    "start_time": "2022-11-02T19:30:27.554Z"
   },
   {
    "duration": 6,
    "start_time": "2022-11-02T19:30:27.725Z"
   },
   {
    "duration": 215,
    "start_time": "2022-11-02T19:30:27.733Z"
   },
   {
    "duration": 0,
    "start_time": "2022-11-02T19:30:27.950Z"
   },
   {
    "duration": 0,
    "start_time": "2022-11-02T19:30:27.952Z"
   },
   {
    "duration": 0,
    "start_time": "2022-11-02T19:30:27.957Z"
   },
   {
    "duration": 0,
    "start_time": "2022-11-02T19:30:27.958Z"
   },
   {
    "duration": 0,
    "start_time": "2022-11-02T19:30:27.959Z"
   },
   {
    "duration": 0,
    "start_time": "2022-11-02T19:30:27.960Z"
   },
   {
    "duration": 0,
    "start_time": "2022-11-02T19:30:27.962Z"
   },
   {
    "duration": 0,
    "start_time": "2022-11-02T19:30:27.963Z"
   },
   {
    "duration": 0,
    "start_time": "2022-11-02T19:30:28.024Z"
   },
   {
    "duration": 0,
    "start_time": "2022-11-02T19:30:28.025Z"
   },
   {
    "duration": 0,
    "start_time": "2022-11-02T19:30:28.027Z"
   },
   {
    "duration": 0,
    "start_time": "2022-11-02T19:30:28.028Z"
   },
   {
    "duration": 0,
    "start_time": "2022-11-02T19:30:28.029Z"
   },
   {
    "duration": 0,
    "start_time": "2022-11-02T19:30:28.030Z"
   },
   {
    "duration": 35,
    "start_time": "2022-11-02T19:30:48.205Z"
   },
   {
    "duration": 34,
    "start_time": "2022-11-02T19:30:51.837Z"
   },
   {
    "duration": 32,
    "start_time": "2022-11-02T19:31:08.557Z"
   },
   {
    "duration": 36,
    "start_time": "2022-11-02T19:31:15.630Z"
   },
   {
    "duration": 39,
    "start_time": "2022-11-02T19:31:22.126Z"
   },
   {
    "duration": 45,
    "start_time": "2022-11-02T19:31:46.614Z"
   },
   {
    "duration": 78,
    "start_time": "2022-11-02T19:32:46.648Z"
   },
   {
    "duration": 106,
    "start_time": "2022-11-02T19:32:51.043Z"
   },
   {
    "duration": 67,
    "start_time": "2022-11-02T19:33:04.788Z"
   },
   {
    "duration": 4,
    "start_time": "2022-11-02T19:33:57.569Z"
   },
   {
    "duration": 14,
    "start_time": "2022-11-02T19:35:04.632Z"
   },
   {
    "duration": 4,
    "start_time": "2022-11-02T19:35:05.629Z"
   },
   {
    "duration": 33,
    "start_time": "2022-11-02T19:35:16.089Z"
   },
   {
    "duration": 5,
    "start_time": "2022-11-02T19:35:17.344Z"
   },
   {
    "duration": 4,
    "start_time": "2022-11-02T19:35:18.626Z"
   },
   {
    "duration": 13,
    "start_time": "2022-11-02T19:35:19.570Z"
   },
   {
    "duration": 4,
    "start_time": "2022-11-02T19:35:20.524Z"
   },
   {
    "duration": 10,
    "start_time": "2022-11-02T19:35:21.366Z"
   },
   {
    "duration": 4,
    "start_time": "2022-11-02T19:35:22.290Z"
   },
   {
    "duration": 11,
    "start_time": "2022-11-02T19:35:27.840Z"
   },
   {
    "duration": 2,
    "start_time": "2022-11-02T19:35:31.274Z"
   },
   {
    "duration": 145,
    "start_time": "2022-11-02T19:35:31.278Z"
   },
   {
    "duration": 8,
    "start_time": "2022-11-02T19:35:31.425Z"
   },
   {
    "duration": 41,
    "start_time": "2022-11-02T19:35:31.434Z"
   },
   {
    "duration": 9,
    "start_time": "2022-11-02T19:35:31.522Z"
   },
   {
    "duration": 111,
    "start_time": "2022-11-02T19:35:31.533Z"
   },
   {
    "duration": 2,
    "start_time": "2022-11-02T19:35:31.646Z"
   },
   {
    "duration": 105,
    "start_time": "2022-11-02T19:35:31.650Z"
   },
   {
    "duration": 8,
    "start_time": "2022-11-02T19:35:31.756Z"
   },
   {
    "duration": 10,
    "start_time": "2022-11-02T19:35:31.822Z"
   },
   {
    "duration": 13,
    "start_time": "2022-11-02T19:35:31.835Z"
   },
   {
    "duration": 6,
    "start_time": "2022-11-02T19:35:31.850Z"
   },
   {
    "duration": 68,
    "start_time": "2022-11-02T19:35:31.858Z"
   },
   {
    "duration": 16,
    "start_time": "2022-11-02T19:35:31.928Z"
   },
   {
    "duration": 31,
    "start_time": "2022-11-02T19:35:31.945Z"
   },
   {
    "duration": 44,
    "start_time": "2022-11-02T19:35:31.978Z"
   },
   {
    "duration": 12,
    "start_time": "2022-11-02T19:35:32.024Z"
   },
   {
    "duration": 23,
    "start_time": "2022-11-02T19:35:32.037Z"
   },
   {
    "duration": 18,
    "start_time": "2022-11-02T19:35:32.062Z"
   },
   {
    "duration": 40,
    "start_time": "2022-11-02T19:35:32.082Z"
   },
   {
    "duration": 8,
    "start_time": "2022-11-02T19:35:32.124Z"
   },
   {
    "duration": 19,
    "start_time": "2022-11-02T19:35:32.134Z"
   },
   {
    "duration": 6,
    "start_time": "2022-11-02T19:37:11.342Z"
   },
   {
    "duration": 18,
    "start_time": "2022-11-02T19:37:16.012Z"
   },
   {
    "duration": 13,
    "start_time": "2022-11-02T19:39:13.514Z"
   },
   {
    "duration": 8,
    "start_time": "2022-11-02T19:39:14.917Z"
   },
   {
    "duration": 5,
    "start_time": "2022-11-02T19:39:31.394Z"
   },
   {
    "duration": 11,
    "start_time": "2022-11-02T19:39:32.389Z"
   },
   {
    "duration": 3,
    "start_time": "2022-11-02T19:39:40.166Z"
   },
   {
    "duration": 93,
    "start_time": "2022-11-02T19:39:40.171Z"
   },
   {
    "duration": 58,
    "start_time": "2022-11-02T19:39:40.266Z"
   },
   {
    "duration": 15,
    "start_time": "2022-11-02T19:39:40.326Z"
   },
   {
    "duration": 9,
    "start_time": "2022-11-02T19:39:40.343Z"
   },
   {
    "duration": 105,
    "start_time": "2022-11-02T19:39:40.353Z"
   },
   {
    "duration": 3,
    "start_time": "2022-11-02T19:39:40.459Z"
   },
   {
    "duration": 27,
    "start_time": "2022-11-02T19:39:40.522Z"
   },
   {
    "duration": 5,
    "start_time": "2022-11-02T19:39:40.551Z"
   },
   {
    "duration": 69,
    "start_time": "2022-11-02T19:39:40.559Z"
   },
   {
    "duration": 0,
    "start_time": "2022-11-02T19:39:40.630Z"
   },
   {
    "duration": 0,
    "start_time": "2022-11-02T19:39:40.631Z"
   },
   {
    "duration": 0,
    "start_time": "2022-11-02T19:39:40.632Z"
   },
   {
    "duration": 0,
    "start_time": "2022-11-02T19:39:40.633Z"
   },
   {
    "duration": 0,
    "start_time": "2022-11-02T19:39:40.634Z"
   },
   {
    "duration": 0,
    "start_time": "2022-11-02T19:39:40.635Z"
   },
   {
    "duration": 0,
    "start_time": "2022-11-02T19:39:40.636Z"
   },
   {
    "duration": 0,
    "start_time": "2022-11-02T19:39:40.638Z"
   },
   {
    "duration": 0,
    "start_time": "2022-11-02T19:39:40.639Z"
   },
   {
    "duration": 0,
    "start_time": "2022-11-02T19:39:40.640Z"
   },
   {
    "duration": 0,
    "start_time": "2022-11-02T19:39:40.641Z"
   },
   {
    "duration": 0,
    "start_time": "2022-11-02T19:39:40.642Z"
   },
   {
    "duration": 8,
    "start_time": "2022-11-02T19:40:32.236Z"
   },
   {
    "duration": 70,
    "start_time": "2022-11-02T19:40:59.872Z"
   },
   {
    "duration": 21,
    "start_time": "2022-11-02T19:41:04.907Z"
   },
   {
    "duration": 4,
    "start_time": "2022-11-02T19:41:14.449Z"
   },
   {
    "duration": 8,
    "start_time": "2022-11-02T19:41:21.792Z"
   },
   {
    "duration": 8,
    "start_time": "2022-11-02T19:41:23.840Z"
   },
   {
    "duration": 8,
    "start_time": "2022-11-02T19:44:11.466Z"
   },
   {
    "duration": 3,
    "start_time": "2022-11-02T19:44:37.637Z"
   },
   {
    "duration": 30,
    "start_time": "2022-11-02T19:44:40.805Z"
   },
   {
    "duration": 8,
    "start_time": "2022-11-02T19:44:52.783Z"
   },
   {
    "duration": 14,
    "start_time": "2022-11-02T19:47:18.772Z"
   },
   {
    "duration": 15,
    "start_time": "2022-11-02T19:51:32.832Z"
   },
   {
    "duration": 12,
    "start_time": "2022-11-02T19:51:43.779Z"
   },
   {
    "duration": 9,
    "start_time": "2022-11-02T19:54:19.545Z"
   },
   {
    "duration": 10,
    "start_time": "2022-11-02T19:54:28.539Z"
   },
   {
    "duration": 6,
    "start_time": "2022-11-02T19:54:48.287Z"
   },
   {
    "duration": 9,
    "start_time": "2022-11-02T19:54:55.683Z"
   },
   {
    "duration": 481,
    "start_time": "2022-11-02T19:56:44.281Z"
   },
   {
    "duration": 9,
    "start_time": "2022-11-02T19:56:49.290Z"
   },
   {
    "duration": 8,
    "start_time": "2022-11-02T20:01:38.369Z"
   },
   {
    "duration": 4,
    "start_time": "2022-11-02T20:22:11.350Z"
   },
   {
    "duration": 66,
    "start_time": "2022-11-02T20:23:55.420Z"
   },
   {
    "duration": 59,
    "start_time": "2022-11-02T20:23:59.280Z"
   },
   {
    "duration": 53,
    "start_time": "2022-11-02T20:24:30.177Z"
   },
   {
    "duration": 14,
    "start_time": "2022-11-02T20:24:39.834Z"
   },
   {
    "duration": 43,
    "start_time": "2022-11-02T20:26:23.643Z"
   },
   {
    "duration": 3,
    "start_time": "2022-11-02T20:31:46.184Z"
   },
   {
    "duration": 32,
    "start_time": "2022-11-02T20:31:47.825Z"
   },
   {
    "duration": 10,
    "start_time": "2022-11-02T20:37:42.745Z"
   },
   {
    "duration": 14,
    "start_time": "2022-11-02T20:37:58.956Z"
   },
   {
    "duration": 10,
    "start_time": "2022-11-02T20:38:11.423Z"
   },
   {
    "duration": 2,
    "start_time": "2022-11-02T20:38:22.684Z"
   },
   {
    "duration": 68,
    "start_time": "2022-11-02T20:38:23.415Z"
   },
   {
    "duration": 11,
    "start_time": "2022-11-02T20:38:26.680Z"
   },
   {
    "duration": 12,
    "start_time": "2022-11-02T20:38:28.821Z"
   },
   {
    "duration": 2,
    "start_time": "2022-11-02T20:38:31.556Z"
   },
   {
    "duration": 84,
    "start_time": "2022-11-02T20:38:31.561Z"
   },
   {
    "duration": 14,
    "start_time": "2022-11-02T20:38:31.647Z"
   },
   {
    "duration": 14,
    "start_time": "2022-11-02T20:38:31.663Z"
   },
   {
    "duration": 9,
    "start_time": "2022-11-02T20:38:31.679Z"
   },
   {
    "duration": 62,
    "start_time": "2022-11-02T20:38:31.690Z"
   },
   {
    "duration": 3,
    "start_time": "2022-11-02T20:38:31.753Z"
   },
   {
    "duration": 37,
    "start_time": "2022-11-02T20:38:31.758Z"
   },
   {
    "duration": 3,
    "start_time": "2022-11-02T20:38:31.797Z"
   },
   {
    "duration": 25,
    "start_time": "2022-11-02T20:38:31.801Z"
   },
   {
    "duration": 0,
    "start_time": "2022-11-02T20:38:31.827Z"
   },
   {
    "duration": 0,
    "start_time": "2022-11-02T20:38:31.828Z"
   },
   {
    "duration": 0,
    "start_time": "2022-11-02T20:38:31.829Z"
   },
   {
    "duration": 0,
    "start_time": "2022-11-02T20:38:31.830Z"
   },
   {
    "duration": 0,
    "start_time": "2022-11-02T20:38:31.831Z"
   },
   {
    "duration": 0,
    "start_time": "2022-11-02T20:38:31.832Z"
   },
   {
    "duration": 0,
    "start_time": "2022-11-02T20:38:31.833Z"
   },
   {
    "duration": 0,
    "start_time": "2022-11-02T20:38:31.834Z"
   },
   {
    "duration": 0,
    "start_time": "2022-11-02T20:38:31.836Z"
   },
   {
    "duration": 0,
    "start_time": "2022-11-02T20:38:31.837Z"
   },
   {
    "duration": 0,
    "start_time": "2022-11-02T20:38:31.838Z"
   },
   {
    "duration": 0,
    "start_time": "2022-11-02T20:38:31.839Z"
   },
   {
    "duration": 6,
    "start_time": "2022-11-02T20:46:26.650Z"
   },
   {
    "duration": 7,
    "start_time": "2022-11-02T20:46:53.261Z"
   },
   {
    "duration": 729,
    "start_time": "2022-11-02T20:46:55.955Z"
   },
   {
    "duration": 6,
    "start_time": "2022-11-02T20:49:34.316Z"
   },
   {
    "duration": 12,
    "start_time": "2022-11-02T21:04:13.622Z"
   },
   {
    "duration": 12,
    "start_time": "2022-11-02T21:04:26.596Z"
   },
   {
    "duration": 44,
    "start_time": "2022-11-02T21:04:36.284Z"
   },
   {
    "duration": 58,
    "start_time": "2022-11-02T21:04:41.037Z"
   },
   {
    "duration": 100,
    "start_time": "2022-11-02T21:05:39.088Z"
   },
   {
    "duration": 107,
    "start_time": "2022-11-02T21:05:42.226Z"
   },
   {
    "duration": 47,
    "start_time": "2022-11-02T21:06:30.045Z"
   },
   {
    "duration": 47,
    "start_time": "2022-11-02T21:06:35.455Z"
   },
   {
    "duration": 17,
    "start_time": "2022-11-02T21:09:36.936Z"
   },
   {
    "duration": 29,
    "start_time": "2022-11-02T21:10:51.526Z"
   },
   {
    "duration": 32,
    "start_time": "2022-11-02T21:11:00.811Z"
   },
   {
    "duration": 33,
    "start_time": "2022-11-02T21:11:04.699Z"
   },
   {
    "duration": 22,
    "start_time": "2022-11-02T21:11:08.173Z"
   },
   {
    "duration": 9,
    "start_time": "2022-11-02T21:11:13.116Z"
   },
   {
    "duration": 25,
    "start_time": "2022-11-02T21:11:14.836Z"
   },
   {
    "duration": 12,
    "start_time": "2022-11-02T21:11:24.067Z"
   },
   {
    "duration": 11,
    "start_time": "2022-11-02T21:11:39.353Z"
   },
   {
    "duration": 14,
    "start_time": "2022-11-02T21:11:49.150Z"
   },
   {
    "duration": 3,
    "start_time": "2022-11-02T21:11:55.371Z"
   },
   {
    "duration": 12,
    "start_time": "2022-11-02T21:11:57.746Z"
   },
   {
    "duration": 10,
    "start_time": "2022-11-02T21:12:13.460Z"
   },
   {
    "duration": 86,
    "start_time": "2022-11-03T08:34:55.904Z"
   },
   {
    "duration": 8,
    "start_time": "2022-11-03T08:35:06.077Z"
   },
   {
    "duration": 485,
    "start_time": "2022-11-03T08:35:14.126Z"
   },
   {
    "duration": 339,
    "start_time": "2022-11-03T08:35:14.613Z"
   },
   {
    "duration": 24,
    "start_time": "2022-11-03T08:35:14.954Z"
   },
   {
    "duration": 18,
    "start_time": "2022-11-03T08:35:14.980Z"
   },
   {
    "duration": 12,
    "start_time": "2022-11-03T08:35:15.000Z"
   },
   {
    "duration": 55,
    "start_time": "2022-11-03T08:35:15.013Z"
   },
   {
    "duration": 0,
    "start_time": "2022-11-03T08:35:15.070Z"
   },
   {
    "duration": 0,
    "start_time": "2022-11-03T08:35:15.071Z"
   },
   {
    "duration": 0,
    "start_time": "2022-11-03T08:35:15.072Z"
   },
   {
    "duration": 0,
    "start_time": "2022-11-03T08:35:15.073Z"
   },
   {
    "duration": 0,
    "start_time": "2022-11-03T08:35:15.075Z"
   },
   {
    "duration": 0,
    "start_time": "2022-11-03T08:35:15.077Z"
   },
   {
    "duration": 0,
    "start_time": "2022-11-03T08:35:15.078Z"
   },
   {
    "duration": 0,
    "start_time": "2022-11-03T08:35:15.079Z"
   },
   {
    "duration": 0,
    "start_time": "2022-11-03T08:35:15.081Z"
   },
   {
    "duration": 0,
    "start_time": "2022-11-03T08:35:15.082Z"
   },
   {
    "duration": 0,
    "start_time": "2022-11-03T08:35:15.083Z"
   },
   {
    "duration": 0,
    "start_time": "2022-11-03T08:35:15.084Z"
   },
   {
    "duration": 0,
    "start_time": "2022-11-03T08:35:15.086Z"
   },
   {
    "duration": 0,
    "start_time": "2022-11-03T08:35:15.087Z"
   },
   {
    "duration": 0,
    "start_time": "2022-11-03T08:35:15.088Z"
   },
   {
    "duration": 0,
    "start_time": "2022-11-03T08:35:15.089Z"
   },
   {
    "duration": 31,
    "start_time": "2022-11-03T08:35:49.364Z"
   },
   {
    "duration": 150,
    "start_time": "2022-11-03T08:36:49.886Z"
   },
   {
    "duration": 22,
    "start_time": "2022-11-03T08:38:05.903Z"
   },
   {
    "duration": 14,
    "start_time": "2022-11-03T08:38:24.251Z"
   },
   {
    "duration": 11,
    "start_time": "2022-11-03T08:38:24.521Z"
   },
   {
    "duration": 9,
    "start_time": "2022-11-03T08:38:34.453Z"
   },
   {
    "duration": 28,
    "start_time": "2022-11-03T08:38:39.313Z"
   },
   {
    "duration": 11,
    "start_time": "2022-11-03T08:38:51.541Z"
   },
   {
    "duration": 7,
    "start_time": "2022-11-03T08:38:53.096Z"
   },
   {
    "duration": 15,
    "start_time": "2022-11-03T08:39:03.434Z"
   },
   {
    "duration": 3,
    "start_time": "2022-11-03T08:39:14.905Z"
   },
   {
    "duration": 99,
    "start_time": "2022-11-03T08:39:14.911Z"
   },
   {
    "duration": 16,
    "start_time": "2022-11-03T08:39:15.012Z"
   },
   {
    "duration": 29,
    "start_time": "2022-11-03T08:39:15.031Z"
   },
   {
    "duration": 25,
    "start_time": "2022-11-03T08:39:15.063Z"
   },
   {
    "duration": 27,
    "start_time": "2022-11-03T08:39:15.091Z"
   },
   {
    "duration": 6,
    "start_time": "2022-11-03T08:39:15.157Z"
   },
   {
    "duration": 40,
    "start_time": "2022-11-03T08:39:15.166Z"
   },
   {
    "duration": 4,
    "start_time": "2022-11-03T08:39:15.208Z"
   },
   {
    "duration": 10,
    "start_time": "2022-11-03T08:39:15.214Z"
   },
   {
    "duration": 0,
    "start_time": "2022-11-03T08:39:15.226Z"
   },
   {
    "duration": 0,
    "start_time": "2022-11-03T08:39:15.254Z"
   },
   {
    "duration": 0,
    "start_time": "2022-11-03T08:39:15.255Z"
   },
   {
    "duration": 0,
    "start_time": "2022-11-03T08:39:15.257Z"
   },
   {
    "duration": 0,
    "start_time": "2022-11-03T08:39:15.259Z"
   },
   {
    "duration": 0,
    "start_time": "2022-11-03T08:39:15.261Z"
   },
   {
    "duration": 0,
    "start_time": "2022-11-03T08:39:15.262Z"
   },
   {
    "duration": 0,
    "start_time": "2022-11-03T08:39:15.264Z"
   },
   {
    "duration": 0,
    "start_time": "2022-11-03T08:39:15.265Z"
   },
   {
    "duration": 0,
    "start_time": "2022-11-03T08:39:15.267Z"
   },
   {
    "duration": 0,
    "start_time": "2022-11-03T08:39:15.268Z"
   },
   {
    "duration": 0,
    "start_time": "2022-11-03T08:39:15.270Z"
   },
   {
    "duration": 65,
    "start_time": "2022-11-03T08:39:38.898Z"
   },
   {
    "duration": 80,
    "start_time": "2022-11-03T08:41:12.771Z"
   },
   {
    "duration": 40,
    "start_time": "2022-11-03T08:41:19.525Z"
   },
   {
    "duration": 1622,
    "start_time": "2022-11-03T08:42:27.869Z"
   },
   {
    "duration": 12,
    "start_time": "2022-11-03T08:42:45.774Z"
   },
   {
    "duration": 36,
    "start_time": "2022-11-03T08:42:57.468Z"
   },
   {
    "duration": 42,
    "start_time": "2022-11-03T08:43:06.666Z"
   },
   {
    "duration": 29,
    "start_time": "2022-11-03T08:43:08.762Z"
   },
   {
    "duration": 33,
    "start_time": "2022-11-03T08:43:10.100Z"
   },
   {
    "duration": 3,
    "start_time": "2022-11-03T08:43:29.305Z"
   },
   {
    "duration": 103,
    "start_time": "2022-11-03T08:43:29.310Z"
   },
   {
    "duration": 15,
    "start_time": "2022-11-03T08:43:29.415Z"
   },
   {
    "duration": 54,
    "start_time": "2022-11-03T08:43:29.433Z"
   },
   {
    "duration": 11,
    "start_time": "2022-11-03T08:43:29.489Z"
   },
   {
    "duration": 39,
    "start_time": "2022-11-03T08:43:29.501Z"
   },
   {
    "duration": 3,
    "start_time": "2022-11-03T08:43:29.542Z"
   },
   {
    "duration": 35,
    "start_time": "2022-11-03T08:43:29.552Z"
   },
   {
    "duration": 47,
    "start_time": "2022-11-03T08:43:29.589Z"
   },
   {
    "duration": 22,
    "start_time": "2022-11-03T08:43:29.640Z"
   },
   {
    "duration": 8,
    "start_time": "2022-11-03T08:43:29.672Z"
   },
   {
    "duration": 0,
    "start_time": "2022-11-03T08:43:29.682Z"
   },
   {
    "duration": 0,
    "start_time": "2022-11-03T08:43:29.683Z"
   },
   {
    "duration": 0,
    "start_time": "2022-11-03T08:43:29.685Z"
   },
   {
    "duration": 0,
    "start_time": "2022-11-03T08:43:29.687Z"
   },
   {
    "duration": 0,
    "start_time": "2022-11-03T08:43:29.689Z"
   },
   {
    "duration": 0,
    "start_time": "2022-11-03T08:43:29.690Z"
   },
   {
    "duration": 0,
    "start_time": "2022-11-03T08:43:29.692Z"
   },
   {
    "duration": 0,
    "start_time": "2022-11-03T08:43:29.694Z"
   },
   {
    "duration": 0,
    "start_time": "2022-11-03T08:43:29.695Z"
   },
   {
    "duration": 0,
    "start_time": "2022-11-03T08:43:29.697Z"
   },
   {
    "duration": 0,
    "start_time": "2022-11-03T08:43:29.699Z"
   },
   {
    "duration": 0,
    "start_time": "2022-11-03T08:43:29.700Z"
   },
   {
    "duration": 3,
    "start_time": "2022-11-03T08:43:54.360Z"
   },
   {
    "duration": 95,
    "start_time": "2022-11-03T08:43:54.365Z"
   },
   {
    "duration": 16,
    "start_time": "2022-11-03T08:43:54.462Z"
   },
   {
    "duration": 41,
    "start_time": "2022-11-03T08:43:54.480Z"
   },
   {
    "duration": 40,
    "start_time": "2022-11-03T08:43:54.528Z"
   },
   {
    "duration": 64,
    "start_time": "2022-11-03T08:43:54.569Z"
   },
   {
    "duration": 34,
    "start_time": "2022-11-03T08:43:54.635Z"
   },
   {
    "duration": 30,
    "start_time": "2022-11-03T08:43:54.671Z"
   },
   {
    "duration": 55,
    "start_time": "2022-11-03T08:43:54.703Z"
   },
   {
    "duration": 41,
    "start_time": "2022-11-03T08:43:54.760Z"
   },
   {
    "duration": 36,
    "start_time": "2022-11-03T08:43:54.803Z"
   },
   {
    "duration": 47,
    "start_time": "2022-11-03T08:43:54.842Z"
   },
   {
    "duration": 32,
    "start_time": "2022-11-03T08:43:54.891Z"
   },
   {
    "duration": 63,
    "start_time": "2022-11-03T08:43:54.925Z"
   },
   {
    "duration": 33,
    "start_time": "2022-11-03T08:43:54.989Z"
   },
   {
    "duration": 45,
    "start_time": "2022-11-03T08:43:55.023Z"
   },
   {
    "duration": 14,
    "start_time": "2022-11-03T08:43:55.070Z"
   },
   {
    "duration": 32,
    "start_time": "2022-11-03T08:43:55.086Z"
   },
   {
    "duration": 40,
    "start_time": "2022-11-03T08:43:55.120Z"
   },
   {
    "duration": 22,
    "start_time": "2022-11-03T08:43:55.162Z"
   },
   {
    "duration": 21,
    "start_time": "2022-11-03T08:43:55.186Z"
   },
   {
    "duration": 15,
    "start_time": "2022-11-03T08:43:55.209Z"
   },
   {
    "duration": 42,
    "start_time": "2022-11-03T08:43:55.226Z"
   },
   {
    "duration": 23,
    "start_time": "2022-11-03T08:44:13.153Z"
   },
   {
    "duration": 22,
    "start_time": "2022-11-03T08:45:19.053Z"
   },
   {
    "duration": 42,
    "start_time": "2022-11-03T08:46:22.055Z"
   },
   {
    "duration": 40,
    "start_time": "2022-11-03T08:46:29.467Z"
   },
   {
    "duration": 38,
    "start_time": "2022-11-03T08:46:35.691Z"
   },
   {
    "duration": 49,
    "start_time": "2022-11-03T08:46:40.372Z"
   },
   {
    "duration": 37,
    "start_time": "2022-11-03T08:46:43.963Z"
   },
   {
    "duration": 39,
    "start_time": "2022-11-03T08:47:08.170Z"
   },
   {
    "duration": 40,
    "start_time": "2022-11-03T08:47:28.821Z"
   },
   {
    "duration": 832,
    "start_time": "2022-11-03T08:47:30.454Z"
   },
   {
    "duration": 1158,
    "start_time": "2022-11-03T08:47:34.463Z"
   },
   {
    "duration": 1174,
    "start_time": "2022-11-03T08:47:37.880Z"
   },
   {
    "duration": 3,
    "start_time": "2022-11-03T08:47:43.255Z"
   },
   {
    "duration": 93,
    "start_time": "2022-11-03T08:47:43.260Z"
   },
   {
    "duration": 16,
    "start_time": "2022-11-03T08:47:43.355Z"
   },
   {
    "duration": 20,
    "start_time": "2022-11-03T08:47:43.373Z"
   },
   {
    "duration": 15,
    "start_time": "2022-11-03T08:47:43.396Z"
   },
   {
    "duration": 58,
    "start_time": "2022-11-03T08:47:43.413Z"
   },
   {
    "duration": 37,
    "start_time": "2022-11-03T08:47:43.473Z"
   },
   {
    "duration": 4,
    "start_time": "2022-11-03T08:47:43.512Z"
   },
   {
    "duration": 4,
    "start_time": "2022-11-03T08:47:43.540Z"
   },
   {
    "duration": 21,
    "start_time": "2022-11-03T08:47:43.547Z"
   },
   {
    "duration": 5,
    "start_time": "2022-11-03T08:47:43.569Z"
   },
   {
    "duration": 7,
    "start_time": "2022-11-03T08:47:43.575Z"
   },
   {
    "duration": 5,
    "start_time": "2022-11-03T08:47:43.583Z"
   },
   {
    "duration": 7,
    "start_time": "2022-11-03T08:47:43.590Z"
   },
   {
    "duration": 6,
    "start_time": "2022-11-03T08:47:43.599Z"
   },
   {
    "duration": 10,
    "start_time": "2022-11-03T08:47:43.607Z"
   },
   {
    "duration": 6,
    "start_time": "2022-11-03T08:47:43.619Z"
   },
   {
    "duration": 22,
    "start_time": "2022-11-03T08:47:43.639Z"
   },
   {
    "duration": 5,
    "start_time": "2022-11-03T08:47:43.663Z"
   },
   {
    "duration": 5,
    "start_time": "2022-11-03T08:47:43.669Z"
   },
   {
    "duration": 11,
    "start_time": "2022-11-03T08:47:43.682Z"
   },
   {
    "duration": 5,
    "start_time": "2022-11-03T08:47:43.695Z"
   },
   {
    "duration": 6,
    "start_time": "2022-11-03T08:47:43.702Z"
   },
   {
    "duration": 32,
    "start_time": "2022-11-03T08:49:26.004Z"
   },
   {
    "duration": 44,
    "start_time": "2022-11-03T08:49:27.829Z"
   },
   {
    "duration": 16,
    "start_time": "2022-11-03T08:49:51.818Z"
   },
   {
    "duration": 14,
    "start_time": "2022-11-03T08:49:56.652Z"
   },
   {
    "duration": 28,
    "start_time": "2022-11-03T08:49:59.425Z"
   },
   {
    "duration": 63,
    "start_time": "2022-11-03T08:50:46.792Z"
   },
   {
    "duration": 23,
    "start_time": "2022-11-03T08:50:51.085Z"
   },
   {
    "duration": 21,
    "start_time": "2022-11-03T08:50:54.152Z"
   },
   {
    "duration": 20,
    "start_time": "2022-11-03T08:51:22.225Z"
   },
   {
    "duration": 12,
    "start_time": "2022-11-03T08:51:24.853Z"
   },
   {
    "duration": 16,
    "start_time": "2022-11-03T08:51:29.120Z"
   },
   {
    "duration": 22,
    "start_time": "2022-11-03T08:51:34.233Z"
   },
   {
    "duration": 906,
    "start_time": "2022-11-03T08:59:29.322Z"
   },
   {
    "duration": 59,
    "start_time": "2022-11-03T09:01:02.174Z"
   },
   {
    "duration": 93,
    "start_time": "2022-11-03T09:01:13.524Z"
   },
   {
    "duration": 64,
    "start_time": "2022-11-03T09:01:58.173Z"
   },
   {
    "duration": 462,
    "start_time": "2022-11-03T09:02:03.354Z"
   },
   {
    "duration": 238,
    "start_time": "2022-11-03T09:02:43.687Z"
   },
   {
    "duration": 379,
    "start_time": "2022-11-03T09:02:55.967Z"
   },
   {
    "duration": 32,
    "start_time": "2022-11-03T09:03:23.278Z"
   },
   {
    "duration": 5,
    "start_time": "2022-11-03T09:04:46.807Z"
   },
   {
    "duration": 3,
    "start_time": "2022-11-03T09:04:52.089Z"
   },
   {
    "duration": 106,
    "start_time": "2022-11-03T09:04:52.094Z"
   },
   {
    "duration": 16,
    "start_time": "2022-11-03T09:04:52.203Z"
   },
   {
    "duration": 53,
    "start_time": "2022-11-03T09:04:52.220Z"
   },
   {
    "duration": 17,
    "start_time": "2022-11-03T09:04:52.276Z"
   },
   {
    "duration": 18,
    "start_time": "2022-11-03T09:04:52.295Z"
   },
   {
    "duration": 77,
    "start_time": "2022-11-03T09:04:52.316Z"
   },
   {
    "duration": 22,
    "start_time": "2022-11-03T09:04:52.395Z"
   },
   {
    "duration": 25,
    "start_time": "2022-11-03T09:04:52.419Z"
   },
   {
    "duration": 20,
    "start_time": "2022-11-03T09:04:52.451Z"
   },
   {
    "duration": 15,
    "start_time": "2022-11-03T09:04:52.474Z"
   },
   {
    "duration": 11,
    "start_time": "2022-11-03T09:04:52.492Z"
   },
   {
    "duration": 11,
    "start_time": "2022-11-03T09:04:52.505Z"
   },
   {
    "duration": 7,
    "start_time": "2022-11-03T09:04:52.519Z"
   },
   {
    "duration": 12,
    "start_time": "2022-11-03T09:04:52.528Z"
   },
   {
    "duration": 29,
    "start_time": "2022-11-03T09:04:52.542Z"
   },
   {
    "duration": 12,
    "start_time": "2022-11-03T09:04:52.573Z"
   },
   {
    "duration": 24,
    "start_time": "2022-11-03T09:04:52.588Z"
   },
   {
    "duration": 10,
    "start_time": "2022-11-03T09:04:52.615Z"
   },
   {
    "duration": 9,
    "start_time": "2022-11-03T09:04:52.628Z"
   },
   {
    "duration": 27,
    "start_time": "2022-11-03T09:04:52.639Z"
   },
   {
    "duration": 22,
    "start_time": "2022-11-03T09:04:52.669Z"
   },
   {
    "duration": 5,
    "start_time": "2022-11-03T09:04:52.693Z"
   },
   {
    "duration": 5,
    "start_time": "2022-11-03T09:04:52.700Z"
   },
   {
    "duration": 26,
    "start_time": "2022-11-03T09:05:20.056Z"
   },
   {
    "duration": 14,
    "start_time": "2022-11-03T09:05:23.970Z"
   },
   {
    "duration": 49,
    "start_time": "2022-11-03T09:24:27.782Z"
   },
   {
    "duration": 884,
    "start_time": "2022-11-03T09:27:46.275Z"
   },
   {
    "duration": 14,
    "start_time": "2022-11-03T09:28:00.664Z"
   },
   {
    "duration": 8,
    "start_time": "2022-11-03T09:28:33.303Z"
   },
   {
    "duration": 23,
    "start_time": "2022-11-03T09:28:36.975Z"
   },
   {
    "duration": 13,
    "start_time": "2022-11-03T09:28:57.665Z"
   },
   {
    "duration": 1177,
    "start_time": "2022-11-03T09:29:08.111Z"
   },
   {
    "duration": 14,
    "start_time": "2022-11-03T09:29:14.357Z"
   },
   {
    "duration": 13,
    "start_time": "2022-11-03T09:29:26.781Z"
   },
   {
    "duration": 11,
    "start_time": "2022-11-03T09:29:48.084Z"
   },
   {
    "duration": 25,
    "start_time": "2022-11-03T09:30:25.535Z"
   },
   {
    "duration": 9,
    "start_time": "2022-11-03T09:30:27.880Z"
   },
   {
    "duration": 9,
    "start_time": "2022-11-03T09:30:47.282Z"
   },
   {
    "duration": 32,
    "start_time": "2022-11-03T09:31:41.649Z"
   },
   {
    "duration": 12,
    "start_time": "2022-11-03T09:32:22.823Z"
   },
   {
    "duration": 17,
    "start_time": "2022-11-03T09:32:43.482Z"
   },
   {
    "duration": 16,
    "start_time": "2022-11-03T09:32:45.700Z"
   },
   {
    "duration": 13,
    "start_time": "2022-11-03T09:33:33.874Z"
   },
   {
    "duration": 33,
    "start_time": "2022-11-03T09:33:57.331Z"
   },
   {
    "duration": 3,
    "start_time": "2022-11-03T09:34:03.532Z"
   },
   {
    "duration": 79,
    "start_time": "2022-11-03T09:34:03.538Z"
   },
   {
    "duration": 16,
    "start_time": "2022-11-03T09:34:03.619Z"
   },
   {
    "duration": 16,
    "start_time": "2022-11-03T09:34:03.637Z"
   },
   {
    "duration": 11,
    "start_time": "2022-11-03T09:34:03.655Z"
   },
   {
    "duration": 29,
    "start_time": "2022-11-03T09:34:03.668Z"
   },
   {
    "duration": 9,
    "start_time": "2022-11-03T09:34:03.699Z"
   },
   {
    "duration": 6,
    "start_time": "2022-11-03T09:34:03.710Z"
   },
   {
    "duration": 23,
    "start_time": "2022-11-03T09:34:03.717Z"
   },
   {
    "duration": 20,
    "start_time": "2022-11-03T09:34:03.742Z"
   },
   {
    "duration": 9,
    "start_time": "2022-11-03T09:34:03.764Z"
   },
   {
    "duration": 11,
    "start_time": "2022-11-03T09:34:03.775Z"
   },
   {
    "duration": 5,
    "start_time": "2022-11-03T09:34:03.787Z"
   },
   {
    "duration": 5,
    "start_time": "2022-11-03T09:34:03.794Z"
   },
   {
    "duration": 8,
    "start_time": "2022-11-03T09:34:03.800Z"
   },
   {
    "duration": 5,
    "start_time": "2022-11-03T09:34:03.810Z"
   },
   {
    "duration": 7,
    "start_time": "2022-11-03T09:34:03.816Z"
   },
   {
    "duration": 7,
    "start_time": "2022-11-03T09:34:03.824Z"
   },
   {
    "duration": 11,
    "start_time": "2022-11-03T09:34:03.833Z"
   },
   {
    "duration": 5,
    "start_time": "2022-11-03T09:34:03.846Z"
   },
   {
    "duration": 5,
    "start_time": "2022-11-03T09:34:03.852Z"
   },
   {
    "duration": 5,
    "start_time": "2022-11-03T09:34:03.859Z"
   },
   {
    "duration": 5,
    "start_time": "2022-11-03T09:34:03.866Z"
   },
   {
    "duration": 12,
    "start_time": "2022-11-03T09:34:12.233Z"
   },
   {
    "duration": 18,
    "start_time": "2022-11-03T09:34:35.084Z"
   },
   {
    "duration": 17,
    "start_time": "2022-11-03T09:34:38.183Z"
   },
   {
    "duration": 11,
    "start_time": "2022-11-03T09:34:41.160Z"
   },
   {
    "duration": 13,
    "start_time": "2022-11-03T09:34:45.285Z"
   },
   {
    "duration": 11,
    "start_time": "2022-11-03T09:34:48.412Z"
   },
   {
    "duration": 13,
    "start_time": "2022-11-03T09:34:53.293Z"
   },
   {
    "duration": 16,
    "start_time": "2022-11-03T09:34:59.462Z"
   },
   {
    "duration": 11,
    "start_time": "2022-11-03T09:35:11.084Z"
   },
   {
    "duration": 12,
    "start_time": "2022-11-03T09:35:33.060Z"
   },
   {
    "duration": 15,
    "start_time": "2022-11-03T09:35:34.529Z"
   },
   {
    "duration": 3,
    "start_time": "2022-11-03T09:35:39.501Z"
   },
   {
    "duration": 92,
    "start_time": "2022-11-03T09:35:39.505Z"
   },
   {
    "duration": 14,
    "start_time": "2022-11-03T09:35:39.599Z"
   },
   {
    "duration": 22,
    "start_time": "2022-11-03T09:35:39.615Z"
   },
   {
    "duration": 11,
    "start_time": "2022-11-03T09:35:39.640Z"
   },
   {
    "duration": 27,
    "start_time": "2022-11-03T09:35:39.653Z"
   },
   {
    "duration": 9,
    "start_time": "2022-11-03T09:35:39.682Z"
   },
   {
    "duration": 11,
    "start_time": "2022-11-03T09:35:39.692Z"
   },
   {
    "duration": 3,
    "start_time": "2022-11-03T09:35:39.705Z"
   },
   {
    "duration": 2,
    "start_time": "2022-11-03T09:35:39.739Z"
   },
   {
    "duration": 28,
    "start_time": "2022-11-03T09:35:39.743Z"
   },
   {
    "duration": 14,
    "start_time": "2022-11-03T09:35:39.772Z"
   },
   {
    "duration": 24,
    "start_time": "2022-11-03T09:35:39.789Z"
   },
   {
    "duration": 6,
    "start_time": "2022-11-03T09:35:39.815Z"
   },
   {
    "duration": 22,
    "start_time": "2022-11-03T09:35:39.823Z"
   },
   {
    "duration": 22,
    "start_time": "2022-11-03T09:35:39.847Z"
   },
   {
    "duration": 16,
    "start_time": "2022-11-03T09:35:39.871Z"
   },
   {
    "duration": 31,
    "start_time": "2022-11-03T09:35:39.889Z"
   },
   {
    "duration": 16,
    "start_time": "2022-11-03T09:35:39.922Z"
   },
   {
    "duration": 16,
    "start_time": "2022-11-03T09:35:39.939Z"
   },
   {
    "duration": 20,
    "start_time": "2022-11-03T09:35:39.957Z"
   },
   {
    "duration": 16,
    "start_time": "2022-11-03T09:35:39.979Z"
   },
   {
    "duration": 11,
    "start_time": "2022-11-03T09:35:39.997Z"
   },
   {
    "duration": 7,
    "start_time": "2022-11-03T09:35:40.009Z"
   },
   {
    "duration": 11,
    "start_time": "2022-11-03T09:35:50.404Z"
   },
   {
    "duration": 12,
    "start_time": "2022-11-03T09:35:56.974Z"
   },
   {
    "duration": 16,
    "start_time": "2022-11-03T09:35:58.677Z"
   },
   {
    "duration": 16,
    "start_time": "2022-11-03T09:36:00.180Z"
   },
   {
    "duration": 22,
    "start_time": "2022-11-03T09:36:59.327Z"
   },
   {
    "duration": 38,
    "start_time": "2022-11-03T09:38:57.625Z"
   },
   {
    "duration": 12,
    "start_time": "2022-11-03T09:38:59.820Z"
   },
   {
    "duration": 3,
    "start_time": "2022-11-03T09:39:06.417Z"
   },
   {
    "duration": 77,
    "start_time": "2022-11-03T09:39:06.422Z"
   },
   {
    "duration": 19,
    "start_time": "2022-11-03T09:39:06.501Z"
   },
   {
    "duration": 24,
    "start_time": "2022-11-03T09:39:06.522Z"
   },
   {
    "duration": 17,
    "start_time": "2022-11-03T09:39:06.549Z"
   },
   {
    "duration": 28,
    "start_time": "2022-11-03T09:39:06.568Z"
   },
   {
    "duration": 10,
    "start_time": "2022-11-03T09:39:06.598Z"
   },
   {
    "duration": 11,
    "start_time": "2022-11-03T09:39:06.638Z"
   },
   {
    "duration": 4,
    "start_time": "2022-11-03T09:39:06.651Z"
   },
   {
    "duration": 6,
    "start_time": "2022-11-03T09:39:06.657Z"
   },
   {
    "duration": 11,
    "start_time": "2022-11-03T09:39:06.665Z"
   },
   {
    "duration": 6,
    "start_time": "2022-11-03T09:39:06.677Z"
   },
   {
    "duration": 73,
    "start_time": "2022-11-03T09:39:06.685Z"
   },
   {
    "duration": 9,
    "start_time": "2022-11-03T09:39:06.760Z"
   },
   {
    "duration": 6,
    "start_time": "2022-11-03T09:39:06.771Z"
   },
   {
    "duration": 9,
    "start_time": "2022-11-03T09:39:06.779Z"
   },
   {
    "duration": 11,
    "start_time": "2022-11-03T09:39:06.790Z"
   },
   {
    "duration": 6,
    "start_time": "2022-11-03T09:39:06.803Z"
   },
   {
    "duration": 13,
    "start_time": "2022-11-03T09:39:06.811Z"
   },
   {
    "duration": 12,
    "start_time": "2022-11-03T09:39:06.827Z"
   },
   {
    "duration": 8,
    "start_time": "2022-11-03T09:39:06.841Z"
   },
   {
    "duration": 10,
    "start_time": "2022-11-03T09:39:06.851Z"
   },
   {
    "duration": 18,
    "start_time": "2022-11-03T09:39:06.863Z"
   },
   {
    "duration": 16,
    "start_time": "2022-11-03T09:39:06.883Z"
   },
   {
    "duration": 28,
    "start_time": "2022-11-03T09:39:13.873Z"
   },
   {
    "duration": 12,
    "start_time": "2022-11-03T09:39:14.824Z"
   },
   {
    "duration": 17,
    "start_time": "2022-11-03T09:40:14.153Z"
   },
   {
    "duration": 10,
    "start_time": "2022-11-03T09:40:16.281Z"
   },
   {
    "duration": 3,
    "start_time": "2022-11-03T09:40:25.113Z"
   },
   {
    "duration": 101,
    "start_time": "2022-11-03T09:40:25.118Z"
   },
   {
    "duration": 14,
    "start_time": "2022-11-03T09:40:25.221Z"
   },
   {
    "duration": 31,
    "start_time": "2022-11-03T09:40:25.236Z"
   },
   {
    "duration": 14,
    "start_time": "2022-11-03T09:40:25.269Z"
   },
   {
    "duration": 36,
    "start_time": "2022-11-03T09:40:25.285Z"
   },
   {
    "duration": 9,
    "start_time": "2022-11-03T09:40:25.323Z"
   },
   {
    "duration": 36,
    "start_time": "2022-11-03T09:40:25.334Z"
   },
   {
    "duration": 26,
    "start_time": "2022-11-03T09:40:25.372Z"
   },
   {
    "duration": 9,
    "start_time": "2022-11-03T09:40:25.400Z"
   },
   {
    "duration": 13,
    "start_time": "2022-11-03T09:40:25.410Z"
   },
   {
    "duration": 10,
    "start_time": "2022-11-03T09:40:25.425Z"
   },
   {
    "duration": 12,
    "start_time": "2022-11-03T09:40:25.437Z"
   },
   {
    "duration": 24,
    "start_time": "2022-11-03T09:40:25.452Z"
   },
   {
    "duration": 18,
    "start_time": "2022-11-03T09:40:25.478Z"
   },
   {
    "duration": 5,
    "start_time": "2022-11-03T09:40:25.498Z"
   },
   {
    "duration": 15,
    "start_time": "2022-11-03T09:40:25.505Z"
   },
   {
    "duration": 21,
    "start_time": "2022-11-03T09:40:25.522Z"
   },
   {
    "duration": 9,
    "start_time": "2022-11-03T09:40:25.545Z"
   },
   {
    "duration": 16,
    "start_time": "2022-11-03T09:40:25.555Z"
   },
   {
    "duration": 16,
    "start_time": "2022-11-03T09:40:25.573Z"
   },
   {
    "duration": 22,
    "start_time": "2022-11-03T09:40:25.591Z"
   },
   {
    "duration": 5,
    "start_time": "2022-11-03T09:40:25.615Z"
   },
   {
    "duration": 25,
    "start_time": "2022-11-03T09:40:25.622Z"
   },
   {
    "duration": 12,
    "start_time": "2022-11-03T09:40:32.338Z"
   },
   {
    "duration": 13,
    "start_time": "2022-11-03T09:40:33.646Z"
   },
   {
    "duration": 4,
    "start_time": "2022-11-03T09:40:40.874Z"
   },
   {
    "duration": 12,
    "start_time": "2022-11-03T09:40:45.526Z"
   },
   {
    "duration": 4,
    "start_time": "2022-11-03T09:40:48.306Z"
   },
   {
    "duration": 12,
    "start_time": "2022-11-03T09:40:51.201Z"
   },
   {
    "duration": 11,
    "start_time": "2022-11-03T09:41:16.491Z"
   },
   {
    "duration": 11,
    "start_time": "2022-11-03T09:41:19.515Z"
   },
   {
    "duration": 22,
    "start_time": "2022-11-03T09:47:47.228Z"
   },
   {
    "duration": 15,
    "start_time": "2022-11-03T09:48:03.579Z"
   },
   {
    "duration": 14,
    "start_time": "2022-11-03T09:48:10.938Z"
   },
   {
    "duration": 10,
    "start_time": "2022-11-03T09:48:26.373Z"
   },
   {
    "duration": 9,
    "start_time": "2022-11-03T09:50:25.580Z"
   },
   {
    "duration": 3,
    "start_time": "2022-11-03T09:50:32.300Z"
   },
   {
    "duration": 75,
    "start_time": "2022-11-03T09:50:32.305Z"
   },
   {
    "duration": 16,
    "start_time": "2022-11-03T09:50:32.382Z"
   },
   {
    "duration": 27,
    "start_time": "2022-11-03T09:50:32.400Z"
   },
   {
    "duration": 18,
    "start_time": "2022-11-03T09:50:32.429Z"
   },
   {
    "duration": 27,
    "start_time": "2022-11-03T09:50:32.449Z"
   },
   {
    "duration": 6,
    "start_time": "2022-11-03T09:50:32.478Z"
   },
   {
    "duration": 10,
    "start_time": "2022-11-03T09:50:32.486Z"
   },
   {
    "duration": 4,
    "start_time": "2022-11-03T09:50:32.497Z"
   },
   {
    "duration": 37,
    "start_time": "2022-11-03T09:50:32.502Z"
   },
   {
    "duration": 13,
    "start_time": "2022-11-03T09:50:32.541Z"
   },
   {
    "duration": 6,
    "start_time": "2022-11-03T09:50:32.556Z"
   },
   {
    "duration": 7,
    "start_time": "2022-11-03T09:50:32.564Z"
   },
   {
    "duration": 3,
    "start_time": "2022-11-03T09:50:32.575Z"
   },
   {
    "duration": 13,
    "start_time": "2022-11-03T09:50:32.580Z"
   },
   {
    "duration": 5,
    "start_time": "2022-11-03T09:50:32.594Z"
   },
   {
    "duration": 4,
    "start_time": "2022-11-03T09:50:32.601Z"
   },
   {
    "duration": 5,
    "start_time": "2022-11-03T09:50:32.607Z"
   },
   {
    "duration": 6,
    "start_time": "2022-11-03T09:50:32.613Z"
   },
   {
    "duration": 22,
    "start_time": "2022-11-03T09:50:32.620Z"
   },
   {
    "duration": 21,
    "start_time": "2022-11-03T09:50:32.643Z"
   },
   {
    "duration": 9,
    "start_time": "2022-11-03T09:50:32.666Z"
   },
   {
    "duration": 6,
    "start_time": "2022-11-03T09:50:32.677Z"
   },
   {
    "duration": 9,
    "start_time": "2022-11-03T09:50:32.685Z"
   },
   {
    "duration": 8,
    "start_time": "2022-11-03T09:50:39.463Z"
   },
   {
    "duration": 11,
    "start_time": "2022-11-03T09:51:05.486Z"
   },
   {
    "duration": 10,
    "start_time": "2022-11-03T09:52:20.110Z"
   },
   {
    "duration": 10,
    "start_time": "2022-11-03T09:52:36.152Z"
   },
   {
    "duration": 9,
    "start_time": "2022-11-03T09:52:40.547Z"
   },
   {
    "duration": 12,
    "start_time": "2022-11-03T09:53:06.544Z"
   },
   {
    "duration": 8,
    "start_time": "2022-11-03T09:53:20.569Z"
   },
   {
    "duration": 9,
    "start_time": "2022-11-03T09:53:23.647Z"
   },
   {
    "duration": 12,
    "start_time": "2022-11-03T09:53:27.361Z"
   },
   {
    "duration": 9,
    "start_time": "2022-11-03T09:53:39.848Z"
   },
   {
    "duration": 9,
    "start_time": "2022-11-03T09:53:49.023Z"
   },
   {
    "duration": 11,
    "start_time": "2022-11-03T09:54:01.689Z"
   },
   {
    "duration": 11,
    "start_time": "2022-11-03T09:54:04.397Z"
   },
   {
    "duration": 10,
    "start_time": "2022-11-03T09:54:11.403Z"
   },
   {
    "duration": 11,
    "start_time": "2022-11-03T09:54:29.689Z"
   },
   {
    "duration": 12,
    "start_time": "2022-11-03T09:54:33.938Z"
   },
   {
    "duration": 17,
    "start_time": "2022-11-03T09:54:40.136Z"
   },
   {
    "duration": 10,
    "start_time": "2022-11-03T09:54:42.165Z"
   },
   {
    "duration": 44,
    "start_time": "2022-11-03T09:55:24.513Z"
   },
   {
    "duration": 19,
    "start_time": "2022-11-03T09:55:30.114Z"
   },
   {
    "duration": 19,
    "start_time": "2022-11-03T09:55:37.238Z"
   },
   {
    "duration": 18,
    "start_time": "2022-11-03T09:56:08.925Z"
   },
   {
    "duration": 14,
    "start_time": "2022-11-03T09:56:27.452Z"
   },
   {
    "duration": 19,
    "start_time": "2022-11-03T09:56:28.476Z"
   },
   {
    "duration": 10,
    "start_time": "2022-11-03T09:56:29.880Z"
   },
   {
    "duration": 14,
    "start_time": "2022-11-03T09:56:30.948Z"
   },
   {
    "duration": 19,
    "start_time": "2022-11-03T09:56:32.325Z"
   },
   {
    "duration": 12,
    "start_time": "2022-11-03T09:56:32.739Z"
   },
   {
    "duration": 3,
    "start_time": "2022-11-03T09:56:37.264Z"
   },
   {
    "duration": 93,
    "start_time": "2022-11-03T09:56:37.269Z"
   },
   {
    "duration": 19,
    "start_time": "2022-11-03T09:56:37.366Z"
   },
   {
    "duration": 26,
    "start_time": "2022-11-03T09:56:37.389Z"
   },
   {
    "duration": 31,
    "start_time": "2022-11-03T09:56:37.418Z"
   },
   {
    "duration": 39,
    "start_time": "2022-11-03T09:56:37.454Z"
   },
   {
    "duration": 8,
    "start_time": "2022-11-03T09:56:37.495Z"
   },
   {
    "duration": 29,
    "start_time": "2022-11-03T09:56:37.505Z"
   },
   {
    "duration": 4,
    "start_time": "2022-11-03T09:56:37.536Z"
   },
   {
    "duration": 5,
    "start_time": "2022-11-03T09:56:37.542Z"
   },
   {
    "duration": 11,
    "start_time": "2022-11-03T09:56:37.549Z"
   },
   {
    "duration": 4,
    "start_time": "2022-11-03T09:56:37.562Z"
   },
   {
    "duration": 9,
    "start_time": "2022-11-03T09:56:37.568Z"
   },
   {
    "duration": 7,
    "start_time": "2022-11-03T09:56:37.579Z"
   },
   {
    "duration": 9,
    "start_time": "2022-11-03T09:56:37.588Z"
   },
   {
    "duration": 5,
    "start_time": "2022-11-03T09:56:37.599Z"
   },
   {
    "duration": 10,
    "start_time": "2022-11-03T09:56:37.606Z"
   },
   {
    "duration": 21,
    "start_time": "2022-11-03T09:56:37.618Z"
   },
   {
    "duration": 6,
    "start_time": "2022-11-03T09:56:37.641Z"
   },
   {
    "duration": 6,
    "start_time": "2022-11-03T09:56:37.648Z"
   },
   {
    "duration": 5,
    "start_time": "2022-11-03T09:56:37.656Z"
   },
   {
    "duration": 6,
    "start_time": "2022-11-03T09:56:37.663Z"
   },
   {
    "duration": 5,
    "start_time": "2022-11-03T09:56:37.671Z"
   },
   {
    "duration": 8,
    "start_time": "2022-11-03T09:56:37.677Z"
   },
   {
    "duration": 7,
    "start_time": "2022-11-03T09:56:52.237Z"
   },
   {
    "duration": 11,
    "start_time": "2022-11-03T09:56:55.967Z"
   },
   {
    "duration": 8,
    "start_time": "2022-11-03T09:56:57.664Z"
   },
   {
    "duration": 10,
    "start_time": "2022-11-03T10:00:38.291Z"
   },
   {
    "duration": 6,
    "start_time": "2022-11-03T10:00:42.232Z"
   },
   {
    "duration": 9,
    "start_time": "2022-11-03T10:00:55.161Z"
   },
   {
    "duration": 10,
    "start_time": "2022-11-03T10:01:12.866Z"
   },
   {
    "duration": 16,
    "start_time": "2022-11-03T10:01:44.548Z"
   },
   {
    "duration": 13,
    "start_time": "2022-11-03T10:01:47.308Z"
   },
   {
    "duration": 2,
    "start_time": "2022-11-03T10:01:52.111Z"
   },
   {
    "duration": 80,
    "start_time": "2022-11-03T10:01:52.115Z"
   },
   {
    "duration": 15,
    "start_time": "2022-11-03T10:01:52.197Z"
   },
   {
    "duration": 25,
    "start_time": "2022-11-03T10:01:52.214Z"
   },
   {
    "duration": 9,
    "start_time": "2022-11-03T10:01:52.242Z"
   },
   {
    "duration": 9,
    "start_time": "2022-11-03T10:01:52.253Z"
   },
   {
    "duration": 4,
    "start_time": "2022-11-03T10:01:52.264Z"
   },
   {
    "duration": 4,
    "start_time": "2022-11-03T10:01:52.270Z"
   },
   {
    "duration": 12,
    "start_time": "2022-11-03T10:01:52.275Z"
   },
   {
    "duration": 9,
    "start_time": "2022-11-03T10:01:52.289Z"
   },
   {
    "duration": 6,
    "start_time": "2022-11-03T10:01:52.300Z"
   },
   {
    "duration": 4,
    "start_time": "2022-11-03T10:01:52.308Z"
   },
   {
    "duration": 2,
    "start_time": "2022-11-03T10:01:52.338Z"
   },
   {
    "duration": 4,
    "start_time": "2022-11-03T10:01:52.343Z"
   },
   {
    "duration": 6,
    "start_time": "2022-11-03T10:01:52.348Z"
   },
   {
    "duration": 5,
    "start_time": "2022-11-03T10:01:52.355Z"
   },
   {
    "duration": 5,
    "start_time": "2022-11-03T10:01:52.361Z"
   },
   {
    "duration": 4,
    "start_time": "2022-11-03T10:01:52.368Z"
   },
   {
    "duration": 4,
    "start_time": "2022-11-03T10:01:52.374Z"
   },
   {
    "duration": 6,
    "start_time": "2022-11-03T10:01:52.379Z"
   },
   {
    "duration": 4,
    "start_time": "2022-11-03T10:01:52.387Z"
   },
   {
    "duration": 6,
    "start_time": "2022-11-03T10:01:52.393Z"
   },
   {
    "duration": 2,
    "start_time": "2022-11-03T10:02:03.675Z"
   },
   {
    "duration": 71,
    "start_time": "2022-11-03T10:02:03.690Z"
   },
   {
    "duration": 26,
    "start_time": "2022-11-03T10:02:03.763Z"
   },
   {
    "duration": 26,
    "start_time": "2022-11-03T10:02:03.791Z"
   },
   {
    "duration": 10,
    "start_time": "2022-11-03T10:02:03.819Z"
   },
   {
    "duration": 9,
    "start_time": "2022-11-03T10:02:03.837Z"
   },
   {
    "duration": 4,
    "start_time": "2022-11-03T10:02:03.847Z"
   },
   {
    "duration": 6,
    "start_time": "2022-11-03T10:02:03.853Z"
   },
   {
    "duration": 12,
    "start_time": "2022-11-03T10:02:03.861Z"
   },
   {
    "duration": 5,
    "start_time": "2022-11-03T10:02:03.875Z"
   },
   {
    "duration": 6,
    "start_time": "2022-11-03T10:02:03.882Z"
   },
   {
    "duration": 6,
    "start_time": "2022-11-03T10:02:03.889Z"
   },
   {
    "duration": 5,
    "start_time": "2022-11-03T10:02:03.897Z"
   },
   {
    "duration": 6,
    "start_time": "2022-11-03T10:02:03.903Z"
   },
   {
    "duration": 29,
    "start_time": "2022-11-03T10:02:03.911Z"
   },
   {
    "duration": 7,
    "start_time": "2022-11-03T10:02:03.941Z"
   },
   {
    "duration": 5,
    "start_time": "2022-11-03T10:02:03.949Z"
   },
   {
    "duration": 6,
    "start_time": "2022-11-03T10:02:03.956Z"
   },
   {
    "duration": 5,
    "start_time": "2022-11-03T10:02:03.964Z"
   },
   {
    "duration": 6,
    "start_time": "2022-11-03T10:02:03.971Z"
   },
   {
    "duration": 6,
    "start_time": "2022-11-03T10:02:03.978Z"
   },
   {
    "duration": 6,
    "start_time": "2022-11-03T10:02:03.985Z"
   },
   {
    "duration": 3,
    "start_time": "2022-11-03T10:02:13.292Z"
   },
   {
    "duration": 120,
    "start_time": "2022-11-03T10:02:13.297Z"
   },
   {
    "duration": 17,
    "start_time": "2022-11-03T10:02:13.420Z"
   },
   {
    "duration": 59,
    "start_time": "2022-11-03T10:02:13.439Z"
   },
   {
    "duration": 26,
    "start_time": "2022-11-03T10:02:13.500Z"
   },
   {
    "duration": 24,
    "start_time": "2022-11-03T10:02:13.527Z"
   },
   {
    "duration": 18,
    "start_time": "2022-11-03T10:02:13.552Z"
   },
   {
    "duration": 35,
    "start_time": "2022-11-03T10:02:13.572Z"
   },
   {
    "duration": 38,
    "start_time": "2022-11-03T10:02:13.609Z"
   },
   {
    "duration": 23,
    "start_time": "2022-11-03T10:02:13.649Z"
   },
   {
    "duration": 29,
    "start_time": "2022-11-03T10:02:13.673Z"
   },
   {
    "duration": 16,
    "start_time": "2022-11-03T10:02:13.706Z"
   },
   {
    "duration": 28,
    "start_time": "2022-11-03T10:02:13.723Z"
   },
   {
    "duration": 19,
    "start_time": "2022-11-03T10:02:13.753Z"
   },
   {
    "duration": 14,
    "start_time": "2022-11-03T10:02:13.774Z"
   },
   {
    "duration": 31,
    "start_time": "2022-11-03T10:02:13.790Z"
   },
   {
    "duration": 39,
    "start_time": "2022-11-03T10:02:13.823Z"
   },
   {
    "duration": 19,
    "start_time": "2022-11-03T10:02:13.864Z"
   },
   {
    "duration": 35,
    "start_time": "2022-11-03T10:02:13.884Z"
   },
   {
    "duration": 19,
    "start_time": "2022-11-03T10:02:13.921Z"
   },
   {
    "duration": 25,
    "start_time": "2022-11-03T10:02:13.943Z"
   },
   {
    "duration": 19,
    "start_time": "2022-11-03T10:02:13.969Z"
   },
   {
    "duration": 13,
    "start_time": "2022-11-03T10:02:18.029Z"
   },
   {
    "duration": 17,
    "start_time": "2022-11-03T10:02:23.372Z"
   },
   {
    "duration": 14,
    "start_time": "2022-11-03T10:02:25.867Z"
   },
   {
    "duration": 16,
    "start_time": "2022-11-03T10:02:27.388Z"
   },
   {
    "duration": 3,
    "start_time": "2022-11-03T10:02:32.507Z"
   },
   {
    "duration": 89,
    "start_time": "2022-11-03T10:02:32.513Z"
   },
   {
    "duration": 15,
    "start_time": "2022-11-03T10:02:32.604Z"
   },
   {
    "duration": 19,
    "start_time": "2022-11-03T10:02:32.620Z"
   },
   {
    "duration": 9,
    "start_time": "2022-11-03T10:02:32.641Z"
   },
   {
    "duration": 9,
    "start_time": "2022-11-03T10:02:32.652Z"
   },
   {
    "duration": 11,
    "start_time": "2022-11-03T10:02:32.662Z"
   },
   {
    "duration": 9,
    "start_time": "2022-11-03T10:02:32.675Z"
   },
   {
    "duration": 8,
    "start_time": "2022-11-03T10:02:32.685Z"
   },
   {
    "duration": 6,
    "start_time": "2022-11-03T10:02:32.694Z"
   },
   {
    "duration": 8,
    "start_time": "2022-11-03T10:02:32.701Z"
   },
   {
    "duration": 4,
    "start_time": "2022-11-03T10:02:32.711Z"
   },
   {
    "duration": 4,
    "start_time": "2022-11-03T10:02:32.717Z"
   },
   {
    "duration": 3,
    "start_time": "2022-11-03T10:02:32.724Z"
   },
   {
    "duration": 6,
    "start_time": "2022-11-03T10:02:32.738Z"
   },
   {
    "duration": 4,
    "start_time": "2022-11-03T10:02:32.746Z"
   },
   {
    "duration": 5,
    "start_time": "2022-11-03T10:02:32.751Z"
   },
   {
    "duration": 5,
    "start_time": "2022-11-03T10:02:32.757Z"
   },
   {
    "duration": 5,
    "start_time": "2022-11-03T10:02:32.763Z"
   },
   {
    "duration": 5,
    "start_time": "2022-11-03T10:02:32.769Z"
   },
   {
    "duration": 5,
    "start_time": "2022-11-03T10:02:32.775Z"
   },
   {
    "duration": 5,
    "start_time": "2022-11-03T10:02:32.782Z"
   },
   {
    "duration": 24,
    "start_time": "2022-11-03T10:02:56.415Z"
   },
   {
    "duration": 10,
    "start_time": "2022-11-03T10:03:05.885Z"
   },
   {
    "duration": 17,
    "start_time": "2022-11-03T10:03:19.859Z"
   },
   {
    "duration": 16,
    "start_time": "2022-11-03T10:03:22.052Z"
   },
   {
    "duration": 11,
    "start_time": "2022-11-03T10:03:28.921Z"
   },
   {
    "duration": 14,
    "start_time": "2022-11-03T10:03:35.652Z"
   },
   {
    "duration": 11,
    "start_time": "2022-11-03T10:03:36.934Z"
   },
   {
    "duration": 2,
    "start_time": "2022-11-03T10:03:44.507Z"
   },
   {
    "duration": 87,
    "start_time": "2022-11-03T10:03:44.512Z"
   },
   {
    "duration": 15,
    "start_time": "2022-11-03T10:03:44.601Z"
   },
   {
    "duration": 18,
    "start_time": "2022-11-03T10:03:44.617Z"
   },
   {
    "duration": 11,
    "start_time": "2022-11-03T10:03:44.639Z"
   },
   {
    "duration": 15,
    "start_time": "2022-11-03T10:03:44.651Z"
   },
   {
    "duration": 2,
    "start_time": "2022-11-03T10:03:44.668Z"
   },
   {
    "duration": 6,
    "start_time": "2022-11-03T10:03:44.672Z"
   },
   {
    "duration": 9,
    "start_time": "2022-11-03T10:03:44.679Z"
   },
   {
    "duration": 8,
    "start_time": "2022-11-03T10:03:44.690Z"
   },
   {
    "duration": 6,
    "start_time": "2022-11-03T10:03:44.700Z"
   },
   {
    "duration": 36,
    "start_time": "2022-11-03T10:03:44.707Z"
   },
   {
    "duration": 6,
    "start_time": "2022-11-03T10:03:44.744Z"
   },
   {
    "duration": 4,
    "start_time": "2022-11-03T10:03:44.753Z"
   },
   {
    "duration": 9,
    "start_time": "2022-11-03T10:03:44.759Z"
   },
   {
    "duration": 6,
    "start_time": "2022-11-03T10:03:44.770Z"
   },
   {
    "duration": 6,
    "start_time": "2022-11-03T10:03:44.777Z"
   },
   {
    "duration": 8,
    "start_time": "2022-11-03T10:03:44.785Z"
   },
   {
    "duration": 6,
    "start_time": "2022-11-03T10:03:44.795Z"
   },
   {
    "duration": 9,
    "start_time": "2022-11-03T10:03:44.803Z"
   },
   {
    "duration": 11,
    "start_time": "2022-11-03T10:03:44.814Z"
   },
   {
    "duration": 6,
    "start_time": "2022-11-03T10:03:44.827Z"
   },
   {
    "duration": 15,
    "start_time": "2022-11-03T10:04:12.413Z"
   },
   {
    "duration": 8,
    "start_time": "2022-11-03T10:04:14.453Z"
   },
   {
    "duration": 9,
    "start_time": "2022-11-03T10:04:57.907Z"
   },
   {
    "duration": 9,
    "start_time": "2022-11-03T10:05:02.294Z"
   },
   {
    "duration": 16,
    "start_time": "2022-11-03T10:13:08.404Z"
   },
   {
    "duration": 16,
    "start_time": "2022-11-03T10:13:11.336Z"
   },
   {
    "duration": 16,
    "start_time": "2022-11-03T10:13:12.961Z"
   },
   {
    "duration": 16,
    "start_time": "2022-11-03T10:13:44.856Z"
   },
   {
    "duration": 10,
    "start_time": "2022-11-03T10:14:03.692Z"
   },
   {
    "duration": 120,
    "start_time": "2022-11-03T10:14:27.679Z"
   },
   {
    "duration": 143,
    "start_time": "2022-11-03T10:14:33.408Z"
   },
   {
    "duration": 127,
    "start_time": "2022-11-03T10:14:47.460Z"
   },
   {
    "duration": 87,
    "start_time": "2022-11-03T10:14:53.200Z"
   },
   {
    "duration": 112,
    "start_time": "2022-11-03T10:15:00.881Z"
   },
   {
    "duration": 91,
    "start_time": "2022-11-03T10:15:03.855Z"
   },
   {
    "duration": 3,
    "start_time": "2022-11-03T10:15:16.154Z"
   },
   {
    "duration": 81,
    "start_time": "2022-11-03T10:15:16.159Z"
   },
   {
    "duration": 15,
    "start_time": "2022-11-03T10:15:16.242Z"
   },
   {
    "duration": 24,
    "start_time": "2022-11-03T10:15:16.259Z"
   },
   {
    "duration": 10,
    "start_time": "2022-11-03T10:15:16.286Z"
   },
   {
    "duration": 79,
    "start_time": "2022-11-03T10:15:16.298Z"
   },
   {
    "duration": 2,
    "start_time": "2022-11-03T10:15:16.379Z"
   },
   {
    "duration": 20,
    "start_time": "2022-11-03T10:15:16.382Z"
   },
   {
    "duration": 17,
    "start_time": "2022-11-03T10:15:16.404Z"
   },
   {
    "duration": 9,
    "start_time": "2022-11-03T10:15:16.422Z"
   },
   {
    "duration": 30,
    "start_time": "2022-11-03T10:15:16.433Z"
   },
   {
    "duration": 15,
    "start_time": "2022-11-03T10:15:16.465Z"
   },
   {
    "duration": 8,
    "start_time": "2022-11-03T10:15:16.482Z"
   },
   {
    "duration": 10,
    "start_time": "2022-11-03T10:15:16.494Z"
   },
   {
    "duration": 26,
    "start_time": "2022-11-03T10:15:16.505Z"
   },
   {
    "duration": 19,
    "start_time": "2022-11-03T10:15:16.533Z"
   },
   {
    "duration": 15,
    "start_time": "2022-11-03T10:15:16.554Z"
   },
   {
    "duration": 7,
    "start_time": "2022-11-03T10:15:16.571Z"
   },
   {
    "duration": 15,
    "start_time": "2022-11-03T10:15:16.580Z"
   },
   {
    "duration": 7,
    "start_time": "2022-11-03T10:15:16.597Z"
   },
   {
    "duration": 10,
    "start_time": "2022-11-03T10:15:16.606Z"
   },
   {
    "duration": 5,
    "start_time": "2022-11-03T10:15:16.619Z"
   },
   {
    "duration": 12,
    "start_time": "2022-11-03T10:15:33.959Z"
   },
   {
    "duration": 9,
    "start_time": "2022-11-03T10:15:46.321Z"
   },
   {
    "duration": 3,
    "start_time": "2022-11-03T10:15:58.024Z"
   },
   {
    "duration": 90,
    "start_time": "2022-11-03T10:15:58.030Z"
   },
   {
    "duration": 17,
    "start_time": "2022-11-03T10:15:58.122Z"
   },
   {
    "duration": 30,
    "start_time": "2022-11-03T10:15:58.142Z"
   },
   {
    "duration": 19,
    "start_time": "2022-11-03T10:15:58.174Z"
   },
   {
    "duration": 23,
    "start_time": "2022-11-03T10:15:58.195Z"
   },
   {
    "duration": 20,
    "start_time": "2022-11-03T10:15:58.220Z"
   },
   {
    "duration": 7,
    "start_time": "2022-11-03T10:15:58.243Z"
   },
   {
    "duration": 10,
    "start_time": "2022-11-03T10:15:58.253Z"
   },
   {
    "duration": 8,
    "start_time": "2022-11-03T10:15:58.266Z"
   },
   {
    "duration": 7,
    "start_time": "2022-11-03T10:15:58.276Z"
   },
   {
    "duration": 7,
    "start_time": "2022-11-03T10:15:58.285Z"
   },
   {
    "duration": 17,
    "start_time": "2022-11-03T10:15:58.296Z"
   },
   {
    "duration": 53,
    "start_time": "2022-11-03T10:15:58.314Z"
   },
   {
    "duration": 53,
    "start_time": "2022-11-03T10:15:58.369Z"
   },
   {
    "duration": 9,
    "start_time": "2022-11-03T10:15:58.424Z"
   },
   {
    "duration": 16,
    "start_time": "2022-11-03T10:15:58.435Z"
   },
   {
    "duration": 8,
    "start_time": "2022-11-03T10:15:58.454Z"
   },
   {
    "duration": 8,
    "start_time": "2022-11-03T10:15:58.464Z"
   },
   {
    "duration": 22,
    "start_time": "2022-11-03T10:15:58.475Z"
   },
   {
    "duration": 20,
    "start_time": "2022-11-03T10:15:58.499Z"
   },
   {
    "duration": 22,
    "start_time": "2022-11-03T10:15:58.523Z"
   },
   {
    "duration": 9,
    "start_time": "2022-11-03T10:16:05.711Z"
   },
   {
    "duration": 12,
    "start_time": "2022-11-03T10:16:19.248Z"
   },
   {
    "duration": 13,
    "start_time": "2022-11-03T10:16:31.056Z"
   },
   {
    "duration": 10,
    "start_time": "2022-11-03T10:18:36.594Z"
   },
   {
    "duration": 9,
    "start_time": "2022-11-03T10:19:45.728Z"
   },
   {
    "duration": 3,
    "start_time": "2022-11-03T10:19:48.276Z"
   },
   {
    "duration": 76,
    "start_time": "2022-11-03T10:19:48.281Z"
   },
   {
    "duration": 14,
    "start_time": "2022-11-03T10:19:48.359Z"
   },
   {
    "duration": 24,
    "start_time": "2022-11-03T10:19:48.376Z"
   },
   {
    "duration": 11,
    "start_time": "2022-11-03T10:19:48.402Z"
   },
   {
    "duration": 31,
    "start_time": "2022-11-03T10:19:48.414Z"
   },
   {
    "duration": 3,
    "start_time": "2022-11-03T10:19:48.447Z"
   },
   {
    "duration": 5,
    "start_time": "2022-11-03T10:19:48.452Z"
   },
   {
    "duration": 9,
    "start_time": "2022-11-03T10:19:48.460Z"
   },
   {
    "duration": 4,
    "start_time": "2022-11-03T10:19:48.471Z"
   },
   {
    "duration": 7,
    "start_time": "2022-11-03T10:19:48.477Z"
   },
   {
    "duration": 5,
    "start_time": "2022-11-03T10:19:48.486Z"
   },
   {
    "duration": 6,
    "start_time": "2022-11-03T10:19:48.493Z"
   },
   {
    "duration": 5,
    "start_time": "2022-11-03T10:19:48.500Z"
   },
   {
    "duration": 10,
    "start_time": "2022-11-03T10:19:48.507Z"
   },
   {
    "duration": 27,
    "start_time": "2022-11-03T10:19:48.518Z"
   },
   {
    "duration": 13,
    "start_time": "2022-11-03T10:19:48.547Z"
   },
   {
    "duration": 8,
    "start_time": "2022-11-03T10:19:48.562Z"
   },
   {
    "duration": 8,
    "start_time": "2022-11-03T10:19:48.572Z"
   },
   {
    "duration": 14,
    "start_time": "2022-11-03T10:19:48.582Z"
   },
   {
    "duration": 5,
    "start_time": "2022-11-03T10:19:48.598Z"
   },
   {
    "duration": 9,
    "start_time": "2022-11-03T10:19:48.604Z"
   },
   {
    "duration": 5,
    "start_time": "2022-11-03T10:19:57.995Z"
   },
   {
    "duration": 8,
    "start_time": "2022-11-03T10:20:33.221Z"
   },
   {
    "duration": 7,
    "start_time": "2022-11-03T10:21:30.340Z"
   },
   {
    "duration": 7,
    "start_time": "2022-11-03T10:21:40.309Z"
   },
   {
    "duration": 11,
    "start_time": "2022-11-03T10:21:59.036Z"
   },
   {
    "duration": 26,
    "start_time": "2022-11-03T10:23:07.142Z"
   },
   {
    "duration": 10,
    "start_time": "2022-11-03T10:23:23.280Z"
   },
   {
    "duration": 9,
    "start_time": "2022-11-03T10:23:24.927Z"
   },
   {
    "duration": 9,
    "start_time": "2022-11-03T10:25:08.703Z"
   },
   {
    "duration": 8,
    "start_time": "2022-11-03T10:25:13.753Z"
   },
   {
    "duration": 5,
    "start_time": "2022-11-03T10:25:29.071Z"
   },
   {
    "duration": 9,
    "start_time": "2022-11-03T10:31:28.910Z"
   },
   {
    "duration": 5,
    "start_time": "2022-11-03T10:31:31.675Z"
   },
   {
    "duration": 6,
    "start_time": "2022-11-03T10:32:54.070Z"
   },
   {
    "duration": 14,
    "start_time": "2022-11-03T10:33:18.028Z"
   },
   {
    "duration": 7,
    "start_time": "2022-11-03T10:33:53.002Z"
   },
   {
    "duration": 11,
    "start_time": "2022-11-03T10:33:54.819Z"
   },
   {
    "duration": 7,
    "start_time": "2022-11-03T10:34:06.035Z"
   },
   {
    "duration": 11,
    "start_time": "2022-11-03T10:34:08.166Z"
   },
   {
    "duration": 3,
    "start_time": "2022-11-03T10:34:26.722Z"
   },
   {
    "duration": 79,
    "start_time": "2022-11-03T10:34:26.728Z"
   },
   {
    "duration": 16,
    "start_time": "2022-11-03T10:34:26.809Z"
   },
   {
    "duration": 26,
    "start_time": "2022-11-03T10:34:26.828Z"
   },
   {
    "duration": 16,
    "start_time": "2022-11-03T10:34:26.857Z"
   },
   {
    "duration": 9,
    "start_time": "2022-11-03T10:34:26.875Z"
   },
   {
    "duration": 3,
    "start_time": "2022-11-03T10:34:26.887Z"
   },
   {
    "duration": 11,
    "start_time": "2022-11-03T10:34:26.892Z"
   },
   {
    "duration": 36,
    "start_time": "2022-11-03T10:34:26.905Z"
   },
   {
    "duration": 13,
    "start_time": "2022-11-03T10:34:26.943Z"
   },
   {
    "duration": 5,
    "start_time": "2022-11-03T10:34:26.960Z"
   },
   {
    "duration": 8,
    "start_time": "2022-11-03T10:34:26.967Z"
   },
   {
    "duration": 20,
    "start_time": "2022-11-03T10:34:26.977Z"
   },
   {
    "duration": 3,
    "start_time": "2022-11-03T10:34:26.999Z"
   },
   {
    "duration": 8,
    "start_time": "2022-11-03T10:34:27.004Z"
   },
   {
    "duration": 27,
    "start_time": "2022-11-03T10:34:27.013Z"
   },
   {
    "duration": 7,
    "start_time": "2022-11-03T10:34:27.042Z"
   },
   {
    "duration": 12,
    "start_time": "2022-11-03T10:34:27.051Z"
   },
   {
    "duration": 8,
    "start_time": "2022-11-03T10:34:27.065Z"
   },
   {
    "duration": 11,
    "start_time": "2022-11-03T10:34:27.075Z"
   },
   {
    "duration": 12,
    "start_time": "2022-11-03T10:34:27.088Z"
   },
   {
    "duration": 8,
    "start_time": "2022-11-03T10:34:27.102Z"
   },
   {
    "duration": 13,
    "start_time": "2022-11-03T10:35:02.444Z"
   },
   {
    "duration": 15,
    "start_time": "2022-11-03T10:35:03.637Z"
   },
   {
    "duration": 12,
    "start_time": "2022-11-03T10:35:06.160Z"
   },
   {
    "duration": 18,
    "start_time": "2022-11-03T10:35:07.162Z"
   },
   {
    "duration": 10,
    "start_time": "2022-11-03T10:35:07.993Z"
   },
   {
    "duration": 16,
    "start_time": "2022-11-03T10:35:08.290Z"
   },
   {
    "duration": 14,
    "start_time": "2022-11-03T10:35:19.923Z"
   },
   {
    "duration": 13,
    "start_time": "2022-11-03T10:35:21.035Z"
   },
   {
    "duration": 15,
    "start_time": "2022-11-03T10:35:25.404Z"
   },
   {
    "duration": 9,
    "start_time": "2022-11-03T10:35:32.679Z"
   },
   {
    "duration": 6,
    "start_time": "2022-11-03T10:35:47.971Z"
   },
   {
    "duration": 2,
    "start_time": "2022-11-03T10:35:51.876Z"
   },
   {
    "duration": 71,
    "start_time": "2022-11-03T10:35:51.885Z"
   },
   {
    "duration": 14,
    "start_time": "2022-11-03T10:35:51.958Z"
   },
   {
    "duration": 16,
    "start_time": "2022-11-03T10:35:51.974Z"
   },
   {
    "duration": 10,
    "start_time": "2022-11-03T10:35:51.992Z"
   },
   {
    "duration": 6,
    "start_time": "2022-11-03T10:35:52.004Z"
   },
   {
    "duration": 27,
    "start_time": "2022-11-03T10:35:52.012Z"
   },
   {
    "duration": 14,
    "start_time": "2022-11-03T10:35:52.041Z"
   },
   {
    "duration": 4,
    "start_time": "2022-11-03T10:35:52.057Z"
   },
   {
    "duration": 9,
    "start_time": "2022-11-03T10:35:52.063Z"
   },
   {
    "duration": 4,
    "start_time": "2022-11-03T10:35:52.074Z"
   },
   {
    "duration": 10,
    "start_time": "2022-11-03T10:35:52.080Z"
   },
   {
    "duration": 13,
    "start_time": "2022-11-03T10:35:52.091Z"
   },
   {
    "duration": 3,
    "start_time": "2022-11-03T10:35:52.106Z"
   },
   {
    "duration": 3,
    "start_time": "2022-11-03T10:35:52.139Z"
   },
   {
    "duration": 6,
    "start_time": "2022-11-03T10:35:52.144Z"
   },
   {
    "duration": 12,
    "start_time": "2022-11-03T10:35:52.152Z"
   },
   {
    "duration": 5,
    "start_time": "2022-11-03T10:35:52.166Z"
   },
   {
    "duration": 7,
    "start_time": "2022-11-03T10:35:52.173Z"
   },
   {
    "duration": 8,
    "start_time": "2022-11-03T10:35:52.182Z"
   },
   {
    "duration": 7,
    "start_time": "2022-11-03T10:35:52.192Z"
   },
   {
    "duration": 6,
    "start_time": "2022-11-03T10:35:52.200Z"
   },
   {
    "duration": 10,
    "start_time": "2022-11-03T10:35:56.027Z"
   },
   {
    "duration": 6,
    "start_time": "2022-11-03T10:35:59.144Z"
   },
   {
    "duration": 9,
    "start_time": "2022-11-03T10:36:00.259Z"
   },
   {
    "duration": 7,
    "start_time": "2022-11-03T10:37:51.622Z"
   },
   {
    "duration": 11,
    "start_time": "2022-11-03T10:37:53.119Z"
   },
   {
    "duration": 3,
    "start_time": "2022-11-03T10:38:03.579Z"
   },
   {
    "duration": 91,
    "start_time": "2022-11-03T10:38:03.584Z"
   },
   {
    "duration": 14,
    "start_time": "2022-11-03T10:38:03.677Z"
   },
   {
    "duration": 19,
    "start_time": "2022-11-03T10:38:03.692Z"
   },
   {
    "duration": 10,
    "start_time": "2022-11-03T10:38:03.713Z"
   },
   {
    "duration": 17,
    "start_time": "2022-11-03T10:38:03.725Z"
   },
   {
    "duration": 4,
    "start_time": "2022-11-03T10:38:03.743Z"
   },
   {
    "duration": 12,
    "start_time": "2022-11-03T10:38:03.749Z"
   },
   {
    "duration": 11,
    "start_time": "2022-11-03T10:38:03.763Z"
   },
   {
    "duration": 13,
    "start_time": "2022-11-03T10:38:03.776Z"
   },
   {
    "duration": 5,
    "start_time": "2022-11-03T10:38:03.791Z"
   },
   {
    "duration": 8,
    "start_time": "2022-11-03T10:38:03.798Z"
   },
   {
    "duration": 32,
    "start_time": "2022-11-03T10:38:03.808Z"
   },
   {
    "duration": 3,
    "start_time": "2022-11-03T10:38:03.842Z"
   },
   {
    "duration": 7,
    "start_time": "2022-11-03T10:38:03.846Z"
   },
   {
    "duration": 6,
    "start_time": "2022-11-03T10:38:03.855Z"
   },
   {
    "duration": 6,
    "start_time": "2022-11-03T10:38:03.863Z"
   },
   {
    "duration": 5,
    "start_time": "2022-11-03T10:38:03.870Z"
   },
   {
    "duration": 5,
    "start_time": "2022-11-03T10:38:03.876Z"
   },
   {
    "duration": 9,
    "start_time": "2022-11-03T10:38:03.882Z"
   },
   {
    "duration": 6,
    "start_time": "2022-11-03T10:38:03.893Z"
   },
   {
    "duration": 6,
    "start_time": "2022-11-03T10:38:03.900Z"
   },
   {
    "duration": 8,
    "start_time": "2022-11-03T10:38:29.382Z"
   },
   {
    "duration": 12,
    "start_time": "2022-11-03T10:38:30.960Z"
   },
   {
    "duration": 12,
    "start_time": "2022-11-03T10:38:31.703Z"
   },
   {
    "duration": 12,
    "start_time": "2022-11-03T10:38:31.942Z"
   },
   {
    "duration": 12,
    "start_time": "2022-11-03T10:38:32.094Z"
   },
   {
    "duration": 11,
    "start_time": "2022-11-03T10:38:32.254Z"
   },
   {
    "duration": 2,
    "start_time": "2022-11-03T10:38:34.265Z"
   },
   {
    "duration": 92,
    "start_time": "2022-11-03T10:38:34.269Z"
   },
   {
    "duration": 17,
    "start_time": "2022-11-03T10:38:34.363Z"
   },
   {
    "duration": 21,
    "start_time": "2022-11-03T10:38:34.382Z"
   },
   {
    "duration": 33,
    "start_time": "2022-11-03T10:38:34.406Z"
   },
   {
    "duration": 12,
    "start_time": "2022-11-03T10:38:34.441Z"
   },
   {
    "duration": 9,
    "start_time": "2022-11-03T10:38:34.455Z"
   },
   {
    "duration": 13,
    "start_time": "2022-11-03T10:38:34.465Z"
   },
   {
    "duration": 4,
    "start_time": "2022-11-03T10:38:34.480Z"
   },
   {
    "duration": 8,
    "start_time": "2022-11-03T10:38:34.485Z"
   },
   {
    "duration": 5,
    "start_time": "2022-11-03T10:38:34.495Z"
   },
   {
    "duration": 37,
    "start_time": "2022-11-03T10:38:34.502Z"
   },
   {
    "duration": 13,
    "start_time": "2022-11-03T10:38:34.541Z"
   },
   {
    "duration": 9,
    "start_time": "2022-11-03T10:38:34.556Z"
   },
   {
    "duration": 7,
    "start_time": "2022-11-03T10:38:34.568Z"
   },
   {
    "duration": 5,
    "start_time": "2022-11-03T10:38:34.577Z"
   },
   {
    "duration": 6,
    "start_time": "2022-11-03T10:38:34.583Z"
   },
   {
    "duration": 5,
    "start_time": "2022-11-03T10:38:34.591Z"
   },
   {
    "duration": 6,
    "start_time": "2022-11-03T10:38:34.597Z"
   },
   {
    "duration": 5,
    "start_time": "2022-11-03T10:38:34.604Z"
   },
   {
    "duration": 5,
    "start_time": "2022-11-03T10:38:34.611Z"
   },
   {
    "duration": 3,
    "start_time": "2022-11-03T10:38:34.639Z"
   },
   {
    "duration": 7,
    "start_time": "2022-11-03T10:49:24.108Z"
   },
   {
    "duration": 18,
    "start_time": "2022-11-03T10:49:25.980Z"
   },
   {
    "duration": 3,
    "start_time": "2022-11-03T10:49:49.437Z"
   },
   {
    "duration": 76,
    "start_time": "2022-11-03T10:49:49.443Z"
   },
   {
    "duration": 17,
    "start_time": "2022-11-03T10:49:49.521Z"
   },
   {
    "duration": 24,
    "start_time": "2022-11-03T10:49:49.541Z"
   },
   {
    "duration": 14,
    "start_time": "2022-11-03T10:49:49.568Z"
   },
   {
    "duration": 10,
    "start_time": "2022-11-03T10:49:49.584Z"
   },
   {
    "duration": 9,
    "start_time": "2022-11-03T10:49:49.596Z"
   },
   {
    "duration": 11,
    "start_time": "2022-11-03T10:49:49.607Z"
   },
   {
    "duration": 4,
    "start_time": "2022-11-03T10:49:49.640Z"
   },
   {
    "duration": 11,
    "start_time": "2022-11-03T10:49:49.645Z"
   },
   {
    "duration": 4,
    "start_time": "2022-11-03T10:49:49.658Z"
   },
   {
    "duration": 9,
    "start_time": "2022-11-03T10:49:49.663Z"
   },
   {
    "duration": 13,
    "start_time": "2022-11-03T10:49:49.674Z"
   },
   {
    "duration": 3,
    "start_time": "2022-11-03T10:49:49.689Z"
   },
   {
    "duration": 4,
    "start_time": "2022-11-03T10:49:49.693Z"
   },
   {
    "duration": 39,
    "start_time": "2022-11-03T10:49:49.699Z"
   },
   {
    "duration": 3,
    "start_time": "2022-11-03T10:49:49.741Z"
   },
   {
    "duration": 6,
    "start_time": "2022-11-03T10:49:49.746Z"
   },
   {
    "duration": 5,
    "start_time": "2022-11-03T10:49:49.754Z"
   },
   {
    "duration": 6,
    "start_time": "2022-11-03T10:49:49.760Z"
   },
   {
    "duration": 4,
    "start_time": "2022-11-03T10:49:49.768Z"
   },
   {
    "duration": 5,
    "start_time": "2022-11-03T10:49:49.774Z"
   },
   {
    "duration": 544,
    "start_time": "2022-11-03T10:53:21.233Z"
   },
   {
    "duration": 10,
    "start_time": "2022-11-03T10:53:33.576Z"
   },
   {
    "duration": 15,
    "start_time": "2022-11-03T10:53:35.041Z"
   },
   {
    "duration": 6,
    "start_time": "2022-11-03T10:54:27.688Z"
   },
   {
    "duration": 11,
    "start_time": "2022-11-03T10:54:29.255Z"
   },
   {
    "duration": 34,
    "start_time": "2022-11-03T10:55:25.897Z"
   },
   {
    "duration": 3,
    "start_time": "2022-11-03T10:55:50.699Z"
   },
   {
    "duration": 76,
    "start_time": "2022-11-03T10:55:50.705Z"
   },
   {
    "duration": 14,
    "start_time": "2022-11-03T10:55:50.783Z"
   },
   {
    "duration": 18,
    "start_time": "2022-11-03T10:55:50.799Z"
   },
   {
    "duration": 20,
    "start_time": "2022-11-03T10:55:50.820Z"
   },
   {
    "duration": 7,
    "start_time": "2022-11-03T10:55:50.841Z"
   },
   {
    "duration": 6,
    "start_time": "2022-11-03T10:55:50.850Z"
   },
   {
    "duration": 11,
    "start_time": "2022-11-03T10:55:50.858Z"
   },
   {
    "duration": 5,
    "start_time": "2022-11-03T10:55:50.870Z"
   },
   {
    "duration": 11,
    "start_time": "2022-11-03T10:55:50.876Z"
   },
   {
    "duration": 5,
    "start_time": "2022-11-03T10:55:50.889Z"
   },
   {
    "duration": 64,
    "start_time": "2022-11-03T10:55:50.896Z"
   },
   {
    "duration": 11,
    "start_time": "2022-11-03T10:55:50.962Z"
   },
   {
    "duration": 3,
    "start_time": "2022-11-03T10:55:50.975Z"
   },
   {
    "duration": 4,
    "start_time": "2022-11-03T10:55:50.980Z"
   },
   {
    "duration": 5,
    "start_time": "2022-11-03T10:55:50.986Z"
   },
   {
    "duration": 6,
    "start_time": "2022-11-03T10:55:50.993Z"
   },
   {
    "duration": 6,
    "start_time": "2022-11-03T10:55:51.001Z"
   },
   {
    "duration": 30,
    "start_time": "2022-11-03T10:55:51.009Z"
   },
   {
    "duration": 8,
    "start_time": "2022-11-03T10:55:51.041Z"
   },
   {
    "duration": 7,
    "start_time": "2022-11-03T10:55:51.051Z"
   },
   {
    "duration": 7,
    "start_time": "2022-11-03T10:55:51.060Z"
   },
   {
    "duration": 253,
    "start_time": "2022-11-03T12:41:56.802Z"
   },
   {
    "duration": 18,
    "start_time": "2022-11-03T12:42:12.297Z"
   },
   {
    "duration": 810,
    "start_time": "2022-11-03T12:42:32.067Z"
   },
   {
    "duration": 831,
    "start_time": "2022-11-03T12:43:43.132Z"
   },
   {
    "duration": 1045,
    "start_time": "2022-11-03T12:43:45.732Z"
   },
   {
    "duration": 3,
    "start_time": "2022-11-03T12:43:49.788Z"
   },
   {
    "duration": 97,
    "start_time": "2022-11-03T12:43:49.793Z"
   },
   {
    "duration": 15,
    "start_time": "2022-11-03T12:43:49.892Z"
   },
   {
    "duration": 33,
    "start_time": "2022-11-03T12:43:49.910Z"
   },
   {
    "duration": 24,
    "start_time": "2022-11-03T12:43:49.945Z"
   },
   {
    "duration": 8,
    "start_time": "2022-11-03T12:43:49.972Z"
   },
   {
    "duration": 3,
    "start_time": "2022-11-03T12:43:49.982Z"
   },
   {
    "duration": 10,
    "start_time": "2022-11-03T12:43:49.986Z"
   },
   {
    "duration": 5,
    "start_time": "2022-11-03T12:43:49.998Z"
   },
   {
    "duration": 43,
    "start_time": "2022-11-03T12:43:50.004Z"
   },
   {
    "duration": 7,
    "start_time": "2022-11-03T12:43:50.050Z"
   },
   {
    "duration": 36,
    "start_time": "2022-11-03T12:43:50.059Z"
   },
   {
    "duration": 12,
    "start_time": "2022-11-03T12:43:50.097Z"
   },
   {
    "duration": 5,
    "start_time": "2022-11-03T12:43:50.111Z"
   },
   {
    "duration": 5,
    "start_time": "2022-11-03T12:43:50.117Z"
   },
   {
    "duration": 4,
    "start_time": "2022-11-03T12:43:50.149Z"
   },
   {
    "duration": 19,
    "start_time": "2022-11-03T12:43:50.155Z"
   },
   {
    "duration": 9,
    "start_time": "2022-11-03T12:43:50.176Z"
   },
   {
    "duration": 6,
    "start_time": "2022-11-03T12:43:50.187Z"
   },
   {
    "duration": 7,
    "start_time": "2022-11-03T12:43:50.195Z"
   },
   {
    "duration": 5,
    "start_time": "2022-11-03T12:43:50.203Z"
   },
   {
    "duration": 5,
    "start_time": "2022-11-03T12:43:50.210Z"
   },
   {
    "duration": 1035,
    "start_time": "2022-11-03T12:44:15.462Z"
   },
   {
    "duration": 31,
    "start_time": "2022-11-03T12:44:20.858Z"
   },
   {
    "duration": 37,
    "start_time": "2022-11-03T12:44:30.039Z"
   },
   {
    "duration": 1307,
    "start_time": "2022-11-03T12:44:37.776Z"
   },
   {
    "duration": 21,
    "start_time": "2022-11-03T12:44:40.582Z"
   },
   {
    "duration": 265,
    "start_time": "2022-11-03T12:45:11.951Z"
   },
   {
    "duration": 235,
    "start_time": "2022-11-03T12:45:47.030Z"
   },
   {
    "duration": 3,
    "start_time": "2022-11-03T12:45:50.406Z"
   },
   {
    "duration": 120,
    "start_time": "2022-11-03T12:45:50.411Z"
   },
   {
    "duration": 26,
    "start_time": "2022-11-03T12:45:50.533Z"
   },
   {
    "duration": 60,
    "start_time": "2022-11-03T12:45:50.563Z"
   },
   {
    "duration": 34,
    "start_time": "2022-11-03T12:45:50.626Z"
   },
   {
    "duration": 25,
    "start_time": "2022-11-03T12:45:50.663Z"
   },
   {
    "duration": 21,
    "start_time": "2022-11-03T12:45:50.695Z"
   },
   {
    "duration": 14,
    "start_time": "2022-11-03T12:45:50.718Z"
   },
   {
    "duration": 16,
    "start_time": "2022-11-03T12:45:50.735Z"
   },
   {
    "duration": 45,
    "start_time": "2022-11-03T12:45:50.754Z"
   },
   {
    "duration": 15,
    "start_time": "2022-11-03T12:45:50.801Z"
   },
   {
    "duration": 368,
    "start_time": "2022-11-03T12:45:50.819Z"
   },
   {
    "duration": 0,
    "start_time": "2022-11-03T12:45:51.189Z"
   },
   {
    "duration": 0,
    "start_time": "2022-11-03T12:45:51.191Z"
   },
   {
    "duration": 0,
    "start_time": "2022-11-03T12:45:51.192Z"
   },
   {
    "duration": 0,
    "start_time": "2022-11-03T12:45:51.194Z"
   },
   {
    "duration": 0,
    "start_time": "2022-11-03T12:45:51.195Z"
   },
   {
    "duration": 0,
    "start_time": "2022-11-03T12:45:51.197Z"
   },
   {
    "duration": 0,
    "start_time": "2022-11-03T12:45:51.198Z"
   },
   {
    "duration": 0,
    "start_time": "2022-11-03T12:45:51.200Z"
   },
   {
    "duration": 0,
    "start_time": "2022-11-03T12:45:51.202Z"
   },
   {
    "duration": 0,
    "start_time": "2022-11-03T12:45:51.203Z"
   },
   {
    "duration": 239,
    "start_time": "2022-11-03T12:46:05.452Z"
   },
   {
    "duration": 3,
    "start_time": "2022-11-03T12:46:08.953Z"
   },
   {
    "duration": 83,
    "start_time": "2022-11-03T12:46:08.958Z"
   },
   {
    "duration": 24,
    "start_time": "2022-11-03T12:46:09.044Z"
   },
   {
    "duration": 22,
    "start_time": "2022-11-03T12:46:09.070Z"
   },
   {
    "duration": 10,
    "start_time": "2022-11-03T12:46:09.094Z"
   },
   {
    "duration": 9,
    "start_time": "2022-11-03T12:46:09.106Z"
   },
   {
    "duration": 24,
    "start_time": "2022-11-03T12:46:09.116Z"
   },
   {
    "duration": 22,
    "start_time": "2022-11-03T12:46:09.142Z"
   },
   {
    "duration": 17,
    "start_time": "2022-11-03T12:46:09.168Z"
   },
   {
    "duration": 20,
    "start_time": "2022-11-03T12:46:09.187Z"
   },
   {
    "duration": 17,
    "start_time": "2022-11-03T12:46:09.209Z"
   },
   {
    "duration": 265,
    "start_time": "2022-11-03T12:46:09.228Z"
   },
   {
    "duration": 0,
    "start_time": "2022-11-03T12:46:09.496Z"
   },
   {
    "duration": 0,
    "start_time": "2022-11-03T12:46:09.498Z"
   },
   {
    "duration": 0,
    "start_time": "2022-11-03T12:46:09.499Z"
   },
   {
    "duration": 0,
    "start_time": "2022-11-03T12:46:09.500Z"
   },
   {
    "duration": 0,
    "start_time": "2022-11-03T12:46:09.502Z"
   },
   {
    "duration": 0,
    "start_time": "2022-11-03T12:46:09.503Z"
   },
   {
    "duration": 0,
    "start_time": "2022-11-03T12:46:09.505Z"
   },
   {
    "duration": 0,
    "start_time": "2022-11-03T12:46:09.506Z"
   },
   {
    "duration": 0,
    "start_time": "2022-11-03T12:46:09.507Z"
   },
   {
    "duration": 0,
    "start_time": "2022-11-03T12:46:09.508Z"
   },
   {
    "duration": 224,
    "start_time": "2022-11-03T12:46:21.479Z"
   },
   {
    "duration": 3,
    "start_time": "2022-11-03T12:46:24.799Z"
   },
   {
    "duration": 106,
    "start_time": "2022-11-03T12:46:24.804Z"
   },
   {
    "duration": 28,
    "start_time": "2022-11-03T12:46:24.913Z"
   },
   {
    "duration": 41,
    "start_time": "2022-11-03T12:46:24.944Z"
   },
   {
    "duration": 16,
    "start_time": "2022-11-03T12:46:24.988Z"
   },
   {
    "duration": 9,
    "start_time": "2022-11-03T12:46:25.006Z"
   },
   {
    "duration": 26,
    "start_time": "2022-11-03T12:46:25.017Z"
   },
   {
    "duration": 24,
    "start_time": "2022-11-03T12:46:25.046Z"
   },
   {
    "duration": 5,
    "start_time": "2022-11-03T12:46:25.072Z"
   },
   {
    "duration": 20,
    "start_time": "2022-11-03T12:46:25.080Z"
   },
   {
    "duration": 6,
    "start_time": "2022-11-03T12:46:25.104Z"
   },
   {
    "duration": 6,
    "start_time": "2022-11-03T12:46:25.112Z"
   },
   {
    "duration": 19,
    "start_time": "2022-11-03T12:46:25.138Z"
   },
   {
    "duration": 7,
    "start_time": "2022-11-03T12:46:25.167Z"
   },
   {
    "duration": 10,
    "start_time": "2022-11-03T12:46:25.176Z"
   },
   {
    "duration": 5,
    "start_time": "2022-11-03T12:46:25.188Z"
   },
   {
    "duration": 7,
    "start_time": "2022-11-03T12:46:25.195Z"
   },
   {
    "duration": 5,
    "start_time": "2022-11-03T12:46:25.204Z"
   },
   {
    "duration": 6,
    "start_time": "2022-11-03T12:46:25.211Z"
   },
   {
    "duration": 11,
    "start_time": "2022-11-03T12:46:25.218Z"
   },
   {
    "duration": 10,
    "start_time": "2022-11-03T12:46:25.231Z"
   },
   {
    "duration": 18,
    "start_time": "2022-11-03T12:46:25.243Z"
   },
   {
    "duration": 4,
    "start_time": "2022-11-03T12:52:46.636Z"
   },
   {
    "duration": 26,
    "start_time": "2022-11-03T12:55:29.246Z"
   },
   {
    "duration": 29,
    "start_time": "2022-11-03T13:03:34.148Z"
   },
   {
    "duration": 18,
    "start_time": "2022-11-03T13:03:43.639Z"
   },
   {
    "duration": 18,
    "start_time": "2022-11-03T13:03:49.423Z"
   },
   {
    "duration": 6,
    "start_time": "2022-11-03T13:05:31.833Z"
   },
   {
    "duration": 14,
    "start_time": "2022-11-03T13:06:04.372Z"
   },
   {
    "duration": 9,
    "start_time": "2022-11-03T13:06:25.702Z"
   },
   {
    "duration": 11,
    "start_time": "2022-11-03T13:06:29.980Z"
   },
   {
    "duration": 20,
    "start_time": "2022-11-03T13:06:34.148Z"
   },
   {
    "duration": 12,
    "start_time": "2022-11-03T13:06:46.931Z"
   },
   {
    "duration": 8,
    "start_time": "2022-11-03T13:15:12.005Z"
   },
   {
    "duration": 7,
    "start_time": "2022-11-03T13:15:19.318Z"
   },
   {
    "duration": 4,
    "start_time": "2022-11-03T13:15:42.525Z"
   },
   {
    "duration": 10,
    "start_time": "2022-11-03T13:15:43.562Z"
   },
   {
    "duration": 6,
    "start_time": "2022-11-03T13:16:29.982Z"
   },
   {
    "duration": 7,
    "start_time": "2022-11-03T13:29:32.988Z"
   },
   {
    "duration": 51,
    "start_time": "2022-11-03T13:29:34.203Z"
   },
   {
    "duration": 5,
    "start_time": "2022-11-03T13:29:53.489Z"
   },
   {
    "duration": 14,
    "start_time": "2022-11-03T13:29:54.516Z"
   },
   {
    "duration": 55,
    "start_time": "2022-11-03T13:30:16.801Z"
   },
   {
    "duration": 3,
    "start_time": "2022-11-03T13:30:20.142Z"
   },
   {
    "duration": 2615,
    "start_time": "2022-11-03T13:30:21.980Z"
   },
   {
    "duration": 4,
    "start_time": "2022-11-03T13:33:06.276Z"
   },
   {
    "duration": 2772,
    "start_time": "2022-11-03T13:33:06.976Z"
   },
   {
    "duration": 4,
    "start_time": "2022-11-03T13:33:14.182Z"
   },
   {
    "duration": 10,
    "start_time": "2022-11-03T13:33:14.927Z"
   },
   {
    "duration": 10,
    "start_time": "2022-11-03T13:35:52.216Z"
   },
   {
    "duration": 3,
    "start_time": "2022-11-03T13:57:03.152Z"
   },
   {
    "duration": 10,
    "start_time": "2022-11-03T13:57:04.138Z"
   },
   {
    "duration": 61,
    "start_time": "2022-11-05T14:11:54.004Z"
   },
   {
    "duration": 6,
    "start_time": "2022-11-05T14:11:58.195Z"
   },
   {
    "duration": 456,
    "start_time": "2022-11-05T14:12:17.037Z"
   },
   {
    "duration": 141,
    "start_time": "2022-11-05T14:12:17.495Z"
   },
   {
    "duration": 27,
    "start_time": "2022-11-05T14:12:17.637Z"
   },
   {
    "duration": 16,
    "start_time": "2022-11-05T14:12:17.666Z"
   },
   {
    "duration": 10,
    "start_time": "2022-11-05T14:12:17.684Z"
   },
   {
    "duration": 39,
    "start_time": "2022-11-05T14:12:17.696Z"
   },
   {
    "duration": 4,
    "start_time": "2022-11-05T14:12:17.737Z"
   },
   {
    "duration": 15,
    "start_time": "2022-11-05T14:12:17.743Z"
   },
   {
    "duration": 5,
    "start_time": "2022-11-05T14:12:17.760Z"
   },
   {
    "duration": 10,
    "start_time": "2022-11-05T14:12:17.766Z"
   },
   {
    "duration": 5,
    "start_time": "2022-11-05T14:12:17.778Z"
   },
   {
    "duration": 5,
    "start_time": "2022-11-05T14:12:17.784Z"
   },
   {
    "duration": 46,
    "start_time": "2022-11-05T14:12:17.791Z"
   },
   {
    "duration": 4,
    "start_time": "2022-11-05T14:12:17.840Z"
   },
   {
    "duration": 22,
    "start_time": "2022-11-05T14:12:17.846Z"
   },
   {
    "duration": 26,
    "start_time": "2022-11-05T14:12:17.870Z"
   },
   {
    "duration": 39,
    "start_time": "2022-11-05T14:12:17.898Z"
   },
   {
    "duration": 4,
    "start_time": "2022-11-05T14:12:17.939Z"
   },
   {
    "duration": 14,
    "start_time": "2022-11-05T14:12:17.945Z"
   },
   {
    "duration": 7,
    "start_time": "2022-11-05T14:12:17.960Z"
   },
   {
    "duration": 4,
    "start_time": "2022-11-05T14:12:17.969Z"
   },
   {
    "duration": 12,
    "start_time": "2022-11-05T14:12:17.975Z"
   },
   {
    "duration": 47,
    "start_time": "2022-11-05T16:42:10.305Z"
   },
   {
    "duration": 6,
    "start_time": "2022-11-05T16:42:23.528Z"
   },
   {
    "duration": 352,
    "start_time": "2022-11-05T16:42:26.172Z"
   },
   {
    "duration": 148,
    "start_time": "2022-11-05T16:42:26.527Z"
   },
   {
    "duration": 33,
    "start_time": "2022-11-05T16:42:26.676Z"
   },
   {
    "duration": 17,
    "start_time": "2022-11-05T16:42:26.711Z"
   },
   {
    "duration": 9,
    "start_time": "2022-11-05T16:42:26.730Z"
   },
   {
    "duration": 5,
    "start_time": "2022-11-05T16:42:26.741Z"
   },
   {
    "duration": 8,
    "start_time": "2022-11-05T16:42:26.748Z"
   },
   {
    "duration": 11,
    "start_time": "2022-11-05T16:42:26.757Z"
   },
   {
    "duration": 3,
    "start_time": "2022-11-05T16:42:26.769Z"
   },
   {
    "duration": 33,
    "start_time": "2022-11-05T16:42:26.774Z"
   },
   {
    "duration": 4,
    "start_time": "2022-11-05T16:42:26.809Z"
   },
   {
    "duration": 8,
    "start_time": "2022-11-05T16:42:26.815Z"
   },
   {
    "duration": 15,
    "start_time": "2022-11-05T16:42:26.824Z"
   },
   {
    "duration": 3,
    "start_time": "2022-11-05T16:42:26.840Z"
   },
   {
    "duration": 19,
    "start_time": "2022-11-05T16:42:26.844Z"
   },
   {
    "duration": 14,
    "start_time": "2022-11-05T16:42:26.864Z"
   },
   {
    "duration": 32,
    "start_time": "2022-11-05T16:42:26.880Z"
   },
   {
    "duration": 4,
    "start_time": "2022-11-05T16:42:26.915Z"
   },
   {
    "duration": 22,
    "start_time": "2022-11-05T16:42:26.920Z"
   },
   {
    "duration": 7,
    "start_time": "2022-11-05T16:42:26.945Z"
   },
   {
    "duration": 5,
    "start_time": "2022-11-05T16:42:26.954Z"
   },
   {
    "duration": 12,
    "start_time": "2022-11-05T16:42:26.961Z"
   },
   {
    "duration": 4,
    "start_time": "2022-11-05T16:42:40.749Z"
   },
   {
    "duration": 63,
    "start_time": "2022-11-05T16:48:21.380Z"
   },
   {
    "duration": 41,
    "start_time": "2022-11-05T16:48:49.820Z"
   },
   {
    "duration": 22,
    "start_time": "2022-11-05T16:49:22.981Z"
   },
   {
    "duration": 22,
    "start_time": "2022-11-05T16:49:32.772Z"
   },
   {
    "duration": 23,
    "start_time": "2022-11-05T16:49:41.733Z"
   },
   {
    "duration": 34,
    "start_time": "2022-11-05T16:49:45.176Z"
   },
   {
    "duration": 29,
    "start_time": "2022-11-05T16:49:52.565Z"
   },
   {
    "duration": 37,
    "start_time": "2022-11-05T16:50:01.654Z"
   },
   {
    "duration": 34,
    "start_time": "2022-11-05T16:51:15.854Z"
   },
   {
    "duration": 8,
    "start_time": "2022-11-05T16:52:34.376Z"
   },
   {
    "duration": 13,
    "start_time": "2022-11-05T16:52:39.928Z"
   },
   {
    "duration": 7,
    "start_time": "2022-11-05T16:53:04.471Z"
   },
   {
    "duration": 10,
    "start_time": "2022-11-05T16:53:19.874Z"
   },
   {
    "duration": 8,
    "start_time": "2022-11-05T16:53:24.328Z"
   },
   {
    "duration": 49,
    "start_time": "2022-11-05T16:54:56.323Z"
   },
   {
    "duration": 16,
    "start_time": "2022-11-05T16:55:00.211Z"
   },
   {
    "duration": 18,
    "start_time": "2022-11-05T16:55:12.640Z"
   },
   {
    "duration": 23,
    "start_time": "2022-11-05T16:55:15.514Z"
   },
   {
    "duration": 3,
    "start_time": "2022-11-05T16:55:17.935Z"
   },
   {
    "duration": 83,
    "start_time": "2022-11-05T16:55:17.940Z"
   },
   {
    "duration": 18,
    "start_time": "2022-11-05T16:55:18.025Z"
   },
   {
    "duration": 25,
    "start_time": "2022-11-05T16:55:18.045Z"
   },
   {
    "duration": 8,
    "start_time": "2022-11-05T16:55:18.073Z"
   },
   {
    "duration": 23,
    "start_time": "2022-11-05T16:55:18.083Z"
   },
   {
    "duration": 3,
    "start_time": "2022-11-05T16:55:18.108Z"
   },
   {
    "duration": 11,
    "start_time": "2022-11-05T16:55:18.112Z"
   },
   {
    "duration": 4,
    "start_time": "2022-11-05T16:55:18.124Z"
   },
   {
    "duration": 8,
    "start_time": "2022-11-05T16:55:18.130Z"
   },
   {
    "duration": 5,
    "start_time": "2022-11-05T16:55:18.139Z"
   },
   {
    "duration": 34,
    "start_time": "2022-11-05T16:55:18.145Z"
   },
   {
    "duration": 30,
    "start_time": "2022-11-05T16:55:18.181Z"
   },
   {
    "duration": 6,
    "start_time": "2022-11-05T16:55:18.213Z"
   },
   {
    "duration": 25,
    "start_time": "2022-11-05T16:55:18.221Z"
   },
   {
    "duration": 15,
    "start_time": "2022-11-05T16:55:18.248Z"
   },
   {
    "duration": 10,
    "start_time": "2022-11-05T16:55:18.265Z"
   },
   {
    "duration": 8,
    "start_time": "2022-11-05T16:55:18.276Z"
   },
   {
    "duration": 25,
    "start_time": "2022-11-05T16:55:18.285Z"
   },
   {
    "duration": 7,
    "start_time": "2022-11-05T16:55:18.311Z"
   },
   {
    "duration": 3,
    "start_time": "2022-11-05T16:55:18.319Z"
   },
   {
    "duration": 12,
    "start_time": "2022-11-05T16:55:18.324Z"
   },
   {
    "duration": 1067,
    "start_time": "2022-11-05T16:56:51.852Z"
   },
   {
    "duration": 1130,
    "start_time": "2022-11-05T16:56:57.789Z"
   },
   {
    "duration": 7,
    "start_time": "2022-11-05T17:00:33.538Z"
   },
   {
    "duration": 7,
    "start_time": "2022-11-05T17:00:39.000Z"
   },
   {
    "duration": 6,
    "start_time": "2022-11-05T17:00:44.552Z"
   },
   {
    "duration": 8,
    "start_time": "2022-11-05T17:01:14.690Z"
   },
   {
    "duration": 2,
    "start_time": "2022-11-05T17:01:35.620Z"
   },
   {
    "duration": 4,
    "start_time": "2022-11-05T17:01:42.980Z"
   },
   {
    "duration": 1180,
    "start_time": "2022-11-05T17:02:10.089Z"
   },
   {
    "duration": 5,
    "start_time": "2022-11-05T17:02:19.106Z"
   },
   {
    "duration": 7,
    "start_time": "2022-11-05T17:02:27.510Z"
   },
   {
    "duration": 5,
    "start_time": "2022-11-05T17:02:30.051Z"
   },
   {
    "duration": 5,
    "start_time": "2022-11-05T17:02:32.450Z"
   },
   {
    "duration": 5,
    "start_time": "2022-11-05T17:02:35.492Z"
   },
   {
    "duration": 6,
    "start_time": "2022-11-05T17:02:37.415Z"
   },
   {
    "duration": 5,
    "start_time": "2022-11-05T17:02:39.399Z"
   },
   {
    "duration": 11,
    "start_time": "2022-11-05T17:02:50.757Z"
   },
   {
    "duration": 7,
    "start_time": "2022-11-05T17:03:06.987Z"
   },
   {
    "duration": 8,
    "start_time": "2022-11-05T17:04:02.956Z"
   },
   {
    "duration": 11,
    "start_time": "2022-11-05T17:04:07.420Z"
   },
   {
    "duration": 10,
    "start_time": "2022-11-05T17:04:11.180Z"
   },
   {
    "duration": 4,
    "start_time": "2022-11-05T17:04:50.061Z"
   },
   {
    "duration": 4,
    "start_time": "2022-11-05T17:05:08.277Z"
   },
   {
    "duration": 79,
    "start_time": "2022-11-05T17:05:15.104Z"
   },
   {
    "duration": 70,
    "start_time": "2022-11-05T17:05:23.941Z"
   },
   {
    "duration": 4,
    "start_time": "2022-11-05T17:05:36.677Z"
   },
   {
    "duration": 5,
    "start_time": "2022-11-05T17:05:42.637Z"
   },
   {
    "duration": 6,
    "start_time": "2022-11-05T17:06:58.058Z"
   },
   {
    "duration": 8,
    "start_time": "2022-11-05T17:07:20.192Z"
   },
   {
    "duration": 8,
    "start_time": "2022-11-05T17:07:24.711Z"
   },
   {
    "duration": 5,
    "start_time": "2022-11-05T17:07:37.648Z"
   },
   {
    "duration": 3,
    "start_time": "2022-11-05T17:07:54.688Z"
   },
   {
    "duration": 4,
    "start_time": "2022-11-05T17:07:54.968Z"
   },
   {
    "duration": 9,
    "start_time": "2022-11-05T17:07:57.984Z"
   },
   {
    "duration": 5,
    "start_time": "2022-11-05T17:08:28.056Z"
   },
   {
    "duration": 3,
    "start_time": "2022-11-05T17:08:43.750Z"
   },
   {
    "duration": 3,
    "start_time": "2022-11-05T17:08:48.175Z"
   },
   {
    "duration": 4,
    "start_time": "2022-11-05T17:08:51.472Z"
   },
   {
    "duration": 3,
    "start_time": "2022-11-05T17:08:53.641Z"
   },
   {
    "duration": 3,
    "start_time": "2022-11-05T17:08:58.379Z"
   },
   {
    "duration": 4,
    "start_time": "2022-11-05T17:08:59.680Z"
   },
   {
    "duration": 5,
    "start_time": "2022-11-05T17:09:03.949Z"
   },
   {
    "duration": 4,
    "start_time": "2022-11-05T17:09:15.115Z"
   },
   {
    "duration": 4,
    "start_time": "2022-11-05T17:09:19.961Z"
   },
   {
    "duration": 4,
    "start_time": "2022-11-05T17:09:22.033Z"
   },
   {
    "duration": 5,
    "start_time": "2022-11-05T17:09:25.620Z"
   },
   {
    "duration": 11,
    "start_time": "2022-11-05T17:10:14.580Z"
   },
   {
    "duration": 10,
    "start_time": "2022-11-05T17:10:17.235Z"
   },
   {
    "duration": 93,
    "start_time": "2022-11-05T17:10:19.046Z"
   },
   {
    "duration": 15,
    "start_time": "2022-11-05T17:10:25.980Z"
   },
   {
    "duration": 14,
    "start_time": "2022-11-05T17:10:32.004Z"
   },
   {
    "duration": 2,
    "start_time": "2022-11-05T17:10:51.989Z"
   },
   {
    "duration": 71,
    "start_time": "2022-11-05T17:10:51.993Z"
   },
   {
    "duration": 14,
    "start_time": "2022-11-05T17:10:52.065Z"
   },
   {
    "duration": 15,
    "start_time": "2022-11-05T17:10:52.080Z"
   },
   {
    "duration": 8,
    "start_time": "2022-11-05T17:10:52.097Z"
   },
   {
    "duration": 6,
    "start_time": "2022-11-05T17:10:52.107Z"
   },
   {
    "duration": 3,
    "start_time": "2022-11-05T17:10:52.114Z"
   },
   {
    "duration": 10,
    "start_time": "2022-11-05T17:10:52.118Z"
   },
   {
    "duration": 4,
    "start_time": "2022-11-05T17:10:52.129Z"
   },
   {
    "duration": 10,
    "start_time": "2022-11-05T17:10:52.134Z"
   },
   {
    "duration": 4,
    "start_time": "2022-11-05T17:10:52.145Z"
   },
   {
    "duration": 59,
    "start_time": "2022-11-05T17:10:52.150Z"
   },
   {
    "duration": 9,
    "start_time": "2022-11-05T17:10:52.211Z"
   },
   {
    "duration": 4,
    "start_time": "2022-11-05T17:10:52.221Z"
   },
   {
    "duration": 18,
    "start_time": "2022-11-05T17:10:52.227Z"
   },
   {
    "duration": 18,
    "start_time": "2022-11-05T17:10:52.246Z"
   },
   {
    "duration": 10,
    "start_time": "2022-11-05T17:10:52.265Z"
   },
   {
    "duration": 35,
    "start_time": "2022-11-05T17:10:52.276Z"
   },
   {
    "duration": 11,
    "start_time": "2022-11-05T17:10:52.313Z"
   },
   {
    "duration": 5,
    "start_time": "2022-11-05T17:10:52.326Z"
   },
   {
    "duration": 4,
    "start_time": "2022-11-05T17:10:52.333Z"
   },
   {
    "duration": 16,
    "start_time": "2022-11-05T17:10:52.338Z"
   },
   {
    "duration": 12,
    "start_time": "2022-11-05T17:11:14.740Z"
   },
   {
    "duration": 8,
    "start_time": "2022-11-05T17:11:41.379Z"
   },
   {
    "duration": 8,
    "start_time": "2022-11-05T17:11:44.690Z"
   },
   {
    "duration": 70,
    "start_time": "2022-11-05T17:11:48.172Z"
   },
   {
    "duration": 10,
    "start_time": "2022-11-05T17:13:31.758Z"
   },
   {
    "duration": 12,
    "start_time": "2022-11-05T17:13:42.399Z"
   },
   {
    "duration": 28,
    "start_time": "2022-11-05T17:14:21.367Z"
   },
   {
    "duration": 7,
    "start_time": "2022-11-05T17:15:25.755Z"
   },
   {
    "duration": 277,
    "start_time": "2022-11-05T17:16:14.626Z"
   },
   {
    "duration": 284,
    "start_time": "2022-11-05T17:16:15.905Z"
   },
   {
    "duration": 3,
    "start_time": "2022-11-05T17:16:17.144Z"
   },
   {
    "duration": 276,
    "start_time": "2022-11-05T17:16:17.953Z"
   },
   {
    "duration": 2,
    "start_time": "2022-11-05T17:16:24.499Z"
   },
   {
    "duration": 72,
    "start_time": "2022-11-05T17:16:24.504Z"
   },
   {
    "duration": 14,
    "start_time": "2022-11-05T17:16:24.577Z"
   },
   {
    "duration": 14,
    "start_time": "2022-11-05T17:16:24.592Z"
   },
   {
    "duration": 8,
    "start_time": "2022-11-05T17:16:24.608Z"
   },
   {
    "duration": 6,
    "start_time": "2022-11-05T17:16:24.617Z"
   },
   {
    "duration": 3,
    "start_time": "2022-11-05T17:16:24.625Z"
   },
   {
    "duration": 12,
    "start_time": "2022-11-05T17:16:24.629Z"
   },
   {
    "duration": 4,
    "start_time": "2022-11-05T17:16:24.642Z"
   },
   {
    "duration": 12,
    "start_time": "2022-11-05T17:16:24.647Z"
   },
   {
    "duration": 5,
    "start_time": "2022-11-05T17:16:24.660Z"
   },
   {
    "duration": 62,
    "start_time": "2022-11-05T17:16:24.666Z"
   },
   {
    "duration": 9,
    "start_time": "2022-11-05T17:16:24.730Z"
   },
   {
    "duration": 4,
    "start_time": "2022-11-05T17:16:24.740Z"
   },
   {
    "duration": 13,
    "start_time": "2022-11-05T17:16:24.745Z"
   },
   {
    "duration": 12,
    "start_time": "2022-11-05T17:16:24.759Z"
   },
   {
    "duration": 50,
    "start_time": "2022-11-05T17:16:24.773Z"
   },
   {
    "duration": 4,
    "start_time": "2022-11-05T17:16:24.824Z"
   },
   {
    "duration": 2,
    "start_time": "2022-11-05T17:16:25.915Z"
   },
   {
    "duration": 66,
    "start_time": "2022-11-05T17:16:25.919Z"
   },
   {
    "duration": 13,
    "start_time": "2022-11-05T17:16:25.987Z"
   },
   {
    "duration": 13,
    "start_time": "2022-11-05T17:16:26.002Z"
   },
   {
    "duration": 7,
    "start_time": "2022-11-05T17:16:26.017Z"
   },
   {
    "duration": 7,
    "start_time": "2022-11-05T17:16:26.025Z"
   },
   {
    "duration": 3,
    "start_time": "2022-11-05T17:16:26.033Z"
   },
   {
    "duration": 12,
    "start_time": "2022-11-05T17:16:26.038Z"
   },
   {
    "duration": 4,
    "start_time": "2022-11-05T17:16:26.051Z"
   },
   {
    "duration": 7,
    "start_time": "2022-11-05T17:16:26.058Z"
   },
   {
    "duration": 3,
    "start_time": "2022-11-05T17:16:26.066Z"
   },
   {
    "duration": 59,
    "start_time": "2022-11-05T17:16:26.071Z"
   },
   {
    "duration": 8,
    "start_time": "2022-11-05T17:16:26.132Z"
   },
   {
    "duration": 5,
    "start_time": "2022-11-05T17:16:26.141Z"
   },
   {
    "duration": 11,
    "start_time": "2022-11-05T17:16:26.147Z"
   },
   {
    "duration": 10,
    "start_time": "2022-11-05T17:16:26.159Z"
   },
   {
    "duration": 55,
    "start_time": "2022-11-05T17:16:26.170Z"
   },
   {
    "duration": 3,
    "start_time": "2022-11-05T17:16:26.226Z"
   },
   {
    "duration": 29,
    "start_time": "2022-11-05T17:16:26.231Z"
   },
   {
    "duration": 5,
    "start_time": "2022-11-05T17:16:26.262Z"
   },
   {
    "duration": 4,
    "start_time": "2022-11-05T17:16:26.269Z"
   },
   {
    "duration": 15,
    "start_time": "2022-11-05T17:16:26.274Z"
   },
   {
    "duration": 267,
    "start_time": "2022-11-05T17:17:04.699Z"
   },
   {
    "duration": 282,
    "start_time": "2022-11-05T17:17:06.850Z"
   },
   {
    "duration": 3,
    "start_time": "2022-11-05T17:17:08.418Z"
   },
   {
    "duration": 2,
    "start_time": "2022-11-05T17:17:10.858Z"
   },
   {
    "duration": 67,
    "start_time": "2022-11-05T17:17:10.862Z"
   },
   {
    "duration": 14,
    "start_time": "2022-11-05T17:17:10.931Z"
   },
   {
    "duration": 18,
    "start_time": "2022-11-05T17:17:10.946Z"
   },
   {
    "duration": 8,
    "start_time": "2022-11-05T17:17:10.966Z"
   },
   {
    "duration": 6,
    "start_time": "2022-11-05T17:17:10.975Z"
   },
   {
    "duration": 5,
    "start_time": "2022-11-05T17:17:10.982Z"
   },
   {
    "duration": 22,
    "start_time": "2022-11-05T17:17:10.988Z"
   },
   {
    "duration": 4,
    "start_time": "2022-11-05T17:17:11.012Z"
   },
   {
    "duration": 7,
    "start_time": "2022-11-05T17:17:11.018Z"
   },
   {
    "duration": 4,
    "start_time": "2022-11-05T17:17:11.027Z"
   },
   {
    "duration": 34,
    "start_time": "2022-11-05T17:17:11.032Z"
   },
   {
    "duration": 38,
    "start_time": "2022-11-05T17:17:11.068Z"
   },
   {
    "duration": 4,
    "start_time": "2022-11-05T17:17:11.107Z"
   },
   {
    "duration": 12,
    "start_time": "2022-11-05T17:17:11.112Z"
   },
   {
    "duration": 13,
    "start_time": "2022-11-05T17:17:11.125Z"
   },
   {
    "duration": 28,
    "start_time": "2022-11-05T17:17:11.139Z"
   },
   {
    "duration": 3,
    "start_time": "2022-11-05T17:17:11.169Z"
   },
   {
    "duration": 10,
    "start_time": "2022-11-05T17:17:11.174Z"
   },
   {
    "duration": 5,
    "start_time": "2022-11-05T17:17:11.206Z"
   },
   {
    "duration": 4,
    "start_time": "2022-11-05T17:17:11.212Z"
   },
   {
    "duration": 12,
    "start_time": "2022-11-05T17:17:11.218Z"
   },
   {
    "duration": 7,
    "start_time": "2022-11-05T17:18:59.164Z"
   },
   {
    "duration": 9,
    "start_time": "2022-11-05T17:19:08.929Z"
   },
   {
    "duration": 7,
    "start_time": "2022-11-05T17:19:38.580Z"
   },
   {
    "duration": 11,
    "start_time": "2022-11-05T17:19:45.573Z"
   },
   {
    "duration": 3,
    "start_time": "2022-11-05T17:20:04.606Z"
   },
   {
    "duration": 2499,
    "start_time": "2022-11-05T17:20:08.237Z"
   },
   {
    "duration": 2306,
    "start_time": "2022-11-05T17:22:11.259Z"
   },
   {
    "duration": 2330,
    "start_time": "2022-11-05T17:22:23.942Z"
   },
   {
    "duration": 2433,
    "start_time": "2022-11-05T17:22:37.482Z"
   },
   {
    "duration": 2304,
    "start_time": "2022-11-05T17:22:45.057Z"
   },
   {
    "duration": 2451,
    "start_time": "2022-11-05T17:22:54.162Z"
   },
   {
    "duration": 3,
    "start_time": "2022-11-05T17:23:03.512Z"
   },
   {
    "duration": 3,
    "start_time": "2022-11-05T17:23:03.944Z"
   },
   {
    "duration": 3,
    "start_time": "2022-11-05T17:23:05.001Z"
   },
   {
    "duration": 7,
    "start_time": "2022-11-05T17:23:06.345Z"
   },
   {
    "duration": 3,
    "start_time": "2022-11-05T17:25:44.053Z"
   },
   {
    "duration": 304,
    "start_time": "2022-11-05T17:25:45.677Z"
   },
   {
    "duration": 3,
    "start_time": "2022-11-05T17:25:50.380Z"
   },
   {
    "duration": 303,
    "start_time": "2022-11-05T17:25:51.394Z"
   },
   {
    "duration": 3,
    "start_time": "2022-11-05T17:25:57.851Z"
   },
   {
    "duration": 312,
    "start_time": "2022-11-05T17:25:58.801Z"
   },
   {
    "duration": 295,
    "start_time": "2022-11-05T17:26:03.635Z"
   },
   {
    "duration": 3,
    "start_time": "2022-11-05T17:26:14.376Z"
   },
   {
    "duration": 308,
    "start_time": "2022-11-05T17:26:16.173Z"
   },
   {
    "duration": 3,
    "start_time": "2022-11-05T17:26:38.974Z"
   },
   {
    "duration": 8,
    "start_time": "2022-11-05T17:26:40.315Z"
   },
   {
    "duration": 9,
    "start_time": "2022-11-05T17:26:43.022Z"
   },
   {
    "duration": 3,
    "start_time": "2022-11-05T17:27:43.767Z"
   },
   {
    "duration": 3,
    "start_time": "2022-11-05T17:27:44.061Z"
   },
   {
    "duration": 312,
    "start_time": "2022-11-05T17:27:45.014Z"
   },
   {
    "duration": 3,
    "start_time": "2022-11-05T17:28:03.966Z"
   },
   {
    "duration": 10,
    "start_time": "2022-11-05T17:28:04.904Z"
   },
   {
    "duration": 89,
    "start_time": "2022-11-05T17:30:02.815Z"
   },
   {
    "duration": 3,
    "start_time": "2022-11-05T17:30:08.833Z"
   },
   {
    "duration": 10,
    "start_time": "2022-11-05T17:30:10.112Z"
   },
   {
    "duration": 3,
    "start_time": "2022-11-05T17:30:31.521Z"
   },
   {
    "duration": 9,
    "start_time": "2022-11-05T17:30:33.304Z"
   },
   {
    "duration": 3,
    "start_time": "2022-11-05T17:30:43.816Z"
   },
   {
    "duration": 12,
    "start_time": "2022-11-05T17:30:45.097Z"
   },
   {
    "duration": 4,
    "start_time": "2022-11-05T17:31:33.529Z"
   },
   {
    "duration": 13,
    "start_time": "2022-11-05T17:31:35.489Z"
   },
   {
    "duration": 4,
    "start_time": "2022-11-05T17:31:55.570Z"
   },
   {
    "duration": 312,
    "start_time": "2022-11-05T17:31:56.811Z"
   },
   {
    "duration": 3,
    "start_time": "2022-11-05T17:32:12.171Z"
   },
   {
    "duration": 12,
    "start_time": "2022-11-05T17:32:13.260Z"
   },
   {
    "duration": 12,
    "start_time": "2022-11-05T17:32:20.836Z"
   },
   {
    "duration": 4,
    "start_time": "2022-11-05T17:32:21.842Z"
   },
   {
    "duration": 11,
    "start_time": "2022-11-05T17:32:22.530Z"
   },
   {
    "duration": 679,
    "start_time": "2022-11-05T19:06:28.758Z"
   },
   {
    "duration": 2,
    "start_time": "2022-11-05T19:06:33.926Z"
   },
   {
    "duration": 2,
    "start_time": "2022-11-05T19:06:35.823Z"
   }
  ],
  "colab": {
   "provenance": []
  },
  "kernelspec": {
   "display_name": "Python 3 (ipykernel)",
   "language": "python",
   "name": "python3"
  },
  "language_info": {
   "codemirror_mode": {
    "name": "ipython",
    "version": 3
   },
   "file_extension": ".py",
   "mimetype": "text/x-python",
   "name": "python",
   "nbconvert_exporter": "python",
   "pygments_lexer": "ipython3",
   "version": "3.9.5"
  },
  "toc": {
   "base_numbering": 1,
   "nav_menu": {},
   "number_sections": true,
   "sideBar": true,
   "skip_h1_title": true,
   "title_cell": "Table of Contents",
   "title_sidebar": "Contents",
   "toc_cell": false,
   "toc_position": {},
   "toc_section_display": true,
   "toc_window_display": false
  }
 },
 "nbformat": 4,
 "nbformat_minor": 5
}
