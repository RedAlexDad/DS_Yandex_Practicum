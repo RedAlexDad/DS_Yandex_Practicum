{
 "cells": [
  {
   "cell_type": "markdown",
   "id": "28ccc93b",
   "metadata": {
    "toc": true
   },
   "source": [
    "<h1>Содержание<span class=\"tocSkip\"></span></h1>\n",
    "<div class=\"toc\"><ul class=\"toc-item\"><li><span><a href=\"#Проект-для-«Викишоп»-с-BERT\" data-toc-modified-id=\"Проект-для-«Викишоп»-с-BERT-1\"><span class=\"toc-item-num\">1&nbsp;&nbsp;</span>Проект для «Викишоп» с BERT</a></span></li><li><span><a href=\"#Подготовка\" data-toc-modified-id=\"Подготовка-2\"><span class=\"toc-item-num\">2&nbsp;&nbsp;</span>Подготовка</a></span><ul class=\"toc-item\"><li><span><a href=\"#Подключение-библиотеки\" data-toc-modified-id=\"Подключение-библиотеки-2.1\"><span class=\"toc-item-num\">2.1&nbsp;&nbsp;</span>Подключение библиотеки</a></span></li><li><span><a href=\"#Загрузим-данные\" data-toc-modified-id=\"Загрузим-данные-2.2\"><span class=\"toc-item-num\">2.2&nbsp;&nbsp;</span>Загрузим данные</a></span></li><li><span><a href=\"#Изучим-данные\" data-toc-modified-id=\"Изучим-данные-2.3\"><span class=\"toc-item-num\">2.3&nbsp;&nbsp;</span>Изучим данные</a></span><ul class=\"toc-item\"><li><span><a href=\"#Изучим-балансы-классов\" data-toc-modified-id=\"Изучим-балансы-классов-2.3.1\"><span class=\"toc-item-num\">2.3.1&nbsp;&nbsp;</span>Изучим балансы классов</a></span></li></ul></li><li><span><a href=\"#Предобработка-данных\" data-toc-modified-id=\"Предобработка-данных-2.4\"><span class=\"toc-item-num\">2.4&nbsp;&nbsp;</span>Предобработка данных</a></span><ul class=\"toc-item\"><li><span><a href=\"#Установка-стоп-слово-и-другие-словари\" data-toc-modified-id=\"Установка-стоп-слово-и-другие-словари-2.4.1\"><span class=\"toc-item-num\">2.4.1&nbsp;&nbsp;</span>Установка стоп-слово и другие словари</a></span></li><li><span><a href=\"#Лемматизируем-текст\" data-toc-modified-id=\"Лемматизируем-текст-2.4.2\"><span class=\"toc-item-num\">2.4.2&nbsp;&nbsp;</span>Лемматизируем текст</a></span></li></ul></li><li><span><a href=\"#Разделим-на-обучающую-и-тестовую-выборку\" data-toc-modified-id=\"Разделим-на-обучающую-и-тестовую-выборку-2.5\"><span class=\"toc-item-num\">2.5&nbsp;&nbsp;</span>Разделим на обучающую и тестовую выборку</a></span></li><li><span><a href=\"#Предобработка-данных\" data-toc-modified-id=\"Предобработка-данных-2.6\"><span class=\"toc-item-num\">2.6&nbsp;&nbsp;</span>Предобработка данных</a></span></li><li><span><a href=\"#Создание-корпуса-текстов-с-обучающей-и-тестовой-выборки\" data-toc-modified-id=\"Создание-корпуса-текстов-с-обучающей-и-тестовой-выборки-2.7\"><span class=\"toc-item-num\">2.7&nbsp;&nbsp;</span>Создание корпуса текстов с обучающей и тестовой выборки</a></span><ul class=\"toc-item\"><li><span><a href=\"#Обучающая-выборка\" data-toc-modified-id=\"Обучающая-выборка-2.7.1\"><span class=\"toc-item-num\">2.7.1&nbsp;&nbsp;</span>Обучающая выборка</a></span></li><li><span><a href=\"#Тестовая-выборка\" data-toc-modified-id=\"Тестовая-выборка-2.7.2\"><span class=\"toc-item-num\">2.7.2&nbsp;&nbsp;</span>Тестовая выборка</a></span></li></ul></li></ul></li><li><span><a href=\"#Машинное-обучение\" data-toc-modified-id=\"Машинное-обучение-3\"><span class=\"toc-item-num\">3&nbsp;&nbsp;</span>Машинное обучение</a></span><ul class=\"toc-item\"><li><span><a href=\"#Функции\" data-toc-modified-id=\"Функции-3.1\"><span class=\"toc-item-num\">3.1&nbsp;&nbsp;</span>Функции</a></span><ul class=\"toc-item\"><li><span><a href=\"#Обучение-модели\" data-toc-modified-id=\"Обучение-модели-3.1.1\"><span class=\"toc-item-num\">3.1.1&nbsp;&nbsp;</span>Обучение модели</a></span></li><li><span><a href=\"#Предсказание-модели\" data-toc-modified-id=\"Предсказание-модели-3.1.2\"><span class=\"toc-item-num\">3.1.2&nbsp;&nbsp;</span>Предсказание модели</a></span></li><li><span><a href=\"#Сохранение-результатов\" data-toc-modified-id=\"Сохранение-результатов-3.1.3\"><span class=\"toc-item-num\">3.1.3&nbsp;&nbsp;</span>Сохранение результатов</a></span></li><li><span><a href=\"#График-ROC-кривая\" data-toc-modified-id=\"График-ROC-кривая-3.1.4\"><span class=\"toc-item-num\">3.1.4&nbsp;&nbsp;</span>График ROC-кривая</a></span></li><li><span><a href=\"#График-распределения-плотности-предсказанных-и-истинных-значений\" data-toc-modified-id=\"График-распределения-плотности-предсказанных-и-истинных-значений-3.1.5\"><span class=\"toc-item-num\">3.1.5&nbsp;&nbsp;</span>График распределения плотности предсказанных и истинных значений</a></span></li></ul></li><li><span><a href=\"#LogisticRegression\" data-toc-modified-id=\"LogisticRegression-3.2\"><span class=\"toc-item-num\">3.2&nbsp;&nbsp;</span>LogisticRegression</a></span><ul class=\"toc-item\"><li><span><a href=\"#Установка-параметров\" data-toc-modified-id=\"Установка-параметров-3.2.1\"><span class=\"toc-item-num\">3.2.1&nbsp;&nbsp;</span>Установка параметров</a></span></li><li><span><a href=\"#Обучение\" data-toc-modified-id=\"Обучение-3.2.2\"><span class=\"toc-item-num\">3.2.2&nbsp;&nbsp;</span>Обучение</a></span></li><li><span><a href=\"#ROC-кривая\" data-toc-modified-id=\"ROC-кривая-3.2.3\"><span class=\"toc-item-num\">3.2.3&nbsp;&nbsp;</span>ROC-кривая</a></span></li></ul></li><li><span><a href=\"#RandomForestClassifier\" data-toc-modified-id=\"RandomForestClassifier-3.3\"><span class=\"toc-item-num\">3.3&nbsp;&nbsp;</span>RandomForestClassifier</a></span><ul class=\"toc-item\"><li><span><a href=\"#Установка-параметров\" data-toc-modified-id=\"Установка-параметров-3.3.1\"><span class=\"toc-item-num\">3.3.1&nbsp;&nbsp;</span>Установка параметров</a></span></li><li><span><a href=\"#Обучение\" data-toc-modified-id=\"Обучение-3.3.2\"><span class=\"toc-item-num\">3.3.2&nbsp;&nbsp;</span>Обучение</a></span></li><li><span><a href=\"#ROC-кривая\" data-toc-modified-id=\"ROC-кривая-3.3.3\"><span class=\"toc-item-num\">3.3.3&nbsp;&nbsp;</span>ROC-кривая</a></span></li></ul></li><li><span><a href=\"#DecisionTreeClassifier\" data-toc-modified-id=\"DecisionTreeClassifier-3.4\"><span class=\"toc-item-num\">3.4&nbsp;&nbsp;</span>DecisionTreeClassifier</a></span><ul class=\"toc-item\"><li><span><a href=\"#Установка-параметров\" data-toc-modified-id=\"Установка-параметров-3.4.1\"><span class=\"toc-item-num\">3.4.1&nbsp;&nbsp;</span>Установка параметров</a></span></li><li><span><a href=\"#Обучение\" data-toc-modified-id=\"Обучение-3.4.2\"><span class=\"toc-item-num\">3.4.2&nbsp;&nbsp;</span>Обучение</a></span></li><li><span><a href=\"#ROC-кривая\" data-toc-modified-id=\"ROC-кривая-3.4.3\"><span class=\"toc-item-num\">3.4.3&nbsp;&nbsp;</span>ROC-кривая</a></span></li></ul></li><li><span><a href=\"#CatBoostClassifier\" data-toc-modified-id=\"CatBoostClassifier-3.5\"><span class=\"toc-item-num\">3.5&nbsp;&nbsp;</span>CatBoostClassifier</a></span><ul class=\"toc-item\"><li><span><a href=\"#Установка-параметров\" data-toc-modified-id=\"Установка-параметров-3.5.1\"><span class=\"toc-item-num\">3.5.1&nbsp;&nbsp;</span>Установка параметров</a></span></li><li><span><a href=\"#Обучение\" data-toc-modified-id=\"Обучение-3.5.2\"><span class=\"toc-item-num\">3.5.2&nbsp;&nbsp;</span>Обучение</a></span></li><li><span><a href=\"#ROC-кривая\" data-toc-modified-id=\"ROC-кривая-3.5.3\"><span class=\"toc-item-num\">3.5.3&nbsp;&nbsp;</span>ROC-кривая</a></span></li></ul></li></ul></li><li><span><a href=\"#Проверка-на-тестовой-выборке-лучших-моделей\" data-toc-modified-id=\"Проверка-на-тестовой-выборке-лучших-моделей-4\"><span class=\"toc-item-num\">4&nbsp;&nbsp;</span>Проверка на тестовой выборке лучших моделей</a></span><ul class=\"toc-item\"><li><span><a href=\"#Результаты-F1-SCORE\" data-toc-modified-id=\"Результаты-F1-SCORE-4.1\"><span class=\"toc-item-num\">4.1&nbsp;&nbsp;</span>Результаты F1-SCORE</a></span></li><li><span><a href=\"#Машинное-обучение\" data-toc-modified-id=\"Машинное-обучение-4.2\"><span class=\"toc-item-num\">4.2&nbsp;&nbsp;</span>Машинное обучение</a></span><ul class=\"toc-item\"><li><span><a href=\"#Установка-лучших-гиперпараметров-для-лучшей-моделей\" data-toc-modified-id=\"Установка-лучших-гиперпараметров-для-лучшей-моделей-4.2.1\"><span class=\"toc-item-num\">4.2.1&nbsp;&nbsp;</span>Установка лучших гиперпараметров для лучшей моделей</a></span></li><li><span><a href=\"#Обучение\" data-toc-modified-id=\"Обучение-4.2.2\"><span class=\"toc-item-num\">4.2.2&nbsp;&nbsp;</span>Обучение</a></span></li><li><span><a href=\"#Предсказание-модели\" data-toc-modified-id=\"Предсказание-модели-4.2.3\"><span class=\"toc-item-num\">4.2.3&nbsp;&nbsp;</span>Предсказание модели</a></span></li></ul></li><li><span><a href=\"#График-распределения-плотности-предсказанных-и-истинных-значений\" data-toc-modified-id=\"График-распределения-плотности-предсказанных-и-истинных-значений-4.3\"><span class=\"toc-item-num\">4.3&nbsp;&nbsp;</span>График распределения плотности предсказанных и истинных значений</a></span></li></ul></li><li><span><a href=\"#Вывод\" data-toc-modified-id=\"Вывод-5\"><span class=\"toc-item-num\">5&nbsp;&nbsp;</span>Вывод</a></span></li><li><span><a href=\"#Машинное-обучение-с-BERT\" data-toc-modified-id=\"Машинное-обучение-с-BERT-6\"><span class=\"toc-item-num\">6&nbsp;&nbsp;</span>Машинное обучение с BERT</a></span><ul class=\"toc-item\"><li><span><a href=\"#Получение-датасета\" data-toc-modified-id=\"Получение-датасета-6.1\"><span class=\"toc-item-num\">6.1&nbsp;&nbsp;</span>Получение датасета</a></span></li><li><span><a href=\"#Предобработка-данных\" data-toc-modified-id=\"Предобработка-данных-6.2\"><span class=\"toc-item-num\">6.2&nbsp;&nbsp;</span>Предобработка данных</a></span><ul class=\"toc-item\"><li><span><a href=\"#CustomDataset-Dataset-Class\" data-toc-modified-id=\"CustomDataset-Dataset-Class-6.2.1\"><span class=\"toc-item-num\">6.2.1&nbsp;&nbsp;</span><em>CustomDataset</em> Dataset Class</a></span></li><li><span><a href=\"#Dataloader\" data-toc-modified-id=\"Dataloader-6.2.2\"><span class=\"toc-item-num\">6.2.2&nbsp;&nbsp;</span>Dataloader</a></span></li></ul></li><li><span><a href=\"#Деление-на-обучающей-и-тестовой-выборки\" data-toc-modified-id=\"Деление-на-обучающей-и-тестовой-выборки-6.3\"><span class=\"toc-item-num\">6.3&nbsp;&nbsp;</span>Деление на обучающей и тестовой выборки</a></span></li><li><span><a href=\"#Создание-нейронной-сети-для-тонкой-настройки\" data-toc-modified-id=\"Создание-нейронной-сети-для-тонкой-настройки-6.4\"><span class=\"toc-item-num\">6.4&nbsp;&nbsp;</span>Создание нейронной сети для тонкой настройки</a></span><ul class=\"toc-item\"><li><span><a href=\"#Нейронная-сеть\" data-toc-modified-id=\"Нейронная-сеть-6.4.1\"><span class=\"toc-item-num\">6.4.1&nbsp;&nbsp;</span>Нейронная сеть</a></span></li><li><span><a href=\"#Функция-потерь-и-оптимизатор\" data-toc-modified-id=\"Функция-потерь-и-оптимизатор-6.4.2\"><span class=\"toc-item-num\">6.4.2&nbsp;&nbsp;</span>Функция потерь и оптимизатор</a></span></li><li><span><a href=\"#Для-будущее\" data-toc-modified-id=\"Для-будущее-6.4.3\"><span class=\"toc-item-num\">6.4.3&nbsp;&nbsp;</span>Для будущее</a></span></li><li><span><a href=\"#Точная-настройка-модели\" data-toc-modified-id=\"Точная-настройка-модели-6.4.4\"><span class=\"toc-item-num\">6.4.4&nbsp;&nbsp;</span>Точная настройка модели</a></span></li></ul></li><li><span><a href=\"#Обучение\" data-toc-modified-id=\"Обучение-6.5\"><span class=\"toc-item-num\">6.5&nbsp;&nbsp;</span>Обучение</a></span></li><li><span><a href=\"#Проверим-на-F1-метрику\" data-toc-modified-id=\"Проверим-на-F1-метрику-6.6\"><span class=\"toc-item-num\">6.6&nbsp;&nbsp;</span>Проверим на F1-метрику</a></span></li></ul></li><li><span><a href=\"#Выводы\" data-toc-modified-id=\"Выводы-7\"><span class=\"toc-item-num\">7&nbsp;&nbsp;</span>Выводы</a></span></li></ul></div>"
   ]
  },
  {
   "cell_type": "markdown",
   "id": "d8f9cc85",
   "metadata": {},
   "source": [
    "# Проект для «Викишоп» с BERT"
   ]
  },
  {
   "cell_type": "markdown",
   "id": "cec58459",
   "metadata": {},
   "source": [
    "Интернет-магазин «Викишоп» запускает новый сервис. Теперь пользователи могут редактировать и дополнять описания товаров, как в вики-сообществах. То есть клиенты предлагают свои правки и комментируют изменения других. Магазину нужен инструмент, который будет искать токсичные комментарии и отправлять их на модерацию. \n",
    "\n",
    "Обучите модель классифицировать комментарии на позитивные и негативные. В вашем распоряжении набор данных с разметкой о токсичности правок.\n",
    "\n",
    "Постройте модель со значением метрики качества *F1* не меньше 0.75. \n",
    "\n",
    "**Инструкция по выполнению проекта**\n",
    "\n",
    "1. Загрузите и подготовьте данные.\n",
    "2. Обучите разные модели. \n",
    "3. Сделайте выводы.\n",
    "\n",
    "Для выполнения проекта применять *BERT* необязательно, но вы можете попробовать.\n",
    "\n",
    "**Описание данных**\n",
    "\n",
    "Данные находятся в файле `toxic_comments.csv`. Столбец *text* в нём содержит текст комментария, а *toxic* — целевой признак."
   ]
  },
  {
   "cell_type": "markdown",
   "id": "2f9c79d2",
   "metadata": {},
   "source": [
    "**Рассмотрим два варианта проекта без BERT и с BERT**"
   ]
  },
  {
   "cell_type": "markdown",
   "id": "3e2bd997",
   "metadata": {},
   "source": [
    "# Подготовка"
   ]
  },
  {
   "cell_type": "markdown",
   "id": "b5be6d67",
   "metadata": {},
   "source": [
    "## Подключение библиотеки"
   ]
  },
  {
   "cell_type": "code",
   "execution_count": 1,
   "id": "fd78d20f",
   "metadata": {
    "scrolled": true
   },
   "outputs": [
    {
     "data": {
      "application/javascript": [
       "if (!(\"Notification\" in window)) {\n",
       "    alert(\"This browser does not support desktop notifications, so the %%notify magic will not work.\");\n",
       "} else if (Notification.permission !== 'granted' && Notification.permission !== 'denied') {\n",
       "    Notification.requestPermission(function (permission) {\n",
       "        if(!('permission' in Notification)) {\n",
       "            Notification.permission = permission;\n",
       "        }\n",
       "    })\n",
       "}\n"
      ],
      "text/plain": [
       "<IPython.core.display.Javascript object>"
      ]
     },
     "metadata": {},
     "output_type": "display_data"
    }
   ],
   "source": [
    "# Уведомление о завершение работы определенного ячейка (очень пригодится для машинного обучения)\n",
    "import jupyternotify\n",
    "%load_ext jupyternotify"
   ]
  },
  {
   "cell_type": "code",
   "execution_count": 2,
   "id": "2818fbe4",
   "metadata": {},
   "outputs": [],
   "source": [
    "# Подключаем все необходимые библиотеки\n",
    "import pandas as pd\n",
    "import numpy as np\n",
    "import matplotlib.pyplot as plt\n",
    "# Для визуализации временных рядов\n",
    "import plotly.graph_objects\n",
    "import seaborn as sb\n",
    "from scipy import stats as st\n",
    "# Время обучения модели\n",
    "import timeit\n",
    "# Тренды и сезонность\n",
    "from statsmodels.tsa.seasonal import seasonal_decompose\n",
    "# Проверка на стационарность\n",
    "from statsmodels.tsa.stattools import adfuller, kpss\n",
    "# Проверка на дисперсию с помощью теста Андерсона-Дарлинга\n",
    "from scipy.stats import anderson\n",
    "# XGBRegressor\n",
    "import xgboost as xgb\n",
    "\n",
    "# Работа с текстами\n",
    "import nltk\n",
    "from nltk.corpus import stopwords as nltk_stopwords\n",
    "from sklearn.feature_extraction.text import TfidfVectorizer\n",
    "\n",
    "from lightgbm import LGBMRegressor\n",
    "# Вызов библиотеки для отключения предупреждения\n",
    "import warnings\n",
    "\n",
    "# Разбиение на обучающую, валидационную и тестовую выборку\n",
    "from sklearn.model_selection import train_test_split, GridSearchCV, cross_val_score, cross_val_predict, TimeSeriesSplit\n",
    "# Применим кроссвалидацию для повышения качеств обучения\n",
    "\n",
    "\n",
    "\n",
    "# Масштабируемость модели\n",
    "from sklearn.preprocessing import StandardScaler, OrdinalEncoder, OneHotEncoder\n",
    "\n",
    "# Для машинного обучения разными способами:\n",
    "# - Логическая регрессия\n",
    "from sklearn.linear_model import LogisticRegression\n",
    "# - Случайный лес\n",
    "from sklearn.ensemble import RandomForestClassifier\n",
    "# - Решающее дерево\n",
    "from sklearn.tree import DecisionTreeClassifier\n",
    "# - Модель на адекватность\n",
    "from sklearn.dummy import DummyClassifier\n",
    "# - Бустинг модель\n",
    "from catboost import CatBoostClassifier\n",
    "\n",
    "from sklearn.metrics import (\n",
    "    # Точность модели\n",
    "    accuracy_score,\n",
    "    # Матрицы ошибок (для борьбы с дисбалансом)\n",
    "    confusion_matrix, \n",
    "    # Полнота\n",
    "    recall_score, \n",
    "    # Точность\n",
    "    precision_score, \n",
    "    # F1-мера\n",
    "    f1_score,\n",
    "    # Метрика AUC-ROC\n",
    "    roc_auc_score,\n",
    "    roc_curve,\n",
    "    # MSE\n",
    "    mean_squared_error,\n",
    "    mean_absolute_error,\n",
    "    fbeta_score, \n",
    "    make_scorer\n",
    ")\n",
    "\n",
    "# Контроль выборки\n",
    "from sklearn.utils import shuffle\n",
    "\n",
    "# Для лематизации текстов\n",
    "import re\n",
    "from pymystem3 import Mystem\n",
    "import nltk\n",
    "from nltk.stem import WordNetLemmatizer\n",
    "from nltk.corpus import wordnet\n",
    "\n",
    "# Для машинного обучения - деление выборки на обучающие и валидационные\n",
    "from sklearn.pipeline import Pipeline\n",
    "from sklearn.feature_extraction.text import CountVectorizer, TfidfTransformer\n",
    "# Просмотр все значений метрики\n",
    "from sklearn.metrics import classification_report\n",
    "\n",
    "from sklearn import svm\n",
    "import joblib"
   ]
  },
  {
   "cell_type": "markdown",
   "id": "db620d24",
   "metadata": {},
   "source": [
    "Для машинного обучения с BERT"
   ]
  },
  {
   "cell_type": "code",
   "execution_count": 3,
   "id": "1ef77259",
   "metadata": {
    "scrolled": true
   },
   "outputs": [],
   "source": [
    "from torch import cuda\n",
    "\n",
    "# Библиотеки для обучения с применением технологий BERT\n",
    "import numpy as np\n",
    "import pandas as pd\n",
    "from sklearn import metrics\n",
    "import transformers\n",
    "import torch\n",
    "from torch.utils.data import Dataset, DataLoader, RandomSampler, SequentialSampler\n",
    "# from transformers import BertTokenizer, BertModel, BertConfig"
   ]
  },
  {
   "cell_type": "markdown",
   "id": "c3d22f63",
   "metadata": {},
   "source": [
    "## Загрузим данные"
   ]
  },
  {
   "cell_type": "code",
   "execution_count": 4,
   "id": "c4eddd44",
   "metadata": {},
   "outputs": [],
   "source": [
    "# Получаем датасет\n",
    "try:\n",
    "    # С локального файла\n",
    "    try:\n",
    "        # Сразу устанавливаем время как индексы\n",
    "        df = pd.read_csv('datasets/toxic_comments.csv', index_col=[0], parse_dates=[0])\n",
    "    except:\n",
    "        df = pd.read_csv('/datasets/toxic_comments.csv', index_col=[0], parse_dates=[0])\n",
    "except:\n",
    "    print('Отсутствует датасет. Проверьте путь файла')"
   ]
  },
  {
   "cell_type": "markdown",
   "id": "3ba2e0f3",
   "metadata": {},
   "source": [
    "## Изучим данные"
   ]
  },
  {
   "cell_type": "code",
   "execution_count": 5,
   "id": "1a394f17",
   "metadata": {
    "scrolled": false
   },
   "outputs": [
    {
     "name": "stdout",
     "output_type": "stream",
     "text": [
      "<class 'pandas.core.frame.DataFrame'>\n",
      "Int64Index: 159292 entries, 0 to 159450\n",
      "Data columns (total 2 columns):\n",
      " #   Column  Non-Null Count   Dtype \n",
      "---  ------  --------------   ----- \n",
      " 0   text    159292 non-null  object\n",
      " 1   toxic   159292 non-null  int64 \n",
      "dtypes: int64(1), object(1)\n",
      "memory usage: 3.6+ MB\n"
     ]
    },
    {
     "data": {
      "text/plain": [
       "None"
      ]
     },
     "metadata": {},
     "output_type": "display_data"
    },
    {
     "data": {
      "text/html": [
       "<div>\n",
       "<style scoped>\n",
       "    .dataframe tbody tr th:only-of-type {\n",
       "        vertical-align: middle;\n",
       "    }\n",
       "\n",
       "    .dataframe tbody tr th {\n",
       "        vertical-align: top;\n",
       "    }\n",
       "\n",
       "    .dataframe thead th {\n",
       "        text-align: right;\n",
       "    }\n",
       "</style>\n",
       "<table border=\"1\" class=\"dataframe\">\n",
       "  <thead>\n",
       "    <tr style=\"text-align: right;\">\n",
       "      <th></th>\n",
       "      <th>text</th>\n",
       "      <th>toxic</th>\n",
       "    </tr>\n",
       "  </thead>\n",
       "  <tbody>\n",
       "    <tr>\n",
       "      <th>0</th>\n",
       "      <td>Explanation\\nWhy the edits made under my usern...</td>\n",
       "      <td>0</td>\n",
       "    </tr>\n",
       "    <tr>\n",
       "      <th>1</th>\n",
       "      <td>D'aww! He matches this background colour I'm s...</td>\n",
       "      <td>0</td>\n",
       "    </tr>\n",
       "    <tr>\n",
       "      <th>2</th>\n",
       "      <td>Hey man, I'm really not trying to edit war. It...</td>\n",
       "      <td>0</td>\n",
       "    </tr>\n",
       "    <tr>\n",
       "      <th>3</th>\n",
       "      <td>\"\\nMore\\nI can't make any real suggestions on ...</td>\n",
       "      <td>0</td>\n",
       "    </tr>\n",
       "    <tr>\n",
       "      <th>4</th>\n",
       "      <td>You, sir, are my hero. Any chance you remember...</td>\n",
       "      <td>0</td>\n",
       "    </tr>\n",
       "  </tbody>\n",
       "</table>\n",
       "</div>"
      ],
      "text/plain": [
       "                                                text  toxic\n",
       "0  Explanation\\nWhy the edits made under my usern...      0\n",
       "1  D'aww! He matches this background colour I'm s...      0\n",
       "2  Hey man, I'm really not trying to edit war. It...      0\n",
       "3  \"\\nMore\\nI can't make any real suggestions on ...      0\n",
       "4  You, sir, are my hero. Any chance you remember...      0"
      ]
     },
     "metadata": {},
     "output_type": "display_data"
    }
   ],
   "source": [
    "display(df.info(), df.head())"
   ]
  },
  {
   "cell_type": "markdown",
   "id": "e4bb6531",
   "metadata": {},
   "source": [
    "Как и видим, что текст написан на английском языке"
   ]
  },
  {
   "cell_type": "markdown",
   "id": "538af9e8",
   "metadata": {},
   "source": [
    "### Изучим балансы классов"
   ]
  },
  {
   "cell_type": "code",
   "execution_count": 6,
   "id": "3abc217b",
   "metadata": {},
   "outputs": [
    {
     "data": {
      "text/plain": [
       "Text(0.5, 0, 'Токсичные и позитивные комментарии')"
      ]
     },
     "execution_count": 6,
     "metadata": {},
     "output_type": "execute_result"
    },
    {
     "data": {
      "image/png": "[encoded data removed]",
      "text/plain": [
       "<Figure size 1700x1000 with 2 Axes>"
      ]
     },
     "metadata": {},
     "output_type": "display_data"
    }
   ],
   "source": [
    "fig, axs = plt.subplots(1, 2, figsize=(17, 10))\n",
    "\n",
    "df['toxic'].value_counts(normalize=True).plot(ax=axs[0], kind='bar')\n",
    "axs[0].set_title('Соотношение к позитивному и токсичному комментарию')\n",
    "axs[0].set_ylabel('Соотношение 100%')\n",
    "axs[0].set_xlabel('Токсичные и позитивные комментарии')\n",
    "        \n",
    "df['toxic'].value_counts().plot(ax=axs[1], kind='bar')\n",
    "axs[1].set_title('Количество позитивные и токсичные комментарии')\n",
    "axs[1].set_ylabel('Количество')\n",
    "axs[1].set_xlabel('Токсичные и позитивные комментарии')"
   ]
  },
  {
   "cell_type": "markdown",
   "id": "908fc516",
   "metadata": {},
   "source": [
    "Как и видим, что много токсичных комментариев нежели позитивных. Дальше идем"
   ]
  },
  {
   "cell_type": "markdown",
   "id": "7cba436f",
   "metadata": {},
   "source": [
    "## Предобработка данных"
   ]
  },
  {
   "cell_type": "markdown",
   "id": "55821d10",
   "metadata": {},
   "source": [
    "### Установка стоп-слово и другие словари"
   ]
  },
  {
   "cell_type": "code",
   "execution_count": 7,
   "id": "f676901f",
   "metadata": {},
   "outputs": [
    {
     "name": "stderr",
     "output_type": "stream",
     "text": [
      "[nltk_data] Downloading package stopwords to\n",
      "[nltk_data]     /home/redalexdad/nltk_data...\n",
      "[nltk_data]   Package stopwords is already up-to-date!\n"
     ]
    }
   ],
   "source": [
    "# Получим стоп-слово\n",
    "nltk.download('stopwords')\n",
    "stopwords = set(nltk_stopwords.words('english'))"
   ]
  },
  {
   "cell_type": "code",
   "execution_count": 8,
   "id": "0ff2bf12",
   "metadata": {},
   "outputs": [
    {
     "name": "stderr",
     "output_type": "stream",
     "text": [
      "[nltk_data] Downloading package punkt to /home/redalexdad/nltk_data...\n",
      "[nltk_data]   Unzipping tokenizers/punkt.zip.\n",
      "[nltk_data] Downloading package wordnet to\n",
      "[nltk_data]     /home/redalexdad/nltk_data...\n",
      "[nltk_data] Downloading package averaged_perceptron_tagger to\n",
      "[nltk_data]     /home/redalexdad/nltk_data...\n",
      "[nltk_data]   Unzipping taggers/averaged_perceptron_tagger.zip.\n"
     ]
    },
    {
     "data": {
      "text/plain": [
       "True"
      ]
     },
     "execution_count": 8,
     "metadata": {},
     "output_type": "execute_result"
    }
   ],
   "source": [
    "nltk.download('punkt')\n",
    "nltk.download('wordnet')\n",
    "nltk.download('averaged_perceptron_tagger')"
   ]
  },
  {
   "cell_type": "markdown",
   "id": "8fc8abe9",
   "metadata": {},
   "source": [
    "### Лемматизируем текст"
   ]
  },
  {
   "cell_type": "code",
   "execution_count": 9,
   "id": "1007372f",
   "metadata": {},
   "outputs": [
    {
     "name": "stderr",
     "output_type": "stream",
     "text": [
      "[nltk_data] Downloading package wordnet to\n",
      "[nltk_data]     /home/redalexdad/nltk_data...\n",
      "[nltk_data]   Package wordnet is already up-to-date!\n"
     ]
    },
    {
     "data": {
      "text/plain": [
       "True"
      ]
     },
     "execution_count": 9,
     "metadata": {},
     "output_type": "execute_result"
    }
   ],
   "source": [
    "WNL = WordNetLemmatizer()\n",
    "\n",
    "nltk.download('wordnet')"
   ]
  },
  {
   "cell_type": "code",
   "execution_count": 10,
   "id": "6aa5307d",
   "metadata": {},
   "outputs": [],
   "source": [
    "lemmatizer = WordNetLemmatizer()"
   ]
  },
  {
   "cell_type": "code",
   "execution_count": 11,
   "id": "21abde8d",
   "metadata": {},
   "outputs": [],
   "source": [
    "# Функция очистки лишних символов\n",
    "def clear_text(text):\n",
    "    text = text.lower()\n",
    "    text = re.sub(r'[^a-zA-Z]', ' ', text)   \n",
    "    text = ' '.join(text.split())\n",
    "    return text"
   ]
  },
  {
   "cell_type": "code",
   "execution_count": 12,
   "id": "c60e8cc3",
   "metadata": {},
   "outputs": [],
   "source": [
    "df['lemm_text'] = df['text'].apply(clear_text)"
   ]
  },
  {
   "cell_type": "code",
   "execution_count": 13,
   "id": "73acd397",
   "metadata": {},
   "outputs": [
    {
     "data": {
      "text/plain": [
       "'explanation why the edits made under my username hardcore metallica fan were reverted they weren t vandalisms just closure on some gas after i voted at new york dolls fac and please don t remove the template from the talk page since i m retired now'"
      ]
     },
     "execution_count": 13,
     "metadata": {},
     "output_type": "execute_result"
    }
   ],
   "source": [
    "df['lemm_text'][0]"
   ]
  },
  {
   "cell_type": "code",
   "execution_count": 14,
   "id": "51e5e4a1",
   "metadata": {},
   "outputs": [
    {
     "data": {
      "text/html": [
       "<div>\n",
       "<style scoped>\n",
       "    .dataframe tbody tr th:only-of-type {\n",
       "        vertical-align: middle;\n",
       "    }\n",
       "\n",
       "    .dataframe tbody tr th {\n",
       "        vertical-align: top;\n",
       "    }\n",
       "\n",
       "    .dataframe thead th {\n",
       "        text-align: right;\n",
       "    }\n",
       "</style>\n",
       "<table border=\"1\" class=\"dataframe\">\n",
       "  <thead>\n",
       "    <tr style=\"text-align: right;\">\n",
       "      <th></th>\n",
       "      <th>text</th>\n",
       "      <th>toxic</th>\n",
       "      <th>lemm_text</th>\n",
       "    </tr>\n",
       "  </thead>\n",
       "  <tbody>\n",
       "    <tr>\n",
       "      <th>0</th>\n",
       "      <td>Explanation\\nWhy the edits made under my usern...</td>\n",
       "      <td>0</td>\n",
       "      <td>explanation why the edits made under my userna...</td>\n",
       "    </tr>\n",
       "    <tr>\n",
       "      <th>1</th>\n",
       "      <td>D'aww! He matches this background colour I'm s...</td>\n",
       "      <td>0</td>\n",
       "      <td>d aww he matches this background colour i m se...</td>\n",
       "    </tr>\n",
       "    <tr>\n",
       "      <th>2</th>\n",
       "      <td>Hey man, I'm really not trying to edit war. It...</td>\n",
       "      <td>0</td>\n",
       "      <td>hey man i m really not trying to edit war it s...</td>\n",
       "    </tr>\n",
       "  </tbody>\n",
       "</table>\n",
       "</div>"
      ],
      "text/plain": [
       "                                                text  toxic  \\\n",
       "0  Explanation\\nWhy the edits made under my usern...      0   \n",
       "1  D'aww! He matches this background colour I'm s...      0   \n",
       "2  Hey man, I'm really not trying to edit war. It...      0   \n",
       "\n",
       "                                           lemm_text  \n",
       "0  explanation why the edits made under my userna...  \n",
       "1  d aww he matches this background colour i m se...  \n",
       "2  hey man i m really not trying to edit war it s...  "
      ]
     },
     "execution_count": 14,
     "metadata": {},
     "output_type": "execute_result"
    }
   ],
   "source": [
    "df.head(3)"
   ]
  },
  {
   "cell_type": "markdown",
   "id": "53877696",
   "metadata": {},
   "source": [
    "## Разделим на обучающую и тестовую выборку"
   ]
  },
  {
   "cell_type": "code",
   "execution_count": 15,
   "id": "359f9d5d",
   "metadata": {},
   "outputs": [],
   "source": [
    "# Деление обучающей выборки на признаки и целевые признаки\n",
    "features = df.drop(['toxic', 'text'], axis=1)\n",
    "target = df['toxic']"
   ]
  },
  {
   "cell_type": "code",
   "execution_count": 16,
   "id": "2738eb04",
   "metadata": {},
   "outputs": [],
   "source": [
    "# Разделим обучающую и тестовую выборку\n",
    "features_train, features_test, target_train, target_test = train_test_split(features, target, test_size=0.25, random_state=12345)"
   ]
  },
  {
   "cell_type": "code",
   "execution_count": 17,
   "id": "dcdfbf32",
   "metadata": {
    "scrolled": true
   },
   "outputs": [
    {
     "name": "stdout",
     "output_type": "stream",
     "text": [
      "Размер обучающей выборки: 0.75 %\n",
      "Размер тестовой выборки: 0.25 %\n"
     ]
    }
   ],
   "source": [
    "print('Размер обучающей выборки:', round(features_train.shape[0] / df.shape[0], 3), '%')\n",
    "print('Размер тестовой выборки:', round(features_test.shape[0] / df.shape[0], 3), '%')"
   ]
  },
  {
   "cell_type": "markdown",
   "id": "f39b901c",
   "metadata": {},
   "source": [
    "## Предобработка данных"
   ]
  },
  {
   "cell_type": "code",
   "execution_count": 18,
   "id": "2a76719b",
   "metadata": {},
   "outputs": [],
   "source": [
    "# Создаем корпус текстов\n",
    "corpus_train = list(features_train['lemm_text'])\n",
    "corpus_test = list(features_test['lemm_text'])"
   ]
  },
  {
   "cell_type": "code",
   "execution_count": 19,
   "id": "aea25f88",
   "metadata": {},
   "outputs": [
    {
     "name": "stdout",
     "output_type": "stream",
     "text": [
      "Corpus_train\n"
     ]
    },
    {
     "data": {
      "text/plain": [
       "'that makes no sense you don t play maplestory through internet explorer sure the website can only be accessible through ie well you can access it through firefox as well if you know what to do but it s not really part of the game'"
      ]
     },
     "metadata": {},
     "output_type": "display_data"
    },
    {
     "name": "stdout",
     "output_type": "stream",
     "text": [
      "\n",
      "Corpus_test\n"
     ]
    },
    {
     "data": {
      "text/plain": [
       "'expert categorizers why is there no mention of the fact that nazis were particularly great categorizers they excelled in identifying various things and writing about them and putting them in their proper places'"
      ]
     },
     "metadata": {},
     "output_type": "display_data"
    }
   ],
   "source": [
    "print('Corpus_train')\n",
    "display(corpus_train[0])\n",
    "print()\n",
    "print('Corpus_test')\n",
    "display(corpus_test[0])"
   ]
  },
  {
   "cell_type": "markdown",
   "id": "14af8f48",
   "metadata": {},
   "source": [
    "## Создание корпуса текстов с обучающей и тестовой выборки"
   ]
  },
  {
   "cell_type": "markdown",
   "id": "898ae3ba",
   "metadata": {},
   "source": [
    "### Обучающая выборка"
   ]
  },
  {
   "cell_type": "code",
   "execution_count": 20,
   "id": "dd84d16c",
   "metadata": {},
   "outputs": [],
   "source": [
    "# По аналогии с CountVectorizer() создадим счётчик, указав в нём стоп-слова:\n",
    "count_tf_idf_train = TfidfVectorizer(stop_words=list(stopwords))"
   ]
  },
  {
   "cell_type": "code",
   "execution_count": 21,
   "id": "eca68c75",
   "metadata": {},
   "outputs": [],
   "source": [
    "# Чтобы посчитать TF-IDF для корпуса текстов, вызовем функцию fit_transform():\n",
    "tf_idf_train = count_tf_idf_train.fit_transform(corpus_train) \n",
    "# Передав TfidfVectorizer() аргумент ngram_range, можно рассчитать N-граммы."
   ]
  },
  {
   "cell_type": "code",
   "execution_count": 22,
   "id": "c1a69c9b",
   "metadata": {
    "scrolled": true
   },
   "outputs": [
    {
     "name": "stdout",
     "output_type": "stream",
     "text": [
      "Размер матрицы обучающей выборки: (119469, 142039)\n"
     ]
    }
   ],
   "source": [
    "print(\"Размер матрицы обучающей выборки:\", tf_idf_train.shape)"
   ]
  },
  {
   "cell_type": "markdown",
   "id": "89722561",
   "metadata": {},
   "source": [
    "### Тестовая выборка"
   ]
  },
  {
   "cell_type": "code",
   "execution_count": 23,
   "id": "4aa19c55",
   "metadata": {},
   "outputs": [],
   "source": [
    "# По аналогии с CountVectorizer() создадим счётчик, указав в нём стоп-слова:\n",
    "count_tf_idf_test = TfidfVectorizer(stop_words=list(stopwords))"
   ]
  },
  {
   "cell_type": "code",
   "execution_count": 24,
   "id": "f9560720",
   "metadata": {},
   "outputs": [],
   "source": [
    "# Чтобы посчитать TF-IDF для корпуса текстов, вызовем функцию fit_transform():\n",
    "tf_idf_test = count_tf_idf_train.transform(corpus_test) \n",
    "# Передав TfidfVectorizer() аргумент ngram_range, можно рассчитать N-граммы."
   ]
  },
  {
   "cell_type": "code",
   "execution_count": 25,
   "id": "b9a50d71",
   "metadata": {
    "scrolled": true
   },
   "outputs": [
    {
     "name": "stdout",
     "output_type": "stream",
     "text": [
      "Размер матрицы тестовой выборки: (39823, 142039)\n"
     ]
    }
   ],
   "source": [
    "print(\"Размер матрицы тестовой выборки:\", tf_idf_test.shape)"
   ]
  },
  {
   "cell_type": "markdown",
   "id": "f02ab0a4",
   "metadata": {},
   "source": [
    "# Машинное обучение"
   ]
  },
  {
   "cell_type": "code",
   "execution_count": 26,
   "id": "ae51d486",
   "metadata": {},
   "outputs": [],
   "source": [
    "# Здесь будем сохранить результаты машинного обучения\n",
    "results = pd.DataFrame()\n",
    "\n",
    "# А это будет счетчтиком для нумерация моеделй\n",
    "count_model = 0"
   ]
  },
  {
   "cell_type": "markdown",
   "id": "db025e1d",
   "metadata": {},
   "source": [
    "## Функции\n",
    "\n",
    "**Создаем функцию, которая упрощает написание кода**"
   ]
  },
  {
   "cell_type": "markdown",
   "id": "7eeac266",
   "metadata": {},
   "source": [
    "### Обучение модели"
   ]
  },
  {
   "cell_type": "code",
   "execution_count": 27,
   "id": "3ba4e1f1",
   "metadata": {},
   "outputs": [],
   "source": [
    "# Обучение модели\n",
    "def fit_model(model, features_train, target_train):\n",
    "    # Обучим модель на обучающей выборке\n",
    "    model.fit(features_train, target_train)\n",
    "\n",
    "    # Узнаем RMSE обучающей выборки\n",
    "    F1_TRAIN = model.best_score_\n",
    "    print('F1 TRAIN:', round(F1_TRAIN, 3))\n",
    "    print('TIME TRAIN [s]:', round(model.refit_time_, 3))\n",
    "    \n",
    "    return F1_TRAIN"
   ]
  },
  {
   "cell_type": "markdown",
   "id": "057d1bbd",
   "metadata": {},
   "source": [
    "### Предсказание модели"
   ]
  },
  {
   "cell_type": "code",
   "execution_count": 28,
   "id": "b3a97d0c",
   "metadata": {},
   "outputs": [],
   "source": [
    "# Предсказание модели\n",
    "def predict_model(model, features_test, target_test):\n",
    "    start_time = timeit.default_timer()\n",
    "    # Получим предсказания на тестовой выборки\n",
    "    predictions = model.predict(features_test)\n",
    "\n",
    "    elapsed = round(timeit.default_timer() - start_time, 3)\n",
    "\n",
    "    # Узнаем RMSE\n",
    "    F1_VALID = f1_score(target_test, predictions)\n",
    "    print('F1 VALID:', round(F1_VALID, 3))\n",
    "    print('Предсказание:', round(predictions.mean(), 3))\n",
    "    \n",
    "    return predictions, elapsed, F1_VALID"
   ]
  },
  {
   "cell_type": "markdown",
   "id": "efc18ccd",
   "metadata": {},
   "source": [
    "### Сохранение результатов"
   ]
  },
  {
   "cell_type": "code",
   "execution_count": 29,
   "id": "ae42a354",
   "metadata": {},
   "outputs": [],
   "source": [
    "# Зафиксируем результаты\n",
    "def save_result(name, F1_TRAIN, refit_time_, best_params_, count_model, show_display=False):\n",
    "    results[count_model] = pd.Series({\n",
    "        'NAME': f'{name}', \n",
    "        'F1 TRAIN': F1_TRAIN,\n",
    "        'TIME TRAINING [s]': refit_time_,\n",
    "        'PARAMETRS': best_params_\n",
    "    })\n",
    "    \n",
    "    if(show_display == True): display(results[count_model])"
   ]
  },
  {
   "cell_type": "markdown",
   "id": "68c0815b",
   "metadata": {},
   "source": [
    "### График ROC-кривая"
   ]
  },
  {
   "cell_type": "code",
   "execution_count": 30,
   "id": "e4a851be",
   "metadata": {},
   "outputs": [],
   "source": [
    "def display_aus_roc(model, tf_idf_test, target_test):\n",
    "    probabilities_test = model.predict_proba(tf_idf_test)\n",
    "    probabilities_one_test = probabilities_test[:, 1]\n",
    "\n",
    "    auc_roc = roc_auc_score(target_test, probabilities_one_test)\n",
    "\n",
    "    # Изображаем ROC-кривую\n",
    "    fpr, tpr, thresholds = roc_curve(target_test, probabilities_one_test)\n",
    "\n",
    "    plt.figure()\n",
    "\n",
    "    plt.plot(fpr, tpr)\n",
    "\n",
    "    plt.plot([0, 1], [0, 1], linestyle='--')\n",
    "\n",
    "    plt.xlim([0.0, 1.0])\n",
    "    plt.ylim([0.0, 1.0])\n",
    "\n",
    "    plt.xlabel('False Positive Rate')\n",
    "    plt.ylabel('True Positive Rate')\n",
    "\n",
    "    plt.title('ROC-кривая')\n",
    "    plt.show()\n",
    "    \n",
    "    print('ROC AUC:', auc_roc)"
   ]
  },
  {
   "cell_type": "markdown",
   "id": "64f3df37",
   "metadata": {},
   "source": [
    "### График распределения плотности предсказанных и истинных значений"
   ]
  },
  {
   "cell_type": "code",
   "execution_count": 31,
   "id": "5b62b7e6",
   "metadata": {},
   "outputs": [],
   "source": [
    "def display_graph_predicted_and_target(target_train, predictions, F1_VALID, x_pos, y_pos):\n",
    "    plt.figure(figsize=(10, 5))\n",
    "    # Целевой признак\n",
    "    target_train.plot(kind='kde', linewidth=2)\n",
    "    # Предсказания\n",
    "    pd.Series(predictions).plot(kind='kde',linewidth=2)\n",
    "    \n",
    "    plt.title('График распределения плотности предсказанных и истинных значений')\n",
    "    plt.legend(['Истинные значения','Предсказанные значения'], fontsize='large')\n",
    "    \n",
    "    plt.text(x_pos, y_pos, f'F1= {round(F1_VALID, 3)}')\n",
    "    plt.xlabel('')\n",
    "    plt.ylabel('Плотность')\n",
    "    \n",
    "    plt.show()"
   ]
  },
  {
   "cell_type": "markdown",
   "id": "884b253c",
   "metadata": {},
   "source": [
    "## LogisticRegression"
   ]
  },
  {
   "cell_type": "markdown",
   "id": "a85e4685",
   "metadata": {},
   "source": [
    "### Установка параметров"
   ]
  },
  {
   "cell_type": "code",
   "execution_count": 32,
   "id": "857c2fa4",
   "metadata": {},
   "outputs": [],
   "source": [
    "pipe_lr = Pipeline([\n",
    "    # Преобразуем в численный тип - векторизацию\n",
    "    ('CountVectorizer', CountVectorizer(vocabulary=count_tf_idf_train.vocabulary_)),\n",
    "    # Трансформируем их\n",
    "    ('TfidfTransformer', TfidfTransformer()),\n",
    "    # Применяем метод Логической регрессии для обучения\n",
    "    ('LogisticRegression', LogisticRegression(solver='lbfgs', max_iter=500, random_state=12345))\n",
    "])\n",
    "                   \n",
    "# Подбор гиперпараметров для обучения\n",
    "grid_params_lr = [{\n",
    "    'LogisticRegression__penalty': ['l1', 'l2'],\n",
    "    'LogisticRegression__C': np.logspace(-2, 2, 5),\n",
    "    'LogisticRegression__solver': ['liblinear']\n",
    "}]\n",
    "\n",
    "model = GridSearchCV(\n",
    "    estimator=pipe_lr,\n",
    "    param_grid=grid_params_lr,\n",
    "    scoring='f1',\n",
    "    cv=5\n",
    ") "
   ]
  },
  {
   "cell_type": "markdown",
   "id": "911a9e74",
   "metadata": {},
   "source": [
    "### Обучение"
   ]
  },
  {
   "cell_type": "code",
   "execution_count": 33,
   "id": "3b9c1967",
   "metadata": {},
   "outputs": [
    {
     "name": "stdout",
     "output_type": "stream",
     "text": [
      "F1 TRAIN: 0.765\n",
      "TIME TRAIN [s]: 5.923\n",
      "CPU times: user 7min 41s, sys: 7.13 s, total: 7min 48s\n",
      "Wall time: 4min 34s\n"
     ]
    },
    {
     "data": {
      "application/javascript": [
       "$(document).ready(\n",
       "    function() {\n",
       "        function appendUniqueDiv(){\n",
       "            // append a div with our uuid so we can check that it's already\n",
       "            // been sent and avoid duplicates on page reload\n",
       "            var notifiedDiv = document.createElement(\"div\")\n",
       "            notifiedDiv.id = \"5a6b18f5-2d3d-4776-8ecc-61f91ddc1194\"\n",
       "            element.append(notifiedDiv)\n",
       "        }\n",
       "\n",
       "        // only send notifications if the pageload is complete; this will\n",
       "        // help stop extra notifications when a saved notebook is loaded,\n",
       "        // which during testing gives us state \"interactive\", not \"complete\"\n",
       "        if (document.readyState === 'complete') {\n",
       "            // check for the div that signifies that the notification\n",
       "            // was already sent\n",
       "            if (document.getElementById(\"5a6b18f5-2d3d-4776-8ecc-61f91ddc1194\") === null) {\n",
       "                var notificationPayload = {\"requireInteraction\": false, \"icon\": \"/static/base/images/favicon.ico\", \"body\": \"LogisticRegression\"};\n",
       "                if (Notification.permission !== 'denied') {\n",
       "                    if (Notification.permission !== 'granted') { \n",
       "                        Notification.requestPermission(function (permission) {\n",
       "                            if(!('permission' in Notification)) {\n",
       "                                Notification.permission = permission\n",
       "                            }\n",
       "                        })\n",
       "                    }\n",
       "                    if (Notification.permission === 'granted') {\n",
       "                    var notification = new Notification(\"Jupyter Notebook\", notificationPayload)\n",
       "                    appendUniqueDiv()\n",
       "                    notification.onclick = function () {\n",
       "                        window.focus();\n",
       "                        this.close();\n",
       "                        };\n",
       "                    } \n",
       "                }     \n",
       "            }\n",
       "        }\n",
       "    }\n",
       ")\n"
      ],
      "text/plain": [
       "<IPython.core.display.Javascript object>"
      ]
     },
     "metadata": {},
     "output_type": "display_data"
    }
   ],
   "source": [
    "%%notify -m 'LogisticRegression'\n",
    "%%time\n",
    "\n",
    "F1_TRAIN = fit_model(model, corpus_train, target_train)"
   ]
  },
  {
   "cell_type": "code",
   "execution_count": 34,
   "id": "2d8b0885",
   "metadata": {},
   "outputs": [
    {
     "data": {
      "text/plain": [
       "NAME                                                LogisticRegression\n",
       "F1 TRAIN                                                      0.765019\n",
       "TIME TRAINING [s]                                             5.922766\n",
       "PARAMETRS            {'LogisticRegression__C': 10.0, 'LogisticRegre...\n",
       "Name: 0, dtype: object"
      ]
     },
     "metadata": {},
     "output_type": "display_data"
    }
   ],
   "source": [
    "# Зафиксируем результаты\n",
    "save_result('LogisticRegression', F1_TRAIN, model.refit_time_, model.best_params_, count_model, show_display=True)\n",
    "count_model+=1"
   ]
  },
  {
   "cell_type": "markdown",
   "id": "ea7a6f03",
   "metadata": {},
   "source": [
    "### ROC-кривая"
   ]
  },
  {
   "cell_type": "code",
   "execution_count": 35,
   "id": "0bb5f1d3",
   "metadata": {},
   "outputs": [
    {
     "data": {
      "image/png": "[encoded data removed]",
      "text/plain": [
       "<Figure size 640x480 with 1 Axes>"
      ]
     },
     "metadata": {},
     "output_type": "display_data"
    },
    {
     "name": "stdout",
     "output_type": "stream",
     "text": [
      "ROC AUC: 0.9604915640633652\n"
     ]
    }
   ],
   "source": [
    "display_aus_roc(model, corpus_test, target_test)"
   ]
  },
  {
   "cell_type": "markdown",
   "id": "1519df6f",
   "metadata": {},
   "source": [
    "_*Примечание*_\n",
    "\n",
    "Интервал AUC и качество модели\n",
    "- 0,9 - 1,0 Отличное\n",
    "- 0,8 - 0,9 Очень хорошее\n",
    "- 0,7 - 0,8 Хорошее\n",
    "- 0,6 - 0,7 Среднее\n",
    "- 0,5 - 0,6 Неудовлетворительное"
   ]
  },
  {
   "cell_type": "markdown",
   "id": "cf31838c",
   "metadata": {},
   "source": [
    "Здесь значение ROC-AUC получилось очень идеальной, близок к 1"
   ]
  },
  {
   "cell_type": "markdown",
   "id": "2d0e2f25",
   "metadata": {},
   "source": [
    "## RandomForestClassifier"
   ]
  },
  {
   "cell_type": "markdown",
   "id": "fa4d6ec9",
   "metadata": {},
   "source": [
    "### Установка параметров"
   ]
  },
  {
   "cell_type": "code",
   "execution_count": 36,
   "id": "93a52deb",
   "metadata": {},
   "outputs": [],
   "source": [
    "pipe_rf = Pipeline([\n",
    "    # Преобразуем в численный тип - векторизацию\n",
    "    ('CountVectorizer', CountVectorizer(vocabulary=count_tf_idf_train.vocabulary_)),\n",
    "    # Трансформируем их\n",
    "    ('TfidfTransformer', TfidfTransformer()),\n",
    "    # Применяем метод Логической регрессии для обучения\n",
    "    ('RandomForestClassifier', RandomForestClassifier(random_state=12345))\n",
    "])\n",
    "                   \n",
    "# Подбор гиперпараметров для обучения\n",
    "grid_params_rf = [{\n",
    "    'RandomForestClassifier__criterion': ['gini', 'entropy'],\n",
    "    'RandomForestClassifier__max_depth': [5, 20],\n",
    "    'RandomForestClassifier__min_samples_split': [5, 10],\n",
    "    'RandomForestClassifier__n_estimators': [10, 20],\n",
    "    'RandomForestClassifier__max_features': ['sqrt', 'log2'],\n",
    "    'RandomForestClassifier__bootstrap': [True, False]\n",
    "}]\n",
    "\n",
    "model = GridSearchCV(\n",
    "    estimator=pipe_rf,\n",
    "    param_grid=grid_params_rf,\n",
    "    scoring='f1',\n",
    "    cv=5,\n",
    "    n_jobs=-1\n",
    ") "
   ]
  },
  {
   "cell_type": "markdown",
   "id": "b3a808fb",
   "metadata": {},
   "source": [
    "### Обучение"
   ]
  },
  {
   "cell_type": "code",
   "execution_count": 37,
   "id": "5a356b5a",
   "metadata": {
    "scrolled": true
   },
   "outputs": [
    {
     "name": "stdout",
     "output_type": "stream",
     "text": [
      "F1 TRAIN: 0.022\n",
      "TIME TRAIN [s]: 4.129\n",
      "CPU times: user 2min 6s, sys: 12.7 s, total: 2min 19s\n",
      "Wall time: 4min 45s\n"
     ]
    },
    {
     "data": {
      "application/javascript": [
       "$(document).ready(\n",
       "    function() {\n",
       "        function appendUniqueDiv(){\n",
       "            // append a div with our uuid so we can check that it's already\n",
       "            // been sent and avoid duplicates on page reload\n",
       "            var notifiedDiv = document.createElement(\"div\")\n",
       "            notifiedDiv.id = \"df673f92-2f68-4546-9b8a-67096e77ba05\"\n",
       "            element.append(notifiedDiv)\n",
       "        }\n",
       "\n",
       "        // only send notifications if the pageload is complete; this will\n",
       "        // help stop extra notifications when a saved notebook is loaded,\n",
       "        // which during testing gives us state \"interactive\", not \"complete\"\n",
       "        if (document.readyState === 'complete') {\n",
       "            // check for the div that signifies that the notification\n",
       "            // was already sent\n",
       "            if (document.getElementById(\"df673f92-2f68-4546-9b8a-67096e77ba05\") === null) {\n",
       "                var notificationPayload = {\"requireInteraction\": false, \"icon\": \"/static/base/images/favicon.ico\", \"body\": \"RandomForestClassifier\"};\n",
       "                if (Notification.permission !== 'denied') {\n",
       "                    if (Notification.permission !== 'granted') { \n",
       "                        Notification.requestPermission(function (permission) {\n",
       "                            if(!('permission' in Notification)) {\n",
       "                                Notification.permission = permission\n",
       "                            }\n",
       "                        })\n",
       "                    }\n",
       "                    if (Notification.permission === 'granted') {\n",
       "                    var notification = new Notification(\"Jupyter Notebook\", notificationPayload)\n",
       "                    appendUniqueDiv()\n",
       "                    notification.onclick = function () {\n",
       "                        window.focus();\n",
       "                        this.close();\n",
       "                        };\n",
       "                    } \n",
       "                }     \n",
       "            }\n",
       "        }\n",
       "    }\n",
       ")\n"
      ],
      "text/plain": [
       "<IPython.core.display.Javascript object>"
      ]
     },
     "metadata": {},
     "output_type": "display_data"
    }
   ],
   "source": [
    "%%notify -m 'RandomForestClassifier'\n",
    "%%time\n",
    "\n",
    "# Обучение модели\n",
    "F1_TRAIN = fit_model(model, corpus_train, target_train)"
   ]
  },
  {
   "cell_type": "markdown",
   "id": "6e6228a7",
   "metadata": {},
   "source": [
    "F1 метрика совсем сильно упала, почти в 100 раз, очень странно получилось, дальше смотрим"
   ]
  },
  {
   "cell_type": "code",
   "execution_count": 38,
   "id": "b5ed4226",
   "metadata": {},
   "outputs": [
    {
     "data": {
      "text/plain": [
       "NAME                                            RandomForestClassifier\n",
       "F1 TRAIN                                                      0.022039\n",
       "TIME TRAINING [s]                                              4.12945\n",
       "PARAMETRS            {'RandomForestClassifier__bootstrap': True, 'R...\n",
       "Name: 1, dtype: object"
      ]
     },
     "metadata": {},
     "output_type": "display_data"
    }
   ],
   "source": [
    "# Зафиксируем результаты\n",
    "save_result('RandomForestClassifier', F1_TRAIN, model.refit_time_, model.best_params_, count_model, show_display=True)\n",
    "count_model+=1"
   ]
  },
  {
   "cell_type": "markdown",
   "id": "2f164a80",
   "metadata": {},
   "source": [
    "### ROC-кривая"
   ]
  },
  {
   "cell_type": "code",
   "execution_count": 39,
   "id": "add1caab",
   "metadata": {},
   "outputs": [
    {
     "data": {
      "image/png": "[encoded data removed]",
      "text/plain": [
       "<Figure size 640x480 with 1 Axes>"
      ]
     },
     "metadata": {},
     "output_type": "display_data"
    },
    {
     "name": "stdout",
     "output_type": "stream",
     "text": [
      "ROC AUC: 0.8435407711849274\n"
     ]
    }
   ],
   "source": [
    "display_aus_roc(model, corpus_test, target_test)"
   ]
  },
  {
   "cell_type": "markdown",
   "id": "3640d5e0",
   "metadata": {},
   "source": [
    "_*Примечание*_\n",
    "\n",
    "Интервал AUC и качество модели\n",
    "- 0,9 - 1,0 Отличное\n",
    "- 0,8 - 0,9 Очень хорошее\n",
    "- 0,7 - 0,8 Хорошее\n",
    "- 0,6 - 0,7 Среднее\n",
    "- 0,5 - 0,6 Неудовлетворительное"
   ]
  },
  {
   "cell_type": "markdown",
   "id": "b518e799",
   "metadata": {},
   "source": [
    "Здесь значение ROC-AUC получилось хорошей, около 0,82"
   ]
  },
  {
   "cell_type": "markdown",
   "id": "8b912688",
   "metadata": {},
   "source": [
    "## DecisionTreeClassifier"
   ]
  },
  {
   "cell_type": "markdown",
   "id": "e5feefe9",
   "metadata": {},
   "source": [
    "### Установка параметров"
   ]
  },
  {
   "cell_type": "code",
   "execution_count": 40,
   "id": "28415008",
   "metadata": {},
   "outputs": [],
   "source": [
    "pipe_dt = Pipeline([\n",
    "    # Преобразуем в численный тип - векторизацию\n",
    "    ('CountVectorizer', CountVectorizer(vocabulary=count_tf_idf_train.vocabulary_)),\n",
    "    # Трансформируем их\n",
    "    ('TfidfTransformer', TfidfTransformer()),\n",
    "    # Применяем метод Логической регрессии для обучения\n",
    "    ('DecisionTreeClassifier', DecisionTreeClassifier(random_state=12345))\n",
    "])\n",
    "                   \n",
    "# Подбор гиперпараметров для обучения\n",
    "grid_params_dt = [{\n",
    "    'DecisionTreeClassifier__max_depth': [5, 20],\n",
    "    'DecisionTreeClassifier__min_samples_leaf': [0.5, 1]\n",
    "}]\n",
    "\n",
    "model = GridSearchCV(\n",
    "    estimator=pipe_dt,\n",
    "    param_grid=grid_params_dt,\n",
    "    scoring='f1',\n",
    "    cv=5,\n",
    "    n_jobs=-1\n",
    ") "
   ]
  },
  {
   "cell_type": "markdown",
   "id": "83f5df0b",
   "metadata": {},
   "source": [
    "### Обучение "
   ]
  },
  {
   "cell_type": "code",
   "execution_count": 41,
   "id": "88c76853",
   "metadata": {
    "scrolled": true
   },
   "outputs": [
    {
     "name": "stdout",
     "output_type": "stream",
     "text": [
      "F1 TRAIN: 0.642\n",
      "TIME TRAIN [s]: 13.056\n",
      "CPU times: user 18.3 s, sys: 787 ms, total: 19 s\n",
      "Wall time: 47 s\n"
     ]
    },
    {
     "data": {
      "application/javascript": [
       "$(document).ready(\n",
       "    function() {\n",
       "        function appendUniqueDiv(){\n",
       "            // append a div with our uuid so we can check that it's already\n",
       "            // been sent and avoid duplicates on page reload\n",
       "            var notifiedDiv = document.createElement(\"div\")\n",
       "            notifiedDiv.id = \"881a6b5c-3726-486a-9266-da0d5b5a2099\"\n",
       "            element.append(notifiedDiv)\n",
       "        }\n",
       "\n",
       "        // only send notifications if the pageload is complete; this will\n",
       "        // help stop extra notifications when a saved notebook is loaded,\n",
       "        // which during testing gives us state \"interactive\", not \"complete\"\n",
       "        if (document.readyState === 'complete') {\n",
       "            // check for the div that signifies that the notification\n",
       "            // was already sent\n",
       "            if (document.getElementById(\"881a6b5c-3726-486a-9266-da0d5b5a2099\") === null) {\n",
       "                var notificationPayload = {\"requireInteraction\": false, \"icon\": \"/static/base/images/favicon.ico\", \"body\": \"DecisionTreeClassifier\"};\n",
       "                if (Notification.permission !== 'denied') {\n",
       "                    if (Notification.permission !== 'granted') { \n",
       "                        Notification.requestPermission(function (permission) {\n",
       "                            if(!('permission' in Notification)) {\n",
       "                                Notification.permission = permission\n",
       "                            }\n",
       "                        })\n",
       "                    }\n",
       "                    if (Notification.permission === 'granted') {\n",
       "                    var notification = new Notification(\"Jupyter Notebook\", notificationPayload)\n",
       "                    appendUniqueDiv()\n",
       "                    notification.onclick = function () {\n",
       "                        window.focus();\n",
       "                        this.close();\n",
       "                        };\n",
       "                    } \n",
       "                }     \n",
       "            }\n",
       "        }\n",
       "    }\n",
       ")\n"
      ],
      "text/plain": [
       "<IPython.core.display.Javascript object>"
      ]
     },
     "metadata": {},
     "output_type": "display_data"
    }
   ],
   "source": [
    "%%notify -m 'DecisionTreeClassifier'\n",
    "%%time\n",
    "\n",
    "# Обучение модели\n",
    "F1_TRAIN = fit_model(model, corpus_train, target_train)"
   ]
  },
  {
   "cell_type": "code",
   "execution_count": 42,
   "id": "0ff2a2c9",
   "metadata": {},
   "outputs": [
    {
     "data": {
      "text/plain": [
       "NAME                                            DecisionTreeClassifier\n",
       "F1 TRAIN                                                      0.641929\n",
       "TIME TRAINING [s]                                            13.056221\n",
       "PARAMETRS            {'DecisionTreeClassifier__max_depth': 20, 'Dec...\n",
       "Name: 2, dtype: object"
      ]
     },
     "metadata": {},
     "output_type": "display_data"
    }
   ],
   "source": [
    "# Зафиксируем результаты\n",
    "save_result('DecisionTreeClassifier', F1_TRAIN, model.refit_time_, model.best_params_, count_model, show_display=True)\n",
    "count_model+=1"
   ]
  },
  {
   "cell_type": "markdown",
   "id": "33916952",
   "metadata": {},
   "source": [
    "### ROC-кривая"
   ]
  },
  {
   "cell_type": "code",
   "execution_count": 43,
   "id": "cdb29d09",
   "metadata": {},
   "outputs": [
    {
     "data": {
      "image/png": "[encoded data removed]",
      "text/plain": [
       "<Figure size 640x480 with 1 Axes>"
      ]
     },
     "metadata": {},
     "output_type": "display_data"
    },
    {
     "name": "stdout",
     "output_type": "stream",
     "text": [
      "ROC AUC: 0.74210201935063\n"
     ]
    }
   ],
   "source": [
    "display_aus_roc(model, corpus_test, target_test)"
   ]
  },
  {
   "cell_type": "markdown",
   "id": "275b2960",
   "metadata": {},
   "source": [
    "_*Примечание*_\n",
    "\n",
    "Интервал AUC и качество модели\n",
    "- 0,9 - 1,0 Отличное\n",
    "- 0,8 - 0,9 Очень хорошее\n",
    "- 0,7 - 0,8 Хорошее\n",
    "- 0,6 - 0,7 Среднее\n",
    "- 0,5 - 0,6 Неудовлетворительное"
   ]
  },
  {
   "cell_type": "markdown",
   "id": "e6b54eb2",
   "metadata": {},
   "source": [
    "Здесь значение ROC-AUC тоже получилось хорошей, около 0,74"
   ]
  },
  {
   "cell_type": "markdown",
   "id": "fddd1965",
   "metadata": {},
   "source": [
    "## CatBoostClassifier"
   ]
  },
  {
   "cell_type": "markdown",
   "id": "c6480f50",
   "metadata": {},
   "source": [
    "### Установка параметров"
   ]
  },
  {
   "cell_type": "code",
   "execution_count": 44,
   "id": "fa0f7678",
   "metadata": {},
   "outputs": [],
   "source": [
    "pipe_cbc = Pipeline([\n",
    "    # Преобразуем в численный тип - векторизацию\n",
    "    ('CountVectorizer', CountVectorizer(vocabulary=count_tf_idf_train.vocabulary_)),\n",
    "    # Трансформируем их\n",
    "    ('TfidfTransformer', TfidfTransformer()),\n",
    "    # Применяем метод Логической регрессии для обучения\n",
    "    ('CatBoostClassifier', CatBoostClassifier())\n",
    "])\n",
    "                   \n",
    "# Подбор гиперпараметров для обучения\n",
    "grid_params_cbc = [{\n",
    "    'CatBoostClassifier__depth': [5],\n",
    "    'CatBoostClassifier__learning_rate': [0.05],\n",
    "    'CatBoostClassifier__iterations': [10]\n",
    "}]\n",
    "\n",
    "model = GridSearchCV(\n",
    "    estimator=pipe_cbc,\n",
    "    param_grid=grid_params_cbc,\n",
    "    scoring='f1',\n",
    "    cv=5,\n",
    "    n_jobs=-1\n",
    ") "
   ]
  },
  {
   "cell_type": "markdown",
   "id": "001987ff",
   "metadata": {},
   "source": [
    "### Обучение"
   ]
  },
  {
   "cell_type": "code",
   "execution_count": 45,
   "id": "a2354f28",
   "metadata": {
    "scrolled": true
   },
   "outputs": [
    {
     "name": "stdout",
     "output_type": "stream",
     "text": [
      "0:\tlearn: 0.6419366\ttotal: 1.15s\tremaining: 10.4s\n",
      "1:\tlearn: 0.5981263\ttotal: 2.19s\tremaining: 8.75s\n",
      "2:\tlearn: 0.5589603\ttotal: 3.11s\tremaining: 7.26s\n",
      "3:\tlearn: 0.5233824\ttotal: 4.02s\tremaining: 6.03s\n",
      "4:\tlearn: 0.4905361\ttotal: 4.89s\tremaining: 4.89s\n",
      "5:\tlearn: 0.4625500\ttotal: 5.69s\tremaining: 3.79s\n",
      "6:\tlearn: 0.4374360\ttotal: 6.55s\tremaining: 2.81s\n",
      "7:\tlearn: 0.4162316\ttotal: 7.4s\tremaining: 1.85s\n",
      "8:\tlearn: 0.3967617\ttotal: 8.24s\tremaining: 916ms\n",
      "9:\tlearn: 0.3793011\ttotal: 9.09s\tremaining: 0us\n",
      "0:\tlearn: 0.6400861\ttotal: 1.12s\tremaining: 10.1s\n",
      "1:\tlearn: 0.5930696\ttotal: 2.12s\tremaining: 8.47s\n",
      "2:\tlearn: 0.5518467\ttotal: 3.01s\tremaining: 7.02s\n",
      "3:\tlearn: 0.5173327\ttotal: 3.9s\tremaining: 5.85s\n",
      "4:\tlearn: 0.4847749\ttotal: 4.73s\tremaining: 4.73s\n",
      "5:\tlearn: 0.4573763\ttotal: 5.58s\tremaining: 3.72s\n",
      "6:\tlearn: 0.4329121\ttotal: 6.3s\tremaining: 2.7s\n",
      "7:\tlearn: 0.4112685\ttotal: 7.21s\tremaining: 1.8s\n",
      "8:\tlearn: 0.3925430\ttotal: 8.11s\tremaining: 901ms\n",
      "9:\tlearn: 0.3756669\ttotal: 8.81s\tremaining: 0us\n",
      "0:\tlearn: 0.6430302\ttotal: 726ms\tremaining: 6.53s\n",
      "1:\tlearn: 0.5965598\ttotal: 1.45s\tremaining: 5.79s\n",
      "2:\tlearn: 0.5559051\ttotal: 2.31s\tremaining: 5.38s\n",
      "3:\tlearn: 0.5208203\ttotal: 3.09s\tremaining: 4.63s\n",
      "4:\tlearn: 0.4891027\ttotal: 3.96s\tremaining: 3.96s\n",
      "5:\tlearn: 0.4623476\ttotal: 4.8s\tremaining: 3.2s\n",
      "6:\tlearn: 0.4381203\ttotal: 5.55s\tremaining: 2.38s\n",
      "7:\tlearn: 0.4160824\ttotal: 6.35s\tremaining: 1.59s\n",
      "8:\tlearn: 0.3968638\ttotal: 7.11s\tremaining: 790ms\n",
      "9:\tlearn: 0.3793125\ttotal: 7.75s\tremaining: 0us\n",
      "0:\tlearn: 0.6431205\ttotal: 1.03s\tremaining: 9.26s\n",
      "1:\tlearn: 0.5976042\ttotal: 1.92s\tremaining: 7.7s\n",
      "2:\tlearn: 0.5551541\ttotal: 2.75s\tremaining: 6.42s\n",
      "3:\tlearn: 0.5194309\ttotal: 3.63s\tremaining: 5.45s\n",
      "4:\tlearn: 0.4887035\ttotal: 4.58s\tremaining: 4.58s\n",
      "5:\tlearn: 0.4614905\ttotal: 5.37s\tremaining: 3.58s\n",
      "6:\tlearn: 0.4375330\ttotal: 6.22s\tremaining: 2.67s\n",
      "7:\tlearn: 0.4158918\ttotal: 7.09s\tremaining: 1.77s\n",
      "8:\tlearn: 0.3962183\ttotal: 7.86s\tremaining: 874ms\n",
      "9:\tlearn: 0.3790359\ttotal: 8.52s\tremaining: 0us\n",
      "0:\tlearn: 0.6430302\ttotal: 1.04s\tremaining: 9.36s\n",
      "1:\tlearn: 0.5966562\ttotal: 1.77s\tremaining: 7.07s\n",
      "2:\tlearn: 0.5555714\ttotal: 2.52s\tremaining: 5.88s\n",
      "3:\tlearn: 0.5201552\ttotal: 3.22s\tremaining: 4.83s\n",
      "4:\tlearn: 0.4884617\ttotal: 4.05s\tremaining: 4.05s\n",
      "5:\tlearn: 0.4600490\ttotal: 4.92s\tremaining: 3.28s\n",
      "6:\tlearn: 0.4352302\ttotal: 5.65s\tremaining: 2.42s\n",
      "7:\tlearn: 0.4141004\ttotal: 6.4s\tremaining: 1.6s\n",
      "8:\tlearn: 0.3954055\ttotal: 7.15s\tremaining: 794ms\n",
      "9:\tlearn: 0.3788301\ttotal: 7.58s\tremaining: 0us\n",
      "0:\tlearn: 0.6423145\ttotal: 381ms\tremaining: 3.42s\n",
      "1:\tlearn: 0.5980657\ttotal: 685ms\tremaining: 2.74s\n",
      "2:\tlearn: 0.5564794\ttotal: 985ms\tremaining: 2.3s\n",
      "3:\tlearn: 0.5213617\ttotal: 1.31s\tremaining: 1.97s\n",
      "4:\tlearn: 0.4900973\ttotal: 1.62s\tremaining: 1.62s\n",
      "5:\tlearn: 0.4617322\ttotal: 1.93s\tremaining: 1.29s\n",
      "6:\tlearn: 0.4364340\ttotal: 2.26s\tremaining: 968ms\n",
      "7:\tlearn: 0.4155929\ttotal: 2.56s\tremaining: 641ms\n",
      "8:\tlearn: 0.3958421\ttotal: 2.88s\tremaining: 321ms\n",
      "9:\tlearn: 0.3786812\ttotal: 3.19s\tremaining: 0us\n",
      "F1 TRAIN: 0.438\n",
      "TIME TRAIN [s]: 12.105\n",
      "CPU times: user 1min 27s, sys: 2.4 s, total: 1min 29s\n",
      "Wall time: 42.3 s\n"
     ]
    },
    {
     "data": {
      "application/javascript": [
       "$(document).ready(\n",
       "    function() {\n",
       "        function appendUniqueDiv(){\n",
       "            // append a div with our uuid so we can check that it's already\n",
       "            // been sent and avoid duplicates on page reload\n",
       "            var notifiedDiv = document.createElement(\"div\")\n",
       "            notifiedDiv.id = \"b5724ef7-08c1-4b65-8e60-555ee55246bf\"\n",
       "            element.append(notifiedDiv)\n",
       "        }\n",
       "\n",
       "        // only send notifications if the pageload is complete; this will\n",
       "        // help stop extra notifications when a saved notebook is loaded,\n",
       "        // which during testing gives us state \"interactive\", not \"complete\"\n",
       "        if (document.readyState === 'complete') {\n",
       "            // check for the div that signifies that the notification\n",
       "            // was already sent\n",
       "            if (document.getElementById(\"b5724ef7-08c1-4b65-8e60-555ee55246bf\") === null) {\n",
       "                var notificationPayload = {\"requireInteraction\": false, \"icon\": \"/static/base/images/favicon.ico\", \"body\": \"CatBoostClassifier\"};\n",
       "                if (Notification.permission !== 'denied') {\n",
       "                    if (Notification.permission !== 'granted') { \n",
       "                        Notification.requestPermission(function (permission) {\n",
       "                            if(!('permission' in Notification)) {\n",
       "                                Notification.permission = permission\n",
       "                            }\n",
       "                        })\n",
       "                    }\n",
       "                    if (Notification.permission === 'granted') {\n",
       "                    var notification = new Notification(\"Jupyter Notebook\", notificationPayload)\n",
       "                    appendUniqueDiv()\n",
       "                    notification.onclick = function () {\n",
       "                        window.focus();\n",
       "                        this.close();\n",
       "                        };\n",
       "                    } \n",
       "                }     \n",
       "            }\n",
       "        }\n",
       "    }\n",
       ")\n"
      ],
      "text/plain": [
       "<IPython.core.display.Javascript object>"
      ]
     },
     "metadata": {},
     "output_type": "display_data"
    }
   ],
   "source": [
    "%%notify -m 'CatBoostClassifier'\n",
    "%%time\n",
    "\n",
    "# Обучение модели\n",
    "F1_TRAIN = fit_model(model, corpus_train, target_train)"
   ]
  },
  {
   "cell_type": "code",
   "execution_count": 46,
   "id": "832f08ce",
   "metadata": {},
   "outputs": [
    {
     "data": {
      "text/plain": [
       "NAME                                                CatBoostClassifier\n",
       "F1 TRAIN                                                      0.438484\n",
       "TIME TRAINING [s]                                            12.105478\n",
       "PARAMETRS            {'CatBoostClassifier__depth': 5, 'CatBoostClas...\n",
       "Name: 3, dtype: object"
      ]
     },
     "metadata": {},
     "output_type": "display_data"
    }
   ],
   "source": [
    "# Зафиксируем результаты\n",
    "save_result('CatBoostClassifier', F1_TRAIN, model.refit_time_, model.best_params_, count_model, show_display=True)\n",
    "count_model+=1"
   ]
  },
  {
   "cell_type": "markdown",
   "id": "ae8af55a",
   "metadata": {},
   "source": [
    "### ROC-кривая"
   ]
  },
  {
   "cell_type": "code",
   "execution_count": 47,
   "id": "4929863e",
   "metadata": {},
   "outputs": [
    {
     "data": {
      "image/png": "[encoded data removed]",
      "text/plain": [
       "<Figure size 640x480 with 1 Axes>"
      ]
     },
     "metadata": {},
     "output_type": "display_data"
    },
    {
     "name": "stdout",
     "output_type": "stream",
     "text": [
      "ROC AUC: 0.7417824401689578\n"
     ]
    }
   ],
   "source": [
    "display_aus_roc(model, corpus_test, target_test)"
   ]
  },
  {
   "cell_type": "markdown",
   "id": "f2fbf13f",
   "metadata": {},
   "source": [
    "_*Примечание*_\n",
    "\n",
    "Интервал AUC и качество модели\n",
    "- 0,9 - 1,0 Отличное\n",
    "- 0,8 - 0,9 Очень хорошее\n",
    "- 0,7 - 0,8 Хорошее\n",
    "- 0,6 - 0,7 Среднее\n",
    "- 0,5 - 0,6 Неудовлетворительное"
   ]
  },
  {
   "cell_type": "markdown",
   "id": "085e1727",
   "metadata": {},
   "source": [
    "Здесь значение ROC-AUC тоже получилось очень хорошей, около 0,88"
   ]
  },
  {
   "cell_type": "markdown",
   "id": "73dc1830",
   "metadata": {},
   "source": [
    "# Проверка на тестовой выборке лучших моделей"
   ]
  },
  {
   "cell_type": "markdown",
   "id": "b498b126",
   "metadata": {},
   "source": [
    "## Результаты F1-SCORE"
   ]
  },
  {
   "cell_type": "code",
   "execution_count": 48,
   "id": "99cc510d",
   "metadata": {},
   "outputs": [
    {
     "data": {
      "application/javascript": [
       "$(document).ready(\n",
       "    function() {\n",
       "        function appendUniqueDiv(){\n",
       "            // append a div with our uuid so we can check that it's already\n",
       "            // been sent and avoid duplicates on page reload\n",
       "            var notifiedDiv = document.createElement(\"div\")\n",
       "            notifiedDiv.id = \"792272bd-fcf4-4551-a2f5-c4620c2afb1b\"\n",
       "            element.append(notifiedDiv)\n",
       "        }\n",
       "\n",
       "        // only send notifications if the pageload is complete; this will\n",
       "        // help stop extra notifications when a saved notebook is loaded,\n",
       "        // which during testing gives us state \"interactive\", not \"complete\"\n",
       "        if (document.readyState === 'complete') {\n",
       "            // check for the div that signifies that the notification\n",
       "            // was already sent\n",
       "            if (document.getElementById(\"792272bd-fcf4-4551-a2f5-c4620c2afb1b\") === null) {\n",
       "                var notificationPayload = {\"requireInteraction\": false, \"icon\": \"/static/base/images/favicon.ico\", \"body\": \"Total result\"};\n",
       "                if (Notification.permission !== 'denied') {\n",
       "                    if (Notification.permission !== 'granted') { \n",
       "                        Notification.requestPermission(function (permission) {\n",
       "                            if(!('permission' in Notification)) {\n",
       "                                Notification.permission = permission\n",
       "                            }\n",
       "                        })\n",
       "                    }\n",
       "                    if (Notification.permission === 'granted') {\n",
       "                    var notification = new Notification(\"Jupyter Notebook\", notificationPayload)\n",
       "                    appendUniqueDiv()\n",
       "                    notification.onclick = function () {\n",
       "                        window.focus();\n",
       "                        this.close();\n",
       "                        };\n",
       "                    } \n",
       "                }     \n",
       "            }\n",
       "        }\n",
       "    }\n",
       ")\n"
      ],
      "text/plain": [
       "<IPython.core.display.Javascript object>"
      ]
     },
     "metadata": {},
     "output_type": "display_data"
    }
   ],
   "source": [
    "%%notify -m \"Total result\"\n",
    "results = pd.DataFrame(results).T"
   ]
  },
  {
   "cell_type": "code",
   "execution_count": 49,
   "id": "cd052864",
   "metadata": {},
   "outputs": [
    {
     "data": {
      "text/html": [
       "<div>\n",
       "<style scoped>\n",
       "    .dataframe tbody tr th:only-of-type {\n",
       "        vertical-align: middle;\n",
       "    }\n",
       "\n",
       "    .dataframe tbody tr th {\n",
       "        vertical-align: top;\n",
       "    }\n",
       "\n",
       "    .dataframe thead th {\n",
       "        text-align: right;\n",
       "    }\n",
       "</style>\n",
       "<table border=\"1\" class=\"dataframe\">\n",
       "  <thead>\n",
       "    <tr style=\"text-align: right;\">\n",
       "      <th></th>\n",
       "      <th>NAME</th>\n",
       "      <th>F1 TRAIN</th>\n",
       "      <th>TIME TRAINING [s]</th>\n",
       "      <th>PARAMETRS</th>\n",
       "    </tr>\n",
       "  </thead>\n",
       "  <tbody>\n",
       "    <tr>\n",
       "      <th>0</th>\n",
       "      <td>LogisticRegression</td>\n",
       "      <td>0.765019</td>\n",
       "      <td>5.922766</td>\n",
       "      <td>{'LogisticRegression__C': 10.0, 'LogisticRegre...</td>\n",
       "    </tr>\n",
       "    <tr>\n",
       "      <th>1</th>\n",
       "      <td>RandomForestClassifier</td>\n",
       "      <td>0.022039</td>\n",
       "      <td>4.12945</td>\n",
       "      <td>{'RandomForestClassifier__bootstrap': True, 'R...</td>\n",
       "    </tr>\n",
       "    <tr>\n",
       "      <th>2</th>\n",
       "      <td>DecisionTreeClassifier</td>\n",
       "      <td>0.641929</td>\n",
       "      <td>13.056221</td>\n",
       "      <td>{'DecisionTreeClassifier__max_depth': 20, 'Dec...</td>\n",
       "    </tr>\n",
       "    <tr>\n",
       "      <th>3</th>\n",
       "      <td>CatBoostClassifier</td>\n",
       "      <td>0.438484</td>\n",
       "      <td>12.105478</td>\n",
       "      <td>{'CatBoostClassifier__depth': 5, 'CatBoostClas...</td>\n",
       "    </tr>\n",
       "  </tbody>\n",
       "</table>\n",
       "</div>"
      ],
      "text/plain": [
       "                     NAME  F1 TRAIN TIME TRAINING [s]  \\\n",
       "0      LogisticRegression  0.765019          5.922766   \n",
       "1  RandomForestClassifier  0.022039           4.12945   \n",
       "2  DecisionTreeClassifier  0.641929         13.056221   \n",
       "3      CatBoostClassifier  0.438484         12.105478   \n",
       "\n",
       "                                           PARAMETRS  \n",
       "0  {'LogisticRegression__C': 10.0, 'LogisticRegre...  \n",
       "1  {'RandomForestClassifier__bootstrap': True, 'R...  \n",
       "2  {'DecisionTreeClassifier__max_depth': 20, 'Dec...  \n",
       "3  {'CatBoostClassifier__depth': 5, 'CatBoostClas...  "
      ]
     },
     "execution_count": 49,
     "metadata": {},
     "output_type": "execute_result"
    }
   ],
   "source": [
    "# Смотрим все результаты обучения\n",
    "results"
   ]
  },
  {
   "cell_type": "code",
   "execution_count": 50,
   "id": "db6b28d4",
   "metadata": {},
   "outputs": [
    {
     "data": {
      "text/html": [
       "<div>\n",
       "<style scoped>\n",
       "    .dataframe tbody tr th:only-of-type {\n",
       "        vertical-align: middle;\n",
       "    }\n",
       "\n",
       "    .dataframe tbody tr th {\n",
       "        vertical-align: top;\n",
       "    }\n",
       "\n",
       "    .dataframe thead th {\n",
       "        text-align: right;\n",
       "    }\n",
       "</style>\n",
       "<table border=\"1\" class=\"dataframe\">\n",
       "  <thead>\n",
       "    <tr style=\"text-align: right;\">\n",
       "      <th></th>\n",
       "      <th>NAME</th>\n",
       "      <th>F1 TRAIN</th>\n",
       "      <th>TIME TRAINING [s]</th>\n",
       "      <th>PARAMETRS</th>\n",
       "    </tr>\n",
       "  </thead>\n",
       "  <tbody>\n",
       "    <tr>\n",
       "      <th>0</th>\n",
       "      <td>LogisticRegression</td>\n",
       "      <td>0.765019</td>\n",
       "      <td>5.922766</td>\n",
       "      <td>{'LogisticRegression__C': 10.0, 'LogisticRegre...</td>\n",
       "    </tr>\n",
       "  </tbody>\n",
       "</table>\n",
       "</div>"
      ],
      "text/plain": [
       "                 NAME  F1 TRAIN TIME TRAINING [s]  \\\n",
       "0  LogisticRegression  0.765019          5.922766   \n",
       "\n",
       "                                           PARAMETRS  \n",
       "0  {'LogisticRegression__C': 10.0, 'LogisticRegre...  "
      ]
     },
     "execution_count": 50,
     "metadata": {},
     "output_type": "execute_result"
    }
   ],
   "source": [
    "# Нам интересует F1 не менее 0.75, тогда\n",
    "best_results = results[results['F1 TRAIN'] > 0.75]\n",
    "best_results"
   ]
  },
  {
   "cell_type": "markdown",
   "id": "aa1bba78",
   "metadata": {},
   "source": [
    "Лучшей моделей оказалсь `LogisticRegression`, проверим на тестовой выборке"
   ]
  },
  {
   "cell_type": "markdown",
   "id": "538776a5",
   "metadata": {},
   "source": [
    "## Машинное обучение"
   ]
  },
  {
   "cell_type": "markdown",
   "id": "c606ba63",
   "metadata": {},
   "source": [
    "### Установка лучших гиперпараметров для лучшей моделей"
   ]
  },
  {
   "cell_type": "code",
   "execution_count": 57,
   "id": "5dc3dd92",
   "metadata": {},
   "outputs": [],
   "source": [
    "# Инициализируем лушчую модель с таким же параметром\n",
    "pipe_lr = Pipeline([\n",
    "    # Преобразуем в численный тип - векторизацию\n",
    "    ('CountVectorizer', CountVectorizer(vocabulary=count_tf_idf_train.vocabulary_)),\n",
    "    # Трансформируем их\n",
    "    ('TfidfTransformer', TfidfTransformer()),\n",
    "    # Применяем метод Логической регрессии для обучения\n",
    "    ('LogisticRegression', LogisticRegression(solver='lbfgs', max_iter=500, random_state=12345))\n",
    "])"
   ]
  },
  {
   "cell_type": "code",
   "execution_count": 58,
   "id": "bbc8dca1",
   "metadata": {},
   "outputs": [
    {
     "data": {
      "text/plain": [
       "{'LogisticRegression__C': 10.0,\n",
       " 'LogisticRegression__penalty': 'l1',\n",
       " 'LogisticRegression__solver': 'liblinear'}"
      ]
     },
     "execution_count": 58,
     "metadata": {},
     "output_type": "execute_result"
    }
   ],
   "source": [
    "best_results['PARAMETRS'][0]"
   ]
  },
  {
   "cell_type": "code",
   "execution_count": null,
   "id": "03b0f7ff",
   "metadata": {
    "scrolled": false
   },
   "outputs": [
    {
     "name": "stdout",
     "output_type": "stream",
     "text": [
      "CPU times: user 482 µs, sys: 15 µs, total: 497 µs\n",
      "Wall time: 503 µs\n"
     ]
    }
   ],
   "source": [
    "%%time\n",
    "\n",
    "# Устанавливаем лучшие гиперпараметры для лучшей модели\n",
    "pipe_lr.set_params(**best_results['PARAMETRS'][0]) "
   ]
  },
  {
   "cell_type": "markdown",
   "id": "4ca7b2ba",
   "metadata": {},
   "source": [
    "### Обучение"
   ]
  },
  {
   "cell_type": "code",
   "execution_count": 54,
   "id": "aa016923",
   "metadata": {},
   "outputs": [
    {
     "name": "stdout",
     "output_type": "stream",
     "text": [
      "CPU times: user 5.81 s, sys: 48 ms, total: 5.85 s\n",
      "Wall time: 5.87 s\n"
     ]
    },
    {
     "data": {
      "text/html": [
       "<style>#sk-container-id-2 {color: black;background-color: white;}#sk-container-id-2 pre{padding: 0;}#sk-container-id-2 div.sk-toggleable {background-color: white;}#sk-container-id-2 label.sk-toggleable__label {cursor: pointer;display: block;width: 100%;margin-bottom: 0;padding: 0.3em;box-sizing: border-box;text-align: center;}#sk-container-id-2 label.sk-toggleable__label-arrow:before {content: \"▸\";float: left;margin-right: 0.25em;color: #696969;}#sk-container-id-2 label.sk-toggleable__label-arrow:hover:before {color: black;}#sk-container-id-2 div.sk-estimator:hover label.sk-toggleable__label-arrow:before {color: black;}#sk-container-id-2 div.sk-toggleable__content {max-height: 0;max-width: 0;overflow: hidden;text-align: left;background-color: #f0f8ff;}#sk-container-id-2 div.sk-toggleable__content pre {margin: 0.2em;color: black;border-radius: 0.25em;background-color: #f0f8ff;}#sk-container-id-2 input.sk-toggleable__control:checked~div.sk-toggleable__content {max-height: 200px;max-width: 100%;overflow: auto;}#sk-container-id-2 input.sk-toggleable__control:checked~label.sk-toggleable__label-arrow:before {content: \"▾\";}#sk-container-id-2 div.sk-estimator input.sk-toggleable__control:checked~label.sk-toggleable__label {background-color: #d4ebff;}#sk-container-id-2 div.sk-label input.sk-toggleable__control:checked~label.sk-toggleable__label {background-color: #d4ebff;}#sk-container-id-2 input.sk-hidden--visually {border: 0;clip: rect(1px 1px 1px 1px);clip: rect(1px, 1px, 1px, 1px);height: 1px;margin: -1px;overflow: hidden;padding: 0;position: absolute;width: 1px;}#sk-container-id-2 div.sk-estimator {font-family: monospace;background-color: #f0f8ff;border: 1px dotted black;border-radius: 0.25em;box-sizing: border-box;margin-bottom: 0.5em;}#sk-container-id-2 div.sk-estimator:hover {background-color: #d4ebff;}#sk-container-id-2 div.sk-parallel-item::after {content: \"\";width: 100%;border-bottom: 1px solid gray;flex-grow: 1;}#sk-container-id-2 div.sk-label:hover label.sk-toggleable__label {background-color: #d4ebff;}#sk-container-id-2 div.sk-serial::before {content: \"\";position: absolute;border-left: 1px solid gray;box-sizing: border-box;top: 0;bottom: 0;left: 50%;z-index: 0;}#sk-container-id-2 div.sk-serial {display: flex;flex-direction: column;align-items: center;background-color: white;padding-right: 0.2em;padding-left: 0.2em;position: relative;}#sk-container-id-2 div.sk-item {position: relative;z-index: 1;}#sk-container-id-2 div.sk-parallel {display: flex;align-items: stretch;justify-content: center;background-color: white;position: relative;}#sk-container-id-2 div.sk-item::before, #sk-container-id-2 div.sk-parallel-item::before {content: \"\";position: absolute;border-left: 1px solid gray;box-sizing: border-box;top: 0;bottom: 0;left: 50%;z-index: -1;}#sk-container-id-2 div.sk-parallel-item {display: flex;flex-direction: column;z-index: 1;position: relative;background-color: white;}#sk-container-id-2 div.sk-parallel-item:first-child::after {align-self: flex-end;width: 50%;}#sk-container-id-2 div.sk-parallel-item:last-child::after {align-self: flex-start;width: 50%;}#sk-container-id-2 div.sk-parallel-item:only-child::after {width: 0;}#sk-container-id-2 div.sk-dashed-wrapped {border: 1px dashed gray;margin: 0 0.4em 0.5em 0.4em;box-sizing: border-box;padding-bottom: 0.4em;background-color: white;}#sk-container-id-2 div.sk-label label {font-family: monospace;font-weight: bold;display: inline-block;line-height: 1.2em;}#sk-container-id-2 div.sk-label-container {text-align: center;}#sk-container-id-2 div.sk-container {/* jupyter's `normalize.less` sets `[hidden] { display: none; }` but bootstrap.min.css set `[hidden] { display: none !important; }` so we also need the `!important` here to be able to override the default hidden behavior on the sphinx rendered scikit-learn.org. See: https://github.com/scikit-learn/scikit-learn/issues/21755 */display: inline-block !important;position: relative;}#sk-container-id-2 div.sk-text-repr-fallback {display: none;}</style><div id=\"sk-container-id-2\" class=\"sk-top-container\"><div class=\"sk-text-repr-fallback\"><pre>Pipeline(steps=[(&#x27;CountVectorizer&#x27;,\n",
       "                 CountVectorizer(vocabulary={&#x27;aa&#x27;: 0, &#x27;aaa&#x27;: 1, &#x27;aaaa&#x27;: 2,\n",
       "                                             &#x27;aaaaa&#x27;: 3, &#x27;aaaaaaaa&#x27;: 4,\n",
       "                                             &#x27;aaaaaaaaaaaaaaaaaaaaaaaaaaaaaaaaaaaaaaaaaaaaaaaaaaaaaaaaaaaaaaaaaaaaaany&#x27;: 5,\n",
       "                                             &#x27;aaaaaaaaaahhhhhhhhhhhhhh&#x27;: 6,\n",
       "                                             &#x27;aaaaaaaaadm&#x27;: 7, &#x27;aaaaaaaaaq&#x27;: 8,\n",
       "                                             &#x27;aaaaaaaacfo&#x27;: 9,\n",
       "                                             &#x27;aaaaaaaaczy&#x27;: 10,\n",
       "                                             &#x27;aaaaaaaari&#x27;: 11,\n",
       "                                             &#x27;aaaaaaaayui&#x27;: 12,\n",
       "                                             &#x27;aaaaaaahhhhhhhhhhhhhhhhhhhhhhhh&#x27;: 13,...\n",
       "                                             &#x27;aaaannnnyyyywwwwhhhheeeerrrreeee&#x27;: 16,\n",
       "                                             &#x27;aaaawwww&#x27;: 17, &#x27;aaaboyz&#x27;: 18,\n",
       "                                             &#x27;aaages&#x27;: 19, &#x27;aaaghh&#x27;: 20,\n",
       "                                             &#x27;aaah&#x27;: 21, &#x27;aaahhh&#x27;: 22,\n",
       "                                             &#x27;aaahs&#x27;: 23, &#x27;aaai&#x27;: 24,\n",
       "                                             &#x27;aaajade&#x27;: 25, &#x27;aaand&#x27;: 26,\n",
       "                                             &#x27;aaarrrgggh&#x27;: 27, &#x27;aaaww&#x27;: 28,\n",
       "                                             &#x27;aaberg&#x27;: 29, ...})),\n",
       "                (&#x27;TfidfTransformer&#x27;, TfidfTransformer()),\n",
       "                (&#x27;LogisticRegression&#x27;,\n",
       "                 LogisticRegression(C=10.0, max_iter=500, penalty=&#x27;l1&#x27;,\n",
       "                                    random_state=12345, solver=&#x27;liblinear&#x27;))])</pre><b>In a Jupyter environment, please rerun this cell to show the HTML representation or trust the notebook. <br />On GitHub, the HTML representation is unable to render, please try loading this page with nbviewer.org.</b></div><div class=\"sk-container\" hidden><div class=\"sk-item sk-dashed-wrapped\"><div class=\"sk-label-container\"><div class=\"sk-label sk-toggleable\"><input class=\"sk-toggleable__control sk-hidden--visually\" id=\"sk-estimator-id-5\" type=\"checkbox\" ><label for=\"sk-estimator-id-5\" class=\"sk-toggleable__label sk-toggleable__label-arrow\">Pipeline</label><div class=\"sk-toggleable__content\"><pre>Pipeline(steps=[(&#x27;CountVectorizer&#x27;,\n",
       "                 CountVectorizer(vocabulary={&#x27;aa&#x27;: 0, &#x27;aaa&#x27;: 1, &#x27;aaaa&#x27;: 2,\n",
       "                                             &#x27;aaaaa&#x27;: 3, &#x27;aaaaaaaa&#x27;: 4,\n",
       "                                             &#x27;aaaaaaaaaaaaaaaaaaaaaaaaaaaaaaaaaaaaaaaaaaaaaaaaaaaaaaaaaaaaaaaaaaaaaany&#x27;: 5,\n",
       "                                             &#x27;aaaaaaaaaahhhhhhhhhhhhhh&#x27;: 6,\n",
       "                                             &#x27;aaaaaaaaadm&#x27;: 7, &#x27;aaaaaaaaaq&#x27;: 8,\n",
       "                                             &#x27;aaaaaaaacfo&#x27;: 9,\n",
       "                                             &#x27;aaaaaaaaczy&#x27;: 10,\n",
       "                                             &#x27;aaaaaaaari&#x27;: 11,\n",
       "                                             &#x27;aaaaaaaayui&#x27;: 12,\n",
       "                                             &#x27;aaaaaaahhhhhhhhhhhhhhhhhhhhhhhh&#x27;: 13,...\n",
       "                                             &#x27;aaaannnnyyyywwwwhhhheeeerrrreeee&#x27;: 16,\n",
       "                                             &#x27;aaaawwww&#x27;: 17, &#x27;aaaboyz&#x27;: 18,\n",
       "                                             &#x27;aaages&#x27;: 19, &#x27;aaaghh&#x27;: 20,\n",
       "                                             &#x27;aaah&#x27;: 21, &#x27;aaahhh&#x27;: 22,\n",
       "                                             &#x27;aaahs&#x27;: 23, &#x27;aaai&#x27;: 24,\n",
       "                                             &#x27;aaajade&#x27;: 25, &#x27;aaand&#x27;: 26,\n",
       "                                             &#x27;aaarrrgggh&#x27;: 27, &#x27;aaaww&#x27;: 28,\n",
       "                                             &#x27;aaberg&#x27;: 29, ...})),\n",
       "                (&#x27;TfidfTransformer&#x27;, TfidfTransformer()),\n",
       "                (&#x27;LogisticRegression&#x27;,\n",
       "                 LogisticRegression(C=10.0, max_iter=500, penalty=&#x27;l1&#x27;,\n",
       "                                    random_state=12345, solver=&#x27;liblinear&#x27;))])</pre></div></div></div><div class=\"sk-serial\"><div class=\"sk-item\"><div class=\"sk-estimator sk-toggleable\"><input class=\"sk-toggleable__control sk-hidden--visually\" id=\"sk-estimator-id-6\" type=\"checkbox\" ><label for=\"sk-estimator-id-6\" class=\"sk-toggleable__label sk-toggleable__label-arrow\">CountVectorizer</label><div class=\"sk-toggleable__content\"><pre>CountVectorizer(vocabulary={&#x27;aa&#x27;: 0, &#x27;aaa&#x27;: 1, &#x27;aaaa&#x27;: 2, &#x27;aaaaa&#x27;: 3,\n",
       "                            &#x27;aaaaaaaa&#x27;: 4,\n",
       "                            &#x27;aaaaaaaaaaaaaaaaaaaaaaaaaaaaaaaaaaaaaaaaaaaaaaaaaaaaaaaaaaaaaaaaaaaaaany&#x27;: 5,\n",
       "                            &#x27;aaaaaaaaaahhhhhhhhhhhhhh&#x27;: 6, &#x27;aaaaaaaaadm&#x27;: 7,\n",
       "                            &#x27;aaaaaaaaaq&#x27;: 8, &#x27;aaaaaaaacfo&#x27;: 9,\n",
       "                            &#x27;aaaaaaaaczy&#x27;: 10, &#x27;aaaaaaaari&#x27;: 11,\n",
       "                            &#x27;aaaaaaaayui&#x27;: 12,\n",
       "                            &#x27;aaaaaaahhhhhhhhhhhhhhhhhhhhhhhh&#x27;: 13,\n",
       "                            &#x27;aaaaaaw&#x27;: 14, &#x27;aaaaah&#x27;: 15,\n",
       "                            &#x27;aaaannnnyyyywwwwhhhheeeerrrreeee&#x27;: 16,\n",
       "                            &#x27;aaaawwww&#x27;: 17, &#x27;aaaboyz&#x27;: 18, &#x27;aaages&#x27;: 19,\n",
       "                            &#x27;aaaghh&#x27;: 20, &#x27;aaah&#x27;: 21, &#x27;aaahhh&#x27;: 22, &#x27;aaahs&#x27;: 23,\n",
       "                            &#x27;aaai&#x27;: 24, &#x27;aaajade&#x27;: 25, &#x27;aaand&#x27;: 26,\n",
       "                            &#x27;aaarrrgggh&#x27;: 27, &#x27;aaaww&#x27;: 28, &#x27;aaberg&#x27;: 29, ...})</pre></div></div></div><div class=\"sk-item\"><div class=\"sk-estimator sk-toggleable\"><input class=\"sk-toggleable__control sk-hidden--visually\" id=\"sk-estimator-id-7\" type=\"checkbox\" ><label for=\"sk-estimator-id-7\" class=\"sk-toggleable__label sk-toggleable__label-arrow\">TfidfTransformer</label><div class=\"sk-toggleable__content\"><pre>TfidfTransformer()</pre></div></div></div><div class=\"sk-item\"><div class=\"sk-estimator sk-toggleable\"><input class=\"sk-toggleable__control sk-hidden--visually\" id=\"sk-estimator-id-8\" type=\"checkbox\" ><label for=\"sk-estimator-id-8\" class=\"sk-toggleable__label sk-toggleable__label-arrow\">LogisticRegression</label><div class=\"sk-toggleable__content\"><pre>LogisticRegression(C=10.0, max_iter=500, penalty=&#x27;l1&#x27;, random_state=12345,\n",
       "                   solver=&#x27;liblinear&#x27;)</pre></div></div></div></div></div></div></div>"
      ],
      "text/plain": [
       "Pipeline(steps=[('CountVectorizer',\n",
       "                 CountVectorizer(vocabulary={'aa': 0, 'aaa': 1, 'aaaa': 2,\n",
       "                                             'aaaaa': 3, 'aaaaaaaa': 4,\n",
       "                                             'aaaaaaaaaaaaaaaaaaaaaaaaaaaaaaaaaaaaaaaaaaaaaaaaaaaaaaaaaaaaaaaaaaaaaany': 5,\n",
       "                                             'aaaaaaaaaahhhhhhhhhhhhhh': 6,\n",
       "                                             'aaaaaaaaadm': 7, 'aaaaaaaaaq': 8,\n",
       "                                             'aaaaaaaacfo': 9,\n",
       "                                             'aaaaaaaaczy': 10,\n",
       "                                             'aaaaaaaari': 11,\n",
       "                                             'aaaaaaaayui': 12,\n",
       "                                             'aaaaaaahhhhhhhhhhhhhhhhhhhhhhhh': 13,...\n",
       "                                             'aaaannnnyyyywwwwhhhheeeerrrreeee': 16,\n",
       "                                             'aaaawwww': 17, 'aaaboyz': 18,\n",
       "                                             'aaages': 19, 'aaaghh': 20,\n",
       "                                             'aaah': 21, 'aaahhh': 22,\n",
       "                                             'aaahs': 23, 'aaai': 24,\n",
       "                                             'aaajade': 25, 'aaand': 26,\n",
       "                                             'aaarrrgggh': 27, 'aaaww': 28,\n",
       "                                             'aaberg': 29, ...})),\n",
       "                ('TfidfTransformer', TfidfTransformer()),\n",
       "                ('LogisticRegression',\n",
       "                 LogisticRegression(C=10.0, max_iter=500, penalty='l1',\n",
       "                                    random_state=12345, solver='liblinear'))])"
      ]
     },
     "execution_count": 54,
     "metadata": {},
     "output_type": "execute_result"
    },
    {
     "data": {
      "application/javascript": [
       "$(document).ready(\n",
       "    function() {\n",
       "        function appendUniqueDiv(){\n",
       "            // append a div with our uuid so we can check that it's already\n",
       "            // been sent and avoid duplicates on page reload\n",
       "            var notifiedDiv = document.createElement(\"div\")\n",
       "            notifiedDiv.id = \"ef72a719-b185-4969-9e36-a2d65da72087\"\n",
       "            element.append(notifiedDiv)\n",
       "        }\n",
       "\n",
       "        // only send notifications if the pageload is complete; this will\n",
       "        // help stop extra notifications when a saved notebook is loaded,\n",
       "        // which during testing gives us state \"interactive\", not \"complete\"\n",
       "        if (document.readyState === 'complete') {\n",
       "            // check for the div that signifies that the notification\n",
       "            // was already sent\n",
       "            if (document.getElementById(\"ef72a719-b185-4969-9e36-a2d65da72087\") === null) {\n",
       "                var notificationPayload = {\"requireInteraction\": false, \"icon\": \"/static/base/images/favicon.ico\", \"body\": \"BEST_MODEL_TRAINED\"};\n",
       "                if (Notification.permission !== 'denied') {\n",
       "                    if (Notification.permission !== 'granted') { \n",
       "                        Notification.requestPermission(function (permission) {\n",
       "                            if(!('permission' in Notification)) {\n",
       "                                Notification.permission = permission\n",
       "                            }\n",
       "                        })\n",
       "                    }\n",
       "                    if (Notification.permission === 'granted') {\n",
       "                    var notification = new Notification(\"Jupyter Notebook\", notificationPayload)\n",
       "                    appendUniqueDiv()\n",
       "                    notification.onclick = function () {\n",
       "                        window.focus();\n",
       "                        this.close();\n",
       "                        };\n",
       "                    } \n",
       "                }     \n",
       "            }\n",
       "        }\n",
       "    }\n",
       ")\n"
      ],
      "text/plain": [
       "<IPython.core.display.Javascript object>"
      ]
     },
     "metadata": {},
     "output_type": "display_data"
    }
   ],
   "source": [
    "%%notify -m 'BEST_MODEL_TRAINED'\n",
    "%%time\n",
    "\n",
    "# Обучим модель на обучающей выборке\n",
    "pipe_lr.fit(corpus_train, target_train)"
   ]
  },
  {
   "cell_type": "markdown",
   "id": "d9219428",
   "metadata": {},
   "source": [
    "### Предсказание модели"
   ]
  },
  {
   "cell_type": "code",
   "execution_count": 55,
   "id": "1e15ec7e",
   "metadata": {},
   "outputs": [
    {
     "name": "stdout",
     "output_type": "stream",
     "text": [
      "F1 VALID: 0.779\n",
      "Предсказание: 0.087\n",
      "CPU times: user 1.33 s, sys: 0 ns, total: 1.33 s\n",
      "Wall time: 1.33 s\n"
     ]
    },
    {
     "data": {
      "application/javascript": [
       "$(document).ready(\n",
       "    function() {\n",
       "        function appendUniqueDiv(){\n",
       "            // append a div with our uuid so we can check that it's already\n",
       "            // been sent and avoid duplicates on page reload\n",
       "            var notifiedDiv = document.createElement(\"div\")\n",
       "            notifiedDiv.id = \"dd14f0ae-e980-4f41-8b04-033d911fdb1a\"\n",
       "            element.append(notifiedDiv)\n",
       "        }\n",
       "\n",
       "        // only send notifications if the pageload is complete; this will\n",
       "        // help stop extra notifications when a saved notebook is loaded,\n",
       "        // which during testing gives us state \"interactive\", not \"complete\"\n",
       "        if (document.readyState === 'complete') {\n",
       "            // check for the div that signifies that the notification\n",
       "            // was already sent\n",
       "            if (document.getElementById(\"dd14f0ae-e980-4f41-8b04-033d911fdb1a\") === null) {\n",
       "                var notificationPayload = {\"requireInteraction\": false, \"icon\": \"/static/base/images/favicon.ico\", \"body\": \"BEST_MODEL_PREDICT\"};\n",
       "                if (Notification.permission !== 'denied') {\n",
       "                    if (Notification.permission !== 'granted') { \n",
       "                        Notification.requestPermission(function (permission) {\n",
       "                            if(!('permission' in Notification)) {\n",
       "                                Notification.permission = permission\n",
       "                            }\n",
       "                        })\n",
       "                    }\n",
       "                    if (Notification.permission === 'granted') {\n",
       "                    var notification = new Notification(\"Jupyter Notebook\", notificationPayload)\n",
       "                    appendUniqueDiv()\n",
       "                    notification.onclick = function () {\n",
       "                        window.focus();\n",
       "                        this.close();\n",
       "                        };\n",
       "                    } \n",
       "                }     \n",
       "            }\n",
       "        }\n",
       "    }\n",
       ")\n"
      ],
      "text/plain": [
       "<IPython.core.display.Javascript object>"
      ]
     },
     "metadata": {},
     "output_type": "display_data"
    }
   ],
   "source": [
    "%%notify -m 'BEST_MODEL_PREDICT'\n",
    "%%time\n",
    "\n",
    "predictions, elacorpus_test, F1_VALID = predict_model(pipe_lr, corpus_test, target_test)"
   ]
  },
  {
   "cell_type": "markdown",
   "id": "86a66feb",
   "metadata": {},
   "source": [
    "## График распределения плотности предсказанных и истинных значений"
   ]
  },
  {
   "cell_type": "code",
   "execution_count": 56,
   "id": "a07cb62e",
   "metadata": {},
   "outputs": [
    {
     "data": {
      "image/png": "[encoded data removed]",
      "text/plain": [
       "<Figure size 1000x500 with 1 Axes>"
      ]
     },
     "metadata": {},
     "output_type": "display_data"
    }
   ],
   "source": [
    "display_graph_predicted_and_target(target_test, predictions, F1_VALID, 1, 3)"
   ]
  },
  {
   "cell_type": "markdown",
   "id": "fb06e460",
   "metadata": {},
   "source": [
    "Результат оказался оптимальным, т.е. F1 = 0,779"
   ]
  },
  {
   "cell_type": "markdown",
   "id": "7e27a5c0",
   "metadata": {},
   "source": [
    "# Вывод"
   ]
  },
  {
   "cell_type": "markdown",
   "id": "dcf32057",
   "metadata": {},
   "source": [
    "Самой лучшей моделей является LogisticRegression - F1 на тестовой выборки составляет `0.779`, а скорость обучения составляет аж **8 секунды**, время предсказания - **0,087 секунда**. \n",
    "\n",
    "Вполне очень акдеватный результат, чтобы выбрать эту модель для реализации. \n",
    "\n",
    "Есть другая модель, но, к сожалению, не попал в топ, т.к. метрика F1 ниже заявленного - `0,75`."
   ]
  },
  {
   "cell_type": "markdown",
   "id": "2963fd7b",
   "metadata": {},
   "source": [
    "# Машинное обучение с BERT"
   ]
  },
  {
   "cell_type": "code",
   "execution_count": 114,
   "id": "2dbf45d6",
   "metadata": {},
   "outputs": [
    {
     "name": "stdout",
     "output_type": "stream",
     "text": [
      "Sat Apr 15 14:32:21 2023       \n",
      "+---------------------------------------------------------------------------------------+\n",
      "| NVIDIA-SMI 531.14                 Driver Version: 531.14       CUDA Version: 12.1     |\n",
      "|-----------------------------------------+----------------------+----------------------+\n",
      "| GPU  Name                      TCC/WDDM | Bus-Id        Disp.A | Volatile Uncorr. ECC |\n",
      "| Fan  Temp  Perf            Pwr:Usage/Cap|         Memory-Usage | GPU-Util  Compute M. |\n",
      "|                                         |                      |               MIG M. |\n",
      "|=========================================+======================+======================|\n",
      "|   0  NVIDIA GeForce GTX 1650 Ti    WDDM | 00000000:01:00.0  On |                  N/A |\n",
      "| N/A   36C    P8                1W /  N/A|    345MiB /  4096MiB |     23%      Default |\n",
      "|                                         |                      |                  N/A |\n",
      "+-----------------------------------------+----------------------+----------------------+\n",
      "                                                                                         \n",
      "+---------------------------------------------------------------------------------------+\n",
      "| Processes:                                                                            |\n",
      "|  GPU   GI   CI        PID   Type   Process name                            GPU Memory |\n",
      "|        ID   ID                                                             Usage      |\n",
      "|=======================================================================================|\n",
      "|    0   N/A  N/A     11248    C+G   ... Access Service\\ePowerButton_NB.exe    N/A      |\n",
      "+---------------------------------------------------------------------------------------+\n"
     ]
    }
   ],
   "source": [
    "gpu_info = !nvidia-smi\n",
    "gpu_info = '\\n'.join(gpu_info)\n",
    "if gpu_info.find('failed') >= 0:\n",
    "    print('Select the Runtime > \"Change runtime type\" menu to enable a GPU accelerator, ')\n",
    "    print('and then re-execute this cell.')\n",
    "else:\n",
    "    print(gpu_info)"
   ]
  },
  {
   "cell_type": "code",
   "execution_count": 115,
   "id": "c47cbda6",
   "metadata": {},
   "outputs": [
    {
     "name": "stdout",
     "output_type": "stream",
     "text": [
      "Using CPU\n"
     ]
    }
   ],
   "source": [
    "device = torch.device(\"cuda\" if torch.cuda.is_available() else \"cpu\")\n",
    "\n",
    "if device == torch.device('cpu'):\n",
    "    print('Using CPU')\n",
    "else:\n",
    "    n_gpu = torch.cuda.device_count()\n",
    "    print('Using {} GPUs'.format(torch.cuda.get_device_name(0)))"
   ]
  },
  {
   "cell_type": "markdown",
   "id": "a3b4b104",
   "metadata": {},
   "source": [
    "## Получение датасета"
   ]
  },
  {
   "cell_type": "code",
   "execution_count": 333,
   "id": "f95a794e",
   "metadata": {},
   "outputs": [],
   "source": [
    "# Получаем датасет\n",
    "try:\n",
    "    # С локального файла\n",
    "    try:\n",
    "        # Сразу устанавливаем время как индексы\n",
    "        df = pd.read_csv('datasets/toxic_comments.csv', index_col=[0], parse_dates=[0])\n",
    "    except:\n",
    "        df = pd.read_csv('/datasets/toxic_comments.csv', index_col=[0], parse_dates=[0])\n",
    "except:\n",
    "    print('Отсутствует датасет. Проверьте путь файла')"
   ]
  },
  {
   "cell_type": "code",
   "execution_count": 334,
   "id": "ba9d76f4",
   "metadata": {},
   "outputs": [],
   "source": [
    "df_bert = df.copy()"
   ]
  },
  {
   "cell_type": "code",
   "execution_count": 335,
   "id": "c593927a",
   "metadata": {
    "scrolled": false
   },
   "outputs": [
    {
     "data": {
      "text/html": [
       "<div>\n",
       "<style scoped>\n",
       "    .dataframe tbody tr th:only-of-type {\n",
       "        vertical-align: middle;\n",
       "    }\n",
       "\n",
       "    .dataframe tbody tr th {\n",
       "        vertical-align: top;\n",
       "    }\n",
       "\n",
       "    .dataframe thead th {\n",
       "        text-align: right;\n",
       "    }\n",
       "</style>\n",
       "<table border=\"1\" class=\"dataframe\">\n",
       "  <thead>\n",
       "    <tr style=\"text-align: right;\">\n",
       "      <th></th>\n",
       "      <th>text</th>\n",
       "      <th>toxic</th>\n",
       "    </tr>\n",
       "  </thead>\n",
       "  <tbody>\n",
       "    <tr>\n",
       "      <th>0</th>\n",
       "      <td>Explanation\\nWhy the edits made under my usern...</td>\n",
       "      <td>0</td>\n",
       "    </tr>\n",
       "    <tr>\n",
       "      <th>1</th>\n",
       "      <td>D'aww! He matches this background colour I'm s...</td>\n",
       "      <td>0</td>\n",
       "    </tr>\n",
       "    <tr>\n",
       "      <th>2</th>\n",
       "      <td>Hey man, I'm really not trying to edit war. It...</td>\n",
       "      <td>0</td>\n",
       "    </tr>\n",
       "    <tr>\n",
       "      <th>3</th>\n",
       "      <td>\"\\nMore\\nI can't make any real suggestions on ...</td>\n",
       "      <td>0</td>\n",
       "    </tr>\n",
       "    <tr>\n",
       "      <th>4</th>\n",
       "      <td>You, sir, are my hero. Any chance you remember...</td>\n",
       "      <td>0</td>\n",
       "    </tr>\n",
       "  </tbody>\n",
       "</table>\n",
       "</div>"
      ],
      "text/plain": [
       "                                                text  toxic\n",
       "0  Explanation\\nWhy the edits made under my usern...      0\n",
       "1  D'aww! He matches this background colour I'm s...      0\n",
       "2  Hey man, I'm really not trying to edit war. It...      0\n",
       "3  \"\\nMore\\nI can't make any real suggestions on ...      0\n",
       "4  You, sir, are my hero. Any chance you remember...      0"
      ]
     },
     "metadata": {},
     "output_type": "display_data"
    },
    {
     "data": {
      "text/html": [
       "<div>\n",
       "<style scoped>\n",
       "    .dataframe tbody tr th:only-of-type {\n",
       "        vertical-align: middle;\n",
       "    }\n",
       "\n",
       "    .dataframe tbody tr th {\n",
       "        vertical-align: top;\n",
       "    }\n",
       "\n",
       "    .dataframe thead th {\n",
       "        text-align: right;\n",
       "    }\n",
       "</style>\n",
       "<table border=\"1\" class=\"dataframe\">\n",
       "  <thead>\n",
       "    <tr style=\"text-align: right;\">\n",
       "      <th></th>\n",
       "      <th>text</th>\n",
       "      <th>toxic</th>\n",
       "    </tr>\n",
       "  </thead>\n",
       "  <tbody>\n",
       "    <tr>\n",
       "      <th>159446</th>\n",
       "      <td>\":::::And for the second time of asking, when ...</td>\n",
       "      <td>0</td>\n",
       "    </tr>\n",
       "    <tr>\n",
       "      <th>159447</th>\n",
       "      <td>You should be ashamed of yourself \\n\\nThat is ...</td>\n",
       "      <td>0</td>\n",
       "    </tr>\n",
       "    <tr>\n",
       "      <th>159448</th>\n",
       "      <td>Spitzer \\n\\nUmm, theres no actual article for ...</td>\n",
       "      <td>0</td>\n",
       "    </tr>\n",
       "    <tr>\n",
       "      <th>159449</th>\n",
       "      <td>And it looks like it was actually you who put ...</td>\n",
       "      <td>0</td>\n",
       "    </tr>\n",
       "    <tr>\n",
       "      <th>159450</th>\n",
       "      <td>\"\\nAnd ... I really don't think you understand...</td>\n",
       "      <td>0</td>\n",
       "    </tr>\n",
       "  </tbody>\n",
       "</table>\n",
       "</div>"
      ],
      "text/plain": [
       "                                                     text  toxic\n",
       "159446  \":::::And for the second time of asking, when ...      0\n",
       "159447  You should be ashamed of yourself \\n\\nThat is ...      0\n",
       "159448  Spitzer \\n\\nUmm, theres no actual article for ...      0\n",
       "159449  And it looks like it was actually you who put ...      0\n",
       "159450  \"\\nAnd ... I really don't think you understand...      0"
      ]
     },
     "metadata": {},
     "output_type": "display_data"
    }
   ],
   "source": [
    "display(df_bert.head(), df_bert.tail())"
   ]
  },
  {
   "cell_type": "markdown",
   "id": "3b750aa2",
   "metadata": {},
   "source": [
    "## Предобработка данных\n",
    "\n",
    "Мы начнем с определения нескольких ключевых переменных, которые будут использоваться позже на этапе обучения/тонкой настройки. \n",
    "\n",
    "Затем создадим класс CustomDataset, который определяет, как текст предварительно обрабатывается перед отправкой в нейронную сеть. \n",
    "\n",
    "Также определим загрузчик данных, который будет пакетами передавать данные в нейронную сеть для подходящего обучения и обработки. \n",
    "\n",
    "Dataset и Dataloader - это конструкции библиотеки PyTorch для определения и управления предварительной обработкой данных и их передачей в нейронную сеть. \n",
    "\n",
    "Для дальнейшего ознакомления с Dataset и Dataloader нам следует ознакомиться с документами на [PyTorch](https://pytorch.org/docs/stable/data.html)"
   ]
  },
  {
   "cell_type": "markdown",
   "id": "f3026f1c",
   "metadata": {},
   "source": [
    "### *CustomDataset* Dataset Class\n",
    "- Этот класс определен для приема `tokenizer`, `dataframe` и `max_length` в качестве входных данных и генерации токенизированных выходных данных и тегов, которые используются моделью BERT для обучения.\n",
    "- Мы используем токенизатор BERT для токенизации данных в столбце `comment_text` фрейма данных.\n",
    "- Токенизатор использует метод `encode_plus` для выполнения токенизации и генерации необходимых выходных данных, а именно: `ids`, `attention_mask`, `token_type_ids`\n",
    "---\n",
    "- *Это первое различие между distilbert и bert, где токенизатор генерирует token_type_ids в случае Bert*\n",
    "---\n",
    "- Чтобы подробнее ознакомиться с токенизатором, [обратитесь к этому документу](https://huggingface.co/transformers/model_doc/bert.html#berttokenizer )\n",
    "- \"targest\" - это список категорий, помеченных как \"0\" или \"1\" во фрейме данных.\n",
    "- Класс *CustomDataset* используется для создания 2 наборов данных, для обучения и для проверки.\n",
    "- *Обучающий набор данных * используется для точной настройки модели: **80% исходных данных**\n",
    "- *Набор данных для проверки* используется для оценки производительности модели. Модель не видела этих данных во время обучения.\n",
    "\n",
    "### Dataloader\n",
    "- Dataloader используется для создания обучающего и валидационного загрузчика данных, который загружает данные в нейронную сеть определенным образом. Это необходимо, потому что все данные из набора данных не могут быть загружены в память сразу, следовательно, необходимо контролировать объем данных, загружаемых в память и затем передаваемых в нейронную сеть.\n",
    "- Это управление достигается с помощью таких параметров, как `batch_size` и `max_len`.\n",
    "- Загрузчики данных обучения и валидации используются в части обучения и валидации потока соответственно"
   ]
  },
  {
   "cell_type": "code",
   "execution_count": 342,
   "id": "ea1aa732",
   "metadata": {},
   "outputs": [],
   "source": [
    "# Разделы конфигурации\n",
    "\n",
    "# Определение некоторых ключевых переменных, которые будут использоваться позже в ходе обучения\n",
    "MAX_LEN = 200\n",
    "TRAIN_BATCH_SIZE = 8\n",
    "VALID_BATCH_SIZE = 4\n",
    "EPOCHS = 2\n",
    "LEARNING_RATE = 1e-05\n",
    "tokenizer = BertTokenizer.from_pretrained('bert-base-uncased')"
   ]
  },
  {
   "cell_type": "code",
   "execution_count": 343,
   "id": "dcf6fab2",
   "metadata": {},
   "outputs": [],
   "source": [
    "class CustomDataset(Dataset):\n",
    "\n",
    "    def __init__(self, dataframe, tokenizer, max_len):\n",
    "        self.tokenizer = tokenizer\n",
    "        self.data = dataframe\n",
    "        self.text = dataframe.text\n",
    "        self.targets = self.data.toxic\n",
    "        self.max_len = max_len\n",
    "\n",
    "    def __len__(self):\n",
    "        return len(self.text)\n",
    "\n",
    "    def __getitem__(self, index):\n",
    "        text = str(self.text[index])\n",
    "        text = \" \".join(text.split())\n",
    "\n",
    "        inputs = self.tokenizer.encode_plus(\n",
    "            text,\n",
    "            None,\n",
    "            add_special_tokens=True,\n",
    "            max_length=self.max_len,\n",
    "            pad_to_max_length=True,\n",
    "            return_token_type_ids=True\n",
    "        )\n",
    "        ids = inputs['input_ids']\n",
    "        mask = inputs['attention_mask']\n",
    "        token_type_ids = inputs[\"token_type_ids\"]\n",
    "\n",
    "\n",
    "        return {\n",
    "            'ids': torch.tensor(ids, dtype=torch.long),\n",
    "            'mask': torch.tensor(mask, dtype=torch.long),\n",
    "            'token_type_ids': torch.tensor(token_type_ids, dtype=torch.long),\n",
    "            'targets': torch.tensor(self.targets[index], dtype=torch.float)\n",
    "        }"
   ]
  },
  {
   "cell_type": "markdown",
   "id": "2cd8400b",
   "metadata": {},
   "source": [
    "##  Деление на обучающей и тестовой выборки"
   ]
  },
  {
   "cell_type": "code",
   "execution_count": 344,
   "id": "14cac6c7",
   "metadata": {},
   "outputs": [],
   "source": [
    "train_size = 0.8\n",
    "\n",
    "train_dataset=df_bert.sample(frac=train_size,random_state=200)\n",
    "test_dataset=df_bert.drop(train_dataset.index).reset_index(drop=True)\n",
    "train_dataset = train_dataset.reset_index(drop=True)"
   ]
  },
  {
   "cell_type": "code",
   "execution_count": 345,
   "id": "2d6ed486",
   "metadata": {},
   "outputs": [
    {
     "name": "stdout",
     "output_type": "stream",
     "text": [
      "Объем полного датасета: (159292, 2)\n",
      "Размер обучающей выборки: (127434, 2)\n",
      "Размер тестовой выборки: (31858, 2)\n"
     ]
    }
   ],
   "source": [
    "print(f\"Объем полного датасета: {df_bert.shape}\")\n",
    "print(f\"Размер обучающей выборки: {train_dataset.shape}\")\n",
    "print(f\"Размер тестовой выборки: {test_dataset.shape}\")"
   ]
  },
  {
   "cell_type": "code",
   "execution_count": 346,
   "id": "607cb4ac",
   "metadata": {},
   "outputs": [],
   "source": [
    "training_set = CustomDataset(train_dataset, tokenizer, MAX_LEN)\n",
    "testing_set = CustomDataset(test_dataset, tokenizer, MAX_LEN)"
   ]
  },
  {
   "cell_type": "code",
   "execution_count": 347,
   "id": "b4eb3c62",
   "metadata": {},
   "outputs": [],
   "source": [
    "# Устанавливаем параметры\n",
    "train_params = {\n",
    "    'batch_size': TRAIN_BATCH_SIZE,\n",
    "    'shuffle': True,\n",
    "    'num_workers': 0\n",
    "}\n",
    "\n",
    "test_params = {\n",
    "    'batch_size': VALID_BATCH_SIZE,\n",
    "    'shuffle': True,\n",
    "    'num_workers': 0\n",
    "}"
   ]
  },
  {
   "cell_type": "code",
   "execution_count": 348,
   "id": "0dce7ee1",
   "metadata": {},
   "outputs": [],
   "source": [
    "training_loader = DataLoader(training_set, **train_params)\n",
    "testing_loader = DataLoader(testing_set, **test_params)"
   ]
  },
  {
   "cell_type": "markdown",
   "id": "dc33bbc7",
   "metadata": {},
   "source": [
    "## Создание нейронной сети для тонкой настройки"
   ]
  },
  {
   "cell_type": "markdown",
   "id": "4dc49a33",
   "metadata": {},
   "source": [
    "### Нейронная сеть\n",
    "- Мы будем создавать нейронную сеть с `BERTClass`.\n",
    "- У этой сети будет `Bert` модель. Далее следуют `Droput` и `Linear Layer`. Они добавлены с целью **Упорядочивания** и **Regulariaztion** соответственно.\n",
    "- В прямом цикле есть 2 выходных данных из слоя `Bert Model`.\n",
    "- Второй вывод `output_1` или называемый `объединенным выводом` передается в `Drop Out layer`, а последующий вывод передается в `Linear layer`.\n",
    "- Обратите внимание, что количество измерений для \"линейного слоя\" равно **6** потому что это общее количество категорий, по которым мы хотим классифицировать нашу модель.\n",
    "- Данные будут переданы в `BertClass`, как определено в наборе данных.\n",
    "- Выходные данные конечного уровня - это то, что будет использоваться для расчета потерь и определения точности прогнозирования моделей.\n",
    "- Мы инициируем экземпляр сети под названием `model`. Этот экземпляр будет использоваться для обучения, а затем для сохранения окончательной обученной модели для последующего вывода.\n",
    " \n",
    "### Функция потерь и оптимизатор\n",
    "- Потеря определяется в следующей ячейке как `loss_fn`.\n",
    "- Как определено выше, используемая функция потерь будет представлять собой комбинацию двоичной перекрестной энтропии, которая реализована как [BCELogits Loss](https://pytorch.org/docs/stable/nn.html#bcewithlogitsloss ) в PyTorch\n",
    "- `Optimizer` определен в следующей ячейке.\n",
    "- `Optimizer` используется для обновления весов нейронной сети для повышения ее производительности.\n",
    " \n",
    "### Для будущее\n",
    "- Вы можете обратиться к моим [Pytorch Tutorials](https://github.com/abhimishra91/pytorch-tutorials ), чтобы получить представление о функции потерь и оптимизаторе.\n",
    "- [Документация Pytorch для функции потерь](https://pytorch.org/docs/stable/nn.html#loss-functions )\n",
    "- [Документация Pytorch для оптимизатора](https://pytorch.org/docs/stable/optim.html )\n",
    "- Обратитесь к ссылкам, приведенным в верхней части блокнота, чтобы узнать больше о `BertModel`. "
   ]
  },
  {
   "cell_type": "code",
   "execution_count": 354,
   "id": "7a0bac8f",
   "metadata": {
    "scrolled": true
   },
   "outputs": [
    {
     "name": "stderr",
     "output_type": "stream",
     "text": [
      "Some weights of the model checkpoint at bert-base-uncased were not used when initializing BertModel: ['cls.predictions.bias', 'cls.seq_relationship.weight', 'cls.predictions.transform.LayerNorm.bias', 'cls.predictions.transform.dense.weight', 'cls.predictions.transform.LayerNorm.weight', 'cls.predictions.decoder.weight', 'cls.predictions.transform.dense.bias', 'cls.seq_relationship.bias']\n",
      "- This IS expected if you are initializing BertModel from the checkpoint of a model trained on another task or with another architecture (e.g. initializing a BertForSequenceClassification model from a BertForPreTraining model).\n",
      "- This IS NOT expected if you are initializing BertModel from the checkpoint of a model that you expect to be exactly identical (initializing a BertForSequenceClassification model from a BertForSequenceClassification model).\n"
     ]
    },
    {
     "data": {
      "text/plain": [
       "BERTClass(\n",
       "  (l1): BertModel(\n",
       "    (embeddings): BertEmbeddings(\n",
       "      (word_embeddings): Embedding(30522, 768, padding_idx=0)\n",
       "      (position_embeddings): Embedding(512, 768)\n",
       "      (token_type_embeddings): Embedding(2, 768)\n",
       "      (LayerNorm): LayerNorm((768,), eps=1e-12, elementwise_affine=True)\n",
       "      (dropout): Dropout(p=0.1, inplace=False)\n",
       "    )\n",
       "    (encoder): BertEncoder(\n",
       "      (layer): ModuleList(\n",
       "        (0-11): 12 x BertLayer(\n",
       "          (attention): BertAttention(\n",
       "            (self): BertSelfAttention(\n",
       "              (query): Linear(in_features=768, out_features=768, bias=True)\n",
       "              (key): Linear(in_features=768, out_features=768, bias=True)\n",
       "              (value): Linear(in_features=768, out_features=768, bias=True)\n",
       "              (dropout): Dropout(p=0.1, inplace=False)\n",
       "            )\n",
       "            (output): BertSelfOutput(\n",
       "              (dense): Linear(in_features=768, out_features=768, bias=True)\n",
       "              (LayerNorm): LayerNorm((768,), eps=1e-12, elementwise_affine=True)\n",
       "              (dropout): Dropout(p=0.1, inplace=False)\n",
       "            )\n",
       "          )\n",
       "          (intermediate): BertIntermediate(\n",
       "            (dense): Linear(in_features=768, out_features=3072, bias=True)\n",
       "            (intermediate_act_fn): GELUActivation()\n",
       "          )\n",
       "          (output): BertOutput(\n",
       "            (dense): Linear(in_features=3072, out_features=768, bias=True)\n",
       "            (LayerNorm): LayerNorm((768,), eps=1e-12, elementwise_affine=True)\n",
       "            (dropout): Dropout(p=0.1, inplace=False)\n",
       "          )\n",
       "        )\n",
       "      )\n",
       "    )\n",
       "    (pooler): BertPooler(\n",
       "      (dense): Linear(in_features=768, out_features=768, bias=True)\n",
       "      (activation): Tanh()\n",
       "    )\n",
       "  )\n",
       "  (l2): Dropout(p=0.3, inplace=False)\n",
       "  (l3): Linear(in_features=768, out_features=1, bias=True)\n",
       ")"
      ]
     },
     "execution_count": 354,
     "metadata": {},
     "output_type": "execute_result"
    }
   ],
   "source": [
    "# Создаем индивидуальную модель, добавляя отсев и плотный слой поверх distil bert, чтобы получить конечный результат для модели\n",
    "class BERTClass(torch.nn.Module):\n",
    "    def __init__(self):\n",
    "        super(BERTClass, self).__init__()\n",
    "        self.l1 = transformers.BertModel.from_pretrained('bert-base-uncased', return_dict=False)\n",
    "        self.l2 = torch.nn.Dropout(0.3)\n",
    "        self.l3 = torch.nn.Linear(768, 1)\n",
    "    \n",
    "    def forward(self, ids, mask, token_type_ids):\n",
    "        _, output_1= self.l1(ids, attention_mask = mask, token_type_ids = token_type_ids)\n",
    "        output_2 = self.l2(output_1)\n",
    "        output = self.l3(output_2)\n",
    "        return output\n",
    "\n",
    "model = BERTClass()\n",
    "model.to(device)"
   ]
  },
  {
   "cell_type": "code",
   "execution_count": 355,
   "id": "25790e51",
   "metadata": {},
   "outputs": [],
   "source": [
    "# Функция потери\n",
    "def loss_fn(outputs, targets):\n",
    "    return torch.nn.BCEWithLogitsLoss()(outputs, targets)"
   ]
  },
  {
   "cell_type": "code",
   "execution_count": 356,
   "id": "ffffbf1f",
   "metadata": {},
   "outputs": [],
   "source": [
    "optimizer = torch.optim.Adam(params =  model.parameters(), lr=LEARNING_RATE)"
   ]
  },
  {
   "cell_type": "markdown",
   "id": "c7e34d2e",
   "metadata": {},
   "source": [
    "### Точная настройка модели\n",
    "\n",
    "После всех усилий по загрузке и подготовке данных и наборов данных, созданию модели и определению ее потерь и оптимизатора. Вероятно, это самый простой шаг в процессе.\n",
    "\n",
    "Здесь мы определяем обучающую функцию, которая обучает модель на основе обучающего набора данных, созданного выше, заданное количество раз (ЭПОХА), эпоха определяет, сколько раз полные данные будут передаваться по сети.\n",
    "\n",
    "Для точной настройки нейронной сети в этой функции происходят следующие события:\n",
    "- Загрузчик данных передает данные в модель в зависимости от размера пакета.\n",
    "- Последующие выходные данные модели и фактическая категория сравниваются для расчета потерь.\n",
    "- Значение потерь используется для оптимизации весов нейронов в сети.\n",
    "- После каждых 5000 шагов в консоли выводится значение потерь.\n",
    "\n",
    "Как вы можете видеть, всего за 1 эпоху на последнем шаге модель работала с незначительными потерями в 0,022, т.е. выходной сигнал сети чрезвычайно близок к фактическому выходному сигналу."
   ]
  },
  {
   "cell_type": "code",
   "execution_count": 365,
   "id": "8e0744b8",
   "metadata": {
    "scrolled": false
   },
   "outputs": [],
   "source": [
    "def train(epoch):\n",
    "    model.train()\n",
    "    for _,data in enumerate(training_loader, 0):\n",
    "        ids = data['ids'].to(device, dtype = torch.long)\n",
    "        mask = data['mask'].to(device, dtype = torch.long)\n",
    "        token_type_ids = data['token_type_ids'].to(device, dtype = torch.long)\n",
    "        targets = data['targets'].to(device, dtype = torch.float)\n",
    "\n",
    "        outputs = model(ids, mask, token_type_ids)\n",
    "        \n",
    "        optimizer.zero_grad()\n",
    "        loss = loss_fn(outputs, targets)\n",
    "        if _%5000==0:\n",
    "            print(f'Epoch: {epoch}, Loss:  {loss.item()}')\n",
    "        \n",
    "        optimizer.zero_grad()\n",
    "        loss.backward()\n",
    "        optimizer.step()"
   ]
  },
  {
   "cell_type": "markdown",
   "id": "05796e90",
   "metadata": {},
   "source": [
    "## Обучение"
   ]
  },
  {
   "cell_type": "code",
   "execution_count": 160,
   "id": "c7f90d4e",
   "metadata": {
    "execution": {
     "iopub.execute_input": "2023-04-16T21:20:13.289998Z",
     "iopub.status.busy": "2023-04-16T21:20:13.289550Z",
     "iopub.status.idle": "2023-04-16T23:55:52.854918Z",
     "shell.execute_reply": "2023-04-16T23:55:52.853791Z",
     "shell.execute_reply.started": "2023-04-16T21:20:13.289956Z"
    }
   },
   "outputs": [
    {
     "name": "stderr",
     "output_type": "stream",
     "text": [
      "Truncation was not explicitly activated but `max_length` is provided a specific value, please use `truncation=True` to explicitly truncate examples to max length. Defaulting to 'longest_first' truncation strategy. If you encode pairs of sequences (GLUE-style) with the tokenizer you can select this strategy more precisely by providing a specific strategy to `truncation`.\n",
      "/opt/conda/lib/python3.7/site-packages/transformers/tokenization_utils_base.py:2352: FutureWarning: The `pad_to_max_length` argument is deprecated and will be removed in a future version, use `padding=True` or `padding='longest'` to pad to the longest sequence in the batch, or use `padding='max_length'` to pad to a max length. In this case, you can give a specific length with `max_length` (e.g. `max_length=45`) or leave max_length to None to pad to the maximal input size of the model (e.g. 512 for Bert).\n",
      "  FutureWarning,\n"
     ]
    },
    {
     "name": "stdout",
     "output_type": "stream",
     "text": [
      "Epoch: 0, Loss:  0.733110785484314\n",
      "Epoch: 0, Loss:  0.39082932472229004\n",
      "Epoch: 0, Loss:  0.005783333443105221\n",
      "Epoch: 0, Loss:  0.09499093890190125\n",
      "Epoch: 1, Loss:  0.01712093874812126\n",
      "Epoch: 1, Loss:  0.00039071450009942055\n",
      "Epoch: 1, Loss:  0.322614461183548\n",
      "Epoch: 1, Loss:  0.02024523913860321\n",
      "CPU times: user 1h 41min 16s, sys: 53min 13s, total: 2h 34min 29s\n",
      "Wall time: 2h 35min 39s\n"
     ]
    },
    {
     "data": {
      "application/javascript": [
       "$(document).ready(\n",
       "    function() {\n",
       "        function appendUniqueDiv(){\n",
       "            // append a div with our uuid so we can check that it's already\n",
       "            // been sent and avoid duplicates on page reload\n",
       "            var notifiedDiv = document.createElement(\"div\")\n",
       "            notifiedDiv.id = \"2f837bc6-0599-4596-96f7-75dc631a3bc8\"\n",
       "            element.append(notifiedDiv)\n",
       "        }\n",
       "\n",
       "        // only send notifications if the pageload is complete; this will\n",
       "        // help stop extra notifications when a saved notebook is loaded,\n",
       "        // which during testing gives us state \"interactive\", not \"complete\"\n",
       "        if (document.readyState === 'complete') {\n",
       "            // check for the div that signifies that the notification\n",
       "            // was already sent\n",
       "            if (document.getElementById(\"2f837bc6-0599-4596-96f7-75dc631a3bc8\") === null) {\n",
       "                var notificationPayload = {\"requireInteraction\": false, \"icon\": \"/static/base/images/favicon.ico\", \"body\": \"BERT\"};\n",
       "                if (Notification.permission !== 'denied') {\n",
       "                    if (Notification.permission !== 'granted') { \n",
       "                        Notification.requestPermission(function (permission) {\n",
       "                            if(!('permission' in Notification)) {\n",
       "                                Notification.permission = permission\n",
       "                            }\n",
       "                        })\n",
       "                    }\n",
       "                    if (Notification.permission === 'granted') {\n",
       "                    var notification = new Notification(\"Jupyter Notebook\", notificationPayload)\n",
       "                    appendUniqueDiv()\n",
       "                    notification.onclick = function () {\n",
       "                        window.focus();\n",
       "                        this.close();\n",
       "                        };\n",
       "                    } \n",
       "                }     \n",
       "            }\n",
       "        }\n",
       "    }\n",
       ")\n"
      ],
      "text/plain": [
       "<IPython.core.display.Javascript object>"
      ]
     },
     "metadata": {},
     "output_type": "display_data"
    }
   ],
   "source": [
    "%%notify -m 'BERT'\n",
    "%%time\n",
    "\n",
    "for epoch in range(EPOCHS):\n",
    "    train(epoch)"
   ]
  },
  {
   "cell_type": "markdown",
   "id": "db6c2890",
   "metadata": {},
   "source": [
    "## Проверим на F1-метрику\n",
    "\n",
    "На этапе проверки мы передаем невидимые данные (тестовый набор данных) в модель. Этот шаг определяет, насколько хорошо модель работает с невидимыми данными.\n",
    "\n",
    "Эти невидимые данные составляют 20% от `train.csv`, которые были отделены на этапе создания набора данных.\n",
    "На этапе проверки веса модели не обновляются. Только конечный результат сравнивается с фактическим значением. Это сравнение затем используется для расчета точности модели.\n",
    "\n",
    "Как определено выше, чтобы получить оценку производительности наших моделей, мы используем следующие показатели.\n",
    "- Accuracy Score\n",
    "- F1-score\n",
    "- F1-score MACRO\n",
    "- F1-score MICRO\n",
    "\n",
    "Мы получаем потрясающие результаты по всем этим 3 категориям, просто обучая модель в течение 1 эпохи."
   ]
  },
  {
   "cell_type": "code",
   "execution_count": null,
   "id": "5b7aefbd",
   "metadata": {},
   "outputs": [],
   "source": [
    "def validation(epoch):\n",
    "    model.eval()\n",
    "    fin_targets=[]\n",
    "    fin_outputs=[]\n",
    "    with torch.no_grad():\n",
    "        for _, data in enumerate(testing_loader, 0):\n",
    "            ids = data['ids'].to(device, dtype = torch.long)\n",
    "            mask = data['mask'].to(device, dtype = torch.long)\n",
    "            token_type_ids = data['token_type_ids'].to(device, dtype = torch.long)\n",
    "            targets = data['targets'].to(device, dtype = torch.float)\n",
    "            outputs = model(ids, mask, token_type_ids)\n",
    "            fin_targets.extend(targets.cpu().detach().numpy().tolist())\n",
    "            fin_outputs.extend(torch.sigmoid(outputs).cpu().detach().numpy().tolist())\n",
    "    return fin_outputs, fin_targets"
   ]
  },
  {
   "cell_type": "code",
   "execution_count": 160,
   "id": "a7c2f8b3",
   "metadata": {
    "execution": {
     "iopub.execute_input": "2023-04-16T21:20:13.289998Z",
     "iopub.status.busy": "2023-04-16T21:20:13.289550Z",
     "iopub.status.idle": "2023-04-16T23:55:52.854918Z",
     "shell.execute_reply": "2023-04-16T23:55:52.853791Z",
     "shell.execute_reply.started": "2023-04-16T21:20:13.289956Z"
    }
   },
   "outputs": [
    {
     "name": "stderr",
     "output_type": "stream",
     "text": [
      "Truncation was not explicitly activated but `max_length` is provided a specific value, please use `truncation=True` to explicitly truncate examples to max length. Defaulting to 'longest_first' truncation strategy. If you encode pairs of sequences (GLUE-style) with the tokenizer you can select this strategy more precisely by providing a specific strategy to `truncation`.\n",
      "/opt/conda/lib/python3.7/site-packages/transformers/tokenization_utils_base.py:2352: FutureWarning: The `pad_to_max_length` argument is deprecated and will be removed in a future version, use `padding=True` or `padding='longest'` to pad to the longest sequence in the batch, or use `padding='max_length'` to pad to a max length. In this case, you can give a specific length with `max_length` (e.g. `max_length=45`) or leave max_length to None to pad to the maximal input size of the model (e.g. 512 for Bert).\n",
      "  FutureWarning,\n"
     ]
    },
    {
     "name": "stdout",
     "output_type": "stream",
     "text": [
      "Accuracy Score = 0.9693954422750958\n",
      "F1 Score = 0.8411275867687795\n",
      "F1 Score (Micro) = 0.9693954422750958\n",
      "F1 Score (Macro) = 0.9120971649260977\n",
      "Accuracy Score = 0.9693954422750958\n",
      "F1 Score = 0.8411275867687795\n",
      "F1 Score (Micro) = 0.9693954422750958\n",
      "F1 Score (Macro) = 0.9120971649260977\n",
      "CPU times: user 14min 20s, sys: 1.26 s, total: 14min 21s\n",
      "Wall time: 14min 24s\n"
     ]
    },
    {
     "data": {
      "application/javascript": [
       "$(document).ready(\n",
       "    function() {\n",
       "        function appendUniqueDiv(){\n",
       "            // append a div with our uuid so we can check that it's already\n",
       "            // been sent and avoid duplicates on page reload\n",
       "            var notifiedDiv = document.createElement(\"div\")\n",
       "            notifiedDiv.id = \"2f837bc6-0599-4596-96f7-75dc631a3bc8\"\n",
       "            element.append(notifiedDiv)\n",
       "        }\n",
       "\n",
       "        // only send notifications if the pageload is complete; this will\n",
       "        // help stop extra notifications when a saved notebook is loaded,\n",
       "        // which during testing gives us state \"interactive\", not \"complete\"\n",
       "        if (document.readyState === 'complete') {\n",
       "            // check for the div that signifies that the notification\n",
       "            // was already sent\n",
       "            if (document.getElementById(\"2f837bc6-0599-4596-96f7-75dc631a3bc8\") === null) {\n",
       "                var notificationPayload = {\"requireInteraction\": false, \"icon\": \"/static/base/images/favicon.ico\", \"body\": \"BERT\"};\n",
       "                if (Notification.permission !== 'denied') {\n",
       "                    if (Notification.permission !== 'granted') { \n",
       "                        Notification.requestPermission(function (permission) {\n",
       "                            if(!('permission' in Notification)) {\n",
       "                                Notification.permission = permission\n",
       "                            }\n",
       "                        })\n",
       "                    }\n",
       "                    if (Notification.permission === 'granted') {\n",
       "                    var notification = new Notification(\"Jupyter Notebook\", notificationPayload)\n",
       "                    appendUniqueDiv()\n",
       "                    notification.onclick = function () {\n",
       "                        window.focus();\n",
       "                        this.close();\n",
       "                        };\n",
       "                    } \n",
       "                }     \n",
       "            }\n",
       "        }\n",
       "    }\n",
       ")\n"
      ],
      "text/plain": [
       "<IPython.core.display.Javascript object>"
      ]
     },
     "metadata": {},
     "output_type": "display_data"
    }
   ],
   "source": [
    "%%notify -m 'PREDCIT BERT'\n",
    "%%time\n",
    "\n",
    "for epoch in range(EPOCHS):\n",
    "    outputs, targets = validation(epoch)\n",
    "    outputs = np.array(outputs) >= 0.5\n",
    "    accuracy = metrics.accuracy_score(targets, outputs)\n",
    "    f1_score = metrics.f1_score(targets, outputs)\n",
    "    f1_score_micro = metrics.f1_score(targets, outputs, average='micro')\n",
    "    f1_score_macro = metrics.f1_score(targets, outputs, average='macro')\n",
    "    print(f\"Accuracy Score = {accuracy}\")\n",
    "    print(f\"F1 Score = {f1_score}\")\n",
    "    print(f\"F1 Score (Micro) = {f1_score_micro}\")\n",
    "    print(f\"F1 Score (Macro) = {f1_score_macro}\")"
   ]
  },
  {
   "cell_type": "markdown",
   "id": "4aa91e02",
   "metadata": {},
   "source": [
    "# Выводы"
   ]
  },
  {
   "cell_type": "markdown",
   "id": "8a2497a5",
   "metadata": {},
   "source": [
    "F1-SCORE у модели BERT с помощью библиотеки PyTorch получилось очень неплохой, аж **0,841** значений. Однако у этой модели есть основные недостатки, от которых мы избегаем: время обучения и предсказаня. Время обучения занимает аж **1,5 часа** в среднем. А время предсказания меньше **1\\4 часа**.\n",
    "\n",
    "Если нам поставлена задача создать модель, которая дает высокие результаты, тогда нам следует применять глубокие обучения, в противном случае можно применять легкие модели и быстро получить результаты для предварительного прогнозирования."
   ]
  }
 ],
 "metadata": {
  "kernelspec": {
   "display_name": "Python 3 (ipykernel)",
   "language": "python",
   "name": "python3"
  },
  "language_info": {
   "codemirror_mode": {
    "name": "ipython",
    "version": 3
   },
   "file_extension": ".py",
   "mimetype": "text/x-python",
   "name": "python",
   "nbconvert_exporter": "python",
   "pygments_lexer": "ipython3",
   "version": "3.9.16"
  },
  "toc": {
   "base_numbering": 1,
   "nav_menu": {},
   "number_sections": true,
   "sideBar": true,
   "skip_h1_title": false,
   "title_cell": "Содержание",
   "title_sidebar": "Contents",
   "toc_cell": true,
   "toc_position": {
    "height": "calc(100% - 180px)",
    "left": "10px",
    "top": "150px",
    "width": "374.375px"
   },
   "toc_section_display": true,
   "toc_window_display": true
  }
 },
 "nbformat": 4,
 "nbformat_minor": 5
}
