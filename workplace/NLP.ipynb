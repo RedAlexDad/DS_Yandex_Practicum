{
 "cells": [
  {
   "cell_type": "markdown",
   "id": "dde69e74-13d6-4c7c-94b7-09d9be461c50",
   "metadata": {},
   "source": [
    "Полезные ссылки\n",
    "* https://habr.com/ru/post/446530/ - w2v в картинках\n",
    "* https://jalammar.github.io/ - оригинал статей про архитектуры для NLP (часто там есть ссылки на перевод)\n",
    "* https://huggingface.co/ - ссылка на библиотеку с большим количеством предобученных текстовых моделей\n",
    "* https://stepik.org/course/111171/syllabus - отличный курс на русском про NLP\n",
    "* https://web.stanford.edu/class/cs224n/ - один из самых полных и популярных в мире курсов по NLP (там есть ссылки на все лекции и домашки)"
   ]
  },
  {
   "cell_type": "code",
   "execution_count": 45,
   "id": "d27615f1-0aed-4399-9468-a75cf19ae7f2",
   "metadata": {},
   "outputs": [],
   "source": [
    "from sklearn.datasets import fetch_20newsgroups\n",
    "from sklearn.feature_extraction.text import CountVectorizer, TfidfVectorizer\n",
    "from sklearn.linear_model import LogisticRegression\n",
    "from sklearn.metrics import classification_report\n",
    "import numpy as np\n",
    "from gensim.models import Word2Vec\n",
    "import gensim.downloader as api"
   ]
  },
  {
   "cell_type": "code",
   "execution_count": 46,
   "id": "09560a5f-cb73-4947-95b6-cdd8bff72c41",
   "metadata": {},
   "outputs": [],
   "source": [
    "train = fetch_20newsgroups(subset=\"train\")\n",
    "test = fetch_20newsgroups(subset=\"test\")"
   ]
  },
  {
   "cell_type": "code",
   "execution_count": 47,
   "id": "05113222-d0eb-4067-8a72-ca925306e0e1",
   "metadata": {},
   "outputs": [
    {
     "data": {
      "text/plain": [
       "20"
      ]
     },
     "execution_count": 47,
     "metadata": {},
     "output_type": "execute_result"
    }
   ],
   "source": [
    "len(train.target_names)"
   ]
  },
  {
   "cell_type": "code",
   "execution_count": 48,
   "id": "ddb8bfd1-0f73-4088-ac4c-1acc8fcf5d0d",
   "metadata": {},
   "outputs": [
    {
     "data": {
      "text/plain": [
       "['alt.atheism',\n",
       " 'comp.graphics',\n",
       " 'comp.os.ms-windows.misc',\n",
       " 'comp.sys.ibm.pc.hardware',\n",
       " 'comp.sys.mac.hardware',\n",
       " 'comp.windows.x',\n",
       " 'misc.forsale',\n",
       " 'rec.autos',\n",
       " 'rec.motorcycles',\n",
       " 'rec.sport.baseball',\n",
       " 'rec.sport.hockey',\n",
       " 'sci.crypt',\n",
       " 'sci.electronics',\n",
       " 'sci.med',\n",
       " 'sci.space',\n",
       " 'soc.religion.christian',\n",
       " 'talk.politics.guns',\n",
       " 'talk.politics.mideast',\n",
       " 'talk.politics.misc',\n",
       " 'talk.religion.misc']"
      ]
     },
     "execution_count": 48,
     "metadata": {},
     "output_type": "execute_result"
    }
   ],
   "source": [
    "train.target_names"
   ]
  },
  {
   "cell_type": "code",
   "execution_count": 49,
   "id": "9825e3c3-beff-4cd7-b903-b1bd4b9a8c19",
   "metadata": {},
   "outputs": [
    {
     "name": "stdout",
     "output_type": "stream",
     "text": [
      "From: lerxst@wam.umd.edu (where's my thing)\n",
      "Subject: WHAT car is this!?\n",
      "Nntp-Posting-Host: rac3.wam.umd.edu\n",
      "Organization: University of Maryland, College Park\n",
      "Lines: 15\n",
      "\n",
      " I was wondering if anyone out there could enlighten me on this car I saw\n",
      "the other day. It was a 2-door sports car, looked to be from the late 60s/\n",
      "early 70s. It was called a Bricklin. The doors were really small. In addition,\n",
      "the front bumper was separate from the rest of the body. This is \n",
      "all I know. If anyone can tellme a model name, engine specs, years\n",
      "of production, where this car is made, history, or whatever info you\n",
      "have on this funky looking car, please e-mail.\n",
      "\n",
      "Thanks,\n",
      "- IL\n",
      "   ---- brought to you by your neighborhood Lerxst ----\n",
      "\n",
      "\n",
      "\n",
      "\n",
      "\n"
     ]
    }
   ],
   "source": [
    "print(train.data[0])"
   ]
  },
  {
   "cell_type": "code",
   "execution_count": 50,
   "id": "9768e16f-cdfd-4538-a678-3c5963f0a6fa",
   "metadata": {},
   "outputs": [
    {
     "data": {
      "text/plain": [
       "array([7, 4, 4, ..., 3, 1, 8])"
      ]
     },
     "execution_count": 50,
     "metadata": {},
     "output_type": "execute_result"
    }
   ],
   "source": [
    "train.target"
   ]
  },
  {
   "cell_type": "code",
   "execution_count": 51,
   "id": "62b089a7-5ef7-4607-b43e-4ee83217e8a8",
   "metadata": {},
   "outputs": [],
   "source": [
    "vectorizerCount = CountVectorizer()"
   ]
  },
  {
   "cell_type": "code",
   "execution_count": 52,
   "id": "8c65bcca-2433-415b-8eab-c636964dfd6e",
   "metadata": {},
   "outputs": [],
   "source": [
    "x_train_count = vectorizerCount.fit_transform(train.data)"
   ]
  },
  {
   "cell_type": "code",
   "execution_count": 53,
   "id": "e8980cd3-db1a-4997-9c15-1d388b282ab3",
   "metadata": {},
   "outputs": [
    {
     "data": {
      "text/plain": [
       "<11314x130107 sparse matrix of type '<class 'numpy.int64'>'\n",
       "\twith 1787565 stored elements in Compressed Sparse Row format>"
      ]
     },
     "execution_count": 53,
     "metadata": {},
     "output_type": "execute_result"
    }
   ],
   "source": [
    "x_train_count"
   ]
  },
  {
   "cell_type": "code",
   "execution_count": 54,
   "id": "4adde91c-01b4-4c38-8231-789104d28469",
   "metadata": {},
   "outputs": [
    {
     "data": {
      "text/plain": [
       "(11314, 130107)"
      ]
     },
     "execution_count": 54,
     "metadata": {},
     "output_type": "execute_result"
    }
   ],
   "source": [
    "x_train_count.shape"
   ]
  },
  {
   "cell_type": "code",
   "execution_count": 55,
   "id": "13bec4d8-d78c-4778-9642-dc16939c745e",
   "metadata": {},
   "outputs": [],
   "source": [
    "index = np.random.randint(100000, size=10)"
   ]
  },
  {
   "cell_type": "code",
   "execution_count": 56,
   "id": "c955fb30-4297-4107-8e13-e0cb7b68b952",
   "metadata": {},
   "outputs": [
    {
     "data": {
      "text/plain": [
       "array([86760, 35324, 30963, 25417, 20615, 82641, 39206, 74619, 67325,\n",
       "       79303])"
      ]
     },
     "execution_count": 56,
     "metadata": {},
     "output_type": "execute_result"
    }
   ],
   "source": [
    "index"
   ]
  },
  {
   "cell_type": "code",
   "execution_count": 57,
   "id": "bcbfabc0-ce40-4a47-b2d6-9bf74749f76d",
   "metadata": {},
   "outputs": [
    {
     "data": {
      "text/plain": [
       "array(['netx', 'bskendigc5rbvn', 'azg6t', 'abrash', '875', 'mj75up',\n",
       "       'cheesebox', 'large', 'initiate', 'mannheim'], dtype='<U180')"
      ]
     },
     "execution_count": 57,
     "metadata": {},
     "output_type": "execute_result"
    }
   ],
   "source": [
    "np.array(vectorizerCount.get_feature_names())[index]"
   ]
  },
  {
   "cell_type": "code",
   "execution_count": 58,
   "id": "e39701ac-cf00-4bf7-bd35-ac2260a5c56c",
   "metadata": {},
   "outputs": [],
   "source": [
    "lr_count = LogisticRegression(max_iter=200, n_jobs=-1)"
   ]
  },
  {
   "cell_type": "code",
   "execution_count": 59,
   "id": "fad1834f-5627-4087-8013-0635a97d3cbb",
   "metadata": {},
   "outputs": [
    {
     "data": {
      "text/plain": [
       "LogisticRegression(max_iter=200, n_jobs=-1)"
      ]
     },
     "execution_count": 59,
     "metadata": {},
     "output_type": "execute_result"
    }
   ],
   "source": [
    "lr_count.fit(x_train_count, train.target)"
   ]
  },
  {
   "cell_type": "code",
   "execution_count": 60,
   "id": "e5aa1be3-de24-4a7f-9221-ac8305b23c47",
   "metadata": {},
   "outputs": [],
   "source": [
    "x_test_count = vectorizerCount.transform(test.data)"
   ]
  },
  {
   "cell_type": "code",
   "execution_count": 61,
   "id": "3ac37d85-2375-48ef-a8b7-1650e9a6c492",
   "metadata": {},
   "outputs": [],
   "source": [
    "pred_count = lr_count.predict(x_test_count)"
   ]
  },
  {
   "cell_type": "code",
   "execution_count": 62,
   "id": "8fa2c9db-9c4d-4ea3-bcce-97ddde3dd245",
   "metadata": {},
   "outputs": [
    {
     "name": "stdout",
     "output_type": "stream",
     "text": [
      "              precision    recall  f1-score   support\n",
      "\n",
      "           0       0.74      0.72      0.73       319\n",
      "           1       0.68      0.75      0.71       389\n",
      "           2       0.72      0.66      0.69       394\n",
      "           3       0.66      0.68      0.67       392\n",
      "           4       0.76      0.80      0.78       385\n",
      "           5       0.82      0.69      0.75       395\n",
      "           6       0.80      0.89      0.84       390\n",
      "           7       0.81      0.84      0.83       396\n",
      "           8       0.92      0.92      0.92       398\n",
      "           9       0.85      0.87      0.86       397\n",
      "          10       0.92      0.93      0.92       399\n",
      "          11       0.91      0.86      0.88       396\n",
      "          12       0.68      0.73      0.71       393\n",
      "          13       0.82      0.74      0.77       396\n",
      "          14       0.92      0.88      0.90       394\n",
      "          15       0.84      0.93      0.88       398\n",
      "          16       0.70      0.84      0.77       364\n",
      "          17       0.91      0.79      0.85       376\n",
      "          18       0.69      0.53      0.60       310\n",
      "          19       0.60      0.60      0.60       251\n",
      "\n",
      "    accuracy                           0.79      7532\n",
      "   macro avg       0.79      0.78      0.78      7532\n",
      "weighted avg       0.79      0.79      0.79      7532\n",
      "\n"
     ]
    }
   ],
   "source": [
    "print(classification_report(test.target, pred_count))"
   ]
  },
  {
   "cell_type": "code",
   "execution_count": 63,
   "id": "adaa8e3a-64f3-4672-9416-6c27521e0c83",
   "metadata": {},
   "outputs": [],
   "source": [
    "vectorizer_tf = TfidfVectorizer()"
   ]
  },
  {
   "cell_type": "code",
   "execution_count": 64,
   "id": "3b7be7be-c052-49b2-871b-1c6ab7f7448c",
   "metadata": {},
   "outputs": [],
   "source": [
    "x_train_tf = vectorizer_tf.fit_transform(train.data)"
   ]
  },
  {
   "cell_type": "code",
   "execution_count": 65,
   "id": "b46fdfaa-a8d4-4d77-8d73-3dbcdf5507e3",
   "metadata": {},
   "outputs": [
    {
     "data": {
      "text/plain": [
       "(11314, 130107)"
      ]
     },
     "execution_count": 65,
     "metadata": {},
     "output_type": "execute_result"
    }
   ],
   "source": [
    "x_train_tf.shape"
   ]
  },
  {
   "cell_type": "code",
   "execution_count": 66,
   "id": "37215af3-bad6-43c6-93ec-f22607914804",
   "metadata": {},
   "outputs": [],
   "source": [
    "lr_tf = LogisticRegression(n_jobs=-1, max_iter=200)"
   ]
  },
  {
   "cell_type": "code",
   "execution_count": 67,
   "id": "805e156b-ed37-4a0f-b802-a821ef3fa3f4",
   "metadata": {},
   "outputs": [
    {
     "data": {
      "text/plain": [
       "LogisticRegression(max_iter=200, n_jobs=-1)"
      ]
     },
     "execution_count": 67,
     "metadata": {},
     "output_type": "execute_result"
    }
   ],
   "source": [
    "lr_tf.fit(x_train_tf, train.target)"
   ]
  },
  {
   "cell_type": "code",
   "execution_count": 68,
   "id": "b0d1a132-9458-48f7-a86e-0d605afc6e50",
   "metadata": {},
   "outputs": [],
   "source": [
    "x_test_tf = vectorizer_tf.transform(test.data)"
   ]
  },
  {
   "cell_type": "code",
   "execution_count": 69,
   "id": "f7c28f62-c817-4e7a-aec0-31d62c3a325d",
   "metadata": {},
   "outputs": [],
   "source": [
    "pred_tf = lr_tf.predict(x_test_tf)"
   ]
  },
  {
   "cell_type": "code",
   "execution_count": 70,
   "id": "99cd2de9-ea90-4058-a613-a04d0d188e62",
   "metadata": {},
   "outputs": [
    {
     "name": "stdout",
     "output_type": "stream",
     "text": [
      "              precision    recall  f1-score   support\n",
      "\n",
      "           0       0.80      0.74      0.77       319\n",
      "           1       0.69      0.79      0.74       389\n",
      "           2       0.75      0.73      0.74       394\n",
      "           3       0.72      0.72      0.72       392\n",
      "           4       0.81      0.83      0.82       385\n",
      "           5       0.83      0.74      0.78       395\n",
      "           6       0.76      0.90      0.82       390\n",
      "           7       0.90      0.89      0.90       396\n",
      "           8       0.95      0.95      0.95       398\n",
      "           9       0.88      0.92      0.90       397\n",
      "          10       0.94      0.95      0.95       399\n",
      "          11       0.94      0.88      0.91       396\n",
      "          12       0.76      0.80      0.78       393\n",
      "          13       0.89      0.83      0.85       396\n",
      "          14       0.91      0.92      0.91       394\n",
      "          15       0.81      0.94      0.87       398\n",
      "          16       0.72      0.88      0.79       364\n",
      "          17       0.96      0.87      0.92       376\n",
      "          18       0.76      0.59      0.66       310\n",
      "          19       0.81      0.49      0.61       251\n",
      "\n",
      "    accuracy                           0.83      7532\n",
      "   macro avg       0.83      0.82      0.82      7532\n",
      "weighted avg       0.83      0.83      0.83      7532\n",
      "\n"
     ]
    }
   ],
   "source": [
    "print(classification_report(test.target, pred_tf))"
   ]
  },
  {
   "cell_type": "code",
   "execution_count": null,
   "id": "b09270c6-04e5-47bd-8634-7f6b29a04cc9",
   "metadata": {},
   "outputs": [],
   "source": []
  },
  {
   "cell_type": "code",
   "execution_count": 71,
   "id": "a64c6c05-7e2c-403f-9df7-2736f1798f64",
   "metadata": {},
   "outputs": [],
   "source": [
    "token_data = [text.split() for text in train.data]"
   ]
  },
  {
   "cell_type": "code",
   "execution_count": 72,
   "id": "cc0d6954-2994-414b-8bdb-c8c4708c0009",
   "metadata": {},
   "outputs": [],
   "source": [
    "model_wv = Word2Vec(token_data)"
   ]
  },
  {
   "cell_type": "code",
   "execution_count": 73,
   "id": "68fa4210-9009-4886-a7f1-9c650f5aebf4",
   "metadata": {},
   "outputs": [
    {
     "data": {
      "text/plain": [
       "<gensim.models.keyedvectors.KeyedVectors at 0x7fc2f44f7208>"
      ]
     },
     "execution_count": 73,
     "metadata": {},
     "output_type": "execute_result"
    }
   ],
   "source": [
    "model_wv.wv"
   ]
  },
  {
   "cell_type": "code",
   "execution_count": 75,
   "id": "c8658f82-f2d1-4452-a065-a669e671de9e",
   "metadata": {},
   "outputs": [],
   "source": [
    "def vector_sum(text, embeddings):\n",
    "    embeddings_dim = embeddings.vectors.shape[1]\n",
    "    features = np.zeros([embeddings_dim])\n",
    "    for word in text.split():\n",
    "        if word in embeddings:\n",
    "            features += embeddings[f\"{word}\"]  \n",
    "    return features"
   ]
  },
  {
   "cell_type": "code",
   "execution_count": 76,
   "id": "a39110c3-562d-450a-a086-676c7fa50d83",
   "metadata": {},
   "outputs": [],
   "source": [
    "x_train_wv = np.stack([vector_sum(text, model_wv.wv) for text in train.data])"
   ]
  },
  {
   "cell_type": "code",
   "execution_count": 77,
   "id": "bfd1b2a5-18e8-434f-abf3-34c3a8a029f4",
   "metadata": {},
   "outputs": [
    {
     "data": {
      "text/plain": [
       "(11314, 100)"
      ]
     },
     "execution_count": 77,
     "metadata": {},
     "output_type": "execute_result"
    }
   ],
   "source": [
    "x_train_wv.shape"
   ]
  },
  {
   "cell_type": "code",
   "execution_count": 78,
   "id": "93081bd9-b0ff-43fe-9d5b-c65c8898bf27",
   "metadata": {},
   "outputs": [],
   "source": [
    "lr_wv = LogisticRegression(n_jobs=-1, max_iter=200)"
   ]
  },
  {
   "cell_type": "code",
   "execution_count": 79,
   "id": "90b0e122-694a-4be5-9eab-1add9f49c26d",
   "metadata": {},
   "outputs": [
    {
     "data": {
      "text/plain": [
       "LogisticRegression(max_iter=200, n_jobs=-1)"
      ]
     },
     "execution_count": 79,
     "metadata": {},
     "output_type": "execute_result"
    }
   ],
   "source": [
    "lr_wv.fit(x_train_wv, train.target)"
   ]
  },
  {
   "cell_type": "code",
   "execution_count": 80,
   "id": "1983724c-ae8f-4d8f-a5dc-1f37f648ed27",
   "metadata": {},
   "outputs": [],
   "source": [
    "x_test_wv = np.stack([vector_sum(text, model_wv.wv) for text in test.data])"
   ]
  },
  {
   "cell_type": "code",
   "execution_count": 81,
   "id": "17f1496d-4fb7-47a3-a5f2-25792bc438e2",
   "metadata": {},
   "outputs": [],
   "source": [
    "pred_wv = lr_wv.predict(x_test_wv)"
   ]
  },
  {
   "cell_type": "code",
   "execution_count": 82,
   "id": "bc43c0f3-32a1-45cf-aa89-81380f413891",
   "metadata": {},
   "outputs": [
    {
     "name": "stdout",
     "output_type": "stream",
     "text": [
      "              precision    recall  f1-score   support\n",
      "\n",
      "           0       0.33      0.32      0.32       319\n",
      "           1       0.28      0.36      0.32       389\n",
      "           2       0.35      0.30      0.32       394\n",
      "           3       0.35      0.29      0.32       392\n",
      "           4       0.29      0.22      0.25       385\n",
      "           5       0.51      0.55      0.53       395\n",
      "           6       0.48      0.84      0.61       390\n",
      "           7       0.28      0.29      0.29       396\n",
      "           8       0.39      0.46      0.42       398\n",
      "           9       0.38      0.41      0.39       397\n",
      "          10       0.55      0.50      0.52       399\n",
      "          11       0.48      0.40      0.44       396\n",
      "          12       0.32      0.23      0.27       393\n",
      "          13       0.31      0.29      0.30       396\n",
      "          14       0.38      0.38      0.38       394\n",
      "          15       0.48      0.52      0.50       398\n",
      "          16       0.36      0.33      0.34       364\n",
      "          17       0.56      0.54      0.55       376\n",
      "          18       0.27      0.23      0.25       310\n",
      "          19       0.23      0.20      0.21       251\n",
      "\n",
      "    accuracy                           0.39      7532\n",
      "   macro avg       0.38      0.38      0.38      7532\n",
      "weighted avg       0.38      0.39      0.38      7532\n",
      "\n"
     ]
    }
   ],
   "source": [
    "print(classification_report(test.target, pred_wv))"
   ]
  },
  {
   "cell_type": "code",
   "execution_count": 83,
   "id": "40bd8573-456f-43fe-ba6b-de744ec9e1ed",
   "metadata": {},
   "outputs": [],
   "source": [
    "embeddings_pretrain = api.load(\"word2vec-google-news-300\")"
   ]
  },
  {
   "cell_type": "code",
   "execution_count": 84,
   "id": "1e6e2387-15ae-4ea7-ab7d-f6db93fae370",
   "metadata": {},
   "outputs": [],
   "source": [
    "x_train_wv = np.stack([vector_sum(text, embeddings_pretrain) for text in train.data])"
   ]
  },
  {
   "cell_type": "code",
   "execution_count": 85,
   "id": "3cc884f8-a3e9-496f-a108-15092e2d3018",
   "metadata": {},
   "outputs": [],
   "source": [
    "lr_wv_pretrained = LogisticRegression(n_jobs=-1, max_iter=200)"
   ]
  },
  {
   "cell_type": "code",
   "execution_count": 86,
   "id": "77b784bc-1178-4883-a400-80189ac918f8",
   "metadata": {},
   "outputs": [
    {
     "data": {
      "text/plain": [
       "LogisticRegression(max_iter=200, n_jobs=-1)"
      ]
     },
     "execution_count": 86,
     "metadata": {},
     "output_type": "execute_result"
    }
   ],
   "source": [
    "lr_wv_pretrained.fit(x_train_wv, train.target)"
   ]
  },
  {
   "cell_type": "code",
   "execution_count": 87,
   "id": "61315a68-8d06-4e5b-8cf8-6e1a3dac3d44",
   "metadata": {},
   "outputs": [],
   "source": [
    "x_test_wv = np.stack([vector_sum(text, embeddings_pretrain) for text in test.data])"
   ]
  },
  {
   "cell_type": "code",
   "execution_count": 88,
   "id": "9b77cc61-3c81-44f7-9ad6-f0087446c1ff",
   "metadata": {},
   "outputs": [],
   "source": [
    "pred_wv = lr_wv_pretrained.predict(x_test_wv)"
   ]
  },
  {
   "cell_type": "code",
   "execution_count": 89,
   "id": "c0378b0e-81e3-4f7b-b5ed-0540c0f2e104",
   "metadata": {},
   "outputs": [
    {
     "name": "stdout",
     "output_type": "stream",
     "text": [
      "              precision    recall  f1-score   support\n",
      "\n",
      "           0       0.51      0.49      0.50       319\n",
      "           1       0.55      0.64      0.59       389\n",
      "           2       0.57      0.56      0.56       394\n",
      "           3       0.53      0.54      0.53       392\n",
      "           4       0.61      0.58      0.60       385\n",
      "           5       0.64      0.61      0.63       395\n",
      "           6       0.72      0.75      0.74       390\n",
      "           7       0.79      0.78      0.78       396\n",
      "           8       0.78      0.74      0.76       398\n",
      "           9       0.88      0.95      0.91       397\n",
      "          10       0.95      0.93      0.94       399\n",
      "          11       0.80      0.76      0.78       396\n",
      "          12       0.58      0.60      0.59       393\n",
      "          13       0.83      0.77      0.80       396\n",
      "          14       0.85      0.80      0.82       394\n",
      "          15       0.64      0.68      0.66       398\n",
      "          16       0.64      0.74      0.69       364\n",
      "          17       0.91      0.82      0.86       376\n",
      "          18       0.60      0.49      0.54       310\n",
      "          19       0.31      0.35      0.33       251\n",
      "\n",
      "    accuracy                           0.69      7532\n",
      "   macro avg       0.68      0.68      0.68      7532\n",
      "weighted avg       0.69      0.69      0.69      7532\n",
      "\n"
     ]
    }
   ],
   "source": [
    "print(classification_report(test.target, pred_wv))"
   ]
  },
  {
   "cell_type": "code",
   "execution_count": null,
   "id": "d0d6cda0-7c7e-4fac-917a-cc0909729172",
   "metadata": {},
   "outputs": [],
   "source": []
  }
 ],
 "metadata": {
  "kernelspec": {
   "display_name": "Python 3 (ipykernel)",
   "language": "python",
   "name": "python3"
  },
  "language_info": {
   "codemirror_mode": {
    "name": "ipython",
    "version": 3
   },
   "file_extension": ".py",
   "mimetype": "text/x-python",
   "name": "python",
   "nbconvert_exporter": "python",
   "pygments_lexer": "ipython3",
   "version": "3.9.15"
  },
  "toc": {
   "base_numbering": 1,
   "nav_menu": {},
   "number_sections": true,
   "sideBar": true,
   "skip_h1_title": false,
   "title_cell": "Table of Contents",
   "title_sidebar": "Contents",
   "toc_cell": false,
   "toc_position": {},
   "toc_section_display": true,
   "toc_window_display": false
  }
 },
 "nbformat": 4,
 "nbformat_minor": 5
}
