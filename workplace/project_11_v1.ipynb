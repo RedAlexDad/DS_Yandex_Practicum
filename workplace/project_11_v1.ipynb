{
 "cells": [
  {
   "cell_type": "markdown",
   "id": "d8f9cc85",
   "metadata": {},
   "source": [
    "# Проект для «Викишоп» с BERT"
   ]
  },
  {
   "cell_type": "markdown",
   "id": "cec58459",
   "metadata": {},
   "source": [
    "Интернет-магазин «Викишоп» запускает новый сервис. Теперь пользователи могут редактировать и дополнять описания товаров, как в вики-сообществах. То есть клиенты предлагают свои правки и комментируют изменения других. Магазину нужен инструмент, который будет искать токсичные комментарии и отправлять их на модерацию. \n",
    "\n",
    "Обучите модель классифицировать комментарии на позитивные и негативные. В вашем распоряжении набор данных с разметкой о токсичности правок.\n",
    "\n",
    "Постройте модель со значением метрики качества *F1* не меньше 0.75. \n",
    "\n",
    "**Инструкция по выполнению проекта**\n",
    "\n",
    "1. Загрузите и подготовьте данные.\n",
    "2. Обучите разные модели. \n",
    "3. Сделайте выводы.\n",
    "\n",
    "Для выполнения проекта применять *BERT* необязательно, но вы можете попробовать.\n",
    "\n",
    "**Описание данных**\n",
    "\n",
    "Данные находятся в файле `toxic_comments.csv`. Столбец *text* в нём содержит текст комментария, а *toxic* — целевой признак."
   ]
  },
  {
   "cell_type": "markdown",
   "id": "2f9c79d2",
   "metadata": {},
   "source": [
    "**Рассмотрим два варианта проекта без BERT и с BERT**"
   ]
  },
  {
   "cell_type": "markdown",
   "id": "3e2bd997",
   "metadata": {},
   "source": [
    "# Подготовка"
   ]
  },
  {
   "cell_type": "markdown",
   "id": "b5be6d67",
   "metadata": {},
   "source": [
    "## Подключение библиотеки"
   ]
  },
  {
   "cell_type": "code",
   "execution_count": 458,
   "id": "fd78d20f",
   "metadata": {},
   "outputs": [
    {
     "name": "stdout",
     "output_type": "stream",
     "text": [
      "The jupyternotify extension is already loaded. To reload it, use:\n",
      "  %reload_ext jupyternotify\n"
     ]
    }
   ],
   "source": [
    "# Уведомление о завершение работы определенного ячейка (очень пригодится для машинного обучения)\n",
    "import jupyternotify\n",
    "%load_ext jupyternotify"
   ]
  },
  {
   "cell_type": "code",
   "execution_count": 459,
   "id": "2818fbe4",
   "metadata": {},
   "outputs": [],
   "source": [
    "# Подключаем все необходимые библиотеки\n",
    "import pandas as pd\n",
    "import numpy as np\n",
    "import matplotlib.pyplot as plt\n",
    "# Для визуализации временных рядов\n",
    "import plotly.graph_objects\n",
    "import seaborn as sb\n",
    "from scipy import stats as st\n",
    "# Время обучения модели\n",
    "import timeit\n",
    "# Тренды и сезонность\n",
    "from statsmodels.tsa.seasonal import seasonal_decompose\n",
    "# Проверка на стационарность\n",
    "from statsmodels.tsa.stattools import adfuller, kpss\n",
    "# Проверка на дисперсию с помощью теста Андерсона-Дарлинга\n",
    "from scipy.stats import anderson\n",
    "# XGBRegressor\n",
    "import xgboost as xgb\n",
    "\n",
    "# Работа с текстами\n",
    "import nltk\n",
    "from nltk.corpus import stopwords as nltk_stopwords\n",
    "from sklearn.feature_extraction.text import TfidfVectorizer\n",
    "\n",
    "from lightgbm import LGBMRegressor\n",
    "# Вызов библиотеки для отключения предупреждения\n",
    "import warnings\n",
    "\n",
    "# Разбиение на обучающую, валидационную и тестовую выборку\n",
    "from sklearn.model_selection import train_test_split, GridSearchCV, cross_val_score, cross_val_predict, TimeSeriesSplit\n",
    "# Применим кроссвалидацию для повышения качеств обучения\n",
    "\n",
    "\n",
    "\n",
    "# Масштабируемость модели\n",
    "from sklearn.preprocessing import StandardScaler, OrdinalEncoder, OneHotEncoder\n",
    "\n",
    "# Для машинного обучения разными способами:\n",
    "# - Логическая регрессия\n",
    "from sklearn.linear_model import LogisticRegression\n",
    "# - Случайный лес\n",
    "from sklearn.ensemble import RandomForestClassifier\n",
    "# - Решающее дерево\n",
    "from sklearn.tree import DecisionTreeClassifier\n",
    "# - Модель на адекватность\n",
    "from sklearn.dummy import DummyClassifier\n",
    "# - Бустинг модель\n",
    "from catboost import CatBoostClassifier\n",
    "\n",
    "from sklearn.metrics import (\n",
    "    # Точность модели\n",
    "    accuracy_score,\n",
    "    # Матрицы ошибок (для борьбы с дисбалансом)\n",
    "    confusion_matrix, \n",
    "    # Полнота\n",
    "    recall_score, \n",
    "    # Точность\n",
    "    precision_score, \n",
    "    # F1-мера\n",
    "    f1_score,\n",
    "    # Метрика AUC-ROC\n",
    "    roc_auc_score,\n",
    "    roc_curve,\n",
    "    # MSE\n",
    "    mean_squared_error,\n",
    "    mean_absolute_error,\n",
    "    fbeta_score, \n",
    "    make_scorer\n",
    ")\n",
    "\n",
    "# Контроль выборки\n",
    "from sklearn.utils import shuffle"
   ]
  },
  {
   "cell_type": "markdown",
   "id": "c3d22f63",
   "metadata": {},
   "source": [
    "## Загрузим данные"
   ]
  },
  {
   "cell_type": "code",
   "execution_count": 460,
   "id": "c4eddd44",
   "metadata": {},
   "outputs": [],
   "source": [
    "# Получаем датасет\n",
    "try:\n",
    "    # С локального файла\n",
    "    try:\n",
    "        # Сразу устанавливаем время как индексы\n",
    "        df = pd.read_csv('toxic_comments.csv', index_col=[0], parse_dates=[0])\n",
    "    except:\n",
    "        df = pd.read_csv('/datasets/toxic_comments.csv', index_col=[0], parse_dates=[0])\n",
    "except:\n",
    "    print('Отсутствует датасет. Проверьте путь файла')"
   ]
  },
  {
   "cell_type": "markdown",
   "id": "3ba2e0f3",
   "metadata": {},
   "source": [
    "## Изучим данные"
   ]
  },
  {
   "cell_type": "code",
   "execution_count": 461,
   "id": "1a394f17",
   "metadata": {
    "scrolled": false
   },
   "outputs": [
    {
     "name": "stdout",
     "output_type": "stream",
     "text": [
      "<class 'pandas.core.frame.DataFrame'>\n",
      "Int64Index: 159292 entries, 0 to 159450\n",
      "Data columns (total 2 columns):\n",
      " #   Column  Non-Null Count   Dtype \n",
      "---  ------  --------------   ----- \n",
      " 0   text    159292 non-null  object\n",
      " 1   toxic   159292 non-null  int64 \n",
      "dtypes: int64(1), object(1)\n",
      "memory usage: 3.6+ MB\n"
     ]
    },
    {
     "data": {
      "text/plain": [
       "None"
      ]
     },
     "metadata": {},
     "output_type": "display_data"
    },
    {
     "data": {
      "text/html": [
       "<div>\n",
       "<style scoped>\n",
       "    .dataframe tbody tr th:only-of-type {\n",
       "        vertical-align: middle;\n",
       "    }\n",
       "\n",
       "    .dataframe tbody tr th {\n",
       "        vertical-align: top;\n",
       "    }\n",
       "\n",
       "    .dataframe thead th {\n",
       "        text-align: right;\n",
       "    }\n",
       "</style>\n",
       "<table border=\"1\" class=\"dataframe\">\n",
       "  <thead>\n",
       "    <tr style=\"text-align: right;\">\n",
       "      <th></th>\n",
       "      <th>text</th>\n",
       "      <th>toxic</th>\n",
       "    </tr>\n",
       "  </thead>\n",
       "  <tbody>\n",
       "    <tr>\n",
       "      <th>0</th>\n",
       "      <td>Explanation\\nWhy the edits made under my usern...</td>\n",
       "      <td>0</td>\n",
       "    </tr>\n",
       "    <tr>\n",
       "      <th>1</th>\n",
       "      <td>D'aww! He matches this background colour I'm s...</td>\n",
       "      <td>0</td>\n",
       "    </tr>\n",
       "    <tr>\n",
       "      <th>2</th>\n",
       "      <td>Hey man, I'm really not trying to edit war. It...</td>\n",
       "      <td>0</td>\n",
       "    </tr>\n",
       "    <tr>\n",
       "      <th>3</th>\n",
       "      <td>\"\\nMore\\nI can't make any real suggestions on ...</td>\n",
       "      <td>0</td>\n",
       "    </tr>\n",
       "    <tr>\n",
       "      <th>4</th>\n",
       "      <td>You, sir, are my hero. Any chance you remember...</td>\n",
       "      <td>0</td>\n",
       "    </tr>\n",
       "  </tbody>\n",
       "</table>\n",
       "</div>"
      ],
      "text/plain": [
       "                                                text  toxic\n",
       "0  Explanation\\nWhy the edits made under my usern...      0\n",
       "1  D'aww! He matches this background colour I'm s...      0\n",
       "2  Hey man, I'm really not trying to edit war. It...      0\n",
       "3  \"\\nMore\\nI can't make any real suggestions on ...      0\n",
       "4  You, sir, are my hero. Any chance you remember...      0"
      ]
     },
     "metadata": {},
     "output_type": "display_data"
    }
   ],
   "source": [
    "display(df.info(), df.head())"
   ]
  },
  {
   "cell_type": "markdown",
   "id": "e4bb6531",
   "metadata": {},
   "source": [
    "Как и видим, что текст написан на английском языке"
   ]
  },
  {
   "cell_type": "markdown",
   "id": "53877696",
   "metadata": {},
   "source": [
    "## Разделим на обучающую и тестовую выборку"
   ]
  },
  {
   "cell_type": "code",
   "execution_count": 462,
   "id": "359f9d5d",
   "metadata": {},
   "outputs": [],
   "source": [
    "# Деление обучающей выборки на признаки и целевые признаки\n",
    "features = df.drop('toxic', axis=1)\n",
    "target = df['toxic']"
   ]
  },
  {
   "cell_type": "code",
   "execution_count": 463,
   "id": "2738eb04",
   "metadata": {},
   "outputs": [],
   "source": [
    "# Разделим обучающую и тестовую выборку\n",
    "features_train, features_test, target_train, target_test = train_test_split(features, target, test_size=0.25, random_state=12345)"
   ]
  },
  {
   "cell_type": "code",
   "execution_count": 464,
   "id": "dcdfbf32",
   "metadata": {},
   "outputs": [
    {
     "name": "stdout",
     "output_type": "stream",
     "text": [
      "Размер обучающей выборки: 0.75 %\n",
      "Размер тестовой выборки: 0.25 %\n"
     ]
    }
   ],
   "source": [
    "print('Размер обучающей выборки:', round(features_train.shape[0] / df.shape[0], 3), '%')\n",
    "print('Размер тестовой выборки:', round(features_test.shape[0] / df.shape[0], 3), '%')"
   ]
  },
  {
   "cell_type": "markdown",
   "id": "7cba436f",
   "metadata": {},
   "source": [
    "## Предобработка данных"
   ]
  },
  {
   "cell_type": "code",
   "execution_count": 465,
   "id": "f7166a2c",
   "metadata": {},
   "outputs": [],
   "source": [
    "# Создаем корпус текстов\n",
    "corpus_train = features_train['text'].values.astype('U')\n",
    "corpus_test = features_test['text'].values.astype('U')"
   ]
  },
  {
   "cell_type": "code",
   "execution_count": 466,
   "id": "aea25f88",
   "metadata": {},
   "outputs": [
    {
     "name": "stdout",
     "output_type": "stream",
     "text": [
      "Corpus_train\n"
     ]
    },
    {
     "data": {
      "text/plain": [
       "\"That makes no sense. You don't play MapleStory through Internet Explorer. Sure, the website can only be accessible through IE (well, you can access it through Firefox as well if you know what to do), but it's not really part of the game.\""
      ]
     },
     "metadata": {},
     "output_type": "display_data"
    },
    {
     "name": "stdout",
     "output_type": "stream",
     "text": [
      "\n",
      "Corpus_test\n"
     ]
    },
    {
     "data": {
      "text/plain": [
       "'Expert Categorizers  \\n\\nWhy is there no mention of the fact that Nazis were particularly great categorizers? They excelled in identifying various things and writing about them and putting them in their proper places.'"
      ]
     },
     "metadata": {},
     "output_type": "display_data"
    }
   ],
   "source": [
    "print('Corpus_train')\n",
    "display(corpus_train[0])\n",
    "print()\n",
    "print('Corpus_test')\n",
    "display(corpus_test[0])"
   ]
  },
  {
   "cell_type": "markdown",
   "id": "fdf12476",
   "metadata": {},
   "source": [
    "## Установка стоп-слово"
   ]
  },
  {
   "cell_type": "code",
   "execution_count": 467,
   "id": "4961262b",
   "metadata": {},
   "outputs": [
    {
     "name": "stderr",
     "output_type": "stream",
     "text": [
      "[nltk_data] Downloading package stopwords to\n",
      "[nltk_data]     C:\\Users\\Papin\\AppData\\Roaming\\nltk_data...\n",
      "[nltk_data]   Package stopwords is already up-to-date!\n"
     ]
    }
   ],
   "source": [
    "# Получим стоп-слово\n",
    "nltk.download('stopwords')\n",
    "stopwords = set(nltk_stopwords.words('english'))"
   ]
  },
  {
   "cell_type": "markdown",
   "id": "14af8f48",
   "metadata": {},
   "source": [
    "## Создание корпуса текстов с обучающей и тестовой выборки"
   ]
  },
  {
   "cell_type": "markdown",
   "id": "898ae3ba",
   "metadata": {},
   "source": [
    "### Обучающая выборка"
   ]
  },
  {
   "cell_type": "code",
   "execution_count": 468,
   "id": "dd84d16c",
   "metadata": {},
   "outputs": [],
   "source": [
    "# По аналогии с CountVectorizer() создадим счётчик, указав в нём стоп-слова:\n",
    "count_tf_idf_train = TfidfVectorizer(stop_words=list(stopwords))"
   ]
  },
  {
   "cell_type": "code",
   "execution_count": 469,
   "id": "eca68c75",
   "metadata": {},
   "outputs": [],
   "source": [
    "# Чтобы посчитать TF-IDF для корпуса текстов, вызовем функцию fit_transform():\n",
    "tf_idf_train = count_tf_idf_train.fit_transform(corpus_train) \n",
    "# Передав TfidfVectorizer() аргумент ngram_range, можно рассчитать N-граммы."
   ]
  },
  {
   "cell_type": "code",
   "execution_count": 470,
   "id": "c1a69c9b",
   "metadata": {
    "scrolled": true
   },
   "outputs": [
    {
     "name": "stdout",
     "output_type": "stream",
     "text": [
      "Размер матрицы обучающей выборки: (119469, 158310)\n"
     ]
    }
   ],
   "source": [
    "print(\"Размер матрицы обучающей выборки:\", tf_idf_train.shape)"
   ]
  },
  {
   "cell_type": "markdown",
   "id": "89722561",
   "metadata": {},
   "source": [
    "### Тестовая выборка"
   ]
  },
  {
   "cell_type": "code",
   "execution_count": 471,
   "id": "4aa19c55",
   "metadata": {},
   "outputs": [],
   "source": [
    "# По аналогии с CountVectorizer() создадим счётчик, указав в нём стоп-слова:\n",
    "count_tf_idf_test = TfidfVectorizer(stop_words=list(stopwords))"
   ]
  },
  {
   "cell_type": "code",
   "execution_count": 472,
   "id": "f9560720",
   "metadata": {},
   "outputs": [],
   "source": [
    "# Чтобы посчитать TF-IDF для корпуса текстов, вызовем функцию fit_transform():\n",
    "tf_idf_test = count_tf_idf_train.transform(corpus_test) \n",
    "# Передав TfidfVectorizer() аргумент ngram_range, можно рассчитать N-граммы."
   ]
  },
  {
   "cell_type": "code",
   "execution_count": 473,
   "id": "b9a50d71",
   "metadata": {
    "scrolled": false
   },
   "outputs": [
    {
     "name": "stdout",
     "output_type": "stream",
     "text": [
      "Размер матрицы тестовой выборки: (39823, 158310)\n"
     ]
    }
   ],
   "source": [
    "print(\"Размер матрицы тестовой выборки:\", tf_idf_test.shape)"
   ]
  },
  {
   "cell_type": "markdown",
   "id": "f02ab0a4",
   "metadata": {},
   "source": [
    "# Машинное обучение"
   ]
  },
  {
   "cell_type": "code",
   "execution_count": 474,
   "id": "ae51d486",
   "metadata": {},
   "outputs": [],
   "source": [
    "# Здесь будем сохранить результаты машинного обучения\n",
    "results = pd.DataFrame()\n",
    "\n",
    "# А это будет счетчтиком для нумерация моеделй\n",
    "count_model = 0"
   ]
  },
  {
   "cell_type": "markdown",
   "id": "db025e1d",
   "metadata": {},
   "source": [
    "## Функции\n",
    "\n",
    "**Создаем функцию, которая упрощает написание кода**"
   ]
  },
  {
   "cell_type": "markdown",
   "id": "7eeac266",
   "metadata": {},
   "source": [
    "### Обучение модели"
   ]
  },
  {
   "cell_type": "code",
   "execution_count": 475,
   "id": "3ba4e1f1",
   "metadata": {},
   "outputs": [],
   "source": [
    "# Обучение модели\n",
    "def fit_model(model, tf_idf_train, target_train):\n",
    "    # Обучим модель на обучающей выборке\n",
    "    model.fit(tf_idf_train, target_train)\n",
    "\n",
    "    # Узнаем RMSE обучающей выборки\n",
    "    F1_TRAIN = model.best_score_\n",
    "    print('F1 TRAIN:', F1_TRAIN)\n",
    "    print('TIME TRAIN [s]:', round(model.refit_time_, 3))\n",
    "    \n",
    "    return F1_TRAIN"
   ]
  },
  {
   "cell_type": "markdown",
   "id": "057d1bbd",
   "metadata": {},
   "source": [
    "### Предсказание модели"
   ]
  },
  {
   "cell_type": "code",
   "execution_count": 476,
   "id": "b3a97d0c",
   "metadata": {},
   "outputs": [],
   "source": [
    "# Предсказание модели\n",
    "def predict_model(model, tf_idf_test, target_test):\n",
    "    start_time = timeit.default_timer()\n",
    "    # Получим предсказания на тестовой выборки\n",
    "    predictions = model.predict(tf_idf_test)\n",
    "\n",
    "    elapsed = round(timeit.default_timer() - start_time, 3)\n",
    "\n",
    "    # Узнаем RMSE\n",
    "    F1_VALID = f1_score(target_test, predictions)\n",
    "    print('F1 VALID:', F1_VALID)\n",
    "    print('Предсказание:', predictions.mean())\n",
    "    \n",
    "    return predictions, elapsed, F1_VALID"
   ]
  },
  {
   "cell_type": "markdown",
   "id": "efc18ccd",
   "metadata": {},
   "source": [
    "### Сохранение результатов"
   ]
  },
  {
   "cell_type": "code",
   "execution_count": 477,
   "id": "ae42a354",
   "metadata": {},
   "outputs": [],
   "source": [
    "# Зафиксируем результаты\n",
    "def save_result(name, F1_TRAIN, F1_VALID, predictions, refit_time_, elapsed, best_params_, count_model, show_display=False):\n",
    "    results[count_model] = pd.Series({\n",
    "        'NAME': f'{name}', \n",
    "        'F1 TRAIN': F1_TRAIN, \n",
    "        'F1 VALID': F1_VALID, \n",
    "        'PREDICTIONS': predictions.mean(), \n",
    "        'TIME TRAINING [s]': refit_time_, \n",
    "        'TIME PREDICTION [s]': elapsed, \n",
    "        'PARAMETRS': best_params_\n",
    "    })\n",
    "    \n",
    "    if(show_display == True): display(results[count_model])"
   ]
  },
  {
   "cell_type": "markdown",
   "id": "68c0815b",
   "metadata": {},
   "source": [
    "### График ROC-кривая"
   ]
  },
  {
   "cell_type": "code",
   "execution_count": 478,
   "id": "e4a851be",
   "metadata": {},
   "outputs": [],
   "source": [
    "def display_aus_roc(model, tf_idf_test, target_test):\n",
    "    probabilities_test = model.predict_proba(tf_idf_test)\n",
    "    probabilities_one_test = probabilities_test[:, 1]\n",
    "\n",
    "    auc_roc = roc_auc_score(target_test, probabilities_one_test)\n",
    "\n",
    "    # Изображаем ROC-кривую\n",
    "    fpr, tpr, thresholds = roc_curve(target_test, probabilities_one_test)\n",
    "\n",
    "    plt.figure()\n",
    "\n",
    "    plt.plot(fpr, tpr)\n",
    "\n",
    "    plt.plot([0, 1], [0, 1], linestyle='--')\n",
    "\n",
    "    plt.xlim([0.0, 1.0])\n",
    "    plt.ylim([0.0, 1.0])\n",
    "\n",
    "    plt.xlabel('False Positive Rate')\n",
    "    plt.ylabel('True Positive Rate')\n",
    "\n",
    "    plt.title('ROC-кривая')\n",
    "    plt.show()\n",
    "    \n",
    "    print('ROC AUC:', auc_roc)"
   ]
  },
  {
   "cell_type": "markdown",
   "id": "64f3df37",
   "metadata": {},
   "source": [
    "### График распределения плотности предсказанных и истинных значений"
   ]
  },
  {
   "cell_type": "code",
   "execution_count": 479,
   "id": "5b62b7e6",
   "metadata": {},
   "outputs": [],
   "source": [
    "def display_graph_predicted_and_target(target_train, predictions, F1_VALID, x_pos, y_pos):\n",
    "    plt.figure(figsize=(10, 5))\n",
    "    # Целевой признак\n",
    "    target_train.plot(kind='kde', linewidth=2)\n",
    "    # Предсказания\n",
    "    pd.Series(predictions).plot(kind='kde',linewidth=2)\n",
    "    \n",
    "    plt.title('График распределения плотности предсказанных и истинных значений')\n",
    "    plt.legend(['Истинные значения','Предсказанные значения'], fontsize='large')\n",
    "    \n",
    "    plt.text(x_pos, y_pos, f'F1= {round(F1_VALID, 3)}')\n",
    "    plt.xlabel('')\n",
    "    plt.ylabel('Плотность')\n",
    "    \n",
    "    plt.show()"
   ]
  },
  {
   "cell_type": "markdown",
   "id": "884b253c",
   "metadata": {},
   "source": [
    "## LogisticRegression"
   ]
  },
  {
   "cell_type": "code",
   "execution_count": 480,
   "id": "8ed8a6e4",
   "metadata": {},
   "outputs": [],
   "source": [
    "# Устанавливаем нужные параметры\n",
    "parameters = {\"C\": np.logspace(-3, 3, 10), \"penalty\": [\"l2\"]}\n",
    "\n",
    "# Инициализируем модель\n",
    "model = GridSearchCV(LogisticRegression(solver='lbfgs', max_iter=1000), param_grid = parameters, cv = 5, scoring = 'f1')"
   ]
  },
  {
   "cell_type": "code",
   "execution_count": 481,
   "id": "e8293caa",
   "metadata": {},
   "outputs": [
    {
     "name": "stdout",
     "output_type": "stream",
     "text": [
      "F1 TRAIN: 0.7582260326033147\n",
      "TIME TRAIN [s]: 9.809\n",
      "CPU times: total: 35min 59s\n",
      "Wall time: 6min 46s\n"
     ]
    },
    {
     "data": {
      "application/javascript": [
       "$(document).ready(\n",
       "    function() {\n",
       "        function appendUniqueDiv(){\n",
       "            // append a div with our uuid so we can check that it's already\n",
       "            // been sent and avoid duplicates on page reload\n",
       "            var notifiedDiv = document.createElement(\"div\")\n",
       "            notifiedDiv.id = \"7a2323fa-107d-41ec-861e-5895c03a21ae\"\n",
       "            element.append(notifiedDiv)\n",
       "        }\n",
       "\n",
       "        // only send notifications if the pageload is complete; this will\n",
       "        // help stop extra notifications when a saved notebook is loaded,\n",
       "        // which during testing gives us state \"interactive\", not \"complete\"\n",
       "        if (document.readyState === 'complete') {\n",
       "            // check for the div that signifies that the notification\n",
       "            // was already sent\n",
       "            if (document.getElementById(\"7a2323fa-107d-41ec-861e-5895c03a21ae\") === null) {\n",
       "                var notificationPayload = {\"requireInteraction\": false, \"icon\": \"/static/base/images/favicon.ico\", \"body\": \"LogisticRegression\"};\n",
       "                if (Notification.permission !== 'denied') {\n",
       "                    if (Notification.permission !== 'granted') { \n",
       "                        Notification.requestPermission(function (permission) {\n",
       "                            if(!('permission' in Notification)) {\n",
       "                                Notification.permission = permission\n",
       "                            }\n",
       "                        })\n",
       "                    }\n",
       "                    if (Notification.permission === 'granted') {\n",
       "                    var notification = new Notification(\"Jupyter Notebook\", notificationPayload)\n",
       "                    appendUniqueDiv()\n",
       "                    notification.onclick = function () {\n",
       "                        window.focus();\n",
       "                        this.close();\n",
       "                        };\n",
       "                    } \n",
       "                }     \n",
       "            }\n",
       "        }\n",
       "    }\n",
       ")\n"
      ],
      "text/plain": [
       "<IPython.core.display.Javascript object>"
      ]
     },
     "metadata": {},
     "output_type": "display_data"
    }
   ],
   "source": [
    "%%notify -m 'LogisticRegression'\n",
    "%%time\n",
    "\n",
    "# Обучение модели\n",
    "F1_TRAIN = fit_model(model, tf_idf_train, target_train)"
   ]
  },
  {
   "cell_type": "markdown",
   "id": "3b7f5048",
   "metadata": {},
   "source": [
    "### Проверка на тестовой выборки"
   ]
  },
  {
   "cell_type": "code",
   "execution_count": 482,
   "id": "1d603965",
   "metadata": {},
   "outputs": [
    {
     "name": "stdout",
     "output_type": "stream",
     "text": [
      "F1 VALID: 0.7795374912403643\n",
      "Предсказание: 0.07761846169299148\n",
      "CPU times: total: 93.8 ms\n",
      "Wall time: 47.5 ms\n"
     ]
    }
   ],
   "source": [
    "%%time\n",
    "# Предсказание модели\n",
    "predictions, elapsed, F1_VALID = predict_model(model, tf_idf_test, target_test)"
   ]
  },
  {
   "cell_type": "code",
   "execution_count": 483,
   "id": "2d8b0885",
   "metadata": {},
   "outputs": [
    {
     "data": {
      "text/plain": [
       "NAME                             LogisticRegression\n",
       "F1 TRAIN                                   0.758226\n",
       "F1 VALID                                   0.779537\n",
       "PREDICTIONS                                0.077618\n",
       "TIME TRAINING [s]                           9.80854\n",
       "TIME PREDICTION [s]                           0.011\n",
       "PARAMETRS              {'C': 10.0, 'penalty': 'l2'}\n",
       "Name: 0, dtype: object"
      ]
     },
     "metadata": {},
     "output_type": "display_data"
    }
   ],
   "source": [
    "# Зафиксируем результаты\n",
    "save_result('LogisticRegression', F1_TRAIN, F1_VALID, predictions, model.refit_time_, elapsed, model.best_params_, count_model, show_display=True)\n",
    "count_model+=1"
   ]
  },
  {
   "cell_type": "markdown",
   "id": "ea7a6f03",
   "metadata": {},
   "source": [
    "### ROC-кривая"
   ]
  },
  {
   "cell_type": "code",
   "execution_count": 484,
   "id": "0bb5f1d3",
   "metadata": {},
   "outputs": [
    {
     "data": {
      "image/png": "[encoded data removed]",
      "text/plain": [
       "<Figure size 640x480 with 1 Axes>"
      ]
     },
     "metadata": {},
     "output_type": "display_data"
    },
    {
     "name": "stdout",
     "output_type": "stream",
     "text": [
      "ROC AUC: 0.9714302950116704\n"
     ]
    }
   ],
   "source": [
    "display_aus_roc(model, tf_idf_test, target_test)"
   ]
  },
  {
   "cell_type": "markdown",
   "id": "1519df6f",
   "metadata": {},
   "source": [
    "_*Примечание*_\n",
    "\n",
    "Интервал AUC и качество модели\n",
    "- 0,9 - 1,0 Отличное\n",
    "- 0,8 - 0,9 Очень хорошее\n",
    "- 0,7 - 0,8 Хорошее\n",
    "- 0,6 - 0,7 Среднее\n",
    "- 0,5 - 0,6 Неудовлетворительное"
   ]
  },
  {
   "cell_type": "markdown",
   "id": "cf31838c",
   "metadata": {},
   "source": [
    "Здесь значение ROC-AUC получилось очень идеальной, близок к 1"
   ]
  },
  {
   "cell_type": "markdown",
   "id": "6f49516c",
   "metadata": {},
   "source": [
    "### График распределения плотности предсказанных и истинных значений"
   ]
  },
  {
   "cell_type": "code",
   "execution_count": 485,
   "id": "6dcbed21",
   "metadata": {},
   "outputs": [
    {
     "data": {
      "image/png": "[encoded data removed]",
      "text/plain": [
       "<Figure size 1000x500 with 1 Axes>"
      ]
     },
     "metadata": {},
     "output_type": "display_data"
    }
   ],
   "source": [
    "display_graph_predicted_and_target(target_train, predictions, F1_VALID, 1, 3)"
   ]
  },
  {
   "cell_type": "markdown",
   "id": "6f1e5b11",
   "metadata": {},
   "source": [
    "Результат оказался оптимальным, т.е. F1 = 0,778 "
   ]
  },
  {
   "cell_type": "markdown",
   "id": "2d0e2f25",
   "metadata": {},
   "source": [
    "## RandomForestClassifier"
   ]
  },
  {
   "cell_type": "code",
   "execution_count": 486,
   "id": "1c5cd2c1",
   "metadata": {},
   "outputs": [],
   "source": [
    "# Устанавливаем нужные параметры\n",
    "parameters = {\n",
    "    'n_estimators': [10, 20],\n",
    "    'max_features': ['sqrt', 'log2'],\n",
    "    'bootstrap': [True, False],\n",
    "    'max_depth':[5, 20]\n",
    "}\n",
    "\n",
    "# Инициализируем модель\n",
    "model = GridSearchCV(RandomForestClassifier(random_state=12345), param_grid = parameters, cv = 5, scoring = 'f1')"
   ]
  },
  {
   "cell_type": "code",
   "execution_count": 487,
   "id": "5a356b5a",
   "metadata": {
    "scrolled": true
   },
   "outputs": [
    {
     "name": "stdout",
     "output_type": "stream",
     "text": [
      "F1 TRAIN: 0.006390575965808836\n",
      "TIME TRAIN [s]: 2.051\n",
      "CPU times: total: 6min 26s\n",
      "Wall time: 6min 42s\n"
     ]
    },
    {
     "data": {
      "application/javascript": [
       "$(document).ready(\n",
       "    function() {\n",
       "        function appendUniqueDiv(){\n",
       "            // append a div with our uuid so we can check that it's already\n",
       "            // been sent and avoid duplicates on page reload\n",
       "            var notifiedDiv = document.createElement(\"div\")\n",
       "            notifiedDiv.id = \"2ff844ba-d678-4939-bff5-4ee7d73dac2f\"\n",
       "            element.append(notifiedDiv)\n",
       "        }\n",
       "\n",
       "        // only send notifications if the pageload is complete; this will\n",
       "        // help stop extra notifications when a saved notebook is loaded,\n",
       "        // which during testing gives us state \"interactive\", not \"complete\"\n",
       "        if (document.readyState === 'complete') {\n",
       "            // check for the div that signifies that the notification\n",
       "            // was already sent\n",
       "            if (document.getElementById(\"2ff844ba-d678-4939-bff5-4ee7d73dac2f\") === null) {\n",
       "                var notificationPayload = {\"requireInteraction\": false, \"icon\": \"/static/base/images/favicon.ico\", \"body\": \"RandomForestClassifier\"};\n",
       "                if (Notification.permission !== 'denied') {\n",
       "                    if (Notification.permission !== 'granted') { \n",
       "                        Notification.requestPermission(function (permission) {\n",
       "                            if(!('permission' in Notification)) {\n",
       "                                Notification.permission = permission\n",
       "                            }\n",
       "                        })\n",
       "                    }\n",
       "                    if (Notification.permission === 'granted') {\n",
       "                    var notification = new Notification(\"Jupyter Notebook\", notificationPayload)\n",
       "                    appendUniqueDiv()\n",
       "                    notification.onclick = function () {\n",
       "                        window.focus();\n",
       "                        this.close();\n",
       "                        };\n",
       "                    } \n",
       "                }     \n",
       "            }\n",
       "        }\n",
       "    }\n",
       ")\n"
      ],
      "text/plain": [
       "<IPython.core.display.Javascript object>"
      ]
     },
     "metadata": {},
     "output_type": "display_data"
    }
   ],
   "source": [
    "%%notify -m 'RandomForestClassifier'\n",
    "%%time\n",
    "\n",
    "# Обучение модели\n",
    "F1_TRAIN = fit_model(model, tf_idf_train, target_train)"
   ]
  },
  {
   "cell_type": "markdown",
   "id": "89336a42",
   "metadata": {},
   "source": [
    "### Проверка на тестовой выборки"
   ]
  },
  {
   "cell_type": "code",
   "execution_count": 488,
   "id": "41169d79",
   "metadata": {
    "scrolled": true
   },
   "outputs": [
    {
     "name": "stdout",
     "output_type": "stream",
     "text": [
      "F1 VALID: 0.01958863858961802\n",
      "Предсказание: 0.0010044446676543705\n",
      "CPU times: total: 141 ms\n",
      "Wall time: 149 ms\n"
     ]
    }
   ],
   "source": [
    "%%time\n",
    "# Предсказание модели\n",
    "predictions, elapsed, F1_VALID = predict_model(model, tf_idf_test, target_test)"
   ]
  },
  {
   "cell_type": "markdown",
   "id": "6e6228a7",
   "metadata": {},
   "source": [
    "F1 метрика совсем сильно упала, почти в 100 раз, очень странно получилось, дальше смотрим"
   ]
  },
  {
   "cell_type": "code",
   "execution_count": 489,
   "id": "b5ed4226",
   "metadata": {},
   "outputs": [
    {
     "data": {
      "text/plain": [
       "NAME                                              RandomForestClassifier\n",
       "F1 TRAIN                                                        0.006391\n",
       "F1 VALID                                                        0.019589\n",
       "PREDICTIONS                                                     0.001004\n",
       "TIME TRAINING [s]                                                2.05133\n",
       "TIME PREDICTION [s]                                                0.125\n",
       "PARAMETRS              {'bootstrap': True, 'max_depth': 20, 'max_feat...\n",
       "Name: 1, dtype: object"
      ]
     },
     "metadata": {},
     "output_type": "display_data"
    }
   ],
   "source": [
    "# Зафиксируем результаты\n",
    "save_result('RandomForestClassifier', F1_TRAIN, F1_VALID, predictions, model.refit_time_, elapsed, model.best_params_, count_model, show_display=True)\n",
    "count_model+=1"
   ]
  },
  {
   "cell_type": "markdown",
   "id": "2f164a80",
   "metadata": {},
   "source": [
    "### ROC-кривая"
   ]
  },
  {
   "cell_type": "code",
   "execution_count": 490,
   "id": "add1caab",
   "metadata": {},
   "outputs": [
    {
     "data": {
      "image/png": "[encoded data removed]",
      "text/plain": [
       "<Figure size 640x480 with 1 Axes>"
      ]
     },
     "metadata": {},
     "output_type": "display_data"
    },
    {
     "name": "stdout",
     "output_type": "stream",
     "text": [
      "ROC AUC: 0.8487475136200583\n"
     ]
    }
   ],
   "source": [
    "display_aus_roc(model, tf_idf_test, target_test)"
   ]
  },
  {
   "cell_type": "markdown",
   "id": "3640d5e0",
   "metadata": {},
   "source": [
    "_*Примечание*_\n",
    "\n",
    "Интервал AUC и качество модели\n",
    "- 0,9 - 1,0 Отличное\n",
    "- 0,8 - 0,9 Очень хорошее\n",
    "- 0,7 - 0,8 Хорошее\n",
    "- 0,6 - 0,7 Среднее\n",
    "- 0,5 - 0,6 Неудовлетворительное"
   ]
  },
  {
   "cell_type": "markdown",
   "id": "b518e799",
   "metadata": {},
   "source": [
    "Здесь значение ROC-AUC получилось хорошей, около 0,84"
   ]
  },
  {
   "cell_type": "markdown",
   "id": "27a8c389",
   "metadata": {},
   "source": [
    "### График распределения плотности предсказанных и истинных значений"
   ]
  },
  {
   "cell_type": "code",
   "execution_count": 491,
   "id": "099bcbae",
   "metadata": {},
   "outputs": [
    {
     "data": {
      "image/png": "[encoded data removed]",
      "text/plain": [
       "<Figure size 1000x500 with 1 Axes>"
      ]
     },
     "metadata": {},
     "output_type": "display_data"
    }
   ],
   "source": [
    "display_graph_predicted_and_target(target_train, predictions, F1_VALID, 1, 20)"
   ]
  },
  {
   "cell_type": "markdown",
   "id": "71d293f6",
   "metadata": {},
   "source": [
    "Результат у моделей Случайного леса оказался намного худшим по сравнению с остальными моделями"
   ]
  },
  {
   "cell_type": "markdown",
   "id": "8b912688",
   "metadata": {},
   "source": [
    "## DecisionTreeClassifier"
   ]
  },
  {
   "cell_type": "code",
   "execution_count": 492,
   "id": "b8d58749",
   "metadata": {},
   "outputs": [],
   "source": [
    "# Устанавливаем нужные параметры\n",
    "parameters = {'max_depth': range(1, 51, 10), 'min_samples_leaf': [0.5, 1]}\n",
    "\n",
    "# Инициализируем модель\n",
    "model = GridSearchCV(DecisionTreeClassifier(random_state=12345), param_grid = parameters, cv = 5, scoring = 'f1')"
   ]
  },
  {
   "cell_type": "code",
   "execution_count": 493,
   "id": "88c76853",
   "metadata": {
    "scrolled": true
   },
   "outputs": [
    {
     "name": "stdout",
     "output_type": "stream",
     "text": [
      "F1 TRAIN: 0.6874631889769903\n",
      "TIME TRAIN [s]: 32.837\n",
      "CPU times: total: 11min 58s\n",
      "Wall time: 12min 51s\n"
     ]
    },
    {
     "data": {
      "application/javascript": [
       "$(document).ready(\n",
       "    function() {\n",
       "        function appendUniqueDiv(){\n",
       "            // append a div with our uuid so we can check that it's already\n",
       "            // been sent and avoid duplicates on page reload\n",
       "            var notifiedDiv = document.createElement(\"div\")\n",
       "            notifiedDiv.id = \"e989aba1-b11b-45bb-8ce1-355fa6d6a690\"\n",
       "            element.append(notifiedDiv)\n",
       "        }\n",
       "\n",
       "        // only send notifications if the pageload is complete; this will\n",
       "        // help stop extra notifications when a saved notebook is loaded,\n",
       "        // which during testing gives us state \"interactive\", not \"complete\"\n",
       "        if (document.readyState === 'complete') {\n",
       "            // check for the div that signifies that the notification\n",
       "            // was already sent\n",
       "            if (document.getElementById(\"e989aba1-b11b-45bb-8ce1-355fa6d6a690\") === null) {\n",
       "                var notificationPayload = {\"requireInteraction\": false, \"icon\": \"/static/base/images/favicon.ico\", \"body\": \"DecisionTreeClassifier\"};\n",
       "                if (Notification.permission !== 'denied') {\n",
       "                    if (Notification.permission !== 'granted') { \n",
       "                        Notification.requestPermission(function (permission) {\n",
       "                            if(!('permission' in Notification)) {\n",
       "                                Notification.permission = permission\n",
       "                            }\n",
       "                        })\n",
       "                    }\n",
       "                    if (Notification.permission === 'granted') {\n",
       "                    var notification = new Notification(\"Jupyter Notebook\", notificationPayload)\n",
       "                    appendUniqueDiv()\n",
       "                    notification.onclick = function () {\n",
       "                        window.focus();\n",
       "                        this.close();\n",
       "                        };\n",
       "                    } \n",
       "                }     \n",
       "            }\n",
       "        }\n",
       "    }\n",
       ")\n"
      ],
      "text/plain": [
       "<IPython.core.display.Javascript object>"
      ]
     },
     "metadata": {},
     "output_type": "display_data"
    }
   ],
   "source": [
    "%%notify -m 'DecisionTreeClassifier'\n",
    "%%time\n",
    "\n",
    "# Обучение модели\n",
    "F1_TRAIN = fit_model(model, tf_idf_train, target_train)"
   ]
  },
  {
   "cell_type": "markdown",
   "id": "dc1d34d6",
   "metadata": {},
   "source": [
    "### Проверка на тестовой выборки"
   ]
  },
  {
   "cell_type": "code",
   "execution_count": 494,
   "id": "01758dcf",
   "metadata": {
    "scrolled": true
   },
   "outputs": [
    {
     "name": "stdout",
     "output_type": "stream",
     "text": [
      "F1 VALID: 0.6881466154300916\n",
      "Предсказание: 0.06835245963387993\n",
      "CPU times: total: 0 ns\n",
      "Wall time: 48 ms\n"
     ]
    }
   ],
   "source": [
    "%%time\n",
    "# Предсказание модели\n",
    "predictions, elapsed, F1_VALID = predict_model(model, tf_idf_test, target_test)"
   ]
  },
  {
   "cell_type": "code",
   "execution_count": 495,
   "id": "0ff2a2c9",
   "metadata": {},
   "outputs": [
    {
     "data": {
      "text/plain": [
       "NAME                                     DecisionTreeClassifier\n",
       "F1 TRAIN                                               0.687463\n",
       "F1 VALID                                               0.688147\n",
       "PREDICTIONS                                            0.068352\n",
       "TIME TRAINING [s]                                     32.837006\n",
       "TIME PREDICTION [s]                                       0.019\n",
       "PARAMETRS              {'max_depth': 41, 'min_samples_leaf': 1}\n",
       "Name: 2, dtype: object"
      ]
     },
     "metadata": {},
     "output_type": "display_data"
    }
   ],
   "source": [
    "# Зафиксируем результаты\n",
    "save_result('DecisionTreeClassifier', F1_TRAIN, F1_VALID, predictions, model.refit_time_, elapsed, model.best_params_, count_model, show_display=True)\n",
    "count_model+=1"
   ]
  },
  {
   "cell_type": "markdown",
   "id": "33916952",
   "metadata": {},
   "source": [
    "### ROC-кривая"
   ]
  },
  {
   "cell_type": "code",
   "execution_count": 496,
   "id": "cdb29d09",
   "metadata": {},
   "outputs": [
    {
     "data": {
      "image/png": "[encoded data removed]",
      "text/plain": [
       "<Figure size 640x480 with 1 Axes>"
      ]
     },
     "metadata": {},
     "output_type": "display_data"
    },
    {
     "name": "stdout",
     "output_type": "stream",
     "text": [
      "ROC AUC: 0.7659905389910239\n"
     ]
    }
   ],
   "source": [
    "display_aus_roc(model, tf_idf_test, target_test)"
   ]
  },
  {
   "cell_type": "markdown",
   "id": "275b2960",
   "metadata": {},
   "source": [
    "_*Примечание*_\n",
    "\n",
    "Интервал AUC и качество модели\n",
    "- 0,9 - 1,0 Отличное\n",
    "- 0,8 - 0,9 Очень хорошее\n",
    "- 0,7 - 0,8 Хорошее\n",
    "- 0,6 - 0,7 Среднее\n",
    "- 0,5 - 0,6 Неудовлетворительное"
   ]
  },
  {
   "cell_type": "markdown",
   "id": "e6b54eb2",
   "metadata": {},
   "source": [
    "Здесь значение ROC-AUC тоже получилось хорошей, около 0,76"
   ]
  },
  {
   "cell_type": "markdown",
   "id": "6524f489",
   "metadata": {},
   "source": [
    "### График распределения плотности предсказанных и истинных значений"
   ]
  },
  {
   "cell_type": "code",
   "execution_count": 497,
   "id": "8b780678",
   "metadata": {},
   "outputs": [
    {
     "data": {
      "image/png": "[encoded data removed]",
      "text/plain": [
       "<Figure size 1000x500 with 1 Axes>"
      ]
     },
     "metadata": {},
     "output_type": "display_data"
    }
   ],
   "source": [
    "display_graph_predicted_and_target(target_train, predictions, F1_VALID, 1, 3)"
   ]
  },
  {
   "cell_type": "markdown",
   "id": "04adb858",
   "metadata": {},
   "source": [
    "Результат у моделей Решающего дерева тоже оказался неплохим, но логическая регрессия лучше"
   ]
  },
  {
   "cell_type": "markdown",
   "id": "fddd1965",
   "metadata": {},
   "source": [
    "## CatBoostClassifier"
   ]
  },
  {
   "cell_type": "code",
   "execution_count": 498,
   "id": "a66cd8c0",
   "metadata": {},
   "outputs": [],
   "source": [
    "# Устанавливаем нужные параметры\n",
    "parameters = {\n",
    "    'depth' : [5, 10],\n",
    "    'learning_rate' : [0.01, 0.1],\n",
    "    'iterations' : [10, 20]\n",
    "}\n",
    "\n",
    "# Инициализируем модель\n",
    "model = GridSearchCV(CatBoostClassifier(), param_grid = parameters, cv = 5, scoring = 'f1')"
   ]
  },
  {
   "cell_type": "code",
   "execution_count": 499,
   "id": "a2354f28",
   "metadata": {
    "scrolled": true
   },
   "outputs": [
    {
     "name": "stdout",
     "output_type": "stream",
     "text": [
      "0:\tlearn: 0.6822488\ttotal: 758ms\tremaining: 6.83s\n",
      "1:\tlearn: 0.6719067\ttotal: 1.3s\tremaining: 5.18s\n",
      "2:\tlearn: 0.6615419\ttotal: 1.85s\tremaining: 4.32s\n",
      "3:\tlearn: 0.6517941\ttotal: 2.4s\tremaining: 3.6s\n",
      "4:\tlearn: 0.6418862\ttotal: 2.96s\tremaining: 2.96s\n",
      "5:\tlearn: 0.6327369\ttotal: 3.5s\tremaining: 2.33s\n",
      "6:\tlearn: 0.6233554\ttotal: 4.08s\tremaining: 1.75s\n",
      "7:\tlearn: 0.6144739\ttotal: 4.62s\tremaining: 1.15s\n",
      "8:\tlearn: 0.6055799\ttotal: 5.17s\tremaining: 574ms\n",
      "9:\tlearn: 0.5970627\ttotal: 5.71s\tremaining: 0us\n",
      "0:\tlearn: 0.6828172\ttotal: 540ms\tremaining: 4.86s\n",
      "1:\tlearn: 0.6724845\ttotal: 1.07s\tremaining: 4.28s\n",
      "2:\tlearn: 0.6623832\ttotal: 1.59s\tremaining: 3.71s\n",
      "3:\tlearn: 0.6525792\ttotal: 2.1s\tremaining: 3.16s\n",
      "4:\tlearn: 0.6430937\ttotal: 2.65s\tremaining: 2.65s\n",
      "5:\tlearn: 0.6339699\ttotal: 3.29s\tremaining: 2.19s\n",
      "6:\tlearn: 0.6246325\ttotal: 3.85s\tremaining: 1.65s\n",
      "7:\tlearn: 0.6160882\ttotal: 4.41s\tremaining: 1.1s\n",
      "8:\tlearn: 0.6073531\ttotal: 4.97s\tremaining: 553ms\n",
      "9:\tlearn: 0.5988782\ttotal: 5.51s\tremaining: 0us\n",
      "0:\tlearn: 0.6822885\ttotal: 536ms\tremaining: 4.82s\n",
      "1:\tlearn: 0.6720865\ttotal: 1.06s\tremaining: 4.24s\n",
      "2:\tlearn: 0.6621600\ttotal: 1.58s\tremaining: 3.7s\n",
      "3:\tlearn: 0.6522679\ttotal: 2.09s\tremaining: 3.14s\n",
      "4:\tlearn: 0.6425634\ttotal: 2.64s\tremaining: 2.64s\n",
      "5:\tlearn: 0.6330386\ttotal: 3.16s\tremaining: 2.1s\n",
      "6:\tlearn: 0.6238744\ttotal: 3.67s\tremaining: 1.57s\n",
      "7:\tlearn: 0.6145558\ttotal: 4.2s\tremaining: 1.05s\n",
      "8:\tlearn: 0.6056813\ttotal: 4.73s\tremaining: 526ms\n",
      "9:\tlearn: 0.5970887\ttotal: 5.24s\tremaining: 0us\n",
      "0:\tlearn: 0.6824603\ttotal: 531ms\tremaining: 4.78s\n",
      "1:\tlearn: 0.6722477\ttotal: 1.05s\tremaining: 4.2s\n",
      "2:\tlearn: 0.6623805\ttotal: 1.59s\tremaining: 3.72s\n",
      "3:\tlearn: 0.6523264\ttotal: 2.14s\tremaining: 3.21s\n",
      "4:\tlearn: 0.6427951\ttotal: 2.69s\tremaining: 2.69s\n",
      "5:\tlearn: 0.6331300\ttotal: 3.22s\tremaining: 2.15s\n",
      "6:\tlearn: 0.6239787\ttotal: 3.75s\tremaining: 1.61s\n",
      "7:\tlearn: 0.6150993\ttotal: 4.29s\tremaining: 1.07s\n",
      "8:\tlearn: 0.6063398\ttotal: 4.82s\tremaining: 535ms\n",
      "9:\tlearn: 0.5978518\ttotal: 5.35s\tremaining: 0us\n",
      "0:\tlearn: 0.6823076\ttotal: 585ms\tremaining: 5.27s\n",
      "1:\tlearn: 0.6718411\ttotal: 1.19s\tremaining: 4.75s\n",
      "2:\tlearn: 0.6620349\ttotal: 1.73s\tremaining: 4.03s\n",
      "3:\tlearn: 0.6520123\ttotal: 2.3s\tremaining: 3.45s\n",
      "4:\tlearn: 0.6421724\ttotal: 2.84s\tremaining: 2.84s\n",
      "5:\tlearn: 0.6328530\ttotal: 3.41s\tremaining: 2.28s\n",
      "6:\tlearn: 0.6236782\ttotal: 4.01s\tremaining: 1.72s\n",
      "7:\tlearn: 0.6147642\ttotal: 4.57s\tremaining: 1.14s\n",
      "8:\tlearn: 0.6060260\ttotal: 5.21s\tremaining: 579ms\n",
      "9:\tlearn: 0.5973716\ttotal: 5.74s\tremaining: 0us\n",
      "0:\tlearn: 0.5916694\ttotal: 664ms\tremaining: 5.98s\n",
      "1:\tlearn: 0.5129204\ttotal: 1.23s\tremaining: 4.91s\n",
      "2:\tlearn: 0.4537302\ttotal: 1.81s\tremaining: 4.23s\n",
      "3:\tlearn: 0.4066564\ttotal: 2.38s\tremaining: 3.58s\n",
      "4:\tlearn: 0.3716351\ttotal: 2.93s\tremaining: 2.93s\n",
      "5:\tlearn: 0.3457023\ttotal: 3.48s\tremaining: 2.32s\n",
      "6:\tlearn: 0.3243459\ttotal: 4.01s\tremaining: 1.72s\n",
      "7:\tlearn: 0.3058137\ttotal: 4.55s\tremaining: 1.14s\n",
      "8:\tlearn: 0.2920862\ttotal: 5.08s\tremaining: 565ms\n",
      "9:\tlearn: 0.2800158\ttotal: 5.79s\tremaining: 0us\n",
      "0:\tlearn: 0.5968765\ttotal: 584ms\tremaining: 5.26s\n",
      "1:\tlearn: 0.5188041\ttotal: 1.15s\tremaining: 4.61s\n",
      "2:\tlearn: 0.4586071\ttotal: 1.85s\tremaining: 4.31s\n",
      "3:\tlearn: 0.4149336\ttotal: 2.56s\tremaining: 3.84s\n",
      "4:\tlearn: 0.3769386\ttotal: 3.15s\tremaining: 3.15s\n",
      "5:\tlearn: 0.3484953\ttotal: 3.68s\tremaining: 2.45s\n",
      "6:\tlearn: 0.3263423\ttotal: 4.19s\tremaining: 1.8s\n",
      "7:\tlearn: 0.3086610\ttotal: 4.77s\tremaining: 1.19s\n",
      "8:\tlearn: 0.2944963\ttotal: 5.3s\tremaining: 589ms\n",
      "9:\tlearn: 0.2829899\ttotal: 5.84s\tremaining: 0us\n",
      "0:\tlearn: 0.5922329\ttotal: 538ms\tremaining: 4.84s\n",
      "1:\tlearn: 0.5168082\ttotal: 1.06s\tremaining: 4.26s\n",
      "2:\tlearn: 0.4575315\ttotal: 1.64s\tremaining: 3.83s\n",
      "3:\tlearn: 0.4111745\ttotal: 2.17s\tremaining: 3.26s\n",
      "4:\tlearn: 0.3746109\ttotal: 2.82s\tremaining: 2.82s\n",
      "5:\tlearn: 0.3468622\ttotal: 3.56s\tremaining: 2.37s\n",
      "6:\tlearn: 0.3248064\ttotal: 4.3s\tremaining: 1.84s\n",
      "7:\tlearn: 0.3061078\ttotal: 4.99s\tremaining: 1.25s\n",
      "8:\tlearn: 0.2921451\ttotal: 5.6s\tremaining: 623ms\n",
      "9:\tlearn: 0.2810093\ttotal: 6.14s\tremaining: 0us\n",
      "0:\tlearn: 0.5937174\ttotal: 559ms\tremaining: 5.03s\n",
      "1:\tlearn: 0.5171789\ttotal: 1.11s\tremaining: 4.43s\n",
      "2:\tlearn: 0.4589867\ttotal: 1.65s\tremaining: 3.86s\n",
      "3:\tlearn: 0.4136554\ttotal: 2.22s\tremaining: 3.33s\n",
      "4:\tlearn: 0.3775356\ttotal: 2.76s\tremaining: 2.76s\n",
      "5:\tlearn: 0.3481673\ttotal: 3.3s\tremaining: 2.2s\n",
      "6:\tlearn: 0.3255392\ttotal: 3.87s\tremaining: 1.66s\n",
      "7:\tlearn: 0.3081322\ttotal: 4.46s\tremaining: 1.11s\n",
      "8:\tlearn: 0.2939763\ttotal: 5.04s\tremaining: 560ms\n",
      "9:\tlearn: 0.2829139\ttotal: 5.63s\tremaining: 0us\n",
      "0:\tlearn: 0.5923314\ttotal: 538ms\tremaining: 4.84s\n",
      "1:\tlearn: 0.5164973\ttotal: 1.09s\tremaining: 4.36s\n",
      "2:\tlearn: 0.4582382\ttotal: 1.63s\tremaining: 3.81s\n",
      "3:\tlearn: 0.4109793\ttotal: 2.21s\tremaining: 3.31s\n",
      "4:\tlearn: 0.3748253\ttotal: 2.76s\tremaining: 2.76s\n",
      "5:\tlearn: 0.3484379\ttotal: 3.31s\tremaining: 2.21s\n",
      "6:\tlearn: 0.3257579\ttotal: 3.89s\tremaining: 1.67s\n",
      "7:\tlearn: 0.3078472\ttotal: 4.42s\tremaining: 1.1s\n",
      "8:\tlearn: 0.2938598\ttotal: 5.01s\tremaining: 557ms\n",
      "9:\tlearn: 0.2825357\ttotal: 5.59s\tremaining: 0us\n",
      "0:\tlearn: 0.6822488\ttotal: 572ms\tremaining: 10.9s\n",
      "1:\tlearn: 0.6719067\ttotal: 1.1s\tremaining: 9.91s\n",
      "2:\tlearn: 0.6615419\ttotal: 1.64s\tremaining: 9.27s\n",
      "3:\tlearn: 0.6517941\ttotal: 2.17s\tremaining: 8.66s\n",
      "4:\tlearn: 0.6418862\ttotal: 2.69s\tremaining: 8.09s\n",
      "5:\tlearn: 0.6327369\ttotal: 3.23s\tremaining: 7.53s\n",
      "6:\tlearn: 0.6233554\ttotal: 3.75s\tremaining: 6.97s\n",
      "7:\tlearn: 0.6144739\ttotal: 4.28s\tremaining: 6.42s\n",
      "8:\tlearn: 0.6055799\ttotal: 4.81s\tremaining: 5.88s\n",
      "9:\tlearn: 0.5970627\ttotal: 5.36s\tremaining: 5.36s\n",
      "10:\tlearn: 0.5888530\ttotal: 5.93s\tremaining: 4.85s\n",
      "11:\tlearn: 0.5803954\ttotal: 6.54s\tremaining: 4.36s\n",
      "12:\tlearn: 0.5725471\ttotal: 7.14s\tremaining: 3.85s\n",
      "13:\tlearn: 0.5648776\ttotal: 7.82s\tremaining: 3.35s\n",
      "14:\tlearn: 0.5574572\ttotal: 8.43s\tremaining: 2.81s\n",
      "15:\tlearn: 0.5500525\ttotal: 9.02s\tremaining: 2.25s\n",
      "16:\tlearn: 0.5429709\ttotal: 9.57s\tremaining: 1.69s\n",
      "17:\tlearn: 0.5356457\ttotal: 10.1s\tremaining: 1.12s\n",
      "18:\tlearn: 0.5289015\ttotal: 10.7s\tremaining: 564ms\n",
      "19:\tlearn: 0.5224612\ttotal: 11.3s\tremaining: 0us\n",
      "0:\tlearn: 0.6828172\ttotal: 604ms\tremaining: 11.5s\n",
      "1:\tlearn: 0.6724845\ttotal: 1.19s\tremaining: 10.7s\n",
      "2:\tlearn: 0.6623832\ttotal: 1.78s\tremaining: 10.1s\n",
      "3:\tlearn: 0.6525792\ttotal: 2.47s\tremaining: 9.87s\n",
      "4:\tlearn: 0.6430937\ttotal: 3.19s\tremaining: 9.57s\n",
      "5:\tlearn: 0.6339699\ttotal: 3.82s\tremaining: 8.9s\n",
      "6:\tlearn: 0.6246325\ttotal: 4.38s\tremaining: 8.13s\n",
      "7:\tlearn: 0.6160882\ttotal: 4.91s\tremaining: 7.37s\n",
      "8:\tlearn: 0.6073531\ttotal: 5.47s\tremaining: 6.68s\n",
      "9:\tlearn: 0.5988782\ttotal: 6.01s\tremaining: 6.01s\n",
      "10:\tlearn: 0.5904147\ttotal: 6.58s\tremaining: 5.38s\n",
      "11:\tlearn: 0.5823226\ttotal: 7.22s\tremaining: 4.82s\n",
      "12:\tlearn: 0.5747015\ttotal: 7.87s\tremaining: 4.24s\n",
      "13:\tlearn: 0.5668035\ttotal: 8.58s\tremaining: 3.68s\n",
      "14:\tlearn: 0.5594757\ttotal: 9.25s\tremaining: 3.08s\n",
      "15:\tlearn: 0.5519973\ttotal: 10s\tremaining: 2.51s\n",
      "16:\tlearn: 0.5448967\ttotal: 10.6s\tremaining: 1.87s\n",
      "17:\tlearn: 0.5377931\ttotal: 11.2s\tremaining: 1.24s\n",
      "18:\tlearn: 0.5310294\ttotal: 11.7s\tremaining: 618ms\n",
      "19:\tlearn: 0.5246655\ttotal: 12.4s\tremaining: 0us\n",
      "0:\tlearn: 0.6822885\ttotal: 559ms\tremaining: 10.6s\n",
      "1:\tlearn: 0.6720865\ttotal: 1.14s\tremaining: 10.2s\n",
      "2:\tlearn: 0.6621600\ttotal: 1.77s\tremaining: 10s\n",
      "3:\tlearn: 0.6522679\ttotal: 2.33s\tremaining: 9.33s\n",
      "4:\tlearn: 0.6425634\ttotal: 2.92s\tremaining: 8.74s\n",
      "5:\tlearn: 0.6330386\ttotal: 3.46s\tremaining: 8.07s\n",
      "6:\tlearn: 0.6238744\ttotal: 4.05s\tremaining: 7.53s\n",
      "7:\tlearn: 0.6145558\ttotal: 4.68s\tremaining: 7.02s\n",
      "8:\tlearn: 0.6056813\ttotal: 5.39s\tremaining: 6.59s\n",
      "9:\tlearn: 0.5970887\ttotal: 5.95s\tremaining: 5.95s\n",
      "10:\tlearn: 0.5891060\ttotal: 6.52s\tremaining: 5.33s\n",
      "11:\tlearn: 0.5808889\ttotal: 7.05s\tremaining: 4.7s\n",
      "12:\tlearn: 0.5729046\ttotal: 7.58s\tremaining: 4.08s\n",
      "13:\tlearn: 0.5649580\ttotal: 8.18s\tremaining: 3.5s\n",
      "14:\tlearn: 0.5574669\ttotal: 8.71s\tremaining: 2.9s\n",
      "15:\tlearn: 0.5501185\ttotal: 9.33s\tremaining: 2.33s\n",
      "16:\tlearn: 0.5434215\ttotal: 9.86s\tremaining: 1.74s\n",
      "17:\tlearn: 0.5364849\ttotal: 10.5s\tremaining: 1.16s\n",
      "18:\tlearn: 0.5296698\ttotal: 11s\tremaining: 580ms\n",
      "19:\tlearn: 0.5229020\ttotal: 11.6s\tremaining: 0us\n",
      "0:\tlearn: 0.6824603\ttotal: 584ms\tremaining: 11.1s\n",
      "1:\tlearn: 0.6722477\ttotal: 1.16s\tremaining: 10.4s\n",
      "2:\tlearn: 0.6623805\ttotal: 1.72s\tremaining: 9.73s\n",
      "3:\tlearn: 0.6523264\ttotal: 2.27s\tremaining: 9.09s\n",
      "4:\tlearn: 0.6427951\ttotal: 2.84s\tremaining: 8.51s\n"
     ]
    },
    {
     "name": "stdout",
     "output_type": "stream",
     "text": [
      "5:\tlearn: 0.6331300\ttotal: 3.39s\tremaining: 7.91s\n",
      "6:\tlearn: 0.6239787\ttotal: 3.92s\tremaining: 7.28s\n",
      "7:\tlearn: 0.6150993\ttotal: 4.46s\tremaining: 6.68s\n",
      "8:\tlearn: 0.6063398\ttotal: 5s\tremaining: 6.11s\n",
      "9:\tlearn: 0.5978518\ttotal: 5.55s\tremaining: 5.55s\n",
      "10:\tlearn: 0.5896246\ttotal: 6.12s\tremaining: 5s\n",
      "11:\tlearn: 0.5817069\ttotal: 6.65s\tremaining: 4.43s\n",
      "12:\tlearn: 0.5738949\ttotal: 7.17s\tremaining: 3.86s\n",
      "13:\tlearn: 0.5659738\ttotal: 7.7s\tremaining: 3.3s\n",
      "14:\tlearn: 0.5585138\ttotal: 8.29s\tremaining: 2.77s\n",
      "15:\tlearn: 0.5508736\ttotal: 9.01s\tremaining: 2.25s\n",
      "16:\tlearn: 0.5436473\ttotal: 9.76s\tremaining: 1.72s\n",
      "17:\tlearn: 0.5363976\ttotal: 10.3s\tremaining: 1.15s\n",
      "18:\tlearn: 0.5297322\ttotal: 10.9s\tremaining: 574ms\n",
      "19:\tlearn: 0.5232261\ttotal: 11.4s\tremaining: 0us\n",
      "0:\tlearn: 0.6823076\ttotal: 563ms\tremaining: 10.7s\n",
      "1:\tlearn: 0.6718411\ttotal: 1.08s\tremaining: 9.75s\n",
      "2:\tlearn: 0.6620349\ttotal: 1.63s\tremaining: 9.24s\n",
      "3:\tlearn: 0.6520123\ttotal: 2.17s\tremaining: 8.7s\n",
      "4:\tlearn: 0.6421724\ttotal: 2.78s\tremaining: 8.35s\n",
      "5:\tlearn: 0.6328530\ttotal: 3.38s\tremaining: 7.88s\n",
      "6:\tlearn: 0.6236782\ttotal: 4.02s\tremaining: 7.46s\n",
      "7:\tlearn: 0.6147642\ttotal: 4.71s\tremaining: 7.06s\n",
      "8:\tlearn: 0.6060260\ttotal: 5.54s\tremaining: 6.77s\n",
      "9:\tlearn: 0.5973716\ttotal: 6.25s\tremaining: 6.25s\n",
      "10:\tlearn: 0.5888575\ttotal: 6.92s\tremaining: 5.66s\n",
      "11:\tlearn: 0.5806569\ttotal: 7.65s\tremaining: 5.1s\n",
      "12:\tlearn: 0.5729728\ttotal: 8.35s\tremaining: 4.5s\n",
      "13:\tlearn: 0.5652799\ttotal: 8.99s\tremaining: 3.85s\n",
      "14:\tlearn: 0.5579869\ttotal: 9.63s\tremaining: 3.21s\n",
      "15:\tlearn: 0.5505320\ttotal: 10.2s\tremaining: 2.54s\n",
      "16:\tlearn: 0.5430797\ttotal: 10.7s\tremaining: 1.89s\n",
      "17:\tlearn: 0.5358961\ttotal: 11.3s\tremaining: 1.25s\n",
      "18:\tlearn: 0.5288748\ttotal: 11.8s\tremaining: 621ms\n",
      "19:\tlearn: 0.5225722\ttotal: 12.4s\tremaining: 0us\n",
      "0:\tlearn: 0.5916694\ttotal: 571ms\tremaining: 10.8s\n",
      "1:\tlearn: 0.5129204\ttotal: 1.16s\tremaining: 10.5s\n",
      "2:\tlearn: 0.4537302\ttotal: 1.75s\tremaining: 9.92s\n",
      "3:\tlearn: 0.4066564\ttotal: 2.35s\tremaining: 9.39s\n",
      "4:\tlearn: 0.3716351\ttotal: 2.91s\tremaining: 8.72s\n",
      "5:\tlearn: 0.3457023\ttotal: 3.43s\tremaining: 8.01s\n",
      "6:\tlearn: 0.3243459\ttotal: 3.97s\tremaining: 7.37s\n",
      "7:\tlearn: 0.3058137\ttotal: 4.5s\tremaining: 6.75s\n",
      "8:\tlearn: 0.2920862\ttotal: 5.02s\tremaining: 6.13s\n",
      "9:\tlearn: 0.2800158\ttotal: 5.55s\tremaining: 5.55s\n",
      "10:\tlearn: 0.2709657\ttotal: 6.08s\tremaining: 4.98s\n",
      "11:\tlearn: 0.2634200\ttotal: 6.62s\tremaining: 4.41s\n",
      "12:\tlearn: 0.2573205\ttotal: 7.14s\tremaining: 3.84s\n",
      "13:\tlearn: 0.2520978\ttotal: 7.7s\tremaining: 3.3s\n",
      "14:\tlearn: 0.2474865\ttotal: 8.24s\tremaining: 2.75s\n",
      "15:\tlearn: 0.2436081\ttotal: 8.83s\tremaining: 2.21s\n",
      "16:\tlearn: 0.2404490\ttotal: 9.36s\tremaining: 1.65s\n",
      "17:\tlearn: 0.2377470\ttotal: 9.94s\tremaining: 1.1s\n",
      "18:\tlearn: 0.2351340\ttotal: 10.5s\tremaining: 551ms\n",
      "19:\tlearn: 0.2327975\ttotal: 11.1s\tremaining: 0us\n",
      "0:\tlearn: 0.5968765\ttotal: 631ms\tremaining: 12s\n",
      "1:\tlearn: 0.5188041\ttotal: 1.18s\tremaining: 10.6s\n",
      "2:\tlearn: 0.4586071\ttotal: 1.7s\tremaining: 9.63s\n",
      "3:\tlearn: 0.4149336\ttotal: 2.27s\tremaining: 9.08s\n",
      "4:\tlearn: 0.3769386\ttotal: 2.81s\tremaining: 8.42s\n",
      "5:\tlearn: 0.3484953\ttotal: 3.41s\tremaining: 7.95s\n",
      "6:\tlearn: 0.3263423\ttotal: 3.94s\tremaining: 7.32s\n",
      "7:\tlearn: 0.3086610\ttotal: 4.5s\tremaining: 6.75s\n",
      "8:\tlearn: 0.2944963\ttotal: 5.04s\tremaining: 6.16s\n",
      "9:\tlearn: 0.2829899\ttotal: 5.59s\tremaining: 5.59s\n",
      "10:\tlearn: 0.2739247\ttotal: 6.16s\tremaining: 5.04s\n",
      "11:\tlearn: 0.2660150\ttotal: 6.71s\tremaining: 4.47s\n",
      "12:\tlearn: 0.2597313\ttotal: 7.24s\tremaining: 3.9s\n",
      "13:\tlearn: 0.2540724\ttotal: 7.78s\tremaining: 3.33s\n",
      "14:\tlearn: 0.2496645\ttotal: 8.3s\tremaining: 2.77s\n",
      "15:\tlearn: 0.2458787\ttotal: 8.86s\tremaining: 2.21s\n",
      "16:\tlearn: 0.2423480\ttotal: 9.44s\tremaining: 1.67s\n",
      "17:\tlearn: 0.2394085\ttotal: 9.96s\tremaining: 1.11s\n",
      "18:\tlearn: 0.2365177\ttotal: 10.5s\tremaining: 552ms\n",
      "19:\tlearn: 0.2343525\ttotal: 11s\tremaining: 0us\n",
      "0:\tlearn: 0.5922329\ttotal: 551ms\tremaining: 10.5s\n",
      "1:\tlearn: 0.5168082\ttotal: 1.1s\tremaining: 9.95s\n",
      "2:\tlearn: 0.4575315\ttotal: 1.65s\tremaining: 9.37s\n",
      "3:\tlearn: 0.4111745\ttotal: 2.18s\tremaining: 8.74s\n",
      "4:\tlearn: 0.3746109\ttotal: 2.72s\tremaining: 8.16s\n",
      "5:\tlearn: 0.3468622\ttotal: 3.27s\tremaining: 7.64s\n",
      "6:\tlearn: 0.3248064\ttotal: 3.84s\tremaining: 7.13s\n",
      "7:\tlearn: 0.3061078\ttotal: 4.38s\tremaining: 6.57s\n",
      "8:\tlearn: 0.2921451\ttotal: 4.95s\tremaining: 6.04s\n",
      "9:\tlearn: 0.2810093\ttotal: 5.48s\tremaining: 5.48s\n",
      "10:\tlearn: 0.2719799\ttotal: 6s\tremaining: 4.91s\n",
      "11:\tlearn: 0.2649824\ttotal: 6.53s\tremaining: 4.35s\n",
      "12:\tlearn: 0.2581977\ttotal: 7.09s\tremaining: 3.81s\n",
      "13:\tlearn: 0.2531222\ttotal: 7.62s\tremaining: 3.26s\n",
      "14:\tlearn: 0.2486413\ttotal: 8.19s\tremaining: 2.73s\n",
      "15:\tlearn: 0.2447941\ttotal: 8.77s\tremaining: 2.19s\n",
      "16:\tlearn: 0.2415400\ttotal: 9.3s\tremaining: 1.64s\n",
      "17:\tlearn: 0.2388158\ttotal: 9.83s\tremaining: 1.09s\n",
      "18:\tlearn: 0.2354598\ttotal: 10.4s\tremaining: 545ms\n",
      "19:\tlearn: 0.2335241\ttotal: 10.9s\tremaining: 0us\n",
      "0:\tlearn: 0.5937174\ttotal: 542ms\tremaining: 10.3s\n",
      "1:\tlearn: 0.5171789\ttotal: 1.06s\tremaining: 9.55s\n",
      "2:\tlearn: 0.4589867\ttotal: 1.6s\tremaining: 9.07s\n",
      "3:\tlearn: 0.4136554\ttotal: 2.12s\tremaining: 8.5s\n",
      "4:\tlearn: 0.3775356\ttotal: 2.66s\tremaining: 7.98s\n",
      "5:\tlearn: 0.3481673\ttotal: 3.19s\tremaining: 7.43s\n",
      "6:\tlearn: 0.3255392\ttotal: 3.71s\tremaining: 6.88s\n",
      "7:\tlearn: 0.3081322\ttotal: 4.27s\tremaining: 6.41s\n",
      "8:\tlearn: 0.2939763\ttotal: 4.84s\tremaining: 5.92s\n",
      "9:\tlearn: 0.2829139\ttotal: 5.42s\tremaining: 5.42s\n",
      "10:\tlearn: 0.2731917\ttotal: 5.97s\tremaining: 4.88s\n",
      "11:\tlearn: 0.2659929\ttotal: 6.5s\tremaining: 4.33s\n",
      "12:\tlearn: 0.2586176\ttotal: 7.02s\tremaining: 3.78s\n",
      "13:\tlearn: 0.2534747\ttotal: 7.54s\tremaining: 3.23s\n",
      "14:\tlearn: 0.2482046\ttotal: 8.07s\tremaining: 2.69s\n",
      "15:\tlearn: 0.2448001\ttotal: 8.61s\tremaining: 2.15s\n",
      "16:\tlearn: 0.2416517\ttotal: 9.15s\tremaining: 1.61s\n",
      "17:\tlearn: 0.2386131\ttotal: 9.7s\tremaining: 1.08s\n",
      "18:\tlearn: 0.2357481\ttotal: 10.2s\tremaining: 539ms\n",
      "19:\tlearn: 0.2332732\ttotal: 10.8s\tremaining: 0us\n",
      "0:\tlearn: 0.5923314\ttotal: 538ms\tremaining: 10.2s\n",
      "1:\tlearn: 0.5164973\ttotal: 1.27s\tremaining: 11.4s\n",
      "2:\tlearn: 0.4582382\ttotal: 1.82s\tremaining: 10.3s\n",
      "3:\tlearn: 0.4109793\ttotal: 2.47s\tremaining: 9.89s\n",
      "4:\tlearn: 0.3748253\ttotal: 3s\tremaining: 9s\n",
      "5:\tlearn: 0.3484379\ttotal: 3.57s\tremaining: 8.34s\n",
      "6:\tlearn: 0.3257579\ttotal: 4.1s\tremaining: 7.61s\n",
      "7:\tlearn: 0.3078472\ttotal: 4.67s\tremaining: 7.01s\n",
      "8:\tlearn: 0.2938598\ttotal: 5.2s\tremaining: 6.35s\n",
      "9:\tlearn: 0.2825357\ttotal: 5.75s\tremaining: 5.75s\n",
      "10:\tlearn: 0.2734969\ttotal: 6.27s\tremaining: 5.13s\n",
      "11:\tlearn: 0.2655615\ttotal: 6.83s\tremaining: 4.55s\n",
      "12:\tlearn: 0.2576252\ttotal: 7.4s\tremaining: 3.98s\n",
      "13:\tlearn: 0.2525826\ttotal: 7.92s\tremaining: 3.39s\n",
      "14:\tlearn: 0.2479609\ttotal: 8.49s\tremaining: 2.83s\n",
      "15:\tlearn: 0.2443596\ttotal: 9.02s\tremaining: 2.25s\n",
      "16:\tlearn: 0.2410595\ttotal: 9.55s\tremaining: 1.69s\n",
      "17:\tlearn: 0.2383030\ttotal: 10.1s\tremaining: 1.12s\n",
      "18:\tlearn: 0.2358815\ttotal: 10.6s\tremaining: 560ms\n",
      "19:\tlearn: 0.2335310\ttotal: 11.2s\tremaining: 0us\n",
      "0:\tlearn: 0.6822479\ttotal: 9.73s\tremaining: 1m 27s\n",
      "1:\tlearn: 0.6715835\ttotal: 19.8s\tremaining: 1m 19s\n",
      "2:\tlearn: 0.6611651\ttotal: 30.2s\tremaining: 1m 10s\n",
      "3:\tlearn: 0.6508449\ttotal: 40.6s\tremaining: 1m\n",
      "4:\tlearn: 0.6411951\ttotal: 51.4s\tremaining: 51.4s\n",
      "5:\tlearn: 0.6317508\ttotal: 1m 1s\tremaining: 41s\n",
      "6:\tlearn: 0.6226428\ttotal: 1m 11s\tremaining: 30.7s\n",
      "7:\tlearn: 0.6133747\ttotal: 1m 21s\tremaining: 20.4s\n",
      "8:\tlearn: 0.6041005\ttotal: 1m 31s\tremaining: 10.2s\n",
      "9:\tlearn: 0.5951282\ttotal: 1m 41s\tremaining: 0us\n",
      "0:\tlearn: 0.6826408\ttotal: 10.4s\tremaining: 1m 33s\n",
      "1:\tlearn: 0.6720132\ttotal: 21s\tremaining: 1m 24s\n",
      "2:\tlearn: 0.6617424\ttotal: 31.4s\tremaining: 1m 13s\n",
      "3:\tlearn: 0.6515769\ttotal: 41.2s\tremaining: 1m 1s\n",
      "4:\tlearn: 0.6416659\ttotal: 51s\tremaining: 51s\n",
      "5:\tlearn: 0.6319348\ttotal: 1m\tremaining: 40.5s\n",
      "6:\tlearn: 0.6227776\ttotal: 1m 10s\tremaining: 30.3s\n",
      "7:\tlearn: 0.6131940\ttotal: 1m 21s\tremaining: 20.3s\n",
      "8:\tlearn: 0.6040896\ttotal: 1m 31s\tremaining: 10.1s\n",
      "9:\tlearn: 0.5952280\ttotal: 1m 40s\tremaining: 0us\n",
      "0:\tlearn: 0.6822693\ttotal: 10.1s\tremaining: 1m 30s\n",
      "1:\tlearn: 0.6718413\ttotal: 20.4s\tremaining: 1m 21s\n",
      "2:\tlearn: 0.6612464\ttotal: 30.7s\tremaining: 1m 11s\n",
      "3:\tlearn: 0.6510479\ttotal: 40.9s\tremaining: 1m 1s\n",
      "4:\tlearn: 0.6410601\ttotal: 50.9s\tremaining: 50.9s\n",
      "5:\tlearn: 0.6315528\ttotal: 1m\tremaining: 40.6s\n",
      "6:\tlearn: 0.6222082\ttotal: 1m 11s\tremaining: 30.4s\n",
      "7:\tlearn: 0.6129705\ttotal: 1m 20s\tremaining: 20.2s\n",
      "8:\tlearn: 0.6039355\ttotal: 1m 30s\tremaining: 10.1s\n"
     ]
    },
    {
     "name": "stdout",
     "output_type": "stream",
     "text": [
      "9:\tlearn: 0.5952489\ttotal: 1m 43s\tremaining: 0us\n",
      "0:\tlearn: 0.6824281\ttotal: 10.6s\tremaining: 1m 35s\n",
      "1:\tlearn: 0.6720151\ttotal: 21.7s\tremaining: 1m 26s\n",
      "2:\tlearn: 0.6613014\ttotal: 32.2s\tremaining: 1m 15s\n",
      "3:\tlearn: 0.6509707\ttotal: 42.6s\tremaining: 1m 3s\n",
      "4:\tlearn: 0.6410985\ttotal: 53.2s\tremaining: 53.2s\n",
      "5:\tlearn: 0.6313084\ttotal: 1m 3s\tremaining: 42.3s\n",
      "6:\tlearn: 0.6213215\ttotal: 1m 13s\tremaining: 31.5s\n",
      "7:\tlearn: 0.6119940\ttotal: 1m 23s\tremaining: 20.9s\n",
      "8:\tlearn: 0.6031351\ttotal: 1m 33s\tremaining: 10.4s\n",
      "9:\tlearn: 0.5948444\ttotal: 1m 44s\tremaining: 0us\n",
      "0:\tlearn: 0.6822976\ttotal: 10.7s\tremaining: 1m 36s\n",
      "1:\tlearn: 0.6714133\ttotal: 21.1s\tremaining: 1m 24s\n",
      "2:\tlearn: 0.6609335\ttotal: 31.2s\tremaining: 1m 12s\n",
      "3:\tlearn: 0.6509463\ttotal: 41.4s\tremaining: 1m 2s\n",
      "4:\tlearn: 0.6409306\ttotal: 51.7s\tremaining: 51.7s\n",
      "5:\tlearn: 0.6310143\ttotal: 1m 1s\tremaining: 41.2s\n",
      "6:\tlearn: 0.6218615\ttotal: 1m 12s\tremaining: 31.1s\n",
      "7:\tlearn: 0.6127230\ttotal: 1m 22s\tremaining: 20.7s\n",
      "8:\tlearn: 0.6037838\ttotal: 1m 33s\tremaining: 10.4s\n",
      "9:\tlearn: 0.5950188\ttotal: 1m 45s\tremaining: 0us\n",
      "0:\tlearn: 0.5916653\ttotal: 9.92s\tremaining: 1m 29s\n",
      "1:\tlearn: 0.5135448\ttotal: 21.2s\tremaining: 1m 24s\n",
      "2:\tlearn: 0.4507276\ttotal: 33.2s\tremaining: 1m 17s\n",
      "3:\tlearn: 0.4003768\ttotal: 43.6s\tremaining: 1m 5s\n",
      "4:\tlearn: 0.3629074\ttotal: 54s\tremaining: 54s\n",
      "5:\tlearn: 0.3335529\ttotal: 1m 4s\tremaining: 42.9s\n",
      "6:\tlearn: 0.3106396\ttotal: 1m 14s\tremaining: 31.9s\n",
      "7:\tlearn: 0.2911565\ttotal: 1m 25s\tremaining: 21.3s\n",
      "8:\tlearn: 0.2765907\ttotal: 1m 36s\tremaining: 10.7s\n",
      "9:\tlearn: 0.2641253\ttotal: 1m 46s\tremaining: 0us\n",
      "0:\tlearn: 0.5952976\ttotal: 9.9s\tremaining: 1m 29s\n",
      "1:\tlearn: 0.5148665\ttotal: 20s\tremaining: 1m 20s\n",
      "2:\tlearn: 0.4545354\ttotal: 30.1s\tremaining: 1m 10s\n",
      "3:\tlearn: 0.4063346\ttotal: 40.9s\tremaining: 1m 1s\n",
      "4:\tlearn: 0.3666035\ttotal: 51.2s\tremaining: 51.2s\n",
      "5:\tlearn: 0.3368915\ttotal: 1m 1s\tremaining: 41.2s\n",
      "6:\tlearn: 0.3137602\ttotal: 1m 11s\tremaining: 30.7s\n",
      "7:\tlearn: 0.2929302\ttotal: 1m 22s\tremaining: 20.5s\n",
      "8:\tlearn: 0.2778227\ttotal: 1m 32s\tremaining: 10.2s\n",
      "9:\tlearn: 0.2662298\ttotal: 1m 42s\tremaining: 0us\n",
      "0:\tlearn: 0.5919989\ttotal: 12.3s\tremaining: 1m 50s\n",
      "1:\tlearn: 0.5145914\ttotal: 25.2s\tremaining: 1m 40s\n",
      "2:\tlearn: 0.4522529\ttotal: 35.9s\tremaining: 1m 23s\n",
      "3:\tlearn: 0.4033756\ttotal: 46.3s\tremaining: 1m 9s\n",
      "4:\tlearn: 0.3659596\ttotal: 56.4s\tremaining: 56.4s\n",
      "5:\tlearn: 0.3361167\ttotal: 1m 7s\tremaining: 44.7s\n",
      "6:\tlearn: 0.3122671\ttotal: 1m 17s\tremaining: 33.3s\n",
      "7:\tlearn: 0.2936412\ttotal: 1m 27s\tremaining: 21.9s\n",
      "8:\tlearn: 0.2794281\ttotal: 1m 37s\tremaining: 10.9s\n",
      "9:\tlearn: 0.2677823\ttotal: 1m 47s\tremaining: 0us\n",
      "0:\tlearn: 0.5933128\ttotal: 10.8s\tremaining: 1m 36s\n",
      "1:\tlearn: 0.5131305\ttotal: 21s\tremaining: 1m 23s\n",
      "2:\tlearn: 0.4509372\ttotal: 31.4s\tremaining: 1m 13s\n",
      "3:\tlearn: 0.4019432\ttotal: 41.6s\tremaining: 1m 2s\n",
      "4:\tlearn: 0.3641424\ttotal: 51.8s\tremaining: 51.8s\n",
      "5:\tlearn: 0.3338223\ttotal: 1m 2s\tremaining: 41.4s\n",
      "6:\tlearn: 0.3107340\ttotal: 1m 12s\tremaining: 31.1s\n",
      "7:\tlearn: 0.2925182\ttotal: 1m 22s\tremaining: 20.7s\n",
      "8:\tlearn: 0.2763830\ttotal: 1m 33s\tremaining: 10.3s\n",
      "9:\tlearn: 0.2640839\ttotal: 1m 42s\tremaining: 0us\n",
      "0:\tlearn: 0.5922833\ttotal: 10.6s\tremaining: 1m 35s\n",
      "1:\tlearn: 0.5121967\ttotal: 20.4s\tremaining: 1m 21s\n",
      "2:\tlearn: 0.4508726\ttotal: 30.5s\tremaining: 1m 11s\n",
      "3:\tlearn: 0.4021248\ttotal: 40.9s\tremaining: 1m 1s\n",
      "4:\tlearn: 0.3649150\ttotal: 50.8s\tremaining: 50.8s\n",
      "5:\tlearn: 0.3344423\ttotal: 1m\tremaining: 40.6s\n",
      "6:\tlearn: 0.3117905\ttotal: 1m 10s\tremaining: 30.3s\n",
      "7:\tlearn: 0.2935883\ttotal: 1m 20s\tremaining: 20.1s\n",
      "8:\tlearn: 0.2788010\ttotal: 1m 30s\tremaining: 10.1s\n",
      "9:\tlearn: 0.2664311\ttotal: 1m 41s\tremaining: 0us\n",
      "0:\tlearn: 0.6822479\ttotal: 10.2s\tremaining: 3m 13s\n",
      "1:\tlearn: 0.6715835\ttotal: 20.1s\tremaining: 3m\n",
      "2:\tlearn: 0.6611651\ttotal: 29.9s\tremaining: 2m 49s\n",
      "3:\tlearn: 0.6508449\ttotal: 39.6s\tremaining: 2m 38s\n",
      "4:\tlearn: 0.6411951\ttotal: 49.6s\tremaining: 2m 28s\n",
      "5:\tlearn: 0.6317508\ttotal: 59.9s\tremaining: 2m 19s\n",
      "6:\tlearn: 0.6226428\ttotal: 1m 9s\tremaining: 2m 9s\n",
      "7:\tlearn: 0.6133747\ttotal: 1m 19s\tremaining: 1m 59s\n",
      "8:\tlearn: 0.6041005\ttotal: 1m 29s\tremaining: 1m 49s\n",
      "9:\tlearn: 0.5951282\ttotal: 1m 39s\tremaining: 1m 39s\n",
      "10:\tlearn: 0.5864223\ttotal: 1m 49s\tremaining: 1m 29s\n",
      "11:\tlearn: 0.5780086\ttotal: 1m 59s\tremaining: 1m 19s\n",
      "12:\tlearn: 0.5699948\ttotal: 2m 9s\tremaining: 1m 9s\n",
      "13:\tlearn: 0.5619222\ttotal: 2m 19s\tremaining: 59.7s\n",
      "14:\tlearn: 0.5540968\ttotal: 2m 29s\tremaining: 49.7s\n",
      "15:\tlearn: 0.5466381\ttotal: 2m 38s\tremaining: 39.7s\n",
      "16:\tlearn: 0.5390641\ttotal: 2m 49s\tremaining: 29.8s\n",
      "17:\tlearn: 0.5319288\ttotal: 2m 59s\tremaining: 19.9s\n",
      "18:\tlearn: 0.5250064\ttotal: 3m 10s\tremaining: 10s\n",
      "19:\tlearn: 0.5180608\ttotal: 3m 20s\tremaining: 0us\n",
      "0:\tlearn: 0.6826408\ttotal: 10.6s\tremaining: 3m 21s\n",
      "1:\tlearn: 0.6720132\ttotal: 20.7s\tremaining: 3m 6s\n",
      "2:\tlearn: 0.6617424\ttotal: 30.7s\tremaining: 2m 54s\n",
      "3:\tlearn: 0.6515769\ttotal: 41.2s\tremaining: 2m 44s\n",
      "4:\tlearn: 0.6416659\ttotal: 51.3s\tremaining: 2m 34s\n",
      "5:\tlearn: 0.6319348\ttotal: 1m 1s\tremaining: 2m 22s\n",
      "6:\tlearn: 0.6227776\ttotal: 1m 11s\tremaining: 2m 12s\n",
      "7:\tlearn: 0.6131940\ttotal: 1m 21s\tremaining: 2m 1s\n",
      "8:\tlearn: 0.6040896\ttotal: 1m 31s\tremaining: 1m 51s\n",
      "9:\tlearn: 0.5952280\ttotal: 1m 40s\tremaining: 1m 40s\n",
      "10:\tlearn: 0.5865608\ttotal: 1m 51s\tremaining: 1m 30s\n",
      "11:\tlearn: 0.5779809\ttotal: 2m 1s\tremaining: 1m 20s\n",
      "12:\tlearn: 0.5698226\ttotal: 2m 11s\tremaining: 1m 10s\n",
      "13:\tlearn: 0.5617173\ttotal: 2m 22s\tremaining: 1m 1s\n",
      "14:\tlearn: 0.5535588\ttotal: 2m 32s\tremaining: 50.9s\n",
      "15:\tlearn: 0.5461351\ttotal: 2m 43s\tremaining: 40.8s\n",
      "16:\tlearn: 0.5388824\ttotal: 2m 55s\tremaining: 30.9s\n",
      "17:\tlearn: 0.5314768\ttotal: 3m 5s\tremaining: 20.6s\n",
      "18:\tlearn: 0.5244904\ttotal: 3m 15s\tremaining: 10.3s\n",
      "19:\tlearn: 0.5176118\ttotal: 3m 26s\tremaining: 0us\n",
      "0:\tlearn: 0.6822693\ttotal: 11.8s\tremaining: 3m 43s\n",
      "1:\tlearn: 0.6718413\ttotal: 22.9s\tremaining: 3m 26s\n",
      "2:\tlearn: 0.6612464\ttotal: 33.9s\tremaining: 3m 11s\n",
      "3:\tlearn: 0.6510479\ttotal: 44.5s\tremaining: 2m 57s\n",
      "4:\tlearn: 0.6410601\ttotal: 55s\tremaining: 2m 44s\n",
      "5:\tlearn: 0.6315528\ttotal: 1m 5s\tremaining: 2m 33s\n",
      "6:\tlearn: 0.6222082\ttotal: 1m 16s\tremaining: 2m 22s\n",
      "7:\tlearn: 0.6129705\ttotal: 1m 28s\tremaining: 2m 12s\n",
      "8:\tlearn: 0.6039355\ttotal: 1m 40s\tremaining: 2m 2s\n",
      "9:\tlearn: 0.5952489\ttotal: 1m 50s\tremaining: 1m 50s\n",
      "10:\tlearn: 0.5867437\ttotal: 2m 1s\tremaining: 1m 39s\n",
      "11:\tlearn: 0.5783201\ttotal: 2m 11s\tremaining: 1m 27s\n",
      "12:\tlearn: 0.5702117\ttotal: 2m 22s\tremaining: 1m 16s\n",
      "13:\tlearn: 0.5621616\ttotal: 2m 32s\tremaining: 1m 5s\n",
      "14:\tlearn: 0.5543916\ttotal: 2m 44s\tremaining: 54.7s\n",
      "15:\tlearn: 0.5466823\ttotal: 2m 55s\tremaining: 43.8s\n",
      "16:\tlearn: 0.5390624\ttotal: 3m 6s\tremaining: 32.9s\n",
      "17:\tlearn: 0.5318471\ttotal: 3m 17s\tremaining: 21.9s\n",
      "18:\tlearn: 0.5248954\ttotal: 3m 28s\tremaining: 10.9s\n",
      "19:\tlearn: 0.5177506\ttotal: 3m 38s\tremaining: 0us\n",
      "0:\tlearn: 0.6824281\ttotal: 10.8s\tremaining: 3m 25s\n",
      "1:\tlearn: 0.6720151\ttotal: 21.2s\tremaining: 3m 10s\n",
      "2:\tlearn: 0.6613014\ttotal: 31.5s\tremaining: 2m 58s\n",
      "3:\tlearn: 0.6509707\ttotal: 41.9s\tremaining: 2m 47s\n",
      "4:\tlearn: 0.6410985\ttotal: 52.8s\tremaining: 2m 38s\n",
      "5:\tlearn: 0.6313084\ttotal: 1m 3s\tremaining: 2m 28s\n",
      "6:\tlearn: 0.6213215\ttotal: 1m 13s\tremaining: 2m 17s\n",
      "7:\tlearn: 0.6119940\ttotal: 1m 24s\tremaining: 2m 6s\n",
      "8:\tlearn: 0.6031351\ttotal: 1m 35s\tremaining: 1m 56s\n",
      "9:\tlearn: 0.5948444\ttotal: 1m 45s\tremaining: 1m 45s\n",
      "10:\tlearn: 0.5862162\ttotal: 1m 55s\tremaining: 1m 34s\n",
      "11:\tlearn: 0.5780093\ttotal: 2m 5s\tremaining: 1m 23s\n",
      "12:\tlearn: 0.5698204\ttotal: 2m 15s\tremaining: 1m 13s\n",
      "13:\tlearn: 0.5620307\ttotal: 2m 25s\tremaining: 1m 2s\n",
      "14:\tlearn: 0.5541182\ttotal: 2m 36s\tremaining: 52s\n",
      "15:\tlearn: 0.5467126\ttotal: 2m 45s\tremaining: 41.5s\n",
      "16:\tlearn: 0.5393686\ttotal: 2m 56s\tremaining: 31.1s\n",
      "17:\tlearn: 0.5323180\ttotal: 3m 5s\tremaining: 20.6s\n",
      "18:\tlearn: 0.5253046\ttotal: 3m 15s\tremaining: 10.3s\n",
      "19:\tlearn: 0.5185379\ttotal: 3m 26s\tremaining: 0us\n",
      "0:\tlearn: 0.6822976\ttotal: 10.1s\tremaining: 3m 11s\n",
      "1:\tlearn: 0.6714133\ttotal: 20s\tremaining: 2m 59s\n",
      "2:\tlearn: 0.6609335\ttotal: 30s\tremaining: 2m 49s\n",
      "3:\tlearn: 0.6509463\ttotal: 40.1s\tremaining: 2m 40s\n",
      "4:\tlearn: 0.6409306\ttotal: 50.7s\tremaining: 2m 32s\n",
      "5:\tlearn: 0.6310143\ttotal: 1m 1s\tremaining: 2m 23s\n",
      "6:\tlearn: 0.6218615\ttotal: 1m 13s\tremaining: 2m 16s\n",
      "7:\tlearn: 0.6127230\ttotal: 1m 24s\tremaining: 2m 6s\n",
      "8:\tlearn: 0.6037838\ttotal: 1m 35s\tremaining: 1m 56s\n",
      "9:\tlearn: 0.5950188\ttotal: 1m 45s\tremaining: 1m 45s\n"
     ]
    },
    {
     "name": "stdout",
     "output_type": "stream",
     "text": [
      "10:\tlearn: 0.5861026\ttotal: 1m 56s\tremaining: 1m 35s\n",
      "11:\tlearn: 0.5777336\ttotal: 2m 6s\tremaining: 1m 24s\n",
      "12:\tlearn: 0.5695842\ttotal: 2m 17s\tremaining: 1m 13s\n",
      "13:\tlearn: 0.5613453\ttotal: 2m 27s\tremaining: 1m 3s\n",
      "14:\tlearn: 0.5533554\ttotal: 2m 37s\tremaining: 52.6s\n",
      "15:\tlearn: 0.5457731\ttotal: 2m 48s\tremaining: 42.2s\n",
      "16:\tlearn: 0.5381613\ttotal: 3m 1s\tremaining: 31.9s\n",
      "17:\tlearn: 0.5310285\ttotal: 3m 12s\tremaining: 21.4s\n",
      "18:\tlearn: 0.5236949\ttotal: 3m 22s\tremaining: 10.7s\n",
      "19:\tlearn: 0.5170482\ttotal: 3m 33s\tremaining: 0us\n",
      "0:\tlearn: 0.5916653\ttotal: 10.2s\tremaining: 3m 14s\n",
      "1:\tlearn: 0.5135448\ttotal: 20.7s\tremaining: 3m 6s\n",
      "2:\tlearn: 0.4507276\ttotal: 31s\tremaining: 2m 55s\n",
      "3:\tlearn: 0.4003768\ttotal: 42.9s\tremaining: 2m 51s\n",
      "4:\tlearn: 0.3629074\ttotal: 55.6s\tremaining: 2m 46s\n",
      "5:\tlearn: 0.3335529\ttotal: 1m 5s\tremaining: 2m 33s\n",
      "6:\tlearn: 0.3106396\ttotal: 1m 16s\tremaining: 2m 22s\n",
      "7:\tlearn: 0.2911565\ttotal: 1m 27s\tremaining: 2m 10s\n",
      "8:\tlearn: 0.2765907\ttotal: 1m 37s\tremaining: 1m 59s\n",
      "9:\tlearn: 0.2641253\ttotal: 1m 48s\tremaining: 1m 48s\n",
      "10:\tlearn: 0.2544039\ttotal: 1m 59s\tremaining: 1m 38s\n",
      "11:\tlearn: 0.2467835\ttotal: 2m 10s\tremaining: 1m 27s\n",
      "12:\tlearn: 0.2397366\ttotal: 2m 23s\tremaining: 1m 17s\n",
      "13:\tlearn: 0.2339955\ttotal: 2m 34s\tremaining: 1m 6s\n",
      "14:\tlearn: 0.2296193\ttotal: 2m 47s\tremaining: 55.7s\n",
      "15:\tlearn: 0.2255893\ttotal: 2m 57s\tremaining: 44.5s\n",
      "16:\tlearn: 0.2213521\ttotal: 3m 8s\tremaining: 33.2s\n",
      "17:\tlearn: 0.2183150\ttotal: 3m 18s\tremaining: 22s\n",
      "18:\tlearn: 0.2151417\ttotal: 3m 28s\tremaining: 11s\n",
      "19:\tlearn: 0.2124146\ttotal: 3m 39s\tremaining: 0us\n",
      "0:\tlearn: 0.5952976\ttotal: 10.2s\tremaining: 3m 14s\n",
      "1:\tlearn: 0.5148665\ttotal: 20.8s\tremaining: 3m 7s\n",
      "2:\tlearn: 0.4545354\ttotal: 31.2s\tremaining: 2m 56s\n",
      "3:\tlearn: 0.4063346\ttotal: 41.3s\tremaining: 2m 45s\n",
      "4:\tlearn: 0.3666035\ttotal: 51.7s\tremaining: 2m 35s\n",
      "5:\tlearn: 0.3368915\ttotal: 1m 1s\tremaining: 2m 24s\n",
      "6:\tlearn: 0.3137602\ttotal: 1m 12s\tremaining: 2m 14s\n",
      "7:\tlearn: 0.2929302\ttotal: 1m 23s\tremaining: 2m 4s\n",
      "8:\tlearn: 0.2778227\ttotal: 1m 33s\tremaining: 1m 54s\n",
      "9:\tlearn: 0.2662298\ttotal: 1m 44s\tremaining: 1m 44s\n",
      "10:\tlearn: 0.2565940\ttotal: 1m 54s\tremaining: 1m 33s\n",
      "11:\tlearn: 0.2483108\ttotal: 2m 4s\tremaining: 1m 23s\n",
      "12:\tlearn: 0.2415498\ttotal: 2m 15s\tremaining: 1m 12s\n",
      "13:\tlearn: 0.2363757\ttotal: 2m 26s\tremaining: 1m 2s\n",
      "14:\tlearn: 0.2317574\ttotal: 2m 37s\tremaining: 52.4s\n",
      "15:\tlearn: 0.2275523\ttotal: 2m 47s\tremaining: 41.9s\n",
      "16:\tlearn: 0.2235589\ttotal: 2m 59s\tremaining: 31.6s\n",
      "17:\tlearn: 0.2196898\ttotal: 3m 10s\tremaining: 21.2s\n",
      "18:\tlearn: 0.2168753\ttotal: 3m 20s\tremaining: 10.6s\n",
      "19:\tlearn: 0.2142156\ttotal: 3m 31s\tremaining: 0us\n",
      "0:\tlearn: 0.5919989\ttotal: 12.8s\tremaining: 4m 3s\n",
      "1:\tlearn: 0.5145914\ttotal: 24.2s\tremaining: 3m 37s\n",
      "2:\tlearn: 0.4522529\ttotal: 35.8s\tremaining: 3m 22s\n",
      "3:\tlearn: 0.4033756\ttotal: 46.3s\tremaining: 3m 5s\n",
      "4:\tlearn: 0.3659596\ttotal: 56.9s\tremaining: 2m 50s\n",
      "5:\tlearn: 0.3361167\ttotal: 1m 7s\tremaining: 2m 37s\n",
      "6:\tlearn: 0.3122671\ttotal: 1m 17s\tremaining: 2m 23s\n",
      "7:\tlearn: 0.2936412\ttotal: 1m 27s\tremaining: 2m 11s\n",
      "8:\tlearn: 0.2794281\ttotal: 1m 38s\tremaining: 2m\n",
      "9:\tlearn: 0.2677823\ttotal: 1m 49s\tremaining: 1m 49s\n",
      "10:\tlearn: 0.2577030\ttotal: 2m\tremaining: 1m 38s\n",
      "11:\tlearn: 0.2487475\ttotal: 2m 10s\tremaining: 1m 26s\n",
      "12:\tlearn: 0.2424189\ttotal: 2m 20s\tremaining: 1m 15s\n",
      "13:\tlearn: 0.2365741\ttotal: 2m 30s\tremaining: 1m 4s\n",
      "14:\tlearn: 0.2318746\ttotal: 2m 41s\tremaining: 53.8s\n",
      "15:\tlearn: 0.2276110\ttotal: 2m 51s\tremaining: 43s\n",
      "16:\tlearn: 0.2233150\ttotal: 3m 2s\tremaining: 32.3s\n",
      "17:\tlearn: 0.2201023\ttotal: 3m 13s\tremaining: 21.5s\n",
      "18:\tlearn: 0.2166722\ttotal: 3m 24s\tremaining: 10.7s\n",
      "19:\tlearn: 0.2139956\ttotal: 3m 34s\tremaining: 0us\n",
      "0:\tlearn: 0.5933128\ttotal: 10.8s\tremaining: 3m 24s\n",
      "1:\tlearn: 0.5131305\ttotal: 21.7s\tremaining: 3m 14s\n",
      "2:\tlearn: 0.4509372\ttotal: 32.7s\tremaining: 3m 5s\n",
      "3:\tlearn: 0.4019432\ttotal: 43.5s\tremaining: 2m 54s\n",
      "4:\tlearn: 0.3641424\ttotal: 54.2s\tremaining: 2m 42s\n",
      "5:\tlearn: 0.3338223\ttotal: 1m 5s\tremaining: 2m 32s\n",
      "6:\tlearn: 0.3107340\ttotal: 1m 16s\tremaining: 2m 21s\n",
      "7:\tlearn: 0.2925182\ttotal: 1m 26s\tremaining: 2m 10s\n",
      "8:\tlearn: 0.2763830\ttotal: 1m 36s\tremaining: 1m 58s\n",
      "9:\tlearn: 0.2640839\ttotal: 1m 47s\tremaining: 1m 47s\n",
      "10:\tlearn: 0.2542421\ttotal: 1m 58s\tremaining: 1m 36s\n",
      "11:\tlearn: 0.2467635\ttotal: 2m 8s\tremaining: 1m 25s\n",
      "12:\tlearn: 0.2395925\ttotal: 2m 18s\tremaining: 1m 14s\n",
      "13:\tlearn: 0.2344249\ttotal: 2m 28s\tremaining: 1m 3s\n",
      "14:\tlearn: 0.2298917\ttotal: 2m 38s\tremaining: 52.9s\n",
      "15:\tlearn: 0.2253803\ttotal: 2m 49s\tremaining: 42.3s\n",
      "16:\tlearn: 0.2218392\ttotal: 2m 59s\tremaining: 31.7s\n",
      "17:\tlearn: 0.2187053\ttotal: 3m 10s\tremaining: 21.2s\n",
      "18:\tlearn: 0.2151649\ttotal: 3m 21s\tremaining: 10.6s\n",
      "19:\tlearn: 0.2126596\ttotal: 3m 32s\tremaining: 0us\n",
      "0:\tlearn: 0.5922833\ttotal: 10.5s\tremaining: 3m 19s\n",
      "1:\tlearn: 0.5121967\ttotal: 21.3s\tremaining: 3m 11s\n",
      "2:\tlearn: 0.4508726\ttotal: 31.6s\tremaining: 2m 58s\n",
      "3:\tlearn: 0.4021248\ttotal: 41.9s\tremaining: 2m 47s\n",
      "4:\tlearn: 0.3649150\ttotal: 52.4s\tremaining: 2m 37s\n",
      "5:\tlearn: 0.3344423\ttotal: 1m 3s\tremaining: 2m 27s\n",
      "6:\tlearn: 0.3117905\ttotal: 1m 13s\tremaining: 2m 16s\n",
      "7:\tlearn: 0.2935883\ttotal: 1m 24s\tremaining: 2m 6s\n",
      "8:\tlearn: 0.2788010\ttotal: 1m 35s\tremaining: 1m 56s\n",
      "9:\tlearn: 0.2664311\ttotal: 1m 45s\tremaining: 1m 45s\n",
      "10:\tlearn: 0.2566189\ttotal: 1m 56s\tremaining: 1m 35s\n",
      "11:\tlearn: 0.2478631\ttotal: 2m 8s\tremaining: 1m 25s\n",
      "12:\tlearn: 0.2410062\ttotal: 2m 19s\tremaining: 1m 15s\n",
      "13:\tlearn: 0.2347378\ttotal: 2m 31s\tremaining: 1m 5s\n",
      "14:\tlearn: 0.2301075\ttotal: 2m 42s\tremaining: 54.2s\n",
      "15:\tlearn: 0.2259058\ttotal: 2m 53s\tremaining: 43.5s\n",
      "16:\tlearn: 0.2222313\ttotal: 3m 5s\tremaining: 32.8s\n",
      "17:\tlearn: 0.2191096\ttotal: 3m 16s\tremaining: 21.9s\n",
      "18:\tlearn: 0.2159443\ttotal: 3m 27s\tremaining: 10.9s\n",
      "19:\tlearn: 0.2135751\ttotal: 3m 39s\tremaining: 0us\n",
      "0:\tlearn: 0.5940148\ttotal: 14.1s\tremaining: 4m 27s\n",
      "1:\tlearn: 0.5131526\ttotal: 28.1s\tremaining: 4m 13s\n",
      "2:\tlearn: 0.4518879\ttotal: 41.2s\tremaining: 3m 53s\n",
      "3:\tlearn: 0.4035614\ttotal: 54.1s\tremaining: 3m 36s\n",
      "4:\tlearn: 0.3649405\ttotal: 1m 6s\tremaining: 3m 18s\n",
      "5:\tlearn: 0.3346507\ttotal: 1m 18s\tremaining: 3m 3s\n",
      "6:\tlearn: 0.3103112\ttotal: 1m 30s\tremaining: 2m 48s\n",
      "7:\tlearn: 0.2917040\ttotal: 1m 43s\tremaining: 2m 34s\n",
      "8:\tlearn: 0.2749604\ttotal: 1m 55s\tremaining: 2m 20s\n",
      "9:\tlearn: 0.2635440\ttotal: 2m 9s\tremaining: 2m 9s\n",
      "10:\tlearn: 0.2539150\ttotal: 2m 24s\tremaining: 1m 58s\n",
      "11:\tlearn: 0.2460143\ttotal: 2m 38s\tremaining: 1m 45s\n",
      "12:\tlearn: 0.2395688\ttotal: 2m 52s\tremaining: 1m 33s\n",
      "13:\tlearn: 0.2336015\ttotal: 3m 8s\tremaining: 1m 20s\n",
      "14:\tlearn: 0.2289521\ttotal: 3m 21s\tremaining: 1m 7s\n",
      "15:\tlearn: 0.2249956\ttotal: 3m 34s\tremaining: 53.7s\n",
      "16:\tlearn: 0.2209155\ttotal: 3m 48s\tremaining: 40.3s\n",
      "17:\tlearn: 0.2179591\ttotal: 4m 1s\tremaining: 26.8s\n",
      "18:\tlearn: 0.2152515\ttotal: 4m 13s\tremaining: 13.4s\n",
      "19:\tlearn: 0.2124861\ttotal: 4m 26s\tremaining: 0us\n",
      "F1 TRAIN: 0.5626881115748008\n",
      "TIME TRAIN [s]: 279.018\n",
      "CPU times: total: 7h 51min 13s\n",
      "Wall time: 1h 6min 10s\n"
     ]
    },
    {
     "data": {
      "application/javascript": [
       "$(document).ready(\n",
       "    function() {\n",
       "        function appendUniqueDiv(){\n",
       "            // append a div with our uuid so we can check that it's already\n",
       "            // been sent and avoid duplicates on page reload\n",
       "            var notifiedDiv = document.createElement(\"div\")\n",
       "            notifiedDiv.id = \"8ed8bdbb-f9f9-45d4-b0aa-2133705f3ebe\"\n",
       "            element.append(notifiedDiv)\n",
       "        }\n",
       "\n",
       "        // only send notifications if the pageload is complete; this will\n",
       "        // help stop extra notifications when a saved notebook is loaded,\n",
       "        // which during testing gives us state \"interactive\", not \"complete\"\n",
       "        if (document.readyState === 'complete') {\n",
       "            // check for the div that signifies that the notification\n",
       "            // was already sent\n",
       "            if (document.getElementById(\"8ed8bdbb-f9f9-45d4-b0aa-2133705f3ebe\") === null) {\n",
       "                var notificationPayload = {\"requireInteraction\": false, \"icon\": \"/static/base/images/favicon.ico\", \"body\": \"CatBoostClassifier\"};\n",
       "                if (Notification.permission !== 'denied') {\n",
       "                    if (Notification.permission !== 'granted') { \n",
       "                        Notification.requestPermission(function (permission) {\n",
       "                            if(!('permission' in Notification)) {\n",
       "                                Notification.permission = permission\n",
       "                            }\n",
       "                        })\n",
       "                    }\n",
       "                    if (Notification.permission === 'granted') {\n",
       "                    var notification = new Notification(\"Jupyter Notebook\", notificationPayload)\n",
       "                    appendUniqueDiv()\n",
       "                    notification.onclick = function () {\n",
       "                        window.focus();\n",
       "                        this.close();\n",
       "                        };\n",
       "                    } \n",
       "                }     \n",
       "            }\n",
       "        }\n",
       "    }\n",
       ")\n"
      ],
      "text/plain": [
       "<IPython.core.display.Javascript object>"
      ]
     },
     "metadata": {},
     "output_type": "display_data"
    }
   ],
   "source": [
    "%%notify -m 'CatBoostClassifier'\n",
    "%%time\n",
    "\n",
    "# Обучение модели\n",
    "F1_TRAIN = fit_model(model, tf_idf_train, target_train)"
   ]
  },
  {
   "cell_type": "markdown",
   "id": "0dfb2ba6",
   "metadata": {},
   "source": [
    "### Проверка на тестовой выборки"
   ]
  },
  {
   "cell_type": "code",
   "execution_count": 500,
   "id": "74781b2f",
   "metadata": {
    "scrolled": true
   },
   "outputs": [
    {
     "name": "stdout",
     "output_type": "stream",
     "text": [
      "F1 VALID: 0.5572331460674157\n",
      "Предсказание: 0.04148356477412551\n",
      "CPU times: total: 1.05 s\n",
      "Wall time: 577 ms\n"
     ]
    }
   ],
   "source": [
    "%%time\n",
    "# Предсказание модели\n",
    "predictions, elapsed, F1_VALID = predict_model(model, tf_idf_test, target_test)"
   ]
  },
  {
   "cell_type": "code",
   "execution_count": 501,
   "id": "832f08ce",
   "metadata": {},
   "outputs": [
    {
     "data": {
      "text/plain": [
       "NAME                                                  CatBoostClassifier\n",
       "F1 TRAIN                                                        0.562688\n",
       "F1 VALID                                                        0.557233\n",
       "PREDICTIONS                                                     0.041484\n",
       "TIME TRAINING [s]                                              279.01843\n",
       "TIME PREDICTION [s]                                                0.547\n",
       "PARAMETRS              {'depth': 10, 'iterations': 20, 'learning_rate...\n",
       "Name: 3, dtype: object"
      ]
     },
     "metadata": {},
     "output_type": "display_data"
    }
   ],
   "source": [
    "# Зафиксируем результаты\n",
    "save_result('CatBoostClassifier', F1_TRAIN, F1_VALID, predictions, model.refit_time_, elapsed, model.best_params_, count_model, show_display=True)\n",
    "count_model+=1"
   ]
  },
  {
   "cell_type": "markdown",
   "id": "ae8af55a",
   "metadata": {},
   "source": [
    "### ROC-кривая"
   ]
  },
  {
   "cell_type": "code",
   "execution_count": 502,
   "id": "4929863e",
   "metadata": {},
   "outputs": [
    {
     "data": {
      "image/png": "[encoded data removed]",
      "text/plain": [
       "<Figure size 640x480 with 1 Axes>"
      ]
     },
     "metadata": {},
     "output_type": "display_data"
    },
    {
     "name": "stdout",
     "output_type": "stream",
     "text": [
      "ROC AUC: 0.8854663909826256\n"
     ]
    }
   ],
   "source": [
    "display_aus_roc(model, tf_idf_test, target_test)"
   ]
  },
  {
   "cell_type": "markdown",
   "id": "f2fbf13f",
   "metadata": {},
   "source": [
    "_*Примечание*_\n",
    "\n",
    "Интервал AUC и качество модели\n",
    "- 0,9 - 1,0 Отличное\n",
    "- 0,8 - 0,9 Очень хорошее\n",
    "- 0,7 - 0,8 Хорошее\n",
    "- 0,6 - 0,7 Среднее\n",
    "- 0,5 - 0,6 Неудовлетворительное"
   ]
  },
  {
   "cell_type": "markdown",
   "id": "085e1727",
   "metadata": {},
   "source": [
    "Здесь значение ROC-AUC тоже получилось очень хорошей, около 0,88"
   ]
  },
  {
   "cell_type": "markdown",
   "id": "af878dda",
   "metadata": {},
   "source": [
    "### График распределения плотности предсказанных и истинных значений"
   ]
  },
  {
   "cell_type": "code",
   "execution_count": 503,
   "id": "57d09335",
   "metadata": {},
   "outputs": [
    {
     "data": {
      "image/png": "[encoded data removed]",
      "text/plain": [
       "<Figure size 1000x500 with 1 Axes>"
      ]
     },
     "metadata": {},
     "output_type": "display_data"
    }
   ],
   "source": [
    "display_graph_predicted_and_target(target_train, predictions, F1_VALID, 1, 3)"
   ]
  },
  {
   "cell_type": "markdown",
   "id": "341c6353",
   "metadata": {},
   "source": [
    "Результат у моделей Бустинга тоже оказался неплохим, но все равно логическая регрессия лучше"
   ]
  },
  {
   "cell_type": "markdown",
   "id": "7e27a5c0",
   "metadata": {},
   "source": [
    "# Вывод"
   ]
  },
  {
   "cell_type": "code",
   "execution_count": 508,
   "id": "99cc510d",
   "metadata": {},
   "outputs": [
    {
     "data": {
      "application/javascript": [
       "$(document).ready(\n",
       "    function() {\n",
       "        function appendUniqueDiv(){\n",
       "            // append a div with our uuid so we can check that it's already\n",
       "            // been sent and avoid duplicates on page reload\n",
       "            var notifiedDiv = document.createElement(\"div\")\n",
       "            notifiedDiv.id = \"21157fce-f5dc-4c9f-a3e6-39f54c9dab40\"\n",
       "            element.append(notifiedDiv)\n",
       "        }\n",
       "\n",
       "        // only send notifications if the pageload is complete; this will\n",
       "        // help stop extra notifications when a saved notebook is loaded,\n",
       "        // which during testing gives us state \"interactive\", not \"complete\"\n",
       "        if (document.readyState === 'complete') {\n",
       "            // check for the div that signifies that the notification\n",
       "            // was already sent\n",
       "            if (document.getElementById(\"21157fce-f5dc-4c9f-a3e6-39f54c9dab40\") === null) {\n",
       "                var notificationPayload = {\"requireInteraction\": false, \"icon\": \"/static/base/images/favicon.ico\", \"body\": \"Total result\"};\n",
       "                if (Notification.permission !== 'denied') {\n",
       "                    if (Notification.permission !== 'granted') { \n",
       "                        Notification.requestPermission(function (permission) {\n",
       "                            if(!('permission' in Notification)) {\n",
       "                                Notification.permission = permission\n",
       "                            }\n",
       "                        })\n",
       "                    }\n",
       "                    if (Notification.permission === 'granted') {\n",
       "                    var notification = new Notification(\"Jupyter Notebook\", notificationPayload)\n",
       "                    appendUniqueDiv()\n",
       "                    notification.onclick = function () {\n",
       "                        window.focus();\n",
       "                        this.close();\n",
       "                        };\n",
       "                    } \n",
       "                }     \n",
       "            }\n",
       "        }\n",
       "    }\n",
       ")\n"
      ],
      "text/plain": [
       "<IPython.core.display.Javascript object>"
      ]
     },
     "metadata": {},
     "output_type": "display_data"
    }
   ],
   "source": [
    "%%notify -m \"Total result\"\n",
    "results = pd.DataFrame(results).T"
   ]
  },
  {
   "cell_type": "code",
   "execution_count": 509,
   "id": "cd052864",
   "metadata": {},
   "outputs": [
    {
     "data": {
      "text/html": [
       "<div>\n",
       "<style scoped>\n",
       "    .dataframe tbody tr th:only-of-type {\n",
       "        vertical-align: middle;\n",
       "    }\n",
       "\n",
       "    .dataframe tbody tr th {\n",
       "        vertical-align: top;\n",
       "    }\n",
       "\n",
       "    .dataframe thead th {\n",
       "        text-align: right;\n",
       "    }\n",
       "</style>\n",
       "<table border=\"1\" class=\"dataframe\">\n",
       "  <thead>\n",
       "    <tr style=\"text-align: right;\">\n",
       "      <th></th>\n",
       "      <th>NAME</th>\n",
       "      <th>F1 TRAIN</th>\n",
       "      <th>F1 VALID</th>\n",
       "      <th>PREDICTIONS</th>\n",
       "      <th>TIME TRAINING [s]</th>\n",
       "      <th>TIME PREDICTION [s]</th>\n",
       "      <th>PARAMETRS</th>\n",
       "    </tr>\n",
       "  </thead>\n",
       "  <tbody>\n",
       "    <tr>\n",
       "      <th>0</th>\n",
       "      <td>LogisticRegression</td>\n",
       "      <td>0.758226</td>\n",
       "      <td>0.779537</td>\n",
       "      <td>0.077618</td>\n",
       "      <td>9.80854</td>\n",
       "      <td>0.011</td>\n",
       "      <td>{'C': 10.0, 'penalty': 'l2'}</td>\n",
       "    </tr>\n",
       "    <tr>\n",
       "      <th>1</th>\n",
       "      <td>RandomForestClassifier</td>\n",
       "      <td>0.006391</td>\n",
       "      <td>0.019589</td>\n",
       "      <td>0.001004</td>\n",
       "      <td>2.05133</td>\n",
       "      <td>0.125</td>\n",
       "      <td>{'bootstrap': True, 'max_depth': 20, 'max_feat...</td>\n",
       "    </tr>\n",
       "    <tr>\n",
       "      <th>2</th>\n",
       "      <td>DecisionTreeClassifier</td>\n",
       "      <td>0.687463</td>\n",
       "      <td>0.688147</td>\n",
       "      <td>0.068352</td>\n",
       "      <td>32.837006</td>\n",
       "      <td>0.019</td>\n",
       "      <td>{'max_depth': 41, 'min_samples_leaf': 1}</td>\n",
       "    </tr>\n",
       "    <tr>\n",
       "      <th>3</th>\n",
       "      <td>CatBoostClassifier</td>\n",
       "      <td>0.562688</td>\n",
       "      <td>0.557233</td>\n",
       "      <td>0.041484</td>\n",
       "      <td>279.01843</td>\n",
       "      <td>0.547</td>\n",
       "      <td>{'depth': 10, 'iterations': 20, 'learning_rate...</td>\n",
       "    </tr>\n",
       "  </tbody>\n",
       "</table>\n",
       "</div>"
      ],
      "text/plain": [
       "                     NAME  F1 TRAIN  F1 VALID PREDICTIONS TIME TRAINING [s]  \\\n",
       "0      LogisticRegression  0.758226  0.779537    0.077618           9.80854   \n",
       "1  RandomForestClassifier  0.006391  0.019589    0.001004           2.05133   \n",
       "2  DecisionTreeClassifier  0.687463  0.688147    0.068352         32.837006   \n",
       "3      CatBoostClassifier  0.562688  0.557233    0.041484         279.01843   \n",
       "\n",
       "  TIME PREDICTION [s]                                          PARAMETRS  \n",
       "0               0.011                       {'C': 10.0, 'penalty': 'l2'}  \n",
       "1               0.125  {'bootstrap': True, 'max_depth': 20, 'max_feat...  \n",
       "2               0.019           {'max_depth': 41, 'min_samples_leaf': 1}  \n",
       "3               0.547  {'depth': 10, 'iterations': 20, 'learning_rate...  "
      ]
     },
     "execution_count": 509,
     "metadata": {},
     "output_type": "execute_result"
    }
   ],
   "source": [
    "# Смотрим все результаты обучения\n",
    "results"
   ]
  },
  {
   "cell_type": "code",
   "execution_count": 511,
   "id": "7440adcc",
   "metadata": {},
   "outputs": [
    {
     "data": {
      "text/html": [
       "<div>\n",
       "<style scoped>\n",
       "    .dataframe tbody tr th:only-of-type {\n",
       "        vertical-align: middle;\n",
       "    }\n",
       "\n",
       "    .dataframe tbody tr th {\n",
       "        vertical-align: top;\n",
       "    }\n",
       "\n",
       "    .dataframe thead th {\n",
       "        text-align: right;\n",
       "    }\n",
       "</style>\n",
       "<table border=\"1\" class=\"dataframe\">\n",
       "  <thead>\n",
       "    <tr style=\"text-align: right;\">\n",
       "      <th></th>\n",
       "      <th>NAME</th>\n",
       "      <th>F1 TRAIN</th>\n",
       "      <th>F1 VALID</th>\n",
       "      <th>PREDICTIONS</th>\n",
       "      <th>TIME TRAINING [s]</th>\n",
       "      <th>TIME PREDICTION [s]</th>\n",
       "      <th>PARAMETRS</th>\n",
       "    </tr>\n",
       "  </thead>\n",
       "  <tbody>\n",
       "    <tr>\n",
       "      <th>0</th>\n",
       "      <td>LogisticRegression</td>\n",
       "      <td>0.758226</td>\n",
       "      <td>0.779537</td>\n",
       "      <td>0.077618</td>\n",
       "      <td>9.80854</td>\n",
       "      <td>0.011</td>\n",
       "      <td>{'C': 10.0, 'penalty': 'l2'}</td>\n",
       "    </tr>\n",
       "  </tbody>\n",
       "</table>\n",
       "</div>"
      ],
      "text/plain": [
       "                 NAME  F1 TRAIN  F1 VALID PREDICTIONS TIME TRAINING [s]  \\\n",
       "0  LogisticRegression  0.758226  0.779537    0.077618           9.80854   \n",
       "\n",
       "  TIME PREDICTION [s]                     PARAMETRS  \n",
       "0               0.011  {'C': 10.0, 'penalty': 'l2'}  "
      ]
     },
     "execution_count": 511,
     "metadata": {},
     "output_type": "execute_result"
    }
   ],
   "source": [
    "# Нам интересует F1 не менее 0.75, тогда\n",
    "best_results = results[results['F1 VALID'] > 0.75]\n",
    "best_results"
   ]
  },
  {
   "cell_type": "markdown",
   "id": "dcf32057",
   "metadata": {},
   "source": [
    "Самой лучшей моделей является LogisticRegression - F1 на тестовой выборки составляет `0.77`, а скорость обучения составляет аж **10 секунды**, время предсказания - **0,01 секунда**. \n",
    "\n",
    "Вполне очень акдеватный результат, чтобы выбрать эту модель для реализации. \n",
    "\n",
    "Есть другая модель, но, к сожалению, не попал в топ, т.к. метрика F1 ниже заявленного - `0,75`."
   ]
  },
  {
   "cell_type": "markdown",
   "id": "2963fd7b",
   "metadata": {},
   "source": [
    "# Машинное обучение с BERT"
   ]
  },
  {
   "cell_type": "markdown",
   "id": "3b71ddcf",
   "metadata": {},
   "source": [
    "## Установка библиотеки"
   ]
  },
  {
   "cell_type": "code",
   "execution_count": 412,
   "id": "9648b642",
   "metadata": {},
   "outputs": [],
   "source": [
    "import os\n",
    "import shutil\n",
    "\n",
    "# Библиотеки для обучения с применением технологий BERT\n",
    "import tensorflow as tf\n",
    "import tensorflow_hub as hub\n",
    "import tensorflow_text as text\n",
    "from transformers import BertTokenizer\n",
    "# Чтобы создать AdamW оптимизацию\n",
    "from official.nlp import optimization  \n",
    "\n",
    "tf.get_logger().setLevel('ERROR')"
   ]
  },
  {
   "cell_type": "markdown",
   "id": "a3b4b104",
   "metadata": {},
   "source": [
    "## Получение датасета"
   ]
  },
  {
   "cell_type": "code",
   "execution_count": 367,
   "id": "f40592b0",
   "metadata": {},
   "outputs": [],
   "source": [
    "# Получаем csv файл через ссылки\n",
    "toxic_comments_path = tf.keras.utils.get_file(\"toxic_comments.csv\", 'https://code.s3.yandex.net/datasets/toxic_comments.csv')"
   ]
  },
  {
   "cell_type": "code",
   "execution_count": 368,
   "id": "142ed19c",
   "metadata": {},
   "outputs": [
    {
     "data": {
      "text/plain": [
       "'C:\\\\Users\\\\Papin\\\\.keras\\\\datasets\\\\toxic_comments.csv'"
      ]
     },
     "execution_count": 368,
     "metadata": {},
     "output_type": "execute_result"
    }
   ],
   "source": [
    "# Адрес хранения csv файла\n",
    "toxic_comments_path"
   ]
  },
  {
   "cell_type": "code",
   "execution_count": 434,
   "id": "f95a794e",
   "metadata": {},
   "outputs": [],
   "source": [
    "AUTOTUNE = tf.data.AUTOTUNE\n",
    "batch_size = 32\n",
    "\n",
    "toxic_comments_csv_ds = tf.data.experimental.make_csv_dataset(\n",
    "    'toxic_comments.csv',\n",
    "    label_name='',\n",
    "    batch_size=batch_size,\n",
    "    num_epochs=1,\n",
    "    ignore_errors=True)"
   ]
  },
  {
   "cell_type": "markdown",
   "id": "fb8181b8",
   "metadata": {},
   "source": [
    "Просмотр текстов"
   ]
  },
  {
   "cell_type": "code",
   "execution_count": 435,
   "id": "e5e2ee01",
   "metadata": {
    "scrolled": true
   },
   "outputs": [
    {
     "name": "stdout",
     "output_type": "stream",
     "text": [
      "text                : [b\"I don't understand your use of English, please be more clear. Anything abusive or pornographic must have been added by a different user. I looked at the edit history and found nothing distressing, I only restored what was there before without adding anything that might distress you or anybody else. If restoring the relationship distresses you because you have a personal issue with the person who originally added it in which is distressing to you, I appolegies, but I insist that added no distressing content.\\n\\nAlso, please show me this consensus. It was not listed on the talk page and there was no link to it. Unless I have a link, I am afraid that I can take this as nothing but your words which I can take no other way than being words.\"\n",
      " b'Mereger? \\n\\nPlease explain why you merged an article which was deleted into this article? Most of it is OR and has no place in an article whatsoever.'\n",
      " b'pervert, \\n\\nps karl swithwnbank wrothe this not littledan9999'\n",
      " b\"Salvinorin A Effects and Kappa Agonism\\nHi cacycle, I've responded to your message on Talk:Salvinorin-A.   22:22, 6 Feb 2005 (UTC)\"\n",
      " b\"Stop pushing POV here. Only The Hindu speculated (without source) 250 crore as revenue. Remember Enthiran is the biggest grosser in Tamil, not Dasa. Taran Adarsh estimated Enthiran's gross at 255.5 crore. So, Dasa must be lower than that.\"\n",
      " b'\"\\n\\nyeah, so is there like some huge behind the scenes society that edits and checks every single thing on wikipedia? you people talk of writing articles as if its your job. Whenever I vandalize, it gets turned back like 2 seconds later by another human user. B4 stuff would stay on for days! Educators keep touting how crappy wiki is because \"\"anybody\"\" can change it. Except for the fact that 99% are helpful users plus the fact that it gets reverted in a flash. anyways.........\\n\\noh: Harvard/MIT. a 7th grader who \"\"aspires\"\" to go to a name school + asian = harsh parents \\n\\nAbductive reasoning\"'\n",
      " b\"Respectfully Bell's theorem is not empirical evidence, it is not compelling to me and it is disputed as a proof.  I have not seen any compelling evidence that Eisenstein was wrong about his criticism of quantum mechanics.  He did not say it was not an outstanding and extremely successful model, He just said some of the theory behind it can not be correct, the theory is incomplete.  Heisenberg was a cocky Nazi scientist who was badly off in his calculations related to A-Bomb creation, and I don\\xe2\\x80\\x99t know why people wish to believe what they don\\xe2\\x80\\x99t them selves comprehend.  It escapes me and lessens my faith in their judgment.\"\n",
      " b'You go away you loser. Way to standup for you boyfriend Blueboy96. Make me go away.'\n",
      " b'\"\\nOops, misunderstood you *blushes*.  Silly me!  I haven\\'t thought of the idea, but that\\'s certainly a new way to prevent imposters.  I\\'ll think about it ). Thanks for watching out for me. ^_^ *hugs MoP* \\xe2\\x80\\x94ln \"'\n",
      " b'Locking this page would also violate WP:NEWBIES.  Whether you like it or not, conservatives are Wikipedians too.'\n",
      " b\"Several NCAA Brackets Posted \\n\\nI did some work to address the issues you raised, and I've uploaded/linked in several sample tournament pages. See 1946 NCAA Men's Division I Basketball Tournament, which has an infobox at the bottom. I added one tourney page for each full decade of the NCAA Tournament. Barring any huge objections, I'd like to add the remaining 50+ pages tonight.\"\n",
      " b\"As someone else who works in this building, I'm now annoyed that I can't edit wikipedia -(\"\n",
      " b'\"\\n\\n Talk:Case Closed \\n\\nI think instead of Template:Round in Circles, we should set up a Template:Recurring_themes... di Curtisi di Salvadori \"'\n",
      " b\"C.D. Strand - Ranking The President (2003) \\n\\nI found this ranking, but I am having some difficulty adding it with the coding place.  Could someone add it?  Here's the link to poll  http://www.cdstrand.com/areas/essays/presranks.htm\"\n",
      " b'Censorship on Islamist Terrorism\\n\\nTry not being a censor monger. Properly cited information should not be deleted.'\n",
      " b'I agree.  Without more information about jinfo it is impossible to ascertain whether it is a reliable source and evidence from it alone does not satisfy the requirements of WP:V.'\n",
      " b'Image:Dvcode giftset box.jpg \\n\\nPlease write a detailed fair use rationale for this image.'\n",
      " b'thanks for that that answer my one query but second query is still there i am backing by request with a petition [click to see Petition], I am also against censor but still book are rated.'\n",
      " b\"Flappy Bird \\n\\nI've corrected all your grammar and prose related queries to the article, and soon get round to some of the controversies on its violence (of which I was completely unaware!). It was a joy to be marked by you, such a pleasant and happy man. Have a nice day\"\n",
      " b'Thank you for experimenting with the page April 26 on Wikipedia. Your test worked, and has been reverted or removed. Please use the sandbox for any other tests you want to do. Take a look at the welcome page if you would like to learn more about contributing to our encyclopedia.  A link to the edit I have reverted can be found here: link. If you believe this edit should not have been reverted, please contact me.'\n",
      " b\"Main Page balance \\n\\nRegarding this edit, are you certain that removing it improves main page balance, even after the latest DYK update   which is slightly longer than the one preceding it? It doesn't seem that way to me, having checked on both Firefox and Internet Explorer. Perhaps it has to do with our font size difference?\"\n",
      " b\"Norton Motorcycle Company\\nI have reverted your addition to Norton Motorcycle Company as such commentary belongs on the article's talk page. I would also encourage you to read WP:OR, which deals with original research - something that is expressly forbidden on WIkipedia. Any questions, feel free to ask.\"\n",
      " b'C.Mulroney \\n\\nI saw that you supported the Caroline Mulroney article a year ago. However, I have re-nominated it for deletion. Just letting you know.'\n",
      " b'\"\\n\\n Question about lede \\n\\nWas this house the largest private residence in the city or just on the North Side?  If the former, there should be a comma bewteen \"\"Illinois\"\" and \"\"located.\"\"  \"'\n",
      " b\"Considering this article is about a Canadian train, used only in Canada, I don't see the point in using both unit systems. More so when the conversion between them does not work (i.e. the mileage per gallon versus the litres per 100 km). Moreover, Canada is using the metric system since the 1970's; therefore, the engineering specifications are probably in metric units as required by law. Anyways, that's my two cents on the issue. 75.98.19.140\"\n",
      " b'Im not sure what broke, but until its fixed ill stop running it. (unless Im manually watching it and checking its edits) \\xce\\xb2command'\n",
      " b\"MfD nomination of Wikipedia:Try your best\\nWikipedia:Try your best, a page you substantially contributed to, has been nominated for deletion. Your opinions on the matter are welcome; please participate in the discussion by adding your comments at Wikipedia:Miscellany for deletion/Wikipedia:Try your best  and please be sure to sign your comments with four tildes (~~~~).  You are free to edit the content of Wikipedia:Try your best during the discussion but should not remove the miscellany for deletion template from the top of the page; such a removal will not end the deletion discussion.  Thank you. '''' contributions talk\"\n",
      " b\"OK let's meet for a beer. Name the place and time.\"\n",
      " b'its punk rock - they say so themselves!!!!'\n",
      " b'\"\\n\\nRegarding the page Bohemia, please stop. If you continue to vandalize pages, you will be blocked from editing Wikipedia.   p \"'\n",
      " b'Template:WW Xbox ==\\n\\nI put a temporary image in, but now the userbox is too tall. If possible can you try and fix it to be the same height as Template:User WPVG? Thanks. P.S. I started  in solidarity.   \\n\\n=='\n",
      " b\"The map can easily be shown this way  with the Golan sqarely in Israel. That's my POV but I recognize that I have to deal with the community so In the interest and spirit of compromise, I would accept this version\"]\n",
      "-------------------------------------------------------------------------------------------------------------------------------\n",
      "toxic               : [0 0 1 0 0 0 0 1 0 0 0 0 0 0 0 0 0 0 0 0 0 0 0 0 0 0 0 0 0 0 0 0]\n",
      "-------------------------------------------------------------------------------------------------------------------------------\n",
      "===============================================================================================================================\n",
      "\n",
      "label               : [3395 2513 4330 7677 4920 8280 5555 1045 1705   60 1204 2795 3651 2459\n",
      "  511 2073 3817 5355 8164 2953 4856 8977 6820 5510 9053 3674  326 7145\n",
      " 9413 6957 3067 8778]\n"
     ]
    }
   ],
   "source": [
    "for batch, label in toxic_comments_csv_ds.take(1):\n",
    "    for key, value in batch.items():\n",
    "        print(f\"{key:20s}: {value}\")\n",
    "        print('-'*127)\n",
    "    print('='*127)\n",
    "    print('')\n",
    "    print(f\"{'label':20s}: {label}\")"
   ]
  },
  {
   "cell_type": "code",
   "execution_count": 436,
   "id": "666a314f",
   "metadata": {},
   "outputs": [
    {
     "data": {
      "text/plain": [
       "<PrefetchDataset element_spec=(OrderedDict([('text', TensorSpec(shape=(None,), dtype=tf.string, name=None)), ('toxic', TensorSpec(shape=(None,), dtype=tf.int32, name=None))]), TensorSpec(shape=(None,), dtype=tf.int32, name=None))>"
      ]
     },
     "execution_count": 436,
     "metadata": {},
     "output_type": "execute_result"
    }
   ],
   "source": [
    "toxic_comments_csv_ds"
   ]
  },
  {
   "cell_type": "markdown",
   "id": "2cd8400b",
   "metadata": {},
   "source": [
    "##  Деление на обучающей и тестовой выборки"
   ]
  },
  {
   "cell_type": "code",
   "execution_count": 437,
   "id": "14cac6c7",
   "metadata": {},
   "outputs": [],
   "source": [
    "# Разделим обучающую и валидцаионную, тестовую выборку в соотношение 60:40\n",
    "train, test = train_test_split(df, test_size=0.2, random_state=12345)"
   ]
  },
  {
   "cell_type": "code",
   "execution_count": 438,
   "id": "c21d44ee",
   "metadata": {},
   "outputs": [
    {
     "name": "stdout",
     "output_type": "stream",
     "text": [
      "Размер обучающей выборки: 0.8 %\n",
      "Размер тестовой выборки: 0.2 %\n"
     ]
    }
   ],
   "source": [
    "print('Размер обучающей выборки:', round(train.shape[0] / df.shape[0], 3), '%')\n",
    "print('Размер тестовой выборки:', round(test.shape[0] / df.shape[0], 3), '%')"
   ]
  },
  {
   "cell_type": "code",
   "execution_count": 439,
   "id": "b4eb3c62",
   "metadata": {},
   "outputs": [],
   "source": [
    "# Cохраняим файлы\n",
    "train.to_csv(r\"toxic_comments_train.csv\")\n",
    "test.to_csv(r\"toxic_comments_test.csv\")"
   ]
  },
  {
   "cell_type": "code",
   "execution_count": 440,
   "id": "f003840b",
   "metadata": {},
   "outputs": [],
   "source": [
    "AUTOTUNE = tf.data.AUTOTUNE\n",
    "batch_size = 32\n",
    "\n",
    "toxic_comments_csv_ds_train = tf.data.experimental.make_csv_dataset(\n",
    "    'toxic_comments_train.csv',\n",
    "    label_name='',\n",
    "    batch_size=batch_size,\n",
    "    num_epochs=1,\n",
    "    ignore_errors=True)\n",
    "\n",
    "toxic_comments_csv_ds_test = tf.data.experimental.make_csv_dataset(\n",
    "    'toxic_comments_test.csv',\n",
    "    label_name='',\n",
    "    batch_size=batch_size,\n",
    "    num_epochs=1,\n",
    "    ignore_errors=True)"
   ]
  },
  {
   "cell_type": "markdown",
   "id": "7a624394",
   "metadata": {},
   "source": [
    "Просмотр текстов обучающей выборки"
   ]
  },
  {
   "cell_type": "code",
   "execution_count": 441,
   "id": "7a0bac8f",
   "metadata": {
    "scrolled": true
   },
   "outputs": [
    {
     "name": "stdout",
     "output_type": "stream",
     "text": [
      "text                : [b\"Hello \\n\\nI just thought I'd let you know that I say your article Architectural Science Review in the New Articles listThe information is presented clearly and is easy to understand. However, I think the article seems to contain a few errors: the article does not contain in-line citations, and so doesn't follow Wikipedia style guidelines.\\nIt would be great if you could also improve the related article List of academic journals.\"\n",
      " b'\"\\n\\n 8 reverts \\n\\nI did not make any reverts. The 8 reverts I was talking about was done by Levine2112.  \"'\n",
      " b'\"\\n I won\\'t appeal this block, but at least make this a fair block by blocking that nuisance yourself. He started it with that mocking.  Holla at me!  \"'\n",
      " b'i didnt think you would have a response for that'\n",
      " b'\" 2009 (UTC)\\nTemplating The 500 Greatest Songs of All Time\\nThanks for soliciting my opinion. There seems to be little support for adding awards and such to infoboxes:\\nInfobox Musical artist\\nAnd templates for awards of the \"\"magazine\\'s top ten list\"\" type tend to be deleted:\\nDown Beat Jazz Hall of Fame inductees\\nI don\\'t have a strong opinion in the matter, but it seems the general preference is to not have awards templated at all, but rather mentioned in the article body text where appropriate, and omitted when such mention gives undue weight to the award. If a template like this is to gain acceptance, it needs to be less intrusive. Putting the 500 Greatest list in the article infobox is the most intrusive possible placement, suggesting that Rolling Stone\\'s perspective on a record is as essential an element as the release date\\xe2\\x80\\x94even I consider that undue weight.\\n\\nIf you still want to try this, my suggestion would be a collapsible box placed much lower in the article, the way  is placed at the bottom of Miles Davis. However, it might be a good idea to seek feedback on Wikipedia talk:WikiProject Songs before putting much work into this. /  \\xe2\\x98\\xba \\xe2\\x98\\xad 17:00, 1 May\"'\n",
      " b'Song \\n\\nN-E-T-T-O Netto is the place to go, shop all day shop all night come home with a bag of shite!'\n",
      " b'07-Nov-2006\\n\\nRegarding edits made during November 7 2006 (UTC) to Thomas Hobbes\\nThank you for experimenting with  Wikipedia. Your test worked, and it has been reverted or removed. Please use the sandbox for any other tests you may want to do. Take a look at the welcome page to learn more about contributing to our encyclopedia. If this is an IP address, and it is shared by multiple users, ignore this warning if you did not make any unconstructive edits.'\n",
      " b'6: Do not EVER edit my rules.'\n",
      " b'With this question, you can refer to one  from these editor!MrPenguin20 or Kami888'\n",
      " b'experienced the same problem and thought the same thing lol.'\n",
      " b'\"\\nWell, rocks can hurt people.  Has anyone ever been killed by cheese though? .... wha? .... oh you knew the Daily Mail would be on the case.\\'\\'\\'\\'\\'\\' \\xe2\\x80\\xa2 hasspoken \"'\n",
      " b'\"\\n\\nHi\\n\\nI was a vandal attacking \\xce\\xb1\\xce\\xaf\\xce\\xb4\\xce\\xb5\\xce\\xb9\\xce\\xb1* \"'\n",
      " b'\"\\nAs far as from the time of hoaxing the WP you\\'ve change some Armstrong ref to Orest one - still unclear were in Armstrong Paradoxically, the division therefore often included volunteers wanting to fight for Ukraine who were averse to the extreme fascist ideology underpinning Bandera\\'s OUN and therefore reluctant to join the ranks of the Ukrainian Insurgent Army (UPA) Why \"\"Among its members was a son of Mstyslav Skrypnyk, the Orthodox Bishop of Kiev\"\" - who appead in SS as of June 30 1944 - included in the Spring 1943 section. Were is prove for Ukrainian Orthodox chaplains in the Division? Sheptytskyy not belonged to Ukrainian Orthodox etc.Thank you   \"'\n",
      " b\"Administrators' noticeboard/Incidents post \\n\\nI have mentioned you in an  Administrators' noticeboard/Incidents post24.15.78.1\"\n",
      " b'I have been very close to following the example of User:The Thunderer, who packed WP in, following what he perceived as bullying by Domer48 and one of his allies, Big Dunc.'\n",
      " b\"It wasn't Mkil, just someone sick of all your $h1T. And just for future reference learn how to write before you make edits to an encyclopedia, you make yourself look like a fool, because your illiterate. And SIGN your posts. You've been making harrassing edits for years and you even failed at that.  Such a simple thing as signing your posts and you still can't get it right.  I'll bet you were dropped on your head as a child weren't you?  No need to answer that your writing style gives it away.138.162.128.53\"\n",
      " b\"Point one: The anomalous status of Palestinian refugees and of UNRWA is a result of historical contingency, not some imagined antisemitic double standard. The original intention of UNRWA was to abate the immediate humanitarian situation, then help Palestinians integrate into their new host countries. Palestinian refugees generally refused integration, as did host countries and donors, which is why UNRWA eventually gave up on integrating them. It is correct to call this a political decision rather than a strictly humanitarian one, but the alternative - pressing for integration - would also be a political decision rather than a strictly humanitarian one, so cries of UNRWA's politicization are fairly silly.\\nWhat this means for the article: The anomalous situation of Palestinian refugees should be mentioned, but not at every turn, not in the second paragraph of the lede, and not in a fashion which boosts the Israeli government's view of UNRWA over other views.\"\n",
      " b'Hi Deskana. I have replied to Jitse on his talk page; take a look. \\xc3\\x97'\n",
      " b'REDIRECT Talk:Re Umberto-class ironclad'\n",
      " b'\"\\n\\n Khwarizmi being Persian: Original research, which has nothing to do with Wikipedia \\n\\nLet\\'s look into the Persians\\' claims, shall we?\\n\\nZmmz lists Merriam-Webster with this quote: \"\"Function: biographical name circa 780-circa 850 Muhammad ibn MusA al-KhwArizmI Islamic (Persian-born) mathematician & astronomer; one of the greatest scientific minds of Islam; source of much of mathematical knowledge of medieval Europe\"\".\\n\\n Notice, it says \"\"Persian-born\"\" in parantheses, and gives Islamic as the nationality. Basically, they defined him by religion and stated his place of birth. He was born in Khwarizm, in the Khorasan province. At the time of his birth, it was part of the Arab Islamic Caliphate, now it\\'s part of the Uzbegistan nation-state. Alas, Persians burnt us saying that it\\'s in fact Persian, so let\\'s take it as Persian. Now, according to sources cited by Heja Helwada, Khorasan in general had a huge Arab population. In accordance to that, defining him as Persian simply because he was born in Khorasan, is not only disputed at best, it also constitutes OR(original research) which is against Wiki\\'s policy, see: WP:NOR\\n\\nA troll showed up lately and claimed that Arabs are fighting a losing battle, I\\'m not sure we\\'re in a battle-field here, but I got the gist: he thinks we have no sources...poor little guy!\\n\\nSources that state he\\'s explicitly an Arab:\\n\\nhttp://www.bartleby.com/65/al/AlKhowar.html\\n\\nhttp://uk.encarta.msn.com/text_761560322___0/Khwarizmi_al-.html\\n\\nhttp://www.britannica.com/ebi/article-9311992\\n\\nWho\\'s losing the \"\"battle\"\" now, I wonder? \"'\n",
      " b'Real funny keeping sum1 blocked so they cant vote. dont move this article and it needs a bunch of cleanup and a whole lot of stuff you removed put back including the thing from the pentagon. theres no concenss and whoever put up that infobox was lying. and im pissed about your bs removing my comments from here too'\n",
      " b'\"\\nCongratulations! How does it feel to be one of the beautiful people? Three \"'\n",
      " b'fucking nob knight. Now fuck off and go vandalise something else fuck face'\n",
      " b'Actually, that is just an example of someone using the expression in a non-redundent manner.  It happens so infrequently that you were able to cite it as an example.  Congratulations, you get a cookie.'\n",
      " b\"ref 31 \\n\\nref 31 is messed up.  You have the same name for two different refs.  For that matter, still don't like mentioning radon, this high up.  Will move down.  Water and the like are substances (should not be wikilinked) that reader will understand as commonly nonreactive.  Radon is not something that the common reader thinks of for it's chemistry (more for its radiation).  Also, as it is so far down the table, not as surprising that it makes compounds.  71.246.147.40\"\n",
      " b'\"\\n\\n\\\\o/ Beer! Wait...I participated? ^_^ \\'\\'\\'\\'\\'\\'ergy \"'\n",
      " b'\"\\n\\nThanks\\nThanks for reverting the vandalism on my talk page. \\'\\'\\' 24/7\\'\\'\\' (C) \"'\n",
      " b'\"\\n\\n RE: Tables \\n\\nAh, the joys of tables! I\\'ve always used DIVs and CSS for website layouts, so wikicode\\'s HTML-like table code was all greek to me, but thankfully it\\'s pretty simple to get the hang of ^_^ Help:Table has basically everything you could need, if you have any questions on the specifics, let me know!\\nDIV tags work exactly as they do in HTML, so to add inline CSS code you can just do Foobar\\nUserboxes are really really easy to do; either just add the template of the userbox you want to your page (e.g {{user AGF}}), or to make your own just use the Userbox template (e.g {{subst:Userbox|id=|id-c=#d0e5f5|id-fc=#000|id-s=16|info=This user is , who is learning userboxes!|info-c=#f1f5fc|info-fc=#000|info-s=8|border-c=#abd5f5|border-s=1}}\\nPersonally I always use the Userbox template and (re)make my own userboxes, because not all ready-made userboxes are the same size, and when some are larger than others I think it looks messy. Also, I like to have them all using my colour scheme ^_^ But it\\'s really just down to personal preference.\\n{{user AGF}} will give you: \\nAnd {{subst:Userbox|id=|id-c=#d0e5f5|id-fc=#000|id-s=16|info=This user is , who is learning userboxes!|info-c=#f1f5fc|info-fc=#000|info-s=8|border-c=#abd5f5|border-s=1}} will give you \\n\\n Hope you got that, and merry Christmas! talk \"'\n",
      " b\"Latin was popular throughout Europe during the times when this calender was learned (especially in academia), thus the adoption of Anno Domini (AD). It's possible that it wasn't until later times (during the British Empire) that we really became interested in Pre-Christian history, making BC (Before Christ) an English phrase rather than Latin. I hope that helps!\"\n",
      " b'\"\\n\"\"The Blogs\"\" >>>> when it comes to WP:WEIGHT because they\\'re viewed by more people and taken more seriously.. as far as WP:REDFLAG, Business Insider continually provides Exceptional Verification for all of its claims, which it does acknowledge deviated from a verification of nonsensical aspects of mainstream/police accounts. &  are better accounts of Holmes\\' upbringing and would better be able to suggest for shooters\\' mental state in his \"\"saving the world\"\" motivation for the attack. From nytimes, \"\"Mr. Holmes\\xe2\\x80\\x99s mental illness, his lack of criminal record before the shooting and .. family and friends\"\" & \"\"was not hatred or a desire for notoriety that compelled Mr. Holmes to plot and carry out the massacre, but a deepening form of schizophrenia that infected his mind with powerful delusions that killing people somehow increased his \\'human capital\\'\"\" both support this. Also, doctors Were mentioned: \"\"Nevertheless, the doctors said the shooting likely never would have happened were it not for Mr. Holmes\\xe2\\x80\\x99s mental illness.\"\"   \"'\n",
      " b'\"\\n\\n User Warnings \\n  (Talk,Contribs) \"'\n",
      " b'\":::Look, you were outright wrong about your initial block.  THe anonymous editor was reverting my and other people\\'s edits and would have been the first person to violate the revert rule.  He has already violated the 3RR a long time ago.  For reasons you still haven\\'t explained, you didn\\'t even warn the other user.  It\\'s hard to take your \"\"warning\"\" seriously when you\\'re not addressing these issues. \\n\\n\"']\n",
      "-------------------------------------------------------------------------------------------------------------------------------\n",
      "toxic               : [0 0 1 0 0 1 0 0 0 0 0 0 0 0 0 1 0 0 0 0 0 0 1 0 0 0 0 0 0 0 0 0]\n",
      "-------------------------------------------------------------------------------------------------------------------------------\n",
      "===============================================================================================================================\n",
      "\n",
      "label               : [ 16229  39861  30680 151754  81976 131546 124393 133683 109761 104785\n",
      "  71165 131361  57717  54564 133400   3940 155437  64693  18590 153656\n",
      "  79899 123526   9620  12762 112172  81445  36506  35254 150542 130619\n",
      " 156046  53791]\n"
     ]
    }
   ],
   "source": [
    "for batch, label in toxic_comments_csv_ds_train.take(1):\n",
    "    for key, value in batch.items():\n",
    "        print(f\"{key:20s}: {value}\")\n",
    "        print('-'*127)\n",
    "    print('='*127)\n",
    "    print('')\n",
    "    print(f\"{'label':20s}: {label}\")"
   ]
  },
  {
   "cell_type": "markdown",
   "id": "c7e34d2e",
   "metadata": {},
   "source": [
    "Просмотр текстов тестовой выборки"
   ]
  },
  {
   "cell_type": "code",
   "execution_count": 442,
   "id": "8e0744b8",
   "metadata": {
    "scrolled": true
   },
   "outputs": [
    {
     "name": "stdout",
     "output_type": "stream",
     "text": [
      "text                : [b\"Good to know! I'll start removing the information that doesn't have a source. The president of our organization recently published an Op-Ed in the local newspaper. Can I use that as a source? \\nIt's really cool to hear that you're the one that started The Tech Awards article. I'll try to find more sources, so that it can be updated.\"\n",
      " b'\"\\n\\n Image placement \\n\\nPlease stop adding irrelevant images such as a screenshot of the homepage of a company into pages. Additionally, your replacement of the official CBS logo with a JPEG artifact-riddled version is completely inappropriate. See the image use policy here on Wikipedia to give you an overview of what is appropriate to add into articles and what is not. Thank you. \\'\\'\\'\\'\\'\\'\\'\\'\\'\\'talk \"'\n",
      " b'Stop harassing me please \\nStyrofoam1994 please stop harassing me'\n",
      " b'Himani Navratna Oil\\n\\nNet 50ml\\n\\nWhat it says: \\xe2\\x80\\x9cGuaranteed 100% Herbal. An Excellent Cool Oil Formulated by Rabindra Puraskar Winner Late Kabiraj Shivkali Bhattacharyya\\n\\nKeeps the head cool\\nRelieves headache\\nHelpful in sound sleep\\nAn effective memory air\\nTones up body muscles\\nRemoves tiredness\\nUseful in minor burns and cuts\\nA cool invigorating body massage oil\\nPrevents premature hair fall\\nEach 100ml contains extracts of: Lata Kasturi 200mg, Amla 1000mg, Sailaja 200mg, Kunch 250mg, Nagarmotha 200mg, Bhringaraj 50mg, Japa Pushpa 250mg, Hriber 50mg, Kshir Kakoli 100mg, Mandukparni 100mg, Pudina ka Phool 2000mg, Pudina ka Tel 500mg, Karchur 200mg, Karpoor 500mg, Base q.s.\\n\\nAyurvedic, For external use only\\xe2\\x80\\x9d\\n\\nReview: There\\xe2\\x80\\x99s a lot of menthol oil which has really cooling and refreshing effect so best used in hot weather. The oil is red, quite light, smells also like menthol but with something else, not bad, bottle is easy to open.'\n",
      " b'\"}\\n|}\\n\\n From User talk:Jimbo Wales I wonder if you might consider...\\n\\nI wonder if you might consider simply removing your political/religious/etc.  userboxes and asking others to do the same.  This seems to me to be the best way to quickly and easily end the userbox wars.\\n\\nUserboxes of a political or, more broadly, polemical, nature are bad for the project.  They are attractive to the wrong kinds of people, and they give visitors the wrong idea of what it means to be a Wikipedian.\\n\\nI think rather than us having to go through a mass deletion (which is what is likely to happen if the userbox fad doesn\\'t go away), it will be better to simply change the culture, one person at a time.  Will you help me? \\n\\n From WikiEN-l [...]\\n\\nThe current situation with these things being in the main Template namespace, and promoted as if healthy and normal in the Wikipedia namespace, is that they are damaging to our culture.  They are attracting the wrong sort of people, and giving newcomers the wrong idea of what it means to be a Wikipedian.\\n\\nThat\\'s why they need to go.  Not to censor people\\'s self-expression, but to make it clear that as a whole the community considers these things to be divisive and inappropriate. Jimmy Wales (jwales at wikia.com)\\nMon Feb 20 19:34:13 UTC 2006\\n\\n{| class=\"\"boilerplate\"\" style=\"\"float:center;width:100%;background:##ee9000;border:solid darkblue 3px;margin:1px;\"\"\\n|-\\n! From Wikipedia:Userboxes/Beliefs \\n|-\\n| [...]\\n\\n\\'It should be noted that use of such userboxes is strongly discouraged at Wikipedia, and it is likely that very soon all these userboxes will be deleted or moved to userspace soon. Their use and creation is not recommended at this time.Jimmy Wales  Mon Feb 20 18:01 UTC\\n|-\\n|\"'\n",
      " b'Adoption \\n\\nCan you adopt me please?96.235.179.193'\n",
      " b'Whos the douche that deleated all of the info and crap I really want to curse them out right now.'\n",
      " b\"I took your statement to mean unblock requests on this block, which I don't think is unreasonable. If you meant any past request, you should have specified. Presumably in there you mean where I called the C of E a liar (I cannot see any other personal attacks, so if you do, please be clearer); while not exactly polite, I provided evidence to back that statement up. As I undestand it, that is not a personal attack, it is justifiable in the context of describing an actual inter-personal dispute with another editor which was relevant to the request, rather than making a dispute about articles needlessly personal (I'm pretty sure WP:NPA doesn't exist to simply force people to say things like 'he spoke a mistruth, per xyx'). The second example is not an unblock request, and was clearly part of the same issue, the ITN discussion.\"\n",
      " b'\"\\n\\nAfD nomination of Mark Mahon\\nI have nominated Mark Mahon, an article you created, for deletion. I do not feel that this article satisfies Wikipedia\\'s criteria for inclusion, and have explained why at Wikipedia:Articles for deletion/Mark Mahon. Your opinions on the matter are welcome at that same discussion page; also, you are welcome to edit the article to address these concerns. Thank you for your time. Do you want to opt out of receiving this notice?  (talk) \\xe2\\x80\\xa2 (contribs) \"'\n",
      " b\", 26 October 2005 (UTC)\\nAgreed. Since this will be initial versions,take the best 'risk with generally accepted statements. 06:53\"\n",
      " b'i thought tht tha g unit feud page was kool,y did it get removed? -'\n",
      " b\"Sign your comments. His name has been published on several media sources. Quit worrying about such things if you can't even sign comments )\"\n",
      " b\"Why not jsut make a seperate page for the West End becasue I really jsut want to see New York's performance numbers.\"\n",
      " b\"Sample Timetables \\n\\nI can't see the point of including sample timetables in the article.\\n\\nSample timetables\\nTimes for the London to Penzance service on Mondays to Fridays. Slip coaches and other portions detached from the main train are not included.\\nDateJuly1904Oct.1920Sep.1940June  1965Sep.1987Dec.2006Typicalmotive powerCity &DukeStar; &MogulKing; &CastleWesternHSTHSTLondon; Paddington10:1010:3010:3010:3010:5010:05Reading \\xe2\\x80\\x94 \\xe2\\x80\\x94 \\xe2\\x80\\x94 \\xe2\\x80\\x94 \\xe2\\x80\\x94 \\xe2\\x80\\x94 \\xe2\\x80\\x94 \\xe2\\x80\\x94 \\xe2\\x80\\x94 \\xe2\\x80\\x9410:31Taunton \\xe2\\x80\\x94 \\xe2\\x80\\x94 \\xe2\\x80\\x94 \\xe2\\x80\\x94 \\xe2\\x80\\x94 \\xe2\\x80\\x9412:33 \\xe2\\x80\\x94 \\xe2\\x80\\x94 \\xe2\\x80\\x94 \\xe2\\x80\\x94Exeter St Davids \\xe2\\x80\\x94 \\xe2\\x80\\x94 \\xe2\\x80\\x94 \\xe2\\x80\\x9413:2013:0912:5012:08Newton Abbot \\xe2\\x80\\x94 \\xe2\\x80\\x94 \\xe2\\x80\\x94 \\xe2\\x80\\x94 \\xe2\\x80\\x94 \\xe2\\x80\\x94 \\xe2\\x80\\x94 \\xe2\\x80\\x94 \\xe2\\x80\\x94 \\xe2\\x80\\x9412:29Plymouth North Road143714:5314:3514:3013:5013:07Devonport \\xe2\\x80\\x94 \\xe2\\x80\\x9415:00 \\xe2\\x80\\x94 \\xe2\\x80\\x94 \\xe2\\x80\\x94 \\xe2\\x80\\x94 \\xe2\\x80\\x94 \\xe2\\x80\\x94 \\xe2\\x80\\x94 \\xe2\\x80\\x94Liskeard \\xe2\\x80\\x94 \\xe2\\x80\\x94 \\xe2\\x80\\x94 \\xe2\\x80\\x94\\xe2\\x80\\x94 \\xe2\\x80\\x9415:0714:1713:33Bodmin Road \\xe2\\x99\\xa3 \\xe2\\x80\\x94 \\xe2\\x80\\x94 \\xe2\\x80\\x94 \\xe2\\x80\\x94 \\xe2\\x80\\x94 \\xe2\\x80\\x9415:2114:3013:45Par \\xe2\\x80\\x94 \\xe2\\x80\\x94 \\xe2\\x80\\x94 \\xe2\\x80\\x9415:3315:3414:4013:55St Austell \\xe2\\x80\\x94 \\xe2\\x80\\x94 \\xe2\\x80\\x94 \\xe2\\x80\\x94 \\xe2\\x80\\x94 \\xe2\\x80\\x9415:4414:4814:03Truro16:1416:2016:0616:0615:0614:22Redruth \\xe2\\x80\\x94 \\xe2\\x80\\x94 \\xe2\\x80\\x94 \\xe2\\x80\\x94\\xe2\\x80\\x94 \\xe2\\x80\\x9416:2415:1914:33Camborne \\xe2\\x80\\x94 \\xe2\\x80\\x94 \\xe2\\x80\\x94 \\xe2\\x80\\x94 \\xe2\\x80\\x94 \\xe2\\x80\\x9416:3215:2514:41Gwinear Road16:4617:3016:35closedclosedclosedHayle \\xe2\\x80\\x94 \\xe2\\x80\\x94 \\xe2\\x80\\x94 \\xe2\\x80\\x94 \\xe2\\x80\\x94 \\xe2\\x80\\x9416:41 \\xe2\\x80\\x94 \\xe2\\x80\\x9414:51St Erth16:5617:0416:4516:4515:3514:54Penzance17:1017:1517:0017:0015:4615:10Journey time7hr 0m6hr 45m6hr 30m6hr 30m4hr 56m5hr 5m\\n\\xe2\\x99\\xa3 Now named Bodmin Parkway\"\n",
      " b'Gay porn photography scandal \\n\\nCan someone with editing rights insert a section about how photos came out with riewoldt completely naked, with a shaved groin area, holding his penis about 3cm from his teammates hand? \\n\\nthanks in advance.'\n",
      " b'\"Thanks for removing your test edit \\n\\nYou might want to check out wp:Sandbox \\n\\n  Wikipedians also recommend biscuits with tea.\\n\\n (\\xce\\x91\\xe2\\x87\\x94\\xce\\xa9 \\xc2\\xa6 \\xe2\\x87\\x92\\xe2\\x9c\\x89) has given you a cup of tea. Tea promotes WikiLove and hopefully this has made your day ever so slightly better. \\n\\nSpread the WikiLove by giving someone else a tea, especially if it is someone you have had disagreements with in the past or someone putting up with some stick at this time.  Enjoy!  \\n\\nSpread the lovely, warm, refreshing goodness of tea by adding  to their talk page with a friendly message.  (\\xce\\x91\\xe2\\x87\\x94\\xce\\xa9 \\xc2\\xa6 \\xe2\\x87\\x92\\xe2\\x9c\\x89) \"'\n",
      " b'\"\\n\\n 2 questions \\n\\n- What sentence are you refering to when you say \"\"We spent one month discussing one setence. You can\\'t just remove half an article out of spite of the sentence being removed.)\"\"?\\n\\n-How are my edits to Kyanka\\'s page vindicative? I\\'m just trying to make the article follow wikipedia policy.\"'\n",
      " b\"Please stop. If you continue to vandalize Wikipedia, you will be blocked from editing.   (talk) \\nIf this is a shared IP address, and you didn't make the edit, consider creating an account for yourself so you can avoid further irrelevant notices.\"\n",
      " b\"Sources It was brought up that some material is cited with Mac A's autobiography. I think this is fine for citing things in his personal life but it probably should be removed for any other material.\"\n",
      " b'Erased fake multiple issues\\n87.9.134.227'\n",
      " b\"OMG,Firstly stop saying I hate the British,I don't.Secondly I did not say a Special Force World Cup.It is a tournament which is highly looked on.Thirdly insulting a person the wiki is against the terms.So I would suggest you get rid of half of what you comment said or I will report you.\\n\\nAnd last but not least half of what you say is utter and total bull shit.Sure the USA's Army is big and technically advanced but they are one of the worst trained in NATO.\\n\\nAlso it seems you hate the Irish.What is your problem,You keep on claiming that Irish people hate Britain,You say stuff which isn't true about Ireland.Your Miss are a racist.You insist on keeping Ireland apart of Greta Britain on the wiki when it is not.The Royal family would stay in Northern Ireland,Hell they may even stay in the Republic but it is logical that the Pope would stay in the Republic for safety reasons.Because pf the idiotic fighting in the North Between extremist Catholics and Protestants.\"\n",
      " b'And the fact that you are so rude Irishlass and think that you are above us all makes me sick. And the fact that you get away witj it makes me even sicker. And that is certainly not just a rumour. 41.241.73.254'\n",
      " b'Cherokee Language Wikipedia'\n",
      " b'I verified it by email. Thus it is not a copyright violation.  16:21, 5 Dec 2003 (UTC)'\n",
      " b\"Photographs and Films Section \\n\\nThere are quite a lot of pictures down the right hand side of his section and unfortunately it extends further than the body of the text, leaving it looking a bit untidy.  The pictures are important in demonstrating the points made, but I was just wondering if there was any way to tidy it up?  I'm pretty new here so I don't know how to move stuff around etc so I just thought I'd bring it up.  Cheers\"\n",
      " b\"You are clearly 64.85.234.166 \\nOnce again. VON HAUG'S FATE WAS NOT REVEALED. WE CAN DO THIS FOR A LONG TIME! 70.127.201.57\"\n",
      " b'its alright but from now'\n",
      " b\"I went ahead and removed the section. In case there was anything useful in there, putting the list here:\\n\\nNotable psychonauts\\n\\n William S. Burroughs\\n Peter J. Carroll\\n Carlos Castaneda\\n Aleister Crowley\\n Ram Dass\\n Philip K. Dick\\n Rob Dickins\\n Havelock Ellis\\n Antonio Escohotado\\n Amanda Feilding\\n Stanislav Grof\\n Arthur Heffter\\n Bill Hicks\\n Albert Hofmann\\n Aldous Huxley\\n William James\\n Jack Kerouac\\n Ken Kesey\\n\\n Timothy Leary\\n Egor Letov\\n John Lilly\\n Fitz Hugh Ludlow\\n Terence McKenna\\n Robert Monroe\\n Grant Morrison\\n Daniel O'Brien\\n Victor Pelevin\\n Daniel Pinchbeck\\n Maria Sabina\\n Joe Rogan\\n Benny Shanon\\n Alexander Shulgin\\n Huston Smith\\n Hunter S. Thompson\\n D. M. Turner\\n Alan Watts\\n William White\\n Robert Anton Wilson\\n\\n\\xe2\\x80\\x94\"\n",
      " b\"Obama's father was muslim this is a proven fact.  His father was born in the arab part of Africa another fact.  Obama was never a chritian before meeting Jerama Wright.  But you would never know this from reading Liberalpedia.\"\n",
      " b'Hey, its ok I love that word too!!!!'\n",
      " b'You guys are the worst people ever and I never want to edit here again so just block me!'\n",
      " b'\"IF YOU DONT LIKE ME LEAVING NASTY MESSAGES AND DEFACING YOUR TALK PAGE, THEN STOP DELETING ARTICLES THAT YOU PERSONALLY, UNILATERALLY DECIDE ARE \"\"IRRELEVANT\"\" , DO NOT DELETE JESSE MCGRAW AGAIN, ALL INFORMATION IS RELEVANT, NOT JUST THE INFORMATION YOU BELIEVE YOU HAVE THE RIGHT TO PICK AND CHOOSE WHAT GETS PRESERVED, WHO DO YOU THINK YOU ARE? YOU FVCKING AS5H0LE\\n\"']\n",
      "-------------------------------------------------------------------------------------------------------------------------------\n",
      "toxic               : [0 0 0 0 0 0 1 0 0 0 0 0 0 0 1 0 0 0 0 0 1 0 0 0 0 0 0 0 0 0 1 1]\n",
      "-------------------------------------------------------------------------------------------------------------------------------\n",
      "===============================================================================================================================\n",
      "\n",
      "label               : [103288 152213   6755  22383 159023  21684   1655  62130  78238 157051\n",
      "  34378 151281   6598  78766 118586 152012  93272  96499  19299 141005\n",
      " 106546  36782   8015 117288  13934 154574  42008  47323  63085 139704\n",
      "  60939 139285]\n"
     ]
    }
   ],
   "source": [
    "for batch, label in toxic_comments_csv_ds_test.take(1):\n",
    "    for key, value in batch.items():\n",
    "        print(f\"{key:20s}: {value}\")\n",
    "        print('-'*127)\n",
    "    print('='*127)\n",
    "    print('')\n",
    "    print(f\"{'label':20s}: {label}\")"
   ]
  },
  {
   "cell_type": "markdown",
   "id": "125d80bc",
   "metadata": {},
   "source": [
    "## Загрузка моделей с TensorFlow HUB"
   ]
  },
  {
   "cell_type": "code",
   "execution_count": 443,
   "id": "a5927d84",
   "metadata": {},
   "outputs": [
    {
     "name": "stdout",
     "output_type": "stream",
     "text": [
      "BERT model selected           : https://tfhub.dev/tensorflow/small_bert/bert_en_uncased_L-4_H-512_A-8/1\n",
      "Preprocess model auto-selected: https://tfhub.dev/tensorflow/bert_en_uncased_preprocess/3\n"
     ]
    }
   ],
   "source": [
    "#@title Choose a BERT model to fine-tune\n",
    "\n",
    "bert_model_name = 'small_bert/bert_en_uncased_L-4_H-512_A-8'  #@param [\"bert_en_uncased_L-12_H-768_A-12\", \"bert_en_cased_L-12_H-768_A-12\", \"bert_multi_cased_L-12_H-768_A-12\", \"small_bert/bert_en_uncased_L-2_H-128_A-2\", \"small_bert/bert_en_uncased_L-2_H-256_A-4\", \"small_bert/bert_en_uncased_L-2_H-512_A-8\", \"small_bert/bert_en_uncased_L-2_H-768_A-12\", \"small_bert/bert_en_uncased_L-4_H-128_A-2\", \"small_bert/bert_en_uncased_L-4_H-256_A-4\", \"small_bert/bert_en_uncased_L-4_H-512_A-8\", \"small_bert/bert_en_uncased_L-4_H-768_A-12\", \"small_bert/bert_en_uncased_L-6_H-128_A-2\", \"small_bert/bert_en_uncased_L-6_H-256_A-4\", \"small_bert/bert_en_uncased_L-6_H-512_A-8\", \"small_bert/bert_en_uncased_L-6_H-768_A-12\", \"small_bert/bert_en_uncased_L-8_H-128_A-2\", \"small_bert/bert_en_uncased_L-8_H-256_A-4\", \"small_bert/bert_en_uncased_L-8_H-512_A-8\", \"small_bert/bert_en_uncased_L-8_H-768_A-12\", \"small_bert/bert_en_uncased_L-10_H-128_A-2\", \"small_bert/bert_en_uncased_L-10_H-256_A-4\", \"small_bert/bert_en_uncased_L-10_H-512_A-8\", \"small_bert/bert_en_uncased_L-10_H-768_A-12\", \"small_bert/bert_en_uncased_L-12_H-128_A-2\", \"small_bert/bert_en_uncased_L-12_H-256_A-4\", \"small_bert/bert_en_uncased_L-12_H-512_A-8\", \"small_bert/bert_en_uncased_L-12_H-768_A-12\", \"albert_en_base\", \"electra_small\", \"electra_base\", \"experts_pubmed\", \"experts_wiki_books\", \"talking-heads_base\"]\n",
    "\n",
    "map_name_to_handle = {\n",
    "    'bert_en_uncased_L-12_H-768_A-12':\n",
    "        'https://tfhub.dev/tensorflow/bert_en_uncased_L-12_H-768_A-12/3',\n",
    "    'bert_en_cased_L-12_H-768_A-12':\n",
    "        'https://tfhub.dev/tensorflow/bert_en_cased_L-12_H-768_A-12/3',\n",
    "    'bert_multi_cased_L-12_H-768_A-12':\n",
    "        'https://tfhub.dev/tensorflow/bert_multi_cased_L-12_H-768_A-12/3',\n",
    "    'small_bert/bert_en_uncased_L-2_H-128_A-2':\n",
    "        'https://tfhub.dev/tensorflow/small_bert/bert_en_uncased_L-2_H-128_A-2/1',\n",
    "    'small_bert/bert_en_uncased_L-2_H-256_A-4':\n",
    "        'https://tfhub.dev/tensorflow/small_bert/bert_en_uncased_L-2_H-256_A-4/1',\n",
    "    'small_bert/bert_en_uncased_L-2_H-512_A-8':\n",
    "        'https://tfhub.dev/tensorflow/small_bert/bert_en_uncased_L-2_H-512_A-8/1',\n",
    "    'small_bert/bert_en_uncased_L-2_H-768_A-12':\n",
    "        'https://tfhub.dev/tensorflow/small_bert/bert_en_uncased_L-2_H-768_A-12/1',\n",
    "    'small_bert/bert_en_uncased_L-4_H-128_A-2':\n",
    "        'https://tfhub.dev/tensorflow/small_bert/bert_en_uncased_L-4_H-128_A-2/1',\n",
    "    'small_bert/bert_en_uncased_L-4_H-256_A-4':\n",
    "        'https://tfhub.dev/tensorflow/small_bert/bert_en_uncased_L-4_H-256_A-4/1',\n",
    "    'small_bert/bert_en_uncased_L-4_H-512_A-8':\n",
    "        'https://tfhub.dev/tensorflow/small_bert/bert_en_uncased_L-4_H-512_A-8/1',\n",
    "    'small_bert/bert_en_uncased_L-4_H-768_A-12':\n",
    "        'https://tfhub.dev/tensorflow/small_bert/bert_en_uncased_L-4_H-768_A-12/1',\n",
    "    'small_bert/bert_en_uncased_L-6_H-128_A-2':\n",
    "        'https://tfhub.dev/tensorflow/small_bert/bert_en_uncased_L-6_H-128_A-2/1',\n",
    "    'small_bert/bert_en_uncased_L-6_H-256_A-4':\n",
    "        'https://tfhub.dev/tensorflow/small_bert/bert_en_uncased_L-6_H-256_A-4/1',\n",
    "    'small_bert/bert_en_uncased_L-6_H-512_A-8':\n",
    "        'https://tfhub.dev/tensorflow/small_bert/bert_en_uncased_L-6_H-512_A-8/1',\n",
    "    'small_bert/bert_en_uncased_L-6_H-768_A-12':\n",
    "        'https://tfhub.dev/tensorflow/small_bert/bert_en_uncased_L-6_H-768_A-12/1',\n",
    "    'small_bert/bert_en_uncased_L-8_H-128_A-2':\n",
    "        'https://tfhub.dev/tensorflow/small_bert/bert_en_uncased_L-8_H-128_A-2/1',\n",
    "    'small_bert/bert_en_uncased_L-8_H-256_A-4':\n",
    "        'https://tfhub.dev/tensorflow/small_bert/bert_en_uncased_L-8_H-256_A-4/1',\n",
    "    'small_bert/bert_en_uncased_L-8_H-512_A-8':\n",
    "        'https://tfhub.dev/tensorflow/small_bert/bert_en_uncased_L-8_H-512_A-8/1',\n",
    "    'small_bert/bert_en_uncased_L-8_H-768_A-12':\n",
    "        'https://tfhub.dev/tensorflow/small_bert/bert_en_uncased_L-8_H-768_A-12/1',\n",
    "    'small_bert/bert_en_uncased_L-10_H-128_A-2':\n",
    "        'https://tfhub.dev/tensorflow/small_bert/bert_en_uncased_L-10_H-128_A-2/1',\n",
    "    'small_bert/bert_en_uncased_L-10_H-256_A-4':\n",
    "        'https://tfhub.dev/tensorflow/small_bert/bert_en_uncased_L-10_H-256_A-4/1',\n",
    "    'small_bert/bert_en_uncased_L-10_H-512_A-8':\n",
    "        'https://tfhub.dev/tensorflow/small_bert/bert_en_uncased_L-10_H-512_A-8/1',\n",
    "    'small_bert/bert_en_uncased_L-10_H-768_A-12':\n",
    "        'https://tfhub.dev/tensorflow/small_bert/bert_en_uncased_L-10_H-768_A-12/1',\n",
    "    'small_bert/bert_en_uncased_L-12_H-128_A-2':\n",
    "        'https://tfhub.dev/tensorflow/small_bert/bert_en_uncased_L-12_H-128_A-2/1',\n",
    "    'small_bert/bert_en_uncased_L-12_H-256_A-4':\n",
    "        'https://tfhub.dev/tensorflow/small_bert/bert_en_uncased_L-12_H-256_A-4/1',\n",
    "    'small_bert/bert_en_uncased_L-12_H-512_A-8':\n",
    "        'https://tfhub.dev/tensorflow/small_bert/bert_en_uncased_L-12_H-512_A-8/1',\n",
    "    'small_bert/bert_en_uncased_L-12_H-768_A-12':\n",
    "        'https://tfhub.dev/tensorflow/small_bert/bert_en_uncased_L-12_H-768_A-12/1',\n",
    "    'albert_en_base':\n",
    "        'https://tfhub.dev/tensorflow/albert_en_base/2',\n",
    "    'electra_small':\n",
    "        'https://tfhub.dev/google/electra_small/2',\n",
    "    'electra_base':\n",
    "        'https://tfhub.dev/google/electra_base/2',\n",
    "    'experts_pubmed':\n",
    "        'https://tfhub.dev/google/experts/bert/pubmed/2',\n",
    "    'experts_wiki_books':\n",
    "        'https://tfhub.dev/google/experts/bert/wiki_books/2',\n",
    "    'talking-heads_base':\n",
    "        'https://tfhub.dev/tensorflow/talkheads_ggelu_bert_en_base/1',\n",
    "}\n",
    "\n",
    "map_model_to_preprocess = {\n",
    "    'bert_en_uncased_L-12_H-768_A-12':\n",
    "        'https://tfhub.dev/tensorflow/bert_en_uncased_preprocess/3',\n",
    "    'bert_en_cased_L-12_H-768_A-12':\n",
    "        'https://tfhub.dev/tensorflow/bert_en_cased_preprocess/3',\n",
    "    'small_bert/bert_en_uncased_L-2_H-128_A-2':\n",
    "        'https://tfhub.dev/tensorflow/bert_en_uncased_preprocess/3',\n",
    "    'small_bert/bert_en_uncased_L-2_H-256_A-4':\n",
    "        'https://tfhub.dev/tensorflow/bert_en_uncased_preprocess/3',\n",
    "    'small_bert/bert_en_uncased_L-2_H-512_A-8':\n",
    "        'https://tfhub.dev/tensorflow/bert_en_uncased_preprocess/3',\n",
    "    'small_bert/bert_en_uncased_L-2_H-768_A-12':\n",
    "        'https://tfhub.dev/tensorflow/bert_en_uncased_preprocess/3',\n",
    "    'small_bert/bert_en_uncased_L-4_H-128_A-2':\n",
    "        'https://tfhub.dev/tensorflow/bert_en_uncased_preprocess/3',\n",
    "    'small_bert/bert_en_uncased_L-4_H-256_A-4':\n",
    "        'https://tfhub.dev/tensorflow/bert_en_uncased_preprocess/3',\n",
    "    'small_bert/bert_en_uncased_L-4_H-512_A-8':\n",
    "        'https://tfhub.dev/tensorflow/bert_en_uncased_preprocess/3',\n",
    "    'small_bert/bert_en_uncased_L-4_H-768_A-12':\n",
    "        'https://tfhub.dev/tensorflow/bert_en_uncased_preprocess/3',\n",
    "    'small_bert/bert_en_uncased_L-6_H-128_A-2':\n",
    "        'https://tfhub.dev/tensorflow/bert_en_uncased_preprocess/3',\n",
    "    'small_bert/bert_en_uncased_L-6_H-256_A-4':\n",
    "        'https://tfhub.dev/tensorflow/bert_en_uncased_preprocess/3',\n",
    "    'small_bert/bert_en_uncased_L-6_H-512_A-8':\n",
    "        'https://tfhub.dev/tensorflow/bert_en_uncased_preprocess/3',\n",
    "    'small_bert/bert_en_uncased_L-6_H-768_A-12':\n",
    "        'https://tfhub.dev/tensorflow/bert_en_uncased_preprocess/3',\n",
    "    'small_bert/bert_en_uncased_L-8_H-128_A-2':\n",
    "        'https://tfhub.dev/tensorflow/bert_en_uncased_preprocess/3',\n",
    "    'small_bert/bert_en_uncased_L-8_H-256_A-4':\n",
    "        'https://tfhub.dev/tensorflow/bert_en_uncased_preprocess/3',\n",
    "    'small_bert/bert_en_uncased_L-8_H-512_A-8':\n",
    "        'https://tfhub.dev/tensorflow/bert_en_uncased_preprocess/3',\n",
    "    'small_bert/bert_en_uncased_L-8_H-768_A-12':\n",
    "        'https://tfhub.dev/tensorflow/bert_en_uncased_preprocess/3',\n",
    "    'small_bert/bert_en_uncased_L-10_H-128_A-2':\n",
    "        'https://tfhub.dev/tensorflow/bert_en_uncased_preprocess/3',\n",
    "    'small_bert/bert_en_uncased_L-10_H-256_A-4':\n",
    "        'https://tfhub.dev/tensorflow/bert_en_uncased_preprocess/3',\n",
    "    'small_bert/bert_en_uncased_L-10_H-512_A-8':\n",
    "        'https://tfhub.dev/tensorflow/bert_en_uncased_preprocess/3',\n",
    "    'small_bert/bert_en_uncased_L-10_H-768_A-12':\n",
    "        'https://tfhub.dev/tensorflow/bert_en_uncased_preprocess/3',\n",
    "    'small_bert/bert_en_uncased_L-12_H-128_A-2':\n",
    "        'https://tfhub.dev/tensorflow/bert_en_uncased_preprocess/3',\n",
    "    'small_bert/bert_en_uncased_L-12_H-256_A-4':\n",
    "        'https://tfhub.dev/tensorflow/bert_en_uncased_preprocess/3',\n",
    "    'small_bert/bert_en_uncased_L-12_H-512_A-8':\n",
    "        'https://tfhub.dev/tensorflow/bert_en_uncased_preprocess/3',\n",
    "    'small_bert/bert_en_uncased_L-12_H-768_A-12':\n",
    "        'https://tfhub.dev/tensorflow/bert_en_uncased_preprocess/3',\n",
    "    'bert_multi_cased_L-12_H-768_A-12':\n",
    "        'https://tfhub.dev/tensorflow/bert_multi_cased_preprocess/3',\n",
    "    'albert_en_base':\n",
    "        'https://tfhub.dev/tensorflow/albert_en_preprocess/3',\n",
    "    'electra_small':\n",
    "        'https://tfhub.dev/tensorflow/bert_en_uncased_preprocess/3',\n",
    "    'electra_base':\n",
    "        'https://tfhub.dev/tensorflow/bert_en_uncased_preprocess/3',\n",
    "    'experts_pubmed':\n",
    "        'https://tfhub.dev/tensorflow/bert_en_uncased_preprocess/3',\n",
    "    'experts_wiki_books':\n",
    "        'https://tfhub.dev/tensorflow/bert_en_uncased_preprocess/3',\n",
    "    'talking-heads_base':\n",
    "        'https://tfhub.dev/tensorflow/bert_en_uncased_preprocess/3',\n",
    "}\n",
    "\n",
    "tfhub_handle_encoder = map_name_to_handle[bert_model_name]\n",
    "tfhub_handle_preprocess = map_model_to_preprocess[bert_model_name]\n",
    "\n",
    "print(f'BERT model selected           : {tfhub_handle_encoder}')\n",
    "print(f'Preprocess model auto-selected: {tfhub_handle_preprocess}')"
   ]
  },
  {
   "cell_type": "markdown",
   "id": "d24a9399",
   "metadata": {},
   "source": [
    "## Модель предварительной обработки"
   ]
  },
  {
   "cell_type": "code",
   "execution_count": 444,
   "id": "1e7d636e",
   "metadata": {},
   "outputs": [],
   "source": [
    "bert_preprocess_model = hub.KerasLayer(tfhub_handle_preprocess)"
   ]
  },
  {
   "cell_type": "code",
   "execution_count": 445,
   "id": "4cb52c7d",
   "metadata": {},
   "outputs": [
    {
     "data": {
      "text/plain": [
       "'\"\\nThe First Division is included, but only for years when it was the top tier of English football. The top tier is the only relevant level. If you want to include Second Division titles, you\\'re really only acknowledging that one club was in the Second Division longer than the other, and that\\'s not anything worth shouting about. And would you please stop talking about \"\"major\"\" trophies. They\\'re just trophies, there\\'s nothing major or minor about them. – Jay \"'"
      ]
     },
     "execution_count": 445,
     "metadata": {},
     "output_type": "execute_result"
    }
   ],
   "source": [
    "corpus_train[0]"
   ]
  },
  {
   "cell_type": "code",
   "execution_count": 446,
   "id": "cbf4b770",
   "metadata": {},
   "outputs": [
    {
     "name": "stdout",
     "output_type": "stream",
     "text": [
      "Keys       : ['input_type_ids', 'input_mask', 'input_word_ids']\n",
      "Shape      : (463, 128)\n",
      "Word Ids   : [ 101 1000  102    0    0    0    0    0    0    0    0    0]\n",
      "Input Mask : [1 1 1 0 0 0 0 0 0 0 0 0]\n",
      "Type Ids   : [0 0 0 0 0 0 0 0 0 0 0 0]\n"
     ]
    }
   ],
   "source": [
    "text_test = list(corpus_train[0])\n",
    "text_preprocessed = bert_preprocess_model(text_test)\n",
    "\n",
    "print(f'Keys       : {list(text_preprocessed.keys())}')\n",
    "print(f'Shape      : {text_preprocessed[\"input_word_ids\"].shape}')\n",
    "print(f'Word Ids   : {text_preprocessed[\"input_word_ids\"][0, :12]}')\n",
    "print(f'Input Mask : {text_preprocessed[\"input_mask\"][0, :12]}')\n",
    "print(f'Type Ids   : {text_preprocessed[\"input_type_ids\"][0, :12]}')"
   ]
  },
  {
   "cell_type": "markdown",
   "id": "aede893e",
   "metadata": {},
   "source": [
    "### Возвращаемые значения"
   ]
  },
  {
   "cell_type": "markdown",
   "id": "f46516fc",
   "metadata": {},
   "source": [
    "Прежде чем внедрять BERT в вашу собственную модель, нужно сначала взглянуть на ее выходные данные. \n",
    "\n",
    "Мы загрузили его из TF Hub, и теперь увидим возвращаемые значения."
   ]
  },
  {
   "cell_type": "code",
   "execution_count": 447,
   "id": "4a9283a1",
   "metadata": {},
   "outputs": [],
   "source": [
    "bert_model = hub.KerasLayer(tfhub_handle_encoder)"
   ]
  },
  {
   "cell_type": "code",
   "execution_count": 448,
   "id": "dafd493e",
   "metadata": {},
   "outputs": [
    {
     "name": "stdout",
     "output_type": "stream",
     "text": [
      "Loaded BERT: https://tfhub.dev/tensorflow/small_bert/bert_en_uncased_L-4_H-512_A-8/1\n",
      "Pooled Outputs Shape:(463, 512)\n",
      "Pooled Outputs Values:[ 0.964834   -0.17843105 -0.25604504 -0.08633736  0.06525536  0.96364266\n",
      "  0.76323825 -0.8259036  -0.25786063 -0.9997027   0.15350132 -0.99833673]\n",
      "Sequence Outputs Shape:(463, 128, 512)\n",
      "Sequence Outputs Values:[[ 1.1880465   0.16548514  0.52010137 ... -1.3935456   0.72548085\n",
      "   0.4851817 ]\n",
      " [ 1.8258715   0.6981835  -0.92007947 ...  0.02137677  1.1609669\n",
      "   0.11297412]\n",
      " [ 1.3568974  -0.37145764  1.0243483  ... -0.6833948   0.30857855\n",
      "   0.20199293]\n",
      " ...\n",
      " [ 0.8787285  -0.02032542 -0.4496386  ... -0.18110166  0.92780066\n",
      "   0.22329672]\n",
      " [ 0.87346816  0.26692882 -0.26071578 ... -0.20293932  1.0134312\n",
      "   0.07956394]\n",
      " [ 0.87515575  0.36114353 -0.38098806 ... -0.17099996  0.94220555\n",
      "   0.06431089]]\n"
     ]
    }
   ],
   "source": [
    "bert_results = bert_model(text_preprocessed)\n",
    "\n",
    "print(f'Loaded BERT: {tfhub_handle_encoder}')\n",
    "print(f'Pooled Outputs Shape:{bert_results[\"pooled_output\"].shape}')\n",
    "print(f'Pooled Outputs Values:{bert_results[\"pooled_output\"][0, :12]}')\n",
    "print(f'Sequence Outputs Shape:{bert_results[\"sequence_output\"].shape}')\n",
    "print(f'Sequence Outputs Values:{bert_results[\"sequence_output\"][0, :12]}')"
   ]
  },
  {
   "cell_type": "markdown",
   "id": "aebb57e9",
   "metadata": {},
   "source": [
    "**ЛУЧШИЕ модели** возвращают карту с 3 важными ключами: `pooled_output`, `sequence_output`, `encoder_outputs`:\n",
    "\n",
    "`pooled_output` представляет каждую входную последовательность в целом. Форма - `[batch_size, H]`. Мы можем рассматривать это как встраивание для всего обзора фильма.\n",
    "\n",
    "`sequence_output` представляет каждый входной токен в контексте. Форма имеет вид `[batch_size, seq_length, H]`. Мы можем думать об этом как о контекстуальном встраивании для каждого токена в обзоре фильма.\n",
    "\n",
    "`encoder_outputs` - это промежуточные активации блоков `L`-трансформатора. выходные данные `[\"encoder_outputs\"][i]` - это тензор формы `[batch_size, seq_length, 1024]` с выходами i-го блока преобразования, для `0 <= i < L`. Последнее значение списка равно `sequence_output`.\n",
    "\n",
    "Для точной настройки мы используем массив `pooled_output`."
   ]
  },
  {
   "cell_type": "markdown",
   "id": "3c256ab6",
   "metadata": {},
   "source": [
    "### Подбор моделей для машинного обучения"
   ]
  },
  {
   "cell_type": "markdown",
   "id": "023a0da3",
   "metadata": {},
   "source": [
    "Мы создадим очень простую точно настроенную модель с моделью предварительной обработки, выбранной **НАИЛУЧШЕЙ моделью**, одним плотным слоем и отсеивающимся слоем.\n",
    "\n",
    "_*Примечание:*_ \n",
    "для получения дополнительной информации о вводе и выводе базовой модели мы можем перейти по URL модели для получения документации. \n",
    "\n",
    "Конкретно здесь нам не нужно беспокоиться об этом, потому что модель предварительной обработки позаботится об этом за нас."
   ]
  },
  {
   "cell_type": "code",
   "execution_count": 449,
   "id": "0886629f",
   "metadata": {},
   "outputs": [],
   "source": [
    "def build_classifier_model():\n",
    "    text_input = tf.keras.layers.Input(shape=(), dtype=tf.string, name='text')\n",
    "    preprocessing_layer = hub.KerasLayer(tfhub_handle_preprocess, name='preprocessing')\n",
    "    encoder_inputs = preprocessing_layer(text_input)\n",
    "    encoder = hub.KerasLayer(tfhub_handle_encoder, trainable=True, name='BERT_encoder')\n",
    "    outputs = encoder(encoder_inputs)\n",
    "    net = outputs['pooled_output']\n",
    "    net = tf.keras.layers.Dropout(0.1)(net)\n",
    "    net = tf.keras.layers.Dense(1, activation=None, name='classifier')(net)\n",
    "    return tf.keras.Model(text_input, net)"
   ]
  },
  {
   "cell_type": "markdown",
   "id": "9e1b29a1",
   "metadata": {},
   "source": [
    "Проверим, что модель запускается с выводом модели предварительной обработки"
   ]
  },
  {
   "cell_type": "code",
   "execution_count": 450,
   "id": "7b6c0b6e",
   "metadata": {},
   "outputs": [
    {
     "name": "stdout",
     "output_type": "stream",
     "text": [
      "tf.Tensor(\n",
      "[[0.3348399 ]\n",
      " [0.2792921 ]\n",
      " [0.4259739 ]\n",
      " [0.31419381]\n",
      " [0.40028316]\n",
      " [0.2792921 ]\n",
      " [0.32369584]\n",
      " [0.3770468 ]\n",
      " [0.3607976 ]\n",
      " [0.30364728]\n",
      " [0.4259739 ]\n",
      " [0.2792921 ]\n",
      " [0.47554448]\n",
      " [0.3770468 ]\n",
      " [0.5338048 ]\n",
      " [0.3770468 ]\n",
      " [0.30364728]\n",
      " [0.3770468 ]\n",
      " [0.3452456 ]\n",
      " [0.3404307 ]\n",
      " [0.2792921 ]\n",
      " [0.3770468 ]\n",
      " [0.30364728]\n",
      " [0.2792921 ]\n",
      " [0.3770468 ]\n",
      " [0.3404307 ]\n",
      " [0.47301543]\n",
      " [0.43304822]\n",
      " [0.46185058]\n",
      " [0.47554448]\n",
      " [0.40028316]\n",
      " [0.47554448]\n",
      " [0.4089541 ]\n",
      " [0.2792921 ]\n",
      " [0.3603921 ]\n",
      " [0.46185058]\n",
      " [0.4259739 ]\n",
      " [0.2792921 ]\n",
      " [0.3452456 ]\n",
      " [0.3404307 ]\n",
      " [0.43304822]\n",
      " [0.4262962 ]\n",
      " [0.2792921 ]\n",
      " [0.32369584]\n",
      " [0.3452456 ]\n",
      " [0.3607976 ]\n",
      " [0.2792921 ]\n",
      " [0.4262962 ]\n",
      " [0.40028316]\n",
      " [0.28023177]\n",
      " [0.3607976 ]\n",
      " [0.30364728]\n",
      " [0.2792921 ]\n",
      " [0.36923188]\n",
      " [0.31419381]\n",
      " [0.40028316]\n",
      " [0.3404307 ]\n",
      " [0.2792921 ]\n",
      " [0.3770468 ]\n",
      " [0.4259739 ]\n",
      " [0.2792921 ]\n",
      " [0.36923188]\n",
      " [0.28023177]\n",
      " [0.30364728]\n",
      " [0.2792921 ]\n",
      " [0.4259739 ]\n",
      " [0.31419381]\n",
      " [0.40028316]\n",
      " [0.2792921 ]\n",
      " [0.4259739 ]\n",
      " [0.3452456 ]\n",
      " [0.25663224]\n",
      " [0.2792921 ]\n",
      " [0.4259739 ]\n",
      " [0.3770468 ]\n",
      " [0.40028316]\n",
      " [0.3607976 ]\n",
      " [0.2792921 ]\n",
      " [0.3452456 ]\n",
      " [0.32369584]\n",
      " [0.2792921 ]\n",
      " [0.40028316]\n",
      " [0.3404307 ]\n",
      " [0.48894   ]\n",
      " [0.43304822]\n",
      " [0.3770468 ]\n",
      " [0.30364728]\n",
      " [0.31419381]\n",
      " [0.2792921 ]\n",
      " [0.32369584]\n",
      " [0.3452456 ]\n",
      " [0.3452456 ]\n",
      " [0.4259739 ]\n",
      " [0.3603921 ]\n",
      " [0.28023177]\n",
      " [0.43304822]\n",
      " [0.43304822]\n",
      " [0.41638044]\n",
      " [0.2792921 ]\n",
      " [0.4259739 ]\n",
      " [0.31419381]\n",
      " [0.40028316]\n",
      " [0.2792921 ]\n",
      " [0.4259739 ]\n",
      " [0.3452456 ]\n",
      " [0.25663224]\n",
      " [0.2792921 ]\n",
      " [0.4259739 ]\n",
      " [0.3770468 ]\n",
      " [0.40028316]\n",
      " [0.3607976 ]\n",
      " [0.2792921 ]\n",
      " [0.3770468 ]\n",
      " [0.30364728]\n",
      " [0.2792921 ]\n",
      " [0.4259739 ]\n",
      " [0.31419381]\n",
      " [0.40028316]\n",
      " [0.2792921 ]\n",
      " [0.3452456 ]\n",
      " [0.3404307 ]\n",
      " [0.43304822]\n",
      " [0.4262962 ]\n",
      " [0.2792921 ]\n",
      " [0.3607976 ]\n",
      " [0.40028316]\n",
      " [0.43304822]\n",
      " [0.40028316]\n",
      " [0.5338048 ]\n",
      " [0.28023177]\n",
      " [0.3404307 ]\n",
      " [0.4259739 ]\n",
      " [0.2792921 ]\n",
      " [0.43304822]\n",
      " [0.40028316]\n",
      " [0.5338048 ]\n",
      " [0.40028316]\n",
      " [0.43304822]\n",
      " [0.41638044]\n",
      " [0.2792921 ]\n",
      " [0.3770468 ]\n",
      " [0.32369584]\n",
      " [0.2792921 ]\n",
      " [0.4262962 ]\n",
      " [0.3452456 ]\n",
      " [0.46185058]\n",
      " [0.2792921 ]\n",
      " [0.36923188]\n",
      " [0.28023177]\n",
      " [0.3404307 ]\n",
      " [0.4259739 ]\n",
      " [0.2792921 ]\n",
      " [0.4259739 ]\n",
      " [0.3452456 ]\n",
      " [0.2792921 ]\n",
      " [0.3770468 ]\n",
      " [0.3404307 ]\n",
      " [0.47301543]\n",
      " [0.43304822]\n",
      " [0.46185058]\n",
      " [0.47554448]\n",
      " [0.40028316]\n",
      " [0.2792921 ]\n",
      " [0.30364728]\n",
      " [0.40028316]\n",
      " [0.47301543]\n",
      " [0.3452456 ]\n",
      " [0.3404307 ]\n",
      " [0.47554448]\n",
      " [0.2792921 ]\n",
      " [0.47554448]\n",
      " [0.3770468 ]\n",
      " [0.5338048 ]\n",
      " [0.3770468 ]\n",
      " [0.30364728]\n",
      " [0.3770468 ]\n",
      " [0.3452456 ]\n",
      " [0.3404307 ]\n",
      " [0.2792921 ]\n",
      " [0.4259739 ]\n",
      " [0.3770468 ]\n",
      " [0.4259739 ]\n",
      " [0.43304822]\n",
      " [0.40028316]\n",
      " [0.30364728]\n",
      " [0.4089541 ]\n",
      " [0.2792921 ]\n",
      " [0.4262962 ]\n",
      " [0.3452456 ]\n",
      " [0.46185058]\n",
      " [0.33542964]\n",
      " [0.3607976 ]\n",
      " [0.40028316]\n",
      " [0.2792921 ]\n",
      " [0.3607976 ]\n",
      " [0.40028316]\n",
      " [0.28023177]\n",
      " [0.43304822]\n",
      " [0.43304822]\n",
      " [0.4262962 ]\n",
      " [0.2792921 ]\n",
      " [0.3452456 ]\n",
      " [0.3404307 ]\n",
      " [0.43304822]\n",
      " [0.4262962 ]\n",
      " [0.2792921 ]\n",
      " [0.28023177]\n",
      " [0.47301543]\n",
      " [0.4431472 ]\n",
      " [0.3404307 ]\n",
      " [0.3452456 ]\n",
      " [0.36923188]\n",
      " [0.43304822]\n",
      " [0.40028316]\n",
      " [0.47554448]\n",
      " [0.48894   ]\n",
      " [0.3770468 ]\n",
      " [0.3404307 ]\n",
      " [0.48894   ]\n",
      " [0.2792921 ]\n",
      " [0.4259739 ]\n",
      " [0.31419381]\n",
      " [0.28023177]\n",
      " [0.4259739 ]\n",
      " [0.2792921 ]\n",
      " [0.3452456 ]\n",
      " [0.3404307 ]\n",
      " [0.40028316]\n",
      " [0.2792921 ]\n",
      " [0.47301543]\n",
      " [0.43304822]\n",
      " [0.46185058]\n",
      " [0.3603921 ]\n",
      " [0.2792921 ]\n",
      " [0.36923188]\n",
      " [0.28023177]\n",
      " [0.30364728]\n",
      " [0.2792921 ]\n",
      " [0.3770468 ]\n",
      " [0.3404307 ]\n",
      " [0.2792921 ]\n",
      " [0.4259739 ]\n",
      " [0.31419381]\n",
      " [0.40028316]\n",
      " [0.2792921 ]\n",
      " [0.30364728]\n",
      " [0.40028316]\n",
      " [0.47301543]\n",
      " [0.3452456 ]\n",
      " [0.3404307 ]\n",
      " [0.47554448]\n",
      " [0.2792921 ]\n",
      " [0.47554448]\n",
      " [0.3770468 ]\n",
      " [0.5338048 ]\n",
      " [0.3770468 ]\n",
      " [0.30364728]\n",
      " [0.3770468 ]\n",
      " [0.3452456 ]\n",
      " [0.3404307 ]\n",
      " [0.2792921 ]\n",
      " [0.43304822]\n",
      " [0.3452456 ]\n",
      " [0.3404307 ]\n",
      " [0.48894   ]\n",
      " [0.40028316]\n",
      " [0.3607976 ]\n",
      " [0.2792921 ]\n",
      " [0.4259739 ]\n",
      " [0.31419381]\n",
      " [0.28023177]\n",
      " [0.3404307 ]\n",
      " [0.2792921 ]\n",
      " [0.4259739 ]\n",
      " [0.31419381]\n",
      " [0.40028316]\n",
      " [0.2792921 ]\n",
      " [0.3452456 ]\n",
      " [0.4259739 ]\n",
      " [0.31419381]\n",
      " [0.40028316]\n",
      " [0.3607976 ]\n",
      " [0.4089541 ]\n",
      " [0.2792921 ]\n",
      " [0.28023177]\n",
      " [0.3404307 ]\n",
      " [0.47554448]\n",
      " [0.2792921 ]\n",
      " [0.4259739 ]\n",
      " [0.31419381]\n",
      " [0.28023177]\n",
      " [0.4259739 ]\n",
      " [0.33542964]\n",
      " [0.30364728]\n",
      " [0.2792921 ]\n",
      " [0.3404307 ]\n",
      " [0.3452456 ]\n",
      " [0.4259739 ]\n",
      " [0.2792921 ]\n",
      " [0.28023177]\n",
      " [0.3404307 ]\n",
      " [0.4262962 ]\n",
      " [0.4259739 ]\n",
      " [0.31419381]\n",
      " [0.3770468 ]\n",
      " [0.3404307 ]\n",
      " [0.48894   ]\n",
      " [0.2792921 ]\n",
      " [0.36923188]\n",
      " [0.3452456 ]\n",
      " [0.3607976 ]\n",
      " [0.4259739 ]\n",
      " [0.31419381]\n",
      " [0.2792921 ]\n",
      " [0.30364728]\n",
      " [0.31419381]\n",
      " [0.3452456 ]\n",
      " [0.46185058]\n",
      " [0.4259739 ]\n",
      " [0.3770468 ]\n",
      " [0.3404307 ]\n",
      " [0.48894   ]\n",
      " [0.2792921 ]\n",
      " [0.28023177]\n",
      " [0.3603921 ]\n",
      " [0.3452456 ]\n",
      " [0.46185058]\n",
      " [0.4259739 ]\n",
      " [0.41638044]\n",
      " [0.2792921 ]\n",
      " [0.28023177]\n",
      " [0.3404307 ]\n",
      " [0.47554448]\n",
      " [0.2792921 ]\n",
      " [0.36923188]\n",
      " [0.3452456 ]\n",
      " [0.46185058]\n",
      " [0.43304822]\n",
      " [0.47554448]\n",
      " [0.2792921 ]\n",
      " [0.4262962 ]\n",
      " [0.3452456 ]\n",
      " [0.46185058]\n",
      " [0.2792921 ]\n",
      " [0.25663224]\n",
      " [0.43304822]\n",
      " [0.40028316]\n",
      " [0.28023177]\n",
      " [0.30364728]\n",
      " [0.40028316]\n",
      " [0.2792921 ]\n",
      " [0.30364728]\n",
      " [0.4259739 ]\n",
      " [0.3452456 ]\n",
      " [0.25663224]\n",
      " [0.2792921 ]\n",
      " [0.4259739 ]\n",
      " [0.28023177]\n",
      " [0.43304822]\n",
      " [0.4431472 ]\n",
      " [0.3770468 ]\n",
      " [0.3404307 ]\n",
      " [0.48894   ]\n",
      " [0.2792921 ]\n",
      " [0.28023177]\n",
      " [0.3603921 ]\n",
      " [0.3452456 ]\n",
      " [0.46185058]\n",
      " [0.4259739 ]\n",
      " [0.2792921 ]\n",
      " [0.3348399 ]\n",
      " [0.3348399 ]\n",
      " [0.36814624]\n",
      " [0.28023177]\n",
      " [0.507626  ]\n",
      " [0.3452456 ]\n",
      " [0.3607976 ]\n",
      " [0.3348399 ]\n",
      " [0.3348399 ]\n",
      " [0.2792921 ]\n",
      " [0.4259739 ]\n",
      " [0.3607976 ]\n",
      " [0.3452456 ]\n",
      " [0.25663224]\n",
      " [0.31419381]\n",
      " [0.3770468 ]\n",
      " [0.40028316]\n",
      " [0.30364728]\n",
      " [0.41638044]\n",
      " [0.2792921 ]\n",
      " [0.4259739 ]\n",
      " [0.31419381]\n",
      " [0.40028316]\n",
      " [0.4262962 ]\n",
      " [0.33542964]\n",
      " [0.3607976 ]\n",
      " [0.40028316]\n",
      " [0.2792921 ]\n",
      " [0.507626  ]\n",
      " [0.46185058]\n",
      " [0.30364728]\n",
      " [0.4259739 ]\n",
      " [0.2792921 ]\n",
      " [0.4259739 ]\n",
      " [0.3607976 ]\n",
      " [0.3452456 ]\n",
      " [0.25663224]\n",
      " [0.31419381]\n",
      " [0.3770468 ]\n",
      " [0.40028316]\n",
      " [0.30364728]\n",
      " [0.4089541 ]\n",
      " [0.2792921 ]\n",
      " [0.4259739 ]\n",
      " [0.31419381]\n",
      " [0.40028316]\n",
      " [0.3607976 ]\n",
      " [0.40028316]\n",
      " [0.33542964]\n",
      " [0.30364728]\n",
      " [0.2792921 ]\n",
      " [0.3404307 ]\n",
      " [0.3452456 ]\n",
      " [0.4259739 ]\n",
      " [0.31419381]\n",
      " [0.3770468 ]\n",
      " [0.3404307 ]\n",
      " [0.48894   ]\n",
      " [0.2792921 ]\n",
      " [0.36814624]\n",
      " [0.28023177]\n",
      " [0.507626  ]\n",
      " [0.3452456 ]\n",
      " [0.3607976 ]\n",
      " [0.2792921 ]\n",
      " [0.3452456 ]\n",
      " [0.3607976 ]\n",
      " [0.2792921 ]\n",
      " [0.36814624]\n",
      " [0.3770468 ]\n",
      " [0.3404307 ]\n",
      " [0.3452456 ]\n",
      " [0.3607976 ]\n",
      " [0.2792921 ]\n",
      " [0.28023177]\n",
      " [0.3603921 ]\n",
      " [0.3452456 ]\n",
      " [0.46185058]\n",
      " [0.4259739 ]\n",
      " [0.2792921 ]\n",
      " [0.4259739 ]\n",
      " [0.31419381]\n",
      " [0.40028316]\n",
      " [0.36814624]\n",
      " [0.41638044]\n",
      " [0.2792921 ]\n",
      " [0.29149228]\n",
      " [0.2792921 ]\n",
      " [0.507626  ]\n",
      " [0.28023177]\n",
      " [0.4262962 ]\n",
      " [0.2792921 ]\n",
      " [0.33483988]], shape=(463, 1), dtype=float32)\n"
     ]
    }
   ],
   "source": [
    "classifier_model = build_classifier_model()\n",
    "bert_raw_result = classifier_model(tf.constant(text_test))\n",
    "print(tf.sigmoid(bert_raw_result))"
   ]
  },
  {
   "cell_type": "markdown",
   "id": "8af961ce",
   "metadata": {},
   "source": [
    "Выходные данные бессмысленны, потому что модель еще не была обучена"
   ]
  },
  {
   "cell_type": "markdown",
   "id": "6b5e82c9",
   "metadata": {},
   "source": [
    "## Машинное обучение"
   ]
  },
  {
   "cell_type": "markdown",
   "id": "80e05c70",
   "metadata": {},
   "source": [
    "Теперь у нас есть все компоненты для обучения модели, включая модуль предварительной обработки, кодировщик BERT, данные и классификатор"
   ]
  },
  {
   "cell_type": "markdown",
   "id": "eff3e105",
   "metadata": {},
   "source": [
    "### Функция потерь\n",
    "\n",
    "Поскольку это задача двоичной классификации, и модель выдает вероятность (единичный уровень), вы будете использовать функцию потерь `losses.BinaryCrossentropy`.\n"
   ]
  },
  {
   "cell_type": "code",
   "execution_count": 451,
   "id": "acafdc82",
   "metadata": {},
   "outputs": [],
   "source": [
    "loss = tf.keras.losses.BinaryCrossentropy(from_logits=True)\n",
    "metrics = tf.metrics.BinaryAccuracy()"
   ]
  },
  {
   "cell_type": "markdown",
   "id": "c22e0779",
   "metadata": {},
   "source": [
    "### Оптимизация\n",
    "\n",
    "Для точной настройки воспользуемся тем же оптимизатором, с которым изначально обучался БЕРТ: \"Адаптивные моменты\" (Adam). Этот оптимизатор минимизирует потери при прогнозировании и выполняет регуляризацию путем уменьшения веса (без использования моментов), которая также известна как [AdamW](https://arxiv.org/abs/1711.05101 ).\n",
    "\n",
    "Для скорости обучения (`init_lr`) будем использовать тот же график, что и для предварительной тренировки BERT: линейное уменьшение условной начальной скорости обучения с префиксом линейной фазы разминки в течение первых 10% шагов обучения (`num_warmup_steps`). В соответствии с ЛУЧШЕЙ статьей, начальная скорость обучения меньше для точной настройки (лучше всего 5e-5, 3e-5, 2e-5)."
   ]
  },
  {
   "cell_type": "code",
   "execution_count": 452,
   "id": "04de29e0",
   "metadata": {},
   "outputs": [],
   "source": [
    "epochs = 2\n",
    "steps_per_epoch = tf.data.experimental.cardinality(toxic_comments_csv_ds_train).numpy()\n",
    "num_train_steps = steps_per_epoch * epochs\n",
    "num_warmup_steps = int(0.1*num_train_steps)\n",
    "\n",
    "init_lr = 3e-5\n",
    "optimizer = optimization.create_optimizer(init_lr=init_lr, num_train_steps=num_train_steps, num_warmup_steps=num_warmup_steps, optimizer_type='adamw')"
   ]
  },
  {
   "cell_type": "markdown",
   "id": "3a3eea49",
   "metadata": {},
   "source": [
    "### Загружаем модель BERT и обучаем ее"
   ]
  },
  {
   "cell_type": "markdown",
   "id": "85f2b5f6",
   "metadata": {},
   "source": [
    "Используя `classifier_model`, который мы создали ранее, мы можете скомпилировать модель с потерями, метрикой и оптимизатором."
   ]
  },
  {
   "cell_type": "code",
   "execution_count": 453,
   "id": "e6e10bc8",
   "metadata": {},
   "outputs": [],
   "source": [
    "classifier_model.compile(optimizer=optimizer, loss=loss, metrics=metrics)"
   ]
  },
  {
   "cell_type": "markdown",
   "id": "fb3f9f03",
   "metadata": {},
   "source": [
    "Примечание: время обучения будет варьироваться в зависимости от сложности выбранной вами модели BERT."
   ]
  },
  {
   "cell_type": "code",
   "execution_count": 454,
   "id": "7977930c",
   "metadata": {},
   "outputs": [
    {
     "name": "stdout",
     "output_type": "stream",
     "text": [
      "Training model with https://tfhub.dev/tensorflow/small_bert/bert_en_uncased_L-4_H-512_A-8/1\n",
      "Epoch 1/2\n",
      "    883/Unknown - 2586s 3s/step - loss: -1653.4751 - binary_accuracy: 0.0000e+00"
     ]
    },
    {
     "ename": "KeyboardInterrupt",
     "evalue": "",
     "output_type": "error",
     "traceback": [
      "\u001b[1;31m---------------------------------------------------------------------------\u001b[0m",
      "\u001b[1;31mKeyboardInterrupt\u001b[0m                         Traceback (most recent call last)",
      "Cell \u001b[1;32mIn[454], line 3\u001b[0m\n\u001b[0;32m      1\u001b[0m \u001b[38;5;28mprint\u001b[39m(\u001b[38;5;124mf\u001b[39m\u001b[38;5;124m'\u001b[39m\u001b[38;5;124mTraining model with \u001b[39m\u001b[38;5;132;01m{\u001b[39;00mtfhub_handle_encoder\u001b[38;5;132;01m}\u001b[39;00m\u001b[38;5;124m'\u001b[39m)\n\u001b[1;32m----> 3\u001b[0m history \u001b[38;5;241m=\u001b[39m \u001b[43mclassifier_model\u001b[49m\u001b[38;5;241;43m.\u001b[39;49m\u001b[43mfit\u001b[49m\u001b[43m(\u001b[49m\u001b[43mx\u001b[49m\u001b[38;5;241;43m=\u001b[39;49m\u001b[43mtoxic_comments_csv_ds\u001b[49m\u001b[43m,\u001b[49m\u001b[43m \u001b[49m\u001b[43mvalidation_data\u001b[49m\u001b[38;5;241;43m=\u001b[39;49m\u001b[43mval_ds\u001b[49m\u001b[43m,\u001b[49m\u001b[43m \u001b[49m\u001b[43mepochs\u001b[49m\u001b[38;5;241;43m=\u001b[39;49m\u001b[43mepochs\u001b[49m\u001b[43m)\u001b[49m\n",
      "File \u001b[1;32mD:\\Program File\\Anaconda\\envs\\practicum\\lib\\site-packages\\keras\\utils\\traceback_utils.py:65\u001b[0m, in \u001b[0;36mfilter_traceback.<locals>.error_handler\u001b[1;34m(*args, **kwargs)\u001b[0m\n\u001b[0;32m     63\u001b[0m filtered_tb \u001b[38;5;241m=\u001b[39m \u001b[38;5;28;01mNone\u001b[39;00m\n\u001b[0;32m     64\u001b[0m \u001b[38;5;28;01mtry\u001b[39;00m:\n\u001b[1;32m---> 65\u001b[0m     \u001b[38;5;28;01mreturn\u001b[39;00m fn(\u001b[38;5;241m*\u001b[39margs, \u001b[38;5;241m*\u001b[39m\u001b[38;5;241m*\u001b[39mkwargs)\n\u001b[0;32m     66\u001b[0m \u001b[38;5;28;01mexcept\u001b[39;00m \u001b[38;5;167;01mException\u001b[39;00m \u001b[38;5;28;01mas\u001b[39;00m e:\n\u001b[0;32m     67\u001b[0m     filtered_tb \u001b[38;5;241m=\u001b[39m _process_traceback_frames(e\u001b[38;5;241m.\u001b[39m__traceback__)\n",
      "File \u001b[1;32mD:\\Program File\\Anaconda\\envs\\practicum\\lib\\site-packages\\keras\\engine\\training.py:1564\u001b[0m, in \u001b[0;36mModel.fit\u001b[1;34m(self, x, y, batch_size, epochs, verbose, callbacks, validation_split, validation_data, shuffle, class_weight, sample_weight, initial_epoch, steps_per_epoch, validation_steps, validation_batch_size, validation_freq, max_queue_size, workers, use_multiprocessing)\u001b[0m\n\u001b[0;32m   1556\u001b[0m \u001b[38;5;28;01mwith\u001b[39;00m tf\u001b[38;5;241m.\u001b[39mprofiler\u001b[38;5;241m.\u001b[39mexperimental\u001b[38;5;241m.\u001b[39mTrace(\n\u001b[0;32m   1557\u001b[0m     \u001b[38;5;124m\"\u001b[39m\u001b[38;5;124mtrain\u001b[39m\u001b[38;5;124m\"\u001b[39m,\n\u001b[0;32m   1558\u001b[0m     epoch_num\u001b[38;5;241m=\u001b[39mepoch,\n\u001b[1;32m   (...)\u001b[0m\n\u001b[0;32m   1561\u001b[0m     _r\u001b[38;5;241m=\u001b[39m\u001b[38;5;241m1\u001b[39m,\n\u001b[0;32m   1562\u001b[0m ):\n\u001b[0;32m   1563\u001b[0m     callbacks\u001b[38;5;241m.\u001b[39mon_train_batch_begin(step)\n\u001b[1;32m-> 1564\u001b[0m     tmp_logs \u001b[38;5;241m=\u001b[39m \u001b[38;5;28;43mself\u001b[39;49m\u001b[38;5;241;43m.\u001b[39;49m\u001b[43mtrain_function\u001b[49m\u001b[43m(\u001b[49m\u001b[43miterator\u001b[49m\u001b[43m)\u001b[49m\n\u001b[0;32m   1565\u001b[0m     \u001b[38;5;28;01mif\u001b[39;00m data_handler\u001b[38;5;241m.\u001b[39mshould_sync:\n\u001b[0;32m   1566\u001b[0m         context\u001b[38;5;241m.\u001b[39masync_wait()\n",
      "File \u001b[1;32mD:\\Program File\\Anaconda\\envs\\practicum\\lib\\site-packages\\tensorflow\\python\\util\\traceback_utils.py:150\u001b[0m, in \u001b[0;36mfilter_traceback.<locals>.error_handler\u001b[1;34m(*args, **kwargs)\u001b[0m\n\u001b[0;32m    148\u001b[0m filtered_tb \u001b[38;5;241m=\u001b[39m \u001b[38;5;28;01mNone\u001b[39;00m\n\u001b[0;32m    149\u001b[0m \u001b[38;5;28;01mtry\u001b[39;00m:\n\u001b[1;32m--> 150\u001b[0m   \u001b[38;5;28;01mreturn\u001b[39;00m fn(\u001b[38;5;241m*\u001b[39margs, \u001b[38;5;241m*\u001b[39m\u001b[38;5;241m*\u001b[39mkwargs)\n\u001b[0;32m    151\u001b[0m \u001b[38;5;28;01mexcept\u001b[39;00m \u001b[38;5;167;01mException\u001b[39;00m \u001b[38;5;28;01mas\u001b[39;00m e:\n\u001b[0;32m    152\u001b[0m   filtered_tb \u001b[38;5;241m=\u001b[39m _process_traceback_frames(e\u001b[38;5;241m.\u001b[39m__traceback__)\n",
      "File \u001b[1;32mD:\\Program File\\Anaconda\\envs\\practicum\\lib\\site-packages\\tensorflow\\python\\eager\\def_function.py:915\u001b[0m, in \u001b[0;36mFunction.__call__\u001b[1;34m(self, *args, **kwds)\u001b[0m\n\u001b[0;32m    912\u001b[0m compiler \u001b[38;5;241m=\u001b[39m \u001b[38;5;124m\"\u001b[39m\u001b[38;5;124mxla\u001b[39m\u001b[38;5;124m\"\u001b[39m \u001b[38;5;28;01mif\u001b[39;00m \u001b[38;5;28mself\u001b[39m\u001b[38;5;241m.\u001b[39m_jit_compile \u001b[38;5;28;01melse\u001b[39;00m \u001b[38;5;124m\"\u001b[39m\u001b[38;5;124mnonXla\u001b[39m\u001b[38;5;124m\"\u001b[39m\n\u001b[0;32m    914\u001b[0m \u001b[38;5;28;01mwith\u001b[39;00m OptionalXlaContext(\u001b[38;5;28mself\u001b[39m\u001b[38;5;241m.\u001b[39m_jit_compile):\n\u001b[1;32m--> 915\u001b[0m   result \u001b[38;5;241m=\u001b[39m \u001b[38;5;28mself\u001b[39m\u001b[38;5;241m.\u001b[39m_call(\u001b[38;5;241m*\u001b[39margs, \u001b[38;5;241m*\u001b[39m\u001b[38;5;241m*\u001b[39mkwds)\n\u001b[0;32m    917\u001b[0m new_tracing_count \u001b[38;5;241m=\u001b[39m \u001b[38;5;28mself\u001b[39m\u001b[38;5;241m.\u001b[39mexperimental_get_tracing_count()\n\u001b[0;32m    918\u001b[0m without_tracing \u001b[38;5;241m=\u001b[39m (tracing_count \u001b[38;5;241m==\u001b[39m new_tracing_count)\n",
      "File \u001b[1;32mD:\\Program File\\Anaconda\\envs\\practicum\\lib\\site-packages\\tensorflow\\python\\eager\\def_function.py:947\u001b[0m, in \u001b[0;36mFunction._call\u001b[1;34m(self, *args, **kwds)\u001b[0m\n\u001b[0;32m    944\u001b[0m   \u001b[38;5;28mself\u001b[39m\u001b[38;5;241m.\u001b[39m_lock\u001b[38;5;241m.\u001b[39mrelease()\n\u001b[0;32m    945\u001b[0m   \u001b[38;5;66;03m# In this case we have created variables on the first call, so we run the\u001b[39;00m\n\u001b[0;32m    946\u001b[0m   \u001b[38;5;66;03m# defunned version which is guaranteed to never create variables.\u001b[39;00m\n\u001b[1;32m--> 947\u001b[0m   \u001b[38;5;28;01mreturn\u001b[39;00m \u001b[38;5;28mself\u001b[39m\u001b[38;5;241m.\u001b[39m_stateless_fn(\u001b[38;5;241m*\u001b[39margs, \u001b[38;5;241m*\u001b[39m\u001b[38;5;241m*\u001b[39mkwds)  \u001b[38;5;66;03m# pylint: disable=not-callable\u001b[39;00m\n\u001b[0;32m    948\u001b[0m \u001b[38;5;28;01melif\u001b[39;00m \u001b[38;5;28mself\u001b[39m\u001b[38;5;241m.\u001b[39m_stateful_fn \u001b[38;5;129;01mis\u001b[39;00m \u001b[38;5;129;01mnot\u001b[39;00m \u001b[38;5;28;01mNone\u001b[39;00m:\n\u001b[0;32m    949\u001b[0m   \u001b[38;5;66;03m# Release the lock early so that multiple threads can perform the call\u001b[39;00m\n\u001b[0;32m    950\u001b[0m   \u001b[38;5;66;03m# in parallel.\u001b[39;00m\n\u001b[0;32m    951\u001b[0m   \u001b[38;5;28mself\u001b[39m\u001b[38;5;241m.\u001b[39m_lock\u001b[38;5;241m.\u001b[39mrelease()\n",
      "File \u001b[1;32mD:\\Program File\\Anaconda\\envs\\practicum\\lib\\site-packages\\tensorflow\\python\\eager\\function.py:2496\u001b[0m, in \u001b[0;36m__call__\u001b[1;34m(self, *args, **kwargs)\u001b[0m\n\u001b[0;32m   2478\u001b[0m \u001b[38;5;28;01mdef\u001b[39;00m \u001b[38;5;21m__init__\u001b[39m(\u001b[38;5;28mself\u001b[39m,\n\u001b[0;32m   2479\u001b[0m              fullargspec,\n\u001b[0;32m   2480\u001b[0m              is_method,\n\u001b[1;32m   (...)\u001b[0m\n\u001b[0;32m   2484\u001b[0m              name\u001b[38;5;241m=\u001b[39m\u001b[38;5;28;01mNone\u001b[39;00m,\n\u001b[0;32m   2485\u001b[0m              jit_compile\u001b[38;5;241m=\u001b[39m\u001b[38;5;28;01mNone\u001b[39;00m):\n\u001b[0;32m   2486\u001b[0m   \u001b[38;5;124;03m\"\"\"Constructs a FunctionSpec describing a python function.\u001b[39;00m\n\u001b[0;32m   2487\u001b[0m \n\u001b[0;32m   2488\u001b[0m \u001b[38;5;124;03m  Args:\u001b[39;00m\n\u001b[0;32m   2489\u001b[0m \u001b[38;5;124;03m    fullargspec: `tf_inspect.FullArgSpec` object describing the function.\u001b[39;00m\n\u001b[0;32m   2490\u001b[0m \u001b[38;5;124;03m    is_method: True if the function is a method.\u001b[39;00m\n\u001b[0;32m   2491\u001b[0m \u001b[38;5;124;03m    input_signature: a signature of the function (None, if variable)\u001b[39;00m\n\u001b[0;32m   2492\u001b[0m \u001b[38;5;124;03m    is_pure: if True all input arguments (including variables and constants)\u001b[39;00m\n\u001b[0;32m   2493\u001b[0m \u001b[38;5;124;03m      will be converted to tensors and no variable changes allowed.\u001b[39;00m\n\u001b[0;32m   2494\u001b[0m \u001b[38;5;124;03m    experimental_follow_type_hints: see `tf.function`.\u001b[39;00m\n\u001b[0;32m   2495\u001b[0m \u001b[38;5;124;03m    name: Name of the function\u001b[39;00m\n\u001b[1;32m-> 2496\u001b[0m \u001b[38;5;124;03m    jit_compile: see `tf.function`.\u001b[39;00m\n\u001b[0;32m   2497\u001b[0m \u001b[38;5;124;03m  \"\"\"\u001b[39;00m\n\u001b[0;32m   2498\u001b[0m   \u001b[38;5;28mself\u001b[39m\u001b[38;5;241m.\u001b[39m_fullargspec \u001b[38;5;241m=\u001b[39m fullargspec\n\u001b[0;32m   2499\u001b[0m   \u001b[38;5;28mself\u001b[39m\u001b[38;5;241m.\u001b[39m_is_method \u001b[38;5;241m=\u001b[39m is_method\n",
      "File \u001b[1;32mD:\\Program File\\Anaconda\\envs\\practicum\\lib\\site-packages\\tensorflow\\python\\eager\\function.py:1862\u001b[0m, in \u001b[0;36m_call_flat\u001b[1;34m(self, args, captured_inputs, cancellation_manager)\u001b[0m\n\u001b[0;32m   1859\u001b[0m forward_function, args_with_tangents \u001b[38;5;241m=\u001b[39m forward_backward\u001b[38;5;241m.\u001b[39mforward()\n\u001b[0;32m   1860\u001b[0m \u001b[38;5;28;01mif\u001b[39;00m executing_eagerly:\n\u001b[0;32m   1861\u001b[0m   flat_outputs \u001b[38;5;241m=\u001b[39m forward_function\u001b[38;5;241m.\u001b[39mcall(\n\u001b[1;32m-> 1862\u001b[0m       ctx, args_with_tangents, cancellation_manager\u001b[38;5;241m=\u001b[39mcancellation_manager)\n\u001b[0;32m   1863\u001b[0m \u001b[38;5;28;01melse\u001b[39;00m:\n\u001b[0;32m   1864\u001b[0m   \u001b[38;5;28;01mwith\u001b[39;00m default_graph\u001b[38;5;241m.\u001b[39m_override_gradient_function(  \u001b[38;5;66;03m# pylint: disable=protected-access\u001b[39;00m\n\u001b[0;32m   1865\u001b[0m       {\u001b[38;5;124m\"\u001b[39m\u001b[38;5;124mPartitionedCall\u001b[39m\u001b[38;5;124m\"\u001b[39m: \u001b[38;5;28mself\u001b[39m\u001b[38;5;241m.\u001b[39m_get_gradient_function(),\n\u001b[0;32m   1866\u001b[0m        \u001b[38;5;124m\"\u001b[39m\u001b[38;5;124mStatefulPartitionedCall\u001b[39m\u001b[38;5;124m\"\u001b[39m: \u001b[38;5;28mself\u001b[39m\u001b[38;5;241m.\u001b[39m_get_gradient_function()}):\n",
      "File \u001b[1;32mD:\\Program File\\Anaconda\\envs\\practicum\\lib\\site-packages\\tensorflow\\python\\eager\\function.py:499\u001b[0m, in \u001b[0;36mcall\u001b[1;34m(self, ctx, args, cancellation_manager)\u001b[0m\n\u001b[0;32m    497\u001b[0m \u001b[38;5;28;01mwith\u001b[39;00m _InterpolateFunctionError(\u001b[38;5;28mself\u001b[39m):\n\u001b[0;32m    498\u001b[0m   \u001b[38;5;28;01mif\u001b[39;00m cancellation_manager \u001b[38;5;129;01mis\u001b[39;00m \u001b[38;5;28;01mNone\u001b[39;00m:\n\u001b[1;32m--> 499\u001b[0m     outputs \u001b[38;5;241m=\u001b[39m execute\u001b[38;5;241m.\u001b[39mexecute(\n\u001b[0;32m    500\u001b[0m         \u001b[38;5;28mstr\u001b[39m(\u001b[38;5;28mself\u001b[39m\u001b[38;5;241m.\u001b[39msignature\u001b[38;5;241m.\u001b[39mname),\n\u001b[0;32m    501\u001b[0m         num_outputs\u001b[38;5;241m=\u001b[39m\u001b[38;5;28mself\u001b[39m\u001b[38;5;241m.\u001b[39m_num_outputs,\n\u001b[0;32m    502\u001b[0m         inputs\u001b[38;5;241m=\u001b[39margs,\n\u001b[0;32m    503\u001b[0m         attrs\u001b[38;5;241m=\u001b[39mattrs,\n\u001b[0;32m    504\u001b[0m         ctx\u001b[38;5;241m=\u001b[39mctx)\n\u001b[0;32m    505\u001b[0m   \u001b[38;5;28;01melse\u001b[39;00m:\n\u001b[0;32m    506\u001b[0m     outputs \u001b[38;5;241m=\u001b[39m execute\u001b[38;5;241m.\u001b[39mexecute_with_cancellation(\n\u001b[0;32m    507\u001b[0m         \u001b[38;5;28mstr\u001b[39m(\u001b[38;5;28mself\u001b[39m\u001b[38;5;241m.\u001b[39msignature\u001b[38;5;241m.\u001b[39mname),\n\u001b[0;32m    508\u001b[0m         num_outputs\u001b[38;5;241m=\u001b[39m\u001b[38;5;28mself\u001b[39m\u001b[38;5;241m.\u001b[39m_num_outputs,\n\u001b[1;32m   (...)\u001b[0m\n\u001b[0;32m    511\u001b[0m         ctx\u001b[38;5;241m=\u001b[39mctx,\n\u001b[0;32m    512\u001b[0m         cancellation_manager\u001b[38;5;241m=\u001b[39mcancellation_manager)\n",
      "File \u001b[1;32mD:\\Program File\\Anaconda\\envs\\practicum\\lib\\site-packages\\tensorflow\\python\\eager\\execute.py:54\u001b[0m, in \u001b[0;36mquick_execute\u001b[1;34m(op_name, num_outputs, inputs, attrs, ctx, name)\u001b[0m\n\u001b[0;32m     52\u001b[0m \u001b[38;5;28;01mtry\u001b[39;00m:\n\u001b[0;32m     53\u001b[0m   ctx\u001b[38;5;241m.\u001b[39mensure_initialized()\n\u001b[1;32m---> 54\u001b[0m   tensors \u001b[38;5;241m=\u001b[39m \u001b[43mpywrap_tfe\u001b[49m\u001b[38;5;241;43m.\u001b[39;49m\u001b[43mTFE_Py_Execute\u001b[49m\u001b[43m(\u001b[49m\u001b[43mctx\u001b[49m\u001b[38;5;241;43m.\u001b[39;49m\u001b[43m_handle\u001b[49m\u001b[43m,\u001b[49m\u001b[43m \u001b[49m\u001b[43mdevice_name\u001b[49m\u001b[43m,\u001b[49m\u001b[43m \u001b[49m\u001b[43mop_name\u001b[49m\u001b[43m,\u001b[49m\n\u001b[0;32m     55\u001b[0m \u001b[43m                                      \u001b[49m\u001b[43minputs\u001b[49m\u001b[43m,\u001b[49m\u001b[43m \u001b[49m\u001b[43mattrs\u001b[49m\u001b[43m,\u001b[49m\u001b[43m \u001b[49m\u001b[43mnum_outputs\u001b[49m\u001b[43m)\u001b[49m\n\u001b[0;32m     56\u001b[0m \u001b[38;5;28;01mexcept\u001b[39;00m core\u001b[38;5;241m.\u001b[39m_NotOkStatusException \u001b[38;5;28;01mas\u001b[39;00m e:\n\u001b[0;32m     57\u001b[0m   \u001b[38;5;28;01mif\u001b[39;00m name \u001b[38;5;129;01mis\u001b[39;00m \u001b[38;5;129;01mnot\u001b[39;00m \u001b[38;5;28;01mNone\u001b[39;00m:\n",
      "\u001b[1;31mKeyboardInterrupt\u001b[0m: "
     ]
    }
   ],
   "source": [
    "print(f'Training model with {tfhub_handle_encoder}')\n",
    "\n",
    "history = classifier_model.fit(x=toxic_comments_csv_ds, validation_data=val_ds, epochs=epochs)"
   ]
  },
  {
   "cell_type": "markdown",
   "id": "a43be519",
   "metadata": {},
   "source": [
    "<div class=\"alert alert-block alert-info\">\n",
    "\n",
    "Комментарий студента V1: У меня вопрос к ревью. Я сделал примерно то, что было по образцу с вебинара. Но здесь не указан конец шага, т.е. там вместо числа стоит `Unknown`. Получается, что здесь будет бесконечная итерация\n",
    "    \n",
    "</div>"
   ]
  },
  {
   "attachments": {
    "image.png": {
     "image/png": "[encoded data removed]"
    }
   },
   "cell_type": "markdown",
   "id": "1bc9e5c0",
   "metadata": {},
   "source": [
    "![image.png](attachment:image.png)"
   ]
  },
  {
   "cell_type": "markdown",
   "id": "8cbb3dc4",
   "metadata": {},
   "source": [
    "### Оценка моделей"
   ]
  },
  {
   "cell_type": "code",
   "execution_count": 455,
   "id": "b44c06fb",
   "metadata": {},
   "outputs": [
    {
     "name": "stdout",
     "output_type": "stream",
     "text": [
      "     54/Unknown - 40s 716ms/step - loss: -5944.1006 - binary_accuracy: 0.0000e+00"
     ]
    },
    {
     "ename": "KeyboardInterrupt",
     "evalue": "",
     "output_type": "error",
     "traceback": [
      "\u001b[1;31m---------------------------------------------------------------------------\u001b[0m",
      "\u001b[1;31mKeyboardInterrupt\u001b[0m                         Traceback (most recent call last)",
      "Cell \u001b[1;32mIn[455], line 1\u001b[0m\n\u001b[1;32m----> 1\u001b[0m loss, accuracy \u001b[38;5;241m=\u001b[39m \u001b[43mclassifier_model\u001b[49m\u001b[38;5;241;43m.\u001b[39;49m\u001b[43mevaluate\u001b[49m\u001b[43m(\u001b[49m\u001b[43mtoxic_comments_csv_ds_test\u001b[49m\u001b[43m)\u001b[49m\n\u001b[0;32m      3\u001b[0m \u001b[38;5;28mprint\u001b[39m(\u001b[38;5;124mf\u001b[39m\u001b[38;5;124m'\u001b[39m\u001b[38;5;124mLoss: \u001b[39m\u001b[38;5;132;01m{\u001b[39;00mloss\u001b[38;5;132;01m}\u001b[39;00m\u001b[38;5;124m'\u001b[39m)\n\u001b[0;32m      4\u001b[0m \u001b[38;5;28mprint\u001b[39m(\u001b[38;5;124mf\u001b[39m\u001b[38;5;124m'\u001b[39m\u001b[38;5;124mAccuracy: \u001b[39m\u001b[38;5;132;01m{\u001b[39;00maccuracy\u001b[38;5;132;01m}\u001b[39;00m\u001b[38;5;124m'\u001b[39m)\n",
      "File \u001b[1;32mD:\\Program File\\Anaconda\\envs\\practicum\\lib\\site-packages\\keras\\utils\\traceback_utils.py:65\u001b[0m, in \u001b[0;36mfilter_traceback.<locals>.error_handler\u001b[1;34m(*args, **kwargs)\u001b[0m\n\u001b[0;32m     63\u001b[0m filtered_tb \u001b[38;5;241m=\u001b[39m \u001b[38;5;28;01mNone\u001b[39;00m\n\u001b[0;32m     64\u001b[0m \u001b[38;5;28;01mtry\u001b[39;00m:\n\u001b[1;32m---> 65\u001b[0m     \u001b[38;5;28;01mreturn\u001b[39;00m fn(\u001b[38;5;241m*\u001b[39margs, \u001b[38;5;241m*\u001b[39m\u001b[38;5;241m*\u001b[39mkwargs)\n\u001b[0;32m     66\u001b[0m \u001b[38;5;28;01mexcept\u001b[39;00m \u001b[38;5;167;01mException\u001b[39;00m \u001b[38;5;28;01mas\u001b[39;00m e:\n\u001b[0;32m     67\u001b[0m     filtered_tb \u001b[38;5;241m=\u001b[39m _process_traceback_frames(e\u001b[38;5;241m.\u001b[39m__traceback__)\n",
      "File \u001b[1;32mD:\\Program File\\Anaconda\\envs\\practicum\\lib\\site-packages\\keras\\engine\\training.py:1947\u001b[0m, in \u001b[0;36mModel.evaluate\u001b[1;34m(self, x, y, batch_size, verbose, sample_weight, steps, callbacks, max_queue_size, workers, use_multiprocessing, return_dict, **kwargs)\u001b[0m\n\u001b[0;32m   1943\u001b[0m \u001b[38;5;28;01mwith\u001b[39;00m tf\u001b[38;5;241m.\u001b[39mprofiler\u001b[38;5;241m.\u001b[39mexperimental\u001b[38;5;241m.\u001b[39mTrace(\n\u001b[0;32m   1944\u001b[0m     \u001b[38;5;124m\"\u001b[39m\u001b[38;5;124mtest\u001b[39m\u001b[38;5;124m\"\u001b[39m, step_num\u001b[38;5;241m=\u001b[39mstep, _r\u001b[38;5;241m=\u001b[39m\u001b[38;5;241m1\u001b[39m\n\u001b[0;32m   1945\u001b[0m ):\n\u001b[0;32m   1946\u001b[0m     callbacks\u001b[38;5;241m.\u001b[39mon_test_batch_begin(step)\n\u001b[1;32m-> 1947\u001b[0m     tmp_logs \u001b[38;5;241m=\u001b[39m \u001b[38;5;28;43mself\u001b[39;49m\u001b[38;5;241;43m.\u001b[39;49m\u001b[43mtest_function\u001b[49m\u001b[43m(\u001b[49m\u001b[43miterator\u001b[49m\u001b[43m)\u001b[49m\n\u001b[0;32m   1948\u001b[0m     \u001b[38;5;28;01mif\u001b[39;00m data_handler\u001b[38;5;241m.\u001b[39mshould_sync:\n\u001b[0;32m   1949\u001b[0m         context\u001b[38;5;241m.\u001b[39masync_wait()\n",
      "File \u001b[1;32mD:\\Program File\\Anaconda\\envs\\practicum\\lib\\site-packages\\tensorflow\\python\\util\\traceback_utils.py:150\u001b[0m, in \u001b[0;36mfilter_traceback.<locals>.error_handler\u001b[1;34m(*args, **kwargs)\u001b[0m\n\u001b[0;32m    148\u001b[0m filtered_tb \u001b[38;5;241m=\u001b[39m \u001b[38;5;28;01mNone\u001b[39;00m\n\u001b[0;32m    149\u001b[0m \u001b[38;5;28;01mtry\u001b[39;00m:\n\u001b[1;32m--> 150\u001b[0m   \u001b[38;5;28;01mreturn\u001b[39;00m fn(\u001b[38;5;241m*\u001b[39margs, \u001b[38;5;241m*\u001b[39m\u001b[38;5;241m*\u001b[39mkwargs)\n\u001b[0;32m    151\u001b[0m \u001b[38;5;28;01mexcept\u001b[39;00m \u001b[38;5;167;01mException\u001b[39;00m \u001b[38;5;28;01mas\u001b[39;00m e:\n\u001b[0;32m    152\u001b[0m   filtered_tb \u001b[38;5;241m=\u001b[39m _process_traceback_frames(e\u001b[38;5;241m.\u001b[39m__traceback__)\n",
      "File \u001b[1;32mD:\\Program File\\Anaconda\\envs\\practicum\\lib\\site-packages\\tensorflow\\python\\eager\\def_function.py:915\u001b[0m, in \u001b[0;36mFunction.__call__\u001b[1;34m(self, *args, **kwds)\u001b[0m\n\u001b[0;32m    912\u001b[0m compiler \u001b[38;5;241m=\u001b[39m \u001b[38;5;124m\"\u001b[39m\u001b[38;5;124mxla\u001b[39m\u001b[38;5;124m\"\u001b[39m \u001b[38;5;28;01mif\u001b[39;00m \u001b[38;5;28mself\u001b[39m\u001b[38;5;241m.\u001b[39m_jit_compile \u001b[38;5;28;01melse\u001b[39;00m \u001b[38;5;124m\"\u001b[39m\u001b[38;5;124mnonXla\u001b[39m\u001b[38;5;124m\"\u001b[39m\n\u001b[0;32m    914\u001b[0m \u001b[38;5;28;01mwith\u001b[39;00m OptionalXlaContext(\u001b[38;5;28mself\u001b[39m\u001b[38;5;241m.\u001b[39m_jit_compile):\n\u001b[1;32m--> 915\u001b[0m   result \u001b[38;5;241m=\u001b[39m \u001b[38;5;28mself\u001b[39m\u001b[38;5;241m.\u001b[39m_call(\u001b[38;5;241m*\u001b[39margs, \u001b[38;5;241m*\u001b[39m\u001b[38;5;241m*\u001b[39mkwds)\n\u001b[0;32m    917\u001b[0m new_tracing_count \u001b[38;5;241m=\u001b[39m \u001b[38;5;28mself\u001b[39m\u001b[38;5;241m.\u001b[39mexperimental_get_tracing_count()\n\u001b[0;32m    918\u001b[0m without_tracing \u001b[38;5;241m=\u001b[39m (tracing_count \u001b[38;5;241m==\u001b[39m new_tracing_count)\n",
      "File \u001b[1;32mD:\\Program File\\Anaconda\\envs\\practicum\\lib\\site-packages\\tensorflow\\python\\eager\\def_function.py:954\u001b[0m, in \u001b[0;36mFunction._call\u001b[1;34m(self, *args, **kwds)\u001b[0m\n\u001b[0;32m    951\u001b[0m \u001b[38;5;28mself\u001b[39m\u001b[38;5;241m.\u001b[39m_lock\u001b[38;5;241m.\u001b[39mrelease()\n\u001b[0;32m    952\u001b[0m \u001b[38;5;66;03m# In this case we have not created variables on the first call. So we can\u001b[39;00m\n\u001b[0;32m    953\u001b[0m \u001b[38;5;66;03m# run the first trace but we should fail if variables are created.\u001b[39;00m\n\u001b[1;32m--> 954\u001b[0m results \u001b[38;5;241m=\u001b[39m \u001b[38;5;28mself\u001b[39m\u001b[38;5;241m.\u001b[39m_stateful_fn(\u001b[38;5;241m*\u001b[39margs, \u001b[38;5;241m*\u001b[39m\u001b[38;5;241m*\u001b[39mkwds)\n\u001b[0;32m    955\u001b[0m \u001b[38;5;28;01mif\u001b[39;00m \u001b[38;5;28mself\u001b[39m\u001b[38;5;241m.\u001b[39m_created_variables \u001b[38;5;129;01mand\u001b[39;00m \u001b[38;5;129;01mnot\u001b[39;00m ALLOW_DYNAMIC_VARIABLE_CREATION:\n\u001b[0;32m    956\u001b[0m   \u001b[38;5;28;01mraise\u001b[39;00m \u001b[38;5;167;01mValueError\u001b[39;00m(\u001b[38;5;124m\"\u001b[39m\u001b[38;5;124mCreating variables on a non-first call to a function\u001b[39m\u001b[38;5;124m\"\u001b[39m\n\u001b[0;32m    957\u001b[0m                    \u001b[38;5;124m\"\u001b[39m\u001b[38;5;124m decorated with tf.function.\u001b[39m\u001b[38;5;124m\"\u001b[39m)\n",
      "File \u001b[1;32mD:\\Program File\\Anaconda\\envs\\practicum\\lib\\site-packages\\tensorflow\\python\\eager\\function.py:2496\u001b[0m, in \u001b[0;36m__call__\u001b[1;34m(self, *args, **kwargs)\u001b[0m\n\u001b[0;32m   2478\u001b[0m \u001b[38;5;28;01mdef\u001b[39;00m \u001b[38;5;21m__init__\u001b[39m(\u001b[38;5;28mself\u001b[39m,\n\u001b[0;32m   2479\u001b[0m              fullargspec,\n\u001b[0;32m   2480\u001b[0m              is_method,\n\u001b[1;32m   (...)\u001b[0m\n\u001b[0;32m   2484\u001b[0m              name\u001b[38;5;241m=\u001b[39m\u001b[38;5;28;01mNone\u001b[39;00m,\n\u001b[0;32m   2485\u001b[0m              jit_compile\u001b[38;5;241m=\u001b[39m\u001b[38;5;28;01mNone\u001b[39;00m):\n\u001b[0;32m   2486\u001b[0m   \u001b[38;5;124;03m\"\"\"Constructs a FunctionSpec describing a python function.\u001b[39;00m\n\u001b[0;32m   2487\u001b[0m \n\u001b[0;32m   2488\u001b[0m \u001b[38;5;124;03m  Args:\u001b[39;00m\n\u001b[0;32m   2489\u001b[0m \u001b[38;5;124;03m    fullargspec: `tf_inspect.FullArgSpec` object describing the function.\u001b[39;00m\n\u001b[0;32m   2490\u001b[0m \u001b[38;5;124;03m    is_method: True if the function is a method.\u001b[39;00m\n\u001b[0;32m   2491\u001b[0m \u001b[38;5;124;03m    input_signature: a signature of the function (None, if variable)\u001b[39;00m\n\u001b[0;32m   2492\u001b[0m \u001b[38;5;124;03m    is_pure: if True all input arguments (including variables and constants)\u001b[39;00m\n\u001b[0;32m   2493\u001b[0m \u001b[38;5;124;03m      will be converted to tensors and no variable changes allowed.\u001b[39;00m\n\u001b[0;32m   2494\u001b[0m \u001b[38;5;124;03m    experimental_follow_type_hints: see `tf.function`.\u001b[39;00m\n\u001b[0;32m   2495\u001b[0m \u001b[38;5;124;03m    name: Name of the function\u001b[39;00m\n\u001b[1;32m-> 2496\u001b[0m \u001b[38;5;124;03m    jit_compile: see `tf.function`.\u001b[39;00m\n\u001b[0;32m   2497\u001b[0m \u001b[38;5;124;03m  \"\"\"\u001b[39;00m\n\u001b[0;32m   2498\u001b[0m   \u001b[38;5;28mself\u001b[39m\u001b[38;5;241m.\u001b[39m_fullargspec \u001b[38;5;241m=\u001b[39m fullargspec\n\u001b[0;32m   2499\u001b[0m   \u001b[38;5;28mself\u001b[39m\u001b[38;5;241m.\u001b[39m_is_method \u001b[38;5;241m=\u001b[39m is_method\n",
      "File \u001b[1;32mD:\\Program File\\Anaconda\\envs\\practicum\\lib\\site-packages\\tensorflow\\python\\eager\\function.py:1862\u001b[0m, in \u001b[0;36m_call_flat\u001b[1;34m(self, args, captured_inputs, cancellation_manager)\u001b[0m\n\u001b[0;32m   1859\u001b[0m forward_function, args_with_tangents \u001b[38;5;241m=\u001b[39m forward_backward\u001b[38;5;241m.\u001b[39mforward()\n\u001b[0;32m   1860\u001b[0m \u001b[38;5;28;01mif\u001b[39;00m executing_eagerly:\n\u001b[0;32m   1861\u001b[0m   flat_outputs \u001b[38;5;241m=\u001b[39m forward_function\u001b[38;5;241m.\u001b[39mcall(\n\u001b[1;32m-> 1862\u001b[0m       ctx, args_with_tangents, cancellation_manager\u001b[38;5;241m=\u001b[39mcancellation_manager)\n\u001b[0;32m   1863\u001b[0m \u001b[38;5;28;01melse\u001b[39;00m:\n\u001b[0;32m   1864\u001b[0m   \u001b[38;5;28;01mwith\u001b[39;00m default_graph\u001b[38;5;241m.\u001b[39m_override_gradient_function(  \u001b[38;5;66;03m# pylint: disable=protected-access\u001b[39;00m\n\u001b[0;32m   1865\u001b[0m       {\u001b[38;5;124m\"\u001b[39m\u001b[38;5;124mPartitionedCall\u001b[39m\u001b[38;5;124m\"\u001b[39m: \u001b[38;5;28mself\u001b[39m\u001b[38;5;241m.\u001b[39m_get_gradient_function(),\n\u001b[0;32m   1866\u001b[0m        \u001b[38;5;124m\"\u001b[39m\u001b[38;5;124mStatefulPartitionedCall\u001b[39m\u001b[38;5;124m\"\u001b[39m: \u001b[38;5;28mself\u001b[39m\u001b[38;5;241m.\u001b[39m_get_gradient_function()}):\n",
      "File \u001b[1;32mD:\\Program File\\Anaconda\\envs\\practicum\\lib\\site-packages\\tensorflow\\python\\eager\\function.py:499\u001b[0m, in \u001b[0;36mcall\u001b[1;34m(self, ctx, args, cancellation_manager)\u001b[0m\n\u001b[0;32m    497\u001b[0m \u001b[38;5;28;01mwith\u001b[39;00m _InterpolateFunctionError(\u001b[38;5;28mself\u001b[39m):\n\u001b[0;32m    498\u001b[0m   \u001b[38;5;28;01mif\u001b[39;00m cancellation_manager \u001b[38;5;129;01mis\u001b[39;00m \u001b[38;5;28;01mNone\u001b[39;00m:\n\u001b[1;32m--> 499\u001b[0m     outputs \u001b[38;5;241m=\u001b[39m execute\u001b[38;5;241m.\u001b[39mexecute(\n\u001b[0;32m    500\u001b[0m         \u001b[38;5;28mstr\u001b[39m(\u001b[38;5;28mself\u001b[39m\u001b[38;5;241m.\u001b[39msignature\u001b[38;5;241m.\u001b[39mname),\n\u001b[0;32m    501\u001b[0m         num_outputs\u001b[38;5;241m=\u001b[39m\u001b[38;5;28mself\u001b[39m\u001b[38;5;241m.\u001b[39m_num_outputs,\n\u001b[0;32m    502\u001b[0m         inputs\u001b[38;5;241m=\u001b[39margs,\n\u001b[0;32m    503\u001b[0m         attrs\u001b[38;5;241m=\u001b[39mattrs,\n\u001b[0;32m    504\u001b[0m         ctx\u001b[38;5;241m=\u001b[39mctx)\n\u001b[0;32m    505\u001b[0m   \u001b[38;5;28;01melse\u001b[39;00m:\n\u001b[0;32m    506\u001b[0m     outputs \u001b[38;5;241m=\u001b[39m execute\u001b[38;5;241m.\u001b[39mexecute_with_cancellation(\n\u001b[0;32m    507\u001b[0m         \u001b[38;5;28mstr\u001b[39m(\u001b[38;5;28mself\u001b[39m\u001b[38;5;241m.\u001b[39msignature\u001b[38;5;241m.\u001b[39mname),\n\u001b[0;32m    508\u001b[0m         num_outputs\u001b[38;5;241m=\u001b[39m\u001b[38;5;28mself\u001b[39m\u001b[38;5;241m.\u001b[39m_num_outputs,\n\u001b[1;32m   (...)\u001b[0m\n\u001b[0;32m    511\u001b[0m         ctx\u001b[38;5;241m=\u001b[39mctx,\n\u001b[0;32m    512\u001b[0m         cancellation_manager\u001b[38;5;241m=\u001b[39mcancellation_manager)\n",
      "File \u001b[1;32mD:\\Program File\\Anaconda\\envs\\practicum\\lib\\site-packages\\tensorflow\\python\\eager\\execute.py:54\u001b[0m, in \u001b[0;36mquick_execute\u001b[1;34m(op_name, num_outputs, inputs, attrs, ctx, name)\u001b[0m\n\u001b[0;32m     52\u001b[0m \u001b[38;5;28;01mtry\u001b[39;00m:\n\u001b[0;32m     53\u001b[0m   ctx\u001b[38;5;241m.\u001b[39mensure_initialized()\n\u001b[1;32m---> 54\u001b[0m   tensors \u001b[38;5;241m=\u001b[39m \u001b[43mpywrap_tfe\u001b[49m\u001b[38;5;241;43m.\u001b[39;49m\u001b[43mTFE_Py_Execute\u001b[49m\u001b[43m(\u001b[49m\u001b[43mctx\u001b[49m\u001b[38;5;241;43m.\u001b[39;49m\u001b[43m_handle\u001b[49m\u001b[43m,\u001b[49m\u001b[43m \u001b[49m\u001b[43mdevice_name\u001b[49m\u001b[43m,\u001b[49m\u001b[43m \u001b[49m\u001b[43mop_name\u001b[49m\u001b[43m,\u001b[49m\n\u001b[0;32m     55\u001b[0m \u001b[43m                                      \u001b[49m\u001b[43minputs\u001b[49m\u001b[43m,\u001b[49m\u001b[43m \u001b[49m\u001b[43mattrs\u001b[49m\u001b[43m,\u001b[49m\u001b[43m \u001b[49m\u001b[43mnum_outputs\u001b[49m\u001b[43m)\u001b[49m\n\u001b[0;32m     56\u001b[0m \u001b[38;5;28;01mexcept\u001b[39;00m core\u001b[38;5;241m.\u001b[39m_NotOkStatusException \u001b[38;5;28;01mas\u001b[39;00m e:\n\u001b[0;32m     57\u001b[0m   \u001b[38;5;28;01mif\u001b[39;00m name \u001b[38;5;129;01mis\u001b[39;00m \u001b[38;5;129;01mnot\u001b[39;00m \u001b[38;5;28;01mNone\u001b[39;00m:\n",
      "\u001b[1;31mKeyboardInterrupt\u001b[0m: "
     ]
    }
   ],
   "source": [
    "loss, accuracy = classifier_model.evaluate(toxic_comments_csv_ds_test)\n",
    "\n",
    "print(f'Loss: {loss}')\n",
    "print(f'Accuracy: {accuracy}')"
   ]
  },
  {
   "cell_type": "markdown",
   "id": "4fd41e66",
   "metadata": {},
   "source": [
    "<div class=\"alert alert-block alert-info\">\n",
    "\n",
    "Комментарий студента V1: И здесь аналогично\n",
    "    \n",
    "</div>"
   ]
  },
  {
   "attachments": {
    "image.png": {
     "image/png": "[encoded data removed]"
    }
   },
   "cell_type": "markdown",
   "id": "3e798a2d",
   "metadata": {},
   "source": [
    "![image.png](attachment:image.png)"
   ]
  },
  {
   "cell_type": "markdown",
   "id": "73dae050",
   "metadata": {},
   "source": [
    "### Построим график точности и потери с течением времени\n",
    "\n",
    "На основе объекта `History`, возвращаемого `model.fit()`. Вы можете построить график потерь при обучении и валидации для сравнения, а также точности обучения и валидации:"
   ]
  },
  {
   "cell_type": "code",
   "execution_count": 456,
   "id": "af81b6f5",
   "metadata": {},
   "outputs": [
    {
     "ename": "NameError",
     "evalue": "name 'history' is not defined",
     "output_type": "error",
     "traceback": [
      "\u001b[1;31m---------------------------------------------------------------------------\u001b[0m",
      "\u001b[1;31mNameError\u001b[0m                                 Traceback (most recent call last)",
      "Cell \u001b[1;32mIn[456], line 1\u001b[0m\n\u001b[1;32m----> 1\u001b[0m history_dict \u001b[38;5;241m=\u001b[39m \u001b[43mhistory\u001b[49m\u001b[38;5;241m.\u001b[39mhistory\n\u001b[0;32m      2\u001b[0m \u001b[38;5;28mprint\u001b[39m(history_dict\u001b[38;5;241m.\u001b[39mkeys())\n\u001b[0;32m      4\u001b[0m acc \u001b[38;5;241m=\u001b[39m history_dict[\u001b[38;5;124m'\u001b[39m\u001b[38;5;124mbinary_accuracy\u001b[39m\u001b[38;5;124m'\u001b[39m]\n",
      "\u001b[1;31mNameError\u001b[0m: name 'history' is not defined"
     ]
    }
   ],
   "source": [
    "history_dict = history.history\n",
    "print(history_dict.keys())\n",
    "\n",
    "acc = history_dict['binary_accuracy']\n",
    "val_acc = history_dict['val_binary_accuracy']\n",
    "loss = history_dict['loss']\n",
    "val_loss = history_dict['val_loss']\n",
    "\n",
    "epochs = range(1, len(acc) + 1)\n",
    "fig = plt.figure(figsize=(10, 6))\n",
    "fig.tight_layout()\n",
    "\n",
    "plt.subplot(2, 1, 1)\n",
    "# r is for \"solid red line\"\n",
    "plt.plot(epochs, loss, 'r', label='Training loss')\n",
    "# b is for \"solid blue line\"\n",
    "plt.plot(epochs, val_loss, 'b', label='Validation loss')\n",
    "plt.title('Training and validation loss')\n",
    "# plt.xlabel('Epochs')\n",
    "plt.ylabel('Loss')\n",
    "plt.legend()\n",
    "\n",
    "plt.subplot(2, 1, 2)\n",
    "plt.plot(epochs, acc, 'r', label='Training acc')\n",
    "plt.plot(epochs, val_acc, 'b', label='Validation acc')\n",
    "plt.title('Training and validation accuracy')\n",
    "plt.xlabel('Epochs')\n",
    "plt.ylabel('Accuracy')\n",
    "plt.legend(loc='lower right')"
   ]
  },
  {
   "cell_type": "markdown",
   "id": "db6c2890",
   "metadata": {},
   "source": [
    "## Проверим на F1-метрику"
   ]
  },
  {
   "cell_type": "code",
   "execution_count": 504,
   "id": "5b7aefbd",
   "metadata": {},
   "outputs": [],
   "source": [
    "# Каким образом можно вытянуть предсказания, если там выдает только функцию потери?"
   ]
  },
  {
   "cell_type": "code",
   "execution_count": 505,
   "id": "045b6575",
   "metadata": {},
   "outputs": [],
   "source": [
    "# В процессе"
   ]
  },
  {
   "cell_type": "code",
   "execution_count": null,
   "id": "47c05298",
   "metadata": {},
   "outputs": [],
   "source": []
  },
  {
   "cell_type": "markdown",
   "id": "4aa91e02",
   "metadata": {},
   "source": [
    "# Выводы"
   ]
  },
  {
   "cell_type": "code",
   "execution_count": 506,
   "id": "41f29090",
   "metadata": {},
   "outputs": [],
   "source": [
    "# В процессе"
   ]
  },
  {
   "cell_type": "markdown",
   "id": "698e0e67",
   "metadata": {},
   "source": [
    "## Чек-лист проверки"
   ]
  },
  {
   "cell_type": "markdown",
   "id": "52299a68",
   "metadata": {},
   "source": [
    "- [x]  Jupyter Notebook открыт\n",
    "- [ ]  Весь код выполняется без ошибок\n",
    "- [x]  Ячейки с кодом расположены в порядке исполнения\n",
    "- [x]  Данные загружены и подготовлены\n",
    "- [x]  Модели обучены\n",
    "- [x]  Значение метрики *F1* не меньше 0.75\n",
    "- [ ]  Выводы написаны"
   ]
  },
  {
   "cell_type": "code",
   "execution_count": null,
   "id": "2c7e001f",
   "metadata": {},
   "outputs": [],
   "source": []
  }
 ],
 "metadata": {
  "kernelspec": {
   "display_name": "Python 3 (ipykernel)",
   "language": "python",
   "name": "python3"
  },
  "language_info": {
   "codemirror_mode": {
    "name": "ipython",
    "version": 3
   },
   "file_extension": ".py",
   "mimetype": "text/x-python",
   "name": "python",
   "nbconvert_exporter": "python",
   "pygments_lexer": "ipython3",
   "version": "3.9.15"
  },
  "toc": {
   "base_numbering": 1,
   "nav_menu": {},
   "number_sections": true,
   "sideBar": true,
   "skip_h1_title": false,
   "title_cell": "Table of Contents",
   "title_sidebar": "Contents",
   "toc_cell": false,
   "toc_position": {
    "height": "calc(100% - 180px)",
    "left": "10px",
    "top": "150px",
    "width": "374.391px"
   },
   "toc_section_display": true,
   "toc_window_display": true
  }
 },
 "nbformat": 4,
 "nbformat_minor": 5
}
