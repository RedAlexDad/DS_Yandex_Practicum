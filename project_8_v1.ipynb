{
 "cells": [
  {
   "cell_type": "markdown",
   "metadata": {
    "toc": true
   },
   "source": [
    "<h1>Содержание<span class=\"tocSkip\"></span></h1>\n",
    "<div class=\"toc\"><ul class=\"toc-item\"><li><span><a href=\"#Загрузка-данных\" data-toc-modified-id=\"Загрузка-данных-1\"><span class=\"toc-item-num\">1&nbsp;&nbsp;</span>Загрузка данных</a></span></li><li><span><a href=\"#Умножение-матриц\" data-toc-modified-id=\"Умножение-матриц-2\"><span class=\"toc-item-num\">2&nbsp;&nbsp;</span>Умножение матриц</a></span></li><li><span><a href=\"#Алгоритм-преобразования\" data-toc-modified-id=\"Алгоритм-преобразования-3\"><span class=\"toc-item-num\">3&nbsp;&nbsp;</span>Алгоритм преобразования</a></span></li><li><span><a href=\"#Проверка-алгоритма\" data-toc-modified-id=\"Проверка-алгоритма-4\"><span class=\"toc-item-num\">4&nbsp;&nbsp;</span>Проверка алгоритма</a></span></li><li><span><a href=\"#Чек-лист-проверки\" data-toc-modified-id=\"Чек-лист-проверки-5\"><span class=\"toc-item-num\">5&nbsp;&nbsp;</span>Чек-лист проверки</a></span></li></ul></div>"
   ]
  },
  {
   "cell_type": "markdown",
   "metadata": {},
   "source": [
    "# Защита персональных данных клиентов"
   ]
  },
  {
   "cell_type": "markdown",
   "metadata": {},
   "source": [
    "Вам нужно защитить данные клиентов страховой компании «Хоть потоп». Разработайте такой метод преобразования данных, чтобы по ним было сложно восстановить персональную информацию. Обоснуйте корректность его работы.\n",
    "\n",
    "Нужно защитить данные, чтобы при преобразовании качество моделей машинного обучения не ухудшилось. Подбирать наилучшую модель не требуется."
   ]
  },
  {
   "cell_type": "code",
   "execution_count": 82,
   "outputs": [],
   "source": [
    "# Подключим необходимые библиотеки\n",
    "import pandas as pd\n",
    "import numpy as np\n",
    "import matplotlib.pyplot as plt\n",
    "import seaborn as sb\n",
    "import math\n",
    "# Для визуализации формулы\n",
    "# import latexify\n",
    "\n",
    "from sklearn.metrics import r2_score, mean_squared_error\n",
    "\n",
    "from sklearn.linear_model import LinearRegression"
   ],
   "metadata": {
    "collapsed": false
   }
  },
  {
   "cell_type": "markdown",
   "metadata": {},
   "source": [
    "## Загрузка данных"
   ]
  },
  {
   "cell_type": "code",
   "execution_count": 83,
   "metadata": {},
   "outputs": [],
   "source": [
    "try:\n",
    "    # Локальный файл\n",
    "    try:\n",
    "        df = pd.read_csv('insurance.csv')\n",
    "    # Файл с Яндекса\n",
    "    except:\n",
    "        df = pd.read_csv('/datasets/insurance.csv')\n",
    "except:\n",
    "    print('Не найден датасет. Проверьте адрес указанного файла')"
   ]
  },
  {
   "cell_type": "code",
   "execution_count": 84,
   "outputs": [
    {
     "name": "stdout",
     "output_type": "stream",
     "text": [
      "<class 'pandas.core.frame.DataFrame'>\n",
      "RangeIndex: 5000 entries, 0 to 4999\n",
      "Data columns (total 5 columns):\n",
      " #   Column             Non-Null Count  Dtype  \n",
      "---  ------             --------------  -----  \n",
      " 0   Пол                5000 non-null   int64  \n",
      " 1   Возраст            5000 non-null   float64\n",
      " 2   Зарплата           5000 non-null   float64\n",
      " 3   Члены семьи        5000 non-null   int64  \n",
      " 4   Страховые выплаты  5000 non-null   int64  \n",
      "dtypes: float64(2), int64(3)\n",
      "memory usage: 195.4 KB\n"
     ]
    }
   ],
   "source": [
    "df.info()"
   ],
   "metadata": {
    "collapsed": false
   }
  },
  {
   "cell_type": "code",
   "execution_count": 85,
   "outputs": [
    {
     "data": {
      "text/plain": "               Пол      Возраст      Зарплата  Члены семьи  Страховые выплаты\ncount  5000.000000  5000.000000   5000.000000  5000.000000        5000.000000\nmean      0.499000    30.952800  39916.360000     1.194200           0.148000\nstd       0.500049     8.440807   9900.083569     1.091387           0.463183\nmin       0.000000    18.000000   5300.000000     0.000000           0.000000\n25%       0.000000    24.000000  33300.000000     0.000000           0.000000\n50%       0.000000    30.000000  40200.000000     1.000000           0.000000\n75%       1.000000    37.000000  46600.000000     2.000000           0.000000\nmax       1.000000    65.000000  79000.000000     6.000000           5.000000",
      "text/html": "<div>\n<style scoped>\n    .dataframe tbody tr th:only-of-type {\n        vertical-align: middle;\n    }\n\n    .dataframe tbody tr th {\n        vertical-align: top;\n    }\n\n    .dataframe thead th {\n        text-align: right;\n    }\n</style>\n<table border=\"1\" class=\"dataframe\">\n  <thead>\n    <tr style=\"text-align: right;\">\n      <th></th>\n      <th>Пол</th>\n      <th>Возраст</th>\n      <th>Зарплата</th>\n      <th>Члены семьи</th>\n      <th>Страховые выплаты</th>\n    </tr>\n  </thead>\n  <tbody>\n    <tr>\n      <th>count</th>\n      <td>5000.000000</td>\n      <td>5000.000000</td>\n      <td>5000.000000</td>\n      <td>5000.000000</td>\n      <td>5000.000000</td>\n    </tr>\n    <tr>\n      <th>mean</th>\n      <td>0.499000</td>\n      <td>30.952800</td>\n      <td>39916.360000</td>\n      <td>1.194200</td>\n      <td>0.148000</td>\n    </tr>\n    <tr>\n      <th>std</th>\n      <td>0.500049</td>\n      <td>8.440807</td>\n      <td>9900.083569</td>\n      <td>1.091387</td>\n      <td>0.463183</td>\n    </tr>\n    <tr>\n      <th>min</th>\n      <td>0.000000</td>\n      <td>18.000000</td>\n      <td>5300.000000</td>\n      <td>0.000000</td>\n      <td>0.000000</td>\n    </tr>\n    <tr>\n      <th>25%</th>\n      <td>0.000000</td>\n      <td>24.000000</td>\n      <td>33300.000000</td>\n      <td>0.000000</td>\n      <td>0.000000</td>\n    </tr>\n    <tr>\n      <th>50%</th>\n      <td>0.000000</td>\n      <td>30.000000</td>\n      <td>40200.000000</td>\n      <td>1.000000</td>\n      <td>0.000000</td>\n    </tr>\n    <tr>\n      <th>75%</th>\n      <td>1.000000</td>\n      <td>37.000000</td>\n      <td>46600.000000</td>\n      <td>2.000000</td>\n      <td>0.000000</td>\n    </tr>\n    <tr>\n      <th>max</th>\n      <td>1.000000</td>\n      <td>65.000000</td>\n      <td>79000.000000</td>\n      <td>6.000000</td>\n      <td>5.000000</td>\n    </tr>\n  </tbody>\n</table>\n</div>"
     },
     "execution_count": 85,
     "metadata": {},
     "output_type": "execute_result"
    }
   ],
   "source": [
    "df.describe()"
   ],
   "metadata": {
    "collapsed": false
   }
  },
  {
   "cell_type": "markdown",
   "source": [
    "Здесь невооруженным глазом видно, что отсутствуют аномальные значения. Проверяем на пропущенные значения"
   ],
   "metadata": {
    "collapsed": false
   }
  },
  {
   "cell_type": "code",
   "execution_count": 86,
   "outputs": [
    {
     "data": {
      "text/plain": "Пол                  0\nВозраст              0\nЗарплата             0\nЧлены семьи          0\nСтраховые выплаты    0\ndtype: int64"
     },
     "execution_count": 86,
     "metadata": {},
     "output_type": "execute_result"
    }
   ],
   "source": [
    "df.isna().sum()"
   ],
   "metadata": {
    "collapsed": false
   }
  },
  {
   "cell_type": "markdown",
   "source": [
    "Отсутствуют пропущенные значения"
   ],
   "metadata": {
    "collapsed": false
   }
  },
  {
   "cell_type": "markdown",
   "metadata": {},
   "source": [
    "## Умножение матриц"
   ]
  },
  {
   "cell_type": "code",
   "execution_count": 87,
   "outputs": [],
   "source": [
    "# Создадим класс\n",
    "class My_class_LinearRegression:\n",
    "    def fit(self, train_features, train_target):\n",
    "        X = np.concatenate((np.ones((train_features.shape[0], 1)), train_features), axis=1)\n",
    "        y = train_target\n",
    "        w = np.dot(np.dot(np.linalg.inv(np.dot(X.T, X)), X.T), y)\n",
    "        self.w = w[1:]\n",
    "        self.w0 = w[0]\n",
    "\n",
    "    def predict(self, test_features):\n",
    "        return test_features.dot(self.w) + self.w0"
   ],
   "metadata": {
    "collapsed": false
   }
  },
  {
   "cell_type": "code",
   "execution_count": 88,
   "outputs": [],
   "source": [
    "# Признаки\n",
    "features = df.drop('Страховые выплаты', axis=1)\n",
    "# Целевой признак\n",
    "target = df['Страховые выплаты']"
   ],
   "metadata": {
    "collapsed": false
   }
  },
  {
   "cell_type": "code",
   "execution_count": 89,
   "outputs": [],
   "source": [
    "model_my_class_lin_reg = My_class_LinearRegression()\n",
    "model_my_class_lin_reg.fit(features, target)"
   ],
   "metadata": {
    "collapsed": false
   }
  },
  {
   "cell_type": "code",
   "execution_count": 90,
   "outputs": [
    {
     "name": "stdout",
     "output_type": "stream",
     "text": [
      "Предсказания: 0.14800000000000013\n"
     ]
    }
   ],
   "source": [
    "predictions = model_my_class_lin_reg.predict(features)\n",
    "print('Предсказания:', predictions.mean())"
   ],
   "metadata": {
    "collapsed": false
   }
  },
  {
   "cell_type": "code",
   "execution_count": 91,
   "outputs": [
    {
     "data": {
      "text/plain": "array([ 7.92580543e-03,  3.57083050e-02, -1.70080492e-07, -1.35676623e-02])"
     },
     "execution_count": 91,
     "metadata": {},
     "output_type": "execute_result"
    }
   ],
   "source": [
    "model_my_class_lin_reg.w"
   ],
   "metadata": {
    "collapsed": false
   }
  },
  {
   "cell_type": "code",
   "execution_count": 92,
   "outputs": [
    {
     "name": "stdout",
     "output_type": "stream",
     "text": [
      "MSE: 0.12334688941710859\n"
     ]
    }
   ],
   "source": [
    "print('MSE:', mean_squared_error(target, predictions))"
   ],
   "metadata": {
    "collapsed": false
   }
  },
  {
   "cell_type": "code",
   "execution_count": 93,
   "outputs": [
    {
     "name": "stdout",
     "output_type": "stream",
     "text": [
      "R2_score: 0.4249455028666801\n"
     ]
    }
   ],
   "source": [
    "print('R2_score:', r2_score(target, predictions))"
   ],
   "metadata": {
    "collapsed": false
   }
  },
  {
   "cell_type": "code",
   "execution_count": 94,
   "outputs": [
    {
     "data": {
      "text/plain": "LinearRegression()"
     },
     "execution_count": 94,
     "metadata": {},
     "output_type": "execute_result"
    }
   ],
   "source": [
    "model_lin_reg = LinearRegression()\n",
    "model_lin_reg.fit(features, target)"
   ],
   "metadata": {
    "collapsed": false
   }
  },
  {
   "cell_type": "code",
   "execution_count": 95,
   "outputs": [
    {
     "name": "stdout",
     "output_type": "stream",
     "text": [
      "Предсказания: 0.14800000000000005\n"
     ]
    }
   ],
   "source": [
    "predictions = model_lin_reg.predict(features)\n",
    "print('Предсказания:', predictions.mean())"
   ],
   "metadata": {
    "collapsed": false
   }
  },
  {
   "cell_type": "code",
   "execution_count": 96,
   "outputs": [
    {
     "name": "stdout",
     "output_type": "stream",
     "text": [
      "MSE: 0.1233468894171086\n"
     ]
    }
   ],
   "source": [
    "print('MSE:', mean_squared_error(target, predictions))"
   ],
   "metadata": {
    "collapsed": false
   }
  },
  {
   "cell_type": "code",
   "execution_count": 97,
   "outputs": [
    {
     "name": "stdout",
     "output_type": "stream",
     "text": [
      "R2_score: 0.42494550286668\n"
     ]
    }
   ],
   "source": [
    "print('R2_score:', r2_score(target, predictions))"
   ],
   "metadata": {
    "collapsed": false
   }
  },
  {
   "cell_type": "code",
   "execution_count": 98,
   "outputs": [
    {
     "data": {
      "text/plain": "array([ 7.92580543e-03,  3.57083050e-02, -1.70080492e-07, -1.35676623e-02])"
     },
     "execution_count": 98,
     "metadata": {},
     "output_type": "execute_result"
    }
   ],
   "source": [
    "model_lin_reg.coef_"
   ],
   "metadata": {
    "collapsed": false
   }
  },
  {
   "cell_type": "code",
   "execution_count": 99,
   "outputs": [
    {
     "name": "stdout",
     "output_type": "stream",
     "text": [
      "True\n",
      "[False False False False]\n"
     ]
    }
   ],
   "source": [
    "# Проверим на размерность\n",
    "print(len(model_my_class_lin_reg.w) == len(model_lin_reg.coef_))\n",
    "\n",
    "print(model_my_class_lin_reg.w == model_lin_reg.coef_)"
   ],
   "metadata": {
    "collapsed": false
   }
  },
  {
   "cell_type": "markdown",
   "source": [
    "Как то странно, видно, что числа одинаковые, но компилятор говорит, что не равны. Если не будем мелочиться это, то получается, что по требуемой формулой мы добились такого же результата, что и как у Линейней регрессией"
   ],
   "metadata": {
    "collapsed": false
   }
  },
  {
   "cell_type": "markdown",
   "source": [
    "В этом задании вы можете записывать формулы в *Jupyter Notebook.*\n",
    "\n",
    "Чтобы записать формулу внутри текста, окружите её символами доллара \\\\$; если снаружи —  двойными символами \\\\$\\\\$. Эти формулы записываются на языке вёрстки *LaTeX.*\n",
    "\n",
    "Для примера мы записали формулы линейной регрессии. Можете их скопировать и отредактировать, чтобы решить задачу.\n",
    "\n",
    "Работать в *LaTeX* необязательно."
   ],
   "metadata": {
    "collapsed": false
   }
  },
  {
   "cell_type": "markdown",
   "source": [
    "Обозначения:\n",
    "\n",
    "- $X$ — матрица признаков (нулевой столбец состоит из единиц)\n",
    "\n",
    "- $y$ — вектор целевого признака\n",
    "\n",
    "- $P$ — матрица, на которую умножаются признаки\n",
    "\n",
    "- $w$ — вектор весов линейной регрессии (нулевой элемент равен сдвигу)"
   ],
   "metadata": {
    "collapsed": false
   }
  },
  {
   "cell_type": "markdown",
   "source": [
    "в Предсказания:\n",
    "\n",
    "$$\n",
    "a = Xw\n",
    "$$\n",
    "\n",
    "Задача обучения:\n",
    "\n",
    "$$\n",
    "w = \\arg\\min_w MSE(Xw, y)\n",
    "$$\n",
    "\n",
    "Формула обучения:\n",
    "\n",
    "$$\n",
    "w = (X^T X)^{-1} X^T y\n",
    "$$"
   ],
   "metadata": {
    "collapsed": false
   }
  },
  {
   "cell_type": "markdown",
   "source": [
    "**Вопрос:** Признаки умножают на обратимую матрицу? Изменится ли качество линейной регрессии?"
   ],
   "metadata": {
    "collapsed": false
   }
  },
  {
   "cell_type": "markdown",
   "source": [
    "**Ответ:**\n",
    "\n",
    "Нет, не изменится качество линейной регрессии после умножения на обратную матрицы"
   ],
   "metadata": {
    "collapsed": false
   }
  },
  {
   "cell_type": "markdown",
   "source": [
    "**Обоснование:**"
   ],
   "metadata": {
    "collapsed": false
   }
  },
  {
   "cell_type": "markdown",
   "source": [
    "Немного об обратимой матрицы.\n",
    "Квадратные матрицы, для которых можно найти обратные, называются **обратимыми** (англ. invertible matrix). Но не у каждой матрицы есть обратная. Например, у матрицы A, состоящей только из нулей, нет обратной: в результате любого умножения будут только нули. Такая матрица называется **необратимой** (англ. non-invertible matrix).\n",
    "**Обратная для квадратной матрицы A** (англ. inverse matrix) — матрица A с верхним индексом -1, произведение которой на А равно единичной матрице. Умножение может быть в любом порядке:\n",
    "$$ AA^{-1} = A^{-1}A = E $$"
   ],
   "metadata": {
    "collapsed": false
   }
  },
  {
   "cell_type": "markdown",
   "source": [
    "Пусть F (Features) произвольная матрица признаков, размерность которой равна размерности матрицы признаков X, тогда: $ F \\equiv X $ (эквивалентны)\n",
    "\n",
    "_*Примечание: Матрица признака должна быть квадратичной формой, т.е. длина строк равна длине столбцов*_ $ i = j $\n",
    "\n",
    "Тогда у нас в этом случае можно рассмотреть так:\n",
    "\n",
    "$$ F = XP $$\n",
    "\n",
    "где:\n",
    "    - $X$ - матрица признаков (нулевой столбец состоит из единиц)\n",
    "    - $P$ — матрица, на которую умножаются признаки\n"
   ],
   "metadata": {
    "collapsed": false
   }
  },
  {
   "cell_type": "markdown",
   "source": [
    "Формула предсказания будет иметь следующий вид:\n",
    "$$ a = Fw $$\n",
    "\n",
    "Вектор весов линейной регрессии:\n",
    "$$ w = \\frac{a}{F} $$"
   ],
   "metadata": {
    "collapsed": false
   }
  },
  {
   "cell_type": "markdown",
   "source": [
    "Формула обучения:\n",
    "$$ w = (F^T  F)^{-1} F^T y $$"
   ],
   "metadata": {
    "collapsed": false
   }
  },
  {
   "cell_type": "markdown",
   "source": [
    "Подставляем формулу предсказания в формулу обучения:\n",
    "$$ \\frac{a}{F} = (F^T  F)^{-1} X^T y $$\n",
    "\n",
    "Умножим признаки F на обе стороны, чтобы перенести признак на правую часть\n",
    "$$ a = F(F^T  F)^{-1} X^T y $$"
   ],
   "metadata": {
    "collapsed": false
   },
   "outputs": [
    {
     "ename": "SyntaxError",
     "evalue": "invalid syntax (2199548967.py, line 1)",
     "output_type": "error",
     "traceback": [
      "\u001B[0;36m  Cell \u001B[0;32mIn[1], line 1\u001B[0;36m\u001B[0m\n\u001B[0;31m    Формула обучения:\u001B[0m\n\u001B[0m            ^\u001B[0m\n\u001B[0;31mSyntaxError\u001B[0m\u001B[0;31m:\u001B[0m invalid syntax\n"
     ]
    }
   ],
   "execution_count": null
  },
  {
   "cell_type": "markdown",
   "source": [
    "Значения $ F = XP $ подставляем в эту формулу $ a = F(F^T  F)^{-1} X^T y $ и получим:"
   ],
   "metadata": {
    "collapsed": false
   }
  },
  {
   "cell_type": "markdown",
   "source": [
    "$$ a = XP((XP)^T XP)^{-1} (XP)^T y$$\n",
    "\n",
    "$$ / (XP)^T = X^T P^T / $$\n",
    "\n",
    "$$ a = XP(X^T P^T)^{-1} X^{-1} P^{-1} X^T P^T y$$\n",
    "\n",
    "$$ a = XX^{-1} PP^{-1} (X^T P^T)^{-1}  X^T P^T y$$\n",
    "\n",
    "$$ / PP^{-1} = E / $$\n",
    "\n",
    "$$ / (X^T P^T)^{-1} = (X^T)^{-1} (P^T)^{-1} / $$\n",
    "\n",
    "$$ a = XX^{-1} E (X^T)^{-1} (P^T)^{-1} X^T P^T y$$\n",
    "\n",
    "$$ a = XX^{-1} E (X^T)^{-1}X^T (P^T)^{-1} P^T y$$\n",
    "\n",
    "$$ / (P^T)^{-1} P^T = E / $$\n",
    "\n",
    "$$ a = XX^{-1} E (X^T)^{-1}X^T E y$$\n",
    "\n",
    "$$ / E*E = E / $$\n",
    "\n",
    "$$ a = XX^{-1} (X^T)^{-1}X^T y E$$\n",
    "\n",
    "$$ / X^{-1} (X^T)^{-1} = (XX^T)^{-1} / $$\n",
    "\n",
    "$$ a = X (XX^T)^{-1} X^T y E$$\n",
    "\n",
    "$$ По \\quad формуле \\quad обучения: w = (X^T X)^{-1} X^T y $$\n",
    "\n",
    "$$ a = X w E = X w $$\n",
    "\n"
   ],
   "metadata": {
    "collapsed": false
   }
  },
  {
   "cell_type": "markdown",
   "source": [
    "Как видим, что после умножение матрицы признаков на обратимую матрицу предсказания a не изменилась. Следовательно, качество линейной регрессии не изменяется, т.к. она не зависит от масштаба признаков. Если хотим улучшить качество линейной регрессии, тогда нужно преобразовать признаки или добавить новые признаки"
   ],
   "metadata": {
    "collapsed": false
   }
  },
  {
   "cell_type": "markdown",
   "metadata": {},
   "source": [
    "## Алгоритм преобразования\n",
    "\n",
    "### Предложите алгоритм преобразования данных для решения задачи. Обоснуйте, почему качество линейной регрессии не поменяется."
   ]
  },
  {
   "cell_type": "markdown",
   "metadata": {},
   "source": [
    "**Алгоритм**\n",
    "\n",
    "Нам нужно разработать алгоритм преобразования данных, чтобы по ним было сложно восстановить персональную информацию. Но при этом нужно защитить данные, чтобы при преобразовании качество моделей машинного обучения не ухудшилось.\n",
    "\n",
    "Тогда здесь алгоритм будет:\n",
    "1. Произвольно создадим матрицу признаков, размер которой равен размеру матрицы признаков (в этом случае произвольно создадим квадратную матрицу)\n",
    "2. Умножим эти матрицы\n",
    "3. Добавить нулевой столбец в полученном матрице и выводить в линейную регрессию\n",
    "\n",
    "Следовательно:\n",
    "$$ F = XA $$\n",
    "\n",
    "где:\n",
    "    - $X$ - матрица признаков\n",
    "    - $A$ — произвольная матрица, на которую умножаются признаки"
   ]
  },
  {
   "cell_type": "markdown",
   "metadata": {},
   "source": [
    "**Обоснование**\n",
    "\n",
    "Пусть произвольная (A - arbitrary) матрица будет иметь следующий вид:\n",
    "$$\n",
    "A =\n",
    " \\begin{pmatrix}\n",
    "  a_{1,1} & a_{1,2} & \\cdots & a_{1,n} \\\\\n",
    "  a_{2,1} & a_{2,2} & \\cdots & a_{2,n} \\\\\n",
    "  \\vdots  & \\vdots  & \\ddots & \\vdots  \\\\\n",
    "  a_{n,1} & a_{n,2} & \\cdots & a_{n,n}\n",
    " \\end{pmatrix}\n",
    "$$\n",
    "\n",
    "А матрица признаков:\n",
    "\n",
    "$$\n",
    "X =\n",
    " \\begin{pmatrix}\n",
    "  x_{1,1} & x_{1,2} & \\cdots & x_{1,n} \\\\\n",
    "  x_{2,1} & x_{2,2} & \\cdots & x_{2,n} \\\\\n",
    "  \\vdots  & \\vdots  & \\ddots & \\vdots  \\\\\n",
    "  x_{m,1} & x_{m,2} & \\cdots & x_{m,n}\n",
    " \\end{pmatrix}\n",
    "$$\n",
    "\n",
    "_*Примечание: кол-во столбцов матрицы признаков должны быть равен кол-ву строк произвольной матрицы*_\n",
    "\n",
    "Тогда полученная матрица будет:\n",
    "\n",
    "$$\n",
    "F =\n",
    " \\begin{pmatrix}\n",
    "  f_{1,1} & f_{1,2} & \\cdots & f_{1,n} \\\\\n",
    "  f_{2,1} & f_{2,2} & \\cdots & f_{2,n} \\\\\n",
    "  \\vdots  & \\vdots  & \\ddots & \\vdots  \\\\\n",
    "  f_{m,1} & f_{m,2} & \\cdots & f_{m,n}\n",
    " \\end{pmatrix}\n",
    "$$"
   ]
  },
  {
   "cell_type": "markdown",
   "metadata": {},
   "source": [
    "## Проверка алгоритма"
   ]
  },
  {
   "cell_type": "markdown",
   "source": [
    "Нам известно, что приблизительное значение R2_score и MSE выдали: 0,42 и 0,12. Теперь преобразуем матрицу и смотрим, сильно ли изменились эти значения?"
   ],
   "metadata": {
    "collapsed": false
   }
  },
  {
   "cell_type": "code",
   "execution_count": 100,
   "outputs": [
    {
     "name": "stdout",
     "output_type": "stream",
     "text": [
      "DET: -154.00000000000006\n"
     ]
    }
   ],
   "source": [
    "# Создадим произвольную квадратную матрицу (определитель не должна быть равна нулю, т.е. матрица должна быть невырожденной)\n",
    "while(True):\n",
    "    sqaure_mathric = np.random.randint(1, 10, (features.shape[1], features.shape[1]))\n",
    "    print('DET:', np.linalg.det(sqaure_mathric))\n",
    "    if(np.linalg.det(sqaure_mathric) != 0): break"
   ],
   "metadata": {
    "collapsed": false
   }
  },
  {
   "cell_type": "code",
   "execution_count": 101,
   "metadata": {},
   "outputs": [],
   "source": [
    "# Новый признак\n",
    "new_features = np.dot(features, sqaure_mathric)"
   ]
  },
  {
   "cell_type": "markdown",
   "source": [
    "Проведем сравнения моделей до и после преобразования"
   ],
   "metadata": {
    "collapsed": false
   }
  },
  {
   "cell_type": "code",
   "execution_count": 102,
   "outputs": [
    {
     "data": {
      "text/plain": "      Пол  Возраст  Зарплата  Члены семьи\n0       1     41.0   49600.0            1\n1       0     46.0   38000.0            1\n2       0     29.0   21000.0            0\n3       0     21.0   41700.0            2\n4       1     28.0   26100.0            0\n...   ...      ...       ...          ...\n4995    0     28.0   35700.0            2\n4996    0     34.0   52400.0            1\n4997    0     20.0   33900.0            2\n4998    1     22.0   32700.0            3\n4999    1     28.0   40600.0            1\n\n[5000 rows x 4 columns]",
      "text/html": "<div>\n<style scoped>\n    .dataframe tbody tr th:only-of-type {\n        vertical-align: middle;\n    }\n\n    .dataframe tbody tr th {\n        vertical-align: top;\n    }\n\n    .dataframe thead th {\n        text-align: right;\n    }\n</style>\n<table border=\"1\" class=\"dataframe\">\n  <thead>\n    <tr style=\"text-align: right;\">\n      <th></th>\n      <th>Пол</th>\n      <th>Возраст</th>\n      <th>Зарплата</th>\n      <th>Члены семьи</th>\n    </tr>\n  </thead>\n  <tbody>\n    <tr>\n      <th>0</th>\n      <td>1</td>\n      <td>41.0</td>\n      <td>49600.0</td>\n      <td>1</td>\n    </tr>\n    <tr>\n      <th>1</th>\n      <td>0</td>\n      <td>46.0</td>\n      <td>38000.0</td>\n      <td>1</td>\n    </tr>\n    <tr>\n      <th>2</th>\n      <td>0</td>\n      <td>29.0</td>\n      <td>21000.0</td>\n      <td>0</td>\n    </tr>\n    <tr>\n      <th>3</th>\n      <td>0</td>\n      <td>21.0</td>\n      <td>41700.0</td>\n      <td>2</td>\n    </tr>\n    <tr>\n      <th>4</th>\n      <td>1</td>\n      <td>28.0</td>\n      <td>26100.0</td>\n      <td>0</td>\n    </tr>\n    <tr>\n      <th>...</th>\n      <td>...</td>\n      <td>...</td>\n      <td>...</td>\n      <td>...</td>\n    </tr>\n    <tr>\n      <th>4995</th>\n      <td>0</td>\n      <td>28.0</td>\n      <td>35700.0</td>\n      <td>2</td>\n    </tr>\n    <tr>\n      <th>4996</th>\n      <td>0</td>\n      <td>34.0</td>\n      <td>52400.0</td>\n      <td>1</td>\n    </tr>\n    <tr>\n      <th>4997</th>\n      <td>0</td>\n      <td>20.0</td>\n      <td>33900.0</td>\n      <td>2</td>\n    </tr>\n    <tr>\n      <th>4998</th>\n      <td>1</td>\n      <td>22.0</td>\n      <td>32700.0</td>\n      <td>3</td>\n    </tr>\n    <tr>\n      <th>4999</th>\n      <td>1</td>\n      <td>28.0</td>\n      <td>40600.0</td>\n      <td>1</td>\n    </tr>\n  </tbody>\n</table>\n<p>5000 rows × 4 columns</p>\n</div>"
     },
     "execution_count": 102,
     "metadata": {},
     "output_type": "execute_result"
    }
   ],
   "source": [
    "# До преобразования\n",
    "features"
   ],
   "metadata": {
    "collapsed": false
   }
  },
  {
   "cell_type": "code",
   "execution_count": 103,
   "outputs": [
    {
     "data": {
      "text/plain": "array([[198776., 396898., 347543., 149179.],\n       [152415., 304100., 266376., 114422.],\n       [ 84261., 168058., 147232.,  63261.],\n       ...,\n       [135782., 271256., 237476., 101896.],\n       [131007., 261676., 229107.,  98324.],\n       [162659., 324872., 284439., 122062.]])"
     },
     "execution_count": 103,
     "metadata": {},
     "output_type": "execute_result"
    }
   ],
   "source": [
    "# После преобразования\n",
    "new_features"
   ],
   "metadata": {
    "collapsed": false
   }
  },
  {
   "cell_type": "markdown",
   "source": [
    "Как и видим, что здесь присутствуют постронние числа. Т.е. это условно можно назвать как шифрованием. Теперь проверим на метрику R2_score и MSE"
   ],
   "metadata": {
    "collapsed": false
   }
  },
  {
   "cell_type": "code",
   "execution_count": 104,
   "outputs": [
    {
     "data": {
      "text/plain": "LinearRegression()"
     },
     "execution_count": 104,
     "metadata": {},
     "output_type": "execute_result"
    }
   ],
   "source": [
    "model_lin_reg.fit(new_features, target)"
   ],
   "metadata": {
    "collapsed": false
   }
  },
  {
   "cell_type": "code",
   "execution_count": 105,
   "outputs": [
    {
     "name": "stdout",
     "output_type": "stream",
     "text": [
      "Предсказания: 0.14799999999988322\n"
     ]
    }
   ],
   "source": [
    "predictions = model_lin_reg.predict(new_features)\n",
    "print('Предсказания:', predictions.mean())"
   ],
   "metadata": {
    "collapsed": false
   }
  },
  {
   "cell_type": "code",
   "execution_count": 106,
   "outputs": [
    {
     "name": "stdout",
     "output_type": "stream",
     "text": [
      "MSE: 0.12334688941710642\n"
     ]
    }
   ],
   "source": [
    "print('MSE:', mean_squared_error(target, predictions))"
   ],
   "metadata": {
    "collapsed": false
   }
  },
  {
   "cell_type": "code",
   "execution_count": 107,
   "outputs": [
    {
     "name": "stdout",
     "output_type": "stream",
     "text": [
      "R2_score: 0.4249455028666902\n"
     ]
    }
   ],
   "source": [
    "print('R2_score:', r2_score(target, predictions))"
   ],
   "metadata": {
    "collapsed": false
   }
  },
  {
   "cell_type": "markdown",
   "source": [
    "Как и видим, что ничего не поменялось"
   ],
   "metadata": {
    "collapsed": false
   }
  },
  {
   "cell_type": "markdown",
   "source": [
    "Вывод:\n",
    "Мы выяснили, что качество линейной регрессии не изменилось после умножения на обратной матрицы. Что и теперь можем защищать информацию, применяя знания линейной алгебры - преобразовав матрицу (шифровка), и при этом можем сохранить значения r2_score и mse"
   ],
   "metadata": {
    "collapsed": false
   }
  },
  {
   "cell_type": "markdown",
   "metadata": {},
   "source": [
    "## Чек-лист проверки"
   ]
  },
  {
   "cell_type": "markdown",
   "metadata": {},
   "source": [
    "Поставьте 'x' в выполненных пунктах. Далее нажмите Shift+Enter."
   ]
  },
  {
   "cell_type": "markdown",
   "metadata": {},
   "source": [
    "- [x]  Jupyter Notebook открыт\n",
    "- [x]  Весь код выполняется без ошибок\n",
    "- [x]  Ячейки с кодом расположены в порядке исполнения\n",
    "- [x]  Выполнен шаг 1: данные загружены\n",
    "- [x]  Выполнен шаг 2: получен ответ на вопрос об умножении матриц\n",
    "    - [x]  Указан правильный вариант ответа\n",
    "    - [x]  Вариант обоснован\n",
    "- [x]  Выполнен шаг 3: предложен алгоритм преобразования\n",
    "    - [x]  Алгоритм описан\n",
    "    - [x]  Алгоритм обоснован\n",
    "- [x]  Выполнен шаг 4: алгоритм проверен\n",
    "    - [x]  Алгоритм реализован\n",
    "    - [x]  Проведено сравнение качества моделей до и после преобразования"
   ]
  },
  {
   "cell_type": "code",
   "execution_count": 107,
   "metadata": {},
   "outputs": [],
   "source": []
  }
 ],
 "metadata": {
  "kernelspec": {
   "display_name": "Python 3 (ipykernel)",
   "language": "python",
   "name": "python3"
  },
  "language_info": {
   "codemirror_mode": {
    "name": "ipython",
    "version": 3
   },
   "file_extension": ".py",
   "mimetype": "text/x-python",
   "name": "python",
   "nbconvert_exporter": "python",
   "pygments_lexer": "ipython3",
   "version": "3.9.5"
  },
  "toc": {
   "base_numbering": 1,
   "nav_menu": {},
   "number_sections": true,
   "sideBar": true,
   "skip_h1_title": true,
   "title_cell": "Содержание",
   "title_sidebar": "Contents",
   "toc_cell": true,
   "toc_position": {},
   "toc_section_display": true,
   "toc_window_display": true
  }
 },
 "nbformat": 4,
 "nbformat_minor": 2
}
