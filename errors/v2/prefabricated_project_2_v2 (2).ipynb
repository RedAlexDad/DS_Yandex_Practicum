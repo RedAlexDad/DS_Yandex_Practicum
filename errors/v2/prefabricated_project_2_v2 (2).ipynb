{
 "cells": [
  {
   "cell_type": "markdown",
   "metadata": {},
   "source": [
    "<div style=\"border:solid Chocolate 2px; padding: 40px\">\n",
    "\n",
    "Привет, меня зовут Александр Куимов. Я буду ревьюером твоего проекта. Ты можешь обращаться ко мне на \"ты\"😏 Надеюсь, тебя также не смутит, если я буду обращаться к тебе на \"ты\", но если это неудобно, обязательно скажи об этом!\n",
    "\n",
    "Пожалуйста, не удаляй мои комментарии, они будут особенно полезны для нашей работы в случае повторной проверки проекта. \n",
    "\n",
    "Ты также можешь реагировать на мои комментарии своими по шаблону, показанному чуть ниже. Это нужно, чтобы не создавалась путаница😉\n",
    "\n",
    "Ты можешь найти мои комментарии, обозначенные <font color='green'>зеленым</font>, <font color='gold'>желтым</font> и <font color='red'>красным</font> цветами, например:\n",
    "\n",
    "<br/>\n",
    "\n",
    "<div class=\"alert alert-success\">\n",
    "<h2> Комментарий ревьюера <a class=\"tocSkip\"> </h2>\n",
    "\n",
    "<b>Все отлично!👍:</b> В случае, если решение на отдельном шаге является полностью правильным.\n",
    "</div>\n",
    "\n",
    "<br/>\n",
    "\n",
    "<div class=\"alert alert-warning\">\n",
    "    <h2> Комментарий ревьюера <a class=\"tocSkip\"> </h2>\n",
    "    \n",
    "<b>Некоторые замечания и рекомендации💡:</b> В случае, когда решение на отдельном шаге станет еще лучше, если внести небольшие коррективы.\n",
    "</div>\n",
    "\n",
    "\n",
    "<br/>\n",
    "<div class=\"alert alert-block alert-danger\">\n",
    "<h2> Комментарий ревьюера <a class=\"tocSkip\"></h2>\n",
    "\n",
    "    \n",
    "<b>На доработку🤔:</b>\n",
    " В случае, когда решение на отдельном шаге требует существенной переработки и внесения правок. Напоминаю, что проект не может быть принят с первого раза, если ревью содержит комментарии, рекомендующие доработать шаги.\n",
    "</div>\n",
    "    \n",
    "    \n",
    "<br/>    \n",
    "<div class=\"alert alert-info\">\n",
    "<h2> Комментарий студента: <a class=\"tocSkip\"> </h2>\n",
    "\n",
    "<b>👋:</b> В такой цветовой ячейке я прошу тебя оставлять свои комментарии. Если исправляешь проект на второй итерации и выше, не забывай пожалуйста указывать номер итерации, например, \"Комментарий студента v.2\".\n",
    "</div> \n",
    "\n",
    "<br/>    \n",
    "    \n",
    "Увидев у тебя неточность, в первый раз я лишь укажу на ее наличие и дам тебе возможность самому найти и исправить ее. На реальной работе твой руководитель будет поступать также, и я пытаюсь подготовить тебя именно к работе датасаентистом. Но если ты пока не справишься с такой задачей - при следующей проверке я дам более точную подсказку!🤓"
   ]
  },
  {
   "cell_type": "markdown",
   "metadata": {
    "toc": true
   },
   "source": [
    "<h1>Содержание<span class=\"tocSkip\"></span></h1>\n",
    "<div class=\"toc\"><ul class=\"toc-item\"><li><span><a href=\"#Подготовка-данных\" data-toc-modified-id=\"Подготовка-данных-1\"><span class=\"toc-item-num\">1&nbsp;&nbsp;</span>Подготовка данных</a></span><ul class=\"toc-item\"><li><span><a href=\"#Введение-в-курс-дела\" data-toc-modified-id=\"Введение-в-курс-дела-1.1\"><span class=\"toc-item-num\">1.1&nbsp;&nbsp;</span>Введение в курс дела</a></span></li><li><span><a href=\"#Приступление-к-проекту.-Открываем-файлы-и-изучаем-их.\" data-toc-modified-id=\"Приступление-к-проекту.-Открываем-файлы-и-изучаем-их.-1.2\"><span class=\"toc-item-num\">1.2&nbsp;&nbsp;</span>Приступление к проекту. Открываем файлы и изучаем их.</a></span></li><li><span><a href=\"#Проверим,-что-эффективность-обогащения-рассчитана-правильно.-Вычислим-её-на-обучающей-выборке-для-признака-rougher.output.recovery.-Найдем-MAE-между-нашими-расчётами-и-значением-признака.-Опишим-выводы.\" data-toc-modified-id=\"Проверим,-что-эффективность-обогащения-рассчитана-правильно.-Вычислим-её-на-обучающей-выборке-для-признака-rougher.output.recovery.-Найдем-MAE-между-нашими-расчётами-и-значением-признака.-Опишим-выводы.-1.3\"><span class=\"toc-item-num\">1.3&nbsp;&nbsp;</span>Проверим, что эффективность обогащения рассчитана правильно. Вычислим её на обучающей выборке для признака <code>rougher.output.recovery</code>. Найдем MAE между нашими расчётами и значением признака. Опишим выводы.</a></span><ul class=\"toc-item\"><li><span><a href=\"#Проверим-на-расчет-эффективности-обогащения\" data-toc-modified-id=\"Проверим-на-расчет-эффективности-обогащения-1.3.1\"><span class=\"toc-item-num\">1.3.1&nbsp;&nbsp;</span>Проверим на расчет эффективности обогащения</a></span></li><li><span><a href=\"#Находим-MAE-между-нашими-расчетами-и-значением-признака\" data-toc-modified-id=\"Находим-MAE-между-нашими-расчетами-и-значением-признака-1.3.2\"><span class=\"toc-item-num\">1.3.2&nbsp;&nbsp;</span>Находим MAE между нашими расчетами и значением признака</a></span></li><li><span><a href=\"#Проанализируйте-признаки,-недоступные-в-тестовой-выборке.-Что-это-за-параметры?-К-какому-типу-относятся?\" data-toc-modified-id=\"Проанализируйте-признаки,-недоступные-в-тестовой-выборке.-Что-это-за-параметры?-К-какому-типу-относятся?-1.3.3\"><span class=\"toc-item-num\">1.3.3&nbsp;&nbsp;</span>Проанализируйте признаки, недоступные в тестовой выборке. Что это за параметры? К какому типу относятся?</a></span></li></ul></li><li><span><a href=\"#Предобработка-данных-уже-проведены,-пропуски-удалены,-дублирующие-значения-отсутствуют\" data-toc-modified-id=\"Предобработка-данных-уже-проведены,-пропуски-удалены,-дублирующие-значения-отсутствуют-1.4\"><span class=\"toc-item-num\">1.4&nbsp;&nbsp;</span>Предобработка данных уже проведены, пропуски удалены, дублирующие значения отсутствуют</a></span></li></ul></li><li><span><a href=\"#Анализ-данных\" data-toc-modified-id=\"Анализ-данных-2\"><span class=\"toc-item-num\">2&nbsp;&nbsp;</span>Анализ данных</a></span><ul class=\"toc-item\"><li><span><a href=\"#Посмотрим,-как-меняется-концентрация-металлов-(Au,-Ag,-Pb)-на-различных-этапах-очистки\" data-toc-modified-id=\"Посмотрим,-как-меняется-концентрация-металлов-(Au,-Ag,-Pb)-на-различных-этапах-очистки-2.1\"><span class=\"toc-item-num\">2.1&nbsp;&nbsp;</span>Посмотрим, как меняется концентрация металлов (Au, Ag, Pb) на различных этапах очистки</a></span><ul class=\"toc-item\"><li><span><a href=\"#Золото\" data-toc-modified-id=\"Золото-2.1.1\"><span class=\"toc-item-num\">2.1.1&nbsp;&nbsp;</span>Золото</a></span></li><li><span><a href=\"#Серебро\" data-toc-modified-id=\"Серебро-2.1.2\"><span class=\"toc-item-num\">2.1.2&nbsp;&nbsp;</span>Серебро</a></span></li><li><span><a href=\"#Свинец\" data-toc-modified-id=\"Свинец-2.1.3\"><span class=\"toc-item-num\">2.1.3&nbsp;&nbsp;</span>Свинец</a></span></li></ul></li><li><span><a href=\"#Рассмотрим-график-суммарную-концентрацию-всех-веществах-на-4-различных-стадиях:-до-флотации,-после-флотации,-первого-и-второго-этапа-очистки\" data-toc-modified-id=\"Рассмотрим-график-суммарную-концентрацию-всех-веществах-на-4-различных-стадиях:-до-флотации,-после-флотации,-первого-и-второго-этапа-очистки-2.2\"><span class=\"toc-item-num\">2.2&nbsp;&nbsp;</span>Рассмотрим график суммарную концентрацию всех веществах на 4 различных стадиях: до флотации, после флотации, первого и второго этапа очистки</a></span></li><li><span><a href=\"#Сравним-распределения-размеров-гранул-сырья-на-обучающей-и-тестовой-выборках.-Если-распределения-сильно-отличаются-друг-от-друга,-оценка-модели-будет-неправильной\" data-toc-modified-id=\"Сравним-распределения-размеров-гранул-сырья-на-обучающей-и-тестовой-выборках.-Если-распределения-сильно-отличаются-друг-от-друга,-оценка-модели-будет-неправильной-2.3\"><span class=\"toc-item-num\">2.3&nbsp;&nbsp;</span>Сравним распределения размеров гранул сырья на обучающей и тестовой выборках. Если распределения сильно отличаются друг от друга, оценка модели будет неправильной</a></span><ul class=\"toc-item\"><li><span><a href=\"#Рассмотрим-размер-гранул-до-флотации\" data-toc-modified-id=\"Рассмотрим-размер-гранул-до-флотации-2.3.1\"><span class=\"toc-item-num\">2.3.1&nbsp;&nbsp;</span>Рассмотрим размер гранул до флотации</a></span></li><li><span><a href=\"#Рассмотрим-размер-гранул-до-первого-очистки-(после-флотации)\" data-toc-modified-id=\"Рассмотрим-размер-гранул-до-первого-очистки-(после-флотации)-2.3.2\"><span class=\"toc-item-num\">2.3.2&nbsp;&nbsp;</span>Рассмотрим размер гранул до первого очистки (после флотации)</a></span></li></ul></li><li><span><a href=\"#Исследуем-график,-который-рассчитывает-суммарную-концентрацию-по-исходному-сырью\" data-toc-modified-id=\"Исследуем-график,-который-рассчитывает-суммарную-концентрацию-по-исходному-сырью-2.4\"><span class=\"toc-item-num\">2.4&nbsp;&nbsp;</span>Исследуем график, который рассчитывает суммарную концентрацию по исходному сырью</a></span></li></ul></li><li><span><a href=\"#Модель\" data-toc-modified-id=\"Модель-3\"><span class=\"toc-item-num\">3&nbsp;&nbsp;</span>Модель</a></span><ul class=\"toc-item\"><li><span><a href=\"#Напишем-функцию-для-вычисления-итоговой-sMAPE\" data-toc-modified-id=\"Напишем-функцию-для-вычисления-итоговой-sMAPE-3.1\"><span class=\"toc-item-num\">3.1&nbsp;&nbsp;</span>Напишем функцию для вычисления итоговой sMAPE</a></span></li><li><span><a href=\"#Обучим-разные-модели-и-оцените-их-качество-кросс-валидацией.-Выберим-лучшую-модель-и-проверим-её-на-тестовой-выборке\" data-toc-modified-id=\"Обучим-разные-модели-и-оцените-их-качество-кросс-валидацией.-Выберим-лучшую-модель-и-проверим-её-на-тестовой-выборке-3.2\"><span class=\"toc-item-num\">3.2&nbsp;&nbsp;</span>Обучим разные модели и оцените их качество кросс-валидацией. Выберим лучшую модель и проверим её на тестовой выборке</a></span><ul class=\"toc-item\"><li><span><a href=\"#Обучение-и-проверка-модели\" data-toc-modified-id=\"Обучение-и-проверка-модели-3.2.1\"><span class=\"toc-item-num\">3.2.1&nbsp;&nbsp;</span>Обучение и проверка модели</a></span></li><li><span><a href=\"#Линейная-регрессия-с-кроссвалидацией\" data-toc-modified-id=\"Линейная-регрессия-с-кроссвалидацией-3.2.2\"><span class=\"toc-item-num\">3.2.2&nbsp;&nbsp;</span>Линейная регрессия с кроссвалидацией</a></span></li><li><span><a href=\"#Решающее-дерево-с-кроссвалидацией\" data-toc-modified-id=\"Решающее-дерево-с-кроссвалидацией-3.2.3\"><span class=\"toc-item-num\">3.2.3&nbsp;&nbsp;</span>Решающее дерево с кроссвалидацией</a></span></li><li><span><a href=\"#Случайный-лес-с-кроссвалидацией\" data-toc-modified-id=\"Случайный-лес-с-кроссвалидацией-3.2.4\"><span class=\"toc-item-num\">3.2.4&nbsp;&nbsp;</span>Случайный лес с кроссвалидацией</a></span></li></ul></li><li><span><a href=\"#Проверим-на-тестовой-выборке\" data-toc-modified-id=\"Проверим-на-тестовой-выборке-3.3\"><span class=\"toc-item-num\">3.3&nbsp;&nbsp;</span>Проверим на тестовой выборке</a></span><ul class=\"toc-item\"><li><span><a href=\"#Обучение-и-проверка-модели\" data-toc-modified-id=\"Обучение-и-проверка-модели-3.3.1\"><span class=\"toc-item-num\">3.3.1&nbsp;&nbsp;</span>Обучение и проверка модели</a></span></li><li><span><a href=\"#Разобьем-данные-на-обучающую-и-валидационную-выборки-в-соотношении-75:25\" data-toc-modified-id=\"Разобьем-данные-на-обучающую-и-валидационную-выборки-в-соотношении-75:25-3.3.2\"><span class=\"toc-item-num\">3.3.2&nbsp;&nbsp;</span>Разобьем данные на обучающую и валидационную выборки в соотношении 75:25</a></span></li><li><span><a href=\"#Константная-модель-(в-процессе)\" data-toc-modified-id=\"Константная-модель-(в-процессе)-3.3.3\"><span class=\"toc-item-num\">3.3.3&nbsp;&nbsp;</span>Константная модель (в процессе)</a></span></li></ul></li></ul></li><li><span><a href=\"#Выводы\" data-toc-modified-id=\"Выводы-4\"><span class=\"toc-item-num\">4&nbsp;&nbsp;</span>Выводы</a></span></li><li><span><a href=\"#Чек-лист-готовности-проекта\" data-toc-modified-id=\"Чек-лист-готовности-проекта-5\"><span class=\"toc-item-num\">5&nbsp;&nbsp;</span>Чек-лист готовности проекта</a></span></li></ul></div>"
   ]
  },
  {
   "cell_type": "markdown",
   "metadata": {},
   "source": [
    "# Восстановление золота из руды"
   ]
  },
  {
   "cell_type": "markdown",
   "metadata": {},
   "source": [
    "Подготовьте прототип модели машинного обучения для «Цифры». Компания разрабатывает решения для эффективной работы промышленных предприятий.\n",
    "\n",
    "Модель должна предсказать коэффициент восстановления золота из золотосодержащей руды. Используйте данные с параметрами добычи и очистки. \n",
    "\n",
    "Модель поможет оптимизировать производство, чтобы не запускать предприятие с убыточными характеристиками.\n",
    "\n",
    "Вам нужно:\n",
    "\n",
    "1. Подготовить данные;\n",
    "2. Провести исследовательский анализ данных;\n",
    "3. Построить и обучить модель.\n",
    "\n",
    "Чтобы выполнить проект, обращайтесь к библиотекам *pandas*, *matplotlib* и *sklearn.* Вам поможет их документация."
   ]
  },
  {
   "cell_type": "markdown",
   "metadata": {},
   "source": [
    "## Подготовка данных"
   ]
  },
  {
   "cell_type": "markdown",
   "metadata": {},
   "source": [
    "### Введение в курс дела"
   ]
  },
  {
   "cell_type": "markdown",
   "metadata": {},
   "source": [
    "**1. Флотация**\n",
    "\n",
    "Во флотационную установку подаётся смесь золотосодержащей руды. После обогащения получается черновой концентрат и «отвальные хвосты», то есть остатки продукта с низкой концентрацией ценных металлов.\n",
    "На стабильность этого процесса влияет непостоянное и неоптимальное физико-химическое состояние флотационной пульпы (смеси твёрдых частиц и жидкости).\n",
    "\n",
    "Химические элементы:\n",
    "- ag - серебро\n",
    "- pb - свинец\n",
    "- sol - сульфат (сульфид натрия)\n",
    "- au - золото\n",
    "\n",
    "**2. Очистка**\n",
    "\n",
    "Черновой концентрат проходит две очистки. На выходе получается финальный концентрат и новые отвальные хвосты."
   ]
  },
  {
   "cell_type": "markdown",
   "metadata": {},
   "source": [
    "- **Описание данных**\n",
    "\n",
    "    - _**Технологический процесс**_\n",
    "        - Rougher feed — исходное сырье\n",
    "        - Rougher additions (или reagent additions) — флотационные реагенты: Xanthate, Sulphate, Depressant\n",
    "        - Xanthate **— ксантогенат (промотер, или активатор флотации);\n",
    "        - Sulphate — сульфат (на данном производстве сульфид натрия);\n",
    "        - Depressant — депрессант (силикат натрия).\n",
    "        - Rougher process (англ. «грубый процесс») — флотация\n",
    "        - Rougher tails — отвальные хвосты\n",
    "        - Float banks — флотационная установка\n",
    "        - Cleaner process — очистка\n",
    "        - Rougher Au — черновой концентрат золота\n",
    "        - Final Au — финальный концентрат золота\n",
    "    - _**Параметры этапов**_\n",
    "        - air amount — объём воздуха\n",
    "        - fluid levels — уровень жидкости\n",
    "        - feed size — размер гранул сырья\n",
    "        - feed rate — скорость подачи"
   ]
  },
  {
   "cell_type": "markdown",
   "metadata": {},
   "source": [
    "**Наименование признаков**\n",
    "\n",
    "Наименование признаков должно быть такое:\n",
    "\n",
    "**[этап].[тип_параметра].[название_параметра]**\n",
    "\n",
    "Пример: ``` rougher.input.feed_ag ```\n",
    "\n",
    "- Возможные значения для блока [этап]:\n",
    "    - rougher — флотация\n",
    "    - primary_cleaner — первичная очистка\n",
    "    - secondary_cleaner — вторичная очистка\n",
    "    - final — финальные характеристики\n",
    "    \n",
    "    \n",
    "- Возможные значения для блока [тип_параметра]:\n",
    "    - input — параметры сырья\n",
    "    - output — параметры продукта\n",
    "    - state — параметры, характеризующие текущее состояние этапа\n",
    "    - calculation — расчётные характеристики"
   ]
  },
  {
   "cell_type": "markdown",
   "metadata": {},
   "source": [
    "**Расчёт эффективности**\n",
    "\n",
    "Вам нужно смоделировать процесс восстановления золота из золотосодержащей руды. \n",
    "\n",
    "Эффективность обогащения рассчитывается по формуле"
   ]
  },
  {
   "attachments": {
    "image.png": {
     "image/png": "[encoded data removed]"
    }
   },
   "cell_type": "markdown",
   "metadata": {},
   "source": [
    "![image.png](attachment:image.png)"
   ]
  },
  {
   "cell_type": "markdown",
   "metadata": {},
   "source": [
    "**RECOVERY = (C * (F - T)) / (F * (C - T)) * 100%**\n",
    "\n",
    "где:\n",
    "- C — доля золота в концентрате после флотации/очистки;\n",
    "- F — доля золота в сырье/концентрате до флотации/очистки;\n",
    "- T — доля золота в отвальных хвостах после флотации/очистки.\n",
    "\n",
    "Для прогноза коэффициента нужно найти долю золота в концентратах и хвостах. Причём важен не только финальный продукт, но и черновой концентрат."
   ]
  },
  {
   "cell_type": "markdown",
   "metadata": {},
   "source": [
    "**Метрика качества**\n",
    "\n",
    "Для решения задачи введём новую метрику качества — sMAPE (англ. Symmetric Mean Absolute Percentage Error, «симметричное среднее абсолютное процентное отклонение»).\n",
    "\n",
    "Она похожа на MAE, но выражается не в абсолютных величинах, а в относительных. Почему симметричная? Она одинаково учитывает масштаб и целевого признака, и предсказания.\n",
    "\n",
    "Метрика sMAPE вычисляется так:\n"
   ]
  },
  {
   "attachments": {
    "image.png": {
     "image/png": "[encoded data removed]"
    }
   },
   "cell_type": "markdown",
   "metadata": {},
   "source": [
    "![image.png](attachment:image.png)"
   ]
  },
  {
   "attachments": {
    "image.png": {
     "image/png": "[encoded data removed]"
    }
   },
   "cell_type": "markdown",
   "metadata": {},
   "source": [
    "Обозначения:\n",
    "![image.png](attachment:image.png)\n",
    "Значение целевого признака для объекта с порядковым номером i в выборке, на которой измеряется качество."
   ]
  },
  {
   "attachments": {
    "image.png": {
     "image/png": "[encoded data removed]"
    }
   },
   "cell_type": "markdown",
   "metadata": {},
   "source": [
    "![image.png](attachment:image.png)\n",
    "Значение предсказания для объекта с порядковым номером i, например, в тестовой выборке."
   ]
  },
  {
   "attachments": {
    "image.png": {
     "image/png": "[encoded data removed]"
    }
   },
   "cell_type": "markdown",
   "metadata": {},
   "source": [
    "![image.png](attachment:image.png)\n",
    "Количество объектов в выборке."
   ]
  },
  {
   "attachments": {
    "image.png": {
     "image/png": "[encoded data removed]"
    }
   },
   "cell_type": "markdown",
   "metadata": {},
   "source": [
    "![image.png](attachment:image.png)\n",
    "Суммирование по всем объектам выборки (i меняется от 1 до N)."
   ]
  },
  {
   "cell_type": "markdown",
   "metadata": {},
   "source": [
    "Нужно спрогнозировать сразу две величины:\n",
    "1. эффективность обогащения чернового концентрата ```rougher.output.recovery;```\n",
    "\n",
    "2. эффективность обогащения финального концентрата ```final.output.recovery.```\n",
    "\n",
    "Итоговая метрика складывается из двух величин:"
   ]
  },
  {
   "attachments": {
    "image.png": {
     "image/png": "[encoded data removed]"
    }
   },
   "cell_type": "markdown",
   "metadata": {},
   "source": [
    "![image.png](attachment:image.png)"
   ]
  },
  {
   "cell_type": "markdown",
   "metadata": {},
   "source": [
    "Данные находятся в трёх файлах:\n",
    "- ```gold_recovery_train_new.csv``` — обучающая выборка;\n",
    "- ```gold_recovery_test_new.csv``` — тестовая выборка;\n",
    "- ```gold_recovery_full_new.csv``` — исходные данные.\n",
    "\n",
    "Данные индексируются датой и временем получения информации (признак ```date```). Соседние по времени параметры часто похожи.\n",
    "\n",
    "Некоторые параметры недоступны, потому что замеряются и/или рассчитываются значительно позже. Из-за этого в тестовой выборке отсутствуют некоторые признаки, которые могут быть в обучающей. Также в тестовом наборе нет целевых признаков.\n",
    "\n",
    "Исходный датасет содержит обучающую и тестовую выборки со всеми признаками.\n",
    "\n",
    "В вашем распоряжении сырые данные: их просто выгрузили из хранилища. Прежде чем приступить к построению модели, проверьте по нашей инструкции их на корректность."
   ]
  },
  {
   "cell_type": "markdown",
   "metadata": {},
   "source": [
    "<div class=\"alert alert-success\">\n",
    "<h2> Комментарий ревьюера <a class=\"tocSkip\"> </h2>\n",
    " \n",
    "<b>Все отлично!👍:</b> \n",
    "    \n",
    "Вижу твое добавленное описание проекта. Молодец! Это поможет тебе расставлять акценты в выводах."
   ]
  },
  {
   "cell_type": "markdown",
   "metadata": {},
   "source": [
    "### Приступление к проекту. Открываем файлы и изучаем их."
   ]
  },
  {
   "cell_type": "code",
   "execution_count": 402,
   "metadata": {},
   "outputs": [],
   "source": [
    "# Подключаем все необходимые библиотеки\n",
    "import pandas as pd\n",
    "import numpy as np\n",
    "import matplotlib.pyplot as plt\n",
    "import seaborn as sb\n",
    "from scipy import stats as st\n",
    "\n",
    "# Разбиение на обучающую, валидационную и тестовую выборку\n",
    "from sklearn.model_selection import train_test_split, GridSearchCV, cross_val_score, cross_val_predict\n",
    "# Применим кроссвалидацию для повышения качеств обучения\n",
    "# Для константной модели\n",
    "from sklearn.dummy import DummyRegressor\n",
    "\n",
    "# Масштабируемость модели\n",
    "from sklearn.preprocessing import StandardScaler\n",
    "\n",
    "from sklearn.metrics import fbeta_score, make_scorer\n",
    "\n",
    "# и для машинного обучения разными способами (по условию мы выбираем линейную регрессию):\n",
    "from sklearn.ensemble import RandomForestRegressor\n",
    "from sklearn.linear_model import LinearRegression, LogisticRegression\n",
    "from sklearn.tree import DecisionTreeRegressor\n",
    "\n",
    "from sklearn.metrics import mean_squared_error\n",
    "from sklearn.metrics import (\n",
    "    # Точность модели\n",
    "    accuracy_score,\n",
    "    # Матрицы ошибок (для борьбы с дисбалансом)\n",
    "    confusion_matrix, \n",
    "    # Полнота\n",
    "    recall_score, \n",
    "    # Точность\n",
    "    precision_score, \n",
    "    # F1-мера\n",
    "    f1_score,\n",
    "    # Метрика AUC-ROC\n",
    "    roc_auc_score,\n",
    "    roc_curve,\n",
    "    # MSE\n",
    "    mean_squared_error,\n",
    "    mean_absolute_error\n",
    ")\n",
    "\n",
    "# Контроль выборки\n",
    "from sklearn.utils import shuffle"
   ]
  },
  {
   "cell_type": "code",
   "execution_count": 3,
   "metadata": {},
   "outputs": [],
   "source": [
    "# Получаем датасеты\n",
    "try:\n",
    "    # С Яндекса сервера\n",
    "    try:\n",
    "        # Обучающая выборка\n",
    "        df_train = pd.read_csv('/datasets/gold_recovery_train_new.csv')\n",
    "        # Тестовая выборка\n",
    "        df_test = pd.read_csv('/datasets/gold_recovery_test_new.csv')\n",
    "        # Исходные данные\n",
    "        df_full = pd.read_csv('/datasets/gold_recovery_full_new.csv')\n",
    "    # Локальный файл\n",
    "    except:\n",
    "        # Обучающая выборка\n",
    "        df_train = pd.read_csv('gold_recovery_train_new.csv')\n",
    "        # Тестовая выборка\n",
    "        df_test = pd.read_csv('gold_recovery_test_new.csv')\n",
    "        # Исходные данные\n",
    "        df_full = pd.read_csv('gold_recovery_full_new.csv')\n",
    "except:\n",
    "    print('Отсутствует датасет. Проверьте путь файла')"
   ]
  },
  {
   "cell_type": "markdown",
   "metadata": {},
   "source": [
    "***Примечание***\n",
    "\n",
    "count    3.0 **количество наблюдений в наборе данных**\n",
    "\n",
    "mean     2.0 **среднее арифметическое**\n",
    "\n",
    "std      1.0 **стандартное отклонение**\n",
    "\n",
    "min      1.0 **минимальное значение**\n",
    "\n",
    "25%      1.5 **первый квартиль**\n",
    "\n",
    "50%      2.0 **медиана, или второй квартиль**\n",
    "\n",
    "75%      2.5 **третий квартиль**\n",
    "\n",
    "max      3.0 **максимальное значение**\n",
    "\n",
    "dtype: float64 **тип данных**"
   ]
  },
  {
   "cell_type": "code",
   "execution_count": 4,
   "metadata": {},
   "outputs": [
    {
     "data": {
      "text/html": [
       "<div>\n",
       "<style scoped>\n",
       "    .dataframe tbody tr th:only-of-type {\n",
       "        vertical-align: middle;\n",
       "    }\n",
       "\n",
       "    .dataframe tbody tr th {\n",
       "        vertical-align: top;\n",
       "    }\n",
       "\n",
       "    .dataframe thead th {\n",
       "        text-align: right;\n",
       "    }\n",
       "</style>\n",
       "<table border=\"1\" class=\"dataframe\">\n",
       "  <thead>\n",
       "    <tr style=\"text-align: right;\">\n",
       "      <th></th>\n",
       "      <th>final.output.concentrate_ag</th>\n",
       "      <th>final.output.concentrate_pb</th>\n",
       "      <th>final.output.concentrate_sol</th>\n",
       "      <th>final.output.concentrate_au</th>\n",
       "      <th>final.output.recovery</th>\n",
       "      <th>final.output.tail_ag</th>\n",
       "      <th>final.output.tail_pb</th>\n",
       "      <th>final.output.tail_sol</th>\n",
       "      <th>final.output.tail_au</th>\n",
       "      <th>primary_cleaner.input.sulfate</th>\n",
       "      <th>...</th>\n",
       "      <th>secondary_cleaner.state.floatbank4_a_air</th>\n",
       "      <th>secondary_cleaner.state.floatbank4_a_level</th>\n",
       "      <th>secondary_cleaner.state.floatbank4_b_air</th>\n",
       "      <th>secondary_cleaner.state.floatbank4_b_level</th>\n",
       "      <th>secondary_cleaner.state.floatbank5_a_air</th>\n",
       "      <th>secondary_cleaner.state.floatbank5_a_level</th>\n",
       "      <th>secondary_cleaner.state.floatbank5_b_air</th>\n",
       "      <th>secondary_cleaner.state.floatbank5_b_level</th>\n",
       "      <th>secondary_cleaner.state.floatbank6_a_air</th>\n",
       "      <th>secondary_cleaner.state.floatbank6_a_level</th>\n",
       "    </tr>\n",
       "  </thead>\n",
       "  <tbody>\n",
       "    <tr>\n",
       "      <th>count</th>\n",
       "      <td>14148.000000</td>\n",
       "      <td>14148.000000</td>\n",
       "      <td>13938.000000</td>\n",
       "      <td>14149.000000</td>\n",
       "      <td>14149.000000</td>\n",
       "      <td>14149.000000</td>\n",
       "      <td>14049.000000</td>\n",
       "      <td>14144.000000</td>\n",
       "      <td>14149.000000</td>\n",
       "      <td>14129.000000</td>\n",
       "      <td>...</td>\n",
       "      <td>14143.000000</td>\n",
       "      <td>14148.000000</td>\n",
       "      <td>14148.000000</td>\n",
       "      <td>14148.000000</td>\n",
       "      <td>14148.000000</td>\n",
       "      <td>14148.000000</td>\n",
       "      <td>14148.000000</td>\n",
       "      <td>14148.000000</td>\n",
       "      <td>14147.000000</td>\n",
       "      <td>14148.000000</td>\n",
       "    </tr>\n",
       "    <tr>\n",
       "      <th>mean</th>\n",
       "      <td>5.142034</td>\n",
       "      <td>10.132960</td>\n",
       "      <td>9.202849</td>\n",
       "      <td>44.003792</td>\n",
       "      <td>66.518832</td>\n",
       "      <td>9.607035</td>\n",
       "      <td>2.597298</td>\n",
       "      <td>10.512122</td>\n",
       "      <td>2.918421</td>\n",
       "      <td>133.320659</td>\n",
       "      <td>...</td>\n",
       "      <td>19.985454</td>\n",
       "      <td>-478.696836</td>\n",
       "      <td>15.487065</td>\n",
       "      <td>-460.229416</td>\n",
       "      <td>16.775136</td>\n",
       "      <td>-483.956022</td>\n",
       "      <td>13.064590</td>\n",
       "      <td>-483.966564</td>\n",
       "      <td>19.577539</td>\n",
       "      <td>-506.798480</td>\n",
       "    </tr>\n",
       "    <tr>\n",
       "      <th>std</th>\n",
       "      <td>1.369586</td>\n",
       "      <td>1.654930</td>\n",
       "      <td>2.790516</td>\n",
       "      <td>4.905261</td>\n",
       "      <td>10.295402</td>\n",
       "      <td>2.319069</td>\n",
       "      <td>0.971843</td>\n",
       "      <td>3.003617</td>\n",
       "      <td>0.903712</td>\n",
       "      <td>39.431659</td>\n",
       "      <td>...</td>\n",
       "      <td>5.657723</td>\n",
       "      <td>50.736021</td>\n",
       "      <td>5.255655</td>\n",
       "      <td>58.843586</td>\n",
       "      <td>5.831906</td>\n",
       "      <td>37.892788</td>\n",
       "      <td>5.765617</td>\n",
       "      <td>39.207913</td>\n",
       "      <td>5.764417</td>\n",
       "      <td>37.079249</td>\n",
       "    </tr>\n",
       "    <tr>\n",
       "      <th>min</th>\n",
       "      <td>0.000000</td>\n",
       "      <td>0.000000</td>\n",
       "      <td>0.000000</td>\n",
       "      <td>0.000000</td>\n",
       "      <td>0.000000</td>\n",
       "      <td>0.000000</td>\n",
       "      <td>0.000000</td>\n",
       "      <td>0.000000</td>\n",
       "      <td>0.000000</td>\n",
       "      <td>0.003112</td>\n",
       "      <td>...</td>\n",
       "      <td>0.000000</td>\n",
       "      <td>-799.709069</td>\n",
       "      <td>0.000000</td>\n",
       "      <td>-799.889113</td>\n",
       "      <td>-0.372054</td>\n",
       "      <td>-797.142475</td>\n",
       "      <td>0.646208</td>\n",
       "      <td>-800.006180</td>\n",
       "      <td>0.195324</td>\n",
       "      <td>-809.398668</td>\n",
       "    </tr>\n",
       "    <tr>\n",
       "      <th>25%</th>\n",
       "      <td>4.211620</td>\n",
       "      <td>9.297355</td>\n",
       "      <td>7.484645</td>\n",
       "      <td>43.276111</td>\n",
       "      <td>62.545817</td>\n",
       "      <td>7.997429</td>\n",
       "      <td>1.905973</td>\n",
       "      <td>8.811324</td>\n",
       "      <td>2.368607</td>\n",
       "      <td>107.006651</td>\n",
       "      <td>...</td>\n",
       "      <td>14.990775</td>\n",
       "      <td>-500.628656</td>\n",
       "      <td>11.894558</td>\n",
       "      <td>-500.149000</td>\n",
       "      <td>11.083980</td>\n",
       "      <td>-500.363177</td>\n",
       "      <td>8.994405</td>\n",
       "      <td>-500.105994</td>\n",
       "      <td>14.989304</td>\n",
       "      <td>-500.745104</td>\n",
       "    </tr>\n",
       "    <tr>\n",
       "      <th>50%</th>\n",
       "      <td>4.994652</td>\n",
       "      <td>10.297144</td>\n",
       "      <td>8.845462</td>\n",
       "      <td>44.872436</td>\n",
       "      <td>67.432775</td>\n",
       "      <td>9.480270</td>\n",
       "      <td>2.592022</td>\n",
       "      <td>10.514621</td>\n",
       "      <td>2.851025</td>\n",
       "      <td>133.018328</td>\n",
       "      <td>...</td>\n",
       "      <td>20.001789</td>\n",
       "      <td>-499.681450</td>\n",
       "      <td>14.975536</td>\n",
       "      <td>-499.388738</td>\n",
       "      <td>17.932223</td>\n",
       "      <td>-499.702452</td>\n",
       "      <td>11.997547</td>\n",
       "      <td>-499.914556</td>\n",
       "      <td>19.984175</td>\n",
       "      <td>-500.061431</td>\n",
       "    </tr>\n",
       "    <tr>\n",
       "      <th>75%</th>\n",
       "      <td>5.859540</td>\n",
       "      <td>11.170603</td>\n",
       "      <td>10.487508</td>\n",
       "      <td>46.166425</td>\n",
       "      <td>72.346428</td>\n",
       "      <td>11.003707</td>\n",
       "      <td>3.241723</td>\n",
       "      <td>11.933009</td>\n",
       "      <td>3.434764</td>\n",
       "      <td>159.825396</td>\n",
       "      <td>...</td>\n",
       "      <td>24.990826</td>\n",
       "      <td>-477.472413</td>\n",
       "      <td>20.059375</td>\n",
       "      <td>-400.039008</td>\n",
       "      <td>21.346550</td>\n",
       "      <td>-487.712108</td>\n",
       "      <td>17.982903</td>\n",
       "      <td>-453.186936</td>\n",
       "      <td>24.991623</td>\n",
       "      <td>-499.536466</td>\n",
       "    </tr>\n",
       "    <tr>\n",
       "      <th>max</th>\n",
       "      <td>16.001945</td>\n",
       "      <td>17.031899</td>\n",
       "      <td>18.124851</td>\n",
       "      <td>52.756638</td>\n",
       "      <td>100.000000</td>\n",
       "      <td>19.552149</td>\n",
       "      <td>5.639565</td>\n",
       "      <td>22.317730</td>\n",
       "      <td>8.197408</td>\n",
       "      <td>250.127834</td>\n",
       "      <td>...</td>\n",
       "      <td>30.115735</td>\n",
       "      <td>-245.239184</td>\n",
       "      <td>24.007913</td>\n",
       "      <td>-145.071088</td>\n",
       "      <td>43.709931</td>\n",
       "      <td>-275.073125</td>\n",
       "      <td>27.926001</td>\n",
       "      <td>-157.396071</td>\n",
       "      <td>32.188906</td>\n",
       "      <td>-104.427459</td>\n",
       "    </tr>\n",
       "  </tbody>\n",
       "</table>\n",
       "<p>8 rows × 86 columns</p>\n",
       "</div>"
      ],
      "text/plain": [
       "       final.output.concentrate_ag  final.output.concentrate_pb  \\\n",
       "count                 14148.000000                 14148.000000   \n",
       "mean                      5.142034                    10.132960   \n",
       "std                       1.369586                     1.654930   \n",
       "min                       0.000000                     0.000000   \n",
       "25%                       4.211620                     9.297355   \n",
       "50%                       4.994652                    10.297144   \n",
       "75%                       5.859540                    11.170603   \n",
       "max                      16.001945                    17.031899   \n",
       "\n",
       "       final.output.concentrate_sol  final.output.concentrate_au  \\\n",
       "count                  13938.000000                 14149.000000   \n",
       "mean                       9.202849                    44.003792   \n",
       "std                        2.790516                     4.905261   \n",
       "min                        0.000000                     0.000000   \n",
       "25%                        7.484645                    43.276111   \n",
       "50%                        8.845462                    44.872436   \n",
       "75%                       10.487508                    46.166425   \n",
       "max                       18.124851                    52.756638   \n",
       "\n",
       "       final.output.recovery  final.output.tail_ag  final.output.tail_pb  \\\n",
       "count           14149.000000          14149.000000          14049.000000   \n",
       "mean               66.518832              9.607035              2.597298   \n",
       "std                10.295402              2.319069              0.971843   \n",
       "min                 0.000000              0.000000              0.000000   \n",
       "25%                62.545817              7.997429              1.905973   \n",
       "50%                67.432775              9.480270              2.592022   \n",
       "75%                72.346428             11.003707              3.241723   \n",
       "max               100.000000             19.552149              5.639565   \n",
       "\n",
       "       final.output.tail_sol  final.output.tail_au  \\\n",
       "count           14144.000000          14149.000000   \n",
       "mean               10.512122              2.918421   \n",
       "std                 3.003617              0.903712   \n",
       "min                 0.000000              0.000000   \n",
       "25%                 8.811324              2.368607   \n",
       "50%                10.514621              2.851025   \n",
       "75%                11.933009              3.434764   \n",
       "max                22.317730              8.197408   \n",
       "\n",
       "       primary_cleaner.input.sulfate  ...  \\\n",
       "count                   14129.000000  ...   \n",
       "mean                      133.320659  ...   \n",
       "std                        39.431659  ...   \n",
       "min                         0.003112  ...   \n",
       "25%                       107.006651  ...   \n",
       "50%                       133.018328  ...   \n",
       "75%                       159.825396  ...   \n",
       "max                       250.127834  ...   \n",
       "\n",
       "       secondary_cleaner.state.floatbank4_a_air  \\\n",
       "count                              14143.000000   \n",
       "mean                                  19.985454   \n",
       "std                                    5.657723   \n",
       "min                                    0.000000   \n",
       "25%                                   14.990775   \n",
       "50%                                   20.001789   \n",
       "75%                                   24.990826   \n",
       "max                                   30.115735   \n",
       "\n",
       "       secondary_cleaner.state.floatbank4_a_level  \\\n",
       "count                                14148.000000   \n",
       "mean                                  -478.696836   \n",
       "std                                     50.736021   \n",
       "min                                   -799.709069   \n",
       "25%                                   -500.628656   \n",
       "50%                                   -499.681450   \n",
       "75%                                   -477.472413   \n",
       "max                                   -245.239184   \n",
       "\n",
       "       secondary_cleaner.state.floatbank4_b_air  \\\n",
       "count                              14148.000000   \n",
       "mean                                  15.487065   \n",
       "std                                    5.255655   \n",
       "min                                    0.000000   \n",
       "25%                                   11.894558   \n",
       "50%                                   14.975536   \n",
       "75%                                   20.059375   \n",
       "max                                   24.007913   \n",
       "\n",
       "       secondary_cleaner.state.floatbank4_b_level  \\\n",
       "count                                14148.000000   \n",
       "mean                                  -460.229416   \n",
       "std                                     58.843586   \n",
       "min                                   -799.889113   \n",
       "25%                                   -500.149000   \n",
       "50%                                   -499.388738   \n",
       "75%                                   -400.039008   \n",
       "max                                   -145.071088   \n",
       "\n",
       "       secondary_cleaner.state.floatbank5_a_air  \\\n",
       "count                              14148.000000   \n",
       "mean                                  16.775136   \n",
       "std                                    5.831906   \n",
       "min                                   -0.372054   \n",
       "25%                                   11.083980   \n",
       "50%                                   17.932223   \n",
       "75%                                   21.346550   \n",
       "max                                   43.709931   \n",
       "\n",
       "       secondary_cleaner.state.floatbank5_a_level  \\\n",
       "count                                14148.000000   \n",
       "mean                                  -483.956022   \n",
       "std                                     37.892788   \n",
       "min                                   -797.142475   \n",
       "25%                                   -500.363177   \n",
       "50%                                   -499.702452   \n",
       "75%                                   -487.712108   \n",
       "max                                   -275.073125   \n",
       "\n",
       "       secondary_cleaner.state.floatbank5_b_air  \\\n",
       "count                              14148.000000   \n",
       "mean                                  13.064590   \n",
       "std                                    5.765617   \n",
       "min                                    0.646208   \n",
       "25%                                    8.994405   \n",
       "50%                                   11.997547   \n",
       "75%                                   17.982903   \n",
       "max                                   27.926001   \n",
       "\n",
       "       secondary_cleaner.state.floatbank5_b_level  \\\n",
       "count                                14148.000000   \n",
       "mean                                  -483.966564   \n",
       "std                                     39.207913   \n",
       "min                                   -800.006180   \n",
       "25%                                   -500.105994   \n",
       "50%                                   -499.914556   \n",
       "75%                                   -453.186936   \n",
       "max                                   -157.396071   \n",
       "\n",
       "       secondary_cleaner.state.floatbank6_a_air  \\\n",
       "count                              14147.000000   \n",
       "mean                                  19.577539   \n",
       "std                                    5.764417   \n",
       "min                                    0.195324   \n",
       "25%                                   14.989304   \n",
       "50%                                   19.984175   \n",
       "75%                                   24.991623   \n",
       "max                                   32.188906   \n",
       "\n",
       "       secondary_cleaner.state.floatbank6_a_level  \n",
       "count                                14148.000000  \n",
       "mean                                  -506.798480  \n",
       "std                                     37.079249  \n",
       "min                                   -809.398668  \n",
       "25%                                   -500.745104  \n",
       "50%                                   -500.061431  \n",
       "75%                                   -499.536466  \n",
       "max                                   -104.427459  \n",
       "\n",
       "[8 rows x 86 columns]"
      ]
     },
     "execution_count": 4,
     "metadata": {},
     "output_type": "execute_result"
    }
   ],
   "source": [
    "# Конечно же, можно применять библиотеку pandas_profiling, но юпитер раньше сдохнет, пока не 8 тыс. итераций не дойдет) \n",
    "df_train.describe()"
   ]
  },
  {
   "cell_type": "code",
   "execution_count": 5,
   "metadata": {},
   "outputs": [
    {
     "data": {
      "text/html": [
       "<div>\n",
       "<style scoped>\n",
       "    .dataframe tbody tr th:only-of-type {\n",
       "        vertical-align: middle;\n",
       "    }\n",
       "\n",
       "    .dataframe tbody tr th {\n",
       "        vertical-align: top;\n",
       "    }\n",
       "\n",
       "    .dataframe thead th {\n",
       "        text-align: right;\n",
       "    }\n",
       "</style>\n",
       "<table border=\"1\" class=\"dataframe\">\n",
       "  <thead>\n",
       "    <tr style=\"text-align: right;\">\n",
       "      <th></th>\n",
       "      <th>primary_cleaner.input.sulfate</th>\n",
       "      <th>primary_cleaner.input.depressant</th>\n",
       "      <th>primary_cleaner.input.feed_size</th>\n",
       "      <th>primary_cleaner.input.xanthate</th>\n",
       "      <th>primary_cleaner.state.floatbank8_a_air</th>\n",
       "      <th>primary_cleaner.state.floatbank8_a_level</th>\n",
       "      <th>primary_cleaner.state.floatbank8_b_air</th>\n",
       "      <th>primary_cleaner.state.floatbank8_b_level</th>\n",
       "      <th>primary_cleaner.state.floatbank8_c_air</th>\n",
       "      <th>primary_cleaner.state.floatbank8_c_level</th>\n",
       "      <th>...</th>\n",
       "      <th>secondary_cleaner.state.floatbank4_a_air</th>\n",
       "      <th>secondary_cleaner.state.floatbank4_a_level</th>\n",
       "      <th>secondary_cleaner.state.floatbank4_b_air</th>\n",
       "      <th>secondary_cleaner.state.floatbank4_b_level</th>\n",
       "      <th>secondary_cleaner.state.floatbank5_a_air</th>\n",
       "      <th>secondary_cleaner.state.floatbank5_a_level</th>\n",
       "      <th>secondary_cleaner.state.floatbank5_b_air</th>\n",
       "      <th>secondary_cleaner.state.floatbank5_b_level</th>\n",
       "      <th>secondary_cleaner.state.floatbank6_a_air</th>\n",
       "      <th>secondary_cleaner.state.floatbank6_a_level</th>\n",
       "    </tr>\n",
       "  </thead>\n",
       "  <tbody>\n",
       "    <tr>\n",
       "      <th>count</th>\n",
       "      <td>5286.000000</td>\n",
       "      <td>5285.000000</td>\n",
       "      <td>5290.000000</td>\n",
       "      <td>5286.000000</td>\n",
       "      <td>5.290000e+03</td>\n",
       "      <td>5290.000000</td>\n",
       "      <td>5.290000e+03</td>\n",
       "      <td>5290.000000</td>\n",
       "      <td>5.290000e+03</td>\n",
       "      <td>5290.000000</td>\n",
       "      <td>...</td>\n",
       "      <td>5.290000e+03</td>\n",
       "      <td>5290.000000</td>\n",
       "      <td>5.290000e+03</td>\n",
       "      <td>5290.000000</td>\n",
       "      <td>5290.000000</td>\n",
       "      <td>5290.000000</td>\n",
       "      <td>5290.000000</td>\n",
       "      <td>5290.000000</td>\n",
       "      <td>5290.000000</td>\n",
       "      <td>5290.000000</td>\n",
       "    </tr>\n",
       "    <tr>\n",
       "      <th>mean</th>\n",
       "      <td>174.839652</td>\n",
       "      <td>8.683596</td>\n",
       "      <td>7.266339</td>\n",
       "      <td>1.383803</td>\n",
       "      <td>1.539494e+03</td>\n",
       "      <td>-497.665883</td>\n",
       "      <td>1.545174e+03</td>\n",
       "      <td>-500.273098</td>\n",
       "      <td>1.527272e+03</td>\n",
       "      <td>-498.330680</td>\n",
       "      <td>...</td>\n",
       "      <td>1.632007e+01</td>\n",
       "      <td>-505.144570</td>\n",
       "      <td>1.373544e+01</td>\n",
       "      <td>-463.349858</td>\n",
       "      <td>12.804186</td>\n",
       "      <td>-501.329122</td>\n",
       "      <td>9.881145</td>\n",
       "      <td>-495.663398</td>\n",
       "      <td>17.304935</td>\n",
       "      <td>-501.793193</td>\n",
       "    </tr>\n",
       "    <tr>\n",
       "      <th>std</th>\n",
       "      <td>43.027080</td>\n",
       "      <td>3.072050</td>\n",
       "      <td>0.610219</td>\n",
       "      <td>0.643474</td>\n",
       "      <td>1.167979e+02</td>\n",
       "      <td>19.952431</td>\n",
       "      <td>1.222246e+02</td>\n",
       "      <td>32.968307</td>\n",
       "      <td>1.225380e+02</td>\n",
       "      <td>21.964876</td>\n",
       "      <td>...</td>\n",
       "      <td>3.493583e+00</td>\n",
       "      <td>31.427337</td>\n",
       "      <td>3.430484e+00</td>\n",
       "      <td>86.189107</td>\n",
       "      <td>3.026591</td>\n",
       "      <td>17.951495</td>\n",
       "      <td>2.868205</td>\n",
       "      <td>34.535007</td>\n",
       "      <td>4.536544</td>\n",
       "      <td>39.044215</td>\n",
       "    </tr>\n",
       "    <tr>\n",
       "      <th>min</th>\n",
       "      <td>2.566156</td>\n",
       "      <td>0.003839</td>\n",
       "      <td>5.650000</td>\n",
       "      <td>0.004984</td>\n",
       "      <td>5.445860e-32</td>\n",
       "      <td>-795.316337</td>\n",
       "      <td>6.647490e-32</td>\n",
       "      <td>-799.997015</td>\n",
       "      <td>4.033736e-32</td>\n",
       "      <td>-799.960571</td>\n",
       "      <td>...</td>\n",
       "      <td>1.079872e-16</td>\n",
       "      <td>-799.798523</td>\n",
       "      <td>2.489718e-17</td>\n",
       "      <td>-800.836914</td>\n",
       "      <td>0.069227</td>\n",
       "      <td>-797.323986</td>\n",
       "      <td>0.528083</td>\n",
       "      <td>-800.220337</td>\n",
       "      <td>-0.079426</td>\n",
       "      <td>-809.741464</td>\n",
       "    </tr>\n",
       "    <tr>\n",
       "      <th>25%</th>\n",
       "      <td>147.121401</td>\n",
       "      <td>6.489555</td>\n",
       "      <td>6.890000</td>\n",
       "      <td>0.907623</td>\n",
       "      <td>1.498936e+03</td>\n",
       "      <td>-500.357298</td>\n",
       "      <td>1.498971e+03</td>\n",
       "      <td>-500.703002</td>\n",
       "      <td>1.473230e+03</td>\n",
       "      <td>-501.018117</td>\n",
       "      <td>...</td>\n",
       "      <td>1.403618e+01</td>\n",
       "      <td>-500.868258</td>\n",
       "      <td>1.202862e+01</td>\n",
       "      <td>-500.323028</td>\n",
       "      <td>10.914838</td>\n",
       "      <td>-500.726841</td>\n",
       "      <td>8.036719</td>\n",
       "      <td>-500.194668</td>\n",
       "      <td>13.997317</td>\n",
       "      <td>-500.690984</td>\n",
       "    </tr>\n",
       "    <tr>\n",
       "      <th>50%</th>\n",
       "      <td>177.828489</td>\n",
       "      <td>8.052207</td>\n",
       "      <td>7.250000</td>\n",
       "      <td>1.197610</td>\n",
       "      <td>1.585129e+03</td>\n",
       "      <td>-499.969164</td>\n",
       "      <td>1.595622e+03</td>\n",
       "      <td>-500.028514</td>\n",
       "      <td>1.549595e+03</td>\n",
       "      <td>-500.017711</td>\n",
       "      <td>...</td>\n",
       "      <td>1.700847e+01</td>\n",
       "      <td>-500.115727</td>\n",
       "      <td>1.496486e+01</td>\n",
       "      <td>-499.576513</td>\n",
       "      <td>12.954182</td>\n",
       "      <td>-499.990332</td>\n",
       "      <td>10.004301</td>\n",
       "      <td>-499.990535</td>\n",
       "      <td>16.014935</td>\n",
       "      <td>-500.007126</td>\n",
       "    </tr>\n",
       "    <tr>\n",
       "      <th>75%</th>\n",
       "      <td>208.125438</td>\n",
       "      <td>10.027764</td>\n",
       "      <td>7.600000</td>\n",
       "      <td>1.797819</td>\n",
       "      <td>1.602077e+03</td>\n",
       "      <td>-499.568951</td>\n",
       "      <td>1.602324e+03</td>\n",
       "      <td>-499.293257</td>\n",
       "      <td>1.601144e+03</td>\n",
       "      <td>-498.994130</td>\n",
       "      <td>...</td>\n",
       "      <td>1.803862e+01</td>\n",
       "      <td>-499.404224</td>\n",
       "      <td>1.596213e+01</td>\n",
       "      <td>-400.933805</td>\n",
       "      <td>15.097528</td>\n",
       "      <td>-499.283191</td>\n",
       "      <td>11.997467</td>\n",
       "      <td>-499.719913</td>\n",
       "      <td>21.020013</td>\n",
       "      <td>-499.373018</td>\n",
       "    </tr>\n",
       "    <tr>\n",
       "      <th>max</th>\n",
       "      <td>265.983123</td>\n",
       "      <td>40.000000</td>\n",
       "      <td>15.500000</td>\n",
       "      <td>4.102454</td>\n",
       "      <td>2.103104e+03</td>\n",
       "      <td>-57.195404</td>\n",
       "      <td>1.813084e+03</td>\n",
       "      <td>-142.527229</td>\n",
       "      <td>1.715054e+03</td>\n",
       "      <td>-150.937035</td>\n",
       "      <td>...</td>\n",
       "      <td>3.005180e+01</td>\n",
       "      <td>-401.565212</td>\n",
       "      <td>3.126971e+01</td>\n",
       "      <td>-6.506986</td>\n",
       "      <td>25.258848</td>\n",
       "      <td>-244.483566</td>\n",
       "      <td>14.086866</td>\n",
       "      <td>-137.740004</td>\n",
       "      <td>26.705889</td>\n",
       "      <td>-123.307487</td>\n",
       "    </tr>\n",
       "  </tbody>\n",
       "</table>\n",
       "<p>8 rows × 52 columns</p>\n",
       "</div>"
      ],
      "text/plain": [
       "       primary_cleaner.input.sulfate  primary_cleaner.input.depressant  \\\n",
       "count                    5286.000000                       5285.000000   \n",
       "mean                      174.839652                          8.683596   \n",
       "std                        43.027080                          3.072050   \n",
       "min                         2.566156                          0.003839   \n",
       "25%                       147.121401                          6.489555   \n",
       "50%                       177.828489                          8.052207   \n",
       "75%                       208.125438                         10.027764   \n",
       "max                       265.983123                         40.000000   \n",
       "\n",
       "       primary_cleaner.input.feed_size  primary_cleaner.input.xanthate  \\\n",
       "count                      5290.000000                     5286.000000   \n",
       "mean                          7.266339                        1.383803   \n",
       "std                           0.610219                        0.643474   \n",
       "min                           5.650000                        0.004984   \n",
       "25%                           6.890000                        0.907623   \n",
       "50%                           7.250000                        1.197610   \n",
       "75%                           7.600000                        1.797819   \n",
       "max                          15.500000                        4.102454   \n",
       "\n",
       "       primary_cleaner.state.floatbank8_a_air  \\\n",
       "count                            5.290000e+03   \n",
       "mean                             1.539494e+03   \n",
       "std                              1.167979e+02   \n",
       "min                              5.445860e-32   \n",
       "25%                              1.498936e+03   \n",
       "50%                              1.585129e+03   \n",
       "75%                              1.602077e+03   \n",
       "max                              2.103104e+03   \n",
       "\n",
       "       primary_cleaner.state.floatbank8_a_level  \\\n",
       "count                               5290.000000   \n",
       "mean                                -497.665883   \n",
       "std                                   19.952431   \n",
       "min                                 -795.316337   \n",
       "25%                                 -500.357298   \n",
       "50%                                 -499.969164   \n",
       "75%                                 -499.568951   \n",
       "max                                  -57.195404   \n",
       "\n",
       "       primary_cleaner.state.floatbank8_b_air  \\\n",
       "count                            5.290000e+03   \n",
       "mean                             1.545174e+03   \n",
       "std                              1.222246e+02   \n",
       "min                              6.647490e-32   \n",
       "25%                              1.498971e+03   \n",
       "50%                              1.595622e+03   \n",
       "75%                              1.602324e+03   \n",
       "max                              1.813084e+03   \n",
       "\n",
       "       primary_cleaner.state.floatbank8_b_level  \\\n",
       "count                               5290.000000   \n",
       "mean                                -500.273098   \n",
       "std                                   32.968307   \n",
       "min                                 -799.997015   \n",
       "25%                                 -500.703002   \n",
       "50%                                 -500.028514   \n",
       "75%                                 -499.293257   \n",
       "max                                 -142.527229   \n",
       "\n",
       "       primary_cleaner.state.floatbank8_c_air  \\\n",
       "count                            5.290000e+03   \n",
       "mean                             1.527272e+03   \n",
       "std                              1.225380e+02   \n",
       "min                              4.033736e-32   \n",
       "25%                              1.473230e+03   \n",
       "50%                              1.549595e+03   \n",
       "75%                              1.601144e+03   \n",
       "max                              1.715054e+03   \n",
       "\n",
       "       primary_cleaner.state.floatbank8_c_level  ...  \\\n",
       "count                               5290.000000  ...   \n",
       "mean                                -498.330680  ...   \n",
       "std                                   21.964876  ...   \n",
       "min                                 -799.960571  ...   \n",
       "25%                                 -501.018117  ...   \n",
       "50%                                 -500.017711  ...   \n",
       "75%                                 -498.994130  ...   \n",
       "max                                 -150.937035  ...   \n",
       "\n",
       "       secondary_cleaner.state.floatbank4_a_air  \\\n",
       "count                              5.290000e+03   \n",
       "mean                               1.632007e+01   \n",
       "std                                3.493583e+00   \n",
       "min                                1.079872e-16   \n",
       "25%                                1.403618e+01   \n",
       "50%                                1.700847e+01   \n",
       "75%                                1.803862e+01   \n",
       "max                                3.005180e+01   \n",
       "\n",
       "       secondary_cleaner.state.floatbank4_a_level  \\\n",
       "count                                 5290.000000   \n",
       "mean                                  -505.144570   \n",
       "std                                     31.427337   \n",
       "min                                   -799.798523   \n",
       "25%                                   -500.868258   \n",
       "50%                                   -500.115727   \n",
       "75%                                   -499.404224   \n",
       "max                                   -401.565212   \n",
       "\n",
       "       secondary_cleaner.state.floatbank4_b_air  \\\n",
       "count                              5.290000e+03   \n",
       "mean                               1.373544e+01   \n",
       "std                                3.430484e+00   \n",
       "min                                2.489718e-17   \n",
       "25%                                1.202862e+01   \n",
       "50%                                1.496486e+01   \n",
       "75%                                1.596213e+01   \n",
       "max                                3.126971e+01   \n",
       "\n",
       "       secondary_cleaner.state.floatbank4_b_level  \\\n",
       "count                                 5290.000000   \n",
       "mean                                  -463.349858   \n",
       "std                                     86.189107   \n",
       "min                                   -800.836914   \n",
       "25%                                   -500.323028   \n",
       "50%                                   -499.576513   \n",
       "75%                                   -400.933805   \n",
       "max                                     -6.506986   \n",
       "\n",
       "       secondary_cleaner.state.floatbank5_a_air  \\\n",
       "count                               5290.000000   \n",
       "mean                                  12.804186   \n",
       "std                                    3.026591   \n",
       "min                                    0.069227   \n",
       "25%                                   10.914838   \n",
       "50%                                   12.954182   \n",
       "75%                                   15.097528   \n",
       "max                                   25.258848   \n",
       "\n",
       "       secondary_cleaner.state.floatbank5_a_level  \\\n",
       "count                                 5290.000000   \n",
       "mean                                  -501.329122   \n",
       "std                                     17.951495   \n",
       "min                                   -797.323986   \n",
       "25%                                   -500.726841   \n",
       "50%                                   -499.990332   \n",
       "75%                                   -499.283191   \n",
       "max                                   -244.483566   \n",
       "\n",
       "       secondary_cleaner.state.floatbank5_b_air  \\\n",
       "count                               5290.000000   \n",
       "mean                                   9.881145   \n",
       "std                                    2.868205   \n",
       "min                                    0.528083   \n",
       "25%                                    8.036719   \n",
       "50%                                   10.004301   \n",
       "75%                                   11.997467   \n",
       "max                                   14.086866   \n",
       "\n",
       "       secondary_cleaner.state.floatbank5_b_level  \\\n",
       "count                                 5290.000000   \n",
       "mean                                  -495.663398   \n",
       "std                                     34.535007   \n",
       "min                                   -800.220337   \n",
       "25%                                   -500.194668   \n",
       "50%                                   -499.990535   \n",
       "75%                                   -499.719913   \n",
       "max                                   -137.740004   \n",
       "\n",
       "       secondary_cleaner.state.floatbank6_a_air  \\\n",
       "count                               5290.000000   \n",
       "mean                                  17.304935   \n",
       "std                                    4.536544   \n",
       "min                                   -0.079426   \n",
       "25%                                   13.997317   \n",
       "50%                                   16.014935   \n",
       "75%                                   21.020013   \n",
       "max                                   26.705889   \n",
       "\n",
       "       secondary_cleaner.state.floatbank6_a_level  \n",
       "count                                 5290.000000  \n",
       "mean                                  -501.793193  \n",
       "std                                     39.044215  \n",
       "min                                   -809.741464  \n",
       "25%                                   -500.690984  \n",
       "50%                                   -500.007126  \n",
       "75%                                   -499.373018  \n",
       "max                                   -123.307487  \n",
       "\n",
       "[8 rows x 52 columns]"
      ]
     },
     "execution_count": 5,
     "metadata": {},
     "output_type": "execute_result"
    }
   ],
   "source": [
    "df_test.describe()"
   ]
  },
  {
   "cell_type": "markdown",
   "metadata": {},
   "source": [
    "Стандартное отклонение (std) у него слишком высокое в маленьком кол-ве наблюдений по сравнению остальных "
   ]
  },
  {
   "cell_type": "code",
   "execution_count": 6,
   "metadata": {},
   "outputs": [
    {
     "data": {
      "text/html": [
       "<div>\n",
       "<style scoped>\n",
       "    .dataframe tbody tr th:only-of-type {\n",
       "        vertical-align: middle;\n",
       "    }\n",
       "\n",
       "    .dataframe tbody tr th {\n",
       "        vertical-align: top;\n",
       "    }\n",
       "\n",
       "    .dataframe thead th {\n",
       "        text-align: right;\n",
       "    }\n",
       "</style>\n",
       "<table border=\"1\" class=\"dataframe\">\n",
       "  <thead>\n",
       "    <tr style=\"text-align: right;\">\n",
       "      <th></th>\n",
       "      <th>final.output.concentrate_ag</th>\n",
       "      <th>final.output.concentrate_pb</th>\n",
       "      <th>final.output.concentrate_sol</th>\n",
       "      <th>final.output.concentrate_au</th>\n",
       "      <th>final.output.recovery</th>\n",
       "      <th>final.output.tail_ag</th>\n",
       "      <th>final.output.tail_pb</th>\n",
       "      <th>final.output.tail_sol</th>\n",
       "      <th>final.output.tail_au</th>\n",
       "      <th>primary_cleaner.input.sulfate</th>\n",
       "      <th>...</th>\n",
       "      <th>secondary_cleaner.state.floatbank4_a_air</th>\n",
       "      <th>secondary_cleaner.state.floatbank4_a_level</th>\n",
       "      <th>secondary_cleaner.state.floatbank4_b_air</th>\n",
       "      <th>secondary_cleaner.state.floatbank4_b_level</th>\n",
       "      <th>secondary_cleaner.state.floatbank5_a_air</th>\n",
       "      <th>secondary_cleaner.state.floatbank5_a_level</th>\n",
       "      <th>secondary_cleaner.state.floatbank5_b_air</th>\n",
       "      <th>secondary_cleaner.state.floatbank5_b_level</th>\n",
       "      <th>secondary_cleaner.state.floatbank6_a_air</th>\n",
       "      <th>secondary_cleaner.state.floatbank6_a_level</th>\n",
       "    </tr>\n",
       "  </thead>\n",
       "  <tbody>\n",
       "    <tr>\n",
       "      <th>count</th>\n",
       "      <td>19438.000000</td>\n",
       "      <td>19438.000000</td>\n",
       "      <td>19228.000000</td>\n",
       "      <td>19439.000000</td>\n",
       "      <td>19439.000000</td>\n",
       "      <td>19438.000000</td>\n",
       "      <td>19338.000000</td>\n",
       "      <td>19433.000000</td>\n",
       "      <td>19439.000000</td>\n",
       "      <td>19415.000000</td>\n",
       "      <td>...</td>\n",
       "      <td>19433.000000</td>\n",
       "      <td>19438.000000</td>\n",
       "      <td>19438.000000</td>\n",
       "      <td>19438.000000</td>\n",
       "      <td>19438.000000</td>\n",
       "      <td>19438.000000</td>\n",
       "      <td>19438.000000</td>\n",
       "      <td>19438.000000</td>\n",
       "      <td>19437.000000</td>\n",
       "      <td>19438.000000</td>\n",
       "    </tr>\n",
       "    <tr>\n",
       "      <th>mean</th>\n",
       "      <td>5.168470</td>\n",
       "      <td>9.978895</td>\n",
       "      <td>9.501224</td>\n",
       "      <td>44.076513</td>\n",
       "      <td>67.050208</td>\n",
       "      <td>9.688589</td>\n",
       "      <td>2.705795</td>\n",
       "      <td>10.583728</td>\n",
       "      <td>3.042467</td>\n",
       "      <td>144.624774</td>\n",
       "      <td>...</td>\n",
       "      <td>18.987674</td>\n",
       "      <td>-485.894516</td>\n",
       "      <td>15.010366</td>\n",
       "      <td>-461.078636</td>\n",
       "      <td>15.694452</td>\n",
       "      <td>-488.684065</td>\n",
       "      <td>12.198224</td>\n",
       "      <td>-487.149827</td>\n",
       "      <td>18.959024</td>\n",
       "      <td>-505.436305</td>\n",
       "    </tr>\n",
       "    <tr>\n",
       "      <th>std</th>\n",
       "      <td>1.372348</td>\n",
       "      <td>1.669240</td>\n",
       "      <td>2.787537</td>\n",
       "      <td>5.129784</td>\n",
       "      <td>10.125840</td>\n",
       "      <td>2.328642</td>\n",
       "      <td>0.949077</td>\n",
       "      <td>2.868782</td>\n",
       "      <td>0.922808</td>\n",
       "      <td>44.464071</td>\n",
       "      <td>...</td>\n",
       "      <td>5.411058</td>\n",
       "      <td>47.758570</td>\n",
       "      <td>4.890228</td>\n",
       "      <td>67.405524</td>\n",
       "      <td>5.510974</td>\n",
       "      <td>34.533396</td>\n",
       "      <td>5.333024</td>\n",
       "      <td>38.347312</td>\n",
       "      <td>5.550498</td>\n",
       "      <td>37.689057</td>\n",
       "    </tr>\n",
       "    <tr>\n",
       "      <th>min</th>\n",
       "      <td>0.000000</td>\n",
       "      <td>0.000000</td>\n",
       "      <td>0.000000</td>\n",
       "      <td>0.000000</td>\n",
       "      <td>0.000000</td>\n",
       "      <td>0.000000</td>\n",
       "      <td>0.000000</td>\n",
       "      <td>0.000000</td>\n",
       "      <td>0.000000</td>\n",
       "      <td>0.003112</td>\n",
       "      <td>...</td>\n",
       "      <td>0.000000</td>\n",
       "      <td>-799.798523</td>\n",
       "      <td>0.000000</td>\n",
       "      <td>-800.836914</td>\n",
       "      <td>-0.372054</td>\n",
       "      <td>-797.323986</td>\n",
       "      <td>0.528083</td>\n",
       "      <td>-800.220337</td>\n",
       "      <td>-0.079426</td>\n",
       "      <td>-809.741464</td>\n",
       "    </tr>\n",
       "    <tr>\n",
       "      <th>25%</th>\n",
       "      <td>4.251240</td>\n",
       "      <td>9.137262</td>\n",
       "      <td>7.722820</td>\n",
       "      <td>43.402215</td>\n",
       "      <td>63.299712</td>\n",
       "      <td>8.062878</td>\n",
       "      <td>2.040119</td>\n",
       "      <td>8.938947</td>\n",
       "      <td>2.461138</td>\n",
       "      <td>114.107029</td>\n",
       "      <td>...</td>\n",
       "      <td>14.975734</td>\n",
       "      <td>-500.704892</td>\n",
       "      <td>11.940294</td>\n",
       "      <td>-500.187742</td>\n",
       "      <td>10.988606</td>\n",
       "      <td>-500.458467</td>\n",
       "      <td>8.971105</td>\n",
       "      <td>-500.129462</td>\n",
       "      <td>14.983037</td>\n",
       "      <td>-500.728067</td>\n",
       "    </tr>\n",
       "    <tr>\n",
       "      <th>50%</th>\n",
       "      <td>5.066094</td>\n",
       "      <td>10.102433</td>\n",
       "      <td>9.218961</td>\n",
       "      <td>45.011244</td>\n",
       "      <td>68.172738</td>\n",
       "      <td>9.743623</td>\n",
       "      <td>2.748730</td>\n",
       "      <td>10.622456</td>\n",
       "      <td>2.984909</td>\n",
       "      <td>143.232103</td>\n",
       "      <td>...</td>\n",
       "      <td>18.017481</td>\n",
       "      <td>-499.837793</td>\n",
       "      <td>14.971014</td>\n",
       "      <td>-499.459786</td>\n",
       "      <td>15.000036</td>\n",
       "      <td>-499.802605</td>\n",
       "      <td>11.019433</td>\n",
       "      <td>-499.935317</td>\n",
       "      <td>19.960541</td>\n",
       "      <td>-500.048400</td>\n",
       "    </tr>\n",
       "    <tr>\n",
       "      <th>75%</th>\n",
       "      <td>5.895527</td>\n",
       "      <td>11.035769</td>\n",
       "      <td>10.947813</td>\n",
       "      <td>46.275313</td>\n",
       "      <td>72.686642</td>\n",
       "      <td>11.134294</td>\n",
       "      <td>3.333216</td>\n",
       "      <td>12.104271</td>\n",
       "      <td>3.571351</td>\n",
       "      <td>175.075656</td>\n",
       "      <td>...</td>\n",
       "      <td>23.012470</td>\n",
       "      <td>-498.249730</td>\n",
       "      <td>19.034162</td>\n",
       "      <td>-400.118106</td>\n",
       "      <td>18.026190</td>\n",
       "      <td>-498.384187</td>\n",
       "      <td>14.019088</td>\n",
       "      <td>-499.436708</td>\n",
       "      <td>24.003170</td>\n",
       "      <td>-499.495378</td>\n",
       "    </tr>\n",
       "    <tr>\n",
       "      <th>max</th>\n",
       "      <td>16.001945</td>\n",
       "      <td>17.031899</td>\n",
       "      <td>19.615720</td>\n",
       "      <td>52.756638</td>\n",
       "      <td>100.000000</td>\n",
       "      <td>19.552149</td>\n",
       "      <td>5.804178</td>\n",
       "      <td>22.317730</td>\n",
       "      <td>8.245022</td>\n",
       "      <td>265.983123</td>\n",
       "      <td>...</td>\n",
       "      <td>30.115735</td>\n",
       "      <td>-245.239184</td>\n",
       "      <td>31.269706</td>\n",
       "      <td>-6.506986</td>\n",
       "      <td>43.709931</td>\n",
       "      <td>-244.483566</td>\n",
       "      <td>27.926001</td>\n",
       "      <td>-137.740004</td>\n",
       "      <td>32.188906</td>\n",
       "      <td>-104.427459</td>\n",
       "    </tr>\n",
       "  </tbody>\n",
       "</table>\n",
       "<p>8 rows × 86 columns</p>\n",
       "</div>"
      ],
      "text/plain": [
       "       final.output.concentrate_ag  final.output.concentrate_pb  \\\n",
       "count                 19438.000000                 19438.000000   \n",
       "mean                      5.168470                     9.978895   \n",
       "std                       1.372348                     1.669240   \n",
       "min                       0.000000                     0.000000   \n",
       "25%                       4.251240                     9.137262   \n",
       "50%                       5.066094                    10.102433   \n",
       "75%                       5.895527                    11.035769   \n",
       "max                      16.001945                    17.031899   \n",
       "\n",
       "       final.output.concentrate_sol  final.output.concentrate_au  \\\n",
       "count                  19228.000000                 19439.000000   \n",
       "mean                       9.501224                    44.076513   \n",
       "std                        2.787537                     5.129784   \n",
       "min                        0.000000                     0.000000   \n",
       "25%                        7.722820                    43.402215   \n",
       "50%                        9.218961                    45.011244   \n",
       "75%                       10.947813                    46.275313   \n",
       "max                       19.615720                    52.756638   \n",
       "\n",
       "       final.output.recovery  final.output.tail_ag  final.output.tail_pb  \\\n",
       "count           19439.000000          19438.000000          19338.000000   \n",
       "mean               67.050208              9.688589              2.705795   \n",
       "std                10.125840              2.328642              0.949077   \n",
       "min                 0.000000              0.000000              0.000000   \n",
       "25%                63.299712              8.062878              2.040119   \n",
       "50%                68.172738              9.743623              2.748730   \n",
       "75%                72.686642             11.134294              3.333216   \n",
       "max               100.000000             19.552149              5.804178   \n",
       "\n",
       "       final.output.tail_sol  final.output.tail_au  \\\n",
       "count           19433.000000          19439.000000   \n",
       "mean               10.583728              3.042467   \n",
       "std                 2.868782              0.922808   \n",
       "min                 0.000000              0.000000   \n",
       "25%                 8.938947              2.461138   \n",
       "50%                10.622456              2.984909   \n",
       "75%                12.104271              3.571351   \n",
       "max                22.317730              8.245022   \n",
       "\n",
       "       primary_cleaner.input.sulfate  ...  \\\n",
       "count                   19415.000000  ...   \n",
       "mean                      144.624774  ...   \n",
       "std                        44.464071  ...   \n",
       "min                         0.003112  ...   \n",
       "25%                       114.107029  ...   \n",
       "50%                       143.232103  ...   \n",
       "75%                       175.075656  ...   \n",
       "max                       265.983123  ...   \n",
       "\n",
       "       secondary_cleaner.state.floatbank4_a_air  \\\n",
       "count                              19433.000000   \n",
       "mean                                  18.987674   \n",
       "std                                    5.411058   \n",
       "min                                    0.000000   \n",
       "25%                                   14.975734   \n",
       "50%                                   18.017481   \n",
       "75%                                   23.012470   \n",
       "max                                   30.115735   \n",
       "\n",
       "       secondary_cleaner.state.floatbank4_a_level  \\\n",
       "count                                19438.000000   \n",
       "mean                                  -485.894516   \n",
       "std                                     47.758570   \n",
       "min                                   -799.798523   \n",
       "25%                                   -500.704892   \n",
       "50%                                   -499.837793   \n",
       "75%                                   -498.249730   \n",
       "max                                   -245.239184   \n",
       "\n",
       "       secondary_cleaner.state.floatbank4_b_air  \\\n",
       "count                              19438.000000   \n",
       "mean                                  15.010366   \n",
       "std                                    4.890228   \n",
       "min                                    0.000000   \n",
       "25%                                   11.940294   \n",
       "50%                                   14.971014   \n",
       "75%                                   19.034162   \n",
       "max                                   31.269706   \n",
       "\n",
       "       secondary_cleaner.state.floatbank4_b_level  \\\n",
       "count                                19438.000000   \n",
       "mean                                  -461.078636   \n",
       "std                                     67.405524   \n",
       "min                                   -800.836914   \n",
       "25%                                   -500.187742   \n",
       "50%                                   -499.459786   \n",
       "75%                                   -400.118106   \n",
       "max                                     -6.506986   \n",
       "\n",
       "       secondary_cleaner.state.floatbank5_a_air  \\\n",
       "count                              19438.000000   \n",
       "mean                                  15.694452   \n",
       "std                                    5.510974   \n",
       "min                                   -0.372054   \n",
       "25%                                   10.988606   \n",
       "50%                                   15.000036   \n",
       "75%                                   18.026190   \n",
       "max                                   43.709931   \n",
       "\n",
       "       secondary_cleaner.state.floatbank5_a_level  \\\n",
       "count                                19438.000000   \n",
       "mean                                  -488.684065   \n",
       "std                                     34.533396   \n",
       "min                                   -797.323986   \n",
       "25%                                   -500.458467   \n",
       "50%                                   -499.802605   \n",
       "75%                                   -498.384187   \n",
       "max                                   -244.483566   \n",
       "\n",
       "       secondary_cleaner.state.floatbank5_b_air  \\\n",
       "count                              19438.000000   \n",
       "mean                                  12.198224   \n",
       "std                                    5.333024   \n",
       "min                                    0.528083   \n",
       "25%                                    8.971105   \n",
       "50%                                   11.019433   \n",
       "75%                                   14.019088   \n",
       "max                                   27.926001   \n",
       "\n",
       "       secondary_cleaner.state.floatbank5_b_level  \\\n",
       "count                                19438.000000   \n",
       "mean                                  -487.149827   \n",
       "std                                     38.347312   \n",
       "min                                   -800.220337   \n",
       "25%                                   -500.129462   \n",
       "50%                                   -499.935317   \n",
       "75%                                   -499.436708   \n",
       "max                                   -137.740004   \n",
       "\n",
       "       secondary_cleaner.state.floatbank6_a_air  \\\n",
       "count                              19437.000000   \n",
       "mean                                  18.959024   \n",
       "std                                    5.550498   \n",
       "min                                   -0.079426   \n",
       "25%                                   14.983037   \n",
       "50%                                   19.960541   \n",
       "75%                                   24.003170   \n",
       "max                                   32.188906   \n",
       "\n",
       "       secondary_cleaner.state.floatbank6_a_level  \n",
       "count                                19438.000000  \n",
       "mean                                  -505.436305  \n",
       "std                                     37.689057  \n",
       "min                                   -809.741464  \n",
       "25%                                   -500.728067  \n",
       "50%                                   -500.048400  \n",
       "75%                                   -499.495378  \n",
       "max                                   -104.427459  \n",
       "\n",
       "[8 rows x 86 columns]"
      ]
     },
     "execution_count": 6,
     "metadata": {},
     "output_type": "execute_result"
    }
   ],
   "source": [
    "df_full.describe()"
   ]
  },
  {
   "cell_type": "code",
   "execution_count": 7,
   "metadata": {},
   "outputs": [],
   "source": [
    "# Проверим на наличие пропущенных значений\n",
    "def check_missed_columns(dataset):\n",
    "    name_columns = dataset.columns\n",
    "    \n",
    "    for i in name_columns:\n",
    "        if(dataset[i].isna().sum() > 0):\n",
    "            print(f'{i}: {dataset[i].isna().sum()}')\n",
    "            \n",
    "        if(i == name_columns[len(name_columns) - 1]):\n",
    "            print('Отсутствует пропущенное значение')"
   ]
  },
  {
   "cell_type": "code",
   "execution_count": 8,
   "metadata": {
    "scrolled": true
   },
   "outputs": [
    {
     "name": "stdout",
     "output_type": "stream",
     "text": [
      "final.output.concentrate_ag: 1\n",
      "final.output.concentrate_pb: 1\n",
      "final.output.concentrate_sol: 211\n",
      "final.output.tail_pb: 100\n",
      "final.output.tail_sol: 5\n",
      "primary_cleaner.input.sulfate: 20\n",
      "primary_cleaner.input.depressant: 32\n",
      "primary_cleaner.input.xanthate: 100\n",
      "primary_cleaner.output.concentrate_pb: 86\n",
      "primary_cleaner.output.concentrate_sol: 286\n",
      "primary_cleaner.output.tail_ag: 1\n",
      "primary_cleaner.output.tail_pb: 15\n",
      "primary_cleaner.output.tail_sol: 46\n",
      "primary_cleaner.state.floatbank8_a_air: 4\n",
      "primary_cleaner.state.floatbank8_a_level: 1\n",
      "primary_cleaner.state.floatbank8_b_air: 4\n",
      "primary_cleaner.state.floatbank8_b_level: 1\n",
      "primary_cleaner.state.floatbank8_c_air: 2\n",
      "primary_cleaner.state.floatbank8_c_level: 1\n",
      "primary_cleaner.state.floatbank8_d_air: 3\n",
      "primary_cleaner.state.floatbank8_d_level: 1\n",
      "rougher.calculation.sulfate_to_au_concentrate: 1\n",
      "rougher.calculation.floatbank10_sulfate_to_au_feed: 1\n",
      "rougher.calculation.floatbank11_sulfate_to_au_feed: 1\n",
      "rougher.input.feed_pb: 100\n",
      "rougher.input.feed_rate: 8\n",
      "rougher.input.feed_size: 144\n",
      "rougher.input.feed_sol: 78\n",
      "rougher.input.floatbank10_sulfate: 29\n",
      "rougher.input.floatbank10_xanthate: 8\n",
      "rougher.input.floatbank11_sulfate: 36\n",
      "rougher.input.floatbank11_xanthate: 428\n",
      "rougher.output.concentrate_sol: 22\n",
      "rougher.output.tail_ag: 1\n",
      "rougher.state.floatbank10_a_air: 1\n",
      "rougher.state.floatbank10_a_level: 1\n",
      "rougher.state.floatbank10_b_air: 1\n",
      "rougher.state.floatbank10_b_level: 1\n",
      "rougher.state.floatbank10_c_air: 1\n",
      "rougher.state.floatbank10_c_level: 1\n",
      "rougher.state.floatbank10_e_air: 436\n",
      "secondary_cleaner.output.tail_ag: 2\n",
      "secondary_cleaner.output.tail_pb: 10\n",
      "secondary_cleaner.output.tail_sol: 1605\n",
      "secondary_cleaner.state.floatbank2_a_air: 217\n",
      "secondary_cleaner.state.floatbank2_a_level: 1\n",
      "secondary_cleaner.state.floatbank2_b_air: 21\n",
      "secondary_cleaner.state.floatbank2_b_level: 1\n",
      "secondary_cleaner.state.floatbank3_a_air: 4\n",
      "secondary_cleaner.state.floatbank3_a_level: 1\n",
      "secondary_cleaner.state.floatbank3_b_air: 1\n",
      "secondary_cleaner.state.floatbank3_b_level: 1\n",
      "secondary_cleaner.state.floatbank4_a_air: 6\n",
      "secondary_cleaner.state.floatbank4_a_level: 1\n",
      "secondary_cleaner.state.floatbank4_b_air: 1\n",
      "secondary_cleaner.state.floatbank4_b_level: 1\n",
      "secondary_cleaner.state.floatbank5_a_air: 1\n",
      "secondary_cleaner.state.floatbank5_a_level: 1\n",
      "secondary_cleaner.state.floatbank5_b_air: 1\n",
      "secondary_cleaner.state.floatbank5_b_level: 1\n",
      "secondary_cleaner.state.floatbank6_a_air: 2\n",
      "secondary_cleaner.state.floatbank6_a_level: 1\n",
      "Отсутствует пропущенное значение\n"
     ]
    }
   ],
   "source": [
    "check_missed_columns(df_train)"
   ]
  },
  {
   "cell_type": "code",
   "execution_count": 9,
   "metadata": {},
   "outputs": [
    {
     "name": "stdout",
     "output_type": "stream",
     "text": [
      "primary_cleaner.input.sulfate: 4\n",
      "primary_cleaner.input.depressant: 5\n",
      "primary_cleaner.input.xanthate: 4\n",
      "rougher.input.feed_rate: 3\n",
      "rougher.input.feed_size: 1\n",
      "rougher.input.feed_sol: 21\n",
      "rougher.input.floatbank10_sulfate: 5\n",
      "rougher.input.floatbank11_sulfate: 8\n",
      "rougher.input.floatbank11_xanthate: 25\n",
      "secondary_cleaner.state.floatbank2_a_air: 3\n",
      "secondary_cleaner.state.floatbank2_b_air: 2\n",
      "secondary_cleaner.state.floatbank3_a_air: 9\n",
      "Отсутствует пропущенное значение\n"
     ]
    }
   ],
   "source": [
    "check_missed_columns(df_test)"
   ]
  },
  {
   "cell_type": "code",
   "execution_count": 10,
   "metadata": {
    "scrolled": true
   },
   "outputs": [
    {
     "name": "stdout",
     "output_type": "stream",
     "text": [
      "final.output.concentrate_ag: 1\n",
      "final.output.concentrate_pb: 1\n",
      "final.output.concentrate_sol: 211\n",
      "final.output.tail_ag: 1\n",
      "final.output.tail_pb: 101\n",
      "final.output.tail_sol: 6\n",
      "primary_cleaner.input.sulfate: 24\n",
      "primary_cleaner.input.depressant: 37\n",
      "primary_cleaner.input.xanthate: 104\n",
      "primary_cleaner.output.concentrate_pb: 116\n",
      "primary_cleaner.output.concentrate_sol: 370\n",
      "primary_cleaner.output.tail_ag: 4\n",
      "primary_cleaner.output.tail_pb: 21\n",
      "primary_cleaner.output.tail_sol: 62\n",
      "primary_cleaner.state.floatbank8_a_air: 4\n",
      "primary_cleaner.state.floatbank8_a_level: 1\n",
      "primary_cleaner.state.floatbank8_b_air: 4\n",
      "primary_cleaner.state.floatbank8_b_level: 1\n",
      "primary_cleaner.state.floatbank8_c_air: 2\n",
      "primary_cleaner.state.floatbank8_c_level: 1\n",
      "primary_cleaner.state.floatbank8_d_air: 3\n",
      "primary_cleaner.state.floatbank8_d_level: 1\n",
      "rougher.calculation.sulfate_to_au_concentrate: 2\n",
      "rougher.calculation.floatbank10_sulfate_to_au_feed: 2\n",
      "rougher.calculation.floatbank11_sulfate_to_au_feed: 2\n",
      "rougher.input.feed_pb: 100\n",
      "rougher.input.feed_rate: 11\n",
      "rougher.input.feed_size: 145\n",
      "rougher.input.feed_sol: 99\n",
      "rougher.input.floatbank10_sulfate: 34\n",
      "rougher.input.floatbank10_xanthate: 8\n",
      "rougher.input.floatbank11_sulfate: 44\n",
      "rougher.input.floatbank11_xanthate: 453\n",
      "rougher.output.concentrate_sol: 23\n",
      "rougher.output.tail_ag: 1\n",
      "rougher.state.floatbank10_a_air: 1\n",
      "rougher.state.floatbank10_a_level: 1\n",
      "rougher.state.floatbank10_b_air: 1\n",
      "rougher.state.floatbank10_b_level: 1\n",
      "rougher.state.floatbank10_c_air: 1\n",
      "rougher.state.floatbank10_c_level: 1\n",
      "rougher.state.floatbank10_e_air: 436\n",
      "secondary_cleaner.output.tail_ag: 2\n",
      "secondary_cleaner.output.tail_pb: 12\n",
      "secondary_cleaner.output.tail_sol: 1748\n",
      "secondary_cleaner.state.floatbank2_a_air: 220\n",
      "secondary_cleaner.state.floatbank2_a_level: 1\n",
      "secondary_cleaner.state.floatbank2_b_air: 23\n",
      "secondary_cleaner.state.floatbank2_b_level: 1\n",
      "secondary_cleaner.state.floatbank3_a_air: 13\n",
      "secondary_cleaner.state.floatbank3_a_level: 1\n",
      "secondary_cleaner.state.floatbank3_b_air: 1\n",
      "secondary_cleaner.state.floatbank3_b_level: 1\n",
      "secondary_cleaner.state.floatbank4_a_air: 6\n",
      "secondary_cleaner.state.floatbank4_a_level: 1\n",
      "secondary_cleaner.state.floatbank4_b_air: 1\n",
      "secondary_cleaner.state.floatbank4_b_level: 1\n",
      "secondary_cleaner.state.floatbank5_a_air: 1\n",
      "secondary_cleaner.state.floatbank5_a_level: 1\n",
      "secondary_cleaner.state.floatbank5_b_air: 1\n",
      "secondary_cleaner.state.floatbank5_b_level: 1\n",
      "secondary_cleaner.state.floatbank6_a_air: 2\n",
      "secondary_cleaner.state.floatbank6_a_level: 1\n",
      "Отсутствует пропущенное значение\n"
     ]
    }
   ],
   "source": [
    "check_missed_columns(df_full)"
   ]
  },
  {
   "cell_type": "markdown",
   "metadata": {},
   "source": [
    "Не так уж критично много пропущенных значений, поэтому можно смело их удалять"
   ]
  },
  {
   "cell_type": "code",
   "execution_count": 11,
   "metadata": {},
   "outputs": [],
   "source": [
    "# Заполняем пропуски -1 в качестве как загрушки\n",
    "df_train = df_train.fillna(-1)\n",
    "df_test = df_test.fillna(-1)\n",
    "df_full = df_full.fillna(-1)"
   ]
  },
  {
   "cell_type": "markdown",
   "metadata": {},
   "source": [
    "<div class=\"alert alert-warning\">\n",
    "    <h2> Комментарий ревьюера <a class=\"tocSkip\"> </h2>\n",
    "    \n",
    "<b>Некоторые замечания и рекомендации💡:</b> \n",
    "        \n",
    "Обработка пропусков таким способом возможна. Обрати пожалуйста внимание, что все наблюдения представляют собой последовательные измерения, заполнинить пропуски можно и  методами `pandas`: `ffill`/ `bfill`/ интерполяцией , это вполне уместно.\\\n",
    "Хочу посоветовать тебе статью, которая рассматривает разные способы обработки пропусков, выделяет их плюсы и минусы, думаю, тебе может быть интересно: https://loginom.ru/blog/missing   "
   ]
  },
  {
   "cell_type": "markdown",
   "metadata": {},
   "source": [
    "<div class=\"alert alert-info\">\n",
    "<h2> Комментарий студента V2: <a class=\"tocSkip\"> </h2>\n",
    "\n",
    "- Изменил с dropna на fillna(-1) в качестве как заглушки\n",
    "    \n",
    "    \n",
    "- Было:\n",
    "    \n",
    "    df_train = df_train.dropna()\n",
    "    \n",
    "    df_test = df_test.dropna()\n",
    "    \n",
    "    df_full = df_full.dropna()\n",
    "    \n",
    "</div> "
   ]
  },
  {
   "cell_type": "code",
   "execution_count": 12,
   "metadata": {},
   "outputs": [
    {
     "name": "stdout",
     "output_type": "stream",
     "text": [
      "Отсутствует пропущенное значение\n",
      "Отсутствует пропущенное значение\n",
      "Отсутствует пропущенное значение\n"
     ]
    }
   ],
   "source": [
    "check_missed_columns(df_train)\n",
    "check_missed_columns(df_test)\n",
    "check_missed_columns(df_full)"
   ]
  },
  {
   "cell_type": "code",
   "execution_count": 13,
   "metadata": {},
   "outputs": [
    {
     "name": "stdout",
     "output_type": "stream",
     "text": [
      "Кол-во дубликатов df_train: 0\n",
      "Кол-во дубликатов df_test: 0\n",
      "Кол-во дубликатов df_full: 0\n"
     ]
    }
   ],
   "source": [
    "# Посчитаем дубликаты\n",
    "print('Кол-во дубликатов df_train:', df_train.duplicated().sum())\n",
    "\n",
    "print('Кол-во дубликатов df_test:', df_test.duplicated().sum())\n",
    "\n",
    "print('Кол-во дубликатов df_full:', df_full.duplicated().sum())"
   ]
  },
  {
   "cell_type": "markdown",
   "metadata": {},
   "source": [
    "### Проверим, что эффективность обогащения рассчитана правильно. Вычислим её на обучающей выборке для признака ```rougher.output.recovery```. Найдем MAE между нашими расчётами и значением признака. Опишим выводы."
   ]
  },
  {
   "cell_type": "markdown",
   "metadata": {},
   "source": [
    "#### Проверим на расчет эффективности обогащения\n",
    "\n",
    "**RECOVERY = (C * (F - T)) / (F * (C - T)) * 100%**\n",
    "\n",
    "\n",
    "где:\n",
    "- C — доля золота в концентрате после флотации/очистки;\n",
    "- F — доля золота в сырье/концентрате до флотации/очистки;\n",
    "- T — доля золота в отвальных хвостах после флотации/очистки."
   ]
  },
  {
   "cell_type": "markdown",
   "metadata": {},
   "source": [
    "Вспомним наименование признаков:\n",
    "\n",
    "```[этап].[тип_параметра].[название_параметра]```\n"
   ]
  },
  {
   "cell_type": "code",
   "execution_count": 14,
   "metadata": {},
   "outputs": [],
   "source": [
    "calculation_effectiveness = {}\n",
    "# Находим долю золота в концентрате после флотации/очистки\n",
    "# т.е. нам интересует эти:\n",
    "# rougher.output.concentrate_au (флотация.параметры_продукта.концентраты_золота)\n",
    "calculation_effectiveness['c_au_output'] = df_train['rougher.output.concentrate_au']\n",
    "\n",
    "# Находим долю золота в сырье/концентрате до флотации/очистки\n",
    "# rougher.input.feed_au (флотация.параметры_сырья.потребление_золота)\n",
    "calculation_effectiveness['f_au_input'] = df_train['rougher.input.feed_au']\n",
    "\n",
    "# Находим долю золота в отвальных хвостах после флотации/очистки\n",
    "# rougher.output.tail_au (флотация.параметры_сырья.отвальные_хвостики)\n",
    "calculation_effectiveness['t_au_concentrate'] = df_train['rougher.output.tail_au']"
   ]
  },
  {
   "cell_type": "code",
   "execution_count": 15,
   "metadata": {},
   "outputs": [],
   "source": [
    "# Вычисляем долю\n",
    "calculation_effectiveness['recovery'] = (calculation_effectiveness['c_au_output'] * (calculation_effectiveness['f_au_input'] - calculation_effectiveness['t_au_concentrate'])) / (calculation_effectiveness['f_au_input'] * (calculation_effectiveness['c_au_output'] - calculation_effectiveness['t_au_concentrate'])) * 100"
   ]
  },
  {
   "cell_type": "code",
   "execution_count": 16,
   "metadata": {},
   "outputs": [
    {
     "name": "stdout",
     "output_type": "stream",
     "text": [
      "Эффективность обогащения:\n",
      "0        87.107763\n",
      "1        86.843261\n",
      "2        86.842308\n",
      "3        87.226430\n",
      "4        86.688794\n",
      "           ...    \n",
      "14144    89.574376\n",
      "14145    87.724007\n",
      "14146    88.890579\n",
      "14147    89.858126\n",
      "14148    89.514960\n",
      "Length: 14149, dtype: float64\n"
     ]
    }
   ],
   "source": [
    "print('Эффективность обогащения:')\n",
    "print(calculation_effectiveness['recovery'])"
   ]
  },
  {
   "cell_type": "markdown",
   "metadata": {},
   "source": [
    "#### Находим MAE между нашими расчетами и значением признака \n",
    "***Чем меньше и близок к 0, тем лучше***"
   ]
  },
  {
   "cell_type": "code",
   "execution_count": 17,
   "metadata": {},
   "outputs": [],
   "source": [
    "calculation_effectiveness['mae'] = mean_absolute_error(df_train['rougher.output.recovery'], calculation_effectiveness['recovery'])"
   ]
  },
  {
   "cell_type": "code",
   "execution_count": 18,
   "metadata": {},
   "outputs": [
    {
     "name": "stdout",
     "output_type": "stream",
     "text": [
      "MAE: 9.73512347450521e-15\n"
     ]
    }
   ],
   "source": [
    "print('MAE:', calculation_effectiveness['mae'])"
   ]
  },
  {
   "cell_type": "markdown",
   "metadata": {},
   "source": [
    "Здесь можно заметить, что значение очень крайно маленькое, т.е. ср.абс. ошибка очень мала, значит отклонения между столбцом rougher.output.recovery и эти данные небольшая"
   ]
  },
  {
   "cell_type": "markdown",
   "metadata": {},
   "source": [
    "<div class=\"alert alert-success\">\n",
    "<h2> Комментарий ревьюера <a class=\"tocSkip\"> </h2>\n",
    "\n",
    "<b>Все отлично!👍:</b> \n",
    "    \n",
    "Твое расссчитанное значение `MAE` верно)"
   ]
  },
  {
   "cell_type": "markdown",
   "metadata": {},
   "source": [
    "#### Проанализируйте признаки, недоступные в тестовой выборке. Что это за параметры? К какому типу относятся?"
   ]
  },
  {
   "cell_type": "code",
   "execution_count": 19,
   "metadata": {
    "scrolled": true
   },
   "outputs": [
    {
     "data": {
      "text/plain": [
       "date                                           object\n",
       "primary_cleaner.input.sulfate                 float64\n",
       "primary_cleaner.input.depressant              float64\n",
       "primary_cleaner.input.feed_size               float64\n",
       "primary_cleaner.input.xanthate                float64\n",
       "primary_cleaner.state.floatbank8_a_air        float64\n",
       "primary_cleaner.state.floatbank8_a_level      float64\n",
       "primary_cleaner.state.floatbank8_b_air        float64\n",
       "primary_cleaner.state.floatbank8_b_level      float64\n",
       "primary_cleaner.state.floatbank8_c_air        float64\n",
       "primary_cleaner.state.floatbank8_c_level      float64\n",
       "primary_cleaner.state.floatbank8_d_air        float64\n",
       "primary_cleaner.state.floatbank8_d_level      float64\n",
       "rougher.input.feed_ag                         float64\n",
       "rougher.input.feed_pb                         float64\n",
       "rougher.input.feed_rate                       float64\n",
       "rougher.input.feed_size                       float64\n",
       "rougher.input.feed_sol                        float64\n",
       "rougher.input.feed_au                         float64\n",
       "rougher.input.floatbank10_sulfate             float64\n",
       "rougher.input.floatbank10_xanthate            float64\n",
       "rougher.input.floatbank11_sulfate             float64\n",
       "rougher.input.floatbank11_xanthate            float64\n",
       "rougher.state.floatbank10_a_air               float64\n",
       "rougher.state.floatbank10_a_level             float64\n",
       "rougher.state.floatbank10_b_air               float64\n",
       "rougher.state.floatbank10_b_level             float64\n",
       "rougher.state.floatbank10_c_air               float64\n",
       "rougher.state.floatbank10_c_level             float64\n",
       "rougher.state.floatbank10_d_air               float64\n",
       "rougher.state.floatbank10_d_level             float64\n",
       "rougher.state.floatbank10_e_air               float64\n",
       "rougher.state.floatbank10_e_level             float64\n",
       "rougher.state.floatbank10_f_air               float64\n",
       "rougher.state.floatbank10_f_level             float64\n",
       "secondary_cleaner.state.floatbank2_a_air      float64\n",
       "secondary_cleaner.state.floatbank2_a_level    float64\n",
       "secondary_cleaner.state.floatbank2_b_air      float64\n",
       "secondary_cleaner.state.floatbank2_b_level    float64\n",
       "secondary_cleaner.state.floatbank3_a_air      float64\n",
       "secondary_cleaner.state.floatbank3_a_level    float64\n",
       "secondary_cleaner.state.floatbank3_b_air      float64\n",
       "secondary_cleaner.state.floatbank3_b_level    float64\n",
       "secondary_cleaner.state.floatbank4_a_air      float64\n",
       "secondary_cleaner.state.floatbank4_a_level    float64\n",
       "secondary_cleaner.state.floatbank4_b_air      float64\n",
       "secondary_cleaner.state.floatbank4_b_level    float64\n",
       "secondary_cleaner.state.floatbank5_a_air      float64\n",
       "secondary_cleaner.state.floatbank5_a_level    float64\n",
       "secondary_cleaner.state.floatbank5_b_air      float64\n",
       "secondary_cleaner.state.floatbank5_b_level    float64\n",
       "secondary_cleaner.state.floatbank6_a_air      float64\n",
       "secondary_cleaner.state.floatbank6_a_level    float64\n",
       "dtype: object"
      ]
     },
     "execution_count": 19,
     "metadata": {},
     "output_type": "execute_result"
    }
   ],
   "source": [
    "# Смотрим типы колонки\n",
    "df_test.dtypes"
   ]
  },
  {
   "cell_type": "markdown",
   "metadata": {},
   "source": [
    "Здесь можно обнаружить, что отсутствуют признаки: `rougher.output.recovery`, `final.output.recovery` вещественного типа"
   ]
  },
  {
   "cell_type": "markdown",
   "metadata": {},
   "source": [
    "<div class=\"alert alert-warning\">\n",
    "    <h2> Комментарий ревьюера <a class=\"tocSkip\"> </h2>\n",
    "    \n",
    "<b>Некоторые замечания и рекомендации💡:</b>  \n",
    "    \n",
    "В тестовой выборке недоступны некоторые расчетные (calculation) и выходные (output) характеристики процесса, ведь их невозможно получить либо замерить во время выполнения технологического процесса."
   ]
  },
  {
   "cell_type": "markdown",
   "metadata": {},
   "source": [
    "<div class=\"alert alert-info\">\n",
    "<h2> Комментарий студента V2: <a class=\"tocSkip\"> </h2>\n",
    "    \n",
    "А да, помимо этого есть еще другие отсутствующие признаки\n",
    "    \n",
    "</div>"
   ]
  },
  {
   "cell_type": "markdown",
   "metadata": {},
   "source": [
    "### Предобработка данных уже проведены, пропуски удалены, дублирующие значения отсутствуют"
   ]
  },
  {
   "cell_type": "markdown",
   "metadata": {},
   "source": [
    "## Анализ данных"
   ]
  },
  {
   "cell_type": "markdown",
   "metadata": {},
   "source": [
    "### Посмотрим, как меняется концентрация металлов (Au, Ag, Pb) на различных этапах очистки"
   ]
  },
  {
   "cell_type": "code",
   "execution_count": 20,
   "metadata": {},
   "outputs": [],
   "source": [
    "metals = ['au', 'ag', 'pb']\n",
    "\n",
    "# У нас 2 этапа очистки: первый (primary_cleaner) и второй (secondary_cleaner)\n",
    "primary_cleaner = ['rougher.input.feed_', # Вход металлы к флотации\n",
    "                   'rougher.output.concentrate_', # Выход металлы с флотации\n",
    "                   'primary_cleaner.output.concentrate_', # Вход в первый этап очищения, очищаем, и выход с первого этапа очищенные металлы\n",
    "                   'primary_cleaner.output.tail_'] # Отвальные хвосты с 1 этапа\n",
    "\n",
    "secondary_cleaner = ['primary_cleaner.output.concentrate_', # Поступаем к очищению с первого этапа\n",
    "                     'final.output.concentrate_', # Очищаем, и выход второй очищенные металлы (финал)\n",
    "                     'final.output.tail_']  # Отвальные хвосты с 2 этапа"
   ]
  },
  {
   "cell_type": "markdown",
   "metadata": {},
   "source": [
    "#### Золото"
   ]
  },
  {
   "cell_type": "markdown",
   "metadata": {},
   "source": [
    "Рассмотрим гистограмму металла: золото"
   ]
  },
  {
   "cell_type": "code",
   "execution_count": 21,
   "metadata": {
    "scrolled": false
   },
   "outputs": [
    {
     "data": {
      "image/png": "[encoded data removed]",
      "text/plain": [
       "<Figure size 1080x720 with 1 Axes>"
      ]
     },
     "metadata": {
      "needs_background": "light"
     },
     "output_type": "display_data"
    }
   ],
   "source": [
    "# Металл: золото первый этап очистки\n",
    "for stage in primary_cleaner:\n",
    "        plt.title('Гистограмма распределения концентрации золота')\n",
    "        df_train[stage + metals[0]].plot(kind=\"hist\", grid=True, figsize=(15,10), bins=(100), alpha=0.5)\n",
    "        plt.xlabel('Концентрация металла: ' + metals[0])\n",
    "        plt.ylabel('Кол-во: ' + metals[0])\n",
    "        plt.legend(loc='upper right', fontsize='medium')"
   ]
  },
  {
   "cell_type": "markdown",
   "metadata": {},
   "source": [
    "Как видно, что после флотации концетрация увеличилась кратно. Но после первого этапа очистки очистки концентрация металла тоже намного увеличилась, отвальных хвостов практически мало. Рассмотрим концетрацию металла после второго этапа очистки"
   ]
  },
  {
   "cell_type": "code",
   "execution_count": 22,
   "metadata": {},
   "outputs": [
    {
     "data": {
      "image/png": "[encoded data removed]",
      "text/plain": [
       "<Figure size 1080x720 with 1 Axes>"
      ]
     },
     "metadata": {
      "needs_background": "light"
     },
     "output_type": "display_data"
    }
   ],
   "source": [
    "# Металл: золото второй этап очистки\n",
    "for stage in secondary_cleaner:\n",
    "        plt.title('Гистограмма распределения концентрации золота')\n",
    "        df_train[stage + metals[0]].plot(kind=\"hist\", grid=True, figsize=(15,10), bins=(100), alpha=0.5)\n",
    "        plt.xlabel('Концентрация металла: ' + metals[0])\n",
    "        plt.ylabel('Кол-во: ' + metals[0])\n",
    "        plt.legend(loc='upper right', fontsize='medium')"
   ]
  },
  {
   "cell_type": "markdown",
   "metadata": {},
   "source": [
    "Здесь отличный результат получился, концентрация золота после второго этапа получилась высокой"
   ]
  },
  {
   "cell_type": "markdown",
   "metadata": {},
   "source": [
    "#### Серебро"
   ]
  },
  {
   "cell_type": "markdown",
   "metadata": {},
   "source": [
    "Рассмотрим гистограмму металла: серебро"
   ]
  },
  {
   "cell_type": "code",
   "execution_count": 23,
   "metadata": {},
   "outputs": [
    {
     "data": {
      "image/png": "[encoded data removed]",
      "text/plain": [
       "<Figure size 1080x720 with 1 Axes>"
      ]
     },
     "metadata": {
      "needs_background": "light"
     },
     "output_type": "display_data"
    }
   ],
   "source": [
    "# Металл: серебро первый этап очистки\n",
    "for stage in primary_cleaner:\n",
    "        plt.title('Гистограмма распределения концентрации серебра')\n",
    "        df_train[stage + metals[1]].plot(kind=\"hist\", grid=True, figsize=(15,10), bins=(100), alpha=0.5)\n",
    "        plt.xlabel('Концентрация металла: ' + metals[1])\n",
    "        plt.ylabel('Кол-во: ' + metals[1])\n",
    "        plt.legend(loc='upper right', fontsize='medium')"
   ]
  },
  {
   "cell_type": "markdown",
   "metadata": {},
   "source": [
    "Здесь как то печально получилось, что концентрации отвальных хвостов больше остальных. А после первого этапа очистки концентрация серебра намного меньше по сравнению до этапа очистки, т.е. концентрация вернулась до изначального уровня. Рассмотрим, второй этап очистки вывезет?"
   ]
  },
  {
   "cell_type": "code",
   "execution_count": 24,
   "metadata": {},
   "outputs": [
    {
     "data": {
      "image/png": "[encoded data removed]",
      "text/plain": [
       "<Figure size 1080x720 with 1 Axes>"
      ]
     },
     "metadata": {
      "needs_background": "light"
     },
     "output_type": "display_data"
    }
   ],
   "source": [
    "# Металл: золото второй этап очистки\n",
    "for stage in secondary_cleaner:\n",
    "        plt.title('Гистограмма распределения концентрации серебра')\n",
    "        df_train[stage + metals[1]].plot(kind=\"hist\", grid=True, figsize=(15,10), bins=(100), alpha=0.5)\n",
    "        plt.xlabel('Концентрация металла: ' + metals[1])\n",
    "        plt.ylabel('Кол-во: ' + metals[1])\n",
    "        plt.legend(loc='upper right', fontsize='medium')"
   ]
  },
  {
   "cell_type": "markdown",
   "metadata": {},
   "source": [
    "Не совсем уж сладко получилось, концентрация все меньше меньше. Значит, чтобы получить много серебра, придется придерживаться этапа очистки, т.е. после флотации достаточно будет"
   ]
  },
  {
   "cell_type": "markdown",
   "metadata": {},
   "source": [
    "#### Свинец"
   ]
  },
  {
   "cell_type": "markdown",
   "metadata": {},
   "source": [
    "Рассмотрим гистограмму металла: свинец"
   ]
  },
  {
   "cell_type": "code",
   "execution_count": 25,
   "metadata": {},
   "outputs": [
    {
     "data": {
      "image/png": "[encoded data removed]",
      "text/plain": [
       "<Figure size 1080x720 with 1 Axes>"
      ]
     },
     "metadata": {
      "needs_background": "light"
     },
     "output_type": "display_data"
    }
   ],
   "source": [
    "# Металл: свинец первый этап очистки\n",
    "for stage in primary_cleaner:\n",
    "        plt.title('Гистограмма распределения концентрации свинца')\n",
    "        df_train[stage + metals[2]].plot(kind=\"hist\", grid=True, figsize=(15,10), bins=(100), alpha=0.5)\n",
    "        plt.xlabel('Концентрация металла: ' + metals[2])\n",
    "        plt.ylabel('Кол-во: ' + metals[2])\n",
    "        plt.legend(loc='upper right', fontsize='medium')"
   ]
  },
  {
   "cell_type": "markdown",
   "metadata": {},
   "source": [
    "Здесь немного получше по сравнению со серебром, отвальных хвостов меньше и держится на уровне до флотации. После первого этапа очистки концентрация примерно сравняется до этапа очистки. Рассмотрим после второго этапа очистки"
   ]
  },
  {
   "cell_type": "code",
   "execution_count": 26,
   "metadata": {},
   "outputs": [
    {
     "data": {
      "image/png": "[encoded data removed]",
      "text/plain": [
       "<Figure size 1080x720 with 1 Axes>"
      ]
     },
     "metadata": {
      "needs_background": "light"
     },
     "output_type": "display_data"
    }
   ],
   "source": [
    "# Металл: золото второй этап очистки\n",
    "for stage in secondary_cleaner:\n",
    "        plt.title('Гистограмма распределения концентрации свинца')\n",
    "        df_train[stage + metals[2]].plot(kind=\"hist\", grid=True, figsize=(15,10), bins=(100), alpha=0.5)\n",
    "        plt.xlabel('Концентрация металла: ' + metals[2])\n",
    "        plt.ylabel('Кол-во: ' + metals[2])\n",
    "        plt.legend(loc='upper right', fontsize='medium')"
   ]
  },
  {
   "cell_type": "markdown",
   "metadata": {},
   "source": [
    "Отвальных хвостов мало, неплохо получилось. А концентрация после второго очистки получилась примерно такой же, но сужалась в диапазонах, а кол-во металлов кратно увеличилось"
   ]
  },
  {
   "cell_type": "markdown",
   "metadata": {},
   "source": [
    "### Рассмотрим график суммарную концентрацию всех веществах на 4 различных стадиях: до флотации, после флотации, первого и второго этапа очистки"
   ]
  },
  {
   "cell_type": "code",
   "execution_count": 28,
   "metadata": {},
   "outputs": [],
   "source": [
    "# Добавляем 4 этапа для отображения графика\n",
    "unity_filter = ['rougher.input.feed_', # Вход металлы к флотации\n",
    "                   'rougher.output.concentrate_', # Выход металлы с флотации\n",
    "                   'primary_cleaner.output.concentrate_', # Вход в первый этап очищения, очищаем, и выход с первого этапа очищенные металлы\n",
    "                   'final.output.concentrate_'] # Очищаем, и выход второй очищенные металлы (финал)\n",
    "\n",
    "# Создадим датасет, в котором будут содержатсья 3 этапов 3 разных металлов\n",
    "df_stages = pd.DataFrame()"
   ]
  },
  {
   "cell_type": "code",
   "execution_count": 29,
   "metadata": {},
   "outputs": [],
   "source": [
    "# Заполняем датасет\n",
    "for stage in unity_filter:\n",
    "    buff = 0\n",
    "    for metal in metals:\n",
    "        buff = df_train[stage + metal]\n",
    "    df_stages[stage + 'metals'] = buff"
   ]
  },
  {
   "cell_type": "code",
   "execution_count": 30,
   "metadata": {},
   "outputs": [
    {
     "data": {
      "text/html": [
       "<div>\n",
       "<style scoped>\n",
       "    .dataframe tbody tr th:only-of-type {\n",
       "        vertical-align: middle;\n",
       "    }\n",
       "\n",
       "    .dataframe tbody tr th {\n",
       "        vertical-align: top;\n",
       "    }\n",
       "\n",
       "    .dataframe thead th {\n",
       "        text-align: right;\n",
       "    }\n",
       "</style>\n",
       "<table border=\"1\" class=\"dataframe\">\n",
       "  <thead>\n",
       "    <tr style=\"text-align: right;\">\n",
       "      <th></th>\n",
       "      <th>rougher.input.feed_metals</th>\n",
       "      <th>rougher.output.concentrate_metals</th>\n",
       "      <th>primary_cleaner.output.concentrate_metals</th>\n",
       "      <th>final.output.concentrate_metals</th>\n",
       "    </tr>\n",
       "  </thead>\n",
       "  <tbody>\n",
       "    <tr>\n",
       "      <th>0</th>\n",
       "      <td>2.284912</td>\n",
       "      <td>7.101074</td>\n",
       "      <td>10.389648</td>\n",
       "      <td>9.889648</td>\n",
       "    </tr>\n",
       "    <tr>\n",
       "      <th>1</th>\n",
       "      <td>2.266033</td>\n",
       "      <td>7.278807</td>\n",
       "      <td>10.497069</td>\n",
       "      <td>9.968944</td>\n",
       "    </tr>\n",
       "    <tr>\n",
       "      <th>2</th>\n",
       "      <td>2.159622</td>\n",
       "      <td>7.216833</td>\n",
       "      <td>10.354494</td>\n",
       "      <td>10.213995</td>\n",
       "    </tr>\n",
       "    <tr>\n",
       "      <th>3</th>\n",
       "      <td>2.037807</td>\n",
       "      <td>7.175616</td>\n",
       "      <td>8.496563</td>\n",
       "      <td>9.977019</td>\n",
       "    </tr>\n",
       "    <tr>\n",
       "      <th>4</th>\n",
       "      <td>1.786875</td>\n",
       "      <td>7.240205</td>\n",
       "      <td>9.986786</td>\n",
       "      <td>10.142511</td>\n",
       "    </tr>\n",
       "  </tbody>\n",
       "</table>\n",
       "</div>"
      ],
      "text/plain": [
       "   rougher.input.feed_metals  rougher.output.concentrate_metals  \\\n",
       "0                   2.284912                           7.101074   \n",
       "1                   2.266033                           7.278807   \n",
       "2                   2.159622                           7.216833   \n",
       "3                   2.037807                           7.175616   \n",
       "4                   1.786875                           7.240205   \n",
       "\n",
       "   primary_cleaner.output.concentrate_metals  final.output.concentrate_metals  \n",
       "0                                  10.389648                         9.889648  \n",
       "1                                  10.497069                         9.968944  \n",
       "2                                  10.354494                        10.213995  \n",
       "3                                   8.496563                         9.977019  \n",
       "4                                   9.986786                        10.142511  "
      ]
     },
     "execution_count": 30,
     "metadata": {},
     "output_type": "execute_result"
    }
   ],
   "source": [
    "# Проверим и убедимся\n",
    "df_stages.head()"
   ]
  },
  {
   "cell_type": "code",
   "execution_count": 31,
   "metadata": {},
   "outputs": [
    {
     "data": {
      "image/png": "[encoded data removed]",
      "text/plain": [
       "<Figure size 1080x720 with 1 Axes>"
      ]
     },
     "metadata": {
      "needs_background": "light"
     },
     "output_type": "display_data"
    }
   ],
   "source": [
    "plt.title('Гистограмма распределения концентрации 4 этапов всех металлов')\n",
    "for stage in unity_filter:\n",
    "    df_stages[stage + 'metals'].plot(kind=\"hist\", grid=True, figsize=(15,10), bins=(100), alpha=0.5)\n",
    "    plt.xlabel('Концентрация всех металл:')\n",
    "    plt.ylabel('Кол-во металлов')\n",
    "    plt.legend(loc='upper right', fontsize='medium')"
   ]
  },
  {
   "cell_type": "markdown",
   "metadata": {},
   "source": [
    "Как видно, что после после флотации концентрация металлов увеличилась кратно, а после первого этапа очистки диапазон концентрации металлов стал шире, что приводит к нехорошему делу. Однако после второго этапа очистки концентрация металлов очень кратно увеличилась, а диапазон сужалась "
   ]
  },
  {
   "cell_type": "markdown",
   "metadata": {},
   "source": [
    " <br/>\n",
    "<div class=\"alert alert-block alert-danger\">\n",
    "<h2> Комментарий ревьюера <a class=\"tocSkip\"></h2>\n",
    "    \n",
    "<b>На доработку🤔:</b>\n",
    "\n",
    "</b> Мне интересно было изучить твои графики. Тут ожидается показать на графиках следующие стадии (rougher.input.feed_.., rougher.output.concentrate_.., primary_cleaner.output.concentrate_.., final.output.concentrate_..,). Добавь, пожалуйста. "
   ]
  },
  {
   "cell_type": "markdown",
   "metadata": {},
   "source": [
    "<div class=\"alert alert-info\">\n",
    "<h2> Комментарий студента V2: <a class=\"tocSkip\"> </h2>\n",
    "\n",
    "Добавлен график, который отображается 4 этапа фильтра\n",
    "\n",
    "</div>"
   ]
  },
  {
   "cell_type": "markdown",
   "metadata": {},
   "source": [
    "### Сравним распределения размеров гранул сырья на обучающей и тестовой выборках. Если распределения сильно отличаются друг от друга, оценка модели будет неправильной"
   ]
  },
  {
   "cell_type": "markdown",
   "metadata": {},
   "source": [
    "#### Рассмотрим размер гранул до флотации"
   ]
  },
  {
   "cell_type": "code",
   "execution_count": 32,
   "metadata": {},
   "outputs": [],
   "source": [
    "# Вызов библиотеки для отключения предупреждения (вызывает предудпреждения в ходе построения график)\n",
    "import warnings\n",
    "warnings.filterwarnings('ignore')"
   ]
  },
  {
   "cell_type": "code",
   "execution_count": 33,
   "metadata": {},
   "outputs": [
    {
     "data": {
      "text/plain": [
       "<matplotlib.legend.Legend at 0x7f745cab8d90>"
      ]
     },
     "execution_count": 33,
     "metadata": {},
     "output_type": "execute_result"
    },
    {
     "data": {
      "image/png": "[encoded data removed]",
      "text/plain": [
       "<Figure size 864x576 with 1 Axes>"
      ]
     },
     "metadata": {
      "needs_background": "light"
     },
     "output_type": "display_data"
    }
   ],
   "source": [
    "# Размер гранулы обучающей и тестовой выборки (флотация)\n",
    "plt.title('Гистограмма размера гранула обучающей и тестовой выборки ФЛОТАЦИЯ')\n",
    "\n",
    "fig = plt.gcf()\n",
    "\n",
    "# Change seaborn plot size\n",
    "fig.set_size_inches(12, 8)\n",
    "\n",
    "sb.kdeplot(data = df_train['rougher.input.feed_size'], shade=True, Label='df_train')\n",
    "sb.kdeplot(data = df_test['rougher.input.feed_size'], shade=True, Label='df_test')\n",
    "\n",
    "plt.xlabel('Концентрация гранулов: ' + metals[2])\n",
    "plt.ylabel('Кол-во гранулов')\n",
    "plt.legend(loc='upper right', fontsize=20)"
   ]
  },
  {
   "cell_type": "markdown",
   "metadata": {},
   "source": [
    "Немного сужаем диаграмму"
   ]
  },
  {
   "cell_type": "code",
   "execution_count": 47,
   "metadata": {},
   "outputs": [
    {
     "data": {
      "text/plain": [
       "(20.0, 100.0)"
      ]
     },
     "execution_count": 47,
     "metadata": {},
     "output_type": "execute_result"
    },
    {
     "data": {
      "image/png": "[encoded data removed]",
      "text/plain": [
       "<Figure size 864x576 with 1 Axes>"
      ]
     },
     "metadata": {
      "needs_background": "light"
     },
     "output_type": "display_data"
    }
   ],
   "source": [
    "# Размер гранулы обучающей и тестовой выборки (флотация)\n",
    "plt.title('Гистограмма размера гранула обучающей и тестовой выборки ФЛОТАЦИЯ')\n",
    "\n",
    "fig = plt.gcf()\n",
    "\n",
    "# Change seaborn plot size\n",
    "fig.set_size_inches(12, 8)\n",
    "\n",
    "sb.kdeplot(data = df_train['rougher.input.feed_size'], shade=True, Label='df_train')\n",
    "sb.kdeplot(data = df_test['rougher.input.feed_size'], shade=True, Label='df_test')\n",
    "\n",
    "plt.xlabel('Концентрация гранулов: ' + metals[2])\n",
    "plt.ylabel('Кол-во гранулов')\n",
    "plt.legend(loc='upper right', fontsize=20)\n",
    "plt.xlim(20, 100)"
   ]
  },
  {
   "cell_type": "code",
   "execution_count": 35,
   "metadata": {},
   "outputs": [
    {
     "name": "stdout",
     "output_type": "stream",
     "text": [
      "Медиана обучающей выборки: 55.22\n",
      "Медиана тестовой выборки: 50.83\n"
     ]
    }
   ],
   "source": [
    "# Попробуем рассмотреть медианное значение\n",
    "print('Медиана обучающей выборки:', round(df_train['rougher.input.feed_size'].median(), 2))\n",
    "print('Медиана тестовой выборки:', round(df_test['rougher.input.feed_size'].median(), 2))"
   ]
  },
  {
   "cell_type": "markdown",
   "metadata": {},
   "source": [
    "Как видно, что здесь размер примерно одинакова, но у тестовго размер гранулы чуть меньше обучающей"
   ]
  },
  {
   "cell_type": "markdown",
   "metadata": {},
   "source": [
    " <br/>\n",
    "<div class=\"alert alert-block alert-danger\">\n",
    "<h2> Комментарий ревьюера <a class=\"tocSkip\"></h2>\n",
    "    \n",
    "<b>На доработку🤔:</b>\n",
    "\n",
    "Распределения примерно одинаковы. Для сравнения распределений выборок с разным размером лучше использовать графики плотности или kde вместо гистограмм частотности (по оси У доля относительно датасета вместо абсолютного количества). Наличие либо отсутствие разницы будет более очевидным.  Рекомендую тебе нормализовать гистограммы, например используя метод `sns.kdeplot`."
   ]
  },
  {
   "cell_type": "markdown",
   "metadata": {},
   "source": [
    "<div class=\"alert alert-info\">\n",
    "<h2> Комментарий студента V2: <a class=\"tocSkip\"> </h2>\n",
    "\n",
    "Изменил на график плотности\n",
    "\n",
    "</div>"
   ]
  },
  {
   "cell_type": "markdown",
   "metadata": {},
   "source": [
    "#### Рассмотрим размер гранул до первого очистки (после флотации)"
   ]
  },
  {
   "cell_type": "code",
   "execution_count": 36,
   "metadata": {},
   "outputs": [
    {
     "data": {
      "text/plain": [
       "<matplotlib.legend.Legend at 0x7f745cbcc310>"
      ]
     },
     "execution_count": 36,
     "metadata": {},
     "output_type": "execute_result"
    },
    {
     "data": {
      "image/png": "[encoded data removed]",
      "text/plain": [
       "<Figure size 864x576 with 1 Axes>"
      ]
     },
     "metadata": {
      "needs_background": "light"
     },
     "output_type": "display_data"
    }
   ],
   "source": [
    "# Размер гранулы обучающей и тестовой выборки (после первого этапа очистки)\n",
    "plt.title('Гистограмма размера гранула обучающей и тестовой выборки после первого этапа очистки')\n",
    "\n",
    "fig = plt.gcf()\n",
    "\n",
    "# Change seaborn plot size\n",
    "fig.set_size_inches(12, 8)\n",
    "\n",
    "sb.kdeplot(data = df_train['primary_cleaner.input.feed_size'], shade=True, Label='df_train')\n",
    "sb.kdeplot(data = df_test['primary_cleaner.input.feed_size'], shade=True, Label='df_test')\n",
    "\n",
    "plt.xlabel('Концентрация гранулов: ' + metals[2])\n",
    "plt.ylabel('Кол-во гранулов')\n",
    "plt.legend(loc='upper right', fontsize=20)"
   ]
  },
  {
   "cell_type": "markdown",
   "metadata": {},
   "source": [
    "Опять же немного сужаем диаграмму"
   ]
  },
  {
   "cell_type": "code",
   "execution_count": 44,
   "metadata": {},
   "outputs": [
    {
     "data": {
      "text/plain": [
       "(5.0, 9.0)"
      ]
     },
     "execution_count": 44,
     "metadata": {},
     "output_type": "execute_result"
    },
    {
     "data": {
      "image/png": "[encoded data removed]",
      "text/plain": [
       "<Figure size 864x576 with 1 Axes>"
      ]
     },
     "metadata": {
      "needs_background": "light"
     },
     "output_type": "display_data"
    }
   ],
   "source": [
    "# Размер гранулы обучающей и тестовой выборки (после первого этапа очистки)\n",
    "plt.title('Гистограмма размера гранула обучающей и тестовой выборки ФЛОТАЦИЯ')\n",
    "\n",
    "fig = plt.gcf()\n",
    "\n",
    "# Change seaborn plot size\n",
    "fig.set_size_inches(12, 8)\n",
    "\n",
    "sb.kdeplot(data = df_train['primary_cleaner.input.feed_size'], shade=True, Label='df_train')\n",
    "sb.kdeplot(data = df_test['primary_cleaner.input.feed_size'], shade=True, Label='df_test')\n",
    "\n",
    "plt.xlabel('Концентрация гранулов: ' + metals[2])\n",
    "plt.ylabel('Кол-во гранулов')\n",
    "plt.legend(loc='upper right', fontsize=20)\n",
    "plt.xlim(5, 9)"
   ]
  },
  {
   "cell_type": "code",
   "execution_count": 38,
   "metadata": {},
   "outputs": [
    {
     "name": "stdout",
     "output_type": "stream",
     "text": [
      "Медиана обучающей выборки: 7.29\n",
      "Медиана тестовой выборки: 7.25\n"
     ]
    }
   ],
   "source": [
    "# Попробуем рассмотреть медианное значение\n",
    "print('Медиана обучающей выборки:', round(df_train['primary_cleaner.input.feed_size'].median(), 2))\n",
    "print('Медиана тестовой выборки:', round(df_test['primary_cleaner.input.feed_size'].median(), 2))"
   ]
  },
  {
   "cell_type": "markdown",
   "metadata": {},
   "source": [
    "Здесь тоже видно, что у тестового намного меньше размер гранулы"
   ]
  },
  {
   "cell_type": "markdown",
   "metadata": {},
   "source": [
    "<div class=\"alert alert-info\">\n",
    "<h2> Комментарий студента V2: <a class=\"tocSkip\"> </h2>\n",
    "\n",
    "И здесь тоже самое - изменил на график плотности\n",
    "\n",
    "</div>"
   ]
  },
  {
   "cell_type": "markdown",
   "metadata": {},
   "source": [
    "### Исследуем график, который рассчитывает суммарную концентрацию по исходному сырью"
   ]
  },
  {
   "cell_type": "code",
   "execution_count": 39,
   "metadata": {
    "scrolled": true
   },
   "outputs": [
    {
     "name": "stdout",
     "output_type": "stream",
     "text": [
      "Список металлов: ['au', 'ag', 'pb', 'sol']\n"
     ]
    }
   ],
   "source": [
    "# Заполним список новое значение - sol (сульфат) металла\n",
    "metals.append('sol')\n",
    "print('Список металлов:', metals)"
   ]
  },
  {
   "cell_type": "markdown",
   "metadata": {},
   "source": [
    "Выше, в пункте 2.2, видно, что концентрация сырьев намного больше, чем после первого и второго этапа очистки. После второго этапа очистки кол-во сырьев немного сужается по диапазону концентрации (образовались крутые горки). Но нельзя умалчивать, что наблюдается заглушки (-1) в левую часть графика. Проверим на выбросы, применяя ящик с усами"
   ]
  },
  {
   "cell_type": "code",
   "execution_count": 174,
   "metadata": {},
   "outputs": [
    {
     "data": {
      "image/png": "[encoded data removed]",
      "text/plain": [
       "<Figure size 1440x1800 with 8 Axes>"
      ]
     },
     "metadata": {
      "needs_background": "light"
     },
     "output_type": "display_data"
    }
   ],
   "source": [
    "fig, axs = plt.subplots(4, 2, figsize=(20, 25))\n",
    "colors = ['yellow', 'grey', 'purple', 'brown']\n",
    "k = 0\n",
    "\n",
    "for i in range(4):\n",
    "    for j in range(2):\n",
    "        axs[i, 0].boxplot(df_train['rougher.input.feed_' + metals[k]])\n",
    "        axs[i, 1].hist(df_train['rougher.input.feed_' + metals[k]], bins = 100, orientation=\"horizontal\", color = colors[i], edgecolor='black', linewidth=0.2)\n",
    "        axs[i, j].set_title('rougher.input.feed_' + metals[k])\n",
    "        axs[i, j].set_ylabel('Кол-во металлов: ' + metals[k])\n",
    "        axs[i, 1].set_xlabel('Концентрация металлов: ' + metals[k])\n",
    "    k += 1"
   ]
  },
  {
   "cell_type": "markdown",
   "metadata": {},
   "source": [
    "Теперь другое дело, тут видно, что есть выбросы, например, у золото, в промежутках 0 - 3,5 и от 12,5. И у серебро такая же ситуация. А у свинца и сульфата есть заглушки (-1). Самый сильный выбос наблюдается у сульфата. Устраняем их"
   ]
  },
  {
   "cell_type": "code",
   "execution_count": 196,
   "metadata": {},
   "outputs": [],
   "source": [
    "# Золото\n",
    "df_train['rougher.input.feed_au'] = df_train.query(' `rougher.input.feed_au` > 3.5 and `rougher.input.feed_au` < 13.5')['rougher.input.feed_au']\n",
    "# Серебро\n",
    "df_train['rougher.input.feed_ag'] = df_train.query(' `rougher.input.feed_ag` > 3.5 and `rougher.input.feed_ag` < 13.5')['rougher.input.feed_ag']\n",
    "# Свинец\n",
    "df_train['rougher.input.feed_pb'] = df_train.query(' `rougher.input.feed_pb` > 0.5 and `rougher.input.feed_pb` < 6.5')['rougher.input.feed_pb']\n",
    "# Сульфат\n",
    "df_train['rougher.input.feed_sol'] = df_train.query(' `rougher.input.feed_sol` > 20.5 and `rougher.input.feed_sol` < 49')['rougher.input.feed_sol']"
   ]
  },
  {
   "cell_type": "markdown",
   "metadata": {},
   "source": [
    "Теперь смотрим на график всех металлов"
   ]
  },
  {
   "cell_type": "code",
   "execution_count": 214,
   "metadata": {},
   "outputs": [],
   "source": [
    "# Здесь будут храниться концентрации\n",
    "concentrations = pd.DataFrame()\n",
    "\n",
    "for metal in metals:\n",
    "    buff_sum =+ df_train['rougher.input.feed_' + metal]\n",
    "\n",
    "# Сохраним все концентрации сырье всех металлов\n",
    "concentrations['rougher.input.feed_metals'] = buff_sum"
   ]
  },
  {
   "cell_type": "code",
   "execution_count": 236,
   "metadata": {},
   "outputs": [
    {
     "data": {
      "image/png": "[encoded data removed]",
      "text/plain": [
       "<Figure size 1080x720 with 1 Axes>"
      ]
     },
     "metadata": {
      "needs_background": "light"
     },
     "output_type": "display_data"
    }
   ],
   "source": [
    "plt.title('Гистограмма суммарной концентрации всех веществ на стадиях до флотации')\n",
    "\n",
    "concentrations['rougher.input.feed_metals'].plot(kind=\"hist\", grid=True, figsize=(15,10), bins=(200), alpha=0.5, color='brown')\n",
    "\n",
    "plt.xlabel('Концентрация всех сырьев')\n",
    "plt.ylabel('Кол-во сырьев')\n",
    "plt.legend(loc='upper left', fontsize=20)\n",
    "plt.show()"
   ]
  },
  {
   "cell_type": "markdown",
   "metadata": {},
   "source": [
    "Можно сказать, что концентрация металлов до флотации вполне достаточно, чтобы обработать их "
   ]
  },
  {
   "cell_type": "markdown",
   "metadata": {},
   "source": [
    "<br/>\n",
    "<div class=\"alert alert-block alert-danger\">\n",
    "<h2> Комментарий ревьюера <a class=\"tocSkip\"></h2>\n",
    "    \n",
    "<b>На доработку🤔:</b>\n",
    "    \n",
    "Таким образом, суммарную концентрацию всех веществ на различных стадиях мы  исследовали. Тут тебе следует рассчитать суммарную концентрацию по исходному сырью `rougher.input.feed_..` и рассмотреть ее на графике.  Есть такой момент, что на гистограммах распределений суммарных концентраций имеются аномалии, и эти аномалии важно удалить на обучающей выборке. Ведь отдельно по каждому веществу они могут быть (не всегда же есть крупицы золота в руде), а вот суммарно - вряд ли (в руде хоть какие-то элементы, но будут). А если мы имеем суммарные аномалии, значит большая вероятность неточности в измерениях и их следует удалить из обучающей выборки. Исправь, пожалуйста.  \n",
    " </div>"
   ]
  },
  {
   "cell_type": "markdown",
   "metadata": {},
   "source": [
    "<div class=\"alert alert-info\">\n",
    "<h2> Комментарий студента V2: <a class=\"tocSkip\"> </h2>\n",
    "\n",
    "И здесь тоже самое\n",
    "\n",
    "</div>"
   ]
  },
  {
   "cell_type": "markdown",
   "metadata": {},
   "source": [
    "## Модель"
   ]
  },
  {
   "cell_type": "markdown",
   "metadata": {},
   "source": [
    "### Напишем функцию для вычисления итоговой sMAPE"
   ]
  },
  {
   "cell_type": "code",
   "execution_count": 265,
   "metadata": {},
   "outputs": [],
   "source": [
    "# Функция метрика качества - sMAPE\n",
    "def sMAPE(target, predictions):\n",
    "    return np.mean(2 * abs(target - predictions) / (abs(target) + abs(predictions))) * 100"
   ]
  },
  {
   "cell_type": "code",
   "execution_count": 266,
   "metadata": {},
   "outputs": [],
   "source": [
    "# Итоговое sMAPE\n",
    "def total_sMAPE(rougher, final):\n",
    "    return 0.25 * rougher + 0.75 * final"
   ]
  },
  {
   "cell_type": "markdown",
   "metadata": {},
   "source": [
    "<div class=\"alert alert-success\">\n",
    "<h2> Комментарий ревьюера <a class=\"tocSkip\"> </h2>\n",
    "\n",
    "<b>Все отлично!👍:</b> \n",
    "\n",
    "Функция правильная) Молодец, что для избежания дублирования кода вначале используешь функцию для невзвешенной sMAPE."
   ]
  },
  {
   "cell_type": "markdown",
   "metadata": {},
   "source": [
    "### Обучим разные модели и оцените их качество кросс-валидацией. Выберим лучшую модель и проверим её на тестовой выборке"
   ]
  },
  {
   "cell_type": "markdown",
   "metadata": {},
   "source": [
    "По условию задании написано, что нужно спрогнозировать две величины: \n",
    "\n",
    "- эффективность обогащения чернового концентрата `rougher.output.recovery`\n",
    "- эффективность обогащения финального концентрата `final.output.recovery`"
   ]
  },
  {
   "cell_type": "markdown",
   "metadata": {},
   "source": [
    "#### Обучение и проверка модели"
   ]
  },
  {
   "cell_type": "code",
   "execution_count": 367,
   "metadata": {},
   "outputs": [],
   "source": [
    "# Вытягиваем колонки из df_full выборки\n",
    "features = df_train[df_full.columns].drop('date', axis=1)\n",
    "\n",
    "target = df_train[['rougher.output.recovery', 'final.output.recovery']]"
   ]
  },
  {
   "cell_type": "code",
   "execution_count": 368,
   "metadata": {},
   "outputs": [
    {
     "name": "stdout",
     "output_type": "stream",
     "text": [
      "Целевой признак: (14149, 2) ; Признаки: (14149, 86)\n"
     ]
    }
   ],
   "source": [
    "print('Целевой признак:', target.shape, '; Признаки:', features.shape)"
   ]
  },
  {
   "cell_type": "markdown",
   "metadata": {},
   "source": [
    " <br/>\n",
    "<div class=\"alert alert-block alert-danger\">\n",
    "<h2> Комментарий ревьюера <a class=\"tocSkip\"></h2>\n",
    "    \n",
    "<b>На доработку🤔:</b>\n",
    "\n",
    "</b> В нашем проекте некорректно использовать train_test_split для разбиение на выборки. Правильно -  использовать дату (\"date\"), как ключ для вытягивания таргетов для тестовой выборки из фулл-выборки. Исправь, пожалуйста. Подать метрику sMAPE в кросс-валидацию можно, используя скорер `scoring=make_scorer(sMAPE,...)`. Не забудь верно задать в аргументе параметр `greater_is_better=False`: чем ниже sMAPE, тем лучше для нас. Пусть знак минус у метрики не смущает тебя, можешь домножить на `-1`. "
   ]
  },
  {
   "cell_type": "markdown",
   "metadata": {},
   "source": [
    "<div class=\"alert alert-info\">\n",
    "<h2> Комментарий студента V2: <a class=\"tocSkip\"> </h2>\n",
    "\n",
    "Сижу, думаю, почему так. А потом дошло, что у нас 3 датасеты: обучающая, тестовая, исходная. Т.е. по сути датасеты уже разделены на обучающую и тестовую. Поэтому не разделяем на обучающую и валидационную выборку на обучающем датасете). По сути можно сказать, что я сделал кроссвалидацию с 1 блоком\n",
    "    \n",
    "</div>"
   ]
  },
  {
   "cell_type": "markdown",
   "metadata": {},
   "source": [
    "#### Линейная регрессия с кроссвалидацией"
   ]
  },
  {
   "cell_type": "code",
   "execution_count": 370,
   "metadata": {},
   "outputs": [],
   "source": [
    "# Подбор параметров модели с помощью make_scorer из sklearn.metrics\n",
    "smape_score = make_scorer(sMAPE, greater_is_better=False)\n",
    "\n",
    "# Матрица гиперпараметров\n",
    "# parameters = {'max_depth':range(1,101,10), 'min_samples_leaf': [ 1, 0.5, 2]}\n",
    "parameters = {}"
   ]
  },
  {
   "cell_type": "code",
   "execution_count": 397,
   "metadata": {
    "scrolled": true
   },
   "outputs": [
    {
     "ename": "NotFittedError",
     "evalue": "All estimators failed to fit",
     "output_type": "error",
     "traceback": [
      "\u001b[0;31m---------------------------------------------------------------------------\u001b[0m",
      "\u001b[0;31mNotFittedError\u001b[0m                            Traceback (most recent call last)",
      "\u001b[0;32m/tmp/ipykernel_63/2430269640.py\u001b[0m in \u001b[0;36m<module>\u001b[0;34m\u001b[0m\n\u001b[1;32m      1\u001b[0m \u001b[0mtraining_model\u001b[0m \u001b[0;34m=\u001b[0m \u001b[0mGridSearchCV\u001b[0m\u001b[0;34m(\u001b[0m\u001b[0mmodel\u001b[0m\u001b[0;34m,\u001b[0m \u001b[0mparameters\u001b[0m\u001b[0;34m,\u001b[0m \u001b[0mcv\u001b[0m \u001b[0;34m=\u001b[0m \u001b[0;36m5\u001b[0m\u001b[0;34m,\u001b[0m \u001b[0mscoring\u001b[0m \u001b[0;34m=\u001b[0m \u001b[0msmape_score\u001b[0m\u001b[0;34m)\u001b[0m\u001b[0;34m\u001b[0m\u001b[0;34m\u001b[0m\u001b[0m\n\u001b[1;32m      2\u001b[0m \u001b[0;34m\u001b[0m\u001b[0m\n\u001b[0;32m----> 3\u001b[0;31m \u001b[0mtraining_model\u001b[0m\u001b[0;34m.\u001b[0m\u001b[0mfit\u001b[0m\u001b[0;34m(\u001b[0m\u001b[0mfeatures\u001b[0m\u001b[0;34m,\u001b[0m \u001b[0mtarget\u001b[0m\u001b[0;34m[\u001b[0m\u001b[0;34m'rougher.output.recovery'\u001b[0m\u001b[0;34m]\u001b[0m\u001b[0;34m)\u001b[0m\u001b[0;34m\u001b[0m\u001b[0;34m\u001b[0m\u001b[0m\n\u001b[0m\u001b[1;32m      4\u001b[0m \u001b[0;34m\u001b[0m\u001b[0m\n\u001b[1;32m      5\u001b[0m \u001b[0mprint\u001b[0m\u001b[0;34m(\u001b[0m\u001b[0mtraining_model\u001b[0m\u001b[0;34m.\u001b[0m\u001b[0mbest_score_\u001b[0m\u001b[0;34m)\u001b[0m\u001b[0;34m\u001b[0m\u001b[0;34m\u001b[0m\u001b[0m\n",
      "\u001b[0;32m/opt/conda/lib/python3.9/site-packages/sklearn/utils/validation.py\u001b[0m in \u001b[0;36minner_f\u001b[0;34m(*args, **kwargs)\u001b[0m\n\u001b[1;32m     61\u001b[0m             \u001b[0mextra_args\u001b[0m \u001b[0;34m=\u001b[0m \u001b[0mlen\u001b[0m\u001b[0;34m(\u001b[0m\u001b[0margs\u001b[0m\u001b[0;34m)\u001b[0m \u001b[0;34m-\u001b[0m \u001b[0mlen\u001b[0m\u001b[0;34m(\u001b[0m\u001b[0mall_args\u001b[0m\u001b[0;34m)\u001b[0m\u001b[0;34m\u001b[0m\u001b[0;34m\u001b[0m\u001b[0m\n\u001b[1;32m     62\u001b[0m             \u001b[0;32mif\u001b[0m \u001b[0mextra_args\u001b[0m \u001b[0;34m<=\u001b[0m \u001b[0;36m0\u001b[0m\u001b[0;34m:\u001b[0m\u001b[0;34m\u001b[0m\u001b[0;34m\u001b[0m\u001b[0m\n\u001b[0;32m---> 63\u001b[0;31m                 \u001b[0;32mreturn\u001b[0m \u001b[0mf\u001b[0m\u001b[0;34m(\u001b[0m\u001b[0;34m*\u001b[0m\u001b[0margs\u001b[0m\u001b[0;34m,\u001b[0m \u001b[0;34m**\u001b[0m\u001b[0mkwargs\u001b[0m\u001b[0;34m)\u001b[0m\u001b[0;34m\u001b[0m\u001b[0;34m\u001b[0m\u001b[0m\n\u001b[0m\u001b[1;32m     64\u001b[0m \u001b[0;34m\u001b[0m\u001b[0m\n\u001b[1;32m     65\u001b[0m             \u001b[0;31m# extra_args > 0\u001b[0m\u001b[0;34m\u001b[0m\u001b[0;34m\u001b[0m\u001b[0;34m\u001b[0m\u001b[0m\n",
      "\u001b[0;32m/opt/conda/lib/python3.9/site-packages/sklearn/model_selection/_search.py\u001b[0m in \u001b[0;36mfit\u001b[0;34m(self, X, y, groups, **fit_params)\u001b[0m\n\u001b[1;32m    839\u001b[0m                 \u001b[0;32mreturn\u001b[0m \u001b[0mresults\u001b[0m\u001b[0;34m\u001b[0m\u001b[0;34m\u001b[0m\u001b[0m\n\u001b[1;32m    840\u001b[0m \u001b[0;34m\u001b[0m\u001b[0m\n\u001b[0;32m--> 841\u001b[0;31m             \u001b[0mself\u001b[0m\u001b[0;34m.\u001b[0m\u001b[0m_run_search\u001b[0m\u001b[0;34m(\u001b[0m\u001b[0mevaluate_candidates\u001b[0m\u001b[0;34m)\u001b[0m\u001b[0;34m\u001b[0m\u001b[0;34m\u001b[0m\u001b[0m\n\u001b[0m\u001b[1;32m    842\u001b[0m \u001b[0;34m\u001b[0m\u001b[0m\n\u001b[1;32m    843\u001b[0m             \u001b[0;31m# multimetric is determined here because in the case of a callable\u001b[0m\u001b[0;34m\u001b[0m\u001b[0;34m\u001b[0m\u001b[0;34m\u001b[0m\u001b[0m\n",
      "\u001b[0;32m/opt/conda/lib/python3.9/site-packages/sklearn/model_selection/_search.py\u001b[0m in \u001b[0;36m_run_search\u001b[0;34m(self, evaluate_candidates)\u001b[0m\n\u001b[1;32m   1286\u001b[0m     \u001b[0;32mdef\u001b[0m \u001b[0m_run_search\u001b[0m\u001b[0;34m(\u001b[0m\u001b[0mself\u001b[0m\u001b[0;34m,\u001b[0m \u001b[0mevaluate_candidates\u001b[0m\u001b[0;34m)\u001b[0m\u001b[0;34m:\u001b[0m\u001b[0;34m\u001b[0m\u001b[0;34m\u001b[0m\u001b[0m\n\u001b[1;32m   1287\u001b[0m         \u001b[0;34m\"\"\"Search all candidates in param_grid\"\"\"\u001b[0m\u001b[0;34m\u001b[0m\u001b[0;34m\u001b[0m\u001b[0m\n\u001b[0;32m-> 1288\u001b[0;31m         \u001b[0mevaluate_candidates\u001b[0m\u001b[0;34m(\u001b[0m\u001b[0mParameterGrid\u001b[0m\u001b[0;34m(\u001b[0m\u001b[0mself\u001b[0m\u001b[0;34m.\u001b[0m\u001b[0mparam_grid\u001b[0m\u001b[0;34m)\u001b[0m\u001b[0;34m)\u001b[0m\u001b[0;34m\u001b[0m\u001b[0;34m\u001b[0m\u001b[0m\n\u001b[0m\u001b[1;32m   1289\u001b[0m \u001b[0;34m\u001b[0m\u001b[0m\n\u001b[1;32m   1290\u001b[0m \u001b[0;34m\u001b[0m\u001b[0m\n",
      "\u001b[0;32m/opt/conda/lib/python3.9/site-packages/sklearn/model_selection/_search.py\u001b[0m in \u001b[0;36mevaluate_candidates\u001b[0;34m(candidate_params, cv, more_results)\u001b[0m\n\u001b[1;32m    825\u001b[0m                 \u001b[0;31m# of out will be done in `_insert_error_scores`.\u001b[0m\u001b[0;34m\u001b[0m\u001b[0;34m\u001b[0m\u001b[0;34m\u001b[0m\u001b[0m\n\u001b[1;32m    826\u001b[0m                 \u001b[0;32mif\u001b[0m \u001b[0mcallable\u001b[0m\u001b[0;34m(\u001b[0m\u001b[0mself\u001b[0m\u001b[0;34m.\u001b[0m\u001b[0mscoring\u001b[0m\u001b[0;34m)\u001b[0m\u001b[0;34m:\u001b[0m\u001b[0;34m\u001b[0m\u001b[0;34m\u001b[0m\u001b[0m\n\u001b[0;32m--> 827\u001b[0;31m                     \u001b[0m_insert_error_scores\u001b[0m\u001b[0;34m(\u001b[0m\u001b[0mout\u001b[0m\u001b[0;34m,\u001b[0m \u001b[0mself\u001b[0m\u001b[0;34m.\u001b[0m\u001b[0merror_score\u001b[0m\u001b[0;34m)\u001b[0m\u001b[0;34m\u001b[0m\u001b[0;34m\u001b[0m\u001b[0m\n\u001b[0m\u001b[1;32m    828\u001b[0m                 \u001b[0mall_candidate_params\u001b[0m\u001b[0;34m.\u001b[0m\u001b[0mextend\u001b[0m\u001b[0;34m(\u001b[0m\u001b[0mcandidate_params\u001b[0m\u001b[0;34m)\u001b[0m\u001b[0;34m\u001b[0m\u001b[0;34m\u001b[0m\u001b[0m\n\u001b[1;32m    829\u001b[0m                 \u001b[0mall_out\u001b[0m\u001b[0;34m.\u001b[0m\u001b[0mextend\u001b[0m\u001b[0;34m(\u001b[0m\u001b[0mout\u001b[0m\u001b[0;34m)\u001b[0m\u001b[0;34m\u001b[0m\u001b[0;34m\u001b[0m\u001b[0m\n",
      "\u001b[0;32m/opt/conda/lib/python3.9/site-packages/sklearn/model_selection/_validation.py\u001b[0m in \u001b[0;36m_insert_error_scores\u001b[0;34m(results, error_score)\u001b[0m\n\u001b[1;32m    295\u001b[0m \u001b[0;34m\u001b[0m\u001b[0m\n\u001b[1;32m    296\u001b[0m     \u001b[0;32mif\u001b[0m \u001b[0msuccessful_score\u001b[0m \u001b[0;32mis\u001b[0m \u001b[0;32mNone\u001b[0m\u001b[0;34m:\u001b[0m\u001b[0;34m\u001b[0m\u001b[0;34m\u001b[0m\u001b[0m\n\u001b[0;32m--> 297\u001b[0;31m         \u001b[0;32mraise\u001b[0m \u001b[0mNotFittedError\u001b[0m\u001b[0;34m(\u001b[0m\u001b[0;34m\"All estimators failed to fit\"\u001b[0m\u001b[0;34m)\u001b[0m\u001b[0;34m\u001b[0m\u001b[0;34m\u001b[0m\u001b[0m\n\u001b[0m\u001b[1;32m    298\u001b[0m \u001b[0;34m\u001b[0m\u001b[0m\n\u001b[1;32m    299\u001b[0m     \u001b[0;32mif\u001b[0m \u001b[0misinstance\u001b[0m\u001b[0;34m(\u001b[0m\u001b[0msuccessful_score\u001b[0m\u001b[0;34m,\u001b[0m \u001b[0mdict\u001b[0m\u001b[0;34m)\u001b[0m\u001b[0;34m:\u001b[0m\u001b[0;34m\u001b[0m\u001b[0;34m\u001b[0m\u001b[0m\n",
      "\u001b[0;31mNotFittedError\u001b[0m: All estimators failed to fit"
     ]
    }
   ],
   "source": [
    "training_model = GridSearchCV(model, parameters, cv = 5, scoring = smape_score)\n",
    "\n",
    "training_model.fit(features, target['rougher.output.recovery'])\n",
    "\n",
    "print(training_model.best_score_)\n",
    "\n",
    "# trained_model = training_model.fit(features, target)\n",
    "\n",
    "# print(\"Tuned decission tree parameters : {}\".format(dt_cv_df.best_params_))\n",
    "# print(\"Best sMape DecisionTree regressor: {}\".format(dt_cv_df.best_score_))"
   ]
  },
  {
   "cell_type": "markdown",
   "metadata": {},
   "source": [
    "<div class=\"alert alert-info\">\n",
    "\n",
    "**V2 Комментарий студента**\n",
    "   \n",
    "   Здесь я уже не понял. Мне кажется, что-то я изменил с данными \n",
    "\n",
    "</div>"
   ]
  },
  {
   "cell_type": "markdown",
   "metadata": {},
   "source": [
    "<br/>\n",
    "<div class=\"alert alert-block alert-danger\">\n",
    "<h2> Комментарий ревьюера <a class=\"tocSkip\"></h2>\n",
    "    \n",
    "<b>На доработку🤔:</b>\n",
    "    \n",
    "При построении и поиске лучшей модели следует использовать только кросс-валидацию. Это значит, что вместо обычного fit-predict следует использовать GridSearchCV или cross_val_score (если у модели гиперпараметры не подбираются).\n",
    "    "
   ]
  },
  {
   "cell_type": "markdown",
   "metadata": {},
   "source": [
    "<div class=\"alert alert-info\">\n",
    "\n",
    "**V1 Комментарий студента**\n",
    "   \n",
    "   Не слишком переобучена?\n",
    "\n",
    "</div>"
   ]
  },
  {
   "cell_type": "markdown",
   "metadata": {},
   "source": [
    "<br/>\n",
    "<div class=\"alert alert-block alert-danger\">\n",
    "<h2> Комментарий ревьюера <a class=\"tocSkip\"></h2>\n",
    "    \n",
    "<b>На доработку🤔:</b>\n",
    "    \n",
    "Сейчас использована не нужная нам метрика в кросс-валидации, проводится кросс-валидация с использованием дефолтной метрики $R^2$.   Следует использовать sMAPE. Подать ее можно, используя скорер. Исправь, пожалуйста."
   ]
  },
  {
   "cell_type": "markdown",
   "metadata": {},
   "source": [
    "#### Решающее дерево с кроссвалидацией"
   ]
  },
  {
   "cell_type": "code",
   "execution_count": 48,
   "metadata": {
    "scrolled": true
   },
   "outputs": [
    {
     "name": "stdout",
     "output_type": "stream",
     "text": [
      "===============================================================================================================================\n",
      "-------------------------------------------------------------------------------------------------------------------------------\n",
      "Глубина дерева: 1 ; RMSE модели: 7.924253766606972 ; Предсказание модели: 75.52909795177625\n",
      "Средняя оценка качества модели: 0.20241205539347823\n",
      "sMAPE:\n",
      "rougher.output.recovery    9.981731\n",
      "final.output.recovery      9.534104\n",
      "dtype: float64\n",
      "Итоговое sMAPE: 9.64601091710861\n",
      "-------------------------------------------------------------------------------------------------------------------------------\n",
      "Глубина дерева: 2 ; RMSE модели: 6.127968176374298 ; Предсказание модели: 75.45357115053369\n",
      "Средняя оценка качества модели: 0.5340076390514694\n",
      "sMAPE:\n",
      "rougher.output.recovery    8.849051\n",
      "final.output.recovery      6.733498\n",
      "dtype: float64\n",
      "Итоговое sMAPE: 7.26238620264138\n",
      "-------------------------------------------------------------------------------------------------------------------------------\n",
      "Глубина дерева: 3 ; RMSE модели: 4.933952310412505 ; Предсказание модели: 75.42015831410585\n",
      "Средняя оценка качества модели: 0.6476609918836523\n",
      "sMAPE:\n",
      "rougher.output.recovery    7.959810\n",
      "final.output.recovery      5.392268\n",
      "dtype: float64\n",
      "Итоговое sMAPE: 6.034153391130143\n",
      "-------------------------------------------------------------------------------------------------------------------------------\n",
      "Глубина дерева: 4 ; RMSE модели: 3.549532933140811 ; Предсказание модели: 75.49125088263634\n",
      "Средняя оценка качества модели: 0.8153079662390363\n",
      "sMAPE:\n",
      "rougher.output.recovery    6.314827\n",
      "final.output.recovery      4.380060\n",
      "dtype: float64\n",
      "Итоговое sMAPE: 4.8637516320465926\n",
      "-------------------------------------------------------------------------------------------------------------------------------\n",
      "Глубина дерева: 5 ; RMSE модели: 2.6452956481019196 ; Предсказание модели: 75.47663387251498\n",
      "Средняя оценка качества модели: 0.8992335146493939\n",
      "sMAPE:\n",
      "rougher.output.recovery    2.688296\n",
      "final.output.recovery      3.925518\n",
      "dtype: float64\n",
      "Итоговое sMAPE: 3.6162126102676773\n",
      "-------------------------------------------------------------------------------------------------------------------------------\n",
      "Глубина дерева: 6 ; RMSE модели: 2.002871615769623 ; Предсказание модели: 75.4500219725725\n",
      "Средняя оценка качества модели: 0.944087498199727\n",
      "sMAPE:\n",
      "rougher.output.recovery    2.114242\n",
      "final.output.recovery      2.291800\n",
      "dtype: float64\n",
      "Итоговое sMAPE: 2.2474102895185584\n",
      "-------------------------------------------------------------------------------------------------------------------------------\n",
      "Глубина дерева: 7 ; RMSE модели: 1.5178407306067634 ; Предсказание модели: 75.42424506714616\n",
      "Средняя оценка качества модели: 0.9659923106611241\n",
      "sMAPE:\n",
      "rougher.output.recovery    1.380149\n",
      "final.output.recovery      1.847671\n",
      "dtype: float64\n",
      "Итоговое sMAPE: 1.730790862543652\n",
      "-------------------------------------------------------------------------------------------------------------------------------\n",
      "Глубина дерева: 8 ; RMSE модели: 1.26903536858946 ; Предсказание модели: 75.433414137445\n",
      "Средняя оценка качества модели: 0.9780620585432045\n",
      "sMAPE:\n",
      "rougher.output.recovery    1.074015\n",
      "final.output.recovery      1.394264\n",
      "dtype: float64\n",
      "Итоговое sMAPE: 1.3142015043482544\n",
      "-------------------------------------------------------------------------------------------------------------------------------\n",
      "Глубина дерева: 9 ; RMSE модели: 1.0814269124130111 ; Предсказание модели: 75.46450869718328\n",
      "Средняя оценка качества модели: 0.9831152982192565\n",
      "sMAPE:\n",
      "rougher.output.recovery    0.856242\n",
      "final.output.recovery      0.948031\n",
      "dtype: float64\n",
      "Итоговое sMAPE: 0.9250840237093574\n",
      "-------------------------------------------------------------------------------------------------------------------------------\n",
      "Глубина дерева: 10 ; RMSE модели: 0.859001851622433 ; Предсказание модели: 75.446309538712\n",
      "Средняя оценка качества модели: 0.9852906484867885\n",
      "sMAPE:\n",
      "rougher.output.recovery    0.642830\n",
      "final.output.recovery      0.784997\n",
      "dtype: float64\n",
      "Итоговое sMAPE: 0.7494552947008173\n",
      "-------------------------------------------------------------------------------------------------------------------------------\n",
      "Глубина дерева: 11 ; RMSE модели: 0.8940743346071364 ; Предсказание модели: 75.43219194497786\n",
      "Средняя оценка качества модели: 0.9852326144747525\n",
      "sMAPE:\n",
      "rougher.output.recovery    0.539392\n",
      "final.output.recovery      0.596567\n",
      "dtype: float64\n",
      "Итоговое sMAPE: 0.5822729667458153\n",
      "-------------------------------------------------------------------------------------------------------------------------------\n",
      "Глубина дерева: 12 ; RMSE модели: 0.7070667454932684 ; Предсказание модели: 75.4474522988063\n",
      "Средняя оценка качества модели: 0.984361158697767\n",
      "sMAPE:\n",
      "rougher.output.recovery    0.469071\n",
      "final.output.recovery      0.482695\n",
      "dtype: float64\n",
      "Итоговое sMAPE: 0.47928930153088933\n",
      "-------------------------------------------------------------------------------------------------------------------------------\n",
      "Глубина дерева: 13 ; RMSE модели: 0.7645884348126439 ; Предсказание модели: 75.45467817749699\n",
      "Средняя оценка качества модели: 0.9853380765881283\n",
      "sMAPE:\n",
      "rougher.output.recovery    0.456463\n",
      "final.output.recovery      0.478483\n",
      "dtype: float64\n",
      "Итоговое sMAPE: 0.4729776535562522\n",
      "-------------------------------------------------------------------------------------------------------------------------------\n",
      "Глубина дерева: 14 ; RMSE модели: 0.7750758768478867 ; Предсказание модели: 75.45403737846154\n",
      "Средняя оценка качества модели: 0.9857135107287611\n",
      "sMAPE:\n",
      "rougher.output.recovery    0.459407\n",
      "final.output.recovery      0.452187\n",
      "dtype: float64\n",
      "Итоговое sMAPE: 0.453991755874932\n",
      "-------------------------------------------------------------------------------------------------------------------------------\n",
      "Глубина дерева: 15 ; RMSE модели: 0.7633689725617547 ; Предсказание модели: 75.46030776210064\n",
      "Средняя оценка качества модели: 0.9857544620720032\n",
      "sMAPE:\n",
      "rougher.output.recovery    0.456554\n",
      "final.output.recovery      0.467662\n",
      "dtype: float64\n",
      "Итоговое sMAPE: 0.4648851601057041\n",
      "===============================================================================================================================\n",
      "\n",
      "RMSE наилучшей модели на валидационной выборке: 0.7633689725617547 Глубина дерева: 15\n",
      "Лучшие среднее предсказание модели: 75.46030776210064\n",
      "Лучшая средняя оценка качества модели: 0.9857544620720032\n",
      "===============================================================================================================================\n",
      "CPU times: user 1min 13s, sys: 110 ms, total: 1min 14s\n",
      "Wall time: 1min 16s\n"
     ]
    }
   ],
   "source": [
    "%%time\n",
    "best_model = None\n",
    "best_RMSE = 10000\n",
    "best_depth = 0\n",
    "best_final_score = 0\n",
    "\n",
    "print('='*127)\n",
    "for depth in range(1, 16):\n",
    "\n",
    "    # Инициализируем модель DecisionTreeRegressor с параметром random_state=12345 и max_depth=depth\n",
    "    model = DecisionTreeRegressor(random_state = 12345, max_depth = depth)\n",
    "\n",
    "    # Обучим модель на тренировочной выборке\n",
    "    model.fit(features_train, target_train)\n",
    "\n",
    "    # Получим предсказания модели на валидационной выборке\n",
    "    predictions_valid = model.predict(features_valid) \n",
    "\n",
    "    # Посчитаем значение метрики RMSE на валидационной выборке\n",
    "    RMSE = mean_squared_error(target_valid, predictions_valid) ** 0.5\n",
    "    \n",
    "    # Кроссвалидация\n",
    "    scores = cross_val_score(model, features, target, cv=5)\n",
    "    \n",
    "    final_score = scores.mean()\n",
    "    print('-'*127)\n",
    "    print('Глубина дерева:', depth, '; RMSE модели:', RMSE, '; Предсказание модели:', predictions_valid.mean())\n",
    "    print('Средняя оценка качества модели:', final_score)\n",
    "    print('sMAPE:')\n",
    "    print(sMAPE(target_valid, predictions_valid))\n",
    "    print('Итоговое sMAPE:', total_sMAPE(sMAPE(target_valid, predictions_valid)[0], sMAPE(target_valid, predictions_valid)[1]))\n",
    "\n",
    "    if final_score > best_final_score:\n",
    "        best_model = model\n",
    "        best_RMSE = RMSE\n",
    "        best_depth = depth\n",
    "        best_predictions = predictions_valid\n",
    "        best_final_score = final_score\n",
    "        \n",
    "print('='*127)\n",
    "print()\n",
    "print(\"RMSE наилучшей модели на валидационной выборке:\", best_RMSE, \"Глубина дерева:\", best_depth)\n",
    "print('Лучшие среднее предсказание модели:', best_predictions.mean())\n",
    "print('Лучшая средняя оценка качества модели:', best_final_score)\n",
    "print('='*127)"
   ]
  },
  {
   "cell_type": "markdown",
   "metadata": {},
   "source": [
    "Средняя оценка качества оказалась 0,97. Можно предположить, что модель переобучена, что и предыдующая модель - Линейная регрессия, качество обучения которой составляет аж 1,0. А предсказание составляет 74,75, что и вполне удовлетворяет"
   ]
  },
  {
   "cell_type": "markdown",
   "metadata": {},
   "source": [
    "#### Случайный лес с кроссвалидацией"
   ]
  },
  {
   "cell_type": "code",
   "execution_count": 50,
   "metadata": {
    "scrolled": true
   },
   "outputs": [
    {
     "name": "stdout",
     "output_type": "stream",
     "text": [
      "===============================================================================================================================\n",
      "\n",
      "+++++++++++++++++++++++++++++++++++++++++++++++++++++++++++++++++++++++++++++++++++++++++++++++++++++++++++++++++++++++++++++++\n",
      "-------------------------------------------------------------------------------------------------------------------------------\n",
      "Глубина дерева: 1 ; RMSE модели: 7.910612147671647 ; Предсказание модели: 75.52854657580833\n",
      "Cредняя оценка качества модели: 0.2052261267666003\n",
      "sMAPE:\n",
      "rougher.output.recovery    9.969537\n",
      "final.output.recovery      9.531454\n",
      "dtype: float64\n",
      "Итоговое sMAPE: 9.640974510456651\n",
      "-------------------------------------------------------------------------------------------------------------------------------\n",
      "Глубина дерева: 2 ; RMSE модели: 6.077653270484872 ; Предсказание модели: 75.43280275978836\n",
      "Cредняя оценка качества модели: 0.5470340313486342\n",
      "sMAPE:\n",
      "rougher.output.recovery    8.813404\n",
      "final.output.recovery      6.648681\n",
      "dtype: float64\n",
      "Итоговое sMAPE: 7.1898620755497635\n",
      "-------------------------------------------------------------------------------------------------------------------------------\n",
      "Глубина дерева: 3 ; RMSE модели: 4.658337094335552 ; Предсказание модели: 75.4103725394445\n",
      "Cредняя оценка качества модели: 0.6998484895738143\n",
      "sMAPE:\n",
      "rougher.output.recovery    7.856904\n",
      "final.output.recovery      4.521210\n",
      "dtype: float64\n",
      "Итоговое sMAPE: 5.355133914231201\n",
      "-------------------------------------------------------------------------------------------------------------------------------\n",
      "Глубина дерева: 4 ; RMSE модели: 3.216747751207214 ; Предсказание модели: 75.47682952177094\n",
      "Cредняя оценка качества модели: 0.8554929147723351\n",
      "sMAPE:\n",
      "rougher.output.recovery    6.793051\n",
      "final.output.recovery      3.800095\n",
      "dtype: float64\n",
      "Итоговое sMAPE: 4.5483342272999145\n",
      "-------------------------------------------------------------------------------------------------------------------------------\n",
      "Глубина дерева: 5 ; RMSE модели: 2.2906683680106714 ; Предсказание модели: 75.47049549736043\n",
      "Cредняя оценка качества модели: 0.9253305915956265\n",
      "sMAPE:\n",
      "rougher.output.recovery    3.206323\n",
      "final.output.recovery      3.495363\n",
      "dtype: float64\n",
      "Итоговое sMAPE: 3.423103156753611\n",
      "+++++++++++++++++++++++++++++++++++++++++++++++++++++++++++++++++++++++++++++++++++++++++++++++++++++++++++++++++++++++++++++++\n",
      "-------------------------------------------------------------------------------------------------------------------------------\n",
      "Глубина дерева: 1 ; RMSE модели: 7.9122382662207045 ; Предсказание модели: 75.52784288847546\n",
      "Cредняя оценка качества модели: 0.20569494365857494\n",
      "sMAPE:\n",
      "rougher.output.recovery    9.971631\n",
      "final.output.recovery      9.532938\n",
      "dtype: float64\n",
      "Итоговое sMAPE: 9.642611344427424\n",
      "-------------------------------------------------------------------------------------------------------------------------------\n",
      "Глубина дерева: 2 ; RMSE модели: 6.0828458453791105 ; Предсказание модели: 75.43398705263674\n",
      "Cредняя оценка качества модели: 0.5473255711705617\n",
      "sMAPE:\n",
      "rougher.output.recovery    8.814527\n",
      "final.output.recovery      6.637723\n",
      "dtype: float64\n",
      "Итоговое sMAPE: 7.181923896097875\n",
      "-------------------------------------------------------------------------------------------------------------------------------\n",
      "Глубина дерева: 3 ; RMSE модели: 4.653329440592711 ; Предсказание модели: 75.41378140025071\n",
      "Cредняя оценка качества модели: 0.6999109252275227\n",
      "sMAPE:\n",
      "rougher.output.recovery    7.807717\n",
      "final.output.recovery      4.578702\n",
      "dtype: float64\n",
      "Итоговое sMAPE: 5.385955930627342\n",
      "-------------------------------------------------------------------------------------------------------------------------------\n",
      "Глубина дерева: 4 ; RMSE модели: 3.2141807693372875 ; Предсказание модели: 75.47842768621835\n",
      "Cредняя оценка качества модели: 0.8572366967159036\n",
      "sMAPE:\n",
      "rougher.output.recovery    6.768995\n",
      "final.output.recovery      3.795254\n",
      "dtype: float64\n",
      "Итоговое sMAPE: 4.5386895207230715\n",
      "-------------------------------------------------------------------------------------------------------------------------------\n",
      "Глубина дерева: 5 ; RMSE модели: 2.2727306493602804 ; Предсказание модели: 75.47598965397594\n",
      "Cредняя оценка качества модели: 0.9277464372542408\n",
      "sMAPE:\n",
      "rougher.output.recovery    3.612047\n",
      "final.output.recovery      3.421406\n",
      "dtype: float64\n",
      "Итоговое sMAPE: 3.4690661281545303\n",
      "+++++++++++++++++++++++++++++++++++++++++++++++++++++++++++++++++++++++++++++++++++++++++++++++++++++++++++++++++++++++++++++++\n",
      "-------------------------------------------------------------------------------------------------------------------------------\n",
      "Глубина дерева: 1 ; RMSE модели: 7.911639191303388 ; Предсказание модели: 75.53336332835401\n",
      "Cредняя оценка качества модели: 0.20576773161487236\n",
      "sMAPE:\n",
      "rougher.output.recovery    9.970178\n",
      "final.output.recovery      9.532273\n",
      "dtype: float64\n",
      "Итоговое sMAPE: 9.641749169808449\n",
      "-------------------------------------------------------------------------------------------------------------------------------\n",
      "Глубина дерева: 2 ; RMSE модели: 6.076505989197234 ; Предсказание модели: 75.43823695698902\n",
      "Cредняя оценка качества модели: 0.5487965379244275\n",
      "sMAPE:\n",
      "rougher.output.recovery    8.813865\n",
      "final.output.recovery      6.621142\n",
      "dtype: float64\n",
      "Итоговое sMAPE: 7.169322928515612\n",
      "-------------------------------------------------------------------------------------------------------------------------------\n",
      "Глубина дерева: 3 ; RMSE модели: 4.615986465921643 ; Предсказание модели: 75.41724197452967\n",
      "Cредняя оценка качества модели: 0.701088055170507\n",
      "sMAPE:\n",
      "rougher.output.recovery    7.746685\n",
      "final.output.recovery      4.543223\n",
      "dtype: float64\n",
      "Итоговое sMAPE: 5.344088558964873\n",
      "-------------------------------------------------------------------------------------------------------------------------------\n",
      "Глубина дерева: 4 ; RMSE модели: 3.1708108660471956 ; Предсказание модели: 75.47992292091014\n",
      "Cредняя оценка качества модели: 0.858091490991163\n",
      "sMAPE:\n",
      "rougher.output.recovery    6.729592\n",
      "final.output.recovery      3.756848\n",
      "dtype: float64\n",
      "Итоговое sMAPE: 4.500034168498579\n",
      "-------------------------------------------------------------------------------------------------------------------------------\n",
      "Глубина дерева: 5 ; RMSE модели: 2.241524594443315 ; Предсказание модели: 75.4752688112284\n",
      "Cредняя оценка качества модели: 0.9291593597912285\n",
      "sMAPE:\n",
      "rougher.output.recovery    3.643826\n",
      "final.output.recovery      3.373857\n",
      "dtype: float64\n",
      "Итоговое sMAPE: 3.4413489848264702\n",
      "+++++++++++++++++++++++++++++++++++++++++++++++++++++++++++++++++++++++++++++++++++++++++++++++++++++++++++++++++++++++++++++++\n",
      "-------------------------------------------------------------------------------------------------------------------------------\n",
      "Глубина дерева: 1 ; RMSE модели: 7.910209868266791 ; Предсказание модели: 75.53034032447806\n",
      "Cредняя оценка качества модели: 0.20543927494025796\n",
      "sMAPE:\n",
      "rougher.output.recovery    9.969340\n",
      "final.output.recovery      9.532665\n",
      "dtype: float64\n",
      "Итоговое sMAPE: 9.641834000494637\n",
      "-------------------------------------------------------------------------------------------------------------------------------\n",
      "Глубина дерева: 2 ; RMSE модели: 6.071486499822774 ; Предсказание модели: 75.43740313385946\n",
      "Cредняя оценка качества модели: 0.5488298561999965\n",
      "sMAPE:\n",
      "rougher.output.recovery    8.815830\n",
      "final.output.recovery      6.615077\n",
      "dtype: float64\n",
      "Итоговое sMAPE: 7.165265205546948\n",
      "-------------------------------------------------------------------------------------------------------------------------------\n",
      "Глубина дерева: 3 ; RMSE модели: 4.623209914530871 ; Предсказание модели: 75.4155530484091\n",
      "Cредняя оценка качества модели: 0.7006964827962548\n",
      "sMAPE:\n",
      "rougher.output.recovery    7.740671\n",
      "final.output.recovery      4.594610\n",
      "dtype: float64\n",
      "Итоговое sMAPE: 5.381125526722819\n",
      "-------------------------------------------------------------------------------------------------------------------------------\n",
      "Глубина дерева: 4 ; RMSE модели: 3.177454990047773 ; Предсказание модели: 75.47637004660162\n",
      "Cредняя оценка качества модели: 0.8583614440763341\n",
      "sMAPE:\n",
      "rougher.output.recovery    6.740475\n",
      "final.output.recovery      3.767934\n",
      "dtype: float64\n",
      "Итоговое sMAPE: 4.511069566083447\n",
      "-------------------------------------------------------------------------------------------------------------------------------\n",
      "Глубина дерева: 5 ; RMSE модели: 2.2400329210886394 ; Предсказание модели: 75.47185918628414\n",
      "Cредняя оценка качества модели: 0.9302072918085257\n",
      "sMAPE:\n",
      "rougher.output.recovery    3.662373\n",
      "final.output.recovery      3.365856\n",
      "dtype: float64\n",
      "Итоговое sMAPE: 3.4399855965385964\n",
      "+++++++++++++++++++++++++++++++++++++++++++++++++++++++++++++++++++++++++++++++++++++++++++++++++++++++++++++++++++++++++++++++\n",
      "-------------------------------------------------------------------------------------------------------------------------------\n",
      "Глубина дерева: 1 ; RMSE модели: 7.910915138189341 ; Предсказание модели: 75.52622632718307\n",
      "Cредняя оценка качества модели: 0.205561429686907\n",
      "sMAPE:\n",
      "rougher.output.recovery    9.971077\n",
      "final.output.recovery      9.533437\n",
      "dtype: float64\n",
      "Итоговое sMAPE: 9.642847076395203\n",
      "-------------------------------------------------------------------------------------------------------------------------------\n",
      "Глубина дерева: 2 ; RMSE модели: 6.069362040729883 ; Предсказание модели: 75.43667146542381\n",
      "Cредняя оценка качества модели: 0.5500897039787873\n",
      "sMAPE:\n",
      "rougher.output.recovery    8.821043\n",
      "final.output.recovery      6.608946\n",
      "dtype: float64\n",
      "Итоговое sMAPE: 7.161970295287454\n",
      "-------------------------------------------------------------------------------------------------------------------------------\n",
      "Глубина дерева: 3 ; RMSE модели: 4.6180143426289435 ; Предсказание модели: 75.41589727571083\n",
      "Cредняя оценка качества модели: 0.7007160974848899\n",
      "sMAPE:\n",
      "rougher.output.recovery    7.755969\n",
      "final.output.recovery      4.558204\n",
      "dtype: float64\n",
      "Итоговое sMAPE: 5.357645301631782\n",
      "-------------------------------------------------------------------------------------------------------------------------------\n",
      "Глубина дерева: 4 ; RMSE модели: 3.1700000042776164 ; Предсказание модели: 75.47956974514231\n",
      "Cредняя оценка качества модели: 0.8587611474155613\n",
      "sMAPE:\n",
      "rougher.output.recovery    6.734636\n",
      "final.output.recovery      3.737690\n",
      "dtype: float64\n",
      "Итоговое sMAPE: 4.486926488376847\n",
      "-------------------------------------------------------------------------------------------------------------------------------\n",
      "Глубина дерева: 5 ; RMSE модели: 2.229332331778578 ; Предсказание модели: 75.47442102219716\n",
      "Cредняя оценка качества модели: 0.9307996017455629\n",
      "sMAPE:\n",
      "rougher.output.recovery    3.651976\n",
      "final.output.recovery      3.342429\n",
      "dtype: float64\n",
      "Итоговое sMAPE: 3.4198153922385224\n",
      "===============================================================================================================================\n",
      "\n",
      "RMSE наилучшей модели на валидационной выборке: 2.229332331778578 Количество деревьев: 50 Глубина дерева: 5\n",
      "Лучшие среднее предсказание модели: 75.47442102219716\n",
      "Лучшая средняя оценка качества модели: 0.9307996017455629\n",
      "===============================================================================================================================\n",
      "CPU times: user 16min 37s, sys: 2.51 s, total: 16min 39s\n",
      "Wall time: 16min 46s\n"
     ]
    }
   ],
   "source": [
    "%%time\n",
    "# Примением случайный лес в регрессии\n",
    "\n",
    "best_model = None\n",
    "best_RMSE = 1000\n",
    "best_est = 0\n",
    "best_depth = 0\n",
    "best_final_score = 0\n",
    "\n",
    "print('='*127)\n",
    "print()\n",
    "\n",
    "for est in range(10, 51, 10):\n",
    "    print('+'*127)\n",
    "    for depth in range (1, 6):\n",
    "        # Инициализируем модель RandomForestRegressor с параметрами random_state=12345, n_estimators=est и max_depth=depth\n",
    "        model = RandomForestRegressor(random_state = 12345, n_estimators = est, max_depth = depth)\n",
    "\n",
    "        # Обучим модель на тренировочной выборке\n",
    "        model.fit(features_train, target_train )\n",
    "\n",
    "        # Получаем предсказания\n",
    "        predictions_valid = model.predict(features_valid)\n",
    "        \n",
    "        # Кроссвалидация\n",
    "        scores = cross_val_score(model, features, target, cv=5)\n",
    "\n",
    "        final_score = scores.mean()\n",
    "\n",
    "        RMSE = mean_squared_error(target_valid, predictions_valid) ** 0.5\n",
    "        print('-'*127)\n",
    "        print('Глубина дерева:', depth, '; RMSE модели:', RMSE, '; Предсказание модели:', predictions_valid.mean())\n",
    "        print('Cредняя оценка качества модели:', final_score)\n",
    "        print('sMAPE:')\n",
    "        print(sMAPE(target_valid, predictions_valid))\n",
    "        print('Итоговое sMAPE:', total_sMAPE(sMAPE(target_valid, predictions_valid)[0], sMAPE(target_valid, predictions_valid)[1]))\n",
    "\n",
    "        if final_score > best_final_score:\n",
    "            best_model = model\n",
    "            best_RMSE = RMSE\n",
    "            best_est = est\n",
    "            best_depth = depth\n",
    "            best_predictions = predictions_valid\n",
    "            best_final_score = final_score\n",
    "\n",
    "print('='*127)\n",
    "print()\n",
    "print(\"RMSE наилучшей модели на валидационной выборке:\", best_RMSE, \"Количество деревьев:\", best_est, \"Глубина дерева:\", best_depth)\n",
    "print('Лучшие среднее предсказание модели:', best_predictions.mean())\n",
    "print('Лучшая средняя оценка качества модели:', best_final_score)\n",
    "print('='*127)"
   ]
  },
  {
   "cell_type": "markdown",
   "metadata": {},
   "source": [
    "Средняя качества обучения немного уступает предыдющей модели - Решающее дерево, на 7%. А среднее показатель оставалась примерно прежней"
   ]
  },
  {
   "cell_type": "markdown",
   "metadata": {},
   "source": [
    "Лучшее качество обучения оказалась модель Линейной регресси. Теперь приступаем к тестовой выборке по этой модели"
   ]
  },
  {
   "cell_type": "markdown",
   "metadata": {},
   "source": [
    "### Проверим на тестовой выборке"
   ]
  },
  {
   "cell_type": "markdown",
   "metadata": {},
   "source": [
    "#### Обучение и проверка модели"
   ]
  },
  {
   "cell_type": "code",
   "execution_count": 51,
   "metadata": {},
   "outputs": [],
   "source": [
    "# Поскольку мы знаем, что в тестовой выборки отсутствуют нужные нами признаки, поэтому протестируем у исходного\n",
    "features = df_full.drop('date', axis=1)\n",
    "target = df_full[['rougher.output.recovery', 'final.output.recovery']]"
   ]
  },
  {
   "cell_type": "markdown",
   "metadata": {},
   "source": [
    "#### Разобьем данные на обучающую и валидационную выборки в соотношении 75:25"
   ]
  },
  {
   "cell_type": "code",
   "execution_count": 52,
   "metadata": {},
   "outputs": [],
   "source": [
    "# Как обычно, будем разделять 75% данных для обучающей выборки и 25% валидационной выборки\n",
    "features_train, features_valid, target_train, target_valid = train_test_split(features, target, test_size= (1 - 0.75), random_state=12345) "
   ]
  },
  {
   "cell_type": "code",
   "execution_count": 53,
   "metadata": {},
   "outputs": [
    {
     "name": "stdout",
     "output_type": "stream",
     "text": [
      "CPU times: user 205 ms, sys: 304 ms, total: 509 ms\n",
      "Wall time: 511 ms\n"
     ]
    }
   ],
   "source": [
    "%%time\n",
    "# Применяем метод линейной регрессии\n",
    "model = LinearRegression()\n",
    "\n",
    "# Обучим модель на тренировочной выборке\n",
    "model.fit(features_train, target_train)\n",
    "\n",
    "# Получим предсказания обучающей модели\n",
    "predictions_train = model.predict(features_train)\n",
    "\n",
    "# Получим предсказания тестовой модели\n",
    "predictions_valid = model.predict(features_valid)"
   ]
  },
  {
   "cell_type": "markdown",
   "metadata": {},
   "source": [
    "**Чем меньше RMSE и близок 0, тем лучше**"
   ]
  },
  {
   "cell_type": "code",
   "execution_count": 54,
   "metadata": {
    "scrolled": true
   },
   "outputs": [
    {
     "name": "stdout",
     "output_type": "stream",
     "text": [
      "RMSE модели линейной регрессии на валидационной выборке:\n",
      "-------------------------------------------------------------------------------------------------------------------------------\n",
      "Обучающая выборка: 8.496649510979672e-22\n",
      "Предсказание модели обучающей выборки: 75.55482984335853\n",
      "-------------------------------------------------------------------------------------------------------------------------------\n",
      "Тестовая выборка: 5.6022502565110875e-24\n",
      "Предсказание модели обучающей выборки: 75.45541529877771\n",
      "-------------------------------------------------------------------------------------------------------------------------------\n"
     ]
    }
   ],
   "source": [
    "print(\"RMSE модели линейной регрессии на валидационной выборке:\")\n",
    "print('-'*127)\n",
    "print(\"Обучающая выборка:\", mean_squared_error(target_train, predictions_train))\n",
    "print('Предсказание модели обучающей выборки:', predictions_train.mean())\n",
    "print('-'*127)\n",
    "print(\"Тестовая выборка:\", mean_squared_error(target_valid, predictions_valid))\n",
    "print('Предсказание модели обучающей выборки:', predictions_valid.mean())\n",
    "print('-'*127)"
   ]
  },
  {
   "cell_type": "markdown",
   "metadata": {},
   "source": [
    "Качество модели на тестовой выборки показалось себя немного хуже обучающей"
   ]
  },
  {
   "cell_type": "markdown",
   "metadata": {},
   "source": [
    "#### Константная модель (в процессе)"
   ]
  },
  {
   "cell_type": "code",
   "execution_count": 403,
   "metadata": {},
   "outputs": [],
   "source": [
    "dum_reg_rouger = DummyRegressor(strategy=\"median\")"
   ]
  },
  {
   "cell_type": "markdown",
   "metadata": {},
   "source": [
    "<br/>\n",
    "<div class=\"alert alert-block alert-danger\">\n",
    "<h2> Комментарий ревьюера <a class=\"tocSkip\"></h2>\n",
    "    \n",
    "<b>На доработку🤔:</b>\n",
    "    \n",
    "В каждом проекте при оценке качества модели, имеет смысл сравнивать ее с константной моделью (к примеру, которая предсказывает медиану по таргету). И в наш проект важно добавить это сравнение.  Создавать константные модели можно либо вручную, либо воспользоваться готовым алгоритмом <a href='https://scikit-learn.org/stable/modules/generated/sklearn.dummy.DummyRegressor.html'>DummyRegressor</a> из пакета `sklearn`."
   ]
  },
  {
   "cell_type": "markdown",
   "metadata": {},
   "source": [
    "## Выводы\n",
    "\n",
    "В течение отладки выяснили, что отсутствуют признаки: rougher.output.recovery, final.output.recovery вещественного типа. И было решено протестировать на исходную выборку. Также выяснили пропущенные значения в некоторых датасетах, что и решили убрать их, чтобы не искажать на исследование.\n",
    "\n",
    "В ходе анализа данных узнали, что концентрация золота после второго этапа очистки оказалась намного выше чем после флотации и первого этапа очистки. Ситуация со серебром оказалсь другой, т.е. концентрация серебра сильно упала после первого этапа очистки. Чтобы сохранить высокую концентрацию серебра, придется воздержаться этапы очистки. Со свинцом ситуация более приемлемая, после второго этапа очистки принесет удовлетворительную оценку концентратов.\n",
    "\n",
    "Лучшей модели обучения оказался метод **? Линейной регресси ?**, также было проведено тестирование на модели"
   ]
  },
  {
   "cell_type": "markdown",
   "metadata": {},
   "source": [
    "<div style=\"border:solid Chocolate 2px; padding: 40px\">\n",
    "\n",
    "\n",
    "<h2> Итоговый комментарий ревьюера <a class=\"tocSkip\"> </h2>    \n",
    "    \n",
    "  \n",
    "У меня сложилось хорошее общее впечатление о проекте, тебе удалось неплохо справиться с таким объемным и сложным проектом. Молодец! Подготовлены данные для анализа, изучен каждый параметр. Все красиво визуализировано, построено несколько моделей регрессии и оценено их качество. Осмысленная аналитика и дельная модельная работа - многое удалось как надо)\n",
    "    \n",
    "Отмечу отдельные положительные моменты проекта🙂:\n",
    "    \n",
    "- в ходе проекта встречались функции, помогающие избавиться от дублирования кода;\n",
    "- много красивых визуализаций в проекте и хорошая интерпретация;\n",
    "- при обучении моделей использована кросс-валидация и поиск гиперпараметров.\n",
    "    \n",
    "Есть несколько моментов всего, на которые стоит ещё раз взглянуть, их я обзначил тебе в комментариях по ходу проекта. Предлагаю тебе доработать проект по моим комментариям, чтобы довести его до совершенства.\n",
    "\n",
    "Если будут вопросы, обращайся, с удовольствием на них отвечу.  \n",
    "</div>"
   ]
  },
  {
   "cell_type": "markdown",
   "metadata": {},
   "source": [
    "## Чек-лист готовности проекта"
   ]
  },
  {
   "cell_type": "markdown",
   "metadata": {},
   "source": [
    "- [x]  Jupyter Notebook открыт\n",
    "- [ ]  Весь код выполняется без ошибок\n",
    "- [x]  Ячейки с кодом расположены в порядке выполнения\n",
    "- [x]  Выполнен шаг 1: данные подготовлены\n",
    "    - [x]  Проверена формула вычисления эффективности обогащения\n",
    "    - [x]  Проанализированы признаки, недоступные в тестовой выборке\n",
    "    - [x]  Проведена предобработка данных\n",
    "- [x]  Выполнен шаг 2: данные проанализированы\n",
    "    - [x]  Исследовано изменение концентрации элементов на каждом этапе\n",
    "    - [x]  Проанализированы распределения размеров гранул на обучающей и тестовой выборках\n",
    "    - [x]  Исследованы суммарные концентрации\n",
    "- [x]  Выполнен шаг 3: построена модель прогнозирования\n",
    "    - [x]  Написана функция для вычисления итогового *sMAPE*\n",
    "    - [x]  Обучено и проверено несколько моделей\n",
    "    - [x]  Выбрана лучшая модель, её качество проверено на тестовой выборке"
   ]
  }
 ],
 "metadata": {
  "ExecuteTimeLog": [
   {
    "duration": 1575,
    "start_time": "2023-02-13T07:20:44.157Z"
   },
   {
    "duration": 41,
    "start_time": "2023-02-13T07:20:45.815Z"
   },
   {
    "duration": 2116,
    "start_time": "2023-02-13T07:21:14.004Z"
   },
   {
    "duration": 15,
    "start_time": "2023-02-13T07:21:38.708Z"
   },
   {
    "duration": 26,
    "start_time": "2023-02-13T07:22:12.802Z"
   },
   {
    "duration": 238,
    "start_time": "2023-02-13T07:23:21.127Z"
   },
   {
    "duration": 14523,
    "start_time": "2023-02-13T07:23:45.743Z"
   },
   {
    "duration": 1355,
    "start_time": "2023-02-13T07:24:00.268Z"
   },
   {
    "duration": 9,
    "start_time": "2023-02-13T07:31:15.081Z"
   },
   {
    "duration": 44,
    "start_time": "2023-02-13T07:31:16.496Z"
   },
   {
    "duration": 1415,
    "start_time": "2023-02-13T07:31:21.170Z"
   },
   {
    "duration": 2056,
    "start_time": "2023-02-13T07:31:22.645Z"
   },
   {
    "duration": 235,
    "start_time": "2023-02-13T07:31:24.703Z"
   },
   {
    "duration": 4,
    "start_time": "2023-02-13T07:32:34.309Z"
   },
   {
    "duration": 50,
    "start_time": "2023-02-13T17:48:10.060Z"
   },
   {
    "duration": 1567,
    "start_time": "2023-02-13T17:48:15.518Z"
   },
   {
    "duration": 3376,
    "start_time": "2023-02-13T17:48:17.087Z"
   },
   {
    "duration": 256,
    "start_time": "2023-02-13T17:48:23.380Z"
   },
   {
    "duration": 125,
    "start_time": "2023-02-13T17:48:37.088Z"
   },
   {
    "duration": 252,
    "start_time": "2023-02-13T17:48:45.066Z"
   },
   {
    "duration": 44,
    "start_time": "2023-02-13T18:06:18.340Z"
   },
   {
    "duration": 3,
    "start_time": "2023-02-13T18:10:57.910Z"
   },
   {
    "duration": 55,
    "start_time": "2023-02-13T18:51:37.754Z"
   },
   {
    "duration": 5,
    "start_time": "2023-02-13T18:51:41.771Z"
   },
   {
    "duration": 685,
    "start_time": "2023-02-13T18:51:41.778Z"
   },
   {
    "duration": 41,
    "start_time": "2023-02-13T18:51:44.289Z"
   },
   {
    "duration": 48,
    "start_time": "2023-02-13T18:51:47.743Z"
   },
   {
    "duration": 5,
    "start_time": "2023-02-13T18:51:52.648Z"
   },
   {
    "duration": 657,
    "start_time": "2023-02-13T18:51:53.759Z"
   },
   {
    "duration": 56,
    "start_time": "2023-02-13T18:51:54.530Z"
   },
   {
    "duration": 45,
    "start_time": "2023-02-13T18:52:04.473Z"
   },
   {
    "duration": 13891,
    "start_time": "2023-02-13T18:52:13.152Z"
   },
   {
    "duration": 1063,
    "start_time": "2023-02-13T18:55:36.887Z"
   },
   {
    "duration": 51,
    "start_time": "2023-02-13T18:55:40.213Z"
   },
   {
    "duration": 3,
    "start_time": "2023-02-13T18:55:41.605Z"
   },
   {
    "duration": 46,
    "start_time": "2023-02-13T19:09:11.721Z"
   },
   {
    "duration": 1395,
    "start_time": "2023-02-13T19:09:21.950Z"
   },
   {
    "duration": 3142,
    "start_time": "2023-02-13T19:09:23.349Z"
   },
   {
    "duration": 2407,
    "start_time": "2023-02-13T19:09:26.493Z"
   },
   {
    "duration": 250,
    "start_time": "2023-02-13T19:09:28.903Z"
   },
   {
    "duration": 134,
    "start_time": "2023-02-13T19:09:29.155Z"
   },
   {
    "duration": 250,
    "start_time": "2023-02-13T19:09:29.290Z"
   },
   {
    "duration": 7,
    "start_time": "2023-02-13T19:09:29.542Z"
   },
   {
    "duration": 53,
    "start_time": "2023-02-13T19:45:16.980Z"
   },
   {
    "duration": 3790,
    "start_time": "2023-02-13T19:45:24.470Z"
   },
   {
    "duration": 58285,
    "start_time": "2023-02-13T19:45:28.262Z"
   },
   {
    "duration": 3,
    "start_time": "2023-02-13T19:47:59.514Z"
   },
   {
    "duration": 59913,
    "start_time": "2023-02-13T19:49:00.780Z"
   },
   {
    "duration": 504,
    "start_time": "2023-02-13T19:50:00.696Z"
   },
   {
    "duration": 76,
    "start_time": "2023-02-13T19:58:50.937Z"
   },
   {
    "duration": 10,
    "start_time": "2023-02-13T19:59:03.123Z"
   },
   {
    "duration": 9,
    "start_time": "2023-02-13T19:59:18.876Z"
   },
   {
    "duration": 11,
    "start_time": "2023-02-13T19:59:22.750Z"
   },
   {
    "duration": 20,
    "start_time": "2023-02-13T19:59:35.169Z"
   },
   {
    "duration": 8,
    "start_time": "2023-02-13T20:09:15.830Z"
   },
   {
    "duration": 11,
    "start_time": "2023-02-13T20:09:22.528Z"
   },
   {
    "duration": 17,
    "start_time": "2023-02-13T20:09:55.177Z"
   },
   {
    "duration": 47,
    "start_time": "2023-02-13T20:09:57.758Z"
   },
   {
    "duration": 12,
    "start_time": "2023-02-13T20:10:03.993Z"
   },
   {
    "duration": 31,
    "start_time": "2023-02-13T20:10:13.698Z"
   },
   {
    "duration": 6,
    "start_time": "2023-02-13T20:10:24.633Z"
   },
   {
    "duration": 6,
    "start_time": "2023-02-13T20:10:59.859Z"
   },
   {
    "duration": 60,
    "start_time": "2023-02-13T20:11:18.906Z"
   },
   {
    "duration": 18,
    "start_time": "2023-02-13T20:11:22.547Z"
   },
   {
    "duration": 3,
    "start_time": "2023-02-13T20:12:55.365Z"
   },
   {
    "duration": 11,
    "start_time": "2023-02-13T20:13:05.654Z"
   },
   {
    "duration": 5,
    "start_time": "2023-02-13T20:13:09.942Z"
   },
   {
    "duration": 15,
    "start_time": "2023-02-13T20:13:21.284Z"
   },
   {
    "duration": 6,
    "start_time": "2023-02-13T20:13:24.980Z"
   },
   {
    "duration": 3,
    "start_time": "2023-02-13T20:13:55.349Z"
   },
   {
    "duration": 39,
    "start_time": "2023-02-13T20:14:02.392Z"
   },
   {
    "duration": 3,
    "start_time": "2023-02-13T20:14:10.399Z"
   },
   {
    "duration": 60,
    "start_time": "2023-02-13T20:14:11.557Z"
   },
   {
    "duration": 4,
    "start_time": "2023-02-13T20:14:38.773Z"
   },
   {
    "duration": 63,
    "start_time": "2023-02-13T20:14:40.221Z"
   },
   {
    "duration": 4,
    "start_time": "2023-02-13T20:14:49.176Z"
   },
   {
    "duration": 53,
    "start_time": "2023-02-13T20:14:50.285Z"
   },
   {
    "duration": 4,
    "start_time": "2023-02-13T20:15:15.872Z"
   },
   {
    "duration": 59,
    "start_time": "2023-02-13T20:15:18.416Z"
   },
   {
    "duration": 3,
    "start_time": "2023-02-13T20:15:26.286Z"
   },
   {
    "duration": 57,
    "start_time": "2023-02-13T20:15:26.942Z"
   },
   {
    "duration": 3,
    "start_time": "2023-02-13T20:16:14.825Z"
   },
   {
    "duration": 45,
    "start_time": "2023-02-13T20:16:16.017Z"
   },
   {
    "duration": 56,
    "start_time": "2023-02-13T20:16:25.840Z"
   },
   {
    "duration": 3,
    "start_time": "2023-02-13T20:17:05.290Z"
   },
   {
    "duration": 47,
    "start_time": "2023-02-13T20:17:07.356Z"
   },
   {
    "duration": 3,
    "start_time": "2023-02-13T20:17:19.396Z"
   },
   {
    "duration": 48,
    "start_time": "2023-02-13T20:17:20.720Z"
   },
   {
    "duration": 45,
    "start_time": "2023-02-13T20:17:31.467Z"
   },
   {
    "duration": 21,
    "start_time": "2023-02-13T20:17:34.975Z"
   },
   {
    "duration": 46,
    "start_time": "2023-02-13T20:17:36.634Z"
   },
   {
    "duration": 29,
    "start_time": "2023-02-13T20:24:46.368Z"
   },
   {
    "duration": 123,
    "start_time": "2023-02-13T20:24:54.947Z"
   },
   {
    "duration": 123,
    "start_time": "2023-02-13T20:24:59.397Z"
   },
   {
    "duration": 12,
    "start_time": "2023-02-13T20:25:01.456Z"
   },
   {
    "duration": 24,
    "start_time": "2023-02-13T20:25:03.773Z"
   },
   {
    "duration": 97,
    "start_time": "2023-02-13T20:25:09.492Z"
   },
   {
    "duration": 235,
    "start_time": "2023-02-13T20:25:23.706Z"
   },
   {
    "duration": 228,
    "start_time": "2023-02-13T20:25:28.530Z"
   },
   {
    "duration": 233,
    "start_time": "2023-02-13T20:25:35.348Z"
   },
   {
    "duration": 223,
    "start_time": "2023-02-13T20:25:50.828Z"
   },
   {
    "duration": 232,
    "start_time": "2023-02-13T20:26:09.314Z"
   },
   {
    "duration": 59,
    "start_time": "2023-02-14T19:45:47.470Z"
   },
   {
    "duration": 1325,
    "start_time": "2023-02-14T19:45:50.453Z"
   },
   {
    "duration": 1954,
    "start_time": "2023-02-14T19:45:51.781Z"
   },
   {
    "duration": 567,
    "start_time": "2023-02-14T19:45:53.737Z"
   },
   {
    "duration": 304,
    "start_time": "2023-02-14T19:45:54.307Z"
   },
   {
    "duration": 499,
    "start_time": "2023-02-14T19:45:54.613Z"
   },
   {
    "duration": 2,
    "start_time": "2023-02-14T19:45:55.114Z"
   },
   {
    "duration": 112,
    "start_time": "2023-02-14T19:45:55.118Z"
   },
   {
    "duration": 80,
    "start_time": "2023-02-14T19:45:55.231Z"
   },
   {
    "duration": 110,
    "start_time": "2023-02-14T19:45:55.313Z"
   },
   {
    "duration": 422,
    "start_time": "2023-02-14T19:45:55.425Z"
   },
   {
    "duration": 69,
    "start_time": "2023-02-14T19:45:55.848Z"
   },
   {
    "duration": 15,
    "start_time": "2023-02-14T19:46:01.804Z"
   },
   {
    "duration": 80,
    "start_time": "2023-02-14T20:06:24.118Z"
   },
   {
    "duration": 11,
    "start_time": "2023-02-14T20:06:34.822Z"
   },
   {
    "duration": 5,
    "start_time": "2023-02-14T20:07:02.072Z"
   },
   {
    "duration": 6,
    "start_time": "2023-02-14T20:07:09.281Z"
   },
   {
    "duration": 4,
    "start_time": "2023-02-14T20:08:52.322Z"
   },
   {
    "duration": 5,
    "start_time": "2023-02-14T20:08:53.297Z"
   },
   {
    "duration": 3,
    "start_time": "2023-02-14T20:10:47.636Z"
   },
   {
    "duration": 8,
    "start_time": "2023-02-14T20:11:10.109Z"
   },
   {
    "duration": 16,
    "start_time": "2023-02-14T20:11:23.897Z"
   },
   {
    "duration": 9,
    "start_time": "2023-02-14T20:11:29.265Z"
   },
   {
    "duration": 3,
    "start_time": "2023-02-14T20:13:29.248Z"
   },
   {
    "duration": 8,
    "start_time": "2023-02-14T20:13:51.297Z"
   },
   {
    "duration": 11,
    "start_time": "2023-02-14T20:14:18.418Z"
   },
   {
    "duration": 8,
    "start_time": "2023-02-14T20:14:43.793Z"
   },
   {
    "duration": 20,
    "start_time": "2023-02-14T20:14:57.889Z"
   },
   {
    "duration": 5,
    "start_time": "2023-02-14T20:15:07.552Z"
   },
   {
    "duration": 3,
    "start_time": "2023-02-14T20:15:36.225Z"
   },
   {
    "duration": 3,
    "start_time": "2023-02-14T20:15:44.267Z"
   },
   {
    "duration": 3,
    "start_time": "2023-02-14T20:15:45.230Z"
   },
   {
    "duration": 9,
    "start_time": "2023-02-14T20:15:49.612Z"
   },
   {
    "duration": 9,
    "start_time": "2023-02-14T20:15:54.779Z"
   },
   {
    "duration": 78,
    "start_time": "2023-02-14T20:16:04.290Z"
   },
   {
    "duration": 9,
    "start_time": "2023-02-14T20:16:16.067Z"
   },
   {
    "duration": 3,
    "start_time": "2023-02-14T20:16:22.123Z"
   },
   {
    "duration": 3,
    "start_time": "2023-02-14T20:16:23.509Z"
   },
   {
    "duration": 4,
    "start_time": "2023-02-14T20:16:25.274Z"
   },
   {
    "duration": 3,
    "start_time": "2023-02-14T20:16:31.883Z"
   },
   {
    "duration": 4,
    "start_time": "2023-02-14T20:16:32.595Z"
   },
   {
    "duration": 3,
    "start_time": "2023-02-14T20:16:39.219Z"
   },
   {
    "duration": 7,
    "start_time": "2023-02-14T20:16:43.227Z"
   },
   {
    "duration": 6,
    "start_time": "2023-02-14T20:16:47.828Z"
   },
   {
    "duration": 32,
    "start_time": "2023-02-14T20:43:18.821Z"
   },
   {
    "duration": 12,
    "start_time": "2023-02-14T20:45:41.622Z"
   },
   {
    "duration": 10,
    "start_time": "2023-02-14T20:45:53.759Z"
   },
   {
    "duration": 9,
    "start_time": "2023-02-14T20:46:23.182Z"
   },
   {
    "duration": 12,
    "start_time": "2023-02-14T20:46:31.559Z"
   },
   {
    "duration": 8,
    "start_time": "2023-02-14T20:46:32.647Z"
   },
   {
    "duration": 8,
    "start_time": "2023-02-14T20:46:37.407Z"
   },
   {
    "duration": 29,
    "start_time": "2023-02-14T20:47:25.816Z"
   },
   {
    "duration": 6,
    "start_time": "2023-02-14T20:47:30.554Z"
   },
   {
    "duration": 9,
    "start_time": "2023-02-14T20:47:38.414Z"
   },
   {
    "duration": 22,
    "start_time": "2023-02-14T20:47:45.667Z"
   },
   {
    "duration": 4,
    "start_time": "2023-02-14T20:49:11.458Z"
   },
   {
    "duration": 15,
    "start_time": "2023-02-14T20:49:15.114Z"
   },
   {
    "duration": 3,
    "start_time": "2023-02-14T20:49:46.337Z"
   },
   {
    "duration": 4,
    "start_time": "2023-02-14T20:49:51.147Z"
   },
   {
    "duration": 3,
    "start_time": "2023-02-14T20:49:58.172Z"
   },
   {
    "duration": 8,
    "start_time": "2023-02-14T20:50:17.124Z"
   },
   {
    "duration": 27,
    "start_time": "2023-02-14T20:50:20.260Z"
   },
   {
    "duration": 4,
    "start_time": "2023-02-14T20:50:42.262Z"
   },
   {
    "duration": 4,
    "start_time": "2023-02-14T20:50:47.389Z"
   },
   {
    "duration": 9,
    "start_time": "2023-02-14T20:50:50.267Z"
   },
   {
    "duration": 3,
    "start_time": "2023-02-14T20:51:05.068Z"
   },
   {
    "duration": 22,
    "start_time": "2023-02-14T20:51:06.987Z"
   },
   {
    "duration": 5,
    "start_time": "2023-02-14T20:51:18.574Z"
   },
   {
    "duration": 683,
    "start_time": "2023-02-14T20:51:18.581Z"
   },
   {
    "duration": 215,
    "start_time": "2023-02-14T20:51:19.265Z"
   },
   {
    "duration": 129,
    "start_time": "2023-02-14T20:51:19.481Z"
   },
   {
    "duration": 231,
    "start_time": "2023-02-14T20:51:19.611Z"
   },
   {
    "duration": 4,
    "start_time": "2023-02-14T20:51:19.844Z"
   },
   {
    "duration": 50,
    "start_time": "2023-02-14T20:51:22.260Z"
   },
   {
    "duration": 21,
    "start_time": "2023-02-14T20:51:24.004Z"
   },
   {
    "duration": 53,
    "start_time": "2023-02-14T20:51:25.036Z"
   },
   {
    "duration": 26,
    "start_time": "2023-02-14T20:51:27.549Z"
   },
   {
    "duration": 24,
    "start_time": "2023-02-14T20:51:29.595Z"
   },
   {
    "duration": 48,
    "start_time": "2023-02-14T20:51:42.053Z"
   },
   {
    "duration": 199,
    "start_time": "2023-02-14T20:51:47.006Z"
   },
   {
    "duration": 3,
    "start_time": "2023-02-14T20:57:04.108Z"
   },
   {
    "duration": 91,
    "start_time": "2023-02-14T20:58:27.588Z"
   },
   {
    "duration": 3,
    "start_time": "2023-02-14T20:58:48.792Z"
   },
   {
    "duration": 123,
    "start_time": "2023-02-14T20:58:49.509Z"
   },
   {
    "duration": 69,
    "start_time": "2023-02-14T20:59:01.276Z"
   },
   {
    "duration": 3,
    "start_time": "2023-02-14T20:59:46.589Z"
   },
   {
    "duration": 4,
    "start_time": "2023-02-14T21:00:01.688Z"
   },
   {
    "duration": 4,
    "start_time": "2023-02-14T21:00:32.231Z"
   },
   {
    "duration": 4,
    "start_time": "2023-02-14T21:00:44.878Z"
   },
   {
    "duration": 77,
    "start_time": "2023-02-14T21:00:48.528Z"
   },
   {
    "duration": 66,
    "start_time": "2023-02-14T21:01:08.680Z"
   },
   {
    "duration": 72,
    "start_time": "2023-02-14T21:01:12.246Z"
   },
   {
    "duration": 4,
    "start_time": "2023-02-14T21:02:03.257Z"
   },
   {
    "duration": 6,
    "start_time": "2023-02-14T21:02:17.164Z"
   },
   {
    "duration": 5,
    "start_time": "2023-02-14T21:02:31.929Z"
   },
   {
    "duration": 6,
    "start_time": "2023-02-14T21:02:33.945Z"
   },
   {
    "duration": 74,
    "start_time": "2023-02-14T21:03:29.057Z"
   },
   {
    "duration": 5,
    "start_time": "2023-02-14T21:03:32.656Z"
   },
   {
    "duration": 5,
    "start_time": "2023-02-14T21:03:35.521Z"
   },
   {
    "duration": 3,
    "start_time": "2023-02-14T21:03:48.186Z"
   },
   {
    "duration": 6,
    "start_time": "2023-02-14T21:03:52.523Z"
   },
   {
    "duration": 5,
    "start_time": "2023-02-14T21:03:59.753Z"
   },
   {
    "duration": 13,
    "start_time": "2023-02-14T21:04:44.179Z"
   },
   {
    "duration": 34,
    "start_time": "2023-02-14T21:04:59.804Z"
   },
   {
    "duration": 8,
    "start_time": "2023-02-14T21:05:21.179Z"
   },
   {
    "duration": 11,
    "start_time": "2023-02-14T21:05:26.748Z"
   },
   {
    "duration": 4,
    "start_time": "2023-02-14T21:05:31.364Z"
   },
   {
    "duration": 10,
    "start_time": "2023-02-14T21:05:38.794Z"
   },
   {
    "duration": 10,
    "start_time": "2023-02-14T21:08:03.148Z"
   },
   {
    "duration": 5,
    "start_time": "2023-02-14T21:08:06.580Z"
   },
   {
    "duration": 682,
    "start_time": "2023-02-14T21:08:06.587Z"
   },
   {
    "duration": 209,
    "start_time": "2023-02-14T21:08:07.270Z"
   },
   {
    "duration": 120,
    "start_time": "2023-02-14T21:08:07.480Z"
   },
   {
    "duration": 238,
    "start_time": "2023-02-14T21:08:07.602Z"
   },
   {
    "duration": 4,
    "start_time": "2023-02-14T21:08:07.841Z"
   },
   {
    "duration": 69,
    "start_time": "2023-02-14T21:08:07.847Z"
   },
   {
    "duration": 18,
    "start_time": "2023-02-14T21:08:07.917Z"
   },
   {
    "duration": 79,
    "start_time": "2023-02-14T21:08:07.936Z"
   },
   {
    "duration": 27,
    "start_time": "2023-02-14T21:08:08.016Z"
   },
   {
    "duration": 131,
    "start_time": "2023-02-14T21:08:08.045Z"
   },
   {
    "duration": 196,
    "start_time": "2023-02-14T21:08:08.178Z"
   },
   {
    "duration": 9,
    "start_time": "2023-02-14T21:08:08.375Z"
   },
   {
    "duration": 0,
    "start_time": "2023-02-14T21:08:08.386Z"
   },
   {
    "duration": 0,
    "start_time": "2023-02-14T21:08:08.387Z"
   },
   {
    "duration": 10,
    "start_time": "2023-02-14T21:08:24.798Z"
   },
   {
    "duration": 4,
    "start_time": "2023-02-14T21:08:33.646Z"
   },
   {
    "duration": 5,
    "start_time": "2023-02-14T21:08:34.879Z"
   },
   {
    "duration": 5,
    "start_time": "2023-02-14T21:08:36.094Z"
   },
   {
    "duration": 3,
    "start_time": "2023-02-14T21:08:37.359Z"
   },
   {
    "duration": 91,
    "start_time": "2023-02-14T21:09:02.599Z"
   },
   {
    "duration": 4,
    "start_time": "2023-02-14T21:09:06.854Z"
   },
   {
    "duration": 83,
    "start_time": "2023-02-16T14:12:18.707Z"
   },
   {
    "duration": 1790,
    "start_time": "2023-02-16T14:12:21.756Z"
   },
   {
    "duration": 2720,
    "start_time": "2023-02-16T14:12:23.548Z"
   },
   {
    "duration": 236,
    "start_time": "2023-02-16T14:12:26.269Z"
   },
   {
    "duration": 157,
    "start_time": "2023-02-16T14:12:26.506Z"
   },
   {
    "duration": 278,
    "start_time": "2023-02-16T14:12:26.665Z"
   },
   {
    "duration": 12,
    "start_time": "2023-02-16T14:12:26.947Z"
   },
   {
    "duration": 82,
    "start_time": "2023-02-16T14:12:26.969Z"
   },
   {
    "duration": 27,
    "start_time": "2023-02-16T14:12:27.052Z"
   },
   {
    "duration": 82,
    "start_time": "2023-02-16T14:12:27.081Z"
   },
   {
    "duration": 33,
    "start_time": "2023-02-16T14:12:27.164Z"
   },
   {
    "duration": 68,
    "start_time": "2023-02-16T14:12:27.199Z"
   },
   {
    "duration": 305,
    "start_time": "2023-02-16T14:12:27.268Z"
   },
   {
    "duration": 4,
    "start_time": "2023-02-16T14:12:27.575Z"
   },
   {
    "duration": 110,
    "start_time": "2023-02-16T14:12:27.581Z"
   },
   {
    "duration": 0,
    "start_time": "2023-02-16T14:12:27.692Z"
   },
   {
    "duration": 0,
    "start_time": "2023-02-16T14:12:27.693Z"
   },
   {
    "duration": 0,
    "start_time": "2023-02-16T14:12:27.694Z"
   },
   {
    "duration": 10,
    "start_time": "2023-02-16T14:12:40.775Z"
   },
   {
    "duration": 9,
    "start_time": "2023-02-16T14:12:51.751Z"
   },
   {
    "duration": 5,
    "start_time": "2023-02-16T14:12:52.662Z"
   },
   {
    "duration": 11,
    "start_time": "2023-02-16T14:12:56.751Z"
   },
   {
    "duration": 7,
    "start_time": "2023-02-16T14:12:57.806Z"
   },
   {
    "duration": 14,
    "start_time": "2023-02-16T14:12:59.270Z"
   },
   {
    "duration": 5,
    "start_time": "2023-02-16T14:13:21.185Z"
   },
   {
    "duration": 35,
    "start_time": "2023-02-16T14:13:55.304Z"
   },
   {
    "duration": 16,
    "start_time": "2023-02-16T14:14:20.873Z"
   },
   {
    "duration": 17,
    "start_time": "2023-02-16T14:14:26.472Z"
   },
   {
    "duration": 16,
    "start_time": "2023-02-16T14:14:31.052Z"
   },
   {
    "duration": 11,
    "start_time": "2023-02-16T14:14:32.985Z"
   },
   {
    "duration": 11,
    "start_time": "2023-02-16T14:14:34.583Z"
   },
   {
    "duration": 10,
    "start_time": "2023-02-16T14:14:47.468Z"
   },
   {
    "duration": 6,
    "start_time": "2023-02-16T14:14:56.156Z"
   },
   {
    "duration": 26,
    "start_time": "2023-02-16T14:23:47.833Z"
   },
   {
    "duration": 4,
    "start_time": "2023-02-16T14:51:17.204Z"
   },
   {
    "duration": 15,
    "start_time": "2023-02-16T14:51:24.632Z"
   },
   {
    "duration": 7,
    "start_time": "2023-02-16T14:51:36.990Z"
   },
   {
    "duration": 10,
    "start_time": "2023-02-16T14:55:29.474Z"
   },
   {
    "duration": 9,
    "start_time": "2023-02-16T14:55:34.838Z"
   },
   {
    "duration": 7,
    "start_time": "2023-02-16T14:55:38.436Z"
   },
   {
    "duration": 15,
    "start_time": "2023-02-16T14:56:16.228Z"
   },
   {
    "duration": 5,
    "start_time": "2023-02-16T14:57:12.448Z"
   },
   {
    "duration": 9,
    "start_time": "2023-02-16T14:57:32.556Z"
   },
   {
    "duration": 13,
    "start_time": "2023-02-16T14:57:43.354Z"
   },
   {
    "duration": 10,
    "start_time": "2023-02-16T15:00:10.872Z"
   },
   {
    "duration": 11,
    "start_time": "2023-02-16T15:00:19.696Z"
   },
   {
    "duration": 3,
    "start_time": "2023-02-16T15:00:30.193Z"
   },
   {
    "duration": 28,
    "start_time": "2023-02-16T15:00:30.738Z"
   },
   {
    "duration": 7,
    "start_time": "2023-02-16T15:00:38.256Z"
   },
   {
    "duration": 3,
    "start_time": "2023-02-16T15:00:44.165Z"
   },
   {
    "duration": 23,
    "start_time": "2023-02-16T15:00:49.860Z"
   },
   {
    "duration": 12,
    "start_time": "2023-02-16T15:01:06.836Z"
   },
   {
    "duration": 3,
    "start_time": "2023-02-16T15:01:10.353Z"
   },
   {
    "duration": 34,
    "start_time": "2023-02-16T15:01:55.503Z"
   },
   {
    "duration": 3,
    "start_time": "2023-02-16T15:03:11.561Z"
   },
   {
    "duration": 1732,
    "start_time": "2023-02-16T15:03:12.849Z"
   },
   {
    "duration": 4,
    "start_time": "2023-02-16T15:03:44.361Z"
   },
   {
    "duration": 5,
    "start_time": "2023-02-16T15:03:58.343Z"
   },
   {
    "duration": 5,
    "start_time": "2023-02-16T15:03:59.057Z"
   },
   {
    "duration": 4,
    "start_time": "2023-02-16T15:04:04.959Z"
   },
   {
    "duration": 5,
    "start_time": "2023-02-16T15:04:05.633Z"
   },
   {
    "duration": 17,
    "start_time": "2023-02-16T15:04:08.952Z"
   },
   {
    "duration": 5,
    "start_time": "2023-02-16T15:04:12.270Z"
   },
   {
    "duration": 9,
    "start_time": "2023-02-16T15:07:03.364Z"
   },
   {
    "duration": 11,
    "start_time": "2023-02-16T15:07:25.140Z"
   },
   {
    "duration": 2,
    "start_time": "2023-02-16T15:07:30.587Z"
   },
   {
    "duration": 175,
    "start_time": "2023-02-16T15:14:38.236Z"
   },
   {
    "duration": 191,
    "start_time": "2023-02-16T15:14:47.766Z"
   },
   {
    "duration": 173,
    "start_time": "2023-02-16T15:14:52.136Z"
   },
   {
    "duration": 194,
    "start_time": "2023-02-16T15:14:54.102Z"
   },
   {
    "duration": 128,
    "start_time": "2023-02-16T15:14:59.458Z"
   },
   {
    "duration": 150,
    "start_time": "2023-02-16T15:15:03.077Z"
   },
   {
    "duration": 137,
    "start_time": "2023-02-16T15:15:05.557Z"
   },
   {
    "duration": 285,
    "start_time": "2023-02-16T15:15:22.682Z"
   },
   {
    "duration": 193,
    "start_time": "2023-02-16T15:15:28.734Z"
   },
   {
    "duration": 240,
    "start_time": "2023-02-16T15:15:31.440Z"
   },
   {
    "duration": 396,
    "start_time": "2023-02-16T15:15:34.463Z"
   },
   {
    "duration": 2509,
    "start_time": "2023-02-16T15:16:24.569Z"
   },
   {
    "duration": 1737,
    "start_time": "2023-02-16T15:16:29.940Z"
   },
   {
    "duration": 2511,
    "start_time": "2023-02-16T15:16:45.828Z"
   },
   {
    "duration": 3900,
    "start_time": "2023-02-16T15:17:10.868Z"
   },
   {
    "duration": 76,
    "start_time": "2023-02-16T15:21:15.485Z"
   },
   {
    "duration": 32,
    "start_time": "2023-02-16T15:22:03.733Z"
   },
   {
    "duration": 14,
    "start_time": "2023-02-16T15:22:42.656Z"
   },
   {
    "duration": 3085,
    "start_time": "2023-02-16T15:23:21.694Z"
   },
   {
    "duration": 2543,
    "start_time": "2023-02-16T15:23:29.952Z"
   },
   {
    "duration": 1687,
    "start_time": "2023-02-16T15:23:54.444Z"
   },
   {
    "duration": 2725,
    "start_time": "2023-02-16T15:24:24.910Z"
   },
   {
    "duration": 1730,
    "start_time": "2023-02-16T15:25:09.909Z"
   },
   {
    "duration": 1697,
    "start_time": "2023-02-16T15:25:13.238Z"
   },
   {
    "duration": 731,
    "start_time": "2023-02-16T15:25:35.875Z"
   },
   {
    "duration": 11,
    "start_time": "2023-02-16T15:27:35.666Z"
   },
   {
    "duration": 860,
    "start_time": "2023-02-16T15:28:26.175Z"
   },
   {
    "duration": 289,
    "start_time": "2023-02-16T15:28:31.030Z"
   },
   {
    "duration": 668,
    "start_time": "2023-02-16T15:28:39.726Z"
   },
   {
    "duration": 897,
    "start_time": "2023-02-16T15:28:49.458Z"
   },
   {
    "duration": 105,
    "start_time": "2023-02-16T15:29:08.515Z"
   },
   {
    "duration": 96,
    "start_time": "2023-02-16T15:29:29.639Z"
   },
   {
    "duration": 26,
    "start_time": "2023-02-16T15:29:33.044Z"
   },
   {
    "duration": 10,
    "start_time": "2023-02-16T15:29:37.060Z"
   },
   {
    "duration": 4,
    "start_time": "2023-02-16T15:29:51.386Z"
   },
   {
    "duration": 9,
    "start_time": "2023-02-16T15:29:54.832Z"
   },
   {
    "duration": 8,
    "start_time": "2023-02-16T15:29:55.655Z"
   },
   {
    "duration": 1620,
    "start_time": "2023-02-16T15:29:59.878Z"
   },
   {
    "duration": 2655,
    "start_time": "2023-02-16T15:30:01.500Z"
   },
   {
    "duration": 282,
    "start_time": "2023-02-16T15:30:04.157Z"
   },
   {
    "duration": 153,
    "start_time": "2023-02-16T15:30:04.448Z"
   },
   {
    "duration": 276,
    "start_time": "2023-02-16T15:30:04.603Z"
   },
   {
    "duration": 4,
    "start_time": "2023-02-16T15:30:04.880Z"
   },
   {
    "duration": 54,
    "start_time": "2023-02-16T15:30:04.885Z"
   },
   {
    "duration": 26,
    "start_time": "2023-02-16T15:30:04.940Z"
   },
   {
    "duration": 68,
    "start_time": "2023-02-16T15:30:04.967Z"
   },
   {
    "duration": 34,
    "start_time": "2023-02-16T15:30:05.045Z"
   },
   {
    "duration": 76,
    "start_time": "2023-02-16T15:30:05.081Z"
   },
   {
    "duration": 270,
    "start_time": "2023-02-16T15:30:05.160Z"
   },
   {
    "duration": 17,
    "start_time": "2023-02-16T15:30:05.437Z"
   },
   {
    "duration": 15,
    "start_time": "2023-02-16T15:30:05.456Z"
   },
   {
    "duration": 5,
    "start_time": "2023-02-16T15:30:05.473Z"
   },
   {
    "duration": 4,
    "start_time": "2023-02-16T15:30:05.480Z"
   },
   {
    "duration": 5,
    "start_time": "2023-02-16T15:30:05.486Z"
   },
   {
    "duration": 9,
    "start_time": "2023-02-16T15:30:05.493Z"
   },
   {
    "duration": 58,
    "start_time": "2023-02-16T15:30:05.504Z"
   },
   {
    "duration": 6,
    "start_time": "2023-02-16T15:30:05.564Z"
   },
   {
    "duration": 8,
    "start_time": "2023-02-16T15:30:05.572Z"
   },
   {
    "duration": 24375,
    "start_time": "2023-02-16T15:30:07.280Z"
   },
   {
    "duration": 1310,
    "start_time": "2023-02-16T15:30:32.890Z"
   },
   {
    "duration": 1541,
    "start_time": "2023-02-16T15:30:40.986Z"
   },
   {
    "duration": 1187,
    "start_time": "2023-02-16T15:30:48.848Z"
   },
   {
    "duration": 789,
    "start_time": "2023-02-16T15:30:52.357Z"
   },
   {
    "duration": 1087,
    "start_time": "2023-02-16T15:30:55.941Z"
   },
   {
    "duration": 774,
    "start_time": "2023-02-16T15:31:00.188Z"
   },
   {
    "duration": 393,
    "start_time": "2023-02-16T15:31:16.981Z"
   },
   {
    "duration": 23955,
    "start_time": "2023-02-16T15:31:25.232Z"
   },
   {
    "duration": 735,
    "start_time": "2023-02-16T15:31:54.112Z"
   },
   {
    "duration": 1408,
    "start_time": "2023-02-16T15:32:54.764Z"
   },
   {
    "duration": 755,
    "start_time": "2023-02-16T15:33:05.507Z"
   },
   {
    "duration": 8,
    "start_time": "2023-02-16T15:33:45.235Z"
   },
   {
    "duration": 14,
    "start_time": "2023-02-16T15:34:26.868Z"
   },
   {
    "duration": 10,
    "start_time": "2023-02-16T15:35:09.141Z"
   },
   {
    "duration": 17,
    "start_time": "2023-02-16T15:35:14.035Z"
   },
   {
    "duration": 6,
    "start_time": "2023-02-16T15:35:20.686Z"
   },
   {
    "duration": 7,
    "start_time": "2023-02-16T15:35:52.336Z"
   },
   {
    "duration": 624,
    "start_time": "2023-02-16T15:38:17.672Z"
   },
   {
    "duration": 700,
    "start_time": "2023-02-16T15:38:31.239Z"
   },
   {
    "duration": 998,
    "start_time": "2023-02-16T15:38:38.747Z"
   },
   {
    "duration": 359,
    "start_time": "2023-02-16T15:39:16.569Z"
   },
   {
    "duration": 258,
    "start_time": "2023-02-16T15:39:50.144Z"
   },
   {
    "duration": 8,
    "start_time": "2023-02-16T15:39:52.637Z"
   },
   {
    "duration": 260,
    "start_time": "2023-02-16T15:39:53.540Z"
   },
   {
    "duration": 18,
    "start_time": "2023-02-16T15:40:52.553Z"
   },
   {
    "duration": 5,
    "start_time": "2023-02-16T15:41:24.852Z"
   },
   {
    "duration": 491,
    "start_time": "2023-02-16T15:41:26.472Z"
   },
   {
    "duration": 107,
    "start_time": "2023-02-16T15:41:51.536Z"
   },
   {
    "duration": 22,
    "start_time": "2023-02-16T15:41:55.137Z"
   },
   {
    "duration": 23,
    "start_time": "2023-02-16T15:42:02.343Z"
   },
   {
    "duration": 14,
    "start_time": "2023-02-16T15:42:15.290Z"
   },
   {
    "duration": 15,
    "start_time": "2023-02-16T15:42:28.578Z"
   },
   {
    "duration": 193,
    "start_time": "2023-02-16T15:42:33.536Z"
   },
   {
    "duration": 201,
    "start_time": "2023-02-16T15:43:09.491Z"
   },
   {
    "duration": 8,
    "start_time": "2023-02-16T15:43:15.847Z"
   },
   {
    "duration": 16,
    "start_time": "2023-02-16T15:43:31.038Z"
   },
   {
    "duration": 15,
    "start_time": "2023-02-16T15:43:44.542Z"
   },
   {
    "duration": 9,
    "start_time": "2023-02-16T15:43:50.438Z"
   },
   {
    "duration": 5,
    "start_time": "2023-02-16T15:43:54.453Z"
   },
   {
    "duration": 12,
    "start_time": "2023-02-16T15:43:58.894Z"
   },
   {
    "duration": 5,
    "start_time": "2023-02-16T15:44:04.057Z"
   },
   {
    "duration": 26,
    "start_time": "2023-02-16T15:44:07.031Z"
   },
   {
    "duration": 34,
    "start_time": "2023-02-16T15:44:10.726Z"
   },
   {
    "duration": 6,
    "start_time": "2023-02-16T15:44:31.558Z"
   },
   {
    "duration": 1546,
    "start_time": "2023-02-16T15:44:36.295Z"
   },
   {
    "duration": 787,
    "start_time": "2023-02-16T15:44:46.452Z"
   },
   {
    "duration": 637,
    "start_time": "2023-02-16T15:45:29.161Z"
   },
   {
    "duration": 811,
    "start_time": "2023-02-16T15:45:37.867Z"
   },
   {
    "duration": 776,
    "start_time": "2023-02-16T15:45:48.408Z"
   },
   {
    "duration": 785,
    "start_time": "2023-02-16T15:45:59.950Z"
   },
   {
    "duration": 1413,
    "start_time": "2023-02-16T15:46:26.164Z"
   },
   {
    "duration": 720,
    "start_time": "2023-02-16T15:46:34.251Z"
   },
   {
    "duration": 1375,
    "start_time": "2023-02-16T15:47:02.380Z"
   },
   {
    "duration": 1252,
    "start_time": "2023-02-16T15:47:41.039Z"
   },
   {
    "duration": 1228,
    "start_time": "2023-02-16T15:48:06.736Z"
   },
   {
    "duration": 809,
    "start_time": "2023-02-16T15:48:14.338Z"
   },
   {
    "duration": 729,
    "start_time": "2023-02-16T15:48:22.302Z"
   },
   {
    "duration": 867,
    "start_time": "2023-02-16T15:48:32.536Z"
   },
   {
    "duration": 786,
    "start_time": "2023-02-16T15:48:42.344Z"
   },
   {
    "duration": 965,
    "start_time": "2023-02-16T15:48:54.876Z"
   },
   {
    "duration": 757,
    "start_time": "2023-02-16T15:49:05.303Z"
   },
   {
    "duration": 935,
    "start_time": "2023-02-16T15:50:00.031Z"
   },
   {
    "duration": 12,
    "start_time": "2023-02-16T15:51:44.951Z"
   },
   {
    "duration": 776,
    "start_time": "2023-02-16T15:51:45.604Z"
   },
   {
    "duration": 943,
    "start_time": "2023-02-16T15:55:54.942Z"
   },
   {
    "duration": 804,
    "start_time": "2023-02-16T15:56:28.074Z"
   },
   {
    "duration": 922,
    "start_time": "2023-02-16T15:59:20.912Z"
   },
   {
    "duration": 669,
    "start_time": "2023-02-16T16:01:42.161Z"
   },
   {
    "duration": 122,
    "start_time": "2023-02-16T16:03:06.339Z"
   },
   {
    "duration": 631,
    "start_time": "2023-02-16T16:07:01.326Z"
   },
   {
    "duration": 901,
    "start_time": "2023-02-16T16:08:51.348Z"
   },
   {
    "duration": 647,
    "start_time": "2023-02-16T16:09:08.247Z"
   },
   {
    "duration": 21,
    "start_time": "2023-02-16T16:23:27.929Z"
   },
   {
    "duration": 315,
    "start_time": "2023-02-16T16:24:44.421Z"
   },
   {
    "duration": 537,
    "start_time": "2023-02-16T16:24:57.141Z"
   },
   {
    "duration": 306,
    "start_time": "2023-02-16T16:25:02.682Z"
   },
   {
    "duration": 419,
    "start_time": "2023-02-16T16:25:06.634Z"
   },
   {
    "duration": 323,
    "start_time": "2023-02-16T16:25:10.245Z"
   },
   {
    "duration": 449,
    "start_time": "2023-02-16T16:25:12.780Z"
   },
   {
    "duration": 592,
    "start_time": "2023-02-16T16:25:14.715Z"
   },
   {
    "duration": 436,
    "start_time": "2023-02-16T16:25:36.890Z"
   },
   {
    "duration": 914,
    "start_time": "2023-02-16T16:26:16.170Z"
   },
   {
    "duration": 1187,
    "start_time": "2023-02-16T16:26:40.528Z"
   },
   {
    "duration": 418,
    "start_time": "2023-02-16T16:26:50.055Z"
   },
   {
    "duration": 435,
    "start_time": "2023-02-16T16:27:01.706Z"
   },
   {
    "duration": 464,
    "start_time": "2023-02-16T16:27:07.507Z"
   },
   {
    "duration": 624,
    "start_time": "2023-02-16T16:27:35.793Z"
   },
   {
    "duration": 482,
    "start_time": "2023-02-16T16:28:08.292Z"
   },
   {
    "duration": 486,
    "start_time": "2023-02-16T16:28:15.199Z"
   },
   {
    "duration": 436,
    "start_time": "2023-02-16T16:28:20.615Z"
   },
   {
    "duration": 704,
    "start_time": "2023-02-16T16:29:37.535Z"
   },
   {
    "duration": 437,
    "start_time": "2023-02-16T16:29:49.213Z"
   },
   {
    "duration": 430,
    "start_time": "2023-02-16T16:31:49.728Z"
   },
   {
    "duration": 441,
    "start_time": "2023-02-16T16:31:54.696Z"
   },
   {
    "duration": 422,
    "start_time": "2023-02-16T16:32:35.951Z"
   },
   {
    "duration": 715,
    "start_time": "2023-02-16T16:32:50.205Z"
   },
   {
    "duration": 428,
    "start_time": "2023-02-16T16:33:00.794Z"
   },
   {
    "duration": 4,
    "start_time": "2023-02-16T17:00:26.477Z"
   },
   {
    "duration": 10,
    "start_time": "2023-02-16T17:00:33.199Z"
   },
   {
    "duration": 5,
    "start_time": "2023-02-16T17:00:38.701Z"
   },
   {
    "duration": 11,
    "start_time": "2023-02-16T17:01:38.845Z"
   },
   {
    "duration": 12,
    "start_time": "2023-02-16T17:01:43.312Z"
   },
   {
    "duration": 12,
    "start_time": "2023-02-16T17:01:46.572Z"
   },
   {
    "duration": 11,
    "start_time": "2023-02-16T17:01:49.111Z"
   },
   {
    "duration": 13,
    "start_time": "2023-02-16T17:01:52.591Z"
   },
   {
    "duration": 9,
    "start_time": "2023-02-16T17:01:55.502Z"
   },
   {
    "duration": 3,
    "start_time": "2023-02-16T17:02:01.906Z"
   },
   {
    "duration": 28,
    "start_time": "2023-02-16T17:11:30.780Z"
   },
   {
    "duration": 3,
    "start_time": "2023-02-16T17:11:44.471Z"
   },
   {
    "duration": 19,
    "start_time": "2023-02-16T17:11:52.845Z"
   },
   {
    "duration": 25,
    "start_time": "2023-02-16T17:11:55.098Z"
   },
   {
    "duration": 19,
    "start_time": "2023-02-16T17:11:59.870Z"
   },
   {
    "duration": 8,
    "start_time": "2023-02-16T17:12:04.207Z"
   },
   {
    "duration": 8,
    "start_time": "2023-02-16T17:12:15.929Z"
   },
   {
    "duration": 435,
    "start_time": "2023-02-16T17:14:13.465Z"
   },
   {
    "duration": 5,
    "start_time": "2023-02-16T17:14:52.521Z"
   },
   {
    "duration": 8,
    "start_time": "2023-02-16T17:14:55.697Z"
   },
   {
    "duration": 21,
    "start_time": "2023-02-16T17:15:01.306Z"
   },
   {
    "duration": 12,
    "start_time": "2023-02-16T17:15:07.761Z"
   },
   {
    "duration": 11,
    "start_time": "2023-02-16T17:15:36.825Z"
   },
   {
    "duration": 577,
    "start_time": "2023-02-16T17:15:56.378Z"
   },
   {
    "duration": 565,
    "start_time": "2023-02-16T17:16:06.066Z"
   },
   {
    "duration": 896,
    "start_time": "2023-02-16T17:16:14.652Z"
   },
   {
    "duration": 569,
    "start_time": "2023-02-16T17:17:38.084Z"
   },
   {
    "duration": 576,
    "start_time": "2023-02-16T17:17:41.972Z"
   },
   {
    "duration": 94,
    "start_time": "2023-02-16T17:32:49.243Z"
   },
   {
    "duration": 75,
    "start_time": "2023-02-16T17:32:57.926Z"
   },
   {
    "duration": 83,
    "start_time": "2023-02-16T17:33:13.474Z"
   },
   {
    "duration": 6,
    "start_time": "2023-02-16T17:33:24.127Z"
   },
   {
    "duration": 4,
    "start_time": "2023-02-16T17:47:27.108Z"
   },
   {
    "duration": 80,
    "start_time": "2023-02-16T17:47:27.792Z"
   },
   {
    "duration": 70,
    "start_time": "2023-02-16T17:47:34.792Z"
   },
   {
    "duration": 79,
    "start_time": "2023-02-16T17:47:41.535Z"
   },
   {
    "duration": 74,
    "start_time": "2023-02-16T17:47:55.346Z"
   },
   {
    "duration": 73,
    "start_time": "2023-02-16T17:48:01.327Z"
   },
   {
    "duration": 3,
    "start_time": "2023-02-16T17:48:13.272Z"
   },
   {
    "duration": 1444,
    "start_time": "2023-02-16T17:53:00.306Z"
   },
   {
    "duration": 6,
    "start_time": "2023-02-16T17:53:08.390Z"
   },
   {
    "duration": 1433,
    "start_time": "2023-02-16T17:53:10.436Z"
   },
   {
    "duration": 8,
    "start_time": "2023-02-16T17:53:16.709Z"
   },
   {
    "duration": 4,
    "start_time": "2023-02-16T19:10:25.159Z"
   },
   {
    "duration": 8,
    "start_time": "2023-02-16T19:10:28.838Z"
   },
   {
    "duration": 1626,
    "start_time": "2023-02-16T19:10:31.083Z"
   },
   {
    "duration": 6,
    "start_time": "2023-02-16T19:10:44.566Z"
   },
   {
    "duration": 16,
    "start_time": "2023-02-16T19:10:49.634Z"
   },
   {
    "duration": 40,
    "start_time": "2023-02-16T19:10:58.355Z"
   },
   {
    "duration": 17,
    "start_time": "2023-02-16T19:18:17.331Z"
   },
   {
    "duration": 765,
    "start_time": "2023-02-16T19:21:01.606Z"
   },
   {
    "duration": 2005,
    "start_time": "2023-02-16T19:21:29.224Z"
   },
   {
    "duration": 7452,
    "start_time": "2023-02-16T19:22:11.678Z"
   },
   {
    "duration": 248,
    "start_time": "2023-02-16T19:22:50.169Z"
   },
   {
    "duration": 268,
    "start_time": "2023-02-16T19:23:02.448Z"
   },
   {
    "duration": 180,
    "start_time": "2023-02-16T19:23:06.849Z"
   },
   {
    "duration": 432,
    "start_time": "2023-02-16T19:23:10.398Z"
   },
   {
    "duration": 142,
    "start_time": "2023-02-16T19:23:13.874Z"
   },
   {
    "duration": 730,
    "start_time": "2023-02-16T19:23:17.598Z"
   },
   {
    "duration": 273,
    "start_time": "2023-02-16T19:23:20.854Z"
   },
   {
    "duration": 499,
    "start_time": "2023-02-16T19:23:24.425Z"
   },
   {
    "duration": 162,
    "start_time": "2023-02-16T19:23:27.966Z"
   },
   {
    "duration": 9,
    "start_time": "2023-02-16T19:26:20.154Z"
   },
   {
    "duration": 5385,
    "start_time": "2023-02-16T19:26:34.332Z"
   },
   {
    "duration": 14673,
    "start_time": "2023-02-16T19:27:11.142Z"
   },
   {
    "duration": 8,
    "start_time": "2023-02-16T19:32:09.650Z"
   },
   {
    "duration": 10,
    "start_time": "2023-02-16T19:36:17.875Z"
   },
   {
    "duration": 39,
    "start_time": "2023-02-16T19:37:09.405Z"
   },
   {
    "duration": 6,
    "start_time": "2023-02-16T19:37:40.334Z"
   },
   {
    "duration": 4,
    "start_time": "2023-02-16T19:37:44.430Z"
   },
   {
    "duration": 13,
    "start_time": "2023-02-16T19:37:46.250Z"
   },
   {
    "duration": 125,
    "start_time": "2023-02-16T19:38:38.965Z"
   },
   {
    "duration": 103,
    "start_time": "2023-02-16T19:38:53.892Z"
   },
   {
    "duration": 106,
    "start_time": "2023-02-16T19:39:11.635Z"
   },
   {
    "duration": 1527,
    "start_time": "2023-02-16T19:39:43.043Z"
   },
   {
    "duration": 1282,
    "start_time": "2023-02-16T19:41:26.835Z"
   },
   {
    "duration": 1977,
    "start_time": "2023-02-16T19:41:32.471Z"
   },
   {
    "duration": 16806,
    "start_time": "2023-02-16T19:41:46.166Z"
   },
   {
    "duration": 1472,
    "start_time": "2023-02-16T19:43:30.663Z"
   },
   {
    "duration": 4,
    "start_time": "2023-02-16T19:43:51.469Z"
   },
   {
    "duration": 3,
    "start_time": "2023-02-16T19:43:52.486Z"
   },
   {
    "duration": 1923,
    "start_time": "2023-02-16T19:43:53.729Z"
   },
   {
    "duration": 3,
    "start_time": "2023-02-16T19:44:20.965Z"
   },
   {
    "duration": 4,
    "start_time": "2023-02-16T19:44:22.241Z"
   },
   {
    "duration": 3032,
    "start_time": "2023-02-16T19:44:23.536Z"
   },
   {
    "duration": 11,
    "start_time": "2023-02-16T19:52:16.048Z"
   },
   {
    "duration": 4,
    "start_time": "2023-02-16T19:52:16.890Z"
   },
   {
    "duration": 1064,
    "start_time": "2023-02-16T19:52:19.363Z"
   },
   {
    "duration": 1590,
    "start_time": "2023-02-16T19:52:31.037Z"
   },
   {
    "duration": 13,
    "start_time": "2023-02-16T19:52:35.170Z"
   },
   {
    "duration": 1389,
    "start_time": "2023-02-16T19:56:07.654Z"
   },
   {
    "duration": 4,
    "start_time": "2023-02-16T19:57:11.887Z"
   },
   {
    "duration": 1431,
    "start_time": "2023-02-16T19:57:14.849Z"
   },
   {
    "duration": 4,
    "start_time": "2023-02-16T19:57:25.757Z"
   },
   {
    "duration": 12,
    "start_time": "2023-02-16T19:57:29.437Z"
   },
   {
    "duration": 5,
    "start_time": "2023-02-16T19:58:01.328Z"
   },
   {
    "duration": 1401,
    "start_time": "2023-02-16T19:58:03.392Z"
   },
   {
    "duration": 98,
    "start_time": "2023-02-16T19:58:21.799Z"
   },
   {
    "duration": 3,
    "start_time": "2023-02-16T19:58:38.593Z"
   },
   {
    "duration": 7,
    "start_time": "2023-02-16T19:58:42.337Z"
   },
   {
    "duration": 3,
    "start_time": "2023-02-16T19:59:11.131Z"
   },
   {
    "duration": 6,
    "start_time": "2023-02-16T19:59:13.761Z"
   },
   {
    "duration": 22,
    "start_time": "2023-02-16T19:59:33.705Z"
   },
   {
    "duration": 8,
    "start_time": "2023-02-16T19:59:43.029Z"
   },
   {
    "duration": 9,
    "start_time": "2023-02-16T20:00:16.046Z"
   },
   {
    "duration": 6,
    "start_time": "2023-02-16T20:00:19.872Z"
   },
   {
    "duration": 7,
    "start_time": "2023-02-16T20:00:21.554Z"
   },
   {
    "duration": 1465,
    "start_time": "2023-02-16T20:01:33.109Z"
   },
   {
    "duration": 13,
    "start_time": "2023-02-16T20:01:50.028Z"
   },
   {
    "duration": 8,
    "start_time": "2023-02-16T20:02:05.932Z"
   },
   {
    "duration": 325,
    "start_time": "2023-02-16T20:02:40.443Z"
   },
   {
    "duration": 4,
    "start_time": "2023-02-16T20:02:44.283Z"
   },
   {
    "duration": 2,
    "start_time": "2023-02-16T20:02:44.773Z"
   },
   {
    "duration": 71,
    "start_time": "2023-02-16T20:02:46.068Z"
   },
   {
    "duration": 198,
    "start_time": "2023-02-16T20:03:11.933Z"
   },
   {
    "duration": 191,
    "start_time": "2023-02-16T20:03:35.846Z"
   },
   {
    "duration": 12100,
    "start_time": "2023-02-16T20:04:37.837Z"
   },
   {
    "duration": 11,
    "start_time": "2023-02-16T20:09:46.190Z"
   },
   {
    "duration": 9248,
    "start_time": "2023-02-16T20:10:52.436Z"
   },
   {
    "duration": 9112,
    "start_time": "2023-02-16T20:11:22.134Z"
   },
   {
    "duration": 9294,
    "start_time": "2023-02-16T20:11:44.832Z"
   },
   {
    "duration": 4256,
    "start_time": "2023-02-16T20:15:30.881Z"
   },
   {
    "duration": 9642,
    "start_time": "2023-02-16T20:15:51.375Z"
   },
   {
    "duration": 9657,
    "start_time": "2023-02-16T20:16:03.368Z"
   },
   {
    "duration": 9705,
    "start_time": "2023-02-16T20:16:19.001Z"
   },
   {
    "duration": 60302,
    "start_time": "2023-02-16T20:16:28.708Z"
   },
   {
    "duration": 790,
    "start_time": "2023-02-16T20:18:36.883Z"
   },
   {
    "duration": 17550,
    "start_time": "2023-02-16T20:18:45.983Z"
   },
   {
    "duration": 57352,
    "start_time": "2023-02-16T20:19:07.130Z"
   },
   {
    "duration": 1319,
    "start_time": "2023-02-16T20:22:09.861Z"
   },
   {
    "duration": 24133,
    "start_time": "2023-02-16T20:22:34.872Z"
   },
   {
    "duration": 24088,
    "start_time": "2023-02-16T20:23:06.982Z"
   },
   {
    "duration": 122456,
    "start_time": "2023-02-16T20:24:12.826Z"
   },
   {
    "duration": 10324,
    "start_time": "2023-02-16T20:38:34.645Z"
   },
   {
    "duration": 14136,
    "start_time": "2023-02-16T20:38:44.971Z"
   },
   {
    "duration": 4470,
    "start_time": "2023-02-16T20:38:59.109Z"
   },
   {
    "duration": 3677,
    "start_time": "2023-02-16T20:39:03.581Z"
   },
   {
    "duration": 9101,
    "start_time": "2023-02-16T20:39:26.698Z"
   },
   {
    "duration": 57592,
    "start_time": "2023-02-16T20:40:36.194Z"
   },
   {
    "duration": 2651,
    "start_time": "2023-02-16T20:45:52.949Z"
   },
   {
    "duration": 0,
    "start_time": "2023-02-16T20:45:55.602Z"
   },
   {
    "duration": 4,
    "start_time": "2023-02-16T20:46:00.178Z"
   },
   {
    "duration": 122537,
    "start_time": "2023-02-16T20:50:07.798Z"
   },
   {
    "duration": 129,
    "start_time": "2023-02-17T11:47:33.492Z"
   },
   {
    "duration": 1743,
    "start_time": "2023-02-17T11:47:38.014Z"
   },
   {
    "duration": 1926,
    "start_time": "2023-02-17T11:47:39.759Z"
   },
   {
    "duration": 260,
    "start_time": "2023-02-17T11:47:41.687Z"
   },
   {
    "duration": 137,
    "start_time": "2023-02-17T11:47:41.949Z"
   },
   {
    "duration": 272,
    "start_time": "2023-02-17T11:47:42.088Z"
   },
   {
    "duration": 4,
    "start_time": "2023-02-17T11:47:42.362Z"
   },
   {
    "duration": 76,
    "start_time": "2023-02-17T11:47:42.371Z"
   },
   {
    "duration": 20,
    "start_time": "2023-02-17T11:47:42.448Z"
   },
   {
    "duration": 73,
    "start_time": "2023-02-17T11:47:42.470Z"
   },
   {
    "duration": 50,
    "start_time": "2023-02-17T11:47:42.547Z"
   },
   {
    "duration": 53,
    "start_time": "2023-02-17T11:47:42.599Z"
   },
   {
    "duration": 226,
    "start_time": "2023-02-17T11:47:42.654Z"
   },
   {
    "duration": 4,
    "start_time": "2023-02-17T11:47:42.882Z"
   },
   {
    "duration": 5,
    "start_time": "2023-02-17T11:47:42.895Z"
   },
   {
    "duration": 7,
    "start_time": "2023-02-17T11:47:42.902Z"
   },
   {
    "duration": 5,
    "start_time": "2023-02-17T11:47:42.911Z"
   },
   {
    "duration": 5,
    "start_time": "2023-02-17T11:47:42.918Z"
   },
   {
    "duration": 8,
    "start_time": "2023-02-17T11:47:42.924Z"
   },
   {
    "duration": 6,
    "start_time": "2023-02-17T11:47:42.934Z"
   },
   {
    "duration": 935,
    "start_time": "2023-02-17T11:47:42.942Z"
   },
   {
    "duration": 634,
    "start_time": "2023-02-17T11:47:43.880Z"
   },
   {
    "duration": 906,
    "start_time": "2023-02-17T11:47:44.516Z"
   },
   {
    "duration": 638,
    "start_time": "2023-02-17T11:47:45.424Z"
   },
   {
    "duration": 771,
    "start_time": "2023-02-17T11:47:46.064Z"
   },
   {
    "duration": 792,
    "start_time": "2023-02-17T11:47:46.837Z"
   },
   {
    "duration": 479,
    "start_time": "2023-02-17T11:47:47.631Z"
   },
   {
    "duration": 478,
    "start_time": "2023-02-17T11:47:48.111Z"
   },
   {
    "duration": 586,
    "start_time": "2023-02-17T11:47:48.595Z"
   },
   {
    "duration": 490,
    "start_time": "2023-02-17T11:47:49.183Z"
   },
   {
    "duration": 3,
    "start_time": "2023-02-17T11:47:49.675Z"
   },
   {
    "duration": 16,
    "start_time": "2023-02-17T11:47:49.680Z"
   },
   {
    "duration": 19,
    "start_time": "2023-02-17T11:47:49.697Z"
   },
   {
    "duration": 637,
    "start_time": "2023-02-17T11:47:49.718Z"
   },
   {
    "duration": 4,
    "start_time": "2023-02-17T11:47:50.357Z"
   },
   {
    "duration": 11,
    "start_time": "2023-02-17T11:47:50.362Z"
   },
   {
    "duration": 20,
    "start_time": "2023-02-17T11:47:50.375Z"
   },
   {
    "duration": 15,
    "start_time": "2023-02-17T11:47:50.397Z"
   },
   {
    "duration": 383,
    "start_time": "2023-02-17T11:47:50.414Z"
   },
   {
    "duration": 3306,
    "start_time": "2023-02-17T11:47:50.799Z"
   },
   {
    "duration": 9534,
    "start_time": "2023-02-17T11:47:54.108Z"
   },
   {
    "duration": 52884,
    "start_time": "2023-02-17T11:48:03.644Z"
   },
   {
    "duration": 115718,
    "start_time": "2023-02-17T11:48:56.530Z"
   },
   {
    "duration": 719670,
    "start_time": "2023-02-17T11:50:56.270Z"
   },
   {
    "duration": 97,
    "start_time": "2023-02-17T13:46:29.617Z"
   },
   {
    "duration": 45,
    "start_time": "2023-02-17T13:49:09.485Z"
   },
   {
    "duration": 1594,
    "start_time": "2023-02-17T13:49:20.514Z"
   },
   {
    "duration": 1895,
    "start_time": "2023-02-17T13:49:22.110Z"
   },
   {
    "duration": 281,
    "start_time": "2023-02-17T13:49:24.007Z"
   },
   {
    "duration": 155,
    "start_time": "2023-02-17T13:49:24.290Z"
   },
   {
    "duration": 261,
    "start_time": "2023-02-17T13:49:24.448Z"
   },
   {
    "duration": 3,
    "start_time": "2023-02-17T13:49:24.711Z"
   },
   {
    "duration": 65,
    "start_time": "2023-02-17T13:49:24.716Z"
   },
   {
    "duration": 30,
    "start_time": "2023-02-17T13:49:24.783Z"
   },
   {
    "duration": 50,
    "start_time": "2023-02-17T13:49:24.815Z"
   },
   {
    "duration": 50,
    "start_time": "2023-02-17T13:49:24.867Z"
   },
   {
    "duration": 53,
    "start_time": "2023-02-17T13:49:24.919Z"
   },
   {
    "duration": 220,
    "start_time": "2023-02-17T13:49:24.974Z"
   },
   {
    "duration": 8,
    "start_time": "2023-02-17T13:49:25.196Z"
   },
   {
    "duration": 21,
    "start_time": "2023-02-17T13:49:25.207Z"
   },
   {
    "duration": 27,
    "start_time": "2023-02-17T13:49:25.229Z"
   },
   {
    "duration": 7,
    "start_time": "2023-02-17T13:49:25.259Z"
   },
   {
    "duration": 5,
    "start_time": "2023-02-17T13:49:25.268Z"
   },
   {
    "duration": 9,
    "start_time": "2023-02-17T13:49:25.275Z"
   },
   {
    "duration": 5,
    "start_time": "2023-02-17T13:49:25.286Z"
   },
   {
    "duration": 846,
    "start_time": "2023-02-17T13:49:25.293Z"
   },
   {
    "duration": 601,
    "start_time": "2023-02-17T13:49:26.141Z"
   },
   {
    "duration": 893,
    "start_time": "2023-02-17T13:49:26.744Z"
   },
   {
    "duration": 658,
    "start_time": "2023-02-17T13:49:27.639Z"
   },
   {
    "duration": 805,
    "start_time": "2023-02-17T13:49:28.298Z"
   },
   {
    "duration": 819,
    "start_time": "2023-02-17T13:49:29.105Z"
   },
   {
    "duration": 468,
    "start_time": "2023-02-17T13:49:29.926Z"
   },
   {
    "duration": 510,
    "start_time": "2023-02-17T13:49:30.403Z"
   },
   {
    "duration": 605,
    "start_time": "2023-02-17T13:49:30.916Z"
   },
   {
    "duration": 499,
    "start_time": "2023-02-17T13:49:31.523Z"
   },
   {
    "duration": 3,
    "start_time": "2023-02-17T13:49:32.024Z"
   },
   {
    "duration": 10,
    "start_time": "2023-02-17T13:49:32.029Z"
   },
   {
    "duration": 12,
    "start_time": "2023-02-17T13:49:32.041Z"
   },
   {
    "duration": 640,
    "start_time": "2023-02-17T13:49:32.055Z"
   },
   {
    "duration": 4,
    "start_time": "2023-02-17T13:49:32.702Z"
   },
   {
    "duration": 9,
    "start_time": "2023-02-17T13:49:32.708Z"
   },
   {
    "duration": 10,
    "start_time": "2023-02-17T13:49:32.719Z"
   },
   {
    "duration": 16,
    "start_time": "2023-02-17T13:49:32.730Z"
   },
   {
    "duration": 356,
    "start_time": "2023-02-17T13:49:32.747Z"
   },
   {
    "duration": 2407,
    "start_time": "2023-02-17T13:49:33.105Z"
   },
   {
    "duration": 7767,
    "start_time": "2023-02-17T13:49:35.514Z"
   },
   {
    "duration": 48212,
    "start_time": "2023-02-17T13:49:43.285Z"
   },
   {
    "duration": 102013,
    "start_time": "2023-02-17T13:50:31.503Z"
   },
   {
    "duration": 41995,
    "start_time": "2023-02-17T13:52:13.518Z"
   },
   {
    "duration": 55,
    "start_time": "2023-02-17T13:52:58.757Z"
   },
   {
    "duration": 12,
    "start_time": "2023-02-17T13:53:08.290Z"
   },
   {
    "duration": 17,
    "start_time": "2023-02-17T13:53:09.452Z"
   },
   {
    "duration": 5,
    "start_time": "2023-02-17T13:53:24.493Z"
   },
   {
    "duration": 4,
    "start_time": "2023-02-17T13:53:27.341Z"
   },
   {
    "duration": 11,
    "start_time": "2023-02-17T13:53:32.925Z"
   },
   {
    "duration": 16,
    "start_time": "2023-02-17T13:54:54.847Z"
   },
   {
    "duration": 1828,
    "start_time": "2023-02-17T13:55:02.197Z"
   },
   {
    "duration": 16,
    "start_time": "2023-02-17T13:55:34.650Z"
   },
   {
    "duration": 9,
    "start_time": "2023-02-17T14:03:16.201Z"
   },
   {
    "duration": 17,
    "start_time": "2023-02-17T14:04:18.057Z"
   },
   {
    "duration": 15,
    "start_time": "2023-02-17T14:07:18.886Z"
   },
   {
    "duration": 18,
    "start_time": "2023-02-17T14:12:09.294Z"
   },
   {
    "duration": 12,
    "start_time": "2023-02-17T14:12:30.539Z"
   },
   {
    "duration": 14,
    "start_time": "2023-02-17T14:15:39.576Z"
   },
   {
    "duration": 7,
    "start_time": "2023-02-17T14:16:42.713Z"
   },
   {
    "duration": 13,
    "start_time": "2023-02-17T14:16:47.836Z"
   },
   {
    "duration": 70,
    "start_time": "2023-02-17T14:16:51.943Z"
   },
   {
    "duration": 12,
    "start_time": "2023-02-17T14:16:53.401Z"
   },
   {
    "duration": 16,
    "start_time": "2023-02-17T14:16:54.985Z"
   },
   {
    "duration": 7,
    "start_time": "2023-02-17T14:17:29.910Z"
   },
   {
    "duration": 12,
    "start_time": "2023-02-17T14:18:38.473Z"
   },
   {
    "duration": 107,
    "start_time": "2023-02-17T14:18:39.906Z"
   },
   {
    "duration": 10,
    "start_time": "2023-02-17T14:18:41.318Z"
   },
   {
    "duration": 13,
    "start_time": "2023-02-17T14:18:43.339Z"
   },
   {
    "duration": 6,
    "start_time": "2023-02-17T14:24:53.111Z"
   },
   {
    "duration": 9,
    "start_time": "2023-02-17T14:25:15.502Z"
   },
   {
    "duration": 11,
    "start_time": "2023-02-17T14:25:16.649Z"
   },
   {
    "duration": 180,
    "start_time": "2023-02-17T14:25:17.329Z"
   },
   {
    "duration": 9,
    "start_time": "2023-02-17T14:25:18.350Z"
   },
   {
    "duration": 7,
    "start_time": "2023-02-17T14:25:19.337Z"
   },
   {
    "duration": 7,
    "start_time": "2023-02-17T14:25:26.144Z"
   },
   {
    "duration": 11,
    "start_time": "2023-02-17T14:25:27.809Z"
   },
   {
    "duration": 191,
    "start_time": "2023-02-17T14:25:28.913Z"
   },
   {
    "duration": 326,
    "start_time": "2023-02-17T14:25:35.177Z"
   },
   {
    "duration": 205,
    "start_time": "2023-02-17T14:25:41.207Z"
   },
   {
    "duration": 5,
    "start_time": "2023-02-17T14:25:43.088Z"
   },
   {
    "duration": 6,
    "start_time": "2023-02-17T14:25:56.388Z"
   },
   {
    "duration": 7,
    "start_time": "2023-02-17T14:26:53.130Z"
   },
   {
    "duration": 11,
    "start_time": "2023-02-17T14:27:14.522Z"
   },
   {
    "duration": 7,
    "start_time": "2023-02-17T14:29:37.316Z"
   },
   {
    "duration": 12,
    "start_time": "2023-02-17T14:29:39.598Z"
   },
   {
    "duration": 273,
    "start_time": "2023-02-17T14:29:41.332Z"
   },
   {
    "duration": 10,
    "start_time": "2023-02-17T14:29:43.389Z"
   },
   {
    "duration": 76119,
    "start_time": "2023-02-18T10:32:13.623Z"
   },
   {
    "duration": 152516,
    "start_time": "2023-02-18T10:33:29.743Z"
   },
   {
    "duration": 1006066,
    "start_time": "2023-02-18T10:36:02.260Z"
   },
   {
    "duration": 8,
    "start_time": "2023-02-18T10:52:48.328Z"
   },
   {
    "duration": 17,
    "start_time": "2023-02-18T10:52:48.337Z"
   },
   {
    "duration": 520,
    "start_time": "2023-02-18T10:52:48.356Z"
   },
   {
    "duration": 94,
    "start_time": "2023-02-18T10:52:48.886Z"
   },
   {
    "duration": 48,
    "start_time": "2023-02-18T20:05:42.200Z"
   },
   {
    "duration": 1596,
    "start_time": "2023-02-18T20:05:52.596Z"
   },
   {
    "duration": 3172,
    "start_time": "2023-02-18T20:05:54.194Z"
   },
   {
    "duration": 222,
    "start_time": "2023-02-18T20:05:57.367Z"
   },
   {
    "duration": 124,
    "start_time": "2023-02-18T20:05:57.590Z"
   },
   {
    "duration": 246,
    "start_time": "2023-02-18T20:05:57.716Z"
   },
   {
    "duration": 4,
    "start_time": "2023-02-18T20:05:57.963Z"
   },
   {
    "duration": 59,
    "start_time": "2023-02-18T20:05:57.968Z"
   },
   {
    "duration": 18,
    "start_time": "2023-02-18T20:05:58.029Z"
   },
   {
    "duration": 45,
    "start_time": "2023-02-18T20:05:58.049Z"
   },
   {
    "duration": 77,
    "start_time": "2023-02-18T20:13:44.798Z"
   },
   {
    "duration": 9,
    "start_time": "2023-02-18T20:15:33.975Z"
   },
   {
    "duration": 23,
    "start_time": "2023-02-18T20:15:57.413Z"
   },
   {
    "duration": 51,
    "start_time": "2023-02-18T20:15:59.193Z"
   },
   {
    "duration": 243,
    "start_time": "2023-02-18T20:16:00.817Z"
   },
   {
    "duration": 4,
    "start_time": "2023-02-18T20:16:04.944Z"
   },
   {
    "duration": 7,
    "start_time": "2023-02-18T20:16:05.730Z"
   },
   {
    "duration": 5,
    "start_time": "2023-02-18T20:16:06.258Z"
   },
   {
    "duration": 4,
    "start_time": "2023-02-18T20:16:07.713Z"
   },
   {
    "duration": 4,
    "start_time": "2023-02-18T20:16:08.498Z"
   },
   {
    "duration": 5,
    "start_time": "2023-02-18T20:16:09.921Z"
   },
   {
    "duration": 4,
    "start_time": "2023-02-18T20:20:11.878Z"
   },
   {
    "duration": 760,
    "start_time": "2023-02-18T20:20:13.294Z"
   },
   {
    "duration": 561,
    "start_time": "2023-02-18T20:20:15.247Z"
   },
   {
    "duration": 790,
    "start_time": "2023-02-18T20:20:16.482Z"
   },
   {
    "duration": 567,
    "start_time": "2023-02-18T20:20:17.775Z"
   },
   {
    "duration": 699,
    "start_time": "2023-02-18T20:20:19.115Z"
   },
   {
    "duration": 667,
    "start_time": "2023-02-18T20:20:20.455Z"
   },
   {
    "duration": 3,
    "start_time": "2023-02-18T20:25:54.189Z"
   },
   {
    "duration": 22,
    "start_time": "2023-02-18T20:27:53.352Z"
   },
   {
    "duration": 146,
    "start_time": "2023-02-18T20:29:05.347Z"
   },
   {
    "duration": 120,
    "start_time": "2023-02-18T20:29:08.967Z"
   },
   {
    "duration": 302,
    "start_time": "2023-02-18T20:30:05.114Z"
   },
   {
    "duration": 745,
    "start_time": "2023-02-18T20:30:11.034Z"
   },
   {
    "duration": 6,
    "start_time": "2023-02-18T20:31:23.355Z"
   },
   {
    "duration": 3,
    "start_time": "2023-02-18T20:32:26.283Z"
   },
   {
    "duration": 17,
    "start_time": "2023-02-18T20:33:06.916Z"
   },
   {
    "duration": 4,
    "start_time": "2023-02-18T20:33:11.485Z"
   },
   {
    "duration": 6,
    "start_time": "2023-02-18T20:33:14.681Z"
   },
   {
    "duration": 4,
    "start_time": "2023-02-18T20:33:30.525Z"
   },
   {
    "duration": 5,
    "start_time": "2023-02-18T20:33:37.460Z"
   },
   {
    "duration": 24,
    "start_time": "2023-02-18T20:34:04.486Z"
   },
   {
    "duration": 5,
    "start_time": "2023-02-18T20:34:08.781Z"
   },
   {
    "duration": 5,
    "start_time": "2023-02-18T20:34:13.816Z"
   },
   {
    "duration": 23,
    "start_time": "2023-02-18T20:34:19.954Z"
   },
   {
    "duration": 21,
    "start_time": "2023-02-18T20:34:25.174Z"
   },
   {
    "duration": 6,
    "start_time": "2023-02-18T20:34:36.383Z"
   },
   {
    "duration": 6,
    "start_time": "2023-02-18T20:34:51.863Z"
   },
   {
    "duration": 9,
    "start_time": "2023-02-18T20:34:52.694Z"
   },
   {
    "duration": 6,
    "start_time": "2023-02-18T20:35:12.753Z"
   },
   {
    "duration": 7,
    "start_time": "2023-02-18T20:35:31.521Z"
   },
   {
    "duration": 12,
    "start_time": "2023-02-18T20:35:32.648Z"
   },
   {
    "duration": 3,
    "start_time": "2023-02-18T20:35:43.462Z"
   },
   {
    "duration": 5,
    "start_time": "2023-02-18T20:35:44.871Z"
   },
   {
    "duration": 8,
    "start_time": "2023-02-18T20:35:45.912Z"
   },
   {
    "duration": 9,
    "start_time": "2023-02-18T20:35:46.759Z"
   },
   {
    "duration": 3,
    "start_time": "2023-02-18T20:36:33.306Z"
   },
   {
    "duration": 10,
    "start_time": "2023-02-18T20:36:33.794Z"
   },
   {
    "duration": 4,
    "start_time": "2023-02-18T20:37:55.178Z"
   },
   {
    "duration": 8,
    "start_time": "2023-02-18T20:37:56.566Z"
   },
   {
    "duration": 335,
    "start_time": "2023-02-18T20:38:32.473Z"
   },
   {
    "duration": 702,
    "start_time": "2023-02-18T20:38:44.762Z"
   },
   {
    "duration": 301,
    "start_time": "2023-02-18T20:38:51.020Z"
   },
   {
    "duration": 846,
    "start_time": "2023-02-18T20:39:00.155Z"
   },
   {
    "duration": 689,
    "start_time": "2023-02-18T20:39:05.819Z"
   },
   {
    "duration": 794,
    "start_time": "2023-02-18T20:39:07.438Z"
   },
   {
    "duration": 702,
    "start_time": "2023-02-18T20:40:20.189Z"
   },
   {
    "duration": 50,
    "start_time": "2023-02-18T20:42:49.927Z"
   },
   {
    "duration": 9,
    "start_time": "2023-02-18T20:45:15.285Z"
   },
   {
    "duration": 448,
    "start_time": "2023-02-18T20:45:18.834Z"
   },
   {
    "duration": 341,
    "start_time": "2023-02-18T20:45:51.289Z"
   },
   {
    "duration": 323,
    "start_time": "2023-02-18T20:45:54.515Z"
   },
   {
    "duration": 329,
    "start_time": "2023-02-18T20:46:29.572Z"
   },
   {
    "duration": 304,
    "start_time": "2023-02-18T20:46:32.956Z"
   },
   {
    "duration": 316,
    "start_time": "2023-02-18T20:47:06.932Z"
   },
   {
    "duration": 326,
    "start_time": "2023-02-18T20:48:30.959Z"
   },
   {
    "duration": 23,
    "start_time": "2023-02-18T20:48:57.814Z"
   },
   {
    "duration": 340,
    "start_time": "2023-02-18T20:49:11.749Z"
   },
   {
    "duration": 51,
    "start_time": "2023-02-18T20:50:00.206Z"
   },
   {
    "duration": 1278,
    "start_time": "2023-02-18T20:50:07.303Z"
   },
   {
    "duration": 372,
    "start_time": "2023-02-18T20:50:18.632Z"
   },
   {
    "duration": 429,
    "start_time": "2023-02-18T20:51:26.993Z"
   },
   {
    "duration": 351,
    "start_time": "2023-02-18T20:51:38.657Z"
   },
   {
    "duration": 384,
    "start_time": "2023-02-18T20:51:46.170Z"
   },
   {
    "duration": 403,
    "start_time": "2023-02-18T20:54:52.444Z"
   },
   {
    "duration": 2,
    "start_time": "2023-02-18T20:55:17.996Z"
   },
   {
    "duration": 450,
    "start_time": "2023-02-18T20:55:19.076Z"
   },
   {
    "duration": 12,
    "start_time": "2023-02-18T20:56:14.717Z"
   },
   {
    "duration": 15,
    "start_time": "2023-02-18T20:56:18.350Z"
   },
   {
    "duration": 519,
    "start_time": "2023-02-18T20:56:25.215Z"
   },
   {
    "duration": 392,
    "start_time": "2023-02-18T20:56:28.966Z"
   },
   {
    "duration": 443,
    "start_time": "2023-02-18T20:56:32.237Z"
   },
   {
    "duration": 476,
    "start_time": "2023-02-18T20:56:53.182Z"
   },
   {
    "duration": 487,
    "start_time": "2023-02-18T20:57:01.874Z"
   },
   {
    "duration": 412,
    "start_time": "2023-02-18T20:57:40.744Z"
   },
   {
    "duration": 165,
    "start_time": "2023-02-18T20:58:06.996Z"
   },
   {
    "duration": 427,
    "start_time": "2023-02-18T20:58:13.336Z"
   },
   {
    "duration": 457,
    "start_time": "2023-02-18T20:58:24.615Z"
   },
   {
    "duration": 416,
    "start_time": "2023-02-18T20:58:28.544Z"
   },
   {
    "duration": 437,
    "start_time": "2023-02-18T20:58:30.631Z"
   },
   {
    "duration": 475,
    "start_time": "2023-02-18T20:58:32.816Z"
   },
   {
    "duration": 534,
    "start_time": "2023-02-18T20:58:37.377Z"
   },
   {
    "duration": 452,
    "start_time": "2023-02-18T20:58:47.122Z"
   },
   {
    "duration": 428,
    "start_time": "2023-02-18T20:58:52.945Z"
   },
   {
    "duration": 10,
    "start_time": "2023-02-18T21:04:11.762Z"
   },
   {
    "duration": 6,
    "start_time": "2023-02-18T21:05:17.402Z"
   },
   {
    "duration": 11,
    "start_time": "2023-02-18T21:07:09.995Z"
   },
   {
    "duration": 2,
    "start_time": "2023-02-18T21:07:39.140Z"
   },
   {
    "duration": 4,
    "start_time": "2023-02-18T21:07:45.003Z"
   },
   {
    "duration": 4,
    "start_time": "2023-02-18T21:07:51.427Z"
   },
   {
    "duration": 5,
    "start_time": "2023-02-18T21:08:05.229Z"
   },
   {
    "duration": 5,
    "start_time": "2023-02-18T21:09:05.429Z"
   },
   {
    "duration": 54,
    "start_time": "2023-02-18T21:09:15.855Z"
   },
   {
    "duration": 4,
    "start_time": "2023-02-18T21:09:18.243Z"
   },
   {
    "duration": 5,
    "start_time": "2023-02-18T21:09:29.511Z"
   },
   {
    "duration": 84,
    "start_time": "2023-02-18T21:11:46.088Z"
   },
   {
    "duration": 500,
    "start_time": "2023-02-18T21:13:21.083Z"
   },
   {
    "duration": 585,
    "start_time": "2023-02-18T21:13:59.588Z"
   },
   {
    "duration": 462,
    "start_time": "2023-02-18T21:14:16.868Z"
   },
   {
    "duration": 528,
    "start_time": "2023-02-18T21:14:41.372Z"
   },
   {
    "duration": 6,
    "start_time": "2023-02-18T21:14:59.989Z"
   },
   {
    "duration": 3,
    "start_time": "2023-02-18T21:15:12.669Z"
   },
   {
    "duration": 3,
    "start_time": "2023-02-18T21:15:13.492Z"
   },
   {
    "duration": 8,
    "start_time": "2023-02-18T21:15:14.045Z"
   },
   {
    "duration": 613,
    "start_time": "2023-02-18T21:15:14.991Z"
   },
   {
    "duration": 46,
    "start_time": "2023-02-19T09:21:39.338Z"
   },
   {
    "duration": 1417,
    "start_time": "2023-02-19T09:21:42.886Z"
   },
   {
    "duration": 4195,
    "start_time": "2023-02-19T09:21:44.305Z"
   },
   {
    "duration": 219,
    "start_time": "2023-02-19T09:21:48.502Z"
   },
   {
    "duration": 145,
    "start_time": "2023-02-19T09:21:48.724Z"
   },
   {
    "duration": 239,
    "start_time": "2023-02-19T09:21:48.871Z"
   },
   {
    "duration": 3,
    "start_time": "2023-02-19T09:21:49.112Z"
   },
   {
    "duration": 67,
    "start_time": "2023-02-19T09:21:49.116Z"
   },
   {
    "duration": 19,
    "start_time": "2023-02-19T09:21:49.184Z"
   },
   {
    "duration": 78,
    "start_time": "2023-02-19T09:21:49.204Z"
   },
   {
    "duration": 27,
    "start_time": "2023-02-19T09:21:49.286Z"
   },
   {
    "duration": 64,
    "start_time": "2023-02-19T09:21:49.315Z"
   },
   {
    "duration": 207,
    "start_time": "2023-02-19T09:21:49.380Z"
   },
   {
    "duration": 4,
    "start_time": "2023-02-19T09:21:49.589Z"
   },
   {
    "duration": 11,
    "start_time": "2023-02-19T09:21:49.594Z"
   },
   {
    "duration": 7,
    "start_time": "2023-02-19T09:21:49.606Z"
   },
   {
    "duration": 11,
    "start_time": "2023-02-19T09:21:49.614Z"
   },
   {
    "duration": 22,
    "start_time": "2023-02-19T09:21:49.627Z"
   },
   {
    "duration": 5,
    "start_time": "2023-02-19T09:21:49.650Z"
   },
   {
    "duration": 20,
    "start_time": "2023-02-19T09:21:49.656Z"
   },
   {
    "duration": 790,
    "start_time": "2023-02-19T09:21:49.677Z"
   },
   {
    "duration": 599,
    "start_time": "2023-02-19T09:21:50.469Z"
   },
   {
    "duration": 878,
    "start_time": "2023-02-19T09:21:51.070Z"
   },
   {
    "duration": 619,
    "start_time": "2023-02-19T09:21:51.950Z"
   },
   {
    "duration": 892,
    "start_time": "2023-02-19T09:21:52.571Z"
   },
   {
    "duration": 645,
    "start_time": "2023-02-19T09:21:53.465Z"
   },
   {
    "duration": 5,
    "start_time": "2023-02-19T09:21:54.112Z"
   },
   {
    "duration": 19,
    "start_time": "2023-02-19T09:21:54.119Z"
   },
   {
    "duration": 11,
    "start_time": "2023-02-19T09:21:54.142Z"
   },
   {
    "duration": 10,
    "start_time": "2023-02-19T09:21:54.156Z"
   },
   {
    "duration": 813,
    "start_time": "2023-02-19T09:21:54.168Z"
   },
   {
    "duration": 2,
    "start_time": "2023-02-19T09:21:54.983Z"
   },
   {
    "duration": 514,
    "start_time": "2023-02-19T09:21:54.987Z"
   },
   {
    "duration": 654,
    "start_time": "2023-02-19T09:21:55.504Z"
   },
   {
    "duration": 6,
    "start_time": "2023-02-19T09:21:56.160Z"
   },
   {
    "duration": 421,
    "start_time": "2023-02-19T09:21:56.168Z"
   },
   {
    "duration": 486,
    "start_time": "2023-02-19T09:21:56.590Z"
   },
   {
    "duration": 6,
    "start_time": "2023-02-19T09:21:57.078Z"
   },
   {
    "duration": 5,
    "start_time": "2023-02-19T09:21:57.086Z"
   },
   {
    "duration": 6,
    "start_time": "2023-02-19T09:21:57.092Z"
   },
   {
    "duration": 15,
    "start_time": "2023-02-19T09:21:57.100Z"
   },
   {
    "duration": 623,
    "start_time": "2023-02-19T09:21:59.517Z"
   },
   {
    "duration": 413,
    "start_time": "2023-02-19T09:24:45.684Z"
   },
   {
    "duration": 479,
    "start_time": "2023-02-19T09:24:52.044Z"
   },
   {
    "duration": 427,
    "start_time": "2023-02-19T09:25:04.060Z"
   },
   {
    "duration": 428,
    "start_time": "2023-02-19T09:25:08.139Z"
   },
   {
    "duration": 564,
    "start_time": "2023-02-19T09:25:12.421Z"
   },
   {
    "duration": 199,
    "start_time": "2023-02-19T09:35:29.583Z"
   },
   {
    "duration": 509,
    "start_time": "2023-02-19T09:35:50.887Z"
   },
   {
    "duration": 405,
    "start_time": "2023-02-19T09:36:10.808Z"
   },
   {
    "duration": 436,
    "start_time": "2023-02-19T09:36:17.139Z"
   },
   {
    "duration": 659,
    "start_time": "2023-02-19T09:36:25.386Z"
   },
   {
    "duration": 738,
    "start_time": "2023-02-19T09:37:29.738Z"
   },
   {
    "duration": 1596,
    "start_time": "2023-02-19T09:37:41.347Z"
   },
   {
    "duration": 1080,
    "start_time": "2023-02-19T09:38:28.533Z"
   },
   {
    "duration": 522,
    "start_time": "2023-02-19T09:43:31.800Z"
   },
   {
    "duration": 91,
    "start_time": "2023-02-19T09:45:10.769Z"
   },
   {
    "duration": 91,
    "start_time": "2023-02-19T09:45:16.634Z"
   },
   {
    "duration": 152,
    "start_time": "2023-02-19T09:45:23.065Z"
   },
   {
    "duration": 151,
    "start_time": "2023-02-19T09:45:35.738Z"
   },
   {
    "duration": 149,
    "start_time": "2023-02-19T09:45:38.755Z"
   },
   {
    "duration": 224,
    "start_time": "2023-02-19T09:47:10.404Z"
   },
   {
    "duration": 160,
    "start_time": "2023-02-19T09:47:44.917Z"
   },
   {
    "duration": 157,
    "start_time": "2023-02-19T09:48:27.517Z"
   },
   {
    "duration": 5,
    "start_time": "2023-02-19T09:48:42.965Z"
   },
   {
    "duration": 4,
    "start_time": "2023-02-19T09:49:01.222Z"
   },
   {
    "duration": 168,
    "start_time": "2023-02-19T09:49:05.773Z"
   },
   {
    "duration": 30,
    "start_time": "2023-02-19T09:49:10.022Z"
   },
   {
    "duration": 260,
    "start_time": "2023-02-19T09:49:16.414Z"
   },
   {
    "duration": 3,
    "start_time": "2023-02-19T09:49:32.729Z"
   },
   {
    "duration": 9,
    "start_time": "2023-02-19T09:49:36.351Z"
   },
   {
    "duration": 5,
    "start_time": "2023-02-19T09:49:38.175Z"
   },
   {
    "duration": 9,
    "start_time": "2023-02-19T09:49:45.734Z"
   },
   {
    "duration": 282,
    "start_time": "2023-02-19T09:49:47.079Z"
   },
   {
    "duration": 11,
    "start_time": "2023-02-19T09:49:55.695Z"
   },
   {
    "duration": 4,
    "start_time": "2023-02-19T09:49:59.663Z"
   },
   {
    "duration": 7,
    "start_time": "2023-02-19T09:50:01.570Z"
   },
   {
    "duration": 5,
    "start_time": "2023-02-19T09:50:18.136Z"
   },
   {
    "duration": 9,
    "start_time": "2023-02-19T09:50:19.839Z"
   },
   {
    "duration": 179,
    "start_time": "2023-02-19T09:50:33.402Z"
   },
   {
    "duration": 446,
    "start_time": "2023-02-19T09:50:47.384Z"
   },
   {
    "duration": 206,
    "start_time": "2023-02-19T09:50:53.615Z"
   },
   {
    "duration": 433,
    "start_time": "2023-02-19T09:50:56.449Z"
   },
   {
    "duration": 148,
    "start_time": "2023-02-19T09:50:58.960Z"
   },
   {
    "duration": 269,
    "start_time": "2023-02-19T09:51:00.865Z"
   },
   {
    "duration": 56,
    "start_time": "2023-02-19T09:51:26.034Z"
   },
   {
    "duration": 272,
    "start_time": "2023-02-19T09:51:30.452Z"
   },
   {
    "duration": 332,
    "start_time": "2023-02-19T09:51:37.826Z"
   },
   {
    "duration": 10,
    "start_time": "2023-02-19T09:57:17.329Z"
   },
   {
    "duration": 58,
    "start_time": "2023-02-19T09:57:39.130Z"
   },
   {
    "duration": 1815,
    "start_time": "2023-02-19T09:57:44.105Z"
   },
   {
    "duration": 228,
    "start_time": "2023-02-19T09:57:52.601Z"
   },
   {
    "duration": 286,
    "start_time": "2023-02-19T09:58:10.176Z"
   },
   {
    "duration": 389,
    "start_time": "2023-02-19T09:58:15.691Z"
   },
   {
    "duration": 282,
    "start_time": "2023-02-19T09:58:27.436Z"
   },
   {
    "duration": 232,
    "start_time": "2023-02-19T09:58:43.914Z"
   },
   {
    "duration": 241,
    "start_time": "2023-02-19T09:58:52.308Z"
   },
   {
    "duration": 234,
    "start_time": "2023-02-19T09:58:59.601Z"
   },
   {
    "duration": 413,
    "start_time": "2023-02-19T09:59:21.705Z"
   },
   {
    "duration": 260,
    "start_time": "2023-02-19T09:59:28.909Z"
   },
   {
    "duration": 311,
    "start_time": "2023-02-19T09:59:32.537Z"
   },
   {
    "duration": 334,
    "start_time": "2023-02-19T09:59:35.570Z"
   },
   {
    "duration": 354,
    "start_time": "2023-02-19T09:59:40.154Z"
   },
   {
    "duration": 372,
    "start_time": "2023-02-19T10:01:37.949Z"
   },
   {
    "duration": 495,
    "start_time": "2023-02-19T10:01:40.229Z"
   },
   {
    "duration": 380,
    "start_time": "2023-02-19T10:02:02.406Z"
   },
   {
    "duration": 389,
    "start_time": "2023-02-19T10:02:07.309Z"
   },
   {
    "duration": 375,
    "start_time": "2023-02-19T10:02:09.885Z"
   },
   {
    "duration": 389,
    "start_time": "2023-02-19T10:02:13.981Z"
   },
   {
    "duration": 487,
    "start_time": "2023-02-19T10:02:32.215Z"
   },
   {
    "duration": 405,
    "start_time": "2023-02-19T10:02:43.104Z"
   },
   {
    "duration": 396,
    "start_time": "2023-02-19T10:02:45.296Z"
   },
   {
    "duration": 374,
    "start_time": "2023-02-19T10:02:54.649Z"
   },
   {
    "duration": 378,
    "start_time": "2023-02-19T10:02:59.096Z"
   },
   {
    "duration": 360,
    "start_time": "2023-02-19T10:03:10.224Z"
   },
   {
    "duration": 931,
    "start_time": "2023-02-19T10:03:15.288Z"
   },
   {
    "duration": 364,
    "start_time": "2023-02-19T10:03:22.357Z"
   },
   {
    "duration": 360,
    "start_time": "2023-02-19T10:03:31.776Z"
   },
   {
    "duration": 47,
    "start_time": "2023-02-19T10:03:38.408Z"
   },
   {
    "duration": 357,
    "start_time": "2023-02-19T10:03:48.311Z"
   },
   {
    "duration": 502,
    "start_time": "2023-02-19T10:03:58.391Z"
   },
   {
    "duration": 392,
    "start_time": "2023-02-19T10:04:05.667Z"
   },
   {
    "duration": 337,
    "start_time": "2023-02-19T10:05:48.338Z"
   },
   {
    "duration": 334,
    "start_time": "2023-02-19T10:06:08.563Z"
   },
   {
    "duration": 284,
    "start_time": "2023-02-19T10:06:24.171Z"
   },
   {
    "duration": 249,
    "start_time": "2023-02-19T10:06:51.938Z"
   },
   {
    "duration": 473,
    "start_time": "2023-02-19T10:07:09.075Z"
   },
   {
    "duration": 242,
    "start_time": "2023-02-19T10:07:22.099Z"
   },
   {
    "duration": 274,
    "start_time": "2023-02-19T10:07:51.012Z"
   },
   {
    "duration": 321,
    "start_time": "2023-02-19T10:08:08.196Z"
   },
   {
    "duration": 289,
    "start_time": "2023-02-19T10:08:14.924Z"
   },
   {
    "duration": 247,
    "start_time": "2023-02-19T10:08:22.876Z"
   },
   {
    "duration": 502,
    "start_time": "2023-02-19T10:08:37.716Z"
   },
   {
    "duration": 368,
    "start_time": "2023-02-19T10:08:49.628Z"
   },
   {
    "duration": 367,
    "start_time": "2023-02-19T10:09:47.519Z"
   },
   {
    "duration": 3,
    "start_time": "2023-02-19T10:09:52.677Z"
   },
   {
    "duration": 333,
    "start_time": "2023-02-19T10:11:23.064Z"
   },
   {
    "duration": 374,
    "start_time": "2023-02-19T10:11:32.880Z"
   },
   {
    "duration": 438,
    "start_time": "2023-02-19T10:11:38.675Z"
   },
   {
    "duration": 471,
    "start_time": "2023-02-19T10:12:02.745Z"
   },
   {
    "duration": 641,
    "start_time": "2023-02-19T10:12:24.131Z"
   },
   {
    "duration": 498,
    "start_time": "2023-02-19T10:12:27.410Z"
   },
   {
    "duration": 327,
    "start_time": "2023-02-19T10:13:27.891Z"
   },
   {
    "duration": 367,
    "start_time": "2023-02-19T10:14:12.003Z"
   },
   {
    "duration": 357,
    "start_time": "2023-02-19T10:14:18.276Z"
   },
   {
    "duration": 480,
    "start_time": "2023-02-19T10:14:38.447Z"
   },
   {
    "duration": 910,
    "start_time": "2023-02-19T10:15:56.238Z"
   },
   {
    "duration": 745,
    "start_time": "2023-02-19T10:16:00.886Z"
   },
   {
    "duration": 1550,
    "start_time": "2023-02-19T10:16:54.061Z"
   },
   {
    "duration": 1724,
    "start_time": "2023-02-19T10:17:07.063Z"
   },
   {
    "duration": 949,
    "start_time": "2023-02-19T10:17:45.168Z"
   },
   {
    "duration": 636,
    "start_time": "2023-02-19T10:17:48.850Z"
   },
   {
    "duration": 677,
    "start_time": "2023-02-19T10:18:13.876Z"
   },
   {
    "duration": 669,
    "start_time": "2023-02-19T10:18:15.665Z"
   },
   {
    "duration": 16,
    "start_time": "2023-02-19T10:18:37.550Z"
   },
   {
    "duration": 231,
    "start_time": "2023-02-19T10:18:40.355Z"
   },
   {
    "duration": 14,
    "start_time": "2023-02-19T10:18:51.191Z"
   },
   {
    "duration": 14,
    "start_time": "2023-02-19T10:18:54.618Z"
   },
   {
    "duration": 16,
    "start_time": "2023-02-19T10:19:44.755Z"
   },
   {
    "duration": 784,
    "start_time": "2023-02-19T10:19:51.307Z"
   },
   {
    "duration": 1109,
    "start_time": "2023-02-19T10:20:13.765Z"
   },
   {
    "duration": 1685,
    "start_time": "2023-02-19T10:20:18.379Z"
   },
   {
    "duration": 2180,
    "start_time": "2023-02-19T10:20:33.955Z"
   },
   {
    "duration": 1962,
    "start_time": "2023-02-19T10:21:11.004Z"
   },
   {
    "duration": 2076,
    "start_time": "2023-02-19T10:22:02.950Z"
   },
   {
    "duration": 935,
    "start_time": "2023-02-19T10:23:18.998Z"
   },
   {
    "duration": 1728,
    "start_time": "2023-02-19T10:23:21.304Z"
   },
   {
    "duration": 2091,
    "start_time": "2023-02-19T10:24:12.241Z"
   },
   {
    "duration": 2022,
    "start_time": "2023-02-19T10:24:17.262Z"
   },
   {
    "duration": 2062,
    "start_time": "2023-02-19T10:24:48.218Z"
   },
   {
    "duration": 2044,
    "start_time": "2023-02-19T10:26:51.979Z"
   },
   {
    "duration": 2141,
    "start_time": "2023-02-19T10:27:00.651Z"
   },
   {
    "duration": 2068,
    "start_time": "2023-02-19T10:28:11.828Z"
   },
   {
    "duration": 2119,
    "start_time": "2023-02-19T10:28:28.701Z"
   },
   {
    "duration": 24,
    "start_time": "2023-02-19T10:36:53.583Z"
   },
   {
    "duration": 11,
    "start_time": "2023-02-19T10:37:03.163Z"
   },
   {
    "duration": 5,
    "start_time": "2023-02-19T10:37:12.056Z"
   },
   {
    "duration": 37,
    "start_time": "2023-02-19T10:38:15.127Z"
   },
   {
    "duration": 323,
    "start_time": "2023-02-19T10:38:19.432Z"
   },
   {
    "duration": 46,
    "start_time": "2023-02-19T10:38:39.912Z"
   },
   {
    "duration": 31,
    "start_time": "2023-02-19T10:38:42.578Z"
   },
   {
    "duration": 30,
    "start_time": "2023-02-19T10:38:52.507Z"
   },
   {
    "duration": 43,
    "start_time": "2023-02-19T10:38:57.261Z"
   },
   {
    "duration": 38,
    "start_time": "2023-02-19T10:39:11.699Z"
   },
   {
    "duration": 17,
    "start_time": "2023-02-19T10:39:19.471Z"
   },
   {
    "duration": 19,
    "start_time": "2023-02-19T10:39:38.642Z"
   },
   {
    "duration": 40,
    "start_time": "2023-02-19T10:39:47.129Z"
   },
   {
    "duration": 19,
    "start_time": "2023-02-19T10:39:51.841Z"
   },
   {
    "duration": 75,
    "start_time": "2023-02-19T10:40:13.730Z"
   },
   {
    "duration": 11,
    "start_time": "2023-02-19T10:40:16.962Z"
   },
   {
    "duration": 11,
    "start_time": "2023-02-19T10:40:22.397Z"
   },
   {
    "duration": 16,
    "start_time": "2023-02-19T10:40:25.969Z"
   },
   {
    "duration": 35,
    "start_time": "2023-02-19T10:40:57.274Z"
   },
   {
    "duration": 42,
    "start_time": "2023-02-19T10:41:02.530Z"
   },
   {
    "duration": 17,
    "start_time": "2023-02-19T10:41:21.982Z"
   },
   {
    "duration": 52,
    "start_time": "2023-02-19T11:48:43.272Z"
   },
   {
    "duration": 1832,
    "start_time": "2023-02-19T11:48:56.602Z"
   },
   {
    "duration": 12,
    "start_time": "2023-02-19T11:49:44.955Z"
   },
   {
    "duration": 100,
    "start_time": "2023-02-19T11:49:52.826Z"
   },
   {
    "duration": 5,
    "start_time": "2023-02-19T11:52:01.219Z"
   },
   {
    "duration": 9,
    "start_time": "2023-02-19T11:52:43.918Z"
   },
   {
    "duration": 1112,
    "start_time": "2023-02-19T11:53:09.680Z"
   },
   {
    "duration": 7,
    "start_time": "2023-02-19T11:53:32.272Z"
   },
   {
    "duration": 12,
    "start_time": "2023-02-19T11:53:34.591Z"
   },
   {
    "duration": 10,
    "start_time": "2023-02-19T11:53:50.778Z"
   },
   {
    "duration": 11,
    "start_time": "2023-02-19T11:54:28.664Z"
   },
   {
    "duration": 12,
    "start_time": "2023-02-19T11:54:31.359Z"
   },
   {
    "duration": 5,
    "start_time": "2023-02-19T11:54:46.857Z"
   },
   {
    "duration": 8,
    "start_time": "2023-02-19T11:55:24.510Z"
   },
   {
    "duration": 13,
    "start_time": "2023-02-19T11:55:25.498Z"
   },
   {
    "duration": 9,
    "start_time": "2023-02-19T11:57:39.148Z"
   },
   {
    "duration": 11,
    "start_time": "2023-02-19T11:57:40.389Z"
   },
   {
    "duration": 736,
    "start_time": "2023-02-19T11:57:51.342Z"
   },
   {
    "duration": 6,
    "start_time": "2023-02-19T11:58:57.685Z"
   },
   {
    "duration": 742,
    "start_time": "2023-02-19T11:58:58.112Z"
   },
   {
    "duration": 368,
    "start_time": "2023-02-19T11:59:18.943Z"
   },
   {
    "duration": 317,
    "start_time": "2023-02-19T11:59:50.019Z"
   },
   {
    "duration": 493,
    "start_time": "2023-02-19T12:00:05.159Z"
   },
   {
    "duration": 231,
    "start_time": "2023-02-19T12:00:09.048Z"
   },
   {
    "duration": 872,
    "start_time": "2023-02-19T12:00:12.248Z"
   },
   {
    "duration": 479,
    "start_time": "2023-02-19T12:01:00.393Z"
   },
   {
    "duration": 123,
    "start_time": "2023-02-19T12:01:20.201Z"
   },
   {
    "duration": 126,
    "start_time": "2023-02-19T12:01:35.171Z"
   },
   {
    "duration": 154,
    "start_time": "2023-02-19T12:01:46.641Z"
   },
   {
    "duration": 4,
    "start_time": "2023-02-19T12:01:49.977Z"
   },
   {
    "duration": 466,
    "start_time": "2023-02-19T12:01:51.312Z"
   },
   {
    "duration": 437,
    "start_time": "2023-02-19T12:01:58.142Z"
   },
   {
    "duration": 123,
    "start_time": "2023-02-19T12:02:02.635Z"
   },
   {
    "duration": 435,
    "start_time": "2023-02-19T12:02:07.061Z"
   },
   {
    "duration": 201,
    "start_time": "2023-02-19T12:02:33.515Z"
   },
   {
    "duration": 537,
    "start_time": "2023-02-19T12:03:04.020Z"
   },
   {
    "duration": 847,
    "start_time": "2023-02-19T12:03:07.169Z"
   },
   {
    "duration": 452,
    "start_time": "2023-02-19T12:03:11.661Z"
   },
   {
    "duration": 463,
    "start_time": "2023-02-19T12:03:24.251Z"
   },
   {
    "duration": 166,
    "start_time": "2023-02-19T12:03:30.344Z"
   },
   {
    "duration": 474,
    "start_time": "2023-02-19T12:03:33.062Z"
   },
   {
    "duration": 13,
    "start_time": "2023-02-19T12:12:39.158Z"
   },
   {
    "duration": 67,
    "start_time": "2023-02-19T12:19:32.295Z"
   },
   {
    "duration": 218,
    "start_time": "2023-02-19T12:20:02.335Z"
   },
   {
    "duration": 57,
    "start_time": "2023-02-19T12:20:14.255Z"
   },
   {
    "duration": 74,
    "start_time": "2023-02-19T12:21:00.394Z"
   },
   {
    "duration": 87,
    "start_time": "2023-02-19T12:21:15.017Z"
   },
   {
    "duration": 56,
    "start_time": "2023-02-19T12:21:26.045Z"
   },
   {
    "duration": 81,
    "start_time": "2023-02-19T12:21:28.691Z"
   },
   {
    "duration": 59,
    "start_time": "2023-02-19T12:21:40.161Z"
   },
   {
    "duration": 61,
    "start_time": "2023-02-19T12:21:43.714Z"
   },
   {
    "duration": 58,
    "start_time": "2023-02-19T12:21:46.034Z"
   },
   {
    "duration": 55,
    "start_time": "2023-02-19T12:21:47.489Z"
   },
   {
    "duration": 4,
    "start_time": "2023-02-19T12:21:48.898Z"
   },
   {
    "duration": 87,
    "start_time": "2023-02-19T12:21:53.491Z"
   },
   {
    "duration": 10,
    "start_time": "2023-02-19T12:22:00.048Z"
   },
   {
    "duration": 81,
    "start_time": "2023-02-19T12:22:02.882Z"
   },
   {
    "duration": 72,
    "start_time": "2023-02-19T12:22:06.490Z"
   },
   {
    "duration": 126,
    "start_time": "2023-02-19T12:22:09.161Z"
   },
   {
    "duration": 127,
    "start_time": "2023-02-19T12:22:38.876Z"
   },
   {
    "duration": 27,
    "start_time": "2023-02-19T12:23:07.002Z"
   },
   {
    "duration": 9,
    "start_time": "2023-02-19T12:23:12.651Z"
   },
   {
    "duration": 6,
    "start_time": "2023-02-19T12:23:22.275Z"
   },
   {
    "duration": 2,
    "start_time": "2023-02-19T12:24:57.118Z"
   },
   {
    "duration": 3,
    "start_time": "2023-02-19T12:25:10.683Z"
   },
   {
    "duration": 10,
    "start_time": "2023-02-19T12:30:02.123Z"
   },
   {
    "duration": 11,
    "start_time": "2023-02-19T12:31:01.324Z"
   },
   {
    "duration": 3,
    "start_time": "2023-02-19T12:31:43.702Z"
   },
   {
    "duration": 12,
    "start_time": "2023-02-19T12:31:46.542Z"
   },
   {
    "duration": 3,
    "start_time": "2023-02-19T12:31:54.602Z"
   },
   {
    "duration": 3,
    "start_time": "2023-02-19T12:31:55.153Z"
   },
   {
    "duration": 7,
    "start_time": "2023-02-19T12:31:56.638Z"
   },
   {
    "duration": 2,
    "start_time": "2023-02-19T12:32:06.645Z"
   },
   {
    "duration": 3,
    "start_time": "2023-02-19T12:32:07.278Z"
   },
   {
    "duration": 3,
    "start_time": "2023-02-19T12:32:41.267Z"
   },
   {
    "duration": 15,
    "start_time": "2023-02-19T12:32:55.756Z"
   },
   {
    "duration": 3,
    "start_time": "2023-02-19T12:32:59.402Z"
   },
   {
    "duration": 3,
    "start_time": "2023-02-19T12:33:15.343Z"
   },
   {
    "duration": 25,
    "start_time": "2023-02-19T12:33:50.705Z"
   },
   {
    "duration": 5,
    "start_time": "2023-02-19T12:37:23.312Z"
   },
   {
    "duration": 24,
    "start_time": "2023-02-19T12:37:39.902Z"
   },
   {
    "duration": 3,
    "start_time": "2023-02-19T12:37:42.626Z"
   },
   {
    "duration": 19,
    "start_time": "2023-02-19T12:37:46.912Z"
   },
   {
    "duration": 2,
    "start_time": "2023-02-19T12:42:53.230Z"
   },
   {
    "duration": 1023,
    "start_time": "2023-02-19T12:42:54.092Z"
   },
   {
    "duration": 2,
    "start_time": "2023-02-19T12:43:16.592Z"
   },
   {
    "duration": 999,
    "start_time": "2023-02-19T12:43:17.546Z"
   },
   {
    "duration": 713,
    "start_time": "2023-02-19T12:44:11.206Z"
   },
   {
    "duration": 714,
    "start_time": "2023-02-19T12:44:21.359Z"
   },
   {
    "duration": 738,
    "start_time": "2023-02-19T12:45:19.280Z"
   },
   {
    "duration": 3,
    "start_time": "2023-02-19T12:47:14.670Z"
   },
   {
    "duration": 24,
    "start_time": "2023-02-19T12:47:16.572Z"
   },
   {
    "duration": 3,
    "start_time": "2023-02-19T12:47:35.164Z"
   },
   {
    "duration": 42,
    "start_time": "2023-02-19T12:47:37.037Z"
   },
   {
    "duration": 44,
    "start_time": "2023-02-19T12:48:47.603Z"
   },
   {
    "duration": 3,
    "start_time": "2023-02-19T12:49:01.797Z"
   },
   {
    "duration": 3,
    "start_time": "2023-02-19T12:49:12.157Z"
   },
   {
    "duration": 65,
    "start_time": "2023-02-19T12:49:35.447Z"
   },
   {
    "duration": 25,
    "start_time": "2023-02-19T12:50:05.481Z"
   },
   {
    "duration": 20,
    "start_time": "2023-02-19T12:50:10.959Z"
   },
   {
    "duration": 14,
    "start_time": "2023-02-19T12:50:26.066Z"
   },
   {
    "duration": 2,
    "start_time": "2023-02-19T12:50:32.000Z"
   },
   {
    "duration": 15,
    "start_time": "2023-02-19T12:50:32.479Z"
   },
   {
    "duration": 3,
    "start_time": "2023-02-19T12:50:46.406Z"
   },
   {
    "duration": 36,
    "start_time": "2023-02-19T12:51:38.791Z"
   },
   {
    "duration": 39,
    "start_time": "2023-02-19T12:51:54.131Z"
   },
   {
    "duration": 8,
    "start_time": "2023-02-19T12:52:04.001Z"
   },
   {
    "duration": 45,
    "start_time": "2023-02-19T12:52:14.065Z"
   },
   {
    "duration": 7,
    "start_time": "2023-02-19T12:52:15.448Z"
   },
   {
    "duration": 3,
    "start_time": "2023-02-19T12:52:54.384Z"
   },
   {
    "duration": 3,
    "start_time": "2023-02-19T12:53:33.370Z"
   },
   {
    "duration": 4,
    "start_time": "2023-02-19T12:53:41.026Z"
   },
   {
    "duration": 3,
    "start_time": "2023-02-19T12:53:44.379Z"
   },
   {
    "duration": 3,
    "start_time": "2023-02-19T12:53:48.037Z"
   },
   {
    "duration": 45,
    "start_time": "2023-02-19T12:55:19.664Z"
   },
   {
    "duration": 3,
    "start_time": "2023-02-19T12:55:38.933Z"
   },
   {
    "duration": 63,
    "start_time": "2023-02-19T12:55:43.092Z"
   },
   {
    "duration": 63,
    "start_time": "2023-02-19T12:55:54.661Z"
   },
   {
    "duration": 73,
    "start_time": "2023-02-19T12:55:59.613Z"
   },
   {
    "duration": 40,
    "start_time": "2023-02-19T12:56:09.468Z"
   },
   {
    "duration": 24,
    "start_time": "2023-02-19T12:56:18.926Z"
   },
   {
    "duration": 10,
    "start_time": "2023-02-19T12:56:25.790Z"
   },
   {
    "duration": 720,
    "start_time": "2023-02-19T12:56:38.352Z"
   },
   {
    "duration": 37,
    "start_time": "2023-02-19T12:56:43.531Z"
   },
   {
    "duration": 721,
    "start_time": "2023-02-19T12:56:50.037Z"
   },
   {
    "duration": 60,
    "start_time": "2023-02-19T12:56:52.726Z"
   },
   {
    "duration": 9,
    "start_time": "2023-02-19T12:56:54.925Z"
   },
   {
    "duration": 910,
    "start_time": "2023-02-19T12:57:01.503Z"
   },
   {
    "duration": 5,
    "start_time": "2023-02-19T12:57:05.225Z"
   },
   {
    "duration": 24,
    "start_time": "2023-02-19T12:57:13.527Z"
   },
   {
    "duration": 23,
    "start_time": "2023-02-19T12:57:23.016Z"
   },
   {
    "duration": 39,
    "start_time": "2023-02-19T12:57:27.735Z"
   },
   {
    "duration": 10,
    "start_time": "2023-02-19T13:00:51.959Z"
   },
   {
    "duration": 20,
    "start_time": "2023-02-19T13:00:57.628Z"
   },
   {
    "duration": 30,
    "start_time": "2023-02-19T13:01:23.701Z"
   },
   {
    "duration": 23,
    "start_time": "2023-02-19T13:01:45.591Z"
   },
   {
    "duration": 30,
    "start_time": "2023-02-19T13:02:02.437Z"
   },
   {
    "duration": 23,
    "start_time": "2023-02-19T13:03:44.840Z"
   },
   {
    "duration": 35,
    "start_time": "2023-02-19T13:03:55.288Z"
   },
   {
    "duration": 9,
    "start_time": "2023-02-19T13:05:12.977Z"
   },
   {
    "duration": 9,
    "start_time": "2023-02-19T13:05:21.687Z"
   },
   {
    "duration": 5,
    "start_time": "2023-02-19T13:05:51.906Z"
   },
   {
    "duration": 4,
    "start_time": "2023-02-19T13:05:56.106Z"
   },
   {
    "duration": 14,
    "start_time": "2023-02-19T13:06:27.145Z"
   },
   {
    "duration": 12,
    "start_time": "2023-02-19T13:06:31.081Z"
   },
   {
    "duration": 4,
    "start_time": "2023-02-19T13:06:32.005Z"
   },
   {
    "duration": 34,
    "start_time": "2023-02-19T13:06:47.291Z"
   },
   {
    "duration": 10,
    "start_time": "2023-02-19T13:07:45.260Z"
   },
   {
    "duration": 4,
    "start_time": "2023-02-19T13:07:46.524Z"
   },
   {
    "duration": 31,
    "start_time": "2023-02-19T13:07:50.188Z"
   },
   {
    "duration": 8,
    "start_time": "2023-02-19T13:07:58.482Z"
   },
   {
    "duration": 4,
    "start_time": "2023-02-19T13:07:59.753Z"
   },
   {
    "duration": 29,
    "start_time": "2023-02-19T13:08:02.891Z"
   },
   {
    "duration": 10,
    "start_time": "2023-02-19T13:08:10.379Z"
   },
   {
    "duration": 3,
    "start_time": "2023-02-19T13:08:12.157Z"
   },
   {
    "duration": 12,
    "start_time": "2023-02-19T13:08:38.219Z"
   },
   {
    "duration": 3,
    "start_time": "2023-02-19T13:08:39.020Z"
   },
   {
    "duration": 32,
    "start_time": "2023-02-19T13:08:46.380Z"
   },
   {
    "duration": 3,
    "start_time": "2023-02-19T13:09:48.126Z"
   },
   {
    "duration": 3,
    "start_time": "2023-02-19T13:09:49.813Z"
   },
   {
    "duration": 3,
    "start_time": "2023-02-19T13:09:50.940Z"
   },
   {
    "duration": 58,
    "start_time": "2023-02-19T13:09:52.111Z"
   },
   {
    "duration": 27,
    "start_time": "2023-02-19T13:16:08.331Z"
   },
   {
    "duration": 15,
    "start_time": "2023-02-19T13:21:21.817Z"
   },
   {
    "duration": 4,
    "start_time": "2023-02-19T13:21:23.024Z"
   },
   {
    "duration": 49,
    "start_time": "2023-02-19T13:21:45.499Z"
   },
   {
    "duration": 2,
    "start_time": "2023-02-19T13:22:04.604Z"
   },
   {
    "duration": 3,
    "start_time": "2023-02-19T13:22:06.455Z"
   },
   {
    "duration": 2,
    "start_time": "2023-02-19T13:22:07.729Z"
   },
   {
    "duration": 100,
    "start_time": "2023-02-19T13:22:09.242Z"
   },
   {
    "duration": 54,
    "start_time": "2023-02-19T13:37:17.212Z"
   },
   {
    "duration": 11,
    "start_time": "2023-02-19T13:45:35.485Z"
   },
   {
    "duration": 5,
    "start_time": "2023-02-19T13:45:36.469Z"
   },
   {
    "duration": 42,
    "start_time": "2023-02-19T13:45:39.142Z"
   },
   {
    "duration": 2,
    "start_time": "2023-02-19T13:45:40.070Z"
   },
   {
    "duration": 3,
    "start_time": "2023-02-19T13:45:49.590Z"
   },
   {
    "duration": 81,
    "start_time": "2023-02-19T13:45:50.335Z"
   },
   {
    "duration": 50,
    "start_time": "2023-02-19T13:48:41.123Z"
   },
   {
    "duration": 61,
    "start_time": "2023-02-19T13:48:44.755Z"
   },
   {
    "duration": 39,
    "start_time": "2023-02-19T13:51:16.758Z"
   },
   {
    "duration": 49,
    "start_time": "2023-02-19T13:52:05.263Z"
   },
   {
    "duration": 42,
    "start_time": "2023-02-19T13:52:18.046Z"
   },
   {
    "duration": 50,
    "start_time": "2023-02-19T13:52:20.935Z"
   },
   {
    "duration": 52,
    "start_time": "2023-02-19T13:53:31.240Z"
   },
   {
    "duration": 66,
    "start_time": "2023-02-19T13:53:44.440Z"
   },
   {
    "duration": 41,
    "start_time": "2023-02-19T13:54:09.089Z"
   },
   {
    "duration": 9,
    "start_time": "2023-02-19T13:57:41.031Z"
   },
   {
    "duration": 10,
    "start_time": "2023-02-19T13:58:59.318Z"
   },
   {
    "duration": 41,
    "start_time": "2023-02-19T13:59:52.082Z"
   },
   {
    "duration": 3,
    "start_time": "2023-02-19T14:00:33.163Z"
   },
   {
    "duration": 46,
    "start_time": "2023-02-19T14:00:33.810Z"
   },
   {
    "duration": 50,
    "start_time": "2023-02-19T14:04:11.228Z"
   },
   {
    "duration": 54,
    "start_time": "2023-02-19T14:04:15.869Z"
   },
   {
    "duration": 5,
    "start_time": "2023-02-19T14:04:28.701Z"
   },
   {
    "duration": 4,
    "start_time": "2023-02-19T14:04:34.173Z"
   },
   {
    "duration": 789,
    "start_time": "2023-02-19T14:04:48.197Z"
   },
   {
    "duration": 4,
    "start_time": "2023-02-19T14:04:51.373Z"
   },
   {
    "duration": 11,
    "start_time": "2023-02-19T14:04:59.760Z"
   },
   {
    "duration": 5,
    "start_time": "2023-02-19T14:05:06.886Z"
   },
   {
    "duration": 42,
    "start_time": "2023-02-19T14:05:12.552Z"
   },
   {
    "duration": 4,
    "start_time": "2023-02-19T14:06:04.690Z"
   },
   {
    "duration": 46,
    "start_time": "2023-02-19T14:06:14.560Z"
   },
   {
    "duration": 4,
    "start_time": "2023-02-19T14:07:21.185Z"
   },
   {
    "duration": 41,
    "start_time": "2023-02-19T14:13:50.304Z"
   },
   {
    "duration": 48,
    "start_time": "2023-02-19T14:17:25.155Z"
   },
   {
    "duration": 5,
    "start_time": "2023-02-19T14:17:30.211Z"
   },
   {
    "duration": 4,
    "start_time": "2023-02-19T14:17:31.587Z"
   },
   {
    "duration": 3,
    "start_time": "2023-02-19T14:18:39.266Z"
   }
  ],
  "kernelspec": {
   "display_name": "Python 3 (ipykernel)",
   "language": "python",
   "name": "python3"
  },
  "language_info": {
   "codemirror_mode": {
    "name": "ipython",
    "version": 3
   },
   "file_extension": ".py",
   "mimetype": "text/x-python",
   "name": "python",
   "nbconvert_exporter": "python",
   "pygments_lexer": "ipython3",
   "version": "3.9.5"
  },
  "toc": {
   "base_numbering": 1,
   "nav_menu": {},
   "number_sections": true,
   "sideBar": true,
   "skip_h1_title": true,
   "title_cell": "Содержание",
   "title_sidebar": "Contents",
   "toc_cell": true,
   "toc_position": {
    "height": "calc(100% - 180px)",
    "left": "10px",
    "top": "150px",
    "width": "165px"
   },
   "toc_section_display": true,
   "toc_window_display": true
  },
  "vscode": {
   "interpreter": {
    "hash": "40bcb2e441a6d0af9e6f649dfe5ca0440eb431939f3ce0f6d45a172cb5590c37"
   }
  }
 },
 "nbformat": 4,
 "nbformat_minor": 2
}
