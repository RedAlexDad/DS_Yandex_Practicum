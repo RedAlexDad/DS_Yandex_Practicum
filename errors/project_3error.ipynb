{
 "cells": [
  {
   "cell_type": "markdown",
   "metadata": {},
   "source": [
    "# Исследование объявлений о продаже квартир\n",
    "\n",
    "В вашем распоряжении данные сервиса Яндекс.Недвижимость — архив объявлений о продаже квартир в Санкт-Петербурге и соседних населённых пунктов за несколько лет. Нужно научиться определять рыночную стоимость объектов недвижимости. Ваша задача — установить параметры. Это позволит построить автоматизированную систему: она отследит аномалии и мошенническую деятельность. \n",
    "\n",
    "По каждой квартире на продажу доступны два вида данных. Первые вписаны пользователем, вторые — получены автоматически на основе картографических данных. Например, расстояние до центра, аэропорта, ближайшего парка и водоёма. "
   ]
  },
  {
   "cell_type": "markdown",
   "metadata": {},
   "source": [
    "### Откройте файл с данными и изучите общую информацию. "
   ]
  },
  {
   "cell_type": "code",
   "execution_count": 463,
   "metadata": {
    "scrolled": true
   },
   "outputs": [
    {
     "name": "stdout",
     "output_type": "stream",
     "text": [
      "<class 'pandas.core.frame.DataFrame'>\n",
      "RangeIndex: 23699 entries, 0 to 23698\n",
      "Data columns (total 22 columns):\n",
      " #   Column                Non-Null Count  Dtype  \n",
      "---  ------                --------------  -----  \n",
      " 0   total_images          23699 non-null  int64  \n",
      " 1   last_price            23699 non-null  float64\n",
      " 2   total_area            23699 non-null  float64\n",
      " 3   first_day_exposition  23699 non-null  object \n",
      " 4   rooms                 23699 non-null  int64  \n",
      " 5   ceiling_height        14504 non-null  float64\n",
      " 6   floors_total          23613 non-null  float64\n",
      " 7   living_area           21796 non-null  float64\n",
      " 8   floor                 23699 non-null  int64  \n",
      " 9   is_apartment          2775 non-null   object \n",
      " 10  studio                23699 non-null  bool   \n",
      " 11  open_plan             23699 non-null  bool   \n",
      " 12  kitchen_area          21421 non-null  float64\n",
      " 13  balcony               12180 non-null  float64\n",
      " 14  locality_name         23650 non-null  object \n",
      " 15  airports_nearest      18157 non-null  float64\n",
      " 16  cityCenters_nearest   18180 non-null  float64\n",
      " 17  parks_around3000      18181 non-null  float64\n",
      " 18  parks_nearest         8079 non-null   float64\n",
      " 19  ponds_around3000      18181 non-null  float64\n",
      " 20  ponds_nearest         9110 non-null   float64\n",
      " 21  days_exposition       20518 non-null  float64\n",
      "dtypes: bool(2), float64(14), int64(3), object(3)\n",
      "memory usage: 3.7+ MB\n"
     ]
    }
   ],
   "source": [
    "import pandas as pd\n",
    "\n",
    "# После прочтения файла было обнаружено, что разделялись табуляцей, что и было добавлен параметр sep\n",
    "data = pd.read_csv('/datasets/real_estate_data.csv', sep = '\\t')\n",
    "\n",
    "data.info()"
   ]
  },
  {
   "cell_type": "markdown",
   "metadata": {},
   "source": [
    "#### Получаем информацию и ознакомимся"
   ]
  },
  {
   "cell_type": "code",
   "execution_count": 464,
   "metadata": {
    "scrolled": false
   },
   "outputs": [
    {
     "data": {
      "text/html": [
       "<div>\n",
       "<style scoped>\n",
       "    .dataframe tbody tr th:only-of-type {\n",
       "        vertical-align: middle;\n",
       "    }\n",
       "\n",
       "    .dataframe tbody tr th {\n",
       "        vertical-align: top;\n",
       "    }\n",
       "\n",
       "    .dataframe thead th {\n",
       "        text-align: right;\n",
       "    }\n",
       "</style>\n",
       "<table border=\"1\" class=\"dataframe\">\n",
       "  <thead>\n",
       "    <tr style=\"text-align: right;\">\n",
       "      <th></th>\n",
       "      <th>total_images</th>\n",
       "      <th>last_price</th>\n",
       "      <th>total_area</th>\n",
       "      <th>first_day_exposition</th>\n",
       "      <th>rooms</th>\n",
       "      <th>ceiling_height</th>\n",
       "      <th>floors_total</th>\n",
       "      <th>living_area</th>\n",
       "      <th>floor</th>\n",
       "      <th>is_apartment</th>\n",
       "      <th>...</th>\n",
       "      <th>kitchen_area</th>\n",
       "      <th>balcony</th>\n",
       "      <th>locality_name</th>\n",
       "      <th>airports_nearest</th>\n",
       "      <th>cityCenters_nearest</th>\n",
       "      <th>parks_around3000</th>\n",
       "      <th>parks_nearest</th>\n",
       "      <th>ponds_around3000</th>\n",
       "      <th>ponds_nearest</th>\n",
       "      <th>days_exposition</th>\n",
       "    </tr>\n",
       "  </thead>\n",
       "  <tbody>\n",
       "    <tr>\n",
       "      <th>0</th>\n",
       "      <td>20</td>\n",
       "      <td>13000000.0</td>\n",
       "      <td>108.0</td>\n",
       "      <td>2019-03-07T00:00:00</td>\n",
       "      <td>3</td>\n",
       "      <td>2.70</td>\n",
       "      <td>16.0</td>\n",
       "      <td>51.0</td>\n",
       "      <td>8</td>\n",
       "      <td>NaN</td>\n",
       "      <td>...</td>\n",
       "      <td>25.0</td>\n",
       "      <td>NaN</td>\n",
       "      <td>Санкт-Петербург</td>\n",
       "      <td>18863.0</td>\n",
       "      <td>16028.0</td>\n",
       "      <td>1.0</td>\n",
       "      <td>482.0</td>\n",
       "      <td>2.0</td>\n",
       "      <td>755.0</td>\n",
       "      <td>NaN</td>\n",
       "    </tr>\n",
       "    <tr>\n",
       "      <th>1</th>\n",
       "      <td>7</td>\n",
       "      <td>3350000.0</td>\n",
       "      <td>40.4</td>\n",
       "      <td>2018-12-04T00:00:00</td>\n",
       "      <td>1</td>\n",
       "      <td>NaN</td>\n",
       "      <td>11.0</td>\n",
       "      <td>18.6</td>\n",
       "      <td>1</td>\n",
       "      <td>NaN</td>\n",
       "      <td>...</td>\n",
       "      <td>11.0</td>\n",
       "      <td>2.0</td>\n",
       "      <td>посёлок Шушары</td>\n",
       "      <td>12817.0</td>\n",
       "      <td>18603.0</td>\n",
       "      <td>0.0</td>\n",
       "      <td>NaN</td>\n",
       "      <td>0.0</td>\n",
       "      <td>NaN</td>\n",
       "      <td>81.0</td>\n",
       "    </tr>\n",
       "    <tr>\n",
       "      <th>2</th>\n",
       "      <td>10</td>\n",
       "      <td>5196000.0</td>\n",
       "      <td>56.0</td>\n",
       "      <td>2015-08-20T00:00:00</td>\n",
       "      <td>2</td>\n",
       "      <td>NaN</td>\n",
       "      <td>5.0</td>\n",
       "      <td>34.3</td>\n",
       "      <td>4</td>\n",
       "      <td>NaN</td>\n",
       "      <td>...</td>\n",
       "      <td>8.3</td>\n",
       "      <td>0.0</td>\n",
       "      <td>Санкт-Петербург</td>\n",
       "      <td>21741.0</td>\n",
       "      <td>13933.0</td>\n",
       "      <td>1.0</td>\n",
       "      <td>90.0</td>\n",
       "      <td>2.0</td>\n",
       "      <td>574.0</td>\n",
       "      <td>558.0</td>\n",
       "    </tr>\n",
       "    <tr>\n",
       "      <th>3</th>\n",
       "      <td>0</td>\n",
       "      <td>64900000.0</td>\n",
       "      <td>159.0</td>\n",
       "      <td>2015-07-24T00:00:00</td>\n",
       "      <td>3</td>\n",
       "      <td>NaN</td>\n",
       "      <td>14.0</td>\n",
       "      <td>NaN</td>\n",
       "      <td>9</td>\n",
       "      <td>NaN</td>\n",
       "      <td>...</td>\n",
       "      <td>NaN</td>\n",
       "      <td>0.0</td>\n",
       "      <td>Санкт-Петербург</td>\n",
       "      <td>28098.0</td>\n",
       "      <td>6800.0</td>\n",
       "      <td>2.0</td>\n",
       "      <td>84.0</td>\n",
       "      <td>3.0</td>\n",
       "      <td>234.0</td>\n",
       "      <td>424.0</td>\n",
       "    </tr>\n",
       "    <tr>\n",
       "      <th>4</th>\n",
       "      <td>2</td>\n",
       "      <td>10000000.0</td>\n",
       "      <td>100.0</td>\n",
       "      <td>2018-06-19T00:00:00</td>\n",
       "      <td>2</td>\n",
       "      <td>3.03</td>\n",
       "      <td>14.0</td>\n",
       "      <td>32.0</td>\n",
       "      <td>13</td>\n",
       "      <td>NaN</td>\n",
       "      <td>...</td>\n",
       "      <td>41.0</td>\n",
       "      <td>NaN</td>\n",
       "      <td>Санкт-Петербург</td>\n",
       "      <td>31856.0</td>\n",
       "      <td>8098.0</td>\n",
       "      <td>2.0</td>\n",
       "      <td>112.0</td>\n",
       "      <td>1.0</td>\n",
       "      <td>48.0</td>\n",
       "      <td>121.0</td>\n",
       "    </tr>\n",
       "    <tr>\n",
       "      <th>...</th>\n",
       "      <td>...</td>\n",
       "      <td>...</td>\n",
       "      <td>...</td>\n",
       "      <td>...</td>\n",
       "      <td>...</td>\n",
       "      <td>...</td>\n",
       "      <td>...</td>\n",
       "      <td>...</td>\n",
       "      <td>...</td>\n",
       "      <td>...</td>\n",
       "      <td>...</td>\n",
       "      <td>...</td>\n",
       "      <td>...</td>\n",
       "      <td>...</td>\n",
       "      <td>...</td>\n",
       "      <td>...</td>\n",
       "      <td>...</td>\n",
       "      <td>...</td>\n",
       "      <td>...</td>\n",
       "      <td>...</td>\n",
       "      <td>...</td>\n",
       "    </tr>\n",
       "    <tr>\n",
       "      <th>95</th>\n",
       "      <td>14</td>\n",
       "      <td>5150000.0</td>\n",
       "      <td>47.0</td>\n",
       "      <td>2018-08-06T00:00:00</td>\n",
       "      <td>2</td>\n",
       "      <td>2.75</td>\n",
       "      <td>9.0</td>\n",
       "      <td>28.1</td>\n",
       "      <td>9</td>\n",
       "      <td>False</td>\n",
       "      <td>...</td>\n",
       "      <td>7.0</td>\n",
       "      <td>2.0</td>\n",
       "      <td>Санкт-Петербург</td>\n",
       "      <td>10142.0</td>\n",
       "      <td>13743.0</td>\n",
       "      <td>2.0</td>\n",
       "      <td>751.0</td>\n",
       "      <td>1.0</td>\n",
       "      <td>881.0</td>\n",
       "      <td>34.0</td>\n",
       "    </tr>\n",
       "    <tr>\n",
       "      <th>96</th>\n",
       "      <td>20</td>\n",
       "      <td>8780000.0</td>\n",
       "      <td>78.3</td>\n",
       "      <td>2018-08-24T00:00:00</td>\n",
       "      <td>3</td>\n",
       "      <td>2.50</td>\n",
       "      <td>15.0</td>\n",
       "      <td>51.0</td>\n",
       "      <td>9</td>\n",
       "      <td>NaN</td>\n",
       "      <td>...</td>\n",
       "      <td>11.0</td>\n",
       "      <td>NaN</td>\n",
       "      <td>Санкт-Петербург</td>\n",
       "      <td>52108.0</td>\n",
       "      <td>16333.0</td>\n",
       "      <td>0.0</td>\n",
       "      <td>NaN</td>\n",
       "      <td>1.0</td>\n",
       "      <td>746.0</td>\n",
       "      <td>31.0</td>\n",
       "    </tr>\n",
       "    <tr>\n",
       "      <th>97</th>\n",
       "      <td>15</td>\n",
       "      <td>4898000.0</td>\n",
       "      <td>146.0</td>\n",
       "      <td>2019-02-12T00:00:00</td>\n",
       "      <td>4</td>\n",
       "      <td>NaN</td>\n",
       "      <td>2.0</td>\n",
       "      <td>77.0</td>\n",
       "      <td>2</td>\n",
       "      <td>NaN</td>\n",
       "      <td>...</td>\n",
       "      <td>13.0</td>\n",
       "      <td>NaN</td>\n",
       "      <td>Выборг</td>\n",
       "      <td>NaN</td>\n",
       "      <td>NaN</td>\n",
       "      <td>NaN</td>\n",
       "      <td>NaN</td>\n",
       "      <td>NaN</td>\n",
       "      <td>NaN</td>\n",
       "      <td>34.0</td>\n",
       "    </tr>\n",
       "    <tr>\n",
       "      <th>98</th>\n",
       "      <td>11</td>\n",
       "      <td>11700000.0</td>\n",
       "      <td>80.0</td>\n",
       "      <td>2014-12-10T00:00:00</td>\n",
       "      <td>3</td>\n",
       "      <td>NaN</td>\n",
       "      <td>5.0</td>\n",
       "      <td>55.1</td>\n",
       "      <td>3</td>\n",
       "      <td>NaN</td>\n",
       "      <td>...</td>\n",
       "      <td>11.0</td>\n",
       "      <td>0.0</td>\n",
       "      <td>Санкт-Петербург</td>\n",
       "      <td>11248.0</td>\n",
       "      <td>8767.0</td>\n",
       "      <td>1.0</td>\n",
       "      <td>666.0</td>\n",
       "      <td>0.0</td>\n",
       "      <td>NaN</td>\n",
       "      <td>831.0</td>\n",
       "    </tr>\n",
       "    <tr>\n",
       "      <th>99</th>\n",
       "      <td>32</td>\n",
       "      <td>9600000.0</td>\n",
       "      <td>90.0</td>\n",
       "      <td>2017-09-26T00:00:00</td>\n",
       "      <td>4</td>\n",
       "      <td>NaN</td>\n",
       "      <td>5.0</td>\n",
       "      <td>67.0</td>\n",
       "      <td>2</td>\n",
       "      <td>NaN</td>\n",
       "      <td>...</td>\n",
       "      <td>8.0</td>\n",
       "      <td>NaN</td>\n",
       "      <td>Санкт-Петербург</td>\n",
       "      <td>23277.0</td>\n",
       "      <td>2818.0</td>\n",
       "      <td>0.0</td>\n",
       "      <td>NaN</td>\n",
       "      <td>0.0</td>\n",
       "      <td>NaN</td>\n",
       "      <td>104.0</td>\n",
       "    </tr>\n",
       "  </tbody>\n",
       "</table>\n",
       "<p>100 rows × 22 columns</p>\n",
       "</div>"
      ],
      "text/plain": [
       "    total_images  last_price  total_area first_day_exposition  rooms  \\\n",
       "0             20  13000000.0       108.0  2019-03-07T00:00:00      3   \n",
       "1              7   3350000.0        40.4  2018-12-04T00:00:00      1   \n",
       "2             10   5196000.0        56.0  2015-08-20T00:00:00      2   \n",
       "3              0  64900000.0       159.0  2015-07-24T00:00:00      3   \n",
       "4              2  10000000.0       100.0  2018-06-19T00:00:00      2   \n",
       "..           ...         ...         ...                  ...    ...   \n",
       "95            14   5150000.0        47.0  2018-08-06T00:00:00      2   \n",
       "96            20   8780000.0        78.3  2018-08-24T00:00:00      3   \n",
       "97            15   4898000.0       146.0  2019-02-12T00:00:00      4   \n",
       "98            11  11700000.0        80.0  2014-12-10T00:00:00      3   \n",
       "99            32   9600000.0        90.0  2017-09-26T00:00:00      4   \n",
       "\n",
       "    ceiling_height  floors_total  living_area  floor is_apartment  ...  \\\n",
       "0             2.70          16.0         51.0      8          NaN  ...   \n",
       "1              NaN          11.0         18.6      1          NaN  ...   \n",
       "2              NaN           5.0         34.3      4          NaN  ...   \n",
       "3              NaN          14.0          NaN      9          NaN  ...   \n",
       "4             3.03          14.0         32.0     13          NaN  ...   \n",
       "..             ...           ...          ...    ...          ...  ...   \n",
       "95            2.75           9.0         28.1      9        False  ...   \n",
       "96            2.50          15.0         51.0      9          NaN  ...   \n",
       "97             NaN           2.0         77.0      2          NaN  ...   \n",
       "98             NaN           5.0         55.1      3          NaN  ...   \n",
       "99             NaN           5.0         67.0      2          NaN  ...   \n",
       "\n",
       "    kitchen_area  balcony    locality_name  airports_nearest  \\\n",
       "0           25.0      NaN  Санкт-Петербург           18863.0   \n",
       "1           11.0      2.0   посёлок Шушары           12817.0   \n",
       "2            8.3      0.0  Санкт-Петербург           21741.0   \n",
       "3            NaN      0.0  Санкт-Петербург           28098.0   \n",
       "4           41.0      NaN  Санкт-Петербург           31856.0   \n",
       "..           ...      ...              ...               ...   \n",
       "95           7.0      2.0  Санкт-Петербург           10142.0   \n",
       "96          11.0      NaN  Санкт-Петербург           52108.0   \n",
       "97          13.0      NaN           Выборг               NaN   \n",
       "98          11.0      0.0  Санкт-Петербург           11248.0   \n",
       "99           8.0      NaN  Санкт-Петербург           23277.0   \n",
       "\n",
       "   cityCenters_nearest  parks_around3000  parks_nearest  ponds_around3000  \\\n",
       "0              16028.0               1.0          482.0               2.0   \n",
       "1              18603.0               0.0            NaN               0.0   \n",
       "2              13933.0               1.0           90.0               2.0   \n",
       "3               6800.0               2.0           84.0               3.0   \n",
       "4               8098.0               2.0          112.0               1.0   \n",
       "..                 ...               ...            ...               ...   \n",
       "95             13743.0               2.0          751.0               1.0   \n",
       "96             16333.0               0.0            NaN               1.0   \n",
       "97                 NaN               NaN            NaN               NaN   \n",
       "98              8767.0               1.0          666.0               0.0   \n",
       "99              2818.0               0.0            NaN               0.0   \n",
       "\n",
       "    ponds_nearest  days_exposition  \n",
       "0           755.0              NaN  \n",
       "1             NaN             81.0  \n",
       "2           574.0            558.0  \n",
       "3           234.0            424.0  \n",
       "4            48.0            121.0  \n",
       "..            ...              ...  \n",
       "95          881.0             34.0  \n",
       "96          746.0             31.0  \n",
       "97            NaN             34.0  \n",
       "98            NaN            831.0  \n",
       "99            NaN            104.0  \n",
       "\n",
       "[100 rows x 22 columns]"
      ]
     },
     "execution_count": 464,
     "metadata": {},
     "output_type": "execute_result"
    }
   ],
   "source": [
    "data.head(100)"
   ]
  },
  {
   "cell_type": "markdown",
   "metadata": {},
   "source": [
    "Названия колонки в порядке, нет никаких посимвольных ошибок\n",
    "\n",
    "Но не будем пренебергать числами, которые не совпадают с размером датафрейма, например, данные \"is_apartment\" начисляется 2775 как заполненные, а остальные (23699 - 2775 = 20924) не заполнены. Можно подтвердиться решением кода внизу:"
   ]
  },
  {
   "cell_type": "code",
   "execution_count": 465,
   "metadata": {},
   "outputs": [
    {
     "data": {
      "text/plain": [
       "20924"
      ]
     },
     "execution_count": 465,
     "metadata": {},
     "output_type": "execute_result"
    }
   ],
   "source": [
    "data['is_apartment'].isna().sum()"
   ]
  },
  {
   "cell_type": "markdown",
   "metadata": {},
   "source": [
    "Как и остальные данные также будут претерпевать изменениями - предобработками данных"
   ]
  },
  {
   "cell_type": "markdown",
   "metadata": {},
   "source": [
    "#### Построение гистограмм"
   ]
  },
  {
   "cell_type": "code",
   "execution_count": 466,
   "metadata": {},
   "outputs": [
    {
     "data": {
      "text/plain": [
       "array([[<AxesSubplot:title={'center':'total_images'}>,\n",
       "        <AxesSubplot:title={'center':'last_price'}>,\n",
       "        <AxesSubplot:title={'center':'total_area'}>,\n",
       "        <AxesSubplot:title={'center':'rooms'}>],\n",
       "       [<AxesSubplot:title={'center':'ceiling_height'}>,\n",
       "        <AxesSubplot:title={'center':'floors_total'}>,\n",
       "        <AxesSubplot:title={'center':'living_area'}>,\n",
       "        <AxesSubplot:title={'center':'floor'}>],\n",
       "       [<AxesSubplot:title={'center':'kitchen_area'}>,\n",
       "        <AxesSubplot:title={'center':'balcony'}>,\n",
       "        <AxesSubplot:title={'center':'airports_nearest'}>,\n",
       "        <AxesSubplot:title={'center':'cityCenters_nearest'}>],\n",
       "       [<AxesSubplot:title={'center':'parks_around3000'}>,\n",
       "        <AxesSubplot:title={'center':'parks_nearest'}>,\n",
       "        <AxesSubplot:title={'center':'ponds_around3000'}>,\n",
       "        <AxesSubplot:title={'center':'ponds_nearest'}>],\n",
       "       [<AxesSubplot:title={'center':'days_exposition'}>, <AxesSubplot:>,\n",
       "        <AxesSubplot:>, <AxesSubplot:>]], dtype=object)"
      ]
     },
     "execution_count": 466,
     "metadata": {},
     "output_type": "execute_result"
    },
    {
     "data": {
      "image/png": "[encoded data removed]",
      "text/plain": [
       "<Figure size 1080x1440 with 20 Axes>"
      ]
     },
     "metadata": {
      "needs_background": "light"
     },
     "output_type": "display_data"
    }
   ],
   "source": [
    "data.hist(figsize=(15, 20))"
   ]
  },
  {
   "cell_type": "markdown",
   "metadata": {},
   "source": [
    "### Предобработка данных"
   ]
  },
  {
   "cell_type": "markdown",
   "metadata": {},
   "source": [
    "#### Удаление пропусков"
   ]
  },
  {
   "cell_type": "code",
   "execution_count": 467,
   "metadata": {},
   "outputs": [
    {
     "data": {
      "text/plain": [
       "total_images                0\n",
       "last_price                  0\n",
       "total_area                  0\n",
       "first_day_exposition        0\n",
       "rooms                       0\n",
       "ceiling_height           9195\n",
       "floors_total               86\n",
       "living_area              1903\n",
       "floor                       0\n",
       "is_apartment            20924\n",
       "studio                      0\n",
       "open_plan                   0\n",
       "kitchen_area             2278\n",
       "balcony                 11519\n",
       "locality_name              49\n",
       "airports_nearest         5542\n",
       "cityCenters_nearest      5519\n",
       "parks_around3000         5518\n",
       "parks_nearest           15620\n",
       "ponds_around3000         5518\n",
       "ponds_nearest           14589\n",
       "days_exposition          3181\n",
       "dtype: int64"
      ]
     },
     "execution_count": 467,
     "metadata": {},
     "output_type": "execute_result"
    }
   ],
   "source": [
    "data.isna().sum()"
   ]
  },
  {
   "cell_type": "markdown",
   "metadata": {},
   "source": [
    "Можно заметить, что в столбцах есть пропущения: \n",
    "- ceiling_height - \"высота потолка\", \n",
    "\n",
    "- floors_total - \"всего этажей в доме\"\n",
    "\n",
    "- living_area - \"жилая площадь в квадратных метрах (м²)\", \n",
    "\n",
    "- is_apartment - \"апартаменты (булев тип)\", \n",
    "\n",
    "- kitchen_area - \"площадь кухни в квадратных метрах (м²)\", \n",
    "\n",
    "- balcony - \"количество балкона\", \n",
    "\n",
    "- locality_name - \"название населённого пункта\", \n",
    "\n",
    "- airports_nearest - \"расстояние до ближайшего аэропорта в метрах (м)\", \n",
    "\n",
    "- cityCenters_nearest - \"расстояние до центра города (м)\", \n",
    "\n",
    "- parks_around3000 - \"число парков в радиусах 3 км\"\n",
    "\n",
    "- parks_nearest - \"расстояние до ближайшего парка (м)\"\n",
    "\n",
    "- ponds_around3000 - \"число водоёмов в радиусе 3 км\"\n",
    "\n",
    "- ponds_nearest - \"расстояние до ближайшего водоёма (м)\"\n",
    "\n",
    "- days_exposition - \"сколько дней было размещено объявление (от публикации до снятия)\""
   ]
  },
  {
   "cell_type": "markdown",
   "metadata": {},
   "source": [
    "Идея и действия с пропусками:\n",
    "\n",
    "- Высоту потолка можно поставить медианное значение\n",
    "\n",
    "- ~~Кол-во этажей в доме можно поставить медианное значение~~\n",
    "- Кол-во этажей оставим пустыми, но сделать его целочисленными типами\n",
    "\n",
    "- Жилую площадку также можно поставить медианное значение\n",
    "\n",
    "- ~~Аппартаменты можно по умолчанию ставить 0, т.е. данная квартира не является аппартаментом~~\n",
    "\n",
    "- С аппартаментом спорный вопрос, лучше оставить их пустыми (т.к. эти данные являются категоризациями). Сделать его булевыми типами\n",
    "\n",
    "- Площадь кухни можно поставить медианное значение\n",
    "\n",
    "- По рекомендацию количество балкона можно поставить как 0. Но сделать его целочисленными типами\n",
    "\n",
    "- Пустое значение населенного пункта оставить как и есть (т.к. является катогеризацией), а неявные дубликаты устраняем\n",
    "\n",
    "- Расстояние до ближайшего аэропорта оставим пустым, т.к. неизвестно где располагается недвижимость\n",
    "\n",
    "- Расстояние до центра города аналогично с расстоянием до ближайшего аэропорта\n",
    "\n",
    "- Число парков можно аналогично с предыдущим пунктом. Но сделать его целочисленными типами\n",
    "\n",
    "- Расстояние ближайшего парка аналогично с предыдущим пунктом\n",
    "\n",
    "- Число водоемов можно аналогично с предыдущим пунктом. Но сделать его целочисленными типами\n",
    "\n",
    "- Расстояние до ближайшего водоема оставим пустым, т.к. неизвестно где располагается недвижимость\n",
    "\n",
    "- Срок публикации аналогично оставим пустым, т.к. у каждого дома есть свой уникальный срок публикации, поэтому нельзя полагаться на медианное значение и любые приближенные значения"
   ]
  },
  {
   "cell_type": "markdown",
   "metadata": {},
   "source": [
    "В проектах ГК ПИК высота потолков в квартирах находится в диапазоне 2,6 - 3,1 м, замечает Сергей Ковров.\n",
    "\n",
    "Однако максимальная высота потолков, как правило, не регламентируется,\n",
    "но чаще всего она в современной застройке не превышает 3,2 метра. \n",
    "В старых домах с увеличенными габаритами и площадью потолки могут быть 4 метра высотой и более."
   ]
  },
  {
   "cell_type": "code",
   "execution_count": 468,
   "metadata": {},
   "outputs": [
    {
     "data": {
      "text/plain": [
       "2.50     3515\n",
       "2.60     1646\n",
       "2.70     1574\n",
       "3.00     1112\n",
       "2.80      993\n",
       "         ... \n",
       "4.25        1\n",
       "3.39        1\n",
       "3.93        1\n",
       "10.30       1\n",
       "4.65        1\n",
       "Name: ceiling_height, Length: 183, dtype: int64"
      ]
     },
     "execution_count": 468,
     "metadata": {},
     "output_type": "execute_result"
    }
   ],
   "source": [
    "# Смотрим, какая высота потолка самая распространенная\n",
    "data['ceiling_height'].value_counts()"
   ]
  },
  {
   "cell_type": "markdown",
   "metadata": {},
   "source": [
    "Здесь получилось, что распространенной высоты потолка является 2,5 "
   ]
  },
  {
   "cell_type": "code",
   "execution_count": 469,
   "metadata": {},
   "outputs": [
    {
     "name": "stdout",
     "output_type": "stream",
     "text": [
      "[  1.     1.2    1.75   2.     2.2    2.25   2.3    2.34   2.4    2.45\n",
      "   2.46   2.47   2.48   2.49   2.5    2.51   2.52   2.53   2.54   2.55\n",
      "   2.56   2.57   2.58   2.59   2.6    2.61   2.62   2.63   2.64   2.65\n",
      "   2.66   2.67   2.68   2.69   2.7    2.71   2.72   2.73   2.74   2.75\n",
      "   2.76   2.77   2.78   2.79   2.8    2.81   2.82   2.83   2.84   2.85\n",
      "   2.86   2.87   2.88   2.89   2.9    2.91   2.92   2.93   2.94   2.95\n",
      "   2.96   2.97   2.98   2.99   3.     3.01   3.02   3.03   3.04   3.05\n",
      "   3.06   3.07   3.08   3.09   3.1    3.11   3.12   3.13   3.14   3.15\n",
      "   3.16   3.17   3.18   3.2    3.21   3.22   3.23   3.24   3.25   3.26\n",
      "   3.27   3.28   3.29   3.3    3.31   3.32   3.33   3.34   3.35   3.36\n",
      "   3.37   3.38   3.39   3.4    3.42   3.43   3.44   3.45   3.46   3.47\n",
      "   3.48   3.49   3.5    3.51   3.52   3.53   3.54   3.55   3.56   3.57\n",
      "   3.58   3.59   3.6    3.62   3.63   3.65   3.66   3.67   3.68   3.69\n",
      "   3.7    3.75   3.76   3.78   3.8    3.82   3.83   3.84   3.85   3.86\n",
      "   3.87   3.88   3.9    3.93   3.95   3.98   4.     4.06   4.1    4.14\n",
      "   4.15   4.19   4.2    4.25   4.3    4.37   4.4    4.45   4.5    4.65\n",
      "   4.7    4.8    4.9    5.     5.2    5.3    5.5    5.6    5.8    6.\n",
      "   8.     8.3   10.3   14.    20.    22.6   24.    25.    26.    27.\n",
      "  27.5   32.   100.      nan]\n"
     ]
    }
   ],
   "source": [
    "# Не все данные показывают, узнаем через метод unique\n",
    "print(data['ceiling_height'].sort_values().unique())"
   ]
  },
  {
   "cell_type": "markdown",
   "metadata": {},
   "source": [
    "Но можно заметить, что существуют дома, потолки которого превышают не только 3,2 метра, но и меньше 2,5 метров. Устраним их"
   ]
  },
  {
   "cell_type": "code",
   "execution_count": 470,
   "metadata": {},
   "outputs": [],
   "source": [
    "# Устраняем данные дома, в котором высота потолки не находится в этом диапазоне 2,5 - 3,2, \n",
    "# но за исключением выше 24, 25, 26, 27, 27,5, 32,0.\n",
    "data = data[((data['ceiling_height'] > 2.5) & (data['ceiling_height'] <= 3.2)) | (data['ceiling_height'] >= 24)]\n",
    "\n",
    "# Уменьшаем в 10 раз для домов, у которых потолки выше 24 метров\n",
    "data.loc[data['ceiling_height'] >= 24, 'ceiling_height'] = data['ceiling_height'] / 10\n",
    "\n",
    "# Устраняем дом, у которого потолок 10 метр\n",
    "data = data[data['ceiling_height'] != 10]"
   ]
  },
  {
   "cell_type": "code",
   "execution_count": 471,
   "metadata": {},
   "outputs": [
    {
     "name": "stdout",
     "output_type": "stream",
     "text": [
      "[2.4  2.5  2.51 2.52 2.53 2.54 2.55 2.56 2.57 2.58 2.59 2.6  2.61 2.62\n",
      " 2.63 2.64 2.65 2.66 2.67 2.68 2.69 2.7  2.71 2.72 2.73 2.74 2.75 2.76\n",
      " 2.77 2.78 2.79 2.8  2.81 2.82 2.83 2.84 2.85 2.86 2.87 2.88 2.89 2.9\n",
      " 2.91 2.92 2.93 2.94 2.95 2.96 2.97 2.98 2.99 3.   3.01 3.02 3.03 3.04\n",
      " 3.05 3.06 3.07 3.08 3.09 3.1  3.11 3.12 3.13 3.14 3.15 3.16 3.17 3.18\n",
      " 3.2 ]\n"
     ]
    }
   ],
   "source": [
    "# Проверим и убедимся, что аномальных значений нет\n",
    "print(data['ceiling_height'].sort_values().unique())"
   ]
  },
  {
   "cell_type": "code",
   "execution_count": 472,
   "metadata": {},
   "outputs": [
    {
     "name": "stdout",
     "output_type": "stream",
     "text": [
      "Медианное значение высоты потолка: 2.7\n"
     ]
    }
   ],
   "source": [
    "# Заполним пропуски медианные значения высоты потолка\n",
    "print('Медианное значение высоты потолка:', data['ceiling_height'].median())\n",
    "data['ceiling_height'] = data['ceiling_height'].fillna(data['ceiling_height'].median())"
   ]
  },
  {
   "cell_type": "code",
   "execution_count": 473,
   "metadata": {},
   "outputs": [
    {
     "name": "stdout",
     "output_type": "stream",
     "text": [
      "Медианное значение: 31.0\n"
     ]
    },
    {
     "data": {
      "text/plain": [
       "31.00     689\n",
       "18.00     316\n",
       "20.00     249\n",
       "17.00     234\n",
       "30.00     221\n",
       "         ... \n",
       "170.00      1\n",
       "22.57       1\n",
       "12.90       1\n",
       "36.07       1\n",
       "17.49       1\n",
       "Name: living_area, Length: 1183, dtype: int64"
      ]
     },
     "execution_count": 473,
     "metadata": {},
     "output_type": "execute_result"
    }
   ],
   "source": [
    "# Заполним пропуски медианные значения жилой площади\n",
    "print('Медианное значение:', data['living_area'].median())\n",
    "data['living_area'] = data['living_area'].fillna(data['living_area'].median())\n",
    "\n",
    "data['living_area'].value_counts()"
   ]
  },
  {
   "cell_type": "code",
   "execution_count": 474,
   "metadata": {},
   "outputs": [
    {
     "name": "stdout",
     "output_type": "stream",
     "text": [
      "Медианное значение площади кухни: 10.0\n"
     ]
    },
    {
     "data": {
      "text/plain": [
       "10.00    1263\n",
       "9.00      445\n",
       "8.00      434\n",
       "11.00     413\n",
       "7.00      368\n",
       "         ... \n",
       "15.61       1\n",
       "13.93       1\n",
       "3.50        1\n",
       "12.56       1\n",
       "16.38       1\n",
       "Name: kitchen_area, Length: 635, dtype: int64"
      ]
     },
     "execution_count": 474,
     "metadata": {},
     "output_type": "execute_result"
    }
   ],
   "source": [
    "# Заполним пропуски медианные значения площади кухни\n",
    "print('Медианное значение площади кухни:', data['kitchen_area'].median())\n",
    "data['kitchen_area'] = data['kitchen_area'].fillna(data['kitchen_area'].median())\n",
    "\n",
    "data['kitchen_area'].value_counts()"
   ]
  },
  {
   "cell_type": "code",
   "execution_count": 475,
   "metadata": {},
   "outputs": [
    {
     "data": {
      "text/plain": [
       "0    5741\n",
       "2    2052\n",
       "1    1962\n",
       "5     195\n",
       "4     115\n",
       "3      54\n",
       "Name: balcony, dtype: Int64"
      ]
     },
     "execution_count": 475,
     "metadata": {},
     "output_type": "execute_result"
    }
   ],
   "source": [
    "# Обнаружили, что кол-во балконов является вещественными числами, их нужно сделать целочисленными типами\n",
    "# Заполним пропуски количеств балконов как отстутствие (0)\n",
    "data['balcony'] = data['balcony'].fillna(0).astype('Int64')\n",
    "\n",
    "data['balcony'].value_counts()"
   ]
  },
  {
   "cell_type": "code",
   "execution_count": 476,
   "metadata": {},
   "outputs": [
    {
     "data": {
      "text/plain": [
       "9877"
      ]
     },
     "execution_count": 476,
     "metadata": {},
     "output_type": "execute_result"
    }
   ],
   "source": [
    "# Посчитаем дубликаты\n",
    "data['locality_name'] = data['locality_name'].str.lower()\n",
    "data['locality_name'].duplicated().sum()"
   ]
  },
  {
   "cell_type": "markdown",
   "metadata": {},
   "source": [
    "#### Изменение данных названий населенного пункта"
   ]
  },
  {
   "cell_type": "code",
   "execution_count": 477,
   "metadata": {},
   "outputs": [
    {
     "data": {
      "text/plain": [
       "array(['бокситогорск', 'волосово', 'волхов', 'всеволожск', 'выборг',\n",
       "       'гатчина', 'городской поселок большая ижора',\n",
       "       'городской поселок янино-1', 'городской посёлок будогощь',\n",
       "       'городской посёлок виллози', 'городской посёлок лесогорский',\n",
       "       'городской посёлок мга', 'городской посёлок назия',\n",
       "       'городской посёлок новоселье', 'городской посёлок павлово',\n",
       "       'городской посёлок рощино', 'городской посёлок советский',\n",
       "       'городской посёлок фёдоровское', 'городской посёлок янино-1',\n",
       "       'деревня агалатово', 'деревня батово', 'деревня бегуницы',\n",
       "       'деревня белогорка', 'деревня большая вруда',\n",
       "       'деревня большие колпаны', 'деревня бор', 'деревня борисова грива',\n",
       "       'деревня ваганово', 'деревня вартемяги', 'деревня вахнова кара',\n",
       "       'деревня гарболово', 'деревня глинка', 'деревня горбунки',\n",
       "       'деревня гостилицы', 'деревня заневка', 'деревня зимитицы',\n",
       "       'деревня извара', 'деревня калитино', 'деревня кальтино',\n",
       "       'деревня камышовка', 'деревня каськово', 'деревня келози',\n",
       "       'деревня кипень', 'деревня кисельня', 'деревня колтуши',\n",
       "       'деревня коркино', 'деревня кривко', 'деревня кудрово',\n",
       "       'деревня кузьмолово', 'деревня куттузи', 'деревня лаголово',\n",
       "       'деревня лампово', 'деревня лесколово', 'деревня лопухинка',\n",
       "       'деревня малое верево', 'деревня малое карлино',\n",
       "       'деревня малые колпаны', 'деревня мины', 'деревня мистолово',\n",
       "       'деревня ненимяки', 'деревня нижняя', 'деревня низино',\n",
       "       'деревня новое девяткино', 'деревня новолисино', 'деревня нурма',\n",
       "       'деревня оржицы', 'деревня парицы', 'деревня пеники',\n",
       "       'деревня пудомяги', 'деревня рабитицы', 'деревня разбегаево',\n",
       "       'деревня разметелево', 'деревня рапполово', 'деревня старая',\n",
       "       'деревня старая пустошь', 'деревня старосиверская',\n",
       "       'деревня суоранда', 'деревня торосово', 'деревня фёдоровское',\n",
       "       'деревня хапо-ое', 'деревня шпаньково', 'деревня юкки',\n",
       "       'деревня яльгелево', 'зеленогорск', 'ивангород', 'каменногорск',\n",
       "       'кингисепп', 'кириши', 'кировск', 'колпино', 'коммунар',\n",
       "       'коттеджный поселок кивеннапа север', 'коттеджный поселок счастье',\n",
       "       'красное село', 'кронштадт', 'кудрово', 'лодейное поле',\n",
       "       'ломоносов', 'луга', 'любань', 'мурино', 'никольское',\n",
       "       'новая ладога', 'отрадное', 'павловск', 'петергоф', 'пикалёво',\n",
       "       'подпорожье', 'поселок аннино', 'поселок барышево',\n",
       "       'поселок бугры', 'поселок войсковицы', 'поселок гладкое',\n",
       "       'поселок гончарово', 'поселок городского типа вырица',\n",
       "       'поселок городского типа дружная горка',\n",
       "       'поселок городского типа дубровка',\n",
       "       'поселок городского типа ефимовский',\n",
       "       'поселок городского типа имени свердлова',\n",
       "       'поселок городского типа кузьмоловский',\n",
       "       'поселок городского типа лебяжье',\n",
       "       'поселок городского типа никольский',\n",
       "       'поселок городского типа приладожский',\n",
       "       'поселок городского типа рахья', 'поселок городского типа рощино',\n",
       "       'поселок городского типа синявино',\n",
       "       'поселок городского типа советский', 'поселок громово',\n",
       "       'поселок дружноселье', 'поселок елизаветино', 'поселок жилпосёлок',\n",
       "       'поселок запорожское', 'поселок зимитицы', 'поселок ильичёво',\n",
       "       'поселок кобралово', 'поселок коммунары', 'поселок коробицыно',\n",
       "       'поселок котельский', 'поселок красная долина', 'поселок лесное',\n",
       "       'поселок лисий нос', 'поселок лукаши', 'поселок мельниково',\n",
       "       'поселок мичуринское', 'поселок молодцово', 'поселок мурино',\n",
       "       'поселок новый свет', 'поселок новый учхоз',\n",
       "       'поселок пансионат зелёный бор', 'поселок первомайское',\n",
       "       'поселок петровское', 'поселок победа', 'поселок поляны',\n",
       "       'поселок почап', 'поселок починок', 'поселок пушное',\n",
       "       'поселок романовка', 'поселок рябово', 'поселок сельцо',\n",
       "       'поселок серебрянский', 'поселок совхозный',\n",
       "       'поселок станции вещево', 'поселок станции приветнинское',\n",
       "       'поселок стеклянный', 'поселок сумино', 'поселок суходолье',\n",
       "       'поселок торковичи', 'поселок углово', 'посёлок александровская',\n",
       "       'посёлок аннино', 'посёлок бугры',\n",
       "       'посёлок городского типа важины', 'посёлок городского типа вырица',\n",
       "       'посёлок городского типа имени морозова',\n",
       "       'посёлок городского типа имени свердлова',\n",
       "       'посёлок городского типа красный бор',\n",
       "       'посёлок городского типа кузнечное',\n",
       "       'посёлок городского типа кузьмоловский',\n",
       "       'посёлок городского типа лебяжье', 'посёлок городского типа мга',\n",
       "       'посёлок городского типа рощино', 'посёлок городского типа рябово',\n",
       "       'посёлок городского типа сиверский',\n",
       "       'посёлок городского типа тайцы', 'посёлок городского типа токсово',\n",
       "       'посёлок городского типа ульяновка', 'посёлок жилгородок',\n",
       "       'посёлок ильичёво', 'посёлок кикерино', 'посёлок коробицыно',\n",
       "       'посёлок лисий нос', 'посёлок металлострой', 'посёлок мичуринское',\n",
       "       'посёлок молодёжное', 'посёлок мурино', 'посёлок новогорелово',\n",
       "       'посёлок новый свет', 'посёлок парголово', 'посёлок песочный',\n",
       "       'посёлок петровское', 'посёлок платформа 69-й километр',\n",
       "       'посёлок плодовое', 'посёлок победа', 'посёлок поляны',\n",
       "       'посёлок понтонный',\n",
       "       'посёлок при железнодорожной станции приветнинское',\n",
       "       'посёлок пригородный', 'посёлок пудость', 'посёлок репино',\n",
       "       'посёлок ропша', 'посёлок сапёрное', 'посёлок сапёрный',\n",
       "       'посёлок сосново', 'посёлок стеклянный', 'посёлок стрельна',\n",
       "       'посёлок суйда', 'посёлок сумино', 'посёлок тельмана',\n",
       "       'посёлок терволово', 'посёлок торфяное', 'посёлок шушары',\n",
       "       'посёлок щеглово', 'приморск', 'приозерск', 'пушкин',\n",
       "       'садовое товарищество новая ропша', 'садовое товарищество рахья',\n",
       "       'санкт-петербург', 'светогорск', 'село копорье', 'село павлово',\n",
       "       'село путилово', 'село русско-высоцкое', 'сертолово', 'сестрорецк',\n",
       "       'сланцы', 'сосновый бор', 'сясьстрой', 'тихвин', 'тосно',\n",
       "       'шлиссельбург', nan], dtype=object)"
      ]
     },
     "execution_count": 477,
     "metadata": {},
     "output_type": "execute_result"
    }
   ],
   "source": [
    "# Получим уникальные названий населенного пункта\n",
    "data['locality_name'].sort_values().unique()"
   ]
  },
  {
   "cell_type": "markdown",
   "metadata": {},
   "source": [
    "Создадим новую колонку, в которой находятся только названия без дополнительных пояснений вроде того \"поселок\" и т.д."
   ]
  },
  {
   "cell_type": "code",
   "execution_count": 478,
   "metadata": {},
   "outputs": [],
   "source": [
    "def locality_name(row):\n",
    "    try:\n",
    "        if 'городской поселок' in row:\n",
    "            return row.replace('городской поселок ', '')\n",
    "        elif 'городской посёлок' in row:\n",
    "            return row.replace('городской посёлок ', '')\n",
    "        elif 'деревня' in row:\n",
    "            return row.replace('деревня ', '')\n",
    "        elif 'поселок городского типа' in row:\n",
    "            return row.replace('поселок городского типа ', '')\n",
    "        elif 'посёлок городского типа' in row:\n",
    "            return row.replace('посёлок городского типа ', '')\n",
    "        elif 'поселок' in row:\n",
    "            return row.replace('поселок ', '')\n",
    "        elif 'посёлок' in row:\n",
    "            return row.replace('посёлок ', '')\n",
    "        elif 'село' in row:\n",
    "            return row.replace('село ', '')\n",
    "        elif 'садовое товарищество ' in row:\n",
    "            return row.replace('садовое товарищество ', '')\n",
    "        elif 'nan' in row:\n",
    "            return 'Неизвестное'\n",
    "        else:\n",
    "            return row\n",
    "    except:\n",
    "        return 'нет категории'\n",
    "\n",
    "data['locality_good_name'] = data['locality_name'].apply(locality_name)"
   ]
  },
  {
   "cell_type": "code",
   "execution_count": 479,
   "metadata": {},
   "outputs": [
    {
     "data": {
      "text/plain": [
       "array(['агалатово', 'александровская', 'аннино', 'барышево', 'батово',\n",
       "       'бегуницы', 'белогорка', 'бокситогорск', 'большая вруда',\n",
       "       'большая ижора', 'большие колпаны', 'бор', 'борисова грива',\n",
       "       'бугры', 'будогощь', 'ваганово', 'важины', 'вартемяги',\n",
       "       'вахнова кара', 'виллози', 'войсковицы', 'волосово', 'волхов',\n",
       "       'всеволожск', 'выборг', 'вырица', 'гарболово', 'гатчина',\n",
       "       'гладкое', 'глинка', 'гончарово', 'горбунки', 'гостилицы',\n",
       "       'громово', 'дружная горка', 'дружноселье', 'дубровка',\n",
       "       'елизаветино', 'ефимовский', 'жилгородок', 'жилпосёлок', 'заневка',\n",
       "       'запорожское', 'зеленогорск', 'зимитицы', 'ивангород', 'извара',\n",
       "       'ильичёво', 'имени морозова', 'имени свердлова', 'калитино',\n",
       "       'кальтино', 'каменногорск', 'камышовка', 'каськово', 'келози',\n",
       "       'кикерино', 'кингисепп', 'кипень', 'кириши', 'кировск', 'кисельня',\n",
       "       'кобралово', 'колпино', 'колтуши', 'коммунар', 'коммунары',\n",
       "       'копорье', 'коркино', 'коробицыно', 'котельский',\n",
       "       'коттеджный кивеннапа север', 'коттеджный счастье',\n",
       "       'красная долина', 'красное село', 'красный бор', 'кривко',\n",
       "       'кронштадт', 'кудрово', 'кузнечное', 'кузьмолово', 'кузьмоловский',\n",
       "       'куттузи', 'лаголово', 'лампово', 'лебяжье', 'лесколово', 'лесное',\n",
       "       'лесогорский', 'лисий нос', 'лодейное поле', 'ломоносов',\n",
       "       'лопухинка', 'луга', 'лукаши', 'любань', 'малое верево',\n",
       "       'малое карлино', 'малые колпаны', 'мга', 'мельниково',\n",
       "       'металлострой', 'мины', 'мистолово', 'мичуринское', 'молодцово',\n",
       "       'молодёжное', 'мурино', 'назия', 'ненимяки', 'нет категории',\n",
       "       'нижняя', 'низино', 'никольский', 'никольское', 'новая ладога',\n",
       "       'новая ропша', 'новогорелово', 'новое девяткино', 'новолисино',\n",
       "       'новоселье', 'новый свет', 'новый учхоз', 'нурма', 'оржицы',\n",
       "       'отрадное', 'павлово', 'павловск', 'пансионат зелёный бор',\n",
       "       'парголово', 'парицы', 'пеники', 'первомайское', 'песочный',\n",
       "       'петергоф', 'петровское', 'пикалёво', 'платформа 69-й километр',\n",
       "       'плодовое', 'победа', 'подпорожье', 'поляны', 'понтонный', 'почап',\n",
       "       'починок', 'при железнодорожной станции приветнинское',\n",
       "       'пригородный', 'приладожский', 'приморск', 'приозерск', 'пудомяги',\n",
       "       'пудость', 'путилово', 'пушкин', 'пушное', 'рабитицы',\n",
       "       'разбегаево', 'разметелево', 'рапполово', 'рахья', 'репино',\n",
       "       'романовка', 'ропша', 'рощино', 'русско-высоцкое', 'рябово',\n",
       "       'санкт-петербург', 'сапёрное', 'сапёрный', 'светогорск', 'сельцо',\n",
       "       'серебрянский', 'сертолово', 'сестрорецк', 'сиверский', 'синявино',\n",
       "       'сланцы', 'советский', 'совхозный', 'сосново', 'сосновый бор',\n",
       "       'станции вещево', 'станции приветнинское', 'старая',\n",
       "       'старая пустошь', 'старосиверская', 'стеклянный', 'стрельна',\n",
       "       'суйда', 'сумино', 'суоранда', 'суходолье', 'сясьстрой', 'тайцы',\n",
       "       'тельмана', 'терволово', 'тихвин', 'токсово', 'торковичи',\n",
       "       'торосово', 'торфяное', 'тосно', 'углово', 'ульяновка',\n",
       "       'фёдоровское', 'хапо-ое', 'шлиссельбург', 'шпаньково', 'шушары',\n",
       "       'щеглово', 'юкки', 'яльгелево', 'янино-1'], dtype=object)"
      ]
     },
     "execution_count": 479,
     "metadata": {},
     "output_type": "execute_result"
    }
   ],
   "source": [
    "# Получим уникальные названий населенного пункта\n",
    "data['locality_good_name'].sort_values().unique()"
   ]
  },
  {
   "cell_type": "code",
   "execution_count": 480,
   "metadata": {},
   "outputs": [
    {
     "data": {
      "text/plain": [
       "0"
      ]
     },
     "execution_count": 480,
     "metadata": {},
     "output_type": "execute_result"
    }
   ],
   "source": [
    "# Проверим и убедимся, что заполнили пропущенные значения\n",
    "data['locality_good_name'].isna().sum()"
   ]
  },
  {
   "cell_type": "markdown",
   "metadata": {},
   "source": [
    "Можно заметить, что колонка is_apartment не является булевым типом, следовательно, нужно исправить её"
   ]
  },
  {
   "cell_type": "code",
   "execution_count": 481,
   "metadata": {},
   "outputs": [],
   "source": [
    "data['is_apartment'] = data['is_apartment'].astype('bool')"
   ]
  },
  {
   "cell_type": "code",
   "execution_count": 482,
   "metadata": {},
   "outputs": [
    {
     "data": {
      "text/plain": [
       "True     8716\n",
       "False    1403\n",
       "Name: is_apartment, dtype: int64"
      ]
     },
     "execution_count": 482,
     "metadata": {},
     "output_type": "execute_result"
    }
   ],
   "source": [
    "# Проверим, есть ли в других местах False\n",
    "data['is_apartment'].value_counts()"
   ]
  },
  {
   "cell_type": "code",
   "execution_count": 483,
   "metadata": {},
   "outputs": [],
   "source": [
    "# Кол-во этажей является вещественными числами, их нужно сделать целочисленными типами\n",
    "data['floors_total'] = data['floors_total'].astype('Int64')"
   ]
  },
  {
   "cell_type": "code",
   "execution_count": 484,
   "metadata": {},
   "outputs": [],
   "source": [
    "# Число парков в радиусах 3 км является вещественными числами, их нужно сделать целочисленными типами\n",
    "data['parks_around3000'] = data['parks_around3000'].astype('Int64')"
   ]
  },
  {
   "cell_type": "code",
   "execution_count": 485,
   "metadata": {},
   "outputs": [],
   "source": [
    "# Число водоемов в радиусах 3 км является вещественными числами, их нужно сделать целочисленными типами\n",
    "data['ponds_around3000'] = data['ponds_around3000'].astype('Int64')"
   ]
  },
  {
   "cell_type": "code",
   "execution_count": 486,
   "metadata": {},
   "outputs": [
    {
     "data": {
      "text/plain": [
       "total_images               0\n",
       "last_price                 0\n",
       "total_area                 0\n",
       "first_day_exposition       0\n",
       "rooms                      0\n",
       "ceiling_height             0\n",
       "floors_total               9\n",
       "living_area                0\n",
       "floor                      0\n",
       "is_apartment               0\n",
       "studio                     0\n",
       "open_plan                  0\n",
       "kitchen_area               0\n",
       "balcony                    0\n",
       "locality_name             12\n",
       "airports_nearest        1925\n",
       "cityCenters_nearest     1910\n",
       "parks_around3000        1909\n",
       "parks_nearest           6470\n",
       "ponds_around3000        1909\n",
       "ponds_nearest           5956\n",
       "days_exposition         1623\n",
       "locality_good_name         0\n",
       "dtype: int64"
      ]
     },
     "execution_count": 486,
     "metadata": {},
     "output_type": "execute_result"
    }
   ],
   "source": [
    "# Проверим и убедимся, что заполнили пропущенные значения в некоторых колонках\n",
    "data.isna().sum()"
   ]
  },
  {
   "cell_type": "markdown",
   "metadata": {},
   "source": [
    "### Посчитайте и добавьте в таблицу новые столбцы"
   ]
  },
  {
   "cell_type": "code",
   "execution_count": 487,
   "metadata": {},
   "outputs": [
    {
     "data": {
      "text/html": [
       "<div>\n",
       "<style scoped>\n",
       "    .dataframe tbody tr th:only-of-type {\n",
       "        vertical-align: middle;\n",
       "    }\n",
       "\n",
       "    .dataframe tbody tr th {\n",
       "        vertical-align: top;\n",
       "    }\n",
       "\n",
       "    .dataframe thead th {\n",
       "        text-align: right;\n",
       "    }\n",
       "</style>\n",
       "<table border=\"1\" class=\"dataframe\">\n",
       "  <thead>\n",
       "    <tr style=\"text-align: right;\">\n",
       "      <th></th>\n",
       "      <th>total_images</th>\n",
       "      <th>last_price</th>\n",
       "      <th>total_area</th>\n",
       "      <th>first_day_exposition</th>\n",
       "      <th>rooms</th>\n",
       "      <th>ceiling_height</th>\n",
       "      <th>floors_total</th>\n",
       "      <th>living_area</th>\n",
       "      <th>floor</th>\n",
       "      <th>is_apartment</th>\n",
       "      <th>...</th>\n",
       "      <th>balcony</th>\n",
       "      <th>locality_name</th>\n",
       "      <th>airports_nearest</th>\n",
       "      <th>cityCenters_nearest</th>\n",
       "      <th>parks_around3000</th>\n",
       "      <th>parks_nearest</th>\n",
       "      <th>ponds_around3000</th>\n",
       "      <th>ponds_nearest</th>\n",
       "      <th>days_exposition</th>\n",
       "      <th>locality_good_name</th>\n",
       "    </tr>\n",
       "  </thead>\n",
       "  <tbody>\n",
       "    <tr>\n",
       "      <th>0</th>\n",
       "      <td>20</td>\n",
       "      <td>13000000.0</td>\n",
       "      <td>108.0</td>\n",
       "      <td>2019-03-07T00:00:00</td>\n",
       "      <td>3</td>\n",
       "      <td>2.70</td>\n",
       "      <td>16</td>\n",
       "      <td>51.0</td>\n",
       "      <td>8</td>\n",
       "      <td>True</td>\n",
       "      <td>...</td>\n",
       "      <td>0</td>\n",
       "      <td>санкт-петербург</td>\n",
       "      <td>18863.0</td>\n",
       "      <td>16028.0</td>\n",
       "      <td>1</td>\n",
       "      <td>482.0</td>\n",
       "      <td>2</td>\n",
       "      <td>755.0</td>\n",
       "      <td>NaN</td>\n",
       "      <td>санкт-петербург</td>\n",
       "    </tr>\n",
       "    <tr>\n",
       "      <th>4</th>\n",
       "      <td>2</td>\n",
       "      <td>10000000.0</td>\n",
       "      <td>100.0</td>\n",
       "      <td>2018-06-19T00:00:00</td>\n",
       "      <td>2</td>\n",
       "      <td>3.03</td>\n",
       "      <td>14</td>\n",
       "      <td>32.0</td>\n",
       "      <td>13</td>\n",
       "      <td>True</td>\n",
       "      <td>...</td>\n",
       "      <td>0</td>\n",
       "      <td>санкт-петербург</td>\n",
       "      <td>31856.0</td>\n",
       "      <td>8098.0</td>\n",
       "      <td>2</td>\n",
       "      <td>112.0</td>\n",
       "      <td>1</td>\n",
       "      <td>48.0</td>\n",
       "      <td>121.0</td>\n",
       "      <td>санкт-петербург</td>\n",
       "    </tr>\n",
       "    <tr>\n",
       "      <th>10</th>\n",
       "      <td>5</td>\n",
       "      <td>5050000.0</td>\n",
       "      <td>39.6</td>\n",
       "      <td>2017-11-16T00:00:00</td>\n",
       "      <td>1</td>\n",
       "      <td>2.67</td>\n",
       "      <td>12</td>\n",
       "      <td>20.3</td>\n",
       "      <td>3</td>\n",
       "      <td>True</td>\n",
       "      <td>...</td>\n",
       "      <td>0</td>\n",
       "      <td>санкт-петербург</td>\n",
       "      <td>38357.0</td>\n",
       "      <td>13878.0</td>\n",
       "      <td>1</td>\n",
       "      <td>310.0</td>\n",
       "      <td>2</td>\n",
       "      <td>553.0</td>\n",
       "      <td>137.0</td>\n",
       "      <td>санкт-петербург</td>\n",
       "    </tr>\n",
       "    <tr>\n",
       "      <th>13</th>\n",
       "      <td>20</td>\n",
       "      <td>3550000.0</td>\n",
       "      <td>42.8</td>\n",
       "      <td>2017-07-01T00:00:00</td>\n",
       "      <td>2</td>\n",
       "      <td>2.56</td>\n",
       "      <td>5</td>\n",
       "      <td>27.0</td>\n",
       "      <td>5</td>\n",
       "      <td>True</td>\n",
       "      <td>...</td>\n",
       "      <td>1</td>\n",
       "      <td>петергоф</td>\n",
       "      <td>37868.0</td>\n",
       "      <td>33058.0</td>\n",
       "      <td>1</td>\n",
       "      <td>294.0</td>\n",
       "      <td>3</td>\n",
       "      <td>298.0</td>\n",
       "      <td>366.0</td>\n",
       "      <td>петергоф</td>\n",
       "    </tr>\n",
       "    <tr>\n",
       "      <th>16</th>\n",
       "      <td>11</td>\n",
       "      <td>6700000.0</td>\n",
       "      <td>82.0</td>\n",
       "      <td>2017-11-23T00:00:00</td>\n",
       "      <td>3</td>\n",
       "      <td>3.05</td>\n",
       "      <td>5</td>\n",
       "      <td>55.6</td>\n",
       "      <td>1</td>\n",
       "      <td>True</td>\n",
       "      <td>...</td>\n",
       "      <td>0</td>\n",
       "      <td>санкт-петербург</td>\n",
       "      <td>22108.0</td>\n",
       "      <td>10698.0</td>\n",
       "      <td>3</td>\n",
       "      <td>420.0</td>\n",
       "      <td>0</td>\n",
       "      <td>NaN</td>\n",
       "      <td>397.0</td>\n",
       "      <td>санкт-петербург</td>\n",
       "    </tr>\n",
       "  </tbody>\n",
       "</table>\n",
       "<p>5 rows × 23 columns</p>\n",
       "</div>"
      ],
      "text/plain": [
       "    total_images  last_price  total_area first_day_exposition  rooms  \\\n",
       "0             20  13000000.0       108.0  2019-03-07T00:00:00      3   \n",
       "4              2  10000000.0       100.0  2018-06-19T00:00:00      2   \n",
       "10             5   5050000.0        39.6  2017-11-16T00:00:00      1   \n",
       "13            20   3550000.0        42.8  2017-07-01T00:00:00      2   \n",
       "16            11   6700000.0        82.0  2017-11-23T00:00:00      3   \n",
       "\n",
       "    ceiling_height  floors_total  living_area  floor  is_apartment  ...  \\\n",
       "0             2.70            16         51.0      8          True  ...   \n",
       "4             3.03            14         32.0     13          True  ...   \n",
       "10            2.67            12         20.3      3          True  ...   \n",
       "13            2.56             5         27.0      5          True  ...   \n",
       "16            3.05             5         55.6      1          True  ...   \n",
       "\n",
       "    balcony    locality_name  airports_nearest  cityCenters_nearest  \\\n",
       "0         0  санкт-петербург           18863.0              16028.0   \n",
       "4         0  санкт-петербург           31856.0               8098.0   \n",
       "10        0  санкт-петербург           38357.0              13878.0   \n",
       "13        1         петергоф           37868.0              33058.0   \n",
       "16        0  санкт-петербург           22108.0              10698.0   \n",
       "\n",
       "   parks_around3000  parks_nearest  ponds_around3000  ponds_nearest  \\\n",
       "0                 1          482.0                 2          755.0   \n",
       "4                 2          112.0                 1           48.0   \n",
       "10                1          310.0                 2          553.0   \n",
       "13                1          294.0                 3          298.0   \n",
       "16                3          420.0                 0            NaN   \n",
       "\n",
       "    days_exposition  locality_good_name  \n",
       "0               NaN     санкт-петербург  \n",
       "4             121.0     санкт-петербург  \n",
       "10            137.0     санкт-петербург  \n",
       "13            366.0            петергоф  \n",
       "16            397.0     санкт-петербург  \n",
       "\n",
       "[5 rows x 23 columns]"
      ]
     },
     "execution_count": 487,
     "metadata": {},
     "output_type": "execute_result"
    }
   ],
   "source": [
    "data.head()"
   ]
  },
  {
   "cell_type": "code",
   "execution_count": 488,
   "metadata": {},
   "outputs": [
    {
     "data": {
      "text/plain": [
       "0        120370.370370\n",
       "4        100000.000000\n",
       "10       127525.252525\n",
       "13        82943.925234\n",
       "16        81707.317073\n",
       "             ...      \n",
       "23688     91089.108911\n",
       "23689    100566.572238\n",
       "23691    129903.978052\n",
       "23693     73717.948718\n",
       "23697    149511.400651\n",
       "Name: price_of_one_square_meter, Length: 10119, dtype: float64"
      ]
     },
     "execution_count": 488,
     "metadata": {},
     "output_type": "execute_result"
    }
   ],
   "source": [
    "# Цена одного квадратного метра = цена на момент снятия с публикации / общая площадь квартиры в квадратных метрах (м²)\n",
    "\n",
    "data['price_of_one_square_meter'] = data['last_price'] / data['total_area']\n",
    "data['price_of_one_square_meter']"
   ]
  },
  {
   "cell_type": "code",
   "execution_count": 489,
   "metadata": {},
   "outputs": [],
   "source": [
    "# Преобразуем в правильный формат даты\n",
    "data['first_day_exposition'] = pd.to_datetime(data['first_day_exposition'], format = '%Y/%m/%d %H:%M:')"
   ]
  },
  {
   "cell_type": "code",
   "execution_count": 490,
   "metadata": {},
   "outputs": [],
   "source": [
    "# Конвентируем в дни недели - дни публикации\n",
    "data['day_of_publication'] = data['first_day_exposition'].dt.day_name()\n",
    "\n",
    "# Конвентируем в дни недели - месяц публикации\n",
    "data['month_of_publication'] = data['first_day_exposition'].dt.month_name()\n",
    "\n",
    "# Конвентируем в дни недели - год публикации\n",
    "data['year_of_publication'] = data['first_day_exposition'].dt.year"
   ]
  },
  {
   "cell_type": "code",
   "execution_count": 491,
   "metadata": {},
   "outputs": [],
   "source": [
    "data['type_floor'] = 'Другой'\n",
    "\n",
    "# Первый\n",
    "data.loc[data['floor'] == 1, 'type_floor'] = 'Первый'\n",
    "\n",
    "# Последний\n",
    "data.loc[data['floor'] == data['floors_total'], 'type_floor'] = 'Последний'"
   ]
  },
  {
   "cell_type": "code",
   "execution_count": 492,
   "metadata": {},
   "outputs": [
    {
     "data": {
      "text/plain": [
       "array(['Другой', 'Последний', 'Первый'], dtype=object)"
      ]
     },
     "execution_count": 492,
     "metadata": {},
     "output_type": "execute_result"
    }
   ],
   "source": [
    "# Проверяем и убедимся, что в данных содержатся 3 типа\n",
    "data['type_floor'].unique()"
   ]
  },
  {
   "cell_type": "code",
   "execution_count": 493,
   "metadata": {},
   "outputs": [],
   "source": [
    "# Расстояние до центра города в километрах\n",
    "data['cityCenters_nearest_km'] = round(data['cityCenters_nearest'] / 1000)"
   ]
  },
  {
   "cell_type": "code",
   "execution_count": 494,
   "metadata": {},
   "outputs": [
    {
     "data": {
      "text/html": [
       "<div>\n",
       "<style scoped>\n",
       "    .dataframe tbody tr th:only-of-type {\n",
       "        vertical-align: middle;\n",
       "    }\n",
       "\n",
       "    .dataframe tbody tr th {\n",
       "        vertical-align: top;\n",
       "    }\n",
       "\n",
       "    .dataframe thead th {\n",
       "        text-align: right;\n",
       "    }\n",
       "</style>\n",
       "<table border=\"1\" class=\"dataframe\">\n",
       "  <thead>\n",
       "    <tr style=\"text-align: right;\">\n",
       "      <th></th>\n",
       "      <th>total_images</th>\n",
       "      <th>last_price</th>\n",
       "      <th>total_area</th>\n",
       "      <th>first_day_exposition</th>\n",
       "      <th>rooms</th>\n",
       "      <th>ceiling_height</th>\n",
       "      <th>floors_total</th>\n",
       "      <th>living_area</th>\n",
       "      <th>floor</th>\n",
       "      <th>is_apartment</th>\n",
       "      <th>...</th>\n",
       "      <th>ponds_around3000</th>\n",
       "      <th>ponds_nearest</th>\n",
       "      <th>days_exposition</th>\n",
       "      <th>locality_good_name</th>\n",
       "      <th>price_of_one_square_meter</th>\n",
       "      <th>day_of_publication</th>\n",
       "      <th>month_of_publication</th>\n",
       "      <th>year_of_publication</th>\n",
       "      <th>type_floor</th>\n",
       "      <th>cityCenters_nearest_km</th>\n",
       "    </tr>\n",
       "  </thead>\n",
       "  <tbody>\n",
       "    <tr>\n",
       "      <th>697</th>\n",
       "      <td>12</td>\n",
       "      <td>2500000.0</td>\n",
       "      <td>24.1</td>\n",
       "      <td>2017-12-01</td>\n",
       "      <td>0</td>\n",
       "      <td>2.75</td>\n",
       "      <td>25</td>\n",
       "      <td>17.5</td>\n",
       "      <td>21</td>\n",
       "      <td>True</td>\n",
       "      <td>...</td>\n",
       "      <td>&lt;NA&gt;</td>\n",
       "      <td>NaN</td>\n",
       "      <td>201.0</td>\n",
       "      <td>кудрово</td>\n",
       "      <td>103734.439834</td>\n",
       "      <td>Friday</td>\n",
       "      <td>December</td>\n",
       "      <td>2017</td>\n",
       "      <td>Другой</td>\n",
       "      <td>NaN</td>\n",
       "    </tr>\n",
       "    <tr>\n",
       "      <th>716</th>\n",
       "      <td>5</td>\n",
       "      <td>1500000.0</td>\n",
       "      <td>17.0</td>\n",
       "      <td>2017-06-07</td>\n",
       "      <td>0</td>\n",
       "      <td>2.70</td>\n",
       "      <td>9</td>\n",
       "      <td>12.0</td>\n",
       "      <td>1</td>\n",
       "      <td>True</td>\n",
       "      <td>...</td>\n",
       "      <td>0</td>\n",
       "      <td>NaN</td>\n",
       "      <td>40.0</td>\n",
       "      <td>шушары</td>\n",
       "      <td>88235.294118</td>\n",
       "      <td>Wednesday</td>\n",
       "      <td>June</td>\n",
       "      <td>2017</td>\n",
       "      <td>Первый</td>\n",
       "      <td>30.0</td>\n",
       "    </tr>\n",
       "    <tr>\n",
       "      <th>839</th>\n",
       "      <td>14</td>\n",
       "      <td>1900000.0</td>\n",
       "      <td>35.0</td>\n",
       "      <td>2017-04-14</td>\n",
       "      <td>0</td>\n",
       "      <td>2.70</td>\n",
       "      <td>5</td>\n",
       "      <td>15.0</td>\n",
       "      <td>3</td>\n",
       "      <td>False</td>\n",
       "      <td>...</td>\n",
       "      <td>&lt;NA&gt;</td>\n",
       "      <td>NaN</td>\n",
       "      <td>7.0</td>\n",
       "      <td>новый свет</td>\n",
       "      <td>54285.714286</td>\n",
       "      <td>Friday</td>\n",
       "      <td>April</td>\n",
       "      <td>2017</td>\n",
       "      <td>Другой</td>\n",
       "      <td>NaN</td>\n",
       "    </tr>\n",
       "    <tr>\n",
       "      <th>1174</th>\n",
       "      <td>3</td>\n",
       "      <td>3900000.0</td>\n",
       "      <td>32.0</td>\n",
       "      <td>2016-10-18</td>\n",
       "      <td>0</td>\n",
       "      <td>2.70</td>\n",
       "      <td>24</td>\n",
       "      <td>18.0</td>\n",
       "      <td>2</td>\n",
       "      <td>True</td>\n",
       "      <td>...</td>\n",
       "      <td>0</td>\n",
       "      <td>NaN</td>\n",
       "      <td>540.0</td>\n",
       "      <td>санкт-петербург</td>\n",
       "      <td>121875.000000</td>\n",
       "      <td>Tuesday</td>\n",
       "      <td>October</td>\n",
       "      <td>2016</td>\n",
       "      <td>Другой</td>\n",
       "      <td>8.0</td>\n",
       "    </tr>\n",
       "    <tr>\n",
       "      <th>1220</th>\n",
       "      <td>5</td>\n",
       "      <td>3300000.0</td>\n",
       "      <td>27.0</td>\n",
       "      <td>2017-11-10</td>\n",
       "      <td>0</td>\n",
       "      <td>2.80</td>\n",
       "      <td>17</td>\n",
       "      <td>20.0</td>\n",
       "      <td>16</td>\n",
       "      <td>True</td>\n",
       "      <td>...</td>\n",
       "      <td>1</td>\n",
       "      <td>528.0</td>\n",
       "      <td>113.0</td>\n",
       "      <td>санкт-петербург</td>\n",
       "      <td>122222.222222</td>\n",
       "      <td>Friday</td>\n",
       "      <td>November</td>\n",
       "      <td>2017</td>\n",
       "      <td>Другой</td>\n",
       "      <td>12.0</td>\n",
       "    </tr>\n",
       "  </tbody>\n",
       "</table>\n",
       "<p>5 rows × 29 columns</p>\n",
       "</div>"
      ],
      "text/plain": [
       "      total_images  last_price  total_area first_day_exposition  rooms  \\\n",
       "697             12   2500000.0        24.1           2017-12-01      0   \n",
       "716              5   1500000.0        17.0           2017-06-07      0   \n",
       "839             14   1900000.0        35.0           2017-04-14      0   \n",
       "1174             3   3900000.0        32.0           2016-10-18      0   \n",
       "1220             5   3300000.0        27.0           2017-11-10      0   \n",
       "\n",
       "      ceiling_height  floors_total  living_area  floor  is_apartment  ...  \\\n",
       "697             2.75            25         17.5     21          True  ...   \n",
       "716             2.70             9         12.0      1          True  ...   \n",
       "839             2.70             5         15.0      3         False  ...   \n",
       "1174            2.70            24         18.0      2          True  ...   \n",
       "1220            2.80            17         20.0     16          True  ...   \n",
       "\n",
       "      ponds_around3000  ponds_nearest  days_exposition  locality_good_name  \\\n",
       "697               <NA>            NaN            201.0             кудрово   \n",
       "716                  0            NaN             40.0              шушары   \n",
       "839               <NA>            NaN              7.0          новый свет   \n",
       "1174                 0            NaN            540.0     санкт-петербург   \n",
       "1220                 1          528.0            113.0     санкт-петербург   \n",
       "\n",
       "     price_of_one_square_meter  day_of_publication  month_of_publication  \\\n",
       "697              103734.439834              Friday              December   \n",
       "716               88235.294118           Wednesday                  June   \n",
       "839               54285.714286              Friday                 April   \n",
       "1174             121875.000000             Tuesday               October   \n",
       "1220             122222.222222              Friday              November   \n",
       "\n",
       "      year_of_publication  type_floor  cityCenters_nearest_km  \n",
       "697                  2017      Другой                     NaN  \n",
       "716                  2017      Первый                    30.0  \n",
       "839                  2017      Другой                     NaN  \n",
       "1174                 2016      Другой                     8.0  \n",
       "1220                 2017      Другой                    12.0  \n",
       "\n",
       "[5 rows x 29 columns]"
      ]
     },
     "execution_count": 494,
     "metadata": {},
     "output_type": "execute_result"
    }
   ],
   "source": [
    "# Здесь можно заметить, что существуют данные, в которых количество комната равно нулю\n",
    "data[data['rooms'] == 0].head()"
   ]
  },
  {
   "cell_type": "code",
   "execution_count": 495,
   "metadata": {},
   "outputs": [],
   "source": [
    "# Это является ошибочной, заменим 0 на NaN\n",
    "data.loc[data['rooms'] == 0, 'rooms'] = None\n",
    "data['rooms'] = data['rooms'].astype('Int64')"
   ]
  },
  {
   "cell_type": "code",
   "execution_count": 496,
   "metadata": {},
   "outputs": [
    {
     "data": {
      "text/plain": [
       "75"
      ]
     },
     "execution_count": 496,
     "metadata": {},
     "output_type": "execute_result"
    }
   ],
   "source": [
    "# Проверим на пропущенные значения\n",
    "data['rooms'].isna().sum()"
   ]
  },
  {
   "cell_type": "code",
   "execution_count": 497,
   "metadata": {
    "scrolled": true
   },
   "outputs": [
    {
     "data": {
      "text/html": [
       "<div>\n",
       "<style scoped>\n",
       "    .dataframe tbody tr th:only-of-type {\n",
       "        vertical-align: middle;\n",
       "    }\n",
       "\n",
       "    .dataframe tbody tr th {\n",
       "        vertical-align: top;\n",
       "    }\n",
       "\n",
       "    .dataframe thead th {\n",
       "        text-align: right;\n",
       "    }\n",
       "</style>\n",
       "<table border=\"1\" class=\"dataframe\">\n",
       "  <thead>\n",
       "    <tr style=\"text-align: right;\">\n",
       "      <th></th>\n",
       "      <th>total_images</th>\n",
       "      <th>last_price</th>\n",
       "      <th>total_area</th>\n",
       "      <th>first_day_exposition</th>\n",
       "      <th>rooms</th>\n",
       "      <th>ceiling_height</th>\n",
       "      <th>floors_total</th>\n",
       "      <th>living_area</th>\n",
       "      <th>floor</th>\n",
       "      <th>is_apartment</th>\n",
       "      <th>...</th>\n",
       "      <th>ponds_around3000</th>\n",
       "      <th>ponds_nearest</th>\n",
       "      <th>days_exposition</th>\n",
       "      <th>locality_good_name</th>\n",
       "      <th>price_of_one_square_meter</th>\n",
       "      <th>day_of_publication</th>\n",
       "      <th>month_of_publication</th>\n",
       "      <th>year_of_publication</th>\n",
       "      <th>type_floor</th>\n",
       "      <th>cityCenters_nearest_km</th>\n",
       "    </tr>\n",
       "  </thead>\n",
       "  <tbody>\n",
       "    <tr>\n",
       "      <th>0</th>\n",
       "      <td>20</td>\n",
       "      <td>13000000.0</td>\n",
       "      <td>108.0</td>\n",
       "      <td>2019-03-07</td>\n",
       "      <td>3</td>\n",
       "      <td>2.70</td>\n",
       "      <td>16</td>\n",
       "      <td>51.0</td>\n",
       "      <td>8</td>\n",
       "      <td>True</td>\n",
       "      <td>...</td>\n",
       "      <td>2</td>\n",
       "      <td>755.0</td>\n",
       "      <td>NaN</td>\n",
       "      <td>санкт-петербург</td>\n",
       "      <td>120370.370370</td>\n",
       "      <td>Thursday</td>\n",
       "      <td>March</td>\n",
       "      <td>2019</td>\n",
       "      <td>Другой</td>\n",
       "      <td>16.0</td>\n",
       "    </tr>\n",
       "    <tr>\n",
       "      <th>4</th>\n",
       "      <td>2</td>\n",
       "      <td>10000000.0</td>\n",
       "      <td>100.0</td>\n",
       "      <td>2018-06-19</td>\n",
       "      <td>2</td>\n",
       "      <td>3.03</td>\n",
       "      <td>14</td>\n",
       "      <td>32.0</td>\n",
       "      <td>13</td>\n",
       "      <td>True</td>\n",
       "      <td>...</td>\n",
       "      <td>1</td>\n",
       "      <td>48.0</td>\n",
       "      <td>121.0</td>\n",
       "      <td>санкт-петербург</td>\n",
       "      <td>100000.000000</td>\n",
       "      <td>Tuesday</td>\n",
       "      <td>June</td>\n",
       "      <td>2018</td>\n",
       "      <td>Другой</td>\n",
       "      <td>8.0</td>\n",
       "    </tr>\n",
       "    <tr>\n",
       "      <th>10</th>\n",
       "      <td>5</td>\n",
       "      <td>5050000.0</td>\n",
       "      <td>39.6</td>\n",
       "      <td>2017-11-16</td>\n",
       "      <td>1</td>\n",
       "      <td>2.67</td>\n",
       "      <td>12</td>\n",
       "      <td>20.3</td>\n",
       "      <td>3</td>\n",
       "      <td>True</td>\n",
       "      <td>...</td>\n",
       "      <td>2</td>\n",
       "      <td>553.0</td>\n",
       "      <td>137.0</td>\n",
       "      <td>санкт-петербург</td>\n",
       "      <td>127525.252525</td>\n",
       "      <td>Thursday</td>\n",
       "      <td>November</td>\n",
       "      <td>2017</td>\n",
       "      <td>Другой</td>\n",
       "      <td>14.0</td>\n",
       "    </tr>\n",
       "    <tr>\n",
       "      <th>13</th>\n",
       "      <td>20</td>\n",
       "      <td>3550000.0</td>\n",
       "      <td>42.8</td>\n",
       "      <td>2017-07-01</td>\n",
       "      <td>2</td>\n",
       "      <td>2.56</td>\n",
       "      <td>5</td>\n",
       "      <td>27.0</td>\n",
       "      <td>5</td>\n",
       "      <td>True</td>\n",
       "      <td>...</td>\n",
       "      <td>3</td>\n",
       "      <td>298.0</td>\n",
       "      <td>366.0</td>\n",
       "      <td>петергоф</td>\n",
       "      <td>82943.925234</td>\n",
       "      <td>Saturday</td>\n",
       "      <td>July</td>\n",
       "      <td>2017</td>\n",
       "      <td>Последний</td>\n",
       "      <td>33.0</td>\n",
       "    </tr>\n",
       "    <tr>\n",
       "      <th>16</th>\n",
       "      <td>11</td>\n",
       "      <td>6700000.0</td>\n",
       "      <td>82.0</td>\n",
       "      <td>2017-11-23</td>\n",
       "      <td>3</td>\n",
       "      <td>3.05</td>\n",
       "      <td>5</td>\n",
       "      <td>55.6</td>\n",
       "      <td>1</td>\n",
       "      <td>True</td>\n",
       "      <td>...</td>\n",
       "      <td>0</td>\n",
       "      <td>NaN</td>\n",
       "      <td>397.0</td>\n",
       "      <td>санкт-петербург</td>\n",
       "      <td>81707.317073</td>\n",
       "      <td>Thursday</td>\n",
       "      <td>November</td>\n",
       "      <td>2017</td>\n",
       "      <td>Первый</td>\n",
       "      <td>11.0</td>\n",
       "    </tr>\n",
       "  </tbody>\n",
       "</table>\n",
       "<p>5 rows × 29 columns</p>\n",
       "</div>"
      ],
      "text/plain": [
       "    total_images  last_price  total_area first_day_exposition  rooms  \\\n",
       "0             20  13000000.0       108.0           2019-03-07      3   \n",
       "4              2  10000000.0       100.0           2018-06-19      2   \n",
       "10             5   5050000.0        39.6           2017-11-16      1   \n",
       "13            20   3550000.0        42.8           2017-07-01      2   \n",
       "16            11   6700000.0        82.0           2017-11-23      3   \n",
       "\n",
       "    ceiling_height  floors_total  living_area  floor  is_apartment  ...  \\\n",
       "0             2.70            16         51.0      8          True  ...   \n",
       "4             3.03            14         32.0     13          True  ...   \n",
       "10            2.67            12         20.3      3          True  ...   \n",
       "13            2.56             5         27.0      5          True  ...   \n",
       "16            3.05             5         55.6      1          True  ...   \n",
       "\n",
       "    ponds_around3000  ponds_nearest  days_exposition  locality_good_name  \\\n",
       "0                  2          755.0              NaN     санкт-петербург   \n",
       "4                  1           48.0            121.0     санкт-петербург   \n",
       "10                 2          553.0            137.0     санкт-петербург   \n",
       "13                 3          298.0            366.0            петергоф   \n",
       "16                 0            NaN            397.0     санкт-петербург   \n",
       "\n",
       "   price_of_one_square_meter  day_of_publication  month_of_publication  \\\n",
       "0              120370.370370            Thursday                 March   \n",
       "4              100000.000000             Tuesday                  June   \n",
       "10             127525.252525            Thursday              November   \n",
       "13              82943.925234            Saturday                  July   \n",
       "16              81707.317073            Thursday              November   \n",
       "\n",
       "    year_of_publication  type_floor  cityCenters_nearest_km  \n",
       "0                  2019      Другой                    16.0  \n",
       "4                  2018      Другой                     8.0  \n",
       "10                 2017      Другой                    14.0  \n",
       "13                 2017   Последний                    33.0  \n",
       "16                 2017      Первый                    11.0  \n",
       "\n",
       "[5 rows x 29 columns]"
      ]
     },
     "execution_count": 497,
     "metadata": {},
     "output_type": "execute_result"
    }
   ],
   "source": [
    "# Проверяем\n",
    "data.head()"
   ]
  },
  {
   "cell_type": "code",
   "execution_count": 498,
   "metadata": {},
   "outputs": [
    {
     "name": "stdout",
     "output_type": "stream",
     "text": [
      "<class 'pandas.core.frame.DataFrame'>\n",
      "Int64Index: 10119 entries, 0 to 23697\n",
      "Data columns (total 29 columns):\n",
      " #   Column                     Non-Null Count  Dtype         \n",
      "---  ------                     --------------  -----         \n",
      " 0   total_images               10119 non-null  int64         \n",
      " 1   last_price                 10119 non-null  float64       \n",
      " 2   total_area                 10119 non-null  float64       \n",
      " 3   first_day_exposition       10119 non-null  datetime64[ns]\n",
      " 4   rooms                      10044 non-null  Int64         \n",
      " 5   ceiling_height             10119 non-null  float64       \n",
      " 6   floors_total               10110 non-null  Int64         \n",
      " 7   living_area                10119 non-null  float64       \n",
      " 8   floor                      10119 non-null  int64         \n",
      " 9   is_apartment               10119 non-null  bool          \n",
      " 10  studio                     10119 non-null  bool          \n",
      " 11  open_plan                  10119 non-null  bool          \n",
      " 12  kitchen_area               10119 non-null  float64       \n",
      " 13  balcony                    10119 non-null  Int64         \n",
      " 14  locality_name              10107 non-null  object        \n",
      " 15  airports_nearest           8194 non-null   float64       \n",
      " 16  cityCenters_nearest        8209 non-null   float64       \n",
      " 17  parks_around3000           8210 non-null   Int64         \n",
      " 18  parks_nearest              3649 non-null   float64       \n",
      " 19  ponds_around3000           8210 non-null   Int64         \n",
      " 20  ponds_nearest              4163 non-null   float64       \n",
      " 21  days_exposition            8496 non-null   float64       \n",
      " 22  locality_good_name         10119 non-null  object        \n",
      " 23  price_of_one_square_meter  10119 non-null  float64       \n",
      " 24  day_of_publication         10119 non-null  object        \n",
      " 25  month_of_publication       10119 non-null  object        \n",
      " 26  year_of_publication        10119 non-null  int64         \n",
      " 27  type_floor                 10119 non-null  object        \n",
      " 28  cityCenters_nearest_km     8209 non-null   float64       \n",
      "dtypes: Int64(5), bool(3), datetime64[ns](1), float64(12), int64(3), object(5)\n",
      "memory usage: 2.2+ MB\n"
     ]
    }
   ],
   "source": [
    "# Все данные подправлены и заполнены, теперь можно приступать к исследованию\n",
    "data.info()"
   ]
  },
  {
   "cell_type": "markdown",
   "metadata": {},
   "source": [
    "### Проведите исследовательский анализ данных"
   ]
  },
  {
   "cell_type": "code",
   "execution_count": 499,
   "metadata": {},
   "outputs": [
    {
     "data": {
      "text/plain": [
       "<AxesSubplot:ylabel='Frequency'>"
      ]
     },
     "execution_count": 499,
     "metadata": {},
     "output_type": "execute_result"
    },
    {
     "data": {
      "image/png": "[encoded data removed]",
      "text/plain": [
       "<Figure size 1080x720 with 1 Axes>"
      ]
     },
     "metadata": {
      "needs_background": "light"
     },
     "output_type": "display_data"
    }
   ],
   "source": [
    "data['total_area'].plot(kind = 'hist', figsize = (15, 10), grid = True)"
   ]
  },
  {
   "cell_type": "markdown",
   "metadata": {},
   "source": [
    "Можно заметить, что площадь ~100 м^2 является огромной количествой в домах"
   ]
  },
  {
   "cell_type": "code",
   "execution_count": 500,
   "metadata": {},
   "outputs": [
    {
     "data": {
      "text/plain": [
       "<AxesSubplot:ylabel='Frequency'>"
      ]
     },
     "execution_count": 500,
     "metadata": {},
     "output_type": "execute_result"
    },
    {
     "data": {
      "image/png": "[encoded data removed]",
      "text/plain": [
       "<Figure size 1080x720 with 1 Axes>"
      ]
     },
     "metadata": {
      "needs_background": "light"
     },
     "output_type": "display_data"
    }
   ],
   "source": [
    "data['living_area'].plot(kind = 'hist', figsize = (15, 10), grid = True)"
   ]
  },
  {
   "cell_type": "markdown",
   "metadata": {},
   "source": [
    "Можно заметить, что здесь жилая площадь 0-40 м^2 является огромной количествой в домах, но 50-70 м^2 также обладает немалым количеством"
   ]
  },
  {
   "cell_type": "code",
   "execution_count": 501,
   "metadata": {},
   "outputs": [
    {
     "data": {
      "text/plain": [
       "<AxesSubplot:ylabel='Frequency'>"
      ]
     },
     "execution_count": 501,
     "metadata": {},
     "output_type": "execute_result"
    },
    {
     "data": {
      "image/png": "[encoded data removed]",
      "text/plain": [
       "<Figure size 1080x720 with 1 Axes>"
      ]
     },
     "metadata": {
      "needs_background": "light"
     },
     "output_type": "display_data"
    }
   ],
   "source": [
    "data['kitchen_area'].plot(kind = 'hist', figsize = (15, 10), grid = True)"
   ]
  },
  {
   "cell_type": "markdown",
   "metadata": {},
   "source": [
    "Можно заметить, что здесь жилая площадь 0-10 м^2 является огромной количествой в домах, но 10-25 м^2 также обладает немалым количеством. Нельзя отрицать, что существуют дома, которые есть кухня с площадью более 25 м^2"
   ]
  },
  {
   "cell_type": "code",
   "execution_count": 502,
   "metadata": {},
   "outputs": [
    {
     "data": {
      "text/plain": [
       "4500000.0     150\n",
       "5500000.0     119\n",
       "4300000.0     110\n",
       "3500000.0     107\n",
       "5000000.0     105\n",
       "             ... \n",
       "5205000.0       1\n",
       "6480000.0       1\n",
       "10860000.0      1\n",
       "10490000.0      1\n",
       "2160000.0       1\n",
       "Name: last_price, Length: 1800, dtype: int64"
      ]
     },
     "execution_count": 502,
     "metadata": {},
     "output_type": "execute_result"
    }
   ],
   "source": [
    "data['last_price'].value_counts().sort_values(ascending = False)"
   ]
  },
  {
   "cell_type": "code",
   "execution_count": 503,
   "metadata": {
    "scrolled": true
   },
   "outputs": [],
   "source": [
    "# data['last_price'].hist(figsize = (15, 10))"
   ]
  },
  {
   "cell_type": "markdown",
   "metadata": {},
   "source": [
    "Можно заметить, что здесь жилая площадь 0-10 м^2 является огромной количествой в домах, но 10-25 м^2 также обладает немалым количеством. Нельзя отрицать, что существуют дома, которые есть кухня с площадью более 25 м^2"
   ]
  },
  {
   "cell_type": "code",
   "execution_count": 504,
   "metadata": {},
   "outputs": [
    {
     "data": {
      "text/plain": [
       "1     3379\n",
       "2     3328\n",
       "3     2625\n",
       "4      521\n",
       "5      129\n",
       "6       39\n",
       "7       11\n",
       "9        5\n",
       "8        2\n",
       "10       2\n",
       "16       1\n",
       "12       1\n",
       "14       1\n",
       "Name: rooms, dtype: Int64"
      ]
     },
     "execution_count": 504,
     "metadata": {},
     "output_type": "execute_result"
    }
   ],
   "source": [
    "data['rooms'].value_counts().sort_values(ascending = False)"
   ]
  },
  {
   "cell_type": "code",
   "execution_count": 505,
   "metadata": {
    "scrolled": false
   },
   "outputs": [
    {
     "data": {
      "text/plain": [
       "<AxesSubplot:ylabel='Frequency'>"
      ]
     },
     "execution_count": 505,
     "metadata": {},
     "output_type": "execute_result"
    },
    {
     "data": {
      "image/png": "[encoded data removed]",
      "text/plain": [
       "<Figure size 1080x720 with 1 Axes>"
      ]
     },
     "metadata": {
      "needs_background": "light"
     },
     "output_type": "display_data"
    }
   ],
   "source": [
    "data['rooms'].plot(kind = 'hist', figsize = (15, 10), grid = True)"
   ]
  },
  {
   "cell_type": "markdown",
   "metadata": {},
   "source": [
    "Можно заметить, что здесь часто всего встречается двухкомнатный дом, но 2 место по количеству комнат занимает однокомнатный дом"
   ]
  },
  {
   "cell_type": "code",
   "execution_count": 506,
   "metadata": {
    "scrolled": false
   },
   "outputs": [
    {
     "data": {
      "text/plain": [
       "<AxesSubplot:ylabel='Frequency'>"
      ]
     },
     "execution_count": 506,
     "metadata": {},
     "output_type": "execute_result"
    },
    {
     "data": {
      "image/png": "[encoded data removed]",
      "text/plain": [
       "<Figure size 1080x720 with 1 Axes>"
      ]
     },
     "metadata": {
      "needs_background": "light"
     },
     "output_type": "display_data"
    }
   ],
   "source": [
    "data['ceiling_height'].plot(kind = 'hist', figsize = (15, 10), grid = True)"
   ]
  },
  {
   "cell_type": "markdown",
   "metadata": {},
   "source": [
    "Можно заметить, что здесь самая распростренненая высота потолка является ~2,7 метра. Самая редкая высота - ~2,9 метра"
   ]
  },
  {
   "cell_type": "code",
   "execution_count": 507,
   "metadata": {
    "scrolled": false
   },
   "outputs": [
    {
     "data": {
      "text/plain": [
       "<AxesSubplot:ylabel='Frequency'>"
      ]
     },
     "execution_count": 507,
     "metadata": {},
     "output_type": "execute_result"
    },
    {
     "data": {
      "image/png": "[encoded data removed]",
      "text/plain": [
       "<Figure size 1080x720 with 1 Axes>"
      ]
     },
     "metadata": {
      "needs_background": "light"
     },
     "output_type": "display_data"
    }
   ],
   "source": [
    "data['floor'].plot(kind = 'hist', figsize = (15, 10), grid = True)"
   ]
  },
  {
   "cell_type": "markdown",
   "metadata": {},
   "source": [
    "Можно заметить, что здесь самое распространенное предложение приобрести комнату, у которой этаж не более 4"
   ]
  },
  {
   "cell_type": "code",
   "execution_count": 508,
   "metadata": {
    "scrolled": false
   },
   "outputs": [
    {
     "data": {
      "text/plain": [
       "<AxesSubplot:>"
      ]
     },
     "execution_count": 508,
     "metadata": {},
     "output_type": "execute_result"
    },
    {
     "data": {
      "image/png": "[encoded data removed]",
      "text/plain": [
       "<Figure size 1080x720 with 1 Axes>"
      ]
     },
     "metadata": {
      "needs_background": "light"
     },
     "output_type": "display_data"
    }
   ],
   "source": [
    "data['type_floor'].hist(figsize = (15, 10))"
   ]
  },
  {
   "cell_type": "markdown",
   "metadata": {},
   "source": [
    "Можно заметить, что здесь самый предложенный вариант дома, этаж у которого не является ни первого, ни последнего. Однако последний этаж дома по количеству предложенного варианта не уступает первому этажу"
   ]
  },
  {
   "cell_type": "code",
   "execution_count": 509,
   "metadata": {
    "scrolled": false
   },
   "outputs": [
    {
     "data": {
      "text/plain": [
       "<AxesSubplot:ylabel='Frequency'>"
      ]
     },
     "execution_count": 509,
     "metadata": {},
     "output_type": "execute_result"
    },
    {
     "data": {
      "image/png": "[encoded data removed]",
      "text/plain": [
       "<Figure size 1080x720 with 1 Axes>"
      ]
     },
     "metadata": {
      "needs_background": "light"
     },
     "output_type": "display_data"
    }
   ],
   "source": [
    "data['floors_total'].plot(kind = 'hist', figsize = (15, 10), grid = True)"
   ]
  },
  {
   "cell_type": "markdown",
   "metadata": {},
   "source": [
    "Можно заметить, что здесь самый распростренненый тип дома, у которого 10 этажей. Самый редкий - более 30 этажей"
   ]
  },
  {
   "cell_type": "code",
   "execution_count": 510,
   "metadata": {
    "scrolled": false
   },
   "outputs": [
    {
     "data": {
      "text/plain": [
       "<AxesSubplot:ylabel='Frequency'>"
      ]
     },
     "execution_count": 510,
     "metadata": {},
     "output_type": "execute_result"
    },
    {
     "data": {
      "image/png": "[encoded data removed]",
      "text/plain": [
       "<Figure size 1080x720 with 1 Axes>"
      ]
     },
     "metadata": {
      "needs_background": "light"
     },
     "output_type": "display_data"
    }
   ],
   "source": [
    "data['cityCenters_nearest_km'].plot(kind = 'hist', figsize = (15, 10), grid = True)"
   ]
  },
  {
   "cell_type": "markdown",
   "metadata": {},
   "source": [
    "Можно заметить, что здесь существуют много дома, который располагается около 10 км от центра города. А самый редкий - около 45 и более 55 км от центра города"
   ]
  },
  {
   "cell_type": "code",
   "execution_count": 511,
   "metadata": {
    "scrolled": false
   },
   "outputs": [
    {
     "data": {
      "text/plain": [
       "<AxesSubplot:ylabel='Frequency'>"
      ]
     },
     "execution_count": 511,
     "metadata": {},
     "output_type": "execute_result"
    },
    {
     "data": {
      "image/png": "[encoded data removed]",
      "text/plain": [
       "<Figure size 1080x720 with 1 Axes>"
      ]
     },
     "metadata": {
      "needs_background": "light"
     },
     "output_type": "display_data"
    }
   ],
   "source": [
    "data['airports_nearest'].plot(kind = 'hist', figsize = (15, 10), grid = True)"
   ]
  },
  {
   "cell_type": "markdown",
   "metadata": {},
   "source": [
    "Можно заметить, что здесь часто встречается дом, расстояние которого до аэропорта около 20 км. Но нелья отрицать, что есть внушительные количество домов, расстояние которых до аэропорта около 15 км и 40 км. Самый редкое - более 60 км."
   ]
  },
  {
   "cell_type": "code",
   "execution_count": 512,
   "metadata": {
    "scrolled": false
   },
   "outputs": [
    {
     "data": {
      "text/plain": [
       "<AxesSubplot:ylabel='Frequency'>"
      ]
     },
     "execution_count": 512,
     "metadata": {},
     "output_type": "execute_result"
    },
    {
     "data": {
      "image/png": "[encoded data removed]",
      "text/plain": [
       "<Figure size 1080x720 with 1 Axes>"
      ]
     },
     "metadata": {
      "needs_background": "light"
     },
     "output_type": "display_data"
    }
   ],
   "source": [
    "data['parks_nearest'].plot(kind = 'hist', figsize = (15, 10), grid = True)"
   ]
  },
  {
   "cell_type": "markdown",
   "metadata": {},
   "source": [
    "Можно заметить, что здесь часто встречается дом, расстояние которого до ближайшего парка около 0,5 км. Второе место по количеству занимает дома, у которого расстояние в шаговой доступности - около 0,25 км. \n",
    "Однако существуют малое количество дома, расстояние которого до ближайшего парка более 1 км."
   ]
  },
  {
   "cell_type": "code",
   "execution_count": 513,
   "metadata": {
    "scrolled": false
   },
   "outputs": [
    {
     "data": {
      "text/plain": [
       "<AxesSubplot:>"
      ]
     },
     "execution_count": 513,
     "metadata": {},
     "output_type": "execute_result"
    },
    {
     "data": {
      "image/png": "[encoded data removed]",
      "text/plain": [
       "<Figure size 1080x720 with 1 Axes>"
      ]
     },
     "metadata": {
      "needs_background": "light"
     },
     "output_type": "display_data"
    }
   ],
   "source": [
    "data['day_of_publication'].hist(figsize = (15, 10))"
   ]
  },
  {
   "cell_type": "markdown",
   "metadata": {},
   "source": [
    "Можно заметить, что здесь часто публикуется объявления - вторник, и примерное одинаковое количество публикации у вторника - четверг. Далее, приближенное одинаковое число по публикации - среда, понедельник и пятница, но меньше по количеству предыдующей публикации (вторник и четверг).\n",
    "Число публикации в субооту меньше остальных по количеству, но не уступает количеству воскресенья (воскресенье - самое малое количество по публикации объявлений)"
   ]
  },
  {
   "cell_type": "code",
   "execution_count": 514,
   "metadata": {
    "scrolled": false
   },
   "outputs": [
    {
     "data": {
      "text/plain": [
       "<AxesSubplot:>"
      ]
     },
     "execution_count": 514,
     "metadata": {},
     "output_type": "execute_result"
    },
    {
     "data": {
      "image/png": "[encoded data removed]",
      "text/plain": [
       "<Figure size 1080x720 with 1 Axes>"
      ]
     },
     "metadata": {
      "needs_background": "light"
     },
     "output_type": "display_data"
    }
   ],
   "source": [
    "data['month_of_publication'].hist(figsize = (15, 10))"
   ]
  },
  {
   "cell_type": "markdown",
   "metadata": {},
   "source": [
    "Можно заметить, что здесь часто публикуется объявления - август. Чуть меньше по количеству - март. Далее, усредненное количество по числу публикации занимает - апрель, и его приближенное значение июнь.\n",
    "Самое малое количество объявление - май"
   ]
  },
  {
   "cell_type": "code",
   "execution_count": 515,
   "metadata": {
    "scrolled": false
   },
   "outputs": [
    {
     "data": {
      "text/plain": [
       "<AxesSubplot:>"
      ]
     },
     "execution_count": 515,
     "metadata": {},
     "output_type": "execute_result"
    },
    {
     "data": {
      "image/png": "[encoded data removed]",
      "text/plain": [
       "<Figure size 1080x720 with 1 Axes>"
      ]
     },
     "metadata": {
      "needs_background": "light"
     },
     "output_type": "display_data"
    }
   ],
   "source": [
    "data['days_exposition'].hist(figsize = (15, 10))"
   ]
  },
  {
   "cell_type": "markdown",
   "metadata": {},
   "source": [
    "Можно заметить, что здесь часто продавались квартиры с момента снятия публикации - около 100 дней. Далее резко снизилась частота по продажам - около 200 дней. Данный график можно рассмотреть как распределение Пуассона. Чем дольше висит в объявлениях о продажах, тем ниже шанс продавать."
   ]
  },
  {
   "cell_type": "code",
   "execution_count": 516,
   "metadata": {},
   "outputs": [
    {
     "name": "stdout",
     "output_type": "stream",
     "text": [
      "Средний срок дни по продажам дома: 193.1886770244821\n",
      "Медианный срок дни по продажам дома: 105.0\n"
     ]
    }
   ],
   "source": [
    "print('Средний срок дни по продажам дома:', data['days_exposition'].mean())\n",
    "print('Медианный срок дни по продажам дома:', data['days_exposition'].median())"
   ]
  },
  {
   "cell_type": "markdown",
   "metadata": {},
   "source": [
    "Средний срок дни, это говорит о том, что любой дом может снять с публикации о продажи в течение около 193 дней.\n",
    "По этому сроку можно рассматривать как обычный и средний срок по продажам.\n",
    "\n",
    "А медианный срок дни по прадажам составляет 105 дней, это говорит о том, что будет часто встречать в объявлениях такой срок, что дом будет снят с публикации о продажи в течение 105 дней."
   ]
  },
  {
   "cell_type": "markdown",
   "metadata": {},
   "source": [
    "Здесь находим факторы, больше всего влияющих на общую (полную) стоимость объекта. Для подготовки данных перед визуализацией мы используем сводные таблицы."
   ]
  },
  {
   "cell_type": "code",
   "execution_count": 517,
   "metadata": {},
   "outputs": [
    {
     "data": {
      "text/html": [
       "<div>\n",
       "<style scoped>\n",
       "    .dataframe tbody tr th:only-of-type {\n",
       "        vertical-align: middle;\n",
       "    }\n",
       "\n",
       "    .dataframe tbody tr th {\n",
       "        vertical-align: top;\n",
       "    }\n",
       "\n",
       "    .dataframe thead th {\n",
       "        text-align: right;\n",
       "    }\n",
       "</style>\n",
       "<table border=\"1\" class=\"dataframe\">\n",
       "  <thead>\n",
       "    <tr style=\"text-align: right;\">\n",
       "      <th></th>\n",
       "      <th></th>\n",
       "      <th>kitchen_area</th>\n",
       "      <th>last_price</th>\n",
       "      <th>living_area</th>\n",
       "      <th>rooms</th>\n",
       "      <th>total_area</th>\n",
       "    </tr>\n",
       "    <tr>\n",
       "      <th>first_day_exposition</th>\n",
       "      <th>type_floor</th>\n",
       "      <th></th>\n",
       "      <th></th>\n",
       "      <th></th>\n",
       "      <th></th>\n",
       "      <th></th>\n",
       "    </tr>\n",
       "  </thead>\n",
       "  <tbody>\n",
       "    <tr>\n",
       "      <th rowspan=\"3\" valign=\"top\">2014-11-27</th>\n",
       "      <th>Другой</th>\n",
       "      <td>16.585000</td>\n",
       "      <td>1.451384e+07</td>\n",
       "      <td>55.465</td>\n",
       "      <td>2.5</td>\n",
       "      <td>104.725000</td>\n",
       "    </tr>\n",
       "    <tr>\n",
       "      <th>Первый</th>\n",
       "      <td>16.225000</td>\n",
       "      <td>8.992500e+06</td>\n",
       "      <td>39.255</td>\n",
       "      <td>2.0</td>\n",
       "      <td>74.110000</td>\n",
       "    </tr>\n",
       "    <tr>\n",
       "      <th>Последний</th>\n",
       "      <td>27.990000</td>\n",
       "      <td>9.750965e+06</td>\n",
       "      <td>45.620</td>\n",
       "      <td>2.5</td>\n",
       "      <td>94.725000</td>\n",
       "    </tr>\n",
       "    <tr>\n",
       "      <th>2014-11-29</th>\n",
       "      <th>Первый</th>\n",
       "      <td>10.030000</td>\n",
       "      <td>5.500000e+06</td>\n",
       "      <td>30.040</td>\n",
       "      <td>2.0</td>\n",
       "      <td>53.400000</td>\n",
       "    </tr>\n",
       "    <tr>\n",
       "      <th>2014-12-08</th>\n",
       "      <th>Другой</th>\n",
       "      <td>12.900000</td>\n",
       "      <td>1.584950e+07</td>\n",
       "      <td>49.850</td>\n",
       "      <td>2.5</td>\n",
       "      <td>89.100000</td>\n",
       "    </tr>\n",
       "    <tr>\n",
       "      <th rowspan=\"2\" valign=\"top\">2014-12-09</th>\n",
       "      <th>Другой</th>\n",
       "      <td>18.760714</td>\n",
       "      <td>1.573562e+07</td>\n",
       "      <td>41.080</td>\n",
       "      <td>2.142857</td>\n",
       "      <td>84.335714</td>\n",
       "    </tr>\n",
       "    <tr>\n",
       "      <th>Последний</th>\n",
       "      <td>35.950000</td>\n",
       "      <td>3.660000e+07</td>\n",
       "      <td>93.000</td>\n",
       "      <td>3.0</td>\n",
       "      <td>148.550000</td>\n",
       "    </tr>\n",
       "    <tr>\n",
       "      <th rowspan=\"2\" valign=\"top\">2014-12-10</th>\n",
       "      <th>Другой</th>\n",
       "      <td>12.684000</td>\n",
       "      <td>9.692000e+06</td>\n",
       "      <td>57.390</td>\n",
       "      <td>3.1</td>\n",
       "      <td>98.930000</td>\n",
       "    </tr>\n",
       "    <tr>\n",
       "      <th>Первый</th>\n",
       "      <td>9.150000</td>\n",
       "      <td>5.225000e+06</td>\n",
       "      <td>36.100</td>\n",
       "      <td>2.5</td>\n",
       "      <td>61.550000</td>\n",
       "    </tr>\n",
       "    <tr>\n",
       "      <th>2014-12-11</th>\n",
       "      <th>Другой</th>\n",
       "      <td>16.000000</td>\n",
       "      <td>8.417500e+06</td>\n",
       "      <td>51.675</td>\n",
       "      <td>3.0</td>\n",
       "      <td>88.285000</td>\n",
       "    </tr>\n",
       "    <tr>\n",
       "      <th rowspan=\"2\" valign=\"top\">2014-12-12</th>\n",
       "      <th>Другой</th>\n",
       "      <td>8.600000</td>\n",
       "      <td>6.200000e+06</td>\n",
       "      <td>54.000</td>\n",
       "      <td>3.0</td>\n",
       "      <td>79.300000</td>\n",
       "    </tr>\n",
       "    <tr>\n",
       "      <th>Последний</th>\n",
       "      <td>9.000000</td>\n",
       "      <td>2.300000e+06</td>\n",
       "      <td>33.200</td>\n",
       "      <td>2.0</td>\n",
       "      <td>50.800000</td>\n",
       "    </tr>\n",
       "    <tr>\n",
       "      <th>2014-12-14</th>\n",
       "      <th>Другой</th>\n",
       "      <td>11.705000</td>\n",
       "      <td>6.090000e+06</td>\n",
       "      <td>32.315</td>\n",
       "      <td>2.0</td>\n",
       "      <td>61.915000</td>\n",
       "    </tr>\n",
       "    <tr>\n",
       "      <th rowspan=\"2\" valign=\"top\">2014-12-15</th>\n",
       "      <th>Другой</th>\n",
       "      <td>21.250000</td>\n",
       "      <td>1.465000e+07</td>\n",
       "      <td>55.750</td>\n",
       "      <td>3.0</td>\n",
       "      <td>112.000000</td>\n",
       "    </tr>\n",
       "    <tr>\n",
       "      <th>Последний</th>\n",
       "      <td>12.750000</td>\n",
       "      <td>6.500000e+06</td>\n",
       "      <td>64.110</td>\n",
       "      <td>3.0</td>\n",
       "      <td>85.015000</td>\n",
       "    </tr>\n",
       "  </tbody>\n",
       "</table>\n",
       "</div>"
      ],
      "text/plain": [
       "                                 kitchen_area    last_price  living_area  \\\n",
       "first_day_exposition type_floor                                            \n",
       "2014-11-27           Другой         16.585000  1.451384e+07       55.465   \n",
       "                     Первый         16.225000  8.992500e+06       39.255   \n",
       "                     Последний      27.990000  9.750965e+06       45.620   \n",
       "2014-11-29           Первый         10.030000  5.500000e+06       30.040   \n",
       "2014-12-08           Другой         12.900000  1.584950e+07       49.850   \n",
       "2014-12-09           Другой         18.760714  1.573562e+07       41.080   \n",
       "                     Последний      35.950000  3.660000e+07       93.000   \n",
       "2014-12-10           Другой         12.684000  9.692000e+06       57.390   \n",
       "                     Первый          9.150000  5.225000e+06       36.100   \n",
       "2014-12-11           Другой         16.000000  8.417500e+06       51.675   \n",
       "2014-12-12           Другой          8.600000  6.200000e+06       54.000   \n",
       "                     Последний       9.000000  2.300000e+06       33.200   \n",
       "2014-12-14           Другой         11.705000  6.090000e+06       32.315   \n",
       "2014-12-15           Другой         21.250000  1.465000e+07       55.750   \n",
       "                     Последний      12.750000  6.500000e+06       64.110   \n",
       "\n",
       "                                    rooms  total_area  \n",
       "first_day_exposition type_floor                        \n",
       "2014-11-27           Другой           2.5  104.725000  \n",
       "                     Первый           2.0   74.110000  \n",
       "                     Последний        2.5   94.725000  \n",
       "2014-11-29           Первый           2.0   53.400000  \n",
       "2014-12-08           Другой           2.5   89.100000  \n",
       "2014-12-09           Другой      2.142857   84.335714  \n",
       "                     Последний        3.0  148.550000  \n",
       "2014-12-10           Другой           3.1   98.930000  \n",
       "                     Первый           2.5   61.550000  \n",
       "2014-12-11           Другой           3.0   88.285000  \n",
       "2014-12-12           Другой           3.0   79.300000  \n",
       "                     Последний        2.0   50.800000  \n",
       "2014-12-14           Другой           2.0   61.915000  \n",
       "2014-12-15           Другой           3.0  112.000000  \n",
       "                     Последний        3.0   85.015000  "
      ]
     },
     "execution_count": 517,
     "metadata": {},
     "output_type": "execute_result"
    }
   ],
   "source": [
    "cost_factors_of_object = data.pivot_table(index = ['first_day_exposition','type_floor'], values = ['last_price', 'total_area', 'living_area', 'kitchen_area', 'rooms'])\n",
    "\n",
    "cost_factors_of_object.head(15)"
   ]
  },
  {
   "cell_type": "code",
   "execution_count": 518,
   "metadata": {},
   "outputs": [
    {
     "data": {
      "text/html": [
       "<div>\n",
       "<style scoped>\n",
       "    .dataframe tbody tr th:only-of-type {\n",
       "        vertical-align: middle;\n",
       "    }\n",
       "\n",
       "    .dataframe tbody tr th {\n",
       "        vertical-align: top;\n",
       "    }\n",
       "\n",
       "    .dataframe thead th {\n",
       "        text-align: right;\n",
       "    }\n",
       "</style>\n",
       "<table border=\"1\" class=\"dataframe\">\n",
       "  <thead>\n",
       "    <tr style=\"text-align: right;\">\n",
       "      <th></th>\n",
       "      <th>total_images</th>\n",
       "      <th>last_price</th>\n",
       "      <th>total_area</th>\n",
       "      <th>first_day_exposition</th>\n",
       "      <th>rooms</th>\n",
       "      <th>ceiling_height</th>\n",
       "      <th>floors_total</th>\n",
       "      <th>living_area</th>\n",
       "      <th>floor</th>\n",
       "      <th>is_apartment</th>\n",
       "      <th>...</th>\n",
       "      <th>ponds_around3000</th>\n",
       "      <th>ponds_nearest</th>\n",
       "      <th>days_exposition</th>\n",
       "      <th>locality_good_name</th>\n",
       "      <th>price_of_one_square_meter</th>\n",
       "      <th>day_of_publication</th>\n",
       "      <th>month_of_publication</th>\n",
       "      <th>year_of_publication</th>\n",
       "      <th>type_floor</th>\n",
       "      <th>cityCenters_nearest_km</th>\n",
       "    </tr>\n",
       "  </thead>\n",
       "  <tbody>\n",
       "    <tr>\n",
       "      <th>3486</th>\n",
       "      <td>2</td>\n",
       "      <td>14500000.0</td>\n",
       "      <td>97.4</td>\n",
       "      <td>2014-11-27</td>\n",
       "      <td>2</td>\n",
       "      <td>3.00</td>\n",
       "      <td>8</td>\n",
       "      <td>36.30</td>\n",
       "      <td>2</td>\n",
       "      <td>False</td>\n",
       "      <td>...</td>\n",
       "      <td>0</td>\n",
       "      <td>NaN</td>\n",
       "      <td>1078.0</td>\n",
       "      <td>санкт-петербург</td>\n",
       "      <td>148870.636550</td>\n",
       "      <td>Thursday</td>\n",
       "      <td>November</td>\n",
       "      <td>2014</td>\n",
       "      <td>Другой</td>\n",
       "      <td>11.0</td>\n",
       "    </tr>\n",
       "    <tr>\n",
       "      <th>3955</th>\n",
       "      <td>1</td>\n",
       "      <td>12561120.0</td>\n",
       "      <td>93.6</td>\n",
       "      <td>2014-11-27</td>\n",
       "      <td>3</td>\n",
       "      <td>3.00</td>\n",
       "      <td>16</td>\n",
       "      <td>52.00</td>\n",
       "      <td>5</td>\n",
       "      <td>True</td>\n",
       "      <td>...</td>\n",
       "      <td>2</td>\n",
       "      <td>454.0</td>\n",
       "      <td>583.0</td>\n",
       "      <td>санкт-петербург</td>\n",
       "      <td>134200.000000</td>\n",
       "      <td>Thursday</td>\n",
       "      <td>November</td>\n",
       "      <td>2014</td>\n",
       "      <td>Другой</td>\n",
       "      <td>8.0</td>\n",
       "    </tr>\n",
       "    <tr>\n",
       "      <th>4812</th>\n",
       "      <td>1</td>\n",
       "      <td>27933600.0</td>\n",
       "      <td>180.8</td>\n",
       "      <td>2014-11-27</td>\n",
       "      <td>4</td>\n",
       "      <td>3.10</td>\n",
       "      <td>16</td>\n",
       "      <td>94.89</td>\n",
       "      <td>11</td>\n",
       "      <td>True</td>\n",
       "      <td>...</td>\n",
       "      <td>2</td>\n",
       "      <td>454.0</td>\n",
       "      <td>586.0</td>\n",
       "      <td>санкт-петербург</td>\n",
       "      <td>154500.000000</td>\n",
       "      <td>Thursday</td>\n",
       "      <td>November</td>\n",
       "      <td>2014</td>\n",
       "      <td>Другой</td>\n",
       "      <td>8.0</td>\n",
       "    </tr>\n",
       "    <tr>\n",
       "      <th>13246</th>\n",
       "      <td>1</td>\n",
       "      <td>14000000.0</td>\n",
       "      <td>142.0</td>\n",
       "      <td>2014-11-27</td>\n",
       "      <td>3</td>\n",
       "      <td>2.77</td>\n",
       "      <td>5</td>\n",
       "      <td>95.70</td>\n",
       "      <td>4</td>\n",
       "      <td>True</td>\n",
       "      <td>...</td>\n",
       "      <td>1</td>\n",
       "      <td>77.0</td>\n",
       "      <td>1341.0</td>\n",
       "      <td>санкт-петербург</td>\n",
       "      <td>98591.549296</td>\n",
       "      <td>Thursday</td>\n",
       "      <td>November</td>\n",
       "      <td>2014</td>\n",
       "      <td>Другой</td>\n",
       "      <td>12.0</td>\n",
       "    </tr>\n",
       "    <tr>\n",
       "      <th>15427</th>\n",
       "      <td>2</td>\n",
       "      <td>3550000.0</td>\n",
       "      <td>34.0</td>\n",
       "      <td>2014-11-27</td>\n",
       "      <td>1</td>\n",
       "      <td>2.55</td>\n",
       "      <td>9</td>\n",
       "      <td>18.90</td>\n",
       "      <td>7</td>\n",
       "      <td>False</td>\n",
       "      <td>...</td>\n",
       "      <td>1</td>\n",
       "      <td>504.0</td>\n",
       "      <td>1149.0</td>\n",
       "      <td>санкт-петербург</td>\n",
       "      <td>104411.764706</td>\n",
       "      <td>Thursday</td>\n",
       "      <td>November</td>\n",
       "      <td>2014</td>\n",
       "      <td>Другой</td>\n",
       "      <td>14.0</td>\n",
       "    </tr>\n",
       "  </tbody>\n",
       "</table>\n",
       "<p>5 rows × 29 columns</p>\n",
       "</div>"
      ],
      "text/plain": [
       "       total_images  last_price  total_area first_day_exposition  rooms  \\\n",
       "3486              2  14500000.0        97.4           2014-11-27      2   \n",
       "3955              1  12561120.0        93.6           2014-11-27      3   \n",
       "4812              1  27933600.0       180.8           2014-11-27      4   \n",
       "13246             1  14000000.0       142.0           2014-11-27      3   \n",
       "15427             2   3550000.0        34.0           2014-11-27      1   \n",
       "\n",
       "       ceiling_height  floors_total  living_area  floor  is_apartment  ...  \\\n",
       "3486             3.00             8        36.30      2         False  ...   \n",
       "3955             3.00            16        52.00      5          True  ...   \n",
       "4812             3.10            16        94.89     11          True  ...   \n",
       "13246            2.77             5        95.70      4          True  ...   \n",
       "15427            2.55             9        18.90      7         False  ...   \n",
       "\n",
       "       ponds_around3000  ponds_nearest  days_exposition  locality_good_name  \\\n",
       "3486                  0            NaN           1078.0     санкт-петербург   \n",
       "3955                  2          454.0            583.0     санкт-петербург   \n",
       "4812                  2          454.0            586.0     санкт-петербург   \n",
       "13246                 1           77.0           1341.0     санкт-петербург   \n",
       "15427                 1          504.0           1149.0     санкт-петербург   \n",
       "\n",
       "      price_of_one_square_meter  day_of_publication  month_of_publication  \\\n",
       "3486              148870.636550            Thursday              November   \n",
       "3955              134200.000000            Thursday              November   \n",
       "4812              154500.000000            Thursday              November   \n",
       "13246              98591.549296            Thursday              November   \n",
       "15427             104411.764706            Thursday              November   \n",
       "\n",
       "       year_of_publication  type_floor  cityCenters_nearest_km  \n",
       "3486                  2014      Другой                    11.0  \n",
       "3955                  2014      Другой                     8.0  \n",
       "4812                  2014      Другой                     8.0  \n",
       "13246                 2014      Другой                    12.0  \n",
       "15427                 2014      Другой                    14.0  \n",
       "\n",
       "[5 rows x 29 columns]"
      ]
     },
     "execution_count": 518,
     "metadata": {},
     "output_type": "execute_result"
    }
   ],
   "source": [
    "test = data[data['first_day_exposition'] == '2014-11-27']\n",
    "test = test[test['type_floor'] == 'Другой']\n",
    "test.head()"
   ]
  },
  {
   "cell_type": "code",
   "execution_count": 519,
   "metadata": {},
   "outputs": [
    {
     "data": {
      "text/plain": [
       "14513845.0"
      ]
     },
     "execution_count": 519,
     "metadata": {},
     "output_type": "execute_result"
    }
   ],
   "source": [
    "test['last_price'].mean()"
   ]
  },
  {
   "cell_type": "code",
   "execution_count": 520,
   "metadata": {},
   "outputs": [],
   "source": [
    "# Видим, что колонка last_price не удобная для отображения, попробуем заменить на исчисляемое как \"млн\"\n",
    "def last_price_mln(row):\n",
    "    try:\n",
    "        return (row / 1000000).mean()\n",
    "    except:\n",
    "        return 'нет категории'\n",
    "\n",
    "data['last_price_mln'] = data['last_price'].apply(last_price_mln)"
   ]
  },
  {
   "cell_type": "code",
   "execution_count": 521,
   "metadata": {},
   "outputs": [],
   "source": [
    "def name_floor(row):\n",
    "    try:\n",
    "        row = 'Другой'\n",
    "\n",
    "        # Первый\n",
    "        data.loc[data['floor'] == 1, 'type_floor'] = 'Первый'\n",
    "\n",
    "        # Последний\n",
    "        data.loc[data['floor'] == data['floors_total'], 'type_floor'] = 'Последний'\n",
    "    except:\n",
    "        return 'нет категории'"
   ]
  },
  {
   "cell_type": "code",
   "execution_count": 522,
   "metadata": {},
   "outputs": [],
   "source": [
    "cost_factors_of_object = data.pivot_table(index = ['first_day_exposition', 'type_floor'], values = ['floor', 'last_price','total_area', 'living_area', 'kitchen_area', 'rooms', 'day_of_publication', 'month_of_publication', 'year_of_publication'], aggfunc = {'type_floor': 'count', 'last_price': last_price_mln, 'total_area': 'mean', 'living_area': 'mean', 'kitchen_area': 'mean', 'rooms': 'mean', 'day_of_publication': 'count', 'month_of_publication': 'count', 'year_of_publication': 'count'})"
   ]
  },
  {
   "cell_type": "code",
   "execution_count": 523,
   "metadata": {},
   "outputs": [
    {
     "data": {
      "text/plain": [
       "Index(['day_of_publication', 'kitchen_area', 'last_price', 'living_area',\n",
       "       'month_of_publication', 'rooms', 'total_area', 'type_floor',\n",
       "       'year_of_publication'],\n",
       "      dtype='object')"
      ]
     },
     "execution_count": 523,
     "metadata": {},
     "output_type": "execute_result"
    }
   ],
   "source": [
    "cost_factors_of_object.columns"
   ]
  },
  {
   "cell_type": "code",
   "execution_count": 524,
   "metadata": {},
   "outputs": [],
   "source": [
    "# Переимениуем колонку\n",
    "cost_factors_of_object.columns = ['type_floor', 'last_price_mln','total_area', 'living_area', 'kitchen_area', 'rooms', 'day_of_publication', 'month_of_publication', 'year_of_publication']"
   ]
  },
  {
   "cell_type": "code",
   "execution_count": 525,
   "metadata": {},
   "outputs": [
    {
     "data": {
      "text/html": [
       "<div>\n",
       "<style scoped>\n",
       "    .dataframe tbody tr th:only-of-type {\n",
       "        vertical-align: middle;\n",
       "    }\n",
       "\n",
       "    .dataframe tbody tr th {\n",
       "        vertical-align: top;\n",
       "    }\n",
       "\n",
       "    .dataframe thead th {\n",
       "        text-align: right;\n",
       "    }\n",
       "</style>\n",
       "<table border=\"1\" class=\"dataframe\">\n",
       "  <thead>\n",
       "    <tr style=\"text-align: right;\">\n",
       "      <th></th>\n",
       "      <th></th>\n",
       "      <th>type_floor</th>\n",
       "      <th>last_price_mln</th>\n",
       "      <th>total_area</th>\n",
       "      <th>living_area</th>\n",
       "      <th>kitchen_area</th>\n",
       "      <th>rooms</th>\n",
       "      <th>day_of_publication</th>\n",
       "      <th>month_of_publication</th>\n",
       "      <th>year_of_publication</th>\n",
       "    </tr>\n",
       "    <tr>\n",
       "      <th>first_day_exposition</th>\n",
       "      <th>type_floor</th>\n",
       "      <th></th>\n",
       "      <th></th>\n",
       "      <th></th>\n",
       "      <th></th>\n",
       "      <th></th>\n",
       "      <th></th>\n",
       "      <th></th>\n",
       "      <th></th>\n",
       "      <th></th>\n",
       "    </tr>\n",
       "  </thead>\n",
       "  <tbody>\n",
       "    <tr>\n",
       "      <th rowspan=\"3\" valign=\"top\">2014-11-27</th>\n",
       "      <th>Другой</th>\n",
       "      <td>6</td>\n",
       "      <td>16.585000</td>\n",
       "      <td>14.513845</td>\n",
       "      <td>55.465</td>\n",
       "      <td>6</td>\n",
       "      <td>2.5</td>\n",
       "      <td>104.725000</td>\n",
       "      <td>6</td>\n",
       "      <td>6</td>\n",
       "    </tr>\n",
       "    <tr>\n",
       "      <th>Первый</th>\n",
       "      <td>2</td>\n",
       "      <td>16.225000</td>\n",
       "      <td>8.992500</td>\n",
       "      <td>39.255</td>\n",
       "      <td>2</td>\n",
       "      <td>2.0</td>\n",
       "      <td>74.110000</td>\n",
       "      <td>2</td>\n",
       "      <td>2</td>\n",
       "    </tr>\n",
       "    <tr>\n",
       "      <th>Последний</th>\n",
       "      <td>2</td>\n",
       "      <td>27.990000</td>\n",
       "      <td>9.750965</td>\n",
       "      <td>45.620</td>\n",
       "      <td>2</td>\n",
       "      <td>2.5</td>\n",
       "      <td>94.725000</td>\n",
       "      <td>2</td>\n",
       "      <td>2</td>\n",
       "    </tr>\n",
       "    <tr>\n",
       "      <th>2014-11-29</th>\n",
       "      <th>Первый</th>\n",
       "      <td>1</td>\n",
       "      <td>10.030000</td>\n",
       "      <td>5.500000</td>\n",
       "      <td>30.040</td>\n",
       "      <td>1</td>\n",
       "      <td>2.0</td>\n",
       "      <td>53.400000</td>\n",
       "      <td>1</td>\n",
       "      <td>1</td>\n",
       "    </tr>\n",
       "    <tr>\n",
       "      <th>2014-12-08</th>\n",
       "      <th>Другой</th>\n",
       "      <td>2</td>\n",
       "      <td>12.900000</td>\n",
       "      <td>15.849500</td>\n",
       "      <td>49.850</td>\n",
       "      <td>2</td>\n",
       "      <td>2.5</td>\n",
       "      <td>89.100000</td>\n",
       "      <td>2</td>\n",
       "      <td>2</td>\n",
       "    </tr>\n",
       "    <tr>\n",
       "      <th rowspan=\"2\" valign=\"top\">2014-12-09</th>\n",
       "      <th>Другой</th>\n",
       "      <td>14</td>\n",
       "      <td>18.760714</td>\n",
       "      <td>15.735620</td>\n",
       "      <td>41.080</td>\n",
       "      <td>14</td>\n",
       "      <td>2.142857</td>\n",
       "      <td>84.335714</td>\n",
       "      <td>14</td>\n",
       "      <td>14</td>\n",
       "    </tr>\n",
       "    <tr>\n",
       "      <th>Последний</th>\n",
       "      <td>2</td>\n",
       "      <td>35.950000</td>\n",
       "      <td>36.600000</td>\n",
       "      <td>93.000</td>\n",
       "      <td>2</td>\n",
       "      <td>3.0</td>\n",
       "      <td>148.550000</td>\n",
       "      <td>2</td>\n",
       "      <td>2</td>\n",
       "    </tr>\n",
       "    <tr>\n",
       "      <th rowspan=\"2\" valign=\"top\">2014-12-10</th>\n",
       "      <th>Другой</th>\n",
       "      <td>10</td>\n",
       "      <td>12.684000</td>\n",
       "      <td>9.692000</td>\n",
       "      <td>57.390</td>\n",
       "      <td>10</td>\n",
       "      <td>3.1</td>\n",
       "      <td>98.930000</td>\n",
       "      <td>10</td>\n",
       "      <td>10</td>\n",
       "    </tr>\n",
       "    <tr>\n",
       "      <th>Первый</th>\n",
       "      <td>2</td>\n",
       "      <td>9.150000</td>\n",
       "      <td>5.225000</td>\n",
       "      <td>36.100</td>\n",
       "      <td>2</td>\n",
       "      <td>2.5</td>\n",
       "      <td>61.550000</td>\n",
       "      <td>2</td>\n",
       "      <td>2</td>\n",
       "    </tr>\n",
       "    <tr>\n",
       "      <th>2014-12-11</th>\n",
       "      <th>Другой</th>\n",
       "      <td>2</td>\n",
       "      <td>16.000000</td>\n",
       "      <td>8.417500</td>\n",
       "      <td>51.675</td>\n",
       "      <td>2</td>\n",
       "      <td>3.0</td>\n",
       "      <td>88.285000</td>\n",
       "      <td>2</td>\n",
       "      <td>2</td>\n",
       "    </tr>\n",
       "    <tr>\n",
       "      <th rowspan=\"2\" valign=\"top\">2014-12-12</th>\n",
       "      <th>Другой</th>\n",
       "      <td>1</td>\n",
       "      <td>8.600000</td>\n",
       "      <td>6.200000</td>\n",
       "      <td>54.000</td>\n",
       "      <td>1</td>\n",
       "      <td>3.0</td>\n",
       "      <td>79.300000</td>\n",
       "      <td>1</td>\n",
       "      <td>1</td>\n",
       "    </tr>\n",
       "    <tr>\n",
       "      <th>Последний</th>\n",
       "      <td>1</td>\n",
       "      <td>9.000000</td>\n",
       "      <td>2.300000</td>\n",
       "      <td>33.200</td>\n",
       "      <td>1</td>\n",
       "      <td>2.0</td>\n",
       "      <td>50.800000</td>\n",
       "      <td>1</td>\n",
       "      <td>1</td>\n",
       "    </tr>\n",
       "    <tr>\n",
       "      <th>2014-12-14</th>\n",
       "      <th>Другой</th>\n",
       "      <td>2</td>\n",
       "      <td>11.705000</td>\n",
       "      <td>6.090000</td>\n",
       "      <td>32.315</td>\n",
       "      <td>2</td>\n",
       "      <td>2.0</td>\n",
       "      <td>61.915000</td>\n",
       "      <td>2</td>\n",
       "      <td>2</td>\n",
       "    </tr>\n",
       "    <tr>\n",
       "      <th rowspan=\"2\" valign=\"top\">2014-12-15</th>\n",
       "      <th>Другой</th>\n",
       "      <td>2</td>\n",
       "      <td>21.250000</td>\n",
       "      <td>14.650000</td>\n",
       "      <td>55.750</td>\n",
       "      <td>2</td>\n",
       "      <td>3.0</td>\n",
       "      <td>112.000000</td>\n",
       "      <td>2</td>\n",
       "      <td>2</td>\n",
       "    </tr>\n",
       "    <tr>\n",
       "      <th>Последний</th>\n",
       "      <td>2</td>\n",
       "      <td>12.750000</td>\n",
       "      <td>6.500000</td>\n",
       "      <td>64.110</td>\n",
       "      <td>2</td>\n",
       "      <td>3.0</td>\n",
       "      <td>85.015000</td>\n",
       "      <td>2</td>\n",
       "      <td>2</td>\n",
       "    </tr>\n",
       "  </tbody>\n",
       "</table>\n",
       "</div>"
      ],
      "text/plain": [
       "                                 type_floor  last_price_mln  total_area  \\\n",
       "first_day_exposition type_floor                                           \n",
       "2014-11-27           Другой               6       16.585000   14.513845   \n",
       "                     Первый               2       16.225000    8.992500   \n",
       "                     Последний            2       27.990000    9.750965   \n",
       "2014-11-29           Первый               1       10.030000    5.500000   \n",
       "2014-12-08           Другой               2       12.900000   15.849500   \n",
       "2014-12-09           Другой              14       18.760714   15.735620   \n",
       "                     Последний            2       35.950000   36.600000   \n",
       "2014-12-10           Другой              10       12.684000    9.692000   \n",
       "                     Первый               2        9.150000    5.225000   \n",
       "2014-12-11           Другой               2       16.000000    8.417500   \n",
       "2014-12-12           Другой               1        8.600000    6.200000   \n",
       "                     Последний            1        9.000000    2.300000   \n",
       "2014-12-14           Другой               2       11.705000    6.090000   \n",
       "2014-12-15           Другой               2       21.250000   14.650000   \n",
       "                     Последний            2       12.750000    6.500000   \n",
       "\n",
       "                                 living_area  kitchen_area     rooms  \\\n",
       "first_day_exposition type_floor                                        \n",
       "2014-11-27           Другой           55.465             6       2.5   \n",
       "                     Первый           39.255             2       2.0   \n",
       "                     Последний        45.620             2       2.5   \n",
       "2014-11-29           Первый           30.040             1       2.0   \n",
       "2014-12-08           Другой           49.850             2       2.5   \n",
       "2014-12-09           Другой           41.080            14  2.142857   \n",
       "                     Последний        93.000             2       3.0   \n",
       "2014-12-10           Другой           57.390            10       3.1   \n",
       "                     Первый           36.100             2       2.5   \n",
       "2014-12-11           Другой           51.675             2       3.0   \n",
       "2014-12-12           Другой           54.000             1       3.0   \n",
       "                     Последний        33.200             1       2.0   \n",
       "2014-12-14           Другой           32.315             2       2.0   \n",
       "2014-12-15           Другой           55.750             2       3.0   \n",
       "                     Последний        64.110             2       3.0   \n",
       "\n",
       "                                 day_of_publication  month_of_publication  \\\n",
       "first_day_exposition type_floor                                             \n",
       "2014-11-27           Другой              104.725000                     6   \n",
       "                     Первый               74.110000                     2   \n",
       "                     Последний            94.725000                     2   \n",
       "2014-11-29           Первый               53.400000                     1   \n",
       "2014-12-08           Другой               89.100000                     2   \n",
       "2014-12-09           Другой               84.335714                    14   \n",
       "                     Последний           148.550000                     2   \n",
       "2014-12-10           Другой               98.930000                    10   \n",
       "                     Первый               61.550000                     2   \n",
       "2014-12-11           Другой               88.285000                     2   \n",
       "2014-12-12           Другой               79.300000                     1   \n",
       "                     Последний            50.800000                     1   \n",
       "2014-12-14           Другой               61.915000                     2   \n",
       "2014-12-15           Другой              112.000000                     2   \n",
       "                     Последний            85.015000                     2   \n",
       "\n",
       "                                 year_of_publication  \n",
       "first_day_exposition type_floor                       \n",
       "2014-11-27           Другой                        6  \n",
       "                     Первый                        2  \n",
       "                     Последний                     2  \n",
       "2014-11-29           Первый                        1  \n",
       "2014-12-08           Другой                        2  \n",
       "2014-12-09           Другой                       14  \n",
       "                     Последний                     2  \n",
       "2014-12-10           Другой                       10  \n",
       "                     Первый                        2  \n",
       "2014-12-11           Другой                        2  \n",
       "2014-12-12           Другой                        1  \n",
       "                     Последний                     1  \n",
       "2014-12-14           Другой                        2  \n",
       "2014-12-15           Другой                        2  \n",
       "                     Последний                     2  "
      ]
     },
     "execution_count": 525,
     "metadata": {},
     "output_type": "execute_result"
    }
   ],
   "source": [
    "# Смотрим и проверяем\n",
    "cost_factors_of_object.head(15)"
   ]
  },
  {
   "cell_type": "markdown",
   "metadata": {},
   "source": [
    "Построим графики, которые покажут зависимость цены от указанных ниже параметров. "
   ]
  },
  {
   "cell_type": "code",
   "execution_count": 526,
   "metadata": {},
   "outputs": [
    {
     "data": {
      "text/plain": [
       "array([[<AxesSubplot:title={'center':'type_floor'}>,\n",
       "        <AxesSubplot:title={'center':'last_price_mln'}>,\n",
       "        <AxesSubplot:title={'center':'total_area'}>],\n",
       "       [<AxesSubplot:title={'center':'living_area'}>,\n",
       "        <AxesSubplot:title={'center':'kitchen_area'}>,\n",
       "        <AxesSubplot:title={'center':'rooms'}>],\n",
       "       [<AxesSubplot:title={'center':'day_of_publication'}>,\n",
       "        <AxesSubplot:title={'center':'month_of_publication'}>,\n",
       "        <AxesSubplot:title={'center':'year_of_publication'}>]],\n",
       "      dtype=object)"
      ]
     },
     "execution_count": 526,
     "metadata": {},
     "output_type": "execute_result"
    },
    {
     "data": {
      "image/png": "[encoded data removed]",
      "text/plain": [
       "<Figure size 432x288 with 9 Axes>"
      ]
     },
     "metadata": {
      "needs_background": "light"
     },
     "output_type": "display_data"
    }
   ],
   "source": [
    "cost_factors_of_object.hist()"
   ]
  },
  {
   "cell_type": "code",
   "execution_count": 527,
   "metadata": {
    "scrolled": false
   },
   "outputs": [
    {
     "data": {
      "text/plain": [
       "<AxesSubplot:ylabel='Frequency'>"
      ]
     },
     "execution_count": 527,
     "metadata": {},
     "output_type": "execute_result"
    },
    {
     "data": {
      "image/png": "[encoded data removed]",
      "text/plain": [
       "<Figure size 720x720 with 1 Axes>"
      ]
     },
     "metadata": {
      "needs_background": "light"
     },
     "output_type": "display_data"
    }
   ],
   "source": [
    "cost_factors_of_object.plot(kind = 'hist', x = 'last_price_mln', y = 'total_area', figsize = (10, 10), grid = True, bins = 50, range = (0, 50))"
   ]
  },
  {
   "cell_type": "code",
   "execution_count": 528,
   "metadata": {},
   "outputs": [
    {
     "data": {
      "text/plain": [
       "<AxesSubplot:ylabel='Frequency'>"
      ]
     },
     "execution_count": 528,
     "metadata": {},
     "output_type": "execute_result"
    },
    {
     "data": {
      "image/png": "[encoded data removed]",
      "text/plain": [
       "<Figure size 720x720 with 1 Axes>"
      ]
     },
     "metadata": {
      "needs_background": "light"
     },
     "output_type": "display_data"
    }
   ],
   "source": [
    "cost_factors_of_object.plot(kind = 'hist', x = 'last_price_mln', y = 'total_area', figsize = (10, 10), grid = True, bins = 50, range = (0, 50))"
   ]
  },
  {
   "cell_type": "markdown",
   "metadata": {},
   "source": [
    "Здесь можно заметить, что самая распространенная общая площадь в среднем будет стоить 6 млн рублей "
   ]
  },
  {
   "cell_type": "code",
   "execution_count": 529,
   "metadata": {
    "scrolled": false
   },
   "outputs": [
    {
     "data": {
      "text/plain": [
       "<AxesSubplot:ylabel='Frequency'>"
      ]
     },
     "execution_count": 529,
     "metadata": {},
     "output_type": "execute_result"
    },
    {
     "data": {
      "image/png": "[encoded data removed]",
      "text/plain": [
       "<Figure size 720x720 with 1 Axes>"
      ]
     },
     "metadata": {
      "needs_background": "light"
     },
     "output_type": "display_data"
    }
   ],
   "source": [
    "cost_factors_of_object.plot(kind = 'hist', x = 'total_area', y = 'last_price_mln', figsize = (10, 10), grid = True, bins = 25, range = (4, 20))"
   ]
  },
  {
   "cell_type": "markdown",
   "metadata": {},
   "source": [
    "Здесь можно заметить, что самая распространенная стоимость в среднем будет иметь площадей 10 м^2 "
   ]
  },
  {
   "cell_type": "code",
   "execution_count": 530,
   "metadata": {
    "scrolled": false
   },
   "outputs": [
    {
     "data": {
      "text/plain": [
       "<AxesSubplot:ylabel='Frequency'>"
      ]
     },
     "execution_count": 530,
     "metadata": {},
     "output_type": "execute_result"
    },
    {
     "data": {
      "image/png": "[encoded data removed]",
      "text/plain": [
       "<Figure size 720x720 with 1 Axes>"
      ]
     },
     "metadata": {
      "needs_background": "light"
     },
     "output_type": "display_data"
    }
   ],
   "source": [
    "cost_factors_of_object.plot(kind = 'hist', x = 'living_area', y = 'last_price_mln', figsize = (10, 10), grid = True, bins = 25, range = (4, 20))"
   ]
  },
  {
   "cell_type": "markdown",
   "metadata": {},
   "source": [
    "Здесь можно заметить, что самая распространенная жилая площадь в среднем является 10 м^2"
   ]
  },
  {
   "cell_type": "code",
   "execution_count": 531,
   "metadata": {
    "scrolled": false
   },
   "outputs": [
    {
     "data": {
      "text/plain": [
       "<AxesSubplot:ylabel='Frequency'>"
      ]
     },
     "execution_count": 531,
     "metadata": {},
     "output_type": "execute_result"
    },
    {
     "data": {
      "image/png": "[encoded data removed]",
      "text/plain": [
       "<Figure size 720x720 with 1 Axes>"
      ]
     },
     "metadata": {
      "needs_background": "light"
     },
     "output_type": "display_data"
    }
   ],
   "source": [
    "cost_factors_of_object.plot(kind = 'hist', x = 'last_price_mln', y = 'living_area', figsize = (10, 10), grid = True, bins = 50, range = (5, 125))"
   ]
  },
  {
   "cell_type": "markdown",
   "metadata": {},
   "source": [
    "Здесь можно заметить, что самая распространенная жилая площадь в среднем будет стоить 30 млн рублей. Но также обнаружили резкий выброс около 19 млн рублей. Проверим, является ли аномальным значением или нет"
   ]
  },
  {
   "cell_type": "code",
   "execution_count": 532,
   "metadata": {
    "scrolled": false
   },
   "outputs": [
    {
     "data": {
      "text/html": [
       "<div>\n",
       "<style scoped>\n",
       "    .dataframe tbody tr th:only-of-type {\n",
       "        vertical-align: middle;\n",
       "    }\n",
       "\n",
       "    .dataframe tbody tr th {\n",
       "        vertical-align: top;\n",
       "    }\n",
       "\n",
       "    .dataframe thead th {\n",
       "        text-align: right;\n",
       "    }\n",
       "</style>\n",
       "<table border=\"1\" class=\"dataframe\">\n",
       "  <thead>\n",
       "    <tr style=\"text-align: right;\">\n",
       "      <th></th>\n",
       "      <th>total_images</th>\n",
       "      <th>last_price</th>\n",
       "      <th>total_area</th>\n",
       "      <th>first_day_exposition</th>\n",
       "      <th>rooms</th>\n",
       "      <th>ceiling_height</th>\n",
       "      <th>floors_total</th>\n",
       "      <th>living_area</th>\n",
       "      <th>floor</th>\n",
       "      <th>is_apartment</th>\n",
       "      <th>...</th>\n",
       "      <th>ponds_nearest</th>\n",
       "      <th>days_exposition</th>\n",
       "      <th>locality_good_name</th>\n",
       "      <th>price_of_one_square_meter</th>\n",
       "      <th>day_of_publication</th>\n",
       "      <th>month_of_publication</th>\n",
       "      <th>year_of_publication</th>\n",
       "      <th>type_floor</th>\n",
       "      <th>cityCenters_nearest_km</th>\n",
       "      <th>last_price_mln</th>\n",
       "    </tr>\n",
       "  </thead>\n",
       "  <tbody>\n",
       "    <tr>\n",
       "      <th>20650</th>\n",
       "      <td>20</td>\n",
       "      <td>18250000.0</td>\n",
       "      <td>210.0</td>\n",
       "      <td>2018-12-30</td>\n",
       "      <td>6</td>\n",
       "      <td>2.7</td>\n",
       "      <td>16</td>\n",
       "      <td>160.0</td>\n",
       "      <td>16</td>\n",
       "      <td>True</td>\n",
       "      <td>...</td>\n",
       "      <td>320.0</td>\n",
       "      <td>NaN</td>\n",
       "      <td>санкт-петербург</td>\n",
       "      <td>86904.761905</td>\n",
       "      <td>Sunday</td>\n",
       "      <td>December</td>\n",
       "      <td>2018</td>\n",
       "      <td>Последний</td>\n",
       "      <td>23.0</td>\n",
       "      <td>нет категории</td>\n",
       "    </tr>\n",
       "  </tbody>\n",
       "</table>\n",
       "<p>1 rows × 30 columns</p>\n",
       "</div>"
      ],
      "text/plain": [
       "       total_images  last_price  total_area first_day_exposition  rooms  \\\n",
       "20650            20  18250000.0       210.0           2018-12-30      6   \n",
       "\n",
       "       ceiling_height  floors_total  living_area  floor  is_apartment  ...  \\\n",
       "20650             2.7            16        160.0     16          True  ...   \n",
       "\n",
       "       ponds_nearest  days_exposition  locality_good_name  \\\n",
       "20650          320.0              NaN     санкт-петербург   \n",
       "\n",
       "       price_of_one_square_meter day_of_publication  month_of_publication  \\\n",
       "20650               86904.761905             Sunday              December   \n",
       "\n",
       "       year_of_publication  type_floor  cityCenters_nearest_km  last_price_mln  \n",
       "20650                 2018   Последний                    23.0   нет категории  \n",
       "\n",
       "[1 rows x 30 columns]"
      ]
     },
     "execution_count": 532,
     "metadata": {},
     "output_type": "execute_result"
    }
   ],
   "source": [
    "blowout_living_area = data[(data['last_price'] > 17000000) & (data['last_price'] < 20000000)]\n",
    "blowout_living_area[blowout_living_area['living_area'] == blowout_living_area['living_area'].max()]"
   ]
  },
  {
   "cell_type": "markdown",
   "metadata": {},
   "source": [
    "Оказывается, что нет. Просто этот дом является самым дорогим участком: 6 комнат, аппартамент, пруд в примерной шаговой доступности и недалеко к центру города (предположим, что апартамент находится в районе Шушары в Питере, то есть, ехать до Невского проспекта около 30 мин на машине)"
   ]
  },
  {
   "cell_type": "code",
   "execution_count": 533,
   "metadata": {},
   "outputs": [
    {
     "data": {
      "text/plain": [
       "<AxesSubplot:ylabel='Frequency'>"
      ]
     },
     "execution_count": 533,
     "metadata": {},
     "output_type": "execute_result"
    },
    {
     "data": {
      "image/png": "[encoded data removed]",
      "text/plain": [
       "<Figure size 720x720 with 1 Axes>"
      ]
     },
     "metadata": {
      "needs_background": "light"
     },
     "output_type": "display_data"
    }
   ],
   "source": [
    "cost_factors_of_object.plot(kind = 'hist', x = 'kitchen_area', y = 'last_price_mln', figsize = (10, 10), grid = True, bins = 50, range = (4, 20))"
   ]
  },
  {
   "cell_type": "markdown",
   "metadata": {},
   "source": [
    "Здесь можно заметить, что кухонная площадь 10 м^2 является самой дорогой"
   ]
  },
  {
   "cell_type": "code",
   "execution_count": 534,
   "metadata": {},
   "outputs": [
    {
     "data": {
      "text/plain": [
       "<AxesSubplot:ylabel='Frequency'>"
      ]
     },
     "execution_count": 534,
     "metadata": {},
     "output_type": "execute_result"
    },
    {
     "data": {
      "image/png": "[encoded data removed]",
      "text/plain": [
       "<Figure size 720x720 with 1 Axes>"
      ]
     },
     "metadata": {
      "needs_background": "light"
     },
     "output_type": "display_data"
    }
   ],
   "source": [
    "cost_factors_of_object.plot(kind = 'hist', x = 'last_price_mln', y = 'kitchen_area', figsize = (10, 10), grid = True, bins = 25, range = (1, 6))"
   ]
  },
  {
   "cell_type": "markdown",
   "metadata": {},
   "source": [
    "Здесь можно заметить, что самая распространенная кухонная площадь в среднем будет стоить 2 млн рублей. Но по площади кухни примерно одинаково у дома, у которых стоимость составляет около 1 млн и 3 млн рублей  "
   ]
  },
  {
   "cell_type": "code",
   "execution_count": 535,
   "metadata": {},
   "outputs": [
    {
     "data": {
      "text/plain": [
       "<AxesSubplot:ylabel='Frequency'>"
      ]
     },
     "execution_count": 535,
     "metadata": {},
     "output_type": "execute_result"
    },
    {
     "data": {
      "image/png": "[encoded data removed]",
      "text/plain": [
       "<Figure size 720x720 with 1 Axes>"
      ]
     },
     "metadata": {
      "needs_background": "light"
     },
     "output_type": "display_data"
    }
   ],
   "source": [
    "cost_factors_of_object.plot(kind = 'hist', x = 'rooms', y = 'last_price_mln', figsize = (10, 10), grid = True, bins = 25, range = (4, 20))"
   ]
  },
  {
   "cell_type": "markdown",
   "metadata": {},
   "source": [
    "Здесь можно заметить, что количество 10 комнат в доме является самым дорогим"
   ]
  },
  {
   "cell_type": "code",
   "execution_count": 536,
   "metadata": {},
   "outputs": [
    {
     "data": {
      "text/plain": [
       "<AxesSubplot:ylabel='Frequency'>"
      ]
     },
     "execution_count": 536,
     "metadata": {},
     "output_type": "execute_result"
    },
    {
     "data": {
      "image/png": "[encoded data removed]",
      "text/plain": [
       "<Figure size 720x720 with 1 Axes>"
      ]
     },
     "metadata": {
      "needs_background": "light"
     },
     "output_type": "display_data"
    }
   ],
   "source": [
    "cost_factors_of_object.plot(kind = 'hist', x = 'last_price_mln', y = 'rooms', figsize = (10, 10), grid = True, bins = 50, range = (25, 150))"
   ]
  },
  {
   "cell_type": "markdown",
   "metadata": {},
   "source": [
    "Здесь можно заметить, что самая распространеное количество комнат в среднем будет стоить 55 млн рублей."
   ]
  },
  {
   "cell_type": "code",
   "execution_count": 537,
   "metadata": {},
   "outputs": [
    {
     "data": {
      "text/plain": [
       "<AxesSubplot:ylabel='Frequency'>"
      ]
     },
     "execution_count": 537,
     "metadata": {},
     "output_type": "execute_result"
    },
    {
     "data": {
      "image/png": "[encoded data removed]",
      "text/plain": [
       "<Figure size 720x720 with 1 Axes>"
      ]
     },
     "metadata": {
      "needs_background": "light"
     },
     "output_type": "display_data"
    }
   ],
   "source": [
    "cost_factors_of_object.plot(kind = 'hist', x = 'last_price_mln', y = 'type_floor', figsize = (10, 10), grid = True, bins = 20, range = (0, 20))"
   ]
  },
  {
   "cell_type": "markdown",
   "metadata": {},
   "source": [
    "Ревьюеру: Здесь я не понял, как связать данные, чтобы построить гистограмму, если у двух данных разного типа: численный и строковый. Попробую применять seaborn"
   ]
  },
  {
   "cell_type": "code",
   "execution_count": 538,
   "metadata": {},
   "outputs": [
    {
     "data": {
      "text/plain": [
       "<AxesSubplot:xlabel='type_floor', ylabel='last_price'>"
      ]
     },
     "execution_count": 538,
     "metadata": {},
     "output_type": "execute_result"
    },
    {
     "data": {
      "image/png": "[encoded data removed]",
      "text/plain": [
       "<Figure size 432x288 with 1 Axes>"
      ]
     },
     "metadata": {
      "needs_background": "light"
     },
     "output_type": "display_data"
    }
   ],
   "source": [
    "import seaborn as sb\n",
    "\n",
    "sb.barplot(data = data, x = 'type_floor', y = 'last_price')"
   ]
  },
  {
   "cell_type": "markdown",
   "metadata": {},
   "source": [
    "Здесь можно заметить, что реже всего объявляют о продажах дома на первом этаже. \n",
    "\n",
    "Последний этаж больше остальных, но у него сильное стандартное отклонение по сравнению остальных."
   ]
  },
  {
   "cell_type": "code",
   "execution_count": 539,
   "metadata": {},
   "outputs": [
    {
     "data": {
      "text/plain": [
       "<AxesSubplot:xlabel='last_price', ylabel='day_of_publication'>"
      ]
     },
     "execution_count": 539,
     "metadata": {},
     "output_type": "execute_result"
    },
    {
     "data": {
      "image/png": "[encoded data removed]",
      "text/plain": [
       "<Figure size 432x288 with 1 Axes>"
      ]
     },
     "metadata": {
      "needs_background": "light"
     },
     "output_type": "display_data"
    }
   ],
   "source": [
    "sb.barplot(data = data, x = 'last_price', y = 'day_of_publication')"
   ]
  },
  {
   "cell_type": "markdown",
   "metadata": {},
   "source": [
    "Здесь можно заметить, что реже всего проводит публикация в воскресенье. А частые - среда. У остальных примерное более менее одинаковые значения"
   ]
  },
  {
   "cell_type": "code",
   "execution_count": 540,
   "metadata": {},
   "outputs": [
    {
     "data": {
      "text/plain": [
       "<AxesSubplot:xlabel='last_price', ylabel='month_of_publication'>"
      ]
     },
     "execution_count": 540,
     "metadata": {},
     "output_type": "execute_result"
    },
    {
     "data": {
      "image/png": "[encoded data removed]",
      "text/plain": [
       "<Figure size 432x288 with 1 Axes>"
      ]
     },
     "metadata": {
      "needs_background": "light"
     },
     "output_type": "display_data"
    }
   ],
   "source": [
    "sb.barplot(data = data, x = 'last_price', y = 'month_of_publication')"
   ]
  },
  {
   "cell_type": "markdown",
   "metadata": {},
   "source": [
    "Здесь можно заметить, что реже всего проводит публикация в июне. А частые - декабрь, но при этом имеет сильное стандартное отклонение"
   ]
  },
  {
   "cell_type": "code",
   "execution_count": 541,
   "metadata": {},
   "outputs": [
    {
     "data": {
      "text/plain": [
       "<AxesSubplot:ylabel='Frequency'>"
      ]
     },
     "execution_count": 541,
     "metadata": {},
     "output_type": "execute_result"
    },
    {
     "data": {
      "image/png": "[encoded data removed]",
      "text/plain": [
       "<Figure size 720x720 with 1 Axes>"
      ]
     },
     "metadata": {
      "needs_background": "light"
     },
     "output_type": "display_data"
    }
   ],
   "source": [
    "cost_factors_of_object.plot(kind = 'hist', x = 'last_price_mln', y = 'year_of_publication', figsize = (10, 10), grid = True, bins = 20, range = (0, 20))"
   ]
  },
  {
   "cell_type": "markdown",
   "metadata": {},
   "source": [
    "Здесь можно заметить, что в объявлений о продажах часто публикуется дома со стоимостью около 1,25 млн рублей"
   ]
  },
  {
   "cell_type": "markdown",
   "metadata": {},
   "source": [
    "Вычисляем среднюю цену одного квадратного метра в 10 населенных пунктах с наибольшим числом объявлений"
   ]
  },
  {
   "cell_type": "code",
   "execution_count": 542,
   "metadata": {},
   "outputs": [
    {
     "data": {
      "text/html": [
       "<div>\n",
       "<style scoped>\n",
       "    .dataframe tbody tr th:only-of-type {\n",
       "        vertical-align: middle;\n",
       "    }\n",
       "\n",
       "    .dataframe tbody tr th {\n",
       "        vertical-align: top;\n",
       "    }\n",
       "\n",
       "    .dataframe thead th {\n",
       "        text-align: right;\n",
       "    }\n",
       "</style>\n",
       "<table border=\"1\" class=\"dataframe\">\n",
       "  <thead>\n",
       "    <tr style=\"text-align: right;\">\n",
       "      <th></th>\n",
       "      <th>count</th>\n",
       "      <th>median</th>\n",
       "    </tr>\n",
       "    <tr>\n",
       "      <th>locality_name</th>\n",
       "      <th></th>\n",
       "      <th></th>\n",
       "    </tr>\n",
       "  </thead>\n",
       "  <tbody>\n",
       "    <tr>\n",
       "      <th>санкт-петербург</th>\n",
       "      <td>7228</td>\n",
       "      <td>107739.274438</td>\n",
       "    </tr>\n",
       "    <tr>\n",
       "      <th>всеволожск</th>\n",
       "      <td>237</td>\n",
       "      <td>66173.285199</td>\n",
       "    </tr>\n",
       "    <tr>\n",
       "      <th>посёлок мурино</th>\n",
       "      <td>192</td>\n",
       "      <td>86157.557209</td>\n",
       "    </tr>\n",
       "    <tr>\n",
       "      <th>посёлок шушары</th>\n",
       "      <td>187</td>\n",
       "      <td>77753.779698</td>\n",
       "    </tr>\n",
       "    <tr>\n",
       "      <th>пушкин</th>\n",
       "      <td>143</td>\n",
       "      <td>103773.584906</td>\n",
       "    </tr>\n",
       "    <tr>\n",
       "      <th>посёлок парголово</th>\n",
       "      <td>122</td>\n",
       "      <td>91289.206642</td>\n",
       "    </tr>\n",
       "    <tr>\n",
       "      <th>деревня кудрово</th>\n",
       "      <td>121</td>\n",
       "      <td>91155.492154</td>\n",
       "    </tr>\n",
       "    <tr>\n",
       "      <th>сестрорецк</th>\n",
       "      <td>101</td>\n",
       "      <td>102521.008403</td>\n",
       "    </tr>\n",
       "    <tr>\n",
       "      <th>петергоф</th>\n",
       "      <td>99</td>\n",
       "      <td>83333.333333</td>\n",
       "    </tr>\n",
       "    <tr>\n",
       "      <th>колпино</th>\n",
       "      <td>97</td>\n",
       "      <td>75000.000000</td>\n",
       "    </tr>\n",
       "  </tbody>\n",
       "</table>\n",
       "</div>"
      ],
      "text/plain": [
       "                   count         median\n",
       "locality_name                          \n",
       "санкт-петербург     7228  107739.274438\n",
       "всеволожск           237   66173.285199\n",
       "посёлок мурино       192   86157.557209\n",
       "посёлок шушары       187   77753.779698\n",
       "пушкин               143  103773.584906\n",
       "посёлок парголово    122   91289.206642\n",
       "деревня кудрово      121   91155.492154\n",
       "сестрорецк           101  102521.008403\n",
       "петергоф              99   83333.333333\n",
       "колпино               97   75000.000000"
      ]
     },
     "execution_count": 542,
     "metadata": {},
     "output_type": "execute_result"
    }
   ],
   "source": [
    "locality_name_mean_price = data.pivot_table(index = 'locality_name', values = 'price_of_one_square_meter', aggfunc=['count', 'median'])\n",
    "locality_name_mean_price.columns = ['count', 'median']\n",
    "locality_name_mean_price = locality_name_mean_price.sort_values(by = 'count', ascending = False)\n",
    "locality_name_mean_price.head(10)"
   ]
  },
  {
   "cell_type": "markdown",
   "metadata": {},
   "source": [
    "Можно заметить, что Санкт-Петербург занимает 1 место по количеству объявлений о продажах - 7228 объявлений.\n",
    "\n",
    "А в Колпино - последнее место по количеству объявлений о продажах - 97"
   ]
  },
  {
   "cell_type": "code",
   "execution_count": 543,
   "metadata": {},
   "outputs": [
    {
     "data": {
      "text/html": [
       "<div>\n",
       "<style scoped>\n",
       "    .dataframe tbody tr th:only-of-type {\n",
       "        vertical-align: middle;\n",
       "    }\n",
       "\n",
       "    .dataframe tbody tr th {\n",
       "        vertical-align: top;\n",
       "    }\n",
       "\n",
       "    .dataframe thead th {\n",
       "        text-align: right;\n",
       "    }\n",
       "</style>\n",
       "<table border=\"1\" class=\"dataframe\">\n",
       "  <thead>\n",
       "    <tr style=\"text-align: right;\">\n",
       "      <th></th>\n",
       "      <th>total_images</th>\n",
       "      <th>last_price</th>\n",
       "      <th>total_area</th>\n",
       "      <th>first_day_exposition</th>\n",
       "      <th>rooms</th>\n",
       "      <th>ceiling_height</th>\n",
       "      <th>floors_total</th>\n",
       "      <th>living_area</th>\n",
       "      <th>floor</th>\n",
       "      <th>is_apartment</th>\n",
       "      <th>...</th>\n",
       "      <th>ponds_nearest</th>\n",
       "      <th>days_exposition</th>\n",
       "      <th>locality_good_name</th>\n",
       "      <th>price_of_one_square_meter</th>\n",
       "      <th>day_of_publication</th>\n",
       "      <th>month_of_publication</th>\n",
       "      <th>year_of_publication</th>\n",
       "      <th>type_floor</th>\n",
       "      <th>cityCenters_nearest_km</th>\n",
       "      <th>last_price_mln</th>\n",
       "    </tr>\n",
       "  </thead>\n",
       "  <tbody>\n",
       "    <tr>\n",
       "      <th>0</th>\n",
       "      <td>20</td>\n",
       "      <td>13000000.0</td>\n",
       "      <td>108.0</td>\n",
       "      <td>2019-03-07</td>\n",
       "      <td>3</td>\n",
       "      <td>2.70</td>\n",
       "      <td>16</td>\n",
       "      <td>51.0</td>\n",
       "      <td>8</td>\n",
       "      <td>True</td>\n",
       "      <td>...</td>\n",
       "      <td>755.0</td>\n",
       "      <td>NaN</td>\n",
       "      <td>санкт-петербург</td>\n",
       "      <td>120370.370370</td>\n",
       "      <td>Thursday</td>\n",
       "      <td>March</td>\n",
       "      <td>2019</td>\n",
       "      <td>Другой</td>\n",
       "      <td>16.0</td>\n",
       "      <td>нет категории</td>\n",
       "    </tr>\n",
       "    <tr>\n",
       "      <th>4</th>\n",
       "      <td>2</td>\n",
       "      <td>10000000.0</td>\n",
       "      <td>100.0</td>\n",
       "      <td>2018-06-19</td>\n",
       "      <td>2</td>\n",
       "      <td>3.03</td>\n",
       "      <td>14</td>\n",
       "      <td>32.0</td>\n",
       "      <td>13</td>\n",
       "      <td>True</td>\n",
       "      <td>...</td>\n",
       "      <td>48.0</td>\n",
       "      <td>121.0</td>\n",
       "      <td>санкт-петербург</td>\n",
       "      <td>100000.000000</td>\n",
       "      <td>Tuesday</td>\n",
       "      <td>June</td>\n",
       "      <td>2018</td>\n",
       "      <td>Другой</td>\n",
       "      <td>8.0</td>\n",
       "      <td>нет категории</td>\n",
       "    </tr>\n",
       "    <tr>\n",
       "      <th>10</th>\n",
       "      <td>5</td>\n",
       "      <td>5050000.0</td>\n",
       "      <td>39.6</td>\n",
       "      <td>2017-11-16</td>\n",
       "      <td>1</td>\n",
       "      <td>2.67</td>\n",
       "      <td>12</td>\n",
       "      <td>20.3</td>\n",
       "      <td>3</td>\n",
       "      <td>True</td>\n",
       "      <td>...</td>\n",
       "      <td>553.0</td>\n",
       "      <td>137.0</td>\n",
       "      <td>санкт-петербург</td>\n",
       "      <td>127525.252525</td>\n",
       "      <td>Thursday</td>\n",
       "      <td>November</td>\n",
       "      <td>2017</td>\n",
       "      <td>Другой</td>\n",
       "      <td>14.0</td>\n",
       "      <td>нет категории</td>\n",
       "    </tr>\n",
       "    <tr>\n",
       "      <th>16</th>\n",
       "      <td>11</td>\n",
       "      <td>6700000.0</td>\n",
       "      <td>82.0</td>\n",
       "      <td>2017-11-23</td>\n",
       "      <td>3</td>\n",
       "      <td>3.05</td>\n",
       "      <td>5</td>\n",
       "      <td>55.6</td>\n",
       "      <td>1</td>\n",
       "      <td>True</td>\n",
       "      <td>...</td>\n",
       "      <td>NaN</td>\n",
       "      <td>397.0</td>\n",
       "      <td>санкт-петербург</td>\n",
       "      <td>81707.317073</td>\n",
       "      <td>Thursday</td>\n",
       "      <td>November</td>\n",
       "      <td>2017</td>\n",
       "      <td>Первый</td>\n",
       "      <td>11.0</td>\n",
       "      <td>нет категории</td>\n",
       "    </tr>\n",
       "    <tr>\n",
       "      <th>19</th>\n",
       "      <td>16</td>\n",
       "      <td>14200000.0</td>\n",
       "      <td>121.0</td>\n",
       "      <td>2019-01-09</td>\n",
       "      <td>3</td>\n",
       "      <td>2.75</td>\n",
       "      <td>16</td>\n",
       "      <td>76.0</td>\n",
       "      <td>8</td>\n",
       "      <td>True</td>\n",
       "      <td>...</td>\n",
       "      <td>NaN</td>\n",
       "      <td>97.0</td>\n",
       "      <td>санкт-петербург</td>\n",
       "      <td>117355.371901</td>\n",
       "      <td>Wednesday</td>\n",
       "      <td>January</td>\n",
       "      <td>2019</td>\n",
       "      <td>Другой</td>\n",
       "      <td>13.0</td>\n",
       "      <td>нет категории</td>\n",
       "    </tr>\n",
       "  </tbody>\n",
       "</table>\n",
       "<p>5 rows × 30 columns</p>\n",
       "</div>"
      ],
      "text/plain": [
       "    total_images  last_price  total_area first_day_exposition  rooms  \\\n",
       "0             20  13000000.0       108.0           2019-03-07      3   \n",
       "4              2  10000000.0       100.0           2018-06-19      2   \n",
       "10             5   5050000.0        39.6           2017-11-16      1   \n",
       "16            11   6700000.0        82.0           2017-11-23      3   \n",
       "19            16  14200000.0       121.0           2019-01-09      3   \n",
       "\n",
       "    ceiling_height  floors_total  living_area  floor  is_apartment  ...  \\\n",
       "0             2.70            16         51.0      8          True  ...   \n",
       "4             3.03            14         32.0     13          True  ...   \n",
       "10            2.67            12         20.3      3          True  ...   \n",
       "16            3.05             5         55.6      1          True  ...   \n",
       "19            2.75            16         76.0      8          True  ...   \n",
       "\n",
       "    ponds_nearest  days_exposition  locality_good_name  \\\n",
       "0           755.0              NaN     санкт-петербург   \n",
       "4            48.0            121.0     санкт-петербург   \n",
       "10          553.0            137.0     санкт-петербург   \n",
       "16            NaN            397.0     санкт-петербург   \n",
       "19            NaN             97.0     санкт-петербург   \n",
       "\n",
       "    price_of_one_square_meter day_of_publication  month_of_publication  \\\n",
       "0               120370.370370           Thursday                 March   \n",
       "4               100000.000000            Tuesday                  June   \n",
       "10              127525.252525           Thursday              November   \n",
       "16               81707.317073           Thursday              November   \n",
       "19              117355.371901          Wednesday               January   \n",
       "\n",
       "    year_of_publication  type_floor  cityCenters_nearest_km  last_price_mln  \n",
       "0                  2019      Другой                    16.0   нет категории  \n",
       "4                  2018      Другой                     8.0   нет категории  \n",
       "10                 2017      Другой                    14.0   нет категории  \n",
       "16                 2017      Первый                    11.0   нет категории  \n",
       "19                 2019      Другой                    13.0   нет категории  \n",
       "\n",
       "[5 rows x 30 columns]"
      ]
     },
     "execution_count": 543,
     "metadata": {},
     "output_type": "execute_result"
    }
   ],
   "source": [
    "city_spb = data[data['locality_name'] == 'санкт-петербург']\n",
    "city_spb.head()"
   ]
  },
  {
   "cell_type": "code",
   "execution_count": 567,
   "metadata": {},
   "outputs": [
    {
     "name": "stdout",
     "output_type": "stream",
     "text": [
      "<class 'pandas.core.frame.DataFrame'>\n",
      "Int64Index: 10119 entries, 0 to 23697\n",
      "Data columns (total 30 columns):\n",
      " #   Column                     Non-Null Count  Dtype         \n",
      "---  ------                     --------------  -----         \n",
      " 0   total_images               10119 non-null  int64         \n",
      " 1   last_price                 10119 non-null  float64       \n",
      " 2   total_area                 10119 non-null  float64       \n",
      " 3   first_day_exposition       10119 non-null  datetime64[ns]\n",
      " 4   rooms                      10044 non-null  Int64         \n",
      " 5   ceiling_height             10119 non-null  float64       \n",
      " 6   floors_total               10110 non-null  Int64         \n",
      " 7   living_area                10119 non-null  float64       \n",
      " 8   floor                      10119 non-null  int64         \n",
      " 9   is_apartment               10119 non-null  bool          \n",
      " 10  studio                     10119 non-null  bool          \n",
      " 11  open_plan                  10119 non-null  bool          \n",
      " 12  kitchen_area               10119 non-null  float64       \n",
      " 13  balcony                    10119 non-null  Int64         \n",
      " 14  locality_name              10107 non-null  object        \n",
      " 15  airports_nearest           8194 non-null   float64       \n",
      " 16  cityCenters_nearest        8209 non-null   float64       \n",
      " 17  parks_around3000           8210 non-null   Int64         \n",
      " 18  parks_nearest              3649 non-null   float64       \n",
      " 19  ponds_around3000           8210 non-null   Int64         \n",
      " 20  ponds_nearest              4163 non-null   float64       \n",
      " 21  days_exposition            8496 non-null   float64       \n",
      " 22  locality_good_name         10119 non-null  object        \n",
      " 23  price_of_one_square_meter  10119 non-null  float64       \n",
      " 24  day_of_publication         10119 non-null  object        \n",
      " 25  month_of_publication       10119 non-null  object        \n",
      " 26  year_of_publication        10119 non-null  int64         \n",
      " 27  type_floor                 10119 non-null  object        \n",
      " 28  cityCenters_nearest_km     8209 non-null   float64       \n",
      " 29  last_price_mln             10119 non-null  object        \n",
      "dtypes: Int64(5), bool(3), datetime64[ns](1), float64(12), int64(3), object(6)\n",
      "memory usage: 2.5+ MB\n"
     ]
    }
   ],
   "source": [
    "data.info()"
   ]
  },
  {
   "cell_type": "markdown",
   "metadata": {},
   "source": [
    "Посчитаем среднюю цену на 1 м^2 населенного пункта: Санкт-Петебург и Колпино"
   ]
  },
  {
   "cell_type": "code",
   "execution_count": 568,
   "metadata": {},
   "outputs": [],
   "source": [
    "city_spb['cost_of_km'] = data[data['locality_name'] == 'санкт-петербург']['last_price'] / data[data['locality_name'] == 'санкт-петербург']['cityCenters_nearest_km']"
   ]
  },
  {
   "cell_type": "code",
   "execution_count": 569,
   "metadata": {},
   "outputs": [],
   "source": [
    "city_spb = city_spb.sort_values(by = 'cityCenters_nearest_km', ascending = False)"
   ]
  },
  {
   "cell_type": "code",
   "execution_count": 572,
   "metadata": {},
   "outputs": [
    {
     "data": {
      "text/html": [
       "<div>\n",
       "<style scoped>\n",
       "    .dataframe tbody tr th:only-of-type {\n",
       "        vertical-align: middle;\n",
       "    }\n",
       "\n",
       "    .dataframe tbody tr th {\n",
       "        vertical-align: top;\n",
       "    }\n",
       "\n",
       "    .dataframe thead th {\n",
       "        text-align: right;\n",
       "    }\n",
       "</style>\n",
       "<table border=\"1\" class=\"dataframe\">\n",
       "  <thead>\n",
       "    <tr style=\"text-align: right;\">\n",
       "      <th></th>\n",
       "      <th>total_images</th>\n",
       "      <th>last_price</th>\n",
       "      <th>total_area</th>\n",
       "      <th>first_day_exposition</th>\n",
       "      <th>rooms</th>\n",
       "      <th>ceiling_height</th>\n",
       "      <th>floors_total</th>\n",
       "      <th>living_area</th>\n",
       "      <th>floor</th>\n",
       "      <th>is_apartment</th>\n",
       "      <th>...</th>\n",
       "      <th>days_exposition</th>\n",
       "      <th>locality_good_name</th>\n",
       "      <th>price_of_one_square_meter</th>\n",
       "      <th>day_of_publication</th>\n",
       "      <th>month_of_publication</th>\n",
       "      <th>year_of_publication</th>\n",
       "      <th>type_floor</th>\n",
       "      <th>cityCenters_nearest_km</th>\n",
       "      <th>last_price_mln</th>\n",
       "      <th>cost_of_km</th>\n",
       "    </tr>\n",
       "  </thead>\n",
       "  <tbody>\n",
       "    <tr>\n",
       "      <th>12160</th>\n",
       "      <td>8</td>\n",
       "      <td>2450000.0</td>\n",
       "      <td>43.0</td>\n",
       "      <td>2018-08-14</td>\n",
       "      <td>1</td>\n",
       "      <td>2.75</td>\n",
       "      <td>5</td>\n",
       "      <td>16.0</td>\n",
       "      <td>1</td>\n",
       "      <td>True</td>\n",
       "      <td>...</td>\n",
       "      <td>8.0</td>\n",
       "      <td>санкт-петербург</td>\n",
       "      <td>56976.744186</td>\n",
       "      <td>Tuesday</td>\n",
       "      <td>August</td>\n",
       "      <td>2018</td>\n",
       "      <td>Первый</td>\n",
       "      <td>29.0</td>\n",
       "      <td>нет категории</td>\n",
       "      <td>84482.758621</td>\n",
       "    </tr>\n",
       "    <tr>\n",
       "      <th>11652</th>\n",
       "      <td>16</td>\n",
       "      <td>4700000.0</td>\n",
       "      <td>51.0</td>\n",
       "      <td>2016-06-07</td>\n",
       "      <td>2</td>\n",
       "      <td>2.60</td>\n",
       "      <td>5</td>\n",
       "      <td>30.0</td>\n",
       "      <td>1</td>\n",
       "      <td>True</td>\n",
       "      <td>...</td>\n",
       "      <td>539.0</td>\n",
       "      <td>санкт-петербург</td>\n",
       "      <td>92156.862745</td>\n",
       "      <td>Tuesday</td>\n",
       "      <td>June</td>\n",
       "      <td>2016</td>\n",
       "      <td>Первый</td>\n",
       "      <td>29.0</td>\n",
       "      <td>нет категории</td>\n",
       "      <td>162068.965517</td>\n",
       "    </tr>\n",
       "    <tr>\n",
       "      <th>814</th>\n",
       "      <td>0</td>\n",
       "      <td>7600000.0</td>\n",
       "      <td>111.0</td>\n",
       "      <td>2017-07-26</td>\n",
       "      <td>3</td>\n",
       "      <td>3.00</td>\n",
       "      <td>16</td>\n",
       "      <td>63.0</td>\n",
       "      <td>12</td>\n",
       "      <td>True</td>\n",
       "      <td>...</td>\n",
       "      <td>66.0</td>\n",
       "      <td>санкт-петербург</td>\n",
       "      <td>68468.468468</td>\n",
       "      <td>Wednesday</td>\n",
       "      <td>July</td>\n",
       "      <td>2017</td>\n",
       "      <td>Другой</td>\n",
       "      <td>28.0</td>\n",
       "      <td>нет категории</td>\n",
       "      <td>271428.571429</td>\n",
       "    </tr>\n",
       "    <tr>\n",
       "      <th>748</th>\n",
       "      <td>13</td>\n",
       "      <td>14350000.0</td>\n",
       "      <td>74.0</td>\n",
       "      <td>2017-11-28</td>\n",
       "      <td>2</td>\n",
       "      <td>3.13</td>\n",
       "      <td>5</td>\n",
       "      <td>30.0</td>\n",
       "      <td>3</td>\n",
       "      <td>True</td>\n",
       "      <td>...</td>\n",
       "      <td>128.0</td>\n",
       "      <td>санкт-петербург</td>\n",
       "      <td>193918.918919</td>\n",
       "      <td>Tuesday</td>\n",
       "      <td>November</td>\n",
       "      <td>2017</td>\n",
       "      <td>Другой</td>\n",
       "      <td>27.0</td>\n",
       "      <td>нет категории</td>\n",
       "      <td>531481.481481</td>\n",
       "    </tr>\n",
       "    <tr>\n",
       "      <th>7732</th>\n",
       "      <td>20</td>\n",
       "      <td>3975000.0</td>\n",
       "      <td>74.0</td>\n",
       "      <td>2018-08-20</td>\n",
       "      <td>3</td>\n",
       "      <td>3.20</td>\n",
       "      <td>3</td>\n",
       "      <td>43.8</td>\n",
       "      <td>2</td>\n",
       "      <td>True</td>\n",
       "      <td>...</td>\n",
       "      <td>112.0</td>\n",
       "      <td>санкт-петербург</td>\n",
       "      <td>53716.216216</td>\n",
       "      <td>Monday</td>\n",
       "      <td>August</td>\n",
       "      <td>2018</td>\n",
       "      <td>Другой</td>\n",
       "      <td>26.0</td>\n",
       "      <td>нет категории</td>\n",
       "      <td>152884.615385</td>\n",
       "    </tr>\n",
       "  </tbody>\n",
       "</table>\n",
       "<p>5 rows × 31 columns</p>\n",
       "</div>"
      ],
      "text/plain": [
       "       total_images  last_price  total_area first_day_exposition  rooms  \\\n",
       "12160             8   2450000.0        43.0           2018-08-14      1   \n",
       "11652            16   4700000.0        51.0           2016-06-07      2   \n",
       "814               0   7600000.0       111.0           2017-07-26      3   \n",
       "748              13  14350000.0        74.0           2017-11-28      2   \n",
       "7732             20   3975000.0        74.0           2018-08-20      3   \n",
       "\n",
       "       ceiling_height  floors_total  living_area  floor  is_apartment  ...  \\\n",
       "12160            2.75             5         16.0      1          True  ...   \n",
       "11652            2.60             5         30.0      1          True  ...   \n",
       "814              3.00            16         63.0     12          True  ...   \n",
       "748              3.13             5         30.0      3          True  ...   \n",
       "7732             3.20             3         43.8      2          True  ...   \n",
       "\n",
       "       days_exposition  locality_good_name  price_of_one_square_meter  \\\n",
       "12160              8.0     санкт-петербург               56976.744186   \n",
       "11652            539.0     санкт-петербург               92156.862745   \n",
       "814               66.0     санкт-петербург               68468.468468   \n",
       "748              128.0     санкт-петербург              193918.918919   \n",
       "7732             112.0     санкт-петербург               53716.216216   \n",
       "\n",
       "       day_of_publication month_of_publication  year_of_publication  \\\n",
       "12160             Tuesday               August                 2018   \n",
       "11652             Tuesday                 June                 2016   \n",
       "814             Wednesday                 July                 2017   \n",
       "748               Tuesday             November                 2017   \n",
       "7732               Monday               August                 2018   \n",
       "\n",
       "       type_floor  cityCenters_nearest_km  last_price_mln     cost_of_km  \n",
       "12160      Первый                    29.0   нет категории   84482.758621  \n",
       "11652      Первый                    29.0   нет категории  162068.965517  \n",
       "814        Другой                    28.0   нет категории  271428.571429  \n",
       "748        Другой                    27.0   нет категории  531481.481481  \n",
       "7732       Другой                    26.0   нет категории  152884.615385  \n",
       "\n",
       "[5 rows x 31 columns]"
      ]
     },
     "execution_count": 572,
     "metadata": {},
     "output_type": "execute_result"
    }
   ],
   "source": [
    "city_spb.head()"
   ]
  },
  {
   "cell_type": "code",
   "execution_count": 571,
   "metadata": {},
   "outputs": [
    {
     "data": {
      "text/plain": [
       "<AxesSubplot:xlabel='cityCenters_nearest_km'>"
      ]
     },
     "execution_count": 571,
     "metadata": {},
     "output_type": "execute_result"
    },
    {
     "data": {
      "image/png": "[encoded data removed]",
      "text/plain": [
       "<Figure size 720x720 with 1 Axes>"
      ]
     },
     "metadata": {
      "needs_background": "light"
     },
     "output_type": "display_data"
    }
   ],
   "source": [
    "city_spb.plot(kind = 'line', style = '-o', x = 'cityCenters_nearest_km', y = 'price_of_one_square_meter', figsize = (10, 10), grid = True)"
   ]
  },
  {
   "cell_type": "markdown",
   "metadata": {},
   "source": [
    "Ревьюеру: здесь получилось странный график, мне кажется что в данных есть какие-то аномальные значения, которых я пропустил? "
   ]
  },
  {
   "cell_type": "code",
   "execution_count": null,
   "metadata": {},
   "outputs": [],
   "source": []
  },
  {
   "cell_type": "markdown",
   "metadata": {},
   "source": [
    "### Общий вывод"
   ]
  },
  {
   "cell_type": "code",
   "execution_count": null,
   "metadata": {},
   "outputs": [],
   "source": []
  },
  {
   "cell_type": "markdown",
   "metadata": {},
   "source": []
  },
  {
   "cell_type": "markdown",
   "metadata": {},
   "source": [
    "**Чек-лист готовности проекта**\n",
    "\n",
    "Поставьте 'x' в выполненных пунктах. Далее нажмите Shift+Enter."
   ]
  },
  {
   "cell_type": "markdown",
   "metadata": {},
   "source": [
    "- [x]  открыт файл\n",
    "- [x]  файлы изучены (выведены первые строки, метод `info()`, гистограммы и т.д.)\n",
    "- [x]  определены пропущенные значения\n",
    "- [x]  заполнены пропущенные значения там, где это возможно\n",
    "- [x]  есть пояснение, какие пропущенные значения обнаружены\n",
    "- [x]  изменены типы данных\n",
    "- [x]  есть пояснение, в каких столбцах изменены типы и почему\n",
    "- [x]  устранены неявные дубликаты в названиях населённых пунктов\n",
    "- [x]  устранены редкие и выбивающиеся значения (аномалии) во всех столбцах\n",
    "- [x]  посчитано и добавлено в таблицу: цена одного квадратного метра\n",
    "- [x]  посчитано и добавлено в таблицу: день публикации объявления (0 - понедельник, 1 - вторник и т.д.)\n",
    "- [x]  посчитано и добавлено в таблицу: месяц публикации объявления\n",
    "- [x]  посчитано и добавлено в таблицу: год публикации объявления\n",
    "- [x]  посчитано и добавлено в таблицу: тип этажа квартиры (значения — «первый», «последний», «другой»)\n",
    "- [x]  посчитано и добавлено в таблицу: расстояние в км до центра города\n",
    "- [x]  изучены и описаны следующие параметры:\n",
    "        - общая площадь;\n",
    "        - жилая площадь;\n",
    "        - площадь кухни;\n",
    "        - цена объекта;\n",
    "        - количество комнат;\n",
    "        - высота потолков;\n",
    "        - этаж квартиры;\n",
    "        - тип этажа квартиры («первый», «последний», «другой»);\n",
    "        - общее количество этажей в доме;\n",
    "        - расстояние до центра города в метрах;\n",
    "        - расстояние до ближайшего аэропорта;\n",
    "        - расстояние до ближайшего парка;\n",
    "        - день и месяц публикации объявления\n",
    "- [x]  построены гистограммы для каждого параметра\n",
    "- [x]  выполнено задание: \"Изучите, как быстро продавались квартиры (столбец days_exposition). Этот параметр показывает, сколько дней «висело» каждое объявление.\n",
    "    - Постройте гистограмму.\n",
    "    - Посчитайте среднее и медиану.\n",
    "    - В ячейке типа markdown опишите, сколько обычно занимает продажа. Какие продажи можно считать быстрыми, а какие — необычно долгими?\"\n",
    "- [ ]  выполнено задание: \"Какие факторы больше всего влияют на общую (полную) стоимость объекта? Постройте графики, которые покажут зависимость цены от указанных ниже параметров. Для подготовки данных перед визуализацией вы можете использовать сводные таблицы.\"\n",
    "        - общей площади;\n",
    "        - жилой площади;\n",
    "        - площади кухни;\n",
    "        - количество комнат;\n",
    "        - типа этажа, на котором расположена квартира (первый, последний, другой);\n",
    "        - даты размещения (день недели, месяц, год);\n",
    "- [ ]  выполнено задание: \"Посчитайте среднюю цену одного квадратного метра в 10 населённых пунктах с наибольшим числом объявлений. Выделите населённые пункты с самой высокой и низкой стоимостью квадратного метра. Эти данные можно найти по имени в столбце `locality_name`.\"\n",
    "- [ ]  выполнено задание: \"Ранее вы посчитали расстояние до центра в километрах. Теперь выделите квартиры в Санкт-Петербурге с помощью столбца `locality_name` и вычислите среднюю цену каждого километра. Опишите, как стоимость объектов зависит от расстояния до центра города.\"\n",
    "- [ ]  в каждом этапе есть промежуточные выводы\n",
    "- [ ]  есть общий вывод"
   ]
  },
  {
   "cell_type": "code",
   "execution_count": null,
   "metadata": {},
   "outputs": [],
   "source": []
  }
 ],
 "metadata": {
  "ExecuteTimeLog": [
   {
    "duration": 503,
    "start_time": "2022-11-15T19:54:50.705Z"
   },
   {
    "duration": 91,
    "start_time": "2022-11-15T19:55:43.243Z"
   },
   {
    "duration": 92,
    "start_time": "2022-11-15T19:56:01.027Z"
   },
   {
    "duration": 65,
    "start_time": "2022-11-15T19:56:56.733Z"
   },
   {
    "duration": 88,
    "start_time": "2022-11-15T19:57:02.755Z"
   },
   {
    "duration": 79,
    "start_time": "2022-11-15T19:57:12.228Z"
   },
   {
    "duration": 75,
    "start_time": "2022-11-15T19:57:18.325Z"
   },
   {
    "duration": 77,
    "start_time": "2022-11-15T19:57:27.460Z"
   },
   {
    "duration": 90,
    "start_time": "2022-11-15T19:57:59.285Z"
   },
   {
    "duration": 85,
    "start_time": "2022-11-15T19:58:56.973Z"
   },
   {
    "duration": 6,
    "start_time": "2022-11-15T20:02:19.294Z"
   },
   {
    "duration": 56,
    "start_time": "2022-11-15T20:06:24.835Z"
   },
   {
    "duration": 85,
    "start_time": "2022-11-15T20:06:26.349Z"
   },
   {
    "duration": 5,
    "start_time": "2022-11-15T20:06:28.277Z"
   },
   {
    "duration": 27,
    "start_time": "2022-11-15T20:06:37.456Z"
   },
   {
    "duration": 25,
    "start_time": "2022-11-15T20:06:51.755Z"
   },
   {
    "duration": 9,
    "start_time": "2022-11-15T20:09:05.532Z"
   },
   {
    "duration": 2216,
    "start_time": "2022-11-15T20:11:14.024Z"
   },
   {
    "duration": 11,
    "start_time": "2022-11-16T06:43:26.256Z"
   },
   {
    "duration": 3,
    "start_time": "2022-11-16T06:43:37.485Z"
   },
   {
    "duration": 4,
    "start_time": "2022-11-16T06:43:38.964Z"
   },
   {
    "duration": 3,
    "start_time": "2022-11-16T06:43:50.595Z"
   },
   {
    "duration": 3,
    "start_time": "2022-11-16T06:44:01.145Z"
   },
   {
    "duration": 3,
    "start_time": "2022-11-16T06:48:29.475Z"
   },
   {
    "duration": 43,
    "start_time": "2022-11-16T06:52:31.777Z"
   },
   {
    "duration": 730,
    "start_time": "2022-11-16T06:52:34.992Z"
   },
   {
    "duration": 34,
    "start_time": "2022-11-16T06:52:38.392Z"
   },
   {
    "duration": 8,
    "start_time": "2022-11-16T06:52:44.750Z"
   },
   {
    "duration": 2356,
    "start_time": "2022-11-16T06:52:45.794Z"
   },
   {
    "duration": 10,
    "start_time": "2022-11-16T06:52:48.352Z"
   },
   {
    "duration": 5,
    "start_time": "2022-11-16T06:53:04.063Z"
   },
   {
    "duration": 6,
    "start_time": "2022-11-16T06:53:18.004Z"
   },
   {
    "duration": 5,
    "start_time": "2022-11-16T06:53:22.565Z"
   },
   {
    "duration": 6,
    "start_time": "2022-11-16T06:53:25.433Z"
   },
   {
    "duration": 6,
    "start_time": "2022-11-16T06:53:26.843Z"
   },
   {
    "duration": 821,
    "start_time": "2022-11-16T07:11:10.103Z"
   },
   {
    "duration": 1165,
    "start_time": "2022-11-16T07:14:13.708Z"
   },
   {
    "duration": 6,
    "start_time": "2022-11-16T07:14:19.145Z"
   },
   {
    "duration": 12,
    "start_time": "2022-11-16T07:15:50.166Z"
   },
   {
    "duration": 7,
    "start_time": "2022-11-16T07:15:55.090Z"
   },
   {
    "duration": 5,
    "start_time": "2022-11-16T07:23:42.799Z"
   },
   {
    "duration": 4,
    "start_time": "2022-11-16T07:23:43.885Z"
   },
   {
    "duration": 6,
    "start_time": "2022-11-16T07:23:45.806Z"
   },
   {
    "duration": 5,
    "start_time": "2022-11-16T07:25:02.791Z"
   },
   {
    "duration": 5,
    "start_time": "2022-11-16T07:25:05.249Z"
   },
   {
    "duration": 5,
    "start_time": "2022-11-16T07:25:06.858Z"
   },
   {
    "duration": 110,
    "start_time": "2022-11-16T07:25:14.946Z"
   },
   {
    "duration": 26,
    "start_time": "2022-11-16T07:25:15.058Z"
   },
   {
    "duration": 27,
    "start_time": "2022-11-16T07:25:15.086Z"
   },
   {
    "duration": 2212,
    "start_time": "2022-11-16T07:25:15.115Z"
   },
   {
    "duration": 10,
    "start_time": "2022-11-16T07:25:17.330Z"
   },
   {
    "duration": 15,
    "start_time": "2022-11-16T07:25:17.341Z"
   },
   {
    "duration": 27,
    "start_time": "2022-11-16T07:25:17.358Z"
   },
   {
    "duration": 34,
    "start_time": "2022-11-16T07:25:17.386Z"
   },
   {
    "duration": 36,
    "start_time": "2022-11-16T07:25:17.422Z"
   },
   {
    "duration": 7,
    "start_time": "2022-11-16T07:25:27.082Z"
   },
   {
    "duration": 5,
    "start_time": "2022-11-16T07:25:31.188Z"
   },
   {
    "duration": 6,
    "start_time": "2022-11-16T07:25:32.271Z"
   },
   {
    "duration": 7,
    "start_time": "2022-11-16T07:25:33.811Z"
   },
   {
    "duration": 7,
    "start_time": "2022-11-16T07:50:30.543Z"
   },
   {
    "duration": 5,
    "start_time": "2022-11-16T08:01:24.817Z"
   },
   {
    "duration": 7,
    "start_time": "2022-11-16T08:01:27.537Z"
   },
   {
    "duration": 47,
    "start_time": "2022-11-16T13:20:02.676Z"
   },
   {
    "duration": 689,
    "start_time": "2022-11-16T13:20:07.155Z"
   },
   {
    "duration": 28,
    "start_time": "2022-11-16T13:20:07.846Z"
   },
   {
    "duration": 5,
    "start_time": "2022-11-16T13:20:07.875Z"
   },
   {
    "duration": 2154,
    "start_time": "2022-11-16T13:20:07.882Z"
   },
   {
    "duration": 10,
    "start_time": "2022-11-16T13:20:10.037Z"
   },
   {
    "duration": 17,
    "start_time": "2022-11-16T13:20:10.048Z"
   },
   {
    "duration": 17,
    "start_time": "2022-11-16T13:20:10.068Z"
   },
   {
    "duration": 46,
    "start_time": "2022-11-16T13:20:10.087Z"
   },
   {
    "duration": 4,
    "start_time": "2022-11-16T13:20:10.135Z"
   },
   {
    "duration": 8,
    "start_time": "2022-11-16T13:20:10.141Z"
   },
   {
    "duration": 6,
    "start_time": "2022-11-16T13:20:19.840Z"
   },
   {
    "duration": 7,
    "start_time": "2022-11-16T13:22:09.131Z"
   },
   {
    "duration": 12,
    "start_time": "2022-11-16T13:23:25.545Z"
   },
   {
    "duration": 4,
    "start_time": "2022-11-16T13:23:40.548Z"
   },
   {
    "duration": 9,
    "start_time": "2022-11-16T13:23:47.780Z"
   },
   {
    "duration": 8,
    "start_time": "2022-11-16T13:23:53.910Z"
   },
   {
    "duration": 11,
    "start_time": "2022-11-16T13:26:25.764Z"
   },
   {
    "duration": 6,
    "start_time": "2022-11-16T13:26:40.142Z"
   },
   {
    "duration": 33,
    "start_time": "2022-11-16T13:26:48.504Z"
   },
   {
    "duration": 6,
    "start_time": "2022-11-16T13:26:54.352Z"
   },
   {
    "duration": 7,
    "start_time": "2022-11-16T13:27:02.561Z"
   },
   {
    "duration": 7,
    "start_time": "2022-11-16T13:27:06.008Z"
   },
   {
    "duration": 7,
    "start_time": "2022-11-16T13:27:19.289Z"
   },
   {
    "duration": 8,
    "start_time": "2022-11-16T13:27:38.544Z"
   },
   {
    "duration": 3,
    "start_time": "2022-11-16T13:27:55.104Z"
   },
   {
    "duration": 3,
    "start_time": "2022-11-16T13:27:59.104Z"
   },
   {
    "duration": 3,
    "start_time": "2022-11-16T13:28:05.776Z"
   },
   {
    "duration": 5,
    "start_time": "2022-11-16T13:28:40.867Z"
   },
   {
    "duration": 7,
    "start_time": "2022-11-16T13:28:50.833Z"
   },
   {
    "duration": 8,
    "start_time": "2022-11-16T13:28:54.605Z"
   },
   {
    "duration": 6,
    "start_time": "2022-11-16T13:28:57.876Z"
   },
   {
    "duration": 3,
    "start_time": "2022-11-16T13:29:18.370Z"
   },
   {
    "duration": 5,
    "start_time": "2022-11-16T13:29:25.371Z"
   },
   {
    "duration": 7,
    "start_time": "2022-11-16T13:29:29.372Z"
   },
   {
    "duration": 6,
    "start_time": "2022-11-16T13:29:33.098Z"
   },
   {
    "duration": 6,
    "start_time": "2022-11-16T13:29:55.227Z"
   },
   {
    "duration": 3,
    "start_time": "2022-11-16T13:30:04.426Z"
   },
   {
    "duration": 3,
    "start_time": "2022-11-16T13:30:12.299Z"
   },
   {
    "duration": 3,
    "start_time": "2022-11-16T13:30:16.514Z"
   },
   {
    "duration": 4,
    "start_time": "2022-11-16T13:30:29.594Z"
   },
   {
    "duration": 3,
    "start_time": "2022-11-16T13:30:36.858Z"
   },
   {
    "duration": 40,
    "start_time": "2022-11-16T13:30:41.284Z"
   },
   {
    "duration": 4,
    "start_time": "2022-11-16T13:30:43.035Z"
   },
   {
    "duration": 4,
    "start_time": "2022-11-16T13:31:33.206Z"
   },
   {
    "duration": 7,
    "start_time": "2022-11-16T13:32:27.934Z"
   },
   {
    "duration": 5,
    "start_time": "2022-11-16T13:32:55.302Z"
   },
   {
    "duration": 8,
    "start_time": "2022-11-16T13:33:04.055Z"
   },
   {
    "duration": 3,
    "start_time": "2022-11-16T13:33:07.831Z"
   },
   {
    "duration": 52,
    "start_time": "2022-11-16T13:36:22.778Z"
   },
   {
    "duration": 4,
    "start_time": "2022-11-16T13:42:34.833Z"
   },
   {
    "duration": 4,
    "start_time": "2022-11-16T13:42:35.680Z"
   },
   {
    "duration": 3,
    "start_time": "2022-11-16T13:42:38.448Z"
   },
   {
    "duration": 4,
    "start_time": "2022-11-16T13:42:40.247Z"
   },
   {
    "duration": 5,
    "start_time": "2022-11-16T13:42:41.544Z"
   },
   {
    "duration": 108,
    "start_time": "2022-11-16T13:42:48.559Z"
   },
   {
    "duration": 28,
    "start_time": "2022-11-16T13:42:48.668Z"
   },
   {
    "duration": 5,
    "start_time": "2022-11-16T13:42:48.698Z"
   },
   {
    "duration": 1905,
    "start_time": "2022-11-16T13:42:48.705Z"
   },
   {
    "duration": 16,
    "start_time": "2022-11-16T13:42:50.611Z"
   },
   {
    "duration": 6,
    "start_time": "2022-11-16T13:42:50.628Z"
   },
   {
    "duration": 16,
    "start_time": "2022-11-16T13:42:50.635Z"
   },
   {
    "duration": 7,
    "start_time": "2022-11-16T13:42:50.653Z"
   },
   {
    "duration": 21,
    "start_time": "2022-11-16T13:42:50.661Z"
   },
   {
    "duration": 28,
    "start_time": "2022-11-16T13:42:50.685Z"
   },
   {
    "duration": 41,
    "start_time": "2022-11-16T13:42:50.715Z"
   },
   {
    "duration": 33,
    "start_time": "2022-11-16T13:42:50.758Z"
   },
   {
    "duration": 5,
    "start_time": "2022-11-16T13:42:56.000Z"
   },
   {
    "duration": 3,
    "start_time": "2022-11-16T13:42:56.728Z"
   },
   {
    "duration": 5,
    "start_time": "2022-11-16T13:43:03.178Z"
   },
   {
    "duration": 4,
    "start_time": "2022-11-16T13:43:03.881Z"
   },
   {
    "duration": 4,
    "start_time": "2022-11-16T13:43:09.657Z"
   },
   {
    "duration": 4,
    "start_time": "2022-11-16T13:43:10.664Z"
   },
   {
    "duration": 4,
    "start_time": "2022-11-16T13:43:24.385Z"
   },
   {
    "duration": 4,
    "start_time": "2022-11-16T13:43:25.423Z"
   },
   {
    "duration": 3,
    "start_time": "2022-11-16T13:43:49.785Z"
   },
   {
    "duration": 4,
    "start_time": "2022-11-16T13:43:50.577Z"
   },
   {
    "duration": 3,
    "start_time": "2022-11-16T13:43:53.136Z"
   },
   {
    "duration": 4,
    "start_time": "2022-11-16T13:43:57.985Z"
   },
   {
    "duration": 98,
    "start_time": "2022-11-16T13:44:03.017Z"
   },
   {
    "duration": 27,
    "start_time": "2022-11-16T13:44:03.116Z"
   },
   {
    "duration": 9,
    "start_time": "2022-11-16T13:44:03.144Z"
   },
   {
    "duration": 1892,
    "start_time": "2022-11-16T13:44:03.154Z"
   },
   {
    "duration": 8,
    "start_time": "2022-11-16T13:44:05.048Z"
   },
   {
    "duration": 8,
    "start_time": "2022-11-16T13:44:05.057Z"
   },
   {
    "duration": 5,
    "start_time": "2022-11-16T13:44:05.067Z"
   },
   {
    "duration": 16,
    "start_time": "2022-11-16T13:44:05.073Z"
   },
   {
    "duration": 8,
    "start_time": "2022-11-16T13:44:05.090Z"
   },
   {
    "duration": 21,
    "start_time": "2022-11-16T13:44:05.100Z"
   },
   {
    "duration": 9,
    "start_time": "2022-11-16T13:44:05.122Z"
   },
   {
    "duration": 11,
    "start_time": "2022-11-16T13:44:05.133Z"
   },
   {
    "duration": 6,
    "start_time": "2022-11-16T13:44:07.889Z"
   },
   {
    "duration": 4,
    "start_time": "2022-11-16T13:44:08.556Z"
   },
   {
    "duration": 6,
    "start_time": "2022-11-16T13:44:26.498Z"
   },
   {
    "duration": 5,
    "start_time": "2022-11-16T13:44:28.418Z"
   },
   {
    "duration": 4,
    "start_time": "2022-11-16T13:44:29.194Z"
   },
   {
    "duration": 99,
    "start_time": "2022-11-16T13:44:51.954Z"
   },
   {
    "duration": 24,
    "start_time": "2022-11-16T13:44:52.055Z"
   },
   {
    "duration": 5,
    "start_time": "2022-11-16T13:44:52.080Z"
   },
   {
    "duration": 1712,
    "start_time": "2022-11-16T13:44:52.087Z"
   },
   {
    "duration": 25,
    "start_time": "2022-11-16T13:44:53.801Z"
   },
   {
    "duration": 18,
    "start_time": "2022-11-16T13:44:53.828Z"
   },
   {
    "duration": 6,
    "start_time": "2022-11-16T13:44:53.848Z"
   },
   {
    "duration": 10,
    "start_time": "2022-11-16T13:44:53.856Z"
   },
   {
    "duration": 9,
    "start_time": "2022-11-16T13:44:53.867Z"
   },
   {
    "duration": 16,
    "start_time": "2022-11-16T13:44:53.878Z"
   },
   {
    "duration": 25,
    "start_time": "2022-11-16T13:44:53.896Z"
   },
   {
    "duration": 15,
    "start_time": "2022-11-16T13:44:53.923Z"
   },
   {
    "duration": 5,
    "start_time": "2022-11-16T13:44:57.994Z"
   },
   {
    "duration": 4,
    "start_time": "2022-11-16T13:44:58.490Z"
   },
   {
    "duration": 4,
    "start_time": "2022-11-16T13:45:36.507Z"
   },
   {
    "duration": 100,
    "start_time": "2022-11-16T13:45:38.315Z"
   },
   {
    "duration": 24,
    "start_time": "2022-11-16T13:45:38.417Z"
   },
   {
    "duration": 17,
    "start_time": "2022-11-16T13:45:38.443Z"
   },
   {
    "duration": 1818,
    "start_time": "2022-11-16T13:45:38.462Z"
   },
   {
    "duration": 9,
    "start_time": "2022-11-16T13:45:40.282Z"
   },
   {
    "duration": 9,
    "start_time": "2022-11-16T13:45:40.292Z"
   },
   {
    "duration": 21,
    "start_time": "2022-11-16T13:45:40.302Z"
   },
   {
    "duration": 45,
    "start_time": "2022-11-16T13:45:40.325Z"
   },
   {
    "duration": 38,
    "start_time": "2022-11-16T13:45:40.371Z"
   },
   {
    "duration": 24,
    "start_time": "2022-11-16T13:45:40.412Z"
   },
   {
    "duration": 31,
    "start_time": "2022-11-16T13:45:40.438Z"
   },
   {
    "duration": 26,
    "start_time": "2022-11-16T13:45:40.471Z"
   },
   {
    "duration": 5,
    "start_time": "2022-11-16T13:46:49.173Z"
   },
   {
    "duration": 4,
    "start_time": "2022-11-16T13:46:50.692Z"
   },
   {
    "duration": 93,
    "start_time": "2022-11-16T13:46:54.124Z"
   },
   {
    "duration": 24,
    "start_time": "2022-11-16T13:46:54.219Z"
   },
   {
    "duration": 17,
    "start_time": "2022-11-16T13:46:54.245Z"
   },
   {
    "duration": 1883,
    "start_time": "2022-11-16T13:46:54.264Z"
   },
   {
    "duration": 8,
    "start_time": "2022-11-16T13:46:56.149Z"
   },
   {
    "duration": 11,
    "start_time": "2022-11-16T13:46:56.159Z"
   },
   {
    "duration": 19,
    "start_time": "2022-11-16T13:46:56.171Z"
   },
   {
    "duration": 10,
    "start_time": "2022-11-16T13:46:56.192Z"
   },
   {
    "duration": 5,
    "start_time": "2022-11-16T13:46:56.204Z"
   },
   {
    "duration": 13,
    "start_time": "2022-11-16T13:46:56.211Z"
   },
   {
    "duration": 11,
    "start_time": "2022-11-16T13:46:56.225Z"
   },
   {
    "duration": 7,
    "start_time": "2022-11-16T13:46:56.238Z"
   },
   {
    "duration": 6,
    "start_time": "2022-11-16T13:47:26.710Z"
   },
   {
    "duration": 5,
    "start_time": "2022-11-16T13:47:27.645Z"
   },
   {
    "duration": 99,
    "start_time": "2022-11-16T13:47:30.813Z"
   },
   {
    "duration": 29,
    "start_time": "2022-11-16T13:47:30.913Z"
   },
   {
    "duration": 31,
    "start_time": "2022-11-16T13:47:30.944Z"
   },
   {
    "duration": 1747,
    "start_time": "2022-11-16T13:47:30.976Z"
   },
   {
    "duration": 8,
    "start_time": "2022-11-16T13:47:32.725Z"
   },
   {
    "duration": 13,
    "start_time": "2022-11-16T13:47:32.734Z"
   },
   {
    "duration": 6,
    "start_time": "2022-11-16T13:47:32.748Z"
   },
   {
    "duration": 8,
    "start_time": "2022-11-16T13:47:32.756Z"
   },
   {
    "duration": 6,
    "start_time": "2022-11-16T13:47:32.765Z"
   },
   {
    "duration": 9,
    "start_time": "2022-11-16T13:47:32.773Z"
   },
   {
    "duration": 9,
    "start_time": "2022-11-16T13:47:32.784Z"
   },
   {
    "duration": 33,
    "start_time": "2022-11-16T13:47:32.794Z"
   },
   {
    "duration": 16,
    "start_time": "2022-11-16T13:48:44.242Z"
   },
   {
    "duration": 725,
    "start_time": "2022-11-16T13:48:48.182Z"
   },
   {
    "duration": 681,
    "start_time": "2022-11-16T13:48:59.143Z"
   },
   {
    "duration": 586,
    "start_time": "2022-11-16T13:50:37.177Z"
   },
   {
    "duration": 559,
    "start_time": "2022-11-16T13:51:12.772Z"
   },
   {
    "duration": 663,
    "start_time": "2022-11-16T13:51:23.947Z"
   },
   {
    "duration": 616,
    "start_time": "2022-11-16T13:51:30.994Z"
   },
   {
    "duration": 669,
    "start_time": "2022-11-16T13:52:49.556Z"
   },
   {
    "duration": 275,
    "start_time": "2022-11-16T13:52:52.916Z"
   },
   {
    "duration": 31,
    "start_time": "2022-11-16T13:52:53.194Z"
   },
   {
    "duration": 4,
    "start_time": "2022-11-16T13:52:53.227Z"
   },
   {
    "duration": 1692,
    "start_time": "2022-11-16T13:52:53.233Z"
   },
   {
    "duration": 10,
    "start_time": "2022-11-16T13:52:54.927Z"
   },
   {
    "duration": 6,
    "start_time": "2022-11-16T13:52:54.939Z"
   },
   {
    "duration": 10,
    "start_time": "2022-11-16T13:52:54.947Z"
   },
   {
    "duration": 9,
    "start_time": "2022-11-16T13:52:54.959Z"
   },
   {
    "duration": 6,
    "start_time": "2022-11-16T13:52:54.970Z"
   },
   {
    "duration": 9,
    "start_time": "2022-11-16T13:52:54.977Z"
   },
   {
    "duration": 34,
    "start_time": "2022-11-16T13:52:54.987Z"
   },
   {
    "duration": 10,
    "start_time": "2022-11-16T13:52:55.022Z"
   },
   {
    "duration": 11,
    "start_time": "2022-11-16T13:53:08.587Z"
   },
   {
    "duration": 9,
    "start_time": "2022-11-16T13:53:19.028Z"
   },
   {
    "duration": 103,
    "start_time": "2022-11-16T13:53:22.540Z"
   },
   {
    "duration": 34,
    "start_time": "2022-11-16T13:53:22.645Z"
   },
   {
    "duration": 6,
    "start_time": "2022-11-16T13:53:22.681Z"
   },
   {
    "duration": 1794,
    "start_time": "2022-11-16T13:53:22.689Z"
   },
   {
    "duration": 10,
    "start_time": "2022-11-16T13:53:24.485Z"
   },
   {
    "duration": 46,
    "start_time": "2022-11-16T13:53:24.496Z"
   },
   {
    "duration": 21,
    "start_time": "2022-11-16T13:53:24.543Z"
   },
   {
    "duration": 33,
    "start_time": "2022-11-16T13:53:24.565Z"
   },
   {
    "duration": 17,
    "start_time": "2022-11-16T13:53:24.599Z"
   },
   {
    "duration": 34,
    "start_time": "2022-11-16T13:53:24.617Z"
   },
   {
    "duration": 14,
    "start_time": "2022-11-16T13:53:24.652Z"
   },
   {
    "duration": 37,
    "start_time": "2022-11-16T13:53:24.668Z"
   },
   {
    "duration": 8,
    "start_time": "2022-11-16T13:54:29.189Z"
   },
   {
    "duration": 4,
    "start_time": "2022-11-16T13:54:30.048Z"
   },
   {
    "duration": 3,
    "start_time": "2022-11-16T13:54:47.600Z"
   },
   {
    "duration": 96,
    "start_time": "2022-11-16T13:54:50.229Z"
   },
   {
    "duration": 24,
    "start_time": "2022-11-16T13:54:50.327Z"
   },
   {
    "duration": 33,
    "start_time": "2022-11-16T13:54:50.352Z"
   },
   {
    "duration": 1940,
    "start_time": "2022-11-16T13:54:50.387Z"
   },
   {
    "duration": 10,
    "start_time": "2022-11-16T13:54:52.330Z"
   },
   {
    "duration": 7,
    "start_time": "2022-11-16T13:54:52.341Z"
   },
   {
    "duration": 7,
    "start_time": "2022-11-16T13:54:52.350Z"
   },
   {
    "duration": 19,
    "start_time": "2022-11-16T13:54:52.359Z"
   },
   {
    "duration": 9,
    "start_time": "2022-11-16T13:54:52.380Z"
   },
   {
    "duration": 12,
    "start_time": "2022-11-16T13:54:52.390Z"
   },
   {
    "duration": 20,
    "start_time": "2022-11-16T13:54:52.404Z"
   },
   {
    "duration": 21,
    "start_time": "2022-11-16T13:54:52.425Z"
   },
   {
    "duration": 4,
    "start_time": "2022-11-16T13:55:14.934Z"
   },
   {
    "duration": 4,
    "start_time": "2022-11-16T13:55:27.246Z"
   },
   {
    "duration": 5,
    "start_time": "2022-11-16T13:55:31.526Z"
   },
   {
    "duration": 7,
    "start_time": "2022-11-16T13:55:34.270Z"
   },
   {
    "duration": 8,
    "start_time": "2022-11-16T13:55:37.717Z"
   },
   {
    "duration": 5,
    "start_time": "2022-11-16T13:55:41.519Z"
   },
   {
    "duration": 7,
    "start_time": "2022-11-16T13:55:47.782Z"
   },
   {
    "duration": 6,
    "start_time": "2022-11-16T13:56:01.126Z"
   },
   {
    "duration": 5,
    "start_time": "2022-11-16T13:56:08.503Z"
   },
   {
    "duration": 4,
    "start_time": "2022-11-16T13:56:10.937Z"
   },
   {
    "duration": 6,
    "start_time": "2022-11-16T13:57:07.041Z"
   },
   {
    "duration": 9,
    "start_time": "2022-11-16T13:57:08.265Z"
   },
   {
    "duration": 8,
    "start_time": "2022-11-16T13:57:13.103Z"
   },
   {
    "duration": 5,
    "start_time": "2022-11-16T13:58:21.537Z"
   },
   {
    "duration": 5,
    "start_time": "2022-11-16T13:58:41.737Z"
   },
   {
    "duration": 8,
    "start_time": "2022-11-16T14:00:58.726Z"
   },
   {
    "duration": 9,
    "start_time": "2022-11-16T14:01:05.674Z"
   },
   {
    "duration": 9,
    "start_time": "2022-11-16T14:01:39.806Z"
   },
   {
    "duration": 13,
    "start_time": "2022-11-16T14:01:45.781Z"
   },
   {
    "duration": 9,
    "start_time": "2022-11-16T14:01:47.229Z"
   },
   {
    "duration": 7,
    "start_time": "2022-11-16T14:02:21.759Z"
   },
   {
    "duration": 6,
    "start_time": "2022-11-16T14:02:48.543Z"
   },
   {
    "duration": 5,
    "start_time": "2022-11-16T14:05:42.974Z"
   },
   {
    "duration": 10,
    "start_time": "2022-11-16T14:06:26.186Z"
   },
   {
    "duration": 6,
    "start_time": "2022-11-16T14:06:39.538Z"
   },
   {
    "duration": 9,
    "start_time": "2022-11-16T14:06:41.419Z"
   },
   {
    "duration": 5,
    "start_time": "2022-11-16T14:06:43.767Z"
   },
   {
    "duration": 4,
    "start_time": "2022-11-16T14:06:52.707Z"
   },
   {
    "duration": 8,
    "start_time": "2022-11-16T14:08:54.786Z"
   },
   {
    "duration": 20,
    "start_time": "2022-11-16T14:09:31.621Z"
   },
   {
    "duration": 21,
    "start_time": "2022-11-16T14:09:36.229Z"
   },
   {
    "duration": 20,
    "start_time": "2022-11-16T14:09:39.405Z"
   },
   {
    "duration": 10,
    "start_time": "2022-11-16T14:09:52.911Z"
   },
   {
    "duration": 13,
    "start_time": "2022-11-16T14:11:38.944Z"
   },
   {
    "duration": 12,
    "start_time": "2022-11-16T14:11:59.289Z"
   },
   {
    "duration": 801,
    "start_time": "2022-11-16T15:20:22.433Z"
   },
   {
    "duration": 47,
    "start_time": "2022-11-16T15:20:55.530Z"
   },
   {
    "duration": 210,
    "start_time": "2022-11-16T15:21:05.924Z"
   },
   {
    "duration": 16,
    "start_time": "2022-11-16T15:21:49.445Z"
   },
   {
    "duration": 3,
    "start_time": "2022-11-16T15:21:54.940Z"
   },
   {
    "duration": 18,
    "start_time": "2022-11-16T15:31:55.517Z"
   },
   {
    "duration": 141,
    "start_time": "2022-11-16T15:31:59.709Z"
   },
   {
    "duration": 8,
    "start_time": "2022-11-16T15:41:00.496Z"
   },
   {
    "duration": 13,
    "start_time": "2022-11-16T15:41:08.242Z"
   },
   {
    "duration": 7,
    "start_time": "2022-11-16T15:41:21.897Z"
   },
   {
    "duration": 8,
    "start_time": "2022-11-16T15:42:00.282Z"
   },
   {
    "duration": 5,
    "start_time": "2022-11-16T15:42:02.042Z"
   },
   {
    "duration": 113,
    "start_time": "2022-11-16T15:42:08.218Z"
   },
   {
    "duration": 34,
    "start_time": "2022-11-16T15:42:08.334Z"
   },
   {
    "duration": 10,
    "start_time": "2022-11-16T15:42:08.369Z"
   },
   {
    "duration": 2133,
    "start_time": "2022-11-16T15:42:08.381Z"
   },
   {
    "duration": 18,
    "start_time": "2022-11-16T15:42:10.516Z"
   },
   {
    "duration": 22,
    "start_time": "2022-11-16T15:42:10.535Z"
   },
   {
    "duration": 26,
    "start_time": "2022-11-16T15:42:10.558Z"
   },
   {
    "duration": 11,
    "start_time": "2022-11-16T15:42:10.586Z"
   },
   {
    "duration": 6,
    "start_time": "2022-11-16T15:42:10.598Z"
   },
   {
    "duration": 20,
    "start_time": "2022-11-16T15:42:10.606Z"
   },
   {
    "duration": 21,
    "start_time": "2022-11-16T15:42:10.629Z"
   },
   {
    "duration": 10,
    "start_time": "2022-11-16T15:42:10.652Z"
   },
   {
    "duration": 6,
    "start_time": "2022-11-16T15:42:10.663Z"
   },
   {
    "duration": 9,
    "start_time": "2022-11-16T15:42:10.671Z"
   },
   {
    "duration": 15,
    "start_time": "2022-11-16T15:42:10.682Z"
   },
   {
    "duration": 30,
    "start_time": "2022-11-16T15:42:10.698Z"
   },
   {
    "duration": 20,
    "start_time": "2022-11-16T15:42:10.730Z"
   },
   {
    "duration": 7,
    "start_time": "2022-11-16T15:42:10.751Z"
   },
   {
    "duration": 17,
    "start_time": "2022-11-16T15:42:10.760Z"
   },
   {
    "duration": 105,
    "start_time": "2022-11-16T15:42:44.381Z"
   },
   {
    "duration": 23,
    "start_time": "2022-11-16T15:42:44.488Z"
   },
   {
    "duration": 12,
    "start_time": "2022-11-16T15:42:44.523Z"
   },
   {
    "duration": 1867,
    "start_time": "2022-11-16T15:42:44.537Z"
   },
   {
    "duration": 24,
    "start_time": "2022-11-16T15:42:46.406Z"
   },
   {
    "duration": 8,
    "start_time": "2022-11-16T15:42:46.433Z"
   },
   {
    "duration": 7,
    "start_time": "2022-11-16T15:42:46.443Z"
   },
   {
    "duration": 9,
    "start_time": "2022-11-16T15:42:46.451Z"
   },
   {
    "duration": 5,
    "start_time": "2022-11-16T15:42:46.461Z"
   },
   {
    "duration": 5,
    "start_time": "2022-11-16T15:42:46.467Z"
   },
   {
    "duration": 13,
    "start_time": "2022-11-16T15:42:46.473Z"
   },
   {
    "duration": 35,
    "start_time": "2022-11-16T15:42:46.488Z"
   },
   {
    "duration": 8,
    "start_time": "2022-11-16T15:42:46.524Z"
   },
   {
    "duration": 20,
    "start_time": "2022-11-16T15:42:46.537Z"
   },
   {
    "duration": 36,
    "start_time": "2022-11-16T15:42:46.559Z"
   },
   {
    "duration": 14,
    "start_time": "2022-11-16T15:42:46.597Z"
   },
   {
    "duration": 17,
    "start_time": "2022-11-16T15:42:46.614Z"
   },
   {
    "duration": 16,
    "start_time": "2022-11-16T15:42:46.633Z"
   },
   {
    "duration": 13,
    "start_time": "2022-11-16T15:42:46.651Z"
   },
   {
    "duration": 2,
    "start_time": "2022-11-16T15:44:56.588Z"
   },
   {
    "duration": 5,
    "start_time": "2022-11-16T15:46:08.237Z"
   },
   {
    "duration": 4,
    "start_time": "2022-11-16T15:46:13.168Z"
   },
   {
    "duration": 29,
    "start_time": "2022-11-16T15:46:38.562Z"
   },
   {
    "duration": 54,
    "start_time": "2022-11-16T15:47:23.079Z"
   },
   {
    "duration": 102,
    "start_time": "2022-11-16T15:47:29.239Z"
   },
   {
    "duration": 22,
    "start_time": "2022-11-16T15:47:29.344Z"
   },
   {
    "duration": 8,
    "start_time": "2022-11-16T15:47:29.367Z"
   },
   {
    "duration": 1881,
    "start_time": "2022-11-16T15:47:29.376Z"
   },
   {
    "duration": 10,
    "start_time": "2022-11-16T15:47:31.259Z"
   },
   {
    "duration": 27,
    "start_time": "2022-11-16T15:47:31.270Z"
   },
   {
    "duration": 13,
    "start_time": "2022-11-16T15:47:31.298Z"
   },
   {
    "duration": 17,
    "start_time": "2022-11-16T15:47:31.313Z"
   },
   {
    "duration": 15,
    "start_time": "2022-11-16T15:47:31.332Z"
   },
   {
    "duration": 9,
    "start_time": "2022-11-16T15:47:31.349Z"
   },
   {
    "duration": 10,
    "start_time": "2022-11-16T15:47:31.360Z"
   },
   {
    "duration": 13,
    "start_time": "2022-11-16T15:47:31.372Z"
   },
   {
    "duration": 14,
    "start_time": "2022-11-16T15:47:31.386Z"
   },
   {
    "duration": 21,
    "start_time": "2022-11-16T15:47:31.403Z"
   },
   {
    "duration": 23,
    "start_time": "2022-11-16T15:47:31.427Z"
   },
   {
    "duration": 8,
    "start_time": "2022-11-16T15:47:31.452Z"
   },
   {
    "duration": 19,
    "start_time": "2022-11-16T15:47:31.461Z"
   },
   {
    "duration": 9,
    "start_time": "2022-11-16T15:47:31.482Z"
   },
   {
    "duration": 47,
    "start_time": "2022-11-16T15:47:31.493Z"
   },
   {
    "duration": 12,
    "start_time": "2022-11-16T15:47:31.542Z"
   },
   {
    "duration": 9,
    "start_time": "2022-11-16T15:48:32.497Z"
   },
   {
    "duration": 110,
    "start_time": "2022-11-16T15:48:34.800Z"
   },
   {
    "duration": 28,
    "start_time": "2022-11-16T15:48:34.912Z"
   },
   {
    "duration": 9,
    "start_time": "2022-11-16T15:48:34.941Z"
   },
   {
    "duration": 2353,
    "start_time": "2022-11-16T15:48:34.951Z"
   },
   {
    "duration": 24,
    "start_time": "2022-11-16T15:48:37.306Z"
   },
   {
    "duration": 7,
    "start_time": "2022-11-16T15:48:37.334Z"
   },
   {
    "duration": 7,
    "start_time": "2022-11-16T15:48:37.343Z"
   },
   {
    "duration": 10,
    "start_time": "2022-11-16T15:48:37.351Z"
   },
   {
    "duration": 13,
    "start_time": "2022-11-16T15:48:37.363Z"
   },
   {
    "duration": 7,
    "start_time": "2022-11-16T15:48:37.377Z"
   },
   {
    "duration": 11,
    "start_time": "2022-11-16T15:48:37.385Z"
   },
   {
    "duration": 42,
    "start_time": "2022-11-16T15:48:37.397Z"
   },
   {
    "duration": 7,
    "start_time": "2022-11-16T15:48:37.440Z"
   },
   {
    "duration": 11,
    "start_time": "2022-11-16T15:48:37.449Z"
   },
   {
    "duration": 17,
    "start_time": "2022-11-16T15:48:37.461Z"
   },
   {
    "duration": 8,
    "start_time": "2022-11-16T15:48:37.480Z"
   },
   {
    "duration": 46,
    "start_time": "2022-11-16T15:48:37.489Z"
   },
   {
    "duration": 5,
    "start_time": "2022-11-16T15:48:37.537Z"
   },
   {
    "duration": 28,
    "start_time": "2022-11-16T15:48:37.543Z"
   },
   {
    "duration": 10,
    "start_time": "2022-11-16T15:48:37.573Z"
   },
   {
    "duration": 108,
    "start_time": "2022-11-16T15:49:11.913Z"
   },
   {
    "duration": 27,
    "start_time": "2022-11-16T15:49:12.027Z"
   },
   {
    "duration": 30,
    "start_time": "2022-11-16T15:49:12.056Z"
   },
   {
    "duration": 1906,
    "start_time": "2022-11-16T15:49:12.087Z"
   },
   {
    "duration": 9,
    "start_time": "2022-11-16T15:49:13.995Z"
   },
   {
    "duration": 33,
    "start_time": "2022-11-16T15:49:14.005Z"
   },
   {
    "duration": 10,
    "start_time": "2022-11-16T15:49:14.040Z"
   },
   {
    "duration": 9,
    "start_time": "2022-11-16T15:49:14.052Z"
   },
   {
    "duration": 15,
    "start_time": "2022-11-16T15:49:14.062Z"
   },
   {
    "duration": 16,
    "start_time": "2022-11-16T15:49:14.079Z"
   },
   {
    "duration": 12,
    "start_time": "2022-11-16T15:49:14.097Z"
   },
   {
    "duration": 13,
    "start_time": "2022-11-16T15:49:14.111Z"
   },
   {
    "duration": 21,
    "start_time": "2022-11-16T15:49:14.125Z"
   },
   {
    "duration": 22,
    "start_time": "2022-11-16T15:49:14.148Z"
   },
   {
    "duration": 16,
    "start_time": "2022-11-16T15:49:14.172Z"
   },
   {
    "duration": 9,
    "start_time": "2022-11-16T15:49:14.189Z"
   },
   {
    "duration": 19,
    "start_time": "2022-11-16T15:49:14.200Z"
   },
   {
    "duration": 31,
    "start_time": "2022-11-16T15:49:14.220Z"
   },
   {
    "duration": 42,
    "start_time": "2022-11-16T15:49:14.253Z"
   },
   {
    "duration": 13,
    "start_time": "2022-11-16T15:49:14.297Z"
   },
   {
    "duration": 112,
    "start_time": "2022-11-16T15:50:49.899Z"
   },
   {
    "duration": 38,
    "start_time": "2022-11-16T15:50:50.013Z"
   },
   {
    "duration": 5,
    "start_time": "2022-11-16T15:50:50.053Z"
   },
   {
    "duration": 1954,
    "start_time": "2022-11-16T15:50:50.061Z"
   },
   {
    "duration": 19,
    "start_time": "2022-11-16T15:50:52.016Z"
   },
   {
    "duration": 14,
    "start_time": "2022-11-16T15:50:52.037Z"
   },
   {
    "duration": 10,
    "start_time": "2022-11-16T15:50:52.052Z"
   },
   {
    "duration": 10,
    "start_time": "2022-11-16T15:50:52.063Z"
   },
   {
    "duration": 5,
    "start_time": "2022-11-16T15:50:52.074Z"
   },
   {
    "duration": 9,
    "start_time": "2022-11-16T15:50:52.081Z"
   },
   {
    "duration": 10,
    "start_time": "2022-11-16T15:50:52.092Z"
   },
   {
    "duration": 32,
    "start_time": "2022-11-16T15:50:52.103Z"
   },
   {
    "duration": 11,
    "start_time": "2022-11-16T15:50:52.137Z"
   },
   {
    "duration": 11,
    "start_time": "2022-11-16T15:50:52.150Z"
   },
   {
    "duration": 13,
    "start_time": "2022-11-16T15:50:52.162Z"
   },
   {
    "duration": 8,
    "start_time": "2022-11-16T15:50:52.177Z"
   },
   {
    "duration": 46,
    "start_time": "2022-11-16T15:50:52.187Z"
   },
   {
    "duration": 8,
    "start_time": "2022-11-16T15:50:52.235Z"
   },
   {
    "duration": 28,
    "start_time": "2022-11-16T15:50:52.245Z"
   },
   {
    "duration": 21,
    "start_time": "2022-11-16T15:50:52.274Z"
   },
   {
    "duration": 127,
    "start_time": "2022-11-16T15:51:08.788Z"
   },
   {
    "duration": 31,
    "start_time": "2022-11-16T15:51:08.917Z"
   },
   {
    "duration": 13,
    "start_time": "2022-11-16T15:51:08.950Z"
   },
   {
    "duration": 1844,
    "start_time": "2022-11-16T15:51:08.965Z"
   },
   {
    "duration": 27,
    "start_time": "2022-11-16T15:51:10.811Z"
   },
   {
    "duration": 7,
    "start_time": "2022-11-16T15:51:10.840Z"
   },
   {
    "duration": 10,
    "start_time": "2022-11-16T15:51:10.849Z"
   },
   {
    "duration": 10,
    "start_time": "2022-11-16T15:51:10.860Z"
   },
   {
    "duration": 6,
    "start_time": "2022-11-16T15:51:10.872Z"
   },
   {
    "duration": 6,
    "start_time": "2022-11-16T15:51:10.881Z"
   },
   {
    "duration": 42,
    "start_time": "2022-11-16T15:51:10.888Z"
   },
   {
    "duration": 12,
    "start_time": "2022-11-16T15:51:10.937Z"
   },
   {
    "duration": 6,
    "start_time": "2022-11-16T15:51:10.950Z"
   },
   {
    "duration": 11,
    "start_time": "2022-11-16T15:51:10.958Z"
   },
   {
    "duration": 20,
    "start_time": "2022-11-16T15:51:10.971Z"
   },
   {
    "duration": 10,
    "start_time": "2022-11-16T15:51:10.992Z"
   },
   {
    "duration": 29,
    "start_time": "2022-11-16T15:51:11.022Z"
   },
   {
    "duration": 9,
    "start_time": "2022-11-16T15:51:11.053Z"
   },
   {
    "duration": 31,
    "start_time": "2022-11-16T15:51:11.063Z"
   },
   {
    "duration": 8,
    "start_time": "2022-11-16T15:51:11.096Z"
   },
   {
    "duration": 100,
    "start_time": "2022-11-16T15:51:16.955Z"
   },
   {
    "duration": 25,
    "start_time": "2022-11-16T15:51:17.057Z"
   },
   {
    "duration": 10,
    "start_time": "2022-11-16T15:51:17.084Z"
   },
   {
    "duration": 2373,
    "start_time": "2022-11-16T15:51:17.095Z"
   },
   {
    "duration": 11,
    "start_time": "2022-11-16T15:51:19.469Z"
   },
   {
    "duration": 25,
    "start_time": "2022-11-16T15:51:19.481Z"
   },
   {
    "duration": 36,
    "start_time": "2022-11-16T15:51:19.511Z"
   },
   {
    "duration": 20,
    "start_time": "2022-11-16T15:51:19.549Z"
   },
   {
    "duration": 15,
    "start_time": "2022-11-16T15:51:19.571Z"
   },
   {
    "duration": 65,
    "start_time": "2022-11-16T15:51:19.588Z"
   },
   {
    "duration": 26,
    "start_time": "2022-11-16T15:51:19.656Z"
   },
   {
    "duration": 25,
    "start_time": "2022-11-16T15:51:19.684Z"
   },
   {
    "duration": 19,
    "start_time": "2022-11-16T15:51:19.710Z"
   },
   {
    "duration": 33,
    "start_time": "2022-11-16T15:51:19.732Z"
   },
   {
    "duration": 32,
    "start_time": "2022-11-16T15:51:19.767Z"
   },
   {
    "duration": 15,
    "start_time": "2022-11-16T15:51:19.801Z"
   },
   {
    "duration": 54,
    "start_time": "2022-11-16T15:51:19.818Z"
   },
   {
    "duration": 7,
    "start_time": "2022-11-16T15:51:19.874Z"
   },
   {
    "duration": 58,
    "start_time": "2022-11-16T15:51:19.883Z"
   },
   {
    "duration": 28,
    "start_time": "2022-11-16T15:51:19.943Z"
   },
   {
    "duration": 98,
    "start_time": "2022-11-16T15:52:33.661Z"
   },
   {
    "duration": 26,
    "start_time": "2022-11-16T15:52:33.761Z"
   },
   {
    "duration": 5,
    "start_time": "2022-11-16T15:52:33.789Z"
   },
   {
    "duration": 1888,
    "start_time": "2022-11-16T15:52:33.796Z"
   },
   {
    "duration": 9,
    "start_time": "2022-11-16T15:52:35.685Z"
   },
   {
    "duration": 17,
    "start_time": "2022-11-16T15:52:35.696Z"
   },
   {
    "duration": 28,
    "start_time": "2022-11-16T15:52:35.714Z"
   },
   {
    "duration": 9,
    "start_time": "2022-11-16T15:52:35.744Z"
   },
   {
    "duration": 6,
    "start_time": "2022-11-16T15:52:35.755Z"
   },
   {
    "duration": 4,
    "start_time": "2022-11-16T15:52:35.764Z"
   },
   {
    "duration": 9,
    "start_time": "2022-11-16T15:52:35.770Z"
   },
   {
    "duration": 9,
    "start_time": "2022-11-16T15:52:35.781Z"
   },
   {
    "duration": 6,
    "start_time": "2022-11-16T15:52:35.791Z"
   },
   {
    "duration": 34,
    "start_time": "2022-11-16T15:52:35.798Z"
   },
   {
    "duration": 15,
    "start_time": "2022-11-16T15:52:35.837Z"
   },
   {
    "duration": 16,
    "start_time": "2022-11-16T15:52:35.853Z"
   },
   {
    "duration": 19,
    "start_time": "2022-11-16T15:52:35.870Z"
   },
   {
    "duration": 6,
    "start_time": "2022-11-16T15:52:35.891Z"
   },
   {
    "duration": 36,
    "start_time": "2022-11-16T15:52:35.898Z"
   },
   {
    "duration": 10,
    "start_time": "2022-11-16T15:52:35.936Z"
   },
   {
    "duration": 11,
    "start_time": "2022-11-16T15:53:56.384Z"
   },
   {
    "duration": 23,
    "start_time": "2022-11-16T15:54:03.246Z"
   },
   {
    "duration": 6,
    "start_time": "2022-11-16T15:54:19.383Z"
   },
   {
    "duration": 6,
    "start_time": "2022-11-16T15:54:27.978Z"
   },
   {
    "duration": 5,
    "start_time": "2022-11-16T15:54:33.383Z"
   },
   {
    "duration": 4,
    "start_time": "2022-11-16T15:54:45.184Z"
   },
   {
    "duration": 12,
    "start_time": "2022-11-16T15:54:48.163Z"
   },
   {
    "duration": 3,
    "start_time": "2022-11-16T15:54:49.884Z"
   },
   {
    "duration": 99,
    "start_time": "2022-11-16T15:54:52.096Z"
   },
   {
    "duration": 43,
    "start_time": "2022-11-16T15:54:52.198Z"
   },
   {
    "duration": 8,
    "start_time": "2022-11-16T15:54:52.243Z"
   },
   {
    "duration": 1954,
    "start_time": "2022-11-16T15:54:52.252Z"
   },
   {
    "duration": 27,
    "start_time": "2022-11-16T15:54:54.208Z"
   },
   {
    "duration": 13,
    "start_time": "2022-11-16T15:54:54.239Z"
   },
   {
    "duration": 8,
    "start_time": "2022-11-16T15:54:54.254Z"
   },
   {
    "duration": 11,
    "start_time": "2022-11-16T15:54:54.264Z"
   },
   {
    "duration": 7,
    "start_time": "2022-11-16T15:54:54.277Z"
   },
   {
    "duration": 12,
    "start_time": "2022-11-16T15:54:54.286Z"
   },
   {
    "duration": 30,
    "start_time": "2022-11-16T15:54:54.300Z"
   },
   {
    "duration": 14,
    "start_time": "2022-11-16T15:54:54.332Z"
   },
   {
    "duration": 16,
    "start_time": "2022-11-16T15:54:54.348Z"
   },
   {
    "duration": 14,
    "start_time": "2022-11-16T15:54:54.367Z"
   },
   {
    "duration": 23,
    "start_time": "2022-11-16T15:54:54.382Z"
   },
   {
    "duration": 14,
    "start_time": "2022-11-16T15:54:54.407Z"
   },
   {
    "duration": 23,
    "start_time": "2022-11-16T15:54:54.423Z"
   },
   {
    "duration": 9,
    "start_time": "2022-11-16T15:54:54.448Z"
   },
   {
    "duration": 4,
    "start_time": "2022-11-16T15:55:02.591Z"
   },
   {
    "duration": 11,
    "start_time": "2022-11-16T15:55:09.191Z"
   },
   {
    "duration": 7,
    "start_time": "2022-11-16T15:55:16.235Z"
   },
   {
    "duration": 6,
    "start_time": "2022-11-16T15:55:25.136Z"
   },
   {
    "duration": 9,
    "start_time": "2022-11-16T15:55:38.321Z"
   },
   {
    "duration": 15,
    "start_time": "2022-11-16T15:55:49.312Z"
   },
   {
    "duration": 13,
    "start_time": "2022-11-16T15:57:58.355Z"
   },
   {
    "duration": 5,
    "start_time": "2022-11-16T15:58:05.885Z"
   },
   {
    "duration": 4,
    "start_time": "2022-11-16T15:58:13.282Z"
   },
   {
    "duration": 4,
    "start_time": "2022-11-16T15:58:19.413Z"
   },
   {
    "duration": 5,
    "start_time": "2022-11-16T15:58:22.429Z"
   },
   {
    "duration": 829,
    "start_time": "2022-11-16T15:58:25.724Z"
   },
   {
    "duration": 823,
    "start_time": "2022-11-16T15:58:29.837Z"
   },
   {
    "duration": 3,
    "start_time": "2022-11-16T15:58:33.156Z"
   },
   {
    "duration": 12,
    "start_time": "2022-11-16T15:59:02.555Z"
   },
   {
    "duration": 3,
    "start_time": "2022-11-16T15:59:10.940Z"
   },
   {
    "duration": 4,
    "start_time": "2022-11-16T15:59:16.156Z"
   },
   {
    "duration": 46,
    "start_time": "2022-11-16T15:59:20.775Z"
   },
   {
    "duration": 4,
    "start_time": "2022-11-16T15:59:23.847Z"
   },
   {
    "duration": 4,
    "start_time": "2022-11-16T15:59:27.791Z"
   },
   {
    "duration": 10,
    "start_time": "2022-11-16T15:59:34.748Z"
   },
   {
    "duration": 4,
    "start_time": "2022-11-16T15:59:37.436Z"
   },
   {
    "duration": 4,
    "start_time": "2022-11-16T15:59:45.137Z"
   },
   {
    "duration": 5,
    "start_time": "2022-11-16T15:59:48.238Z"
   },
   {
    "duration": 7,
    "start_time": "2022-11-16T16:00:00.653Z"
   },
   {
    "duration": 6,
    "start_time": "2022-11-16T16:00:16.079Z"
   },
   {
    "duration": 7,
    "start_time": "2022-11-16T16:00:37.783Z"
   },
   {
    "duration": 8,
    "start_time": "2022-11-16T16:00:41.783Z"
   },
   {
    "duration": 5,
    "start_time": "2022-11-16T16:01:02.634Z"
   },
   {
    "duration": 10,
    "start_time": "2022-11-16T16:17:44.639Z"
   },
   {
    "duration": 31,
    "start_time": "2022-11-16T16:17:48.782Z"
   },
   {
    "duration": 116,
    "start_time": "2022-11-16T16:22:31.382Z"
   },
   {
    "duration": 42,
    "start_time": "2022-11-16T16:22:31.500Z"
   },
   {
    "duration": 35,
    "start_time": "2022-11-16T16:22:31.543Z"
   },
   {
    "duration": 2069,
    "start_time": "2022-11-16T16:22:31.580Z"
   },
   {
    "duration": 9,
    "start_time": "2022-11-16T16:22:33.655Z"
   },
   {
    "duration": 9,
    "start_time": "2022-11-16T16:22:33.666Z"
   },
   {
    "duration": 14,
    "start_time": "2022-11-16T16:22:33.676Z"
   },
   {
    "duration": 9,
    "start_time": "2022-11-16T16:22:33.692Z"
   },
   {
    "duration": 24,
    "start_time": "2022-11-16T16:22:33.702Z"
   },
   {
    "duration": 33,
    "start_time": "2022-11-16T16:22:33.727Z"
   },
   {
    "duration": 12,
    "start_time": "2022-11-16T16:22:33.762Z"
   },
   {
    "duration": 8,
    "start_time": "2022-11-16T16:22:33.776Z"
   },
   {
    "duration": 9,
    "start_time": "2022-11-16T16:22:33.786Z"
   },
   {
    "duration": 21,
    "start_time": "2022-11-16T16:22:33.797Z"
   },
   {
    "duration": 55,
    "start_time": "2022-11-16T16:22:33.820Z"
   },
   {
    "duration": 11,
    "start_time": "2022-11-16T16:22:33.877Z"
   },
   {
    "duration": 21,
    "start_time": "2022-11-16T16:22:33.889Z"
   },
   {
    "duration": 8,
    "start_time": "2022-11-16T16:22:33.911Z"
   },
   {
    "duration": 48,
    "start_time": "2022-11-16T16:22:33.923Z"
   },
   {
    "duration": 11,
    "start_time": "2022-11-16T16:22:33.972Z"
   },
   {
    "duration": 10,
    "start_time": "2022-11-16T16:22:33.985Z"
   },
   {
    "duration": 55,
    "start_time": "2022-11-16T16:22:33.997Z"
   },
   {
    "duration": 6,
    "start_time": "2022-11-16T16:26:04.687Z"
   },
   {
    "duration": 9,
    "start_time": "2022-11-16T16:26:14.722Z"
   },
   {
    "duration": 7,
    "start_time": "2022-11-16T16:26:26.472Z"
   },
   {
    "duration": 9,
    "start_time": "2022-11-16T16:26:35.683Z"
   },
   {
    "duration": 6,
    "start_time": "2022-11-16T16:26:50.290Z"
   },
   {
    "duration": 8,
    "start_time": "2022-11-16T16:27:00.403Z"
   },
   {
    "duration": 7,
    "start_time": "2022-11-16T16:27:10.299Z"
   },
   {
    "duration": 22,
    "start_time": "2022-11-16T16:27:21.010Z"
   },
   {
    "duration": 10,
    "start_time": "2022-11-16T16:27:26.231Z"
   },
   {
    "duration": 14,
    "start_time": "2022-11-16T16:27:31.220Z"
   },
   {
    "duration": 10,
    "start_time": "2022-11-16T16:27:51.532Z"
   },
   {
    "duration": 7,
    "start_time": "2022-11-16T16:28:01.746Z"
   },
   {
    "duration": 17,
    "start_time": "2022-11-16T16:28:08.115Z"
   },
   {
    "duration": 5,
    "start_time": "2022-11-16T16:28:13.395Z"
   },
   {
    "duration": 5,
    "start_time": "2022-11-16T16:28:20.075Z"
   },
   {
    "duration": 6,
    "start_time": "2022-11-16T16:29:00.422Z"
   },
   {
    "duration": 5,
    "start_time": "2022-11-16T16:29:06.453Z"
   },
   {
    "duration": 5,
    "start_time": "2022-11-16T16:29:10.404Z"
   },
   {
    "duration": 4,
    "start_time": "2022-11-16T16:29:13.516Z"
   },
   {
    "duration": 9,
    "start_time": "2022-11-16T16:29:20.301Z"
   },
   {
    "duration": 25,
    "start_time": "2022-11-16T16:29:24.607Z"
   },
   {
    "duration": 5,
    "start_time": "2022-11-16T16:29:28.271Z"
   },
   {
    "duration": 5,
    "start_time": "2022-11-16T16:29:31.495Z"
   },
   {
    "duration": 6,
    "start_time": "2022-11-16T16:29:35.654Z"
   },
   {
    "duration": 12,
    "start_time": "2022-11-16T16:29:39.220Z"
   },
   {
    "duration": 5,
    "start_time": "2022-11-16T16:30:32.894Z"
   },
   {
    "duration": 5,
    "start_time": "2022-11-16T16:30:38.672Z"
   },
   {
    "duration": 4,
    "start_time": "2022-11-16T16:30:53.006Z"
   },
   {
    "duration": 5,
    "start_time": "2022-11-16T16:30:57.635Z"
   },
   {
    "duration": 31,
    "start_time": "2022-11-16T17:55:18.914Z"
   },
   {
    "duration": 7,
    "start_time": "2022-11-16T18:07:06.639Z"
   },
   {
    "duration": 28,
    "start_time": "2022-11-16T18:07:26.113Z"
   },
   {
    "duration": 5,
    "start_time": "2022-11-16T18:07:35.609Z"
   },
   {
    "duration": 7,
    "start_time": "2022-11-16T18:07:39.402Z"
   },
   {
    "duration": 6,
    "start_time": "2022-11-16T18:07:59.260Z"
   },
   {
    "duration": 8,
    "start_time": "2022-11-16T18:08:25.298Z"
   },
   {
    "duration": 6,
    "start_time": "2022-11-16T18:08:29.188Z"
   },
   {
    "duration": 25,
    "start_time": "2022-11-16T18:08:51.985Z"
   },
   {
    "duration": 5,
    "start_time": "2022-11-16T18:08:57.692Z"
   },
   {
    "duration": 7,
    "start_time": "2022-11-16T18:09:03.579Z"
   },
   {
    "duration": 338,
    "start_time": "2022-11-16T18:12:18.224Z"
   },
   {
    "duration": 6,
    "start_time": "2022-11-16T18:13:49.889Z"
   },
   {
    "duration": 25,
    "start_time": "2022-11-16T18:13:51.893Z"
   },
   {
    "duration": 11,
    "start_time": "2022-11-16T18:15:32.338Z"
   },
   {
    "duration": 12,
    "start_time": "2022-11-16T18:17:10.876Z"
   },
   {
    "duration": 13,
    "start_time": "2022-11-16T18:17:50.374Z"
   },
   {
    "duration": 11,
    "start_time": "2022-11-16T18:18:03.253Z"
   },
   {
    "duration": 10,
    "start_time": "2022-11-16T18:18:06.268Z"
   },
   {
    "duration": 11,
    "start_time": "2022-11-16T18:18:08.244Z"
   },
   {
    "duration": 13,
    "start_time": "2022-11-16T18:18:20.309Z"
   },
   {
    "duration": 3,
    "start_time": "2022-11-16T18:18:24.246Z"
   },
   {
    "duration": 10,
    "start_time": "2022-11-16T18:18:46.158Z"
   },
   {
    "duration": 12,
    "start_time": "2022-11-16T18:18:50.005Z"
   },
   {
    "duration": 12,
    "start_time": "2022-11-16T18:19:25.414Z"
   },
   {
    "duration": 10,
    "start_time": "2022-11-16T18:20:16.393Z"
   },
   {
    "duration": 55,
    "start_time": "2022-11-16T18:20:30.191Z"
   },
   {
    "duration": 7,
    "start_time": "2022-11-16T18:20:40.308Z"
   },
   {
    "duration": 14,
    "start_time": "2022-11-16T18:20:44.462Z"
   },
   {
    "duration": 25,
    "start_time": "2022-11-16T18:20:45.845Z"
   },
   {
    "duration": 100,
    "start_time": "2022-11-16T18:21:08.019Z"
   },
   {
    "duration": 23,
    "start_time": "2022-11-16T18:21:08.121Z"
   },
   {
    "duration": 10,
    "start_time": "2022-11-16T18:21:08.145Z"
   },
   {
    "duration": 1711,
    "start_time": "2022-11-16T18:21:08.156Z"
   },
   {
    "duration": 8,
    "start_time": "2022-11-16T18:21:09.869Z"
   },
   {
    "duration": 6,
    "start_time": "2022-11-16T18:21:09.879Z"
   },
   {
    "duration": 10,
    "start_time": "2022-11-16T18:21:09.886Z"
   },
   {
    "duration": 24,
    "start_time": "2022-11-16T18:21:09.897Z"
   },
   {
    "duration": 5,
    "start_time": "2022-11-16T18:21:09.922Z"
   },
   {
    "duration": 34,
    "start_time": "2022-11-16T18:21:09.928Z"
   },
   {
    "duration": 12,
    "start_time": "2022-11-16T18:21:09.963Z"
   },
   {
    "duration": 8,
    "start_time": "2022-11-16T18:21:09.976Z"
   },
   {
    "duration": 6,
    "start_time": "2022-11-16T18:21:09.985Z"
   },
   {
    "duration": 9,
    "start_time": "2022-11-16T18:21:09.994Z"
   },
   {
    "duration": 16,
    "start_time": "2022-11-16T18:21:10.005Z"
   },
   {
    "duration": 10,
    "start_time": "2022-11-16T18:21:10.023Z"
   },
   {
    "duration": 18,
    "start_time": "2022-11-16T18:21:10.034Z"
   },
   {
    "duration": 7,
    "start_time": "2022-11-16T18:21:10.053Z"
   },
   {
    "duration": 8,
    "start_time": "2022-11-16T18:21:10.061Z"
   },
   {
    "duration": 8,
    "start_time": "2022-11-16T18:21:10.071Z"
   },
   {
    "duration": 9,
    "start_time": "2022-11-16T18:21:10.080Z"
   },
   {
    "duration": 46,
    "start_time": "2022-11-16T18:21:10.091Z"
   },
   {
    "duration": 6,
    "start_time": "2022-11-16T18:21:10.138Z"
   },
   {
    "duration": 9,
    "start_time": "2022-11-16T18:21:10.145Z"
   },
   {
    "duration": 25,
    "start_time": "2022-11-16T18:21:10.155Z"
   },
   {
    "duration": 36,
    "start_time": "2022-11-16T18:21:32.049Z"
   },
   {
    "duration": 5,
    "start_time": "2022-11-16T18:22:07.569Z"
   },
   {
    "duration": 25,
    "start_time": "2022-11-16T18:22:09.705Z"
   },
   {
    "duration": 11,
    "start_time": "2022-11-16T18:22:29.893Z"
   },
   {
    "duration": 6,
    "start_time": "2022-11-16T18:22:33.953Z"
   },
   {
    "duration": 25,
    "start_time": "2022-11-16T18:22:35.897Z"
   },
   {
    "duration": 5,
    "start_time": "2022-11-16T18:22:53.537Z"
   },
   {
    "duration": 27,
    "start_time": "2022-11-16T18:22:54.893Z"
   },
   {
    "duration": 5,
    "start_time": "2022-11-16T18:23:00.500Z"
   },
   {
    "duration": 7,
    "start_time": "2022-11-16T18:23:10.307Z"
   },
   {
    "duration": 7,
    "start_time": "2022-11-16T18:23:57.244Z"
   },
   {
    "duration": 7,
    "start_time": "2022-11-16T18:23:58.507Z"
   },
   {
    "duration": 25,
    "start_time": "2022-11-16T18:24:00.310Z"
   },
   {
    "duration": 102,
    "start_time": "2022-11-16T18:24:04.235Z"
   },
   {
    "duration": 39,
    "start_time": "2022-11-16T18:24:04.339Z"
   },
   {
    "duration": 5,
    "start_time": "2022-11-16T18:24:04.380Z"
   },
   {
    "duration": 2327,
    "start_time": "2022-11-16T18:24:04.387Z"
   },
   {
    "duration": 8,
    "start_time": "2022-11-16T18:24:06.720Z"
   },
   {
    "duration": 8,
    "start_time": "2022-11-16T18:24:06.730Z"
   },
   {
    "duration": 9,
    "start_time": "2022-11-16T18:24:06.739Z"
   },
   {
    "duration": 9,
    "start_time": "2022-11-16T18:24:06.749Z"
   },
   {
    "duration": 7,
    "start_time": "2022-11-16T18:24:06.760Z"
   },
   {
    "duration": 5,
    "start_time": "2022-11-16T18:24:06.769Z"
   },
   {
    "duration": 8,
    "start_time": "2022-11-16T18:24:06.775Z"
   },
   {
    "duration": 37,
    "start_time": "2022-11-16T18:24:06.785Z"
   },
   {
    "duration": 6,
    "start_time": "2022-11-16T18:24:06.824Z"
   },
   {
    "duration": 17,
    "start_time": "2022-11-16T18:24:06.832Z"
   },
   {
    "duration": 18,
    "start_time": "2022-11-16T18:24:06.851Z"
   },
   {
    "duration": 13,
    "start_time": "2022-11-16T18:24:06.871Z"
   },
   {
    "duration": 16,
    "start_time": "2022-11-16T18:24:06.885Z"
   },
   {
    "duration": 20,
    "start_time": "2022-11-16T18:24:06.902Z"
   },
   {
    "duration": 16,
    "start_time": "2022-11-16T18:24:06.924Z"
   },
   {
    "duration": 10,
    "start_time": "2022-11-16T18:24:06.942Z"
   },
   {
    "duration": 11,
    "start_time": "2022-11-16T18:24:06.953Z"
   },
   {
    "duration": 28,
    "start_time": "2022-11-16T18:24:06.965Z"
   },
   {
    "duration": 8,
    "start_time": "2022-11-16T18:24:06.995Z"
   },
   {
    "duration": 17,
    "start_time": "2022-11-16T18:24:07.004Z"
   },
   {
    "duration": 8,
    "start_time": "2022-11-16T18:24:07.022Z"
   },
   {
    "duration": 10,
    "start_time": "2022-11-16T18:24:07.031Z"
   },
   {
    "duration": 33,
    "start_time": "2022-11-16T18:24:07.043Z"
   },
   {
    "duration": 11,
    "start_time": "2022-11-16T18:24:20.469Z"
   },
   {
    "duration": 7,
    "start_time": "2022-11-16T18:24:21.579Z"
   },
   {
    "duration": 5,
    "start_time": "2022-11-16T18:24:22.452Z"
   },
   {
    "duration": 26,
    "start_time": "2022-11-16T18:24:23.649Z"
   },
   {
    "duration": 93,
    "start_time": "2022-11-16T18:24:27.812Z"
   },
   {
    "duration": 33,
    "start_time": "2022-11-16T18:24:27.907Z"
   },
   {
    "duration": 4,
    "start_time": "2022-11-16T18:24:27.942Z"
   },
   {
    "duration": 1748,
    "start_time": "2022-11-16T18:24:27.948Z"
   },
   {
    "duration": 11,
    "start_time": "2022-11-16T18:24:29.697Z"
   },
   {
    "duration": 16,
    "start_time": "2022-11-16T18:24:29.709Z"
   },
   {
    "duration": 6,
    "start_time": "2022-11-16T18:24:29.727Z"
   },
   {
    "duration": 10,
    "start_time": "2022-11-16T18:24:29.734Z"
   },
   {
    "duration": 4,
    "start_time": "2022-11-16T18:24:29.746Z"
   },
   {
    "duration": 5,
    "start_time": "2022-11-16T18:24:29.753Z"
   },
   {
    "duration": 8,
    "start_time": "2022-11-16T18:24:29.760Z"
   },
   {
    "duration": 8,
    "start_time": "2022-11-16T18:24:29.770Z"
   },
   {
    "duration": 47,
    "start_time": "2022-11-16T18:24:29.779Z"
   },
   {
    "duration": 14,
    "start_time": "2022-11-16T18:24:29.827Z"
   },
   {
    "duration": 13,
    "start_time": "2022-11-16T18:24:29.842Z"
   },
   {
    "duration": 11,
    "start_time": "2022-11-16T18:24:29.856Z"
   },
   {
    "duration": 16,
    "start_time": "2022-11-16T18:24:29.869Z"
   },
   {
    "duration": 4,
    "start_time": "2022-11-16T18:24:29.886Z"
   },
   {
    "duration": 30,
    "start_time": "2022-11-16T18:24:29.892Z"
   },
   {
    "duration": 6,
    "start_time": "2022-11-16T18:24:29.923Z"
   },
   {
    "duration": 10,
    "start_time": "2022-11-16T18:24:29.931Z"
   },
   {
    "duration": 25,
    "start_time": "2022-11-16T18:24:29.942Z"
   },
   {
    "duration": 7,
    "start_time": "2022-11-16T18:24:29.968Z"
   },
   {
    "duration": 6,
    "start_time": "2022-11-16T18:24:29.976Z"
   },
   {
    "duration": 39,
    "start_time": "2022-11-16T18:24:29.983Z"
   },
   {
    "duration": 6,
    "start_time": "2022-11-16T18:24:30.024Z"
   },
   {
    "duration": 26,
    "start_time": "2022-11-16T18:24:30.032Z"
   },
   {
    "duration": 11,
    "start_time": "2022-11-16T18:25:30.959Z"
   },
   {
    "duration": 9,
    "start_time": "2022-11-16T18:25:46.599Z"
   },
   {
    "duration": 8,
    "start_time": "2022-11-16T18:26:03.350Z"
   },
   {
    "duration": 6,
    "start_time": "2022-11-16T18:26:05.517Z"
   },
   {
    "duration": 27,
    "start_time": "2022-11-16T18:26:07.266Z"
   },
   {
    "duration": 7,
    "start_time": "2022-11-16T18:26:23.367Z"
   },
   {
    "duration": 25,
    "start_time": "2022-11-16T20:38:17.130Z"
   },
   {
    "duration": 18,
    "start_time": "2022-11-16T20:41:33.094Z"
   },
   {
    "duration": 13,
    "start_time": "2022-11-16T20:41:57.966Z"
   },
   {
    "duration": 23,
    "start_time": "2022-11-16T20:42:00.093Z"
   },
   {
    "duration": 4,
    "start_time": "2022-11-16T20:48:39.188Z"
   },
   {
    "duration": 25,
    "start_time": "2022-11-16T20:48:40.784Z"
   },
   {
    "duration": 5,
    "start_time": "2022-11-16T20:49:02.654Z"
   },
   {
    "duration": 24,
    "start_time": "2022-11-16T20:49:03.974Z"
   },
   {
    "duration": 4,
    "start_time": "2022-11-16T20:49:11.365Z"
   },
   {
    "duration": 27,
    "start_time": "2022-11-16T20:49:12.772Z"
   },
   {
    "duration": 24,
    "start_time": "2022-11-16T20:49:38.446Z"
   },
   {
    "duration": 8,
    "start_time": "2022-11-16T20:51:35.479Z"
   },
   {
    "duration": 728,
    "start_time": "2022-11-16T20:51:58.769Z"
   },
   {
    "duration": 6,
    "start_time": "2022-11-16T20:52:03.688Z"
   },
   {
    "duration": 24,
    "start_time": "2022-11-16T20:52:06.150Z"
   },
   {
    "duration": 32,
    "start_time": "2022-11-16T20:52:23.553Z"
   },
   {
    "duration": 660,
    "start_time": "2022-11-16T20:52:38.513Z"
   },
   {
    "duration": 6,
    "start_time": "2022-11-16T20:53:49.018Z"
   },
   {
    "duration": 6,
    "start_time": "2022-11-16T20:53:55.468Z"
   },
   {
    "duration": 4,
    "start_time": "2022-11-16T20:54:02.609Z"
   },
   {
    "duration": 6,
    "start_time": "2022-11-16T20:54:38.268Z"
   },
   {
    "duration": 26,
    "start_time": "2022-11-16T20:54:50.579Z"
   },
   {
    "duration": 5,
    "start_time": "2022-11-16T20:55:04.315Z"
   },
   {
    "duration": 4,
    "start_time": "2022-11-16T20:55:05.563Z"
   },
   {
    "duration": 4,
    "start_time": "2022-11-16T20:55:09.292Z"
   },
   {
    "duration": 5,
    "start_time": "2022-11-16T20:55:14.403Z"
   },
   {
    "duration": 4,
    "start_time": "2022-11-16T20:55:15.684Z"
   },
   {
    "duration": 6,
    "start_time": "2022-11-16T20:57:35.188Z"
   },
   {
    "duration": 4,
    "start_time": "2022-11-16T20:57:36.869Z"
   },
   {
    "duration": 106,
    "start_time": "2022-11-16T20:57:54.791Z"
   },
   {
    "duration": 44,
    "start_time": "2022-11-16T20:57:54.899Z"
   },
   {
    "duration": 4,
    "start_time": "2022-11-16T20:57:54.944Z"
   },
   {
    "duration": 1838,
    "start_time": "2022-11-16T20:57:54.950Z"
   },
   {
    "duration": 10,
    "start_time": "2022-11-16T20:57:56.789Z"
   },
   {
    "duration": 21,
    "start_time": "2022-11-16T20:57:56.800Z"
   },
   {
    "duration": 6,
    "start_time": "2022-11-16T20:57:56.822Z"
   },
   {
    "duration": 8,
    "start_time": "2022-11-16T20:57:56.829Z"
   },
   {
    "duration": 6,
    "start_time": "2022-11-16T20:57:56.839Z"
   },
   {
    "duration": 6,
    "start_time": "2022-11-16T20:57:56.848Z"
   },
   {
    "duration": 11,
    "start_time": "2022-11-16T20:57:56.856Z"
   },
   {
    "duration": 11,
    "start_time": "2022-11-16T20:57:56.869Z"
   },
   {
    "duration": 9,
    "start_time": "2022-11-16T20:57:56.882Z"
   },
   {
    "duration": 37,
    "start_time": "2022-11-16T20:57:56.893Z"
   },
   {
    "duration": 14,
    "start_time": "2022-11-16T20:57:56.932Z"
   },
   {
    "duration": 10,
    "start_time": "2022-11-16T20:57:56.948Z"
   },
   {
    "duration": 19,
    "start_time": "2022-11-16T20:57:56.959Z"
   },
   {
    "duration": 4,
    "start_time": "2022-11-16T20:57:56.979Z"
   },
   {
    "duration": 9,
    "start_time": "2022-11-16T20:57:56.985Z"
   },
   {
    "duration": 26,
    "start_time": "2022-11-16T20:57:56.996Z"
   },
   {
    "duration": 8,
    "start_time": "2022-11-16T20:57:57.023Z"
   },
   {
    "duration": 25,
    "start_time": "2022-11-16T20:57:57.033Z"
   },
   {
    "duration": 7,
    "start_time": "2022-11-16T20:57:57.059Z"
   },
   {
    "duration": 343,
    "start_time": "2022-11-16T20:57:57.068Z"
   },
   {
    "duration": 0,
    "start_time": "2022-11-16T20:57:57.413Z"
   },
   {
    "duration": 0,
    "start_time": "2022-11-16T20:57:57.414Z"
   },
   {
    "duration": 0,
    "start_time": "2022-11-16T20:57:57.415Z"
   },
   {
    "duration": 0,
    "start_time": "2022-11-16T20:57:57.417Z"
   },
   {
    "duration": 0,
    "start_time": "2022-11-16T20:57:57.418Z"
   },
   {
    "duration": 373,
    "start_time": "2022-11-16T20:59:17.243Z"
   },
   {
    "duration": 12,
    "start_time": "2022-11-16T20:59:40.095Z"
   },
   {
    "duration": 6,
    "start_time": "2022-11-16T20:59:48.728Z"
   },
   {
    "duration": 369,
    "start_time": "2022-11-16T20:59:52.219Z"
   },
   {
    "duration": 390,
    "start_time": "2022-11-16T21:00:04.984Z"
   },
   {
    "duration": 406,
    "start_time": "2022-11-16T21:00:16.748Z"
   },
   {
    "duration": 542,
    "start_time": "2022-11-16T21:00:34.260Z"
   },
   {
    "duration": 5,
    "start_time": "2022-11-16T21:01:42.359Z"
   },
   {
    "duration": 13,
    "start_time": "2022-11-16T21:01:43.891Z"
   },
   {
    "duration": 7,
    "start_time": "2022-11-16T21:01:45.737Z"
   },
   {
    "duration": 5,
    "start_time": "2022-11-16T21:01:46.378Z"
   },
   {
    "duration": 24,
    "start_time": "2022-11-16T21:01:51.156Z"
   },
   {
    "duration": 97,
    "start_time": "2022-11-16T21:01:58.091Z"
   },
   {
    "duration": 43,
    "start_time": "2022-11-16T21:01:58.189Z"
   },
   {
    "duration": 6,
    "start_time": "2022-11-16T21:01:58.234Z"
   },
   {
    "duration": 1723,
    "start_time": "2022-11-16T21:01:58.241Z"
   },
   {
    "duration": 10,
    "start_time": "2022-11-16T21:01:59.967Z"
   },
   {
    "duration": 11,
    "start_time": "2022-11-16T21:01:59.979Z"
   },
   {
    "duration": 8,
    "start_time": "2022-11-16T21:01:59.992Z"
   },
   {
    "duration": 25,
    "start_time": "2022-11-16T21:02:00.002Z"
   },
   {
    "duration": 11,
    "start_time": "2022-11-16T21:02:00.029Z"
   },
   {
    "duration": 14,
    "start_time": "2022-11-16T21:02:00.042Z"
   },
   {
    "duration": 16,
    "start_time": "2022-11-16T21:02:00.057Z"
   },
   {
    "duration": 18,
    "start_time": "2022-11-16T21:02:00.074Z"
   },
   {
    "duration": 21,
    "start_time": "2022-11-16T21:02:00.094Z"
   },
   {
    "duration": 45,
    "start_time": "2022-11-16T21:02:00.118Z"
   },
   {
    "duration": 45,
    "start_time": "2022-11-16T21:02:00.165Z"
   },
   {
    "duration": 27,
    "start_time": "2022-11-16T21:02:00.212Z"
   },
   {
    "duration": 58,
    "start_time": "2022-11-16T21:02:00.241Z"
   },
   {
    "duration": 49,
    "start_time": "2022-11-16T21:02:00.301Z"
   },
   {
    "duration": 37,
    "start_time": "2022-11-16T21:02:00.351Z"
   },
   {
    "duration": 28,
    "start_time": "2022-11-16T21:02:00.389Z"
   },
   {
    "duration": 25,
    "start_time": "2022-11-16T21:02:00.418Z"
   },
   {
    "duration": 55,
    "start_time": "2022-11-16T21:02:00.445Z"
   },
   {
    "duration": 46,
    "start_time": "2022-11-16T21:02:00.502Z"
   },
   {
    "duration": 48,
    "start_time": "2022-11-16T21:02:00.550Z"
   },
   {
    "duration": 90,
    "start_time": "2022-11-16T21:02:00.600Z"
   },
   {
    "duration": 24,
    "start_time": "2022-11-16T21:02:00.691Z"
   },
   {
    "duration": 12,
    "start_time": "2022-11-16T21:02:00.717Z"
   },
   {
    "duration": 21,
    "start_time": "2022-11-16T21:02:00.731Z"
   },
   {
    "duration": 53,
    "start_time": "2022-11-16T21:02:00.753Z"
   },
   {
    "duration": 4,
    "start_time": "2022-11-16T21:02:17.730Z"
   },
   {
    "duration": 6,
    "start_time": "2022-11-16T21:02:37.955Z"
   },
   {
    "duration": 5,
    "start_time": "2022-11-16T21:02:43.699Z"
   },
   {
    "duration": 6,
    "start_time": "2022-11-16T21:02:53.563Z"
   },
   {
    "duration": 4,
    "start_time": "2022-11-16T21:03:35.572Z"
   },
   {
    "duration": 7,
    "start_time": "2022-11-16T21:03:39.884Z"
   },
   {
    "duration": 8,
    "start_time": "2022-11-16T21:04:05.021Z"
   },
   {
    "duration": 15,
    "start_time": "2022-11-16T21:05:12.526Z"
   },
   {
    "duration": 7,
    "start_time": "2022-11-16T21:05:35.030Z"
   },
   {
    "duration": 6,
    "start_time": "2022-11-16T21:05:40.717Z"
   },
   {
    "duration": 15,
    "start_time": "2022-11-16T21:05:57.318Z"
   },
   {
    "duration": 14,
    "start_time": "2022-11-16T21:06:28.847Z"
   },
   {
    "duration": 9,
    "start_time": "2022-11-16T21:07:22.390Z"
   },
   {
    "duration": 7,
    "start_time": "2022-11-16T21:07:26.176Z"
   },
   {
    "duration": 8,
    "start_time": "2022-11-16T21:08:14.521Z"
   },
   {
    "duration": 6,
    "start_time": "2022-11-16T21:08:19.585Z"
   },
   {
    "duration": 17,
    "start_time": "2022-11-16T21:08:57.994Z"
   },
   {
    "duration": 34,
    "start_time": "2022-11-16T21:09:01.801Z"
   },
   {
    "duration": 4,
    "start_time": "2022-11-16T21:09:40.506Z"
   },
   {
    "duration": 6,
    "start_time": "2022-11-16T21:09:50.980Z"
   },
   {
    "duration": 5,
    "start_time": "2022-11-16T21:09:51.932Z"
   },
   {
    "duration": 41,
    "start_time": "2022-11-16T21:09:52.803Z"
   },
   {
    "duration": 101,
    "start_time": "2022-11-16T21:10:00.540Z"
   },
   {
    "duration": 33,
    "start_time": "2022-11-16T21:10:00.642Z"
   },
   {
    "duration": 5,
    "start_time": "2022-11-16T21:10:00.677Z"
   },
   {
    "duration": 1771,
    "start_time": "2022-11-16T21:10:00.684Z"
   },
   {
    "duration": 9,
    "start_time": "2022-11-16T21:10:02.457Z"
   },
   {
    "duration": 17,
    "start_time": "2022-11-16T21:10:02.467Z"
   },
   {
    "duration": 7,
    "start_time": "2022-11-16T21:10:02.486Z"
   },
   {
    "duration": 9,
    "start_time": "2022-11-16T21:10:02.494Z"
   },
   {
    "duration": 20,
    "start_time": "2022-11-16T21:10:02.505Z"
   },
   {
    "duration": 7,
    "start_time": "2022-11-16T21:10:02.527Z"
   },
   {
    "duration": 11,
    "start_time": "2022-11-16T21:10:02.535Z"
   },
   {
    "duration": 9,
    "start_time": "2022-11-16T21:10:02.548Z"
   },
   {
    "duration": 9,
    "start_time": "2022-11-16T21:10:02.559Z"
   },
   {
    "duration": 19,
    "start_time": "2022-11-16T21:10:02.570Z"
   },
   {
    "duration": 43,
    "start_time": "2022-11-16T21:10:02.591Z"
   },
   {
    "duration": 11,
    "start_time": "2022-11-16T21:10:02.635Z"
   },
   {
    "duration": 18,
    "start_time": "2022-11-16T21:10:02.648Z"
   },
   {
    "duration": 4,
    "start_time": "2022-11-16T21:10:02.668Z"
   },
   {
    "duration": 15,
    "start_time": "2022-11-16T21:10:02.674Z"
   },
   {
    "duration": 7,
    "start_time": "2022-11-16T21:10:02.690Z"
   },
   {
    "duration": 26,
    "start_time": "2022-11-16T21:10:02.699Z"
   },
   {
    "duration": 27,
    "start_time": "2022-11-16T21:10:02.727Z"
   },
   {
    "duration": 6,
    "start_time": "2022-11-16T21:10:02.755Z"
   },
   {
    "duration": 21,
    "start_time": "2022-11-16T21:10:02.763Z"
   },
   {
    "duration": 22,
    "start_time": "2022-11-16T21:10:02.786Z"
   },
   {
    "duration": 22,
    "start_time": "2022-11-16T21:10:02.810Z"
   },
   {
    "duration": 11,
    "start_time": "2022-11-16T21:10:02.834Z"
   },
   {
    "duration": 36,
    "start_time": "2022-11-16T21:10:02.849Z"
   },
   {
    "duration": 6,
    "start_time": "2022-11-16T21:10:02.886Z"
   },
   {
    "duration": 9,
    "start_time": "2022-11-16T21:10:02.894Z"
   },
   {
    "duration": 17,
    "start_time": "2022-11-16T21:10:02.905Z"
   },
   {
    "duration": 26,
    "start_time": "2022-11-16T21:10:02.924Z"
   },
   {
    "duration": 4,
    "start_time": "2022-11-16T21:10:44.131Z"
   },
   {
    "duration": 6,
    "start_time": "2022-11-16T21:10:50.180Z"
   },
   {
    "duration": 4,
    "start_time": "2022-11-16T21:11:09.436Z"
   },
   {
    "duration": 843,
    "start_time": "2022-11-16T21:11:17.523Z"
   },
   {
    "duration": 9,
    "start_time": "2022-11-16T21:11:21.733Z"
   },
   {
    "duration": 4,
    "start_time": "2022-11-16T21:11:24.573Z"
   },
   {
    "duration": 5,
    "start_time": "2022-11-16T21:11:33.568Z"
   },
   {
    "duration": 8,
    "start_time": "2022-11-16T21:11:49.844Z"
   },
   {
    "duration": 6,
    "start_time": "2022-11-16T21:11:54.284Z"
   },
   {
    "duration": 6,
    "start_time": "2022-11-16T21:11:59.368Z"
   },
   {
    "duration": 6,
    "start_time": "2022-11-16T21:12:01.828Z"
   },
   {
    "duration": 5,
    "start_time": "2022-11-16T21:12:04.941Z"
   },
   {
    "duration": 7,
    "start_time": "2022-11-16T21:12:08.061Z"
   },
   {
    "duration": 761,
    "start_time": "2022-11-16T21:12:42.174Z"
   },
   {
    "duration": 8,
    "start_time": "2022-11-16T21:12:46.768Z"
   },
   {
    "duration": 6,
    "start_time": "2022-11-16T21:15:41.025Z"
   },
   {
    "duration": 5,
    "start_time": "2022-11-16T21:15:42.425Z"
   },
   {
    "duration": 23,
    "start_time": "2022-11-16T21:15:52.196Z"
   },
   {
    "duration": 35,
    "start_time": "2022-11-16T21:16:19.084Z"
   },
   {
    "duration": 25,
    "start_time": "2022-11-16T21:16:35.996Z"
   },
   {
    "duration": 5,
    "start_time": "2022-11-16T21:16:55.082Z"
   },
   {
    "duration": 142,
    "start_time": "2022-11-16T21:20:05.374Z"
   },
   {
    "duration": 7,
    "start_time": "2022-11-16T21:20:23.653Z"
   },
   {
    "duration": 7,
    "start_time": "2022-11-16T21:20:31.953Z"
   },
   {
    "duration": 6,
    "start_time": "2022-11-16T21:20:40.054Z"
   },
   {
    "duration": 3,
    "start_time": "2022-11-16T21:21:05.241Z"
   },
   {
    "duration": 7,
    "start_time": "2022-11-16T21:21:09.771Z"
   },
   {
    "duration": 13,
    "start_time": "2022-11-16T21:21:31.400Z"
   },
   {
    "duration": 13,
    "start_time": "2022-11-16T21:21:33.200Z"
   },
   {
    "duration": 13,
    "start_time": "2022-11-16T21:21:41.816Z"
   },
   {
    "duration": 13,
    "start_time": "2022-11-16T21:22:07.896Z"
   },
   {
    "duration": 46,
    "start_time": "2022-11-16T21:22:21.847Z"
   },
   {
    "duration": 9,
    "start_time": "2022-11-16T21:22:24.600Z"
   },
   {
    "duration": 25,
    "start_time": "2022-11-16T21:23:18.955Z"
   },
   {
    "duration": 2222,
    "start_time": "2022-11-16T21:23:23.190Z"
   },
   {
    "duration": 3102,
    "start_time": "2022-11-16T21:23:35.372Z"
   },
   {
    "duration": 2767,
    "start_time": "2022-11-16T21:23:48.003Z"
   },
   {
    "duration": 1811,
    "start_time": "2022-11-16T21:24:03.642Z"
   },
   {
    "duration": 191,
    "start_time": "2022-11-16T21:24:20.440Z"
   },
   {
    "duration": 140,
    "start_time": "2022-11-16T21:24:30.839Z"
   },
   {
    "duration": 136,
    "start_time": "2022-11-16T21:24:34.083Z"
   },
   {
    "duration": 162,
    "start_time": "2022-11-16T21:25:11.788Z"
   },
   {
    "duration": 146,
    "start_time": "2022-11-16T21:27:41.214Z"
   },
   {
    "duration": 154,
    "start_time": "2022-11-16T21:28:07.573Z"
   },
   {
    "duration": 146,
    "start_time": "2022-11-16T21:28:26.823Z"
   },
   {
    "duration": 146,
    "start_time": "2022-11-16T21:28:42.999Z"
   },
   {
    "duration": 142,
    "start_time": "2022-11-16T21:28:48.359Z"
   },
   {
    "duration": 148,
    "start_time": "2022-11-16T21:28:55.943Z"
   },
   {
    "duration": 154,
    "start_time": "2022-11-16T21:29:32.770Z"
   },
   {
    "duration": 70,
    "start_time": "2022-11-16T21:30:05.504Z"
   },
   {
    "duration": 135,
    "start_time": "2022-11-16T21:30:10.529Z"
   },
   {
    "duration": 142,
    "start_time": "2022-11-16T21:31:01.209Z"
   },
   {
    "duration": 128,
    "start_time": "2022-11-16T21:31:06.281Z"
   },
   {
    "duration": 131,
    "start_time": "2022-11-16T21:31:29.643Z"
   },
   {
    "duration": 147,
    "start_time": "2022-11-16T21:31:34.460Z"
   },
   {
    "duration": 144,
    "start_time": "2022-11-16T21:31:39.470Z"
   },
   {
    "duration": 10,
    "start_time": "2022-11-16T21:31:43.084Z"
   },
   {
    "duration": 142,
    "start_time": "2022-11-16T21:31:46.435Z"
   },
   {
    "duration": 172,
    "start_time": "2022-11-16T21:33:13.788Z"
   },
   {
    "duration": 167,
    "start_time": "2022-11-16T21:33:17.174Z"
   },
   {
    "duration": 144,
    "start_time": "2022-11-16T21:33:53.709Z"
   },
   {
    "duration": 142,
    "start_time": "2022-11-16T21:33:59.132Z"
   },
   {
    "duration": 144,
    "start_time": "2022-11-16T21:34:02.605Z"
   },
   {
    "duration": 11,
    "start_time": "2022-11-16T21:34:38.533Z"
   },
   {
    "duration": 5,
    "start_time": "2022-11-16T21:34:43.869Z"
   },
   {
    "duration": 63,
    "start_time": "2022-11-16T21:35:20.782Z"
   },
   {
    "duration": 28,
    "start_time": "2022-11-16T21:35:34.492Z"
   },
   {
    "duration": 41,
    "start_time": "2022-11-16T21:35:38.055Z"
   },
   {
    "duration": 53,
    "start_time": "2022-11-16T21:36:08.751Z"
   },
   {
    "duration": 14,
    "start_time": "2022-11-16T21:36:11.983Z"
   },
   {
    "duration": 15,
    "start_time": "2022-11-16T21:36:20.510Z"
   },
   {
    "duration": 6,
    "start_time": "2022-11-16T21:37:43.513Z"
   },
   {
    "duration": 168,
    "start_time": "2022-11-16T21:40:13.787Z"
   },
   {
    "duration": 14,
    "start_time": "2022-11-16T21:42:13.790Z"
   },
   {
    "duration": 39,
    "start_time": "2022-11-16T21:42:18.338Z"
   },
   {
    "duration": 14,
    "start_time": "2022-11-16T21:42:28.065Z"
   },
   {
    "duration": 158,
    "start_time": "2022-11-16T21:43:13.880Z"
   },
   {
    "duration": 119,
    "start_time": "2022-11-16T21:45:17.041Z"
   },
   {
    "duration": 118,
    "start_time": "2022-11-16T21:45:21.170Z"
   },
   {
    "duration": 688,
    "start_time": "2022-11-16T21:45:46.235Z"
   },
   {
    "duration": 155,
    "start_time": "2022-11-16T21:45:51.825Z"
   },
   {
    "duration": 149,
    "start_time": "2022-11-16T21:46:51.777Z"
   },
   {
    "duration": 50,
    "start_time": "2022-11-16T21:47:07.646Z"
   },
   {
    "duration": 156,
    "start_time": "2022-11-16T21:47:14.635Z"
   },
   {
    "duration": 148,
    "start_time": "2022-11-16T21:47:18.621Z"
   },
   {
    "duration": 183,
    "start_time": "2022-11-16T21:47:21.430Z"
   },
   {
    "duration": 151,
    "start_time": "2022-11-16T21:47:25.228Z"
   },
   {
    "duration": 171,
    "start_time": "2022-11-16T21:47:34.985Z"
   },
   {
    "duration": 114,
    "start_time": "2022-11-16T21:47:56.505Z"
   },
   {
    "duration": 113,
    "start_time": "2022-11-16T21:48:00.173Z"
   },
   {
    "duration": 129,
    "start_time": "2022-11-16T21:48:03.053Z"
   },
   {
    "duration": 39,
    "start_time": "2022-11-16T21:48:18.661Z"
   },
   {
    "duration": 10,
    "start_time": "2022-11-16T21:48:22.068Z"
   },
   {
    "duration": 130,
    "start_time": "2022-11-16T21:48:25.309Z"
   },
   {
    "duration": 96,
    "start_time": "2022-11-16T21:48:36.448Z"
   },
   {
    "duration": 166,
    "start_time": "2022-11-16T21:49:02.246Z"
   },
   {
    "duration": 165,
    "start_time": "2022-11-16T21:49:05.048Z"
   },
   {
    "duration": 147,
    "start_time": "2022-11-16T21:49:08.341Z"
   },
   {
    "duration": 151,
    "start_time": "2022-11-16T21:49:10.566Z"
   },
   {
    "duration": 47,
    "start_time": "2022-11-17T07:38:21.786Z"
   },
   {
    "duration": 6,
    "start_time": "2022-11-17T07:38:24.416Z"
   },
   {
    "duration": 6,
    "start_time": "2022-11-17T07:38:30.823Z"
   },
   {
    "duration": 711,
    "start_time": "2022-11-17T07:38:34.620Z"
   },
   {
    "duration": 40,
    "start_time": "2022-11-17T07:38:35.333Z"
   },
   {
    "duration": 5,
    "start_time": "2022-11-17T07:38:35.374Z"
   },
   {
    "duration": 2265,
    "start_time": "2022-11-17T07:38:35.381Z"
   },
   {
    "duration": 9,
    "start_time": "2022-11-17T07:38:37.649Z"
   },
   {
    "duration": 31,
    "start_time": "2022-11-17T07:38:37.659Z"
   },
   {
    "duration": 42,
    "start_time": "2022-11-17T07:38:37.691Z"
   },
   {
    "duration": 48,
    "start_time": "2022-11-17T07:38:37.734Z"
   },
   {
    "duration": 8,
    "start_time": "2022-11-17T07:38:37.784Z"
   },
   {
    "duration": 33,
    "start_time": "2022-11-17T07:38:37.793Z"
   },
   {
    "duration": 32,
    "start_time": "2022-11-17T07:38:37.827Z"
   },
   {
    "duration": 36,
    "start_time": "2022-11-17T07:38:37.861Z"
   },
   {
    "duration": 35,
    "start_time": "2022-11-17T07:38:37.898Z"
   },
   {
    "duration": 19,
    "start_time": "2022-11-17T07:38:37.936Z"
   },
   {
    "duration": 33,
    "start_time": "2022-11-17T07:38:37.956Z"
   },
   {
    "duration": 16,
    "start_time": "2022-11-17T07:38:37.991Z"
   },
   {
    "duration": 56,
    "start_time": "2022-11-17T07:38:38.009Z"
   },
   {
    "duration": 24,
    "start_time": "2022-11-17T07:38:38.066Z"
   },
   {
    "duration": 25,
    "start_time": "2022-11-17T07:38:38.091Z"
   },
   {
    "duration": 26,
    "start_time": "2022-11-17T07:38:38.118Z"
   },
   {
    "duration": 39,
    "start_time": "2022-11-17T07:38:38.145Z"
   },
   {
    "duration": 33,
    "start_time": "2022-11-17T07:38:38.186Z"
   },
   {
    "duration": 29,
    "start_time": "2022-11-17T07:38:38.221Z"
   },
   {
    "duration": 27,
    "start_time": "2022-11-17T07:38:38.252Z"
   },
   {
    "duration": 31,
    "start_time": "2022-11-17T07:38:38.280Z"
   },
   {
    "duration": 30,
    "start_time": "2022-11-17T07:38:38.312Z"
   },
   {
    "duration": 25,
    "start_time": "2022-11-17T07:38:38.343Z"
   },
   {
    "duration": 32,
    "start_time": "2022-11-17T07:38:38.370Z"
   },
   {
    "duration": 38,
    "start_time": "2022-11-17T07:38:38.404Z"
   },
   {
    "duration": 17,
    "start_time": "2022-11-17T07:38:38.444Z"
   },
   {
    "duration": 159,
    "start_time": "2022-11-17T07:38:38.463Z"
   },
   {
    "duration": 180,
    "start_time": "2022-11-17T07:38:38.624Z"
   },
   {
    "duration": 168,
    "start_time": "2022-11-17T07:38:38.806Z"
   },
   {
    "duration": 45,
    "start_time": "2022-11-17T07:38:38.976Z"
   },
   {
    "duration": 0,
    "start_time": "2022-11-17T07:38:39.022Z"
   },
   {
    "duration": 7,
    "start_time": "2022-11-17T07:38:45.736Z"
   },
   {
    "duration": 162,
    "start_time": "2022-11-17T07:38:47.897Z"
   },
   {
    "duration": 7,
    "start_time": "2022-11-17T07:39:11.624Z"
   },
   {
    "duration": 6,
    "start_time": "2022-11-17T07:39:26.966Z"
   },
   {
    "duration": 2,
    "start_time": "2022-11-17T07:40:40.771Z"
   },
   {
    "duration": 170,
    "start_time": "2022-11-17T07:41:23.570Z"
   },
   {
    "duration": 295,
    "start_time": "2022-11-17T07:41:33.531Z"
   },
   {
    "duration": 266,
    "start_time": "2022-11-17T07:41:38.555Z"
   },
   {
    "duration": 6,
    "start_time": "2022-11-17T07:41:42.267Z"
   },
   {
    "duration": 162,
    "start_time": "2022-11-17T07:41:43.347Z"
   },
   {
    "duration": 3,
    "start_time": "2022-11-17T07:41:45.930Z"
   },
   {
    "duration": 137,
    "start_time": "2022-11-17T07:41:52.011Z"
   },
   {
    "duration": 183,
    "start_time": "2022-11-17T07:41:56.683Z"
   },
   {
    "duration": 160,
    "start_time": "2022-11-17T07:43:14.317Z"
   },
   {
    "duration": 171,
    "start_time": "2022-11-17T07:43:27.588Z"
   },
   {
    "duration": 6,
    "start_time": "2022-11-17T07:43:56.494Z"
   },
   {
    "duration": 209,
    "start_time": "2022-11-17T07:44:52.231Z"
   },
   {
    "duration": 0,
    "start_time": "2022-11-17T07:51:15.314Z"
   },
   {
    "duration": 0,
    "start_time": "2022-11-17T07:51:15.315Z"
   },
   {
    "duration": 0,
    "start_time": "2022-11-17T07:51:15.316Z"
   },
   {
    "duration": 0,
    "start_time": "2022-11-17T07:51:15.316Z"
   },
   {
    "duration": 0,
    "start_time": "2022-11-17T07:51:15.317Z"
   },
   {
    "duration": 0,
    "start_time": "2022-11-17T07:51:15.318Z"
   },
   {
    "duration": 0,
    "start_time": "2022-11-17T07:51:15.319Z"
   },
   {
    "duration": 0,
    "start_time": "2022-11-17T07:51:15.320Z"
   },
   {
    "duration": 0,
    "start_time": "2022-11-17T07:51:15.322Z"
   },
   {
    "duration": 0,
    "start_time": "2022-11-17T07:51:15.323Z"
   },
   {
    "duration": 0,
    "start_time": "2022-11-17T07:51:15.324Z"
   },
   {
    "duration": 0,
    "start_time": "2022-11-17T07:51:15.325Z"
   },
   {
    "duration": 0,
    "start_time": "2022-11-17T07:51:15.326Z"
   },
   {
    "duration": 0,
    "start_time": "2022-11-17T07:51:15.327Z"
   },
   {
    "duration": 0,
    "start_time": "2022-11-17T07:51:15.328Z"
   },
   {
    "duration": 0,
    "start_time": "2022-11-17T07:51:15.329Z"
   },
   {
    "duration": 0,
    "start_time": "2022-11-17T07:51:15.330Z"
   },
   {
    "duration": 1,
    "start_time": "2022-11-17T07:51:15.330Z"
   },
   {
    "duration": 0,
    "start_time": "2022-11-17T07:51:15.332Z"
   },
   {
    "duration": 0,
    "start_time": "2022-11-17T07:51:15.333Z"
   },
   {
    "duration": 1,
    "start_time": "2022-11-17T07:51:15.333Z"
   },
   {
    "duration": 0,
    "start_time": "2022-11-17T07:51:15.335Z"
   },
   {
    "duration": 0,
    "start_time": "2022-11-17T07:51:15.398Z"
   },
   {
    "duration": 0,
    "start_time": "2022-11-17T07:51:15.399Z"
   },
   {
    "duration": 0,
    "start_time": "2022-11-17T07:51:15.400Z"
   },
   {
    "duration": 0,
    "start_time": "2022-11-17T07:51:15.401Z"
   },
   {
    "duration": 0,
    "start_time": "2022-11-17T07:51:15.402Z"
   },
   {
    "duration": 0,
    "start_time": "2022-11-17T07:51:15.403Z"
   },
   {
    "duration": 0,
    "start_time": "2022-11-17T07:51:15.404Z"
   },
   {
    "duration": 0,
    "start_time": "2022-11-17T07:51:15.405Z"
   },
   {
    "duration": 0,
    "start_time": "2022-11-17T07:51:15.406Z"
   },
   {
    "duration": 0,
    "start_time": "2022-11-17T07:51:15.407Z"
   },
   {
    "duration": 0,
    "start_time": "2022-11-17T07:51:15.408Z"
   },
   {
    "duration": 0,
    "start_time": "2022-11-17T07:51:15.409Z"
   },
   {
    "duration": 0,
    "start_time": "2022-11-17T07:51:15.410Z"
   },
   {
    "duration": 0,
    "start_time": "2022-11-17T07:51:15.411Z"
   },
   {
    "duration": 0,
    "start_time": "2022-11-17T07:51:15.412Z"
   },
   {
    "duration": 96,
    "start_time": "2022-11-17T08:00:41.681Z"
   },
   {
    "duration": 43,
    "start_time": "2022-11-17T08:00:41.779Z"
   },
   {
    "duration": 4,
    "start_time": "2022-11-17T08:00:41.823Z"
   },
   {
    "duration": 1752,
    "start_time": "2022-11-17T08:00:41.829Z"
   },
   {
    "duration": 16,
    "start_time": "2022-11-17T08:00:43.583Z"
   },
   {
    "duration": 5,
    "start_time": "2022-11-17T08:00:43.601Z"
   },
   {
    "duration": 7,
    "start_time": "2022-11-17T08:00:43.607Z"
   },
   {
    "duration": 8,
    "start_time": "2022-11-17T08:00:43.615Z"
   },
   {
    "duration": 6,
    "start_time": "2022-11-17T08:00:43.625Z"
   },
   {
    "duration": 6,
    "start_time": "2022-11-17T08:00:43.633Z"
   },
   {
    "duration": 16,
    "start_time": "2022-11-17T08:00:43.640Z"
   },
   {
    "duration": 8,
    "start_time": "2022-11-17T08:00:43.658Z"
   },
   {
    "duration": 6,
    "start_time": "2022-11-17T08:00:43.697Z"
   },
   {
    "duration": 11,
    "start_time": "2022-11-17T08:00:43.704Z"
   },
   {
    "duration": 14,
    "start_time": "2022-11-17T08:00:43.716Z"
   },
   {
    "duration": 1838,
    "start_time": "2022-11-17T08:00:43.731Z"
   },
   {
    "duration": 20,
    "start_time": "2022-11-17T08:00:45.571Z"
   },
   {
    "duration": 4,
    "start_time": "2022-11-17T08:00:45.597Z"
   },
   {
    "duration": 8,
    "start_time": "2022-11-17T08:00:45.603Z"
   },
   {
    "duration": 11,
    "start_time": "2022-11-17T08:00:45.613Z"
   },
   {
    "duration": 14,
    "start_time": "2022-11-17T08:00:45.626Z"
   },
   {
    "duration": 25,
    "start_time": "2022-11-17T08:00:45.642Z"
   },
   {
    "duration": 8,
    "start_time": "2022-11-17T08:00:45.669Z"
   },
   {
    "duration": 13,
    "start_time": "2022-11-17T08:00:45.698Z"
   },
   {
    "duration": 32,
    "start_time": "2022-11-17T08:00:45.713Z"
   },
   {
    "duration": 30,
    "start_time": "2022-11-17T08:00:45.746Z"
   },
   {
    "duration": 28,
    "start_time": "2022-11-17T08:00:45.777Z"
   },
   {
    "duration": 11,
    "start_time": "2022-11-17T08:00:45.808Z"
   },
   {
    "duration": 27,
    "start_time": "2022-11-17T08:00:45.820Z"
   },
   {
    "duration": 15,
    "start_time": "2022-11-17T08:00:45.849Z"
   },
   {
    "duration": 158,
    "start_time": "2022-11-17T08:00:45.866Z"
   },
   {
    "duration": 185,
    "start_time": "2022-11-17T08:00:46.025Z"
   },
   {
    "duration": 175,
    "start_time": "2022-11-17T08:00:46.212Z"
   },
   {
    "duration": 12,
    "start_time": "2022-11-17T08:00:46.389Z"
   },
   {
    "duration": 8,
    "start_time": "2022-11-17T08:00:46.402Z"
   },
   {
    "duration": 10,
    "start_time": "2022-11-17T08:00:46.412Z"
   },
   {
    "duration": 169,
    "start_time": "2022-11-17T08:00:46.423Z"
   },
   {
    "duration": 121439,
    "start_time": "2022-11-17T08:06:23.014Z"
   },
   {
    "duration": 6,
    "start_time": "2022-11-17T08:08:24.455Z"
   },
   {
    "duration": 6,
    "start_time": "2022-11-17T08:08:31.208Z"
   },
   {
    "duration": 34,
    "start_time": "2022-11-17T08:10:37.769Z"
   },
   {
    "duration": 0,
    "start_time": "2022-11-17T08:10:37.805Z"
   },
   {
    "duration": 176,
    "start_time": "2022-11-17T08:11:17.509Z"
   },
   {
    "duration": 6,
    "start_time": "2022-11-17T08:11:21.244Z"
   },
   {
    "duration": 176,
    "start_time": "2022-11-17T08:11:38.735Z"
   },
   {
    "duration": 165,
    "start_time": "2022-11-17T08:11:47.683Z"
   },
   {
    "duration": 175,
    "start_time": "2022-11-17T08:11:49.589Z"
   },
   {
    "duration": 163,
    "start_time": "2022-11-17T08:11:53.404Z"
   },
   {
    "duration": 176,
    "start_time": "2022-11-17T08:16:45.123Z"
   },
   {
    "duration": 167,
    "start_time": "2022-11-17T08:18:12.125Z"
   },
   {
    "duration": 13,
    "start_time": "2022-11-17T08:23:04.274Z"
   },
   {
    "duration": 14,
    "start_time": "2022-11-17T08:23:39.227Z"
   },
   {
    "duration": 6,
    "start_time": "2022-11-17T08:23:47.163Z"
   },
   {
    "duration": 6,
    "start_time": "2022-11-17T08:23:52.282Z"
   },
   {
    "duration": 12,
    "start_time": "2022-11-17T08:23:57.674Z"
   },
   {
    "duration": 116,
    "start_time": "2022-11-17T08:24:05.257Z"
   },
   {
    "duration": 150,
    "start_time": "2022-11-17T08:25:43.227Z"
   },
   {
    "duration": 967,
    "start_time": "2022-11-17T08:27:38.861Z"
   },
   {
    "duration": 177,
    "start_time": "2022-11-17T08:27:58.400Z"
   },
   {
    "duration": 169,
    "start_time": "2022-11-17T08:28:07.542Z"
   },
   {
    "duration": 194,
    "start_time": "2022-11-17T08:30:00.705Z"
   },
   {
    "duration": 178,
    "start_time": "2022-11-17T08:30:53.409Z"
   },
   {
    "duration": 193,
    "start_time": "2022-11-17T08:36:49.927Z"
   },
   {
    "duration": 204,
    "start_time": "2022-11-17T08:45:59.108Z"
   },
   {
    "duration": 857,
    "start_time": "2022-11-17T08:48:53.726Z"
   },
   {
    "duration": 19,
    "start_time": "2022-11-17T08:49:09.470Z"
   },
   {
    "duration": 163,
    "start_time": "2022-11-17T08:49:23.928Z"
   },
   {
    "duration": 221,
    "start_time": "2022-11-17T08:49:40.534Z"
   },
   {
    "duration": 165,
    "start_time": "2022-11-17T08:49:50.423Z"
   },
   {
    "duration": 177,
    "start_time": "2022-11-17T08:50:05.622Z"
   },
   {
    "duration": 184,
    "start_time": "2022-11-17T08:50:10.895Z"
   },
   {
    "duration": 219,
    "start_time": "2022-11-17T08:54:21.420Z"
   },
   {
    "duration": 180,
    "start_time": "2022-11-17T09:04:19.815Z"
   },
   {
    "duration": 3,
    "start_time": "2022-11-17T09:11:07.661Z"
   },
   {
    "duration": 6,
    "start_time": "2022-11-17T09:11:10.093Z"
   },
   {
    "duration": 50,
    "start_time": "2022-11-17T09:12:10.167Z"
   },
   {
    "duration": 4,
    "start_time": "2022-11-17T09:12:56.085Z"
   },
   {
    "duration": 6,
    "start_time": "2022-11-17T09:13:26.912Z"
   },
   {
    "duration": 7,
    "start_time": "2022-11-17T09:22:32.130Z"
   },
   {
    "duration": 28,
    "start_time": "2022-11-17T11:01:29.694Z"
   },
   {
    "duration": 13,
    "start_time": "2022-11-17T11:02:32.261Z"
   },
   {
    "duration": 8,
    "start_time": "2022-11-17T11:02:49.862Z"
   },
   {
    "duration": 45,
    "start_time": "2022-11-17T11:03:03.950Z"
   },
   {
    "duration": 6,
    "start_time": "2022-11-17T11:03:07.190Z"
   },
   {
    "duration": 800,
    "start_time": "2022-11-17T11:03:09.961Z"
   },
   {
    "duration": 36,
    "start_time": "2022-11-17T11:03:10.763Z"
   },
   {
    "duration": 4,
    "start_time": "2022-11-17T11:03:10.801Z"
   },
   {
    "duration": 1983,
    "start_time": "2022-11-17T11:03:10.807Z"
   },
   {
    "duration": 9,
    "start_time": "2022-11-17T11:03:12.792Z"
   },
   {
    "duration": 7,
    "start_time": "2022-11-17T11:03:12.802Z"
   },
   {
    "duration": 8,
    "start_time": "2022-11-17T11:03:12.811Z"
   },
   {
    "duration": 17,
    "start_time": "2022-11-17T11:03:12.820Z"
   },
   {
    "duration": 4,
    "start_time": "2022-11-17T11:03:12.838Z"
   },
   {
    "duration": 5,
    "start_time": "2022-11-17T11:03:12.845Z"
   },
   {
    "duration": 27,
    "start_time": "2022-11-17T11:03:12.851Z"
   },
   {
    "duration": 20,
    "start_time": "2022-11-17T11:03:12.879Z"
   },
   {
    "duration": 6,
    "start_time": "2022-11-17T11:03:12.901Z"
   },
   {
    "duration": 11,
    "start_time": "2022-11-17T11:03:12.908Z"
   },
   {
    "duration": 13,
    "start_time": "2022-11-17T11:03:12.920Z"
   },
   {
    "duration": 9,
    "start_time": "2022-11-17T11:03:12.934Z"
   },
   {
    "duration": 16,
    "start_time": "2022-11-17T11:03:12.945Z"
   },
   {
    "duration": 4,
    "start_time": "2022-11-17T11:03:12.963Z"
   },
   {
    "duration": 36,
    "start_time": "2022-11-17T11:03:12.968Z"
   },
   {
    "duration": 10,
    "start_time": "2022-11-17T11:03:13.006Z"
   },
   {
    "duration": 11,
    "start_time": "2022-11-17T11:03:13.017Z"
   },
   {
    "duration": 25,
    "start_time": "2022-11-17T11:03:13.030Z"
   },
   {
    "duration": 6,
    "start_time": "2022-11-17T11:03:13.056Z"
   },
   {
    "duration": 13,
    "start_time": "2022-11-17T11:03:13.064Z"
   },
   {
    "duration": 27,
    "start_time": "2022-11-17T11:03:13.079Z"
   },
   {
    "duration": 5,
    "start_time": "2022-11-17T11:03:13.107Z"
   },
   {
    "duration": 7,
    "start_time": "2022-11-17T11:03:13.114Z"
   },
   {
    "duration": 4,
    "start_time": "2022-11-17T11:03:13.125Z"
   },
   {
    "duration": 25,
    "start_time": "2022-11-17T11:03:13.131Z"
   },
   {
    "duration": 15,
    "start_time": "2022-11-17T11:03:13.158Z"
   },
   {
    "duration": 172,
    "start_time": "2022-11-17T11:03:13.174Z"
   },
   {
    "duration": 173,
    "start_time": "2022-11-17T11:03:13.347Z"
   },
   {
    "duration": 176,
    "start_time": "2022-11-17T11:03:13.521Z"
   },
   {
    "duration": 7,
    "start_time": "2022-11-17T11:03:13.698Z"
   },
   {
    "duration": 7,
    "start_time": "2022-11-17T11:03:13.707Z"
   },
   {
    "duration": 21,
    "start_time": "2022-11-17T11:03:13.715Z"
   },
   {
    "duration": 168,
    "start_time": "2022-11-17T11:03:13.737Z"
   },
   {
    "duration": 189,
    "start_time": "2022-11-17T11:03:13.906Z"
   },
   {
    "duration": 173,
    "start_time": "2022-11-17T11:03:14.096Z"
   },
   {
    "duration": 217,
    "start_time": "2022-11-17T11:03:14.270Z"
   },
   {
    "duration": 163,
    "start_time": "2022-11-17T11:03:14.488Z"
   },
   {
    "duration": 187,
    "start_time": "2022-11-17T11:03:14.653Z"
   },
   {
    "duration": 213,
    "start_time": "2022-11-17T11:03:14.842Z"
   },
   {
    "duration": 177,
    "start_time": "2022-11-17T11:03:15.057Z"
   },
   {
    "duration": 177,
    "start_time": "2022-11-17T11:03:15.237Z"
   },
   {
    "duration": 207,
    "start_time": "2022-11-17T11:03:15.415Z"
   },
   {
    "duration": 187,
    "start_time": "2022-11-17T11:03:15.623Z"
   },
   {
    "duration": 5,
    "start_time": "2022-11-17T11:03:15.811Z"
   },
   {
    "duration": 40,
    "start_time": "2022-11-17T11:03:15.818Z"
   },
   {
    "duration": 14,
    "start_time": "2022-11-17T11:03:15.859Z"
   },
   {
    "duration": 57,
    "start_time": "2022-11-17T11:03:33.519Z"
   },
   {
    "duration": 6,
    "start_time": "2022-11-17T11:03:45.262Z"
   },
   {
    "duration": 5,
    "start_time": "2022-11-17T11:03:47.831Z"
   },
   {
    "duration": 6,
    "start_time": "2022-11-17T11:03:57.200Z"
   },
   {
    "duration": 7,
    "start_time": "2022-11-17T11:04:01.655Z"
   },
   {
    "duration": 5,
    "start_time": "2022-11-17T11:04:06.896Z"
   },
   {
    "duration": 7,
    "start_time": "2022-11-17T11:04:12.014Z"
   },
   {
    "duration": 6,
    "start_time": "2022-11-17T11:04:18.751Z"
   },
   {
    "duration": 702,
    "start_time": "2022-11-17T11:04:21.137Z"
   },
   {
    "duration": 39,
    "start_time": "2022-11-17T11:04:21.841Z"
   },
   {
    "duration": 5,
    "start_time": "2022-11-17T11:04:21.881Z"
   },
   {
    "duration": 1930,
    "start_time": "2022-11-17T11:04:21.888Z"
   },
   {
    "duration": 10,
    "start_time": "2022-11-17T11:04:23.820Z"
   },
   {
    "duration": 7,
    "start_time": "2022-11-17T11:04:23.832Z"
   },
   {
    "duration": 15,
    "start_time": "2022-11-17T11:04:23.840Z"
   },
   {
    "duration": 20,
    "start_time": "2022-11-17T11:04:23.857Z"
   },
   {
    "duration": 14,
    "start_time": "2022-11-17T11:04:23.878Z"
   },
   {
    "duration": 16,
    "start_time": "2022-11-17T11:04:23.894Z"
   },
   {
    "duration": 25,
    "start_time": "2022-11-17T11:04:23.911Z"
   },
   {
    "duration": 21,
    "start_time": "2022-11-17T11:04:23.938Z"
   },
   {
    "duration": 27,
    "start_time": "2022-11-17T11:04:23.961Z"
   },
   {
    "duration": 31,
    "start_time": "2022-11-17T11:04:23.989Z"
   },
   {
    "duration": 21,
    "start_time": "2022-11-17T11:04:24.021Z"
   },
   {
    "duration": 17,
    "start_time": "2022-11-17T11:04:24.044Z"
   },
   {
    "duration": 17,
    "start_time": "2022-11-17T11:04:24.063Z"
   },
   {
    "duration": 11,
    "start_time": "2022-11-17T11:04:24.081Z"
   },
   {
    "duration": 18,
    "start_time": "2022-11-17T11:04:24.094Z"
   },
   {
    "duration": 11,
    "start_time": "2022-11-17T11:04:24.113Z"
   },
   {
    "duration": 9,
    "start_time": "2022-11-17T11:04:24.125Z"
   },
   {
    "duration": 24,
    "start_time": "2022-11-17T11:04:24.135Z"
   },
   {
    "duration": 8,
    "start_time": "2022-11-17T11:04:24.160Z"
   },
   {
    "duration": 11,
    "start_time": "2022-11-17T11:04:24.170Z"
   },
   {
    "duration": 14,
    "start_time": "2022-11-17T11:04:24.182Z"
   },
   {
    "duration": 4,
    "start_time": "2022-11-17T11:04:24.198Z"
   },
   {
    "duration": 6,
    "start_time": "2022-11-17T11:04:24.204Z"
   },
   {
    "duration": 6,
    "start_time": "2022-11-17T11:04:24.213Z"
   },
   {
    "duration": 26,
    "start_time": "2022-11-17T11:04:24.220Z"
   },
   {
    "duration": 18,
    "start_time": "2022-11-17T11:04:24.247Z"
   },
   {
    "duration": 149,
    "start_time": "2022-11-17T11:04:24.266Z"
   },
   {
    "duration": 171,
    "start_time": "2022-11-17T11:04:24.416Z"
   },
   {
    "duration": 165,
    "start_time": "2022-11-17T11:04:24.588Z"
   },
   {
    "duration": 7,
    "start_time": "2022-11-17T11:04:24.755Z"
   },
   {
    "duration": 2,
    "start_time": "2022-11-17T11:04:24.764Z"
   },
   {
    "duration": 10,
    "start_time": "2022-11-17T11:04:24.768Z"
   },
   {
    "duration": 218,
    "start_time": "2022-11-17T11:04:24.779Z"
   },
   {
    "duration": 183,
    "start_time": "2022-11-17T11:04:24.999Z"
   },
   {
    "duration": 171,
    "start_time": "2022-11-17T11:04:25.184Z"
   },
   {
    "duration": 218,
    "start_time": "2022-11-17T11:04:25.357Z"
   },
   {
    "duration": 172,
    "start_time": "2022-11-17T11:04:25.578Z"
   },
   {
    "duration": 166,
    "start_time": "2022-11-17T11:04:25.752Z"
   },
   {
    "duration": 174,
    "start_time": "2022-11-17T11:04:25.920Z"
   },
   {
    "duration": 168,
    "start_time": "2022-11-17T11:04:26.095Z"
   },
   {
    "duration": 169,
    "start_time": "2022-11-17T11:04:26.265Z"
   },
   {
    "duration": 198,
    "start_time": "2022-11-17T11:04:26.436Z"
   },
   {
    "duration": 167,
    "start_time": "2022-11-17T11:04:26.635Z"
   },
   {
    "duration": 4,
    "start_time": "2022-11-17T11:04:26.803Z"
   },
   {
    "duration": 27,
    "start_time": "2022-11-17T11:04:26.809Z"
   },
   {
    "duration": 14,
    "start_time": "2022-11-17T11:04:26.838Z"
   },
   {
    "duration": 4,
    "start_time": "2022-11-17T11:04:26.854Z"
   },
   {
    "duration": 4,
    "start_time": "2022-11-17T11:04:26.860Z"
   },
   {
    "duration": 5,
    "start_time": "2022-11-17T11:04:39.887Z"
   },
   {
    "duration": 1285,
    "start_time": "2022-11-17T11:04:47.935Z"
   },
   {
    "duration": 5,
    "start_time": "2022-11-17T11:04:52.463Z"
   },
   {
    "duration": 49,
    "start_time": "2022-11-17T11:05:21.589Z"
   },
   {
    "duration": 694,
    "start_time": "2022-11-17T11:05:27.929Z"
   },
   {
    "duration": 37,
    "start_time": "2022-11-17T11:05:28.625Z"
   },
   {
    "duration": 5,
    "start_time": "2022-11-17T11:05:28.663Z"
   },
   {
    "duration": 1981,
    "start_time": "2022-11-17T11:05:28.669Z"
   },
   {
    "duration": 9,
    "start_time": "2022-11-17T11:05:30.652Z"
   },
   {
    "duration": 47,
    "start_time": "2022-11-17T11:05:30.662Z"
   },
   {
    "duration": 20,
    "start_time": "2022-11-17T11:05:30.710Z"
   },
   {
    "duration": 24,
    "start_time": "2022-11-17T11:05:30.731Z"
   },
   {
    "duration": 9,
    "start_time": "2022-11-17T11:05:30.757Z"
   },
   {
    "duration": 17,
    "start_time": "2022-11-17T11:05:30.769Z"
   },
   {
    "duration": 16,
    "start_time": "2022-11-17T11:05:30.788Z"
   },
   {
    "duration": 22,
    "start_time": "2022-11-17T11:05:30.805Z"
   },
   {
    "duration": 16,
    "start_time": "2022-11-17T11:05:30.828Z"
   },
   {
    "duration": 19,
    "start_time": "2022-11-17T11:05:30.845Z"
   },
   {
    "duration": 35,
    "start_time": "2022-11-17T11:05:30.866Z"
   },
   {
    "duration": 11,
    "start_time": "2022-11-17T11:05:30.902Z"
   },
   {
    "duration": 33,
    "start_time": "2022-11-17T11:05:30.914Z"
   },
   {
    "duration": 12,
    "start_time": "2022-11-17T11:05:30.949Z"
   },
   {
    "duration": 15,
    "start_time": "2022-11-17T11:05:30.962Z"
   },
   {
    "duration": 18,
    "start_time": "2022-11-17T11:05:30.978Z"
   },
   {
    "duration": 10,
    "start_time": "2022-11-17T11:05:30.997Z"
   },
   {
    "duration": 29,
    "start_time": "2022-11-17T11:05:31.008Z"
   },
   {
    "duration": 6,
    "start_time": "2022-11-17T11:05:31.038Z"
   },
   {
    "duration": 27,
    "start_time": "2022-11-17T11:05:31.046Z"
   },
   {
    "duration": 14,
    "start_time": "2022-11-17T11:05:31.074Z"
   },
   {
    "duration": 16,
    "start_time": "2022-11-17T11:05:31.090Z"
   },
   {
    "duration": 20,
    "start_time": "2022-11-17T11:05:31.108Z"
   },
   {
    "duration": 13,
    "start_time": "2022-11-17T11:05:31.132Z"
   },
   {
    "duration": 32,
    "start_time": "2022-11-17T11:05:31.147Z"
   },
   {
    "duration": 15,
    "start_time": "2022-11-17T11:05:31.181Z"
   },
   {
    "duration": 143,
    "start_time": "2022-11-17T11:05:31.197Z"
   },
   {
    "duration": 165,
    "start_time": "2022-11-17T11:05:31.341Z"
   },
   {
    "duration": 161,
    "start_time": "2022-11-17T11:05:31.507Z"
   },
   {
    "duration": 6,
    "start_time": "2022-11-17T11:05:31.669Z"
   },
   {
    "duration": 15,
    "start_time": "2022-11-17T11:05:31.676Z"
   },
   {
    "duration": 12,
    "start_time": "2022-11-17T11:05:31.692Z"
   },
   {
    "duration": 160,
    "start_time": "2022-11-17T11:05:31.705Z"
   },
   {
    "duration": 172,
    "start_time": "2022-11-17T11:05:31.866Z"
   },
   {
    "duration": 165,
    "start_time": "2022-11-17T11:05:32.040Z"
   },
   {
    "duration": 213,
    "start_time": "2022-11-17T11:05:32.206Z"
   },
   {
    "duration": 156,
    "start_time": "2022-11-17T11:05:32.420Z"
   },
   {
    "duration": 164,
    "start_time": "2022-11-17T11:05:32.577Z"
   },
   {
    "duration": 166,
    "start_time": "2022-11-17T11:05:32.743Z"
   },
   {
    "duration": 172,
    "start_time": "2022-11-17T11:05:32.911Z"
   },
   {
    "duration": 181,
    "start_time": "2022-11-17T11:05:33.085Z"
   },
   {
    "duration": 207,
    "start_time": "2022-11-17T11:05:33.268Z"
   },
   {
    "duration": 164,
    "start_time": "2022-11-17T11:05:33.476Z"
   },
   {
    "duration": 5,
    "start_time": "2022-11-17T11:05:33.641Z"
   },
   {
    "duration": 30,
    "start_time": "2022-11-17T11:05:33.648Z"
   },
   {
    "duration": 27,
    "start_time": "2022-11-17T11:05:33.679Z"
   },
   {
    "duration": 3,
    "start_time": "2022-11-17T11:05:33.707Z"
   },
   {
    "duration": 288,
    "start_time": "2022-11-17T11:05:33.711Z"
   },
   {
    "duration": 309,
    "start_time": "2022-11-17T11:05:41.817Z"
   },
   {
    "duration": 8,
    "start_time": "2022-11-17T11:09:33.290Z"
   },
   {
    "duration": 7,
    "start_time": "2022-11-17T11:09:43.685Z"
   },
   {
    "duration": 13,
    "start_time": "2022-11-17T11:14:45.259Z"
   },
   {
    "duration": 4,
    "start_time": "2022-11-17T11:15:14.455Z"
   },
   {
    "duration": 15,
    "start_time": "2022-11-17T11:15:15.973Z"
   },
   {
    "duration": 4,
    "start_time": "2022-11-17T11:16:26.781Z"
   },
   {
    "duration": 4,
    "start_time": "2022-11-17T11:16:27.407Z"
   },
   {
    "duration": 13,
    "start_time": "2022-11-17T11:16:28.318Z"
   },
   {
    "duration": 42,
    "start_time": "2022-11-17T11:16:49.764Z"
   },
   {
    "duration": 14,
    "start_time": "2022-11-17T11:16:52.030Z"
   },
   {
    "duration": 7,
    "start_time": "2022-11-17T11:16:54.349Z"
   },
   {
    "duration": 5,
    "start_time": "2022-11-17T11:17:12.829Z"
   },
   {
    "duration": 20,
    "start_time": "2022-11-17T11:17:15.181Z"
   },
   {
    "duration": 122,
    "start_time": "2022-11-17T11:23:35.702Z"
   },
   {
    "duration": 103,
    "start_time": "2022-11-17T11:23:38.118Z"
   },
   {
    "duration": 37,
    "start_time": "2022-11-17T11:23:38.223Z"
   },
   {
    "duration": 6,
    "start_time": "2022-11-17T11:23:38.262Z"
   },
   {
    "duration": 1928,
    "start_time": "2022-11-17T11:23:38.269Z"
   },
   {
    "duration": 11,
    "start_time": "2022-11-17T11:23:40.199Z"
   },
   {
    "duration": 12,
    "start_time": "2022-11-17T11:23:40.212Z"
   },
   {
    "duration": 12,
    "start_time": "2022-11-17T11:23:40.225Z"
   },
   {
    "duration": 22,
    "start_time": "2022-11-17T11:23:40.239Z"
   },
   {
    "duration": 7,
    "start_time": "2022-11-17T11:23:40.263Z"
   },
   {
    "duration": 25,
    "start_time": "2022-11-17T11:23:40.274Z"
   },
   {
    "duration": 18,
    "start_time": "2022-11-17T11:23:40.301Z"
   },
   {
    "duration": 11,
    "start_time": "2022-11-17T11:23:40.321Z"
   },
   {
    "duration": 16,
    "start_time": "2022-11-17T11:23:40.334Z"
   },
   {
    "duration": 0,
    "start_time": "2022-11-17T11:23:40.353Z"
   },
   {
    "duration": 0,
    "start_time": "2022-11-17T11:23:40.354Z"
   },
   {
    "duration": 0,
    "start_time": "2022-11-17T11:23:40.354Z"
   },
   {
    "duration": 0,
    "start_time": "2022-11-17T11:23:40.355Z"
   },
   {
    "duration": 0,
    "start_time": "2022-11-17T11:23:40.357Z"
   },
   {
    "duration": 0,
    "start_time": "2022-11-17T11:23:40.358Z"
   },
   {
    "duration": 0,
    "start_time": "2022-11-17T11:23:40.359Z"
   },
   {
    "duration": 0,
    "start_time": "2022-11-17T11:23:40.359Z"
   },
   {
    "duration": 0,
    "start_time": "2022-11-17T11:23:40.361Z"
   },
   {
    "duration": 0,
    "start_time": "2022-11-17T11:23:40.362Z"
   },
   {
    "duration": 0,
    "start_time": "2022-11-17T11:23:40.362Z"
   },
   {
    "duration": 1,
    "start_time": "2022-11-17T11:23:40.363Z"
   },
   {
    "duration": 0,
    "start_time": "2022-11-17T11:23:40.364Z"
   },
   {
    "duration": 0,
    "start_time": "2022-11-17T11:23:40.365Z"
   },
   {
    "duration": 0,
    "start_time": "2022-11-17T11:23:40.397Z"
   },
   {
    "duration": 0,
    "start_time": "2022-11-17T11:23:40.398Z"
   },
   {
    "duration": 0,
    "start_time": "2022-11-17T11:23:40.399Z"
   },
   {
    "duration": 0,
    "start_time": "2022-11-17T11:23:40.400Z"
   },
   {
    "duration": 0,
    "start_time": "2022-11-17T11:23:40.402Z"
   },
   {
    "duration": 0,
    "start_time": "2022-11-17T11:23:40.403Z"
   },
   {
    "duration": 0,
    "start_time": "2022-11-17T11:23:40.404Z"
   },
   {
    "duration": 0,
    "start_time": "2022-11-17T11:23:40.405Z"
   },
   {
    "duration": 0,
    "start_time": "2022-11-17T11:23:40.406Z"
   },
   {
    "duration": 0,
    "start_time": "2022-11-17T11:23:40.407Z"
   },
   {
    "duration": 0,
    "start_time": "2022-11-17T11:23:40.408Z"
   },
   {
    "duration": 0,
    "start_time": "2022-11-17T11:23:40.409Z"
   },
   {
    "duration": 0,
    "start_time": "2022-11-17T11:23:40.410Z"
   },
   {
    "duration": 0,
    "start_time": "2022-11-17T11:23:40.411Z"
   },
   {
    "duration": 0,
    "start_time": "2022-11-17T11:23:40.412Z"
   },
   {
    "duration": 0,
    "start_time": "2022-11-17T11:23:40.413Z"
   },
   {
    "duration": 0,
    "start_time": "2022-11-17T11:23:40.414Z"
   },
   {
    "duration": 0,
    "start_time": "2022-11-17T11:23:40.415Z"
   },
   {
    "duration": 0,
    "start_time": "2022-11-17T11:23:40.416Z"
   },
   {
    "duration": 0,
    "start_time": "2022-11-17T11:23:40.416Z"
   },
   {
    "duration": 0,
    "start_time": "2022-11-17T11:23:40.418Z"
   },
   {
    "duration": 0,
    "start_time": "2022-11-17T11:23:40.419Z"
   },
   {
    "duration": 0,
    "start_time": "2022-11-17T11:23:40.420Z"
   },
   {
    "duration": 0,
    "start_time": "2022-11-17T11:23:40.421Z"
   },
   {
    "duration": 0,
    "start_time": "2022-11-17T11:23:40.422Z"
   },
   {
    "duration": 0,
    "start_time": "2022-11-17T11:23:40.423Z"
   },
   {
    "duration": 0,
    "start_time": "2022-11-17T11:23:40.424Z"
   },
   {
    "duration": 0,
    "start_time": "2022-11-17T11:23:40.425Z"
   },
   {
    "duration": 9,
    "start_time": "2022-11-17T11:24:56.054Z"
   },
   {
    "duration": 12,
    "start_time": "2022-11-17T11:25:10.870Z"
   },
   {
    "duration": 93,
    "start_time": "2022-11-17T11:25:44.835Z"
   },
   {
    "duration": 34,
    "start_time": "2022-11-17T11:25:44.930Z"
   },
   {
    "duration": 6,
    "start_time": "2022-11-17T11:25:44.966Z"
   },
   {
    "duration": 1848,
    "start_time": "2022-11-17T11:25:44.974Z"
   },
   {
    "duration": 9,
    "start_time": "2022-11-17T11:25:46.825Z"
   },
   {
    "duration": 5,
    "start_time": "2022-11-17T11:25:46.836Z"
   },
   {
    "duration": 7,
    "start_time": "2022-11-17T11:25:46.843Z"
   },
   {
    "duration": 12,
    "start_time": "2022-11-17T11:25:46.851Z"
   },
   {
    "duration": 5,
    "start_time": "2022-11-17T11:25:46.865Z"
   },
   {
    "duration": 5,
    "start_time": "2022-11-17T11:25:46.898Z"
   },
   {
    "duration": 11,
    "start_time": "2022-11-17T11:25:46.905Z"
   },
   {
    "duration": 8,
    "start_time": "2022-11-17T11:25:46.917Z"
   },
   {
    "duration": 6,
    "start_time": "2022-11-17T11:25:46.927Z"
   },
   {
    "duration": 25,
    "start_time": "2022-11-17T11:25:46.935Z"
   },
   {
    "duration": 13,
    "start_time": "2022-11-17T11:25:46.962Z"
   },
   {
    "duration": 31,
    "start_time": "2022-11-17T11:25:46.976Z"
   },
   {
    "duration": 61,
    "start_time": "2022-11-17T11:25:47.009Z"
   },
   {
    "duration": 54,
    "start_time": "2022-11-17T11:25:47.072Z"
   },
   {
    "duration": 14,
    "start_time": "2022-11-17T11:25:47.128Z"
   },
   {
    "duration": 20,
    "start_time": "2022-11-17T11:25:47.144Z"
   },
   {
    "duration": 12,
    "start_time": "2022-11-17T11:25:47.166Z"
   },
   {
    "duration": 12,
    "start_time": "2022-11-17T11:25:47.180Z"
   },
   {
    "duration": 36,
    "start_time": "2022-11-17T11:25:47.194Z"
   },
   {
    "duration": 44,
    "start_time": "2022-11-17T11:25:47.232Z"
   },
   {
    "duration": 41,
    "start_time": "2022-11-17T11:25:47.278Z"
   },
   {
    "duration": 11,
    "start_time": "2022-11-17T11:25:47.321Z"
   },
   {
    "duration": 9,
    "start_time": "2022-11-17T11:25:47.333Z"
   },
   {
    "duration": 29,
    "start_time": "2022-11-17T11:25:47.343Z"
   },
   {
    "duration": 30,
    "start_time": "2022-11-17T11:25:47.373Z"
   },
   {
    "duration": 13,
    "start_time": "2022-11-17T11:25:47.405Z"
   },
   {
    "duration": 7,
    "start_time": "2022-11-17T11:25:47.420Z"
   },
   {
    "duration": 27,
    "start_time": "2022-11-17T11:25:47.429Z"
   },
   {
    "duration": 14,
    "start_time": "2022-11-17T11:25:47.458Z"
   },
   {
    "duration": 162,
    "start_time": "2022-11-17T11:25:47.474Z"
   },
   {
    "duration": 196,
    "start_time": "2022-11-17T11:25:47.638Z"
   },
   {
    "duration": 192,
    "start_time": "2022-11-17T11:25:47.835Z"
   },
   {
    "duration": 7,
    "start_time": "2022-11-17T11:25:48.028Z"
   },
   {
    "duration": 5,
    "start_time": "2022-11-17T11:25:48.037Z"
   },
   {
    "duration": 10,
    "start_time": "2022-11-17T11:25:48.043Z"
   },
   {
    "duration": 199,
    "start_time": "2022-11-17T11:25:48.055Z"
   },
   {
    "duration": 173,
    "start_time": "2022-11-17T11:25:48.258Z"
   },
   {
    "duration": 186,
    "start_time": "2022-11-17T11:25:48.432Z"
   },
   {
    "duration": 161,
    "start_time": "2022-11-17T11:25:48.619Z"
   },
   {
    "duration": 176,
    "start_time": "2022-11-17T11:25:48.782Z"
   },
   {
    "duration": 191,
    "start_time": "2022-11-17T11:25:48.960Z"
   },
   {
    "duration": 181,
    "start_time": "2022-11-17T11:25:49.153Z"
   },
   {
    "duration": 209,
    "start_time": "2022-11-17T11:25:49.336Z"
   },
   {
    "duration": 184,
    "start_time": "2022-11-17T11:25:49.547Z"
   },
   {
    "duration": 214,
    "start_time": "2022-11-17T11:25:49.733Z"
   },
   {
    "duration": 328,
    "start_time": "2022-11-17T11:25:49.949Z"
   },
   {
    "duration": 5,
    "start_time": "2022-11-17T11:25:50.279Z"
   },
   {
    "duration": 35,
    "start_time": "2022-11-17T11:25:50.297Z"
   },
   {
    "duration": 14,
    "start_time": "2022-11-17T11:25:50.333Z"
   },
   {
    "duration": 2,
    "start_time": "2022-11-17T11:25:50.349Z"
   },
   {
    "duration": 7104,
    "start_time": "2022-11-17T11:25:50.352Z"
   },
   {
    "duration": 7,
    "start_time": "2022-11-17T11:26:47.327Z"
   },
   {
    "duration": 20,
    "start_time": "2022-11-17T11:26:47.336Z"
   },
   {
    "duration": 17,
    "start_time": "2022-11-17T11:26:47.358Z"
   },
   {
    "duration": 11,
    "start_time": "2022-11-17T11:26:47.377Z"
   },
   {
    "duration": 21,
    "start_time": "2022-11-17T11:26:47.389Z"
   },
   {
    "duration": 17,
    "start_time": "2022-11-17T11:26:47.411Z"
   },
   {
    "duration": 36,
    "start_time": "2022-11-17T11:26:47.429Z"
   },
   {
    "duration": 34,
    "start_time": "2022-11-17T11:26:47.467Z"
   },
   {
    "duration": 40,
    "start_time": "2022-11-17T11:26:47.503Z"
   },
   {
    "duration": 32,
    "start_time": "2022-11-17T11:26:47.546Z"
   },
   {
    "duration": 42,
    "start_time": "2022-11-17T11:26:47.580Z"
   },
   {
    "duration": 44,
    "start_time": "2022-11-17T11:26:47.624Z"
   },
   {
    "duration": 50,
    "start_time": "2022-11-17T11:26:47.670Z"
   },
   {
    "duration": 26,
    "start_time": "2022-11-17T11:26:47.722Z"
   },
   {
    "duration": 45,
    "start_time": "2022-11-17T11:26:47.749Z"
   },
   {
    "duration": 48,
    "start_time": "2022-11-17T11:26:47.795Z"
   },
   {
    "duration": 42,
    "start_time": "2022-11-17T11:26:47.845Z"
   },
   {
    "duration": 52,
    "start_time": "2022-11-17T11:26:47.889Z"
   },
   {
    "duration": 20,
    "start_time": "2022-11-17T11:26:47.943Z"
   },
   {
    "duration": 63,
    "start_time": "2022-11-17T11:26:47.965Z"
   },
   {
    "duration": 26,
    "start_time": "2022-11-17T11:26:48.030Z"
   },
   {
    "duration": 155,
    "start_time": "2022-11-17T11:26:48.057Z"
   },
   {
    "duration": 202,
    "start_time": "2022-11-17T11:26:48.214Z"
   },
   {
    "duration": 181,
    "start_time": "2022-11-17T11:26:48.418Z"
   },
   {
    "duration": 7,
    "start_time": "2022-11-17T11:26:48.601Z"
   },
   {
    "duration": 17,
    "start_time": "2022-11-17T11:26:48.610Z"
   },
   {
    "duration": 7,
    "start_time": "2022-11-17T11:26:48.629Z"
   },
   {
    "duration": 177,
    "start_time": "2022-11-17T11:26:48.639Z"
   },
   {
    "duration": 187,
    "start_time": "2022-11-17T11:26:48.818Z"
   },
   {
    "duration": 208,
    "start_time": "2022-11-17T11:26:49.006Z"
   },
   {
    "duration": 181,
    "start_time": "2022-11-17T11:26:49.216Z"
   },
   {
    "duration": 182,
    "start_time": "2022-11-17T11:26:49.399Z"
   },
   {
    "duration": 184,
    "start_time": "2022-11-17T11:26:49.583Z"
   },
   {
    "duration": 180,
    "start_time": "2022-11-17T11:26:49.770Z"
   },
   {
    "duration": 214,
    "start_time": "2022-11-17T11:26:49.953Z"
   },
   {
    "duration": 194,
    "start_time": "2022-11-17T11:26:50.170Z"
   },
   {
    "duration": 220,
    "start_time": "2022-11-17T11:26:50.366Z"
   },
   {
    "duration": 191,
    "start_time": "2022-11-17T11:26:50.588Z"
   },
   {
    "duration": 16,
    "start_time": "2022-11-17T11:26:50.781Z"
   },
   {
    "duration": 31,
    "start_time": "2022-11-17T11:26:50.799Z"
   },
   {
    "duration": 15,
    "start_time": "2022-11-17T11:26:50.831Z"
   },
   {
    "duration": 3,
    "start_time": "2022-11-17T11:26:50.848Z"
   },
   {
    "duration": 7276,
    "start_time": "2022-11-17T11:26:50.852Z"
   },
   {
    "duration": 102,
    "start_time": "2022-11-17T11:26:58.131Z"
   },
   {
    "duration": 37,
    "start_time": "2022-11-17T11:26:58.235Z"
   },
   {
    "duration": 23,
    "start_time": "2022-11-17T11:26:58.274Z"
   },
   {
    "duration": 1934,
    "start_time": "2022-11-17T11:26:58.299Z"
   },
   {
    "duration": 15,
    "start_time": "2022-11-17T11:27:00.235Z"
   },
   {
    "duration": 25,
    "start_time": "2022-11-17T11:27:00.251Z"
   },
   {
    "duration": 19,
    "start_time": "2022-11-17T11:27:00.278Z"
   },
   {
    "duration": 30,
    "start_time": "2022-11-17T11:27:00.300Z"
   },
   {
    "duration": 20,
    "start_time": "2022-11-17T11:27:00.332Z"
   },
   {
    "duration": 37,
    "start_time": "2022-11-17T11:27:00.353Z"
   },
   {
    "duration": 54,
    "start_time": "2022-11-17T11:27:00.392Z"
   },
   {
    "duration": 36,
    "start_time": "2022-11-17T11:27:00.448Z"
   },
   {
    "duration": 7,
    "start_time": "2022-11-17T11:27:05.993Z"
   },
   {
    "duration": 7,
    "start_time": "2022-11-17T11:27:12.473Z"
   },
   {
    "duration": 101,
    "start_time": "2022-11-17T11:27:35.834Z"
   },
   {
    "duration": 37,
    "start_time": "2022-11-17T11:27:35.937Z"
   },
   {
    "duration": 6,
    "start_time": "2022-11-17T11:27:35.975Z"
   },
   {
    "duration": 2065,
    "start_time": "2022-11-17T11:27:35.982Z"
   },
   {
    "duration": 9,
    "start_time": "2022-11-17T11:27:38.049Z"
   },
   {
    "duration": 6,
    "start_time": "2022-11-17T11:27:38.059Z"
   },
   {
    "duration": 7,
    "start_time": "2022-11-17T11:27:38.066Z"
   },
   {
    "duration": 9,
    "start_time": "2022-11-17T11:27:38.097Z"
   },
   {
    "duration": 5,
    "start_time": "2022-11-17T11:27:38.108Z"
   },
   {
    "duration": 8,
    "start_time": "2022-11-17T11:27:38.115Z"
   },
   {
    "duration": 8,
    "start_time": "2022-11-17T11:27:38.125Z"
   },
   {
    "duration": 10,
    "start_time": "2022-11-17T11:27:38.134Z"
   },
   {
    "duration": 8,
    "start_time": "2022-11-17T11:27:41.528Z"
   },
   {
    "duration": 6,
    "start_time": "2022-11-17T11:27:52.448Z"
   },
   {
    "duration": 7,
    "start_time": "2022-11-17T11:28:00.153Z"
   },
   {
    "duration": 15,
    "start_time": "2022-11-17T11:28:28.033Z"
   },
   {
    "duration": 14,
    "start_time": "2022-11-17T11:28:55.521Z"
   },
   {
    "duration": 11,
    "start_time": "2022-11-17T11:29:02.738Z"
   },
   {
    "duration": 15,
    "start_time": "2022-11-17T11:29:09.041Z"
   },
   {
    "duration": 7,
    "start_time": "2022-11-17T11:29:15.651Z"
   },
   {
    "duration": 13,
    "start_time": "2022-11-17T11:29:19.234Z"
   },
   {
    "duration": 13,
    "start_time": "2022-11-17T11:29:34.134Z"
   },
   {
    "duration": 104,
    "start_time": "2022-11-17T11:29:40.550Z"
   },
   {
    "duration": 46,
    "start_time": "2022-11-17T11:29:40.656Z"
   },
   {
    "duration": 23,
    "start_time": "2022-11-17T11:29:40.704Z"
   },
   {
    "duration": 1914,
    "start_time": "2022-11-17T11:29:40.728Z"
   },
   {
    "duration": 8,
    "start_time": "2022-11-17T11:29:42.645Z"
   },
   {
    "duration": 25,
    "start_time": "2022-11-17T11:29:42.655Z"
   },
   {
    "duration": 21,
    "start_time": "2022-11-17T11:29:42.681Z"
   },
   {
    "duration": 10,
    "start_time": "2022-11-17T11:29:42.703Z"
   },
   {
    "duration": 7,
    "start_time": "2022-11-17T11:29:42.714Z"
   },
   {
    "duration": 18,
    "start_time": "2022-11-17T11:29:42.723Z"
   },
   {
    "duration": 15,
    "start_time": "2022-11-17T11:29:42.743Z"
   },
   {
    "duration": 14,
    "start_time": "2022-11-17T11:29:42.759Z"
   },
   {
    "duration": 18,
    "start_time": "2022-11-17T11:29:46.020Z"
   },
   {
    "duration": 7,
    "start_time": "2022-11-17T11:29:55.935Z"
   },
   {
    "duration": 14,
    "start_time": "2022-11-17T11:30:14.109Z"
   },
   {
    "duration": 14,
    "start_time": "2022-11-17T11:30:21.236Z"
   },
   {
    "duration": 14,
    "start_time": "2022-11-17T11:30:35.133Z"
   },
   {
    "duration": 15,
    "start_time": "2022-11-17T11:30:47.468Z"
   },
   {
    "duration": 9,
    "start_time": "2022-11-17T11:30:54.613Z"
   },
   {
    "duration": 6,
    "start_time": "2022-11-17T11:31:09.997Z"
   },
   {
    "duration": 5,
    "start_time": "2022-11-17T11:31:13.485Z"
   },
   {
    "duration": 9,
    "start_time": "2022-11-17T11:31:35.813Z"
   },
   {
    "duration": 13,
    "start_time": "2022-11-17T11:31:40.685Z"
   },
   {
    "duration": 107,
    "start_time": "2022-11-17T11:32:08.903Z"
   },
   {
    "duration": 40,
    "start_time": "2022-11-17T11:32:09.013Z"
   },
   {
    "duration": 5,
    "start_time": "2022-11-17T11:32:09.055Z"
   },
   {
    "duration": 1862,
    "start_time": "2022-11-17T11:32:09.063Z"
   },
   {
    "duration": 10,
    "start_time": "2022-11-17T11:32:10.928Z"
   },
   {
    "duration": 38,
    "start_time": "2022-11-17T11:32:10.940Z"
   },
   {
    "duration": 39,
    "start_time": "2022-11-17T11:32:10.980Z"
   },
   {
    "duration": 20,
    "start_time": "2022-11-17T11:32:11.022Z"
   },
   {
    "duration": 36,
    "start_time": "2022-11-17T11:32:11.043Z"
   },
   {
    "duration": 33,
    "start_time": "2022-11-17T11:32:11.081Z"
   },
   {
    "duration": 34,
    "start_time": "2022-11-17T11:32:11.116Z"
   },
   {
    "duration": 40,
    "start_time": "2022-11-17T11:32:11.152Z"
   },
   {
    "duration": 96,
    "start_time": "2022-11-17T11:32:31.152Z"
   },
   {
    "duration": 56,
    "start_time": "2022-11-17T11:32:31.250Z"
   },
   {
    "duration": 5,
    "start_time": "2022-11-17T11:32:31.308Z"
   },
   {
    "duration": 2282,
    "start_time": "2022-11-17T11:32:31.315Z"
   },
   {
    "duration": 9,
    "start_time": "2022-11-17T11:32:33.599Z"
   },
   {
    "duration": 17,
    "start_time": "2022-11-17T11:32:33.609Z"
   },
   {
    "duration": 7,
    "start_time": "2022-11-17T11:32:33.627Z"
   },
   {
    "duration": 14,
    "start_time": "2022-11-17T11:32:33.636Z"
   },
   {
    "duration": 7,
    "start_time": "2022-11-17T11:32:33.652Z"
   },
   {
    "duration": 15,
    "start_time": "2022-11-17T11:32:33.661Z"
   },
   {
    "duration": 24,
    "start_time": "2022-11-17T11:32:33.678Z"
   },
   {
    "duration": 8,
    "start_time": "2022-11-17T11:32:33.704Z"
   },
   {
    "duration": 9,
    "start_time": "2022-11-17T11:32:33.713Z"
   },
   {
    "duration": 11,
    "start_time": "2022-11-17T11:32:33.724Z"
   },
   {
    "duration": 12,
    "start_time": "2022-11-17T11:32:33.737Z"
   },
   {
    "duration": 10,
    "start_time": "2022-11-17T11:32:33.751Z"
   },
   {
    "duration": 13,
    "start_time": "2022-11-17T11:32:33.798Z"
   },
   {
    "duration": 14,
    "start_time": "2022-11-17T11:32:33.813Z"
   },
   {
    "duration": 7,
    "start_time": "2022-11-17T11:32:33.829Z"
   },
   {
    "duration": 9,
    "start_time": "2022-11-17T11:32:33.838Z"
   },
   {
    "duration": 9,
    "start_time": "2022-11-17T11:32:33.848Z"
   },
   {
    "duration": 8,
    "start_time": "2022-11-17T11:32:33.859Z"
   },
   {
    "duration": 8,
    "start_time": "2022-11-17T11:32:33.869Z"
   },
   {
    "duration": 22,
    "start_time": "2022-11-17T11:32:33.878Z"
   },
   {
    "duration": 30,
    "start_time": "2022-11-17T11:32:33.902Z"
   },
   {
    "duration": 14,
    "start_time": "2022-11-17T11:32:33.933Z"
   },
   {
    "duration": 11,
    "start_time": "2022-11-17T11:32:33.949Z"
   },
   {
    "duration": 46,
    "start_time": "2022-11-17T11:32:33.966Z"
   },
   {
    "duration": 9,
    "start_time": "2022-11-17T11:32:34.015Z"
   },
   {
    "duration": 10,
    "start_time": "2022-11-17T11:32:34.026Z"
   },
   {
    "duration": 5,
    "start_time": "2022-11-17T11:32:34.039Z"
   },
   {
    "duration": 58,
    "start_time": "2022-11-17T11:32:34.046Z"
   },
   {
    "duration": 19,
    "start_time": "2022-11-17T11:32:34.107Z"
   },
   {
    "duration": 186,
    "start_time": "2022-11-17T11:32:34.128Z"
   },
   {
    "duration": 208,
    "start_time": "2022-11-17T11:32:34.316Z"
   },
   {
    "duration": 250,
    "start_time": "2022-11-17T11:32:34.526Z"
   },
   {
    "duration": 9,
    "start_time": "2022-11-17T11:32:34.778Z"
   },
   {
    "duration": 32,
    "start_time": "2022-11-17T11:32:34.790Z"
   },
   {
    "duration": 27,
    "start_time": "2022-11-17T11:32:34.824Z"
   },
   {
    "duration": 188,
    "start_time": "2022-11-17T11:32:34.854Z"
   },
   {
    "duration": 184,
    "start_time": "2022-11-17T11:32:35.043Z"
   },
   {
    "duration": 181,
    "start_time": "2022-11-17T11:32:35.229Z"
   },
   {
    "duration": 204,
    "start_time": "2022-11-17T11:32:35.412Z"
   },
   {
    "duration": 196,
    "start_time": "2022-11-17T11:32:35.619Z"
   },
   {
    "duration": 190,
    "start_time": "2022-11-17T11:32:35.816Z"
   },
   {
    "duration": 179,
    "start_time": "2022-11-17T11:32:36.008Z"
   },
   {
    "duration": 198,
    "start_time": "2022-11-17T11:32:36.188Z"
   },
   {
    "duration": 171,
    "start_time": "2022-11-17T11:32:36.388Z"
   },
   {
    "duration": 192,
    "start_time": "2022-11-17T11:32:36.560Z"
   },
   {
    "duration": 182,
    "start_time": "2022-11-17T11:32:36.754Z"
   },
   {
    "duration": 5,
    "start_time": "2022-11-17T11:32:36.938Z"
   },
   {
    "duration": 30,
    "start_time": "2022-11-17T11:32:36.944Z"
   },
   {
    "duration": 29,
    "start_time": "2022-11-17T11:32:36.976Z"
   },
   {
    "duration": 3,
    "start_time": "2022-11-17T11:32:37.006Z"
   },
   {
    "duration": 9102,
    "start_time": "2022-11-17T11:32:37.011Z"
   },
   {
    "duration": 47,
    "start_time": "2022-11-17T11:35:56.554Z"
   },
   {
    "duration": 742,
    "start_time": "2022-11-17T11:36:02.390Z"
   },
   {
    "duration": 43,
    "start_time": "2022-11-17T11:36:03.134Z"
   },
   {
    "duration": 6,
    "start_time": "2022-11-17T11:36:03.179Z"
   },
   {
    "duration": 2191,
    "start_time": "2022-11-17T11:36:03.187Z"
   },
   {
    "duration": 11,
    "start_time": "2022-11-17T11:36:05.381Z"
   },
   {
    "duration": 28,
    "start_time": "2022-11-17T11:36:05.394Z"
   },
   {
    "duration": 15,
    "start_time": "2022-11-17T11:36:05.424Z"
   },
   {
    "duration": 19,
    "start_time": "2022-11-17T11:36:05.440Z"
   },
   {
    "duration": 13,
    "start_time": "2022-11-17T11:36:05.461Z"
   },
   {
    "duration": 11,
    "start_time": "2022-11-17T11:36:05.475Z"
   },
   {
    "duration": 30,
    "start_time": "2022-11-17T11:36:05.487Z"
   },
   {
    "duration": 15,
    "start_time": "2022-11-17T11:36:05.519Z"
   },
   {
    "duration": 7,
    "start_time": "2022-11-17T11:36:05.536Z"
   },
   {
    "duration": 37,
    "start_time": "2022-11-17T11:36:05.545Z"
   },
   {
    "duration": 23,
    "start_time": "2022-11-17T11:36:05.583Z"
   },
   {
    "duration": 19,
    "start_time": "2022-11-17T11:36:05.607Z"
   },
   {
    "duration": 22,
    "start_time": "2022-11-17T11:36:05.628Z"
   },
   {
    "duration": 34,
    "start_time": "2022-11-17T11:36:05.652Z"
   },
   {
    "duration": 32,
    "start_time": "2022-11-17T11:36:05.687Z"
   },
   {
    "duration": 21,
    "start_time": "2022-11-17T11:36:05.720Z"
   },
   {
    "duration": 22,
    "start_time": "2022-11-17T11:36:05.742Z"
   },
   {
    "duration": 34,
    "start_time": "2022-11-17T11:36:05.766Z"
   },
   {
    "duration": 24,
    "start_time": "2022-11-17T11:36:05.801Z"
   },
   {
    "duration": 28,
    "start_time": "2022-11-17T11:36:05.826Z"
   },
   {
    "duration": 47,
    "start_time": "2022-11-17T11:36:05.855Z"
   },
   {
    "duration": 16,
    "start_time": "2022-11-17T11:36:05.903Z"
   },
   {
    "duration": 32,
    "start_time": "2022-11-17T11:36:05.921Z"
   },
   {
    "duration": 23,
    "start_time": "2022-11-17T11:36:05.955Z"
   },
   {
    "duration": 17,
    "start_time": "2022-11-17T11:36:05.980Z"
   },
   {
    "duration": 6,
    "start_time": "2022-11-17T11:36:05.999Z"
   },
   {
    "duration": 8,
    "start_time": "2022-11-17T11:36:06.007Z"
   },
   {
    "duration": 32,
    "start_time": "2022-11-17T11:36:06.016Z"
   },
   {
    "duration": 14,
    "start_time": "2022-11-17T11:36:06.050Z"
   },
   {
    "duration": 170,
    "start_time": "2022-11-17T11:36:06.065Z"
   },
   {
    "duration": 182,
    "start_time": "2022-11-17T11:36:06.236Z"
   },
   {
    "duration": 180,
    "start_time": "2022-11-17T11:36:06.419Z"
   },
   {
    "duration": 6,
    "start_time": "2022-11-17T11:36:06.600Z"
   },
   {
    "duration": 3,
    "start_time": "2022-11-17T11:36:06.608Z"
   },
   {
    "duration": 7,
    "start_time": "2022-11-17T11:36:06.612Z"
   },
   {
    "duration": 189,
    "start_time": "2022-11-17T11:36:06.620Z"
   },
   {
    "duration": 176,
    "start_time": "2022-11-17T11:36:06.813Z"
   },
   {
    "duration": 168,
    "start_time": "2022-11-17T11:36:06.991Z"
   },
   {
    "duration": 224,
    "start_time": "2022-11-17T11:36:07.161Z"
   },
   {
    "duration": 167,
    "start_time": "2022-11-17T11:36:07.387Z"
   },
   {
    "duration": 167,
    "start_time": "2022-11-17T11:36:07.556Z"
   },
   {
    "duration": 169,
    "start_time": "2022-11-17T11:36:07.725Z"
   },
   {
    "duration": 169,
    "start_time": "2022-11-17T11:36:07.898Z"
   },
   {
    "duration": 168,
    "start_time": "2022-11-17T11:36:08.069Z"
   },
   {
    "duration": 195,
    "start_time": "2022-11-17T11:36:08.238Z"
   },
   {
    "duration": 189,
    "start_time": "2022-11-17T11:36:08.434Z"
   },
   {
    "duration": 6,
    "start_time": "2022-11-17T11:36:08.624Z"
   },
   {
    "duration": 41,
    "start_time": "2022-11-17T11:36:08.631Z"
   },
   {
    "duration": 15,
    "start_time": "2022-11-17T11:36:08.674Z"
   },
   {
    "duration": 9,
    "start_time": "2022-11-17T11:36:08.690Z"
   },
   {
    "duration": 43,
    "start_time": "2022-11-17T11:36:08.700Z"
   },
   {
    "duration": 3079,
    "start_time": "2022-11-17T11:36:47.339Z"
   },
   {
    "duration": 15,
    "start_time": "2022-11-17T11:37:11.724Z"
   },
   {
    "duration": 14,
    "start_time": "2022-11-17T11:37:16.996Z"
   },
   {
    "duration": 17,
    "start_time": "2022-11-17T11:37:19.982Z"
   },
   {
    "duration": 26,
    "start_time": "2022-11-17T11:37:27.140Z"
   },
   {
    "duration": 18,
    "start_time": "2022-11-17T11:37:50.965Z"
   },
   {
    "duration": 20,
    "start_time": "2022-11-17T11:38:02.574Z"
   },
   {
    "duration": 21,
    "start_time": "2022-11-17T11:38:51.661Z"
   },
   {
    "duration": 24,
    "start_time": "2022-11-17T11:39:00.951Z"
   },
   {
    "duration": 22,
    "start_time": "2022-11-17T11:39:21.318Z"
   },
   {
    "duration": 18,
    "start_time": "2022-11-17T11:39:53.167Z"
   },
   {
    "duration": 45,
    "start_time": "2022-11-17T11:39:58.963Z"
   },
   {
    "duration": 20,
    "start_time": "2022-11-17T11:40:03.072Z"
   },
   {
    "duration": 17,
    "start_time": "2022-11-17T11:40:12.220Z"
   },
   {
    "duration": 18,
    "start_time": "2022-11-17T11:40:14.334Z"
   },
   {
    "duration": 19,
    "start_time": "2022-11-17T11:40:35.694Z"
   },
   {
    "duration": 327,
    "start_time": "2022-11-17T11:40:58.930Z"
   },
   {
    "duration": 311,
    "start_time": "2022-11-17T11:41:08.977Z"
   },
   {
    "duration": 5,
    "start_time": "2022-11-17T11:41:39.272Z"
   },
   {
    "duration": 5,
    "start_time": "2022-11-17T11:41:49.196Z"
   },
   {
    "duration": 35,
    "start_time": "2022-11-17T11:41:55.753Z"
   },
   {
    "duration": 28,
    "start_time": "2022-11-17T11:42:04.186Z"
   },
   {
    "duration": 37,
    "start_time": "2022-11-17T11:42:07.506Z"
   },
   {
    "duration": 24,
    "start_time": "2022-11-17T11:42:28.195Z"
   },
   {
    "duration": 31,
    "start_time": "2022-11-17T11:42:43.320Z"
   },
   {
    "duration": 27,
    "start_time": "2022-11-17T11:42:52.537Z"
   },
   {
    "duration": 33,
    "start_time": "2022-11-17T11:42:55.850Z"
   },
   {
    "duration": 30,
    "start_time": "2022-11-17T11:43:16.894Z"
   },
   {
    "duration": 318,
    "start_time": "2022-11-17T11:45:10.131Z"
   },
   {
    "duration": 352,
    "start_time": "2022-11-17T11:45:54.079Z"
   },
   {
    "duration": 265,
    "start_time": "2022-11-17T11:46:05.893Z"
   },
   {
    "duration": 10,
    "start_time": "2022-11-17T11:46:12.244Z"
   },
   {
    "duration": 781,
    "start_time": "2022-11-17T11:46:15.277Z"
   },
   {
    "duration": 946,
    "start_time": "2022-11-17T11:46:45.170Z"
   },
   {
    "duration": 759,
    "start_time": "2022-11-17T11:47:36.997Z"
   },
   {
    "duration": 1047,
    "start_time": "2022-11-17T11:47:43.815Z"
   },
   {
    "duration": 0,
    "start_time": "2022-11-17T11:49:35.071Z"
   },
   {
    "duration": 0,
    "start_time": "2022-11-17T11:49:35.072Z"
   },
   {
    "duration": 0,
    "start_time": "2022-11-17T11:49:35.073Z"
   },
   {
    "duration": 0,
    "start_time": "2022-11-17T11:49:35.074Z"
   },
   {
    "duration": 0,
    "start_time": "2022-11-17T11:49:35.076Z"
   },
   {
    "duration": 0,
    "start_time": "2022-11-17T11:49:35.097Z"
   },
   {
    "duration": 0,
    "start_time": "2022-11-17T11:49:35.098Z"
   },
   {
    "duration": 0,
    "start_time": "2022-11-17T11:49:35.100Z"
   },
   {
    "duration": 0,
    "start_time": "2022-11-17T11:49:35.101Z"
   },
   {
    "duration": 0,
    "start_time": "2022-11-17T11:49:35.102Z"
   },
   {
    "duration": 0,
    "start_time": "2022-11-17T11:49:35.103Z"
   },
   {
    "duration": 0,
    "start_time": "2022-11-17T11:49:35.104Z"
   },
   {
    "duration": 0,
    "start_time": "2022-11-17T11:49:35.105Z"
   },
   {
    "duration": 0,
    "start_time": "2022-11-17T11:49:35.106Z"
   },
   {
    "duration": 0,
    "start_time": "2022-11-17T11:49:35.107Z"
   },
   {
    "duration": 0,
    "start_time": "2022-11-17T11:49:35.108Z"
   },
   {
    "duration": 0,
    "start_time": "2022-11-17T11:49:35.109Z"
   },
   {
    "duration": 0,
    "start_time": "2022-11-17T11:49:35.110Z"
   },
   {
    "duration": 0,
    "start_time": "2022-11-17T11:49:35.111Z"
   },
   {
    "duration": 0,
    "start_time": "2022-11-17T11:49:35.112Z"
   },
   {
    "duration": 0,
    "start_time": "2022-11-17T11:49:35.113Z"
   },
   {
    "duration": 0,
    "start_time": "2022-11-17T11:49:35.115Z"
   },
   {
    "duration": 0,
    "start_time": "2022-11-17T11:49:35.115Z"
   },
   {
    "duration": 0,
    "start_time": "2022-11-17T11:49:35.117Z"
   },
   {
    "duration": 0,
    "start_time": "2022-11-17T11:49:35.117Z"
   },
   {
    "duration": 0,
    "start_time": "2022-11-17T11:49:35.119Z"
   },
   {
    "duration": 0,
    "start_time": "2022-11-17T11:49:35.119Z"
   },
   {
    "duration": 0,
    "start_time": "2022-11-17T11:49:35.120Z"
   },
   {
    "duration": 0,
    "start_time": "2022-11-17T11:49:35.121Z"
   },
   {
    "duration": 0,
    "start_time": "2022-11-17T11:49:35.122Z"
   },
   {
    "duration": 0,
    "start_time": "2022-11-17T11:49:35.123Z"
   },
   {
    "duration": 0,
    "start_time": "2022-11-17T11:49:35.124Z"
   },
   {
    "duration": 0,
    "start_time": "2022-11-17T11:49:35.125Z"
   },
   {
    "duration": 0,
    "start_time": "2022-11-17T11:49:35.126Z"
   },
   {
    "duration": 0,
    "start_time": "2022-11-17T11:49:35.127Z"
   },
   {
    "duration": 0,
    "start_time": "2022-11-17T11:49:35.128Z"
   },
   {
    "duration": 0,
    "start_time": "2022-11-17T11:49:35.129Z"
   },
   {
    "duration": 0,
    "start_time": "2022-11-17T11:49:35.130Z"
   },
   {
    "duration": 0,
    "start_time": "2022-11-17T11:49:35.131Z"
   },
   {
    "duration": 0,
    "start_time": "2022-11-17T11:49:35.132Z"
   },
   {
    "duration": 0,
    "start_time": "2022-11-17T11:49:35.133Z"
   },
   {
    "duration": 0,
    "start_time": "2022-11-17T11:49:35.134Z"
   },
   {
    "duration": 0,
    "start_time": "2022-11-17T11:49:35.135Z"
   },
   {
    "duration": 0,
    "start_time": "2022-11-17T11:49:35.198Z"
   },
   {
    "duration": 0,
    "start_time": "2022-11-17T11:49:35.199Z"
   },
   {
    "duration": 0,
    "start_time": "2022-11-17T11:49:35.200Z"
   },
   {
    "duration": 0,
    "start_time": "2022-11-17T11:49:35.201Z"
   },
   {
    "duration": 0,
    "start_time": "2022-11-17T11:49:35.202Z"
   },
   {
    "duration": 0,
    "start_time": "2022-11-17T11:49:35.203Z"
   },
   {
    "duration": 0,
    "start_time": "2022-11-17T11:49:35.204Z"
   },
   {
    "duration": 0,
    "start_time": "2022-11-17T11:49:35.205Z"
   },
   {
    "duration": 0,
    "start_time": "2022-11-17T11:49:35.206Z"
   },
   {
    "duration": 0,
    "start_time": "2022-11-17T11:49:35.207Z"
   },
   {
    "duration": 0,
    "start_time": "2022-11-17T11:49:35.208Z"
   },
   {
    "duration": 4,
    "start_time": "2022-11-17T11:50:32.913Z"
   },
   {
    "duration": 28,
    "start_time": "2022-11-17T11:50:34.282Z"
   },
   {
    "duration": 103,
    "start_time": "2022-11-17T11:50:39.819Z"
   },
   {
    "duration": 44,
    "start_time": "2022-11-17T11:50:39.923Z"
   },
   {
    "duration": 5,
    "start_time": "2022-11-17T11:50:39.969Z"
   },
   {
    "duration": 1712,
    "start_time": "2022-11-17T11:50:39.977Z"
   },
   {
    "duration": 14,
    "start_time": "2022-11-17T11:50:41.691Z"
   },
   {
    "duration": 6,
    "start_time": "2022-11-17T11:50:41.707Z"
   },
   {
    "duration": 8,
    "start_time": "2022-11-17T11:50:41.715Z"
   },
   {
    "duration": 11,
    "start_time": "2022-11-17T11:50:41.725Z"
   },
   {
    "duration": 5,
    "start_time": "2022-11-17T11:50:41.738Z"
   },
   {
    "duration": 8,
    "start_time": "2022-11-17T11:50:41.745Z"
   },
   {
    "duration": 8,
    "start_time": "2022-11-17T11:50:41.755Z"
   },
   {
    "duration": 8,
    "start_time": "2022-11-17T11:50:41.797Z"
   },
   {
    "duration": 6,
    "start_time": "2022-11-17T11:50:41.807Z"
   },
   {
    "duration": 12,
    "start_time": "2022-11-17T11:50:41.814Z"
   },
   {
    "duration": 16,
    "start_time": "2022-11-17T11:50:41.828Z"
   },
   {
    "duration": 12,
    "start_time": "2022-11-17T11:50:41.845Z"
   },
   {
    "duration": 39,
    "start_time": "2022-11-17T11:50:41.858Z"
   },
   {
    "duration": 7,
    "start_time": "2022-11-17T11:50:41.899Z"
   },
   {
    "duration": 9,
    "start_time": "2022-11-17T11:50:41.907Z"
   },
   {
    "duration": 9,
    "start_time": "2022-11-17T11:50:41.917Z"
   },
   {
    "duration": 6,
    "start_time": "2022-11-17T11:50:41.928Z"
   },
   {
    "duration": 5,
    "start_time": "2022-11-17T11:50:41.936Z"
   },
   {
    "duration": 4,
    "start_time": "2022-11-17T11:50:41.943Z"
   },
   {
    "duration": 14,
    "start_time": "2022-11-17T11:50:41.948Z"
   },
   {
    "duration": 42,
    "start_time": "2022-11-17T11:50:41.964Z"
   },
   {
    "duration": 7,
    "start_time": "2022-11-17T11:50:42.007Z"
   },
   {
    "duration": 8,
    "start_time": "2022-11-17T11:50:42.015Z"
   },
   {
    "duration": 14,
    "start_time": "2022-11-17T11:50:42.027Z"
   },
   {
    "duration": 14,
    "start_time": "2022-11-17T11:50:42.043Z"
   },
   {
    "duration": 12,
    "start_time": "2022-11-17T11:50:42.059Z"
   },
   {
    "duration": 7,
    "start_time": "2022-11-17T11:50:42.072Z"
   },
   {
    "duration": 42,
    "start_time": "2022-11-17T11:50:42.080Z"
   },
   {
    "duration": 15,
    "start_time": "2022-11-17T11:50:42.124Z"
   },
   {
    "duration": 171,
    "start_time": "2022-11-17T11:50:42.140Z"
   },
   {
    "duration": 193,
    "start_time": "2022-11-17T11:50:42.313Z"
   },
   {
    "duration": 167,
    "start_time": "2022-11-17T11:50:42.508Z"
   },
   {
    "duration": 6,
    "start_time": "2022-11-17T11:50:42.676Z"
   },
   {
    "duration": 9,
    "start_time": "2022-11-17T11:50:42.684Z"
   },
   {
    "duration": 7,
    "start_time": "2022-11-17T11:50:42.697Z"
   },
   {
    "duration": 170,
    "start_time": "2022-11-17T11:50:42.706Z"
   },
   {
    "duration": 175,
    "start_time": "2022-11-17T11:50:42.878Z"
   },
   {
    "duration": 179,
    "start_time": "2022-11-17T11:50:43.055Z"
   },
   {
    "duration": 163,
    "start_time": "2022-11-17T11:50:43.235Z"
   },
   {
    "duration": 160,
    "start_time": "2022-11-17T11:50:43.399Z"
   },
   {
    "duration": 169,
    "start_time": "2022-11-17T11:50:43.560Z"
   },
   {
    "duration": 168,
    "start_time": "2022-11-17T11:50:43.731Z"
   },
   {
    "duration": 177,
    "start_time": "2022-11-17T11:50:43.901Z"
   },
   {
    "duration": 176,
    "start_time": "2022-11-17T11:50:44.080Z"
   },
   {
    "duration": 199,
    "start_time": "2022-11-17T11:50:44.257Z"
   },
   {
    "duration": 177,
    "start_time": "2022-11-17T11:50:44.458Z"
   },
   {
    "duration": 6,
    "start_time": "2022-11-17T11:50:44.636Z"
   },
   {
    "duration": 97,
    "start_time": "2022-11-17T11:50:44.644Z"
   },
   {
    "duration": 13,
    "start_time": "2022-11-17T11:50:44.743Z"
   },
   {
    "duration": 59,
    "start_time": "2022-11-17T11:50:44.758Z"
   },
   {
    "duration": 8,
    "start_time": "2022-11-17T11:51:27.187Z"
   },
   {
    "duration": 9,
    "start_time": "2022-11-17T11:51:30.555Z"
   },
   {
    "duration": 58,
    "start_time": "2022-11-17T11:53:09.371Z"
   },
   {
    "duration": 23,
    "start_time": "2022-11-17T11:53:09.431Z"
   },
   {
    "duration": 1988,
    "start_time": "2022-11-17T11:53:09.455Z"
   },
   {
    "duration": 9,
    "start_time": "2022-11-17T11:53:11.444Z"
   },
   {
    "duration": 22,
    "start_time": "2022-11-17T11:53:11.455Z"
   },
   {
    "duration": 15,
    "start_time": "2022-11-17T11:53:11.480Z"
   },
   {
    "duration": 62,
    "start_time": "2022-11-17T11:53:11.498Z"
   },
   {
    "duration": 24,
    "start_time": "2022-11-17T11:53:11.562Z"
   },
   {
    "duration": 34,
    "start_time": "2022-11-17T11:53:11.588Z"
   },
   {
    "duration": 29,
    "start_time": "2022-11-17T11:53:11.624Z"
   },
   {
    "duration": 27,
    "start_time": "2022-11-17T11:53:11.655Z"
   },
   {
    "duration": 36,
    "start_time": "2022-11-17T11:53:11.683Z"
   },
   {
    "duration": 25,
    "start_time": "2022-11-17T11:53:11.721Z"
   },
   {
    "duration": 20,
    "start_time": "2022-11-17T11:53:11.747Z"
   },
   {
    "duration": 12,
    "start_time": "2022-11-17T11:53:11.769Z"
   },
   {
    "duration": 44,
    "start_time": "2022-11-17T11:53:11.782Z"
   },
   {
    "duration": 25,
    "start_time": "2022-11-17T11:53:11.827Z"
   },
   {
    "duration": 10,
    "start_time": "2022-11-17T11:53:11.854Z"
   },
   {
    "duration": 16,
    "start_time": "2022-11-17T11:53:11.865Z"
   },
   {
    "duration": 24,
    "start_time": "2022-11-17T11:53:11.883Z"
   },
   {
    "duration": 20,
    "start_time": "2022-11-17T11:53:11.909Z"
   },
   {
    "duration": 29,
    "start_time": "2022-11-17T11:53:11.931Z"
   },
   {
    "duration": 55,
    "start_time": "2022-11-17T11:53:11.962Z"
   },
   {
    "duration": 48,
    "start_time": "2022-11-17T11:53:12.023Z"
   },
   {
    "duration": 14,
    "start_time": "2022-11-17T11:53:12.074Z"
   },
   {
    "duration": 19,
    "start_time": "2022-11-17T11:53:12.090Z"
   },
   {
    "duration": 25,
    "start_time": "2022-11-17T11:53:12.111Z"
   },
   {
    "duration": 26,
    "start_time": "2022-11-17T11:53:12.138Z"
   },
   {
    "duration": 28,
    "start_time": "2022-11-17T11:53:12.165Z"
   },
   {
    "duration": 8,
    "start_time": "2022-11-17T11:53:12.195Z"
   },
   {
    "duration": 52,
    "start_time": "2022-11-17T11:53:12.205Z"
   },
   {
    "duration": 29,
    "start_time": "2022-11-17T11:53:12.259Z"
   },
   {
    "duration": 167,
    "start_time": "2022-11-17T11:53:12.291Z"
   },
   {
    "duration": 202,
    "start_time": "2022-11-17T11:53:12.461Z"
   },
   {
    "duration": 194,
    "start_time": "2022-11-17T11:53:12.664Z"
   },
   {
    "duration": 6,
    "start_time": "2022-11-17T11:53:12.860Z"
   },
   {
    "duration": 38,
    "start_time": "2022-11-17T11:53:12.867Z"
   },
   {
    "duration": 50,
    "start_time": "2022-11-17T11:53:12.906Z"
   },
   {
    "duration": 230,
    "start_time": "2022-11-17T11:53:12.958Z"
   },
   {
    "duration": 218,
    "start_time": "2022-11-17T11:53:13.190Z"
   },
   {
    "duration": 199,
    "start_time": "2022-11-17T11:53:13.410Z"
   },
   {
    "duration": 176,
    "start_time": "2022-11-17T11:53:13.611Z"
   },
   {
    "duration": 196,
    "start_time": "2022-11-17T11:53:13.789Z"
   },
   {
    "duration": 178,
    "start_time": "2022-11-17T11:53:13.987Z"
   },
   {
    "duration": 176,
    "start_time": "2022-11-17T11:53:14.166Z"
   },
   {
    "duration": 185,
    "start_time": "2022-11-17T11:53:14.344Z"
   },
   {
    "duration": 209,
    "start_time": "2022-11-17T11:53:14.531Z"
   },
   {
    "duration": 241,
    "start_time": "2022-11-17T11:53:14.742Z"
   },
   {
    "duration": 203,
    "start_time": "2022-11-17T11:53:14.984Z"
   },
   {
    "duration": 12,
    "start_time": "2022-11-17T11:53:15.188Z"
   },
   {
    "duration": 67,
    "start_time": "2022-11-17T11:53:15.202Z"
   },
   {
    "duration": 12,
    "start_time": "2022-11-17T11:53:15.271Z"
   },
   {
    "duration": 29,
    "start_time": "2022-11-17T11:53:15.285Z"
   },
   {
    "duration": 83,
    "start_time": "2022-11-17T11:53:15.444Z"
   },
   {
    "duration": 38,
    "start_time": "2022-11-17T11:53:15.529Z"
   },
   {
    "duration": 49,
    "start_time": "2022-11-17T11:53:15.571Z"
   },
   {
    "duration": 1815,
    "start_time": "2022-11-17T11:53:15.622Z"
   },
   {
    "duration": 92,
    "start_time": "2022-11-17T11:53:18.816Z"
   },
   {
    "duration": 40,
    "start_time": "2022-11-17T11:53:18.911Z"
   },
   {
    "duration": 12,
    "start_time": "2022-11-17T11:53:18.953Z"
   },
   {
    "duration": 1935,
    "start_time": "2022-11-17T11:53:18.967Z"
   },
   {
    "duration": 14,
    "start_time": "2022-11-17T11:53:20.904Z"
   },
   {
    "duration": 29,
    "start_time": "2022-11-17T11:53:20.920Z"
   },
   {
    "duration": 13,
    "start_time": "2022-11-17T11:53:20.950Z"
   },
   {
    "duration": 23,
    "start_time": "2022-11-17T11:53:20.965Z"
   },
   {
    "duration": 25,
    "start_time": "2022-11-17T11:53:20.990Z"
   },
   {
    "duration": 24,
    "start_time": "2022-11-17T11:53:21.018Z"
   },
   {
    "duration": 20,
    "start_time": "2022-11-17T11:53:21.044Z"
   },
   {
    "duration": 37,
    "start_time": "2022-11-17T11:53:21.066Z"
   },
   {
    "duration": 20,
    "start_time": "2022-11-17T11:53:21.104Z"
   },
   {
    "duration": 32,
    "start_time": "2022-11-17T11:53:21.127Z"
   },
   {
    "duration": 30,
    "start_time": "2022-11-17T11:53:21.160Z"
   },
   {
    "duration": 23,
    "start_time": "2022-11-17T11:53:21.192Z"
   },
   {
    "duration": 25,
    "start_time": "2022-11-17T11:53:21.216Z"
   },
   {
    "duration": 20,
    "start_time": "2022-11-17T11:53:21.243Z"
   },
   {
    "duration": 11,
    "start_time": "2022-11-17T11:53:21.265Z"
   },
   {
    "duration": 29,
    "start_time": "2022-11-17T11:53:21.277Z"
   },
   {
    "duration": 14,
    "start_time": "2022-11-17T11:53:21.308Z"
   },
   {
    "duration": 22,
    "start_time": "2022-11-17T11:53:21.324Z"
   },
   {
    "duration": 33,
    "start_time": "2022-11-17T11:53:21.347Z"
   },
   {
    "duration": 15,
    "start_time": "2022-11-17T11:53:21.382Z"
   },
   {
    "duration": 56,
    "start_time": "2022-11-17T11:53:21.398Z"
   },
   {
    "duration": 27,
    "start_time": "2022-11-17T11:53:21.456Z"
   },
   {
    "duration": 18,
    "start_time": "2022-11-17T11:53:21.485Z"
   },
   {
    "duration": 38,
    "start_time": "2022-11-17T11:53:21.508Z"
   },
   {
    "duration": 30,
    "start_time": "2022-11-17T11:53:21.548Z"
   },
   {
    "duration": 32,
    "start_time": "2022-11-17T11:53:21.581Z"
   },
   {
    "duration": 31,
    "start_time": "2022-11-17T11:53:21.615Z"
   },
   {
    "duration": 42,
    "start_time": "2022-11-17T11:53:21.648Z"
   },
   {
    "duration": 40,
    "start_time": "2022-11-17T11:53:21.692Z"
   },
   {
    "duration": 182,
    "start_time": "2022-11-17T11:53:21.734Z"
   },
   {
    "duration": 190,
    "start_time": "2022-11-17T11:53:21.918Z"
   },
   {
    "duration": 162,
    "start_time": "2022-11-17T11:53:22.110Z"
   },
   {
    "duration": 6,
    "start_time": "2022-11-17T11:53:22.274Z"
   },
   {
    "duration": 3,
    "start_time": "2022-11-17T11:53:22.282Z"
   },
   {
    "duration": 5,
    "start_time": "2022-11-17T11:53:22.298Z"
   },
   {
    "duration": 192,
    "start_time": "2022-11-17T11:53:22.305Z"
   },
   {
    "duration": 169,
    "start_time": "2022-11-17T11:53:22.498Z"
   },
   {
    "duration": 188,
    "start_time": "2022-11-17T11:53:22.669Z"
   },
   {
    "duration": 160,
    "start_time": "2022-11-17T11:53:22.859Z"
   },
   {
    "duration": 174,
    "start_time": "2022-11-17T11:53:23.021Z"
   },
   {
    "duration": 170,
    "start_time": "2022-11-17T11:53:23.197Z"
   },
   {
    "duration": 166,
    "start_time": "2022-11-17T11:53:23.369Z"
   },
   {
    "duration": 173,
    "start_time": "2022-11-17T11:53:23.537Z"
   },
   {
    "duration": 170,
    "start_time": "2022-11-17T11:53:23.712Z"
   },
   {
    "duration": 199,
    "start_time": "2022-11-17T11:53:23.884Z"
   },
   {
    "duration": 164,
    "start_time": "2022-11-17T11:53:24.084Z"
   },
   {
    "duration": 5,
    "start_time": "2022-11-17T11:53:24.249Z"
   },
   {
    "duration": 33,
    "start_time": "2022-11-17T11:53:24.256Z"
   },
   {
    "duration": 3,
    "start_time": "2022-11-17T11:53:24.298Z"
   },
   {
    "duration": 15,
    "start_time": "2022-11-17T11:53:24.303Z"
   },
   {
    "duration": 12,
    "start_time": "2022-11-17T11:54:39.135Z"
   },
   {
    "duration": 8,
    "start_time": "2022-11-17T11:54:45.903Z"
   },
   {
    "duration": 15,
    "start_time": "2022-11-17T11:54:52.349Z"
   },
   {
    "duration": 49,
    "start_time": "2022-11-17T11:55:26.231Z"
   },
   {
    "duration": 8,
    "start_time": "2022-11-17T11:55:30.886Z"
   },
   {
    "duration": 502,
    "start_time": "2022-11-17T11:55:33.575Z"
   },
   {
    "duration": 40,
    "start_time": "2022-11-17T11:55:34.967Z"
   },
   {
    "duration": 13,
    "start_time": "2022-11-17T11:55:46.632Z"
   },
   {
    "duration": 324,
    "start_time": "2022-11-17T11:55:51.592Z"
   },
   {
    "duration": 156,
    "start_time": "2022-11-17T11:56:28.572Z"
   },
   {
    "duration": 16,
    "start_time": "2022-11-17T11:56:36.832Z"
   },
   {
    "duration": 137,
    "start_time": "2022-11-17T11:58:34.999Z"
   },
   {
    "duration": 36,
    "start_time": "2022-11-17T11:58:35.138Z"
   },
   {
    "duration": 25,
    "start_time": "2022-11-17T11:58:35.176Z"
   },
   {
    "duration": 1724,
    "start_time": "2022-11-17T11:58:35.203Z"
   },
   {
    "duration": 8,
    "start_time": "2022-11-17T11:58:36.929Z"
   },
   {
    "duration": 62,
    "start_time": "2022-11-17T11:58:36.939Z"
   },
   {
    "duration": 40,
    "start_time": "2022-11-17T11:58:37.003Z"
   },
   {
    "duration": 75,
    "start_time": "2022-11-17T11:58:37.045Z"
   },
   {
    "duration": 55,
    "start_time": "2022-11-17T11:58:37.122Z"
   },
   {
    "duration": 25,
    "start_time": "2022-11-17T11:58:37.179Z"
   },
   {
    "duration": 54,
    "start_time": "2022-11-17T11:58:37.205Z"
   },
   {
    "duration": 22,
    "start_time": "2022-11-17T11:58:37.260Z"
   },
   {
    "duration": 27,
    "start_time": "2022-11-17T11:58:37.284Z"
   },
   {
    "duration": 52,
    "start_time": "2022-11-17T11:58:37.312Z"
   },
   {
    "duration": 26,
    "start_time": "2022-11-17T11:58:37.366Z"
   },
   {
    "duration": 10,
    "start_time": "2022-11-17T11:58:37.394Z"
   },
   {
    "duration": 44,
    "start_time": "2022-11-17T11:58:37.406Z"
   },
   {
    "duration": 54,
    "start_time": "2022-11-17T11:58:37.451Z"
   },
   {
    "duration": 52,
    "start_time": "2022-11-17T11:58:37.506Z"
   },
   {
    "duration": 53,
    "start_time": "2022-11-17T11:58:37.560Z"
   },
   {
    "duration": 21,
    "start_time": "2022-11-17T11:58:37.615Z"
   },
   {
    "duration": 41,
    "start_time": "2022-11-17T11:58:37.637Z"
   },
   {
    "duration": 25,
    "start_time": "2022-11-17T11:58:37.680Z"
   },
   {
    "duration": 63,
    "start_time": "2022-11-17T11:58:37.707Z"
   },
   {
    "duration": 66,
    "start_time": "2022-11-17T11:58:37.771Z"
   },
   {
    "duration": 61,
    "start_time": "2022-11-17T11:58:37.838Z"
   },
   {
    "duration": 56,
    "start_time": "2022-11-17T11:58:37.901Z"
   },
   {
    "duration": 84,
    "start_time": "2022-11-17T11:58:37.959Z"
   },
   {
    "duration": 69,
    "start_time": "2022-11-17T11:58:38.045Z"
   },
   {
    "duration": 25,
    "start_time": "2022-11-17T11:58:38.115Z"
   },
   {
    "duration": 57,
    "start_time": "2022-11-17T11:58:38.142Z"
   },
   {
    "duration": 65,
    "start_time": "2022-11-17T11:58:38.200Z"
   },
   {
    "duration": 67,
    "start_time": "2022-11-17T11:58:38.266Z"
   },
   {
    "duration": 182,
    "start_time": "2022-11-17T11:58:38.335Z"
   },
   {
    "duration": 181,
    "start_time": "2022-11-17T11:58:38.518Z"
   },
   {
    "duration": 166,
    "start_time": "2022-11-17T11:58:38.701Z"
   },
   {
    "duration": 6,
    "start_time": "2022-11-17T11:58:38.869Z"
   },
   {
    "duration": 36,
    "start_time": "2022-11-17T11:58:38.877Z"
   },
   {
    "duration": 51,
    "start_time": "2022-11-17T11:58:38.914Z"
   },
   {
    "duration": 205,
    "start_time": "2022-11-17T11:58:38.967Z"
   },
   {
    "duration": 193,
    "start_time": "2022-11-17T11:58:39.174Z"
   },
   {
    "duration": 181,
    "start_time": "2022-11-17T11:58:39.368Z"
   },
   {
    "duration": 149,
    "start_time": "2022-11-17T11:58:39.550Z"
   },
   {
    "duration": 163,
    "start_time": "2022-11-17T11:58:39.701Z"
   },
   {
    "duration": 182,
    "start_time": "2022-11-17T11:58:39.866Z"
   },
   {
    "duration": 187,
    "start_time": "2022-11-17T11:58:40.050Z"
   },
   {
    "duration": 165,
    "start_time": "2022-11-17T11:58:40.239Z"
   },
   {
    "duration": 125,
    "start_time": "2022-11-17T11:58:41.176Z"
   },
   {
    "duration": 34,
    "start_time": "2022-11-17T11:58:41.303Z"
   },
   {
    "duration": 7,
    "start_time": "2022-11-17T11:58:41.339Z"
   },
   {
    "duration": 1653,
    "start_time": "2022-11-17T11:58:41.348Z"
   },
   {
    "duration": 10,
    "start_time": "2022-11-17T11:58:43.003Z"
   },
   {
    "duration": 39,
    "start_time": "2022-11-17T11:58:43.015Z"
   },
   {
    "duration": 26,
    "start_time": "2022-11-17T11:58:43.055Z"
   },
   {
    "duration": 32,
    "start_time": "2022-11-17T11:58:43.083Z"
   },
   {
    "duration": 33,
    "start_time": "2022-11-17T11:58:43.117Z"
   },
   {
    "duration": 18,
    "start_time": "2022-11-17T11:58:43.152Z"
   },
   {
    "duration": 34,
    "start_time": "2022-11-17T11:58:43.172Z"
   },
   {
    "duration": 20,
    "start_time": "2022-11-17T11:58:43.207Z"
   },
   {
    "duration": 31,
    "start_time": "2022-11-17T11:58:43.229Z"
   },
   {
    "duration": 40,
    "start_time": "2022-11-17T11:58:43.262Z"
   },
   {
    "duration": 22,
    "start_time": "2022-11-17T11:58:43.304Z"
   },
   {
    "duration": 41,
    "start_time": "2022-11-17T11:58:43.328Z"
   },
   {
    "duration": 40,
    "start_time": "2022-11-17T11:58:43.371Z"
   },
   {
    "duration": 42,
    "start_time": "2022-11-17T11:58:43.413Z"
   },
   {
    "duration": 30,
    "start_time": "2022-11-17T11:58:43.457Z"
   },
   {
    "duration": 21,
    "start_time": "2022-11-17T11:58:43.489Z"
   },
   {
    "duration": 38,
    "start_time": "2022-11-17T11:58:43.511Z"
   },
   {
    "duration": 32,
    "start_time": "2022-11-17T11:58:43.551Z"
   },
   {
    "duration": 31,
    "start_time": "2022-11-17T11:58:43.584Z"
   },
   {
    "duration": 31,
    "start_time": "2022-11-17T11:58:43.616Z"
   },
   {
    "duration": 48,
    "start_time": "2022-11-17T11:58:43.649Z"
   },
   {
    "duration": 10,
    "start_time": "2022-11-17T11:58:43.699Z"
   },
   {
    "duration": 33,
    "start_time": "2022-11-17T11:58:43.710Z"
   },
   {
    "duration": 47,
    "start_time": "2022-11-17T11:58:43.744Z"
   },
   {
    "duration": 52,
    "start_time": "2022-11-17T11:58:43.793Z"
   },
   {
    "duration": 27,
    "start_time": "2022-11-17T11:58:43.847Z"
   },
   {
    "duration": 32,
    "start_time": "2022-11-17T11:58:43.876Z"
   },
   {
    "duration": 66,
    "start_time": "2022-11-17T11:58:43.910Z"
   },
   {
    "duration": 60,
    "start_time": "2022-11-17T11:58:43.977Z"
   },
   {
    "duration": 163,
    "start_time": "2022-11-17T11:58:44.038Z"
   },
   {
    "duration": 174,
    "start_time": "2022-11-17T11:58:44.202Z"
   },
   {
    "duration": 184,
    "start_time": "2022-11-17T11:58:44.378Z"
   },
   {
    "duration": 8,
    "start_time": "2022-11-17T11:58:44.564Z"
   },
   {
    "duration": 42,
    "start_time": "2022-11-17T11:58:44.574Z"
   },
   {
    "duration": 36,
    "start_time": "2022-11-17T11:58:44.617Z"
   },
   {
    "duration": 221,
    "start_time": "2022-11-17T11:58:44.655Z"
   },
   {
    "duration": 168,
    "start_time": "2022-11-17T11:58:44.878Z"
   },
   {
    "duration": 170,
    "start_time": "2022-11-17T11:58:45.048Z"
   },
   {
    "duration": 151,
    "start_time": "2022-11-17T11:58:45.220Z"
   },
   {
    "duration": 165,
    "start_time": "2022-11-17T11:58:45.373Z"
   },
   {
    "duration": 176,
    "start_time": "2022-11-17T11:58:45.540Z"
   },
   {
    "duration": 160,
    "start_time": "2022-11-17T11:58:45.718Z"
   },
   {
    "duration": 187,
    "start_time": "2022-11-17T11:58:45.880Z"
   },
   {
    "duration": 162,
    "start_time": "2022-11-17T11:58:46.069Z"
   },
   {
    "duration": 183,
    "start_time": "2022-11-17T11:58:46.233Z"
   },
   {
    "duration": 161,
    "start_time": "2022-11-17T11:58:46.418Z"
   },
   {
    "duration": 4,
    "start_time": "2022-11-17T11:58:46.581Z"
   },
   {
    "duration": 42,
    "start_time": "2022-11-17T11:58:46.598Z"
   },
   {
    "duration": 31,
    "start_time": "2022-11-17T11:58:46.641Z"
   },
   {
    "duration": 18,
    "start_time": "2022-11-17T11:58:46.674Z"
   },
   {
    "duration": 36,
    "start_time": "2022-11-17T11:58:46.693Z"
   },
   {
    "duration": 28530,
    "start_time": "2022-11-17T11:59:36.227Z"
   },
   {
    "duration": 109,
    "start_time": "2022-11-17T12:00:04.760Z"
   },
   {
    "duration": 41,
    "start_time": "2022-11-17T12:00:04.870Z"
   },
   {
    "duration": 15,
    "start_time": "2022-11-17T12:00:04.912Z"
   },
   {
    "duration": 1758,
    "start_time": "2022-11-17T12:00:04.928Z"
   },
   {
    "duration": 14,
    "start_time": "2022-11-17T12:00:06.687Z"
   },
   {
    "duration": 52,
    "start_time": "2022-11-17T12:00:06.703Z"
   },
   {
    "duration": 17,
    "start_time": "2022-11-17T12:00:06.756Z"
   },
   {
    "duration": 27,
    "start_time": "2022-11-17T12:00:06.775Z"
   },
   {
    "duration": 43,
    "start_time": "2022-11-17T12:00:06.805Z"
   },
   {
    "duration": 26,
    "start_time": "2022-11-17T12:00:06.850Z"
   },
   {
    "duration": 31,
    "start_time": "2022-11-17T12:00:06.877Z"
   },
   {
    "duration": 19,
    "start_time": "2022-11-17T12:00:06.910Z"
   },
   {
    "duration": 36,
    "start_time": "2022-11-17T12:00:06.931Z"
   },
   {
    "duration": 37,
    "start_time": "2022-11-17T12:00:06.968Z"
   },
   {
    "duration": 37,
    "start_time": "2022-11-17T12:00:07.006Z"
   },
   {
    "duration": 31,
    "start_time": "2022-11-17T12:00:07.045Z"
   },
   {
    "duration": 30,
    "start_time": "2022-11-17T12:00:07.077Z"
   },
   {
    "duration": 31,
    "start_time": "2022-11-17T12:00:07.108Z"
   },
   {
    "duration": 27,
    "start_time": "2022-11-17T12:00:07.141Z"
   },
   {
    "duration": 30,
    "start_time": "2022-11-17T12:00:07.169Z"
   },
   {
    "duration": 37,
    "start_time": "2022-11-17T12:00:07.201Z"
   },
   {
    "duration": 21,
    "start_time": "2022-11-17T12:00:07.240Z"
   },
   {
    "duration": 37,
    "start_time": "2022-11-17T12:00:07.263Z"
   },
   {
    "duration": 40,
    "start_time": "2022-11-17T12:00:07.302Z"
   },
   {
    "duration": 50,
    "start_time": "2022-11-17T12:00:07.344Z"
   },
   {
    "duration": 21,
    "start_time": "2022-11-17T12:00:07.396Z"
   },
   {
    "duration": 25,
    "start_time": "2022-11-17T12:00:07.420Z"
   },
   {
    "duration": 36,
    "start_time": "2022-11-17T12:00:07.446Z"
   },
   {
    "duration": 41,
    "start_time": "2022-11-17T12:00:07.484Z"
   },
   {
    "duration": 23,
    "start_time": "2022-11-17T12:00:07.527Z"
   },
   {
    "duration": 28,
    "start_time": "2022-11-17T12:00:07.552Z"
   },
   {
    "duration": 42,
    "start_time": "2022-11-17T12:00:07.582Z"
   },
   {
    "duration": 22,
    "start_time": "2022-11-17T12:00:07.625Z"
   },
   {
    "duration": 146,
    "start_time": "2022-11-17T12:00:07.648Z"
   },
   {
    "duration": 187,
    "start_time": "2022-11-17T12:00:07.796Z"
   },
   {
    "duration": 175,
    "start_time": "2022-11-17T12:00:07.984Z"
   },
   {
    "duration": 7,
    "start_time": "2022-11-17T12:00:08.161Z"
   },
   {
    "duration": 45,
    "start_time": "2022-11-17T12:00:08.169Z"
   },
   {
    "duration": 51,
    "start_time": "2022-11-17T12:00:08.216Z"
   },
   {
    "duration": 199,
    "start_time": "2022-11-17T12:00:08.269Z"
   },
   {
    "duration": 180,
    "start_time": "2022-11-17T12:00:08.470Z"
   },
   {
    "duration": 171,
    "start_time": "2022-11-17T12:00:08.653Z"
   },
   {
    "duration": 157,
    "start_time": "2022-11-17T12:00:08.825Z"
   },
   {
    "duration": 179,
    "start_time": "2022-11-17T12:00:08.984Z"
   },
   {
    "duration": 170,
    "start_time": "2022-11-17T12:00:09.164Z"
   },
   {
    "duration": 171,
    "start_time": "2022-11-17T12:00:09.336Z"
   },
   {
    "duration": 175,
    "start_time": "2022-11-17T12:00:09.508Z"
   },
   {
    "duration": 162,
    "start_time": "2022-11-17T12:00:09.685Z"
   },
   {
    "duration": 221,
    "start_time": "2022-11-17T12:00:09.849Z"
   },
   {
    "duration": 180,
    "start_time": "2022-11-17T12:00:10.072Z"
   },
   {
    "duration": 6,
    "start_time": "2022-11-17T12:00:10.254Z"
   },
   {
    "duration": 55,
    "start_time": "2022-11-17T12:00:10.262Z"
   },
   {
    "duration": 4,
    "start_time": "2022-11-17T12:00:10.318Z"
   },
   {
    "duration": 425,
    "start_time": "2022-11-17T12:01:00.550Z"
   },
   {
    "duration": 410,
    "start_time": "2022-11-17T12:01:06.168Z"
   },
   {
    "duration": 9,
    "start_time": "2022-11-17T12:03:08.153Z"
   },
   {
    "duration": 14,
    "start_time": "2022-11-17T12:03:12.072Z"
   },
   {
    "duration": 4,
    "start_time": "2022-11-17T12:03:18.033Z"
   },
   {
    "duration": 152,
    "start_time": "2022-11-17T12:03:20.407Z"
   },
   {
    "duration": 434,
    "start_time": "2022-11-17T12:03:24.052Z"
   },
   {
    "duration": 9,
    "start_time": "2022-11-17T12:03:32.169Z"
   },
   {
    "duration": 122,
    "start_time": "2022-11-17T12:03:36.617Z"
   },
   {
    "duration": 10,
    "start_time": "2022-11-17T12:03:49.111Z"
   },
   {
    "duration": 10,
    "start_time": "2022-11-17T12:04:05.240Z"
   },
   {
    "duration": 154,
    "start_time": "2022-11-17T12:04:19.588Z"
   },
   {
    "duration": 166,
    "start_time": "2022-11-17T12:04:33.931Z"
   },
   {
    "duration": 167,
    "start_time": "2022-11-17T12:04:41.916Z"
   },
   {
    "duration": 10,
    "start_time": "2022-11-17T12:05:04.586Z"
   },
   {
    "duration": 4,
    "start_time": "2022-11-17T12:05:07.698Z"
   },
   {
    "duration": 14,
    "start_time": "2022-11-17T12:05:19.811Z"
   },
   {
    "duration": 14,
    "start_time": "2022-11-17T12:05:27.939Z"
   },
   {
    "duration": 13,
    "start_time": "2022-11-17T12:05:29.602Z"
   },
   {
    "duration": 14,
    "start_time": "2022-11-17T12:05:32.158Z"
   },
   {
    "duration": 100,
    "start_time": "2022-11-17T12:06:13.452Z"
   },
   {
    "duration": 157,
    "start_time": "2022-11-17T12:06:17.587Z"
   },
   {
    "duration": 13,
    "start_time": "2022-11-17T12:06:37.978Z"
   },
   {
    "duration": 55,
    "start_time": "2022-11-17T12:07:01.261Z"
   },
   {
    "duration": 52,
    "start_time": "2022-11-17T12:07:04.299Z"
   },
   {
    "duration": 12,
    "start_time": "2022-11-17T12:07:09.243Z"
   },
   {
    "duration": 985,
    "start_time": "2022-11-17T12:07:20.621Z"
   },
   {
    "duration": 4,
    "start_time": "2022-11-17T12:07:54.989Z"
   },
   {
    "duration": 160,
    "start_time": "2022-11-17T12:08:01.477Z"
   },
   {
    "duration": 27,
    "start_time": "2022-11-17T12:08:39.646Z"
   },
   {
    "duration": 29,
    "start_time": "2022-11-17T12:08:43.742Z"
   },
   {
    "duration": 109,
    "start_time": "2022-11-17T12:08:46.944Z"
   },
   {
    "duration": 53,
    "start_time": "2022-11-17T12:08:47.054Z"
   },
   {
    "duration": 5,
    "start_time": "2022-11-17T12:08:47.108Z"
   },
   {
    "duration": 1746,
    "start_time": "2022-11-17T12:08:47.115Z"
   },
   {
    "duration": 9,
    "start_time": "2022-11-17T12:08:48.863Z"
   },
   {
    "duration": 6,
    "start_time": "2022-11-17T12:08:48.873Z"
   },
   {
    "duration": 7,
    "start_time": "2022-11-17T12:08:48.897Z"
   },
   {
    "duration": 9,
    "start_time": "2022-11-17T12:08:48.905Z"
   },
   {
    "duration": 4,
    "start_time": "2022-11-17T12:08:48.915Z"
   },
   {
    "duration": 4,
    "start_time": "2022-11-17T12:08:48.922Z"
   },
   {
    "duration": 9,
    "start_time": "2022-11-17T12:08:48.927Z"
   },
   {
    "duration": 8,
    "start_time": "2022-11-17T12:08:48.937Z"
   },
   {
    "duration": 7,
    "start_time": "2022-11-17T12:08:48.946Z"
   },
   {
    "duration": 50,
    "start_time": "2022-11-17T12:08:48.955Z"
   },
   {
    "duration": 13,
    "start_time": "2022-11-17T12:08:49.007Z"
   },
   {
    "duration": 11,
    "start_time": "2022-11-17T12:08:49.021Z"
   },
   {
    "duration": 20,
    "start_time": "2022-11-17T12:08:49.034Z"
   },
   {
    "duration": 5,
    "start_time": "2022-11-17T12:08:49.056Z"
   },
   {
    "duration": 34,
    "start_time": "2022-11-17T12:08:49.063Z"
   },
   {
    "duration": 6,
    "start_time": "2022-11-17T12:08:49.099Z"
   },
   {
    "duration": 8,
    "start_time": "2022-11-17T12:08:49.107Z"
   },
   {
    "duration": 7,
    "start_time": "2022-11-17T12:08:49.116Z"
   },
   {
    "duration": 13,
    "start_time": "2022-11-17T12:08:49.125Z"
   },
   {
    "duration": 9,
    "start_time": "2022-11-17T12:08:49.140Z"
   },
   {
    "duration": 26,
    "start_time": "2022-11-17T12:08:49.151Z"
   },
   {
    "duration": 23,
    "start_time": "2022-11-17T12:08:49.179Z"
   },
   {
    "duration": 7,
    "start_time": "2022-11-17T12:08:49.204Z"
   },
   {
    "duration": 13,
    "start_time": "2022-11-17T12:08:49.215Z"
   },
   {
    "duration": 7,
    "start_time": "2022-11-17T12:08:49.230Z"
   },
   {
    "duration": 8,
    "start_time": "2022-11-17T12:08:49.238Z"
   },
   {
    "duration": 5,
    "start_time": "2022-11-17T12:08:49.248Z"
   },
   {
    "duration": 51,
    "start_time": "2022-11-17T12:08:49.254Z"
   },
   {
    "duration": 15,
    "start_time": "2022-11-17T12:08:49.307Z"
   },
   {
    "duration": 155,
    "start_time": "2022-11-17T12:08:49.323Z"
   },
   {
    "duration": 184,
    "start_time": "2022-11-17T12:08:49.480Z"
   },
   {
    "duration": 182,
    "start_time": "2022-11-17T12:08:49.666Z"
   },
   {
    "duration": 7,
    "start_time": "2022-11-17T12:08:49.850Z"
   },
   {
    "duration": 21,
    "start_time": "2022-11-17T12:08:49.859Z"
   },
   {
    "duration": 35,
    "start_time": "2022-11-17T12:08:49.881Z"
   },
   {
    "duration": 225,
    "start_time": "2022-11-17T12:08:49.918Z"
   },
   {
    "duration": 182,
    "start_time": "2022-11-17T12:08:50.145Z"
   },
   {
    "duration": 170,
    "start_time": "2022-11-17T12:08:50.329Z"
   },
   {
    "duration": 157,
    "start_time": "2022-11-17T12:08:50.501Z"
   },
   {
    "duration": 168,
    "start_time": "2022-11-17T12:08:50.659Z"
   },
   {
    "duration": 175,
    "start_time": "2022-11-17T12:08:50.828Z"
   },
   {
    "duration": 178,
    "start_time": "2022-11-17T12:08:51.005Z"
   },
   {
    "duration": 179,
    "start_time": "2022-11-17T12:08:51.185Z"
   },
   {
    "duration": 165,
    "start_time": "2022-11-17T12:08:51.366Z"
   },
   {
    "duration": 197,
    "start_time": "2022-11-17T12:08:51.533Z"
   },
   {
    "duration": 163,
    "start_time": "2022-11-17T12:08:51.732Z"
   },
   {
    "duration": 5,
    "start_time": "2022-11-17T12:08:51.896Z"
   },
   {
    "duration": 30,
    "start_time": "2022-11-17T12:08:54.231Z"
   },
   {
    "duration": 22,
    "start_time": "2022-11-17T12:09:11.111Z"
   },
   {
    "duration": 21,
    "start_time": "2022-11-17T12:09:25.191Z"
   },
   {
    "duration": 21,
    "start_time": "2022-11-17T12:09:35.431Z"
   },
   {
    "duration": 25,
    "start_time": "2022-11-17T12:09:48.816Z"
   },
   {
    "duration": 23,
    "start_time": "2022-11-17T12:10:12.671Z"
   },
   {
    "duration": 13,
    "start_time": "2022-11-17T12:10:14.408Z"
   },
   {
    "duration": 5,
    "start_time": "2022-11-17T12:10:16.512Z"
   },
   {
    "duration": 9,
    "start_time": "2022-11-17T12:10:17.822Z"
   },
   {
    "duration": 5,
    "start_time": "2022-11-17T12:10:19.167Z"
   },
   {
    "duration": 5,
    "start_time": "2022-11-17T12:10:20.088Z"
   },
   {
    "duration": 538,
    "start_time": "2022-11-17T12:10:23.808Z"
   },
   {
    "duration": 162,
    "start_time": "2022-11-17T12:10:35.560Z"
   },
   {
    "duration": 271,
    "start_time": "2022-11-17T12:10:48.520Z"
   },
   {
    "duration": 231,
    "start_time": "2022-11-17T12:10:56.072Z"
   },
   {
    "duration": 288,
    "start_time": "2022-11-17T12:11:03.000Z"
   },
   {
    "duration": 129,
    "start_time": "2022-11-17T12:13:07.578Z"
   },
   {
    "duration": 126,
    "start_time": "2022-11-17T12:13:11.796Z"
   },
   {
    "duration": 285,
    "start_time": "2022-11-17T12:13:19.179Z"
   },
   {
    "duration": 165,
    "start_time": "2022-11-17T12:14:50.092Z"
   },
   {
    "duration": 160,
    "start_time": "2022-11-17T12:14:54.368Z"
   },
   {
    "duration": 494,
    "start_time": "2022-11-17T12:15:12.582Z"
   },
   {
    "duration": 134,
    "start_time": "2022-11-17T12:15:25.349Z"
   },
   {
    "duration": 488,
    "start_time": "2022-11-17T12:15:44.013Z"
   },
   {
    "duration": 134,
    "start_time": "2022-11-17T12:30:50.199Z"
   },
   {
    "duration": 155,
    "start_time": "2022-11-17T12:32:07.250Z"
   },
   {
    "duration": 873,
    "start_time": "2022-11-17T12:33:09.672Z"
   },
   {
    "duration": 847,
    "start_time": "2022-11-17T12:33:11.449Z"
   },
   {
    "duration": 149,
    "start_time": "2022-11-17T12:33:16.962Z"
   },
   {
    "duration": 10,
    "start_time": "2022-11-17T12:36:52.580Z"
   },
   {
    "duration": 6,
    "start_time": "2022-11-17T12:37:00.797Z"
   },
   {
    "duration": 5,
    "start_time": "2022-11-17T12:37:11.437Z"
   },
   {
    "duration": 6,
    "start_time": "2022-11-17T12:37:17.286Z"
   },
   {
    "duration": 10,
    "start_time": "2022-11-17T12:37:28.173Z"
   },
   {
    "duration": 8,
    "start_time": "2022-11-17T12:37:28.918Z"
   },
   {
    "duration": 7,
    "start_time": "2022-11-17T12:37:45.646Z"
   },
   {
    "duration": 24,
    "start_time": "2022-11-17T12:38:16.182Z"
   },
   {
    "duration": 10,
    "start_time": "2022-11-17T12:38:26.127Z"
   },
   {
    "duration": 22,
    "start_time": "2022-11-17T12:38:26.655Z"
   },
   {
    "duration": 294,
    "start_time": "2022-11-17T12:38:56.278Z"
   },
   {
    "duration": 23,
    "start_time": "2022-11-17T12:39:09.776Z"
   },
   {
    "duration": 105,
    "start_time": "2022-11-17T12:39:20.010Z"
   },
   {
    "duration": 41,
    "start_time": "2022-11-17T12:39:20.117Z"
   },
   {
    "duration": 66,
    "start_time": "2022-11-17T12:39:20.160Z"
   },
   {
    "duration": 1860,
    "start_time": "2022-11-17T12:39:20.228Z"
   },
   {
    "duration": 10,
    "start_time": "2022-11-17T12:39:22.097Z"
   },
   {
    "duration": 12,
    "start_time": "2022-11-17T12:39:22.109Z"
   },
   {
    "duration": 22,
    "start_time": "2022-11-17T12:39:22.123Z"
   },
   {
    "duration": 12,
    "start_time": "2022-11-17T12:39:22.146Z"
   },
   {
    "duration": 7,
    "start_time": "2022-11-17T12:39:22.160Z"
   },
   {
    "duration": 7,
    "start_time": "2022-11-17T12:39:22.169Z"
   },
   {
    "duration": 15,
    "start_time": "2022-11-17T12:39:22.177Z"
   },
   {
    "duration": 19,
    "start_time": "2022-11-17T12:39:22.194Z"
   },
   {
    "duration": 11,
    "start_time": "2022-11-17T12:39:22.214Z"
   },
   {
    "duration": 15,
    "start_time": "2022-11-17T12:39:22.227Z"
   },
   {
    "duration": 14,
    "start_time": "2022-11-17T12:39:22.243Z"
   },
   {
    "duration": 13,
    "start_time": "2022-11-17T12:39:22.259Z"
   },
   {
    "duration": 29,
    "start_time": "2022-11-17T12:39:22.274Z"
   },
   {
    "duration": 28,
    "start_time": "2022-11-17T12:39:22.304Z"
   },
   {
    "duration": 39,
    "start_time": "2022-11-17T12:39:22.333Z"
   },
   {
    "duration": 24,
    "start_time": "2022-11-17T12:39:22.374Z"
   },
   {
    "duration": 41,
    "start_time": "2022-11-17T12:39:22.399Z"
   },
   {
    "duration": 23,
    "start_time": "2022-11-17T12:39:22.441Z"
   },
   {
    "duration": 39,
    "start_time": "2022-11-17T12:39:22.465Z"
   },
   {
    "duration": 26,
    "start_time": "2022-11-17T12:39:22.505Z"
   },
   {
    "duration": 42,
    "start_time": "2022-11-17T12:39:22.533Z"
   },
   {
    "duration": 22,
    "start_time": "2022-11-17T12:39:22.577Z"
   },
   {
    "duration": 17,
    "start_time": "2022-11-17T12:39:22.601Z"
   },
   {
    "duration": 35,
    "start_time": "2022-11-17T12:39:22.623Z"
   },
   {
    "duration": 23,
    "start_time": "2022-11-17T12:39:22.660Z"
   },
   {
    "duration": 28,
    "start_time": "2022-11-17T12:39:22.685Z"
   },
   {
    "duration": 18,
    "start_time": "2022-11-17T12:39:22.715Z"
   },
   {
    "duration": 40,
    "start_time": "2022-11-17T12:39:22.735Z"
   },
   {
    "duration": 14,
    "start_time": "2022-11-17T12:39:22.777Z"
   },
   {
    "duration": 155,
    "start_time": "2022-11-17T12:39:22.793Z"
   },
   {
    "duration": 185,
    "start_time": "2022-11-17T12:39:22.950Z"
   },
   {
    "duration": 165,
    "start_time": "2022-11-17T12:39:23.137Z"
   },
   {
    "duration": 6,
    "start_time": "2022-11-17T12:39:23.303Z"
   },
   {
    "duration": 11,
    "start_time": "2022-11-17T12:39:23.311Z"
   },
   {
    "duration": 23,
    "start_time": "2022-11-17T12:39:23.323Z"
   },
   {
    "duration": 168,
    "start_time": "2022-11-17T12:39:23.349Z"
   },
   {
    "duration": 175,
    "start_time": "2022-11-17T12:39:23.519Z"
   },
   {
    "duration": 172,
    "start_time": "2022-11-17T12:39:23.698Z"
   },
   {
    "duration": 158,
    "start_time": "2022-11-17T12:39:23.872Z"
   },
   {
    "duration": 167,
    "start_time": "2022-11-17T12:39:24.032Z"
   },
   {
    "duration": 162,
    "start_time": "2022-11-17T12:39:24.200Z"
   },
   {
    "duration": 165,
    "start_time": "2022-11-17T12:39:24.364Z"
   },
   {
    "duration": 217,
    "start_time": "2022-11-17T12:39:24.531Z"
   },
   {
    "duration": 182,
    "start_time": "2022-11-17T12:39:24.750Z"
   },
   {
    "duration": 192,
    "start_time": "2022-11-17T12:39:24.934Z"
   },
   {
    "duration": 169,
    "start_time": "2022-11-17T12:39:25.128Z"
   },
   {
    "duration": 5,
    "start_time": "2022-11-17T12:39:25.299Z"
   },
   {
    "duration": 7,
    "start_time": "2022-11-17T12:39:25.305Z"
   },
   {
    "duration": 14,
    "start_time": "2022-11-17T12:39:25.313Z"
   },
   {
    "duration": 27,
    "start_time": "2022-11-17T12:39:25.329Z"
   },
   {
    "duration": 3,
    "start_time": "2022-11-17T12:39:25.358Z"
   },
   {
    "duration": 325,
    "start_time": "2022-11-17T12:39:25.363Z"
   },
   {
    "duration": 930,
    "start_time": "2022-11-17T12:39:25.698Z"
   },
   {
    "duration": 30,
    "start_time": "2022-11-17T12:39:39.601Z"
   },
   {
    "duration": 25,
    "start_time": "2022-11-17T12:42:08.282Z"
   },
   {
    "duration": 16,
    "start_time": "2022-11-17T12:43:15.379Z"
   },
   {
    "duration": 11,
    "start_time": "2022-11-17T12:44:40.470Z"
   },
   {
    "duration": 14,
    "start_time": "2022-11-17T12:44:41.429Z"
   },
   {
    "duration": 12,
    "start_time": "2022-11-17T12:44:53.629Z"
   },
   {
    "duration": 16,
    "start_time": "2022-11-17T12:44:55.244Z"
   },
   {
    "duration": 24,
    "start_time": "2022-11-17T12:44:57.877Z"
   },
   {
    "duration": 875,
    "start_time": "2022-11-17T12:46:31.663Z"
   },
   {
    "duration": 24,
    "start_time": "2022-11-17T12:58:38.069Z"
   },
   {
    "duration": 152,
    "start_time": "2022-11-17T12:58:46.483Z"
   },
   {
    "duration": 164,
    "start_time": "2022-11-17T12:59:23.981Z"
   },
   {
    "duration": 141,
    "start_time": "2022-11-17T12:59:39.829Z"
   },
   {
    "duration": 184,
    "start_time": "2022-11-17T12:59:44.527Z"
   },
   {
    "duration": 60,
    "start_time": "2022-11-19T18:28:43.355Z"
   },
   {
    "duration": 619,
    "start_time": "2022-11-19T18:28:47.273Z"
   },
   {
    "duration": 64,
    "start_time": "2022-11-19T18:28:47.895Z"
   },
   {
    "duration": 11,
    "start_time": "2022-11-19T18:28:47.962Z"
   },
   {
    "duration": 2966,
    "start_time": "2022-11-19T18:28:47.975Z"
   },
   {
    "duration": 15,
    "start_time": "2022-11-19T18:28:50.944Z"
   },
   {
    "duration": 21,
    "start_time": "2022-11-19T18:28:50.962Z"
   },
   {
    "duration": 12,
    "start_time": "2022-11-19T18:28:50.985Z"
   },
   {
    "duration": 14,
    "start_time": "2022-11-19T18:28:50.999Z"
   },
   {
    "duration": 7,
    "start_time": "2022-11-19T18:28:51.015Z"
   },
   {
    "duration": 37,
    "start_time": "2022-11-19T18:28:51.024Z"
   },
   {
    "duration": 20,
    "start_time": "2022-11-19T18:28:51.064Z"
   },
   {
    "duration": 10,
    "start_time": "2022-11-19T18:28:51.086Z"
   },
   {
    "duration": 9,
    "start_time": "2022-11-19T18:28:51.098Z"
   },
   {
    "duration": 14,
    "start_time": "2022-11-19T18:28:51.110Z"
   },
   {
    "duration": 29,
    "start_time": "2022-11-19T18:28:51.152Z"
   },
   {
    "duration": 12,
    "start_time": "2022-11-19T18:28:51.185Z"
   },
   {
    "duration": 21,
    "start_time": "2022-11-19T18:28:51.198Z"
   },
   {
    "duration": 6,
    "start_time": "2022-11-19T18:28:51.221Z"
   },
   {
    "duration": 9,
    "start_time": "2022-11-19T18:28:51.257Z"
   },
   {
    "duration": 17,
    "start_time": "2022-11-19T18:28:51.268Z"
   },
   {
    "duration": 5,
    "start_time": "2022-11-19T18:28:51.288Z"
   },
   {
    "duration": 6,
    "start_time": "2022-11-19T18:28:51.295Z"
   },
   {
    "duration": 23,
    "start_time": "2022-11-19T18:28:51.304Z"
   },
   {
    "duration": 18,
    "start_time": "2022-11-19T18:28:51.328Z"
   },
   {
    "duration": 51,
    "start_time": "2022-11-19T18:28:51.348Z"
   },
   {
    "duration": 18,
    "start_time": "2022-11-19T18:28:51.400Z"
   },
   {
    "duration": 26,
    "start_time": "2022-11-19T18:28:51.420Z"
   },
   {
    "duration": 34,
    "start_time": "2022-11-19T18:28:51.449Z"
   },
   {
    "duration": 19,
    "start_time": "2022-11-19T18:28:51.485Z"
   },
   {
    "duration": 15,
    "start_time": "2022-11-19T18:28:51.506Z"
   },
   {
    "duration": 9,
    "start_time": "2022-11-19T18:28:51.523Z"
   },
   {
    "duration": 50,
    "start_time": "2022-11-19T18:28:51.533Z"
   },
   {
    "duration": 18,
    "start_time": "2022-11-19T18:28:51.585Z"
   },
   {
    "duration": 252,
    "start_time": "2022-11-19T18:28:51.606Z"
   },
   {
    "duration": 245,
    "start_time": "2022-11-19T18:28:51.862Z"
   },
   {
    "duration": 216,
    "start_time": "2022-11-19T18:28:52.109Z"
   },
   {
    "duration": 8,
    "start_time": "2022-11-19T18:28:52.326Z"
   },
   {
    "duration": 82,
    "start_time": "2022-11-19T18:28:52.336Z"
   },
   {
    "duration": 14,
    "start_time": "2022-11-19T18:28:52.420Z"
   },
   {
    "duration": 210,
    "start_time": "2022-11-19T18:28:52.436Z"
   },
   {
    "duration": 240,
    "start_time": "2022-11-19T18:28:52.656Z"
   },
   {
    "duration": 348,
    "start_time": "2022-11-19T18:28:52.899Z"
   },
   {
    "duration": 196,
    "start_time": "2022-11-19T18:28:53.255Z"
   },
   {
    "duration": 234,
    "start_time": "2022-11-19T18:28:53.454Z"
   },
   {
    "duration": 217,
    "start_time": "2022-11-19T18:28:53.689Z"
   },
   {
    "duration": 226,
    "start_time": "2022-11-19T18:28:53.908Z"
   },
   {
    "duration": 238,
    "start_time": "2022-11-19T18:28:54.135Z"
   },
   {
    "duration": 219,
    "start_time": "2022-11-19T18:28:54.375Z"
   },
   {
    "duration": 243,
    "start_time": "2022-11-19T18:28:54.596Z"
   },
   {
    "duration": 224,
    "start_time": "2022-11-19T18:28:54.841Z"
   },
   {
    "duration": 8,
    "start_time": "2022-11-19T18:28:55.067Z"
   },
   {
    "duration": 38,
    "start_time": "2022-11-19T18:28:55.077Z"
   },
   {
    "duration": 43,
    "start_time": "2022-11-19T18:28:55.117Z"
   },
   {
    "duration": 20,
    "start_time": "2022-11-19T18:28:55.164Z"
   },
   {
    "duration": 35,
    "start_time": "2022-11-19T18:28:55.186Z"
   },
   {
    "duration": 7,
    "start_time": "2022-11-19T18:28:55.223Z"
   },
   {
    "duration": 613,
    "start_time": "2022-11-19T18:28:55.232Z"
   },
   {
    "duration": 24,
    "start_time": "2022-11-19T18:28:55.847Z"
   },
   {
    "duration": 9,
    "start_time": "2022-11-19T18:28:55.876Z"
   },
   {
    "duration": 29,
    "start_time": "2022-11-19T18:29:47.058Z"
   },
   {
    "duration": 27,
    "start_time": "2022-11-19T18:30:11.195Z"
   },
   {
    "duration": 29,
    "start_time": "2022-11-19T18:30:21.795Z"
   },
   {
    "duration": 45,
    "start_time": "2022-11-19T18:30:27.026Z"
   },
   {
    "duration": 1480,
    "start_time": "2022-11-19T18:30:46.050Z"
   },
   {
    "duration": 1369,
    "start_time": "2022-11-19T18:30:53.980Z"
   },
   {
    "duration": 1325,
    "start_time": "2022-11-19T18:31:13.307Z"
   },
   {
    "duration": 1460,
    "start_time": "2022-11-19T18:31:21.724Z"
   },
   {
    "duration": 1427,
    "start_time": "2022-11-19T18:31:43.173Z"
   },
   {
    "duration": 1541,
    "start_time": "2022-11-19T18:31:50.254Z"
   },
   {
    "duration": 5,
    "start_time": "2022-11-19T18:32:03.635Z"
   },
   {
    "duration": 5,
    "start_time": "2022-11-19T18:32:05.324Z"
   },
   {
    "duration": 507,
    "start_time": "2022-11-19T18:32:11.819Z"
   },
   {
    "duration": 3,
    "start_time": "2022-11-19T18:32:44.668Z"
   },
   {
    "duration": 4,
    "start_time": "2022-11-19T18:32:51.486Z"
   },
   {
    "duration": 6,
    "start_time": "2022-11-19T18:32:55.192Z"
   },
   {
    "duration": 453,
    "start_time": "2022-11-19T18:32:58.237Z"
   },
   {
    "duration": 185,
    "start_time": "2022-11-19T18:33:01.686Z"
   },
   {
    "duration": 158,
    "start_time": "2022-11-19T18:33:34.639Z"
   },
   {
    "duration": 308,
    "start_time": "2022-11-19T18:33:44.560Z"
   },
   {
    "duration": 187,
    "start_time": "2022-11-19T18:33:57.094Z"
   },
   {
    "duration": 29,
    "start_time": "2022-11-19T18:42:57.862Z"
   },
   {
    "duration": 32,
    "start_time": "2022-11-19T18:43:01.817Z"
   },
   {
    "duration": 29,
    "start_time": "2022-11-19T18:43:10.313Z"
   },
   {
    "duration": 88,
    "start_time": "2022-11-19T18:43:52.185Z"
   },
   {
    "duration": 9,
    "start_time": "2022-11-19T18:44:20.116Z"
   },
   {
    "duration": 30,
    "start_time": "2022-11-19T18:44:49.431Z"
   },
   {
    "duration": 29,
    "start_time": "2022-11-19T18:45:07.581Z"
   },
   {
    "duration": 4,
    "start_time": "2022-11-19T18:45:09.323Z"
   },
   {
    "duration": 4,
    "start_time": "2022-11-19T18:45:10.667Z"
   },
   {
    "duration": 4,
    "start_time": "2022-11-19T18:45:11.507Z"
   },
   {
    "duration": 405,
    "start_time": "2022-11-19T18:45:12.411Z"
   },
   {
    "duration": 187,
    "start_time": "2022-11-19T18:45:14.578Z"
   },
   {
    "duration": 1206,
    "start_time": "2022-11-19T18:45:32.123Z"
   },
   {
    "duration": 187,
    "start_time": "2022-11-19T18:45:36.007Z"
   },
   {
    "duration": 20,
    "start_time": "2022-11-19T18:46:11.596Z"
   },
   {
    "duration": 25,
    "start_time": "2022-11-19T18:46:23.277Z"
   },
   {
    "duration": 15,
    "start_time": "2022-11-19T18:51:48.084Z"
   },
   {
    "duration": 14,
    "start_time": "2022-11-19T18:52:02.306Z"
   },
   {
    "duration": 44,
    "start_time": "2022-11-19T18:52:12.957Z"
   },
   {
    "duration": 5,
    "start_time": "2022-11-19T18:52:20.681Z"
   },
   {
    "duration": 69,
    "start_time": "2022-11-19T18:52:38.115Z"
   },
   {
    "duration": 7,
    "start_time": "2022-11-19T18:52:41.020Z"
   },
   {
    "duration": 36,
    "start_time": "2022-11-19T18:52:44.140Z"
   },
   {
    "duration": 18,
    "start_time": "2022-11-19T18:52:58.244Z"
   },
   {
    "duration": 17,
    "start_time": "2022-11-19T18:53:01.011Z"
   },
   {
    "duration": 17,
    "start_time": "2022-11-19T18:53:07.149Z"
   },
   {
    "duration": 30,
    "start_time": "2022-11-19T18:53:14.212Z"
   },
   {
    "duration": 5,
    "start_time": "2022-11-19T18:53:39.886Z"
   },
   {
    "duration": 20,
    "start_time": "2022-11-19T18:54:35.791Z"
   },
   {
    "duration": 31,
    "start_time": "2022-11-19T18:54:37.782Z"
   },
   {
    "duration": 16,
    "start_time": "2022-11-19T18:55:07.454Z"
   },
   {
    "duration": 29,
    "start_time": "2022-11-19T18:55:09.430Z"
   },
   {
    "duration": 10,
    "start_time": "2022-11-19T18:55:21.654Z"
   },
   {
    "duration": 151,
    "start_time": "2022-11-19T18:59:49.072Z"
   },
   {
    "duration": 58,
    "start_time": "2022-11-19T18:59:49.226Z"
   },
   {
    "duration": 6,
    "start_time": "2022-11-19T18:59:49.286Z"
   },
   {
    "duration": 2252,
    "start_time": "2022-11-19T18:59:49.295Z"
   },
   {
    "duration": 12,
    "start_time": "2022-11-19T18:59:51.551Z"
   },
   {
    "duration": 8,
    "start_time": "2022-11-19T18:59:51.565Z"
   },
   {
    "duration": 9,
    "start_time": "2022-11-19T18:59:51.576Z"
   },
   {
    "duration": 15,
    "start_time": "2022-11-19T18:59:51.587Z"
   },
   {
    "duration": 7,
    "start_time": "2022-11-19T18:59:51.604Z"
   },
   {
    "duration": 8,
    "start_time": "2022-11-19T18:59:51.653Z"
   },
   {
    "duration": 21,
    "start_time": "2022-11-19T18:59:51.663Z"
   },
   {
    "duration": 13,
    "start_time": "2022-11-19T18:59:51.686Z"
   },
   {
    "duration": 21,
    "start_time": "2022-11-19T18:59:51.701Z"
   },
   {
    "duration": 42,
    "start_time": "2022-11-19T18:59:51.724Z"
   },
   {
    "duration": 27,
    "start_time": "2022-11-19T18:59:51.768Z"
   },
   {
    "duration": 20,
    "start_time": "2022-11-19T18:59:51.798Z"
   },
   {
    "duration": 45,
    "start_time": "2022-11-19T18:59:51.820Z"
   },
   {
    "duration": 6,
    "start_time": "2022-11-19T18:59:51.868Z"
   },
   {
    "duration": 9,
    "start_time": "2022-11-19T18:59:51.876Z"
   },
   {
    "duration": 16,
    "start_time": "2022-11-19T18:59:51.887Z"
   },
   {
    "duration": 5,
    "start_time": "2022-11-19T18:59:51.905Z"
   },
   {
    "duration": 5,
    "start_time": "2022-11-19T18:59:51.911Z"
   },
   {
    "duration": 11,
    "start_time": "2022-11-19T18:59:51.918Z"
   },
   {
    "duration": 10,
    "start_time": "2022-11-19T18:59:51.951Z"
   },
   {
    "duration": 29,
    "start_time": "2022-11-19T18:59:51.963Z"
   },
   {
    "duration": 8,
    "start_time": "2022-11-19T18:59:51.994Z"
   },
   {
    "duration": 8,
    "start_time": "2022-11-19T18:59:52.004Z"
   },
   {
    "duration": 53,
    "start_time": "2022-11-19T18:59:52.015Z"
   },
   {
    "duration": 8,
    "start_time": "2022-11-19T18:59:52.071Z"
   },
   {
    "duration": 17,
    "start_time": "2022-11-19T18:59:52.080Z"
   },
   {
    "duration": 10,
    "start_time": "2022-11-19T18:59:52.100Z"
   },
   {
    "duration": 41,
    "start_time": "2022-11-19T18:59:52.112Z"
   },
   {
    "duration": 23,
    "start_time": "2022-11-19T18:59:52.155Z"
   },
   {
    "duration": 197,
    "start_time": "2022-11-19T18:59:52.180Z"
   },
   {
    "duration": 221,
    "start_time": "2022-11-19T18:59:52.379Z"
   },
   {
    "duration": 196,
    "start_time": "2022-11-19T18:59:52.602Z"
   },
   {
    "duration": 8,
    "start_time": "2022-11-19T18:59:52.800Z"
   },
   {
    "duration": 6,
    "start_time": "2022-11-19T18:59:52.809Z"
   },
   {
    "duration": 9,
    "start_time": "2022-11-19T18:59:52.817Z"
   },
   {
    "duration": 217,
    "start_time": "2022-11-19T18:59:52.828Z"
   },
   {
    "duration": 197,
    "start_time": "2022-11-19T18:59:53.050Z"
   },
   {
    "duration": 194,
    "start_time": "2022-11-19T18:59:53.250Z"
   },
   {
    "duration": 165,
    "start_time": "2022-11-19T18:59:53.450Z"
   },
   {
    "duration": 204,
    "start_time": "2022-11-19T18:59:53.617Z"
   },
   {
    "duration": 199,
    "start_time": "2022-11-19T18:59:53.822Z"
   },
   {
    "duration": 245,
    "start_time": "2022-11-19T18:59:54.023Z"
   },
   {
    "duration": 204,
    "start_time": "2022-11-19T18:59:54.270Z"
   },
   {
    "duration": 194,
    "start_time": "2022-11-19T18:59:54.476Z"
   },
   {
    "duration": 217,
    "start_time": "2022-11-19T18:59:54.672Z"
   },
   {
    "duration": 192,
    "start_time": "2022-11-19T18:59:54.891Z"
   },
   {
    "duration": 6,
    "start_time": "2022-11-19T18:59:55.085Z"
   },
   {
    "duration": 34,
    "start_time": "2022-11-19T18:59:55.093Z"
   },
   {
    "duration": 50,
    "start_time": "2022-11-19T18:59:55.129Z"
   },
   {
    "duration": 5,
    "start_time": "2022-11-19T18:59:55.180Z"
   },
   {
    "duration": 17,
    "start_time": "2022-11-19T18:59:55.186Z"
   },
   {
    "duration": 6,
    "start_time": "2022-11-19T18:59:55.205Z"
   },
   {
    "duration": 10,
    "start_time": "2022-11-19T18:59:55.213Z"
   },
   {
    "duration": 9,
    "start_time": "2022-11-19T18:59:55.224Z"
   },
   {
    "duration": 3,
    "start_time": "2022-11-19T18:59:55.251Z"
   },
   {
    "duration": 9,
    "start_time": "2022-11-19T18:59:55.256Z"
   },
   {
    "duration": 651,
    "start_time": "2022-11-19T18:59:55.267Z"
   },
   {
    "duration": 212,
    "start_time": "2022-11-19T18:59:55.920Z"
   },
   {
    "duration": 221,
    "start_time": "2022-11-19T18:59:56.134Z"
   },
   {
    "duration": 1351,
    "start_time": "2022-11-19T18:59:56.357Z"
   },
   {
    "duration": 10,
    "start_time": "2022-11-19T19:00:22.995Z"
   },
   {
    "duration": 69,
    "start_time": "2022-11-19T19:00:34.305Z"
   },
   {
    "duration": 3,
    "start_time": "2022-11-19T19:01:00.077Z"
   },
   {
    "duration": 62,
    "start_time": "2022-11-19T19:01:01.278Z"
   },
   {
    "duration": 196,
    "start_time": "2022-11-19T19:01:58.572Z"
   },
   {
    "duration": 3,
    "start_time": "2022-11-19T19:04:38.521Z"
   },
   {
    "duration": 535,
    "start_time": "2022-11-19T19:04:39.762Z"
   },
   {
    "duration": 4,
    "start_time": "2022-11-19T19:20:53.700Z"
   },
   {
    "duration": 531,
    "start_time": "2022-11-19T19:20:55.599Z"
   },
   {
    "duration": 4,
    "start_time": "2022-11-19T19:21:07.764Z"
   },
   {
    "duration": 260,
    "start_time": "2022-11-19T19:21:08.483Z"
   },
   {
    "duration": 316,
    "start_time": "2022-11-19T19:22:02.195Z"
   },
   {
    "duration": 299,
    "start_time": "2022-11-19T19:22:12.523Z"
   },
   {
    "duration": 307,
    "start_time": "2022-11-19T19:22:33.397Z"
   },
   {
    "duration": 16,
    "start_time": "2022-11-19T19:22:46.614Z"
   },
   {
    "duration": 339,
    "start_time": "2022-11-19T19:22:49.338Z"
   },
   {
    "duration": 610,
    "start_time": "2022-11-19T19:23:03.469Z"
   },
   {
    "duration": 533,
    "start_time": "2022-11-19T19:23:12.701Z"
   },
   {
    "duration": 562,
    "start_time": "2022-11-19T19:23:40.226Z"
   },
   {
    "duration": 5,
    "start_time": "2022-11-19T19:23:41.868Z"
   },
   {
    "duration": 235,
    "start_time": "2022-11-19T19:44:42.092Z"
   },
   {
    "duration": 191,
    "start_time": "2022-11-19T19:44:47.804Z"
   },
   {
    "duration": 171,
    "start_time": "2022-11-19T19:44:50.843Z"
   },
   {
    "duration": 180,
    "start_time": "2022-11-19T19:44:54.973Z"
   },
   {
    "duration": 335,
    "start_time": "2022-11-19T19:45:00.404Z"
   },
   {
    "duration": 302,
    "start_time": "2022-11-19T19:45:14.670Z"
   },
   {
    "duration": 357,
    "start_time": "2022-11-19T19:45:20.733Z"
   },
   {
    "duration": 326,
    "start_time": "2022-11-19T19:45:27.068Z"
   },
   {
    "duration": 595,
    "start_time": "2022-11-19T19:45:34.469Z"
   },
   {
    "duration": 184,
    "start_time": "2022-11-19T19:45:38.100Z"
   },
   {
    "duration": 390,
    "start_time": "2022-11-19T19:45:41.181Z"
   },
   {
    "duration": 351,
    "start_time": "2022-11-19T19:45:44.429Z"
   },
   {
    "duration": 240,
    "start_time": "2022-11-19T19:45:47.661Z"
   },
   {
    "duration": 254,
    "start_time": "2022-11-19T19:47:24.079Z"
   },
   {
    "duration": 265,
    "start_time": "2022-11-19T19:47:27.999Z"
   },
   {
    "duration": 240,
    "start_time": "2022-11-19T19:47:31.272Z"
   },
   {
    "duration": 256,
    "start_time": "2022-11-19T19:47:34.799Z"
   },
   {
    "duration": 238,
    "start_time": "2022-11-19T19:47:40.312Z"
   },
   {
    "duration": 178,
    "start_time": "2022-11-19T19:47:46.223Z"
   },
   {
    "duration": 256,
    "start_time": "2022-11-19T19:47:48.479Z"
   },
   {
    "duration": 245,
    "start_time": "2022-11-19T19:48:00.615Z"
   },
   {
    "duration": 279,
    "start_time": "2022-11-19T19:49:04.017Z"
   },
   {
    "duration": 259,
    "start_time": "2022-11-19T19:49:12.281Z"
   },
   {
    "duration": 286,
    "start_time": "2022-11-19T19:49:15.665Z"
   },
   {
    "duration": 587,
    "start_time": "2022-11-19T19:49:21.857Z"
   },
   {
    "duration": 23,
    "start_time": "2022-11-19T19:51:39.716Z"
   },
   {
    "duration": 41,
    "start_time": "2022-11-19T19:51:57.681Z"
   },
   {
    "duration": 54,
    "start_time": "2022-11-19T19:52:09.661Z"
   },
   {
    "duration": 14,
    "start_time": "2022-11-19T19:52:31.173Z"
   },
   {
    "duration": 53,
    "start_time": "2022-11-19T19:52:36.492Z"
   },
   {
    "duration": 6,
    "start_time": "2022-11-19T19:53:04.414Z"
   },
   {
    "duration": 41,
    "start_time": "2022-11-19T19:53:06.605Z"
   },
   {
    "duration": 11,
    "start_time": "2022-11-19T19:53:38.072Z"
   },
   {
    "duration": 9,
    "start_time": "2022-11-19T19:53:46.687Z"
   },
   {
    "duration": 9,
    "start_time": "2022-11-19T19:53:52.678Z"
   },
   {
    "duration": 9,
    "start_time": "2022-11-19T19:53:54.430Z"
   },
   {
    "duration": 9,
    "start_time": "2022-11-19T19:53:58.486Z"
   },
   {
    "duration": 11,
    "start_time": "2022-11-19T19:53:59.742Z"
   },
   {
    "duration": 15,
    "start_time": "2022-11-19T19:54:10.662Z"
   },
   {
    "duration": 11,
    "start_time": "2022-11-19T19:54:44.743Z"
   },
   {
    "duration": 20,
    "start_time": "2022-11-19T19:54:47.718Z"
   },
   {
    "duration": 34,
    "start_time": "2022-11-19T19:54:59.439Z"
   },
   {
    "duration": 49,
    "start_time": "2022-11-19T19:55:31.686Z"
   },
   {
    "duration": 49,
    "start_time": "2022-11-19T19:56:12.274Z"
   },
   {
    "duration": 61,
    "start_time": "2022-11-19T19:56:18.554Z"
   },
   {
    "duration": 20,
    "start_time": "2022-11-19T19:56:34.590Z"
   },
   {
    "duration": 1122,
    "start_time": "2022-11-19T19:57:35.157Z"
   },
   {
    "duration": 29,
    "start_time": "2022-11-19T19:58:01.058Z"
   },
   {
    "duration": 28,
    "start_time": "2022-11-19T20:02:54.557Z"
   },
   {
    "duration": 276,
    "start_time": "2022-11-19T20:02:56.599Z"
   },
   {
    "duration": 248,
    "start_time": "2022-11-19T20:03:02.120Z"
   },
   {
    "duration": 227,
    "start_time": "2022-11-19T20:03:08.415Z"
   },
   {
    "duration": 245,
    "start_time": "2022-11-19T20:03:57.712Z"
   },
   {
    "duration": 282,
    "start_time": "2022-11-19T20:04:10.472Z"
   },
   {
    "duration": 263,
    "start_time": "2022-11-19T20:04:15.649Z"
   },
   {
    "duration": 253,
    "start_time": "2022-11-19T20:04:20.331Z"
   },
   {
    "duration": 207,
    "start_time": "2022-11-19T20:04:27.248Z"
   },
   {
    "duration": 256,
    "start_time": "2022-11-19T20:04:33.057Z"
   },
   {
    "duration": 205,
    "start_time": "2022-11-19T20:04:37.993Z"
   },
   {
    "duration": 172,
    "start_time": "2022-11-19T20:04:42.241Z"
   },
   {
    "duration": 168,
    "start_time": "2022-11-19T20:04:45.930Z"
   },
   {
    "duration": 304,
    "start_time": "2022-11-19T20:04:48.634Z"
   },
   {
    "duration": 312,
    "start_time": "2022-11-19T20:04:57.259Z"
   },
   {
    "duration": 328,
    "start_time": "2022-11-19T20:05:02.794Z"
   },
   {
    "duration": 192,
    "start_time": "2022-11-19T20:05:07.122Z"
   },
   {
    "duration": 214,
    "start_time": "2022-11-19T20:05:10.985Z"
   },
   {
    "duration": 251,
    "start_time": "2022-11-19T20:05:14.482Z"
   },
   {
    "duration": 262,
    "start_time": "2022-11-19T20:05:17.881Z"
   },
   {
    "duration": 234,
    "start_time": "2022-11-19T20:05:20.165Z"
   },
   {
    "duration": 5,
    "start_time": "2022-11-19T20:06:56.476Z"
   },
   {
    "duration": 5,
    "start_time": "2022-11-19T20:07:03.324Z"
   },
   {
    "duration": 7,
    "start_time": "2022-11-19T20:07:35.997Z"
   },
   {
    "duration": 7,
    "start_time": "2022-11-19T20:07:44.788Z"
   },
   {
    "duration": 8,
    "start_time": "2022-11-19T20:07:47.381Z"
   },
   {
    "duration": 42,
    "start_time": "2022-11-19T20:08:05.565Z"
   },
   {
    "duration": 175,
    "start_time": "2022-11-19T20:09:29.926Z"
   },
   {
    "duration": 320,
    "start_time": "2022-11-19T20:09:32.198Z"
   },
   {
    "duration": 7,
    "start_time": "2022-11-19T20:09:36.177Z"
   },
   {
    "duration": 1965,
    "start_time": "2022-11-19T20:09:37.455Z"
   },
   {
    "duration": 13,
    "start_time": "2022-11-19T20:09:41.191Z"
   },
   {
    "duration": 9,
    "start_time": "2022-11-19T20:09:43.606Z"
   },
   {
    "duration": 8,
    "start_time": "2022-11-19T20:09:44.628Z"
   },
   {
    "duration": 9,
    "start_time": "2022-11-19T20:09:48.278Z"
   },
   {
    "duration": 38,
    "start_time": "2022-11-19T20:09:52.743Z"
   },
   {
    "duration": 11,
    "start_time": "2022-11-19T20:09:59.536Z"
   },
   {
    "duration": 10,
    "start_time": "2022-11-19T20:10:05.001Z"
   },
   {
    "duration": 10,
    "start_time": "2022-11-19T20:11:28.561Z"
   },
   {
    "duration": 62,
    "start_time": "2022-11-19T20:11:32.512Z"
   },
   {
    "duration": 43,
    "start_time": "2022-11-19T20:11:42.233Z"
   },
   {
    "duration": 8,
    "start_time": "2022-11-19T20:12:42.275Z"
   },
   {
    "duration": 9,
    "start_time": "2022-11-19T20:12:49.466Z"
   },
   {
    "duration": 9,
    "start_time": "2022-11-19T20:12:59.364Z"
   },
   {
    "duration": 6,
    "start_time": "2022-11-19T20:13:04.507Z"
   },
   {
    "duration": 7,
    "start_time": "2022-11-19T20:13:30.212Z"
   },
   {
    "duration": 26,
    "start_time": "2022-11-19T20:13:43.325Z"
   },
   {
    "duration": 16,
    "start_time": "2022-11-19T20:14:18.020Z"
   },
   {
    "duration": 5,
    "start_time": "2022-11-19T20:14:21.580Z"
   },
   {
    "duration": 5,
    "start_time": "2022-11-19T20:14:22.652Z"
   },
   {
    "duration": 26,
    "start_time": "2022-11-19T20:14:23.373Z"
   },
   {
    "duration": 198,
    "start_time": "2022-11-19T20:14:55.972Z"
   },
   {
    "duration": 10,
    "start_time": "2022-11-19T20:15:09.813Z"
   },
   {
    "duration": 1133,
    "start_time": "2022-11-19T20:16:10.958Z"
   },
   {
    "duration": 1114,
    "start_time": "2022-11-19T20:16:15.304Z"
   },
   {
    "duration": 1320,
    "start_time": "2022-11-19T20:16:18.295Z"
   },
   {
    "duration": 12,
    "start_time": "2022-11-19T20:16:46.215Z"
   },
   {
    "duration": 17,
    "start_time": "2022-11-19T20:16:49.384Z"
   },
   {
    "duration": 16,
    "start_time": "2022-11-19T20:17:03.472Z"
   },
   {
    "duration": 14,
    "start_time": "2022-11-19T20:17:13.095Z"
   },
   {
    "duration": 126,
    "start_time": "2022-11-19T20:17:18.452Z"
   },
   {
    "duration": 39,
    "start_time": "2022-11-19T20:17:18.580Z"
   },
   {
    "duration": 5,
    "start_time": "2022-11-19T20:17:18.621Z"
   },
   {
    "duration": 2058,
    "start_time": "2022-11-19T20:17:18.650Z"
   },
   {
    "duration": 11,
    "start_time": "2022-11-19T20:17:20.710Z"
   },
   {
    "duration": 8,
    "start_time": "2022-11-19T20:17:20.723Z"
   },
   {
    "duration": 7,
    "start_time": "2022-11-19T20:17:20.750Z"
   },
   {
    "duration": 10,
    "start_time": "2022-11-19T20:17:20.759Z"
   },
   {
    "duration": 8,
    "start_time": "2022-11-19T20:17:20.771Z"
   },
   {
    "duration": 6,
    "start_time": "2022-11-19T20:17:20.782Z"
   },
   {
    "duration": 9,
    "start_time": "2022-11-19T20:17:20.790Z"
   },
   {
    "duration": 51,
    "start_time": "2022-11-19T20:17:20.801Z"
   },
   {
    "duration": 8,
    "start_time": "2022-11-19T20:17:20.854Z"
   },
   {
    "duration": 15,
    "start_time": "2022-11-19T20:17:20.864Z"
   },
   {
    "duration": 13,
    "start_time": "2022-11-19T20:17:20.881Z"
   },
   {
    "duration": 12,
    "start_time": "2022-11-19T20:17:20.896Z"
   },
   {
    "duration": 49,
    "start_time": "2022-11-19T20:17:20.909Z"
   },
   {
    "duration": 16,
    "start_time": "2022-11-19T20:17:20.960Z"
   },
   {
    "duration": 7,
    "start_time": "2022-11-19T20:17:20.978Z"
   },
   {
    "duration": 8,
    "start_time": "2022-11-19T20:17:20.987Z"
   },
   {
    "duration": 14,
    "start_time": "2022-11-19T20:17:20.997Z"
   },
   {
    "duration": 8,
    "start_time": "2022-11-19T20:17:21.012Z"
   },
   {
    "duration": 7,
    "start_time": "2022-11-19T20:17:21.022Z"
   },
   {
    "duration": 21,
    "start_time": "2022-11-19T20:17:21.030Z"
   },
   {
    "duration": 27,
    "start_time": "2022-11-19T20:17:21.053Z"
   },
   {
    "duration": 7,
    "start_time": "2022-11-19T20:17:21.082Z"
   },
   {
    "duration": 16,
    "start_time": "2022-11-19T20:17:21.091Z"
   },
   {
    "duration": 39,
    "start_time": "2022-11-19T20:17:21.113Z"
   },
   {
    "duration": 13,
    "start_time": "2022-11-19T20:17:21.154Z"
   },
   {
    "duration": 9,
    "start_time": "2022-11-19T20:17:21.169Z"
   },
   {
    "duration": 7,
    "start_time": "2022-11-19T20:17:21.180Z"
   },
   {
    "duration": 43,
    "start_time": "2022-11-19T20:17:21.188Z"
   },
   {
    "duration": 18,
    "start_time": "2022-11-19T20:17:21.233Z"
   },
   {
    "duration": 4,
    "start_time": "2022-11-19T20:17:21.252Z"
   },
   {
    "duration": 30,
    "start_time": "2022-11-19T20:17:21.258Z"
   },
   {
    "duration": 19,
    "start_time": "2022-11-19T20:17:21.290Z"
   },
   {
    "duration": 190,
    "start_time": "2022-11-19T20:17:21.310Z"
   },
   {
    "duration": 204,
    "start_time": "2022-11-19T20:17:21.502Z"
   },
   {
    "duration": 200,
    "start_time": "2022-11-19T20:17:21.709Z"
   },
   {
    "duration": 8,
    "start_time": "2022-11-19T20:17:21.911Z"
   },
   {
    "duration": 6,
    "start_time": "2022-11-19T20:17:21.921Z"
   },
   {
    "duration": 23,
    "start_time": "2022-11-19T20:17:21.928Z"
   },
   {
    "duration": 208,
    "start_time": "2022-11-19T20:17:21.953Z"
   },
   {
    "duration": 196,
    "start_time": "2022-11-19T20:17:22.162Z"
   },
   {
    "duration": 191,
    "start_time": "2022-11-19T20:17:22.360Z"
   },
   {
    "duration": 197,
    "start_time": "2022-11-19T20:17:22.553Z"
   },
   {
    "duration": 210,
    "start_time": "2022-11-19T20:17:22.753Z"
   },
   {
    "duration": 204,
    "start_time": "2022-11-19T20:17:22.964Z"
   },
   {
    "duration": 191,
    "start_time": "2022-11-19T20:17:23.169Z"
   },
   {
    "duration": 191,
    "start_time": "2022-11-19T20:17:23.362Z"
   },
   {
    "duration": 202,
    "start_time": "2022-11-19T20:17:23.555Z"
   },
   {
    "duration": 566,
    "start_time": "2022-11-19T20:17:23.758Z"
   },
   {
    "duration": 190,
    "start_time": "2022-11-19T20:17:24.326Z"
   },
   {
    "duration": 6,
    "start_time": "2022-11-19T20:17:24.518Z"
   },
   {
    "duration": 38,
    "start_time": "2022-11-19T20:17:24.526Z"
   },
   {
    "duration": 46,
    "start_time": "2022-11-19T20:17:24.566Z"
   },
   {
    "duration": 4,
    "start_time": "2022-11-19T20:17:24.614Z"
   },
   {
    "duration": 35,
    "start_time": "2022-11-19T20:17:24.620Z"
   },
   {
    "duration": 296,
    "start_time": "2022-11-19T20:17:27.743Z"
   },
   {
    "duration": 4,
    "start_time": "2022-11-19T20:18:24.376Z"
   },
   {
    "duration": 1157,
    "start_time": "2022-11-19T20:18:38.404Z"
   },
   {
    "duration": 4,
    "start_time": "2022-11-19T20:19:06.753Z"
   },
   {
    "duration": 350,
    "start_time": "2022-11-19T20:20:33.939Z"
   },
   {
    "duration": 20,
    "start_time": "2022-11-19T20:20:48.202Z"
   },
   {
    "duration": 279,
    "start_time": "2022-11-19T20:22:33.509Z"
   },
   {
    "duration": 289,
    "start_time": "2022-11-19T20:27:58.715Z"
   },
   {
    "duration": 10,
    "start_time": "2022-11-19T20:28:24.922Z"
   },
   {
    "duration": 5,
    "start_time": "2022-11-19T20:28:27.771Z"
   },
   {
    "duration": 150,
    "start_time": "2022-11-19T20:28:40.607Z"
   },
   {
    "duration": 54,
    "start_time": "2022-11-19T20:28:40.759Z"
   },
   {
    "duration": 7,
    "start_time": "2022-11-19T20:28:40.815Z"
   },
   {
    "duration": 1977,
    "start_time": "2022-11-19T20:28:40.824Z"
   },
   {
    "duration": 14,
    "start_time": "2022-11-19T20:28:42.803Z"
   },
   {
    "duration": 7,
    "start_time": "2022-11-19T20:28:42.819Z"
   },
   {
    "duration": 25,
    "start_time": "2022-11-19T20:28:42.828Z"
   },
   {
    "duration": 11,
    "start_time": "2022-11-19T20:28:42.855Z"
   },
   {
    "duration": 5,
    "start_time": "2022-11-19T20:28:42.868Z"
   },
   {
    "duration": 6,
    "start_time": "2022-11-19T20:28:42.876Z"
   },
   {
    "duration": 12,
    "start_time": "2022-11-19T20:28:42.884Z"
   },
   {
    "duration": 10,
    "start_time": "2022-11-19T20:28:42.898Z"
   },
   {
    "duration": 9,
    "start_time": "2022-11-19T20:28:42.952Z"
   },
   {
    "duration": 12,
    "start_time": "2022-11-19T20:28:42.964Z"
   },
   {
    "duration": 15,
    "start_time": "2022-11-19T20:28:42.978Z"
   },
   {
    "duration": 12,
    "start_time": "2022-11-19T20:28:42.995Z"
   },
   {
    "duration": 45,
    "start_time": "2022-11-19T20:28:43.009Z"
   },
   {
    "duration": 6,
    "start_time": "2022-11-19T20:28:43.055Z"
   },
   {
    "duration": 9,
    "start_time": "2022-11-19T20:28:43.062Z"
   },
   {
    "duration": 9,
    "start_time": "2022-11-19T20:28:43.073Z"
   },
   {
    "duration": 5,
    "start_time": "2022-11-19T20:28:43.084Z"
   },
   {
    "duration": 4,
    "start_time": "2022-11-19T20:28:43.091Z"
   },
   {
    "duration": 4,
    "start_time": "2022-11-19T20:28:43.097Z"
   },
   {
    "duration": 11,
    "start_time": "2022-11-19T20:28:43.103Z"
   },
   {
    "duration": 62,
    "start_time": "2022-11-19T20:28:43.115Z"
   },
   {
    "duration": 7,
    "start_time": "2022-11-19T20:28:43.179Z"
   },
   {
    "duration": 9,
    "start_time": "2022-11-19T20:28:43.188Z"
   },
   {
    "duration": 16,
    "start_time": "2022-11-19T20:28:43.200Z"
   },
   {
    "duration": 14,
    "start_time": "2022-11-19T20:28:51.300Z"
   },
   {
    "duration": 6,
    "start_time": "2022-11-19T20:28:52.140Z"
   },
   {
    "duration": 46,
    "start_time": "2022-11-19T20:29:07.722Z"
   },
   {
    "duration": 5,
    "start_time": "2022-11-19T20:29:08.749Z"
   },
   {
    "duration": 84,
    "start_time": "2022-11-19T20:29:19.501Z"
   },
   {
    "duration": 5,
    "start_time": "2022-11-19T20:29:20.917Z"
   },
   {
    "duration": 105,
    "start_time": "2022-11-19T20:29:26.889Z"
   },
   {
    "duration": 39,
    "start_time": "2022-11-19T20:29:26.996Z"
   },
   {
    "duration": 17,
    "start_time": "2022-11-19T20:29:27.036Z"
   },
   {
    "duration": 2226,
    "start_time": "2022-11-19T20:29:27.057Z"
   },
   {
    "duration": 11,
    "start_time": "2022-11-19T20:29:29.285Z"
   },
   {
    "duration": 17,
    "start_time": "2022-11-19T20:29:29.298Z"
   },
   {
    "duration": 22,
    "start_time": "2022-11-19T20:29:29.317Z"
   },
   {
    "duration": 21,
    "start_time": "2022-11-19T20:29:29.341Z"
   },
   {
    "duration": 9,
    "start_time": "2022-11-19T20:29:29.364Z"
   },
   {
    "duration": 6,
    "start_time": "2022-11-19T20:29:29.377Z"
   },
   {
    "duration": 11,
    "start_time": "2022-11-19T20:29:29.385Z"
   },
   {
    "duration": 10,
    "start_time": "2022-11-19T20:29:29.397Z"
   },
   {
    "duration": 43,
    "start_time": "2022-11-19T20:29:29.409Z"
   },
   {
    "duration": 12,
    "start_time": "2022-11-19T20:29:29.454Z"
   },
   {
    "duration": 17,
    "start_time": "2022-11-19T20:29:29.468Z"
   },
   {
    "duration": 11,
    "start_time": "2022-11-19T20:29:29.487Z"
   },
   {
    "duration": 19,
    "start_time": "2022-11-19T20:29:29.501Z"
   },
   {
    "duration": 5,
    "start_time": "2022-11-19T20:29:29.552Z"
   },
   {
    "duration": 8,
    "start_time": "2022-11-19T20:29:29.558Z"
   },
   {
    "duration": 21,
    "start_time": "2022-11-19T20:29:29.567Z"
   },
   {
    "duration": 18,
    "start_time": "2022-11-19T20:29:29.590Z"
   },
   {
    "duration": 12,
    "start_time": "2022-11-19T20:29:29.610Z"
   },
   {
    "duration": 9,
    "start_time": "2022-11-19T20:29:29.624Z"
   },
   {
    "duration": 18,
    "start_time": "2022-11-19T20:29:29.635Z"
   },
   {
    "duration": 48,
    "start_time": "2022-11-19T20:29:29.655Z"
   },
   {
    "duration": 8,
    "start_time": "2022-11-19T20:29:29.705Z"
   },
   {
    "duration": 12,
    "start_time": "2022-11-19T20:29:29.716Z"
   },
   {
    "duration": 28,
    "start_time": "2022-11-19T20:29:29.733Z"
   },
   {
    "duration": 96,
    "start_time": "2022-11-19T20:29:32.156Z"
   },
   {
    "duration": 6,
    "start_time": "2022-11-19T20:29:33.667Z"
   },
   {
    "duration": 64,
    "start_time": "2022-11-19T20:29:58.710Z"
   },
   {
    "duration": 8,
    "start_time": "2022-11-19T20:29:59.565Z"
   },
   {
    "duration": 119,
    "start_time": "2022-11-19T20:30:04.169Z"
   },
   {
    "duration": 46,
    "start_time": "2022-11-19T20:30:04.290Z"
   },
   {
    "duration": 17,
    "start_time": "2022-11-19T20:30:04.337Z"
   },
   {
    "duration": 1980,
    "start_time": "2022-11-19T20:30:04.356Z"
   },
   {
    "duration": 21,
    "start_time": "2022-11-19T20:30:06.339Z"
   },
   {
    "duration": 19,
    "start_time": "2022-11-19T20:30:06.362Z"
   },
   {
    "duration": 28,
    "start_time": "2022-11-19T20:30:06.383Z"
   },
   {
    "duration": 17,
    "start_time": "2022-11-19T20:30:06.414Z"
   },
   {
    "duration": 14,
    "start_time": "2022-11-19T20:30:06.433Z"
   },
   {
    "duration": 19,
    "start_time": "2022-11-19T20:30:06.450Z"
   },
   {
    "duration": 24,
    "start_time": "2022-11-19T20:30:06.471Z"
   },
   {
    "duration": 26,
    "start_time": "2022-11-19T20:30:06.497Z"
   },
   {
    "duration": 11,
    "start_time": "2022-11-19T20:30:06.525Z"
   },
   {
    "duration": 15,
    "start_time": "2022-11-19T20:30:06.538Z"
   },
   {
    "duration": 33,
    "start_time": "2022-11-19T20:30:06.557Z"
   },
   {
    "duration": 30,
    "start_time": "2022-11-19T20:30:06.592Z"
   },
   {
    "duration": 39,
    "start_time": "2022-11-19T20:30:06.624Z"
   },
   {
    "duration": 9,
    "start_time": "2022-11-19T20:30:06.665Z"
   },
   {
    "duration": 15,
    "start_time": "2022-11-19T20:30:06.676Z"
   },
   {
    "duration": 23,
    "start_time": "2022-11-19T20:30:06.693Z"
   },
   {
    "duration": 14,
    "start_time": "2022-11-19T20:30:06.718Z"
   },
   {
    "duration": 19,
    "start_time": "2022-11-19T20:30:06.734Z"
   },
   {
    "duration": 29,
    "start_time": "2022-11-19T20:30:06.755Z"
   },
   {
    "duration": 24,
    "start_time": "2022-11-19T20:30:06.786Z"
   },
   {
    "duration": 50,
    "start_time": "2022-11-19T20:30:06.813Z"
   },
   {
    "duration": 19,
    "start_time": "2022-11-19T20:30:06.866Z"
   },
   {
    "duration": 20,
    "start_time": "2022-11-19T20:30:06.887Z"
   },
   {
    "duration": 32,
    "start_time": "2022-11-19T20:30:06.911Z"
   },
   {
    "duration": 1161,
    "start_time": "2022-11-19T20:30:09.357Z"
   },
   {
    "duration": 64,
    "start_time": "2022-11-19T20:30:12.949Z"
   },
   {
    "duration": 5,
    "start_time": "2022-11-19T20:30:13.725Z"
   },
   {
    "duration": 5,
    "start_time": "2022-11-19T20:30:28.662Z"
   },
   {
    "duration": 6,
    "start_time": "2022-11-19T20:30:29.252Z"
   },
   {
    "duration": 1195,
    "start_time": "2022-11-19T20:30:39.470Z"
   },
   {
    "duration": 117,
    "start_time": "2022-11-19T20:30:44.657Z"
   },
   {
    "duration": 44,
    "start_time": "2022-11-19T20:30:44.776Z"
   },
   {
    "duration": 32,
    "start_time": "2022-11-19T20:30:44.822Z"
   },
   {
    "duration": 2357,
    "start_time": "2022-11-19T20:30:44.856Z"
   },
   {
    "duration": 10,
    "start_time": "2022-11-19T20:30:47.215Z"
   },
   {
    "duration": 25,
    "start_time": "2022-11-19T20:30:47.227Z"
   },
   {
    "duration": 7,
    "start_time": "2022-11-19T20:30:47.253Z"
   },
   {
    "duration": 12,
    "start_time": "2022-11-19T20:30:47.262Z"
   },
   {
    "duration": 6,
    "start_time": "2022-11-19T20:30:47.276Z"
   },
   {
    "duration": 8,
    "start_time": "2022-11-19T20:30:47.284Z"
   },
   {
    "duration": 11,
    "start_time": "2022-11-19T20:30:47.294Z"
   },
   {
    "duration": 50,
    "start_time": "2022-11-19T20:30:47.307Z"
   },
   {
    "duration": 10,
    "start_time": "2022-11-19T20:30:47.359Z"
   },
   {
    "duration": 15,
    "start_time": "2022-11-19T20:30:47.371Z"
   },
   {
    "duration": 14,
    "start_time": "2022-11-19T20:30:47.388Z"
   },
   {
    "duration": 11,
    "start_time": "2022-11-19T20:30:47.404Z"
   },
   {
    "duration": 54,
    "start_time": "2022-11-19T20:30:47.417Z"
   },
   {
    "duration": 5,
    "start_time": "2022-11-19T20:30:47.473Z"
   },
   {
    "duration": 7,
    "start_time": "2022-11-19T20:30:47.479Z"
   },
   {
    "duration": 8,
    "start_time": "2022-11-19T20:30:47.488Z"
   },
   {
    "duration": 10,
    "start_time": "2022-11-19T20:30:47.497Z"
   },
   {
    "duration": 8,
    "start_time": "2022-11-19T20:30:47.509Z"
   },
   {
    "duration": 33,
    "start_time": "2022-11-19T20:30:47.519Z"
   },
   {
    "duration": 10,
    "start_time": "2022-11-19T20:30:47.554Z"
   },
   {
    "duration": 27,
    "start_time": "2022-11-19T20:30:47.566Z"
   },
   {
    "duration": 7,
    "start_time": "2022-11-19T20:30:47.594Z"
   },
   {
    "duration": 23,
    "start_time": "2022-11-19T20:30:47.603Z"
   },
   {
    "duration": 14,
    "start_time": "2022-11-19T20:30:47.650Z"
   },
   {
    "duration": 8,
    "start_time": "2022-11-19T20:30:47.666Z"
   },
   {
    "duration": 8,
    "start_time": "2022-11-19T20:30:47.675Z"
   },
   {
    "duration": 6,
    "start_time": "2022-11-19T20:30:47.684Z"
   },
   {
    "duration": 36,
    "start_time": "2022-11-19T20:30:47.691Z"
   },
   {
    "duration": 6,
    "start_time": "2022-11-19T20:30:47.750Z"
   },
   {
    "duration": 8,
    "start_time": "2022-11-19T20:30:47.758Z"
   },
   {
    "duration": 40,
    "start_time": "2022-11-19T20:30:47.768Z"
   },
   {
    "duration": 42,
    "start_time": "2022-11-19T20:30:47.810Z"
   },
   {
    "duration": 186,
    "start_time": "2022-11-19T20:30:47.854Z"
   },
   {
    "duration": 217,
    "start_time": "2022-11-19T20:30:48.042Z"
   },
   {
    "duration": 194,
    "start_time": "2022-11-19T20:30:48.261Z"
   },
   {
    "duration": 8,
    "start_time": "2022-11-19T20:30:48.458Z"
   },
   {
    "duration": 9,
    "start_time": "2022-11-19T20:30:48.468Z"
   },
   {
    "duration": 10,
    "start_time": "2022-11-19T20:30:48.479Z"
   },
   {
    "duration": 230,
    "start_time": "2022-11-19T20:30:48.491Z"
   },
   {
    "duration": 209,
    "start_time": "2022-11-19T20:30:48.723Z"
   },
   {
    "duration": 219,
    "start_time": "2022-11-19T20:30:48.934Z"
   },
   {
    "duration": 204,
    "start_time": "2022-11-19T20:30:49.155Z"
   },
   {
    "duration": 199,
    "start_time": "2022-11-19T20:30:49.361Z"
   },
   {
    "duration": 238,
    "start_time": "2022-11-19T20:30:49.561Z"
   },
   {
    "duration": 241,
    "start_time": "2022-11-19T20:30:49.801Z"
   },
   {
    "duration": 200,
    "start_time": "2022-11-19T20:30:50.051Z"
   },
   {
    "duration": 192,
    "start_time": "2022-11-19T20:30:50.252Z"
   },
   {
    "duration": 244,
    "start_time": "2022-11-19T20:30:50.446Z"
   },
   {
    "duration": 189,
    "start_time": "2022-11-19T20:30:50.692Z"
   },
   {
    "duration": 5,
    "start_time": "2022-11-19T20:30:50.883Z"
   },
   {
    "duration": 26,
    "start_time": "2022-11-19T20:30:50.890Z"
   },
   {
    "duration": 56,
    "start_time": "2022-11-19T20:30:50.918Z"
   },
   {
    "duration": 6,
    "start_time": "2022-11-19T20:30:50.976Z"
   },
   {
    "duration": 18,
    "start_time": "2022-11-19T20:30:50.983Z"
   },
   {
    "duration": 4,
    "start_time": "2022-11-19T20:30:51.003Z"
   },
   {
    "duration": 330,
    "start_time": "2022-11-19T20:30:51.009Z"
   },
   {
    "duration": 470,
    "start_time": "2022-11-19T20:30:51.341Z"
   },
   {
    "duration": 1200,
    "start_time": "2022-11-19T20:30:51.813Z"
   },
   {
    "duration": 0,
    "start_time": "2022-11-19T20:30:53.015Z"
   },
   {
    "duration": 0,
    "start_time": "2022-11-19T20:30:53.017Z"
   },
   {
    "duration": 0,
    "start_time": "2022-11-19T20:30:53.018Z"
   },
   {
    "duration": 0,
    "start_time": "2022-11-19T20:30:53.019Z"
   },
   {
    "duration": 0,
    "start_time": "2022-11-19T20:30:53.020Z"
   },
   {
    "duration": 1138,
    "start_time": "2022-11-19T20:31:14.989Z"
   },
   {
    "duration": 557,
    "start_time": "2022-11-19T20:31:24.919Z"
   },
   {
    "duration": 564,
    "start_time": "2022-11-19T20:31:50.312Z"
   },
   {
    "duration": 5,
    "start_time": "2022-11-19T20:32:14.057Z"
   },
   {
    "duration": 313,
    "start_time": "2022-11-19T20:32:33.017Z"
   },
   {
    "duration": 25,
    "start_time": "2022-11-19T20:32:49.654Z"
   },
   {
    "duration": 23,
    "start_time": "2022-11-19T20:33:01.792Z"
   },
   {
    "duration": 298,
    "start_time": "2022-11-19T20:33:08.049Z"
   },
   {
    "duration": 582,
    "start_time": "2022-11-19T20:33:20.786Z"
   },
   {
    "duration": 541,
    "start_time": "2022-11-19T20:33:32.994Z"
   },
   {
    "duration": 531,
    "start_time": "2022-11-19T20:33:45.530Z"
   },
   {
    "duration": 25,
    "start_time": "2022-11-19T20:33:50.802Z"
   },
   {
    "duration": 25,
    "start_time": "2022-11-19T20:33:58.178Z"
   },
   {
    "duration": 581,
    "start_time": "2022-11-19T20:34:01.650Z"
   },
   {
    "duration": 276,
    "start_time": "2022-11-19T20:34:18.578Z"
   },
   {
    "duration": 257,
    "start_time": "2022-11-19T20:34:20.233Z"
   },
   {
    "duration": 28,
    "start_time": "2022-11-19T20:34:21.610Z"
   },
   {
    "duration": 247,
    "start_time": "2022-11-19T20:34:22.946Z"
   },
   {
    "duration": 109,
    "start_time": "2022-11-19T20:34:40.865Z"
   },
   {
    "duration": 38,
    "start_time": "2022-11-19T20:34:40.976Z"
   },
   {
    "duration": 5,
    "start_time": "2022-11-19T20:34:41.016Z"
   },
   {
    "duration": 2009,
    "start_time": "2022-11-19T20:34:41.023Z"
   },
   {
    "duration": 22,
    "start_time": "2022-11-19T20:34:43.034Z"
   },
   {
    "duration": 8,
    "start_time": "2022-11-19T20:34:43.058Z"
   },
   {
    "duration": 7,
    "start_time": "2022-11-19T20:34:43.067Z"
   },
   {
    "duration": 15,
    "start_time": "2022-11-19T20:34:43.075Z"
   },
   {
    "duration": 5,
    "start_time": "2022-11-19T20:34:43.091Z"
   },
   {
    "duration": 8,
    "start_time": "2022-11-19T20:34:43.099Z"
   },
   {
    "duration": 12,
    "start_time": "2022-11-19T20:34:43.109Z"
   },
   {
    "duration": 10,
    "start_time": "2022-11-19T20:34:43.150Z"
   },
   {
    "duration": 9,
    "start_time": "2022-11-19T20:34:43.162Z"
   },
   {
    "duration": 12,
    "start_time": "2022-11-19T20:34:43.173Z"
   },
   {
    "duration": 15,
    "start_time": "2022-11-19T20:34:43.187Z"
   },
   {
    "duration": 48,
    "start_time": "2022-11-19T20:34:43.204Z"
   },
   {
    "duration": 18,
    "start_time": "2022-11-19T20:34:43.254Z"
   },
   {
    "duration": 5,
    "start_time": "2022-11-19T20:34:43.274Z"
   },
   {
    "duration": 6,
    "start_time": "2022-11-19T20:34:43.280Z"
   },
   {
    "duration": 8,
    "start_time": "2022-11-19T20:34:43.288Z"
   },
   {
    "duration": 6,
    "start_time": "2022-11-19T20:34:43.297Z"
   },
   {
    "duration": 5,
    "start_time": "2022-11-19T20:34:43.305Z"
   },
   {
    "duration": 6,
    "start_time": "2022-11-19T20:34:43.312Z"
   },
   {
    "duration": 10,
    "start_time": "2022-11-19T20:34:43.350Z"
   },
   {
    "duration": 28,
    "start_time": "2022-11-19T20:34:43.362Z"
   },
   {
    "duration": 9,
    "start_time": "2022-11-19T20:34:43.392Z"
   },
   {
    "duration": 8,
    "start_time": "2022-11-19T20:34:43.403Z"
   },
   {
    "duration": 47,
    "start_time": "2022-11-19T20:34:43.415Z"
   },
   {
    "duration": 9,
    "start_time": "2022-11-19T20:34:43.464Z"
   },
   {
    "duration": 7,
    "start_time": "2022-11-19T20:34:43.475Z"
   },
   {
    "duration": 8,
    "start_time": "2022-11-19T20:34:43.484Z"
   },
   {
    "duration": 30,
    "start_time": "2022-11-19T20:34:43.494Z"
   },
   {
    "duration": 24,
    "start_time": "2022-11-19T20:34:43.526Z"
   },
   {
    "duration": 5,
    "start_time": "2022-11-19T20:34:43.552Z"
   },
   {
    "duration": 30,
    "start_time": "2022-11-19T20:34:43.559Z"
   },
   {
    "duration": 17,
    "start_time": "2022-11-19T20:34:43.590Z"
   },
   {
    "duration": 192,
    "start_time": "2022-11-19T20:34:43.608Z"
   },
   {
    "duration": 220,
    "start_time": "2022-11-19T20:34:43.802Z"
   },
   {
    "duration": 204,
    "start_time": "2022-11-19T20:34:44.024Z"
   },
   {
    "duration": 7,
    "start_time": "2022-11-19T20:34:44.230Z"
   },
   {
    "duration": 14,
    "start_time": "2022-11-19T20:34:44.238Z"
   },
   {
    "duration": 9,
    "start_time": "2022-11-19T20:34:44.254Z"
   },
   {
    "duration": 206,
    "start_time": "2022-11-19T20:34:44.265Z"
   },
   {
    "duration": 192,
    "start_time": "2022-11-19T20:34:44.473Z"
   },
   {
    "duration": 189,
    "start_time": "2022-11-19T20:34:44.667Z"
   },
   {
    "duration": 173,
    "start_time": "2022-11-19T20:34:44.857Z"
   },
   {
    "duration": 190,
    "start_time": "2022-11-19T20:34:45.031Z"
   },
   {
    "duration": 187,
    "start_time": "2022-11-19T20:34:45.223Z"
   },
   {
    "duration": 192,
    "start_time": "2022-11-19T20:34:45.412Z"
   },
   {
    "duration": 199,
    "start_time": "2022-11-19T20:34:45.606Z"
   },
   {
    "duration": 207,
    "start_time": "2022-11-19T20:34:45.807Z"
   },
   {
    "duration": 242,
    "start_time": "2022-11-19T20:34:46.016Z"
   },
   {
    "duration": 693,
    "start_time": "2022-11-19T20:34:46.259Z"
   },
   {
    "duration": 6,
    "start_time": "2022-11-19T20:34:46.954Z"
   },
   {
    "duration": 24,
    "start_time": "2022-11-19T20:34:46.962Z"
   },
   {
    "duration": 46,
    "start_time": "2022-11-19T20:34:46.988Z"
   },
   {
    "duration": 6,
    "start_time": "2022-11-19T20:34:47.050Z"
   },
   {
    "duration": 13,
    "start_time": "2022-11-19T20:34:47.058Z"
   },
   {
    "duration": 5,
    "start_time": "2022-11-19T20:34:47.072Z"
   },
   {
    "duration": 570,
    "start_time": "2022-11-19T20:34:47.078Z"
   },
   {
    "duration": 503,
    "start_time": "2022-11-19T20:34:47.650Z"
   },
   {
    "duration": 274,
    "start_time": "2022-11-19T20:34:48.155Z"
   },
   {
    "duration": 251,
    "start_time": "2022-11-19T20:34:48.431Z"
   },
   {
    "duration": 29,
    "start_time": "2022-11-19T20:34:48.683Z"
   },
   {
    "duration": 278,
    "start_time": "2022-11-19T20:34:50.651Z"
   },
   {
    "duration": 205,
    "start_time": "2022-11-19T20:34:52.737Z"
   },
   {
    "duration": 241,
    "start_time": "2022-11-19T20:35:01.163Z"
   },
   {
    "duration": 254,
    "start_time": "2022-11-19T20:35:06.171Z"
   },
   {
    "duration": 210,
    "start_time": "2022-11-19T20:37:03.397Z"
   },
   {
    "duration": 129,
    "start_time": "2022-11-19T20:37:25.266Z"
   },
   {
    "duration": 77,
    "start_time": "2022-11-19T20:37:25.399Z"
   },
   {
    "duration": 6,
    "start_time": "2022-11-19T20:37:25.478Z"
   },
   {
    "duration": 1898,
    "start_time": "2022-11-19T20:37:25.485Z"
   },
   {
    "duration": 10,
    "start_time": "2022-11-19T20:37:27.384Z"
   },
   {
    "duration": 7,
    "start_time": "2022-11-19T20:37:27.396Z"
   },
   {
    "duration": 7,
    "start_time": "2022-11-19T20:37:27.404Z"
   },
   {
    "duration": 43,
    "start_time": "2022-11-19T20:37:27.413Z"
   },
   {
    "duration": 5,
    "start_time": "2022-11-19T20:37:27.459Z"
   },
   {
    "duration": 6,
    "start_time": "2022-11-19T20:37:27.468Z"
   },
   {
    "duration": 13,
    "start_time": "2022-11-19T20:37:27.476Z"
   },
   {
    "duration": 12,
    "start_time": "2022-11-19T20:37:27.490Z"
   },
   {
    "duration": 7,
    "start_time": "2022-11-19T20:37:27.504Z"
   },
   {
    "duration": 45,
    "start_time": "2022-11-19T20:37:27.513Z"
   },
   {
    "duration": 14,
    "start_time": "2022-11-19T20:37:27.560Z"
   },
   {
    "duration": 12,
    "start_time": "2022-11-19T20:37:27.575Z"
   },
   {
    "duration": 18,
    "start_time": "2022-11-19T20:37:27.589Z"
   },
   {
    "duration": 5,
    "start_time": "2022-11-19T20:37:27.609Z"
   },
   {
    "duration": 38,
    "start_time": "2022-11-19T20:37:27.615Z"
   },
   {
    "duration": 6,
    "start_time": "2022-11-19T20:37:27.655Z"
   },
   {
    "duration": 7,
    "start_time": "2022-11-19T20:37:27.662Z"
   },
   {
    "duration": 5,
    "start_time": "2022-11-19T20:37:27.670Z"
   },
   {
    "duration": 5,
    "start_time": "2022-11-19T20:37:27.676Z"
   },
   {
    "duration": 10,
    "start_time": "2022-11-19T20:37:27.682Z"
   },
   {
    "duration": 27,
    "start_time": "2022-11-19T20:37:27.694Z"
   },
   {
    "duration": 8,
    "start_time": "2022-11-19T20:37:27.750Z"
   },
   {
    "duration": 8,
    "start_time": "2022-11-19T20:37:27.759Z"
   },
   {
    "duration": 13,
    "start_time": "2022-11-19T20:37:27.771Z"
   },
   {
    "duration": 13,
    "start_time": "2022-11-19T20:37:27.785Z"
   },
   {
    "duration": 5,
    "start_time": "2022-11-19T20:37:27.799Z"
   },
   {
    "duration": 5,
    "start_time": "2022-11-19T20:37:27.806Z"
   },
   {
    "duration": 58,
    "start_time": "2022-11-19T20:37:27.812Z"
   },
   {
    "duration": 6,
    "start_time": "2022-11-19T20:37:27.871Z"
   },
   {
    "duration": 6,
    "start_time": "2022-11-19T20:37:27.878Z"
   },
   {
    "duration": 27,
    "start_time": "2022-11-19T20:37:27.886Z"
   },
   {
    "duration": 36,
    "start_time": "2022-11-19T20:37:27.915Z"
   },
   {
    "duration": 158,
    "start_time": "2022-11-19T20:37:27.953Z"
   },
   {
    "duration": 208,
    "start_time": "2022-11-19T20:37:28.113Z"
   },
   {
    "duration": 188,
    "start_time": "2022-11-19T20:37:28.323Z"
   },
   {
    "duration": 7,
    "start_time": "2022-11-19T20:37:28.512Z"
   },
   {
    "duration": 3,
    "start_time": "2022-11-19T20:37:28.520Z"
   },
   {
    "duration": 10,
    "start_time": "2022-11-19T20:37:28.525Z"
   },
   {
    "duration": 200,
    "start_time": "2022-11-19T20:37:28.551Z"
   },
   {
    "duration": 188,
    "start_time": "2022-11-19T20:37:28.752Z"
   },
   {
    "duration": 190,
    "start_time": "2022-11-19T20:37:28.941Z"
   },
   {
    "duration": 180,
    "start_time": "2022-11-19T20:37:29.134Z"
   },
   {
    "duration": 195,
    "start_time": "2022-11-19T20:37:29.316Z"
   },
   {
    "duration": 233,
    "start_time": "2022-11-19T20:37:29.513Z"
   },
   {
    "duration": 212,
    "start_time": "2022-11-19T20:37:29.752Z"
   },
   {
    "duration": 192,
    "start_time": "2022-11-19T20:37:29.965Z"
   },
   {
    "duration": 205,
    "start_time": "2022-11-19T20:37:30.159Z"
   },
   {
    "duration": 224,
    "start_time": "2022-11-19T20:37:30.366Z"
   },
   {
    "duration": 201,
    "start_time": "2022-11-19T20:37:30.592Z"
   },
   {
    "duration": 6,
    "start_time": "2022-11-19T20:37:30.795Z"
   },
   {
    "duration": 29,
    "start_time": "2022-11-19T20:37:30.802Z"
   },
   {
    "duration": 45,
    "start_time": "2022-11-19T20:37:30.833Z"
   },
   {
    "duration": 10,
    "start_time": "2022-11-19T20:37:30.880Z"
   },
   {
    "duration": 20,
    "start_time": "2022-11-19T20:37:30.892Z"
   },
   {
    "duration": 21,
    "start_time": "2022-11-19T20:37:30.914Z"
   },
   {
    "duration": 582,
    "start_time": "2022-11-19T20:37:30.937Z"
   },
   {
    "duration": 489,
    "start_time": "2022-11-19T20:37:31.521Z"
   },
   {
    "duration": 274,
    "start_time": "2022-11-19T20:37:32.012Z"
   },
   {
    "duration": 255,
    "start_time": "2022-11-19T20:37:32.288Z"
   },
   {
    "duration": 34,
    "start_time": "2022-11-19T20:37:32.544Z"
   },
   {
    "duration": 255,
    "start_time": "2022-11-19T20:37:32.580Z"
   },
   {
    "duration": 224,
    "start_time": "2022-11-19T20:37:32.836Z"
   },
   {
    "duration": 1080,
    "start_time": "2022-11-19T20:37:33.061Z"
   },
   {
    "duration": 17,
    "start_time": "2022-11-19T20:38:11.117Z"
   },
   {
    "duration": 47,
    "start_time": "2022-11-19T20:38:14.870Z"
   },
   {
    "duration": 31,
    "start_time": "2022-11-19T20:38:25.193Z"
   },
   {
    "duration": 209,
    "start_time": "2022-11-19T20:38:45.983Z"
   },
   {
    "duration": 213,
    "start_time": "2022-11-19T20:39:06.464Z"
   },
   {
    "duration": 220,
    "start_time": "2022-11-19T20:39:12.655Z"
   },
   {
    "duration": 254,
    "start_time": "2022-11-19T20:40:18.345Z"
   },
   {
    "duration": 267,
    "start_time": "2022-11-19T20:40:52.217Z"
   },
   {
    "duration": 291,
    "start_time": "2022-11-19T20:41:05.034Z"
   },
   {
    "duration": 355,
    "start_time": "2022-11-19T20:41:10.004Z"
   },
   {
    "duration": 262,
    "start_time": "2022-11-19T20:41:14.442Z"
   },
   {
    "duration": 354,
    "start_time": "2022-11-19T20:41:19.553Z"
   },
   {
    "duration": 280,
    "start_time": "2022-11-19T20:43:23.348Z"
   },
   {
    "duration": 236,
    "start_time": "2022-11-19T20:43:28.723Z"
   },
   {
    "duration": 243,
    "start_time": "2022-11-19T20:43:43.076Z"
   },
   {
    "duration": 244,
    "start_time": "2022-11-19T20:43:47.988Z"
   },
   {
    "duration": 876,
    "start_time": "2022-11-19T20:43:51.253Z"
   },
   {
    "duration": 917,
    "start_time": "2022-11-19T20:44:32.428Z"
   },
   {
    "duration": 324,
    "start_time": "2022-11-19T20:44:37.436Z"
   },
   {
    "duration": 269,
    "start_time": "2022-11-19T20:44:47.221Z"
   },
   {
    "duration": 265,
    "start_time": "2022-11-19T20:45:07.854Z"
   },
   {
    "duration": 234,
    "start_time": "2022-11-19T20:45:16.878Z"
   },
   {
    "duration": 245,
    "start_time": "2022-11-19T20:45:25.605Z"
   },
   {
    "duration": 354,
    "start_time": "2022-11-19T20:47:06.176Z"
   },
   {
    "duration": 277,
    "start_time": "2022-11-19T20:47:10.096Z"
   },
   {
    "duration": 267,
    "start_time": "2022-11-19T20:47:28.978Z"
   },
   {
    "duration": 250,
    "start_time": "2022-11-19T20:47:39.104Z"
   },
   {
    "duration": 253,
    "start_time": "2022-11-19T20:47:45.952Z"
   },
   {
    "duration": 242,
    "start_time": "2022-11-19T20:47:52.401Z"
   },
   {
    "duration": 235,
    "start_time": "2022-11-19T20:48:02.161Z"
   },
   {
    "duration": 233,
    "start_time": "2022-11-19T20:52:24.718Z"
   },
   {
    "duration": 241,
    "start_time": "2022-11-19T20:52:30.413Z"
   },
   {
    "duration": 226,
    "start_time": "2022-11-19T20:52:37.152Z"
   },
   {
    "duration": 209,
    "start_time": "2022-11-19T20:54:26.968Z"
   },
   {
    "duration": 223,
    "start_time": "2022-11-19T20:54:32.904Z"
   },
   {
    "duration": 217,
    "start_time": "2022-11-19T20:54:35.897Z"
   },
   {
    "duration": 263,
    "start_time": "2022-11-19T20:58:40.333Z"
   },
   {
    "duration": 207,
    "start_time": "2022-11-19T20:58:44.493Z"
   },
   {
    "duration": 226,
    "start_time": "2022-11-19T20:59:26.549Z"
   },
   {
    "duration": 286,
    "start_time": "2022-11-19T20:59:30.421Z"
   },
   {
    "duration": 217,
    "start_time": "2022-11-19T20:59:35.485Z"
   },
   {
    "duration": 209,
    "start_time": "2022-11-19T20:59:42.994Z"
   },
   {
    "duration": 198,
    "start_time": "2022-11-19T20:59:46.813Z"
   },
   {
    "duration": 201,
    "start_time": "2022-11-19T20:59:51.565Z"
   },
   {
    "duration": 258,
    "start_time": "2022-11-19T20:59:53.654Z"
   },
   {
    "duration": 261,
    "start_time": "2022-11-19T20:59:57.334Z"
   },
   {
    "duration": 78,
    "start_time": "2022-11-19T21:00:21.149Z"
   },
   {
    "duration": 29,
    "start_time": "2022-11-19T21:00:24.149Z"
   },
   {
    "duration": 286,
    "start_time": "2022-11-19T21:00:49.152Z"
   },
   {
    "duration": 1781,
    "start_time": "2022-11-19T21:01:12.758Z"
   },
   {
    "duration": 1156,
    "start_time": "2022-11-19T21:01:17.151Z"
   },
   {
    "duration": 1173,
    "start_time": "2022-11-19T21:01:18.655Z"
   },
   {
    "duration": 1130,
    "start_time": "2022-11-19T21:01:36.207Z"
   },
   {
    "duration": 211,
    "start_time": "2022-11-19T21:02:16.937Z"
   },
   {
    "duration": 13,
    "start_time": "2022-11-19T21:03:57.409Z"
   },
   {
    "duration": 219,
    "start_time": "2022-11-19T21:04:09.161Z"
   },
   {
    "duration": 68,
    "start_time": "2022-11-19T21:05:54.857Z"
   },
   {
    "duration": 74,
    "start_time": "2022-11-19T21:06:32.660Z"
   },
   {
    "duration": 571,
    "start_time": "2022-11-19T21:07:13.701Z"
   },
   {
    "duration": 50,
    "start_time": "2022-11-20T17:02:47.347Z"
   },
   {
    "duration": 6,
    "start_time": "2022-11-20T17:02:59.325Z"
   },
   {
    "duration": 587,
    "start_time": "2022-11-20T17:03:02.743Z"
   },
   {
    "duration": 47,
    "start_time": "2022-11-20T17:03:03.332Z"
   },
   {
    "duration": 5,
    "start_time": "2022-11-20T17:03:03.381Z"
   },
   {
    "duration": 2564,
    "start_time": "2022-11-20T17:03:03.388Z"
   },
   {
    "duration": 11,
    "start_time": "2022-11-20T17:03:05.954Z"
   },
   {
    "duration": 15,
    "start_time": "2022-11-20T17:03:05.966Z"
   },
   {
    "duration": 23,
    "start_time": "2022-11-20T17:03:05.983Z"
   },
   {
    "duration": 18,
    "start_time": "2022-11-20T17:03:06.008Z"
   },
   {
    "duration": 30,
    "start_time": "2022-11-20T17:03:06.027Z"
   },
   {
    "duration": 12,
    "start_time": "2022-11-20T17:03:06.060Z"
   },
   {
    "duration": 24,
    "start_time": "2022-11-20T17:03:06.074Z"
   },
   {
    "duration": 19,
    "start_time": "2022-11-20T17:03:06.100Z"
   },
   {
    "duration": 48,
    "start_time": "2022-11-20T17:03:06.121Z"
   },
   {
    "duration": 11,
    "start_time": "2022-11-20T17:03:06.171Z"
   },
   {
    "duration": 23,
    "start_time": "2022-11-20T17:03:06.184Z"
   },
   {
    "duration": 29,
    "start_time": "2022-11-20T17:03:06.209Z"
   },
   {
    "duration": 27,
    "start_time": "2022-11-20T17:03:06.240Z"
   },
   {
    "duration": 17,
    "start_time": "2022-11-20T17:03:06.269Z"
   },
   {
    "duration": 13,
    "start_time": "2022-11-20T17:03:06.287Z"
   },
   {
    "duration": 14,
    "start_time": "2022-11-20T17:03:06.301Z"
   },
   {
    "duration": 21,
    "start_time": "2022-11-20T17:03:06.316Z"
   },
   {
    "duration": 18,
    "start_time": "2022-11-20T17:03:06.338Z"
   },
   {
    "duration": 28,
    "start_time": "2022-11-20T17:03:06.358Z"
   },
   {
    "duration": 26,
    "start_time": "2022-11-20T17:03:06.387Z"
   },
   {
    "duration": 53,
    "start_time": "2022-11-20T17:03:06.415Z"
   },
   {
    "duration": 17,
    "start_time": "2022-11-20T17:03:06.469Z"
   },
   {
    "duration": 31,
    "start_time": "2022-11-20T17:03:06.487Z"
   },
   {
    "duration": 29,
    "start_time": "2022-11-20T17:03:06.523Z"
   },
   {
    "duration": 24,
    "start_time": "2022-11-20T17:03:06.554Z"
   },
   {
    "duration": 18,
    "start_time": "2022-11-20T17:03:06.580Z"
   },
   {
    "duration": 28,
    "start_time": "2022-11-20T17:03:06.600Z"
   },
   {
    "duration": 54,
    "start_time": "2022-11-20T17:03:06.629Z"
   },
   {
    "duration": 6,
    "start_time": "2022-11-20T17:03:06.684Z"
   },
   {
    "duration": 31,
    "start_time": "2022-11-20T17:03:06.691Z"
   },
   {
    "duration": 55,
    "start_time": "2022-11-20T17:03:06.723Z"
   },
   {
    "duration": 20,
    "start_time": "2022-11-20T17:03:06.779Z"
   },
   {
    "duration": 166,
    "start_time": "2022-11-20T17:03:06.801Z"
   },
   {
    "duration": 198,
    "start_time": "2022-11-20T17:03:06.968Z"
   },
   {
    "duration": 200,
    "start_time": "2022-11-20T17:03:07.168Z"
   },
   {
    "duration": 10,
    "start_time": "2022-11-20T17:03:07.369Z"
   },
   {
    "duration": 21,
    "start_time": "2022-11-20T17:03:07.380Z"
   },
   {
    "duration": 29,
    "start_time": "2022-11-20T17:03:07.403Z"
   },
   {
    "duration": 208,
    "start_time": "2022-11-20T17:03:07.434Z"
   },
   {
    "duration": 257,
    "start_time": "2022-11-20T17:03:07.644Z"
   },
   {
    "duration": 189,
    "start_time": "2022-11-20T17:03:07.902Z"
   },
   {
    "duration": 168,
    "start_time": "2022-11-20T17:03:08.093Z"
   },
   {
    "duration": 184,
    "start_time": "2022-11-20T17:03:08.263Z"
   },
   {
    "duration": 193,
    "start_time": "2022-11-20T17:03:08.448Z"
   },
   {
    "duration": 200,
    "start_time": "2022-11-20T17:03:08.643Z"
   },
   {
    "duration": 209,
    "start_time": "2022-11-20T17:03:08.844Z"
   },
   {
    "duration": 205,
    "start_time": "2022-11-20T17:03:09.055Z"
   },
   {
    "duration": 236,
    "start_time": "2022-11-20T17:03:09.262Z"
   },
   {
    "duration": 205,
    "start_time": "2022-11-20T17:03:09.500Z"
   },
   {
    "duration": 6,
    "start_time": "2022-11-20T17:03:09.706Z"
   },
   {
    "duration": 53,
    "start_time": "2022-11-20T17:03:09.714Z"
   },
   {
    "duration": 33,
    "start_time": "2022-11-20T17:03:09.768Z"
   },
   {
    "duration": 5,
    "start_time": "2022-11-20T17:03:09.802Z"
   },
   {
    "duration": 25,
    "start_time": "2022-11-20T17:03:09.808Z"
   },
   {
    "duration": 25,
    "start_time": "2022-11-20T17:03:09.834Z"
   },
   {
    "duration": 577,
    "start_time": "2022-11-20T17:03:09.861Z"
   },
   {
    "duration": 855,
    "start_time": "2022-11-20T17:03:10.439Z"
   },
   {
    "duration": 268,
    "start_time": "2022-11-20T17:03:11.295Z"
   },
   {
    "duration": 248,
    "start_time": "2022-11-20T17:03:11.564Z"
   },
   {
    "duration": 242,
    "start_time": "2022-11-20T17:03:11.813Z"
   },
   {
    "duration": 254,
    "start_time": "2022-11-20T17:03:12.057Z"
   },
   {
    "duration": 27,
    "start_time": "2022-11-20T17:03:12.312Z"
   },
   {
    "duration": 290,
    "start_time": "2022-11-20T17:03:12.341Z"
   },
   {
    "duration": 213,
    "start_time": "2022-11-20T17:03:12.633Z"
   },
   {
    "duration": 240,
    "start_time": "2022-11-20T17:03:12.848Z"
   },
   {
    "duration": 273,
    "start_time": "2022-11-20T17:03:13.090Z"
   },
   {
    "duration": 358,
    "start_time": "2022-11-20T17:03:13.365Z"
   },
   {
    "duration": 231,
    "start_time": "2022-11-20T17:03:13.724Z"
   },
   {
    "duration": 498,
    "start_time": "2022-11-20T17:06:51.257Z"
   },
   {
    "duration": 743,
    "start_time": "2022-11-20T17:09:22.760Z"
   },
   {
    "duration": 721,
    "start_time": "2022-11-20T17:09:36.187Z"
   },
   {
    "duration": 221,
    "start_time": "2022-11-20T17:10:26.764Z"
   },
   {
    "duration": 107,
    "start_time": "2022-11-20T17:11:22.085Z"
   },
   {
    "duration": 37,
    "start_time": "2022-11-20T17:11:22.193Z"
   },
   {
    "duration": 4,
    "start_time": "2022-11-20T17:11:22.232Z"
   },
   {
    "duration": 2156,
    "start_time": "2022-11-20T17:11:22.238Z"
   },
   {
    "duration": 8,
    "start_time": "2022-11-20T17:11:24.396Z"
   },
   {
    "duration": 10,
    "start_time": "2022-11-20T17:11:24.406Z"
   },
   {
    "duration": 14,
    "start_time": "2022-11-20T17:11:24.418Z"
   },
   {
    "duration": 9,
    "start_time": "2022-11-20T17:11:24.434Z"
   },
   {
    "duration": 6,
    "start_time": "2022-11-20T17:11:24.446Z"
   },
   {
    "duration": 6,
    "start_time": "2022-11-20T17:11:24.480Z"
   },
   {
    "duration": 11,
    "start_time": "2022-11-20T17:11:24.487Z"
   },
   {
    "duration": 9,
    "start_time": "2022-11-20T17:11:24.500Z"
   },
   {
    "duration": 10,
    "start_time": "2022-11-20T17:11:24.511Z"
   },
   {
    "duration": 22,
    "start_time": "2022-11-20T17:11:24.523Z"
   },
   {
    "duration": 13,
    "start_time": "2022-11-20T17:11:24.577Z"
   },
   {
    "duration": 11,
    "start_time": "2022-11-20T17:11:24.592Z"
   },
   {
    "duration": 15,
    "start_time": "2022-11-20T17:11:24.605Z"
   },
   {
    "duration": 7,
    "start_time": "2022-11-20T17:11:24.622Z"
   },
   {
    "duration": 6,
    "start_time": "2022-11-20T17:11:24.630Z"
   },
   {
    "duration": 8,
    "start_time": "2022-11-20T17:11:24.637Z"
   },
   {
    "duration": 5,
    "start_time": "2022-11-20T17:11:24.679Z"
   },
   {
    "duration": 6,
    "start_time": "2022-11-20T17:11:24.685Z"
   },
   {
    "duration": 6,
    "start_time": "2022-11-20T17:11:24.693Z"
   },
   {
    "duration": 10,
    "start_time": "2022-11-20T17:11:24.701Z"
   },
   {
    "duration": 29,
    "start_time": "2022-11-20T17:11:24.712Z"
   },
   {
    "duration": 41,
    "start_time": "2022-11-20T17:11:24.742Z"
   },
   {
    "duration": 11,
    "start_time": "2022-11-20T17:11:24.785Z"
   },
   {
    "duration": 14,
    "start_time": "2022-11-20T17:11:24.800Z"
   },
   {
    "duration": 7,
    "start_time": "2022-11-20T17:11:24.816Z"
   },
   {
    "duration": 5,
    "start_time": "2022-11-20T17:11:24.824Z"
   },
   {
    "duration": 5,
    "start_time": "2022-11-20T17:11:24.830Z"
   },
   {
    "duration": 60,
    "start_time": "2022-11-20T17:11:24.837Z"
   },
   {
    "duration": 6,
    "start_time": "2022-11-20T17:11:24.899Z"
   },
   {
    "duration": 7,
    "start_time": "2022-11-20T17:11:24.907Z"
   },
   {
    "duration": 30,
    "start_time": "2022-11-20T17:11:24.915Z"
   },
   {
    "duration": 40,
    "start_time": "2022-11-20T17:11:24.947Z"
   },
   {
    "duration": 174,
    "start_time": "2022-11-20T17:11:24.989Z"
   },
   {
    "duration": 203,
    "start_time": "2022-11-20T17:11:25.165Z"
   },
   {
    "duration": 182,
    "start_time": "2022-11-20T17:11:25.370Z"
   },
   {
    "duration": 7,
    "start_time": "2022-11-20T17:11:25.554Z"
   },
   {
    "duration": 17,
    "start_time": "2022-11-20T17:11:25.563Z"
   },
   {
    "duration": 10,
    "start_time": "2022-11-20T17:11:25.581Z"
   },
   {
    "duration": 224,
    "start_time": "2022-11-20T17:11:25.593Z"
   },
   {
    "duration": 186,
    "start_time": "2022-11-20T17:11:25.819Z"
   },
   {
    "duration": 193,
    "start_time": "2022-11-20T17:11:26.007Z"
   },
   {
    "duration": 162,
    "start_time": "2022-11-20T17:11:26.201Z"
   },
   {
    "duration": 192,
    "start_time": "2022-11-20T17:11:26.364Z"
   },
   {
    "duration": 345,
    "start_time": "2022-11-20T17:11:26.558Z"
   },
   {
    "duration": 185,
    "start_time": "2022-11-20T17:11:26.904Z"
   },
   {
    "duration": 191,
    "start_time": "2022-11-20T17:11:27.091Z"
   },
   {
    "duration": 195,
    "start_time": "2022-11-20T17:11:27.283Z"
   },
   {
    "duration": 228,
    "start_time": "2022-11-20T17:11:27.480Z"
   },
   {
    "duration": 184,
    "start_time": "2022-11-20T17:11:27.709Z"
   },
   {
    "duration": 5,
    "start_time": "2022-11-20T17:11:27.895Z"
   },
   {
    "duration": 28,
    "start_time": "2022-11-20T17:11:27.902Z"
   },
   {
    "duration": 51,
    "start_time": "2022-11-20T17:11:27.932Z"
   },
   {
    "duration": 5,
    "start_time": "2022-11-20T17:11:27.986Z"
   },
   {
    "duration": 19,
    "start_time": "2022-11-20T17:11:27.993Z"
   },
   {
    "duration": 8,
    "start_time": "2022-11-20T17:11:28.014Z"
   },
   {
    "duration": 584,
    "start_time": "2022-11-20T17:11:28.024Z"
   },
   {
    "duration": 702,
    "start_time": "2022-11-20T17:11:28.609Z"
   },
   {
    "duration": 261,
    "start_time": "2022-11-20T17:11:29.313Z"
   },
   {
    "duration": 248,
    "start_time": "2022-11-20T17:11:29.578Z"
   },
   {
    "duration": 245,
    "start_time": "2022-11-20T17:11:29.828Z"
   },
   {
    "duration": 263,
    "start_time": "2022-11-20T17:11:30.078Z"
   },
   {
    "duration": 36,
    "start_time": "2022-11-20T17:11:30.343Z"
   },
   {
    "duration": 268,
    "start_time": "2022-11-20T17:11:30.380Z"
   },
   {
    "duration": 207,
    "start_time": "2022-11-20T17:11:30.649Z"
   },
   {
    "duration": 3,
    "start_time": "2022-11-20T17:11:30.858Z"
   },
   {
    "duration": 19,
    "start_time": "2022-11-20T17:11:30.863Z"
   },
   {
    "duration": 30,
    "start_time": "2022-11-20T17:11:30.883Z"
   },
   {
    "duration": 740,
    "start_time": "2022-11-20T17:11:30.915Z"
   },
   {
    "duration": 3,
    "start_time": "2022-11-20T17:11:31.657Z"
   },
   {
    "duration": 563,
    "start_time": "2022-11-20T17:12:30.000Z"
   },
   {
    "duration": 551,
    "start_time": "2022-11-20T17:12:38.055Z"
   },
   {
    "duration": 1256,
    "start_time": "2022-11-20T17:12:44.279Z"
   },
   {
    "duration": 773,
    "start_time": "2022-11-20T17:12:52.001Z"
   },
   {
    "duration": 539,
    "start_time": "2022-11-20T17:13:01.320Z"
   },
   {
    "duration": 5,
    "start_time": "2022-11-20T17:13:17.560Z"
   },
   {
    "duration": 1204,
    "start_time": "2022-11-20T17:13:23.896Z"
   },
   {
    "duration": 288,
    "start_time": "2022-11-20T17:13:39.081Z"
   },
   {
    "duration": 236,
    "start_time": "2022-11-20T17:13:47.623Z"
   },
   {
    "duration": 3,
    "start_time": "2022-11-20T17:14:01.064Z"
   },
   {
    "duration": 1229,
    "start_time": "2022-11-20T17:14:02.161Z"
   },
   {
    "duration": 428,
    "start_time": "2022-11-20T17:14:07.641Z"
   },
   {
    "duration": 212,
    "start_time": "2022-11-20T17:14:15.984Z"
   },
   {
    "duration": 242,
    "start_time": "2022-11-20T17:14:35.848Z"
   },
   {
    "duration": 517,
    "start_time": "2022-11-20T17:15:02.209Z"
   },
   {
    "duration": 3,
    "start_time": "2022-11-20T17:15:03.865Z"
   },
   {
    "duration": 15,
    "start_time": "2022-11-20T17:15:04.721Z"
   },
   {
    "duration": 5,
    "start_time": "2022-11-20T17:15:10.593Z"
   },
   {
    "duration": 229,
    "start_time": "2022-11-20T17:15:14.730Z"
   },
   {
    "duration": 220,
    "start_time": "2022-11-20T17:15:16.242Z"
   },
   {
    "duration": 239,
    "start_time": "2022-11-20T17:15:20.009Z"
   },
   {
    "duration": 218,
    "start_time": "2022-11-20T17:15:22.235Z"
   },
   {
    "duration": 289,
    "start_time": "2022-11-20T17:15:23.882Z"
   },
   {
    "duration": 306,
    "start_time": "2022-11-20T17:15:28.627Z"
   },
   {
    "duration": 214,
    "start_time": "2022-11-20T17:15:30.584Z"
   },
   {
    "duration": 193,
    "start_time": "2022-11-20T17:15:34.625Z"
   },
   {
    "duration": 210,
    "start_time": "2022-11-20T17:15:41.714Z"
   },
   {
    "duration": 241,
    "start_time": "2022-11-20T17:15:47.538Z"
   },
   {
    "duration": 218,
    "start_time": "2022-11-20T17:15:52.411Z"
   },
   {
    "duration": 2,
    "start_time": "2022-11-20T17:15:57.187Z"
   },
   {
    "duration": 129,
    "start_time": "2022-11-20T17:16:00.454Z"
   },
   {
    "duration": 38,
    "start_time": "2022-11-20T17:16:00.584Z"
   },
   {
    "duration": 25,
    "start_time": "2022-11-20T17:16:00.624Z"
   },
   {
    "duration": 2237,
    "start_time": "2022-11-20T17:16:00.651Z"
   },
   {
    "duration": 11,
    "start_time": "2022-11-20T17:16:02.890Z"
   },
   {
    "duration": 35,
    "start_time": "2022-11-20T17:16:02.903Z"
   },
   {
    "duration": 24,
    "start_time": "2022-11-20T17:16:02.941Z"
   },
   {
    "duration": 37,
    "start_time": "2022-11-20T17:16:02.967Z"
   },
   {
    "duration": 46,
    "start_time": "2022-11-20T17:16:03.006Z"
   },
   {
    "duration": 36,
    "start_time": "2022-11-20T17:16:03.054Z"
   },
   {
    "duration": 37,
    "start_time": "2022-11-20T17:16:03.092Z"
   },
   {
    "duration": 54,
    "start_time": "2022-11-20T17:16:03.130Z"
   },
   {
    "duration": 35,
    "start_time": "2022-11-20T17:16:03.186Z"
   },
   {
    "duration": 26,
    "start_time": "2022-11-20T17:16:03.224Z"
   },
   {
    "duration": 38,
    "start_time": "2022-11-20T17:16:03.252Z"
   },
   {
    "duration": 24,
    "start_time": "2022-11-20T17:16:03.293Z"
   },
   {
    "duration": 21,
    "start_time": "2022-11-20T17:16:03.320Z"
   },
   {
    "duration": 36,
    "start_time": "2022-11-20T17:16:03.342Z"
   },
   {
    "duration": 34,
    "start_time": "2022-11-20T17:16:03.382Z"
   },
   {
    "duration": 29,
    "start_time": "2022-11-20T17:16:03.418Z"
   },
   {
    "duration": 21,
    "start_time": "2022-11-20T17:16:03.449Z"
   },
   {
    "duration": 50,
    "start_time": "2022-11-20T17:16:03.472Z"
   },
   {
    "duration": 15,
    "start_time": "2022-11-20T17:16:03.524Z"
   },
   {
    "duration": 35,
    "start_time": "2022-11-20T17:16:03.541Z"
   },
   {
    "duration": 41,
    "start_time": "2022-11-20T17:16:03.579Z"
   },
   {
    "duration": 6,
    "start_time": "2022-11-20T17:16:03.622Z"
   },
   {
    "duration": 26,
    "start_time": "2022-11-20T17:16:03.630Z"
   },
   {
    "duration": 22,
    "start_time": "2022-11-20T17:16:03.661Z"
   },
   {
    "duration": 46,
    "start_time": "2022-11-20T17:16:03.684Z"
   },
   {
    "duration": 39,
    "start_time": "2022-11-20T17:16:03.732Z"
   },
   {
    "duration": 48,
    "start_time": "2022-11-20T17:16:03.773Z"
   },
   {
    "duration": 71,
    "start_time": "2022-11-20T17:16:03.823Z"
   },
   {
    "duration": 13,
    "start_time": "2022-11-20T17:16:03.897Z"
   },
   {
    "duration": 35,
    "start_time": "2022-11-20T17:16:03.912Z"
   },
   {
    "duration": 85,
    "start_time": "2022-11-20T17:16:03.949Z"
   },
   {
    "duration": 40,
    "start_time": "2022-11-20T17:16:04.036Z"
   },
   {
    "duration": 227,
    "start_time": "2022-11-20T17:16:04.080Z"
   },
   {
    "duration": 226,
    "start_time": "2022-11-20T17:16:04.309Z"
   },
   {
    "duration": 199,
    "start_time": "2022-11-20T17:16:04.536Z"
   },
   {
    "duration": 8,
    "start_time": "2022-11-20T17:16:04.736Z"
   },
   {
    "duration": 11,
    "start_time": "2022-11-20T17:16:04.745Z"
   },
   {
    "duration": 30,
    "start_time": "2022-11-20T17:16:04.758Z"
   },
   {
    "duration": 236,
    "start_time": "2022-11-20T17:16:04.790Z"
   },
   {
    "duration": 213,
    "start_time": "2022-11-20T17:16:05.028Z"
   },
   {
    "duration": 198,
    "start_time": "2022-11-20T17:16:05.243Z"
   },
   {
    "duration": 168,
    "start_time": "2022-11-20T17:16:05.442Z"
   },
   {
    "duration": 218,
    "start_time": "2022-11-20T17:16:05.612Z"
   },
   {
    "duration": 191,
    "start_time": "2022-11-20T17:16:05.831Z"
   },
   {
    "duration": 194,
    "start_time": "2022-11-20T17:16:06.023Z"
   },
   {
    "duration": 201,
    "start_time": "2022-11-20T17:16:06.219Z"
   },
   {
    "duration": 193,
    "start_time": "2022-11-20T17:16:06.422Z"
   },
   {
    "duration": 269,
    "start_time": "2022-11-20T17:16:06.617Z"
   },
   {
    "duration": 203,
    "start_time": "2022-11-20T17:16:06.889Z"
   },
   {
    "duration": 7,
    "start_time": "2022-11-20T17:16:07.094Z"
   },
   {
    "duration": 36,
    "start_time": "2022-11-20T17:16:07.103Z"
   },
   {
    "duration": 51,
    "start_time": "2022-11-20T17:16:07.142Z"
   },
   {
    "duration": 6,
    "start_time": "2022-11-20T17:16:07.194Z"
   },
   {
    "duration": 14,
    "start_time": "2022-11-20T17:16:07.202Z"
   },
   {
    "duration": 11,
    "start_time": "2022-11-20T17:16:07.218Z"
   },
   {
    "duration": 550,
    "start_time": "2022-11-20T17:16:07.231Z"
   },
   {
    "duration": 5,
    "start_time": "2022-11-20T17:16:07.783Z"
   },
   {
    "duration": 10,
    "start_time": "2022-11-20T17:16:07.789Z"
   },
   {
    "duration": 17,
    "start_time": "2022-11-20T17:16:07.801Z"
   },
   {
    "duration": 731,
    "start_time": "2022-11-20T17:16:07.820Z"
   },
   {
    "duration": 270,
    "start_time": "2022-11-20T17:16:08.553Z"
   },
   {
    "duration": 270,
    "start_time": "2022-11-20T17:16:08.825Z"
   },
   {
    "duration": 252,
    "start_time": "2022-11-20T17:16:09.097Z"
   },
   {
    "duration": 239,
    "start_time": "2022-11-20T17:16:09.351Z"
   },
   {
    "duration": 280,
    "start_time": "2022-11-20T17:16:09.592Z"
   },
   {
    "duration": 28,
    "start_time": "2022-11-20T17:16:09.877Z"
   },
   {
    "duration": 295,
    "start_time": "2022-11-20T17:16:09.907Z"
   },
   {
    "duration": 225,
    "start_time": "2022-11-20T17:16:10.204Z"
   },
   {
    "duration": 266,
    "start_time": "2022-11-20T17:16:10.431Z"
   },
   {
    "duration": 281,
    "start_time": "2022-11-20T17:16:10.699Z"
   },
   {
    "duration": 2,
    "start_time": "2022-11-20T17:16:10.983Z"
   },
   {
    "duration": 432,
    "start_time": "2022-11-20T17:16:10.987Z"
   },
   {
    "duration": 0,
    "start_time": "2022-11-20T17:16:11.421Z"
   },
   {
    "duration": 2,
    "start_time": "2022-11-20T17:16:24.293Z"
   },
   {
    "duration": 196,
    "start_time": "2022-11-20T17:16:28.912Z"
   },
   {
    "duration": 274,
    "start_time": "2022-11-20T17:16:33.744Z"
   },
   {
    "duration": 204,
    "start_time": "2022-11-20T17:16:37.708Z"
   },
   {
    "duration": 519,
    "start_time": "2022-11-20T17:16:40.780Z"
   },
   {
    "duration": 260,
    "start_time": "2022-11-20T17:16:44.746Z"
   },
   {
    "duration": 210,
    "start_time": "2022-11-20T17:17:03.716Z"
   },
   {
    "duration": 238,
    "start_time": "2022-11-20T17:17:19.543Z"
   },
   {
    "duration": 931,
    "start_time": "2022-11-20T17:17:22.477Z"
   },
   {
    "duration": 175,
    "start_time": "2022-11-20T17:17:26.141Z"
   },
   {
    "duration": 166,
    "start_time": "2022-11-20T17:17:29.364Z"
   },
   {
    "duration": 156,
    "start_time": "2022-11-20T17:17:32.383Z"
   },
   {
    "duration": 182,
    "start_time": "2022-11-20T17:17:34.981Z"
   },
   {
    "duration": 177,
    "start_time": "2022-11-20T17:17:38.390Z"
   },
   {
    "duration": 222,
    "start_time": "2022-11-20T17:17:44.002Z"
   },
   {
    "duration": 188,
    "start_time": "2022-11-20T17:17:48.108Z"
   },
   {
    "duration": 210,
    "start_time": "2022-11-20T17:17:51.757Z"
   },
   {
    "duration": 192,
    "start_time": "2022-11-20T17:17:56.045Z"
   },
   {
    "duration": 207,
    "start_time": "2022-11-20T17:18:09.821Z"
   },
   {
    "duration": 197,
    "start_time": "2022-11-20T17:18:13.549Z"
   },
   {
    "duration": 180,
    "start_time": "2022-11-20T17:19:19.630Z"
   },
   {
    "duration": 165,
    "start_time": "2022-11-20T17:19:26.830Z"
   },
   {
    "duration": 272,
    "start_time": "2022-11-20T17:19:29.038Z"
   },
   {
    "duration": 165,
    "start_time": "2022-11-20T17:19:31.006Z"
   },
   {
    "duration": 1107,
    "start_time": "2022-11-20T17:19:55.487Z"
   },
   {
    "duration": 1309,
    "start_time": "2022-11-20T17:20:01.598Z"
   },
   {
    "duration": 971,
    "start_time": "2022-11-20T17:20:07.239Z"
   },
   {
    "duration": 1011,
    "start_time": "2022-11-20T17:20:31.649Z"
   },
   {
    "duration": 15,
    "start_time": "2022-11-20T17:21:12.137Z"
   },
   {
    "duration": 249,
    "start_time": "2022-11-20T17:21:16.697Z"
   },
   {
    "duration": 218,
    "start_time": "2022-11-20T17:21:32.025Z"
   },
   {
    "duration": 240,
    "start_time": "2022-11-20T17:21:45.921Z"
   },
   {
    "duration": 367,
    "start_time": "2022-11-20T17:25:10.213Z"
   },
   {
    "duration": 333,
    "start_time": "2022-11-20T17:25:12.649Z"
   },
   {
    "duration": 18,
    "start_time": "2022-11-20T17:25:19.270Z"
   },
   {
    "duration": 337,
    "start_time": "2022-11-20T17:25:22.352Z"
   },
   {
    "duration": 160,
    "start_time": "2022-11-20T17:26:52.302Z"
   },
   {
    "duration": 178,
    "start_time": "2022-11-20T17:27:00.382Z"
   },
   {
    "duration": 20,
    "start_time": "2022-11-20T17:28:02.371Z"
   },
   {
    "duration": 13,
    "start_time": "2022-11-20T17:28:13.966Z"
   },
   {
    "duration": 14,
    "start_time": "2022-11-20T17:28:18.023Z"
   },
   {
    "duration": 20,
    "start_time": "2022-11-20T17:28:23.224Z"
   },
   {
    "duration": 18,
    "start_time": "2022-11-20T17:28:27.985Z"
   },
   {
    "duration": 15,
    "start_time": "2022-11-20T17:28:30.344Z"
   },
   {
    "duration": 157,
    "start_time": "2022-11-20T17:28:32.648Z"
   },
   {
    "duration": 16,
    "start_time": "2022-11-20T17:28:39.824Z"
   },
   {
    "duration": 102,
    "start_time": "2022-11-20T17:28:43.663Z"
   },
   {
    "duration": 163,
    "start_time": "2022-11-20T17:28:52.193Z"
   },
   {
    "duration": 241,
    "start_time": "2022-11-20T17:30:14.251Z"
   },
   {
    "duration": 297,
    "start_time": "2022-11-20T17:30:21.219Z"
   },
   {
    "duration": 258,
    "start_time": "2022-11-20T17:30:27.394Z"
   },
   {
    "duration": 78,
    "start_time": "2022-11-20T17:34:17.070Z"
   },
   {
    "duration": 77,
    "start_time": "2022-11-20T17:34:19.349Z"
   },
   {
    "duration": 7,
    "start_time": "2022-11-20T17:37:46.483Z"
   },
   {
    "duration": 96,
    "start_time": "2022-11-20T17:38:07.218Z"
   },
   {
    "duration": 8,
    "start_time": "2022-11-20T17:40:14.573Z"
   },
   {
    "duration": 458,
    "start_time": "2022-11-20T17:42:35.232Z"
   },
   {
    "duration": 102,
    "start_time": "2022-11-20T17:44:08.107Z"
   },
   {
    "duration": 40,
    "start_time": "2022-11-20T17:44:08.211Z"
   },
   {
    "duration": 5,
    "start_time": "2022-11-20T17:44:08.253Z"
   },
   {
    "duration": 2063,
    "start_time": "2022-11-20T17:44:08.260Z"
   },
   {
    "duration": 11,
    "start_time": "2022-11-20T17:44:10.324Z"
   },
   {
    "duration": 7,
    "start_time": "2022-11-20T17:44:10.337Z"
   },
   {
    "duration": 32,
    "start_time": "2022-11-20T17:44:10.347Z"
   },
   {
    "duration": 12,
    "start_time": "2022-11-20T17:44:10.380Z"
   },
   {
    "duration": 13,
    "start_time": "2022-11-20T17:44:10.395Z"
   },
   {
    "duration": 7,
    "start_time": "2022-11-20T17:44:10.410Z"
   },
   {
    "duration": 21,
    "start_time": "2022-11-20T17:44:10.419Z"
   },
   {
    "duration": 10,
    "start_time": "2022-11-20T17:44:10.442Z"
   },
   {
    "duration": 9,
    "start_time": "2022-11-20T17:44:10.479Z"
   },
   {
    "duration": 12,
    "start_time": "2022-11-20T17:44:10.490Z"
   },
   {
    "duration": 14,
    "start_time": "2022-11-20T17:44:10.504Z"
   },
   {
    "duration": 13,
    "start_time": "2022-11-20T17:44:10.519Z"
   },
   {
    "duration": 53,
    "start_time": "2022-11-20T17:44:10.534Z"
   },
   {
    "duration": 6,
    "start_time": "2022-11-20T17:44:10.588Z"
   },
   {
    "duration": 8,
    "start_time": "2022-11-20T17:44:10.596Z"
   },
   {
    "duration": 10,
    "start_time": "2022-11-20T17:44:10.605Z"
   },
   {
    "duration": 4,
    "start_time": "2022-11-20T17:44:10.617Z"
   },
   {
    "duration": 7,
    "start_time": "2022-11-20T17:44:10.623Z"
   },
   {
    "duration": 7,
    "start_time": "2022-11-20T17:44:10.632Z"
   },
   {
    "duration": 42,
    "start_time": "2022-11-20T17:44:10.641Z"
   },
   {
    "duration": 30,
    "start_time": "2022-11-20T17:44:10.688Z"
   },
   {
    "duration": 7,
    "start_time": "2022-11-20T17:44:10.720Z"
   },
   {
    "duration": 11,
    "start_time": "2022-11-20T17:44:10.728Z"
   },
   {
    "duration": 38,
    "start_time": "2022-11-20T17:44:10.740Z"
   },
   {
    "duration": 7,
    "start_time": "2022-11-20T17:44:10.780Z"
   },
   {
    "duration": 8,
    "start_time": "2022-11-20T17:44:10.789Z"
   },
   {
    "duration": 9,
    "start_time": "2022-11-20T17:44:10.798Z"
   },
   {
    "duration": 34,
    "start_time": "2022-11-20T17:44:10.809Z"
   },
   {
    "duration": 6,
    "start_time": "2022-11-20T17:44:10.844Z"
   },
   {
    "duration": 28,
    "start_time": "2022-11-20T17:44:10.852Z"
   },
   {
    "duration": 32,
    "start_time": "2022-11-20T17:44:10.881Z"
   },
   {
    "duration": 19,
    "start_time": "2022-11-20T17:44:10.914Z"
   },
   {
    "duration": 208,
    "start_time": "2022-11-20T17:44:10.935Z"
   },
   {
    "duration": 229,
    "start_time": "2022-11-20T17:44:11.145Z"
   },
   {
    "duration": 219,
    "start_time": "2022-11-20T17:44:11.378Z"
   },
   {
    "duration": 8,
    "start_time": "2022-11-20T17:44:11.598Z"
   },
   {
    "duration": 6,
    "start_time": "2022-11-20T17:44:11.607Z"
   },
   {
    "duration": 11,
    "start_time": "2022-11-20T17:44:11.614Z"
   },
   {
    "duration": 232,
    "start_time": "2022-11-20T17:44:11.626Z"
   },
   {
    "duration": 214,
    "start_time": "2022-11-20T17:44:11.860Z"
   },
   {
    "duration": 191,
    "start_time": "2022-11-20T17:44:12.078Z"
   },
   {
    "duration": 181,
    "start_time": "2022-11-20T17:44:12.270Z"
   },
   {
    "duration": 201,
    "start_time": "2022-11-20T17:44:12.453Z"
   },
   {
    "duration": 194,
    "start_time": "2022-11-20T17:44:12.656Z"
   },
   {
    "duration": 233,
    "start_time": "2022-11-20T17:44:12.852Z"
   },
   {
    "duration": 193,
    "start_time": "2022-11-20T17:44:13.087Z"
   },
   {
    "duration": 193,
    "start_time": "2022-11-20T17:44:13.282Z"
   },
   {
    "duration": 206,
    "start_time": "2022-11-20T17:44:13.476Z"
   },
   {
    "duration": 178,
    "start_time": "2022-11-20T17:44:13.684Z"
   },
   {
    "duration": 16,
    "start_time": "2022-11-20T17:44:13.863Z"
   },
   {
    "duration": 46,
    "start_time": "2022-11-20T17:44:13.881Z"
   },
   {
    "duration": 48,
    "start_time": "2022-11-20T17:44:13.930Z"
   },
   {
    "duration": 6,
    "start_time": "2022-11-20T17:44:13.980Z"
   },
   {
    "duration": 30,
    "start_time": "2022-11-20T17:44:13.988Z"
   },
   {
    "duration": 12,
    "start_time": "2022-11-20T17:44:14.020Z"
   },
   {
    "duration": 660,
    "start_time": "2022-11-20T17:44:14.035Z"
   },
   {
    "duration": 4,
    "start_time": "2022-11-20T17:44:14.697Z"
   },
   {
    "duration": 10,
    "start_time": "2022-11-20T17:44:14.703Z"
   },
   {
    "duration": 25,
    "start_time": "2022-11-20T17:44:14.715Z"
   },
   {
    "duration": 719,
    "start_time": "2022-11-20T17:44:14.742Z"
   },
   {
    "duration": 254,
    "start_time": "2022-11-20T17:44:15.464Z"
   },
   {
    "duration": 244,
    "start_time": "2022-11-20T17:44:15.720Z"
   },
   {
    "duration": 235,
    "start_time": "2022-11-20T17:44:15.965Z"
   },
   {
    "duration": 224,
    "start_time": "2022-11-20T17:44:16.202Z"
   },
   {
    "duration": 259,
    "start_time": "2022-11-20T17:44:16.427Z"
   },
   {
    "duration": 31,
    "start_time": "2022-11-20T17:44:16.688Z"
   },
   {
    "duration": 274,
    "start_time": "2022-11-20T17:44:16.721Z"
   },
   {
    "duration": 205,
    "start_time": "2022-11-20T17:44:16.997Z"
   },
   {
    "duration": 227,
    "start_time": "2022-11-20T17:44:17.204Z"
   },
   {
    "duration": 255,
    "start_time": "2022-11-20T17:44:17.433Z"
   },
   {
    "duration": 236,
    "start_time": "2022-11-20T17:44:17.690Z"
   },
   {
    "duration": 238,
    "start_time": "2022-11-20T17:44:17.928Z"
   },
   {
    "duration": 329,
    "start_time": "2022-11-20T17:44:18.178Z"
   },
   {
    "duration": 438,
    "start_time": "2022-11-20T17:44:18.509Z"
   },
   {
    "duration": 41634,
    "start_time": "2022-11-20T17:44:18.953Z"
   },
   {
    "duration": 206,
    "start_time": "2022-11-20T17:46:08.714Z"
   },
   {
    "duration": 236,
    "start_time": "2022-11-20T17:46:34.116Z"
   },
   {
    "duration": 220,
    "start_time": "2022-11-20T17:46:36.891Z"
   },
   {
    "duration": 226,
    "start_time": "2022-11-20T17:53:09.186Z"
   },
   {
    "duration": 145,
    "start_time": "2022-11-20T17:53:29.484Z"
   },
   {
    "duration": 129,
    "start_time": "2022-11-20T17:53:34.208Z"
   },
   {
    "duration": 140,
    "start_time": "2022-11-20T17:53:42.508Z"
   },
   {
    "duration": 180,
    "start_time": "2022-11-20T17:53:55.532Z"
   },
   {
    "duration": 152,
    "start_time": "2022-11-20T17:53:59.476Z"
   },
   {
    "duration": 152,
    "start_time": "2022-11-20T17:54:01.614Z"
   },
   {
    "duration": 147,
    "start_time": "2022-11-20T17:54:08.100Z"
   },
   {
    "duration": 127,
    "start_time": "2022-11-20T17:54:14.551Z"
   },
   {
    "duration": 160,
    "start_time": "2022-11-20T17:54:20.156Z"
   },
   {
    "duration": 131,
    "start_time": "2022-11-20T17:54:48.310Z"
   },
   {
    "duration": 173,
    "start_time": "2022-11-20T17:54:51.430Z"
   },
   {
    "duration": 76,
    "start_time": "2022-11-20T17:54:53.437Z"
   },
   {
    "duration": 161,
    "start_time": "2022-11-20T17:55:05.327Z"
   },
   {
    "duration": 219,
    "start_time": "2022-11-20T17:55:15.030Z"
   },
   {
    "duration": 215,
    "start_time": "2022-11-20T17:55:17.198Z"
   },
   {
    "duration": 1041,
    "start_time": "2022-11-20T17:55:19.700Z"
   },
   {
    "duration": 163,
    "start_time": "2022-11-20T17:55:21.519Z"
   },
   {
    "duration": 149,
    "start_time": "2022-11-20T17:55:24.366Z"
   },
   {
    "duration": 164,
    "start_time": "2022-11-20T17:55:27.926Z"
   },
   {
    "duration": 169,
    "start_time": "2022-11-20T17:55:33.383Z"
   },
   {
    "duration": 146,
    "start_time": "2022-11-20T17:55:38.445Z"
   },
   {
    "duration": 164,
    "start_time": "2022-11-20T17:55:40.958Z"
   },
   {
    "duration": 190,
    "start_time": "2022-11-20T17:55:44.878Z"
   },
   {
    "duration": 179,
    "start_time": "2022-11-20T17:55:47.622Z"
   },
   {
    "duration": 192,
    "start_time": "2022-11-20T17:55:51.062Z"
   },
   {
    "duration": 4232,
    "start_time": "2022-11-20T17:56:57.433Z"
   },
   {
    "duration": 4342,
    "start_time": "2022-11-20T17:57:05.968Z"
   },
   {
    "duration": 25,
    "start_time": "2022-11-20T18:02:25.173Z"
   },
   {
    "duration": 26,
    "start_time": "2022-11-20T18:03:26.784Z"
   },
   {
    "duration": 25,
    "start_time": "2022-11-20T18:04:01.759Z"
   },
   {
    "duration": 26,
    "start_time": "2022-11-20T18:04:04.663Z"
   },
   {
    "duration": 25,
    "start_time": "2022-11-20T18:04:07.888Z"
   },
   {
    "duration": 26,
    "start_time": "2022-11-20T18:04:37.369Z"
   },
   {
    "duration": 25,
    "start_time": "2022-11-20T18:05:04.745Z"
   },
   {
    "duration": 29,
    "start_time": "2022-11-20T18:05:10.881Z"
   },
   {
    "duration": 22,
    "start_time": "2022-11-20T18:05:27.385Z"
   },
   {
    "duration": 26,
    "start_time": "2022-11-20T18:05:32.385Z"
   },
   {
    "duration": 26,
    "start_time": "2022-11-20T18:05:40.146Z"
   },
   {
    "duration": 25,
    "start_time": "2022-11-20T18:05:45.353Z"
   },
   {
    "duration": 24,
    "start_time": "2022-11-20T18:05:47.531Z"
   },
   {
    "duration": 27,
    "start_time": "2022-11-20T18:06:19.570Z"
   },
   {
    "duration": 23,
    "start_time": "2022-11-20T18:06:21.955Z"
   },
   {
    "duration": 25,
    "start_time": "2022-11-20T18:06:26.139Z"
   },
   {
    "duration": 23,
    "start_time": "2022-11-20T18:06:36.747Z"
   },
   {
    "duration": 27,
    "start_time": "2022-11-20T18:06:52.652Z"
   },
   {
    "duration": 23,
    "start_time": "2022-11-20T18:06:54.371Z"
   },
   {
    "duration": 25,
    "start_time": "2022-11-20T18:07:09.811Z"
   },
   {
    "duration": 24,
    "start_time": "2022-11-20T18:10:51.109Z"
   },
   {
    "duration": 1171,
    "start_time": "2022-11-20T18:14:24.147Z"
   },
   {
    "duration": 1148,
    "start_time": "2022-11-20T18:14:32.765Z"
   },
   {
    "duration": 61,
    "start_time": "2022-11-20T18:14:37.117Z"
   },
   {
    "duration": 27,
    "start_time": "2022-11-20T18:14:43.613Z"
   },
   {
    "duration": 33,
    "start_time": "2022-11-20T18:14:51.452Z"
   },
   {
    "duration": 49,
    "start_time": "2022-11-20T18:15:00.989Z"
   },
   {
    "duration": 31,
    "start_time": "2022-11-20T18:15:04.751Z"
   },
   {
    "duration": 46,
    "start_time": "2022-11-20T18:15:06.927Z"
   },
   {
    "duration": 30,
    "start_time": "2022-11-20T18:15:08.725Z"
   },
   {
    "duration": 31,
    "start_time": "2022-11-20T18:16:25.943Z"
   },
   {
    "duration": 44,
    "start_time": "2022-11-20T18:16:27.942Z"
   },
   {
    "duration": 153,
    "start_time": "2022-11-20T18:17:37.840Z"
   },
   {
    "duration": 337,
    "start_time": "2022-11-20T18:17:48.804Z"
   },
   {
    "duration": 56,
    "start_time": "2022-11-20T18:18:44.052Z"
   },
   {
    "duration": 109,
    "start_time": "2022-11-20T18:18:44.405Z"
   },
   {
    "duration": 68,
    "start_time": "2022-11-20T18:18:44.516Z"
   },
   {
    "duration": 4,
    "start_time": "2022-11-20T18:18:44.586Z"
   },
   {
    "duration": 1951,
    "start_time": "2022-11-20T18:18:44.592Z"
   },
   {
    "duration": 12,
    "start_time": "2022-11-20T18:18:46.544Z"
   },
   {
    "duration": 22,
    "start_time": "2022-11-20T18:18:46.558Z"
   },
   {
    "duration": 7,
    "start_time": "2022-11-20T18:18:46.582Z"
   },
   {
    "duration": 11,
    "start_time": "2022-11-20T18:18:46.591Z"
   },
   {
    "duration": 5,
    "start_time": "2022-11-20T18:18:46.604Z"
   },
   {
    "duration": 5,
    "start_time": "2022-11-20T18:18:46.612Z"
   },
   {
    "duration": 11,
    "start_time": "2022-11-20T18:18:46.620Z"
   },
   {
    "duration": 9,
    "start_time": "2022-11-20T18:18:46.679Z"
   },
   {
    "duration": 8,
    "start_time": "2022-11-20T18:18:46.690Z"
   },
   {
    "duration": 10,
    "start_time": "2022-11-20T18:18:46.700Z"
   },
   {
    "duration": 15,
    "start_time": "2022-11-20T18:18:46.712Z"
   },
   {
    "duration": 11,
    "start_time": "2022-11-20T18:18:46.729Z"
   },
   {
    "duration": 46,
    "start_time": "2022-11-20T18:18:46.742Z"
   },
   {
    "duration": 5,
    "start_time": "2022-11-20T18:18:46.790Z"
   },
   {
    "duration": 6,
    "start_time": "2022-11-20T18:18:46.797Z"
   },
   {
    "duration": 10,
    "start_time": "2022-11-20T18:18:46.805Z"
   },
   {
    "duration": 8,
    "start_time": "2022-11-20T18:18:46.816Z"
   },
   {
    "duration": 7,
    "start_time": "2022-11-20T18:18:46.826Z"
   },
   {
    "duration": 7,
    "start_time": "2022-11-20T18:18:46.835Z"
   },
   {
    "duration": 12,
    "start_time": "2022-11-20T18:18:46.843Z"
   },
   {
    "duration": 29,
    "start_time": "2022-11-20T18:18:46.878Z"
   },
   {
    "duration": 11,
    "start_time": "2022-11-20T18:18:46.909Z"
   },
   {
    "duration": 9,
    "start_time": "2022-11-20T18:18:46.921Z"
   },
   {
    "duration": 16,
    "start_time": "2022-11-20T18:18:46.934Z"
   },
   {
    "duration": 30,
    "start_time": "2022-11-20T18:18:46.952Z"
   },
   {
    "duration": 7,
    "start_time": "2022-11-20T18:18:46.984Z"
   },
   {
    "duration": 7,
    "start_time": "2022-11-20T18:18:46.993Z"
   },
   {
    "duration": 30,
    "start_time": "2022-11-20T18:18:47.002Z"
   },
   {
    "duration": 6,
    "start_time": "2022-11-20T18:18:47.034Z"
   },
   {
    "duration": 5,
    "start_time": "2022-11-20T18:18:47.041Z"
   },
   {
    "duration": 60,
    "start_time": "2022-11-20T18:18:47.047Z"
   },
   {
    "duration": 15,
    "start_time": "2022-11-20T18:18:47.109Z"
   },
   {
    "duration": 187,
    "start_time": "2022-11-20T18:18:47.126Z"
   },
   {
    "duration": 203,
    "start_time": "2022-11-20T18:18:47.315Z"
   },
   {
    "duration": 191,
    "start_time": "2022-11-20T18:18:47.520Z"
   },
   {
    "duration": 8,
    "start_time": "2022-11-20T18:18:47.712Z"
   },
   {
    "duration": 3,
    "start_time": "2022-11-20T18:18:47.722Z"
   },
   {
    "duration": 11,
    "start_time": "2022-11-20T18:18:47.726Z"
   },
   {
    "duration": 213,
    "start_time": "2022-11-20T18:18:47.739Z"
   },
   {
    "duration": 201,
    "start_time": "2022-11-20T18:18:47.953Z"
   },
   {
    "duration": 192,
    "start_time": "2022-11-20T18:18:48.155Z"
   },
   {
    "duration": 173,
    "start_time": "2022-11-20T18:18:48.349Z"
   },
   {
    "duration": 197,
    "start_time": "2022-11-20T18:18:48.524Z"
   },
   {
    "duration": 227,
    "start_time": "2022-11-20T18:18:48.723Z"
   },
   {
    "duration": 214,
    "start_time": "2022-11-20T18:18:48.952Z"
   },
   {
    "duration": 255,
    "start_time": "2022-11-20T18:18:49.168Z"
   },
   {
    "duration": 201,
    "start_time": "2022-11-20T18:18:49.425Z"
   },
   {
    "duration": 239,
    "start_time": "2022-11-20T18:18:49.628Z"
   },
   {
    "duration": 211,
    "start_time": "2022-11-20T18:18:49.869Z"
   },
   {
    "duration": 6,
    "start_time": "2022-11-20T18:18:50.082Z"
   },
   {
    "duration": 45,
    "start_time": "2022-11-20T18:18:50.089Z"
   },
   {
    "duration": 44,
    "start_time": "2022-11-20T18:18:50.135Z"
   },
   {
    "duration": 5,
    "start_time": "2022-11-20T18:18:50.181Z"
   },
   {
    "duration": 14,
    "start_time": "2022-11-20T18:18:50.188Z"
   },
   {
    "duration": 10,
    "start_time": "2022-11-20T18:18:50.204Z"
   },
   {
    "duration": 591,
    "start_time": "2022-11-20T18:18:50.216Z"
   },
   {
    "duration": 5,
    "start_time": "2022-11-20T18:18:50.810Z"
   },
   {
    "duration": 10,
    "start_time": "2022-11-20T18:18:50.818Z"
   },
   {
    "duration": 23,
    "start_time": "2022-11-20T18:18:50.831Z"
   },
   {
    "duration": 805,
    "start_time": "2022-11-20T18:18:50.856Z"
   },
   {
    "duration": 255,
    "start_time": "2022-11-20T18:18:51.663Z"
   },
   {
    "duration": 286,
    "start_time": "2022-11-20T18:18:51.920Z"
   },
   {
    "duration": 271,
    "start_time": "2022-11-20T18:18:52.209Z"
   },
   {
    "duration": 262,
    "start_time": "2022-11-20T18:18:52.482Z"
   },
   {
    "duration": 283,
    "start_time": "2022-11-20T18:18:52.746Z"
   },
   {
    "duration": 31,
    "start_time": "2022-11-20T18:18:53.031Z"
   },
   {
    "duration": 303,
    "start_time": "2022-11-20T18:18:53.064Z"
   },
   {
    "duration": 237,
    "start_time": "2022-11-20T18:18:53.369Z"
   },
   {
    "duration": 222,
    "start_time": "2022-11-20T18:18:53.607Z"
   },
   {
    "duration": 322,
    "start_time": "2022-11-20T18:18:53.831Z"
   },
   {
    "duration": 210,
    "start_time": "2022-11-20T18:18:54.155Z"
   },
   {
    "duration": 233,
    "start_time": "2022-11-20T18:18:54.367Z"
   },
   {
    "duration": 346,
    "start_time": "2022-11-20T18:18:54.602Z"
   },
   {
    "duration": 435,
    "start_time": "2022-11-20T18:18:54.954Z"
   },
   {
    "duration": 206,
    "start_time": "2022-11-20T18:18:55.391Z"
   },
   {
    "duration": 22,
    "start_time": "2022-11-20T18:18:55.599Z"
   },
   {
    "duration": 28,
    "start_time": "2022-11-20T18:18:55.622Z"
   },
   {
    "duration": 77,
    "start_time": "2022-11-20T18:18:55.656Z"
   },
   {
    "duration": 3,
    "start_time": "2022-11-20T18:18:55.736Z"
   },
   {
    "duration": 7,
    "start_time": "2022-11-20T18:19:05.377Z"
   },
   {
    "duration": 180,
    "start_time": "2022-11-20T18:19:07.346Z"
   },
   {
    "duration": 188,
    "start_time": "2022-11-20T18:19:23.362Z"
   },
   {
    "duration": 194,
    "start_time": "2022-11-20T18:19:27.347Z"
   },
   {
    "duration": 189,
    "start_time": "2022-11-20T18:19:40.314Z"
   },
   {
    "duration": 220,
    "start_time": "2022-11-20T18:19:44.179Z"
   },
   {
    "duration": 189,
    "start_time": "2022-11-20T18:19:48.091Z"
   },
   {
    "duration": 205,
    "start_time": "2022-11-20T18:19:51.786Z"
   },
   {
    "duration": 184,
    "start_time": "2022-11-20T18:19:55.449Z"
   },
   {
    "duration": 155,
    "start_time": "2022-11-20T18:19:58.884Z"
   },
   {
    "duration": 153,
    "start_time": "2022-11-20T18:20:00.842Z"
   },
   {
    "duration": 142,
    "start_time": "2022-11-20T18:20:02.948Z"
   },
   {
    "duration": 171,
    "start_time": "2022-11-20T18:20:07.389Z"
   },
   {
    "duration": 200,
    "start_time": "2022-11-20T18:20:11.097Z"
   },
   {
    "duration": 182,
    "start_time": "2022-11-20T18:20:16.036Z"
   },
   {
    "duration": 185,
    "start_time": "2022-11-20T18:20:18.667Z"
   },
   {
    "duration": 192,
    "start_time": "2022-11-20T18:20:21.458Z"
   },
   {
    "duration": 213,
    "start_time": "2022-11-20T18:20:33.922Z"
   },
   {
    "duration": 0,
    "start_time": "2022-11-20T18:21:59.148Z"
   },
   {
    "duration": 1108,
    "start_time": "2022-11-20T18:22:00.636Z"
   },
   {
    "duration": 1105,
    "start_time": "2022-11-20T18:24:01.888Z"
   },
   {
    "duration": 14,
    "start_time": "2022-11-20T18:24:21.779Z"
   },
   {
    "duration": 12,
    "start_time": "2022-11-20T18:24:47.105Z"
   },
   {
    "duration": 7,
    "start_time": "2022-11-20T18:25:06.970Z"
   },
   {
    "duration": 179,
    "start_time": "2022-11-20T18:25:08.226Z"
   },
   {
    "duration": 192,
    "start_time": "2022-11-20T18:25:53.348Z"
   },
   {
    "duration": 30,
    "start_time": "2022-11-20T18:26:43.555Z"
   }
  ],
  "kernelspec": {
   "display_name": "Python 3 (ipykernel)",
   "language": "python",
   "name": "python3"
  },
  "language_info": {
   "codemirror_mode": {
    "name": "ipython",
    "version": 3
   },
   "file_extension": ".py",
   "mimetype": "text/x-python",
   "name": "python",
   "nbconvert_exporter": "python",
   "pygments_lexer": "ipython3",
   "version": "3.9.5"
  },
  "toc": {
   "base_numbering": 1,
   "nav_menu": {},
   "number_sections": true,
   "sideBar": true,
   "skip_h1_title": true,
   "title_cell": "Table of Contents",
   "title_sidebar": "Contents",
   "toc_cell": false,
   "toc_position": {},
   "toc_section_display": true,
   "toc_window_display": false
  }
 },
 "nbformat": 4,
 "nbformat_minor": 2
}
