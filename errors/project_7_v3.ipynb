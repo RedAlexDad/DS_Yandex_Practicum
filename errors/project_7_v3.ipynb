{
 "cells": [
  {
   "cell_type": "markdown",
   "metadata": {},
   "source": [
    "Привет! меня зовут Люман Аблаев. Сегодня я проверю твой проект.\n",
    "<br> Дальнейшее общение будет происходить на \"ты\" если это не вызывает никаких проблем.\n",
    "<br> Желательно реагировать на каждый мой комментарий ('исправил', 'не понятно как исправить ошибку', ...)\n",
    "<br> Пожалуйста, не удаляй комментарии ревьюера, так как они повышают качество повторного ревью.\n",
    "\n",
    "Комментарии будут в <font color='green'>зеленой</font>, <font color='blue'>синей</font> или <font color='red'>красной</font> рамках:\n",
    "\n",
    "\n",
    "<div class=\"alert alert-block alert-success\">\n",
    "<b>Успех:</b> Если все сделано отлично\n",
    "</div>\n",
    "\n",
    "<div class=\"alert alert-block alert-info\">\n",
    "<b>Совет: </b> Если можно немного улучшить\n",
    "</div>\n",
    "\n",
    "<div class=\"alert alert-block alert-danger\">\n",
    "<b>Ошибка:</b> Если требуются исправления. Работа не может быть принята с красными комментариями.\n",
    "</div>\n",
    "\n",
    "-------------------\n",
    "\n",
    "Будет очень хорошо, если ты будешь помечать свои действия следующим образом:\n",
    "<div class=\"alert alert-block alert-warning\">\n",
    "<b>Комментарий студента:</b> ..\n",
    "</div>\n",
    "<div class=\"alert alert-block alert-warning\">\n",
    "<b>Изменения:</b> Были внесены следующие изменения ...\n",
    "</div>\n",
    "\n",
    "<font color='orange' style='font-size:24px; font-weight:bold'>Общее впечатление</font>\n",
    "* Спасибо за  качественную работу, было интересно ее проверять.\n",
    "- Я оставил некоторые советы надеюсь они будут полезными или интересными.\n",
    "- Есть небольшие недочеты, но думаю у тебя не составить труда их исправить\n",
    "- Жду обновленную работу!"
   ]
  },
  {
   "cell_type": "markdown",
   "metadata": {},
   "source": [
    "# Выбор локации для скважины"
   ]
  },
  {
   "cell_type": "markdown",
   "metadata": {},
   "source": [
    "Допустим, вы работаете в добывающей компании «ГлавРосГосНефть». Нужно решить, где бурить новую скважину.\n",
    "\n",
    "Вам предоставлены пробы нефти в трёх регионах: в каждом 10 000 месторождений, где измерили качество нефти и объём её запасов. Постройте модель машинного обучения, которая поможет определить регион, где добыча принесёт наибольшую прибыль. Проанализируйте возможную прибыль и риски техникой *Bootstrap.*\n",
    "\n",
    "Шаги для выбора локации:\n",
    "\n",
    "- В избранном регионе ищут месторождения, для каждого определяют значения признаков;\n",
    "- Строят модель и оценивают объём запасов;\n",
    "- Выбирают месторождения с самым высокими оценками значений. Количество месторождений зависит от бюджета компании и стоимости разработки одной скважины;\n",
    "- Прибыль равна суммарной прибыли отобранных месторождений."
   ]
  },
  {
   "cell_type": "markdown",
   "metadata": {},
   "source": [
    "## 1. Загрузка и подготовка данных"
   ]
  },
  {
   "cell_type": "code",
   "execution_count": 127,
   "metadata": {},
   "outputs": [],
   "source": [
    "# Подключаем все необходимые библиотеки\n",
    "import pandas as pd\n",
    "import numpy as np\n",
    "import matplotlib.pyplot as plt\n",
    "\n",
    "# Разбиение на обучающую, валидационную и тестовую выборку\n",
    "from sklearn.model_selection import train_test_split\n",
    "# Применим кроссвалидацию для повышения качеств обучения\n",
    "from sklearn.model_selection import cross_val_score\n",
    "\n",
    "# Масштабируемость модели\n",
    "from sklearn.preprocessing import StandardScaler\n",
    "\n",
    "# и для машинного обучения разными способами (по условию мы выбираем линейную регрессию):\n",
    "from sklearn.ensemble import RandomForestRegressor\n",
    "from sklearn.linear_model import LinearRegression\n",
    "from sklearn.tree import DecisionTreeRegressor\n",
    "\n",
    "from sklearn.metrics import mean_squared_error\n",
    "from sklearn.metrics import (\n",
    "    # Точность модели\n",
    "    accuracy_score,\n",
    "    # Матрицы ошибок (для борьбы с дисбалансом)\n",
    "    confusion_matrix, \n",
    "    # Полнота\n",
    "    recall_score, \n",
    "    # Точность\n",
    "    precision_score, \n",
    "    # F1-мера\n",
    "    f1_score,\n",
    "    # Метрика AUC-ROC\n",
    "    roc_auc_score,\n",
    "    roc_curve,\n",
    "    # MSE\n",
    "    mean_squared_error\n",
    ")\n",
    "\n",
    "# Контроль выборки\n",
    "from sklearn.utils import shuffle"
   ]
  },
  {
   "cell_type": "markdown",
   "metadata": {},
   "source": [
    "<div class=\"alert alert-block alert-success\">\n",
    "<b>Успех:</b> Импорты  на месте\n",
    "</div>"
   ]
  },
  {
   "cell_type": "code",
   "execution_count": 128,
   "metadata": {},
   "outputs": [
    {
     "name": "stdout",
     "output_type": "stream",
     "text": [
      "<class 'pandas.core.frame.DataFrame'>\n",
      "RangeIndex: 100000 entries, 0 to 99999\n",
      "Data columns (total 5 columns):\n",
      " #   Column   Non-Null Count   Dtype  \n",
      "---  ------   --------------   -----  \n",
      " 0   id       100000 non-null  object \n",
      " 1   f0       100000 non-null  float64\n",
      " 2   f1       100000 non-null  float64\n",
      " 3   f2       100000 non-null  float64\n",
      " 4   product  100000 non-null  float64\n",
      "dtypes: float64(4), object(1)\n",
      "memory usage: 3.8+ MB\n",
      "<class 'pandas.core.frame.DataFrame'>\n",
      "RangeIndex: 100000 entries, 0 to 99999\n",
      "Data columns (total 5 columns):\n",
      " #   Column   Non-Null Count   Dtype  \n",
      "---  ------   --------------   -----  \n",
      " 0   id       100000 non-null  object \n",
      " 1   f0       100000 non-null  float64\n",
      " 2   f1       100000 non-null  float64\n",
      " 3   f2       100000 non-null  float64\n",
      " 4   product  100000 non-null  float64\n",
      "dtypes: float64(4), object(1)\n",
      "memory usage: 3.8+ MB\n",
      "<class 'pandas.core.frame.DataFrame'>\n",
      "RangeIndex: 100000 entries, 0 to 99999\n",
      "Data columns (total 5 columns):\n",
      " #   Column   Non-Null Count   Dtype  \n",
      "---  ------   --------------   -----  \n",
      " 0   id       100000 non-null  object \n",
      " 1   f0       100000 non-null  float64\n",
      " 2   f1       100000 non-null  float64\n",
      " 3   f2       100000 non-null  float64\n",
      " 4   product  100000 non-null  float64\n",
      "dtypes: float64(4), object(1)\n",
      "memory usage: 3.8+ MB\n"
     ]
    }
   ],
   "source": [
    "# Получаем датасеты\n",
    "try:\n",
    "    # Локальный файл\n",
    "    try:\n",
    "        df_0 = pd.read_csv('geo_data_0.csv')\n",
    "        df_1 = pd.read_csv('geo_data_1.csv')\n",
    "        df_2 = pd.read_csv('geo_data_2.csv')\n",
    "    # Файл с яндекса\n",
    "    except:\n",
    "        df_0 = pd.read_csv('/datasets/geo_data_0.csv')\n",
    "        df_1 = pd.read_csv('/datasets/geo_data_1.csv')\n",
    "        df_2 = pd.read_csv('/datasets/geo_data_2.csv')\n",
    "\n",
    "    # Узнаем, что в них\n",
    "    df_0.info()\n",
    "    df_1.info()\n",
    "    df_2.info()\n",
    "except:\n",
    "    print('Отсутствует датасет. Проверьте путь файла')"
   ]
  },
  {
   "cell_type": "code",
   "execution_count": 129,
   "metadata": {},
   "outputs": [
    {
     "data": {
      "text/html": [
       "<div>\n",
       "<style scoped>\n",
       "    .dataframe tbody tr th:only-of-type {\n",
       "        vertical-align: middle;\n",
       "    }\n",
       "\n",
       "    .dataframe tbody tr th {\n",
       "        vertical-align: top;\n",
       "    }\n",
       "\n",
       "    .dataframe thead th {\n",
       "        text-align: right;\n",
       "    }\n",
       "</style>\n",
       "<table border=\"1\" class=\"dataframe\">\n",
       "  <thead>\n",
       "    <tr style=\"text-align: right;\">\n",
       "      <th></th>\n",
       "      <th>id</th>\n",
       "      <th>f0</th>\n",
       "      <th>f1</th>\n",
       "      <th>f2</th>\n",
       "      <th>product</th>\n",
       "    </tr>\n",
       "  </thead>\n",
       "  <tbody>\n",
       "    <tr>\n",
       "      <th>0</th>\n",
       "      <td>txEyH</td>\n",
       "      <td>0.705745</td>\n",
       "      <td>-0.497823</td>\n",
       "      <td>1.221170</td>\n",
       "      <td>105.280062</td>\n",
       "    </tr>\n",
       "    <tr>\n",
       "      <th>1</th>\n",
       "      <td>2acmU</td>\n",
       "      <td>1.334711</td>\n",
       "      <td>-0.340164</td>\n",
       "      <td>4.365080</td>\n",
       "      <td>73.037750</td>\n",
       "    </tr>\n",
       "    <tr>\n",
       "      <th>2</th>\n",
       "      <td>409Wp</td>\n",
       "      <td>1.022732</td>\n",
       "      <td>0.151990</td>\n",
       "      <td>1.419926</td>\n",
       "      <td>85.265647</td>\n",
       "    </tr>\n",
       "    <tr>\n",
       "      <th>3</th>\n",
       "      <td>iJLyR</td>\n",
       "      <td>-0.032172</td>\n",
       "      <td>0.139033</td>\n",
       "      <td>2.978566</td>\n",
       "      <td>168.620776</td>\n",
       "    </tr>\n",
       "    <tr>\n",
       "      <th>4</th>\n",
       "      <td>Xdl7t</td>\n",
       "      <td>1.988431</td>\n",
       "      <td>0.155413</td>\n",
       "      <td>4.751769</td>\n",
       "      <td>154.036647</td>\n",
       "    </tr>\n",
       "  </tbody>\n",
       "</table>\n",
       "</div>"
      ],
      "text/plain": [
       "      id        f0        f1        f2     product\n",
       "0  txEyH  0.705745 -0.497823  1.221170  105.280062\n",
       "1  2acmU  1.334711 -0.340164  4.365080   73.037750\n",
       "2  409Wp  1.022732  0.151990  1.419926   85.265647\n",
       "3  iJLyR -0.032172  0.139033  2.978566  168.620776\n",
       "4  Xdl7t  1.988431  0.155413  4.751769  154.036647"
      ]
     },
     "execution_count": 129,
     "metadata": {},
     "output_type": "execute_result"
    }
   ],
   "source": [
    "df_0.head()"
   ]
  },
  {
   "cell_type": "code",
   "execution_count": 130,
   "metadata": {},
   "outputs": [
    {
     "data": {
      "text/html": [
       "<div>\n",
       "<style scoped>\n",
       "    .dataframe tbody tr th:only-of-type {\n",
       "        vertical-align: middle;\n",
       "    }\n",
       "\n",
       "    .dataframe tbody tr th {\n",
       "        vertical-align: top;\n",
       "    }\n",
       "\n",
       "    .dataframe thead th {\n",
       "        text-align: right;\n",
       "    }\n",
       "</style>\n",
       "<table border=\"1\" class=\"dataframe\">\n",
       "  <thead>\n",
       "    <tr style=\"text-align: right;\">\n",
       "      <th></th>\n",
       "      <th>id</th>\n",
       "      <th>f0</th>\n",
       "      <th>f1</th>\n",
       "      <th>f2</th>\n",
       "      <th>product</th>\n",
       "    </tr>\n",
       "  </thead>\n",
       "  <tbody>\n",
       "    <tr>\n",
       "      <th>0</th>\n",
       "      <td>kBEdx</td>\n",
       "      <td>-15.001348</td>\n",
       "      <td>-8.276000</td>\n",
       "      <td>-0.005876</td>\n",
       "      <td>3.179103</td>\n",
       "    </tr>\n",
       "    <tr>\n",
       "      <th>1</th>\n",
       "      <td>62mP7</td>\n",
       "      <td>14.272088</td>\n",
       "      <td>-3.475083</td>\n",
       "      <td>0.999183</td>\n",
       "      <td>26.953261</td>\n",
       "    </tr>\n",
       "    <tr>\n",
       "      <th>2</th>\n",
       "      <td>vyE1P</td>\n",
       "      <td>6.263187</td>\n",
       "      <td>-5.948386</td>\n",
       "      <td>5.001160</td>\n",
       "      <td>134.766305</td>\n",
       "    </tr>\n",
       "    <tr>\n",
       "      <th>3</th>\n",
       "      <td>KcrkZ</td>\n",
       "      <td>-13.081196</td>\n",
       "      <td>-11.506057</td>\n",
       "      <td>4.999415</td>\n",
       "      <td>137.945408</td>\n",
       "    </tr>\n",
       "    <tr>\n",
       "      <th>4</th>\n",
       "      <td>AHL4O</td>\n",
       "      <td>12.702195</td>\n",
       "      <td>-8.147433</td>\n",
       "      <td>5.004363</td>\n",
       "      <td>134.766305</td>\n",
       "    </tr>\n",
       "  </tbody>\n",
       "</table>\n",
       "</div>"
      ],
      "text/plain": [
       "      id         f0         f1        f2     product\n",
       "0  kBEdx -15.001348  -8.276000 -0.005876    3.179103\n",
       "1  62mP7  14.272088  -3.475083  0.999183   26.953261\n",
       "2  vyE1P   6.263187  -5.948386  5.001160  134.766305\n",
       "3  KcrkZ -13.081196 -11.506057  4.999415  137.945408\n",
       "4  AHL4O  12.702195  -8.147433  5.004363  134.766305"
      ]
     },
     "execution_count": 130,
     "metadata": {},
     "output_type": "execute_result"
    }
   ],
   "source": [
    "df_1.head()"
   ]
  },
  {
   "cell_type": "code",
   "execution_count": 131,
   "metadata": {},
   "outputs": [
    {
     "data": {
      "text/html": [
       "<div>\n",
       "<style scoped>\n",
       "    .dataframe tbody tr th:only-of-type {\n",
       "        vertical-align: middle;\n",
       "    }\n",
       "\n",
       "    .dataframe tbody tr th {\n",
       "        vertical-align: top;\n",
       "    }\n",
       "\n",
       "    .dataframe thead th {\n",
       "        text-align: right;\n",
       "    }\n",
       "</style>\n",
       "<table border=\"1\" class=\"dataframe\">\n",
       "  <thead>\n",
       "    <tr style=\"text-align: right;\">\n",
       "      <th></th>\n",
       "      <th>id</th>\n",
       "      <th>f0</th>\n",
       "      <th>f1</th>\n",
       "      <th>f2</th>\n",
       "      <th>product</th>\n",
       "    </tr>\n",
       "  </thead>\n",
       "  <tbody>\n",
       "    <tr>\n",
       "      <th>0</th>\n",
       "      <td>fwXo0</td>\n",
       "      <td>-1.146987</td>\n",
       "      <td>0.963328</td>\n",
       "      <td>-0.828965</td>\n",
       "      <td>27.758673</td>\n",
       "    </tr>\n",
       "    <tr>\n",
       "      <th>1</th>\n",
       "      <td>WJtFt</td>\n",
       "      <td>0.262778</td>\n",
       "      <td>0.269839</td>\n",
       "      <td>-2.530187</td>\n",
       "      <td>56.069697</td>\n",
       "    </tr>\n",
       "    <tr>\n",
       "      <th>2</th>\n",
       "      <td>ovLUW</td>\n",
       "      <td>0.194587</td>\n",
       "      <td>0.289035</td>\n",
       "      <td>-5.586433</td>\n",
       "      <td>62.871910</td>\n",
       "    </tr>\n",
       "    <tr>\n",
       "      <th>3</th>\n",
       "      <td>q6cA6</td>\n",
       "      <td>2.236060</td>\n",
       "      <td>-0.553760</td>\n",
       "      <td>0.930038</td>\n",
       "      <td>114.572842</td>\n",
       "    </tr>\n",
       "    <tr>\n",
       "      <th>4</th>\n",
       "      <td>WPMUX</td>\n",
       "      <td>-0.515993</td>\n",
       "      <td>1.716266</td>\n",
       "      <td>5.899011</td>\n",
       "      <td>149.600746</td>\n",
       "    </tr>\n",
       "  </tbody>\n",
       "</table>\n",
       "</div>"
      ],
      "text/plain": [
       "      id        f0        f1        f2     product\n",
       "0  fwXo0 -1.146987  0.963328 -0.828965   27.758673\n",
       "1  WJtFt  0.262778  0.269839 -2.530187   56.069697\n",
       "2  ovLUW  0.194587  0.289035 -5.586433   62.871910\n",
       "3  q6cA6  2.236060 -0.553760  0.930038  114.572842\n",
       "4  WPMUX -0.515993  1.716266  5.899011  149.600746"
      ]
     },
     "execution_count": 131,
     "metadata": {},
     "output_type": "execute_result"
    }
   ],
   "source": [
    "df_2.head()"
   ]
  },
  {
   "cell_type": "code",
   "execution_count": 132,
   "metadata": {},
   "outputs": [
    {
     "data": {
      "text/plain": [
       "id         0\n",
       "f0         0\n",
       "f1         0\n",
       "f2         0\n",
       "product    0\n",
       "dtype: int64"
      ]
     },
     "execution_count": 132,
     "metadata": {},
     "output_type": "execute_result"
    }
   ],
   "source": [
    "# Проверим на наличие пропущенных значений\n",
    "df_0.isna().sum()"
   ]
  },
  {
   "cell_type": "code",
   "execution_count": 133,
   "metadata": {},
   "outputs": [
    {
     "data": {
      "text/plain": [
       "id         0\n",
       "f0         0\n",
       "f1         0\n",
       "f2         0\n",
       "product    0\n",
       "dtype: int64"
      ]
     },
     "execution_count": 133,
     "metadata": {},
     "output_type": "execute_result"
    }
   ],
   "source": [
    "df_1.isna().sum()"
   ]
  },
  {
   "cell_type": "code",
   "execution_count": 134,
   "metadata": {},
   "outputs": [
    {
     "data": {
      "text/plain": [
       "id         0\n",
       "f0         0\n",
       "f1         0\n",
       "f2         0\n",
       "product    0\n",
       "dtype: int64"
      ]
     },
     "execution_count": 134,
     "metadata": {},
     "output_type": "execute_result"
    }
   ],
   "source": [
    "df_2.isna().sum()"
   ]
  },
  {
   "cell_type": "markdown",
   "metadata": {},
   "source": [
    "Поскольку мы будем применять метод линейной регрессии, значит рассмотрим корреляцию"
   ]
  },
  {
   "cell_type": "code",
   "execution_count": 135,
   "metadata": {
    "scrolled": true
   },
   "outputs": [
    {
     "name": "stdout",
     "output_type": "stream",
     "text": [
      "Requirement already satisfied: pandas_profiling in /opt/conda/lib/python3.9/site-packages (3.6.6)\n",
      "Requirement already satisfied: ydata-profiling in /opt/conda/lib/python3.9/site-packages (from pandas_profiling) (4.0.0)\n",
      "Requirement already satisfied: seaborn<0.13,>=0.10.1 in /opt/conda/lib/python3.9/site-packages (from ydata-profiling->pandas_profiling) (0.11.1)\n",
      "Requirement already satisfied: PyYAML<6.1,>=5.0.0 in /opt/conda/lib/python3.9/site-packages (from ydata-profiling->pandas_profiling) (6.0)\n",
      "Requirement already satisfied: htmlmin==0.1.12 in /opt/conda/lib/python3.9/site-packages (from ydata-profiling->pandas_profiling) (0.1.12)\n",
      "Requirement already satisfied: numpy<1.24,>=1.16.0 in /opt/conda/lib/python3.9/site-packages (from ydata-profiling->pandas_profiling) (1.21.1)\n",
      "Requirement already satisfied: typeguard<2.14,>=2.13.2 in /opt/conda/lib/python3.9/site-packages (from ydata-profiling->pandas_profiling) (2.13.3)\n",
      "Requirement already satisfied: multimethod<1.10,>=1.4 in /opt/conda/lib/python3.9/site-packages (from ydata-profiling->pandas_profiling) (1.9.1)\n",
      "Requirement already satisfied: pandas!=1.4.0,<1.6,>1.1 in /opt/conda/lib/python3.9/site-packages (from ydata-profiling->pandas_profiling) (1.2.4)\n",
      "Requirement already satisfied: visions[type_image_path]==0.7.5 in /opt/conda/lib/python3.9/site-packages (from ydata-profiling->pandas_profiling) (0.7.5)\n",
      "Requirement already satisfied: pydantic<1.11,>=1.8.1 in /opt/conda/lib/python3.9/site-packages (from ydata-profiling->pandas_profiling) (1.8.2)\n",
      "Requirement already satisfied: phik<0.13,>=0.11.1 in /opt/conda/lib/python3.9/site-packages (from ydata-profiling->pandas_profiling) (0.12.3)\n",
      "Requirement already satisfied: tqdm<4.65,>=4.48.2 in /opt/conda/lib/python3.9/site-packages (from ydata-profiling->pandas_profiling) (4.61.2)\n",
      "Requirement already satisfied: statsmodels<0.14,>=0.13.2 in /opt/conda/lib/python3.9/site-packages (from ydata-profiling->pandas_profiling) (0.13.2)\n",
      "Requirement already satisfied: scipy<1.10,>=1.4.1 in /opt/conda/lib/python3.9/site-packages (from ydata-profiling->pandas_profiling) (1.9.1)\n",
      "Requirement already satisfied: matplotlib<3.7,>=3.2 in /opt/conda/lib/python3.9/site-packages (from ydata-profiling->pandas_profiling) (3.3.4)\n",
      "Requirement already satisfied: jinja2<3.2,>=2.11.1 in /opt/conda/lib/python3.9/site-packages (from ydata-profiling->pandas_profiling) (3.0.1)\n",
      "Requirement already satisfied: requests<2.29,>=2.24.0 in /opt/conda/lib/python3.9/site-packages (from ydata-profiling->pandas_profiling) (2.25.1)\n",
      "Requirement already satisfied: tangled-up-in-unicode>=0.0.4 in /opt/conda/lib/python3.9/site-packages (from visions[type_image_path]==0.7.5->ydata-profiling->pandas_profiling) (0.2.0)\n",
      "Requirement already satisfied: networkx>=2.4 in /opt/conda/lib/python3.9/site-packages (from visions[type_image_path]==0.7.5->ydata-profiling->pandas_profiling) (3.0)\n",
      "Requirement already satisfied: attrs>=19.3.0 in /opt/conda/lib/python3.9/site-packages (from visions[type_image_path]==0.7.5->ydata-profiling->pandas_profiling) (21.2.0)\n",
      "Requirement already satisfied: imagehash in /opt/conda/lib/python3.9/site-packages (from visions[type_image_path]==0.7.5->ydata-profiling->pandas_profiling) (4.3.1)\n",
      "Requirement already satisfied: Pillow in /opt/conda/lib/python3.9/site-packages (from visions[type_image_path]==0.7.5->ydata-profiling->pandas_profiling) (8.4.0)\n",
      "Requirement already satisfied: MarkupSafe>=2.0 in /opt/conda/lib/python3.9/site-packages (from jinja2<3.2,>=2.11.1->ydata-profiling->pandas_profiling) (2.1.1)\n",
      "Requirement already satisfied: pyparsing!=2.0.4,!=2.1.2,!=2.1.6,>=2.0.3 in /opt/conda/lib/python3.9/site-packages (from matplotlib<3.7,>=3.2->ydata-profiling->pandas_profiling) (2.4.7)\n",
      "Requirement already satisfied: cycler>=0.10 in /opt/conda/lib/python3.9/site-packages (from matplotlib<3.7,>=3.2->ydata-profiling->pandas_profiling) (0.11.0)\n",
      "Requirement already satisfied: kiwisolver>=1.0.1 in /opt/conda/lib/python3.9/site-packages (from matplotlib<3.7,>=3.2->ydata-profiling->pandas_profiling) (1.4.4)\n",
      "Requirement already satisfied: python-dateutil>=2.1 in /opt/conda/lib/python3.9/site-packages (from matplotlib<3.7,>=3.2->ydata-profiling->pandas_profiling) (2.8.1)\n",
      "Requirement already satisfied: pytz>=2017.3 in /opt/conda/lib/python3.9/site-packages (from pandas!=1.4.0,<1.6,>1.1->ydata-profiling->pandas_profiling) (2021.1)\n",
      "Requirement already satisfied: joblib>=0.14.1 in /opt/conda/lib/python3.9/site-packages (from phik<0.13,>=0.11.1->ydata-profiling->pandas_profiling) (1.1.0)\n",
      "Requirement already satisfied: typing-extensions>=3.7.4.3 in /opt/conda/lib/python3.9/site-packages (from pydantic<1.11,>=1.8.1->ydata-profiling->pandas_profiling) (4.3.0)\n",
      "Requirement already satisfied: six>=1.5 in /opt/conda/lib/python3.9/site-packages (from python-dateutil>=2.1->matplotlib<3.7,>=3.2->ydata-profiling->pandas_profiling) (1.16.0)\n",
      "Requirement already satisfied: idna<3,>=2.5 in /opt/conda/lib/python3.9/site-packages (from requests<2.29,>=2.24.0->ydata-profiling->pandas_profiling) (2.10)\n",
      "Requirement already satisfied: chardet<5,>=3.0.2 in /opt/conda/lib/python3.9/site-packages (from requests<2.29,>=2.24.0->ydata-profiling->pandas_profiling) (4.0.0)\n",
      "Requirement already satisfied: certifi>=2017.4.17 in /opt/conda/lib/python3.9/site-packages (from requests<2.29,>=2.24.0->ydata-profiling->pandas_profiling) (2022.6.15)\n",
      "Requirement already satisfied: urllib3<1.27,>=1.21.1 in /opt/conda/lib/python3.9/site-packages (from requests<2.29,>=2.24.0->ydata-profiling->pandas_profiling) (1.26.6)\n",
      "Requirement already satisfied: patsy>=0.5.2 in /opt/conda/lib/python3.9/site-packages (from statsmodels<0.14,>=0.13.2->ydata-profiling->pandas_profiling) (0.5.2)\n",
      "Requirement already satisfied: packaging>=21.3 in /opt/conda/lib/python3.9/site-packages (from statsmodels<0.14,>=0.13.2->ydata-profiling->pandas_profiling) (21.3)\n",
      "Requirement already satisfied: PyWavelets in /opt/conda/lib/python3.9/site-packages (from imagehash->visions[type_image_path]==0.7.5->ydata-profiling->pandas_profiling) (1.4.1)\n",
      "Note: you may need to restart the kernel to use updated packages.\n"
     ]
    }
   ],
   "source": [
    "pip install pandas_profiling"
   ]
  },
  {
   "cell_type": "code",
   "execution_count": 136,
   "metadata": {},
   "outputs": [],
   "source": [
    "# Будем это применять, т.к. pandas_profiling уже устарело, но работает аналоично как это \n",
    "import ydata_profiling"
   ]
  },
  {
   "cell_type": "code",
   "execution_count": null,
   "metadata": {
    "scrolled": true
   },
   "outputs": [
    {
     "data": {
      "application/vnd.jupyter.widget-view+json": {
       "model_id": "1ed8c5182d3641c79f4a5dffae17fb0a",
       "version_major": 2,
       "version_minor": 0
      },
      "text/plain": [
       "Summarize dataset:   0%|          | 0/5 [00:00<?, ?it/s]"
      ]
     },
     "metadata": {},
     "output_type": "display_data"
    },
    {
     "data": {
      "application/vnd.jupyter.widget-view+json": {
       "model_id": "18fcf5e66a9d4ff2ab122e572e131aec",
       "version_major": 2,
       "version_minor": 0
      },
      "text/plain": [
       "Generate report structure:   0%|          | 0/1 [00:00<?, ?it/s]"
      ]
     },
     "metadata": {},
     "output_type": "display_data"
    },
    {
     "data": {
      "application/vnd.jupyter.widget-view+json": {
       "model_id": "3bd73787674a4b048f806b0ae9f2e44d",
       "version_major": 2,
       "version_minor": 0
      },
      "text/plain": [
       "Render HTML:   0%|          | 0/1 [00:00<?, ?it/s]"
      ]
     },
     "metadata": {},
     "output_type": "display_data"
    }
   ],
   "source": [
    "# Рассмотрим корреляцию 3-ех датасетов\n",
    "ydata_profiling.ProfileReport(df_0)"
   ]
  },
  {
   "cell_type": "code",
   "execution_count": null,
   "metadata": {},
   "outputs": [],
   "source": [
    "ydata_profiling.ProfileReport(df_1)"
   ]
  },
  {
   "cell_type": "code",
   "execution_count": null,
   "metadata": {},
   "outputs": [],
   "source": [
    "ydata_profiling.ProfileReport(df_2)"
   ]
  },
  {
   "cell_type": "markdown",
   "metadata": {},
   "source": [
    "Все в порядке, теперь можно приступать к обучению и проверку модели"
   ]
  },
  {
   "cell_type": "markdown",
   "metadata": {},
   "source": [
    "<div class=\"alert alert-block alert-success\">\n",
    "<b>Успех:</b> Данные осмотрены, но можно было бы еще как минимум изучить корреляции, так как мы планируем использовать линейные модели, а для них это важно. \n",
    "</div>\n",
    "\n",
    "\n",
    "<div class=\"alert alert-block alert-info\">\n",
    "<b>Совет:</b>  Советую обратить внимание на библиотеки sweetviz и pandas_profiling помогут в проведении более тщательного EDA анализа. Исследовательский анализ можно делать и с помощью ручного вызова функций дефолтных библиотек. Данные библиотеки хороши для максимизации комфорта презентации результатов анализа бизнес-пользователям.  \n",
    "\n",
    "Очень просты в использоовании, на вход кладется датафрейм: pandas_profiling.ProfileReport(df) \n",
    "</div>"
   ]
  },
  {
   "cell_type": "markdown",
   "metadata": {},
   "source": [
    "<div class=\"alert alert-block alert-warning\">\n",
    "<b>V2 Изменения:</b> Добавлена библиотека pandas_profiling для изучения корреляции трех датасетов\n",
    "</div>"
   ]
  },
  {
   "cell_type": "markdown",
   "metadata": {},
   "source": [
    "\n",
    "<div class=\"alert alert-block alert-success\">\n",
    "    \n",
    "<b>Успех[2]:</b> Главное во время обучения не злоупотреблять, чтобы руки не забыл как делать EDA анализ)\n",
    "</div>"
   ]
  },
  {
   "cell_type": "markdown",
   "metadata": {},
   "source": [
    "<div class=\"alert alert-block alert-warning\">\n",
    "<b>V3 Изменения:</b> Ок, ок, без проблем, постараюсь)\n",
    "</div>"
   ]
  },
  {
   "cell_type": "markdown",
   "metadata": {},
   "source": [
    "## 2. Обучение и проверка модели"
   ]
  },
  {
   "cell_type": "code",
   "execution_count": null,
   "metadata": {},
   "outputs": [],
   "source": [
    "# Убираем лишний признак\n",
    "df_0 = df_0[['f0', 'f1', 'f2', 'product']]\n",
    "df_1 = df_1[['f0', 'f1', 'f2', 'product']]\n",
    "df_2 = df_2[['f0', 'f1', 'f2', 'product']]"
   ]
  },
  {
   "cell_type": "code",
   "execution_count": null,
   "metadata": {},
   "outputs": [],
   "source": [
    "# Объединим в один датасет в виде списка для удобства автоматизации\n",
    "full_df = [df_0, df_1, df_2]"
   ]
  },
  {
   "cell_type": "code",
   "execution_count": null,
   "metadata": {},
   "outputs": [],
   "source": [
    "# Эта переменная будет сохранять все RMSE модели для всех регионов \n",
    "best_RMSE_for_all_model_averange_for_all_region = []\n",
    "\n",
    "# А эта будет сохранять все RMSE модели\n",
    "best_RMSE_for_all_model_averange = []"
   ]
  },
  {
   "cell_type": "code",
   "execution_count": null,
   "metadata": {},
   "outputs": [],
   "source": [
    "# Эта - все предсказания модели для всех регионов\n",
    "best_predict_for_all_model_averange_for_all_region = []\n",
    "\n",
    "# Аналогично, все предсказания модели\n",
    "best_predict_for_all_model_averange = []"
   ]
  },
  {
   "cell_type": "code",
   "execution_count": null,
   "metadata": {},
   "outputs": [],
   "source": [
    "features = []\n",
    "target = []\n",
    "\n",
    "for df in full_df:\n",
    "    features.append(df.drop('product', axis=1))\n",
    "    target.append(df['product'])"
   ]
  },
  {
   "cell_type": "markdown",
   "metadata": {},
   "source": [
    "### 2.1. Разобьем данные на обучающую и валидационную выборки в соотношении 75:25"
   ]
  },
  {
   "cell_type": "code",
   "execution_count": null,
   "metadata": {},
   "outputs": [],
   "source": [
    "# Как обычно, будем разделять 75% данных для обучающей выборки и 25% валидационной выборки\n",
    "\n",
    "features_train = []\n",
    "features_valid = []\n",
    "target_train = []\n",
    "target_valid = []\n",
    "\n",
    "for i in range(0, 3):\n",
    "    f_t, f_v, t_t, t_v = train_test_split(features[i], target[i], test_size=(1 - 0.75), random_state=12345)\n",
    "    features_train.append(f_t)\n",
    "    features_valid.append(f_v)\n",
    "    target_train.append(t_t)\n",
    "    target_valid.append(t_v)"
   ]
  },
  {
   "cell_type": "markdown",
   "metadata": {},
   "source": [
    "### 2.2. Обучим модель и сделаем предсказания на валидационной выборке, \n",
    "### 2.3. Также сохраним предсказания и правильные ответы на валидационной выборки"
   ]
  },
  {
   "cell_type": "markdown",
   "metadata": {},
   "source": [
    "Попробуем выявлять предсказания и RMSE методом LinearRegression"
   ]
  },
  {
   "cell_type": "code",
   "execution_count": null,
   "metadata": {},
   "outputs": [],
   "source": [
    "%%time\n",
    "# Применяем метод линейной регрессии\n",
    "model = LinearRegression()\n",
    "\n",
    "for i in range(0, 3):\n",
    "    # Обучим модель на тренировочной выборке\n",
    "    model.fit(features_train[i], target_train[i]) \n",
    "\n",
    "    # Получим предсказания модели на валидационной выборке\n",
    "    predictions_valid = model.predict(features_valid[i]) \n",
    "\n",
    "    # Посчитаем значение метрики RMSE на валидационной выборке\n",
    "    result = mean_squared_error(target_valid[i], predictions_valid) ** 0.5\n",
    "    \n",
    "    print('-'*79)\n",
    "    print('Регион №', i + 1)\n",
    "    print('RMSE модели линейной регрессии на валидационной выборке:', result)\n",
    "    print('Предсказание модели:', predictions_valid.mean())\n",
    "    \n",
    "    # Сохраним все значения RMSE\n",
    "    best_RMSE_for_all_model_averange.append(result)\n",
    "    # И предсказания\n",
    "    best_predict_for_all_model_averange.append(predictions_valid)\n",
    "    \n",
    "print('-'*79)"
   ]
  },
  {
   "cell_type": "markdown",
   "metadata": {},
   "source": [
    "У перовго региона RMSE небольшое, но ощутимое. Значит где-то 37 объём запасов в скважине (тыс. баррелей) присутствует отклонение\n",
    "\n",
    "А у второго - самое минимальное отклонение, можно рассмотреть этот регион как лучший\n",
    "\n",
    "У третьего - больше отклонений первого региона\n",
    "\n",
    "Здесь получается, что можно рассмотреть второй регион как минимальное отклонение\n",
    "\n",
    "А предсказания у второго региона самое низкие остальных"
   ]
  },
  {
   "cell_type": "markdown",
   "metadata": {},
   "source": [
    "<div class=\"alert alert-block alert-success\">\n",
    "<b>Успех:</b> Шаг проделан лаконично, все метрики посчитаны корректно\n",
    "</div> \n"
   ]
  },
  {
   "cell_type": "code",
   "execution_count": null,
   "metadata": {},
   "outputs": [],
   "source": [
    "# Сохраним лучшие RMSE всех регионов\n",
    "best_RMSE_for_all_model_averange_for_all_region.append(best_RMSE_for_all_model_averange[:])\n",
    "# И предсказания всех регионов\n",
    "best_predict_for_all_model_averange_for_all_region.append(best_predict_for_all_model_averange[:])"
   ]
  },
  {
   "cell_type": "code",
   "execution_count": null,
   "metadata": {},
   "outputs": [],
   "source": [
    "# Очистим, чтобы заполняли новые значения других регионов\n",
    "best_RMSE_for_all_model_averange.clear()\n",
    "\n",
    "best_predict_for_all_model_averange.clear()"
   ]
  },
  {
   "cell_type": "code",
   "execution_count": null,
   "metadata": {},
   "outputs": [],
   "source": [
    "print(best_predict_for_all_model_averange_for_all_region)"
   ]
  },
  {
   "cell_type": "code",
   "execution_count": null,
   "metadata": {},
   "outputs": [],
   "source": [
    "print(best_RMSE_for_all_model_averange_for_all_region)"
   ]
  },
  {
   "cell_type": "markdown",
   "metadata": {},
   "source": [
    "<div class=\"alert alert-block alert-danger\">\n",
    "<b>Ошибка: </b> в ТЗ четко указано использовать линейную регрессию, использлвание другие моделей здесь избыточно\n",
    "</div>"
   ]
  },
  {
   "cell_type": "markdown",
   "metadata": {},
   "source": [
    "<div class=\"alert alert-block alert-danger\">\n",
    "<b>Ошибка: </b>  Тоже самое\n",
    "</div>"
   ]
  },
  {
   "cell_type": "markdown",
   "metadata": {},
   "source": [
    "<div class=\"alert alert-block alert-warning\">\n",
    "<b>V2 Изменения:</b> Убраны 2 модели, оставили только модель линейной регрессии\n",
    "</div>"
   ]
  },
  {
   "cell_type": "markdown",
   "metadata": {},
   "source": [
    "\n",
    "<div class=\"alert alert-block alert-success\">\n",
    "    \n",
    "<b>Успех[2]:</b> 👍\n",
    "</div>\n",
    "\n"
   ]
  },
  {
   "cell_type": "markdown",
   "metadata": {},
   "source": [
    "### 2.4. Напечатаем на экране средний запас предсказанного сырья и RMSE модели"
   ]
  },
  {
   "cell_type": "markdown",
   "metadata": {},
   "source": [
    "Попробуем составить общую картинку всех регионов и рассмотреть"
   ]
  },
  {
   "cell_type": "code",
   "execution_count": null,
   "metadata": {},
   "outputs": [],
   "source": [
    "print('='*79, end='\\n\\n')\n",
    "print('LinearRegression:')\n",
    "for j in range(0, 3):\n",
    "    print('Регион №', j + 1)\n",
    "    print('Лучшие RMSE:', best_RMSE_for_all_model_averange_for_all_region[0][j])\n",
    "    print('Лучшие средние предсказания:', best_predict_for_all_model_averange_for_all_region[0][j].mean())\n",
    "print()\n",
    "print('='*79, end='\\n\\n')"
   ]
  },
  {
   "cell_type": "markdown",
   "metadata": {},
   "source": [
    "### 2.5. Проанализируем результаты и сделаем вывод\n",
    "Что и требовалось доказать, у второго региона получилось самое маленькое отклонение остальных регионов"
   ]
  },
  {
   "cell_type": "markdown",
   "metadata": {},
   "source": [
    "## 3. Подготовка к расчёту прибыли"
   ]
  },
  {
   "cell_type": "markdown",
   "metadata": {},
   "source": [
    "### Условия задачи\n",
    "\n",
    "- Для обучения модели подходит только линейная регрессия (остальные — недостаточно предсказуемые).\n",
    "- При разведке региона исследуют 500 точек, из которых с помощью машинного обучения выбирают 200 лучших для разработки.\n",
    "- Бюджет на разработку скважин в регионе — 10 млрд рублей.\n",
    "- При нынешних ценах один баррель сырья приносит 450 рублей дохода. Доход с каждой единицы продукта составляет 450 тыс. рублей, поскольку объём указан в тысячах баррелей.\n",
    "- После оценки рисков нужно оставить лишь те регионы, в которых вероятность убытков меньше 2.5%. Среди них выбирают регион с наибольшей средней прибылью."
   ]
  },
  {
   "cell_type": "markdown",
   "metadata": {},
   "source": [
    "### 3.1. Все ключевые значения для расчётов сохраним в отдельных переменных"
   ]
  },
  {
   "cell_type": "code",
   "execution_count": null,
   "metadata": {},
   "outputs": [],
   "source": [
    "# С помощью машинного обучения выбирали 200 лучшие точки \n",
    "BEST_POINT_FOR_PRODUCT = 200\n",
    "# Бюджет 10 млрд рублей\n",
    "BUDGET = 10_000_000_000\n",
    "# Доход 450 тыс рублей с каждой единицы продукты (объем указывается в тыс баррелей)\n",
    "INCOME = 450000\n",
    "# Вероятность убытки 2.5%\n",
    "PROBABILITY_OF_LOSSES = 0.025"
   ]
  },
  {
   "cell_type": "markdown",
   "metadata": {},
   "source": [
    "<div class=\"alert alert-block alert-info\">\n",
    "    \n",
    "<b>Совет:</b> Константы принято записывать в ВЕРХНЕМ РЕГИСТРЕ =) Читем здесь https://pythonworld.ru/osnovy/pep-8-rukovodstvo-po-napisaniyu-koda-na-python.html#section-29\n",
    "    \n",
    "А большие значение можно записывать так: `10_000_000_000`.\n",
    "</div> "
   ]
  },
  {
   "cell_type": "markdown",
   "metadata": {},
   "source": [
    "<div class=\"alert alert-block alert-warning\">\n",
    "<b>V2 Изменения:</b> Переменные были переименованы в верхнем регистре\n",
    "</div>"
   ]
  },
  {
   "cell_type": "markdown",
   "metadata": {},
   "source": [
    "\n",
    "<div class=\"alert alert-block alert-success\">\n",
    "    \n",
    "<b>Успех[2]:</b> 👍\n",
    "</div>\n",
    "\n"
   ]
  },
  {
   "cell_type": "markdown",
   "metadata": {},
   "source": [
    "### 3.2. Рассчитаем достаточный объём сырья для безубыточной разработки новой скважины. Сравним полученный объём сырья со средним запасом в каждом регионе."
   ]
  },
  {
   "cell_type": "code",
   "execution_count": null,
   "metadata": {},
   "outputs": [],
   "source": [
    "# Здесь будут храняться средний запас сырья каждого региона\n",
    "average_stock_of_raw_products = []\n",
    "\n",
    "for i in range(0, 3):\n",
    "    average_stock_of_raw_products.append(full_df[i]['product'].mean())\n",
    "    print('Ср. запас сырья в ', i + 1, 'регионе: ', round(average_stock_of_raw_products[i], 4), 'млн. баррелей')"
   ]
  },
  {
   "cell_type": "code",
   "execution_count": null,
   "metadata": {},
   "outputs": [],
   "source": [
    "# Также выявляем выделенные деньги на постройку одной скважины\n",
    "budget_one_per_well = BUDGET / BEST_POINT_FOR_PRODUCT\n",
    "print('Выделенные деньги на постройку одной скважины:', budget_one_per_well, 'рублей')"
   ]
  },
  {
   "cell_type": "code",
   "execution_count": null,
   "metadata": {},
   "outputs": [],
   "source": [
    "# Теперь рассчитаем достаточный объем сырья\n",
    "sufficient_volume_of_raw_products = BEST_POINT_FOR_PRODUCT / INCOME\n",
    "print('Объем каждой скважины (Для безубыточный разработки):', round(sufficient_volume_of_raw_products, 4), 'тыс. баррелей')"
   ]
  },
  {
   "cell_type": "code",
   "execution_count": null,
   "metadata": {},
   "outputs": [],
   "source": [
    "# Теперь сравним полученный объем сырья со средним запасом в каждом регионе\n",
    "# Но в ходе отладки вяснился, что данных очень много и пришлось запихнуть в самом датасете\n",
    "# Сохраняем полученный объем в каждом регионе в каждом датасете\n",
    "\n",
    "for i in range(0, 3):\n",
    "    print('='*79)\n",
    "    print('Регион №', i + 1)\n",
    "    full_df[i]['resulting_volume_of_raw_materials'] = full_df[i]['product'] * INCOME\n",
    "    print(full_df[i]['resulting_volume_of_raw_materials'])\n",
    "print('='*79)"
   ]
  },
  {
   "cell_type": "code",
   "execution_count": null,
   "metadata": {},
   "outputs": [],
   "source": [
    "# Сохранили и теперь находим возврат на инвестиции, т.к. нужно узнать, когда же инвестиционные вложения окупятся\n",
    "# И эти ROI заполняем в текущий датасет\n",
    "# Формула ROI = (итоговая прибыль - инвестиции) / инвестици =\n",
    "# = (resulting_volume_of_raw_materials - budget_one_per_well) / budget_one_per_well\n",
    "\n",
    "for i in range(0, 3):\n",
    "    print('='*79)\n",
    "    print('Регион №', i + 1)\n",
    "    full_df[i]['return_on_investments'] = (full_df[i]['resulting_volume_of_raw_materials'] - budget_one_per_well) / budget_one_per_well\n",
    "    # Будет удобнее выразить через процент\n",
    "    print(round(full_df[i]['return_on_investments'] * 100, 4))\n",
    "print('='*79)"
   ]
  },
  {
   "cell_type": "code",
   "execution_count": null,
   "metadata": {},
   "outputs": [],
   "source": [
    "# Теперь узнаем, в каком регионе больше всего попадаются отрицательные значения ROI\n",
    "\n",
    "for i in range(0, 3):\n",
    "    count_negative_product = 0\n",
    "    print('='*79)\n",
    "    print('Регион №', i + 1)\n",
    "\n",
    "    for ROI in full_df[i]['return_on_investments']:\n",
    "        # Если в этой точке попадется отрицательные вложения, тогда в копилку попадается\n",
    "        if(ROI < 0):\n",
    "            count_negative_product += 1\n",
    "\n",
    "    # Сохраняем кол-во точек с отрицательными значениями\n",
    "    print('Кол-во точек с отрицательными значениями:', count_negative_product)\n",
    "    print('Средние ROI:', round(full_df[i]['return_on_investments'].mean() * 100, 4), end='%\\n')\n",
    "\n",
    "print('='*79)\n"
   ]
  },
  {
   "cell_type": "markdown",
   "metadata": {},
   "source": [
    "### 3.3. Напишем выводы по этапу подготовки расчёта прибыли\n",
    "\n",
    "Здесь получается, что инвенстировать второй регион не оказалось выгодным условием, т.к. большая часть является убыточной. Лучше всего оказалось третий регион"
   ]
  },
  {
   "cell_type": "markdown",
   "metadata": {},
   "source": [
    "<div class=\"alert alert-block alert-success\">\n",
    "<b>Успех:</b> Значение для безубыточной разработки посчитано верно, с выводом согласен  \n",
    "</div>"
   ]
  },
  {
   "cell_type": "markdown",
   "metadata": {},
   "source": [
    "## 4. Расчёт прибыли и рисков. \n",
    "\n",
    "## Напишем функцию для расчёта прибыли по выбранным скважинам и предсказаниям модели"
   ]
  },
  {
   "cell_type": "markdown",
   "metadata": {},
   "source": [
    "###  4.1. Выберем скважины с максимальными значениями предсказаний"
   ]
  },
  {
   "cell_type": "code",
   "execution_count": null,
   "metadata": {},
   "outputs": [],
   "source": [
    "# Выберем скважину третьего региона, т.к. он лучше остальных по предсказанию\n",
    "best_well = best_predict_for_all_model_averange_for_all_region[0][2]\n",
    "print('Лучшие предсказания скважины третьего региона:\\n', best_well, '\\nИ средние значение предсказания:', round(best_well.mean(), 4))"
   ]
  },
  {
   "cell_type": "markdown",
   "metadata": {},
   "source": [
    "### 4.2. Просуммируйте целевое значение объёма сырья, соответствующее этим предсказаниям"
   ]
  },
  {
   "cell_type": "code",
   "execution_count": null,
   "metadata": {},
   "outputs": [],
   "source": [
    "target_value_of_volume_of_raw_materials = best_well.sum()\n",
    "print('Объем сырья:', round(target_value_of_volume_of_raw_materials, 4), 'тыс. баррелей')"
   ]
  },
  {
   "cell_type": "markdown",
   "metadata": {},
   "source": [
    "### 4.3. Рассчитаем прибыль для полученного объёма сырья"
   ]
  },
  {
   "cell_type": "code",
   "execution_count": null,
   "metadata": {},
   "outputs": [],
   "source": [
    "# Прибыль для полученного объема = (целевое значение объема * доход с одного барреля) - бюджет на разработку скважин в регионе\n",
    "profit_for_received_volume_of_raw_materials = (target_value_of_volume_of_raw_materials * INCOME) - BUDGET\n",
    "print('Прибыль:', profit_for_received_volume_of_raw_materials, 'рублей')\n",
    "print('Или в другом виде:', round(profit_for_received_volume_of_raw_materials / 1_000_000, 2), 'млн. рублей')"
   ]
  },
  {
   "cell_type": "code",
   "execution_count": null,
   "metadata": {},
   "outputs": [],
   "source": [
    "# Теперь создадим функцию, которая выполняет примерно аналогично\n",
    "def profit_for_received(target, probabilities, count):\n",
    "    # Отсортируем вероятность для удобства\n",
    "    probs_sorted = pd.Series(probabilities, index=target.index).sort_values(ascending=False)\n",
    "    # Чтобы выбрать ответы, возьмем их индексы\n",
    "    selected = target[probs_sorted.index][:count].sum()\n",
    "\n",
    "    profit_for_received_volume_of_raw_materials = (selected * INCOME) - BUDGET\n",
    "\n",
    "    print('Объем сырья:', round(selected, 4), 'тыс. баррелей')\n",
    "     \n",
    "    print('Прибыль:', profit_for_received_volume_of_raw_materials, 'рублей')\n",
    "    print('Или в другом виде:', round(profit_for_received_volume_of_raw_materials / 1_000_000, 2), 'млн. рублей')\n"
   ]
  },
  {
   "cell_type": "markdown",
   "metadata": {},
   "source": [
    "<div class=\"alert alert-block alert-danger\">\n",
    "<b>Ошибка:</b> Для выбора 200 лучших скважин нужно использовать предсказанные значения. А вот для подсчета прибыли должны использоваться настоящие значения соответствующих ячеек.\n",
    "\n",
    "</div>\n"
   ]
  },
  {
   "cell_type": "markdown",
   "metadata": {},
   "source": [
    "\n",
    "<div class=\"alert alert-block alert-success\">\n",
    "    \n",
    "<b>Успех[2]:</b> Есть контакт\n",
    "</div>\n",
    "\n"
   ]
  },
  {
   "cell_type": "code",
   "execution_count": null,
   "metadata": {},
   "outputs": [],
   "source": [
    "# Поскольку по условию с помощью машинного обучения выбираем 200 лучших для разработки\n",
    "\n",
    "for i in range(0, 3):\n",
    "    print('='*79)\n",
    "    print('Регион №', i + 1)\n",
    "    profit_for_received(target_valid[i], best_predict_for_all_model_averange_for_all_region[0][i], 200)\n",
    "print('='*79)"
   ]
  },
  {
   "cell_type": "markdown",
   "metadata": {},
   "source": [
    "<div class=\"alert alert-block alert-warning\">\n",
    "<b>V2 Изменения:</b> Исправлена функция\n",
    "</div>"
   ]
  },
  {
   "cell_type": "markdown",
   "metadata": {},
   "source": [
    "Здесь видно, что первый регион оказался прибыльным по сравнению остальных. Самый низкий показатель по прибыли оказался второй регион"
   ]
  },
  {
   "cell_type": "markdown",
   "metadata": {},
   "source": [
    "## 5. Посчитайте риски и прибыль для каждого региона"
   ]
  },
  {
   "cell_type": "markdown",
   "metadata": {},
   "source": [
    "### 5.1. Применим технику Bootstrap с 1000 выборок, чтобы найти распределение прибыли"
   ]
  },
  {
   "cell_type": "markdown",
   "metadata": {},
   "source": [
    " ### 5.2. И найдем среднюю прибыль, 95%-й доверительный интервал и риск убытков. Убыток — это отрицательная прибыль"
   ]
  },
  {
   "cell_type": "code",
   "execution_count": null,
   "metadata": {},
   "outputs": [],
   "source": [
    "# Теперь дублируем выше функцию, которая выполняет примерно аналогично, \n",
    "# но будет возвращать значения, т.к. предыдующая функия ничего не возвращает\n",
    "\n",
    "def profit_for_bootstrap(target, probabilities, count):\n",
    "    # Отсортируем вероятность для удобства\n",
    "    probs_sorted = pd.Series(probabilities, index=target.index).sort_values(ascending=False)\n",
    "    # Чтобы выбрать ответы, возьмем их индексы\n",
    "    selected = target[probs_sorted.index][:count].sum()\n",
    "\n",
    "    profit_for_received_volume_of_raw_materials = (selected * INCOME) - BUDGET\n",
    "\n",
    "    return profit_for_received_volume_of_raw_materials"
   ]
  },
  {
   "cell_type": "code",
   "execution_count": null,
   "metadata": {},
   "outputs": [],
   "source": [
    "# Квантиль убытки\n",
    "lower = []\n",
    "# Квантиль прибыли\n",
    "upper = []\n",
    "negative_count_region = []\n",
    "values_region = []\n",
    "\n",
    "for j in range(0, 3):\n",
    "    # Сохраним значения 99%-квантилей в переменной values\n",
    "    values = []\n",
    "    \n",
    "    state = np.random.RandomState(12345)\n",
    "\n",
    "    for i in range(1000):\n",
    "        # Чтобы bootstrap работал, нужно работать только с Series, поэтому преобразуем\n",
    "        best_predict_series = pd.Series(best_predict_for_all_model_averange_for_all_region[0][j], index=target_valid[j].index)\n",
    "        subsample = best_predict_series.sample(n=500, replace=True, random_state=state)\n",
    "        values.append(profit_for_bootstrap(subsample, best_predict_series, 200))\n",
    "\n",
    "    \n",
    "    lower.append(pd.Series(values).quantile(PROBABILITY_OF_LOSSES))\n",
    "    upper.append(pd.Series(values).quantile(1 - PROBABILITY_OF_LOSSES))\n",
    "\n",
    "\n",
    "    # Расччитаем убытки\n",
    "    negative_count_region.append((pd.Series(values) < 0).mean() * 100)\n",
    "    \n",
    "    # Сохраняем это значение для средней выручки региона\n",
    "    values_region.append(values)"
   ]
  },
  {
   "cell_type": "markdown",
   "metadata": {},
   "source": [
    "\n",
    "<div class=\"alert alert-block alert-danger\">\n",
    "<b>Ошибка[2]:</b> Тебе в функцию прибыли нужно передавать 500 предсказаний, и 500 соответствующих таргетов, а ты вторым аргументом передаешь не совсем то, что нужно)\n",
    "\n",
    "</div>\n"
   ]
  },
  {
   "cell_type": "markdown",
   "metadata": {},
   "source": [
    "<div class=\"alert alert-block alert-info\">\n",
    "<b>Совет[2]: </b>\n",
    "    \n",
    "Риски можно лаконично считать в 1 строку: `(pd.Series(values) < 0).mean() * 100`\n",
    "</div>                                                              \n",
    "\n"
   ]
  },
  {
   "cell_type": "markdown",
   "metadata": {},
   "source": [
    "<div class=\"alert alert-block alert-warning\">\n",
    "<b>V3 Изменения:</b> А да, не заметил. Оптимизировал фрагмент кода, который считывает риск\n",
    "</div>"
   ]
  },
  {
   "cell_type": "code",
   "execution_count": null,
   "metadata": {},
   "outputs": [],
   "source": [
    "for i in range(0, 3):\n",
    "    print('='*79)\n",
    "    print('Регион №', i + 1)\n",
    "    print('Вероятность 95% прибыль в этом регионе:', round(lower[i] / 1_000_000, 2), ' - ', round(upper[i] / 1_000_000, 2), 'млн. рублей')\n",
    "    print(\"Средняя выручка млн. рублей:\", round(pd.Series(values_region[i]).mean() / 1_000_000, 2))\n",
    "    print('Вероятность убытки в этом регионе:', round(negative_count_region[i] / len(values), 4))\n",
    "print('='*79)"
   ]
  },
  {
   "cell_type": "markdown",
   "metadata": {},
   "source": [
    "### 5.3. Выводы: предложим регион для разработки скважин и обоснуем выбор"
   ]
  },
  {
   "cell_type": "markdown",
   "metadata": {},
   "source": [
    "Выше можно посмотреть, что первый регион имеет низкий процент убытки по сравнению остальных, а средняя выручка занимает второе место остальных. Если хотим большую выручку и не боимся потерпевать убытки, тогда рассмотрим второй регион"
   ]
  },
  {
   "cell_type": "markdown",
   "metadata": {},
   "source": [
    "<div class=\"alert alert-block alert-danger\">\n",
    "<b>Ошибка: </b>  Здесь нужно реализовать технику бутстрап:\n",
    "    \n",
    "1) У тебя 1000 итераций - на каждой итерации нужно сэмплировать 500 скважин, то есть поправить `frac` нужно\n",
    "    \n",
    "2) 500 значений таргетов и 500 предсказаний нужно будет передать в функцию прибыль (что бы по предсказаниям прошла сортировка, а прибыль посчиталась по таргетам)\n",
    "    \n",
    "3) Значение прибыли добавляем в список values (никакой квантиль здесь добавть не нужно)\n",
    "    \n",
    "4) После цикла считаем доверительный интервал - это 0.025 и 0.975 квантили, а не 0.05 и 0.95\n",
    "    \n",
    "5) Считаем  риск убытков - долю отрицательной прибыли, то есть какова доля отрицательных значений содержится в списке values\n",
    "</div>"
   ]
  },
  {
   "cell_type": "markdown",
   "metadata": {},
   "source": [
    "<div class=\"alert alert-block alert-warning\">\n",
    "\n",
    "<b> V1 Изменения:</b> Здесь я тут немного не понял, отсюда можно вычерпнуть с темы 3: \"Запуск новой функциональности\", урок \"Бутстреп для анализа A/B-теста\"?\n",
    "    \n",
    "</div>"
   ]
  },
  {
   "cell_type": "markdown",
   "metadata": {},
   "source": [
    "<div class=\"alert alert-block alert-warning\">\n",
    "<b> V2 Изменения:</b> Подправил bootstrap и добавлен вывод\n",
    "</div>\n"
   ]
  },
  {
   "cell_type": "markdown",
   "metadata": {},
   "source": [
    "## Чек-лист готовности проекта"
   ]
  },
  {
   "cell_type": "markdown",
   "metadata": {},
   "source": [
    "Поставьте 'x' в выполненных пунктах. Далее нажмите Shift+Enter."
   ]
  },
  {
   "cell_type": "markdown",
   "metadata": {},
   "source": [
    "- [x]  Jupyter Notebook открыт\n",
    "- [x]  Весь код выполняется без ошибок\n",
    "- [x]  Ячейки с кодом расположены в порядке исполнения\n",
    "- [x]  Выполнен шаг 1: данные подготовлены\n",
    "- [x]  Выполнен шаг 2: модели обучены и проверены\n",
    "    - [x]  Данные корректно разбиты на обучающую и валидационную выборки\n",
    "    - [x]  Модели обучены, предсказания сделаны\n",
    "    - [x]  Предсказания и правильные ответы на валидационной выборке сохранены\n",
    "    - [x]  На экране напечатаны результаты\n",
    "    - [x]  Сделаны выводы\n",
    "- [x]  Выполнен шаг 3: проведена подготовка к расчёту прибыли\n",
    "    - [x]  Для всех ключевых значений созданы константы Python\n",
    "    - [x]  Посчитано минимальное среднее количество продукта в месторождениях региона, достаточное для разработки\n",
    "    - [x]  По предыдущему пункту сделаны выводы\n",
    "    - [x]  Написана функция расчёта прибыли\n",
    "- [x]  Выполнен шаг 4: посчитаны риски и прибыль\n",
    "    - [x]  Проведена процедура *Bootstrap*\n",
    "    - [x]  Все параметры бутстрепа соответствуют условию\n",
    "    - [x]  Найдены все нужные величины\n",
    "    - [x]  Предложен регион для разработки месторождения\n",
    "    - [x]  Выбор региона обоснован"
   ]
  }
 ],
 "metadata": {
  "ExecuteTimeLog": [
   {
    "duration": 1941,
    "start_time": "2023-02-05T19:25:59.592Z"
   },
   {
    "duration": 1680,
    "start_time": "2023-02-05T19:26:05.437Z"
   },
   {
    "duration": 22,
    "start_time": "2023-02-05T19:26:45.416Z"
   },
   {
    "duration": 10,
    "start_time": "2023-02-05T19:26:52.833Z"
   },
   {
    "duration": 17,
    "start_time": "2023-02-05T19:26:58.216Z"
   },
   {
    "duration": 16,
    "start_time": "2023-02-05T19:27:00.325Z"
   },
   {
    "duration": 12,
    "start_time": "2023-02-05T19:27:04.733Z"
   },
   {
    "duration": 9,
    "start_time": "2023-02-05T19:27:06.151Z"
   },
   {
    "duration": 119,
    "start_time": "2023-02-05T19:27:18.859Z"
   },
   {
    "duration": 22,
    "start_time": "2023-02-05T19:27:24.120Z"
   },
   {
    "duration": 22,
    "start_time": "2023-02-05T19:27:33.519Z"
   },
   {
    "duration": 19,
    "start_time": "2023-02-05T19:27:38.914Z"
   },
   {
    "duration": 1605,
    "start_time": "2023-02-07T08:38:16.119Z"
   },
   {
    "duration": 1620,
    "start_time": "2023-02-07T08:38:17.726Z"
   },
   {
    "duration": 15,
    "start_time": "2023-02-07T08:38:19.348Z"
   },
   {
    "duration": 10,
    "start_time": "2023-02-07T08:38:19.365Z"
   },
   {
    "duration": 12,
    "start_time": "2023-02-07T08:38:19.378Z"
   },
   {
    "duration": 35,
    "start_time": "2023-02-07T08:38:19.392Z"
   },
   {
    "duration": 12,
    "start_time": "2023-02-07T08:38:19.429Z"
   },
   {
    "duration": 11,
    "start_time": "2023-02-07T08:38:19.444Z"
   },
   {
    "duration": 13,
    "start_time": "2023-02-07T08:38:23.428Z"
   },
   {
    "duration": 3,
    "start_time": "2023-02-07T08:38:28.548Z"
   },
   {
    "duration": 3,
    "start_time": "2023-02-07T08:38:33.022Z"
   },
   {
    "duration": 4,
    "start_time": "2023-02-07T08:38:40.462Z"
   },
   {
    "duration": 14,
    "start_time": "2023-02-07T08:38:46.077Z"
   },
   {
    "duration": 258,
    "start_time": "2023-02-07T08:44:11.268Z"
   },
   {
    "duration": 5,
    "start_time": "2023-02-07T08:44:23.368Z"
   },
   {
    "duration": 16,
    "start_time": "2023-02-07T08:44:28.067Z"
   },
   {
    "duration": 3,
    "start_time": "2023-02-07T08:44:42.160Z"
   },
   {
    "duration": 9,
    "start_time": "2023-02-07T08:44:46.860Z"
   },
   {
    "duration": 10,
    "start_time": "2023-02-07T08:45:16.613Z"
   },
   {
    "duration": 2,
    "start_time": "2023-02-07T08:45:19.670Z"
   },
   {
    "duration": 3072,
    "start_time": "2023-02-07T08:46:05.535Z"
   },
   {
    "duration": 150584,
    "start_time": "2023-02-07T08:46:25.542Z"
   },
   {
    "duration": 3,
    "start_time": "2023-02-07T08:51:58.460Z"
   },
   {
    "duration": 4,
    "start_time": "2023-02-07T08:52:03.239Z"
   },
   {
    "duration": 4,
    "start_time": "2023-02-07T08:53:28.941Z"
   },
   {
    "duration": 3,
    "start_time": "2023-02-07T08:54:08.863Z"
   },
   {
    "duration": 4,
    "start_time": "2023-02-07T09:01:47.365Z"
   },
   {
    "duration": 14,
    "start_time": "2023-02-07T09:01:50.847Z"
   },
   {
    "duration": 12,
    "start_time": "2023-02-07T09:01:53.916Z"
   },
   {
    "duration": 10,
    "start_time": "2023-02-07T09:04:42.242Z"
   },
   {
    "duration": 14,
    "start_time": "2023-02-07T09:04:51.115Z"
   },
   {
    "duration": 11,
    "start_time": "2023-02-07T09:04:53.554Z"
   },
   {
    "duration": 13,
    "start_time": "2023-02-07T09:05:13.307Z"
   },
   {
    "duration": 3,
    "start_time": "2023-02-07T09:11:12.026Z"
   },
   {
    "duration": 20,
    "start_time": "2023-02-07T09:11:43.513Z"
   },
   {
    "duration": 14,
    "start_time": "2023-02-07T09:11:57.727Z"
   },
   {
    "duration": 9,
    "start_time": "2023-02-07T09:12:00.523Z"
   },
   {
    "duration": 3,
    "start_time": "2023-02-07T09:12:03.219Z"
   },
   {
    "duration": 32,
    "start_time": "2023-02-07T09:13:28.669Z"
   },
   {
    "duration": 2,
    "start_time": "2023-02-07T09:19:30.257Z"
   },
   {
    "duration": 2,
    "start_time": "2023-02-07T09:19:31.076Z"
   },
   {
    "duration": 11,
    "start_time": "2023-02-07T09:19:33.291Z"
   },
   {
    "duration": 28,
    "start_time": "2023-02-07T09:19:34.075Z"
   },
   {
    "duration": 53,
    "start_time": "2023-02-07T09:20:38.173Z"
   },
   {
    "duration": 100,
    "start_time": "2023-02-07T09:20:49.022Z"
   },
   {
    "duration": 299,
    "start_time": "2023-02-07T09:20:59.427Z"
   },
   {
    "duration": 157,
    "start_time": "2023-02-07T09:21:14.668Z"
   },
   {
    "duration": 139,
    "start_time": "2023-02-07T09:22:05.389Z"
   },
   {
    "duration": 168,
    "start_time": "2023-02-07T09:22:22.559Z"
   },
   {
    "duration": 3,
    "start_time": "2023-02-07T09:23:10.518Z"
   },
   {
    "duration": 4,
    "start_time": "2023-02-07T09:23:15.910Z"
   },
   {
    "duration": 4,
    "start_time": "2023-02-07T09:23:23.248Z"
   },
   {
    "duration": 429,
    "start_time": "2023-02-07T09:23:23.254Z"
   },
   {
    "duration": 11,
    "start_time": "2023-02-07T09:23:23.685Z"
   },
   {
    "duration": 24,
    "start_time": "2023-02-07T09:23:23.698Z"
   },
   {
    "duration": 10,
    "start_time": "2023-02-07T09:23:23.725Z"
   },
   {
    "duration": 13,
    "start_time": "2023-02-07T09:23:23.737Z"
   },
   {
    "duration": 10,
    "start_time": "2023-02-07T09:23:23.751Z"
   },
   {
    "duration": 14,
    "start_time": "2023-02-07T09:23:23.763Z"
   },
   {
    "duration": 42,
    "start_time": "2023-02-07T09:23:23.779Z"
   },
   {
    "duration": 24,
    "start_time": "2023-02-07T09:23:23.823Z"
   },
   {
    "duration": 6,
    "start_time": "2023-02-07T09:23:23.849Z"
   },
   {
    "duration": 21,
    "start_time": "2023-02-07T09:23:23.856Z"
   },
   {
    "duration": 16,
    "start_time": "2023-02-07T09:23:23.879Z"
   },
   {
    "duration": 27,
    "start_time": "2023-02-07T09:23:23.897Z"
   },
   {
    "duration": 200,
    "start_time": "2023-02-07T09:23:23.926Z"
   },
   {
    "duration": 3,
    "start_time": "2023-02-07T09:23:27.710Z"
   },
   {
    "duration": 3,
    "start_time": "2023-02-07T09:23:33.486Z"
   },
   {
    "duration": 4,
    "start_time": "2023-02-07T09:23:34.262Z"
   },
   {
    "duration": 4,
    "start_time": "2023-02-07T09:23:49.633Z"
   },
   {
    "duration": 440,
    "start_time": "2023-02-07T09:23:49.640Z"
   },
   {
    "duration": 10,
    "start_time": "2023-02-07T09:23:50.082Z"
   },
   {
    "duration": 11,
    "start_time": "2023-02-07T09:23:50.094Z"
   },
   {
    "duration": 10,
    "start_time": "2023-02-07T09:23:50.122Z"
   },
   {
    "duration": 13,
    "start_time": "2023-02-07T09:23:50.134Z"
   },
   {
    "duration": 10,
    "start_time": "2023-02-07T09:23:50.149Z"
   },
   {
    "duration": 10,
    "start_time": "2023-02-07T09:23:50.160Z"
   },
   {
    "duration": 11,
    "start_time": "2023-02-07T09:23:50.172Z"
   },
   {
    "duration": 41,
    "start_time": "2023-02-07T09:23:50.185Z"
   },
   {
    "duration": 5,
    "start_time": "2023-02-07T09:23:50.228Z"
   },
   {
    "duration": 5,
    "start_time": "2023-02-07T09:23:50.235Z"
   },
   {
    "duration": 10,
    "start_time": "2023-02-07T09:23:50.242Z"
   },
   {
    "duration": 24,
    "start_time": "2023-02-07T09:23:50.254Z"
   },
   {
    "duration": 246,
    "start_time": "2023-02-07T09:23:50.280Z"
   },
   {
    "duration": 4,
    "start_time": "2023-02-07T09:23:52.533Z"
   },
   {
    "duration": 4,
    "start_time": "2023-02-07T09:23:53.542Z"
   },
   {
    "duration": 5,
    "start_time": "2023-02-07T09:24:01.377Z"
   },
   {
    "duration": 468,
    "start_time": "2023-02-07T09:24:01.385Z"
   },
   {
    "duration": 10,
    "start_time": "2023-02-07T09:24:01.855Z"
   },
   {
    "duration": 31,
    "start_time": "2023-02-07T09:24:01.866Z"
   },
   {
    "duration": 11,
    "start_time": "2023-02-07T09:24:01.900Z"
   },
   {
    "duration": 28,
    "start_time": "2023-02-07T09:24:01.913Z"
   },
   {
    "duration": 11,
    "start_time": "2023-02-07T09:24:01.943Z"
   },
   {
    "duration": 16,
    "start_time": "2023-02-07T09:24:01.955Z"
   },
   {
    "duration": 14,
    "start_time": "2023-02-07T09:24:01.973Z"
   },
   {
    "duration": 28,
    "start_time": "2023-02-07T09:24:01.989Z"
   },
   {
    "duration": 7,
    "start_time": "2023-02-07T09:24:02.018Z"
   },
   {
    "duration": 11,
    "start_time": "2023-02-07T09:24:02.026Z"
   },
   {
    "duration": 13,
    "start_time": "2023-02-07T09:24:02.039Z"
   },
   {
    "duration": 27,
    "start_time": "2023-02-07T09:24:02.054Z"
   },
   {
    "duration": 239,
    "start_time": "2023-02-07T09:24:02.083Z"
   },
   {
    "duration": 93,
    "start_time": "2023-02-07T09:24:02.328Z"
   },
   {
    "duration": 5,
    "start_time": "2023-02-07T09:24:04.399Z"
   },
   {
    "duration": 4,
    "start_time": "2023-02-07T09:24:27.523Z"
   },
   {
    "duration": 428,
    "start_time": "2023-02-07T09:24:27.529Z"
   },
   {
    "duration": 9,
    "start_time": "2023-02-07T09:24:27.959Z"
   },
   {
    "duration": 12,
    "start_time": "2023-02-07T09:24:27.970Z"
   },
   {
    "duration": 11,
    "start_time": "2023-02-07T09:24:27.984Z"
   },
   {
    "duration": 31,
    "start_time": "2023-02-07T09:24:27.997Z"
   },
   {
    "duration": 12,
    "start_time": "2023-02-07T09:24:28.031Z"
   },
   {
    "duration": 12,
    "start_time": "2023-02-07T09:24:28.044Z"
   },
   {
    "duration": 16,
    "start_time": "2023-02-07T09:24:28.058Z"
   },
   {
    "duration": 11,
    "start_time": "2023-02-07T09:24:28.076Z"
   },
   {
    "duration": 4,
    "start_time": "2023-02-07T09:24:28.089Z"
   },
   {
    "duration": 14,
    "start_time": "2023-02-07T09:24:28.121Z"
   },
   {
    "duration": 15,
    "start_time": "2023-02-07T09:24:28.137Z"
   },
   {
    "duration": 27,
    "start_time": "2023-02-07T09:24:28.154Z"
   },
   {
    "duration": 244,
    "start_time": "2023-02-07T09:24:28.183Z"
   },
   {
    "duration": 3,
    "start_time": "2023-02-07T09:24:32.470Z"
   },
   {
    "duration": 4,
    "start_time": "2023-02-07T09:24:33.343Z"
   },
   {
    "duration": 2,
    "start_time": "2023-02-07T09:24:35.504Z"
   },
   {
    "duration": 3,
    "start_time": "2023-02-07T09:24:36.232Z"
   },
   {
    "duration": 5,
    "start_time": "2023-02-07T09:25:16.179Z"
   },
   {
    "duration": 452,
    "start_time": "2023-02-07T09:25:16.185Z"
   },
   {
    "duration": 9,
    "start_time": "2023-02-07T09:25:16.639Z"
   },
   {
    "duration": 28,
    "start_time": "2023-02-07T09:25:16.650Z"
   },
   {
    "duration": 23,
    "start_time": "2023-02-07T09:25:16.681Z"
   },
   {
    "duration": 31,
    "start_time": "2023-02-07T09:25:16.706Z"
   },
   {
    "duration": 20,
    "start_time": "2023-02-07T09:25:16.739Z"
   },
   {
    "duration": 29,
    "start_time": "2023-02-07T09:25:16.761Z"
   },
   {
    "duration": 12,
    "start_time": "2023-02-07T09:25:16.792Z"
   },
   {
    "duration": 44,
    "start_time": "2023-02-07T09:25:16.805Z"
   },
   {
    "duration": 27,
    "start_time": "2023-02-07T09:25:16.851Z"
   },
   {
    "duration": 25,
    "start_time": "2023-02-07T09:25:16.880Z"
   },
   {
    "duration": 25,
    "start_time": "2023-02-07T09:25:16.907Z"
   },
   {
    "duration": 37,
    "start_time": "2023-02-07T09:25:16.935Z"
   },
   {
    "duration": 248,
    "start_time": "2023-02-07T09:25:16.974Z"
   },
   {
    "duration": 6,
    "start_time": "2023-02-07T09:25:17.224Z"
   },
   {
    "duration": 22,
    "start_time": "2023-02-07T09:25:17.321Z"
   },
   {
    "duration": 4,
    "start_time": "2023-02-07T09:25:18.855Z"
   },
   {
    "duration": 71,
    "start_time": "2023-02-07T09:30:48.040Z"
   },
   {
    "duration": 9656,
    "start_time": "2023-02-07T09:34:08.378Z"
   },
   {
    "duration": 9516,
    "start_time": "2023-02-07T09:35:02.027Z"
   },
   {
    "duration": 9738,
    "start_time": "2023-02-07T09:35:44.438Z"
   },
   {
    "duration": 9589,
    "start_time": "2023-02-07T09:35:57.100Z"
   },
   {
    "duration": 9753,
    "start_time": "2023-02-07T09:36:15.596Z"
   },
   {
    "duration": 9622,
    "start_time": "2023-02-07T09:36:26.276Z"
   },
   {
    "duration": 9168,
    "start_time": "2023-02-07T09:37:00.364Z"
   },
   {
    "duration": 9119,
    "start_time": "2023-02-07T09:37:11.957Z"
   },
   {
    "duration": 9584,
    "start_time": "2023-02-07T09:38:06.952Z"
   },
   {
    "duration": 3,
    "start_time": "2023-02-07T09:38:40.047Z"
   },
   {
    "duration": 5,
    "start_time": "2023-02-07T09:38:45.742Z"
   },
   {
    "duration": 4,
    "start_time": "2023-02-07T09:39:00.504Z"
   },
   {
    "duration": 4,
    "start_time": "2023-02-07T09:39:07.610Z"
   },
   {
    "duration": 474,
    "start_time": "2023-02-07T09:39:07.617Z"
   },
   {
    "duration": 10,
    "start_time": "2023-02-07T09:39:08.093Z"
   },
   {
    "duration": 22,
    "start_time": "2023-02-07T09:39:08.105Z"
   },
   {
    "duration": 9,
    "start_time": "2023-02-07T09:39:08.130Z"
   },
   {
    "duration": 14,
    "start_time": "2023-02-07T09:39:08.141Z"
   },
   {
    "duration": 11,
    "start_time": "2023-02-07T09:39:08.157Z"
   },
   {
    "duration": 13,
    "start_time": "2023-02-07T09:39:08.170Z"
   },
   {
    "duration": 47,
    "start_time": "2023-02-07T09:39:08.185Z"
   },
   {
    "duration": 4,
    "start_time": "2023-02-07T09:39:08.235Z"
   },
   {
    "duration": 8,
    "start_time": "2023-02-07T09:39:08.241Z"
   },
   {
    "duration": 6,
    "start_time": "2023-02-07T09:39:08.251Z"
   },
   {
    "duration": 13,
    "start_time": "2023-02-07T09:39:08.259Z"
   },
   {
    "duration": 53,
    "start_time": "2023-02-07T09:39:08.275Z"
   },
   {
    "duration": 199,
    "start_time": "2023-02-07T09:39:08.331Z"
   },
   {
    "duration": 4,
    "start_time": "2023-02-07T09:39:08.621Z"
   },
   {
    "duration": 9446,
    "start_time": "2023-02-07T09:39:08.627Z"
   },
   {
    "duration": 3,
    "start_time": "2023-02-07T09:39:18.075Z"
   },
   {
    "duration": 4,
    "start_time": "2023-02-07T09:39:23.375Z"
   },
   {
    "duration": 3,
    "start_time": "2023-02-07T09:39:42.777Z"
   },
   {
    "duration": 4,
    "start_time": "2023-02-07T09:39:49.344Z"
   },
   {
    "duration": 5,
    "start_time": "2023-02-07T09:40:45.965Z"
   },
   {
    "duration": 451,
    "start_time": "2023-02-07T09:40:45.972Z"
   },
   {
    "duration": 9,
    "start_time": "2023-02-07T09:40:46.425Z"
   },
   {
    "duration": 13,
    "start_time": "2023-02-07T09:40:46.436Z"
   },
   {
    "duration": 13,
    "start_time": "2023-02-07T09:40:46.451Z"
   },
   {
    "duration": 15,
    "start_time": "2023-02-07T09:40:46.466Z"
   },
   {
    "duration": 11,
    "start_time": "2023-02-07T09:40:46.483Z"
   },
   {
    "duration": 22,
    "start_time": "2023-02-07T09:40:46.521Z"
   },
   {
    "duration": 16,
    "start_time": "2023-02-07T09:40:46.545Z"
   },
   {
    "duration": 5,
    "start_time": "2023-02-07T09:40:46.563Z"
   },
   {
    "duration": 14,
    "start_time": "2023-02-07T09:40:46.570Z"
   },
   {
    "duration": 6,
    "start_time": "2023-02-07T09:40:46.586Z"
   },
   {
    "duration": 12,
    "start_time": "2023-02-07T09:40:46.594Z"
   },
   {
    "duration": 27,
    "start_time": "2023-02-07T09:40:46.609Z"
   },
   {
    "duration": 187,
    "start_time": "2023-02-07T09:40:46.638Z"
   },
   {
    "duration": 95,
    "start_time": "2023-02-07T09:40:46.828Z"
   },
   {
    "duration": 8,
    "start_time": "2023-02-07T09:40:46.925Z"
   },
   {
    "duration": 9637,
    "start_time": "2023-02-07T09:40:46.935Z"
   },
   {
    "duration": 3,
    "start_time": "2023-02-07T09:40:56.574Z"
   },
   {
    "duration": 12,
    "start_time": "2023-02-07T09:40:56.579Z"
   },
   {
    "duration": 4,
    "start_time": "2023-02-07T09:41:00.593Z"
   },
   {
    "duration": 4,
    "start_time": "2023-02-07T09:41:03.313Z"
   },
   {
    "duration": 4,
    "start_time": "2023-02-07T09:41:09.145Z"
   },
   {
    "duration": 326,
    "start_time": "2023-02-07T09:43:04.748Z"
   },
   {
    "duration": 35757,
    "start_time": "2023-02-07T09:43:19.941Z"
   },
   {
    "duration": 1232,
    "start_time": "2023-02-07T21:21:03.448Z"
   },
   {
    "duration": 373,
    "start_time": "2023-02-07T21:21:04.682Z"
   },
   {
    "duration": 11,
    "start_time": "2023-02-07T21:21:05.057Z"
   },
   {
    "duration": 13,
    "start_time": "2023-02-07T21:21:05.070Z"
   },
   {
    "duration": 13,
    "start_time": "2023-02-07T21:21:05.085Z"
   },
   {
    "duration": 11,
    "start_time": "2023-02-07T21:21:05.099Z"
   },
   {
    "duration": 8,
    "start_time": "2023-02-07T21:21:05.112Z"
   },
   {
    "duration": 8,
    "start_time": "2023-02-07T21:21:05.137Z"
   },
   {
    "duration": 11,
    "start_time": "2023-02-07T21:21:05.146Z"
   },
   {
    "duration": 5,
    "start_time": "2023-02-07T21:21:05.159Z"
   },
   {
    "duration": 5,
    "start_time": "2023-02-07T21:21:05.166Z"
   },
   {
    "duration": 5,
    "start_time": "2023-02-07T21:21:05.172Z"
   },
   {
    "duration": 11,
    "start_time": "2023-02-07T21:21:05.178Z"
   },
   {
    "duration": 50,
    "start_time": "2023-02-07T21:21:05.192Z"
   },
   {
    "duration": 201,
    "start_time": "2023-02-07T21:21:05.244Z"
   },
   {
    "duration": 3,
    "start_time": "2023-02-07T21:21:05.446Z"
   },
   {
    "duration": 100,
    "start_time": "2023-02-07T21:21:05.537Z"
   },
   {
    "duration": 24,
    "start_time": "2023-02-07T21:21:05.639Z"
   },
   {
    "duration": 7904,
    "start_time": "2023-02-07T21:21:05.666Z"
   },
   {
    "duration": 2,
    "start_time": "2023-02-07T21:21:13.572Z"
   },
   {
    "duration": 8,
    "start_time": "2023-02-07T21:21:13.576Z"
   },
   {
    "duration": 8,
    "start_time": "2023-02-07T21:21:13.585Z"
   },
   {
    "duration": 23727,
    "start_time": "2023-02-07T21:21:13.595Z"
   },
   {
    "duration": 3,
    "start_time": "2023-02-07T21:21:37.324Z"
   },
   {
    "duration": 18,
    "start_time": "2023-02-07T21:21:37.328Z"
   },
   {
    "duration": 7,
    "start_time": "2023-02-07T21:21:37.348Z"
   },
   {
    "duration": 10,
    "start_time": "2023-02-07T21:21:37.357Z"
   },
   {
    "duration": 2,
    "start_time": "2023-02-07T21:21:37.369Z"
   },
   {
    "duration": 8,
    "start_time": "2023-02-07T21:21:37.373Z"
   },
   {
    "duration": 5,
    "start_time": "2023-02-07T21:21:37.382Z"
   },
   {
    "duration": 9,
    "start_time": "2023-02-07T21:21:37.388Z"
   },
   {
    "duration": 15,
    "start_time": "2023-02-07T21:21:37.398Z"
   },
   {
    "duration": 16,
    "start_time": "2023-02-07T21:21:37.437Z"
   },
   {
    "duration": 47,
    "start_time": "2023-02-07T21:21:37.454Z"
   },
   {
    "duration": 4,
    "start_time": "2023-02-07T21:21:37.503Z"
   },
   {
    "duration": 30,
    "start_time": "2023-02-07T21:21:37.508Z"
   },
   {
    "duration": 4,
    "start_time": "2023-02-07T21:21:37.540Z"
   },
   {
    "duration": 12,
    "start_time": "2023-02-07T21:21:37.546Z"
   },
   {
    "duration": 8,
    "start_time": "2023-02-07T21:21:37.560Z"
   },
   {
    "duration": 1172,
    "start_time": "2023-02-07T21:21:37.569Z"
   },
   {
    "duration": 12,
    "start_time": "2023-02-07T21:30:14.848Z"
   },
   {
    "duration": 6,
    "start_time": "2023-02-07T21:34:22.128Z"
   },
   {
    "duration": 5,
    "start_time": "2023-02-07T21:34:25.476Z"
   },
   {
    "duration": 4,
    "start_time": "2023-02-07T21:34:30.318Z"
   },
   {
    "duration": 4,
    "start_time": "2023-02-07T21:34:33.708Z"
   },
   {
    "duration": 13674,
    "start_time": "2023-02-08T18:12:34.754Z"
   },
   {
    "duration": 1864,
    "start_time": "2023-02-08T18:12:48.430Z"
   },
   {
    "duration": 130,
    "start_time": "2023-02-08T18:13:15.981Z"
   },
   {
    "duration": 158,
    "start_time": "2023-02-08T18:13:44.130Z"
   },
   {
    "duration": 350,
    "start_time": "2023-02-08T18:14:05.818Z"
   },
   {
    "duration": 1834,
    "start_time": "2023-02-08T18:14:06.170Z"
   },
   {
    "duration": 14,
    "start_time": "2023-02-08T18:14:08.006Z"
   },
   {
    "duration": 42,
    "start_time": "2023-02-08T18:14:08.021Z"
   },
   {
    "duration": 22,
    "start_time": "2023-02-08T18:14:08.066Z"
   },
   {
    "duration": 33,
    "start_time": "2023-02-08T18:14:08.090Z"
   },
   {
    "duration": 9,
    "start_time": "2023-02-08T18:14:08.125Z"
   },
   {
    "duration": 19,
    "start_time": "2023-02-08T18:14:08.135Z"
   },
   {
    "duration": 2111,
    "start_time": "2023-02-08T18:14:08.156Z"
   },
   {
    "duration": 2,
    "start_time": "2023-02-08T18:14:10.269Z"
   },
   {
    "duration": 8585,
    "start_time": "2023-02-08T18:14:15.865Z"
   },
   {
    "duration": 8341,
    "start_time": "2023-02-08T18:14:45.962Z"
   },
   {
    "duration": 8959,
    "start_time": "2023-02-08T18:14:54.305Z"
   },
   {
    "duration": 9,
    "start_time": "2023-02-08T18:16:40.635Z"
   },
   {
    "duration": 3,
    "start_time": "2023-02-08T18:16:41.963Z"
   },
   {
    "duration": 3,
    "start_time": "2023-02-08T18:16:42.451Z"
   },
   {
    "duration": 3,
    "start_time": "2023-02-08T18:16:49.251Z"
   },
   {
    "duration": 8,
    "start_time": "2023-02-08T18:16:50.532Z"
   },
   {
    "duration": 30,
    "start_time": "2023-02-08T18:16:51.464Z"
   },
   {
    "duration": 205,
    "start_time": "2023-02-08T18:16:52.390Z"
   },
   {
    "duration": 3,
    "start_time": "2023-02-08T18:17:02.325Z"
   },
   {
    "duration": 3,
    "start_time": "2023-02-08T18:17:03.301Z"
   },
   {
    "duration": 4,
    "start_time": "2023-02-08T18:17:04.053Z"
   },
   {
    "duration": 3,
    "start_time": "2023-02-08T18:18:51.191Z"
   },
   {
    "duration": 4,
    "start_time": "2023-02-08T18:18:54.550Z"
   },
   {
    "duration": 3,
    "start_time": "2023-02-08T18:18:57.662Z"
   },
   {
    "duration": 4,
    "start_time": "2023-02-08T18:19:01.678Z"
   },
   {
    "duration": 4,
    "start_time": "2023-02-08T18:19:05.753Z"
   },
   {
    "duration": 30,
    "start_time": "2023-02-08T18:19:08.325Z"
   },
   {
    "duration": 3,
    "start_time": "2023-02-08T18:19:11.863Z"
   },
   {
    "duration": 4,
    "start_time": "2023-02-08T18:19:20.865Z"
   },
   {
    "duration": 4,
    "start_time": "2023-02-08T18:19:22.951Z"
   },
   {
    "duration": 4,
    "start_time": "2023-02-08T18:19:24.754Z"
   },
   {
    "duration": 3,
    "start_time": "2023-02-08T18:19:28.111Z"
   },
   {
    "duration": 3,
    "start_time": "2023-02-08T18:19:46.650Z"
   },
   {
    "duration": 2,
    "start_time": "2023-02-08T18:19:50.729Z"
   },
   {
    "duration": 18,
    "start_time": "2023-02-08T18:20:42.097Z"
   },
   {
    "duration": 16,
    "start_time": "2023-02-08T18:21:12.865Z"
   },
   {
    "duration": 17,
    "start_time": "2023-02-08T18:21:36.754Z"
   },
   {
    "duration": 19,
    "start_time": "2023-02-08T18:21:53.507Z"
   },
   {
    "duration": 6,
    "start_time": "2023-02-08T18:22:00.443Z"
   },
   {
    "duration": 3,
    "start_time": "2023-02-08T18:22:13.316Z"
   },
   {
    "duration": 3,
    "start_time": "2023-02-08T18:22:15.825Z"
   },
   {
    "duration": 6,
    "start_time": "2023-02-08T18:22:47.675Z"
   },
   {
    "duration": 10,
    "start_time": "2023-02-08T18:22:52.571Z"
   },
   {
    "duration": 3,
    "start_time": "2023-02-08T18:24:32.350Z"
   },
   {
    "duration": 8,
    "start_time": "2023-02-08T18:25:11.817Z"
   },
   {
    "duration": 4,
    "start_time": "2023-02-08T18:25:30.680Z"
   },
   {
    "duration": 4,
    "start_time": "2023-02-08T18:25:38.695Z"
   },
   {
    "duration": 13,
    "start_time": "2023-02-08T18:25:45.852Z"
   },
   {
    "duration": 12,
    "start_time": "2023-02-08T18:25:53.838Z"
   },
   {
    "duration": 18,
    "start_time": "2023-02-08T18:26:08.345Z"
   },
   {
    "duration": 55,
    "start_time": "2023-02-08T18:26:20.800Z"
   },
   {
    "duration": 5,
    "start_time": "2023-02-08T18:26:56.218Z"
   },
   {
    "duration": 4,
    "start_time": "2023-02-08T18:27:00.583Z"
   },
   {
    "duration": 16,
    "start_time": "2023-02-08T18:27:02.289Z"
   },
   {
    "duration": 4,
    "start_time": "2023-02-08T18:27:14.623Z"
   },
   {
    "duration": 13,
    "start_time": "2023-02-08T18:27:58.290Z"
   },
   {
    "duration": 4,
    "start_time": "2023-02-08T18:28:03.821Z"
   },
   {
    "duration": 20,
    "start_time": "2023-02-08T18:28:04.755Z"
   },
   {
    "duration": 3,
    "start_time": "2023-02-08T18:28:22.954Z"
   },
   {
    "duration": 6,
    "start_time": "2023-02-08T18:28:24.490Z"
   },
   {
    "duration": 44,
    "start_time": "2023-02-08T18:30:45.462Z"
   },
   {
    "duration": 3,
    "start_time": "2023-02-08T18:31:30.694Z"
   },
   {
    "duration": 49,
    "start_time": "2023-02-08T18:43:49.625Z"
   },
   {
    "duration": 54889,
    "start_time": "2023-02-08T18:43:56.877Z"
   },
   {
    "duration": 13,
    "start_time": "2023-02-08T18:44:54.605Z"
   },
   {
    "duration": 1311,
    "start_time": "2023-02-08T19:43:51.566Z"
   },
   {
    "duration": 399,
    "start_time": "2023-02-08T19:43:52.879Z"
   },
   {
    "duration": 16,
    "start_time": "2023-02-08T19:43:53.280Z"
   },
   {
    "duration": 25,
    "start_time": "2023-02-08T19:43:53.298Z"
   },
   {
    "duration": 20,
    "start_time": "2023-02-08T19:43:53.324Z"
   },
   {
    "duration": 28,
    "start_time": "2023-02-08T19:43:53.345Z"
   },
   {
    "duration": 9,
    "start_time": "2023-02-08T19:43:53.375Z"
   },
   {
    "duration": 10,
    "start_time": "2023-02-08T19:43:53.385Z"
   },
   {
    "duration": 2085,
    "start_time": "2023-02-08T19:43:53.396Z"
   },
   {
    "duration": 663,
    "start_time": "2023-02-08T19:43:55.485Z"
   },
   {
    "duration": 8780,
    "start_time": "2023-02-08T19:43:56.150Z"
   },
   {
    "duration": 8130,
    "start_time": "2023-02-08T19:44:04.932Z"
   },
   {
    "duration": 8439,
    "start_time": "2023-02-08T19:44:13.064Z"
   },
   {
    "duration": 9,
    "start_time": "2023-02-08T19:44:21.505Z"
   },
   {
    "duration": 9,
    "start_time": "2023-02-08T19:44:21.515Z"
   },
   {
    "duration": 6,
    "start_time": "2023-02-08T19:44:21.525Z"
   },
   {
    "duration": 5,
    "start_time": "2023-02-08T19:44:21.533Z"
   },
   {
    "duration": 10,
    "start_time": "2023-02-08T19:44:21.539Z"
   },
   {
    "duration": 69,
    "start_time": "2023-02-08T19:44:21.551Z"
   },
   {
    "duration": 270,
    "start_time": "2023-02-08T19:44:21.622Z"
   },
   {
    "duration": 4,
    "start_time": "2023-02-08T19:44:21.894Z"
   },
   {
    "duration": 96,
    "start_time": "2023-02-08T19:44:21.900Z"
   },
   {
    "duration": 22,
    "start_time": "2023-02-08T19:44:21.998Z"
   },
   {
    "duration": 13,
    "start_time": "2023-02-08T19:44:22.022Z"
   },
   {
    "duration": 11,
    "start_time": "2023-02-08T19:44:22.036Z"
   },
   {
    "duration": 10,
    "start_time": "2023-02-08T19:44:22.049Z"
   },
   {
    "duration": 9,
    "start_time": "2023-02-08T19:44:22.061Z"
   },
   {
    "duration": 4,
    "start_time": "2023-02-08T19:44:22.073Z"
   },
   {
    "duration": 4,
    "start_time": "2023-02-08T19:44:22.079Z"
   },
   {
    "duration": 16,
    "start_time": "2023-02-08T19:44:22.085Z"
   },
   {
    "duration": 14,
    "start_time": "2023-02-08T19:44:22.103Z"
   },
   {
    "duration": 73,
    "start_time": "2023-02-08T19:44:22.119Z"
   },
   {
    "duration": 4,
    "start_time": "2023-02-08T19:44:22.194Z"
   },
   {
    "duration": 7,
    "start_time": "2023-02-08T19:44:22.200Z"
   },
   {
    "duration": 7,
    "start_time": "2023-02-08T19:44:22.209Z"
   },
   {
    "duration": 8,
    "start_time": "2023-02-08T19:44:22.217Z"
   },
   {
    "duration": 26,
    "start_time": "2023-02-08T19:44:22.227Z"
   },
   {
    "duration": 3,
    "start_time": "2023-02-08T19:44:22.255Z"
   },
   {
    "duration": 4129,
    "start_time": "2023-02-08T19:44:22.260Z"
   },
   {
    "duration": 10,
    "start_time": "2023-02-08T19:44:26.392Z"
   },
   {
    "duration": 4352,
    "start_time": "2023-02-08T19:45:46.396Z"
   },
   {
    "duration": 12,
    "start_time": "2023-02-08T19:45:53.660Z"
   },
   {
    "duration": 3006,
    "start_time": "2023-02-08T20:12:12.276Z"
   },
   {
    "duration": 583,
    "start_time": "2023-02-08T20:12:15.284Z"
   },
   {
    "duration": 14,
    "start_time": "2023-02-08T20:12:15.869Z"
   },
   {
    "duration": 12,
    "start_time": "2023-02-08T20:12:15.884Z"
   },
   {
    "duration": 11,
    "start_time": "2023-02-08T20:12:15.898Z"
   },
   {
    "duration": 15,
    "start_time": "2023-02-08T20:12:15.911Z"
   },
   {
    "duration": 9,
    "start_time": "2023-02-08T20:12:15.928Z"
   },
   {
    "duration": 29,
    "start_time": "2023-02-08T20:12:15.939Z"
   },
   {
    "duration": 15738,
    "start_time": "2023-02-08T20:12:15.969Z"
   },
   {
    "duration": 1082,
    "start_time": "2023-02-08T20:12:31.708Z"
   },
   {
    "duration": 14829,
    "start_time": "2023-02-08T20:12:32.792Z"
   },
   {
    "duration": 13845,
    "start_time": "2023-02-08T20:12:47.623Z"
   },
   {
    "duration": 14566,
    "start_time": "2023-02-08T20:13:01.470Z"
   },
   {
    "duration": 27,
    "start_time": "2023-02-08T20:13:16.040Z"
   },
   {
    "duration": 19,
    "start_time": "2023-02-08T20:13:16.069Z"
   },
   {
    "duration": 7,
    "start_time": "2023-02-08T20:13:16.090Z"
   },
   {
    "duration": 6,
    "start_time": "2023-02-08T20:13:16.099Z"
   },
   {
    "duration": 14,
    "start_time": "2023-02-08T20:13:16.107Z"
   },
   {
    "duration": 32,
    "start_time": "2023-02-08T20:13:16.123Z"
   },
   {
    "duration": 315,
    "start_time": "2023-02-08T20:13:16.157Z"
   },
   {
    "duration": 93,
    "start_time": "2023-02-08T20:13:16.475Z"
   },
   {
    "duration": 10,
    "start_time": "2023-02-08T20:13:16.570Z"
   },
   {
    "duration": 14,
    "start_time": "2023-02-08T20:13:16.581Z"
   },
   {
    "duration": 19,
    "start_time": "2023-02-08T20:13:16.596Z"
   },
   {
    "duration": 16,
    "start_time": "2023-02-08T20:13:16.617Z"
   },
   {
    "duration": 4,
    "start_time": "2023-02-08T20:13:16.634Z"
   },
   {
    "duration": 30,
    "start_time": "2023-02-08T20:13:16.640Z"
   },
   {
    "duration": 3,
    "start_time": "2023-02-08T20:13:16.672Z"
   },
   {
    "duration": 11,
    "start_time": "2023-02-08T20:13:16.677Z"
   },
   {
    "duration": 22,
    "start_time": "2023-02-08T20:13:16.689Z"
   },
   {
    "duration": 18,
    "start_time": "2023-02-08T20:13:16.713Z"
   },
   {
    "duration": 102,
    "start_time": "2023-02-08T20:13:16.733Z"
   },
   {
    "duration": 4,
    "start_time": "2023-02-08T20:13:16.836Z"
   },
   {
    "duration": 26,
    "start_time": "2023-02-08T20:13:16.842Z"
   },
   {
    "duration": 16,
    "start_time": "2023-02-08T20:13:16.869Z"
   },
   {
    "duration": 22,
    "start_time": "2023-02-08T20:13:16.887Z"
   },
   {
    "duration": 52,
    "start_time": "2023-02-08T20:13:16.910Z"
   },
   {
    "duration": 7,
    "start_time": "2023-02-08T20:13:16.964Z"
   },
   {
    "duration": 3792,
    "start_time": "2023-02-08T20:13:16.973Z"
   },
   {
    "duration": 10,
    "start_time": "2023-02-08T20:13:20.767Z"
   },
   {
    "duration": 81,
    "start_time": "2023-02-08T20:20:21.288Z"
   },
   {
    "duration": 7,
    "start_time": "2023-02-08T20:20:25.978Z"
   },
   {
    "duration": 6,
    "start_time": "2023-02-08T20:21:15.349Z"
   },
   {
    "duration": 16,
    "start_time": "2023-02-08T20:55:18.600Z"
   },
   {
    "duration": 4,
    "start_time": "2023-02-08T20:55:20.995Z"
   },
   {
    "duration": 438,
    "start_time": "2023-02-08T20:55:21.001Z"
   },
   {
    "duration": 11,
    "start_time": "2023-02-08T20:55:21.441Z"
   },
   {
    "duration": 9,
    "start_time": "2023-02-08T20:55:21.455Z"
   },
   {
    "duration": 31,
    "start_time": "2023-02-08T20:55:21.466Z"
   },
   {
    "duration": 11,
    "start_time": "2023-02-08T20:55:21.498Z"
   },
   {
    "duration": 8,
    "start_time": "2023-02-08T20:55:21.511Z"
   },
   {
    "duration": 8,
    "start_time": "2023-02-08T20:55:21.521Z"
   },
   {
    "duration": 3080,
    "start_time": "2023-02-08T20:55:21.531Z"
   },
   {
    "duration": 3,
    "start_time": "2023-02-08T20:55:24.614Z"
   },
   {
    "duration": 8713,
    "start_time": "2023-02-08T20:55:24.619Z"
   },
   {
    "duration": 8270,
    "start_time": "2023-02-08T20:55:33.333Z"
   },
   {
    "duration": 9904,
    "start_time": "2023-02-08T20:55:41.605Z"
   },
   {
    "duration": 7,
    "start_time": "2023-02-08T20:55:51.511Z"
   },
   {
    "duration": 17,
    "start_time": "2023-02-08T20:55:51.520Z"
   },
   {
    "duration": 7,
    "start_time": "2023-02-08T20:55:51.539Z"
   },
   {
    "duration": 6,
    "start_time": "2023-02-08T20:55:51.548Z"
   },
   {
    "duration": 50,
    "start_time": "2023-02-08T20:55:51.556Z"
   },
   {
    "duration": 39,
    "start_time": "2023-02-08T20:55:51.608Z"
   },
   {
    "duration": 150,
    "start_time": "2023-02-08T20:55:51.650Z"
   },
   {
    "duration": 92,
    "start_time": "2023-02-08T20:55:51.802Z"
   },
   {
    "duration": 105,
    "start_time": "2023-02-08T20:55:51.897Z"
   },
   {
    "duration": 20,
    "start_time": "2023-02-08T20:55:52.004Z"
   },
   {
    "duration": 6,
    "start_time": "2023-02-08T20:55:52.026Z"
   },
   {
    "duration": 16,
    "start_time": "2023-02-08T20:55:52.034Z"
   },
   {
    "duration": 4,
    "start_time": "2023-02-08T20:55:52.052Z"
   },
   {
    "duration": 41,
    "start_time": "2023-02-08T20:55:52.058Z"
   },
   {
    "duration": 4,
    "start_time": "2023-02-08T20:55:52.102Z"
   },
   {
    "duration": 22,
    "start_time": "2023-02-08T20:55:52.108Z"
   },
   {
    "duration": 17,
    "start_time": "2023-02-08T20:55:52.131Z"
   },
   {
    "duration": 49,
    "start_time": "2023-02-08T20:55:52.150Z"
   },
   {
    "duration": 54,
    "start_time": "2023-02-08T20:55:52.201Z"
   },
   {
    "duration": 4,
    "start_time": "2023-02-08T20:55:52.257Z"
   },
   {
    "duration": 7,
    "start_time": "2023-02-08T20:55:52.263Z"
   },
   {
    "duration": 23,
    "start_time": "2023-02-08T20:55:52.271Z"
   },
   {
    "duration": 7,
    "start_time": "2023-02-08T20:55:52.295Z"
   },
   {
    "duration": 32,
    "start_time": "2023-02-08T20:55:52.304Z"
   },
   {
    "duration": 4,
    "start_time": "2023-02-08T20:55:52.338Z"
   },
   {
    "duration": 4383,
    "start_time": "2023-02-08T20:56:14.584Z"
   },
   {
    "duration": 19,
    "start_time": "2023-02-08T20:56:22.063Z"
   },
   {
    "duration": 11,
    "start_time": "2023-02-08T20:56:34.969Z"
   },
   {
    "duration": 4429,
    "start_time": "2023-02-08T20:57:22.737Z"
   },
   {
    "duration": 19,
    "start_time": "2023-02-08T20:57:29.201Z"
   },
   {
    "duration": 11,
    "start_time": "2023-02-08T20:57:44.289Z"
   },
   {
    "duration": 4396,
    "start_time": "2023-02-08T20:58:31.523Z"
   },
   {
    "duration": 12,
    "start_time": "2023-02-08T20:58:37.325Z"
   },
   {
    "duration": 5017,
    "start_time": "2023-02-08T21:00:03.724Z"
   },
   {
    "duration": 9,
    "start_time": "2023-02-08T21:00:08.743Z"
   },
   {
    "duration": 4748,
    "start_time": "2023-02-08T21:00:18.868Z"
   },
   {
    "duration": 13,
    "start_time": "2023-02-08T21:00:25.996Z"
   },
   {
    "duration": 11,
    "start_time": "2023-02-08T21:00:47.531Z"
   },
   {
    "duration": 6,
    "start_time": "2023-02-08T21:01:40.728Z"
   },
   {
    "duration": 438,
    "start_time": "2023-02-08T21:01:40.736Z"
   },
   {
    "duration": 20,
    "start_time": "2023-02-08T21:01:41.176Z"
   },
   {
    "duration": 24,
    "start_time": "2023-02-08T21:01:41.198Z"
   },
   {
    "duration": 11,
    "start_time": "2023-02-08T21:01:41.224Z"
   },
   {
    "duration": 30,
    "start_time": "2023-02-08T21:01:41.237Z"
   },
   {
    "duration": 13,
    "start_time": "2023-02-08T21:01:41.269Z"
   },
   {
    "duration": 15,
    "start_time": "2023-02-08T21:01:41.284Z"
   },
   {
    "duration": 2377,
    "start_time": "2023-02-08T21:01:41.301Z"
   },
   {
    "duration": 3,
    "start_time": "2023-02-08T21:01:43.681Z"
   }
  ],
  "kernelspec": {
   "display_name": "Python 3 (ipykernel)",
   "language": "python",
   "name": "python3"
  },
  "language_info": {
   "codemirror_mode": {
    "name": "ipython",
    "version": 3
   },
   "file_extension": ".py",
   "mimetype": "text/x-python",
   "name": "python",
   "nbconvert_exporter": "python",
   "pygments_lexer": "ipython3",
   "version": "3.9.5"
  },
  "toc": {
   "base_numbering": 1,
   "nav_menu": {},
   "number_sections": true,
   "sideBar": true,
   "skip_h1_title": true,
   "title_cell": "Table of Contents",
   "title_sidebar": "Contents",
   "toc_cell": false,
   "toc_position": {},
   "toc_section_display": true,
   "toc_window_display": false
  },
  "vscode": {
   "interpreter": {
    "hash": "40bcb2e441a6d0af9e6f649dfe5ca0440eb431939f3ce0f6d45a172cb5590c37"
   }
  }
 },
 "nbformat": 4,
 "nbformat_minor": 2
}
