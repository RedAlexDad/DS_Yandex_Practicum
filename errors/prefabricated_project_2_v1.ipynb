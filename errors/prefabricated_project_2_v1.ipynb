{
 "cells": [
  {
   "cell_type": "markdown",
   "metadata": {
    "toc": true
   },
   "source": [
    "<h1>Содержание<span class=\"tocSkip\"></span></h1>\n",
    "<div class=\"toc\"><ul class=\"toc-item\"><li><span><a href=\"#Подготовка-данных\" data-toc-modified-id=\"Подготовка-данных-1\"><span class=\"toc-item-num\">1&nbsp;&nbsp;</span>Подготовка данных</a></span><ul class=\"toc-item\"><li><span><a href=\"#Введение-в-курс-дела\" data-toc-modified-id=\"Введение-в-курс-дела-1.1\"><span class=\"toc-item-num\">1.1&nbsp;&nbsp;</span>Введение в курс дела</a></span></li><li><span><a href=\"#Приступление-к-проекту.-Открываем-файлы-и-изучаем-их.\" data-toc-modified-id=\"Приступление-к-проекту.-Открываем-файлы-и-изучаем-их.-1.2\"><span class=\"toc-item-num\">1.2&nbsp;&nbsp;</span>Приступление к проекту. Открываем файлы и изучаем их.</a></span></li><li><span><a href=\"#Проверим,-что-эффективность-обогащения-рассчитана-правильно.-Вычислим-её-на-обучающей-выборке-для-признака-rougher.output.recovery.-Найдем-MAE-между-нашими-расчётами-и-значением-признака.-Опишим-выводы.\" data-toc-modified-id=\"Проверим,-что-эффективность-обогащения-рассчитана-правильно.-Вычислим-её-на-обучающей-выборке-для-признака-rougher.output.recovery.-Найдем-MAE-между-нашими-расчётами-и-значением-признака.-Опишим-выводы.-1.3\"><span class=\"toc-item-num\">1.3&nbsp;&nbsp;</span>Проверим, что эффективность обогащения рассчитана правильно. Вычислим её на обучающей выборке для признака <code>rougher.output.recovery</code>. Найдем MAE между нашими расчётами и значением признака. Опишим выводы.</a></span><ul class=\"toc-item\"><li><span><a href=\"#Проверим-на-расчет-эффективности-обогащения\" data-toc-modified-id=\"Проверим-на-расчет-эффективности-обогащения-1.3.1\"><span class=\"toc-item-num\">1.3.1&nbsp;&nbsp;</span>Проверим на расчет эффективности обогащения</a></span></li><li><span><a href=\"#Находим-MAE-между-нашими-расчетами-и-значением-признака\" data-toc-modified-id=\"Находим-MAE-между-нашими-расчетами-и-значением-признака-1.3.2\"><span class=\"toc-item-num\">1.3.2&nbsp;&nbsp;</span>Находим MAE между нашими расчетами и значением признака</a></span></li><li><span><a href=\"#Проанализируйте-признаки,-недоступные-в-тестовой-выборке.-Что-это-за-параметры?-К-какому-типу-относятся?\" data-toc-modified-id=\"Проанализируйте-признаки,-недоступные-в-тестовой-выборке.-Что-это-за-параметры?-К-какому-типу-относятся?-1.3.3\"><span class=\"toc-item-num\">1.3.3&nbsp;&nbsp;</span>Проанализируйте признаки, недоступные в тестовой выборке. Что это за параметры? К какому типу относятся?</a></span></li></ul></li><li><span><a href=\"#Предобработка-данных-уже-проведены,-пропуски-удалены,-дублирующие-значения-отсутствуют\" data-toc-modified-id=\"Предобработка-данных-уже-проведены,-пропуски-удалены,-дублирующие-значения-отсутствуют-1.4\"><span class=\"toc-item-num\">1.4&nbsp;&nbsp;</span>Предобработка данных уже проведены, пропуски удалены, дублирующие значения отсутствуют</a></span></li></ul></li><li><span><a href=\"#Анализ-данных\" data-toc-modified-id=\"Анализ-данных-2\"><span class=\"toc-item-num\">2&nbsp;&nbsp;</span>Анализ данных</a></span><ul class=\"toc-item\"><li><span><a href=\"#Посмотрим,-как-меняется-концентрация-металлов-(Au,-Ag,-Pb)-на-различных-этапах-очистки\" data-toc-modified-id=\"Посмотрим,-как-меняется-концентрация-металлов-(Au,-Ag,-Pb)-на-различных-этапах-очистки-2.1\"><span class=\"toc-item-num\">2.1&nbsp;&nbsp;</span>Посмотрим, как меняется концентрация металлов (Au, Ag, Pb) на различных этапах очистки</a></span><ul class=\"toc-item\"><li><span><a href=\"#Золото\" data-toc-modified-id=\"Золото-2.1.1\"><span class=\"toc-item-num\">2.1.1&nbsp;&nbsp;</span>Золото</a></span></li><li><span><a href=\"#Серебро\" data-toc-modified-id=\"Серебро-2.1.2\"><span class=\"toc-item-num\">2.1.2&nbsp;&nbsp;</span>Серебро</a></span></li><li><span><a href=\"#Свинец\" data-toc-modified-id=\"Свинец-2.1.3\"><span class=\"toc-item-num\">2.1.3&nbsp;&nbsp;</span>Свинец</a></span></li></ul></li><li><span><a href=\"#Сравним-распределения-размеров-гранул-сырья-на-обучающей-и-тестовой-выборках.-Если-распределения-сильно-отличаются-друг-от-друга,-оценка-модели-будет-неправильной\" data-toc-modified-id=\"Сравним-распределения-размеров-гранул-сырья-на-обучающей-и-тестовой-выборках.-Если-распределения-сильно-отличаются-друг-от-друга,-оценка-модели-будет-неправильной-2.2\"><span class=\"toc-item-num\">2.2&nbsp;&nbsp;</span>Сравним распределения размеров гранул сырья на обучающей и тестовой выборках. Если распределения сильно отличаются друг от друга, оценка модели будет неправильной</a></span><ul class=\"toc-item\"><li><span><a href=\"#Рассмотрим-размер-гранул-до-флотации\" data-toc-modified-id=\"Рассмотрим-размер-гранул-до-флотации-2.2.1\"><span class=\"toc-item-num\">2.2.1&nbsp;&nbsp;</span>Рассмотрим размер гранул до флотации</a></span></li><li><span><a href=\"#Рассмотрим-размер-гранул-до-первого-очистки-(после-флотации)\" data-toc-modified-id=\"Рассмотрим-размер-гранул-до-первого-очистки-(после-флотации)-2.2.2\"><span class=\"toc-item-num\">2.2.2&nbsp;&nbsp;</span>Рассмотрим размер гранул до первого очистки (после флотации)</a></span></li></ul></li><li><span><a href=\"#Исследуем-суммарную-концентрацию-всех-веществ-на-разных-стадиях:-в-сырье,-в-черновом-и-финальном-концентратах\" data-toc-modified-id=\"Исследуем-суммарную-концентрацию-всех-веществ-на-разных-стадиях:-в-сырье,-в-черновом-и-финальном-концентратах-2.3\"><span class=\"toc-item-num\">2.3&nbsp;&nbsp;</span>Исследуем суммарную концентрацию всех веществ на разных стадиях: в сырье, в черновом и финальном концентратах</a></span></li></ul></li><li><span><a href=\"#Модель\" data-toc-modified-id=\"Модель-3\"><span class=\"toc-item-num\">3&nbsp;&nbsp;</span>Модель</a></span><ul class=\"toc-item\"><li><span><a href=\"#Напишем-функцию-для-вычисления-итоговой-sMAPE\" data-toc-modified-id=\"Напишем-функцию-для-вычисления-итоговой-sMAPE-3.1\"><span class=\"toc-item-num\">3.1&nbsp;&nbsp;</span>Напишем функцию для вычисления итоговой sMAPE</a></span></li><li><span><a href=\"#Обучим-разные-модели-и-оцените-их-качество-кросс-валидацией.-Выберим-лучшую-модель-и-проверим-её-на-тестовой-выборке\" data-toc-modified-id=\"Обучим-разные-модели-и-оцените-их-качество-кросс-валидацией.-Выберим-лучшую-модель-и-проверим-её-на-тестовой-выборке-3.2\"><span class=\"toc-item-num\">3.2&nbsp;&nbsp;</span>Обучим разные модели и оцените их качество кросс-валидацией. Выберим лучшую модель и проверим её на тестовой выборке</a></span><ul class=\"toc-item\"><li><span><a href=\"#Обучение-и-проверка-модели\" data-toc-modified-id=\"Обучение-и-проверка-модели-3.2.1\"><span class=\"toc-item-num\">3.2.1&nbsp;&nbsp;</span>Обучение и проверка модели</a></span></li><li><span><a href=\"#Разобьем-данные-на-обучающую-и-валидационную-выборки-в-соотношении-75:25\" data-toc-modified-id=\"Разобьем-данные-на-обучающую-и-валидационную-выборки-в-соотношении-75:25-3.2.2\"><span class=\"toc-item-num\">3.2.2&nbsp;&nbsp;</span>Разобьем данные на обучающую и валидационную выборки в соотношении 75:25</a></span></li><li><span><a href=\"#Линейная-регрессия\" data-toc-modified-id=\"Линейная-регрессия-3.2.3\"><span class=\"toc-item-num\">3.2.3&nbsp;&nbsp;</span>Линейная регрессия</a></span><ul class=\"toc-item\"><li><span><a href=\"#Линейная-регрессия-с-кроссвалидацией\" data-toc-modified-id=\"Линейная-регрессия-с-кроссвалидацией-3.2.3.1\"><span class=\"toc-item-num\">3.2.3.1&nbsp;&nbsp;</span>Линейная регрессия с кроссвалидацией</a></span></li></ul></li><li><span><a href=\"#Решающее-дерево\" data-toc-modified-id=\"Решающее-дерево-3.2.4\"><span class=\"toc-item-num\">3.2.4&nbsp;&nbsp;</span>Решающее дерево</a></span><ul class=\"toc-item\"><li><span><a href=\"#Решающее-дерево-с-кроссвалидацией\" data-toc-modified-id=\"Решающее-дерево-с-кроссвалидацией-3.2.4.1\"><span class=\"toc-item-num\">3.2.4.1&nbsp;&nbsp;</span>Решающее дерево с кроссвалидацией</a></span></li></ul></li><li><span><a href=\"#Случайный-лес\" data-toc-modified-id=\"Случайный-лес-3.2.5\"><span class=\"toc-item-num\">3.2.5&nbsp;&nbsp;</span>Случайный лес</a></span><ul class=\"toc-item\"><li><span><a href=\"#Случайный-лес-с-кроссвалидацией\" data-toc-modified-id=\"Случайный-лес-с-кроссвалидацией-3.2.5.1\"><span class=\"toc-item-num\">3.2.5.1&nbsp;&nbsp;</span>Случайный лес с кроссвалидацией</a></span></li></ul></li></ul></li><li><span><a href=\"#Проверим-на-тестовой-выборке\" data-toc-modified-id=\"Проверим-на-тестовой-выборке-3.3\"><span class=\"toc-item-num\">3.3&nbsp;&nbsp;</span>Проверим на тестовой выборке</a></span><ul class=\"toc-item\"><li><span><a href=\"#Обучение-и-проверка-модели\" data-toc-modified-id=\"Обучение-и-проверка-модели-3.3.1\"><span class=\"toc-item-num\">3.3.1&nbsp;&nbsp;</span>Обучение и проверка модели</a></span></li><li><span><a href=\"#Разобьем-данные-на-обучающую-и-валидационную-выборки-в-соотношении-75:25\" data-toc-modified-id=\"Разобьем-данные-на-обучающую-и-валидационную-выборки-в-соотношении-75:25-3.3.2\"><span class=\"toc-item-num\">3.3.2&nbsp;&nbsp;</span>Разобьем данные на обучающую и валидационную выборки в соотношении 75:25</a></span></li></ul></li></ul></li><li><span><a href=\"#Выводы\" data-toc-modified-id=\"Выводы-4\"><span class=\"toc-item-num\">4&nbsp;&nbsp;</span>Выводы</a></span></li><li><span><a href=\"#Чек-лист-готовности-проекта\" data-toc-modified-id=\"Чек-лист-готовности-проекта-5\"><span class=\"toc-item-num\">5&nbsp;&nbsp;</span>Чек-лист готовности проекта</a></span></li></ul></div>"
   ]
  },
  {
   "cell_type": "markdown",
   "metadata": {},
   "source": [
    "# Восстановление золота из руды"
   ]
  },
  {
   "cell_type": "markdown",
   "metadata": {},
   "source": [
    "Подготовьте прототип модели машинного обучения для «Цифры». Компания разрабатывает решения для эффективной работы промышленных предприятий.\n",
    "\n",
    "Модель должна предсказать коэффициент восстановления золота из золотосодержащей руды. Используйте данные с параметрами добычи и очистки. \n",
    "\n",
    "Модель поможет оптимизировать производство, чтобы не запускать предприятие с убыточными характеристиками.\n",
    "\n",
    "Вам нужно:\n",
    "\n",
    "1. Подготовить данные;\n",
    "2. Провести исследовательский анализ данных;\n",
    "3. Построить и обучить модель.\n",
    "\n",
    "Чтобы выполнить проект, обращайтесь к библиотекам *pandas*, *matplotlib* и *sklearn.* Вам поможет их документация."
   ]
  },
  {
   "cell_type": "markdown",
   "metadata": {},
   "source": [
    "## Подготовка данных"
   ]
  },
  {
   "cell_type": "markdown",
   "metadata": {},
   "source": [
    "### Введение в курс дела"
   ]
  },
  {
   "cell_type": "markdown",
   "metadata": {},
   "source": [
    "**1. Флотация**\n",
    "\n",
    "Во флотационную установку подаётся смесь золотосодержащей руды. После обогащения получается черновой концентрат и «отвальные хвосты», то есть остатки продукта с низкой концентрацией ценных металлов.\n",
    "На стабильность этого процесса влияет непостоянное и неоптимальное физико-химическое состояние флотационной пульпы (смеси твёрдых частиц и жидкости).\n",
    "\n",
    "Химические элементы:\n",
    "- ag - серебро\n",
    "- pb - свинец\n",
    "- sol - сульфат (сульфид натрия)\n",
    "- au - золото\n",
    "\n",
    "**2. Очистка**\n",
    "\n",
    "Черновой концентрат проходит две очистки. На выходе получается финальный концентрат и новые отвальные хвосты."
   ]
  },
  {
   "cell_type": "markdown",
   "metadata": {},
   "source": [
    "- **Описание данных**\n",
    "\n",
    "    - _**Технологический процесс**_\n",
    "        - Rougher feed — исходное сырье\n",
    "        - Rougher additions (или reagent additions) — флотационные реагенты: Xanthate, Sulphate, Depressant\n",
    "        - Xanthate **— ксантогенат (промотер, или активатор флотации);\n",
    "        - Sulphate — сульфат (на данном производстве сульфид натрия);\n",
    "        - Depressant — депрессант (силикат натрия).\n",
    "        - Rougher process (англ. «грубый процесс») — флотация\n",
    "        - Rougher tails — отвальные хвосты\n",
    "        - Float banks — флотационная установка\n",
    "        - Cleaner process — очистка\n",
    "        - Rougher Au — черновой концентрат золота\n",
    "        - Final Au — финальный концентрат золота\n",
    "    - _**Параметры этапов**_\n",
    "        - air amount — объём воздуха\n",
    "        - fluid levels — уровень жидкости\n",
    "        - feed size — размер гранул сырья\n",
    "        - feed rate — скорость подачи"
   ]
  },
  {
   "cell_type": "markdown",
   "metadata": {},
   "source": [
    "**Наименование признаков**\n",
    "\n",
    "Наименование признаков должно быть такое:\n",
    "\n",
    "**[этап].[тип_параметра].[название_параметра]**\n",
    "\n",
    "Пример: ``` rougher.input.feed_ag ```\n",
    "\n",
    "- Возможные значения для блока [этап]:\n",
    "    - rougher — флотация\n",
    "    - primary_cleaner — первичная очистка\n",
    "    - secondary_cleaner — вторичная очистка\n",
    "    - final — финальные характеристики\n",
    "    \n",
    "    \n",
    "- Возможные значения для блока [тип_параметра]:\n",
    "    - input — параметры сырья\n",
    "    - output — параметры продукта\n",
    "    - state — параметры, характеризующие текущее состояние этапа\n",
    "    - calculation — расчётные характеристики"
   ]
  },
  {
   "cell_type": "markdown",
   "metadata": {},
   "source": [
    "**Расчёт эффективности**\n",
    "\n",
    "Вам нужно смоделировать процесс восстановления золота из золотосодержащей руды. \n",
    "\n",
    "Эффективность обогащения рассчитывается по формуле"
   ]
  },
  {
   "attachments": {
    "image.png": {
     "image/png": "[encoded data removed]"
    }
   },
   "cell_type": "markdown",
   "metadata": {},
   "source": [
    "![image.png](attachment:image.png)"
   ]
  },
  {
   "cell_type": "markdown",
   "metadata": {},
   "source": [
    "**RECOVERY = (C * (F - T)) / (F * (C - T)) * 100%**\n",
    "\n",
    "где:\n",
    "- C — доля золота в концентрате после флотации/очистки;\n",
    "- F — доля золота в сырье/концентрате до флотации/очистки;\n",
    "- T — доля золота в отвальных хвостах после флотации/очистки.\n",
    "\n",
    "Для прогноза коэффициента нужно найти долю золота в концентратах и хвостах. Причём важен не только финальный продукт, но и черновой концентрат."
   ]
  },
  {
   "cell_type": "markdown",
   "metadata": {},
   "source": [
    "**Метрика качества**\n",
    "\n",
    "Для решения задачи введём новую метрику качества — sMAPE (англ. Symmetric Mean Absolute Percentage Error, «симметричное среднее абсолютное процентное отклонение»).\n",
    "\n",
    "Она похожа на MAE, но выражается не в абсолютных величинах, а в относительных. Почему симметричная? Она одинаково учитывает масштаб и целевого признака, и предсказания.\n",
    "\n",
    "Метрика sMAPE вычисляется так:\n"
   ]
  },
  {
   "attachments": {
    "image.png": {
     "image/png": "[encoded data removed]"
    }
   },
   "cell_type": "markdown",
   "metadata": {},
   "source": [
    "![image.png](attachment:image.png)"
   ]
  },
  {
   "attachments": {
    "image.png": {
     "image/png": "[encoded data removed]"
    }
   },
   "cell_type": "markdown",
   "metadata": {},
   "source": [
    "Обозначения:\n",
    "![image.png](attachment:image.png)\n",
    "Значение целевого признака для объекта с порядковым номером i в выборке, на которой измеряется качество."
   ]
  },
  {
   "attachments": {
    "image.png": {
     "image/png": "[encoded data removed]"
    }
   },
   "cell_type": "markdown",
   "metadata": {},
   "source": [
    "![image.png](attachment:image.png)\n",
    "Значение предсказания для объекта с порядковым номером i, например, в тестовой выборке."
   ]
  },
  {
   "attachments": {
    "image.png": {
     "image/png": "[encoded data removed]"
    }
   },
   "cell_type": "markdown",
   "metadata": {},
   "source": [
    "![image.png](attachment:image.png)\n",
    "Количество объектов в выборке."
   ]
  },
  {
   "attachments": {
    "image.png": {
     "image/png": "[encoded data removed]"
    }
   },
   "cell_type": "markdown",
   "metadata": {},
   "source": [
    "![image.png](attachment:image.png)\n",
    "Суммирование по всем объектам выборки (i меняется от 1 до N)."
   ]
  },
  {
   "cell_type": "markdown",
   "metadata": {},
   "source": [
    "Нужно спрогнозировать сразу две величины:\n",
    "1. эффективность обогащения чернового концентрата ```rougher.output.recovery;```\n",
    "\n",
    "2. эффективность обогащения финального концентрата ```final.output.recovery.```\n",
    "\n",
    "Итоговая метрика складывается из двух величин:"
   ]
  },
  {
   "attachments": {
    "image.png": {
     "image/png": "[encoded data removed]"
    }
   },
   "cell_type": "markdown",
   "metadata": {},
   "source": [
    "![image.png](attachment:image.png)"
   ]
  },
  {
   "cell_type": "markdown",
   "metadata": {},
   "source": [
    "Данные находятся в трёх файлах:\n",
    "- ```gold_recovery_train_new.csv``` — обучающая выборка;\n",
    "- ```gold_recovery_test_new.csv``` — тестовая выборка;\n",
    "- ```gold_recovery_full_new.csv``` — исходные данные.\n",
    "\n",
    "Данные индексируются датой и временем получения информации (признак ```date```). Соседние по времени параметры часто похожи.\n",
    "\n",
    "Некоторые параметры недоступны, потому что замеряются и/или рассчитываются значительно позже. Из-за этого в тестовой выборке отсутствуют некоторые признаки, которые могут быть в обучающей. Также в тестовом наборе нет целевых признаков.\n",
    "\n",
    "Исходный датасет содержит обучающую и тестовую выборки со всеми признаками.\n",
    "\n",
    "В вашем распоряжении сырые данные: их просто выгрузили из хранилища. Прежде чем приступить к построению модели, проверьте по нашей инструкции их на корректность."
   ]
  },
  {
   "cell_type": "markdown",
   "metadata": {},
   "source": [
    "### Приступление к проекту. Открываем файлы и изучаем их."
   ]
  },
  {
   "cell_type": "code",
   "execution_count": 9,
   "metadata": {},
   "outputs": [],
   "source": [
    "# Подключаем все необходимые библиотеки\n",
    "import pandas as pd\n",
    "import numpy as np\n",
    "import matplotlib.pyplot as plt\n",
    "import seaborn as sb\n",
    "\n",
    "# Разбиение на обучающую, валидационную и тестовую выборку\n",
    "from sklearn.model_selection import train_test_split\n",
    "# Применим кроссвалидацию для повышения качеств обучения\n",
    "from sklearn.model_selection import cross_val_score\n",
    "\n",
    "# Масштабируемость модели\n",
    "from sklearn.preprocessing import StandardScaler\n",
    "\n",
    "# и для машинного обучения разными способами (по условию мы выбираем линейную регрессию):\n",
    "from sklearn.ensemble import RandomForestRegressor\n",
    "from sklearn.linear_model import LinearRegression, LogisticRegression\n",
    "from sklearn.tree import DecisionTreeRegressor\n",
    "\n",
    "from sklearn.metrics import mean_squared_error\n",
    "from sklearn.metrics import (\n",
    "    # Точность модели\n",
    "    accuracy_score,\n",
    "    # Матрицы ошибок (для борьбы с дисбалансом)\n",
    "    confusion_matrix, \n",
    "    # Полнота\n",
    "    recall_score, \n",
    "    # Точность\n",
    "    precision_score, \n",
    "    # F1-мера\n",
    "    f1_score,\n",
    "    # Метрика AUC-ROC\n",
    "    roc_auc_score,\n",
    "    roc_curve,\n",
    "    # MSE\n",
    "    mean_squared_error,\n",
    "    mean_absolute_error\n",
    ")\n",
    "\n",
    "# Контроль выборки\n",
    "from sklearn.utils import shuffle"
   ]
  },
  {
   "cell_type": "code",
   "execution_count": 10,
   "metadata": {},
   "outputs": [],
   "source": [
    "# Получаем датасеты\n",
    "try:\n",
    "    # С Яндекса сервера\n",
    "    try:\n",
    "        # Обучающая выборка\n",
    "        df_train = pd.read_csv('/datasets/gold_recovery_train_new.csv')\n",
    "        # Тестовая выборка\n",
    "        df_test = pd.read_csv('/datasets/gold_recovery_test_new.csv')\n",
    "        # Исходные данные\n",
    "        df_full = pd.read_csv('/datasets/gold_recovery_full_new.csv')\n",
    "    # Локальный файл\n",
    "    except:\n",
    "        # Обучающая выборка\n",
    "        df_train = pd.read_csv('gold_recovery_train_new.csv')\n",
    "        # Тестовая выборка\n",
    "        df_test = pd.read_csv('gold_recovery_test_new.csv')\n",
    "        # Исходные данные\n",
    "        df_full = pd.read_csv('gold_recovery_full_new.csv')\n",
    "except:\n",
    "    print('Отсутствует датасет. Проверьте путь файла')"
   ]
  },
  {
   "cell_type": "markdown",
   "metadata": {},
   "source": [
    "***Примечание***\n",
    "\n",
    "count    3.0 **количество наблюдений в наборе данных**\n",
    "\n",
    "mean     2.0 **среднее арифметическое**\n",
    "\n",
    "std      1.0 **стандартное отклонение**\n",
    "\n",
    "min      1.0 **минимальное значение**\n",
    "\n",
    "25%      1.5 **первый квартиль**\n",
    "\n",
    "50%      2.0 **медиана, или второй квартиль**\n",
    "\n",
    "75%      2.5 **третий квартиль**\n",
    "\n",
    "max      3.0 **максимальное значение**\n",
    "\n",
    "dtype: float64 **тип данных**"
   ]
  },
  {
   "cell_type": "code",
   "execution_count": 11,
   "metadata": {},
   "outputs": [
    {
     "data": {
      "text/html": [
       "<div>\n",
       "<style scoped>\n",
       "    .dataframe tbody tr th:only-of-type {\n",
       "        vertical-align: middle;\n",
       "    }\n",
       "\n",
       "    .dataframe tbody tr th {\n",
       "        vertical-align: top;\n",
       "    }\n",
       "\n",
       "    .dataframe thead th {\n",
       "        text-align: right;\n",
       "    }\n",
       "</style>\n",
       "<table border=\"1\" class=\"dataframe\">\n",
       "  <thead>\n",
       "    <tr style=\"text-align: right;\">\n",
       "      <th></th>\n",
       "      <th>final.output.concentrate_ag</th>\n",
       "      <th>final.output.concentrate_pb</th>\n",
       "      <th>final.output.concentrate_sol</th>\n",
       "      <th>final.output.concentrate_au</th>\n",
       "      <th>final.output.recovery</th>\n",
       "      <th>final.output.tail_ag</th>\n",
       "      <th>final.output.tail_pb</th>\n",
       "      <th>final.output.tail_sol</th>\n",
       "      <th>final.output.tail_au</th>\n",
       "      <th>primary_cleaner.input.sulfate</th>\n",
       "      <th>...</th>\n",
       "      <th>secondary_cleaner.state.floatbank4_a_air</th>\n",
       "      <th>secondary_cleaner.state.floatbank4_a_level</th>\n",
       "      <th>secondary_cleaner.state.floatbank4_b_air</th>\n",
       "      <th>secondary_cleaner.state.floatbank4_b_level</th>\n",
       "      <th>secondary_cleaner.state.floatbank5_a_air</th>\n",
       "      <th>secondary_cleaner.state.floatbank5_a_level</th>\n",
       "      <th>secondary_cleaner.state.floatbank5_b_air</th>\n",
       "      <th>secondary_cleaner.state.floatbank5_b_level</th>\n",
       "      <th>secondary_cleaner.state.floatbank6_a_air</th>\n",
       "      <th>secondary_cleaner.state.floatbank6_a_level</th>\n",
       "    </tr>\n",
       "  </thead>\n",
       "  <tbody>\n",
       "    <tr>\n",
       "      <th>count</th>\n",
       "      <td>14148.000000</td>\n",
       "      <td>14148.000000</td>\n",
       "      <td>13938.000000</td>\n",
       "      <td>14149.000000</td>\n",
       "      <td>14149.000000</td>\n",
       "      <td>14149.000000</td>\n",
       "      <td>14049.000000</td>\n",
       "      <td>14144.000000</td>\n",
       "      <td>14149.000000</td>\n",
       "      <td>14129.000000</td>\n",
       "      <td>...</td>\n",
       "      <td>14143.000000</td>\n",
       "      <td>14148.000000</td>\n",
       "      <td>14148.000000</td>\n",
       "      <td>14148.000000</td>\n",
       "      <td>14148.000000</td>\n",
       "      <td>14148.000000</td>\n",
       "      <td>14148.000000</td>\n",
       "      <td>14148.000000</td>\n",
       "      <td>14147.000000</td>\n",
       "      <td>14148.000000</td>\n",
       "    </tr>\n",
       "    <tr>\n",
       "      <th>mean</th>\n",
       "      <td>5.142034</td>\n",
       "      <td>10.132960</td>\n",
       "      <td>9.202849</td>\n",
       "      <td>44.003792</td>\n",
       "      <td>66.518832</td>\n",
       "      <td>9.607035</td>\n",
       "      <td>2.597298</td>\n",
       "      <td>10.512122</td>\n",
       "      <td>2.918421</td>\n",
       "      <td>133.320659</td>\n",
       "      <td>...</td>\n",
       "      <td>19.985454</td>\n",
       "      <td>-478.696836</td>\n",
       "      <td>15.487065</td>\n",
       "      <td>-460.229416</td>\n",
       "      <td>16.775136</td>\n",
       "      <td>-483.956022</td>\n",
       "      <td>13.064590</td>\n",
       "      <td>-483.966564</td>\n",
       "      <td>19.577539</td>\n",
       "      <td>-506.798480</td>\n",
       "    </tr>\n",
       "    <tr>\n",
       "      <th>std</th>\n",
       "      <td>1.369586</td>\n",
       "      <td>1.654930</td>\n",
       "      <td>2.790516</td>\n",
       "      <td>4.905261</td>\n",
       "      <td>10.295402</td>\n",
       "      <td>2.319069</td>\n",
       "      <td>0.971843</td>\n",
       "      <td>3.003617</td>\n",
       "      <td>0.903712</td>\n",
       "      <td>39.431659</td>\n",
       "      <td>...</td>\n",
       "      <td>5.657723</td>\n",
       "      <td>50.736021</td>\n",
       "      <td>5.255655</td>\n",
       "      <td>58.843586</td>\n",
       "      <td>5.831906</td>\n",
       "      <td>37.892788</td>\n",
       "      <td>5.765617</td>\n",
       "      <td>39.207913</td>\n",
       "      <td>5.764417</td>\n",
       "      <td>37.079249</td>\n",
       "    </tr>\n",
       "    <tr>\n",
       "      <th>min</th>\n",
       "      <td>0.000000</td>\n",
       "      <td>0.000000</td>\n",
       "      <td>0.000000</td>\n",
       "      <td>0.000000</td>\n",
       "      <td>0.000000</td>\n",
       "      <td>0.000000</td>\n",
       "      <td>0.000000</td>\n",
       "      <td>0.000000</td>\n",
       "      <td>0.000000</td>\n",
       "      <td>0.003112</td>\n",
       "      <td>...</td>\n",
       "      <td>0.000000</td>\n",
       "      <td>-799.709069</td>\n",
       "      <td>0.000000</td>\n",
       "      <td>-799.889113</td>\n",
       "      <td>-0.372054</td>\n",
       "      <td>-797.142475</td>\n",
       "      <td>0.646208</td>\n",
       "      <td>-800.006180</td>\n",
       "      <td>0.195324</td>\n",
       "      <td>-809.398668</td>\n",
       "    </tr>\n",
       "    <tr>\n",
       "      <th>25%</th>\n",
       "      <td>4.211620</td>\n",
       "      <td>9.297355</td>\n",
       "      <td>7.484645</td>\n",
       "      <td>43.276111</td>\n",
       "      <td>62.545817</td>\n",
       "      <td>7.997429</td>\n",
       "      <td>1.905973</td>\n",
       "      <td>8.811324</td>\n",
       "      <td>2.368607</td>\n",
       "      <td>107.006651</td>\n",
       "      <td>...</td>\n",
       "      <td>14.990775</td>\n",
       "      <td>-500.628656</td>\n",
       "      <td>11.894558</td>\n",
       "      <td>-500.149000</td>\n",
       "      <td>11.083980</td>\n",
       "      <td>-500.363177</td>\n",
       "      <td>8.994405</td>\n",
       "      <td>-500.105994</td>\n",
       "      <td>14.989304</td>\n",
       "      <td>-500.745104</td>\n",
       "    </tr>\n",
       "    <tr>\n",
       "      <th>50%</th>\n",
       "      <td>4.994652</td>\n",
       "      <td>10.297144</td>\n",
       "      <td>8.845462</td>\n",
       "      <td>44.872436</td>\n",
       "      <td>67.432775</td>\n",
       "      <td>9.480270</td>\n",
       "      <td>2.592022</td>\n",
       "      <td>10.514621</td>\n",
       "      <td>2.851025</td>\n",
       "      <td>133.018328</td>\n",
       "      <td>...</td>\n",
       "      <td>20.001789</td>\n",
       "      <td>-499.681450</td>\n",
       "      <td>14.975536</td>\n",
       "      <td>-499.388738</td>\n",
       "      <td>17.932223</td>\n",
       "      <td>-499.702452</td>\n",
       "      <td>11.997547</td>\n",
       "      <td>-499.914556</td>\n",
       "      <td>19.984175</td>\n",
       "      <td>-500.061431</td>\n",
       "    </tr>\n",
       "    <tr>\n",
       "      <th>75%</th>\n",
       "      <td>5.859540</td>\n",
       "      <td>11.170603</td>\n",
       "      <td>10.487508</td>\n",
       "      <td>46.166425</td>\n",
       "      <td>72.346428</td>\n",
       "      <td>11.003707</td>\n",
       "      <td>3.241723</td>\n",
       "      <td>11.933009</td>\n",
       "      <td>3.434764</td>\n",
       "      <td>159.825396</td>\n",
       "      <td>...</td>\n",
       "      <td>24.990826</td>\n",
       "      <td>-477.472413</td>\n",
       "      <td>20.059375</td>\n",
       "      <td>-400.039008</td>\n",
       "      <td>21.346550</td>\n",
       "      <td>-487.712108</td>\n",
       "      <td>17.982903</td>\n",
       "      <td>-453.186936</td>\n",
       "      <td>24.991623</td>\n",
       "      <td>-499.536466</td>\n",
       "    </tr>\n",
       "    <tr>\n",
       "      <th>max</th>\n",
       "      <td>16.001945</td>\n",
       "      <td>17.031899</td>\n",
       "      <td>18.124851</td>\n",
       "      <td>52.756638</td>\n",
       "      <td>100.000000</td>\n",
       "      <td>19.552149</td>\n",
       "      <td>5.639565</td>\n",
       "      <td>22.317730</td>\n",
       "      <td>8.197408</td>\n",
       "      <td>250.127834</td>\n",
       "      <td>...</td>\n",
       "      <td>30.115735</td>\n",
       "      <td>-245.239184</td>\n",
       "      <td>24.007913</td>\n",
       "      <td>-145.071088</td>\n",
       "      <td>43.709931</td>\n",
       "      <td>-275.073125</td>\n",
       "      <td>27.926001</td>\n",
       "      <td>-157.396071</td>\n",
       "      <td>32.188906</td>\n",
       "      <td>-104.427459</td>\n",
       "    </tr>\n",
       "  </tbody>\n",
       "</table>\n",
       "<p>8 rows × 86 columns</p>\n",
       "</div>"
      ],
      "text/plain": [
       "       final.output.concentrate_ag  final.output.concentrate_pb  \\\n",
       "count                 14148.000000                 14148.000000   \n",
       "mean                      5.142034                    10.132960   \n",
       "std                       1.369586                     1.654930   \n",
       "min                       0.000000                     0.000000   \n",
       "25%                       4.211620                     9.297355   \n",
       "50%                       4.994652                    10.297144   \n",
       "75%                       5.859540                    11.170603   \n",
       "max                      16.001945                    17.031899   \n",
       "\n",
       "       final.output.concentrate_sol  final.output.concentrate_au  \\\n",
       "count                  13938.000000                 14149.000000   \n",
       "mean                       9.202849                    44.003792   \n",
       "std                        2.790516                     4.905261   \n",
       "min                        0.000000                     0.000000   \n",
       "25%                        7.484645                    43.276111   \n",
       "50%                        8.845462                    44.872436   \n",
       "75%                       10.487508                    46.166425   \n",
       "max                       18.124851                    52.756638   \n",
       "\n",
       "       final.output.recovery  final.output.tail_ag  final.output.tail_pb  \\\n",
       "count           14149.000000          14149.000000          14049.000000   \n",
       "mean               66.518832              9.607035              2.597298   \n",
       "std                10.295402              2.319069              0.971843   \n",
       "min                 0.000000              0.000000              0.000000   \n",
       "25%                62.545817              7.997429              1.905973   \n",
       "50%                67.432775              9.480270              2.592022   \n",
       "75%                72.346428             11.003707              3.241723   \n",
       "max               100.000000             19.552149              5.639565   \n",
       "\n",
       "       final.output.tail_sol  final.output.tail_au  \\\n",
       "count           14144.000000          14149.000000   \n",
       "mean               10.512122              2.918421   \n",
       "std                 3.003617              0.903712   \n",
       "min                 0.000000              0.000000   \n",
       "25%                 8.811324              2.368607   \n",
       "50%                10.514621              2.851025   \n",
       "75%                11.933009              3.434764   \n",
       "max                22.317730              8.197408   \n",
       "\n",
       "       primary_cleaner.input.sulfate  ...  \\\n",
       "count                   14129.000000  ...   \n",
       "mean                      133.320659  ...   \n",
       "std                        39.431659  ...   \n",
       "min                         0.003112  ...   \n",
       "25%                       107.006651  ...   \n",
       "50%                       133.018328  ...   \n",
       "75%                       159.825396  ...   \n",
       "max                       250.127834  ...   \n",
       "\n",
       "       secondary_cleaner.state.floatbank4_a_air  \\\n",
       "count                              14143.000000   \n",
       "mean                                  19.985454   \n",
       "std                                    5.657723   \n",
       "min                                    0.000000   \n",
       "25%                                   14.990775   \n",
       "50%                                   20.001789   \n",
       "75%                                   24.990826   \n",
       "max                                   30.115735   \n",
       "\n",
       "       secondary_cleaner.state.floatbank4_a_level  \\\n",
       "count                                14148.000000   \n",
       "mean                                  -478.696836   \n",
       "std                                     50.736021   \n",
       "min                                   -799.709069   \n",
       "25%                                   -500.628656   \n",
       "50%                                   -499.681450   \n",
       "75%                                   -477.472413   \n",
       "max                                   -245.239184   \n",
       "\n",
       "       secondary_cleaner.state.floatbank4_b_air  \\\n",
       "count                              14148.000000   \n",
       "mean                                  15.487065   \n",
       "std                                    5.255655   \n",
       "min                                    0.000000   \n",
       "25%                                   11.894558   \n",
       "50%                                   14.975536   \n",
       "75%                                   20.059375   \n",
       "max                                   24.007913   \n",
       "\n",
       "       secondary_cleaner.state.floatbank4_b_level  \\\n",
       "count                                14148.000000   \n",
       "mean                                  -460.229416   \n",
       "std                                     58.843586   \n",
       "min                                   -799.889113   \n",
       "25%                                   -500.149000   \n",
       "50%                                   -499.388738   \n",
       "75%                                   -400.039008   \n",
       "max                                   -145.071088   \n",
       "\n",
       "       secondary_cleaner.state.floatbank5_a_air  \\\n",
       "count                              14148.000000   \n",
       "mean                                  16.775136   \n",
       "std                                    5.831906   \n",
       "min                                   -0.372054   \n",
       "25%                                   11.083980   \n",
       "50%                                   17.932223   \n",
       "75%                                   21.346550   \n",
       "max                                   43.709931   \n",
       "\n",
       "       secondary_cleaner.state.floatbank5_a_level  \\\n",
       "count                                14148.000000   \n",
       "mean                                  -483.956022   \n",
       "std                                     37.892788   \n",
       "min                                   -797.142475   \n",
       "25%                                   -500.363177   \n",
       "50%                                   -499.702452   \n",
       "75%                                   -487.712108   \n",
       "max                                   -275.073125   \n",
       "\n",
       "       secondary_cleaner.state.floatbank5_b_air  \\\n",
       "count                              14148.000000   \n",
       "mean                                  13.064590   \n",
       "std                                    5.765617   \n",
       "min                                    0.646208   \n",
       "25%                                    8.994405   \n",
       "50%                                   11.997547   \n",
       "75%                                   17.982903   \n",
       "max                                   27.926001   \n",
       "\n",
       "       secondary_cleaner.state.floatbank5_b_level  \\\n",
       "count                                14148.000000   \n",
       "mean                                  -483.966564   \n",
       "std                                     39.207913   \n",
       "min                                   -800.006180   \n",
       "25%                                   -500.105994   \n",
       "50%                                   -499.914556   \n",
       "75%                                   -453.186936   \n",
       "max                                   -157.396071   \n",
       "\n",
       "       secondary_cleaner.state.floatbank6_a_air  \\\n",
       "count                              14147.000000   \n",
       "mean                                  19.577539   \n",
       "std                                    5.764417   \n",
       "min                                    0.195324   \n",
       "25%                                   14.989304   \n",
       "50%                                   19.984175   \n",
       "75%                                   24.991623   \n",
       "max                                   32.188906   \n",
       "\n",
       "       secondary_cleaner.state.floatbank6_a_level  \n",
       "count                                14148.000000  \n",
       "mean                                  -506.798480  \n",
       "std                                     37.079249  \n",
       "min                                   -809.398668  \n",
       "25%                                   -500.745104  \n",
       "50%                                   -500.061431  \n",
       "75%                                   -499.536466  \n",
       "max                                   -104.427459  \n",
       "\n",
       "[8 rows x 86 columns]"
      ]
     },
     "execution_count": 11,
     "metadata": {},
     "output_type": "execute_result"
    }
   ],
   "source": [
    "# Конечно же, можно применять библиотеку pandas_profiling, но юпитер раньше сдохнет, пока не 8 тыс. итераций не дойдет) \n",
    "df_train.describe()"
   ]
  },
  {
   "cell_type": "code",
   "execution_count": 12,
   "metadata": {},
   "outputs": [
    {
     "data": {
      "text/html": [
       "<div>\n",
       "<style scoped>\n",
       "    .dataframe tbody tr th:only-of-type {\n",
       "        vertical-align: middle;\n",
       "    }\n",
       "\n",
       "    .dataframe tbody tr th {\n",
       "        vertical-align: top;\n",
       "    }\n",
       "\n",
       "    .dataframe thead th {\n",
       "        text-align: right;\n",
       "    }\n",
       "</style>\n",
       "<table border=\"1\" class=\"dataframe\">\n",
       "  <thead>\n",
       "    <tr style=\"text-align: right;\">\n",
       "      <th></th>\n",
       "      <th>primary_cleaner.input.sulfate</th>\n",
       "      <th>primary_cleaner.input.depressant</th>\n",
       "      <th>primary_cleaner.input.feed_size</th>\n",
       "      <th>primary_cleaner.input.xanthate</th>\n",
       "      <th>primary_cleaner.state.floatbank8_a_air</th>\n",
       "      <th>primary_cleaner.state.floatbank8_a_level</th>\n",
       "      <th>primary_cleaner.state.floatbank8_b_air</th>\n",
       "      <th>primary_cleaner.state.floatbank8_b_level</th>\n",
       "      <th>primary_cleaner.state.floatbank8_c_air</th>\n",
       "      <th>primary_cleaner.state.floatbank8_c_level</th>\n",
       "      <th>...</th>\n",
       "      <th>secondary_cleaner.state.floatbank4_a_air</th>\n",
       "      <th>secondary_cleaner.state.floatbank4_a_level</th>\n",
       "      <th>secondary_cleaner.state.floatbank4_b_air</th>\n",
       "      <th>secondary_cleaner.state.floatbank4_b_level</th>\n",
       "      <th>secondary_cleaner.state.floatbank5_a_air</th>\n",
       "      <th>secondary_cleaner.state.floatbank5_a_level</th>\n",
       "      <th>secondary_cleaner.state.floatbank5_b_air</th>\n",
       "      <th>secondary_cleaner.state.floatbank5_b_level</th>\n",
       "      <th>secondary_cleaner.state.floatbank6_a_air</th>\n",
       "      <th>secondary_cleaner.state.floatbank6_a_level</th>\n",
       "    </tr>\n",
       "  </thead>\n",
       "  <tbody>\n",
       "    <tr>\n",
       "      <th>count</th>\n",
       "      <td>5286.000000</td>\n",
       "      <td>5285.000000</td>\n",
       "      <td>5290.000000</td>\n",
       "      <td>5286.000000</td>\n",
       "      <td>5.290000e+03</td>\n",
       "      <td>5290.000000</td>\n",
       "      <td>5.290000e+03</td>\n",
       "      <td>5290.000000</td>\n",
       "      <td>5.290000e+03</td>\n",
       "      <td>5290.000000</td>\n",
       "      <td>...</td>\n",
       "      <td>5.290000e+03</td>\n",
       "      <td>5290.000000</td>\n",
       "      <td>5.290000e+03</td>\n",
       "      <td>5290.000000</td>\n",
       "      <td>5290.000000</td>\n",
       "      <td>5290.000000</td>\n",
       "      <td>5290.000000</td>\n",
       "      <td>5290.000000</td>\n",
       "      <td>5290.000000</td>\n",
       "      <td>5290.000000</td>\n",
       "    </tr>\n",
       "    <tr>\n",
       "      <th>mean</th>\n",
       "      <td>174.839652</td>\n",
       "      <td>8.683596</td>\n",
       "      <td>7.266339</td>\n",
       "      <td>1.383803</td>\n",
       "      <td>1.539494e+03</td>\n",
       "      <td>-497.665883</td>\n",
       "      <td>1.545174e+03</td>\n",
       "      <td>-500.273098</td>\n",
       "      <td>1.527272e+03</td>\n",
       "      <td>-498.330680</td>\n",
       "      <td>...</td>\n",
       "      <td>1.632007e+01</td>\n",
       "      <td>-505.144570</td>\n",
       "      <td>1.373544e+01</td>\n",
       "      <td>-463.349858</td>\n",
       "      <td>12.804186</td>\n",
       "      <td>-501.329122</td>\n",
       "      <td>9.881145</td>\n",
       "      <td>-495.663398</td>\n",
       "      <td>17.304935</td>\n",
       "      <td>-501.793193</td>\n",
       "    </tr>\n",
       "    <tr>\n",
       "      <th>std</th>\n",
       "      <td>43.027080</td>\n",
       "      <td>3.072050</td>\n",
       "      <td>0.610219</td>\n",
       "      <td>0.643474</td>\n",
       "      <td>1.167979e+02</td>\n",
       "      <td>19.952431</td>\n",
       "      <td>1.222246e+02</td>\n",
       "      <td>32.968307</td>\n",
       "      <td>1.225380e+02</td>\n",
       "      <td>21.964876</td>\n",
       "      <td>...</td>\n",
       "      <td>3.493583e+00</td>\n",
       "      <td>31.427337</td>\n",
       "      <td>3.430484e+00</td>\n",
       "      <td>86.189107</td>\n",
       "      <td>3.026591</td>\n",
       "      <td>17.951495</td>\n",
       "      <td>2.868205</td>\n",
       "      <td>34.535007</td>\n",
       "      <td>4.536544</td>\n",
       "      <td>39.044215</td>\n",
       "    </tr>\n",
       "    <tr>\n",
       "      <th>min</th>\n",
       "      <td>2.566156</td>\n",
       "      <td>0.003839</td>\n",
       "      <td>5.650000</td>\n",
       "      <td>0.004984</td>\n",
       "      <td>5.445860e-32</td>\n",
       "      <td>-795.316337</td>\n",
       "      <td>6.647490e-32</td>\n",
       "      <td>-799.997015</td>\n",
       "      <td>4.033736e-32</td>\n",
       "      <td>-799.960571</td>\n",
       "      <td>...</td>\n",
       "      <td>1.079872e-16</td>\n",
       "      <td>-799.798523</td>\n",
       "      <td>2.489718e-17</td>\n",
       "      <td>-800.836914</td>\n",
       "      <td>0.069227</td>\n",
       "      <td>-797.323986</td>\n",
       "      <td>0.528083</td>\n",
       "      <td>-800.220337</td>\n",
       "      <td>-0.079426</td>\n",
       "      <td>-809.741464</td>\n",
       "    </tr>\n",
       "    <tr>\n",
       "      <th>25%</th>\n",
       "      <td>147.121401</td>\n",
       "      <td>6.489555</td>\n",
       "      <td>6.890000</td>\n",
       "      <td>0.907623</td>\n",
       "      <td>1.498936e+03</td>\n",
       "      <td>-500.357298</td>\n",
       "      <td>1.498971e+03</td>\n",
       "      <td>-500.703002</td>\n",
       "      <td>1.473230e+03</td>\n",
       "      <td>-501.018117</td>\n",
       "      <td>...</td>\n",
       "      <td>1.403618e+01</td>\n",
       "      <td>-500.868258</td>\n",
       "      <td>1.202862e+01</td>\n",
       "      <td>-500.323028</td>\n",
       "      <td>10.914838</td>\n",
       "      <td>-500.726841</td>\n",
       "      <td>8.036719</td>\n",
       "      <td>-500.194668</td>\n",
       "      <td>13.997317</td>\n",
       "      <td>-500.690984</td>\n",
       "    </tr>\n",
       "    <tr>\n",
       "      <th>50%</th>\n",
       "      <td>177.828489</td>\n",
       "      <td>8.052207</td>\n",
       "      <td>7.250000</td>\n",
       "      <td>1.197610</td>\n",
       "      <td>1.585129e+03</td>\n",
       "      <td>-499.969164</td>\n",
       "      <td>1.595622e+03</td>\n",
       "      <td>-500.028514</td>\n",
       "      <td>1.549595e+03</td>\n",
       "      <td>-500.017711</td>\n",
       "      <td>...</td>\n",
       "      <td>1.700847e+01</td>\n",
       "      <td>-500.115727</td>\n",
       "      <td>1.496486e+01</td>\n",
       "      <td>-499.576513</td>\n",
       "      <td>12.954182</td>\n",
       "      <td>-499.990332</td>\n",
       "      <td>10.004301</td>\n",
       "      <td>-499.990535</td>\n",
       "      <td>16.014935</td>\n",
       "      <td>-500.007126</td>\n",
       "    </tr>\n",
       "    <tr>\n",
       "      <th>75%</th>\n",
       "      <td>208.125438</td>\n",
       "      <td>10.027764</td>\n",
       "      <td>7.600000</td>\n",
       "      <td>1.797819</td>\n",
       "      <td>1.602077e+03</td>\n",
       "      <td>-499.568951</td>\n",
       "      <td>1.602324e+03</td>\n",
       "      <td>-499.293257</td>\n",
       "      <td>1.601144e+03</td>\n",
       "      <td>-498.994130</td>\n",
       "      <td>...</td>\n",
       "      <td>1.803862e+01</td>\n",
       "      <td>-499.404224</td>\n",
       "      <td>1.596213e+01</td>\n",
       "      <td>-400.933805</td>\n",
       "      <td>15.097528</td>\n",
       "      <td>-499.283191</td>\n",
       "      <td>11.997467</td>\n",
       "      <td>-499.719913</td>\n",
       "      <td>21.020013</td>\n",
       "      <td>-499.373018</td>\n",
       "    </tr>\n",
       "    <tr>\n",
       "      <th>max</th>\n",
       "      <td>265.983123</td>\n",
       "      <td>40.000000</td>\n",
       "      <td>15.500000</td>\n",
       "      <td>4.102454</td>\n",
       "      <td>2.103104e+03</td>\n",
       "      <td>-57.195404</td>\n",
       "      <td>1.813084e+03</td>\n",
       "      <td>-142.527229</td>\n",
       "      <td>1.715054e+03</td>\n",
       "      <td>-150.937035</td>\n",
       "      <td>...</td>\n",
       "      <td>3.005180e+01</td>\n",
       "      <td>-401.565212</td>\n",
       "      <td>3.126971e+01</td>\n",
       "      <td>-6.506986</td>\n",
       "      <td>25.258848</td>\n",
       "      <td>-244.483566</td>\n",
       "      <td>14.086866</td>\n",
       "      <td>-137.740004</td>\n",
       "      <td>26.705889</td>\n",
       "      <td>-123.307487</td>\n",
       "    </tr>\n",
       "  </tbody>\n",
       "</table>\n",
       "<p>8 rows × 52 columns</p>\n",
       "</div>"
      ],
      "text/plain": [
       "       primary_cleaner.input.sulfate  primary_cleaner.input.depressant  \\\n",
       "count                    5286.000000                       5285.000000   \n",
       "mean                      174.839652                          8.683596   \n",
       "std                        43.027080                          3.072050   \n",
       "min                         2.566156                          0.003839   \n",
       "25%                       147.121401                          6.489555   \n",
       "50%                       177.828489                          8.052207   \n",
       "75%                       208.125438                         10.027764   \n",
       "max                       265.983123                         40.000000   \n",
       "\n",
       "       primary_cleaner.input.feed_size  primary_cleaner.input.xanthate  \\\n",
       "count                      5290.000000                     5286.000000   \n",
       "mean                          7.266339                        1.383803   \n",
       "std                           0.610219                        0.643474   \n",
       "min                           5.650000                        0.004984   \n",
       "25%                           6.890000                        0.907623   \n",
       "50%                           7.250000                        1.197610   \n",
       "75%                           7.600000                        1.797819   \n",
       "max                          15.500000                        4.102454   \n",
       "\n",
       "       primary_cleaner.state.floatbank8_a_air  \\\n",
       "count                            5.290000e+03   \n",
       "mean                             1.539494e+03   \n",
       "std                              1.167979e+02   \n",
       "min                              5.445860e-32   \n",
       "25%                              1.498936e+03   \n",
       "50%                              1.585129e+03   \n",
       "75%                              1.602077e+03   \n",
       "max                              2.103104e+03   \n",
       "\n",
       "       primary_cleaner.state.floatbank8_a_level  \\\n",
       "count                               5290.000000   \n",
       "mean                                -497.665883   \n",
       "std                                   19.952431   \n",
       "min                                 -795.316337   \n",
       "25%                                 -500.357298   \n",
       "50%                                 -499.969164   \n",
       "75%                                 -499.568951   \n",
       "max                                  -57.195404   \n",
       "\n",
       "       primary_cleaner.state.floatbank8_b_air  \\\n",
       "count                            5.290000e+03   \n",
       "mean                             1.545174e+03   \n",
       "std                              1.222246e+02   \n",
       "min                              6.647490e-32   \n",
       "25%                              1.498971e+03   \n",
       "50%                              1.595622e+03   \n",
       "75%                              1.602324e+03   \n",
       "max                              1.813084e+03   \n",
       "\n",
       "       primary_cleaner.state.floatbank8_b_level  \\\n",
       "count                               5290.000000   \n",
       "mean                                -500.273098   \n",
       "std                                   32.968307   \n",
       "min                                 -799.997015   \n",
       "25%                                 -500.703002   \n",
       "50%                                 -500.028514   \n",
       "75%                                 -499.293257   \n",
       "max                                 -142.527229   \n",
       "\n",
       "       primary_cleaner.state.floatbank8_c_air  \\\n",
       "count                            5.290000e+03   \n",
       "mean                             1.527272e+03   \n",
       "std                              1.225380e+02   \n",
       "min                              4.033736e-32   \n",
       "25%                              1.473230e+03   \n",
       "50%                              1.549595e+03   \n",
       "75%                              1.601144e+03   \n",
       "max                              1.715054e+03   \n",
       "\n",
       "       primary_cleaner.state.floatbank8_c_level  ...  \\\n",
       "count                               5290.000000  ...   \n",
       "mean                                -498.330680  ...   \n",
       "std                                   21.964876  ...   \n",
       "min                                 -799.960571  ...   \n",
       "25%                                 -501.018117  ...   \n",
       "50%                                 -500.017711  ...   \n",
       "75%                                 -498.994130  ...   \n",
       "max                                 -150.937035  ...   \n",
       "\n",
       "       secondary_cleaner.state.floatbank4_a_air  \\\n",
       "count                              5.290000e+03   \n",
       "mean                               1.632007e+01   \n",
       "std                                3.493583e+00   \n",
       "min                                1.079872e-16   \n",
       "25%                                1.403618e+01   \n",
       "50%                                1.700847e+01   \n",
       "75%                                1.803862e+01   \n",
       "max                                3.005180e+01   \n",
       "\n",
       "       secondary_cleaner.state.floatbank4_a_level  \\\n",
       "count                                 5290.000000   \n",
       "mean                                  -505.144570   \n",
       "std                                     31.427337   \n",
       "min                                   -799.798523   \n",
       "25%                                   -500.868258   \n",
       "50%                                   -500.115727   \n",
       "75%                                   -499.404224   \n",
       "max                                   -401.565212   \n",
       "\n",
       "       secondary_cleaner.state.floatbank4_b_air  \\\n",
       "count                              5.290000e+03   \n",
       "mean                               1.373544e+01   \n",
       "std                                3.430484e+00   \n",
       "min                                2.489718e-17   \n",
       "25%                                1.202862e+01   \n",
       "50%                                1.496486e+01   \n",
       "75%                                1.596213e+01   \n",
       "max                                3.126971e+01   \n",
       "\n",
       "       secondary_cleaner.state.floatbank4_b_level  \\\n",
       "count                                 5290.000000   \n",
       "mean                                  -463.349858   \n",
       "std                                     86.189107   \n",
       "min                                   -800.836914   \n",
       "25%                                   -500.323028   \n",
       "50%                                   -499.576513   \n",
       "75%                                   -400.933805   \n",
       "max                                     -6.506986   \n",
       "\n",
       "       secondary_cleaner.state.floatbank5_a_air  \\\n",
       "count                               5290.000000   \n",
       "mean                                  12.804186   \n",
       "std                                    3.026591   \n",
       "min                                    0.069227   \n",
       "25%                                   10.914838   \n",
       "50%                                   12.954182   \n",
       "75%                                   15.097528   \n",
       "max                                   25.258848   \n",
       "\n",
       "       secondary_cleaner.state.floatbank5_a_level  \\\n",
       "count                                 5290.000000   \n",
       "mean                                  -501.329122   \n",
       "std                                     17.951495   \n",
       "min                                   -797.323986   \n",
       "25%                                   -500.726841   \n",
       "50%                                   -499.990332   \n",
       "75%                                   -499.283191   \n",
       "max                                   -244.483566   \n",
       "\n",
       "       secondary_cleaner.state.floatbank5_b_air  \\\n",
       "count                               5290.000000   \n",
       "mean                                   9.881145   \n",
       "std                                    2.868205   \n",
       "min                                    0.528083   \n",
       "25%                                    8.036719   \n",
       "50%                                   10.004301   \n",
       "75%                                   11.997467   \n",
       "max                                   14.086866   \n",
       "\n",
       "       secondary_cleaner.state.floatbank5_b_level  \\\n",
       "count                                 5290.000000   \n",
       "mean                                  -495.663398   \n",
       "std                                     34.535007   \n",
       "min                                   -800.220337   \n",
       "25%                                   -500.194668   \n",
       "50%                                   -499.990535   \n",
       "75%                                   -499.719913   \n",
       "max                                   -137.740004   \n",
       "\n",
       "       secondary_cleaner.state.floatbank6_a_air  \\\n",
       "count                               5290.000000   \n",
       "mean                                  17.304935   \n",
       "std                                    4.536544   \n",
       "min                                   -0.079426   \n",
       "25%                                   13.997317   \n",
       "50%                                   16.014935   \n",
       "75%                                   21.020013   \n",
       "max                                   26.705889   \n",
       "\n",
       "       secondary_cleaner.state.floatbank6_a_level  \n",
       "count                                 5290.000000  \n",
       "mean                                  -501.793193  \n",
       "std                                     39.044215  \n",
       "min                                   -809.741464  \n",
       "25%                                   -500.690984  \n",
       "50%                                   -500.007126  \n",
       "75%                                   -499.373018  \n",
       "max                                   -123.307487  \n",
       "\n",
       "[8 rows x 52 columns]"
      ]
     },
     "execution_count": 12,
     "metadata": {},
     "output_type": "execute_result"
    }
   ],
   "source": [
    "df_test.describe()"
   ]
  },
  {
   "cell_type": "markdown",
   "metadata": {},
   "source": [
    "Стандартное отклонение (std) у него слишком высокое в маленьком кол-ве наблюдений по сравнению остальных "
   ]
  },
  {
   "cell_type": "code",
   "execution_count": 13,
   "metadata": {},
   "outputs": [
    {
     "data": {
      "text/html": [
       "<div>\n",
       "<style scoped>\n",
       "    .dataframe tbody tr th:only-of-type {\n",
       "        vertical-align: middle;\n",
       "    }\n",
       "\n",
       "    .dataframe tbody tr th {\n",
       "        vertical-align: top;\n",
       "    }\n",
       "\n",
       "    .dataframe thead th {\n",
       "        text-align: right;\n",
       "    }\n",
       "</style>\n",
       "<table border=\"1\" class=\"dataframe\">\n",
       "  <thead>\n",
       "    <tr style=\"text-align: right;\">\n",
       "      <th></th>\n",
       "      <th>final.output.concentrate_ag</th>\n",
       "      <th>final.output.concentrate_pb</th>\n",
       "      <th>final.output.concentrate_sol</th>\n",
       "      <th>final.output.concentrate_au</th>\n",
       "      <th>final.output.recovery</th>\n",
       "      <th>final.output.tail_ag</th>\n",
       "      <th>final.output.tail_pb</th>\n",
       "      <th>final.output.tail_sol</th>\n",
       "      <th>final.output.tail_au</th>\n",
       "      <th>primary_cleaner.input.sulfate</th>\n",
       "      <th>...</th>\n",
       "      <th>secondary_cleaner.state.floatbank4_a_air</th>\n",
       "      <th>secondary_cleaner.state.floatbank4_a_level</th>\n",
       "      <th>secondary_cleaner.state.floatbank4_b_air</th>\n",
       "      <th>secondary_cleaner.state.floatbank4_b_level</th>\n",
       "      <th>secondary_cleaner.state.floatbank5_a_air</th>\n",
       "      <th>secondary_cleaner.state.floatbank5_a_level</th>\n",
       "      <th>secondary_cleaner.state.floatbank5_b_air</th>\n",
       "      <th>secondary_cleaner.state.floatbank5_b_level</th>\n",
       "      <th>secondary_cleaner.state.floatbank6_a_air</th>\n",
       "      <th>secondary_cleaner.state.floatbank6_a_level</th>\n",
       "    </tr>\n",
       "  </thead>\n",
       "  <tbody>\n",
       "    <tr>\n",
       "      <th>count</th>\n",
       "      <td>19438.000000</td>\n",
       "      <td>19438.000000</td>\n",
       "      <td>19228.000000</td>\n",
       "      <td>19439.000000</td>\n",
       "      <td>19439.000000</td>\n",
       "      <td>19438.000000</td>\n",
       "      <td>19338.000000</td>\n",
       "      <td>19433.000000</td>\n",
       "      <td>19439.000000</td>\n",
       "      <td>19415.000000</td>\n",
       "      <td>...</td>\n",
       "      <td>19433.000000</td>\n",
       "      <td>19438.000000</td>\n",
       "      <td>19438.000000</td>\n",
       "      <td>19438.000000</td>\n",
       "      <td>19438.000000</td>\n",
       "      <td>19438.000000</td>\n",
       "      <td>19438.000000</td>\n",
       "      <td>19438.000000</td>\n",
       "      <td>19437.000000</td>\n",
       "      <td>19438.000000</td>\n",
       "    </tr>\n",
       "    <tr>\n",
       "      <th>mean</th>\n",
       "      <td>5.168470</td>\n",
       "      <td>9.978895</td>\n",
       "      <td>9.501224</td>\n",
       "      <td>44.076513</td>\n",
       "      <td>67.050208</td>\n",
       "      <td>9.688589</td>\n",
       "      <td>2.705795</td>\n",
       "      <td>10.583728</td>\n",
       "      <td>3.042467</td>\n",
       "      <td>144.624774</td>\n",
       "      <td>...</td>\n",
       "      <td>18.987674</td>\n",
       "      <td>-485.894516</td>\n",
       "      <td>15.010366</td>\n",
       "      <td>-461.078636</td>\n",
       "      <td>15.694452</td>\n",
       "      <td>-488.684065</td>\n",
       "      <td>12.198224</td>\n",
       "      <td>-487.149827</td>\n",
       "      <td>18.959024</td>\n",
       "      <td>-505.436305</td>\n",
       "    </tr>\n",
       "    <tr>\n",
       "      <th>std</th>\n",
       "      <td>1.372348</td>\n",
       "      <td>1.669240</td>\n",
       "      <td>2.787537</td>\n",
       "      <td>5.129784</td>\n",
       "      <td>10.125840</td>\n",
       "      <td>2.328642</td>\n",
       "      <td>0.949077</td>\n",
       "      <td>2.868782</td>\n",
       "      <td>0.922808</td>\n",
       "      <td>44.464071</td>\n",
       "      <td>...</td>\n",
       "      <td>5.411058</td>\n",
       "      <td>47.758570</td>\n",
       "      <td>4.890228</td>\n",
       "      <td>67.405524</td>\n",
       "      <td>5.510974</td>\n",
       "      <td>34.533396</td>\n",
       "      <td>5.333024</td>\n",
       "      <td>38.347312</td>\n",
       "      <td>5.550498</td>\n",
       "      <td>37.689057</td>\n",
       "    </tr>\n",
       "    <tr>\n",
       "      <th>min</th>\n",
       "      <td>0.000000</td>\n",
       "      <td>0.000000</td>\n",
       "      <td>0.000000</td>\n",
       "      <td>0.000000</td>\n",
       "      <td>0.000000</td>\n",
       "      <td>0.000000</td>\n",
       "      <td>0.000000</td>\n",
       "      <td>0.000000</td>\n",
       "      <td>0.000000</td>\n",
       "      <td>0.003112</td>\n",
       "      <td>...</td>\n",
       "      <td>0.000000</td>\n",
       "      <td>-799.798523</td>\n",
       "      <td>0.000000</td>\n",
       "      <td>-800.836914</td>\n",
       "      <td>-0.372054</td>\n",
       "      <td>-797.323986</td>\n",
       "      <td>0.528083</td>\n",
       "      <td>-800.220337</td>\n",
       "      <td>-0.079426</td>\n",
       "      <td>-809.741464</td>\n",
       "    </tr>\n",
       "    <tr>\n",
       "      <th>25%</th>\n",
       "      <td>4.251240</td>\n",
       "      <td>9.137262</td>\n",
       "      <td>7.722820</td>\n",
       "      <td>43.402215</td>\n",
       "      <td>63.299712</td>\n",
       "      <td>8.062878</td>\n",
       "      <td>2.040119</td>\n",
       "      <td>8.938947</td>\n",
       "      <td>2.461138</td>\n",
       "      <td>114.107029</td>\n",
       "      <td>...</td>\n",
       "      <td>14.975734</td>\n",
       "      <td>-500.704892</td>\n",
       "      <td>11.940294</td>\n",
       "      <td>-500.187742</td>\n",
       "      <td>10.988606</td>\n",
       "      <td>-500.458467</td>\n",
       "      <td>8.971105</td>\n",
       "      <td>-500.129462</td>\n",
       "      <td>14.983037</td>\n",
       "      <td>-500.728067</td>\n",
       "    </tr>\n",
       "    <tr>\n",
       "      <th>50%</th>\n",
       "      <td>5.066094</td>\n",
       "      <td>10.102433</td>\n",
       "      <td>9.218961</td>\n",
       "      <td>45.011244</td>\n",
       "      <td>68.172738</td>\n",
       "      <td>9.743623</td>\n",
       "      <td>2.748730</td>\n",
       "      <td>10.622456</td>\n",
       "      <td>2.984909</td>\n",
       "      <td>143.232103</td>\n",
       "      <td>...</td>\n",
       "      <td>18.017481</td>\n",
       "      <td>-499.837793</td>\n",
       "      <td>14.971014</td>\n",
       "      <td>-499.459786</td>\n",
       "      <td>15.000036</td>\n",
       "      <td>-499.802605</td>\n",
       "      <td>11.019433</td>\n",
       "      <td>-499.935317</td>\n",
       "      <td>19.960541</td>\n",
       "      <td>-500.048400</td>\n",
       "    </tr>\n",
       "    <tr>\n",
       "      <th>75%</th>\n",
       "      <td>5.895527</td>\n",
       "      <td>11.035769</td>\n",
       "      <td>10.947813</td>\n",
       "      <td>46.275313</td>\n",
       "      <td>72.686642</td>\n",
       "      <td>11.134294</td>\n",
       "      <td>3.333216</td>\n",
       "      <td>12.104271</td>\n",
       "      <td>3.571351</td>\n",
       "      <td>175.075656</td>\n",
       "      <td>...</td>\n",
       "      <td>23.012470</td>\n",
       "      <td>-498.249730</td>\n",
       "      <td>19.034162</td>\n",
       "      <td>-400.118106</td>\n",
       "      <td>18.026190</td>\n",
       "      <td>-498.384187</td>\n",
       "      <td>14.019088</td>\n",
       "      <td>-499.436708</td>\n",
       "      <td>24.003170</td>\n",
       "      <td>-499.495378</td>\n",
       "    </tr>\n",
       "    <tr>\n",
       "      <th>max</th>\n",
       "      <td>16.001945</td>\n",
       "      <td>17.031899</td>\n",
       "      <td>19.615720</td>\n",
       "      <td>52.756638</td>\n",
       "      <td>100.000000</td>\n",
       "      <td>19.552149</td>\n",
       "      <td>5.804178</td>\n",
       "      <td>22.317730</td>\n",
       "      <td>8.245022</td>\n",
       "      <td>265.983123</td>\n",
       "      <td>...</td>\n",
       "      <td>30.115735</td>\n",
       "      <td>-245.239184</td>\n",
       "      <td>31.269706</td>\n",
       "      <td>-6.506986</td>\n",
       "      <td>43.709931</td>\n",
       "      <td>-244.483566</td>\n",
       "      <td>27.926001</td>\n",
       "      <td>-137.740004</td>\n",
       "      <td>32.188906</td>\n",
       "      <td>-104.427459</td>\n",
       "    </tr>\n",
       "  </tbody>\n",
       "</table>\n",
       "<p>8 rows × 86 columns</p>\n",
       "</div>"
      ],
      "text/plain": [
       "       final.output.concentrate_ag  final.output.concentrate_pb  \\\n",
       "count                 19438.000000                 19438.000000   \n",
       "mean                      5.168470                     9.978895   \n",
       "std                       1.372348                     1.669240   \n",
       "min                       0.000000                     0.000000   \n",
       "25%                       4.251240                     9.137262   \n",
       "50%                       5.066094                    10.102433   \n",
       "75%                       5.895527                    11.035769   \n",
       "max                      16.001945                    17.031899   \n",
       "\n",
       "       final.output.concentrate_sol  final.output.concentrate_au  \\\n",
       "count                  19228.000000                 19439.000000   \n",
       "mean                       9.501224                    44.076513   \n",
       "std                        2.787537                     5.129784   \n",
       "min                        0.000000                     0.000000   \n",
       "25%                        7.722820                    43.402215   \n",
       "50%                        9.218961                    45.011244   \n",
       "75%                       10.947813                    46.275313   \n",
       "max                       19.615720                    52.756638   \n",
       "\n",
       "       final.output.recovery  final.output.tail_ag  final.output.tail_pb  \\\n",
       "count           19439.000000          19438.000000          19338.000000   \n",
       "mean               67.050208              9.688589              2.705795   \n",
       "std                10.125840              2.328642              0.949077   \n",
       "min                 0.000000              0.000000              0.000000   \n",
       "25%                63.299712              8.062878              2.040119   \n",
       "50%                68.172738              9.743623              2.748730   \n",
       "75%                72.686642             11.134294              3.333216   \n",
       "max               100.000000             19.552149              5.804178   \n",
       "\n",
       "       final.output.tail_sol  final.output.tail_au  \\\n",
       "count           19433.000000          19439.000000   \n",
       "mean               10.583728              3.042467   \n",
       "std                 2.868782              0.922808   \n",
       "min                 0.000000              0.000000   \n",
       "25%                 8.938947              2.461138   \n",
       "50%                10.622456              2.984909   \n",
       "75%                12.104271              3.571351   \n",
       "max                22.317730              8.245022   \n",
       "\n",
       "       primary_cleaner.input.sulfate  ...  \\\n",
       "count                   19415.000000  ...   \n",
       "mean                      144.624774  ...   \n",
       "std                        44.464071  ...   \n",
       "min                         0.003112  ...   \n",
       "25%                       114.107029  ...   \n",
       "50%                       143.232103  ...   \n",
       "75%                       175.075656  ...   \n",
       "max                       265.983123  ...   \n",
       "\n",
       "       secondary_cleaner.state.floatbank4_a_air  \\\n",
       "count                              19433.000000   \n",
       "mean                                  18.987674   \n",
       "std                                    5.411058   \n",
       "min                                    0.000000   \n",
       "25%                                   14.975734   \n",
       "50%                                   18.017481   \n",
       "75%                                   23.012470   \n",
       "max                                   30.115735   \n",
       "\n",
       "       secondary_cleaner.state.floatbank4_a_level  \\\n",
       "count                                19438.000000   \n",
       "mean                                  -485.894516   \n",
       "std                                     47.758570   \n",
       "min                                   -799.798523   \n",
       "25%                                   -500.704892   \n",
       "50%                                   -499.837793   \n",
       "75%                                   -498.249730   \n",
       "max                                   -245.239184   \n",
       "\n",
       "       secondary_cleaner.state.floatbank4_b_air  \\\n",
       "count                              19438.000000   \n",
       "mean                                  15.010366   \n",
       "std                                    4.890228   \n",
       "min                                    0.000000   \n",
       "25%                                   11.940294   \n",
       "50%                                   14.971014   \n",
       "75%                                   19.034162   \n",
       "max                                   31.269706   \n",
       "\n",
       "       secondary_cleaner.state.floatbank4_b_level  \\\n",
       "count                                19438.000000   \n",
       "mean                                  -461.078636   \n",
       "std                                     67.405524   \n",
       "min                                   -800.836914   \n",
       "25%                                   -500.187742   \n",
       "50%                                   -499.459786   \n",
       "75%                                   -400.118106   \n",
       "max                                     -6.506986   \n",
       "\n",
       "       secondary_cleaner.state.floatbank5_a_air  \\\n",
       "count                              19438.000000   \n",
       "mean                                  15.694452   \n",
       "std                                    5.510974   \n",
       "min                                   -0.372054   \n",
       "25%                                   10.988606   \n",
       "50%                                   15.000036   \n",
       "75%                                   18.026190   \n",
       "max                                   43.709931   \n",
       "\n",
       "       secondary_cleaner.state.floatbank5_a_level  \\\n",
       "count                                19438.000000   \n",
       "mean                                  -488.684065   \n",
       "std                                     34.533396   \n",
       "min                                   -797.323986   \n",
       "25%                                   -500.458467   \n",
       "50%                                   -499.802605   \n",
       "75%                                   -498.384187   \n",
       "max                                   -244.483566   \n",
       "\n",
       "       secondary_cleaner.state.floatbank5_b_air  \\\n",
       "count                              19438.000000   \n",
       "mean                                  12.198224   \n",
       "std                                    5.333024   \n",
       "min                                    0.528083   \n",
       "25%                                    8.971105   \n",
       "50%                                   11.019433   \n",
       "75%                                   14.019088   \n",
       "max                                   27.926001   \n",
       "\n",
       "       secondary_cleaner.state.floatbank5_b_level  \\\n",
       "count                                19438.000000   \n",
       "mean                                  -487.149827   \n",
       "std                                     38.347312   \n",
       "min                                   -800.220337   \n",
       "25%                                   -500.129462   \n",
       "50%                                   -499.935317   \n",
       "75%                                   -499.436708   \n",
       "max                                   -137.740004   \n",
       "\n",
       "       secondary_cleaner.state.floatbank6_a_air  \\\n",
       "count                              19437.000000   \n",
       "mean                                  18.959024   \n",
       "std                                    5.550498   \n",
       "min                                   -0.079426   \n",
       "25%                                   14.983037   \n",
       "50%                                   19.960541   \n",
       "75%                                   24.003170   \n",
       "max                                   32.188906   \n",
       "\n",
       "       secondary_cleaner.state.floatbank6_a_level  \n",
       "count                                19438.000000  \n",
       "mean                                  -505.436305  \n",
       "std                                     37.689057  \n",
       "min                                   -809.741464  \n",
       "25%                                   -500.728067  \n",
       "50%                                   -500.048400  \n",
       "75%                                   -499.495378  \n",
       "max                                   -104.427459  \n",
       "\n",
       "[8 rows x 86 columns]"
      ]
     },
     "execution_count": 13,
     "metadata": {},
     "output_type": "execute_result"
    }
   ],
   "source": [
    "df_full.describe()"
   ]
  },
  {
   "cell_type": "code",
   "execution_count": 14,
   "metadata": {},
   "outputs": [],
   "source": [
    "# Проверим на наличие пропущенных значений\n",
    "def check_missed_columns(dataset):\n",
    "    name_columns = dataset.columns\n",
    "    \n",
    "    for i in name_columns:\n",
    "        if(dataset[i].isna().sum() > 0):\n",
    "            print(f'{i}: {dataset[i].isna().sum()}')\n",
    "            \n",
    "        if(i == name_columns[len(name_columns) - 1]):\n",
    "            print('Отсутствует пропущенное значение')"
   ]
  },
  {
   "cell_type": "code",
   "execution_count": 15,
   "metadata": {},
   "outputs": [
    {
     "name": "stdout",
     "output_type": "stream",
     "text": [
      "final.output.concentrate_ag: 1\n",
      "final.output.concentrate_pb: 1\n",
      "final.output.concentrate_sol: 211\n",
      "final.output.tail_pb: 100\n",
      "final.output.tail_sol: 5\n",
      "primary_cleaner.input.sulfate: 20\n",
      "primary_cleaner.input.depressant: 32\n",
      "primary_cleaner.input.xanthate: 100\n",
      "primary_cleaner.output.concentrate_pb: 86\n",
      "primary_cleaner.output.concentrate_sol: 286\n",
      "primary_cleaner.output.tail_ag: 1\n",
      "primary_cleaner.output.tail_pb: 15\n",
      "primary_cleaner.output.tail_sol: 46\n",
      "primary_cleaner.state.floatbank8_a_air: 4\n",
      "primary_cleaner.state.floatbank8_a_level: 1\n",
      "primary_cleaner.state.floatbank8_b_air: 4\n",
      "primary_cleaner.state.floatbank8_b_level: 1\n",
      "primary_cleaner.state.floatbank8_c_air: 2\n",
      "primary_cleaner.state.floatbank8_c_level: 1\n",
      "primary_cleaner.state.floatbank8_d_air: 3\n",
      "primary_cleaner.state.floatbank8_d_level: 1\n",
      "rougher.calculation.sulfate_to_au_concentrate: 1\n",
      "rougher.calculation.floatbank10_sulfate_to_au_feed: 1\n",
      "rougher.calculation.floatbank11_sulfate_to_au_feed: 1\n",
      "rougher.input.feed_pb: 100\n",
      "rougher.input.feed_rate: 8\n",
      "rougher.input.feed_size: 144\n",
      "rougher.input.feed_sol: 78\n",
      "rougher.input.floatbank10_sulfate: 29\n",
      "rougher.input.floatbank10_xanthate: 8\n",
      "rougher.input.floatbank11_sulfate: 36\n",
      "rougher.input.floatbank11_xanthate: 428\n",
      "rougher.output.concentrate_sol: 22\n",
      "rougher.output.tail_ag: 1\n",
      "rougher.state.floatbank10_a_air: 1\n",
      "rougher.state.floatbank10_a_level: 1\n",
      "rougher.state.floatbank10_b_air: 1\n",
      "rougher.state.floatbank10_b_level: 1\n",
      "rougher.state.floatbank10_c_air: 1\n",
      "rougher.state.floatbank10_c_level: 1\n",
      "rougher.state.floatbank10_e_air: 436\n",
      "secondary_cleaner.output.tail_ag: 2\n",
      "secondary_cleaner.output.tail_pb: 10\n",
      "secondary_cleaner.output.tail_sol: 1605\n",
      "secondary_cleaner.state.floatbank2_a_air: 217\n",
      "secondary_cleaner.state.floatbank2_a_level: 1\n",
      "secondary_cleaner.state.floatbank2_b_air: 21\n",
      "secondary_cleaner.state.floatbank2_b_level: 1\n",
      "secondary_cleaner.state.floatbank3_a_air: 4\n",
      "secondary_cleaner.state.floatbank3_a_level: 1\n",
      "secondary_cleaner.state.floatbank3_b_air: 1\n",
      "secondary_cleaner.state.floatbank3_b_level: 1\n",
      "secondary_cleaner.state.floatbank4_a_air: 6\n",
      "secondary_cleaner.state.floatbank4_a_level: 1\n",
      "secondary_cleaner.state.floatbank4_b_air: 1\n",
      "secondary_cleaner.state.floatbank4_b_level: 1\n",
      "secondary_cleaner.state.floatbank5_a_air: 1\n",
      "secondary_cleaner.state.floatbank5_a_level: 1\n",
      "secondary_cleaner.state.floatbank5_b_air: 1\n",
      "secondary_cleaner.state.floatbank5_b_level: 1\n",
      "secondary_cleaner.state.floatbank6_a_air: 2\n",
      "secondary_cleaner.state.floatbank6_a_level: 1\n",
      "Отсутствует пропущенное значение\n"
     ]
    }
   ],
   "source": [
    "check_missed_columns(df_train)"
   ]
  },
  {
   "cell_type": "code",
   "execution_count": 16,
   "metadata": {},
   "outputs": [
    {
     "name": "stdout",
     "output_type": "stream",
     "text": [
      "primary_cleaner.input.sulfate: 4\n",
      "primary_cleaner.input.depressant: 5\n",
      "primary_cleaner.input.xanthate: 4\n",
      "rougher.input.feed_rate: 3\n",
      "rougher.input.feed_size: 1\n",
      "rougher.input.feed_sol: 21\n",
      "rougher.input.floatbank10_sulfate: 5\n",
      "rougher.input.floatbank11_sulfate: 8\n",
      "rougher.input.floatbank11_xanthate: 25\n",
      "secondary_cleaner.state.floatbank2_a_air: 3\n",
      "secondary_cleaner.state.floatbank2_b_air: 2\n",
      "secondary_cleaner.state.floatbank3_a_air: 9\n",
      "Отсутствует пропущенное значение\n"
     ]
    }
   ],
   "source": [
    "check_missed_columns(df_test)"
   ]
  },
  {
   "cell_type": "code",
   "execution_count": 17,
   "metadata": {},
   "outputs": [
    {
     "name": "stdout",
     "output_type": "stream",
     "text": [
      "final.output.concentrate_ag: 1\n",
      "final.output.concentrate_pb: 1\n",
      "final.output.concentrate_sol: 211\n",
      "final.output.tail_ag: 1\n",
      "final.output.tail_pb: 101\n",
      "final.output.tail_sol: 6\n",
      "primary_cleaner.input.sulfate: 24\n",
      "primary_cleaner.input.depressant: 37\n",
      "primary_cleaner.input.xanthate: 104\n",
      "primary_cleaner.output.concentrate_pb: 116\n",
      "primary_cleaner.output.concentrate_sol: 370\n",
      "primary_cleaner.output.tail_ag: 4\n",
      "primary_cleaner.output.tail_pb: 21\n",
      "primary_cleaner.output.tail_sol: 62\n",
      "primary_cleaner.state.floatbank8_a_air: 4\n",
      "primary_cleaner.state.floatbank8_a_level: 1\n",
      "primary_cleaner.state.floatbank8_b_air: 4\n",
      "primary_cleaner.state.floatbank8_b_level: 1\n",
      "primary_cleaner.state.floatbank8_c_air: 2\n",
      "primary_cleaner.state.floatbank8_c_level: 1\n",
      "primary_cleaner.state.floatbank8_d_air: 3\n",
      "primary_cleaner.state.floatbank8_d_level: 1\n",
      "rougher.calculation.sulfate_to_au_concentrate: 2\n",
      "rougher.calculation.floatbank10_sulfate_to_au_feed: 2\n",
      "rougher.calculation.floatbank11_sulfate_to_au_feed: 2\n",
      "rougher.input.feed_pb: 100\n",
      "rougher.input.feed_rate: 11\n",
      "rougher.input.feed_size: 145\n",
      "rougher.input.feed_sol: 99\n",
      "rougher.input.floatbank10_sulfate: 34\n",
      "rougher.input.floatbank10_xanthate: 8\n",
      "rougher.input.floatbank11_sulfate: 44\n",
      "rougher.input.floatbank11_xanthate: 453\n",
      "rougher.output.concentrate_sol: 23\n",
      "rougher.output.tail_ag: 1\n",
      "rougher.state.floatbank10_a_air: 1\n",
      "rougher.state.floatbank10_a_level: 1\n",
      "rougher.state.floatbank10_b_air: 1\n",
      "rougher.state.floatbank10_b_level: 1\n",
      "rougher.state.floatbank10_c_air: 1\n",
      "rougher.state.floatbank10_c_level: 1\n",
      "rougher.state.floatbank10_e_air: 436\n",
      "secondary_cleaner.output.tail_ag: 2\n",
      "secondary_cleaner.output.tail_pb: 12\n",
      "secondary_cleaner.output.tail_sol: 1748\n",
      "secondary_cleaner.state.floatbank2_a_air: 220\n",
      "secondary_cleaner.state.floatbank2_a_level: 1\n",
      "secondary_cleaner.state.floatbank2_b_air: 23\n",
      "secondary_cleaner.state.floatbank2_b_level: 1\n",
      "secondary_cleaner.state.floatbank3_a_air: 13\n",
      "secondary_cleaner.state.floatbank3_a_level: 1\n",
      "secondary_cleaner.state.floatbank3_b_air: 1\n",
      "secondary_cleaner.state.floatbank3_b_level: 1\n",
      "secondary_cleaner.state.floatbank4_a_air: 6\n",
      "secondary_cleaner.state.floatbank4_a_level: 1\n",
      "secondary_cleaner.state.floatbank4_b_air: 1\n",
      "secondary_cleaner.state.floatbank4_b_level: 1\n",
      "secondary_cleaner.state.floatbank5_a_air: 1\n",
      "secondary_cleaner.state.floatbank5_a_level: 1\n",
      "secondary_cleaner.state.floatbank5_b_air: 1\n",
      "secondary_cleaner.state.floatbank5_b_level: 1\n",
      "secondary_cleaner.state.floatbank6_a_air: 2\n",
      "secondary_cleaner.state.floatbank6_a_level: 1\n",
      "Отсутствует пропущенное значение\n"
     ]
    }
   ],
   "source": [
    "check_missed_columns(df_full)"
   ]
  },
  {
   "cell_type": "markdown",
   "metadata": {},
   "source": [
    "Не так уж критично много пропущенных значений, поэтому можно смело их удалять"
   ]
  },
  {
   "cell_type": "code",
   "execution_count": 18,
   "metadata": {},
   "outputs": [],
   "source": [
    "df_train = df_train.dropna()\n",
    "df_test = df_test.dropna()\n",
    "df_full = df_full.dropna()"
   ]
  },
  {
   "cell_type": "code",
   "execution_count": 19,
   "metadata": {},
   "outputs": [
    {
     "name": "stdout",
     "output_type": "stream",
     "text": [
      "Отсутствует пропущенное значение\n",
      "Отсутствует пропущенное значение\n",
      "Отсутствует пропущенное значение\n"
     ]
    }
   ],
   "source": [
    "check_missed_columns(df_train)\n",
    "check_missed_columns(df_test)\n",
    "check_missed_columns(df_full)"
   ]
  },
  {
   "cell_type": "code",
   "execution_count": 20,
   "metadata": {},
   "outputs": [
    {
     "name": "stdout",
     "output_type": "stream",
     "text": [
      "Кол-во дубликатов df_train: 0\n",
      "Кол-во дубликатов df_test: 0\n",
      "Кол-во дубликатов df_full: 0\n"
     ]
    }
   ],
   "source": [
    "# Посчитаем дубликаты\n",
    "print('Кол-во дубликатов df_train:', df_train.duplicated().sum())\n",
    "\n",
    "print('Кол-во дубликатов df_test:', df_test.duplicated().sum())\n",
    "\n",
    "print('Кол-во дубликатов df_full:', df_full.duplicated().sum())"
   ]
  },
  {
   "cell_type": "markdown",
   "metadata": {},
   "source": [
    "### Проверим, что эффективность обогащения рассчитана правильно. Вычислим её на обучающей выборке для признака ```rougher.output.recovery```. Найдем MAE между нашими расчётами и значением признака. Опишим выводы."
   ]
  },
  {
   "cell_type": "markdown",
   "metadata": {},
   "source": [
    "#### Проверим на расчет эффективности обогащения\n",
    "\n",
    "**RECOVERY = (C * (F - T)) / (F * (C - T)) * 100%**\n",
    "\n",
    "\n",
    "где:\n",
    "- C — доля золота в концентрате после флотации/очистки;\n",
    "- F — доля золота в сырье/концентрате до флотации/очистки;\n",
    "- T — доля золота в отвальных хвостах после флотации/очистки."
   ]
  },
  {
   "cell_type": "markdown",
   "metadata": {},
   "source": [
    "Вспомним наименование признаков:\n",
    "\n",
    "```[этап].[тип_параметра].[название_параметра]```\n"
   ]
  },
  {
   "cell_type": "code",
   "execution_count": 21,
   "metadata": {},
   "outputs": [],
   "source": [
    "calculation_effectiveness = {}\n",
    "# Находим долю золота в концентрате после флотации/очистки\n",
    "# т.е. нам интересует эти:\n",
    "# rougher.output.concentrate_au (флотация.параметры_продукта.концентраты_золота)\n",
    "calculation_effectiveness['c_au_output'] = df_train['rougher.output.concentrate_au']\n",
    "\n",
    "# Находим долю золота в сырье/концентрате до флотации/очистки\n",
    "# rougher.input.feed_au (флотация.параметры_сырья.потребление_золота)\n",
    "calculation_effectiveness['f_au_input'] = df_train['rougher.input.feed_au']\n",
    "\n",
    "# Находим долю золота в отвальных хвостах после флотации/очистки\n",
    "# rougher.output.tail_au (флотация.параметры_сырья.отвальные_хвостики)\n",
    "calculation_effectiveness['t_au_concentrate'] = df_train['rougher.output.tail_au']"
   ]
  },
  {
   "cell_type": "code",
   "execution_count": 22,
   "metadata": {},
   "outputs": [],
   "source": [
    "# Вычисляем долю\n",
    "calculation_effectiveness['recovery'] = (calculation_effectiveness['c_au_output'] * (calculation_effectiveness['f_au_input'] - calculation_effectiveness['t_au_concentrate'])) / (calculation_effectiveness['f_au_input'] * (calculation_effectiveness['c_au_output'] - calculation_effectiveness['t_au_concentrate'])) * 100"
   ]
  },
  {
   "cell_type": "code",
   "execution_count": 23,
   "metadata": {},
   "outputs": [
    {
     "name": "stdout",
     "output_type": "stream",
     "text": [
      "Эффективность обогащения:\n",
      "0        87.107763\n",
      "1        86.843261\n",
      "2        86.842308\n",
      "3        87.226430\n",
      "4        86.688794\n",
      "           ...    \n",
      "14144    89.574376\n",
      "14145    87.724007\n",
      "14146    88.890579\n",
      "14147    89.858126\n",
      "14148    89.514960\n",
      "Length: 11017, dtype: float64\n"
     ]
    }
   ],
   "source": [
    "print('Эффективность обогащения:')\n",
    "print(calculation_effectiveness['recovery'])"
   ]
  },
  {
   "cell_type": "markdown",
   "metadata": {},
   "source": [
    "#### Находим MAE между нашими расчетами и значением признака \n",
    "***Чем меньше и близок к 0, тем лучше***"
   ]
  },
  {
   "cell_type": "code",
   "execution_count": 24,
   "metadata": {},
   "outputs": [],
   "source": [
    "calculation_effectiveness['mae'] = mean_absolute_error(df_train['rougher.output.recovery'], calculation_effectiveness['recovery'])"
   ]
  },
  {
   "cell_type": "code",
   "execution_count": 25,
   "metadata": {},
   "outputs": [
    {
     "name": "stdout",
     "output_type": "stream",
     "text": [
      "MAE: 9.82970122149377e-15\n"
     ]
    }
   ],
   "source": [
    "print('MAE:', calculation_effectiveness['mae'])"
   ]
  },
  {
   "cell_type": "markdown",
   "metadata": {},
   "source": [
    "Здесь можно заметить, что значение очень крайно маленькое, т.е. ср.абс. ошибка очень мала, значит отклонения между столбцом rougher.output.recovery и эти данные небольшая"
   ]
  },
  {
   "cell_type": "markdown",
   "metadata": {},
   "source": [
    "#### Проанализируйте признаки, недоступные в тестовой выборке. Что это за параметры? К какому типу относятся?"
   ]
  },
  {
   "cell_type": "code",
   "execution_count": 26,
   "metadata": {
    "scrolled": false
   },
   "outputs": [
    {
     "data": {
      "text/plain": [
       "date                                           object\n",
       "primary_cleaner.input.sulfate                 float64\n",
       "primary_cleaner.input.depressant              float64\n",
       "primary_cleaner.input.feed_size               float64\n",
       "primary_cleaner.input.xanthate                float64\n",
       "primary_cleaner.state.floatbank8_a_air        float64\n",
       "primary_cleaner.state.floatbank8_a_level      float64\n",
       "primary_cleaner.state.floatbank8_b_air        float64\n",
       "primary_cleaner.state.floatbank8_b_level      float64\n",
       "primary_cleaner.state.floatbank8_c_air        float64\n",
       "primary_cleaner.state.floatbank8_c_level      float64\n",
       "primary_cleaner.state.floatbank8_d_air        float64\n",
       "primary_cleaner.state.floatbank8_d_level      float64\n",
       "rougher.input.feed_ag                         float64\n",
       "rougher.input.feed_pb                         float64\n",
       "rougher.input.feed_rate                       float64\n",
       "rougher.input.feed_size                       float64\n",
       "rougher.input.feed_sol                        float64\n",
       "rougher.input.feed_au                         float64\n",
       "rougher.input.floatbank10_sulfate             float64\n",
       "rougher.input.floatbank10_xanthate            float64\n",
       "rougher.input.floatbank11_sulfate             float64\n",
       "rougher.input.floatbank11_xanthate            float64\n",
       "rougher.state.floatbank10_a_air               float64\n",
       "rougher.state.floatbank10_a_level             float64\n",
       "rougher.state.floatbank10_b_air               float64\n",
       "rougher.state.floatbank10_b_level             float64\n",
       "rougher.state.floatbank10_c_air               float64\n",
       "rougher.state.floatbank10_c_level             float64\n",
       "rougher.state.floatbank10_d_air               float64\n",
       "rougher.state.floatbank10_d_level             float64\n",
       "rougher.state.floatbank10_e_air               float64\n",
       "rougher.state.floatbank10_e_level             float64\n",
       "rougher.state.floatbank10_f_air               float64\n",
       "rougher.state.floatbank10_f_level             float64\n",
       "secondary_cleaner.state.floatbank2_a_air      float64\n",
       "secondary_cleaner.state.floatbank2_a_level    float64\n",
       "secondary_cleaner.state.floatbank2_b_air      float64\n",
       "secondary_cleaner.state.floatbank2_b_level    float64\n",
       "secondary_cleaner.state.floatbank3_a_air      float64\n",
       "secondary_cleaner.state.floatbank3_a_level    float64\n",
       "secondary_cleaner.state.floatbank3_b_air      float64\n",
       "secondary_cleaner.state.floatbank3_b_level    float64\n",
       "secondary_cleaner.state.floatbank4_a_air      float64\n",
       "secondary_cleaner.state.floatbank4_a_level    float64\n",
       "secondary_cleaner.state.floatbank4_b_air      float64\n",
       "secondary_cleaner.state.floatbank4_b_level    float64\n",
       "secondary_cleaner.state.floatbank5_a_air      float64\n",
       "secondary_cleaner.state.floatbank5_a_level    float64\n",
       "secondary_cleaner.state.floatbank5_b_air      float64\n",
       "secondary_cleaner.state.floatbank5_b_level    float64\n",
       "secondary_cleaner.state.floatbank6_a_air      float64\n",
       "secondary_cleaner.state.floatbank6_a_level    float64\n",
       "dtype: object"
      ]
     },
     "execution_count": 26,
     "metadata": {},
     "output_type": "execute_result"
    }
   ],
   "source": [
    "# Смотрим типы колонки\n",
    "df_test.dtypes"
   ]
  },
  {
   "cell_type": "markdown",
   "metadata": {},
   "source": [
    "Здесь можно обнаружить, что отсутствуют признаки: `rougher.output.recovery`, `final.output.recovery` вещественного типа"
   ]
  },
  {
   "cell_type": "markdown",
   "metadata": {},
   "source": [
    "### Предобработка данных уже проведены, пропуски удалены, дублирующие значения отсутствуют"
   ]
  },
  {
   "cell_type": "markdown",
   "metadata": {},
   "source": [
    "## Анализ данных"
   ]
  },
  {
   "cell_type": "markdown",
   "metadata": {},
   "source": [
    "### Посмотрим, как меняется концентрация металлов (Au, Ag, Pb) на различных этапах очистки"
   ]
  },
  {
   "cell_type": "code",
   "execution_count": 27,
   "metadata": {},
   "outputs": [],
   "source": [
    "metals = ['au', 'ag', 'pb']\n",
    "\n",
    "# У нас 2 этапа очистки: первый (primary_cleaner) и второй (secondary_cleaner)\n",
    "primary_cleaner = ['rougher.input.feed_', # Вход металлы к флотации\n",
    "                   'rougher.output.concentrate_', # Выход металлы с флотации\n",
    "                   'primary_cleaner.output.concentrate_', # Вход в первый этап очищения, очищаем, и выход с первого этапа очищенные металлы\n",
    "                   'primary_cleaner.output.tail_'] # Отвальные хвосты с 1 этапа\n",
    "\n",
    "secondary_cleaner = ['primary_cleaner.output.concentrate_', # Поступаем к очищению с первого этапа\n",
    "                     'final.output.concentrate_', # Очищаем, и выход второй очищенные металлы (финал)\n",
    "                     'final.output.tail_']  # Отвальные хвосты с 2 этапа"
   ]
  },
  {
   "cell_type": "markdown",
   "metadata": {},
   "source": [
    "#### Золото"
   ]
  },
  {
   "cell_type": "markdown",
   "metadata": {},
   "source": [
    "Рассмотрим гистограмму металла: золото"
   ]
  },
  {
   "cell_type": "code",
   "execution_count": 28,
   "metadata": {
    "scrolled": false
   },
   "outputs": [
    {
     "data": {
      "image/png": "[encoded data removed]",
      "text/plain": [
       "<Figure size 1500x1000 with 1 Axes>"
      ]
     },
     "metadata": {},
     "output_type": "display_data"
    }
   ],
   "source": [
    "# Металл: золото первый этап очистки\n",
    "for stage in primary_cleaner:\n",
    "        plt.title('Гистограмма распределения концентрации золота')\n",
    "        df_train[stage + metals[0]].plot(kind=\"hist\", grid=True, figsize=(15,10), bins=(100), alpha=0.5)\n",
    "        plt.xlabel('Концентрация металла: ' + metals[0])\n",
    "        plt.ylabel('Кол-во: ' + metals[0])\n",
    "        plt.legend(loc='upper right', fontsize='medium')"
   ]
  },
  {
   "cell_type": "markdown",
   "metadata": {},
   "source": [
    "Как видно, что после флотации концетрация увеличилась кратно. Но после первого этапа очистки очистки концентрация металла тоже намного увеличилась, отвальных хвостов практически мало. Рассмотрим концетрацию металла после второго этапа очистки"
   ]
  },
  {
   "cell_type": "code",
   "execution_count": 29,
   "metadata": {},
   "outputs": [
    {
     "data": {
      "image/png": "[encoded data removed]",
      "text/plain": [
       "<Figure size 1500x1000 with 1 Axes>"
      ]
     },
     "metadata": {},
     "output_type": "display_data"
    }
   ],
   "source": [
    "# Металл: золото второй этап очистки\n",
    "for stage in secondary_cleaner:\n",
    "        plt.title('Гистограмма распределения концентрации золота')\n",
    "        df_train[stage + metals[0]].plot(kind=\"hist\", grid=True, figsize=(15,10), bins=(100), alpha=0.5)\n",
    "        plt.xlabel('Концентрация металла: ' + metals[0])\n",
    "        plt.ylabel('Кол-во: ' + metals[0])\n",
    "        plt.legend(loc='upper right', fontsize='medium')"
   ]
  },
  {
   "cell_type": "markdown",
   "metadata": {},
   "source": [
    "Здесь отличный результат получился, концентрация золота после второго этапа получилась высокой"
   ]
  },
  {
   "cell_type": "markdown",
   "metadata": {},
   "source": [
    "#### Серебро"
   ]
  },
  {
   "cell_type": "markdown",
   "metadata": {},
   "source": [
    "Рассмотрим гистограмму металла: серебро"
   ]
  },
  {
   "cell_type": "code",
   "execution_count": 30,
   "metadata": {},
   "outputs": [
    {
     "data": {
      "image/png": "[encoded data removed]",
      "text/plain": [
       "<Figure size 1500x1000 with 1 Axes>"
      ]
     },
     "metadata": {},
     "output_type": "display_data"
    }
   ],
   "source": [
    "# Металл: серебро первый этап очистки\n",
    "for stage in primary_cleaner:\n",
    "        plt.title('Гистограмма распределения концентрации серебра')\n",
    "        df_train[stage + metals[1]].plot(kind=\"hist\", grid=True, figsize=(15,10), bins=(100), alpha=0.5)\n",
    "        plt.xlabel('Концентрация металла: ' + metals[1])\n",
    "        plt.ylabel('Кол-во: ' + metals[1])\n",
    "        plt.legend(loc='upper right', fontsize='medium')"
   ]
  },
  {
   "cell_type": "markdown",
   "metadata": {},
   "source": [
    "Здесь как то печально получилось, что концентрации отвальных хвостов больше остальных. А после первого этапа очистки концентрация серебра намного меньше по сравнению до этапа очистки, т.е. концентрация вернулась до изначального уровня. Рассмотрим, второй этап очистки вывезет?"
   ]
  },
  {
   "cell_type": "code",
   "execution_count": 31,
   "metadata": {},
   "outputs": [
    {
     "data": {
      "image/png": "[encoded data removed]",
      "text/plain": [
       "<Figure size 1500x1000 with 1 Axes>"
      ]
     },
     "metadata": {},
     "output_type": "display_data"
    }
   ],
   "source": [
    "# Металл: золото второй этап очистки\n",
    "for stage in secondary_cleaner:\n",
    "        plt.title('Гистограмма распределения концентрации серебра')\n",
    "        df_train[stage + metals[1]].plot(kind=\"hist\", grid=True, figsize=(15,10), bins=(100), alpha=0.5)\n",
    "        plt.xlabel('Концентрация металла: ' + metals[1])\n",
    "        plt.ylabel('Кол-во: ' + metals[1])\n",
    "        plt.legend(loc='upper right', fontsize='medium')"
   ]
  },
  {
   "cell_type": "markdown",
   "metadata": {},
   "source": [
    "Не совсем уж сладко получилось, концентрация все меньше меньше. Значит, чтобы получить много серебра, придется придерживаться этапа очистки, т.е. после флотации достаточно будет"
   ]
  },
  {
   "cell_type": "markdown",
   "metadata": {},
   "source": [
    "#### Свинец"
   ]
  },
  {
   "cell_type": "markdown",
   "metadata": {},
   "source": [
    "Рассмотрим гистограмму металла: свинец"
   ]
  },
  {
   "cell_type": "code",
   "execution_count": 32,
   "metadata": {},
   "outputs": [
    {
     "data": {
      "image/png": "[encoded data removed]",
      "text/plain": [
       "<Figure size 1500x1000 with 1 Axes>"
      ]
     },
     "metadata": {},
     "output_type": "display_data"
    }
   ],
   "source": [
    "# Металл: свинец первый этап очистки\n",
    "for stage in primary_cleaner:\n",
    "        plt.title('Гистограмма распределения концентрации свинца')\n",
    "        df_train[stage + metals[2]].plot(kind=\"hist\", grid=True, figsize=(15,10), bins=(100), alpha=0.5)\n",
    "        plt.xlabel('Концентрация металла: ' + metals[2])\n",
    "        plt.ylabel('Кол-во: ' + metals[2])\n",
    "        plt.legend(loc='upper right', fontsize='medium')"
   ]
  },
  {
   "cell_type": "markdown",
   "metadata": {},
   "source": [
    "Здесь немного получше по сравнению со серебром, отвальных хвостов меньше и держится на уровне до флотации. После первого этапа очистки концентрация примерно сравняется до этапа очистки. Рассмотрим после второго этапа очистки"
   ]
  },
  {
   "cell_type": "code",
   "execution_count": 33,
   "metadata": {},
   "outputs": [
    {
     "data": {
      "image/png": "[encoded data removed]",
      "text/plain": [
       "<Figure size 1500x1000 with 1 Axes>"
      ]
     },
     "metadata": {},
     "output_type": "display_data"
    }
   ],
   "source": [
    "# Металл: золото второй этап очистки\n",
    "for stage in secondary_cleaner:\n",
    "        plt.title('Гистограмма распределения концентрации свинца')\n",
    "        df_train[stage + metals[2]].plot(kind=\"hist\", grid=True, figsize=(15,10), bins=(100), alpha=0.5)\n",
    "        plt.xlabel('Концентрация металла: ' + metals[2])\n",
    "        plt.ylabel('Кол-во: ' + metals[2])\n",
    "        plt.legend(loc='upper right', fontsize='medium')"
   ]
  },
  {
   "cell_type": "markdown",
   "metadata": {},
   "source": [
    "Отвальных хвостов мало, неплохо получилось. А концентрация после второго очистки получилась примерно такой же, но сужалась в диапазонах, а кол-во металлов кратно увеличилось"
   ]
  },
  {
   "cell_type": "markdown",
   "metadata": {},
   "source": [
    "### Сравним распределения размеров гранул сырья на обучающей и тестовой выборках. Если распределения сильно отличаются друг от друга, оценка модели будет неправильной"
   ]
  },
  {
   "cell_type": "markdown",
   "metadata": {},
   "source": [
    "#### Рассмотрим размер гранул до флотации"
   ]
  },
  {
   "cell_type": "code",
   "execution_count": 34,
   "metadata": {},
   "outputs": [
    {
     "data": {
      "text/plain": [
       "<matplotlib.legend.Legend at 0x28317d3daf0>"
      ]
     },
     "execution_count": 34,
     "metadata": {},
     "output_type": "execute_result"
    },
    {
     "data": {
      "image/png": "[encoded data removed]",
      "text/plain": [
       "<Figure size 1500x1000 with 1 Axes>"
      ]
     },
     "metadata": {},
     "output_type": "display_data"
    }
   ],
   "source": [
    "# Размер гранулы обучающей и тестовой выборки (флотация)\n",
    "plt.title('Гистограмма размера гранула обучающей и тестовой выборки ФЛОТАЦИЯ')\n",
    "\n",
    "df_train['rougher.input.feed_size'].plot(kind=\"hist\", grid=True, figsize=(15,10), bins=(100), alpha=0.5, label='df_train')\n",
    "df_test['rougher.input.feed_size'].plot(kind=\"hist\", grid=True, figsize=(15,10), bins=(100), alpha=0.5, label='df_test')\n",
    "\n",
    "plt.xlabel('Концентрация гранулов: ' + metals[2])\n",
    "plt.ylabel('Кол-во гранулов')\n",
    "plt.legend(loc='upper right', fontsize=20)"
   ]
  },
  {
   "cell_type": "markdown",
   "metadata": {},
   "source": [
    "Немного сужаем диаграмму"
   ]
  },
  {
   "cell_type": "code",
   "execution_count": 35,
   "metadata": {},
   "outputs": [
    {
     "data": {
      "text/plain": [
       "<matplotlib.legend.Legend at 0x2831824a940>"
      ]
     },
     "execution_count": 35,
     "metadata": {},
     "output_type": "execute_result"
    },
    {
     "data": {
      "image/png": "[encoded data removed]",
      "text/plain": [
       "<Figure size 1500x1000 with 1 Axes>"
      ]
     },
     "metadata": {},
     "output_type": "display_data"
    }
   ],
   "source": [
    "# Размер гранулы обучающей и тестовой выборки (флотация)\n",
    "plt.title('Гистограмма размера гранула обучающей и тестовой выборки ФЛОТАЦИЯ')\n",
    "\n",
    "df_train['rougher.input.feed_size'].plot(kind=\"hist\", grid=True, figsize=(15,10), bins=(100), alpha=0.5, label='df_train', range=(0, 120))\n",
    "df_test['rougher.input.feed_size'].plot(kind=\"hist\", grid=True, figsize=(15,10), bins=(100), alpha=0.5, label='df_test', range=(0, 120))\n",
    "\n",
    "plt.xlabel('Концентрация гранулов: ' + metals[2])\n",
    "plt.ylabel('Кол-во гранулов')\n",
    "plt.legend(loc='upper right', fontsize=20)"
   ]
  },
  {
   "cell_type": "markdown",
   "metadata": {},
   "source": [
    "Как видно, что здесь размер примерно одинакова, но у тестовго размер гранулы чуть меньше обучающей"
   ]
  },
  {
   "cell_type": "markdown",
   "metadata": {},
   "source": [
    "#### Рассмотрим размер гранул до первого очистки (после флотации)"
   ]
  },
  {
   "cell_type": "code",
   "execution_count": 36,
   "metadata": {},
   "outputs": [
    {
     "data": {
      "text/plain": [
       "<matplotlib.legend.Legend at 0x28318372d30>"
      ]
     },
     "execution_count": 36,
     "metadata": {},
     "output_type": "execute_result"
    },
    {
     "data": {
      "image/png": "[encoded data removed]",
      "text/plain": [
       "<Figure size 1500x1000 with 1 Axes>"
      ]
     },
     "metadata": {},
     "output_type": "display_data"
    }
   ],
   "source": [
    "# Размер гранулы обучающей и тестовой выборки (после первого этапа очистки)\n",
    "plt.title('Гистограмма размера гранула обучающей и тестовой выборки после первого этапа очистки')\n",
    "\n",
    "df_train['primary_cleaner.input.feed_size'].plot(kind=\"hist\", grid=True, figsize=(15,10), bins=(100), alpha=0.5, label='df_train')\n",
    "df_test['primary_cleaner.input.feed_size'].plot(kind=\"hist\", grid=True, figsize=(15,10), bins=(100), alpha=0.5, label='df_test')\n",
    "\n",
    "plt.xlabel('Концентрация гранулов: ' + metals[2])\n",
    "plt.ylabel('Кол-во гранулов')\n",
    "plt.legend(loc='upper right', fontsize=20)"
   ]
  },
  {
   "cell_type": "markdown",
   "metadata": {},
   "source": [
    "Опять же немного сужаем диаграмму"
   ]
  },
  {
   "cell_type": "code",
   "execution_count": 37,
   "metadata": {},
   "outputs": [
    {
     "data": {
      "text/plain": [
       "<matplotlib.legend.Legend at 0x283182bd820>"
      ]
     },
     "execution_count": 37,
     "metadata": {},
     "output_type": "execute_result"
    },
    {
     "data": {
      "image/png": "[encoded data removed]",
      "text/plain": [
       "<Figure size 1500x1000 with 1 Axes>"
      ]
     },
     "metadata": {},
     "output_type": "display_data"
    }
   ],
   "source": [
    "# Размер гранулы обучающей и тестовой выборки (после первого этапа очистки)\n",
    "plt.title('Гистограмма размера гранула обучающей и тестовой выборки ФЛОТАЦИЯ')\n",
    "\n",
    "df_train['primary_cleaner.input.feed_size'].plot(kind=\"hist\", grid=True, figsize=(15,10), bins=(100), alpha=0.5, label='df_train', range=(4, 10))\n",
    "df_test['primary_cleaner.input.feed_size'].plot(kind=\"hist\", grid=True, figsize=(15,10), bins=(100), alpha=0.5, label='df_test', range=(4, 10))\n",
    "\n",
    "plt.xlabel('Концентрация гранулов: ' + metals[2])\n",
    "plt.ylabel('Кол-во гранулов')\n",
    "plt.legend(loc='upper right', fontsize=20)"
   ]
  },
  {
   "cell_type": "markdown",
   "metadata": {},
   "source": [
    "Здесь тоже видно, что у тестового намного меньше размер гранулы"
   ]
  },
  {
   "cell_type": "markdown",
   "metadata": {},
   "source": [
    "### Исследуем суммарную концентрацию всех веществ на разных стадиях: в сырье, в черновом и финальном концентратах"
   ]
  },
  {
   "cell_type": "code",
   "execution_count": 38,
   "metadata": {},
   "outputs": [
    {
     "name": "stdout",
     "output_type": "stream",
     "text": [
      "Список металлов: ['au', 'ag', 'pb', 'sol']\n"
     ]
    }
   ],
   "source": [
    "# Заполним список новое значение - sol (сульфат) металла\n",
    "metals.append('sol')\n",
    "print('Список металлов:', metals)"
   ]
  },
  {
   "cell_type": "code",
   "execution_count": 39,
   "metadata": {},
   "outputs": [],
   "source": [
    "# Здесь будут храниться концентрации\n",
    "concentrations = pd.DataFrame()\n",
    "# Создадим переменную, чтобы назывались красиво\n",
    "stages_beautiful_name = ['rougher', 'primary_cleaner', 'final']\n",
    "# Сырье, черновой, финальный концентрат\n",
    "stages = ['rougher.output.concentrate_', 'primary_cleaner.output.concentrate_', 'final.output.concentrate_']\n",
    "\n",
    "buff_sum = None"
   ]
  },
  {
   "cell_type": "code",
   "execution_count": 40,
   "metadata": {},
   "outputs": [],
   "source": [
    "for i in range(0, 3):\n",
    "    for metal in metals:\n",
    "        buff_sum =+ df_train[stages[i] + metal]\n",
    "    \n",
    "    # Сохраним все концентрации сырье всех металлов\n",
    "    concentrations[stages_beautiful_name[i]] = buff_sum"
   ]
  },
  {
   "cell_type": "code",
   "execution_count": 41,
   "metadata": {},
   "outputs": [
    {
     "data": {
      "text/plain": [
       "<matplotlib.legend.Legend at 0x28318059220>"
      ]
     },
     "execution_count": 41,
     "metadata": {},
     "output_type": "execute_result"
    },
    {
     "data": {
      "image/png": "[encoded data removed]",
      "text/plain": [
       "<Figure size 1500x1000 with 1 Axes>"
      ]
     },
     "metadata": {},
     "output_type": "display_data"
    }
   ],
   "source": [
    "# Размер гранулы обучающей и тестовой выборки (после первого этапа очистки)\n",
    "plt.title('Гистограмма суммарной концентрации всех веществ на разных стадиях')\n",
    "\n",
    "for stage in stages_beautiful_name:\n",
    "    concentrations[stage].plot(kind=\"hist\", grid=True, figsize=(15,10), bins=(100), alpha=0.5)\n",
    "\n",
    "plt.xlabel('Концентрация всех сырьев' + metals[2])\n",
    "plt.ylabel('Кол-во сырьев')\n",
    "plt.legend(loc='upper left', fontsize=20)"
   ]
  },
  {
   "cell_type": "markdown",
   "metadata": {},
   "source": [
    "Здесь видно, что концентрация сырьев намного больше, чем после первого и второго этапа очистки. После второго этапа очистки кол-во сырьев немного сужается по диапазону концентрации (образовались крутые горки)"
   ]
  },
  {
   "cell_type": "markdown",
   "metadata": {},
   "source": [
    "## Модель"
   ]
  },
  {
   "cell_type": "markdown",
   "metadata": {},
   "source": [
    "### Напишем функцию для вычисления итоговой sMAPE"
   ]
  },
  {
   "cell_type": "code",
   "execution_count": 42,
   "metadata": {},
   "outputs": [],
   "source": [
    "# Функция метрика качества - sMAPE\n",
    "def sMAPE(target, predictions):\n",
    "    return np.mean(2 * abs(target - predictions) / (abs(target) + abs(predictions))) * 100"
   ]
  },
  {
   "cell_type": "code",
   "execution_count": 43,
   "metadata": {},
   "outputs": [],
   "source": [
    "# Итоговое sMAPE\n",
    "def total_sMAPE(rougher, final):\n",
    "    return 0.25 * rougher + 0.75 * final"
   ]
  },
  {
   "cell_type": "markdown",
   "metadata": {},
   "source": [
    "### Обучим разные модели и оцените их качество кросс-валидацией. Выберим лучшую модель и проверим её на тестовой выборке"
   ]
  },
  {
   "cell_type": "markdown",
   "metadata": {},
   "source": [
    "По условию задании написано, что нужно спрогнозировать две величины: \n",
    "\n",
    "- эффективность обогащения чернового концентрата `rougher.output.recovery`\n",
    "- эффективность обогащения финального концентрата `final.output.recovery`"
   ]
  },
  {
   "cell_type": "markdown",
   "metadata": {},
   "source": [
    "#### Обучение и проверка модели"
   ]
  },
  {
   "cell_type": "code",
   "execution_count": 44,
   "metadata": {},
   "outputs": [],
   "source": [
    "features = df_train.drop('date', axis=1)\n",
    "target = df_train[['rougher.output.recovery', 'final.output.recovery']]"
   ]
  },
  {
   "cell_type": "markdown",
   "metadata": {},
   "source": [
    "#### Разобьем данные на обучающую и валидационную выборки в соотношении 75:25"
   ]
  },
  {
   "cell_type": "code",
   "execution_count": 45,
   "metadata": {},
   "outputs": [],
   "source": [
    "# Как обычно, будем разделять 75% данных для обучающей выборки и 25% валидационной выборки\n",
    "features_train, features_valid, target_train, target_valid = train_test_split(features, target, test_size= (1 - 0.75), random_state=12345) "
   ]
  },
  {
   "cell_type": "markdown",
   "metadata": {},
   "source": [
    "#### Линейная регрессия"
   ]
  },
  {
   "cell_type": "code",
   "execution_count": 46,
   "metadata": {},
   "outputs": [
    {
     "name": "stdout",
     "output_type": "stream",
     "text": [
      "-------------------------------------------------------------------------------------------------------------------------------\n",
      "RMSE модели линейной регрессии на валидационной выборке: 2.760948309835416e-11\n",
      "Предсказание модели: 74.7401419764465\n",
      "sMAPE:\n",
      "rougher.output.recovery    3.411978\n",
      "final.output.recovery      0.290381\n",
      "dtype: float64\n",
      "Итоговое sMAPE: 1.070780399296583\n",
      "-------------------------------------------------------------------------------------------------------------------------------\n",
      "CPU times: total: 328 ms\n",
      "Wall time: 341 ms\n"
     ]
    },
    {
     "name": "stderr",
     "output_type": "stream",
     "text": [
      "d:\\Program File\\Anaconda\\lib\\site-packages\\numpy\\core\\fromnumeric.py:3438: FutureWarning: In a future version, DataFrame.mean(axis=None) will return a scalar mean over the entire DataFrame. To retain the old behavior, use 'frame.mean(axis=0)' or just 'frame.mean()'\n",
      "  return mean(axis=axis, dtype=dtype, out=out, **kwargs)\n"
     ]
    }
   ],
   "source": [
    "%%time\n",
    "# Применяем метод линейной регрессии\n",
    "model = LinearRegression()\n",
    "\n",
    "# Обучим модель на тренировочной выборке\n",
    "model.fit(features_train, target_train) \n",
    "\n",
    "# Получим предсказания модели на валидационной выборке\n",
    "predictions_valid = model.predict(features_valid) \n",
    "\n",
    "# Посчитаем значение метрики RMSE на валидационной выборке\n",
    "result = mean_squared_error(target_valid, predictions_valid) ** 0.5\n",
    "\n",
    "print('-'*127)\n",
    "print('RMSE модели линейной регрессии на валидационной выборке:', result)\n",
    "print('Предсказание модели:', predictions_valid.mean())\n",
    "print('sMAPE:')\n",
    "print(sMAPE(target_valid, predictions_valid))\n",
    "print('Итоговое sMAPE:', total_sMAPE(sMAPE(target_valid, predictions_valid)[0], sMAPE(target_valid, predictions_valid)[1]))\n",
    "    \n",
    "print('-'*127)"
   ]
  },
  {
   "cell_type": "markdown",
   "metadata": {},
   "source": [
    "##### Линейная регрессия с кроссвалидацией"
   ]
  },
  {
   "cell_type": "code",
   "execution_count": 47,
   "metadata": {},
   "outputs": [
    {
     "name": "stdout",
     "output_type": "stream",
     "text": [
      "Средняя оценка качества модели: 1.0\n",
      "CPU times: total: 2.14 s\n",
      "Wall time: 538 ms\n"
     ]
    }
   ],
   "source": [
    "%%time\n",
    "model = LinearRegression()\n",
    "\n",
    "scores = cross_val_score(model, features, target, cv=10)\n",
    "final_score = scores.mean()\n",
    "\n",
    "print('Средняя оценка качества модели:', final_score)"
   ]
  },
  {
   "cell_type": "markdown",
   "metadata": {},
   "source": [
    "<div class=\"alert alert-warning\">\n",
    "\n",
    "**V1 Комментарий студента**\n",
    "   \n",
    "   Не слишком переобучена?\n",
    "\n",
    "</div>"
   ]
  },
  {
   "cell_type": "markdown",
   "metadata": {},
   "source": [
    "#### Решающее дерево"
   ]
  },
  {
   "cell_type": "code",
   "execution_count": 48,
   "metadata": {
    "scrolled": true
   },
   "outputs": [
    {
     "name": "stdout",
     "output_type": "stream",
     "text": [
      "===============================================================================================================================\n",
      "-------------------------------------------------------------------------------------------------------------------------------\n",
      "Глубина дерева: 1 ; RMSE модели: 8.066440275188166 ; Предсказание модели: 74.85558010502928\n",
      "sMAPE:\n",
      "rougher.output.recovery    10.320494\n",
      "final.output.recovery       9.449927\n",
      "dtype: float64\n",
      "Итоговое sMAPE: 9.66756864598161\n"
     ]
    },
    {
     "name": "stderr",
     "output_type": "stream",
     "text": [
      "d:\\Program File\\Anaconda\\lib\\site-packages\\numpy\\core\\fromnumeric.py:3438: FutureWarning: In a future version, DataFrame.mean(axis=None) will return a scalar mean over the entire DataFrame. To retain the old behavior, use 'frame.mean(axis=0)' or just 'frame.mean()'\n",
      "  return mean(axis=axis, dtype=dtype, out=out, **kwargs)\n"
     ]
    },
    {
     "name": "stdout",
     "output_type": "stream",
     "text": [
      "-------------------------------------------------------------------------------------------------------------------------------\n",
      "Глубина дерева: 2 ; RMSE модели: 6.145799567033995 ; Предсказание модели: 74.83561868156085\n",
      "sMAPE:\n",
      "rougher.output.recovery    9.081109\n",
      "final.output.recovery      6.823495\n",
      "dtype: float64\n",
      "Итоговое sMAPE: 7.387898744344943\n"
     ]
    },
    {
     "name": "stderr",
     "output_type": "stream",
     "text": [
      "d:\\Program File\\Anaconda\\lib\\site-packages\\numpy\\core\\fromnumeric.py:3438: FutureWarning: In a future version, DataFrame.mean(axis=None) will return a scalar mean over the entire DataFrame. To retain the old behavior, use 'frame.mean(axis=0)' or just 'frame.mean()'\n",
      "  return mean(axis=axis, dtype=dtype, out=out, **kwargs)\n"
     ]
    },
    {
     "name": "stdout",
     "output_type": "stream",
     "text": [
      "-------------------------------------------------------------------------------------------------------------------------------\n",
      "Глубина дерева: 3 ; RMSE модели: 4.855342520637376 ; Предсказание модели: 74.7673639353719\n",
      "sMAPE:\n",
      "rougher.output.recovery    7.935438\n",
      "final.output.recovery      5.035536\n",
      "dtype: float64\n",
      "Итоговое sMAPE: 5.760511367655381\n"
     ]
    },
    {
     "name": "stderr",
     "output_type": "stream",
     "text": [
      "d:\\Program File\\Anaconda\\lib\\site-packages\\numpy\\core\\fromnumeric.py:3438: FutureWarning: In a future version, DataFrame.mean(axis=None) will return a scalar mean over the entire DataFrame. To retain the old behavior, use 'frame.mean(axis=0)' or just 'frame.mean()'\n",
      "  return mean(axis=axis, dtype=dtype, out=out, **kwargs)\n"
     ]
    },
    {
     "name": "stdout",
     "output_type": "stream",
     "text": [
      "-------------------------------------------------------------------------------------------------------------------------------\n",
      "Глубина дерева: 4 ; RMSE модели: 3.8043369282174373 ; Предсказание модели: 74.79272636150765\n",
      "sMAPE:\n",
      "rougher.output.recovery    3.801541\n",
      "final.output.recovery      4.167314\n",
      "dtype: float64\n",
      "Итоговое sMAPE: 4.075870633003269\n"
     ]
    },
    {
     "name": "stderr",
     "output_type": "stream",
     "text": [
      "d:\\Program File\\Anaconda\\lib\\site-packages\\numpy\\core\\fromnumeric.py:3438: FutureWarning: In a future version, DataFrame.mean(axis=None) will return a scalar mean over the entire DataFrame. To retain the old behavior, use 'frame.mean(axis=0)' or just 'frame.mean()'\n",
      "  return mean(axis=axis, dtype=dtype, out=out, **kwargs)\n"
     ]
    },
    {
     "name": "stdout",
     "output_type": "stream",
     "text": [
      "-------------------------------------------------------------------------------------------------------------------------------\n",
      "Глубина дерева: 5 ; RMSE модели: 2.8249781046007376 ; Предсказание модели: 74.83189516447113\n",
      "sMAPE:\n",
      "rougher.output.recovery    2.628761\n",
      "final.output.recovery      3.328753\n",
      "dtype: float64\n",
      "Итоговое sMAPE: 3.1537547959921044\n"
     ]
    },
    {
     "name": "stderr",
     "output_type": "stream",
     "text": [
      "d:\\Program File\\Anaconda\\lib\\site-packages\\numpy\\core\\fromnumeric.py:3438: FutureWarning: In a future version, DataFrame.mean(axis=None) will return a scalar mean over the entire DataFrame. To retain the old behavior, use 'frame.mean(axis=0)' or just 'frame.mean()'\n",
      "  return mean(axis=axis, dtype=dtype, out=out, **kwargs)\n"
     ]
    },
    {
     "name": "stdout",
     "output_type": "stream",
     "text": [
      "-------------------------------------------------------------------------------------------------------------------------------\n",
      "Глубина дерева: 6 ; RMSE модели: 2.1954186596347154 ; Предсказание модели: 74.84464679401474\n",
      "sMAPE:\n",
      "rougher.output.recovery    2.191255\n",
      "final.output.recovery      2.281766\n",
      "dtype: float64\n",
      "Итоговое sMAPE: 2.259138644951952\n"
     ]
    },
    {
     "name": "stderr",
     "output_type": "stream",
     "text": [
      "d:\\Program File\\Anaconda\\lib\\site-packages\\numpy\\core\\fromnumeric.py:3438: FutureWarning: In a future version, DataFrame.mean(axis=None) will return a scalar mean over the entire DataFrame. To retain the old behavior, use 'frame.mean(axis=0)' or just 'frame.mean()'\n",
      "  return mean(axis=axis, dtype=dtype, out=out, **kwargs)\n"
     ]
    },
    {
     "name": "stdout",
     "output_type": "stream",
     "text": [
      "-------------------------------------------------------------------------------------------------------------------------------\n",
      "Глубина дерева: 7 ; RMSE модели: 1.7350789033851275 ; Предсказание модели: 74.78413454653725\n",
      "sMAPE:\n",
      "rougher.output.recovery    1.584574\n",
      "final.output.recovery      1.826112\n",
      "dtype: float64\n",
      "Итоговое sMAPE: 1.7657274996362826\n"
     ]
    },
    {
     "name": "stderr",
     "output_type": "stream",
     "text": [
      "d:\\Program File\\Anaconda\\lib\\site-packages\\numpy\\core\\fromnumeric.py:3438: FutureWarning: In a future version, DataFrame.mean(axis=None) will return a scalar mean over the entire DataFrame. To retain the old behavior, use 'frame.mean(axis=0)' or just 'frame.mean()'\n",
      "  return mean(axis=axis, dtype=dtype, out=out, **kwargs)\n"
     ]
    },
    {
     "name": "stdout",
     "output_type": "stream",
     "text": [
      "-------------------------------------------------------------------------------------------------------------------------------\n",
      "Глубина дерева: 8 ; RMSE модели: 1.442544156889559 ; Предсказание модели: 74.78074297638237\n",
      "sMAPE:\n",
      "rougher.output.recovery    1.236240\n",
      "final.output.recovery      1.365028\n",
      "dtype: float64\n",
      "Итоговое sMAPE: 1.3328313957807234\n"
     ]
    },
    {
     "name": "stderr",
     "output_type": "stream",
     "text": [
      "d:\\Program File\\Anaconda\\lib\\site-packages\\numpy\\core\\fromnumeric.py:3438: FutureWarning: In a future version, DataFrame.mean(axis=None) will return a scalar mean over the entire DataFrame. To retain the old behavior, use 'frame.mean(axis=0)' or just 'frame.mean()'\n",
      "  return mean(axis=axis, dtype=dtype, out=out, **kwargs)\n"
     ]
    },
    {
     "name": "stdout",
     "output_type": "stream",
     "text": [
      "-------------------------------------------------------------------------------------------------------------------------------\n",
      "Глубина дерева: 9 ; RMSE модели: 1.2611604405237433 ; Предсказание модели: 74.77640399892223\n",
      "sMAPE:\n",
      "rougher.output.recovery    0.954829\n",
      "final.output.recovery      1.050092\n",
      "dtype: float64\n",
      "Итоговое sMAPE: 1.026275955394932\n"
     ]
    },
    {
     "name": "stderr",
     "output_type": "stream",
     "text": [
      "d:\\Program File\\Anaconda\\lib\\site-packages\\numpy\\core\\fromnumeric.py:3438: FutureWarning: In a future version, DataFrame.mean(axis=None) will return a scalar mean over the entire DataFrame. To retain the old behavior, use 'frame.mean(axis=0)' or just 'frame.mean()'\n",
      "  return mean(axis=axis, dtype=dtype, out=out, **kwargs)\n"
     ]
    },
    {
     "name": "stdout",
     "output_type": "stream",
     "text": [
      "-------------------------------------------------------------------------------------------------------------------------------\n",
      "Глубина дерева: 10 ; RMSE модели: 1.2135846902903364 ; Предсказание модели: 74.76133040912137\n",
      "sMAPE:\n",
      "rougher.output.recovery    0.821461\n",
      "final.output.recovery      0.823861\n",
      "dtype: float64\n",
      "Итоговое sMAPE: 0.8232605371466705\n"
     ]
    },
    {
     "name": "stderr",
     "output_type": "stream",
     "text": [
      "d:\\Program File\\Anaconda\\lib\\site-packages\\numpy\\core\\fromnumeric.py:3438: FutureWarning: In a future version, DataFrame.mean(axis=None) will return a scalar mean over the entire DataFrame. To retain the old behavior, use 'frame.mean(axis=0)' or just 'frame.mean()'\n",
      "  return mean(axis=axis, dtype=dtype, out=out, **kwargs)\n"
     ]
    },
    {
     "name": "stdout",
     "output_type": "stream",
     "text": [
      "-------------------------------------------------------------------------------------------------------------------------------\n",
      "Глубина дерева: 11 ; RMSE модели: 1.160553641710983 ; Предсказание модели: 74.75724281482783\n",
      "sMAPE:\n",
      "rougher.output.recovery    0.701381\n",
      "final.output.recovery      0.699123\n",
      "dtype: float64\n",
      "Итоговое sMAPE: 0.6996876650427485\n"
     ]
    },
    {
     "name": "stderr",
     "output_type": "stream",
     "text": [
      "d:\\Program File\\Anaconda\\lib\\site-packages\\numpy\\core\\fromnumeric.py:3438: FutureWarning: In a future version, DataFrame.mean(axis=None) will return a scalar mean over the entire DataFrame. To retain the old behavior, use 'frame.mean(axis=0)' or just 'frame.mean()'\n",
      "  return mean(axis=axis, dtype=dtype, out=out, **kwargs)\n"
     ]
    },
    {
     "name": "stdout",
     "output_type": "stream",
     "text": [
      "-------------------------------------------------------------------------------------------------------------------------------\n",
      "Глубина дерева: 12 ; RMSE модели: 1.1317778805180005 ; Предсказание модели: 74.75291102004272\n",
      "sMAPE:\n",
      "rougher.output.recovery    0.660707\n",
      "final.output.recovery      0.607726\n",
      "dtype: float64\n",
      "Итоговое sMAPE: 0.6209708142728397\n"
     ]
    },
    {
     "name": "stderr",
     "output_type": "stream",
     "text": [
      "d:\\Program File\\Anaconda\\lib\\site-packages\\numpy\\core\\fromnumeric.py:3438: FutureWarning: In a future version, DataFrame.mean(axis=None) will return a scalar mean over the entire DataFrame. To retain the old behavior, use 'frame.mean(axis=0)' or just 'frame.mean()'\n",
      "  return mean(axis=axis, dtype=dtype, out=out, **kwargs)\n"
     ]
    },
    {
     "name": "stdout",
     "output_type": "stream",
     "text": [
      "-------------------------------------------------------------------------------------------------------------------------------\n",
      "Глубина дерева: 13 ; RMSE модели: 1.1349310344898618 ; Предсказание модели: 74.76390096589178\n",
      "sMAPE:\n",
      "rougher.output.recovery    0.637011\n",
      "final.output.recovery      0.612488\n",
      "dtype: float64\n",
      "Итоговое sMAPE: 0.6186186199189366\n"
     ]
    },
    {
     "name": "stderr",
     "output_type": "stream",
     "text": [
      "d:\\Program File\\Anaconda\\lib\\site-packages\\numpy\\core\\fromnumeric.py:3438: FutureWarning: In a future version, DataFrame.mean(axis=None) will return a scalar mean over the entire DataFrame. To retain the old behavior, use 'frame.mean(axis=0)' or just 'frame.mean()'\n",
      "  return mean(axis=axis, dtype=dtype, out=out, **kwargs)\n"
     ]
    },
    {
     "name": "stdout",
     "output_type": "stream",
     "text": [
      "-------------------------------------------------------------------------------------------------------------------------------\n",
      "Глубина дерева: 14 ; RMSE модели: 1.1713663779932717 ; Предсказание модели: 74.76238127285332\n",
      "sMAPE:\n",
      "rougher.output.recovery    0.658727\n",
      "final.output.recovery      0.615819\n",
      "dtype: float64\n",
      "Итоговое sMAPE: 0.6265460934392395\n"
     ]
    },
    {
     "name": "stderr",
     "output_type": "stream",
     "text": [
      "d:\\Program File\\Anaconda\\lib\\site-packages\\numpy\\core\\fromnumeric.py:3438: FutureWarning: In a future version, DataFrame.mean(axis=None) will return a scalar mean over the entire DataFrame. To retain the old behavior, use 'frame.mean(axis=0)' or just 'frame.mean()'\n",
      "  return mean(axis=axis, dtype=dtype, out=out, **kwargs)\n"
     ]
    },
    {
     "name": "stdout",
     "output_type": "stream",
     "text": [
      "-------------------------------------------------------------------------------------------------------------------------------\n",
      "Глубина дерева: 15 ; RMSE модели: 1.1696580487970065 ; Предсказание модели: 74.7429659877717\n",
      "sMAPE:\n",
      "rougher.output.recovery    0.651261\n",
      "final.output.recovery      0.632362\n",
      "dtype: float64\n",
      "Итоговое sMAPE: 0.6370869629004569\n",
      "===============================================================================================================================\n",
      "\n",
      "RMSE наилучшей модели на валидационной выборке: 1.1317778805180005 Глубина дерева: 12\n",
      "Лучшие среднее предсказание модели: 74.75291102004272\n",
      "===============================================================================================================================\n"
     ]
    },
    {
     "name": "stderr",
     "output_type": "stream",
     "text": [
      "d:\\Program File\\Anaconda\\lib\\site-packages\\numpy\\core\\fromnumeric.py:3438: FutureWarning: In a future version, DataFrame.mean(axis=None) will return a scalar mean over the entire DataFrame. To retain the old behavior, use 'frame.mean(axis=0)' or just 'frame.mean()'\n",
      "  return mean(axis=axis, dtype=dtype, out=out, **kwargs)\n"
     ]
    }
   ],
   "source": [
    "best_model = None\n",
    "best_RMSE = 10000\n",
    "best_depth = 0\n",
    "\n",
    "print('='*127)\n",
    "for depth in range(1, 16):\n",
    "\n",
    "    # Инициализируем модель DecisionTreeRegressor с параметром random_state=12345 и max_depth=depth\n",
    "    model = DecisionTreeRegressor(random_state = 12345, max_depth = depth)\n",
    "\n",
    "    # Обучим модель на тренировочной выборке\n",
    "    model.fit(features_train, target_train)\n",
    "\n",
    "    # Получим предсказания модели на валидационной выборке\n",
    "    predictions_valid = model.predict(features_valid) \n",
    "\n",
    "    # Посчитаем значение метрики RMSE на валидационной выборке\n",
    "    RMSE = mean_squared_error(target_valid, predictions_valid) ** 0.5\n",
    "    print('-'*127)\n",
    "    print('Глубина дерева:', depth, '; RMSE модели:', RMSE, '; Предсказание модели:', predictions_valid.mean())\n",
    "    print('sMAPE:')\n",
    "    print(sMAPE(target_valid, predictions_valid))\n",
    "    print('Итоговое sMAPE:', total_sMAPE(sMAPE(target_valid, predictions_valid)[0], sMAPE(target_valid, predictions_valid)[1]))\n",
    "\n",
    "    if RMSE < best_RMSE:\n",
    "        best_model = model\n",
    "        best_RMSE = RMSE\n",
    "        best_depth = depth\n",
    "        best_predictions = predictions_valid\n",
    "\n",
    "print('='*127)\n",
    "print()\n",
    "print(\"RMSE наилучшей модели на валидационной выборке:\", best_RMSE, \"Глубина дерева:\", best_depth)\n",
    "print('Лучшие среднее предсказание модели:', best_predictions.mean())\n",
    "\n",
    "print('='*127)"
   ]
  },
  {
   "cell_type": "markdown",
   "metadata": {},
   "source": [
    "##### Решающее дерево с кроссвалидацией"
   ]
  },
  {
   "cell_type": "code",
   "execution_count": 49,
   "metadata": {
    "scrolled": true
   },
   "outputs": [
    {
     "name": "stdout",
     "output_type": "stream",
     "text": [
      "===============================================================================================================================\n",
      "-------------------------------------------------------------------------------------------------------------------------------\n",
      "Глубина дерева: 1 ; RMSE модели: 8.066440275188166 ; Предсказание модели: 74.85558010502928\n",
      "Средняя оценка качества модели: 0.10244366040483543\n",
      "sMAPE:\n",
      "rougher.output.recovery    10.320494\n",
      "final.output.recovery       9.449927\n",
      "dtype: float64\n",
      "Итоговое sMAPE: 9.66756864598161\n"
     ]
    },
    {
     "name": "stderr",
     "output_type": "stream",
     "text": [
      "d:\\Program File\\Anaconda\\lib\\site-packages\\numpy\\core\\fromnumeric.py:3438: FutureWarning: In a future version, DataFrame.mean(axis=None) will return a scalar mean over the entire DataFrame. To retain the old behavior, use 'frame.mean(axis=0)' or just 'frame.mean()'\n",
      "  return mean(axis=axis, dtype=dtype, out=out, **kwargs)\n"
     ]
    },
    {
     "name": "stdout",
     "output_type": "stream",
     "text": [
      "-------------------------------------------------------------------------------------------------------------------------------\n",
      "Глубина дерева: 2 ; RMSE модели: 6.145799567033995 ; Предсказание модели: 74.83561868156085\n",
      "Средняя оценка качества модели: 0.4593003386193977\n",
      "sMAPE:\n",
      "rougher.output.recovery    9.081109\n",
      "final.output.recovery      6.823495\n",
      "dtype: float64\n",
      "Итоговое sMAPE: 7.387898744344943\n"
     ]
    },
    {
     "name": "stderr",
     "output_type": "stream",
     "text": [
      "d:\\Program File\\Anaconda\\lib\\site-packages\\numpy\\core\\fromnumeric.py:3438: FutureWarning: In a future version, DataFrame.mean(axis=None) will return a scalar mean over the entire DataFrame. To retain the old behavior, use 'frame.mean(axis=0)' or just 'frame.mean()'\n",
      "  return mean(axis=axis, dtype=dtype, out=out, **kwargs)\n"
     ]
    },
    {
     "name": "stdout",
     "output_type": "stream",
     "text": [
      "-------------------------------------------------------------------------------------------------------------------------------\n",
      "Глубина дерева: 3 ; RMSE модели: 4.855342520637376 ; Предсказание модели: 74.7673639353719\n",
      "Средняя оценка качества модели: 0.6149172475835512\n",
      "sMAPE:\n",
      "rougher.output.recovery    7.935438\n",
      "final.output.recovery      5.035536\n",
      "dtype: float64\n",
      "Итоговое sMAPE: 5.760511367655381\n"
     ]
    },
    {
     "name": "stderr",
     "output_type": "stream",
     "text": [
      "d:\\Program File\\Anaconda\\lib\\site-packages\\numpy\\core\\fromnumeric.py:3438: FutureWarning: In a future version, DataFrame.mean(axis=None) will return a scalar mean over the entire DataFrame. To retain the old behavior, use 'frame.mean(axis=0)' or just 'frame.mean()'\n",
      "  return mean(axis=axis, dtype=dtype, out=out, **kwargs)\n"
     ]
    },
    {
     "name": "stdout",
     "output_type": "stream",
     "text": [
      "-------------------------------------------------------------------------------------------------------------------------------\n",
      "Глубина дерева: 4 ; RMSE модели: 3.8043369282174373 ; Предсказание модели: 74.79272636150765\n",
      "Средняя оценка качества модели: 0.7625814411151219\n",
      "sMAPE:\n",
      "rougher.output.recovery    3.801541\n",
      "final.output.recovery      4.167314\n",
      "dtype: float64\n",
      "Итоговое sMAPE: 4.075870633003269\n"
     ]
    },
    {
     "name": "stderr",
     "output_type": "stream",
     "text": [
      "d:\\Program File\\Anaconda\\lib\\site-packages\\numpy\\core\\fromnumeric.py:3438: FutureWarning: In a future version, DataFrame.mean(axis=None) will return a scalar mean over the entire DataFrame. To retain the old behavior, use 'frame.mean(axis=0)' or just 'frame.mean()'\n",
      "  return mean(axis=axis, dtype=dtype, out=out, **kwargs)\n"
     ]
    },
    {
     "name": "stdout",
     "output_type": "stream",
     "text": [
      "-------------------------------------------------------------------------------------------------------------------------------\n",
      "Глубина дерева: 5 ; RMSE модели: 2.8249781046007376 ; Предсказание модели: 74.83189516447113\n",
      "Средняя оценка качества модели: 0.8581964219256047\n",
      "sMAPE:\n",
      "rougher.output.recovery    2.628761\n",
      "final.output.recovery      3.328753\n",
      "dtype: float64\n",
      "Итоговое sMAPE: 3.1537547959921044\n"
     ]
    },
    {
     "name": "stderr",
     "output_type": "stream",
     "text": [
      "d:\\Program File\\Anaconda\\lib\\site-packages\\numpy\\core\\fromnumeric.py:3438: FutureWarning: In a future version, DataFrame.mean(axis=None) will return a scalar mean over the entire DataFrame. To retain the old behavior, use 'frame.mean(axis=0)' or just 'frame.mean()'\n",
      "  return mean(axis=axis, dtype=dtype, out=out, **kwargs)\n"
     ]
    },
    {
     "name": "stdout",
     "output_type": "stream",
     "text": [
      "-------------------------------------------------------------------------------------------------------------------------------\n",
      "Глубина дерева: 6 ; RMSE модели: 2.1954186596347154 ; Предсказание модели: 74.84464679401474\n",
      "Средняя оценка качества модели: 0.9145547960187865\n",
      "sMAPE:\n",
      "rougher.output.recovery    2.191255\n",
      "final.output.recovery      2.281766\n",
      "dtype: float64\n",
      "Итоговое sMAPE: 2.259138644951952\n"
     ]
    },
    {
     "name": "stderr",
     "output_type": "stream",
     "text": [
      "d:\\Program File\\Anaconda\\lib\\site-packages\\numpy\\core\\fromnumeric.py:3438: FutureWarning: In a future version, DataFrame.mean(axis=None) will return a scalar mean over the entire DataFrame. To retain the old behavior, use 'frame.mean(axis=0)' or just 'frame.mean()'\n",
      "  return mean(axis=axis, dtype=dtype, out=out, **kwargs)\n"
     ]
    },
    {
     "name": "stdout",
     "output_type": "stream",
     "text": [
      "-------------------------------------------------------------------------------------------------------------------------------\n",
      "Глубина дерева: 7 ; RMSE модели: 1.7350789033851275 ; Предсказание модели: 74.78413454653725\n",
      "Средняя оценка качества модели: 0.9512227867695195\n",
      "sMAPE:\n",
      "rougher.output.recovery    1.584574\n",
      "final.output.recovery      1.826112\n",
      "dtype: float64\n",
      "Итоговое sMAPE: 1.7657274996362826\n"
     ]
    },
    {
     "name": "stderr",
     "output_type": "stream",
     "text": [
      "d:\\Program File\\Anaconda\\lib\\site-packages\\numpy\\core\\fromnumeric.py:3438: FutureWarning: In a future version, DataFrame.mean(axis=None) will return a scalar mean over the entire DataFrame. To retain the old behavior, use 'frame.mean(axis=0)' or just 'frame.mean()'\n",
      "  return mean(axis=axis, dtype=dtype, out=out, **kwargs)\n"
     ]
    },
    {
     "name": "stdout",
     "output_type": "stream",
     "text": [
      "-------------------------------------------------------------------------------------------------------------------------------\n",
      "Глубина дерева: 8 ; RMSE модели: 1.442544156889559 ; Предсказание модели: 74.78074297638237\n",
      "Средняя оценка качества модели: 0.9684593487006186\n",
      "sMAPE:\n",
      "rougher.output.recovery    1.236240\n",
      "final.output.recovery      1.365028\n",
      "dtype: float64\n",
      "Итоговое sMAPE: 1.3328313957807234\n"
     ]
    },
    {
     "name": "stderr",
     "output_type": "stream",
     "text": [
      "d:\\Program File\\Anaconda\\lib\\site-packages\\numpy\\core\\fromnumeric.py:3438: FutureWarning: In a future version, DataFrame.mean(axis=None) will return a scalar mean over the entire DataFrame. To retain the old behavior, use 'frame.mean(axis=0)' or just 'frame.mean()'\n",
      "  return mean(axis=axis, dtype=dtype, out=out, **kwargs)\n"
     ]
    },
    {
     "name": "stdout",
     "output_type": "stream",
     "text": [
      "-------------------------------------------------------------------------------------------------------------------------------\n",
      "Глубина дерева: 9 ; RMSE модели: 1.2611604405237433 ; Предсказание модели: 74.77640399892223\n",
      "Средняя оценка качества модели: 0.9721903745264628\n",
      "sMAPE:\n",
      "rougher.output.recovery    0.954829\n",
      "final.output.recovery      1.050092\n",
      "dtype: float64\n",
      "Итоговое sMAPE: 1.026275955394932\n"
     ]
    },
    {
     "name": "stderr",
     "output_type": "stream",
     "text": [
      "d:\\Program File\\Anaconda\\lib\\site-packages\\numpy\\core\\fromnumeric.py:3438: FutureWarning: In a future version, DataFrame.mean(axis=None) will return a scalar mean over the entire DataFrame. To retain the old behavior, use 'frame.mean(axis=0)' or just 'frame.mean()'\n",
      "  return mean(axis=axis, dtype=dtype, out=out, **kwargs)\n"
     ]
    },
    {
     "name": "stdout",
     "output_type": "stream",
     "text": [
      "-------------------------------------------------------------------------------------------------------------------------------\n",
      "Глубина дерева: 10 ; RMSE модели: 1.2135846902903364 ; Предсказание модели: 74.76133040912137\n",
      "Средняя оценка качества модели: 0.9708038408982324\n",
      "sMAPE:\n",
      "rougher.output.recovery    0.821461\n",
      "final.output.recovery      0.823861\n",
      "dtype: float64\n",
      "Итоговое sMAPE: 0.8232605371466705\n"
     ]
    },
    {
     "name": "stderr",
     "output_type": "stream",
     "text": [
      "d:\\Program File\\Anaconda\\lib\\site-packages\\numpy\\core\\fromnumeric.py:3438: FutureWarning: In a future version, DataFrame.mean(axis=None) will return a scalar mean over the entire DataFrame. To retain the old behavior, use 'frame.mean(axis=0)' or just 'frame.mean()'\n",
      "  return mean(axis=axis, dtype=dtype, out=out, **kwargs)\n"
     ]
    },
    {
     "name": "stdout",
     "output_type": "stream",
     "text": [
      "-------------------------------------------------------------------------------------------------------------------------------\n",
      "Глубина дерева: 11 ; RMSE модели: 1.160553641710983 ; Предсказание модели: 74.75724281482783\n",
      "Средняя оценка качества модели: 0.9763947850100783\n",
      "sMAPE:\n",
      "rougher.output.recovery    0.701381\n",
      "final.output.recovery      0.699123\n",
      "dtype: float64\n",
      "Итоговое sMAPE: 0.6996876650427485\n"
     ]
    },
    {
     "name": "stderr",
     "output_type": "stream",
     "text": [
      "d:\\Program File\\Anaconda\\lib\\site-packages\\numpy\\core\\fromnumeric.py:3438: FutureWarning: In a future version, DataFrame.mean(axis=None) will return a scalar mean over the entire DataFrame. To retain the old behavior, use 'frame.mean(axis=0)' or just 'frame.mean()'\n",
      "  return mean(axis=axis, dtype=dtype, out=out, **kwargs)\n"
     ]
    },
    {
     "name": "stdout",
     "output_type": "stream",
     "text": [
      "-------------------------------------------------------------------------------------------------------------------------------\n",
      "Глубина дерева: 12 ; RMSE модели: 1.1317778805180005 ; Предсказание модели: 74.75291102004272\n",
      "Средняя оценка качества модели: 0.9743956890658192\n",
      "sMAPE:\n",
      "rougher.output.recovery    0.660707\n",
      "final.output.recovery      0.607726\n",
      "dtype: float64\n",
      "Итоговое sMAPE: 0.6209708142728397\n"
     ]
    },
    {
     "name": "stderr",
     "output_type": "stream",
     "text": [
      "d:\\Program File\\Anaconda\\lib\\site-packages\\numpy\\core\\fromnumeric.py:3438: FutureWarning: In a future version, DataFrame.mean(axis=None) will return a scalar mean over the entire DataFrame. To retain the old behavior, use 'frame.mean(axis=0)' or just 'frame.mean()'\n",
      "  return mean(axis=axis, dtype=dtype, out=out, **kwargs)\n"
     ]
    },
    {
     "name": "stdout",
     "output_type": "stream",
     "text": [
      "-------------------------------------------------------------------------------------------------------------------------------\n",
      "Глубина дерева: 13 ; RMSE модели: 1.1349310344898618 ; Предсказание модели: 74.76390096589178\n",
      "Средняя оценка качества модели: 0.9751341051748271\n",
      "sMAPE:\n",
      "rougher.output.recovery    0.637011\n",
      "final.output.recovery      0.612488\n",
      "dtype: float64\n",
      "Итоговое sMAPE: 0.6186186199189366\n"
     ]
    },
    {
     "name": "stderr",
     "output_type": "stream",
     "text": [
      "d:\\Program File\\Anaconda\\lib\\site-packages\\numpy\\core\\fromnumeric.py:3438: FutureWarning: In a future version, DataFrame.mean(axis=None) will return a scalar mean over the entire DataFrame. To retain the old behavior, use 'frame.mean(axis=0)' or just 'frame.mean()'\n",
      "  return mean(axis=axis, dtype=dtype, out=out, **kwargs)\n"
     ]
    },
    {
     "name": "stdout",
     "output_type": "stream",
     "text": [
      "-------------------------------------------------------------------------------------------------------------------------------\n",
      "Глубина дерева: 14 ; RMSE модели: 1.1713663779932717 ; Предсказание модели: 74.76238127285332\n",
      "Средняя оценка качества модели: 0.9756781358520954\n",
      "sMAPE:\n",
      "rougher.output.recovery    0.658727\n",
      "final.output.recovery      0.615819\n",
      "dtype: float64\n",
      "Итоговое sMAPE: 0.6265460934392395\n"
     ]
    },
    {
     "name": "stderr",
     "output_type": "stream",
     "text": [
      "d:\\Program File\\Anaconda\\lib\\site-packages\\numpy\\core\\fromnumeric.py:3438: FutureWarning: In a future version, DataFrame.mean(axis=None) will return a scalar mean over the entire DataFrame. To retain the old behavior, use 'frame.mean(axis=0)' or just 'frame.mean()'\n",
      "  return mean(axis=axis, dtype=dtype, out=out, **kwargs)\n"
     ]
    },
    {
     "name": "stdout",
     "output_type": "stream",
     "text": [
      "-------------------------------------------------------------------------------------------------------------------------------\n",
      "Глубина дерева: 15 ; RMSE модели: 1.1696580487970065 ; Предсказание модели: 74.7429659877717\n",
      "Средняя оценка качества модели: 0.9740589769409844\n",
      "sMAPE:\n",
      "rougher.output.recovery    0.651261\n",
      "final.output.recovery      0.632362\n",
      "dtype: float64\n",
      "Итоговое sMAPE: 0.6370869629004569\n",
      "===============================================================================================================================\n",
      "\n",
      "RMSE наилучшей модели на валидационной выборке: 1.160553641710983 Глубина дерева: 11\n",
      "Лучшие среднее предсказание модели: 74.75724281482783\n",
      "Лучшая средняя оценка качества модели: 0.9763947850100783\n",
      "===============================================================================================================================\n",
      "CPU times: total: 55.8 s\n",
      "Wall time: 2min 1s\n"
     ]
    },
    {
     "name": "stderr",
     "output_type": "stream",
     "text": [
      "d:\\Program File\\Anaconda\\lib\\site-packages\\numpy\\core\\fromnumeric.py:3438: FutureWarning: In a future version, DataFrame.mean(axis=None) will return a scalar mean over the entire DataFrame. To retain the old behavior, use 'frame.mean(axis=0)' or just 'frame.mean()'\n",
      "  return mean(axis=axis, dtype=dtype, out=out, **kwargs)\n"
     ]
    }
   ],
   "source": [
    "%%time\n",
    "best_model = None\n",
    "best_RMSE = 10000\n",
    "best_depth = 0\n",
    "best_final_score = 0\n",
    "\n",
    "print('='*127)\n",
    "for depth in range(1, 16):\n",
    "\n",
    "    # Инициализируем модель DecisionTreeRegressor с параметром random_state=12345 и max_depth=depth\n",
    "    model = DecisionTreeRegressor(random_state = 12345, max_depth = depth)\n",
    "\n",
    "    # Обучим модель на тренировочной выборке\n",
    "    model.fit(features_train, target_train)\n",
    "\n",
    "    # Получим предсказания модели на валидационной выборке\n",
    "    predictions_valid = model.predict(features_valid) \n",
    "\n",
    "    # Посчитаем значение метрики RMSE на валидационной выборке\n",
    "    RMSE = mean_squared_error(target_valid, predictions_valid) ** 0.5\n",
    "    \n",
    "    # Кроссвалидация\n",
    "    scores = cross_val_score(model, features, target, cv=5)\n",
    "    \n",
    "    final_score = scores.mean()\n",
    "    print('-'*127)\n",
    "    print('Глубина дерева:', depth, '; RMSE модели:', RMSE, '; Предсказание модели:', predictions_valid.mean())\n",
    "    print('Средняя оценка качества модели:', final_score)\n",
    "    print('sMAPE:')\n",
    "    print(sMAPE(target_valid, predictions_valid))\n",
    "    print('Итоговое sMAPE:', total_sMAPE(sMAPE(target_valid, predictions_valid)[0], sMAPE(target_valid, predictions_valid)[1]))\n",
    "\n",
    "    if final_score > best_final_score:\n",
    "        best_model = model\n",
    "        best_RMSE = RMSE\n",
    "        best_depth = depth\n",
    "        best_predictions = predictions_valid\n",
    "        best_final_score = final_score\n",
    "        \n",
    "print('='*127)\n",
    "print()\n",
    "print(\"RMSE наилучшей модели на валидационной выборке:\", best_RMSE, \"Глубина дерева:\", best_depth)\n",
    "print('Лучшие среднее предсказание модели:', best_predictions.mean())\n",
    "print('Лучшая средняя оценка качества модели:', best_final_score)\n",
    "print('='*127)"
   ]
  },
  {
   "cell_type": "markdown",
   "metadata": {},
   "source": [
    "Средняя оценка качества оказалась 0,97. Можно предположить, что модель переобучена, что и предыдующая модель - Линейная регрессия, качество обучения которой составляет аж 1,0. А предсказание составляет 74,75, что и вполне удовлетворяет"
   ]
  },
  {
   "cell_type": "markdown",
   "metadata": {},
   "source": [
    "#### Случайный лес"
   ]
  },
  {
   "cell_type": "code",
   "execution_count": 50,
   "metadata": {
    "scrolled": true
   },
   "outputs": [
    {
     "name": "stdout",
     "output_type": "stream",
     "text": [
      "===============================================================================================================================\n",
      "\n",
      "+++++++++++++++++++++++++++++++++++++++++++++++++++++++++++++++++++++++++++++++++++++++++++++++++++++++++++++++++++++++++++++++\n",
      "-------------------------------------------------------------------------------------------------------------------------------\n",
      "Глубина дерева: 1 ; RMSE модели: 8.048747080574364 ; Предсказание модели: 74.88800216382307\n",
      "sMAPE:\n",
      "rougher.output.recovery    10.269289\n",
      "final.output.recovery       9.447235\n",
      "dtype: float64\n",
      "Итоговое sMAPE: 9.652748848224475\n"
     ]
    },
    {
     "name": "stderr",
     "output_type": "stream",
     "text": [
      "d:\\Program File\\Anaconda\\lib\\site-packages\\numpy\\core\\fromnumeric.py:3438: FutureWarning: In a future version, DataFrame.mean(axis=None) will return a scalar mean over the entire DataFrame. To retain the old behavior, use 'frame.mean(axis=0)' or just 'frame.mean()'\n",
      "  return mean(axis=axis, dtype=dtype, out=out, **kwargs)\n"
     ]
    },
    {
     "name": "stdout",
     "output_type": "stream",
     "text": [
      "-------------------------------------------------------------------------------------------------------------------------------\n",
      "Глубина дерева: 2 ; RMSE модели: 6.0365628059699 ; Предсказание модели: 74.87712794221522\n",
      "sMAPE:\n",
      "rougher.output.recovery    8.986324\n",
      "final.output.recovery      6.517304\n",
      "dtype: float64\n",
      "Итоговое sMAPE: 7.13455925951195\n"
     ]
    },
    {
     "name": "stderr",
     "output_type": "stream",
     "text": [
      "d:\\Program File\\Anaconda\\lib\\site-packages\\numpy\\core\\fromnumeric.py:3438: FutureWarning: In a future version, DataFrame.mean(axis=None) will return a scalar mean over the entire DataFrame. To retain the old behavior, use 'frame.mean(axis=0)' or just 'frame.mean()'\n",
      "  return mean(axis=axis, dtype=dtype, out=out, **kwargs)\n"
     ]
    },
    {
     "name": "stdout",
     "output_type": "stream",
     "text": [
      "-------------------------------------------------------------------------------------------------------------------------------\n",
      "Глубина дерева: 3 ; RMSE модели: 4.587044501165565 ; Предсказание модели: 74.77640721958849\n",
      "sMAPE:\n",
      "rougher.output.recovery    7.642304\n",
      "final.output.recovery      4.352422\n",
      "dtype: float64\n",
      "Итоговое sMAPE: 5.174892573259632\n"
     ]
    },
    {
     "name": "stderr",
     "output_type": "stream",
     "text": [
      "d:\\Program File\\Anaconda\\lib\\site-packages\\numpy\\core\\fromnumeric.py:3438: FutureWarning: In a future version, DataFrame.mean(axis=None) will return a scalar mean over the entire DataFrame. To retain the old behavior, use 'frame.mean(axis=0)' or just 'frame.mean()'\n",
      "  return mean(axis=axis, dtype=dtype, out=out, **kwargs)\n"
     ]
    },
    {
     "name": "stdout",
     "output_type": "stream",
     "text": [
      "-------------------------------------------------------------------------------------------------------------------------------\n",
      "Глубина дерева: 4 ; RMSE модели: 3.2943454539177233 ; Предсказание модели: 74.81768680263933\n",
      "sMAPE:\n",
      "rougher.output.recovery    3.389185\n",
      "final.output.recovery      3.339472\n",
      "dtype: float64\n",
      "Итоговое sMAPE: 3.3519006420595368\n"
     ]
    },
    {
     "name": "stderr",
     "output_type": "stream",
     "text": [
      "d:\\Program File\\Anaconda\\lib\\site-packages\\numpy\\core\\fromnumeric.py:3438: FutureWarning: In a future version, DataFrame.mean(axis=None) will return a scalar mean over the entire DataFrame. To retain the old behavior, use 'frame.mean(axis=0)' or just 'frame.mean()'\n",
      "  return mean(axis=axis, dtype=dtype, out=out, **kwargs)\n"
     ]
    },
    {
     "name": "stdout",
     "output_type": "stream",
     "text": [
      "-------------------------------------------------------------------------------------------------------------------------------\n",
      "Глубина дерева: 5 ; RMSE модели: 2.276288786313559 ; Предсказание модели: 74.8304580346899\n",
      "sMAPE:\n",
      "rougher.output.recovery    2.272890\n",
      "final.output.recovery      2.803823\n",
      "dtype: float64\n",
      "Итоговое sMAPE: 2.671089462208616\n",
      "+++++++++++++++++++++++++++++++++++++++++++++++++++++++++++++++++++++++++++++++++++++++++++++++++++++++++++++++++++++++++++++++\n"
     ]
    },
    {
     "name": "stderr",
     "output_type": "stream",
     "text": [
      "d:\\Program File\\Anaconda\\lib\\site-packages\\numpy\\core\\fromnumeric.py:3438: FutureWarning: In a future version, DataFrame.mean(axis=None) will return a scalar mean over the entire DataFrame. To retain the old behavior, use 'frame.mean(axis=0)' or just 'frame.mean()'\n",
      "  return mean(axis=axis, dtype=dtype, out=out, **kwargs)\n"
     ]
    },
    {
     "name": "stdout",
     "output_type": "stream",
     "text": [
      "-------------------------------------------------------------------------------------------------------------------------------\n",
      "Глубина дерева: 1 ; RMSE модели: 8.053427931194461 ; Предсказание модели: 74.85485648854691\n",
      "sMAPE:\n",
      "rougher.output.recovery    10.286452\n",
      "final.output.recovery       9.450077\n",
      "dtype: float64\n",
      "Итоговое sMAPE: 9.65917040569322\n"
     ]
    },
    {
     "name": "stderr",
     "output_type": "stream",
     "text": [
      "d:\\Program File\\Anaconda\\lib\\site-packages\\numpy\\core\\fromnumeric.py:3438: FutureWarning: In a future version, DataFrame.mean(axis=None) will return a scalar mean over the entire DataFrame. To retain the old behavior, use 'frame.mean(axis=0)' or just 'frame.mean()'\n",
      "  return mean(axis=axis, dtype=dtype, out=out, **kwargs)\n"
     ]
    },
    {
     "name": "stdout",
     "output_type": "stream",
     "text": [
      "-------------------------------------------------------------------------------------------------------------------------------\n",
      "Глубина дерева: 2 ; RMSE модели: 5.943658696990941 ; Предсказание модели: 74.84937403494406\n",
      "sMAPE:\n",
      "rougher.output.recovery    8.916080\n",
      "final.output.recovery      6.259347\n",
      "dtype: float64\n",
      "Итоговое sMAPE: 6.9235301453226725\n"
     ]
    },
    {
     "name": "stderr",
     "output_type": "stream",
     "text": [
      "d:\\Program File\\Anaconda\\lib\\site-packages\\numpy\\core\\fromnumeric.py:3438: FutureWarning: In a future version, DataFrame.mean(axis=None) will return a scalar mean over the entire DataFrame. To retain the old behavior, use 'frame.mean(axis=0)' or just 'frame.mean()'\n",
      "  return mean(axis=axis, dtype=dtype, out=out, **kwargs)\n"
     ]
    },
    {
     "name": "stdout",
     "output_type": "stream",
     "text": [
      "-------------------------------------------------------------------------------------------------------------------------------\n",
      "Глубина дерева: 3 ; RMSE модели: 4.503138308272535 ; Предсказание модели: 74.7617026633437\n",
      "sMAPE:\n",
      "rougher.output.recovery    7.768615\n",
      "final.output.recovery      4.065598\n",
      "dtype: float64\n",
      "Итоговое sMAPE: 4.991352618121666\n"
     ]
    },
    {
     "name": "stderr",
     "output_type": "stream",
     "text": [
      "d:\\Program File\\Anaconda\\lib\\site-packages\\numpy\\core\\fromnumeric.py:3438: FutureWarning: In a future version, DataFrame.mean(axis=None) will return a scalar mean over the entire DataFrame. To retain the old behavior, use 'frame.mean(axis=0)' or just 'frame.mean()'\n",
      "  return mean(axis=axis, dtype=dtype, out=out, **kwargs)\n"
     ]
    },
    {
     "name": "stdout",
     "output_type": "stream",
     "text": [
      "-------------------------------------------------------------------------------------------------------------------------------\n",
      "Глубина дерева: 4 ; RMSE модели: 3.208579542221773 ; Предсказание модели: 74.80301316845097\n",
      "sMAPE:\n",
      "rougher.output.recovery    3.441076\n",
      "final.output.recovery      3.085429\n",
      "dtype: float64\n",
      "Итоговое sMAPE: 3.1743403705746616\n"
     ]
    },
    {
     "name": "stderr",
     "output_type": "stream",
     "text": [
      "d:\\Program File\\Anaconda\\lib\\site-packages\\numpy\\core\\fromnumeric.py:3438: FutureWarning: In a future version, DataFrame.mean(axis=None) will return a scalar mean over the entire DataFrame. To retain the old behavior, use 'frame.mean(axis=0)' or just 'frame.mean()'\n",
      "  return mean(axis=axis, dtype=dtype, out=out, **kwargs)\n"
     ]
    },
    {
     "name": "stdout",
     "output_type": "stream",
     "text": [
      "-------------------------------------------------------------------------------------------------------------------------------\n",
      "Глубина дерева: 5 ; RMSE модели: 2.20875447159221 ; Предсказание модели: 74.81898843788522\n",
      "sMAPE:\n",
      "rougher.output.recovery    2.319898\n",
      "final.output.recovery      2.586618\n",
      "dtype: float64\n",
      "Итоговое sMAPE: 2.519938008544087\n",
      "+++++++++++++++++++++++++++++++++++++++++++++++++++++++++++++++++++++++++++++++++++++++++++++++++++++++++++++++++++++++++++++++\n"
     ]
    },
    {
     "name": "stderr",
     "output_type": "stream",
     "text": [
      "d:\\Program File\\Anaconda\\lib\\site-packages\\numpy\\core\\fromnumeric.py:3438: FutureWarning: In a future version, DataFrame.mean(axis=None) will return a scalar mean over the entire DataFrame. To retain the old behavior, use 'frame.mean(axis=0)' or just 'frame.mean()'\n",
      "  return mean(axis=axis, dtype=dtype, out=out, **kwargs)\n"
     ]
    },
    {
     "name": "stdout",
     "output_type": "stream",
     "text": [
      "-------------------------------------------------------------------------------------------------------------------------------\n",
      "Глубина дерева: 1 ; RMSE модели: 8.052937837283732 ; Предсказание модели: 74.84030095347212\n",
      "sMAPE:\n",
      "rougher.output.recovery    10.289458\n",
      "final.output.recovery       9.451566\n",
      "dtype: float64\n",
      "Итоговое sMAPE: 9.661039305482426\n"
     ]
    },
    {
     "name": "stderr",
     "output_type": "stream",
     "text": [
      "d:\\Program File\\Anaconda\\lib\\site-packages\\numpy\\core\\fromnumeric.py:3438: FutureWarning: In a future version, DataFrame.mean(axis=None) will return a scalar mean over the entire DataFrame. To retain the old behavior, use 'frame.mean(axis=0)' or just 'frame.mean()'\n",
      "  return mean(axis=axis, dtype=dtype, out=out, **kwargs)\n"
     ]
    },
    {
     "name": "stdout",
     "output_type": "stream",
     "text": [
      "-------------------------------------------------------------------------------------------------------------------------------\n",
      "Глубина дерева: 2 ; RMSE модели: 5.931721033961728 ; Предсказание модели: 74.84969090548294\n",
      "sMAPE:\n",
      "rougher.output.recovery    8.916898\n",
      "final.output.recovery      6.225519\n",
      "dtype: float64\n",
      "Итоговое sMAPE: 6.898363727722241\n"
     ]
    },
    {
     "name": "stderr",
     "output_type": "stream",
     "text": [
      "d:\\Program File\\Anaconda\\lib\\site-packages\\numpy\\core\\fromnumeric.py:3438: FutureWarning: In a future version, DataFrame.mean(axis=None) will return a scalar mean over the entire DataFrame. To retain the old behavior, use 'frame.mean(axis=0)' or just 'frame.mean()'\n",
      "  return mean(axis=axis, dtype=dtype, out=out, **kwargs)\n"
     ]
    },
    {
     "name": "stdout",
     "output_type": "stream",
     "text": [
      "-------------------------------------------------------------------------------------------------------------------------------\n",
      "Глубина дерева: 3 ; RMSE модели: 4.510576735907597 ; Предсказание модели: 74.75822578052063\n",
      "sMAPE:\n",
      "rougher.output.recovery    7.751778\n",
      "final.output.recovery      4.145518\n",
      "dtype: float64\n",
      "Итоговое sMAPE: 5.047083371443879\n"
     ]
    },
    {
     "name": "stderr",
     "output_type": "stream",
     "text": [
      "d:\\Program File\\Anaconda\\lib\\site-packages\\numpy\\core\\fromnumeric.py:3438: FutureWarning: In a future version, DataFrame.mean(axis=None) will return a scalar mean over the entire DataFrame. To retain the old behavior, use 'frame.mean(axis=0)' or just 'frame.mean()'\n",
      "  return mean(axis=axis, dtype=dtype, out=out, **kwargs)\n"
     ]
    },
    {
     "name": "stdout",
     "output_type": "stream",
     "text": [
      "-------------------------------------------------------------------------------------------------------------------------------\n",
      "Глубина дерева: 4 ; RMSE модели: 3.214016557849603 ; Предсказание модели: 74.80061573765929\n",
      "sMAPE:\n",
      "rougher.output.recovery    4.206561\n",
      "final.output.recovery      3.148811\n",
      "dtype: float64\n",
      "Итоговое sMAPE: 3.413248493532308\n"
     ]
    },
    {
     "name": "stderr",
     "output_type": "stream",
     "text": [
      "d:\\Program File\\Anaconda\\lib\\site-packages\\numpy\\core\\fromnumeric.py:3438: FutureWarning: In a future version, DataFrame.mean(axis=None) will return a scalar mean over the entire DataFrame. To retain the old behavior, use 'frame.mean(axis=0)' or just 'frame.mean()'\n",
      "  return mean(axis=axis, dtype=dtype, out=out, **kwargs)\n"
     ]
    },
    {
     "name": "stdout",
     "output_type": "stream",
     "text": [
      "-------------------------------------------------------------------------------------------------------------------------------\n",
      "Глубина дерева: 5 ; RMSE модели: 2.2219156863696026 ; Предсказание модели: 74.82173536236738\n",
      "sMAPE:\n",
      "rougher.output.recovery    2.329683\n",
      "final.output.recovery      2.616355\n",
      "dtype: float64\n",
      "Итоговое sMAPE: 2.5446873108771406\n",
      "+++++++++++++++++++++++++++++++++++++++++++++++++++++++++++++++++++++++++++++++++++++++++++++++++++++++++++++++++++++++++++++++\n"
     ]
    },
    {
     "name": "stderr",
     "output_type": "stream",
     "text": [
      "d:\\Program File\\Anaconda\\lib\\site-packages\\numpy\\core\\fromnumeric.py:3438: FutureWarning: In a future version, DataFrame.mean(axis=None) will return a scalar mean over the entire DataFrame. To retain the old behavior, use 'frame.mean(axis=0)' or just 'frame.mean()'\n",
      "  return mean(axis=axis, dtype=dtype, out=out, **kwargs)\n"
     ]
    },
    {
     "name": "stdout",
     "output_type": "stream",
     "text": [
      "-------------------------------------------------------------------------------------------------------------------------------\n",
      "Глубина дерева: 1 ; RMSE модели: 8.05593202446182 ; Предсказание модели: 74.83981241785031\n",
      "sMAPE:\n",
      "rougher.output.recovery    10.297573\n",
      "final.output.recovery       9.451284\n",
      "dtype: float64\n",
      "Итоговое sMAPE: 9.662856700863863\n"
     ]
    },
    {
     "name": "stderr",
     "output_type": "stream",
     "text": [
      "d:\\Program File\\Anaconda\\lib\\site-packages\\numpy\\core\\fromnumeric.py:3438: FutureWarning: In a future version, DataFrame.mean(axis=None) will return a scalar mean over the entire DataFrame. To retain the old behavior, use 'frame.mean(axis=0)' or just 'frame.mean()'\n",
      "  return mean(axis=axis, dtype=dtype, out=out, **kwargs)\n"
     ]
    },
    {
     "name": "stdout",
     "output_type": "stream",
     "text": [
      "-------------------------------------------------------------------------------------------------------------------------------\n",
      "Глубина дерева: 2 ; RMSE модели: 5.918279152299686 ; Предсказание модели: 74.83830397001873\n",
      "sMAPE:\n",
      "rougher.output.recovery    8.910374\n",
      "final.output.recovery      6.166767\n",
      "dtype: float64\n",
      "Итоговое sMAPE: 6.852668742866329\n"
     ]
    },
    {
     "name": "stderr",
     "output_type": "stream",
     "text": [
      "d:\\Program File\\Anaconda\\lib\\site-packages\\numpy\\core\\fromnumeric.py:3438: FutureWarning: In a future version, DataFrame.mean(axis=None) will return a scalar mean over the entire DataFrame. To retain the old behavior, use 'frame.mean(axis=0)' or just 'frame.mean()'\n",
      "  return mean(axis=axis, dtype=dtype, out=out, **kwargs)\n"
     ]
    },
    {
     "name": "stdout",
     "output_type": "stream",
     "text": [
      "-------------------------------------------------------------------------------------------------------------------------------\n",
      "Глубина дерева: 3 ; RMSE модели: 4.506332480153617 ; Предсказание модели: 74.75116647348408\n",
      "sMAPE:\n",
      "rougher.output.recovery    7.749775\n",
      "final.output.recovery      4.096538\n",
      "dtype: float64\n",
      "Итоговое sMAPE: 5.0098472875034386\n"
     ]
    },
    {
     "name": "stderr",
     "output_type": "stream",
     "text": [
      "d:\\Program File\\Anaconda\\lib\\site-packages\\numpy\\core\\fromnumeric.py:3438: FutureWarning: In a future version, DataFrame.mean(axis=None) will return a scalar mean over the entire DataFrame. To retain the old behavior, use 'frame.mean(axis=0)' or just 'frame.mean()'\n",
      "  return mean(axis=axis, dtype=dtype, out=out, **kwargs)\n"
     ]
    },
    {
     "name": "stdout",
     "output_type": "stream",
     "text": [
      "-------------------------------------------------------------------------------------------------------------------------------\n",
      "Глубина дерева: 4 ; RMSE модели: 3.207653388380697 ; Предсказание модели: 74.79565231714005\n",
      "sMAPE:\n",
      "rougher.output.recovery    4.226242\n",
      "final.output.recovery      3.083305\n",
      "dtype: float64\n",
      "Итоговое sMAPE: 3.369039209002426\n"
     ]
    },
    {
     "name": "stderr",
     "output_type": "stream",
     "text": [
      "d:\\Program File\\Anaconda\\lib\\site-packages\\numpy\\core\\fromnumeric.py:3438: FutureWarning: In a future version, DataFrame.mean(axis=None) will return a scalar mean over the entire DataFrame. To retain the old behavior, use 'frame.mean(axis=0)' or just 'frame.mean()'\n",
      "  return mean(axis=axis, dtype=dtype, out=out, **kwargs)\n"
     ]
    },
    {
     "name": "stdout",
     "output_type": "stream",
     "text": [
      "-------------------------------------------------------------------------------------------------------------------------------\n",
      "Глубина дерева: 5 ; RMSE модели: 2.222196831464087 ; Предсказание модели: 74.8176462545436\n",
      "sMAPE:\n",
      "rougher.output.recovery    2.337581\n",
      "final.output.recovery      2.571845\n",
      "dtype: float64\n",
      "Итоговое sMAPE: 2.5132791887609454\n",
      "+++++++++++++++++++++++++++++++++++++++++++++++++++++++++++++++++++++++++++++++++++++++++++++++++++++++++++++++++++++++++++++++\n"
     ]
    },
    {
     "name": "stderr",
     "output_type": "stream",
     "text": [
      "d:\\Program File\\Anaconda\\lib\\site-packages\\numpy\\core\\fromnumeric.py:3438: FutureWarning: In a future version, DataFrame.mean(axis=None) will return a scalar mean over the entire DataFrame. To retain the old behavior, use 'frame.mean(axis=0)' or just 'frame.mean()'\n",
      "  return mean(axis=axis, dtype=dtype, out=out, **kwargs)\n"
     ]
    },
    {
     "name": "stdout",
     "output_type": "stream",
     "text": [
      "-------------------------------------------------------------------------------------------------------------------------------\n",
      "Глубина дерева: 1 ; RMSE модели: 8.054127856653409 ; Предсказание модели: 74.83970114463072\n",
      "sMAPE:\n",
      "rougher.output.recovery    10.294242\n",
      "final.output.recovery       9.451083\n",
      "dtype: float64\n",
      "Итоговое sMAPE: 9.661872690598207\n"
     ]
    },
    {
     "name": "stderr",
     "output_type": "stream",
     "text": [
      "d:\\Program File\\Anaconda\\lib\\site-packages\\numpy\\core\\fromnumeric.py:3438: FutureWarning: In a future version, DataFrame.mean(axis=None) will return a scalar mean over the entire DataFrame. To retain the old behavior, use 'frame.mean(axis=0)' or just 'frame.mean()'\n",
      "  return mean(axis=axis, dtype=dtype, out=out, **kwargs)\n"
     ]
    },
    {
     "name": "stdout",
     "output_type": "stream",
     "text": [
      "-------------------------------------------------------------------------------------------------------------------------------\n",
      "Глубина дерева: 2 ; RMSE модели: 5.910931288845922 ; Предсказание модели: 74.83818841469666\n",
      "sMAPE:\n",
      "rougher.output.recovery    8.913741\n",
      "final.output.recovery      6.128851\n",
      "dtype: float64\n",
      "Итоговое sMAPE: 6.825073311008777\n"
     ]
    },
    {
     "name": "stderr",
     "output_type": "stream",
     "text": [
      "d:\\Program File\\Anaconda\\lib\\site-packages\\numpy\\core\\fromnumeric.py:3438: FutureWarning: In a future version, DataFrame.mean(axis=None) will return a scalar mean over the entire DataFrame. To retain the old behavior, use 'frame.mean(axis=0)' or just 'frame.mean()'\n",
      "  return mean(axis=axis, dtype=dtype, out=out, **kwargs)\n"
     ]
    },
    {
     "name": "stdout",
     "output_type": "stream",
     "text": [
      "-------------------------------------------------------------------------------------------------------------------------------\n",
      "Глубина дерева: 3 ; RMSE модели: 4.50904763176759 ; Предсказание модели: 74.75045867705906\n",
      "sMAPE:\n",
      "rougher.output.recovery    7.750434\n",
      "final.output.recovery      4.109374\n",
      "dtype: float64\n",
      "Итоговое sMAPE: 5.019639015061296\n"
     ]
    },
    {
     "name": "stderr",
     "output_type": "stream",
     "text": [
      "d:\\Program File\\Anaconda\\lib\\site-packages\\numpy\\core\\fromnumeric.py:3438: FutureWarning: In a future version, DataFrame.mean(axis=None) will return a scalar mean over the entire DataFrame. To retain the old behavior, use 'frame.mean(axis=0)' or just 'frame.mean()'\n",
      "  return mean(axis=axis, dtype=dtype, out=out, **kwargs)\n"
     ]
    },
    {
     "ename": "KeyboardInterrupt",
     "evalue": "",
     "output_type": "error",
     "traceback": [
      "\u001b[1;31m---------------------------------------------------------------------------\u001b[0m",
      "\u001b[1;31mKeyboardInterrupt\u001b[0m                         Traceback (most recent call last)",
      "File \u001b[1;32m<timed exec>:18\u001b[0m\n",
      "File \u001b[1;32md:\\Program File\\Anaconda\\lib\\site-packages\\sklearn\\ensemble\\_forest.py:450\u001b[0m, in \u001b[0;36mBaseForest.fit\u001b[1;34m(self, X, y, sample_weight)\u001b[0m\n\u001b[0;32m    439\u001b[0m trees \u001b[39m=\u001b[39m [\n\u001b[0;32m    440\u001b[0m     \u001b[39mself\u001b[39m\u001b[39m.\u001b[39m_make_estimator(append\u001b[39m=\u001b[39m\u001b[39mFalse\u001b[39;00m, random_state\u001b[39m=\u001b[39mrandom_state)\n\u001b[0;32m    441\u001b[0m     \u001b[39mfor\u001b[39;00m i \u001b[39min\u001b[39;00m \u001b[39mrange\u001b[39m(n_more_estimators)\n\u001b[0;32m    442\u001b[0m ]\n\u001b[0;32m    444\u001b[0m \u001b[39m# Parallel loop: we prefer the threading backend as the Cython code\u001b[39;00m\n\u001b[0;32m    445\u001b[0m \u001b[39m# for fitting the trees is internally releasing the Python GIL\u001b[39;00m\n\u001b[0;32m    446\u001b[0m \u001b[39m# making threading more efficient than multiprocessing in\u001b[39;00m\n\u001b[0;32m    447\u001b[0m \u001b[39m# that case. However, for joblib 0.12+ we respect any\u001b[39;00m\n\u001b[0;32m    448\u001b[0m \u001b[39m# parallel_backend contexts set at a higher level,\u001b[39;00m\n\u001b[0;32m    449\u001b[0m \u001b[39m# since correctness does not rely on using threads.\u001b[39;00m\n\u001b[1;32m--> 450\u001b[0m trees \u001b[39m=\u001b[39m Parallel(\n\u001b[0;32m    451\u001b[0m     n_jobs\u001b[39m=\u001b[39;49m\u001b[39mself\u001b[39;49m\u001b[39m.\u001b[39;49mn_jobs,\n\u001b[0;32m    452\u001b[0m     verbose\u001b[39m=\u001b[39;49m\u001b[39mself\u001b[39;49m\u001b[39m.\u001b[39;49mverbose,\n\u001b[0;32m    453\u001b[0m     \u001b[39m*\u001b[39;49m\u001b[39m*\u001b[39;49m_joblib_parallel_args(prefer\u001b[39m=\u001b[39;49m\u001b[39m\"\u001b[39;49m\u001b[39mthreads\u001b[39;49m\u001b[39m\"\u001b[39;49m),\n\u001b[0;32m    454\u001b[0m )(\n\u001b[0;32m    455\u001b[0m     delayed(_parallel_build_trees)(\n\u001b[0;32m    456\u001b[0m         t,\n\u001b[0;32m    457\u001b[0m         \u001b[39mself\u001b[39;49m,\n\u001b[0;32m    458\u001b[0m         X,\n\u001b[0;32m    459\u001b[0m         y,\n\u001b[0;32m    460\u001b[0m         sample_weight,\n\u001b[0;32m    461\u001b[0m         i,\n\u001b[0;32m    462\u001b[0m         \u001b[39mlen\u001b[39;49m(trees),\n\u001b[0;32m    463\u001b[0m         verbose\u001b[39m=\u001b[39;49m\u001b[39mself\u001b[39;49m\u001b[39m.\u001b[39;49mverbose,\n\u001b[0;32m    464\u001b[0m         class_weight\u001b[39m=\u001b[39;49m\u001b[39mself\u001b[39;49m\u001b[39m.\u001b[39;49mclass_weight,\n\u001b[0;32m    465\u001b[0m         n_samples_bootstrap\u001b[39m=\u001b[39;49mn_samples_bootstrap,\n\u001b[0;32m    466\u001b[0m     )\n\u001b[0;32m    467\u001b[0m     \u001b[39mfor\u001b[39;49;00m i, t \u001b[39min\u001b[39;49;00m \u001b[39menumerate\u001b[39;49m(trees)\n\u001b[0;32m    468\u001b[0m )\n\u001b[0;32m    470\u001b[0m \u001b[39m# Collect newly grown trees\u001b[39;00m\n\u001b[0;32m    471\u001b[0m \u001b[39mself\u001b[39m\u001b[39m.\u001b[39mestimators_\u001b[39m.\u001b[39mextend(trees)\n",
      "File \u001b[1;32md:\\Program File\\Anaconda\\lib\\site-packages\\joblib\\parallel.py:1088\u001b[0m, in \u001b[0;36mParallel.__call__\u001b[1;34m(self, iterable)\u001b[0m\n\u001b[0;32m   1085\u001b[0m \u001b[39mif\u001b[39;00m \u001b[39mself\u001b[39m\u001b[39m.\u001b[39mdispatch_one_batch(iterator):\n\u001b[0;32m   1086\u001b[0m     \u001b[39mself\u001b[39m\u001b[39m.\u001b[39m_iterating \u001b[39m=\u001b[39m \u001b[39mself\u001b[39m\u001b[39m.\u001b[39m_original_iterator \u001b[39mis\u001b[39;00m \u001b[39mnot\u001b[39;00m \u001b[39mNone\u001b[39;00m\n\u001b[1;32m-> 1088\u001b[0m \u001b[39mwhile\u001b[39;00m \u001b[39mself\u001b[39;49m\u001b[39m.\u001b[39;49mdispatch_one_batch(iterator):\n\u001b[0;32m   1089\u001b[0m     \u001b[39mpass\u001b[39;00m\n\u001b[0;32m   1091\u001b[0m \u001b[39mif\u001b[39;00m pre_dispatch \u001b[39m==\u001b[39m \u001b[39m\"\u001b[39m\u001b[39mall\u001b[39m\u001b[39m\"\u001b[39m \u001b[39mor\u001b[39;00m n_jobs \u001b[39m==\u001b[39m \u001b[39m1\u001b[39m:\n\u001b[0;32m   1092\u001b[0m     \u001b[39m# The iterable was consumed all at once by the above for loop.\u001b[39;00m\n\u001b[0;32m   1093\u001b[0m     \u001b[39m# No need to wait for async callbacks to trigger to\u001b[39;00m\n\u001b[0;32m   1094\u001b[0m     \u001b[39m# consumption.\u001b[39;00m\n",
      "File \u001b[1;32md:\\Program File\\Anaconda\\lib\\site-packages\\joblib\\parallel.py:901\u001b[0m, in \u001b[0;36mParallel.dispatch_one_batch\u001b[1;34m(self, iterator)\u001b[0m\n\u001b[0;32m    899\u001b[0m     \u001b[39mreturn\u001b[39;00m \u001b[39mFalse\u001b[39;00m\n\u001b[0;32m    900\u001b[0m \u001b[39melse\u001b[39;00m:\n\u001b[1;32m--> 901\u001b[0m     \u001b[39mself\u001b[39;49m\u001b[39m.\u001b[39;49m_dispatch(tasks)\n\u001b[0;32m    902\u001b[0m     \u001b[39mreturn\u001b[39;00m \u001b[39mTrue\u001b[39;00m\n",
      "File \u001b[1;32md:\\Program File\\Anaconda\\lib\\site-packages\\joblib\\parallel.py:819\u001b[0m, in \u001b[0;36mParallel._dispatch\u001b[1;34m(self, batch)\u001b[0m\n\u001b[0;32m    817\u001b[0m \u001b[39mwith\u001b[39;00m \u001b[39mself\u001b[39m\u001b[39m.\u001b[39m_lock:\n\u001b[0;32m    818\u001b[0m     job_idx \u001b[39m=\u001b[39m \u001b[39mlen\u001b[39m(\u001b[39mself\u001b[39m\u001b[39m.\u001b[39m_jobs)\n\u001b[1;32m--> 819\u001b[0m     job \u001b[39m=\u001b[39m \u001b[39mself\u001b[39;49m\u001b[39m.\u001b[39;49m_backend\u001b[39m.\u001b[39;49mapply_async(batch, callback\u001b[39m=\u001b[39;49mcb)\n\u001b[0;32m    820\u001b[0m     \u001b[39m# A job can complete so quickly than its callback is\u001b[39;00m\n\u001b[0;32m    821\u001b[0m     \u001b[39m# called before we get here, causing self._jobs to\u001b[39;00m\n\u001b[0;32m    822\u001b[0m     \u001b[39m# grow. To ensure correct results ordering, .insert is\u001b[39;00m\n\u001b[0;32m    823\u001b[0m     \u001b[39m# used (rather than .append) in the following line\u001b[39;00m\n\u001b[0;32m    824\u001b[0m     \u001b[39mself\u001b[39m\u001b[39m.\u001b[39m_jobs\u001b[39m.\u001b[39minsert(job_idx, job)\n",
      "File \u001b[1;32md:\\Program File\\Anaconda\\lib\\site-packages\\joblib\\_parallel_backends.py:208\u001b[0m, in \u001b[0;36mSequentialBackend.apply_async\u001b[1;34m(self, func, callback)\u001b[0m\n\u001b[0;32m    206\u001b[0m \u001b[39mdef\u001b[39;00m \u001b[39mapply_async\u001b[39m(\u001b[39mself\u001b[39m, func, callback\u001b[39m=\u001b[39m\u001b[39mNone\u001b[39;00m):\n\u001b[0;32m    207\u001b[0m     \u001b[39m\"\"\"Schedule a func to be run\"\"\"\u001b[39;00m\n\u001b[1;32m--> 208\u001b[0m     result \u001b[39m=\u001b[39m ImmediateResult(func)\n\u001b[0;32m    209\u001b[0m     \u001b[39mif\u001b[39;00m callback:\n\u001b[0;32m    210\u001b[0m         callback(result)\n",
      "File \u001b[1;32md:\\Program File\\Anaconda\\lib\\site-packages\\joblib\\_parallel_backends.py:597\u001b[0m, in \u001b[0;36mImmediateResult.__init__\u001b[1;34m(self, batch)\u001b[0m\n\u001b[0;32m    594\u001b[0m \u001b[39mdef\u001b[39;00m \u001b[39m__init__\u001b[39m(\u001b[39mself\u001b[39m, batch):\n\u001b[0;32m    595\u001b[0m     \u001b[39m# Don't delay the application, to avoid keeping the input\u001b[39;00m\n\u001b[0;32m    596\u001b[0m     \u001b[39m# arguments in memory\u001b[39;00m\n\u001b[1;32m--> 597\u001b[0m     \u001b[39mself\u001b[39m\u001b[39m.\u001b[39mresults \u001b[39m=\u001b[39m batch()\n",
      "File \u001b[1;32md:\\Program File\\Anaconda\\lib\\site-packages\\joblib\\parallel.py:288\u001b[0m, in \u001b[0;36mBatchedCalls.__call__\u001b[1;34m(self)\u001b[0m\n\u001b[0;32m    284\u001b[0m \u001b[39mdef\u001b[39;00m \u001b[39m__call__\u001b[39m(\u001b[39mself\u001b[39m):\n\u001b[0;32m    285\u001b[0m     \u001b[39m# Set the default nested backend to self._backend but do not set the\u001b[39;00m\n\u001b[0;32m    286\u001b[0m     \u001b[39m# change the default number of processes to -1\u001b[39;00m\n\u001b[0;32m    287\u001b[0m     \u001b[39mwith\u001b[39;00m parallel_backend(\u001b[39mself\u001b[39m\u001b[39m.\u001b[39m_backend, n_jobs\u001b[39m=\u001b[39m\u001b[39mself\u001b[39m\u001b[39m.\u001b[39m_n_jobs):\n\u001b[1;32m--> 288\u001b[0m         \u001b[39mreturn\u001b[39;00m [func(\u001b[39m*\u001b[39margs, \u001b[39m*\u001b[39m\u001b[39m*\u001b[39mkwargs)\n\u001b[0;32m    289\u001b[0m                 \u001b[39mfor\u001b[39;00m func, args, kwargs \u001b[39min\u001b[39;00m \u001b[39mself\u001b[39m\u001b[39m.\u001b[39mitems]\n",
      "File \u001b[1;32md:\\Program File\\Anaconda\\lib\\site-packages\\joblib\\parallel.py:288\u001b[0m, in \u001b[0;36m<listcomp>\u001b[1;34m(.0)\u001b[0m\n\u001b[0;32m    284\u001b[0m \u001b[39mdef\u001b[39;00m \u001b[39m__call__\u001b[39m(\u001b[39mself\u001b[39m):\n\u001b[0;32m    285\u001b[0m     \u001b[39m# Set the default nested backend to self._backend but do not set the\u001b[39;00m\n\u001b[0;32m    286\u001b[0m     \u001b[39m# change the default number of processes to -1\u001b[39;00m\n\u001b[0;32m    287\u001b[0m     \u001b[39mwith\u001b[39;00m parallel_backend(\u001b[39mself\u001b[39m\u001b[39m.\u001b[39m_backend, n_jobs\u001b[39m=\u001b[39m\u001b[39mself\u001b[39m\u001b[39m.\u001b[39m_n_jobs):\n\u001b[1;32m--> 288\u001b[0m         \u001b[39mreturn\u001b[39;00m [func(\u001b[39m*\u001b[39margs, \u001b[39m*\u001b[39m\u001b[39m*\u001b[39mkwargs)\n\u001b[0;32m    289\u001b[0m                 \u001b[39mfor\u001b[39;00m func, args, kwargs \u001b[39min\u001b[39;00m \u001b[39mself\u001b[39m\u001b[39m.\u001b[39mitems]\n",
      "File \u001b[1;32md:\\Program File\\Anaconda\\lib\\site-packages\\sklearn\\utils\\fixes.py:216\u001b[0m, in \u001b[0;36m_FuncWrapper.__call__\u001b[1;34m(self, *args, **kwargs)\u001b[0m\n\u001b[0;32m    214\u001b[0m \u001b[39mdef\u001b[39;00m \u001b[39m__call__\u001b[39m(\u001b[39mself\u001b[39m, \u001b[39m*\u001b[39margs, \u001b[39m*\u001b[39m\u001b[39m*\u001b[39mkwargs):\n\u001b[0;32m    215\u001b[0m     \u001b[39mwith\u001b[39;00m config_context(\u001b[39m*\u001b[39m\u001b[39m*\u001b[39m\u001b[39mself\u001b[39m\u001b[39m.\u001b[39mconfig):\n\u001b[1;32m--> 216\u001b[0m         \u001b[39mreturn\u001b[39;00m \u001b[39mself\u001b[39m\u001b[39m.\u001b[39mfunction(\u001b[39m*\u001b[39margs, \u001b[39m*\u001b[39m\u001b[39m*\u001b[39mkwargs)\n",
      "File \u001b[1;32md:\\Program File\\Anaconda\\lib\\site-packages\\sklearn\\ensemble\\_forest.py:185\u001b[0m, in \u001b[0;36m_parallel_build_trees\u001b[1;34m(tree, forest, X, y, sample_weight, tree_idx, n_trees, verbose, class_weight, n_samples_bootstrap)\u001b[0m\n\u001b[0;32m    182\u001b[0m     \u001b[39melif\u001b[39;00m class_weight \u001b[39m==\u001b[39m \u001b[39m\"\u001b[39m\u001b[39mbalanced_subsample\u001b[39m\u001b[39m\"\u001b[39m:\n\u001b[0;32m    183\u001b[0m         curr_sample_weight \u001b[39m*\u001b[39m\u001b[39m=\u001b[39m compute_sample_weight(\u001b[39m\"\u001b[39m\u001b[39mbalanced\u001b[39m\u001b[39m\"\u001b[39m, y, indices\u001b[39m=\u001b[39mindices)\n\u001b[1;32m--> 185\u001b[0m     tree\u001b[39m.\u001b[39;49mfit(X, y, sample_weight\u001b[39m=\u001b[39;49mcurr_sample_weight, check_input\u001b[39m=\u001b[39;49m\u001b[39mFalse\u001b[39;49;00m)\n\u001b[0;32m    186\u001b[0m \u001b[39melse\u001b[39;00m:\n\u001b[0;32m    187\u001b[0m     tree\u001b[39m.\u001b[39mfit(X, y, sample_weight\u001b[39m=\u001b[39msample_weight, check_input\u001b[39m=\u001b[39m\u001b[39mFalse\u001b[39;00m)\n",
      "File \u001b[1;32md:\\Program File\\Anaconda\\lib\\site-packages\\sklearn\\tree\\_classes.py:1315\u001b[0m, in \u001b[0;36mDecisionTreeRegressor.fit\u001b[1;34m(self, X, y, sample_weight, check_input, X_idx_sorted)\u001b[0m\n\u001b[0;32m   1278\u001b[0m \u001b[39mdef\u001b[39;00m \u001b[39mfit\u001b[39m(\n\u001b[0;32m   1279\u001b[0m     \u001b[39mself\u001b[39m, X, y, sample_weight\u001b[39m=\u001b[39m\u001b[39mNone\u001b[39;00m, check_input\u001b[39m=\u001b[39m\u001b[39mTrue\u001b[39;00m, X_idx_sorted\u001b[39m=\u001b[39m\u001b[39m\"\u001b[39m\u001b[39mdeprecated\u001b[39m\u001b[39m\"\u001b[39m\n\u001b[0;32m   1280\u001b[0m ):\n\u001b[0;32m   1281\u001b[0m     \u001b[39m\"\"\"Build a decision tree regressor from the training set (X, y).\u001b[39;00m\n\u001b[0;32m   1282\u001b[0m \n\u001b[0;32m   1283\u001b[0m \u001b[39m    Parameters\u001b[39;00m\n\u001b[1;32m   (...)\u001b[0m\n\u001b[0;32m   1312\u001b[0m \u001b[39m        Fitted estimator.\u001b[39;00m\n\u001b[0;32m   1313\u001b[0m \u001b[39m    \"\"\"\u001b[39;00m\n\u001b[1;32m-> 1315\u001b[0m     \u001b[39msuper\u001b[39;49m()\u001b[39m.\u001b[39;49mfit(\n\u001b[0;32m   1316\u001b[0m         X,\n\u001b[0;32m   1317\u001b[0m         y,\n\u001b[0;32m   1318\u001b[0m         sample_weight\u001b[39m=\u001b[39;49msample_weight,\n\u001b[0;32m   1319\u001b[0m         check_input\u001b[39m=\u001b[39;49mcheck_input,\n\u001b[0;32m   1320\u001b[0m         X_idx_sorted\u001b[39m=\u001b[39;49mX_idx_sorted,\n\u001b[0;32m   1321\u001b[0m     )\n\u001b[0;32m   1322\u001b[0m     \u001b[39mreturn\u001b[39;00m \u001b[39mself\u001b[39m\n",
      "File \u001b[1;32md:\\Program File\\Anaconda\\lib\\site-packages\\sklearn\\tree\\_classes.py:420\u001b[0m, in \u001b[0;36mBaseDecisionTree.fit\u001b[1;34m(self, X, y, sample_weight, check_input, X_idx_sorted)\u001b[0m\n\u001b[0;32m    409\u001b[0m \u001b[39melse\u001b[39;00m:\n\u001b[0;32m    410\u001b[0m     builder \u001b[39m=\u001b[39m BestFirstTreeBuilder(\n\u001b[0;32m    411\u001b[0m         splitter,\n\u001b[0;32m    412\u001b[0m         min_samples_split,\n\u001b[1;32m   (...)\u001b[0m\n\u001b[0;32m    417\u001b[0m         \u001b[39mself\u001b[39m\u001b[39m.\u001b[39mmin_impurity_decrease,\n\u001b[0;32m    418\u001b[0m     )\n\u001b[1;32m--> 420\u001b[0m builder\u001b[39m.\u001b[39;49mbuild(\u001b[39mself\u001b[39;49m\u001b[39m.\u001b[39;49mtree_, X, y, sample_weight)\n\u001b[0;32m    422\u001b[0m \u001b[39mif\u001b[39;00m \u001b[39mself\u001b[39m\u001b[39m.\u001b[39mn_outputs_ \u001b[39m==\u001b[39m \u001b[39m1\u001b[39m \u001b[39mand\u001b[39;00m is_classifier(\u001b[39mself\u001b[39m):\n\u001b[0;32m    423\u001b[0m     \u001b[39mself\u001b[39m\u001b[39m.\u001b[39mn_classes_ \u001b[39m=\u001b[39m \u001b[39mself\u001b[39m\u001b[39m.\u001b[39mn_classes_[\u001b[39m0\u001b[39m]\n",
      "\u001b[1;31mKeyboardInterrupt\u001b[0m: "
     ]
    }
   ],
   "source": [
    "%%time\n",
    "# Примением случайный лес в регрессии\n",
    "\n",
    "best_model = None\n",
    "best_RMSE = 1000\n",
    "best_est = 0\n",
    "best_depth = 0\n",
    "\n",
    "print('='*127)\n",
    "print()\n",
    "\n",
    "for est in range(10, 51, 10):\n",
    "    print('+'*127)\n",
    "    for depth in range (1, 6):\n",
    "        # Инициализируем модель RandomForestRegressor с параметрами random_state=12345, n_estimators=est и max_depth=depth\n",
    "        model = RandomForestRegressor(random_state = 12345, n_estimators = est, max_depth = depth)\n",
    "\n",
    "        # Обучим модель на тренировочной выборке\n",
    "        model.fit(features_train, target_train )\n",
    "\n",
    "        # Получаем предсказания\n",
    "        predictions_valid = model.predict(features_valid)\n",
    "\n",
    "        RMSE = mean_squared_error(target_valid, predictions_valid) ** 0.5\n",
    "        print('-'*127)\n",
    "        print('Глубина дерева:', depth, '; RMSE модели:', RMSE, '; Предсказание модели:', predictions_valid.mean())\n",
    "        print('sMAPE:')\n",
    "        print(sMAPE(target_valid, predictions_valid))\n",
    "        print('Итоговое sMAPE:', total_sMAPE(sMAPE(target_valid, predictions_valid)[0], sMAPE(target_valid, predictions_valid)[1]))\n",
    "\n",
    "        if RMSE < best_RMSE:\n",
    "            best_model = model\n",
    "            best_RMSE = RMSE\n",
    "            best_est = est\n",
    "            best_depth = depth\n",
    "            best_predictions = predictions_valid\n",
    "\n",
    "print('='*127)\n",
    "print()\n",
    "print(\"RMSE наилучшей модели на валидационной выборке:\", best_RMSE, \"Количество деревьев:\", best_est, \"Глубина дерева:\", best_depth)\n",
    "print('Лучшие среднее предсказание модели:', best_predictions.mean())\n",
    "print('='*127)"
   ]
  },
  {
   "cell_type": "markdown",
   "metadata": {},
   "source": [
    "##### Случайный лес с кроссвалидацией"
   ]
  },
  {
   "cell_type": "code",
   "execution_count": null,
   "metadata": {
    "scrolled": true
   },
   "outputs": [
    {
     "name": "stdout",
     "output_type": "stream",
     "text": [
      "===============================================================================================================================\n",
      "\n",
      "+++++++++++++++++++++++++++++++++++++++++++++++++++++++++++++++++++++++++++++++++++++++++++++++++++++++++++++++++++++++++++++++\n",
      "-------------------------------------------------------------------------------------------------------------------------------\n",
      "Глубина дерева: 1 ; RMSE модели: 8.048747080574364 ; Предсказание модели: 74.88800216382307\n",
      "Cредняя оценка качества модели: 0.10761404052644989\n",
      "sMAPE:\n",
      "rougher.output.recovery    10.269289\n",
      "final.output.recovery       9.447235\n",
      "dtype: float64\n",
      "Итоговое sMAPE: 9.652748848224455\n",
      "-------------------------------------------------------------------------------------------------------------------------------\n",
      "Глубина дерева: 2 ; RMSE модели: 6.0365628059699 ; Предсказание модели: 74.87712794221522\n",
      "Cредняя оценка качества модели: 0.4761329824529219\n",
      "sMAPE:\n",
      "rougher.output.recovery    8.986324\n",
      "final.output.recovery      6.517304\n",
      "dtype: float64\n",
      "Итоговое sMAPE: 7.134559259511944\n",
      "-------------------------------------------------------------------------------------------------------------------------------\n",
      "Глубина дерева: 3 ; RMSE модели: 4.587044501165565 ; Предсказание модели: 74.77640721958849\n",
      "Cредняя оценка качества модели: 0.6574598811783566\n",
      "sMAPE:\n",
      "rougher.output.recovery    7.642304\n",
      "final.output.recovery      4.352422\n",
      "dtype: float64\n",
      "Итоговое sMAPE: 5.174892573259635\n",
      "-------------------------------------------------------------------------------------------------------------------------------\n",
      "Глубина дерева: 4 ; RMSE модели: 3.2943454539177233 ; Предсказание модели: 74.81768680263933\n",
      "Cредняя оценка качества модели: 0.8138609134968942\n",
      "sMAPE:\n",
      "rougher.output.recovery    3.389185\n",
      "final.output.recovery      3.339472\n",
      "dtype: float64\n",
      "Итоговое sMAPE: 3.3519006420595394\n"
     ]
    },
    {
     "ename": "KeyboardInterrupt",
     "evalue": "",
     "output_type": "error",
     "traceback": [
      "\u001b[0;31m---------------------------------------------------------------------------\u001b[0m",
      "\u001b[0;31mKeyboardInterrupt\u001b[0m                         Traceback (most recent call last)",
      "\u001b[0;32m<timed exec>\u001b[0m in \u001b[0;36m<module>\u001b[0;34m\u001b[0m\n",
      "\u001b[0;32m/opt/conda/lib/python3.9/site-packages/sklearn/utils/validation.py\u001b[0m in \u001b[0;36minner_f\u001b[0;34m(*args, **kwargs)\u001b[0m\n\u001b[1;32m     61\u001b[0m             \u001b[0mextra_args\u001b[0m \u001b[0;34m=\u001b[0m \u001b[0mlen\u001b[0m\u001b[0;34m(\u001b[0m\u001b[0margs\u001b[0m\u001b[0;34m)\u001b[0m \u001b[0;34m-\u001b[0m \u001b[0mlen\u001b[0m\u001b[0;34m(\u001b[0m\u001b[0mall_args\u001b[0m\u001b[0;34m)\u001b[0m\u001b[0;34m\u001b[0m\u001b[0;34m\u001b[0m\u001b[0m\n\u001b[1;32m     62\u001b[0m             \u001b[0;32mif\u001b[0m \u001b[0mextra_args\u001b[0m \u001b[0;34m<=\u001b[0m \u001b[0;36m0\u001b[0m\u001b[0;34m:\u001b[0m\u001b[0;34m\u001b[0m\u001b[0;34m\u001b[0m\u001b[0m\n\u001b[0;32m---> 63\u001b[0;31m                 \u001b[0;32mreturn\u001b[0m \u001b[0mf\u001b[0m\u001b[0;34m(\u001b[0m\u001b[0;34m*\u001b[0m\u001b[0margs\u001b[0m\u001b[0;34m,\u001b[0m \u001b[0;34m**\u001b[0m\u001b[0mkwargs\u001b[0m\u001b[0;34m)\u001b[0m\u001b[0;34m\u001b[0m\u001b[0;34m\u001b[0m\u001b[0m\n\u001b[0m\u001b[1;32m     64\u001b[0m \u001b[0;34m\u001b[0m\u001b[0m\n\u001b[1;32m     65\u001b[0m             \u001b[0;31m# extra_args > 0\u001b[0m\u001b[0;34m\u001b[0m\u001b[0;34m\u001b[0m\u001b[0;34m\u001b[0m\u001b[0m\n",
      "\u001b[0;32m/opt/conda/lib/python3.9/site-packages/sklearn/model_selection/_validation.py\u001b[0m in \u001b[0;36mcross_val_score\u001b[0;34m(estimator, X, y, groups, scoring, cv, n_jobs, verbose, fit_params, pre_dispatch, error_score)\u001b[0m\n\u001b[1;32m    438\u001b[0m     \u001b[0mscorer\u001b[0m \u001b[0;34m=\u001b[0m \u001b[0mcheck_scoring\u001b[0m\u001b[0;34m(\u001b[0m\u001b[0mestimator\u001b[0m\u001b[0;34m,\u001b[0m \u001b[0mscoring\u001b[0m\u001b[0;34m=\u001b[0m\u001b[0mscoring\u001b[0m\u001b[0;34m)\u001b[0m\u001b[0;34m\u001b[0m\u001b[0;34m\u001b[0m\u001b[0m\n\u001b[1;32m    439\u001b[0m \u001b[0;34m\u001b[0m\u001b[0m\n\u001b[0;32m--> 440\u001b[0;31m     cv_results = cross_validate(estimator=estimator, X=X, y=y, groups=groups,\n\u001b[0m\u001b[1;32m    441\u001b[0m                                 \u001b[0mscoring\u001b[0m\u001b[0;34m=\u001b[0m\u001b[0;34m{\u001b[0m\u001b[0;34m'score'\u001b[0m\u001b[0;34m:\u001b[0m \u001b[0mscorer\u001b[0m\u001b[0;34m}\u001b[0m\u001b[0;34m,\u001b[0m \u001b[0mcv\u001b[0m\u001b[0;34m=\u001b[0m\u001b[0mcv\u001b[0m\u001b[0;34m,\u001b[0m\u001b[0;34m\u001b[0m\u001b[0;34m\u001b[0m\u001b[0m\n\u001b[1;32m    442\u001b[0m                                 \u001b[0mn_jobs\u001b[0m\u001b[0;34m=\u001b[0m\u001b[0mn_jobs\u001b[0m\u001b[0;34m,\u001b[0m \u001b[0mverbose\u001b[0m\u001b[0;34m=\u001b[0m\u001b[0mverbose\u001b[0m\u001b[0;34m,\u001b[0m\u001b[0;34m\u001b[0m\u001b[0;34m\u001b[0m\u001b[0m\n",
      "\u001b[0;32m/opt/conda/lib/python3.9/site-packages/sklearn/utils/validation.py\u001b[0m in \u001b[0;36minner_f\u001b[0;34m(*args, **kwargs)\u001b[0m\n\u001b[1;32m     61\u001b[0m             \u001b[0mextra_args\u001b[0m \u001b[0;34m=\u001b[0m \u001b[0mlen\u001b[0m\u001b[0;34m(\u001b[0m\u001b[0margs\u001b[0m\u001b[0;34m)\u001b[0m \u001b[0;34m-\u001b[0m \u001b[0mlen\u001b[0m\u001b[0;34m(\u001b[0m\u001b[0mall_args\u001b[0m\u001b[0;34m)\u001b[0m\u001b[0;34m\u001b[0m\u001b[0;34m\u001b[0m\u001b[0m\n\u001b[1;32m     62\u001b[0m             \u001b[0;32mif\u001b[0m \u001b[0mextra_args\u001b[0m \u001b[0;34m<=\u001b[0m \u001b[0;36m0\u001b[0m\u001b[0;34m:\u001b[0m\u001b[0;34m\u001b[0m\u001b[0;34m\u001b[0m\u001b[0m\n\u001b[0;32m---> 63\u001b[0;31m                 \u001b[0;32mreturn\u001b[0m \u001b[0mf\u001b[0m\u001b[0;34m(\u001b[0m\u001b[0;34m*\u001b[0m\u001b[0margs\u001b[0m\u001b[0;34m,\u001b[0m \u001b[0;34m**\u001b[0m\u001b[0mkwargs\u001b[0m\u001b[0;34m)\u001b[0m\u001b[0;34m\u001b[0m\u001b[0;34m\u001b[0m\u001b[0m\n\u001b[0m\u001b[1;32m     64\u001b[0m \u001b[0;34m\u001b[0m\u001b[0m\n\u001b[1;32m     65\u001b[0m             \u001b[0;31m# extra_args > 0\u001b[0m\u001b[0;34m\u001b[0m\u001b[0;34m\u001b[0m\u001b[0;34m\u001b[0m\u001b[0m\n",
      "\u001b[0;32m/opt/conda/lib/python3.9/site-packages/sklearn/model_selection/_validation.py\u001b[0m in \u001b[0;36mcross_validate\u001b[0;34m(estimator, X, y, groups, scoring, cv, n_jobs, verbose, fit_params, pre_dispatch, return_train_score, return_estimator, error_score)\u001b[0m\n\u001b[1;32m    244\u001b[0m     parallel = Parallel(n_jobs=n_jobs, verbose=verbose,\n\u001b[1;32m    245\u001b[0m                         pre_dispatch=pre_dispatch)\n\u001b[0;32m--> 246\u001b[0;31m     results = parallel(\n\u001b[0m\u001b[1;32m    247\u001b[0m         delayed(_fit_and_score)(\n\u001b[1;32m    248\u001b[0m             \u001b[0mclone\u001b[0m\u001b[0;34m(\u001b[0m\u001b[0mestimator\u001b[0m\u001b[0;34m)\u001b[0m\u001b[0;34m,\u001b[0m \u001b[0mX\u001b[0m\u001b[0;34m,\u001b[0m \u001b[0my\u001b[0m\u001b[0;34m,\u001b[0m \u001b[0mscorers\u001b[0m\u001b[0;34m,\u001b[0m \u001b[0mtrain\u001b[0m\u001b[0;34m,\u001b[0m \u001b[0mtest\u001b[0m\u001b[0;34m,\u001b[0m \u001b[0mverbose\u001b[0m\u001b[0;34m,\u001b[0m \u001b[0;32mNone\u001b[0m\u001b[0;34m,\u001b[0m\u001b[0;34m\u001b[0m\u001b[0;34m\u001b[0m\u001b[0m\n",
      "\u001b[0;32m/opt/conda/lib/python3.9/site-packages/joblib/parallel.py\u001b[0m in \u001b[0;36m__call__\u001b[0;34m(self, iterable)\u001b[0m\n\u001b[1;32m   1044\u001b[0m                 \u001b[0mself\u001b[0m\u001b[0;34m.\u001b[0m\u001b[0m_iterating\u001b[0m \u001b[0;34m=\u001b[0m \u001b[0mself\u001b[0m\u001b[0;34m.\u001b[0m\u001b[0m_original_iterator\u001b[0m \u001b[0;32mis\u001b[0m \u001b[0;32mnot\u001b[0m \u001b[0;32mNone\u001b[0m\u001b[0;34m\u001b[0m\u001b[0;34m\u001b[0m\u001b[0m\n\u001b[1;32m   1045\u001b[0m \u001b[0;34m\u001b[0m\u001b[0m\n\u001b[0;32m-> 1046\u001b[0;31m             \u001b[0;32mwhile\u001b[0m \u001b[0mself\u001b[0m\u001b[0;34m.\u001b[0m\u001b[0mdispatch_one_batch\u001b[0m\u001b[0;34m(\u001b[0m\u001b[0miterator\u001b[0m\u001b[0;34m)\u001b[0m\u001b[0;34m:\u001b[0m\u001b[0;34m\u001b[0m\u001b[0;34m\u001b[0m\u001b[0m\n\u001b[0m\u001b[1;32m   1047\u001b[0m                 \u001b[0;32mpass\u001b[0m\u001b[0;34m\u001b[0m\u001b[0;34m\u001b[0m\u001b[0m\n\u001b[1;32m   1048\u001b[0m \u001b[0;34m\u001b[0m\u001b[0m\n",
      "\u001b[0;32m/opt/conda/lib/python3.9/site-packages/joblib/parallel.py\u001b[0m in \u001b[0;36mdispatch_one_batch\u001b[0;34m(self, iterator)\u001b[0m\n\u001b[1;32m    859\u001b[0m                 \u001b[0;32mreturn\u001b[0m \u001b[0;32mFalse\u001b[0m\u001b[0;34m\u001b[0m\u001b[0;34m\u001b[0m\u001b[0m\n\u001b[1;32m    860\u001b[0m             \u001b[0;32melse\u001b[0m\u001b[0;34m:\u001b[0m\u001b[0;34m\u001b[0m\u001b[0;34m\u001b[0m\u001b[0m\n\u001b[0;32m--> 861\u001b[0;31m                 \u001b[0mself\u001b[0m\u001b[0;34m.\u001b[0m\u001b[0m_dispatch\u001b[0m\u001b[0;34m(\u001b[0m\u001b[0mtasks\u001b[0m\u001b[0;34m)\u001b[0m\u001b[0;34m\u001b[0m\u001b[0;34m\u001b[0m\u001b[0m\n\u001b[0m\u001b[1;32m    862\u001b[0m                 \u001b[0;32mreturn\u001b[0m \u001b[0;32mTrue\u001b[0m\u001b[0;34m\u001b[0m\u001b[0;34m\u001b[0m\u001b[0m\n\u001b[1;32m    863\u001b[0m \u001b[0;34m\u001b[0m\u001b[0m\n",
      "\u001b[0;32m/opt/conda/lib/python3.9/site-packages/joblib/parallel.py\u001b[0m in \u001b[0;36m_dispatch\u001b[0;34m(self, batch)\u001b[0m\n\u001b[1;32m    777\u001b[0m         \u001b[0;32mwith\u001b[0m \u001b[0mself\u001b[0m\u001b[0;34m.\u001b[0m\u001b[0m_lock\u001b[0m\u001b[0;34m:\u001b[0m\u001b[0;34m\u001b[0m\u001b[0;34m\u001b[0m\u001b[0m\n\u001b[1;32m    778\u001b[0m             \u001b[0mjob_idx\u001b[0m \u001b[0;34m=\u001b[0m \u001b[0mlen\u001b[0m\u001b[0;34m(\u001b[0m\u001b[0mself\u001b[0m\u001b[0;34m.\u001b[0m\u001b[0m_jobs\u001b[0m\u001b[0;34m)\u001b[0m\u001b[0;34m\u001b[0m\u001b[0;34m\u001b[0m\u001b[0m\n\u001b[0;32m--> 779\u001b[0;31m             \u001b[0mjob\u001b[0m \u001b[0;34m=\u001b[0m \u001b[0mself\u001b[0m\u001b[0;34m.\u001b[0m\u001b[0m_backend\u001b[0m\u001b[0;34m.\u001b[0m\u001b[0mapply_async\u001b[0m\u001b[0;34m(\u001b[0m\u001b[0mbatch\u001b[0m\u001b[0;34m,\u001b[0m \u001b[0mcallback\u001b[0m\u001b[0;34m=\u001b[0m\u001b[0mcb\u001b[0m\u001b[0;34m)\u001b[0m\u001b[0;34m\u001b[0m\u001b[0;34m\u001b[0m\u001b[0m\n\u001b[0m\u001b[1;32m    780\u001b[0m             \u001b[0;31m# A job can complete so quickly than its callback is\u001b[0m\u001b[0;34m\u001b[0m\u001b[0;34m\u001b[0m\u001b[0;34m\u001b[0m\u001b[0m\n\u001b[1;32m    781\u001b[0m             \u001b[0;31m# called before we get here, causing self._jobs to\u001b[0m\u001b[0;34m\u001b[0m\u001b[0;34m\u001b[0m\u001b[0;34m\u001b[0m\u001b[0m\n",
      "\u001b[0;32m/opt/conda/lib/python3.9/site-packages/joblib/_parallel_backends.py\u001b[0m in \u001b[0;36mapply_async\u001b[0;34m(self, func, callback)\u001b[0m\n\u001b[1;32m    206\u001b[0m     \u001b[0;32mdef\u001b[0m \u001b[0mapply_async\u001b[0m\u001b[0;34m(\u001b[0m\u001b[0mself\u001b[0m\u001b[0;34m,\u001b[0m \u001b[0mfunc\u001b[0m\u001b[0;34m,\u001b[0m \u001b[0mcallback\u001b[0m\u001b[0;34m=\u001b[0m\u001b[0;32mNone\u001b[0m\u001b[0;34m)\u001b[0m\u001b[0;34m:\u001b[0m\u001b[0;34m\u001b[0m\u001b[0;34m\u001b[0m\u001b[0m\n\u001b[1;32m    207\u001b[0m         \u001b[0;34m\"\"\"Schedule a func to be run\"\"\"\u001b[0m\u001b[0;34m\u001b[0m\u001b[0;34m\u001b[0m\u001b[0m\n\u001b[0;32m--> 208\u001b[0;31m         \u001b[0mresult\u001b[0m \u001b[0;34m=\u001b[0m \u001b[0mImmediateResult\u001b[0m\u001b[0;34m(\u001b[0m\u001b[0mfunc\u001b[0m\u001b[0;34m)\u001b[0m\u001b[0;34m\u001b[0m\u001b[0;34m\u001b[0m\u001b[0m\n\u001b[0m\u001b[1;32m    209\u001b[0m         \u001b[0;32mif\u001b[0m \u001b[0mcallback\u001b[0m\u001b[0;34m:\u001b[0m\u001b[0;34m\u001b[0m\u001b[0;34m\u001b[0m\u001b[0m\n\u001b[1;32m    210\u001b[0m             \u001b[0mcallback\u001b[0m\u001b[0;34m(\u001b[0m\u001b[0mresult\u001b[0m\u001b[0;34m)\u001b[0m\u001b[0;34m\u001b[0m\u001b[0;34m\u001b[0m\u001b[0m\n",
      "\u001b[0;32m/opt/conda/lib/python3.9/site-packages/joblib/_parallel_backends.py\u001b[0m in \u001b[0;36m__init__\u001b[0;34m(self, batch)\u001b[0m\n\u001b[1;32m    570\u001b[0m         \u001b[0;31m# Don't delay the application, to avoid keeping the input\u001b[0m\u001b[0;34m\u001b[0m\u001b[0;34m\u001b[0m\u001b[0;34m\u001b[0m\u001b[0m\n\u001b[1;32m    571\u001b[0m         \u001b[0;31m# arguments in memory\u001b[0m\u001b[0;34m\u001b[0m\u001b[0;34m\u001b[0m\u001b[0;34m\u001b[0m\u001b[0m\n\u001b[0;32m--> 572\u001b[0;31m         \u001b[0mself\u001b[0m\u001b[0;34m.\u001b[0m\u001b[0mresults\u001b[0m \u001b[0;34m=\u001b[0m \u001b[0mbatch\u001b[0m\u001b[0;34m(\u001b[0m\u001b[0;34m)\u001b[0m\u001b[0;34m\u001b[0m\u001b[0;34m\u001b[0m\u001b[0m\n\u001b[0m\u001b[1;32m    573\u001b[0m \u001b[0;34m\u001b[0m\u001b[0m\n\u001b[1;32m    574\u001b[0m     \u001b[0;32mdef\u001b[0m \u001b[0mget\u001b[0m\u001b[0;34m(\u001b[0m\u001b[0mself\u001b[0m\u001b[0;34m)\u001b[0m\u001b[0;34m:\u001b[0m\u001b[0;34m\u001b[0m\u001b[0;34m\u001b[0m\u001b[0m\n",
      "\u001b[0;32m/opt/conda/lib/python3.9/site-packages/joblib/parallel.py\u001b[0m in \u001b[0;36m__call__\u001b[0;34m(self)\u001b[0m\n\u001b[1;32m    260\u001b[0m         \u001b[0;31m# change the default number of processes to -1\u001b[0m\u001b[0;34m\u001b[0m\u001b[0;34m\u001b[0m\u001b[0;34m\u001b[0m\u001b[0m\n\u001b[1;32m    261\u001b[0m         \u001b[0;32mwith\u001b[0m \u001b[0mparallel_backend\u001b[0m\u001b[0;34m(\u001b[0m\u001b[0mself\u001b[0m\u001b[0;34m.\u001b[0m\u001b[0m_backend\u001b[0m\u001b[0;34m,\u001b[0m \u001b[0mn_jobs\u001b[0m\u001b[0;34m=\u001b[0m\u001b[0mself\u001b[0m\u001b[0;34m.\u001b[0m\u001b[0m_n_jobs\u001b[0m\u001b[0;34m)\u001b[0m\u001b[0;34m:\u001b[0m\u001b[0;34m\u001b[0m\u001b[0;34m\u001b[0m\u001b[0m\n\u001b[0;32m--> 262\u001b[0;31m             return [func(*args, **kwargs)\n\u001b[0m\u001b[1;32m    263\u001b[0m                     for func, args, kwargs in self.items]\n\u001b[1;32m    264\u001b[0m \u001b[0;34m\u001b[0m\u001b[0m\n",
      "\u001b[0;32m/opt/conda/lib/python3.9/site-packages/joblib/parallel.py\u001b[0m in \u001b[0;36m<listcomp>\u001b[0;34m(.0)\u001b[0m\n\u001b[1;32m    260\u001b[0m         \u001b[0;31m# change the default number of processes to -1\u001b[0m\u001b[0;34m\u001b[0m\u001b[0;34m\u001b[0m\u001b[0;34m\u001b[0m\u001b[0m\n\u001b[1;32m    261\u001b[0m         \u001b[0;32mwith\u001b[0m \u001b[0mparallel_backend\u001b[0m\u001b[0;34m(\u001b[0m\u001b[0mself\u001b[0m\u001b[0;34m.\u001b[0m\u001b[0m_backend\u001b[0m\u001b[0;34m,\u001b[0m \u001b[0mn_jobs\u001b[0m\u001b[0;34m=\u001b[0m\u001b[0mself\u001b[0m\u001b[0;34m.\u001b[0m\u001b[0m_n_jobs\u001b[0m\u001b[0;34m)\u001b[0m\u001b[0;34m:\u001b[0m\u001b[0;34m\u001b[0m\u001b[0;34m\u001b[0m\u001b[0m\n\u001b[0;32m--> 262\u001b[0;31m             return [func(*args, **kwargs)\n\u001b[0m\u001b[1;32m    263\u001b[0m                     for func, args, kwargs in self.items]\n\u001b[1;32m    264\u001b[0m \u001b[0;34m\u001b[0m\u001b[0m\n",
      "\u001b[0;32m/opt/conda/lib/python3.9/site-packages/sklearn/utils/fixes.py\u001b[0m in \u001b[0;36m__call__\u001b[0;34m(self, *args, **kwargs)\u001b[0m\n\u001b[1;32m    220\u001b[0m     \u001b[0;32mdef\u001b[0m \u001b[0m__call__\u001b[0m\u001b[0;34m(\u001b[0m\u001b[0mself\u001b[0m\u001b[0;34m,\u001b[0m \u001b[0;34m*\u001b[0m\u001b[0margs\u001b[0m\u001b[0;34m,\u001b[0m \u001b[0;34m**\u001b[0m\u001b[0mkwargs\u001b[0m\u001b[0;34m)\u001b[0m\u001b[0;34m:\u001b[0m\u001b[0;34m\u001b[0m\u001b[0;34m\u001b[0m\u001b[0m\n\u001b[1;32m    221\u001b[0m         \u001b[0;32mwith\u001b[0m \u001b[0mconfig_context\u001b[0m\u001b[0;34m(\u001b[0m\u001b[0;34m**\u001b[0m\u001b[0mself\u001b[0m\u001b[0;34m.\u001b[0m\u001b[0mconfig\u001b[0m\u001b[0;34m)\u001b[0m\u001b[0;34m:\u001b[0m\u001b[0;34m\u001b[0m\u001b[0;34m\u001b[0m\u001b[0m\n\u001b[0;32m--> 222\u001b[0;31m             \u001b[0;32mreturn\u001b[0m \u001b[0mself\u001b[0m\u001b[0;34m.\u001b[0m\u001b[0mfunction\u001b[0m\u001b[0;34m(\u001b[0m\u001b[0;34m*\u001b[0m\u001b[0margs\u001b[0m\u001b[0;34m,\u001b[0m \u001b[0;34m**\u001b[0m\u001b[0mkwargs\u001b[0m\u001b[0;34m)\u001b[0m\u001b[0;34m\u001b[0m\u001b[0;34m\u001b[0m\u001b[0m\n\u001b[0m",
      "\u001b[0;32m/opt/conda/lib/python3.9/site-packages/sklearn/model_selection/_validation.py\u001b[0m in \u001b[0;36m_fit_and_score\u001b[0;34m(estimator, X, y, scorer, train, test, verbose, parameters, fit_params, return_train_score, return_parameters, return_n_test_samples, return_times, return_estimator, split_progress, candidate_progress, error_score)\u001b[0m\n\u001b[1;32m    591\u001b[0m             \u001b[0mestimator\u001b[0m\u001b[0;34m.\u001b[0m\u001b[0mfit\u001b[0m\u001b[0;34m(\u001b[0m\u001b[0mX_train\u001b[0m\u001b[0;34m,\u001b[0m \u001b[0;34m**\u001b[0m\u001b[0mfit_params\u001b[0m\u001b[0;34m)\u001b[0m\u001b[0;34m\u001b[0m\u001b[0;34m\u001b[0m\u001b[0m\n\u001b[1;32m    592\u001b[0m         \u001b[0;32melse\u001b[0m\u001b[0;34m:\u001b[0m\u001b[0;34m\u001b[0m\u001b[0;34m\u001b[0m\u001b[0m\n\u001b[0;32m--> 593\u001b[0;31m             \u001b[0mestimator\u001b[0m\u001b[0;34m.\u001b[0m\u001b[0mfit\u001b[0m\u001b[0;34m(\u001b[0m\u001b[0mX_train\u001b[0m\u001b[0;34m,\u001b[0m \u001b[0my_train\u001b[0m\u001b[0;34m,\u001b[0m \u001b[0;34m**\u001b[0m\u001b[0mfit_params\u001b[0m\u001b[0;34m)\u001b[0m\u001b[0;34m\u001b[0m\u001b[0;34m\u001b[0m\u001b[0m\n\u001b[0m\u001b[1;32m    594\u001b[0m \u001b[0;34m\u001b[0m\u001b[0m\n\u001b[1;32m    595\u001b[0m     \u001b[0;32mexcept\u001b[0m \u001b[0mException\u001b[0m \u001b[0;32mas\u001b[0m \u001b[0me\u001b[0m\u001b[0;34m:\u001b[0m\u001b[0;34m\u001b[0m\u001b[0;34m\u001b[0m\u001b[0m\n",
      "\u001b[0;32m/opt/conda/lib/python3.9/site-packages/sklearn/ensemble/_forest.py\u001b[0m in \u001b[0;36mfit\u001b[0;34m(self, X, y, sample_weight)\u001b[0m\n\u001b[1;32m    385\u001b[0m             \u001b[0;31m# parallel_backend contexts set at a higher level,\u001b[0m\u001b[0;34m\u001b[0m\u001b[0;34m\u001b[0m\u001b[0;34m\u001b[0m\u001b[0m\n\u001b[1;32m    386\u001b[0m             \u001b[0;31m# since correctness does not rely on using threads.\u001b[0m\u001b[0;34m\u001b[0m\u001b[0;34m\u001b[0m\u001b[0;34m\u001b[0m\u001b[0m\n\u001b[0;32m--> 387\u001b[0;31m             trees = Parallel(n_jobs=self.n_jobs, verbose=self.verbose,\n\u001b[0m\u001b[1;32m    388\u001b[0m                              \u001b[0;34m**\u001b[0m\u001b[0m_joblib_parallel_args\u001b[0m\u001b[0;34m(\u001b[0m\u001b[0mprefer\u001b[0m\u001b[0;34m=\u001b[0m\u001b[0;34m'threads'\u001b[0m\u001b[0;34m)\u001b[0m\u001b[0;34m)\u001b[0m\u001b[0;34m(\u001b[0m\u001b[0;34m\u001b[0m\u001b[0;34m\u001b[0m\u001b[0m\n\u001b[1;32m    389\u001b[0m                 delayed(_parallel_build_trees)(\n",
      "\u001b[0;32m/opt/conda/lib/python3.9/site-packages/joblib/parallel.py\u001b[0m in \u001b[0;36m__call__\u001b[0;34m(self, iterable)\u001b[0m\n\u001b[1;32m   1044\u001b[0m                 \u001b[0mself\u001b[0m\u001b[0;34m.\u001b[0m\u001b[0m_iterating\u001b[0m \u001b[0;34m=\u001b[0m \u001b[0mself\u001b[0m\u001b[0;34m.\u001b[0m\u001b[0m_original_iterator\u001b[0m \u001b[0;32mis\u001b[0m \u001b[0;32mnot\u001b[0m \u001b[0;32mNone\u001b[0m\u001b[0;34m\u001b[0m\u001b[0;34m\u001b[0m\u001b[0m\n\u001b[1;32m   1045\u001b[0m \u001b[0;34m\u001b[0m\u001b[0m\n\u001b[0;32m-> 1046\u001b[0;31m             \u001b[0;32mwhile\u001b[0m \u001b[0mself\u001b[0m\u001b[0;34m.\u001b[0m\u001b[0mdispatch_one_batch\u001b[0m\u001b[0;34m(\u001b[0m\u001b[0miterator\u001b[0m\u001b[0;34m)\u001b[0m\u001b[0;34m:\u001b[0m\u001b[0;34m\u001b[0m\u001b[0;34m\u001b[0m\u001b[0m\n\u001b[0m\u001b[1;32m   1047\u001b[0m                 \u001b[0;32mpass\u001b[0m\u001b[0;34m\u001b[0m\u001b[0;34m\u001b[0m\u001b[0m\n\u001b[1;32m   1048\u001b[0m \u001b[0;34m\u001b[0m\u001b[0m\n",
      "\u001b[0;32m/opt/conda/lib/python3.9/site-packages/joblib/parallel.py\u001b[0m in \u001b[0;36mdispatch_one_batch\u001b[0;34m(self, iterator)\u001b[0m\n\u001b[1;32m    859\u001b[0m                 \u001b[0;32mreturn\u001b[0m \u001b[0;32mFalse\u001b[0m\u001b[0;34m\u001b[0m\u001b[0;34m\u001b[0m\u001b[0m\n\u001b[1;32m    860\u001b[0m             \u001b[0;32melse\u001b[0m\u001b[0;34m:\u001b[0m\u001b[0;34m\u001b[0m\u001b[0;34m\u001b[0m\u001b[0m\n\u001b[0;32m--> 861\u001b[0;31m                 \u001b[0mself\u001b[0m\u001b[0;34m.\u001b[0m\u001b[0m_dispatch\u001b[0m\u001b[0;34m(\u001b[0m\u001b[0mtasks\u001b[0m\u001b[0;34m)\u001b[0m\u001b[0;34m\u001b[0m\u001b[0;34m\u001b[0m\u001b[0m\n\u001b[0m\u001b[1;32m    862\u001b[0m                 \u001b[0;32mreturn\u001b[0m \u001b[0;32mTrue\u001b[0m\u001b[0;34m\u001b[0m\u001b[0;34m\u001b[0m\u001b[0m\n\u001b[1;32m    863\u001b[0m \u001b[0;34m\u001b[0m\u001b[0m\n",
      "\u001b[0;32m/opt/conda/lib/python3.9/site-packages/joblib/parallel.py\u001b[0m in \u001b[0;36m_dispatch\u001b[0;34m(self, batch)\u001b[0m\n\u001b[1;32m    777\u001b[0m         \u001b[0;32mwith\u001b[0m \u001b[0mself\u001b[0m\u001b[0;34m.\u001b[0m\u001b[0m_lock\u001b[0m\u001b[0;34m:\u001b[0m\u001b[0;34m\u001b[0m\u001b[0;34m\u001b[0m\u001b[0m\n\u001b[1;32m    778\u001b[0m             \u001b[0mjob_idx\u001b[0m \u001b[0;34m=\u001b[0m \u001b[0mlen\u001b[0m\u001b[0;34m(\u001b[0m\u001b[0mself\u001b[0m\u001b[0;34m.\u001b[0m\u001b[0m_jobs\u001b[0m\u001b[0;34m)\u001b[0m\u001b[0;34m\u001b[0m\u001b[0;34m\u001b[0m\u001b[0m\n\u001b[0;32m--> 779\u001b[0;31m             \u001b[0mjob\u001b[0m \u001b[0;34m=\u001b[0m \u001b[0mself\u001b[0m\u001b[0;34m.\u001b[0m\u001b[0m_backend\u001b[0m\u001b[0;34m.\u001b[0m\u001b[0mapply_async\u001b[0m\u001b[0;34m(\u001b[0m\u001b[0mbatch\u001b[0m\u001b[0;34m,\u001b[0m \u001b[0mcallback\u001b[0m\u001b[0;34m=\u001b[0m\u001b[0mcb\u001b[0m\u001b[0;34m)\u001b[0m\u001b[0;34m\u001b[0m\u001b[0;34m\u001b[0m\u001b[0m\n\u001b[0m\u001b[1;32m    780\u001b[0m             \u001b[0;31m# A job can complete so quickly than its callback is\u001b[0m\u001b[0;34m\u001b[0m\u001b[0;34m\u001b[0m\u001b[0;34m\u001b[0m\u001b[0m\n\u001b[1;32m    781\u001b[0m             \u001b[0;31m# called before we get here, causing self._jobs to\u001b[0m\u001b[0;34m\u001b[0m\u001b[0;34m\u001b[0m\u001b[0;34m\u001b[0m\u001b[0m\n",
      "\u001b[0;32m/opt/conda/lib/python3.9/site-packages/joblib/_parallel_backends.py\u001b[0m in \u001b[0;36mapply_async\u001b[0;34m(self, func, callback)\u001b[0m\n\u001b[1;32m    206\u001b[0m     \u001b[0;32mdef\u001b[0m \u001b[0mapply_async\u001b[0m\u001b[0;34m(\u001b[0m\u001b[0mself\u001b[0m\u001b[0;34m,\u001b[0m \u001b[0mfunc\u001b[0m\u001b[0;34m,\u001b[0m \u001b[0mcallback\u001b[0m\u001b[0;34m=\u001b[0m\u001b[0;32mNone\u001b[0m\u001b[0;34m)\u001b[0m\u001b[0;34m:\u001b[0m\u001b[0;34m\u001b[0m\u001b[0;34m\u001b[0m\u001b[0m\n\u001b[1;32m    207\u001b[0m         \u001b[0;34m\"\"\"Schedule a func to be run\"\"\"\u001b[0m\u001b[0;34m\u001b[0m\u001b[0;34m\u001b[0m\u001b[0m\n\u001b[0;32m--> 208\u001b[0;31m         \u001b[0mresult\u001b[0m \u001b[0;34m=\u001b[0m \u001b[0mImmediateResult\u001b[0m\u001b[0;34m(\u001b[0m\u001b[0mfunc\u001b[0m\u001b[0;34m)\u001b[0m\u001b[0;34m\u001b[0m\u001b[0;34m\u001b[0m\u001b[0m\n\u001b[0m\u001b[1;32m    209\u001b[0m         \u001b[0;32mif\u001b[0m \u001b[0mcallback\u001b[0m\u001b[0;34m:\u001b[0m\u001b[0;34m\u001b[0m\u001b[0;34m\u001b[0m\u001b[0m\n\u001b[1;32m    210\u001b[0m             \u001b[0mcallback\u001b[0m\u001b[0;34m(\u001b[0m\u001b[0mresult\u001b[0m\u001b[0;34m)\u001b[0m\u001b[0;34m\u001b[0m\u001b[0;34m\u001b[0m\u001b[0m\n",
      "\u001b[0;32m/opt/conda/lib/python3.9/site-packages/joblib/_parallel_backends.py\u001b[0m in \u001b[0;36m__init__\u001b[0;34m(self, batch)\u001b[0m\n\u001b[1;32m    570\u001b[0m         \u001b[0;31m# Don't delay the application, to avoid keeping the input\u001b[0m\u001b[0;34m\u001b[0m\u001b[0;34m\u001b[0m\u001b[0;34m\u001b[0m\u001b[0m\n\u001b[1;32m    571\u001b[0m         \u001b[0;31m# arguments in memory\u001b[0m\u001b[0;34m\u001b[0m\u001b[0;34m\u001b[0m\u001b[0;34m\u001b[0m\u001b[0m\n\u001b[0;32m--> 572\u001b[0;31m         \u001b[0mself\u001b[0m\u001b[0;34m.\u001b[0m\u001b[0mresults\u001b[0m \u001b[0;34m=\u001b[0m \u001b[0mbatch\u001b[0m\u001b[0;34m(\u001b[0m\u001b[0;34m)\u001b[0m\u001b[0;34m\u001b[0m\u001b[0;34m\u001b[0m\u001b[0m\n\u001b[0m\u001b[1;32m    573\u001b[0m \u001b[0;34m\u001b[0m\u001b[0m\n\u001b[1;32m    574\u001b[0m     \u001b[0;32mdef\u001b[0m \u001b[0mget\u001b[0m\u001b[0;34m(\u001b[0m\u001b[0mself\u001b[0m\u001b[0;34m)\u001b[0m\u001b[0;34m:\u001b[0m\u001b[0;34m\u001b[0m\u001b[0;34m\u001b[0m\u001b[0m\n",
      "\u001b[0;32m/opt/conda/lib/python3.9/site-packages/joblib/parallel.py\u001b[0m in \u001b[0;36m__call__\u001b[0;34m(self)\u001b[0m\n\u001b[1;32m    260\u001b[0m         \u001b[0;31m# change the default number of processes to -1\u001b[0m\u001b[0;34m\u001b[0m\u001b[0;34m\u001b[0m\u001b[0;34m\u001b[0m\u001b[0m\n\u001b[1;32m    261\u001b[0m         \u001b[0;32mwith\u001b[0m \u001b[0mparallel_backend\u001b[0m\u001b[0;34m(\u001b[0m\u001b[0mself\u001b[0m\u001b[0;34m.\u001b[0m\u001b[0m_backend\u001b[0m\u001b[0;34m,\u001b[0m \u001b[0mn_jobs\u001b[0m\u001b[0;34m=\u001b[0m\u001b[0mself\u001b[0m\u001b[0;34m.\u001b[0m\u001b[0m_n_jobs\u001b[0m\u001b[0;34m)\u001b[0m\u001b[0;34m:\u001b[0m\u001b[0;34m\u001b[0m\u001b[0;34m\u001b[0m\u001b[0m\n\u001b[0;32m--> 262\u001b[0;31m             return [func(*args, **kwargs)\n\u001b[0m\u001b[1;32m    263\u001b[0m                     for func, args, kwargs in self.items]\n\u001b[1;32m    264\u001b[0m \u001b[0;34m\u001b[0m\u001b[0m\n",
      "\u001b[0;32m/opt/conda/lib/python3.9/site-packages/joblib/parallel.py\u001b[0m in \u001b[0;36m<listcomp>\u001b[0;34m(.0)\u001b[0m\n\u001b[1;32m    260\u001b[0m         \u001b[0;31m# change the default number of processes to -1\u001b[0m\u001b[0;34m\u001b[0m\u001b[0;34m\u001b[0m\u001b[0;34m\u001b[0m\u001b[0m\n\u001b[1;32m    261\u001b[0m         \u001b[0;32mwith\u001b[0m \u001b[0mparallel_backend\u001b[0m\u001b[0;34m(\u001b[0m\u001b[0mself\u001b[0m\u001b[0;34m.\u001b[0m\u001b[0m_backend\u001b[0m\u001b[0;34m,\u001b[0m \u001b[0mn_jobs\u001b[0m\u001b[0;34m=\u001b[0m\u001b[0mself\u001b[0m\u001b[0;34m.\u001b[0m\u001b[0m_n_jobs\u001b[0m\u001b[0;34m)\u001b[0m\u001b[0;34m:\u001b[0m\u001b[0;34m\u001b[0m\u001b[0;34m\u001b[0m\u001b[0m\n\u001b[0;32m--> 262\u001b[0;31m             return [func(*args, **kwargs)\n\u001b[0m\u001b[1;32m    263\u001b[0m                     for func, args, kwargs in self.items]\n\u001b[1;32m    264\u001b[0m \u001b[0;34m\u001b[0m\u001b[0m\n",
      "\u001b[0;32m/opt/conda/lib/python3.9/site-packages/sklearn/utils/fixes.py\u001b[0m in \u001b[0;36m__call__\u001b[0;34m(self, *args, **kwargs)\u001b[0m\n\u001b[1;32m    220\u001b[0m     \u001b[0;32mdef\u001b[0m \u001b[0m__call__\u001b[0m\u001b[0;34m(\u001b[0m\u001b[0mself\u001b[0m\u001b[0;34m,\u001b[0m \u001b[0;34m*\u001b[0m\u001b[0margs\u001b[0m\u001b[0;34m,\u001b[0m \u001b[0;34m**\u001b[0m\u001b[0mkwargs\u001b[0m\u001b[0;34m)\u001b[0m\u001b[0;34m:\u001b[0m\u001b[0;34m\u001b[0m\u001b[0;34m\u001b[0m\u001b[0m\n\u001b[1;32m    221\u001b[0m         \u001b[0;32mwith\u001b[0m \u001b[0mconfig_context\u001b[0m\u001b[0;34m(\u001b[0m\u001b[0;34m**\u001b[0m\u001b[0mself\u001b[0m\u001b[0;34m.\u001b[0m\u001b[0mconfig\u001b[0m\u001b[0;34m)\u001b[0m\u001b[0;34m:\u001b[0m\u001b[0;34m\u001b[0m\u001b[0;34m\u001b[0m\u001b[0m\n\u001b[0;32m--> 222\u001b[0;31m             \u001b[0;32mreturn\u001b[0m \u001b[0mself\u001b[0m\u001b[0;34m.\u001b[0m\u001b[0mfunction\u001b[0m\u001b[0;34m(\u001b[0m\u001b[0;34m*\u001b[0m\u001b[0margs\u001b[0m\u001b[0;34m,\u001b[0m \u001b[0;34m**\u001b[0m\u001b[0mkwargs\u001b[0m\u001b[0;34m)\u001b[0m\u001b[0;34m\u001b[0m\u001b[0;34m\u001b[0m\u001b[0m\n\u001b[0m",
      "\u001b[0;32m/opt/conda/lib/python3.9/site-packages/sklearn/ensemble/_forest.py\u001b[0m in \u001b[0;36m_parallel_build_trees\u001b[0;34m(tree, forest, X, y, sample_weight, tree_idx, n_trees, verbose, class_weight, n_samples_bootstrap)\u001b[0m\n\u001b[1;32m    167\u001b[0m                                                         indices=indices)\n\u001b[1;32m    168\u001b[0m \u001b[0;34m\u001b[0m\u001b[0m\n\u001b[0;32m--> 169\u001b[0;31m         \u001b[0mtree\u001b[0m\u001b[0;34m.\u001b[0m\u001b[0mfit\u001b[0m\u001b[0;34m(\u001b[0m\u001b[0mX\u001b[0m\u001b[0;34m,\u001b[0m \u001b[0my\u001b[0m\u001b[0;34m,\u001b[0m \u001b[0msample_weight\u001b[0m\u001b[0;34m=\u001b[0m\u001b[0mcurr_sample_weight\u001b[0m\u001b[0;34m,\u001b[0m \u001b[0mcheck_input\u001b[0m\u001b[0;34m=\u001b[0m\u001b[0;32mFalse\u001b[0m\u001b[0;34m)\u001b[0m\u001b[0;34m\u001b[0m\u001b[0;34m\u001b[0m\u001b[0m\n\u001b[0m\u001b[1;32m    170\u001b[0m     \u001b[0;32melse\u001b[0m\u001b[0;34m:\u001b[0m\u001b[0;34m\u001b[0m\u001b[0;34m\u001b[0m\u001b[0m\n\u001b[1;32m    171\u001b[0m         \u001b[0mtree\u001b[0m\u001b[0;34m.\u001b[0m\u001b[0mfit\u001b[0m\u001b[0;34m(\u001b[0m\u001b[0mX\u001b[0m\u001b[0;34m,\u001b[0m \u001b[0my\u001b[0m\u001b[0;34m,\u001b[0m \u001b[0msample_weight\u001b[0m\u001b[0;34m=\u001b[0m\u001b[0msample_weight\u001b[0m\u001b[0;34m,\u001b[0m \u001b[0mcheck_input\u001b[0m\u001b[0;34m=\u001b[0m\u001b[0;32mFalse\u001b[0m\u001b[0;34m)\u001b[0m\u001b[0;34m\u001b[0m\u001b[0;34m\u001b[0m\u001b[0m\n",
      "\u001b[0;32m/opt/conda/lib/python3.9/site-packages/sklearn/tree/_classes.py\u001b[0m in \u001b[0;36mfit\u001b[0;34m(self, X, y, sample_weight, check_input, X_idx_sorted)\u001b[0m\n\u001b[1;32m   1245\u001b[0m         \"\"\"\n\u001b[1;32m   1246\u001b[0m \u001b[0;34m\u001b[0m\u001b[0m\n\u001b[0;32m-> 1247\u001b[0;31m         super().fit(\n\u001b[0m\u001b[1;32m   1248\u001b[0m             \u001b[0mX\u001b[0m\u001b[0;34m,\u001b[0m \u001b[0my\u001b[0m\u001b[0;34m,\u001b[0m\u001b[0;34m\u001b[0m\u001b[0;34m\u001b[0m\u001b[0m\n\u001b[1;32m   1249\u001b[0m             \u001b[0msample_weight\u001b[0m\u001b[0;34m=\u001b[0m\u001b[0msample_weight\u001b[0m\u001b[0;34m,\u001b[0m\u001b[0;34m\u001b[0m\u001b[0;34m\u001b[0m\u001b[0m\n",
      "\u001b[0;32m/opt/conda/lib/python3.9/site-packages/sklearn/tree/_classes.py\u001b[0m in \u001b[0;36mfit\u001b[0;34m(self, X, y, sample_weight, check_input, X_idx_sorted)\u001b[0m\n\u001b[1;32m    387\u001b[0m                                            min_impurity_split)\n\u001b[1;32m    388\u001b[0m \u001b[0;34m\u001b[0m\u001b[0m\n\u001b[0;32m--> 389\u001b[0;31m         \u001b[0mbuilder\u001b[0m\u001b[0;34m.\u001b[0m\u001b[0mbuild\u001b[0m\u001b[0;34m(\u001b[0m\u001b[0mself\u001b[0m\u001b[0;34m.\u001b[0m\u001b[0mtree_\u001b[0m\u001b[0;34m,\u001b[0m \u001b[0mX\u001b[0m\u001b[0;34m,\u001b[0m \u001b[0my\u001b[0m\u001b[0;34m,\u001b[0m \u001b[0msample_weight\u001b[0m\u001b[0;34m)\u001b[0m\u001b[0;34m\u001b[0m\u001b[0;34m\u001b[0m\u001b[0m\n\u001b[0m\u001b[1;32m    390\u001b[0m \u001b[0;34m\u001b[0m\u001b[0m\n\u001b[1;32m    391\u001b[0m         \u001b[0;32mif\u001b[0m \u001b[0mself\u001b[0m\u001b[0;34m.\u001b[0m\u001b[0mn_outputs_\u001b[0m \u001b[0;34m==\u001b[0m \u001b[0;36m1\u001b[0m \u001b[0;32mand\u001b[0m \u001b[0mis_classifier\u001b[0m\u001b[0;34m(\u001b[0m\u001b[0mself\u001b[0m\u001b[0;34m)\u001b[0m\u001b[0;34m:\u001b[0m\u001b[0;34m\u001b[0m\u001b[0;34m\u001b[0m\u001b[0m\n",
      "\u001b[0;31mKeyboardInterrupt\u001b[0m: "
     ]
    }
   ],
   "source": [
    "%%time\n",
    "# Примением случайный лес в регрессии\n",
    "\n",
    "best_model = None\n",
    "best_RMSE = 1000\n",
    "best_est = 0\n",
    "best_depth = 0\n",
    "best_final_score = 0\n",
    "\n",
    "print('='*127)\n",
    "print()\n",
    "\n",
    "for est in range(10, 51, 10):\n",
    "    print('+'*127)\n",
    "    for depth in range (1, 6):\n",
    "        # Инициализируем модель RandomForestRegressor с параметрами random_state=12345, n_estimators=est и max_depth=depth\n",
    "        model = RandomForestRegressor(random_state = 12345, n_estimators = est, max_depth = depth)\n",
    "\n",
    "        # Обучим модель на тренировочной выборке\n",
    "        model.fit(features_train, target_train )\n",
    "\n",
    "        # Получаем предсказания\n",
    "        predictions_valid = model.predict(features_valid)\n",
    "        \n",
    "        # Кроссвалидация\n",
    "        scores = cross_val_score(model, features, target, cv=5)\n",
    "\n",
    "        final_score = scores.mean()\n",
    "\n",
    "        RMSE = mean_squared_error(target_valid, predictions_valid) ** 0.5\n",
    "        print('-'*127)\n",
    "        print('Глубина дерева:', depth, '; RMSE модели:', RMSE, '; Предсказание модели:', predictions_valid.mean())\n",
    "        print('Cредняя оценка качества модели:', final_score)\n",
    "        print('sMAPE:')\n",
    "        print(sMAPE(target_valid, predictions_valid))\n",
    "        print('Итоговое sMAPE:', total_sMAPE(sMAPE(target_valid, predictions_valid)[0], sMAPE(target_valid, predictions_valid)[1]))\n",
    "\n",
    "        if final_score > best_final_score:\n",
    "            best_model = model\n",
    "            best_RMSE = RMSE\n",
    "            best_est = est\n",
    "            best_depth = depth\n",
    "            best_predictions = predictions_valid\n",
    "            best_final_score = final_score\n",
    "\n",
    "print('='*127)\n",
    "print()\n",
    "print(\"RMSE наилучшей модели на валидационной выборке:\", best_RMSE, \"Количество деревьев:\", best_est, \"Глубина дерева:\", best_depth)\n",
    "print('Лучшие среднее предсказание модели:', best_predictions.mean())\n",
    "print('Лучшая средняя оценка качества модели:', best_final_score)\n",
    "print('='*127)"
   ]
  },
  {
   "cell_type": "markdown",
   "metadata": {},
   "source": [
    "Средняя качества обучения немного уступает предыдющей модели - Решающее дерево, на 7%. А среднее показатель оставалась примерно прежней"
   ]
  },
  {
   "cell_type": "markdown",
   "metadata": {},
   "source": [
    "Лучшее качество обучения оказалась модель Линейной регресси. Теперь приступаем к тестовой выборке по этой модели"
   ]
  },
  {
   "cell_type": "markdown",
   "metadata": {},
   "source": [
    "### Проверим на тестовой выборке"
   ]
  },
  {
   "cell_type": "markdown",
   "metadata": {},
   "source": [
    "#### Обучение и проверка модели"
   ]
  },
  {
   "cell_type": "code",
   "execution_count": 51,
   "metadata": {},
   "outputs": [],
   "source": [
    "# Поскольку мы знаем, что в тестовой выборки отсутствуют нужные нами признаки, поэтому протестируем у исходного\n",
    "features = df_full.drop('date', axis=1)\n",
    "target = df_full[['rougher.output.recovery', 'final.output.recovery']]"
   ]
  },
  {
   "cell_type": "markdown",
   "metadata": {},
   "source": [
    "#### Разобьем данные на обучающую и валидационную выборки в соотношении 75:25"
   ]
  },
  {
   "cell_type": "code",
   "execution_count": 53,
   "metadata": {},
   "outputs": [],
   "source": [
    "# Как обычно, будем разделять 75% данных для обучающей выборки и 25% валидационной выборки\n",
    "features_train, features_valid, target_train, target_valid = train_test_split(features, target, test_size= (1 - 0.75), random_state=12345) "
   ]
  },
  {
   "cell_type": "code",
   "execution_count": 54,
   "metadata": {},
   "outputs": [
    {
     "name": "stdout",
     "output_type": "stream",
     "text": [
      "CPU times: total: 609 ms\n",
      "Wall time: 155 ms\n"
     ]
    }
   ],
   "source": [
    "%%time\n",
    "# Применяем метод линейной регрессии\n",
    "model = LinearRegression()\n",
    "\n",
    "# Обучим модель на тренировочной выборке\n",
    "model.fit(features_train, target_train)\n",
    "\n",
    "# Получим предсказания обучающей модели\n",
    "predictions_train = model.predict(features_train)\n",
    "\n",
    "# Получим предсказания тестовой модели\n",
    "predictions_valid = model.predict(features_valid)"
   ]
  },
  {
   "cell_type": "markdown",
   "metadata": {},
   "source": [
    "**Чем меньше RMSE и близок 0, тем лучше**"
   ]
  },
  {
   "cell_type": "code",
   "execution_count": 55,
   "metadata": {
    "scrolled": true
   },
   "outputs": [
    {
     "name": "stdout",
     "output_type": "stream",
     "text": [
      "RMSE модели линейной регрессии на валидационной выборке:\n",
      "-------------------------------------------------------------------------------------------------------------------------------\n",
      "Обучающая выборка: 4.129021240970025e-24\n",
      "Предсказание модели обучающей выборки: 75.55482984335853\n",
      "-------------------------------------------------------------------------------------------------------------------------------\n",
      "Тестовая выборка: 3.528941902975695e-24\n",
      "Предсказание модели обучающей выборки: 75.45541529877777\n",
      "-------------------------------------------------------------------------------------------------------------------------------\n"
     ]
    }
   ],
   "source": [
    "print(\"RMSE модели линейной регрессии на валидационной выборке:\")\n",
    "print('-'*127)\n",
    "print(\"Обучающая выборка:\", mean_squared_error(target_train, predictions_train))\n",
    "print('Предсказание модели обучающей выборки:', predictions_train.mean())\n",
    "print('-'*127)\n",
    "print(\"Тестовая выборка:\", mean_squared_error(target_valid, predictions_valid))\n",
    "print('Предсказание модели обучающей выборки:', predictions_valid.mean())\n",
    "print('-'*127)"
   ]
  },
  {
   "cell_type": "markdown",
   "metadata": {},
   "source": [
    "Качество модели на тестовой выборки показалось себя немного хуже обучающей"
   ]
  },
  {
   "cell_type": "markdown",
   "metadata": {},
   "source": [
    "## Выводы\n",
    "\n",
    "В течение отладки выяснили, что отсутствуют признаки: rougher.output.recovery, final.output.recovery вещественного типа. И было решено протестировать на исходную выборку. Также выяснили пропущенные значения в некоторых датасетах, что и решили убрать их, чтобы не искажать на исследование.\n",
    "\n",
    "В ходе анализа данных узнали, что концентрация золота после второго этапа очистки оказалась намного выше чем после флотации и первого этапа очистки. Ситуация со серебром оказалсь другой, т.е. концентрация серебра сильно упала после первого этапа очистки. Чтобы сохранить высокую концентрацию серебра, придется воздержаться этапы очистки. Со свинцом ситуация более приемлемая, после второго этапа очистки принесет удовлетворительную оценку концентратов.\n",
    "\n",
    "Лучшей модели обучения оказался метод **? Линейной регресси ?**, также было проведено тестирование на модели"
   ]
  },
  {
   "cell_type": "markdown",
   "metadata": {},
   "source": [
    "## Чек-лист готовности проекта"
   ]
  },
  {
   "cell_type": "markdown",
   "metadata": {},
   "source": [
    "- [x]  Jupyter Notebook открыт\n",
    "- [x]  Весь код выполняется без ошибок\n",
    "- [x]  Ячейки с кодом расположены в порядке выполнения\n",
    "- [x]  Выполнен шаг 1: данные подготовлены\n",
    "    - [x]  Проверена формула вычисления эффективности обогащения\n",
    "    - [x]  Проанализированы признаки, недоступные в тестовой выборке\n",
    "    - [x]  Проведена предобработка данных\n",
    "- [x]  Выполнен шаг 2: данные проанализированы\n",
    "    - [x]  Исследовано изменение концентрации элементов на каждом этапе\n",
    "    - [x]  Проанализированы распределения размеров гранул на обучающей и тестовой выборках\n",
    "    - [x]  Исследованы суммарные концентрации\n",
    "- [x]  Выполнен шаг 3: построена модель прогнозирования\n",
    "    - [x]  Написана функция для вычисления итогового *sMAPE*\n",
    "    - [x]  Обучено и проверено несколько моделей\n",
    "    - [x]  Выбрана лучшая модель, её качество проверено на тестовой выборке"
   ]
  }
 ],
 "metadata": {
  "ExecuteTimeLog": [
   {
    "duration": 1575,
    "start_time": "2023-02-13T07:20:44.157Z"
   },
   {
    "duration": 41,
    "start_time": "2023-02-13T07:20:45.815Z"
   },
   {
    "duration": 2116,
    "start_time": "2023-02-13T07:21:14.004Z"
   },
   {
    "duration": 15,
    "start_time": "2023-02-13T07:21:38.708Z"
   },
   {
    "duration": 26,
    "start_time": "2023-02-13T07:22:12.802Z"
   },
   {
    "duration": 238,
    "start_time": "2023-02-13T07:23:21.127Z"
   },
   {
    "duration": 14523,
    "start_time": "2023-02-13T07:23:45.743Z"
   },
   {
    "duration": 1355,
    "start_time": "2023-02-13T07:24:00.268Z"
   },
   {
    "duration": 9,
    "start_time": "2023-02-13T07:31:15.081Z"
   },
   {
    "duration": 44,
    "start_time": "2023-02-13T07:31:16.496Z"
   },
   {
    "duration": 1415,
    "start_time": "2023-02-13T07:31:21.170Z"
   },
   {
    "duration": 2056,
    "start_time": "2023-02-13T07:31:22.645Z"
   },
   {
    "duration": 235,
    "start_time": "2023-02-13T07:31:24.703Z"
   },
   {
    "duration": 4,
    "start_time": "2023-02-13T07:32:34.309Z"
   },
   {
    "duration": 50,
    "start_time": "2023-02-13T17:48:10.060Z"
   },
   {
    "duration": 1567,
    "start_time": "2023-02-13T17:48:15.518Z"
   },
   {
    "duration": 3376,
    "start_time": "2023-02-13T17:48:17.087Z"
   },
   {
    "duration": 256,
    "start_time": "2023-02-13T17:48:23.380Z"
   },
   {
    "duration": 125,
    "start_time": "2023-02-13T17:48:37.088Z"
   },
   {
    "duration": 252,
    "start_time": "2023-02-13T17:48:45.066Z"
   },
   {
    "duration": 44,
    "start_time": "2023-02-13T18:06:18.340Z"
   },
   {
    "duration": 3,
    "start_time": "2023-02-13T18:10:57.910Z"
   },
   {
    "duration": 55,
    "start_time": "2023-02-13T18:51:37.754Z"
   },
   {
    "duration": 5,
    "start_time": "2023-02-13T18:51:41.771Z"
   },
   {
    "duration": 685,
    "start_time": "2023-02-13T18:51:41.778Z"
   },
   {
    "duration": 41,
    "start_time": "2023-02-13T18:51:44.289Z"
   },
   {
    "duration": 48,
    "start_time": "2023-02-13T18:51:47.743Z"
   },
   {
    "duration": 5,
    "start_time": "2023-02-13T18:51:52.648Z"
   },
   {
    "duration": 657,
    "start_time": "2023-02-13T18:51:53.759Z"
   },
   {
    "duration": 56,
    "start_time": "2023-02-13T18:51:54.530Z"
   },
   {
    "duration": 45,
    "start_time": "2023-02-13T18:52:04.473Z"
   },
   {
    "duration": 13891,
    "start_time": "2023-02-13T18:52:13.152Z"
   },
   {
    "duration": 1063,
    "start_time": "2023-02-13T18:55:36.887Z"
   },
   {
    "duration": 51,
    "start_time": "2023-02-13T18:55:40.213Z"
   },
   {
    "duration": 3,
    "start_time": "2023-02-13T18:55:41.605Z"
   },
   {
    "duration": 46,
    "start_time": "2023-02-13T19:09:11.721Z"
   },
   {
    "duration": 1395,
    "start_time": "2023-02-13T19:09:21.950Z"
   },
   {
    "duration": 3142,
    "start_time": "2023-02-13T19:09:23.349Z"
   },
   {
    "duration": 2407,
    "start_time": "2023-02-13T19:09:26.493Z"
   },
   {
    "duration": 250,
    "start_time": "2023-02-13T19:09:28.903Z"
   },
   {
    "duration": 134,
    "start_time": "2023-02-13T19:09:29.155Z"
   },
   {
    "duration": 250,
    "start_time": "2023-02-13T19:09:29.290Z"
   },
   {
    "duration": 7,
    "start_time": "2023-02-13T19:09:29.542Z"
   },
   {
    "duration": 53,
    "start_time": "2023-02-13T19:45:16.980Z"
   },
   {
    "duration": 3790,
    "start_time": "2023-02-13T19:45:24.470Z"
   },
   {
    "duration": 58285,
    "start_time": "2023-02-13T19:45:28.262Z"
   },
   {
    "duration": 3,
    "start_time": "2023-02-13T19:47:59.514Z"
   },
   {
    "duration": 59913,
    "start_time": "2023-02-13T19:49:00.780Z"
   },
   {
    "duration": 504,
    "start_time": "2023-02-13T19:50:00.696Z"
   },
   {
    "duration": 76,
    "start_time": "2023-02-13T19:58:50.937Z"
   },
   {
    "duration": 10,
    "start_time": "2023-02-13T19:59:03.123Z"
   },
   {
    "duration": 9,
    "start_time": "2023-02-13T19:59:18.876Z"
   },
   {
    "duration": 11,
    "start_time": "2023-02-13T19:59:22.750Z"
   },
   {
    "duration": 20,
    "start_time": "2023-02-13T19:59:35.169Z"
   },
   {
    "duration": 8,
    "start_time": "2023-02-13T20:09:15.830Z"
   },
   {
    "duration": 11,
    "start_time": "2023-02-13T20:09:22.528Z"
   },
   {
    "duration": 17,
    "start_time": "2023-02-13T20:09:55.177Z"
   },
   {
    "duration": 47,
    "start_time": "2023-02-13T20:09:57.758Z"
   },
   {
    "duration": 12,
    "start_time": "2023-02-13T20:10:03.993Z"
   },
   {
    "duration": 31,
    "start_time": "2023-02-13T20:10:13.698Z"
   },
   {
    "duration": 6,
    "start_time": "2023-02-13T20:10:24.633Z"
   },
   {
    "duration": 6,
    "start_time": "2023-02-13T20:10:59.859Z"
   },
   {
    "duration": 60,
    "start_time": "2023-02-13T20:11:18.906Z"
   },
   {
    "duration": 18,
    "start_time": "2023-02-13T20:11:22.547Z"
   },
   {
    "duration": 3,
    "start_time": "2023-02-13T20:12:55.365Z"
   },
   {
    "duration": 11,
    "start_time": "2023-02-13T20:13:05.654Z"
   },
   {
    "duration": 5,
    "start_time": "2023-02-13T20:13:09.942Z"
   },
   {
    "duration": 15,
    "start_time": "2023-02-13T20:13:21.284Z"
   },
   {
    "duration": 6,
    "start_time": "2023-02-13T20:13:24.980Z"
   },
   {
    "duration": 3,
    "start_time": "2023-02-13T20:13:55.349Z"
   },
   {
    "duration": 39,
    "start_time": "2023-02-13T20:14:02.392Z"
   },
   {
    "duration": 3,
    "start_time": "2023-02-13T20:14:10.399Z"
   },
   {
    "duration": 60,
    "start_time": "2023-02-13T20:14:11.557Z"
   },
   {
    "duration": 4,
    "start_time": "2023-02-13T20:14:38.773Z"
   },
   {
    "duration": 63,
    "start_time": "2023-02-13T20:14:40.221Z"
   },
   {
    "duration": 4,
    "start_time": "2023-02-13T20:14:49.176Z"
   },
   {
    "duration": 53,
    "start_time": "2023-02-13T20:14:50.285Z"
   },
   {
    "duration": 4,
    "start_time": "2023-02-13T20:15:15.872Z"
   },
   {
    "duration": 59,
    "start_time": "2023-02-13T20:15:18.416Z"
   },
   {
    "duration": 3,
    "start_time": "2023-02-13T20:15:26.286Z"
   },
   {
    "duration": 57,
    "start_time": "2023-02-13T20:15:26.942Z"
   },
   {
    "duration": 3,
    "start_time": "2023-02-13T20:16:14.825Z"
   },
   {
    "duration": 45,
    "start_time": "2023-02-13T20:16:16.017Z"
   },
   {
    "duration": 56,
    "start_time": "2023-02-13T20:16:25.840Z"
   },
   {
    "duration": 3,
    "start_time": "2023-02-13T20:17:05.290Z"
   },
   {
    "duration": 47,
    "start_time": "2023-02-13T20:17:07.356Z"
   },
   {
    "duration": 3,
    "start_time": "2023-02-13T20:17:19.396Z"
   },
   {
    "duration": 48,
    "start_time": "2023-02-13T20:17:20.720Z"
   },
   {
    "duration": 45,
    "start_time": "2023-02-13T20:17:31.467Z"
   },
   {
    "duration": 21,
    "start_time": "2023-02-13T20:17:34.975Z"
   },
   {
    "duration": 46,
    "start_time": "2023-02-13T20:17:36.634Z"
   },
   {
    "duration": 29,
    "start_time": "2023-02-13T20:24:46.368Z"
   },
   {
    "duration": 123,
    "start_time": "2023-02-13T20:24:54.947Z"
   },
   {
    "duration": 123,
    "start_time": "2023-02-13T20:24:59.397Z"
   },
   {
    "duration": 12,
    "start_time": "2023-02-13T20:25:01.456Z"
   },
   {
    "duration": 24,
    "start_time": "2023-02-13T20:25:03.773Z"
   },
   {
    "duration": 97,
    "start_time": "2023-02-13T20:25:09.492Z"
   },
   {
    "duration": 235,
    "start_time": "2023-02-13T20:25:23.706Z"
   },
   {
    "duration": 228,
    "start_time": "2023-02-13T20:25:28.530Z"
   },
   {
    "duration": 233,
    "start_time": "2023-02-13T20:25:35.348Z"
   },
   {
    "duration": 223,
    "start_time": "2023-02-13T20:25:50.828Z"
   },
   {
    "duration": 232,
    "start_time": "2023-02-13T20:26:09.314Z"
   },
   {
    "duration": 59,
    "start_time": "2023-02-14T19:45:47.470Z"
   },
   {
    "duration": 1325,
    "start_time": "2023-02-14T19:45:50.453Z"
   },
   {
    "duration": 1954,
    "start_time": "2023-02-14T19:45:51.781Z"
   },
   {
    "duration": 567,
    "start_time": "2023-02-14T19:45:53.737Z"
   },
   {
    "duration": 304,
    "start_time": "2023-02-14T19:45:54.307Z"
   },
   {
    "duration": 499,
    "start_time": "2023-02-14T19:45:54.613Z"
   },
   {
    "duration": 2,
    "start_time": "2023-02-14T19:45:55.114Z"
   },
   {
    "duration": 112,
    "start_time": "2023-02-14T19:45:55.118Z"
   },
   {
    "duration": 80,
    "start_time": "2023-02-14T19:45:55.231Z"
   },
   {
    "duration": 110,
    "start_time": "2023-02-14T19:45:55.313Z"
   },
   {
    "duration": 422,
    "start_time": "2023-02-14T19:45:55.425Z"
   },
   {
    "duration": 69,
    "start_time": "2023-02-14T19:45:55.848Z"
   },
   {
    "duration": 15,
    "start_time": "2023-02-14T19:46:01.804Z"
   },
   {
    "duration": 80,
    "start_time": "2023-02-14T20:06:24.118Z"
   },
   {
    "duration": 11,
    "start_time": "2023-02-14T20:06:34.822Z"
   },
   {
    "duration": 5,
    "start_time": "2023-02-14T20:07:02.072Z"
   },
   {
    "duration": 6,
    "start_time": "2023-02-14T20:07:09.281Z"
   },
   {
    "duration": 4,
    "start_time": "2023-02-14T20:08:52.322Z"
   },
   {
    "duration": 5,
    "start_time": "2023-02-14T20:08:53.297Z"
   },
   {
    "duration": 3,
    "start_time": "2023-02-14T20:10:47.636Z"
   },
   {
    "duration": 8,
    "start_time": "2023-02-14T20:11:10.109Z"
   },
   {
    "duration": 16,
    "start_time": "2023-02-14T20:11:23.897Z"
   },
   {
    "duration": 9,
    "start_time": "2023-02-14T20:11:29.265Z"
   },
   {
    "duration": 3,
    "start_time": "2023-02-14T20:13:29.248Z"
   },
   {
    "duration": 8,
    "start_time": "2023-02-14T20:13:51.297Z"
   },
   {
    "duration": 11,
    "start_time": "2023-02-14T20:14:18.418Z"
   },
   {
    "duration": 8,
    "start_time": "2023-02-14T20:14:43.793Z"
   },
   {
    "duration": 20,
    "start_time": "2023-02-14T20:14:57.889Z"
   },
   {
    "duration": 5,
    "start_time": "2023-02-14T20:15:07.552Z"
   },
   {
    "duration": 3,
    "start_time": "2023-02-14T20:15:36.225Z"
   },
   {
    "duration": 3,
    "start_time": "2023-02-14T20:15:44.267Z"
   },
   {
    "duration": 3,
    "start_time": "2023-02-14T20:15:45.230Z"
   },
   {
    "duration": 9,
    "start_time": "2023-02-14T20:15:49.612Z"
   },
   {
    "duration": 9,
    "start_time": "2023-02-14T20:15:54.779Z"
   },
   {
    "duration": 78,
    "start_time": "2023-02-14T20:16:04.290Z"
   },
   {
    "duration": 9,
    "start_time": "2023-02-14T20:16:16.067Z"
   },
   {
    "duration": 3,
    "start_time": "2023-02-14T20:16:22.123Z"
   },
   {
    "duration": 3,
    "start_time": "2023-02-14T20:16:23.509Z"
   },
   {
    "duration": 4,
    "start_time": "2023-02-14T20:16:25.274Z"
   },
   {
    "duration": 3,
    "start_time": "2023-02-14T20:16:31.883Z"
   },
   {
    "duration": 4,
    "start_time": "2023-02-14T20:16:32.595Z"
   },
   {
    "duration": 3,
    "start_time": "2023-02-14T20:16:39.219Z"
   },
   {
    "duration": 7,
    "start_time": "2023-02-14T20:16:43.227Z"
   },
   {
    "duration": 6,
    "start_time": "2023-02-14T20:16:47.828Z"
   },
   {
    "duration": 32,
    "start_time": "2023-02-14T20:43:18.821Z"
   },
   {
    "duration": 12,
    "start_time": "2023-02-14T20:45:41.622Z"
   },
   {
    "duration": 10,
    "start_time": "2023-02-14T20:45:53.759Z"
   },
   {
    "duration": 9,
    "start_time": "2023-02-14T20:46:23.182Z"
   },
   {
    "duration": 12,
    "start_time": "2023-02-14T20:46:31.559Z"
   },
   {
    "duration": 8,
    "start_time": "2023-02-14T20:46:32.647Z"
   },
   {
    "duration": 8,
    "start_time": "2023-02-14T20:46:37.407Z"
   },
   {
    "duration": 29,
    "start_time": "2023-02-14T20:47:25.816Z"
   },
   {
    "duration": 6,
    "start_time": "2023-02-14T20:47:30.554Z"
   },
   {
    "duration": 9,
    "start_time": "2023-02-14T20:47:38.414Z"
   },
   {
    "duration": 22,
    "start_time": "2023-02-14T20:47:45.667Z"
   },
   {
    "duration": 4,
    "start_time": "2023-02-14T20:49:11.458Z"
   },
   {
    "duration": 15,
    "start_time": "2023-02-14T20:49:15.114Z"
   },
   {
    "duration": 3,
    "start_time": "2023-02-14T20:49:46.337Z"
   },
   {
    "duration": 4,
    "start_time": "2023-02-14T20:49:51.147Z"
   },
   {
    "duration": 3,
    "start_time": "2023-02-14T20:49:58.172Z"
   },
   {
    "duration": 8,
    "start_time": "2023-02-14T20:50:17.124Z"
   },
   {
    "duration": 27,
    "start_time": "2023-02-14T20:50:20.260Z"
   },
   {
    "duration": 4,
    "start_time": "2023-02-14T20:50:42.262Z"
   },
   {
    "duration": 4,
    "start_time": "2023-02-14T20:50:47.389Z"
   },
   {
    "duration": 9,
    "start_time": "2023-02-14T20:50:50.267Z"
   },
   {
    "duration": 3,
    "start_time": "2023-02-14T20:51:05.068Z"
   },
   {
    "duration": 22,
    "start_time": "2023-02-14T20:51:06.987Z"
   },
   {
    "duration": 5,
    "start_time": "2023-02-14T20:51:18.574Z"
   },
   {
    "duration": 683,
    "start_time": "2023-02-14T20:51:18.581Z"
   },
   {
    "duration": 215,
    "start_time": "2023-02-14T20:51:19.265Z"
   },
   {
    "duration": 129,
    "start_time": "2023-02-14T20:51:19.481Z"
   },
   {
    "duration": 231,
    "start_time": "2023-02-14T20:51:19.611Z"
   },
   {
    "duration": 4,
    "start_time": "2023-02-14T20:51:19.844Z"
   },
   {
    "duration": 50,
    "start_time": "2023-02-14T20:51:22.260Z"
   },
   {
    "duration": 21,
    "start_time": "2023-02-14T20:51:24.004Z"
   },
   {
    "duration": 53,
    "start_time": "2023-02-14T20:51:25.036Z"
   },
   {
    "duration": 26,
    "start_time": "2023-02-14T20:51:27.549Z"
   },
   {
    "duration": 24,
    "start_time": "2023-02-14T20:51:29.595Z"
   },
   {
    "duration": 48,
    "start_time": "2023-02-14T20:51:42.053Z"
   },
   {
    "duration": 199,
    "start_time": "2023-02-14T20:51:47.006Z"
   },
   {
    "duration": 3,
    "start_time": "2023-02-14T20:57:04.108Z"
   },
   {
    "duration": 91,
    "start_time": "2023-02-14T20:58:27.588Z"
   },
   {
    "duration": 3,
    "start_time": "2023-02-14T20:58:48.792Z"
   },
   {
    "duration": 123,
    "start_time": "2023-02-14T20:58:49.509Z"
   },
   {
    "duration": 69,
    "start_time": "2023-02-14T20:59:01.276Z"
   },
   {
    "duration": 3,
    "start_time": "2023-02-14T20:59:46.589Z"
   },
   {
    "duration": 4,
    "start_time": "2023-02-14T21:00:01.688Z"
   },
   {
    "duration": 4,
    "start_time": "2023-02-14T21:00:32.231Z"
   },
   {
    "duration": 4,
    "start_time": "2023-02-14T21:00:44.878Z"
   },
   {
    "duration": 77,
    "start_time": "2023-02-14T21:00:48.528Z"
   },
   {
    "duration": 66,
    "start_time": "2023-02-14T21:01:08.680Z"
   },
   {
    "duration": 72,
    "start_time": "2023-02-14T21:01:12.246Z"
   },
   {
    "duration": 4,
    "start_time": "2023-02-14T21:02:03.257Z"
   },
   {
    "duration": 6,
    "start_time": "2023-02-14T21:02:17.164Z"
   },
   {
    "duration": 5,
    "start_time": "2023-02-14T21:02:31.929Z"
   },
   {
    "duration": 6,
    "start_time": "2023-02-14T21:02:33.945Z"
   },
   {
    "duration": 74,
    "start_time": "2023-02-14T21:03:29.057Z"
   },
   {
    "duration": 5,
    "start_time": "2023-02-14T21:03:32.656Z"
   },
   {
    "duration": 5,
    "start_time": "2023-02-14T21:03:35.521Z"
   },
   {
    "duration": 3,
    "start_time": "2023-02-14T21:03:48.186Z"
   },
   {
    "duration": 6,
    "start_time": "2023-02-14T21:03:52.523Z"
   },
   {
    "duration": 5,
    "start_time": "2023-02-14T21:03:59.753Z"
   },
   {
    "duration": 13,
    "start_time": "2023-02-14T21:04:44.179Z"
   },
   {
    "duration": 34,
    "start_time": "2023-02-14T21:04:59.804Z"
   },
   {
    "duration": 8,
    "start_time": "2023-02-14T21:05:21.179Z"
   },
   {
    "duration": 11,
    "start_time": "2023-02-14T21:05:26.748Z"
   },
   {
    "duration": 4,
    "start_time": "2023-02-14T21:05:31.364Z"
   },
   {
    "duration": 10,
    "start_time": "2023-02-14T21:05:38.794Z"
   },
   {
    "duration": 10,
    "start_time": "2023-02-14T21:08:03.148Z"
   },
   {
    "duration": 5,
    "start_time": "2023-02-14T21:08:06.580Z"
   },
   {
    "duration": 682,
    "start_time": "2023-02-14T21:08:06.587Z"
   },
   {
    "duration": 209,
    "start_time": "2023-02-14T21:08:07.270Z"
   },
   {
    "duration": 120,
    "start_time": "2023-02-14T21:08:07.480Z"
   },
   {
    "duration": 238,
    "start_time": "2023-02-14T21:08:07.602Z"
   },
   {
    "duration": 4,
    "start_time": "2023-02-14T21:08:07.841Z"
   },
   {
    "duration": 69,
    "start_time": "2023-02-14T21:08:07.847Z"
   },
   {
    "duration": 18,
    "start_time": "2023-02-14T21:08:07.917Z"
   },
   {
    "duration": 79,
    "start_time": "2023-02-14T21:08:07.936Z"
   },
   {
    "duration": 27,
    "start_time": "2023-02-14T21:08:08.016Z"
   },
   {
    "duration": 131,
    "start_time": "2023-02-14T21:08:08.045Z"
   },
   {
    "duration": 196,
    "start_time": "2023-02-14T21:08:08.178Z"
   },
   {
    "duration": 9,
    "start_time": "2023-02-14T21:08:08.375Z"
   },
   {
    "duration": 0,
    "start_time": "2023-02-14T21:08:08.386Z"
   },
   {
    "duration": 0,
    "start_time": "2023-02-14T21:08:08.387Z"
   },
   {
    "duration": 10,
    "start_time": "2023-02-14T21:08:24.798Z"
   },
   {
    "duration": 4,
    "start_time": "2023-02-14T21:08:33.646Z"
   },
   {
    "duration": 5,
    "start_time": "2023-02-14T21:08:34.879Z"
   },
   {
    "duration": 5,
    "start_time": "2023-02-14T21:08:36.094Z"
   },
   {
    "duration": 3,
    "start_time": "2023-02-14T21:08:37.359Z"
   },
   {
    "duration": 91,
    "start_time": "2023-02-14T21:09:02.599Z"
   },
   {
    "duration": 4,
    "start_time": "2023-02-14T21:09:06.854Z"
   },
   {
    "duration": 83,
    "start_time": "2023-02-16T14:12:18.707Z"
   },
   {
    "duration": 1790,
    "start_time": "2023-02-16T14:12:21.756Z"
   },
   {
    "duration": 2720,
    "start_time": "2023-02-16T14:12:23.548Z"
   },
   {
    "duration": 236,
    "start_time": "2023-02-16T14:12:26.269Z"
   },
   {
    "duration": 157,
    "start_time": "2023-02-16T14:12:26.506Z"
   },
   {
    "duration": 278,
    "start_time": "2023-02-16T14:12:26.665Z"
   },
   {
    "duration": 12,
    "start_time": "2023-02-16T14:12:26.947Z"
   },
   {
    "duration": 82,
    "start_time": "2023-02-16T14:12:26.969Z"
   },
   {
    "duration": 27,
    "start_time": "2023-02-16T14:12:27.052Z"
   },
   {
    "duration": 82,
    "start_time": "2023-02-16T14:12:27.081Z"
   },
   {
    "duration": 33,
    "start_time": "2023-02-16T14:12:27.164Z"
   },
   {
    "duration": 68,
    "start_time": "2023-02-16T14:12:27.199Z"
   },
   {
    "duration": 305,
    "start_time": "2023-02-16T14:12:27.268Z"
   },
   {
    "duration": 4,
    "start_time": "2023-02-16T14:12:27.575Z"
   },
   {
    "duration": 110,
    "start_time": "2023-02-16T14:12:27.581Z"
   },
   {
    "duration": 0,
    "start_time": "2023-02-16T14:12:27.692Z"
   },
   {
    "duration": 0,
    "start_time": "2023-02-16T14:12:27.693Z"
   },
   {
    "duration": 0,
    "start_time": "2023-02-16T14:12:27.694Z"
   },
   {
    "duration": 10,
    "start_time": "2023-02-16T14:12:40.775Z"
   },
   {
    "duration": 9,
    "start_time": "2023-02-16T14:12:51.751Z"
   },
   {
    "duration": 5,
    "start_time": "2023-02-16T14:12:52.662Z"
   },
   {
    "duration": 11,
    "start_time": "2023-02-16T14:12:56.751Z"
   },
   {
    "duration": 7,
    "start_time": "2023-02-16T14:12:57.806Z"
   },
   {
    "duration": 14,
    "start_time": "2023-02-16T14:12:59.270Z"
   },
   {
    "duration": 5,
    "start_time": "2023-02-16T14:13:21.185Z"
   },
   {
    "duration": 35,
    "start_time": "2023-02-16T14:13:55.304Z"
   },
   {
    "duration": 16,
    "start_time": "2023-02-16T14:14:20.873Z"
   },
   {
    "duration": 17,
    "start_time": "2023-02-16T14:14:26.472Z"
   },
   {
    "duration": 16,
    "start_time": "2023-02-16T14:14:31.052Z"
   },
   {
    "duration": 11,
    "start_time": "2023-02-16T14:14:32.985Z"
   },
   {
    "duration": 11,
    "start_time": "2023-02-16T14:14:34.583Z"
   },
   {
    "duration": 10,
    "start_time": "2023-02-16T14:14:47.468Z"
   },
   {
    "duration": 6,
    "start_time": "2023-02-16T14:14:56.156Z"
   },
   {
    "duration": 26,
    "start_time": "2023-02-16T14:23:47.833Z"
   },
   {
    "duration": 4,
    "start_time": "2023-02-16T14:51:17.204Z"
   },
   {
    "duration": 15,
    "start_time": "2023-02-16T14:51:24.632Z"
   },
   {
    "duration": 7,
    "start_time": "2023-02-16T14:51:36.990Z"
   },
   {
    "duration": 10,
    "start_time": "2023-02-16T14:55:29.474Z"
   },
   {
    "duration": 9,
    "start_time": "2023-02-16T14:55:34.838Z"
   },
   {
    "duration": 7,
    "start_time": "2023-02-16T14:55:38.436Z"
   },
   {
    "duration": 15,
    "start_time": "2023-02-16T14:56:16.228Z"
   },
   {
    "duration": 5,
    "start_time": "2023-02-16T14:57:12.448Z"
   },
   {
    "duration": 9,
    "start_time": "2023-02-16T14:57:32.556Z"
   },
   {
    "duration": 13,
    "start_time": "2023-02-16T14:57:43.354Z"
   },
   {
    "duration": 10,
    "start_time": "2023-02-16T15:00:10.872Z"
   },
   {
    "duration": 11,
    "start_time": "2023-02-16T15:00:19.696Z"
   },
   {
    "duration": 3,
    "start_time": "2023-02-16T15:00:30.193Z"
   },
   {
    "duration": 28,
    "start_time": "2023-02-16T15:00:30.738Z"
   },
   {
    "duration": 7,
    "start_time": "2023-02-16T15:00:38.256Z"
   },
   {
    "duration": 3,
    "start_time": "2023-02-16T15:00:44.165Z"
   },
   {
    "duration": 23,
    "start_time": "2023-02-16T15:00:49.860Z"
   },
   {
    "duration": 12,
    "start_time": "2023-02-16T15:01:06.836Z"
   },
   {
    "duration": 3,
    "start_time": "2023-02-16T15:01:10.353Z"
   },
   {
    "duration": 34,
    "start_time": "2023-02-16T15:01:55.503Z"
   },
   {
    "duration": 3,
    "start_time": "2023-02-16T15:03:11.561Z"
   },
   {
    "duration": 1732,
    "start_time": "2023-02-16T15:03:12.849Z"
   },
   {
    "duration": 4,
    "start_time": "2023-02-16T15:03:44.361Z"
   },
   {
    "duration": 5,
    "start_time": "2023-02-16T15:03:58.343Z"
   },
   {
    "duration": 5,
    "start_time": "2023-02-16T15:03:59.057Z"
   },
   {
    "duration": 4,
    "start_time": "2023-02-16T15:04:04.959Z"
   },
   {
    "duration": 5,
    "start_time": "2023-02-16T15:04:05.633Z"
   },
   {
    "duration": 17,
    "start_time": "2023-02-16T15:04:08.952Z"
   },
   {
    "duration": 5,
    "start_time": "2023-02-16T15:04:12.270Z"
   },
   {
    "duration": 9,
    "start_time": "2023-02-16T15:07:03.364Z"
   },
   {
    "duration": 11,
    "start_time": "2023-02-16T15:07:25.140Z"
   },
   {
    "duration": 2,
    "start_time": "2023-02-16T15:07:30.587Z"
   },
   {
    "duration": 175,
    "start_time": "2023-02-16T15:14:38.236Z"
   },
   {
    "duration": 191,
    "start_time": "2023-02-16T15:14:47.766Z"
   },
   {
    "duration": 173,
    "start_time": "2023-02-16T15:14:52.136Z"
   },
   {
    "duration": 194,
    "start_time": "2023-02-16T15:14:54.102Z"
   },
   {
    "duration": 128,
    "start_time": "2023-02-16T15:14:59.458Z"
   },
   {
    "duration": 150,
    "start_time": "2023-02-16T15:15:03.077Z"
   },
   {
    "duration": 137,
    "start_time": "2023-02-16T15:15:05.557Z"
   },
   {
    "duration": 285,
    "start_time": "2023-02-16T15:15:22.682Z"
   },
   {
    "duration": 193,
    "start_time": "2023-02-16T15:15:28.734Z"
   },
   {
    "duration": 240,
    "start_time": "2023-02-16T15:15:31.440Z"
   },
   {
    "duration": 396,
    "start_time": "2023-02-16T15:15:34.463Z"
   },
   {
    "duration": 2509,
    "start_time": "2023-02-16T15:16:24.569Z"
   },
   {
    "duration": 1737,
    "start_time": "2023-02-16T15:16:29.940Z"
   },
   {
    "duration": 2511,
    "start_time": "2023-02-16T15:16:45.828Z"
   },
   {
    "duration": 3900,
    "start_time": "2023-02-16T15:17:10.868Z"
   },
   {
    "duration": 76,
    "start_time": "2023-02-16T15:21:15.485Z"
   },
   {
    "duration": 32,
    "start_time": "2023-02-16T15:22:03.733Z"
   },
   {
    "duration": 14,
    "start_time": "2023-02-16T15:22:42.656Z"
   },
   {
    "duration": 3085,
    "start_time": "2023-02-16T15:23:21.694Z"
   },
   {
    "duration": 2543,
    "start_time": "2023-02-16T15:23:29.952Z"
   },
   {
    "duration": 1687,
    "start_time": "2023-02-16T15:23:54.444Z"
   },
   {
    "duration": 2725,
    "start_time": "2023-02-16T15:24:24.910Z"
   },
   {
    "duration": 1730,
    "start_time": "2023-02-16T15:25:09.909Z"
   },
   {
    "duration": 1697,
    "start_time": "2023-02-16T15:25:13.238Z"
   },
   {
    "duration": 731,
    "start_time": "2023-02-16T15:25:35.875Z"
   },
   {
    "duration": 11,
    "start_time": "2023-02-16T15:27:35.666Z"
   },
   {
    "duration": 860,
    "start_time": "2023-02-16T15:28:26.175Z"
   },
   {
    "duration": 289,
    "start_time": "2023-02-16T15:28:31.030Z"
   },
   {
    "duration": 668,
    "start_time": "2023-02-16T15:28:39.726Z"
   },
   {
    "duration": 897,
    "start_time": "2023-02-16T15:28:49.458Z"
   },
   {
    "duration": 105,
    "start_time": "2023-02-16T15:29:08.515Z"
   },
   {
    "duration": 96,
    "start_time": "2023-02-16T15:29:29.639Z"
   },
   {
    "duration": 26,
    "start_time": "2023-02-16T15:29:33.044Z"
   },
   {
    "duration": 10,
    "start_time": "2023-02-16T15:29:37.060Z"
   },
   {
    "duration": 4,
    "start_time": "2023-02-16T15:29:51.386Z"
   },
   {
    "duration": 9,
    "start_time": "2023-02-16T15:29:54.832Z"
   },
   {
    "duration": 8,
    "start_time": "2023-02-16T15:29:55.655Z"
   },
   {
    "duration": 1620,
    "start_time": "2023-02-16T15:29:59.878Z"
   },
   {
    "duration": 2655,
    "start_time": "2023-02-16T15:30:01.500Z"
   },
   {
    "duration": 282,
    "start_time": "2023-02-16T15:30:04.157Z"
   },
   {
    "duration": 153,
    "start_time": "2023-02-16T15:30:04.448Z"
   },
   {
    "duration": 276,
    "start_time": "2023-02-16T15:30:04.603Z"
   },
   {
    "duration": 4,
    "start_time": "2023-02-16T15:30:04.880Z"
   },
   {
    "duration": 54,
    "start_time": "2023-02-16T15:30:04.885Z"
   },
   {
    "duration": 26,
    "start_time": "2023-02-16T15:30:04.940Z"
   },
   {
    "duration": 68,
    "start_time": "2023-02-16T15:30:04.967Z"
   },
   {
    "duration": 34,
    "start_time": "2023-02-16T15:30:05.045Z"
   },
   {
    "duration": 76,
    "start_time": "2023-02-16T15:30:05.081Z"
   },
   {
    "duration": 270,
    "start_time": "2023-02-16T15:30:05.160Z"
   },
   {
    "duration": 17,
    "start_time": "2023-02-16T15:30:05.437Z"
   },
   {
    "duration": 15,
    "start_time": "2023-02-16T15:30:05.456Z"
   },
   {
    "duration": 5,
    "start_time": "2023-02-16T15:30:05.473Z"
   },
   {
    "duration": 4,
    "start_time": "2023-02-16T15:30:05.480Z"
   },
   {
    "duration": 5,
    "start_time": "2023-02-16T15:30:05.486Z"
   },
   {
    "duration": 9,
    "start_time": "2023-02-16T15:30:05.493Z"
   },
   {
    "duration": 58,
    "start_time": "2023-02-16T15:30:05.504Z"
   },
   {
    "duration": 6,
    "start_time": "2023-02-16T15:30:05.564Z"
   },
   {
    "duration": 8,
    "start_time": "2023-02-16T15:30:05.572Z"
   },
   {
    "duration": 24375,
    "start_time": "2023-02-16T15:30:07.280Z"
   },
   {
    "duration": 1310,
    "start_time": "2023-02-16T15:30:32.890Z"
   },
   {
    "duration": 1541,
    "start_time": "2023-02-16T15:30:40.986Z"
   },
   {
    "duration": 1187,
    "start_time": "2023-02-16T15:30:48.848Z"
   },
   {
    "duration": 789,
    "start_time": "2023-02-16T15:30:52.357Z"
   },
   {
    "duration": 1087,
    "start_time": "2023-02-16T15:30:55.941Z"
   },
   {
    "duration": 774,
    "start_time": "2023-02-16T15:31:00.188Z"
   },
   {
    "duration": 393,
    "start_time": "2023-02-16T15:31:16.981Z"
   },
   {
    "duration": 23955,
    "start_time": "2023-02-16T15:31:25.232Z"
   },
   {
    "duration": 735,
    "start_time": "2023-02-16T15:31:54.112Z"
   },
   {
    "duration": 1408,
    "start_time": "2023-02-16T15:32:54.764Z"
   },
   {
    "duration": 755,
    "start_time": "2023-02-16T15:33:05.507Z"
   },
   {
    "duration": 8,
    "start_time": "2023-02-16T15:33:45.235Z"
   },
   {
    "duration": 14,
    "start_time": "2023-02-16T15:34:26.868Z"
   },
   {
    "duration": 10,
    "start_time": "2023-02-16T15:35:09.141Z"
   },
   {
    "duration": 17,
    "start_time": "2023-02-16T15:35:14.035Z"
   },
   {
    "duration": 6,
    "start_time": "2023-02-16T15:35:20.686Z"
   },
   {
    "duration": 7,
    "start_time": "2023-02-16T15:35:52.336Z"
   },
   {
    "duration": 624,
    "start_time": "2023-02-16T15:38:17.672Z"
   },
   {
    "duration": 700,
    "start_time": "2023-02-16T15:38:31.239Z"
   },
   {
    "duration": 998,
    "start_time": "2023-02-16T15:38:38.747Z"
   },
   {
    "duration": 359,
    "start_time": "2023-02-16T15:39:16.569Z"
   },
   {
    "duration": 258,
    "start_time": "2023-02-16T15:39:50.144Z"
   },
   {
    "duration": 8,
    "start_time": "2023-02-16T15:39:52.637Z"
   },
   {
    "duration": 260,
    "start_time": "2023-02-16T15:39:53.540Z"
   },
   {
    "duration": 18,
    "start_time": "2023-02-16T15:40:52.553Z"
   },
   {
    "duration": 5,
    "start_time": "2023-02-16T15:41:24.852Z"
   },
   {
    "duration": 491,
    "start_time": "2023-02-16T15:41:26.472Z"
   },
   {
    "duration": 107,
    "start_time": "2023-02-16T15:41:51.536Z"
   },
   {
    "duration": 22,
    "start_time": "2023-02-16T15:41:55.137Z"
   },
   {
    "duration": 23,
    "start_time": "2023-02-16T15:42:02.343Z"
   },
   {
    "duration": 14,
    "start_time": "2023-02-16T15:42:15.290Z"
   },
   {
    "duration": 15,
    "start_time": "2023-02-16T15:42:28.578Z"
   },
   {
    "duration": 193,
    "start_time": "2023-02-16T15:42:33.536Z"
   },
   {
    "duration": 201,
    "start_time": "2023-02-16T15:43:09.491Z"
   },
   {
    "duration": 8,
    "start_time": "2023-02-16T15:43:15.847Z"
   },
   {
    "duration": 16,
    "start_time": "2023-02-16T15:43:31.038Z"
   },
   {
    "duration": 15,
    "start_time": "2023-02-16T15:43:44.542Z"
   },
   {
    "duration": 9,
    "start_time": "2023-02-16T15:43:50.438Z"
   },
   {
    "duration": 5,
    "start_time": "2023-02-16T15:43:54.453Z"
   },
   {
    "duration": 12,
    "start_time": "2023-02-16T15:43:58.894Z"
   },
   {
    "duration": 5,
    "start_time": "2023-02-16T15:44:04.057Z"
   },
   {
    "duration": 26,
    "start_time": "2023-02-16T15:44:07.031Z"
   },
   {
    "duration": 34,
    "start_time": "2023-02-16T15:44:10.726Z"
   },
   {
    "duration": 6,
    "start_time": "2023-02-16T15:44:31.558Z"
   },
   {
    "duration": 1546,
    "start_time": "2023-02-16T15:44:36.295Z"
   },
   {
    "duration": 787,
    "start_time": "2023-02-16T15:44:46.452Z"
   },
   {
    "duration": 637,
    "start_time": "2023-02-16T15:45:29.161Z"
   },
   {
    "duration": 811,
    "start_time": "2023-02-16T15:45:37.867Z"
   },
   {
    "duration": 776,
    "start_time": "2023-02-16T15:45:48.408Z"
   },
   {
    "duration": 785,
    "start_time": "2023-02-16T15:45:59.950Z"
   },
   {
    "duration": 1413,
    "start_time": "2023-02-16T15:46:26.164Z"
   },
   {
    "duration": 720,
    "start_time": "2023-02-16T15:46:34.251Z"
   },
   {
    "duration": 1375,
    "start_time": "2023-02-16T15:47:02.380Z"
   },
   {
    "duration": 1252,
    "start_time": "2023-02-16T15:47:41.039Z"
   },
   {
    "duration": 1228,
    "start_time": "2023-02-16T15:48:06.736Z"
   },
   {
    "duration": 809,
    "start_time": "2023-02-16T15:48:14.338Z"
   },
   {
    "duration": 729,
    "start_time": "2023-02-16T15:48:22.302Z"
   },
   {
    "duration": 867,
    "start_time": "2023-02-16T15:48:32.536Z"
   },
   {
    "duration": 786,
    "start_time": "2023-02-16T15:48:42.344Z"
   },
   {
    "duration": 965,
    "start_time": "2023-02-16T15:48:54.876Z"
   },
   {
    "duration": 757,
    "start_time": "2023-02-16T15:49:05.303Z"
   },
   {
    "duration": 935,
    "start_time": "2023-02-16T15:50:00.031Z"
   },
   {
    "duration": 12,
    "start_time": "2023-02-16T15:51:44.951Z"
   },
   {
    "duration": 776,
    "start_time": "2023-02-16T15:51:45.604Z"
   },
   {
    "duration": 943,
    "start_time": "2023-02-16T15:55:54.942Z"
   },
   {
    "duration": 804,
    "start_time": "2023-02-16T15:56:28.074Z"
   },
   {
    "duration": 922,
    "start_time": "2023-02-16T15:59:20.912Z"
   },
   {
    "duration": 669,
    "start_time": "2023-02-16T16:01:42.161Z"
   },
   {
    "duration": 122,
    "start_time": "2023-02-16T16:03:06.339Z"
   },
   {
    "duration": 631,
    "start_time": "2023-02-16T16:07:01.326Z"
   },
   {
    "duration": 901,
    "start_time": "2023-02-16T16:08:51.348Z"
   },
   {
    "duration": 647,
    "start_time": "2023-02-16T16:09:08.247Z"
   },
   {
    "duration": 21,
    "start_time": "2023-02-16T16:23:27.929Z"
   },
   {
    "duration": 315,
    "start_time": "2023-02-16T16:24:44.421Z"
   },
   {
    "duration": 537,
    "start_time": "2023-02-16T16:24:57.141Z"
   },
   {
    "duration": 306,
    "start_time": "2023-02-16T16:25:02.682Z"
   },
   {
    "duration": 419,
    "start_time": "2023-02-16T16:25:06.634Z"
   },
   {
    "duration": 323,
    "start_time": "2023-02-16T16:25:10.245Z"
   },
   {
    "duration": 449,
    "start_time": "2023-02-16T16:25:12.780Z"
   },
   {
    "duration": 592,
    "start_time": "2023-02-16T16:25:14.715Z"
   },
   {
    "duration": 436,
    "start_time": "2023-02-16T16:25:36.890Z"
   },
   {
    "duration": 914,
    "start_time": "2023-02-16T16:26:16.170Z"
   },
   {
    "duration": 1187,
    "start_time": "2023-02-16T16:26:40.528Z"
   },
   {
    "duration": 418,
    "start_time": "2023-02-16T16:26:50.055Z"
   },
   {
    "duration": 435,
    "start_time": "2023-02-16T16:27:01.706Z"
   },
   {
    "duration": 464,
    "start_time": "2023-02-16T16:27:07.507Z"
   },
   {
    "duration": 624,
    "start_time": "2023-02-16T16:27:35.793Z"
   },
   {
    "duration": 482,
    "start_time": "2023-02-16T16:28:08.292Z"
   },
   {
    "duration": 486,
    "start_time": "2023-02-16T16:28:15.199Z"
   },
   {
    "duration": 436,
    "start_time": "2023-02-16T16:28:20.615Z"
   },
   {
    "duration": 704,
    "start_time": "2023-02-16T16:29:37.535Z"
   },
   {
    "duration": 437,
    "start_time": "2023-02-16T16:29:49.213Z"
   },
   {
    "duration": 430,
    "start_time": "2023-02-16T16:31:49.728Z"
   },
   {
    "duration": 441,
    "start_time": "2023-02-16T16:31:54.696Z"
   },
   {
    "duration": 422,
    "start_time": "2023-02-16T16:32:35.951Z"
   },
   {
    "duration": 715,
    "start_time": "2023-02-16T16:32:50.205Z"
   },
   {
    "duration": 428,
    "start_time": "2023-02-16T16:33:00.794Z"
   },
   {
    "duration": 4,
    "start_time": "2023-02-16T17:00:26.477Z"
   },
   {
    "duration": 10,
    "start_time": "2023-02-16T17:00:33.199Z"
   },
   {
    "duration": 5,
    "start_time": "2023-02-16T17:00:38.701Z"
   },
   {
    "duration": 11,
    "start_time": "2023-02-16T17:01:38.845Z"
   },
   {
    "duration": 12,
    "start_time": "2023-02-16T17:01:43.312Z"
   },
   {
    "duration": 12,
    "start_time": "2023-02-16T17:01:46.572Z"
   },
   {
    "duration": 11,
    "start_time": "2023-02-16T17:01:49.111Z"
   },
   {
    "duration": 13,
    "start_time": "2023-02-16T17:01:52.591Z"
   },
   {
    "duration": 9,
    "start_time": "2023-02-16T17:01:55.502Z"
   },
   {
    "duration": 3,
    "start_time": "2023-02-16T17:02:01.906Z"
   },
   {
    "duration": 28,
    "start_time": "2023-02-16T17:11:30.780Z"
   },
   {
    "duration": 3,
    "start_time": "2023-02-16T17:11:44.471Z"
   },
   {
    "duration": 19,
    "start_time": "2023-02-16T17:11:52.845Z"
   },
   {
    "duration": 25,
    "start_time": "2023-02-16T17:11:55.098Z"
   },
   {
    "duration": 19,
    "start_time": "2023-02-16T17:11:59.870Z"
   },
   {
    "duration": 8,
    "start_time": "2023-02-16T17:12:04.207Z"
   },
   {
    "duration": 8,
    "start_time": "2023-02-16T17:12:15.929Z"
   },
   {
    "duration": 435,
    "start_time": "2023-02-16T17:14:13.465Z"
   },
   {
    "duration": 5,
    "start_time": "2023-02-16T17:14:52.521Z"
   },
   {
    "duration": 8,
    "start_time": "2023-02-16T17:14:55.697Z"
   },
   {
    "duration": 21,
    "start_time": "2023-02-16T17:15:01.306Z"
   },
   {
    "duration": 12,
    "start_time": "2023-02-16T17:15:07.761Z"
   },
   {
    "duration": 11,
    "start_time": "2023-02-16T17:15:36.825Z"
   },
   {
    "duration": 577,
    "start_time": "2023-02-16T17:15:56.378Z"
   },
   {
    "duration": 565,
    "start_time": "2023-02-16T17:16:06.066Z"
   },
   {
    "duration": 896,
    "start_time": "2023-02-16T17:16:14.652Z"
   },
   {
    "duration": 569,
    "start_time": "2023-02-16T17:17:38.084Z"
   },
   {
    "duration": 576,
    "start_time": "2023-02-16T17:17:41.972Z"
   },
   {
    "duration": 94,
    "start_time": "2023-02-16T17:32:49.243Z"
   },
   {
    "duration": 75,
    "start_time": "2023-02-16T17:32:57.926Z"
   },
   {
    "duration": 83,
    "start_time": "2023-02-16T17:33:13.474Z"
   },
   {
    "duration": 6,
    "start_time": "2023-02-16T17:33:24.127Z"
   },
   {
    "duration": 4,
    "start_time": "2023-02-16T17:47:27.108Z"
   },
   {
    "duration": 80,
    "start_time": "2023-02-16T17:47:27.792Z"
   },
   {
    "duration": 70,
    "start_time": "2023-02-16T17:47:34.792Z"
   },
   {
    "duration": 79,
    "start_time": "2023-02-16T17:47:41.535Z"
   },
   {
    "duration": 74,
    "start_time": "2023-02-16T17:47:55.346Z"
   },
   {
    "duration": 73,
    "start_time": "2023-02-16T17:48:01.327Z"
   },
   {
    "duration": 3,
    "start_time": "2023-02-16T17:48:13.272Z"
   },
   {
    "duration": 1444,
    "start_time": "2023-02-16T17:53:00.306Z"
   },
   {
    "duration": 6,
    "start_time": "2023-02-16T17:53:08.390Z"
   },
   {
    "duration": 1433,
    "start_time": "2023-02-16T17:53:10.436Z"
   },
   {
    "duration": 8,
    "start_time": "2023-02-16T17:53:16.709Z"
   },
   {
    "duration": 4,
    "start_time": "2023-02-16T19:10:25.159Z"
   },
   {
    "duration": 8,
    "start_time": "2023-02-16T19:10:28.838Z"
   },
   {
    "duration": 1626,
    "start_time": "2023-02-16T19:10:31.083Z"
   },
   {
    "duration": 6,
    "start_time": "2023-02-16T19:10:44.566Z"
   },
   {
    "duration": 16,
    "start_time": "2023-02-16T19:10:49.634Z"
   },
   {
    "duration": 40,
    "start_time": "2023-02-16T19:10:58.355Z"
   },
   {
    "duration": 17,
    "start_time": "2023-02-16T19:18:17.331Z"
   },
   {
    "duration": 765,
    "start_time": "2023-02-16T19:21:01.606Z"
   },
   {
    "duration": 2005,
    "start_time": "2023-02-16T19:21:29.224Z"
   },
   {
    "duration": 7452,
    "start_time": "2023-02-16T19:22:11.678Z"
   },
   {
    "duration": 248,
    "start_time": "2023-02-16T19:22:50.169Z"
   },
   {
    "duration": 268,
    "start_time": "2023-02-16T19:23:02.448Z"
   },
   {
    "duration": 180,
    "start_time": "2023-02-16T19:23:06.849Z"
   },
   {
    "duration": 432,
    "start_time": "2023-02-16T19:23:10.398Z"
   },
   {
    "duration": 142,
    "start_time": "2023-02-16T19:23:13.874Z"
   },
   {
    "duration": 730,
    "start_time": "2023-02-16T19:23:17.598Z"
   },
   {
    "duration": 273,
    "start_time": "2023-02-16T19:23:20.854Z"
   },
   {
    "duration": 499,
    "start_time": "2023-02-16T19:23:24.425Z"
   },
   {
    "duration": 162,
    "start_time": "2023-02-16T19:23:27.966Z"
   },
   {
    "duration": 9,
    "start_time": "2023-02-16T19:26:20.154Z"
   },
   {
    "duration": 5385,
    "start_time": "2023-02-16T19:26:34.332Z"
   },
   {
    "duration": 14673,
    "start_time": "2023-02-16T19:27:11.142Z"
   },
   {
    "duration": 8,
    "start_time": "2023-02-16T19:32:09.650Z"
   },
   {
    "duration": 10,
    "start_time": "2023-02-16T19:36:17.875Z"
   },
   {
    "duration": 39,
    "start_time": "2023-02-16T19:37:09.405Z"
   },
   {
    "duration": 6,
    "start_time": "2023-02-16T19:37:40.334Z"
   },
   {
    "duration": 4,
    "start_time": "2023-02-16T19:37:44.430Z"
   },
   {
    "duration": 13,
    "start_time": "2023-02-16T19:37:46.250Z"
   },
   {
    "duration": 125,
    "start_time": "2023-02-16T19:38:38.965Z"
   },
   {
    "duration": 103,
    "start_time": "2023-02-16T19:38:53.892Z"
   },
   {
    "duration": 106,
    "start_time": "2023-02-16T19:39:11.635Z"
   },
   {
    "duration": 1527,
    "start_time": "2023-02-16T19:39:43.043Z"
   },
   {
    "duration": 1282,
    "start_time": "2023-02-16T19:41:26.835Z"
   },
   {
    "duration": 1977,
    "start_time": "2023-02-16T19:41:32.471Z"
   },
   {
    "duration": 16806,
    "start_time": "2023-02-16T19:41:46.166Z"
   },
   {
    "duration": 1472,
    "start_time": "2023-02-16T19:43:30.663Z"
   },
   {
    "duration": 4,
    "start_time": "2023-02-16T19:43:51.469Z"
   },
   {
    "duration": 3,
    "start_time": "2023-02-16T19:43:52.486Z"
   },
   {
    "duration": 1923,
    "start_time": "2023-02-16T19:43:53.729Z"
   },
   {
    "duration": 3,
    "start_time": "2023-02-16T19:44:20.965Z"
   },
   {
    "duration": 4,
    "start_time": "2023-02-16T19:44:22.241Z"
   },
   {
    "duration": 3032,
    "start_time": "2023-02-16T19:44:23.536Z"
   },
   {
    "duration": 11,
    "start_time": "2023-02-16T19:52:16.048Z"
   },
   {
    "duration": 4,
    "start_time": "2023-02-16T19:52:16.890Z"
   },
   {
    "duration": 1064,
    "start_time": "2023-02-16T19:52:19.363Z"
   },
   {
    "duration": 1590,
    "start_time": "2023-02-16T19:52:31.037Z"
   },
   {
    "duration": 13,
    "start_time": "2023-02-16T19:52:35.170Z"
   },
   {
    "duration": 1389,
    "start_time": "2023-02-16T19:56:07.654Z"
   },
   {
    "duration": 4,
    "start_time": "2023-02-16T19:57:11.887Z"
   },
   {
    "duration": 1431,
    "start_time": "2023-02-16T19:57:14.849Z"
   },
   {
    "duration": 4,
    "start_time": "2023-02-16T19:57:25.757Z"
   },
   {
    "duration": 12,
    "start_time": "2023-02-16T19:57:29.437Z"
   },
   {
    "duration": 5,
    "start_time": "2023-02-16T19:58:01.328Z"
   },
   {
    "duration": 1401,
    "start_time": "2023-02-16T19:58:03.392Z"
   },
   {
    "duration": 98,
    "start_time": "2023-02-16T19:58:21.799Z"
   },
   {
    "duration": 3,
    "start_time": "2023-02-16T19:58:38.593Z"
   },
   {
    "duration": 7,
    "start_time": "2023-02-16T19:58:42.337Z"
   },
   {
    "duration": 3,
    "start_time": "2023-02-16T19:59:11.131Z"
   },
   {
    "duration": 6,
    "start_time": "2023-02-16T19:59:13.761Z"
   },
   {
    "duration": 22,
    "start_time": "2023-02-16T19:59:33.705Z"
   },
   {
    "duration": 8,
    "start_time": "2023-02-16T19:59:43.029Z"
   },
   {
    "duration": 9,
    "start_time": "2023-02-16T20:00:16.046Z"
   },
   {
    "duration": 6,
    "start_time": "2023-02-16T20:00:19.872Z"
   },
   {
    "duration": 7,
    "start_time": "2023-02-16T20:00:21.554Z"
   },
   {
    "duration": 1465,
    "start_time": "2023-02-16T20:01:33.109Z"
   },
   {
    "duration": 13,
    "start_time": "2023-02-16T20:01:50.028Z"
   },
   {
    "duration": 8,
    "start_time": "2023-02-16T20:02:05.932Z"
   },
   {
    "duration": 325,
    "start_time": "2023-02-16T20:02:40.443Z"
   },
   {
    "duration": 4,
    "start_time": "2023-02-16T20:02:44.283Z"
   },
   {
    "duration": 2,
    "start_time": "2023-02-16T20:02:44.773Z"
   },
   {
    "duration": 71,
    "start_time": "2023-02-16T20:02:46.068Z"
   },
   {
    "duration": 198,
    "start_time": "2023-02-16T20:03:11.933Z"
   },
   {
    "duration": 191,
    "start_time": "2023-02-16T20:03:35.846Z"
   },
   {
    "duration": 12100,
    "start_time": "2023-02-16T20:04:37.837Z"
   },
   {
    "duration": 11,
    "start_time": "2023-02-16T20:09:46.190Z"
   },
   {
    "duration": 9248,
    "start_time": "2023-02-16T20:10:52.436Z"
   },
   {
    "duration": 9112,
    "start_time": "2023-02-16T20:11:22.134Z"
   },
   {
    "duration": 9294,
    "start_time": "2023-02-16T20:11:44.832Z"
   },
   {
    "duration": 4256,
    "start_time": "2023-02-16T20:15:30.881Z"
   },
   {
    "duration": 9642,
    "start_time": "2023-02-16T20:15:51.375Z"
   },
   {
    "duration": 9657,
    "start_time": "2023-02-16T20:16:03.368Z"
   },
   {
    "duration": 9705,
    "start_time": "2023-02-16T20:16:19.001Z"
   },
   {
    "duration": 60302,
    "start_time": "2023-02-16T20:16:28.708Z"
   },
   {
    "duration": 790,
    "start_time": "2023-02-16T20:18:36.883Z"
   },
   {
    "duration": 17550,
    "start_time": "2023-02-16T20:18:45.983Z"
   },
   {
    "duration": 57352,
    "start_time": "2023-02-16T20:19:07.130Z"
   },
   {
    "duration": 1319,
    "start_time": "2023-02-16T20:22:09.861Z"
   },
   {
    "duration": 24133,
    "start_time": "2023-02-16T20:22:34.872Z"
   },
   {
    "duration": 24088,
    "start_time": "2023-02-16T20:23:06.982Z"
   },
   {
    "duration": 122456,
    "start_time": "2023-02-16T20:24:12.826Z"
   },
   {
    "duration": 10324,
    "start_time": "2023-02-16T20:38:34.645Z"
   },
   {
    "duration": 14136,
    "start_time": "2023-02-16T20:38:44.971Z"
   },
   {
    "duration": 4470,
    "start_time": "2023-02-16T20:38:59.109Z"
   },
   {
    "duration": 3677,
    "start_time": "2023-02-16T20:39:03.581Z"
   },
   {
    "duration": 9101,
    "start_time": "2023-02-16T20:39:26.698Z"
   },
   {
    "duration": 57592,
    "start_time": "2023-02-16T20:40:36.194Z"
   },
   {
    "duration": 2651,
    "start_time": "2023-02-16T20:45:52.949Z"
   },
   {
    "duration": 0,
    "start_time": "2023-02-16T20:45:55.602Z"
   },
   {
    "duration": 4,
    "start_time": "2023-02-16T20:46:00.178Z"
   },
   {
    "duration": 122537,
    "start_time": "2023-02-16T20:50:07.798Z"
   },
   {
    "duration": 129,
    "start_time": "2023-02-17T11:47:33.492Z"
   },
   {
    "duration": 1743,
    "start_time": "2023-02-17T11:47:38.014Z"
   },
   {
    "duration": 1926,
    "start_time": "2023-02-17T11:47:39.759Z"
   },
   {
    "duration": 260,
    "start_time": "2023-02-17T11:47:41.687Z"
   },
   {
    "duration": 137,
    "start_time": "2023-02-17T11:47:41.949Z"
   },
   {
    "duration": 272,
    "start_time": "2023-02-17T11:47:42.088Z"
   },
   {
    "duration": 4,
    "start_time": "2023-02-17T11:47:42.362Z"
   },
   {
    "duration": 76,
    "start_time": "2023-02-17T11:47:42.371Z"
   },
   {
    "duration": 20,
    "start_time": "2023-02-17T11:47:42.448Z"
   },
   {
    "duration": 73,
    "start_time": "2023-02-17T11:47:42.470Z"
   },
   {
    "duration": 50,
    "start_time": "2023-02-17T11:47:42.547Z"
   },
   {
    "duration": 53,
    "start_time": "2023-02-17T11:47:42.599Z"
   },
   {
    "duration": 226,
    "start_time": "2023-02-17T11:47:42.654Z"
   },
   {
    "duration": 4,
    "start_time": "2023-02-17T11:47:42.882Z"
   },
   {
    "duration": 5,
    "start_time": "2023-02-17T11:47:42.895Z"
   },
   {
    "duration": 7,
    "start_time": "2023-02-17T11:47:42.902Z"
   },
   {
    "duration": 5,
    "start_time": "2023-02-17T11:47:42.911Z"
   },
   {
    "duration": 5,
    "start_time": "2023-02-17T11:47:42.918Z"
   },
   {
    "duration": 8,
    "start_time": "2023-02-17T11:47:42.924Z"
   },
   {
    "duration": 6,
    "start_time": "2023-02-17T11:47:42.934Z"
   },
   {
    "duration": 935,
    "start_time": "2023-02-17T11:47:42.942Z"
   },
   {
    "duration": 634,
    "start_time": "2023-02-17T11:47:43.880Z"
   },
   {
    "duration": 906,
    "start_time": "2023-02-17T11:47:44.516Z"
   },
   {
    "duration": 638,
    "start_time": "2023-02-17T11:47:45.424Z"
   },
   {
    "duration": 771,
    "start_time": "2023-02-17T11:47:46.064Z"
   },
   {
    "duration": 792,
    "start_time": "2023-02-17T11:47:46.837Z"
   },
   {
    "duration": 479,
    "start_time": "2023-02-17T11:47:47.631Z"
   },
   {
    "duration": 478,
    "start_time": "2023-02-17T11:47:48.111Z"
   },
   {
    "duration": 586,
    "start_time": "2023-02-17T11:47:48.595Z"
   },
   {
    "duration": 490,
    "start_time": "2023-02-17T11:47:49.183Z"
   },
   {
    "duration": 3,
    "start_time": "2023-02-17T11:47:49.675Z"
   },
   {
    "duration": 16,
    "start_time": "2023-02-17T11:47:49.680Z"
   },
   {
    "duration": 19,
    "start_time": "2023-02-17T11:47:49.697Z"
   },
   {
    "duration": 637,
    "start_time": "2023-02-17T11:47:49.718Z"
   },
   {
    "duration": 4,
    "start_time": "2023-02-17T11:47:50.357Z"
   },
   {
    "duration": 11,
    "start_time": "2023-02-17T11:47:50.362Z"
   },
   {
    "duration": 20,
    "start_time": "2023-02-17T11:47:50.375Z"
   },
   {
    "duration": 15,
    "start_time": "2023-02-17T11:47:50.397Z"
   },
   {
    "duration": 383,
    "start_time": "2023-02-17T11:47:50.414Z"
   },
   {
    "duration": 3306,
    "start_time": "2023-02-17T11:47:50.799Z"
   },
   {
    "duration": 9534,
    "start_time": "2023-02-17T11:47:54.108Z"
   },
   {
    "duration": 52884,
    "start_time": "2023-02-17T11:48:03.644Z"
   },
   {
    "duration": 115718,
    "start_time": "2023-02-17T11:48:56.530Z"
   },
   {
    "duration": 719670,
    "start_time": "2023-02-17T11:50:56.270Z"
   },
   {
    "duration": 97,
    "start_time": "2023-02-17T13:46:29.617Z"
   },
   {
    "duration": 45,
    "start_time": "2023-02-17T13:49:09.485Z"
   },
   {
    "duration": 1594,
    "start_time": "2023-02-17T13:49:20.514Z"
   },
   {
    "duration": 1895,
    "start_time": "2023-02-17T13:49:22.110Z"
   },
   {
    "duration": 281,
    "start_time": "2023-02-17T13:49:24.007Z"
   },
   {
    "duration": 155,
    "start_time": "2023-02-17T13:49:24.290Z"
   },
   {
    "duration": 261,
    "start_time": "2023-02-17T13:49:24.448Z"
   },
   {
    "duration": 3,
    "start_time": "2023-02-17T13:49:24.711Z"
   },
   {
    "duration": 65,
    "start_time": "2023-02-17T13:49:24.716Z"
   },
   {
    "duration": 30,
    "start_time": "2023-02-17T13:49:24.783Z"
   },
   {
    "duration": 50,
    "start_time": "2023-02-17T13:49:24.815Z"
   },
   {
    "duration": 50,
    "start_time": "2023-02-17T13:49:24.867Z"
   },
   {
    "duration": 53,
    "start_time": "2023-02-17T13:49:24.919Z"
   },
   {
    "duration": 220,
    "start_time": "2023-02-17T13:49:24.974Z"
   },
   {
    "duration": 8,
    "start_time": "2023-02-17T13:49:25.196Z"
   },
   {
    "duration": 21,
    "start_time": "2023-02-17T13:49:25.207Z"
   },
   {
    "duration": 27,
    "start_time": "2023-02-17T13:49:25.229Z"
   },
   {
    "duration": 7,
    "start_time": "2023-02-17T13:49:25.259Z"
   },
   {
    "duration": 5,
    "start_time": "2023-02-17T13:49:25.268Z"
   },
   {
    "duration": 9,
    "start_time": "2023-02-17T13:49:25.275Z"
   },
   {
    "duration": 5,
    "start_time": "2023-02-17T13:49:25.286Z"
   },
   {
    "duration": 846,
    "start_time": "2023-02-17T13:49:25.293Z"
   },
   {
    "duration": 601,
    "start_time": "2023-02-17T13:49:26.141Z"
   },
   {
    "duration": 893,
    "start_time": "2023-02-17T13:49:26.744Z"
   },
   {
    "duration": 658,
    "start_time": "2023-02-17T13:49:27.639Z"
   },
   {
    "duration": 805,
    "start_time": "2023-02-17T13:49:28.298Z"
   },
   {
    "duration": 819,
    "start_time": "2023-02-17T13:49:29.105Z"
   },
   {
    "duration": 468,
    "start_time": "2023-02-17T13:49:29.926Z"
   },
   {
    "duration": 510,
    "start_time": "2023-02-17T13:49:30.403Z"
   },
   {
    "duration": 605,
    "start_time": "2023-02-17T13:49:30.916Z"
   },
   {
    "duration": 499,
    "start_time": "2023-02-17T13:49:31.523Z"
   },
   {
    "duration": 3,
    "start_time": "2023-02-17T13:49:32.024Z"
   },
   {
    "duration": 10,
    "start_time": "2023-02-17T13:49:32.029Z"
   },
   {
    "duration": 12,
    "start_time": "2023-02-17T13:49:32.041Z"
   },
   {
    "duration": 640,
    "start_time": "2023-02-17T13:49:32.055Z"
   },
   {
    "duration": 4,
    "start_time": "2023-02-17T13:49:32.702Z"
   },
   {
    "duration": 9,
    "start_time": "2023-02-17T13:49:32.708Z"
   },
   {
    "duration": 10,
    "start_time": "2023-02-17T13:49:32.719Z"
   },
   {
    "duration": 16,
    "start_time": "2023-02-17T13:49:32.730Z"
   },
   {
    "duration": 356,
    "start_time": "2023-02-17T13:49:32.747Z"
   },
   {
    "duration": 2407,
    "start_time": "2023-02-17T13:49:33.105Z"
   },
   {
    "duration": 7767,
    "start_time": "2023-02-17T13:49:35.514Z"
   },
   {
    "duration": 48212,
    "start_time": "2023-02-17T13:49:43.285Z"
   },
   {
    "duration": 102013,
    "start_time": "2023-02-17T13:50:31.503Z"
   },
   {
    "duration": 41995,
    "start_time": "2023-02-17T13:52:13.518Z"
   },
   {
    "duration": 55,
    "start_time": "2023-02-17T13:52:58.757Z"
   },
   {
    "duration": 12,
    "start_time": "2023-02-17T13:53:08.290Z"
   },
   {
    "duration": 17,
    "start_time": "2023-02-17T13:53:09.452Z"
   },
   {
    "duration": 5,
    "start_time": "2023-02-17T13:53:24.493Z"
   },
   {
    "duration": 4,
    "start_time": "2023-02-17T13:53:27.341Z"
   },
   {
    "duration": 11,
    "start_time": "2023-02-17T13:53:32.925Z"
   },
   {
    "duration": 16,
    "start_time": "2023-02-17T13:54:54.847Z"
   },
   {
    "duration": 1828,
    "start_time": "2023-02-17T13:55:02.197Z"
   },
   {
    "duration": 16,
    "start_time": "2023-02-17T13:55:34.650Z"
   },
   {
    "duration": 9,
    "start_time": "2023-02-17T14:03:16.201Z"
   },
   {
    "duration": 17,
    "start_time": "2023-02-17T14:04:18.057Z"
   },
   {
    "duration": 15,
    "start_time": "2023-02-17T14:07:18.886Z"
   },
   {
    "duration": 18,
    "start_time": "2023-02-17T14:12:09.294Z"
   },
   {
    "duration": 12,
    "start_time": "2023-02-17T14:12:30.539Z"
   },
   {
    "duration": 14,
    "start_time": "2023-02-17T14:15:39.576Z"
   },
   {
    "duration": 7,
    "start_time": "2023-02-17T14:16:42.713Z"
   },
   {
    "duration": 13,
    "start_time": "2023-02-17T14:16:47.836Z"
   },
   {
    "duration": 70,
    "start_time": "2023-02-17T14:16:51.943Z"
   },
   {
    "duration": 12,
    "start_time": "2023-02-17T14:16:53.401Z"
   },
   {
    "duration": 16,
    "start_time": "2023-02-17T14:16:54.985Z"
   },
   {
    "duration": 7,
    "start_time": "2023-02-17T14:17:29.910Z"
   },
   {
    "duration": 12,
    "start_time": "2023-02-17T14:18:38.473Z"
   },
   {
    "duration": 107,
    "start_time": "2023-02-17T14:18:39.906Z"
   },
   {
    "duration": 10,
    "start_time": "2023-02-17T14:18:41.318Z"
   },
   {
    "duration": 13,
    "start_time": "2023-02-17T14:18:43.339Z"
   },
   {
    "duration": 6,
    "start_time": "2023-02-17T14:24:53.111Z"
   },
   {
    "duration": 9,
    "start_time": "2023-02-17T14:25:15.502Z"
   },
   {
    "duration": 11,
    "start_time": "2023-02-17T14:25:16.649Z"
   },
   {
    "duration": 180,
    "start_time": "2023-02-17T14:25:17.329Z"
   },
   {
    "duration": 9,
    "start_time": "2023-02-17T14:25:18.350Z"
   },
   {
    "duration": 7,
    "start_time": "2023-02-17T14:25:19.337Z"
   },
   {
    "duration": 7,
    "start_time": "2023-02-17T14:25:26.144Z"
   },
   {
    "duration": 11,
    "start_time": "2023-02-17T14:25:27.809Z"
   },
   {
    "duration": 191,
    "start_time": "2023-02-17T14:25:28.913Z"
   },
   {
    "duration": 326,
    "start_time": "2023-02-17T14:25:35.177Z"
   },
   {
    "duration": 205,
    "start_time": "2023-02-17T14:25:41.207Z"
   },
   {
    "duration": 5,
    "start_time": "2023-02-17T14:25:43.088Z"
   },
   {
    "duration": 6,
    "start_time": "2023-02-17T14:25:56.388Z"
   },
   {
    "duration": 7,
    "start_time": "2023-02-17T14:26:53.130Z"
   },
   {
    "duration": 11,
    "start_time": "2023-02-17T14:27:14.522Z"
   },
   {
    "duration": 7,
    "start_time": "2023-02-17T14:29:37.316Z"
   },
   {
    "duration": 12,
    "start_time": "2023-02-17T14:29:39.598Z"
   },
   {
    "duration": 273,
    "start_time": "2023-02-17T14:29:41.332Z"
   },
   {
    "duration": 10,
    "start_time": "2023-02-17T14:29:43.389Z"
   }
  ],
  "kernelspec": {
   "display_name": "base",
   "language": "python",
   "name": "python3"
  },
  "language_info": {
   "codemirror_mode": {
    "name": "ipython",
    "version": 3
   },
   "file_extension": ".py",
   "mimetype": "text/x-python",
   "name": "python",
   "nbconvert_exporter": "python",
   "pygments_lexer": "ipython3",
   "version": "3.9.13"
  },
  "toc": {
   "base_numbering": 1,
   "nav_menu": {},
   "number_sections": true,
   "sideBar": true,
   "skip_h1_title": true,
   "title_cell": "Содержание",
   "title_sidebar": "Contents",
   "toc_cell": true,
   "toc_position": {
    "height": "calc(100% - 180px)",
    "left": "10px",
    "top": "150px",
    "width": "165px"
   },
   "toc_section_display": true,
   "toc_window_display": true
  },
  "vscode": {
   "interpreter": {
    "hash": "40bcb2e441a6d0af9e6f649dfe5ca0440eb431939f3ce0f6d45a172cb5590c37"
   }
  }
 },
 "nbformat": 4,
 "nbformat_minor": 2
}
