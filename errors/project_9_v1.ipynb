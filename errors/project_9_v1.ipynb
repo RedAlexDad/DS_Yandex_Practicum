{
 "cells": [
  {
   "cell_type": "markdown",
   "metadata": {},
   "source": [
    "# Определение стоимости автомобилей"
   ]
  },
  {
   "cell_type": "markdown",
   "metadata": {},
   "source": [
    "Сервис по продаже автомобилей с пробегом «Не бит, не крашен» разрабатывает приложение для привлечения новых клиентов. В нём можно быстро узнать рыночную стоимость своего автомобиля. В вашем распоряжении исторические данные: технические характеристики, комплектации и цены автомобилей. Вам нужно построить модель для определения стоимости. \n",
    "\n",
    "Заказчику важны:\n",
    "\n",
    "- качество предсказания;\n",
    "- скорость предсказания;\n",
    "- время обучения."
   ]
  },
  {
   "cell_type": "markdown",
   "metadata": {},
   "source": [
    "## Подготовка данных"
   ]
  },
  {
   "cell_type": "code",
   "execution_count": 9,
   "metadata": {},
   "outputs": [],
   "source": [
    "# Подключаем все необходимые библиотеки\n",
    "import pandas as pd\n",
    "import numpy as np\n",
    "import matplotlib.pyplot as plt\n",
    "import seaborn as sb\n",
    "from scipy import stats as st\n",
    "# Время обучения модели\n",
    "import timeit\n",
    "import lightgbm\n",
    "\n",
    "# Разбиение на обучающую, валидационную и тестовую выборку\n",
    "from sklearn.model_selection import train_test_split, GridSearchCV, cross_val_score, cross_val_predict\n",
    "# Применим кроссвалидацию для повышения качеств обучения\n",
    "# Для константной модели\n",
    "from sklearn.dummy import DummyRegressor\n",
    "\n",
    "# Масштабируемость модели\n",
    "from sklearn.preprocessing import StandardScaler, OrdinalEncoder \n",
    "\n",
    "# и для машинного обучения разными способами (по условию мы выбираем линейную регрессию):\n",
    "from sklearn.ensemble import RandomForestRegressor\n",
    "from sklearn.linear_model import LinearRegression, LogisticRegression\n",
    "from sklearn.tree import DecisionTreeRegressor\n",
    "\n",
    "from sklearn.metrics import (\n",
    "    # Точность модели\n",
    "    accuracy_score,\n",
    "    # Матрицы ошибок (для борьбы с дисбалансом)\n",
    "    confusion_matrix, \n",
    "    # Полнота\n",
    "    recall_score, \n",
    "    # Точность\n",
    "    precision_score, \n",
    "    # F1-мера\n",
    "    f1_score,\n",
    "    # Метрика AUC-ROC\n",
    "    roc_auc_score,\n",
    "    roc_curve,\n",
    "    # MSE\n",
    "    mean_squared_error,\n",
    "    mean_absolute_error,\n",
    "    fbeta_score, \n",
    "    make_scorer\n",
    ")\n",
    "\n",
    "# Контроль выборки\n",
    "from sklearn.utils import shuffle"
   ]
  },
  {
   "cell_type": "markdown",
   "metadata": {},
   "source": [
    "### Загрузим данные"
   ]
  },
  {
   "cell_type": "code",
   "execution_count": 14,
   "metadata": {},
   "outputs": [
    {
     "name": "stdout",
     "output_type": "stream",
     "text": [
      "Отсутствует датасет. Проверьте путь файла\n"
     ]
    }
   ],
   "source": [
    "# Получаем датасет\n",
    "try:\n",
    "    # С локального файла\n",
    "    try:\n",
    "        df = pd.read_csv('autos.csv')\n",
    "    except:\n",
    "        df = pd.read_csv('/datasets/autos.csv')\n",
    "except:\n",
    "    print('Отсутствует датасет. Проверьте путь файла')"
   ]
  },
  {
   "cell_type": "markdown",
   "metadata": {},
   "source": [
    "### Изучим данные"
   ]
  },
  {
   "cell_type": "code",
   "execution_count": 6,
   "metadata": {},
   "outputs": [
    {
     "name": "stdout",
     "output_type": "stream",
     "text": [
      "<class 'pandas.core.frame.DataFrame'>\n",
      "RangeIndex: 354369 entries, 0 to 354368\n",
      "Data columns (total 16 columns):\n",
      " #   Column             Non-Null Count   Dtype \n",
      "---  ------             --------------   ----- \n",
      " 0   DateCrawled        354369 non-null  object\n",
      " 1   Price              354369 non-null  int64 \n",
      " 2   VehicleType        316879 non-null  object\n",
      " 3   RegistrationYear   354369 non-null  int64 \n",
      " 4   Gearbox            334536 non-null  object\n",
      " 5   Power              354369 non-null  int64 \n",
      " 6   Model              334664 non-null  object\n",
      " 7   Kilometer          354369 non-null  int64 \n",
      " 8   RegistrationMonth  354369 non-null  int64 \n",
      " 9   FuelType           321474 non-null  object\n",
      " 10  Brand              354369 non-null  object\n",
      " 11  Repaired           283215 non-null  object\n",
      " 12  DateCreated        354369 non-null  object\n",
      " 13  NumberOfPictures   354369 non-null  int64 \n",
      " 14  PostalCode         354369 non-null  int64 \n",
      " 15  LastSeen           354369 non-null  object\n",
      "dtypes: int64(7), object(9)\n",
      "memory usage: 43.3+ MB\n"
     ]
    }
   ],
   "source": [
    "df.info()"
   ]
  },
  {
   "cell_type": "markdown",
   "metadata": {},
   "source": [
    "**Дополнительные информация:**\n",
    "\n",
    "**Признаки**\n",
    "- `DateCrawled` — дата скачивания анкеты из базы\n",
    "- `VehicleType` — тип автомобильного кузова\n",
    "- `RegistrationYear` — год регистрации автомобиля\n",
    "- `Gearbox` — тип коробки передач\n",
    "- `Power` — мощность (л. с.)\n",
    "- `Model` — модель автомобиля\n",
    "- `Kilometer` — пробег (км)\n",
    "- `RegistrationMonth` — месяц регистрации автомобиля\n",
    "- `FuelType` — тип топлива\n",
    "- `Brand` — марка автомобиля\n",
    "- `Repaired` — была машина в ремонте или нет\n",
    "- `DateCreated` — дата создания анкеты\n",
    "- `NumberOfPictures` — количество фотографий автомобиля\n",
    "- `PostalCode` — почтовый индекс владельца анкеты (пользователя)\n",
    "- `LastSeen` — дата последней активности пользователя\n",
    "\n",
    "**Целевой признак**\n",
    "- `Price` — цена (евро)"
   ]
  },
  {
   "cell_type": "code",
   "execution_count": 7,
   "metadata": {},
   "outputs": [
    {
     "data": {
      "text/html": [
       "<div>\n",
       "<style scoped>\n",
       "    .dataframe tbody tr th:only-of-type {\n",
       "        vertical-align: middle;\n",
       "    }\n",
       "\n",
       "    .dataframe tbody tr th {\n",
       "        vertical-align: top;\n",
       "    }\n",
       "\n",
       "    .dataframe thead th {\n",
       "        text-align: right;\n",
       "    }\n",
       "</style>\n",
       "<table border=\"1\" class=\"dataframe\">\n",
       "  <thead>\n",
       "    <tr style=\"text-align: right;\">\n",
       "      <th></th>\n",
       "      <th>DateCrawled</th>\n",
       "      <th>Price</th>\n",
       "      <th>VehicleType</th>\n",
       "      <th>RegistrationYear</th>\n",
       "      <th>Gearbox</th>\n",
       "      <th>Power</th>\n",
       "      <th>Model</th>\n",
       "      <th>Kilometer</th>\n",
       "      <th>RegistrationMonth</th>\n",
       "      <th>FuelType</th>\n",
       "      <th>Brand</th>\n",
       "      <th>Repaired</th>\n",
       "      <th>DateCreated</th>\n",
       "      <th>NumberOfPictures</th>\n",
       "      <th>PostalCode</th>\n",
       "      <th>LastSeen</th>\n",
       "    </tr>\n",
       "  </thead>\n",
       "  <tbody>\n",
       "    <tr>\n",
       "      <th>0</th>\n",
       "      <td>2016-03-24 11:52:17</td>\n",
       "      <td>480</td>\n",
       "      <td>NaN</td>\n",
       "      <td>1993</td>\n",
       "      <td>manual</td>\n",
       "      <td>0</td>\n",
       "      <td>golf</td>\n",
       "      <td>150000</td>\n",
       "      <td>0</td>\n",
       "      <td>petrol</td>\n",
       "      <td>volkswagen</td>\n",
       "      <td>NaN</td>\n",
       "      <td>2016-03-24 00:00:00</td>\n",
       "      <td>0</td>\n",
       "      <td>70435</td>\n",
       "      <td>2016-04-07 03:16:57</td>\n",
       "    </tr>\n",
       "    <tr>\n",
       "      <th>1</th>\n",
       "      <td>2016-03-24 10:58:45</td>\n",
       "      <td>18300</td>\n",
       "      <td>coupe</td>\n",
       "      <td>2011</td>\n",
       "      <td>manual</td>\n",
       "      <td>190</td>\n",
       "      <td>NaN</td>\n",
       "      <td>125000</td>\n",
       "      <td>5</td>\n",
       "      <td>gasoline</td>\n",
       "      <td>audi</td>\n",
       "      <td>yes</td>\n",
       "      <td>2016-03-24 00:00:00</td>\n",
       "      <td>0</td>\n",
       "      <td>66954</td>\n",
       "      <td>2016-04-07 01:46:50</td>\n",
       "    </tr>\n",
       "    <tr>\n",
       "      <th>2</th>\n",
       "      <td>2016-03-14 12:52:21</td>\n",
       "      <td>9800</td>\n",
       "      <td>suv</td>\n",
       "      <td>2004</td>\n",
       "      <td>auto</td>\n",
       "      <td>163</td>\n",
       "      <td>grand</td>\n",
       "      <td>125000</td>\n",
       "      <td>8</td>\n",
       "      <td>gasoline</td>\n",
       "      <td>jeep</td>\n",
       "      <td>NaN</td>\n",
       "      <td>2016-03-14 00:00:00</td>\n",
       "      <td>0</td>\n",
       "      <td>90480</td>\n",
       "      <td>2016-04-05 12:47:46</td>\n",
       "    </tr>\n",
       "    <tr>\n",
       "      <th>3</th>\n",
       "      <td>2016-03-17 16:54:04</td>\n",
       "      <td>1500</td>\n",
       "      <td>small</td>\n",
       "      <td>2001</td>\n",
       "      <td>manual</td>\n",
       "      <td>75</td>\n",
       "      <td>golf</td>\n",
       "      <td>150000</td>\n",
       "      <td>6</td>\n",
       "      <td>petrol</td>\n",
       "      <td>volkswagen</td>\n",
       "      <td>no</td>\n",
       "      <td>2016-03-17 00:00:00</td>\n",
       "      <td>0</td>\n",
       "      <td>91074</td>\n",
       "      <td>2016-03-17 17:40:17</td>\n",
       "    </tr>\n",
       "    <tr>\n",
       "      <th>4</th>\n",
       "      <td>2016-03-31 17:25:20</td>\n",
       "      <td>3600</td>\n",
       "      <td>small</td>\n",
       "      <td>2008</td>\n",
       "      <td>manual</td>\n",
       "      <td>69</td>\n",
       "      <td>fabia</td>\n",
       "      <td>90000</td>\n",
       "      <td>7</td>\n",
       "      <td>gasoline</td>\n",
       "      <td>skoda</td>\n",
       "      <td>no</td>\n",
       "      <td>2016-03-31 00:00:00</td>\n",
       "      <td>0</td>\n",
       "      <td>60437</td>\n",
       "      <td>2016-04-06 10:17:21</td>\n",
       "    </tr>\n",
       "  </tbody>\n",
       "</table>\n",
       "</div>"
      ],
      "text/plain": [
       "           DateCrawled  Price VehicleType  RegistrationYear Gearbox  Power  \\\n",
       "0  2016-03-24 11:52:17    480         NaN              1993  manual      0   \n",
       "1  2016-03-24 10:58:45  18300       coupe              2011  manual    190   \n",
       "2  2016-03-14 12:52:21   9800         suv              2004    auto    163   \n",
       "3  2016-03-17 16:54:04   1500       small              2001  manual     75   \n",
       "4  2016-03-31 17:25:20   3600       small              2008  manual     69   \n",
       "\n",
       "   Model  Kilometer  RegistrationMonth  FuelType       Brand Repaired  \\\n",
       "0   golf     150000                  0    petrol  volkswagen      NaN   \n",
       "1    NaN     125000                  5  gasoline        audi      yes   \n",
       "2  grand     125000                  8  gasoline        jeep      NaN   \n",
       "3   golf     150000                  6    petrol  volkswagen       no   \n",
       "4  fabia      90000                  7  gasoline       skoda       no   \n",
       "\n",
       "           DateCreated  NumberOfPictures  PostalCode             LastSeen  \n",
       "0  2016-03-24 00:00:00                 0       70435  2016-04-07 03:16:57  \n",
       "1  2016-03-24 00:00:00                 0       66954  2016-04-07 01:46:50  \n",
       "2  2016-03-14 00:00:00                 0       90480  2016-04-05 12:47:46  \n",
       "3  2016-03-17 00:00:00                 0       91074  2016-03-17 17:40:17  \n",
       "4  2016-03-31 00:00:00                 0       60437  2016-04-06 10:17:21  "
      ]
     },
     "execution_count": 7,
     "metadata": {},
     "output_type": "execute_result"
    }
   ],
   "source": [
    "df.head()"
   ]
  },
  {
   "cell_type": "code",
   "execution_count": 8,
   "metadata": {},
   "outputs": [
    {
     "data": {
      "text/html": [
       "<div>\n",
       "<style scoped>\n",
       "    .dataframe tbody tr th:only-of-type {\n",
       "        vertical-align: middle;\n",
       "    }\n",
       "\n",
       "    .dataframe tbody tr th {\n",
       "        vertical-align: top;\n",
       "    }\n",
       "\n",
       "    .dataframe thead th {\n",
       "        text-align: right;\n",
       "    }\n",
       "</style>\n",
       "<table border=\"1\" class=\"dataframe\">\n",
       "  <thead>\n",
       "    <tr style=\"text-align: right;\">\n",
       "      <th></th>\n",
       "      <th>Price</th>\n",
       "      <th>RegistrationYear</th>\n",
       "      <th>Power</th>\n",
       "      <th>Kilometer</th>\n",
       "      <th>RegistrationMonth</th>\n",
       "      <th>NumberOfPictures</th>\n",
       "      <th>PostalCode</th>\n",
       "    </tr>\n",
       "  </thead>\n",
       "  <tbody>\n",
       "    <tr>\n",
       "      <th>count</th>\n",
       "      <td>354369.000000</td>\n",
       "      <td>354369.000000</td>\n",
       "      <td>354369.000000</td>\n",
       "      <td>354369.000000</td>\n",
       "      <td>354369.000000</td>\n",
       "      <td>354369.0</td>\n",
       "      <td>354369.000000</td>\n",
       "    </tr>\n",
       "    <tr>\n",
       "      <th>mean</th>\n",
       "      <td>4416.656776</td>\n",
       "      <td>2004.234448</td>\n",
       "      <td>110.094337</td>\n",
       "      <td>128211.172535</td>\n",
       "      <td>5.714645</td>\n",
       "      <td>0.0</td>\n",
       "      <td>50508.689087</td>\n",
       "    </tr>\n",
       "    <tr>\n",
       "      <th>std</th>\n",
       "      <td>4514.158514</td>\n",
       "      <td>90.227958</td>\n",
       "      <td>189.850405</td>\n",
       "      <td>37905.341530</td>\n",
       "      <td>3.726421</td>\n",
       "      <td>0.0</td>\n",
       "      <td>25783.096248</td>\n",
       "    </tr>\n",
       "    <tr>\n",
       "      <th>min</th>\n",
       "      <td>0.000000</td>\n",
       "      <td>1000.000000</td>\n",
       "      <td>0.000000</td>\n",
       "      <td>5000.000000</td>\n",
       "      <td>0.000000</td>\n",
       "      <td>0.0</td>\n",
       "      <td>1067.000000</td>\n",
       "    </tr>\n",
       "    <tr>\n",
       "      <th>25%</th>\n",
       "      <td>1050.000000</td>\n",
       "      <td>1999.000000</td>\n",
       "      <td>69.000000</td>\n",
       "      <td>125000.000000</td>\n",
       "      <td>3.000000</td>\n",
       "      <td>0.0</td>\n",
       "      <td>30165.000000</td>\n",
       "    </tr>\n",
       "    <tr>\n",
       "      <th>50%</th>\n",
       "      <td>2700.000000</td>\n",
       "      <td>2003.000000</td>\n",
       "      <td>105.000000</td>\n",
       "      <td>150000.000000</td>\n",
       "      <td>6.000000</td>\n",
       "      <td>0.0</td>\n",
       "      <td>49413.000000</td>\n",
       "    </tr>\n",
       "    <tr>\n",
       "      <th>75%</th>\n",
       "      <td>6400.000000</td>\n",
       "      <td>2008.000000</td>\n",
       "      <td>143.000000</td>\n",
       "      <td>150000.000000</td>\n",
       "      <td>9.000000</td>\n",
       "      <td>0.0</td>\n",
       "      <td>71083.000000</td>\n",
       "    </tr>\n",
       "    <tr>\n",
       "      <th>max</th>\n",
       "      <td>20000.000000</td>\n",
       "      <td>9999.000000</td>\n",
       "      <td>20000.000000</td>\n",
       "      <td>150000.000000</td>\n",
       "      <td>12.000000</td>\n",
       "      <td>0.0</td>\n",
       "      <td>99998.000000</td>\n",
       "    </tr>\n",
       "  </tbody>\n",
       "</table>\n",
       "</div>"
      ],
      "text/plain": [
       "               Price  RegistrationYear          Power      Kilometer  \\\n",
       "count  354369.000000     354369.000000  354369.000000  354369.000000   \n",
       "mean     4416.656776       2004.234448     110.094337  128211.172535   \n",
       "std      4514.158514         90.227958     189.850405   37905.341530   \n",
       "min         0.000000       1000.000000       0.000000    5000.000000   \n",
       "25%      1050.000000       1999.000000      69.000000  125000.000000   \n",
       "50%      2700.000000       2003.000000     105.000000  150000.000000   \n",
       "75%      6400.000000       2008.000000     143.000000  150000.000000   \n",
       "max     20000.000000       9999.000000   20000.000000  150000.000000   \n",
       "\n",
       "       RegistrationMonth  NumberOfPictures     PostalCode  \n",
       "count      354369.000000          354369.0  354369.000000  \n",
       "mean            5.714645               0.0   50508.689087  \n",
       "std             3.726421               0.0   25783.096248  \n",
       "min             0.000000               0.0    1067.000000  \n",
       "25%             3.000000               0.0   30165.000000  \n",
       "50%             6.000000               0.0   49413.000000  \n",
       "75%             9.000000               0.0   71083.000000  \n",
       "max            12.000000               0.0   99998.000000  "
      ]
     },
     "execution_count": 8,
     "metadata": {},
     "output_type": "execute_result"
    }
   ],
   "source": [
    "df.describe()"
   ]
  },
  {
   "cell_type": "markdown",
   "metadata": {},
   "source": [
    "Тут можно заметить странное, что в колонке \"год регистрации автомобиля\" есть 1000 и 9999. Скорее всего это аномальное значения. Также в данный момент не существуют машин, у которых мощностей двигателя больше 143 л.с. А также странно получилось, что машина выставлена в продажах бесплатно. Ну, может быть они хотят быстрее избавиться от них, а может \"ради прикола\" выставили в продажах, но все равно устраняем их"
   ]
  },
  {
   "cell_type": "code",
   "execution_count": 9,
   "metadata": {},
   "outputs": [
    {
     "data": {
      "text/plain": [
       "Text(0, 0.5, 'Стоимость ЕВРО')"
      ]
     },
     "execution_count": 9,
     "metadata": {},
     "output_type": "execute_result"
    },
    {
     "data": {
      "image/png": "[encoded data removed]",
      "text/plain": [
       "<Figure size 1224x720 with 3 Axes>"
      ]
     },
     "metadata": {
      "needs_background": "light"
     },
     "output_type": "display_data"
    }
   ],
   "source": [
    "fig, axs = plt.subplots(1, 3, figsize=(17, 10))\n",
    "\n",
    "axs[0].boxplot(df['RegistrationYear'])\n",
    "axs[0].set_title('RegistrationYear')\n",
    "axs[0].set_ylabel('Год')\n",
    "        \n",
    "axs[1].boxplot(df['Power'])\n",
    "axs[1].set_title('Power')\n",
    "axs[1].set_ylabel('Мощность л.с')\n",
    "\n",
    "axs[2].boxplot(df['Price'])\n",
    "axs[2].set_title('Price')\n",
    "axs[2].set_ylabel('Стоимость ЕВРО')"
   ]
  },
  {
   "cell_type": "markdown",
   "metadata": {},
   "source": [
    "### Заполним пропущенные значения и обработаем аномалии в столбцах. Если среди признаков имеются неинформативные, то удалим их."
   ]
  },
  {
   "cell_type": "markdown",
   "metadata": {},
   "source": [
    "Удаляем аномальные значения"
   ]
  },
  {
   "cell_type": "code",
   "execution_count": 10,
   "metadata": {},
   "outputs": [],
   "source": [
    "# Очистим\n",
    "# Год регистрации автомобиля\n",
    "df_clean = df[df['RegistrationYear'] > (df.describe()['RegistrationYear']['50%'] - df.describe()['RegistrationYear']['std'])]\n",
    "df_clean = df_clean[df_clean['RegistrationYear'] < 2023]"
   ]
  },
  {
   "cell_type": "code",
   "execution_count": 11,
   "metadata": {},
   "outputs": [],
   "source": [
    "# Мощность двигателя л.с\n",
    "df_clean = df_clean[df_clean['Power'] > abs(df_clean.describe()['Power']['50%'] - df_clean.describe()['Power']['std'])]\n",
    "df_clean = df_clean[df_clean['Power'] < abs(df_clean.describe()['Power']['75%'] + df_clean.describe()['Power']['std'])]"
   ]
  },
  {
   "cell_type": "code",
   "execution_count": 12,
   "metadata": {},
   "outputs": [],
   "source": [
    "# Бесплатные автомобили и слишком дешевые автомобили\n",
    "df_clean = df_clean[df_clean['Price'] > abs(df_clean.describe()['Price']['50%'] - df_clean.describe()['Price']['std'])]"
   ]
  },
  {
   "cell_type": "code",
   "execution_count": 13,
   "metadata": {},
   "outputs": [
    {
     "data": {
      "text/html": [
       "<div>\n",
       "<style scoped>\n",
       "    .dataframe tbody tr th:only-of-type {\n",
       "        vertical-align: middle;\n",
       "    }\n",
       "\n",
       "    .dataframe tbody tr th {\n",
       "        vertical-align: top;\n",
       "    }\n",
       "\n",
       "    .dataframe thead th {\n",
       "        text-align: right;\n",
       "    }\n",
       "</style>\n",
       "<table border=\"1\" class=\"dataframe\">\n",
       "  <thead>\n",
       "    <tr style=\"text-align: right;\">\n",
       "      <th></th>\n",
       "      <th>Price</th>\n",
       "      <th>RegistrationYear</th>\n",
       "      <th>Power</th>\n",
       "      <th>Kilometer</th>\n",
       "      <th>RegistrationMonth</th>\n",
       "      <th>NumberOfPictures</th>\n",
       "      <th>PostalCode</th>\n",
       "    </tr>\n",
       "  </thead>\n",
       "  <tbody>\n",
       "    <tr>\n",
       "      <th>count</th>\n",
       "      <td>202868.000000</td>\n",
       "      <td>202868.000000</td>\n",
       "      <td>202868.000000</td>\n",
       "      <td>202868.000000</td>\n",
       "      <td>202868.000000</td>\n",
       "      <td>202868.0</td>\n",
       "      <td>202868.000000</td>\n",
       "    </tr>\n",
       "    <tr>\n",
       "      <th>mean</th>\n",
       "      <td>6243.655318</td>\n",
       "      <td>2004.211334</td>\n",
       "      <td>143.444417</td>\n",
       "      <td>129597.447601</td>\n",
       "      <td>6.121646</td>\n",
       "      <td>0.0</td>\n",
       "      <td>52105.827829</td>\n",
       "    </tr>\n",
       "    <tr>\n",
       "      <th>std</th>\n",
       "      <td>4797.468519</td>\n",
       "      <td>6.343907</td>\n",
       "      <td>46.619757</td>\n",
       "      <td>35773.573448</td>\n",
       "      <td>3.540755</td>\n",
       "      <td>0.0</td>\n",
       "      <td>25906.456594</td>\n",
       "    </tr>\n",
       "    <tr>\n",
       "      <th>min</th>\n",
       "      <td>780.000000</td>\n",
       "      <td>1937.000000</td>\n",
       "      <td>85.000000</td>\n",
       "      <td>5000.000000</td>\n",
       "      <td>0.000000</td>\n",
       "      <td>0.0</td>\n",
       "      <td>1067.000000</td>\n",
       "    </tr>\n",
       "    <tr>\n",
       "      <th>25%</th>\n",
       "      <td>2399.000000</td>\n",
       "      <td>2000.000000</td>\n",
       "      <td>109.000000</td>\n",
       "      <td>125000.000000</td>\n",
       "      <td>3.000000</td>\n",
       "      <td>0.0</td>\n",
       "      <td>31552.000000</td>\n",
       "    </tr>\n",
       "    <tr>\n",
       "      <th>50%</th>\n",
       "      <td>4800.000000</td>\n",
       "      <td>2005.000000</td>\n",
       "      <td>136.000000</td>\n",
       "      <td>150000.000000</td>\n",
       "      <td>6.000000</td>\n",
       "      <td>0.0</td>\n",
       "      <td>51429.000000</td>\n",
       "    </tr>\n",
       "    <tr>\n",
       "      <th>75%</th>\n",
       "      <td>8990.000000</td>\n",
       "      <td>2008.000000</td>\n",
       "      <td>165.000000</td>\n",
       "      <td>150000.000000</td>\n",
       "      <td>9.000000</td>\n",
       "      <td>0.0</td>\n",
       "      <td>73066.000000</td>\n",
       "    </tr>\n",
       "    <tr>\n",
       "      <th>max</th>\n",
       "      <td>20000.000000</td>\n",
       "      <td>2019.000000</td>\n",
       "      <td>390.000000</td>\n",
       "      <td>150000.000000</td>\n",
       "      <td>12.000000</td>\n",
       "      <td>0.0</td>\n",
       "      <td>99998.000000</td>\n",
       "    </tr>\n",
       "  </tbody>\n",
       "</table>\n",
       "</div>"
      ],
      "text/plain": [
       "               Price  RegistrationYear          Power      Kilometer  \\\n",
       "count  202868.000000     202868.000000  202868.000000  202868.000000   \n",
       "mean     6243.655318       2004.211334     143.444417  129597.447601   \n",
       "std      4797.468519          6.343907      46.619757   35773.573448   \n",
       "min       780.000000       1937.000000      85.000000    5000.000000   \n",
       "25%      2399.000000       2000.000000     109.000000  125000.000000   \n",
       "50%      4800.000000       2005.000000     136.000000  150000.000000   \n",
       "75%      8990.000000       2008.000000     165.000000  150000.000000   \n",
       "max     20000.000000       2019.000000     390.000000  150000.000000   \n",
       "\n",
       "       RegistrationMonth  NumberOfPictures     PostalCode  \n",
       "count      202868.000000          202868.0  202868.000000  \n",
       "mean            6.121646               0.0   52105.827829  \n",
       "std             3.540755               0.0   25906.456594  \n",
       "min             0.000000               0.0    1067.000000  \n",
       "25%             3.000000               0.0   31552.000000  \n",
       "50%             6.000000               0.0   51429.000000  \n",
       "75%             9.000000               0.0   73066.000000  \n",
       "max            12.000000               0.0   99998.000000  "
      ]
     },
     "execution_count": 13,
     "metadata": {},
     "output_type": "execute_result"
    }
   ],
   "source": [
    "df_clean.describe()"
   ]
  },
  {
   "cell_type": "code",
   "execution_count": 14,
   "metadata": {},
   "outputs": [
    {
     "data": {
      "text/plain": [
       "Text(0, 0.5, 'Стоимость ЕВРО')"
      ]
     },
     "execution_count": 14,
     "metadata": {},
     "output_type": "execute_result"
    },
    {
     "data": {
      "image/png": "[encoded data removed]",
      "text/plain": [
       "<Figure size 1224x720 with 3 Axes>"
      ]
     },
     "metadata": {
      "needs_background": "light"
     },
     "output_type": "display_data"
    }
   ],
   "source": [
    "fig, axs = plt.subplots(1, 3, figsize=(17, 10))\n",
    "\n",
    "axs[0].boxplot(df_clean['RegistrationYear'])\n",
    "axs[0].set_title('RegistrationYear')\n",
    "axs[0].set_ylabel('Год')\n",
    "        \n",
    "axs[1].boxplot(df_clean['Power'])\n",
    "axs[1].set_title('Power')\n",
    "axs[1].set_ylabel('Мощность л.с')\n",
    "\n",
    "axs[2].boxplot(df_clean['Price'])\n",
    "axs[2].set_title('Price')\n",
    "axs[2].set_ylabel('Стоимость ЕВРО')"
   ]
  },
  {
   "cell_type": "markdown",
   "metadata": {},
   "source": [
    "Устранили аномальные значения, теперь смотрим кол-во пропущенных значений"
   ]
  },
  {
   "cell_type": "code",
   "execution_count": 15,
   "metadata": {},
   "outputs": [
    {
     "data": {
      "text/plain": [
       "DateCrawled              0\n",
       "Price                    0\n",
       "VehicleType          11090\n",
       "RegistrationYear         0\n",
       "Gearbox               2555\n",
       "Power                    0\n",
       "Model                 7150\n",
       "Kilometer                0\n",
       "RegistrationMonth        0\n",
       "FuelType             10338\n",
       "Brand                    0\n",
       "Repaired             25729\n",
       "DateCreated              0\n",
       "NumberOfPictures         0\n",
       "PostalCode               0\n",
       "LastSeen                 0\n",
       "dtype: int64"
      ]
     },
     "execution_count": 15,
     "metadata": {},
     "output_type": "execute_result"
    }
   ],
   "source": [
    "df_clean.isna().sum()"
   ]
  },
  {
   "cell_type": "code",
   "execution_count": 16,
   "metadata": {},
   "outputs": [
    {
     "data": {
      "text/plain": [
       "202868"
      ]
     },
     "execution_count": 16,
     "metadata": {},
     "output_type": "execute_result"
    }
   ],
   "source": [
    "len(df_clean)"
   ]
  },
  {
   "cell_type": "markdown",
   "metadata": {},
   "source": [
    "Тип автомобилей, коробки передачи, модели, топлива и состояния ремонта мы не можем поставить усредненные значения, т.к. это является уникальными. Но у нас достаточно информаций, чтобы можно устранять эти нежелательные пропуски"
   ]
  },
  {
   "cell_type": "code",
   "execution_count": 17,
   "metadata": {},
   "outputs": [],
   "source": [
    "# Устраняем\n",
    "df_clean = df_clean[~df_clean['VehicleType'].isna()]\n",
    "df_clean = df_clean[~df_clean['Gearbox'].isna()]\n",
    "df_clean = df_clean[~df_clean['Model'].isna()]\n",
    "df_clean = df_clean[~df_clean['FuelType'].isna()]\n",
    "df_clean = df_clean[~df_clean['Repaired'].isna()]"
   ]
  },
  {
   "cell_type": "code",
   "execution_count": 18,
   "metadata": {},
   "outputs": [
    {
     "data": {
      "text/plain": [
       "DateCrawled          0\n",
       "Price                0\n",
       "VehicleType          0\n",
       "RegistrationYear     0\n",
       "Gearbox              0\n",
       "Power                0\n",
       "Model                0\n",
       "Kilometer            0\n",
       "RegistrationMonth    0\n",
       "FuelType             0\n",
       "Brand                0\n",
       "Repaired             0\n",
       "DateCreated          0\n",
       "NumberOfPictures     0\n",
       "PostalCode           0\n",
       "LastSeen             0\n",
       "dtype: int64"
      ]
     },
     "execution_count": 18,
     "metadata": {},
     "output_type": "execute_result"
    }
   ],
   "source": [
    "# Проверим\n",
    "df_clean.isna().sum()"
   ]
  },
  {
   "cell_type": "code",
   "execution_count": 19,
   "metadata": {},
   "outputs": [],
   "source": [
    "# Сбрасываем и снова пронумерируем индексы\n",
    "df_clean = df_clean.reset_index(drop=True)"
   ]
  },
  {
   "cell_type": "code",
   "execution_count": 20,
   "metadata": {},
   "outputs": [],
   "source": [
    "# Преобразуем на другой тип данных DateCrawled, DateCreated и LastSeen\n",
    "df_clean['DateCrawled'] = pd.to_datetime(df_clean['DateCrawled'])\n",
    "df_clean['DateCreated'] = pd.to_datetime(df_clean['DateCreated'])\n",
    "df_clean['LastSeen'] = pd.to_datetime(df_clean['LastSeen'])"
   ]
  },
  {
   "cell_type": "code",
   "execution_count": 21,
   "metadata": {},
   "outputs": [
    {
     "data": {
      "text/html": [
       "<div>\n",
       "<style scoped>\n",
       "    .dataframe tbody tr th:only-of-type {\n",
       "        vertical-align: middle;\n",
       "    }\n",
       "\n",
       "    .dataframe tbody tr th {\n",
       "        vertical-align: top;\n",
       "    }\n",
       "\n",
       "    .dataframe thead th {\n",
       "        text-align: right;\n",
       "    }\n",
       "</style>\n",
       "<table border=\"1\" class=\"dataframe\">\n",
       "  <thead>\n",
       "    <tr style=\"text-align: right;\">\n",
       "      <th></th>\n",
       "      <th>DateCrawled</th>\n",
       "      <th>Price</th>\n",
       "      <th>VehicleType</th>\n",
       "      <th>RegistrationYear</th>\n",
       "      <th>Gearbox</th>\n",
       "      <th>Power</th>\n",
       "      <th>Model</th>\n",
       "      <th>Kilometer</th>\n",
       "      <th>RegistrationMonth</th>\n",
       "      <th>FuelType</th>\n",
       "      <th>Brand</th>\n",
       "      <th>Repaired</th>\n",
       "      <th>DateCreated</th>\n",
       "      <th>NumberOfPictures</th>\n",
       "      <th>PostalCode</th>\n",
       "      <th>LastSeen</th>\n",
       "    </tr>\n",
       "  </thead>\n",
       "  <tbody>\n",
       "    <tr>\n",
       "      <th>0</th>\n",
       "      <td>2016-04-01 20:48:51</td>\n",
       "      <td>2200</td>\n",
       "      <td>convertible</td>\n",
       "      <td>2004</td>\n",
       "      <td>manual</td>\n",
       "      <td>109</td>\n",
       "      <td>2_reihe</td>\n",
       "      <td>150000</td>\n",
       "      <td>8</td>\n",
       "      <td>petrol</td>\n",
       "      <td>peugeot</td>\n",
       "      <td>no</td>\n",
       "      <td>2016-04-01</td>\n",
       "      <td>0</td>\n",
       "      <td>67112</td>\n",
       "      <td>2016-04-05 18:18:39</td>\n",
       "    </tr>\n",
       "    <tr>\n",
       "      <th>1</th>\n",
       "      <td>2016-03-26 19:54:18</td>\n",
       "      <td>2000</td>\n",
       "      <td>sedan</td>\n",
       "      <td>2004</td>\n",
       "      <td>manual</td>\n",
       "      <td>105</td>\n",
       "      <td>3_reihe</td>\n",
       "      <td>150000</td>\n",
       "      <td>12</td>\n",
       "      <td>petrol</td>\n",
       "      <td>mazda</td>\n",
       "      <td>no</td>\n",
       "      <td>2016-03-26</td>\n",
       "      <td>0</td>\n",
       "      <td>96224</td>\n",
       "      <td>2016-04-06 10:45:34</td>\n",
       "    </tr>\n",
       "    <tr>\n",
       "      <th>2</th>\n",
       "      <td>2016-04-07 10:06:22</td>\n",
       "      <td>2799</td>\n",
       "      <td>wagon</td>\n",
       "      <td>2005</td>\n",
       "      <td>manual</td>\n",
       "      <td>140</td>\n",
       "      <td>passat</td>\n",
       "      <td>150000</td>\n",
       "      <td>12</td>\n",
       "      <td>gasoline</td>\n",
       "      <td>volkswagen</td>\n",
       "      <td>yes</td>\n",
       "      <td>2016-04-07</td>\n",
       "      <td>0</td>\n",
       "      <td>57290</td>\n",
       "      <td>2016-04-07 10:25:17</td>\n",
       "    </tr>\n",
       "    <tr>\n",
       "      <th>3</th>\n",
       "      <td>2016-03-21 12:57:01</td>\n",
       "      <td>17999</td>\n",
       "      <td>suv</td>\n",
       "      <td>2011</td>\n",
       "      <td>manual</td>\n",
       "      <td>190</td>\n",
       "      <td>navara</td>\n",
       "      <td>70000</td>\n",
       "      <td>3</td>\n",
       "      <td>gasoline</td>\n",
       "      <td>nissan</td>\n",
       "      <td>no</td>\n",
       "      <td>2016-03-21</td>\n",
       "      <td>0</td>\n",
       "      <td>4177</td>\n",
       "      <td>2016-04-06 07:45:42</td>\n",
       "    </tr>\n",
       "    <tr>\n",
       "      <th>4</th>\n",
       "      <td>2016-03-23 15:48:05</td>\n",
       "      <td>7550</td>\n",
       "      <td>bus</td>\n",
       "      <td>2007</td>\n",
       "      <td>manual</td>\n",
       "      <td>136</td>\n",
       "      <td>c_max</td>\n",
       "      <td>150000</td>\n",
       "      <td>6</td>\n",
       "      <td>gasoline</td>\n",
       "      <td>ford</td>\n",
       "      <td>no</td>\n",
       "      <td>2016-03-23</td>\n",
       "      <td>0</td>\n",
       "      <td>88361</td>\n",
       "      <td>2016-04-05 18:45:11</td>\n",
       "    </tr>\n",
       "  </tbody>\n",
       "</table>\n",
       "</div>"
      ],
      "text/plain": [
       "          DateCrawled  Price  VehicleType  RegistrationYear Gearbox  Power  \\\n",
       "0 2016-04-01 20:48:51   2200  convertible              2004  manual    109   \n",
       "1 2016-03-26 19:54:18   2000        sedan              2004  manual    105   \n",
       "2 2016-04-07 10:06:22   2799        wagon              2005  manual    140   \n",
       "3 2016-03-21 12:57:01  17999          suv              2011  manual    190   \n",
       "4 2016-03-23 15:48:05   7550          bus              2007  manual    136   \n",
       "\n",
       "     Model  Kilometer  RegistrationMonth  FuelType       Brand Repaired  \\\n",
       "0  2_reihe     150000                  8    petrol     peugeot       no   \n",
       "1  3_reihe     150000                 12    petrol       mazda       no   \n",
       "2   passat     150000                 12  gasoline  volkswagen      yes   \n",
       "3   navara      70000                  3  gasoline      nissan       no   \n",
       "4    c_max     150000                  6  gasoline        ford       no   \n",
       "\n",
       "  DateCreated  NumberOfPictures  PostalCode            LastSeen  \n",
       "0  2016-04-01                 0       67112 2016-04-05 18:18:39  \n",
       "1  2016-03-26                 0       96224 2016-04-06 10:45:34  \n",
       "2  2016-04-07                 0       57290 2016-04-07 10:25:17  \n",
       "3  2016-03-21                 0        4177 2016-04-06 07:45:42  \n",
       "4  2016-03-23                 0       88361 2016-04-05 18:45:11  "
      ]
     },
     "execution_count": 21,
     "metadata": {},
     "output_type": "execute_result"
    }
   ],
   "source": [
    "df_clean.head()"
   ]
  },
  {
   "cell_type": "markdown",
   "metadata": {},
   "source": [
    "Теперь с данными в порядке, можно уже приступать к обучению моделей"
   ]
  },
  {
   "cell_type": "markdown",
   "metadata": {},
   "source": [
    "## Обучение моделей"
   ]
  },
  {
   "cell_type": "markdown",
   "metadata": {},
   "source": [
    "Перед обучением нужно сделать следующие: прямое кодирование, порядкое кодирование и масштабируемость модели. Поэтому обучение моделей будет разделен на 3 этапа: OH, OHE, SCALER\n",
    "\n",
    "Поскольку у нас присутствуют некоторые признаки, которые являются строковыми или ojbect типами, а для машинного обучения регрессионного типа требует числа. Поэтому примением кодировку, которая будет преобразовать в числа"
   ]
  },
  {
   "cell_type": "code",
   "execution_count": 22,
   "metadata": {},
   "outputs": [
    {
     "name": "stdout",
     "output_type": "stream",
     "text": [
      "<class 'pandas.core.frame.DataFrame'>\n",
      "RangeIndex: 162507 entries, 0 to 162506\n",
      "Data columns (total 16 columns):\n",
      " #   Column             Non-Null Count   Dtype         \n",
      "---  ------             --------------   -----         \n",
      " 0   DateCrawled        162507 non-null  datetime64[ns]\n",
      " 1   Price              162507 non-null  int64         \n",
      " 2   VehicleType        162507 non-null  object        \n",
      " 3   RegistrationYear   162507 non-null  int64         \n",
      " 4   Gearbox            162507 non-null  object        \n",
      " 5   Power              162507 non-null  int64         \n",
      " 6   Model              162507 non-null  object        \n",
      " 7   Kilometer          162507 non-null  int64         \n",
      " 8   RegistrationMonth  162507 non-null  int64         \n",
      " 9   FuelType           162507 non-null  object        \n",
      " 10  Brand              162507 non-null  object        \n",
      " 11  Repaired           162507 non-null  object        \n",
      " 12  DateCreated        162507 non-null  datetime64[ns]\n",
      " 13  NumberOfPictures   162507 non-null  int64         \n",
      " 14  PostalCode         162507 non-null  int64         \n",
      " 15  LastSeen           162507 non-null  datetime64[ns]\n",
      "dtypes: datetime64[ns](3), int64(7), object(6)\n",
      "memory usage: 19.8+ MB\n"
     ]
    }
   ],
   "source": [
    "df_clean.info()"
   ]
  },
  {
   "cell_type": "markdown",
   "metadata": {},
   "source": [
    "Как и видим, что существуют несколько признаков, имеющих типа object. Теперь создадим список, который автоматически заполняет определенный тип"
   ]
  },
  {
   "cell_type": "code",
   "execution_count": 23,
   "metadata": {},
   "outputs": [],
   "source": [
    "# Здесь будем сохранить результаты машинного обучения\n",
    "results = pd.DataFrame()"
   ]
  },
  {
   "cell_type": "markdown",
   "metadata": {},
   "source": [
    "### Прямое кодирование - One-Hot Encoding"
   ]
  },
  {
   "cell_type": "code",
   "execution_count": 24,
   "metadata": {},
   "outputs": [],
   "source": [
    "# Убираем лишние признаки перед прямым кодированием\n",
    "df_ohe = df[['Price', 'VehicleType', 'RegistrationYear', 'Gearbox', 'Power', 'Model', 'Kilometer', 'RegistrationMonth', 'FuelType', 'Brand',\n",
    "       'Repaired']]"
   ]
  },
  {
   "cell_type": "code",
   "execution_count": 25,
   "metadata": {},
   "outputs": [],
   "source": [
    "# Уклоняемся от дамми-ловушек\n",
    "df_ohe = pd.get_dummies(df_ohe, drop_first=True)"
   ]
  },
  {
   "cell_type": "code",
   "execution_count": 26,
   "metadata": {},
   "outputs": [
    {
     "data": {
      "text/html": [
       "<div>\n",
       "<style scoped>\n",
       "    .dataframe tbody tr th:only-of-type {\n",
       "        vertical-align: middle;\n",
       "    }\n",
       "\n",
       "    .dataframe tbody tr th {\n",
       "        vertical-align: top;\n",
       "    }\n",
       "\n",
       "    .dataframe thead th {\n",
       "        text-align: right;\n",
       "    }\n",
       "</style>\n",
       "<table border=\"1\" class=\"dataframe\">\n",
       "  <thead>\n",
       "    <tr style=\"text-align: right;\">\n",
       "      <th></th>\n",
       "      <th>Price</th>\n",
       "      <th>RegistrationYear</th>\n",
       "      <th>Power</th>\n",
       "      <th>Kilometer</th>\n",
       "      <th>RegistrationMonth</th>\n",
       "      <th>VehicleType_convertible</th>\n",
       "      <th>VehicleType_coupe</th>\n",
       "      <th>VehicleType_other</th>\n",
       "      <th>VehicleType_sedan</th>\n",
       "      <th>VehicleType_small</th>\n",
       "      <th>...</th>\n",
       "      <th>Brand_skoda</th>\n",
       "      <th>Brand_smart</th>\n",
       "      <th>Brand_sonstige_autos</th>\n",
       "      <th>Brand_subaru</th>\n",
       "      <th>Brand_suzuki</th>\n",
       "      <th>Brand_toyota</th>\n",
       "      <th>Brand_trabant</th>\n",
       "      <th>Brand_volkswagen</th>\n",
       "      <th>Brand_volvo</th>\n",
       "      <th>Repaired_yes</th>\n",
       "    </tr>\n",
       "  </thead>\n",
       "  <tbody>\n",
       "    <tr>\n",
       "      <th>0</th>\n",
       "      <td>480</td>\n",
       "      <td>1993</td>\n",
       "      <td>0</td>\n",
       "      <td>150000</td>\n",
       "      <td>0</td>\n",
       "      <td>0</td>\n",
       "      <td>0</td>\n",
       "      <td>0</td>\n",
       "      <td>0</td>\n",
       "      <td>0</td>\n",
       "      <td>...</td>\n",
       "      <td>0</td>\n",
       "      <td>0</td>\n",
       "      <td>0</td>\n",
       "      <td>0</td>\n",
       "      <td>0</td>\n",
       "      <td>0</td>\n",
       "      <td>0</td>\n",
       "      <td>1</td>\n",
       "      <td>0</td>\n",
       "      <td>0</td>\n",
       "    </tr>\n",
       "    <tr>\n",
       "      <th>1</th>\n",
       "      <td>18300</td>\n",
       "      <td>2011</td>\n",
       "      <td>190</td>\n",
       "      <td>125000</td>\n",
       "      <td>5</td>\n",
       "      <td>0</td>\n",
       "      <td>1</td>\n",
       "      <td>0</td>\n",
       "      <td>0</td>\n",
       "      <td>0</td>\n",
       "      <td>...</td>\n",
       "      <td>0</td>\n",
       "      <td>0</td>\n",
       "      <td>0</td>\n",
       "      <td>0</td>\n",
       "      <td>0</td>\n",
       "      <td>0</td>\n",
       "      <td>0</td>\n",
       "      <td>0</td>\n",
       "      <td>0</td>\n",
       "      <td>1</td>\n",
       "    </tr>\n",
       "    <tr>\n",
       "      <th>2</th>\n",
       "      <td>9800</td>\n",
       "      <td>2004</td>\n",
       "      <td>163</td>\n",
       "      <td>125000</td>\n",
       "      <td>8</td>\n",
       "      <td>0</td>\n",
       "      <td>0</td>\n",
       "      <td>0</td>\n",
       "      <td>0</td>\n",
       "      <td>0</td>\n",
       "      <td>...</td>\n",
       "      <td>0</td>\n",
       "      <td>0</td>\n",
       "      <td>0</td>\n",
       "      <td>0</td>\n",
       "      <td>0</td>\n",
       "      <td>0</td>\n",
       "      <td>0</td>\n",
       "      <td>0</td>\n",
       "      <td>0</td>\n",
       "      <td>0</td>\n",
       "    </tr>\n",
       "    <tr>\n",
       "      <th>3</th>\n",
       "      <td>1500</td>\n",
       "      <td>2001</td>\n",
       "      <td>75</td>\n",
       "      <td>150000</td>\n",
       "      <td>6</td>\n",
       "      <td>0</td>\n",
       "      <td>0</td>\n",
       "      <td>0</td>\n",
       "      <td>0</td>\n",
       "      <td>1</td>\n",
       "      <td>...</td>\n",
       "      <td>0</td>\n",
       "      <td>0</td>\n",
       "      <td>0</td>\n",
       "      <td>0</td>\n",
       "      <td>0</td>\n",
       "      <td>0</td>\n",
       "      <td>0</td>\n",
       "      <td>1</td>\n",
       "      <td>0</td>\n",
       "      <td>0</td>\n",
       "    </tr>\n",
       "    <tr>\n",
       "      <th>4</th>\n",
       "      <td>3600</td>\n",
       "      <td>2008</td>\n",
       "      <td>69</td>\n",
       "      <td>90000</td>\n",
       "      <td>7</td>\n",
       "      <td>0</td>\n",
       "      <td>0</td>\n",
       "      <td>0</td>\n",
       "      <td>0</td>\n",
       "      <td>1</td>\n",
       "      <td>...</td>\n",
       "      <td>1</td>\n",
       "      <td>0</td>\n",
       "      <td>0</td>\n",
       "      <td>0</td>\n",
       "      <td>0</td>\n",
       "      <td>0</td>\n",
       "      <td>0</td>\n",
       "      <td>0</td>\n",
       "      <td>0</td>\n",
       "      <td>0</td>\n",
       "    </tr>\n",
       "  </tbody>\n",
       "</table>\n",
       "<p>5 rows × 308 columns</p>\n",
       "</div>"
      ],
      "text/plain": [
       "   Price  RegistrationYear  Power  Kilometer  RegistrationMonth  \\\n",
       "0    480              1993      0     150000                  0   \n",
       "1  18300              2011    190     125000                  5   \n",
       "2   9800              2004    163     125000                  8   \n",
       "3   1500              2001     75     150000                  6   \n",
       "4   3600              2008     69      90000                  7   \n",
       "\n",
       "   VehicleType_convertible  VehicleType_coupe  VehicleType_other  \\\n",
       "0                        0                  0                  0   \n",
       "1                        0                  1                  0   \n",
       "2                        0                  0                  0   \n",
       "3                        0                  0                  0   \n",
       "4                        0                  0                  0   \n",
       "\n",
       "   VehicleType_sedan  VehicleType_small  ...  Brand_skoda  Brand_smart  \\\n",
       "0                  0                  0  ...            0            0   \n",
       "1                  0                  0  ...            0            0   \n",
       "2                  0                  0  ...            0            0   \n",
       "3                  0                  1  ...            0            0   \n",
       "4                  0                  1  ...            1            0   \n",
       "\n",
       "   Brand_sonstige_autos  Brand_subaru  Brand_suzuki  Brand_toyota  \\\n",
       "0                     0             0             0             0   \n",
       "1                     0             0             0             0   \n",
       "2                     0             0             0             0   \n",
       "3                     0             0             0             0   \n",
       "4                     0             0             0             0   \n",
       "\n",
       "   Brand_trabant  Brand_volkswagen  Brand_volvo  Repaired_yes  \n",
       "0              0                 1            0             0  \n",
       "1              0                 0            0             1  \n",
       "2              0                 0            0             0  \n",
       "3              0                 1            0             0  \n",
       "4              0                 0            0             0  \n",
       "\n",
       "[5 rows x 308 columns]"
      ]
     },
     "execution_count": 26,
     "metadata": {},
     "output_type": "execute_result"
    }
   ],
   "source": [
    "df_ohe.head()"
   ]
  },
  {
   "cell_type": "markdown",
   "metadata": {},
   "source": [
    "#### Деление на обучающей и валидационной выборки"
   ]
  },
  {
   "cell_type": "code",
   "execution_count": 27,
   "metadata": {},
   "outputs": [],
   "source": [
    "# Получаем признак и цель \n",
    "features = df_ohe.drop('Price', axis=1)\n",
    "target = df_ohe['Price']"
   ]
  },
  {
   "cell_type": "code",
   "execution_count": 28,
   "metadata": {},
   "outputs": [],
   "source": [
    "# Разделим обучающую и валидационную выборку\n",
    "features_train, features_valid, target_train, target_valid = train_test_split(features, target, test_size=(1 - 0.6), random_state=12345)"
   ]
  },
  {
   "cell_type": "markdown",
   "metadata": {},
   "source": [
    "#### LinearRegression"
   ]
  },
  {
   "cell_type": "code",
   "execution_count": 39,
   "metadata": {},
   "outputs": [],
   "source": [
    "# Функция метрика качества - sMAPE\n",
    "def RMSE(actual, predict):\n",
    "    predict = np.array(predict)\n",
    "    actual = np.array(actual)\n",
    "    \n",
    "    distance = predict - actual\n",
    "\n",
    "    square_distance = distance ** 2\n",
    "\n",
    "    mean_square_distance = square_distance.mean()\n",
    "\n",
    "    score = np.sqrt(mean_square_distance)\n",
    "\n",
    "    return score"
   ]
  },
  {
   "cell_type": "code",
   "execution_count": 40,
   "metadata": {},
   "outputs": [],
   "source": [
    "# Подбор параметров модели с помощью make_scorer из sklearn.metrics\n",
    "rmse_score = make_scorer(RMSE, greater_is_better=False)"
   ]
  },
  {
   "cell_type": "code",
   "execution_count": 43,
   "metadata": {},
   "outputs": [],
   "source": [
    "# Устанавливаем нужные параметры\n",
    "parameters = {}\n",
    "\n",
    "# Инициализируем модель\n",
    "model = GridSearchCV(LinearRegression(), param_grid = parameters, cv = 5, scoring = rmse_score)"
   ]
  },
  {
   "cell_type": "code",
   "execution_count": null,
   "metadata": {},
   "outputs": [
    {
     "name": "stdout",
     "output_type": "stream",
     "text": [
      "===============================================================================================================================\n",
      "sMAPE:\n"
     ]
    }
   ],
   "source": [
    "%%time\n",
    "# Обучаем модель с целевым признаком rougher.output.recovery\n",
    "print('='*127)\n",
    "print('sMAPE:')\n",
    "\n",
    "model.fit(features, target)"
   ]
  },
  {
   "cell_type": "code",
   "execution_count": null,
   "metadata": {},
   "outputs": [],
   "source": [
    "result_RMSE = model.best_score_"
   ]
  },
  {
   "cell_type": "code",
   "execution_count": null,
   "metadata": {},
   "outputs": [],
   "source": [
    "# Узнаем sMAPE\n",
    "print('-'*127)\n",
    "if (model.best_score_ < 0):\n",
    "    print(':', -model.best_score_)\n",
    "else:\n",
    "    print(':', model.best_score_)\n",
    "\n",
    "print('='*127)"
   ]
  },
  {
   "cell_type": "markdown",
   "metadata": {},
   "source": [
    "Попробуем выявлять предсказания и RMSE методом LinearRegression"
   ]
  },
  {
   "cell_type": "code",
   "execution_count": 268,
   "metadata": {},
   "outputs": [
    {
     "name": "stdout",
     "output_type": "stream",
     "text": [
      "RMSE модели линейной регрессии на валидационной выборке: 3248.2090524299665\n",
      "Предсказание модели: 4413.415621094959\n",
      "CPU times: user 19.7 s, sys: 27.7 s, total: 47.4 s\n",
      "Wall time: 47.6 s\n"
     ]
    }
   ],
   "source": [
    "%%time\n",
    "start_time = timeit.default_timer()\n",
    "\n",
    "# Применяем метод линейной регрессии\n",
    "model = LinearRegression()\n",
    "\n",
    "# Обучим модель на тренировочной выборке\n",
    "model.fit(features_train, target_train) \n",
    "\n",
    "# Получим предсказания модели на валидационной выборке\n",
    "predictions_valid = model.predict(features_valid) \n",
    "\n",
    "# Посчитаем значение метрики RMSE на валидационной выборке\n",
    "result_RMSE = mean_squared_error(target_valid, predictions_valid) ** 0.5\n",
    "\n",
    "print('RMSE модели линейной регрессии на валидационной выборке:', result_RMSE)\n",
    "print('Предсказание модели:', predictions_valid.mean())\n",
    "\n",
    "\n",
    "elapsed = round(timeit.default_timer() - start_time, 3)\n",
    "\n",
    "# Зафиксируем результаты\n",
    "results['LinearRegression_OHE'] = pd.Series({'RMSE': result_RMSE, 'Predictions valid': predictions_valid.mean(), 'TIME [s]': elapsed})"
   ]
  },
  {
   "cell_type": "markdown",
   "metadata": {},
   "source": [
    "#### DecisionTreeRegressor"
   ]
  },
  {
   "cell_type": "code",
   "execution_count": 269,
   "metadata": {},
   "outputs": [
    {
     "name": "stdout",
     "output_type": "stream",
     "text": [
      "----------------------------------------------------------------------------------------------------\n",
      "Глубина дерева: 1 ; RMSE модели: 3791.6750188906854 ; Предсказание модели: 4416.880351265424\n",
      "Глубина дерева: 2 ; RMSE модели: 3304.7648279563305 ; Предсказание модели: 4422.642574436464\n",
      "Глубина дерева: 3 ; RMSE модели: 3034.0597408893827 ; Предсказание модели: 4419.900984298289\n",
      "Глубина дерева: 4 ; RMSE модели: 2761.377211325389 ; Предсказание модели: 4420.097398629785\n",
      "Глубина дерева: 5 ; RMSE модели: 2563.12170003766 ; Предсказание модели: 4424.819118120566\n",
      "Глубина дерева: 6 ; RMSE модели: 2427.8931447803966 ; Предсказание модели: 4430.976402949061\n",
      "Глубина дерева: 7 ; RMSE модели: 2318.014439401826 ; Предсказание модели: 4429.970941774681\n",
      "Глубина дерева: 8 ; RMSE модели: 2244.623138460952 ; Предсказание модели: 4429.029891080828\n",
      "Глубина дерева: 9 ; RMSE модели: 2187.080925641402 ; Предсказание модели: 4425.6934387600195\n",
      "Глубина дерева: 10 ; RMSE модели: 2138.509169342723 ; Предсказание модели: 4421.933162217534\n",
      "Глубина дерева: 11 ; RMSE модели: 2102.252099081242 ; Предсказание модели: 4420.753326980798\n",
      "Глубина дерева: 12 ; RMSE модели: 2079.322148986543 ; Предсказание модели: 4419.575493661736\n",
      "Глубина дерева: 13 ; RMSE модели: 2068.8580417229387 ; Предсказание модели: 4420.886631871699\n",
      "Глубина дерева: 14 ; RMSE модели: 2061.246687093981 ; Предсказание модели: 4421.621553034021\n",
      "Глубина дерева: 15 ; RMSE модели: 2069.112295090276 ; Предсказание модели: 4418.807058515902\n",
      "----------------------------------------------------------------------------------------------------\n",
      "\n",
      "RMSE наилучшей модели на валидационной выборке: 2061.246687093981 Количество деревьев: 0 Глубина дерева: 14\n",
      "Лучшие среднее предсказание модели: 4421.621553034021\n",
      "CPU times: user 40.6 s, sys: 3.21 s, total: 43.8 s\n",
      "Wall time: 43.8 s\n"
     ]
    }
   ],
   "source": [
    "%%time\n",
    "start_time = timeit.default_timer()\n",
    "\n",
    "best_RMSE = 100000\n",
    "best_est = 0\n",
    "best_depth = 0\n",
    "\n",
    "print('-'*100)\n",
    "for depth in range(1, 16):\n",
    "    # Применим модель DecisionTreeRegressor\n",
    "    model = DecisionTreeRegressor(random_state = 12345, max_depth = depth)\n",
    "\n",
    "    # Обучим модель на тренировочной выборке\n",
    "    model.fit(features_train, target_train) \n",
    "\n",
    "    # Получим предсказания модели на валидационной выборке\n",
    "    predictions_valid = model.predict(features_valid) \n",
    "\n",
    "    # Посчитаем значение метрики RMSE на валидационной выборке\n",
    "    result_RMSE = mean_squared_error(target_valid, predictions_valid) ** 0.5\n",
    "    print('Глубина дерева:', depth, '; RMSE модели:', result_RMSE, '; Предсказание модели:', predictions_valid.mean())\n",
    "\n",
    "    if result_RMSE < best_RMSE:\n",
    "        best_RMSE = result_RMSE\n",
    "        best_depth = depth\n",
    "        best_predictions = predictions_valid\n",
    "\n",
    "print('-'*100)\n",
    "print()\n",
    "print(\"RMSE наилучшей модели на валидационной выборке:\", best_RMSE, \"Количество деревьев:\", best_est, \"Глубина дерева:\", best_depth)\n",
    "print('Лучшие среднее предсказание модели:', best_predictions.mean())\n",
    "\n",
    "\n",
    "elapsed = round(timeit.default_timer() - start_time, 3)\n",
    "\n",
    "# Зафиксируем результаты\n",
    "results['DecisionTreeRegressor_OHE'] = pd.Series({'RMSE': result_RMSE, 'Predictions valid': best_predictions.mean(), 'TIME [s]': elapsed})"
   ]
  },
  {
   "cell_type": "markdown",
   "metadata": {},
   "source": [
    "#### RandomForestRegressor"
   ]
  },
  {
   "cell_type": "code",
   "execution_count": 270,
   "metadata": {},
   "outputs": [
    {
     "name": "stdout",
     "output_type": "stream",
     "text": [
      "----------------------------------------------------------------------------------------------------\n",
      "Глубина дерева: 1 ; RMSE модели: 3791.6810715072766 ; Предсказание модели: 4413.134836373811\n",
      "Глубина дерева: 2 ; RMSE модели: 3254.7839721486807 ; Предсказание модели: 4418.825122865356\n",
      "Глубина дерева: 3 ; RMSE модели: 2926.872080667417 ; Предсказание модели: 4416.78631294454\n",
      "Глубина дерева: 4 ; RMSE модели: 2636.1036931671483 ; Предсказание модели: 4416.948605981782\n",
      "Глубина дерева: 5 ; RMSE модели: 2492.458074923654 ; Предсказание модели: 4421.732718377656\n",
      "----------------------------------------------------------------------------------------------------\n",
      "\n",
      "RMSE наилучшей модели на валидационной выборке: 2492.458074923654 Количество деревьев: 10 Глубина дерева: 5\n",
      "Лучшие среднее предсказание модели: 4421.732718377656\n",
      "----------------------------------------------------------------------------------------------------\n",
      "Глубина дерева: 1 ; RMSE модели: 3791.6810715072766 ; Предсказание модели: 4413.134836373811\n",
      "Глубина дерева: 2 ; RMSE модели: 3254.7839721486807 ; Предсказание модели: 4418.825122865356\n",
      "Глубина дерева: 3 ; RMSE модели: 2926.872080667417 ; Предсказание модели: 4416.78631294454\n",
      "Глубина дерева: 4 ; RMSE модели: 2636.1036931671483 ; Предсказание модели: 4416.948605981782\n",
      "Глубина дерева: 5 ; RMSE модели: 2492.458074923654 ; Предсказание модели: 4421.732718377656\n",
      "----------------------------------------------------------------------------------------------------\n",
      "\n",
      "RMSE наилучшей модели на валидационной выборке: 2492.458074923654 Количество деревьев: 10 Глубина дерева: 5\n",
      "Лучшие среднее предсказание модели: 4421.732718377656\n",
      "----------------------------------------------------------------------------------------------------\n",
      "Глубина дерева: 1 ; RMSE модели: 3791.6810715072766 ; Предсказание модели: 4413.134836373811\n",
      "Глубина дерева: 2 ; RMSE модели: 3254.7839721486807 ; Предсказание модели: 4418.825122865356\n",
      "Глубина дерева: 3 ; RMSE модели: 2926.872080667417 ; Предсказание модели: 4416.78631294454\n",
      "Глубина дерева: 4 ; RMSE модели: 2636.1036931671483 ; Предсказание модели: 4416.948605981782\n",
      "Глубина дерева: 5 ; RMSE модели: 2492.458074923654 ; Предсказание модели: 4421.732718377656\n",
      "----------------------------------------------------------------------------------------------------\n",
      "\n",
      "RMSE наилучшей модели на валидационной выборке: 2492.458074923654 Количество деревьев: 10 Глубина дерева: 5\n",
      "Лучшие среднее предсказание модели: 4421.732718377656\n",
      "----------------------------------------------------------------------------------------------------\n",
      "Глубина дерева: 1 ; RMSE модели: 3791.6810715072766 ; Предсказание модели: 4413.134836373811\n",
      "Глубина дерева: 2 ; RMSE модели: 3254.7839721486807 ; Предсказание модели: 4418.825122865356\n",
      "Глубина дерева: 3 ; RMSE модели: 2926.872080667417 ; Предсказание модели: 4416.78631294454\n",
      "Глубина дерева: 4 ; RMSE модели: 2636.1036931671483 ; Предсказание модели: 4416.948605981782\n",
      "Глубина дерева: 5 ; RMSE модели: 2492.458074923654 ; Предсказание модели: 4421.732718377656\n",
      "----------------------------------------------------------------------------------------------------\n",
      "\n",
      "RMSE наилучшей модели на валидационной выборке: 2492.458074923654 Количество деревьев: 10 Глубина дерева: 5\n",
      "Лучшие среднее предсказание модели: 4421.732718377656\n",
      "----------------------------------------------------------------------------------------------------\n",
      "Глубина дерева: 1 ; RMSE модели: 3791.6810715072766 ; Предсказание модели: 4413.134836373811\n",
      "Глубина дерева: 2 ; RMSE модели: 3254.7839721486807 ; Предсказание модели: 4418.825122865356\n",
      "Глубина дерева: 3 ; RMSE модели: 2926.872080667417 ; Предсказание модели: 4416.78631294454\n",
      "Глубина дерева: 4 ; RMSE модели: 2636.1036931671483 ; Предсказание модели: 4416.948605981782\n",
      "Глубина дерева: 5 ; RMSE модели: 2492.458074923654 ; Предсказание модели: 4421.732718377656\n",
      "----------------------------------------------------------------------------------------------------\n",
      "\n",
      "RMSE наилучшей модели на валидационной выборке: 2492.458074923654 Количество деревьев: 10 Глубина дерева: 5\n",
      "Лучшие среднее предсказание модели: 4421.732718377656\n",
      "CPU times: user 5min 44s, sys: 5.68 s, total: 5min 49s\n",
      "Wall time: 5min 50s\n"
     ]
    }
   ],
   "source": [
    "%%time\n",
    "start_time = timeit.default_timer()\n",
    "\n",
    "best_RMSE = 100000\n",
    "best_est = 0\n",
    "best_depth = 0\n",
    "    \n",
    "for est in range(10, 51, 10):\n",
    "    print('-'*100)\n",
    "    for depth in range(1, 6):\n",
    "        # Применяем метод случайного леса\n",
    "        model = RandomForestRegressor(n_estimators=20, max_depth=depth, random_state=12345)\n",
    "\n",
    "        # Обучим модель на тренировочной выборке\n",
    "        model.fit(features_train, target_train) \n",
    "\n",
    "        # Получим предсказания модели на валидационной выборке\n",
    "        predictions_valid = model.predict(features_valid) \n",
    "\n",
    "        # Посчитаем значение метрики RMSE на валидационной выборке\n",
    "        result_RMSE = mean_squared_error(target_valid, predictions_valid) ** 0.5\n",
    "        print('Глубина дерева:', depth, '; RMSE модели:', result_RMSE, '; Предсказание модели:', predictions_valid.mean())\n",
    "\n",
    "        if result_RMSE < best_RMSE:\n",
    "            best_RMSE = result_RMSE\n",
    "            best_est = est\n",
    "            best_depth = depth\n",
    "            best_predictions = predictions_valid\n",
    "            \n",
    "    print('-'*100)\n",
    "    print()\n",
    "    print(\"RMSE наилучшей модели на валидационной выборке:\", best_RMSE, \"Количество деревьев:\", best_est, \"Глубина дерева:\", best_depth)\n",
    "    print('Лучшие среднее предсказание модели:', best_predictions.mean())\n",
    "\n",
    "\n",
    "elapsed = round(timeit.default_timer() - start_time, 3)\n",
    "\n",
    "# Зафиксируем результаты\n",
    "results['RandomForestRegressor_OHE'] = pd.Series({'RMSE': result_RMSE, 'Predictions valid': best_predictions.mean(), 'TIME [s]': elapsed})"
   ]
  },
  {
   "cell_type": "markdown",
   "metadata": {},
   "source": [
    "#### LightGBMRegressor"
   ]
  },
  {
   "cell_type": "code",
   "execution_count": null,
   "metadata": {},
   "outputs": [],
   "source": []
  },
  {
   "cell_type": "markdown",
   "metadata": {},
   "source": [
    "### Порядковое кодирование - OrdinalEncoder"
   ]
  },
  {
   "cell_type": "code",
   "execution_count": 286,
   "metadata": {},
   "outputs": [
    {
     "name": "stdout",
     "output_type": "stream",
     "text": [
      "2 VehicleType\n",
      "4 Gearbox\n",
      "6 Model\n",
      "9 FuelType\n",
      "10 Brand\n",
      "11 Repaired\n",
      "\n",
      "Список: ['VehicleType', 'Gearbox', 'Model', 'FuelType', 'Brand', 'Repaired']\n"
     ]
    }
   ],
   "source": [
    "col_type_obj = []\n",
    "\n",
    "for i, name in enumerate(df_clean.columns):\n",
    "    if(df_clean[name].dtype == object):\n",
    "        print(i, name)\n",
    "        col_type_obj.append(name)\n",
    "\n",
    "print()\n",
    "print('Список:', col_type_obj)"
   ]
  },
  {
   "cell_type": "markdown",
   "metadata": {},
   "source": [
    "Теперь преобразуем в другой тип, применяя OrdinalEncoder"
   ]
  },
  {
   "cell_type": "code",
   "execution_count": 287,
   "metadata": {},
   "outputs": [
    {
     "data": {
      "text/html": [
       "<div>\n",
       "<style scoped>\n",
       "    .dataframe tbody tr th:only-of-type {\n",
       "        vertical-align: middle;\n",
       "    }\n",
       "\n",
       "    .dataframe tbody tr th {\n",
       "        vertical-align: top;\n",
       "    }\n",
       "\n",
       "    .dataframe thead th {\n",
       "        text-align: right;\n",
       "    }\n",
       "</style>\n",
       "<table border=\"1\" class=\"dataframe\">\n",
       "  <thead>\n",
       "    <tr style=\"text-align: right;\">\n",
       "      <th></th>\n",
       "      <th>VehicleType</th>\n",
       "      <th>Gearbox</th>\n",
       "      <th>Model</th>\n",
       "      <th>FuelType</th>\n",
       "      <th>Brand</th>\n",
       "      <th>Repaired</th>\n",
       "    </tr>\n",
       "  </thead>\n",
       "  <tbody>\n",
       "    <tr>\n",
       "      <th>0</th>\n",
       "      <td>1.0</td>\n",
       "      <td>1.0</td>\n",
       "      <td>8.0</td>\n",
       "      <td>6.0</td>\n",
       "      <td>25.0</td>\n",
       "      <td>0.0</td>\n",
       "    </tr>\n",
       "    <tr>\n",
       "      <th>1</th>\n",
       "      <td>4.0</td>\n",
       "      <td>1.0</td>\n",
       "      <td>10.0</td>\n",
       "      <td>6.0</td>\n",
       "      <td>19.0</td>\n",
       "      <td>0.0</td>\n",
       "    </tr>\n",
       "    <tr>\n",
       "      <th>2</th>\n",
       "      <td>7.0</td>\n",
       "      <td>1.0</td>\n",
       "      <td>164.0</td>\n",
       "      <td>2.0</td>\n",
       "      <td>36.0</td>\n",
       "      <td>1.0</td>\n",
       "    </tr>\n",
       "    <tr>\n",
       "      <th>3</th>\n",
       "      <td>6.0</td>\n",
       "      <td>1.0</td>\n",
       "      <td>153.0</td>\n",
       "      <td>2.0</td>\n",
       "      <td>23.0</td>\n",
       "      <td>0.0</td>\n",
       "    </tr>\n",
       "    <tr>\n",
       "      <th>4</th>\n",
       "      <td>0.0</td>\n",
       "      <td>1.0</td>\n",
       "      <td>58.0</td>\n",
       "      <td>2.0</td>\n",
       "      <td>10.0</td>\n",
       "      <td>0.0</td>\n",
       "    </tr>\n",
       "    <tr>\n",
       "      <th>...</th>\n",
       "      <td>...</td>\n",
       "      <td>...</td>\n",
       "      <td>...</td>\n",
       "      <td>...</td>\n",
       "      <td>...</td>\n",
       "      <td>...</td>\n",
       "    </tr>\n",
       "    <tr>\n",
       "      <th>162502</th>\n",
       "      <td>4.0</td>\n",
       "      <td>1.0</td>\n",
       "      <td>136.0</td>\n",
       "      <td>2.0</td>\n",
       "      <td>30.0</td>\n",
       "      <td>0.0</td>\n",
       "    </tr>\n",
       "    <tr>\n",
       "      <th>162503</th>\n",
       "      <td>4.0</td>\n",
       "      <td>1.0</td>\n",
       "      <td>112.0</td>\n",
       "      <td>2.0</td>\n",
       "      <td>36.0</td>\n",
       "      <td>0.0</td>\n",
       "    </tr>\n",
       "    <tr>\n",
       "      <th>162504</th>\n",
       "      <td>4.0</td>\n",
       "      <td>1.0</td>\n",
       "      <td>136.0</td>\n",
       "      <td>6.0</td>\n",
       "      <td>30.0</td>\n",
       "      <td>1.0</td>\n",
       "    </tr>\n",
       "    <tr>\n",
       "      <th>162505</th>\n",
       "      <td>1.0</td>\n",
       "      <td>0.0</td>\n",
       "      <td>102.0</td>\n",
       "      <td>6.0</td>\n",
       "      <td>32.0</td>\n",
       "      <td>0.0</td>\n",
       "    </tr>\n",
       "    <tr>\n",
       "      <th>162506</th>\n",
       "      <td>0.0</td>\n",
       "      <td>1.0</td>\n",
       "      <td>213.0</td>\n",
       "      <td>2.0</td>\n",
       "      <td>36.0</td>\n",
       "      <td>0.0</td>\n",
       "    </tr>\n",
       "  </tbody>\n",
       "</table>\n",
       "<p>162507 rows × 6 columns</p>\n",
       "</div>"
      ],
      "text/plain": [
       "        VehicleType  Gearbox  Model  FuelType  Brand  Repaired\n",
       "0               1.0      1.0    8.0       6.0   25.0       0.0\n",
       "1               4.0      1.0   10.0       6.0   19.0       0.0\n",
       "2               7.0      1.0  164.0       2.0   36.0       1.0\n",
       "3               6.0      1.0  153.0       2.0   23.0       0.0\n",
       "4               0.0      1.0   58.0       2.0   10.0       0.0\n",
       "...             ...      ...    ...       ...    ...       ...\n",
       "162502          4.0      1.0  136.0       2.0   30.0       0.0\n",
       "162503          4.0      1.0  112.0       2.0   36.0       0.0\n",
       "162504          4.0      1.0  136.0       6.0   30.0       1.0\n",
       "162505          1.0      0.0  102.0       6.0   32.0       0.0\n",
       "162506          0.0      1.0  213.0       2.0   36.0       0.0\n",
       "\n",
       "[162507 rows x 6 columns]"
      ]
     },
     "execution_count": 287,
     "metadata": {},
     "output_type": "execute_result"
    }
   ],
   "source": [
    "df_mini_oe = pd.DataFrame(OrdinalEncoder().fit_transform(df_clean[col_type_obj]), columns=col_type_obj)\n",
    "df_mini_oe"
   ]
  },
  {
   "cell_type": "markdown",
   "metadata": {},
   "source": [
    "Теперь создадим датасет, в котором содержатся исключительно цифры"
   ]
  },
  {
   "cell_type": "code",
   "execution_count": 288,
   "metadata": {},
   "outputs": [],
   "source": [
    "# Устраняем столбцы, в котором содержатся типы object\n",
    "df_oe = df_clean.drop(columns=col_type_obj)\n",
    "# Добавим колонку в текущий датасет\n",
    "df_oe = pd.concat([df_oe, df_mini_ohe], axis=1)"
   ]
  },
  {
   "cell_type": "code",
   "execution_count": 289,
   "metadata": {},
   "outputs": [
    {
     "data": {
      "text/html": [
       "<div>\n",
       "<style scoped>\n",
       "    .dataframe tbody tr th:only-of-type {\n",
       "        vertical-align: middle;\n",
       "    }\n",
       "\n",
       "    .dataframe tbody tr th {\n",
       "        vertical-align: top;\n",
       "    }\n",
       "\n",
       "    .dataframe thead th {\n",
       "        text-align: right;\n",
       "    }\n",
       "</style>\n",
       "<table border=\"1\" class=\"dataframe\">\n",
       "  <thead>\n",
       "    <tr style=\"text-align: right;\">\n",
       "      <th></th>\n",
       "      <th>DateCrawled</th>\n",
       "      <th>Price</th>\n",
       "      <th>RegistrationYear</th>\n",
       "      <th>Power</th>\n",
       "      <th>Kilometer</th>\n",
       "      <th>RegistrationMonth</th>\n",
       "      <th>DateCreated</th>\n",
       "      <th>NumberOfPictures</th>\n",
       "      <th>PostalCode</th>\n",
       "      <th>LastSeen</th>\n",
       "      <th>VehicleType</th>\n",
       "      <th>Gearbox</th>\n",
       "      <th>Model</th>\n",
       "      <th>FuelType</th>\n",
       "      <th>Brand</th>\n",
       "      <th>Repaired</th>\n",
       "    </tr>\n",
       "  </thead>\n",
       "  <tbody>\n",
       "    <tr>\n",
       "      <th>0</th>\n",
       "      <td>2016-04-01 20:48:51</td>\n",
       "      <td>2200</td>\n",
       "      <td>2004</td>\n",
       "      <td>109</td>\n",
       "      <td>150000</td>\n",
       "      <td>8</td>\n",
       "      <td>2016-04-01</td>\n",
       "      <td>0</td>\n",
       "      <td>67112</td>\n",
       "      <td>2016-04-05 18:18:39</td>\n",
       "      <td>1.0</td>\n",
       "      <td>1.0</td>\n",
       "      <td>8.0</td>\n",
       "      <td>6.0</td>\n",
       "      <td>25.0</td>\n",
       "      <td>0.0</td>\n",
       "    </tr>\n",
       "    <tr>\n",
       "      <th>1</th>\n",
       "      <td>2016-03-26 19:54:18</td>\n",
       "      <td>2000</td>\n",
       "      <td>2004</td>\n",
       "      <td>105</td>\n",
       "      <td>150000</td>\n",
       "      <td>12</td>\n",
       "      <td>2016-03-26</td>\n",
       "      <td>0</td>\n",
       "      <td>96224</td>\n",
       "      <td>2016-04-06 10:45:34</td>\n",
       "      <td>4.0</td>\n",
       "      <td>1.0</td>\n",
       "      <td>10.0</td>\n",
       "      <td>6.0</td>\n",
       "      <td>19.0</td>\n",
       "      <td>0.0</td>\n",
       "    </tr>\n",
       "    <tr>\n",
       "      <th>2</th>\n",
       "      <td>2016-04-07 10:06:22</td>\n",
       "      <td>2799</td>\n",
       "      <td>2005</td>\n",
       "      <td>140</td>\n",
       "      <td>150000</td>\n",
       "      <td>12</td>\n",
       "      <td>2016-04-07</td>\n",
       "      <td>0</td>\n",
       "      <td>57290</td>\n",
       "      <td>2016-04-07 10:25:17</td>\n",
       "      <td>7.0</td>\n",
       "      <td>1.0</td>\n",
       "      <td>164.0</td>\n",
       "      <td>2.0</td>\n",
       "      <td>36.0</td>\n",
       "      <td>1.0</td>\n",
       "    </tr>\n",
       "    <tr>\n",
       "      <th>3</th>\n",
       "      <td>2016-03-21 12:57:01</td>\n",
       "      <td>17999</td>\n",
       "      <td>2011</td>\n",
       "      <td>190</td>\n",
       "      <td>70000</td>\n",
       "      <td>3</td>\n",
       "      <td>2016-03-21</td>\n",
       "      <td>0</td>\n",
       "      <td>4177</td>\n",
       "      <td>2016-04-06 07:45:42</td>\n",
       "      <td>6.0</td>\n",
       "      <td>1.0</td>\n",
       "      <td>153.0</td>\n",
       "      <td>2.0</td>\n",
       "      <td>23.0</td>\n",
       "      <td>0.0</td>\n",
       "    </tr>\n",
       "    <tr>\n",
       "      <th>4</th>\n",
       "      <td>2016-03-23 15:48:05</td>\n",
       "      <td>7550</td>\n",
       "      <td>2007</td>\n",
       "      <td>136</td>\n",
       "      <td>150000</td>\n",
       "      <td>6</td>\n",
       "      <td>2016-03-23</td>\n",
       "      <td>0</td>\n",
       "      <td>88361</td>\n",
       "      <td>2016-04-05 18:45:11</td>\n",
       "      <td>0.0</td>\n",
       "      <td>1.0</td>\n",
       "      <td>58.0</td>\n",
       "      <td>2.0</td>\n",
       "      <td>10.0</td>\n",
       "      <td>0.0</td>\n",
       "    </tr>\n",
       "  </tbody>\n",
       "</table>\n",
       "</div>"
      ],
      "text/plain": [
       "          DateCrawled  Price  RegistrationYear  Power  Kilometer  \\\n",
       "0 2016-04-01 20:48:51   2200              2004    109     150000   \n",
       "1 2016-03-26 19:54:18   2000              2004    105     150000   \n",
       "2 2016-04-07 10:06:22   2799              2005    140     150000   \n",
       "3 2016-03-21 12:57:01  17999              2011    190      70000   \n",
       "4 2016-03-23 15:48:05   7550              2007    136     150000   \n",
       "\n",
       "   RegistrationMonth DateCreated  NumberOfPictures  PostalCode  \\\n",
       "0                  8  2016-04-01                 0       67112   \n",
       "1                 12  2016-03-26                 0       96224   \n",
       "2                 12  2016-04-07                 0       57290   \n",
       "3                  3  2016-03-21                 0        4177   \n",
       "4                  6  2016-03-23                 0       88361   \n",
       "\n",
       "             LastSeen  VehicleType  Gearbox  Model  FuelType  Brand  Repaired  \n",
       "0 2016-04-05 18:18:39          1.0      1.0    8.0       6.0   25.0       0.0  \n",
       "1 2016-04-06 10:45:34          4.0      1.0   10.0       6.0   19.0       0.0  \n",
       "2 2016-04-07 10:25:17          7.0      1.0  164.0       2.0   36.0       1.0  \n",
       "3 2016-04-06 07:45:42          6.0      1.0  153.0       2.0   23.0       0.0  \n",
       "4 2016-04-05 18:45:11          0.0      1.0   58.0       2.0   10.0       0.0  "
      ]
     },
     "execution_count": 289,
     "metadata": {},
     "output_type": "execute_result"
    }
   ],
   "source": [
    "df_oe.head()"
   ]
  },
  {
   "cell_type": "markdown",
   "metadata": {},
   "source": [
    "#### Деление на обучающей и валидационной выборки"
   ]
  },
  {
   "cell_type": "code",
   "execution_count": 295,
   "metadata": {},
   "outputs": [],
   "source": [
    "features = df_oe.drop(['Price', 'DateCrawled', 'DateCreated', 'LastSeen'], axis=1)\n",
    "target = df_oe['Price']"
   ]
  },
  {
   "cell_type": "code",
   "execution_count": 296,
   "metadata": {},
   "outputs": [],
   "source": [
    "# Разделим обучающую и валидационную выборку\n",
    "features_train, features_valid, target_train, target_valid = train_test_split(features, target, test_size=(1 - 0.6), random_state=12345)"
   ]
  },
  {
   "cell_type": "markdown",
   "metadata": {},
   "source": [
    "#### LinearRegression"
   ]
  },
  {
   "cell_type": "markdown",
   "metadata": {},
   "source": [
    "Попробуем выявлять предсказания и RMSE методом LinearRegression"
   ]
  },
  {
   "cell_type": "code",
   "execution_count": 297,
   "metadata": {},
   "outputs": [
    {
     "name": "stdout",
     "output_type": "stream",
     "text": [
      "RMSE модели линейной регрессии на валидационной выборке: 3016.393101604751\n",
      "Предсказание модели: 6585.0785757686735\n",
      "CPU times: user 39.9 ms, sys: 56.3 ms, total: 96.2 ms\n",
      "Wall time: 35.9 ms\n"
     ]
    }
   ],
   "source": [
    "%%time\n",
    "start_time = timeit.default_timer()\n",
    "\n",
    "# Применяем метод линейной регрессии\n",
    "model = LinearRegression()\n",
    "\n",
    "# Обучим модель на тренировочной выборке\n",
    "model.fit(features_train, target_train) \n",
    "\n",
    "# Получим предсказания модели на валидационной выборке\n",
    "predictions_valid = model.predict(features_valid) \n",
    "\n",
    "# Посчитаем значение метрики RMSE на валидационной выборке\n",
    "result_RMSE = mean_squared_error(target_valid, predictions_valid) ** 0.5\n",
    "\n",
    "print('RMSE модели линейной регрессии на валидационной выборке:', result_RMSE)\n",
    "print('Предсказание модели:', predictions_valid.mean())\n",
    "\n",
    "\n",
    "elapsed = round(timeit.default_timer() - start_time, 3)\n",
    "\n",
    "# Зафиксируем результаты\n",
    "results['LinearRegression_OE'] = pd.Series({'RMSE': result_RMSE, 'Predictions valid': predictions_valid.mean(), 'TIME [s]': elapsed})"
   ]
  },
  {
   "cell_type": "markdown",
   "metadata": {},
   "source": [
    "#### DecisionTreeRegressor"
   ]
  },
  {
   "cell_type": "code",
   "execution_count": 298,
   "metadata": {},
   "outputs": [
    {
     "name": "stdout",
     "output_type": "stream",
     "text": [
      "----------------------------------------------------------------------------------------------------\n",
      "Глубина дерева: 1 ; RMSE модели: 3735.2837394165567 ; Предсказание модели: 6592.8567741947145\n",
      "Глубина дерева: 2 ; RMSE модели: 3362.1523822487875 ; Предсказание модели: 6594.316492622475\n",
      "Глубина дерева: 3 ; RMSE модели: 2953.0537326438875 ; Предсказание модели: 6593.044979051057\n",
      "Глубина дерева: 4 ; RMSE модели: 2750.056990667579 ; Предсказание модели: 6585.282178880711\n",
      "Глубина дерева: 5 ; RMSE модели: 2593.717516431703 ; Предсказание модели: 6592.394477410072\n",
      "Глубина дерева: 6 ; RMSE модели: 2484.751315020725 ; Предсказание модели: 6593.089474106674\n",
      "Глубина дерева: 7 ; RMSE модели: 2384.9064110200175 ; Предсказание модели: 6595.735510917038\n",
      "Глубина дерева: 8 ; RMSE модели: 2298.4858281613915 ; Предсказание модели: 6597.568534700538\n",
      "Глубина дерева: 9 ; RMSE модели: 2226.2602992268794 ; Предсказание модели: 6596.288998247389\n",
      "Глубина дерева: 10 ; RMSE модели: 2174.4515889969384 ; Предсказание модели: 6603.775556857664\n",
      "Глубина дерева: 11 ; RMSE модели: 2143.117056054152 ; Предсказание модели: 6611.331822274141\n",
      "Глубина дерева: 12 ; RMSE модели: 2118.9159644619244 ; Предсказание модели: 6616.825152065966\n",
      "Глубина дерева: 13 ; RMSE модели: 2112.121047867517 ; Предсказание модели: 6615.548753243146\n",
      "Глубина дерева: 14 ; RMSE модели: 2117.953590450863 ; Предсказание модели: 6624.2046480080935\n",
      "Глубина дерева: 15 ; RMSE модели: 2134.082467170691 ; Предсказание модели: 6628.556612144688\n",
      "----------------------------------------------------------------------------------------------------\n",
      "\n",
      "RMSE наилучшей модели на валидационной выборке: 2112.121047867517 Количество деревьев: 0 Глубина дерева: 13\n",
      "Лучшие среднее предсказание модели: 6615.548753243146\n",
      "CPU times: user 4.01 s, sys: 0 ns, total: 4.01 s\n",
      "Wall time: 4.06 s\n"
     ]
    }
   ],
   "source": [
    "%%time\n",
    "start_time = timeit.default_timer()\n",
    "\n",
    "best_RMSE = 100000\n",
    "best_est = 0\n",
    "best_depth = 0\n",
    "\n",
    "print('-'*100)\n",
    "for depth in range(1, 16):\n",
    "    # Применим модель DecisionTreeRegressor\n",
    "    model = DecisionTreeRegressor(random_state = 12345, max_depth = depth)\n",
    "\n",
    "    # Обучим модель на тренировочной выборке\n",
    "    model.fit(features_train, target_train) \n",
    "\n",
    "    # Получим предсказания модели на валидационной выборке\n",
    "    predictions_valid = model.predict(features_valid) \n",
    "\n",
    "    # Посчитаем значение метрики RMSE на валидационной выборке\n",
    "    result_RMSE = mean_squared_error(target_valid, predictions_valid) ** 0.5\n",
    "    print('Глубина дерева:', depth, '; RMSE модели:', result_RMSE, '; Предсказание модели:', predictions_valid.mean())\n",
    "\n",
    "    if result_RMSE < best_RMSE:\n",
    "        best_RMSE = result_RMSE\n",
    "        best_depth = depth\n",
    "        best_predictions = predictions_valid\n",
    "\n",
    "print('-'*100)\n",
    "print()\n",
    "print(\"RMSE наилучшей модели на валидационной выборке:\", best_RMSE, \"Количество деревьев:\", best_est, \"Глубина дерева:\", best_depth)\n",
    "print('Лучшие среднее предсказание модели:', best_predictions.mean())\n",
    "\n",
    "\n",
    "elapsed = round(timeit.default_timer() - start_time, 3)\n",
    "\n",
    "# Зафиксируем результаты\n",
    "results['DecisionTreeRegressor_OE'] = pd.Series({'RMSE': result_RMSE, 'Predictions valid': best_predictions.mean(), 'TIME [s]': elapsed})"
   ]
  },
  {
   "cell_type": "markdown",
   "metadata": {},
   "source": [
    "#### RandomForestRegressor"
   ]
  },
  {
   "cell_type": "code",
   "execution_count": 299,
   "metadata": {},
   "outputs": [
    {
     "name": "stdout",
     "output_type": "stream",
     "text": [
      "----------------------------------------------------------------------------------------------------\n",
      "Глубина дерева: 1 ; RMSE модели: 3735.3015693027373 ; Предсказание модели: 6590.236910369957\n",
      "Глубина дерева: 2 ; RMSE модели: 3329.7027588870806 ; Предсказание модели: 6593.991329476346\n",
      "Глубина дерева: 3 ; RMSE модели: 2932.9298201116108 ; Предсказание модели: 6590.528917775217\n",
      "Глубина дерева: 4 ; RMSE модели: 2699.5590599157713 ; Предсказание модели: 6586.489951299919\n",
      "Глубина дерева: 5 ; RMSE модели: 2540.604684880623 ; Предсказание модели: 6590.950988766373\n",
      "----------------------------------------------------------------------------------------------------\n",
      "\n",
      "RMSE наилучшей модели на валидационной выборке: 2540.604684880623 Количество деревьев: 10 Глубина дерева: 5\n",
      "Лучшие среднее предсказание модели: 6590.950988766373\n",
      "----------------------------------------------------------------------------------------------------\n",
      "Глубина дерева: 1 ; RMSE модели: 3735.3015693027373 ; Предсказание модели: 6590.236910369957\n",
      "Глубина дерева: 2 ; RMSE модели: 3329.7027588870806 ; Предсказание модели: 6593.991329476346\n",
      "Глубина дерева: 3 ; RMSE модели: 2932.9298201116108 ; Предсказание модели: 6590.528917775217\n",
      "Глубина дерева: 4 ; RMSE модели: 2699.5590599157713 ; Предсказание модели: 6586.489951299919\n",
      "Глубина дерева: 5 ; RMSE модели: 2540.604684880623 ; Предсказание модели: 6590.950988766373\n",
      "----------------------------------------------------------------------------------------------------\n",
      "\n",
      "RMSE наилучшей модели на валидационной выборке: 2540.604684880623 Количество деревьев: 10 Глубина дерева: 5\n",
      "Лучшие среднее предсказание модели: 6590.950988766373\n",
      "----------------------------------------------------------------------------------------------------\n",
      "Глубина дерева: 1 ; RMSE модели: 3735.3015693027373 ; Предсказание модели: 6590.236910369957\n",
      "Глубина дерева: 2 ; RMSE модели: 3329.7027588870806 ; Предсказание модели: 6593.991329476346\n",
      "Глубина дерева: 3 ; RMSE модели: 2932.9298201116108 ; Предсказание модели: 6590.528917775217\n",
      "Глубина дерева: 4 ; RMSE модели: 2699.5590599157713 ; Предсказание модели: 6586.489951299919\n",
      "Глубина дерева: 5 ; RMSE модели: 2540.604684880623 ; Предсказание модели: 6590.950988766373\n",
      "----------------------------------------------------------------------------------------------------\n",
      "\n",
      "RMSE наилучшей модели на валидационной выборке: 2540.604684880623 Количество деревьев: 10 Глубина дерева: 5\n",
      "Лучшие среднее предсказание модели: 6590.950988766373\n",
      "----------------------------------------------------------------------------------------------------\n",
      "Глубина дерева: 1 ; RMSE модели: 3735.3015693027373 ; Предсказание модели: 6590.236910369957\n",
      "Глубина дерева: 2 ; RMSE модели: 3329.7027588870806 ; Предсказание модели: 6593.991329476346\n",
      "Глубина дерева: 3 ; RMSE модели: 2932.9298201116108 ; Предсказание модели: 6590.528917775217\n",
      "Глубина дерева: 4 ; RMSE модели: 2699.5590599157713 ; Предсказание модели: 6586.489951299919\n",
      "Глубина дерева: 5 ; RMSE модели: 2540.604684880623 ; Предсказание модели: 6590.950988766373\n",
      "----------------------------------------------------------------------------------------------------\n",
      "\n",
      "RMSE наилучшей модели на валидационной выборке: 2540.604684880623 Количество деревьев: 10 Глубина дерева: 5\n",
      "Лучшие среднее предсказание модели: 6590.950988766373\n",
      "----------------------------------------------------------------------------------------------------\n",
      "Глубина дерева: 1 ; RMSE модели: 3735.3015693027373 ; Предсказание модели: 6590.236910369957\n",
      "Глубина дерева: 2 ; RMSE модели: 3329.7027588870806 ; Предсказание модели: 6593.991329476346\n",
      "Глубина дерева: 3 ; RMSE модели: 2932.9298201116108 ; Предсказание модели: 6590.528917775217\n",
      "Глубина дерева: 4 ; RMSE модели: 2699.5590599157713 ; Предсказание модели: 6586.489951299919\n",
      "Глубина дерева: 5 ; RMSE модели: 2540.604684880623 ; Предсказание модели: 6590.950988766373\n",
      "----------------------------------------------------------------------------------------------------\n",
      "\n",
      "RMSE наилучшей модели на валидационной выборке: 2540.604684880623 Количество деревьев: 10 Глубина дерева: 5\n",
      "Лучшие среднее предсказание модели: 6590.950988766373\n",
      "CPU times: user 34.5 s, sys: 72.4 ms, total: 34.6 s\n",
      "Wall time: 34.8 s\n"
     ]
    }
   ],
   "source": [
    "%%time\n",
    "start_time = timeit.default_timer()\n",
    "\n",
    "best_RMSE = 100000\n",
    "best_est = 0\n",
    "best_depth = 0\n",
    "    \n",
    "for est in range(10, 51, 10):\n",
    "    print('-'*100)\n",
    "    for depth in range(1, 6):\n",
    "        # Применяем метод случайного леса\n",
    "        model = RandomForestRegressor(n_estimators=20, max_depth=depth, random_state=12345)\n",
    "\n",
    "        # Обучим модель на тренировочной выборке\n",
    "        model.fit(features_train, target_train) \n",
    "\n",
    "        # Получим предсказания модели на валидационной выборке\n",
    "        predictions_valid = model.predict(features_valid) \n",
    "\n",
    "        # Посчитаем значение метрики RMSE на валидационной выборке\n",
    "        result_RMSE = mean_squared_error(target_valid, predictions_valid) ** 0.5\n",
    "        print('Глубина дерева:', depth, '; RMSE модели:', result_RMSE, '; Предсказание модели:', predictions_valid.mean())\n",
    "\n",
    "        if result_RMSE < best_RMSE:\n",
    "            best_RMSE = result_RMSE\n",
    "            best_est = est\n",
    "            best_depth = depth\n",
    "            best_predictions = predictions_valid\n",
    "            \n",
    "    print('-'*100)\n",
    "    print()\n",
    "    print(\"RMSE наилучшей модели на валидационной выборке:\", best_RMSE, \"Количество деревьев:\", best_est, \"Глубина дерева:\", best_depth)\n",
    "    print('Лучшие среднее предсказание модели:', best_predictions.mean())\n",
    "\n",
    "\n",
    "elapsed = round(timeit.default_timer() - start_time, 3)\n",
    "\n",
    "# Зафиксируем результаты\n",
    "results['RandomForestRegressor_OE'] = pd.Series({'RMSE': result_RMSE, 'Predictions valid': best_predictions.mean(), 'TIME [s]': elapsed})"
   ]
  },
  {
   "cell_type": "markdown",
   "metadata": {},
   "source": [
    "### Масштабирование признаков - StandardScaler"
   ]
  },
  {
   "cell_type": "markdown",
   "metadata": {},
   "source": [
    "#### Масштабируем OHE"
   ]
  },
  {
   "cell_type": "markdown",
   "metadata": {},
   "source": [
    "##### Деление на обучающей и валидационной выборки"
   ]
  },
  {
   "cell_type": "code",
   "execution_count": 300,
   "metadata": {},
   "outputs": [],
   "source": [
    "features = df_ohe.drop(['Price'], axis=1)\n",
    "target = df_ohe['Price']"
   ]
  },
  {
   "cell_type": "code",
   "execution_count": 301,
   "metadata": {},
   "outputs": [],
   "source": [
    "# Разделим обучающую и валидационную выборку\n",
    "features_train, features_valid, target_train, target_valid = train_test_split(features, target, test_size=(1 - 0.6), random_state=12345)"
   ]
  },
  {
   "cell_type": "code",
   "execution_count": 308,
   "metadata": {},
   "outputs": [],
   "source": [
    "# Вызов библиотеки для отключения предупреждения\n",
    "import warnings\n",
    "warnings.filterwarnings('ignore')"
   ]
  },
  {
   "cell_type": "code",
   "execution_count": 309,
   "metadata": {},
   "outputs": [],
   "source": [
    "# Масштабируем признаки: обучающую, валидационную и тестовую выборку\n",
    "scaler = StandardScaler()\n",
    "\n",
    "numeric = ['RegistrationYear', 'Power', 'Kilometer', 'RegistrationMonth']\n",
    "\n",
    "scaler.fit(features_train[numeric])\n",
    "\n",
    "# Преобразуем обучающую, валидационную и тестовую выборки функцией transform()\n",
    "features_train[numeric] = scaler.transform(features_train[numeric])\n",
    "features_valid[numeric] = scaler.transform(features_valid[numeric])"
   ]
  },
  {
   "cell_type": "code",
   "execution_count": 310,
   "metadata": {},
   "outputs": [
    {
     "name": "stdout",
     "output_type": "stream",
     "text": [
      "(212621, 307)\n",
      "(141748, 307)\n"
     ]
    }
   ],
   "source": [
    "# Проверим\n",
    "print(features_train.shape)\n",
    "print(features_valid.shape)"
   ]
  },
  {
   "cell_type": "code",
   "execution_count": 311,
   "metadata": {},
   "outputs": [
    {
     "data": {
      "text/html": [
       "<div>\n",
       "<style scoped>\n",
       "    .dataframe tbody tr th:only-of-type {\n",
       "        vertical-align: middle;\n",
       "    }\n",
       "\n",
       "    .dataframe tbody tr th {\n",
       "        vertical-align: top;\n",
       "    }\n",
       "\n",
       "    .dataframe thead th {\n",
       "        text-align: right;\n",
       "    }\n",
       "</style>\n",
       "<table border=\"1\" class=\"dataframe\">\n",
       "  <thead>\n",
       "    <tr style=\"text-align: right;\">\n",
       "      <th></th>\n",
       "      <th>RegistrationYear</th>\n",
       "      <th>Power</th>\n",
       "      <th>Kilometer</th>\n",
       "      <th>RegistrationMonth</th>\n",
       "      <th>VehicleType_convertible</th>\n",
       "      <th>VehicleType_coupe</th>\n",
       "      <th>VehicleType_other</th>\n",
       "      <th>VehicleType_sedan</th>\n",
       "      <th>VehicleType_small</th>\n",
       "      <th>VehicleType_suv</th>\n",
       "      <th>...</th>\n",
       "      <th>Brand_skoda</th>\n",
       "      <th>Brand_smart</th>\n",
       "      <th>Brand_sonstige_autos</th>\n",
       "      <th>Brand_subaru</th>\n",
       "      <th>Brand_suzuki</th>\n",
       "      <th>Brand_toyota</th>\n",
       "      <th>Brand_trabant</th>\n",
       "      <th>Brand_volkswagen</th>\n",
       "      <th>Brand_volvo</th>\n",
       "      <th>Repaired_yes</th>\n",
       "    </tr>\n",
       "  </thead>\n",
       "  <tbody>\n",
       "    <tr>\n",
       "      <th>51358</th>\n",
       "      <td>0.021943</td>\n",
       "      <td>0.271071</td>\n",
       "      <td>0.575195</td>\n",
       "      <td>-1.263062</td>\n",
       "      <td>0</td>\n",
       "      <td>0</td>\n",
       "      <td>0</td>\n",
       "      <td>1</td>\n",
       "      <td>0</td>\n",
       "      <td>0</td>\n",
       "      <td>...</td>\n",
       "      <td>0</td>\n",
       "      <td>0</td>\n",
       "      <td>0</td>\n",
       "      <td>0</td>\n",
       "      <td>0</td>\n",
       "      <td>0</td>\n",
       "      <td>0</td>\n",
       "      <td>0</td>\n",
       "      <td>0</td>\n",
       "      <td>0</td>\n",
       "    </tr>\n",
       "    <tr>\n",
       "      <th>259924</th>\n",
       "      <td>0.092459</td>\n",
       "      <td>0.307001</td>\n",
       "      <td>-2.061801</td>\n",
       "      <td>1.418210</td>\n",
       "      <td>0</td>\n",
       "      <td>0</td>\n",
       "      <td>0</td>\n",
       "      <td>1</td>\n",
       "      <td>0</td>\n",
       "      <td>0</td>\n",
       "      <td>...</td>\n",
       "      <td>0</td>\n",
       "      <td>0</td>\n",
       "      <td>0</td>\n",
       "      <td>0</td>\n",
       "      <td>0</td>\n",
       "      <td>0</td>\n",
       "      <td>0</td>\n",
       "      <td>0</td>\n",
       "      <td>0</td>\n",
       "      <td>1</td>\n",
       "    </tr>\n",
       "    <tr>\n",
       "      <th>144289</th>\n",
       "      <td>0.162975</td>\n",
       "      <td>-0.006109</td>\n",
       "      <td>0.575195</td>\n",
       "      <td>1.418210</td>\n",
       "      <td>0</td>\n",
       "      <td>0</td>\n",
       "      <td>0</td>\n",
       "      <td>0</td>\n",
       "      <td>0</td>\n",
       "      <td>0</td>\n",
       "      <td>...</td>\n",
       "      <td>0</td>\n",
       "      <td>0</td>\n",
       "      <td>0</td>\n",
       "      <td>0</td>\n",
       "      <td>0</td>\n",
       "      <td>0</td>\n",
       "      <td>0</td>\n",
       "      <td>0</td>\n",
       "      <td>0</td>\n",
       "      <td>0</td>\n",
       "    </tr>\n",
       "    <tr>\n",
       "      <th>346272</th>\n",
       "      <td>-0.013315</td>\n",
       "      <td>0.307001</td>\n",
       "      <td>0.575195</td>\n",
       "      <td>1.686337</td>\n",
       "      <td>0</td>\n",
       "      <td>0</td>\n",
       "      <td>0</td>\n",
       "      <td>1</td>\n",
       "      <td>0</td>\n",
       "      <td>0</td>\n",
       "      <td>...</td>\n",
       "      <td>0</td>\n",
       "      <td>0</td>\n",
       "      <td>0</td>\n",
       "      <td>0</td>\n",
       "      <td>0</td>\n",
       "      <td>0</td>\n",
       "      <td>0</td>\n",
       "      <td>0</td>\n",
       "      <td>0</td>\n",
       "      <td>0</td>\n",
       "    </tr>\n",
       "    <tr>\n",
       "      <th>247746</th>\n",
       "      <td>-0.048573</td>\n",
       "      <td>-0.180629</td>\n",
       "      <td>0.575195</td>\n",
       "      <td>-0.190553</td>\n",
       "      <td>0</td>\n",
       "      <td>0</td>\n",
       "      <td>0</td>\n",
       "      <td>0</td>\n",
       "      <td>1</td>\n",
       "      <td>0</td>\n",
       "      <td>...</td>\n",
       "      <td>0</td>\n",
       "      <td>0</td>\n",
       "      <td>0</td>\n",
       "      <td>0</td>\n",
       "      <td>0</td>\n",
       "      <td>0</td>\n",
       "      <td>0</td>\n",
       "      <td>1</td>\n",
       "      <td>0</td>\n",
       "      <td>0</td>\n",
       "    </tr>\n",
       "  </tbody>\n",
       "</table>\n",
       "<p>5 rows × 307 columns</p>\n",
       "</div>"
      ],
      "text/plain": [
       "        RegistrationYear     Power  Kilometer  RegistrationMonth  \\\n",
       "51358           0.021943  0.271071   0.575195          -1.263062   \n",
       "259924          0.092459  0.307001  -2.061801           1.418210   \n",
       "144289          0.162975 -0.006109   0.575195           1.418210   \n",
       "346272         -0.013315  0.307001   0.575195           1.686337   \n",
       "247746         -0.048573 -0.180629   0.575195          -0.190553   \n",
       "\n",
       "        VehicleType_convertible  VehicleType_coupe  VehicleType_other  \\\n",
       "51358                         0                  0                  0   \n",
       "259924                        0                  0                  0   \n",
       "144289                        0                  0                  0   \n",
       "346272                        0                  0                  0   \n",
       "247746                        0                  0                  0   \n",
       "\n",
       "        VehicleType_sedan  VehicleType_small  VehicleType_suv  ...  \\\n",
       "51358                   1                  0                0  ...   \n",
       "259924                  1                  0                0  ...   \n",
       "144289                  0                  0                0  ...   \n",
       "346272                  1                  0                0  ...   \n",
       "247746                  0                  1                0  ...   \n",
       "\n",
       "        Brand_skoda  Brand_smart  Brand_sonstige_autos  Brand_subaru  \\\n",
       "51358             0            0                     0             0   \n",
       "259924            0            0                     0             0   \n",
       "144289            0            0                     0             0   \n",
       "346272            0            0                     0             0   \n",
       "247746            0            0                     0             0   \n",
       "\n",
       "        Brand_suzuki  Brand_toyota  Brand_trabant  Brand_volkswagen  \\\n",
       "51358              0             0              0                 0   \n",
       "259924             0             0              0                 0   \n",
       "144289             0             0              0                 0   \n",
       "346272             0             0              0                 0   \n",
       "247746             0             0              0                 1   \n",
       "\n",
       "        Brand_volvo  Repaired_yes  \n",
       "51358             0             0  \n",
       "259924            0             1  \n",
       "144289            0             0  \n",
       "346272            0             0  \n",
       "247746            0             0  \n",
       "\n",
       "[5 rows x 307 columns]"
      ]
     },
     "execution_count": 311,
     "metadata": {},
     "output_type": "execute_result"
    }
   ],
   "source": [
    "features_train.head()"
   ]
  },
  {
   "cell_type": "markdown",
   "metadata": {},
   "source": [
    "##### LinearRegression"
   ]
  },
  {
   "cell_type": "markdown",
   "metadata": {},
   "source": [
    "Попробуем выявлять предсказания и RMSE методом LinearRegression"
   ]
  },
  {
   "cell_type": "code",
   "execution_count": 312,
   "metadata": {},
   "outputs": [
    {
     "name": "stdout",
     "output_type": "stream",
     "text": [
      "RMSE модели линейной регрессии на валидационной выборке: 3248.209052430018\n",
      "Предсказание модели: 4413.4156210950705\n",
      "CPU times: user 10.7 s, sys: 4.79 s, total: 15.5 s\n",
      "Wall time: 15.5 s\n"
     ]
    }
   ],
   "source": [
    "%%time\n",
    "start_time = timeit.default_timer()\n",
    "\n",
    "# Применяем метод линейной регрессии\n",
    "model = LinearRegression()\n",
    "\n",
    "# Обучим модель на тренировочной выборке\n",
    "model.fit(features_train, target_train) \n",
    "\n",
    "# Получим предсказания модели на валидационной выборке\n",
    "predictions_valid = model.predict(features_valid) \n",
    "\n",
    "# Посчитаем значение метрики RMSE на валидационной выборке\n",
    "result_RMSE = mean_squared_error(target_valid, predictions_valid) ** 0.5\n",
    "\n",
    "print('RMSE модели линейной регрессии на валидационной выборке:', result_RMSE)\n",
    "print('Предсказание модели:', predictions_valid.mean())\n",
    "\n",
    "\n",
    "elapsed = round(timeit.default_timer() - start_time, 3)\n",
    "\n",
    "# Зафиксируем результаты\n",
    "results['LinearRegression_OHE_C'] = pd.Series({'RMSE': result_RMSE, 'Predictions valid': predictions_valid.mean(), 'TIME [s]': elapsed})"
   ]
  },
  {
   "cell_type": "markdown",
   "metadata": {},
   "source": [
    "##### DecisionTreeRegressor"
   ]
  },
  {
   "cell_type": "code",
   "execution_count": 313,
   "metadata": {},
   "outputs": [
    {
     "name": "stdout",
     "output_type": "stream",
     "text": [
      "----------------------------------------------------------------------------------------------------\n",
      "Глубина дерева: 1 ; RMSE модели: 3791.6750188906854 ; Предсказание модели: 4416.880351265424\n",
      "Глубина дерева: 2 ; RMSE модели: 3304.7648279563305 ; Предсказание модели: 4422.642574436464\n",
      "Глубина дерева: 3 ; RMSE модели: 3034.0597408893827 ; Предсказание модели: 4419.900984298289\n",
      "Глубина дерева: 4 ; RMSE модели: 2761.377211325389 ; Предсказание модели: 4420.097398629785\n",
      "Глубина дерева: 5 ; RMSE модели: 2563.12170003766 ; Предсказание модели: 4424.819118120566\n",
      "Глубина дерева: 6 ; RMSE модели: 2427.8931447803966 ; Предсказание модели: 4430.976402949061\n",
      "Глубина дерева: 7 ; RMSE модели: 2318.014439401826 ; Предсказание модели: 4429.970941774681\n",
      "Глубина дерева: 8 ; RMSE модели: 2244.623138460952 ; Предсказание модели: 4429.029891080828\n",
      "Глубина дерева: 9 ; RMSE модели: 2186.8716597613693 ; Предсказание модели: 4425.64037678686\n",
      "Глубина дерева: 10 ; RMSE модели: 2138.015331455201 ; Предсказание модели: 4421.87837070042\n",
      "Глубина дерева: 11 ; RMSE модели: 2101.8419768118597 ; Предсказание модели: 4420.74301106545\n",
      "Глубина дерева: 12 ; RMSE модели: 2078.6637131302045 ; Предсказание модели: 4419.744334490721\n",
      "Глубина дерева: 13 ; RMSE модели: 2068.052164344326 ; Предсказание модели: 4421.141956492158\n",
      "Глубина дерева: 14 ; RMSE модели: 2060.1562873957964 ; Предсказание модели: 4422.070353834877\n",
      "Глубина дерева: 15 ; RMSE модели: 2067.991327389541 ; Предсказание модели: 4419.299761375687\n",
      "----------------------------------------------------------------------------------------------------\n",
      "\n",
      "RMSE наилучшей модели на валидационной выборке: 2060.1562873957964 Количество деревьев: 0 Глубина дерева: 14\n",
      "Лучшие среднее предсказание модели: 4422.070353834877\n",
      "CPU times: user 38.6 s, sys: 3.27 s, total: 41.9 s\n",
      "Wall time: 41.9 s\n"
     ]
    }
   ],
   "source": [
    "%%time\n",
    "start_time = timeit.default_timer()\n",
    "\n",
    "best_RMSE = 100000\n",
    "best_est = 0\n",
    "best_depth = 0\n",
    "\n",
    "print('-'*100)\n",
    "for depth in range(1, 16):\n",
    "    # Применим модель DecisionTreeRegressor\n",
    "    model = DecisionTreeRegressor(random_state = 12345, max_depth = depth)\n",
    "\n",
    "    # Обучим модель на тренировочной выборке\n",
    "    model.fit(features_train, target_train) \n",
    "\n",
    "    # Получим предсказания модели на валидационной выборке\n",
    "    predictions_valid = model.predict(features_valid) \n",
    "\n",
    "    # Посчитаем значение метрики RMSE на валидационной выборке\n",
    "    result_RMSE = mean_squared_error(target_valid, predictions_valid) ** 0.5\n",
    "    print('Глубина дерева:', depth, '; RMSE модели:', result_RMSE, '; Предсказание модели:', predictions_valid.mean())\n",
    "\n",
    "    if result_RMSE < best_RMSE:\n",
    "        best_RMSE = result_RMSE\n",
    "        best_depth = depth\n",
    "        best_predictions = predictions_valid\n",
    "\n",
    "print('-'*100)\n",
    "print()\n",
    "print(\"RMSE наилучшей модели на валидационной выборке:\", best_RMSE, \"Количество деревьев:\", best_est, \"Глубина дерева:\", best_depth)\n",
    "print('Лучшие среднее предсказание модели:', best_predictions.mean())\n",
    "\n",
    "\n",
    "elapsed = round(timeit.default_timer() - start_time, 3)\n",
    "\n",
    "# Зафиксируем результаты\n",
    "results['DecisionTreeRegressor_OHE_C'] = pd.Series({'RMSE': result_RMSE, 'Predictions valid': best_predictions.mean(), 'TIME [s]': elapsed})"
   ]
  },
  {
   "cell_type": "markdown",
   "metadata": {},
   "source": [
    "##### RandomForestRegressor"
   ]
  },
  {
   "cell_type": "code",
   "execution_count": 314,
   "metadata": {},
   "outputs": [
    {
     "name": "stdout",
     "output_type": "stream",
     "text": [
      "----------------------------------------------------------------------------------------------------\n",
      "Глубина дерева: 1 ; RMSE модели: 3791.6810715072766 ; Предсказание модели: 4413.134836373811\n",
      "Глубина дерева: 2 ; RMSE модели: 3254.7839721486807 ; Предсказание модели: 4418.825122865356\n",
      "Глубина дерева: 3 ; RMSE модели: 2926.872080667417 ; Предсказание модели: 4416.78631294454\n",
      "Глубина дерева: 4 ; RMSE модели: 2636.1036931671483 ; Предсказание модели: 4416.948605981782\n",
      "Глубина дерева: 5 ; RMSE модели: 2492.4564168375987 ; Предсказание модели: 4421.734403154202\n",
      "----------------------------------------------------------------------------------------------------\n",
      "\n",
      "RMSE наилучшей модели на валидационной выборке: 2492.4564168375987 Количество деревьев: 10 Глубина дерева: 5\n",
      "Лучшие среднее предсказание модели: 4421.734403154202\n",
      "----------------------------------------------------------------------------------------------------\n",
      "Глубина дерева: 1 ; RMSE модели: 3791.6810715072766 ; Предсказание модели: 4413.134836373811\n",
      "Глубина дерева: 2 ; RMSE модели: 3254.7839721486807 ; Предсказание модели: 4418.825122865356\n",
      "Глубина дерева: 3 ; RMSE модели: 2926.872080667417 ; Предсказание модели: 4416.78631294454\n",
      "Глубина дерева: 4 ; RMSE модели: 2636.1036931671483 ; Предсказание модели: 4416.948605981782\n",
      "Глубина дерева: 5 ; RMSE модели: 2492.4564168375987 ; Предсказание модели: 4421.734403154202\n",
      "----------------------------------------------------------------------------------------------------\n",
      "\n",
      "RMSE наилучшей модели на валидационной выборке: 2492.4564168375987 Количество деревьев: 10 Глубина дерева: 5\n",
      "Лучшие среднее предсказание модели: 4421.734403154202\n",
      "----------------------------------------------------------------------------------------------------\n",
      "Глубина дерева: 1 ; RMSE модели: 3791.6810715072766 ; Предсказание модели: 4413.134836373811\n",
      "Глубина дерева: 2 ; RMSE модели: 3254.7839721486807 ; Предсказание модели: 4418.825122865356\n",
      "Глубина дерева: 3 ; RMSE модели: 2926.872080667417 ; Предсказание модели: 4416.78631294454\n",
      "Глубина дерева: 4 ; RMSE модели: 2636.1036931671483 ; Предсказание модели: 4416.948605981782\n",
      "Глубина дерева: 5 ; RMSE модели: 2492.4564168375987 ; Предсказание модели: 4421.734403154202\n",
      "----------------------------------------------------------------------------------------------------\n",
      "\n",
      "RMSE наилучшей модели на валидационной выборке: 2492.4564168375987 Количество деревьев: 10 Глубина дерева: 5\n",
      "Лучшие среднее предсказание модели: 4421.734403154202\n",
      "----------------------------------------------------------------------------------------------------\n",
      "Глубина дерева: 1 ; RMSE модели: 3791.6810715072766 ; Предсказание модели: 4413.134836373811\n",
      "Глубина дерева: 2 ; RMSE модели: 3254.7839721486807 ; Предсказание модели: 4418.825122865356\n",
      "Глубина дерева: 3 ; RMSE модели: 2926.872080667417 ; Предсказание модели: 4416.78631294454\n",
      "Глубина дерева: 4 ; RMSE модели: 2636.1036931671483 ; Предсказание модели: 4416.948605981782\n",
      "Глубина дерева: 5 ; RMSE модели: 2492.4564168375987 ; Предсказание модели: 4421.734403154202\n",
      "----------------------------------------------------------------------------------------------------\n",
      "\n",
      "RMSE наилучшей модели на валидационной выборке: 2492.4564168375987 Количество деревьев: 10 Глубина дерева: 5\n",
      "Лучшие среднее предсказание модели: 4421.734403154202\n",
      "----------------------------------------------------------------------------------------------------\n",
      "Глубина дерева: 1 ; RMSE модели: 3791.6810715072766 ; Предсказание модели: 4413.134836373811\n",
      "Глубина дерева: 2 ; RMSE модели: 3254.7839721486807 ; Предсказание модели: 4418.825122865356\n",
      "Глубина дерева: 3 ; RMSE модели: 2926.872080667417 ; Предсказание модели: 4416.78631294454\n",
      "Глубина дерева: 4 ; RMSE модели: 2636.1036931671483 ; Предсказание модели: 4416.948605981782\n",
      "Глубина дерева: 5 ; RMSE модели: 2492.4564168375987 ; Предсказание модели: 4421.734403154202\n",
      "----------------------------------------------------------------------------------------------------\n",
      "\n",
      "RMSE наилучшей модели на валидационной выборке: 2492.4564168375987 Количество деревьев: 10 Глубина дерева: 5\n",
      "Лучшие среднее предсказание модели: 4421.734403154202\n",
      "CPU times: user 5min 17s, sys: 5.64 s, total: 5min 23s\n",
      "Wall time: 5min 24s\n"
     ]
    }
   ],
   "source": [
    "%%time\n",
    "start_time = timeit.default_timer()\n",
    "\n",
    "best_RMSE = 100000\n",
    "best_est = 0\n",
    "best_depth = 0\n",
    "    \n",
    "for est in range(10, 51, 10):\n",
    "    print('-'*100)\n",
    "    for depth in range(1, 6):\n",
    "        # Применяем метод случайного леса\n",
    "        model = RandomForestRegressor(n_estimators=20, max_depth=depth, random_state=12345)\n",
    "\n",
    "        # Обучим модель на тренировочной выборке\n",
    "        model.fit(features_train, target_train) \n",
    "\n",
    "        # Получим предсказания модели на валидационной выборке\n",
    "        predictions_valid = model.predict(features_valid) \n",
    "\n",
    "        # Посчитаем значение метрики RMSE на валидационной выборке\n",
    "        result_RMSE = mean_squared_error(target_valid, predictions_valid) ** 0.5\n",
    "        print('Глубина дерева:', depth, '; RMSE модели:', result_RMSE, '; Предсказание модели:', predictions_valid.mean())\n",
    "\n",
    "        if result_RMSE < best_RMSE:\n",
    "            best_RMSE = result_RMSE\n",
    "            best_est = est\n",
    "            best_depth = depth\n",
    "            best_predictions = predictions_valid\n",
    "            \n",
    "    print('-'*100)\n",
    "    print()\n",
    "    print(\"RMSE наилучшей модели на валидационной выборке:\", best_RMSE, \"Количество деревьев:\", best_est, \"Глубина дерева:\", best_depth)\n",
    "    print('Лучшие среднее предсказание модели:', best_predictions.mean())\n",
    "\n",
    "\n",
    "elapsed = round(timeit.default_timer() - start_time, 3)\n",
    "\n",
    "# Зафиксируем результаты\n",
    "results['RandomForestRegressor_OHE_C'] = pd.Series({'RMSE': result_RMSE, 'Predictions valid': best_predictions.mean(), 'TIME [s]': elapsed})"
   ]
  },
  {
   "cell_type": "markdown",
   "metadata": {},
   "source": [
    "#### Масштабируем OE"
   ]
  },
  {
   "cell_type": "markdown",
   "metadata": {},
   "source": [
    "##### Деление на обучающей и валидационной выборки"
   ]
  },
  {
   "cell_type": "code",
   "execution_count": 317,
   "metadata": {},
   "outputs": [],
   "source": [
    "features = df_oe.drop(['Price', 'DateCrawled', 'DateCreated', 'LastSeen'], axis=1)\n",
    "target = df_oe['Price']"
   ]
  },
  {
   "cell_type": "code",
   "execution_count": 318,
   "metadata": {},
   "outputs": [],
   "source": [
    "# Разделим обучающую и валидационную выборку\n",
    "features_train, features_valid, target_train, target_valid = train_test_split(features, target, test_size=(1 - 0.6), random_state=12345)"
   ]
  },
  {
   "cell_type": "code",
   "execution_count": 319,
   "metadata": {},
   "outputs": [],
   "source": [
    "# Масштабируем признаки: обучающую, валидационную и тестовую выборку\n",
    "scaler = StandardScaler()\n",
    "\n",
    "numeric = ['VehicleType', 'RegistrationYear', 'Gearbox', 'Power', 'Model', 'Kilometer', 'RegistrationMonth', 'FuelType', 'Brand', 'Repaired']\n",
    "\n",
    "scaler.fit(features_train[numeric])\n",
    "\n",
    "# Преобразуем обучающую, валидационную и тестовую выборки функцией transform()\n",
    "features_train[numeric] = scaler.transform(features_train[numeric])\n",
    "features_valid[numeric] = scaler.transform(features_valid[numeric])"
   ]
  },
  {
   "cell_type": "code",
   "execution_count": 321,
   "metadata": {},
   "outputs": [
    {
     "name": "stdout",
     "output_type": "stream",
     "text": [
      "(97504, 12)\n",
      "(65003, 12)\n"
     ]
    }
   ],
   "source": [
    "# Проверим\n",
    "print(features_train.shape)\n",
    "print(features_valid.shape)"
   ]
  },
  {
   "cell_type": "code",
   "execution_count": 322,
   "metadata": {},
   "outputs": [
    {
     "data": {
      "text/html": [
       "<div>\n",
       "<style scoped>\n",
       "    .dataframe tbody tr th:only-of-type {\n",
       "        vertical-align: middle;\n",
       "    }\n",
       "\n",
       "    .dataframe tbody tr th {\n",
       "        vertical-align: top;\n",
       "    }\n",
       "\n",
       "    .dataframe thead th {\n",
       "        text-align: right;\n",
       "    }\n",
       "</style>\n",
       "<table border=\"1\" class=\"dataframe\">\n",
       "  <thead>\n",
       "    <tr style=\"text-align: right;\">\n",
       "      <th></th>\n",
       "      <th>RegistrationYear</th>\n",
       "      <th>Power</th>\n",
       "      <th>Kilometer</th>\n",
       "      <th>RegistrationMonth</th>\n",
       "      <th>NumberOfPictures</th>\n",
       "      <th>PostalCode</th>\n",
       "      <th>VehicleType</th>\n",
       "      <th>Gearbox</th>\n",
       "      <th>Model</th>\n",
       "      <th>FuelType</th>\n",
       "      <th>Brand</th>\n",
       "      <th>Repaired</th>\n",
       "    </tr>\n",
       "  </thead>\n",
       "  <tbody>\n",
       "    <tr>\n",
       "      <th>87084</th>\n",
       "      <td>-0.710156</td>\n",
       "      <td>-0.605848</td>\n",
       "      <td>0.599218</td>\n",
       "      <td>-0.087269</td>\n",
       "      <td>0</td>\n",
       "      <td>45468</td>\n",
       "      <td>-0.048288</td>\n",
       "      <td>0.594613</td>\n",
       "      <td>0.182772</td>\n",
       "      <td>0.876679</td>\n",
       "      <td>1.359500</td>\n",
       "      <td>-0.287959</td>\n",
       "    </tr>\n",
       "    <tr>\n",
       "      <th>56075</th>\n",
       "      <td>-0.003565</td>\n",
       "      <td>-0.605848</td>\n",
       "      <td>0.599218</td>\n",
       "      <td>-0.671442</td>\n",
       "      <td>0</td>\n",
       "      <td>52134</td>\n",
       "      <td>1.226856</td>\n",
       "      <td>0.594613</td>\n",
       "      <td>0.684760</td>\n",
       "      <td>-1.156083</td>\n",
       "      <td>-0.619622</td>\n",
       "      <td>-0.287959</td>\n",
       "    </tr>\n",
       "    <tr>\n",
       "      <th>72568</th>\n",
       "      <td>1.056321</td>\n",
       "      <td>0.560416</td>\n",
       "      <td>0.599218</td>\n",
       "      <td>-0.087269</td>\n",
       "      <td>0</td>\n",
       "      <td>61138</td>\n",
       "      <td>1.226856</td>\n",
       "      <td>0.594613</td>\n",
       "      <td>-0.584153</td>\n",
       "      <td>-1.156083</td>\n",
       "      <td>0.141579</td>\n",
       "      <td>-0.287959</td>\n",
       "    </tr>\n",
       "    <tr>\n",
       "      <th>44154</th>\n",
       "      <td>-1.240099</td>\n",
       "      <td>-0.519458</td>\n",
       "      <td>0.599218</td>\n",
       "      <td>-0.087269</td>\n",
       "      <td>0</td>\n",
       "      <td>1979</td>\n",
       "      <td>1.226856</td>\n",
       "      <td>0.594613</td>\n",
       "      <td>0.503487</td>\n",
       "      <td>0.876679</td>\n",
       "      <td>1.131140</td>\n",
       "      <td>3.472713</td>\n",
       "    </tr>\n",
       "    <tr>\n",
       "      <th>65982</th>\n",
       "      <td>0.173082</td>\n",
       "      <td>0.409234</td>\n",
       "      <td>0.599218</td>\n",
       "      <td>0.204818</td>\n",
       "      <td>0</td>\n",
       "      <td>81829</td>\n",
       "      <td>-0.048288</td>\n",
       "      <td>0.594613</td>\n",
       "      <td>-1.225581</td>\n",
       "      <td>-1.156083</td>\n",
       "      <td>-1.228582</td>\n",
       "      <td>-0.287959</td>\n",
       "    </tr>\n",
       "  </tbody>\n",
       "</table>\n",
       "</div>"
      ],
      "text/plain": [
       "       RegistrationYear     Power  Kilometer  RegistrationMonth  \\\n",
       "87084         -0.710156 -0.605848   0.599218          -0.087269   \n",
       "56075         -0.003565 -0.605848   0.599218          -0.671442   \n",
       "72568          1.056321  0.560416   0.599218          -0.087269   \n",
       "44154         -1.240099 -0.519458   0.599218          -0.087269   \n",
       "65982          0.173082  0.409234   0.599218           0.204818   \n",
       "\n",
       "       NumberOfPictures  PostalCode  VehicleType   Gearbox     Model  \\\n",
       "87084                 0       45468    -0.048288  0.594613  0.182772   \n",
       "56075                 0       52134     1.226856  0.594613  0.684760   \n",
       "72568                 0       61138     1.226856  0.594613 -0.584153   \n",
       "44154                 0        1979     1.226856  0.594613  0.503487   \n",
       "65982                 0       81829    -0.048288  0.594613 -1.225581   \n",
       "\n",
       "       FuelType     Brand  Repaired  \n",
       "87084  0.876679  1.359500 -0.287959  \n",
       "56075 -1.156083 -0.619622 -0.287959  \n",
       "72568 -1.156083  0.141579 -0.287959  \n",
       "44154  0.876679  1.131140  3.472713  \n",
       "65982 -1.156083 -1.228582 -0.287959  "
      ]
     },
     "execution_count": 322,
     "metadata": {},
     "output_type": "execute_result"
    }
   ],
   "source": [
    "features_train.head()"
   ]
  },
  {
   "cell_type": "markdown",
   "metadata": {},
   "source": [
    "##### LinearRegression"
   ]
  },
  {
   "cell_type": "markdown",
   "metadata": {},
   "source": [
    "Попробуем выявлять предсказания и RMSE методом LinearRegression"
   ]
  },
  {
   "cell_type": "code",
   "execution_count": 323,
   "metadata": {},
   "outputs": [
    {
     "name": "stdout",
     "output_type": "stream",
     "text": [
      "RMSE модели линейной регрессии на валидационной выборке: 3016.3931016047454\n",
      "Предсказание модели: 6585.078575768472\n",
      "CPU times: user 54.3 ms, sys: 40.7 ms, total: 95 ms\n",
      "Wall time: 44.8 ms\n"
     ]
    }
   ],
   "source": [
    "%%time\n",
    "start_time = timeit.default_timer()\n",
    "\n",
    "# Применяем метод линейной регрессии\n",
    "model = LinearRegression()\n",
    "\n",
    "# Обучим модель на тренировочной выборке\n",
    "model.fit(features_train, target_train) \n",
    "\n",
    "# Получим предсказания модели на валидационной выборке\n",
    "predictions_valid = model.predict(features_valid) \n",
    "\n",
    "# Посчитаем значение метрики RMSE на валидационной выборке\n",
    "result_RMSE = mean_squared_error(target_valid, predictions_valid) ** 0.5\n",
    "\n",
    "print('RMSE модели линейной регрессии на валидационной выборке:', result_RMSE)\n",
    "print('Предсказание модели:', predictions_valid.mean())\n",
    "\n",
    "\n",
    "elapsed = round(timeit.default_timer() - start_time, 3)\n",
    "\n",
    "# Зафиксируем результаты\n",
    "results['LinearRegression_OE_C'] = pd.Series({'RMSE': result_RMSE, 'Predictions valid': predictions_valid.mean(), 'TIME [s]': elapsed})"
   ]
  },
  {
   "cell_type": "markdown",
   "metadata": {},
   "source": [
    "##### DecisionTreeRegressor"
   ]
  },
  {
   "cell_type": "code",
   "execution_count": 324,
   "metadata": {},
   "outputs": [
    {
     "name": "stdout",
     "output_type": "stream",
     "text": [
      "----------------------------------------------------------------------------------------------------\n",
      "Глубина дерева: 1 ; RMSE модели: 3735.2837394165567 ; Предсказание модели: 6592.8567741947145\n",
      "Глубина дерева: 2 ; RMSE модели: 3362.1523822487875 ; Предсказание модели: 6594.316492622475\n",
      "Глубина дерева: 3 ; RMSE модели: 2953.0537326438875 ; Предсказание модели: 6593.044979051057\n",
      "Глубина дерева: 4 ; RMSE модели: 2750.056990667579 ; Предсказание модели: 6585.282178880711\n",
      "Глубина дерева: 5 ; RMSE модели: 2593.740129139329 ; Предсказание модели: 6592.49528910008\n",
      "Глубина дерева: 6 ; RMSE модели: 2484.7640658791133 ; Предсказание модели: 6593.161190273902\n",
      "Глубина дерева: 7 ; RMSE модели: 2384.901246467143 ; Предсказание модели: 6595.777118323793\n",
      "Глубина дерева: 8 ; RMSE модели: 2298.4710722197883 ; Предсказание модели: 6597.621349946619\n",
      "Глубина дерева: 9 ; RMSE модели: 2226.320113976484 ; Предсказание модели: 6596.170223179986\n",
      "Глубина дерева: 10 ; RMSE модели: 2174.586496245533 ; Предсказание модели: 6603.562007834898\n",
      "Глубина дерева: 11 ; RMSE модели: 2143.2316448369515 ; Предсказание модели: 6611.157422824696\n",
      "Глубина дерева: 12 ; RMSE модели: 2119.308578958802 ; Предсказание модели: 6616.495834977051\n",
      "Глубина дерева: 13 ; RMSE модели: 2113.5185088574713 ; Предсказание модели: 6615.123199508058\n",
      "Глубина дерева: 14 ; RMSE модели: 2118.2155593644325 ; Предсказание модели: 6623.705579407651\n",
      "Глубина дерева: 15 ; RMSE модели: 2133.598015437785 ; Предсказание модели: 6628.366777498413\n",
      "----------------------------------------------------------------------------------------------------\n",
      "\n",
      "RMSE наилучшей модели на валидационной выборке: 2113.5185088574713 Количество деревьев: 0 Глубина дерева: 13\n",
      "Лучшие среднее предсказание модели: 6615.123199508058\n",
      "CPU times: user 3.73 s, sys: 4.98 ms, total: 3.73 s\n",
      "Wall time: 3.75 s\n"
     ]
    }
   ],
   "source": [
    "%%time\n",
    "start_time = timeit.default_timer()\n",
    "\n",
    "best_RMSE = 100000\n",
    "best_est = 0\n",
    "best_depth = 0\n",
    "\n",
    "print('-'*100)\n",
    "for depth in range(1, 16):\n",
    "    # Применим модель DecisionTreeRegressor\n",
    "    model = DecisionTreeRegressor(random_state = 12345, max_depth = depth)\n",
    "\n",
    "    # Обучим модель на тренировочной выборке\n",
    "    model.fit(features_train, target_train) \n",
    "\n",
    "    # Получим предсказания модели на валидационной выборке\n",
    "    predictions_valid = model.predict(features_valid) \n",
    "\n",
    "    # Посчитаем значение метрики RMSE на валидационной выборке\n",
    "    result_RMSE = mean_squared_error(target_valid, predictions_valid) ** 0.5\n",
    "    print('Глубина дерева:', depth, '; RMSE модели:', result_RMSE, '; Предсказание модели:', predictions_valid.mean())\n",
    "\n",
    "    if result_RMSE < best_RMSE:\n",
    "        best_RMSE = result_RMSE\n",
    "        best_depth = depth\n",
    "        best_predictions = predictions_valid\n",
    "\n",
    "print('-'*100)\n",
    "print()\n",
    "print(\"RMSE наилучшей модели на валидационной выборке:\", best_RMSE, \"Количество деревьев:\", best_est, \"Глубина дерева:\", best_depth)\n",
    "print('Лучшие среднее предсказание модели:', best_predictions.mean())\n",
    "\n",
    "\n",
    "elapsed = round(timeit.default_timer() - start_time, 3)\n",
    "\n",
    "# Зафиксируем результаты\n",
    "results['DecisionTreeRegressor_OE_C'] = pd.Series({'RMSE': result_RMSE, 'Predictions valid': best_predictions.mean(), 'TIME [s]': elapsed})"
   ]
  },
  {
   "cell_type": "markdown",
   "metadata": {},
   "source": [
    "##### RandomForestRegressor"
   ]
  },
  {
   "cell_type": "code",
   "execution_count": 325,
   "metadata": {},
   "outputs": [
    {
     "name": "stdout",
     "output_type": "stream",
     "text": [
      "----------------------------------------------------------------------------------------------------\n",
      "Глубина дерева: 1 ; RMSE модели: 3735.3015693027373 ; Предсказание модели: 6590.236910369957\n",
      "Глубина дерева: 2 ; RMSE модели: 3329.7027588870806 ; Предсказание модели: 6593.991329476346\n",
      "Глубина дерева: 3 ; RMSE модели: 2932.9298201116108 ; Предсказание модели: 6590.528917775217\n",
      "Глубина дерева: 4 ; RMSE модели: 2699.5613692596985 ; Предсказание модели: 6586.492190525775\n",
      "Глубина дерева: 5 ; RMSE модели: 2540.613060438786 ; Предсказание модели: 6590.974769700939\n",
      "----------------------------------------------------------------------------------------------------\n",
      "\n",
      "RMSE наилучшей модели на валидационной выборке: 2540.613060438786 Количество деревьев: 10 Глубина дерева: 5\n",
      "Лучшие среднее предсказание модели: 6590.974769700939\n",
      "----------------------------------------------------------------------------------------------------\n",
      "Глубина дерева: 1 ; RMSE модели: 3735.3015693027373 ; Предсказание модели: 6590.236910369957\n",
      "Глубина дерева: 2 ; RMSE модели: 3329.7027588870806 ; Предсказание модели: 6593.991329476346\n",
      "Глубина дерева: 3 ; RMSE модели: 2932.9298201116108 ; Предсказание модели: 6590.528917775217\n",
      "Глубина дерева: 4 ; RMSE модели: 2699.5613692596985 ; Предсказание модели: 6586.492190525775\n",
      "Глубина дерева: 5 ; RMSE модели: 2540.613060438786 ; Предсказание модели: 6590.974769700939\n",
      "----------------------------------------------------------------------------------------------------\n",
      "\n",
      "RMSE наилучшей модели на валидационной выборке: 2540.613060438786 Количество деревьев: 10 Глубина дерева: 5\n",
      "Лучшие среднее предсказание модели: 6590.974769700939\n",
      "----------------------------------------------------------------------------------------------------\n",
      "Глубина дерева: 1 ; RMSE модели: 3735.3015693027373 ; Предсказание модели: 6590.236910369957\n",
      "Глубина дерева: 2 ; RMSE модели: 3329.7027588870806 ; Предсказание модели: 6593.991329476346\n",
      "Глубина дерева: 3 ; RMSE модели: 2932.9298201116108 ; Предсказание модели: 6590.528917775217\n",
      "Глубина дерева: 4 ; RMSE модели: 2699.5613692596985 ; Предсказание модели: 6586.492190525775\n",
      "Глубина дерева: 5 ; RMSE модели: 2540.613060438786 ; Предсказание модели: 6590.974769700939\n",
      "----------------------------------------------------------------------------------------------------\n",
      "\n",
      "RMSE наилучшей модели на валидационной выборке: 2540.613060438786 Количество деревьев: 10 Глубина дерева: 5\n",
      "Лучшие среднее предсказание модели: 6590.974769700939\n",
      "----------------------------------------------------------------------------------------------------\n",
      "Глубина дерева: 1 ; RMSE модели: 3735.3015693027373 ; Предсказание модели: 6590.236910369957\n",
      "Глубина дерева: 2 ; RMSE модели: 3329.7027588870806 ; Предсказание модели: 6593.991329476346\n",
      "Глубина дерева: 3 ; RMSE модели: 2932.9298201116108 ; Предсказание модели: 6590.528917775217\n",
      "Глубина дерева: 4 ; RMSE модели: 2699.5613692596985 ; Предсказание модели: 6586.492190525775\n",
      "Глубина дерева: 5 ; RMSE модели: 2540.613060438786 ; Предсказание модели: 6590.974769700939\n",
      "----------------------------------------------------------------------------------------------------\n",
      "\n",
      "RMSE наилучшей модели на валидационной выборке: 2540.613060438786 Количество деревьев: 10 Глубина дерева: 5\n",
      "Лучшие среднее предсказание модели: 6590.974769700939\n",
      "----------------------------------------------------------------------------------------------------\n",
      "Глубина дерева: 1 ; RMSE модели: 3735.3015693027373 ; Предсказание модели: 6590.236910369957\n",
      "Глубина дерева: 2 ; RMSE модели: 3329.7027588870806 ; Предсказание модели: 6593.991329476346\n",
      "Глубина дерева: 3 ; RMSE модели: 2932.9298201116108 ; Предсказание модели: 6590.528917775217\n",
      "Глубина дерева: 4 ; RMSE модели: 2699.5613692596985 ; Предсказание модели: 6586.492190525775\n",
      "Глубина дерева: 5 ; RMSE модели: 2540.613060438786 ; Предсказание модели: 6590.974769700939\n",
      "----------------------------------------------------------------------------------------------------\n",
      "\n",
      "RMSE наилучшей модели на валидационной выборке: 2540.613060438786 Количество деревьев: 10 Глубина дерева: 5\n",
      "Лучшие среднее предсказание модели: 6590.974769700939\n",
      "CPU times: user 32.9 s, sys: 78.4 ms, total: 33 s\n",
      "Wall time: 33.2 s\n"
     ]
    }
   ],
   "source": [
    "%%time\n",
    "start_time = timeit.default_timer()\n",
    "\n",
    "best_RMSE = 100000\n",
    "best_est = 0\n",
    "best_depth = 0\n",
    "    \n",
    "for est in range(10, 51, 10):\n",
    "    print('-'*100)\n",
    "    for depth in range(1, 6):\n",
    "        # Применяем метод случайного леса\n",
    "        model = RandomForestRegressor(n_estimators=20, max_depth=depth, random_state=12345)\n",
    "\n",
    "        # Обучим модель на тренировочной выборке\n",
    "        model.fit(features_train, target_train) \n",
    "\n",
    "        # Получим предсказания модели на валидационной выборке\n",
    "        predictions_valid = model.predict(features_valid) \n",
    "\n",
    "        # Посчитаем значение метрики RMSE на валидационной выборке\n",
    "        result_RMSE = mean_squared_error(target_valid, predictions_valid) ** 0.5\n",
    "        print('Глубина дерева:', depth, '; RMSE модели:', result_RMSE, '; Предсказание модели:', predictions_valid.mean())\n",
    "\n",
    "        if result_RMSE < best_RMSE:\n",
    "            best_RMSE = result_RMSE\n",
    "            best_est = est\n",
    "            best_depth = depth\n",
    "            best_predictions = predictions_valid\n",
    "            \n",
    "    print('-'*100)\n",
    "    print()\n",
    "    print(\"RMSE наилучшей модели на валидационной выборке:\", best_RMSE, \"Количество деревьев:\", best_est, \"Глубина дерева:\", best_depth)\n",
    "    print('Лучшие среднее предсказание модели:', best_predictions.mean())\n",
    "\n",
    "\n",
    "elapsed = round(timeit.default_timer() - start_time, 3)\n",
    "\n",
    "# Зафиксируем результаты\n",
    "results['RandomForestRegressor_OE_C'] = pd.Series({'RMSE': result_RMSE, 'Predictions valid': best_predictions.mean(), 'TIME [s]': elapsed})"
   ]
  },
  {
   "cell_type": "code",
   "execution_count": 326,
   "metadata": {
    "scrolled": true
   },
   "outputs": [
    {
     "data": {
      "text/html": [
       "<div>\n",
       "<style scoped>\n",
       "    .dataframe tbody tr th:only-of-type {\n",
       "        vertical-align: middle;\n",
       "    }\n",
       "\n",
       "    .dataframe tbody tr th {\n",
       "        vertical-align: top;\n",
       "    }\n",
       "\n",
       "    .dataframe thead th {\n",
       "        text-align: right;\n",
       "    }\n",
       "</style>\n",
       "<table border=\"1\" class=\"dataframe\">\n",
       "  <thead>\n",
       "    <tr style=\"text-align: right;\">\n",
       "      <th></th>\n",
       "      <th>RMSE</th>\n",
       "      <th>Predictions valid</th>\n",
       "      <th>TIME [s]</th>\n",
       "    </tr>\n",
       "  </thead>\n",
       "  <tbody>\n",
       "    <tr>\n",
       "      <th>LinearRegression_OHE</th>\n",
       "      <td>3248.209052</td>\n",
       "      <td>4413.415621</td>\n",
       "      <td>47.555</td>\n",
       "    </tr>\n",
       "    <tr>\n",
       "      <th>DecisionTreeRegressor_OHE</th>\n",
       "      <td>2069.112295</td>\n",
       "      <td>4421.621553</td>\n",
       "      <td>43.848</td>\n",
       "    </tr>\n",
       "    <tr>\n",
       "      <th>RandomForestRegressor_OHE</th>\n",
       "      <td>2492.458075</td>\n",
       "      <td>4421.732718</td>\n",
       "      <td>350.532</td>\n",
       "    </tr>\n",
       "    <tr>\n",
       "      <th>LinearRegression_OE</th>\n",
       "      <td>3016.393102</td>\n",
       "      <td>6585.078576</td>\n",
       "      <td>0.035</td>\n",
       "    </tr>\n",
       "    <tr>\n",
       "      <th>DecisionTreeRegressor_OE</th>\n",
       "      <td>2134.082467</td>\n",
       "      <td>6615.548753</td>\n",
       "      <td>4.055</td>\n",
       "    </tr>\n",
       "    <tr>\n",
       "      <th>RandomForestRegressor_OE</th>\n",
       "      <td>2540.604685</td>\n",
       "      <td>6590.950989</td>\n",
       "      <td>34.796</td>\n",
       "    </tr>\n",
       "    <tr>\n",
       "      <th>LinearRegression_OHE_C</th>\n",
       "      <td>3248.209052</td>\n",
       "      <td>4413.415621</td>\n",
       "      <td>15.486</td>\n",
       "    </tr>\n",
       "    <tr>\n",
       "      <th>DecisionTreeRegressor_OHE_C</th>\n",
       "      <td>2067.991327</td>\n",
       "      <td>4422.070354</td>\n",
       "      <td>41.933</td>\n",
       "    </tr>\n",
       "    <tr>\n",
       "      <th>RandomForestRegressor_OHE_C</th>\n",
       "      <td>2492.456417</td>\n",
       "      <td>4421.734403</td>\n",
       "      <td>324.071</td>\n",
       "    </tr>\n",
       "    <tr>\n",
       "      <th>LinearRegression_OE_C</th>\n",
       "      <td>3016.393102</td>\n",
       "      <td>6585.078576</td>\n",
       "      <td>0.036</td>\n",
       "    </tr>\n",
       "    <tr>\n",
       "      <th>DecisionTreeRegressor_OE_C</th>\n",
       "      <td>2133.598015</td>\n",
       "      <td>6615.123200</td>\n",
       "      <td>3.750</td>\n",
       "    </tr>\n",
       "    <tr>\n",
       "      <th>RandomForestRegressor_OE_C</th>\n",
       "      <td>2540.613060</td>\n",
       "      <td>6590.974770</td>\n",
       "      <td>33.208</td>\n",
       "    </tr>\n",
       "  </tbody>\n",
       "</table>\n",
       "</div>"
      ],
      "text/plain": [
       "                                    RMSE  Predictions valid  TIME [s]\n",
       "LinearRegression_OHE         3248.209052        4413.415621    47.555\n",
       "DecisionTreeRegressor_OHE    2069.112295        4421.621553    43.848\n",
       "RandomForestRegressor_OHE    2492.458075        4421.732718   350.532\n",
       "LinearRegression_OE          3016.393102        6585.078576     0.035\n",
       "DecisionTreeRegressor_OE     2134.082467        6615.548753     4.055\n",
       "RandomForestRegressor_OE     2540.604685        6590.950989    34.796\n",
       "LinearRegression_OHE_C       3248.209052        4413.415621    15.486\n",
       "DecisionTreeRegressor_OHE_C  2067.991327        4422.070354    41.933\n",
       "RandomForestRegressor_OHE_C  2492.456417        4421.734403   324.071\n",
       "LinearRegression_OE_C        3016.393102        6585.078576     0.036\n",
       "DecisionTreeRegressor_OE_C   2133.598015        6615.123200     3.750\n",
       "RandomForestRegressor_OE_C   2540.613060        6590.974770    33.208"
      ]
     },
     "execution_count": 326,
     "metadata": {},
     "output_type": "execute_result"
    }
   ],
   "source": [
    "pd.DataFrame(results).T"
   ]
  },
  {
   "cell_type": "markdown",
   "metadata": {},
   "source": [
    "## Анализ моделей"
   ]
  },
  {
   "cell_type": "code",
   "execution_count": null,
   "metadata": {},
   "outputs": [],
   "source": []
  },
  {
   "cell_type": "markdown",
   "metadata": {},
   "source": [
    "## Чек-лист проверки"
   ]
  },
  {
   "cell_type": "markdown",
   "metadata": {},
   "source": [
    "Поставьте 'x' в выполненных пунктах. Далее нажмите Shift+Enter."
   ]
  },
  {
   "cell_type": "markdown",
   "metadata": {},
   "source": [
    "- [x]  Jupyter Notebook открыт\n",
    "- [ ]  Весь код выполняется без ошибок\n",
    "- [ ]  Ячейки с кодом расположены в порядке исполнения\n",
    "- [ ]  Выполнена загрузка и подготовка данных\n",
    "- [ ]  Выполнено обучение моделей\n",
    "- [ ]  Есть анализ скорости работы и качества моделей"
   ]
  },
  {
   "cell_type": "code",
   "execution_count": null,
   "metadata": {},
   "outputs": [],
   "source": []
  }
 ],
 "metadata": {
  "ExecuteTimeLog": [
   {
    "duration": 460,
    "start_time": "2023-03-14T17:13:35.764Z"
   },
   {
    "duration": 3,
    "start_time": "2023-03-14T17:13:42.868Z"
   },
   {
    "duration": 1284,
    "start_time": "2023-03-14T17:14:46.591Z"
   },
   {
    "duration": 1196,
    "start_time": "2023-03-14T17:15:00.256Z"
   },
   {
    "duration": 28,
    "start_time": "2023-03-14T17:18:00.473Z"
   },
   {
    "duration": 106,
    "start_time": "2023-03-14T17:18:07.393Z"
   },
   {
    "duration": 13,
    "start_time": "2023-03-14T17:18:10.414Z"
   },
   {
    "duration": 99,
    "start_time": "2023-03-14T17:18:12.897Z"
   },
   {
    "duration": 15,
    "start_time": "2023-03-14T17:18:47.563Z"
   },
   {
    "duration": 2940,
    "start_time": "2023-03-14T17:22:50.259Z"
   },
   {
    "duration": 100,
    "start_time": "2023-03-14T17:23:00.648Z"
   },
   {
    "duration": 2401,
    "start_time": "2023-03-14T17:23:05.391Z"
   },
   {
    "duration": 572,
    "start_time": "2023-03-14T17:23:14.015Z"
   },
   {
    "duration": 658,
    "start_time": "2023-03-14T17:23:49.172Z"
   },
   {
    "duration": 561,
    "start_time": "2023-03-14T17:23:58.672Z"
   },
   {
    "duration": 497,
    "start_time": "2023-03-14T17:24:19.891Z"
   },
   {
    "duration": 10,
    "start_time": "2023-03-14T17:24:36.172Z"
   },
   {
    "duration": 945,
    "start_time": "2023-03-14T17:24:50.009Z"
   },
   {
    "duration": 816,
    "start_time": "2023-03-14T17:24:53.817Z"
   },
   {
    "duration": 583,
    "start_time": "2023-03-14T17:25:02.692Z"
   },
   {
    "duration": 588,
    "start_time": "2023-03-14T17:25:05.495Z"
   },
   {
    "duration": 604,
    "start_time": "2023-03-14T17:25:09.801Z"
   },
   {
    "duration": 636,
    "start_time": "2023-03-14T17:25:18.698Z"
   },
   {
    "duration": 610,
    "start_time": "2023-03-14T17:25:23.329Z"
   },
   {
    "duration": 352,
    "start_time": "2023-03-14T17:25:52.758Z"
   },
   {
    "duration": 221,
    "start_time": "2023-03-14T17:26:30.992Z"
   },
   {
    "duration": 630,
    "start_time": "2023-03-14T17:26:34.323Z"
   },
   {
    "duration": 1081,
    "start_time": "2023-03-14T17:26:38.952Z"
   },
   {
    "duration": 629,
    "start_time": "2023-03-14T17:26:43.395Z"
   },
   {
    "duration": 210,
    "start_time": "2023-03-14T17:28:15.608Z"
   },
   {
    "duration": 230,
    "start_time": "2023-03-14T17:28:44.118Z"
   },
   {
    "duration": 223,
    "start_time": "2023-03-14T17:28:51.388Z"
   },
   {
    "duration": 222,
    "start_time": "2023-03-14T17:28:54.029Z"
   },
   {
    "duration": 390,
    "start_time": "2023-03-14T17:28:56.344Z"
   },
   {
    "duration": 570,
    "start_time": "2023-03-14T17:29:00.509Z"
   },
   {
    "duration": 391,
    "start_time": "2023-03-14T17:29:02.407Z"
   },
   {
    "duration": 377,
    "start_time": "2023-03-14T17:29:06.304Z"
   },
   {
    "duration": 383,
    "start_time": "2023-03-14T17:29:14.392Z"
   },
   {
    "duration": 214,
    "start_time": "2023-03-14T17:29:17.112Z"
   },
   {
    "duration": 203,
    "start_time": "2023-03-14T17:29:20.092Z"
   },
   {
    "duration": 221,
    "start_time": "2023-03-14T17:29:27.533Z"
   },
   {
    "duration": 253,
    "start_time": "2023-03-14T17:29:39.668Z"
   },
   {
    "duration": 404,
    "start_time": "2023-03-14T17:30:12.564Z"
   },
   {
    "duration": 276,
    "start_time": "2023-03-14T17:30:20.572Z"
   },
   {
    "duration": 280,
    "start_time": "2023-03-14T17:30:24.046Z"
   },
   {
    "duration": 261,
    "start_time": "2023-03-14T17:31:03.608Z"
   },
   {
    "duration": 107,
    "start_time": "2023-03-14T17:31:34.896Z"
   },
   {
    "duration": 1225,
    "start_time": "2023-03-14T17:31:44.896Z"
   },
   {
    "duration": 92,
    "start_time": "2023-03-14T17:31:48.168Z"
   },
   {
    "duration": 93,
    "start_time": "2023-03-14T17:31:52.599Z"
   },
   {
    "duration": 91,
    "start_time": "2023-03-14T17:31:58.033Z"
   },
   {
    "duration": 91,
    "start_time": "2023-03-14T17:32:34.452Z"
   },
   {
    "duration": 66,
    "start_time": "2023-03-14T17:33:07.194Z"
   },
   {
    "duration": 24,
    "start_time": "2023-03-14T17:33:09.634Z"
   },
   {
    "duration": 109,
    "start_time": "2023-03-14T17:33:16.285Z"
   },
   {
    "duration": 218,
    "start_time": "2023-03-14T17:35:04.400Z"
   },
   {
    "duration": 102,
    "start_time": "2023-03-14T17:35:05.436Z"
   },
   {
    "duration": 105,
    "start_time": "2023-03-14T17:35:23.465Z"
   },
   {
    "duration": 185,
    "start_time": "2023-03-14T17:35:42.605Z"
   },
   {
    "duration": 100,
    "start_time": "2023-03-14T17:35:43.756Z"
   },
   {
    "duration": 102,
    "start_time": "2023-03-14T17:35:48.615Z"
   },
   {
    "duration": 99,
    "start_time": "2023-03-14T17:35:58.190Z"
   },
   {
    "duration": 93,
    "start_time": "2023-03-14T17:36:03.491Z"
   },
   {
    "duration": 92,
    "start_time": "2023-03-14T17:36:07.976Z"
   },
   {
    "duration": 721,
    "start_time": "2023-03-14T17:36:47.492Z"
   },
   {
    "duration": 179,
    "start_time": "2023-03-14T17:36:54.492Z"
   },
   {
    "duration": 255,
    "start_time": "2023-03-14T17:37:05.076Z"
   },
   {
    "duration": 98,
    "start_time": "2023-03-14T17:37:06.000Z"
   },
   {
    "duration": 249,
    "start_time": "2023-03-14T17:40:55.592Z"
   },
   {
    "duration": 265,
    "start_time": "2023-03-14T17:40:57.099Z"
   },
   {
    "duration": 240,
    "start_time": "2023-03-14T17:42:43.561Z"
   },
   {
    "duration": 96,
    "start_time": "2023-03-14T17:43:10.792Z"
   },
   {
    "duration": 219,
    "start_time": "2023-03-14T17:43:32.904Z"
   },
   {
    "duration": 93,
    "start_time": "2023-03-14T17:43:34.424Z"
   },
   {
    "duration": 173,
    "start_time": "2023-03-14T17:43:44.895Z"
   },
   {
    "duration": 213,
    "start_time": "2023-03-14T17:44:01.401Z"
   },
   {
    "duration": 72,
    "start_time": "2023-03-14T17:44:06.295Z"
   },
   {
    "duration": 181,
    "start_time": "2023-03-14T17:44:30.874Z"
   },
   {
    "duration": 184,
    "start_time": "2023-03-14T17:44:48.968Z"
   },
   {
    "duration": 177,
    "start_time": "2023-03-14T17:44:56.973Z"
   },
   {
    "duration": 178,
    "start_time": "2023-03-14T17:45:08.214Z"
   },
   {
    "duration": 218,
    "start_time": "2023-03-14T17:45:17.375Z"
   },
   {
    "duration": 72,
    "start_time": "2023-03-14T17:45:18.997Z"
   },
   {
    "duration": 73,
    "start_time": "2023-03-14T17:45:31.292Z"
   },
   {
    "duration": 33,
    "start_time": "2023-03-14T17:47:14.908Z"
   },
   {
    "duration": 76,
    "start_time": "2023-03-14T17:47:16.564Z"
   },
   {
    "duration": 156,
    "start_time": "2023-03-14T17:47:39.364Z"
   },
   {
    "duration": 64,
    "start_time": "2023-03-14T17:47:42.078Z"
   },
   {
    "duration": 397,
    "start_time": "2023-03-14T17:48:19.993Z"
   },
   {
    "duration": 431,
    "start_time": "2023-03-14T17:48:23.969Z"
   },
   {
    "duration": 410,
    "start_time": "2023-03-14T17:48:27.798Z"
   },
   {
    "duration": 393,
    "start_time": "2023-03-14T17:48:35.793Z"
   },
   {
    "duration": 561,
    "start_time": "2023-03-14T17:49:17.868Z"
   },
   {
    "duration": 67,
    "start_time": "2023-03-14T17:52:35.796Z"
   },
   {
    "duration": 279,
    "start_time": "2023-03-14T17:52:40.821Z"
   },
   {
    "duration": 100,
    "start_time": "2023-03-14T17:52:42.416Z"
   },
   {
    "duration": 412,
    "start_time": "2023-03-14T17:52:46.403Z"
   },
   {
    "duration": 422,
    "start_time": "2023-03-14T17:53:00.905Z"
   },
   {
    "duration": 149,
    "start_time": "2023-03-14T17:53:01.897Z"
   },
   {
    "duration": 65,
    "start_time": "2023-03-14T17:53:03.223Z"
   },
   {
    "duration": 299,
    "start_time": "2023-03-14T17:53:20.471Z"
   },
   {
    "duration": 354,
    "start_time": "2023-03-14T17:53:21.468Z"
   },
   {
    "duration": 153,
    "start_time": "2023-03-14T17:53:22.228Z"
   },
   {
    "duration": 67,
    "start_time": "2023-03-14T17:53:22.919Z"
   },
   {
    "duration": 426,
    "start_time": "2023-03-14T17:53:23.991Z"
   },
   {
    "duration": 410,
    "start_time": "2023-03-14T17:54:06.375Z"
   },
   {
    "duration": 81,
    "start_time": "2023-03-14T17:54:44.814Z"
   },
   {
    "duration": 94,
    "start_time": "2023-03-14T17:56:37.821Z"
   },
   {
    "duration": 61,
    "start_time": "2023-03-14T17:56:41.471Z"
   },
   {
    "duration": 4,
    "start_time": "2023-03-14T17:58:13.302Z"
   },
   {
    "duration": 62,
    "start_time": "2023-03-14T18:00:23.047Z"
   },
   {
    "duration": 4,
    "start_time": "2023-03-14T18:01:06.697Z"
   },
   {
    "duration": 5,
    "start_time": "2023-03-14T18:01:10.300Z"
   },
   {
    "duration": 18,
    "start_time": "2023-03-14T18:06:28.375Z"
   },
   {
    "duration": 27,
    "start_time": "2023-03-14T18:06:38.918Z"
   },
   {
    "duration": 84,
    "start_time": "2023-03-14T18:06:43.195Z"
   },
   {
    "duration": 26,
    "start_time": "2023-03-14T18:06:50.830Z"
   },
   {
    "duration": 82,
    "start_time": "2023-03-14T18:06:52.416Z"
   },
   {
    "duration": 17,
    "start_time": "2023-03-14T18:06:59.296Z"
   },
   {
    "duration": 12,
    "start_time": "2023-03-14T18:07:37.197Z"
   },
   {
    "duration": 83,
    "start_time": "2023-03-14T18:07:38.696Z"
   },
   {
    "duration": 3,
    "start_time": "2023-03-14T18:07:56.601Z"
   },
   {
    "duration": 15,
    "start_time": "2023-03-14T18:08:34.351Z"
   },
   {
    "duration": 15,
    "start_time": "2023-03-14T18:08:38.573Z"
   },
   {
    "duration": 44,
    "start_time": "2023-03-14T18:08:50.577Z"
   },
   {
    "duration": 25,
    "start_time": "2023-03-14T18:08:52.419Z"
   },
   {
    "duration": 113,
    "start_time": "2023-03-14T18:09:00.467Z"
   },
   {
    "duration": 189,
    "start_time": "2023-03-14T18:09:56.891Z"
   },
   {
    "duration": 85,
    "start_time": "2023-03-14T18:10:00.363Z"
   },
   {
    "duration": 4,
    "start_time": "2023-03-14T18:10:05.323Z"
   },
   {
    "duration": 73,
    "start_time": "2023-03-14T18:10:40.270Z"
   },
   {
    "duration": 139,
    "start_time": "2023-03-14T18:12:43.621Z"
   },
   {
    "duration": 64,
    "start_time": "2023-03-14T18:13:58.629Z"
   },
   {
    "duration": 18,
    "start_time": "2023-03-14T18:31:16.966Z"
   },
   {
    "duration": 24,
    "start_time": "2023-03-14T18:32:51.870Z"
   },
   {
    "duration": 77,
    "start_time": "2023-03-14T18:32:58.418Z"
   },
   {
    "duration": 6,
    "start_time": "2023-03-14T18:33:04.816Z"
   },
   {
    "duration": 69,
    "start_time": "2023-03-14T18:53:06.139Z"
   },
   {
    "duration": 133,
    "start_time": "2023-03-14T18:58:58.132Z"
   },
   {
    "duration": 78,
    "start_time": "2023-03-14T18:59:18.345Z"
   },
   {
    "duration": 414,
    "start_time": "2023-03-14T19:00:31.022Z"
   },
   {
    "duration": 120,
    "start_time": "2023-03-14T19:00:44.507Z"
   },
   {
    "duration": 21,
    "start_time": "2023-03-14T19:01:03.094Z"
   },
   {
    "duration": 5,
    "start_time": "2023-03-14T19:01:13.620Z"
   },
   {
    "duration": 5,
    "start_time": "2023-03-14T19:01:17.695Z"
   },
   {
    "duration": 10,
    "start_time": "2023-03-14T19:01:20.628Z"
   },
   {
    "duration": 20,
    "start_time": "2023-03-14T19:01:23.792Z"
   },
   {
    "duration": 22,
    "start_time": "2023-03-14T19:01:26.230Z"
   },
   {
    "duration": 11,
    "start_time": "2023-03-14T19:02:30.621Z"
   },
   {
    "duration": 45,
    "start_time": "2023-03-14T19:02:31.523Z"
   },
   {
    "duration": 19,
    "start_time": "2023-03-14T19:02:32.211Z"
   },
   {
    "duration": 96,
    "start_time": "2023-03-14T19:02:37.409Z"
   },
   {
    "duration": 48,
    "start_time": "2023-03-14T19:05:08.120Z"
   },
   {
    "duration": 51,
    "start_time": "2023-03-20T19:23:37.028Z"
   },
   {
    "duration": 1734,
    "start_time": "2023-03-20T19:23:39.775Z"
   },
   {
    "duration": 3043,
    "start_time": "2023-03-20T19:23:41.511Z"
   },
   {
    "duration": 135,
    "start_time": "2023-03-20T19:23:44.556Z"
   },
   {
    "duration": 15,
    "start_time": "2023-03-20T19:23:44.693Z"
   },
   {
    "duration": 111,
    "start_time": "2023-03-20T19:23:44.711Z"
   },
   {
    "duration": 407,
    "start_time": "2023-03-20T19:23:44.824Z"
   },
   {
    "duration": 286,
    "start_time": "2023-03-20T19:23:45.232Z"
   },
   {
    "duration": 330,
    "start_time": "2023-03-20T19:23:45.520Z"
   },
   {
    "duration": 144,
    "start_time": "2023-03-20T19:23:45.851Z"
   },
   {
    "duration": 60,
    "start_time": "2023-03-20T19:23:45.996Z"
   },
   {
    "duration": 409,
    "start_time": "2023-03-20T19:23:46.058Z"
   },
   {
    "duration": 84,
    "start_time": "2023-03-20T19:23:46.468Z"
   },
   {
    "duration": 3,
    "start_time": "2023-03-20T19:23:46.554Z"
   },
   {
    "duration": 184,
    "start_time": "2023-03-20T19:23:46.559Z"
   },
   {
    "duration": 75,
    "start_time": "2023-03-20T19:23:46.745Z"
   },
   {
    "duration": 79,
    "start_time": "2023-03-20T19:23:46.821Z"
   },
   {
    "duration": 18,
    "start_time": "2023-03-20T19:28:28.150Z"
   },
   {
    "duration": 68,
    "start_time": "2023-03-20T19:28:29.562Z"
   },
   {
    "duration": 219,
    "start_time": "2023-03-20T19:28:31.884Z"
   },
   {
    "duration": 47,
    "start_time": "2023-03-21T17:13:45.903Z"
   },
   {
    "duration": 1704,
    "start_time": "2023-03-21T17:13:48.900Z"
   },
   {
    "duration": 3165,
    "start_time": "2023-03-21T17:13:50.606Z"
   },
   {
    "duration": 109,
    "start_time": "2023-03-21T17:13:53.773Z"
   },
   {
    "duration": 16,
    "start_time": "2023-03-21T17:13:53.884Z"
   },
   {
    "duration": 131,
    "start_time": "2023-03-21T17:13:53.902Z"
   },
   {
    "duration": 389,
    "start_time": "2023-03-21T17:13:54.035Z"
   },
   {
    "duration": 257,
    "start_time": "2023-03-21T17:13:54.426Z"
   },
   {
    "duration": 347,
    "start_time": "2023-03-21T17:13:54.685Z"
   },
   {
    "duration": 141,
    "start_time": "2023-03-21T17:13:55.033Z"
   },
   {
    "duration": 66,
    "start_time": "2023-03-21T17:13:55.176Z"
   },
   {
    "duration": 345,
    "start_time": "2023-03-21T17:13:55.244Z"
   },
   {
    "duration": 66,
    "start_time": "2023-03-21T17:13:55.591Z"
   },
   {
    "duration": 3,
    "start_time": "2023-03-21T17:13:55.659Z"
   },
   {
    "duration": 158,
    "start_time": "2023-03-21T17:13:55.665Z"
   },
   {
    "duration": 56,
    "start_time": "2023-03-21T17:13:55.825Z"
   },
   {
    "duration": 68,
    "start_time": "2023-03-21T17:13:55.883Z"
   },
   {
    "duration": 15,
    "start_time": "2023-03-21T17:14:01.487Z"
   },
   {
    "duration": 5,
    "start_time": "2023-03-21T17:14:25.920Z"
   },
   {
    "duration": 13,
    "start_time": "2023-03-21T17:14:38.787Z"
   },
   {
    "duration": 39,
    "start_time": "2023-03-21T17:15:45.969Z"
   },
   {
    "duration": 12,
    "start_time": "2023-03-21T17:15:50.899Z"
   },
   {
    "duration": 13,
    "start_time": "2023-03-21T17:15:56.520Z"
   },
   {
    "duration": 6,
    "start_time": "2023-03-21T17:15:59.144Z"
   },
   {
    "duration": 21,
    "start_time": "2023-03-21T17:16:00.240Z"
   },
   {
    "duration": 67,
    "start_time": "2023-03-21T17:16:00.859Z"
   },
   {
    "duration": 249,
    "start_time": "2023-03-21T17:16:01.603Z"
   },
   {
    "duration": 4,
    "start_time": "2023-03-21T17:16:26.291Z"
   },
   {
    "duration": 63,
    "start_time": "2023-03-21T17:19:24.042Z"
   },
   {
    "duration": 98,
    "start_time": "2023-03-21T17:19:31.228Z"
   },
   {
    "duration": 31,
    "start_time": "2023-03-21T17:19:44.938Z"
   },
   {
    "duration": 15,
    "start_time": "2023-03-21T17:19:55.624Z"
   },
   {
    "duration": 54,
    "start_time": "2023-03-21T17:20:22.212Z"
   },
   {
    "duration": 86,
    "start_time": "2023-03-21T17:20:34.046Z"
   },
   {
    "duration": 19,
    "start_time": "2023-03-21T17:20:34.899Z"
   },
   {
    "duration": 56,
    "start_time": "2023-03-21T17:20:40.508Z"
   },
   {
    "duration": 3,
    "start_time": "2023-03-21T17:42:51.198Z"
   },
   {
    "duration": 4,
    "start_time": "2023-03-21T17:43:03.249Z"
   },
   {
    "duration": 18,
    "start_time": "2023-03-21T17:43:06.598Z"
   },
   {
    "duration": 34,
    "start_time": "2023-03-21T17:43:07.547Z"
   },
   {
    "duration": 1053,
    "start_time": "2023-03-21T17:43:08.609Z"
   },
   {
    "duration": 18,
    "start_time": "2023-03-21T17:45:10.293Z"
   },
   {
    "duration": 5,
    "start_time": "2023-03-21T17:45:13.442Z"
   },
   {
    "duration": 25,
    "start_time": "2023-03-21T17:45:23.798Z"
   },
   {
    "duration": 25,
    "start_time": "2023-03-21T17:45:40.724Z"
   },
   {
    "duration": 10,
    "start_time": "2023-03-21T17:45:55.910Z"
   },
   {
    "duration": 25,
    "start_time": "2023-03-21T17:45:57.927Z"
   },
   {
    "duration": 3,
    "start_time": "2023-03-21T17:46:18.384Z"
   },
   {
    "duration": 9,
    "start_time": "2023-03-21T17:46:20.011Z"
   },
   {
    "duration": 19,
    "start_time": "2023-03-21T17:46:20.649Z"
   },
   {
    "duration": 10,
    "start_time": "2023-03-21T17:46:50.995Z"
   },
   {
    "duration": 1113,
    "start_time": "2023-03-21T17:47:43.813Z"
   },
   {
    "duration": 9,
    "start_time": "2023-03-21T17:47:51.404Z"
   },
   {
    "duration": 7,
    "start_time": "2023-03-21T17:48:08.268Z"
   },
   {
    "duration": 10,
    "start_time": "2023-03-21T17:48:09.798Z"
   },
   {
    "duration": 23,
    "start_time": "2023-03-21T17:48:18.901Z"
   },
   {
    "duration": 105,
    "start_time": "2023-03-21T17:48:19.866Z"
   },
   {
    "duration": 39,
    "start_time": "2023-03-21T18:06:26.981Z"
   },
   {
    "duration": 6,
    "start_time": "2023-03-21T18:06:34.430Z"
   },
   {
    "duration": 14,
    "start_time": "2023-03-21T18:06:35.494Z"
   },
   {
    "duration": 20,
    "start_time": "2023-03-21T18:07:01.435Z"
   },
   {
    "duration": 136,
    "start_time": "2023-03-21T18:07:02.417Z"
   },
   {
    "duration": 280,
    "start_time": "2023-03-21T18:07:48.137Z"
   },
   {
    "duration": 55,
    "start_time": "2023-03-21T18:07:52.223Z"
   },
   {
    "duration": 104,
    "start_time": "2023-03-21T18:08:15.384Z"
   },
   {
    "duration": 35,
    "start_time": "2023-03-21T18:08:16.443Z"
   },
   {
    "duration": 117,
    "start_time": "2023-03-21T18:08:20.234Z"
   },
   {
    "duration": 3,
    "start_time": "2023-03-21T18:29:39.600Z"
   },
   {
    "duration": 7,
    "start_time": "2023-03-21T18:29:53.115Z"
   },
   {
    "duration": 5,
    "start_time": "2023-03-21T18:30:01.628Z"
   },
   {
    "duration": 4,
    "start_time": "2023-03-21T18:30:36.834Z"
   },
   {
    "duration": 4,
    "start_time": "2023-03-21T18:30:41.537Z"
   },
   {
    "duration": 7,
    "start_time": "2023-03-21T18:30:44.417Z"
   },
   {
    "duration": 6,
    "start_time": "2023-03-21T18:31:18.204Z"
   },
   {
    "duration": 5,
    "start_time": "2023-03-21T18:31:25.499Z"
   },
   {
    "duration": 8,
    "start_time": "2023-03-21T18:32:01.640Z"
   },
   {
    "duration": 11,
    "start_time": "2023-03-21T18:32:18.745Z"
   },
   {
    "duration": 5,
    "start_time": "2023-03-21T18:32:25.820Z"
   },
   {
    "duration": 7,
    "start_time": "2023-03-21T18:32:28.429Z"
   },
   {
    "duration": 5,
    "start_time": "2023-03-21T18:32:36.093Z"
   },
   {
    "duration": 6,
    "start_time": "2023-03-21T18:33:22.043Z"
   },
   {
    "duration": 7,
    "start_time": "2023-03-21T18:33:33.576Z"
   },
   {
    "duration": 8,
    "start_time": "2023-03-21T18:33:40.343Z"
   },
   {
    "duration": 10,
    "start_time": "2023-03-21T18:36:12.628Z"
   },
   {
    "duration": 10,
    "start_time": "2023-03-21T18:36:22.676Z"
   },
   {
    "duration": 5,
    "start_time": "2023-03-21T18:37:18.278Z"
   },
   {
    "duration": 8,
    "start_time": "2023-03-21T18:37:20.555Z"
   },
   {
    "duration": 499,
    "start_time": "2023-03-21T18:37:24.394Z"
   },
   {
    "duration": 8,
    "start_time": "2023-03-21T18:37:59.771Z"
   },
   {
    "duration": 13,
    "start_time": "2023-03-21T18:38:02.701Z"
   },
   {
    "duration": 230,
    "start_time": "2023-03-21T18:38:06.900Z"
   },
   {
    "duration": 15,
    "start_time": "2023-03-21T18:38:10.883Z"
   },
   {
    "duration": 229,
    "start_time": "2023-03-21T18:40:33.182Z"
   },
   {
    "duration": 15,
    "start_time": "2023-03-21T18:40:36.110Z"
   },
   {
    "duration": 7,
    "start_time": "2023-03-21T18:42:02.856Z"
   },
   {
    "duration": 235,
    "start_time": "2023-03-21T18:42:08.304Z"
   },
   {
    "duration": 11,
    "start_time": "2023-03-21T18:43:39.025Z"
   },
   {
    "duration": 11,
    "start_time": "2023-03-21T18:43:42.233Z"
   },
   {
    "duration": 6,
    "start_time": "2023-03-21T18:44:03.608Z"
   },
   {
    "duration": 13,
    "start_time": "2023-03-21T18:44:18.873Z"
   },
   {
    "duration": 14,
    "start_time": "2023-03-21T18:44:26.891Z"
   },
   {
    "duration": 6,
    "start_time": "2023-03-21T18:44:40.600Z"
   },
   {
    "duration": 7,
    "start_time": "2023-03-21T18:46:14.655Z"
   },
   {
    "duration": 10,
    "start_time": "2023-03-21T18:46:47.304Z"
   },
   {
    "duration": 17,
    "start_time": "2023-03-21T18:46:48.242Z"
   },
   {
    "duration": 14,
    "start_time": "2023-03-21T18:51:17.825Z"
   },
   {
    "duration": 25,
    "start_time": "2023-03-21T18:51:19.257Z"
   },
   {
    "duration": 27,
    "start_time": "2023-03-21T18:52:13.419Z"
   },
   {
    "duration": 32,
    "start_time": "2023-03-21T18:53:25.519Z"
   },
   {
    "duration": 25,
    "start_time": "2023-03-21T18:53:28.864Z"
   },
   {
    "duration": 25,
    "start_time": "2023-03-21T18:54:21.195Z"
   },
   {
    "duration": 16,
    "start_time": "2023-03-21T18:54:35.623Z"
   },
   {
    "duration": 15,
    "start_time": "2023-03-21T18:54:44.423Z"
   },
   {
    "duration": 10,
    "start_time": "2023-03-21T18:55:03.793Z"
   },
   {
    "duration": 23,
    "start_time": "2023-03-21T18:55:06.023Z"
   },
   {
    "duration": 6,
    "start_time": "2023-03-21T18:55:08.326Z"
   },
   {
    "duration": 40,
    "start_time": "2023-03-21T18:55:10.645Z"
   },
   {
    "duration": 169,
    "start_time": "2023-03-21T18:55:11.317Z"
   },
   {
    "duration": 11,
    "start_time": "2023-03-21T18:55:33.584Z"
   },
   {
    "duration": 43,
    "start_time": "2023-03-21T18:55:34.423Z"
   },
   {
    "duration": 209,
    "start_time": "2023-03-21T18:55:35.215Z"
   },
   {
    "duration": 432,
    "start_time": "2023-03-21T18:55:45.903Z"
   },
   {
    "duration": 424,
    "start_time": "2023-03-21T18:55:52.721Z"
   },
   {
    "duration": 77,
    "start_time": "2023-03-21T18:56:56.251Z"
   },
   {
    "duration": 67,
    "start_time": "2023-03-21T18:57:00.263Z"
   },
   {
    "duration": 230,
    "start_time": "2023-03-21T18:58:57.694Z"
   },
   {
    "duration": 207,
    "start_time": "2023-03-21T18:59:01.220Z"
   },
   {
    "duration": 2,
    "start_time": "2023-03-21T19:00:51.604Z"
   },
   {
    "duration": 3,
    "start_time": "2023-03-21T19:02:27.024Z"
   },
   {
    "duration": 4,
    "start_time": "2023-03-21T19:02:29.367Z"
   },
   {
    "duration": 91,
    "start_time": "2023-03-21T19:02:51.135Z"
   },
   {
    "duration": 4,
    "start_time": "2023-03-21T19:02:56.527Z"
   },
   {
    "duration": 119,
    "start_time": "2023-03-21T19:03:32.114Z"
   },
   {
    "duration": 4,
    "start_time": "2023-03-21T19:03:33.253Z"
   },
   {
    "duration": 181,
    "start_time": "2023-03-21T19:03:47.544Z"
   },
   {
    "duration": 485,
    "start_time": "2023-03-21T20:01:02.695Z"
   },
   {
    "duration": 12366,
    "start_time": "2023-03-21T20:01:45.640Z"
   },
   {
    "duration": 474,
    "start_time": "2023-03-21T20:03:24.890Z"
   },
   {
    "duration": 6120,
    "start_time": "2023-03-21T20:03:36.053Z"
   },
   {
    "duration": 6020,
    "start_time": "2023-03-21T20:03:52.726Z"
   },
   {
    "duration": 12198,
    "start_time": "2023-03-21T20:05:24.421Z"
   },
   {
    "duration": 4,
    "start_time": "2023-03-21T20:07:50.161Z"
   },
   {
    "duration": 53,
    "start_time": "2023-03-21T20:08:02.517Z"
   },
   {
    "duration": 51,
    "start_time": "2023-03-21T20:08:14.457Z"
   },
   {
    "duration": 54,
    "start_time": "2023-03-21T20:08:30.023Z"
   },
   {
    "duration": 63,
    "start_time": "2023-03-21T20:08:40.219Z"
   },
   {
    "duration": 3298,
    "start_time": "2023-03-21T20:08:51.044Z"
   },
   {
    "duration": 3345,
    "start_time": "2023-03-21T20:09:18.295Z"
   },
   {
    "duration": 3290,
    "start_time": "2023-03-21T20:09:25.515Z"
   },
   {
    "duration": 3421,
    "start_time": "2023-03-21T20:09:37.746Z"
   },
   {
    "duration": 3548,
    "start_time": "2023-03-21T20:09:58.334Z"
   },
   {
    "duration": 3489,
    "start_time": "2023-03-21T20:10:20.001Z"
   },
   {
    "duration": 3336,
    "start_time": "2023-03-21T20:10:43.288Z"
   },
   {
    "duration": 4,
    "start_time": "2023-03-21T20:10:58.961Z"
   },
   {
    "duration": 12300,
    "start_time": "2023-03-21T20:11:17.952Z"
   },
   {
    "duration": 30562,
    "start_time": "2023-03-21T20:14:46.061Z"
   },
   {
    "duration": 4,
    "start_time": "2023-03-21T20:20:42.254Z"
   },
   {
    "duration": 1508,
    "start_time": "2023-03-23T13:19:27.680Z"
   },
   {
    "duration": 3231,
    "start_time": "2023-03-23T13:19:29.189Z"
   },
   {
    "duration": 119,
    "start_time": "2023-03-23T13:19:32.421Z"
   },
   {
    "duration": 15,
    "start_time": "2023-03-23T13:19:32.542Z"
   },
   {
    "duration": 96,
    "start_time": "2023-03-23T13:19:32.559Z"
   },
   {
    "duration": 353,
    "start_time": "2023-03-23T13:19:32.656Z"
   },
   {
    "duration": 246,
    "start_time": "2023-03-23T13:19:33.011Z"
   },
   {
    "duration": 318,
    "start_time": "2023-03-23T13:19:33.259Z"
   },
   {
    "duration": 125,
    "start_time": "2023-03-23T13:19:33.579Z"
   },
   {
    "duration": 69,
    "start_time": "2023-03-23T13:19:33.707Z"
   },
   {
    "duration": 329,
    "start_time": "2023-03-23T13:19:33.778Z"
   },
   {
    "duration": 65,
    "start_time": "2023-03-23T13:19:34.109Z"
   },
   {
    "duration": 3,
    "start_time": "2023-03-23T13:19:34.176Z"
   },
   {
    "duration": 155,
    "start_time": "2023-03-23T13:19:34.180Z"
   },
   {
    "duration": 54,
    "start_time": "2023-03-23T13:19:34.337Z"
   },
   {
    "duration": 15,
    "start_time": "2023-03-23T13:19:34.392Z"
   },
   {
    "duration": 118,
    "start_time": "2023-03-23T13:19:34.408Z"
   },
   {
    "duration": 18,
    "start_time": "2023-03-23T13:19:34.527Z"
   },
   {
    "duration": 48,
    "start_time": "2023-03-23T13:19:34.546Z"
   },
   {
    "duration": 77,
    "start_time": "2023-03-23T13:19:34.597Z"
   },
   {
    "duration": 236,
    "start_time": "2023-03-23T13:19:34.675Z"
   },
   {
    "duration": 13,
    "start_time": "2023-03-23T13:19:34.913Z"
   },
   {
    "duration": 29,
    "start_time": "2023-03-23T13:19:34.928Z"
   },
   {
    "duration": 281,
    "start_time": "2023-03-23T13:21:35.147Z"
   },
   {
    "duration": 50,
    "start_time": "2023-03-23T13:21:38.815Z"
   },
   {
    "duration": 16,
    "start_time": "2023-03-23T13:25:02.836Z"
   },
   {
    "duration": 10,
    "start_time": "2023-03-23T13:25:08.362Z"
   },
   {
    "duration": 22,
    "start_time": "2023-03-23T13:25:11.394Z"
   },
   {
    "duration": 9,
    "start_time": "2023-03-23T13:25:15.576Z"
   },
   {
    "duration": 43,
    "start_time": "2023-03-23T13:25:30.234Z"
   },
   {
    "duration": 3,
    "start_time": "2023-03-23T13:26:04.657Z"
   },
   {
    "duration": 12,
    "start_time": "2023-03-23T13:26:05.172Z"
   },
   {
    "duration": 21,
    "start_time": "2023-03-23T13:26:05.651Z"
   },
   {
    "duration": 78,
    "start_time": "2023-03-23T13:26:06.369Z"
   },
   {
    "duration": 166,
    "start_time": "2023-03-23T13:26:10.408Z"
   },
   {
    "duration": 3850,
    "start_time": "2023-03-23T13:26:20.263Z"
   },
   {
    "duration": 33840,
    "start_time": "2023-03-23T13:26:25.066Z"
   },
   {
    "duration": 4,
    "start_time": "2023-03-23T13:27:30.862Z"
   },
   {
    "duration": 7,
    "start_time": "2023-03-23T13:27:33.541Z"
   },
   {
    "duration": 29,
    "start_time": "2023-03-23T13:27:44.522Z"
   },
   {
    "duration": 3,
    "start_time": "2023-03-23T13:27:49.277Z"
   },
   {
    "duration": 9,
    "start_time": "2023-03-23T13:27:51.997Z"
   },
   {
    "duration": 8,
    "start_time": "2023-03-23T13:28:07.302Z"
   },
   {
    "duration": 10,
    "start_time": "2023-03-23T13:28:25.874Z"
   },
   {
    "duration": 9,
    "start_time": "2023-03-23T13:28:45.308Z"
   },
   {
    "duration": 45,
    "start_time": "2023-03-23T13:32:24.617Z"
   },
   {
    "duration": 60,
    "start_time": "2023-03-23T13:32:33.132Z"
   },
   {
    "duration": 214,
    "start_time": "2023-03-23T13:32:41.177Z"
   },
   {
    "duration": 50,
    "start_time": "2023-03-23T13:32:45.107Z"
   },
   {
    "duration": 83,
    "start_time": "2023-03-23T13:32:48.348Z"
   },
   {
    "duration": 192,
    "start_time": "2023-03-23T13:32:49.653Z"
   },
   {
    "duration": 5,
    "start_time": "2023-03-23T13:34:34.740Z"
   },
   {
    "duration": 181,
    "start_time": "2023-03-23T13:35:07.359Z"
   },
   {
    "duration": 131,
    "start_time": "2023-03-23T13:35:16.516Z"
   },
   {
    "duration": 91,
    "start_time": "2023-03-23T13:35:29.350Z"
   },
   {
    "duration": 55,
    "start_time": "2023-03-23T13:35:33.897Z"
   },
   {
    "duration": 110,
    "start_time": "2023-03-23T13:35:38.132Z"
   },
   {
    "duration": 49,
    "start_time": "2023-03-23T13:36:36.992Z"
   },
   {
    "duration": 198,
    "start_time": "2023-03-23T13:36:46.646Z"
   },
   {
    "duration": 104,
    "start_time": "2023-03-23T13:36:51.944Z"
   },
   {
    "duration": 82,
    "start_time": "2023-03-23T13:36:55.361Z"
   },
   {
    "duration": 35,
    "start_time": "2023-03-23T13:36:58.735Z"
   },
   {
    "duration": 74,
    "start_time": "2023-03-23T13:37:04.368Z"
   },
   {
    "duration": 31,
    "start_time": "2023-03-23T13:37:06.357Z"
   },
   {
    "duration": 193,
    "start_time": "2023-03-23T13:37:07.451Z"
   },
   {
    "duration": 135,
    "start_time": "2023-03-23T13:37:08.815Z"
   },
   {
    "duration": 165,
    "start_time": "2023-03-23T13:37:10.087Z"
   },
   {
    "duration": 33,
    "start_time": "2023-03-23T13:37:11.333Z"
   },
   {
    "duration": 41,
    "start_time": "2023-03-23T13:37:12.470Z"
   },
   {
    "duration": 81,
    "start_time": "2023-03-23T13:37:20.863Z"
   },
   {
    "duration": 85,
    "start_time": "2023-03-23T13:37:23.364Z"
   },
   {
    "duration": 142,
    "start_time": "2023-03-23T13:37:26.607Z"
   },
   {
    "duration": 114,
    "start_time": "2023-03-23T13:37:27.926Z"
   },
   {
    "duration": 106,
    "start_time": "2023-03-23T13:37:30.339Z"
   },
   {
    "duration": 5,
    "start_time": "2023-03-23T13:38:36.013Z"
   },
   {
    "duration": 32,
    "start_time": "2023-03-23T13:38:45.551Z"
   },
   {
    "duration": 4,
    "start_time": "2023-03-23T13:38:46.650Z"
   },
   {
    "duration": 79,
    "start_time": "2023-03-23T13:38:55.969Z"
   },
   {
    "duration": 4,
    "start_time": "2023-03-23T13:38:57.175Z"
   },
   {
    "duration": 5,
    "start_time": "2023-03-23T13:39:58.855Z"
   },
   {
    "duration": 748,
    "start_time": "2023-03-23T13:39:58.862Z"
   },
   {
    "duration": 111,
    "start_time": "2023-03-23T13:39:59.612Z"
   },
   {
    "duration": 18,
    "start_time": "2023-03-23T13:39:59.724Z"
   },
   {
    "duration": 100,
    "start_time": "2023-03-23T13:39:59.744Z"
   },
   {
    "duration": 385,
    "start_time": "2023-03-23T13:39:59.846Z"
   },
   {
    "duration": 255,
    "start_time": "2023-03-23T13:40:00.232Z"
   },
   {
    "duration": 332,
    "start_time": "2023-03-23T13:40:00.489Z"
   },
   {
    "duration": 144,
    "start_time": "2023-03-23T13:40:00.823Z"
   },
   {
    "duration": 61,
    "start_time": "2023-03-23T13:40:00.969Z"
   },
   {
    "duration": 330,
    "start_time": "2023-03-23T13:40:01.040Z"
   },
   {
    "duration": 80,
    "start_time": "2023-03-23T13:40:01.371Z"
   },
   {
    "duration": 22,
    "start_time": "2023-03-23T13:40:01.453Z"
   },
   {
    "duration": 179,
    "start_time": "2023-03-23T13:40:01.478Z"
   },
   {
    "duration": 56,
    "start_time": "2023-03-23T13:40:01.659Z"
   },
   {
    "duration": 49,
    "start_time": "2023-03-23T13:40:01.717Z"
   },
   {
    "duration": 118,
    "start_time": "2023-03-23T13:40:01.768Z"
   },
   {
    "duration": 13,
    "start_time": "2023-03-23T13:40:01.888Z"
   },
   {
    "duration": 77,
    "start_time": "2023-03-23T13:40:01.903Z"
   },
   {
    "duration": 42,
    "start_time": "2023-03-23T13:40:01.982Z"
   },
   {
    "duration": 259,
    "start_time": "2023-03-23T13:40:02.026Z"
   },
   {
    "duration": 12,
    "start_time": "2023-03-23T13:40:02.286Z"
   },
   {
    "duration": 74,
    "start_time": "2023-03-23T13:40:02.301Z"
   },
   {
    "duration": 59,
    "start_time": "2023-03-23T13:40:02.376Z"
   },
   {
    "duration": 19,
    "start_time": "2023-03-23T13:40:02.437Z"
   },
   {
    "duration": 31,
    "start_time": "2023-03-23T13:40:02.458Z"
   },
   {
    "duration": 55,
    "start_time": "2023-03-23T13:40:02.491Z"
   },
   {
    "duration": 4077,
    "start_time": "2023-03-23T13:40:02.547Z"
   },
   {
    "duration": 34116,
    "start_time": "2023-03-23T13:40:06.625Z"
   },
   {
    "duration": 10,
    "start_time": "2023-03-23T13:40:40.743Z"
   },
   {
    "duration": 10,
    "start_time": "2023-03-23T13:40:50.735Z"
   },
   {
    "duration": 165,
    "start_time": "2023-03-23T13:41:06.476Z"
   },
   {
    "duration": 4042,
    "start_time": "2023-03-23T13:41:07.282Z"
   },
   {
    "duration": 33480,
    "start_time": "2023-03-23T13:41:15.829Z"
   },
   {
    "duration": 11,
    "start_time": "2023-03-23T13:41:57.967Z"
   },
   {
    "duration": 5,
    "start_time": "2023-03-23T13:42:05.368Z"
   },
   {
    "duration": 748,
    "start_time": "2023-03-23T13:42:05.375Z"
   },
   {
    "duration": 134,
    "start_time": "2023-03-23T13:42:06.124Z"
   },
   {
    "duration": 17,
    "start_time": "2023-03-23T13:42:06.260Z"
   },
   {
    "duration": 107,
    "start_time": "2023-03-23T13:42:06.280Z"
   },
   {
    "duration": 376,
    "start_time": "2023-03-23T13:42:06.389Z"
   },
   {
    "duration": 261,
    "start_time": "2023-03-23T13:42:06.767Z"
   },
   {
    "duration": 416,
    "start_time": "2023-03-23T13:42:07.030Z"
   },
   {
    "duration": 148,
    "start_time": "2023-03-23T13:42:07.448Z"
   },
   {
    "duration": 83,
    "start_time": "2023-03-23T13:42:07.598Z"
   },
   {
    "duration": 415,
    "start_time": "2023-03-23T13:42:07.683Z"
   },
   {
    "duration": 70,
    "start_time": "2023-03-23T13:42:08.100Z"
   },
   {
    "duration": 4,
    "start_time": "2023-03-23T13:42:08.172Z"
   },
   {
    "duration": 182,
    "start_time": "2023-03-23T13:42:08.179Z"
   },
   {
    "duration": 53,
    "start_time": "2023-03-23T13:42:08.363Z"
   },
   {
    "duration": 33,
    "start_time": "2023-03-23T13:42:08.418Z"
   },
   {
    "duration": 127,
    "start_time": "2023-03-23T13:42:08.452Z"
   },
   {
    "duration": 16,
    "start_time": "2023-03-23T13:42:08.581Z"
   },
   {
    "duration": 48,
    "start_time": "2023-03-23T13:42:08.598Z"
   },
   {
    "duration": 6,
    "start_time": "2023-03-23T13:42:08.648Z"
   },
   {
    "duration": 254,
    "start_time": "2023-03-23T13:42:08.655Z"
   },
   {
    "duration": 14,
    "start_time": "2023-03-23T13:42:08.910Z"
   },
   {
    "duration": 26,
    "start_time": "2023-03-23T13:42:08.926Z"
   },
   {
    "duration": 3,
    "start_time": "2023-03-23T13:42:08.954Z"
   },
   {
    "duration": 15,
    "start_time": "2023-03-23T13:42:08.958Z"
   },
   {
    "duration": 20,
    "start_time": "2023-03-23T13:42:08.975Z"
   },
   {
    "duration": 77,
    "start_time": "2023-03-23T13:42:08.997Z"
   },
   {
    "duration": 3874,
    "start_time": "2023-03-23T13:42:09.157Z"
   },
   {
    "duration": 34022,
    "start_time": "2023-03-23T13:42:13.033Z"
   },
   {
    "duration": 9,
    "start_time": "2023-03-23T13:42:50.204Z"
   },
   {
    "duration": 8,
    "start_time": "2023-03-23T13:43:35.236Z"
   },
   {
    "duration": 755,
    "start_time": "2023-03-23T13:43:35.246Z"
   },
   {
    "duration": 113,
    "start_time": "2023-03-23T13:43:36.003Z"
   },
   {
    "duration": 25,
    "start_time": "2023-03-23T13:43:36.118Z"
   },
   {
    "duration": 129,
    "start_time": "2023-03-23T13:43:36.146Z"
   },
   {
    "duration": 367,
    "start_time": "2023-03-23T13:43:36.278Z"
   },
   {
    "duration": 269,
    "start_time": "2023-03-23T13:43:36.648Z"
   },
   {
    "duration": 403,
    "start_time": "2023-03-23T13:43:36.919Z"
   },
   {
    "duration": 139,
    "start_time": "2023-03-23T13:43:37.324Z"
   },
   {
    "duration": 75,
    "start_time": "2023-03-23T13:43:37.465Z"
   },
   {
    "duration": 477,
    "start_time": "2023-03-23T13:43:37.542Z"
   },
   {
    "duration": 86,
    "start_time": "2023-03-23T13:43:38.021Z"
   },
   {
    "duration": 4,
    "start_time": "2023-03-23T13:43:38.110Z"
   },
   {
    "duration": 164,
    "start_time": "2023-03-23T13:43:38.118Z"
   },
   {
    "duration": 64,
    "start_time": "2023-03-23T13:43:38.284Z"
   },
   {
    "duration": 19,
    "start_time": "2023-03-23T13:43:38.350Z"
   },
   {
    "duration": 128,
    "start_time": "2023-03-23T13:43:38.372Z"
   },
   {
    "duration": 18,
    "start_time": "2023-03-23T13:43:38.502Z"
   },
   {
    "duration": 91,
    "start_time": "2023-03-23T13:43:38.522Z"
   },
   {
    "duration": 7,
    "start_time": "2023-03-23T13:43:38.616Z"
   },
   {
    "duration": 253,
    "start_time": "2023-03-23T13:43:38.625Z"
   },
   {
    "duration": 15,
    "start_time": "2023-03-23T13:43:38.880Z"
   },
   {
    "duration": 14,
    "start_time": "2023-03-23T13:43:38.898Z"
   },
   {
    "duration": 4,
    "start_time": "2023-03-23T13:43:38.913Z"
   },
   {
    "duration": 11,
    "start_time": "2023-03-23T13:43:38.940Z"
   },
   {
    "duration": 28,
    "start_time": "2023-03-23T13:43:38.953Z"
   },
   {
    "duration": 69,
    "start_time": "2023-03-23T13:43:38.983Z"
   },
   {
    "duration": 4026,
    "start_time": "2023-03-23T13:43:39.054Z"
   },
   {
    "duration": 34615,
    "start_time": "2023-03-23T13:43:43.081Z"
   },
   {
    "duration": 9,
    "start_time": "2023-03-23T13:44:17.698Z"
   },
   {
    "duration": 33,
    "start_time": "2023-03-23T13:46:02.560Z"
   },
   {
    "duration": 5,
    "start_time": "2023-03-23T14:12:21.788Z"
   },
   {
    "duration": 24,
    "start_time": "2023-03-23T14:13:48.299Z"
   },
   {
    "duration": 24,
    "start_time": "2023-03-23T14:14:02.079Z"
   },
   {
    "duration": 632,
    "start_time": "2023-03-23T14:14:06.829Z"
   },
   {
    "duration": 45,
    "start_time": "2023-03-23T14:14:10.315Z"
   },
   {
    "duration": 28,
    "start_time": "2023-03-23T14:14:19.778Z"
   },
   {
    "duration": 16,
    "start_time": "2023-03-23T14:14:43.903Z"
   },
   {
    "duration": 27,
    "start_time": "2023-03-23T14:14:54.806Z"
   },
   {
    "duration": 25,
    "start_time": "2023-03-23T14:14:57.888Z"
   },
   {
    "duration": 5,
    "start_time": "2023-03-23T14:21:47.480Z"
   },
   {
    "duration": 3,
    "start_time": "2023-03-23T14:26:14.861Z"
   },
   {
    "duration": 78,
    "start_time": "2023-03-23T14:26:18.472Z"
   },
   {
    "duration": 6,
    "start_time": "2023-03-23T14:26:22.359Z"
   },
   {
    "duration": 81,
    "start_time": "2023-03-23T14:26:30.367Z"
   },
   {
    "duration": 6,
    "start_time": "2023-03-23T14:26:31.924Z"
   },
   {
    "duration": 4,
    "start_time": "2023-03-23T14:26:35.061Z"
   },
   {
    "duration": 39,
    "start_time": "2023-03-23T14:26:38.812Z"
   },
   {
    "duration": 6,
    "start_time": "2023-03-23T14:26:40.266Z"
   },
   {
    "duration": 58,
    "start_time": "2023-03-23T14:26:52.404Z"
   },
   {
    "duration": 73,
    "start_time": "2023-03-23T14:26:55.285Z"
   },
   {
    "duration": 9,
    "start_time": "2023-03-23T14:26:56.501Z"
   },
   {
    "duration": 125,
    "start_time": "2023-03-23T14:27:06.734Z"
   },
   {
    "duration": 8,
    "start_time": "2023-03-23T14:27:07.966Z"
   },
   {
    "duration": 123,
    "start_time": "2023-03-23T14:27:10.928Z"
   },
   {
    "duration": 16,
    "start_time": "2023-03-23T14:27:11.941Z"
   },
   {
    "duration": 210,
    "start_time": "2023-03-23T14:27:28.439Z"
   },
   {
    "duration": 69,
    "start_time": "2023-03-23T14:27:31.586Z"
   },
   {
    "duration": 7,
    "start_time": "2023-03-23T14:27:32.734Z"
   },
   {
    "duration": 7,
    "start_time": "2023-03-23T14:28:37.208Z"
   },
   {
    "duration": 5,
    "start_time": "2023-03-23T14:28:59.094Z"
   },
   {
    "duration": 800,
    "start_time": "2023-03-23T14:28:59.101Z"
   },
   {
    "duration": 121,
    "start_time": "2023-03-23T14:28:59.903Z"
   },
   {
    "duration": 35,
    "start_time": "2023-03-23T14:29:00.025Z"
   },
   {
    "duration": 96,
    "start_time": "2023-03-23T14:29:00.063Z"
   },
   {
    "duration": 389,
    "start_time": "2023-03-23T14:29:00.161Z"
   },
   {
    "duration": 262,
    "start_time": "2023-03-23T14:29:00.552Z"
   },
   {
    "duration": 341,
    "start_time": "2023-03-23T14:29:00.816Z"
   },
   {
    "duration": 136,
    "start_time": "2023-03-23T14:29:01.159Z"
   },
   {
    "duration": 70,
    "start_time": "2023-03-23T14:29:01.296Z"
   },
   {
    "duration": 347,
    "start_time": "2023-03-23T14:29:01.367Z"
   },
   {
    "duration": 81,
    "start_time": "2023-03-23T14:29:01.716Z"
   },
   {
    "duration": 23,
    "start_time": "2023-03-23T14:29:01.798Z"
   },
   {
    "duration": 170,
    "start_time": "2023-03-23T14:29:01.824Z"
   },
   {
    "duration": 63,
    "start_time": "2023-03-23T14:29:01.995Z"
   },
   {
    "duration": 25,
    "start_time": "2023-03-23T14:29:02.060Z"
   },
   {
    "duration": 167,
    "start_time": "2023-03-23T14:29:02.087Z"
   },
   {
    "duration": 20,
    "start_time": "2023-03-23T14:29:02.256Z"
   },
   {
    "duration": 43,
    "start_time": "2023-03-23T14:29:02.277Z"
   },
   {
    "duration": 2,
    "start_time": "2023-03-23T14:29:02.322Z"
   },
   {
    "duration": 33,
    "start_time": "2023-03-23T14:29:02.326Z"
   },
   {
    "duration": 570,
    "start_time": "2023-03-23T14:29:02.360Z"
   },
   {
    "duration": 29,
    "start_time": "2023-03-23T14:29:02.932Z"
   },
   {
    "duration": 10,
    "start_time": "2023-03-23T14:29:02.962Z"
   },
   {
    "duration": 264,
    "start_time": "2023-03-23T14:29:02.973Z"
   },
   {
    "duration": 132,
    "start_time": "2023-03-23T14:29:03.245Z"
   },
   {
    "duration": 17,
    "start_time": "2023-03-23T14:29:03.381Z"
   },
   {
    "duration": 16,
    "start_time": "2023-03-23T14:29:03.399Z"
   },
   {
    "duration": 0,
    "start_time": "2023-03-23T14:29:03.416Z"
   },
   {
    "duration": 0,
    "start_time": "2023-03-23T14:29:03.417Z"
   },
   {
    "duration": 0,
    "start_time": "2023-03-23T14:29:03.417Z"
   },
   {
    "duration": 0,
    "start_time": "2023-03-23T14:29:03.418Z"
   },
   {
    "duration": 0,
    "start_time": "2023-03-23T14:29:03.419Z"
   },
   {
    "duration": 87,
    "start_time": "2023-03-23T14:29:21.602Z"
   },
   {
    "duration": 264,
    "start_time": "2023-03-23T14:29:23.473Z"
   },
   {
    "duration": 39466,
    "start_time": "2023-03-23T14:29:24.595Z"
   },
   {
    "duration": 45926,
    "start_time": "2023-03-23T14:30:04.139Z"
   },
   {
    "duration": 307291,
    "start_time": "2023-03-23T14:30:50.066Z"
   },
   {
    "duration": 4,
    "start_time": "2023-03-23T14:35:57.359Z"
   },
   {
    "duration": 13,
    "start_time": "2023-03-23T14:35:57.365Z"
   },
   {
    "duration": 30,
    "start_time": "2023-03-23T14:35:57.379Z"
   },
   {
    "duration": 107,
    "start_time": "2023-03-23T14:35:57.410Z"
   },
   {
    "duration": 261,
    "start_time": "2023-03-23T14:35:57.519Z"
   },
   {
    "duration": 5,
    "start_time": "2023-03-23T14:41:40.007Z"
   },
   {
    "duration": 775,
    "start_time": "2023-03-23T14:41:40.014Z"
   },
   {
    "duration": 117,
    "start_time": "2023-03-23T14:41:40.791Z"
   },
   {
    "duration": 12,
    "start_time": "2023-03-23T14:41:40.910Z"
   },
   {
    "duration": 103,
    "start_time": "2023-03-23T14:41:40.923Z"
   },
   {
    "duration": 365,
    "start_time": "2023-03-23T14:41:41.028Z"
   },
   {
    "duration": 262,
    "start_time": "2023-03-23T14:41:41.395Z"
   },
   {
    "duration": 339,
    "start_time": "2023-03-23T14:41:41.659Z"
   },
   {
    "duration": 134,
    "start_time": "2023-03-23T14:41:42.001Z"
   },
   {
    "duration": 61,
    "start_time": "2023-03-23T14:41:42.136Z"
   },
   {
    "duration": 329,
    "start_time": "2023-03-23T14:41:42.199Z"
   },
   {
    "duration": 95,
    "start_time": "2023-03-23T14:41:42.529Z"
   },
   {
    "duration": 4,
    "start_time": "2023-03-23T14:41:42.625Z"
   },
   {
    "duration": 158,
    "start_time": "2023-03-23T14:41:42.630Z"
   },
   {
    "duration": 63,
    "start_time": "2023-03-23T14:41:42.790Z"
   },
   {
    "duration": 15,
    "start_time": "2023-03-23T14:41:42.854Z"
   },
   {
    "duration": 116,
    "start_time": "2023-03-23T14:41:42.870Z"
   },
   {
    "duration": 13,
    "start_time": "2023-03-23T14:41:42.988Z"
   },
   {
    "duration": 48,
    "start_time": "2023-03-23T14:41:45.024Z"
   },
   {
    "duration": 3,
    "start_time": "2023-03-23T14:41:46.115Z"
   },
   {
    "duration": 16,
    "start_time": "2023-03-23T14:41:47.575Z"
   },
   {
    "duration": 580,
    "start_time": "2023-03-23T14:41:48.176Z"
   },
   {
    "duration": 13,
    "start_time": "2023-03-23T14:41:49.312Z"
   },
   {
    "duration": 157,
    "start_time": "2023-03-23T14:41:51.081Z"
   },
   {
    "duration": 244,
    "start_time": "2023-03-23T14:41:52.974Z"
   },
   {
    "duration": 47563,
    "start_time": "2023-03-23T14:41:53.993Z"
   },
   {
    "duration": 43854,
    "start_time": "2023-03-23T14:42:49.159Z"
   },
   {
    "duration": 350549,
    "start_time": "2023-03-23T14:44:05.349Z"
   },
   {
    "duration": 4,
    "start_time": "2023-03-23T14:49:55.900Z"
   },
   {
    "duration": 7,
    "start_time": "2023-03-23T14:50:05.785Z"
   },
   {
    "duration": 6,
    "start_time": "2023-03-23T14:50:13.452Z"
   },
   {
    "duration": 236,
    "start_time": "2023-03-23T14:50:15.355Z"
   },
   {
    "duration": 71,
    "start_time": "2023-03-23T14:50:16.996Z"
   },
   {
    "duration": 17,
    "start_time": "2023-03-23T14:50:18.203Z"
   },
   {
    "duration": 89,
    "start_time": "2023-03-23T14:50:20.081Z"
   },
   {
    "duration": 96,
    "start_time": "2023-03-23T14:50:23.888Z"
   },
   {
    "duration": 275,
    "start_time": "2023-03-23T14:50:24.936Z"
   },
   {
    "duration": 352,
    "start_time": "2023-03-23T14:50:26.435Z"
   },
   {
    "duration": 43,
    "start_time": "2023-03-23T14:50:55.393Z"
   },
   {
    "duration": 96,
    "start_time": "2023-03-23T14:51:04.338Z"
   },
   {
    "duration": 286,
    "start_time": "2023-03-23T14:51:04.922Z"
   },
   {
    "duration": 69,
    "start_time": "2023-03-23T14:51:05.693Z"
   },
   {
    "duration": 24,
    "start_time": "2023-03-23T14:51:27.691Z"
   },
   {
    "duration": 6,
    "start_time": "2023-03-23T14:51:34.020Z"
   },
   {
    "duration": 254,
    "start_time": "2023-03-23T14:51:35.272Z"
   },
   {
    "duration": 17,
    "start_time": "2023-03-23T14:51:41.835Z"
   },
   {
    "duration": 21,
    "start_time": "2023-03-23T14:51:43.508Z"
   },
   {
    "duration": 15,
    "start_time": "2023-03-23T14:51:48.171Z"
   },
   {
    "duration": 31,
    "start_time": "2023-03-23T14:51:48.882Z"
   },
   {
    "duration": 22,
    "start_time": "2023-03-23T14:51:49.380Z"
   },
   {
    "duration": 195,
    "start_time": "2023-03-23T14:51:58.557Z"
   },
   {
    "duration": 5,
    "start_time": "2023-03-23T14:52:17.155Z"
   },
   {
    "duration": 7,
    "start_time": "2023-03-23T14:52:54.650Z"
   },
   {
    "duration": 19,
    "start_time": "2023-03-23T14:52:55.254Z"
   },
   {
    "duration": 93,
    "start_time": "2023-03-23T14:52:56.155Z"
   },
   {
    "duration": 4065,
    "start_time": "2023-03-23T14:53:02.384Z"
   },
   {
    "duration": 34804,
    "start_time": "2023-03-23T14:53:08.158Z"
   },
   {
    "duration": 97,
    "start_time": "2023-03-23T14:53:46.864Z"
   },
   {
    "duration": 276,
    "start_time": "2023-03-23T14:53:48.995Z"
   },
   {
    "duration": 14,
    "start_time": "2023-03-23T14:53:49.967Z"
   },
   {
    "duration": 14,
    "start_time": "2023-03-23T14:54:07.425Z"
   },
   {
    "duration": 4,
    "start_time": "2023-03-23T14:54:11.014Z"
   },
   {
    "duration": 13,
    "start_time": "2023-03-23T14:54:12.093Z"
   },
   {
    "duration": 28,
    "start_time": "2023-03-23T14:55:06.998Z"
   },
   {
    "duration": 207,
    "start_time": "2023-03-23T14:56:00.378Z"
   },
   {
    "duration": 2,
    "start_time": "2023-03-23T14:56:09.785Z"
   },
   {
    "duration": 193,
    "start_time": "2023-03-23T14:56:12.533Z"
   },
   {
    "duration": 3,
    "start_time": "2023-03-23T14:56:14.965Z"
   },
   {
    "duration": 14,
    "start_time": "2023-03-23T14:56:16.017Z"
   },
   {
    "duration": 15543,
    "start_time": "2023-03-23T14:56:32.098Z"
   },
   {
    "duration": 41939,
    "start_time": "2023-03-23T14:56:51.193Z"
   },
   {
    "duration": 324080,
    "start_time": "2023-03-23T14:57:33.133Z"
   },
   {
    "duration": 6,
    "start_time": "2023-03-23T15:02:57.256Z"
   },
   {
    "duration": 25,
    "start_time": "2023-03-23T15:02:57.264Z"
   },
   {
    "duration": 255,
    "start_time": "2023-03-23T15:03:29.866Z"
   },
   {
    "duration": 10,
    "start_time": "2023-03-23T15:03:31.372Z"
   },
   {
    "duration": 4,
    "start_time": "2023-03-23T15:03:33.439Z"
   },
   {
    "duration": 13,
    "start_time": "2023-03-23T15:03:36.784Z"
   },
   {
    "duration": 57,
    "start_time": "2023-03-23T15:03:40.792Z"
   },
   {
    "duration": 3757,
    "start_time": "2023-03-23T15:03:45.457Z"
   },
   {
    "duration": 33214,
    "start_time": "2023-03-23T15:03:49.216Z"
   },
   {
    "duration": 21,
    "start_time": "2023-03-23T15:04:22.432Z"
   },
   {
    "duration": 92,
    "start_time": "2023-03-23T15:09:14.199Z"
   },
   {
    "duration": 258,
    "start_time": "2023-03-23T15:09:14.989Z"
   },
   {
    "duration": 9,
    "start_time": "2023-03-23T15:09:31.641Z"
   },
   {
    "duration": 3,
    "start_time": "2023-03-23T15:18:58.253Z"
   },
   {
    "duration": 3,
    "start_time": "2023-03-23T15:19:07.758Z"
   },
   {
    "duration": 4,
    "start_time": "2023-03-23T15:19:20.941Z"
   },
   {
    "duration": 78,
    "start_time": "2023-03-23T15:19:33.160Z"
   },
   {
    "duration": 135,
    "start_time": "2023-03-23T15:20:14.500Z"
   },
   {
    "duration": 83,
    "start_time": "2023-03-23T15:20:22.654Z"
   },
   {
    "duration": 8,
    "start_time": "2023-03-23T15:20:24.670Z"
   },
   {
    "duration": 1496,
    "start_time": "2023-03-23T15:20:31.065Z"
   },
   {
    "duration": 3110,
    "start_time": "2023-03-23T15:20:32.563Z"
   },
   {
    "duration": 118,
    "start_time": "2023-03-23T15:20:35.674Z"
   },
   {
    "duration": 17,
    "start_time": "2023-03-23T15:20:35.795Z"
   },
   {
    "duration": 104,
    "start_time": "2023-03-23T15:20:35.813Z"
   },
   {
    "duration": 404,
    "start_time": "2023-03-23T15:20:35.919Z"
   },
   {
    "duration": 259,
    "start_time": "2023-03-23T15:20:36.324Z"
   },
   {
    "duration": 360,
    "start_time": "2023-03-23T15:20:36.585Z"
   },
   {
    "duration": 144,
    "start_time": "2023-03-23T15:20:36.947Z"
   },
   {
    "duration": 68,
    "start_time": "2023-03-23T15:20:37.094Z"
   },
   {
    "duration": 340,
    "start_time": "2023-03-23T15:20:37.164Z"
   },
   {
    "duration": 99,
    "start_time": "2023-03-23T15:20:37.506Z"
   },
   {
    "duration": 4,
    "start_time": "2023-03-23T15:20:37.607Z"
   },
   {
    "duration": 168,
    "start_time": "2023-03-23T15:20:37.613Z"
   },
   {
    "duration": 62,
    "start_time": "2023-03-23T15:20:37.783Z"
   },
   {
    "duration": 15,
    "start_time": "2023-03-23T15:20:37.846Z"
   },
   {
    "duration": 127,
    "start_time": "2023-03-23T15:20:37.863Z"
   },
   {
    "duration": 13,
    "start_time": "2023-03-23T15:20:37.992Z"
   },
   {
    "duration": 57,
    "start_time": "2023-03-23T15:20:38.007Z"
   },
   {
    "duration": 3,
    "start_time": "2023-03-23T15:20:38.067Z"
   },
   {
    "duration": 95,
    "start_time": "2023-03-23T15:20:38.072Z"
   },
   {
    "duration": 572,
    "start_time": "2023-03-23T15:20:38.168Z"
   },
   {
    "duration": 16,
    "start_time": "2023-03-23T15:20:38.741Z"
   },
   {
    "duration": 166,
    "start_time": "2023-03-23T15:20:38.758Z"
   },
   {
    "duration": 258,
    "start_time": "2023-03-23T15:20:38.926Z"
   },
   {
    "duration": 4,
    "start_time": "2023-03-23T15:20:39.185Z"
   },
   {
    "duration": 4,
    "start_time": "2023-03-23T15:20:39.190Z"
   },
   {
    "duration": 4,
    "start_time": "2023-03-23T15:20:40.548Z"
   },
   {
    "duration": 30272,
    "start_time": "2023-03-23T15:20:41.826Z"
   },
   {
    "duration": 32511,
    "start_time": "2023-03-23T15:21:39.436Z"
   },
   {
    "duration": 98,
    "start_time": "2023-03-23T15:22:11.949Z"
   },
   {
    "duration": 9,
    "start_time": "2023-03-23T15:22:32.117Z"
   },
   {
    "duration": 8,
    "start_time": "2023-03-23T15:22:37.901Z"
   },
   {
    "duration": 31594,
    "start_time": "2023-03-23T15:22:43.146Z"
   },
   {
    "duration": 3,
    "start_time": "2023-03-23T15:23:14.745Z"
   },
   {
    "duration": 3,
    "start_time": "2023-03-23T15:23:17.145Z"
   },
   {
    "duration": 3,
    "start_time": "2023-03-23T15:23:17.874Z"
   },
   {
    "duration": 3,
    "start_time": "2023-03-23T15:23:18.685Z"
   },
   {
    "duration": 29713,
    "start_time": "2023-03-23T15:23:23.329Z"
   },
   {
    "duration": 3,
    "start_time": "2023-03-23T15:24:23.063Z"
   }
  ],
  "kernelspec": {
   "display_name": "Python 3 (ipykernel)",
   "language": "python",
   "name": "python3"
  },
  "language_info": {
   "codemirror_mode": {
    "name": "ipython",
    "version": 3
   },
   "file_extension": ".py",
   "mimetype": "text/x-python",
   "name": "python",
   "nbconvert_exporter": "python",
   "pygments_lexer": "ipython3",
   "version": "3.9.5"
  },
  "toc": {
   "base_numbering": 1,
   "nav_menu": {},
   "number_sections": true,
   "sideBar": true,
   "skip_h1_title": true,
   "title_cell": "Table of Contents",
   "title_sidebar": "Contents",
   "toc_cell": false,
   "toc_position": {},
   "toc_section_display": true,
   "toc_window_display": false
  }
 },
 "nbformat": 4,
 "nbformat_minor": 2
}
