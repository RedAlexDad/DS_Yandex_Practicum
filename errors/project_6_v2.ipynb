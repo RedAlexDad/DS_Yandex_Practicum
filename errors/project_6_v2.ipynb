{
 "cells": [
  {
   "cell_type": "markdown",
   "metadata": {},
   "source": [
    "<div style=\"border:solid Chocolate 2px; padding: 40px\">\n",
    " \n",
    "<b> Алексей, привет!👋</b>  \n",
    "\n",
    "Меня зовут Кирилл Васильев, я буду ревьюером твоего проекта. Я предлагаю общаться на «ты», но если привычнее на «вы», просто скажи об этом! \n",
    "\n",
    "Я буду оставлять комментарии в твоем проекте. Пожалуйста, не удаляй их, они могут быть полезны в случае повторной проверки.\n",
    "\n",
    "Ты можешь реагировать на комментарии как просто написав их в Markdown-ячейках, так и выделив их цветом. Например, <font color='blue'>синим</font>. Второй способ, на мой взгляд, удобнее.\n",
    "\n",
    "Свои комментарии я буду обозначать <font color='green'>зеленым</font>, <font color='gold'>желтым</font> и <font color='red'>красным</font> цветами, например:\n",
    " \n",
    "<br/>\n",
    "\n",
    "<div class=\"alert alert-success\">\n",
    "<h2> Комментарий ревьюера <a class=\"tocSkip\"> </h2>\n",
    "\n",
    "<b>Все отлично!👍:</b> В случае, если решение на отдельном шаге является полностью правильным. Здесь же я могу давать советы и предложения.\n",
    "</div>\n",
    "\n",
    "<br/>\n",
    "\n",
    "<div class=\"alert alert-warning\">\n",
    "    <h2> Комментарий ревьюера <a class=\"tocSkip\"> </h2>\n",
    "    \n",
    "<b>Некоторые замечания и рекомендации💡:</b> В случае, когда решение на отдельном шаге станет еще лучше, если внести небольшие коррективы.\n",
    "</div>\n",
    "\n",
    "\n",
    "<br/>\n",
    "<div class=\"alert alert-block alert-danger\">\n",
    "<h2> Комментарий ревьюера <a class=\"tocSkip\"></h2>\n",
    "\n",
    "    \n",
    "<b>На доработку🤔:</b>\n",
    " В случае, когда решение на отдельном шаге требует существенной переработки и внесения правок. Напоминаю, что проект не может быть принят с первого раза, если ревью содержит комментарии, рекомендующие доработать шаги.\n",
    "</div>\n",
    "    \n",
    "Увидев у тебя неточность, в первый раз я лишь укажу на ее наличие и дам тебе возможность самому найти и исправить ее. На реальной работе твой руководитель будет поступать также. Но если ты пока не справишься с такой задачей - при следующей проверке я дам более точную подсказку! "
   ]
  },
  {
   "cell_type": "markdown",
   "metadata": {
    "toc": true
   },
   "source": [
    "<h1>Содержание<span class=\"tocSkip\"></span></h1>\n",
    "<div class=\"toc\"><ul class=\"toc-item\"><li><span><a href=\"#Подготовка-данных\" data-toc-modified-id=\"Подготовка-данных-1\"><span class=\"toc-item-num\">1&nbsp;&nbsp;</span>Подготовка данных</a></span></li><li><span><a href=\"#Исследование-задачи\" data-toc-modified-id=\"Исследование-задачи-2\"><span class=\"toc-item-num\">2&nbsp;&nbsp;</span>Исследование задачи</a></span></li><li><span><a href=\"#Борьба-с-дисбалансом\" data-toc-modified-id=\"Борьба-с-дисбалансом-3\"><span class=\"toc-item-num\">3&nbsp;&nbsp;</span>Борьба с дисбалансом</a></span></li><li><span><a href=\"#Тестирование-модели\" data-toc-modified-id=\"Тестирование-модели-4\"><span class=\"toc-item-num\">4&nbsp;&nbsp;</span>Тестирование модели</a></span></li><li><span><a href=\"#Чек-лист-готовности-проекта\" data-toc-modified-id=\"Чек-лист-готовности-проекта-5\"><span class=\"toc-item-num\">5&nbsp;&nbsp;</span>Чек-лист готовности проекта</a></span></li></ul></div>"
   ]
  },
  {
   "cell_type": "markdown",
   "metadata": {},
   "source": [
    "# Отток клиентов"
   ]
  },
  {
   "cell_type": "markdown",
   "metadata": {},
   "source": [
    "Из «Бета-Банка» стали уходить клиенты. Каждый месяц. Немного, но заметно. Банковские маркетологи посчитали: сохранять текущих клиентов дешевле, чем привлекать новых.\n",
    "\n",
    "Нужно спрогнозировать, уйдёт клиент из банка в ближайшее время или нет. Вам предоставлены исторические данные о поведении клиентов и расторжении договоров с банком. \n",
    "\n",
    "Постройте модель с предельно большим значением *F1*-меры. Чтобы сдать проект успешно, нужно довести метрику до 0.59. Проверьте *F1*-меру на тестовой выборке самостоятельно.\n",
    "\n",
    "Дополнительно измеряйте *AUC-ROC*, сравнивайте её значение с *F1*-мерой.\n",
    "\n",
    "Источник данных: [https://www.kaggle.com/barelydedicated/bank-customer-churn-modeling](https://www.kaggle.com/barelydedicated/bank-customer-churn-modeling)"
   ]
  },
  {
   "cell_type": "markdown",
   "metadata": {},
   "source": [
    "## Подготовка данных"
   ]
  },
  {
   "cell_type": "code",
   "execution_count": 4,
   "metadata": {},
   "outputs": [],
   "source": [
    "# Подключаем все необходимые библиотеки\n",
    "import pandas as pd\n",
    "import numpy as np\n",
    "import matplotlib.pyplot as plt\n",
    "\n",
    "# Разбиение на обучающую, валидационную и тестовую выборку\n",
    "from sklearn.model_selection import train_test_split\n",
    "\n",
    "# Масштабируемость модели\n",
    "from sklearn.preprocessing import StandardScaler\n",
    "\n",
    "# и для машинного обучения разными способами:\n",
    "# - Случайный лес\n",
    "from sklearn.ensemble import RandomForestClassifier\n",
    "# - Решающее дерево\n",
    "from sklearn.tree import DecisionTreeClassifier\n",
    "# - Модель на адекватность\n",
    "from sklearn.dummy import DummyClassifier\n",
    "\n",
    "from sklearn.metrics import (\n",
    "    # Точность модели\n",
    "    accuracy_score,\n",
    "    # Матрицы ошибок (для борьбы с дисбалансом)\n",
    "    confusion_matrix, \n",
    "    # Полнота\n",
    "    recall_score, \n",
    "    # Точность\n",
    "    precision_score, \n",
    "    # F1-мера\n",
    "    f1_score,\n",
    "    # Метрика AUC-ROC\n",
    "    roc_auc_score,\n",
    "    roc_curve\n",
    ")\n",
    "\n",
    "# Контроль выборки\n",
    "from sklearn.utils import shuffle"
   ]
  },
  {
   "cell_type": "markdown",
   "metadata": {},
   "source": [
    "<div class=\"alert alert-warning\">\n",
    "<h2> Комментарий ревьюера <a class=\"tocSkip\"> </h2>\n",
    "    \n",
    "<b>Некоторые замечания и рекомендации💡:</b> \n",
    "    \n",
    "Если загружаем несколько функций из одного пакета, то удобнее записать это через запятую.\n",
    "    \n",
    "`from sklearn.metrics import f1_score, roc_auc_score`\n",
    "    \n",
    "А если через запятую будет больше трех позиций, в таком случае здесь было бы идеально привести оформление в соответствие с <a href=\"https://pythonworld.ru/osnovy/pep-8-rukovodstvo-po-napisaniyu-koda-na-python.html\">pep8</a> - не оставлять длинных строк. \n",
    "\n",
    "Такое оформление предпочтительнее:    \n",
    "    \n",
    "`from sklearn.metrics import (\n",
    "    accuracy_score, \n",
    "    confusion_matrix, \n",
    "    f1_score, \n",
    "    mean_squared_error, \n",
    "    roc_auc_score\n",
    ")`\n",
    "    \n",
    "        \n",
    "</div>\n",
    "\n"
   ]
  },
  {
   "cell_type": "markdown",
   "metadata": {},
   "source": [
    "<div class=\"alert alert-block alert-info\">\n",
    "\n",
    "V1: Подправил\n",
    "    \n",
    "</div>"
   ]
  },
  {
   "cell_type": "code",
   "execution_count": 5,
   "metadata": {},
   "outputs": [
    {
     "name": "stdout",
     "output_type": "stream",
     "text": [
      "<class 'pandas.core.frame.DataFrame'>\n",
      "RangeIndex: 10000 entries, 0 to 9999\n",
      "Data columns (total 14 columns):\n",
      " #   Column           Non-Null Count  Dtype  \n",
      "---  ------           --------------  -----  \n",
      " 0   RowNumber        10000 non-null  int64  \n",
      " 1   CustomerId       10000 non-null  int64  \n",
      " 2   Surname          10000 non-null  object \n",
      " 3   CreditScore      10000 non-null  int64  \n",
      " 4   Geography        10000 non-null  object \n",
      " 5   Gender           10000 non-null  object \n",
      " 6   Age              10000 non-null  int64  \n",
      " 7   Tenure           9091 non-null   float64\n",
      " 8   Balance          10000 non-null  float64\n",
      " 9   NumOfProducts    10000 non-null  int64  \n",
      " 10  HasCrCard        10000 non-null  int64  \n",
      " 11  IsActiveMember   10000 non-null  int64  \n",
      " 12  EstimatedSalary  10000 non-null  float64\n",
      " 13  Exited           10000 non-null  int64  \n",
      "dtypes: float64(3), int64(8), object(3)\n",
      "memory usage: 1.1+ MB\n"
     ]
    }
   ],
   "source": [
    "# Получаем датасет\n",
    "try:\n",
    "    df = pd.read_csv('/datasets/Churn.csv')\n",
    "\n",
    "    # Узнаем, что в нем\n",
    "    df.info()\n",
    "except:\n",
    "    print('Отсутствует датасет. Проверьте путь файла')"
   ]
  },
  {
   "cell_type": "code",
   "execution_count": 6,
   "metadata": {
    "scrolled": true
   },
   "outputs": [
    {
     "data": {
      "text/html": [
       "<div>\n",
       "<style scoped>\n",
       "    .dataframe tbody tr th:only-of-type {\n",
       "        vertical-align: middle;\n",
       "    }\n",
       "\n",
       "    .dataframe tbody tr th {\n",
       "        vertical-align: top;\n",
       "    }\n",
       "\n",
       "    .dataframe thead th {\n",
       "        text-align: right;\n",
       "    }\n",
       "</style>\n",
       "<table border=\"1\" class=\"dataframe\">\n",
       "  <thead>\n",
       "    <tr style=\"text-align: right;\">\n",
       "      <th></th>\n",
       "      <th>RowNumber</th>\n",
       "      <th>CustomerId</th>\n",
       "      <th>Surname</th>\n",
       "      <th>CreditScore</th>\n",
       "      <th>Geography</th>\n",
       "      <th>Gender</th>\n",
       "      <th>Age</th>\n",
       "      <th>Tenure</th>\n",
       "      <th>Balance</th>\n",
       "      <th>NumOfProducts</th>\n",
       "      <th>HasCrCard</th>\n",
       "      <th>IsActiveMember</th>\n",
       "      <th>EstimatedSalary</th>\n",
       "      <th>Exited</th>\n",
       "    </tr>\n",
       "  </thead>\n",
       "  <tbody>\n",
       "    <tr>\n",
       "      <th>0</th>\n",
       "      <td>1</td>\n",
       "      <td>15634602</td>\n",
       "      <td>Hargrave</td>\n",
       "      <td>619</td>\n",
       "      <td>France</td>\n",
       "      <td>Female</td>\n",
       "      <td>42</td>\n",
       "      <td>2.0</td>\n",
       "      <td>0.00</td>\n",
       "      <td>1</td>\n",
       "      <td>1</td>\n",
       "      <td>1</td>\n",
       "      <td>101348.88</td>\n",
       "      <td>1</td>\n",
       "    </tr>\n",
       "    <tr>\n",
       "      <th>1</th>\n",
       "      <td>2</td>\n",
       "      <td>15647311</td>\n",
       "      <td>Hill</td>\n",
       "      <td>608</td>\n",
       "      <td>Spain</td>\n",
       "      <td>Female</td>\n",
       "      <td>41</td>\n",
       "      <td>1.0</td>\n",
       "      <td>83807.86</td>\n",
       "      <td>1</td>\n",
       "      <td>0</td>\n",
       "      <td>1</td>\n",
       "      <td>112542.58</td>\n",
       "      <td>0</td>\n",
       "    </tr>\n",
       "    <tr>\n",
       "      <th>2</th>\n",
       "      <td>3</td>\n",
       "      <td>15619304</td>\n",
       "      <td>Onio</td>\n",
       "      <td>502</td>\n",
       "      <td>France</td>\n",
       "      <td>Female</td>\n",
       "      <td>42</td>\n",
       "      <td>8.0</td>\n",
       "      <td>159660.80</td>\n",
       "      <td>3</td>\n",
       "      <td>1</td>\n",
       "      <td>0</td>\n",
       "      <td>113931.57</td>\n",
       "      <td>1</td>\n",
       "    </tr>\n",
       "    <tr>\n",
       "      <th>3</th>\n",
       "      <td>4</td>\n",
       "      <td>15701354</td>\n",
       "      <td>Boni</td>\n",
       "      <td>699</td>\n",
       "      <td>France</td>\n",
       "      <td>Female</td>\n",
       "      <td>39</td>\n",
       "      <td>1.0</td>\n",
       "      <td>0.00</td>\n",
       "      <td>2</td>\n",
       "      <td>0</td>\n",
       "      <td>0</td>\n",
       "      <td>93826.63</td>\n",
       "      <td>0</td>\n",
       "    </tr>\n",
       "    <tr>\n",
       "      <th>4</th>\n",
       "      <td>5</td>\n",
       "      <td>15737888</td>\n",
       "      <td>Mitchell</td>\n",
       "      <td>850</td>\n",
       "      <td>Spain</td>\n",
       "      <td>Female</td>\n",
       "      <td>43</td>\n",
       "      <td>2.0</td>\n",
       "      <td>125510.82</td>\n",
       "      <td>1</td>\n",
       "      <td>1</td>\n",
       "      <td>1</td>\n",
       "      <td>79084.10</td>\n",
       "      <td>0</td>\n",
       "    </tr>\n",
       "  </tbody>\n",
       "</table>\n",
       "</div>"
      ],
      "text/plain": [
       "   RowNumber  CustomerId   Surname  CreditScore Geography  Gender  Age  \\\n",
       "0          1    15634602  Hargrave          619    France  Female   42   \n",
       "1          2    15647311      Hill          608     Spain  Female   41   \n",
       "2          3    15619304      Onio          502    France  Female   42   \n",
       "3          4    15701354      Boni          699    France  Female   39   \n",
       "4          5    15737888  Mitchell          850     Spain  Female   43   \n",
       "\n",
       "   Tenure    Balance  NumOfProducts  HasCrCard  IsActiveMember  \\\n",
       "0     2.0       0.00              1          1               1   \n",
       "1     1.0   83807.86              1          0               1   \n",
       "2     8.0  159660.80              3          1               0   \n",
       "3     1.0       0.00              2          0               0   \n",
       "4     2.0  125510.82              1          1               1   \n",
       "\n",
       "   EstimatedSalary  Exited  \n",
       "0        101348.88       1  \n",
       "1        112542.58       0  \n",
       "2        113931.57       1  \n",
       "3         93826.63       0  \n",
       "4         79084.10       0  "
      ]
     },
     "execution_count": 6,
     "metadata": {},
     "output_type": "execute_result"
    }
   ],
   "source": [
    "df.head()"
   ]
  },
  {
   "cell_type": "code",
   "execution_count": 7,
   "metadata": {},
   "outputs": [
    {
     "data": {
      "text/plain": [
       "RowNumber            0\n",
       "CustomerId           0\n",
       "Surname              0\n",
       "CreditScore          0\n",
       "Geography            0\n",
       "Gender               0\n",
       "Age                  0\n",
       "Tenure             909\n",
       "Balance              0\n",
       "NumOfProducts        0\n",
       "HasCrCard            0\n",
       "IsActiveMember       0\n",
       "EstimatedSalary      0\n",
       "Exited               0\n",
       "dtype: int64"
      ]
     },
     "execution_count": 7,
     "metadata": {},
     "output_type": "execute_result"
    }
   ],
   "source": [
    "# Проверим на наличие пропущенных значений\n",
    "df.isna().sum()"
   ]
  },
  {
   "cell_type": "markdown",
   "metadata": {},
   "source": [
    "Себе на пометку:\n",
    "Если в каком то признаке пустые значения, то его следует заполнять, иначе выводит ошибку такого рода: \"Input contains NaN, infinity or a value too large for dtype('float32')\"\n"
   ]
  },
  {
   "cell_type": "code",
   "execution_count": 8,
   "metadata": {},
   "outputs": [],
   "source": [
    "# Заполняем пропуски медианным значением\n",
    "df['Tenure'] = df['Tenure'].fillna(df['Tenure'].median())"
   ]
  },
  {
   "cell_type": "markdown",
   "metadata": {},
   "source": [
    "<div class=\"alert alert-success\">\n",
    "<h2> Комментарий ревьюера <a class=\"tocSkip\"> </h2>\n",
    "\n",
    "👍 Отлично\n",
    "</div>"
   ]
  },
  {
   "cell_type": "code",
   "execution_count": 9,
   "metadata": {},
   "outputs": [
    {
     "data": {
      "text/plain": [
       "RowNumber          0\n",
       "CustomerId         0\n",
       "Surname            0\n",
       "CreditScore        0\n",
       "Geography          0\n",
       "Gender             0\n",
       "Age                0\n",
       "Tenure             0\n",
       "Balance            0\n",
       "NumOfProducts      0\n",
       "HasCrCard          0\n",
       "IsActiveMember     0\n",
       "EstimatedSalary    0\n",
       "Exited             0\n",
       "dtype: int64"
      ]
     },
     "execution_count": 9,
     "metadata": {},
     "output_type": "execute_result"
    }
   ],
   "source": [
    "# Снова проверим на пропущенные значения\n",
    "df.isna().sum()"
   ]
  },
  {
   "cell_type": "markdown",
   "metadata": {},
   "source": [
    "## Исследование задачи"
   ]
  },
  {
   "cell_type": "code",
   "execution_count": 10,
   "metadata": {},
   "outputs": [],
   "source": [
    "# Убираем лишние: фамилии, айдишники, порядковые номера\n",
    "df = df[['CreditScore', 'Geography', 'Gender', 'Age', 'Tenure', 'Balance', 'NumOfProducts', 'HasCrCard', 'IsActiveMember', 'EstimatedSalary', 'Exited']]"
   ]
  },
  {
   "cell_type": "code",
   "execution_count": 11,
   "metadata": {
    "scrolled": false
   },
   "outputs": [],
   "source": [
    "# Уклоняемся от дамми-ловушек\n",
    "df_ohe = pd.get_dummies(df, drop_first=True)"
   ]
  },
  {
   "cell_type": "code",
   "execution_count": 12,
   "metadata": {},
   "outputs": [
    {
     "data": {
      "text/html": [
       "<div>\n",
       "<style scoped>\n",
       "    .dataframe tbody tr th:only-of-type {\n",
       "        vertical-align: middle;\n",
       "    }\n",
       "\n",
       "    .dataframe tbody tr th {\n",
       "        vertical-align: top;\n",
       "    }\n",
       "\n",
       "    .dataframe thead th {\n",
       "        text-align: right;\n",
       "    }\n",
       "</style>\n",
       "<table border=\"1\" class=\"dataframe\">\n",
       "  <thead>\n",
       "    <tr style=\"text-align: right;\">\n",
       "      <th></th>\n",
       "      <th>CreditScore</th>\n",
       "      <th>Age</th>\n",
       "      <th>Tenure</th>\n",
       "      <th>Balance</th>\n",
       "      <th>NumOfProducts</th>\n",
       "      <th>HasCrCard</th>\n",
       "      <th>IsActiveMember</th>\n",
       "      <th>EstimatedSalary</th>\n",
       "      <th>Exited</th>\n",
       "      <th>Geography_Germany</th>\n",
       "      <th>Geography_Spain</th>\n",
       "      <th>Gender_Male</th>\n",
       "    </tr>\n",
       "  </thead>\n",
       "  <tbody>\n",
       "    <tr>\n",
       "      <th>0</th>\n",
       "      <td>619</td>\n",
       "      <td>42</td>\n",
       "      <td>2.0</td>\n",
       "      <td>0.00</td>\n",
       "      <td>1</td>\n",
       "      <td>1</td>\n",
       "      <td>1</td>\n",
       "      <td>101348.88</td>\n",
       "      <td>1</td>\n",
       "      <td>0</td>\n",
       "      <td>0</td>\n",
       "      <td>0</td>\n",
       "    </tr>\n",
       "    <tr>\n",
       "      <th>1</th>\n",
       "      <td>608</td>\n",
       "      <td>41</td>\n",
       "      <td>1.0</td>\n",
       "      <td>83807.86</td>\n",
       "      <td>1</td>\n",
       "      <td>0</td>\n",
       "      <td>1</td>\n",
       "      <td>112542.58</td>\n",
       "      <td>0</td>\n",
       "      <td>0</td>\n",
       "      <td>1</td>\n",
       "      <td>0</td>\n",
       "    </tr>\n",
       "    <tr>\n",
       "      <th>2</th>\n",
       "      <td>502</td>\n",
       "      <td>42</td>\n",
       "      <td>8.0</td>\n",
       "      <td>159660.80</td>\n",
       "      <td>3</td>\n",
       "      <td>1</td>\n",
       "      <td>0</td>\n",
       "      <td>113931.57</td>\n",
       "      <td>1</td>\n",
       "      <td>0</td>\n",
       "      <td>0</td>\n",
       "      <td>0</td>\n",
       "    </tr>\n",
       "    <tr>\n",
       "      <th>3</th>\n",
       "      <td>699</td>\n",
       "      <td>39</td>\n",
       "      <td>1.0</td>\n",
       "      <td>0.00</td>\n",
       "      <td>2</td>\n",
       "      <td>0</td>\n",
       "      <td>0</td>\n",
       "      <td>93826.63</td>\n",
       "      <td>0</td>\n",
       "      <td>0</td>\n",
       "      <td>0</td>\n",
       "      <td>0</td>\n",
       "    </tr>\n",
       "    <tr>\n",
       "      <th>4</th>\n",
       "      <td>850</td>\n",
       "      <td>43</td>\n",
       "      <td>2.0</td>\n",
       "      <td>125510.82</td>\n",
       "      <td>1</td>\n",
       "      <td>1</td>\n",
       "      <td>1</td>\n",
       "      <td>79084.10</td>\n",
       "      <td>0</td>\n",
       "      <td>0</td>\n",
       "      <td>1</td>\n",
       "      <td>0</td>\n",
       "    </tr>\n",
       "    <tr>\n",
       "      <th>...</th>\n",
       "      <td>...</td>\n",
       "      <td>...</td>\n",
       "      <td>...</td>\n",
       "      <td>...</td>\n",
       "      <td>...</td>\n",
       "      <td>...</td>\n",
       "      <td>...</td>\n",
       "      <td>...</td>\n",
       "      <td>...</td>\n",
       "      <td>...</td>\n",
       "      <td>...</td>\n",
       "      <td>...</td>\n",
       "    </tr>\n",
       "    <tr>\n",
       "      <th>9995</th>\n",
       "      <td>771</td>\n",
       "      <td>39</td>\n",
       "      <td>5.0</td>\n",
       "      <td>0.00</td>\n",
       "      <td>2</td>\n",
       "      <td>1</td>\n",
       "      <td>0</td>\n",
       "      <td>96270.64</td>\n",
       "      <td>0</td>\n",
       "      <td>0</td>\n",
       "      <td>0</td>\n",
       "      <td>1</td>\n",
       "    </tr>\n",
       "    <tr>\n",
       "      <th>9996</th>\n",
       "      <td>516</td>\n",
       "      <td>35</td>\n",
       "      <td>10.0</td>\n",
       "      <td>57369.61</td>\n",
       "      <td>1</td>\n",
       "      <td>1</td>\n",
       "      <td>1</td>\n",
       "      <td>101699.77</td>\n",
       "      <td>0</td>\n",
       "      <td>0</td>\n",
       "      <td>0</td>\n",
       "      <td>1</td>\n",
       "    </tr>\n",
       "    <tr>\n",
       "      <th>9997</th>\n",
       "      <td>709</td>\n",
       "      <td>36</td>\n",
       "      <td>7.0</td>\n",
       "      <td>0.00</td>\n",
       "      <td>1</td>\n",
       "      <td>0</td>\n",
       "      <td>1</td>\n",
       "      <td>42085.58</td>\n",
       "      <td>1</td>\n",
       "      <td>0</td>\n",
       "      <td>0</td>\n",
       "      <td>0</td>\n",
       "    </tr>\n",
       "    <tr>\n",
       "      <th>9998</th>\n",
       "      <td>772</td>\n",
       "      <td>42</td>\n",
       "      <td>3.0</td>\n",
       "      <td>75075.31</td>\n",
       "      <td>2</td>\n",
       "      <td>1</td>\n",
       "      <td>0</td>\n",
       "      <td>92888.52</td>\n",
       "      <td>1</td>\n",
       "      <td>1</td>\n",
       "      <td>0</td>\n",
       "      <td>1</td>\n",
       "    </tr>\n",
       "    <tr>\n",
       "      <th>9999</th>\n",
       "      <td>792</td>\n",
       "      <td>28</td>\n",
       "      <td>5.0</td>\n",
       "      <td>130142.79</td>\n",
       "      <td>1</td>\n",
       "      <td>1</td>\n",
       "      <td>0</td>\n",
       "      <td>38190.78</td>\n",
       "      <td>0</td>\n",
       "      <td>0</td>\n",
       "      <td>0</td>\n",
       "      <td>0</td>\n",
       "    </tr>\n",
       "  </tbody>\n",
       "</table>\n",
       "<p>10000 rows × 12 columns</p>\n",
       "</div>"
      ],
      "text/plain": [
       "      CreditScore  Age  Tenure    Balance  NumOfProducts  HasCrCard  \\\n",
       "0             619   42     2.0       0.00              1          1   \n",
       "1             608   41     1.0   83807.86              1          0   \n",
       "2             502   42     8.0  159660.80              3          1   \n",
       "3             699   39     1.0       0.00              2          0   \n",
       "4             850   43     2.0  125510.82              1          1   \n",
       "...           ...  ...     ...        ...            ...        ...   \n",
       "9995          771   39     5.0       0.00              2          1   \n",
       "9996          516   35    10.0   57369.61              1          1   \n",
       "9997          709   36     7.0       0.00              1          0   \n",
       "9998          772   42     3.0   75075.31              2          1   \n",
       "9999          792   28     5.0  130142.79              1          1   \n",
       "\n",
       "      IsActiveMember  EstimatedSalary  Exited  Geography_Germany  \\\n",
       "0                  1        101348.88       1                  0   \n",
       "1                  1        112542.58       0                  0   \n",
       "2                  0        113931.57       1                  0   \n",
       "3                  0         93826.63       0                  0   \n",
       "4                  1         79084.10       0                  0   \n",
       "...              ...              ...     ...                ...   \n",
       "9995               0         96270.64       0                  0   \n",
       "9996               1        101699.77       0                  0   \n",
       "9997               1         42085.58       1                  0   \n",
       "9998               0         92888.52       1                  1   \n",
       "9999               0         38190.78       0                  0   \n",
       "\n",
       "      Geography_Spain  Gender_Male  \n",
       "0                   0            0  \n",
       "1                   1            0  \n",
       "2                   0            0  \n",
       "3                   0            0  \n",
       "4                   1            0  \n",
       "...               ...          ...  \n",
       "9995                0            1  \n",
       "9996                0            1  \n",
       "9997                0            0  \n",
       "9998                0            1  \n",
       "9999                0            0  \n",
       "\n",
       "[10000 rows x 12 columns]"
      ]
     },
     "execution_count": 12,
     "metadata": {},
     "output_type": "execute_result"
    }
   ],
   "source": [
    "#код ревюьера\n",
    "df_ohe"
   ]
  },
  {
   "cell_type": "markdown",
   "metadata": {},
   "source": [
    "<div class=\"alert alert-block alert-danger\">\n",
    "<h2> Комментарий ревьюера <a class=\"tocSkip\"></h2>\n",
    "  \n",
    "<b>На доработку🤔:</b>\n",
    " \n",
    "Здесь необходимо перед энкодингом удалить все лишние колонки: фамилии, айдишники, порядковые номера - все, что модель будет видеть только по одному разу. Обучиться на этом она не сможет.\n",
    "    \n",
    "Фамилии попали в энкодинг, теперь у нас около 3000 колонок, 99% из которых бесполезны (слабо вредны) для моделей.\n",
    "\n",
    "</div>\n"
   ]
  },
  {
   "cell_type": "markdown",
   "metadata": {},
   "source": [
    "<div class=\"alert alert-block alert-info\">\n",
    "\n",
    "V1: Подправил\n",
    "    \n",
    "</div>"
   ]
  },
  {
   "cell_type": "code",
   "execution_count": 13,
   "metadata": {},
   "outputs": [],
   "source": [
    "# Получаем признак и цель \n",
    "features = df_ohe.drop('Exited', axis=1)\n",
    "target = df_ohe['Exited']"
   ]
  },
  {
   "cell_type": "code",
   "execution_count": 14,
   "metadata": {},
   "outputs": [],
   "source": [
    "# Как обычно, будем разделять 60% данных для обучающей выборки, а features_temp и target_temp будут временным датафреймом\n",
    "features_train, features_temp, target_train, target_temp = train_test_split(features, target, test_size= (1 - 0.6), random_state=12345) "
   ]
  },
  {
   "cell_type": "code",
   "execution_count": 15,
   "metadata": {},
   "outputs": [],
   "source": [
    "# А тестовая и валидационная - по 20% данных\n",
    "features_valid, features_test, target_valid, target_test = train_test_split(features_temp, target_temp, test_size=(1 - 0.5), random_state=12345)"
   ]
  },
  {
   "cell_type": "markdown",
   "metadata": {},
   "source": [
    "<div class=\"alert alert-warning\">\n",
    "<h2> Комментарий ревьюера <a class=\"tocSkip\"> </h2>\n",
    "    \n",
    "<b>Некоторые замечания и рекомендации💡:</b> \n",
    "\n",
    "С разбиением на выборки согласен. Размер выборок можно указывать без математических операций. Во втором случае особенно странно выглядит, почему бы не написать 0.5?\n",
    "       \n",
    "</div>"
   ]
  },
  {
   "cell_type": "markdown",
   "metadata": {},
   "source": [
    "<div class=\"alert alert-block alert-info\">\n",
    "\n",
    "V1: Постарался написать код более читабельным\n",
    "    \n",
    "</div>"
   ]
  },
  {
   "cell_type": "code",
   "execution_count": 16,
   "metadata": {},
   "outputs": [],
   "source": [
    "# Вызов библиотеки для отключения предупреждения\n",
    "import warnings\n",
    "warnings.filterwarnings('ignore')"
   ]
  },
  {
   "cell_type": "code",
   "execution_count": 17,
   "metadata": {},
   "outputs": [],
   "source": [
    "# Масштабируем признаки: обучающую, валидационную и тестовую выборку\n",
    "scaler = StandardScaler()\n",
    "\n",
    "# Выберем подходящие признаки по порядку (количественные, а не категориальные)\n",
    "numeric = ['CreditScore', 'Age', 'Balance', 'EstimatedSalary']\n",
    "\n",
    "scaler.fit(features_train[numeric])\n",
    "\n",
    "# Преобразуем обучающую, валидационную и тестовую выборки функцией transform()\n",
    "features_train[numeric] = scaler.transform(features_train[numeric])\n",
    "features_valid[numeric] = scaler.transform(features_valid[numeric])\n",
    "features_test[numeric] = scaler.transform(features_test[numeric])\n",
    "\n",
    "# Чтобы предупреждение не появлялось\n",
    "pd.options.mode.chained_assignment = None"
   ]
  },
  {
   "cell_type": "markdown",
   "metadata": {},
   "source": [
    "<div class=\"alert alert-success\">\n",
    "<h2> Комментарий ревьюера <a class=\"tocSkip\"> </h2>\n",
    "\n",
    "👍 Отлично. я бы убрал предупреждения. `warnings.filterwarnings('ignore')` после `import warnings`.\n",
    "</div>"
   ]
  },
  {
   "cell_type": "markdown",
   "metadata": {},
   "source": [
    "<div class=\"alert alert-block alert-info\">\n",
    "\n",
    "V1: Добавлена еще библиотека\n",
    "    \n",
    "</div>"
   ]
  },
  {
   "cell_type": "code",
   "execution_count": 18,
   "metadata": {},
   "outputs": [
    {
     "name": "stdout",
     "output_type": "stream",
     "text": [
      "(6000, 11)\n",
      "(2000, 11)\n",
      "(2000, 11)\n"
     ]
    }
   ],
   "source": [
    "# Проверим\n",
    "print(features_train.shape)\n",
    "print(features_valid.shape)\n",
    "print(features_test.shape)"
   ]
  },
  {
   "cell_type": "code",
   "execution_count": 19,
   "metadata": {},
   "outputs": [
    {
     "data": {
      "text/html": [
       "<div>\n",
       "<style scoped>\n",
       "    .dataframe tbody tr th:only-of-type {\n",
       "        vertical-align: middle;\n",
       "    }\n",
       "\n",
       "    .dataframe tbody tr th {\n",
       "        vertical-align: top;\n",
       "    }\n",
       "\n",
       "    .dataframe thead th {\n",
       "        text-align: right;\n",
       "    }\n",
       "</style>\n",
       "<table border=\"1\" class=\"dataframe\">\n",
       "  <thead>\n",
       "    <tr style=\"text-align: right;\">\n",
       "      <th></th>\n",
       "      <th>CreditScore</th>\n",
       "      <th>Age</th>\n",
       "      <th>Tenure</th>\n",
       "      <th>Balance</th>\n",
       "      <th>NumOfProducts</th>\n",
       "      <th>HasCrCard</th>\n",
       "      <th>IsActiveMember</th>\n",
       "      <th>EstimatedSalary</th>\n",
       "      <th>Geography_Germany</th>\n",
       "      <th>Geography_Spain</th>\n",
       "      <th>Gender_Male</th>\n",
       "    </tr>\n",
       "  </thead>\n",
       "  <tbody>\n",
       "    <tr>\n",
       "      <th>7479</th>\n",
       "      <td>-0.886751</td>\n",
       "      <td>-0.373192</td>\n",
       "      <td>8.0</td>\n",
       "      <td>1.232271</td>\n",
       "      <td>1</td>\n",
       "      <td>1</td>\n",
       "      <td>0</td>\n",
       "      <td>-0.187705</td>\n",
       "      <td>0</td>\n",
       "      <td>1</td>\n",
       "      <td>1</td>\n",
       "    </tr>\n",
       "    <tr>\n",
       "      <th>3411</th>\n",
       "      <td>0.608663</td>\n",
       "      <td>-0.183385</td>\n",
       "      <td>8.0</td>\n",
       "      <td>0.600563</td>\n",
       "      <td>1</td>\n",
       "      <td>0</td>\n",
       "      <td>0</td>\n",
       "      <td>-0.333945</td>\n",
       "      <td>0</td>\n",
       "      <td>0</td>\n",
       "      <td>0</td>\n",
       "    </tr>\n",
       "    <tr>\n",
       "      <th>6027</th>\n",
       "      <td>2.052152</td>\n",
       "      <td>0.480939</td>\n",
       "      <td>3.0</td>\n",
       "      <td>1.027098</td>\n",
       "      <td>2</td>\n",
       "      <td>0</td>\n",
       "      <td>1</td>\n",
       "      <td>1.503095</td>\n",
       "      <td>1</td>\n",
       "      <td>0</td>\n",
       "      <td>1</td>\n",
       "    </tr>\n",
       "    <tr>\n",
       "      <th>1247</th>\n",
       "      <td>-1.457915</td>\n",
       "      <td>-1.417129</td>\n",
       "      <td>6.0</td>\n",
       "      <td>-1.233163</td>\n",
       "      <td>2</td>\n",
       "      <td>1</td>\n",
       "      <td>0</td>\n",
       "      <td>-1.071061</td>\n",
       "      <td>0</td>\n",
       "      <td>0</td>\n",
       "      <td>1</td>\n",
       "    </tr>\n",
       "    <tr>\n",
       "      <th>3716</th>\n",
       "      <td>0.130961</td>\n",
       "      <td>-1.132419</td>\n",
       "      <td>2.0</td>\n",
       "      <td>1.140475</td>\n",
       "      <td>1</td>\n",
       "      <td>0</td>\n",
       "      <td>0</td>\n",
       "      <td>1.524268</td>\n",
       "      <td>1</td>\n",
       "      <td>0</td>\n",
       "      <td>0</td>\n",
       "    </tr>\n",
       "  </tbody>\n",
       "</table>\n",
       "</div>"
      ],
      "text/plain": [
       "      CreditScore       Age  Tenure   Balance  NumOfProducts  HasCrCard  \\\n",
       "7479    -0.886751 -0.373192     8.0  1.232271              1          1   \n",
       "3411     0.608663 -0.183385     8.0  0.600563              1          0   \n",
       "6027     2.052152  0.480939     3.0  1.027098              2          0   \n",
       "1247    -1.457915 -1.417129     6.0 -1.233163              2          1   \n",
       "3716     0.130961 -1.132419     2.0  1.140475              1          0   \n",
       "\n",
       "      IsActiveMember  EstimatedSalary  Geography_Germany  Geography_Spain  \\\n",
       "7479               0        -0.187705                  0                1   \n",
       "3411               0        -0.333945                  0                0   \n",
       "6027               1         1.503095                  1                0   \n",
       "1247               0        -1.071061                  0                0   \n",
       "3716               0         1.524268                  1                0   \n",
       "\n",
       "      Gender_Male  \n",
       "7479            1  \n",
       "3411            0  \n",
       "6027            1  \n",
       "1247            1  \n",
       "3716            0  "
      ]
     },
     "execution_count": 19,
     "metadata": {},
     "output_type": "execute_result"
    }
   ],
   "source": [
    "features_train.head()"
   ]
  },
  {
   "cell_type": "markdown",
   "metadata": {},
   "source": [
    "<div class=\"alert alert-warning\">\n",
    "<h2> Комментарий ревьюера <a class=\"tocSkip\"> </h2>\n",
    "    \n",
    "<b>Некоторые замечания и рекомендации💡:</b> \n",
    "\n",
    "Здесь видно, что RowNumber\tCustomerId нужно удалить. Для линейных моделей при остальных отмасштабированных признаках такие огромные значения CustomerId будут катастрофой и невозможностью схождения функции.\n",
    "       \n",
    "</div>\n"
   ]
  },
  {
   "cell_type": "markdown",
   "metadata": {},
   "source": [
    "<div class=\"alert alert-block alert-info\">\n",
    "\n",
    "V1: Здесь уже надо получается делать так:\n",
    "    \n",
    "    features_train[['CreditScore', 'Age', 'Tenure', 'Balance', 'NumOfProducts', 'HasCrCard', 'IsActiveMember', 'EstimatedSalary']]\n",
    "    \n",
    "</div>"
   ]
  },
  {
   "cell_type": "code",
   "execution_count": 20,
   "metadata": {},
   "outputs": [],
   "source": [
    "example_1 = features_train[['CreditScore', 'Age', 'Tenure', 'Balance', 'NumOfProducts', 'HasCrCard', 'IsActiveMember', 'EstimatedSalary']]"
   ]
  },
  {
   "cell_type": "code",
   "execution_count": 21,
   "metadata": {},
   "outputs": [
    {
     "data": {
      "text/html": [
       "<div>\n",
       "<style scoped>\n",
       "    .dataframe tbody tr th:only-of-type {\n",
       "        vertical-align: middle;\n",
       "    }\n",
       "\n",
       "    .dataframe tbody tr th {\n",
       "        vertical-align: top;\n",
       "    }\n",
       "\n",
       "    .dataframe thead th {\n",
       "        text-align: right;\n",
       "    }\n",
       "</style>\n",
       "<table border=\"1\" class=\"dataframe\">\n",
       "  <thead>\n",
       "    <tr style=\"text-align: right;\">\n",
       "      <th></th>\n",
       "      <th>CreditScore</th>\n",
       "      <th>Age</th>\n",
       "      <th>Tenure</th>\n",
       "      <th>Balance</th>\n",
       "      <th>NumOfProducts</th>\n",
       "      <th>HasCrCard</th>\n",
       "      <th>IsActiveMember</th>\n",
       "      <th>EstimatedSalary</th>\n",
       "    </tr>\n",
       "  </thead>\n",
       "  <tbody>\n",
       "    <tr>\n",
       "      <th>7479</th>\n",
       "      <td>-0.886751</td>\n",
       "      <td>-0.373192</td>\n",
       "      <td>8.0</td>\n",
       "      <td>1.232271</td>\n",
       "      <td>1</td>\n",
       "      <td>1</td>\n",
       "      <td>0</td>\n",
       "      <td>-0.187705</td>\n",
       "    </tr>\n",
       "    <tr>\n",
       "      <th>3411</th>\n",
       "      <td>0.608663</td>\n",
       "      <td>-0.183385</td>\n",
       "      <td>8.0</td>\n",
       "      <td>0.600563</td>\n",
       "      <td>1</td>\n",
       "      <td>0</td>\n",
       "      <td>0</td>\n",
       "      <td>-0.333945</td>\n",
       "    </tr>\n",
       "    <tr>\n",
       "      <th>6027</th>\n",
       "      <td>2.052152</td>\n",
       "      <td>0.480939</td>\n",
       "      <td>3.0</td>\n",
       "      <td>1.027098</td>\n",
       "      <td>2</td>\n",
       "      <td>0</td>\n",
       "      <td>1</td>\n",
       "      <td>1.503095</td>\n",
       "    </tr>\n",
       "    <tr>\n",
       "      <th>1247</th>\n",
       "      <td>-1.457915</td>\n",
       "      <td>-1.417129</td>\n",
       "      <td>6.0</td>\n",
       "      <td>-1.233163</td>\n",
       "      <td>2</td>\n",
       "      <td>1</td>\n",
       "      <td>0</td>\n",
       "      <td>-1.071061</td>\n",
       "    </tr>\n",
       "    <tr>\n",
       "      <th>3716</th>\n",
       "      <td>0.130961</td>\n",
       "      <td>-1.132419</td>\n",
       "      <td>2.0</td>\n",
       "      <td>1.140475</td>\n",
       "      <td>1</td>\n",
       "      <td>0</td>\n",
       "      <td>0</td>\n",
       "      <td>1.524268</td>\n",
       "    </tr>\n",
       "  </tbody>\n",
       "</table>\n",
       "</div>"
      ],
      "text/plain": [
       "      CreditScore       Age  Tenure   Balance  NumOfProducts  HasCrCard  \\\n",
       "7479    -0.886751 -0.373192     8.0  1.232271              1          1   \n",
       "3411     0.608663 -0.183385     8.0  0.600563              1          0   \n",
       "6027     2.052152  0.480939     3.0  1.027098              2          0   \n",
       "1247    -1.457915 -1.417129     6.0 -1.233163              2          1   \n",
       "3716     0.130961 -1.132419     2.0  1.140475              1          0   \n",
       "\n",
       "      IsActiveMember  EstimatedSalary  \n",
       "7479               0        -0.187705  \n",
       "3411               0        -0.333945  \n",
       "6027               1         1.503095  \n",
       "1247               0        -1.071061  \n",
       "3716               0         1.524268  "
      ]
     },
     "execution_count": 21,
     "metadata": {},
     "output_type": "execute_result"
    }
   ],
   "source": [
    "example_1.head()"
   ]
  },
  {
   "cell_type": "markdown",
   "metadata": {},
   "source": [
    "Все в порядке, переходим дальше"
   ]
  },
  {
   "cell_type": "code",
   "execution_count": 22,
   "metadata": {},
   "outputs": [
    {
     "name": "stdout",
     "output_type": "stream",
     "text": [
      "max_depth = 1 : 0.791\n",
      "max_depth = 2 : 0.824\n",
      "max_depth = 3 : 0.838\n",
      "max_depth = 4 : 0.852\n",
      "max_depth = 5 : 0.853\n",
      "max_depth = 6 : 0.858\n",
      "max_depth = 7 : 0.8505\n",
      "max_depth = 8 : 0.85\n",
      "max_depth = 9 : 0.845\n",
      "\n",
      "Accuracy наилучшей модели на валидационной выборке: 0.858\n"
     ]
    }
   ],
   "source": [
    "# Примененим методом решающего дерева, меняя гиперпараметры\n",
    "best_model = None\n",
    "best_result = 0\n",
    "\n",
    "for depth in range(1, 10):\n",
    "    # Обучим модель с заданной глубиной дерева\n",
    "    model = DecisionTreeClassifier(random_state=12345, max_depth=depth) \n",
    "    \n",
    "    # Обучим модель\n",
    "    model.fit(features_train, target_train)\n",
    "    \n",
    "    # Получим предсказания модели\n",
    "    predicted_valid = model.predict(features_valid)\n",
    "    \n",
    "    # Посчитаем качество модели\n",
    "    result = accuracy_score(target_valid, predicted_valid) \n",
    "    \n",
    "    if result > best_result:\n",
    "        best_model = model\n",
    "        best_result = result\n",
    "        best_depth = depth\n",
    "    \n",
    "    print(\"max_depth =\", depth, \": \", end='')\n",
    "    print(result)\n",
    "    \n",
    "print()\n",
    "print(\"Accuracy наилучшей модели на валидационной выборке:\", best_result)"
   ]
  },
  {
   "cell_type": "markdown",
   "metadata": {},
   "source": [
    "<div class=\"alert alert-block alert-danger\">\n",
    "<h2> Комментарий ревьюера <a class=\"tocSkip\"></h2>\n",
    "  \n",
    "<b>На доработку🤔:</b>\n",
    " \n",
    "В дереве и лесе важно подобрать гиперпараметры. В дереве - глубину, в лесе - минимум глубину и количество оценщиков (эстиматоров, деревьев).\n",
    "\n",
    "</div>\n",
    "\n",
    "\n"
   ]
  },
  {
   "cell_type": "markdown",
   "metadata": {},
   "source": [
    "<div class=\"alert alert-block alert-info\">\n",
    "\n",
    "V1: Подправлен: добавлен гиперпараметры\n",
    "    \n",
    "</div>"
   ]
  },
  {
   "cell_type": "code",
   "execution_count": 23,
   "metadata": {},
   "outputs": [
    {
     "data": {
      "text/plain": [
       "array([[1490,   92],\n",
       "       [ 218,  200]], dtype=int64)"
      ]
     },
     "execution_count": 23,
     "metadata": {},
     "output_type": "execute_result"
    }
   ],
   "source": [
    "# Узнаем матрицу ошибок, чтобы выявлять полноту, точность и F1\n",
    "confusion_matrix(target_valid,predicted_valid)"
   ]
  },
  {
   "cell_type": "code",
   "execution_count": 24,
   "metadata": {},
   "outputs": [
    {
     "data": {
      "text/plain": [
       "0.4784688995215311"
      ]
     },
     "execution_count": 24,
     "metadata": {},
     "output_type": "execute_result"
    }
   ],
   "source": [
    "# Выявляем полноту, т.е. долю TP-ответов среди всех, у которых истинная метка 1. \n",
    "# Хорошо, когда значение recall близко к единице: модель хорошо ищет положительные объекты. \n",
    "# Если ближе к нулю — модель надо перепроверить и починить.\n",
    "\n",
    "recall_score(target_valid, predicted_valid)"
   ]
  },
  {
   "cell_type": "markdown",
   "metadata": {},
   "source": [
    "Полнота близка к 1, значит модель неплоха"
   ]
  },
  {
   "cell_type": "code",
   "execution_count": 25,
   "metadata": {},
   "outputs": [
    {
     "data": {
      "text/plain": [
       "0.684931506849315"
      ]
     },
     "execution_count": 25,
     "metadata": {},
     "output_type": "execute_result"
    }
   ],
   "source": [
    "# Выявляем точность, т.е. как много отрицательных ответов нашла модель, пока искала положительные. \n",
    "# Чем больше отрицательных, тем ниже точность.\n",
    "precision_score(target_valid, predicted_valid)"
   ]
  },
  {
   "cell_type": "markdown",
   "metadata": {},
   "source": [
    "Точность близка к 0, но положительное значение, значит присутствуют незначителльное кол-во отрицательных ответов"
   ]
  },
  {
   "cell_type": "code",
   "execution_count": 26,
   "metadata": {},
   "outputs": [
    {
     "data": {
      "text/plain": [
       "0.5633802816901409"
      ]
     },
     "execution_count": 26,
     "metadata": {},
     "output_type": "execute_result"
    }
   ],
   "source": [
    "# Выявляем F1-меру, т.е. соотношение полноты и точности\n",
    "f1_score(target_valid, predicted_valid)"
   ]
  },
  {
   "cell_type": "markdown",
   "metadata": {},
   "source": [
    "Получилось меньше заявленного требования, примерно на  на 12%"
   ]
  },
  {
   "cell_type": "code",
   "execution_count": 28,
   "metadata": {},
   "outputs": [],
   "source": [
    "probabilities_valid = model.predict_proba(features_valid)\n",
    "probabilities_one_valid = probabilities_valid[:, 1]\n",
    "\n",
    "auc_roc = roc_auc_score(target_valid, probabilities_one_valid)"
   ]
  },
  {
   "cell_type": "code",
   "execution_count": 29,
   "metadata": {},
   "outputs": [
    {
     "data": {
      "image/png": "[encoded data removed]",
      "text/plain": [
       "<Figure size 640x480 with 1 Axes>"
      ]
     },
     "metadata": {},
     "output_type": "display_data"
    }
   ],
   "source": [
    "# Изображаем ROC-кривую\n",
    "fpr, tpr, thresholds = roc_curve(target_valid, probabilities_one_valid)\n",
    "\n",
    "plt.figure()\n",
    "\n",
    "plt.plot(fpr, tpr)\n",
    "\n",
    "plt.plot([0, 1], [0, 1], linestyle='--')\n",
    "\n",
    "plt.xlim([0.0, 1.0])\n",
    "plt.ylim([0.0, 1.0])\n",
    "\n",
    "plt.xlabel('False Positive Rate')\n",
    "plt.ylabel('True Positive Rate')\n",
    "\n",
    "plt.title('ROC-кривая')\n",
    "plt.show()"
   ]
  },
  {
   "cell_type": "markdown",
   "metadata": {},
   "source": [
    "<div class=\"alert alert-block alert-danger\">\n",
    "<h2> Комментарий ревьюера <a class=\"tocSkip\"></h2>\n",
    "  \n",
    "<b>На доработку🤔:</b>\n",
    " \n",
    "По проекту нам важно измерять в моделях F1 и ROC_AUC (последнее измеряем по вероятностям классов).\n",
    "</div>\n",
    "\n",
    "\n"
   ]
  },
  {
   "cell_type": "markdown",
   "metadata": {},
   "source": [
    "<div class=\"alert alert-block alert-info\">\n",
    "\n",
    "V1: Добавлены матрицу ошибок, полноту, точность и ROC кривую. А также убрана тестовая выборка\n",
    "    \n",
    "</div>"
   ]
  },
  {
   "cell_type": "code",
   "execution_count": 30,
   "metadata": {},
   "outputs": [
    {
     "name": "stdout",
     "output_type": "stream",
     "text": [
      "Accuracy наилучшей модели на валидационной выборке: 0.85\n"
     ]
    }
   ],
   "source": [
    "# А теперь применим методом случайного леса\n",
    "best_model = None\n",
    "best_result = 0\n",
    "for est in range(1, 11):\n",
    "    # Обучим модель с заданным количеством деревьев\n",
    "    model = RandomForestClassifier(random_state=12345, n_estimators=est) \n",
    "    \n",
    "    # Обучим модель на тренировочной выборке\n",
    "    model.fit(features_train, target_train) \n",
    "    \n",
    "    # Посчитаем качество модели на валидационной выборке\n",
    "    result = model.score(features_valid, target_valid) \n",
    "    \n",
    "    if result > best_result:\n",
    "        # Сохраним наилучшую модель\n",
    "        best_model = model\n",
    "        # Сохраним наилучшее значение метрики accuracy на валидационных данных\n",
    "        best_result = result\n",
    "print(\"Accuracy наилучшей модели на валидационной выборке:\", best_result)"
   ]
  },
  {
   "cell_type": "markdown",
   "metadata": {},
   "source": [
    "<div class=\"alert alert-block alert-danger\">\n",
    "<h2> Комментарий ревьюера <a class=\"tocSkip\"></h2>\n",
    "  \n",
    "<b>На доработку🤔:</b>\n",
    " \n",
    "Важно сразу подбирать лучшие гиперпараметры по F1-мере. Здесь же подбираем по accuracy. Не факт, что оптимизация одного параметра будет означать оптимизации остальных. А в случае с нашим дисбалансом - тем более.\n",
    "\n",
    "</div>\n"
   ]
  },
  {
   "cell_type": "code",
   "execution_count": 31,
   "metadata": {},
   "outputs": [
    {
     "data": {
      "text/plain": [
       "array([[1490,   92],\n",
       "       [ 218,  200]], dtype=int64)"
      ]
     },
     "execution_count": 31,
     "metadata": {},
     "output_type": "execute_result"
    }
   ],
   "source": [
    "# Узнаем матрицу ошибок, чтобы выявлять полноту, точность и F1\n",
    "confusion_matrix(target_valid,predicted_valid)"
   ]
  },
  {
   "cell_type": "code",
   "execution_count": 32,
   "metadata": {},
   "outputs": [
    {
     "data": {
      "text/plain": [
       "0.4784688995215311"
      ]
     },
     "execution_count": 32,
     "metadata": {},
     "output_type": "execute_result"
    }
   ],
   "source": [
    "# Выявляем полноту, т.е. долю TP-ответов среди всех, у которых истинная метка 1. \n",
    "# Хорошо, когда значение recall близко к единице: модель хорошо ищет положительные объекты. \n",
    "# Если ближе к нулю — модель надо перепроверить и починить.\n",
    "\n",
    "recall_score(target_valid, predicted_valid)"
   ]
  },
  {
   "cell_type": "code",
   "execution_count": 33,
   "metadata": {},
   "outputs": [
    {
     "data": {
      "text/plain": [
       "0.684931506849315"
      ]
     },
     "execution_count": 33,
     "metadata": {},
     "output_type": "execute_result"
    }
   ],
   "source": [
    "# Выявляем точность, т.е. как много отрицательных ответов нашла модель, пока искала положительные. \n",
    "# Чем больше отрицательных, тем ниже точность.\n",
    "precision_score(target_valid, predicted_valid)"
   ]
  },
  {
   "cell_type": "code",
   "execution_count": 34,
   "metadata": {},
   "outputs": [
    {
     "data": {
      "text/plain": [
       "0.5633802816901409"
      ]
     },
     "execution_count": 34,
     "metadata": {},
     "output_type": "execute_result"
    }
   ],
   "source": [
    "# Выявляем F1-меру, т.е. соотношение полноты и точности\n",
    "f1_score(target_valid, predicted_valid)"
   ]
  },
  {
   "cell_type": "markdown",
   "metadata": {},
   "source": [
    "Здесь получилось таким же, ничего не поменялось"
   ]
  },
  {
   "cell_type": "markdown",
   "metadata": {},
   "source": [
    "<div class=\"alert alert-block alert-info\">\n",
    "\n",
    "V1: Добавлены матрицу ошибок, полноту, точность и ROC кривую. А также убрана тестовая выборка\n",
    "    \n",
    "</div>"
   ]
  },
  {
   "cell_type": "markdown",
   "metadata": {},
   "source": [
    "<div class=\"alert alert-block alert-danger\">\n",
    "<h2> Комментарий ревьюера <a class=\"tocSkip\"></h2>\n",
    "  \n",
    "<b>На доработку🤔:</b>\n",
    " \n",
    "Мы не имеем права трогать тестовую выборку до тестирования. На тестировании уже смотрим ранее подобранную лучшую модель. Иначе мы будем в той или иной мере подбирать лучшие параметры на тестовой выборке, а о том, как модель будет работать с реальными данными судить не сможем.\n",
    "\n",
    "</div>\n"
   ]
  },
  {
   "cell_type": "code",
   "execution_count": 35,
   "metadata": {
    "scrolled": true
   },
   "outputs": [
    {
     "data": {
      "text/plain": [
       "0.19933333333333333"
      ]
     },
     "execution_count": 35,
     "metadata": {},
     "output_type": "execute_result"
    }
   ],
   "source": [
    "# Проверим модель на адекватность\n",
    "\n",
    "# Устанавливаем стратегию прогноза как \"самый частый случай\", \n",
    "# т.е. частую метку класса в наблюдаемом аргументе target, \n",
    "# переданном для соответствия\n",
    "dummy_model = DummyClassifier(strategy = 'constant', constant=1)\n",
    "\n",
    "# Обучим модель\n",
    "dummy_model.fit(features_train, target_train)\n",
    "\n",
    "# Создаем модель, указав стратению как \"самый частый случай\"\n",
    "DummyClassifier(strategy = 'most_frequent')\n",
    "\n",
    "# Получим предсказания модели\n",
    "dummy_model.predict(features_train)\n",
    "\n",
    "# Посчитаем качество модели\n",
    "dummy_model.score(features_train, target_train)"
   ]
  },
  {
   "cell_type": "code",
   "execution_count": 36,
   "metadata": {},
   "outputs": [
    {
     "data": {
      "text/plain": [
       "0.3491539413949649"
      ]
     },
     "execution_count": 36,
     "metadata": {},
     "output_type": "execute_result"
    }
   ],
   "source": [
    "f1_score(dummy_model.predict(features_test), target_test)"
   ]
  },
  {
   "cell_type": "markdown",
   "metadata": {},
   "source": [
    "Здесь как-то не очень вышло, совсем низкий показатель"
   ]
  },
  {
   "cell_type": "markdown",
   "metadata": {},
   "source": [
    "<div class=\"alert alert-warning\">\n",
    "<h2> Комментарий ревьюера <a class=\"tocSkip\"> </h2>\n",
    "    \n",
    "<b>Некоторые замечания и рекомендации💡:</b> \n",
    "\n",
    "Здесь в дамми-модели я бы предсказал везде «1». Условно говоря, если предсказываем ноль, моделируем ситуацию, когда акцию с бонусами для удержания клиентов решили не проводить. Если предсказываем единицу − решили раздать бонусы вообще всем клиентам. Если в дамми-модели предсказываем по единице, можно подсчитать F1, она не будет зануляться.\n",
    "    \n",
    "`dummy_model = DummyClassifier(strategy='constant', constant=1)\n",
    "dummy_model.fit(features_train, target_train)\n",
    "f1_score(dummy_model.predict(features_test), target_test)`\n",
    "       \n",
    "</div>\n",
    "\n"
   ]
  },
  {
   "cell_type": "markdown",
   "metadata": {},
   "source": [
    "<div class=\"alert alert-block alert-info\">\n",
    "\n",
    "V1: Обновил\n",
    "    \n",
    "</div>"
   ]
  },
  {
   "cell_type": "markdown",
   "metadata": {},
   "source": [
    "Здесь вышло, что оба методы обучения F1-меры показались себя одинаковыми"
   ]
  },
  {
   "cell_type": "markdown",
   "metadata": {},
   "source": [
    " <div class=\"alert alert-warning\">\n",
    "<h2> Комментарий ревьюера <a class=\"tocSkip\"> </h2>\n",
    "    \n",
    "<b>Некоторые замечания и рекомендации💡:</b> \n",
    "\n",
    "Выводы необходимо будет перепроверить и синхронизировать с решениями по коду.\n",
    "       \n",
    "</div>"
   ]
  },
  {
   "cell_type": "markdown",
   "metadata": {},
   "source": [
    "<div class=\"alert alert-block alert-info\">\n",
    "\n",
    "V1: Изменены фрагменты кода и вывод\n",
    "   \n",
    "    \n",
    "</div>"
   ]
  },
  {
   "cell_type": "markdown",
   "metadata": {},
   "source": [
    "## Борьба с дисбалансом"
   ]
  },
  {
   "cell_type": "code",
   "execution_count": 37,
   "metadata": {},
   "outputs": [
    {
     "data": {
      "text/plain": [
       "array([[1490,   92],\n",
       "       [ 218,  200]], dtype=int64)"
      ]
     },
     "execution_count": 37,
     "metadata": {},
     "output_type": "execute_result"
    }
   ],
   "source": [
    "confusion_matrix(target_valid,predicted_valid)"
   ]
  },
  {
   "cell_type": "markdown",
   "metadata": {},
   "source": [
    "Здесь получается, что \n",
    "- TN; FP\n",
    "- FN; TP\n",
    "\n",
    "\n",
    "TN - истинно отрицательные ответы (1443)\n",
    "\n",
    "FP - ложноотрицательные ответы (139)\n",
    "\n",
    "FN - ложноположительные ответы (220)\n",
    "\n",
    "TP - истинно положительные ответы (198)\n",
    "\n",
    "Здесь значения TN намного превысили остальных"
   ]
  },
  {
   "cell_type": "code",
   "execution_count": 38,
   "metadata": {},
   "outputs": [
    {
     "data": {
      "text/plain": [
       "0.4784688995215311"
      ]
     },
     "execution_count": 38,
     "metadata": {},
     "output_type": "execute_result"
    }
   ],
   "source": [
    "# Выявляем полноту, т.е. долю TP-ответов среди всех, у которых истинная метка 1. \n",
    "# Хорошо, когда значение recall близко к единице: модель хорошо ищет положительные объекты. \n",
    "# Если ближе к нулю — модель надо перепроверить и починить.\n",
    "\n",
    "recall_score(target_valid, predicted_valid)"
   ]
  },
  {
   "cell_type": "markdown",
   "metadata": {},
   "source": [
    "Здесь приблизилась к золотой середине, ни плохо, ни слишком идеально"
   ]
  },
  {
   "cell_type": "code",
   "execution_count": 39,
   "metadata": {},
   "outputs": [
    {
     "data": {
      "text/plain": [
       "0.684931506849315"
      ]
     },
     "execution_count": 39,
     "metadata": {},
     "output_type": "execute_result"
    }
   ],
   "source": [
    "# Выявляем точность, т.е. как много отрицательных ответов нашла модель, пока искала положительные. \n",
    "# Чем больше отрицательных, тем ниже точность.\n",
    "precision_score(target_valid, predicted_valid)"
   ]
  },
  {
   "cell_type": "markdown",
   "metadata": {},
   "source": [
    "Здесь точность нам удовлетворит"
   ]
  },
  {
   "cell_type": "code",
   "execution_count": 40,
   "metadata": {},
   "outputs": [
    {
     "data": {
      "text/plain": [
       "0.5633802816901409"
      ]
     },
     "execution_count": 40,
     "metadata": {},
     "output_type": "execute_result"
    }
   ],
   "source": [
    "# Выявляем F1-меру, т.е. соотношение полноты и точности\n",
    "f1_score(target_valid, predicted_valid)"
   ]
  },
  {
   "cell_type": "markdown",
   "metadata": {},
   "source": [
    "Здесь получилось меньше по заявленному требованию - 0.59"
   ]
  },
  {
   "cell_type": "code",
   "execution_count": 41,
   "metadata": {},
   "outputs": [],
   "source": [
    "# Создадим функуцию для контроля выборки\n",
    "def upsample(features, target, repeat):\n",
    "    features_zeros = features[target == 0]\n",
    "    features_ones = features[target == 1]\n",
    "    target_zeros = target[target == 0]\n",
    "    target_ones = target[target == 1]\n",
    "\n",
    "    features_upsampled = pd.concat([features_zeros] + [features_ones] * repeat)\n",
    "    target_upsampled = pd.concat([target_zeros] + [target_ones] * repeat)\n",
    "    \n",
    "    features_upsampled, target_upsampled = shuffle(features_upsampled, target_upsampled, random_state=12345)\n",
    "    \n",
    "    return features_upsampled, target_upsampled"
   ]
  },
  {
   "cell_type": "markdown",
   "metadata": {},
   "source": [
    "<div class=\"alert alert-success\">\n",
    "<h2> Комментарий ревьюера <a class=\"tocSkip\"> </h2>\n",
    "\n",
    "👍 Отлично, что используешь рукописную функцию, но здесь можно все оптимизировать, используя <a href=\"https://imbalanced-learn.org/stable/references/generated/imblearn.over_sampling.SMOTE.html\">SMOTE</a> для увеличения выборки и <a href=\"https://imbalanced-learn.org/stable/references/generated/imblearn.under_sampling.RandomUnderSampler.html\">RandomUnderSampler</a>  для уменьшения. \n",
    "    \n",
    "Апсемплинг делается очень просто:\n",
    "    \n",
    "`oversample = SMOTE(random_state=RANDOM_STATE)`\n",
    "\n",
    "`features_train_up, target_train_up = oversample.fit_resample(features_train_enc, target_train)`\n",
    "    \n",
    "*предварительно импотрировав `from imblearn.over_sampling import SMOTE`\n",
    "\n",
    "**Чтобы импортировать imblearn его сначала требуется проинсталлировать. через `!pip install imblearn`\n",
    "    \n",
    "</div>\n",
    "\n"
   ]
  },
  {
   "cell_type": "markdown",
   "metadata": {},
   "source": [
    "<div class=\"alert alert-block alert-info\">\n",
    "\n",
    "V1: Ок, учту в следующий раз)\n",
    "   \n",
    "    \n",
    "</div>"
   ]
  },
  {
   "cell_type": "code",
   "execution_count": 42,
   "metadata": {},
   "outputs": [],
   "source": [
    "# Вызываем функцию\n",
    "features_upsampled, target_upsampled = upsample(features_train, target_train, 4)"
   ]
  },
  {
   "cell_type": "markdown",
   "metadata": {},
   "source": [
    "<div class=\"alert alert-block alert-danger\">\n",
    "<h2> Комментарий ревьюера <a class=\"tocSkip\"></h2>\n",
    "  \n",
    "<b>На доработку🤔:</b>\n",
    " \n",
    "Здесь ты дублируешь редкий класс в 10 раз. У нас же, как мы увидели раньше, дисбаланс составляет 1:4. То есть, теперь окажется, что бывший редкий класс будет в 2,5 раза чаще встречаться.\n",
    "    \n",
    "Правильно будет довести баланс классов до 1:1, то есть, умножить на 4 (подав такой коэффициент в функцию).\n",
    "\n",
    "</div> \n"
   ]
  },
  {
   "cell_type": "code",
   "execution_count": 43,
   "metadata": {},
   "outputs": [
    {
     "name": "stdout",
     "output_type": "stream",
     "text": [
      "max_depth = 1 : 0.7545\n",
      "max_depth = 2 : 0.765\n",
      "max_depth = 3 : 0.765\n",
      "max_depth = 4 : 0.711\n",
      "max_depth = 5 : 0.8105\n",
      "max_depth = 6 : 0.7665\n",
      "max_depth = 7 : 0.774\n",
      "max_depth = 8 : 0.764\n",
      "max_depth = 9 : 0.768\n",
      "\n",
      "Accuracy наилучшей модели на валидационной выборке: 0.8105\n"
     ]
    }
   ],
   "source": [
    "# Попробуем увеличить F1-меру методом \"Решающего дерева\", меняя гиперпараметры\n",
    "best_model = None\n",
    "best_result = 0\n",
    "\n",
    "for depth in range(1, 10):\n",
    "    # Обучим модель с заданной глубиной дерева\n",
    "    model = DecisionTreeClassifier(random_state=12345, max_depth=depth) \n",
    "    \n",
    "    # Обучим модель\n",
    "    model.fit(features_upsampled, target_upsampled)\n",
    "    \n",
    "    # Получим предсказания модели\n",
    "    predicted_valid = model.predict(features_valid)\n",
    "    \n",
    "    # Посчитаем качество модели\n",
    "    result = accuracy_score(target_valid, predicted_valid) \n",
    "    \n",
    "    if result > best_result:\n",
    "        best_model = model\n",
    "        best_result = result\n",
    "        best_depth = depth\n",
    "    \n",
    "    print(\"max_depth =\", depth, \": \", end='')\n",
    "    print(result)\n",
    "    \n",
    "print()\n",
    "print(\"Accuracy наилучшей модели на валидационной выборке:\", best_result)"
   ]
  },
  {
   "cell_type": "markdown",
   "metadata": {},
   "source": [
    "<div class=\"alert alert-block alert-danger\">\n",
    "<h2> Комментарий ревьюера <a class=\"tocSkip\"></h2>\n",
    "  \n",
    "<b>На доработку🤔:</b>\n",
    " \n",
    "При изменении вводных условий гиперпараметры моделям необходимо подбирать заново.\n",
    "\n",
    "</div>"
   ]
  },
  {
   "cell_type": "code",
   "execution_count": 44,
   "metadata": {},
   "outputs": [
    {
     "name": "stdout",
     "output_type": "stream",
     "text": [
      "F1: 0.5405940594059405\n"
     ]
    }
   ],
   "source": [
    "print(\"F1:\", f1_score(target_valid, predicted_valid))"
   ]
  },
  {
   "cell_type": "markdown",
   "metadata": {},
   "source": [
    "Результат тот же"
   ]
  },
  {
   "cell_type": "markdown",
   "metadata": {},
   "source": [
    "<div class=\"alert alert-block alert-info\">\n",
    "\n",
    "V1: Я перебирал все значения выборки, f1 не изменился\n",
    "    \n",
    "</div>"
   ]
  },
  {
   "cell_type": "code",
   "execution_count": 45,
   "metadata": {},
   "outputs": [
    {
     "name": "stdout",
     "output_type": "stream",
     "text": [
      "max_depth = 9 : 0.7615\n",
      "max_depth = 9 : 0.8115\n",
      "max_depth = 9 : 0.8035\n",
      "max_depth = 9 : 0.825\n",
      "max_depth = 9 : 0.8195\n",
      "max_depth = 9 : 0.8355\n",
      "max_depth = 9 : 0.828\n",
      "max_depth = 9 : 0.843\n",
      "max_depth = 9 : 0.8355\n",
      "max_depth = 9 : 0.846\n",
      "max_depth = 9 : 0.8385\n",
      "max_depth = 9 : 0.845\n",
      "max_depth = 9 : 0.8395\n",
      "max_depth = 9 : 0.8455\n",
      "max_depth = 9 : 0.8415\n",
      "max_depth = 9 : 0.8465\n",
      "max_depth = 9 : 0.844\n",
      "max_depth = 9 : 0.849\n",
      "max_depth = 9 : 0.8455\n",
      "max_depth = 9 : 0.85\n",
      "\n",
      "Accuracy наилучшей модели на валидационной выборке: 0.85\n"
     ]
    }
   ],
   "source": [
    "# А теперь применим методом случайного леса\n",
    "best_model = None\n",
    "best_result = 0\n",
    "for est in range(1, 21):\n",
    "    # Обучим модель с заданным количеством деревьев\n",
    "    model = RandomForestClassifier(random_state=12345, n_estimators=est) \n",
    "    \n",
    "    # Обучим модель на тренировочной выборке\n",
    "    model.fit(features_upsampled, target_upsampled)\n",
    "    \n",
    "    # Посчитаем качество модели на валидационной выборке\n",
    "    result = model.score(features_valid, target_valid) \n",
    "    \n",
    "    if result > best_result:\n",
    "        # Сохраним наилучшую модель\n",
    "        best_model = model\n",
    "        # Сохраним наилучшее значение метрики accuracy на валидационных данных\n",
    "        best_result = result\n",
    "        \n",
    "    print(\"max_depth =\", depth, \": \", end='')\n",
    "    print(result)\n",
    "\n",
    "print()\n",
    "print(\"Accuracy наилучшей модели на валидационной выборке:\", best_result)"
   ]
  },
  {
   "cell_type": "code",
   "execution_count": 46,
   "metadata": {},
   "outputs": [],
   "source": [
    "# Получаем предсказания\n",
    "predicted_valid = model.predict(features_valid)"
   ]
  },
  {
   "cell_type": "code",
   "execution_count": 47,
   "metadata": {},
   "outputs": [
    {
     "name": "stdout",
     "output_type": "stream",
     "text": [
      "F1: 0.5978552278820375\n"
     ]
    }
   ],
   "source": [
    "print(\"F1:\", f1_score(target_valid, predicted_valid))"
   ]
  },
  {
   "cell_type": "markdown",
   "metadata": {},
   "source": [
    "Наконец-то добились ожидаемого результата!"
   ]
  },
  {
   "cell_type": "code",
   "execution_count": 48,
   "metadata": {},
   "outputs": [],
   "source": [
    "# Создадим функцию, которая будет уменьшать выборки\n",
    "def downsample(features, target, fraction):\n",
    "    features_zeros = features[target == 0]\n",
    "    features_ones = features[target == 1]\n",
    "    target_zeros = target[target == 0]\n",
    "    target_ones = target[target == 1]\n",
    "\n",
    "    features_downsampled = pd.concat(\n",
    "        [features_zeros.sample(frac=fraction, random_state=12345)] + [features_ones])\n",
    "    target_downsampled = pd.concat(\n",
    "        [target_zeros.sample(frac=fraction, random_state=12345)] + [target_ones])\n",
    "    \n",
    "    features_downsampled, target_downsampled = shuffle(\n",
    "        features_downsampled, target_downsampled, random_state=12345)\n",
    "    \n",
    "    return features_downsampled, target_downsampled"
   ]
  },
  {
   "cell_type": "code",
   "execution_count": 49,
   "metadata": {},
   "outputs": [],
   "source": [
    "# Вызываем функцию\n",
    "features_downsampled, target_downsampled = downsample(features_train, target_train, 0.4)"
   ]
  },
  {
   "cell_type": "markdown",
   "metadata": {},
   "source": [
    "<div class=\"alert alert-block alert-danger\">\n",
    "<h2> Комментарий ревьюера <a class=\"tocSkip\"></h2>\n",
    "  \n",
    "<b>На доработку🤔:</b>\n",
    " \n",
    "Здесь также нужно делать даунсемплинг в 4 раза, а не в 10\n",
    "\n",
    "</div>"
   ]
  },
  {
   "cell_type": "code",
   "execution_count": 50,
   "metadata": {},
   "outputs": [
    {
     "name": "stdout",
     "output_type": "stream",
     "text": [
      "max_depth = 1 : 0.7545\n",
      "max_depth = 2 : 0.824\n",
      "max_depth = 3 : 0.83\n",
      "max_depth = 4 : 0.8225\n",
      "max_depth = 5 : 0.7925\n",
      "max_depth = 6 : 0.788\n",
      "max_depth = 7 : 0.8045\n",
      "max_depth = 8 : 0.777\n",
      "max_depth = 9 : 0.7805\n",
      "\n",
      "Accuracy наилучшей модели на валидационной выборке: 0.83\n"
     ]
    }
   ],
   "source": [
    "# Попробуем увеличить F1-меру методом \"Решающего дерева\", меняя гиперпараметры\n",
    "best_model = None\n",
    "best_result = 0\n",
    "\n",
    "for depth in range(1, 10):\n",
    "    # Обучим модель с заданной глубиной дерева\n",
    "    model = DecisionTreeClassifier(random_state=12345, max_depth=depth) \n",
    "    \n",
    "    # Обучим модель\n",
    "    model.fit(features_downsampled, target_downsampled)\n",
    "    \n",
    "    # Получим предсказания модели\n",
    "    predicted_valid = model.predict(features_valid)\n",
    "    \n",
    "    # Посчитаем качество модели\n",
    "    result = accuracy_score(target_valid, predicted_valid) \n",
    "    \n",
    "    if result > best_result:\n",
    "        best_model = model\n",
    "        best_result = result\n",
    "        best_depth = depth\n",
    "    \n",
    "    print(\"max_depth =\", depth, \": \", end='')\n",
    "    print(result)\n",
    "    \n",
    "print()\n",
    "print(\"Accuracy наилучшей модели на валидационной выборке:\", best_result)"
   ]
  },
  {
   "cell_type": "code",
   "execution_count": 51,
   "metadata": {},
   "outputs": [
    {
     "name": "stdout",
     "output_type": "stream",
     "text": [
      "F1: 0.5254054054054054\n"
     ]
    }
   ],
   "source": [
    "print(\"F1:\", f1_score(target_valid, predicted_valid))"
   ]
  },
  {
   "cell_type": "markdown",
   "metadata": {},
   "source": [
    "Результат тот же, как у этого метода - случайного леса с увеличением выборком"
   ]
  },
  {
   "cell_type": "code",
   "execution_count": 52,
   "metadata": {},
   "outputs": [],
   "source": [
    "# А теперь применим методом случайного леса\n",
    "best_model = None\n",
    "best_result = 0\n",
    "for est in range(1, 11):\n",
    "    # Обучим модель с заданным количеством деревьев\n",
    "    model = RandomForestClassifier(random_state=12345, n_estimators=est) \n",
    "    \n",
    "    # Обучим модель на тренировочной выборке\n",
    "    model.fit(features_downsampled, target_downsampled)\n",
    "    \n",
    "    # Посчитаем качество модели на валидационной выборке\n",
    "    result = model.score(features_valid, target_valid) \n",
    "    \n",
    "    if result > best_result:\n",
    "        # Сохраним наилучшую модель\n",
    "        best_model = model\n",
    "        # Сохраним наилучшее значение метрики accuracy на валидационных данных\n",
    "        best_result = result\n",
    "\n",
    "# Получаем предсказания\n",
    "predicted_valid = model.predict(features_valid)"
   ]
  },
  {
   "cell_type": "code",
   "execution_count": 53,
   "metadata": {},
   "outputs": [
    {
     "name": "stdout",
     "output_type": "stream",
     "text": [
      "F1: 0.574635241301908\n"
     ]
    }
   ],
   "source": [
    "print(\"F1:\", f1_score(target_valid, predicted_valid))"
   ]
  },
  {
   "cell_type": "markdown",
   "metadata": {},
   "source": [
    "Немножко снизился, на 2% заявленного требования"
   ]
  },
  {
   "cell_type": "code",
   "execution_count": 54,
   "metadata": {},
   "outputs": [
    {
     "name": "stdout",
     "output_type": "stream",
     "text": [
      "Порог = 0.00 | Точность = 0.238, Полнота = 0.945, F1 = 0.38017\n",
      "Порог = 0.02 | Точность = 0.238, Полнота = 0.945, F1 = 0.38017\n",
      "Порог = 0.04 | Точность = 0.238, Полнота = 0.945, F1 = 0.38017\n",
      "Порог = 0.06 | Точность = 0.238, Полнота = 0.945, F1 = 0.38017\n",
      "Порог = 0.08 | Точность = 0.238, Полнота = 0.945, F1 = 0.38017\n",
      "Порог = 0.10 | Точность = 0.287, Полнота = 0.902, F1 = 0.43508\n",
      "Порог = 0.12 | Точность = 0.287, Полнота = 0.902, F1 = 0.43508\n",
      "Порог = 0.14 | Точность = 0.287, Полнота = 0.902, F1 = 0.43508\n",
      "Порог = 0.16 | Точность = 0.287, Полнота = 0.902, F1 = 0.43508\n",
      "Порог = 0.18 | Точность = 0.287, Полнота = 0.902, F1 = 0.43508\n",
      "Порог = 0.20 | Точность = 0.350, Полнота = 0.856, F1 = 0.49653\n",
      "Порог = 0.22 | Точность = 0.350, Полнота = 0.856, F1 = 0.49653\n",
      "Порог = 0.24 | Точность = 0.350, Полнота = 0.856, F1 = 0.49653\n",
      "Порог = 0.26 | Точность = 0.350, Полнота = 0.856, F1 = 0.49653\n",
      "Порог = 0.28 | Точность = 0.350, Полнота = 0.856, F1 = 0.49653\n"
     ]
    }
   ],
   "source": [
    "# Проверим на порог\n",
    "probabilities_valid = model.predict_proba(features_valid)\n",
    "probabilities_one_valid = probabilities_valid[:, 1]\n",
    "\n",
    "for threshold in np.arange(0, 0.3, 0.02):\n",
    "    predicted_valid = probabilities_one_valid > threshold\n",
    "    precision = precision_score(target_valid, predicted_valid)\n",
    "    recall = recall_score(target_valid, predicted_valid)\n",
    "    f1 = f1_score(target_valid, predicted_valid)\n",
    "    \n",
    "    print(\"Порог = {:.2f} | Точность = {:.3f}, Полнота = {:.3f}, F1 = {:.5f}\".format(threshold, precision, recall, f1))"
   ]
  },
  {
   "cell_type": "markdown",
   "metadata": {},
   "source": [
    "<div class=\"alert alert-block alert-info\">\n",
    "\n",
    "~Изменяя значение порога, F1 не так уж сильно меняется, есть у меня недотчеты? Если против, то после того как у меня получится превысить значения 0.58 проведу тестирование (в 4 пункте)?~\n",
    "    \n",
    "</div>"
   ]
  },
  {
   "cell_type": "markdown",
   "metadata": {},
   "source": [
    "Здесь F1 больше 0.59 можно добиться методом: Случайного леса с увеличением выборки или Решающего дерева с понижением выборки. Значит по этому методу будем тестировать модели"
   ]
  },
  {
   "cell_type": "markdown",
   "metadata": {},
   "source": [
    " \n",
    "<div class=\"alert alert-warning\">\n",
    "<h2> Комментарий ревьюера <a class=\"tocSkip\"> </h2>\n",
    "    \n",
    "<b>Некоторые замечания и рекомендации💡:</b> \n",
    "\n",
    "Да, кое-что есть. Хорошие новости в том, что 0.59 в этом проекте, исправив недочеты, подобрав гиперпараметры и выбрав перспективную модель, достичь несложно.\n",
    "       \n",
    "</div>\n"
   ]
  },
  {
   "cell_type": "code",
   "execution_count": 55,
   "metadata": {},
   "outputs": [],
   "source": [
    "# Попробуем увеличить F1-меру методом \"Решающего дерева\", меняя гиперпараметры\n",
    "best_model = None\n",
    "best_result = 0\n",
    "\n",
    "for depth in range(1, 10):\n",
    "    # Обучим модель с заданной глубиной дерева\n",
    "    model = DecisionTreeClassifier(random_state=12345, max_depth=depth) \n",
    "    \n",
    "    # Обучим модель\n",
    "    model.fit(features_downsampled, target_downsampled)\n",
    "    \n",
    "    # Получим предсказания модели\n",
    "    predicted_valid = model.predict(features_valid)"
   ]
  },
  {
   "cell_type": "code",
   "execution_count": 56,
   "metadata": {},
   "outputs": [],
   "source": [
    "probabilities_valid = model.predict_proba(features_valid)\n",
    "probabilities_one_valid = probabilities_valid[:, 1]\n",
    "\n",
    "auc_roc = roc_auc_score(target_valid, probabilities_one_valid)"
   ]
  },
  {
   "cell_type": "code",
   "execution_count": 57,
   "metadata": {},
   "outputs": [
    {
     "data": {
      "text/plain": [
       "0.7696899630411507"
      ]
     },
     "execution_count": 57,
     "metadata": {},
     "output_type": "execute_result"
    }
   ],
   "source": [
    "auc_roc"
   ]
  },
  {
   "cell_type": "code",
   "execution_count": 58,
   "metadata": {},
   "outputs": [
    {
     "data": {
      "image/png": "[encoded data removed]",
      "text/plain": [
       "<Figure size 640x480 with 1 Axes>"
      ]
     },
     "metadata": {},
     "output_type": "display_data"
    }
   ],
   "source": [
    "# Изображаем ROC-кривую\n",
    "fpr, tpr, thresholds = roc_curve(target_valid, probabilities_one_valid)\n",
    "\n",
    "plt.figure()\n",
    "\n",
    "plt.plot(fpr, tpr)\n",
    "\n",
    "plt.plot([0, 1], [0, 1], linestyle='--')\n",
    "\n",
    "plt.xlim([0.0, 1.0])\n",
    "plt.ylim([0.0, 1.0])\n",
    "\n",
    "plt.xlabel('False Positive Rate')\n",
    "plt.ylabel('True Positive Rate')\n",
    "\n",
    "plt.title('ROC-кривая')\n",
    "plt.show()"
   ]
  },
  {
   "cell_type": "code",
   "execution_count": 59,
   "metadata": {},
   "outputs": [],
   "source": [
    "# А теперь применим методом случайного леса\n",
    "best_model = None\n",
    "best_result = 0\n",
    "for est in range(1, 21):\n",
    "    # Обучим модель с заданным количеством деревьев\n",
    "    model = RandomForestClassifier(random_state=12345, n_estimators=est) \n",
    "    \n",
    "    # Обучим модель на тренировочной выборке\n",
    "    model.fit(features_upsampled, target_upsampled)\n",
    "\n",
    "# Получаем предсказания\n",
    "predicted_valid = model.predict(features_valid)"
   ]
  },
  {
   "cell_type": "code",
   "execution_count": 60,
   "metadata": {},
   "outputs": [],
   "source": [
    "probabilities_valid = model.predict_proba(features_valid)\n",
    "probabilities_one_valid = probabilities_valid[:, 1]\n",
    "\n",
    "auc_roc = roc_auc_score(target_valid, probabilities_one_valid)"
   ]
  },
  {
   "cell_type": "code",
   "execution_count": 61,
   "metadata": {},
   "outputs": [
    {
     "data": {
      "text/plain": [
       "0.8241982167808902"
      ]
     },
     "execution_count": 61,
     "metadata": {},
     "output_type": "execute_result"
    }
   ],
   "source": [
    "auc_roc"
   ]
  },
  {
   "cell_type": "code",
   "execution_count": 62,
   "metadata": {},
   "outputs": [
    {
     "data": {
      "image/png": "[encoded data removed]",
      "text/plain": [
       "<Figure size 640x480 with 1 Axes>"
      ]
     },
     "metadata": {},
     "output_type": "display_data"
    }
   ],
   "source": [
    "# Изображаем ROC-кривую\n",
    "fpr, tpr, thresholds = roc_curve(target_valid, probabilities_one_valid)\n",
    "\n",
    "plt.figure()\n",
    "\n",
    "plt.plot(fpr, tpr)\n",
    "\n",
    "plt.plot([0, 1], [0, 1], linestyle='--')\n",
    "\n",
    "plt.xlim([0.0, 1.0])\n",
    "plt.ylim([0.0, 1.0])\n",
    "\n",
    "plt.xlabel('False Positive Rate')\n",
    "plt.ylabel('True Positive Rate')\n",
    "\n",
    "plt.title('ROC-кривая')\n",
    "plt.show()"
   ]
  },
  {
   "cell_type": "markdown",
   "metadata": {},
   "source": [
    "Здесь намного получше, чем методм \"Решающее дерево\" с уменьшением выборки"
   ]
  },
  {
   "cell_type": "markdown",
   "metadata": {},
   "source": [
    "<div class=\"alert alert-block alert-danger\">\n",
    "<h2> Комментарий ревьюера <a class=\"tocSkip\"></h2>\n",
    "  \n",
    "<b>На доработку🤔:</b>\n",
    " \n",
    "Здесь нужно оставить промежуточный комментарий с качеством и гиперпараметрами лучшей модели − той, которую возьмем на тестирование. Если это не модель с лучшим значением F1, то можно пояснить, почему выбрали ее (например, скорость обучения высокая).\n",
    "    \n",
    "После тестирования необходимо будет сделать общий вывод по проекту: описать лучшую модель, ее результаты на тестовой выборке, сравнить модель с константной, прокомментировать, как модель решает задачу бизнеса: здесь можно подсчитать recall и объяснить, какую долю клиентов на отток мы детектируем верно.\n",
    "\n",
    "\n",
    "</div>"
   ]
  },
  {
   "cell_type": "markdown",
   "metadata": {},
   "source": [
    "<div class=\"alert alert-block alert-info\">\n",
    "\n",
    "V1: Исправлен, добавлены вывод, изменение гиперпараметры и тестирование модели\n",
    "    \n",
    "</div>"
   ]
  },
  {
   "cell_type": "markdown",
   "metadata": {},
   "source": [
    "## Тестирование модели"
   ]
  },
  {
   "cell_type": "code",
   "execution_count": 63,
   "metadata": {},
   "outputs": [],
   "source": [
    "# Протестируем модели \"Решающего дерева\" с уменьшением выборки\n",
    "best_model = None\n",
    "best_result = 0\n",
    "\n",
    "for depth in range(1, 10):\n",
    "    # Обучим модель с заданной глубиной дерева\n",
    "    model = DecisionTreeClassifier(random_state=12345, max_depth=depth) \n",
    "    \n",
    "    # Обучим модель\n",
    "    model.fit(features_downsampled, target_downsampled)\n",
    "    \n",
    "    # Получим предсказания модели\n",
    "    predicted_valid = model.predict(features_valid)"
   ]
  },
  {
   "cell_type": "code",
   "execution_count": 64,
   "metadata": {},
   "outputs": [],
   "source": [
    "# Получим предсказания обучающей модели\n",
    "train_predictions = model.predict(features_train)\n",
    "\n",
    "# Получим предсказания тестовой модели\n",
    "test_predictions = model.predict(features_test)"
   ]
  },
  {
   "cell_type": "code",
   "execution_count": 65,
   "metadata": {},
   "outputs": [
    {
     "name": "stdout",
     "output_type": "stream",
     "text": [
      "Accuracy\n",
      "Обучающая выборка: 0.8511666666666666\n",
      "Тестовая выборка: 0.7775\n"
     ]
    }
   ],
   "source": [
    "print(\"Accuracy\")\n",
    "print(\"Обучающая выборка:\", accuracy_score(target_train, train_predictions))\n",
    "print(\"Тестовая выборка:\", accuracy_score(target_test, test_predictions))"
   ]
  },
  {
   "cell_type": "code",
   "execution_count": 66,
   "metadata": {},
   "outputs": [
    {
     "data": {
      "text/plain": [
       "0.5886524822695035"
      ]
     },
     "execution_count": 66,
     "metadata": {},
     "output_type": "execute_result"
    }
   ],
   "source": [
    "# Выявляем полноту, т.е. долю TP-ответов среди всех, у которых истинная метка 1. \n",
    "# Хорошо, когда значение recall близко к единице: модель хорошо ищет положительные объекты. \n",
    "# Если ближе к нулю — модель надо перепроверить и починить.\n",
    "\n",
    "recall_score(target_test, test_predictions)"
   ]
  },
  {
   "cell_type": "markdown",
   "metadata": {},
   "source": [
    "Здесь приблизилась к золотой середине, ни плохо, ни слишком идеально"
   ]
  },
  {
   "cell_type": "code",
   "execution_count": 67,
   "metadata": {},
   "outputs": [
    {
     "data": {
      "text/plain": [
       "0.47884615384615387"
      ]
     },
     "execution_count": 67,
     "metadata": {},
     "output_type": "execute_result"
    }
   ],
   "source": [
    "# Выявляем точность, т.е. как много отрицательных ответов нашла модель, пока искала положительные. \n",
    "# Чем больше отрицательных, тем ниже точность.\n",
    "precision_score(target_test, test_predictions)"
   ]
  },
  {
   "cell_type": "markdown",
   "metadata": {},
   "source": [
    "Здесь тоже вполне устраивает"
   ]
  },
  {
   "cell_type": "code",
   "execution_count": 68,
   "metadata": {},
   "outputs": [
    {
     "data": {
      "text/plain": [
       "0.5254054054054054"
      ]
     },
     "execution_count": 68,
     "metadata": {},
     "output_type": "execute_result"
    }
   ],
   "source": [
    "# Выявляем F1-меру, т.е. соотношение полноты и точности\n",
    "f1_score(target_valid, predicted_valid)"
   ]
  },
  {
   "cell_type": "markdown",
   "metadata": {},
   "source": [
    "Как раз больше 0.59"
   ]
  },
  {
   "cell_type": "code",
   "execution_count": 69,
   "metadata": {},
   "outputs": [],
   "source": [
    "# А теперь протестируем модели случайного леса\n",
    "best_model = None\n",
    "best_result = 0\n",
    "for est in range(1, 21):\n",
    "    # Обучим модель с заданным количеством деревьев\n",
    "    model = RandomForestClassifier(random_state=12345, n_estimators=est) \n",
    "    \n",
    "    # Обучим модель на тренировочной выборке\n",
    "    model.fit(features_upsampled, target_upsampled)\n",
    "\n",
    "# Получаем предсказания\n",
    "predicted_valid = model.predict(features_valid)"
   ]
  },
  {
   "cell_type": "code",
   "execution_count": 70,
   "metadata": {},
   "outputs": [],
   "source": [
    "# Получим предсказания обучающей модели\n",
    "train_predictions = model.predict(features_train)\n",
    "\n",
    "# Получим предсказания тестовой модели\n",
    "test_predictions = model.predict(features_test)"
   ]
  },
  {
   "cell_type": "code",
   "execution_count": 71,
   "metadata": {},
   "outputs": [
    {
     "name": "stdout",
     "output_type": "stream",
     "text": [
      "Accuracy\n",
      "Обучающая выборка: 0.9996666666666667\n",
      "Тестовая выборка: 0.843\n"
     ]
    }
   ],
   "source": [
    "print(\"Accuracy\")\n",
    "print(\"Обучающая выборка:\", accuracy_score(target_train, train_predictions))\n",
    "print(\"Тестовая выборка:\", accuracy_score(target_test, test_predictions))"
   ]
  },
  {
   "cell_type": "markdown",
   "metadata": {},
   "source": [
    "Здесь модель явно переобучена, да уж плохо. Но тестовая выборка показалась неплохим результатом"
   ]
  },
  {
   "cell_type": "code",
   "execution_count": 72,
   "metadata": {},
   "outputs": [
    {
     "data": {
      "text/plain": [
       "0.5342789598108747"
      ]
     },
     "execution_count": 72,
     "metadata": {},
     "output_type": "execute_result"
    }
   ],
   "source": [
    "# Выявляем полноту, т.е. долю TP-ответов среди всех, у которых истинная метка 1. \n",
    "# Хорошо, когда значение recall близко к единице: модель хорошо ищет положительные объекты. \n",
    "# Если ближе к нулю — модель надо перепроверить и починить.\n",
    "\n",
    "recall_score(target_test, test_predictions)"
   ]
  },
  {
   "cell_type": "markdown",
   "metadata": {},
   "source": [
    "Здесь тоже самое - приблизилась к золотой середине, ни плохо, ни слишком идеально. Но по сравнению предыдующей модели здесь полнота меньше получилась"
   ]
  },
  {
   "cell_type": "code",
   "execution_count": 73,
   "metadata": {},
   "outputs": [
    {
     "data": {
      "text/plain": [
       "0.6588921282798834"
      ]
     },
     "execution_count": 73,
     "metadata": {},
     "output_type": "execute_result"
    }
   ],
   "source": [
    "# Выявляем точность, т.е. как много отрицательных ответов нашла модель, пока искала положительные. \n",
    "# Чем больше отрицательных, тем ниже точность.\n",
    "precision_score(target_test, test_predictions)"
   ]
  },
  {
   "cell_type": "markdown",
   "metadata": {},
   "source": [
    "Здесь точность стала более выше предыдующей"
   ]
  },
  {
   "cell_type": "code",
   "execution_count": 74,
   "metadata": {},
   "outputs": [
    {
     "data": {
      "text/plain": [
       "0.5978552278820375"
      ]
     },
     "execution_count": 74,
     "metadata": {},
     "output_type": "execute_result"
    }
   ],
   "source": [
    "# Выявляем F1-меру, т.е. соотношение полноты и точности\n",
    "f1_score(target_valid, predicted_valid)"
   ]
  },
  {
   "cell_type": "markdown",
   "metadata": {},
   "source": [
    "Как раз больше 0.59"
   ]
  },
  {
   "cell_type": "code",
   "execution_count": 75,
   "metadata": {},
   "outputs": [],
   "source": [
    "# Создадим константную модель\n",
    "target_pred_constant = pd.Series(0, index=target_test.index)"
   ]
  },
  {
   "cell_type": "code",
   "execution_count": 76,
   "metadata": {},
   "outputs": [
    {
     "name": "stdout",
     "output_type": "stream",
     "text": [
      "Accuracy\n",
      "Константная выборка: 0.7885\n"
     ]
    }
   ],
   "source": [
    "print(\"Accuracy\")\n",
    "print(\"Константная выборка:\", accuracy_score(target_test, target_pred_constant))"
   ]
  },
  {
   "cell_type": "code",
   "execution_count": 77,
   "metadata": {},
   "outputs": [
    {
     "data": {
      "text/plain": [
       "0.0"
      ]
     },
     "execution_count": 77,
     "metadata": {},
     "output_type": "execute_result"
    }
   ],
   "source": [
    "# Выявляем F1-меру, т.е. соотношение полноты и точности\n",
    "f1_score(target_test, target_pred_constant)"
   ]
  },
  {
   "cell_type": "markdown",
   "metadata": {},
   "source": [
    "Здесь константная модель получилось 0"
   ]
  },
  {
   "cell_type": "markdown",
   "metadata": {},
   "source": [
    "Вывод\n",
    "\n",
    "Самая оптимальная модель оказалась метод \"Случайного леса\", скорость обучения дает о себе знать, но показатели качества намного уступает \"Решающего дерева\".\n",
    "\n",
    "Чтобы справиться с дисбалансом, мы увеличили и уменьшали (upsampling и downsampling) значение в 4 раза."
   ]
  },
  {
   "cell_type": "markdown",
   "metadata": {},
   "source": [
    "<div style=\"border:solid Chocolate 2px; padding: 40px\">\n",
    "\n",
    "**Общий вывод по проекту**\n",
    "    \n",
    "Спасибо за твой проект! Есть несколько важных моментов, которые необходимо улучшить. Их ты найдешь в разноцветных комментариях.\n",
    "    \n",
    "**Отмечу положительные моменты проекта🚀**\n",
    "    \n",
    "* Хороший выбор моделей, порядок исследования.\n",
    "* Есть пояснения к шагам, код с высокой читаемостью. \n",
    "\n",
    "    \n",
    "**На что стоит обратить внимание🤔**\n",
    "    \n",
    "* Необходимо удалить лишние колонки до энкодинга.\n",
    "* Гиперпараметры моделеям подбираем в каждом случае применения методики борьбы с дисбалансом и в исследовании моделей без учета дисбаланса. Подбираем по F1.\n",
    "* Апсемпилнг нужно довести до баланса классов (1:1, умножаем редкий класс на 4).\n",
    "* Необходимо везде оставлять промежуточные выводы и дополнить итоговый вывод.\n",
    "* Необходимо достичь качества модели F1>0.59\n",
    "* Эти и остальные замечания я также написал по ходу проекта.\n",
    "    \n",
    "**Желаю удачи и жду твой проект на повторное ревью!**😉\n",
    "    \n",
    "    \n",
    "</div>"
   ]
  },
  {
   "cell_type": "markdown",
   "metadata": {},
   "source": [
    "## Чек-лист готовности проекта"
   ]
  },
  {
   "cell_type": "markdown",
   "metadata": {},
   "source": [
    "Поставьте 'x' в выполненных пунктах. Далее нажмите Shift+Enter."
   ]
  },
  {
   "cell_type": "markdown",
   "metadata": {},
   "source": [
    "- [x]  Jupyter Notebook открыт\n",
    "- [x]  Весь код выполняется без ошибок\n",
    "- [x]  Ячейки с кодом расположены в порядке исполнения\n",
    "- [x]  Выполнен шаг 1: данные подготовлены\n",
    "- [x]  Выполнен шаг 2: задача исследована\n",
    "    - [x]  Исследован баланс классов\n",
    "    - [x]  Изучены модели без учёта дисбаланса\n",
    "    - [x]  Написаны выводы по результатам исследования\n",
    "- [x]  Выполнен шаг 3: учтён дисбаланс\n",
    "    - [x]  Применено несколько способов борьбы с дисбалансом\n",
    "    - [x]  Написаны выводы по результатам исследования\n",
    "- [x]  Выполнен шаг 4: проведено тестирование\n",
    "- [x]  Удалось достичь *F1*-меры не менее 0.59\n",
    "- [x]  Исследована метрика *AUC-ROC*"
   ]
  },
  {
   "cell_type": "code",
   "execution_count": null,
   "metadata": {},
   "outputs": [],
   "source": []
  }
 ],
 "metadata": {
  "ExecuteTimeLog": [
   {
    "duration": 1158,
    "start_time": "2023-02-01T18:25:46.085Z"
   },
   {
    "duration": 188,
    "start_time": "2023-02-01T18:27:27.799Z"
   },
   {
    "duration": 49,
    "start_time": "2023-02-01T18:28:44.866Z"
   },
   {
    "duration": 20,
    "start_time": "2023-02-01T18:28:52.167Z"
   },
   {
    "duration": 8,
    "start_time": "2023-02-01T18:36:04.825Z"
   },
   {
    "duration": 3,
    "start_time": "2023-02-01T18:37:53.497Z"
   },
   {
    "duration": 16,
    "start_time": "2023-02-01T18:39:26.960Z"
   },
   {
    "duration": 8,
    "start_time": "2023-02-01T18:39:31.282Z"
   },
   {
    "duration": 4,
    "start_time": "2023-02-01T18:43:00.320Z"
   },
   {
    "duration": 7,
    "start_time": "2023-02-01T18:43:05.001Z"
   },
   {
    "duration": 8,
    "start_time": "2023-02-01T18:43:08.541Z"
   },
   {
    "duration": 199,
    "start_time": "2023-02-01T18:44:30.389Z"
   },
   {
    "duration": 102,
    "start_time": "2023-02-01T18:45:51.216Z"
   },
   {
    "duration": 67,
    "start_time": "2023-02-01T18:45:56.434Z"
   },
   {
    "duration": 34,
    "start_time": "2023-02-01T18:47:43.048Z"
   },
   {
    "duration": 22,
    "start_time": "2023-02-01T18:48:09.783Z"
   },
   {
    "duration": 71,
    "start_time": "2023-02-01T18:48:28.289Z"
   },
   {
    "duration": 64,
    "start_time": "2023-02-01T18:49:02.744Z"
   },
   {
    "duration": 39,
    "start_time": "2023-02-01T18:49:59.986Z"
   },
   {
    "duration": 12,
    "start_time": "2023-02-01T18:50:53.310Z"
   },
   {
    "duration": 3,
    "start_time": "2023-02-01T18:58:33.761Z"
   },
   {
    "duration": 770,
    "start_time": "2023-02-01T19:00:09.679Z"
   },
   {
    "duration": 827,
    "start_time": "2023-02-01T19:01:30.601Z"
   },
   {
    "duration": 817,
    "start_time": "2023-02-01T19:01:38.024Z"
   },
   {
    "duration": 34,
    "start_time": "2023-02-01T19:01:39.522Z"
   },
   {
    "duration": 843,
    "start_time": "2023-02-01T19:03:00.258Z"
   },
   {
    "duration": 763,
    "start_time": "2023-02-01T19:03:21.179Z"
   },
   {
    "duration": 774,
    "start_time": "2023-02-01T19:03:25.764Z"
   },
   {
    "duration": 855,
    "start_time": "2023-02-01T19:03:37.280Z"
   },
   {
    "duration": 16,
    "start_time": "2023-02-01T19:03:39.181Z"
   },
   {
    "duration": 1066,
    "start_time": "2023-02-01T19:06:31.737Z"
   },
   {
    "duration": 25,
    "start_time": "2023-02-01T19:06:33.044Z"
   },
   {
    "duration": 854,
    "start_time": "2023-02-01T19:07:25.517Z"
   },
   {
    "duration": 879,
    "start_time": "2023-02-01T19:07:32.823Z"
   },
   {
    "duration": 907,
    "start_time": "2023-02-01T19:07:36.433Z"
   },
   {
    "duration": 182,
    "start_time": "2023-02-01T19:10:49.679Z"
   },
   {
    "duration": 528,
    "start_time": "2023-02-01T19:17:23.409Z"
   },
   {
    "duration": 64,
    "start_time": "2023-02-01T19:19:12.576Z"
   },
   {
    "duration": 31,
    "start_time": "2023-02-01T19:19:13.383Z"
   },
   {
    "duration": 436,
    "start_time": "2023-02-01T19:20:09.021Z"
   },
   {
    "duration": 412,
    "start_time": "2023-02-01T19:20:29.223Z"
   },
   {
    "duration": 22,
    "start_time": "2023-02-01T19:20:58.403Z"
   },
   {
    "duration": 8,
    "start_time": "2023-02-01T19:21:21.196Z"
   },
   {
    "duration": 15,
    "start_time": "2023-02-01T19:21:25.711Z"
   },
   {
    "duration": 16,
    "start_time": "2023-02-01T19:21:50.379Z"
   },
   {
    "duration": 4,
    "start_time": "2023-02-01T19:22:02.088Z"
   },
   {
    "duration": 61,
    "start_time": "2023-02-01T19:22:03.126Z"
   },
   {
    "duration": 15,
    "start_time": "2023-02-01T19:22:06.797Z"
   },
   {
    "duration": 12,
    "start_time": "2023-02-01T19:22:07.826Z"
   },
   {
    "duration": 223,
    "start_time": "2023-02-01T19:22:09.962Z"
   },
   {
    "duration": 48,
    "start_time": "2023-02-01T19:22:11.019Z"
   },
   {
    "duration": 68,
    "start_time": "2023-02-01T19:22:11.821Z"
   },
   {
    "duration": 24,
    "start_time": "2023-02-01T19:22:12.501Z"
   },
   {
    "duration": 23,
    "start_time": "2023-02-01T19:22:13.484Z"
   },
   {
    "duration": 21,
    "start_time": "2023-02-01T19:23:37.073Z"
   },
   {
    "duration": 26,
    "start_time": "2023-02-01T19:23:48.614Z"
   },
   {
    "duration": 21,
    "start_time": "2023-02-01T19:23:51.901Z"
   },
   {
    "duration": 6,
    "start_time": "2023-02-01T19:24:19.731Z"
   },
   {
    "duration": 4,
    "start_time": "2023-02-01T19:24:32.888Z"
   },
   {
    "duration": 5,
    "start_time": "2023-02-01T19:24:51.875Z"
   },
   {
    "duration": 41,
    "start_time": "2023-02-01T19:25:08.395Z"
   },
   {
    "duration": 157,
    "start_time": "2023-02-01T19:25:46.374Z"
   },
   {
    "duration": 161,
    "start_time": "2023-02-01T19:26:14.742Z"
   },
   {
    "duration": 8,
    "start_time": "2023-02-01T19:26:19.969Z"
   },
   {
    "duration": 143,
    "start_time": "2023-02-01T19:26:25.194Z"
   },
   {
    "duration": 31,
    "start_time": "2023-02-01T19:28:26.447Z"
   },
   {
    "duration": 11,
    "start_time": "2023-02-01T19:28:33.325Z"
   },
   {
    "duration": 9,
    "start_time": "2023-02-01T19:28:40.594Z"
   },
   {
    "duration": 15,
    "start_time": "2023-02-01T19:28:46.099Z"
   },
   {
    "duration": 148,
    "start_time": "2023-02-01T19:29:03.626Z"
   },
   {
    "duration": 4,
    "start_time": "2023-02-01T19:29:57.996Z"
   },
   {
    "duration": 17,
    "start_time": "2023-02-01T19:35:21.827Z"
   },
   {
    "duration": 30,
    "start_time": "2023-02-01T19:35:29.841Z"
   },
   {
    "duration": 24,
    "start_time": "2023-02-01T19:35:41.474Z"
   },
   {
    "duration": 31,
    "start_time": "2023-02-01T19:35:56.276Z"
   },
   {
    "duration": 5,
    "start_time": "2023-02-01T19:36:05.472Z"
   },
   {
    "duration": 7,
    "start_time": "2023-02-01T19:36:08.145Z"
   },
   {
    "duration": 154,
    "start_time": "2023-02-01T19:38:22.547Z"
   },
   {
    "duration": 5,
    "start_time": "2023-02-01T19:42:16.521Z"
   },
   {
    "duration": 4,
    "start_time": "2023-02-01T19:42:26.796Z"
   },
   {
    "duration": 42,
    "start_time": "2023-02-01T19:42:43.803Z"
   },
   {
    "duration": 3,
    "start_time": "2023-02-01T19:42:50.005Z"
   },
   {
    "duration": 50,
    "start_time": "2023-02-01T19:42:50.863Z"
   },
   {
    "duration": 24,
    "start_time": "2023-02-01T19:42:55.559Z"
   },
   {
    "duration": 10,
    "start_time": "2023-02-01T19:42:56.642Z"
   },
   {
    "duration": 4,
    "start_time": "2023-02-01T19:43:00.510Z"
   },
   {
    "duration": 8,
    "start_time": "2023-02-01T19:43:01.055Z"
   },
   {
    "duration": 214,
    "start_time": "2023-02-01T19:43:06.019Z"
   },
   {
    "duration": 66,
    "start_time": "2023-02-01T19:43:06.720Z"
   },
   {
    "duration": 77,
    "start_time": "2023-02-01T19:43:07.338Z"
   },
   {
    "duration": 45,
    "start_time": "2023-02-01T19:43:08.241Z"
   },
   {
    "duration": 24,
    "start_time": "2023-02-01T19:43:09.004Z"
   },
   {
    "duration": 4,
    "start_time": "2023-02-01T19:43:09.694Z"
   },
   {
    "duration": 31,
    "start_time": "2023-02-01T19:43:11.132Z"
   },
   {
    "duration": 5,
    "start_time": "2023-02-01T19:43:13.600Z"
   },
   {
    "duration": 931,
    "start_time": "2023-02-01T19:43:14.168Z"
   },
   {
    "duration": 4,
    "start_time": "2023-02-01T19:43:18.821Z"
   },
   {
    "duration": 930,
    "start_time": "2023-02-01T19:46:02.099Z"
   },
   {
    "duration": 5,
    "start_time": "2023-02-01T19:46:06.694Z"
   },
   {
    "duration": 14,
    "start_time": "2023-02-01T19:46:16.847Z"
   },
   {
    "duration": 5694,
    "start_time": "2023-02-01T19:47:14.022Z"
   },
   {
    "duration": 3,
    "start_time": "2023-02-01T19:47:22.727Z"
   },
   {
    "duration": 4,
    "start_time": "2023-02-01T19:48:49.371Z"
   },
   {
    "duration": 13,
    "start_time": "2023-02-01T19:49:12.858Z"
   },
   {
    "duration": 51,
    "start_time": "2023-02-01T19:52:52.467Z"
   },
   {
    "duration": 5,
    "start_time": "2023-02-01T19:52:55.819Z"
   },
   {
    "duration": 55,
    "start_time": "2023-02-01T19:53:22.245Z"
   },
   {
    "duration": 56,
    "start_time": "2023-02-01T19:53:29.148Z"
   },
   {
    "duration": 56,
    "start_time": "2023-02-01T19:53:37.417Z"
   },
   {
    "duration": 876,
    "start_time": "2023-02-01T19:53:41.518Z"
   },
   {
    "duration": 18,
    "start_time": "2023-02-01T19:53:42.447Z"
   },
   {
    "duration": 47,
    "start_time": "2023-02-01T19:53:43.317Z"
   },
   {
    "duration": 5767,
    "start_time": "2023-02-01T19:53:46.901Z"
   },
   {
    "duration": 3,
    "start_time": "2023-02-01T19:53:52.679Z"
   },
   {
    "duration": 7,
    "start_time": "2023-02-01T19:53:55.945Z"
   },
   {
    "duration": 55,
    "start_time": "2023-02-01T19:53:59.237Z"
   },
   {
    "duration": 6,
    "start_time": "2023-02-01T19:54:01.501Z"
   },
   {
    "duration": 6,
    "start_time": "2023-02-01T19:56:42.759Z"
   },
   {
    "duration": 13,
    "start_time": "2023-02-01T19:57:02.797Z"
   },
   {
    "duration": 5,
    "start_time": "2023-02-01T19:57:05.114Z"
   },
   {
    "duration": 4,
    "start_time": "2023-02-01T20:01:16.541Z"
   },
   {
    "duration": 7,
    "start_time": "2023-02-01T20:01:38.490Z"
   },
   {
    "duration": 9,
    "start_time": "2023-02-01T20:07:26.286Z"
   },
   {
    "duration": 4,
    "start_time": "2023-02-01T20:07:48.575Z"
   },
   {
    "duration": 9,
    "start_time": "2023-02-01T20:07:53.504Z"
   },
   {
    "duration": 67,
    "start_time": "2023-02-01T20:08:35.030Z"
   },
   {
    "duration": 11,
    "start_time": "2023-02-01T20:08:42.268Z"
   },
   {
    "duration": 5,
    "start_time": "2023-02-01T20:12:56.174Z"
   },
   {
    "duration": 6,
    "start_time": "2023-02-01T20:13:09.316Z"
   },
   {
    "duration": 6,
    "start_time": "2023-02-01T20:14:25.329Z"
   },
   {
    "duration": 9,
    "start_time": "2023-02-01T20:20:51.711Z"
   },
   {
    "duration": 4,
    "start_time": "2023-02-01T20:20:58.146Z"
   },
   {
    "duration": 62,
    "start_time": "2023-02-01T20:21:08.861Z"
   },
   {
    "duration": 4,
    "start_time": "2023-02-01T20:21:22.900Z"
   },
   {
    "duration": 6,
    "start_time": "2023-02-01T20:21:39.762Z"
   },
   {
    "duration": 73,
    "start_time": "2023-02-01T20:21:49.704Z"
   },
   {
    "duration": 79,
    "start_time": "2023-02-01T20:22:25.363Z"
   },
   {
    "duration": 101,
    "start_time": "2023-02-01T20:22:34.980Z"
   },
   {
    "duration": 4,
    "start_time": "2023-02-01T20:22:35.589Z"
   },
   {
    "duration": 90,
    "start_time": "2023-02-01T20:22:36.476Z"
   },
   {
    "duration": 5,
    "start_time": "2023-02-01T20:22:43.376Z"
   },
   {
    "duration": 86,
    "start_time": "2023-02-01T20:22:44.676Z"
   },
   {
    "duration": 5,
    "start_time": "2023-02-01T20:23:12.189Z"
   },
   {
    "duration": 5,
    "start_time": "2023-02-01T20:23:16.838Z"
   },
   {
    "duration": 188,
    "start_time": "2023-02-01T20:23:17.572Z"
   },
   {
    "duration": 1484,
    "start_time": "2023-02-01T20:23:27.561Z"
   },
   {
    "duration": 167,
    "start_time": "2023-02-01T20:24:04.879Z"
   },
   {
    "duration": 1332,
    "start_time": "2023-02-01T20:24:21.140Z"
   },
   {
    "duration": 1270,
    "start_time": "2023-02-01T20:24:25.460Z"
   },
   {
    "duration": 7,
    "start_time": "2023-02-01T20:24:26.734Z"
   },
   {
    "duration": 14700,
    "start_time": "2023-02-01T20:25:23.712Z"
   },
   {
    "duration": 64,
    "start_time": "2023-02-01T20:26:04.345Z"
   },
   {
    "duration": 5,
    "start_time": "2023-02-01T20:26:05.642Z"
   },
   {
    "duration": 4,
    "start_time": "2023-02-01T20:27:30.221Z"
   },
   {
    "duration": 4,
    "start_time": "2023-02-01T20:28:04.129Z"
   },
   {
    "duration": 46,
    "start_time": "2023-02-01T20:28:22.789Z"
   },
   {
    "duration": 188,
    "start_time": "2023-02-01T20:28:46.887Z"
   },
   {
    "duration": 9,
    "start_time": "2023-02-01T20:28:56.948Z"
   },
   {
    "duration": 14809,
    "start_time": "2023-02-01T20:29:48.328Z"
   },
   {
    "duration": 1661,
    "start_time": "2023-02-01T20:30:09.334Z"
   },
   {
    "duration": 10,
    "start_time": "2023-02-01T20:30:12.452Z"
   },
   {
    "duration": 11,
    "start_time": "2023-02-01T20:34:16.642Z"
   },
   {
    "duration": 9,
    "start_time": "2023-02-01T20:34:34.345Z"
   },
   {
    "duration": 13,
    "start_time": "2023-02-01T20:34:39.571Z"
   },
   {
    "duration": 4,
    "start_time": "2023-02-01T20:34:54.301Z"
   },
   {
    "duration": 11,
    "start_time": "2023-02-01T20:34:57.103Z"
   },
   {
    "duration": 116,
    "start_time": "2023-02-01T20:35:17.300Z"
   },
   {
    "duration": 5,
    "start_time": "2023-02-01T20:36:56.632Z"
   },
   {
    "duration": 4,
    "start_time": "2023-02-01T20:37:06.216Z"
   },
   {
    "duration": 5,
    "start_time": "2023-02-01T20:37:11.717Z"
   },
   {
    "duration": 57,
    "start_time": "2023-02-01T20:37:16.565Z"
   },
   {
    "duration": 71,
    "start_time": "2023-02-01T20:37:48.644Z"
   },
   {
    "duration": 63,
    "start_time": "2023-02-01T20:37:58.469Z"
   },
   {
    "duration": 67,
    "start_time": "2023-02-01T20:38:06.392Z"
   },
   {
    "duration": 120,
    "start_time": "2023-02-01T20:38:14.391Z"
   },
   {
    "duration": 129,
    "start_time": "2023-02-01T20:38:27.520Z"
   },
   {
    "duration": 4,
    "start_time": "2023-02-01T20:43:28.630Z"
   },
   {
    "duration": 838,
    "start_time": "2023-02-01T20:44:35.501Z"
   },
   {
    "duration": 4,
    "start_time": "2023-02-01T20:44:53.075Z"
   },
   {
    "duration": 922,
    "start_time": "2023-02-01T20:44:56.303Z"
   },
   {
    "duration": 3,
    "start_time": "2023-02-01T20:44:58.112Z"
   },
   {
    "duration": 9,
    "start_time": "2023-02-01T20:47:42.932Z"
   },
   {
    "duration": 469,
    "start_time": "2023-02-01T20:48:03.348Z"
   },
   {
    "duration": 134,
    "start_time": "2023-02-01T20:48:07.488Z"
   },
   {
    "duration": 58,
    "start_time": "2023-02-01T20:52:01.052Z"
   },
   {
    "duration": 2,
    "start_time": "2023-02-01T20:52:16.242Z"
   },
   {
    "duration": 41,
    "start_time": "2023-02-01T20:52:17.357Z"
   },
   {
    "duration": 125,
    "start_time": "2023-02-01T20:52:18.965Z"
   },
   {
    "duration": 4,
    "start_time": "2023-02-01T20:53:07.427Z"
   },
   {
    "duration": 118,
    "start_time": "2023-02-01T20:53:11.123Z"
   },
   {
    "duration": 137,
    "start_time": "2023-02-01T20:53:19.345Z"
   },
   {
    "duration": 218,
    "start_time": "2023-02-01T20:53:38.163Z"
   },
   {
    "duration": 128,
    "start_time": "2023-02-01T20:53:53.480Z"
   },
   {
    "duration": 870,
    "start_time": "2023-02-01T20:53:57.568Z"
   },
   {
    "duration": 3,
    "start_time": "2023-02-01T20:53:59.473Z"
   },
   {
    "duration": 124,
    "start_time": "2023-02-01T20:54:00.472Z"
   },
   {
    "duration": 2,
    "start_time": "2023-02-01T20:54:57.483Z"
   },
   {
    "duration": 1438,
    "start_time": "2023-02-01T20:55:10.981Z"
   },
   {
    "duration": 43,
    "start_time": "2023-02-01T20:55:23.700Z"
   },
   {
    "duration": 12,
    "start_time": "2023-02-01T20:55:29.647Z"
   },
   {
    "duration": 126,
    "start_time": "2023-02-01T20:55:40.893Z"
   },
   {
    "duration": 53,
    "start_time": "2023-02-01T21:00:07.176Z"
   },
   {
    "duration": 62,
    "start_time": "2023-02-01T21:00:12.393Z"
   },
   {
    "duration": 62,
    "start_time": "2023-02-01T21:00:16.817Z"
   },
   {
    "duration": 5,
    "start_time": "2023-02-01T21:00:22.388Z"
   },
   {
    "duration": 65,
    "start_time": "2023-02-01T21:00:22.394Z"
   },
   {
    "duration": 14,
    "start_time": "2023-02-01T21:00:22.464Z"
   },
   {
    "duration": 7,
    "start_time": "2023-02-01T21:00:22.481Z"
   },
   {
    "duration": 7,
    "start_time": "2023-02-01T21:00:22.490Z"
   },
   {
    "duration": 10,
    "start_time": "2023-02-01T21:00:22.499Z"
   },
   {
    "duration": 206,
    "start_time": "2023-02-01T21:00:22.510Z"
   },
   {
    "duration": 63,
    "start_time": "2023-02-01T21:00:22.717Z"
   },
   {
    "duration": 150,
    "start_time": "2023-02-01T21:00:22.782Z"
   },
   {
    "duration": 39,
    "start_time": "2023-02-01T21:00:22.935Z"
   },
   {
    "duration": 24,
    "start_time": "2023-02-01T21:00:22.981Z"
   },
   {
    "duration": 4,
    "start_time": "2023-02-01T21:00:23.007Z"
   },
   {
    "duration": 24,
    "start_time": "2023-02-01T21:00:23.012Z"
   },
   {
    "duration": 880,
    "start_time": "2023-02-01T21:00:23.038Z"
   },
   {
    "duration": 4,
    "start_time": "2023-02-01T21:00:23.920Z"
   },
   {
    "duration": 55,
    "start_time": "2023-02-01T21:00:23.926Z"
   },
   {
    "duration": 5583,
    "start_time": "2023-02-01T21:00:23.983Z"
   },
   {
    "duration": 5,
    "start_time": "2023-02-01T21:00:29.568Z"
   },
   {
    "duration": 52,
    "start_time": "2023-02-01T21:00:29.575Z"
   },
   {
    "duration": 7,
    "start_time": "2023-02-01T21:00:29.629Z"
   },
   {
    "duration": 22,
    "start_time": "2023-02-01T21:00:29.637Z"
   },
   {
    "duration": 10,
    "start_time": "2023-02-01T21:00:29.673Z"
   },
   {
    "duration": 6,
    "start_time": "2023-02-01T21:00:29.684Z"
   },
   {
    "duration": 6,
    "start_time": "2023-02-01T21:00:29.692Z"
   },
   {
    "duration": 4,
    "start_time": "2023-02-01T21:00:29.700Z"
   },
   {
    "duration": 170,
    "start_time": "2023-02-01T21:00:29.706Z"
   },
   {
    "duration": 1349,
    "start_time": "2023-02-01T21:00:29.877Z"
   },
   {
    "duration": 5,
    "start_time": "2023-02-01T21:00:31.229Z"
   },
   {
    "duration": 14915,
    "start_time": "2023-02-01T21:00:31.235Z"
   },
   {
    "duration": 48,
    "start_time": "2023-02-01T21:00:46.163Z"
   },
   {
    "duration": 5,
    "start_time": "2023-02-01T21:00:46.213Z"
   },
   {
    "duration": 6,
    "start_time": "2023-02-01T21:00:46.219Z"
   },
   {
    "duration": 59,
    "start_time": "2023-02-01T21:00:46.227Z"
   },
   {
    "duration": 149,
    "start_time": "2023-02-01T21:00:46.288Z"
   },
   {
    "duration": 5,
    "start_time": "2023-02-01T21:00:46.439Z"
   },
   {
    "duration": 1562,
    "start_time": "2023-02-01T21:00:46.452Z"
   },
   {
    "duration": 5,
    "start_time": "2023-02-01T21:00:48.015Z"
   },
   {
    "duration": 111,
    "start_time": "2023-02-01T21:00:48.022Z"
   },
   {
    "duration": 877,
    "start_time": "2023-02-01T21:00:48.134Z"
   },
   {
    "duration": 3,
    "start_time": "2023-02-01T21:00:49.013Z"
   },
   {
    "duration": 140,
    "start_time": "2023-02-01T21:00:49.017Z"
   },
   {
    "duration": 1452,
    "start_time": "2023-02-01T21:00:49.168Z"
   },
   {
    "duration": 54,
    "start_time": "2023-02-01T21:00:50.622Z"
   },
   {
    "duration": 4,
    "start_time": "2023-02-01T21:00:50.679Z"
   },
   {
    "duration": 133,
    "start_time": "2023-02-01T21:00:50.684Z"
   },
   {
    "duration": 1529,
    "start_time": "2023-02-02T06:59:27.039Z"
   },
   {
    "duration": 186,
    "start_time": "2023-02-02T06:59:28.570Z"
   },
   {
    "duration": 15,
    "start_time": "2023-02-02T06:59:28.757Z"
   },
   {
    "duration": 7,
    "start_time": "2023-02-02T06:59:28.774Z"
   },
   {
    "duration": 7,
    "start_time": "2023-02-02T06:59:28.782Z"
   },
   {
    "duration": 9,
    "start_time": "2023-02-02T06:59:28.791Z"
   },
   {
    "duration": 220,
    "start_time": "2023-02-02T06:59:28.801Z"
   },
   {
    "duration": 75,
    "start_time": "2023-02-02T06:59:29.023Z"
   },
   {
    "duration": 68,
    "start_time": "2023-02-02T06:59:29.100Z"
   },
   {
    "duration": 27,
    "start_time": "2023-02-02T06:59:29.171Z"
   },
   {
    "duration": 29,
    "start_time": "2023-02-02T06:59:29.199Z"
   },
   {
    "duration": 17,
    "start_time": "2023-02-02T06:59:29.229Z"
   },
   {
    "duration": 31,
    "start_time": "2023-02-02T06:59:29.248Z"
   },
   {
    "duration": 809,
    "start_time": "2023-02-02T06:59:29.281Z"
   },
   {
    "duration": 3,
    "start_time": "2023-02-02T06:59:30.092Z"
   },
   {
    "duration": 56,
    "start_time": "2023-02-02T06:59:30.097Z"
   },
   {
    "duration": 5066,
    "start_time": "2023-02-02T06:59:30.154Z"
   },
   {
    "duration": 3,
    "start_time": "2023-02-02T06:59:35.222Z"
   },
   {
    "duration": 76,
    "start_time": "2023-02-02T06:59:35.227Z"
   },
   {
    "duration": 6,
    "start_time": "2023-02-02T06:59:35.305Z"
   },
   {
    "duration": 29,
    "start_time": "2023-02-02T06:59:35.313Z"
   },
   {
    "duration": 10,
    "start_time": "2023-02-02T06:59:35.343Z"
   },
   {
    "duration": 9,
    "start_time": "2023-02-02T06:59:35.354Z"
   },
   {
    "duration": 41,
    "start_time": "2023-02-02T06:59:35.365Z"
   },
   {
    "duration": 10,
    "start_time": "2023-02-02T06:59:35.407Z"
   },
   {
    "duration": 164,
    "start_time": "2023-02-02T06:59:35.419Z"
   },
   {
    "duration": 1169,
    "start_time": "2023-02-02T06:59:35.585Z"
   },
   {
    "duration": 5,
    "start_time": "2023-02-02T06:59:36.757Z"
   },
   {
    "duration": 13806,
    "start_time": "2023-02-02T06:59:36.763Z"
   },
   {
    "duration": 53,
    "start_time": "2023-02-02T06:59:50.570Z"
   },
   {
    "duration": 7,
    "start_time": "2023-02-02T06:59:50.625Z"
   },
   {
    "duration": 28,
    "start_time": "2023-02-02T06:59:50.633Z"
   },
   {
    "duration": 93,
    "start_time": "2023-02-02T06:59:50.663Z"
   },
   {
    "duration": 182,
    "start_time": "2023-02-02T06:59:50.757Z"
   },
   {
    "duration": 5,
    "start_time": "2023-02-02T06:59:50.944Z"
   },
   {
    "duration": 1579,
    "start_time": "2023-02-02T06:59:50.950Z"
   },
   {
    "duration": 5,
    "start_time": "2023-02-02T06:59:52.531Z"
   },
   {
    "duration": 110,
    "start_time": "2023-02-02T06:59:52.543Z"
   },
   {
    "duration": 737,
    "start_time": "2023-02-02T06:59:52.654Z"
   },
   {
    "duration": 4,
    "start_time": "2023-02-02T06:59:53.392Z"
   },
   {
    "duration": 138,
    "start_time": "2023-02-02T06:59:53.398Z"
   },
   {
    "duration": 0,
    "start_time": "2023-02-02T06:59:53.538Z"
   },
   {
    "duration": 0,
    "start_time": "2023-02-02T06:59:53.540Z"
   },
   {
    "duration": 0,
    "start_time": "2023-02-02T06:59:53.541Z"
   },
   {
    "duration": 0,
    "start_time": "2023-02-02T06:59:53.543Z"
   },
   {
    "duration": 5,
    "start_time": "2023-02-02T07:00:36.702Z"
   },
   {
    "duration": 143,
    "start_time": "2023-02-02T07:00:42.449Z"
   },
   {
    "duration": 1721,
    "start_time": "2023-02-02T07:00:43.972Z"
   },
   {
    "duration": 63,
    "start_time": "2023-02-02T07:00:45.695Z"
   },
   {
    "duration": 4,
    "start_time": "2023-02-02T07:00:46.388Z"
   },
   {
    "duration": 119,
    "start_time": "2023-02-02T07:00:47.117Z"
   },
   {
    "duration": 1776,
    "start_time": "2023-02-02T08:13:34.169Z"
   },
   {
    "duration": 52,
    "start_time": "2023-02-02T08:13:35.947Z"
   },
   {
    "duration": 18,
    "start_time": "2023-02-02T08:13:36.001Z"
   },
   {
    "duration": 7,
    "start_time": "2023-02-02T08:13:36.022Z"
   },
   {
    "duration": 27,
    "start_time": "2023-02-02T08:13:36.031Z"
   },
   {
    "duration": 9,
    "start_time": "2023-02-02T08:13:36.060Z"
   },
   {
    "duration": 204,
    "start_time": "2023-02-02T08:13:36.071Z"
   },
   {
    "duration": 25,
    "start_time": "2023-02-02T08:13:36.277Z"
   },
   {
    "duration": 79,
    "start_time": "2023-02-02T08:13:36.304Z"
   },
   {
    "duration": 79,
    "start_time": "2023-02-02T08:13:36.387Z"
   },
   {
    "duration": 34,
    "start_time": "2023-02-02T08:13:36.467Z"
   },
   {
    "duration": 76,
    "start_time": "2023-02-02T08:13:36.503Z"
   },
   {
    "duration": 4,
    "start_time": "2023-02-02T08:13:36.580Z"
   },
   {
    "duration": 89,
    "start_time": "2023-02-02T08:13:36.586Z"
   },
   {
    "duration": 961,
    "start_time": "2023-02-02T08:13:36.677Z"
   },
   {
    "duration": 4,
    "start_time": "2023-02-02T08:13:37.640Z"
   },
   {
    "duration": 48,
    "start_time": "2023-02-02T08:13:37.645Z"
   },
   {
    "duration": 5449,
    "start_time": "2023-02-02T08:13:37.694Z"
   },
   {
    "duration": 4,
    "start_time": "2023-02-02T08:13:43.145Z"
   },
   {
    "duration": 67,
    "start_time": "2023-02-02T08:13:43.150Z"
   },
   {
    "duration": 9,
    "start_time": "2023-02-02T08:13:43.219Z"
   },
   {
    "duration": 19,
    "start_time": "2023-02-02T08:13:43.229Z"
   },
   {
    "duration": 7,
    "start_time": "2023-02-02T08:13:43.249Z"
   },
   {
    "duration": 9,
    "start_time": "2023-02-02T08:13:43.258Z"
   },
   {
    "duration": 9,
    "start_time": "2023-02-02T08:13:43.269Z"
   },
   {
    "duration": 6,
    "start_time": "2023-02-02T08:13:43.279Z"
   },
   {
    "duration": 200,
    "start_time": "2023-02-02T08:13:43.286Z"
   },
   {
    "duration": 1347,
    "start_time": "2023-02-02T08:13:43.488Z"
   },
   {
    "duration": 9,
    "start_time": "2023-02-02T08:13:44.837Z"
   },
   {
    "duration": 14229,
    "start_time": "2023-02-02T08:13:44.847Z"
   },
   {
    "duration": 68,
    "start_time": "2023-02-02T08:13:59.078Z"
   },
   {
    "duration": 5,
    "start_time": "2023-02-02T08:13:59.148Z"
   },
   {
    "duration": 6,
    "start_time": "2023-02-02T08:13:59.154Z"
   },
   {
    "duration": 65,
    "start_time": "2023-02-02T08:13:59.162Z"
   },
   {
    "duration": 187,
    "start_time": "2023-02-02T08:13:59.229Z"
   },
   {
    "duration": 9,
    "start_time": "2023-02-02T08:13:59.418Z"
   },
   {
    "duration": 1769,
    "start_time": "2023-02-02T08:13:59.429Z"
   },
   {
    "duration": 5,
    "start_time": "2023-02-02T08:14:01.200Z"
   },
   {
    "duration": 148,
    "start_time": "2023-02-02T08:14:01.207Z"
   },
   {
    "duration": 927,
    "start_time": "2023-02-02T08:14:01.357Z"
   },
   {
    "duration": 3,
    "start_time": "2023-02-02T08:14:02.286Z"
   },
   {
    "duration": 132,
    "start_time": "2023-02-02T08:14:02.291Z"
   },
   {
    "duration": 1675,
    "start_time": "2023-02-02T08:14:02.427Z"
   },
   {
    "duration": 65,
    "start_time": "2023-02-02T08:14:04.103Z"
   },
   {
    "duration": 3,
    "start_time": "2023-02-02T08:14:04.170Z"
   },
   {
    "duration": 137,
    "start_time": "2023-02-02T08:14:04.175Z"
   },
   {
    "duration": 85,
    "start_time": "2023-02-02T09:00:15.028Z"
   },
   {
    "duration": 52,
    "start_time": "2023-02-02T09:00:25.679Z"
   },
   {
    "duration": 72,
    "start_time": "2023-02-02T09:00:30.059Z"
   },
   {
    "duration": 49,
    "start_time": "2023-02-02T09:00:36.361Z"
   },
   {
    "duration": 62,
    "start_time": "2023-02-02T09:00:42.641Z"
   },
   {
    "duration": 53,
    "start_time": "2023-02-02T09:00:45.427Z"
   },
   {
    "duration": 43,
    "start_time": "2023-02-02T09:01:11.889Z"
   },
   {
    "duration": 55,
    "start_time": "2023-02-02T09:01:17.027Z"
   },
   {
    "duration": 1319,
    "start_time": "2023-02-02T09:01:22.777Z"
   },
   {
    "duration": 107,
    "start_time": "2023-02-02T09:09:56.897Z"
   },
   {
    "duration": 4,
    "start_time": "2023-02-02T09:10:01.630Z"
   },
   {
    "duration": 3,
    "start_time": "2023-02-02T09:10:03.915Z"
   },
   {
    "duration": 70,
    "start_time": "2023-02-02T09:10:07.652Z"
   },
   {
    "duration": 16,
    "start_time": "2023-02-02T09:10:08.964Z"
   },
   {
    "duration": 7,
    "start_time": "2023-02-02T09:10:10.379Z"
   },
   {
    "duration": 5,
    "start_time": "2023-02-02T09:10:11.700Z"
   },
   {
    "duration": 6,
    "start_time": "2023-02-02T09:10:12.980Z"
   },
   {
    "duration": 4,
    "start_time": "2023-02-02T09:10:14.816Z"
   },
   {
    "duration": 7,
    "start_time": "2023-02-02T09:10:16.261Z"
   },
   {
    "duration": 4,
    "start_time": "2023-02-02T09:10:40.933Z"
   },
   {
    "duration": 53,
    "start_time": "2023-02-02T09:10:42.310Z"
   },
   {
    "duration": 11,
    "start_time": "2023-02-02T09:10:43.723Z"
   },
   {
    "duration": 10,
    "start_time": "2023-02-02T09:10:44.572Z"
   },
   {
    "duration": 4,
    "start_time": "2023-02-02T09:10:45.829Z"
   },
   {
    "duration": 7,
    "start_time": "2023-02-02T09:10:47.421Z"
   },
   {
    "duration": 7,
    "start_time": "2023-02-02T09:10:49.741Z"
   },
   {
    "duration": 9,
    "start_time": "2023-02-02T09:10:50.391Z"
   },
   {
    "duration": 15,
    "start_time": "2023-02-02T09:12:09.858Z"
   },
   {
    "duration": 10,
    "start_time": "2023-02-02T09:12:16.051Z"
   },
   {
    "duration": 5,
    "start_time": "2023-02-02T09:12:19.227Z"
   },
   {
    "duration": 6,
    "start_time": "2023-02-02T09:12:55.175Z"
   },
   {
    "duration": 9,
    "start_time": "2023-02-02T09:12:55.902Z"
   },
   {
    "duration": 7,
    "start_time": "2023-02-02T09:12:56.602Z"
   },
   {
    "duration": 3,
    "start_time": "2023-02-02T09:13:10.529Z"
   },
   {
    "duration": 3,
    "start_time": "2023-02-02T09:13:22.196Z"
   },
   {
    "duration": 3,
    "start_time": "2023-02-02T09:13:32.304Z"
   },
   {
    "duration": 4,
    "start_time": "2023-02-02T09:13:43.776Z"
   },
   {
    "duration": 27,
    "start_time": "2023-02-02T09:13:44.868Z"
   },
   {
    "duration": 31,
    "start_time": "2023-02-02T09:14:22.547Z"
   },
   {
    "duration": 4,
    "start_time": "2023-02-02T09:14:26.936Z"
   },
   {
    "duration": 11,
    "start_time": "2023-02-02T09:14:33.202Z"
   },
   {
    "duration": 8,
    "start_time": "2023-02-02T09:20:49.912Z"
   },
   {
    "duration": 4,
    "start_time": "2023-02-02T09:21:04.275Z"
   },
   {
    "duration": 11,
    "start_time": "2023-02-02T09:21:12.728Z"
   },
   {
    "duration": 4,
    "start_time": "2023-02-02T09:21:54.771Z"
   },
   {
    "duration": 10,
    "start_time": "2023-02-02T09:21:56.699Z"
   },
   {
    "duration": 25,
    "start_time": "2023-02-02T09:23:57.427Z"
   },
   {
    "duration": 23,
    "start_time": "2023-02-02T09:24:23.428Z"
   },
   {
    "duration": 4,
    "start_time": "2023-02-02T09:24:28.169Z"
   },
   {
    "duration": 24,
    "start_time": "2023-02-02T09:24:32.038Z"
   },
   {
    "duration": 12,
    "start_time": "2023-02-02T09:24:41.090Z"
   },
   {
    "duration": 4,
    "start_time": "2023-02-02T09:24:44.222Z"
   },
   {
    "duration": 15,
    "start_time": "2023-02-02T09:24:44.699Z"
   },
   {
    "duration": 41,
    "start_time": "2023-02-02T09:24:46.244Z"
   },
   {
    "duration": 24,
    "start_time": "2023-02-02T09:24:58.438Z"
   },
   {
    "duration": 4,
    "start_time": "2023-02-02T09:25:08.890Z"
   },
   {
    "duration": 48,
    "start_time": "2023-02-02T09:25:10.170Z"
   },
   {
    "duration": 11,
    "start_time": "2023-02-02T09:25:11.980Z"
   },
   {
    "duration": 7,
    "start_time": "2023-02-02T09:25:13.119Z"
   },
   {
    "duration": 7,
    "start_time": "2023-02-02T09:25:14.366Z"
   },
   {
    "duration": 9,
    "start_time": "2023-02-02T09:25:15.517Z"
   },
   {
    "duration": 6,
    "start_time": "2023-02-02T09:25:16.649Z"
   },
   {
    "duration": 9,
    "start_time": "2023-02-02T09:25:17.667Z"
   },
   {
    "duration": 4,
    "start_time": "2023-02-02T09:25:21.037Z"
   },
   {
    "duration": 8,
    "start_time": "2023-02-02T09:25:21.716Z"
   },
   {
    "duration": 6,
    "start_time": "2023-02-02T09:25:22.604Z"
   },
   {
    "duration": 3,
    "start_time": "2023-02-02T09:25:24.115Z"
   },
   {
    "duration": 23,
    "start_time": "2023-02-02T09:25:25.316Z"
   },
   {
    "duration": 4,
    "start_time": "2023-02-02T09:25:26.997Z"
   },
   {
    "duration": 12,
    "start_time": "2023-02-02T09:25:27.768Z"
   },
   {
    "duration": 7,
    "start_time": "2023-02-02T09:25:30.169Z"
   },
   {
    "duration": 12,
    "start_time": "2023-02-02T09:25:30.769Z"
   },
   {
    "duration": 20,
    "start_time": "2023-02-02T09:25:32.100Z"
   },
   {
    "duration": 16,
    "start_time": "2023-02-02T09:30:30.532Z"
   },
   {
    "duration": 13,
    "start_time": "2023-02-02T09:30:41.685Z"
   },
   {
    "duration": 10,
    "start_time": "2023-02-02T09:30:48.978Z"
   },
   {
    "duration": 22,
    "start_time": "2023-02-02T09:31:03.044Z"
   },
   {
    "duration": 14,
    "start_time": "2023-02-02T09:31:05.971Z"
   },
   {
    "duration": 2,
    "start_time": "2023-02-02T09:31:09.709Z"
   },
   {
    "duration": 1136,
    "start_time": "2023-02-02T09:31:20.469Z"
   },
   {
    "duration": 17,
    "start_time": "2023-02-02T09:31:26.268Z"
   },
   {
    "duration": 977,
    "start_time": "2023-02-02T09:31:39.207Z"
   },
   {
    "duration": 28,
    "start_time": "2023-02-02T09:31:49.141Z"
   },
   {
    "duration": 10,
    "start_time": "2023-02-02T09:33:14.830Z"
   },
   {
    "duration": 9,
    "start_time": "2023-02-02T09:33:24.191Z"
   },
   {
    "duration": 10,
    "start_time": "2023-02-02T09:33:32.909Z"
   },
   {
    "duration": 4,
    "start_time": "2023-02-02T09:33:38.686Z"
   },
   {
    "duration": 4,
    "start_time": "2023-02-02T09:33:42.726Z"
   },
   {
    "duration": 7,
    "start_time": "2023-02-02T09:33:46.590Z"
   },
   {
    "duration": 9,
    "start_time": "2023-02-02T09:33:53.222Z"
   },
   {
    "duration": 10,
    "start_time": "2023-02-02T09:34:02.805Z"
   },
   {
    "duration": 11,
    "start_time": "2023-02-02T09:38:32.899Z"
   },
   {
    "duration": 815,
    "start_time": "2023-02-02T09:38:43.963Z"
   },
   {
    "duration": 16,
    "start_time": "2023-02-02T09:38:48.679Z"
   },
   {
    "duration": 5,
    "start_time": "2023-02-02T09:38:53.444Z"
   },
   {
    "duration": 7,
    "start_time": "2023-02-02T09:38:57.370Z"
   },
   {
    "duration": 10,
    "start_time": "2023-02-02T09:38:58.845Z"
   },
   {
    "duration": 5,
    "start_time": "2023-02-02T09:39:08.108Z"
   },
   {
    "duration": 6,
    "start_time": "2023-02-02T09:39:09.012Z"
   },
   {
    "duration": 7,
    "start_time": "2023-02-02T09:39:10.853Z"
   },
   {
    "duration": 16,
    "start_time": "2023-02-02T09:39:11.595Z"
   },
   {
    "duration": 973,
    "start_time": "2023-02-02T09:44:06.133Z"
   },
   {
    "duration": 4,
    "start_time": "2023-02-02T09:44:32.010Z"
   },
   {
    "duration": 8,
    "start_time": "2023-02-02T09:44:35.408Z"
   },
   {
    "duration": 5,
    "start_time": "2023-02-02T09:45:41.612Z"
   },
   {
    "duration": 5,
    "start_time": "2023-02-02T09:46:26.221Z"
   },
   {
    "duration": 17,
    "start_time": "2023-02-02T09:46:29.212Z"
   },
   {
    "duration": 4,
    "start_time": "2023-02-02T09:46:53.301Z"
   },
   {
    "duration": 4,
    "start_time": "2023-02-02T09:47:08.894Z"
   },
   {
    "duration": 8,
    "start_time": "2023-02-02T09:47:10.269Z"
   },
   {
    "duration": 10,
    "start_time": "2023-02-02T09:47:43.718Z"
   },
   {
    "duration": 18,
    "start_time": "2023-02-02T09:47:44.502Z"
   },
   {
    "duration": 48,
    "start_time": "2023-02-02T09:47:54.320Z"
   },
   {
    "duration": 16,
    "start_time": "2023-02-02T09:48:05.358Z"
   },
   {
    "duration": 15,
    "start_time": "2023-02-02T09:48:14.104Z"
   },
   {
    "duration": 6,
    "start_time": "2023-02-02T09:48:25.010Z"
   },
   {
    "duration": 7,
    "start_time": "2023-02-02T09:48:26.674Z"
   },
   {
    "duration": 6,
    "start_time": "2023-02-02T09:48:27.574Z"
   },
   {
    "duration": 5,
    "start_time": "2023-02-02T09:48:29.252Z"
   },
   {
    "duration": 24,
    "start_time": "2023-02-02T09:48:29.840Z"
   },
   {
    "duration": 3,
    "start_time": "2023-02-02T09:48:32.470Z"
   },
   {
    "duration": 11,
    "start_time": "2023-02-02T09:48:34.478Z"
   },
   {
    "duration": 20,
    "start_time": "2023-02-02T09:48:43.733Z"
   },
   {
    "duration": 4,
    "start_time": "2023-02-02T09:49:04.928Z"
   },
   {
    "duration": 11,
    "start_time": "2023-02-02T09:49:14.608Z"
   },
   {
    "duration": 4,
    "start_time": "2023-02-02T09:49:16.158Z"
   },
   {
    "duration": 9,
    "start_time": "2023-02-02T09:49:16.696Z"
   },
   {
    "duration": 5,
    "start_time": "2023-02-02T09:49:24.896Z"
   },
   {
    "duration": 10,
    "start_time": "2023-02-02T09:49:25.455Z"
   },
   {
    "duration": 31,
    "start_time": "2023-02-02T09:49:30.168Z"
   },
   {
    "duration": 67,
    "start_time": "2023-02-02T09:49:34.292Z"
   },
   {
    "duration": 134,
    "start_time": "2023-02-02T09:49:51.043Z"
   },
   {
    "duration": 3,
    "start_time": "2023-02-02T09:50:53.843Z"
   },
   {
    "duration": 267,
    "start_time": "2023-02-02T09:51:29.162Z"
   },
   {
    "duration": 149,
    "start_time": "2023-02-02T09:51:32.157Z"
   },
   {
    "duration": 3,
    "start_time": "2023-02-02T09:51:35.779Z"
   },
   {
    "duration": 4,
    "start_time": "2023-02-02T09:51:38.395Z"
   },
   {
    "duration": 8,
    "start_time": "2023-02-02T10:23:47.490Z"
   },
   {
    "duration": 10,
    "start_time": "2023-02-02T10:23:47.500Z"
   },
   {
    "duration": 488,
    "start_time": "2023-02-02T10:23:47.511Z"
   },
   {
    "duration": 4,
    "start_time": "2023-02-02T10:23:48.000Z"
   },
   {
    "duration": 13,
    "start_time": "2023-02-02T10:23:48.006Z"
   },
   {
    "duration": 6,
    "start_time": "2023-02-02T10:23:48.020Z"
   },
   {
    "duration": 25,
    "start_time": "2023-02-02T10:23:48.027Z"
   },
   {
    "duration": 25,
    "start_time": "2023-02-02T10:23:48.055Z"
   },
   {
    "duration": 5,
    "start_time": "2023-02-02T10:23:48.081Z"
   },
   {
    "duration": 5,
    "start_time": "2023-02-02T10:23:48.087Z"
   },
   {
    "duration": 22,
    "start_time": "2023-02-02T10:23:48.093Z"
   },
   {
    "duration": 62,
    "start_time": "2023-02-02T10:23:48.116Z"
   },
   {
    "duration": 50,
    "start_time": "2023-02-02T10:23:48.180Z"
   },
   {
    "duration": 5,
    "start_time": "2023-02-02T10:23:48.232Z"
   },
   {
    "duration": 864,
    "start_time": "2023-02-02T10:23:48.238Z"
   },
   {
    "duration": 10,
    "start_time": "2023-02-02T10:23:49.104Z"
   },
   {
    "duration": 14,
    "start_time": "2023-02-02T10:23:49.116Z"
   },
   {
    "duration": 15,
    "start_time": "2023-02-02T10:23:49.131Z"
   },
   {
    "duration": 39,
    "start_time": "2023-02-02T10:23:49.148Z"
   },
   {
    "duration": 14,
    "start_time": "2023-02-02T10:23:49.189Z"
   },
   {
    "duration": 10,
    "start_time": "2023-02-02T10:23:49.205Z"
   },
   {
    "duration": 219,
    "start_time": "2023-02-02T10:23:49.216Z"
   },
   {
    "duration": 12,
    "start_time": "2023-02-02T10:23:49.436Z"
   },
   {
    "duration": 78,
    "start_time": "2023-02-02T10:23:49.451Z"
   },
   {
    "duration": 47,
    "start_time": "2023-02-02T10:23:49.531Z"
   },
   {
    "duration": 4,
    "start_time": "2023-02-02T10:23:49.579Z"
   },
   {
    "duration": 132,
    "start_time": "2023-02-02T10:23:49.584Z"
   },
   {
    "duration": 219,
    "start_time": "2023-02-02T10:23:49.717Z"
   },
   {
    "duration": 22,
    "start_time": "2023-02-02T10:23:49.937Z"
   },
   {
    "duration": 28,
    "start_time": "2023-02-02T10:23:49.961Z"
   },
   {
    "duration": 123,
    "start_time": "2023-02-02T10:23:49.991Z"
   },
   {
    "duration": 115,
    "start_time": "2023-02-02T10:23:54.329Z"
   },
   {
    "duration": 4,
    "start_time": "2023-02-02T10:24:06.398Z"
   },
   {
    "duration": 67,
    "start_time": "2023-02-02T10:24:06.405Z"
   },
   {
    "duration": 12,
    "start_time": "2023-02-02T10:24:06.474Z"
   },
   {
    "duration": 37,
    "start_time": "2023-02-02T10:24:06.488Z"
   },
   {
    "duration": 4,
    "start_time": "2023-02-02T10:24:06.527Z"
   },
   {
    "duration": 9,
    "start_time": "2023-02-02T10:24:06.532Z"
   },
   {
    "duration": 30,
    "start_time": "2023-02-02T10:24:06.542Z"
   },
   {
    "duration": 13,
    "start_time": "2023-02-02T10:24:06.574Z"
   },
   {
    "duration": 15,
    "start_time": "2023-02-02T10:24:06.589Z"
   },
   {
    "duration": 6,
    "start_time": "2023-02-02T10:24:06.607Z"
   },
   {
    "duration": 7,
    "start_time": "2023-02-02T10:24:06.615Z"
   },
   {
    "duration": 6,
    "start_time": "2023-02-02T10:24:06.623Z"
   },
   {
    "duration": 5,
    "start_time": "2023-02-02T10:24:06.630Z"
   },
   {
    "duration": 42,
    "start_time": "2023-02-02T10:24:06.636Z"
   },
   {
    "duration": 7,
    "start_time": "2023-02-02T10:24:06.679Z"
   },
   {
    "duration": 23,
    "start_time": "2023-02-02T10:24:06.687Z"
   },
   {
    "duration": 16,
    "start_time": "2023-02-02T10:24:06.712Z"
   },
   {
    "duration": 15,
    "start_time": "2023-02-02T10:24:06.730Z"
   },
   {
    "duration": 171,
    "start_time": "2023-02-02T10:24:06.747Z"
   },
   {
    "duration": 4,
    "start_time": "2023-02-02T10:24:06.920Z"
   },
   {
    "duration": 7,
    "start_time": "2023-02-02T10:24:10.024Z"
   },
   {
    "duration": 7,
    "start_time": "2023-02-02T10:24:44.811Z"
   },
   {
    "duration": 5,
    "start_time": "2023-02-02T10:24:50.836Z"
   },
   {
    "duration": 5,
    "start_time": "2023-02-02T10:24:57.893Z"
   },
   {
    "duration": 5,
    "start_time": "2023-02-02T10:27:17.710Z"
   },
   {
    "duration": 129,
    "start_time": "2023-02-02T10:27:48.175Z"
   },
   {
    "duration": 190,
    "start_time": "2023-02-02T10:29:57.569Z"
   },
   {
    "duration": 7,
    "start_time": "2023-02-02T10:29:59.492Z"
   },
   {
    "duration": 478,
    "start_time": "2023-02-02T10:30:35.429Z"
   },
   {
    "duration": 6,
    "start_time": "2023-02-02T10:30:52.317Z"
   },
   {
    "duration": 6,
    "start_time": "2023-02-02T10:32:22.013Z"
   },
   {
    "duration": 7,
    "start_time": "2023-02-02T10:32:41.036Z"
   },
   {
    "duration": 6,
    "start_time": "2023-02-02T10:33:05.113Z"
   },
   {
    "duration": 145,
    "start_time": "2023-02-02T10:33:12.138Z"
   },
   {
    "duration": 446,
    "start_time": "2023-02-02T10:33:12.285Z"
   },
   {
    "duration": 5,
    "start_time": "2023-02-02T10:33:12.733Z"
   },
   {
    "duration": 6,
    "start_time": "2023-02-02T10:33:12.740Z"
   },
   {
    "duration": 35,
    "start_time": "2023-02-02T10:33:12.747Z"
   },
   {
    "duration": 13,
    "start_time": "2023-02-02T10:33:12.783Z"
   },
   {
    "duration": 9,
    "start_time": "2023-02-02T10:33:12.797Z"
   },
   {
    "duration": 13,
    "start_time": "2023-02-02T10:33:12.807Z"
   },
   {
    "duration": 6,
    "start_time": "2023-02-02T10:33:12.822Z"
   },
   {
    "duration": 9,
    "start_time": "2023-02-02T10:33:12.830Z"
   },
   {
    "duration": 37,
    "start_time": "2023-02-02T10:33:12.840Z"
   },
   {
    "duration": 14,
    "start_time": "2023-02-02T10:33:12.879Z"
   },
   {
    "duration": 6,
    "start_time": "2023-02-02T10:33:12.895Z"
   },
   {
    "duration": 11,
    "start_time": "2023-02-02T10:33:12.902Z"
   },
   {
    "duration": 15,
    "start_time": "2023-02-02T10:33:12.914Z"
   },
   {
    "duration": 59,
    "start_time": "2023-02-02T10:33:12.930Z"
   },
   {
    "duration": 4,
    "start_time": "2023-02-02T10:33:12.991Z"
   },
   {
    "duration": 864,
    "start_time": "2023-02-02T10:33:12.997Z"
   },
   {
    "duration": 13,
    "start_time": "2023-02-02T10:33:13.864Z"
   },
   {
    "duration": 14,
    "start_time": "2023-02-02T10:33:13.879Z"
   },
   {
    "duration": 16,
    "start_time": "2023-02-02T10:33:13.894Z"
   },
   {
    "duration": 21,
    "start_time": "2023-02-02T10:33:13.912Z"
   },
   {
    "duration": 30,
    "start_time": "2023-02-02T10:33:13.934Z"
   },
   {
    "duration": 12,
    "start_time": "2023-02-02T10:33:13.967Z"
   },
   {
    "duration": 222,
    "start_time": "2023-02-02T10:33:13.980Z"
   },
   {
    "duration": 5,
    "start_time": "2023-02-02T10:33:14.204Z"
   },
   {
    "duration": 76,
    "start_time": "2023-02-02T10:33:14.210Z"
   },
   {
    "duration": 31,
    "start_time": "2023-02-02T10:33:14.288Z"
   },
   {
    "duration": 3,
    "start_time": "2023-02-02T10:33:14.321Z"
   },
   {
    "duration": 130,
    "start_time": "2023-02-02T10:33:14.325Z"
   },
   {
    "duration": 245,
    "start_time": "2023-02-02T10:33:14.457Z"
   },
   {
    "duration": 11,
    "start_time": "2023-02-02T10:33:14.704Z"
   },
   {
    "duration": 16,
    "start_time": "2023-02-02T10:33:14.717Z"
   },
   {
    "duration": 161,
    "start_time": "2023-02-02T10:33:14.735Z"
   },
   {
    "duration": 4,
    "start_time": "2023-02-02T10:33:24.117Z"
   },
   {
    "duration": 68,
    "start_time": "2023-02-02T10:33:24.123Z"
   },
   {
    "duration": 11,
    "start_time": "2023-02-02T10:33:24.193Z"
   },
   {
    "duration": 8,
    "start_time": "2023-02-02T10:33:24.205Z"
   },
   {
    "duration": 10,
    "start_time": "2023-02-02T10:33:24.215Z"
   },
   {
    "duration": 17,
    "start_time": "2023-02-02T10:33:24.226Z"
   },
   {
    "duration": 35,
    "start_time": "2023-02-02T10:33:24.252Z"
   },
   {
    "duration": 27,
    "start_time": "2023-02-02T10:33:24.289Z"
   },
   {
    "duration": 21,
    "start_time": "2023-02-02T10:33:24.318Z"
   },
   {
    "duration": 36,
    "start_time": "2023-02-02T10:33:24.340Z"
   },
   {
    "duration": 31,
    "start_time": "2023-02-02T10:33:24.378Z"
   },
   {
    "duration": 18,
    "start_time": "2023-02-02T10:33:24.411Z"
   },
   {
    "duration": 7,
    "start_time": "2023-02-02T10:33:24.431Z"
   },
   {
    "duration": 58,
    "start_time": "2023-02-02T10:33:24.440Z"
   },
   {
    "duration": 4,
    "start_time": "2023-02-02T10:33:24.499Z"
   },
   {
    "duration": 15,
    "start_time": "2023-02-02T10:33:24.504Z"
   },
   {
    "duration": 13,
    "start_time": "2023-02-02T10:33:24.520Z"
   },
   {
    "duration": 42,
    "start_time": "2023-02-02T10:33:24.534Z"
   },
   {
    "duration": 178,
    "start_time": "2023-02-02T10:33:24.578Z"
   },
   {
    "duration": 8,
    "start_time": "2023-02-02T10:33:24.761Z"
   },
   {
    "duration": 32,
    "start_time": "2023-02-02T10:33:24.770Z"
   },
   {
    "duration": 10,
    "start_time": "2023-02-02T10:33:24.804Z"
   },
   {
    "duration": 20,
    "start_time": "2023-02-02T10:33:24.815Z"
   },
   {
    "duration": 50,
    "start_time": "2023-02-02T10:33:24.837Z"
   },
   {
    "duration": 120,
    "start_time": "2023-02-02T10:33:27.071Z"
   },
   {
    "duration": 486,
    "start_time": "2023-02-02T10:33:35.121Z"
   },
   {
    "duration": 6,
    "start_time": "2023-02-02T10:33:37.478Z"
   },
   {
    "duration": 8,
    "start_time": "2023-02-02T10:33:42.709Z"
   },
   {
    "duration": 7,
    "start_time": "2023-02-02T10:33:44.187Z"
   },
   {
    "duration": 6,
    "start_time": "2023-02-02T10:33:45.102Z"
   },
   {
    "duration": 487,
    "start_time": "2023-02-02T10:34:10.721Z"
   },
   {
    "duration": 469,
    "start_time": "2023-02-02T10:34:17.640Z"
   },
   {
    "duration": 5,
    "start_time": "2023-02-02T10:34:25.503Z"
   },
   {
    "duration": 7,
    "start_time": "2023-02-02T10:34:26.993Z"
   },
   {
    "duration": 8,
    "start_time": "2023-02-02T10:34:27.966Z"
   },
   {
    "duration": 8,
    "start_time": "2023-02-02T10:34:28.631Z"
   },
   {
    "duration": 11,
    "start_time": "2023-02-02T10:36:59.658Z"
   },
   {
    "duration": 8,
    "start_time": "2023-02-02T10:37:06.539Z"
   },
   {
    "duration": 8,
    "start_time": "2023-02-02T10:37:08.065Z"
   },
   {
    "duration": 6,
    "start_time": "2023-02-02T10:37:08.966Z"
   },
   {
    "duration": 7,
    "start_time": "2023-02-02T10:37:14.930Z"
   },
   {
    "duration": 6,
    "start_time": "2023-02-02T10:37:17.616Z"
   },
   {
    "duration": 11,
    "start_time": "2023-02-02T10:37:20.362Z"
   },
   {
    "duration": 3,
    "start_time": "2023-02-02T10:37:24.618Z"
   },
   {
    "duration": 6,
    "start_time": "2023-02-02T10:37:30.405Z"
   },
   {
    "duration": 6,
    "start_time": "2023-02-02T10:37:32.503Z"
   },
   {
    "duration": 6,
    "start_time": "2023-02-02T10:40:21.728Z"
   },
   {
    "duration": 7,
    "start_time": "2023-02-02T10:40:28.426Z"
   },
   {
    "duration": 6,
    "start_time": "2023-02-02T10:40:29.668Z"
   },
   {
    "duration": 6,
    "start_time": "2023-02-02T10:40:30.830Z"
   },
   {
    "duration": 5,
    "start_time": "2023-02-02T10:40:32.168Z"
   },
   {
    "duration": 9,
    "start_time": "2023-02-02T10:43:24.068Z"
   },
   {
    "duration": 9313,
    "start_time": "2023-02-02T10:43:34.194Z"
   },
   {
    "duration": 2280,
    "start_time": "2023-02-02T10:43:51.240Z"
   },
   {
    "duration": 17,
    "start_time": "2023-02-02T10:43:56.366Z"
   },
   {
    "duration": 15,
    "start_time": "2023-02-02T10:46:20.121Z"
   },
   {
    "duration": 13,
    "start_time": "2023-02-02T10:46:54.457Z"
   },
   {
    "duration": 13,
    "start_time": "2023-02-02T10:46:58.660Z"
   },
   {
    "duration": 3,
    "start_time": "2023-02-02T10:47:00.601Z"
   },
   {
    "duration": 13,
    "start_time": "2023-02-02T10:47:04.113Z"
   },
   {
    "duration": 12,
    "start_time": "2023-02-02T10:50:43.486Z"
   },
   {
    "duration": 147,
    "start_time": "2023-02-02T10:51:13.333Z"
   },
   {
    "duration": 157,
    "start_time": "2023-02-02T10:51:20.233Z"
   },
   {
    "duration": 173,
    "start_time": "2023-02-02T10:51:22.830Z"
   },
   {
    "duration": 182,
    "start_time": "2023-02-02T10:51:53.815Z"
   },
   {
    "duration": 9,
    "start_time": "2023-02-02T10:52:28.650Z"
   },
   {
    "duration": 10,
    "start_time": "2023-02-02T10:52:49.012Z"
   },
   {
    "duration": 158,
    "start_time": "2023-02-02T10:52:50.525Z"
   },
   {
    "duration": 6,
    "start_time": "2023-02-02T10:52:52.807Z"
   },
   {
    "duration": 29,
    "start_time": "2023-02-02T10:52:57.338Z"
   },
   {
    "duration": 553,
    "start_time": "2023-02-02T10:52:59.496Z"
   },
   {
    "duration": 7,
    "start_time": "2023-02-02T10:53:02.511Z"
   },
   {
    "duration": 12,
    "start_time": "2023-02-02T10:53:20.569Z"
   },
   {
    "duration": 180,
    "start_time": "2023-02-02T10:53:21.940Z"
   },
   {
    "duration": 9,
    "start_time": "2023-02-02T10:53:26.602Z"
   },
   {
    "duration": 148,
    "start_time": "2023-02-02T10:53:27.934Z"
   },
   {
    "duration": 11,
    "start_time": "2023-02-02T10:53:31.945Z"
   },
   {
    "duration": 189,
    "start_time": "2023-02-02T10:53:33.996Z"
   },
   {
    "duration": 6,
    "start_time": "2023-02-02T10:53:35.569Z"
   },
   {
    "duration": 6,
    "start_time": "2023-02-02T10:55:47.723Z"
   },
   {
    "duration": 592,
    "start_time": "2023-02-02T10:57:34.543Z"
   },
   {
    "duration": 11,
    "start_time": "2023-02-02T10:57:39.141Z"
   },
   {
    "duration": 6,
    "start_time": "2023-02-02T10:57:39.997Z"
   },
   {
    "duration": 570,
    "start_time": "2023-02-02T10:58:57.636Z"
   },
   {
    "duration": 10,
    "start_time": "2023-02-02T10:58:58.853Z"
   },
   {
    "duration": 6,
    "start_time": "2023-02-02T10:59:00.183Z"
   },
   {
    "duration": 618,
    "start_time": "2023-02-02T10:59:19.570Z"
   },
   {
    "duration": 1862,
    "start_time": "2023-02-02T10:59:30.664Z"
   },
   {
    "duration": 559,
    "start_time": "2023-02-02T10:59:38.920Z"
   },
   {
    "duration": 562,
    "start_time": "2023-02-02T10:59:59.465Z"
   },
   {
    "duration": 2027,
    "start_time": "2023-02-02T11:00:07.282Z"
   },
   {
    "duration": 14,
    "start_time": "2023-02-02T11:00:15.858Z"
   },
   {
    "duration": 5,
    "start_time": "2023-02-02T11:00:16.499Z"
   },
   {
    "duration": 4,
    "start_time": "2023-02-02T11:00:46.454Z"
   },
   {
    "duration": 16,
    "start_time": "2023-02-02T11:00:56.457Z"
   },
   {
    "duration": 9,
    "start_time": "2023-02-02T11:01:03.623Z"
   },
   {
    "duration": 95,
    "start_time": "2023-02-02T11:01:49.973Z"
   },
   {
    "duration": 6,
    "start_time": "2023-02-02T11:01:52.982Z"
   },
   {
    "duration": 339,
    "start_time": "2023-02-02T11:03:03.517Z"
   },
   {
    "duration": 6,
    "start_time": "2023-02-02T11:03:06.343Z"
   },
   {
    "duration": 76,
    "start_time": "2023-02-02T11:03:30.805Z"
   },
   {
    "duration": 4,
    "start_time": "2023-02-02T11:05:37.133Z"
   },
   {
    "duration": 45,
    "start_time": "2023-02-02T11:05:38.143Z"
   },
   {
    "duration": 6,
    "start_time": "2023-02-02T11:05:39.008Z"
   },
   {
    "duration": 113,
    "start_time": "2023-02-02T11:05:40.463Z"
   },
   {
    "duration": 284,
    "start_time": "2023-02-02T11:05:42.139Z"
   },
   {
    "duration": 13,
    "start_time": "2023-02-02T11:05:44.008Z"
   },
   {
    "duration": 4,
    "start_time": "2023-02-02T11:05:45.752Z"
   },
   {
    "duration": 140,
    "start_time": "2023-02-02T11:05:46.643Z"
   },
   {
    "duration": 1954,
    "start_time": "2023-02-02T11:07:36.039Z"
   },
   {
    "duration": 16,
    "start_time": "2023-02-02T11:07:39.953Z"
   },
   {
    "duration": 8,
    "start_time": "2023-02-02T11:07:40.654Z"
   },
   {
    "duration": 109,
    "start_time": "2023-02-02T11:07:42.026Z"
   },
   {
    "duration": 82,
    "start_time": "2023-02-02T11:09:36.400Z"
   },
   {
    "duration": 9,
    "start_time": "2023-02-02T11:09:43.631Z"
   },
   {
    "duration": 4,
    "start_time": "2023-02-02T11:09:44.622Z"
   },
   {
    "duration": 113,
    "start_time": "2023-02-02T11:09:46.364Z"
   },
   {
    "duration": 1991,
    "start_time": "2023-02-02T11:09:54.509Z"
   },
   {
    "duration": 23,
    "start_time": "2023-02-02T11:09:57.739Z"
   },
   {
    "duration": 4,
    "start_time": "2023-02-02T11:09:58.612Z"
   },
   {
    "duration": 115,
    "start_time": "2023-02-02T11:10:00.462Z"
   },
   {
    "duration": 2,
    "start_time": "2023-02-02T11:12:13.259Z"
   },
   {
    "duration": 84,
    "start_time": "2023-02-02T11:12:56.811Z"
   },
   {
    "duration": 7,
    "start_time": "2023-02-02T11:13:26.931Z"
   },
   {
    "duration": 6,
    "start_time": "2023-02-02T11:13:35.778Z"
   },
   {
    "duration": 6,
    "start_time": "2023-02-02T11:15:20.564Z"
   },
   {
    "duration": 6,
    "start_time": "2023-02-02T11:15:32.475Z"
   },
   {
    "duration": 7,
    "start_time": "2023-02-02T11:15:40.113Z"
   },
   {
    "duration": 1817,
    "start_time": "2023-02-02T11:17:06.178Z"
   },
   {
    "duration": 38,
    "start_time": "2023-02-02T11:17:13.003Z"
   },
   {
    "duration": 6,
    "start_time": "2023-02-02T11:17:18.828Z"
   },
   {
    "duration": 6,
    "start_time": "2023-02-02T11:18:30.410Z"
   },
   {
    "duration": 8,
    "start_time": "2023-02-02T11:18:56.063Z"
   },
   {
    "duration": 6,
    "start_time": "2023-02-02T11:19:53.092Z"
   },
   {
    "duration": 4,
    "start_time": "2023-02-02T11:25:57.919Z"
   },
   {
    "duration": 4,
    "start_time": "2023-02-02T11:26:42.392Z"
   },
   {
    "duration": 5,
    "start_time": "2023-02-02T11:26:48.598Z"
   },
   {
    "duration": 5,
    "start_time": "2023-02-02T11:27:08.470Z"
   },
   {
    "duration": 5,
    "start_time": "2023-02-02T11:27:15.875Z"
   },
   {
    "duration": 7,
    "start_time": "2023-02-02T11:27:34.926Z"
   },
   {
    "duration": 4,
    "start_time": "2023-02-02T11:27:37.982Z"
   },
   {
    "duration": 5,
    "start_time": "2023-02-02T11:27:38.676Z"
   },
   {
    "duration": 4,
    "start_time": "2023-02-02T11:27:44.357Z"
   },
   {
    "duration": 6,
    "start_time": "2023-02-02T11:27:45.123Z"
   },
   {
    "duration": 10,
    "start_time": "2023-02-02T11:27:45.847Z"
   },
   {
    "duration": 15,
    "start_time": "2023-02-02T11:30:17.756Z"
   },
   {
    "duration": 3,
    "start_time": "2023-02-02T11:30:22.634Z"
   },
   {
    "duration": 5,
    "start_time": "2023-02-02T11:30:24.363Z"
   },
   {
    "duration": 6,
    "start_time": "2023-02-02T11:30:25.359Z"
   },
   {
    "duration": 3,
    "start_time": "2023-02-02T11:30:44.496Z"
   },
   {
    "duration": 14,
    "start_time": "2023-02-02T11:30:44.973Z"
   },
   {
    "duration": 3,
    "start_time": "2023-02-02T11:31:02.082Z"
   },
   {
    "duration": 5,
    "start_time": "2023-02-02T11:31:02.697Z"
   },
   {
    "duration": 6,
    "start_time": "2023-02-02T11:31:10.474Z"
   },
   {
    "duration": 7,
    "start_time": "2023-02-02T11:31:14.794Z"
   },
   {
    "duration": 5,
    "start_time": "2023-02-02T11:39:39.629Z"
   },
   {
    "duration": 196,
    "start_time": "2023-02-02T11:39:39.637Z"
   },
   {
    "duration": 16,
    "start_time": "2023-02-02T11:39:39.834Z"
   },
   {
    "duration": 37,
    "start_time": "2023-02-02T11:39:39.851Z"
   },
   {
    "duration": 16,
    "start_time": "2023-02-02T11:39:39.890Z"
   },
   {
    "duration": 32,
    "start_time": "2023-02-02T11:39:39.907Z"
   },
   {
    "duration": 40,
    "start_time": "2023-02-02T11:39:39.941Z"
   },
   {
    "duration": 97,
    "start_time": "2023-02-02T11:39:39.983Z"
   },
   {
    "duration": 25,
    "start_time": "2023-02-02T11:39:40.082Z"
   },
   {
    "duration": 5,
    "start_time": "2023-02-02T11:39:40.108Z"
   },
   {
    "duration": 21,
    "start_time": "2023-02-02T11:39:40.116Z"
   },
   {
    "duration": 41,
    "start_time": "2023-02-02T11:39:40.139Z"
   },
   {
    "duration": 4,
    "start_time": "2023-02-02T11:39:40.182Z"
   },
   {
    "duration": 22,
    "start_time": "2023-02-02T11:39:40.188Z"
   },
   {
    "duration": 21,
    "start_time": "2023-02-02T11:39:40.212Z"
   },
   {
    "duration": 50,
    "start_time": "2023-02-02T11:39:40.234Z"
   },
   {
    "duration": 14,
    "start_time": "2023-02-02T11:39:40.286Z"
   },
   {
    "duration": 11,
    "start_time": "2023-02-02T11:39:40.301Z"
   },
   {
    "duration": 160,
    "start_time": "2023-02-02T11:39:40.313Z"
   },
   {
    "duration": 5,
    "start_time": "2023-02-02T11:39:40.475Z"
   },
   {
    "duration": 7,
    "start_time": "2023-02-02T11:39:40.482Z"
   },
   {
    "duration": 10,
    "start_time": "2023-02-02T11:39:40.490Z"
   },
   {
    "duration": 9,
    "start_time": "2023-02-02T11:39:40.501Z"
   },
   {
    "duration": 145,
    "start_time": "2023-02-02T11:39:40.511Z"
   },
   {
    "duration": 450,
    "start_time": "2023-02-02T11:39:40.658Z"
   },
   {
    "duration": 6,
    "start_time": "2023-02-02T11:39:41.109Z"
   },
   {
    "duration": 13,
    "start_time": "2023-02-02T11:39:41.116Z"
   },
   {
    "duration": 47,
    "start_time": "2023-02-02T11:39:41.130Z"
   },
   {
    "duration": 35,
    "start_time": "2023-02-02T11:39:41.181Z"
   },
   {
    "duration": 13,
    "start_time": "2023-02-02T11:39:41.218Z"
   },
   {
    "duration": 109,
    "start_time": "2023-02-02T11:39:41.233Z"
   },
   {
    "duration": 42,
    "start_time": "2023-02-02T11:39:41.346Z"
   },
   {
    "duration": 85,
    "start_time": "2023-02-02T11:39:41.390Z"
   },
   {
    "duration": 33,
    "start_time": "2023-02-02T11:39:41.477Z"
   },
   {
    "duration": 24,
    "start_time": "2023-02-02T11:39:41.511Z"
   },
   {
    "duration": 6,
    "start_time": "2023-02-02T11:39:41.536Z"
   },
   {
    "duration": 41,
    "start_time": "2023-02-02T11:39:41.543Z"
   },
   {
    "duration": 202,
    "start_time": "2023-02-02T11:39:41.585Z"
   },
   {
    "duration": 5,
    "start_time": "2023-02-02T11:39:41.789Z"
   },
   {
    "duration": 2137,
    "start_time": "2023-02-02T11:39:41.795Z"
   },
   {
    "duration": 17,
    "start_time": "2023-02-02T11:39:43.934Z"
   },
   {
    "duration": 35,
    "start_time": "2023-02-02T11:39:43.953Z"
   },
   {
    "duration": 18,
    "start_time": "2023-02-02T11:39:43.989Z"
   },
   {
    "duration": 24,
    "start_time": "2023-02-02T11:39:44.008Z"
   },
   {
    "duration": 150,
    "start_time": "2023-02-02T11:39:44.034Z"
   },
   {
    "duration": 4,
    "start_time": "2023-02-02T11:39:44.186Z"
   },
   {
    "duration": 307,
    "start_time": "2023-02-02T11:39:44.191Z"
   },
   {
    "duration": 5,
    "start_time": "2023-02-02T11:39:44.500Z"
   },
   {
    "duration": 88,
    "start_time": "2023-02-02T11:39:44.507Z"
   },
   {
    "duration": 94,
    "start_time": "2023-02-02T11:39:44.597Z"
   },
   {
    "duration": 6,
    "start_time": "2023-02-02T11:39:44.692Z"
   },
   {
    "duration": 6,
    "start_time": "2023-02-02T11:39:44.699Z"
   },
   {
    "duration": 148,
    "start_time": "2023-02-02T11:39:44.707Z"
   },
   {
    "duration": 2080,
    "start_time": "2023-02-02T11:39:44.859Z"
   },
   {
    "duration": 18,
    "start_time": "2023-02-02T11:39:46.941Z"
   },
   {
    "duration": 17,
    "start_time": "2023-02-02T11:39:46.963Z"
   },
   {
    "duration": 124,
    "start_time": "2023-02-02T11:39:46.981Z"
   },
   {
    "duration": 88,
    "start_time": "2023-02-02T11:39:47.107Z"
   },
   {
    "duration": 6,
    "start_time": "2023-02-02T11:39:47.197Z"
   },
   {
    "duration": 7,
    "start_time": "2023-02-02T11:39:47.205Z"
   },
   {
    "duration": 7,
    "start_time": "2023-02-02T11:39:47.213Z"
   },
   {
    "duration": 27,
    "start_time": "2023-02-02T11:39:47.221Z"
   },
   {
    "duration": 9,
    "start_time": "2023-02-02T11:39:47.249Z"
   },
   {
    "duration": 2003,
    "start_time": "2023-02-02T11:39:47.259Z"
   },
   {
    "duration": 40,
    "start_time": "2023-02-02T11:39:49.264Z"
   },
   {
    "duration": 4,
    "start_time": "2023-02-02T11:39:49.306Z"
   },
   {
    "duration": 8,
    "start_time": "2023-02-02T11:39:49.311Z"
   },
   {
    "duration": 25,
    "start_time": "2023-02-02T11:39:49.320Z"
   },
   {
    "duration": 13,
    "start_time": "2023-02-02T11:39:49.346Z"
   },
   {
    "duration": 11,
    "start_time": "2023-02-02T11:39:49.366Z"
   },
   {
    "duration": 6,
    "start_time": "2023-02-02T11:39:49.378Z"
   },
   {
    "duration": 8,
    "start_time": "2023-02-02T11:39:49.386Z"
   },
   {
    "duration": 4,
    "start_time": "2023-02-02T11:49:57.123Z"
   },
   {
    "duration": 62,
    "start_time": "2023-02-02T11:49:57.131Z"
   },
   {
    "duration": 11,
    "start_time": "2023-02-02T11:49:57.194Z"
   },
   {
    "duration": 18,
    "start_time": "2023-02-02T11:49:57.206Z"
   },
   {
    "duration": 30,
    "start_time": "2023-02-02T11:49:57.225Z"
   },
   {
    "duration": 14,
    "start_time": "2023-02-02T11:49:57.258Z"
   },
   {
    "duration": 20,
    "start_time": "2023-02-02T11:49:57.274Z"
   },
   {
    "duration": 35,
    "start_time": "2023-02-02T11:49:57.296Z"
   },
   {
    "duration": 38,
    "start_time": "2023-02-02T11:49:57.333Z"
   },
   {
    "duration": 6,
    "start_time": "2023-02-02T11:49:57.372Z"
   },
   {
    "duration": 12,
    "start_time": "2023-02-02T11:49:57.379Z"
   },
   {
    "duration": 15,
    "start_time": "2023-02-02T11:49:57.392Z"
   },
   {
    "duration": 31,
    "start_time": "2023-02-02T11:49:57.409Z"
   },
   {
    "duration": 41,
    "start_time": "2023-02-02T11:49:57.441Z"
   },
   {
    "duration": 40,
    "start_time": "2023-02-02T11:49:57.486Z"
   },
   {
    "duration": 34,
    "start_time": "2023-02-02T11:49:57.528Z"
   },
   {
    "duration": 18,
    "start_time": "2023-02-02T11:49:57.564Z"
   },
   {
    "duration": 37,
    "start_time": "2023-02-02T11:49:57.583Z"
   },
   {
    "duration": 187,
    "start_time": "2023-02-02T11:49:57.622Z"
   },
   {
    "duration": 7,
    "start_time": "2023-02-02T11:49:57.812Z"
   },
   {
    "duration": 19,
    "start_time": "2023-02-02T11:49:57.821Z"
   },
   {
    "duration": 58,
    "start_time": "2023-02-02T11:49:57.842Z"
   },
   {
    "duration": 32,
    "start_time": "2023-02-02T11:49:57.902Z"
   },
   {
    "duration": 144,
    "start_time": "2023-02-02T11:49:57.935Z"
   },
   {
    "duration": 416,
    "start_time": "2023-02-02T11:49:58.081Z"
   },
   {
    "duration": 6,
    "start_time": "2023-02-02T11:49:58.499Z"
   },
   {
    "duration": 30,
    "start_time": "2023-02-02T11:49:58.507Z"
   },
   {
    "duration": 48,
    "start_time": "2023-02-02T11:49:58.538Z"
   },
   {
    "duration": 19,
    "start_time": "2023-02-02T11:49:58.588Z"
   },
   {
    "duration": 13,
    "start_time": "2023-02-02T11:49:58.608Z"
   },
   {
    "duration": 41,
    "start_time": "2023-02-02T11:49:58.624Z"
   },
   {
    "duration": 11,
    "start_time": "2023-02-02T11:49:58.667Z"
   },
   {
    "duration": 27,
    "start_time": "2023-02-02T11:49:58.679Z"
   },
   {
    "duration": 30,
    "start_time": "2023-02-02T11:49:58.707Z"
   },
   {
    "duration": 25,
    "start_time": "2023-02-02T11:49:58.738Z"
   },
   {
    "duration": 15,
    "start_time": "2023-02-02T11:49:58.765Z"
   },
   {
    "duration": 33,
    "start_time": "2023-02-02T11:49:58.782Z"
   },
   {
    "duration": 184,
    "start_time": "2023-02-02T11:49:58.817Z"
   },
   {
    "duration": 6,
    "start_time": "2023-02-02T11:49:59.002Z"
   },
   {
    "duration": 2157,
    "start_time": "2023-02-02T11:49:59.009Z"
   },
   {
    "duration": 13,
    "start_time": "2023-02-02T11:50:01.168Z"
   },
   {
    "duration": 26,
    "start_time": "2023-02-02T11:50:01.185Z"
   },
   {
    "duration": 31,
    "start_time": "2023-02-02T11:50:01.212Z"
   },
   {
    "duration": 43,
    "start_time": "2023-02-02T11:50:01.252Z"
   },
   {
    "duration": 182,
    "start_time": "2023-02-02T11:50:01.297Z"
   },
   {
    "duration": 5,
    "start_time": "2023-02-02T11:50:01.480Z"
   },
   {
    "duration": 322,
    "start_time": "2023-02-02T11:50:01.487Z"
   },
   {
    "duration": 6,
    "start_time": "2023-02-02T11:50:01.811Z"
   },
   {
    "duration": 149,
    "start_time": "2023-02-02T11:50:01.819Z"
   },
   {
    "duration": 110,
    "start_time": "2023-02-02T11:50:01.970Z"
   },
   {
    "duration": 7,
    "start_time": "2023-02-02T11:50:02.081Z"
   },
   {
    "duration": 41,
    "start_time": "2023-02-02T11:50:02.090Z"
   },
   {
    "duration": 158,
    "start_time": "2023-02-02T11:50:02.132Z"
   },
   {
    "duration": 1939,
    "start_time": "2023-02-02T11:50:02.291Z"
   },
   {
    "duration": 27,
    "start_time": "2023-02-02T11:50:04.232Z"
   },
   {
    "duration": 4,
    "start_time": "2023-02-02T11:50:04.260Z"
   },
   {
    "duration": 106,
    "start_time": "2023-02-02T11:50:04.265Z"
   },
   {
    "duration": 86,
    "start_time": "2023-02-02T11:50:04.373Z"
   },
   {
    "duration": 6,
    "start_time": "2023-02-02T11:50:04.461Z"
   },
   {
    "duration": 93,
    "start_time": "2023-02-02T11:50:04.469Z"
   },
   {
    "duration": 35,
    "start_time": "2023-02-02T11:50:04.563Z"
   },
   {
    "duration": 43,
    "start_time": "2023-02-02T11:50:04.599Z"
   },
   {
    "duration": 36,
    "start_time": "2023-02-02T11:50:04.644Z"
   },
   {
    "duration": 1922,
    "start_time": "2023-02-02T11:50:04.682Z"
   },
   {
    "duration": 44,
    "start_time": "2023-02-02T11:50:06.606Z"
   },
   {
    "duration": 6,
    "start_time": "2023-02-02T11:50:06.652Z"
   },
   {
    "duration": 16,
    "start_time": "2023-02-02T11:50:06.660Z"
   },
   {
    "duration": 38,
    "start_time": "2023-02-02T11:50:06.678Z"
   },
   {
    "duration": 17,
    "start_time": "2023-02-02T11:50:06.717Z"
   },
   {
    "duration": 3,
    "start_time": "2023-02-02T11:50:06.736Z"
   },
   {
    "duration": 20,
    "start_time": "2023-02-02T11:50:06.740Z"
   },
   {
    "duration": 13,
    "start_time": "2023-02-02T11:50:06.761Z"
   }
  ],
  "kernelspec": {
   "display_name": "base",
   "language": "python",
   "name": "python3"
  },
  "language_info": {
   "codemirror_mode": {
    "name": "ipython",
    "version": 3
   },
   "file_extension": ".py",
   "mimetype": "text/x-python",
   "name": "python",
   "nbconvert_exporter": "python",
   "pygments_lexer": "ipython3",
   "version": "3.9.13"
  },
  "toc": {
   "base_numbering": 1,
   "nav_menu": {},
   "number_sections": true,
   "sideBar": true,
   "skip_h1_title": true,
   "title_cell": "Содержание",
   "title_sidebar": "Contents",
   "toc_cell": true,
   "toc_position": {},
   "toc_section_display": true,
   "toc_window_display": false
  },
  "vscode": {
   "interpreter": {
    "hash": "40bcb2e441a6d0af9e6f649dfe5ca0440eb431939f3ce0f6d45a172cb5590c37"
   }
  }
 },
 "nbformat": 4,
 "nbformat_minor": 2
}
