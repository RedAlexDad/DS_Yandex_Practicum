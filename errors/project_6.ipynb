{
 "cells": [
  {
   "cell_type": "markdown",
   "metadata": {
    "toc": true
   },
   "source": [
    "<h1>Содержание<span class=\"tocSkip\"></span></h1>\n",
    "<div class=\"toc\"><ul class=\"toc-item\"><li><span><a href=\"#Подготовка-данных\" data-toc-modified-id=\"Подготовка-данных-1\"><span class=\"toc-item-num\">1&nbsp;&nbsp;</span>Подготовка данных</a></span></li><li><span><a href=\"#Исследование-задачи\" data-toc-modified-id=\"Исследование-задачи-2\"><span class=\"toc-item-num\">2&nbsp;&nbsp;</span>Исследование задачи</a></span></li><li><span><a href=\"#Борьба-с-дисбалансом\" data-toc-modified-id=\"Борьба-с-дисбалансом-3\"><span class=\"toc-item-num\">3&nbsp;&nbsp;</span>Борьба с дисбалансом</a></span></li><li><span><a href=\"#Тестирование-модели\" data-toc-modified-id=\"Тестирование-модели-4\"><span class=\"toc-item-num\">4&nbsp;&nbsp;</span>Тестирование модели</a></span></li><li><span><a href=\"#Чек-лист-готовности-проекта\" data-toc-modified-id=\"Чек-лист-готовности-проекта-5\"><span class=\"toc-item-num\">5&nbsp;&nbsp;</span>Чек-лист готовности проекта</a></span></li></ul></div>"
   ]
  },
  {
   "cell_type": "markdown",
   "metadata": {},
   "source": [
    "# Отток клиентов"
   ]
  },
  {
   "cell_type": "markdown",
   "metadata": {},
   "source": [
    "Из «Бета-Банка» стали уходить клиенты. Каждый месяц. Немного, но заметно. Банковские маркетологи посчитали: сохранять текущих клиентов дешевле, чем привлекать новых.\n",
    "\n",
    "Нужно спрогнозировать, уйдёт клиент из банка в ближайшее время или нет. Вам предоставлены исторические данные о поведении клиентов и расторжении договоров с банком. \n",
    "\n",
    "Постройте модель с предельно большим значением *F1*-меры. Чтобы сдать проект успешно, нужно довести метрику до 0.59. Проверьте *F1*-меру на тестовой выборке самостоятельно.\n",
    "\n",
    "Дополнительно измеряйте *AUC-ROC*, сравнивайте её значение с *F1*-мерой.\n",
    "\n",
    "Источник данных: [https://www.kaggle.com/barelydedicated/bank-customer-churn-modeling](https://www.kaggle.com/barelydedicated/bank-customer-churn-modeling)"
   ]
  },
  {
   "cell_type": "markdown",
   "metadata": {},
   "source": [
    "## Подготовка данных"
   ]
  },
  {
   "cell_type": "code",
   "execution_count": 42,
   "metadata": {},
   "outputs": [],
   "source": [
    "# Подключаем все необходимые библиотеки\n",
    "import pandas as pd\n",
    "import numpy as np\n",
    "import matplotlib.pyplot as plt\n",
    "\n",
    "# Разбиение на обучающую, валидационную и тестовую выборку\n",
    "from sklearn.model_selection import train_test_split\n",
    "# Точность модели\n",
    "from sklearn.metrics import accuracy_score\n",
    "# Масштабируемость модели\n",
    "from sklearn.preprocessing import StandardScaler\n",
    "\n",
    "# и для машинного обучения разными способами:\n",
    "# - Случайный лес\n",
    "from sklearn.ensemble import RandomForestClassifier\n",
    "# - Решающее дерево\n",
    "from sklearn.tree import DecisionTreeClassifier\n",
    "# - Модель на адекватность\n",
    "from sklearn.dummy import DummyClassifier\n",
    "\n",
    "# Матрицы ошибок (для борьбы с дисбалансом)\n",
    "from sklearn.metrics import confusion_matrix\n",
    "# Полнота\n",
    "from sklearn.metrics import recall_score\n",
    "# Точность\n",
    "from sklearn.metrics import precision_score\n",
    "# F1-мера\n",
    "from sklearn.metrics import f1_score\n",
    "# Контроль выборки\n",
    "from sklearn.utils import shuffle\n",
    "# Порог\n",
    "from sklearn.metrics import precision_score, recall_score\n",
    "# Метрика AUC-ROC\n",
    "from sklearn.metrics import roc_auc_score\n",
    "from sklearn.metrics import roc_curve"
   ]
  },
  {
   "cell_type": "code",
   "execution_count": 2,
   "metadata": {},
   "outputs": [
    {
     "name": "stdout",
     "output_type": "stream",
     "text": [
      "<class 'pandas.core.frame.DataFrame'>\n",
      "RangeIndex: 10000 entries, 0 to 9999\n",
      "Data columns (total 14 columns):\n",
      " #   Column           Non-Null Count  Dtype  \n",
      "---  ------           --------------  -----  \n",
      " 0   RowNumber        10000 non-null  int64  \n",
      " 1   CustomerId       10000 non-null  int64  \n",
      " 2   Surname          10000 non-null  object \n",
      " 3   CreditScore      10000 non-null  int64  \n",
      " 4   Geography        10000 non-null  object \n",
      " 5   Gender           10000 non-null  object \n",
      " 6   Age              10000 non-null  int64  \n",
      " 7   Tenure           9091 non-null   float64\n",
      " 8   Balance          10000 non-null  float64\n",
      " 9   NumOfProducts    10000 non-null  int64  \n",
      " 10  HasCrCard        10000 non-null  int64  \n",
      " 11  IsActiveMember   10000 non-null  int64  \n",
      " 12  EstimatedSalary  10000 non-null  float64\n",
      " 13  Exited           10000 non-null  int64  \n",
      "dtypes: float64(3), int64(8), object(3)\n",
      "memory usage: 1.1+ MB\n"
     ]
    }
   ],
   "source": [
    "# Получаем датасет\n",
    "try:\n",
    "    df = pd.read_csv('/datasets/Churn.csv')\n",
    "\n",
    "    # Узнаем, что в нем\n",
    "    df.info()\n",
    "except:\n",
    "    print('Отсутствует датасет. Проверьте путь файла')"
   ]
  },
  {
   "cell_type": "code",
   "execution_count": 3,
   "metadata": {
    "scrolled": true
   },
   "outputs": [
    {
     "data": {
      "text/html": [
       "<div>\n",
       "<style scoped>\n",
       "    .dataframe tbody tr th:only-of-type {\n",
       "        vertical-align: middle;\n",
       "    }\n",
       "\n",
       "    .dataframe tbody tr th {\n",
       "        vertical-align: top;\n",
       "    }\n",
       "\n",
       "    .dataframe thead th {\n",
       "        text-align: right;\n",
       "    }\n",
       "</style>\n",
       "<table border=\"1\" class=\"dataframe\">\n",
       "  <thead>\n",
       "    <tr style=\"text-align: right;\">\n",
       "      <th></th>\n",
       "      <th>RowNumber</th>\n",
       "      <th>CustomerId</th>\n",
       "      <th>Surname</th>\n",
       "      <th>CreditScore</th>\n",
       "      <th>Geography</th>\n",
       "      <th>Gender</th>\n",
       "      <th>Age</th>\n",
       "      <th>Tenure</th>\n",
       "      <th>Balance</th>\n",
       "      <th>NumOfProducts</th>\n",
       "      <th>HasCrCard</th>\n",
       "      <th>IsActiveMember</th>\n",
       "      <th>EstimatedSalary</th>\n",
       "      <th>Exited</th>\n",
       "    </tr>\n",
       "  </thead>\n",
       "  <tbody>\n",
       "    <tr>\n",
       "      <th>0</th>\n",
       "      <td>1</td>\n",
       "      <td>15634602</td>\n",
       "      <td>Hargrave</td>\n",
       "      <td>619</td>\n",
       "      <td>France</td>\n",
       "      <td>Female</td>\n",
       "      <td>42</td>\n",
       "      <td>2.0</td>\n",
       "      <td>0.00</td>\n",
       "      <td>1</td>\n",
       "      <td>1</td>\n",
       "      <td>1</td>\n",
       "      <td>101348.88</td>\n",
       "      <td>1</td>\n",
       "    </tr>\n",
       "    <tr>\n",
       "      <th>1</th>\n",
       "      <td>2</td>\n",
       "      <td>15647311</td>\n",
       "      <td>Hill</td>\n",
       "      <td>608</td>\n",
       "      <td>Spain</td>\n",
       "      <td>Female</td>\n",
       "      <td>41</td>\n",
       "      <td>1.0</td>\n",
       "      <td>83807.86</td>\n",
       "      <td>1</td>\n",
       "      <td>0</td>\n",
       "      <td>1</td>\n",
       "      <td>112542.58</td>\n",
       "      <td>0</td>\n",
       "    </tr>\n",
       "    <tr>\n",
       "      <th>2</th>\n",
       "      <td>3</td>\n",
       "      <td>15619304</td>\n",
       "      <td>Onio</td>\n",
       "      <td>502</td>\n",
       "      <td>France</td>\n",
       "      <td>Female</td>\n",
       "      <td>42</td>\n",
       "      <td>8.0</td>\n",
       "      <td>159660.80</td>\n",
       "      <td>3</td>\n",
       "      <td>1</td>\n",
       "      <td>0</td>\n",
       "      <td>113931.57</td>\n",
       "      <td>1</td>\n",
       "    </tr>\n",
       "    <tr>\n",
       "      <th>3</th>\n",
       "      <td>4</td>\n",
       "      <td>15701354</td>\n",
       "      <td>Boni</td>\n",
       "      <td>699</td>\n",
       "      <td>France</td>\n",
       "      <td>Female</td>\n",
       "      <td>39</td>\n",
       "      <td>1.0</td>\n",
       "      <td>0.00</td>\n",
       "      <td>2</td>\n",
       "      <td>0</td>\n",
       "      <td>0</td>\n",
       "      <td>93826.63</td>\n",
       "      <td>0</td>\n",
       "    </tr>\n",
       "    <tr>\n",
       "      <th>4</th>\n",
       "      <td>5</td>\n",
       "      <td>15737888</td>\n",
       "      <td>Mitchell</td>\n",
       "      <td>850</td>\n",
       "      <td>Spain</td>\n",
       "      <td>Female</td>\n",
       "      <td>43</td>\n",
       "      <td>2.0</td>\n",
       "      <td>125510.82</td>\n",
       "      <td>1</td>\n",
       "      <td>1</td>\n",
       "      <td>1</td>\n",
       "      <td>79084.10</td>\n",
       "      <td>0</td>\n",
       "    </tr>\n",
       "  </tbody>\n",
       "</table>\n",
       "</div>"
      ],
      "text/plain": [
       "   RowNumber  CustomerId   Surname  CreditScore Geography  Gender  Age  \\\n",
       "0          1    15634602  Hargrave          619    France  Female   42   \n",
       "1          2    15647311      Hill          608     Spain  Female   41   \n",
       "2          3    15619304      Onio          502    France  Female   42   \n",
       "3          4    15701354      Boni          699    France  Female   39   \n",
       "4          5    15737888  Mitchell          850     Spain  Female   43   \n",
       "\n",
       "   Tenure    Balance  NumOfProducts  HasCrCard  IsActiveMember  \\\n",
       "0     2.0       0.00              1          1               1   \n",
       "1     1.0   83807.86              1          0               1   \n",
       "2     8.0  159660.80              3          1               0   \n",
       "3     1.0       0.00              2          0               0   \n",
       "4     2.0  125510.82              1          1               1   \n",
       "\n",
       "   EstimatedSalary  Exited  \n",
       "0        101348.88       1  \n",
       "1        112542.58       0  \n",
       "2        113931.57       1  \n",
       "3         93826.63       0  \n",
       "4         79084.10       0  "
      ]
     },
     "execution_count": 3,
     "metadata": {},
     "output_type": "execute_result"
    }
   ],
   "source": [
    "df.head()"
   ]
  },
  {
   "cell_type": "code",
   "execution_count": 4,
   "metadata": {},
   "outputs": [
    {
     "data": {
      "text/plain": [
       "RowNumber            0\n",
       "CustomerId           0\n",
       "Surname              0\n",
       "CreditScore          0\n",
       "Geography            0\n",
       "Gender               0\n",
       "Age                  0\n",
       "Tenure             909\n",
       "Balance              0\n",
       "NumOfProducts        0\n",
       "HasCrCard            0\n",
       "IsActiveMember       0\n",
       "EstimatedSalary      0\n",
       "Exited               0\n",
       "dtype: int64"
      ]
     },
     "execution_count": 4,
     "metadata": {},
     "output_type": "execute_result"
    }
   ],
   "source": [
    "# Проверим на наличие пропущенных значений\n",
    "df.isna().sum()"
   ]
  },
  {
   "cell_type": "markdown",
   "metadata": {},
   "source": [
    "Себе на пометку:\n",
    "Если в каком то признаке пустые значения, то его следует заполнять, иначе выводит ошибку такого рода: \"Input contains NaN, infinity or a value too large for dtype('float32')\"\n"
   ]
  },
  {
   "cell_type": "code",
   "execution_count": 5,
   "metadata": {},
   "outputs": [],
   "source": [
    "# Заполняем пропуски медианным значением\n",
    "df['Tenure'] = df['Tenure'].fillna(df['Tenure'].median())"
   ]
  },
  {
   "cell_type": "code",
   "execution_count": 6,
   "metadata": {},
   "outputs": [
    {
     "data": {
      "text/plain": [
       "RowNumber          0\n",
       "CustomerId         0\n",
       "Surname            0\n",
       "CreditScore        0\n",
       "Geography          0\n",
       "Gender             0\n",
       "Age                0\n",
       "Tenure             0\n",
       "Balance            0\n",
       "NumOfProducts      0\n",
       "HasCrCard          0\n",
       "IsActiveMember     0\n",
       "EstimatedSalary    0\n",
       "Exited             0\n",
       "dtype: int64"
      ]
     },
     "execution_count": 6,
     "metadata": {},
     "output_type": "execute_result"
    }
   ],
   "source": [
    "# Снова проверим на пропущенные значения\n",
    "df.isna().sum()"
   ]
  },
  {
   "cell_type": "markdown",
   "metadata": {},
   "source": [
    "## Исследование задачи"
   ]
  },
  {
   "cell_type": "code",
   "execution_count": 7,
   "metadata": {
    "scrolled": false
   },
   "outputs": [],
   "source": [
    "# Уклоняемся от дамми-ловушек\n",
    "df = pd.get_dummies(df, drop_first=True)"
   ]
  },
  {
   "cell_type": "code",
   "execution_count": 8,
   "metadata": {},
   "outputs": [],
   "source": [
    "# Получаем признак и цель \n",
    "features = df.drop('Exited', axis=1)\n",
    "target = df['Exited']"
   ]
  },
  {
   "cell_type": "code",
   "execution_count": 9,
   "metadata": {},
   "outputs": [],
   "source": [
    "# Как обычно, будем разделять 60% данных для обучающей выборки, а features_temp и target_temp будут временным датафреймом\n",
    "features_train, features_temp, target_train, target_temp = train_test_split(features, target, test_size= (1 - 0.6), random_state=12345) "
   ]
  },
  {
   "cell_type": "code",
   "execution_count": 10,
   "metadata": {},
   "outputs": [],
   "source": [
    "# А тестовая и валидационная - по 20% данных\n",
    "features_valid, features_test, target_valid, target_test = train_test_split(features_temp, target_temp, test_size=(1 - 0.5), random_state=12345)"
   ]
  },
  {
   "cell_type": "code",
   "execution_count": 11,
   "metadata": {},
   "outputs": [
    {
     "name": "stderr",
     "output_type": "stream",
     "text": [
      "/tmp/ipykernel_48/3478311116.py:10: SettingWithCopyWarning: \n",
      "A value is trying to be set on a copy of a slice from a DataFrame.\n",
      "Try using .loc[row_indexer,col_indexer] = value instead\n",
      "\n",
      "See the caveats in the documentation: https://pandas.pydata.org/pandas-docs/stable/user_guide/indexing.html#returning-a-view-versus-a-copy\n",
      "  features_train[numeric] = scaler.transform(features_train[numeric])\n",
      "/opt/conda/lib/python3.9/site-packages/pandas/core/indexing.py:1738: SettingWithCopyWarning: \n",
      "A value is trying to be set on a copy of a slice from a DataFrame.\n",
      "Try using .loc[row_indexer,col_indexer] = value instead\n",
      "\n",
      "See the caveats in the documentation: https://pandas.pydata.org/pandas-docs/stable/user_guide/indexing.html#returning-a-view-versus-a-copy\n",
      "  self._setitem_single_column(loc, value[:, i].tolist(), pi)\n",
      "/tmp/ipykernel_48/3478311116.py:11: SettingWithCopyWarning: \n",
      "A value is trying to be set on a copy of a slice from a DataFrame.\n",
      "Try using .loc[row_indexer,col_indexer] = value instead\n",
      "\n",
      "See the caveats in the documentation: https://pandas.pydata.org/pandas-docs/stable/user_guide/indexing.html#returning-a-view-versus-a-copy\n",
      "  features_valid[numeric] = scaler.transform(features_valid[numeric])\n",
      "/opt/conda/lib/python3.9/site-packages/pandas/core/indexing.py:1738: SettingWithCopyWarning: \n",
      "A value is trying to be set on a copy of a slice from a DataFrame.\n",
      "Try using .loc[row_indexer,col_indexer] = value instead\n",
      "\n",
      "See the caveats in the documentation: https://pandas.pydata.org/pandas-docs/stable/user_guide/indexing.html#returning-a-view-versus-a-copy\n",
      "  self._setitem_single_column(loc, value[:, i].tolist(), pi)\n",
      "/tmp/ipykernel_48/3478311116.py:12: SettingWithCopyWarning: \n",
      "A value is trying to be set on a copy of a slice from a DataFrame.\n",
      "Try using .loc[row_indexer,col_indexer] = value instead\n",
      "\n",
      "See the caveats in the documentation: https://pandas.pydata.org/pandas-docs/stable/user_guide/indexing.html#returning-a-view-versus-a-copy\n",
      "  features_test[numeric] = scaler.transform(features_test[numeric])\n",
      "/opt/conda/lib/python3.9/site-packages/pandas/core/indexing.py:1738: SettingWithCopyWarning: \n",
      "A value is trying to be set on a copy of a slice from a DataFrame.\n",
      "Try using .loc[row_indexer,col_indexer] = value instead\n",
      "\n",
      "See the caveats in the documentation: https://pandas.pydata.org/pandas-docs/stable/user_guide/indexing.html#returning-a-view-versus-a-copy\n",
      "  self._setitem_single_column(loc, value[:, i].tolist(), pi)\n"
     ]
    }
   ],
   "source": [
    "# Масштабируем признаки: обучающую, валидационную и тестовую выборку\n",
    "scaler = StandardScaler()\n",
    "\n",
    "# Выберем подходящие признаки по порядку (количественные, а не категориальные)\n",
    "numeric = ['CreditScore', 'Age', 'Balance', 'EstimatedSalary']\n",
    "\n",
    "scaler.fit(features_train[numeric])\n",
    "\n",
    "# Преобразуем обучающую, валидационную и тестовую выборки функцией transform()\n",
    "features_train[numeric] = scaler.transform(features_train[numeric])\n",
    "features_valid[numeric] = scaler.transform(features_valid[numeric])\n",
    "features_test[numeric] = scaler.transform(features_test[numeric])\n",
    "\n",
    "# Чтобы предупреждение не появлялось\n",
    "pd.options.mode.chained_assignment = None"
   ]
  },
  {
   "cell_type": "code",
   "execution_count": 12,
   "metadata": {},
   "outputs": [
    {
     "name": "stdout",
     "output_type": "stream",
     "text": [
      "(6000, 2944)\n",
      "(2000, 2944)\n",
      "(2000, 2944)\n"
     ]
    }
   ],
   "source": [
    "# Проверим\n",
    "print(features_train.shape)\n",
    "print(features_valid.shape)\n",
    "print(features_test.shape)"
   ]
  },
  {
   "cell_type": "code",
   "execution_count": 13,
   "metadata": {},
   "outputs": [
    {
     "data": {
      "text/html": [
       "<div>\n",
       "<style scoped>\n",
       "    .dataframe tbody tr th:only-of-type {\n",
       "        vertical-align: middle;\n",
       "    }\n",
       "\n",
       "    .dataframe tbody tr th {\n",
       "        vertical-align: top;\n",
       "    }\n",
       "\n",
       "    .dataframe thead th {\n",
       "        text-align: right;\n",
       "    }\n",
       "</style>\n",
       "<table border=\"1\" class=\"dataframe\">\n",
       "  <thead>\n",
       "    <tr style=\"text-align: right;\">\n",
       "      <th></th>\n",
       "      <th>RowNumber</th>\n",
       "      <th>CustomerId</th>\n",
       "      <th>CreditScore</th>\n",
       "      <th>Age</th>\n",
       "      <th>Tenure</th>\n",
       "      <th>Balance</th>\n",
       "      <th>NumOfProducts</th>\n",
       "      <th>HasCrCard</th>\n",
       "      <th>IsActiveMember</th>\n",
       "      <th>EstimatedSalary</th>\n",
       "      <th>...</th>\n",
       "      <th>Surname_Zotova</th>\n",
       "      <th>Surname_Zox</th>\n",
       "      <th>Surname_Zubarev</th>\n",
       "      <th>Surname_Zubareva</th>\n",
       "      <th>Surname_Zuev</th>\n",
       "      <th>Surname_Zuyev</th>\n",
       "      <th>Surname_Zuyeva</th>\n",
       "      <th>Geography_Germany</th>\n",
       "      <th>Geography_Spain</th>\n",
       "      <th>Gender_Male</th>\n",
       "    </tr>\n",
       "  </thead>\n",
       "  <tbody>\n",
       "    <tr>\n",
       "      <th>7479</th>\n",
       "      <td>7480</td>\n",
       "      <td>15671987</td>\n",
       "      <td>-0.886751</td>\n",
       "      <td>-0.373192</td>\n",
       "      <td>8.0</td>\n",
       "      <td>1.232271</td>\n",
       "      <td>1</td>\n",
       "      <td>1</td>\n",
       "      <td>0</td>\n",
       "      <td>-0.187705</td>\n",
       "      <td>...</td>\n",
       "      <td>0</td>\n",
       "      <td>0</td>\n",
       "      <td>0</td>\n",
       "      <td>0</td>\n",
       "      <td>0</td>\n",
       "      <td>0</td>\n",
       "      <td>0</td>\n",
       "      <td>0</td>\n",
       "      <td>1</td>\n",
       "      <td>1</td>\n",
       "    </tr>\n",
       "    <tr>\n",
       "      <th>3411</th>\n",
       "      <td>3412</td>\n",
       "      <td>15815628</td>\n",
       "      <td>0.608663</td>\n",
       "      <td>-0.183385</td>\n",
       "      <td>8.0</td>\n",
       "      <td>0.600563</td>\n",
       "      <td>1</td>\n",
       "      <td>0</td>\n",
       "      <td>0</td>\n",
       "      <td>-0.333945</td>\n",
       "      <td>...</td>\n",
       "      <td>0</td>\n",
       "      <td>0</td>\n",
       "      <td>0</td>\n",
       "      <td>0</td>\n",
       "      <td>0</td>\n",
       "      <td>0</td>\n",
       "      <td>0</td>\n",
       "      <td>0</td>\n",
       "      <td>0</td>\n",
       "      <td>0</td>\n",
       "    </tr>\n",
       "    <tr>\n",
       "      <th>6027</th>\n",
       "      <td>6028</td>\n",
       "      <td>15799494</td>\n",
       "      <td>2.052152</td>\n",
       "      <td>0.480939</td>\n",
       "      <td>3.0</td>\n",
       "      <td>1.027098</td>\n",
       "      <td>2</td>\n",
       "      <td>0</td>\n",
       "      <td>1</td>\n",
       "      <td>1.503095</td>\n",
       "      <td>...</td>\n",
       "      <td>0</td>\n",
       "      <td>0</td>\n",
       "      <td>0</td>\n",
       "      <td>0</td>\n",
       "      <td>0</td>\n",
       "      <td>0</td>\n",
       "      <td>0</td>\n",
       "      <td>1</td>\n",
       "      <td>0</td>\n",
       "      <td>1</td>\n",
       "    </tr>\n",
       "    <tr>\n",
       "      <th>1247</th>\n",
       "      <td>1248</td>\n",
       "      <td>15711288</td>\n",
       "      <td>-1.457915</td>\n",
       "      <td>-1.417129</td>\n",
       "      <td>6.0</td>\n",
       "      <td>-1.233163</td>\n",
       "      <td>2</td>\n",
       "      <td>1</td>\n",
       "      <td>0</td>\n",
       "      <td>-1.071061</td>\n",
       "      <td>...</td>\n",
       "      <td>0</td>\n",
       "      <td>0</td>\n",
       "      <td>0</td>\n",
       "      <td>0</td>\n",
       "      <td>0</td>\n",
       "      <td>0</td>\n",
       "      <td>0</td>\n",
       "      <td>0</td>\n",
       "      <td>0</td>\n",
       "      <td>1</td>\n",
       "    </tr>\n",
       "    <tr>\n",
       "      <th>3716</th>\n",
       "      <td>3717</td>\n",
       "      <td>15699492</td>\n",
       "      <td>0.130961</td>\n",
       "      <td>-1.132419</td>\n",
       "      <td>2.0</td>\n",
       "      <td>1.140475</td>\n",
       "      <td>1</td>\n",
       "      <td>0</td>\n",
       "      <td>0</td>\n",
       "      <td>1.524268</td>\n",
       "      <td>...</td>\n",
       "      <td>0</td>\n",
       "      <td>0</td>\n",
       "      <td>0</td>\n",
       "      <td>0</td>\n",
       "      <td>0</td>\n",
       "      <td>0</td>\n",
       "      <td>0</td>\n",
       "      <td>1</td>\n",
       "      <td>0</td>\n",
       "      <td>0</td>\n",
       "    </tr>\n",
       "  </tbody>\n",
       "</table>\n",
       "<p>5 rows × 2944 columns</p>\n",
       "</div>"
      ],
      "text/plain": [
       "      RowNumber  CustomerId  CreditScore       Age  Tenure   Balance  \\\n",
       "7479       7480    15671987    -0.886751 -0.373192     8.0  1.232271   \n",
       "3411       3412    15815628     0.608663 -0.183385     8.0  0.600563   \n",
       "6027       6028    15799494     2.052152  0.480939     3.0  1.027098   \n",
       "1247       1248    15711288    -1.457915 -1.417129     6.0 -1.233163   \n",
       "3716       3717    15699492     0.130961 -1.132419     2.0  1.140475   \n",
       "\n",
       "      NumOfProducts  HasCrCard  IsActiveMember  EstimatedSalary  ...  \\\n",
       "7479              1          1               0        -0.187705  ...   \n",
       "3411              1          0               0        -0.333945  ...   \n",
       "6027              2          0               1         1.503095  ...   \n",
       "1247              2          1               0        -1.071061  ...   \n",
       "3716              1          0               0         1.524268  ...   \n",
       "\n",
       "      Surname_Zotova  Surname_Zox  Surname_Zubarev  Surname_Zubareva  \\\n",
       "7479               0            0                0                 0   \n",
       "3411               0            0                0                 0   \n",
       "6027               0            0                0                 0   \n",
       "1247               0            0                0                 0   \n",
       "3716               0            0                0                 0   \n",
       "\n",
       "      Surname_Zuev  Surname_Zuyev  Surname_Zuyeva  Geography_Germany  \\\n",
       "7479             0              0               0                  0   \n",
       "3411             0              0               0                  0   \n",
       "6027             0              0               0                  1   \n",
       "1247             0              0               0                  0   \n",
       "3716             0              0               0                  1   \n",
       "\n",
       "      Geography_Spain  Gender_Male  \n",
       "7479                1            1  \n",
       "3411                0            0  \n",
       "6027                0            1  \n",
       "1247                0            1  \n",
       "3716                0            0  \n",
       "\n",
       "[5 rows x 2944 columns]"
      ]
     },
     "execution_count": 13,
     "metadata": {},
     "output_type": "execute_result"
    }
   ],
   "source": [
    "features_train.head()"
   ]
  },
  {
   "cell_type": "markdown",
   "metadata": {},
   "source": [
    "Все в порядке, переходим дальше"
   ]
  },
  {
   "cell_type": "code",
   "execution_count": 14,
   "metadata": {
    "scrolled": true
   },
   "outputs": [],
   "source": [
    "# Примененим методом решающего дерева\n",
    "model = DecisionTreeClassifier(random_state=12345)\n",
    "\n",
    "model.fit(features_train, target_train)\n",
    "\n",
    "predicted_valid = model.predict(features_valid)\n",
    "accuracy_valid = accuracy_score(target_valid, predicted_valid) "
   ]
  },
  {
   "cell_type": "code",
   "execution_count": 15,
   "metadata": {},
   "outputs": [
    {
     "data": {
      "text/plain": [
       "0.8205"
      ]
     },
     "execution_count": 15,
     "metadata": {},
     "output_type": "execute_result"
    }
   ],
   "source": [
    "accuracy_valid"
   ]
  },
  {
   "cell_type": "code",
   "execution_count": 16,
   "metadata": {},
   "outputs": [
    {
     "name": "stdout",
     "output_type": "stream",
     "text": [
      "Тестовая выборка: 0.808\n"
     ]
    }
   ],
   "source": [
    "# Получим предсказания тестовой модели\n",
    "test_predictions = model.predict(features_test)\n",
    "print(\"Тестовая выборка:\", accuracy_score(target_test, test_predictions))"
   ]
  },
  {
   "cell_type": "code",
   "execution_count": 17,
   "metadata": {},
   "outputs": [],
   "source": [
    "# А теперь применим методом случайного леса\n",
    "best_model = None\n",
    "best_result = 0\n",
    "for est in range(1, 11):\n",
    "    # Обучим модель с заданным количеством деревьев\n",
    "    model = RandomForestClassifier(random_state=12345, n_estimators=est) \n",
    "    \n",
    "    # Обучим модель на тренировочной выборке\n",
    "    model.fit(features_train, target_train) \n",
    "    \n",
    "    # Посчитаем качество модели на валидационной выборке\n",
    "    result = model.score(features_valid, target_valid) \n",
    "    \n",
    "    if result > best_result:\n",
    "        # Сохраним наилучшую модель\n",
    "        best_model = model\n",
    "        # Сохраним наилучшее значение метрики accuracy на валидационных данных\n",
    "        best_result = result"
   ]
  },
  {
   "cell_type": "code",
   "execution_count": 18,
   "metadata": {},
   "outputs": [
    {
     "name": "stdout",
     "output_type": "stream",
     "text": [
      "Accuracy наилучшей модели на валидационной выборке: 0.8415\n"
     ]
    }
   ],
   "source": [
    "print(\"Accuracy наилучшей модели на валидационной выборке:\", best_result)"
   ]
  },
  {
   "cell_type": "code",
   "execution_count": 19,
   "metadata": {},
   "outputs": [
    {
     "name": "stdout",
     "output_type": "stream",
     "text": [
      "Тестовая выборка: 0.83\n"
     ]
    }
   ],
   "source": [
    "# Получим предсказания тестовой модели\n",
    "test_predictions = model.predict(features_test)\n",
    "print(\"Тестовая выборка:\", accuracy_score(target_test, test_predictions))"
   ]
  },
  {
   "cell_type": "code",
   "execution_count": 20,
   "metadata": {
    "scrolled": true
   },
   "outputs": [
    {
     "data": {
      "text/plain": [
       "0.8006666666666666"
      ]
     },
     "execution_count": 20,
     "metadata": {},
     "output_type": "execute_result"
    }
   ],
   "source": [
    "# Проверим модель на адекватность\n",
    "\n",
    "# Устанавливаем стратегию прогноза как \"самый частый случай\", \n",
    "# т.е. частую метку класса в наблюдаемом аргументе target, \n",
    "# переданном для соответствия\n",
    "dummy_clf = DummyClassifier(strategy = \"most_frequent\")\n",
    "\n",
    "# Обучим модель\n",
    "dummy_clf.fit(features_train, target_train)\n",
    "\n",
    "# Создаем модель, указав стратению как \"самый частый случай\"\n",
    "DummyClassifier(strategy = 'most_frequent')\n",
    "\n",
    "# Получим предсказания модели\n",
    "dummy_clf.predict(features_train)\n",
    "\n",
    "# Посчитаем качество модели\n",
    "dummy_clf.score(features_train, target_train)"
   ]
  },
  {
   "cell_type": "markdown",
   "metadata": {},
   "source": [
    "Можно сказать, что метод обучения \"Решающего дерева\" эффективный, т.к. модель на тестовой выборке показала себя лучше остальных."
   ]
  },
  {
   "cell_type": "markdown",
   "metadata": {},
   "source": [
    "Но данные модели \"Решающего дерева\" и модели на адекватность почти одинаковые, разница лишь 2%, будем бороться с дисбалансом"
   ]
  },
  {
   "cell_type": "markdown",
   "metadata": {},
   "source": [
    "## Борьба с дисбалансом"
   ]
  },
  {
   "cell_type": "code",
   "execution_count": 21,
   "metadata": {},
   "outputs": [
    {
     "data": {
      "text/plain": [
       "array([[1443,  139],\n",
       "       [ 220,  198]])"
      ]
     },
     "execution_count": 21,
     "metadata": {},
     "output_type": "execute_result"
    }
   ],
   "source": [
    "confusion_matrix(target_valid,predicted_valid)"
   ]
  },
  {
   "cell_type": "markdown",
   "metadata": {},
   "source": [
    "Здесь получается, что \n",
    "- TN; FP\n",
    "- FN; TP\n",
    "\n",
    "\n",
    "TN - истинно отрицательные ответы (1443)\n",
    "\n",
    "FP - ложноотрицательные ответы (139)\n",
    "\n",
    "FN - ложноположительные ответы (220)\n",
    "\n",
    "TP - истинно положительные ответы (198)\n",
    "\n",
    "Здесь значения TN намного превысили остальных"
   ]
  },
  {
   "cell_type": "code",
   "execution_count": 22,
   "metadata": {},
   "outputs": [
    {
     "data": {
      "text/plain": [
       "0.47368421052631576"
      ]
     },
     "execution_count": 22,
     "metadata": {},
     "output_type": "execute_result"
    }
   ],
   "source": [
    "# Выявляем полноту, т.е. долю TP-ответов среди всех, у которых истинная метка 1. \n",
    "# Хорошо, когда значение recall близко к единице: модель хорошо ищет положительные объекты. \n",
    "# Если ближе к нулю — модель надо перепроверить и починить.\n",
    "\n",
    "recall_score(target_valid, predicted_valid)"
   ]
  },
  {
   "cell_type": "markdown",
   "metadata": {},
   "source": [
    "Здесь приблизилась к золотой середине, ни плохо, ни слишком идеально"
   ]
  },
  {
   "cell_type": "code",
   "execution_count": 23,
   "metadata": {},
   "outputs": [
    {
     "data": {
      "text/plain": [
       "0.5875370919881305"
      ]
     },
     "execution_count": 23,
     "metadata": {},
     "output_type": "execute_result"
    }
   ],
   "source": [
    "# Выявляем точность, т.е. как много отрицательных ответов нашла модель, пока искала положительные. \n",
    "# Чем больше отрицательных, тем ниже точность.\n",
    "precision_score(target_valid, predicted_valid)"
   ]
  },
  {
   "cell_type": "markdown",
   "metadata": {},
   "source": [
    "Здесь точность нам удовлетворит"
   ]
  },
  {
   "cell_type": "code",
   "execution_count": 24,
   "metadata": {},
   "outputs": [
    {
     "data": {
      "text/plain": [
       "0.5245033112582781"
      ]
     },
     "execution_count": 24,
     "metadata": {},
     "output_type": "execute_result"
    }
   ],
   "source": [
    "# Выявляем F1-меру, т.е. соотношение полноты и точности\n",
    "f1_score(target_valid, predicted_valid)"
   ]
  },
  {
   "cell_type": "markdown",
   "metadata": {},
   "source": [
    "Здесь получилось меньше по заявленному требованию - 0.59"
   ]
  },
  {
   "cell_type": "code",
   "execution_count": 25,
   "metadata": {},
   "outputs": [],
   "source": [
    "# Создадим функуцию для контроля выборки\n",
    "def upsample(features, target, repeat):\n",
    "    features_zeros = features[target == 0]\n",
    "    features_ones = features[target == 1]\n",
    "    target_zeros = target[target == 0]\n",
    "    target_ones = target[target == 1]\n",
    "\n",
    "    features_upsampled = pd.concat([features_zeros] + [features_ones] * repeat)\n",
    "    target_upsampled = pd.concat([target_zeros] + [target_ones] * repeat)\n",
    "    \n",
    "    features_upsampled, target_upsampled = shuffle(features_upsampled, target_upsampled, random_state=12345)\n",
    "    \n",
    "    return features_upsampled, target_upsampled"
   ]
  },
  {
   "cell_type": "code",
   "execution_count": 26,
   "metadata": {},
   "outputs": [],
   "source": [
    "# Вызываем функцию\n",
    "features_upsampled, target_upsampled = upsample(features_train, target_train, 10)"
   ]
  },
  {
   "cell_type": "code",
   "execution_count": 27,
   "metadata": {},
   "outputs": [],
   "source": [
    "# Попробуем увеличить F1-меру методом \"Решающего дерева\"\n",
    "model = DecisionTreeClassifier(random_state=12345)\n",
    "\n",
    "model.fit(features_upsampled, target_upsampled)\n",
    "\n",
    "predicted_valid = model.predict(features_valid)\n",
    "\n",
    "score = model.score(features_valid, target_valid)"
   ]
  },
  {
   "cell_type": "code",
   "execution_count": 28,
   "metadata": {},
   "outputs": [
    {
     "name": "stdout",
     "output_type": "stream",
     "text": [
      "F1: 0.5464362850971923\n"
     ]
    }
   ],
   "source": [
    "print(\"F1:\", f1_score(target_valid, predicted_valid))"
   ]
  },
  {
   "cell_type": "markdown",
   "metadata": {},
   "source": [
    "Не так уж сильно увеличился, лишь на 2%. Попробуем методом случайного леса"
   ]
  },
  {
   "cell_type": "code",
   "execution_count": 29,
   "metadata": {},
   "outputs": [],
   "source": [
    "# А теперь применим методом случайного леса\n",
    "best_model = None\n",
    "best_result = 0\n",
    "for est in range(1, 11):\n",
    "    # Обучим модель с заданным количеством деревьев\n",
    "    model = RandomForestClassifier(random_state=12345, n_estimators=est) \n",
    "    \n",
    "    # Обучим модель на тренировочной выборке\n",
    "    model.fit(features_upsampled, target_upsampled)\n",
    "    \n",
    "    # Посчитаем качество модели на валидационной выборке\n",
    "    result = model.score(features_valid, target_valid) \n",
    "    \n",
    "    if result > best_result:\n",
    "        # Сохраним наилучшую модель\n",
    "        best_model = model\n",
    "        # Сохраним наилучшее значение метрики accuracy на валидационных данных\n",
    "        best_result = result"
   ]
  },
  {
   "cell_type": "code",
   "execution_count": 30,
   "metadata": {},
   "outputs": [],
   "source": [
    "# Получаем предсказания\n",
    "predicted_valid = model.predict(features_valid)"
   ]
  },
  {
   "cell_type": "code",
   "execution_count": 31,
   "metadata": {},
   "outputs": [
    {
     "name": "stdout",
     "output_type": "stream",
     "text": [
      "F1: 0.46839080459770116\n"
     ]
    }
   ],
   "source": [
    "print(\"F1:\", f1_score(target_valid, predicted_valid))"
   ]
  },
  {
   "cell_type": "markdown",
   "metadata": {},
   "source": [
    "Стало хуже, уменьшился на 8%. Попробуем уменьшить выборку"
   ]
  },
  {
   "cell_type": "code",
   "execution_count": 32,
   "metadata": {},
   "outputs": [],
   "source": [
    "# Создадим функцию, которая будет уменьшать выборки\n",
    "def downsample(features, target, fraction):\n",
    "    features_zeros = features[target == 0]\n",
    "    features_ones = features[target == 1]\n",
    "    target_zeros = target[target == 0]\n",
    "    target_ones = target[target == 1]\n",
    "\n",
    "    features_downsampled = pd.concat(\n",
    "        [features_zeros.sample(frac=fraction, random_state=12345)] + [features_ones])\n",
    "    target_downsampled = pd.concat(\n",
    "        [target_zeros.sample(frac=fraction, random_state=12345)] + [target_ones])\n",
    "    \n",
    "    features_downsampled, target_downsampled = shuffle(\n",
    "        features_downsampled, target_downsampled, random_state=12345)\n",
    "    \n",
    "    return features_downsampled, target_downsampled"
   ]
  },
  {
   "cell_type": "code",
   "execution_count": 33,
   "metadata": {},
   "outputs": [],
   "source": [
    "# Вызываем функцию\n",
    "features_downsampled, target_downsampled = downsample(features_train, target_train, 0.1)"
   ]
  },
  {
   "cell_type": "code",
   "execution_count": 34,
   "metadata": {},
   "outputs": [],
   "source": [
    "# Попробуем увеличить F1-меру методом \"Решающего дерева\"\n",
    "model = DecisionTreeClassifier(random_state=12345)\n",
    "\n",
    "model.fit(features_downsampled, target_downsampled)\n",
    "\n",
    "predicted_valid = model.predict(features_valid)\n",
    "\n",
    "score = model.score(features_valid, target_valid)"
   ]
  },
  {
   "cell_type": "code",
   "execution_count": 35,
   "metadata": {},
   "outputs": [
    {
     "name": "stdout",
     "output_type": "stream",
     "text": [
      "F1: 0.4589947089947089\n"
     ]
    }
   ],
   "source": [
    "print(\"F1:\", f1_score(target_valid, predicted_valid))"
   ]
  },
  {
   "cell_type": "markdown",
   "metadata": {},
   "source": [
    "Еще хуже. Другой метод попробуем"
   ]
  },
  {
   "cell_type": "code",
   "execution_count": 36,
   "metadata": {},
   "outputs": [],
   "source": [
    "# А теперь применим методом случайного леса\n",
    "best_model = None\n",
    "best_result = 0\n",
    "for est in range(1, 11):\n",
    "    # Обучим модель с заданным количеством деревьев\n",
    "    model = RandomForestClassifier(random_state=12345, n_estimators=est) \n",
    "    \n",
    "    # Обучим модель на тренировочной выборке\n",
    "    model.fit(features_downsampled, target_downsampled)\n",
    "    \n",
    "    # Посчитаем качество модели на валидационной выборке\n",
    "    result = model.score(features_valid, target_valid) \n",
    "    \n",
    "    if result > best_result:\n",
    "        # Сохраним наилучшую модель\n",
    "        best_model = model\n",
    "        # Сохраним наилучшее значение метрики accuracy на валидационных данных\n",
    "        best_result = result\n",
    "\n",
    "# Получаем предсказания\n",
    "predicted_valid = model.predict(features_valid)"
   ]
  },
  {
   "cell_type": "code",
   "execution_count": 37,
   "metadata": {},
   "outputs": [
    {
     "name": "stdout",
     "output_type": "stream",
     "text": [
      "F1: 0.4281490242460083\n"
     ]
    }
   ],
   "source": [
    "print(\"F1:\", f1_score(target_valid, predicted_valid))"
   ]
  },
  {
   "cell_type": "markdown",
   "metadata": {},
   "source": [
    "Не совсем уж так сильно увеличился, остался на уровне"
   ]
  },
  {
   "cell_type": "code",
   "execution_count": 38,
   "metadata": {},
   "outputs": [
    {
     "name": "stdout",
     "output_type": "stream",
     "text": [
      "Порог = 0.00 | Точность = 0.209, Полнота = 0.998, F1 = 0.34563\n",
      "Порог = 0.02 | Точность = 0.209, Полнота = 0.998, F1 = 0.34563\n",
      "Порог = 0.04 | Точность = 0.209, Полнота = 0.998, F1 = 0.34563\n",
      "Порог = 0.06 | Точность = 0.209, Полнота = 0.998, F1 = 0.34563\n",
      "Порог = 0.08 | Точность = 0.209, Полнота = 0.998, F1 = 0.34563\n",
      "Порог = 0.10 | Точность = 0.212, Полнота = 0.990, F1 = 0.34893\n",
      "Порог = 0.12 | Точность = 0.212, Полнота = 0.990, F1 = 0.34893\n",
      "Порог = 0.14 | Точность = 0.212, Полнота = 0.990, F1 = 0.34893\n",
      "Порог = 0.16 | Точность = 0.212, Полнота = 0.990, F1 = 0.34893\n",
      "Порог = 0.18 | Точность = 0.212, Полнота = 0.990, F1 = 0.34893\n",
      "Порог = 0.20 | Точность = 0.220, Полнота = 0.986, F1 = 0.35998\n",
      "Порог = 0.22 | Точность = 0.220, Полнота = 0.986, F1 = 0.35998\n",
      "Порог = 0.24 | Точность = 0.220, Полнота = 0.986, F1 = 0.35998\n",
      "Порог = 0.26 | Точность = 0.220, Полнота = 0.986, F1 = 0.35998\n",
      "Порог = 0.28 | Точность = 0.220, Полнота = 0.986, F1 = 0.35998\n"
     ]
    }
   ],
   "source": [
    "# Проверим на порог\n",
    "probabilities_valid = model.predict_proba(features_valid)\n",
    "probabilities_one_valid = probabilities_valid[:, 1]\n",
    "\n",
    "for threshold in np.arange(0, 0.3, 0.02):\n",
    "    predicted_valid = probabilities_one_valid > threshold\n",
    "    precision = precision_score(target_valid, predicted_valid)\n",
    "    recall = recall_score(target_valid, predicted_valid)\n",
    "    f1 = f1_score(target_valid, predicted_valid)\n",
    "    \n",
    "    print(\"Порог = {:.2f} | Точность = {:.3f}, Полнота = {:.3f}, F1 = {:.5f}\".format(threshold, precision, recall, f1))"
   ]
  },
  {
   "cell_type": "markdown",
   "metadata": {},
   "source": [
    "<div class=\"alert alert-block alert-info\">\n",
    "\n",
    "Изменяя значение порога, F1 не так уж сильно меняется, есть у меня недотчеты? Если против, то после того как у меня получится превысить значения 0.58 проведу тестирование (в 4 пункте)?\n",
    "    \n",
    "</div>"
   ]
  },
  {
   "cell_type": "code",
   "execution_count": 39,
   "metadata": {},
   "outputs": [],
   "source": [
    "# Попробуем применить методом \"Решающего дерева\"\n",
    "model = DecisionTreeClassifier(random_state=12345)\n",
    "\n",
    "model.fit(features_train, target_train)\n",
    "\n",
    "probabilities_valid = model.predict_proba(features_valid)\n",
    "probabilities_one_valid = probabilities_valid[:, 1]\n",
    "\n",
    "auc_roc = roc_auc_score(target_valid, probabilities_one_valid)"
   ]
  },
  {
   "cell_type": "code",
   "execution_count": 40,
   "metadata": {},
   "outputs": [
    {
     "data": {
      "text/plain": [
       "0.6929103732783285"
      ]
     },
     "execution_count": 40,
     "metadata": {},
     "output_type": "execute_result"
    }
   ],
   "source": [
    "auc_roc"
   ]
  },
  {
   "cell_type": "code",
   "execution_count": 43,
   "metadata": {},
   "outputs": [
    {
     "data": {
      "image/png": "[encoded data removed]",
      "text/plain": [
       "<Figure size 432x288 with 1 Axes>"
      ]
     },
     "metadata": {
      "needs_background": "light"
     },
     "output_type": "display_data"
    }
   ],
   "source": [
    "# Изображаем ROC-кривую\n",
    "fpr, tpr, thresholds = roc_curve(target_valid, probabilities_one_valid)\n",
    "\n",
    "plt.figure()\n",
    "\n",
    "plt.plot(fpr, tpr)\n",
    "\n",
    "plt.plot([0, 1], [0, 1], linestyle='--')\n",
    "\n",
    "plt.xlim([0.0, 1.0])\n",
    "plt.ylim([0.0, 1.0])\n",
    "\n",
    "plt.xlabel('False Positive Rate')\n",
    "plt.ylabel('True Positive Rate')\n",
    "\n",
    "plt.title('ROC-кривая')\n",
    "plt.show()"
   ]
  },
  {
   "cell_type": "code",
   "execution_count": 44,
   "metadata": {},
   "outputs": [],
   "source": [
    "# Попробуем применить методом \"Случайного дерева\"\n",
    "best_model = None\n",
    "best_result = 0\n",
    "for est in range(1, 11):\n",
    "    # Обучим модель с заданным количеством деревьев\n",
    "    model = RandomForestClassifier(random_state=12345, n_estimators=est) \n",
    "    \n",
    "    # Обучим модель на тренировочной выборке\n",
    "    model.fit(features_downsampled, target_downsampled)\n",
    "    \n",
    "    # Посчитаем качество модели на валидационной выборке\n",
    "    result = model.score(features_valid, target_valid) \n",
    "    \n",
    "    if result > best_result:\n",
    "        # Сохраним наилучшую модель\n",
    "        best_model = model\n",
    "        # Сохраним наилучшее значение метрики accuracy на валидационных данных\n",
    "        best_result = result\n",
    "\n",
    "# Получаем предсказания\n",
    "predicted_valid = model.predict(features_valid)"
   ]
  },
  {
   "cell_type": "code",
   "execution_count": 45,
   "metadata": {},
   "outputs": [],
   "source": [
    "probabilities_valid = model.predict_proba(features_valid)\n",
    "probabilities_one_valid = probabilities_valid[:, 1]\n",
    "\n",
    "auc_roc = roc_auc_score(target_valid, probabilities_one_valid)"
   ]
  },
  {
   "cell_type": "code",
   "execution_count": 46,
   "metadata": {},
   "outputs": [
    {
     "data": {
      "text/plain": [
       "0.7330509499815508"
      ]
     },
     "execution_count": 46,
     "metadata": {},
     "output_type": "execute_result"
    }
   ],
   "source": [
    "auc_roc"
   ]
  },
  {
   "cell_type": "code",
   "execution_count": 47,
   "metadata": {},
   "outputs": [
    {
     "data": {
      "image/png": "[encoded data removed]",
      "text/plain": [
       "<Figure size 432x288 with 1 Axes>"
      ]
     },
     "metadata": {
      "needs_background": "light"
     },
     "output_type": "display_data"
    }
   ],
   "source": [
    "# Изображаем ROC-кривую\n",
    "fpr, tpr, thresholds = roc_curve(target_valid, probabilities_one_valid)\n",
    "\n",
    "plt.figure()\n",
    "\n",
    "plt.plot(fpr, tpr)\n",
    "\n",
    "plt.plot([0, 1], [0, 1], linestyle='--')\n",
    "\n",
    "plt.xlim([0.0, 1.0])\n",
    "plt.ylim([0.0, 1.0])\n",
    "\n",
    "plt.xlabel('False Positive Rate')\n",
    "plt.ylabel('True Positive Rate')\n",
    "\n",
    "plt.title('ROC-кривая')\n",
    "plt.show()"
   ]
  },
  {
   "cell_type": "markdown",
   "metadata": {},
   "source": [
    "Здесь намного получше, чем методм \"Решающее дерево\""
   ]
  },
  {
   "cell_type": "markdown",
   "metadata": {},
   "source": [
    "## Тестирование модели"
   ]
  },
  {
   "cell_type": "code",
   "execution_count": null,
   "metadata": {},
   "outputs": [],
   "source": []
  },
  {
   "cell_type": "markdown",
   "metadata": {},
   "source": [
    "## Чек-лист готовности проекта"
   ]
  },
  {
   "cell_type": "markdown",
   "metadata": {},
   "source": [
    "Поставьте 'x' в выполненных пунктах. Далее нажмите Shift+Enter."
   ]
  },
  {
   "cell_type": "markdown",
   "metadata": {},
   "source": [
    "- [x]  Jupyter Notebook открыт\n",
    "- [x]  Весь код выполняется без ошибок\n",
    "- [x]  Ячейки с кодом расположены в порядке исполнения\n",
    "- [x]  Выполнен шаг 1: данные подготовлены\n",
    "- [x]  Выполнен шаг 2: задача исследована\n",
    "    - [x]  Исследован баланс классов\n",
    "    - [x]  Изучены модели без учёта дисбаланса\n",
    "    - [x]  Написаны выводы по результатам исследования\n",
    "- [x]  Выполнен шаг 3: учтён дисбаланс\n",
    "    - [x]  Применено несколько способов борьбы с дисбалансом\n",
    "    - [x]  Написаны выводы по результатам исследования\n",
    "- [ ]  Выполнен шаг 4: проведено тестирование\n",
    "- [ ]  Удалось достичь *F1*-меры не менее 0.59\n",
    "- [x]  Исследована метрика *AUC-ROC*"
   ]
  },
  {
   "cell_type": "code",
   "execution_count": null,
   "metadata": {},
   "outputs": [],
   "source": []
  }
 ],
 "metadata": {
  "ExecuteTimeLog": [
   {
    "duration": 1158,
    "start_time": "2023-02-01T18:25:46.085Z"
   },
   {
    "duration": 188,
    "start_time": "2023-02-01T18:27:27.799Z"
   },
   {
    "duration": 49,
    "start_time": "2023-02-01T18:28:44.866Z"
   },
   {
    "duration": 20,
    "start_time": "2023-02-01T18:28:52.167Z"
   },
   {
    "duration": 8,
    "start_time": "2023-02-01T18:36:04.825Z"
   },
   {
    "duration": 3,
    "start_time": "2023-02-01T18:37:53.497Z"
   },
   {
    "duration": 16,
    "start_time": "2023-02-01T18:39:26.960Z"
   },
   {
    "duration": 8,
    "start_time": "2023-02-01T18:39:31.282Z"
   },
   {
    "duration": 4,
    "start_time": "2023-02-01T18:43:00.320Z"
   },
   {
    "duration": 7,
    "start_time": "2023-02-01T18:43:05.001Z"
   },
   {
    "duration": 8,
    "start_time": "2023-02-01T18:43:08.541Z"
   },
   {
    "duration": 199,
    "start_time": "2023-02-01T18:44:30.389Z"
   },
   {
    "duration": 102,
    "start_time": "2023-02-01T18:45:51.216Z"
   },
   {
    "duration": 67,
    "start_time": "2023-02-01T18:45:56.434Z"
   },
   {
    "duration": 34,
    "start_time": "2023-02-01T18:47:43.048Z"
   },
   {
    "duration": 22,
    "start_time": "2023-02-01T18:48:09.783Z"
   },
   {
    "duration": 71,
    "start_time": "2023-02-01T18:48:28.289Z"
   },
   {
    "duration": 64,
    "start_time": "2023-02-01T18:49:02.744Z"
   },
   {
    "duration": 39,
    "start_time": "2023-02-01T18:49:59.986Z"
   },
   {
    "duration": 12,
    "start_time": "2023-02-01T18:50:53.310Z"
   },
   {
    "duration": 3,
    "start_time": "2023-02-01T18:58:33.761Z"
   },
   {
    "duration": 770,
    "start_time": "2023-02-01T19:00:09.679Z"
   },
   {
    "duration": 827,
    "start_time": "2023-02-01T19:01:30.601Z"
   },
   {
    "duration": 817,
    "start_time": "2023-02-01T19:01:38.024Z"
   },
   {
    "duration": 34,
    "start_time": "2023-02-01T19:01:39.522Z"
   },
   {
    "duration": 843,
    "start_time": "2023-02-01T19:03:00.258Z"
   },
   {
    "duration": 763,
    "start_time": "2023-02-01T19:03:21.179Z"
   },
   {
    "duration": 774,
    "start_time": "2023-02-01T19:03:25.764Z"
   },
   {
    "duration": 855,
    "start_time": "2023-02-01T19:03:37.280Z"
   },
   {
    "duration": 16,
    "start_time": "2023-02-01T19:03:39.181Z"
   },
   {
    "duration": 1066,
    "start_time": "2023-02-01T19:06:31.737Z"
   },
   {
    "duration": 25,
    "start_time": "2023-02-01T19:06:33.044Z"
   },
   {
    "duration": 854,
    "start_time": "2023-02-01T19:07:25.517Z"
   },
   {
    "duration": 879,
    "start_time": "2023-02-01T19:07:32.823Z"
   },
   {
    "duration": 907,
    "start_time": "2023-02-01T19:07:36.433Z"
   },
   {
    "duration": 182,
    "start_time": "2023-02-01T19:10:49.679Z"
   },
   {
    "duration": 528,
    "start_time": "2023-02-01T19:17:23.409Z"
   },
   {
    "duration": 64,
    "start_time": "2023-02-01T19:19:12.576Z"
   },
   {
    "duration": 31,
    "start_time": "2023-02-01T19:19:13.383Z"
   },
   {
    "duration": 436,
    "start_time": "2023-02-01T19:20:09.021Z"
   },
   {
    "duration": 412,
    "start_time": "2023-02-01T19:20:29.223Z"
   },
   {
    "duration": 22,
    "start_time": "2023-02-01T19:20:58.403Z"
   },
   {
    "duration": 8,
    "start_time": "2023-02-01T19:21:21.196Z"
   },
   {
    "duration": 15,
    "start_time": "2023-02-01T19:21:25.711Z"
   },
   {
    "duration": 16,
    "start_time": "2023-02-01T19:21:50.379Z"
   },
   {
    "duration": 4,
    "start_time": "2023-02-01T19:22:02.088Z"
   },
   {
    "duration": 61,
    "start_time": "2023-02-01T19:22:03.126Z"
   },
   {
    "duration": 15,
    "start_time": "2023-02-01T19:22:06.797Z"
   },
   {
    "duration": 12,
    "start_time": "2023-02-01T19:22:07.826Z"
   },
   {
    "duration": 223,
    "start_time": "2023-02-01T19:22:09.962Z"
   },
   {
    "duration": 48,
    "start_time": "2023-02-01T19:22:11.019Z"
   },
   {
    "duration": 68,
    "start_time": "2023-02-01T19:22:11.821Z"
   },
   {
    "duration": 24,
    "start_time": "2023-02-01T19:22:12.501Z"
   },
   {
    "duration": 23,
    "start_time": "2023-02-01T19:22:13.484Z"
   },
   {
    "duration": 21,
    "start_time": "2023-02-01T19:23:37.073Z"
   },
   {
    "duration": 26,
    "start_time": "2023-02-01T19:23:48.614Z"
   },
   {
    "duration": 21,
    "start_time": "2023-02-01T19:23:51.901Z"
   },
   {
    "duration": 6,
    "start_time": "2023-02-01T19:24:19.731Z"
   },
   {
    "duration": 4,
    "start_time": "2023-02-01T19:24:32.888Z"
   },
   {
    "duration": 5,
    "start_time": "2023-02-01T19:24:51.875Z"
   },
   {
    "duration": 41,
    "start_time": "2023-02-01T19:25:08.395Z"
   },
   {
    "duration": 157,
    "start_time": "2023-02-01T19:25:46.374Z"
   },
   {
    "duration": 161,
    "start_time": "2023-02-01T19:26:14.742Z"
   },
   {
    "duration": 8,
    "start_time": "2023-02-01T19:26:19.969Z"
   },
   {
    "duration": 143,
    "start_time": "2023-02-01T19:26:25.194Z"
   },
   {
    "duration": 31,
    "start_time": "2023-02-01T19:28:26.447Z"
   },
   {
    "duration": 11,
    "start_time": "2023-02-01T19:28:33.325Z"
   },
   {
    "duration": 9,
    "start_time": "2023-02-01T19:28:40.594Z"
   },
   {
    "duration": 15,
    "start_time": "2023-02-01T19:28:46.099Z"
   },
   {
    "duration": 148,
    "start_time": "2023-02-01T19:29:03.626Z"
   },
   {
    "duration": 4,
    "start_time": "2023-02-01T19:29:57.996Z"
   },
   {
    "duration": 17,
    "start_time": "2023-02-01T19:35:21.827Z"
   },
   {
    "duration": 30,
    "start_time": "2023-02-01T19:35:29.841Z"
   },
   {
    "duration": 24,
    "start_time": "2023-02-01T19:35:41.474Z"
   },
   {
    "duration": 31,
    "start_time": "2023-02-01T19:35:56.276Z"
   },
   {
    "duration": 5,
    "start_time": "2023-02-01T19:36:05.472Z"
   },
   {
    "duration": 7,
    "start_time": "2023-02-01T19:36:08.145Z"
   },
   {
    "duration": 154,
    "start_time": "2023-02-01T19:38:22.547Z"
   },
   {
    "duration": 5,
    "start_time": "2023-02-01T19:42:16.521Z"
   },
   {
    "duration": 4,
    "start_time": "2023-02-01T19:42:26.796Z"
   },
   {
    "duration": 42,
    "start_time": "2023-02-01T19:42:43.803Z"
   },
   {
    "duration": 3,
    "start_time": "2023-02-01T19:42:50.005Z"
   },
   {
    "duration": 50,
    "start_time": "2023-02-01T19:42:50.863Z"
   },
   {
    "duration": 24,
    "start_time": "2023-02-01T19:42:55.559Z"
   },
   {
    "duration": 10,
    "start_time": "2023-02-01T19:42:56.642Z"
   },
   {
    "duration": 4,
    "start_time": "2023-02-01T19:43:00.510Z"
   },
   {
    "duration": 8,
    "start_time": "2023-02-01T19:43:01.055Z"
   },
   {
    "duration": 214,
    "start_time": "2023-02-01T19:43:06.019Z"
   },
   {
    "duration": 66,
    "start_time": "2023-02-01T19:43:06.720Z"
   },
   {
    "duration": 77,
    "start_time": "2023-02-01T19:43:07.338Z"
   },
   {
    "duration": 45,
    "start_time": "2023-02-01T19:43:08.241Z"
   },
   {
    "duration": 24,
    "start_time": "2023-02-01T19:43:09.004Z"
   },
   {
    "duration": 4,
    "start_time": "2023-02-01T19:43:09.694Z"
   },
   {
    "duration": 31,
    "start_time": "2023-02-01T19:43:11.132Z"
   },
   {
    "duration": 5,
    "start_time": "2023-02-01T19:43:13.600Z"
   },
   {
    "duration": 931,
    "start_time": "2023-02-01T19:43:14.168Z"
   },
   {
    "duration": 4,
    "start_time": "2023-02-01T19:43:18.821Z"
   },
   {
    "duration": 930,
    "start_time": "2023-02-01T19:46:02.099Z"
   },
   {
    "duration": 5,
    "start_time": "2023-02-01T19:46:06.694Z"
   },
   {
    "duration": 14,
    "start_time": "2023-02-01T19:46:16.847Z"
   },
   {
    "duration": 5694,
    "start_time": "2023-02-01T19:47:14.022Z"
   },
   {
    "duration": 3,
    "start_time": "2023-02-01T19:47:22.727Z"
   },
   {
    "duration": 4,
    "start_time": "2023-02-01T19:48:49.371Z"
   },
   {
    "duration": 13,
    "start_time": "2023-02-01T19:49:12.858Z"
   },
   {
    "duration": 51,
    "start_time": "2023-02-01T19:52:52.467Z"
   },
   {
    "duration": 5,
    "start_time": "2023-02-01T19:52:55.819Z"
   },
   {
    "duration": 55,
    "start_time": "2023-02-01T19:53:22.245Z"
   },
   {
    "duration": 56,
    "start_time": "2023-02-01T19:53:29.148Z"
   },
   {
    "duration": 56,
    "start_time": "2023-02-01T19:53:37.417Z"
   },
   {
    "duration": 876,
    "start_time": "2023-02-01T19:53:41.518Z"
   },
   {
    "duration": 18,
    "start_time": "2023-02-01T19:53:42.447Z"
   },
   {
    "duration": 47,
    "start_time": "2023-02-01T19:53:43.317Z"
   },
   {
    "duration": 5767,
    "start_time": "2023-02-01T19:53:46.901Z"
   },
   {
    "duration": 3,
    "start_time": "2023-02-01T19:53:52.679Z"
   },
   {
    "duration": 7,
    "start_time": "2023-02-01T19:53:55.945Z"
   },
   {
    "duration": 55,
    "start_time": "2023-02-01T19:53:59.237Z"
   },
   {
    "duration": 6,
    "start_time": "2023-02-01T19:54:01.501Z"
   },
   {
    "duration": 6,
    "start_time": "2023-02-01T19:56:42.759Z"
   },
   {
    "duration": 13,
    "start_time": "2023-02-01T19:57:02.797Z"
   },
   {
    "duration": 5,
    "start_time": "2023-02-01T19:57:05.114Z"
   },
   {
    "duration": 4,
    "start_time": "2023-02-01T20:01:16.541Z"
   },
   {
    "duration": 7,
    "start_time": "2023-02-01T20:01:38.490Z"
   },
   {
    "duration": 9,
    "start_time": "2023-02-01T20:07:26.286Z"
   },
   {
    "duration": 4,
    "start_time": "2023-02-01T20:07:48.575Z"
   },
   {
    "duration": 9,
    "start_time": "2023-02-01T20:07:53.504Z"
   },
   {
    "duration": 67,
    "start_time": "2023-02-01T20:08:35.030Z"
   },
   {
    "duration": 11,
    "start_time": "2023-02-01T20:08:42.268Z"
   },
   {
    "duration": 5,
    "start_time": "2023-02-01T20:12:56.174Z"
   },
   {
    "duration": 6,
    "start_time": "2023-02-01T20:13:09.316Z"
   },
   {
    "duration": 6,
    "start_time": "2023-02-01T20:14:25.329Z"
   },
   {
    "duration": 9,
    "start_time": "2023-02-01T20:20:51.711Z"
   },
   {
    "duration": 4,
    "start_time": "2023-02-01T20:20:58.146Z"
   },
   {
    "duration": 62,
    "start_time": "2023-02-01T20:21:08.861Z"
   },
   {
    "duration": 4,
    "start_time": "2023-02-01T20:21:22.900Z"
   },
   {
    "duration": 6,
    "start_time": "2023-02-01T20:21:39.762Z"
   },
   {
    "duration": 73,
    "start_time": "2023-02-01T20:21:49.704Z"
   },
   {
    "duration": 79,
    "start_time": "2023-02-01T20:22:25.363Z"
   },
   {
    "duration": 101,
    "start_time": "2023-02-01T20:22:34.980Z"
   },
   {
    "duration": 4,
    "start_time": "2023-02-01T20:22:35.589Z"
   },
   {
    "duration": 90,
    "start_time": "2023-02-01T20:22:36.476Z"
   },
   {
    "duration": 5,
    "start_time": "2023-02-01T20:22:43.376Z"
   },
   {
    "duration": 86,
    "start_time": "2023-02-01T20:22:44.676Z"
   },
   {
    "duration": 5,
    "start_time": "2023-02-01T20:23:12.189Z"
   },
   {
    "duration": 5,
    "start_time": "2023-02-01T20:23:16.838Z"
   },
   {
    "duration": 188,
    "start_time": "2023-02-01T20:23:17.572Z"
   },
   {
    "duration": 1484,
    "start_time": "2023-02-01T20:23:27.561Z"
   },
   {
    "duration": 167,
    "start_time": "2023-02-01T20:24:04.879Z"
   },
   {
    "duration": 1332,
    "start_time": "2023-02-01T20:24:21.140Z"
   },
   {
    "duration": 1270,
    "start_time": "2023-02-01T20:24:25.460Z"
   },
   {
    "duration": 7,
    "start_time": "2023-02-01T20:24:26.734Z"
   },
   {
    "duration": 14700,
    "start_time": "2023-02-01T20:25:23.712Z"
   },
   {
    "duration": 64,
    "start_time": "2023-02-01T20:26:04.345Z"
   },
   {
    "duration": 5,
    "start_time": "2023-02-01T20:26:05.642Z"
   },
   {
    "duration": 4,
    "start_time": "2023-02-01T20:27:30.221Z"
   },
   {
    "duration": 4,
    "start_time": "2023-02-01T20:28:04.129Z"
   },
   {
    "duration": 46,
    "start_time": "2023-02-01T20:28:22.789Z"
   },
   {
    "duration": 188,
    "start_time": "2023-02-01T20:28:46.887Z"
   },
   {
    "duration": 9,
    "start_time": "2023-02-01T20:28:56.948Z"
   },
   {
    "duration": 14809,
    "start_time": "2023-02-01T20:29:48.328Z"
   },
   {
    "duration": 1661,
    "start_time": "2023-02-01T20:30:09.334Z"
   },
   {
    "duration": 10,
    "start_time": "2023-02-01T20:30:12.452Z"
   },
   {
    "duration": 11,
    "start_time": "2023-02-01T20:34:16.642Z"
   },
   {
    "duration": 9,
    "start_time": "2023-02-01T20:34:34.345Z"
   },
   {
    "duration": 13,
    "start_time": "2023-02-01T20:34:39.571Z"
   },
   {
    "duration": 4,
    "start_time": "2023-02-01T20:34:54.301Z"
   },
   {
    "duration": 11,
    "start_time": "2023-02-01T20:34:57.103Z"
   },
   {
    "duration": 116,
    "start_time": "2023-02-01T20:35:17.300Z"
   },
   {
    "duration": 5,
    "start_time": "2023-02-01T20:36:56.632Z"
   },
   {
    "duration": 4,
    "start_time": "2023-02-01T20:37:06.216Z"
   },
   {
    "duration": 5,
    "start_time": "2023-02-01T20:37:11.717Z"
   },
   {
    "duration": 57,
    "start_time": "2023-02-01T20:37:16.565Z"
   },
   {
    "duration": 71,
    "start_time": "2023-02-01T20:37:48.644Z"
   },
   {
    "duration": 63,
    "start_time": "2023-02-01T20:37:58.469Z"
   },
   {
    "duration": 67,
    "start_time": "2023-02-01T20:38:06.392Z"
   },
   {
    "duration": 120,
    "start_time": "2023-02-01T20:38:14.391Z"
   },
   {
    "duration": 129,
    "start_time": "2023-02-01T20:38:27.520Z"
   },
   {
    "duration": 4,
    "start_time": "2023-02-01T20:43:28.630Z"
   },
   {
    "duration": 838,
    "start_time": "2023-02-01T20:44:35.501Z"
   },
   {
    "duration": 4,
    "start_time": "2023-02-01T20:44:53.075Z"
   },
   {
    "duration": 922,
    "start_time": "2023-02-01T20:44:56.303Z"
   },
   {
    "duration": 3,
    "start_time": "2023-02-01T20:44:58.112Z"
   },
   {
    "duration": 9,
    "start_time": "2023-02-01T20:47:42.932Z"
   },
   {
    "duration": 469,
    "start_time": "2023-02-01T20:48:03.348Z"
   },
   {
    "duration": 134,
    "start_time": "2023-02-01T20:48:07.488Z"
   },
   {
    "duration": 58,
    "start_time": "2023-02-01T20:52:01.052Z"
   },
   {
    "duration": 2,
    "start_time": "2023-02-01T20:52:16.242Z"
   },
   {
    "duration": 41,
    "start_time": "2023-02-01T20:52:17.357Z"
   },
   {
    "duration": 125,
    "start_time": "2023-02-01T20:52:18.965Z"
   },
   {
    "duration": 4,
    "start_time": "2023-02-01T20:53:07.427Z"
   },
   {
    "duration": 118,
    "start_time": "2023-02-01T20:53:11.123Z"
   },
   {
    "duration": 137,
    "start_time": "2023-02-01T20:53:19.345Z"
   },
   {
    "duration": 218,
    "start_time": "2023-02-01T20:53:38.163Z"
   },
   {
    "duration": 128,
    "start_time": "2023-02-01T20:53:53.480Z"
   },
   {
    "duration": 870,
    "start_time": "2023-02-01T20:53:57.568Z"
   },
   {
    "duration": 3,
    "start_time": "2023-02-01T20:53:59.473Z"
   },
   {
    "duration": 124,
    "start_time": "2023-02-01T20:54:00.472Z"
   },
   {
    "duration": 2,
    "start_time": "2023-02-01T20:54:57.483Z"
   },
   {
    "duration": 1438,
    "start_time": "2023-02-01T20:55:10.981Z"
   },
   {
    "duration": 43,
    "start_time": "2023-02-01T20:55:23.700Z"
   },
   {
    "duration": 12,
    "start_time": "2023-02-01T20:55:29.647Z"
   },
   {
    "duration": 126,
    "start_time": "2023-02-01T20:55:40.893Z"
   },
   {
    "duration": 53,
    "start_time": "2023-02-01T21:00:07.176Z"
   },
   {
    "duration": 62,
    "start_time": "2023-02-01T21:00:12.393Z"
   },
   {
    "duration": 62,
    "start_time": "2023-02-01T21:00:16.817Z"
   },
   {
    "duration": 5,
    "start_time": "2023-02-01T21:00:22.388Z"
   },
   {
    "duration": 65,
    "start_time": "2023-02-01T21:00:22.394Z"
   },
   {
    "duration": 14,
    "start_time": "2023-02-01T21:00:22.464Z"
   },
   {
    "duration": 7,
    "start_time": "2023-02-01T21:00:22.481Z"
   },
   {
    "duration": 7,
    "start_time": "2023-02-01T21:00:22.490Z"
   },
   {
    "duration": 10,
    "start_time": "2023-02-01T21:00:22.499Z"
   },
   {
    "duration": 206,
    "start_time": "2023-02-01T21:00:22.510Z"
   },
   {
    "duration": 63,
    "start_time": "2023-02-01T21:00:22.717Z"
   },
   {
    "duration": 150,
    "start_time": "2023-02-01T21:00:22.782Z"
   },
   {
    "duration": 39,
    "start_time": "2023-02-01T21:00:22.935Z"
   },
   {
    "duration": 24,
    "start_time": "2023-02-01T21:00:22.981Z"
   },
   {
    "duration": 4,
    "start_time": "2023-02-01T21:00:23.007Z"
   },
   {
    "duration": 24,
    "start_time": "2023-02-01T21:00:23.012Z"
   },
   {
    "duration": 880,
    "start_time": "2023-02-01T21:00:23.038Z"
   },
   {
    "duration": 4,
    "start_time": "2023-02-01T21:00:23.920Z"
   },
   {
    "duration": 55,
    "start_time": "2023-02-01T21:00:23.926Z"
   },
   {
    "duration": 5583,
    "start_time": "2023-02-01T21:00:23.983Z"
   },
   {
    "duration": 5,
    "start_time": "2023-02-01T21:00:29.568Z"
   },
   {
    "duration": 52,
    "start_time": "2023-02-01T21:00:29.575Z"
   },
   {
    "duration": 7,
    "start_time": "2023-02-01T21:00:29.629Z"
   },
   {
    "duration": 22,
    "start_time": "2023-02-01T21:00:29.637Z"
   },
   {
    "duration": 10,
    "start_time": "2023-02-01T21:00:29.673Z"
   },
   {
    "duration": 6,
    "start_time": "2023-02-01T21:00:29.684Z"
   },
   {
    "duration": 6,
    "start_time": "2023-02-01T21:00:29.692Z"
   },
   {
    "duration": 4,
    "start_time": "2023-02-01T21:00:29.700Z"
   },
   {
    "duration": 170,
    "start_time": "2023-02-01T21:00:29.706Z"
   },
   {
    "duration": 1349,
    "start_time": "2023-02-01T21:00:29.877Z"
   },
   {
    "duration": 5,
    "start_time": "2023-02-01T21:00:31.229Z"
   },
   {
    "duration": 14915,
    "start_time": "2023-02-01T21:00:31.235Z"
   },
   {
    "duration": 48,
    "start_time": "2023-02-01T21:00:46.163Z"
   },
   {
    "duration": 5,
    "start_time": "2023-02-01T21:00:46.213Z"
   },
   {
    "duration": 6,
    "start_time": "2023-02-01T21:00:46.219Z"
   },
   {
    "duration": 59,
    "start_time": "2023-02-01T21:00:46.227Z"
   },
   {
    "duration": 149,
    "start_time": "2023-02-01T21:00:46.288Z"
   },
   {
    "duration": 5,
    "start_time": "2023-02-01T21:00:46.439Z"
   },
   {
    "duration": 1562,
    "start_time": "2023-02-01T21:00:46.452Z"
   },
   {
    "duration": 5,
    "start_time": "2023-02-01T21:00:48.015Z"
   },
   {
    "duration": 111,
    "start_time": "2023-02-01T21:00:48.022Z"
   },
   {
    "duration": 877,
    "start_time": "2023-02-01T21:00:48.134Z"
   },
   {
    "duration": 3,
    "start_time": "2023-02-01T21:00:49.013Z"
   },
   {
    "duration": 140,
    "start_time": "2023-02-01T21:00:49.017Z"
   },
   {
    "duration": 1452,
    "start_time": "2023-02-01T21:00:49.168Z"
   },
   {
    "duration": 54,
    "start_time": "2023-02-01T21:00:50.622Z"
   },
   {
    "duration": 4,
    "start_time": "2023-02-01T21:00:50.679Z"
   },
   {
    "duration": 133,
    "start_time": "2023-02-01T21:00:50.684Z"
   },
   {
    "duration": 1529,
    "start_time": "2023-02-02T06:59:27.039Z"
   },
   {
    "duration": 186,
    "start_time": "2023-02-02T06:59:28.570Z"
   },
   {
    "duration": 15,
    "start_time": "2023-02-02T06:59:28.757Z"
   },
   {
    "duration": 7,
    "start_time": "2023-02-02T06:59:28.774Z"
   },
   {
    "duration": 7,
    "start_time": "2023-02-02T06:59:28.782Z"
   },
   {
    "duration": 9,
    "start_time": "2023-02-02T06:59:28.791Z"
   },
   {
    "duration": 220,
    "start_time": "2023-02-02T06:59:28.801Z"
   },
   {
    "duration": 75,
    "start_time": "2023-02-02T06:59:29.023Z"
   },
   {
    "duration": 68,
    "start_time": "2023-02-02T06:59:29.100Z"
   },
   {
    "duration": 27,
    "start_time": "2023-02-02T06:59:29.171Z"
   },
   {
    "duration": 29,
    "start_time": "2023-02-02T06:59:29.199Z"
   },
   {
    "duration": 17,
    "start_time": "2023-02-02T06:59:29.229Z"
   },
   {
    "duration": 31,
    "start_time": "2023-02-02T06:59:29.248Z"
   },
   {
    "duration": 809,
    "start_time": "2023-02-02T06:59:29.281Z"
   },
   {
    "duration": 3,
    "start_time": "2023-02-02T06:59:30.092Z"
   },
   {
    "duration": 56,
    "start_time": "2023-02-02T06:59:30.097Z"
   },
   {
    "duration": 5066,
    "start_time": "2023-02-02T06:59:30.154Z"
   },
   {
    "duration": 3,
    "start_time": "2023-02-02T06:59:35.222Z"
   },
   {
    "duration": 76,
    "start_time": "2023-02-02T06:59:35.227Z"
   },
   {
    "duration": 6,
    "start_time": "2023-02-02T06:59:35.305Z"
   },
   {
    "duration": 29,
    "start_time": "2023-02-02T06:59:35.313Z"
   },
   {
    "duration": 10,
    "start_time": "2023-02-02T06:59:35.343Z"
   },
   {
    "duration": 9,
    "start_time": "2023-02-02T06:59:35.354Z"
   },
   {
    "duration": 41,
    "start_time": "2023-02-02T06:59:35.365Z"
   },
   {
    "duration": 10,
    "start_time": "2023-02-02T06:59:35.407Z"
   },
   {
    "duration": 164,
    "start_time": "2023-02-02T06:59:35.419Z"
   },
   {
    "duration": 1169,
    "start_time": "2023-02-02T06:59:35.585Z"
   },
   {
    "duration": 5,
    "start_time": "2023-02-02T06:59:36.757Z"
   },
   {
    "duration": 13806,
    "start_time": "2023-02-02T06:59:36.763Z"
   },
   {
    "duration": 53,
    "start_time": "2023-02-02T06:59:50.570Z"
   },
   {
    "duration": 7,
    "start_time": "2023-02-02T06:59:50.625Z"
   },
   {
    "duration": 28,
    "start_time": "2023-02-02T06:59:50.633Z"
   },
   {
    "duration": 93,
    "start_time": "2023-02-02T06:59:50.663Z"
   },
   {
    "duration": 182,
    "start_time": "2023-02-02T06:59:50.757Z"
   },
   {
    "duration": 5,
    "start_time": "2023-02-02T06:59:50.944Z"
   },
   {
    "duration": 1579,
    "start_time": "2023-02-02T06:59:50.950Z"
   },
   {
    "duration": 5,
    "start_time": "2023-02-02T06:59:52.531Z"
   },
   {
    "duration": 110,
    "start_time": "2023-02-02T06:59:52.543Z"
   },
   {
    "duration": 737,
    "start_time": "2023-02-02T06:59:52.654Z"
   },
   {
    "duration": 4,
    "start_time": "2023-02-02T06:59:53.392Z"
   },
   {
    "duration": 138,
    "start_time": "2023-02-02T06:59:53.398Z"
   },
   {
    "duration": 0,
    "start_time": "2023-02-02T06:59:53.538Z"
   },
   {
    "duration": 0,
    "start_time": "2023-02-02T06:59:53.540Z"
   },
   {
    "duration": 0,
    "start_time": "2023-02-02T06:59:53.541Z"
   },
   {
    "duration": 0,
    "start_time": "2023-02-02T06:59:53.543Z"
   },
   {
    "duration": 5,
    "start_time": "2023-02-02T07:00:36.702Z"
   },
   {
    "duration": 143,
    "start_time": "2023-02-02T07:00:42.449Z"
   },
   {
    "duration": 1721,
    "start_time": "2023-02-02T07:00:43.972Z"
   },
   {
    "duration": 63,
    "start_time": "2023-02-02T07:00:45.695Z"
   },
   {
    "duration": 4,
    "start_time": "2023-02-02T07:00:46.388Z"
   },
   {
    "duration": 119,
    "start_time": "2023-02-02T07:00:47.117Z"
   }
  ],
  "kernelspec": {
   "display_name": "Python 3 (ipykernel)",
   "language": "python",
   "name": "python3"
  },
  "language_info": {
   "codemirror_mode": {
    "name": "ipython",
    "version": 3
   },
   "file_extension": ".py",
   "mimetype": "text/x-python",
   "name": "python",
   "nbconvert_exporter": "python",
   "pygments_lexer": "ipython3",
   "version": "3.9.5"
  },
  "toc": {
   "base_numbering": 1,
   "nav_menu": {},
   "number_sections": true,
   "sideBar": true,
   "skip_h1_title": true,
   "title_cell": "Содержание",
   "title_sidebar": "Contents",
   "toc_cell": true,
   "toc_position": {},
   "toc_section_display": true,
   "toc_window_display": true
  }
 },
 "nbformat": 4,
 "nbformat_minor": 2
}
