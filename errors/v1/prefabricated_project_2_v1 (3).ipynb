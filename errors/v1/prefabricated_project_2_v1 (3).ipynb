{
 "cells": [
  {
   "cell_type": "markdown",
   "metadata": {
    "toc": true
   },
   "source": [
    "<h1>Содержание<span class=\"tocSkip\"></span></h1>\n",
    "<div class=\"toc\"><ul class=\"toc-item\"><li><span><a href=\"#Подготовка-данных\" data-toc-modified-id=\"Подготовка-данных-1\"><span class=\"toc-item-num\">1&nbsp;&nbsp;</span>Подготовка данных</a></span><ul class=\"toc-item\"><li><span><a href=\"#Введение-в-курс-дела\" data-toc-modified-id=\"Введение-в-курс-дела-1.1\"><span class=\"toc-item-num\">1.1&nbsp;&nbsp;</span>Введение в курс дела</a></span></li><li><span><a href=\"#Приступление-к-проекту.-Открываем-файлы-и-изучаем-их.\" data-toc-modified-id=\"Приступление-к-проекту.-Открываем-файлы-и-изучаем-их.-1.2\"><span class=\"toc-item-num\">1.2&nbsp;&nbsp;</span>Приступление к проекту. Открываем файлы и изучаем их.</a></span></li><li><span><a href=\"#Проверим,-что-эффективность-обогащения-рассчитана-правильно.-Вычислим-её-на-обучающей-выборке-для-признака-rougher.output.recovery.-Найдем-MAE-между-нашими-расчётами-и-значением-признака.-Опишим-выводы.\" data-toc-modified-id=\"Проверим,-что-эффективность-обогащения-рассчитана-правильно.-Вычислим-её-на-обучающей-выборке-для-признака-rougher.output.recovery.-Найдем-MAE-между-нашими-расчётами-и-значением-признака.-Опишим-выводы.-1.3\"><span class=\"toc-item-num\">1.3&nbsp;&nbsp;</span>Проверим, что эффективность обогащения рассчитана правильно. Вычислим её на обучающей выборке для признака <code>rougher.output.recovery</code>. Найдем MAE между нашими расчётами и значением признака. Опишим выводы.</a></span><ul class=\"toc-item\"><li><span><a href=\"#Проверим-на-расчет-эффективности-обогащения\" data-toc-modified-id=\"Проверим-на-расчет-эффективности-обогащения-1.3.1\"><span class=\"toc-item-num\">1.3.1&nbsp;&nbsp;</span>Проверим на расчет эффективности обогащения</a></span></li><li><span><a href=\"#Находим-MAE-между-нашими-расчетами-и-значением-признака\" data-toc-modified-id=\"Находим-MAE-между-нашими-расчетами-и-значением-признака-1.3.2\"><span class=\"toc-item-num\">1.3.2&nbsp;&nbsp;</span>Находим MAE между нашими расчетами и значением признака</a></span></li><li><span><a href=\"#Проанализируйте-признаки,-недоступные-в-тестовой-выборке.-Что-это-за-параметры?-К-какому-типу-относятся?\" data-toc-modified-id=\"Проанализируйте-признаки,-недоступные-в-тестовой-выборке.-Что-это-за-параметры?-К-какому-типу-относятся?-1.3.3\"><span class=\"toc-item-num\">1.3.3&nbsp;&nbsp;</span>Проанализируйте признаки, недоступные в тестовой выборке. Что это за параметры? К какому типу относятся?</a></span></li></ul></li><li><span><a href=\"#Предобработка-данных-уже-проведены,-пропуски-удалены,-дублирующие-значения-отсутствуют\" data-toc-modified-id=\"Предобработка-данных-уже-проведены,-пропуски-удалены,-дублирующие-значения-отсутствуют-1.4\"><span class=\"toc-item-num\">1.4&nbsp;&nbsp;</span>Предобработка данных уже проведены, пропуски удалены, дублирующие значения отсутствуют</a></span></li></ul></li><li><span><a href=\"#Анализ-данных\" data-toc-modified-id=\"Анализ-данных-2\"><span class=\"toc-item-num\">2&nbsp;&nbsp;</span>Анализ данных</a></span><ul class=\"toc-item\"><li><span><a href=\"#Посмотрим,-как-меняется-концентрация-металлов-(Au,-Ag,-Pb)-на-различных-этапах-очистки\" data-toc-modified-id=\"Посмотрим,-как-меняется-концентрация-металлов-(Au,-Ag,-Pb)-на-различных-этапах-очистки-2.1\"><span class=\"toc-item-num\">2.1&nbsp;&nbsp;</span>Посмотрим, как меняется концентрация металлов (Au, Ag, Pb) на различных этапах очистки</a></span></li></ul></li><li><span><a href=\"#Модель\" data-toc-modified-id=\"Модель-3\"><span class=\"toc-item-num\">3&nbsp;&nbsp;</span>Модель</a></span></li><li><span><a href=\"#Чек-лист-готовности-проекта\" data-toc-modified-id=\"Чек-лист-готовности-проекта-4\"><span class=\"toc-item-num\">4&nbsp;&nbsp;</span>Чек-лист готовности проекта</a></span></li></ul></div>"
   ]
  },
  {
   "cell_type": "markdown",
   "metadata": {},
   "source": [
    "# Восстановление золота из руды"
   ]
  },
  {
   "cell_type": "markdown",
   "metadata": {},
   "source": [
    "Подготовьте прототип модели машинного обучения для «Цифры». Компания разрабатывает решения для эффективной работы промышленных предприятий.\n",
    "\n",
    "Модель должна предсказать коэффициент восстановления золота из золотосодержащей руды. Используйте данные с параметрами добычи и очистки. \n",
    "\n",
    "Модель поможет оптимизировать производство, чтобы не запускать предприятие с убыточными характеристиками.\n",
    "\n",
    "Вам нужно:\n",
    "\n",
    "1. Подготовить данные;\n",
    "2. Провести исследовательский анализ данных;\n",
    "3. Построить и обучить модель.\n",
    "\n",
    "Чтобы выполнить проект, обращайтесь к библиотекам *pandas*, *matplotlib* и *sklearn.* Вам поможет их документация."
   ]
  },
  {
   "cell_type": "markdown",
   "metadata": {},
   "source": [
    "## Подготовка данных"
   ]
  },
  {
   "cell_type": "markdown",
   "metadata": {},
   "source": [
    "### Введение в курс дела"
   ]
  },
  {
   "cell_type": "markdown",
   "metadata": {},
   "source": [
    "**1. Флотация**\n",
    "\n",
    "Во флотационную установку подаётся смесь золотосодержащей руды. После обогащения получается черновой концентрат и «отвальные хвосты», то есть остатки продукта с низкой концентрацией ценных металлов.\n",
    "На стабильность этого процесса влияет непостоянное и неоптимальное физико-химическое состояние флотационной пульпы (смеси твёрдых частиц и жидкости).\n",
    "\n",
    "Химические элементы:\n",
    "- ag - серебро\n",
    "- pb - свинец\n",
    "- sol - сульфат (сульфид натрия)\n",
    "- au - золото\n",
    "\n",
    "**2. Очистка**\n",
    "\n",
    "Черновой концентрат проходит две очистки. На выходе получается финальный концентрат и новые отвальные хвосты."
   ]
  },
  {
   "cell_type": "markdown",
   "metadata": {},
   "source": [
    "- **Описание данных**\n",
    "\n",
    "    - _**Технологический процесс**_\n",
    "        - Rougher feed — исходное сырье\n",
    "        - Rougher additions (или reagent additions) — флотационные реагенты: Xanthate, Sulphate, Depressant\n",
    "        - Xanthate **— ксантогенат (промотер, или активатор флотации);\n",
    "        - Sulphate — сульфат (на данном производстве сульфид натрия);\n",
    "        - Depressant — депрессант (силикат натрия).\n",
    "        - Rougher process (англ. «грубый процесс») — флотация\n",
    "        - Rougher tails — отвальные хвосты\n",
    "        - Float banks — флотационная установка\n",
    "        - Cleaner process — очистка\n",
    "        - Rougher Au — черновой концентрат золота\n",
    "        - Final Au — финальный концентрат золота\n",
    "    - _**Параметры этапов**_\n",
    "        - air amount — объём воздуха\n",
    "        - fluid levels — уровень жидкости\n",
    "        - feed size — размер гранул сырья\n",
    "        - feed rate — скорость подачи"
   ]
  },
  {
   "cell_type": "markdown",
   "metadata": {},
   "source": [
    "**Наименование признаков**\n",
    "\n",
    "Наименование признаков должно быть такое:\n",
    "\n",
    "**[этап].[тип_параметра].[название_параметра]**\n",
    "\n",
    "Пример: ``` rougher.input.feed_ag ```\n",
    "\n",
    "- Возможные значения для блока [этап]:\n",
    "    - rougher — флотация\n",
    "    - primary_cleaner — первичная очистка\n",
    "    - secondary_cleaner — вторичная очистка\n",
    "    - final — финальные характеристики\n",
    "    \n",
    "    \n",
    "- Возможные значения для блока [тип_параметра]:\n",
    "    - input — параметры сырья\n",
    "    - output — параметры продукта\n",
    "    - state — параметры, характеризующие текущее состояние этапа\n",
    "    - calculation — расчётные характеристики"
   ]
  },
  {
   "cell_type": "markdown",
   "metadata": {},
   "source": [
    "**Расчёт эффективности**\n",
    "\n",
    "Вам нужно смоделировать процесс восстановления золота из золотосодержащей руды. \n",
    "\n",
    "Эффективность обогащения рассчитывается по формуле"
   ]
  },
  {
   "attachments": {
    "image.png": {
     "image/png": "[encoded data removed]"
    }
   },
   "cell_type": "markdown",
   "metadata": {},
   "source": [
    "![image.png](attachment:image.png)"
   ]
  },
  {
   "cell_type": "markdown",
   "metadata": {},
   "source": [
    "**RECOVERY = (C * (F - T)) / (F * (C - T)) * 100%**\n",
    "\n",
    "где:\n",
    "- C — доля золота в концентрате после флотации/очистки;\n",
    "- F — доля золота в сырье/концентрате до флотации/очистки;\n",
    "- T — доля золота в отвальных хвостах после флотации/очистки.\n",
    "\n",
    "Для прогноза коэффициента нужно найти долю золота в концентратах и хвостах. Причём важен не только финальный продукт, но и черновой концентрат."
   ]
  },
  {
   "cell_type": "markdown",
   "metadata": {},
   "source": [
    "**Метрика качества**\n",
    "\n",
    "Для решения задачи введём новую метрику качества — sMAPE (англ. Symmetric Mean Absolute Percentage Error, «симметричное среднее абсолютное процентное отклонение»).\n",
    "\n",
    "Она похожа на MAE, но выражается не в абсолютных величинах, а в относительных. Почему симметричная? Она одинаково учитывает масштаб и целевого признака, и предсказания.\n",
    "\n",
    "Метрика sMAPE вычисляется так:\n"
   ]
  },
  {
   "attachments": {
    "image.png": {
     "image/png": "[encoded data removed]"
    }
   },
   "cell_type": "markdown",
   "metadata": {},
   "source": [
    "![image.png](attachment:image.png)"
   ]
  },
  {
   "attachments": {
    "image.png": {
     "image/png": "[encoded data removed]"
    }
   },
   "cell_type": "markdown",
   "metadata": {},
   "source": [
    "Обозначения:\n",
    "![image.png](attachment:image.png)\n",
    "Значение целевого признака для объекта с порядковым номером i в выборке, на которой измеряется качество."
   ]
  },
  {
   "attachments": {
    "image.png": {
     "image/png": "[encoded data removed]"
    }
   },
   "cell_type": "markdown",
   "metadata": {},
   "source": [
    "![image.png](attachment:image.png)\n",
    "Значение предсказания для объекта с порядковым номером i, например, в тестовой выборке."
   ]
  },
  {
   "attachments": {
    "image.png": {
     "image/png": "[encoded data removed]"
    }
   },
   "cell_type": "markdown",
   "metadata": {},
   "source": [
    "![image.png](attachment:image.png)\n",
    "Количество объектов в выборке."
   ]
  },
  {
   "attachments": {
    "image.png": {
     "image/png": "[encoded data removed]"
    }
   },
   "cell_type": "markdown",
   "metadata": {},
   "source": [
    "![image.png](attachment:image.png)\n",
    "Суммирование по всем объектам выборки (i меняется от 1 до N)."
   ]
  },
  {
   "cell_type": "markdown",
   "metadata": {},
   "source": [
    "Нужно спрогнозировать сразу две величины:\n",
    "1. эффективность обогащения чернового концентрата ```rougher.output.recovery;```\n",
    "\n",
    "2. эффективность обогащения финального концентрата ```final.output.recovery.```\n",
    "\n",
    "Итоговая метрика складывается из двух величин:"
   ]
  },
  {
   "attachments": {
    "image.png": {
     "image/png": "[encoded data removed]"
    }
   },
   "cell_type": "markdown",
   "metadata": {},
   "source": [
    "![image.png](attachment:image.png)"
   ]
  },
  {
   "cell_type": "markdown",
   "metadata": {},
   "source": [
    "Данные находятся в трёх файлах:\n",
    "- ```gold_recovery_train_new.csv``` — обучающая выборка;\n",
    "- ```gold_recovery_test_new.csv``` — тестовая выборка;\n",
    "- ```gold_recovery_full_new.csv``` — исходные данные.\n",
    "\n",
    "Данные индексируются датой и временем получения информации (признак ```date```). Соседние по времени параметры часто похожи.\n",
    "\n",
    "Некоторые параметры недоступны, потому что замеряются и/или рассчитываются значительно позже. Из-за этого в тестовой выборке отсутствуют некоторые признаки, которые могут быть в обучающей. Также в тестовом наборе нет целевых признаков.\n",
    "\n",
    "Исходный датасет содержит обучающую и тестовую выборки со всеми признаками.\n",
    "\n",
    "В вашем распоряжении сырые данные: их просто выгрузили из хранилища. Прежде чем приступить к построению модели, проверьте по нашей инструкции их на корректность."
   ]
  },
  {
   "cell_type": "markdown",
   "metadata": {},
   "source": [
    "### Приступление к проекту. Открываем файлы и изучаем их."
   ]
  },
  {
   "cell_type": "code",
   "execution_count": 7,
   "metadata": {},
   "outputs": [],
   "source": [
    "# Подключаем все необходимые библиотеки\n",
    "import pandas as pd\n",
    "import numpy as np\n",
    "import matplotlib.pyplot as plt\n",
    "import seaborn as sb\n",
    "\n",
    "# Разбиение на обучающую, валидационную и тестовую выборку\n",
    "from sklearn.model_selection import train_test_split\n",
    "# Применим кроссвалидацию для повышения качеств обучения\n",
    "from sklearn.model_selection import cross_val_score\n",
    "\n",
    "# Масштабируемость модели\n",
    "from sklearn.preprocessing import StandardScaler\n",
    "\n",
    "# и для машинного обучения разными способами (по условию мы выбираем линейную регрессию):\n",
    "from sklearn.ensemble import RandomForestRegressor\n",
    "from sklearn.linear_model import LinearRegression\n",
    "from sklearn.tree import DecisionTreeRegressor\n",
    "\n",
    "from sklearn.metrics import mean_squared_error\n",
    "from sklearn.metrics import (\n",
    "    # Точность модели\n",
    "    accuracy_score,\n",
    "    # Матрицы ошибок (для борьбы с дисбалансом)\n",
    "    confusion_matrix, \n",
    "    # Полнота\n",
    "    recall_score, \n",
    "    # Точность\n",
    "    precision_score, \n",
    "    # F1-мера\n",
    "    f1_score,\n",
    "    # Метрика AUC-ROC\n",
    "    roc_auc_score,\n",
    "    roc_curve,\n",
    "    # MSE\n",
    "    mean_squared_error,\n",
    "    mean_absolute_error\n",
    ")\n",
    "\n",
    "# Контроль выборки\n",
    "from sklearn.utils import shuffle"
   ]
  },
  {
   "cell_type": "code",
   "execution_count": 8,
   "metadata": {},
   "outputs": [],
   "source": [
    "# Получаем датасеты\n",
    "try:\n",
    "    # Обучающая выборка\n",
    "    df_train = pd.read_csv('/datasets/gold_recovery_train_new.csv')\n",
    "    # Тестовая выборка\n",
    "    df_test = pd.read_csv('/datasets/gold_recovery_test_new.csv')\n",
    "    # Исходные данные\n",
    "    df_full = pd.read_csv('/datasets/gold_recovery_full_new.csv')\n",
    "except:\n",
    "    print('Отсутствует датасет. Проверьте путь файла')"
   ]
  },
  {
   "cell_type": "markdown",
   "metadata": {},
   "source": [
    "***Примечание***\n",
    "\n",
    "count    3.0 **количество наблюдений в наборе данных**\n",
    "\n",
    "mean     2.0 **среднее арифметическое**\n",
    "\n",
    "std      1.0 **стандартное отклонение**\n",
    "\n",
    "min      1.0 **минимальное значение**\n",
    "\n",
    "25%      1.5 **первый квартиль**\n",
    "\n",
    "50%      2.0 **медиана, или второй квартиль**\n",
    "\n",
    "75%      2.5 **третий квартиль**\n",
    "\n",
    "max      3.0 **максимальное значение**\n",
    "\n",
    "dtype: float64 **тип данных**"
   ]
  },
  {
   "cell_type": "code",
   "execution_count": 9,
   "metadata": {},
   "outputs": [
    {
     "data": {
      "text/html": [
       "<div>\n",
       "<style scoped>\n",
       "    .dataframe tbody tr th:only-of-type {\n",
       "        vertical-align: middle;\n",
       "    }\n",
       "\n",
       "    .dataframe tbody tr th {\n",
       "        vertical-align: top;\n",
       "    }\n",
       "\n",
       "    .dataframe thead th {\n",
       "        text-align: right;\n",
       "    }\n",
       "</style>\n",
       "<table border=\"1\" class=\"dataframe\">\n",
       "  <thead>\n",
       "    <tr style=\"text-align: right;\">\n",
       "      <th></th>\n",
       "      <th>final.output.concentrate_ag</th>\n",
       "      <th>final.output.concentrate_pb</th>\n",
       "      <th>final.output.concentrate_sol</th>\n",
       "      <th>final.output.concentrate_au</th>\n",
       "      <th>final.output.recovery</th>\n",
       "      <th>final.output.tail_ag</th>\n",
       "      <th>final.output.tail_pb</th>\n",
       "      <th>final.output.tail_sol</th>\n",
       "      <th>final.output.tail_au</th>\n",
       "      <th>primary_cleaner.input.sulfate</th>\n",
       "      <th>...</th>\n",
       "      <th>secondary_cleaner.state.floatbank4_a_air</th>\n",
       "      <th>secondary_cleaner.state.floatbank4_a_level</th>\n",
       "      <th>secondary_cleaner.state.floatbank4_b_air</th>\n",
       "      <th>secondary_cleaner.state.floatbank4_b_level</th>\n",
       "      <th>secondary_cleaner.state.floatbank5_a_air</th>\n",
       "      <th>secondary_cleaner.state.floatbank5_a_level</th>\n",
       "      <th>secondary_cleaner.state.floatbank5_b_air</th>\n",
       "      <th>secondary_cleaner.state.floatbank5_b_level</th>\n",
       "      <th>secondary_cleaner.state.floatbank6_a_air</th>\n",
       "      <th>secondary_cleaner.state.floatbank6_a_level</th>\n",
       "    </tr>\n",
       "  </thead>\n",
       "  <tbody>\n",
       "    <tr>\n",
       "      <th>count</th>\n",
       "      <td>14148.000000</td>\n",
       "      <td>14148.000000</td>\n",
       "      <td>13938.000000</td>\n",
       "      <td>14149.000000</td>\n",
       "      <td>14149.000000</td>\n",
       "      <td>14149.000000</td>\n",
       "      <td>14049.000000</td>\n",
       "      <td>14144.000000</td>\n",
       "      <td>14149.000000</td>\n",
       "      <td>14129.000000</td>\n",
       "      <td>...</td>\n",
       "      <td>14143.000000</td>\n",
       "      <td>14148.000000</td>\n",
       "      <td>14148.000000</td>\n",
       "      <td>14148.000000</td>\n",
       "      <td>14148.000000</td>\n",
       "      <td>14148.000000</td>\n",
       "      <td>14148.000000</td>\n",
       "      <td>14148.000000</td>\n",
       "      <td>14147.000000</td>\n",
       "      <td>14148.000000</td>\n",
       "    </tr>\n",
       "    <tr>\n",
       "      <th>mean</th>\n",
       "      <td>5.142034</td>\n",
       "      <td>10.132960</td>\n",
       "      <td>9.202849</td>\n",
       "      <td>44.003792</td>\n",
       "      <td>66.518832</td>\n",
       "      <td>9.607035</td>\n",
       "      <td>2.597298</td>\n",
       "      <td>10.512122</td>\n",
       "      <td>2.918421</td>\n",
       "      <td>133.320659</td>\n",
       "      <td>...</td>\n",
       "      <td>19.985454</td>\n",
       "      <td>-478.696836</td>\n",
       "      <td>15.487065</td>\n",
       "      <td>-460.229416</td>\n",
       "      <td>16.775136</td>\n",
       "      <td>-483.956022</td>\n",
       "      <td>13.064590</td>\n",
       "      <td>-483.966564</td>\n",
       "      <td>19.577539</td>\n",
       "      <td>-506.798480</td>\n",
       "    </tr>\n",
       "    <tr>\n",
       "      <th>std</th>\n",
       "      <td>1.369586</td>\n",
       "      <td>1.654930</td>\n",
       "      <td>2.790516</td>\n",
       "      <td>4.905261</td>\n",
       "      <td>10.295402</td>\n",
       "      <td>2.319069</td>\n",
       "      <td>0.971843</td>\n",
       "      <td>3.003617</td>\n",
       "      <td>0.903712</td>\n",
       "      <td>39.431659</td>\n",
       "      <td>...</td>\n",
       "      <td>5.657723</td>\n",
       "      <td>50.736021</td>\n",
       "      <td>5.255655</td>\n",
       "      <td>58.843586</td>\n",
       "      <td>5.831906</td>\n",
       "      <td>37.892788</td>\n",
       "      <td>5.765617</td>\n",
       "      <td>39.207913</td>\n",
       "      <td>5.764417</td>\n",
       "      <td>37.079249</td>\n",
       "    </tr>\n",
       "    <tr>\n",
       "      <th>min</th>\n",
       "      <td>0.000000</td>\n",
       "      <td>0.000000</td>\n",
       "      <td>0.000000</td>\n",
       "      <td>0.000000</td>\n",
       "      <td>0.000000</td>\n",
       "      <td>0.000000</td>\n",
       "      <td>0.000000</td>\n",
       "      <td>0.000000</td>\n",
       "      <td>0.000000</td>\n",
       "      <td>0.003112</td>\n",
       "      <td>...</td>\n",
       "      <td>0.000000</td>\n",
       "      <td>-799.709069</td>\n",
       "      <td>0.000000</td>\n",
       "      <td>-799.889113</td>\n",
       "      <td>-0.372054</td>\n",
       "      <td>-797.142475</td>\n",
       "      <td>0.646208</td>\n",
       "      <td>-800.006180</td>\n",
       "      <td>0.195324</td>\n",
       "      <td>-809.398668</td>\n",
       "    </tr>\n",
       "    <tr>\n",
       "      <th>25%</th>\n",
       "      <td>4.211620</td>\n",
       "      <td>9.297355</td>\n",
       "      <td>7.484645</td>\n",
       "      <td>43.276111</td>\n",
       "      <td>62.545817</td>\n",
       "      <td>7.997429</td>\n",
       "      <td>1.905973</td>\n",
       "      <td>8.811324</td>\n",
       "      <td>2.368607</td>\n",
       "      <td>107.006651</td>\n",
       "      <td>...</td>\n",
       "      <td>14.990775</td>\n",
       "      <td>-500.628656</td>\n",
       "      <td>11.894558</td>\n",
       "      <td>-500.149000</td>\n",
       "      <td>11.083980</td>\n",
       "      <td>-500.363177</td>\n",
       "      <td>8.994405</td>\n",
       "      <td>-500.105994</td>\n",
       "      <td>14.989304</td>\n",
       "      <td>-500.745104</td>\n",
       "    </tr>\n",
       "    <tr>\n",
       "      <th>50%</th>\n",
       "      <td>4.994652</td>\n",
       "      <td>10.297144</td>\n",
       "      <td>8.845462</td>\n",
       "      <td>44.872436</td>\n",
       "      <td>67.432775</td>\n",
       "      <td>9.480270</td>\n",
       "      <td>2.592022</td>\n",
       "      <td>10.514621</td>\n",
       "      <td>2.851025</td>\n",
       "      <td>133.018328</td>\n",
       "      <td>...</td>\n",
       "      <td>20.001789</td>\n",
       "      <td>-499.681450</td>\n",
       "      <td>14.975536</td>\n",
       "      <td>-499.388738</td>\n",
       "      <td>17.932223</td>\n",
       "      <td>-499.702452</td>\n",
       "      <td>11.997547</td>\n",
       "      <td>-499.914556</td>\n",
       "      <td>19.984175</td>\n",
       "      <td>-500.061431</td>\n",
       "    </tr>\n",
       "    <tr>\n",
       "      <th>75%</th>\n",
       "      <td>5.859540</td>\n",
       "      <td>11.170603</td>\n",
       "      <td>10.487508</td>\n",
       "      <td>46.166425</td>\n",
       "      <td>72.346428</td>\n",
       "      <td>11.003707</td>\n",
       "      <td>3.241723</td>\n",
       "      <td>11.933009</td>\n",
       "      <td>3.434764</td>\n",
       "      <td>159.825396</td>\n",
       "      <td>...</td>\n",
       "      <td>24.990826</td>\n",
       "      <td>-477.472413</td>\n",
       "      <td>20.059375</td>\n",
       "      <td>-400.039008</td>\n",
       "      <td>21.346550</td>\n",
       "      <td>-487.712108</td>\n",
       "      <td>17.982903</td>\n",
       "      <td>-453.186936</td>\n",
       "      <td>24.991623</td>\n",
       "      <td>-499.536466</td>\n",
       "    </tr>\n",
       "    <tr>\n",
       "      <th>max</th>\n",
       "      <td>16.001945</td>\n",
       "      <td>17.031899</td>\n",
       "      <td>18.124851</td>\n",
       "      <td>52.756638</td>\n",
       "      <td>100.000000</td>\n",
       "      <td>19.552149</td>\n",
       "      <td>5.639565</td>\n",
       "      <td>22.317730</td>\n",
       "      <td>8.197408</td>\n",
       "      <td>250.127834</td>\n",
       "      <td>...</td>\n",
       "      <td>30.115735</td>\n",
       "      <td>-245.239184</td>\n",
       "      <td>24.007913</td>\n",
       "      <td>-145.071088</td>\n",
       "      <td>43.709931</td>\n",
       "      <td>-275.073125</td>\n",
       "      <td>27.926001</td>\n",
       "      <td>-157.396071</td>\n",
       "      <td>32.188906</td>\n",
       "      <td>-104.427459</td>\n",
       "    </tr>\n",
       "  </tbody>\n",
       "</table>\n",
       "<p>8 rows × 86 columns</p>\n",
       "</div>"
      ],
      "text/plain": [
       "       final.output.concentrate_ag  final.output.concentrate_pb  \\\n",
       "count                 14148.000000                 14148.000000   \n",
       "mean                      5.142034                    10.132960   \n",
       "std                       1.369586                     1.654930   \n",
       "min                       0.000000                     0.000000   \n",
       "25%                       4.211620                     9.297355   \n",
       "50%                       4.994652                    10.297144   \n",
       "75%                       5.859540                    11.170603   \n",
       "max                      16.001945                    17.031899   \n",
       "\n",
       "       final.output.concentrate_sol  final.output.concentrate_au  \\\n",
       "count                  13938.000000                 14149.000000   \n",
       "mean                       9.202849                    44.003792   \n",
       "std                        2.790516                     4.905261   \n",
       "min                        0.000000                     0.000000   \n",
       "25%                        7.484645                    43.276111   \n",
       "50%                        8.845462                    44.872436   \n",
       "75%                       10.487508                    46.166425   \n",
       "max                       18.124851                    52.756638   \n",
       "\n",
       "       final.output.recovery  final.output.tail_ag  final.output.tail_pb  \\\n",
       "count           14149.000000          14149.000000          14049.000000   \n",
       "mean               66.518832              9.607035              2.597298   \n",
       "std                10.295402              2.319069              0.971843   \n",
       "min                 0.000000              0.000000              0.000000   \n",
       "25%                62.545817              7.997429              1.905973   \n",
       "50%                67.432775              9.480270              2.592022   \n",
       "75%                72.346428             11.003707              3.241723   \n",
       "max               100.000000             19.552149              5.639565   \n",
       "\n",
       "       final.output.tail_sol  final.output.tail_au  \\\n",
       "count           14144.000000          14149.000000   \n",
       "mean               10.512122              2.918421   \n",
       "std                 3.003617              0.903712   \n",
       "min                 0.000000              0.000000   \n",
       "25%                 8.811324              2.368607   \n",
       "50%                10.514621              2.851025   \n",
       "75%                11.933009              3.434764   \n",
       "max                22.317730              8.197408   \n",
       "\n",
       "       primary_cleaner.input.sulfate  ...  \\\n",
       "count                   14129.000000  ...   \n",
       "mean                      133.320659  ...   \n",
       "std                        39.431659  ...   \n",
       "min                         0.003112  ...   \n",
       "25%                       107.006651  ...   \n",
       "50%                       133.018328  ...   \n",
       "75%                       159.825396  ...   \n",
       "max                       250.127834  ...   \n",
       "\n",
       "       secondary_cleaner.state.floatbank4_a_air  \\\n",
       "count                              14143.000000   \n",
       "mean                                  19.985454   \n",
       "std                                    5.657723   \n",
       "min                                    0.000000   \n",
       "25%                                   14.990775   \n",
       "50%                                   20.001789   \n",
       "75%                                   24.990826   \n",
       "max                                   30.115735   \n",
       "\n",
       "       secondary_cleaner.state.floatbank4_a_level  \\\n",
       "count                                14148.000000   \n",
       "mean                                  -478.696836   \n",
       "std                                     50.736021   \n",
       "min                                   -799.709069   \n",
       "25%                                   -500.628656   \n",
       "50%                                   -499.681450   \n",
       "75%                                   -477.472413   \n",
       "max                                   -245.239184   \n",
       "\n",
       "       secondary_cleaner.state.floatbank4_b_air  \\\n",
       "count                              14148.000000   \n",
       "mean                                  15.487065   \n",
       "std                                    5.255655   \n",
       "min                                    0.000000   \n",
       "25%                                   11.894558   \n",
       "50%                                   14.975536   \n",
       "75%                                   20.059375   \n",
       "max                                   24.007913   \n",
       "\n",
       "       secondary_cleaner.state.floatbank4_b_level  \\\n",
       "count                                14148.000000   \n",
       "mean                                  -460.229416   \n",
       "std                                     58.843586   \n",
       "min                                   -799.889113   \n",
       "25%                                   -500.149000   \n",
       "50%                                   -499.388738   \n",
       "75%                                   -400.039008   \n",
       "max                                   -145.071088   \n",
       "\n",
       "       secondary_cleaner.state.floatbank5_a_air  \\\n",
       "count                              14148.000000   \n",
       "mean                                  16.775136   \n",
       "std                                    5.831906   \n",
       "min                                   -0.372054   \n",
       "25%                                   11.083980   \n",
       "50%                                   17.932223   \n",
       "75%                                   21.346550   \n",
       "max                                   43.709931   \n",
       "\n",
       "       secondary_cleaner.state.floatbank5_a_level  \\\n",
       "count                                14148.000000   \n",
       "mean                                  -483.956022   \n",
       "std                                     37.892788   \n",
       "min                                   -797.142475   \n",
       "25%                                   -500.363177   \n",
       "50%                                   -499.702452   \n",
       "75%                                   -487.712108   \n",
       "max                                   -275.073125   \n",
       "\n",
       "       secondary_cleaner.state.floatbank5_b_air  \\\n",
       "count                              14148.000000   \n",
       "mean                                  13.064590   \n",
       "std                                    5.765617   \n",
       "min                                    0.646208   \n",
       "25%                                    8.994405   \n",
       "50%                                   11.997547   \n",
       "75%                                   17.982903   \n",
       "max                                   27.926001   \n",
       "\n",
       "       secondary_cleaner.state.floatbank5_b_level  \\\n",
       "count                                14148.000000   \n",
       "mean                                  -483.966564   \n",
       "std                                     39.207913   \n",
       "min                                   -800.006180   \n",
       "25%                                   -500.105994   \n",
       "50%                                   -499.914556   \n",
       "75%                                   -453.186936   \n",
       "max                                   -157.396071   \n",
       "\n",
       "       secondary_cleaner.state.floatbank6_a_air  \\\n",
       "count                              14147.000000   \n",
       "mean                                  19.577539   \n",
       "std                                    5.764417   \n",
       "min                                    0.195324   \n",
       "25%                                   14.989304   \n",
       "50%                                   19.984175   \n",
       "75%                                   24.991623   \n",
       "max                                   32.188906   \n",
       "\n",
       "       secondary_cleaner.state.floatbank6_a_level  \n",
       "count                                14148.000000  \n",
       "mean                                  -506.798480  \n",
       "std                                     37.079249  \n",
       "min                                   -809.398668  \n",
       "25%                                   -500.745104  \n",
       "50%                                   -500.061431  \n",
       "75%                                   -499.536466  \n",
       "max                                   -104.427459  \n",
       "\n",
       "[8 rows x 86 columns]"
      ]
     },
     "execution_count": 9,
     "metadata": {},
     "output_type": "execute_result"
    }
   ],
   "source": [
    "# Конечно же, можно применять библиотеку pandas_profiling, но юпитер раньше сдохнет, пока не 8 тыс. итераций не дойдет) \n",
    "df_train.describe()"
   ]
  },
  {
   "cell_type": "code",
   "execution_count": 10,
   "metadata": {},
   "outputs": [
    {
     "data": {
      "text/html": [
       "<div>\n",
       "<style scoped>\n",
       "    .dataframe tbody tr th:only-of-type {\n",
       "        vertical-align: middle;\n",
       "    }\n",
       "\n",
       "    .dataframe tbody tr th {\n",
       "        vertical-align: top;\n",
       "    }\n",
       "\n",
       "    .dataframe thead th {\n",
       "        text-align: right;\n",
       "    }\n",
       "</style>\n",
       "<table border=\"1\" class=\"dataframe\">\n",
       "  <thead>\n",
       "    <tr style=\"text-align: right;\">\n",
       "      <th></th>\n",
       "      <th>primary_cleaner.input.sulfate</th>\n",
       "      <th>primary_cleaner.input.depressant</th>\n",
       "      <th>primary_cleaner.input.feed_size</th>\n",
       "      <th>primary_cleaner.input.xanthate</th>\n",
       "      <th>primary_cleaner.state.floatbank8_a_air</th>\n",
       "      <th>primary_cleaner.state.floatbank8_a_level</th>\n",
       "      <th>primary_cleaner.state.floatbank8_b_air</th>\n",
       "      <th>primary_cleaner.state.floatbank8_b_level</th>\n",
       "      <th>primary_cleaner.state.floatbank8_c_air</th>\n",
       "      <th>primary_cleaner.state.floatbank8_c_level</th>\n",
       "      <th>...</th>\n",
       "      <th>secondary_cleaner.state.floatbank4_a_air</th>\n",
       "      <th>secondary_cleaner.state.floatbank4_a_level</th>\n",
       "      <th>secondary_cleaner.state.floatbank4_b_air</th>\n",
       "      <th>secondary_cleaner.state.floatbank4_b_level</th>\n",
       "      <th>secondary_cleaner.state.floatbank5_a_air</th>\n",
       "      <th>secondary_cleaner.state.floatbank5_a_level</th>\n",
       "      <th>secondary_cleaner.state.floatbank5_b_air</th>\n",
       "      <th>secondary_cleaner.state.floatbank5_b_level</th>\n",
       "      <th>secondary_cleaner.state.floatbank6_a_air</th>\n",
       "      <th>secondary_cleaner.state.floatbank6_a_level</th>\n",
       "    </tr>\n",
       "  </thead>\n",
       "  <tbody>\n",
       "    <tr>\n",
       "      <th>count</th>\n",
       "      <td>5286.000000</td>\n",
       "      <td>5285.000000</td>\n",
       "      <td>5290.000000</td>\n",
       "      <td>5286.000000</td>\n",
       "      <td>5.290000e+03</td>\n",
       "      <td>5290.000000</td>\n",
       "      <td>5.290000e+03</td>\n",
       "      <td>5290.000000</td>\n",
       "      <td>5.290000e+03</td>\n",
       "      <td>5290.000000</td>\n",
       "      <td>...</td>\n",
       "      <td>5.290000e+03</td>\n",
       "      <td>5290.000000</td>\n",
       "      <td>5.290000e+03</td>\n",
       "      <td>5290.000000</td>\n",
       "      <td>5290.000000</td>\n",
       "      <td>5290.000000</td>\n",
       "      <td>5290.000000</td>\n",
       "      <td>5290.000000</td>\n",
       "      <td>5290.000000</td>\n",
       "      <td>5290.000000</td>\n",
       "    </tr>\n",
       "    <tr>\n",
       "      <th>mean</th>\n",
       "      <td>174.839652</td>\n",
       "      <td>8.683596</td>\n",
       "      <td>7.266339</td>\n",
       "      <td>1.383803</td>\n",
       "      <td>1.539494e+03</td>\n",
       "      <td>-497.665883</td>\n",
       "      <td>1.545174e+03</td>\n",
       "      <td>-500.273098</td>\n",
       "      <td>1.527272e+03</td>\n",
       "      <td>-498.330680</td>\n",
       "      <td>...</td>\n",
       "      <td>1.632007e+01</td>\n",
       "      <td>-505.144570</td>\n",
       "      <td>1.373544e+01</td>\n",
       "      <td>-463.349858</td>\n",
       "      <td>12.804186</td>\n",
       "      <td>-501.329122</td>\n",
       "      <td>9.881145</td>\n",
       "      <td>-495.663398</td>\n",
       "      <td>17.304935</td>\n",
       "      <td>-501.793193</td>\n",
       "    </tr>\n",
       "    <tr>\n",
       "      <th>std</th>\n",
       "      <td>43.027080</td>\n",
       "      <td>3.072050</td>\n",
       "      <td>0.610219</td>\n",
       "      <td>0.643474</td>\n",
       "      <td>1.167979e+02</td>\n",
       "      <td>19.952431</td>\n",
       "      <td>1.222246e+02</td>\n",
       "      <td>32.968307</td>\n",
       "      <td>1.225380e+02</td>\n",
       "      <td>21.964876</td>\n",
       "      <td>...</td>\n",
       "      <td>3.493583e+00</td>\n",
       "      <td>31.427337</td>\n",
       "      <td>3.430484e+00</td>\n",
       "      <td>86.189107</td>\n",
       "      <td>3.026591</td>\n",
       "      <td>17.951495</td>\n",
       "      <td>2.868205</td>\n",
       "      <td>34.535007</td>\n",
       "      <td>4.536544</td>\n",
       "      <td>39.044215</td>\n",
       "    </tr>\n",
       "    <tr>\n",
       "      <th>min</th>\n",
       "      <td>2.566156</td>\n",
       "      <td>0.003839</td>\n",
       "      <td>5.650000</td>\n",
       "      <td>0.004984</td>\n",
       "      <td>5.445860e-32</td>\n",
       "      <td>-795.316337</td>\n",
       "      <td>6.647490e-32</td>\n",
       "      <td>-799.997015</td>\n",
       "      <td>4.033736e-32</td>\n",
       "      <td>-799.960571</td>\n",
       "      <td>...</td>\n",
       "      <td>1.079872e-16</td>\n",
       "      <td>-799.798523</td>\n",
       "      <td>2.489718e-17</td>\n",
       "      <td>-800.836914</td>\n",
       "      <td>0.069227</td>\n",
       "      <td>-797.323986</td>\n",
       "      <td>0.528083</td>\n",
       "      <td>-800.220337</td>\n",
       "      <td>-0.079426</td>\n",
       "      <td>-809.741464</td>\n",
       "    </tr>\n",
       "    <tr>\n",
       "      <th>25%</th>\n",
       "      <td>147.121401</td>\n",
       "      <td>6.489555</td>\n",
       "      <td>6.890000</td>\n",
       "      <td>0.907623</td>\n",
       "      <td>1.498936e+03</td>\n",
       "      <td>-500.357298</td>\n",
       "      <td>1.498971e+03</td>\n",
       "      <td>-500.703002</td>\n",
       "      <td>1.473230e+03</td>\n",
       "      <td>-501.018117</td>\n",
       "      <td>...</td>\n",
       "      <td>1.403618e+01</td>\n",
       "      <td>-500.868258</td>\n",
       "      <td>1.202862e+01</td>\n",
       "      <td>-500.323028</td>\n",
       "      <td>10.914838</td>\n",
       "      <td>-500.726841</td>\n",
       "      <td>8.036719</td>\n",
       "      <td>-500.194668</td>\n",
       "      <td>13.997317</td>\n",
       "      <td>-500.690984</td>\n",
       "    </tr>\n",
       "    <tr>\n",
       "      <th>50%</th>\n",
       "      <td>177.828489</td>\n",
       "      <td>8.052207</td>\n",
       "      <td>7.250000</td>\n",
       "      <td>1.197610</td>\n",
       "      <td>1.585129e+03</td>\n",
       "      <td>-499.969164</td>\n",
       "      <td>1.595622e+03</td>\n",
       "      <td>-500.028514</td>\n",
       "      <td>1.549595e+03</td>\n",
       "      <td>-500.017711</td>\n",
       "      <td>...</td>\n",
       "      <td>1.700847e+01</td>\n",
       "      <td>-500.115727</td>\n",
       "      <td>1.496486e+01</td>\n",
       "      <td>-499.576513</td>\n",
       "      <td>12.954182</td>\n",
       "      <td>-499.990332</td>\n",
       "      <td>10.004301</td>\n",
       "      <td>-499.990535</td>\n",
       "      <td>16.014935</td>\n",
       "      <td>-500.007126</td>\n",
       "    </tr>\n",
       "    <tr>\n",
       "      <th>75%</th>\n",
       "      <td>208.125438</td>\n",
       "      <td>10.027764</td>\n",
       "      <td>7.600000</td>\n",
       "      <td>1.797819</td>\n",
       "      <td>1.602077e+03</td>\n",
       "      <td>-499.568951</td>\n",
       "      <td>1.602324e+03</td>\n",
       "      <td>-499.293257</td>\n",
       "      <td>1.601144e+03</td>\n",
       "      <td>-498.994130</td>\n",
       "      <td>...</td>\n",
       "      <td>1.803862e+01</td>\n",
       "      <td>-499.404224</td>\n",
       "      <td>1.596213e+01</td>\n",
       "      <td>-400.933805</td>\n",
       "      <td>15.097528</td>\n",
       "      <td>-499.283191</td>\n",
       "      <td>11.997467</td>\n",
       "      <td>-499.719913</td>\n",
       "      <td>21.020013</td>\n",
       "      <td>-499.373018</td>\n",
       "    </tr>\n",
       "    <tr>\n",
       "      <th>max</th>\n",
       "      <td>265.983123</td>\n",
       "      <td>40.000000</td>\n",
       "      <td>15.500000</td>\n",
       "      <td>4.102454</td>\n",
       "      <td>2.103104e+03</td>\n",
       "      <td>-57.195404</td>\n",
       "      <td>1.813084e+03</td>\n",
       "      <td>-142.527229</td>\n",
       "      <td>1.715054e+03</td>\n",
       "      <td>-150.937035</td>\n",
       "      <td>...</td>\n",
       "      <td>3.005180e+01</td>\n",
       "      <td>-401.565212</td>\n",
       "      <td>3.126971e+01</td>\n",
       "      <td>-6.506986</td>\n",
       "      <td>25.258848</td>\n",
       "      <td>-244.483566</td>\n",
       "      <td>14.086866</td>\n",
       "      <td>-137.740004</td>\n",
       "      <td>26.705889</td>\n",
       "      <td>-123.307487</td>\n",
       "    </tr>\n",
       "  </tbody>\n",
       "</table>\n",
       "<p>8 rows × 52 columns</p>\n",
       "</div>"
      ],
      "text/plain": [
       "       primary_cleaner.input.sulfate  primary_cleaner.input.depressant  \\\n",
       "count                    5286.000000                       5285.000000   \n",
       "mean                      174.839652                          8.683596   \n",
       "std                        43.027080                          3.072050   \n",
       "min                         2.566156                          0.003839   \n",
       "25%                       147.121401                          6.489555   \n",
       "50%                       177.828489                          8.052207   \n",
       "75%                       208.125438                         10.027764   \n",
       "max                       265.983123                         40.000000   \n",
       "\n",
       "       primary_cleaner.input.feed_size  primary_cleaner.input.xanthate  \\\n",
       "count                      5290.000000                     5286.000000   \n",
       "mean                          7.266339                        1.383803   \n",
       "std                           0.610219                        0.643474   \n",
       "min                           5.650000                        0.004984   \n",
       "25%                           6.890000                        0.907623   \n",
       "50%                           7.250000                        1.197610   \n",
       "75%                           7.600000                        1.797819   \n",
       "max                          15.500000                        4.102454   \n",
       "\n",
       "       primary_cleaner.state.floatbank8_a_air  \\\n",
       "count                            5.290000e+03   \n",
       "mean                             1.539494e+03   \n",
       "std                              1.167979e+02   \n",
       "min                              5.445860e-32   \n",
       "25%                              1.498936e+03   \n",
       "50%                              1.585129e+03   \n",
       "75%                              1.602077e+03   \n",
       "max                              2.103104e+03   \n",
       "\n",
       "       primary_cleaner.state.floatbank8_a_level  \\\n",
       "count                               5290.000000   \n",
       "mean                                -497.665883   \n",
       "std                                   19.952431   \n",
       "min                                 -795.316337   \n",
       "25%                                 -500.357298   \n",
       "50%                                 -499.969164   \n",
       "75%                                 -499.568951   \n",
       "max                                  -57.195404   \n",
       "\n",
       "       primary_cleaner.state.floatbank8_b_air  \\\n",
       "count                            5.290000e+03   \n",
       "mean                             1.545174e+03   \n",
       "std                              1.222246e+02   \n",
       "min                              6.647490e-32   \n",
       "25%                              1.498971e+03   \n",
       "50%                              1.595622e+03   \n",
       "75%                              1.602324e+03   \n",
       "max                              1.813084e+03   \n",
       "\n",
       "       primary_cleaner.state.floatbank8_b_level  \\\n",
       "count                               5290.000000   \n",
       "mean                                -500.273098   \n",
       "std                                   32.968307   \n",
       "min                                 -799.997015   \n",
       "25%                                 -500.703002   \n",
       "50%                                 -500.028514   \n",
       "75%                                 -499.293257   \n",
       "max                                 -142.527229   \n",
       "\n",
       "       primary_cleaner.state.floatbank8_c_air  \\\n",
       "count                            5.290000e+03   \n",
       "mean                             1.527272e+03   \n",
       "std                              1.225380e+02   \n",
       "min                              4.033736e-32   \n",
       "25%                              1.473230e+03   \n",
       "50%                              1.549595e+03   \n",
       "75%                              1.601144e+03   \n",
       "max                              1.715054e+03   \n",
       "\n",
       "       primary_cleaner.state.floatbank8_c_level  ...  \\\n",
       "count                               5290.000000  ...   \n",
       "mean                                -498.330680  ...   \n",
       "std                                   21.964876  ...   \n",
       "min                                 -799.960571  ...   \n",
       "25%                                 -501.018117  ...   \n",
       "50%                                 -500.017711  ...   \n",
       "75%                                 -498.994130  ...   \n",
       "max                                 -150.937035  ...   \n",
       "\n",
       "       secondary_cleaner.state.floatbank4_a_air  \\\n",
       "count                              5.290000e+03   \n",
       "mean                               1.632007e+01   \n",
       "std                                3.493583e+00   \n",
       "min                                1.079872e-16   \n",
       "25%                                1.403618e+01   \n",
       "50%                                1.700847e+01   \n",
       "75%                                1.803862e+01   \n",
       "max                                3.005180e+01   \n",
       "\n",
       "       secondary_cleaner.state.floatbank4_a_level  \\\n",
       "count                                 5290.000000   \n",
       "mean                                  -505.144570   \n",
       "std                                     31.427337   \n",
       "min                                   -799.798523   \n",
       "25%                                   -500.868258   \n",
       "50%                                   -500.115727   \n",
       "75%                                   -499.404224   \n",
       "max                                   -401.565212   \n",
       "\n",
       "       secondary_cleaner.state.floatbank4_b_air  \\\n",
       "count                              5.290000e+03   \n",
       "mean                               1.373544e+01   \n",
       "std                                3.430484e+00   \n",
       "min                                2.489718e-17   \n",
       "25%                                1.202862e+01   \n",
       "50%                                1.496486e+01   \n",
       "75%                                1.596213e+01   \n",
       "max                                3.126971e+01   \n",
       "\n",
       "       secondary_cleaner.state.floatbank4_b_level  \\\n",
       "count                                 5290.000000   \n",
       "mean                                  -463.349858   \n",
       "std                                     86.189107   \n",
       "min                                   -800.836914   \n",
       "25%                                   -500.323028   \n",
       "50%                                   -499.576513   \n",
       "75%                                   -400.933805   \n",
       "max                                     -6.506986   \n",
       "\n",
       "       secondary_cleaner.state.floatbank5_a_air  \\\n",
       "count                               5290.000000   \n",
       "mean                                  12.804186   \n",
       "std                                    3.026591   \n",
       "min                                    0.069227   \n",
       "25%                                   10.914838   \n",
       "50%                                   12.954182   \n",
       "75%                                   15.097528   \n",
       "max                                   25.258848   \n",
       "\n",
       "       secondary_cleaner.state.floatbank5_a_level  \\\n",
       "count                                 5290.000000   \n",
       "mean                                  -501.329122   \n",
       "std                                     17.951495   \n",
       "min                                   -797.323986   \n",
       "25%                                   -500.726841   \n",
       "50%                                   -499.990332   \n",
       "75%                                   -499.283191   \n",
       "max                                   -244.483566   \n",
       "\n",
       "       secondary_cleaner.state.floatbank5_b_air  \\\n",
       "count                               5290.000000   \n",
       "mean                                   9.881145   \n",
       "std                                    2.868205   \n",
       "min                                    0.528083   \n",
       "25%                                    8.036719   \n",
       "50%                                   10.004301   \n",
       "75%                                   11.997467   \n",
       "max                                   14.086866   \n",
       "\n",
       "       secondary_cleaner.state.floatbank5_b_level  \\\n",
       "count                                 5290.000000   \n",
       "mean                                  -495.663398   \n",
       "std                                     34.535007   \n",
       "min                                   -800.220337   \n",
       "25%                                   -500.194668   \n",
       "50%                                   -499.990535   \n",
       "75%                                   -499.719913   \n",
       "max                                   -137.740004   \n",
       "\n",
       "       secondary_cleaner.state.floatbank6_a_air  \\\n",
       "count                               5290.000000   \n",
       "mean                                  17.304935   \n",
       "std                                    4.536544   \n",
       "min                                   -0.079426   \n",
       "25%                                   13.997317   \n",
       "50%                                   16.014935   \n",
       "75%                                   21.020013   \n",
       "max                                   26.705889   \n",
       "\n",
       "       secondary_cleaner.state.floatbank6_a_level  \n",
       "count                                 5290.000000  \n",
       "mean                                  -501.793193  \n",
       "std                                     39.044215  \n",
       "min                                   -809.741464  \n",
       "25%                                   -500.690984  \n",
       "50%                                   -500.007126  \n",
       "75%                                   -499.373018  \n",
       "max                                   -123.307487  \n",
       "\n",
       "[8 rows x 52 columns]"
      ]
     },
     "execution_count": 10,
     "metadata": {},
     "output_type": "execute_result"
    }
   ],
   "source": [
    "df_test.describe()"
   ]
  },
  {
   "cell_type": "markdown",
   "metadata": {},
   "source": [
    "Стандартное отклонение (std) у него слишком высокое в маленьком кол-ве наблюдений по сравнению остальных "
   ]
  },
  {
   "cell_type": "code",
   "execution_count": 11,
   "metadata": {},
   "outputs": [
    {
     "data": {
      "text/html": [
       "<div>\n",
       "<style scoped>\n",
       "    .dataframe tbody tr th:only-of-type {\n",
       "        vertical-align: middle;\n",
       "    }\n",
       "\n",
       "    .dataframe tbody tr th {\n",
       "        vertical-align: top;\n",
       "    }\n",
       "\n",
       "    .dataframe thead th {\n",
       "        text-align: right;\n",
       "    }\n",
       "</style>\n",
       "<table border=\"1\" class=\"dataframe\">\n",
       "  <thead>\n",
       "    <tr style=\"text-align: right;\">\n",
       "      <th></th>\n",
       "      <th>final.output.concentrate_ag</th>\n",
       "      <th>final.output.concentrate_pb</th>\n",
       "      <th>final.output.concentrate_sol</th>\n",
       "      <th>final.output.concentrate_au</th>\n",
       "      <th>final.output.recovery</th>\n",
       "      <th>final.output.tail_ag</th>\n",
       "      <th>final.output.tail_pb</th>\n",
       "      <th>final.output.tail_sol</th>\n",
       "      <th>final.output.tail_au</th>\n",
       "      <th>primary_cleaner.input.sulfate</th>\n",
       "      <th>...</th>\n",
       "      <th>secondary_cleaner.state.floatbank4_a_air</th>\n",
       "      <th>secondary_cleaner.state.floatbank4_a_level</th>\n",
       "      <th>secondary_cleaner.state.floatbank4_b_air</th>\n",
       "      <th>secondary_cleaner.state.floatbank4_b_level</th>\n",
       "      <th>secondary_cleaner.state.floatbank5_a_air</th>\n",
       "      <th>secondary_cleaner.state.floatbank5_a_level</th>\n",
       "      <th>secondary_cleaner.state.floatbank5_b_air</th>\n",
       "      <th>secondary_cleaner.state.floatbank5_b_level</th>\n",
       "      <th>secondary_cleaner.state.floatbank6_a_air</th>\n",
       "      <th>secondary_cleaner.state.floatbank6_a_level</th>\n",
       "    </tr>\n",
       "  </thead>\n",
       "  <tbody>\n",
       "    <tr>\n",
       "      <th>count</th>\n",
       "      <td>19438.000000</td>\n",
       "      <td>19438.000000</td>\n",
       "      <td>19228.000000</td>\n",
       "      <td>19439.000000</td>\n",
       "      <td>19439.000000</td>\n",
       "      <td>19438.000000</td>\n",
       "      <td>19338.000000</td>\n",
       "      <td>19433.000000</td>\n",
       "      <td>19439.000000</td>\n",
       "      <td>19415.000000</td>\n",
       "      <td>...</td>\n",
       "      <td>19433.000000</td>\n",
       "      <td>19438.000000</td>\n",
       "      <td>19438.000000</td>\n",
       "      <td>19438.000000</td>\n",
       "      <td>19438.000000</td>\n",
       "      <td>19438.000000</td>\n",
       "      <td>19438.000000</td>\n",
       "      <td>19438.000000</td>\n",
       "      <td>19437.000000</td>\n",
       "      <td>19438.000000</td>\n",
       "    </tr>\n",
       "    <tr>\n",
       "      <th>mean</th>\n",
       "      <td>5.168470</td>\n",
       "      <td>9.978895</td>\n",
       "      <td>9.501224</td>\n",
       "      <td>44.076513</td>\n",
       "      <td>67.050208</td>\n",
       "      <td>9.688589</td>\n",
       "      <td>2.705795</td>\n",
       "      <td>10.583728</td>\n",
       "      <td>3.042467</td>\n",
       "      <td>144.624774</td>\n",
       "      <td>...</td>\n",
       "      <td>18.987674</td>\n",
       "      <td>-485.894516</td>\n",
       "      <td>15.010366</td>\n",
       "      <td>-461.078636</td>\n",
       "      <td>15.694452</td>\n",
       "      <td>-488.684065</td>\n",
       "      <td>12.198224</td>\n",
       "      <td>-487.149827</td>\n",
       "      <td>18.959024</td>\n",
       "      <td>-505.436305</td>\n",
       "    </tr>\n",
       "    <tr>\n",
       "      <th>std</th>\n",
       "      <td>1.372348</td>\n",
       "      <td>1.669240</td>\n",
       "      <td>2.787537</td>\n",
       "      <td>5.129784</td>\n",
       "      <td>10.125840</td>\n",
       "      <td>2.328642</td>\n",
       "      <td>0.949077</td>\n",
       "      <td>2.868782</td>\n",
       "      <td>0.922808</td>\n",
       "      <td>44.464071</td>\n",
       "      <td>...</td>\n",
       "      <td>5.411058</td>\n",
       "      <td>47.758570</td>\n",
       "      <td>4.890228</td>\n",
       "      <td>67.405524</td>\n",
       "      <td>5.510974</td>\n",
       "      <td>34.533396</td>\n",
       "      <td>5.333024</td>\n",
       "      <td>38.347312</td>\n",
       "      <td>5.550498</td>\n",
       "      <td>37.689057</td>\n",
       "    </tr>\n",
       "    <tr>\n",
       "      <th>min</th>\n",
       "      <td>0.000000</td>\n",
       "      <td>0.000000</td>\n",
       "      <td>0.000000</td>\n",
       "      <td>0.000000</td>\n",
       "      <td>0.000000</td>\n",
       "      <td>0.000000</td>\n",
       "      <td>0.000000</td>\n",
       "      <td>0.000000</td>\n",
       "      <td>0.000000</td>\n",
       "      <td>0.003112</td>\n",
       "      <td>...</td>\n",
       "      <td>0.000000</td>\n",
       "      <td>-799.798523</td>\n",
       "      <td>0.000000</td>\n",
       "      <td>-800.836914</td>\n",
       "      <td>-0.372054</td>\n",
       "      <td>-797.323986</td>\n",
       "      <td>0.528083</td>\n",
       "      <td>-800.220337</td>\n",
       "      <td>-0.079426</td>\n",
       "      <td>-809.741464</td>\n",
       "    </tr>\n",
       "    <tr>\n",
       "      <th>25%</th>\n",
       "      <td>4.251240</td>\n",
       "      <td>9.137262</td>\n",
       "      <td>7.722820</td>\n",
       "      <td>43.402215</td>\n",
       "      <td>63.299712</td>\n",
       "      <td>8.062878</td>\n",
       "      <td>2.040119</td>\n",
       "      <td>8.938947</td>\n",
       "      <td>2.461138</td>\n",
       "      <td>114.107029</td>\n",
       "      <td>...</td>\n",
       "      <td>14.975734</td>\n",
       "      <td>-500.704892</td>\n",
       "      <td>11.940294</td>\n",
       "      <td>-500.187742</td>\n",
       "      <td>10.988606</td>\n",
       "      <td>-500.458467</td>\n",
       "      <td>8.971105</td>\n",
       "      <td>-500.129462</td>\n",
       "      <td>14.983037</td>\n",
       "      <td>-500.728067</td>\n",
       "    </tr>\n",
       "    <tr>\n",
       "      <th>50%</th>\n",
       "      <td>5.066094</td>\n",
       "      <td>10.102433</td>\n",
       "      <td>9.218961</td>\n",
       "      <td>45.011244</td>\n",
       "      <td>68.172738</td>\n",
       "      <td>9.743623</td>\n",
       "      <td>2.748730</td>\n",
       "      <td>10.622456</td>\n",
       "      <td>2.984909</td>\n",
       "      <td>143.232103</td>\n",
       "      <td>...</td>\n",
       "      <td>18.017481</td>\n",
       "      <td>-499.837793</td>\n",
       "      <td>14.971014</td>\n",
       "      <td>-499.459786</td>\n",
       "      <td>15.000036</td>\n",
       "      <td>-499.802605</td>\n",
       "      <td>11.019433</td>\n",
       "      <td>-499.935317</td>\n",
       "      <td>19.960541</td>\n",
       "      <td>-500.048400</td>\n",
       "    </tr>\n",
       "    <tr>\n",
       "      <th>75%</th>\n",
       "      <td>5.895527</td>\n",
       "      <td>11.035769</td>\n",
       "      <td>10.947813</td>\n",
       "      <td>46.275313</td>\n",
       "      <td>72.686642</td>\n",
       "      <td>11.134294</td>\n",
       "      <td>3.333216</td>\n",
       "      <td>12.104271</td>\n",
       "      <td>3.571351</td>\n",
       "      <td>175.075656</td>\n",
       "      <td>...</td>\n",
       "      <td>23.012470</td>\n",
       "      <td>-498.249730</td>\n",
       "      <td>19.034162</td>\n",
       "      <td>-400.118106</td>\n",
       "      <td>18.026190</td>\n",
       "      <td>-498.384187</td>\n",
       "      <td>14.019088</td>\n",
       "      <td>-499.436708</td>\n",
       "      <td>24.003170</td>\n",
       "      <td>-499.495378</td>\n",
       "    </tr>\n",
       "    <tr>\n",
       "      <th>max</th>\n",
       "      <td>16.001945</td>\n",
       "      <td>17.031899</td>\n",
       "      <td>19.615720</td>\n",
       "      <td>52.756638</td>\n",
       "      <td>100.000000</td>\n",
       "      <td>19.552149</td>\n",
       "      <td>5.804178</td>\n",
       "      <td>22.317730</td>\n",
       "      <td>8.245022</td>\n",
       "      <td>265.983123</td>\n",
       "      <td>...</td>\n",
       "      <td>30.115735</td>\n",
       "      <td>-245.239184</td>\n",
       "      <td>31.269706</td>\n",
       "      <td>-6.506986</td>\n",
       "      <td>43.709931</td>\n",
       "      <td>-244.483566</td>\n",
       "      <td>27.926001</td>\n",
       "      <td>-137.740004</td>\n",
       "      <td>32.188906</td>\n",
       "      <td>-104.427459</td>\n",
       "    </tr>\n",
       "  </tbody>\n",
       "</table>\n",
       "<p>8 rows × 86 columns</p>\n",
       "</div>"
      ],
      "text/plain": [
       "       final.output.concentrate_ag  final.output.concentrate_pb  \\\n",
       "count                 19438.000000                 19438.000000   \n",
       "mean                      5.168470                     9.978895   \n",
       "std                       1.372348                     1.669240   \n",
       "min                       0.000000                     0.000000   \n",
       "25%                       4.251240                     9.137262   \n",
       "50%                       5.066094                    10.102433   \n",
       "75%                       5.895527                    11.035769   \n",
       "max                      16.001945                    17.031899   \n",
       "\n",
       "       final.output.concentrate_sol  final.output.concentrate_au  \\\n",
       "count                  19228.000000                 19439.000000   \n",
       "mean                       9.501224                    44.076513   \n",
       "std                        2.787537                     5.129784   \n",
       "min                        0.000000                     0.000000   \n",
       "25%                        7.722820                    43.402215   \n",
       "50%                        9.218961                    45.011244   \n",
       "75%                       10.947813                    46.275313   \n",
       "max                       19.615720                    52.756638   \n",
       "\n",
       "       final.output.recovery  final.output.tail_ag  final.output.tail_pb  \\\n",
       "count           19439.000000          19438.000000          19338.000000   \n",
       "mean               67.050208              9.688589              2.705795   \n",
       "std                10.125840              2.328642              0.949077   \n",
       "min                 0.000000              0.000000              0.000000   \n",
       "25%                63.299712              8.062878              2.040119   \n",
       "50%                68.172738              9.743623              2.748730   \n",
       "75%                72.686642             11.134294              3.333216   \n",
       "max               100.000000             19.552149              5.804178   \n",
       "\n",
       "       final.output.tail_sol  final.output.tail_au  \\\n",
       "count           19433.000000          19439.000000   \n",
       "mean               10.583728              3.042467   \n",
       "std                 2.868782              0.922808   \n",
       "min                 0.000000              0.000000   \n",
       "25%                 8.938947              2.461138   \n",
       "50%                10.622456              2.984909   \n",
       "75%                12.104271              3.571351   \n",
       "max                22.317730              8.245022   \n",
       "\n",
       "       primary_cleaner.input.sulfate  ...  \\\n",
       "count                   19415.000000  ...   \n",
       "mean                      144.624774  ...   \n",
       "std                        44.464071  ...   \n",
       "min                         0.003112  ...   \n",
       "25%                       114.107029  ...   \n",
       "50%                       143.232103  ...   \n",
       "75%                       175.075656  ...   \n",
       "max                       265.983123  ...   \n",
       "\n",
       "       secondary_cleaner.state.floatbank4_a_air  \\\n",
       "count                              19433.000000   \n",
       "mean                                  18.987674   \n",
       "std                                    5.411058   \n",
       "min                                    0.000000   \n",
       "25%                                   14.975734   \n",
       "50%                                   18.017481   \n",
       "75%                                   23.012470   \n",
       "max                                   30.115735   \n",
       "\n",
       "       secondary_cleaner.state.floatbank4_a_level  \\\n",
       "count                                19438.000000   \n",
       "mean                                  -485.894516   \n",
       "std                                     47.758570   \n",
       "min                                   -799.798523   \n",
       "25%                                   -500.704892   \n",
       "50%                                   -499.837793   \n",
       "75%                                   -498.249730   \n",
       "max                                   -245.239184   \n",
       "\n",
       "       secondary_cleaner.state.floatbank4_b_air  \\\n",
       "count                              19438.000000   \n",
       "mean                                  15.010366   \n",
       "std                                    4.890228   \n",
       "min                                    0.000000   \n",
       "25%                                   11.940294   \n",
       "50%                                   14.971014   \n",
       "75%                                   19.034162   \n",
       "max                                   31.269706   \n",
       "\n",
       "       secondary_cleaner.state.floatbank4_b_level  \\\n",
       "count                                19438.000000   \n",
       "mean                                  -461.078636   \n",
       "std                                     67.405524   \n",
       "min                                   -800.836914   \n",
       "25%                                   -500.187742   \n",
       "50%                                   -499.459786   \n",
       "75%                                   -400.118106   \n",
       "max                                     -6.506986   \n",
       "\n",
       "       secondary_cleaner.state.floatbank5_a_air  \\\n",
       "count                              19438.000000   \n",
       "mean                                  15.694452   \n",
       "std                                    5.510974   \n",
       "min                                   -0.372054   \n",
       "25%                                   10.988606   \n",
       "50%                                   15.000036   \n",
       "75%                                   18.026190   \n",
       "max                                   43.709931   \n",
       "\n",
       "       secondary_cleaner.state.floatbank5_a_level  \\\n",
       "count                                19438.000000   \n",
       "mean                                  -488.684065   \n",
       "std                                     34.533396   \n",
       "min                                   -797.323986   \n",
       "25%                                   -500.458467   \n",
       "50%                                   -499.802605   \n",
       "75%                                   -498.384187   \n",
       "max                                   -244.483566   \n",
       "\n",
       "       secondary_cleaner.state.floatbank5_b_air  \\\n",
       "count                              19438.000000   \n",
       "mean                                  12.198224   \n",
       "std                                    5.333024   \n",
       "min                                    0.528083   \n",
       "25%                                    8.971105   \n",
       "50%                                   11.019433   \n",
       "75%                                   14.019088   \n",
       "max                                   27.926001   \n",
       "\n",
       "       secondary_cleaner.state.floatbank5_b_level  \\\n",
       "count                                19438.000000   \n",
       "mean                                  -487.149827   \n",
       "std                                     38.347312   \n",
       "min                                   -800.220337   \n",
       "25%                                   -500.129462   \n",
       "50%                                   -499.935317   \n",
       "75%                                   -499.436708   \n",
       "max                                   -137.740004   \n",
       "\n",
       "       secondary_cleaner.state.floatbank6_a_air  \\\n",
       "count                              19437.000000   \n",
       "mean                                  18.959024   \n",
       "std                                    5.550498   \n",
       "min                                   -0.079426   \n",
       "25%                                   14.983037   \n",
       "50%                                   19.960541   \n",
       "75%                                   24.003170   \n",
       "max                                   32.188906   \n",
       "\n",
       "       secondary_cleaner.state.floatbank6_a_level  \n",
       "count                                19438.000000  \n",
       "mean                                  -505.436305  \n",
       "std                                     37.689057  \n",
       "min                                   -809.741464  \n",
       "25%                                   -500.728067  \n",
       "50%                                   -500.048400  \n",
       "75%                                   -499.495378  \n",
       "max                                   -104.427459  \n",
       "\n",
       "[8 rows x 86 columns]"
      ]
     },
     "execution_count": 11,
     "metadata": {},
     "output_type": "execute_result"
    }
   ],
   "source": [
    "df_full.describe()"
   ]
  },
  {
   "cell_type": "code",
   "execution_count": 12,
   "metadata": {},
   "outputs": [],
   "source": [
    "# Проверим на наличие пропущенных значений\n",
    "def check_missed_columns(dataset):\n",
    "    name_columns = dataset.columns\n",
    "    \n",
    "    for i in name_columns:\n",
    "        if(dataset[i].isna().sum() > 0):\n",
    "            print(f'{i}: {dataset[i].isna().sum()}')\n",
    "            \n",
    "        if(i == name_columns[len(name_columns) - 1]):\n",
    "            print('Отсутствует пропущенное значение')"
   ]
  },
  {
   "cell_type": "code",
   "execution_count": 13,
   "metadata": {},
   "outputs": [
    {
     "name": "stdout",
     "output_type": "stream",
     "text": [
      "final.output.concentrate_ag: 1\n",
      "final.output.concentrate_pb: 1\n",
      "final.output.concentrate_sol: 211\n",
      "final.output.tail_pb: 100\n",
      "final.output.tail_sol: 5\n",
      "primary_cleaner.input.sulfate: 20\n",
      "primary_cleaner.input.depressant: 32\n",
      "primary_cleaner.input.xanthate: 100\n",
      "primary_cleaner.output.concentrate_pb: 86\n",
      "primary_cleaner.output.concentrate_sol: 286\n",
      "primary_cleaner.output.tail_ag: 1\n",
      "primary_cleaner.output.tail_pb: 15\n",
      "primary_cleaner.output.tail_sol: 46\n",
      "primary_cleaner.state.floatbank8_a_air: 4\n",
      "primary_cleaner.state.floatbank8_a_level: 1\n",
      "primary_cleaner.state.floatbank8_b_air: 4\n",
      "primary_cleaner.state.floatbank8_b_level: 1\n",
      "primary_cleaner.state.floatbank8_c_air: 2\n",
      "primary_cleaner.state.floatbank8_c_level: 1\n",
      "primary_cleaner.state.floatbank8_d_air: 3\n",
      "primary_cleaner.state.floatbank8_d_level: 1\n",
      "rougher.calculation.sulfate_to_au_concentrate: 1\n",
      "rougher.calculation.floatbank10_sulfate_to_au_feed: 1\n",
      "rougher.calculation.floatbank11_sulfate_to_au_feed: 1\n",
      "rougher.input.feed_pb: 100\n",
      "rougher.input.feed_rate: 8\n",
      "rougher.input.feed_size: 144\n",
      "rougher.input.feed_sol: 78\n",
      "rougher.input.floatbank10_sulfate: 29\n",
      "rougher.input.floatbank10_xanthate: 8\n",
      "rougher.input.floatbank11_sulfate: 36\n",
      "rougher.input.floatbank11_xanthate: 428\n",
      "rougher.output.concentrate_sol: 22\n",
      "rougher.output.tail_ag: 1\n",
      "rougher.state.floatbank10_a_air: 1\n",
      "rougher.state.floatbank10_a_level: 1\n",
      "rougher.state.floatbank10_b_air: 1\n",
      "rougher.state.floatbank10_b_level: 1\n",
      "rougher.state.floatbank10_c_air: 1\n",
      "rougher.state.floatbank10_c_level: 1\n",
      "rougher.state.floatbank10_e_air: 436\n",
      "secondary_cleaner.output.tail_ag: 2\n",
      "secondary_cleaner.output.tail_pb: 10\n",
      "secondary_cleaner.output.tail_sol: 1605\n",
      "secondary_cleaner.state.floatbank2_a_air: 217\n",
      "secondary_cleaner.state.floatbank2_a_level: 1\n",
      "secondary_cleaner.state.floatbank2_b_air: 21\n",
      "secondary_cleaner.state.floatbank2_b_level: 1\n",
      "secondary_cleaner.state.floatbank3_a_air: 4\n",
      "secondary_cleaner.state.floatbank3_a_level: 1\n",
      "secondary_cleaner.state.floatbank3_b_air: 1\n",
      "secondary_cleaner.state.floatbank3_b_level: 1\n",
      "secondary_cleaner.state.floatbank4_a_air: 6\n",
      "secondary_cleaner.state.floatbank4_a_level: 1\n",
      "secondary_cleaner.state.floatbank4_b_air: 1\n",
      "secondary_cleaner.state.floatbank4_b_level: 1\n",
      "secondary_cleaner.state.floatbank5_a_air: 1\n",
      "secondary_cleaner.state.floatbank5_a_level: 1\n",
      "secondary_cleaner.state.floatbank5_b_air: 1\n",
      "secondary_cleaner.state.floatbank5_b_level: 1\n",
      "secondary_cleaner.state.floatbank6_a_air: 2\n",
      "secondary_cleaner.state.floatbank6_a_level: 1\n",
      "Отсутствует пропущенное значение\n"
     ]
    }
   ],
   "source": [
    "check_missed_columns(df_train)"
   ]
  },
  {
   "cell_type": "code",
   "execution_count": 14,
   "metadata": {},
   "outputs": [
    {
     "name": "stdout",
     "output_type": "stream",
     "text": [
      "primary_cleaner.input.sulfate: 4\n",
      "primary_cleaner.input.depressant: 5\n",
      "primary_cleaner.input.xanthate: 4\n",
      "rougher.input.feed_rate: 3\n",
      "rougher.input.feed_size: 1\n",
      "rougher.input.feed_sol: 21\n",
      "rougher.input.floatbank10_sulfate: 5\n",
      "rougher.input.floatbank11_sulfate: 8\n",
      "rougher.input.floatbank11_xanthate: 25\n",
      "secondary_cleaner.state.floatbank2_a_air: 3\n",
      "secondary_cleaner.state.floatbank2_b_air: 2\n",
      "secondary_cleaner.state.floatbank3_a_air: 9\n",
      "Отсутствует пропущенное значение\n"
     ]
    }
   ],
   "source": [
    "check_missed_columns(df_test)"
   ]
  },
  {
   "cell_type": "code",
   "execution_count": 15,
   "metadata": {},
   "outputs": [
    {
     "name": "stdout",
     "output_type": "stream",
     "text": [
      "final.output.concentrate_ag: 1\n",
      "final.output.concentrate_pb: 1\n",
      "final.output.concentrate_sol: 211\n",
      "final.output.tail_ag: 1\n",
      "final.output.tail_pb: 101\n",
      "final.output.tail_sol: 6\n",
      "primary_cleaner.input.sulfate: 24\n",
      "primary_cleaner.input.depressant: 37\n",
      "primary_cleaner.input.xanthate: 104\n",
      "primary_cleaner.output.concentrate_pb: 116\n",
      "primary_cleaner.output.concentrate_sol: 370\n",
      "primary_cleaner.output.tail_ag: 4\n",
      "primary_cleaner.output.tail_pb: 21\n",
      "primary_cleaner.output.tail_sol: 62\n",
      "primary_cleaner.state.floatbank8_a_air: 4\n",
      "primary_cleaner.state.floatbank8_a_level: 1\n",
      "primary_cleaner.state.floatbank8_b_air: 4\n",
      "primary_cleaner.state.floatbank8_b_level: 1\n",
      "primary_cleaner.state.floatbank8_c_air: 2\n",
      "primary_cleaner.state.floatbank8_c_level: 1\n",
      "primary_cleaner.state.floatbank8_d_air: 3\n",
      "primary_cleaner.state.floatbank8_d_level: 1\n",
      "rougher.calculation.sulfate_to_au_concentrate: 2\n",
      "rougher.calculation.floatbank10_sulfate_to_au_feed: 2\n",
      "rougher.calculation.floatbank11_sulfate_to_au_feed: 2\n",
      "rougher.input.feed_pb: 100\n",
      "rougher.input.feed_rate: 11\n",
      "rougher.input.feed_size: 145\n",
      "rougher.input.feed_sol: 99\n",
      "rougher.input.floatbank10_sulfate: 34\n",
      "rougher.input.floatbank10_xanthate: 8\n",
      "rougher.input.floatbank11_sulfate: 44\n",
      "rougher.input.floatbank11_xanthate: 453\n",
      "rougher.output.concentrate_sol: 23\n",
      "rougher.output.tail_ag: 1\n",
      "rougher.state.floatbank10_a_air: 1\n",
      "rougher.state.floatbank10_a_level: 1\n",
      "rougher.state.floatbank10_b_air: 1\n",
      "rougher.state.floatbank10_b_level: 1\n",
      "rougher.state.floatbank10_c_air: 1\n",
      "rougher.state.floatbank10_c_level: 1\n",
      "rougher.state.floatbank10_e_air: 436\n",
      "secondary_cleaner.output.tail_ag: 2\n",
      "secondary_cleaner.output.tail_pb: 12\n",
      "secondary_cleaner.output.tail_sol: 1748\n",
      "secondary_cleaner.state.floatbank2_a_air: 220\n",
      "secondary_cleaner.state.floatbank2_a_level: 1\n",
      "secondary_cleaner.state.floatbank2_b_air: 23\n",
      "secondary_cleaner.state.floatbank2_b_level: 1\n",
      "secondary_cleaner.state.floatbank3_a_air: 13\n",
      "secondary_cleaner.state.floatbank3_a_level: 1\n",
      "secondary_cleaner.state.floatbank3_b_air: 1\n",
      "secondary_cleaner.state.floatbank3_b_level: 1\n",
      "secondary_cleaner.state.floatbank4_a_air: 6\n",
      "secondary_cleaner.state.floatbank4_a_level: 1\n",
      "secondary_cleaner.state.floatbank4_b_air: 1\n",
      "secondary_cleaner.state.floatbank4_b_level: 1\n",
      "secondary_cleaner.state.floatbank5_a_air: 1\n",
      "secondary_cleaner.state.floatbank5_a_level: 1\n",
      "secondary_cleaner.state.floatbank5_b_air: 1\n",
      "secondary_cleaner.state.floatbank5_b_level: 1\n",
      "secondary_cleaner.state.floatbank6_a_air: 2\n",
      "secondary_cleaner.state.floatbank6_a_level: 1\n",
      "Отсутствует пропущенное значение\n"
     ]
    }
   ],
   "source": [
    "check_missed_columns(df_full)"
   ]
  },
  {
   "cell_type": "markdown",
   "metadata": {},
   "source": [
    "Не так уж критично много пропущенных значений, поэтому можно смело их удалять"
   ]
  },
  {
   "cell_type": "code",
   "execution_count": 16,
   "metadata": {},
   "outputs": [],
   "source": [
    "df_train = df_train.dropna()\n",
    "df_test = df_test.dropna()\n",
    "df_full = df_full.dropna()"
   ]
  },
  {
   "cell_type": "code",
   "execution_count": 17,
   "metadata": {},
   "outputs": [
    {
     "name": "stdout",
     "output_type": "stream",
     "text": [
      "Отсутствует пропущенное значение\n",
      "Отсутствует пропущенное значение\n",
      "Отсутствует пропущенное значение\n"
     ]
    }
   ],
   "source": [
    "check_missed_columns(df_train)\n",
    "check_missed_columns(df_test)\n",
    "check_missed_columns(df_full)"
   ]
  },
  {
   "cell_type": "code",
   "execution_count": 18,
   "metadata": {},
   "outputs": [
    {
     "name": "stdout",
     "output_type": "stream",
     "text": [
      "Кол-во дубликатов df_train: 0\n",
      "Кол-во дубликатов df_test: 0\n",
      "Кол-во дубликатов df_full: 0\n"
     ]
    }
   ],
   "source": [
    "# Посчитаем дубликаты\n",
    "print('Кол-во дубликатов df_train:', df_train.duplicated().sum())\n",
    "\n",
    "print('Кол-во дубликатов df_test:', df_test.duplicated().sum())\n",
    "\n",
    "print('Кол-во дубликатов df_full:', df_full.duplicated().sum())"
   ]
  },
  {
   "cell_type": "markdown",
   "metadata": {},
   "source": [
    "### Проверим, что эффективность обогащения рассчитана правильно. Вычислим её на обучающей выборке для признака ```rougher.output.recovery```. Найдем MAE между нашими расчётами и значением признака. Опишим выводы."
   ]
  },
  {
   "cell_type": "markdown",
   "metadata": {},
   "source": [
    "#### Проверим на расчет эффективности обогащения\n",
    "\n",
    "**RECOVERY = (C * (F - T)) / (F * (C - T)) * 100%**\n",
    "\n",
    "\n",
    "где:\n",
    "- C — доля золота в концентрате после флотации/очистки;\n",
    "- F — доля золота в сырье/концентрате до флотации/очистки;\n",
    "- T — доля золота в отвальных хвостах после флотации/очистки."
   ]
  },
  {
   "cell_type": "markdown",
   "metadata": {},
   "source": [
    "Вспомним наименование признаков:\n",
    "\n",
    "```[этап].[тип_параметра].[название_параметра]```\n"
   ]
  },
  {
   "cell_type": "code",
   "execution_count": 19,
   "metadata": {},
   "outputs": [],
   "source": [
    "calculation_effectiveness = {}\n",
    "# Находим долю золота в концентрате после флотации/очистки\n",
    "# т.е. нам интересует эти:\n",
    "# rougher.output.concentrate_au (флотация.параметры_продукта.концентраты_золота)\n",
    "calculation_effectiveness['c_au_output'] = df_train['rougher.output.concentrate_au']\n",
    "\n",
    "# Находим долю золота в сырье/концентрате до флотации/очистки\n",
    "# rougher.input.feed_au (флотация.параметры_сырья.потребление_золота)\n",
    "calculation_effectiveness['f_au_input'] = df_train['rougher.input.feed_au']\n",
    "\n",
    "# Находим долю золота в отвальных хвостах после флотации/очистки\n",
    "# rougher.output.tail_au (флотация.параметры_сырья.отвальные_хвостики)\n",
    "calculation_effectiveness['t_au_concentrate'] = df_train['rougher.output.tail_au']"
   ]
  },
  {
   "cell_type": "code",
   "execution_count": 20,
   "metadata": {},
   "outputs": [],
   "source": [
    "# Вычисляем долю\n",
    "calculation_effectiveness['recovery'] = (calculation_effectiveness['c_au_output'] * (calculation_effectiveness['f_au_input'] - calculation_effectiveness['t_au_concentrate'])) / (calculation_effectiveness['f_au_input'] * (calculation_effectiveness['c_au_output'] - calculation_effectiveness['t_au_concentrate'])) * 100"
   ]
  },
  {
   "cell_type": "code",
   "execution_count": 21,
   "metadata": {},
   "outputs": [
    {
     "name": "stdout",
     "output_type": "stream",
     "text": [
      "Эффективность обогащения:\n",
      "0        87.107763\n",
      "1        86.843261\n",
      "2        86.842308\n",
      "3        87.226430\n",
      "4        86.688794\n",
      "           ...    \n",
      "14144    89.574376\n",
      "14145    87.724007\n",
      "14146    88.890579\n",
      "14147    89.858126\n",
      "14148    89.514960\n",
      "Length: 11017, dtype: float64\n"
     ]
    }
   ],
   "source": [
    "print('Эффективность обогащения:')\n",
    "print(calculation_effectiveness['recovery'])"
   ]
  },
  {
   "cell_type": "markdown",
   "metadata": {},
   "source": [
    "#### Находим MAE между нашими расчетами и значением признака \n",
    "***Чем меньше и близок к 0, тем лучше***"
   ]
  },
  {
   "cell_type": "code",
   "execution_count": 22,
   "metadata": {},
   "outputs": [],
   "source": [
    "calculation_effectiveness['mae'] = mean_absolute_error(df_train['rougher.output.recovery'], calculation_effectiveness['recovery'])"
   ]
  },
  {
   "cell_type": "code",
   "execution_count": 23,
   "metadata": {},
   "outputs": [
    {
     "name": "stdout",
     "output_type": "stream",
     "text": [
      "MAE: 9.82970122149377e-15\n"
     ]
    }
   ],
   "source": [
    "print('MAE:', calculation_effectiveness['mae'])"
   ]
  },
  {
   "cell_type": "markdown",
   "metadata": {},
   "source": [
    "Здесь можно заметить, что значение очень крайно маленькое, т.е. ср.абс. ошибка очень мала, значит отклонения между столбцом rougher.output.recovery и эти данные небольшая"
   ]
  },
  {
   "cell_type": "markdown",
   "metadata": {},
   "source": [
    "#### Проанализируйте признаки, недоступные в тестовой выборке. Что это за параметры? К какому типу относятся?"
   ]
  },
  {
   "cell_type": "code",
   "execution_count": 24,
   "metadata": {},
   "outputs": [
    {
     "data": {
      "text/plain": [
       "date                                           object\n",
       "primary_cleaner.input.sulfate                 float64\n",
       "primary_cleaner.input.depressant              float64\n",
       "primary_cleaner.input.feed_size               float64\n",
       "primary_cleaner.input.xanthate                float64\n",
       "primary_cleaner.state.floatbank8_a_air        float64\n",
       "primary_cleaner.state.floatbank8_a_level      float64\n",
       "primary_cleaner.state.floatbank8_b_air        float64\n",
       "primary_cleaner.state.floatbank8_b_level      float64\n",
       "primary_cleaner.state.floatbank8_c_air        float64\n",
       "primary_cleaner.state.floatbank8_c_level      float64\n",
       "primary_cleaner.state.floatbank8_d_air        float64\n",
       "primary_cleaner.state.floatbank8_d_level      float64\n",
       "rougher.input.feed_ag                         float64\n",
       "rougher.input.feed_pb                         float64\n",
       "rougher.input.feed_rate                       float64\n",
       "rougher.input.feed_size                       float64\n",
       "rougher.input.feed_sol                        float64\n",
       "rougher.input.feed_au                         float64\n",
       "rougher.input.floatbank10_sulfate             float64\n",
       "rougher.input.floatbank10_xanthate            float64\n",
       "rougher.input.floatbank11_sulfate             float64\n",
       "rougher.input.floatbank11_xanthate            float64\n",
       "rougher.state.floatbank10_a_air               float64\n",
       "rougher.state.floatbank10_a_level             float64\n",
       "rougher.state.floatbank10_b_air               float64\n",
       "rougher.state.floatbank10_b_level             float64\n",
       "rougher.state.floatbank10_c_air               float64\n",
       "rougher.state.floatbank10_c_level             float64\n",
       "rougher.state.floatbank10_d_air               float64\n",
       "rougher.state.floatbank10_d_level             float64\n",
       "rougher.state.floatbank10_e_air               float64\n",
       "rougher.state.floatbank10_e_level             float64\n",
       "rougher.state.floatbank10_f_air               float64\n",
       "rougher.state.floatbank10_f_level             float64\n",
       "secondary_cleaner.state.floatbank2_a_air      float64\n",
       "secondary_cleaner.state.floatbank2_a_level    float64\n",
       "secondary_cleaner.state.floatbank2_b_air      float64\n",
       "secondary_cleaner.state.floatbank2_b_level    float64\n",
       "secondary_cleaner.state.floatbank3_a_air      float64\n",
       "secondary_cleaner.state.floatbank3_a_level    float64\n",
       "secondary_cleaner.state.floatbank3_b_air      float64\n",
       "secondary_cleaner.state.floatbank3_b_level    float64\n",
       "secondary_cleaner.state.floatbank4_a_air      float64\n",
       "secondary_cleaner.state.floatbank4_a_level    float64\n",
       "secondary_cleaner.state.floatbank4_b_air      float64\n",
       "secondary_cleaner.state.floatbank4_b_level    float64\n",
       "secondary_cleaner.state.floatbank5_a_air      float64\n",
       "secondary_cleaner.state.floatbank5_a_level    float64\n",
       "secondary_cleaner.state.floatbank5_b_air      float64\n",
       "secondary_cleaner.state.floatbank5_b_level    float64\n",
       "secondary_cleaner.state.floatbank6_a_air      float64\n",
       "secondary_cleaner.state.floatbank6_a_level    float64\n",
       "dtype: object"
      ]
     },
     "execution_count": 24,
     "metadata": {},
     "output_type": "execute_result"
    }
   ],
   "source": [
    "# Смотрим типы колонки\n",
    "df_test.dtypes"
   ]
  },
  {
   "cell_type": "code",
   "execution_count": 25,
   "metadata": {},
   "outputs": [
    {
     "data": {
      "text/plain": [
       "0       2016-09-01 00:59:59\n",
       "1       2016-09-01 01:59:59\n",
       "2       2016-09-01 02:59:59\n",
       "3       2016-09-01 03:59:59\n",
       "4       2016-09-01 04:59:59\n",
       "               ...         \n",
       "5285    2017-12-31 19:59:59\n",
       "5286    2017-12-31 20:59:59\n",
       "5287    2017-12-31 21:59:59\n",
       "5288    2017-12-31 22:59:59\n",
       "5289    2017-12-31 23:59:59\n",
       "Name: date, Length: 5229, dtype: object"
      ]
     },
     "execution_count": 25,
     "metadata": {},
     "output_type": "execute_result"
    }
   ],
   "source": [
    "# У всех стоит вещественный тип float64, а у одного - object, смотрим, что в нем\n",
    "df_test['date']"
   ]
  },
  {
   "cell_type": "markdown",
   "metadata": {},
   "source": [
    "Для МО этот признак не нуждается в дальнейшем"
   ]
  },
  {
   "cell_type": "markdown",
   "metadata": {},
   "source": [
    "### Предобработка данных уже проведены, пропуски удалены, дублирующие значения отсутствуют"
   ]
  },
  {
   "cell_type": "markdown",
   "metadata": {},
   "source": [
    "## Анализ данных"
   ]
  },
  {
   "cell_type": "markdown",
   "metadata": {},
   "source": [
    "### Посмотрим, как меняется концентрация металлов (Au, Ag, Pb) на различных этапах очистки"
   ]
  },
  {
   "cell_type": "code",
   "execution_count": 91,
   "metadata": {},
   "outputs": [],
   "source": [
    "metals = ['au', 'ag', 'pb']\n",
    "\n",
    "# У нас 2 этапа очистки: первый (primary_cleaner) и второй (secondary_cleaner)\n",
    "primary_cleaner = ['rougher.input.feed_', # Вход металлы к флотации\n",
    "                   'rougher.output.concentrate_', # Выход металлы с флотации\n",
    "                   'primary_cleaner.output.concentrate_', # Вход в первый этап очищения, очищаем, и выход с первого этапа очищенные металлы\n",
    "                   'primary_cleaner.output.tail_'] # Отвальные хвосты с 1 этапа\n",
    "\n",
    "secondary_cleaner = ['primary_cleaner.output.concentrate_', # Поступаем к очищению с первого этапа\n",
    "                     'final.output.concentrate_', # Очищаем, и выход второй очищенные металлы (финал)\n",
    "                     'final.output.tail_']  # Отвальные хвосты с 2 этапа"
   ]
  },
  {
   "cell_type": "markdown",
   "metadata": {},
   "source": [
    "Рассмотрим гистограмму металла: золото"
   ]
  },
  {
   "cell_type": "code",
   "execution_count": 92,
   "metadata": {
    "scrolled": false
   },
   "outputs": [
    {
     "data": {
      "image/png": "[encoded data removed]",
      "text/plain": [
       "<Figure size 1080x720 with 1 Axes>"
      ]
     },
     "metadata": {
      "needs_background": "light"
     },
     "output_type": "display_data"
    }
   ],
   "source": [
    "# Металл: золото\n",
    "for stage in primary_cleaner:\n",
    "        # print(stage + metal)\n",
    "        plt.title('Гистограмма распределения концентрации золота')\n",
    "        df_train[stage + metals[0]].plot(kind=\"hist\", grid=True, figsize=(15,10), bins=(100), alpha=0.5)\n",
    "        plt.xlabel('Концентрация металла: ' + metals[0])\n",
    "        plt.ylabel('Кол-во: ' + metals[0])\n",
    "        plt.legend(loc='upper right', fontsize='medium')\n",
    "        # plt.show()\n",
    "        # print(df_train[stage + metal])"
   ]
  },
  {
   "cell_type": "markdown",
   "metadata": {},
   "source": [
    "        Как видно, что после второго этапа очистки концентрация металла намного увеличилась"
   ]
  },
  {
   "cell_type": "code",
   "execution_count": null,
   "metadata": {},
   "outputs": [],
   "source": []
  },
  {
   "cell_type": "code",
   "execution_count": null,
   "metadata": {},
   "outputs": [],
   "source": [
    "for metal in metals:\n",
    "    for stage in primary_cleaner:\n",
    "        # print(stage + metal)\n",
    "        df_train[stage + metal].plot(kind=\"hist\", grid=True, figsize=(8,5), bins=(100), alpha=0.5)\n",
    "        plt.xlabel(stage)\n",
    "        plt.ylabel('Металл: ' + metal)\n",
    "        # plt.show()\n",
    "        # print(df_train[stage + metal])"
   ]
  },
  {
   "cell_type": "code",
   "execution_count": 75,
   "metadata": {},
   "outputs": [
    {
     "data": {
      "text/plain": [
       "Text(0, 0.5, 'Количество скважин')"
      ]
     },
     "execution_count": 75,
     "metadata": {},
     "output_type": "execute_result"
    },
    {
     "data": {
      "image/png": "[encoded data removed]",
      "text/plain": [
       "<Figure size 576x360 with 1 Axes>"
      ]
     },
     "metadata": {
      "needs_background": "light"
     },
     "output_type": "display_data"
    }
   ],
   "source": [
    "df_train['rougher.input.feed_au'].plot(kind=\"hist\", grid=True, figsize=(8,5), bins=(100))\n",
    "plt.xlabel('Прибыль, млн.руб')\n",
    "plt.ylabel('Количество скважин')"
   ]
  },
  {
   "cell_type": "code",
   "execution_count": 39,
   "metadata": {},
   "outputs": [
    {
     "data": {
      "text/plain": [
       "['rougher.output.concentrate_',\n",
       " 'primary_cleaner.output.concentrate_',\n",
       " 'primary_cleaner.output.tail_']"
      ]
     },
     "execution_count": 39,
     "metadata": {},
     "output_type": "execute_result"
    }
   ],
   "source": [
    "stages[0]"
   ]
  },
  {
   "cell_type": "code",
   "execution_count": 31,
   "metadata": {
    "scrolled": true
   },
   "outputs": [
    {
     "name": "stdout",
     "output_type": "stream",
     "text": [
      "<class 'pandas.core.frame.DataFrame'>\n",
      "Int64Index: 11017 entries, 0 to 14148\n",
      "Data columns (total 87 columns):\n",
      " #   Column                                              Non-Null Count  Dtype  \n",
      "---  ------                                              --------------  -----  \n",
      " 0   date                                                11017 non-null  object \n",
      " 1   final.output.concentrate_ag                         11017 non-null  float64\n",
      " 2   final.output.concentrate_pb                         11017 non-null  float64\n",
      " 3   final.output.concentrate_sol                        11017 non-null  float64\n",
      " 4   final.output.concentrate_au                         11017 non-null  float64\n",
      " 5   final.output.recovery                               11017 non-null  float64\n",
      " 6   final.output.tail_ag                                11017 non-null  float64\n",
      " 7   final.output.tail_pb                                11017 non-null  float64\n",
      " 8   final.output.tail_sol                               11017 non-null  float64\n",
      " 9   final.output.tail_au                                11017 non-null  float64\n",
      " 10  primary_cleaner.input.sulfate                       11017 non-null  float64\n",
      " 11  primary_cleaner.input.depressant                    11017 non-null  float64\n",
      " 12  primary_cleaner.input.feed_size                     11017 non-null  float64\n",
      " 13  primary_cleaner.input.xanthate                      11017 non-null  float64\n",
      " 14  primary_cleaner.output.concentrate_ag               11017 non-null  float64\n",
      " 15  primary_cleaner.output.concentrate_pb               11017 non-null  float64\n",
      " 16  primary_cleaner.output.concentrate_sol              11017 non-null  float64\n",
      " 17  primary_cleaner.output.concentrate_au               11017 non-null  float64\n",
      " 18  primary_cleaner.output.tail_ag                      11017 non-null  float64\n",
      " 19  primary_cleaner.output.tail_pb                      11017 non-null  float64\n",
      " 20  primary_cleaner.output.tail_sol                     11017 non-null  float64\n",
      " 21  primary_cleaner.output.tail_au                      11017 non-null  float64\n",
      " 22  primary_cleaner.state.floatbank8_a_air              11017 non-null  float64\n",
      " 23  primary_cleaner.state.floatbank8_a_level            11017 non-null  float64\n",
      " 24  primary_cleaner.state.floatbank8_b_air              11017 non-null  float64\n",
      " 25  primary_cleaner.state.floatbank8_b_level            11017 non-null  float64\n",
      " 26  primary_cleaner.state.floatbank8_c_air              11017 non-null  float64\n",
      " 27  primary_cleaner.state.floatbank8_c_level            11017 non-null  float64\n",
      " 28  primary_cleaner.state.floatbank8_d_air              11017 non-null  float64\n",
      " 29  primary_cleaner.state.floatbank8_d_level            11017 non-null  float64\n",
      " 30  rougher.calculation.sulfate_to_au_concentrate       11017 non-null  float64\n",
      " 31  rougher.calculation.floatbank10_sulfate_to_au_feed  11017 non-null  float64\n",
      " 32  rougher.calculation.floatbank11_sulfate_to_au_feed  11017 non-null  float64\n",
      " 33  rougher.calculation.au_pb_ratio                     11017 non-null  float64\n",
      " 34  rougher.input.feed_ag                               11017 non-null  float64\n",
      " 35  rougher.input.feed_pb                               11017 non-null  float64\n",
      " 36  rougher.input.feed_rate                             11017 non-null  float64\n",
      " 37  rougher.input.feed_size                             11017 non-null  float64\n",
      " 38  rougher.input.feed_sol                              11017 non-null  float64\n",
      " 39  rougher.input.feed_au                               11017 non-null  float64\n",
      " 40  rougher.input.floatbank10_sulfate                   11017 non-null  float64\n",
      " 41  rougher.input.floatbank10_xanthate                  11017 non-null  float64\n",
      " 42  rougher.input.floatbank11_sulfate                   11017 non-null  float64\n",
      " 43  rougher.input.floatbank11_xanthate                  11017 non-null  float64\n",
      " 44  rougher.output.concentrate_ag                       11017 non-null  float64\n",
      " 45  rougher.output.concentrate_pb                       11017 non-null  float64\n",
      " 46  rougher.output.concentrate_sol                      11017 non-null  float64\n",
      " 47  rougher.output.concentrate_au                       11017 non-null  float64\n",
      " 48  rougher.output.recovery                             11017 non-null  float64\n",
      " 49  rougher.output.tail_ag                              11017 non-null  float64\n",
      " 50  rougher.output.tail_pb                              11017 non-null  float64\n",
      " 51  rougher.output.tail_sol                             11017 non-null  float64\n",
      " 52  rougher.output.tail_au                              11017 non-null  float64\n",
      " 53  rougher.state.floatbank10_a_air                     11017 non-null  float64\n",
      " 54  rougher.state.floatbank10_a_level                   11017 non-null  float64\n",
      " 55  rougher.state.floatbank10_b_air                     11017 non-null  float64\n",
      " 56  rougher.state.floatbank10_b_level                   11017 non-null  float64\n",
      " 57  rougher.state.floatbank10_c_air                     11017 non-null  float64\n",
      " 58  rougher.state.floatbank10_c_level                   11017 non-null  float64\n",
      " 59  rougher.state.floatbank10_d_air                     11017 non-null  float64\n",
      " 60  rougher.state.floatbank10_d_level                   11017 non-null  float64\n",
      " 61  rougher.state.floatbank10_e_air                     11017 non-null  float64\n",
      " 62  rougher.state.floatbank10_e_level                   11017 non-null  float64\n",
      " 63  rougher.state.floatbank10_f_air                     11017 non-null  float64\n",
      " 64  rougher.state.floatbank10_f_level                   11017 non-null  float64\n",
      " 65  secondary_cleaner.output.tail_ag                    11017 non-null  float64\n",
      " 66  secondary_cleaner.output.tail_pb                    11017 non-null  float64\n",
      " 67  secondary_cleaner.output.tail_sol                   11017 non-null  float64\n",
      " 68  secondary_cleaner.output.tail_au                    11017 non-null  float64\n",
      " 69  secondary_cleaner.state.floatbank2_a_air            11017 non-null  float64\n",
      " 70  secondary_cleaner.state.floatbank2_a_level          11017 non-null  float64\n",
      " 71  secondary_cleaner.state.floatbank2_b_air            11017 non-null  float64\n",
      " 72  secondary_cleaner.state.floatbank2_b_level          11017 non-null  float64\n",
      " 73  secondary_cleaner.state.floatbank3_a_air            11017 non-null  float64\n",
      " 74  secondary_cleaner.state.floatbank3_a_level          11017 non-null  float64\n",
      " 75  secondary_cleaner.state.floatbank3_b_air            11017 non-null  float64\n",
      " 76  secondary_cleaner.state.floatbank3_b_level          11017 non-null  float64\n",
      " 77  secondary_cleaner.state.floatbank4_a_air            11017 non-null  float64\n",
      " 78  secondary_cleaner.state.floatbank4_a_level          11017 non-null  float64\n",
      " 79  secondary_cleaner.state.floatbank4_b_air            11017 non-null  float64\n",
      " 80  secondary_cleaner.state.floatbank4_b_level          11017 non-null  float64\n",
      " 81  secondary_cleaner.state.floatbank5_a_air            11017 non-null  float64\n",
      " 82  secondary_cleaner.state.floatbank5_a_level          11017 non-null  float64\n",
      " 83  secondary_cleaner.state.floatbank5_b_air            11017 non-null  float64\n",
      " 84  secondary_cleaner.state.floatbank5_b_level          11017 non-null  float64\n",
      " 85  secondary_cleaner.state.floatbank6_a_air            11017 non-null  float64\n",
      " 86  secondary_cleaner.state.floatbank6_a_level          11017 non-null  float64\n",
      "dtypes: float64(86), object(1)\n",
      "memory usage: 7.4+ MB\n"
     ]
    }
   ],
   "source": [
    "df_train.info()"
   ]
  },
  {
   "cell_type": "code",
   "execution_count": null,
   "metadata": {},
   "outputs": [],
   "source": []
  },
  {
   "cell_type": "markdown",
   "metadata": {},
   "source": [
    "## Модель"
   ]
  },
  {
   "cell_type": "code",
   "execution_count": null,
   "metadata": {},
   "outputs": [],
   "source": []
  },
  {
   "cell_type": "markdown",
   "metadata": {},
   "source": [
    "## Чек-лист готовности проекта"
   ]
  },
  {
   "cell_type": "markdown",
   "metadata": {},
   "source": [
    "- [x]  Jupyter Notebook открыт\n",
    "- [ ]  Весь код выполняется без ошибок\n",
    "- [ ]  Ячейки с кодом расположены в порядке выполнения\n",
    "- [ ]  Выполнен шаг 1: данные подготовлены\n",
    "    - [ ]  Проверена формула вычисления эффективности обогащения\n",
    "    - [ ]  Проанализированы признаки, недоступные в тестовой выборке\n",
    "    - [ ]  Проведена предобработка данных\n",
    "- [ ]  Выполнен шаг 2: данные проанализированы\n",
    "    - [ ]  Исследовано изменение концентрации элементов на каждом этапе\n",
    "    - [ ]  Проанализированы распределения размеров гранул на обучающей и тестовой выборках\n",
    "    - [ ]  Исследованы суммарные концентрации\n",
    "- [ ]  Выполнен шаг 3: построена модель прогнозирования\n",
    "    - [ ]  Написана функция для вычисления итогового *sMAPE*\n",
    "    - [ ]  Обучено и проверено несколько моделей\n",
    "    - [ ]  Выбрана лучшая модель, её качество проверено на тестовой выборке"
   ]
  }
 ],
 "metadata": {
  "ExecuteTimeLog": [
   {
    "duration": 1575,
    "start_time": "2023-02-13T07:20:44.157Z"
   },
   {
    "duration": 41,
    "start_time": "2023-02-13T07:20:45.815Z"
   },
   {
    "duration": 2116,
    "start_time": "2023-02-13T07:21:14.004Z"
   },
   {
    "duration": 15,
    "start_time": "2023-02-13T07:21:38.708Z"
   },
   {
    "duration": 26,
    "start_time": "2023-02-13T07:22:12.802Z"
   },
   {
    "duration": 238,
    "start_time": "2023-02-13T07:23:21.127Z"
   },
   {
    "duration": 14523,
    "start_time": "2023-02-13T07:23:45.743Z"
   },
   {
    "duration": 1355,
    "start_time": "2023-02-13T07:24:00.268Z"
   },
   {
    "duration": 9,
    "start_time": "2023-02-13T07:31:15.081Z"
   },
   {
    "duration": 44,
    "start_time": "2023-02-13T07:31:16.496Z"
   },
   {
    "duration": 1415,
    "start_time": "2023-02-13T07:31:21.170Z"
   },
   {
    "duration": 2056,
    "start_time": "2023-02-13T07:31:22.645Z"
   },
   {
    "duration": 235,
    "start_time": "2023-02-13T07:31:24.703Z"
   },
   {
    "duration": 4,
    "start_time": "2023-02-13T07:32:34.309Z"
   },
   {
    "duration": 50,
    "start_time": "2023-02-13T17:48:10.060Z"
   },
   {
    "duration": 1567,
    "start_time": "2023-02-13T17:48:15.518Z"
   },
   {
    "duration": 3376,
    "start_time": "2023-02-13T17:48:17.087Z"
   },
   {
    "duration": 256,
    "start_time": "2023-02-13T17:48:23.380Z"
   },
   {
    "duration": 125,
    "start_time": "2023-02-13T17:48:37.088Z"
   },
   {
    "duration": 252,
    "start_time": "2023-02-13T17:48:45.066Z"
   },
   {
    "duration": 44,
    "start_time": "2023-02-13T18:06:18.340Z"
   },
   {
    "duration": 3,
    "start_time": "2023-02-13T18:10:57.910Z"
   },
   {
    "duration": 55,
    "start_time": "2023-02-13T18:51:37.754Z"
   },
   {
    "duration": 5,
    "start_time": "2023-02-13T18:51:41.771Z"
   },
   {
    "duration": 685,
    "start_time": "2023-02-13T18:51:41.778Z"
   },
   {
    "duration": 41,
    "start_time": "2023-02-13T18:51:44.289Z"
   },
   {
    "duration": 48,
    "start_time": "2023-02-13T18:51:47.743Z"
   },
   {
    "duration": 5,
    "start_time": "2023-02-13T18:51:52.648Z"
   },
   {
    "duration": 657,
    "start_time": "2023-02-13T18:51:53.759Z"
   },
   {
    "duration": 56,
    "start_time": "2023-02-13T18:51:54.530Z"
   },
   {
    "duration": 45,
    "start_time": "2023-02-13T18:52:04.473Z"
   },
   {
    "duration": 13891,
    "start_time": "2023-02-13T18:52:13.152Z"
   },
   {
    "duration": 1063,
    "start_time": "2023-02-13T18:55:36.887Z"
   },
   {
    "duration": 51,
    "start_time": "2023-02-13T18:55:40.213Z"
   },
   {
    "duration": 3,
    "start_time": "2023-02-13T18:55:41.605Z"
   },
   {
    "duration": 46,
    "start_time": "2023-02-13T19:09:11.721Z"
   },
   {
    "duration": 1395,
    "start_time": "2023-02-13T19:09:21.950Z"
   },
   {
    "duration": 3142,
    "start_time": "2023-02-13T19:09:23.349Z"
   },
   {
    "duration": 2407,
    "start_time": "2023-02-13T19:09:26.493Z"
   },
   {
    "duration": 250,
    "start_time": "2023-02-13T19:09:28.903Z"
   },
   {
    "duration": 134,
    "start_time": "2023-02-13T19:09:29.155Z"
   },
   {
    "duration": 250,
    "start_time": "2023-02-13T19:09:29.290Z"
   },
   {
    "duration": 7,
    "start_time": "2023-02-13T19:09:29.542Z"
   },
   {
    "duration": 53,
    "start_time": "2023-02-13T19:45:16.980Z"
   },
   {
    "duration": 3790,
    "start_time": "2023-02-13T19:45:24.470Z"
   },
   {
    "duration": 58285,
    "start_time": "2023-02-13T19:45:28.262Z"
   },
   {
    "duration": 3,
    "start_time": "2023-02-13T19:47:59.514Z"
   },
   {
    "duration": 59913,
    "start_time": "2023-02-13T19:49:00.780Z"
   },
   {
    "duration": 504,
    "start_time": "2023-02-13T19:50:00.696Z"
   },
   {
    "duration": 76,
    "start_time": "2023-02-13T19:58:50.937Z"
   },
   {
    "duration": 10,
    "start_time": "2023-02-13T19:59:03.123Z"
   },
   {
    "duration": 9,
    "start_time": "2023-02-13T19:59:18.876Z"
   },
   {
    "duration": 11,
    "start_time": "2023-02-13T19:59:22.750Z"
   },
   {
    "duration": 20,
    "start_time": "2023-02-13T19:59:35.169Z"
   },
   {
    "duration": 8,
    "start_time": "2023-02-13T20:09:15.830Z"
   },
   {
    "duration": 11,
    "start_time": "2023-02-13T20:09:22.528Z"
   },
   {
    "duration": 17,
    "start_time": "2023-02-13T20:09:55.177Z"
   },
   {
    "duration": 47,
    "start_time": "2023-02-13T20:09:57.758Z"
   },
   {
    "duration": 12,
    "start_time": "2023-02-13T20:10:03.993Z"
   },
   {
    "duration": 31,
    "start_time": "2023-02-13T20:10:13.698Z"
   },
   {
    "duration": 6,
    "start_time": "2023-02-13T20:10:24.633Z"
   },
   {
    "duration": 6,
    "start_time": "2023-02-13T20:10:59.859Z"
   },
   {
    "duration": 60,
    "start_time": "2023-02-13T20:11:18.906Z"
   },
   {
    "duration": 18,
    "start_time": "2023-02-13T20:11:22.547Z"
   },
   {
    "duration": 3,
    "start_time": "2023-02-13T20:12:55.365Z"
   },
   {
    "duration": 11,
    "start_time": "2023-02-13T20:13:05.654Z"
   },
   {
    "duration": 5,
    "start_time": "2023-02-13T20:13:09.942Z"
   },
   {
    "duration": 15,
    "start_time": "2023-02-13T20:13:21.284Z"
   },
   {
    "duration": 6,
    "start_time": "2023-02-13T20:13:24.980Z"
   },
   {
    "duration": 3,
    "start_time": "2023-02-13T20:13:55.349Z"
   },
   {
    "duration": 39,
    "start_time": "2023-02-13T20:14:02.392Z"
   },
   {
    "duration": 3,
    "start_time": "2023-02-13T20:14:10.399Z"
   },
   {
    "duration": 60,
    "start_time": "2023-02-13T20:14:11.557Z"
   },
   {
    "duration": 4,
    "start_time": "2023-02-13T20:14:38.773Z"
   },
   {
    "duration": 63,
    "start_time": "2023-02-13T20:14:40.221Z"
   },
   {
    "duration": 4,
    "start_time": "2023-02-13T20:14:49.176Z"
   },
   {
    "duration": 53,
    "start_time": "2023-02-13T20:14:50.285Z"
   },
   {
    "duration": 4,
    "start_time": "2023-02-13T20:15:15.872Z"
   },
   {
    "duration": 59,
    "start_time": "2023-02-13T20:15:18.416Z"
   },
   {
    "duration": 3,
    "start_time": "2023-02-13T20:15:26.286Z"
   },
   {
    "duration": 57,
    "start_time": "2023-02-13T20:15:26.942Z"
   },
   {
    "duration": 3,
    "start_time": "2023-02-13T20:16:14.825Z"
   },
   {
    "duration": 45,
    "start_time": "2023-02-13T20:16:16.017Z"
   },
   {
    "duration": 56,
    "start_time": "2023-02-13T20:16:25.840Z"
   },
   {
    "duration": 3,
    "start_time": "2023-02-13T20:17:05.290Z"
   },
   {
    "duration": 47,
    "start_time": "2023-02-13T20:17:07.356Z"
   },
   {
    "duration": 3,
    "start_time": "2023-02-13T20:17:19.396Z"
   },
   {
    "duration": 48,
    "start_time": "2023-02-13T20:17:20.720Z"
   },
   {
    "duration": 45,
    "start_time": "2023-02-13T20:17:31.467Z"
   },
   {
    "duration": 21,
    "start_time": "2023-02-13T20:17:34.975Z"
   },
   {
    "duration": 46,
    "start_time": "2023-02-13T20:17:36.634Z"
   },
   {
    "duration": 29,
    "start_time": "2023-02-13T20:24:46.368Z"
   },
   {
    "duration": 123,
    "start_time": "2023-02-13T20:24:54.947Z"
   },
   {
    "duration": 123,
    "start_time": "2023-02-13T20:24:59.397Z"
   },
   {
    "duration": 12,
    "start_time": "2023-02-13T20:25:01.456Z"
   },
   {
    "duration": 24,
    "start_time": "2023-02-13T20:25:03.773Z"
   },
   {
    "duration": 97,
    "start_time": "2023-02-13T20:25:09.492Z"
   },
   {
    "duration": 235,
    "start_time": "2023-02-13T20:25:23.706Z"
   },
   {
    "duration": 228,
    "start_time": "2023-02-13T20:25:28.530Z"
   },
   {
    "duration": 233,
    "start_time": "2023-02-13T20:25:35.348Z"
   },
   {
    "duration": 223,
    "start_time": "2023-02-13T20:25:50.828Z"
   },
   {
    "duration": 232,
    "start_time": "2023-02-13T20:26:09.314Z"
   },
   {
    "duration": 59,
    "start_time": "2023-02-14T19:45:47.470Z"
   },
   {
    "duration": 1325,
    "start_time": "2023-02-14T19:45:50.453Z"
   },
   {
    "duration": 1954,
    "start_time": "2023-02-14T19:45:51.781Z"
   },
   {
    "duration": 567,
    "start_time": "2023-02-14T19:45:53.737Z"
   },
   {
    "duration": 304,
    "start_time": "2023-02-14T19:45:54.307Z"
   },
   {
    "duration": 499,
    "start_time": "2023-02-14T19:45:54.613Z"
   },
   {
    "duration": 2,
    "start_time": "2023-02-14T19:45:55.114Z"
   },
   {
    "duration": 112,
    "start_time": "2023-02-14T19:45:55.118Z"
   },
   {
    "duration": 80,
    "start_time": "2023-02-14T19:45:55.231Z"
   },
   {
    "duration": 110,
    "start_time": "2023-02-14T19:45:55.313Z"
   },
   {
    "duration": 422,
    "start_time": "2023-02-14T19:45:55.425Z"
   },
   {
    "duration": 69,
    "start_time": "2023-02-14T19:45:55.848Z"
   },
   {
    "duration": 15,
    "start_time": "2023-02-14T19:46:01.804Z"
   },
   {
    "duration": 80,
    "start_time": "2023-02-14T20:06:24.118Z"
   },
   {
    "duration": 11,
    "start_time": "2023-02-14T20:06:34.822Z"
   },
   {
    "duration": 5,
    "start_time": "2023-02-14T20:07:02.072Z"
   },
   {
    "duration": 6,
    "start_time": "2023-02-14T20:07:09.281Z"
   },
   {
    "duration": 4,
    "start_time": "2023-02-14T20:08:52.322Z"
   },
   {
    "duration": 5,
    "start_time": "2023-02-14T20:08:53.297Z"
   },
   {
    "duration": 3,
    "start_time": "2023-02-14T20:10:47.636Z"
   },
   {
    "duration": 8,
    "start_time": "2023-02-14T20:11:10.109Z"
   },
   {
    "duration": 16,
    "start_time": "2023-02-14T20:11:23.897Z"
   },
   {
    "duration": 9,
    "start_time": "2023-02-14T20:11:29.265Z"
   },
   {
    "duration": 3,
    "start_time": "2023-02-14T20:13:29.248Z"
   },
   {
    "duration": 8,
    "start_time": "2023-02-14T20:13:51.297Z"
   },
   {
    "duration": 11,
    "start_time": "2023-02-14T20:14:18.418Z"
   },
   {
    "duration": 8,
    "start_time": "2023-02-14T20:14:43.793Z"
   },
   {
    "duration": 20,
    "start_time": "2023-02-14T20:14:57.889Z"
   },
   {
    "duration": 5,
    "start_time": "2023-02-14T20:15:07.552Z"
   },
   {
    "duration": 3,
    "start_time": "2023-02-14T20:15:36.225Z"
   },
   {
    "duration": 3,
    "start_time": "2023-02-14T20:15:44.267Z"
   },
   {
    "duration": 3,
    "start_time": "2023-02-14T20:15:45.230Z"
   },
   {
    "duration": 9,
    "start_time": "2023-02-14T20:15:49.612Z"
   },
   {
    "duration": 9,
    "start_time": "2023-02-14T20:15:54.779Z"
   },
   {
    "duration": 78,
    "start_time": "2023-02-14T20:16:04.290Z"
   },
   {
    "duration": 9,
    "start_time": "2023-02-14T20:16:16.067Z"
   },
   {
    "duration": 3,
    "start_time": "2023-02-14T20:16:22.123Z"
   },
   {
    "duration": 3,
    "start_time": "2023-02-14T20:16:23.509Z"
   },
   {
    "duration": 4,
    "start_time": "2023-02-14T20:16:25.274Z"
   },
   {
    "duration": 3,
    "start_time": "2023-02-14T20:16:31.883Z"
   },
   {
    "duration": 4,
    "start_time": "2023-02-14T20:16:32.595Z"
   },
   {
    "duration": 3,
    "start_time": "2023-02-14T20:16:39.219Z"
   },
   {
    "duration": 7,
    "start_time": "2023-02-14T20:16:43.227Z"
   },
   {
    "duration": 6,
    "start_time": "2023-02-14T20:16:47.828Z"
   },
   {
    "duration": 32,
    "start_time": "2023-02-14T20:43:18.821Z"
   },
   {
    "duration": 12,
    "start_time": "2023-02-14T20:45:41.622Z"
   },
   {
    "duration": 10,
    "start_time": "2023-02-14T20:45:53.759Z"
   },
   {
    "duration": 9,
    "start_time": "2023-02-14T20:46:23.182Z"
   },
   {
    "duration": 12,
    "start_time": "2023-02-14T20:46:31.559Z"
   },
   {
    "duration": 8,
    "start_time": "2023-02-14T20:46:32.647Z"
   },
   {
    "duration": 8,
    "start_time": "2023-02-14T20:46:37.407Z"
   },
   {
    "duration": 29,
    "start_time": "2023-02-14T20:47:25.816Z"
   },
   {
    "duration": 6,
    "start_time": "2023-02-14T20:47:30.554Z"
   },
   {
    "duration": 9,
    "start_time": "2023-02-14T20:47:38.414Z"
   },
   {
    "duration": 22,
    "start_time": "2023-02-14T20:47:45.667Z"
   },
   {
    "duration": 4,
    "start_time": "2023-02-14T20:49:11.458Z"
   },
   {
    "duration": 15,
    "start_time": "2023-02-14T20:49:15.114Z"
   },
   {
    "duration": 3,
    "start_time": "2023-02-14T20:49:46.337Z"
   },
   {
    "duration": 4,
    "start_time": "2023-02-14T20:49:51.147Z"
   },
   {
    "duration": 3,
    "start_time": "2023-02-14T20:49:58.172Z"
   },
   {
    "duration": 8,
    "start_time": "2023-02-14T20:50:17.124Z"
   },
   {
    "duration": 27,
    "start_time": "2023-02-14T20:50:20.260Z"
   },
   {
    "duration": 4,
    "start_time": "2023-02-14T20:50:42.262Z"
   },
   {
    "duration": 4,
    "start_time": "2023-02-14T20:50:47.389Z"
   },
   {
    "duration": 9,
    "start_time": "2023-02-14T20:50:50.267Z"
   },
   {
    "duration": 3,
    "start_time": "2023-02-14T20:51:05.068Z"
   },
   {
    "duration": 22,
    "start_time": "2023-02-14T20:51:06.987Z"
   },
   {
    "duration": 5,
    "start_time": "2023-02-14T20:51:18.574Z"
   },
   {
    "duration": 683,
    "start_time": "2023-02-14T20:51:18.581Z"
   },
   {
    "duration": 215,
    "start_time": "2023-02-14T20:51:19.265Z"
   },
   {
    "duration": 129,
    "start_time": "2023-02-14T20:51:19.481Z"
   },
   {
    "duration": 231,
    "start_time": "2023-02-14T20:51:19.611Z"
   },
   {
    "duration": 4,
    "start_time": "2023-02-14T20:51:19.844Z"
   },
   {
    "duration": 50,
    "start_time": "2023-02-14T20:51:22.260Z"
   },
   {
    "duration": 21,
    "start_time": "2023-02-14T20:51:24.004Z"
   },
   {
    "duration": 53,
    "start_time": "2023-02-14T20:51:25.036Z"
   },
   {
    "duration": 26,
    "start_time": "2023-02-14T20:51:27.549Z"
   },
   {
    "duration": 24,
    "start_time": "2023-02-14T20:51:29.595Z"
   },
   {
    "duration": 48,
    "start_time": "2023-02-14T20:51:42.053Z"
   },
   {
    "duration": 199,
    "start_time": "2023-02-14T20:51:47.006Z"
   },
   {
    "duration": 3,
    "start_time": "2023-02-14T20:57:04.108Z"
   },
   {
    "duration": 91,
    "start_time": "2023-02-14T20:58:27.588Z"
   },
   {
    "duration": 3,
    "start_time": "2023-02-14T20:58:48.792Z"
   },
   {
    "duration": 123,
    "start_time": "2023-02-14T20:58:49.509Z"
   },
   {
    "duration": 69,
    "start_time": "2023-02-14T20:59:01.276Z"
   },
   {
    "duration": 3,
    "start_time": "2023-02-14T20:59:46.589Z"
   },
   {
    "duration": 4,
    "start_time": "2023-02-14T21:00:01.688Z"
   },
   {
    "duration": 4,
    "start_time": "2023-02-14T21:00:32.231Z"
   },
   {
    "duration": 4,
    "start_time": "2023-02-14T21:00:44.878Z"
   },
   {
    "duration": 77,
    "start_time": "2023-02-14T21:00:48.528Z"
   },
   {
    "duration": 66,
    "start_time": "2023-02-14T21:01:08.680Z"
   },
   {
    "duration": 72,
    "start_time": "2023-02-14T21:01:12.246Z"
   },
   {
    "duration": 4,
    "start_time": "2023-02-14T21:02:03.257Z"
   },
   {
    "duration": 6,
    "start_time": "2023-02-14T21:02:17.164Z"
   },
   {
    "duration": 5,
    "start_time": "2023-02-14T21:02:31.929Z"
   },
   {
    "duration": 6,
    "start_time": "2023-02-14T21:02:33.945Z"
   },
   {
    "duration": 74,
    "start_time": "2023-02-14T21:03:29.057Z"
   },
   {
    "duration": 5,
    "start_time": "2023-02-14T21:03:32.656Z"
   },
   {
    "duration": 5,
    "start_time": "2023-02-14T21:03:35.521Z"
   },
   {
    "duration": 3,
    "start_time": "2023-02-14T21:03:48.186Z"
   },
   {
    "duration": 6,
    "start_time": "2023-02-14T21:03:52.523Z"
   },
   {
    "duration": 5,
    "start_time": "2023-02-14T21:03:59.753Z"
   },
   {
    "duration": 13,
    "start_time": "2023-02-14T21:04:44.179Z"
   },
   {
    "duration": 34,
    "start_time": "2023-02-14T21:04:59.804Z"
   },
   {
    "duration": 8,
    "start_time": "2023-02-14T21:05:21.179Z"
   },
   {
    "duration": 11,
    "start_time": "2023-02-14T21:05:26.748Z"
   },
   {
    "duration": 4,
    "start_time": "2023-02-14T21:05:31.364Z"
   },
   {
    "duration": 10,
    "start_time": "2023-02-14T21:05:38.794Z"
   },
   {
    "duration": 10,
    "start_time": "2023-02-14T21:08:03.148Z"
   },
   {
    "duration": 5,
    "start_time": "2023-02-14T21:08:06.580Z"
   },
   {
    "duration": 682,
    "start_time": "2023-02-14T21:08:06.587Z"
   },
   {
    "duration": 209,
    "start_time": "2023-02-14T21:08:07.270Z"
   },
   {
    "duration": 120,
    "start_time": "2023-02-14T21:08:07.480Z"
   },
   {
    "duration": 238,
    "start_time": "2023-02-14T21:08:07.602Z"
   },
   {
    "duration": 4,
    "start_time": "2023-02-14T21:08:07.841Z"
   },
   {
    "duration": 69,
    "start_time": "2023-02-14T21:08:07.847Z"
   },
   {
    "duration": 18,
    "start_time": "2023-02-14T21:08:07.917Z"
   },
   {
    "duration": 79,
    "start_time": "2023-02-14T21:08:07.936Z"
   },
   {
    "duration": 27,
    "start_time": "2023-02-14T21:08:08.016Z"
   },
   {
    "duration": 131,
    "start_time": "2023-02-14T21:08:08.045Z"
   },
   {
    "duration": 196,
    "start_time": "2023-02-14T21:08:08.178Z"
   },
   {
    "duration": 9,
    "start_time": "2023-02-14T21:08:08.375Z"
   },
   {
    "duration": 0,
    "start_time": "2023-02-14T21:08:08.386Z"
   },
   {
    "duration": 0,
    "start_time": "2023-02-14T21:08:08.387Z"
   },
   {
    "duration": 10,
    "start_time": "2023-02-14T21:08:24.798Z"
   },
   {
    "duration": 4,
    "start_time": "2023-02-14T21:08:33.646Z"
   },
   {
    "duration": 5,
    "start_time": "2023-02-14T21:08:34.879Z"
   },
   {
    "duration": 5,
    "start_time": "2023-02-14T21:08:36.094Z"
   },
   {
    "duration": 3,
    "start_time": "2023-02-14T21:08:37.359Z"
   },
   {
    "duration": 91,
    "start_time": "2023-02-14T21:09:02.599Z"
   },
   {
    "duration": 4,
    "start_time": "2023-02-14T21:09:06.854Z"
   },
   {
    "duration": 83,
    "start_time": "2023-02-16T14:12:18.707Z"
   },
   {
    "duration": 1790,
    "start_time": "2023-02-16T14:12:21.756Z"
   },
   {
    "duration": 2720,
    "start_time": "2023-02-16T14:12:23.548Z"
   },
   {
    "duration": 236,
    "start_time": "2023-02-16T14:12:26.269Z"
   },
   {
    "duration": 157,
    "start_time": "2023-02-16T14:12:26.506Z"
   },
   {
    "duration": 278,
    "start_time": "2023-02-16T14:12:26.665Z"
   },
   {
    "duration": 12,
    "start_time": "2023-02-16T14:12:26.947Z"
   },
   {
    "duration": 82,
    "start_time": "2023-02-16T14:12:26.969Z"
   },
   {
    "duration": 27,
    "start_time": "2023-02-16T14:12:27.052Z"
   },
   {
    "duration": 82,
    "start_time": "2023-02-16T14:12:27.081Z"
   },
   {
    "duration": 33,
    "start_time": "2023-02-16T14:12:27.164Z"
   },
   {
    "duration": 68,
    "start_time": "2023-02-16T14:12:27.199Z"
   },
   {
    "duration": 305,
    "start_time": "2023-02-16T14:12:27.268Z"
   },
   {
    "duration": 4,
    "start_time": "2023-02-16T14:12:27.575Z"
   },
   {
    "duration": 110,
    "start_time": "2023-02-16T14:12:27.581Z"
   },
   {
    "duration": 0,
    "start_time": "2023-02-16T14:12:27.692Z"
   },
   {
    "duration": 0,
    "start_time": "2023-02-16T14:12:27.693Z"
   },
   {
    "duration": 0,
    "start_time": "2023-02-16T14:12:27.694Z"
   },
   {
    "duration": 10,
    "start_time": "2023-02-16T14:12:40.775Z"
   },
   {
    "duration": 9,
    "start_time": "2023-02-16T14:12:51.751Z"
   },
   {
    "duration": 5,
    "start_time": "2023-02-16T14:12:52.662Z"
   },
   {
    "duration": 11,
    "start_time": "2023-02-16T14:12:56.751Z"
   },
   {
    "duration": 7,
    "start_time": "2023-02-16T14:12:57.806Z"
   },
   {
    "duration": 14,
    "start_time": "2023-02-16T14:12:59.270Z"
   },
   {
    "duration": 5,
    "start_time": "2023-02-16T14:13:21.185Z"
   },
   {
    "duration": 35,
    "start_time": "2023-02-16T14:13:55.304Z"
   },
   {
    "duration": 16,
    "start_time": "2023-02-16T14:14:20.873Z"
   },
   {
    "duration": 17,
    "start_time": "2023-02-16T14:14:26.472Z"
   },
   {
    "duration": 16,
    "start_time": "2023-02-16T14:14:31.052Z"
   },
   {
    "duration": 11,
    "start_time": "2023-02-16T14:14:32.985Z"
   },
   {
    "duration": 11,
    "start_time": "2023-02-16T14:14:34.583Z"
   },
   {
    "duration": 10,
    "start_time": "2023-02-16T14:14:47.468Z"
   },
   {
    "duration": 6,
    "start_time": "2023-02-16T14:14:56.156Z"
   },
   {
    "duration": 26,
    "start_time": "2023-02-16T14:23:47.833Z"
   },
   {
    "duration": 4,
    "start_time": "2023-02-16T14:51:17.204Z"
   },
   {
    "duration": 15,
    "start_time": "2023-02-16T14:51:24.632Z"
   },
   {
    "duration": 7,
    "start_time": "2023-02-16T14:51:36.990Z"
   },
   {
    "duration": 10,
    "start_time": "2023-02-16T14:55:29.474Z"
   },
   {
    "duration": 9,
    "start_time": "2023-02-16T14:55:34.838Z"
   },
   {
    "duration": 7,
    "start_time": "2023-02-16T14:55:38.436Z"
   },
   {
    "duration": 15,
    "start_time": "2023-02-16T14:56:16.228Z"
   },
   {
    "duration": 5,
    "start_time": "2023-02-16T14:57:12.448Z"
   },
   {
    "duration": 9,
    "start_time": "2023-02-16T14:57:32.556Z"
   },
   {
    "duration": 13,
    "start_time": "2023-02-16T14:57:43.354Z"
   },
   {
    "duration": 10,
    "start_time": "2023-02-16T15:00:10.872Z"
   },
   {
    "duration": 11,
    "start_time": "2023-02-16T15:00:19.696Z"
   },
   {
    "duration": 3,
    "start_time": "2023-02-16T15:00:30.193Z"
   },
   {
    "duration": 28,
    "start_time": "2023-02-16T15:00:30.738Z"
   },
   {
    "duration": 7,
    "start_time": "2023-02-16T15:00:38.256Z"
   },
   {
    "duration": 3,
    "start_time": "2023-02-16T15:00:44.165Z"
   },
   {
    "duration": 23,
    "start_time": "2023-02-16T15:00:49.860Z"
   },
   {
    "duration": 12,
    "start_time": "2023-02-16T15:01:06.836Z"
   },
   {
    "duration": 3,
    "start_time": "2023-02-16T15:01:10.353Z"
   },
   {
    "duration": 34,
    "start_time": "2023-02-16T15:01:55.503Z"
   },
   {
    "duration": 3,
    "start_time": "2023-02-16T15:03:11.561Z"
   },
   {
    "duration": 1732,
    "start_time": "2023-02-16T15:03:12.849Z"
   },
   {
    "duration": 4,
    "start_time": "2023-02-16T15:03:44.361Z"
   },
   {
    "duration": 5,
    "start_time": "2023-02-16T15:03:58.343Z"
   },
   {
    "duration": 5,
    "start_time": "2023-02-16T15:03:59.057Z"
   },
   {
    "duration": 4,
    "start_time": "2023-02-16T15:04:04.959Z"
   },
   {
    "duration": 5,
    "start_time": "2023-02-16T15:04:05.633Z"
   },
   {
    "duration": 17,
    "start_time": "2023-02-16T15:04:08.952Z"
   },
   {
    "duration": 5,
    "start_time": "2023-02-16T15:04:12.270Z"
   },
   {
    "duration": 9,
    "start_time": "2023-02-16T15:07:03.364Z"
   },
   {
    "duration": 11,
    "start_time": "2023-02-16T15:07:25.140Z"
   },
   {
    "duration": 2,
    "start_time": "2023-02-16T15:07:30.587Z"
   },
   {
    "duration": 175,
    "start_time": "2023-02-16T15:14:38.236Z"
   },
   {
    "duration": 191,
    "start_time": "2023-02-16T15:14:47.766Z"
   },
   {
    "duration": 173,
    "start_time": "2023-02-16T15:14:52.136Z"
   },
   {
    "duration": 194,
    "start_time": "2023-02-16T15:14:54.102Z"
   },
   {
    "duration": 128,
    "start_time": "2023-02-16T15:14:59.458Z"
   },
   {
    "duration": 150,
    "start_time": "2023-02-16T15:15:03.077Z"
   },
   {
    "duration": 137,
    "start_time": "2023-02-16T15:15:05.557Z"
   },
   {
    "duration": 285,
    "start_time": "2023-02-16T15:15:22.682Z"
   },
   {
    "duration": 193,
    "start_time": "2023-02-16T15:15:28.734Z"
   },
   {
    "duration": 240,
    "start_time": "2023-02-16T15:15:31.440Z"
   },
   {
    "duration": 396,
    "start_time": "2023-02-16T15:15:34.463Z"
   },
   {
    "duration": 2509,
    "start_time": "2023-02-16T15:16:24.569Z"
   },
   {
    "duration": 1737,
    "start_time": "2023-02-16T15:16:29.940Z"
   },
   {
    "duration": 2511,
    "start_time": "2023-02-16T15:16:45.828Z"
   },
   {
    "duration": 3900,
    "start_time": "2023-02-16T15:17:10.868Z"
   },
   {
    "duration": 76,
    "start_time": "2023-02-16T15:21:15.485Z"
   },
   {
    "duration": 32,
    "start_time": "2023-02-16T15:22:03.733Z"
   },
   {
    "duration": 14,
    "start_time": "2023-02-16T15:22:42.656Z"
   },
   {
    "duration": 3085,
    "start_time": "2023-02-16T15:23:21.694Z"
   },
   {
    "duration": 2543,
    "start_time": "2023-02-16T15:23:29.952Z"
   },
   {
    "duration": 1687,
    "start_time": "2023-02-16T15:23:54.444Z"
   },
   {
    "duration": 2725,
    "start_time": "2023-02-16T15:24:24.910Z"
   },
   {
    "duration": 1730,
    "start_time": "2023-02-16T15:25:09.909Z"
   },
   {
    "duration": 1697,
    "start_time": "2023-02-16T15:25:13.238Z"
   },
   {
    "duration": 731,
    "start_time": "2023-02-16T15:25:35.875Z"
   },
   {
    "duration": 11,
    "start_time": "2023-02-16T15:27:35.666Z"
   },
   {
    "duration": 860,
    "start_time": "2023-02-16T15:28:26.175Z"
   },
   {
    "duration": 289,
    "start_time": "2023-02-16T15:28:31.030Z"
   },
   {
    "duration": 668,
    "start_time": "2023-02-16T15:28:39.726Z"
   },
   {
    "duration": 897,
    "start_time": "2023-02-16T15:28:49.458Z"
   },
   {
    "duration": 105,
    "start_time": "2023-02-16T15:29:08.515Z"
   },
   {
    "duration": 96,
    "start_time": "2023-02-16T15:29:29.639Z"
   },
   {
    "duration": 26,
    "start_time": "2023-02-16T15:29:33.044Z"
   },
   {
    "duration": 10,
    "start_time": "2023-02-16T15:29:37.060Z"
   },
   {
    "duration": 4,
    "start_time": "2023-02-16T15:29:51.386Z"
   },
   {
    "duration": 9,
    "start_time": "2023-02-16T15:29:54.832Z"
   },
   {
    "duration": 8,
    "start_time": "2023-02-16T15:29:55.655Z"
   },
   {
    "duration": 1620,
    "start_time": "2023-02-16T15:29:59.878Z"
   },
   {
    "duration": 2655,
    "start_time": "2023-02-16T15:30:01.500Z"
   },
   {
    "duration": 282,
    "start_time": "2023-02-16T15:30:04.157Z"
   },
   {
    "duration": 153,
    "start_time": "2023-02-16T15:30:04.448Z"
   },
   {
    "duration": 276,
    "start_time": "2023-02-16T15:30:04.603Z"
   },
   {
    "duration": 4,
    "start_time": "2023-02-16T15:30:04.880Z"
   },
   {
    "duration": 54,
    "start_time": "2023-02-16T15:30:04.885Z"
   },
   {
    "duration": 26,
    "start_time": "2023-02-16T15:30:04.940Z"
   },
   {
    "duration": 68,
    "start_time": "2023-02-16T15:30:04.967Z"
   },
   {
    "duration": 34,
    "start_time": "2023-02-16T15:30:05.045Z"
   },
   {
    "duration": 76,
    "start_time": "2023-02-16T15:30:05.081Z"
   },
   {
    "duration": 270,
    "start_time": "2023-02-16T15:30:05.160Z"
   },
   {
    "duration": 17,
    "start_time": "2023-02-16T15:30:05.437Z"
   },
   {
    "duration": 15,
    "start_time": "2023-02-16T15:30:05.456Z"
   },
   {
    "duration": 5,
    "start_time": "2023-02-16T15:30:05.473Z"
   },
   {
    "duration": 4,
    "start_time": "2023-02-16T15:30:05.480Z"
   },
   {
    "duration": 5,
    "start_time": "2023-02-16T15:30:05.486Z"
   },
   {
    "duration": 9,
    "start_time": "2023-02-16T15:30:05.493Z"
   },
   {
    "duration": 58,
    "start_time": "2023-02-16T15:30:05.504Z"
   },
   {
    "duration": 6,
    "start_time": "2023-02-16T15:30:05.564Z"
   },
   {
    "duration": 8,
    "start_time": "2023-02-16T15:30:05.572Z"
   },
   {
    "duration": 24375,
    "start_time": "2023-02-16T15:30:07.280Z"
   },
   {
    "duration": 1310,
    "start_time": "2023-02-16T15:30:32.890Z"
   },
   {
    "duration": 1541,
    "start_time": "2023-02-16T15:30:40.986Z"
   },
   {
    "duration": 1187,
    "start_time": "2023-02-16T15:30:48.848Z"
   },
   {
    "duration": 789,
    "start_time": "2023-02-16T15:30:52.357Z"
   },
   {
    "duration": 1087,
    "start_time": "2023-02-16T15:30:55.941Z"
   },
   {
    "duration": 774,
    "start_time": "2023-02-16T15:31:00.188Z"
   },
   {
    "duration": 393,
    "start_time": "2023-02-16T15:31:16.981Z"
   },
   {
    "duration": 23955,
    "start_time": "2023-02-16T15:31:25.232Z"
   },
   {
    "duration": 735,
    "start_time": "2023-02-16T15:31:54.112Z"
   },
   {
    "duration": 1408,
    "start_time": "2023-02-16T15:32:54.764Z"
   },
   {
    "duration": 755,
    "start_time": "2023-02-16T15:33:05.507Z"
   },
   {
    "duration": 8,
    "start_time": "2023-02-16T15:33:45.235Z"
   },
   {
    "duration": 14,
    "start_time": "2023-02-16T15:34:26.868Z"
   },
   {
    "duration": 10,
    "start_time": "2023-02-16T15:35:09.141Z"
   },
   {
    "duration": 17,
    "start_time": "2023-02-16T15:35:14.035Z"
   },
   {
    "duration": 6,
    "start_time": "2023-02-16T15:35:20.686Z"
   },
   {
    "duration": 7,
    "start_time": "2023-02-16T15:35:52.336Z"
   },
   {
    "duration": 624,
    "start_time": "2023-02-16T15:38:17.672Z"
   },
   {
    "duration": 700,
    "start_time": "2023-02-16T15:38:31.239Z"
   },
   {
    "duration": 998,
    "start_time": "2023-02-16T15:38:38.747Z"
   },
   {
    "duration": 359,
    "start_time": "2023-02-16T15:39:16.569Z"
   },
   {
    "duration": 258,
    "start_time": "2023-02-16T15:39:50.144Z"
   },
   {
    "duration": 8,
    "start_time": "2023-02-16T15:39:52.637Z"
   },
   {
    "duration": 260,
    "start_time": "2023-02-16T15:39:53.540Z"
   },
   {
    "duration": 18,
    "start_time": "2023-02-16T15:40:52.553Z"
   },
   {
    "duration": 5,
    "start_time": "2023-02-16T15:41:24.852Z"
   },
   {
    "duration": 491,
    "start_time": "2023-02-16T15:41:26.472Z"
   },
   {
    "duration": 107,
    "start_time": "2023-02-16T15:41:51.536Z"
   },
   {
    "duration": 22,
    "start_time": "2023-02-16T15:41:55.137Z"
   },
   {
    "duration": 23,
    "start_time": "2023-02-16T15:42:02.343Z"
   },
   {
    "duration": 14,
    "start_time": "2023-02-16T15:42:15.290Z"
   },
   {
    "duration": 15,
    "start_time": "2023-02-16T15:42:28.578Z"
   },
   {
    "duration": 193,
    "start_time": "2023-02-16T15:42:33.536Z"
   },
   {
    "duration": 201,
    "start_time": "2023-02-16T15:43:09.491Z"
   },
   {
    "duration": 8,
    "start_time": "2023-02-16T15:43:15.847Z"
   },
   {
    "duration": 16,
    "start_time": "2023-02-16T15:43:31.038Z"
   },
   {
    "duration": 15,
    "start_time": "2023-02-16T15:43:44.542Z"
   },
   {
    "duration": 9,
    "start_time": "2023-02-16T15:43:50.438Z"
   },
   {
    "duration": 5,
    "start_time": "2023-02-16T15:43:54.453Z"
   },
   {
    "duration": 12,
    "start_time": "2023-02-16T15:43:58.894Z"
   },
   {
    "duration": 5,
    "start_time": "2023-02-16T15:44:04.057Z"
   },
   {
    "duration": 26,
    "start_time": "2023-02-16T15:44:07.031Z"
   },
   {
    "duration": 34,
    "start_time": "2023-02-16T15:44:10.726Z"
   },
   {
    "duration": 6,
    "start_time": "2023-02-16T15:44:31.558Z"
   },
   {
    "duration": 1546,
    "start_time": "2023-02-16T15:44:36.295Z"
   },
   {
    "duration": 787,
    "start_time": "2023-02-16T15:44:46.452Z"
   },
   {
    "duration": 637,
    "start_time": "2023-02-16T15:45:29.161Z"
   },
   {
    "duration": 811,
    "start_time": "2023-02-16T15:45:37.867Z"
   },
   {
    "duration": 776,
    "start_time": "2023-02-16T15:45:48.408Z"
   },
   {
    "duration": 785,
    "start_time": "2023-02-16T15:45:59.950Z"
   },
   {
    "duration": 1413,
    "start_time": "2023-02-16T15:46:26.164Z"
   },
   {
    "duration": 720,
    "start_time": "2023-02-16T15:46:34.251Z"
   },
   {
    "duration": 1375,
    "start_time": "2023-02-16T15:47:02.380Z"
   },
   {
    "duration": 1252,
    "start_time": "2023-02-16T15:47:41.039Z"
   },
   {
    "duration": 1228,
    "start_time": "2023-02-16T15:48:06.736Z"
   },
   {
    "duration": 809,
    "start_time": "2023-02-16T15:48:14.338Z"
   },
   {
    "duration": 729,
    "start_time": "2023-02-16T15:48:22.302Z"
   },
   {
    "duration": 867,
    "start_time": "2023-02-16T15:48:32.536Z"
   },
   {
    "duration": 786,
    "start_time": "2023-02-16T15:48:42.344Z"
   },
   {
    "duration": 965,
    "start_time": "2023-02-16T15:48:54.876Z"
   },
   {
    "duration": 757,
    "start_time": "2023-02-16T15:49:05.303Z"
   },
   {
    "duration": 935,
    "start_time": "2023-02-16T15:50:00.031Z"
   },
   {
    "duration": 12,
    "start_time": "2023-02-16T15:51:44.951Z"
   },
   {
    "duration": 776,
    "start_time": "2023-02-16T15:51:45.604Z"
   }
  ],
  "kernelspec": {
   "display_name": "Python 3 (ipykernel)",
   "language": "python",
   "name": "python3"
  },
  "language_info": {
   "codemirror_mode": {
    "name": "ipython",
    "version": 3
   },
   "file_extension": ".py",
   "mimetype": "text/x-python",
   "name": "python",
   "nbconvert_exporter": "python",
   "pygments_lexer": "ipython3",
   "version": "3.9.5"
  },
  "toc": {
   "base_numbering": 1,
   "nav_menu": {},
   "number_sections": true,
   "sideBar": true,
   "skip_h1_title": true,
   "title_cell": "Содержание",
   "title_sidebar": "Contents",
   "toc_cell": true,
   "toc_position": {
    "height": "calc(100% - 180px)",
    "left": "10px",
    "top": "150px",
    "width": "165px"
   },
   "toc_section_display": true,
   "toc_window_display": true
  }
 },
 "nbformat": 4,
 "nbformat_minor": 2
}
