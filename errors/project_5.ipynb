{
 "cells": [
  {
   "cell_type": "markdown",
   "metadata": {},
   "source": [
    "Привет! Меня зовут Исмаилов Исмаил, я буду проверять твой проект :) Можешь обращаться ко мне на «ты». Если тебе комфортно, то и я буду к тебе так обращаться, если нет, то обязательно скажи об этом.\n",
    "\n",
    "Пожалуйста, не удаляй мои комментарии, которые я буду оставлять в работе. Это особенно поможет, если твои проекты будут отправлены на повторную проверку. При повторных проверках у комментариев будут приписки: \"Вторая итерация\", \"Третья итерация\" и т.д. \n",
    "\n",
    "Ты тоже можешь реагировать на мои комментарии, но в таком случае постарайся, чтобы твои комментарии отличались от моих: например, выделяй их своим любимым цветом — так у нас не возникнет путаницы :)\n",
    "\n",
    "Кстати, про цвета! Мои комментарии будут в следующей цветовой гамме: зелеными, желтыми и красными. Например:\n",
    "\n",
    "<div class=\"alert-success\"> \n",
    "<b>Комментарий ревьюера 👍 </b>\n",
    "    \n",
    "В случае, если решение на отдельном шаге является полностью правильным. </div>\n",
    "\n",
    "<div class=\"alert-warning\"> \n",
    "<b>Комментарий ревьюера 💡</b> \n",
    "    \n",
    "В случае, если решение может стать еще лучше с некоторыми корректировками </div>\n",
    " \n",
    "<div class=\"alert-danger\"> \n",
    "<b>Комментарий ревьюера ❌</b> \n",
    "    \n",
    "В случае, если решение какого-то шага требует значительных изменений. Проект не может быть принят с первого раза, если ревью содержит комментарии, помеченные этим цветом </div>"
   ]
  },
  {
   "cell_type": "markdown",
   "metadata": {},
   "source": [
    "<div class=\"alert alert-block alert-info\">\n",
    "\n",
    "Прощу прощения, я работал над проектом в другом месте, что и не тот отправил на проверку :(\n",
    "    \n",
    "</div>"
   ]
  },
  {
   "cell_type": "markdown",
   "metadata": {},
   "source": [
    "# Рекомендация тарифов"
   ]
  },
  {
   "cell_type": "markdown",
   "metadata": {},
   "source": [
    "В вашем распоряжении данные о поведении клиентов, которые уже перешли на эти тарифы (из проекта курса «Статистический анализ данных»). Нужно построить модель для задачи классификации, которая выберет подходящий тариф. Предобработка данных не понадобится — вы её уже сделали.\n",
    "\n",
    "Постройте модель с максимально большим значением *accuracy*. Чтобы сдать проект успешно, нужно довести долю правильных ответов по крайней мере до 0.75. Проверьте *accuracy* на тестовой выборке самостоятельно."
   ]
  },
  {
   "cell_type": "markdown",
   "metadata": {},
   "source": [
    "## Откройте и изучите файл"
   ]
  },
  {
   "cell_type": "code",
   "execution_count": 2,
   "metadata": {},
   "outputs": [
    {
     "ename": "ModuleNotFoundError",
     "evalue": "No module named 'pandas'",
     "output_type": "error",
     "traceback": [
      "\u001b[1;31m---------------------------------------------------------------------------\u001b[0m",
      "\u001b[1;31mModuleNotFoundError\u001b[0m                       Traceback (most recent call last)",
      "Cell \u001b[1;32mIn[2], line 2\u001b[0m\n\u001b[0;32m      1\u001b[0m \u001b[39m# Подключаем библиотеку pandas\u001b[39;00m\n\u001b[1;32m----> 2\u001b[0m \u001b[39mimport\u001b[39;00m \u001b[39mpandas\u001b[39;00m \u001b[39mas\u001b[39;00m \u001b[39mpd\u001b[39;00m\n\u001b[0;32m      4\u001b[0m \u001b[39m# Получаем датасет\u001b[39;00m\n\u001b[0;32m      5\u001b[0m df \u001b[39m=\u001b[39m pd\u001b[39m.\u001b[39mread_csv(\u001b[39m'\u001b[39m\u001b[39m/CSV/5/users_behavior.csv\u001b[39m\u001b[39m'\u001b[39m)\n",
      "\u001b[1;31mModuleNotFoundError\u001b[0m: No module named 'pandas'"
     ]
    }
   ],
   "source": [
    "# Подключаем библиотеку pandas\n",
    "import pandas as pd\n",
    "\n",
    "# Получаем датасет\n",
    "df = pd.read_csv('/CSV/5/users_behavior.csv')\n",
    "\n",
    "# Смотрим и изучаем датасет\n",
    "df.info()"
   ]
  },
  {
   "cell_type": "code",
   "execution_count": null,
   "metadata": {},
   "outputs": [
    {
     "data": {
      "text/html": [
       "<div>\n",
       "<style scoped>\n",
       "    .dataframe tbody tr th:only-of-type {\n",
       "        vertical-align: middle;\n",
       "    }\n",
       "\n",
       "    .dataframe tbody tr th {\n",
       "        vertical-align: top;\n",
       "    }\n",
       "\n",
       "    .dataframe thead th {\n",
       "        text-align: right;\n",
       "    }\n",
       "</style>\n",
       "<table border=\"1\" class=\"dataframe\">\n",
       "  <thead>\n",
       "    <tr style=\"text-align: right;\">\n",
       "      <th></th>\n",
       "      <th>calls</th>\n",
       "      <th>minutes</th>\n",
       "      <th>messages</th>\n",
       "      <th>mb_used</th>\n",
       "      <th>is_ultra</th>\n",
       "    </tr>\n",
       "  </thead>\n",
       "  <tbody>\n",
       "    <tr>\n",
       "      <th>0</th>\n",
       "      <td>40.0</td>\n",
       "      <td>311.90</td>\n",
       "      <td>83.0</td>\n",
       "      <td>19915.42</td>\n",
       "      <td>0</td>\n",
       "    </tr>\n",
       "    <tr>\n",
       "      <th>1</th>\n",
       "      <td>85.0</td>\n",
       "      <td>516.75</td>\n",
       "      <td>56.0</td>\n",
       "      <td>22696.96</td>\n",
       "      <td>0</td>\n",
       "    </tr>\n",
       "    <tr>\n",
       "      <th>2</th>\n",
       "      <td>77.0</td>\n",
       "      <td>467.66</td>\n",
       "      <td>86.0</td>\n",
       "      <td>21060.45</td>\n",
       "      <td>0</td>\n",
       "    </tr>\n",
       "    <tr>\n",
       "      <th>3</th>\n",
       "      <td>106.0</td>\n",
       "      <td>745.53</td>\n",
       "      <td>81.0</td>\n",
       "      <td>8437.39</td>\n",
       "      <td>1</td>\n",
       "    </tr>\n",
       "    <tr>\n",
       "      <th>4</th>\n",
       "      <td>66.0</td>\n",
       "      <td>418.74</td>\n",
       "      <td>1.0</td>\n",
       "      <td>14502.75</td>\n",
       "      <td>0</td>\n",
       "    </tr>\n",
       "  </tbody>\n",
       "</table>\n",
       "</div>"
      ],
      "text/plain": [
       "   calls  minutes  messages   mb_used  is_ultra\n",
       "0   40.0   311.90      83.0  19915.42         0\n",
       "1   85.0   516.75      56.0  22696.96         0\n",
       "2   77.0   467.66      86.0  21060.45         0\n",
       "3  106.0   745.53      81.0   8437.39         1\n",
       "4   66.0   418.74       1.0  14502.75         0"
      ]
     },
     "execution_count": 153,
     "metadata": {},
     "output_type": "execute_result"
    }
   ],
   "source": [
    "df.head()"
   ]
  },
  {
   "cell_type": "code",
   "execution_count": null,
   "metadata": {},
   "outputs": [
    {
     "data": {
      "text/plain": [
       "calls       0\n",
       "minutes     0\n",
       "messages    0\n",
       "mb_used     0\n",
       "is_ultra    0\n",
       "dtype: int64"
      ]
     },
     "execution_count": 154,
     "metadata": {},
     "output_type": "execute_result"
    }
   ],
   "source": [
    "# Проверяем пропущенные значения\n",
    "df.isna().sum()"
   ]
  },
  {
   "cell_type": "markdown",
   "metadata": {},
   "source": [
    "<div class=\"alert-success\"> \n",
    "<b>Комментарий ревьюера 👍</b>\n",
    "\n",
    "Хороший первичный обзор данных"
   ]
  },
  {
   "cell_type": "markdown",
   "metadata": {},
   "source": [
    "Нет пропущенных значений, теперь переходим к следующему шагу"
   ]
  },
  {
   "cell_type": "markdown",
   "metadata": {},
   "source": [
    "## Разбейте данные на выборки"
   ]
  },
  {
   "cell_type": "code",
   "execution_count": null,
   "metadata": {},
   "outputs": [],
   "source": [
    "# Подключаем библиотеку для деления на две выборки (Валидационную выборку)\n",
    "from sklearn.model_selection import train_test_split\n",
    "\n",
    "# Подключаем функцию для оценки правильности\n",
    "from sklearn.metrics import accuracy_score"
   ]
  },
  {
   "cell_type": "code",
   "execution_count": null,
   "metadata": {},
   "outputs": [],
   "source": [
    "# Устанавливаем признаки и цели обучения\n",
    "features = df.drop(['is_ultra'], axis=1)\n",
    "target = df['is_ultra']"
   ]
  },
  {
   "cell_type": "markdown",
   "metadata": {},
   "source": [
    "features_train - Обучающие признаки\n",
    "\n",
    "features_valid - Валидационные (Проверочные) признаки, для нахождения надежных оценок\n",
    "\n",
    "target_train - Обущающие целевые признаки\n",
    "\n",
    "target_valid - Валидационные (Проверочные) целевые признаки, для нахождения надежных оценок"
   ]
  },
  {
   "cell_type": "code",
   "execution_count": null,
   "metadata": {},
   "outputs": [],
   "source": [
    "# Разделяем исходные данные на обучающую, валидационную и тестовую выборки\n",
    "# Как обычно, будем разделять 25% данных для валидационной выборки\n",
    "features_train, features_valid, target_train, target_valid = train_test_split(features, target, test_size=0.25, random_state=12345) "
   ]
  },
  {
   "cell_type": "code",
   "execution_count": null,
   "metadata": {},
   "outputs": [],
   "source": [
    "# Узнаем данные обучающую выборку\n",
    "train_predictions = model.predict(features)\n",
    "\n",
    "# Узнаем данные валидационную выборку\n",
    "valid_predictions = model.predict(features_valid)"
   ]
  },
  {
   "cell_type": "code",
   "execution_count": null,
   "metadata": {},
   "outputs": [
    {
     "name": "stdout",
     "output_type": "stream",
     "text": [
      "Accuracy\n",
      "Обучающая выборка: 0.806471686372122\n",
      "Валидационная выборка: 0.7810945273631841\n"
     ]
    }
   ],
   "source": [
    "print(\"Accuracy\")\n",
    "print(\"Обучающая выборка:\", accuracy_score(target, train_predictions))\n",
    "print(\"Валидационная выборка:\", accuracy_score(target_valid, valid_predictions))"
   ]
  },
  {
   "cell_type": "markdown",
   "metadata": {},
   "source": [
    "## Исследуйте модели"
   ]
  },
  {
   "cell_type": "markdown",
   "metadata": {},
   "source": [
    "Нам требуется исследовать какими тарифом пользователь пользуются, а эти признаки являются категориальными, т.е. будем применять методом обучения для классификации"
   ]
  },
  {
   "cell_type": "code",
   "execution_count": null,
   "metadata": {},
   "outputs": [],
   "source": [
    "# Подключаем библиотеки для обучения разными способами:\n",
    "# - Случайный лес в регрессии\n",
    "# - Линейная регрессия\n",
    "# - Дерево решений в регресии\n",
    "# - Случайный лес\n",
    "# - Решающее дерево\n",
    "\n",
    "# from sklearn.ensemble import RandomForestRegressor\n",
    "# from sklearn.linear_model import LinearRegression\n",
    "# from sklearn.tree import DecisionTreeRegressor\n",
    "from sklearn.ensemble import RandomForestClassifier\n",
    "from sklearn.tree import DecisionTreeClassifier\n",
    "\n",
    "# И библиотеку для вычисления MSE (Среднеквадратичная ошибка)\n",
    "from sklearn.metrics import mean_squared_error"
   ]
  },
  {
   "cell_type": "markdown",
   "metadata": {},
   "source": [
    "Исследуем качество модели разными способами"
   ]
  },
  {
   "cell_type": "code",
   "execution_count": null,
   "metadata": {},
   "outputs": [],
   "source": [
    "# Методом случайного леса\n",
    "\n",
    "best_model = None\n",
    "best_result = 0\n",
    "for est in range(1, 11):\n",
    "    # Обучим модель с заданным количеством деревьев\n",
    "    model = RandomForestClassifier(random_state=12345, n_estimators=est) \n",
    "    \n",
    "    # Обучим модель на тренировочной выборке\n",
    "    model.fit(features_train, target_train) \n",
    "    \n",
    "    # Посчитаем качество модели на валидационной выборке\n",
    "    result = model.score(features_valid, target_valid) \n",
    "    \n",
    "    if result > best_result:\n",
    "        # Сохраним наилучшую модель\n",
    "        best_model = model\n",
    "        # Сохраним наилучшее значение метрики accuracy на валидационных данных\n",
    "        best_result = result"
   ]
  },
  {
   "cell_type": "code",
   "execution_count": null,
   "metadata": {},
   "outputs": [
    {
     "name": "stdout",
     "output_type": "stream",
     "text": [
      "Accuracy наилучшей модели на валидационной выборке: 0.7898009950248757\n"
     ]
    }
   ],
   "source": [
    "print(\"Accuracy наилучшей модели на валидационной выборке:\", best_result)"
   ]
  },
  {
   "cell_type": "code",
   "execution_count": null,
   "metadata": {},
   "outputs": [],
   "source": [
    "# Методом решающего дерева\n",
    "\n",
    "best_model = None\n",
    "best_result = 0\n",
    "\n",
    "for depth in range(1, 6):\n",
    "    # Обучим модель с заданной глубиной дерева\n",
    "    model = DecisionTreeClassifier(random_state=12345, max_depth=depth) \n",
    "    # Обучим модель\n",
    "    model.fit(features, target) \n",
    "    # Получим предсказания модели\n",
    "    predictions = model.predict(features) \n",
    "    # Посчитаем качество модели\n",
    "    result = accuracy_score(target, predictions) \n",
    "    if result > best_result:\n",
    "        best_model = model\n",
    "        best_result = result"
   ]
  },
  {
   "cell_type": "code",
   "execution_count": null,
   "metadata": {},
   "outputs": [
    {
     "name": "stdout",
     "output_type": "stream",
     "text": [
      "Accuracy лучшей модели: 0.8170504044803982\n"
     ]
    }
   ],
   "source": [
    "print(\"Accuracy лучшей модели:\", best_result)"
   ]
  },
  {
   "cell_type": "code",
   "execution_count": null,
   "metadata": {},
   "outputs": [
    {
     "name": "stdout",
     "output_type": "stream",
     "text": [
      "max_depth = 1 : 0.75\n",
      "max_depth = 2 : 0.7835820895522388\n",
      "max_depth = 3 : 0.7885572139303483\n",
      "max_depth = 4 : 0.7810945273631841\n",
      "max_depth = 5 : 0.7810945273631841\n"
     ]
    }
   ],
   "source": [
    "# Узнаем качество моделей, меняя гиперпараметров\n",
    "for depth in range(1, 6):\n",
    "    # Создаем модель, указав max_depth=depth\n",
    "    model = DecisionTreeClassifier(random_state = 12345, max_depth = depth)\n",
    "    \n",
    "    # Обучим модель\n",
    "    model.fit(features_train, target_train)\n",
    "    \n",
    "    # Найдем предсказания на валидационной выборке\n",
    "    predictions_valid = model.predict(features_valid)\n",
    "\n",
    "    print(\"max_depth =\", depth, \": \", end='')\n",
    "    print(accuracy_score(target_valid, predictions_valid)) "
   ]
  },
  {
   "cell_type": "markdown",
   "metadata": {},
   "source": [
    "Здесь видно, что максимальная глубина 3 является оптимальной по сравнению остальных "
   ]
  },
  {
   "cell_type": "markdown",
   "metadata": {},
   "source": [
    "## Проверьте модель на тестовой выборке"
   ]
  },
  {
   "cell_type": "code",
   "execution_count": null,
   "metadata": {},
   "outputs": [
    {
     "name": "stdout",
     "output_type": "stream",
     "text": [
      "Ошибок: 795\n"
     ]
    }
   ],
   "source": [
    "# Выявляем кол-во ошибок\n",
    "def error_count(answers, predictions):\n",
    "    count = 0\n",
    "    for i in range(0, len(answers)):\n",
    "        if(answers[i] != predictions[i]):\n",
    "            count += 1\n",
    "    return count\n",
    "    \n",
    "print(\"Ошибок:\", error_count(target, test_predictions))"
   ]
  },
  {
   "cell_type": "markdown",
   "metadata": {},
   "source": [
    "## (бонус) Проверьте модели на адекватность"
   ]
  },
  {
   "cell_type": "code",
   "execution_count": null,
   "metadata": {},
   "outputs": [],
   "source": [
    "# Подключаем библиотеку еще\n",
    "from sklearn.dummy import DummyClassifier"
   ]
  },
  {
   "cell_type": "code",
   "execution_count": null,
   "metadata": {},
   "outputs": [
    {
     "data": {
      "text/plain": [
       "0.6912863070539419"
      ]
     },
     "execution_count": 168,
     "metadata": {},
     "output_type": "execute_result"
    }
   ],
   "source": [
    "# Устанавливаем стратегию прогноза как \"самый частый случай\", \n",
    "# т.е. частую метку класса в наблюдаемом аргументе target, \n",
    "# переданном для соответствия\n",
    "dummy_clf = DummyClassifier(strategy = \"most_frequent\")\n",
    "\n",
    "# Обучим модель\n",
    "dummy_clf.fit(features_train, target_train)\n",
    "\n",
    "# Создаем модель, указав стратению как \"самый частый случай\"\n",
    "DummyClassifier(strategy = 'most_frequent')\n",
    "\n",
    "# Получим предсказания модели\n",
    "dummy_clf.predict(features_train)\n",
    "\n",
    "# Посчитаем качество модели\n",
    "dummy_clf.score(features_train, target_train)"
   ]
  },
  {
   "cell_type": "markdown",
   "metadata": {},
   "source": [
    "Получилось, что обученная модель не является идеальным по сравнению остальных"
   ]
  },
  {
   "cell_type": "markdown",
   "metadata": {},
   "source": [
    "## Чек-лист готовности проекта"
   ]
  },
  {
   "cell_type": "markdown",
   "metadata": {},
   "source": [
    "Поставьте 'x' в выполненных пунктах. Далее нажмите Shift+Enter."
   ]
  },
  {
   "cell_type": "markdown",
   "metadata": {},
   "source": [
    "- [x] Jupyter Notebook открыт\n",
    "- [x] Весь код исполняется без ошибок\n",
    "- [x] Ячейки с кодом расположены в порядке исполнения\n",
    "- [x] Выполнено задание 1: данные загружены и изучены\n",
    "- [x] Выполнено задание 2: данные разбиты на три выборки\n",
    "- [x] Выполнено задание 3: проведено исследование моделей\n",
    "    - [x] Рассмотрено больше одной модели\n",
    "    - [x] Рассмотрено хотя бы 3 значения гипепараметров для какой-нибудь модели\n",
    "    - [x] Написаны выводы по результатам исследования\n",
    "- [x] Выполнено задание 3: Проведено тестирование\n",
    "- [x] Удалось достичь accuracy не меньше 0.75\n"
   ]
  }
 ],
 "metadata": {
  "ExecuteTimeLog": [
   {
    "duration": 480,
    "start_time": "2022-12-30T09:53:49.268Z"
   },
   {
    "duration": 3,
    "start_time": "2022-12-30T09:55:11.977Z"
   },
   {
    "duration": 10,
    "start_time": "2022-12-30T09:55:25.917Z"
   },
   {
    "duration": 10,
    "start_time": "2022-12-30T09:55:49.181Z"
   },
   {
    "duration": 2,
    "start_time": "2022-12-30T09:56:09.670Z"
   },
   {
    "duration": 12,
    "start_time": "2022-12-30T09:56:32.062Z"
   },
   {
    "duration": 35,
    "start_time": "2022-12-30T09:56:37.398Z"
   },
   {
    "duration": 37,
    "start_time": "2022-12-30T09:56:42.267Z"
   },
   {
    "duration": 10,
    "start_time": "2022-12-30T09:56:42.306Z"
   },
   {
    "duration": 7,
    "start_time": "2022-12-30T09:56:42.318Z"
   },
   {
    "duration": 14,
    "start_time": "2022-12-30T09:56:42.327Z"
   },
   {
    "duration": 10,
    "start_time": "2022-12-30T09:56:42.343Z"
   },
   {
    "duration": 3,
    "start_time": "2022-12-30T09:56:42.355Z"
   },
   {
    "duration": 36,
    "start_time": "2022-12-30T09:56:46.483Z"
   },
   {
    "duration": 9,
    "start_time": "2022-12-30T09:56:46.521Z"
   },
   {
    "duration": 9,
    "start_time": "2022-12-30T09:56:46.531Z"
   },
   {
    "duration": 15,
    "start_time": "2022-12-30T09:56:46.541Z"
   },
   {
    "duration": 12,
    "start_time": "2022-12-30T09:56:46.557Z"
   },
   {
    "duration": 5,
    "start_time": "2022-12-30T09:56:46.570Z"
   },
   {
    "duration": 9,
    "start_time": "2022-12-30T09:57:03.591Z"
   },
   {
    "duration": 7,
    "start_time": "2022-12-30T09:57:43.215Z"
   },
   {
    "duration": 5,
    "start_time": "2022-12-30T09:57:51.624Z"
   },
   {
    "duration": 3,
    "start_time": "2022-12-30T09:57:55.704Z"
   },
   {
    "duration": 36,
    "start_time": "2022-12-30T09:58:03.720Z"
   },
   {
    "duration": 9,
    "start_time": "2022-12-30T09:58:03.759Z"
   },
   {
    "duration": 11,
    "start_time": "2022-12-30T09:58:03.770Z"
   },
   {
    "duration": 7,
    "start_time": "2022-12-30T09:58:03.783Z"
   },
   {
    "duration": 694,
    "start_time": "2022-12-30T10:08:27.492Z"
   },
   {
    "duration": 101,
    "start_time": "2022-12-30T10:12:02.585Z"
   },
   {
    "duration": 36,
    "start_time": "2022-12-30T10:12:06.663Z"
   },
   {
    "duration": 9,
    "start_time": "2022-12-30T10:12:06.701Z"
   },
   {
    "duration": 13,
    "start_time": "2022-12-30T10:12:06.712Z"
   },
   {
    "duration": 16,
    "start_time": "2022-12-30T10:12:06.727Z"
   },
   {
    "duration": 28,
    "start_time": "2022-12-30T10:12:06.745Z"
   },
   {
    "duration": 6,
    "start_time": "2022-12-30T10:12:06.775Z"
   },
   {
    "duration": 5,
    "start_time": "2022-12-30T10:12:46.240Z"
   },
   {
    "duration": 46,
    "start_time": "2022-12-30T10:15:01.859Z"
   },
   {
    "duration": 3,
    "start_time": "2022-12-30T10:15:11.250Z"
   },
   {
    "duration": 4,
    "start_time": "2022-12-30T10:15:45.596Z"
   },
   {
    "duration": 2,
    "start_time": "2022-12-30T10:19:01.256Z"
   },
   {
    "duration": 35,
    "start_time": "2022-12-30T10:30:03.716Z"
   },
   {
    "duration": 3,
    "start_time": "2022-12-30T10:30:42.799Z"
   },
   {
    "duration": 4739,
    "start_time": "2022-12-30T10:30:43.709Z"
   },
   {
    "duration": 4823,
    "start_time": "2022-12-30T10:31:02.238Z"
   },
   {
    "duration": 4668,
    "start_time": "2022-12-30T10:31:11.838Z"
   },
   {
    "duration": 3,
    "start_time": "2022-12-30T10:31:17.430Z"
   },
   {
    "duration": 4,
    "start_time": "2022-12-30T10:31:25.334Z"
   },
   {
    "duration": 9,
    "start_time": "2022-12-30T10:33:25.095Z"
   },
   {
    "duration": 4,
    "start_time": "2022-12-30T10:33:27.407Z"
   },
   {
    "duration": 8,
    "start_time": "2022-12-30T10:33:44.464Z"
   },
   {
    "duration": 3,
    "start_time": "2022-12-30T10:33:45.369Z"
   },
   {
    "duration": 11,
    "start_time": "2022-12-30T10:37:03.053Z"
   },
   {
    "duration": 3,
    "start_time": "2022-12-30T10:37:29.828Z"
   },
   {
    "duration": 10,
    "start_time": "2022-12-30T10:37:33.309Z"
   },
   {
    "duration": 3,
    "start_time": "2022-12-30T10:37:39.703Z"
   },
   {
    "duration": 3,
    "start_time": "2022-12-30T10:37:43.203Z"
   },
   {
    "duration": 5008,
    "start_time": "2022-12-30T10:37:44.287Z"
   },
   {
    "duration": 3,
    "start_time": "2022-12-30T10:37:51.133Z"
   },
   {
    "duration": 9,
    "start_time": "2022-12-30T10:37:52.205Z"
   },
   {
    "duration": 3,
    "start_time": "2022-12-30T10:37:53.325Z"
   },
   {
    "duration": 10,
    "start_time": "2022-12-30T10:37:54.350Z"
   },
   {
    "duration": 42,
    "start_time": "2022-12-30T10:38:03.206Z"
   },
   {
    "duration": 11,
    "start_time": "2022-12-30T10:38:03.250Z"
   },
   {
    "duration": 37,
    "start_time": "2022-12-30T10:38:03.263Z"
   },
   {
    "duration": 16,
    "start_time": "2022-12-30T10:38:03.301Z"
   },
   {
    "duration": 22,
    "start_time": "2022-12-30T10:38:03.320Z"
   },
   {
    "duration": 17,
    "start_time": "2022-12-30T10:38:03.344Z"
   },
   {
    "duration": 24,
    "start_time": "2022-12-30T10:38:03.363Z"
   },
   {
    "duration": 8,
    "start_time": "2022-12-30T10:38:03.389Z"
   },
   {
    "duration": 4819,
    "start_time": "2022-12-30T10:38:03.399Z"
   },
   {
    "duration": 4,
    "start_time": "2022-12-30T10:38:08.221Z"
   },
   {
    "duration": 8,
    "start_time": "2022-12-30T10:38:08.227Z"
   },
   {
    "duration": 6,
    "start_time": "2022-12-30T10:38:08.236Z"
   },
   {
    "duration": 16,
    "start_time": "2022-12-30T10:38:08.244Z"
   },
   {
    "duration": 1,
    "start_time": "2022-12-30T10:38:08.261Z"
   },
   {
    "duration": 311,
    "start_time": "2022-12-30T10:38:38.360Z"
   },
   {
    "duration": 5,
    "start_time": "2022-12-30T10:38:46.445Z"
   },
   {
    "duration": 319,
    "start_time": "2022-12-30T10:38:47.032Z"
   },
   {
    "duration": 4,
    "start_time": "2022-12-30T10:38:48.801Z"
   },
   {
    "duration": 3,
    "start_time": "2022-12-30T10:40:56.298Z"
   },
   {
    "duration": 16,
    "start_time": "2022-12-30T10:40:58.505Z"
   },
   {
    "duration": 3,
    "start_time": "2022-12-30T10:43:31.427Z"
   },
   {
    "duration": 11,
    "start_time": "2022-12-30T10:45:38.182Z"
   },
   {
    "duration": 8,
    "start_time": "2022-12-30T10:46:07.062Z"
   },
   {
    "duration": 12,
    "start_time": "2022-12-30T10:46:10.935Z"
   },
   {
    "duration": 16,
    "start_time": "2022-12-30T10:46:36.568Z"
   },
   {
    "duration": 8,
    "start_time": "2022-12-30T10:46:43.044Z"
   },
   {
    "duration": 5,
    "start_time": "2022-12-30T10:46:47.736Z"
   },
   {
    "duration": 3,
    "start_time": "2022-12-30T10:52:56.454Z"
   },
   {
    "duration": 281,
    "start_time": "2022-12-30T10:53:32.056Z"
   },
   {
    "duration": 3,
    "start_time": "2022-12-30T10:53:33.554Z"
   },
   {
    "duration": 3,
    "start_time": "2022-12-30T10:55:41.177Z"
   },
   {
    "duration": 32,
    "start_time": "2022-12-30T10:56:24.609Z"
   },
   {
    "duration": 2,
    "start_time": "2022-12-30T10:56:29.666Z"
   },
   {
    "duration": 33,
    "start_time": "2022-12-30T10:57:16.362Z"
   },
   {
    "duration": 33,
    "start_time": "2022-12-30T10:57:22.819Z"
   },
   {
    "duration": 285,
    "start_time": "2022-12-30T10:57:46.459Z"
   },
   {
    "duration": 38,
    "start_time": "2022-12-30T10:57:54.723Z"
   },
   {
    "duration": 308,
    "start_time": "2022-12-30T10:57:56.154Z"
   },
   {
    "duration": 3,
    "start_time": "2022-12-30T10:57:57.282Z"
   },
   {
    "duration": 3,
    "start_time": "2022-12-30T10:57:58.731Z"
   },
   {
    "duration": 39,
    "start_time": "2022-12-30T10:57:59.679Z"
   },
   {
    "duration": 3,
    "start_time": "2022-12-30T10:58:00.547Z"
   },
   {
    "duration": 9,
    "start_time": "2022-12-30T10:59:26.332Z"
   },
   {
    "duration": 12,
    "start_time": "2022-12-30T10:59:41.366Z"
   },
   {
    "duration": 7,
    "start_time": "2022-12-30T11:00:43.774Z"
   },
   {
    "duration": 15,
    "start_time": "2022-12-30T11:00:46.166Z"
   },
   {
    "duration": 19,
    "start_time": "2022-12-30T11:00:53.127Z"
   },
   {
    "duration": 33,
    "start_time": "2022-12-30T11:01:44.575Z"
   },
   {
    "duration": 5,
    "start_time": "2022-12-30T11:02:35.399Z"
   },
   {
    "duration": 36,
    "start_time": "2022-12-30T11:03:06.760Z"
   },
   {
    "duration": 10,
    "start_time": "2022-12-30T11:03:06.798Z"
   },
   {
    "duration": 11,
    "start_time": "2022-12-30T11:03:06.809Z"
   },
   {
    "duration": 12,
    "start_time": "2022-12-30T11:03:06.822Z"
   },
   {
    "duration": 8,
    "start_time": "2022-12-30T11:03:06.836Z"
   },
   {
    "duration": 10,
    "start_time": "2022-12-30T11:03:06.846Z"
   },
   {
    "duration": 10,
    "start_time": "2022-12-30T11:03:06.857Z"
   },
   {
    "duration": 11,
    "start_time": "2022-12-30T11:03:06.868Z"
   },
   {
    "duration": 17,
    "start_time": "2022-12-30T11:03:06.881Z"
   },
   {
    "duration": 8,
    "start_time": "2022-12-30T11:03:06.901Z"
   },
   {
    "duration": 3,
    "start_time": "2022-12-30T11:03:06.911Z"
   },
   {
    "duration": 304,
    "start_time": "2022-12-30T11:03:06.916Z"
   },
   {
    "duration": 3,
    "start_time": "2022-12-30T11:03:07.221Z"
   },
   {
    "duration": 37,
    "start_time": "2022-12-30T11:03:07.226Z"
   },
   {
    "duration": 3,
    "start_time": "2022-12-30T11:03:07.265Z"
   },
   {
    "duration": 33,
    "start_time": "2022-12-30T11:03:07.278Z"
   },
   {
    "duration": 11,
    "start_time": "2022-12-30T11:05:38.980Z"
   },
   {
    "duration": 11,
    "start_time": "2022-12-30T11:07:47.471Z"
   },
   {
    "duration": 9,
    "start_time": "2022-12-30T11:08:03.294Z"
   },
   {
    "duration": 10,
    "start_time": "2022-12-30T11:08:08.527Z"
   },
   {
    "duration": 78,
    "start_time": "2022-12-30T11:10:58.473Z"
   },
   {
    "duration": 3,
    "start_time": "2022-12-30T11:12:55.731Z"
   },
   {
    "duration": 6,
    "start_time": "2022-12-30T11:14:29.885Z"
   },
   {
    "duration": 6,
    "start_time": "2022-12-30T11:21:19.422Z"
   },
   {
    "duration": 6,
    "start_time": "2022-12-30T11:22:12.600Z"
   },
   {
    "duration": 35,
    "start_time": "2022-12-30T11:22:16.732Z"
   },
   {
    "duration": 9,
    "start_time": "2022-12-30T11:22:16.769Z"
   },
   {
    "duration": 10,
    "start_time": "2022-12-30T11:22:16.780Z"
   },
   {
    "duration": 8,
    "start_time": "2022-12-30T11:22:16.791Z"
   },
   {
    "duration": 10,
    "start_time": "2022-12-30T11:22:16.801Z"
   },
   {
    "duration": 7,
    "start_time": "2022-12-30T11:22:16.813Z"
   },
   {
    "duration": 7,
    "start_time": "2022-12-30T11:22:16.821Z"
   },
   {
    "duration": 5,
    "start_time": "2022-12-30T11:22:16.830Z"
   },
   {
    "duration": 7,
    "start_time": "2022-12-30T11:22:16.837Z"
   },
   {
    "duration": 322,
    "start_time": "2022-12-30T11:22:16.845Z"
   },
   {
    "duration": 9,
    "start_time": "2022-12-30T11:22:17.169Z"
   },
   {
    "duration": 36,
    "start_time": "2022-12-30T11:22:17.180Z"
   },
   {
    "duration": 4,
    "start_time": "2022-12-30T11:22:17.217Z"
   },
   {
    "duration": 56,
    "start_time": "2022-12-30T11:22:17.223Z"
   },
   {
    "duration": 11,
    "start_time": "2022-12-30T11:22:17.281Z"
   },
   {
    "duration": 9,
    "start_time": "2022-12-30T11:22:17.293Z"
   },
   {
    "duration": 11,
    "start_time": "2022-12-30T11:22:17.304Z"
   },
   {
    "duration": 36,
    "start_time": "2022-12-30T12:14:21.333Z"
   },
   {
    "duration": 13,
    "start_time": "2022-12-30T12:14:21.371Z"
   },
   {
    "duration": 7,
    "start_time": "2022-12-30T12:14:21.386Z"
   },
   {
    "duration": 6,
    "start_time": "2022-12-30T12:14:21.396Z"
   },
   {
    "duration": 7,
    "start_time": "2022-12-30T12:14:21.404Z"
   },
   {
    "duration": 8,
    "start_time": "2022-12-30T12:14:21.412Z"
   },
   {
    "duration": 7,
    "start_time": "2022-12-30T12:14:21.422Z"
   },
   {
    "duration": 6,
    "start_time": "2022-12-30T12:14:21.431Z"
   },
   {
    "duration": 5,
    "start_time": "2022-12-30T12:14:21.439Z"
   },
   {
    "duration": 327,
    "start_time": "2022-12-30T12:14:21.447Z"
   },
   {
    "duration": 4,
    "start_time": "2022-12-30T12:14:21.775Z"
   },
   {
    "duration": 39,
    "start_time": "2022-12-30T12:14:21.780Z"
   },
   {
    "duration": 3,
    "start_time": "2022-12-30T12:14:21.821Z"
   },
   {
    "duration": 39,
    "start_time": "2022-12-30T12:14:21.825Z"
   },
   {
    "duration": 22,
    "start_time": "2022-12-30T12:14:21.866Z"
   },
   {
    "duration": 8,
    "start_time": "2022-12-30T12:14:21.890Z"
   },
   {
    "duration": 11,
    "start_time": "2022-12-30T12:14:21.900Z"
   }
  ],
  "kernelspec": {
   "display_name": "Python 3",
   "language": "python",
   "name": "python3"
  },
  "language_info": {
   "codemirror_mode": {
    "name": "ipython",
    "version": 3
   },
   "file_extension": ".py",
   "mimetype": "text/x-python",
   "name": "python",
   "nbconvert_exporter": "python",
   "pygments_lexer": "ipython3",
   "version": "3.10.10"
  },
  "toc": {
   "base_numbering": 1,
   "nav_menu": {},
   "number_sections": true,
   "sideBar": true,
   "skip_h1_title": true,
   "title_cell": "Table of Contents",
   "title_sidebar": "Contents",
   "toc_cell": false,
   "toc_position": {},
   "toc_section_display": true,
   "toc_window_display": false
  },
  "vscode": {
   "interpreter": {
    "hash": "68af10d8b2c64ff7816e06d2e5b7e9ab9cdf9486f86ae9f941788e95aa0a1fea"
   }
  }
 },
 "nbformat": 4,
 "nbformat_minor": 2
}
