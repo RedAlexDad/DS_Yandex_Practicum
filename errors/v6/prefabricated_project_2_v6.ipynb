{
 "cells": [
  {
   "cell_type": "markdown",
   "metadata": {},
   "source": [
    "<div style=\"border:solid Chocolate 2px; padding: 40px\">\n",
    "\n",
    "Привет, меня зовут Александр Куимов. Я буду ревьюером твоего проекта. Ты можешь обращаться ко мне на \"ты\"😏 Надеюсь, тебя также не смутит, если я буду обращаться к тебе на \"ты\", но если это неудобно, обязательно скажи об этом!\n",
    "\n",
    "Пожалуйста, не удаляй мои комментарии, они будут особенно полезны для нашей работы в случае повторной проверки проекта. \n",
    "\n",
    "Ты также можешь реагировать на мои комментарии своими по шаблону, показанному чуть ниже. Это нужно, чтобы не создавалась путаница😉\n",
    "\n",
    "Ты можешь найти мои комментарии, обозначенные <font color='green'>зеленым</font>, <font color='gold'>желтым</font> и <font color='red'>красным</font> цветами, например:\n",
    "\n",
    "<br/>\n",
    "\n",
    "<div class=\"alert alert-success\">\n",
    "<h2> Комментарий ревьюера <a class=\"tocSkip\"> </h2>\n",
    "\n",
    "<b>Все отлично!👍:</b> В случае, если решение на отдельном шаге является полностью правильным.\n",
    "</div>\n",
    "\n",
    "<br/>\n",
    "\n",
    "<div class=\"alert alert-warning\">\n",
    "    <h2> Комментарий ревьюера <a class=\"tocSkip\"> </h2>\n",
    "    \n",
    "<b>Некоторые замечания и рекомендации💡:</b> В случае, когда решение на отдельном шаге станет еще лучше, если внести небольшие коррективы.\n",
    "</div>\n",
    "\n",
    "\n",
    "<br/>\n",
    "<div class=\"alert alert-block alert-danger\">\n",
    "<h2> Комментарий ревьюера <a class=\"tocSkip\"></h2>\n",
    "\n",
    "    \n",
    "<b>На доработку🤔:</b>\n",
    " В случае, когда решение на отдельном шаге требует существенной переработки и внесения правок. Напоминаю, что проект не может быть принят с первого раза, если ревью содержит комментарии, рекомендующие доработать шаги.\n",
    "</div>\n",
    "    \n",
    "    \n",
    "<br/>    \n",
    "<div class=\"alert alert-info\">\n",
    "<h2> Комментарий студента: <a class=\"tocSkip\"> </h2>\n",
    "\n",
    "<b>👋:</b> В такой цветовой ячейке я прошу тебя оставлять свои комментарии. Если исправляешь проект на второй итерации и выше, не забывай пожалуйста указывать номер итерации, например, \"Комментарий студента v.2\".\n",
    "</div> \n",
    "\n",
    "<br/>    \n",
    "    \n",
    "Увидев у тебя неточность, в первый раз я лишь укажу на ее наличие и дам тебе возможность самому найти и исправить ее. На реальной работе твой руководитель будет поступать также, и я пытаюсь подготовить тебя именно к работе датасаентистом. Но если ты пока не справишься с такой задачей - при следующей проверке я дам более точную подсказку!🤓"
   ]
  },
  {
   "cell_type": "markdown",
   "metadata": {
    "toc": true
   },
   "source": [
    "<h1>Содержание<span class=\"tocSkip\"></span></h1>\n",
    "<div class=\"toc\"><ul class=\"toc-item\"><li><span><a href=\"#Подготовка-данных\" data-toc-modified-id=\"Подготовка-данных-1\"><span class=\"toc-item-num\">1&nbsp;&nbsp;</span>Подготовка данных</a></span><ul class=\"toc-item\"><li><span><a href=\"#Введение-в-курс-дела\" data-toc-modified-id=\"Введение-в-курс-дела-1.1\"><span class=\"toc-item-num\">1.1&nbsp;&nbsp;</span>Введение в курс дела</a></span></li><li><span><a href=\"#Приступление-к-проекту.-Открываем-файлы-и-изучаем-их.\" data-toc-modified-id=\"Приступление-к-проекту.-Открываем-файлы-и-изучаем-их.-1.2\"><span class=\"toc-item-num\">1.2&nbsp;&nbsp;</span>Приступление к проекту. Открываем файлы и изучаем их.</a></span></li><li><span><a href=\"#Проверим,-что-эффективность-обогащения-рассчитана-правильно.-Вычислим-её-на-обучающей-выборке-для-признака-rougher.output.recovery.-Найдем-MAE-между-нашими-расчётами-и-значением-признака.-Опишим-выводы.\" data-toc-modified-id=\"Проверим,-что-эффективность-обогащения-рассчитана-правильно.-Вычислим-её-на-обучающей-выборке-для-признака-rougher.output.recovery.-Найдем-MAE-между-нашими-расчётами-и-значением-признака.-Опишим-выводы.-1.3\"><span class=\"toc-item-num\">1.3&nbsp;&nbsp;</span>Проверим, что эффективность обогащения рассчитана правильно. Вычислим её на обучающей выборке для признака <code>rougher.output.recovery</code>. Найдем MAE между нашими расчётами и значением признака. Опишим выводы.</a></span><ul class=\"toc-item\"><li><span><a href=\"#Проверим-на-расчет-эффективности-обогащения\" data-toc-modified-id=\"Проверим-на-расчет-эффективности-обогащения-1.3.1\"><span class=\"toc-item-num\">1.3.1&nbsp;&nbsp;</span>Проверим на расчет эффективности обогащения</a></span></li><li><span><a href=\"#Находим-MAE-между-нашими-расчетами-и-значением-признака\" data-toc-modified-id=\"Находим-MAE-между-нашими-расчетами-и-значением-признака-1.3.2\"><span class=\"toc-item-num\">1.3.2&nbsp;&nbsp;</span>Находим MAE между нашими расчетами и значением признака</a></span></li><li><span><a href=\"#Проанализируйте-признаки,-недоступные-в-тестовой-выборке.-Что-это-за-параметры?-К-какому-типу-относятся?\" data-toc-modified-id=\"Проанализируйте-признаки,-недоступные-в-тестовой-выборке.-Что-это-за-параметры?-К-какому-типу-относятся?-1.3.3\"><span class=\"toc-item-num\">1.3.3&nbsp;&nbsp;</span>Проанализируйте признаки, недоступные в тестовой выборке. Что это за параметры? К какому типу относятся?</a></span></li></ul></li><li><span><a href=\"#Предобработка-данных-уже-проведены,-пропуски-удалены,-дублирующие-значения-отсутствуют\" data-toc-modified-id=\"Предобработка-данных-уже-проведены,-пропуски-удалены,-дублирующие-значения-отсутствуют-1.4\"><span class=\"toc-item-num\">1.4&nbsp;&nbsp;</span>Предобработка данных уже проведены, пропуски удалены, дублирующие значения отсутствуют</a></span></li></ul></li><li><span><a href=\"#Анализ-данных\" data-toc-modified-id=\"Анализ-данных-2\"><span class=\"toc-item-num\">2&nbsp;&nbsp;</span>Анализ данных</a></span><ul class=\"toc-item\"><li><span><a href=\"#Посмотрим,-как-меняется-концентрация-металлов-(Au,-Ag,-Pb)-на-различных-этапах-очистки\" data-toc-modified-id=\"Посмотрим,-как-меняется-концентрация-металлов-(Au,-Ag,-Pb)-на-различных-этапах-очистки-2.1\"><span class=\"toc-item-num\">2.1&nbsp;&nbsp;</span>Посмотрим, как меняется концентрация металлов (Au, Ag, Pb) на различных этапах очистки</a></span><ul class=\"toc-item\"><li><span><a href=\"#Золото\" data-toc-modified-id=\"Золото-2.1.1\"><span class=\"toc-item-num\">2.1.1&nbsp;&nbsp;</span>Золото</a></span></li><li><span><a href=\"#Серебро\" data-toc-modified-id=\"Серебро-2.1.2\"><span class=\"toc-item-num\">2.1.2&nbsp;&nbsp;</span>Серебро</a></span></li><li><span><a href=\"#Свинец\" data-toc-modified-id=\"Свинец-2.1.3\"><span class=\"toc-item-num\">2.1.3&nbsp;&nbsp;</span>Свинец</a></span></li></ul></li><li><span><a href=\"#Рассмотрим-график-суммарную-концентрацию-всех-веществах-на-4-различных-стадиях:-до-флотации,-после-флотации,-первого-и-второго-этапа-очистки\" data-toc-modified-id=\"Рассмотрим-график-суммарную-концентрацию-всех-веществах-на-4-различных-стадиях:-до-флотации,-после-флотации,-первого-и-второго-этапа-очистки-2.2\"><span class=\"toc-item-num\">2.2&nbsp;&nbsp;</span>Рассмотрим график суммарную концентрацию всех веществах на 4 различных стадиях: до флотации, после флотации, первого и второго этапа очистки</a></span></li><li><span><a href=\"#Сравним-распределения-размеров-гранул-сырья-на-обучающей-и-тестовой-выборках.-Если-распределения-сильно-отличаются-друг-от-друга,-оценка-модели-будет-неправильной\" data-toc-modified-id=\"Сравним-распределения-размеров-гранул-сырья-на-обучающей-и-тестовой-выборках.-Если-распределения-сильно-отличаются-друг-от-друга,-оценка-модели-будет-неправильной-2.3\"><span class=\"toc-item-num\">2.3&nbsp;&nbsp;</span>Сравним распределения размеров гранул сырья на обучающей и тестовой выборках. Если распределения сильно отличаются друг от друга, оценка модели будет неправильной</a></span><ul class=\"toc-item\"><li><span><a href=\"#Рассмотрим-размер-гранул-до-флотации\" data-toc-modified-id=\"Рассмотрим-размер-гранул-до-флотации-2.3.1\"><span class=\"toc-item-num\">2.3.1&nbsp;&nbsp;</span>Рассмотрим размер гранул до флотации</a></span></li><li><span><a href=\"#Рассмотрим-размер-гранул-до-первого-очистки-(после-флотации)\" data-toc-modified-id=\"Рассмотрим-размер-гранул-до-первого-очистки-(после-флотации)-2.3.2\"><span class=\"toc-item-num\">2.3.2&nbsp;&nbsp;</span>Рассмотрим размер гранул до первого очистки (после флотации)</a></span></li></ul></li><li><span><a href=\"#Исследуем-график,-который-рассчитывает-суммарную-концентрацию-по-исходному-сырью\" data-toc-modified-id=\"Исследуем-график,-который-рассчитывает-суммарную-концентрацию-по-исходному-сырью-2.4\"><span class=\"toc-item-num\">2.4&nbsp;&nbsp;</span>Исследуем график, который рассчитывает суммарную концентрацию по исходному сырью</a></span></li><li><span><a href=\"#Проверка-на-пропущенные-значения\" data-toc-modified-id=\"Проверка-на-пропущенные-значения-2.5\"><span class=\"toc-item-num\">2.5&nbsp;&nbsp;</span>Проверка на пропущенные значения</a></span></li></ul></li><li><span><a href=\"#Модель\" data-toc-modified-id=\"Модель-3\"><span class=\"toc-item-num\">3&nbsp;&nbsp;</span>Модель</a></span><ul class=\"toc-item\"><li><span><a href=\"#Напишем-функцию-для-вычисления-итоговой-sMAPE\" data-toc-modified-id=\"Напишем-функцию-для-вычисления-итоговой-sMAPE-3.1\"><span class=\"toc-item-num\">3.1&nbsp;&nbsp;</span>Напишем функцию для вычисления итоговой sMAPE</a></span></li><li><span><a href=\"#Обучим-разные-модели-и-оцените-их-качество-кросс-валидацией.-Выберим-лучшую-модель-и-проверим-её-на-тестовой-выборке\" data-toc-modified-id=\"Обучим-разные-модели-и-оцените-их-качество-кросс-валидацией.-Выберим-лучшую-модель-и-проверим-её-на-тестовой-выборке-3.2\"><span class=\"toc-item-num\">3.2&nbsp;&nbsp;</span>Обучим разные модели и оцените их качество кросс-валидацией. Выберим лучшую модель и проверим её на тестовой выборке</a></span><ul class=\"toc-item\"><li><span><a href=\"#Обучение-и-проверка-модели\" data-toc-modified-id=\"Обучение-и-проверка-модели-3.2.1\"><span class=\"toc-item-num\">3.2.1&nbsp;&nbsp;</span>Обучение и проверка модели</a></span></li><li><span><a href=\"#Линейная-регрессия-с-кроссвалидацией\" data-toc-modified-id=\"Линейная-регрессия-с-кроссвалидацией-3.2.2\"><span class=\"toc-item-num\">3.2.2&nbsp;&nbsp;</span>Линейная регрессия с кроссвалидацией</a></span></li><li><span><a href=\"#Решающее-дерево-с-кроссвалидацией\" data-toc-modified-id=\"Решающее-дерево-с-кроссвалидацией-3.2.3\"><span class=\"toc-item-num\">3.2.3&nbsp;&nbsp;</span>Решающее дерево с кроссвалидацией</a></span></li><li><span><a href=\"#Случайный-лес-с-кроссвалидацией\" data-toc-modified-id=\"Случайный-лес-с-кроссвалидацией-3.2.4\"><span class=\"toc-item-num\">3.2.4&nbsp;&nbsp;</span>Случайный лес с кроссвалидацией</a></span></li></ul></li><li><span><a href=\"#Проверим-на-тестовой-выборке\" data-toc-modified-id=\"Проверим-на-тестовой-выборке-3.3\"><span class=\"toc-item-num\">3.3&nbsp;&nbsp;</span>Проверим на тестовой выборке</a></span><ul class=\"toc-item\"><li><span><a href=\"#Обучим-модель-на-обучающей-выборке,-чтобы-получить-предсказания-на-тестовой-выборки\" data-toc-modified-id=\"Обучим-модель-на-обучающей-выборке,-чтобы-получить-предсказания-на-тестовой-выборки-3.3.1\"><span class=\"toc-item-num\">3.3.1&nbsp;&nbsp;</span>Обучим модель на обучающей выборке, чтобы получить предсказания на тестовой выборки</a></span></li><li><span><a href=\"#Проверим-на-тестовой-выборки\" data-toc-modified-id=\"Проверим-на-тестовой-выборки-3.3.2\"><span class=\"toc-item-num\">3.3.2&nbsp;&nbsp;</span>Проверим на тестовой выборки</a></span></li><li><span><a href=\"#Константная-модель\" data-toc-modified-id=\"Константная-модель-3.3.3\"><span class=\"toc-item-num\">3.3.3&nbsp;&nbsp;</span>Константная модель</a></span></li></ul></li></ul></li><li><span><a href=\"#Выводы\" data-toc-modified-id=\"Выводы-4\"><span class=\"toc-item-num\">4&nbsp;&nbsp;</span>Выводы</a></span></li><li><span><a href=\"#Чек-лист-готовности-проекта\" data-toc-modified-id=\"Чек-лист-готовности-проекта-5\"><span class=\"toc-item-num\">5&nbsp;&nbsp;</span>Чек-лист готовности проекта</a></span></li></ul></div>"
   ]
  },
  {
   "cell_type": "markdown",
   "metadata": {},
   "source": [
    "# Восстановление золота из руды"
   ]
  },
  {
   "cell_type": "markdown",
   "metadata": {},
   "source": [
    "Подготовьте прототип модели машинного обучения для «Цифры». Компания разрабатывает решения для эффективной работы промышленных предприятий.\n",
    "\n",
    "Модель должна предсказать коэффициент восстановления золота из золотосодержащей руды. Используйте данные с параметрами добычи и очистки. \n",
    "\n",
    "Модель поможет оптимизировать производство, чтобы не запускать предприятие с убыточными характеристиками.\n",
    "\n",
    "Вам нужно:\n",
    "\n",
    "1. Подготовить данные;\n",
    "2. Провести исследовательский анализ данных;\n",
    "3. Построить и обучить модель.\n",
    "\n",
    "Чтобы выполнить проект, обращайтесь к библиотекам *pandas*, *matplotlib* и *sklearn.* Вам поможет их документация."
   ]
  },
  {
   "cell_type": "markdown",
   "metadata": {},
   "source": [
    "## Подготовка данных"
   ]
  },
  {
   "cell_type": "markdown",
   "metadata": {},
   "source": [
    "### Введение в курс дела"
   ]
  },
  {
   "cell_type": "markdown",
   "metadata": {},
   "source": [
    "**1. Флотация**\n",
    "\n",
    "Во флотационную установку подаётся смесь золотосодержащей руды. После обогащения получается черновой концентрат и «отвальные хвосты», то есть остатки продукта с низкой концентрацией ценных металлов.\n",
    "На стабильность этого процесса влияет непостоянное и неоптимальное физико-химическое состояние флотационной пульпы (смеси твёрдых частиц и жидкости).\n",
    "\n",
    "Химические элементы:\n",
    "- ag - серебро\n",
    "- pb - свинец\n",
    "- sol - сульфат (сульфид натрия)\n",
    "- au - золото\n",
    "\n",
    "**2. Очистка**\n",
    "\n",
    "Черновой концентрат проходит две очистки. На выходе получается финальный концентрат и новые отвальные хвосты."
   ]
  },
  {
   "cell_type": "markdown",
   "metadata": {},
   "source": [
    "- **Описание данных**\n",
    "\n",
    "    - _**Технологический процесс**_\n",
    "        - Rougher feed — исходное сырье\n",
    "        - Rougher additions (или reagent additions) — флотационные реагенты: Xanthate, Sulphate, Depressant\n",
    "        - Xanthate **— ксантогенат (промотер, или активатор флотации);\n",
    "        - Sulphate — сульфат (на данном производстве сульфид натрия);\n",
    "        - Depressant — депрессант (силикат натрия).\n",
    "        - Rougher process (англ. «грубый процесс») — флотация\n",
    "        - Rougher tails — отвальные хвосты\n",
    "        - Float banks — флотационная установка\n",
    "        - Cleaner process — очистка\n",
    "        - Rougher Au — черновой концентрат золота\n",
    "        - Final Au — финальный концентрат золота\n",
    "    - _**Параметры этапов**_\n",
    "        - air amount — объём воздуха\n",
    "        - fluid levels — уровень жидкости\n",
    "        - feed size — размер гранул сырья\n",
    "        - feed rate — скорость подачи"
   ]
  },
  {
   "cell_type": "markdown",
   "metadata": {},
   "source": [
    "**Наименование признаков**\n",
    "\n",
    "Наименование признаков должно быть такое:\n",
    "\n",
    "**[этап].[тип_параметра].[название_параметра]**\n",
    "\n",
    "Пример: ``` rougher.input.feed_ag ```\n",
    "\n",
    "- Возможные значения для блока [этап]:\n",
    "    - rougher — флотация\n",
    "    - primary_cleaner — первичная очистка\n",
    "    - secondary_cleaner — вторичная очистка\n",
    "    - final — финальные характеристики\n",
    "    \n",
    "    \n",
    "- Возможные значения для блока [тип_параметра]:\n",
    "    - input — параметры сырья\n",
    "    - output — параметры продукта\n",
    "    - state — параметры, характеризующие текущее состояние этапа\n",
    "    - calculation — расчётные характеристики"
   ]
  },
  {
   "cell_type": "markdown",
   "metadata": {},
   "source": [
    "**Расчёт эффективности**\n",
    "\n",
    "Вам нужно смоделировать процесс восстановления золота из золотосодержащей руды. \n",
    "\n",
    "Эффективность обогащения рассчитывается по формуле"
   ]
  },
  {
   "attachments": {
    "image.png": {
     "image/png": "[encoded data removed]"
    }
   },
   "cell_type": "markdown",
   "metadata": {},
   "source": [
    "![image.png](attachment:image.png)"
   ]
  },
  {
   "cell_type": "markdown",
   "metadata": {},
   "source": [
    "**RECOVERY = (C * (F - T)) / (F * (C - T)) * 100%**\n",
    "\n",
    "где:\n",
    "- C — доля золота в концентрате после флотации/очистки;\n",
    "- F — доля золота в сырье/концентрате до флотации/очистки;\n",
    "- T — доля золота в отвальных хвостах после флотации/очистки.\n",
    "\n",
    "Для прогноза коэффициента нужно найти долю золота в концентратах и хвостах. Причём важен не только финальный продукт, но и черновой концентрат."
   ]
  },
  {
   "cell_type": "markdown",
   "metadata": {},
   "source": [
    "**Метрика качества**\n",
    "\n",
    "Для решения задачи введём новую метрику качества — sMAPE (англ. Symmetric Mean Absolute Percentage Error, «симметричное среднее абсолютное процентное отклонение»).\n",
    "\n",
    "Она похожа на MAE, но выражается не в абсолютных величинах, а в относительных. Почему симметричная? Она одинаково учитывает масштаб и целевого признака, и предсказания.\n",
    "\n",
    "Метрика sMAPE вычисляется так:\n"
   ]
  },
  {
   "attachments": {
    "image.png": {
     "image/png": "[encoded data removed]"
    }
   },
   "cell_type": "markdown",
   "metadata": {},
   "source": [
    "![image.png](attachment:image.png)"
   ]
  },
  {
   "attachments": {
    "image.png": {
     "image/png": "[encoded data removed]"
    }
   },
   "cell_type": "markdown",
   "metadata": {},
   "source": [
    "Обозначения:\n",
    "![image.png](attachment:image.png)\n",
    "Значение целевого признака для объекта с порядковым номером i в выборке, на которой измеряется качество."
   ]
  },
  {
   "attachments": {
    "image.png": {
     "image/png": "[encoded data removed]"
    }
   },
   "cell_type": "markdown",
   "metadata": {},
   "source": [
    "![image.png](attachment:image.png)\n",
    "Значение предсказания для объекта с порядковым номером i, например, в тестовой выборке."
   ]
  },
  {
   "attachments": {
    "image.png": {
     "image/png": "[encoded data removed]"
    }
   },
   "cell_type": "markdown",
   "metadata": {},
   "source": [
    "![image.png](attachment:image.png)\n",
    "Количество объектов в выборке."
   ]
  },
  {
   "attachments": {
    "image.png": {
     "image/png": "[encoded data removed]"
    }
   },
   "cell_type": "markdown",
   "metadata": {},
   "source": [
    "![image.png](attachment:image.png)\n",
    "Суммирование по всем объектам выборки (i меняется от 1 до N)."
   ]
  },
  {
   "cell_type": "markdown",
   "metadata": {},
   "source": [
    "Нужно спрогнозировать сразу две величины:\n",
    "1. эффективность обогащения чернового концентрата ```rougher.output.recovery;```\n",
    "\n",
    "2. эффективность обогащения финального концентрата ```final.output.recovery.```\n",
    "\n",
    "Итоговая метрика складывается из двух величин:"
   ]
  },
  {
   "attachments": {
    "image.png": {
     "image/png": "[encoded data removed]"
    }
   },
   "cell_type": "markdown",
   "metadata": {},
   "source": [
    "![image.png](attachment:image.png)"
   ]
  },
  {
   "cell_type": "markdown",
   "metadata": {},
   "source": [
    "Данные находятся в трёх файлах:\n",
    "- ```gold_recovery_train_new.csv``` — обучающая выборка;\n",
    "- ```gold_recovery_test_new.csv``` — тестовая выборка;\n",
    "- ```gold_recovery_full_new.csv``` — исходные данные.\n",
    "\n",
    "Данные индексируются датой и временем получения информации (признак ```date```). Соседние по времени параметры часто похожи.\n",
    "\n",
    "Некоторые параметры недоступны, потому что замеряются и/или рассчитываются значительно позже. Из-за этого в тестовой выборке отсутствуют некоторые признаки, которые могут быть в обучающей. Также в тестовом наборе нет целевых признаков.\n",
    "\n",
    "Исходный датасет содержит обучающую и тестовую выборки со всеми признаками.\n",
    "\n",
    "В вашем распоряжении сырые данные: их просто выгрузили из хранилища. Прежде чем приступить к построению модели, проверьте по нашей инструкции их на корректность."
   ]
  },
  {
   "cell_type": "markdown",
   "metadata": {},
   "source": [
    "<div class=\"alert alert-success\">\n",
    "<h2> Комментарий ревьюера <a class=\"tocSkip\"> </h2>\n",
    " \n",
    "<b>Все отлично!👍:</b> \n",
    "    \n",
    "Вижу твое добавленное описание проекта. Молодец! Это поможет тебе расставлять акценты в выводах."
   ]
  },
  {
   "cell_type": "markdown",
   "metadata": {},
   "source": [
    "### Приступление к проекту. Открываем файлы и изучаем их."
   ]
  },
  {
   "cell_type": "code",
   "execution_count": 295,
   "metadata": {},
   "outputs": [],
   "source": [
    "# Подключаем все необходимые библиотеки\n",
    "import pandas as pd\n",
    "import numpy as np\n",
    "import matplotlib.pyplot as plt\n",
    "import seaborn as sb\n",
    "from scipy import stats as st\n",
    "\n",
    "# Разбиение на обучающую, валидационную и тестовую выборку\n",
    "from sklearn.model_selection import train_test_split, GridSearchCV, cross_val_score, cross_val_predict\n",
    "# Применим кроссвалидацию для повышения качеств обучения\n",
    "# Для константной модели\n",
    "from sklearn.dummy import DummyRegressor\n",
    "\n",
    "# Масштабируемость модели\n",
    "from sklearn.preprocessing import StandardScaler\n",
    "\n",
    "from sklearn.metrics import fbeta_score, make_scorer\n",
    "\n",
    "# и для машинного обучения разными способами (по условию мы выбираем линейную регрессию):\n",
    "from sklearn.ensemble import RandomForestRegressor\n",
    "from sklearn.linear_model import LinearRegression, LogisticRegression\n",
    "from sklearn.tree import DecisionTreeRegressor\n",
    "\n",
    "from sklearn.metrics import mean_squared_error\n",
    "from sklearn.metrics import (\n",
    "    # Точность модели\n",
    "    accuracy_score,\n",
    "    # Матрицы ошибок (для борьбы с дисбалансом)\n",
    "    confusion_matrix, \n",
    "    # Полнота\n",
    "    recall_score, \n",
    "    # Точность\n",
    "    precision_score, \n",
    "    # F1-мера\n",
    "    f1_score,\n",
    "    # Метрика AUC-ROC\n",
    "    roc_auc_score,\n",
    "    roc_curve,\n",
    "    # MSE\n",
    "    mean_squared_error,\n",
    "    mean_absolute_error\n",
    ")\n",
    "\n",
    "# Контроль выборки\n",
    "from sklearn.utils import shuffle"
   ]
  },
  {
   "cell_type": "code",
   "execution_count": 296,
   "metadata": {},
   "outputs": [],
   "source": [
    "# Получаем датасеты\n",
    "try:\n",
    "    # С Яндекса сервера\n",
    "    try:\n",
    "        # Обучающая выборка\n",
    "        df_train = pd.read_csv('/datasets/gold_recovery_train_new.csv')\n",
    "        # Тестовая выборка\n",
    "        df_test = pd.read_csv('/datasets/gold_recovery_test_new.csv')\n",
    "        # Исходные данные\n",
    "        df_full = pd.read_csv('/datasets/gold_recovery_full_new.csv')\n",
    "    # Локальный файл\n",
    "    except:\n",
    "        # Обучающая выборка\n",
    "        df_train = pd.read_csv('gold_recovery_train_new.csv')\n",
    "        # Тестовая выборка\n",
    "        df_test = pd.read_csv('gold_recovery_test_new.csv')\n",
    "        # Исходные данные\n",
    "        df_full = pd.read_csv('gold_recovery_full_new.csv')\n",
    "except:\n",
    "    print('Отсутствует датасет. Проверьте путь файла')"
   ]
  },
  {
   "cell_type": "markdown",
   "metadata": {},
   "source": [
    "Узнаем содержимое"
   ]
  },
  {
   "cell_type": "code",
   "execution_count": 297,
   "metadata": {
    "scrolled": true
   },
   "outputs": [
    {
     "name": "stdout",
     "output_type": "stream",
     "text": [
      "<class 'pandas.core.frame.DataFrame'>\n",
      "RangeIndex: 14149 entries, 0 to 14148\n",
      "Data columns (total 87 columns):\n",
      " #   Column                                              Non-Null Count  Dtype  \n",
      "---  ------                                              --------------  -----  \n",
      " 0   date                                                14149 non-null  object \n",
      " 1   final.output.concentrate_ag                         14148 non-null  float64\n",
      " 2   final.output.concentrate_pb                         14148 non-null  float64\n",
      " 3   final.output.concentrate_sol                        13938 non-null  float64\n",
      " 4   final.output.concentrate_au                         14149 non-null  float64\n",
      " 5   final.output.recovery                               14149 non-null  float64\n",
      " 6   final.output.tail_ag                                14149 non-null  float64\n",
      " 7   final.output.tail_pb                                14049 non-null  float64\n",
      " 8   final.output.tail_sol                               14144 non-null  float64\n",
      " 9   final.output.tail_au                                14149 non-null  float64\n",
      " 10  primary_cleaner.input.sulfate                       14129 non-null  float64\n",
      " 11  primary_cleaner.input.depressant                    14117 non-null  float64\n",
      " 12  primary_cleaner.input.feed_size                     14149 non-null  float64\n",
      " 13  primary_cleaner.input.xanthate                      14049 non-null  float64\n",
      " 14  primary_cleaner.output.concentrate_ag               14149 non-null  float64\n",
      " 15  primary_cleaner.output.concentrate_pb               14063 non-null  float64\n",
      " 16  primary_cleaner.output.concentrate_sol              13863 non-null  float64\n",
      " 17  primary_cleaner.output.concentrate_au               14149 non-null  float64\n",
      " 18  primary_cleaner.output.tail_ag                      14148 non-null  float64\n",
      " 19  primary_cleaner.output.tail_pb                      14134 non-null  float64\n",
      " 20  primary_cleaner.output.tail_sol                     14103 non-null  float64\n",
      " 21  primary_cleaner.output.tail_au                      14149 non-null  float64\n",
      " 22  primary_cleaner.state.floatbank8_a_air              14145 non-null  float64\n",
      " 23  primary_cleaner.state.floatbank8_a_level            14148 non-null  float64\n",
      " 24  primary_cleaner.state.floatbank8_b_air              14145 non-null  float64\n",
      " 25  primary_cleaner.state.floatbank8_b_level            14148 non-null  float64\n",
      " 26  primary_cleaner.state.floatbank8_c_air              14147 non-null  float64\n",
      " 27  primary_cleaner.state.floatbank8_c_level            14148 non-null  float64\n",
      " 28  primary_cleaner.state.floatbank8_d_air              14146 non-null  float64\n",
      " 29  primary_cleaner.state.floatbank8_d_level            14148 non-null  float64\n",
      " 30  rougher.calculation.sulfate_to_au_concentrate       14148 non-null  float64\n",
      " 31  rougher.calculation.floatbank10_sulfate_to_au_feed  14148 non-null  float64\n",
      " 32  rougher.calculation.floatbank11_sulfate_to_au_feed  14148 non-null  float64\n",
      " 33  rougher.calculation.au_pb_ratio                     14149 non-null  float64\n",
      " 34  rougher.input.feed_ag                               14149 non-null  float64\n",
      " 35  rougher.input.feed_pb                               14049 non-null  float64\n",
      " 36  rougher.input.feed_rate                             14141 non-null  float64\n",
      " 37  rougher.input.feed_size                             14005 non-null  float64\n",
      " 38  rougher.input.feed_sol                              14071 non-null  float64\n",
      " 39  rougher.input.feed_au                               14149 non-null  float64\n",
      " 40  rougher.input.floatbank10_sulfate                   14120 non-null  float64\n",
      " 41  rougher.input.floatbank10_xanthate                  14141 non-null  float64\n",
      " 42  rougher.input.floatbank11_sulfate                   14113 non-null  float64\n",
      " 43  rougher.input.floatbank11_xanthate                  13721 non-null  float64\n",
      " 44  rougher.output.concentrate_ag                       14149 non-null  float64\n",
      " 45  rougher.output.concentrate_pb                       14149 non-null  float64\n",
      " 46  rougher.output.concentrate_sol                      14127 non-null  float64\n",
      " 47  rougher.output.concentrate_au                       14149 non-null  float64\n",
      " 48  rougher.output.recovery                             14149 non-null  float64\n",
      " 49  rougher.output.tail_ag                              14148 non-null  float64\n",
      " 50  rougher.output.tail_pb                              14149 non-null  float64\n",
      " 51  rougher.output.tail_sol                             14149 non-null  float64\n",
      " 52  rougher.output.tail_au                              14149 non-null  float64\n",
      " 53  rougher.state.floatbank10_a_air                     14148 non-null  float64\n",
      " 54  rougher.state.floatbank10_a_level                   14148 non-null  float64\n",
      " 55  rougher.state.floatbank10_b_air                     14148 non-null  float64\n",
      " 56  rougher.state.floatbank10_b_level                   14148 non-null  float64\n",
      " 57  rougher.state.floatbank10_c_air                     14148 non-null  float64\n",
      " 58  rougher.state.floatbank10_c_level                   14148 non-null  float64\n",
      " 59  rougher.state.floatbank10_d_air                     14149 non-null  float64\n",
      " 60  rougher.state.floatbank10_d_level                   14149 non-null  float64\n",
      " 61  rougher.state.floatbank10_e_air                     13713 non-null  float64\n",
      " 62  rougher.state.floatbank10_e_level                   14149 non-null  float64\n",
      " 63  rougher.state.floatbank10_f_air                     14149 non-null  float64\n",
      " 64  rougher.state.floatbank10_f_level                   14149 non-null  float64\n",
      " 65  secondary_cleaner.output.tail_ag                    14147 non-null  float64\n",
      " 66  secondary_cleaner.output.tail_pb                    14139 non-null  float64\n",
      " 67  secondary_cleaner.output.tail_sol                   12544 non-null  float64\n",
      " 68  secondary_cleaner.output.tail_au                    14149 non-null  float64\n",
      " 69  secondary_cleaner.state.floatbank2_a_air            13932 non-null  float64\n",
      " 70  secondary_cleaner.state.floatbank2_a_level          14148 non-null  float64\n",
      " 71  secondary_cleaner.state.floatbank2_b_air            14128 non-null  float64\n",
      " 72  secondary_cleaner.state.floatbank2_b_level          14148 non-null  float64\n",
      " 73  secondary_cleaner.state.floatbank3_a_air            14145 non-null  float64\n",
      " 74  secondary_cleaner.state.floatbank3_a_level          14148 non-null  float64\n",
      " 75  secondary_cleaner.state.floatbank3_b_air            14148 non-null  float64\n",
      " 76  secondary_cleaner.state.floatbank3_b_level          14148 non-null  float64\n",
      " 77  secondary_cleaner.state.floatbank4_a_air            14143 non-null  float64\n",
      " 78  secondary_cleaner.state.floatbank4_a_level          14148 non-null  float64\n",
      " 79  secondary_cleaner.state.floatbank4_b_air            14148 non-null  float64\n",
      " 80  secondary_cleaner.state.floatbank4_b_level          14148 non-null  float64\n",
      " 81  secondary_cleaner.state.floatbank5_a_air            14148 non-null  float64\n",
      " 82  secondary_cleaner.state.floatbank5_a_level          14148 non-null  float64\n",
      " 83  secondary_cleaner.state.floatbank5_b_air            14148 non-null  float64\n",
      " 84  secondary_cleaner.state.floatbank5_b_level          14148 non-null  float64\n",
      " 85  secondary_cleaner.state.floatbank6_a_air            14147 non-null  float64\n",
      " 86  secondary_cleaner.state.floatbank6_a_level          14148 non-null  float64\n",
      "dtypes: float64(86), object(1)\n",
      "memory usage: 9.4+ MB\n"
     ]
    }
   ],
   "source": [
    "df_train.info()"
   ]
  },
  {
   "cell_type": "code",
   "execution_count": 298,
   "metadata": {
    "scrolled": true
   },
   "outputs": [
    {
     "name": "stdout",
     "output_type": "stream",
     "text": [
      "<class 'pandas.core.frame.DataFrame'>\n",
      "RangeIndex: 5290 entries, 0 to 5289\n",
      "Data columns (total 53 columns):\n",
      " #   Column                                      Non-Null Count  Dtype  \n",
      "---  ------                                      --------------  -----  \n",
      " 0   date                                        5290 non-null   object \n",
      " 1   primary_cleaner.input.sulfate               5286 non-null   float64\n",
      " 2   primary_cleaner.input.depressant            5285 non-null   float64\n",
      " 3   primary_cleaner.input.feed_size             5290 non-null   float64\n",
      " 4   primary_cleaner.input.xanthate              5286 non-null   float64\n",
      " 5   primary_cleaner.state.floatbank8_a_air      5290 non-null   float64\n",
      " 6   primary_cleaner.state.floatbank8_a_level    5290 non-null   float64\n",
      " 7   primary_cleaner.state.floatbank8_b_air      5290 non-null   float64\n",
      " 8   primary_cleaner.state.floatbank8_b_level    5290 non-null   float64\n",
      " 9   primary_cleaner.state.floatbank8_c_air      5290 non-null   float64\n",
      " 10  primary_cleaner.state.floatbank8_c_level    5290 non-null   float64\n",
      " 11  primary_cleaner.state.floatbank8_d_air      5290 non-null   float64\n",
      " 12  primary_cleaner.state.floatbank8_d_level    5290 non-null   float64\n",
      " 13  rougher.input.feed_ag                       5290 non-null   float64\n",
      " 14  rougher.input.feed_pb                       5290 non-null   float64\n",
      " 15  rougher.input.feed_rate                     5287 non-null   float64\n",
      " 16  rougher.input.feed_size                     5289 non-null   float64\n",
      " 17  rougher.input.feed_sol                      5269 non-null   float64\n",
      " 18  rougher.input.feed_au                       5290 non-null   float64\n",
      " 19  rougher.input.floatbank10_sulfate           5285 non-null   float64\n",
      " 20  rougher.input.floatbank10_xanthate          5290 non-null   float64\n",
      " 21  rougher.input.floatbank11_sulfate           5282 non-null   float64\n",
      " 22  rougher.input.floatbank11_xanthate          5265 non-null   float64\n",
      " 23  rougher.state.floatbank10_a_air             5290 non-null   float64\n",
      " 24  rougher.state.floatbank10_a_level           5290 non-null   float64\n",
      " 25  rougher.state.floatbank10_b_air             5290 non-null   float64\n",
      " 26  rougher.state.floatbank10_b_level           5290 non-null   float64\n",
      " 27  rougher.state.floatbank10_c_air             5290 non-null   float64\n",
      " 28  rougher.state.floatbank10_c_level           5290 non-null   float64\n",
      " 29  rougher.state.floatbank10_d_air             5290 non-null   float64\n",
      " 30  rougher.state.floatbank10_d_level           5290 non-null   float64\n",
      " 31  rougher.state.floatbank10_e_air             5290 non-null   float64\n",
      " 32  rougher.state.floatbank10_e_level           5290 non-null   float64\n",
      " 33  rougher.state.floatbank10_f_air             5290 non-null   float64\n",
      " 34  rougher.state.floatbank10_f_level           5290 non-null   float64\n",
      " 35  secondary_cleaner.state.floatbank2_a_air    5287 non-null   float64\n",
      " 36  secondary_cleaner.state.floatbank2_a_level  5290 non-null   float64\n",
      " 37  secondary_cleaner.state.floatbank2_b_air    5288 non-null   float64\n",
      " 38  secondary_cleaner.state.floatbank2_b_level  5290 non-null   float64\n",
      " 39  secondary_cleaner.state.floatbank3_a_air    5281 non-null   float64\n",
      " 40  secondary_cleaner.state.floatbank3_a_level  5290 non-null   float64\n",
      " 41  secondary_cleaner.state.floatbank3_b_air    5290 non-null   float64\n",
      " 42  secondary_cleaner.state.floatbank3_b_level  5290 non-null   float64\n",
      " 43  secondary_cleaner.state.floatbank4_a_air    5290 non-null   float64\n",
      " 44  secondary_cleaner.state.floatbank4_a_level  5290 non-null   float64\n",
      " 45  secondary_cleaner.state.floatbank4_b_air    5290 non-null   float64\n",
      " 46  secondary_cleaner.state.floatbank4_b_level  5290 non-null   float64\n",
      " 47  secondary_cleaner.state.floatbank5_a_air    5290 non-null   float64\n",
      " 48  secondary_cleaner.state.floatbank5_a_level  5290 non-null   float64\n",
      " 49  secondary_cleaner.state.floatbank5_b_air    5290 non-null   float64\n",
      " 50  secondary_cleaner.state.floatbank5_b_level  5290 non-null   float64\n",
      " 51  secondary_cleaner.state.floatbank6_a_air    5290 non-null   float64\n",
      " 52  secondary_cleaner.state.floatbank6_a_level  5290 non-null   float64\n",
      "dtypes: float64(52), object(1)\n",
      "memory usage: 2.1+ MB\n"
     ]
    }
   ],
   "source": [
    "df_test.info()"
   ]
  },
  {
   "cell_type": "code",
   "execution_count": 299,
   "metadata": {
    "scrolled": true
   },
   "outputs": [
    {
     "name": "stdout",
     "output_type": "stream",
     "text": [
      "<class 'pandas.core.frame.DataFrame'>\n",
      "RangeIndex: 19439 entries, 0 to 19438\n",
      "Data columns (total 87 columns):\n",
      " #   Column                                              Non-Null Count  Dtype  \n",
      "---  ------                                              --------------  -----  \n",
      " 0   date                                                19439 non-null  object \n",
      " 1   final.output.concentrate_ag                         19438 non-null  float64\n",
      " 2   final.output.concentrate_pb                         19438 non-null  float64\n",
      " 3   final.output.concentrate_sol                        19228 non-null  float64\n",
      " 4   final.output.concentrate_au                         19439 non-null  float64\n",
      " 5   final.output.recovery                               19439 non-null  float64\n",
      " 6   final.output.tail_ag                                19438 non-null  float64\n",
      " 7   final.output.tail_pb                                19338 non-null  float64\n",
      " 8   final.output.tail_sol                               19433 non-null  float64\n",
      " 9   final.output.tail_au                                19439 non-null  float64\n",
      " 10  primary_cleaner.input.sulfate                       19415 non-null  float64\n",
      " 11  primary_cleaner.input.depressant                    19402 non-null  float64\n",
      " 12  primary_cleaner.input.feed_size                     19439 non-null  float64\n",
      " 13  primary_cleaner.input.xanthate                      19335 non-null  float64\n",
      " 14  primary_cleaner.output.concentrate_ag               19439 non-null  float64\n",
      " 15  primary_cleaner.output.concentrate_pb               19323 non-null  float64\n",
      " 16  primary_cleaner.output.concentrate_sol              19069 non-null  float64\n",
      " 17  primary_cleaner.output.concentrate_au               19439 non-null  float64\n",
      " 18  primary_cleaner.output.tail_ag                      19435 non-null  float64\n",
      " 19  primary_cleaner.output.tail_pb                      19418 non-null  float64\n",
      " 20  primary_cleaner.output.tail_sol                     19377 non-null  float64\n",
      " 21  primary_cleaner.output.tail_au                      19439 non-null  float64\n",
      " 22  primary_cleaner.state.floatbank8_a_air              19435 non-null  float64\n",
      " 23  primary_cleaner.state.floatbank8_a_level            19438 non-null  float64\n",
      " 24  primary_cleaner.state.floatbank8_b_air              19435 non-null  float64\n",
      " 25  primary_cleaner.state.floatbank8_b_level            19438 non-null  float64\n",
      " 26  primary_cleaner.state.floatbank8_c_air              19437 non-null  float64\n",
      " 27  primary_cleaner.state.floatbank8_c_level            19438 non-null  float64\n",
      " 28  primary_cleaner.state.floatbank8_d_air              19436 non-null  float64\n",
      " 29  primary_cleaner.state.floatbank8_d_level            19438 non-null  float64\n",
      " 30  rougher.calculation.sulfate_to_au_concentrate       19437 non-null  float64\n",
      " 31  rougher.calculation.floatbank10_sulfate_to_au_feed  19437 non-null  float64\n",
      " 32  rougher.calculation.floatbank11_sulfate_to_au_feed  19437 non-null  float64\n",
      " 33  rougher.calculation.au_pb_ratio                     19439 non-null  float64\n",
      " 34  rougher.input.feed_ag                               19439 non-null  float64\n",
      " 35  rougher.input.feed_pb                               19339 non-null  float64\n",
      " 36  rougher.input.feed_rate                             19428 non-null  float64\n",
      " 37  rougher.input.feed_size                             19294 non-null  float64\n",
      " 38  rougher.input.feed_sol                              19340 non-null  float64\n",
      " 39  rougher.input.feed_au                               19439 non-null  float64\n",
      " 40  rougher.input.floatbank10_sulfate                   19405 non-null  float64\n",
      " 41  rougher.input.floatbank10_xanthate                  19431 non-null  float64\n",
      " 42  rougher.input.floatbank11_sulfate                   19395 non-null  float64\n",
      " 43  rougher.input.floatbank11_xanthate                  18986 non-null  float64\n",
      " 44  rougher.output.concentrate_ag                       19439 non-null  float64\n",
      " 45  rougher.output.concentrate_pb                       19439 non-null  float64\n",
      " 46  rougher.output.concentrate_sol                      19416 non-null  float64\n",
      " 47  rougher.output.concentrate_au                       19439 non-null  float64\n",
      " 48  rougher.output.recovery                             19439 non-null  float64\n",
      " 49  rougher.output.tail_ag                              19438 non-null  float64\n",
      " 50  rougher.output.tail_pb                              19439 non-null  float64\n",
      " 51  rougher.output.tail_sol                             19439 non-null  float64\n",
      " 52  rougher.output.tail_au                              19439 non-null  float64\n",
      " 53  rougher.state.floatbank10_a_air                     19438 non-null  float64\n",
      " 54  rougher.state.floatbank10_a_level                   19438 non-null  float64\n",
      " 55  rougher.state.floatbank10_b_air                     19438 non-null  float64\n",
      " 56  rougher.state.floatbank10_b_level                   19438 non-null  float64\n",
      " 57  rougher.state.floatbank10_c_air                     19438 non-null  float64\n",
      " 58  rougher.state.floatbank10_c_level                   19438 non-null  float64\n",
      " 59  rougher.state.floatbank10_d_air                     19439 non-null  float64\n",
      " 60  rougher.state.floatbank10_d_level                   19439 non-null  float64\n",
      " 61  rougher.state.floatbank10_e_air                     19003 non-null  float64\n",
      " 62  rougher.state.floatbank10_e_level                   19439 non-null  float64\n",
      " 63  rougher.state.floatbank10_f_air                     19439 non-null  float64\n",
      " 64  rougher.state.floatbank10_f_level                   19439 non-null  float64\n",
      " 65  secondary_cleaner.output.tail_ag                    19437 non-null  float64\n",
      " 66  secondary_cleaner.output.tail_pb                    19427 non-null  float64\n",
      " 67  secondary_cleaner.output.tail_sol                   17691 non-null  float64\n",
      " 68  secondary_cleaner.output.tail_au                    19439 non-null  float64\n",
      " 69  secondary_cleaner.state.floatbank2_a_air            19219 non-null  float64\n",
      " 70  secondary_cleaner.state.floatbank2_a_level          19438 non-null  float64\n",
      " 71  secondary_cleaner.state.floatbank2_b_air            19416 non-null  float64\n",
      " 72  secondary_cleaner.state.floatbank2_b_level          19438 non-null  float64\n",
      " 73  secondary_cleaner.state.floatbank3_a_air            19426 non-null  float64\n",
      " 74  secondary_cleaner.state.floatbank3_a_level          19438 non-null  float64\n",
      " 75  secondary_cleaner.state.floatbank3_b_air            19438 non-null  float64\n",
      " 76  secondary_cleaner.state.floatbank3_b_level          19438 non-null  float64\n",
      " 77  secondary_cleaner.state.floatbank4_a_air            19433 non-null  float64\n",
      " 78  secondary_cleaner.state.floatbank4_a_level          19438 non-null  float64\n",
      " 79  secondary_cleaner.state.floatbank4_b_air            19438 non-null  float64\n",
      " 80  secondary_cleaner.state.floatbank4_b_level          19438 non-null  float64\n",
      " 81  secondary_cleaner.state.floatbank5_a_air            19438 non-null  float64\n",
      " 82  secondary_cleaner.state.floatbank5_a_level          19438 non-null  float64\n",
      " 83  secondary_cleaner.state.floatbank5_b_air            19438 non-null  float64\n",
      " 84  secondary_cleaner.state.floatbank5_b_level          19438 non-null  float64\n",
      " 85  secondary_cleaner.state.floatbank6_a_air            19437 non-null  float64\n",
      " 86  secondary_cleaner.state.floatbank6_a_level          19438 non-null  float64\n",
      "dtypes: float64(86), object(1)\n",
      "memory usage: 12.9+ MB\n"
     ]
    }
   ],
   "source": [
    "df_full.info()"
   ]
  },
  {
   "cell_type": "markdown",
   "metadata": {},
   "source": [
    "***Примечание***\n",
    "\n",
    "count    3.0 **количество наблюдений в наборе данных**\n",
    "\n",
    "mean     2.0 **среднее арифметическое**\n",
    "\n",
    "std      1.0 **стандартное отклонение**\n",
    "\n",
    "min      1.0 **минимальное значение**\n",
    "\n",
    "25%      1.5 **первый квартиль**\n",
    "\n",
    "50%      2.0 **медиана, или второй квартиль**\n",
    "\n",
    "75%      2.5 **третий квартиль**\n",
    "\n",
    "max      3.0 **максимальное значение**\n",
    "\n",
    "dtype: float64 **тип данных**"
   ]
  },
  {
   "cell_type": "code",
   "execution_count": 300,
   "metadata": {},
   "outputs": [
    {
     "data": {
      "text/html": [
       "<div>\n",
       "<style scoped>\n",
       "    .dataframe tbody tr th:only-of-type {\n",
       "        vertical-align: middle;\n",
       "    }\n",
       "\n",
       "    .dataframe tbody tr th {\n",
       "        vertical-align: top;\n",
       "    }\n",
       "\n",
       "    .dataframe thead th {\n",
       "        text-align: right;\n",
       "    }\n",
       "</style>\n",
       "<table border=\"1\" class=\"dataframe\">\n",
       "  <thead>\n",
       "    <tr style=\"text-align: right;\">\n",
       "      <th></th>\n",
       "      <th>final.output.concentrate_ag</th>\n",
       "      <th>final.output.concentrate_pb</th>\n",
       "      <th>final.output.concentrate_sol</th>\n",
       "      <th>final.output.concentrate_au</th>\n",
       "      <th>final.output.recovery</th>\n",
       "      <th>final.output.tail_ag</th>\n",
       "      <th>final.output.tail_pb</th>\n",
       "      <th>final.output.tail_sol</th>\n",
       "      <th>final.output.tail_au</th>\n",
       "      <th>primary_cleaner.input.sulfate</th>\n",
       "      <th>...</th>\n",
       "      <th>secondary_cleaner.state.floatbank4_a_air</th>\n",
       "      <th>secondary_cleaner.state.floatbank4_a_level</th>\n",
       "      <th>secondary_cleaner.state.floatbank4_b_air</th>\n",
       "      <th>secondary_cleaner.state.floatbank4_b_level</th>\n",
       "      <th>secondary_cleaner.state.floatbank5_a_air</th>\n",
       "      <th>secondary_cleaner.state.floatbank5_a_level</th>\n",
       "      <th>secondary_cleaner.state.floatbank5_b_air</th>\n",
       "      <th>secondary_cleaner.state.floatbank5_b_level</th>\n",
       "      <th>secondary_cleaner.state.floatbank6_a_air</th>\n",
       "      <th>secondary_cleaner.state.floatbank6_a_level</th>\n",
       "    </tr>\n",
       "  </thead>\n",
       "  <tbody>\n",
       "    <tr>\n",
       "      <th>count</th>\n",
       "      <td>14148.000000</td>\n",
       "      <td>14148.000000</td>\n",
       "      <td>13938.000000</td>\n",
       "      <td>14149.000000</td>\n",
       "      <td>14149.000000</td>\n",
       "      <td>14149.000000</td>\n",
       "      <td>14049.000000</td>\n",
       "      <td>14144.000000</td>\n",
       "      <td>14149.000000</td>\n",
       "      <td>14129.000000</td>\n",
       "      <td>...</td>\n",
       "      <td>14143.000000</td>\n",
       "      <td>14148.000000</td>\n",
       "      <td>14148.000000</td>\n",
       "      <td>14148.000000</td>\n",
       "      <td>14148.000000</td>\n",
       "      <td>14148.000000</td>\n",
       "      <td>14148.000000</td>\n",
       "      <td>14148.000000</td>\n",
       "      <td>14147.000000</td>\n",
       "      <td>14148.000000</td>\n",
       "    </tr>\n",
       "    <tr>\n",
       "      <th>mean</th>\n",
       "      <td>5.142034</td>\n",
       "      <td>10.132960</td>\n",
       "      <td>9.202849</td>\n",
       "      <td>44.003792</td>\n",
       "      <td>66.518832</td>\n",
       "      <td>9.607035</td>\n",
       "      <td>2.597298</td>\n",
       "      <td>10.512122</td>\n",
       "      <td>2.918421</td>\n",
       "      <td>133.320659</td>\n",
       "      <td>...</td>\n",
       "      <td>19.985454</td>\n",
       "      <td>-478.696836</td>\n",
       "      <td>15.487065</td>\n",
       "      <td>-460.229416</td>\n",
       "      <td>16.775136</td>\n",
       "      <td>-483.956022</td>\n",
       "      <td>13.064590</td>\n",
       "      <td>-483.966564</td>\n",
       "      <td>19.577539</td>\n",
       "      <td>-506.798480</td>\n",
       "    </tr>\n",
       "    <tr>\n",
       "      <th>std</th>\n",
       "      <td>1.369586</td>\n",
       "      <td>1.654930</td>\n",
       "      <td>2.790516</td>\n",
       "      <td>4.905261</td>\n",
       "      <td>10.295402</td>\n",
       "      <td>2.319069</td>\n",
       "      <td>0.971843</td>\n",
       "      <td>3.003617</td>\n",
       "      <td>0.903712</td>\n",
       "      <td>39.431659</td>\n",
       "      <td>...</td>\n",
       "      <td>5.657723</td>\n",
       "      <td>50.736021</td>\n",
       "      <td>5.255655</td>\n",
       "      <td>58.843586</td>\n",
       "      <td>5.831906</td>\n",
       "      <td>37.892788</td>\n",
       "      <td>5.765617</td>\n",
       "      <td>39.207913</td>\n",
       "      <td>5.764417</td>\n",
       "      <td>37.079249</td>\n",
       "    </tr>\n",
       "    <tr>\n",
       "      <th>min</th>\n",
       "      <td>0.000000</td>\n",
       "      <td>0.000000</td>\n",
       "      <td>0.000000</td>\n",
       "      <td>0.000000</td>\n",
       "      <td>0.000000</td>\n",
       "      <td>0.000000</td>\n",
       "      <td>0.000000</td>\n",
       "      <td>0.000000</td>\n",
       "      <td>0.000000</td>\n",
       "      <td>0.003112</td>\n",
       "      <td>...</td>\n",
       "      <td>0.000000</td>\n",
       "      <td>-799.709069</td>\n",
       "      <td>0.000000</td>\n",
       "      <td>-799.889113</td>\n",
       "      <td>-0.372054</td>\n",
       "      <td>-797.142475</td>\n",
       "      <td>0.646208</td>\n",
       "      <td>-800.006180</td>\n",
       "      <td>0.195324</td>\n",
       "      <td>-809.398668</td>\n",
       "    </tr>\n",
       "    <tr>\n",
       "      <th>25%</th>\n",
       "      <td>4.211620</td>\n",
       "      <td>9.297355</td>\n",
       "      <td>7.484645</td>\n",
       "      <td>43.276111</td>\n",
       "      <td>62.545817</td>\n",
       "      <td>7.997429</td>\n",
       "      <td>1.905973</td>\n",
       "      <td>8.811324</td>\n",
       "      <td>2.368607</td>\n",
       "      <td>107.006651</td>\n",
       "      <td>...</td>\n",
       "      <td>14.990775</td>\n",
       "      <td>-500.628656</td>\n",
       "      <td>11.894558</td>\n",
       "      <td>-500.149000</td>\n",
       "      <td>11.083980</td>\n",
       "      <td>-500.363177</td>\n",
       "      <td>8.994405</td>\n",
       "      <td>-500.105994</td>\n",
       "      <td>14.989304</td>\n",
       "      <td>-500.745104</td>\n",
       "    </tr>\n",
       "    <tr>\n",
       "      <th>50%</th>\n",
       "      <td>4.994652</td>\n",
       "      <td>10.297144</td>\n",
       "      <td>8.845462</td>\n",
       "      <td>44.872436</td>\n",
       "      <td>67.432775</td>\n",
       "      <td>9.480270</td>\n",
       "      <td>2.592022</td>\n",
       "      <td>10.514621</td>\n",
       "      <td>2.851025</td>\n",
       "      <td>133.018328</td>\n",
       "      <td>...</td>\n",
       "      <td>20.001789</td>\n",
       "      <td>-499.681450</td>\n",
       "      <td>14.975536</td>\n",
       "      <td>-499.388738</td>\n",
       "      <td>17.932223</td>\n",
       "      <td>-499.702452</td>\n",
       "      <td>11.997547</td>\n",
       "      <td>-499.914556</td>\n",
       "      <td>19.984175</td>\n",
       "      <td>-500.061431</td>\n",
       "    </tr>\n",
       "    <tr>\n",
       "      <th>75%</th>\n",
       "      <td>5.859540</td>\n",
       "      <td>11.170603</td>\n",
       "      <td>10.487508</td>\n",
       "      <td>46.166425</td>\n",
       "      <td>72.346428</td>\n",
       "      <td>11.003707</td>\n",
       "      <td>3.241723</td>\n",
       "      <td>11.933009</td>\n",
       "      <td>3.434764</td>\n",
       "      <td>159.825396</td>\n",
       "      <td>...</td>\n",
       "      <td>24.990826</td>\n",
       "      <td>-477.472413</td>\n",
       "      <td>20.059375</td>\n",
       "      <td>-400.039008</td>\n",
       "      <td>21.346550</td>\n",
       "      <td>-487.712108</td>\n",
       "      <td>17.982903</td>\n",
       "      <td>-453.186936</td>\n",
       "      <td>24.991623</td>\n",
       "      <td>-499.536466</td>\n",
       "    </tr>\n",
       "    <tr>\n",
       "      <th>max</th>\n",
       "      <td>16.001945</td>\n",
       "      <td>17.031899</td>\n",
       "      <td>18.124851</td>\n",
       "      <td>52.756638</td>\n",
       "      <td>100.000000</td>\n",
       "      <td>19.552149</td>\n",
       "      <td>5.639565</td>\n",
       "      <td>22.317730</td>\n",
       "      <td>8.197408</td>\n",
       "      <td>250.127834</td>\n",
       "      <td>...</td>\n",
       "      <td>30.115735</td>\n",
       "      <td>-245.239184</td>\n",
       "      <td>24.007913</td>\n",
       "      <td>-145.071088</td>\n",
       "      <td>43.709931</td>\n",
       "      <td>-275.073125</td>\n",
       "      <td>27.926001</td>\n",
       "      <td>-157.396071</td>\n",
       "      <td>32.188906</td>\n",
       "      <td>-104.427459</td>\n",
       "    </tr>\n",
       "  </tbody>\n",
       "</table>\n",
       "<p>8 rows × 86 columns</p>\n",
       "</div>"
      ],
      "text/plain": [
       "       final.output.concentrate_ag  final.output.concentrate_pb  \\\n",
       "count                 14148.000000                 14148.000000   \n",
       "mean                      5.142034                    10.132960   \n",
       "std                       1.369586                     1.654930   \n",
       "min                       0.000000                     0.000000   \n",
       "25%                       4.211620                     9.297355   \n",
       "50%                       4.994652                    10.297144   \n",
       "75%                       5.859540                    11.170603   \n",
       "max                      16.001945                    17.031899   \n",
       "\n",
       "       final.output.concentrate_sol  final.output.concentrate_au  \\\n",
       "count                  13938.000000                 14149.000000   \n",
       "mean                       9.202849                    44.003792   \n",
       "std                        2.790516                     4.905261   \n",
       "min                        0.000000                     0.000000   \n",
       "25%                        7.484645                    43.276111   \n",
       "50%                        8.845462                    44.872436   \n",
       "75%                       10.487508                    46.166425   \n",
       "max                       18.124851                    52.756638   \n",
       "\n",
       "       final.output.recovery  final.output.tail_ag  final.output.tail_pb  \\\n",
       "count           14149.000000          14149.000000          14049.000000   \n",
       "mean               66.518832              9.607035              2.597298   \n",
       "std                10.295402              2.319069              0.971843   \n",
       "min                 0.000000              0.000000              0.000000   \n",
       "25%                62.545817              7.997429              1.905973   \n",
       "50%                67.432775              9.480270              2.592022   \n",
       "75%                72.346428             11.003707              3.241723   \n",
       "max               100.000000             19.552149              5.639565   \n",
       "\n",
       "       final.output.tail_sol  final.output.tail_au  \\\n",
       "count           14144.000000          14149.000000   \n",
       "mean               10.512122              2.918421   \n",
       "std                 3.003617              0.903712   \n",
       "min                 0.000000              0.000000   \n",
       "25%                 8.811324              2.368607   \n",
       "50%                10.514621              2.851025   \n",
       "75%                11.933009              3.434764   \n",
       "max                22.317730              8.197408   \n",
       "\n",
       "       primary_cleaner.input.sulfate  ...  \\\n",
       "count                   14129.000000  ...   \n",
       "mean                      133.320659  ...   \n",
       "std                        39.431659  ...   \n",
       "min                         0.003112  ...   \n",
       "25%                       107.006651  ...   \n",
       "50%                       133.018328  ...   \n",
       "75%                       159.825396  ...   \n",
       "max                       250.127834  ...   \n",
       "\n",
       "       secondary_cleaner.state.floatbank4_a_air  \\\n",
       "count                              14143.000000   \n",
       "mean                                  19.985454   \n",
       "std                                    5.657723   \n",
       "min                                    0.000000   \n",
       "25%                                   14.990775   \n",
       "50%                                   20.001789   \n",
       "75%                                   24.990826   \n",
       "max                                   30.115735   \n",
       "\n",
       "       secondary_cleaner.state.floatbank4_a_level  \\\n",
       "count                                14148.000000   \n",
       "mean                                  -478.696836   \n",
       "std                                     50.736021   \n",
       "min                                   -799.709069   \n",
       "25%                                   -500.628656   \n",
       "50%                                   -499.681450   \n",
       "75%                                   -477.472413   \n",
       "max                                   -245.239184   \n",
       "\n",
       "       secondary_cleaner.state.floatbank4_b_air  \\\n",
       "count                              14148.000000   \n",
       "mean                                  15.487065   \n",
       "std                                    5.255655   \n",
       "min                                    0.000000   \n",
       "25%                                   11.894558   \n",
       "50%                                   14.975536   \n",
       "75%                                   20.059375   \n",
       "max                                   24.007913   \n",
       "\n",
       "       secondary_cleaner.state.floatbank4_b_level  \\\n",
       "count                                14148.000000   \n",
       "mean                                  -460.229416   \n",
       "std                                     58.843586   \n",
       "min                                   -799.889113   \n",
       "25%                                   -500.149000   \n",
       "50%                                   -499.388738   \n",
       "75%                                   -400.039008   \n",
       "max                                   -145.071088   \n",
       "\n",
       "       secondary_cleaner.state.floatbank5_a_air  \\\n",
       "count                              14148.000000   \n",
       "mean                                  16.775136   \n",
       "std                                    5.831906   \n",
       "min                                   -0.372054   \n",
       "25%                                   11.083980   \n",
       "50%                                   17.932223   \n",
       "75%                                   21.346550   \n",
       "max                                   43.709931   \n",
       "\n",
       "       secondary_cleaner.state.floatbank5_a_level  \\\n",
       "count                                14148.000000   \n",
       "mean                                  -483.956022   \n",
       "std                                     37.892788   \n",
       "min                                   -797.142475   \n",
       "25%                                   -500.363177   \n",
       "50%                                   -499.702452   \n",
       "75%                                   -487.712108   \n",
       "max                                   -275.073125   \n",
       "\n",
       "       secondary_cleaner.state.floatbank5_b_air  \\\n",
       "count                              14148.000000   \n",
       "mean                                  13.064590   \n",
       "std                                    5.765617   \n",
       "min                                    0.646208   \n",
       "25%                                    8.994405   \n",
       "50%                                   11.997547   \n",
       "75%                                   17.982903   \n",
       "max                                   27.926001   \n",
       "\n",
       "       secondary_cleaner.state.floatbank5_b_level  \\\n",
       "count                                14148.000000   \n",
       "mean                                  -483.966564   \n",
       "std                                     39.207913   \n",
       "min                                   -800.006180   \n",
       "25%                                   -500.105994   \n",
       "50%                                   -499.914556   \n",
       "75%                                   -453.186936   \n",
       "max                                   -157.396071   \n",
       "\n",
       "       secondary_cleaner.state.floatbank6_a_air  \\\n",
       "count                              14147.000000   \n",
       "mean                                  19.577539   \n",
       "std                                    5.764417   \n",
       "min                                    0.195324   \n",
       "25%                                   14.989304   \n",
       "50%                                   19.984175   \n",
       "75%                                   24.991623   \n",
       "max                                   32.188906   \n",
       "\n",
       "       secondary_cleaner.state.floatbank6_a_level  \n",
       "count                                14148.000000  \n",
       "mean                                  -506.798480  \n",
       "std                                     37.079249  \n",
       "min                                   -809.398668  \n",
       "25%                                   -500.745104  \n",
       "50%                                   -500.061431  \n",
       "75%                                   -499.536466  \n",
       "max                                   -104.427459  \n",
       "\n",
       "[8 rows x 86 columns]"
      ]
     },
     "execution_count": 300,
     "metadata": {},
     "output_type": "execute_result"
    }
   ],
   "source": [
    "# Конечно же, можно применять библиотеку pandas_profiling, но юпитер раньше сдохнет, пока не 8 тыс. итераций не дойдет) \n",
    "df_train.describe()"
   ]
  },
  {
   "cell_type": "code",
   "execution_count": 301,
   "metadata": {},
   "outputs": [
    {
     "data": {
      "text/html": [
       "<div>\n",
       "<style scoped>\n",
       "    .dataframe tbody tr th:only-of-type {\n",
       "        vertical-align: middle;\n",
       "    }\n",
       "\n",
       "    .dataframe tbody tr th {\n",
       "        vertical-align: top;\n",
       "    }\n",
       "\n",
       "    .dataframe thead th {\n",
       "        text-align: right;\n",
       "    }\n",
       "</style>\n",
       "<table border=\"1\" class=\"dataframe\">\n",
       "  <thead>\n",
       "    <tr style=\"text-align: right;\">\n",
       "      <th></th>\n",
       "      <th>primary_cleaner.input.sulfate</th>\n",
       "      <th>primary_cleaner.input.depressant</th>\n",
       "      <th>primary_cleaner.input.feed_size</th>\n",
       "      <th>primary_cleaner.input.xanthate</th>\n",
       "      <th>primary_cleaner.state.floatbank8_a_air</th>\n",
       "      <th>primary_cleaner.state.floatbank8_a_level</th>\n",
       "      <th>primary_cleaner.state.floatbank8_b_air</th>\n",
       "      <th>primary_cleaner.state.floatbank8_b_level</th>\n",
       "      <th>primary_cleaner.state.floatbank8_c_air</th>\n",
       "      <th>primary_cleaner.state.floatbank8_c_level</th>\n",
       "      <th>...</th>\n",
       "      <th>secondary_cleaner.state.floatbank4_a_air</th>\n",
       "      <th>secondary_cleaner.state.floatbank4_a_level</th>\n",
       "      <th>secondary_cleaner.state.floatbank4_b_air</th>\n",
       "      <th>secondary_cleaner.state.floatbank4_b_level</th>\n",
       "      <th>secondary_cleaner.state.floatbank5_a_air</th>\n",
       "      <th>secondary_cleaner.state.floatbank5_a_level</th>\n",
       "      <th>secondary_cleaner.state.floatbank5_b_air</th>\n",
       "      <th>secondary_cleaner.state.floatbank5_b_level</th>\n",
       "      <th>secondary_cleaner.state.floatbank6_a_air</th>\n",
       "      <th>secondary_cleaner.state.floatbank6_a_level</th>\n",
       "    </tr>\n",
       "  </thead>\n",
       "  <tbody>\n",
       "    <tr>\n",
       "      <th>count</th>\n",
       "      <td>5286.000000</td>\n",
       "      <td>5285.000000</td>\n",
       "      <td>5290.000000</td>\n",
       "      <td>5286.000000</td>\n",
       "      <td>5.290000e+03</td>\n",
       "      <td>5290.000000</td>\n",
       "      <td>5.290000e+03</td>\n",
       "      <td>5290.000000</td>\n",
       "      <td>5.290000e+03</td>\n",
       "      <td>5290.000000</td>\n",
       "      <td>...</td>\n",
       "      <td>5.290000e+03</td>\n",
       "      <td>5290.000000</td>\n",
       "      <td>5.290000e+03</td>\n",
       "      <td>5290.000000</td>\n",
       "      <td>5290.000000</td>\n",
       "      <td>5290.000000</td>\n",
       "      <td>5290.000000</td>\n",
       "      <td>5290.000000</td>\n",
       "      <td>5290.000000</td>\n",
       "      <td>5290.000000</td>\n",
       "    </tr>\n",
       "    <tr>\n",
       "      <th>mean</th>\n",
       "      <td>174.839652</td>\n",
       "      <td>8.683596</td>\n",
       "      <td>7.266339</td>\n",
       "      <td>1.383803</td>\n",
       "      <td>1.539494e+03</td>\n",
       "      <td>-497.665883</td>\n",
       "      <td>1.545174e+03</td>\n",
       "      <td>-500.273098</td>\n",
       "      <td>1.527272e+03</td>\n",
       "      <td>-498.330680</td>\n",
       "      <td>...</td>\n",
       "      <td>1.632007e+01</td>\n",
       "      <td>-505.144570</td>\n",
       "      <td>1.373544e+01</td>\n",
       "      <td>-463.349858</td>\n",
       "      <td>12.804186</td>\n",
       "      <td>-501.329122</td>\n",
       "      <td>9.881145</td>\n",
       "      <td>-495.663398</td>\n",
       "      <td>17.304935</td>\n",
       "      <td>-501.793193</td>\n",
       "    </tr>\n",
       "    <tr>\n",
       "      <th>std</th>\n",
       "      <td>43.027080</td>\n",
       "      <td>3.072050</td>\n",
       "      <td>0.610219</td>\n",
       "      <td>0.643474</td>\n",
       "      <td>1.167979e+02</td>\n",
       "      <td>19.952431</td>\n",
       "      <td>1.222246e+02</td>\n",
       "      <td>32.968307</td>\n",
       "      <td>1.225380e+02</td>\n",
       "      <td>21.964876</td>\n",
       "      <td>...</td>\n",
       "      <td>3.493583e+00</td>\n",
       "      <td>31.427337</td>\n",
       "      <td>3.430484e+00</td>\n",
       "      <td>86.189107</td>\n",
       "      <td>3.026591</td>\n",
       "      <td>17.951495</td>\n",
       "      <td>2.868205</td>\n",
       "      <td>34.535007</td>\n",
       "      <td>4.536544</td>\n",
       "      <td>39.044215</td>\n",
       "    </tr>\n",
       "    <tr>\n",
       "      <th>min</th>\n",
       "      <td>2.566156</td>\n",
       "      <td>0.003839</td>\n",
       "      <td>5.650000</td>\n",
       "      <td>0.004984</td>\n",
       "      <td>5.445860e-32</td>\n",
       "      <td>-795.316337</td>\n",
       "      <td>6.647490e-32</td>\n",
       "      <td>-799.997015</td>\n",
       "      <td>4.033736e-32</td>\n",
       "      <td>-799.960571</td>\n",
       "      <td>...</td>\n",
       "      <td>1.079872e-16</td>\n",
       "      <td>-799.798523</td>\n",
       "      <td>2.489718e-17</td>\n",
       "      <td>-800.836914</td>\n",
       "      <td>0.069227</td>\n",
       "      <td>-797.323986</td>\n",
       "      <td>0.528083</td>\n",
       "      <td>-800.220337</td>\n",
       "      <td>-0.079426</td>\n",
       "      <td>-809.741464</td>\n",
       "    </tr>\n",
       "    <tr>\n",
       "      <th>25%</th>\n",
       "      <td>147.121401</td>\n",
       "      <td>6.489555</td>\n",
       "      <td>6.890000</td>\n",
       "      <td>0.907623</td>\n",
       "      <td>1.498936e+03</td>\n",
       "      <td>-500.357298</td>\n",
       "      <td>1.498971e+03</td>\n",
       "      <td>-500.703002</td>\n",
       "      <td>1.473230e+03</td>\n",
       "      <td>-501.018117</td>\n",
       "      <td>...</td>\n",
       "      <td>1.403618e+01</td>\n",
       "      <td>-500.868258</td>\n",
       "      <td>1.202862e+01</td>\n",
       "      <td>-500.323028</td>\n",
       "      <td>10.914838</td>\n",
       "      <td>-500.726841</td>\n",
       "      <td>8.036719</td>\n",
       "      <td>-500.194668</td>\n",
       "      <td>13.997317</td>\n",
       "      <td>-500.690984</td>\n",
       "    </tr>\n",
       "    <tr>\n",
       "      <th>50%</th>\n",
       "      <td>177.828489</td>\n",
       "      <td>8.052207</td>\n",
       "      <td>7.250000</td>\n",
       "      <td>1.197610</td>\n",
       "      <td>1.585129e+03</td>\n",
       "      <td>-499.969164</td>\n",
       "      <td>1.595622e+03</td>\n",
       "      <td>-500.028514</td>\n",
       "      <td>1.549595e+03</td>\n",
       "      <td>-500.017711</td>\n",
       "      <td>...</td>\n",
       "      <td>1.700847e+01</td>\n",
       "      <td>-500.115727</td>\n",
       "      <td>1.496486e+01</td>\n",
       "      <td>-499.576513</td>\n",
       "      <td>12.954182</td>\n",
       "      <td>-499.990332</td>\n",
       "      <td>10.004301</td>\n",
       "      <td>-499.990535</td>\n",
       "      <td>16.014935</td>\n",
       "      <td>-500.007126</td>\n",
       "    </tr>\n",
       "    <tr>\n",
       "      <th>75%</th>\n",
       "      <td>208.125438</td>\n",
       "      <td>10.027764</td>\n",
       "      <td>7.600000</td>\n",
       "      <td>1.797819</td>\n",
       "      <td>1.602077e+03</td>\n",
       "      <td>-499.568951</td>\n",
       "      <td>1.602324e+03</td>\n",
       "      <td>-499.293257</td>\n",
       "      <td>1.601144e+03</td>\n",
       "      <td>-498.994130</td>\n",
       "      <td>...</td>\n",
       "      <td>1.803862e+01</td>\n",
       "      <td>-499.404224</td>\n",
       "      <td>1.596213e+01</td>\n",
       "      <td>-400.933805</td>\n",
       "      <td>15.097528</td>\n",
       "      <td>-499.283191</td>\n",
       "      <td>11.997467</td>\n",
       "      <td>-499.719913</td>\n",
       "      <td>21.020013</td>\n",
       "      <td>-499.373018</td>\n",
       "    </tr>\n",
       "    <tr>\n",
       "      <th>max</th>\n",
       "      <td>265.983123</td>\n",
       "      <td>40.000000</td>\n",
       "      <td>15.500000</td>\n",
       "      <td>4.102454</td>\n",
       "      <td>2.103104e+03</td>\n",
       "      <td>-57.195404</td>\n",
       "      <td>1.813084e+03</td>\n",
       "      <td>-142.527229</td>\n",
       "      <td>1.715054e+03</td>\n",
       "      <td>-150.937035</td>\n",
       "      <td>...</td>\n",
       "      <td>3.005180e+01</td>\n",
       "      <td>-401.565212</td>\n",
       "      <td>3.126971e+01</td>\n",
       "      <td>-6.506986</td>\n",
       "      <td>25.258848</td>\n",
       "      <td>-244.483566</td>\n",
       "      <td>14.086866</td>\n",
       "      <td>-137.740004</td>\n",
       "      <td>26.705889</td>\n",
       "      <td>-123.307487</td>\n",
       "    </tr>\n",
       "  </tbody>\n",
       "</table>\n",
       "<p>8 rows × 52 columns</p>\n",
       "</div>"
      ],
      "text/plain": [
       "       primary_cleaner.input.sulfate  primary_cleaner.input.depressant  \\\n",
       "count                    5286.000000                       5285.000000   \n",
       "mean                      174.839652                          8.683596   \n",
       "std                        43.027080                          3.072050   \n",
       "min                         2.566156                          0.003839   \n",
       "25%                       147.121401                          6.489555   \n",
       "50%                       177.828489                          8.052207   \n",
       "75%                       208.125438                         10.027764   \n",
       "max                       265.983123                         40.000000   \n",
       "\n",
       "       primary_cleaner.input.feed_size  primary_cleaner.input.xanthate  \\\n",
       "count                      5290.000000                     5286.000000   \n",
       "mean                          7.266339                        1.383803   \n",
       "std                           0.610219                        0.643474   \n",
       "min                           5.650000                        0.004984   \n",
       "25%                           6.890000                        0.907623   \n",
       "50%                           7.250000                        1.197610   \n",
       "75%                           7.600000                        1.797819   \n",
       "max                          15.500000                        4.102454   \n",
       "\n",
       "       primary_cleaner.state.floatbank8_a_air  \\\n",
       "count                            5.290000e+03   \n",
       "mean                             1.539494e+03   \n",
       "std                              1.167979e+02   \n",
       "min                              5.445860e-32   \n",
       "25%                              1.498936e+03   \n",
       "50%                              1.585129e+03   \n",
       "75%                              1.602077e+03   \n",
       "max                              2.103104e+03   \n",
       "\n",
       "       primary_cleaner.state.floatbank8_a_level  \\\n",
       "count                               5290.000000   \n",
       "mean                                -497.665883   \n",
       "std                                   19.952431   \n",
       "min                                 -795.316337   \n",
       "25%                                 -500.357298   \n",
       "50%                                 -499.969164   \n",
       "75%                                 -499.568951   \n",
       "max                                  -57.195404   \n",
       "\n",
       "       primary_cleaner.state.floatbank8_b_air  \\\n",
       "count                            5.290000e+03   \n",
       "mean                             1.545174e+03   \n",
       "std                              1.222246e+02   \n",
       "min                              6.647490e-32   \n",
       "25%                              1.498971e+03   \n",
       "50%                              1.595622e+03   \n",
       "75%                              1.602324e+03   \n",
       "max                              1.813084e+03   \n",
       "\n",
       "       primary_cleaner.state.floatbank8_b_level  \\\n",
       "count                               5290.000000   \n",
       "mean                                -500.273098   \n",
       "std                                   32.968307   \n",
       "min                                 -799.997015   \n",
       "25%                                 -500.703002   \n",
       "50%                                 -500.028514   \n",
       "75%                                 -499.293257   \n",
       "max                                 -142.527229   \n",
       "\n",
       "       primary_cleaner.state.floatbank8_c_air  \\\n",
       "count                            5.290000e+03   \n",
       "mean                             1.527272e+03   \n",
       "std                              1.225380e+02   \n",
       "min                              4.033736e-32   \n",
       "25%                              1.473230e+03   \n",
       "50%                              1.549595e+03   \n",
       "75%                              1.601144e+03   \n",
       "max                              1.715054e+03   \n",
       "\n",
       "       primary_cleaner.state.floatbank8_c_level  ...  \\\n",
       "count                               5290.000000  ...   \n",
       "mean                                -498.330680  ...   \n",
       "std                                   21.964876  ...   \n",
       "min                                 -799.960571  ...   \n",
       "25%                                 -501.018117  ...   \n",
       "50%                                 -500.017711  ...   \n",
       "75%                                 -498.994130  ...   \n",
       "max                                 -150.937035  ...   \n",
       "\n",
       "       secondary_cleaner.state.floatbank4_a_air  \\\n",
       "count                              5.290000e+03   \n",
       "mean                               1.632007e+01   \n",
       "std                                3.493583e+00   \n",
       "min                                1.079872e-16   \n",
       "25%                                1.403618e+01   \n",
       "50%                                1.700847e+01   \n",
       "75%                                1.803862e+01   \n",
       "max                                3.005180e+01   \n",
       "\n",
       "       secondary_cleaner.state.floatbank4_a_level  \\\n",
       "count                                 5290.000000   \n",
       "mean                                  -505.144570   \n",
       "std                                     31.427337   \n",
       "min                                   -799.798523   \n",
       "25%                                   -500.868258   \n",
       "50%                                   -500.115727   \n",
       "75%                                   -499.404224   \n",
       "max                                   -401.565212   \n",
       "\n",
       "       secondary_cleaner.state.floatbank4_b_air  \\\n",
       "count                              5.290000e+03   \n",
       "mean                               1.373544e+01   \n",
       "std                                3.430484e+00   \n",
       "min                                2.489718e-17   \n",
       "25%                                1.202862e+01   \n",
       "50%                                1.496486e+01   \n",
       "75%                                1.596213e+01   \n",
       "max                                3.126971e+01   \n",
       "\n",
       "       secondary_cleaner.state.floatbank4_b_level  \\\n",
       "count                                 5290.000000   \n",
       "mean                                  -463.349858   \n",
       "std                                     86.189107   \n",
       "min                                   -800.836914   \n",
       "25%                                   -500.323028   \n",
       "50%                                   -499.576513   \n",
       "75%                                   -400.933805   \n",
       "max                                     -6.506986   \n",
       "\n",
       "       secondary_cleaner.state.floatbank5_a_air  \\\n",
       "count                               5290.000000   \n",
       "mean                                  12.804186   \n",
       "std                                    3.026591   \n",
       "min                                    0.069227   \n",
       "25%                                   10.914838   \n",
       "50%                                   12.954182   \n",
       "75%                                   15.097528   \n",
       "max                                   25.258848   \n",
       "\n",
       "       secondary_cleaner.state.floatbank5_a_level  \\\n",
       "count                                 5290.000000   \n",
       "mean                                  -501.329122   \n",
       "std                                     17.951495   \n",
       "min                                   -797.323986   \n",
       "25%                                   -500.726841   \n",
       "50%                                   -499.990332   \n",
       "75%                                   -499.283191   \n",
       "max                                   -244.483566   \n",
       "\n",
       "       secondary_cleaner.state.floatbank5_b_air  \\\n",
       "count                               5290.000000   \n",
       "mean                                   9.881145   \n",
       "std                                    2.868205   \n",
       "min                                    0.528083   \n",
       "25%                                    8.036719   \n",
       "50%                                   10.004301   \n",
       "75%                                   11.997467   \n",
       "max                                   14.086866   \n",
       "\n",
       "       secondary_cleaner.state.floatbank5_b_level  \\\n",
       "count                                 5290.000000   \n",
       "mean                                  -495.663398   \n",
       "std                                     34.535007   \n",
       "min                                   -800.220337   \n",
       "25%                                   -500.194668   \n",
       "50%                                   -499.990535   \n",
       "75%                                   -499.719913   \n",
       "max                                   -137.740004   \n",
       "\n",
       "       secondary_cleaner.state.floatbank6_a_air  \\\n",
       "count                               5290.000000   \n",
       "mean                                  17.304935   \n",
       "std                                    4.536544   \n",
       "min                                   -0.079426   \n",
       "25%                                   13.997317   \n",
       "50%                                   16.014935   \n",
       "75%                                   21.020013   \n",
       "max                                   26.705889   \n",
       "\n",
       "       secondary_cleaner.state.floatbank6_a_level  \n",
       "count                                 5290.000000  \n",
       "mean                                  -501.793193  \n",
       "std                                     39.044215  \n",
       "min                                   -809.741464  \n",
       "25%                                   -500.690984  \n",
       "50%                                   -500.007126  \n",
       "75%                                   -499.373018  \n",
       "max                                   -123.307487  \n",
       "\n",
       "[8 rows x 52 columns]"
      ]
     },
     "execution_count": 301,
     "metadata": {},
     "output_type": "execute_result"
    }
   ],
   "source": [
    "df_test.describe()"
   ]
  },
  {
   "cell_type": "markdown",
   "metadata": {},
   "source": [
    "Стандартное отклонение (std) у него слишком высокое в маленьком кол-ве наблюдений по сравнению остальных "
   ]
  },
  {
   "cell_type": "code",
   "execution_count": 302,
   "metadata": {},
   "outputs": [
    {
     "data": {
      "text/html": [
       "<div>\n",
       "<style scoped>\n",
       "    .dataframe tbody tr th:only-of-type {\n",
       "        vertical-align: middle;\n",
       "    }\n",
       "\n",
       "    .dataframe tbody tr th {\n",
       "        vertical-align: top;\n",
       "    }\n",
       "\n",
       "    .dataframe thead th {\n",
       "        text-align: right;\n",
       "    }\n",
       "</style>\n",
       "<table border=\"1\" class=\"dataframe\">\n",
       "  <thead>\n",
       "    <tr style=\"text-align: right;\">\n",
       "      <th></th>\n",
       "      <th>final.output.concentrate_ag</th>\n",
       "      <th>final.output.concentrate_pb</th>\n",
       "      <th>final.output.concentrate_sol</th>\n",
       "      <th>final.output.concentrate_au</th>\n",
       "      <th>final.output.recovery</th>\n",
       "      <th>final.output.tail_ag</th>\n",
       "      <th>final.output.tail_pb</th>\n",
       "      <th>final.output.tail_sol</th>\n",
       "      <th>final.output.tail_au</th>\n",
       "      <th>primary_cleaner.input.sulfate</th>\n",
       "      <th>...</th>\n",
       "      <th>secondary_cleaner.state.floatbank4_a_air</th>\n",
       "      <th>secondary_cleaner.state.floatbank4_a_level</th>\n",
       "      <th>secondary_cleaner.state.floatbank4_b_air</th>\n",
       "      <th>secondary_cleaner.state.floatbank4_b_level</th>\n",
       "      <th>secondary_cleaner.state.floatbank5_a_air</th>\n",
       "      <th>secondary_cleaner.state.floatbank5_a_level</th>\n",
       "      <th>secondary_cleaner.state.floatbank5_b_air</th>\n",
       "      <th>secondary_cleaner.state.floatbank5_b_level</th>\n",
       "      <th>secondary_cleaner.state.floatbank6_a_air</th>\n",
       "      <th>secondary_cleaner.state.floatbank6_a_level</th>\n",
       "    </tr>\n",
       "  </thead>\n",
       "  <tbody>\n",
       "    <tr>\n",
       "      <th>count</th>\n",
       "      <td>19438.000000</td>\n",
       "      <td>19438.000000</td>\n",
       "      <td>19228.000000</td>\n",
       "      <td>19439.000000</td>\n",
       "      <td>19439.000000</td>\n",
       "      <td>19438.000000</td>\n",
       "      <td>19338.000000</td>\n",
       "      <td>19433.000000</td>\n",
       "      <td>19439.000000</td>\n",
       "      <td>19415.000000</td>\n",
       "      <td>...</td>\n",
       "      <td>19433.000000</td>\n",
       "      <td>19438.000000</td>\n",
       "      <td>19438.000000</td>\n",
       "      <td>19438.000000</td>\n",
       "      <td>19438.000000</td>\n",
       "      <td>19438.000000</td>\n",
       "      <td>19438.000000</td>\n",
       "      <td>19438.000000</td>\n",
       "      <td>19437.000000</td>\n",
       "      <td>19438.000000</td>\n",
       "    </tr>\n",
       "    <tr>\n",
       "      <th>mean</th>\n",
       "      <td>5.168470</td>\n",
       "      <td>9.978895</td>\n",
       "      <td>9.501224</td>\n",
       "      <td>44.076513</td>\n",
       "      <td>67.050208</td>\n",
       "      <td>9.688589</td>\n",
       "      <td>2.705795</td>\n",
       "      <td>10.583728</td>\n",
       "      <td>3.042467</td>\n",
       "      <td>144.624774</td>\n",
       "      <td>...</td>\n",
       "      <td>18.987674</td>\n",
       "      <td>-485.894516</td>\n",
       "      <td>15.010366</td>\n",
       "      <td>-461.078636</td>\n",
       "      <td>15.694452</td>\n",
       "      <td>-488.684065</td>\n",
       "      <td>12.198224</td>\n",
       "      <td>-487.149827</td>\n",
       "      <td>18.959024</td>\n",
       "      <td>-505.436305</td>\n",
       "    </tr>\n",
       "    <tr>\n",
       "      <th>std</th>\n",
       "      <td>1.372348</td>\n",
       "      <td>1.669240</td>\n",
       "      <td>2.787537</td>\n",
       "      <td>5.129784</td>\n",
       "      <td>10.125840</td>\n",
       "      <td>2.328642</td>\n",
       "      <td>0.949077</td>\n",
       "      <td>2.868782</td>\n",
       "      <td>0.922808</td>\n",
       "      <td>44.464071</td>\n",
       "      <td>...</td>\n",
       "      <td>5.411058</td>\n",
       "      <td>47.758570</td>\n",
       "      <td>4.890228</td>\n",
       "      <td>67.405524</td>\n",
       "      <td>5.510974</td>\n",
       "      <td>34.533396</td>\n",
       "      <td>5.333024</td>\n",
       "      <td>38.347312</td>\n",
       "      <td>5.550498</td>\n",
       "      <td>37.689057</td>\n",
       "    </tr>\n",
       "    <tr>\n",
       "      <th>min</th>\n",
       "      <td>0.000000</td>\n",
       "      <td>0.000000</td>\n",
       "      <td>0.000000</td>\n",
       "      <td>0.000000</td>\n",
       "      <td>0.000000</td>\n",
       "      <td>0.000000</td>\n",
       "      <td>0.000000</td>\n",
       "      <td>0.000000</td>\n",
       "      <td>0.000000</td>\n",
       "      <td>0.003112</td>\n",
       "      <td>...</td>\n",
       "      <td>0.000000</td>\n",
       "      <td>-799.798523</td>\n",
       "      <td>0.000000</td>\n",
       "      <td>-800.836914</td>\n",
       "      <td>-0.372054</td>\n",
       "      <td>-797.323986</td>\n",
       "      <td>0.528083</td>\n",
       "      <td>-800.220337</td>\n",
       "      <td>-0.079426</td>\n",
       "      <td>-809.741464</td>\n",
       "    </tr>\n",
       "    <tr>\n",
       "      <th>25%</th>\n",
       "      <td>4.251240</td>\n",
       "      <td>9.137262</td>\n",
       "      <td>7.722820</td>\n",
       "      <td>43.402215</td>\n",
       "      <td>63.299712</td>\n",
       "      <td>8.062878</td>\n",
       "      <td>2.040119</td>\n",
       "      <td>8.938947</td>\n",
       "      <td>2.461138</td>\n",
       "      <td>114.107029</td>\n",
       "      <td>...</td>\n",
       "      <td>14.975734</td>\n",
       "      <td>-500.704892</td>\n",
       "      <td>11.940294</td>\n",
       "      <td>-500.187742</td>\n",
       "      <td>10.988606</td>\n",
       "      <td>-500.458467</td>\n",
       "      <td>8.971105</td>\n",
       "      <td>-500.129462</td>\n",
       "      <td>14.983037</td>\n",
       "      <td>-500.728067</td>\n",
       "    </tr>\n",
       "    <tr>\n",
       "      <th>50%</th>\n",
       "      <td>5.066094</td>\n",
       "      <td>10.102433</td>\n",
       "      <td>9.218961</td>\n",
       "      <td>45.011244</td>\n",
       "      <td>68.172738</td>\n",
       "      <td>9.743623</td>\n",
       "      <td>2.748730</td>\n",
       "      <td>10.622456</td>\n",
       "      <td>2.984909</td>\n",
       "      <td>143.232103</td>\n",
       "      <td>...</td>\n",
       "      <td>18.017481</td>\n",
       "      <td>-499.837793</td>\n",
       "      <td>14.971014</td>\n",
       "      <td>-499.459786</td>\n",
       "      <td>15.000036</td>\n",
       "      <td>-499.802605</td>\n",
       "      <td>11.019433</td>\n",
       "      <td>-499.935317</td>\n",
       "      <td>19.960541</td>\n",
       "      <td>-500.048400</td>\n",
       "    </tr>\n",
       "    <tr>\n",
       "      <th>75%</th>\n",
       "      <td>5.895527</td>\n",
       "      <td>11.035769</td>\n",
       "      <td>10.947813</td>\n",
       "      <td>46.275313</td>\n",
       "      <td>72.686642</td>\n",
       "      <td>11.134294</td>\n",
       "      <td>3.333216</td>\n",
       "      <td>12.104271</td>\n",
       "      <td>3.571351</td>\n",
       "      <td>175.075656</td>\n",
       "      <td>...</td>\n",
       "      <td>23.012470</td>\n",
       "      <td>-498.249730</td>\n",
       "      <td>19.034162</td>\n",
       "      <td>-400.118106</td>\n",
       "      <td>18.026190</td>\n",
       "      <td>-498.384187</td>\n",
       "      <td>14.019088</td>\n",
       "      <td>-499.436708</td>\n",
       "      <td>24.003170</td>\n",
       "      <td>-499.495378</td>\n",
       "    </tr>\n",
       "    <tr>\n",
       "      <th>max</th>\n",
       "      <td>16.001945</td>\n",
       "      <td>17.031899</td>\n",
       "      <td>19.615720</td>\n",
       "      <td>52.756638</td>\n",
       "      <td>100.000000</td>\n",
       "      <td>19.552149</td>\n",
       "      <td>5.804178</td>\n",
       "      <td>22.317730</td>\n",
       "      <td>8.245022</td>\n",
       "      <td>265.983123</td>\n",
       "      <td>...</td>\n",
       "      <td>30.115735</td>\n",
       "      <td>-245.239184</td>\n",
       "      <td>31.269706</td>\n",
       "      <td>-6.506986</td>\n",
       "      <td>43.709931</td>\n",
       "      <td>-244.483566</td>\n",
       "      <td>27.926001</td>\n",
       "      <td>-137.740004</td>\n",
       "      <td>32.188906</td>\n",
       "      <td>-104.427459</td>\n",
       "    </tr>\n",
       "  </tbody>\n",
       "</table>\n",
       "<p>8 rows × 86 columns</p>\n",
       "</div>"
      ],
      "text/plain": [
       "       final.output.concentrate_ag  final.output.concentrate_pb  \\\n",
       "count                 19438.000000                 19438.000000   \n",
       "mean                      5.168470                     9.978895   \n",
       "std                       1.372348                     1.669240   \n",
       "min                       0.000000                     0.000000   \n",
       "25%                       4.251240                     9.137262   \n",
       "50%                       5.066094                    10.102433   \n",
       "75%                       5.895527                    11.035769   \n",
       "max                      16.001945                    17.031899   \n",
       "\n",
       "       final.output.concentrate_sol  final.output.concentrate_au  \\\n",
       "count                  19228.000000                 19439.000000   \n",
       "mean                       9.501224                    44.076513   \n",
       "std                        2.787537                     5.129784   \n",
       "min                        0.000000                     0.000000   \n",
       "25%                        7.722820                    43.402215   \n",
       "50%                        9.218961                    45.011244   \n",
       "75%                       10.947813                    46.275313   \n",
       "max                       19.615720                    52.756638   \n",
       "\n",
       "       final.output.recovery  final.output.tail_ag  final.output.tail_pb  \\\n",
       "count           19439.000000          19438.000000          19338.000000   \n",
       "mean               67.050208              9.688589              2.705795   \n",
       "std                10.125840              2.328642              0.949077   \n",
       "min                 0.000000              0.000000              0.000000   \n",
       "25%                63.299712              8.062878              2.040119   \n",
       "50%                68.172738              9.743623              2.748730   \n",
       "75%                72.686642             11.134294              3.333216   \n",
       "max               100.000000             19.552149              5.804178   \n",
       "\n",
       "       final.output.tail_sol  final.output.tail_au  \\\n",
       "count           19433.000000          19439.000000   \n",
       "mean               10.583728              3.042467   \n",
       "std                 2.868782              0.922808   \n",
       "min                 0.000000              0.000000   \n",
       "25%                 8.938947              2.461138   \n",
       "50%                10.622456              2.984909   \n",
       "75%                12.104271              3.571351   \n",
       "max                22.317730              8.245022   \n",
       "\n",
       "       primary_cleaner.input.sulfate  ...  \\\n",
       "count                   19415.000000  ...   \n",
       "mean                      144.624774  ...   \n",
       "std                        44.464071  ...   \n",
       "min                         0.003112  ...   \n",
       "25%                       114.107029  ...   \n",
       "50%                       143.232103  ...   \n",
       "75%                       175.075656  ...   \n",
       "max                       265.983123  ...   \n",
       "\n",
       "       secondary_cleaner.state.floatbank4_a_air  \\\n",
       "count                              19433.000000   \n",
       "mean                                  18.987674   \n",
       "std                                    5.411058   \n",
       "min                                    0.000000   \n",
       "25%                                   14.975734   \n",
       "50%                                   18.017481   \n",
       "75%                                   23.012470   \n",
       "max                                   30.115735   \n",
       "\n",
       "       secondary_cleaner.state.floatbank4_a_level  \\\n",
       "count                                19438.000000   \n",
       "mean                                  -485.894516   \n",
       "std                                     47.758570   \n",
       "min                                   -799.798523   \n",
       "25%                                   -500.704892   \n",
       "50%                                   -499.837793   \n",
       "75%                                   -498.249730   \n",
       "max                                   -245.239184   \n",
       "\n",
       "       secondary_cleaner.state.floatbank4_b_air  \\\n",
       "count                              19438.000000   \n",
       "mean                                  15.010366   \n",
       "std                                    4.890228   \n",
       "min                                    0.000000   \n",
       "25%                                   11.940294   \n",
       "50%                                   14.971014   \n",
       "75%                                   19.034162   \n",
       "max                                   31.269706   \n",
       "\n",
       "       secondary_cleaner.state.floatbank4_b_level  \\\n",
       "count                                19438.000000   \n",
       "mean                                  -461.078636   \n",
       "std                                     67.405524   \n",
       "min                                   -800.836914   \n",
       "25%                                   -500.187742   \n",
       "50%                                   -499.459786   \n",
       "75%                                   -400.118106   \n",
       "max                                     -6.506986   \n",
       "\n",
       "       secondary_cleaner.state.floatbank5_a_air  \\\n",
       "count                              19438.000000   \n",
       "mean                                  15.694452   \n",
       "std                                    5.510974   \n",
       "min                                   -0.372054   \n",
       "25%                                   10.988606   \n",
       "50%                                   15.000036   \n",
       "75%                                   18.026190   \n",
       "max                                   43.709931   \n",
       "\n",
       "       secondary_cleaner.state.floatbank5_a_level  \\\n",
       "count                                19438.000000   \n",
       "mean                                  -488.684065   \n",
       "std                                     34.533396   \n",
       "min                                   -797.323986   \n",
       "25%                                   -500.458467   \n",
       "50%                                   -499.802605   \n",
       "75%                                   -498.384187   \n",
       "max                                   -244.483566   \n",
       "\n",
       "       secondary_cleaner.state.floatbank5_b_air  \\\n",
       "count                              19438.000000   \n",
       "mean                                  12.198224   \n",
       "std                                    5.333024   \n",
       "min                                    0.528083   \n",
       "25%                                    8.971105   \n",
       "50%                                   11.019433   \n",
       "75%                                   14.019088   \n",
       "max                                   27.926001   \n",
       "\n",
       "       secondary_cleaner.state.floatbank5_b_level  \\\n",
       "count                                19438.000000   \n",
       "mean                                  -487.149827   \n",
       "std                                     38.347312   \n",
       "min                                   -800.220337   \n",
       "25%                                   -500.129462   \n",
       "50%                                   -499.935317   \n",
       "75%                                   -499.436708   \n",
       "max                                   -137.740004   \n",
       "\n",
       "       secondary_cleaner.state.floatbank6_a_air  \\\n",
       "count                              19437.000000   \n",
       "mean                                  18.959024   \n",
       "std                                    5.550498   \n",
       "min                                   -0.079426   \n",
       "25%                                   14.983037   \n",
       "50%                                   19.960541   \n",
       "75%                                   24.003170   \n",
       "max                                   32.188906   \n",
       "\n",
       "       secondary_cleaner.state.floatbank6_a_level  \n",
       "count                                19438.000000  \n",
       "mean                                  -505.436305  \n",
       "std                                     37.689057  \n",
       "min                                   -809.741464  \n",
       "25%                                   -500.728067  \n",
       "50%                                   -500.048400  \n",
       "75%                                   -499.495378  \n",
       "max                                   -104.427459  \n",
       "\n",
       "[8 rows x 86 columns]"
      ]
     },
     "execution_count": 302,
     "metadata": {},
     "output_type": "execute_result"
    }
   ],
   "source": [
    "df_full.describe()"
   ]
  },
  {
   "cell_type": "code",
   "execution_count": 303,
   "metadata": {},
   "outputs": [],
   "source": [
    "# Проверим на наличие пропущенных значений\n",
    "def check_missed_columns(dataset):\n",
    "    name_columns = dataset.columns\n",
    "    \n",
    "    for i in name_columns:\n",
    "        if(dataset[i].isna().sum() > 0):\n",
    "            print(f'{i}: {dataset[i].isna().sum()}')\n",
    "            \n",
    "        if(i == name_columns[len(name_columns) - 1]):\n",
    "            print('Отсутствует пропущенное значение')"
   ]
  },
  {
   "cell_type": "code",
   "execution_count": 304,
   "metadata": {
    "scrolled": true
   },
   "outputs": [
    {
     "name": "stdout",
     "output_type": "stream",
     "text": [
      "final.output.concentrate_ag: 1\n",
      "final.output.concentrate_pb: 1\n",
      "final.output.concentrate_sol: 211\n",
      "final.output.tail_pb: 100\n",
      "final.output.tail_sol: 5\n",
      "primary_cleaner.input.sulfate: 20\n",
      "primary_cleaner.input.depressant: 32\n",
      "primary_cleaner.input.xanthate: 100\n",
      "primary_cleaner.output.concentrate_pb: 86\n",
      "primary_cleaner.output.concentrate_sol: 286\n",
      "primary_cleaner.output.tail_ag: 1\n",
      "primary_cleaner.output.tail_pb: 15\n",
      "primary_cleaner.output.tail_sol: 46\n",
      "primary_cleaner.state.floatbank8_a_air: 4\n",
      "primary_cleaner.state.floatbank8_a_level: 1\n",
      "primary_cleaner.state.floatbank8_b_air: 4\n",
      "primary_cleaner.state.floatbank8_b_level: 1\n",
      "primary_cleaner.state.floatbank8_c_air: 2\n",
      "primary_cleaner.state.floatbank8_c_level: 1\n",
      "primary_cleaner.state.floatbank8_d_air: 3\n",
      "primary_cleaner.state.floatbank8_d_level: 1\n",
      "rougher.calculation.sulfate_to_au_concentrate: 1\n",
      "rougher.calculation.floatbank10_sulfate_to_au_feed: 1\n",
      "rougher.calculation.floatbank11_sulfate_to_au_feed: 1\n",
      "rougher.input.feed_pb: 100\n",
      "rougher.input.feed_rate: 8\n",
      "rougher.input.feed_size: 144\n",
      "rougher.input.feed_sol: 78\n",
      "rougher.input.floatbank10_sulfate: 29\n",
      "rougher.input.floatbank10_xanthate: 8\n",
      "rougher.input.floatbank11_sulfate: 36\n",
      "rougher.input.floatbank11_xanthate: 428\n",
      "rougher.output.concentrate_sol: 22\n",
      "rougher.output.tail_ag: 1\n",
      "rougher.state.floatbank10_a_air: 1\n",
      "rougher.state.floatbank10_a_level: 1\n",
      "rougher.state.floatbank10_b_air: 1\n",
      "rougher.state.floatbank10_b_level: 1\n",
      "rougher.state.floatbank10_c_air: 1\n",
      "rougher.state.floatbank10_c_level: 1\n",
      "rougher.state.floatbank10_e_air: 436\n",
      "secondary_cleaner.output.tail_ag: 2\n",
      "secondary_cleaner.output.tail_pb: 10\n",
      "secondary_cleaner.output.tail_sol: 1605\n",
      "secondary_cleaner.state.floatbank2_a_air: 217\n",
      "secondary_cleaner.state.floatbank2_a_level: 1\n",
      "secondary_cleaner.state.floatbank2_b_air: 21\n",
      "secondary_cleaner.state.floatbank2_b_level: 1\n",
      "secondary_cleaner.state.floatbank3_a_air: 4\n",
      "secondary_cleaner.state.floatbank3_a_level: 1\n",
      "secondary_cleaner.state.floatbank3_b_air: 1\n",
      "secondary_cleaner.state.floatbank3_b_level: 1\n",
      "secondary_cleaner.state.floatbank4_a_air: 6\n",
      "secondary_cleaner.state.floatbank4_a_level: 1\n",
      "secondary_cleaner.state.floatbank4_b_air: 1\n",
      "secondary_cleaner.state.floatbank4_b_level: 1\n",
      "secondary_cleaner.state.floatbank5_a_air: 1\n",
      "secondary_cleaner.state.floatbank5_a_level: 1\n",
      "secondary_cleaner.state.floatbank5_b_air: 1\n",
      "secondary_cleaner.state.floatbank5_b_level: 1\n",
      "secondary_cleaner.state.floatbank6_a_air: 2\n",
      "secondary_cleaner.state.floatbank6_a_level: 1\n",
      "Отсутствует пропущенное значение\n"
     ]
    }
   ],
   "source": [
    "check_missed_columns(df_train)"
   ]
  },
  {
   "cell_type": "code",
   "execution_count": 305,
   "metadata": {},
   "outputs": [
    {
     "name": "stdout",
     "output_type": "stream",
     "text": [
      "primary_cleaner.input.sulfate: 4\n",
      "primary_cleaner.input.depressant: 5\n",
      "primary_cleaner.input.xanthate: 4\n",
      "rougher.input.feed_rate: 3\n",
      "rougher.input.feed_size: 1\n",
      "rougher.input.feed_sol: 21\n",
      "rougher.input.floatbank10_sulfate: 5\n",
      "rougher.input.floatbank11_sulfate: 8\n",
      "rougher.input.floatbank11_xanthate: 25\n",
      "secondary_cleaner.state.floatbank2_a_air: 3\n",
      "secondary_cleaner.state.floatbank2_b_air: 2\n",
      "secondary_cleaner.state.floatbank3_a_air: 9\n",
      "Отсутствует пропущенное значение\n"
     ]
    }
   ],
   "source": [
    "check_missed_columns(df_test)"
   ]
  },
  {
   "cell_type": "code",
   "execution_count": 306,
   "metadata": {
    "scrolled": true
   },
   "outputs": [
    {
     "name": "stdout",
     "output_type": "stream",
     "text": [
      "final.output.concentrate_ag: 1\n",
      "final.output.concentrate_pb: 1\n",
      "final.output.concentrate_sol: 211\n",
      "final.output.tail_ag: 1\n",
      "final.output.tail_pb: 101\n",
      "final.output.tail_sol: 6\n",
      "primary_cleaner.input.sulfate: 24\n",
      "primary_cleaner.input.depressant: 37\n",
      "primary_cleaner.input.xanthate: 104\n",
      "primary_cleaner.output.concentrate_pb: 116\n",
      "primary_cleaner.output.concentrate_sol: 370\n",
      "primary_cleaner.output.tail_ag: 4\n",
      "primary_cleaner.output.tail_pb: 21\n",
      "primary_cleaner.output.tail_sol: 62\n",
      "primary_cleaner.state.floatbank8_a_air: 4\n",
      "primary_cleaner.state.floatbank8_a_level: 1\n",
      "primary_cleaner.state.floatbank8_b_air: 4\n",
      "primary_cleaner.state.floatbank8_b_level: 1\n",
      "primary_cleaner.state.floatbank8_c_air: 2\n",
      "primary_cleaner.state.floatbank8_c_level: 1\n",
      "primary_cleaner.state.floatbank8_d_air: 3\n",
      "primary_cleaner.state.floatbank8_d_level: 1\n",
      "rougher.calculation.sulfate_to_au_concentrate: 2\n",
      "rougher.calculation.floatbank10_sulfate_to_au_feed: 2\n",
      "rougher.calculation.floatbank11_sulfate_to_au_feed: 2\n",
      "rougher.input.feed_pb: 100\n",
      "rougher.input.feed_rate: 11\n",
      "rougher.input.feed_size: 145\n",
      "rougher.input.feed_sol: 99\n",
      "rougher.input.floatbank10_sulfate: 34\n",
      "rougher.input.floatbank10_xanthate: 8\n",
      "rougher.input.floatbank11_sulfate: 44\n",
      "rougher.input.floatbank11_xanthate: 453\n",
      "rougher.output.concentrate_sol: 23\n",
      "rougher.output.tail_ag: 1\n",
      "rougher.state.floatbank10_a_air: 1\n",
      "rougher.state.floatbank10_a_level: 1\n",
      "rougher.state.floatbank10_b_air: 1\n",
      "rougher.state.floatbank10_b_level: 1\n",
      "rougher.state.floatbank10_c_air: 1\n",
      "rougher.state.floatbank10_c_level: 1\n",
      "rougher.state.floatbank10_e_air: 436\n",
      "secondary_cleaner.output.tail_ag: 2\n",
      "secondary_cleaner.output.tail_pb: 12\n",
      "secondary_cleaner.output.tail_sol: 1748\n",
      "secondary_cleaner.state.floatbank2_a_air: 220\n",
      "secondary_cleaner.state.floatbank2_a_level: 1\n",
      "secondary_cleaner.state.floatbank2_b_air: 23\n",
      "secondary_cleaner.state.floatbank2_b_level: 1\n",
      "secondary_cleaner.state.floatbank3_a_air: 13\n",
      "secondary_cleaner.state.floatbank3_a_level: 1\n",
      "secondary_cleaner.state.floatbank3_b_air: 1\n",
      "secondary_cleaner.state.floatbank3_b_level: 1\n",
      "secondary_cleaner.state.floatbank4_a_air: 6\n",
      "secondary_cleaner.state.floatbank4_a_level: 1\n",
      "secondary_cleaner.state.floatbank4_b_air: 1\n",
      "secondary_cleaner.state.floatbank4_b_level: 1\n",
      "secondary_cleaner.state.floatbank5_a_air: 1\n",
      "secondary_cleaner.state.floatbank5_a_level: 1\n",
      "secondary_cleaner.state.floatbank5_b_air: 1\n",
      "secondary_cleaner.state.floatbank5_b_level: 1\n",
      "secondary_cleaner.state.floatbank6_a_air: 2\n",
      "secondary_cleaner.state.floatbank6_a_level: 1\n",
      "Отсутствует пропущенное значение\n"
     ]
    }
   ],
   "source": [
    "check_missed_columns(df_full)"
   ]
  },
  {
   "cell_type": "markdown",
   "metadata": {},
   "source": [
    "Не так уж критично много пропущенных значений, поэтому можно смело их удалять"
   ]
  },
  {
   "cell_type": "code",
   "execution_count": 307,
   "metadata": {},
   "outputs": [],
   "source": [
    "# Заполняем пропуски -1 в качестве как загрушки\n",
    "df_train = df_train.ffill()\n",
    "df_test = df_test.ffill()\n",
    "df_full = df_full.ffill()"
   ]
  },
  {
   "cell_type": "markdown",
   "metadata": {},
   "source": [
    "<div class=\"alert alert-warning\">\n",
    "    <h2> Комментарий ревьюера <a class=\"tocSkip\"> </h2>\n",
    "    \n",
    "<b>Некоторые замечания и рекомендации💡:</b> \n",
    "        \n",
    "Обработка пропусков таким способом возможна. Обрати пожалуйста внимание, что все наблюдения представляют собой последовательные измерения, заполнинить пропуски можно и  методами `pandas`: `ffill`/ `bfill`/ интерполяцией , это вполне уместно.\\\n",
    "Хочу посоветовать тебе статью, которая рассматривает разные способы обработки пропусков, выделяет их плюсы и минусы, думаю, тебе может быть интересно: https://loginom.ru/blog/missing   "
   ]
  },
  {
   "cell_type": "markdown",
   "metadata": {},
   "source": [
    "<div class=\"alert alert-info\">\n",
    "<h2> Комментарий студента V2: <a class=\"tocSkip\"> </h2>\n",
    "\n",
    "- Изменил с dropna на fillna(-1) в качестве как заглушки\n",
    "    \n",
    "    \n",
    "- Было:\n",
    "    \n",
    "    df_train = df_train.dropna()\n",
    "    \n",
    "    df_test = df_test.dropna()\n",
    "    \n",
    "    df_full = df_full.dropna()\n",
    "    \n",
    "</div> "
   ]
  },
  {
   "cell_type": "markdown",
   "metadata": {},
   "source": [
    "<div class=\"alert alert-warning\">\n",
    "    <h2> Комментарий ревьюера v.2 <a class=\"tocSkip\"> </h2>\n",
    "    \n",
    "<b>Некоторые замечания и рекомендации💡:</b> \n",
    "        \n",
    "Смысл в том, чтобы заполнять не заглушкой, а соседним значением, например ffill() "
   ]
  },
  {
   "cell_type": "markdown",
   "metadata": {},
   "source": [
    "<div class=\"alert alert-info\">\n",
    "<h2> Комментарий студента V3: <a class=\"tocSkip\"> </h2>\n",
    "\n",
    "- Изменил с fillna(-1) на ffill()\n",
    "    \n",
    "    \n",
    "- Было:\n",
    "    \n",
    "    df_train = df_train.fillna(-1)\n",
    "    \n",
    "    df_test = df_test.fillna(-1)\n",
    "    \n",
    "    df_full = df_full.fillna(-1)\n",
    "    \n",
    "</div> "
   ]
  },
  {
   "cell_type": "code",
   "execution_count": 308,
   "metadata": {},
   "outputs": [
    {
     "name": "stdout",
     "output_type": "stream",
     "text": [
      "Отсутствует пропущенное значение\n",
      "Отсутствует пропущенное значение\n",
      "Отсутствует пропущенное значение\n"
     ]
    }
   ],
   "source": [
    "check_missed_columns(df_train)\n",
    "check_missed_columns(df_test)\n",
    "check_missed_columns(df_full)"
   ]
  },
  {
   "cell_type": "code",
   "execution_count": 309,
   "metadata": {},
   "outputs": [
    {
     "name": "stdout",
     "output_type": "stream",
     "text": [
      "Кол-во дубликатов df_train: 0\n",
      "Кол-во дубликатов df_test: 0\n",
      "Кол-во дубликатов df_full: 0\n"
     ]
    }
   ],
   "source": [
    "# Посчитаем дубликаты\n",
    "print('Кол-во дубликатов df_train:', df_train.duplicated().sum())\n",
    "\n",
    "print('Кол-во дубликатов df_test:', df_test.duplicated().sum())\n",
    "\n",
    "print('Кол-во дубликатов df_full:', df_full.duplicated().sum())"
   ]
  },
  {
   "cell_type": "markdown",
   "metadata": {},
   "source": [
    "### Проверим, что эффективность обогащения рассчитана правильно. Вычислим её на обучающей выборке для признака ```rougher.output.recovery```. Найдем MAE между нашими расчётами и значением признака. Опишим выводы."
   ]
  },
  {
   "cell_type": "markdown",
   "metadata": {},
   "source": [
    "#### Проверим на расчет эффективности обогащения\n",
    "\n",
    "**RECOVERY = (C * (F - T)) / (F * (C - T)) * 100%**\n",
    "\n",
    "\n",
    "где:\n",
    "- C — доля золота в концентрате после флотации/очистки;\n",
    "- F — доля золота в сырье/концентрате до флотации/очистки;\n",
    "- T — доля золота в отвальных хвостах после флотации/очистки."
   ]
  },
  {
   "cell_type": "markdown",
   "metadata": {},
   "source": [
    "Вспомним наименование признаков:\n",
    "\n",
    "```[этап].[тип_параметра].[название_параметра]```\n"
   ]
  },
  {
   "cell_type": "code",
   "execution_count": 310,
   "metadata": {},
   "outputs": [],
   "source": [
    "calculation_effectiveness = {}\n",
    "# Находим долю золота в концентрате после флотации/очистки\n",
    "# т.е. нам интересует эти:\n",
    "# rougher.output.concentrate_au (флотация.параметры_продукта.концентраты_золота)\n",
    "calculation_effectiveness['c_au_output'] = df_train['rougher.output.concentrate_au']\n",
    "\n",
    "# Находим долю золота в сырье/концентрате до флотации/очистки\n",
    "# rougher.input.feed_au (флотация.параметры_сырья.потребление_золота)\n",
    "calculation_effectiveness['f_au_input'] = df_train['rougher.input.feed_au']\n",
    "\n",
    "# Находим долю золота в отвальных хвостах после флотации/очистки\n",
    "# rougher.output.tail_au (флотация.параметры_сырья.отвальные_хвостики)\n",
    "calculation_effectiveness['t_au_concentrate'] = df_train['rougher.output.tail_au']"
   ]
  },
  {
   "cell_type": "code",
   "execution_count": 311,
   "metadata": {},
   "outputs": [],
   "source": [
    "# Вычисляем долю\n",
    "calculation_effectiveness['recovery'] = (calculation_effectiveness['c_au_output'] * (calculation_effectiveness['f_au_input'] - calculation_effectiveness['t_au_concentrate'])) / (calculation_effectiveness['f_au_input'] * (calculation_effectiveness['c_au_output'] - calculation_effectiveness['t_au_concentrate'])) * 100"
   ]
  },
  {
   "cell_type": "code",
   "execution_count": 312,
   "metadata": {},
   "outputs": [
    {
     "name": "stdout",
     "output_type": "stream",
     "text": [
      "Эффективность обогащения:\n",
      "0        87.107763\n",
      "1        86.843261\n",
      "2        86.842308\n",
      "3        87.226430\n",
      "4        86.688794\n",
      "           ...    \n",
      "14144    89.574376\n",
      "14145    87.724007\n",
      "14146    88.890579\n",
      "14147    89.858126\n",
      "14148    89.514960\n",
      "Length: 14149, dtype: float64\n"
     ]
    }
   ],
   "source": [
    "print('Эффективность обогащения:')\n",
    "print(calculation_effectiveness['recovery'])"
   ]
  },
  {
   "cell_type": "markdown",
   "metadata": {},
   "source": [
    "#### Находим MAE между нашими расчетами и значением признака \n",
    "***Чем меньше и близок к 0, тем лучше***"
   ]
  },
  {
   "cell_type": "code",
   "execution_count": 313,
   "metadata": {},
   "outputs": [],
   "source": [
    "calculation_effectiveness['mae'] = mean_absolute_error(df_train['rougher.output.recovery'], calculation_effectiveness['recovery'])"
   ]
  },
  {
   "cell_type": "code",
   "execution_count": 314,
   "metadata": {},
   "outputs": [
    {
     "name": "stdout",
     "output_type": "stream",
     "text": [
      "MAE: 9.73512347450521e-15\n"
     ]
    }
   ],
   "source": [
    "print('MAE:', calculation_effectiveness['mae'])"
   ]
  },
  {
   "cell_type": "markdown",
   "metadata": {},
   "source": [
    "Здесь можно заметить, что значение очень крайно маленькое, т.е. ср.абс. ошибка очень мала, значит отклонения между столбцом rougher.output.recovery и эти данные небольшая"
   ]
  },
  {
   "cell_type": "markdown",
   "metadata": {},
   "source": [
    "<div class=\"alert alert-success\">\n",
    "<h2> Комментарий ревьюера <a class=\"tocSkip\"> </h2>\n",
    "\n",
    "<b>Все отлично!👍:</b> \n",
    "    \n",
    "Твое расссчитанное значение `MAE` верно)"
   ]
  },
  {
   "cell_type": "markdown",
   "metadata": {},
   "source": [
    "#### Проанализируйте признаки, недоступные в тестовой выборке. Что это за параметры? К какому типу относятся?"
   ]
  },
  {
   "cell_type": "code",
   "execution_count": 315,
   "metadata": {
    "scrolled": true
   },
   "outputs": [
    {
     "data": {
      "text/plain": [
       "date                                           object\n",
       "primary_cleaner.input.sulfate                 float64\n",
       "primary_cleaner.input.depressant              float64\n",
       "primary_cleaner.input.feed_size               float64\n",
       "primary_cleaner.input.xanthate                float64\n",
       "primary_cleaner.state.floatbank8_a_air        float64\n",
       "primary_cleaner.state.floatbank8_a_level      float64\n",
       "primary_cleaner.state.floatbank8_b_air        float64\n",
       "primary_cleaner.state.floatbank8_b_level      float64\n",
       "primary_cleaner.state.floatbank8_c_air        float64\n",
       "primary_cleaner.state.floatbank8_c_level      float64\n",
       "primary_cleaner.state.floatbank8_d_air        float64\n",
       "primary_cleaner.state.floatbank8_d_level      float64\n",
       "rougher.input.feed_ag                         float64\n",
       "rougher.input.feed_pb                         float64\n",
       "rougher.input.feed_rate                       float64\n",
       "rougher.input.feed_size                       float64\n",
       "rougher.input.feed_sol                        float64\n",
       "rougher.input.feed_au                         float64\n",
       "rougher.input.floatbank10_sulfate             float64\n",
       "rougher.input.floatbank10_xanthate            float64\n",
       "rougher.input.floatbank11_sulfate             float64\n",
       "rougher.input.floatbank11_xanthate            float64\n",
       "rougher.state.floatbank10_a_air               float64\n",
       "rougher.state.floatbank10_a_level             float64\n",
       "rougher.state.floatbank10_b_air               float64\n",
       "rougher.state.floatbank10_b_level             float64\n",
       "rougher.state.floatbank10_c_air               float64\n",
       "rougher.state.floatbank10_c_level             float64\n",
       "rougher.state.floatbank10_d_air               float64\n",
       "rougher.state.floatbank10_d_level             float64\n",
       "rougher.state.floatbank10_e_air               float64\n",
       "rougher.state.floatbank10_e_level             float64\n",
       "rougher.state.floatbank10_f_air               float64\n",
       "rougher.state.floatbank10_f_level             float64\n",
       "secondary_cleaner.state.floatbank2_a_air      float64\n",
       "secondary_cleaner.state.floatbank2_a_level    float64\n",
       "secondary_cleaner.state.floatbank2_b_air      float64\n",
       "secondary_cleaner.state.floatbank2_b_level    float64\n",
       "secondary_cleaner.state.floatbank3_a_air      float64\n",
       "secondary_cleaner.state.floatbank3_a_level    float64\n",
       "secondary_cleaner.state.floatbank3_b_air      float64\n",
       "secondary_cleaner.state.floatbank3_b_level    float64\n",
       "secondary_cleaner.state.floatbank4_a_air      float64\n",
       "secondary_cleaner.state.floatbank4_a_level    float64\n",
       "secondary_cleaner.state.floatbank4_b_air      float64\n",
       "secondary_cleaner.state.floatbank4_b_level    float64\n",
       "secondary_cleaner.state.floatbank5_a_air      float64\n",
       "secondary_cleaner.state.floatbank5_a_level    float64\n",
       "secondary_cleaner.state.floatbank5_b_air      float64\n",
       "secondary_cleaner.state.floatbank5_b_level    float64\n",
       "secondary_cleaner.state.floatbank6_a_air      float64\n",
       "secondary_cleaner.state.floatbank6_a_level    float64\n",
       "dtype: object"
      ]
     },
     "execution_count": 315,
     "metadata": {},
     "output_type": "execute_result"
    }
   ],
   "source": [
    "# Смотрим типы колонки\n",
    "df_test.dtypes"
   ]
  },
  {
   "cell_type": "markdown",
   "metadata": {},
   "source": [
    "Здесь можно обнаружить, что отсутствуют признаки: `rougher.output.recovery`, `final.output.recovery` вещественного типа"
   ]
  },
  {
   "cell_type": "markdown",
   "metadata": {},
   "source": [
    "<div class=\"alert alert-warning\">\n",
    "    <h2> Комментарий ревьюера <a class=\"tocSkip\"> </h2>\n",
    "    \n",
    "<b>Некоторые замечания и рекомендации💡:</b>  \n",
    "    \n",
    "В тестовой выборке недоступны некоторые расчетные (calculation) и выходные (output) характеристики процесса, ведь их невозможно получить либо замерить во время выполнения технологического процесса."
   ]
  },
  {
   "cell_type": "markdown",
   "metadata": {},
   "source": [
    "<div class=\"alert alert-info\">\n",
    "<h2> Комментарий студента V2: <a class=\"tocSkip\"> </h2>\n",
    "    \n",
    "А да, помимо этого есть еще другие отсутствующие признаки\n",
    "    \n",
    "</div>"
   ]
  },
  {
   "cell_type": "markdown",
   "metadata": {},
   "source": [
    "<div class=\"alert alert-success\">\n",
    "<h2> Комментарий ревьюера v.2 <a class=\"tocSkip\"> </h2>\n",
    "\n",
    "<b>Все отлично!👍:</b>"
   ]
  },
  {
   "cell_type": "markdown",
   "metadata": {},
   "source": [
    "### Предобработка данных уже проведены, пропуски удалены, дублирующие значения отсутствуют"
   ]
  },
  {
   "cell_type": "markdown",
   "metadata": {},
   "source": [
    "## Анализ данных"
   ]
  },
  {
   "cell_type": "markdown",
   "metadata": {},
   "source": [
    "### Посмотрим, как меняется концентрация металлов (Au, Ag, Pb) на различных этапах очистки"
   ]
  },
  {
   "cell_type": "code",
   "execution_count": 316,
   "metadata": {},
   "outputs": [],
   "source": [
    "metals = ['au', 'ag', 'pb']\n",
    "\n",
    "# У нас 2 этапа очистки: первый (primary_cleaner) и второй (secondary_cleaner)\n",
    "primary_cleaner = ['rougher.input.feed_', # Вход металлы к флотации\n",
    "                   'rougher.output.concentrate_', # Выход металлы с флотации\n",
    "                   'primary_cleaner.output.concentrate_', # Вход в первый этап очищения, очищаем, и выход с первого этапа очищенные металлы\n",
    "                   'primary_cleaner.output.tail_'] # Отвальные хвосты с 1 этапа\n",
    "\n",
    "secondary_cleaner = ['primary_cleaner.output.concentrate_', # Поступаем к очищению с первого этапа\n",
    "                     'final.output.concentrate_', # Очищаем, и выход второй очищенные металлы (финал)\n",
    "                     'final.output.tail_']  # Отвальные хвосты с 2 этапа"
   ]
  },
  {
   "cell_type": "markdown",
   "metadata": {},
   "source": [
    "#### Золото"
   ]
  },
  {
   "cell_type": "markdown",
   "metadata": {},
   "source": [
    "Рассмотрим гистограмму металла: золото"
   ]
  },
  {
   "cell_type": "code",
   "execution_count": 317,
   "metadata": {
    "scrolled": false
   },
   "outputs": [
    {
     "data": {
      "image/png": "[encoded data removed]",
      "text/plain": [
       "<Figure size 1080x720 with 1 Axes>"
      ]
     },
     "metadata": {
      "needs_background": "light"
     },
     "output_type": "display_data"
    }
   ],
   "source": [
    "# Металл: золото первый этап очистки\n",
    "for stage in primary_cleaner:\n",
    "        plt.title('Гистограмма распределения концентрации золота')\n",
    "        df_train[stage + metals[0]].plot(kind=\"hist\", grid=True, figsize=(15,10), bins=(100), alpha=0.5)\n",
    "        plt.xlabel('Концентрация металла: ' + metals[0])\n",
    "        plt.ylabel('Кол-во: ' + metals[0])\n",
    "        plt.legend(loc='upper right', fontsize='medium')"
   ]
  },
  {
   "cell_type": "markdown",
   "metadata": {},
   "source": [
    "Как видно, что после флотации концетрация увеличилась кратно. Но после первого этапа очистки очистки концентрация металла тоже намного увеличилась, отвальных хвостов практически мало. Рассмотрим концетрацию металла после второго этапа очистки"
   ]
  },
  {
   "cell_type": "code",
   "execution_count": 318,
   "metadata": {},
   "outputs": [
    {
     "data": {
      "image/png": "[encoded data removed]",
      "text/plain": [
       "<Figure size 1080x720 with 1 Axes>"
      ]
     },
     "metadata": {
      "needs_background": "light"
     },
     "output_type": "display_data"
    }
   ],
   "source": [
    "# Металл: золото второй этап очистки\n",
    "for stage in secondary_cleaner:\n",
    "        plt.title('Гистограмма распределения концентрации золота')\n",
    "        df_train[stage + metals[0]].plot(kind=\"hist\", grid=True, figsize=(15,10), bins=(100), alpha=0.5)\n",
    "        plt.xlabel('Концентрация металла: ' + metals[0])\n",
    "        plt.ylabel('Кол-во: ' + metals[0])\n",
    "        plt.legend(loc='upper right', fontsize='medium')"
   ]
  },
  {
   "cell_type": "markdown",
   "metadata": {},
   "source": [
    "Здесь отличный результат получился, концентрация золота после второго этапа получилась высокой"
   ]
  },
  {
   "cell_type": "markdown",
   "metadata": {},
   "source": [
    "#### Серебро"
   ]
  },
  {
   "cell_type": "markdown",
   "metadata": {},
   "source": [
    "Рассмотрим гистограмму металла: серебро"
   ]
  },
  {
   "cell_type": "code",
   "execution_count": 319,
   "metadata": {},
   "outputs": [
    {
     "data": {
      "image/png": "[encoded data removed]",
      "text/plain": [
       "<Figure size 1080x720 with 1 Axes>"
      ]
     },
     "metadata": {
      "needs_background": "light"
     },
     "output_type": "display_data"
    }
   ],
   "source": [
    "# Металл: серебро первый этап очистки\n",
    "for stage in primary_cleaner:\n",
    "        plt.title('Гистограмма распределения концентрации серебра')\n",
    "        df_train[stage + metals[1]].plot(kind=\"hist\", grid=True, figsize=(15,10), bins=(100), alpha=0.5)\n",
    "        plt.xlabel('Концентрация металла: ' + metals[1])\n",
    "        plt.ylabel('Кол-во: ' + metals[1])\n",
    "        plt.legend(loc='upper right', fontsize='medium')"
   ]
  },
  {
   "cell_type": "markdown",
   "metadata": {},
   "source": [
    "Здесь как то печально получилось, что концентрации отвальных хвостов больше остальных. А после первого этапа очистки концентрация серебра намного меньше по сравнению до этапа очистки, т.е. концентрация вернулась до изначального уровня. Рассмотрим, второй этап очистки вывезет?"
   ]
  },
  {
   "cell_type": "code",
   "execution_count": 320,
   "metadata": {},
   "outputs": [
    {
     "data": {
      "image/png": "[encoded data removed]",
      "text/plain": [
       "<Figure size 1080x720 with 1 Axes>"
      ]
     },
     "metadata": {
      "needs_background": "light"
     },
     "output_type": "display_data"
    }
   ],
   "source": [
    "# Металл: золото второй этап очистки\n",
    "for stage in secondary_cleaner:\n",
    "        plt.title('Гистограмма распределения концентрации серебра')\n",
    "        df_train[stage + metals[1]].plot(kind=\"hist\", grid=True, figsize=(15,10), bins=(100), alpha=0.5)\n",
    "        plt.xlabel('Концентрация металла: ' + metals[1])\n",
    "        plt.ylabel('Кол-во: ' + metals[1])\n",
    "        plt.legend(loc='upper right', fontsize='medium')"
   ]
  },
  {
   "cell_type": "markdown",
   "metadata": {},
   "source": [
    "Не совсем уж сладко получилось, концентрация все меньше меньше. Значит, чтобы получить много серебра, придется придерживаться этапа очистки, т.е. после флотации достаточно будет"
   ]
  },
  {
   "cell_type": "markdown",
   "metadata": {},
   "source": [
    "#### Свинец"
   ]
  },
  {
   "cell_type": "markdown",
   "metadata": {},
   "source": [
    "Рассмотрим гистограмму металла: свинец"
   ]
  },
  {
   "cell_type": "code",
   "execution_count": 321,
   "metadata": {},
   "outputs": [
    {
     "data": {
      "image/png": "[encoded data removed]",
      "text/plain": [
       "<Figure size 1080x720 with 1 Axes>"
      ]
     },
     "metadata": {
      "needs_background": "light"
     },
     "output_type": "display_data"
    }
   ],
   "source": [
    "# Металл: свинец первый этап очистки\n",
    "for stage in primary_cleaner:\n",
    "        plt.title('Гистограмма распределения концентрации свинца')\n",
    "        df_train[stage + metals[2]].plot(kind=\"hist\", grid=True, figsize=(15,10), bins=(100), alpha=0.5)\n",
    "        plt.xlabel('Концентрация металла: ' + metals[2])\n",
    "        plt.ylabel('Кол-во: ' + metals[2])\n",
    "        plt.legend(loc='upper right', fontsize='medium')"
   ]
  },
  {
   "cell_type": "markdown",
   "metadata": {},
   "source": [
    "Здесь немного получше по сравнению со серебром, отвальных хвостов меньше и держится на уровне до флотации. После первого этапа очистки концентрация примерно сравняется до этапа очистки. Рассмотрим после второго этапа очистки"
   ]
  },
  {
   "cell_type": "code",
   "execution_count": 322,
   "metadata": {},
   "outputs": [
    {
     "data": {
      "image/png": "[encoded data removed]",
      "text/plain": [
       "<Figure size 1080x720 with 1 Axes>"
      ]
     },
     "metadata": {
      "needs_background": "light"
     },
     "output_type": "display_data"
    }
   ],
   "source": [
    "# Металл: золото второй этап очистки\n",
    "for stage in secondary_cleaner:\n",
    "        plt.title('Гистограмма распределения концентрации свинца')\n",
    "        df_train[stage + metals[2]].plot(kind=\"hist\", grid=True, figsize=(15,10), bins=(100), alpha=0.5)\n",
    "        plt.xlabel('Концентрация металла: ' + metals[2])\n",
    "        plt.ylabel('Кол-во: ' + metals[2])\n",
    "        plt.legend(loc='upper right', fontsize='medium')"
   ]
  },
  {
   "cell_type": "markdown",
   "metadata": {},
   "source": [
    "Отвальных хвостов мало, неплохо получилось. А концентрация после второго очистки получилась примерно такой же, но сужалась в диапазонах, а кол-во металлов кратно увеличилось"
   ]
  },
  {
   "cell_type": "markdown",
   "metadata": {},
   "source": [
    "### Рассмотрим график суммарную концентрацию всех веществах на 4 различных стадиях: до флотации, после флотации, первого и второго этапа очистки"
   ]
  },
  {
   "cell_type": "code",
   "execution_count": 323,
   "metadata": {},
   "outputs": [],
   "source": [
    "# Добавляем 4 этапа для отображения графика\n",
    "unity_filter = ['rougher.input.feed_', # Вход металлы к флотации\n",
    "                   'rougher.output.concentrate_', # Выход металлы с флотации\n",
    "                   'primary_cleaner.output.concentrate_', # Вход в первый этап очищения, очищаем, и выход с первого этапа очищенные металлы\n",
    "                   'final.output.concentrate_'] # Очищаем, и выход второй очищенные металлы (финал)\n",
    "\n",
    "# Создадим датасет, в котором будут содержатсья 3 этапов 3 разных металлов\n",
    "df_stages = pd.DataFrame()"
   ]
  },
  {
   "cell_type": "code",
   "execution_count": 324,
   "metadata": {},
   "outputs": [],
   "source": [
    "# Заполняем датасет\n",
    "for stage in unity_filter:\n",
    "    buff = 0\n",
    "    for metal in metals:\n",
    "        buff = df_train[stage + metal]\n",
    "    df_stages[stage + 'metals'] = buff"
   ]
  },
  {
   "cell_type": "code",
   "execution_count": 325,
   "metadata": {},
   "outputs": [
    {
     "data": {
      "text/html": [
       "<div>\n",
       "<style scoped>\n",
       "    .dataframe tbody tr th:only-of-type {\n",
       "        vertical-align: middle;\n",
       "    }\n",
       "\n",
       "    .dataframe tbody tr th {\n",
       "        vertical-align: top;\n",
       "    }\n",
       "\n",
       "    .dataframe thead th {\n",
       "        text-align: right;\n",
       "    }\n",
       "</style>\n",
       "<table border=\"1\" class=\"dataframe\">\n",
       "  <thead>\n",
       "    <tr style=\"text-align: right;\">\n",
       "      <th></th>\n",
       "      <th>rougher.input.feed_metals</th>\n",
       "      <th>rougher.output.concentrate_metals</th>\n",
       "      <th>primary_cleaner.output.concentrate_metals</th>\n",
       "      <th>final.output.concentrate_metals</th>\n",
       "    </tr>\n",
       "  </thead>\n",
       "  <tbody>\n",
       "    <tr>\n",
       "      <th>0</th>\n",
       "      <td>2.284912</td>\n",
       "      <td>7.101074</td>\n",
       "      <td>10.389648</td>\n",
       "      <td>9.889648</td>\n",
       "    </tr>\n",
       "    <tr>\n",
       "      <th>1</th>\n",
       "      <td>2.266033</td>\n",
       "      <td>7.278807</td>\n",
       "      <td>10.497069</td>\n",
       "      <td>9.968944</td>\n",
       "    </tr>\n",
       "    <tr>\n",
       "      <th>2</th>\n",
       "      <td>2.159622</td>\n",
       "      <td>7.216833</td>\n",
       "      <td>10.354494</td>\n",
       "      <td>10.213995</td>\n",
       "    </tr>\n",
       "    <tr>\n",
       "      <th>3</th>\n",
       "      <td>2.037807</td>\n",
       "      <td>7.175616</td>\n",
       "      <td>8.496563</td>\n",
       "      <td>9.977019</td>\n",
       "    </tr>\n",
       "    <tr>\n",
       "      <th>4</th>\n",
       "      <td>1.786875</td>\n",
       "      <td>7.240205</td>\n",
       "      <td>9.986786</td>\n",
       "      <td>10.142511</td>\n",
       "    </tr>\n",
       "  </tbody>\n",
       "</table>\n",
       "</div>"
      ],
      "text/plain": [
       "   rougher.input.feed_metals  rougher.output.concentrate_metals  \\\n",
       "0                   2.284912                           7.101074   \n",
       "1                   2.266033                           7.278807   \n",
       "2                   2.159622                           7.216833   \n",
       "3                   2.037807                           7.175616   \n",
       "4                   1.786875                           7.240205   \n",
       "\n",
       "   primary_cleaner.output.concentrate_metals  final.output.concentrate_metals  \n",
       "0                                  10.389648                         9.889648  \n",
       "1                                  10.497069                         9.968944  \n",
       "2                                  10.354494                        10.213995  \n",
       "3                                   8.496563                         9.977019  \n",
       "4                                   9.986786                        10.142511  "
      ]
     },
     "execution_count": 325,
     "metadata": {},
     "output_type": "execute_result"
    }
   ],
   "source": [
    "# Проверим и убедимся\n",
    "df_stages.head()"
   ]
  },
  {
   "cell_type": "code",
   "execution_count": null,
   "metadata": {},
   "outputs": [],
   "source": [
    "plt.title('Гистограмма распределения концентрации 4 этапов всех металлов')\n",
    "for stage in unity_filter:\n",
    "    df_stages[stage + 'metals'].plot(kind=\"hist\", grid=True, figsize=(15,10), bins=(100), alpha=0.5)\n",
    "    plt.xlabel('Концентрация всех металл:')\n",
    "    plt.ylabel('Кол-во металлов')\n",
    "    plt.legend(loc='upper right', fontsize='medium')"
   ]
  },
  {
   "cell_type": "markdown",
   "metadata": {},
   "source": [
    "Как видно, что после после флотации концентрация металлов увеличилась кратно, а после первого этапа очистки диапазон концентрации металлов стал шире, что приводит к нехорошему делу. Однако после второго этапа очистки концентрация металлов очень кратно увеличилась, а диапазон сужалась "
   ]
  },
  {
   "cell_type": "markdown",
   "metadata": {},
   "source": [
    " <br/>\n",
    "<div class=\"alert alert-block alert-danger\">\n",
    "<h2> Комментарий ревьюера <a class=\"tocSkip\"></h2>\n",
    "    \n",
    "<b>На доработку🤔:</b>\n",
    "\n",
    "</b> Мне интересно было изучить твои графики. Тут ожидается показать на графиках следующие стадии (rougher.input.feed_.., rougher.output.concentrate_.., primary_cleaner.output.concentrate_.., final.output.concentrate_..,). Добавь, пожалуйста. "
   ]
  },
  {
   "cell_type": "markdown",
   "metadata": {},
   "source": [
    "<div class=\"alert alert-info\">\n",
    "<h2> Комментарий студента V2: <a class=\"tocSkip\"> </h2>\n",
    "\n",
    "Добавлен график, который отображается 4 этапа фильтра\n",
    "\n",
    "</div>"
   ]
  },
  {
   "cell_type": "markdown",
   "metadata": {},
   "source": [
    "<div class=\"alert alert-success\">\n",
    "<h2> Комментарий ревьюера v.2 <a class=\"tocSkip\"> </h2>\n",
    "\n",
    "<b>Все отлично!👍:</b>"
   ]
  },
  {
   "cell_type": "markdown",
   "metadata": {},
   "source": [
    "### Сравним распределения размеров гранул сырья на обучающей и тестовой выборках. Если распределения сильно отличаются друг от друга, оценка модели будет неправильной"
   ]
  },
  {
   "cell_type": "markdown",
   "metadata": {},
   "source": [
    "#### Рассмотрим размер гранул до флотации"
   ]
  },
  {
   "cell_type": "code",
   "execution_count": null,
   "metadata": {},
   "outputs": [],
   "source": [
    "# Вызов библиотеки для отключения предупреждения (вызывает предудпреждения в ходе построения график)\n",
    "import warnings\n",
    "warnings.filterwarnings('ignore')"
   ]
  },
  {
   "cell_type": "code",
   "execution_count": null,
   "metadata": {},
   "outputs": [],
   "source": [
    "# Размер гранулы обучающей и тестовой выборки (флотация)\n",
    "plt.title('Гистограмма размера гранула обучающей и тестовой выборки ФЛОТАЦИЯ')\n",
    "\n",
    "fig = plt.gcf()\n",
    "\n",
    "# Change seaborn plot size\n",
    "fig.set_size_inches(12, 8)\n",
    "\n",
    "sb.kdeplot(data = df_train['rougher.input.feed_size'], shade=True, Label='df_train')\n",
    "sb.kdeplot(data = df_test['rougher.input.feed_size'], shade=True, Label='df_test')\n",
    "\n",
    "plt.xlabel('Концентрация гранулов: ' + metals[2])\n",
    "plt.ylabel('Кол-во гранулов')\n",
    "plt.legend(loc='upper right', fontsize=20)"
   ]
  },
  {
   "cell_type": "markdown",
   "metadata": {},
   "source": [
    "Немного сужаем диаграмму"
   ]
  },
  {
   "cell_type": "code",
   "execution_count": null,
   "metadata": {},
   "outputs": [],
   "source": [
    "# Размер гранулы обучающей и тестовой выборки (флотация)\n",
    "plt.title('Гистограмма размера гранула обучающей и тестовой выборки ФЛОТАЦИЯ')\n",
    "\n",
    "fig = plt.gcf()\n",
    "\n",
    "# Change seaborn plot size\n",
    "fig.set_size_inches(12, 8)\n",
    "\n",
    "sb.kdeplot(data = df_train['rougher.input.feed_size'], shade=True, Label='df_train')\n",
    "sb.kdeplot(data = df_test['rougher.input.feed_size'], shade=True, Label='df_test')\n",
    "\n",
    "plt.xlabel('Концентрация гранулов: ' + metals[2])\n",
    "plt.ylabel('Кол-во гранулов')\n",
    "plt.legend(loc='upper right', fontsize=20)\n",
    "plt.xlim(20, 100)"
   ]
  },
  {
   "cell_type": "code",
   "execution_count": null,
   "metadata": {},
   "outputs": [],
   "source": [
    "# Попробуем рассмотреть медианное значение\n",
    "print('Медиана обучающей выборки:', round(df_train['rougher.input.feed_size'].median(), 2))\n",
    "print('Медиана тестовой выборки:', round(df_test['rougher.input.feed_size'].median(), 2))"
   ]
  },
  {
   "cell_type": "markdown",
   "metadata": {},
   "source": [
    "Как видно, что здесь размер примерно одинакова, но у тестовго размер гранулы чуть меньше обучающей"
   ]
  },
  {
   "cell_type": "markdown",
   "metadata": {},
   "source": [
    " <br/>\n",
    "<div class=\"alert alert-block alert-danger\">\n",
    "<h2> Комментарий ревьюера <a class=\"tocSkip\"></h2>\n",
    "    \n",
    "<b>На доработку🤔:</b>\n",
    "\n",
    "Распределения примерно одинаковы. Для сравнения распределений выборок с разным размером лучше использовать графики плотности или kde вместо гистограмм частотности (по оси У доля относительно датасета вместо абсолютного количества). Наличие либо отсутствие разницы будет более очевидным.  Рекомендую тебе нормализовать гистограммы, например используя метод `sns.kdeplot`."
   ]
  },
  {
   "cell_type": "markdown",
   "metadata": {},
   "source": [
    "<div class=\"alert alert-info\">\n",
    "<h2> Комментарий студента V2: <a class=\"tocSkip\"> </h2>\n",
    "\n",
    "Изменил на график плотности\n",
    "\n",
    "</div>"
   ]
  },
  {
   "cell_type": "markdown",
   "metadata": {},
   "source": [
    "<div class=\"alert alert-success\">\n",
    "<h2> Комментарий ревьюера v.2 <a class=\"tocSkip\"> </h2>\n",
    "\n",
    "<b>Все отлично!👍:</b>"
   ]
  },
  {
   "cell_type": "markdown",
   "metadata": {},
   "source": [
    "#### Рассмотрим размер гранул до первого очистки (после флотации)"
   ]
  },
  {
   "cell_type": "code",
   "execution_count": null,
   "metadata": {},
   "outputs": [],
   "source": [
    "# Размер гранулы обучающей и тестовой выборки (после первого этапа очистки)\n",
    "plt.title('Гистограмма размера гранула обучающей и тестовой выборки после первого этапа очистки')\n",
    "\n",
    "fig = plt.gcf()\n",
    "\n",
    "# Change seaborn plot size\n",
    "fig.set_size_inches(12, 8)\n",
    "\n",
    "sb.kdeplot(data = df_train['primary_cleaner.input.feed_size'], shade=True, Label='df_train')\n",
    "sb.kdeplot(data = df_test['primary_cleaner.input.feed_size'], shade=True, Label='df_test')\n",
    "\n",
    "plt.xlabel('Концентрация гранулов: ' + metals[2])\n",
    "plt.ylabel('Кол-во гранулов')\n",
    "plt.legend(loc='upper right', fontsize=20)"
   ]
  },
  {
   "cell_type": "markdown",
   "metadata": {},
   "source": [
    "Опять же немного сужаем диаграмму"
   ]
  },
  {
   "cell_type": "code",
   "execution_count": null,
   "metadata": {},
   "outputs": [],
   "source": [
    "# Размер гранулы обучающей и тестовой выборки (после первого этапа очистки)\n",
    "plt.title('Гистограмма размера гранула обучающей и тестовой выборки ФЛОТАЦИЯ')\n",
    "\n",
    "fig = plt.gcf()\n",
    "\n",
    "# Change seaborn plot size\n",
    "fig.set_size_inches(12, 8)\n",
    "\n",
    "sb.kdeplot(data = df_train['primary_cleaner.input.feed_size'], shade=True, Label='df_train')\n",
    "sb.kdeplot(data = df_test['primary_cleaner.input.feed_size'], shade=True, Label='df_test')\n",
    "\n",
    "plt.xlabel('Концентрация гранулов: ' + metals[2])\n",
    "plt.ylabel('Кол-во гранулов')\n",
    "plt.legend(loc='upper right', fontsize=20)\n",
    "plt.xlim(5, 9)"
   ]
  },
  {
   "cell_type": "code",
   "execution_count": null,
   "metadata": {},
   "outputs": [],
   "source": [
    "# Попробуем рассмотреть медианное значение\n",
    "print('Медиана обучающей выборки:', round(df_train['primary_cleaner.input.feed_size'].median(), 2))\n",
    "print('Медиана тестовой выборки:', round(df_test['primary_cleaner.input.feed_size'].median(), 2))"
   ]
  },
  {
   "cell_type": "markdown",
   "metadata": {},
   "source": [
    "Здесь тоже видно, что у тестового намного меньше размер гранулы"
   ]
  },
  {
   "cell_type": "markdown",
   "metadata": {},
   "source": [
    "<div class=\"alert alert-info\">\n",
    "<h2> Комментарий студента V2: <a class=\"tocSkip\"> </h2>\n",
    "\n",
    "И здесь тоже самое - изменил на график плотности\n",
    "\n",
    "</div>"
   ]
  },
  {
   "cell_type": "markdown",
   "metadata": {},
   "source": [
    "<div class=\"alert alert-success\">\n",
    "<h2> Комментарий ревьюера v.2 <a class=\"tocSkip\"> </h2>\n",
    "\n",
    "<b>Все отлично!👍:</b>"
   ]
  },
  {
   "cell_type": "markdown",
   "metadata": {},
   "source": [
    "### Исследуем график, который рассчитывает суммарную концентрацию по исходному сырью"
   ]
  },
  {
   "cell_type": "code",
   "execution_count": null,
   "metadata": {
    "scrolled": true
   },
   "outputs": [],
   "source": [
    "# Заполним список новое значение - sol (сульфат) металла\n",
    "metals.append('sol')\n",
    "print('Список металлов:', metals)"
   ]
  },
  {
   "cell_type": "markdown",
   "metadata": {},
   "source": [
    "Выше, в пункте 2.2, видно, что концентрация сырьев намного больше, чем после первого и второго этапа очистки. После второго этапа очистки кол-во сырьев немного сужается по диапазону концентрации (образовались крутые горки). Но нельзя умалчивать, что наблюдается заглушки (-1) в левую часть графика. Проверим на выбросы, применяя ящик с усами"
   ]
  },
  {
   "cell_type": "code",
   "execution_count": null,
   "metadata": {
    "scrolled": true
   },
   "outputs": [],
   "source": [
    "fig, axs = plt.subplots(4, 2, figsize=(20, 25))\n",
    "colors = ['yellow', 'grey', 'purple', 'brown']\n",
    "k = 0\n",
    "\n",
    "for i in range(4):\n",
    "    for j in range(2):\n",
    "        axs[i, 0].boxplot(df_train['rougher.input.feed_' + metals[k]])\n",
    "        axs[i, 1].hist(df_train['rougher.input.feed_' + metals[k]], bins = 100, orientation=\"horizontal\", color = colors[i], edgecolor='black', linewidth=0.2)\n",
    "        axs[i, j].set_title('rougher.input.feed_' + metals[k])\n",
    "        axs[i, j].set_ylabel('Кол-во металлов: ' + metals[k])\n",
    "        axs[i, 1].set_xlabel('Концентрация металлов: ' + metals[k])\n",
    "    k += 1"
   ]
  },
  {
   "cell_type": "markdown",
   "metadata": {},
   "source": [
    "Теперь другое дело, тут видно, что есть выбросы, например, у золото, в промежутках 0 - 3,5 и от 12,5. И у серебро такая же ситуация. А у свинца и сульфата есть заглушки (-1). Самый сильный выбос наблюдается у сульфата. Помимо у этого стадии есть еще другие стадии, в котором может наблюдаться аномалии, смотрим"
   ]
  },
  {
   "cell_type": "code",
   "execution_count": null,
   "metadata": {
    "scrolled": true
   },
   "outputs": [],
   "source": [
    "fig, axs = plt.subplots(4, 2, figsize=(20, 25))\n",
    "colors = ['yellow', 'grey', 'purple', 'brown']\n",
    "k = 0\n",
    "\n",
    "for i in range(4):\n",
    "    for j in range(2):\n",
    "        axs[i, 0].boxplot(df_train['rougher.output.concentrate_' + metals[k]])\n",
    "        axs[i, 1].hist(df_train['rougher.output.concentrate_' + metals[k]], bins = 100, orientation=\"horizontal\", color = colors[i], edgecolor='black', linewidth=0.2)\n",
    "        axs[i, j].set_title('rougher.output.concentrate_' + metals[k])\n",
    "        axs[i, j].set_ylabel('Кол-во металлов: ' + metals[k])\n",
    "        axs[i, 1].set_xlabel('Концентрация металлов: ' + metals[k])\n",
    "    k += 1"
   ]
  },
  {
   "cell_type": "code",
   "execution_count": null,
   "metadata": {
    "scrolled": true
   },
   "outputs": [],
   "source": [
    "fig, axs = plt.subplots(4, 2, figsize=(20, 25))\n",
    "colors = ['yellow', 'grey', 'purple', 'brown']\n",
    "k = 0\n",
    "\n",
    "for i in range(4):\n",
    "    for j in range(2):\n",
    "        axs[i, 0].boxplot(df_train['primary_cleaner.output.concentrate_' + metals[k]])\n",
    "        axs[i, 1].hist(df_train['primary_cleaner.output.concentrate_' + metals[k]], bins = 100, orientation=\"horizontal\", color = colors[i], edgecolor='black', linewidth=0.2)\n",
    "        axs[i, j].set_title('primary_cleaner.output.concentrate_' + metals[k])\n",
    "        axs[i, j].set_ylabel('Кол-во металлов: ' + metals[k])\n",
    "        axs[i, 1].set_xlabel('Концентрация металлов: ' + metals[k])\n",
    "    k += 1"
   ]
  },
  {
   "cell_type": "code",
   "execution_count": null,
   "metadata": {
    "scrolled": true
   },
   "outputs": [],
   "source": [
    "fig, axs = plt.subplots(4, 2, figsize=(20, 25))\n",
    "colors = ['yellow', 'grey', 'purple', 'brown']\n",
    "k = 0\n",
    "\n",
    "for i in range(4):\n",
    "    for j in range(2):\n",
    "        axs[i, 0].boxplot(df_train['final.output.concentrate_' + metals[k]])\n",
    "        axs[i, 1].hist(df_train['final.output.concentrate_' + metals[k]], bins = 100, orientation=\"horizontal\", color = colors[i], edgecolor='black', linewidth=0.2)\n",
    "        axs[i, j].set_title('final.output.concentrate_' + metals[k])\n",
    "        axs[i, j].set_ylabel('Кол-во металлов: ' + metals[k])\n",
    "        axs[i, 1].set_xlabel('Концентрация металлов: ' + metals[k])\n",
    "    k += 1"
   ]
  },
  {
   "cell_type": "markdown",
   "metadata": {},
   "source": [
    "Теперь видно, что существуют аномальные значения на всех разных стадиях очистки. Устраняем их"
   ]
  },
  {
   "cell_type": "markdown",
   "metadata": {},
   "source": [
    "Теперь смотрим на график всех металлов"
   ]
  },
  {
   "cell_type": "code",
   "execution_count": null,
   "metadata": {},
   "outputs": [],
   "source": [
    "# Список этапов для очистки аномальных значениях\n",
    "stage_with_anomaly = ['rougher.input.feed_', 'rougher.output.concentrate_', 'primary_cleaner.output.concentrate_', 'final.output.concentrate_']\n",
    "\n",
    "# Список этапов для хранения без аномальных значений\n",
    "stage_no_anomaly = ['rougher.input.feed_sum', 'rougher.output.concentrate_sum', 'primary_cleaner.output.concentrate_sum', 'final.output.concentrate_sum']"
   ]
  },
  {
   "cell_type": "code",
   "execution_count": null,
   "metadata": {},
   "outputs": [],
   "source": [
    "for i in range(len(stage_with_anomaly)):\n",
    "    for metal in metals:\n",
    "        buff_sum =+ df_train[stage_with_anomaly[i] + metal]\n",
    "\n",
    "    # Сохраним все концентрации сырье всех металлов\n",
    "    df_full[stage_no_anomaly[i]] = buff_sum"
   ]
  },
  {
   "cell_type": "code",
   "execution_count": null,
   "metadata": {},
   "outputs": [],
   "source": [
    "# Прочищаем аномальные значения\n",
    "for i in range(len(stage_no_anomaly)):\n",
    "    df_full = df_full[df_full[stage_no_anomaly[i]] > 0]"
   ]
  },
  {
   "cell_type": "code",
   "execution_count": null,
   "metadata": {},
   "outputs": [],
   "source": [
    "# И теперь тоже прочистим обучающую и тестовую выборку по индексу date\n",
    "df_train = df_train.loc[df_train.set_index('date').index.isin(df_full.set_index('date').index)]"
   ]
  },
  {
   "cell_type": "code",
   "execution_count": null,
   "metadata": {},
   "outputs": [],
   "source": [
    "plt.title('Гистограмма суммарной концентрации всех веществ на стадиях до флотации')\n",
    "\n",
    "for stage in stage_no_anomaly:\n",
    "    df_full[stage].plot(kind=\"hist\", grid=True, figsize=(15,10), bins=(100), alpha=0.5)\n",
    "\n",
    "plt.xlabel('Концентрация всех сырьев')\n",
    "plt.ylabel('Кол-во сырьев')\n",
    "plt.legend(loc='upper left', fontsize=20)\n",
    "plt.show()"
   ]
  },
  {
   "cell_type": "markdown",
   "metadata": {},
   "source": [
    "После каждого этапа очистки суммарная концентрация всех металлов снижается "
   ]
  },
  {
   "cell_type": "markdown",
   "metadata": {},
   "source": [
    "<br/>\n",
    "<div class=\"alert alert-block alert-danger\">\n",
    "<h2> Комментарий ревьюера <a class=\"tocSkip\"></h2>\n",
    "    \n",
    "<b>На доработку🤔:</b>\n",
    "    \n",
    "Таким образом, суммарную концентрацию всех веществ на различных стадиях мы  исследовали. Тут тебе следует рассчитать суммарную концентрацию по исходному сырью `rougher.input.feed_..` и рассмотреть ее на графике.  Есть такой момент, что на гистограммах распределений суммарных концентраций имеются аномалии, и эти аномалии важно удалить на обучающей выборке. Ведь отдельно по каждому веществу они могут быть (не всегда же есть крупицы золота в руде), а вот суммарно - вряд ли (в руде хоть какие-то элементы, но будут). А если мы имеем суммарные аномалии, значит большая вероятность неточности в измерениях и их следует удалить из обучающей выборки. Исправь, пожалуйста.  \n",
    " </div>"
   ]
  },
  {
   "cell_type": "markdown",
   "metadata": {},
   "source": [
    "<div class=\"alert alert-info\">\n",
    "<h2> Комментарий студента V2: <a class=\"tocSkip\"> </h2>\n",
    "\n",
    "И здесь тоже самое\n",
    "\n",
    "</div>"
   ]
  },
  {
   "cell_type": "markdown",
   "metadata": {},
   "source": [
    "<br/>\n",
    "<div class=\"alert alert-block alert-danger\">\n",
    "<h2> Комментарий ревьюера v.2 <a class=\"tocSkip\"></h2>\n",
    "    \n",
    "<b>На доработку🤔:</b>\n",
    "    \n",
    "Аномалии важно удалить на обучающей выборке по всем стадиям. В таком случае следует очистить все аномалии в фулл-выборке, например так:\n",
    "    \n",
    "    Код ревьюера:\n",
    "```python\n",
    "\n",
    "for col in ['rougher.input.feed_sum', 'rougher.output.concentrate_sum', 'primary_cleaner.output.concentrate_sum', 'final.output.concentrate_sum']:\n",
    "    full = full[[full[col]>0]\n",
    "\n",
    "```\n",
    "После чего ты сможешь очистить и трейн-выборку по дате (или дате-индексу) из фулл-выборки:\n",
    "    \n",
    "Код ревьюера:\n",
    "```python\n",
    "train = train.set_index('date')\n",
    "full = full.set_index('date')\n",
    "train = train.loc[train.index.isin(full.index)]\n",
    "\n",
    "```    \n",
    "   \n",
    "Исправь, пожалуйста. "
   ]
  },
  {
   "cell_type": "markdown",
   "metadata": {},
   "source": [
    "<div class=\"alert alert-info\">\n",
    "<h2> Комментарий студента V3: <a class=\"tocSkip\"> </h2>\n",
    "\n",
    "Здесь что то странное получается, что после каждого этапа очистки суммарная концентрация всех металлов снижается\n",
    "\n",
    "</div>"
   ]
  },
  {
   "cell_type": "markdown",
   "metadata": {},
   "source": [
    "<div class=\"alert alert-success\">\n",
    "<h2> Комментарий ревьюера v.3 <a class=\"tocSkip\"> </h2>\n",
    "\n",
    "<b>Все отлично!👍:</b> Понял тебя"
   ]
  },
  {
   "cell_type": "markdown",
   "metadata": {},
   "source": [
    "### Проверка на пропущенные значения"
   ]
  },
  {
   "cell_type": "code",
   "execution_count": null,
   "metadata": {},
   "outputs": [],
   "source": [
    "check_missed_columns(df_train)\n",
    "check_missed_columns(df_test)\n",
    "check_missed_columns(df_full)"
   ]
  },
  {
   "cell_type": "markdown",
   "metadata": {},
   "source": [
    "Отлично, их нет. Приступаем дальше"
   ]
  },
  {
   "cell_type": "markdown",
   "metadata": {},
   "source": [
    "## Модель"
   ]
  },
  {
   "cell_type": "markdown",
   "metadata": {},
   "source": [
    "### Напишем функцию для вычисления итоговой sMAPE"
   ]
  },
  {
   "cell_type": "code",
   "execution_count": null,
   "metadata": {},
   "outputs": [],
   "source": [
    "# Функция метрика качества - sMAPE\n",
    "def sMAPE(target, predictions):\n",
    "    return np.mean(2 * abs(target - predictions) / (abs(target) + abs(predictions))) * 100"
   ]
  },
  {
   "cell_type": "code",
   "execution_count": null,
   "metadata": {},
   "outputs": [],
   "source": [
    "# Итоговое sMAPE\n",
    "def total_sMAPE(rougher, final):\n",
    "    return 0.25 * rougher + 0.75 * final"
   ]
  },
  {
   "cell_type": "markdown",
   "metadata": {},
   "source": [
    "<div class=\"alert alert-success\">\n",
    "<h2> Комментарий ревьюера <a class=\"tocSkip\"> </h2>\n",
    "\n",
    "<b>Все отлично!👍:</b> \n",
    "\n",
    "Функция правильная) Молодец, что для избежания дублирования кода вначале используешь функцию для невзвешенной sMAPE."
   ]
  },
  {
   "cell_type": "markdown",
   "metadata": {},
   "source": [
    "### Обучим разные модели и оцените их качество кросс-валидацией. Выберим лучшую модель и проверим её на тестовой выборке"
   ]
  },
  {
   "cell_type": "markdown",
   "metadata": {},
   "source": [
    "По условию задании написано, что нужно спрогнозировать две величины: \n",
    "\n",
    "- эффективность обогащения чернового концентрата `rougher.output.recovery`\n",
    "- эффективность обогащения финального концентрата `final.output.recovery`"
   ]
  },
  {
   "cell_type": "markdown",
   "metadata": {},
   "source": [
    "#### Обучение и проверка модели"
   ]
  },
  {
   "cell_type": "code",
   "execution_count": null,
   "metadata": {},
   "outputs": [],
   "source": [
    "# Вытягиваем колонки из df_full выборки\n",
    "features_df_train = df_train[df_test.columns].drop('date', axis=1)\n",
    "\n",
    "name_target = ['rougher.output.recovery', 'final.output.recovery']\n",
    "\n",
    "target_df_train = df_train[name_target]"
   ]
  },
  {
   "cell_type": "code",
   "execution_count": null,
   "metadata": {},
   "outputs": [],
   "source": [
    "print('Целевой признак:', target_df_train.shape, '; Признаки:', features_df_train.shape)"
   ]
  },
  {
   "cell_type": "markdown",
   "metadata": {},
   "source": [
    " <br/>\n",
    "<div class=\"alert alert-block alert-danger\">\n",
    "<h2> Комментарий ревьюера <a class=\"tocSkip\"></h2>\n",
    "    \n",
    "<b>На доработку🤔:</b>\n",
    "\n",
    "</b> В нашем проекте некорректно использовать train_test_split для разбиение на выборки. Правильно -  использовать дату (\"date\"), как ключ для вытягивания таргетов для тестовой выборки из фулл-выборки. Исправь, пожалуйста. Подать метрику sMAPE в кросс-валидацию можно, используя скорер `scoring=make_scorer(sMAPE,...)`. Не забудь верно задать в аргументе параметр `greater_is_better=False`: чем ниже sMAPE, тем лучше для нас. Пусть знак минус у метрики не смущает тебя, можешь домножить на `-1`. "
   ]
  },
  {
   "cell_type": "markdown",
   "metadata": {},
   "source": [
    "<div class=\"alert alert-info\">\n",
    "<h2> Комментарий студента V2: <a class=\"tocSkip\"> </h2>\n",
    "\n",
    "Сижу, думаю, почему так. А потом дошло, что у нас 3 датасеты: обучающая, тестовая, исходная. Т.е. по сути датасеты уже разделены на обучающую и тестовую. Поэтому не разделяем на обучающую и валидационную выборку на обучающем датасете). По сути можно сказать, что я сделал кроссвалидацию с 1 блоком\n",
    "    \n",
    "</div>"
   ]
  },
  {
   "cell_type": "markdown",
   "metadata": {},
   "source": [
    "<br/>\n",
    "<div class=\"alert alert-block alert-danger\">\n",
    "<h2> Комментарий ревьюера v.2 <a class=\"tocSkip\"></h2>\n",
    "\n",
    "    \n",
    "<b>На доработку🤔:</b>\n",
    "    \n",
    "Для обучения моделей мы не можем использовать абсолютно все признаки, поскольку не все из них доступны сразу после завершения процесса очистки (рассчитываются позже). Это значит, что для применения модели, обученнной на таких признаках, придется ждать их появления и модель не сможет работать в проде. \n",
    "    \n",
    "Нам следует все признаки, недоступные в тестовой выборке (включая оба таргета), удалить из обучающей выборки, чтобы обучение моделей было корректным. Исправь пожалуйста.\n",
    "</div>"
   ]
  },
  {
   "cell_type": "markdown",
   "metadata": {},
   "source": [
    "<div class=\"alert alert-info\">\n",
    "<h2> Комментарий студента V3: <a class=\"tocSkip\"> </h2>\n",
    " \n",
    "Немного подправил\n",
    "    \n",
    "</div>"
   ]
  },
  {
   "cell_type": "markdown",
   "metadata": {},
   "source": [
    "<div class=\"alert alert-success\">\n",
    "<h2> Комментарий ревьюера v.3 <a class=\"tocSkip\"> </h2>\n",
    "\n",
    "<b>Все отлично!👍:</b>"
   ]
  },
  {
   "cell_type": "code",
   "execution_count": null,
   "metadata": {},
   "outputs": [],
   "source": [
    "# Здесь будут сохранять все значения разных моделей\n",
    "result_sMAPE = {}\n",
    "\n",
    "name_models = ['LinearRegression', 'DecisionTreeRegressor', 'RandomForestRegressor']"
   ]
  },
  {
   "cell_type": "markdown",
   "metadata": {},
   "source": [
    "#### Линейная регрессия с кроссвалидацией"
   ]
  },
  {
   "cell_type": "code",
   "execution_count": null,
   "metadata": {},
   "outputs": [],
   "source": [
    "# Подбор параметров модели с помощью make_scorer из sklearn.metrics\n",
    "smape_score = make_scorer(sMAPE, greater_is_better=False)"
   ]
  },
  {
   "cell_type": "code",
   "execution_count": null,
   "metadata": {},
   "outputs": [],
   "source": [
    "# Инициализируем модель\n",
    "model = LinearRegression()\n",
    "\n",
    "# Устанавливаем нужные параметры\n",
    "parameters = {}\n",
    "\n",
    "training_model_LinReg = GridSearchCV(model, param_grid = parameters, cv = 5, scoring = smape_score)"
   ]
  },
  {
   "cell_type": "code",
   "execution_count": null,
   "metadata": {
    "scrolled": true
   },
   "outputs": [],
   "source": [
    "%%time\n",
    "# Обучаем модель с целевым признаком rougher.output.recovery\n",
    "print('='*127)\n",
    "print('sMAPE:')\n",
    "for i in range(0, 2):\n",
    "    training_model_LinReg.fit(features_df_train, target_df_train[name_target[i]])\n",
    "    \n",
    "    result_sMAPE[name_models[0] + ';' + name_target[i]] = training_model_LinReg.best_score_\n",
    "    \n",
    "    # Узнаем sMAPE\n",
    "    print('-'*127)\n",
    "    if (training_model_LinReg.best_score_ < 0):\n",
    "        print(name_target[i], ':', -training_model_LinReg.best_score_)\n",
    "    else:\n",
    "        print(name_target[i], ':', training_model_LinReg.best_score_)\n",
    "\n",
    "print('='*127)"
   ]
  },
  {
   "cell_type": "markdown",
   "metadata": {},
   "source": [
    "У целевого признака \"rougher.output.recovery\" не совсем близок к 0. А у другого да. Рассмотрим и узнаем узнаем какое значение sMAPE у других моделей"
   ]
  },
  {
   "cell_type": "markdown",
   "metadata": {},
   "source": [
    "<br/>\n",
    "<div class=\"alert alert-block alert-danger\">\n",
    "<h2> Комментарий ревьюера <a class=\"tocSkip\"></h2>\n",
    "    \n",
    "<b>На доработку🤔:</b>\n",
    "    \n",
    "При построении и поиске лучшей модели следует использовать только кросс-валидацию. Это значит, что вместо обычного fit-predict следует использовать GridSearchCV или cross_val_score (если у модели гиперпараметры не подбираются).\n",
    "    "
   ]
  },
  {
   "cell_type": "markdown",
   "metadata": {},
   "source": [
    "<div class=\"alert alert-success\">\n",
    "<h2> Комментарий ревьюера v.2 <a class=\"tocSkip\"> </h2>\n",
    "\n",
    "<b>Все отлично!👍:</b>"
   ]
  },
  {
   "cell_type": "markdown",
   "metadata": {},
   "source": [
    "<div class=\"alert alert-info\">\n",
    "\n",
    "**V1 Комментарий студента**\n",
    "   \n",
    "   Не слишком переобучена?\n",
    "\n",
    "</div>"
   ]
  },
  {
   "cell_type": "markdown",
   "metadata": {},
   "source": [
    "<br/>\n",
    "<div class=\"alert alert-block alert-danger\">\n",
    "<h2> Комментарий ревьюера <a class=\"tocSkip\"></h2>\n",
    "    \n",
    "<b>На доработку🤔:</b>\n",
    "    \n",
    "Сейчас использована не нужная нам метрика в кросс-валидации, проводится кросс-валидация с использованием дефолтной метрики $R^2$.   Следует использовать sMAPE. Подать ее можно, используя скорер. Исправь, пожалуйста."
   ]
  },
  {
   "cell_type": "markdown",
   "metadata": {},
   "source": [
    "<div class=\"alert alert-success\">\n",
    "<h2> Комментарий ревьюера v.2 <a class=\"tocSkip\"> </h2>\n",
    "\n",
    "<b>Все отлично!👍:</b>"
   ]
  },
  {
   "cell_type": "markdown",
   "metadata": {},
   "source": [
    "#### Решающее дерево с кроссвалидацией"
   ]
  },
  {
   "cell_type": "code",
   "execution_count": null,
   "metadata": {},
   "outputs": [],
   "source": [
    "# Инициализируем модель\n",
    "model = DecisionTreeRegressor(random_state = 12345)\n",
    "\n",
    "# Матрица гиперпараметров\n",
    "parameters = {'max_depth': range(1, 101, 10), 'min_samples_leaf': [1, 0.5, 2]}\n",
    "\n",
    "training_model_DecTreeReg = GridSearchCV(model, parameters, cv = 5, scoring = smape_score)"
   ]
  },
  {
   "cell_type": "code",
   "execution_count": null,
   "metadata": {},
   "outputs": [],
   "source": [
    "%%time\n",
    "# Обучаем модель с целевым признаком rougher.output.recovery\n",
    "print('='*127)\n",
    "print('sMAPE:')\n",
    "for i in range(0, 2):\n",
    "    training_model_DecTreeReg.fit(features_df_train, target_df_train[name_target[i]])\n",
    "    \n",
    "    result_sMAPE[name_models[1] + ';' + name_target[i]] = training_model_DecTreeReg.best_score_\n",
    "    \n",
    "    # Узнаем sMAPE\n",
    "    print('-'*127)\n",
    "    if (training_model_DecTreeReg.best_score_ < 0):\n",
    "        print(name_target[i], ':', -training_model_DecTreeReg.best_score_)\n",
    "    else:\n",
    "        print(name_target[i], ':', training_model_DecTreeReg.best_score_)\n",
    "\n",
    "print('='*127)"
   ]
  },
  {
   "cell_type": "markdown",
   "metadata": {},
   "source": [
    "Результат у решающего дерева показался себя очень неплохим по сравнению с предыдющей модели. Не совсем уж близок к 0, но получше. Рассмотрим следующую модель"
   ]
  },
  {
   "cell_type": "code",
   "execution_count": null,
   "metadata": {
    "scrolled": true
   },
   "outputs": [],
   "source": [
    "print('Лучшие гиперпараметры:', training_model_DecTreeReg.best_params_)"
   ]
  },
  {
   "cell_type": "markdown",
   "metadata": {},
   "source": [
    "#### Случайный лес с кроссвалидацией"
   ]
  },
  {
   "cell_type": "code",
   "execution_count": null,
   "metadata": {},
   "outputs": [],
   "source": [
    "# Инициализируем модель\n",
    "model = RandomForestRegressor(random_state = 12345)\n",
    "\n",
    "# Матрица гиперпараметров для случайного леса\n",
    "parameters = {'bootstrap': [True], 'max_depth': [5, 15], 'max_features': ['auto', 'log2'], 'n_estimators': [25, 50]}\n",
    "\n",
    "training_model_RanForReg = GridSearchCV(model, parameters, cv = 5, scoring = smape_score)"
   ]
  },
  {
   "cell_type": "code",
   "execution_count": null,
   "metadata": {},
   "outputs": [],
   "source": [
    "%%time\n",
    "# Обучаем модель с целевым признаком rougher.output.recovery\n",
    "print('='*127)\n",
    "print('sMAPE:')\n",
    "for i in range(0, 2):\n",
    "    training_model_RanForReg.fit(features_df_train, target_df_train[name_target[i]])\n",
    "    \n",
    "    result_sMAPE[name_models[2] + ';' + name_target[i]] = training_model_RanForReg.best_score_\n",
    "    \n",
    "    # Узнаем sMAPE\n",
    "    print('-'*127)\n",
    "    if (training_model_RanForReg.best_score_ < 0):\n",
    "        print(name_target[i], ':', -training_model_RanForReg.best_score_ )\n",
    "    else:\n",
    "        print(name_target[i], ':', training_model_RanForReg.best_score_)\n",
    "\n",
    "print('='*127)"
   ]
  },
  {
   "cell_type": "code",
   "execution_count": null,
   "metadata": {},
   "outputs": [],
   "source": [
    "print('Лучшие гиперпараметры:', training_model_RanForReg.best_params_)"
   ]
  },
  {
   "cell_type": "markdown",
   "metadata": {},
   "source": [
    "Результат неплохой, теперь рассмотрим результаты sMAPE трех модели"
   ]
  },
  {
   "cell_type": "code",
   "execution_count": null,
   "metadata": {},
   "outputs": [],
   "source": [
    "for name_model in name_models:\n",
    "    print('='*127)\n",
    "    print('Имя модели:', name_model)\n",
    "    for tag in name_target:\n",
    "        print('-'*127)\n",
    "        print('Целевой признак:', tag)\n",
    "        print('sMAPE:', -result_sMAPE[name_model + ';' + tag])\n",
    "    print('-'*127)\n",
    "    print('Итоговый sMAPE:', -total_sMAPE(result_sMAPE[name_model + ';' + name_target[0]], result_sMAPE[name_model + ';' + name_target[1]]))\n",
    "print('='*127)"
   ]
  },
  {
   "cell_type": "markdown",
   "metadata": {},
   "source": [
    "Лучшей моделей оказалась модель Решающее дерево. Почему не Случайное дерево? Потому что Решающее дерево не только имеет лишь около 2% значения sMAPE разницы от Случайного леса, но и  выигрывает по времени обучния. Т.к. если данные будут большими, тогда не представляю, сколько времени потребуется на обучение. Протестируем Решающее дерево"
   ]
  },
  {
   "cell_type": "markdown",
   "metadata": {},
   "source": [
    "### Проверим на тестовой выборке"
   ]
  },
  {
   "cell_type": "markdown",
   "metadata": {},
   "source": [
    "#### Обучим модель на обучающей выборке, чтобы получить предсказания на тестовой выборки"
   ]
  },
  {
   "cell_type": "code",
   "execution_count": null,
   "metadata": {},
   "outputs": [],
   "source": [
    "# Инициализируем модель\n",
    "model_DesTreeReg = DecisionTreeRegressor(random_state = 12345, max_depth = training_model_DecTreeReg.best_params_['max_depth'])"
   ]
  },
  {
   "cell_type": "code",
   "execution_count": null,
   "metadata": {},
   "outputs": [],
   "source": [
    "# Обучим модель первой стадии на обучающей выборки\n",
    "model_DesTreeReg.fit(features_df_train, target_df_train['rougher.output.recovery'])"
   ]
  },
  {
   "cell_type": "markdown",
   "metadata": {},
   "source": [
    "#### Проверим на тестовой выборки"
   ]
  },
  {
   "cell_type": "code",
   "execution_count": null,
   "metadata": {},
   "outputs": [],
   "source": [
    "# Добавим колонку, которой нет в тестовой выборки\n",
    "df_test = df_test.merge(df_full[['rougher.output.recovery', 'final.output.recovery', 'date']], how='inner', on='date')"
   ]
  },
  {
   "cell_type": "code",
   "execution_count": null,
   "metadata": {},
   "outputs": [],
   "source": [
    "features_df_test = df_test.drop(['rougher.output.recovery', 'final.output.recovery', 'date'], axis=1)"
   ]
  },
  {
   "cell_type": "code",
   "execution_count": null,
   "metadata": {},
   "outputs": [],
   "source": [
    "# Первая стадия\n",
    "target_df_test_rougher = df_test[['rougher.output.recovery']]\n",
    "# Вторая стадия\n",
    "target_df_test_final = df_test[['final.output.recovery']]"
   ]
  },
  {
   "cell_type": "markdown",
   "metadata": {},
   "source": [
    "<br/>\n",
    "<div class=\"alert alert-block alert-danger\">\n",
    "<h2> Комментарий ревьюера v.2 <a class=\"tocSkip\"></h2>\n",
    "\n",
    "    \n",
    "<b>На доработку🤔:</b>\n",
    "\n",
    "Тестировать мы можем только на тестовой выборке, а обучать - только на обучающей выборке. Порядок записей в выборках full и test отличается, поэтому чтобы операции присоединения таргетов были корректными, нужно  присоединять по столбцу `date`.  \n",
    "    Код ревьюера:\n",
    "```python\n",
    "\n",
    "test = test.merge(full[['rougher.output.recovery', 'final.output.recovery', 'date']],\n",
    "                         how = 'inner', on= 'date')\n",
    "``` \n",
    "</div>"
   ]
  },
  {
   "cell_type": "markdown",
   "metadata": {},
   "source": [
    "<div class=\"alert alert-block alert-danger\">\n",
    "<h2> Комментарий ревьюера v.3 <a class=\"tocSkip\"></h2>\n",
    "\n",
    "<b>На доработку🤔:</b>\n",
    "    \n",
    "Кросс-валидацию и подбор гиперпараметров некорректно применять к тестовой выборке, поскольку валидация и тестирование - это два отдельных этапа. Для кросс-валидации мы используем тренировочный набор, несколько раз разбиваем его на подвыборки и смотрим, насколько модель устойчива к смене данных, насколько в среднем она результативна. Затем с этой точки зрения выбирается самая учтойчивая и самая результативная модель - победитель. На этом этап кросс-валидации заканчивается, и мы переходим к тестированию победителя. Мы обучаем его на всей тренировочной выборке (без разбивки на подтренировочные и валидационные) и проверяем, насколько хорошие предсказания она дает на тестовой выборке. Это важно нам для того, чтобы понять, действительно ли выбранная модель будет так же хорошо работать на новых незнакомых ей данных, которые ни разу не использовались ни при тренировке, ни при валидации, и не словили ли мы переобучение.\n",
    "    \n",
    "Следует лишь обучить модель на обучающей выборке и сделать предсказание методом `predict` на тестовой выборке и рассчитать итоговое sMAPE. \n"
   ]
  },
  {
   "cell_type": "markdown",
   "metadata": {},
   "source": [
    "<div class=\"alert alert-info\">\n",
    "<h2> Комментарий студента V4: <a class=\"tocSkip\"> </h2>\n",
    "\n",
    "Понял. А может произойти такой случай, когда на обучающей выборки, допустим, лучшей моделей окажется случайное дерево, а на тестовой модели - решающее дерево? Просто я предположил, что там данные разные, и машина может обучаться и подбирать себе лучшие параметры, модели иначе\n",
    "    \n",
    "</div>"
   ]
  },
  {
   "cell_type": "markdown",
   "metadata": {},
   "source": [
    "<div class=\"alert alert-warning\">\n",
    "    <h2> Комментарий ревьюера v.4 <a class=\"tocSkip\"> </h2>\n",
    "    \n",
    "<b>Некоторые замечания и рекомендации💡:</b>\n",
    "    \n",
    "Тестирование положено проводить для одной лучшей модели. На предыдущем шаге мы должны были настроить модели и выбрать одну наилучшую, опираясь на метрики данные заказчиком (это может быть качество, время обучения, скорость предсказания и т.д.). Тестированием мы моделируем работу модели на новых незнакомых ей данных, которые ни разу не использовались ни при тренировке, ни при валидации, и проверяем, не словили ли мы переобучение. А эти данные могут быть смещенными, с выбросами и т.д. То есть по таким данным некорректно заново переопределять модель-победитель. "
   ]
  },
  {
   "cell_type": "markdown",
   "metadata": {},
   "source": [
    "<div class=\"alert alert-info\">\n",
    "<h2> Комментарий студента V5: <a class=\"tocSkip\"> </h2>\n",
    "\n",
    "Понял, принял\n",
    "    \n",
    "</div>"
   ]
  },
  {
   "cell_type": "markdown",
   "metadata": {},
   "source": [
    "<div class=\"alert alert-success\">\n",
    "<h2> Комментарий ревьюера v.5 <a class=\"tocSkip\"> </h2>\n",
    "\n",
    "<b>Все отлично!👍:</b>"
   ]
  },
  {
   "cell_type": "markdown",
   "metadata": {},
   "source": [
    "<br/>\n",
    "<div class=\"alert alert-block alert-danger\">\n",
    "<h2> Комментарий ревьюера v.4 <a class=\"tocSkip\"></h2>\n",
    "\n",
    "    \n",
    "<b>На доработку🤔:</b>\n",
    "    \n",
    "Некорректно использовать тестовую выборку в обучении любых моделей. Нам следует обучить модель на обучающей выборке и  далее сделать предсказание методом `predict` на тестовой выборке и рассчитать итоговую метрику. Исправь, пожалуйста.\n",
    "Ниже - аналогично"
   ]
  },
  {
   "cell_type": "code",
   "execution_count": null,
   "metadata": {},
   "outputs": [],
   "source": [
    "# Получим предсказания на тестовой выборки\n",
    "predictions = model.predict(features_df_test)\n",
    "\n",
    "# Получаем значение sMAPE rougher\n",
    "sMAPE_rougher = sMAPE(target_df_test_rougher['rougher.output.recovery'], predictions)"
   ]
  },
  {
   "cell_type": "code",
   "execution_count": null,
   "metadata": {},
   "outputs": [],
   "source": [
    "print('Предсказания модели:', predictions.mean())\n",
    "print('sMAPE rougher:', sMAPE_rougher)"
   ]
  },
  {
   "cell_type": "code",
   "execution_count": null,
   "metadata": {},
   "outputs": [],
   "source": [
    "# Снова обучим модель второй стадии на обучающей выборки\n",
    "model_DesTreeReg.fit(features_df_train, target_df_train['final.output.recovery'])"
   ]
  },
  {
   "cell_type": "code",
   "execution_count": null,
   "metadata": {},
   "outputs": [],
   "source": [
    "# Получим предсказания обучающей модели\n",
    "predictions = model.predict(features_df_test)\n",
    "\n",
    "# Получаем значение sMAPE final\n",
    "sMAPE_final = sMAPE(target_df_test_final['final.output.recovery'], predictions)"
   ]
  },
  {
   "cell_type": "code",
   "execution_count": null,
   "metadata": {},
   "outputs": [],
   "source": [
    "print('Предсказания модели:', predictions.mean())\n",
    "print('sMAPE final:', sMAPE_final)"
   ]
  },
  {
   "cell_type": "code",
   "execution_count": null,
   "metadata": {},
   "outputs": [],
   "source": [
    "print('Узнаем итоговую sMAPE:', total_sMAPE(sMAPE_rougher, sMAPE_final))"
   ]
  },
  {
   "cell_type": "markdown",
   "metadata": {},
   "source": [
    "<br/>\n",
    "<div class=\"alert alert-block alert-danger\">\n",
    "<h2> Комментарий ревьюера v.4 <a class=\"tocSkip\"></h2>\n",
    "\n",
    "    \n",
    "<b>На доработку🤔:</b>\n",
    "    \n",
    "Сначала нужно рассчитать невзвешенное sMAPE по каждой из стадий и только потом рассчитать итоговую метрику. Ниже - аналогично"
   ]
  },
  {
   "cell_type": "markdown",
   "metadata": {},
   "source": [
    "<br/>\n",
    "<div class=\"alert alert-block alert-danger\">\n",
    "<h2> Комментарий ревьюера v.5 <a class=\"tocSkip\"></h2>\n",
    "\n",
    "    \n",
    "<b>На доработку🤔:</b>\n",
    "    \n",
    "1) Тебе следует обучить сначала модель первой стадии  на обучающей выборке и далее сделать предсказание методом predict на тестовой выборке и рассчитать невзвешенное sMAPE rougher, и причем именно моделью этой стадии\n",
    "    \n",
    "2) Затем  следует обучить модель второй стадии  на обучающей выборке и далее сделать предсказание методом predict на тестовой выборке и рассчитать невзвешенное sMAPE final, и причем именно моделью этой стадии\n",
    "    \n",
    "3) Рассчитать итоговое sMAPE"
   ]
  },
  {
   "cell_type": "markdown",
   "metadata": {},
   "source": [
    "#### Константная модель"
   ]
  },
  {
   "cell_type": "code",
   "execution_count": null,
   "metadata": {},
   "outputs": [],
   "source": [
    "# Инициализируем модель\n",
    "dum_reg_rouger = DummyRegressor(strategy=\"median\")"
   ]
  },
  {
   "cell_type": "code",
   "execution_count": null,
   "metadata": {},
   "outputs": [],
   "source": [
    "# Обучим модель первой стадии на обучающей выборки\n",
    "dum_reg_rouger.fit(features_df_train, target_df_train['rougher.output.recovery'])"
   ]
  },
  {
   "cell_type": "code",
   "execution_count": null,
   "metadata": {},
   "outputs": [],
   "source": [
    "# Получим предсказания на тестовой выборки\n",
    "predictions = dum_reg_rouger.predict(features_df_test)\n",
    "\n",
    "# Получаем значение sMAPE rougher\n",
    "sMAPE_rougher_DumReg = sMAPE(target_df_test_rougher['rougher.output.recovery'], predictions)"
   ]
  },
  {
   "cell_type": "code",
   "execution_count": null,
   "metadata": {},
   "outputs": [],
   "source": [
    "print('Предсказания констатной модели:', predictions.mean())\n",
    "print('sMAPE rougher:', sMAPE_rougher_DumReg)"
   ]
  },
  {
   "cell_type": "code",
   "execution_count": null,
   "metadata": {},
   "outputs": [],
   "source": [
    "# Снова обучим модель второй стадии на обучающей выборки\n",
    "dum_reg_rouger.fit(features_df_train, target_df_train['final.output.recovery'])"
   ]
  },
  {
   "cell_type": "code",
   "execution_count": null,
   "metadata": {},
   "outputs": [],
   "source": [
    "# Получим предсказания на тестовой выборки\n",
    "predictions = dum_reg_rouger.predict(features_df_test)\n",
    "\n",
    "# Получаем значение sMAPE rougher\n",
    "sMAPE_final_DumReg = sMAPE(target_df_test_final['final.output.recovery'], predictions)"
   ]
  },
  {
   "cell_type": "code",
   "execution_count": null,
   "metadata": {},
   "outputs": [],
   "source": [
    "print('Предсказания констатной модели:', predictions.mean())\n",
    "print('sMAPE rougher:', sMAPE_final_DumReg)"
   ]
  },
  {
   "cell_type": "code",
   "execution_count": null,
   "metadata": {},
   "outputs": [],
   "source": [
    "print('Узнаем итоговую sMAPE от константной модели:', total_sMAPE(sMAPE_rougher_DumReg, sMAPE_final_DumReg))"
   ]
  },
  {
   "cell_type": "markdown",
   "metadata": {},
   "source": [
    "Разница между значениями итогового sMAPE константной модели и тестовой модели составляет около 8%. Разница велика, значит ошибка на тестовой выборки была ощутимой"
   ]
  },
  {
   "cell_type": "markdown",
   "metadata": {},
   "source": [
    "<br/>\n",
    "<div class=\"alert alert-block alert-danger\">\n",
    "<h2> Комментарий ревьюера <a class=\"tocSkip\"></h2>\n",
    "    \n",
    "<b>На доработку🤔:</b>\n",
    "    \n",
    "В каждом проекте при оценке качества модели, имеет смысл сравнивать ее с константной моделью (к примеру, которая предсказывает медиану по таргету). И в наш проект важно добавить это сравнение.  Создавать константные модели можно либо вручную, либо воспользоваться готовым алгоритмом <a href='https://scikit-learn.org/stable/modules/generated/sklearn.dummy.DummyRegressor.html'>DummyRegressor</a> из пакета `sklearn`."
   ]
  },
  {
   "cell_type": "markdown",
   "metadata": {},
   "source": [
    "<br/>\n",
    "<div class=\"alert alert-block alert-danger\">\n",
    "<h2> Комментарий ревьюера v.2 <a class=\"tocSkip\"></h2>\n",
    "    \n",
    "<b>На доработку🤔:</b>\n",
    "    \n",
    "Сейчас использована не нужная нам метрика в тестировании, с использованием дефолтной метрики $R^2$. Следует использовать sMAPE и рассчитать итоговую метрику. Исправь, пожалуйста."
   ]
  },
  {
   "cell_type": "markdown",
   "metadata": {},
   "source": [
    "<div class=\"alert alert-info\">\n",
    "<h2> Комментарий студента V3: <a class=\"tocSkip\"> </h2>\n",
    "\n",
    "А как из константной модели вытягивать значение sMAPE и сравнить с sMAPE тестовой выборки\n",
    "    \n",
    "</div>"
   ]
  },
  {
   "cell_type": "markdown",
   "metadata": {},
   "source": [
    "<br/>\n",
    "<div class=\"alert alert-block alert-danger\">\n",
    "<h2> Комментарий ревьюера v.3 <a class=\"tocSkip\"></h2>\n",
    "    \n",
    "<b>На доработку🤔:</b>\n",
    "    \n",
    "- Используй написанные тобой ранее функции total_sMAPE и sMAPE\n",
    "- Некорректно использовать тестовую выборку в обучении любых моделей. Нам следует обучить модель на обучающей выборке и  далее сделать предсказание методом `predict` на тестовой выборке и рассчитать итоговую метрику. Исправь, пожалуйста.    "
   ]
  },
  {
   "cell_type": "markdown",
   "metadata": {},
   "source": [
    "<div class=\"alert alert-info\">\n",
    "<h2> Комментарий студента V4: <a class=\"tocSkip\"> </h2>\n",
    "\n",
    "Подправил и добавил\n",
    "    \n",
    "</div>"
   ]
  },
  {
   "cell_type": "markdown",
   "metadata": {},
   "source": [
    "<br/>\n",
    "<div class=\"alert alert-block alert-danger\">\n",
    "<h2> Комментарий ревьюера v.4 <a class=\"tocSkip\"></h2>\n",
    "\n",
    "    \n",
    "<b>На доработку🤔:</b> Выше указал на ошибки"
   ]
  },
  {
   "cell_type": "markdown",
   "metadata": {},
   "source": [
    "<br/>\n",
    "<div class=\"alert alert-block alert-danger\">\n",
    "<h2> Комментарий ревьюера v.5 <a class=\"tocSkip\"></h2>\n",
    "\n",
    "    \n",
    "<b>На доработку🤔:</b> Тут аналогично:\n",
    "    \n",
    "1) Тебе следует обучить сначала модель первой стадии  на обучающей выборке и далее сделать предсказание методом predict на тестовой выборке и рассчитать невзвешенное sMAPE rougher, и причем именно моделью этой стадии\n",
    "    \n",
    "2) Затем  следует обучить модель второй стадии  на обучающей выборке и далее сделать предсказание методом predict на тестовой выборке и рассчитать невзвешенное sMAPE final, и причем именно моделью этой стадии\n",
    "    \n",
    "3) Рассчитать итоговое sMAPE"
   ]
  },
  {
   "cell_type": "markdown",
   "metadata": {},
   "source": [
    "<div class=\"alert alert-info\">\n",
    "<h2> Комментарий студента V5: <a class=\"tocSkip\"> </h2>\n",
    "\n",
    "Теперь это четко понял. Очень надеюсь, что это будет последняя правка...\n",
    "    \n",
    "</div>"
   ]
  },
  {
   "cell_type": "markdown",
   "metadata": {},
   "source": [
    "## Выводы\n",
    "\n",
    "В течение отладки выяснили, что отсутствуют признаки: rougher.output.recovery, final.output.recovery вещественного типа. И было решено протестировать на исходную выборку. Также выяснили пропущенные значения в некоторых датасетах, что и решили убрать их, чтобы не искажать на исследование.\n",
    "\n",
    "В ходе анализа данных узнали, что концентрация золота после второго этапа очистки оказалась намного выше чем после флотации и первого этапа очистки. Ситуация со серебром оказалсь другой, т.е. концентрация серебра сильно упала после первого этапа очистки. Чтобы сохранить высокую концентрацию серебра, придется воздержаться этапы очистки. Со свинцом ситуация более приемлемая, после второго этапа очистки принесет удовлетворительную оценку концентратов.\n",
    "\n",
    "Лучшей модели обучения оказался метод \"Решающего дерева\", также было проведено тестирование на модели, сравнивая с константной модели. Разница между значениями предсказания модели константной модели и тестовой модели оказалось невелики - около 2%. Следовательно, обученная модель на тестовой выборки показалась себя неплохой"
   ]
  },
  {
   "cell_type": "markdown",
   "metadata": {},
   "source": [
    "<div style=\"border:solid Chocolate 2px; padding: 40px\">\n",
    "\n",
    "\n",
    "<h2> Итоговый комментарий ревьюера <a class=\"tocSkip\"> </h2>    \n",
    "    \n",
    "  \n",
    "У меня сложилось хорошее общее впечатление о проекте, тебе удалось неплохо справиться с таким объемным и сложным проектом. Молодец! Подготовлены данные для анализа, изучен каждый параметр. Все красиво визуализировано, построено несколько моделей регрессии и оценено их качество. Осмысленная аналитика и дельная модельная работа - многое удалось как надо)\n",
    "    \n",
    "Отмечу отдельные положительные моменты проекта🙂:\n",
    "    \n",
    "- в ходе проекта встречались функции, помогающие избавиться от дублирования кода;\n",
    "- много красивых визуализаций в проекте и хорошая интерпретация;\n",
    "- при обучении моделей использована кросс-валидация и поиск гиперпараметров.\n",
    "    \n",
    "Есть несколько моментов всего, на которые стоит ещё раз взглянуть, их я обзначил тебе в комментариях по ходу проекта. Предлагаю тебе доработать проект по моим комментариям, чтобы довести его до совершенства.\n",
    "\n",
    "Если будут вопросы, обращайся, с удовольствием на них отвечу.  \n",
    "</div>"
   ]
  },
  {
   "cell_type": "markdown",
   "metadata": {},
   "source": [
    "## Чек-лист готовности проекта"
   ]
  },
  {
   "cell_type": "markdown",
   "metadata": {},
   "source": [
    "- [x]  Jupyter Notebook открыт\n",
    "- [x]  Весь код выполняется без ошибок\n",
    "- [x]  Ячейки с кодом расположены в порядке выполнения\n",
    "- [x]  Выполнен шаг 1: данные подготовлены\n",
    "    - [x]  Проверена формула вычисления эффективности обогащения\n",
    "    - [x]  Проанализированы признаки, недоступные в тестовой выборке\n",
    "    - [x]  Проведена предобработка данных\n",
    "- [x]  Выполнен шаг 2: данные проанализированы\n",
    "    - [x]  Исследовано изменение концентрации элементов на каждом этапе\n",
    "    - [x]  Проанализированы распределения размеров гранул на обучающей и тестовой выборках\n",
    "    - [x]  Исследованы суммарные концентрации\n",
    "- [x]  Выполнен шаг 3: построена модель прогнозирования\n",
    "    - [x]  Написана функция для вычисления итогового *sMAPE*\n",
    "    - [x]  Обучено и проверено несколько моделей\n",
    "    - [x]  Выбрана лучшая модель, её качество проверено на тестовой выборке"
   ]
  }
 ],
 "metadata": {
  "ExecuteTimeLog": [
   {
    "duration": 1575,
    "start_time": "2023-02-13T07:20:44.157Z"
   },
   {
    "duration": 41,
    "start_time": "2023-02-13T07:20:45.815Z"
   },
   {
    "duration": 2116,
    "start_time": "2023-02-13T07:21:14.004Z"
   },
   {
    "duration": 15,
    "start_time": "2023-02-13T07:21:38.708Z"
   },
   {
    "duration": 26,
    "start_time": "2023-02-13T07:22:12.802Z"
   },
   {
    "duration": 238,
    "start_time": "2023-02-13T07:23:21.127Z"
   },
   {
    "duration": 14523,
    "start_time": "2023-02-13T07:23:45.743Z"
   },
   {
    "duration": 1355,
    "start_time": "2023-02-13T07:24:00.268Z"
   },
   {
    "duration": 9,
    "start_time": "2023-02-13T07:31:15.081Z"
   },
   {
    "duration": 44,
    "start_time": "2023-02-13T07:31:16.496Z"
   },
   {
    "duration": 1415,
    "start_time": "2023-02-13T07:31:21.170Z"
   },
   {
    "duration": 2056,
    "start_time": "2023-02-13T07:31:22.645Z"
   },
   {
    "duration": 235,
    "start_time": "2023-02-13T07:31:24.703Z"
   },
   {
    "duration": 4,
    "start_time": "2023-02-13T07:32:34.309Z"
   },
   {
    "duration": 50,
    "start_time": "2023-02-13T17:48:10.060Z"
   },
   {
    "duration": 1567,
    "start_time": "2023-02-13T17:48:15.518Z"
   },
   {
    "duration": 3376,
    "start_time": "2023-02-13T17:48:17.087Z"
   },
   {
    "duration": 256,
    "start_time": "2023-02-13T17:48:23.380Z"
   },
   {
    "duration": 125,
    "start_time": "2023-02-13T17:48:37.088Z"
   },
   {
    "duration": 252,
    "start_time": "2023-02-13T17:48:45.066Z"
   },
   {
    "duration": 44,
    "start_time": "2023-02-13T18:06:18.340Z"
   },
   {
    "duration": 3,
    "start_time": "2023-02-13T18:10:57.910Z"
   },
   {
    "duration": 55,
    "start_time": "2023-02-13T18:51:37.754Z"
   },
   {
    "duration": 5,
    "start_time": "2023-02-13T18:51:41.771Z"
   },
   {
    "duration": 685,
    "start_time": "2023-02-13T18:51:41.778Z"
   },
   {
    "duration": 41,
    "start_time": "2023-02-13T18:51:44.289Z"
   },
   {
    "duration": 48,
    "start_time": "2023-02-13T18:51:47.743Z"
   },
   {
    "duration": 5,
    "start_time": "2023-02-13T18:51:52.648Z"
   },
   {
    "duration": 657,
    "start_time": "2023-02-13T18:51:53.759Z"
   },
   {
    "duration": 56,
    "start_time": "2023-02-13T18:51:54.530Z"
   },
   {
    "duration": 45,
    "start_time": "2023-02-13T18:52:04.473Z"
   },
   {
    "duration": 13891,
    "start_time": "2023-02-13T18:52:13.152Z"
   },
   {
    "duration": 1063,
    "start_time": "2023-02-13T18:55:36.887Z"
   },
   {
    "duration": 51,
    "start_time": "2023-02-13T18:55:40.213Z"
   },
   {
    "duration": 3,
    "start_time": "2023-02-13T18:55:41.605Z"
   },
   {
    "duration": 46,
    "start_time": "2023-02-13T19:09:11.721Z"
   },
   {
    "duration": 1395,
    "start_time": "2023-02-13T19:09:21.950Z"
   },
   {
    "duration": 3142,
    "start_time": "2023-02-13T19:09:23.349Z"
   },
   {
    "duration": 2407,
    "start_time": "2023-02-13T19:09:26.493Z"
   },
   {
    "duration": 250,
    "start_time": "2023-02-13T19:09:28.903Z"
   },
   {
    "duration": 134,
    "start_time": "2023-02-13T19:09:29.155Z"
   },
   {
    "duration": 250,
    "start_time": "2023-02-13T19:09:29.290Z"
   },
   {
    "duration": 7,
    "start_time": "2023-02-13T19:09:29.542Z"
   },
   {
    "duration": 53,
    "start_time": "2023-02-13T19:45:16.980Z"
   },
   {
    "duration": 3790,
    "start_time": "2023-02-13T19:45:24.470Z"
   },
   {
    "duration": 58285,
    "start_time": "2023-02-13T19:45:28.262Z"
   },
   {
    "duration": 3,
    "start_time": "2023-02-13T19:47:59.514Z"
   },
   {
    "duration": 59913,
    "start_time": "2023-02-13T19:49:00.780Z"
   },
   {
    "duration": 504,
    "start_time": "2023-02-13T19:50:00.696Z"
   },
   {
    "duration": 76,
    "start_time": "2023-02-13T19:58:50.937Z"
   },
   {
    "duration": 10,
    "start_time": "2023-02-13T19:59:03.123Z"
   },
   {
    "duration": 9,
    "start_time": "2023-02-13T19:59:18.876Z"
   },
   {
    "duration": 11,
    "start_time": "2023-02-13T19:59:22.750Z"
   },
   {
    "duration": 20,
    "start_time": "2023-02-13T19:59:35.169Z"
   },
   {
    "duration": 8,
    "start_time": "2023-02-13T20:09:15.830Z"
   },
   {
    "duration": 11,
    "start_time": "2023-02-13T20:09:22.528Z"
   },
   {
    "duration": 17,
    "start_time": "2023-02-13T20:09:55.177Z"
   },
   {
    "duration": 47,
    "start_time": "2023-02-13T20:09:57.758Z"
   },
   {
    "duration": 12,
    "start_time": "2023-02-13T20:10:03.993Z"
   },
   {
    "duration": 31,
    "start_time": "2023-02-13T20:10:13.698Z"
   },
   {
    "duration": 6,
    "start_time": "2023-02-13T20:10:24.633Z"
   },
   {
    "duration": 6,
    "start_time": "2023-02-13T20:10:59.859Z"
   },
   {
    "duration": 60,
    "start_time": "2023-02-13T20:11:18.906Z"
   },
   {
    "duration": 18,
    "start_time": "2023-02-13T20:11:22.547Z"
   },
   {
    "duration": 3,
    "start_time": "2023-02-13T20:12:55.365Z"
   },
   {
    "duration": 11,
    "start_time": "2023-02-13T20:13:05.654Z"
   },
   {
    "duration": 5,
    "start_time": "2023-02-13T20:13:09.942Z"
   },
   {
    "duration": 15,
    "start_time": "2023-02-13T20:13:21.284Z"
   },
   {
    "duration": 6,
    "start_time": "2023-02-13T20:13:24.980Z"
   },
   {
    "duration": 3,
    "start_time": "2023-02-13T20:13:55.349Z"
   },
   {
    "duration": 39,
    "start_time": "2023-02-13T20:14:02.392Z"
   },
   {
    "duration": 3,
    "start_time": "2023-02-13T20:14:10.399Z"
   },
   {
    "duration": 60,
    "start_time": "2023-02-13T20:14:11.557Z"
   },
   {
    "duration": 4,
    "start_time": "2023-02-13T20:14:38.773Z"
   },
   {
    "duration": 63,
    "start_time": "2023-02-13T20:14:40.221Z"
   },
   {
    "duration": 4,
    "start_time": "2023-02-13T20:14:49.176Z"
   },
   {
    "duration": 53,
    "start_time": "2023-02-13T20:14:50.285Z"
   },
   {
    "duration": 4,
    "start_time": "2023-02-13T20:15:15.872Z"
   },
   {
    "duration": 59,
    "start_time": "2023-02-13T20:15:18.416Z"
   },
   {
    "duration": 3,
    "start_time": "2023-02-13T20:15:26.286Z"
   },
   {
    "duration": 57,
    "start_time": "2023-02-13T20:15:26.942Z"
   },
   {
    "duration": 3,
    "start_time": "2023-02-13T20:16:14.825Z"
   },
   {
    "duration": 45,
    "start_time": "2023-02-13T20:16:16.017Z"
   },
   {
    "duration": 56,
    "start_time": "2023-02-13T20:16:25.840Z"
   },
   {
    "duration": 3,
    "start_time": "2023-02-13T20:17:05.290Z"
   },
   {
    "duration": 47,
    "start_time": "2023-02-13T20:17:07.356Z"
   },
   {
    "duration": 3,
    "start_time": "2023-02-13T20:17:19.396Z"
   },
   {
    "duration": 48,
    "start_time": "2023-02-13T20:17:20.720Z"
   },
   {
    "duration": 45,
    "start_time": "2023-02-13T20:17:31.467Z"
   },
   {
    "duration": 21,
    "start_time": "2023-02-13T20:17:34.975Z"
   },
   {
    "duration": 46,
    "start_time": "2023-02-13T20:17:36.634Z"
   },
   {
    "duration": 29,
    "start_time": "2023-02-13T20:24:46.368Z"
   },
   {
    "duration": 123,
    "start_time": "2023-02-13T20:24:54.947Z"
   },
   {
    "duration": 123,
    "start_time": "2023-02-13T20:24:59.397Z"
   },
   {
    "duration": 12,
    "start_time": "2023-02-13T20:25:01.456Z"
   },
   {
    "duration": 24,
    "start_time": "2023-02-13T20:25:03.773Z"
   },
   {
    "duration": 97,
    "start_time": "2023-02-13T20:25:09.492Z"
   },
   {
    "duration": 235,
    "start_time": "2023-02-13T20:25:23.706Z"
   },
   {
    "duration": 228,
    "start_time": "2023-02-13T20:25:28.530Z"
   },
   {
    "duration": 233,
    "start_time": "2023-02-13T20:25:35.348Z"
   },
   {
    "duration": 223,
    "start_time": "2023-02-13T20:25:50.828Z"
   },
   {
    "duration": 232,
    "start_time": "2023-02-13T20:26:09.314Z"
   },
   {
    "duration": 59,
    "start_time": "2023-02-14T19:45:47.470Z"
   },
   {
    "duration": 1325,
    "start_time": "2023-02-14T19:45:50.453Z"
   },
   {
    "duration": 1954,
    "start_time": "2023-02-14T19:45:51.781Z"
   },
   {
    "duration": 567,
    "start_time": "2023-02-14T19:45:53.737Z"
   },
   {
    "duration": 304,
    "start_time": "2023-02-14T19:45:54.307Z"
   },
   {
    "duration": 499,
    "start_time": "2023-02-14T19:45:54.613Z"
   },
   {
    "duration": 2,
    "start_time": "2023-02-14T19:45:55.114Z"
   },
   {
    "duration": 112,
    "start_time": "2023-02-14T19:45:55.118Z"
   },
   {
    "duration": 80,
    "start_time": "2023-02-14T19:45:55.231Z"
   },
   {
    "duration": 110,
    "start_time": "2023-02-14T19:45:55.313Z"
   },
   {
    "duration": 422,
    "start_time": "2023-02-14T19:45:55.425Z"
   },
   {
    "duration": 69,
    "start_time": "2023-02-14T19:45:55.848Z"
   },
   {
    "duration": 15,
    "start_time": "2023-02-14T19:46:01.804Z"
   },
   {
    "duration": 80,
    "start_time": "2023-02-14T20:06:24.118Z"
   },
   {
    "duration": 11,
    "start_time": "2023-02-14T20:06:34.822Z"
   },
   {
    "duration": 5,
    "start_time": "2023-02-14T20:07:02.072Z"
   },
   {
    "duration": 6,
    "start_time": "2023-02-14T20:07:09.281Z"
   },
   {
    "duration": 4,
    "start_time": "2023-02-14T20:08:52.322Z"
   },
   {
    "duration": 5,
    "start_time": "2023-02-14T20:08:53.297Z"
   },
   {
    "duration": 3,
    "start_time": "2023-02-14T20:10:47.636Z"
   },
   {
    "duration": 8,
    "start_time": "2023-02-14T20:11:10.109Z"
   },
   {
    "duration": 16,
    "start_time": "2023-02-14T20:11:23.897Z"
   },
   {
    "duration": 9,
    "start_time": "2023-02-14T20:11:29.265Z"
   },
   {
    "duration": 3,
    "start_time": "2023-02-14T20:13:29.248Z"
   },
   {
    "duration": 8,
    "start_time": "2023-02-14T20:13:51.297Z"
   },
   {
    "duration": 11,
    "start_time": "2023-02-14T20:14:18.418Z"
   },
   {
    "duration": 8,
    "start_time": "2023-02-14T20:14:43.793Z"
   },
   {
    "duration": 20,
    "start_time": "2023-02-14T20:14:57.889Z"
   },
   {
    "duration": 5,
    "start_time": "2023-02-14T20:15:07.552Z"
   },
   {
    "duration": 3,
    "start_time": "2023-02-14T20:15:36.225Z"
   },
   {
    "duration": 3,
    "start_time": "2023-02-14T20:15:44.267Z"
   },
   {
    "duration": 3,
    "start_time": "2023-02-14T20:15:45.230Z"
   },
   {
    "duration": 9,
    "start_time": "2023-02-14T20:15:49.612Z"
   },
   {
    "duration": 9,
    "start_time": "2023-02-14T20:15:54.779Z"
   },
   {
    "duration": 78,
    "start_time": "2023-02-14T20:16:04.290Z"
   },
   {
    "duration": 9,
    "start_time": "2023-02-14T20:16:16.067Z"
   },
   {
    "duration": 3,
    "start_time": "2023-02-14T20:16:22.123Z"
   },
   {
    "duration": 3,
    "start_time": "2023-02-14T20:16:23.509Z"
   },
   {
    "duration": 4,
    "start_time": "2023-02-14T20:16:25.274Z"
   },
   {
    "duration": 3,
    "start_time": "2023-02-14T20:16:31.883Z"
   },
   {
    "duration": 4,
    "start_time": "2023-02-14T20:16:32.595Z"
   },
   {
    "duration": 3,
    "start_time": "2023-02-14T20:16:39.219Z"
   },
   {
    "duration": 7,
    "start_time": "2023-02-14T20:16:43.227Z"
   },
   {
    "duration": 6,
    "start_time": "2023-02-14T20:16:47.828Z"
   },
   {
    "duration": 32,
    "start_time": "2023-02-14T20:43:18.821Z"
   },
   {
    "duration": 12,
    "start_time": "2023-02-14T20:45:41.622Z"
   },
   {
    "duration": 10,
    "start_time": "2023-02-14T20:45:53.759Z"
   },
   {
    "duration": 9,
    "start_time": "2023-02-14T20:46:23.182Z"
   },
   {
    "duration": 12,
    "start_time": "2023-02-14T20:46:31.559Z"
   },
   {
    "duration": 8,
    "start_time": "2023-02-14T20:46:32.647Z"
   },
   {
    "duration": 8,
    "start_time": "2023-02-14T20:46:37.407Z"
   },
   {
    "duration": 29,
    "start_time": "2023-02-14T20:47:25.816Z"
   },
   {
    "duration": 6,
    "start_time": "2023-02-14T20:47:30.554Z"
   },
   {
    "duration": 9,
    "start_time": "2023-02-14T20:47:38.414Z"
   },
   {
    "duration": 22,
    "start_time": "2023-02-14T20:47:45.667Z"
   },
   {
    "duration": 4,
    "start_time": "2023-02-14T20:49:11.458Z"
   },
   {
    "duration": 15,
    "start_time": "2023-02-14T20:49:15.114Z"
   },
   {
    "duration": 3,
    "start_time": "2023-02-14T20:49:46.337Z"
   },
   {
    "duration": 4,
    "start_time": "2023-02-14T20:49:51.147Z"
   },
   {
    "duration": 3,
    "start_time": "2023-02-14T20:49:58.172Z"
   },
   {
    "duration": 8,
    "start_time": "2023-02-14T20:50:17.124Z"
   },
   {
    "duration": 27,
    "start_time": "2023-02-14T20:50:20.260Z"
   },
   {
    "duration": 4,
    "start_time": "2023-02-14T20:50:42.262Z"
   },
   {
    "duration": 4,
    "start_time": "2023-02-14T20:50:47.389Z"
   },
   {
    "duration": 9,
    "start_time": "2023-02-14T20:50:50.267Z"
   },
   {
    "duration": 3,
    "start_time": "2023-02-14T20:51:05.068Z"
   },
   {
    "duration": 22,
    "start_time": "2023-02-14T20:51:06.987Z"
   },
   {
    "duration": 5,
    "start_time": "2023-02-14T20:51:18.574Z"
   },
   {
    "duration": 683,
    "start_time": "2023-02-14T20:51:18.581Z"
   },
   {
    "duration": 215,
    "start_time": "2023-02-14T20:51:19.265Z"
   },
   {
    "duration": 129,
    "start_time": "2023-02-14T20:51:19.481Z"
   },
   {
    "duration": 231,
    "start_time": "2023-02-14T20:51:19.611Z"
   },
   {
    "duration": 4,
    "start_time": "2023-02-14T20:51:19.844Z"
   },
   {
    "duration": 50,
    "start_time": "2023-02-14T20:51:22.260Z"
   },
   {
    "duration": 21,
    "start_time": "2023-02-14T20:51:24.004Z"
   },
   {
    "duration": 53,
    "start_time": "2023-02-14T20:51:25.036Z"
   },
   {
    "duration": 26,
    "start_time": "2023-02-14T20:51:27.549Z"
   },
   {
    "duration": 24,
    "start_time": "2023-02-14T20:51:29.595Z"
   },
   {
    "duration": 48,
    "start_time": "2023-02-14T20:51:42.053Z"
   },
   {
    "duration": 199,
    "start_time": "2023-02-14T20:51:47.006Z"
   },
   {
    "duration": 3,
    "start_time": "2023-02-14T20:57:04.108Z"
   },
   {
    "duration": 91,
    "start_time": "2023-02-14T20:58:27.588Z"
   },
   {
    "duration": 3,
    "start_time": "2023-02-14T20:58:48.792Z"
   },
   {
    "duration": 123,
    "start_time": "2023-02-14T20:58:49.509Z"
   },
   {
    "duration": 69,
    "start_time": "2023-02-14T20:59:01.276Z"
   },
   {
    "duration": 3,
    "start_time": "2023-02-14T20:59:46.589Z"
   },
   {
    "duration": 4,
    "start_time": "2023-02-14T21:00:01.688Z"
   },
   {
    "duration": 4,
    "start_time": "2023-02-14T21:00:32.231Z"
   },
   {
    "duration": 4,
    "start_time": "2023-02-14T21:00:44.878Z"
   },
   {
    "duration": 77,
    "start_time": "2023-02-14T21:00:48.528Z"
   },
   {
    "duration": 66,
    "start_time": "2023-02-14T21:01:08.680Z"
   },
   {
    "duration": 72,
    "start_time": "2023-02-14T21:01:12.246Z"
   },
   {
    "duration": 4,
    "start_time": "2023-02-14T21:02:03.257Z"
   },
   {
    "duration": 6,
    "start_time": "2023-02-14T21:02:17.164Z"
   },
   {
    "duration": 5,
    "start_time": "2023-02-14T21:02:31.929Z"
   },
   {
    "duration": 6,
    "start_time": "2023-02-14T21:02:33.945Z"
   },
   {
    "duration": 74,
    "start_time": "2023-02-14T21:03:29.057Z"
   },
   {
    "duration": 5,
    "start_time": "2023-02-14T21:03:32.656Z"
   },
   {
    "duration": 5,
    "start_time": "2023-02-14T21:03:35.521Z"
   },
   {
    "duration": 3,
    "start_time": "2023-02-14T21:03:48.186Z"
   },
   {
    "duration": 6,
    "start_time": "2023-02-14T21:03:52.523Z"
   },
   {
    "duration": 5,
    "start_time": "2023-02-14T21:03:59.753Z"
   },
   {
    "duration": 13,
    "start_time": "2023-02-14T21:04:44.179Z"
   },
   {
    "duration": 34,
    "start_time": "2023-02-14T21:04:59.804Z"
   },
   {
    "duration": 8,
    "start_time": "2023-02-14T21:05:21.179Z"
   },
   {
    "duration": 11,
    "start_time": "2023-02-14T21:05:26.748Z"
   },
   {
    "duration": 4,
    "start_time": "2023-02-14T21:05:31.364Z"
   },
   {
    "duration": 10,
    "start_time": "2023-02-14T21:05:38.794Z"
   },
   {
    "duration": 10,
    "start_time": "2023-02-14T21:08:03.148Z"
   },
   {
    "duration": 5,
    "start_time": "2023-02-14T21:08:06.580Z"
   },
   {
    "duration": 682,
    "start_time": "2023-02-14T21:08:06.587Z"
   },
   {
    "duration": 209,
    "start_time": "2023-02-14T21:08:07.270Z"
   },
   {
    "duration": 120,
    "start_time": "2023-02-14T21:08:07.480Z"
   },
   {
    "duration": 238,
    "start_time": "2023-02-14T21:08:07.602Z"
   },
   {
    "duration": 4,
    "start_time": "2023-02-14T21:08:07.841Z"
   },
   {
    "duration": 69,
    "start_time": "2023-02-14T21:08:07.847Z"
   },
   {
    "duration": 18,
    "start_time": "2023-02-14T21:08:07.917Z"
   },
   {
    "duration": 79,
    "start_time": "2023-02-14T21:08:07.936Z"
   },
   {
    "duration": 27,
    "start_time": "2023-02-14T21:08:08.016Z"
   },
   {
    "duration": 131,
    "start_time": "2023-02-14T21:08:08.045Z"
   },
   {
    "duration": 196,
    "start_time": "2023-02-14T21:08:08.178Z"
   },
   {
    "duration": 9,
    "start_time": "2023-02-14T21:08:08.375Z"
   },
   {
    "duration": 0,
    "start_time": "2023-02-14T21:08:08.386Z"
   },
   {
    "duration": 0,
    "start_time": "2023-02-14T21:08:08.387Z"
   },
   {
    "duration": 10,
    "start_time": "2023-02-14T21:08:24.798Z"
   },
   {
    "duration": 4,
    "start_time": "2023-02-14T21:08:33.646Z"
   },
   {
    "duration": 5,
    "start_time": "2023-02-14T21:08:34.879Z"
   },
   {
    "duration": 5,
    "start_time": "2023-02-14T21:08:36.094Z"
   },
   {
    "duration": 3,
    "start_time": "2023-02-14T21:08:37.359Z"
   },
   {
    "duration": 91,
    "start_time": "2023-02-14T21:09:02.599Z"
   },
   {
    "duration": 4,
    "start_time": "2023-02-14T21:09:06.854Z"
   },
   {
    "duration": 83,
    "start_time": "2023-02-16T14:12:18.707Z"
   },
   {
    "duration": 1790,
    "start_time": "2023-02-16T14:12:21.756Z"
   },
   {
    "duration": 2720,
    "start_time": "2023-02-16T14:12:23.548Z"
   },
   {
    "duration": 236,
    "start_time": "2023-02-16T14:12:26.269Z"
   },
   {
    "duration": 157,
    "start_time": "2023-02-16T14:12:26.506Z"
   },
   {
    "duration": 278,
    "start_time": "2023-02-16T14:12:26.665Z"
   },
   {
    "duration": 12,
    "start_time": "2023-02-16T14:12:26.947Z"
   },
   {
    "duration": 82,
    "start_time": "2023-02-16T14:12:26.969Z"
   },
   {
    "duration": 27,
    "start_time": "2023-02-16T14:12:27.052Z"
   },
   {
    "duration": 82,
    "start_time": "2023-02-16T14:12:27.081Z"
   },
   {
    "duration": 33,
    "start_time": "2023-02-16T14:12:27.164Z"
   },
   {
    "duration": 68,
    "start_time": "2023-02-16T14:12:27.199Z"
   },
   {
    "duration": 305,
    "start_time": "2023-02-16T14:12:27.268Z"
   },
   {
    "duration": 4,
    "start_time": "2023-02-16T14:12:27.575Z"
   },
   {
    "duration": 110,
    "start_time": "2023-02-16T14:12:27.581Z"
   },
   {
    "duration": 0,
    "start_time": "2023-02-16T14:12:27.692Z"
   },
   {
    "duration": 0,
    "start_time": "2023-02-16T14:12:27.693Z"
   },
   {
    "duration": 0,
    "start_time": "2023-02-16T14:12:27.694Z"
   },
   {
    "duration": 10,
    "start_time": "2023-02-16T14:12:40.775Z"
   },
   {
    "duration": 9,
    "start_time": "2023-02-16T14:12:51.751Z"
   },
   {
    "duration": 5,
    "start_time": "2023-02-16T14:12:52.662Z"
   },
   {
    "duration": 11,
    "start_time": "2023-02-16T14:12:56.751Z"
   },
   {
    "duration": 7,
    "start_time": "2023-02-16T14:12:57.806Z"
   },
   {
    "duration": 14,
    "start_time": "2023-02-16T14:12:59.270Z"
   },
   {
    "duration": 5,
    "start_time": "2023-02-16T14:13:21.185Z"
   },
   {
    "duration": 35,
    "start_time": "2023-02-16T14:13:55.304Z"
   },
   {
    "duration": 16,
    "start_time": "2023-02-16T14:14:20.873Z"
   },
   {
    "duration": 17,
    "start_time": "2023-02-16T14:14:26.472Z"
   },
   {
    "duration": 16,
    "start_time": "2023-02-16T14:14:31.052Z"
   },
   {
    "duration": 11,
    "start_time": "2023-02-16T14:14:32.985Z"
   },
   {
    "duration": 11,
    "start_time": "2023-02-16T14:14:34.583Z"
   },
   {
    "duration": 10,
    "start_time": "2023-02-16T14:14:47.468Z"
   },
   {
    "duration": 6,
    "start_time": "2023-02-16T14:14:56.156Z"
   },
   {
    "duration": 26,
    "start_time": "2023-02-16T14:23:47.833Z"
   },
   {
    "duration": 4,
    "start_time": "2023-02-16T14:51:17.204Z"
   },
   {
    "duration": 15,
    "start_time": "2023-02-16T14:51:24.632Z"
   },
   {
    "duration": 7,
    "start_time": "2023-02-16T14:51:36.990Z"
   },
   {
    "duration": 10,
    "start_time": "2023-02-16T14:55:29.474Z"
   },
   {
    "duration": 9,
    "start_time": "2023-02-16T14:55:34.838Z"
   },
   {
    "duration": 7,
    "start_time": "2023-02-16T14:55:38.436Z"
   },
   {
    "duration": 15,
    "start_time": "2023-02-16T14:56:16.228Z"
   },
   {
    "duration": 5,
    "start_time": "2023-02-16T14:57:12.448Z"
   },
   {
    "duration": 9,
    "start_time": "2023-02-16T14:57:32.556Z"
   },
   {
    "duration": 13,
    "start_time": "2023-02-16T14:57:43.354Z"
   },
   {
    "duration": 10,
    "start_time": "2023-02-16T15:00:10.872Z"
   },
   {
    "duration": 11,
    "start_time": "2023-02-16T15:00:19.696Z"
   },
   {
    "duration": 3,
    "start_time": "2023-02-16T15:00:30.193Z"
   },
   {
    "duration": 28,
    "start_time": "2023-02-16T15:00:30.738Z"
   },
   {
    "duration": 7,
    "start_time": "2023-02-16T15:00:38.256Z"
   },
   {
    "duration": 3,
    "start_time": "2023-02-16T15:00:44.165Z"
   },
   {
    "duration": 23,
    "start_time": "2023-02-16T15:00:49.860Z"
   },
   {
    "duration": 12,
    "start_time": "2023-02-16T15:01:06.836Z"
   },
   {
    "duration": 3,
    "start_time": "2023-02-16T15:01:10.353Z"
   },
   {
    "duration": 34,
    "start_time": "2023-02-16T15:01:55.503Z"
   },
   {
    "duration": 3,
    "start_time": "2023-02-16T15:03:11.561Z"
   },
   {
    "duration": 1732,
    "start_time": "2023-02-16T15:03:12.849Z"
   },
   {
    "duration": 4,
    "start_time": "2023-02-16T15:03:44.361Z"
   },
   {
    "duration": 5,
    "start_time": "2023-02-16T15:03:58.343Z"
   },
   {
    "duration": 5,
    "start_time": "2023-02-16T15:03:59.057Z"
   },
   {
    "duration": 4,
    "start_time": "2023-02-16T15:04:04.959Z"
   },
   {
    "duration": 5,
    "start_time": "2023-02-16T15:04:05.633Z"
   },
   {
    "duration": 17,
    "start_time": "2023-02-16T15:04:08.952Z"
   },
   {
    "duration": 5,
    "start_time": "2023-02-16T15:04:12.270Z"
   },
   {
    "duration": 9,
    "start_time": "2023-02-16T15:07:03.364Z"
   },
   {
    "duration": 11,
    "start_time": "2023-02-16T15:07:25.140Z"
   },
   {
    "duration": 2,
    "start_time": "2023-02-16T15:07:30.587Z"
   },
   {
    "duration": 175,
    "start_time": "2023-02-16T15:14:38.236Z"
   },
   {
    "duration": 191,
    "start_time": "2023-02-16T15:14:47.766Z"
   },
   {
    "duration": 173,
    "start_time": "2023-02-16T15:14:52.136Z"
   },
   {
    "duration": 194,
    "start_time": "2023-02-16T15:14:54.102Z"
   },
   {
    "duration": 128,
    "start_time": "2023-02-16T15:14:59.458Z"
   },
   {
    "duration": 150,
    "start_time": "2023-02-16T15:15:03.077Z"
   },
   {
    "duration": 137,
    "start_time": "2023-02-16T15:15:05.557Z"
   },
   {
    "duration": 285,
    "start_time": "2023-02-16T15:15:22.682Z"
   },
   {
    "duration": 193,
    "start_time": "2023-02-16T15:15:28.734Z"
   },
   {
    "duration": 240,
    "start_time": "2023-02-16T15:15:31.440Z"
   },
   {
    "duration": 396,
    "start_time": "2023-02-16T15:15:34.463Z"
   },
   {
    "duration": 2509,
    "start_time": "2023-02-16T15:16:24.569Z"
   },
   {
    "duration": 1737,
    "start_time": "2023-02-16T15:16:29.940Z"
   },
   {
    "duration": 2511,
    "start_time": "2023-02-16T15:16:45.828Z"
   },
   {
    "duration": 3900,
    "start_time": "2023-02-16T15:17:10.868Z"
   },
   {
    "duration": 76,
    "start_time": "2023-02-16T15:21:15.485Z"
   },
   {
    "duration": 32,
    "start_time": "2023-02-16T15:22:03.733Z"
   },
   {
    "duration": 14,
    "start_time": "2023-02-16T15:22:42.656Z"
   },
   {
    "duration": 3085,
    "start_time": "2023-02-16T15:23:21.694Z"
   },
   {
    "duration": 2543,
    "start_time": "2023-02-16T15:23:29.952Z"
   },
   {
    "duration": 1687,
    "start_time": "2023-02-16T15:23:54.444Z"
   },
   {
    "duration": 2725,
    "start_time": "2023-02-16T15:24:24.910Z"
   },
   {
    "duration": 1730,
    "start_time": "2023-02-16T15:25:09.909Z"
   },
   {
    "duration": 1697,
    "start_time": "2023-02-16T15:25:13.238Z"
   },
   {
    "duration": 731,
    "start_time": "2023-02-16T15:25:35.875Z"
   },
   {
    "duration": 11,
    "start_time": "2023-02-16T15:27:35.666Z"
   },
   {
    "duration": 860,
    "start_time": "2023-02-16T15:28:26.175Z"
   },
   {
    "duration": 289,
    "start_time": "2023-02-16T15:28:31.030Z"
   },
   {
    "duration": 668,
    "start_time": "2023-02-16T15:28:39.726Z"
   },
   {
    "duration": 897,
    "start_time": "2023-02-16T15:28:49.458Z"
   },
   {
    "duration": 105,
    "start_time": "2023-02-16T15:29:08.515Z"
   },
   {
    "duration": 96,
    "start_time": "2023-02-16T15:29:29.639Z"
   },
   {
    "duration": 26,
    "start_time": "2023-02-16T15:29:33.044Z"
   },
   {
    "duration": 10,
    "start_time": "2023-02-16T15:29:37.060Z"
   },
   {
    "duration": 4,
    "start_time": "2023-02-16T15:29:51.386Z"
   },
   {
    "duration": 9,
    "start_time": "2023-02-16T15:29:54.832Z"
   },
   {
    "duration": 8,
    "start_time": "2023-02-16T15:29:55.655Z"
   },
   {
    "duration": 1620,
    "start_time": "2023-02-16T15:29:59.878Z"
   },
   {
    "duration": 2655,
    "start_time": "2023-02-16T15:30:01.500Z"
   },
   {
    "duration": 282,
    "start_time": "2023-02-16T15:30:04.157Z"
   },
   {
    "duration": 153,
    "start_time": "2023-02-16T15:30:04.448Z"
   },
   {
    "duration": 276,
    "start_time": "2023-02-16T15:30:04.603Z"
   },
   {
    "duration": 4,
    "start_time": "2023-02-16T15:30:04.880Z"
   },
   {
    "duration": 54,
    "start_time": "2023-02-16T15:30:04.885Z"
   },
   {
    "duration": 26,
    "start_time": "2023-02-16T15:30:04.940Z"
   },
   {
    "duration": 68,
    "start_time": "2023-02-16T15:30:04.967Z"
   },
   {
    "duration": 34,
    "start_time": "2023-02-16T15:30:05.045Z"
   },
   {
    "duration": 76,
    "start_time": "2023-02-16T15:30:05.081Z"
   },
   {
    "duration": 270,
    "start_time": "2023-02-16T15:30:05.160Z"
   },
   {
    "duration": 17,
    "start_time": "2023-02-16T15:30:05.437Z"
   },
   {
    "duration": 15,
    "start_time": "2023-02-16T15:30:05.456Z"
   },
   {
    "duration": 5,
    "start_time": "2023-02-16T15:30:05.473Z"
   },
   {
    "duration": 4,
    "start_time": "2023-02-16T15:30:05.480Z"
   },
   {
    "duration": 5,
    "start_time": "2023-02-16T15:30:05.486Z"
   },
   {
    "duration": 9,
    "start_time": "2023-02-16T15:30:05.493Z"
   },
   {
    "duration": 58,
    "start_time": "2023-02-16T15:30:05.504Z"
   },
   {
    "duration": 6,
    "start_time": "2023-02-16T15:30:05.564Z"
   },
   {
    "duration": 8,
    "start_time": "2023-02-16T15:30:05.572Z"
   },
   {
    "duration": 24375,
    "start_time": "2023-02-16T15:30:07.280Z"
   },
   {
    "duration": 1310,
    "start_time": "2023-02-16T15:30:32.890Z"
   },
   {
    "duration": 1541,
    "start_time": "2023-02-16T15:30:40.986Z"
   },
   {
    "duration": 1187,
    "start_time": "2023-02-16T15:30:48.848Z"
   },
   {
    "duration": 789,
    "start_time": "2023-02-16T15:30:52.357Z"
   },
   {
    "duration": 1087,
    "start_time": "2023-02-16T15:30:55.941Z"
   },
   {
    "duration": 774,
    "start_time": "2023-02-16T15:31:00.188Z"
   },
   {
    "duration": 393,
    "start_time": "2023-02-16T15:31:16.981Z"
   },
   {
    "duration": 23955,
    "start_time": "2023-02-16T15:31:25.232Z"
   },
   {
    "duration": 735,
    "start_time": "2023-02-16T15:31:54.112Z"
   },
   {
    "duration": 1408,
    "start_time": "2023-02-16T15:32:54.764Z"
   },
   {
    "duration": 755,
    "start_time": "2023-02-16T15:33:05.507Z"
   },
   {
    "duration": 8,
    "start_time": "2023-02-16T15:33:45.235Z"
   },
   {
    "duration": 14,
    "start_time": "2023-02-16T15:34:26.868Z"
   },
   {
    "duration": 10,
    "start_time": "2023-02-16T15:35:09.141Z"
   },
   {
    "duration": 17,
    "start_time": "2023-02-16T15:35:14.035Z"
   },
   {
    "duration": 6,
    "start_time": "2023-02-16T15:35:20.686Z"
   },
   {
    "duration": 7,
    "start_time": "2023-02-16T15:35:52.336Z"
   },
   {
    "duration": 624,
    "start_time": "2023-02-16T15:38:17.672Z"
   },
   {
    "duration": 700,
    "start_time": "2023-02-16T15:38:31.239Z"
   },
   {
    "duration": 998,
    "start_time": "2023-02-16T15:38:38.747Z"
   },
   {
    "duration": 359,
    "start_time": "2023-02-16T15:39:16.569Z"
   },
   {
    "duration": 258,
    "start_time": "2023-02-16T15:39:50.144Z"
   },
   {
    "duration": 8,
    "start_time": "2023-02-16T15:39:52.637Z"
   },
   {
    "duration": 260,
    "start_time": "2023-02-16T15:39:53.540Z"
   },
   {
    "duration": 18,
    "start_time": "2023-02-16T15:40:52.553Z"
   },
   {
    "duration": 5,
    "start_time": "2023-02-16T15:41:24.852Z"
   },
   {
    "duration": 491,
    "start_time": "2023-02-16T15:41:26.472Z"
   },
   {
    "duration": 107,
    "start_time": "2023-02-16T15:41:51.536Z"
   },
   {
    "duration": 22,
    "start_time": "2023-02-16T15:41:55.137Z"
   },
   {
    "duration": 23,
    "start_time": "2023-02-16T15:42:02.343Z"
   },
   {
    "duration": 14,
    "start_time": "2023-02-16T15:42:15.290Z"
   },
   {
    "duration": 15,
    "start_time": "2023-02-16T15:42:28.578Z"
   },
   {
    "duration": 193,
    "start_time": "2023-02-16T15:42:33.536Z"
   },
   {
    "duration": 201,
    "start_time": "2023-02-16T15:43:09.491Z"
   },
   {
    "duration": 8,
    "start_time": "2023-02-16T15:43:15.847Z"
   },
   {
    "duration": 16,
    "start_time": "2023-02-16T15:43:31.038Z"
   },
   {
    "duration": 15,
    "start_time": "2023-02-16T15:43:44.542Z"
   },
   {
    "duration": 9,
    "start_time": "2023-02-16T15:43:50.438Z"
   },
   {
    "duration": 5,
    "start_time": "2023-02-16T15:43:54.453Z"
   },
   {
    "duration": 12,
    "start_time": "2023-02-16T15:43:58.894Z"
   },
   {
    "duration": 5,
    "start_time": "2023-02-16T15:44:04.057Z"
   },
   {
    "duration": 26,
    "start_time": "2023-02-16T15:44:07.031Z"
   },
   {
    "duration": 34,
    "start_time": "2023-02-16T15:44:10.726Z"
   },
   {
    "duration": 6,
    "start_time": "2023-02-16T15:44:31.558Z"
   },
   {
    "duration": 1546,
    "start_time": "2023-02-16T15:44:36.295Z"
   },
   {
    "duration": 787,
    "start_time": "2023-02-16T15:44:46.452Z"
   },
   {
    "duration": 637,
    "start_time": "2023-02-16T15:45:29.161Z"
   },
   {
    "duration": 811,
    "start_time": "2023-02-16T15:45:37.867Z"
   },
   {
    "duration": 776,
    "start_time": "2023-02-16T15:45:48.408Z"
   },
   {
    "duration": 785,
    "start_time": "2023-02-16T15:45:59.950Z"
   },
   {
    "duration": 1413,
    "start_time": "2023-02-16T15:46:26.164Z"
   },
   {
    "duration": 720,
    "start_time": "2023-02-16T15:46:34.251Z"
   },
   {
    "duration": 1375,
    "start_time": "2023-02-16T15:47:02.380Z"
   },
   {
    "duration": 1252,
    "start_time": "2023-02-16T15:47:41.039Z"
   },
   {
    "duration": 1228,
    "start_time": "2023-02-16T15:48:06.736Z"
   },
   {
    "duration": 809,
    "start_time": "2023-02-16T15:48:14.338Z"
   },
   {
    "duration": 729,
    "start_time": "2023-02-16T15:48:22.302Z"
   },
   {
    "duration": 867,
    "start_time": "2023-02-16T15:48:32.536Z"
   },
   {
    "duration": 786,
    "start_time": "2023-02-16T15:48:42.344Z"
   },
   {
    "duration": 965,
    "start_time": "2023-02-16T15:48:54.876Z"
   },
   {
    "duration": 757,
    "start_time": "2023-02-16T15:49:05.303Z"
   },
   {
    "duration": 935,
    "start_time": "2023-02-16T15:50:00.031Z"
   },
   {
    "duration": 12,
    "start_time": "2023-02-16T15:51:44.951Z"
   },
   {
    "duration": 776,
    "start_time": "2023-02-16T15:51:45.604Z"
   },
   {
    "duration": 943,
    "start_time": "2023-02-16T15:55:54.942Z"
   },
   {
    "duration": 804,
    "start_time": "2023-02-16T15:56:28.074Z"
   },
   {
    "duration": 922,
    "start_time": "2023-02-16T15:59:20.912Z"
   },
   {
    "duration": 669,
    "start_time": "2023-02-16T16:01:42.161Z"
   },
   {
    "duration": 122,
    "start_time": "2023-02-16T16:03:06.339Z"
   },
   {
    "duration": 631,
    "start_time": "2023-02-16T16:07:01.326Z"
   },
   {
    "duration": 901,
    "start_time": "2023-02-16T16:08:51.348Z"
   },
   {
    "duration": 647,
    "start_time": "2023-02-16T16:09:08.247Z"
   },
   {
    "duration": 21,
    "start_time": "2023-02-16T16:23:27.929Z"
   },
   {
    "duration": 315,
    "start_time": "2023-02-16T16:24:44.421Z"
   },
   {
    "duration": 537,
    "start_time": "2023-02-16T16:24:57.141Z"
   },
   {
    "duration": 306,
    "start_time": "2023-02-16T16:25:02.682Z"
   },
   {
    "duration": 419,
    "start_time": "2023-02-16T16:25:06.634Z"
   },
   {
    "duration": 323,
    "start_time": "2023-02-16T16:25:10.245Z"
   },
   {
    "duration": 449,
    "start_time": "2023-02-16T16:25:12.780Z"
   },
   {
    "duration": 592,
    "start_time": "2023-02-16T16:25:14.715Z"
   },
   {
    "duration": 436,
    "start_time": "2023-02-16T16:25:36.890Z"
   },
   {
    "duration": 914,
    "start_time": "2023-02-16T16:26:16.170Z"
   },
   {
    "duration": 1187,
    "start_time": "2023-02-16T16:26:40.528Z"
   },
   {
    "duration": 418,
    "start_time": "2023-02-16T16:26:50.055Z"
   },
   {
    "duration": 435,
    "start_time": "2023-02-16T16:27:01.706Z"
   },
   {
    "duration": 464,
    "start_time": "2023-02-16T16:27:07.507Z"
   },
   {
    "duration": 624,
    "start_time": "2023-02-16T16:27:35.793Z"
   },
   {
    "duration": 482,
    "start_time": "2023-02-16T16:28:08.292Z"
   },
   {
    "duration": 486,
    "start_time": "2023-02-16T16:28:15.199Z"
   },
   {
    "duration": 436,
    "start_time": "2023-02-16T16:28:20.615Z"
   },
   {
    "duration": 704,
    "start_time": "2023-02-16T16:29:37.535Z"
   },
   {
    "duration": 437,
    "start_time": "2023-02-16T16:29:49.213Z"
   },
   {
    "duration": 430,
    "start_time": "2023-02-16T16:31:49.728Z"
   },
   {
    "duration": 441,
    "start_time": "2023-02-16T16:31:54.696Z"
   },
   {
    "duration": 422,
    "start_time": "2023-02-16T16:32:35.951Z"
   },
   {
    "duration": 715,
    "start_time": "2023-02-16T16:32:50.205Z"
   },
   {
    "duration": 428,
    "start_time": "2023-02-16T16:33:00.794Z"
   },
   {
    "duration": 4,
    "start_time": "2023-02-16T17:00:26.477Z"
   },
   {
    "duration": 10,
    "start_time": "2023-02-16T17:00:33.199Z"
   },
   {
    "duration": 5,
    "start_time": "2023-02-16T17:00:38.701Z"
   },
   {
    "duration": 11,
    "start_time": "2023-02-16T17:01:38.845Z"
   },
   {
    "duration": 12,
    "start_time": "2023-02-16T17:01:43.312Z"
   },
   {
    "duration": 12,
    "start_time": "2023-02-16T17:01:46.572Z"
   },
   {
    "duration": 11,
    "start_time": "2023-02-16T17:01:49.111Z"
   },
   {
    "duration": 13,
    "start_time": "2023-02-16T17:01:52.591Z"
   },
   {
    "duration": 9,
    "start_time": "2023-02-16T17:01:55.502Z"
   },
   {
    "duration": 3,
    "start_time": "2023-02-16T17:02:01.906Z"
   },
   {
    "duration": 28,
    "start_time": "2023-02-16T17:11:30.780Z"
   },
   {
    "duration": 3,
    "start_time": "2023-02-16T17:11:44.471Z"
   },
   {
    "duration": 19,
    "start_time": "2023-02-16T17:11:52.845Z"
   },
   {
    "duration": 25,
    "start_time": "2023-02-16T17:11:55.098Z"
   },
   {
    "duration": 19,
    "start_time": "2023-02-16T17:11:59.870Z"
   },
   {
    "duration": 8,
    "start_time": "2023-02-16T17:12:04.207Z"
   },
   {
    "duration": 8,
    "start_time": "2023-02-16T17:12:15.929Z"
   },
   {
    "duration": 435,
    "start_time": "2023-02-16T17:14:13.465Z"
   },
   {
    "duration": 5,
    "start_time": "2023-02-16T17:14:52.521Z"
   },
   {
    "duration": 8,
    "start_time": "2023-02-16T17:14:55.697Z"
   },
   {
    "duration": 21,
    "start_time": "2023-02-16T17:15:01.306Z"
   },
   {
    "duration": 12,
    "start_time": "2023-02-16T17:15:07.761Z"
   },
   {
    "duration": 11,
    "start_time": "2023-02-16T17:15:36.825Z"
   },
   {
    "duration": 577,
    "start_time": "2023-02-16T17:15:56.378Z"
   },
   {
    "duration": 565,
    "start_time": "2023-02-16T17:16:06.066Z"
   },
   {
    "duration": 896,
    "start_time": "2023-02-16T17:16:14.652Z"
   },
   {
    "duration": 569,
    "start_time": "2023-02-16T17:17:38.084Z"
   },
   {
    "duration": 576,
    "start_time": "2023-02-16T17:17:41.972Z"
   },
   {
    "duration": 94,
    "start_time": "2023-02-16T17:32:49.243Z"
   },
   {
    "duration": 75,
    "start_time": "2023-02-16T17:32:57.926Z"
   },
   {
    "duration": 83,
    "start_time": "2023-02-16T17:33:13.474Z"
   },
   {
    "duration": 6,
    "start_time": "2023-02-16T17:33:24.127Z"
   },
   {
    "duration": 4,
    "start_time": "2023-02-16T17:47:27.108Z"
   },
   {
    "duration": 80,
    "start_time": "2023-02-16T17:47:27.792Z"
   },
   {
    "duration": 70,
    "start_time": "2023-02-16T17:47:34.792Z"
   },
   {
    "duration": 79,
    "start_time": "2023-02-16T17:47:41.535Z"
   },
   {
    "duration": 74,
    "start_time": "2023-02-16T17:47:55.346Z"
   },
   {
    "duration": 73,
    "start_time": "2023-02-16T17:48:01.327Z"
   },
   {
    "duration": 3,
    "start_time": "2023-02-16T17:48:13.272Z"
   },
   {
    "duration": 1444,
    "start_time": "2023-02-16T17:53:00.306Z"
   },
   {
    "duration": 6,
    "start_time": "2023-02-16T17:53:08.390Z"
   },
   {
    "duration": 1433,
    "start_time": "2023-02-16T17:53:10.436Z"
   },
   {
    "duration": 8,
    "start_time": "2023-02-16T17:53:16.709Z"
   },
   {
    "duration": 4,
    "start_time": "2023-02-16T19:10:25.159Z"
   },
   {
    "duration": 8,
    "start_time": "2023-02-16T19:10:28.838Z"
   },
   {
    "duration": 1626,
    "start_time": "2023-02-16T19:10:31.083Z"
   },
   {
    "duration": 6,
    "start_time": "2023-02-16T19:10:44.566Z"
   },
   {
    "duration": 16,
    "start_time": "2023-02-16T19:10:49.634Z"
   },
   {
    "duration": 40,
    "start_time": "2023-02-16T19:10:58.355Z"
   },
   {
    "duration": 17,
    "start_time": "2023-02-16T19:18:17.331Z"
   },
   {
    "duration": 765,
    "start_time": "2023-02-16T19:21:01.606Z"
   },
   {
    "duration": 2005,
    "start_time": "2023-02-16T19:21:29.224Z"
   },
   {
    "duration": 7452,
    "start_time": "2023-02-16T19:22:11.678Z"
   },
   {
    "duration": 248,
    "start_time": "2023-02-16T19:22:50.169Z"
   },
   {
    "duration": 268,
    "start_time": "2023-02-16T19:23:02.448Z"
   },
   {
    "duration": 180,
    "start_time": "2023-02-16T19:23:06.849Z"
   },
   {
    "duration": 432,
    "start_time": "2023-02-16T19:23:10.398Z"
   },
   {
    "duration": 142,
    "start_time": "2023-02-16T19:23:13.874Z"
   },
   {
    "duration": 730,
    "start_time": "2023-02-16T19:23:17.598Z"
   },
   {
    "duration": 273,
    "start_time": "2023-02-16T19:23:20.854Z"
   },
   {
    "duration": 499,
    "start_time": "2023-02-16T19:23:24.425Z"
   },
   {
    "duration": 162,
    "start_time": "2023-02-16T19:23:27.966Z"
   },
   {
    "duration": 9,
    "start_time": "2023-02-16T19:26:20.154Z"
   },
   {
    "duration": 5385,
    "start_time": "2023-02-16T19:26:34.332Z"
   },
   {
    "duration": 14673,
    "start_time": "2023-02-16T19:27:11.142Z"
   },
   {
    "duration": 8,
    "start_time": "2023-02-16T19:32:09.650Z"
   },
   {
    "duration": 10,
    "start_time": "2023-02-16T19:36:17.875Z"
   },
   {
    "duration": 39,
    "start_time": "2023-02-16T19:37:09.405Z"
   },
   {
    "duration": 6,
    "start_time": "2023-02-16T19:37:40.334Z"
   },
   {
    "duration": 4,
    "start_time": "2023-02-16T19:37:44.430Z"
   },
   {
    "duration": 13,
    "start_time": "2023-02-16T19:37:46.250Z"
   },
   {
    "duration": 125,
    "start_time": "2023-02-16T19:38:38.965Z"
   },
   {
    "duration": 103,
    "start_time": "2023-02-16T19:38:53.892Z"
   },
   {
    "duration": 106,
    "start_time": "2023-02-16T19:39:11.635Z"
   },
   {
    "duration": 1527,
    "start_time": "2023-02-16T19:39:43.043Z"
   },
   {
    "duration": 1282,
    "start_time": "2023-02-16T19:41:26.835Z"
   },
   {
    "duration": 1977,
    "start_time": "2023-02-16T19:41:32.471Z"
   },
   {
    "duration": 16806,
    "start_time": "2023-02-16T19:41:46.166Z"
   },
   {
    "duration": 1472,
    "start_time": "2023-02-16T19:43:30.663Z"
   },
   {
    "duration": 4,
    "start_time": "2023-02-16T19:43:51.469Z"
   },
   {
    "duration": 3,
    "start_time": "2023-02-16T19:43:52.486Z"
   },
   {
    "duration": 1923,
    "start_time": "2023-02-16T19:43:53.729Z"
   },
   {
    "duration": 3,
    "start_time": "2023-02-16T19:44:20.965Z"
   },
   {
    "duration": 4,
    "start_time": "2023-02-16T19:44:22.241Z"
   },
   {
    "duration": 3032,
    "start_time": "2023-02-16T19:44:23.536Z"
   },
   {
    "duration": 11,
    "start_time": "2023-02-16T19:52:16.048Z"
   },
   {
    "duration": 4,
    "start_time": "2023-02-16T19:52:16.890Z"
   },
   {
    "duration": 1064,
    "start_time": "2023-02-16T19:52:19.363Z"
   },
   {
    "duration": 1590,
    "start_time": "2023-02-16T19:52:31.037Z"
   },
   {
    "duration": 13,
    "start_time": "2023-02-16T19:52:35.170Z"
   },
   {
    "duration": 1389,
    "start_time": "2023-02-16T19:56:07.654Z"
   },
   {
    "duration": 4,
    "start_time": "2023-02-16T19:57:11.887Z"
   },
   {
    "duration": 1431,
    "start_time": "2023-02-16T19:57:14.849Z"
   },
   {
    "duration": 4,
    "start_time": "2023-02-16T19:57:25.757Z"
   },
   {
    "duration": 12,
    "start_time": "2023-02-16T19:57:29.437Z"
   },
   {
    "duration": 5,
    "start_time": "2023-02-16T19:58:01.328Z"
   },
   {
    "duration": 1401,
    "start_time": "2023-02-16T19:58:03.392Z"
   },
   {
    "duration": 98,
    "start_time": "2023-02-16T19:58:21.799Z"
   },
   {
    "duration": 3,
    "start_time": "2023-02-16T19:58:38.593Z"
   },
   {
    "duration": 7,
    "start_time": "2023-02-16T19:58:42.337Z"
   },
   {
    "duration": 3,
    "start_time": "2023-02-16T19:59:11.131Z"
   },
   {
    "duration": 6,
    "start_time": "2023-02-16T19:59:13.761Z"
   },
   {
    "duration": 22,
    "start_time": "2023-02-16T19:59:33.705Z"
   },
   {
    "duration": 8,
    "start_time": "2023-02-16T19:59:43.029Z"
   },
   {
    "duration": 9,
    "start_time": "2023-02-16T20:00:16.046Z"
   },
   {
    "duration": 6,
    "start_time": "2023-02-16T20:00:19.872Z"
   },
   {
    "duration": 7,
    "start_time": "2023-02-16T20:00:21.554Z"
   },
   {
    "duration": 1465,
    "start_time": "2023-02-16T20:01:33.109Z"
   },
   {
    "duration": 13,
    "start_time": "2023-02-16T20:01:50.028Z"
   },
   {
    "duration": 8,
    "start_time": "2023-02-16T20:02:05.932Z"
   },
   {
    "duration": 325,
    "start_time": "2023-02-16T20:02:40.443Z"
   },
   {
    "duration": 4,
    "start_time": "2023-02-16T20:02:44.283Z"
   },
   {
    "duration": 2,
    "start_time": "2023-02-16T20:02:44.773Z"
   },
   {
    "duration": 71,
    "start_time": "2023-02-16T20:02:46.068Z"
   },
   {
    "duration": 198,
    "start_time": "2023-02-16T20:03:11.933Z"
   },
   {
    "duration": 191,
    "start_time": "2023-02-16T20:03:35.846Z"
   },
   {
    "duration": 12100,
    "start_time": "2023-02-16T20:04:37.837Z"
   },
   {
    "duration": 11,
    "start_time": "2023-02-16T20:09:46.190Z"
   },
   {
    "duration": 9248,
    "start_time": "2023-02-16T20:10:52.436Z"
   },
   {
    "duration": 9112,
    "start_time": "2023-02-16T20:11:22.134Z"
   },
   {
    "duration": 9294,
    "start_time": "2023-02-16T20:11:44.832Z"
   },
   {
    "duration": 4256,
    "start_time": "2023-02-16T20:15:30.881Z"
   },
   {
    "duration": 9642,
    "start_time": "2023-02-16T20:15:51.375Z"
   },
   {
    "duration": 9657,
    "start_time": "2023-02-16T20:16:03.368Z"
   },
   {
    "duration": 9705,
    "start_time": "2023-02-16T20:16:19.001Z"
   },
   {
    "duration": 60302,
    "start_time": "2023-02-16T20:16:28.708Z"
   },
   {
    "duration": 790,
    "start_time": "2023-02-16T20:18:36.883Z"
   },
   {
    "duration": 17550,
    "start_time": "2023-02-16T20:18:45.983Z"
   },
   {
    "duration": 57352,
    "start_time": "2023-02-16T20:19:07.130Z"
   },
   {
    "duration": 1319,
    "start_time": "2023-02-16T20:22:09.861Z"
   },
   {
    "duration": 24133,
    "start_time": "2023-02-16T20:22:34.872Z"
   },
   {
    "duration": 24088,
    "start_time": "2023-02-16T20:23:06.982Z"
   },
   {
    "duration": 122456,
    "start_time": "2023-02-16T20:24:12.826Z"
   },
   {
    "duration": 10324,
    "start_time": "2023-02-16T20:38:34.645Z"
   },
   {
    "duration": 14136,
    "start_time": "2023-02-16T20:38:44.971Z"
   },
   {
    "duration": 4470,
    "start_time": "2023-02-16T20:38:59.109Z"
   },
   {
    "duration": 3677,
    "start_time": "2023-02-16T20:39:03.581Z"
   },
   {
    "duration": 9101,
    "start_time": "2023-02-16T20:39:26.698Z"
   },
   {
    "duration": 57592,
    "start_time": "2023-02-16T20:40:36.194Z"
   },
   {
    "duration": 2651,
    "start_time": "2023-02-16T20:45:52.949Z"
   },
   {
    "duration": 0,
    "start_time": "2023-02-16T20:45:55.602Z"
   },
   {
    "duration": 4,
    "start_time": "2023-02-16T20:46:00.178Z"
   },
   {
    "duration": 122537,
    "start_time": "2023-02-16T20:50:07.798Z"
   },
   {
    "duration": 129,
    "start_time": "2023-02-17T11:47:33.492Z"
   },
   {
    "duration": 1743,
    "start_time": "2023-02-17T11:47:38.014Z"
   },
   {
    "duration": 1926,
    "start_time": "2023-02-17T11:47:39.759Z"
   },
   {
    "duration": 260,
    "start_time": "2023-02-17T11:47:41.687Z"
   },
   {
    "duration": 137,
    "start_time": "2023-02-17T11:47:41.949Z"
   },
   {
    "duration": 272,
    "start_time": "2023-02-17T11:47:42.088Z"
   },
   {
    "duration": 4,
    "start_time": "2023-02-17T11:47:42.362Z"
   },
   {
    "duration": 76,
    "start_time": "2023-02-17T11:47:42.371Z"
   },
   {
    "duration": 20,
    "start_time": "2023-02-17T11:47:42.448Z"
   },
   {
    "duration": 73,
    "start_time": "2023-02-17T11:47:42.470Z"
   },
   {
    "duration": 50,
    "start_time": "2023-02-17T11:47:42.547Z"
   },
   {
    "duration": 53,
    "start_time": "2023-02-17T11:47:42.599Z"
   },
   {
    "duration": 226,
    "start_time": "2023-02-17T11:47:42.654Z"
   },
   {
    "duration": 4,
    "start_time": "2023-02-17T11:47:42.882Z"
   },
   {
    "duration": 5,
    "start_time": "2023-02-17T11:47:42.895Z"
   },
   {
    "duration": 7,
    "start_time": "2023-02-17T11:47:42.902Z"
   },
   {
    "duration": 5,
    "start_time": "2023-02-17T11:47:42.911Z"
   },
   {
    "duration": 5,
    "start_time": "2023-02-17T11:47:42.918Z"
   },
   {
    "duration": 8,
    "start_time": "2023-02-17T11:47:42.924Z"
   },
   {
    "duration": 6,
    "start_time": "2023-02-17T11:47:42.934Z"
   },
   {
    "duration": 935,
    "start_time": "2023-02-17T11:47:42.942Z"
   },
   {
    "duration": 634,
    "start_time": "2023-02-17T11:47:43.880Z"
   },
   {
    "duration": 906,
    "start_time": "2023-02-17T11:47:44.516Z"
   },
   {
    "duration": 638,
    "start_time": "2023-02-17T11:47:45.424Z"
   },
   {
    "duration": 771,
    "start_time": "2023-02-17T11:47:46.064Z"
   },
   {
    "duration": 792,
    "start_time": "2023-02-17T11:47:46.837Z"
   },
   {
    "duration": 479,
    "start_time": "2023-02-17T11:47:47.631Z"
   },
   {
    "duration": 478,
    "start_time": "2023-02-17T11:47:48.111Z"
   },
   {
    "duration": 586,
    "start_time": "2023-02-17T11:47:48.595Z"
   },
   {
    "duration": 490,
    "start_time": "2023-02-17T11:47:49.183Z"
   },
   {
    "duration": 3,
    "start_time": "2023-02-17T11:47:49.675Z"
   },
   {
    "duration": 16,
    "start_time": "2023-02-17T11:47:49.680Z"
   },
   {
    "duration": 19,
    "start_time": "2023-02-17T11:47:49.697Z"
   },
   {
    "duration": 637,
    "start_time": "2023-02-17T11:47:49.718Z"
   },
   {
    "duration": 4,
    "start_time": "2023-02-17T11:47:50.357Z"
   },
   {
    "duration": 11,
    "start_time": "2023-02-17T11:47:50.362Z"
   },
   {
    "duration": 20,
    "start_time": "2023-02-17T11:47:50.375Z"
   },
   {
    "duration": 15,
    "start_time": "2023-02-17T11:47:50.397Z"
   },
   {
    "duration": 383,
    "start_time": "2023-02-17T11:47:50.414Z"
   },
   {
    "duration": 3306,
    "start_time": "2023-02-17T11:47:50.799Z"
   },
   {
    "duration": 9534,
    "start_time": "2023-02-17T11:47:54.108Z"
   },
   {
    "duration": 52884,
    "start_time": "2023-02-17T11:48:03.644Z"
   },
   {
    "duration": 115718,
    "start_time": "2023-02-17T11:48:56.530Z"
   },
   {
    "duration": 719670,
    "start_time": "2023-02-17T11:50:56.270Z"
   },
   {
    "duration": 97,
    "start_time": "2023-02-17T13:46:29.617Z"
   },
   {
    "duration": 45,
    "start_time": "2023-02-17T13:49:09.485Z"
   },
   {
    "duration": 1594,
    "start_time": "2023-02-17T13:49:20.514Z"
   },
   {
    "duration": 1895,
    "start_time": "2023-02-17T13:49:22.110Z"
   },
   {
    "duration": 281,
    "start_time": "2023-02-17T13:49:24.007Z"
   },
   {
    "duration": 155,
    "start_time": "2023-02-17T13:49:24.290Z"
   },
   {
    "duration": 261,
    "start_time": "2023-02-17T13:49:24.448Z"
   },
   {
    "duration": 3,
    "start_time": "2023-02-17T13:49:24.711Z"
   },
   {
    "duration": 65,
    "start_time": "2023-02-17T13:49:24.716Z"
   },
   {
    "duration": 30,
    "start_time": "2023-02-17T13:49:24.783Z"
   },
   {
    "duration": 50,
    "start_time": "2023-02-17T13:49:24.815Z"
   },
   {
    "duration": 50,
    "start_time": "2023-02-17T13:49:24.867Z"
   },
   {
    "duration": 53,
    "start_time": "2023-02-17T13:49:24.919Z"
   },
   {
    "duration": 220,
    "start_time": "2023-02-17T13:49:24.974Z"
   },
   {
    "duration": 8,
    "start_time": "2023-02-17T13:49:25.196Z"
   },
   {
    "duration": 21,
    "start_time": "2023-02-17T13:49:25.207Z"
   },
   {
    "duration": 27,
    "start_time": "2023-02-17T13:49:25.229Z"
   },
   {
    "duration": 7,
    "start_time": "2023-02-17T13:49:25.259Z"
   },
   {
    "duration": 5,
    "start_time": "2023-02-17T13:49:25.268Z"
   },
   {
    "duration": 9,
    "start_time": "2023-02-17T13:49:25.275Z"
   },
   {
    "duration": 5,
    "start_time": "2023-02-17T13:49:25.286Z"
   },
   {
    "duration": 846,
    "start_time": "2023-02-17T13:49:25.293Z"
   },
   {
    "duration": 601,
    "start_time": "2023-02-17T13:49:26.141Z"
   },
   {
    "duration": 893,
    "start_time": "2023-02-17T13:49:26.744Z"
   },
   {
    "duration": 658,
    "start_time": "2023-02-17T13:49:27.639Z"
   },
   {
    "duration": 805,
    "start_time": "2023-02-17T13:49:28.298Z"
   },
   {
    "duration": 819,
    "start_time": "2023-02-17T13:49:29.105Z"
   },
   {
    "duration": 468,
    "start_time": "2023-02-17T13:49:29.926Z"
   },
   {
    "duration": 510,
    "start_time": "2023-02-17T13:49:30.403Z"
   },
   {
    "duration": 605,
    "start_time": "2023-02-17T13:49:30.916Z"
   },
   {
    "duration": 499,
    "start_time": "2023-02-17T13:49:31.523Z"
   },
   {
    "duration": 3,
    "start_time": "2023-02-17T13:49:32.024Z"
   },
   {
    "duration": 10,
    "start_time": "2023-02-17T13:49:32.029Z"
   },
   {
    "duration": 12,
    "start_time": "2023-02-17T13:49:32.041Z"
   },
   {
    "duration": 640,
    "start_time": "2023-02-17T13:49:32.055Z"
   },
   {
    "duration": 4,
    "start_time": "2023-02-17T13:49:32.702Z"
   },
   {
    "duration": 9,
    "start_time": "2023-02-17T13:49:32.708Z"
   },
   {
    "duration": 10,
    "start_time": "2023-02-17T13:49:32.719Z"
   },
   {
    "duration": 16,
    "start_time": "2023-02-17T13:49:32.730Z"
   },
   {
    "duration": 356,
    "start_time": "2023-02-17T13:49:32.747Z"
   },
   {
    "duration": 2407,
    "start_time": "2023-02-17T13:49:33.105Z"
   },
   {
    "duration": 7767,
    "start_time": "2023-02-17T13:49:35.514Z"
   },
   {
    "duration": 48212,
    "start_time": "2023-02-17T13:49:43.285Z"
   },
   {
    "duration": 102013,
    "start_time": "2023-02-17T13:50:31.503Z"
   },
   {
    "duration": 41995,
    "start_time": "2023-02-17T13:52:13.518Z"
   },
   {
    "duration": 55,
    "start_time": "2023-02-17T13:52:58.757Z"
   },
   {
    "duration": 12,
    "start_time": "2023-02-17T13:53:08.290Z"
   },
   {
    "duration": 17,
    "start_time": "2023-02-17T13:53:09.452Z"
   },
   {
    "duration": 5,
    "start_time": "2023-02-17T13:53:24.493Z"
   },
   {
    "duration": 4,
    "start_time": "2023-02-17T13:53:27.341Z"
   },
   {
    "duration": 11,
    "start_time": "2023-02-17T13:53:32.925Z"
   },
   {
    "duration": 16,
    "start_time": "2023-02-17T13:54:54.847Z"
   },
   {
    "duration": 1828,
    "start_time": "2023-02-17T13:55:02.197Z"
   },
   {
    "duration": 16,
    "start_time": "2023-02-17T13:55:34.650Z"
   },
   {
    "duration": 9,
    "start_time": "2023-02-17T14:03:16.201Z"
   },
   {
    "duration": 17,
    "start_time": "2023-02-17T14:04:18.057Z"
   },
   {
    "duration": 15,
    "start_time": "2023-02-17T14:07:18.886Z"
   },
   {
    "duration": 18,
    "start_time": "2023-02-17T14:12:09.294Z"
   },
   {
    "duration": 12,
    "start_time": "2023-02-17T14:12:30.539Z"
   },
   {
    "duration": 14,
    "start_time": "2023-02-17T14:15:39.576Z"
   },
   {
    "duration": 7,
    "start_time": "2023-02-17T14:16:42.713Z"
   },
   {
    "duration": 13,
    "start_time": "2023-02-17T14:16:47.836Z"
   },
   {
    "duration": 70,
    "start_time": "2023-02-17T14:16:51.943Z"
   },
   {
    "duration": 12,
    "start_time": "2023-02-17T14:16:53.401Z"
   },
   {
    "duration": 16,
    "start_time": "2023-02-17T14:16:54.985Z"
   },
   {
    "duration": 7,
    "start_time": "2023-02-17T14:17:29.910Z"
   },
   {
    "duration": 12,
    "start_time": "2023-02-17T14:18:38.473Z"
   },
   {
    "duration": 107,
    "start_time": "2023-02-17T14:18:39.906Z"
   },
   {
    "duration": 10,
    "start_time": "2023-02-17T14:18:41.318Z"
   },
   {
    "duration": 13,
    "start_time": "2023-02-17T14:18:43.339Z"
   },
   {
    "duration": 6,
    "start_time": "2023-02-17T14:24:53.111Z"
   },
   {
    "duration": 9,
    "start_time": "2023-02-17T14:25:15.502Z"
   },
   {
    "duration": 11,
    "start_time": "2023-02-17T14:25:16.649Z"
   },
   {
    "duration": 180,
    "start_time": "2023-02-17T14:25:17.329Z"
   },
   {
    "duration": 9,
    "start_time": "2023-02-17T14:25:18.350Z"
   },
   {
    "duration": 7,
    "start_time": "2023-02-17T14:25:19.337Z"
   },
   {
    "duration": 7,
    "start_time": "2023-02-17T14:25:26.144Z"
   },
   {
    "duration": 11,
    "start_time": "2023-02-17T14:25:27.809Z"
   },
   {
    "duration": 191,
    "start_time": "2023-02-17T14:25:28.913Z"
   },
   {
    "duration": 326,
    "start_time": "2023-02-17T14:25:35.177Z"
   },
   {
    "duration": 205,
    "start_time": "2023-02-17T14:25:41.207Z"
   },
   {
    "duration": 5,
    "start_time": "2023-02-17T14:25:43.088Z"
   },
   {
    "duration": 6,
    "start_time": "2023-02-17T14:25:56.388Z"
   },
   {
    "duration": 7,
    "start_time": "2023-02-17T14:26:53.130Z"
   },
   {
    "duration": 11,
    "start_time": "2023-02-17T14:27:14.522Z"
   },
   {
    "duration": 7,
    "start_time": "2023-02-17T14:29:37.316Z"
   },
   {
    "duration": 12,
    "start_time": "2023-02-17T14:29:39.598Z"
   },
   {
    "duration": 273,
    "start_time": "2023-02-17T14:29:41.332Z"
   },
   {
    "duration": 10,
    "start_time": "2023-02-17T14:29:43.389Z"
   },
   {
    "duration": 76119,
    "start_time": "2023-02-18T10:32:13.623Z"
   },
   {
    "duration": 152516,
    "start_time": "2023-02-18T10:33:29.743Z"
   },
   {
    "duration": 1006066,
    "start_time": "2023-02-18T10:36:02.260Z"
   },
   {
    "duration": 8,
    "start_time": "2023-02-18T10:52:48.328Z"
   },
   {
    "duration": 17,
    "start_time": "2023-02-18T10:52:48.337Z"
   },
   {
    "duration": 520,
    "start_time": "2023-02-18T10:52:48.356Z"
   },
   {
    "duration": 94,
    "start_time": "2023-02-18T10:52:48.886Z"
   },
   {
    "duration": 48,
    "start_time": "2023-02-18T20:05:42.200Z"
   },
   {
    "duration": 1596,
    "start_time": "2023-02-18T20:05:52.596Z"
   },
   {
    "duration": 3172,
    "start_time": "2023-02-18T20:05:54.194Z"
   },
   {
    "duration": 222,
    "start_time": "2023-02-18T20:05:57.367Z"
   },
   {
    "duration": 124,
    "start_time": "2023-02-18T20:05:57.590Z"
   },
   {
    "duration": 246,
    "start_time": "2023-02-18T20:05:57.716Z"
   },
   {
    "duration": 4,
    "start_time": "2023-02-18T20:05:57.963Z"
   },
   {
    "duration": 59,
    "start_time": "2023-02-18T20:05:57.968Z"
   },
   {
    "duration": 18,
    "start_time": "2023-02-18T20:05:58.029Z"
   },
   {
    "duration": 45,
    "start_time": "2023-02-18T20:05:58.049Z"
   },
   {
    "duration": 77,
    "start_time": "2023-02-18T20:13:44.798Z"
   },
   {
    "duration": 9,
    "start_time": "2023-02-18T20:15:33.975Z"
   },
   {
    "duration": 23,
    "start_time": "2023-02-18T20:15:57.413Z"
   },
   {
    "duration": 51,
    "start_time": "2023-02-18T20:15:59.193Z"
   },
   {
    "duration": 243,
    "start_time": "2023-02-18T20:16:00.817Z"
   },
   {
    "duration": 4,
    "start_time": "2023-02-18T20:16:04.944Z"
   },
   {
    "duration": 7,
    "start_time": "2023-02-18T20:16:05.730Z"
   },
   {
    "duration": 5,
    "start_time": "2023-02-18T20:16:06.258Z"
   },
   {
    "duration": 4,
    "start_time": "2023-02-18T20:16:07.713Z"
   },
   {
    "duration": 4,
    "start_time": "2023-02-18T20:16:08.498Z"
   },
   {
    "duration": 5,
    "start_time": "2023-02-18T20:16:09.921Z"
   },
   {
    "duration": 4,
    "start_time": "2023-02-18T20:20:11.878Z"
   },
   {
    "duration": 760,
    "start_time": "2023-02-18T20:20:13.294Z"
   },
   {
    "duration": 561,
    "start_time": "2023-02-18T20:20:15.247Z"
   },
   {
    "duration": 790,
    "start_time": "2023-02-18T20:20:16.482Z"
   },
   {
    "duration": 567,
    "start_time": "2023-02-18T20:20:17.775Z"
   },
   {
    "duration": 699,
    "start_time": "2023-02-18T20:20:19.115Z"
   },
   {
    "duration": 667,
    "start_time": "2023-02-18T20:20:20.455Z"
   },
   {
    "duration": 3,
    "start_time": "2023-02-18T20:25:54.189Z"
   },
   {
    "duration": 22,
    "start_time": "2023-02-18T20:27:53.352Z"
   },
   {
    "duration": 146,
    "start_time": "2023-02-18T20:29:05.347Z"
   },
   {
    "duration": 120,
    "start_time": "2023-02-18T20:29:08.967Z"
   },
   {
    "duration": 302,
    "start_time": "2023-02-18T20:30:05.114Z"
   },
   {
    "duration": 745,
    "start_time": "2023-02-18T20:30:11.034Z"
   },
   {
    "duration": 6,
    "start_time": "2023-02-18T20:31:23.355Z"
   },
   {
    "duration": 3,
    "start_time": "2023-02-18T20:32:26.283Z"
   },
   {
    "duration": 17,
    "start_time": "2023-02-18T20:33:06.916Z"
   },
   {
    "duration": 4,
    "start_time": "2023-02-18T20:33:11.485Z"
   },
   {
    "duration": 6,
    "start_time": "2023-02-18T20:33:14.681Z"
   },
   {
    "duration": 4,
    "start_time": "2023-02-18T20:33:30.525Z"
   },
   {
    "duration": 5,
    "start_time": "2023-02-18T20:33:37.460Z"
   },
   {
    "duration": 24,
    "start_time": "2023-02-18T20:34:04.486Z"
   },
   {
    "duration": 5,
    "start_time": "2023-02-18T20:34:08.781Z"
   },
   {
    "duration": 5,
    "start_time": "2023-02-18T20:34:13.816Z"
   },
   {
    "duration": 23,
    "start_time": "2023-02-18T20:34:19.954Z"
   },
   {
    "duration": 21,
    "start_time": "2023-02-18T20:34:25.174Z"
   },
   {
    "duration": 6,
    "start_time": "2023-02-18T20:34:36.383Z"
   },
   {
    "duration": 6,
    "start_time": "2023-02-18T20:34:51.863Z"
   },
   {
    "duration": 9,
    "start_time": "2023-02-18T20:34:52.694Z"
   },
   {
    "duration": 6,
    "start_time": "2023-02-18T20:35:12.753Z"
   },
   {
    "duration": 7,
    "start_time": "2023-02-18T20:35:31.521Z"
   },
   {
    "duration": 12,
    "start_time": "2023-02-18T20:35:32.648Z"
   },
   {
    "duration": 3,
    "start_time": "2023-02-18T20:35:43.462Z"
   },
   {
    "duration": 5,
    "start_time": "2023-02-18T20:35:44.871Z"
   },
   {
    "duration": 8,
    "start_time": "2023-02-18T20:35:45.912Z"
   },
   {
    "duration": 9,
    "start_time": "2023-02-18T20:35:46.759Z"
   },
   {
    "duration": 3,
    "start_time": "2023-02-18T20:36:33.306Z"
   },
   {
    "duration": 10,
    "start_time": "2023-02-18T20:36:33.794Z"
   },
   {
    "duration": 4,
    "start_time": "2023-02-18T20:37:55.178Z"
   },
   {
    "duration": 8,
    "start_time": "2023-02-18T20:37:56.566Z"
   },
   {
    "duration": 335,
    "start_time": "2023-02-18T20:38:32.473Z"
   },
   {
    "duration": 702,
    "start_time": "2023-02-18T20:38:44.762Z"
   },
   {
    "duration": 301,
    "start_time": "2023-02-18T20:38:51.020Z"
   },
   {
    "duration": 846,
    "start_time": "2023-02-18T20:39:00.155Z"
   },
   {
    "duration": 689,
    "start_time": "2023-02-18T20:39:05.819Z"
   },
   {
    "duration": 794,
    "start_time": "2023-02-18T20:39:07.438Z"
   },
   {
    "duration": 702,
    "start_time": "2023-02-18T20:40:20.189Z"
   },
   {
    "duration": 50,
    "start_time": "2023-02-18T20:42:49.927Z"
   },
   {
    "duration": 9,
    "start_time": "2023-02-18T20:45:15.285Z"
   },
   {
    "duration": 448,
    "start_time": "2023-02-18T20:45:18.834Z"
   },
   {
    "duration": 341,
    "start_time": "2023-02-18T20:45:51.289Z"
   },
   {
    "duration": 323,
    "start_time": "2023-02-18T20:45:54.515Z"
   },
   {
    "duration": 329,
    "start_time": "2023-02-18T20:46:29.572Z"
   },
   {
    "duration": 304,
    "start_time": "2023-02-18T20:46:32.956Z"
   },
   {
    "duration": 316,
    "start_time": "2023-02-18T20:47:06.932Z"
   },
   {
    "duration": 326,
    "start_time": "2023-02-18T20:48:30.959Z"
   },
   {
    "duration": 23,
    "start_time": "2023-02-18T20:48:57.814Z"
   },
   {
    "duration": 340,
    "start_time": "2023-02-18T20:49:11.749Z"
   },
   {
    "duration": 51,
    "start_time": "2023-02-18T20:50:00.206Z"
   },
   {
    "duration": 1278,
    "start_time": "2023-02-18T20:50:07.303Z"
   },
   {
    "duration": 372,
    "start_time": "2023-02-18T20:50:18.632Z"
   },
   {
    "duration": 429,
    "start_time": "2023-02-18T20:51:26.993Z"
   },
   {
    "duration": 351,
    "start_time": "2023-02-18T20:51:38.657Z"
   },
   {
    "duration": 384,
    "start_time": "2023-02-18T20:51:46.170Z"
   },
   {
    "duration": 403,
    "start_time": "2023-02-18T20:54:52.444Z"
   },
   {
    "duration": 2,
    "start_time": "2023-02-18T20:55:17.996Z"
   },
   {
    "duration": 450,
    "start_time": "2023-02-18T20:55:19.076Z"
   },
   {
    "duration": 12,
    "start_time": "2023-02-18T20:56:14.717Z"
   },
   {
    "duration": 15,
    "start_time": "2023-02-18T20:56:18.350Z"
   },
   {
    "duration": 519,
    "start_time": "2023-02-18T20:56:25.215Z"
   },
   {
    "duration": 392,
    "start_time": "2023-02-18T20:56:28.966Z"
   },
   {
    "duration": 443,
    "start_time": "2023-02-18T20:56:32.237Z"
   },
   {
    "duration": 476,
    "start_time": "2023-02-18T20:56:53.182Z"
   },
   {
    "duration": 487,
    "start_time": "2023-02-18T20:57:01.874Z"
   },
   {
    "duration": 412,
    "start_time": "2023-02-18T20:57:40.744Z"
   },
   {
    "duration": 165,
    "start_time": "2023-02-18T20:58:06.996Z"
   },
   {
    "duration": 427,
    "start_time": "2023-02-18T20:58:13.336Z"
   },
   {
    "duration": 457,
    "start_time": "2023-02-18T20:58:24.615Z"
   },
   {
    "duration": 416,
    "start_time": "2023-02-18T20:58:28.544Z"
   },
   {
    "duration": 437,
    "start_time": "2023-02-18T20:58:30.631Z"
   },
   {
    "duration": 475,
    "start_time": "2023-02-18T20:58:32.816Z"
   },
   {
    "duration": 534,
    "start_time": "2023-02-18T20:58:37.377Z"
   },
   {
    "duration": 452,
    "start_time": "2023-02-18T20:58:47.122Z"
   },
   {
    "duration": 428,
    "start_time": "2023-02-18T20:58:52.945Z"
   },
   {
    "duration": 10,
    "start_time": "2023-02-18T21:04:11.762Z"
   },
   {
    "duration": 6,
    "start_time": "2023-02-18T21:05:17.402Z"
   },
   {
    "duration": 11,
    "start_time": "2023-02-18T21:07:09.995Z"
   },
   {
    "duration": 2,
    "start_time": "2023-02-18T21:07:39.140Z"
   },
   {
    "duration": 4,
    "start_time": "2023-02-18T21:07:45.003Z"
   },
   {
    "duration": 4,
    "start_time": "2023-02-18T21:07:51.427Z"
   },
   {
    "duration": 5,
    "start_time": "2023-02-18T21:08:05.229Z"
   },
   {
    "duration": 5,
    "start_time": "2023-02-18T21:09:05.429Z"
   },
   {
    "duration": 54,
    "start_time": "2023-02-18T21:09:15.855Z"
   },
   {
    "duration": 4,
    "start_time": "2023-02-18T21:09:18.243Z"
   },
   {
    "duration": 5,
    "start_time": "2023-02-18T21:09:29.511Z"
   },
   {
    "duration": 84,
    "start_time": "2023-02-18T21:11:46.088Z"
   },
   {
    "duration": 500,
    "start_time": "2023-02-18T21:13:21.083Z"
   },
   {
    "duration": 585,
    "start_time": "2023-02-18T21:13:59.588Z"
   },
   {
    "duration": 462,
    "start_time": "2023-02-18T21:14:16.868Z"
   },
   {
    "duration": 528,
    "start_time": "2023-02-18T21:14:41.372Z"
   },
   {
    "duration": 6,
    "start_time": "2023-02-18T21:14:59.989Z"
   },
   {
    "duration": 3,
    "start_time": "2023-02-18T21:15:12.669Z"
   },
   {
    "duration": 3,
    "start_time": "2023-02-18T21:15:13.492Z"
   },
   {
    "duration": 8,
    "start_time": "2023-02-18T21:15:14.045Z"
   },
   {
    "duration": 613,
    "start_time": "2023-02-18T21:15:14.991Z"
   },
   {
    "duration": 46,
    "start_time": "2023-02-19T09:21:39.338Z"
   },
   {
    "duration": 1417,
    "start_time": "2023-02-19T09:21:42.886Z"
   },
   {
    "duration": 4195,
    "start_time": "2023-02-19T09:21:44.305Z"
   },
   {
    "duration": 219,
    "start_time": "2023-02-19T09:21:48.502Z"
   },
   {
    "duration": 145,
    "start_time": "2023-02-19T09:21:48.724Z"
   },
   {
    "duration": 239,
    "start_time": "2023-02-19T09:21:48.871Z"
   },
   {
    "duration": 3,
    "start_time": "2023-02-19T09:21:49.112Z"
   },
   {
    "duration": 67,
    "start_time": "2023-02-19T09:21:49.116Z"
   },
   {
    "duration": 19,
    "start_time": "2023-02-19T09:21:49.184Z"
   },
   {
    "duration": 78,
    "start_time": "2023-02-19T09:21:49.204Z"
   },
   {
    "duration": 27,
    "start_time": "2023-02-19T09:21:49.286Z"
   },
   {
    "duration": 64,
    "start_time": "2023-02-19T09:21:49.315Z"
   },
   {
    "duration": 207,
    "start_time": "2023-02-19T09:21:49.380Z"
   },
   {
    "duration": 4,
    "start_time": "2023-02-19T09:21:49.589Z"
   },
   {
    "duration": 11,
    "start_time": "2023-02-19T09:21:49.594Z"
   },
   {
    "duration": 7,
    "start_time": "2023-02-19T09:21:49.606Z"
   },
   {
    "duration": 11,
    "start_time": "2023-02-19T09:21:49.614Z"
   },
   {
    "duration": 22,
    "start_time": "2023-02-19T09:21:49.627Z"
   },
   {
    "duration": 5,
    "start_time": "2023-02-19T09:21:49.650Z"
   },
   {
    "duration": 20,
    "start_time": "2023-02-19T09:21:49.656Z"
   },
   {
    "duration": 790,
    "start_time": "2023-02-19T09:21:49.677Z"
   },
   {
    "duration": 599,
    "start_time": "2023-02-19T09:21:50.469Z"
   },
   {
    "duration": 878,
    "start_time": "2023-02-19T09:21:51.070Z"
   },
   {
    "duration": 619,
    "start_time": "2023-02-19T09:21:51.950Z"
   },
   {
    "duration": 892,
    "start_time": "2023-02-19T09:21:52.571Z"
   },
   {
    "duration": 645,
    "start_time": "2023-02-19T09:21:53.465Z"
   },
   {
    "duration": 5,
    "start_time": "2023-02-19T09:21:54.112Z"
   },
   {
    "duration": 19,
    "start_time": "2023-02-19T09:21:54.119Z"
   },
   {
    "duration": 11,
    "start_time": "2023-02-19T09:21:54.142Z"
   },
   {
    "duration": 10,
    "start_time": "2023-02-19T09:21:54.156Z"
   },
   {
    "duration": 813,
    "start_time": "2023-02-19T09:21:54.168Z"
   },
   {
    "duration": 2,
    "start_time": "2023-02-19T09:21:54.983Z"
   },
   {
    "duration": 514,
    "start_time": "2023-02-19T09:21:54.987Z"
   },
   {
    "duration": 654,
    "start_time": "2023-02-19T09:21:55.504Z"
   },
   {
    "duration": 6,
    "start_time": "2023-02-19T09:21:56.160Z"
   },
   {
    "duration": 421,
    "start_time": "2023-02-19T09:21:56.168Z"
   },
   {
    "duration": 486,
    "start_time": "2023-02-19T09:21:56.590Z"
   },
   {
    "duration": 6,
    "start_time": "2023-02-19T09:21:57.078Z"
   },
   {
    "duration": 5,
    "start_time": "2023-02-19T09:21:57.086Z"
   },
   {
    "duration": 6,
    "start_time": "2023-02-19T09:21:57.092Z"
   },
   {
    "duration": 15,
    "start_time": "2023-02-19T09:21:57.100Z"
   },
   {
    "duration": 623,
    "start_time": "2023-02-19T09:21:59.517Z"
   },
   {
    "duration": 413,
    "start_time": "2023-02-19T09:24:45.684Z"
   },
   {
    "duration": 479,
    "start_time": "2023-02-19T09:24:52.044Z"
   },
   {
    "duration": 427,
    "start_time": "2023-02-19T09:25:04.060Z"
   },
   {
    "duration": 428,
    "start_time": "2023-02-19T09:25:08.139Z"
   },
   {
    "duration": 564,
    "start_time": "2023-02-19T09:25:12.421Z"
   },
   {
    "duration": 199,
    "start_time": "2023-02-19T09:35:29.583Z"
   },
   {
    "duration": 509,
    "start_time": "2023-02-19T09:35:50.887Z"
   },
   {
    "duration": 405,
    "start_time": "2023-02-19T09:36:10.808Z"
   },
   {
    "duration": 436,
    "start_time": "2023-02-19T09:36:17.139Z"
   },
   {
    "duration": 659,
    "start_time": "2023-02-19T09:36:25.386Z"
   },
   {
    "duration": 738,
    "start_time": "2023-02-19T09:37:29.738Z"
   },
   {
    "duration": 1596,
    "start_time": "2023-02-19T09:37:41.347Z"
   },
   {
    "duration": 1080,
    "start_time": "2023-02-19T09:38:28.533Z"
   },
   {
    "duration": 522,
    "start_time": "2023-02-19T09:43:31.800Z"
   },
   {
    "duration": 91,
    "start_time": "2023-02-19T09:45:10.769Z"
   },
   {
    "duration": 91,
    "start_time": "2023-02-19T09:45:16.634Z"
   },
   {
    "duration": 152,
    "start_time": "2023-02-19T09:45:23.065Z"
   },
   {
    "duration": 151,
    "start_time": "2023-02-19T09:45:35.738Z"
   },
   {
    "duration": 149,
    "start_time": "2023-02-19T09:45:38.755Z"
   },
   {
    "duration": 224,
    "start_time": "2023-02-19T09:47:10.404Z"
   },
   {
    "duration": 160,
    "start_time": "2023-02-19T09:47:44.917Z"
   },
   {
    "duration": 157,
    "start_time": "2023-02-19T09:48:27.517Z"
   },
   {
    "duration": 5,
    "start_time": "2023-02-19T09:48:42.965Z"
   },
   {
    "duration": 4,
    "start_time": "2023-02-19T09:49:01.222Z"
   },
   {
    "duration": 168,
    "start_time": "2023-02-19T09:49:05.773Z"
   },
   {
    "duration": 30,
    "start_time": "2023-02-19T09:49:10.022Z"
   },
   {
    "duration": 260,
    "start_time": "2023-02-19T09:49:16.414Z"
   },
   {
    "duration": 3,
    "start_time": "2023-02-19T09:49:32.729Z"
   },
   {
    "duration": 9,
    "start_time": "2023-02-19T09:49:36.351Z"
   },
   {
    "duration": 5,
    "start_time": "2023-02-19T09:49:38.175Z"
   },
   {
    "duration": 9,
    "start_time": "2023-02-19T09:49:45.734Z"
   },
   {
    "duration": 282,
    "start_time": "2023-02-19T09:49:47.079Z"
   },
   {
    "duration": 11,
    "start_time": "2023-02-19T09:49:55.695Z"
   },
   {
    "duration": 4,
    "start_time": "2023-02-19T09:49:59.663Z"
   },
   {
    "duration": 7,
    "start_time": "2023-02-19T09:50:01.570Z"
   },
   {
    "duration": 5,
    "start_time": "2023-02-19T09:50:18.136Z"
   },
   {
    "duration": 9,
    "start_time": "2023-02-19T09:50:19.839Z"
   },
   {
    "duration": 179,
    "start_time": "2023-02-19T09:50:33.402Z"
   },
   {
    "duration": 446,
    "start_time": "2023-02-19T09:50:47.384Z"
   },
   {
    "duration": 206,
    "start_time": "2023-02-19T09:50:53.615Z"
   },
   {
    "duration": 433,
    "start_time": "2023-02-19T09:50:56.449Z"
   },
   {
    "duration": 148,
    "start_time": "2023-02-19T09:50:58.960Z"
   },
   {
    "duration": 269,
    "start_time": "2023-02-19T09:51:00.865Z"
   },
   {
    "duration": 56,
    "start_time": "2023-02-19T09:51:26.034Z"
   },
   {
    "duration": 272,
    "start_time": "2023-02-19T09:51:30.452Z"
   },
   {
    "duration": 332,
    "start_time": "2023-02-19T09:51:37.826Z"
   },
   {
    "duration": 10,
    "start_time": "2023-02-19T09:57:17.329Z"
   },
   {
    "duration": 58,
    "start_time": "2023-02-19T09:57:39.130Z"
   },
   {
    "duration": 1815,
    "start_time": "2023-02-19T09:57:44.105Z"
   },
   {
    "duration": 228,
    "start_time": "2023-02-19T09:57:52.601Z"
   },
   {
    "duration": 286,
    "start_time": "2023-02-19T09:58:10.176Z"
   },
   {
    "duration": 389,
    "start_time": "2023-02-19T09:58:15.691Z"
   },
   {
    "duration": 282,
    "start_time": "2023-02-19T09:58:27.436Z"
   },
   {
    "duration": 232,
    "start_time": "2023-02-19T09:58:43.914Z"
   },
   {
    "duration": 241,
    "start_time": "2023-02-19T09:58:52.308Z"
   },
   {
    "duration": 234,
    "start_time": "2023-02-19T09:58:59.601Z"
   },
   {
    "duration": 413,
    "start_time": "2023-02-19T09:59:21.705Z"
   },
   {
    "duration": 260,
    "start_time": "2023-02-19T09:59:28.909Z"
   },
   {
    "duration": 311,
    "start_time": "2023-02-19T09:59:32.537Z"
   },
   {
    "duration": 334,
    "start_time": "2023-02-19T09:59:35.570Z"
   },
   {
    "duration": 354,
    "start_time": "2023-02-19T09:59:40.154Z"
   },
   {
    "duration": 372,
    "start_time": "2023-02-19T10:01:37.949Z"
   },
   {
    "duration": 495,
    "start_time": "2023-02-19T10:01:40.229Z"
   },
   {
    "duration": 380,
    "start_time": "2023-02-19T10:02:02.406Z"
   },
   {
    "duration": 389,
    "start_time": "2023-02-19T10:02:07.309Z"
   },
   {
    "duration": 375,
    "start_time": "2023-02-19T10:02:09.885Z"
   },
   {
    "duration": 389,
    "start_time": "2023-02-19T10:02:13.981Z"
   },
   {
    "duration": 487,
    "start_time": "2023-02-19T10:02:32.215Z"
   },
   {
    "duration": 405,
    "start_time": "2023-02-19T10:02:43.104Z"
   },
   {
    "duration": 396,
    "start_time": "2023-02-19T10:02:45.296Z"
   },
   {
    "duration": 374,
    "start_time": "2023-02-19T10:02:54.649Z"
   },
   {
    "duration": 378,
    "start_time": "2023-02-19T10:02:59.096Z"
   },
   {
    "duration": 360,
    "start_time": "2023-02-19T10:03:10.224Z"
   },
   {
    "duration": 931,
    "start_time": "2023-02-19T10:03:15.288Z"
   },
   {
    "duration": 364,
    "start_time": "2023-02-19T10:03:22.357Z"
   },
   {
    "duration": 360,
    "start_time": "2023-02-19T10:03:31.776Z"
   },
   {
    "duration": 47,
    "start_time": "2023-02-19T10:03:38.408Z"
   },
   {
    "duration": 357,
    "start_time": "2023-02-19T10:03:48.311Z"
   },
   {
    "duration": 502,
    "start_time": "2023-02-19T10:03:58.391Z"
   },
   {
    "duration": 392,
    "start_time": "2023-02-19T10:04:05.667Z"
   },
   {
    "duration": 337,
    "start_time": "2023-02-19T10:05:48.338Z"
   },
   {
    "duration": 334,
    "start_time": "2023-02-19T10:06:08.563Z"
   },
   {
    "duration": 284,
    "start_time": "2023-02-19T10:06:24.171Z"
   },
   {
    "duration": 249,
    "start_time": "2023-02-19T10:06:51.938Z"
   },
   {
    "duration": 473,
    "start_time": "2023-02-19T10:07:09.075Z"
   },
   {
    "duration": 242,
    "start_time": "2023-02-19T10:07:22.099Z"
   },
   {
    "duration": 274,
    "start_time": "2023-02-19T10:07:51.012Z"
   },
   {
    "duration": 321,
    "start_time": "2023-02-19T10:08:08.196Z"
   },
   {
    "duration": 289,
    "start_time": "2023-02-19T10:08:14.924Z"
   },
   {
    "duration": 247,
    "start_time": "2023-02-19T10:08:22.876Z"
   },
   {
    "duration": 502,
    "start_time": "2023-02-19T10:08:37.716Z"
   },
   {
    "duration": 368,
    "start_time": "2023-02-19T10:08:49.628Z"
   },
   {
    "duration": 367,
    "start_time": "2023-02-19T10:09:47.519Z"
   },
   {
    "duration": 3,
    "start_time": "2023-02-19T10:09:52.677Z"
   },
   {
    "duration": 333,
    "start_time": "2023-02-19T10:11:23.064Z"
   },
   {
    "duration": 374,
    "start_time": "2023-02-19T10:11:32.880Z"
   },
   {
    "duration": 438,
    "start_time": "2023-02-19T10:11:38.675Z"
   },
   {
    "duration": 471,
    "start_time": "2023-02-19T10:12:02.745Z"
   },
   {
    "duration": 641,
    "start_time": "2023-02-19T10:12:24.131Z"
   },
   {
    "duration": 498,
    "start_time": "2023-02-19T10:12:27.410Z"
   },
   {
    "duration": 327,
    "start_time": "2023-02-19T10:13:27.891Z"
   },
   {
    "duration": 367,
    "start_time": "2023-02-19T10:14:12.003Z"
   },
   {
    "duration": 357,
    "start_time": "2023-02-19T10:14:18.276Z"
   },
   {
    "duration": 480,
    "start_time": "2023-02-19T10:14:38.447Z"
   },
   {
    "duration": 910,
    "start_time": "2023-02-19T10:15:56.238Z"
   },
   {
    "duration": 745,
    "start_time": "2023-02-19T10:16:00.886Z"
   },
   {
    "duration": 1550,
    "start_time": "2023-02-19T10:16:54.061Z"
   },
   {
    "duration": 1724,
    "start_time": "2023-02-19T10:17:07.063Z"
   },
   {
    "duration": 949,
    "start_time": "2023-02-19T10:17:45.168Z"
   },
   {
    "duration": 636,
    "start_time": "2023-02-19T10:17:48.850Z"
   },
   {
    "duration": 677,
    "start_time": "2023-02-19T10:18:13.876Z"
   },
   {
    "duration": 669,
    "start_time": "2023-02-19T10:18:15.665Z"
   },
   {
    "duration": 16,
    "start_time": "2023-02-19T10:18:37.550Z"
   },
   {
    "duration": 231,
    "start_time": "2023-02-19T10:18:40.355Z"
   },
   {
    "duration": 14,
    "start_time": "2023-02-19T10:18:51.191Z"
   },
   {
    "duration": 14,
    "start_time": "2023-02-19T10:18:54.618Z"
   },
   {
    "duration": 16,
    "start_time": "2023-02-19T10:19:44.755Z"
   },
   {
    "duration": 784,
    "start_time": "2023-02-19T10:19:51.307Z"
   },
   {
    "duration": 1109,
    "start_time": "2023-02-19T10:20:13.765Z"
   },
   {
    "duration": 1685,
    "start_time": "2023-02-19T10:20:18.379Z"
   },
   {
    "duration": 2180,
    "start_time": "2023-02-19T10:20:33.955Z"
   },
   {
    "duration": 1962,
    "start_time": "2023-02-19T10:21:11.004Z"
   },
   {
    "duration": 2076,
    "start_time": "2023-02-19T10:22:02.950Z"
   },
   {
    "duration": 935,
    "start_time": "2023-02-19T10:23:18.998Z"
   },
   {
    "duration": 1728,
    "start_time": "2023-02-19T10:23:21.304Z"
   },
   {
    "duration": 2091,
    "start_time": "2023-02-19T10:24:12.241Z"
   },
   {
    "duration": 2022,
    "start_time": "2023-02-19T10:24:17.262Z"
   },
   {
    "duration": 2062,
    "start_time": "2023-02-19T10:24:48.218Z"
   },
   {
    "duration": 2044,
    "start_time": "2023-02-19T10:26:51.979Z"
   },
   {
    "duration": 2141,
    "start_time": "2023-02-19T10:27:00.651Z"
   },
   {
    "duration": 2068,
    "start_time": "2023-02-19T10:28:11.828Z"
   },
   {
    "duration": 2119,
    "start_time": "2023-02-19T10:28:28.701Z"
   },
   {
    "duration": 24,
    "start_time": "2023-02-19T10:36:53.583Z"
   },
   {
    "duration": 11,
    "start_time": "2023-02-19T10:37:03.163Z"
   },
   {
    "duration": 5,
    "start_time": "2023-02-19T10:37:12.056Z"
   },
   {
    "duration": 37,
    "start_time": "2023-02-19T10:38:15.127Z"
   },
   {
    "duration": 323,
    "start_time": "2023-02-19T10:38:19.432Z"
   },
   {
    "duration": 46,
    "start_time": "2023-02-19T10:38:39.912Z"
   },
   {
    "duration": 31,
    "start_time": "2023-02-19T10:38:42.578Z"
   },
   {
    "duration": 30,
    "start_time": "2023-02-19T10:38:52.507Z"
   },
   {
    "duration": 43,
    "start_time": "2023-02-19T10:38:57.261Z"
   },
   {
    "duration": 38,
    "start_time": "2023-02-19T10:39:11.699Z"
   },
   {
    "duration": 17,
    "start_time": "2023-02-19T10:39:19.471Z"
   },
   {
    "duration": 19,
    "start_time": "2023-02-19T10:39:38.642Z"
   },
   {
    "duration": 40,
    "start_time": "2023-02-19T10:39:47.129Z"
   },
   {
    "duration": 19,
    "start_time": "2023-02-19T10:39:51.841Z"
   },
   {
    "duration": 75,
    "start_time": "2023-02-19T10:40:13.730Z"
   },
   {
    "duration": 11,
    "start_time": "2023-02-19T10:40:16.962Z"
   },
   {
    "duration": 11,
    "start_time": "2023-02-19T10:40:22.397Z"
   },
   {
    "duration": 16,
    "start_time": "2023-02-19T10:40:25.969Z"
   },
   {
    "duration": 35,
    "start_time": "2023-02-19T10:40:57.274Z"
   },
   {
    "duration": 42,
    "start_time": "2023-02-19T10:41:02.530Z"
   },
   {
    "duration": 17,
    "start_time": "2023-02-19T10:41:21.982Z"
   },
   {
    "duration": 52,
    "start_time": "2023-02-19T11:48:43.272Z"
   },
   {
    "duration": 1832,
    "start_time": "2023-02-19T11:48:56.602Z"
   },
   {
    "duration": 12,
    "start_time": "2023-02-19T11:49:44.955Z"
   },
   {
    "duration": 100,
    "start_time": "2023-02-19T11:49:52.826Z"
   },
   {
    "duration": 5,
    "start_time": "2023-02-19T11:52:01.219Z"
   },
   {
    "duration": 9,
    "start_time": "2023-02-19T11:52:43.918Z"
   },
   {
    "duration": 1112,
    "start_time": "2023-02-19T11:53:09.680Z"
   },
   {
    "duration": 7,
    "start_time": "2023-02-19T11:53:32.272Z"
   },
   {
    "duration": 12,
    "start_time": "2023-02-19T11:53:34.591Z"
   },
   {
    "duration": 10,
    "start_time": "2023-02-19T11:53:50.778Z"
   },
   {
    "duration": 11,
    "start_time": "2023-02-19T11:54:28.664Z"
   },
   {
    "duration": 12,
    "start_time": "2023-02-19T11:54:31.359Z"
   },
   {
    "duration": 5,
    "start_time": "2023-02-19T11:54:46.857Z"
   },
   {
    "duration": 8,
    "start_time": "2023-02-19T11:55:24.510Z"
   },
   {
    "duration": 13,
    "start_time": "2023-02-19T11:55:25.498Z"
   },
   {
    "duration": 9,
    "start_time": "2023-02-19T11:57:39.148Z"
   },
   {
    "duration": 11,
    "start_time": "2023-02-19T11:57:40.389Z"
   },
   {
    "duration": 736,
    "start_time": "2023-02-19T11:57:51.342Z"
   },
   {
    "duration": 6,
    "start_time": "2023-02-19T11:58:57.685Z"
   },
   {
    "duration": 742,
    "start_time": "2023-02-19T11:58:58.112Z"
   },
   {
    "duration": 368,
    "start_time": "2023-02-19T11:59:18.943Z"
   },
   {
    "duration": 317,
    "start_time": "2023-02-19T11:59:50.019Z"
   },
   {
    "duration": 493,
    "start_time": "2023-02-19T12:00:05.159Z"
   },
   {
    "duration": 231,
    "start_time": "2023-02-19T12:00:09.048Z"
   },
   {
    "duration": 872,
    "start_time": "2023-02-19T12:00:12.248Z"
   },
   {
    "duration": 479,
    "start_time": "2023-02-19T12:01:00.393Z"
   },
   {
    "duration": 123,
    "start_time": "2023-02-19T12:01:20.201Z"
   },
   {
    "duration": 126,
    "start_time": "2023-02-19T12:01:35.171Z"
   },
   {
    "duration": 154,
    "start_time": "2023-02-19T12:01:46.641Z"
   },
   {
    "duration": 4,
    "start_time": "2023-02-19T12:01:49.977Z"
   },
   {
    "duration": 466,
    "start_time": "2023-02-19T12:01:51.312Z"
   },
   {
    "duration": 437,
    "start_time": "2023-02-19T12:01:58.142Z"
   },
   {
    "duration": 123,
    "start_time": "2023-02-19T12:02:02.635Z"
   },
   {
    "duration": 435,
    "start_time": "2023-02-19T12:02:07.061Z"
   },
   {
    "duration": 201,
    "start_time": "2023-02-19T12:02:33.515Z"
   },
   {
    "duration": 537,
    "start_time": "2023-02-19T12:03:04.020Z"
   },
   {
    "duration": 847,
    "start_time": "2023-02-19T12:03:07.169Z"
   },
   {
    "duration": 452,
    "start_time": "2023-02-19T12:03:11.661Z"
   },
   {
    "duration": 463,
    "start_time": "2023-02-19T12:03:24.251Z"
   },
   {
    "duration": 166,
    "start_time": "2023-02-19T12:03:30.344Z"
   },
   {
    "duration": 474,
    "start_time": "2023-02-19T12:03:33.062Z"
   },
   {
    "duration": 13,
    "start_time": "2023-02-19T12:12:39.158Z"
   },
   {
    "duration": 67,
    "start_time": "2023-02-19T12:19:32.295Z"
   },
   {
    "duration": 218,
    "start_time": "2023-02-19T12:20:02.335Z"
   },
   {
    "duration": 57,
    "start_time": "2023-02-19T12:20:14.255Z"
   },
   {
    "duration": 74,
    "start_time": "2023-02-19T12:21:00.394Z"
   },
   {
    "duration": 87,
    "start_time": "2023-02-19T12:21:15.017Z"
   },
   {
    "duration": 56,
    "start_time": "2023-02-19T12:21:26.045Z"
   },
   {
    "duration": 81,
    "start_time": "2023-02-19T12:21:28.691Z"
   },
   {
    "duration": 59,
    "start_time": "2023-02-19T12:21:40.161Z"
   },
   {
    "duration": 61,
    "start_time": "2023-02-19T12:21:43.714Z"
   },
   {
    "duration": 58,
    "start_time": "2023-02-19T12:21:46.034Z"
   },
   {
    "duration": 55,
    "start_time": "2023-02-19T12:21:47.489Z"
   },
   {
    "duration": 4,
    "start_time": "2023-02-19T12:21:48.898Z"
   },
   {
    "duration": 87,
    "start_time": "2023-02-19T12:21:53.491Z"
   },
   {
    "duration": 10,
    "start_time": "2023-02-19T12:22:00.048Z"
   },
   {
    "duration": 81,
    "start_time": "2023-02-19T12:22:02.882Z"
   },
   {
    "duration": 72,
    "start_time": "2023-02-19T12:22:06.490Z"
   },
   {
    "duration": 126,
    "start_time": "2023-02-19T12:22:09.161Z"
   },
   {
    "duration": 127,
    "start_time": "2023-02-19T12:22:38.876Z"
   },
   {
    "duration": 27,
    "start_time": "2023-02-19T12:23:07.002Z"
   },
   {
    "duration": 9,
    "start_time": "2023-02-19T12:23:12.651Z"
   },
   {
    "duration": 6,
    "start_time": "2023-02-19T12:23:22.275Z"
   },
   {
    "duration": 2,
    "start_time": "2023-02-19T12:24:57.118Z"
   },
   {
    "duration": 3,
    "start_time": "2023-02-19T12:25:10.683Z"
   },
   {
    "duration": 10,
    "start_time": "2023-02-19T12:30:02.123Z"
   },
   {
    "duration": 11,
    "start_time": "2023-02-19T12:31:01.324Z"
   },
   {
    "duration": 3,
    "start_time": "2023-02-19T12:31:43.702Z"
   },
   {
    "duration": 12,
    "start_time": "2023-02-19T12:31:46.542Z"
   },
   {
    "duration": 3,
    "start_time": "2023-02-19T12:31:54.602Z"
   },
   {
    "duration": 3,
    "start_time": "2023-02-19T12:31:55.153Z"
   },
   {
    "duration": 7,
    "start_time": "2023-02-19T12:31:56.638Z"
   },
   {
    "duration": 2,
    "start_time": "2023-02-19T12:32:06.645Z"
   },
   {
    "duration": 3,
    "start_time": "2023-02-19T12:32:07.278Z"
   },
   {
    "duration": 3,
    "start_time": "2023-02-19T12:32:41.267Z"
   },
   {
    "duration": 15,
    "start_time": "2023-02-19T12:32:55.756Z"
   },
   {
    "duration": 3,
    "start_time": "2023-02-19T12:32:59.402Z"
   },
   {
    "duration": 3,
    "start_time": "2023-02-19T12:33:15.343Z"
   },
   {
    "duration": 25,
    "start_time": "2023-02-19T12:33:50.705Z"
   },
   {
    "duration": 5,
    "start_time": "2023-02-19T12:37:23.312Z"
   },
   {
    "duration": 24,
    "start_time": "2023-02-19T12:37:39.902Z"
   },
   {
    "duration": 3,
    "start_time": "2023-02-19T12:37:42.626Z"
   },
   {
    "duration": 19,
    "start_time": "2023-02-19T12:37:46.912Z"
   },
   {
    "duration": 2,
    "start_time": "2023-02-19T12:42:53.230Z"
   },
   {
    "duration": 1023,
    "start_time": "2023-02-19T12:42:54.092Z"
   },
   {
    "duration": 2,
    "start_time": "2023-02-19T12:43:16.592Z"
   },
   {
    "duration": 999,
    "start_time": "2023-02-19T12:43:17.546Z"
   },
   {
    "duration": 713,
    "start_time": "2023-02-19T12:44:11.206Z"
   },
   {
    "duration": 714,
    "start_time": "2023-02-19T12:44:21.359Z"
   },
   {
    "duration": 738,
    "start_time": "2023-02-19T12:45:19.280Z"
   },
   {
    "duration": 3,
    "start_time": "2023-02-19T12:47:14.670Z"
   },
   {
    "duration": 24,
    "start_time": "2023-02-19T12:47:16.572Z"
   },
   {
    "duration": 3,
    "start_time": "2023-02-19T12:47:35.164Z"
   },
   {
    "duration": 42,
    "start_time": "2023-02-19T12:47:37.037Z"
   },
   {
    "duration": 44,
    "start_time": "2023-02-19T12:48:47.603Z"
   },
   {
    "duration": 3,
    "start_time": "2023-02-19T12:49:01.797Z"
   },
   {
    "duration": 3,
    "start_time": "2023-02-19T12:49:12.157Z"
   },
   {
    "duration": 65,
    "start_time": "2023-02-19T12:49:35.447Z"
   },
   {
    "duration": 25,
    "start_time": "2023-02-19T12:50:05.481Z"
   },
   {
    "duration": 20,
    "start_time": "2023-02-19T12:50:10.959Z"
   },
   {
    "duration": 14,
    "start_time": "2023-02-19T12:50:26.066Z"
   },
   {
    "duration": 2,
    "start_time": "2023-02-19T12:50:32.000Z"
   },
   {
    "duration": 15,
    "start_time": "2023-02-19T12:50:32.479Z"
   },
   {
    "duration": 3,
    "start_time": "2023-02-19T12:50:46.406Z"
   },
   {
    "duration": 36,
    "start_time": "2023-02-19T12:51:38.791Z"
   },
   {
    "duration": 39,
    "start_time": "2023-02-19T12:51:54.131Z"
   },
   {
    "duration": 8,
    "start_time": "2023-02-19T12:52:04.001Z"
   },
   {
    "duration": 45,
    "start_time": "2023-02-19T12:52:14.065Z"
   },
   {
    "duration": 7,
    "start_time": "2023-02-19T12:52:15.448Z"
   },
   {
    "duration": 3,
    "start_time": "2023-02-19T12:52:54.384Z"
   },
   {
    "duration": 3,
    "start_time": "2023-02-19T12:53:33.370Z"
   },
   {
    "duration": 4,
    "start_time": "2023-02-19T12:53:41.026Z"
   },
   {
    "duration": 3,
    "start_time": "2023-02-19T12:53:44.379Z"
   },
   {
    "duration": 3,
    "start_time": "2023-02-19T12:53:48.037Z"
   },
   {
    "duration": 45,
    "start_time": "2023-02-19T12:55:19.664Z"
   },
   {
    "duration": 3,
    "start_time": "2023-02-19T12:55:38.933Z"
   },
   {
    "duration": 63,
    "start_time": "2023-02-19T12:55:43.092Z"
   },
   {
    "duration": 63,
    "start_time": "2023-02-19T12:55:54.661Z"
   },
   {
    "duration": 73,
    "start_time": "2023-02-19T12:55:59.613Z"
   },
   {
    "duration": 40,
    "start_time": "2023-02-19T12:56:09.468Z"
   },
   {
    "duration": 24,
    "start_time": "2023-02-19T12:56:18.926Z"
   },
   {
    "duration": 10,
    "start_time": "2023-02-19T12:56:25.790Z"
   },
   {
    "duration": 720,
    "start_time": "2023-02-19T12:56:38.352Z"
   },
   {
    "duration": 37,
    "start_time": "2023-02-19T12:56:43.531Z"
   },
   {
    "duration": 721,
    "start_time": "2023-02-19T12:56:50.037Z"
   },
   {
    "duration": 60,
    "start_time": "2023-02-19T12:56:52.726Z"
   },
   {
    "duration": 9,
    "start_time": "2023-02-19T12:56:54.925Z"
   },
   {
    "duration": 910,
    "start_time": "2023-02-19T12:57:01.503Z"
   },
   {
    "duration": 5,
    "start_time": "2023-02-19T12:57:05.225Z"
   },
   {
    "duration": 24,
    "start_time": "2023-02-19T12:57:13.527Z"
   },
   {
    "duration": 23,
    "start_time": "2023-02-19T12:57:23.016Z"
   },
   {
    "duration": 39,
    "start_time": "2023-02-19T12:57:27.735Z"
   },
   {
    "duration": 10,
    "start_time": "2023-02-19T13:00:51.959Z"
   },
   {
    "duration": 20,
    "start_time": "2023-02-19T13:00:57.628Z"
   },
   {
    "duration": 30,
    "start_time": "2023-02-19T13:01:23.701Z"
   },
   {
    "duration": 23,
    "start_time": "2023-02-19T13:01:45.591Z"
   },
   {
    "duration": 30,
    "start_time": "2023-02-19T13:02:02.437Z"
   },
   {
    "duration": 23,
    "start_time": "2023-02-19T13:03:44.840Z"
   },
   {
    "duration": 35,
    "start_time": "2023-02-19T13:03:55.288Z"
   },
   {
    "duration": 9,
    "start_time": "2023-02-19T13:05:12.977Z"
   },
   {
    "duration": 9,
    "start_time": "2023-02-19T13:05:21.687Z"
   },
   {
    "duration": 5,
    "start_time": "2023-02-19T13:05:51.906Z"
   },
   {
    "duration": 4,
    "start_time": "2023-02-19T13:05:56.106Z"
   },
   {
    "duration": 14,
    "start_time": "2023-02-19T13:06:27.145Z"
   },
   {
    "duration": 12,
    "start_time": "2023-02-19T13:06:31.081Z"
   },
   {
    "duration": 4,
    "start_time": "2023-02-19T13:06:32.005Z"
   },
   {
    "duration": 34,
    "start_time": "2023-02-19T13:06:47.291Z"
   },
   {
    "duration": 10,
    "start_time": "2023-02-19T13:07:45.260Z"
   },
   {
    "duration": 4,
    "start_time": "2023-02-19T13:07:46.524Z"
   },
   {
    "duration": 31,
    "start_time": "2023-02-19T13:07:50.188Z"
   },
   {
    "duration": 8,
    "start_time": "2023-02-19T13:07:58.482Z"
   },
   {
    "duration": 4,
    "start_time": "2023-02-19T13:07:59.753Z"
   },
   {
    "duration": 29,
    "start_time": "2023-02-19T13:08:02.891Z"
   },
   {
    "duration": 10,
    "start_time": "2023-02-19T13:08:10.379Z"
   },
   {
    "duration": 3,
    "start_time": "2023-02-19T13:08:12.157Z"
   },
   {
    "duration": 12,
    "start_time": "2023-02-19T13:08:38.219Z"
   },
   {
    "duration": 3,
    "start_time": "2023-02-19T13:08:39.020Z"
   },
   {
    "duration": 32,
    "start_time": "2023-02-19T13:08:46.380Z"
   },
   {
    "duration": 3,
    "start_time": "2023-02-19T13:09:48.126Z"
   },
   {
    "duration": 3,
    "start_time": "2023-02-19T13:09:49.813Z"
   },
   {
    "duration": 3,
    "start_time": "2023-02-19T13:09:50.940Z"
   },
   {
    "duration": 58,
    "start_time": "2023-02-19T13:09:52.111Z"
   },
   {
    "duration": 27,
    "start_time": "2023-02-19T13:16:08.331Z"
   },
   {
    "duration": 15,
    "start_time": "2023-02-19T13:21:21.817Z"
   },
   {
    "duration": 4,
    "start_time": "2023-02-19T13:21:23.024Z"
   },
   {
    "duration": 49,
    "start_time": "2023-02-19T13:21:45.499Z"
   },
   {
    "duration": 2,
    "start_time": "2023-02-19T13:22:04.604Z"
   },
   {
    "duration": 3,
    "start_time": "2023-02-19T13:22:06.455Z"
   },
   {
    "duration": 2,
    "start_time": "2023-02-19T13:22:07.729Z"
   },
   {
    "duration": 100,
    "start_time": "2023-02-19T13:22:09.242Z"
   },
   {
    "duration": 54,
    "start_time": "2023-02-19T13:37:17.212Z"
   },
   {
    "duration": 11,
    "start_time": "2023-02-19T13:45:35.485Z"
   },
   {
    "duration": 5,
    "start_time": "2023-02-19T13:45:36.469Z"
   },
   {
    "duration": 42,
    "start_time": "2023-02-19T13:45:39.142Z"
   },
   {
    "duration": 2,
    "start_time": "2023-02-19T13:45:40.070Z"
   },
   {
    "duration": 3,
    "start_time": "2023-02-19T13:45:49.590Z"
   },
   {
    "duration": 81,
    "start_time": "2023-02-19T13:45:50.335Z"
   },
   {
    "duration": 50,
    "start_time": "2023-02-19T13:48:41.123Z"
   },
   {
    "duration": 61,
    "start_time": "2023-02-19T13:48:44.755Z"
   },
   {
    "duration": 39,
    "start_time": "2023-02-19T13:51:16.758Z"
   },
   {
    "duration": 49,
    "start_time": "2023-02-19T13:52:05.263Z"
   },
   {
    "duration": 42,
    "start_time": "2023-02-19T13:52:18.046Z"
   },
   {
    "duration": 50,
    "start_time": "2023-02-19T13:52:20.935Z"
   },
   {
    "duration": 52,
    "start_time": "2023-02-19T13:53:31.240Z"
   },
   {
    "duration": 66,
    "start_time": "2023-02-19T13:53:44.440Z"
   },
   {
    "duration": 41,
    "start_time": "2023-02-19T13:54:09.089Z"
   },
   {
    "duration": 9,
    "start_time": "2023-02-19T13:57:41.031Z"
   },
   {
    "duration": 10,
    "start_time": "2023-02-19T13:58:59.318Z"
   },
   {
    "duration": 41,
    "start_time": "2023-02-19T13:59:52.082Z"
   },
   {
    "duration": 3,
    "start_time": "2023-02-19T14:00:33.163Z"
   },
   {
    "duration": 46,
    "start_time": "2023-02-19T14:00:33.810Z"
   },
   {
    "duration": 50,
    "start_time": "2023-02-19T14:04:11.228Z"
   },
   {
    "duration": 54,
    "start_time": "2023-02-19T14:04:15.869Z"
   },
   {
    "duration": 5,
    "start_time": "2023-02-19T14:04:28.701Z"
   },
   {
    "duration": 4,
    "start_time": "2023-02-19T14:04:34.173Z"
   },
   {
    "duration": 789,
    "start_time": "2023-02-19T14:04:48.197Z"
   },
   {
    "duration": 4,
    "start_time": "2023-02-19T14:04:51.373Z"
   },
   {
    "duration": 11,
    "start_time": "2023-02-19T14:04:59.760Z"
   },
   {
    "duration": 5,
    "start_time": "2023-02-19T14:05:06.886Z"
   },
   {
    "duration": 42,
    "start_time": "2023-02-19T14:05:12.552Z"
   },
   {
    "duration": 4,
    "start_time": "2023-02-19T14:06:04.690Z"
   },
   {
    "duration": 46,
    "start_time": "2023-02-19T14:06:14.560Z"
   },
   {
    "duration": 4,
    "start_time": "2023-02-19T14:07:21.185Z"
   },
   {
    "duration": 41,
    "start_time": "2023-02-19T14:13:50.304Z"
   },
   {
    "duration": 48,
    "start_time": "2023-02-19T14:17:25.155Z"
   },
   {
    "duration": 5,
    "start_time": "2023-02-19T14:17:30.211Z"
   },
   {
    "duration": 4,
    "start_time": "2023-02-19T14:17:31.587Z"
   },
   {
    "duration": 3,
    "start_time": "2023-02-19T14:18:39.266Z"
   },
   {
    "duration": 8,
    "start_time": "2023-02-19T14:25:48.818Z"
   },
   {
    "duration": 31,
    "start_time": "2023-02-19T14:26:10.652Z"
   },
   {
    "duration": 12,
    "start_time": "2023-02-19T14:26:32.115Z"
   },
   {
    "duration": 19,
    "start_time": "2023-02-19T14:26:37.611Z"
   },
   {
    "duration": 18,
    "start_time": "2023-02-19T14:26:40.337Z"
   },
   {
    "duration": 21,
    "start_time": "2023-02-19T14:27:13.787Z"
   },
   {
    "duration": 9,
    "start_time": "2023-02-19T14:27:22.121Z"
   },
   {
    "duration": 9,
    "start_time": "2023-02-19T14:27:29.299Z"
   },
   {
    "duration": 40,
    "start_time": "2023-02-19T14:27:35.171Z"
   },
   {
    "duration": 8,
    "start_time": "2023-02-19T14:27:37.444Z"
   },
   {
    "duration": 10,
    "start_time": "2023-02-19T14:27:42.574Z"
   },
   {
    "duration": 28,
    "start_time": "2023-02-19T14:27:45.373Z"
   },
   {
    "duration": 26,
    "start_time": "2023-02-19T14:28:23.567Z"
   },
   {
    "duration": 31,
    "start_time": "2023-02-19T14:28:33.469Z"
   },
   {
    "duration": 26,
    "start_time": "2023-02-19T14:28:44.909Z"
   },
   {
    "duration": 16,
    "start_time": "2023-02-19T14:28:54.392Z"
   },
   {
    "duration": 28,
    "start_time": "2023-02-19T14:29:01.319Z"
   },
   {
    "duration": 6,
    "start_time": "2023-02-19T14:29:06.405Z"
   },
   {
    "duration": 5,
    "start_time": "2023-02-19T14:29:10.411Z"
   },
   {
    "duration": 10,
    "start_time": "2023-02-19T14:29:47.390Z"
   },
   {
    "duration": 21,
    "start_time": "2023-02-19T14:29:51.007Z"
   },
   {
    "duration": 2,
    "start_time": "2023-02-19T14:29:55.231Z"
   },
   {
    "duration": 40,
    "start_time": "2023-02-19T14:29:55.758Z"
   },
   {
    "duration": 10,
    "start_time": "2023-02-19T14:30:13.959Z"
   },
   {
    "duration": 4,
    "start_time": "2023-02-19T14:30:16.334Z"
   },
   {
    "duration": 2,
    "start_time": "2023-02-19T14:30:19.758Z"
   },
   {
    "duration": 2394,
    "start_time": "2023-02-19T14:30:20.155Z"
   },
   {
    "duration": 3,
    "start_time": "2023-02-19T14:34:19.364Z"
   },
   {
    "duration": 2191,
    "start_time": "2023-02-19T14:34:19.857Z"
   },
   {
    "duration": 3,
    "start_time": "2023-02-19T14:34:38.659Z"
   },
   {
    "duration": 3959,
    "start_time": "2023-02-19T14:34:46.396Z"
   },
   {
    "duration": 3,
    "start_time": "2023-02-19T14:36:11.798Z"
   },
   {
    "duration": 3,
    "start_time": "2023-02-19T14:37:09.365Z"
   },
   {
    "duration": 135,
    "start_time": "2023-02-19T14:37:23.526Z"
   },
   {
    "duration": 0,
    "start_time": "2023-02-19T14:38:40.054Z"
   },
   {
    "duration": 0,
    "start_time": "2023-02-19T14:38:40.055Z"
   },
   {
    "duration": 4,
    "start_time": "2023-02-19T14:38:40.815Z"
   },
   {
    "duration": 13479,
    "start_time": "2023-02-19T14:38:41.736Z"
   },
   {
    "duration": 0,
    "start_time": "2023-02-19T14:38:55.217Z"
   },
   {
    "duration": 10,
    "start_time": "2023-02-19T14:38:56.215Z"
   },
   {
    "duration": 4200,
    "start_time": "2023-02-19T14:38:58.000Z"
   },
   {
    "duration": 12,
    "start_time": "2023-02-19T14:39:14.608Z"
   },
   {
    "duration": 3,
    "start_time": "2023-02-19T14:39:29.191Z"
   },
   {
    "duration": 19,
    "start_time": "2023-02-19T14:39:30.535Z"
   },
   {
    "duration": 12,
    "start_time": "2023-02-19T14:39:42.112Z"
   },
   {
    "duration": 3,
    "start_time": "2023-02-19T14:40:28.034Z"
   },
   {
    "duration": 5889,
    "start_time": "2023-02-19T14:40:29.532Z"
   },
   {
    "duration": 3,
    "start_time": "2023-02-19T14:40:41.695Z"
   },
   {
    "duration": 4,
    "start_time": "2023-02-19T14:41:32.612Z"
   },
   {
    "duration": 5602,
    "start_time": "2023-02-19T14:41:37.099Z"
   },
   {
    "duration": 4,
    "start_time": "2023-02-19T14:42:36.508Z"
   },
   {
    "duration": 4,
    "start_time": "2023-02-19T14:44:02.525Z"
   },
   {
    "duration": 5794,
    "start_time": "2023-02-19T14:44:03.074Z"
   },
   {
    "duration": 3,
    "start_time": "2023-02-19T14:44:08.870Z"
   },
   {
    "duration": 3,
    "start_time": "2023-02-19T14:44:42.479Z"
   },
   {
    "duration": 12,
    "start_time": "2023-02-19T14:44:43.927Z"
   },
   {
    "duration": 3,
    "start_time": "2023-02-19T14:44:55.135Z"
   },
   {
    "duration": 2452,
    "start_time": "2023-02-19T14:44:55.895Z"
   },
   {
    "duration": 4,
    "start_time": "2023-02-19T14:44:59.111Z"
   },
   {
    "duration": 3,
    "start_time": "2023-02-19T14:45:18.121Z"
   },
   {
    "duration": 10,
    "start_time": "2023-02-19T14:47:00.289Z"
   },
   {
    "duration": 3,
    "start_time": "2023-02-19T14:47:01.188Z"
   },
   {
    "duration": 4,
    "start_time": "2023-02-19T14:48:24.659Z"
   },
   {
    "duration": 2,
    "start_time": "2023-02-19T14:48:28.834Z"
   },
   {
    "duration": 54,
    "start_time": "2023-02-19T14:49:16.355Z"
   },
   {
    "duration": 12,
    "start_time": "2023-02-19T14:49:32.020Z"
   },
   {
    "duration": 4,
    "start_time": "2023-02-19T14:49:33.052Z"
   },
   {
    "duration": 3,
    "start_time": "2023-02-19T14:49:34.356Z"
   },
   {
    "duration": 3,
    "start_time": "2023-02-19T14:49:35.675Z"
   },
   {
    "duration": 3,
    "start_time": "2023-02-19T14:49:36.899Z"
   },
   {
    "duration": 82,
    "start_time": "2023-02-19T14:49:37.996Z"
   },
   {
    "duration": 4,
    "start_time": "2023-02-19T14:49:43.356Z"
   },
   {
    "duration": 4,
    "start_time": "2023-02-19T14:49:52.163Z"
   },
   {
    "duration": 44,
    "start_time": "2023-02-19T14:50:31.151Z"
   },
   {
    "duration": 52,
    "start_time": "2023-02-19T14:51:16.320Z"
   },
   {
    "duration": 54,
    "start_time": "2023-02-19T14:51:27.413Z"
   },
   {
    "duration": 57,
    "start_time": "2023-02-19T14:51:52.256Z"
   },
   {
    "duration": 48,
    "start_time": "2023-02-19T14:52:08.562Z"
   },
   {
    "duration": 62,
    "start_time": "2023-02-19T14:52:12.680Z"
   },
   {
    "duration": 59,
    "start_time": "2023-02-19T14:52:27.984Z"
   },
   {
    "duration": 48,
    "start_time": "2023-02-19T14:52:34.297Z"
   },
   {
    "duration": 10,
    "start_time": "2023-02-19T14:52:55.623Z"
   },
   {
    "duration": 4,
    "start_time": "2023-02-19T14:56:40.531Z"
   },
   {
    "duration": 13,
    "start_time": "2023-02-19T14:56:42.012Z"
   },
   {
    "duration": 4,
    "start_time": "2023-02-19T14:57:02.605Z"
   },
   {
    "duration": 12,
    "start_time": "2023-02-19T14:57:28.900Z"
   },
   {
    "duration": 5,
    "start_time": "2023-02-19T14:57:29.414Z"
   },
   {
    "duration": 4,
    "start_time": "2023-02-19T14:57:32.037Z"
   },
   {
    "duration": 3,
    "start_time": "2023-02-19T14:57:32.574Z"
   },
   {
    "duration": 4,
    "start_time": "2023-02-19T14:57:33.136Z"
   },
   {
    "duration": 3830,
    "start_time": "2023-02-19T14:57:34.421Z"
   },
   {
    "duration": 13,
    "start_time": "2023-02-19T15:14:27.481Z"
   },
   {
    "duration": 2446,
    "start_time": "2023-02-19T15:15:23.701Z"
   },
   {
    "duration": 4786,
    "start_time": "2023-02-19T15:15:51.178Z"
   },
   {
    "duration": 6,
    "start_time": "2023-02-19T15:16:02.940Z"
   },
   {
    "duration": 13,
    "start_time": "2023-02-19T15:17:26.236Z"
   },
   {
    "duration": 15,
    "start_time": "2023-02-19T15:17:31.307Z"
   },
   {
    "duration": 11,
    "start_time": "2023-02-19T15:17:37.380Z"
   },
   {
    "duration": 10,
    "start_time": "2023-02-19T15:17:41.379Z"
   },
   {
    "duration": 3,
    "start_time": "2023-02-19T15:18:21.076Z"
   },
   {
    "duration": 11911,
    "start_time": "2023-02-19T15:19:14.862Z"
   },
   {
    "duration": 3,
    "start_time": "2023-02-19T15:19:29.927Z"
   },
   {
    "duration": 3,
    "start_time": "2023-02-19T15:19:30.357Z"
   },
   {
    "duration": 5713,
    "start_time": "2023-02-19T15:20:00.841Z"
   },
   {
    "duration": 5,
    "start_time": "2023-02-19T15:20:24.341Z"
   },
   {
    "duration": 5655,
    "start_time": "2023-02-19T15:20:31.702Z"
   },
   {
    "duration": 5072,
    "start_time": "2023-02-19T15:21:00.391Z"
   },
   {
    "duration": 3,
    "start_time": "2023-02-19T15:22:23.480Z"
   },
   {
    "duration": 4,
    "start_time": "2023-02-19T15:23:09.643Z"
   },
   {
    "duration": 5371,
    "start_time": "2023-02-19T15:24:29.492Z"
   },
   {
    "duration": 5,
    "start_time": "2023-02-19T15:24:37.196Z"
   },
   {
    "duration": 4711,
    "start_time": "2023-02-19T15:24:37.852Z"
   },
   {
    "duration": 3,
    "start_time": "2023-02-19T15:24:53.748Z"
   },
   {
    "duration": 3,
    "start_time": "2023-02-19T15:24:54.374Z"
   },
   {
    "duration": 4609,
    "start_time": "2023-02-19T15:24:55.749Z"
   },
   {
    "duration": 3,
    "start_time": "2023-02-19T15:25:05.196Z"
   },
   {
    "duration": 4,
    "start_time": "2023-02-19T15:25:12.396Z"
   },
   {
    "duration": 3,
    "start_time": "2023-02-19T15:25:33.302Z"
   },
   {
    "duration": 159241,
    "start_time": "2023-02-19T15:25:33.909Z"
   },
   {
    "duration": 4,
    "start_time": "2023-02-19T15:29:37.449Z"
   },
   {
    "duration": 307926,
    "start_time": "2023-02-19T15:29:39.363Z"
   },
   {
    "duration": 5,
    "start_time": "2023-02-19T15:34:47.295Z"
   },
   {
    "duration": 7,
    "start_time": "2023-02-19T15:34:49.408Z"
   },
   {
    "duration": 53235,
    "start_time": "2023-02-19T15:34:50.116Z"
   },
   {
    "duration": 4,
    "start_time": "2023-02-19T15:35:43.353Z"
   },
   {
    "duration": 5,
    "start_time": "2023-02-19T15:35:44.266Z"
   },
   {
    "duration": 711996,
    "start_time": "2023-02-19T15:35:44.954Z"
   },
   {
    "duration": 10,
    "start_time": "2023-02-19T15:48:26.058Z"
   },
   {
    "duration": 12,
    "start_time": "2023-02-19T15:49:37.354Z"
   },
   {
    "duration": 3,
    "start_time": "2023-02-19T15:49:37.812Z"
   },
   {
    "duration": 4,
    "start_time": "2023-02-19T15:50:32.082Z"
   },
   {
    "duration": 4,
    "start_time": "2023-02-19T15:51:06.334Z"
   },
   {
    "duration": 11,
    "start_time": "2023-02-19T15:51:43.445Z"
   },
   {
    "duration": 4,
    "start_time": "2023-02-19T15:51:47.148Z"
   },
   {
    "duration": 4,
    "start_time": "2023-02-19T15:52:11.173Z"
   },
   {
    "duration": 4,
    "start_time": "2023-02-19T15:52:28.318Z"
   },
   {
    "duration": 11,
    "start_time": "2023-02-19T15:53:39.814Z"
   },
   {
    "duration": 11,
    "start_time": "2023-02-19T15:53:45.126Z"
   },
   {
    "duration": 4,
    "start_time": "2023-02-19T15:53:54.673Z"
   },
   {
    "duration": 7,
    "start_time": "2023-02-19T15:54:23.056Z"
   },
   {
    "duration": 8,
    "start_time": "2023-02-19T15:54:38.944Z"
   },
   {
    "duration": 7,
    "start_time": "2023-02-19T15:54:53.024Z"
   },
   {
    "duration": 8,
    "start_time": "2023-02-19T15:54:59.160Z"
   },
   {
    "duration": 65,
    "start_time": "2023-02-19T15:56:45.649Z"
   },
   {
    "duration": 60,
    "start_time": "2023-02-19T15:56:50.522Z"
   },
   {
    "duration": 49,
    "start_time": "2023-02-19T15:56:58.960Z"
   },
   {
    "duration": 50,
    "start_time": "2023-02-19T15:57:01.873Z"
   },
   {
    "duration": 8,
    "start_time": "2023-02-19T15:57:17.081Z"
   },
   {
    "duration": 8,
    "start_time": "2023-02-19T15:57:43.786Z"
   },
   {
    "duration": 8,
    "start_time": "2023-02-19T15:57:53.826Z"
   },
   {
    "duration": 8,
    "start_time": "2023-02-19T15:58:07.730Z"
   },
   {
    "duration": 9,
    "start_time": "2023-02-19T15:59:05.635Z"
   },
   {
    "duration": 3,
    "start_time": "2023-02-19T15:59:43.852Z"
   },
   {
    "duration": 10,
    "start_time": "2023-02-19T15:59:46.576Z"
   },
   {
    "duration": 3,
    "start_time": "2023-02-19T15:59:47.035Z"
   },
   {
    "duration": 2,
    "start_time": "2023-02-19T15:59:47.852Z"
   },
   {
    "duration": 252109,
    "start_time": "2023-02-19T16:00:03.723Z"
   },
   {
    "duration": 2,
    "start_time": "2023-02-19T16:05:03.025Z"
   },
   {
    "duration": 7,
    "start_time": "2023-02-19T16:05:03.969Z"
   },
   {
    "duration": 4,
    "start_time": "2023-02-19T16:05:32.816Z"
   },
   {
    "duration": 4,
    "start_time": "2023-02-19T16:05:38.322Z"
   },
   {
    "duration": 8,
    "start_time": "2023-02-19T16:05:47.200Z"
   },
   {
    "duration": 8,
    "start_time": "2023-02-19T16:05:52.694Z"
   },
   {
    "duration": 8,
    "start_time": "2023-02-19T16:05:57.185Z"
   },
   {
    "duration": 3,
    "start_time": "2023-02-19T16:08:04.020Z"
   },
   {
    "duration": 4,
    "start_time": "2023-02-19T16:08:05.732Z"
   },
   {
    "duration": 6,
    "start_time": "2023-02-19T16:08:23.956Z"
   },
   {
    "duration": 4,
    "start_time": "2023-02-19T16:08:27.195Z"
   },
   {
    "duration": 8,
    "start_time": "2023-02-19T16:12:59.720Z"
   },
   {
    "duration": 9,
    "start_time": "2023-02-19T16:13:03.363Z"
   },
   {
    "duration": 4,
    "start_time": "2023-02-19T16:13:17.008Z"
   },
   {
    "duration": 3,
    "start_time": "2023-02-19T16:14:17.762Z"
   },
   {
    "duration": 12,
    "start_time": "2023-02-19T16:16:35.654Z"
   },
   {
    "duration": 9,
    "start_time": "2023-02-19T16:17:00.005Z"
   },
   {
    "duration": 2059,
    "start_time": "2023-02-19T16:17:03.789Z"
   },
   {
    "duration": 2197,
    "start_time": "2023-02-19T16:17:38.280Z"
   },
   {
    "duration": 2208,
    "start_time": "2023-02-19T16:17:46.701Z"
   },
   {
    "duration": 4,
    "start_time": "2023-02-19T16:17:57.584Z"
   },
   {
    "duration": 4,
    "start_time": "2023-02-19T16:19:38.263Z"
   },
   {
    "duration": 7,
    "start_time": "2023-02-19T16:20:06.521Z"
   },
   {
    "duration": 6,
    "start_time": "2023-02-19T16:20:20.098Z"
   },
   {
    "duration": 47,
    "start_time": "2023-02-19T16:20:38.882Z"
   },
   {
    "duration": 6,
    "start_time": "2023-02-19T16:20:41.093Z"
   },
   {
    "duration": 4,
    "start_time": "2023-02-19T16:20:46.355Z"
   },
   {
    "duration": 3,
    "start_time": "2023-02-19T16:20:52.165Z"
   },
   {
    "duration": 6,
    "start_time": "2023-02-19T16:20:59.681Z"
   },
   {
    "duration": 7,
    "start_time": "2023-02-19T16:21:18.363Z"
   },
   {
    "duration": 4,
    "start_time": "2023-02-19T16:21:19.456Z"
   },
   {
    "duration": 7,
    "start_time": "2023-02-19T16:21:20.889Z"
   },
   {
    "duration": 7,
    "start_time": "2023-02-19T16:21:21.729Z"
   },
   {
    "duration": 4,
    "start_time": "2023-02-19T16:22:50.875Z"
   },
   {
    "duration": 44,
    "start_time": "2023-02-19T16:25:48.495Z"
   },
   {
    "duration": 17,
    "start_time": "2023-02-19T16:25:52.910Z"
   },
   {
    "duration": 38,
    "start_time": "2023-02-19T16:25:55.259Z"
   },
   {
    "duration": 42,
    "start_time": "2023-02-19T16:29:01.979Z"
   },
   {
    "duration": 1559,
    "start_time": "2023-02-20T13:31:34.929Z"
   },
   {
    "duration": 3330,
    "start_time": "2023-02-20T13:31:36.492Z"
   },
   {
    "duration": 242,
    "start_time": "2023-02-20T13:31:39.823Z"
   },
   {
    "duration": 128,
    "start_time": "2023-02-20T13:31:40.067Z"
   },
   {
    "duration": 259,
    "start_time": "2023-02-20T13:31:40.197Z"
   },
   {
    "duration": 4,
    "start_time": "2023-02-20T13:31:40.458Z"
   },
   {
    "duration": 59,
    "start_time": "2023-02-20T13:31:40.464Z"
   },
   {
    "duration": 17,
    "start_time": "2023-02-20T13:31:40.525Z"
   },
   {
    "duration": 67,
    "start_time": "2023-02-20T13:31:40.544Z"
   },
   {
    "duration": 116,
    "start_time": "2023-02-20T13:31:55.240Z"
   },
   {
    "duration": 25,
    "start_time": "2023-02-20T13:32:13.702Z"
   },
   {
    "duration": 52,
    "start_time": "2023-02-20T13:32:50.949Z"
   },
   {
    "duration": 223,
    "start_time": "2023-02-20T13:32:52.425Z"
   },
   {
    "duration": 3,
    "start_time": "2023-02-20T13:32:54.382Z"
   },
   {
    "duration": 8,
    "start_time": "2023-02-20T13:32:56.510Z"
   },
   {
    "duration": 5,
    "start_time": "2023-02-20T13:32:57.152Z"
   },
   {
    "duration": 5,
    "start_time": "2023-02-20T13:32:58.399Z"
   },
   {
    "duration": 4,
    "start_time": "2023-02-20T13:32:59.272Z"
   },
   {
    "duration": 6,
    "start_time": "2023-02-20T13:33:00.399Z"
   },
   {
    "duration": 3,
    "start_time": "2023-02-20T13:33:04.550Z"
   },
   {
    "duration": 808,
    "start_time": "2023-02-20T13:33:05.472Z"
   },
   {
    "duration": 6,
    "start_time": "2023-02-20T13:33:23.812Z"
   },
   {
    "duration": 673,
    "start_time": "2023-02-20T13:33:23.820Z"
   },
   {
    "duration": 214,
    "start_time": "2023-02-20T13:33:24.495Z"
   },
   {
    "duration": 125,
    "start_time": "2023-02-20T13:33:24.711Z"
   },
   {
    "duration": 251,
    "start_time": "2023-02-20T13:33:24.837Z"
   },
   {
    "duration": 3,
    "start_time": "2023-02-20T13:33:25.092Z"
   },
   {
    "duration": 49,
    "start_time": "2023-02-20T13:33:25.097Z"
   },
   {
    "duration": 19,
    "start_time": "2023-02-20T13:33:25.148Z"
   },
   {
    "duration": 49,
    "start_time": "2023-02-20T13:33:25.193Z"
   },
   {
    "duration": 21,
    "start_time": "2023-02-20T13:33:25.243Z"
   },
   {
    "duration": 76,
    "start_time": "2023-02-20T13:33:25.266Z"
   },
   {
    "duration": 248,
    "start_time": "2023-02-20T13:33:25.344Z"
   },
   {
    "duration": 4,
    "start_time": "2023-02-20T13:33:25.594Z"
   },
   {
    "duration": 34,
    "start_time": "2023-02-20T13:33:25.600Z"
   },
   {
    "duration": 31,
    "start_time": "2023-02-20T13:33:25.635Z"
   },
   {
    "duration": 14,
    "start_time": "2023-02-20T13:33:25.667Z"
   },
   {
    "duration": 26,
    "start_time": "2023-02-20T13:33:25.683Z"
   },
   {
    "duration": 14,
    "start_time": "2023-02-20T13:33:25.710Z"
   },
   {
    "duration": 23,
    "start_time": "2023-02-20T13:33:25.725Z"
   },
   {
    "duration": 882,
    "start_time": "2023-02-20T13:33:25.750Z"
   },
   {
    "duration": 749,
    "start_time": "2023-02-20T13:33:26.634Z"
   },
   {
    "duration": 775,
    "start_time": "2023-02-20T13:33:27.385Z"
   },
   {
    "duration": 754,
    "start_time": "2023-02-20T13:33:28.162Z"
   },
   {
    "duration": 744,
    "start_time": "2023-02-20T13:33:28.919Z"
   },
   {
    "duration": 721,
    "start_time": "2023-02-20T13:33:29.665Z"
   },
   {
    "duration": 4,
    "start_time": "2023-02-20T13:33:30.390Z"
   },
   {
    "duration": 29,
    "start_time": "2023-02-20T13:33:30.395Z"
   },
   {
    "duration": 34,
    "start_time": "2023-02-20T13:33:30.426Z"
   },
   {
    "duration": 785,
    "start_time": "2023-02-20T13:33:30.462Z"
   },
   {
    "duration": 2,
    "start_time": "2023-02-20T13:33:31.249Z"
   },
   {
    "duration": 454,
    "start_time": "2023-02-20T13:33:31.253Z"
   },
   {
    "duration": 445,
    "start_time": "2023-02-20T13:33:31.711Z"
   },
   {
    "duration": 6,
    "start_time": "2023-02-20T13:33:32.158Z"
   },
   {
    "duration": 464,
    "start_time": "2023-02-20T13:33:32.166Z"
   },
   {
    "duration": 590,
    "start_time": "2023-02-20T13:33:32.631Z"
   },
   {
    "duration": 5,
    "start_time": "2023-02-20T13:33:33.223Z"
   },
   {
    "duration": 5,
    "start_time": "2023-02-20T13:33:33.230Z"
   },
   {
    "duration": 1883,
    "start_time": "2023-02-20T13:33:33.237Z"
   },
   {
    "duration": 2027,
    "start_time": "2023-02-20T13:38:44.830Z"
   },
   {
    "duration": 2010,
    "start_time": "2023-02-20T13:39:28.064Z"
   },
   {
    "duration": 2010,
    "start_time": "2023-02-20T13:39:57.583Z"
   },
   {
    "duration": 53,
    "start_time": "2023-02-20T13:44:22.508Z"
   },
   {
    "duration": 682,
    "start_time": "2023-02-20T13:44:26.923Z"
   },
   {
    "duration": 9,
    "start_time": "2023-02-20T13:44:47.251Z"
   },
   {
    "duration": 4,
    "start_time": "2023-02-20T13:44:50.235Z"
   },
   {
    "duration": 16,
    "start_time": "2023-02-20T13:45:21.315Z"
   },
   {
    "duration": 766,
    "start_time": "2023-02-20T13:47:55.656Z"
   },
   {
    "duration": 7,
    "start_time": "2023-02-20T13:48:23.880Z"
   },
   {
    "duration": 3,
    "start_time": "2023-02-20T13:50:43.108Z"
   },
   {
    "duration": 14,
    "start_time": "2023-02-20T13:52:55.118Z"
   },
   {
    "duration": 4,
    "start_time": "2023-02-20T13:52:56.220Z"
   },
   {
    "duration": 9,
    "start_time": "2023-02-20T13:52:56.876Z"
   },
   {
    "duration": 17,
    "start_time": "2023-02-20T13:53:04.358Z"
   },
   {
    "duration": 10,
    "start_time": "2023-02-20T13:53:39.338Z"
   },
   {
    "duration": 724,
    "start_time": "2023-02-20T13:54:09.023Z"
   },
   {
    "duration": 28,
    "start_time": "2023-02-20T13:54:20.815Z"
   },
   {
    "duration": 20,
    "start_time": "2023-02-20T13:54:30.981Z"
   },
   {
    "duration": 44,
    "start_time": "2023-02-20T13:54:34.098Z"
   },
   {
    "duration": 4,
    "start_time": "2023-02-20T13:54:46.224Z"
   },
   {
    "duration": 4,
    "start_time": "2023-02-20T13:54:49.246Z"
   },
   {
    "duration": 12,
    "start_time": "2023-02-20T13:55:20.025Z"
   },
   {
    "duration": 11,
    "start_time": "2023-02-20T13:55:28.281Z"
   },
   {
    "duration": 15,
    "start_time": "2023-02-20T13:55:42.096Z"
   },
   {
    "duration": 17,
    "start_time": "2023-02-20T13:55:46.179Z"
   },
   {
    "duration": 17,
    "start_time": "2023-02-20T13:56:59.010Z"
   },
   {
    "duration": 812,
    "start_time": "2023-02-20T13:57:05.979Z"
   },
   {
    "duration": 869,
    "start_time": "2023-02-20T13:57:14.519Z"
   },
   {
    "duration": 876,
    "start_time": "2023-02-20T13:57:31.276Z"
   },
   {
    "duration": 536,
    "start_time": "2023-02-20T13:57:43.539Z"
   },
   {
    "duration": 1239,
    "start_time": "2023-02-20T13:58:08.533Z"
   },
   {
    "duration": 1364,
    "start_time": "2023-02-20T13:58:14.844Z"
   },
   {
    "duration": 907,
    "start_time": "2023-02-20T13:58:21.572Z"
   },
   {
    "duration": 51,
    "start_time": "2023-02-20T14:00:47.520Z"
   },
   {
    "duration": 3,
    "start_time": "2023-02-20T14:01:05.759Z"
   },
   {
    "duration": 2,
    "start_time": "2023-02-20T14:01:06.752Z"
   },
   {
    "duration": 12,
    "start_time": "2023-02-20T14:01:08.352Z"
   },
   {
    "duration": 9,
    "start_time": "2023-02-20T14:01:12.440Z"
   },
   {
    "duration": 13,
    "start_time": "2023-02-20T14:01:15.641Z"
   },
   {
    "duration": 14,
    "start_time": "2023-02-20T14:02:36.629Z"
   },
   {
    "duration": 12,
    "start_time": "2023-02-20T14:03:12.098Z"
   },
   {
    "duration": 9,
    "start_time": "2023-02-20T14:04:00.827Z"
   },
   {
    "duration": 3,
    "start_time": "2023-02-20T14:04:05.098Z"
   },
   {
    "duration": 4,
    "start_time": "2023-02-20T14:04:09.547Z"
   },
   {
    "duration": 12,
    "start_time": "2023-02-20T14:04:24.884Z"
   },
   {
    "duration": 14,
    "start_time": "2023-02-20T14:06:06.620Z"
   },
   {
    "duration": 13,
    "start_time": "2023-02-20T14:07:50.559Z"
   },
   {
    "duration": 5131,
    "start_time": "2023-02-20T14:08:17.987Z"
   },
   {
    "duration": 3,
    "start_time": "2023-02-20T14:08:37.889Z"
   },
   {
    "duration": 11,
    "start_time": "2023-02-20T14:08:42.327Z"
   },
   {
    "duration": 13,
    "start_time": "2023-02-20T14:08:47.096Z"
   },
   {
    "duration": 13,
    "start_time": "2023-02-20T14:08:53.962Z"
   },
   {
    "duration": 8,
    "start_time": "2023-02-20T14:08:56.287Z"
   },
   {
    "duration": 11,
    "start_time": "2023-02-20T14:09:04.850Z"
   },
   {
    "duration": 4,
    "start_time": "2023-02-20T14:10:07.737Z"
   },
   {
    "duration": 12,
    "start_time": "2023-02-20T14:10:53.146Z"
   },
   {
    "duration": 4,
    "start_time": "2023-02-20T14:11:01.027Z"
   },
   {
    "duration": 7,
    "start_time": "2023-02-20T14:11:05.834Z"
   },
   {
    "duration": 6,
    "start_time": "2023-02-20T14:11:17.410Z"
   },
   {
    "duration": 7,
    "start_time": "2023-02-20T14:11:33.077Z"
   },
   {
    "duration": 12,
    "start_time": "2023-02-20T14:11:41.375Z"
   },
   {
    "duration": 29,
    "start_time": "2023-02-20T14:11:49.586Z"
   },
   {
    "duration": 12,
    "start_time": "2023-02-20T14:11:54.428Z"
   },
   {
    "duration": 10,
    "start_time": "2023-02-20T14:12:02.715Z"
   },
   {
    "duration": 5,
    "start_time": "2023-02-20T14:12:39.375Z"
   },
   {
    "duration": 4,
    "start_time": "2023-02-20T14:12:53.700Z"
   },
   {
    "duration": 4,
    "start_time": "2023-02-20T14:13:23.205Z"
   },
   {
    "duration": 11,
    "start_time": "2023-02-20T14:14:21.710Z"
   },
   {
    "duration": 4,
    "start_time": "2023-02-20T14:15:03.697Z"
   },
   {
    "duration": 5,
    "start_time": "2023-02-20T14:15:09.561Z"
   },
   {
    "duration": 24,
    "start_time": "2023-02-20T14:15:17.623Z"
   },
   {
    "duration": 10,
    "start_time": "2023-02-20T14:15:22.116Z"
   },
   {
    "duration": 15,
    "start_time": "2023-02-20T14:15:32.815Z"
   },
   {
    "duration": 13,
    "start_time": "2023-02-20T14:16:07.801Z"
   },
   {
    "duration": 13,
    "start_time": "2023-02-20T14:18:08.090Z"
   },
   {
    "duration": 16,
    "start_time": "2023-02-20T14:18:17.484Z"
   },
   {
    "duration": 18,
    "start_time": "2023-02-20T14:19:53.284Z"
   },
   {
    "duration": 6,
    "start_time": "2023-02-20T14:20:23.141Z"
   },
   {
    "duration": 653,
    "start_time": "2023-02-20T14:20:23.148Z"
   },
   {
    "duration": 231,
    "start_time": "2023-02-20T14:20:23.803Z"
   },
   {
    "duration": 131,
    "start_time": "2023-02-20T14:20:24.036Z"
   },
   {
    "duration": 236,
    "start_time": "2023-02-20T14:20:24.168Z"
   },
   {
    "duration": 3,
    "start_time": "2023-02-20T14:20:24.406Z"
   },
   {
    "duration": 53,
    "start_time": "2023-02-20T14:20:24.411Z"
   },
   {
    "duration": 39,
    "start_time": "2023-02-20T14:20:24.466Z"
   },
   {
    "duration": 52,
    "start_time": "2023-02-20T14:20:24.508Z"
   },
   {
    "duration": 38,
    "start_time": "2023-02-20T14:20:24.561Z"
   },
   {
    "duration": 53,
    "start_time": "2023-02-20T14:20:24.601Z"
   },
   {
    "duration": 218,
    "start_time": "2023-02-20T14:20:24.655Z"
   },
   {
    "duration": 3,
    "start_time": "2023-02-20T14:20:24.874Z"
   },
   {
    "duration": 20,
    "start_time": "2023-02-20T14:20:24.879Z"
   },
   {
    "duration": 16,
    "start_time": "2023-02-20T14:20:24.900Z"
   },
   {
    "duration": 12,
    "start_time": "2023-02-20T14:20:24.917Z"
   },
   {
    "duration": 11,
    "start_time": "2023-02-20T14:20:24.930Z"
   },
   {
    "duration": 8,
    "start_time": "2023-02-20T14:20:24.942Z"
   },
   {
    "duration": 5,
    "start_time": "2023-02-20T14:20:24.951Z"
   },
   {
    "duration": 703,
    "start_time": "2023-02-20T14:20:24.958Z"
   },
   {
    "duration": 956,
    "start_time": "2023-02-20T14:20:25.663Z"
   },
   {
    "duration": 762,
    "start_time": "2023-02-20T14:20:26.620Z"
   },
   {
    "duration": 739,
    "start_time": "2023-02-20T14:20:27.391Z"
   },
   {
    "duration": 725,
    "start_time": "2023-02-20T14:20:28.134Z"
   },
   {
    "duration": 735,
    "start_time": "2023-02-20T14:20:28.861Z"
   },
   {
    "duration": 3,
    "start_time": "2023-02-20T14:20:29.599Z"
   },
   {
    "duration": 27,
    "start_time": "2023-02-20T14:20:29.603Z"
   },
   {
    "duration": 20,
    "start_time": "2023-02-20T14:20:29.632Z"
   },
   {
    "duration": 730,
    "start_time": "2023-02-20T14:20:29.654Z"
   },
   {
    "duration": 3,
    "start_time": "2023-02-20T14:20:30.390Z"
   },
   {
    "duration": 407,
    "start_time": "2023-02-20T14:20:30.394Z"
   },
   {
    "duration": 420,
    "start_time": "2023-02-20T14:20:30.802Z"
   },
   {
    "duration": 5,
    "start_time": "2023-02-20T14:20:31.224Z"
   },
   {
    "duration": 496,
    "start_time": "2023-02-20T14:20:31.231Z"
   },
   {
    "duration": 594,
    "start_time": "2023-02-20T14:20:31.729Z"
   },
   {
    "duration": 6,
    "start_time": "2023-02-20T14:20:32.325Z"
   },
   {
    "duration": 8,
    "start_time": "2023-02-20T14:20:32.333Z"
   },
   {
    "duration": 1919,
    "start_time": "2023-02-20T14:20:32.343Z"
   },
   {
    "duration": 1925,
    "start_time": "2023-02-20T14:20:34.263Z"
   },
   {
    "duration": 2065,
    "start_time": "2023-02-20T14:20:36.191Z"
   },
   {
    "duration": 1943,
    "start_time": "2023-02-20T14:20:38.257Z"
   },
   {
    "duration": 3,
    "start_time": "2023-02-20T14:20:40.202Z"
   },
   {
    "duration": 12,
    "start_time": "2023-02-20T14:20:40.206Z"
   },
   {
    "duration": 24,
    "start_time": "2023-02-20T14:20:40.220Z"
   },
   {
    "duration": 17,
    "start_time": "2023-02-20T14:20:40.246Z"
   },
   {
    "duration": 735,
    "start_time": "2023-02-20T14:20:40.265Z"
   },
   {
    "duration": 182,
    "start_time": "2023-02-20T14:20:41.002Z"
   },
   {
    "duration": 7,
    "start_time": "2023-02-20T14:20:41.185Z"
   },
   {
    "duration": 9,
    "start_time": "2023-02-20T14:20:41.194Z"
   },
   {
    "duration": 5,
    "start_time": "2023-02-20T14:20:47.476Z"
   },
   {
    "duration": 12,
    "start_time": "2023-02-20T14:20:49.918Z"
   },
   {
    "duration": 12,
    "start_time": "2023-02-20T14:21:00.574Z"
   },
   {
    "duration": 5,
    "start_time": "2023-02-20T14:23:30.274Z"
   },
   {
    "duration": 8,
    "start_time": "2023-02-20T14:23:31.671Z"
   },
   {
    "duration": 16,
    "start_time": "2023-02-20T14:23:36.320Z"
   },
   {
    "duration": 6,
    "start_time": "2023-02-20T14:23:41.588Z"
   },
   {
    "duration": 11,
    "start_time": "2023-02-20T14:23:43.024Z"
   },
   {
    "duration": 12,
    "start_time": "2023-02-20T14:23:44.409Z"
   },
   {
    "duration": 28,
    "start_time": "2023-02-20T14:34:59.511Z"
   },
   {
    "duration": 11,
    "start_time": "2023-02-20T14:35:03.592Z"
   },
   {
    "duration": 14,
    "start_time": "2023-02-20T14:35:20.055Z"
   },
   {
    "duration": 13,
    "start_time": "2023-02-20T14:35:28.008Z"
   },
   {
    "duration": 5,
    "start_time": "2023-02-20T14:36:58.787Z"
   },
   {
    "duration": 6,
    "start_time": "2023-02-20T14:37:04.699Z"
   },
   {
    "duration": 680,
    "start_time": "2023-02-20T14:37:04.707Z"
   },
   {
    "duration": 231,
    "start_time": "2023-02-20T14:37:05.391Z"
   },
   {
    "duration": 135,
    "start_time": "2023-02-20T14:37:05.625Z"
   },
   {
    "duration": 258,
    "start_time": "2023-02-20T14:37:05.763Z"
   },
   {
    "duration": 4,
    "start_time": "2023-02-20T14:37:06.024Z"
   },
   {
    "duration": 73,
    "start_time": "2023-02-20T14:37:06.030Z"
   },
   {
    "duration": 20,
    "start_time": "2023-02-20T14:37:06.105Z"
   },
   {
    "duration": 76,
    "start_time": "2023-02-20T14:37:06.126Z"
   },
   {
    "duration": 20,
    "start_time": "2023-02-20T14:37:06.204Z"
   },
   {
    "duration": 80,
    "start_time": "2023-02-20T14:37:06.228Z"
   },
   {
    "duration": 274,
    "start_time": "2023-02-20T14:37:06.310Z"
   },
   {
    "duration": 4,
    "start_time": "2023-02-20T14:37:06.591Z"
   },
   {
    "duration": 27,
    "start_time": "2023-02-20T14:37:06.596Z"
   },
   {
    "duration": 10,
    "start_time": "2023-02-20T14:37:06.624Z"
   },
   {
    "duration": 9,
    "start_time": "2023-02-20T14:37:06.635Z"
   },
   {
    "duration": 10,
    "start_time": "2023-02-20T14:37:06.645Z"
   },
   {
    "duration": 12,
    "start_time": "2023-02-20T14:37:06.657Z"
   },
   {
    "duration": 6,
    "start_time": "2023-02-20T14:37:06.671Z"
   },
   {
    "duration": 718,
    "start_time": "2023-02-20T14:37:06.678Z"
   },
   {
    "duration": 799,
    "start_time": "2023-02-20T14:37:07.398Z"
   },
   {
    "duration": 763,
    "start_time": "2023-02-20T14:37:08.199Z"
   },
   {
    "duration": 627,
    "start_time": "2023-02-20T14:37:08.964Z"
   },
   {
    "duration": 981,
    "start_time": "2023-02-20T14:37:09.593Z"
   },
   {
    "duration": 597,
    "start_time": "2023-02-20T14:37:10.576Z"
   },
   {
    "duration": 3,
    "start_time": "2023-02-20T14:37:11.175Z"
   },
   {
    "duration": 30,
    "start_time": "2023-02-20T14:37:11.180Z"
   },
   {
    "duration": 16,
    "start_time": "2023-02-20T14:37:11.212Z"
   },
   {
    "duration": 1162,
    "start_time": "2023-02-20T14:37:11.232Z"
   },
   {
    "duration": 3,
    "start_time": "2023-02-20T14:37:12.396Z"
   },
   {
    "duration": 414,
    "start_time": "2023-02-20T14:37:12.400Z"
   },
   {
    "duration": 396,
    "start_time": "2023-02-20T14:37:12.816Z"
   },
   {
    "duration": 6,
    "start_time": "2023-02-20T14:37:13.214Z"
   },
   {
    "duration": 501,
    "start_time": "2023-02-20T14:37:13.222Z"
   },
   {
    "duration": 509,
    "start_time": "2023-02-20T14:37:13.724Z"
   },
   {
    "duration": 7,
    "start_time": "2023-02-20T14:37:14.235Z"
   },
   {
    "duration": 6,
    "start_time": "2023-02-20T14:37:14.244Z"
   },
   {
    "duration": 2054,
    "start_time": "2023-02-20T14:37:14.251Z"
   },
   {
    "duration": 2008,
    "start_time": "2023-02-20T14:37:16.307Z"
   },
   {
    "duration": 2103,
    "start_time": "2023-02-20T14:37:18.316Z"
   },
   {
    "duration": 2239,
    "start_time": "2023-02-20T14:37:20.421Z"
   },
   {
    "duration": 3,
    "start_time": "2023-02-20T14:37:22.662Z"
   },
   {
    "duration": 15,
    "start_time": "2023-02-20T14:37:22.667Z"
   },
   {
    "duration": 27,
    "start_time": "2023-02-20T14:37:22.684Z"
   },
   {
    "duration": 14,
    "start_time": "2023-02-20T14:37:22.713Z"
   },
   {
    "duration": 804,
    "start_time": "2023-02-20T14:37:22.729Z"
   },
   {
    "duration": 59,
    "start_time": "2023-02-20T14:37:23.535Z"
   },
   {
    "duration": 4,
    "start_time": "2023-02-20T14:37:23.595Z"
   },
   {
    "duration": 9,
    "start_time": "2023-02-20T14:37:23.600Z"
   },
   {
    "duration": 4,
    "start_time": "2023-02-20T14:38:24.212Z"
   },
   {
    "duration": 9,
    "start_time": "2023-02-20T14:40:13.476Z"
   },
   {
    "duration": 5,
    "start_time": "2023-02-20T14:40:21.373Z"
   },
   {
    "duration": 4,
    "start_time": "2023-02-20T14:40:37.518Z"
   },
   {
    "duration": 4,
    "start_time": "2023-02-20T14:40:44.077Z"
   },
   {
    "duration": 10,
    "start_time": "2023-02-20T14:40:58.845Z"
   },
   {
    "duration": 6,
    "start_time": "2023-02-20T14:41:02.077Z"
   },
   {
    "duration": 3,
    "start_time": "2023-02-20T14:41:54.064Z"
   },
   {
    "duration": 5,
    "start_time": "2023-02-20T14:42:24.391Z"
   },
   {
    "duration": 12,
    "start_time": "2023-02-20T14:42:27.975Z"
   },
   {
    "duration": 7,
    "start_time": "2023-02-20T14:42:41.648Z"
   },
   {
    "duration": 6,
    "start_time": "2023-02-20T14:42:42.559Z"
   },
   {
    "duration": 7,
    "start_time": "2023-02-20T14:43:27.292Z"
   },
   {
    "duration": 7,
    "start_time": "2023-02-20T14:43:31.546Z"
   },
   {
    "duration": 4,
    "start_time": "2023-02-20T14:43:32.792Z"
   },
   {
    "duration": 5,
    "start_time": "2023-02-20T14:43:34.113Z"
   },
   {
    "duration": 2,
    "start_time": "2023-02-20T14:44:19.425Z"
   },
   {
    "duration": 2,
    "start_time": "2023-02-20T14:44:23.097Z"
   },
   {
    "duration": 3,
    "start_time": "2023-02-20T14:44:24.113Z"
   },
   {
    "duration": 2952,
    "start_time": "2023-02-20T14:44:25.739Z"
   },
   {
    "duration": 3,
    "start_time": "2023-02-20T14:44:34.475Z"
   },
   {
    "duration": 102552,
    "start_time": "2023-02-20T14:44:37.241Z"
   },
   {
    "duration": 13,
    "start_time": "2023-02-20T14:46:37.900Z"
   },
   {
    "duration": 2,
    "start_time": "2023-02-20T14:46:45.460Z"
   },
   {
    "duration": 12,
    "start_time": "2023-02-20T14:47:14.017Z"
   },
   {
    "duration": 12,
    "start_time": "2023-02-20T14:47:39.605Z"
   },
   {
    "duration": 722,
    "start_time": "2023-02-20T14:47:55.648Z"
   },
   {
    "duration": 19,
    "start_time": "2023-02-20T14:48:06.213Z"
   },
   {
    "duration": 14,
    "start_time": "2023-02-20T14:48:18.222Z"
   },
   {
    "duration": 6,
    "start_time": "2023-02-20T14:48:36.494Z"
   },
   {
    "duration": 15,
    "start_time": "2023-02-20T14:49:20.759Z"
   },
   {
    "duration": 33,
    "start_time": "2023-02-20T14:49:32.651Z"
   },
   {
    "duration": 611,
    "start_time": "2023-02-20T14:51:15.360Z"
   },
   {
    "duration": 17,
    "start_time": "2023-02-20T14:51:17.321Z"
   },
   {
    "duration": 14,
    "start_time": "2023-02-20T14:51:22.057Z"
   },
   {
    "duration": 18,
    "start_time": "2023-02-20T14:51:24.682Z"
   },
   {
    "duration": 218,
    "start_time": "2023-02-20T14:51:36.033Z"
   },
   {
    "duration": 5,
    "start_time": "2023-02-20T14:51:53.428Z"
   },
   {
    "duration": 785,
    "start_time": "2023-02-20T14:51:53.435Z"
   },
   {
    "duration": 23,
    "start_time": "2023-02-20T14:51:54.223Z"
   },
   {
    "duration": 33,
    "start_time": "2023-02-20T14:51:54.249Z"
   },
   {
    "duration": 23,
    "start_time": "2023-02-20T14:51:54.285Z"
   },
   {
    "duration": 230,
    "start_time": "2023-02-20T14:51:54.309Z"
   },
   {
    "duration": 125,
    "start_time": "2023-02-20T14:51:54.542Z"
   },
   {
    "duration": 235,
    "start_time": "2023-02-20T14:51:54.668Z"
   },
   {
    "duration": 4,
    "start_time": "2023-02-20T14:51:54.905Z"
   },
   {
    "duration": 45,
    "start_time": "2023-02-20T14:51:54.911Z"
   },
   {
    "duration": 36,
    "start_time": "2023-02-20T14:51:54.958Z"
   },
   {
    "duration": 51,
    "start_time": "2023-02-20T14:51:54.996Z"
   },
   {
    "duration": 42,
    "start_time": "2023-02-20T14:51:55.049Z"
   },
   {
    "duration": 51,
    "start_time": "2023-02-20T14:51:55.093Z"
   },
   {
    "duration": 219,
    "start_time": "2023-02-20T14:51:55.146Z"
   },
   {
    "duration": 4,
    "start_time": "2023-02-20T14:51:55.367Z"
   },
   {
    "duration": 18,
    "start_time": "2023-02-20T14:51:55.373Z"
   },
   {
    "duration": 6,
    "start_time": "2023-02-20T14:51:55.393Z"
   },
   {
    "duration": 12,
    "start_time": "2023-02-20T14:51:55.401Z"
   },
   {
    "duration": 6,
    "start_time": "2023-02-20T14:51:55.415Z"
   },
   {
    "duration": 10,
    "start_time": "2023-02-20T14:51:55.423Z"
   },
   {
    "duration": 7,
    "start_time": "2023-02-20T14:51:55.435Z"
   },
   {
    "duration": 920,
    "start_time": "2023-02-20T14:51:55.444Z"
   },
   {
    "duration": 776,
    "start_time": "2023-02-20T14:51:56.366Z"
   },
   {
    "duration": 870,
    "start_time": "2023-02-20T14:51:57.144Z"
   },
   {
    "duration": 592,
    "start_time": "2023-02-20T14:51:58.016Z"
   },
   {
    "duration": 892,
    "start_time": "2023-02-20T14:51:58.610Z"
   },
   {
    "duration": 583,
    "start_time": "2023-02-20T14:51:59.504Z"
   },
   {
    "duration": 3,
    "start_time": "2023-02-20T14:52:00.091Z"
   },
   {
    "duration": 35,
    "start_time": "2023-02-20T14:52:00.096Z"
   },
   {
    "duration": 10,
    "start_time": "2023-02-20T14:52:00.133Z"
   },
   {
    "duration": 714,
    "start_time": "2023-02-20T14:52:00.144Z"
   },
   {
    "duration": 3,
    "start_time": "2023-02-20T14:52:00.860Z"
   },
   {
    "duration": 437,
    "start_time": "2023-02-20T14:52:00.865Z"
   },
   {
    "duration": 729,
    "start_time": "2023-02-20T14:52:01.304Z"
   },
   {
    "duration": 6,
    "start_time": "2023-02-20T14:52:02.034Z"
   },
   {
    "duration": 498,
    "start_time": "2023-02-20T14:52:02.042Z"
   },
   {
    "duration": 493,
    "start_time": "2023-02-20T14:52:02.542Z"
   },
   {
    "duration": 5,
    "start_time": "2023-02-20T14:52:03.036Z"
   },
   {
    "duration": 14,
    "start_time": "2023-02-20T14:52:03.043Z"
   },
   {
    "duration": 1975,
    "start_time": "2023-02-20T14:52:03.058Z"
   },
   {
    "duration": 2002,
    "start_time": "2023-02-20T14:52:05.035Z"
   },
   {
    "duration": 2047,
    "start_time": "2023-02-20T14:52:07.039Z"
   },
   {
    "duration": 2010,
    "start_time": "2023-02-20T14:52:09.091Z"
   },
   {
    "duration": 3,
    "start_time": "2023-02-20T14:52:11.103Z"
   },
   {
    "duration": 12,
    "start_time": "2023-02-20T14:52:11.108Z"
   },
   {
    "duration": 28,
    "start_time": "2023-02-20T14:52:11.122Z"
   },
   {
    "duration": 41,
    "start_time": "2023-02-20T14:52:11.152Z"
   },
   {
    "duration": 857,
    "start_time": "2023-02-20T14:52:11.194Z"
   },
   {
    "duration": 52,
    "start_time": "2023-02-20T14:52:12.053Z"
   },
   {
    "duration": 3,
    "start_time": "2023-02-20T14:52:12.106Z"
   },
   {
    "duration": 9,
    "start_time": "2023-02-20T14:52:12.110Z"
   },
   {
    "duration": 9,
    "start_time": "2023-02-20T14:52:22.730Z"
   },
   {
    "duration": 12,
    "start_time": "2023-02-20T14:52:28.364Z"
   },
   {
    "duration": 14,
    "start_time": "2023-02-20T14:53:08.859Z"
   },
   {
    "duration": 6,
    "start_time": "2023-02-20T14:53:11.503Z"
   },
   {
    "duration": 681,
    "start_time": "2023-02-20T14:53:11.511Z"
   },
   {
    "duration": 16,
    "start_time": "2023-02-20T14:53:12.194Z"
   },
   {
    "duration": 11,
    "start_time": "2023-02-20T14:53:12.211Z"
   },
   {
    "duration": 16,
    "start_time": "2023-02-20T14:53:12.224Z"
   },
   {
    "duration": 236,
    "start_time": "2023-02-20T14:53:12.241Z"
   },
   {
    "duration": 123,
    "start_time": "2023-02-20T14:53:12.478Z"
   },
   {
    "duration": 236,
    "start_time": "2023-02-20T14:53:12.603Z"
   },
   {
    "duration": 3,
    "start_time": "2023-02-20T14:53:12.841Z"
   },
   {
    "duration": 56,
    "start_time": "2023-02-20T14:53:12.846Z"
   },
   {
    "duration": 16,
    "start_time": "2023-02-20T14:53:12.903Z"
   },
   {
    "duration": 42,
    "start_time": "2023-02-20T14:53:12.920Z"
   },
   {
    "duration": 44,
    "start_time": "2023-02-20T14:53:12.964Z"
   },
   {
    "duration": 50,
    "start_time": "2023-02-20T14:53:13.010Z"
   },
   {
    "duration": 222,
    "start_time": "2023-02-20T14:53:13.061Z"
   },
   {
    "duration": 3,
    "start_time": "2023-02-20T14:53:13.291Z"
   },
   {
    "duration": 7,
    "start_time": "2023-02-20T14:53:13.296Z"
   },
   {
    "duration": 9,
    "start_time": "2023-02-20T14:53:13.305Z"
   },
   {
    "duration": 5,
    "start_time": "2023-02-20T14:53:13.315Z"
   },
   {
    "duration": 5,
    "start_time": "2023-02-20T14:53:13.321Z"
   },
   {
    "duration": 7,
    "start_time": "2023-02-20T14:53:13.328Z"
   },
   {
    "duration": 17,
    "start_time": "2023-02-20T14:53:15.436Z"
   },
   {
    "duration": 17,
    "start_time": "2023-02-20T14:53:44.635Z"
   },
   {
    "duration": 5,
    "start_time": "2023-02-20T14:53:47.167Z"
   },
   {
    "duration": 743,
    "start_time": "2023-02-20T14:53:47.175Z"
   },
   {
    "duration": 16,
    "start_time": "2023-02-20T14:53:47.920Z"
   },
   {
    "duration": 10,
    "start_time": "2023-02-20T14:53:47.938Z"
   },
   {
    "duration": 17,
    "start_time": "2023-02-20T14:53:47.950Z"
   },
   {
    "duration": 228,
    "start_time": "2023-02-20T14:53:47.969Z"
   },
   {
    "duration": 123,
    "start_time": "2023-02-20T14:53:48.199Z"
   },
   {
    "duration": 248,
    "start_time": "2023-02-20T14:53:48.324Z"
   },
   {
    "duration": 4,
    "start_time": "2023-02-20T14:53:48.573Z"
   },
   {
    "duration": 47,
    "start_time": "2023-02-20T14:53:48.578Z"
   },
   {
    "duration": 15,
    "start_time": "2023-02-20T14:53:48.628Z"
   },
   {
    "duration": 66,
    "start_time": "2023-02-20T14:53:48.645Z"
   },
   {
    "duration": 22,
    "start_time": "2023-02-20T14:53:48.713Z"
   },
   {
    "duration": 66,
    "start_time": "2023-02-20T14:53:48.736Z"
   },
   {
    "duration": 206,
    "start_time": "2023-02-20T14:53:48.804Z"
   },
   {
    "duration": 3,
    "start_time": "2023-02-20T14:53:49.012Z"
   },
   {
    "duration": 10,
    "start_time": "2023-02-20T14:53:49.017Z"
   },
   {
    "duration": 10,
    "start_time": "2023-02-20T14:53:49.028Z"
   },
   {
    "duration": 8,
    "start_time": "2023-02-20T14:53:49.039Z"
   },
   {
    "duration": 6,
    "start_time": "2023-02-20T14:53:49.048Z"
   },
   {
    "duration": 8,
    "start_time": "2023-02-20T14:53:49.055Z"
   },
   {
    "duration": 14,
    "start_time": "2023-02-20T14:53:49.065Z"
   },
   {
    "duration": 879,
    "start_time": "2023-02-20T14:53:49.080Z"
   },
   {
    "duration": 573,
    "start_time": "2023-02-20T14:53:49.960Z"
   },
   {
    "duration": 700,
    "start_time": "2023-02-20T14:53:50.535Z"
   },
   {
    "duration": 784,
    "start_time": "2023-02-20T14:53:51.237Z"
   },
   {
    "duration": 743,
    "start_time": "2023-02-20T14:53:52.023Z"
   },
   {
    "duration": 818,
    "start_time": "2023-02-20T14:53:52.768Z"
   },
   {
    "duration": 4,
    "start_time": "2023-02-20T14:53:53.590Z"
   },
   {
    "duration": 17,
    "start_time": "2023-02-20T14:53:53.595Z"
   },
   {
    "duration": 12,
    "start_time": "2023-02-20T14:53:53.614Z"
   },
   {
    "duration": 763,
    "start_time": "2023-02-20T14:53:53.628Z"
   },
   {
    "duration": 3,
    "start_time": "2023-02-20T14:53:54.393Z"
   },
   {
    "duration": 406,
    "start_time": "2023-02-20T14:53:54.398Z"
   },
   {
    "duration": 418,
    "start_time": "2023-02-20T14:53:54.806Z"
   },
   {
    "duration": 5,
    "start_time": "2023-02-20T14:53:55.226Z"
   },
   {
    "duration": 505,
    "start_time": "2023-02-20T14:53:55.233Z"
   },
   {
    "duration": 754,
    "start_time": "2023-02-20T14:53:55.740Z"
   },
   {
    "duration": 7,
    "start_time": "2023-02-20T14:53:56.496Z"
   },
   {
    "duration": 16,
    "start_time": "2023-02-20T14:53:58.349Z"
   },
   {
    "duration": 16,
    "start_time": "2023-02-20T14:54:20.029Z"
   },
   {
    "duration": 3,
    "start_time": "2023-02-20T14:54:22.527Z"
   },
   {
    "duration": 16,
    "start_time": "2023-02-20T14:54:26.044Z"
   },
   {
    "duration": 10,
    "start_time": "2023-02-20T14:54:29.246Z"
   },
   {
    "duration": 17,
    "start_time": "2023-02-20T14:54:31.126Z"
   },
   {
    "duration": 27,
    "start_time": "2023-02-20T14:54:33.564Z"
   },
   {
    "duration": 17,
    "start_time": "2023-02-20T14:54:35.989Z"
   },
   {
    "duration": 16,
    "start_time": "2023-02-20T14:54:48.228Z"
   },
   {
    "duration": 14,
    "start_time": "2023-02-20T14:54:50.254Z"
   },
   {
    "duration": 6,
    "start_time": "2023-02-20T14:55:40.912Z"
   },
   {
    "duration": 678,
    "start_time": "2023-02-20T14:55:40.921Z"
   },
   {
    "duration": 15,
    "start_time": "2023-02-20T14:55:41.601Z"
   },
   {
    "duration": 11,
    "start_time": "2023-02-20T14:55:41.618Z"
   },
   {
    "duration": 16,
    "start_time": "2023-02-20T14:55:41.631Z"
   },
   {
    "duration": 250,
    "start_time": "2023-02-20T14:55:41.649Z"
   },
   {
    "duration": 131,
    "start_time": "2023-02-20T14:55:41.900Z"
   },
   {
    "duration": 238,
    "start_time": "2023-02-20T14:55:42.032Z"
   },
   {
    "duration": 4,
    "start_time": "2023-02-20T14:55:42.272Z"
   },
   {
    "duration": 62,
    "start_time": "2023-02-20T14:55:42.277Z"
   },
   {
    "duration": 16,
    "start_time": "2023-02-20T14:55:42.340Z"
   },
   {
    "duration": 74,
    "start_time": "2023-02-20T14:55:42.357Z"
   },
   {
    "duration": 19,
    "start_time": "2023-02-20T14:55:42.432Z"
   },
   {
    "duration": 67,
    "start_time": "2023-02-20T14:55:42.453Z"
   },
   {
    "duration": 215,
    "start_time": "2023-02-20T14:55:42.521Z"
   },
   {
    "duration": 3,
    "start_time": "2023-02-20T14:55:42.737Z"
   },
   {
    "duration": 7,
    "start_time": "2023-02-20T14:55:42.742Z"
   },
   {
    "duration": 7,
    "start_time": "2023-02-20T14:55:42.750Z"
   },
   {
    "duration": 8,
    "start_time": "2023-02-20T14:55:42.759Z"
   },
   {
    "duration": 5,
    "start_time": "2023-02-20T14:55:42.769Z"
   },
   {
    "duration": 19,
    "start_time": "2023-02-20T14:55:42.776Z"
   },
   {
    "duration": 5,
    "start_time": "2023-02-20T14:55:42.796Z"
   },
   {
    "duration": 686,
    "start_time": "2023-02-20T14:55:42.803Z"
   },
   {
    "duration": 729,
    "start_time": "2023-02-20T14:55:43.493Z"
   },
   {
    "duration": 760,
    "start_time": "2023-02-20T14:55:44.224Z"
   },
   {
    "duration": 670,
    "start_time": "2023-02-20T14:55:44.986Z"
   },
   {
    "duration": 1034,
    "start_time": "2023-02-20T14:55:45.658Z"
   },
   {
    "duration": 745,
    "start_time": "2023-02-20T14:55:46.695Z"
   },
   {
    "duration": 4,
    "start_time": "2023-02-20T14:55:47.442Z"
   },
   {
    "duration": 12,
    "start_time": "2023-02-20T14:55:47.448Z"
   },
   {
    "duration": 10,
    "start_time": "2023-02-20T14:55:47.462Z"
   },
   {
    "duration": 981,
    "start_time": "2023-02-20T14:55:47.474Z"
   },
   {
    "duration": 2,
    "start_time": "2023-02-20T14:55:48.458Z"
   },
   {
    "duration": 429,
    "start_time": "2023-02-20T14:55:48.462Z"
   },
   {
    "duration": 434,
    "start_time": "2023-02-20T14:55:48.893Z"
   },
   {
    "duration": 6,
    "start_time": "2023-02-20T14:55:49.329Z"
   },
   {
    "duration": 490,
    "start_time": "2023-02-20T14:55:49.337Z"
   },
   {
    "duration": 489,
    "start_time": "2023-02-20T14:55:49.829Z"
   },
   {
    "duration": 5,
    "start_time": "2023-02-20T14:55:50.320Z"
   },
   {
    "duration": 6,
    "start_time": "2023-02-20T14:55:50.327Z"
   },
   {
    "duration": 2088,
    "start_time": "2023-02-20T14:55:50.335Z"
   },
   {
    "duration": 2084,
    "start_time": "2023-02-20T14:55:52.425Z"
   },
   {
    "duration": 2165,
    "start_time": "2023-02-20T14:55:54.511Z"
   },
   {
    "duration": 2221,
    "start_time": "2023-02-20T14:55:56.678Z"
   },
   {
    "duration": 4,
    "start_time": "2023-02-20T14:55:58.900Z"
   },
   {
    "duration": 14,
    "start_time": "2023-02-20T14:55:58.905Z"
   },
   {
    "duration": 24,
    "start_time": "2023-02-20T14:55:58.920Z"
   },
   {
    "duration": 7,
    "start_time": "2023-02-20T14:56:04.622Z"
   },
   {
    "duration": 31,
    "start_time": "2023-02-20T14:56:08.304Z"
   },
   {
    "duration": 9,
    "start_time": "2023-02-20T14:56:24.975Z"
   },
   {
    "duration": 13,
    "start_time": "2023-02-20T14:56:31.975Z"
   },
   {
    "duration": 27,
    "start_time": "2023-02-20T14:56:35.174Z"
   },
   {
    "duration": 28,
    "start_time": "2023-02-20T14:56:38.639Z"
   },
   {
    "duration": 27,
    "start_time": "2023-02-20T14:56:45.563Z"
   },
   {
    "duration": 15,
    "start_time": "2023-02-20T14:56:49.024Z"
   },
   {
    "duration": 18,
    "start_time": "2023-02-20T14:56:52.374Z"
   },
   {
    "duration": 15,
    "start_time": "2023-02-20T14:56:54.951Z"
   },
   {
    "duration": 14,
    "start_time": "2023-02-20T14:57:39.449Z"
   },
   {
    "duration": 11,
    "start_time": "2023-02-20T14:57:42.864Z"
   },
   {
    "duration": 21,
    "start_time": "2023-02-20T14:57:56.345Z"
   },
   {
    "duration": 25,
    "start_time": "2023-02-20T14:57:57.242Z"
   },
   {
    "duration": 17,
    "start_time": "2023-02-20T14:58:05.736Z"
   },
   {
    "duration": 4,
    "start_time": "2023-02-20T14:58:40.727Z"
   },
   {
    "duration": 680,
    "start_time": "2023-02-20T14:58:40.744Z"
   },
   {
    "duration": 16,
    "start_time": "2023-02-20T14:58:41.426Z"
   },
   {
    "duration": 12,
    "start_time": "2023-02-20T14:58:41.444Z"
   },
   {
    "duration": 36,
    "start_time": "2023-02-20T14:58:41.458Z"
   },
   {
    "duration": 226,
    "start_time": "2023-02-20T14:58:41.496Z"
   },
   {
    "duration": 144,
    "start_time": "2023-02-20T14:58:41.723Z"
   },
   {
    "duration": 245,
    "start_time": "2023-02-20T14:58:41.869Z"
   },
   {
    "duration": 4,
    "start_time": "2023-02-20T14:58:42.116Z"
   },
   {
    "duration": 46,
    "start_time": "2023-02-20T14:58:42.122Z"
   },
   {
    "duration": 17,
    "start_time": "2023-02-20T14:58:42.190Z"
   },
   {
    "duration": 45,
    "start_time": "2023-02-20T14:58:42.209Z"
   },
   {
    "duration": 45,
    "start_time": "2023-02-20T14:58:42.255Z"
   },
   {
    "duration": 57,
    "start_time": "2023-02-20T14:58:42.302Z"
   },
   {
    "duration": 230,
    "start_time": "2023-02-20T14:58:42.361Z"
   },
   {
    "duration": 3,
    "start_time": "2023-02-20T14:58:42.593Z"
   },
   {
    "duration": 8,
    "start_time": "2023-02-20T14:58:42.598Z"
   },
   {
    "duration": 7,
    "start_time": "2023-02-20T14:58:42.607Z"
   },
   {
    "duration": 5,
    "start_time": "2023-02-20T14:58:42.615Z"
   },
   {
    "duration": 7,
    "start_time": "2023-02-20T14:58:42.622Z"
   },
   {
    "duration": 7,
    "start_time": "2023-02-20T14:58:42.630Z"
   },
   {
    "duration": 8,
    "start_time": "2023-02-20T14:58:42.638Z"
   },
   {
    "duration": 697,
    "start_time": "2023-02-20T14:58:42.647Z"
   },
   {
    "duration": 717,
    "start_time": "2023-02-20T14:58:43.345Z"
   },
   {
    "duration": 746,
    "start_time": "2023-02-20T14:58:44.065Z"
   },
   {
    "duration": 788,
    "start_time": "2023-02-20T14:58:44.813Z"
   },
   {
    "duration": 762,
    "start_time": "2023-02-20T14:58:45.603Z"
   },
   {
    "duration": 902,
    "start_time": "2023-02-20T14:58:46.368Z"
   },
   {
    "duration": 4,
    "start_time": "2023-02-20T14:58:47.275Z"
   },
   {
    "duration": 7,
    "start_time": "2023-02-20T14:58:47.291Z"
   },
   {
    "duration": 12,
    "start_time": "2023-02-20T14:58:47.300Z"
   },
   {
    "duration": 762,
    "start_time": "2023-02-20T14:58:47.313Z"
   },
   {
    "duration": 14,
    "start_time": "2023-02-20T14:58:48.077Z"
   },
   {
    "duration": 407,
    "start_time": "2023-02-20T14:58:48.092Z"
   },
   {
    "duration": 414,
    "start_time": "2023-02-20T14:58:48.502Z"
   },
   {
    "duration": 5,
    "start_time": "2023-02-20T14:58:48.918Z"
   },
   {
    "duration": 501,
    "start_time": "2023-02-20T14:58:48.924Z"
   },
   {
    "duration": 497,
    "start_time": "2023-02-20T14:58:49.427Z"
   },
   {
    "duration": 5,
    "start_time": "2023-02-20T14:58:49.926Z"
   },
   {
    "duration": 7,
    "start_time": "2023-02-20T14:58:49.933Z"
   },
   {
    "duration": 2155,
    "start_time": "2023-02-20T14:58:49.942Z"
   },
   {
    "duration": 2139,
    "start_time": "2023-02-20T14:58:52.098Z"
   },
   {
    "duration": 2253,
    "start_time": "2023-02-20T14:58:54.239Z"
   },
   {
    "duration": 2031,
    "start_time": "2023-02-20T14:58:56.494Z"
   },
   {
    "duration": 4,
    "start_time": "2023-02-20T14:58:58.526Z"
   },
   {
    "duration": 16,
    "start_time": "2023-02-20T14:58:58.531Z"
   },
   {
    "duration": 25,
    "start_time": "2023-02-20T14:58:58.549Z"
   },
   {
    "duration": 19,
    "start_time": "2023-02-20T14:59:02.173Z"
   },
   {
    "duration": 693,
    "start_time": "2023-02-20T14:59:03.642Z"
   },
   {
    "duration": 47,
    "start_time": "2023-02-20T14:59:12.391Z"
   },
   {
    "duration": 3,
    "start_time": "2023-02-20T14:59:13.986Z"
   },
   {
    "duration": 3,
    "start_time": "2023-02-20T14:59:14.546Z"
   },
   {
    "duration": 6,
    "start_time": "2023-02-20T14:59:16.489Z"
   },
   {
    "duration": 18,
    "start_time": "2023-02-20T14:59:47.001Z"
   },
   {
    "duration": 5,
    "start_time": "2023-02-20T15:00:03.075Z"
   },
   {
    "duration": 3,
    "start_time": "2023-02-20T15:00:34.917Z"
   },
   {
    "duration": 5,
    "start_time": "2023-02-20T15:00:35.580Z"
   },
   {
    "duration": 8,
    "start_time": "2023-02-20T15:00:41.083Z"
   },
   {
    "duration": 4,
    "start_time": "2023-02-20T15:00:52.301Z"
   },
   {
    "duration": 5,
    "start_time": "2023-02-20T15:01:48.150Z"
   },
   {
    "duration": 713,
    "start_time": "2023-02-20T15:01:48.157Z"
   },
   {
    "duration": 25,
    "start_time": "2023-02-20T15:01:48.872Z"
   },
   {
    "duration": 12,
    "start_time": "2023-02-20T15:01:48.900Z"
   },
   {
    "duration": 17,
    "start_time": "2023-02-20T15:01:48.914Z"
   },
   {
    "duration": 484,
    "start_time": "2023-02-20T15:01:48.933Z"
   },
   {
    "duration": 137,
    "start_time": "2023-02-20T15:01:49.418Z"
   },
   {
    "duration": 320,
    "start_time": "2023-02-20T15:01:49.557Z"
   },
   {
    "duration": 3,
    "start_time": "2023-02-20T15:01:49.880Z"
   },
   {
    "duration": 115,
    "start_time": "2023-02-20T15:01:49.884Z"
   },
   {
    "duration": 26,
    "start_time": "2023-02-20T15:01:50.001Z"
   },
   {
    "duration": 91,
    "start_time": "2023-02-20T15:01:50.028Z"
   },
   {
    "duration": 21,
    "start_time": "2023-02-20T15:01:50.121Z"
   },
   {
    "duration": 60,
    "start_time": "2023-02-20T15:01:50.144Z"
   },
   {
    "duration": 233,
    "start_time": "2023-02-20T15:01:50.206Z"
   },
   {
    "duration": 3,
    "start_time": "2023-02-20T15:01:50.441Z"
   },
   {
    "duration": 9,
    "start_time": "2023-02-20T15:01:50.445Z"
   },
   {
    "duration": 7,
    "start_time": "2023-02-20T15:01:50.455Z"
   },
   {
    "duration": 10,
    "start_time": "2023-02-20T15:01:50.463Z"
   },
   {
    "duration": 17,
    "start_time": "2023-02-20T15:01:50.474Z"
   },
   {
    "duration": 10,
    "start_time": "2023-02-20T15:01:50.493Z"
   },
   {
    "duration": 6,
    "start_time": "2023-02-20T15:01:50.505Z"
   },
   {
    "duration": 730,
    "start_time": "2023-02-20T15:01:50.512Z"
   },
   {
    "duration": 563,
    "start_time": "2023-02-20T15:01:51.246Z"
   },
   {
    "duration": 922,
    "start_time": "2023-02-20T15:01:51.811Z"
   },
   {
    "duration": 663,
    "start_time": "2023-02-20T15:01:52.735Z"
   },
   {
    "duration": 958,
    "start_time": "2023-02-20T15:01:53.400Z"
   },
   {
    "duration": 595,
    "start_time": "2023-02-20T15:01:54.360Z"
   },
   {
    "duration": 3,
    "start_time": "2023-02-20T15:01:54.957Z"
   },
   {
    "duration": 16,
    "start_time": "2023-02-20T15:01:54.962Z"
   },
   {
    "duration": 15,
    "start_time": "2023-02-20T15:01:54.980Z"
   },
   {
    "duration": 989,
    "start_time": "2023-02-20T15:01:54.996Z"
   },
   {
    "duration": 5,
    "start_time": "2023-02-20T15:01:55.987Z"
   },
   {
    "duration": 483,
    "start_time": "2023-02-20T15:01:55.993Z"
   },
   {
    "duration": 441,
    "start_time": "2023-02-20T15:01:56.478Z"
   },
   {
    "duration": 5,
    "start_time": "2023-02-20T15:01:56.921Z"
   },
   {
    "duration": 489,
    "start_time": "2023-02-20T15:01:56.928Z"
   },
   {
    "duration": 511,
    "start_time": "2023-02-20T15:01:57.419Z"
   },
   {
    "duration": 6,
    "start_time": "2023-02-20T15:01:57.932Z"
   },
   {
    "duration": 6,
    "start_time": "2023-02-20T15:01:57.940Z"
   },
   {
    "duration": 2035,
    "start_time": "2023-02-20T15:01:57.947Z"
   },
   {
    "duration": 2049,
    "start_time": "2023-02-20T15:01:59.991Z"
   },
   {
    "duration": 2102,
    "start_time": "2023-02-20T15:02:02.042Z"
   },
   {
    "duration": 2026,
    "start_time": "2023-02-20T15:02:04.146Z"
   },
   {
    "duration": 3,
    "start_time": "2023-02-20T15:02:06.174Z"
   },
   {
    "duration": 20,
    "start_time": "2023-02-20T15:02:06.178Z"
   },
   {
    "duration": 31,
    "start_time": "2023-02-20T15:02:06.200Z"
   },
   {
    "duration": 15,
    "start_time": "2023-02-20T15:02:06.233Z"
   },
   {
    "duration": 941,
    "start_time": "2023-02-20T15:02:06.250Z"
   },
   {
    "duration": 48,
    "start_time": "2023-02-20T15:02:07.193Z"
   },
   {
    "duration": 3,
    "start_time": "2023-02-20T15:02:07.243Z"
   },
   {
    "duration": 10,
    "start_time": "2023-02-20T15:02:07.247Z"
   },
   {
    "duration": 7,
    "start_time": "2023-02-20T15:02:09.853Z"
   },
   {
    "duration": 8,
    "start_time": "2023-02-20T15:02:15.084Z"
   },
   {
    "duration": 4,
    "start_time": "2023-02-20T15:02:19.084Z"
   },
   {
    "duration": 3,
    "start_time": "2023-02-20T15:02:21.253Z"
   },
   {
    "duration": 3,
    "start_time": "2023-02-20T15:02:22.478Z"
   },
   {
    "duration": 3,
    "start_time": "2023-02-20T15:02:23.244Z"
   },
   {
    "duration": 3032,
    "start_time": "2023-02-20T15:02:24.261Z"
   },
   {
    "duration": 14,
    "start_time": "2023-02-20T15:02:54.605Z"
   },
   {
    "duration": 13,
    "start_time": "2023-02-20T15:03:23.999Z"
   },
   {
    "duration": 27,
    "start_time": "2023-02-20T15:03:30.385Z"
   },
   {
    "duration": 7,
    "start_time": "2023-02-20T15:03:42.176Z"
   },
   {
    "duration": 6,
    "start_time": "2023-02-20T15:03:52.031Z"
   },
   {
    "duration": 3,
    "start_time": "2023-02-20T15:04:23.641Z"
   },
   {
    "duration": 3,
    "start_time": "2023-02-20T15:04:27.631Z"
   },
   {
    "duration": 1827,
    "start_time": "2023-02-21T14:58:36.997Z"
   },
   {
    "duration": 3392,
    "start_time": "2023-02-21T14:58:38.826Z"
   },
   {
    "duration": 18,
    "start_time": "2023-02-21T14:58:42.220Z"
   },
   {
    "duration": 10,
    "start_time": "2023-02-21T14:58:42.240Z"
   },
   {
    "duration": 15,
    "start_time": "2023-02-21T14:58:42.252Z"
   },
   {
    "duration": 242,
    "start_time": "2023-02-21T14:58:42.268Z"
   },
   {
    "duration": 123,
    "start_time": "2023-02-21T14:58:42.516Z"
   },
   {
    "duration": 246,
    "start_time": "2023-02-21T14:58:42.640Z"
   },
   {
    "duration": 15,
    "start_time": "2023-02-21T14:58:42.893Z"
   },
   {
    "duration": 66,
    "start_time": "2023-02-21T14:58:42.909Z"
   },
   {
    "duration": 19,
    "start_time": "2023-02-21T14:58:42.976Z"
   },
   {
    "duration": 46,
    "start_time": "2023-02-21T14:58:42.999Z"
   },
   {
    "duration": 22,
    "start_time": "2023-02-21T14:58:43.047Z"
   },
   {
    "duration": 71,
    "start_time": "2023-02-21T14:58:43.072Z"
   },
   {
    "duration": 239,
    "start_time": "2023-02-21T14:58:43.145Z"
   },
   {
    "duration": 15,
    "start_time": "2023-02-21T14:58:43.393Z"
   },
   {
    "duration": 12,
    "start_time": "2023-02-21T14:58:43.416Z"
   },
   {
    "duration": 5,
    "start_time": "2023-02-21T14:58:43.429Z"
   },
   {
    "duration": 5,
    "start_time": "2023-02-21T14:58:43.436Z"
   },
   {
    "duration": 6,
    "start_time": "2023-02-21T14:58:43.442Z"
   },
   {
    "duration": 10,
    "start_time": "2023-02-21T14:58:43.449Z"
   },
   {
    "duration": 7,
    "start_time": "2023-02-21T14:58:43.461Z"
   },
   {
    "duration": 837,
    "start_time": "2023-02-21T14:58:43.470Z"
   },
   {
    "duration": 605,
    "start_time": "2023-02-21T14:58:44.313Z"
   },
   {
    "duration": 912,
    "start_time": "2023-02-21T14:58:44.922Z"
   },
   {
    "duration": 680,
    "start_time": "2023-02-21T14:58:45.836Z"
   },
   {
    "duration": 808,
    "start_time": "2023-02-21T14:58:46.523Z"
   },
   {
    "duration": 733,
    "start_time": "2023-02-21T14:58:47.332Z"
   },
   {
    "duration": 3,
    "start_time": "2023-02-21T14:58:48.067Z"
   },
   {
    "duration": 50,
    "start_time": "2023-02-21T14:58:48.072Z"
   },
   {
    "duration": 27,
    "start_time": "2023-02-21T14:58:48.123Z"
   },
   {
    "duration": 811,
    "start_time": "2023-02-21T14:58:48.152Z"
   },
   {
    "duration": 2,
    "start_time": "2023-02-21T14:58:48.965Z"
   },
   {
    "duration": 456,
    "start_time": "2023-02-21T14:58:48.969Z"
   },
   {
    "duration": 522,
    "start_time": "2023-02-21T14:58:49.426Z"
   },
   {
    "duration": 5,
    "start_time": "2023-02-21T14:58:49.950Z"
   },
   {
    "duration": 477,
    "start_time": "2023-02-21T14:58:49.956Z"
   },
   {
    "duration": 527,
    "start_time": "2023-02-21T14:58:50.435Z"
   },
   {
    "duration": 5,
    "start_time": "2023-02-21T14:58:50.964Z"
   },
   {
    "duration": 9,
    "start_time": "2023-02-21T14:58:50.971Z"
   },
   {
    "duration": 1960,
    "start_time": "2023-02-21T14:58:50.996Z"
   },
   {
    "duration": 2041,
    "start_time": "2023-02-21T14:58:52.957Z"
   },
   {
    "duration": 2376,
    "start_time": "2023-02-21T14:58:55.003Z"
   },
   {
    "duration": 2034,
    "start_time": "2023-02-21T14:58:57.381Z"
   },
   {
    "duration": 3,
    "start_time": "2023-02-21T14:58:59.420Z"
   },
   {
    "duration": 12,
    "start_time": "2023-02-21T14:58:59.424Z"
   },
   {
    "duration": 27,
    "start_time": "2023-02-21T14:58:59.437Z"
   },
   {
    "duration": 11,
    "start_time": "2023-02-21T14:58:59.466Z"
   },
   {
    "duration": 871,
    "start_time": "2023-02-21T14:58:59.479Z"
   },
   {
    "duration": 59,
    "start_time": "2023-02-21T14:59:00.351Z"
   },
   {
    "duration": 7,
    "start_time": "2023-02-21T14:59:00.412Z"
   },
   {
    "duration": 16,
    "start_time": "2023-02-21T14:59:00.421Z"
   },
   {
    "duration": 25,
    "start_time": "2023-02-21T14:59:00.439Z"
   },
   {
    "duration": 49,
    "start_time": "2023-02-21T14:59:00.466Z"
   },
   {
    "duration": 37,
    "start_time": "2023-02-21T14:59:00.517Z"
   },
   {
    "duration": 23,
    "start_time": "2023-02-21T14:59:00.555Z"
   },
   {
    "duration": 41,
    "start_time": "2023-02-21T14:59:00.579Z"
   },
   {
    "duration": 6083,
    "start_time": "2023-02-21T14:59:00.621Z"
   },
   {
    "duration": 6,
    "start_time": "2023-02-21T14:59:06.706Z"
   },
   {
    "duration": 109837,
    "start_time": "2023-02-21T14:59:06.716Z"
   },
   {
    "duration": 3,
    "start_time": "2023-02-21T15:01:01.416Z"
   },
   {
    "duration": 3,
    "start_time": "2023-02-21T15:01:42.288Z"
   },
   {
    "duration": 323336,
    "start_time": "2023-02-21T15:01:44.235Z"
   },
   {
    "duration": 3,
    "start_time": "2023-02-21T15:08:23.975Z"
   },
   {
    "duration": 8,
    "start_time": "2023-02-21T15:09:11.674Z"
   },
   {
    "duration": 12,
    "start_time": "2023-02-21T15:10:22.906Z"
   },
   {
    "duration": 6,
    "start_time": "2023-02-21T15:10:23.913Z"
   },
   {
    "duration": 260,
    "start_time": "2023-02-21T15:11:58.588Z"
   },
   {
    "duration": 7,
    "start_time": "2023-02-21T15:12:00.763Z"
   },
   {
    "duration": 8,
    "start_time": "2023-02-21T15:12:49.823Z"
   },
   {
    "duration": 6,
    "start_time": "2023-02-21T15:13:21.703Z"
   },
   {
    "duration": 4,
    "start_time": "2023-02-21T15:13:22.773Z"
   },
   {
    "duration": 5,
    "start_time": "2023-02-21T15:13:36.078Z"
   },
   {
    "duration": 9,
    "start_time": "2023-02-21T15:15:04.313Z"
   },
   {
    "duration": 9,
    "start_time": "2023-02-21T15:15:15.771Z"
   },
   {
    "duration": 10,
    "start_time": "2023-02-21T15:15:21.953Z"
   },
   {
    "duration": 10,
    "start_time": "2023-02-21T15:15:29.544Z"
   },
   {
    "duration": 9,
    "start_time": "2023-02-21T15:15:37.803Z"
   },
   {
    "duration": 269,
    "start_time": "2023-02-21T15:15:56.587Z"
   },
   {
    "duration": 9,
    "start_time": "2023-02-21T15:15:57.536Z"
   },
   {
    "duration": 5,
    "start_time": "2023-02-21T15:16:08.005Z"
   },
   {
    "duration": 9,
    "start_time": "2023-02-21T15:16:08.969Z"
   },
   {
    "duration": 110,
    "start_time": "2023-02-21T15:26:01.069Z"
   },
   {
    "duration": 244,
    "start_time": "2023-02-21T15:26:07.907Z"
   },
   {
    "duration": 10,
    "start_time": "2023-02-22T10:23:47.348Z"
   },
   {
    "duration": 1471,
    "start_time": "2023-02-22T16:53:24.450Z"
   },
   {
    "duration": 3340,
    "start_time": "2023-02-22T16:53:25.923Z"
   },
   {
    "duration": 18,
    "start_time": "2023-02-22T16:53:29.265Z"
   },
   {
    "duration": 11,
    "start_time": "2023-02-22T16:53:29.285Z"
   },
   {
    "duration": 15,
    "start_time": "2023-02-22T16:53:29.297Z"
   },
   {
    "duration": 241,
    "start_time": "2023-02-22T16:53:29.313Z"
   },
   {
    "duration": 128,
    "start_time": "2023-02-22T16:53:29.556Z"
   },
   {
    "duration": 238,
    "start_time": "2023-02-22T16:53:29.686Z"
   },
   {
    "duration": 3,
    "start_time": "2023-02-22T16:53:29.926Z"
   },
   {
    "duration": 43,
    "start_time": "2023-02-22T16:53:29.932Z"
   },
   {
    "duration": 17,
    "start_time": "2023-02-22T16:53:29.990Z"
   },
   {
    "duration": 42,
    "start_time": "2023-02-22T16:53:30.009Z"
   },
   {
    "duration": 48,
    "start_time": "2023-02-22T16:53:30.053Z"
   },
   {
    "duration": 49,
    "start_time": "2023-02-22T16:53:30.103Z"
   },
   {
    "duration": 217,
    "start_time": "2023-02-22T16:53:30.154Z"
   },
   {
    "duration": 3,
    "start_time": "2023-02-22T16:53:30.373Z"
   },
   {
    "duration": 31,
    "start_time": "2023-02-22T16:53:30.377Z"
   },
   {
    "duration": 26,
    "start_time": "2023-02-22T16:53:30.410Z"
   },
   {
    "duration": 28,
    "start_time": "2023-02-22T16:53:30.438Z"
   },
   {
    "duration": 19,
    "start_time": "2023-02-22T16:53:30.468Z"
   },
   {
    "duration": 21,
    "start_time": "2023-02-22T16:53:30.488Z"
   },
   {
    "duration": 28,
    "start_time": "2023-02-22T16:53:30.512Z"
   },
   {
    "duration": 792,
    "start_time": "2023-02-22T16:53:30.542Z"
   },
   {
    "duration": 562,
    "start_time": "2023-02-22T16:53:31.336Z"
   },
   {
    "duration": 838,
    "start_time": "2023-02-22T16:53:31.899Z"
   },
   {
    "duration": 560,
    "start_time": "2023-02-22T16:53:32.738Z"
   },
   {
    "duration": 706,
    "start_time": "2023-02-22T16:53:33.300Z"
   },
   {
    "duration": 679,
    "start_time": "2023-02-22T16:53:34.010Z"
   },
   {
    "duration": 3,
    "start_time": "2023-02-22T16:53:34.691Z"
   },
   {
    "duration": 12,
    "start_time": "2023-02-22T16:53:34.696Z"
   },
   {
    "duration": 11,
    "start_time": "2023-02-22T16:53:34.710Z"
   },
   {
    "duration": 715,
    "start_time": "2023-02-22T16:53:34.723Z"
   },
   {
    "duration": 3,
    "start_time": "2023-02-22T16:53:35.439Z"
   },
   {
    "duration": 450,
    "start_time": "2023-02-22T16:53:35.443Z"
   },
   {
    "duration": 563,
    "start_time": "2023-02-22T16:53:35.895Z"
   },
   {
    "duration": 7,
    "start_time": "2023-02-22T16:53:36.460Z"
   },
   {
    "duration": 464,
    "start_time": "2023-02-22T16:53:36.468Z"
   },
   {
    "duration": 484,
    "start_time": "2023-02-22T16:53:36.933Z"
   },
   {
    "duration": 7,
    "start_time": "2023-02-22T16:53:37.418Z"
   },
   {
    "duration": 22,
    "start_time": "2023-02-22T16:53:37.426Z"
   },
   {
    "duration": 1891,
    "start_time": "2023-02-22T16:53:37.449Z"
   },
   {
    "duration": 1867,
    "start_time": "2023-02-22T16:53:39.341Z"
   },
   {
    "duration": 1891,
    "start_time": "2023-02-22T16:53:41.211Z"
   },
   {
    "duration": 1888,
    "start_time": "2023-02-22T16:53:43.103Z"
   },
   {
    "duration": 3,
    "start_time": "2023-02-22T16:53:44.992Z"
   },
   {
    "duration": 33,
    "start_time": "2023-02-22T16:53:44.997Z"
   },
   {
    "duration": 33,
    "start_time": "2023-02-22T16:53:45.032Z"
   },
   {
    "duration": 13,
    "start_time": "2023-02-22T16:53:45.067Z"
   },
   {
    "duration": 792,
    "start_time": "2023-02-22T16:53:45.082Z"
   },
   {
    "duration": 53,
    "start_time": "2023-02-22T16:53:45.876Z"
   },
   {
    "duration": 3,
    "start_time": "2023-02-22T16:53:45.931Z"
   },
   {
    "duration": 5,
    "start_time": "2023-02-22T16:53:45.935Z"
   },
   {
    "duration": 9,
    "start_time": "2023-02-22T16:53:45.942Z"
   },
   {
    "duration": 5,
    "start_time": "2023-02-22T16:53:45.953Z"
   },
   {
    "duration": 5,
    "start_time": "2023-02-22T16:53:45.960Z"
   },
   {
    "duration": 24,
    "start_time": "2023-02-22T16:53:45.967Z"
   },
   {
    "duration": 17,
    "start_time": "2023-02-22T16:53:45.993Z"
   },
   {
    "duration": 2480,
    "start_time": "2023-02-22T16:53:46.012Z"
   },
   {
    "duration": 5,
    "start_time": "2023-02-22T16:53:48.494Z"
   },
   {
    "duration": 103670,
    "start_time": "2023-02-22T16:53:48.501Z"
   },
   {
    "duration": 9,
    "start_time": "2023-02-22T16:55:32.172Z"
   },
   {
    "duration": 41,
    "start_time": "2023-02-22T16:55:32.183Z"
   },
   {
    "duration": 304880,
    "start_time": "2023-02-22T16:55:32.226Z"
   },
   {
    "duration": 5,
    "start_time": "2023-02-22T17:00:37.108Z"
   },
   {
    "duration": 14,
    "start_time": "2023-02-22T17:00:37.115Z"
   },
   {
    "duration": 14,
    "start_time": "2023-02-22T17:00:37.131Z"
   },
   {
    "duration": 5,
    "start_time": "2023-02-22T17:00:37.146Z"
   },
   {
    "duration": 266,
    "start_time": "2023-02-22T17:00:37.152Z"
   },
   {
    "duration": 3,
    "start_time": "2023-02-22T17:00:54.255Z"
   },
   {
    "duration": 29172,
    "start_time": "2023-02-22T17:01:12.992Z"
   },
   {
    "duration": 6280,
    "start_time": "2023-02-22T17:05:41.828Z"
   },
   {
    "duration": 3,
    "start_time": "2023-02-22T17:05:48.109Z"
   },
   {
    "duration": 5,
    "start_time": "2023-02-22T17:05:48.113Z"
   },
   {
    "duration": 3,
    "start_time": "2023-02-22T17:05:49.788Z"
   },
   {
    "duration": 3,
    "start_time": "2023-02-22T17:05:51.086Z"
   },
   {
    "duration": 2637,
    "start_time": "2023-02-22T17:05:52.463Z"
   },
   {
    "duration": 2322,
    "start_time": "2023-02-22T17:06:12.678Z"
   },
   {
    "duration": 2246,
    "start_time": "2023-02-22T17:06:24.054Z"
   },
   {
    "duration": 4,
    "start_time": "2023-02-22T17:06:53.830Z"
   },
   {
    "duration": 28840,
    "start_time": "2023-02-22T17:07:11.303Z"
   },
   {
    "duration": 4,
    "start_time": "2023-02-22T17:08:41.375Z"
   },
   {
    "duration": 28813,
    "start_time": "2023-02-22T17:08:49.150Z"
   },
   {
    "duration": 4,
    "start_time": "2023-02-22T17:09:21.392Z"
   },
   {
    "duration": 4,
    "start_time": "2023-02-22T17:09:23.787Z"
   },
   {
    "duration": 122378,
    "start_time": "2023-02-22T17:09:41.346Z"
   },
   {
    "duration": 4,
    "start_time": "2023-02-22T17:12:01.948Z"
   },
   {
    "duration": 6,
    "start_time": "2023-02-22T17:12:04.077Z"
   },
   {
    "duration": 4,
    "start_time": "2023-02-22T17:15:38.952Z"
   },
   {
    "duration": 53,
    "start_time": "2023-02-22T17:15:40.248Z"
   },
   {
    "duration": 62,
    "start_time": "2023-02-22T17:15:53.008Z"
   },
   {
    "duration": 3,
    "start_time": "2023-02-22T17:15:57.586Z"
   },
   {
    "duration": 68,
    "start_time": "2023-02-22T17:15:58.169Z"
   },
   {
    "duration": 64,
    "start_time": "2023-02-22T17:16:25.498Z"
   },
   {
    "duration": 3,
    "start_time": "2023-02-22T17:18:28.893Z"
   },
   {
    "duration": 2,
    "start_time": "2023-02-22T17:18:30.513Z"
   },
   {
    "duration": 4,
    "start_time": "2023-02-22T17:18:32.366Z"
   },
   {
    "duration": 59,
    "start_time": "2023-02-22T17:18:33.020Z"
   },
   {
    "duration": 6,
    "start_time": "2023-02-22T17:18:39.597Z"
   },
   {
    "duration": 681,
    "start_time": "2023-02-22T17:18:39.605Z"
   },
   {
    "duration": 16,
    "start_time": "2023-02-22T17:18:40.287Z"
   },
   {
    "duration": 12,
    "start_time": "2023-02-22T17:18:40.306Z"
   },
   {
    "duration": 16,
    "start_time": "2023-02-22T17:18:40.319Z"
   },
   {
    "duration": 239,
    "start_time": "2023-02-22T17:18:40.337Z"
   },
   {
    "duration": 127,
    "start_time": "2023-02-22T17:18:40.577Z"
   },
   {
    "duration": 256,
    "start_time": "2023-02-22T17:18:40.705Z"
   },
   {
    "duration": 3,
    "start_time": "2023-02-22T17:18:40.964Z"
   },
   {
    "duration": 59,
    "start_time": "2023-02-22T17:18:40.968Z"
   },
   {
    "duration": 15,
    "start_time": "2023-02-22T17:18:41.029Z"
   },
   {
    "duration": 66,
    "start_time": "2023-02-22T17:18:41.046Z"
   },
   {
    "duration": 20,
    "start_time": "2023-02-22T17:18:41.114Z"
   },
   {
    "duration": 73,
    "start_time": "2023-02-22T17:18:41.136Z"
   },
   {
    "duration": 212,
    "start_time": "2023-02-22T17:18:41.211Z"
   },
   {
    "duration": 3,
    "start_time": "2023-02-22T17:18:41.425Z"
   },
   {
    "duration": 7,
    "start_time": "2023-02-22T17:18:41.429Z"
   },
   {
    "duration": 8,
    "start_time": "2023-02-22T17:18:41.438Z"
   },
   {
    "duration": 12,
    "start_time": "2023-02-22T17:18:41.447Z"
   },
   {
    "duration": 10,
    "start_time": "2023-02-22T17:18:41.461Z"
   },
   {
    "duration": 20,
    "start_time": "2023-02-22T17:18:41.472Z"
   },
   {
    "duration": 5,
    "start_time": "2023-02-22T17:18:41.494Z"
   },
   {
    "duration": 887,
    "start_time": "2023-02-22T17:18:41.500Z"
   },
   {
    "duration": 710,
    "start_time": "2023-02-22T17:18:42.395Z"
   },
   {
    "duration": 690,
    "start_time": "2023-02-22T17:18:43.107Z"
   },
   {
    "duration": 792,
    "start_time": "2023-02-22T17:18:43.799Z"
   },
   {
    "duration": 738,
    "start_time": "2023-02-22T17:18:44.593Z"
   },
   {
    "duration": 724,
    "start_time": "2023-02-22T17:18:45.333Z"
   },
   {
    "duration": 4,
    "start_time": "2023-02-22T17:18:46.060Z"
   },
   {
    "duration": 19,
    "start_time": "2023-02-22T17:18:46.065Z"
   },
   {
    "duration": 19,
    "start_time": "2023-02-22T17:18:46.085Z"
   },
   {
    "duration": 819,
    "start_time": "2023-02-22T17:18:46.106Z"
   },
   {
    "duration": 3,
    "start_time": "2023-02-22T17:18:46.927Z"
   },
   {
    "duration": 461,
    "start_time": "2023-02-22T17:18:46.932Z"
   },
   {
    "duration": 418,
    "start_time": "2023-02-22T17:18:47.395Z"
   },
   {
    "duration": 6,
    "start_time": "2023-02-22T17:18:47.815Z"
   },
   {
    "duration": 518,
    "start_time": "2023-02-22T17:18:47.823Z"
   },
   {
    "duration": 580,
    "start_time": "2023-02-22T17:18:48.343Z"
   },
   {
    "duration": 6,
    "start_time": "2023-02-22T17:18:48.924Z"
   },
   {
    "duration": 5,
    "start_time": "2023-02-22T17:18:48.932Z"
   },
   {
    "duration": 1876,
    "start_time": "2023-02-22T17:18:48.938Z"
   },
   {
    "duration": 1919,
    "start_time": "2023-02-22T17:18:50.816Z"
   },
   {
    "duration": 1963,
    "start_time": "2023-02-22T17:18:52.737Z"
   },
   {
    "duration": 1934,
    "start_time": "2023-02-22T17:18:54.702Z"
   },
   {
    "duration": 3,
    "start_time": "2023-02-22T17:18:56.638Z"
   },
   {
    "duration": 16,
    "start_time": "2023-02-22T17:18:56.642Z"
   },
   {
    "duration": 37,
    "start_time": "2023-02-22T17:18:56.660Z"
   },
   {
    "duration": 14,
    "start_time": "2023-02-22T17:18:56.699Z"
   },
   {
    "duration": 698,
    "start_time": "2023-02-22T17:18:56.715Z"
   },
   {
    "duration": 168,
    "start_time": "2023-02-22T17:18:57.414Z"
   },
   {
    "duration": 8,
    "start_time": "2023-02-22T17:18:57.583Z"
   },
   {
    "duration": 6,
    "start_time": "2023-02-22T17:18:57.593Z"
   },
   {
    "duration": 12,
    "start_time": "2023-02-22T17:18:57.601Z"
   },
   {
    "duration": 6,
    "start_time": "2023-02-22T17:18:57.614Z"
   },
   {
    "duration": 4,
    "start_time": "2023-02-22T17:18:57.621Z"
   },
   {
    "duration": 5,
    "start_time": "2023-02-22T17:18:57.626Z"
   },
   {
    "duration": 5,
    "start_time": "2023-02-22T17:18:57.633Z"
   },
   {
    "duration": 2385,
    "start_time": "2023-02-22T17:19:21.519Z"
   },
   {
    "duration": 6,
    "start_time": "2023-02-22T17:19:28.099Z"
   },
   {
    "duration": 302157,
    "start_time": "2023-02-22T17:19:29.484Z"
   },
   {
    "duration": 3,
    "start_time": "2023-02-22T17:24:34.426Z"
   },
   {
    "duration": 4,
    "start_time": "2023-02-22T17:24:38.203Z"
   },
   {
    "duration": 101349,
    "start_time": "2023-02-22T17:24:39.395Z"
   },
   {
    "duration": 4,
    "start_time": "2023-02-22T17:26:37.580Z"
   },
   {
    "duration": 9,
    "start_time": "2023-02-22T17:26:40.464Z"
   },
   {
    "duration": 7,
    "start_time": "2023-02-22T17:26:57.934Z"
   },
   {
    "duration": 7,
    "start_time": "2023-02-22T17:27:09.655Z"
   },
   {
    "duration": 7,
    "start_time": "2023-02-22T17:27:25.111Z"
   },
   {
    "duration": 13,
    "start_time": "2023-02-22T17:27:55.823Z"
   },
   {
    "duration": 8,
    "start_time": "2023-02-22T17:27:56.394Z"
   },
   {
    "duration": 12,
    "start_time": "2023-02-22T17:28:50.137Z"
   },
   {
    "duration": 3,
    "start_time": "2023-02-22T17:36:14.960Z"
   },
   {
    "duration": 3,
    "start_time": "2023-02-22T17:36:17.936Z"
   },
   {
    "duration": 2,
    "start_time": "2023-02-22T17:36:19.011Z"
   },
   {
    "duration": 2799,
    "start_time": "2023-02-22T17:36:31.001Z"
   },
   {
    "duration": 3,
    "start_time": "2023-02-22T17:36:43.568Z"
   },
   {
    "duration": 122996,
    "start_time": "2023-02-22T17:36:48.040Z"
   },
   {
    "duration": 3,
    "start_time": "2023-02-22T17:39:31.398Z"
   },
   {
    "duration": 3,
    "start_time": "2023-02-22T17:39:39.157Z"
   },
   {
    "duration": 3,
    "start_time": "2023-02-22T17:40:05.438Z"
   },
   {
    "duration": 28534,
    "start_time": "2023-02-22T17:40:06.413Z"
   },
   {
    "duration": 9,
    "start_time": "2023-02-22T17:40:43.388Z"
   },
   {
    "duration": 9,
    "start_time": "2023-02-22T17:40:46.049Z"
   },
   {
    "duration": 3,
    "start_time": "2023-02-22T17:40:56.952Z"
   },
   {
    "duration": 29054,
    "start_time": "2023-02-22T17:40:57.670Z"
   },
   {
    "duration": 2,
    "start_time": "2023-02-22T17:41:28.383Z"
   },
   {
    "duration": 3,
    "start_time": "2023-02-22T17:41:29.006Z"
   },
   {
    "duration": 2541,
    "start_time": "2023-02-22T17:41:29.560Z"
   },
   {
    "duration": 3,
    "start_time": "2023-02-22T17:42:13.049Z"
   },
   {
    "duration": 122697,
    "start_time": "2023-02-22T17:42:14.007Z"
   },
   {
    "duration": 4,
    "start_time": "2023-02-22T17:44:16.705Z"
   },
   {
    "duration": 3,
    "start_time": "2023-02-22T17:45:04.667Z"
   },
   {
    "duration": 29060,
    "start_time": "2023-02-22T17:45:06.803Z"
   },
   {
    "duration": 3,
    "start_time": "2023-02-22T17:45:35.865Z"
   },
   {
    "duration": 4,
    "start_time": "2023-02-22T17:45:41.298Z"
   },
   {
    "duration": 8,
    "start_time": "2023-02-22T17:45:43.682Z"
   },
   {
    "duration": 3,
    "start_time": "2023-02-22T17:46:38.053Z"
   },
   {
    "duration": 4,
    "start_time": "2023-02-22T17:46:41.292Z"
   },
   {
    "duration": 3,
    "start_time": "2023-02-22T17:47:04.961Z"
   },
   {
    "duration": 4,
    "start_time": "2023-02-22T17:48:01.901Z"
   },
   {
    "duration": 4,
    "start_time": "2023-02-22T17:48:03.951Z"
   },
   {
    "duration": 9,
    "start_time": "2023-02-22T17:48:15.575Z"
   },
   {
    "duration": 8,
    "start_time": "2023-02-22T17:48:25.406Z"
   },
   {
    "duration": 8,
    "start_time": "2023-02-22T17:48:39.493Z"
   },
   {
    "duration": 9,
    "start_time": "2023-02-22T17:48:59.111Z"
   },
   {
    "duration": 9,
    "start_time": "2023-02-22T17:49:02.735Z"
   },
   {
    "duration": 9,
    "start_time": "2023-02-22T17:49:06.664Z"
   },
   {
    "duration": 8,
    "start_time": "2023-02-22T17:49:13.635Z"
   },
   {
    "duration": 11,
    "start_time": "2023-02-22T17:49:54.080Z"
   },
   {
    "duration": 15,
    "start_time": "2023-02-22T17:49:55.864Z"
   },
   {
    "duration": 10,
    "start_time": "2023-02-22T17:50:16.074Z"
   },
   {
    "duration": 7,
    "start_time": "2023-02-22T17:50:16.593Z"
   },
   {
    "duration": 18,
    "start_time": "2023-02-22T17:51:01.976Z"
   },
   {
    "duration": 3,
    "start_time": "2023-02-22T17:51:25.637Z"
   },
   {
    "duration": 30480,
    "start_time": "2023-02-22T17:51:30.107Z"
   },
   {
    "duration": 3,
    "start_time": "2023-02-22T17:52:39.803Z"
   },
   {
    "duration": 10,
    "start_time": "2023-02-22T17:52:56.324Z"
   },
   {
    "duration": 3,
    "start_time": "2023-02-22T17:53:12.332Z"
   },
   {
    "duration": 9,
    "start_time": "2023-02-22T17:53:59.068Z"
   },
   {
    "duration": 8,
    "start_time": "2023-02-22T17:54:02.060Z"
   },
   {
    "duration": 30021,
    "start_time": "2023-02-22T17:54:14.767Z"
   },
   {
    "duration": 3,
    "start_time": "2023-02-22T17:54:47.184Z"
   },
   {
    "duration": 4,
    "start_time": "2023-02-22T17:54:53.887Z"
   },
   {
    "duration": 11,
    "start_time": "2023-02-22T17:54:56.421Z"
   },
   {
    "duration": 4,
    "start_time": "2023-02-22T17:54:59.164Z"
   },
   {
    "duration": 3,
    "start_time": "2023-02-22T17:55:05.258Z"
   },
   {
    "duration": 47,
    "start_time": "2023-02-22T17:55:45.945Z"
   },
   {
    "duration": 2,
    "start_time": "2023-02-22T17:55:51.999Z"
   },
   {
    "duration": 16,
    "start_time": "2023-02-22T17:56:28.759Z"
   },
   {
    "duration": 392,
    "start_time": "2023-02-22T17:57:01.913Z"
   },
   {
    "duration": 368,
    "start_time": "2023-02-22T17:57:25.258Z"
   },
   {
    "duration": 5,
    "start_time": "2023-02-22T17:57:37.509Z"
   },
   {
    "duration": 668,
    "start_time": "2023-02-22T17:57:37.515Z"
   },
   {
    "duration": 20,
    "start_time": "2023-02-22T17:57:38.185Z"
   },
   {
    "duration": 11,
    "start_time": "2023-02-22T17:57:38.206Z"
   },
   {
    "duration": 17,
    "start_time": "2023-02-22T17:57:38.219Z"
   },
   {
    "duration": 247,
    "start_time": "2023-02-22T17:57:38.237Z"
   },
   {
    "duration": 150,
    "start_time": "2023-02-22T17:57:38.490Z"
   },
   {
    "duration": 241,
    "start_time": "2023-02-22T17:57:38.642Z"
   },
   {
    "duration": 7,
    "start_time": "2023-02-22T17:57:38.884Z"
   },
   {
    "duration": 46,
    "start_time": "2023-02-22T17:57:38.893Z"
   },
   {
    "duration": 17,
    "start_time": "2023-02-22T17:57:38.942Z"
   },
   {
    "duration": 66,
    "start_time": "2023-02-22T17:57:38.961Z"
   },
   {
    "duration": 19,
    "start_time": "2023-02-22T17:57:39.029Z"
   },
   {
    "duration": 69,
    "start_time": "2023-02-22T17:57:39.050Z"
   },
   {
    "duration": 206,
    "start_time": "2023-02-22T17:57:39.121Z"
   },
   {
    "duration": 3,
    "start_time": "2023-02-22T17:57:39.329Z"
   },
   {
    "duration": 7,
    "start_time": "2023-02-22T17:57:39.334Z"
   },
   {
    "duration": 7,
    "start_time": "2023-02-22T17:57:39.343Z"
   },
   {
    "duration": 6,
    "start_time": "2023-02-22T17:57:39.351Z"
   },
   {
    "duration": 9,
    "start_time": "2023-02-22T17:57:39.358Z"
   },
   {
    "duration": 24,
    "start_time": "2023-02-22T17:57:39.368Z"
   },
   {
    "duration": 7,
    "start_time": "2023-02-22T17:57:39.394Z"
   },
   {
    "duration": 676,
    "start_time": "2023-02-22T17:57:39.402Z"
   },
   {
    "duration": 694,
    "start_time": "2023-02-22T17:57:40.080Z"
   },
   {
    "duration": 680,
    "start_time": "2023-02-22T17:57:40.775Z"
   },
   {
    "duration": 692,
    "start_time": "2023-02-22T17:57:41.456Z"
   },
   {
    "duration": 664,
    "start_time": "2023-02-22T17:57:42.149Z"
   },
   {
    "duration": 810,
    "start_time": "2023-02-22T17:57:42.815Z"
   },
   {
    "duration": 3,
    "start_time": "2023-02-22T17:57:43.629Z"
   },
   {
    "duration": 10,
    "start_time": "2023-02-22T17:57:43.634Z"
   },
   {
    "duration": 51,
    "start_time": "2023-02-22T17:57:43.645Z"
   },
   {
    "duration": 785,
    "start_time": "2023-02-22T17:57:43.697Z"
   },
   {
    "duration": 3,
    "start_time": "2023-02-22T17:57:44.484Z"
   },
   {
    "duration": 417,
    "start_time": "2023-02-22T17:57:44.491Z"
   },
   {
    "duration": 488,
    "start_time": "2023-02-22T17:57:44.910Z"
   },
   {
    "duration": 4,
    "start_time": "2023-02-22T17:57:45.400Z"
   },
   {
    "duration": 407,
    "start_time": "2023-02-22T17:57:45.406Z"
   },
   {
    "duration": 422,
    "start_time": "2023-02-22T17:57:45.814Z"
   },
   {
    "duration": 6,
    "start_time": "2023-02-22T17:57:46.237Z"
   },
   {
    "duration": 12,
    "start_time": "2023-02-22T17:57:46.245Z"
   },
   {
    "duration": 2069,
    "start_time": "2023-02-22T17:57:46.258Z"
   },
   {
    "duration": 1839,
    "start_time": "2023-02-22T17:57:48.328Z"
   },
   {
    "duration": 2047,
    "start_time": "2023-02-22T17:57:50.169Z"
   },
   {
    "duration": 1967,
    "start_time": "2023-02-22T17:57:52.218Z"
   },
   {
    "duration": 3,
    "start_time": "2023-02-22T17:57:54.191Z"
   },
   {
    "duration": 14,
    "start_time": "2023-02-22T17:57:54.196Z"
   },
   {
    "duration": 22,
    "start_time": "2023-02-22T17:57:54.212Z"
   },
   {
    "duration": 12,
    "start_time": "2023-02-22T17:57:54.236Z"
   },
   {
    "duration": 726,
    "start_time": "2023-02-22T17:57:54.250Z"
   },
   {
    "duration": 57,
    "start_time": "2023-02-22T17:57:54.978Z"
   },
   {
    "duration": 3,
    "start_time": "2023-02-22T17:57:55.037Z"
   },
   {
    "duration": 9,
    "start_time": "2023-02-22T17:57:55.041Z"
   },
   {
    "duration": 30,
    "start_time": "2023-02-22T17:57:55.051Z"
   },
   {
    "duration": 19,
    "start_time": "2023-02-22T17:57:55.082Z"
   },
   {
    "duration": 15,
    "start_time": "2023-02-22T17:57:55.103Z"
   },
   {
    "duration": 8,
    "start_time": "2023-02-22T17:57:55.120Z"
   },
   {
    "duration": 5,
    "start_time": "2023-02-22T17:57:55.130Z"
   },
   {
    "duration": 2655,
    "start_time": "2023-02-22T17:57:55.137Z"
   },
   {
    "duration": 11,
    "start_time": "2023-02-22T17:57:57.794Z"
   },
   {
    "duration": 302963,
    "start_time": "2023-02-22T17:57:57.891Z"
   },
   {
    "duration": 3,
    "start_time": "2023-02-22T18:03:00.855Z"
   },
   {
    "duration": 60,
    "start_time": "2023-02-22T18:03:00.860Z"
   },
   {
    "duration": 100869,
    "start_time": "2023-02-22T18:03:00.922Z"
   },
   {
    "duration": 2,
    "start_time": "2023-02-22T18:04:41.793Z"
   },
   {
    "duration": 20,
    "start_time": "2023-02-22T18:04:41.797Z"
   },
   {
    "duration": 12,
    "start_time": "2023-02-22T18:04:41.818Z"
   },
   {
    "duration": 21,
    "start_time": "2023-02-22T18:04:41.831Z"
   },
   {
    "duration": 4,
    "start_time": "2023-02-22T18:05:12.433Z"
   },
   {
    "duration": 4,
    "start_time": "2023-02-22T18:05:15.425Z"
   },
   {
    "duration": 3,
    "start_time": "2023-02-22T18:05:27.963Z"
   },
   {
    "duration": 12,
    "start_time": "2023-02-22T18:05:28.714Z"
   },
   {
    "duration": 9,
    "start_time": "2023-02-22T18:05:48.763Z"
   },
   {
    "duration": 9,
    "start_time": "2023-02-22T18:05:52.923Z"
   },
   {
    "duration": 50,
    "start_time": "2023-02-22T18:05:55.932Z"
   },
   {
    "duration": 9,
    "start_time": "2023-02-22T18:06:00.267Z"
   },
   {
    "duration": 45,
    "start_time": "2023-02-22T18:06:15.740Z"
   },
   {
    "duration": 39,
    "start_time": "2023-02-22T18:06:18.218Z"
   },
   {
    "duration": 8,
    "start_time": "2023-02-22T18:06:23.658Z"
   },
   {
    "duration": 16,
    "start_time": "2023-02-22T18:06:31.227Z"
   },
   {
    "duration": 8,
    "start_time": "2023-02-22T18:06:40.616Z"
   },
   {
    "duration": 9,
    "start_time": "2023-02-22T18:06:43.171Z"
   },
   {
    "duration": 5,
    "start_time": "2023-02-22T18:08:40.694Z"
   },
   {
    "duration": 8,
    "start_time": "2023-02-22T18:08:47.164Z"
   },
   {
    "duration": 5,
    "start_time": "2023-02-22T18:08:47.871Z"
   },
   {
    "duration": 10,
    "start_time": "2023-02-22T18:08:48.669Z"
   },
   {
    "duration": 8,
    "start_time": "2023-02-22T18:09:47.475Z"
   },
   {
    "duration": 3,
    "start_time": "2023-02-22T18:09:48.335Z"
   },
   {
    "duration": 3,
    "start_time": "2023-02-22T18:09:51.847Z"
   },
   {
    "duration": 103,
    "start_time": "2023-02-22T18:10:26.648Z"
   },
   {
    "duration": 9,
    "start_time": "2023-02-22T18:10:36.672Z"
   },
   {
    "duration": 9,
    "start_time": "2023-02-22T18:10:42.069Z"
   },
   {
    "duration": 9,
    "start_time": "2023-02-22T18:10:47.536Z"
   },
   {
    "duration": 9,
    "start_time": "2023-02-22T18:10:52.816Z"
   },
   {
    "duration": 5,
    "start_time": "2023-02-22T18:10:55.198Z"
   },
   {
    "duration": 621,
    "start_time": "2023-02-22T18:10:55.205Z"
   },
   {
    "duration": 17,
    "start_time": "2023-02-22T18:10:55.831Z"
   },
   {
    "duration": 30,
    "start_time": "2023-02-22T18:10:55.851Z"
   },
   {
    "duration": 27,
    "start_time": "2023-02-22T18:10:55.883Z"
   },
   {
    "duration": 214,
    "start_time": "2023-02-22T18:10:55.912Z"
   },
   {
    "duration": 142,
    "start_time": "2023-02-22T18:10:56.127Z"
   },
   {
    "duration": 301,
    "start_time": "2023-02-22T18:10:56.271Z"
   },
   {
    "duration": 4,
    "start_time": "2023-02-22T18:10:56.574Z"
   },
   {
    "duration": 55,
    "start_time": "2023-02-22T18:10:56.580Z"
   },
   {
    "duration": 17,
    "start_time": "2023-02-22T18:10:56.637Z"
   },
   {
    "duration": 72,
    "start_time": "2023-02-22T18:10:56.656Z"
   },
   {
    "duration": 20,
    "start_time": "2023-02-22T18:10:56.729Z"
   },
   {
    "duration": 61,
    "start_time": "2023-02-22T18:10:56.750Z"
   },
   {
    "duration": 211,
    "start_time": "2023-02-22T18:10:56.813Z"
   },
   {
    "duration": 3,
    "start_time": "2023-02-22T18:10:57.026Z"
   },
   {
    "duration": 33,
    "start_time": "2023-02-22T18:10:57.030Z"
   },
   {
    "duration": 20,
    "start_time": "2023-02-22T18:10:57.065Z"
   },
   {
    "duration": 21,
    "start_time": "2023-02-22T18:10:57.086Z"
   },
   {
    "duration": 20,
    "start_time": "2023-02-22T18:10:57.109Z"
   },
   {
    "duration": 29,
    "start_time": "2023-02-22T18:10:57.130Z"
   },
   {
    "duration": 33,
    "start_time": "2023-02-22T18:10:57.160Z"
   },
   {
    "duration": 689,
    "start_time": "2023-02-22T18:10:57.194Z"
   },
   {
    "duration": 691,
    "start_time": "2023-02-22T18:10:57.891Z"
   },
   {
    "duration": 682,
    "start_time": "2023-02-22T18:10:58.584Z"
   },
   {
    "duration": 559,
    "start_time": "2023-02-22T18:10:59.268Z"
   },
   {
    "duration": 890,
    "start_time": "2023-02-22T18:10:59.829Z"
   },
   {
    "duration": 566,
    "start_time": "2023-02-22T18:11:00.720Z"
   },
   {
    "duration": 4,
    "start_time": "2023-02-22T18:11:01.290Z"
   },
   {
    "duration": 51,
    "start_time": "2023-02-22T18:11:01.296Z"
   },
   {
    "duration": 33,
    "start_time": "2023-02-22T18:11:01.348Z"
   },
   {
    "duration": 945,
    "start_time": "2023-02-22T18:11:01.383Z"
   },
   {
    "duration": 2,
    "start_time": "2023-02-22T18:11:02.330Z"
   },
   {
    "duration": 462,
    "start_time": "2023-02-22T18:11:02.334Z"
   },
   {
    "duration": 407,
    "start_time": "2023-02-22T18:11:02.798Z"
   },
   {
    "duration": 4,
    "start_time": "2023-02-22T18:11:03.207Z"
   },
   {
    "duration": 422,
    "start_time": "2023-02-22T18:11:03.213Z"
   },
   {
    "duration": 477,
    "start_time": "2023-02-22T18:11:03.637Z"
   },
   {
    "duration": 5,
    "start_time": "2023-02-22T18:11:04.116Z"
   },
   {
    "duration": 3,
    "start_time": "2023-02-22T18:11:04.123Z"
   },
   {
    "duration": 1919,
    "start_time": "2023-02-22T18:11:04.127Z"
   },
   {
    "duration": 1937,
    "start_time": "2023-02-22T18:11:06.048Z"
   },
   {
    "duration": 1946,
    "start_time": "2023-02-22T18:11:07.987Z"
   },
   {
    "duration": 2129,
    "start_time": "2023-02-22T18:11:09.934Z"
   },
   {
    "duration": 2,
    "start_time": "2023-02-22T18:11:12.065Z"
   },
   {
    "duration": 11,
    "start_time": "2023-02-22T18:11:12.069Z"
   },
   {
    "duration": 27,
    "start_time": "2023-02-22T18:11:12.081Z"
   },
   {
    "duration": 12,
    "start_time": "2023-02-22T18:11:12.110Z"
   },
   {
    "duration": 793,
    "start_time": "2023-02-22T18:11:12.124Z"
   },
   {
    "duration": 52,
    "start_time": "2023-02-22T18:11:12.919Z"
   },
   {
    "duration": 18,
    "start_time": "2023-02-22T18:11:12.973Z"
   },
   {
    "duration": 7,
    "start_time": "2023-02-22T18:11:12.993Z"
   },
   {
    "duration": 16,
    "start_time": "2023-02-22T18:11:13.002Z"
   },
   {
    "duration": 12,
    "start_time": "2023-02-22T18:11:13.020Z"
   },
   {
    "duration": 16,
    "start_time": "2023-02-22T18:11:13.033Z"
   },
   {
    "duration": 6,
    "start_time": "2023-02-22T18:11:13.051Z"
   },
   {
    "duration": 8,
    "start_time": "2023-02-22T18:11:13.058Z"
   },
   {
    "duration": 5,
    "start_time": "2023-02-22T18:11:13.068Z"
   },
   {
    "duration": 3013,
    "start_time": "2023-02-22T18:11:13.091Z"
   },
   {
    "duration": 90,
    "start_time": "2023-02-22T18:11:16.106Z"
   },
   {
    "duration": 95,
    "start_time": "2023-02-22T18:11:16.198Z"
   },
   {
    "duration": 302970,
    "start_time": "2023-02-22T18:11:16.294Z"
   },
   {
    "duration": 2,
    "start_time": "2023-02-22T18:16:19.266Z"
   },
   {
    "duration": 12,
    "start_time": "2023-02-22T18:16:19.270Z"
   },
   {
    "duration": 5,
    "start_time": "2023-02-22T18:16:19.292Z"
   },
   {
    "duration": 100082,
    "start_time": "2023-02-22T18:16:19.298Z"
   },
   {
    "duration": 9,
    "start_time": "2023-02-22T18:17:59.382Z"
   },
   {
    "duration": 11,
    "start_time": "2023-02-22T18:17:59.393Z"
   },
   {
    "duration": 5,
    "start_time": "2023-02-22T18:21:38.645Z"
   },
   {
    "duration": 631,
    "start_time": "2023-02-22T18:21:38.652Z"
   },
   {
    "duration": 19,
    "start_time": "2023-02-22T18:21:39.285Z"
   },
   {
    "duration": 11,
    "start_time": "2023-02-22T18:21:39.305Z"
   },
   {
    "duration": 16,
    "start_time": "2023-02-22T18:21:39.317Z"
   },
   {
    "duration": 226,
    "start_time": "2023-02-22T18:21:39.334Z"
   },
   {
    "duration": 121,
    "start_time": "2023-02-22T18:21:39.562Z"
   },
   {
    "duration": 233,
    "start_time": "2023-02-22T18:21:39.684Z"
   },
   {
    "duration": 4,
    "start_time": "2023-02-22T18:21:39.918Z"
   },
   {
    "duration": 46,
    "start_time": "2023-02-22T18:21:39.923Z"
   },
   {
    "duration": 31,
    "start_time": "2023-02-22T18:21:39.972Z"
   },
   {
    "duration": 42,
    "start_time": "2023-02-22T18:21:40.005Z"
   },
   {
    "duration": 19,
    "start_time": "2023-02-22T18:21:40.048Z"
   },
   {
    "duration": 51,
    "start_time": "2023-02-22T18:21:40.092Z"
   },
   {
    "duration": 231,
    "start_time": "2023-02-22T18:21:40.145Z"
   },
   {
    "duration": 3,
    "start_time": "2023-02-22T18:21:40.378Z"
   },
   {
    "duration": 6,
    "start_time": "2023-02-22T18:21:40.390Z"
   },
   {
    "duration": 9,
    "start_time": "2023-02-22T18:21:40.398Z"
   },
   {
    "duration": 6,
    "start_time": "2023-02-22T18:21:40.408Z"
   },
   {
    "duration": 5,
    "start_time": "2023-02-22T18:21:40.416Z"
   },
   {
    "duration": 9,
    "start_time": "2023-02-22T18:21:40.422Z"
   },
   {
    "duration": 4,
    "start_time": "2023-02-22T18:21:40.433Z"
   },
   {
    "duration": 894,
    "start_time": "2023-02-22T18:21:40.439Z"
   },
   {
    "duration": 616,
    "start_time": "2023-02-22T18:21:41.335Z"
   },
   {
    "duration": 974,
    "start_time": "2023-02-22T18:21:41.953Z"
   },
   {
    "duration": 583,
    "start_time": "2023-02-22T18:21:42.928Z"
   },
   {
    "duration": 858,
    "start_time": "2023-02-22T18:21:43.512Z"
   },
   {
    "duration": 568,
    "start_time": "2023-02-22T18:21:44.371Z"
   },
   {
    "duration": 4,
    "start_time": "2023-02-22T18:21:44.943Z"
   },
   {
    "duration": 8,
    "start_time": "2023-02-22T18:21:44.949Z"
   },
   {
    "duration": 11,
    "start_time": "2023-02-22T18:21:44.958Z"
   },
   {
    "duration": 707,
    "start_time": "2023-02-22T18:21:44.971Z"
   },
   {
    "duration": 2,
    "start_time": "2023-02-22T18:21:45.680Z"
   },
   {
    "duration": 414,
    "start_time": "2023-02-22T18:21:45.691Z"
   },
   {
    "duration": 656,
    "start_time": "2023-02-22T18:21:46.107Z"
   },
   {
    "duration": 6,
    "start_time": "2023-02-22T18:21:46.765Z"
   },
   {
    "duration": 451,
    "start_time": "2023-02-22T18:21:46.772Z"
   },
   {
    "duration": 496,
    "start_time": "2023-02-22T18:21:47.224Z"
   },
   {
    "duration": 5,
    "start_time": "2023-02-22T18:21:47.721Z"
   },
   {
    "duration": 5,
    "start_time": "2023-02-22T18:21:47.727Z"
   },
   {
    "duration": 1866,
    "start_time": "2023-02-22T18:21:47.733Z"
   },
   {
    "duration": 1853,
    "start_time": "2023-02-22T18:21:49.600Z"
   },
   {
    "duration": 1955,
    "start_time": "2023-02-22T18:21:51.454Z"
   },
   {
    "duration": 1885,
    "start_time": "2023-02-22T18:21:53.411Z"
   },
   {
    "duration": 3,
    "start_time": "2023-02-22T18:21:55.298Z"
   },
   {
    "duration": 14,
    "start_time": "2023-02-22T18:21:55.302Z"
   },
   {
    "duration": 20,
    "start_time": "2023-02-22T18:21:55.318Z"
   },
   {
    "duration": 13,
    "start_time": "2023-02-22T18:21:55.340Z"
   },
   {
    "duration": 836,
    "start_time": "2023-02-22T18:21:55.355Z"
   },
   {
    "duration": 51,
    "start_time": "2023-02-22T18:21:56.193Z"
   },
   {
    "duration": 3,
    "start_time": "2023-02-22T18:21:56.246Z"
   },
   {
    "duration": 7,
    "start_time": "2023-02-22T18:21:56.251Z"
   },
   {
    "duration": 13,
    "start_time": "2023-02-22T18:21:56.259Z"
   },
   {
    "duration": 7,
    "start_time": "2023-02-22T18:21:56.274Z"
   },
   {
    "duration": 25,
    "start_time": "2023-02-22T18:21:56.292Z"
   },
   {
    "duration": 8,
    "start_time": "2023-02-22T18:21:56.319Z"
   },
   {
    "duration": 9,
    "start_time": "2023-02-22T18:21:56.329Z"
   },
   {
    "duration": 8,
    "start_time": "2023-02-22T18:21:56.340Z"
   },
   {
    "duration": 2642,
    "start_time": "2023-02-22T18:21:56.350Z"
   },
   {
    "duration": 101,
    "start_time": "2023-02-22T18:21:58.994Z"
   },
   {
    "duration": 5,
    "start_time": "2023-02-22T18:21:59.096Z"
   },
   {
    "duration": 986,
    "start_time": "2023-02-22T18:21:59.102Z"
   },
   {
    "duration": 9,
    "start_time": "2023-02-22T18:22:00.090Z"
   },
   {
    "duration": 0,
    "start_time": "2023-02-22T18:22:00.100Z"
   },
   {
    "duration": 0,
    "start_time": "2023-02-22T18:22:00.101Z"
   },
   {
    "duration": 0,
    "start_time": "2023-02-22T18:22:00.103Z"
   },
   {
    "duration": 0,
    "start_time": "2023-02-22T18:22:00.104Z"
   },
   {
    "duration": 0,
    "start_time": "2023-02-22T18:22:00.105Z"
   },
   {
    "duration": 0,
    "start_time": "2023-02-22T18:22:00.106Z"
   },
   {
    "duration": 5,
    "start_time": "2023-02-22T18:22:41.217Z"
   },
   {
    "duration": 645,
    "start_time": "2023-02-22T18:22:41.223Z"
   },
   {
    "duration": 23,
    "start_time": "2023-02-22T18:22:41.870Z"
   },
   {
    "duration": 11,
    "start_time": "2023-02-22T18:22:41.895Z"
   },
   {
    "duration": 16,
    "start_time": "2023-02-22T18:22:41.908Z"
   },
   {
    "duration": 227,
    "start_time": "2023-02-22T18:22:41.925Z"
   },
   {
    "duration": 119,
    "start_time": "2023-02-22T18:22:42.154Z"
   },
   {
    "duration": 235,
    "start_time": "2023-02-22T18:22:42.275Z"
   },
   {
    "duration": 3,
    "start_time": "2023-02-22T18:22:42.511Z"
   },
   {
    "duration": 41,
    "start_time": "2023-02-22T18:22:42.516Z"
   },
   {
    "duration": 31,
    "start_time": "2023-02-22T18:22:42.560Z"
   },
   {
    "duration": 39,
    "start_time": "2023-02-22T18:22:42.593Z"
   },
   {
    "duration": 23,
    "start_time": "2023-02-22T18:22:42.633Z"
   },
   {
    "duration": 73,
    "start_time": "2023-02-22T18:22:42.657Z"
   },
   {
    "duration": 204,
    "start_time": "2023-02-22T18:22:42.731Z"
   },
   {
    "duration": 3,
    "start_time": "2023-02-22T18:22:42.937Z"
   },
   {
    "duration": 7,
    "start_time": "2023-02-22T18:22:42.941Z"
   },
   {
    "duration": 6,
    "start_time": "2023-02-22T18:22:42.949Z"
   },
   {
    "duration": 5,
    "start_time": "2023-02-22T18:22:42.956Z"
   },
   {
    "duration": 8,
    "start_time": "2023-02-22T18:22:42.963Z"
   },
   {
    "duration": 19,
    "start_time": "2023-02-22T18:22:42.973Z"
   },
   {
    "duration": 3,
    "start_time": "2023-02-22T18:22:42.993Z"
   },
   {
    "duration": 705,
    "start_time": "2023-02-22T18:22:42.997Z"
   },
   {
    "duration": 720,
    "start_time": "2023-02-22T18:22:43.704Z"
   },
   {
    "duration": 709,
    "start_time": "2023-02-22T18:22:44.426Z"
   },
   {
    "duration": 733,
    "start_time": "2023-02-22T18:22:45.136Z"
   },
   {
    "duration": 132,
    "start_time": "2023-02-22T18:22:45.871Z"
   },
   {
    "duration": 0,
    "start_time": "2023-02-22T18:22:46.006Z"
   },
   {
    "duration": 0,
    "start_time": "2023-02-22T18:22:46.007Z"
   },
   {
    "duration": 0,
    "start_time": "2023-02-22T18:22:46.008Z"
   },
   {
    "duration": 0,
    "start_time": "2023-02-22T18:22:46.009Z"
   },
   {
    "duration": 0,
    "start_time": "2023-02-22T18:22:46.010Z"
   },
   {
    "duration": 0,
    "start_time": "2023-02-22T18:22:46.011Z"
   },
   {
    "duration": 0,
    "start_time": "2023-02-22T18:22:46.012Z"
   },
   {
    "duration": 0,
    "start_time": "2023-02-22T18:22:46.013Z"
   },
   {
    "duration": 0,
    "start_time": "2023-02-22T18:22:46.014Z"
   },
   {
    "duration": 0,
    "start_time": "2023-02-22T18:22:46.015Z"
   },
   {
    "duration": 0,
    "start_time": "2023-02-22T18:22:46.016Z"
   },
   {
    "duration": 0,
    "start_time": "2023-02-22T18:22:46.017Z"
   },
   {
    "duration": 0,
    "start_time": "2023-02-22T18:22:46.017Z"
   },
   {
    "duration": 0,
    "start_time": "2023-02-22T18:22:46.018Z"
   },
   {
    "duration": 0,
    "start_time": "2023-02-22T18:22:46.019Z"
   },
   {
    "duration": 0,
    "start_time": "2023-02-22T18:22:46.021Z"
   },
   {
    "duration": 0,
    "start_time": "2023-02-22T18:22:46.021Z"
   },
   {
    "duration": 0,
    "start_time": "2023-02-22T18:22:46.023Z"
   },
   {
    "duration": 0,
    "start_time": "2023-02-22T18:22:46.024Z"
   },
   {
    "duration": 1,
    "start_time": "2023-02-22T18:22:46.024Z"
   },
   {
    "duration": 1,
    "start_time": "2023-02-22T18:22:46.025Z"
   },
   {
    "duration": 0,
    "start_time": "2023-02-22T18:22:46.026Z"
   },
   {
    "duration": 0,
    "start_time": "2023-02-22T18:22:46.027Z"
   },
   {
    "duration": 0,
    "start_time": "2023-02-22T18:22:46.028Z"
   },
   {
    "duration": 0,
    "start_time": "2023-02-22T18:22:46.029Z"
   },
   {
    "duration": 0,
    "start_time": "2023-02-22T18:22:46.030Z"
   },
   {
    "duration": 0,
    "start_time": "2023-02-22T18:22:46.031Z"
   },
   {
    "duration": 0,
    "start_time": "2023-02-22T18:22:46.032Z"
   },
   {
    "duration": 0,
    "start_time": "2023-02-22T18:22:46.033Z"
   },
   {
    "duration": 0,
    "start_time": "2023-02-22T18:22:46.034Z"
   },
   {
    "duration": 0,
    "start_time": "2023-02-22T18:22:46.034Z"
   },
   {
    "duration": 0,
    "start_time": "2023-02-22T18:22:46.036Z"
   },
   {
    "duration": 0,
    "start_time": "2023-02-22T18:22:46.037Z"
   },
   {
    "duration": 0,
    "start_time": "2023-02-22T18:22:46.091Z"
   },
   {
    "duration": 0,
    "start_time": "2023-02-22T18:22:46.093Z"
   },
   {
    "duration": 0,
    "start_time": "2023-02-22T18:22:46.094Z"
   },
   {
    "duration": 0,
    "start_time": "2023-02-22T18:22:46.096Z"
   },
   {
    "duration": 0,
    "start_time": "2023-02-22T18:22:46.097Z"
   },
   {
    "duration": 0,
    "start_time": "2023-02-22T18:22:46.099Z"
   },
   {
    "duration": 0,
    "start_time": "2023-02-22T18:22:46.100Z"
   },
   {
    "duration": 0,
    "start_time": "2023-02-22T18:22:46.101Z"
   },
   {
    "duration": 0,
    "start_time": "2023-02-22T18:22:46.102Z"
   },
   {
    "duration": 0,
    "start_time": "2023-02-22T18:22:46.104Z"
   },
   {
    "duration": 0,
    "start_time": "2023-02-22T18:22:46.105Z"
   },
   {
    "duration": 0,
    "start_time": "2023-02-22T18:22:46.106Z"
   },
   {
    "duration": 5,
    "start_time": "2023-02-22T18:22:51.761Z"
   },
   {
    "duration": 642,
    "start_time": "2023-02-22T18:22:51.768Z"
   },
   {
    "duration": 16,
    "start_time": "2023-02-22T18:22:52.411Z"
   },
   {
    "duration": 11,
    "start_time": "2023-02-22T18:22:52.430Z"
   },
   {
    "duration": 17,
    "start_time": "2023-02-22T18:22:52.442Z"
   },
   {
    "duration": 233,
    "start_time": "2023-02-22T18:22:52.460Z"
   },
   {
    "duration": 123,
    "start_time": "2023-02-22T18:22:52.695Z"
   },
   {
    "duration": 233,
    "start_time": "2023-02-22T18:22:52.820Z"
   },
   {
    "duration": 4,
    "start_time": "2023-02-22T18:22:53.056Z"
   },
   {
    "duration": 56,
    "start_time": "2023-02-22T18:22:53.062Z"
   },
   {
    "duration": 16,
    "start_time": "2023-02-22T18:22:53.120Z"
   },
   {
    "duration": 74,
    "start_time": "2023-02-22T18:22:53.137Z"
   },
   {
    "duration": 18,
    "start_time": "2023-02-22T18:22:53.213Z"
   },
   {
    "duration": 61,
    "start_time": "2023-02-22T18:22:53.233Z"
   },
   {
    "duration": 236,
    "start_time": "2023-02-22T18:22:53.296Z"
   },
   {
    "duration": 3,
    "start_time": "2023-02-22T18:22:53.534Z"
   },
   {
    "duration": 12,
    "start_time": "2023-02-22T18:22:53.539Z"
   },
   {
    "duration": 9,
    "start_time": "2023-02-22T18:22:53.553Z"
   },
   {
    "duration": 6,
    "start_time": "2023-02-22T18:22:53.563Z"
   },
   {
    "duration": 8,
    "start_time": "2023-02-22T18:22:53.570Z"
   },
   {
    "duration": 14,
    "start_time": "2023-02-22T18:22:53.580Z"
   },
   {
    "duration": 7,
    "start_time": "2023-02-22T18:22:53.596Z"
   },
   {
    "duration": 882,
    "start_time": "2023-02-22T18:22:53.605Z"
   },
   {
    "duration": 707,
    "start_time": "2023-02-22T18:22:54.491Z"
   },
   {
    "duration": 704,
    "start_time": "2023-02-22T18:22:55.199Z"
   },
   {
    "duration": 841,
    "start_time": "2023-02-22T18:22:55.905Z"
   },
   {
    "duration": 703,
    "start_time": "2023-02-22T18:22:56.748Z"
   },
   {
    "duration": 727,
    "start_time": "2023-02-22T18:22:57.453Z"
   },
   {
    "duration": 4,
    "start_time": "2023-02-22T18:22:58.182Z"
   },
   {
    "duration": 10,
    "start_time": "2023-02-22T18:22:58.191Z"
   },
   {
    "duration": 7,
    "start_time": "2023-02-22T18:22:58.203Z"
   },
   {
    "duration": 717,
    "start_time": "2023-02-22T18:22:58.212Z"
   },
   {
    "duration": 3,
    "start_time": "2023-02-22T18:22:58.930Z"
   },
   {
    "duration": 459,
    "start_time": "2023-02-22T18:22:58.934Z"
   },
   {
    "duration": 435,
    "start_time": "2023-02-22T18:22:59.395Z"
   },
   {
    "duration": 6,
    "start_time": "2023-02-22T18:22:59.832Z"
   },
   {
    "duration": 480,
    "start_time": "2023-02-22T18:22:59.839Z"
   },
   {
    "duration": 601,
    "start_time": "2023-02-22T18:23:00.321Z"
   },
   {
    "duration": 5,
    "start_time": "2023-02-22T18:23:00.923Z"
   },
   {
    "duration": 19,
    "start_time": "2023-02-22T18:23:00.930Z"
   },
   {
    "duration": 1997,
    "start_time": "2023-02-22T18:23:00.951Z"
   },
   {
    "duration": 1899,
    "start_time": "2023-02-22T18:23:02.949Z"
   },
   {
    "duration": 2077,
    "start_time": "2023-02-22T18:23:04.849Z"
   },
   {
    "duration": 1932,
    "start_time": "2023-02-22T18:23:06.928Z"
   },
   {
    "duration": 3,
    "start_time": "2023-02-22T18:23:08.861Z"
   },
   {
    "duration": 25,
    "start_time": "2023-02-22T18:23:08.866Z"
   },
   {
    "duration": 23,
    "start_time": "2023-02-22T18:23:08.893Z"
   },
   {
    "duration": 13,
    "start_time": "2023-02-22T18:23:08.917Z"
   },
   {
    "duration": 699,
    "start_time": "2023-02-22T18:23:08.932Z"
   },
   {
    "duration": 204,
    "start_time": "2023-02-22T18:23:09.632Z"
   },
   {
    "duration": 3,
    "start_time": "2023-02-22T18:23:09.838Z"
   },
   {
    "duration": 13,
    "start_time": "2023-02-22T18:23:09.852Z"
   },
   {
    "duration": 11,
    "start_time": "2023-02-22T18:23:09.866Z"
   },
   {
    "duration": 5,
    "start_time": "2023-02-22T18:23:09.879Z"
   },
   {
    "duration": 12,
    "start_time": "2023-02-22T18:23:09.886Z"
   },
   {
    "duration": 13,
    "start_time": "2023-02-22T18:23:09.899Z"
   },
   {
    "duration": 24,
    "start_time": "2023-02-22T18:23:09.914Z"
   },
   {
    "duration": 6,
    "start_time": "2023-02-22T18:23:09.940Z"
   },
   {
    "duration": 2551,
    "start_time": "2023-02-22T18:23:09.948Z"
   },
   {
    "duration": 192,
    "start_time": "2023-02-22T18:23:12.501Z"
   },
   {
    "duration": 4,
    "start_time": "2023-02-22T18:23:12.694Z"
   },
   {
    "duration": 100553,
    "start_time": "2023-02-22T18:23:12.700Z"
   },
   {
    "duration": 3,
    "start_time": "2023-02-22T18:24:53.255Z"
   },
   {
    "duration": 18,
    "start_time": "2023-02-22T18:24:53.259Z"
   },
   {
    "duration": 300052,
    "start_time": "2023-02-22T18:24:53.279Z"
   },
   {
    "duration": 3,
    "start_time": "2023-02-22T18:29:53.333Z"
   },
   {
    "duration": 12,
    "start_time": "2023-02-22T18:29:53.337Z"
   },
   {
    "duration": 14,
    "start_time": "2023-02-22T18:29:53.350Z"
   },
   {
    "duration": 4,
    "start_time": "2023-02-22T18:31:47.943Z"
   },
   {
    "duration": 9,
    "start_time": "2023-02-22T18:32:19.341Z"
   },
   {
    "duration": 7,
    "start_time": "2023-02-22T18:32:37.575Z"
   },
   {
    "duration": 3,
    "start_time": "2023-02-22T18:32:38.497Z"
   },
   {
    "duration": 9,
    "start_time": "2023-02-22T18:32:43.342Z"
   },
   {
    "duration": 3,
    "start_time": "2023-02-22T18:32:50.758Z"
   },
   {
    "duration": 114,
    "start_time": "2023-02-22T18:32:51.840Z"
   },
   {
    "duration": 12,
    "start_time": "2023-02-22T18:33:16.248Z"
   },
   {
    "duration": 6,
    "start_time": "2023-02-22T18:33:17.255Z"
   },
   {
    "duration": 12,
    "start_time": "2023-02-22T18:33:19.840Z"
   },
   {
    "duration": 14,
    "start_time": "2023-02-22T18:33:26.200Z"
   },
   {
    "duration": 2337,
    "start_time": "2023-02-22T18:42:46.092Z"
   },
   {
    "duration": 5,
    "start_time": "2023-02-22T18:42:54.814Z"
   },
   {
    "duration": 1500,
    "start_time": "2023-02-22T18:42:54.821Z"
   },
   {
    "duration": 81,
    "start_time": "2023-02-22T18:42:56.323Z"
   },
   {
    "duration": 16,
    "start_time": "2023-02-22T18:42:56.406Z"
   },
   {
    "duration": 84,
    "start_time": "2023-02-22T18:42:56.425Z"
   },
   {
    "duration": 491,
    "start_time": "2023-02-22T18:42:56.511Z"
   },
   {
    "duration": 223,
    "start_time": "2023-02-22T18:42:57.003Z"
   },
   {
    "duration": 499,
    "start_time": "2023-02-22T18:42:57.228Z"
   },
   {
    "duration": 4,
    "start_time": "2023-02-22T18:42:57.728Z"
   },
   {
    "duration": 104,
    "start_time": "2023-02-22T18:42:57.791Z"
   },
   {
    "duration": 16,
    "start_time": "2023-02-22T18:42:57.898Z"
   },
   {
    "duration": 101,
    "start_time": "2023-02-22T18:42:57.916Z"
   },
   {
    "duration": 90,
    "start_time": "2023-02-22T18:42:58.018Z"
   },
   {
    "duration": 113,
    "start_time": "2023-02-22T18:42:58.109Z"
   },
   {
    "duration": 478,
    "start_time": "2023-02-22T18:42:58.223Z"
   },
   {
    "duration": 3,
    "start_time": "2023-02-22T18:42:58.703Z"
   },
   {
    "duration": 7,
    "start_time": "2023-02-22T18:42:58.708Z"
   },
   {
    "duration": 5,
    "start_time": "2023-02-22T18:42:58.716Z"
   },
   {
    "duration": 5,
    "start_time": "2023-02-22T18:42:58.723Z"
   },
   {
    "duration": 67,
    "start_time": "2023-02-22T18:42:58.729Z"
   },
   {
    "duration": 8,
    "start_time": "2023-02-22T18:42:58.798Z"
   },
   {
    "duration": 4,
    "start_time": "2023-02-22T18:42:58.808Z"
   },
   {
    "duration": 1685,
    "start_time": "2023-02-22T18:42:58.813Z"
   },
   {
    "duration": 1196,
    "start_time": "2023-02-22T18:43:00.499Z"
   },
   {
    "duration": 1808,
    "start_time": "2023-02-22T18:43:01.697Z"
   },
   {
    "duration": 1200,
    "start_time": "2023-02-22T18:43:03.506Z"
   },
   {
    "duration": 1500,
    "start_time": "2023-02-22T18:43:04.708Z"
   },
   {
    "duration": 1510,
    "start_time": "2023-02-22T18:43:06.210Z"
   },
   {
    "duration": 4,
    "start_time": "2023-02-22T18:43:07.724Z"
   },
   {
    "duration": 70,
    "start_time": "2023-02-22T18:43:07.730Z"
   },
   {
    "duration": 11,
    "start_time": "2023-02-22T18:43:07.802Z"
   },
   {
    "duration": 1482,
    "start_time": "2023-02-22T18:43:07.815Z"
   },
   {
    "duration": 3,
    "start_time": "2023-02-22T18:43:09.299Z"
   },
   {
    "duration": 715,
    "start_time": "2023-02-22T18:43:09.304Z"
   },
   {
    "duration": 895,
    "start_time": "2023-02-22T18:43:10.020Z"
   },
   {
    "duration": 5,
    "start_time": "2023-02-22T18:43:10.916Z"
   },
   {
    "duration": 700,
    "start_time": "2023-02-22T18:43:10.923Z"
   },
   {
    "duration": 701,
    "start_time": "2023-02-22T18:43:11.625Z"
   },
   {
    "duration": 67,
    "start_time": "2023-02-22T18:43:12.327Z"
   },
   {
    "duration": 3,
    "start_time": "2023-02-22T18:43:12.396Z"
   },
   {
    "duration": 4103,
    "start_time": "2023-02-22T18:43:12.401Z"
   },
   {
    "duration": 4012,
    "start_time": "2023-02-22T18:43:16.521Z"
   },
   {
    "duration": 4166,
    "start_time": "2023-02-22T18:43:20.534Z"
   },
   {
    "duration": 4006,
    "start_time": "2023-02-22T18:43:24.701Z"
   },
   {
    "duration": 2,
    "start_time": "2023-02-22T18:43:28.709Z"
   },
   {
    "duration": 23,
    "start_time": "2023-02-22T18:43:28.713Z"
   },
   {
    "duration": 77,
    "start_time": "2023-02-22T18:43:28.737Z"
   },
   {
    "duration": 11,
    "start_time": "2023-02-22T18:43:28.816Z"
   },
   {
    "duration": 1776,
    "start_time": "2023-02-22T18:43:28.828Z"
   },
   {
    "duration": 111,
    "start_time": "2023-02-22T18:43:30.607Z"
   },
   {
    "duration": 3,
    "start_time": "2023-02-22T18:43:30.721Z"
   },
   {
    "duration": 65,
    "start_time": "2023-02-22T18:43:30.726Z"
   },
   {
    "duration": 40,
    "start_time": "2023-02-22T18:43:30.793Z"
   },
   {
    "duration": 58,
    "start_time": "2023-02-22T18:43:30.835Z"
   },
   {
    "duration": 17,
    "start_time": "2023-02-22T18:43:30.895Z"
   },
   {
    "duration": 20,
    "start_time": "2023-02-22T18:43:30.913Z"
   },
   {
    "duration": 25,
    "start_time": "2023-02-22T18:43:30.935Z"
   },
   {
    "duration": 3200,
    "start_time": "2023-02-22T18:43:30.992Z"
   },
   {
    "duration": 93,
    "start_time": "2023-02-22T18:43:34.199Z"
   },
   {
    "duration": 205031,
    "start_time": "2023-02-22T18:43:34.294Z"
   },
   {
    "duration": 3,
    "start_time": "2023-02-22T18:46:59.327Z"
   },
   {
    "duration": 61,
    "start_time": "2023-02-22T18:46:59.332Z"
   },
   {
    "duration": 597314,
    "start_time": "2023-02-22T18:46:59.395Z"
   },
   {
    "duration": 3,
    "start_time": "2023-02-22T18:56:56.712Z"
   },
   {
    "duration": 23,
    "start_time": "2023-02-22T18:56:56.717Z"
   },
   {
    "duration": 4,
    "start_time": "2023-02-22T18:57:13.513Z"
   },
   {
    "duration": 117,
    "start_time": "2023-02-22T18:57:16.267Z"
   },
   {
    "duration": 104,
    "start_time": "2023-02-22T18:57:22.019Z"
   },
   {
    "duration": 12,
    "start_time": "2023-02-22T18:57:23.339Z"
   },
   {
    "duration": 9,
    "start_time": "2023-02-22T18:57:24.491Z"
   },
   {
    "duration": 117,
    "start_time": "2023-02-22T18:57:26.868Z"
   },
   {
    "duration": 5,
    "start_time": "2023-02-22T19:00:17.317Z"
   },
   {
    "duration": 701,
    "start_time": "2023-02-22T19:00:17.324Z"
   },
   {
    "duration": 18,
    "start_time": "2023-02-22T19:00:18.027Z"
   },
   {
    "duration": 14,
    "start_time": "2023-02-22T19:00:18.047Z"
   },
   {
    "duration": 41,
    "start_time": "2023-02-22T19:00:18.063Z"
   },
   {
    "duration": 229,
    "start_time": "2023-02-22T19:00:18.106Z"
   },
   {
    "duration": 130,
    "start_time": "2023-02-22T19:00:18.336Z"
   },
   {
    "duration": 243,
    "start_time": "2023-02-22T19:00:18.467Z"
   },
   {
    "duration": 4,
    "start_time": "2023-02-22T19:00:18.712Z"
   },
   {
    "duration": 43,
    "start_time": "2023-02-22T19:00:18.718Z"
   },
   {
    "duration": 36,
    "start_time": "2023-02-22T19:00:18.764Z"
   },
   {
    "duration": 43,
    "start_time": "2023-02-22T19:00:18.802Z"
   },
   {
    "duration": 44,
    "start_time": "2023-02-22T19:00:18.847Z"
   },
   {
    "duration": 54,
    "start_time": "2023-02-22T19:00:18.893Z"
   },
   {
    "duration": 224,
    "start_time": "2023-02-22T19:00:18.948Z"
   },
   {
    "duration": 4,
    "start_time": "2023-02-22T19:00:19.173Z"
   },
   {
    "duration": 6,
    "start_time": "2023-02-22T19:00:19.195Z"
   },
   {
    "duration": 9,
    "start_time": "2023-02-22T19:00:19.203Z"
   },
   {
    "duration": 9,
    "start_time": "2023-02-22T19:00:19.214Z"
   },
   {
    "duration": 7,
    "start_time": "2023-02-22T19:00:19.225Z"
   },
   {
    "duration": 12,
    "start_time": "2023-02-22T19:00:19.234Z"
   },
   {
    "duration": 8,
    "start_time": "2023-02-22T19:00:19.248Z"
   },
   {
    "duration": 854,
    "start_time": "2023-02-22T19:00:19.258Z"
   },
   {
    "duration": 581,
    "start_time": "2023-02-22T19:00:20.114Z"
   },
   {
    "duration": 699,
    "start_time": "2023-02-22T19:00:20.697Z"
   },
   {
    "duration": 729,
    "start_time": "2023-02-22T19:00:21.398Z"
   },
   {
    "duration": 685,
    "start_time": "2023-02-22T19:00:22.129Z"
   },
   {
    "duration": 712,
    "start_time": "2023-02-22T19:00:22.816Z"
   },
   {
    "duration": 3,
    "start_time": "2023-02-22T19:00:23.532Z"
   },
   {
    "duration": 11,
    "start_time": "2023-02-22T19:00:23.537Z"
   },
   {
    "duration": 9,
    "start_time": "2023-02-22T19:00:23.549Z"
   },
   {
    "duration": 732,
    "start_time": "2023-02-22T19:00:23.559Z"
   },
   {
    "duration": 3,
    "start_time": "2023-02-22T19:00:24.293Z"
   },
   {
    "duration": 396,
    "start_time": "2023-02-22T19:00:24.298Z"
   },
   {
    "duration": 416,
    "start_time": "2023-02-22T19:00:24.696Z"
   },
   {
    "duration": 5,
    "start_time": "2023-02-22T19:00:25.114Z"
   },
   {
    "duration": 504,
    "start_time": "2023-02-22T19:00:25.121Z"
   },
   {
    "duration": 599,
    "start_time": "2023-02-22T19:00:25.627Z"
   },
   {
    "duration": 5,
    "start_time": "2023-02-22T19:00:26.228Z"
   },
   {
    "duration": 6,
    "start_time": "2023-02-22T19:00:26.235Z"
   },
   {
    "duration": 1939,
    "start_time": "2023-02-22T19:00:26.242Z"
   },
   {
    "duration": 1870,
    "start_time": "2023-02-22T19:00:28.182Z"
   },
   {
    "duration": 2041,
    "start_time": "2023-02-22T19:00:30.054Z"
   },
   {
    "duration": 1920,
    "start_time": "2023-02-22T19:00:32.097Z"
   },
   {
    "duration": 3,
    "start_time": "2023-02-22T19:00:34.018Z"
   },
   {
    "duration": 11,
    "start_time": "2023-02-22T19:00:34.023Z"
   },
   {
    "duration": 24,
    "start_time": "2023-02-22T19:00:34.036Z"
   },
   {
    "duration": 34,
    "start_time": "2023-02-22T19:00:34.062Z"
   },
   {
    "duration": 705,
    "start_time": "2023-02-22T19:00:34.098Z"
   },
   {
    "duration": 178,
    "start_time": "2023-02-22T19:00:34.805Z"
   },
   {
    "duration": 7,
    "start_time": "2023-02-22T19:00:34.985Z"
   },
   {
    "duration": 3,
    "start_time": "2023-02-22T19:00:34.993Z"
   },
   {
    "duration": 9,
    "start_time": "2023-02-22T19:00:34.997Z"
   },
   {
    "duration": 11,
    "start_time": "2023-02-22T19:00:35.007Z"
   },
   {
    "duration": 3,
    "start_time": "2023-02-22T19:04:00.665Z"
   },
   {
    "duration": 2,
    "start_time": "2023-02-22T19:04:02.722Z"
   },
   {
    "duration": 3,
    "start_time": "2023-02-22T19:04:04.066Z"
   },
   {
    "duration": 2636,
    "start_time": "2023-02-22T19:04:04.563Z"
   },
   {
    "duration": 12,
    "start_time": "2023-02-22T19:04:20.474Z"
   },
   {
    "duration": 5,
    "start_time": "2023-02-22T19:04:23.363Z"
   },
   {
    "duration": 12,
    "start_time": "2023-02-22T19:04:26.635Z"
   },
   {
    "duration": 2,
    "start_time": "2023-02-22T19:04:36.364Z"
   },
   {
    "duration": 50,
    "start_time": "2023-02-22T19:04:38.139Z"
   },
   {
    "duration": 5,
    "start_time": "2023-02-22T19:04:42.072Z"
   },
   {
    "duration": 8,
    "start_time": "2023-02-22T19:05:14.565Z"
   },
   {
    "duration": 3,
    "start_time": "2023-02-22T19:05:15.219Z"
   },
   {
    "duration": 3,
    "start_time": "2023-02-22T19:05:18.068Z"
   },
   {
    "duration": 3,
    "start_time": "2023-02-22T19:05:18.491Z"
   },
   {
    "duration": 3,
    "start_time": "2023-02-22T19:05:18.915Z"
   },
   {
    "duration": 2626,
    "start_time": "2023-02-22T19:05:19.365Z"
   },
   {
    "duration": 3,
    "start_time": "2023-02-22T19:05:35.989Z"
   },
   {
    "duration": 107,
    "start_time": "2023-02-22T19:05:38.476Z"
   },
   {
    "duration": 5,
    "start_time": "2023-02-22T19:05:41.836Z"
   },
   {
    "duration": 5,
    "start_time": "2023-02-22T19:05:44.165Z"
   },
   {
    "duration": 19,
    "start_time": "2023-02-22T19:05:45.315Z"
   },
   {
    "duration": 8,
    "start_time": "2023-02-22T19:06:05.733Z"
   },
   {
    "duration": 10,
    "start_time": "2023-02-22T19:06:31.029Z"
   },
   {
    "duration": 10,
    "start_time": "2023-02-22T19:07:07.868Z"
   },
   {
    "duration": 8,
    "start_time": "2023-02-22T19:07:36.846Z"
   },
   {
    "duration": 10,
    "start_time": "2023-02-22T19:07:45.078Z"
   },
   {
    "duration": 10,
    "start_time": "2023-02-22T19:07:54.717Z"
   },
   {
    "duration": 11,
    "start_time": "2023-02-22T19:08:40.336Z"
   },
   {
    "duration": 25,
    "start_time": "2023-02-22T19:09:06.536Z"
   },
   {
    "duration": 14,
    "start_time": "2023-02-22T19:09:09.396Z"
   },
   {
    "duration": 4,
    "start_time": "2023-02-22T19:09:55.593Z"
   },
   {
    "duration": 628,
    "start_time": "2023-02-22T19:09:55.599Z"
   },
   {
    "duration": 22,
    "start_time": "2023-02-22T19:09:56.229Z"
   },
   {
    "duration": 12,
    "start_time": "2023-02-22T19:09:56.252Z"
   },
   {
    "duration": 38,
    "start_time": "2023-02-22T19:09:56.266Z"
   },
   {
    "duration": 294,
    "start_time": "2023-02-22T19:09:56.306Z"
   },
   {
    "duration": 131,
    "start_time": "2023-02-22T19:09:56.602Z"
   },
   {
    "duration": 235,
    "start_time": "2023-02-22T19:09:56.735Z"
   },
   {
    "duration": 4,
    "start_time": "2023-02-22T19:09:56.973Z"
   },
   {
    "duration": 51,
    "start_time": "2023-02-22T19:09:56.979Z"
   },
   {
    "duration": 16,
    "start_time": "2023-02-22T19:09:57.032Z"
   },
   {
    "duration": 68,
    "start_time": "2023-02-22T19:09:57.049Z"
   },
   {
    "duration": 18,
    "start_time": "2023-02-22T19:09:57.118Z"
   },
   {
    "duration": 65,
    "start_time": "2023-02-22T19:09:57.138Z"
   },
   {
    "duration": 215,
    "start_time": "2023-02-22T19:09:57.205Z"
   },
   {
    "duration": 4,
    "start_time": "2023-02-22T19:09:57.422Z"
   },
   {
    "duration": 16,
    "start_time": "2023-02-22T19:09:57.428Z"
   },
   {
    "duration": 11,
    "start_time": "2023-02-22T19:09:57.445Z"
   },
   {
    "duration": 4,
    "start_time": "2023-02-22T19:09:57.458Z"
   },
   {
    "duration": 4,
    "start_time": "2023-02-22T19:09:57.464Z"
   },
   {
    "duration": 10,
    "start_time": "2023-02-22T19:09:57.469Z"
   },
   {
    "duration": 12,
    "start_time": "2023-02-22T19:09:57.480Z"
   },
   {
    "duration": 680,
    "start_time": "2023-02-22T19:09:57.493Z"
   },
   {
    "duration": 726,
    "start_time": "2023-02-22T19:09:58.176Z"
   },
   {
    "duration": 738,
    "start_time": "2023-02-22T19:09:58.904Z"
   },
   {
    "duration": 728,
    "start_time": "2023-02-22T19:09:59.644Z"
   },
   {
    "duration": 884,
    "start_time": "2023-02-22T19:10:00.373Z"
   },
   {
    "duration": 576,
    "start_time": "2023-02-22T19:10:01.259Z"
   },
   {
    "duration": 4,
    "start_time": "2023-02-22T19:10:01.836Z"
   },
   {
    "duration": 22,
    "start_time": "2023-02-22T19:10:01.841Z"
   },
   {
    "duration": 24,
    "start_time": "2023-02-22T19:10:01.864Z"
   },
   {
    "duration": 894,
    "start_time": "2023-02-22T19:10:01.890Z"
   },
   {
    "duration": 7,
    "start_time": "2023-02-22T19:10:02.785Z"
   },
   {
    "duration": 400,
    "start_time": "2023-02-22T19:10:02.793Z"
   },
   {
    "duration": 414,
    "start_time": "2023-02-22T19:10:03.195Z"
   },
   {
    "duration": 5,
    "start_time": "2023-02-22T19:10:03.611Z"
   },
   {
    "duration": 498,
    "start_time": "2023-02-22T19:10:03.618Z"
   },
   {
    "duration": 503,
    "start_time": "2023-02-22T19:10:04.118Z"
   },
   {
    "duration": 5,
    "start_time": "2023-02-22T19:10:04.623Z"
   },
   {
    "duration": 11,
    "start_time": "2023-02-22T19:10:04.629Z"
   },
   {
    "duration": 1933,
    "start_time": "2023-02-22T19:10:04.641Z"
   },
   {
    "duration": 1871,
    "start_time": "2023-02-22T19:10:06.576Z"
   },
   {
    "duration": 2023,
    "start_time": "2023-02-22T19:10:08.449Z"
   },
   {
    "duration": 2142,
    "start_time": "2023-02-22T19:10:10.474Z"
   },
   {
    "duration": 3,
    "start_time": "2023-02-22T19:10:12.618Z"
   },
   {
    "duration": 12,
    "start_time": "2023-02-22T19:10:12.622Z"
   },
   {
    "duration": 41,
    "start_time": "2023-02-22T19:10:12.635Z"
   },
   {
    "duration": 16,
    "start_time": "2023-02-22T19:10:12.678Z"
   },
   {
    "duration": 705,
    "start_time": "2023-02-22T19:10:12.696Z"
   },
   {
    "duration": 49,
    "start_time": "2023-02-22T19:10:13.403Z"
   },
   {
    "duration": 3,
    "start_time": "2023-02-22T19:10:13.454Z"
   },
   {
    "duration": 13,
    "start_time": "2023-02-22T19:10:13.461Z"
   },
   {
    "duration": 20,
    "start_time": "2023-02-22T19:10:13.475Z"
   },
   {
    "duration": 4,
    "start_time": "2023-02-22T19:10:13.496Z"
   },
   {
    "duration": 8,
    "start_time": "2023-02-22T19:10:13.501Z"
   },
   {
    "duration": 5,
    "start_time": "2023-02-22T19:10:13.511Z"
   },
   {
    "duration": 5,
    "start_time": "2023-02-22T19:10:13.517Z"
   },
   {
    "duration": 2579,
    "start_time": "2023-02-22T19:10:13.523Z"
   },
   {
    "duration": 92,
    "start_time": "2023-02-22T19:10:16.200Z"
   },
   {
    "duration": 100987,
    "start_time": "2023-02-22T19:10:16.294Z"
   },
   {
    "duration": 10,
    "start_time": "2023-02-22T19:11:57.283Z"
   },
   {
    "duration": 8,
    "start_time": "2023-02-22T19:11:57.294Z"
   },
   {
    "duration": 302219,
    "start_time": "2023-02-22T19:11:57.303Z"
   },
   {
    "duration": 3,
    "start_time": "2023-02-22T19:16:59.524Z"
   },
   {
    "duration": 11,
    "start_time": "2023-02-22T19:16:59.529Z"
   },
   {
    "duration": 11,
    "start_time": "2023-02-22T19:17:13.607Z"
   },
   {
    "duration": 3,
    "start_time": "2023-02-22T19:17:18.448Z"
   },
   {
    "duration": 100,
    "start_time": "2023-02-22T19:17:19.087Z"
   },
   {
    "duration": 14,
    "start_time": "2023-02-22T19:17:20.929Z"
   },
   {
    "duration": 12,
    "start_time": "2023-02-22T19:17:28.936Z"
   },
   {
    "duration": 5,
    "start_time": "2023-02-22T19:17:30.083Z"
   },
   {
    "duration": 14,
    "start_time": "2023-02-22T19:17:34.525Z"
   },
   {
    "duration": 14,
    "start_time": "2023-02-22T19:17:38.568Z"
   },
   {
    "duration": 7,
    "start_time": "2023-02-22T19:23:24.839Z"
   },
   {
    "duration": 12,
    "start_time": "2023-02-22T19:23:26.920Z"
   },
   {
    "duration": 7,
    "start_time": "2023-02-22T19:23:27.648Z"
   },
   {
    "duration": 15,
    "start_time": "2023-02-22T19:23:33.255Z"
   },
   {
    "duration": 12,
    "start_time": "2023-02-22T19:23:49.902Z"
   },
   {
    "duration": 5,
    "start_time": "2023-02-22T19:23:51.351Z"
   },
   {
    "duration": 6,
    "start_time": "2023-02-22T19:23:52.583Z"
   },
   {
    "duration": 4,
    "start_time": "2023-02-22T19:23:53.528Z"
   },
   {
    "duration": 12,
    "start_time": "2023-02-22T19:23:54.559Z"
   },
   {
    "duration": 8,
    "start_time": "2023-02-22T19:23:55.585Z"
   },
   {
    "duration": 13,
    "start_time": "2023-02-22T19:23:56.167Z"
   },
   {
    "duration": 11,
    "start_time": "2023-02-22T19:24:02.265Z"
   },
   {
    "duration": 2,
    "start_time": "2023-02-22T19:24:02.935Z"
   },
   {
    "duration": 6,
    "start_time": "2023-02-22T19:24:03.431Z"
   },
   {
    "duration": 3,
    "start_time": "2023-02-22T19:24:17.368Z"
   },
   {
    "duration": 14,
    "start_time": "2023-02-22T19:24:19.618Z"
   },
   {
    "duration": 12,
    "start_time": "2023-02-22T19:24:33.612Z"
   },
   {
    "duration": 13,
    "start_time": "2023-02-22T19:24:35.213Z"
   },
   {
    "duration": 6,
    "start_time": "2023-02-22T19:24:46.472Z"
   },
   {
    "duration": 648,
    "start_time": "2023-02-22T19:24:47.177Z"
   },
   {
    "duration": 9,
    "start_time": "2023-02-22T19:24:51.458Z"
   },
   {
    "duration": 4,
    "start_time": "2023-02-22T19:24:52.952Z"
   },
   {
    "duration": 4,
    "start_time": "2023-02-22T19:25:06.180Z"
   },
   {
    "duration": 746,
    "start_time": "2023-02-22T19:25:06.186Z"
   },
   {
    "duration": 17,
    "start_time": "2023-02-22T19:25:06.934Z"
   },
   {
    "duration": 11,
    "start_time": "2023-02-22T19:25:06.952Z"
   },
   {
    "duration": 40,
    "start_time": "2023-02-22T19:25:06.965Z"
   },
   {
    "duration": 248,
    "start_time": "2023-02-22T19:25:07.007Z"
   },
   {
    "duration": 139,
    "start_time": "2023-02-22T19:25:07.257Z"
   },
   {
    "duration": 263,
    "start_time": "2023-02-22T19:25:07.397Z"
   },
   {
    "duration": 3,
    "start_time": "2023-02-22T19:25:07.662Z"
   },
   {
    "duration": 55,
    "start_time": "2023-02-22T19:25:07.667Z"
   },
   {
    "duration": 17,
    "start_time": "2023-02-22T19:25:07.725Z"
   },
   {
    "duration": 62,
    "start_time": "2023-02-22T19:25:07.744Z"
   },
   {
    "duration": 29,
    "start_time": "2023-02-22T19:25:07.808Z"
   },
   {
    "duration": 79,
    "start_time": "2023-02-22T19:25:07.839Z"
   },
   {
    "duration": 244,
    "start_time": "2023-02-22T19:25:07.920Z"
   },
   {
    "duration": 4,
    "start_time": "2023-02-22T19:25:08.166Z"
   },
   {
    "duration": 7,
    "start_time": "2023-02-22T19:25:08.171Z"
   },
   {
    "duration": 5,
    "start_time": "2023-02-22T19:25:08.191Z"
   },
   {
    "duration": 12,
    "start_time": "2023-02-22T19:25:08.197Z"
   },
   {
    "duration": 8,
    "start_time": "2023-02-22T19:25:08.210Z"
   },
   {
    "duration": 9,
    "start_time": "2023-02-22T19:25:08.219Z"
   },
   {
    "duration": 7,
    "start_time": "2023-02-22T19:25:08.229Z"
   },
   {
    "duration": 940,
    "start_time": "2023-02-22T19:25:08.237Z"
   },
   {
    "duration": 612,
    "start_time": "2023-02-22T19:25:09.179Z"
   },
   {
    "duration": 917,
    "start_time": "2023-02-22T19:25:09.793Z"
   },
   {
    "duration": 608,
    "start_time": "2023-02-22T19:25:10.711Z"
   },
   {
    "duration": 927,
    "start_time": "2023-02-22T19:25:11.321Z"
   },
   {
    "duration": 632,
    "start_time": "2023-02-22T19:25:12.250Z"
   },
   {
    "duration": 4,
    "start_time": "2023-02-22T19:25:12.890Z"
   },
   {
    "duration": 9,
    "start_time": "2023-02-22T19:25:12.896Z"
   },
   {
    "duration": 9,
    "start_time": "2023-02-22T19:25:12.907Z"
   },
   {
    "duration": 790,
    "start_time": "2023-02-22T19:25:12.918Z"
   },
   {
    "duration": 3,
    "start_time": "2023-02-22T19:25:13.710Z"
   },
   {
    "duration": 504,
    "start_time": "2023-02-22T19:25:13.714Z"
   },
   {
    "duration": 614,
    "start_time": "2023-02-22T19:25:14.220Z"
   },
   {
    "duration": 6,
    "start_time": "2023-02-22T19:25:14.836Z"
   },
   {
    "duration": 475,
    "start_time": "2023-02-22T19:25:14.843Z"
   },
   {
    "duration": 502,
    "start_time": "2023-02-22T19:25:15.320Z"
   },
   {
    "duration": 7,
    "start_time": "2023-02-22T19:25:15.824Z"
   },
   {
    "duration": 8,
    "start_time": "2023-02-22T19:25:15.833Z"
   },
   {
    "duration": 2127,
    "start_time": "2023-02-22T19:25:15.843Z"
   },
   {
    "duration": 1897,
    "start_time": "2023-02-22T19:25:17.972Z"
   },
   {
    "duration": 1973,
    "start_time": "2023-02-22T19:25:19.871Z"
   },
   {
    "duration": 1915,
    "start_time": "2023-02-22T19:25:21.846Z"
   },
   {
    "duration": 3,
    "start_time": "2023-02-22T19:25:23.763Z"
   },
   {
    "duration": 23,
    "start_time": "2023-02-22T19:25:23.768Z"
   },
   {
    "duration": 25,
    "start_time": "2023-02-22T19:25:23.793Z"
   },
   {
    "duration": 16,
    "start_time": "2023-02-22T19:25:23.819Z"
   },
   {
    "duration": 808,
    "start_time": "2023-02-22T19:25:23.837Z"
   },
   {
    "duration": 54,
    "start_time": "2023-02-22T19:25:24.647Z"
   },
   {
    "duration": 3,
    "start_time": "2023-02-22T19:25:24.703Z"
   },
   {
    "duration": 6,
    "start_time": "2023-02-22T19:25:24.707Z"
   },
   {
    "duration": 13,
    "start_time": "2023-02-22T19:25:24.715Z"
   },
   {
    "duration": 8,
    "start_time": "2023-02-22T19:25:24.730Z"
   },
   {
    "duration": 2,
    "start_time": "2023-02-22T19:25:37.290Z"
   },
   {
    "duration": 104,
    "start_time": "2023-02-22T19:25:38.192Z"
   },
   {
    "duration": 16,
    "start_time": "2023-02-22T19:25:41.888Z"
   },
   {
    "duration": 5,
    "start_time": "2023-02-22T19:25:42.872Z"
   },
   {
    "duration": 4,
    "start_time": "2023-02-22T19:25:43.430Z"
   },
   {
    "duration": 5,
    "start_time": "2023-02-22T19:25:45.538Z"
   },
   {
    "duration": 11,
    "start_time": "2023-02-22T19:25:52.162Z"
   },
   {
    "duration": 6,
    "start_time": "2023-02-22T19:26:42.242Z"
   },
   {
    "duration": 26,
    "start_time": "2023-02-22T19:26:42.972Z"
   },
   {
    "duration": 7,
    "start_time": "2023-02-22T19:27:20.090Z"
   },
   {
    "duration": 21,
    "start_time": "2023-02-22T19:27:39.293Z"
   },
   {
    "duration": 7,
    "start_time": "2023-02-22T19:27:44.453Z"
   },
   {
    "duration": 8,
    "start_time": "2023-02-22T19:28:02.331Z"
   },
   {
    "duration": 813,
    "start_time": "2023-02-22T19:28:04.955Z"
   },
   {
    "duration": 8,
    "start_time": "2023-02-22T19:28:09.347Z"
   },
   {
    "duration": 13,
    "start_time": "2023-02-22T19:28:16.427Z"
   },
   {
    "duration": 700,
    "start_time": "2023-02-22T19:28:19.640Z"
   },
   {
    "duration": 8,
    "start_time": "2023-02-22T19:28:22.580Z"
   },
   {
    "duration": 5,
    "start_time": "2023-02-22T19:28:29.477Z"
   },
   {
    "duration": 8,
    "start_time": "2023-02-22T19:28:42.661Z"
   },
   {
    "duration": 5,
    "start_time": "2023-02-22T19:28:49.380Z"
   },
   {
    "duration": 5,
    "start_time": "2023-02-22T19:29:33.268Z"
   },
   {
    "duration": 5,
    "start_time": "2023-02-22T19:29:34.893Z"
   },
   {
    "duration": 17,
    "start_time": "2023-02-22T19:29:38.182Z"
   },
   {
    "duration": 12,
    "start_time": "2023-02-22T19:29:59.999Z"
   },
   {
    "duration": 6,
    "start_time": "2023-02-22T19:36:56.837Z"
   },
   {
    "duration": 702,
    "start_time": "2023-02-22T19:36:56.845Z"
   },
   {
    "duration": 15,
    "start_time": "2023-02-22T19:36:57.549Z"
   },
   {
    "duration": 32,
    "start_time": "2023-02-22T19:36:57.566Z"
   },
   {
    "duration": 16,
    "start_time": "2023-02-22T19:36:57.599Z"
   },
   {
    "duration": 227,
    "start_time": "2023-02-22T19:36:57.617Z"
   },
   {
    "duration": 126,
    "start_time": "2023-02-22T19:36:57.845Z"
   },
   {
    "duration": 241,
    "start_time": "2023-02-22T19:36:57.972Z"
   },
   {
    "duration": 4,
    "start_time": "2023-02-22T19:36:58.216Z"
   },
   {
    "duration": 39,
    "start_time": "2023-02-22T19:36:58.222Z"
   },
   {
    "duration": 35,
    "start_time": "2023-02-22T19:36:58.263Z"
   },
   {
    "duration": 41,
    "start_time": "2023-02-22T19:36:58.299Z"
   },
   {
    "duration": 21,
    "start_time": "2023-02-22T19:36:58.342Z"
   },
   {
    "duration": 76,
    "start_time": "2023-02-22T19:36:58.364Z"
   },
   {
    "duration": 223,
    "start_time": "2023-02-22T19:36:58.441Z"
   },
   {
    "duration": 4,
    "start_time": "2023-02-22T19:36:58.665Z"
   },
   {
    "duration": 7,
    "start_time": "2023-02-22T19:36:58.670Z"
   },
   {
    "duration": 13,
    "start_time": "2023-02-22T19:36:58.679Z"
   },
   {
    "duration": 3,
    "start_time": "2023-02-22T19:36:58.694Z"
   },
   {
    "duration": 5,
    "start_time": "2023-02-22T19:36:58.698Z"
   },
   {
    "duration": 8,
    "start_time": "2023-02-22T19:36:58.704Z"
   },
   {
    "duration": 5,
    "start_time": "2023-02-22T19:36:58.713Z"
   },
   {
    "duration": 702,
    "start_time": "2023-02-22T19:36:58.720Z"
   },
   {
    "duration": 723,
    "start_time": "2023-02-22T19:36:59.427Z"
   },
   {
    "duration": 692,
    "start_time": "2023-02-22T19:37:00.152Z"
   },
   {
    "duration": 733,
    "start_time": "2023-02-22T19:37:00.846Z"
   },
   {
    "duration": 729,
    "start_time": "2023-02-22T19:37:01.581Z"
   },
   {
    "duration": 728,
    "start_time": "2023-02-22T19:37:02.312Z"
   },
   {
    "duration": 3,
    "start_time": "2023-02-22T19:37:03.042Z"
   },
   {
    "duration": 10,
    "start_time": "2023-02-22T19:37:03.047Z"
   },
   {
    "duration": 9,
    "start_time": "2023-02-22T19:37:03.059Z"
   },
   {
    "duration": 703,
    "start_time": "2023-02-22T19:37:03.069Z"
   },
   {
    "duration": 2,
    "start_time": "2023-02-22T19:37:03.774Z"
   },
   {
    "duration": 415,
    "start_time": "2023-02-22T19:37:03.778Z"
   },
   {
    "duration": 414,
    "start_time": "2023-02-22T19:37:04.195Z"
   },
   {
    "duration": 5,
    "start_time": "2023-02-22T19:37:04.611Z"
   },
   {
    "duration": 495,
    "start_time": "2023-02-22T19:37:04.617Z"
   },
   {
    "duration": 410,
    "start_time": "2023-02-22T19:37:05.113Z"
   },
   {
    "duration": 5,
    "start_time": "2023-02-22T19:37:05.524Z"
   },
   {
    "duration": 4,
    "start_time": "2023-02-22T19:37:05.531Z"
   },
   {
    "duration": 2140,
    "start_time": "2023-02-22T19:37:05.537Z"
   },
   {
    "duration": 1948,
    "start_time": "2023-02-22T19:37:07.679Z"
   },
   {
    "duration": 2043,
    "start_time": "2023-02-22T19:37:09.629Z"
   },
   {
    "duration": 2096,
    "start_time": "2023-02-22T19:37:11.674Z"
   },
   {
    "duration": 3,
    "start_time": "2023-02-22T19:37:13.772Z"
   },
   {
    "duration": 19,
    "start_time": "2023-02-22T19:37:13.777Z"
   },
   {
    "duration": 23,
    "start_time": "2023-02-22T19:37:13.798Z"
   },
   {
    "duration": 15,
    "start_time": "2023-02-22T19:37:13.823Z"
   },
   {
    "duration": 813,
    "start_time": "2023-02-22T19:37:13.840Z"
   },
   {
    "duration": 59,
    "start_time": "2023-02-22T19:37:14.655Z"
   },
   {
    "duration": 2,
    "start_time": "2023-02-22T19:37:14.716Z"
   },
   {
    "duration": 8,
    "start_time": "2023-02-22T19:37:14.720Z"
   },
   {
    "duration": 13,
    "start_time": "2023-02-22T19:37:14.729Z"
   },
   {
    "duration": 8,
    "start_time": "2023-02-22T19:37:14.743Z"
   },
   {
    "duration": 7,
    "start_time": "2023-02-22T19:37:14.752Z"
   },
   {
    "duration": 6,
    "start_time": "2023-02-22T19:37:14.761Z"
   },
   {
    "duration": 7,
    "start_time": "2023-02-22T19:37:14.769Z"
   },
   {
    "duration": 3125,
    "start_time": "2023-02-22T19:37:14.777Z"
   },
   {
    "duration": 5,
    "start_time": "2023-02-22T19:37:17.993Z"
   },
   {
    "duration": 200631,
    "start_time": "2023-02-22T19:37:18.000Z"
   },
   {
    "duration": 59,
    "start_time": "2023-02-22T19:40:38.632Z"
   },
   {
    "duration": 7,
    "start_time": "2023-02-22T19:40:38.693Z"
   },
   {
    "duration": 620513,
    "start_time": "2023-02-22T19:40:38.701Z"
   },
   {
    "duration": 4,
    "start_time": "2023-02-22T19:50:59.216Z"
   },
   {
    "duration": 75,
    "start_time": "2023-02-22T19:50:59.222Z"
   },
   {
    "duration": 4,
    "start_time": "2023-02-22T19:50:59.299Z"
   },
   {
    "duration": 209,
    "start_time": "2023-02-22T19:50:59.305Z"
   },
   {
    "duration": 76,
    "start_time": "2023-02-22T19:50:59.516Z"
   },
   {
    "duration": 4,
    "start_time": "2023-02-22T19:50:59.597Z"
   },
   {
    "duration": 8,
    "start_time": "2023-02-22T19:50:59.604Z"
   },
   {
    "duration": 7,
    "start_time": "2023-02-22T19:50:59.614Z"
   },
   {
    "duration": 70,
    "start_time": "2023-02-22T19:50:59.622Z"
   },
   {
    "duration": 10,
    "start_time": "2023-02-22T19:50:59.694Z"
   },
   {
    "duration": 20,
    "start_time": "2023-02-22T19:50:59.705Z"
   },
   {
    "duration": 71,
    "start_time": "2023-02-23T18:42:33.222Z"
   },
   {
    "duration": 1797,
    "start_time": "2023-02-23T18:50:17.328Z"
   },
   {
    "duration": 3101,
    "start_time": "2023-02-23T18:50:19.127Z"
   },
   {
    "duration": 21,
    "start_time": "2023-02-23T18:50:22.230Z"
   },
   {
    "duration": 26,
    "start_time": "2023-02-23T18:50:22.254Z"
   },
   {
    "duration": 31,
    "start_time": "2023-02-23T18:50:22.282Z"
   },
   {
    "duration": 271,
    "start_time": "2023-02-23T18:50:22.314Z"
   },
   {
    "duration": 146,
    "start_time": "2023-02-23T18:50:22.587Z"
   },
   {
    "duration": 287,
    "start_time": "2023-02-23T18:50:22.734Z"
   },
   {
    "duration": 4,
    "start_time": "2023-02-23T18:50:23.023Z"
   },
   {
    "duration": 72,
    "start_time": "2023-02-23T18:50:23.028Z"
   },
   {
    "duration": 17,
    "start_time": "2023-02-23T18:50:23.102Z"
   },
   {
    "duration": 84,
    "start_time": "2023-02-23T18:50:23.121Z"
   },
   {
    "duration": 26,
    "start_time": "2023-02-23T18:50:23.207Z"
   },
   {
    "duration": 55,
    "start_time": "2023-02-23T18:50:23.247Z"
   },
   {
    "duration": 280,
    "start_time": "2023-02-23T18:50:23.304Z"
   },
   {
    "duration": 3,
    "start_time": "2023-02-23T18:50:23.586Z"
   },
   {
    "duration": 15,
    "start_time": "2023-02-23T18:50:23.590Z"
   },
   {
    "duration": 30,
    "start_time": "2023-02-23T18:50:23.607Z"
   },
   {
    "duration": 31,
    "start_time": "2023-02-23T18:50:23.639Z"
   },
   {
    "duration": 32,
    "start_time": "2023-02-23T18:50:23.671Z"
   },
   {
    "duration": 22,
    "start_time": "2023-02-23T18:50:23.704Z"
   },
   {
    "duration": 25,
    "start_time": "2023-02-23T18:50:23.728Z"
   },
   {
    "duration": 906,
    "start_time": "2023-02-23T18:50:23.754Z"
   },
   {
    "duration": 706,
    "start_time": "2023-02-23T18:50:24.662Z"
   },
   {
    "duration": 985,
    "start_time": "2023-02-23T18:50:25.371Z"
   },
   {
    "duration": 675,
    "start_time": "2023-02-23T18:50:26.359Z"
   },
   {
    "duration": 1007,
    "start_time": "2023-02-23T18:50:27.035Z"
   },
   {
    "duration": 711,
    "start_time": "2023-02-23T18:50:28.045Z"
   },
   {
    "duration": 5,
    "start_time": "2023-02-23T18:50:28.762Z"
   },
   {
    "duration": 10,
    "start_time": "2023-02-23T18:50:28.770Z"
   },
   {
    "duration": 10,
    "start_time": "2023-02-23T18:50:28.781Z"
   },
   {
    "duration": 893,
    "start_time": "2023-02-23T18:50:28.793Z"
   },
   {
    "duration": 4,
    "start_time": "2023-02-23T18:50:29.693Z"
   },
   {
    "duration": 598,
    "start_time": "2023-02-23T18:50:29.699Z"
   },
   {
    "duration": 728,
    "start_time": "2023-02-23T18:50:30.298Z"
   },
   {
    "duration": 6,
    "start_time": "2023-02-23T18:50:31.028Z"
   },
   {
    "duration": 549,
    "start_time": "2023-02-23T18:50:31.046Z"
   },
   {
    "duration": 559,
    "start_time": "2023-02-23T18:50:31.597Z"
   },
   {
    "duration": 14,
    "start_time": "2023-02-23T18:50:32.158Z"
   },
   {
    "duration": 18,
    "start_time": "2023-02-23T18:50:32.174Z"
   },
   {
    "duration": 2411,
    "start_time": "2023-02-23T18:50:32.197Z"
   },
   {
    "duration": 2348,
    "start_time": "2023-02-23T18:50:34.610Z"
   },
   {
    "duration": 2370,
    "start_time": "2023-02-23T18:50:36.961Z"
   },
   {
    "duration": 2555,
    "start_time": "2023-02-23T18:50:39.333Z"
   },
   {
    "duration": 5,
    "start_time": "2023-02-23T18:50:41.891Z"
   },
   {
    "duration": 22,
    "start_time": "2023-02-23T18:50:41.897Z"
   },
   {
    "duration": 49,
    "start_time": "2023-02-23T18:50:41.922Z"
   },
   {
    "duration": 16,
    "start_time": "2023-02-23T18:50:41.973Z"
   },
   {
    "duration": 987,
    "start_time": "2023-02-23T18:50:41.990Z"
   },
   {
    "duration": 67,
    "start_time": "2023-02-23T18:50:42.979Z"
   },
   {
    "duration": 4,
    "start_time": "2023-02-23T18:50:43.048Z"
   },
   {
    "duration": 18,
    "start_time": "2023-02-23T18:50:43.055Z"
   },
   {
    "duration": 10,
    "start_time": "2023-02-23T18:50:43.074Z"
   },
   {
    "duration": 7,
    "start_time": "2023-02-23T18:50:43.086Z"
   },
   {
    "duration": 8,
    "start_time": "2023-02-23T18:50:43.096Z"
   },
   {
    "duration": 6,
    "start_time": "2023-02-23T18:50:43.106Z"
   },
   {
    "duration": 19,
    "start_time": "2023-02-23T18:50:43.114Z"
   },
   {
    "duration": 9229,
    "start_time": "2023-02-23T18:50:43.135Z"
   },
   {
    "duration": 4,
    "start_time": "2023-02-23T18:50:52.365Z"
   },
   {
    "duration": 122077,
    "start_time": "2023-02-23T18:50:52.371Z"
   },
   {
    "duration": 5,
    "start_time": "2023-02-23T18:52:54.451Z"
   },
   {
    "duration": 21,
    "start_time": "2023-02-23T18:52:54.459Z"
   },
   {
    "duration": 342156,
    "start_time": "2023-02-23T18:52:54.482Z"
   },
   {
    "duration": 3,
    "start_time": "2023-02-23T18:58:36.640Z"
   },
   {
    "duration": 32,
    "start_time": "2023-02-23T18:58:36.645Z"
   },
   {
    "duration": 0,
    "start_time": "2023-02-23T18:58:36.679Z"
   },
   {
    "duration": 12,
    "start_time": "2023-02-23T18:59:10.540Z"
   },
   {
    "duration": 4,
    "start_time": "2023-02-23T18:59:11.234Z"
   },
   {
    "duration": 10,
    "start_time": "2023-02-23T18:59:12.268Z"
   },
   {
    "duration": 4,
    "start_time": "2023-02-23T18:59:16.377Z"
   },
   {
    "duration": 10,
    "start_time": "2023-02-23T18:59:18.225Z"
   },
   {
    "duration": 4,
    "start_time": "2023-02-23T18:59:19.123Z"
   },
   {
    "duration": 3,
    "start_time": "2023-02-23T19:02:13.737Z"
   },
   {
    "duration": 10,
    "start_time": "2023-02-23T19:02:17.055Z"
   },
   {
    "duration": 60,
    "start_time": "2023-02-23T19:02:24.011Z"
   },
   {
    "duration": 13,
    "start_time": "2023-02-23T19:04:42.869Z"
   },
   {
    "duration": 5,
    "start_time": "2023-02-23T19:04:43.748Z"
   },
   {
    "duration": 4,
    "start_time": "2023-02-23T19:04:44.261Z"
   },
   {
    "duration": 10,
    "start_time": "2023-02-23T19:04:51.198Z"
   },
   {
    "duration": 5,
    "start_time": "2023-02-23T19:05:42.124Z"
   },
   {
    "duration": 6,
    "start_time": "2023-02-23T19:07:17.144Z"
   },
   {
    "duration": 3,
    "start_time": "2023-02-23T19:07:27.225Z"
   },
   {
    "duration": 62,
    "start_time": "2023-02-23T19:07:27.895Z"
   },
   {
    "duration": 11,
    "start_time": "2023-02-23T19:07:28.978Z"
   },
   {
    "duration": 17,
    "start_time": "2023-02-23T19:07:29.832Z"
   },
   {
    "duration": 12,
    "start_time": "2023-02-23T19:07:33.576Z"
   },
   {
    "duration": 5,
    "start_time": "2023-02-23T19:07:36.522Z"
   },
   {
    "duration": 6,
    "start_time": "2023-02-23T19:07:37.353Z"
   },
   {
    "duration": 5,
    "start_time": "2023-02-23T19:07:45.371Z"
   },
   {
    "duration": 724,
    "start_time": "2023-02-23T19:07:45.378Z"
   },
   {
    "duration": 18,
    "start_time": "2023-02-23T19:07:46.104Z"
   },
   {
    "duration": 22,
    "start_time": "2023-02-23T19:07:46.123Z"
   },
   {
    "duration": 20,
    "start_time": "2023-02-23T19:07:46.148Z"
   },
   {
    "duration": 247,
    "start_time": "2023-02-23T19:07:46.170Z"
   },
   {
    "duration": 133,
    "start_time": "2023-02-23T19:07:46.419Z"
   },
   {
    "duration": 254,
    "start_time": "2023-02-23T19:07:46.554Z"
   },
   {
    "duration": 4,
    "start_time": "2023-02-23T19:07:46.810Z"
   },
   {
    "duration": 55,
    "start_time": "2023-02-23T19:07:46.816Z"
   },
   {
    "duration": 17,
    "start_time": "2023-02-23T19:07:46.873Z"
   },
   {
    "duration": 70,
    "start_time": "2023-02-23T19:07:46.892Z"
   },
   {
    "duration": 22,
    "start_time": "2023-02-23T19:07:46.964Z"
   },
   {
    "duration": 76,
    "start_time": "2023-02-23T19:07:46.989Z"
   },
   {
    "duration": 224,
    "start_time": "2023-02-23T19:07:47.067Z"
   },
   {
    "duration": 4,
    "start_time": "2023-02-23T19:07:47.293Z"
   },
   {
    "duration": 7,
    "start_time": "2023-02-23T19:07:47.298Z"
   },
   {
    "duration": 6,
    "start_time": "2023-02-23T19:07:47.306Z"
   },
   {
    "duration": 5,
    "start_time": "2023-02-23T19:07:47.314Z"
   },
   {
    "duration": 24,
    "start_time": "2023-02-23T19:07:47.321Z"
   },
   {
    "duration": 6,
    "start_time": "2023-02-23T19:07:47.346Z"
   },
   {
    "duration": 5,
    "start_time": "2023-02-23T19:07:47.353Z"
   },
   {
    "duration": 902,
    "start_time": "2023-02-23T19:07:47.360Z"
   },
   {
    "duration": 620,
    "start_time": "2023-02-23T19:07:48.264Z"
   },
   {
    "duration": 788,
    "start_time": "2023-02-23T19:07:48.885Z"
   },
   {
    "duration": 865,
    "start_time": "2023-02-23T19:07:49.674Z"
   },
   {
    "duration": 778,
    "start_time": "2023-02-23T19:07:50.542Z"
   },
   {
    "duration": 822,
    "start_time": "2023-02-23T19:07:51.322Z"
   },
   {
    "duration": 4,
    "start_time": "2023-02-23T19:07:52.146Z"
   },
   {
    "duration": 13,
    "start_time": "2023-02-23T19:07:52.151Z"
   },
   {
    "duration": 11,
    "start_time": "2023-02-23T19:07:52.166Z"
   },
   {
    "duration": 772,
    "start_time": "2023-02-23T19:07:52.178Z"
   },
   {
    "duration": 2,
    "start_time": "2023-02-23T19:07:52.952Z"
   },
   {
    "duration": 419,
    "start_time": "2023-02-23T19:07:52.956Z"
   },
   {
    "duration": 513,
    "start_time": "2023-02-23T19:07:53.376Z"
   },
   {
    "duration": 6,
    "start_time": "2023-02-23T19:07:53.891Z"
   },
   {
    "duration": 497,
    "start_time": "2023-02-23T19:07:53.898Z"
   },
   {
    "duration": 713,
    "start_time": "2023-02-23T19:07:54.396Z"
   },
   {
    "duration": 5,
    "start_time": "2023-02-23T19:07:55.110Z"
   },
   {
    "duration": 4,
    "start_time": "2023-02-23T19:07:55.117Z"
   },
   {
    "duration": 2011,
    "start_time": "2023-02-23T19:07:55.125Z"
   },
   {
    "duration": 2053,
    "start_time": "2023-02-23T19:07:57.137Z"
   },
   {
    "duration": 2218,
    "start_time": "2023-02-23T19:07:59.192Z"
   },
   {
    "duration": 2138,
    "start_time": "2023-02-23T19:08:01.412Z"
   },
   {
    "duration": 3,
    "start_time": "2023-02-23T19:08:03.551Z"
   },
   {
    "duration": 18,
    "start_time": "2023-02-23T19:08:03.556Z"
   },
   {
    "duration": 27,
    "start_time": "2023-02-23T19:08:03.575Z"
   },
   {
    "duration": 45,
    "start_time": "2023-02-23T19:08:03.604Z"
   },
   {
    "duration": 840,
    "start_time": "2023-02-23T19:08:03.650Z"
   },
   {
    "duration": 192,
    "start_time": "2023-02-23T19:08:04.492Z"
   },
   {
    "duration": 3,
    "start_time": "2023-02-23T19:08:04.685Z"
   },
   {
    "duration": 5,
    "start_time": "2023-02-23T19:08:04.690Z"
   },
   {
    "duration": 10,
    "start_time": "2023-02-23T19:08:04.697Z"
   },
   {
    "duration": 6,
    "start_time": "2023-02-23T19:08:04.708Z"
   },
   {
    "duration": 4,
    "start_time": "2023-02-23T19:08:04.716Z"
   },
   {
    "duration": 3,
    "start_time": "2023-02-23T19:08:04.745Z"
   },
   {
    "duration": 10,
    "start_time": "2023-02-23T19:08:04.750Z"
   },
   {
    "duration": 2491,
    "start_time": "2023-02-23T19:08:04.762Z"
   },
   {
    "duration": 89,
    "start_time": "2023-02-23T19:08:07.256Z"
   },
   {
    "duration": 112532,
    "start_time": "2023-02-23T19:08:07.349Z"
   },
   {
    "duration": 4,
    "start_time": "2023-02-23T19:09:59.882Z"
   },
   {
    "duration": 9,
    "start_time": "2023-02-23T19:09:59.887Z"
   },
   {
    "duration": 330567,
    "start_time": "2023-02-23T19:09:59.898Z"
   },
   {
    "duration": 5,
    "start_time": "2023-02-23T19:15:30.468Z"
   },
   {
    "duration": 26,
    "start_time": "2023-02-23T19:15:30.475Z"
   },
   {
    "duration": 3,
    "start_time": "2023-02-23T19:15:39.557Z"
   },
   {
    "duration": 58,
    "start_time": "2023-02-23T19:15:40.731Z"
   },
   {
    "duration": 13,
    "start_time": "2023-02-23T19:15:44.723Z"
   },
   {
    "duration": 5,
    "start_time": "2023-02-23T19:15:45.738Z"
   },
   {
    "duration": 4,
    "start_time": "2023-02-23T19:15:47.202Z"
   },
   {
    "duration": 5,
    "start_time": "2023-02-23T19:16:05.603Z"
   },
   {
    "duration": 7,
    "start_time": "2023-02-23T19:16:06.441Z"
   },
   {
    "duration": 5,
    "start_time": "2023-02-23T19:17:02.987Z"
   },
   {
    "duration": 5,
    "start_time": "2023-02-23T19:17:05.019Z"
   },
   {
    "duration": 5,
    "start_time": "2023-02-23T19:17:08.260Z"
   },
   {
    "duration": 7,
    "start_time": "2023-02-23T19:17:08.833Z"
   },
   {
    "duration": 19,
    "start_time": "2023-02-23T19:17:20.795Z"
   },
   {
    "duration": 9,
    "start_time": "2023-02-23T19:17:40.449Z"
   },
   {
    "duration": 4,
    "start_time": "2023-02-23T19:17:41.411Z"
   },
   {
    "duration": 4,
    "start_time": "2023-02-23T19:17:50.541Z"
   },
   {
    "duration": 62,
    "start_time": "2023-02-23T19:17:52.086Z"
   },
   {
    "duration": 5,
    "start_time": "2023-02-23T19:17:55.820Z"
   },
   {
    "duration": 4,
    "start_time": "2023-02-23T19:17:57.072Z"
   },
   {
    "duration": 15,
    "start_time": "2023-02-23T19:17:58.870Z"
   },
   {
    "duration": 5,
    "start_time": "2023-02-23T19:18:13.127Z"
   },
   {
    "duration": 698,
    "start_time": "2023-02-23T19:18:13.134Z"
   },
   {
    "duration": 24,
    "start_time": "2023-02-23T19:18:13.834Z"
   },
   {
    "duration": 13,
    "start_time": "2023-02-23T19:18:13.860Z"
   },
   {
    "duration": 24,
    "start_time": "2023-02-23T19:18:13.875Z"
   },
   {
    "duration": 262,
    "start_time": "2023-02-23T19:18:13.901Z"
   },
   {
    "duration": 136,
    "start_time": "2023-02-23T19:18:14.165Z"
   },
   {
    "duration": 259,
    "start_time": "2023-02-23T19:18:14.303Z"
   },
   {
    "duration": 4,
    "start_time": "2023-02-23T19:18:14.563Z"
   },
   {
    "duration": 63,
    "start_time": "2023-02-23T19:18:14.569Z"
   },
   {
    "duration": 23,
    "start_time": "2023-02-23T19:18:14.633Z"
   },
   {
    "duration": 60,
    "start_time": "2023-02-23T19:18:14.658Z"
   },
   {
    "duration": 35,
    "start_time": "2023-02-23T19:18:14.720Z"
   },
   {
    "duration": 54,
    "start_time": "2023-02-23T19:18:14.758Z"
   },
   {
    "duration": 246,
    "start_time": "2023-02-23T19:18:14.814Z"
   },
   {
    "duration": 3,
    "start_time": "2023-02-23T19:18:15.062Z"
   },
   {
    "duration": 31,
    "start_time": "2023-02-23T19:18:15.067Z"
   },
   {
    "duration": 6,
    "start_time": "2023-02-23T19:18:15.100Z"
   },
   {
    "duration": 6,
    "start_time": "2023-02-23T19:18:15.108Z"
   },
   {
    "duration": 5,
    "start_time": "2023-02-23T19:18:15.115Z"
   },
   {
    "duration": 8,
    "start_time": "2023-02-23T19:18:15.122Z"
   },
   {
    "duration": 3,
    "start_time": "2023-02-23T19:18:15.132Z"
   },
   {
    "duration": 771,
    "start_time": "2023-02-23T19:18:15.144Z"
   },
   {
    "duration": 753,
    "start_time": "2023-02-23T19:18:15.917Z"
   },
   {
    "duration": 757,
    "start_time": "2023-02-23T19:18:16.672Z"
   },
   {
    "duration": 817,
    "start_time": "2023-02-23T19:18:17.431Z"
   },
   {
    "duration": 763,
    "start_time": "2023-02-23T19:18:18.250Z"
   },
   {
    "duration": 637,
    "start_time": "2023-02-23T19:18:19.015Z"
   },
   {
    "duration": 4,
    "start_time": "2023-02-23T19:18:19.653Z"
   },
   {
    "duration": 27,
    "start_time": "2023-02-23T19:18:19.659Z"
   },
   {
    "duration": 13,
    "start_time": "2023-02-23T19:18:19.687Z"
   },
   {
    "duration": 1034,
    "start_time": "2023-02-23T19:18:19.702Z"
   },
   {
    "duration": 7,
    "start_time": "2023-02-23T19:18:20.738Z"
   },
   {
    "duration": 429,
    "start_time": "2023-02-23T19:18:20.746Z"
   },
   {
    "duration": 521,
    "start_time": "2023-02-23T19:18:21.176Z"
   },
   {
    "duration": 6,
    "start_time": "2023-02-23T19:18:21.699Z"
   },
   {
    "duration": 493,
    "start_time": "2023-02-23T19:18:21.707Z"
   },
   {
    "duration": 504,
    "start_time": "2023-02-23T19:18:22.203Z"
   },
   {
    "duration": 6,
    "start_time": "2023-02-23T19:18:22.709Z"
   },
   {
    "duration": 15,
    "start_time": "2023-02-23T19:18:22.717Z"
   },
   {
    "duration": 2022,
    "start_time": "2023-02-23T19:18:22.746Z"
   },
   {
    "duration": 2255,
    "start_time": "2023-02-23T19:18:24.770Z"
   },
   {
    "duration": 2176,
    "start_time": "2023-02-23T19:18:27.028Z"
   },
   {
    "duration": 2180,
    "start_time": "2023-02-23T19:18:29.206Z"
   },
   {
    "duration": 3,
    "start_time": "2023-02-23T19:18:31.388Z"
   },
   {
    "duration": 64,
    "start_time": "2023-02-23T19:18:31.393Z"
   },
   {
    "duration": 52,
    "start_time": "2023-02-23T19:18:31.459Z"
   },
   {
    "duration": 18,
    "start_time": "2023-02-23T19:18:31.513Z"
   },
   {
    "duration": 788,
    "start_time": "2023-02-23T19:18:31.532Z"
   },
   {
    "duration": 58,
    "start_time": "2023-02-23T19:18:32.322Z"
   },
   {
    "duration": 3,
    "start_time": "2023-02-23T19:18:32.382Z"
   },
   {
    "duration": 11,
    "start_time": "2023-02-23T19:18:32.386Z"
   },
   {
    "duration": 13,
    "start_time": "2023-02-23T19:18:36.068Z"
   },
   {
    "duration": 4,
    "start_time": "2023-02-23T19:18:41.000Z"
   },
   {
    "duration": 2,
    "start_time": "2023-02-23T19:18:54.448Z"
   },
   {
    "duration": 60,
    "start_time": "2023-02-23T19:19:01.557Z"
   },
   {
    "duration": 13,
    "start_time": "2023-02-23T19:19:11.076Z"
   },
   {
    "duration": 6,
    "start_time": "2023-02-23T19:19:12.693Z"
   },
   {
    "duration": 5,
    "start_time": "2023-02-23T19:19:14.100Z"
   },
   {
    "duration": 16,
    "start_time": "2023-02-23T19:19:22.004Z"
   },
   {
    "duration": 9,
    "start_time": "2023-02-23T19:20:39.303Z"
   },
   {
    "duration": 64,
    "start_time": "2023-02-23T19:20:45.833Z"
   },
   {
    "duration": 4,
    "start_time": "2023-02-23T19:21:15.147Z"
   },
   {
    "duration": 4,
    "start_time": "2023-02-23T19:21:20.760Z"
   },
   {
    "duration": 6,
    "start_time": "2023-02-23T19:21:21.913Z"
   },
   {
    "duration": 5,
    "start_time": "2023-02-23T19:23:33.481Z"
   },
   {
    "duration": 22,
    "start_time": "2023-02-23T19:23:36.346Z"
   },
   {
    "duration": 4,
    "start_time": "2023-02-23T19:23:48.817Z"
   },
   {
    "duration": 5,
    "start_time": "2023-02-23T19:23:51.387Z"
   },
   {
    "duration": 6,
    "start_time": "2023-02-23T19:23:52.483Z"
   },
   {
    "duration": 11,
    "start_time": "2023-02-23T19:24:00.395Z"
   },
   {
    "duration": 6,
    "start_time": "2023-02-23T19:24:05.259Z"
   },
   {
    "duration": 6,
    "start_time": "2023-02-23T19:24:43.820Z"
   },
   {
    "duration": 6,
    "start_time": "2023-02-23T19:24:53.036Z"
   },
   {
    "duration": 3,
    "start_time": "2023-02-23T19:26:48.494Z"
   },
   {
    "duration": 59,
    "start_time": "2023-02-23T19:26:49.386Z"
   },
   {
    "duration": 4,
    "start_time": "2023-02-23T19:26:51.577Z"
   },
   {
    "duration": 5,
    "start_time": "2023-02-23T19:26:52.037Z"
   },
   {
    "duration": 5,
    "start_time": "2023-02-23T19:26:54.357Z"
   },
   {
    "duration": 6,
    "start_time": "2023-02-23T19:26:54.806Z"
   },
   {
    "duration": 7,
    "start_time": "2023-02-23T19:28:52.061Z"
   },
   {
    "duration": 4,
    "start_time": "2023-02-23T19:28:55.383Z"
   },
   {
    "duration": 4,
    "start_time": "2023-02-23T19:28:58.528Z"
   },
   {
    "duration": 5,
    "start_time": "2023-02-23T19:29:00.968Z"
   },
   {
    "duration": 61,
    "start_time": "2023-02-23T19:29:19.260Z"
   },
   {
    "duration": 714,
    "start_time": "2023-02-23T19:29:43.545Z"
   },
   {
    "duration": 6,
    "start_time": "2023-02-23T19:29:52.388Z"
   },
   {
    "duration": 4,
    "start_time": "2023-02-23T19:30:03.690Z"
   },
   {
    "duration": 3,
    "start_time": "2023-02-23T19:30:05.003Z"
   },
   {
    "duration": 4,
    "start_time": "2023-02-23T19:30:21.018Z"
   },
   {
    "duration": 68,
    "start_time": "2023-02-23T19:30:21.456Z"
   },
   {
    "duration": 4,
    "start_time": "2023-02-23T19:30:23.203Z"
   },
   {
    "duration": 5,
    "start_time": "2023-02-23T19:30:23.661Z"
   },
   {
    "duration": 7,
    "start_time": "2023-02-23T19:30:25.698Z"
   },
   {
    "duration": 5,
    "start_time": "2023-02-23T19:30:26.273Z"
   },
   {
    "duration": 61,
    "start_time": "2023-02-23T19:30:27.970Z"
   },
   {
    "duration": 8,
    "start_time": "2023-02-23T19:30:40.065Z"
   },
   {
    "duration": 5,
    "start_time": "2023-02-23T19:30:41.009Z"
   },
   {
    "duration": 3,
    "start_time": "2023-02-23T19:30:46.905Z"
   },
   {
    "duration": 89,
    "start_time": "2023-02-23T19:31:44.349Z"
   },
   {
    "duration": 3,
    "start_time": "2023-02-23T19:31:47.629Z"
   },
   {
    "duration": 18,
    "start_time": "2023-02-23T19:38:10.402Z"
   },
   {
    "duration": 2,
    "start_time": "2023-02-23T19:38:15.922Z"
   },
   {
    "duration": 7,
    "start_time": "2023-02-23T19:38:19.897Z"
   },
   {
    "duration": 5,
    "start_time": "2023-02-23T19:38:59.499Z"
   },
   {
    "duration": 11,
    "start_time": "2023-02-23T19:39:00.364Z"
   },
   {
    "duration": 5,
    "start_time": "2023-02-23T19:39:22.307Z"
   },
   {
    "duration": 4,
    "start_time": "2023-02-23T19:39:23.126Z"
   },
   {
    "duration": 5,
    "start_time": "2023-02-23T19:39:25.118Z"
   },
   {
    "duration": 4,
    "start_time": "2023-02-23T19:39:25.484Z"
   },
   {
    "duration": 7,
    "start_time": "2023-02-23T19:39:50.612Z"
   },
   {
    "duration": 754,
    "start_time": "2023-02-23T19:40:06.692Z"
   },
   {
    "duration": 5,
    "start_time": "2023-02-23T19:40:20.840Z"
   },
   {
    "duration": 822,
    "start_time": "2023-02-23T19:40:21.704Z"
   },
   {
    "duration": 5,
    "start_time": "2023-02-23T19:40:39.692Z"
   },
   {
    "duration": 5,
    "start_time": "2023-02-23T19:40:41.173Z"
   },
   {
    "duration": 8,
    "start_time": "2023-02-23T19:40:48.565Z"
   },
   {
    "duration": 5,
    "start_time": "2023-02-23T19:41:01.507Z"
   },
   {
    "duration": 4,
    "start_time": "2023-02-23T19:41:19.919Z"
   },
   {
    "duration": 4,
    "start_time": "2023-02-23T19:42:55.604Z"
   },
   {
    "duration": 4,
    "start_time": "2023-02-23T19:43:05.177Z"
   },
   {
    "duration": 5,
    "start_time": "2023-02-23T19:43:09.175Z"
   },
   {
    "duration": 11,
    "start_time": "2023-02-23T19:46:00.377Z"
   },
   {
    "duration": 997,
    "start_time": "2023-02-23T19:46:00.392Z"
   },
   {
    "duration": 21,
    "start_time": "2023-02-23T19:46:01.392Z"
   },
   {
    "duration": 34,
    "start_time": "2023-02-23T19:46:01.415Z"
   },
   {
    "duration": 82,
    "start_time": "2023-02-23T19:46:01.452Z"
   },
   {
    "duration": 301,
    "start_time": "2023-02-23T19:46:01.536Z"
   },
   {
    "duration": 187,
    "start_time": "2023-02-23T19:46:01.840Z"
   },
   {
    "duration": 338,
    "start_time": "2023-02-23T19:46:02.029Z"
   },
   {
    "duration": 6,
    "start_time": "2023-02-23T19:46:02.372Z"
   },
   {
    "duration": 48,
    "start_time": "2023-02-23T19:46:02.380Z"
   },
   {
    "duration": 55,
    "start_time": "2023-02-23T19:46:02.430Z"
   },
   {
    "duration": 66,
    "start_time": "2023-02-23T19:46:02.487Z"
   },
   {
    "duration": 30,
    "start_time": "2023-02-23T19:46:02.556Z"
   },
   {
    "duration": 246,
    "start_time": "2023-02-23T19:46:02.589Z"
   },
   {
    "duration": 290,
    "start_time": "2023-02-23T19:46:02.837Z"
   },
   {
    "duration": 4,
    "start_time": "2023-02-23T19:46:03.129Z"
   },
   {
    "duration": 52,
    "start_time": "2023-02-23T19:46:03.135Z"
   },
   {
    "duration": 13,
    "start_time": "2023-02-23T19:46:03.189Z"
   },
   {
    "duration": 7,
    "start_time": "2023-02-23T19:46:03.205Z"
   },
   {
    "duration": 8,
    "start_time": "2023-02-23T19:46:03.214Z"
   },
   {
    "duration": 11,
    "start_time": "2023-02-23T19:46:03.224Z"
   },
   {
    "duration": 43,
    "start_time": "2023-02-23T19:46:03.237Z"
   },
   {
    "duration": 1183,
    "start_time": "2023-02-23T19:46:03.284Z"
   },
   {
    "duration": 822,
    "start_time": "2023-02-23T19:46:04.470Z"
   },
   {
    "duration": 1282,
    "start_time": "2023-02-23T19:46:05.295Z"
   },
   {
    "duration": 931,
    "start_time": "2023-02-23T19:46:06.580Z"
   },
   {
    "duration": 1411,
    "start_time": "2023-02-23T19:46:07.513Z"
   },
   {
    "duration": 806,
    "start_time": "2023-02-23T19:46:08.926Z"
   },
   {
    "duration": 4,
    "start_time": "2023-02-23T19:46:09.734Z"
   },
   {
    "duration": 46,
    "start_time": "2023-02-23T19:46:09.748Z"
   },
   {
    "duration": 11,
    "start_time": "2023-02-23T19:46:09.796Z"
   }
  ],
  "kernelspec": {
   "display_name": "Python 3 (ipykernel)",
   "language": "python",
   "name": "python3"
  },
  "language_info": {
   "codemirror_mode": {
    "name": "ipython",
    "version": 3
   },
   "file_extension": ".py",
   "mimetype": "text/x-python",
   "name": "python",
   "nbconvert_exporter": "python",
   "pygments_lexer": "ipython3",
   "version": "3.9.5"
  },
  "toc": {
   "base_numbering": 1,
   "nav_menu": {},
   "number_sections": true,
   "sideBar": true,
   "skip_h1_title": true,
   "title_cell": "Содержание",
   "title_sidebar": "Contents",
   "toc_cell": true,
   "toc_position": {
    "height": "calc(100% - 180px)",
    "left": "10px",
    "top": "150px",
    "width": "165px"
   },
   "toc_section_display": true,
   "toc_window_display": true
  },
  "vscode": {
   "interpreter": {
    "hash": "40bcb2e441a6d0af9e6f649dfe5ca0440eb431939f3ce0f6d45a172cb5590c37"
   }
  }
 },
 "nbformat": 4,
 "nbformat_minor": 2
}
