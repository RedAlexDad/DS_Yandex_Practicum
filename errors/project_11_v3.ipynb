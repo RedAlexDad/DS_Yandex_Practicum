{
 "cells": [
  {
   "cell_type": "markdown",
   "id": "e245d4ab",
   "metadata": {},
   "source": [
    "Привет, меня зовут Артем. Сегодня я проверю твой проект.\n",
    "<br> Дальнейшее общение будет происходить на \"ты\" если это не вызывает никаких проблем.\n",
    "<br> Желательно реагировать на каждый мой комментарий ('исправил', 'не понятно как исправить ошибку', ...)\n",
    "<br> Пожалуйста, не удаляй комментарии ревьюера, так как они повышают качество повторного ревью.\n",
    "\n",
    "Комментарии будут в <font color='green'>зеленой</font>, <font color='blue'>синей</font> или <font color='red'>красной</font> рамках:\n",
    "\n",
    "<div class=\"alert alert-block alert-success\">\n",
    "<b>Успех:</b> Если все сделано отлично\n",
    "</div>\n",
    "\n",
    "<div class=\"alert alert-block alert-info\">\n",
    "<b>Совет: </b> Если можно немного улучшить\n",
    "</div>\n",
    "\n",
    "<div class=\"alert alert-block alert-danger\">\n",
    "<b>Ошибка:</b> Если требуются исправления. Работа не может быть принята с красными комментариями.\n",
    "</div>\n",
    "\n",
    "-------------------\n",
    "\n",
    "Будет очень хорошо, если ты будешь помечать свои действия следующим образом:\n",
    "<div class=\"alert alert-block alert-warning\">\n",
    "<b>Комментарий студента:</b> ...\n",
    "</div>\n",
    "\n",
    "<div class=\"alert alert-block alert-warning\">\n",
    "<b>Изменения:</b> Были внесены следующие изменения ...\n",
    "</div>\n",
    "\n",
    "<font color='green'><b>Полезные (и просто интересные) материалы:</b></font> \\\n",
    "Для работы с текстами используют и другие подходы. Например, сейчас активно используются RNN (LSTM) и трансформеры (BERT и другие с улицы Сезам, например, ELMO). НО! Они не являются панацеей, не всегда они нужны, так как и TF-IDF или Word2Vec + модели из классического ML тоже могут справляться. \\\n",
    "BERT тяжелый, существует много его вариаций для разных задач, есть готовые модели, есть надстройки над библиотекой transformers. Если, обучать BERT на GPU (можно в Google Colab или Kaggle), то должно быть побыстрее.\\\n",
    "https://huggingface.co/transformers/model_doc/bert.html \\\n",
    "https://t.me/renat_alimbekov \\\n",
    "https://colah.github.io/posts/2015-08-Understanding-LSTMs/ - Про LSTM \\\n",
    "https://web.stanford.edu/~jurafsky/slp3/10.pdf - про энкодер-декодер модели, этеншены\\\n",
    "https://pytorch.org/tutorials/beginner/transformer_tutorial.html - официальный гайд\n",
    "по трансформеру от создателей pytorch\\\n",
    "https://transformer.huggingface.co/ - поболтать с трансформером \\\n",
    "Библиотеки: allennlp, fairseq, transformers, tensorflow-text — множествореализованных\n",
    "методов для трансформеров методов NLP \\\n",
    "Word2Vec https://radimrehurek.com/gensim/models/word2vec.html \n",
    "\n",
    "<font color='green'>Пример BERT с GPU:\n",
    "```python\n",
    "%%time\n",
    "from tqdm import notebook\n",
    "batch_size = 2 # для примера возьмем такой батч, где будет всего две строки датасета\n",
    "embeddings = [] \n",
    "for i in notebook.tqdm(range(input_ids.shape[0] // batch_size)):\n",
    "        batch = torch.LongTensor(input_ids[batch_size*i:batch_size*(i+1)]).cuda() # закидываем тензор на GPU\n",
    "        attention_mask_batch = torch.LongTensor(attention_mask[batch_size*i:batch_size*(i+1)]).cuda()\n",
    "        \n",
    "        with torch.no_grad():\n",
    "            model.cuda()\n",
    "            batch_embeddings = model(batch, attention_mask=attention_mask_batch)\n",
    "        \n",
    "        embeddings.append(batch_embeddings[0][:,0,:].cpu().numpy()) # перевод обратно на проц, чтобы в нумпай кинуть\n",
    "        del batch\n",
    "        del attention_mask_batch\n",
    "        del batch_embeddings\n",
    "        \n",
    "features = np.concatenate(embeddings) \n",
    "```\n",
    "Можно сделать предварительную проверку на наличие GPU.\\\n",
    "Например, так: ```device = torch.device(\"cuda:0\") if torch.cuda.is_available() else torch.device(\"cpu\")```\\\n",
    "Тогда вместо .cuda() нужно писать .to(device)\n",
    "\n",
    "Если понравилась работа с текстами, то можешь посмотреть очень интересный (но очень-очень сложный) курс лекций: https://github.com/yandexdataschool/nlp_course .\n",
    "</font>\n",
    "\n",
    "### <font color='orange'>Общее впечатление</font>\n",
    "* Большое спасибо за проделанную работу. Видно, что приложено много усилий.\n",
    "* Радует, что ноутбук хорошо структурирован. Приятно проверять такие работы.\n",
    "* Над этим проектом нужно будет еще немного поработать. Однако, изменения не должны занять много времени.\n",
    "* С радостью отвечу на твои вопросы, если они есть. Лучше всего их собрать в следующей ячейке. Жду новую версию проекта."
   ]
  },
  {
   "cell_type": "markdown",
   "id": "ca414a1f",
   "metadata": {},
   "source": [
    "### <font color='orange'>Общее впечатление (ревью 2)</font>\n",
    "* Для удобства все новые комментарии обозначены фразой \"ревью 2\".\n",
    "* Удачи в доработке!"
   ]
  },
  {
   "cell_type": "markdown",
   "id": "d8f9cc85",
   "metadata": {},
   "source": [
    "# Проект для «Викишоп» с BERT"
   ]
  },
  {
   "cell_type": "markdown",
   "id": "cec58459",
   "metadata": {},
   "source": [
    "Интернет-магазин «Викишоп» запускает новый сервис. Теперь пользователи могут редактировать и дополнять описания товаров, как в вики-сообществах. То есть клиенты предлагают свои правки и комментируют изменения других. Магазину нужен инструмент, который будет искать токсичные комментарии и отправлять их на модерацию. \n",
    "\n",
    "Обучите модель классифицировать комментарии на позитивные и негативные. В вашем распоряжении набор данных с разметкой о токсичности правок.\n",
    "\n",
    "Постройте модель со значением метрики качества *F1* не меньше 0.75. \n",
    "\n",
    "**Инструкция по выполнению проекта**\n",
    "\n",
    "1. Загрузите и подготовьте данные.\n",
    "2. Обучите разные модели. \n",
    "3. Сделайте выводы.\n",
    "\n",
    "Для выполнения проекта применять *BERT* необязательно, но вы можете попробовать.\n",
    "\n",
    "**Описание данных**\n",
    "\n",
    "Данные находятся в файле `toxic_comments.csv`. Столбец *text* в нём содержит текст комментария, а *toxic* — целевой признак."
   ]
  },
  {
   "cell_type": "markdown",
   "id": "2f9c79d2",
   "metadata": {},
   "source": [
    "**Рассмотрим два варианта проекта без BERT и с BERT**"
   ]
  },
  {
   "cell_type": "markdown",
   "id": "3e2bd997",
   "metadata": {},
   "source": [
    "# Подготовка"
   ]
  },
  {
   "cell_type": "markdown",
   "id": "b5be6d67",
   "metadata": {},
   "source": [
    "## Подключение библиотеки"
   ]
  },
  {
   "cell_type": "code",
   "execution_count": 63,
   "id": "fd78d20f",
   "metadata": {
    "scrolled": true
   },
   "outputs": [
    {
     "name": "stdout",
     "output_type": "stream",
     "text": [
      "The jupyternotify extension is already loaded. To reload it, use:\n",
      "  %reload_ext jupyternotify\n"
     ]
    }
   ],
   "source": [
    "# Уведомление о завершение работы определенного ячейка (очень пригодится для машинного обучения)\n",
    "import jupyternotify\n",
    "%load_ext jupyternotify"
   ]
  },
  {
   "cell_type": "code",
   "execution_count": 64,
   "id": "2818fbe4",
   "metadata": {},
   "outputs": [],
   "source": [
    "# Подключаем все необходимые библиотеки\n",
    "import pandas as pd\n",
    "import numpy as np\n",
    "import matplotlib.pyplot as plt\n",
    "# Для визуализации временных рядов\n",
    "import plotly.graph_objects\n",
    "import seaborn as sb\n",
    "from scipy import stats as st\n",
    "# Время обучения модели\n",
    "import timeit\n",
    "# Тренды и сезонность\n",
    "from statsmodels.tsa.seasonal import seasonal_decompose\n",
    "# Проверка на стационарность\n",
    "from statsmodels.tsa.stattools import adfuller, kpss\n",
    "# Проверка на дисперсию с помощью теста Андерсона-Дарлинга\n",
    "from scipy.stats import anderson\n",
    "# XGBRegressor\n",
    "import xgboost as xgb\n",
    "\n",
    "# Работа с текстами\n",
    "import nltk\n",
    "from nltk.corpus import stopwords as nltk_stopwords\n",
    "from sklearn.feature_extraction.text import TfidfVectorizer\n",
    "\n",
    "from lightgbm import LGBMRegressor\n",
    "# Вызов библиотеки для отключения предупреждения\n",
    "import warnings\n",
    "\n",
    "# Разбиение на обучающую, валидационную и тестовую выборку\n",
    "from sklearn.model_selection import train_test_split, GridSearchCV, cross_val_score, cross_val_predict, TimeSeriesSplit\n",
    "# Применим кроссвалидацию для повышения качеств обучения\n",
    "\n",
    "\n",
    "\n",
    "# Масштабируемость модели\n",
    "from sklearn.preprocessing import StandardScaler, OrdinalEncoder, OneHotEncoder\n",
    "\n",
    "# Для машинного обучения разными способами:\n",
    "# - Логическая регрессия\n",
    "from sklearn.linear_model import LogisticRegression\n",
    "# - Случайный лес\n",
    "from sklearn.ensemble import RandomForestClassifier\n",
    "# - Решающее дерево\n",
    "from sklearn.tree import DecisionTreeClassifier\n",
    "# - Модель на адекватность\n",
    "from sklearn.dummy import DummyClassifier\n",
    "# - Бустинг модель\n",
    "from catboost import CatBoostClassifier\n",
    "\n",
    "from sklearn.metrics import (\n",
    "    # Точность модели\n",
    "    accuracy_score,\n",
    "    # Матрицы ошибок (для борьбы с дисбалансом)\n",
    "    confusion_matrix, \n",
    "    # Полнота\n",
    "    recall_score, \n",
    "    # Точность\n",
    "    precision_score, \n",
    "    # F1-мера\n",
    "    f1_score,\n",
    "    # Метрика AUC-ROC\n",
    "    roc_auc_score,\n",
    "    roc_curve,\n",
    "    # MSE\n",
    "    mean_squared_error,\n",
    "    mean_absolute_error,\n",
    "    fbeta_score, \n",
    "    make_scorer\n",
    ")\n",
    "\n",
    "# Контроль выборки\n",
    "from sklearn.utils import shuffle\n",
    "\n",
    "# Для лематизации текстов\n",
    "import re\n",
    "from pymystem3 import Mystem\n",
    "import nltk\n",
    "from nltk.stem import WordNetLemmatizer\n",
    "from nltk.corpus import wordnet\n",
    "\n",
    "# Для машинного обучения - деление выборки на обучающие и валидационные\n",
    "from sklearn.pipeline import Pipeline\n",
    "from sklearn.feature_extraction.text import CountVectorizer, TfidfTransformer\n",
    "# Просмотр все значений метрики\n",
    "from sklearn.metrics import classification_report\n",
    "\n",
    "from sklearn import svm\n",
    "import joblib"
   ]
  },
  {
   "cell_type": "markdown",
   "id": "db620d24",
   "metadata": {},
   "source": [
    "Для машинного обучения с BERT"
   ]
  },
  {
   "cell_type": "code",
   "execution_count": 142,
   "id": "1ef77259",
   "metadata": {
    "scrolled": true
   },
   "outputs": [],
   "source": [
    "import os\n",
    "import shutil\n",
    "import torch\n",
    "\n",
    "# Библиотеки для обучения с применением технологий BERT\n",
    "import tensorflow as tf\n",
    "import tensorflow_hub as hub\n",
    "import tensorflow_text as text\n",
    "from transformers import BertTokenizer\n",
    "# Чтобы создать AdamW оптимизацию\n",
    "from official.nlp import optimization  \n",
    "from torch.utils.data import DataLoader\n",
    "\n",
    "tf.get_logger().setLevel('ERROR')"
   ]
  },
  {
   "cell_type": "markdown",
   "id": "fbc84752",
   "metadata": {},
   "source": [
    "<div class=\"alert alert-block alert-info\">\n",
    "<b>Совет: </b> Желательно чтобы все импорты были собраны в верхней части ноутбука! Если у того, кто будет запускать твой ноутбук будут отсутствовать некоторые библиотеки, то он это увидит сразу, а не в процессе!\n",
    "</div>"
   ]
  },
  {
   "cell_type": "markdown",
   "id": "ed82ba33",
   "metadata": {},
   "source": [
    "<div class=\"alert alert-block alert-warning\">\n",
    "<b>Комментарий студента V2:</b> Хорошо, подправил\n",
    "</div>"
   ]
  },
  {
   "cell_type": "markdown",
   "id": "c3d22f63",
   "metadata": {},
   "source": [
    "## Загрузим данные"
   ]
  },
  {
   "cell_type": "code",
   "execution_count": 66,
   "id": "c4eddd44",
   "metadata": {},
   "outputs": [],
   "source": [
    "# Получаем датасет\n",
    "try:\n",
    "    # С локального файла\n",
    "    try:\n",
    "        # Сразу устанавливаем время как индексы\n",
    "        df = pd.read_csv('toxic_comments.csv', index_col=[0], parse_dates=[0])\n",
    "    except:\n",
    "        df = pd.read_csv('/datasets/toxic_comments.csv', index_col=[0], parse_dates=[0])\n",
    "except:\n",
    "    print('Отсутствует датасет. Проверьте путь файла')"
   ]
  },
  {
   "cell_type": "markdown",
   "id": "3ba2e0f3",
   "metadata": {},
   "source": [
    "## Изучим данные"
   ]
  },
  {
   "cell_type": "code",
   "execution_count": 67,
   "id": "1a394f17",
   "metadata": {
    "scrolled": false
   },
   "outputs": [
    {
     "name": "stdout",
     "output_type": "stream",
     "text": [
      "<class 'pandas.core.frame.DataFrame'>\n",
      "Int64Index: 159292 entries, 0 to 159450\n",
      "Data columns (total 2 columns):\n",
      " #   Column  Non-Null Count   Dtype \n",
      "---  ------  --------------   ----- \n",
      " 0   text    159292 non-null  object\n",
      " 1   toxic   159292 non-null  int64 \n",
      "dtypes: int64(1), object(1)\n",
      "memory usage: 3.6+ MB\n"
     ]
    },
    {
     "data": {
      "text/plain": [
       "None"
      ]
     },
     "metadata": {},
     "output_type": "display_data"
    },
    {
     "data": {
      "text/html": [
       "<div>\n",
       "<style scoped>\n",
       "    .dataframe tbody tr th:only-of-type {\n",
       "        vertical-align: middle;\n",
       "    }\n",
       "\n",
       "    .dataframe tbody tr th {\n",
       "        vertical-align: top;\n",
       "    }\n",
       "\n",
       "    .dataframe thead th {\n",
       "        text-align: right;\n",
       "    }\n",
       "</style>\n",
       "<table border=\"1\" class=\"dataframe\">\n",
       "  <thead>\n",
       "    <tr style=\"text-align: right;\">\n",
       "      <th></th>\n",
       "      <th>text</th>\n",
       "      <th>toxic</th>\n",
       "    </tr>\n",
       "  </thead>\n",
       "  <tbody>\n",
       "    <tr>\n",
       "      <th>0</th>\n",
       "      <td>Explanation\\nWhy the edits made under my usern...</td>\n",
       "      <td>0</td>\n",
       "    </tr>\n",
       "    <tr>\n",
       "      <th>1</th>\n",
       "      <td>D'aww! He matches this background colour I'm s...</td>\n",
       "      <td>0</td>\n",
       "    </tr>\n",
       "    <tr>\n",
       "      <th>2</th>\n",
       "      <td>Hey man, I'm really not trying to edit war. It...</td>\n",
       "      <td>0</td>\n",
       "    </tr>\n",
       "    <tr>\n",
       "      <th>3</th>\n",
       "      <td>\"\\nMore\\nI can't make any real suggestions on ...</td>\n",
       "      <td>0</td>\n",
       "    </tr>\n",
       "    <tr>\n",
       "      <th>4</th>\n",
       "      <td>You, sir, are my hero. Any chance you remember...</td>\n",
       "      <td>0</td>\n",
       "    </tr>\n",
       "  </tbody>\n",
       "</table>\n",
       "</div>"
      ],
      "text/plain": [
       "                                                text  toxic\n",
       "0  Explanation\\nWhy the edits made under my usern...      0\n",
       "1  D'aww! He matches this background colour I'm s...      0\n",
       "2  Hey man, I'm really not trying to edit war. It...      0\n",
       "3  \"\\nMore\\nI can't make any real suggestions on ...      0\n",
       "4  You, sir, are my hero. Any chance you remember...      0"
      ]
     },
     "metadata": {},
     "output_type": "display_data"
    }
   ],
   "source": [
    "display(df.info(), df.head())"
   ]
  },
  {
   "cell_type": "markdown",
   "id": "e4bb6531",
   "metadata": {},
   "source": [
    "Как и видим, что текст написан на английском языке"
   ]
  },
  {
   "cell_type": "markdown",
   "id": "3503d13f",
   "metadata": {},
   "source": [
    "<div class=\"alert alert-block alert-success\">\n",
    "<b>Успех:</b> Данные загружены корреткно.\n",
    "</div>\n",
    "\n",
    "<div class=\"alert alert-block alert-info\">\n",
    "<b>Совет: </b> В задачах классификации желательно изучать баланс классов. При этом, необязательно с ним бороться – это поле для экспериментов (качество может как улучшиться, так и ухудшиться).\n",
    "</div>"
   ]
  },
  {
   "cell_type": "markdown",
   "id": "a8dae9c4",
   "metadata": {},
   "source": [
    "<div class=\"alert alert-block alert-warning\">\n",
    "<b>Комментарий студента V2:</b> Добавил изучение балансы классов, а что по поводу борьбы с этим классом, пожалуйста, подробнее как делать? Имеешь ввиду, что существуют некоторые жаргоны, которые машина не может определить тип класса: позитивный и токсичный?\n",
    "</div>"
   ]
  },
  {
   "cell_type": "markdown",
   "id": "538af9e8",
   "metadata": {},
   "source": [
    "### Изучим балансы классов"
   ]
  },
  {
   "cell_type": "code",
   "execution_count": 68,
   "id": "3abc217b",
   "metadata": {},
   "outputs": [
    {
     "data": {
      "text/plain": [
       "Text(0.5, 0, 'Токсичные и позитивные комментарии')"
      ]
     },
     "execution_count": 68,
     "metadata": {},
     "output_type": "execute_result"
    },
    {
     "data": {
      "image/png": "[encoded data removed]",
      "text/plain": [
       "<Figure size 1700x1000 with 2 Axes>"
      ]
     },
     "metadata": {},
     "output_type": "display_data"
    }
   ],
   "source": [
    "fig, axs = plt.subplots(1, 2, figsize=(17, 10))\n",
    "\n",
    "df['toxic'].value_counts(normalize=True).plot(ax=axs[0], kind='bar')\n",
    "axs[0].set_title('Соотношение к позитивному и токсичному комментарию')\n",
    "axs[0].set_ylabel('Соотношение 100%')\n",
    "axs[0].set_xlabel('Токсичные и позитивные комментарии')\n",
    "        \n",
    "df['toxic'].value_counts().plot(ax=axs[1], kind='bar')\n",
    "axs[1].set_title('Количество позитивные и токсичные комментарии')\n",
    "axs[1].set_ylabel('Количество')\n",
    "axs[1].set_xlabel('Токсичные и позитивные комментарии')"
   ]
  },
  {
   "cell_type": "markdown",
   "id": "908fc516",
   "metadata": {},
   "source": [
    "Как и видим, что много токсичных комментариев нежели позитивных. Дальше идем"
   ]
  },
  {
   "cell_type": "markdown",
   "id": "d424b1ea",
   "metadata": {},
   "source": [
    "<div class=\"alert alert-block alert-success\">\n",
    "<b>Успех (ревью 2):</b> Спасибо!\n",
    "</div>"
   ]
  },
  {
   "cell_type": "markdown",
   "id": "7cba436f",
   "metadata": {},
   "source": [
    "## Предобработка данных"
   ]
  },
  {
   "cell_type": "markdown",
   "id": "55821d10",
   "metadata": {},
   "source": [
    "### Установка стоп-слово и другие словари"
   ]
  },
  {
   "cell_type": "code",
   "execution_count": 69,
   "id": "f676901f",
   "metadata": {},
   "outputs": [
    {
     "name": "stderr",
     "output_type": "stream",
     "text": [
      "[nltk_data] Downloading package stopwords to\n",
      "[nltk_data]     C:\\Users\\Papin\\AppData\\Roaming\\nltk_data...\n",
      "[nltk_data]   Package stopwords is already up-to-date!\n"
     ]
    }
   ],
   "source": [
    "# Получим стоп-слово\n",
    "nltk.download('stopwords')\n",
    "stopwords = set(nltk_stopwords.words('english'))"
   ]
  },
  {
   "cell_type": "code",
   "execution_count": 70,
   "id": "0ff2bf12",
   "metadata": {},
   "outputs": [
    {
     "name": "stderr",
     "output_type": "stream",
     "text": [
      "[nltk_data] Downloading package punkt to\n",
      "[nltk_data]     C:\\Users\\Papin\\AppData\\Roaming\\nltk_data...\n",
      "[nltk_data]   Package punkt is already up-to-date!\n",
      "[nltk_data] Downloading package wordnet to\n",
      "[nltk_data]     C:\\Users\\Papin\\AppData\\Roaming\\nltk_data...\n",
      "[nltk_data]   Package wordnet is already up-to-date!\n",
      "[nltk_data] Downloading package averaged_perceptron_tagger to\n",
      "[nltk_data]     C:\\Users\\Papin\\AppData\\Roaming\\nltk_data...\n",
      "[nltk_data]   Package averaged_perceptron_tagger is already up-to-\n",
      "[nltk_data]       date!\n"
     ]
    },
    {
     "data": {
      "text/plain": [
       "True"
      ]
     },
     "execution_count": 70,
     "metadata": {},
     "output_type": "execute_result"
    }
   ],
   "source": [
    "nltk.download('punkt')\n",
    "nltk.download('wordnet')\n",
    "nltk.download('averaged_perceptron_tagger')"
   ]
  },
  {
   "cell_type": "markdown",
   "id": "8fc8abe9",
   "metadata": {},
   "source": [
    "### Лемматизируем текст"
   ]
  },
  {
   "cell_type": "code",
   "execution_count": 71,
   "id": "1007372f",
   "metadata": {},
   "outputs": [
    {
     "name": "stderr",
     "output_type": "stream",
     "text": [
      "[nltk_data] Downloading package wordnet to\n",
      "[nltk_data]     C:\\Users\\Papin\\AppData\\Roaming\\nltk_data...\n",
      "[nltk_data]   Package wordnet is already up-to-date!\n"
     ]
    },
    {
     "data": {
      "text/plain": [
       "True"
      ]
     },
     "execution_count": 71,
     "metadata": {},
     "output_type": "execute_result"
    }
   ],
   "source": [
    "WNL = WordNetLemmatizer()\n",
    "\n",
    "nltk.download('wordnet')"
   ]
  },
  {
   "cell_type": "code",
   "execution_count": 72,
   "id": "6aa5307d",
   "metadata": {},
   "outputs": [],
   "source": [
    "lemmatizer = WordNetLemmatizer()"
   ]
  },
  {
   "cell_type": "code",
   "execution_count": 73,
   "id": "21abde8d",
   "metadata": {},
   "outputs": [],
   "source": [
    "# Функция очистки лишних символов\n",
    "def clear_text(text):\n",
    "    text = text.lower()\n",
    "    text = re.sub(r'[^a-zA-Z]', ' ', text)   \n",
    "    text = ' '.join(text.split())\n",
    "    return text"
   ]
  },
  {
   "cell_type": "code",
   "execution_count": 74,
   "id": "c60e8cc3",
   "metadata": {},
   "outputs": [],
   "source": [
    "df['lemm_text'] = df['text'].apply(clear_text)"
   ]
  },
  {
   "cell_type": "code",
   "execution_count": 75,
   "id": "73acd397",
   "metadata": {},
   "outputs": [
    {
     "data": {
      "text/plain": [
       "'explanation why the edits made under my username hardcore metallica fan were reverted they weren t vandalisms just closure on some gas after i voted at new york dolls fac and please don t remove the template from the talk page since i m retired now'"
      ]
     },
     "execution_count": 75,
     "metadata": {},
     "output_type": "execute_result"
    }
   ],
   "source": [
    "df['lemm_text'][0]"
   ]
  },
  {
   "cell_type": "code",
   "execution_count": 76,
   "id": "51e5e4a1",
   "metadata": {},
   "outputs": [
    {
     "data": {
      "text/html": [
       "<div>\n",
       "<style scoped>\n",
       "    .dataframe tbody tr th:only-of-type {\n",
       "        vertical-align: middle;\n",
       "    }\n",
       "\n",
       "    .dataframe tbody tr th {\n",
       "        vertical-align: top;\n",
       "    }\n",
       "\n",
       "    .dataframe thead th {\n",
       "        text-align: right;\n",
       "    }\n",
       "</style>\n",
       "<table border=\"1\" class=\"dataframe\">\n",
       "  <thead>\n",
       "    <tr style=\"text-align: right;\">\n",
       "      <th></th>\n",
       "      <th>text</th>\n",
       "      <th>toxic</th>\n",
       "      <th>lemm_text</th>\n",
       "    </tr>\n",
       "  </thead>\n",
       "  <tbody>\n",
       "    <tr>\n",
       "      <th>0</th>\n",
       "      <td>Explanation\\nWhy the edits made under my usern...</td>\n",
       "      <td>0</td>\n",
       "      <td>explanation why the edits made under my userna...</td>\n",
       "    </tr>\n",
       "    <tr>\n",
       "      <th>1</th>\n",
       "      <td>D'aww! He matches this background colour I'm s...</td>\n",
       "      <td>0</td>\n",
       "      <td>d aww he matches this background colour i m se...</td>\n",
       "    </tr>\n",
       "    <tr>\n",
       "      <th>2</th>\n",
       "      <td>Hey man, I'm really not trying to edit war. It...</td>\n",
       "      <td>0</td>\n",
       "      <td>hey man i m really not trying to edit war it s...</td>\n",
       "    </tr>\n",
       "  </tbody>\n",
       "</table>\n",
       "</div>"
      ],
      "text/plain": [
       "                                                text  toxic  \\\n",
       "0  Explanation\\nWhy the edits made under my usern...      0   \n",
       "1  D'aww! He matches this background colour I'm s...      0   \n",
       "2  Hey man, I'm really not trying to edit war. It...      0   \n",
       "\n",
       "                                           lemm_text  \n",
       "0  explanation why the edits made under my userna...  \n",
       "1  d aww he matches this background colour i m se...  \n",
       "2  hey man i m really not trying to edit war it s...  "
      ]
     },
     "execution_count": 76,
     "metadata": {},
     "output_type": "execute_result"
    }
   ],
   "source": [
    "df.head(3)"
   ]
  },
  {
   "cell_type": "markdown",
   "id": "53877696",
   "metadata": {},
   "source": [
    "## Разделим на обучающую и тестовую выборку"
   ]
  },
  {
   "cell_type": "code",
   "execution_count": 77,
   "id": "359f9d5d",
   "metadata": {},
   "outputs": [],
   "source": [
    "# Деление обучающей выборки на признаки и целевые признаки\n",
    "features = df.drop(['toxic', 'text'], axis=1)\n",
    "target = df['toxic']"
   ]
  },
  {
   "cell_type": "code",
   "execution_count": 78,
   "id": "2738eb04",
   "metadata": {},
   "outputs": [],
   "source": [
    "# Разделим обучающую и тестовую выборку\n",
    "features_train, features_test, target_train, target_test = train_test_split(features, target, test_size=0.25, random_state=12345)"
   ]
  },
  {
   "cell_type": "code",
   "execution_count": 79,
   "id": "dcdfbf32",
   "metadata": {
    "scrolled": true
   },
   "outputs": [
    {
     "name": "stdout",
     "output_type": "stream",
     "text": [
      "Размер обучающей выборки: 0.75 %\n",
      "Размер тестовой выборки: 0.25 %\n"
     ]
    }
   ],
   "source": [
    "print('Размер обучающей выборки:', round(features_train.shape[0] / df.shape[0], 3), '%')\n",
    "print('Размер тестовой выборки:', round(features_test.shape[0] / df.shape[0], 3), '%')"
   ]
  },
  {
   "cell_type": "markdown",
   "id": "f39b901c",
   "metadata": {},
   "source": [
    "## Предобработка данных"
   ]
  },
  {
   "cell_type": "code",
   "execution_count": 80,
   "id": "2a76719b",
   "metadata": {},
   "outputs": [],
   "source": [
    "# Создаем корпус текстов\n",
    "corpus_train = list(features_train['lemm_text'])\n",
    "corpus_test = list(features_test['lemm_text'])"
   ]
  },
  {
   "cell_type": "markdown",
   "id": "9e6d65a4",
   "metadata": {},
   "source": [
    "<div class=\"alert alert-block alert-danger\">\n",
    "<b>Ошибка:</b> Приводить тексты к юникоду не имеет смысла, так как они все на английском. Это может привести к падению ядра из-за увеличения объема занимаемой памяти.\n",
    "</div>"
   ]
  },
  {
   "cell_type": "markdown",
   "id": "5489c171",
   "metadata": {},
   "source": [
    "<div class=\"alert alert-block alert-warning\">\n",
    "<b>Комментарий студента V2:</b> Хорошо, подправил\n",
    "</div>"
   ]
  },
  {
   "cell_type": "markdown",
   "id": "6d04d7e8",
   "metadata": {},
   "source": [
    "<div class=\"alert alert-block alert-success\">\n",
    "<b>Успех (ревью 2):</b> ОК.\n",
    "</div>"
   ]
  },
  {
   "cell_type": "code",
   "execution_count": 81,
   "id": "aea25f88",
   "metadata": {},
   "outputs": [
    {
     "name": "stdout",
     "output_type": "stream",
     "text": [
      "Corpus_train\n"
     ]
    },
    {
     "data": {
      "text/plain": [
       "'that makes no sense you don t play maplestory through internet explorer sure the website can only be accessible through ie well you can access it through firefox as well if you know what to do but it s not really part of the game'"
      ]
     },
     "metadata": {},
     "output_type": "display_data"
    },
    {
     "name": "stdout",
     "output_type": "stream",
     "text": [
      "\n",
      "Corpus_test\n"
     ]
    },
    {
     "data": {
      "text/plain": [
       "'expert categorizers why is there no mention of the fact that nazis were particularly great categorizers they excelled in identifying various things and writing about them and putting them in their proper places'"
      ]
     },
     "metadata": {},
     "output_type": "display_data"
    }
   ],
   "source": [
    "print('Corpus_train')\n",
    "display(corpus_train[0])\n",
    "print()\n",
    "print('Corpus_test')\n",
    "display(corpus_test[0])"
   ]
  },
  {
   "cell_type": "markdown",
   "id": "14af8f48",
   "metadata": {},
   "source": [
    "## Создание корпуса текстов с обучающей и тестовой выборки"
   ]
  },
  {
   "cell_type": "markdown",
   "id": "898ae3ba",
   "metadata": {},
   "source": [
    "### Обучающая выборка"
   ]
  },
  {
   "cell_type": "code",
   "execution_count": 82,
   "id": "dd84d16c",
   "metadata": {},
   "outputs": [],
   "source": [
    "# По аналогии с CountVectorizer() создадим счётчик, указав в нём стоп-слова:\n",
    "count_tf_idf_train = TfidfVectorizer(stop_words=list(stopwords))"
   ]
  },
  {
   "cell_type": "code",
   "execution_count": 83,
   "id": "eca68c75",
   "metadata": {},
   "outputs": [],
   "source": [
    "# Чтобы посчитать TF-IDF для корпуса текстов, вызовем функцию fit_transform():\n",
    "tf_idf_train = count_tf_idf_train.fit_transform(corpus_train) \n",
    "# Передав TfidfVectorizer() аргумент ngram_range, можно рассчитать N-граммы."
   ]
  },
  {
   "cell_type": "code",
   "execution_count": 84,
   "id": "c1a69c9b",
   "metadata": {
    "scrolled": true
   },
   "outputs": [
    {
     "name": "stdout",
     "output_type": "stream",
     "text": [
      "Размер матрицы обучающей выборки: (119469, 142039)\n"
     ]
    }
   ],
   "source": [
    "print(\"Размер матрицы обучающей выборки:\", tf_idf_train.shape)"
   ]
  },
  {
   "cell_type": "markdown",
   "id": "89722561",
   "metadata": {},
   "source": [
    "### Тестовая выборка"
   ]
  },
  {
   "cell_type": "code",
   "execution_count": 85,
   "id": "4aa19c55",
   "metadata": {},
   "outputs": [],
   "source": [
    "# По аналогии с CountVectorizer() создадим счётчик, указав в нём стоп-слова:\n",
    "count_tf_idf_test = TfidfVectorizer(stop_words=list(stopwords))"
   ]
  },
  {
   "cell_type": "code",
   "execution_count": 86,
   "id": "f9560720",
   "metadata": {},
   "outputs": [],
   "source": [
    "# Чтобы посчитать TF-IDF для корпуса текстов, вызовем функцию fit_transform():\n",
    "tf_idf_test = count_tf_idf_train.transform(corpus_test) \n",
    "# Передав TfidfVectorizer() аргумент ngram_range, можно рассчитать N-граммы."
   ]
  },
  {
   "cell_type": "code",
   "execution_count": 87,
   "id": "b9a50d71",
   "metadata": {
    "scrolled": true
   },
   "outputs": [
    {
     "name": "stdout",
     "output_type": "stream",
     "text": [
      "Размер матрицы тестовой выборки: (39823, 142039)\n"
     ]
    }
   ],
   "source": [
    "print(\"Размер матрицы тестовой выборки:\", tf_idf_test.shape)"
   ]
  },
  {
   "cell_type": "markdown",
   "id": "af3cfdb9",
   "metadata": {},
   "source": [
    "<div class=\"alert alert-block alert-success\">\n",
    "<b>Успех:</b> Разбиение было сделано верно. Отлично, что векторизатор был обучен только на тренировочной части данных.\n",
    "</div>"
   ]
  },
  {
   "cell_type": "markdown",
   "id": "f02ab0a4",
   "metadata": {},
   "source": [
    "# Машинное обучение"
   ]
  },
  {
   "cell_type": "code",
   "execution_count": 88,
   "id": "ae51d486",
   "metadata": {},
   "outputs": [],
   "source": [
    "# Здесь будем сохранить результаты машинного обучения\n",
    "results = pd.DataFrame()\n",
    "\n",
    "# А это будет счетчтиком для нумерация моеделй\n",
    "count_model = 0"
   ]
  },
  {
   "cell_type": "markdown",
   "id": "db025e1d",
   "metadata": {},
   "source": [
    "## Функции\n",
    "\n",
    "**Создаем функцию, которая упрощает написание кода**"
   ]
  },
  {
   "cell_type": "markdown",
   "id": "7eeac266",
   "metadata": {},
   "source": [
    "### Обучение модели"
   ]
  },
  {
   "cell_type": "code",
   "execution_count": 89,
   "id": "3ba4e1f1",
   "metadata": {},
   "outputs": [],
   "source": [
    "# Обучение модели\n",
    "def fit_model(model, features_train, target_train):\n",
    "    # Обучим модель на обучающей выборке\n",
    "    model.fit(features_train, target_train)\n",
    "\n",
    "    # Узнаем RMSE обучающей выборки\n",
    "    F1_TRAIN = model.best_score_\n",
    "    print('F1 TRAIN:', round(F1_TRAIN, 3))\n",
    "    print('TIME TRAIN [s]:', round(model.refit_time_, 3))\n",
    "    \n",
    "    return F1_TRAIN"
   ]
  },
  {
   "cell_type": "markdown",
   "id": "057d1bbd",
   "metadata": {},
   "source": [
    "### Предсказание модели"
   ]
  },
  {
   "cell_type": "code",
   "execution_count": 90,
   "id": "b3a97d0c",
   "metadata": {},
   "outputs": [],
   "source": [
    "# Предсказание модели\n",
    "def predict_model(model, features_test, target_test):\n",
    "    start_time = timeit.default_timer()\n",
    "    # Получим предсказания на тестовой выборки\n",
    "    predictions = model.predict(features_test)\n",
    "\n",
    "    elapsed = round(timeit.default_timer() - start_time, 3)\n",
    "\n",
    "    # Узнаем RMSE\n",
    "    F1_VALID = f1_score(target_test, predictions)\n",
    "    print('F1 VALID:', round(F1_VALID, 3))\n",
    "    print('Предсказание:', round(predictions.mean(), 3))\n",
    "    \n",
    "    return predictions, elapsed, F1_VALID"
   ]
  },
  {
   "cell_type": "markdown",
   "id": "efc18ccd",
   "metadata": {},
   "source": [
    "### Сохранение результатов"
   ]
  },
  {
   "cell_type": "code",
   "execution_count": 91,
   "id": "ae42a354",
   "metadata": {},
   "outputs": [],
   "source": [
    "# Зафиксируем результаты\n",
    "def save_result(name, F1_TRAIN, F1_VALID, predictions, refit_time_, elapsed, best_params_, count_model, show_display=False):\n",
    "    results[count_model] = pd.Series({\n",
    "        'NAME': f'{name}', \n",
    "        'F1 TRAIN': F1_TRAIN, \n",
    "        'F1 VALID': F1_VALID, \n",
    "        'PREDICTIONS': predictions.mean(), \n",
    "        'TIME TRAINING [s]': refit_time_, \n",
    "        'TIME PREDICTION [s]': elapsed, \n",
    "        'PARAMETRS': best_params_\n",
    "    })\n",
    "    \n",
    "    if(show_display == True): display(results[count_model])"
   ]
  },
  {
   "cell_type": "markdown",
   "id": "68c0815b",
   "metadata": {},
   "source": [
    "### График ROC-кривая"
   ]
  },
  {
   "cell_type": "code",
   "execution_count": 92,
   "id": "e4a851be",
   "metadata": {},
   "outputs": [],
   "source": [
    "def display_aus_roc(model, tf_idf_test, target_test):\n",
    "    probabilities_test = model.predict_proba(tf_idf_test)\n",
    "    probabilities_one_test = probabilities_test[:, 1]\n",
    "\n",
    "    auc_roc = roc_auc_score(target_test, probabilities_one_test)\n",
    "\n",
    "    # Изображаем ROC-кривую\n",
    "    fpr, tpr, thresholds = roc_curve(target_test, probabilities_one_test)\n",
    "\n",
    "    plt.figure()\n",
    "\n",
    "    plt.plot(fpr, tpr)\n",
    "\n",
    "    plt.plot([0, 1], [0, 1], linestyle='--')\n",
    "\n",
    "    plt.xlim([0.0, 1.0])\n",
    "    plt.ylim([0.0, 1.0])\n",
    "\n",
    "    plt.xlabel('False Positive Rate')\n",
    "    plt.ylabel('True Positive Rate')\n",
    "\n",
    "    plt.title('ROC-кривая')\n",
    "    plt.show()\n",
    "    \n",
    "    print('ROC AUC:', auc_roc)"
   ]
  },
  {
   "cell_type": "markdown",
   "id": "64f3df37",
   "metadata": {},
   "source": [
    "### График распределения плотности предсказанных и истинных значений"
   ]
  },
  {
   "cell_type": "code",
   "execution_count": 93,
   "id": "5b62b7e6",
   "metadata": {},
   "outputs": [],
   "source": [
    "def display_graph_predicted_and_target(target_train, predictions, F1_VALID, x_pos, y_pos):\n",
    "    plt.figure(figsize=(10, 5))\n",
    "    # Целевой признак\n",
    "    target_train.plot(kind='kde', linewidth=2)\n",
    "    # Предсказания\n",
    "    pd.Series(predictions).plot(kind='kde',linewidth=2)\n",
    "    \n",
    "    plt.title('График распределения плотности предсказанных и истинных значений')\n",
    "    plt.legend(['Истинные значения','Предсказанные значения'], fontsize='large')\n",
    "    \n",
    "    plt.text(x_pos, y_pos, f'F1= {round(F1_VALID, 3)}')\n",
    "    plt.xlabel('')\n",
    "    plt.ylabel('Плотность')\n",
    "    \n",
    "    plt.show()"
   ]
  },
  {
   "cell_type": "markdown",
   "id": "884b253c",
   "metadata": {},
   "source": [
    "## LogisticRegression"
   ]
  },
  {
   "cell_type": "code",
   "execution_count": 124,
   "id": "857c2fa4",
   "metadata": {},
   "outputs": [],
   "source": [
    "pipe_lr = Pipeline([\n",
    "    # Преобразуем в численный тип - векторизацию\n",
    "    ('CountVectorizer', CountVectorizer(vocabulary=count_tf_idf_train.vocabulary_)),\n",
    "    # Трансформируем их\n",
    "    ('TfidfTransformer', TfidfTransformer()),\n",
    "    # Применяем метод Логической регрессии для обучения\n",
    "    ('LogisticRegression', LogisticRegression(solver='lbfgs', max_iter=500, random_state=12345))\n",
    "])\n",
    "                   \n",
    "# Подбор гиперпараметров для обучения\n",
    "grid_params_lr = [{\n",
    "    'LogisticRegression__penalty': ['l1', 'l2'],\n",
    "    'LogisticRegression__C': np.logspace(-3, 3, 10),\n",
    "    'LogisticRegression__solver': ['liblinear']\n",
    "}]\n",
    "\n",
    "model = GridSearchCV(\n",
    "    estimator=pipe_lr,\n",
    "    param_grid=grid_params_lr,\n",
    "    scoring='f1',\n",
    "    cv=5\n",
    ") "
   ]
  },
  {
   "cell_type": "code",
   "execution_count": 125,
   "id": "3b9c1967",
   "metadata": {},
   "outputs": [
    {
     "name": "stdout",
     "output_type": "stream",
     "text": [
      "F1 TRAIN: 0.772\n",
      "TIME TRAIN [s]: 6.476\n",
      "CPU times: total: 16min 48s\n",
      "Wall time: 11min 37s\n"
     ]
    },
    {
     "data": {
      "application/javascript": [
       "$(document).ready(\n",
       "    function() {\n",
       "        function appendUniqueDiv(){\n",
       "            // append a div with our uuid so we can check that it's already\n",
       "            // been sent and avoid duplicates on page reload\n",
       "            var notifiedDiv = document.createElement(\"div\")\n",
       "            notifiedDiv.id = \"9c71cb6c-d4cb-4d9b-92e7-9f863384f58a\"\n",
       "            element.append(notifiedDiv)\n",
       "        }\n",
       "\n",
       "        // only send notifications if the pageload is complete; this will\n",
       "        // help stop extra notifications when a saved notebook is loaded,\n",
       "        // which during testing gives us state \"interactive\", not \"complete\"\n",
       "        if (document.readyState === 'complete') {\n",
       "            // check for the div that signifies that the notification\n",
       "            // was already sent\n",
       "            if (document.getElementById(\"9c71cb6c-d4cb-4d9b-92e7-9f863384f58a\") === null) {\n",
       "                var notificationPayload = {\"requireInteraction\": false, \"icon\": \"/static/base/images/favicon.ico\", \"body\": \"LogisticRegression\"};\n",
       "                if (Notification.permission !== 'denied') {\n",
       "                    if (Notification.permission !== 'granted') { \n",
       "                        Notification.requestPermission(function (permission) {\n",
       "                            if(!('permission' in Notification)) {\n",
       "                                Notification.permission = permission\n",
       "                            }\n",
       "                        })\n",
       "                    }\n",
       "                    if (Notification.permission === 'granted') {\n",
       "                    var notification = new Notification(\"Jupyter Notebook\", notificationPayload)\n",
       "                    appendUniqueDiv()\n",
       "                    notification.onclick = function () {\n",
       "                        window.focus();\n",
       "                        this.close();\n",
       "                        };\n",
       "                    } \n",
       "                }     \n",
       "            }\n",
       "        }\n",
       "    }\n",
       ")\n"
      ],
      "text/plain": [
       "<IPython.core.display.Javascript object>"
      ]
     },
     "metadata": {},
     "output_type": "display_data"
    }
   ],
   "source": [
    "%%notify -m 'LogisticRegression'\n",
    "%%time\n",
    "\n",
    "F1_TRAIN = fit_model(model, corpus_train, target_train)"
   ]
  },
  {
   "cell_type": "markdown",
   "id": "dc645339",
   "metadata": {},
   "source": [
    "<div class=\"alert alert-block alert-info\">\n",
    "<b>Совет: </b> Напомню, что внутри кросс-валидации происходит разбиение выборки на треин и валидацию. Однако, в таком случае векторизатор обучен на всей выборке, а это не совсем корректно. Для избежания такого эффекта можно использовать <a href=\"https://scikit-learn.org/stable/modules/generated/sklearn.pipeline.Pipeline.html\">пайплайн</a>. <a href=\"https://medium.com/analytics-vidhya/ml-pipelines-using-scikit-learn-and-gridsearchcv-fe605a7f9e05\">Тут</a> есть пример.\n",
    "</div>"
   ]
  },
  {
   "cell_type": "markdown",
   "id": "203998ce",
   "metadata": {},
   "source": [
    "<div class=\"alert alert-block alert-warning\">\n",
    "<b>Комментарий студента V2:</b> Хорошо, добавил Pipeline\n",
    "</div>"
   ]
  },
  {
   "cell_type": "markdown",
   "id": "76bbd811",
   "metadata": {},
   "source": [
    "<div class=\"alert alert-block alert-success\">\n",
    "<b>Успех (ревью 2):</b> Верно.\n",
    "</div>"
   ]
  },
  {
   "cell_type": "markdown",
   "id": "3b7f5048",
   "metadata": {},
   "source": [
    "### Проверка на тестовой выборки"
   ]
  },
  {
   "cell_type": "code",
   "execution_count": 129,
   "id": "1d603965",
   "metadata": {},
   "outputs": [
    {
     "name": "stdout",
     "output_type": "stream",
     "text": [
      "F1 VALID: 0.797\n",
      "Предсказание: 0.082\n",
      "CPU times: total: 1.67 s\n",
      "Wall time: 1.76 s\n"
     ]
    }
   ],
   "source": [
    "%%time\n",
    "# Предсказание модели\n",
    "predictions, elapsed, F1_VALID = predict_model(model, corpus_test, target_test)"
   ]
  },
  {
   "cell_type": "code",
   "execution_count": 131,
   "id": "2d8b0885",
   "metadata": {},
   "outputs": [
    {
     "data": {
      "text/plain": [
       "NAME                                                  LogisticRegression\n",
       "F1 TRAIN                                                         0.77238\n",
       "F1 VALID                                                        0.796712\n",
       "PREDICTIONS                                                     0.081762\n",
       "TIME TRAINING [s]                                               6.476454\n",
       "TIME PREDICTION [s]                                                1.749\n",
       "PARAMETRS              {'LogisticRegression__C': 2.154434690031882, '...\n",
       "Name: 0, dtype: object"
      ]
     },
     "metadata": {},
     "output_type": "display_data"
    }
   ],
   "source": [
    "# Зафиксируем результаты\n",
    "save_result('LogisticRegression', F1_TRAIN, F1_VALID, predictions, model.refit_time_, elapsed, model.best_params_, count_model, show_display=True)\n",
    "count_model+=1"
   ]
  },
  {
   "cell_type": "markdown",
   "id": "ea7a6f03",
   "metadata": {},
   "source": [
    "### ROC-кривая"
   ]
  },
  {
   "cell_type": "code",
   "execution_count": 132,
   "id": "0bb5f1d3",
   "metadata": {},
   "outputs": [
    {
     "data": {
      "image/png": "[encoded data removed]",
      "text/plain": [
       "<Figure size 640x480 with 1 Axes>"
      ]
     },
     "metadata": {},
     "output_type": "display_data"
    },
    {
     "name": "stdout",
     "output_type": "stream",
     "text": [
      "ROC AUC: 0.9725170093669597\n"
     ]
    }
   ],
   "source": [
    "display_aus_roc(model, corpus_test, target_test)"
   ]
  },
  {
   "cell_type": "markdown",
   "id": "1519df6f",
   "metadata": {},
   "source": [
    "_*Примечание*_\n",
    "\n",
    "Интервал AUC и качество модели\n",
    "- 0,9 - 1,0 Отличное\n",
    "- 0,8 - 0,9 Очень хорошее\n",
    "- 0,7 - 0,8 Хорошее\n",
    "- 0,6 - 0,7 Среднее\n",
    "- 0,5 - 0,6 Неудовлетворительное"
   ]
  },
  {
   "cell_type": "markdown",
   "id": "cf31838c",
   "metadata": {},
   "source": [
    "Здесь значение ROC-AUC получилось очень идеальной, близок к 1"
   ]
  },
  {
   "cell_type": "markdown",
   "id": "6f49516c",
   "metadata": {},
   "source": [
    "### График распределения плотности предсказанных и истинных значений"
   ]
  },
  {
   "cell_type": "code",
   "execution_count": 136,
   "id": "6dcbed21",
   "metadata": {},
   "outputs": [
    {
     "data": {
      "image/png": "[encoded data removed]",
      "text/plain": [
       "<Figure size 1000x500 with 1 Axes>"
      ]
     },
     "metadata": {},
     "output_type": "display_data"
    }
   ],
   "source": [
    "display_graph_predicted_and_target(target_test, predictions, F1_VALID, 1, 3)"
   ]
  },
  {
   "cell_type": "markdown",
   "id": "6f1e5b11",
   "metadata": {},
   "source": [
    "Результат оказался оптимальным, т.е. F1 = 0,797"
   ]
  },
  {
   "cell_type": "markdown",
   "id": "2d0e2f25",
   "metadata": {},
   "source": [
    "## RandomForestClassifier"
   ]
  },
  {
   "cell_type": "code",
   "execution_count": 138,
   "id": "93a52deb",
   "metadata": {},
   "outputs": [],
   "source": [
    "pipe_rf = Pipeline([\n",
    "    # Преобразуем в численный тип - векторизацию\n",
    "    ('CountVectorizer', CountVectorizer(vocabulary=count_tf_idf_train.vocabulary_)),\n",
    "    # Трансформируем их\n",
    "    ('TfidfTransformer', TfidfTransformer()),\n",
    "    # Применяем метод Логической регрессии для обучения\n",
    "    ('RandomForestClassifier', RandomForestClassifier(random_state=12345))\n",
    "])\n",
    "                   \n",
    "# Подбор гиперпараметров для обучения\n",
    "grid_params_rf = [{\n",
    "    'RandomForestClassifier__criterion': ['gini', 'entropy'],\n",
    "    'RandomForestClassifier__max_depth': [5, 20],\n",
    "    'RandomForestClassifier__min_samples_split': [5, 10],\n",
    "    'RandomForestClassifier__n_estimators': [10, 20],\n",
    "    'RandomForestClassifier__max_features': ['sqrt', 'log2'],\n",
    "    'RandomForestClassifier__bootstrap': [True, False]\n",
    "}]\n",
    "\n",
    "model = GridSearchCV(\n",
    "    estimator=pipe_rf,\n",
    "    param_grid=grid_params_rf,\n",
    "    scoring='f1',\n",
    "    cv=5,\n",
    "    n_jobs=-1\n",
    ") "
   ]
  },
  {
   "cell_type": "code",
   "execution_count": 139,
   "id": "5a356b5a",
   "metadata": {
    "scrolled": true
   },
   "outputs": [
    {
     "name": "stdout",
     "output_type": "stream",
     "text": [
      "F1 TRAIN: 0.022\n",
      "TIME TRAIN [s]: 6.097\n",
      "CPU times: total: 3min 19s\n",
      "Wall time: 7min 19s\n"
     ]
    },
    {
     "data": {
      "application/javascript": [
       "$(document).ready(\n",
       "    function() {\n",
       "        function appendUniqueDiv(){\n",
       "            // append a div with our uuid so we can check that it's already\n",
       "            // been sent and avoid duplicates on page reload\n",
       "            var notifiedDiv = document.createElement(\"div\")\n",
       "            notifiedDiv.id = \"f1d01a22-7c35-4673-b4c7-818c03eea6e6\"\n",
       "            element.append(notifiedDiv)\n",
       "        }\n",
       "\n",
       "        // only send notifications if the pageload is complete; this will\n",
       "        // help stop extra notifications when a saved notebook is loaded,\n",
       "        // which during testing gives us state \"interactive\", not \"complete\"\n",
       "        if (document.readyState === 'complete') {\n",
       "            // check for the div that signifies that the notification\n",
       "            // was already sent\n",
       "            if (document.getElementById(\"f1d01a22-7c35-4673-b4c7-818c03eea6e6\") === null) {\n",
       "                var notificationPayload = {\"requireInteraction\": false, \"icon\": \"/static/base/images/favicon.ico\", \"body\": \"RandomForestClassifier\"};\n",
       "                if (Notification.permission !== 'denied') {\n",
       "                    if (Notification.permission !== 'granted') { \n",
       "                        Notification.requestPermission(function (permission) {\n",
       "                            if(!('permission' in Notification)) {\n",
       "                                Notification.permission = permission\n",
       "                            }\n",
       "                        })\n",
       "                    }\n",
       "                    if (Notification.permission === 'granted') {\n",
       "                    var notification = new Notification(\"Jupyter Notebook\", notificationPayload)\n",
       "                    appendUniqueDiv()\n",
       "                    notification.onclick = function () {\n",
       "                        window.focus();\n",
       "                        this.close();\n",
       "                        };\n",
       "                    } \n",
       "                }     \n",
       "            }\n",
       "        }\n",
       "    }\n",
       ")\n"
      ],
      "text/plain": [
       "<IPython.core.display.Javascript object>"
      ]
     },
     "metadata": {},
     "output_type": "display_data"
    }
   ],
   "source": [
    "%%notify -m 'RandomForestClassifier'\n",
    "%%time\n",
    "\n",
    "# Обучение модели\n",
    "F1_TRAIN = fit_model(model, corpus_train, target_train)"
   ]
  },
  {
   "cell_type": "markdown",
   "id": "89336a42",
   "metadata": {},
   "source": [
    "### Проверка на тестовой выборки"
   ]
  },
  {
   "cell_type": "code",
   "execution_count": 140,
   "id": "41169d79",
   "metadata": {
    "scrolled": true
   },
   "outputs": [
    {
     "name": "stdout",
     "output_type": "stream",
     "text": [
      "F1 VALID: 0.006\n",
      "Предсказание: 0.0\n",
      "CPU times: total: 1.7 s\n",
      "Wall time: 1.82 s\n"
     ]
    }
   ],
   "source": [
    "%%time\n",
    "# Предсказание модели\n",
    "predictions, elapsed, F1_VALID = predict_model(model, corpus_test, target_test)"
   ]
  },
  {
   "cell_type": "markdown",
   "id": "b51b7981",
   "metadata": {},
   "source": [
    "<div class=\"alert alert-block alert-danger\">\n",
    "\n",
    "<b>Ошибка:</b> На тестовой выборке нужно измерить только одну – лучшую модель. Сравнение моделей нужно провести только на кросс-валидации `grid.best_score_` (с одним и тем же параметром \"cv\") или только на валидационной выборке.\n",
    "</div>"
   ]
  },
  {
   "cell_type": "markdown",
   "id": "ded120d3",
   "metadata": {},
   "source": [
    "<div class=\"alert alert-block alert-warning\">\n",
    "<b>Комментарий студента V2:</b> Разве GirdSearchCV автоматически сохраняет лучшие гиперпараметры, и что можно сразу провести на тест?\n",
    "</div>"
   ]
  },
  {
   "cell_type": "markdown",
   "id": "b6b1b9df",
   "metadata": {},
   "source": [
    "<div class=\"alert alert-block alert-danger\">\n",
    "\n",
    "<b>Ошибка (ревью 2):</b> Да, они сохраняются в `grid.best_params_`.\n",
    "    \n",
    "Ошибка выше не исправлена. target_test можно использовать только один раз за проект.\n",
    "</div>"
   ]
  },
  {
   "cell_type": "markdown",
   "id": "7a9a0299",
   "metadata": {},
   "source": [
    "<div class=\"alert alert-block alert-warning\">\n",
    "<b>Комментарий студента V2:</b> Сижу и думаю, и теперь до меня дошло. Результат \n",
    "</div>"
   ]
  },
  {
   "cell_type": "markdown",
   "id": "6e6228a7",
   "metadata": {},
   "source": [
    "F1 метрика совсем сильно упала, почти в 100 раз, очень странно получилось, дальше смотрим"
   ]
  },
  {
   "cell_type": "code",
   "execution_count": 141,
   "id": "b5ed4226",
   "metadata": {},
   "outputs": [
    {
     "data": {
      "text/plain": [
       "NAME                                              RandomForestClassifier\n",
       "F1 TRAIN                                                        0.022039\n",
       "F1 VALID                                                        0.006409\n",
       "PREDICTIONS                                                     0.000326\n",
       "TIME TRAINING [s]                                               6.097396\n",
       "TIME PREDICTION [s]                                                1.814\n",
       "PARAMETRS              {'RandomForestClassifier__bootstrap': True, 'R...\n",
       "Name: 1, dtype: object"
      ]
     },
     "metadata": {},
     "output_type": "display_data"
    }
   ],
   "source": [
    "# Зафиксируем результаты\n",
    "save_result('RandomForestClassifier', F1_TRAIN, F1_VALID, predictions, model.refit_time_, elapsed, model.best_params_, count_model, show_display=True)\n",
    "count_model+=1"
   ]
  },
  {
   "cell_type": "markdown",
   "id": "2f164a80",
   "metadata": {},
   "source": [
    "### ROC-кривая"
   ]
  },
  {
   "cell_type": "code",
   "execution_count": 142,
   "id": "add1caab",
   "metadata": {},
   "outputs": [
    {
     "data": {
      "image/png": "[encoded data removed]",
      "text/plain": [
       "<Figure size 640x480 with 1 Axes>"
      ]
     },
     "metadata": {},
     "output_type": "display_data"
    },
    {
     "name": "stdout",
     "output_type": "stream",
     "text": [
      "ROC AUC: 0.8435407711849274\n"
     ]
    }
   ],
   "source": [
    "display_aus_roc(model, corpus_test, target_test)"
   ]
  },
  {
   "cell_type": "markdown",
   "id": "3640d5e0",
   "metadata": {},
   "source": [
    "_*Примечание*_\n",
    "\n",
    "Интервал AUC и качество модели\n",
    "- 0,9 - 1,0 Отличное\n",
    "- 0,8 - 0,9 Очень хорошее\n",
    "- 0,7 - 0,8 Хорошее\n",
    "- 0,6 - 0,7 Среднее\n",
    "- 0,5 - 0,6 Неудовлетворительное"
   ]
  },
  {
   "cell_type": "markdown",
   "id": "b518e799",
   "metadata": {},
   "source": [
    "Здесь значение ROC-AUC получилось хорошей, около 0,82"
   ]
  },
  {
   "cell_type": "markdown",
   "id": "27a8c389",
   "metadata": {},
   "source": [
    "### График распределения плотности предсказанных и истинных значений"
   ]
  },
  {
   "cell_type": "code",
   "execution_count": 143,
   "id": "099bcbae",
   "metadata": {},
   "outputs": [
    {
     "data": {
      "image/png": "[encoded data removed]",
      "text/plain": [
       "<Figure size 1000x500 with 1 Axes>"
      ]
     },
     "metadata": {},
     "output_type": "display_data"
    }
   ],
   "source": [
    "display_graph_predicted_and_target(target_test, predictions, F1_VALID, 1, 20)"
   ]
  },
  {
   "cell_type": "markdown",
   "id": "71d293f6",
   "metadata": {},
   "source": [
    "Результат у моделей Случайного леса оказался намного худшим по сравнению с остальными моделями"
   ]
  },
  {
   "cell_type": "markdown",
   "id": "8b912688",
   "metadata": {},
   "source": [
    "## DecisionTreeClassifier"
   ]
  },
  {
   "cell_type": "code",
   "execution_count": 144,
   "id": "28415008",
   "metadata": {},
   "outputs": [],
   "source": [
    "pipe_dt = Pipeline([\n",
    "    # Преобразуем в численный тип - векторизацию\n",
    "    ('CountVectorizer', CountVectorizer(vocabulary=count_tf_idf_train.vocabulary_)),\n",
    "    # Трансформируем их\n",
    "    ('TfidfTransformer', TfidfTransformer()),\n",
    "    # Применяем метод Логической регрессии для обучения\n",
    "    ('DecisionTreeClassifier', DecisionTreeClassifier(random_state=12345))\n",
    "])\n",
    "                   \n",
    "# Подбор гиперпараметров для обучения\n",
    "grid_params_dt = [{\n",
    "    'DecisionTreeClassifier__max_depth': [5, 20],\n",
    "    'DecisionTreeClassifier__min_samples_leaf': [0.5, 1]\n",
    "}]\n",
    "\n",
    "model = GridSearchCV(\n",
    "    estimator=pipe_dt,\n",
    "    param_grid=grid_params_dt,\n",
    "    scoring='f1',\n",
    "    cv=5,\n",
    "    n_jobs=-1\n",
    ") "
   ]
  },
  {
   "cell_type": "code",
   "execution_count": 145,
   "id": "88c76853",
   "metadata": {
    "scrolled": true
   },
   "outputs": [
    {
     "name": "stdout",
     "output_type": "stream",
     "text": [
      "F1 TRAIN: 0.642\n",
      "TIME TRAIN [s]: 18.568\n",
      "CPU times: total: 25.8 s\n",
      "Wall time: 1min 16s\n"
     ]
    },
    {
     "data": {
      "application/javascript": [
       "$(document).ready(\n",
       "    function() {\n",
       "        function appendUniqueDiv(){\n",
       "            // append a div with our uuid so we can check that it's already\n",
       "            // been sent and avoid duplicates on page reload\n",
       "            var notifiedDiv = document.createElement(\"div\")\n",
       "            notifiedDiv.id = \"a5905105-ec61-4650-8917-32f6c3be16d0\"\n",
       "            element.append(notifiedDiv)\n",
       "        }\n",
       "\n",
       "        // only send notifications if the pageload is complete; this will\n",
       "        // help stop extra notifications when a saved notebook is loaded,\n",
       "        // which during testing gives us state \"interactive\", not \"complete\"\n",
       "        if (document.readyState === 'complete') {\n",
       "            // check for the div that signifies that the notification\n",
       "            // was already sent\n",
       "            if (document.getElementById(\"a5905105-ec61-4650-8917-32f6c3be16d0\") === null) {\n",
       "                var notificationPayload = {\"requireInteraction\": false, \"icon\": \"/static/base/images/favicon.ico\", \"body\": \"DecisionTreeClassifier\"};\n",
       "                if (Notification.permission !== 'denied') {\n",
       "                    if (Notification.permission !== 'granted') { \n",
       "                        Notification.requestPermission(function (permission) {\n",
       "                            if(!('permission' in Notification)) {\n",
       "                                Notification.permission = permission\n",
       "                            }\n",
       "                        })\n",
       "                    }\n",
       "                    if (Notification.permission === 'granted') {\n",
       "                    var notification = new Notification(\"Jupyter Notebook\", notificationPayload)\n",
       "                    appendUniqueDiv()\n",
       "                    notification.onclick = function () {\n",
       "                        window.focus();\n",
       "                        this.close();\n",
       "                        };\n",
       "                    } \n",
       "                }     \n",
       "            }\n",
       "        }\n",
       "    }\n",
       ")\n"
      ],
      "text/plain": [
       "<IPython.core.display.Javascript object>"
      ]
     },
     "metadata": {},
     "output_type": "display_data"
    }
   ],
   "source": [
    "%%notify -m 'DecisionTreeClassifier'\n",
    "%%time\n",
    "\n",
    "# Обучение модели\n",
    "F1_TRAIN = fit_model(model, corpus_train, target_train)"
   ]
  },
  {
   "cell_type": "markdown",
   "id": "dc1d34d6",
   "metadata": {},
   "source": [
    "### Проверка на тестовой выборки"
   ]
  },
  {
   "cell_type": "code",
   "execution_count": 146,
   "id": "01758dcf",
   "metadata": {
    "scrolled": true
   },
   "outputs": [
    {
     "name": "stdout",
     "output_type": "stream",
     "text": [
      "F1 VALID: 0.645\n",
      "Предсказание: 0.059\n",
      "CPU times: total: 1.73 s\n",
      "Wall time: 1.78 s\n"
     ]
    }
   ],
   "source": [
    "%%time\n",
    "# Предсказание модели\n",
    "predictions, elapsed, F1_VALID = predict_model(model, corpus_test, target_test)"
   ]
  },
  {
   "cell_type": "code",
   "execution_count": 147,
   "id": "0ff2a2c9",
   "metadata": {},
   "outputs": [
    {
     "data": {
      "text/plain": [
       "NAME                                              DecisionTreeClassifier\n",
       "F1 TRAIN                                                        0.641929\n",
       "F1 VALID                                                        0.644646\n",
       "PREDICTIONS                                                      0.05886\n",
       "TIME TRAINING [s]                                              18.568043\n",
       "TIME PREDICTION [s]                                                1.768\n",
       "PARAMETRS              {'DecisionTreeClassifier__max_depth': 20, 'Dec...\n",
       "Name: 2, dtype: object"
      ]
     },
     "metadata": {},
     "output_type": "display_data"
    }
   ],
   "source": [
    "# Зафиксируем результаты\n",
    "save_result('DecisionTreeClassifier', F1_TRAIN, F1_VALID, predictions, model.refit_time_, elapsed, model.best_params_, count_model, show_display=True)\n",
    "count_model+=1"
   ]
  },
  {
   "cell_type": "markdown",
   "id": "33916952",
   "metadata": {},
   "source": [
    "### ROC-кривая"
   ]
  },
  {
   "cell_type": "code",
   "execution_count": 148,
   "id": "cdb29d09",
   "metadata": {},
   "outputs": [
    {
     "data": {
      "image/png": "[encoded data removed]",
      "text/plain": [
       "<Figure size 640x480 with 1 Axes>"
      ]
     },
     "metadata": {},
     "output_type": "display_data"
    },
    {
     "name": "stdout",
     "output_type": "stream",
     "text": [
      "ROC AUC: 0.74210201935063\n"
     ]
    }
   ],
   "source": [
    "display_aus_roc(model, corpus_test, target_test)"
   ]
  },
  {
   "cell_type": "markdown",
   "id": "275b2960",
   "metadata": {},
   "source": [
    "_*Примечание*_\n",
    "\n",
    "Интервал AUC и качество модели\n",
    "- 0,9 - 1,0 Отличное\n",
    "- 0,8 - 0,9 Очень хорошее\n",
    "- 0,7 - 0,8 Хорошее\n",
    "- 0,6 - 0,7 Среднее\n",
    "- 0,5 - 0,6 Неудовлетворительное"
   ]
  },
  {
   "cell_type": "markdown",
   "id": "e6b54eb2",
   "metadata": {},
   "source": [
    "Здесь значение ROC-AUC тоже получилось хорошей, около 0,74"
   ]
  },
  {
   "cell_type": "markdown",
   "id": "6524f489",
   "metadata": {},
   "source": [
    "### График распределения плотности предсказанных и истинных значений"
   ]
  },
  {
   "cell_type": "code",
   "execution_count": 149,
   "id": "8b780678",
   "metadata": {},
   "outputs": [
    {
     "data": {
      "image/png": "[encoded data removed]",
      "text/plain": [
       "<Figure size 1000x500 with 1 Axes>"
      ]
     },
     "metadata": {},
     "output_type": "display_data"
    }
   ],
   "source": [
    "display_graph_predicted_and_target(target_test, predictions, F1_VALID, 1, 3)"
   ]
  },
  {
   "cell_type": "markdown",
   "id": "04adb858",
   "metadata": {},
   "source": [
    "Результат у моделей Решающего дерева тоже оказался неплохим, но логическая регрессия лучше"
   ]
  },
  {
   "cell_type": "markdown",
   "id": "fddd1965",
   "metadata": {},
   "source": [
    "## CatBoostClassifier"
   ]
  },
  {
   "cell_type": "code",
   "execution_count": 150,
   "id": "fa0f7678",
   "metadata": {},
   "outputs": [],
   "source": [
    "pipe_cbc = Pipeline([\n",
    "    # Преобразуем в численный тип - векторизацию\n",
    "    ('CountVectorizer', CountVectorizer(vocabulary=count_tf_idf_train.vocabulary_)),\n",
    "    # Трансформируем их\n",
    "    ('TfidfTransformer', TfidfTransformer()),\n",
    "    # Применяем метод Логической регрессии для обучения\n",
    "    ('CatBoostClassifier', CatBoostClassifier())\n",
    "])\n",
    "                   \n",
    "# Подбор гиперпараметров для обучения\n",
    "grid_params_cbc = [{\n",
    "    'CatBoostClassifier__depth': [5],\n",
    "    'CatBoostClassifier__learning_rate': [0.05],\n",
    "    'CatBoostClassifier__iterations': [10]\n",
    "}]\n",
    "\n",
    "model = GridSearchCV(\n",
    "    estimator=pipe_cbc,\n",
    "    param_grid=grid_params_cbc,\n",
    "    scoring='f1',\n",
    "    cv=5,\n",
    "    n_jobs=-1\n",
    ") "
   ]
  },
  {
   "cell_type": "code",
   "execution_count": 151,
   "id": "a2354f28",
   "metadata": {
    "scrolled": true
   },
   "outputs": [
    {
     "name": "stdout",
     "output_type": "stream",
     "text": [
      "0:\tlearn: 0.6422470\ttotal: 630ms\tremaining: 5.67s\n",
      "1:\tlearn: 0.5979785\ttotal: 1.11s\tremaining: 4.43s\n",
      "2:\tlearn: 0.5563988\ttotal: 1.57s\tremaining: 3.66s\n",
      "3:\tlearn: 0.5213179\ttotal: 2.03s\tremaining: 3.05s\n",
      "4:\tlearn: 0.4900835\ttotal: 2.52s\tremaining: 2.52s\n",
      "5:\tlearn: 0.4617202\ttotal: 2.98s\tremaining: 1.98s\n",
      "6:\tlearn: 0.4364283\ttotal: 3.43s\tremaining: 1.47s\n",
      "7:\tlearn: 0.4155876\ttotal: 3.9s\tremaining: 974ms\n",
      "8:\tlearn: 0.3958446\ttotal: 4.35s\tremaining: 484ms\n",
      "9:\tlearn: 0.3786744\ttotal: 4.81s\tremaining: 0us\n",
      "F1 TRAIN: 0.438\n",
      "TIME TRAIN [s]: 17.72\n",
      "CPU times: total: 1min 22s\n",
      "Wall time: 55.7 s\n"
     ]
    },
    {
     "data": {
      "application/javascript": [
       "$(document).ready(\n",
       "    function() {\n",
       "        function appendUniqueDiv(){\n",
       "            // append a div with our uuid so we can check that it's already\n",
       "            // been sent and avoid duplicates on page reload\n",
       "            var notifiedDiv = document.createElement(\"div\")\n",
       "            notifiedDiv.id = \"6a03571e-d808-4b15-8239-50b972e87ca4\"\n",
       "            element.append(notifiedDiv)\n",
       "        }\n",
       "\n",
       "        // only send notifications if the pageload is complete; this will\n",
       "        // help stop extra notifications when a saved notebook is loaded,\n",
       "        // which during testing gives us state \"interactive\", not \"complete\"\n",
       "        if (document.readyState === 'complete') {\n",
       "            // check for the div that signifies that the notification\n",
       "            // was already sent\n",
       "            if (document.getElementById(\"6a03571e-d808-4b15-8239-50b972e87ca4\") === null) {\n",
       "                var notificationPayload = {\"requireInteraction\": false, \"icon\": \"/static/base/images/favicon.ico\", \"body\": \"CatBoostClassifier\"};\n",
       "                if (Notification.permission !== 'denied') {\n",
       "                    if (Notification.permission !== 'granted') { \n",
       "                        Notification.requestPermission(function (permission) {\n",
       "                            if(!('permission' in Notification)) {\n",
       "                                Notification.permission = permission\n",
       "                            }\n",
       "                        })\n",
       "                    }\n",
       "                    if (Notification.permission === 'granted') {\n",
       "                    var notification = new Notification(\"Jupyter Notebook\", notificationPayload)\n",
       "                    appendUniqueDiv()\n",
       "                    notification.onclick = function () {\n",
       "                        window.focus();\n",
       "                        this.close();\n",
       "                        };\n",
       "                    } \n",
       "                }     \n",
       "            }\n",
       "        }\n",
       "    }\n",
       ")\n"
      ],
      "text/plain": [
       "<IPython.core.display.Javascript object>"
      ]
     },
     "metadata": {},
     "output_type": "display_data"
    }
   ],
   "source": [
    "%%notify -m 'CatBoostClassifier'\n",
    "%%time\n",
    "\n",
    "# Обучение модели\n",
    "F1_TRAIN = fit_model(model, corpus_train, target_train)"
   ]
  },
  {
   "cell_type": "markdown",
   "id": "0dfb2ba6",
   "metadata": {},
   "source": [
    "### Проверка на тестовой выборки"
   ]
  },
  {
   "cell_type": "code",
   "execution_count": 155,
   "id": "74781b2f",
   "metadata": {
    "scrolled": true
   },
   "outputs": [
    {
     "name": "stdout",
     "output_type": "stream",
     "text": [
      "F1 VALID: 0.424\n",
      "Предсказание: 0.028\n",
      "CPU times: total: 1.91 s\n",
      "Wall time: 2.13 s\n"
     ]
    }
   ],
   "source": [
    "%%time\n",
    "# Предсказание модели\n",
    "predictions, elapsed, F1_VALID = predict_model(model, corpus_test, target_test)"
   ]
  },
  {
   "cell_type": "code",
   "execution_count": 156,
   "id": "832f08ce",
   "metadata": {},
   "outputs": [
    {
     "data": {
      "text/plain": [
       "NAME                                                  CatBoostClassifier\n",
       "F1 TRAIN                                                        0.438484\n",
       "F1 VALID                                                        0.423657\n",
       "PREDICTIONS                                                     0.028376\n",
       "TIME TRAINING [s]                                               17.71969\n",
       "TIME PREDICTION [s]                                                2.113\n",
       "PARAMETRS              {'CatBoostClassifier__depth': 5, 'CatBoostClas...\n",
       "Name: 4, dtype: object"
      ]
     },
     "metadata": {},
     "output_type": "display_data"
    }
   ],
   "source": [
    "# Зафиксируем результаты\n",
    "save_result('CatBoostClassifier', F1_TRAIN, F1_VALID, predictions, model.refit_time_, elapsed, model.best_params_, count_model, show_display=True)\n",
    "count_model+=1"
   ]
  },
  {
   "cell_type": "markdown",
   "id": "ae8af55a",
   "metadata": {},
   "source": [
    "### ROC-кривая"
   ]
  },
  {
   "cell_type": "code",
   "execution_count": 157,
   "id": "4929863e",
   "metadata": {},
   "outputs": [
    {
     "data": {
      "image/png": "[encoded data removed]",
      "text/plain": [
       "<Figure size 640x480 with 1 Axes>"
      ]
     },
     "metadata": {},
     "output_type": "display_data"
    },
    {
     "name": "stdout",
     "output_type": "stream",
     "text": [
      "ROC AUC: 0.7417824401689578\n"
     ]
    }
   ],
   "source": [
    "display_aus_roc(model, corpus_test, target_test)"
   ]
  },
  {
   "cell_type": "markdown",
   "id": "f2fbf13f",
   "metadata": {},
   "source": [
    "_*Примечание*_\n",
    "\n",
    "Интервал AUC и качество модели\n",
    "- 0,9 - 1,0 Отличное\n",
    "- 0,8 - 0,9 Очень хорошее\n",
    "- 0,7 - 0,8 Хорошее\n",
    "- 0,6 - 0,7 Среднее\n",
    "- 0,5 - 0,6 Неудовлетворительное"
   ]
  },
  {
   "cell_type": "markdown",
   "id": "085e1727",
   "metadata": {},
   "source": [
    "Здесь значение ROC-AUC тоже получилось очень хорошей, около 0,88"
   ]
  },
  {
   "cell_type": "markdown",
   "id": "af878dda",
   "metadata": {},
   "source": [
    "### График распределения плотности предсказанных и истинных значений"
   ]
  },
  {
   "cell_type": "code",
   "execution_count": 158,
   "id": "57d09335",
   "metadata": {},
   "outputs": [
    {
     "data": {
      "image/png": "[encoded data removed]",
      "text/plain": [
       "<Figure size 1000x500 with 1 Axes>"
      ]
     },
     "metadata": {},
     "output_type": "display_data"
    }
   ],
   "source": [
    "display_graph_predicted_and_target(target_test, predictions, F1_VALID, 1, 3)"
   ]
  },
  {
   "cell_type": "markdown",
   "id": "341c6353",
   "metadata": {},
   "source": [
    "Результат у моделей Бустинга тоже оказался неплохим, но все равно логическая регрессия лучше"
   ]
  },
  {
   "cell_type": "markdown",
   "id": "7e27a5c0",
   "metadata": {},
   "source": [
    "# Вывод"
   ]
  },
  {
   "cell_type": "code",
   "execution_count": 508,
   "id": "99cc510d",
   "metadata": {},
   "outputs": [
    {
     "data": {
      "application/javascript": [
       "$(document).ready(\n",
       "    function() {\n",
       "        function appendUniqueDiv(){\n",
       "            // append a div with our uuid so we can check that it's already\n",
       "            // been sent and avoid duplicates on page reload\n",
       "            var notifiedDiv = document.createElement(\"div\")\n",
       "            notifiedDiv.id = \"21157fce-f5dc-4c9f-a3e6-39f54c9dab40\"\n",
       "            element.append(notifiedDiv)\n",
       "        }\n",
       "\n",
       "        // only send notifications if the pageload is complete; this will\n",
       "        // help stop extra notifications when a saved notebook is loaded,\n",
       "        // which during testing gives us state \"interactive\", not \"complete\"\n",
       "        if (document.readyState === 'complete') {\n",
       "            // check for the div that signifies that the notification\n",
       "            // was already sent\n",
       "            if (document.getElementById(\"21157fce-f5dc-4c9f-a3e6-39f54c9dab40\") === null) {\n",
       "                var notificationPayload = {\"requireInteraction\": false, \"icon\": \"/static/base/images/favicon.ico\", \"body\": \"Total result\"};\n",
       "                if (Notification.permission !== 'denied') {\n",
       "                    if (Notification.permission !== 'granted') { \n",
       "                        Notification.requestPermission(function (permission) {\n",
       "                            if(!('permission' in Notification)) {\n",
       "                                Notification.permission = permission\n",
       "                            }\n",
       "                        })\n",
       "                    }\n",
       "                    if (Notification.permission === 'granted') {\n",
       "                    var notification = new Notification(\"Jupyter Notebook\", notificationPayload)\n",
       "                    appendUniqueDiv()\n",
       "                    notification.onclick = function () {\n",
       "                        window.focus();\n",
       "                        this.close();\n",
       "                        };\n",
       "                    } \n",
       "                }     \n",
       "            }\n",
       "        }\n",
       "    }\n",
       ")\n"
      ],
      "text/plain": [
       "<IPython.core.display.Javascript object>"
      ]
     },
     "metadata": {},
     "output_type": "display_data"
    }
   ],
   "source": [
    "%%notify -m \"Total result\"\n",
    "results = pd.DataFrame(results).T"
   ]
  },
  {
   "cell_type": "code",
   "execution_count": 509,
   "id": "cd052864",
   "metadata": {},
   "outputs": [
    {
     "data": {
      "text/html": [
       "<div>\n",
       "<style scoped>\n",
       "    .dataframe tbody tr th:only-of-type {\n",
       "        vertical-align: middle;\n",
       "    }\n",
       "\n",
       "    .dataframe tbody tr th {\n",
       "        vertical-align: top;\n",
       "    }\n",
       "\n",
       "    .dataframe thead th {\n",
       "        text-align: right;\n",
       "    }\n",
       "</style>\n",
       "<table border=\"1\" class=\"dataframe\">\n",
       "  <thead>\n",
       "    <tr style=\"text-align: right;\">\n",
       "      <th></th>\n",
       "      <th>NAME</th>\n",
       "      <th>F1 TRAIN</th>\n",
       "      <th>F1 VALID</th>\n",
       "      <th>PREDICTIONS</th>\n",
       "      <th>TIME TRAINING [s]</th>\n",
       "      <th>TIME PREDICTION [s]</th>\n",
       "      <th>PARAMETRS</th>\n",
       "    </tr>\n",
       "  </thead>\n",
       "  <tbody>\n",
       "    <tr>\n",
       "      <th>0</th>\n",
       "      <td>LogisticRegression</td>\n",
       "      <td>0.758226</td>\n",
       "      <td>0.779537</td>\n",
       "      <td>0.077618</td>\n",
       "      <td>9.80854</td>\n",
       "      <td>0.011</td>\n",
       "      <td>{'C': 10.0, 'penalty': 'l2'}</td>\n",
       "    </tr>\n",
       "    <tr>\n",
       "      <th>1</th>\n",
       "      <td>RandomForestClassifier</td>\n",
       "      <td>0.006391</td>\n",
       "      <td>0.019589</td>\n",
       "      <td>0.001004</td>\n",
       "      <td>2.05133</td>\n",
       "      <td>0.125</td>\n",
       "      <td>{'bootstrap': True, 'max_depth': 20, 'max_feat...</td>\n",
       "    </tr>\n",
       "    <tr>\n",
       "      <th>2</th>\n",
       "      <td>DecisionTreeClassifier</td>\n",
       "      <td>0.687463</td>\n",
       "      <td>0.688147</td>\n",
       "      <td>0.068352</td>\n",
       "      <td>32.837006</td>\n",
       "      <td>0.019</td>\n",
       "      <td>{'max_depth': 41, 'min_samples_leaf': 1}</td>\n",
       "    </tr>\n",
       "    <tr>\n",
       "      <th>3</th>\n",
       "      <td>CatBoostClassifier</td>\n",
       "      <td>0.562688</td>\n",
       "      <td>0.557233</td>\n",
       "      <td>0.041484</td>\n",
       "      <td>279.01843</td>\n",
       "      <td>0.547</td>\n",
       "      <td>{'depth': 10, 'iterations': 20, 'learning_rate...</td>\n",
       "    </tr>\n",
       "  </tbody>\n",
       "</table>\n",
       "</div>"
      ],
      "text/plain": [
       "                     NAME  F1 TRAIN  F1 VALID PREDICTIONS TIME TRAINING [s]  \\\n",
       "0      LogisticRegression  0.758226  0.779537    0.077618           9.80854   \n",
       "1  RandomForestClassifier  0.006391  0.019589    0.001004           2.05133   \n",
       "2  DecisionTreeClassifier  0.687463  0.688147    0.068352         32.837006   \n",
       "3      CatBoostClassifier  0.562688  0.557233    0.041484         279.01843   \n",
       "\n",
       "  TIME PREDICTION [s]                                          PARAMETRS  \n",
       "0               0.011                       {'C': 10.0, 'penalty': 'l2'}  \n",
       "1               0.125  {'bootstrap': True, 'max_depth': 20, 'max_feat...  \n",
       "2               0.019           {'max_depth': 41, 'min_samples_leaf': 1}  \n",
       "3               0.547  {'depth': 10, 'iterations': 20, 'learning_rate...  "
      ]
     },
     "execution_count": 509,
     "metadata": {},
     "output_type": "execute_result"
    }
   ],
   "source": [
    "# Смотрим все результаты обучения\n",
    "results"
   ]
  },
  {
   "cell_type": "code",
   "execution_count": 511,
   "id": "7440adcc",
   "metadata": {},
   "outputs": [
    {
     "data": {
      "text/html": [
       "<div>\n",
       "<style scoped>\n",
       "    .dataframe tbody tr th:only-of-type {\n",
       "        vertical-align: middle;\n",
       "    }\n",
       "\n",
       "    .dataframe tbody tr th {\n",
       "        vertical-align: top;\n",
       "    }\n",
       "\n",
       "    .dataframe thead th {\n",
       "        text-align: right;\n",
       "    }\n",
       "</style>\n",
       "<table border=\"1\" class=\"dataframe\">\n",
       "  <thead>\n",
       "    <tr style=\"text-align: right;\">\n",
       "      <th></th>\n",
       "      <th>NAME</th>\n",
       "      <th>F1 TRAIN</th>\n",
       "      <th>F1 VALID</th>\n",
       "      <th>PREDICTIONS</th>\n",
       "      <th>TIME TRAINING [s]</th>\n",
       "      <th>TIME PREDICTION [s]</th>\n",
       "      <th>PARAMETRS</th>\n",
       "    </tr>\n",
       "  </thead>\n",
       "  <tbody>\n",
       "    <tr>\n",
       "      <th>0</th>\n",
       "      <td>LogisticRegression</td>\n",
       "      <td>0.758226</td>\n",
       "      <td>0.779537</td>\n",
       "      <td>0.077618</td>\n",
       "      <td>9.80854</td>\n",
       "      <td>0.011</td>\n",
       "      <td>{'C': 10.0, 'penalty': 'l2'}</td>\n",
       "    </tr>\n",
       "  </tbody>\n",
       "</table>\n",
       "</div>"
      ],
      "text/plain": [
       "                 NAME  F1 TRAIN  F1 VALID PREDICTIONS TIME TRAINING [s]  \\\n",
       "0  LogisticRegression  0.758226  0.779537    0.077618           9.80854   \n",
       "\n",
       "  TIME PREDICTION [s]                     PARAMETRS  \n",
       "0               0.011  {'C': 10.0, 'penalty': 'l2'}  "
      ]
     },
     "execution_count": 511,
     "metadata": {},
     "output_type": "execute_result"
    }
   ],
   "source": [
    "# Нам интересует F1 не менее 0.75, тогда\n",
    "best_results = results[results['F1 VALID'] > 0.75]\n",
    "best_results"
   ]
  },
  {
   "cell_type": "markdown",
   "id": "dcf32057",
   "metadata": {},
   "source": [
    "Самой лучшей моделей является LogisticRegression - F1 на тестовой выборки составляет `0.77`, а скорость обучения составляет аж **10 секунды**, время предсказания - **0,01 секунда**. \n",
    "\n",
    "Вполне очень акдеватный результат, чтобы выбрать эту модель для реализации. \n",
    "\n",
    "Есть другая модель, но, к сожалению, не попал в топ, т.к. метрика F1 ниже заявленного - `0,75`."
   ]
  },
  {
   "cell_type": "markdown",
   "id": "ab4861c3",
   "metadata": {},
   "source": [
    "<div class=\"alert alert-block alert-success\">\n",
    "<b>Успех:</b> Молодец, что попробовал разные модели в этом шаге! Но есть ошибка с тестированием, которую я обозначил выше.\n",
    "</div>"
   ]
  },
  {
   "cell_type": "markdown",
   "id": "2963fd7b",
   "metadata": {},
   "source": [
    "# Машинное обучение с BERT"
   ]
  },
  {
   "cell_type": "code",
   "execution_count": 94,
   "id": "2dbf45d6",
   "metadata": {},
   "outputs": [
    {
     "name": "stdout",
     "output_type": "stream",
     "text": [
      "Fri Apr 14 17:27:44 2023       \n",
      "+---------------------------------------------------------------------------------------+\n",
      "| NVIDIA-SMI 531.14                 Driver Version: 531.14       CUDA Version: 12.1     |\n",
      "|-----------------------------------------+----------------------+----------------------+\n",
      "| GPU  Name                      TCC/WDDM | Bus-Id        Disp.A | Volatile Uncorr. ECC |\n",
      "| Fan  Temp  Perf            Pwr:Usage/Cap|         Memory-Usage | GPU-Util  Compute M. |\n",
      "|                                         |                      |               MIG M. |\n",
      "|=========================================+======================+======================|\n",
      "|   0  NVIDIA GeForce GTX 1650 Ti    WDDM | 00000000:01:00.0  On |                  N/A |\n",
      "| N/A   38C    P8                1W /  N/A|    337MiB /  4096MiB |      6%      Default |\n",
      "|                                         |                      |                  N/A |\n",
      "+-----------------------------------------+----------------------+----------------------+\n",
      "                                                                                         \n",
      "+---------------------------------------------------------------------------------------+\n",
      "| Processes:                                                                            |\n",
      "|  GPU   GI   CI        PID   Type   Process name                            GPU Memory |\n",
      "|        ID   ID                                                             Usage      |\n",
      "|=======================================================================================|\n",
      "|    0   N/A  N/A     11248    C+G   ... Access Service\\ePowerButton_NB.exe    N/A      |\n",
      "+---------------------------------------------------------------------------------------+\n"
     ]
    }
   ],
   "source": [
    "gpu_info = !nvidia-smi\n",
    "gpu_info = '\\n'.join(gpu_info)\n",
    "if gpu_info.find('failed') >= 0:\n",
    "    print('Select the Runtime > \"Change runtime type\" menu to enable a GPU accelerator, ')\n",
    "    print('and then re-execute this cell.')\n",
    "else:\n",
    "    print(gpu_info)"
   ]
  },
  {
   "cell_type": "code",
   "execution_count": 95,
   "id": "c47cbda6",
   "metadata": {},
   "outputs": [
    {
     "name": "stdout",
     "output_type": "stream",
     "text": [
      "Using CPU\n"
     ]
    }
   ],
   "source": [
    "device = torch.device(\"cuda\" if torch.cuda.is_available() else \"cpu\")\n",
    "\n",
    "if device == torch.device('cpu'):\n",
    "    print('Using CPU')\n",
    "else:\n",
    "    n_gpu = torch.cuda.device_count()\n",
    "    print('Using {} GPUs'.format(torch.cuda.get_device_name(0)))"
   ]
  },
  {
   "cell_type": "markdown",
   "id": "5bc921b5",
   "metadata": {},
   "source": [
    "<div class=\"alert alert-block alert-warning\">\n",
    "<b>Комментарий студента:</b> подключает только к процессору(. Я установил все необходимые инструменты, включая CUDA\n",
    "</div>"
   ]
  },
  {
   "cell_type": "markdown",
   "id": "a3b4b104",
   "metadata": {},
   "source": [
    "## Получение датасета"
   ]
  },
  {
   "cell_type": "code",
   "execution_count": 96,
   "id": "f40592b0",
   "metadata": {},
   "outputs": [],
   "source": [
    "# Получаем csv файл через ссылки\n",
    "toxic_comments_path = tf.keras.utils.get_file(\"toxic_comments.csv\", 'https://code.s3.yandex.net/datasets/toxic_comments.csv')"
   ]
  },
  {
   "cell_type": "code",
   "execution_count": 97,
   "id": "142ed19c",
   "metadata": {},
   "outputs": [
    {
     "data": {
      "text/plain": [
       "'C:\\\\Users\\\\Papin\\\\.keras\\\\datasets\\\\toxic_comments.csv'"
      ]
     },
     "execution_count": 97,
     "metadata": {},
     "output_type": "execute_result"
    }
   ],
   "source": [
    "# Адрес хранения csv файла\n",
    "toxic_comments_path"
   ]
  },
  {
   "cell_type": "code",
   "execution_count": 165,
   "id": "f95a794e",
   "metadata": {},
   "outputs": [],
   "source": [
    "AUTOTUNE = tf.data.AUTOTUNE\n",
    "batch_size = 8\n",
    "\n",
    "toxic_comments_csv_ds = tf.data.experimental.make_csv_dataset(\n",
    "    toxic_comments_path,\n",
    "    # Признаки features\n",
    "    # column_names='text',\n",
    "    # Целевой признак\n",
    "    label_name='toxic',\n",
    "    batch_size=batch_size,\n",
    "    num_epochs=1\n",
    ")"
   ]
  },
  {
   "cell_type": "markdown",
   "id": "fb8181b8",
   "metadata": {},
   "source": [
    "Просмотр текстов"
   ]
  },
  {
   "cell_type": "code",
   "execution_count": 167,
   "id": "e5e2ee01",
   "metadata": {
    "scrolled": true
   },
   "outputs": [
    {
     "name": "stdout",
     "output_type": "stream",
     "text": [
      "                    : [7800 3584 5910 1718 4129 1706 8979 3787]\n",
      "-------------------------------------------------------------------------------------------------------------------------------\n",
      "text                : [b'Please unblock me!  I need to make my own account!'\n",
      " b'Welcome to the site of chimpo14 you are allowed to send messages but not delete them thank you very much ...good bye'\n",
      " b'Nu Metal \\n\\nWhat i reverted was an unexplained removal of most of the articles text. Im simply not very good at reverting. Removing text for no reason other than to disrupt Wikipedia is vandalism.'\n",
      " b'RE: \\n\\nPunk ass snitch, get the cock.'\n",
      " b\"I am not a sock puppet i am just good at what I do so dont get confused thanks.  Genious of Wikipedia's editing\"\n",
      " b'\"== This is about candy, not artists ==\\nAs such, while \"\"filmmaker Charlie Panian\"\" may be deserving of a page, it isn\\'t this one.  If you want to start a page about Charlie Panian, then please link to some critiques of his work as well.  ~ Imagine I swore. \"'\n",
      " b'I pray to God that you will get the best Man as your life partner. I really love you. \\n\\n I envy all men who had the privilege of hugging you and getting your love.'\n",
      " b\"Funniest talk page edit ever. I'm being warned by an IP for doing the correct thing. Brilliant.\\n\\nEverton stuff irrelevant, left hook is incorrect title and the Rashad fight is unconfirmed. I'm doing EVERYTHING right and an IP is vandalising, but yet this IP is deluded.\"]\n",
      "-------------------------------------------------------------------------------------------------------------------------------\n",
      "===============================================================================================================================\n",
      "\n",
      "label               : [0 0 0 1 0 0 0 0]\n"
     ]
    }
   ],
   "source": [
    "for batch, label in toxic_comments_csv_ds.take(1):\n",
    "    for key, value in batch.items():\n",
    "        print(f\"{key:20s}: {value}\")\n",
    "        print('-'*127)\n",
    "    print('='*127)\n",
    "    print('')\n",
    "    print(f\"{'label':20s}: {label}\")"
   ]
  },
  {
   "cell_type": "code",
   "execution_count": 168,
   "id": "666a314f",
   "metadata": {},
   "outputs": [
    {
     "data": {
      "text/plain": [
       "<PrefetchDataset element_spec=(OrderedDict([('', TensorSpec(shape=(None,), dtype=tf.int32, name=None)), ('text', TensorSpec(shape=(None,), dtype=tf.string, name=None))]), TensorSpec(shape=(None,), dtype=tf.int32, name=None))>"
      ]
     },
     "execution_count": 168,
     "metadata": {},
     "output_type": "execute_result"
    }
   ],
   "source": [
    "toxic_comments_csv_ds"
   ]
  },
  {
   "cell_type": "markdown",
   "id": "2cd8400b",
   "metadata": {},
   "source": [
    "##  Деление на обучающей и тестовой выборки"
   ]
  },
  {
   "cell_type": "code",
   "execution_count": 169,
   "id": "14cac6c7",
   "metadata": {},
   "outputs": [],
   "source": [
    "# Разделим обучающую и валидцаионную, тестовую выборку в соотношение 60:40\n",
    "train, test = train_test_split(df, test_size=0.2, random_state=12345)"
   ]
  },
  {
   "cell_type": "code",
   "execution_count": 170,
   "id": "c21d44ee",
   "metadata": {},
   "outputs": [
    {
     "name": "stdout",
     "output_type": "stream",
     "text": [
      "Размер обучающей выборки: 0.8 %\n",
      "Размер тестовой выборки: 0.2 %\n"
     ]
    }
   ],
   "source": [
    "print('Размер обучающей выборки:', round(train.shape[0] / df.shape[0], 3), '%')\n",
    "print('Размер тестовой выборки:', round(test.shape[0] / df.shape[0], 3), '%')"
   ]
  },
  {
   "cell_type": "code",
   "execution_count": 171,
   "id": "b4eb3c62",
   "metadata": {},
   "outputs": [],
   "source": [
    "# Cохраняим файлы\n",
    "train.to_csv(r\"toxic_comments_train.csv\")\n",
    "test.to_csv(r\"toxic_comments_test.csv\")"
   ]
  },
  {
   "cell_type": "code",
   "execution_count": 173,
   "id": "f003840b",
   "metadata": {},
   "outputs": [],
   "source": [
    "toxic_comments_csv_ds_train = tf.data.experimental.make_csv_dataset(\n",
    "    'toxic_comments_train.csv',    \n",
    "    # Признаки features\n",
    "    # column_names='text',\n",
    "    # Целевой признак\n",
    "    label_name='toxic',\n",
    "    batch_size=batch_size,\n",
    "    num_epochs=1\n",
    ")\n",
    "\n",
    "toxic_comments_csv_ds_test = tf.data.experimental.make_csv_dataset(\n",
    "    'toxic_comments_test.csv',\n",
    "    # Признаки features\n",
    "    # column_names='text',\n",
    "    # Целевой признак\n",
    "    label_name='toxic',\n",
    "    batch_size=batch_size,\n",
    "    num_epochs=1,\n",
    ")"
   ]
  },
  {
   "cell_type": "markdown",
   "id": "7a624394",
   "metadata": {},
   "source": [
    "Просмотр текстов обучающей выборки"
   ]
  },
  {
   "cell_type": "code",
   "execution_count": 174,
   "id": "7a0bac8f",
   "metadata": {
    "scrolled": false
   },
   "outputs": [
    {
     "name": "stdout",
     "output_type": "stream",
     "text": [
      "                    : [137521  67173 109138  17423  46274  46890  74041 114277]\n",
      "-------------------------------------------------------------------------------------------------------------------------------\n",
      "text                : [b\"Euploidy \\nI'm pretty sure this section is wrong, according to my uni lecture notes and biology dictionary. I would just like someone else with a little more knowledge to write this correctly. As far as I can determine, euploidy is having integral multiples of the haploid number of chromosomes, i.e. haploid, diploid, triploid, tetraploid, etc. This seems to suggest to me that the euploid number (if there is such a thing) would be equal to the haploid number...? But i don't really want to put this in unless I am sure. -\"\n",
      " b'Nope, in this days you have to be an animated family to get money from comedy.'\n",
      " b'I am a total tool who reverts shit for fun )'\n",
      " b'Mark asten is a pussy pussy pussy pussy pussy pussy pussy loser loser loser fucker fucker fucker hooker hooker hooker son of a bitch son of a bitch son of a bitchWelcome'\n",
      " b\"The quote certainly sounds familiar, and I think that it might be in either the 2ed Eldar book or possibly in the Codex Imperialis book from the 2ed game set. I don't have access to those right this moment, but I'll check them when I get back home. \\n\\nI think that the relation between the Eldar and Japan is more tenuous then between the Eldar and Tolkien though; there are some very clear parallels between Elves and Eldar, right down to some of the naming used. Unfortunately I don't know much about feudal Japan, so I'm going to spend a bit of time brushing up on that and see what parallels exist.   15:28 EST, May 12 2005.\"\n",
      " b'January 2007 (UTC)\\nI forwarded my discussion with the admin of the website.  01:31, 3'\n",
      " b'Thanks, I will contact you by the end of the weekend.'\n",
      " b\"Hey Kevin, I'm not sure what changes you are talking about, as I only changed the introduction unless your referring to the topics I listed, I welcome you to add more to it, and I explicitly said that it is including but not limited to. I would also disagree that they are americaentric, and ask how you determined the mainstream viewpoint. Just as an example, Military conscription would apply to countries such as Switzerland, Turkey, Republic of China, and Germany, or discussing affirmative action laws see the entire affirmative action page.\"]\n",
      "-------------------------------------------------------------------------------------------------------------------------------\n",
      "lemm_text           : [b'euploidy i m pretty sure this section is wrong according to my uni lecture notes and biology dictionary i would just like someone else with a little more knowledge to write this correctly as far as i can determine euploidy is having integral multiples of the haploid number of chromosomes i e haploid diploid triploid tetraploid etc this seems to suggest to me that the euploid number if there is such a thing would be equal to the haploid number but i don t really want to put this in unless i am sure'\n",
      " b'nope in this days you have to be an animated family to get money from comedy'\n",
      " b'i am a total tool who reverts shit for fun'\n",
      " b'mark asten is a pussy pussy pussy pussy pussy pussy pussy loser loser loser fucker fucker fucker hooker hooker hooker son of a bitch son of a bitch son of a bitchwelcome'\n",
      " b'the quote certainly sounds familiar and i think that it might be in either the ed eldar book or possibly in the codex imperialis book from the ed game set i don t have access to those right this moment but i ll check them when i get back home i think that the relation between the eldar and japan is more tenuous then between the eldar and tolkien though there are some very clear parallels between elves and eldar right down to some of the naming used unfortunately i don t know much about feudal japan so i m going to spend a bit of time brushing up on that and see what parallels exist est may'\n",
      " b'january utc i forwarded my discussion with the admin of the website'\n",
      " b'thanks i will contact you by the end of the weekend'\n",
      " b'hey kevin i m not sure what changes you are talking about as i only changed the introduction unless your referring to the topics i listed i welcome you to add more to it and i explicitly said that it is including but not limited to i would also disagree that they are americaentric and ask how you determined the mainstream viewpoint just as an example military conscription would apply to countries such as switzerland turkey republic of china and germany or discussing affirmative action laws see the entire affirmative action page']\n",
      "-------------------------------------------------------------------------------------------------------------------------------\n",
      "===============================================================================================================================\n",
      "\n",
      "label               : [0 0 1 1 0 0 0 0]\n"
     ]
    }
   ],
   "source": [
    "for batch, label in toxic_comments_csv_ds_train.take(1):\n",
    "    for key, value in batch.items():\n",
    "        print(f\"{key:20s}: {value}\")\n",
    "        print('-'*127)\n",
    "    print('='*127)\n",
    "    print('')\n",
    "    print(f\"{'label':20s}: {label}\")"
   ]
  },
  {
   "cell_type": "markdown",
   "id": "c7e34d2e",
   "metadata": {},
   "source": [
    "Просмотр текстов тестовой выборки"
   ]
  },
  {
   "cell_type": "code",
   "execution_count": 175,
   "id": "8e0744b8",
   "metadata": {
    "scrolled": false
   },
   "outputs": [
    {
     "name": "stdout",
     "output_type": "stream",
     "text": [
      "                    : [ 57602 103005  50083  36217  29707  30773  20646  81509]\n",
      "-------------------------------------------------------------------------------------------------------------------------------\n",
      "text                : [b'\"(Are you even looking at the links I\\'m providing? I said I searched for documents with \"\"Government Report\"\" in the title and linked the results.)\\nI think you are forgetting that the idea of the special \"\"Government Report\"\" came from you. Remember, you said on the RfC (emphasis mine): ;Comment from Lsi john:The CSR, from their own website, is a private research office, used by Congress for analysys. The CSR is not tasked with producing, publishing or releasing official government reports. Their work is printed, for distribution to Congress, not as Official Government Reports.\\n\\nI\\'ve already proven this statement by you to be wrong, CRS isn\\'t private (show me where it says so on the webpage:\\nAbout the Library of Congress and LOC\\'s mission and strategic plan The Library of Congress is a federal research agency for Congress.\\nLOC FAQ which states(emphasis mine): 7. How does Congress use the Library?Some 500,000 requests are received annually by the Congressional Research Service (CRS), the part of the Library that serves Congress. Staffed by specialists on a wide variety of topics, CRS supplies Congress with unbiased information on a wide variety of subjects. Another department of the Library that works closely with Congress is the Law Library. With collections in foreign, international and comparative law, it serves as the foreign law research arm of Congress.\\nCRS reports available from fpc.state.gov The state department also uses CRS reports. Example: Arab League Boycott of Israel 04/12/2007 Martin A. Weiss\\nWould you believe a statement from www.usa.gov? I can write them an e-mail or chat online with a representative tomorrow.   \\n\\n\"'\n",
      " b\"underestimation \\nI think calculating the real GDP has nothing to do with CPI, It's calculated differently.\"\n",
      " b\"[[unblock|unsigned comments by circle of connected users betray a campaign of coordinated attempts to block this account by aggravated and inflammatory delete tags and covert communications between users concerned notably Crusio, etc. all of whom have made several delete or merge articles which have been previously reviewed as keeps.  They have also made repeat edits contradicting well-researched material and have a concerted agenda to gain ownership of articles.  They have made false allegations of 'promotion', placed delete tags on articles and made innacurate edits and contradicted researched data without leaving a message on the article's or my talk page first.  Any comments have been a justified reaction to a spate of backhand discussions and disruptive edits which reflect poorly on the users concerned who hide behind a veil of 'wiki' conventions in their aggravating edits.\"\n",
      " b\"What's the deal with SineBot anywho? I don't get the big deal about signing....\"\n",
      " b'FDNY \\n\\nThe helicopter is pending and it says so in my addition.  STOP BEING A VANDAL.  All you do is diminish the already tarnished reputation of Wikipedia.  It is full of imbeciles like you that believe in the concept of ignoring the facts if you don;t like them.'\n",
      " b'\"\\n_______________________\\n\\n>Hello Beaumont,I noticed that you have recently joined the Dzierzon discussion and especially Dzierzon\\'s self-identification. You may want to read his own biography and look at his family photos at [56].\\nWhat exactly the autobiography is supposed to prove? That he wrote German. And where he identifies himself as German? And what the photos suppose to proof?\\n>He himself states that his mother Maria and father Simon had a small farm in the same place in Silesia. In other words they were longtime burghers of Silesia, as well as him.\\nYes there was. \\xe2\\x80\\x9cName of his great-grandfather Jerzy (1717-1800) appears in the oldest Polish chronicles of Lowkowitz \\xe2\\x80\\x9c(W. Kocowicz 1987).\\n>You look at the church records with birth, marriage, death from Lowkowitz and surrounding area and all his Dzierzon family members, who all wound up after 1945 in Western Germany and you find no traces at all of either him or his parents having moved from Poland to Silesia, Germany.\\nIt only proof that the official language was German and Germanization was on the way look V. Raczek, Erinnerungeu all den Altmelster der Bienenzuclit Dr. Dzierzon\\n>His grave stone also identifies him as Johann Dzierzon.\\nThe grave stone is repeatedly mentioned by many as proof. The stone was funded by Austrian Beekeepers\\xe2\\x80\\x99 Association and have nothing to do with Dzierzon\\xe2\\x80\\x99s family will. I already mentioned about it in earlier part of the discussion. Lokk up.\\n>The only Polish people, who came to the Silesian town, I find reference to, is by the way on the current Polish Kluczbork.. (?) site, which tells us that Protestant Polish people took refuge there in the 1600\\'s. We all know, that the Counter-Reformation and the Jesuits \\'convinced\\' the Silesians and others to re-catholizise. Perhaps that is, where Johann Dzierzon had gotten his surname from.\\nYou like to forgot that orginal population of Silesia was Polish people. Look for \\xe2\\x80\\x9cRecoveret Teritories\\xe2\\x80\\x9d article. The orginal Polish language survived for hundred od years. (It is not exceptional facts you can found such event on Lithuania and others countries where the native language was not changed in vilages) As you can imagine because the schools were fewer.\\n>I have not seen any self-description of him by himself as a Pole.\\nI am not surprised of it. German do not publicized such thinks. You need read Polish. You have editions by Polish authors in English. You can find them in \\xe2\\x80\\x9cLiterature\\xe2\\x80\\x9d sections. Also you disbelieve recent Polish authors but you believe on NSDAP propagandists Karl Fleischer (his editions are 50-70 years old). I ask many times for recent German beekeeping historians who says Jan Dzierzon was German.\\n>The wikipedia Polish group, lead by A Serafin, who is also Nr. 131.. are the only ones with a note from a 1961 book, which is added to the incorrectly named Jan Dzierzon wikipedia article.\\nThe correct name of Jan Dzierzon is Dzier\\xc5\\xbcon the z is with dot above. \\xe2\\x80\\x9cDzier\\xc5\\xbcy\\xc4\\x87\\xe2\\x80\\x9d means to keep in Polish language. What do you mean a note from 1961. All Polish beekeeping historians says Dzierzon was Polish. You just disregard parts which are inconvenient.\\n>This not only claims, that he said that, but insisting on, that he actually did say that. Where is the actual proof? \\nIn Kluczbork museum. There is many more interesting thinks about the Polish Dzierzon family and their testimonies. I will encourage you to find proof of yours statement JD was German. Nobody yet give me one except the NSDAP propagandists Karl Fleischer scribbles. Autobiography do not say anything of such, we already know it, is not? \\n>That quote, supposedly from him,\\'identifying himself as a Polish person\\', actually just says, that his surname is a Polish-based surname.\\nThe citation say: \\xe2\\x80\\x9cRegarding my nationality, I AM obviously, just as my name says, Polish of birth, since on Silesia people speak Polish\\xe2\\x80\\xa6\\xe2\\x80\\x9d in Polish version is: \"\"Samo moje nazwisko m\\xc3\\xb3wi, \\xc5\\xbcem Polak z urodzenia\"\" which is \\xe2\\x80\\x9cjust my name says I AM Pole of birth\\xe2\\x80\\x9d Further the sentence says: \\xe2\\x80\\x9cbecause from 10 birthday I found myself in Breslau and I studied there I become German educated, but the education does not accept borders or nationality.\\xe2\\x80\\x9d I did not include the other part before as I avoided irritating Germans chauvinists. Now you have it.\\nOriginal Polish text: \\xe2\\x80\\x9eCo do mojej narodowo\\xc5\\x9bci, jestem oczywi\\xc5\\x9bcie, jak ju\\xc5\\xbc samo nazwisko moje m\\xc3\\xb3wi, Polakiem\\nz urodzenia, gdy\\xc5\\xbc na \\xc5\\x9al\\xc4\\x85sku m\\xc3\\xb3wi si\\xc4\\x99 po polsku, a \\xc5\\xbce od 10 roku \\xc5\\xbcycia znalaz\\xc5\\x82em si\\xc4\\x99 we Wroc\\xc5\\x82awiu i tam studiowa\\xc5\\x82em, sta\\xc5\\x82em si\\xc4\\x99 Niemcem z wykszta\\xc5\\x82cenia. Ale nauka nie uznaje granic ani narodowo\\xc5\\x9bci.\\xe2\\x80\\x9d\\nOriginal in Museum of. J. Dzier\\xc5\\xbcona in Kluczborku, sygn. 35, 14, 11 Folge, Zur Charakteristik Dr. J. Dzierzon.\\nAre you really assume that Prussia was an asylum of tolerance and love? If so you would be surprise. Dzierzon did not have a reason to love Prussia.\\n>Now on'\n",
      " b'Welcome!\\n\\nHello, , and welcome to Wikipedia! Thank you for your contributions. I hope you like the place and decide to stay. Here are some pages that you might find helpful:\\nThe five pillars of Wikipedia\\nHow to edit a page\\nHelp pages\\nTutorial\\nHow to write a great article\\nManual of Style\\nI hope you enjoy editing here and being a Wikipedian! Please sign your name on talk pages using four tildes (~~~~); this will automatically produce your name and the date. If you need help, check out Wikipedia:Questions, ask me on my talk page, or place {{helpme}} on your talk page and someone will show up shortly to answer your questions. Again, welcome!\\xc2\\xa0  \\n\\nArticle additions\\nThank you for your help in creating new Wikipedia articles, such as about various types of cheeses.  Please do ensure, however, that any information that you add is properly sourced, so that it meets with the policy at Wikipedia:Verifiability.  Thanks!'\n",
      " b'\"\\n\\nImproving the article\\n\\nAh, Wikipedia, paradise for people with a certain special psychology. I\\'d love to know why \"\"a bow and arrow\"\" is better than \"\"a hunting bow\"\". In the story, Bond says: \"\"Put away your bow and arrow, Robina.\"\" Native speakers of English will know he\\'s using childish language as a joke. IOW, \"\"bow and arrow\"\" is not suitable for an encyclopedia. There are other changes I\\'d like to make to improve the article, but if they\\'re going to be reverted (again) there seems little point.   \"']\n",
      "-------------------------------------------------------------------------------------------------------------------------------\n",
      "lemm_text           : [b'are you even looking at the links i m providing i said i searched for documents with government report in the title and linked the results i think you are forgetting that the idea of the special government report came from you remember you said on the rfc emphasis mine comment from lsi john the csr from their own website is a private research office used by congress for analysys the csr is not tasked with producing publishing or releasing official government reports their work is printed for distribution to congress not as official government reports i ve already proven this statement by you to be wrong crs isn t private show me where it says so on the webpage about the library of congress and loc s mission and strategic plan the library of congress is a federal research agency for congress loc faq which states emphasis mine how does congress use the library some requests are received annually by the congressional research service crs the part of the library that serves congress staffed by specialists on a wide variety of topics crs supplies congress with unbiased information on a wide variety of subjects another department of the library that works closely with congress is the law library with collections in foreign international and comparative law it serves as the foreign law research arm of congress crs reports available from fpc state gov the state department also uses crs reports example arab league boycott of israel martin a weiss would you believe a statement from www usa gov i can write them an e mail or chat online with a representative tomorrow'\n",
      " b'underestimation i think calculating the real gdp has nothing to do with cpi it s calculated differently'\n",
      " b'unblock unsigned comments by circle of connected users betray a campaign of coordinated attempts to block this account by aggravated and inflammatory delete tags and covert communications between users concerned notably crusio etc all of whom have made several delete or merge articles which have been previously reviewed as keeps they have also made repeat edits contradicting well researched material and have a concerted agenda to gain ownership of articles they have made false allegations of promotion placed delete tags on articles and made innacurate edits and contradicted researched data without leaving a message on the article s or my talk page first any comments have been a justified reaction to a spate of backhand discussions and disruptive edits which reflect poorly on the users concerned who hide behind a veil of wiki conventions in their aggravating edits'\n",
      " b'what s the deal with sinebot anywho i don t get the big deal about signing'\n",
      " b'fdny the helicopter is pending and it says so in my addition stop being a vandal all you do is diminish the already tarnished reputation of wikipedia it is full of imbeciles like you that believe in the concept of ignoring the facts if you don t like them'\n",
      " b'hello beaumont i noticed that you have recently joined the dzierzon discussion and especially dzierzon s self identification you may want to read his own biography and look at his family photos at what exactly the autobiography is supposed to prove that he wrote german and where he identifies himself as german and what the photos suppose to proof he himself states that his mother maria and father simon had a small farm in the same place in silesia in other words they were longtime burghers of silesia as well as him yes there was name of his great grandfather jerzy appears in the oldest polish chronicles of lowkowitz w kocowicz you look at the church records with birth marriage death from lowkowitz and surrounding area and all his dzierzon family members who all wound up after in western germany and you find no traces at all of either him or his parents having moved from poland to silesia germany it only proof that the official language was german and germanization was on the way look v raczek erinnerungeu all den altmelster der bienenzuclit dr dzierzon his grave stone also identifies him as johann dzierzon the grave stone is repeatedly mentioned by many as proof the stone was funded by austrian beekeepers association and have nothing to do with dzierzon s family will i already mentioned about it in earlier part of the discussion lokk up the only polish people who came to the silesian town i find reference to is by the way on the current polish kluczbork site which tells us that protestant polish people took refuge there in the s we all know that the counter reformation and the jesuits convinced the silesians and others to re catholizise perhaps that is where johann dzierzon had gotten his surname from you like to forgot that orginal population of silesia was polish people look for recoveret teritories article the orginal polish language survived for hundred od years it is not exceptional facts you can found such event on lithuania and others countries where the native language was not changed in vilages as you can imagine because the schools were fewer i have not seen any self description of him by himself as a pole i am not surprised of it german do not publicized such thinks you need read polish you have editions by polish authors in english you can find them in literature sections also you disbelieve recent polish authors but you believe on nsdap propagandists karl fleischer his editions are years old i ask many times for recent german beekeeping historians who says jan dzierzon was german the wikipedia polish group lead by a serafin who is also nr are the only ones with a note from a book which is added to the incorrectly named jan dzierzon wikipedia article the correct name of jan dzierzon is dzier on the z is with dot above dzier y means to keep in polish language what do you mean a note from all polish beekeeping historians says dzierzon was polish you just disregard parts which are inconvenient this not only claims that he said that but insisting on that he actually did say that where is the actual proof in kluczbork museum there is many more interesting thinks about the polish dzierzon family and their testimonies i will encourage you to find proof of yours statement jd was german nobody yet give me one except the nsdap propagandists karl fleischer scribbles autobiography do not say anything of such we already know it is not that quote supposedly from him identifying himself as a polish person actually just says that his surname is a polish based surname the citation say regarding my nationality i am obviously just as my name says polish of birth since on silesia people speak polish in polish version is samo moje nazwisko m wi em polak z urodzenia which is just my name says i am pole of birth further the sentence says because from birthday i found myself in breslau and i studied there i become german educated but the education does not accept borders or nationality i did not include the other part before as i avoided irritating germans chauvinists now you have it original polish text co do mojej narodowo ci jestem oczywi cie jak ju samo nazwisko moje m wi polakiem z urodzenia gdy na l sku m wi si po polsku a e od roku ycia znalaz em si we wroc awiu i tam studiowa em sta em si niemcem z wykszta cenia ale nauka nie uznaje granic ani narodowo ci original in museum of j dzier ona in kluczborku sygn folge zur charakteristik dr j dzierzon are you really assume that prussia was an asylum of tolerance and love if so you would be surprise dzierzon did not have a reason to love prussia now on'\n",
      " b'welcome hello and welcome to wikipedia thank you for your contributions i hope you like the place and decide to stay here are some pages that you might find helpful the five pillars of wikipedia how to edit a page help pages tutorial how to write a great article manual of style i hope you enjoy editing here and being a wikipedian please sign your name on talk pages using four tildes this will automatically produce your name and the date if you need help check out wikipedia questions ask me on my talk page or place helpme on your talk page and someone will show up shortly to answer your questions again welcome article additions thank you for your help in creating new wikipedia articles such as about various types of cheeses please do ensure however that any information that you add is properly sourced so that it meets with the policy at wikipedia verifiability thanks'\n",
      " b'improving the article ah wikipedia paradise for people with a certain special psychology i d love to know why a bow and arrow is better than a hunting bow in the story bond says put away your bow and arrow robina native speakers of english will know he s using childish language as a joke iow bow and arrow is not suitable for an encyclopedia there are other changes i d like to make to improve the article but if they re going to be reverted again there seems little point']\n",
      "-------------------------------------------------------------------------------------------------------------------------------\n",
      "===============================================================================================================================\n",
      "\n",
      "label               : [0 0 0 0 1 0 0 0]\n"
     ]
    }
   ],
   "source": [
    "for batch, label in toxic_comments_csv_ds_test.take(1):\n",
    "    for key, value in batch.items():\n",
    "        print(f\"{key:20s}: {value}\")\n",
    "        print('-'*127)\n",
    "    print('='*127)\n",
    "    print('')\n",
    "    print(f\"{'label':20s}: {label}\")"
   ]
  },
  {
   "cell_type": "markdown",
   "id": "125d80bc",
   "metadata": {},
   "source": [
    "## Загрузка моделей с TensorFlow HUB"
   ]
  },
  {
   "cell_type": "code",
   "execution_count": 176,
   "id": "a5927d84",
   "metadata": {},
   "outputs": [
    {
     "name": "stdout",
     "output_type": "stream",
     "text": [
      "BERT model selected           : https://tfhub.dev/tensorflow/small_bert/bert_en_uncased_L-4_H-512_A-8/1\n",
      "Preprocess model auto-selected: https://tfhub.dev/tensorflow/bert_en_uncased_preprocess/3\n"
     ]
    }
   ],
   "source": [
    "#@title Choose a BERT model to fine-tune\n",
    "\n",
    "bert_model_name = 'small_bert/bert_en_uncased_L-4_H-512_A-8'  #@param [\"bert_en_uncased_L-12_H-768_A-12\", \"bert_en_cased_L-12_H-768_A-12\", \"bert_multi_cased_L-12_H-768_A-12\", \"small_bert/bert_en_uncased_L-2_H-128_A-2\", \"small_bert/bert_en_uncased_L-2_H-256_A-4\", \"small_bert/bert_en_uncased_L-2_H-512_A-8\", \"small_bert/bert_en_uncased_L-2_H-768_A-12\", \"small_bert/bert_en_uncased_L-4_H-128_A-2\", \"small_bert/bert_en_uncased_L-4_H-256_A-4\", \"small_bert/bert_en_uncased_L-4_H-512_A-8\", \"small_bert/bert_en_uncased_L-4_H-768_A-12\", \"small_bert/bert_en_uncased_L-6_H-128_A-2\", \"small_bert/bert_en_uncased_L-6_H-256_A-4\", \"small_bert/bert_en_uncased_L-6_H-512_A-8\", \"small_bert/bert_en_uncased_L-6_H-768_A-12\", \"small_bert/bert_en_uncased_L-8_H-128_A-2\", \"small_bert/bert_en_uncased_L-8_H-256_A-4\", \"small_bert/bert_en_uncased_L-8_H-512_A-8\", \"small_bert/bert_en_uncased_L-8_H-768_A-12\", \"small_bert/bert_en_uncased_L-10_H-128_A-2\", \"small_bert/bert_en_uncased_L-10_H-256_A-4\", \"small_bert/bert_en_uncased_L-10_H-512_A-8\", \"small_bert/bert_en_uncased_L-10_H-768_A-12\", \"small_bert/bert_en_uncased_L-12_H-128_A-2\", \"small_bert/bert_en_uncased_L-12_H-256_A-4\", \"small_bert/bert_en_uncased_L-12_H-512_A-8\", \"small_bert/bert_en_uncased_L-12_H-768_A-12\", \"albert_en_base\", \"electra_small\", \"electra_base\", \"experts_pubmed\", \"experts_wiki_books\", \"talking-heads_base\"]\n",
    "\n",
    "map_name_to_handle = {\n",
    "    'bert_en_uncased_L-12_H-768_A-12':\n",
    "        'https://tfhub.dev/tensorflow/bert_en_uncased_L-12_H-768_A-12/3',\n",
    "    'bert_en_cased_L-12_H-768_A-12':\n",
    "        'https://tfhub.dev/tensorflow/bert_en_cased_L-12_H-768_A-12/3',\n",
    "    'bert_multi_cased_L-12_H-768_A-12':\n",
    "        'https://tfhub.dev/tensorflow/bert_multi_cased_L-12_H-768_A-12/3',\n",
    "    'small_bert/bert_en_uncased_L-2_H-128_A-2':\n",
    "        'https://tfhub.dev/tensorflow/small_bert/bert_en_uncased_L-2_H-128_A-2/1',\n",
    "    'small_bert/bert_en_uncased_L-2_H-256_A-4':\n",
    "        'https://tfhub.dev/tensorflow/small_bert/bert_en_uncased_L-2_H-256_A-4/1',\n",
    "    'small_bert/bert_en_uncased_L-2_H-512_A-8':\n",
    "        'https://tfhub.dev/tensorflow/small_bert/bert_en_uncased_L-2_H-512_A-8/1',\n",
    "    'small_bert/bert_en_uncased_L-2_H-768_A-12':\n",
    "        'https://tfhub.dev/tensorflow/small_bert/bert_en_uncased_L-2_H-768_A-12/1',\n",
    "    'small_bert/bert_en_uncased_L-4_H-128_A-2':\n",
    "        'https://tfhub.dev/tensorflow/small_bert/bert_en_uncased_L-4_H-128_A-2/1',\n",
    "    'small_bert/bert_en_uncased_L-4_H-256_A-4':\n",
    "        'https://tfhub.dev/tensorflow/small_bert/bert_en_uncased_L-4_H-256_A-4/1',\n",
    "    'small_bert/bert_en_uncased_L-4_H-512_A-8':\n",
    "        'https://tfhub.dev/tensorflow/small_bert/bert_en_uncased_L-4_H-512_A-8/1',\n",
    "    'small_bert/bert_en_uncased_L-4_H-768_A-12':\n",
    "        'https://tfhub.dev/tensorflow/small_bert/bert_en_uncased_L-4_H-768_A-12/1',\n",
    "    'small_bert/bert_en_uncased_L-6_H-128_A-2':\n",
    "        'https://tfhub.dev/tensorflow/small_bert/bert_en_uncased_L-6_H-128_A-2/1',\n",
    "    'small_bert/bert_en_uncased_L-6_H-256_A-4':\n",
    "        'https://tfhub.dev/tensorflow/small_bert/bert_en_uncased_L-6_H-256_A-4/1',\n",
    "    'small_bert/bert_en_uncased_L-6_H-512_A-8':\n",
    "        'https://tfhub.dev/tensorflow/small_bert/bert_en_uncased_L-6_H-512_A-8/1',\n",
    "    'small_bert/bert_en_uncased_L-6_H-768_A-12':\n",
    "        'https://tfhub.dev/tensorflow/small_bert/bert_en_uncased_L-6_H-768_A-12/1',\n",
    "    'small_bert/bert_en_uncased_L-8_H-128_A-2':\n",
    "        'https://tfhub.dev/tensorflow/small_bert/bert_en_uncased_L-8_H-128_A-2/1',\n",
    "    'small_bert/bert_en_uncased_L-8_H-256_A-4':\n",
    "        'https://tfhub.dev/tensorflow/small_bert/bert_en_uncased_L-8_H-256_A-4/1',\n",
    "    'small_bert/bert_en_uncased_L-8_H-512_A-8':\n",
    "        'https://tfhub.dev/tensorflow/small_bert/bert_en_uncased_L-8_H-512_A-8/1',\n",
    "    'small_bert/bert_en_uncased_L-8_H-768_A-12':\n",
    "        'https://tfhub.dev/tensorflow/small_bert/bert_en_uncased_L-8_H-768_A-12/1',\n",
    "    'small_bert/bert_en_uncased_L-10_H-128_A-2':\n",
    "        'https://tfhub.dev/tensorflow/small_bert/bert_en_uncased_L-10_H-128_A-2/1',\n",
    "    'small_bert/bert_en_uncased_L-10_H-256_A-4':\n",
    "        'https://tfhub.dev/tensorflow/small_bert/bert_en_uncased_L-10_H-256_A-4/1',\n",
    "    'small_bert/bert_en_uncased_L-10_H-512_A-8':\n",
    "        'https://tfhub.dev/tensorflow/small_bert/bert_en_uncased_L-10_H-512_A-8/1',\n",
    "    'small_bert/bert_en_uncased_L-10_H-768_A-12':\n",
    "        'https://tfhub.dev/tensorflow/small_bert/bert_en_uncased_L-10_H-768_A-12/1',\n",
    "    'small_bert/bert_en_uncased_L-12_H-128_A-2':\n",
    "        'https://tfhub.dev/tensorflow/small_bert/bert_en_uncased_L-12_H-128_A-2/1',\n",
    "    'small_bert/bert_en_uncased_L-12_H-256_A-4':\n",
    "        'https://tfhub.dev/tensorflow/small_bert/bert_en_uncased_L-12_H-256_A-4/1',\n",
    "    'small_bert/bert_en_uncased_L-12_H-512_A-8':\n",
    "        'https://tfhub.dev/tensorflow/small_bert/bert_en_uncased_L-12_H-512_A-8/1',\n",
    "    'small_bert/bert_en_uncased_L-12_H-768_A-12':\n",
    "        'https://tfhub.dev/tensorflow/small_bert/bert_en_uncased_L-12_H-768_A-12/1',\n",
    "    'albert_en_base':\n",
    "        'https://tfhub.dev/tensorflow/albert_en_base/2',\n",
    "    'electra_small':\n",
    "        'https://tfhub.dev/google/electra_small/2',\n",
    "    'electra_base':\n",
    "        'https://tfhub.dev/google/electra_base/2',\n",
    "    'experts_pubmed':\n",
    "        'https://tfhub.dev/google/experts/bert/pubmed/2',\n",
    "    'experts_wiki_books':\n",
    "        'https://tfhub.dev/google/experts/bert/wiki_books/2',\n",
    "    'talking-heads_base':\n",
    "        'https://tfhub.dev/tensorflow/talkheads_ggelu_bert_en_base/1',\n",
    "}\n",
    "\n",
    "map_model_to_preprocess = {\n",
    "    'bert_en_uncased_L-12_H-768_A-12':\n",
    "        'https://tfhub.dev/tensorflow/bert_en_uncased_preprocess/3',\n",
    "    'bert_en_cased_L-12_H-768_A-12':\n",
    "        'https://tfhub.dev/tensorflow/bert_en_cased_preprocess/3',\n",
    "    'small_bert/bert_en_uncased_L-2_H-128_A-2':\n",
    "        'https://tfhub.dev/tensorflow/bert_en_uncased_preprocess/3',\n",
    "    'small_bert/bert_en_uncased_L-2_H-256_A-4':\n",
    "        'https://tfhub.dev/tensorflow/bert_en_uncased_preprocess/3',\n",
    "    'small_bert/bert_en_uncased_L-2_H-512_A-8':\n",
    "        'https://tfhub.dev/tensorflow/bert_en_uncased_preprocess/3',\n",
    "    'small_bert/bert_en_uncased_L-2_H-768_A-12':\n",
    "        'https://tfhub.dev/tensorflow/bert_en_uncased_preprocess/3',\n",
    "    'small_bert/bert_en_uncased_L-4_H-128_A-2':\n",
    "        'https://tfhub.dev/tensorflow/bert_en_uncased_preprocess/3',\n",
    "    'small_bert/bert_en_uncased_L-4_H-256_A-4':\n",
    "        'https://tfhub.dev/tensorflow/bert_en_uncased_preprocess/3',\n",
    "    'small_bert/bert_en_uncased_L-4_H-512_A-8':\n",
    "        'https://tfhub.dev/tensorflow/bert_en_uncased_preprocess/3',\n",
    "    'small_bert/bert_en_uncased_L-4_H-768_A-12':\n",
    "        'https://tfhub.dev/tensorflow/bert_en_uncased_preprocess/3',\n",
    "    'small_bert/bert_en_uncased_L-6_H-128_A-2':\n",
    "        'https://tfhub.dev/tensorflow/bert_en_uncased_preprocess/3',\n",
    "    'small_bert/bert_en_uncased_L-6_H-256_A-4':\n",
    "        'https://tfhub.dev/tensorflow/bert_en_uncased_preprocess/3',\n",
    "    'small_bert/bert_en_uncased_L-6_H-512_A-8':\n",
    "        'https://tfhub.dev/tensorflow/bert_en_uncased_preprocess/3',\n",
    "    'small_bert/bert_en_uncased_L-6_H-768_A-12':\n",
    "        'https://tfhub.dev/tensorflow/bert_en_uncased_preprocess/3',\n",
    "    'small_bert/bert_en_uncased_L-8_H-128_A-2':\n",
    "        'https://tfhub.dev/tensorflow/bert_en_uncased_preprocess/3',\n",
    "    'small_bert/bert_en_uncased_L-8_H-256_A-4':\n",
    "        'https://tfhub.dev/tensorflow/bert_en_uncased_preprocess/3',\n",
    "    'small_bert/bert_en_uncased_L-8_H-512_A-8':\n",
    "        'https://tfhub.dev/tensorflow/bert_en_uncased_preprocess/3',\n",
    "    'small_bert/bert_en_uncased_L-8_H-768_A-12':\n",
    "        'https://tfhub.dev/tensorflow/bert_en_uncased_preprocess/3',\n",
    "    'small_bert/bert_en_uncased_L-10_H-128_A-2':\n",
    "        'https://tfhub.dev/tensorflow/bert_en_uncased_preprocess/3',\n",
    "    'small_bert/bert_en_uncased_L-10_H-256_A-4':\n",
    "        'https://tfhub.dev/tensorflow/bert_en_uncased_preprocess/3',\n",
    "    'small_bert/bert_en_uncased_L-10_H-512_A-8':\n",
    "        'https://tfhub.dev/tensorflow/bert_en_uncased_preprocess/3',\n",
    "    'small_bert/bert_en_uncased_L-10_H-768_A-12':\n",
    "        'https://tfhub.dev/tensorflow/bert_en_uncased_preprocess/3',\n",
    "    'small_bert/bert_en_uncased_L-12_H-128_A-2':\n",
    "        'https://tfhub.dev/tensorflow/bert_en_uncased_preprocess/3',\n",
    "    'small_bert/bert_en_uncased_L-12_H-256_A-4':\n",
    "        'https://tfhub.dev/tensorflow/bert_en_uncased_preprocess/3',\n",
    "    'small_bert/bert_en_uncased_L-12_H-512_A-8':\n",
    "        'https://tfhub.dev/tensorflow/bert_en_uncased_preprocess/3',\n",
    "    'small_bert/bert_en_uncased_L-12_H-768_A-12':\n",
    "        'https://tfhub.dev/tensorflow/bert_en_uncased_preprocess/3',\n",
    "    'bert_multi_cased_L-12_H-768_A-12':\n",
    "        'https://tfhub.dev/tensorflow/bert_multi_cased_preprocess/3',\n",
    "    'albert_en_base':\n",
    "        'https://tfhub.dev/tensorflow/albert_en_preprocess/3',\n",
    "    'electra_small':\n",
    "        'https://tfhub.dev/tensorflow/bert_en_uncased_preprocess/3',\n",
    "    'electra_base':\n",
    "        'https://tfhub.dev/tensorflow/bert_en_uncased_preprocess/3',\n",
    "    'experts_pubmed':\n",
    "        'https://tfhub.dev/tensorflow/bert_en_uncased_preprocess/3',\n",
    "    'experts_wiki_books':\n",
    "        'https://tfhub.dev/tensorflow/bert_en_uncased_preprocess/3',\n",
    "    'talking-heads_base':\n",
    "        'https://tfhub.dev/tensorflow/bert_en_uncased_preprocess/3',\n",
    "}\n",
    "\n",
    "tfhub_handle_encoder = map_name_to_handle[bert_model_name]\n",
    "tfhub_handle_preprocess = map_model_to_preprocess[bert_model_name]\n",
    "\n",
    "print(f'BERT model selected           : {tfhub_handle_encoder}')\n",
    "print(f'Preprocess model auto-selected: {tfhub_handle_preprocess}')"
   ]
  },
  {
   "cell_type": "markdown",
   "id": "d24a9399",
   "metadata": {},
   "source": [
    "## Модель предварительной обработки"
   ]
  },
  {
   "cell_type": "code",
   "execution_count": 177,
   "id": "1e7d636e",
   "metadata": {},
   "outputs": [],
   "source": [
    "bert_preprocess_model = hub.KerasLayer(tfhub_handle_preprocess)"
   ]
  },
  {
   "cell_type": "code",
   "execution_count": 178,
   "id": "4cb52c7d",
   "metadata": {},
   "outputs": [
    {
     "data": {
      "text/plain": [
       "'that makes no sense you don t play maplestory through internet explorer sure the website can only be accessible through ie well you can access it through firefox as well if you know what to do but it s not really part of the game'"
      ]
     },
     "execution_count": 178,
     "metadata": {},
     "output_type": "execute_result"
    }
   ],
   "source": [
    "corpus_train[0]"
   ]
  },
  {
   "cell_type": "code",
   "execution_count": 179,
   "id": "cbf4b770",
   "metadata": {},
   "outputs": [
    {
     "name": "stdout",
     "output_type": "stream",
     "text": [
      "Keys       : ['input_mask', 'input_word_ids', 'input_type_ids']\n",
      "Shape      : (229, 128)\n",
      "Word Ids   : [ 101 1056  102    0    0    0    0    0    0    0    0    0]\n",
      "Input Mask : [1 1 1 0 0 0 0 0 0 0 0 0]\n",
      "Type Ids   : [0 0 0 0 0 0 0 0 0 0 0 0]\n"
     ]
    }
   ],
   "source": [
    "text_test = list(corpus_train[0])\n",
    "text_preprocessed = bert_preprocess_model(text_test)\n",
    "\n",
    "print(f'Keys       : {list(text_preprocessed.keys())}')\n",
    "print(f'Shape      : {text_preprocessed[\"input_word_ids\"].shape}')\n",
    "print(f'Word Ids   : {text_preprocessed[\"input_word_ids\"][0, :12]}')\n",
    "print(f'Input Mask : {text_preprocessed[\"input_mask\"][0, :12]}')\n",
    "print(f'Type Ids   : {text_preprocessed[\"input_type_ids\"][0, :12]}')"
   ]
  },
  {
   "cell_type": "markdown",
   "id": "aede893e",
   "metadata": {},
   "source": [
    "### Возвращаемые значения"
   ]
  },
  {
   "cell_type": "markdown",
   "id": "f46516fc",
   "metadata": {},
   "source": [
    "Прежде чем внедрять BERT в вашу собственную модель, нужно сначала взглянуть на ее выходные данные. \n",
    "\n",
    "Мы загрузили его из TF Hub, и теперь увидим возвращаемые значения."
   ]
  },
  {
   "cell_type": "code",
   "execution_count": 180,
   "id": "4a9283a1",
   "metadata": {},
   "outputs": [],
   "source": [
    "bert_model = hub.KerasLayer(tfhub_handle_encoder)"
   ]
  },
  {
   "cell_type": "code",
   "execution_count": 181,
   "id": "dafd493e",
   "metadata": {},
   "outputs": [
    {
     "name": "stdout",
     "output_type": "stream",
     "text": [
      "Loaded BERT: https://tfhub.dev/tensorflow/small_bert/bert_en_uncased_L-4_H-512_A-8/1\n",
      "Pooled Outputs Shape:(229, 512)\n",
      "Pooled Outputs Values:[ 0.9372528  -0.48841867  0.15366454  0.3744764   0.01855726  0.97474694\n",
      "  0.98007035 -0.9935791  -0.422818   -0.9979263   0.44766748 -0.98800457]\n",
      "Sequence Outputs Shape:(229, 128, 512)\n",
      "Sequence Outputs Values:[[ 0.03561312 -0.42401344  0.79552925 ... -1.133788    1.9311409\n",
      "  -0.25844187]\n",
      " [ 0.7938659   0.5830988  -0.09972386 ... -0.7354293   0.7832767\n",
      "  -0.36824226]\n",
      " [ 0.52605206 -0.6473223   1.1456184  ... -0.80984604  0.9359721\n",
      "  -0.99662197]\n",
      " ...\n",
      " [ 0.48599187  0.11517897 -0.09321626 ... -0.42043006  0.9992929\n",
      "  -0.40142635]\n",
      " [ 0.6051499   0.3444882   0.01851042 ... -0.47891504  1.400371\n",
      "  -0.38410303]\n",
      " [ 0.5932477   0.37711003  0.12148222 ... -0.47103524  1.4893231\n",
      "  -0.27505147]]\n"
     ]
    }
   ],
   "source": [
    "bert_results = bert_model(text_preprocessed)\n",
    "\n",
    "print(f'Loaded BERT: {tfhub_handle_encoder}')\n",
    "print(f'Pooled Outputs Shape:{bert_results[\"pooled_output\"].shape}')\n",
    "print(f'Pooled Outputs Values:{bert_results[\"pooled_output\"][0, :12]}')\n",
    "print(f'Sequence Outputs Shape:{bert_results[\"sequence_output\"].shape}')\n",
    "print(f'Sequence Outputs Values:{bert_results[\"sequence_output\"][0, :12]}')"
   ]
  },
  {
   "cell_type": "markdown",
   "id": "aebb57e9",
   "metadata": {},
   "source": [
    "**ЛУЧШИЕ модели** возвращают карту с 3 важными ключами: `pooled_output`, `sequence_output`, `encoder_outputs`:\n",
    "\n",
    "`pooled_output` представляет каждую входную последовательность в целом. Форма - `[batch_size, H]`. Мы можем рассматривать это как встраивание для всего обзора фильма.\n",
    "\n",
    "`sequence_output` представляет каждый входной токен в контексте. Форма имеет вид `[batch_size, seq_length, H]`. Мы можем думать об этом как о контекстуальном встраивании для каждого токена в обзоре фильма.\n",
    "\n",
    "`encoder_outputs` - это промежуточные активации блоков `L`-трансформатора. выходные данные `[\"encoder_outputs\"][i]` - это тензор формы `[batch_size, seq_length, 1024]` с выходами i-го блока преобразования, для `0 <= i < L`. Последнее значение списка равно `sequence_output`.\n",
    "\n",
    "Для точной настройки мы используем массив `pooled_output`."
   ]
  },
  {
   "cell_type": "markdown",
   "id": "3c256ab6",
   "metadata": {},
   "source": [
    "### Подбор моделей для машинного обучения"
   ]
  },
  {
   "cell_type": "markdown",
   "id": "023a0da3",
   "metadata": {},
   "source": [
    "Мы создадим очень простую точно настроенную модель с моделью предварительной обработки, выбранной **НАИЛУЧШЕЙ моделью**, одним плотным слоем и отсеивающимся слоем.\n",
    "\n",
    "_*Примечание:*_ \n",
    "для получения дополнительной информации о вводе и выводе базовой модели мы можем перейти по URL модели для получения документации. \n",
    "\n",
    "Конкретно здесь нам не нужно беспокоиться об этом, потому что модель предварительной обработки позаботится об этом за нас."
   ]
  },
  {
   "cell_type": "code",
   "execution_count": 182,
   "id": "0886629f",
   "metadata": {},
   "outputs": [],
   "source": [
    "def build_classifier_model():\n",
    "    text_input = tf.keras.layers.Input(shape=(), dtype=tf.string, name='text')\n",
    "    preprocessing_layer = hub.KerasLayer(tfhub_handle_preprocess, name='preprocessing')\n",
    "    encoder_inputs = preprocessing_layer(text_input)\n",
    "    encoder = hub.KerasLayer(tfhub_handle_encoder, trainable=True, name='BERT_encoder')\n",
    "    outputs = encoder(encoder_inputs)\n",
    "    net = outputs['pooled_output']\n",
    "    net = tf.keras.layers.Dropout(0.1)(net)\n",
    "    net = tf.keras.layers.Dense(1, activation=None, name='classifier')(net)\n",
    "    return tf.keras.Model(text_input, net)"
   ]
  },
  {
   "cell_type": "markdown",
   "id": "9e1b29a1",
   "metadata": {},
   "source": [
    "Проверим, что модель запускается с выводом модели предварительной обработки"
   ]
  },
  {
   "cell_type": "code",
   "execution_count": 183,
   "id": "7b6c0b6e",
   "metadata": {},
   "outputs": [
    {
     "name": "stdout",
     "output_type": "stream",
     "text": [
      "tf.Tensor(\n",
      "[[0.51055664]\n",
      " [0.44042966]\n",
      " [0.6697088 ]\n",
      " [0.51055664]\n",
      " [0.55496466]\n",
      " [0.50135094]\n",
      " [0.6697088 ]\n",
      " [0.567844  ]\n",
      " [0.4747737 ]\n",
      " [0.56392825]\n",
      " [0.55496466]\n",
      " [0.52961594]\n",
      " [0.47784722]\n",
      " [0.55496466]\n",
      " [0.56392825]\n",
      " [0.4747737 ]\n",
      " [0.52961594]\n",
      " [0.56392825]\n",
      " [0.4747737 ]\n",
      " [0.55496466]\n",
      " [0.68653953]\n",
      " [0.47784722]\n",
      " [0.527665  ]\n",
      " [0.55496466]\n",
      " [0.5707952 ]\n",
      " [0.47784722]\n",
      " [0.52961594]\n",
      " [0.55496466]\n",
      " [0.51055664]\n",
      " [0.55496466]\n",
      " [0.6531035 ]\n",
      " [0.5386374 ]\n",
      " [0.6697088 ]\n",
      " [0.68653953]\n",
      " [0.55496466]\n",
      " [0.50135094]\n",
      " [0.6697088 ]\n",
      " [0.6531035 ]\n",
      " [0.5386374 ]\n",
      " [0.4747737 ]\n",
      " [0.56392825]\n",
      " [0.51055664]\n",
      " [0.47784722]\n",
      " [0.59376305]\n",
      " [0.68653953]\n",
      " [0.55496466]\n",
      " [0.51055664]\n",
      " [0.44042966]\n",
      " [0.59376305]\n",
      " [0.47784722]\n",
      " [0.527665  ]\n",
      " [0.4076183 ]\n",
      " [0.44042966]\n",
      " [0.55496466]\n",
      " [0.560336  ]\n",
      " [0.52961594]\n",
      " [0.51055664]\n",
      " [0.4747737 ]\n",
      " [0.59376305]\n",
      " [0.52961594]\n",
      " [0.4747737 ]\n",
      " [0.51055664]\n",
      " [0.55496466]\n",
      " [0.4747737 ]\n",
      " [0.5517823 ]\n",
      " [0.6531035 ]\n",
      " [0.5386374 ]\n",
      " [0.47784722]\n",
      " [0.59376305]\n",
      " [0.4747737 ]\n",
      " [0.59376305]\n",
      " [0.55496466]\n",
      " [0.56392825]\n",
      " [0.527665  ]\n",
      " [0.59376305]\n",
      " [0.4747737 ]\n",
      " [0.55496466]\n",
      " [0.51055664]\n",
      " [0.44042966]\n",
      " [0.4747737 ]\n",
      " [0.55496466]\n",
      " [0.5603794 ]\n",
      " [0.4747737 ]\n",
      " [0.59485483]\n",
      " [0.56392825]\n",
      " [0.560336  ]\n",
      " [0.51055664]\n",
      " [0.4747737 ]\n",
      " [0.55496466]\n",
      " [0.61814755]\n",
      " [0.6697088 ]\n",
      " [0.52961594]\n",
      " [0.55496466]\n",
      " [0.47784722]\n",
      " [0.52961594]\n",
      " [0.5386374 ]\n",
      " [0.68653953]\n",
      " [0.55496466]\n",
      " [0.59485483]\n",
      " [0.4747737 ]\n",
      " [0.55496466]\n",
      " [0.6697088 ]\n",
      " [0.61814755]\n",
      " [0.61814755]\n",
      " [0.4747737 ]\n",
      " [0.56392825]\n",
      " [0.56392825]\n",
      " [0.560336  ]\n",
      " [0.59485483]\n",
      " [0.5386374 ]\n",
      " [0.4747737 ]\n",
      " [0.55496466]\n",
      " [0.51055664]\n",
      " [0.44042966]\n",
      " [0.59376305]\n",
      " [0.47784722]\n",
      " [0.527665  ]\n",
      " [0.4076183 ]\n",
      " [0.44042966]\n",
      " [0.55496466]\n",
      " [0.560336  ]\n",
      " [0.4747737 ]\n",
      " [0.55496466]\n",
      " [0.5603794 ]\n",
      " [0.4747737 ]\n",
      " [0.5386374 ]\n",
      " [0.5386374 ]\n",
      " [0.55496466]\n",
      " [0.68653953]\n",
      " [0.47784722]\n",
      " [0.527665  ]\n",
      " [0.55496466]\n",
      " [0.61814755]\n",
      " [0.6697088 ]\n",
      " [0.52961594]\n",
      " [0.55496466]\n",
      " [0.6697088 ]\n",
      " [0.61814755]\n",
      " [0.61814755]\n",
      " [0.4747737 ]\n",
      " [0.56392825]\n",
      " [0.56392825]\n",
      " [0.55496466]\n",
      " [0.560336  ]\n",
      " [0.51055664]\n",
      " [0.55496466]\n",
      " [0.51055664]\n",
      " [0.44042966]\n",
      " [0.59376305]\n",
      " [0.47784722]\n",
      " [0.527665  ]\n",
      " [0.4076183 ]\n",
      " [0.44042966]\n",
      " [0.55496466]\n",
      " [0.55563074]\n",
      " [0.560336  ]\n",
      " [0.59376305]\n",
      " [0.4747737 ]\n",
      " [0.55563074]\n",
      " [0.47784722]\n",
      " [0.5517823 ]\n",
      " [0.55496466]\n",
      " [0.6697088 ]\n",
      " [0.56392825]\n",
      " [0.55496466]\n",
      " [0.5603794 ]\n",
      " [0.4747737 ]\n",
      " [0.5386374 ]\n",
      " [0.5386374 ]\n",
      " [0.55496466]\n",
      " [0.560336  ]\n",
      " [0.55563074]\n",
      " [0.55496466]\n",
      " [0.68653953]\n",
      " [0.47784722]\n",
      " [0.527665  ]\n",
      " [0.55496466]\n",
      " [0.567844  ]\n",
      " [0.52961594]\n",
      " [0.47784722]\n",
      " [0.5603794 ]\n",
      " [0.55496466]\n",
      " [0.5603794 ]\n",
      " [0.44042966]\n",
      " [0.6697088 ]\n",
      " [0.51055664]\n",
      " [0.55496466]\n",
      " [0.51055664]\n",
      " [0.47784722]\n",
      " [0.55496466]\n",
      " [0.5707952 ]\n",
      " [0.47784722]\n",
      " [0.55496466]\n",
      " [0.59485483]\n",
      " [0.527665  ]\n",
      " [0.51055664]\n",
      " [0.55496466]\n",
      " [0.560336  ]\n",
      " [0.51055664]\n",
      " [0.55496466]\n",
      " [0.56392825]\n",
      " [0.55496466]\n",
      " [0.52961594]\n",
      " [0.47784722]\n",
      " [0.51055664]\n",
      " [0.55496466]\n",
      " [0.59376305]\n",
      " [0.4747737 ]\n",
      " [0.6697088 ]\n",
      " [0.5386374 ]\n",
      " [0.5386374 ]\n",
      " [0.68653953]\n",
      " [0.55496466]\n",
      " [0.6531035 ]\n",
      " [0.6697088 ]\n",
      " [0.59376305]\n",
      " [0.51055664]\n",
      " [0.55496466]\n",
      " [0.47784722]\n",
      " [0.55563074]\n",
      " [0.55496466]\n",
      " [0.51055664]\n",
      " [0.44042966]\n",
      " [0.4747737 ]\n",
      " [0.55496466]\n",
      " [0.4076183 ]\n",
      " [0.6697088 ]\n",
      " [0.50135094]\n",
      " [0.47477365]], shape=(229, 1), dtype=float32)\n"
     ]
    }
   ],
   "source": [
    "classifier_model = build_classifier_model()\n",
    "bert_raw_result = classifier_model(tf.constant(text_test))\n",
    "print(tf.sigmoid(bert_raw_result))"
   ]
  },
  {
   "cell_type": "markdown",
   "id": "8af961ce",
   "metadata": {},
   "source": [
    "Выходные данные бессмысленны, потому что модель еще не была обучена"
   ]
  },
  {
   "cell_type": "markdown",
   "id": "6b5e82c9",
   "metadata": {},
   "source": [
    "## Машинное обучение"
   ]
  },
  {
   "cell_type": "markdown",
   "id": "80e05c70",
   "metadata": {},
   "source": [
    "Теперь у нас есть все компоненты для обучения модели, включая модуль предварительной обработки, кодировщик BERT, данные и классификатор"
   ]
  },
  {
   "cell_type": "markdown",
   "id": "eff3e105",
   "metadata": {},
   "source": [
    "### Функция потерь\n",
    "\n",
    "Поскольку это задача двоичной классификации, и модель выдает вероятность (единичный уровень), вы будете использовать функцию потерь `losses.BinaryCrossentropy`.\n"
   ]
  },
  {
   "cell_type": "code",
   "execution_count": 184,
   "id": "acafdc82",
   "metadata": {},
   "outputs": [],
   "source": [
    "loss = tf.keras.losses.BinaryCrossentropy(from_logits=True)\n",
    "metrics = tf.metrics.BinaryAccuracy()"
   ]
  },
  {
   "cell_type": "markdown",
   "id": "c22e0779",
   "metadata": {},
   "source": [
    "### Оптимизация\n",
    "\n",
    "Для точной настройки воспользуемся тем же оптимизатором, с которым изначально обучался БЕРТ: \"Адаптивные моменты\" (Adam). Этот оптимизатор минимизирует потери при прогнозировании и выполняет регуляризацию путем уменьшения веса (без использования моментов), которая также известна как [AdamW](https://arxiv.org/abs/1711.05101 ).\n",
    "\n",
    "Для скорости обучения (`init_lr`) будем использовать тот же график, что и для предварительной тренировки BERT: линейное уменьшение условной начальной скорости обучения с префиксом линейной фазы разминки в течение первых 10% шагов обучения (`num_warmup_steps`). В соответствии с ЛУЧШЕЙ статьей, начальная скорость обучения меньше для точной настройки (лучше всего 5e-5, 3e-5, 2e-5)."
   ]
  },
  {
   "cell_type": "code",
   "execution_count": 185,
   "id": "04de29e0",
   "metadata": {},
   "outputs": [],
   "source": [
    "epochs = 2\n",
    "steps_per_epoch = tf.data.experimental.cardinality(toxic_comments_csv_ds_train).numpy()\n",
    "num_train_steps = steps_per_epoch * epochs\n",
    "num_warmup_steps = int(0.1*num_train_steps)\n",
    "\n",
    "init_lr = 3e-5\n",
    "optimizer = optimization.create_optimizer(\n",
    "    init_lr=init_lr, \n",
    "    num_train_steps=num_train_steps, \n",
    "    num_warmup_steps=num_warmup_steps, \n",
    "    optimizer_type='adamw'\n",
    ")"
   ]
  },
  {
   "cell_type": "markdown",
   "id": "3a3eea49",
   "metadata": {},
   "source": [
    "### Загружаем модель BERT и обучаем ее"
   ]
  },
  {
   "cell_type": "markdown",
   "id": "85f2b5f6",
   "metadata": {},
   "source": [
    "Используя `classifier_model`, который мы создали ранее, мы можете скомпилировать модель с потерями, метрикой и оптимизатором."
   ]
  },
  {
   "cell_type": "code",
   "execution_count": 186,
   "id": "e6e10bc8",
   "metadata": {},
   "outputs": [],
   "source": [
    "classifier_model.compile(optimizer=optimizer, loss=loss, metrics=metrics)"
   ]
  },
  {
   "cell_type": "markdown",
   "id": "fb3f9f03",
   "metadata": {},
   "source": [
    "Примечание: время обучения будет варьироваться в зависимости от сложности выбранной вами модели BERT."
   ]
  },
  {
   "cell_type": "code",
   "execution_count": 191,
   "id": "b2e81227",
   "metadata": {},
   "outputs": [],
   "source": [
    "from torch.utils.data import DataLoader"
   ]
  },
  {
   "cell_type": "code",
   "execution_count": 192,
   "id": "e8a4e54d",
   "metadata": {},
   "outputs": [],
   "source": [
    "batch_size = 32\n",
    "shuffle = True"
   ]
  },
  {
   "cell_type": "code",
   "execution_count": 206,
   "id": "7977930c",
   "metadata": {},
   "outputs": [
    {
     "name": "stdout",
     "output_type": "stream",
     "text": [
      "Training model with https://tfhub.dev/tensorflow/small_bert/bert_en_uncased_L-4_H-512_A-8/1\n",
      "Epoch 1/2\n",
      "      3/Unknown - 2s 801ms/step - loss: 0.5148 - binary_accuracy: 0.8333"
     ]
    },
    {
     "ename": "KeyboardInterrupt",
     "evalue": "",
     "output_type": "error",
     "traceback": [
      "\u001b[1;31m---------------------------------------------------------------------------\u001b[0m",
      "\u001b[1;31mKeyboardInterrupt\u001b[0m                         Traceback (most recent call last)",
      "Cell \u001b[1;32mIn[206], line 3\u001b[0m\n\u001b[0;32m      1\u001b[0m \u001b[38;5;28mprint\u001b[39m(\u001b[38;5;124mf\u001b[39m\u001b[38;5;124m'\u001b[39m\u001b[38;5;124mTraining model with \u001b[39m\u001b[38;5;132;01m{\u001b[39;00mtfhub_handle_encoder\u001b[38;5;132;01m}\u001b[39;00m\u001b[38;5;124m'\u001b[39m)\n\u001b[1;32m----> 3\u001b[0m history \u001b[38;5;241m=\u001b[39m \u001b[43mclassifier_model\u001b[49m\u001b[38;5;241;43m.\u001b[39;49m\u001b[43mfit\u001b[49m\u001b[43m(\u001b[49m\n\u001b[0;32m      4\u001b[0m \u001b[43m    \u001b[49m\u001b[38;5;66;43;03m# training_steps=toxic_comments_csv_ds_train.samples // toxic_comments_csv_ds_train.batch_size,\u001b[39;49;00m\n\u001b[0;32m      5\u001b[0m \u001b[43m    \u001b[49m\u001b[43mx\u001b[49m\u001b[38;5;241;43m=\u001b[39;49m\u001b[43mtoxic_comments_csv_ds\u001b[49m\u001b[43m,\u001b[49m\u001b[43m \u001b[49m\n\u001b[0;32m      6\u001b[0m \u001b[43m    \u001b[49m\u001b[43mvalidation_data\u001b[49m\u001b[38;5;241;43m=\u001b[39;49m\u001b[43mtoxic_comments_csv_ds_test\u001b[49m\u001b[43m,\u001b[49m\u001b[43m \u001b[49m\n\u001b[0;32m      7\u001b[0m \u001b[43m    \u001b[49m\u001b[43mepochs\u001b[49m\u001b[38;5;241;43m=\u001b[39;49m\u001b[43mepochs\u001b[49m\u001b[43m,\u001b[49m\n\u001b[0;32m      8\u001b[0m \u001b[43m    \u001b[49m\u001b[43mvalidation_steps\u001b[49m\u001b[38;5;241;43m=\u001b[39;49m\u001b[43m \u001b[49m\u001b[38;5;241;43m20\u001b[39;49m\u001b[43m \u001b[49m\u001b[38;5;241;43m/\u001b[39;49m\u001b[38;5;241;43m/\u001b[39;49m\u001b[43m \u001b[49m\u001b[38;5;241;43m2\u001b[39;49m\n\u001b[0;32m      9\u001b[0m \u001b[43m)\u001b[49m\n",
      "File \u001b[1;32m~\\AppData\\Roaming\\Python\\Python39\\site-packages\\keras\\utils\\traceback_utils.py:65\u001b[0m, in \u001b[0;36mfilter_traceback.<locals>.error_handler\u001b[1;34m(*args, **kwargs)\u001b[0m\n\u001b[0;32m     63\u001b[0m filtered_tb \u001b[38;5;241m=\u001b[39m \u001b[38;5;28;01mNone\u001b[39;00m\n\u001b[0;32m     64\u001b[0m \u001b[38;5;28;01mtry\u001b[39;00m:\n\u001b[1;32m---> 65\u001b[0m     \u001b[38;5;28;01mreturn\u001b[39;00m fn(\u001b[38;5;241m*\u001b[39margs, \u001b[38;5;241m*\u001b[39m\u001b[38;5;241m*\u001b[39mkwargs)\n\u001b[0;32m     66\u001b[0m \u001b[38;5;28;01mexcept\u001b[39;00m \u001b[38;5;167;01mException\u001b[39;00m \u001b[38;5;28;01mas\u001b[39;00m e:\n\u001b[0;32m     67\u001b[0m     filtered_tb \u001b[38;5;241m=\u001b[39m _process_traceback_frames(e\u001b[38;5;241m.\u001b[39m__traceback__)\n",
      "File \u001b[1;32m~\\AppData\\Roaming\\Python\\Python39\\site-packages\\keras\\engine\\training.py:1564\u001b[0m, in \u001b[0;36mModel.fit\u001b[1;34m(self, x, y, batch_size, epochs, verbose, callbacks, validation_split, validation_data, shuffle, class_weight, sample_weight, initial_epoch, steps_per_epoch, validation_steps, validation_batch_size, validation_freq, max_queue_size, workers, use_multiprocessing)\u001b[0m\n\u001b[0;32m   1556\u001b[0m \u001b[38;5;28;01mwith\u001b[39;00m tf\u001b[38;5;241m.\u001b[39mprofiler\u001b[38;5;241m.\u001b[39mexperimental\u001b[38;5;241m.\u001b[39mTrace(\n\u001b[0;32m   1557\u001b[0m     \u001b[38;5;124m\"\u001b[39m\u001b[38;5;124mtrain\u001b[39m\u001b[38;5;124m\"\u001b[39m,\n\u001b[0;32m   1558\u001b[0m     epoch_num\u001b[38;5;241m=\u001b[39mepoch,\n\u001b[1;32m   (...)\u001b[0m\n\u001b[0;32m   1561\u001b[0m     _r\u001b[38;5;241m=\u001b[39m\u001b[38;5;241m1\u001b[39m,\n\u001b[0;32m   1562\u001b[0m ):\n\u001b[0;32m   1563\u001b[0m     callbacks\u001b[38;5;241m.\u001b[39mon_train_batch_begin(step)\n\u001b[1;32m-> 1564\u001b[0m     tmp_logs \u001b[38;5;241m=\u001b[39m \u001b[38;5;28;43mself\u001b[39;49m\u001b[38;5;241;43m.\u001b[39;49m\u001b[43mtrain_function\u001b[49m\u001b[43m(\u001b[49m\u001b[43miterator\u001b[49m\u001b[43m)\u001b[49m\n\u001b[0;32m   1565\u001b[0m     \u001b[38;5;28;01mif\u001b[39;00m data_handler\u001b[38;5;241m.\u001b[39mshould_sync:\n\u001b[0;32m   1566\u001b[0m         context\u001b[38;5;241m.\u001b[39masync_wait()\n",
      "File \u001b[1;32m~\\AppData\\Roaming\\Python\\Python39\\site-packages\\tensorflow\\python\\util\\traceback_utils.py:150\u001b[0m, in \u001b[0;36mfilter_traceback.<locals>.error_handler\u001b[1;34m(*args, **kwargs)\u001b[0m\n\u001b[0;32m    148\u001b[0m filtered_tb \u001b[38;5;241m=\u001b[39m \u001b[38;5;28;01mNone\u001b[39;00m\n\u001b[0;32m    149\u001b[0m \u001b[38;5;28;01mtry\u001b[39;00m:\n\u001b[1;32m--> 150\u001b[0m   \u001b[38;5;28;01mreturn\u001b[39;00m fn(\u001b[38;5;241m*\u001b[39margs, \u001b[38;5;241m*\u001b[39m\u001b[38;5;241m*\u001b[39mkwargs)\n\u001b[0;32m    151\u001b[0m \u001b[38;5;28;01mexcept\u001b[39;00m \u001b[38;5;167;01mException\u001b[39;00m \u001b[38;5;28;01mas\u001b[39;00m e:\n\u001b[0;32m    152\u001b[0m   filtered_tb \u001b[38;5;241m=\u001b[39m _process_traceback_frames(e\u001b[38;5;241m.\u001b[39m__traceback__)\n",
      "File \u001b[1;32m~\\AppData\\Roaming\\Python\\Python39\\site-packages\\tensorflow\\python\\eager\\def_function.py:915\u001b[0m, in \u001b[0;36mFunction.__call__\u001b[1;34m(self, *args, **kwds)\u001b[0m\n\u001b[0;32m    912\u001b[0m compiler \u001b[38;5;241m=\u001b[39m \u001b[38;5;124m\"\u001b[39m\u001b[38;5;124mxla\u001b[39m\u001b[38;5;124m\"\u001b[39m \u001b[38;5;28;01mif\u001b[39;00m \u001b[38;5;28mself\u001b[39m\u001b[38;5;241m.\u001b[39m_jit_compile \u001b[38;5;28;01melse\u001b[39;00m \u001b[38;5;124m\"\u001b[39m\u001b[38;5;124mnonXla\u001b[39m\u001b[38;5;124m\"\u001b[39m\n\u001b[0;32m    914\u001b[0m \u001b[38;5;28;01mwith\u001b[39;00m OptionalXlaContext(\u001b[38;5;28mself\u001b[39m\u001b[38;5;241m.\u001b[39m_jit_compile):\n\u001b[1;32m--> 915\u001b[0m   result \u001b[38;5;241m=\u001b[39m \u001b[38;5;28mself\u001b[39m\u001b[38;5;241m.\u001b[39m_call(\u001b[38;5;241m*\u001b[39margs, \u001b[38;5;241m*\u001b[39m\u001b[38;5;241m*\u001b[39mkwds)\n\u001b[0;32m    917\u001b[0m new_tracing_count \u001b[38;5;241m=\u001b[39m \u001b[38;5;28mself\u001b[39m\u001b[38;5;241m.\u001b[39mexperimental_get_tracing_count()\n\u001b[0;32m    918\u001b[0m without_tracing \u001b[38;5;241m=\u001b[39m (tracing_count \u001b[38;5;241m==\u001b[39m new_tracing_count)\n",
      "File \u001b[1;32m~\\AppData\\Roaming\\Python\\Python39\\site-packages\\tensorflow\\python\\eager\\def_function.py:947\u001b[0m, in \u001b[0;36mFunction._call\u001b[1;34m(self, *args, **kwds)\u001b[0m\n\u001b[0;32m    944\u001b[0m   \u001b[38;5;28mself\u001b[39m\u001b[38;5;241m.\u001b[39m_lock\u001b[38;5;241m.\u001b[39mrelease()\n\u001b[0;32m    945\u001b[0m   \u001b[38;5;66;03m# In this case we have created variables on the first call, so we run the\u001b[39;00m\n\u001b[0;32m    946\u001b[0m   \u001b[38;5;66;03m# defunned version which is guaranteed to never create variables.\u001b[39;00m\n\u001b[1;32m--> 947\u001b[0m   \u001b[38;5;28;01mreturn\u001b[39;00m \u001b[38;5;28mself\u001b[39m\u001b[38;5;241m.\u001b[39m_stateless_fn(\u001b[38;5;241m*\u001b[39margs, \u001b[38;5;241m*\u001b[39m\u001b[38;5;241m*\u001b[39mkwds)  \u001b[38;5;66;03m# pylint: disable=not-callable\u001b[39;00m\n\u001b[0;32m    948\u001b[0m \u001b[38;5;28;01melif\u001b[39;00m \u001b[38;5;28mself\u001b[39m\u001b[38;5;241m.\u001b[39m_stateful_fn \u001b[38;5;129;01mis\u001b[39;00m \u001b[38;5;129;01mnot\u001b[39;00m \u001b[38;5;28;01mNone\u001b[39;00m:\n\u001b[0;32m    949\u001b[0m   \u001b[38;5;66;03m# Release the lock early so that multiple threads can perform the call\u001b[39;00m\n\u001b[0;32m    950\u001b[0m   \u001b[38;5;66;03m# in parallel.\u001b[39;00m\n\u001b[0;32m    951\u001b[0m   \u001b[38;5;28mself\u001b[39m\u001b[38;5;241m.\u001b[39m_lock\u001b[38;5;241m.\u001b[39mrelease()\n",
      "File \u001b[1;32m~\\AppData\\Roaming\\Python\\Python39\\site-packages\\tensorflow\\python\\eager\\function.py:2496\u001b[0m, in \u001b[0;36mFunction.__call__\u001b[1;34m(self, *args, **kwargs)\u001b[0m\n\u001b[0;32m   2493\u001b[0m \u001b[38;5;28;01mwith\u001b[39;00m \u001b[38;5;28mself\u001b[39m\u001b[38;5;241m.\u001b[39m_lock:\n\u001b[0;32m   2494\u001b[0m   (graph_function,\n\u001b[0;32m   2495\u001b[0m    filtered_flat_args) \u001b[38;5;241m=\u001b[39m \u001b[38;5;28mself\u001b[39m\u001b[38;5;241m.\u001b[39m_maybe_define_function(args, kwargs)\n\u001b[1;32m-> 2496\u001b[0m \u001b[38;5;28;01mreturn\u001b[39;00m \u001b[43mgraph_function\u001b[49m\u001b[38;5;241;43m.\u001b[39;49m\u001b[43m_call_flat\u001b[49m\u001b[43m(\u001b[49m\n\u001b[0;32m   2497\u001b[0m \u001b[43m    \u001b[49m\u001b[43mfiltered_flat_args\u001b[49m\u001b[43m,\u001b[49m\u001b[43m \u001b[49m\u001b[43mcaptured_inputs\u001b[49m\u001b[38;5;241;43m=\u001b[39;49m\u001b[43mgraph_function\u001b[49m\u001b[38;5;241;43m.\u001b[39;49m\u001b[43mcaptured_inputs\u001b[49m\u001b[43m)\u001b[49m\n",
      "File \u001b[1;32m~\\AppData\\Roaming\\Python\\Python39\\site-packages\\tensorflow\\python\\eager\\function.py:1862\u001b[0m, in \u001b[0;36mConcreteFunction._call_flat\u001b[1;34m(self, args, captured_inputs, cancellation_manager)\u001b[0m\n\u001b[0;32m   1858\u001b[0m possible_gradient_type \u001b[38;5;241m=\u001b[39m gradients_util\u001b[38;5;241m.\u001b[39mPossibleTapeGradientTypes(args)\n\u001b[0;32m   1859\u001b[0m \u001b[38;5;28;01mif\u001b[39;00m (possible_gradient_type \u001b[38;5;241m==\u001b[39m gradients_util\u001b[38;5;241m.\u001b[39mPOSSIBLE_GRADIENT_TYPES_NONE\n\u001b[0;32m   1860\u001b[0m     \u001b[38;5;129;01mand\u001b[39;00m executing_eagerly):\n\u001b[0;32m   1861\u001b[0m   \u001b[38;5;66;03m# No tape is watching; skip to running the function.\u001b[39;00m\n\u001b[1;32m-> 1862\u001b[0m   \u001b[38;5;28;01mreturn\u001b[39;00m \u001b[38;5;28mself\u001b[39m\u001b[38;5;241m.\u001b[39m_build_call_outputs(\u001b[38;5;28;43mself\u001b[39;49m\u001b[38;5;241;43m.\u001b[39;49m\u001b[43m_inference_function\u001b[49m\u001b[38;5;241;43m.\u001b[39;49m\u001b[43mcall\u001b[49m\u001b[43m(\u001b[49m\n\u001b[0;32m   1863\u001b[0m \u001b[43m      \u001b[49m\u001b[43mctx\u001b[49m\u001b[43m,\u001b[49m\u001b[43m \u001b[49m\u001b[43margs\u001b[49m\u001b[43m,\u001b[49m\u001b[43m \u001b[49m\u001b[43mcancellation_manager\u001b[49m\u001b[38;5;241;43m=\u001b[39;49m\u001b[43mcancellation_manager\u001b[49m\u001b[43m)\u001b[49m)\n\u001b[0;32m   1864\u001b[0m forward_backward \u001b[38;5;241m=\u001b[39m \u001b[38;5;28mself\u001b[39m\u001b[38;5;241m.\u001b[39m_select_forward_and_backward_functions(\n\u001b[0;32m   1865\u001b[0m     args,\n\u001b[0;32m   1866\u001b[0m     possible_gradient_type,\n\u001b[0;32m   1867\u001b[0m     executing_eagerly)\n\u001b[0;32m   1868\u001b[0m forward_function, args_with_tangents \u001b[38;5;241m=\u001b[39m forward_backward\u001b[38;5;241m.\u001b[39mforward()\n",
      "File \u001b[1;32m~\\AppData\\Roaming\\Python\\Python39\\site-packages\\tensorflow\\python\\eager\\function.py:499\u001b[0m, in \u001b[0;36m_EagerDefinedFunction.call\u001b[1;34m(self, ctx, args, cancellation_manager)\u001b[0m\n\u001b[0;32m    497\u001b[0m \u001b[38;5;28;01mwith\u001b[39;00m _InterpolateFunctionError(\u001b[38;5;28mself\u001b[39m):\n\u001b[0;32m    498\u001b[0m   \u001b[38;5;28;01mif\u001b[39;00m cancellation_manager \u001b[38;5;129;01mis\u001b[39;00m \u001b[38;5;28;01mNone\u001b[39;00m:\n\u001b[1;32m--> 499\u001b[0m     outputs \u001b[38;5;241m=\u001b[39m \u001b[43mexecute\u001b[49m\u001b[38;5;241;43m.\u001b[39;49m\u001b[43mexecute\u001b[49m\u001b[43m(\u001b[49m\n\u001b[0;32m    500\u001b[0m \u001b[43m        \u001b[49m\u001b[38;5;28;43mstr\u001b[39;49m\u001b[43m(\u001b[49m\u001b[38;5;28;43mself\u001b[39;49m\u001b[38;5;241;43m.\u001b[39;49m\u001b[43msignature\u001b[49m\u001b[38;5;241;43m.\u001b[39;49m\u001b[43mname\u001b[49m\u001b[43m)\u001b[49m\u001b[43m,\u001b[49m\n\u001b[0;32m    501\u001b[0m \u001b[43m        \u001b[49m\u001b[43mnum_outputs\u001b[49m\u001b[38;5;241;43m=\u001b[39;49m\u001b[38;5;28;43mself\u001b[39;49m\u001b[38;5;241;43m.\u001b[39;49m\u001b[43m_num_outputs\u001b[49m\u001b[43m,\u001b[49m\n\u001b[0;32m    502\u001b[0m \u001b[43m        \u001b[49m\u001b[43minputs\u001b[49m\u001b[38;5;241;43m=\u001b[39;49m\u001b[43margs\u001b[49m\u001b[43m,\u001b[49m\n\u001b[0;32m    503\u001b[0m \u001b[43m        \u001b[49m\u001b[43mattrs\u001b[49m\u001b[38;5;241;43m=\u001b[39;49m\u001b[43mattrs\u001b[49m\u001b[43m,\u001b[49m\n\u001b[0;32m    504\u001b[0m \u001b[43m        \u001b[49m\u001b[43mctx\u001b[49m\u001b[38;5;241;43m=\u001b[39;49m\u001b[43mctx\u001b[49m\u001b[43m)\u001b[49m\n\u001b[0;32m    505\u001b[0m   \u001b[38;5;28;01melse\u001b[39;00m:\n\u001b[0;32m    506\u001b[0m     outputs \u001b[38;5;241m=\u001b[39m execute\u001b[38;5;241m.\u001b[39mexecute_with_cancellation(\n\u001b[0;32m    507\u001b[0m         \u001b[38;5;28mstr\u001b[39m(\u001b[38;5;28mself\u001b[39m\u001b[38;5;241m.\u001b[39msignature\u001b[38;5;241m.\u001b[39mname),\n\u001b[0;32m    508\u001b[0m         num_outputs\u001b[38;5;241m=\u001b[39m\u001b[38;5;28mself\u001b[39m\u001b[38;5;241m.\u001b[39m_num_outputs,\n\u001b[1;32m   (...)\u001b[0m\n\u001b[0;32m    511\u001b[0m         ctx\u001b[38;5;241m=\u001b[39mctx,\n\u001b[0;32m    512\u001b[0m         cancellation_manager\u001b[38;5;241m=\u001b[39mcancellation_manager)\n",
      "File \u001b[1;32m~\\AppData\\Roaming\\Python\\Python39\\site-packages\\tensorflow\\python\\eager\\execute.py:54\u001b[0m, in \u001b[0;36mquick_execute\u001b[1;34m(op_name, num_outputs, inputs, attrs, ctx, name)\u001b[0m\n\u001b[0;32m     52\u001b[0m \u001b[38;5;28;01mtry\u001b[39;00m:\n\u001b[0;32m     53\u001b[0m   ctx\u001b[38;5;241m.\u001b[39mensure_initialized()\n\u001b[1;32m---> 54\u001b[0m   tensors \u001b[38;5;241m=\u001b[39m \u001b[43mpywrap_tfe\u001b[49m\u001b[38;5;241;43m.\u001b[39;49m\u001b[43mTFE_Py_Execute\u001b[49m\u001b[43m(\u001b[49m\u001b[43mctx\u001b[49m\u001b[38;5;241;43m.\u001b[39;49m\u001b[43m_handle\u001b[49m\u001b[43m,\u001b[49m\u001b[43m \u001b[49m\u001b[43mdevice_name\u001b[49m\u001b[43m,\u001b[49m\u001b[43m \u001b[49m\u001b[43mop_name\u001b[49m\u001b[43m,\u001b[49m\n\u001b[0;32m     55\u001b[0m \u001b[43m                                      \u001b[49m\u001b[43minputs\u001b[49m\u001b[43m,\u001b[49m\u001b[43m \u001b[49m\u001b[43mattrs\u001b[49m\u001b[43m,\u001b[49m\u001b[43m \u001b[49m\u001b[43mnum_outputs\u001b[49m\u001b[43m)\u001b[49m\n\u001b[0;32m     56\u001b[0m \u001b[38;5;28;01mexcept\u001b[39;00m core\u001b[38;5;241m.\u001b[39m_NotOkStatusException \u001b[38;5;28;01mas\u001b[39;00m e:\n\u001b[0;32m     57\u001b[0m   \u001b[38;5;28;01mif\u001b[39;00m name \u001b[38;5;129;01mis\u001b[39;00m \u001b[38;5;129;01mnot\u001b[39;00m \u001b[38;5;28;01mNone\u001b[39;00m:\n",
      "\u001b[1;31mKeyboardInterrupt\u001b[0m: "
     ]
    }
   ],
   "source": [
    "print(f'Training model with {tfhub_handle_encoder}')\n",
    "\n",
    "history = classifier_model.fit(\n",
    "    # training_steps=toxic_comments_csv_ds_train.samples // toxic_comments_csv_ds_train.batch_size,\n",
    "    x=toxic_comments_csv_ds, \n",
    "    validation_data=toxic_comments_csv_ds_test, \n",
    "    epochs=epochs,\n",
    "    validation_steps= 20 // 2\n",
    ")"
   ]
  },
  {
   "cell_type": "markdown",
   "id": "a43be519",
   "metadata": {},
   "source": [
    "<div class=\"alert alert-block alert-info\">\n",
    "\n",
    "Комментарий студента V1: У меня вопрос к ревью. Я сделал примерно то, что было по образцу с вебинара. Но здесь не указан конец шага, т.е. там вместо числа стоит `Unknown`. Получается, что здесь будет бесконечная итерация\n",
    "    \n",
    "</div>"
   ]
  },
  {
   "cell_type": "markdown",
   "id": "f0eef49b",
   "metadata": {},
   "source": [
    "<div class=\"alert alert-block alert-info\">\n",
    "\n",
    "<b>Совет: </b> https://datascience.stackexchange.com/questions/74168/epoch-1-5-wont-stop\n",
    "</div>\n",
    "\n",
    "<div class=\"alert alert-block alert-info\">\n",
    "\n",
    "<b>Совет: </b> Вообще говоря, лучше использовать torch. Он намного более популярен сейчас. Вот специализированный БЕРТ для него: https://huggingface.co/unitary/toxic-bert\n",
    "</div>"
   ]
  },
  {
   "cell_type": "markdown",
   "id": "e1d000ee",
   "metadata": {},
   "source": [
    "<div class=\"alert alert-block alert-warning\">\n",
    "<b>Комментарий студента V2:</b> К сожалению нет смысла применять torch, т.к. у меня не получается подключить к видеокарте\n",
    "</div>"
   ]
  },
  {
   "cell_type": "markdown",
   "id": "c98e4d40",
   "metadata": {},
   "source": [
    "<div class=\"alert alert-block alert-info\">\n",
    "<b>Совет (ревью 2): </b> Торч можно запускать и на CPU. Подключить GPU на сервере не получится, а локально это довольно сложная задача.\n",
    "</div>"
   ]
  },
  {
   "cell_type": "markdown",
   "id": "55f0915f",
   "metadata": {},
   "source": [
    "<div class=\"alert alert-block alert-warning\">\n",
    "<b>Комментарий студента V2:</b> \n",
    "\n",
    "Пробовал другой способ обучения через BERT, который ты прислал свыше, вначале, не получилось. Поискал в интернете, пока не нашел нормального источника информации о том, как правильно нужно обучать\n",
    "\n",
    "Какие ресурсы я смотрел:\n",
    "    https://colab.research.google.com/github/tensorflow/text/blob/master/docs/tutorials/classify_text_with_bert.ipynb#scrollTo=HtfDFAnN_Neu\n",
    "    https://www.tensorflow.org/text/tutorials/classify_text_with_bert?hl=ru\n",
    "    https://datascience.stackexchange.com/questions/74168/epoch-1-5-wont-stop\n",
    "    https://www.youtube.com/watch?v=aKLcvGdOP6g\n",
    "    https://medium.com/mlearning-ai/using-bert-with-pytorch-b9624edcda4e\n",
    "    https://pytorch.org/tutorials/intermediate/dynamic_quantization_bert_tutorial.html\n",
    "    https://neptune.ai/blog/how-to-code-bert-using-pytorch-tutorial\n",
    "    https://www.youtube.com/watch?v=7kLi8u2dJz0\n",
    "    https://pysnacks.com/machine-learning/bert-text-classification-with-fine-tuning/\n",
    "\n",
    "Все равно не получается\n",
    "</div>\n",
    "\n",
    "```\n",
    "%%time\n",
    "from tqdm import notebook\n",
    "batch_size = 2 # для примера возьмем такой батч, где будет всего две строки датасета\n",
    "embeddings = [] \n",
    "for i in notebook.tqdm(range(input_ids.shape[0] // batch_size)):\n",
    "        batch = torch.LongTensor(input_ids[batch_size*i:batch_size*(i+1)]).cuda() # закидываем тензор на GPU\n",
    "        attention_mask_batch = torch.LongTensor(attention_mask[batch_size*i:batch_size*(i+1)]).cuda()\n",
    "        \n",
    "        with torch.no_grad():\n",
    "            model.cuda()\n",
    "            batch_embeddings = model(batch, attention_mask=attention_mask_batch)\n",
    "        \n",
    "        embeddings.append(batch_embeddings[0][:,0,:].cpu().numpy()) # перевод обратно на проц, чтобы в нумпай кинуть\n",
    "        del batch\n",
    "        del attention_mask_batch\n",
    "        del batch_embeddings\n",
    "        \n",
    "features = np.concatenate(embeddings) \n",
    "```"
   ]
  },
  {
   "cell_type": "markdown",
   "id": "d5977e82",
   "metadata": {},
   "source": [
    "<div class=\"alert alert-block alert-info\">\n",
    "\n",
    "<b>Совет (ревью 2): </b> Вот тут есть множество примеров на гугл колабе. Там, кстати, можно запустить расчет на GPU: https://huggingface.co/transformers/v4.2.2/notebooks.html\n",
    "</div>"
   ]
  },
  {
   "cell_type": "markdown",
   "id": "8cbb3dc4",
   "metadata": {},
   "source": [
    "### Оценка моделей"
   ]
  },
  {
   "cell_type": "code",
   "execution_count": 455,
   "id": "b44c06fb",
   "metadata": {},
   "outputs": [
    {
     "name": "stdout",
     "output_type": "stream",
     "text": [
      "     54/Unknown - 40s 716ms/step - loss: -5944.1006 - binary_accuracy: 0.0000e+00"
     ]
    },
    {
     "ename": "KeyboardInterrupt",
     "evalue": "",
     "output_type": "error",
     "traceback": [
      "\u001b[1;31m---------------------------------------------------------------------------\u001b[0m",
      "\u001b[1;31mKeyboardInterrupt\u001b[0m                         Traceback (most recent call last)",
      "Cell \u001b[1;32mIn[455], line 1\u001b[0m\n\u001b[1;32m----> 1\u001b[0m loss, accuracy \u001b[38;5;241m=\u001b[39m \u001b[43mclassifier_model\u001b[49m\u001b[38;5;241;43m.\u001b[39;49m\u001b[43mevaluate\u001b[49m\u001b[43m(\u001b[49m\u001b[43mtoxic_comments_csv_ds_test\u001b[49m\u001b[43m)\u001b[49m\n\u001b[0;32m      3\u001b[0m \u001b[38;5;28mprint\u001b[39m(\u001b[38;5;124mf\u001b[39m\u001b[38;5;124m'\u001b[39m\u001b[38;5;124mLoss: \u001b[39m\u001b[38;5;132;01m{\u001b[39;00mloss\u001b[38;5;132;01m}\u001b[39;00m\u001b[38;5;124m'\u001b[39m)\n\u001b[0;32m      4\u001b[0m \u001b[38;5;28mprint\u001b[39m(\u001b[38;5;124mf\u001b[39m\u001b[38;5;124m'\u001b[39m\u001b[38;5;124mAccuracy: \u001b[39m\u001b[38;5;132;01m{\u001b[39;00maccuracy\u001b[38;5;132;01m}\u001b[39;00m\u001b[38;5;124m'\u001b[39m)\n",
      "File \u001b[1;32mD:\\Program File\\Anaconda\\envs\\practicum\\lib\\site-packages\\keras\\utils\\traceback_utils.py:65\u001b[0m, in \u001b[0;36mfilter_traceback.<locals>.error_handler\u001b[1;34m(*args, **kwargs)\u001b[0m\n\u001b[0;32m     63\u001b[0m filtered_tb \u001b[38;5;241m=\u001b[39m \u001b[38;5;28;01mNone\u001b[39;00m\n\u001b[0;32m     64\u001b[0m \u001b[38;5;28;01mtry\u001b[39;00m:\n\u001b[1;32m---> 65\u001b[0m     \u001b[38;5;28;01mreturn\u001b[39;00m fn(\u001b[38;5;241m*\u001b[39margs, \u001b[38;5;241m*\u001b[39m\u001b[38;5;241m*\u001b[39mkwargs)\n\u001b[0;32m     66\u001b[0m \u001b[38;5;28;01mexcept\u001b[39;00m \u001b[38;5;167;01mException\u001b[39;00m \u001b[38;5;28;01mas\u001b[39;00m e:\n\u001b[0;32m     67\u001b[0m     filtered_tb \u001b[38;5;241m=\u001b[39m _process_traceback_frames(e\u001b[38;5;241m.\u001b[39m__traceback__)\n",
      "File \u001b[1;32mD:\\Program File\\Anaconda\\envs\\practicum\\lib\\site-packages\\keras\\engine\\training.py:1947\u001b[0m, in \u001b[0;36mModel.evaluate\u001b[1;34m(self, x, y, batch_size, verbose, sample_weight, steps, callbacks, max_queue_size, workers, use_multiprocessing, return_dict, **kwargs)\u001b[0m\n\u001b[0;32m   1943\u001b[0m \u001b[38;5;28;01mwith\u001b[39;00m tf\u001b[38;5;241m.\u001b[39mprofiler\u001b[38;5;241m.\u001b[39mexperimental\u001b[38;5;241m.\u001b[39mTrace(\n\u001b[0;32m   1944\u001b[0m     \u001b[38;5;124m\"\u001b[39m\u001b[38;5;124mtest\u001b[39m\u001b[38;5;124m\"\u001b[39m, step_num\u001b[38;5;241m=\u001b[39mstep, _r\u001b[38;5;241m=\u001b[39m\u001b[38;5;241m1\u001b[39m\n\u001b[0;32m   1945\u001b[0m ):\n\u001b[0;32m   1946\u001b[0m     callbacks\u001b[38;5;241m.\u001b[39mon_test_batch_begin(step)\n\u001b[1;32m-> 1947\u001b[0m     tmp_logs \u001b[38;5;241m=\u001b[39m \u001b[38;5;28;43mself\u001b[39;49m\u001b[38;5;241;43m.\u001b[39;49m\u001b[43mtest_function\u001b[49m\u001b[43m(\u001b[49m\u001b[43miterator\u001b[49m\u001b[43m)\u001b[49m\n\u001b[0;32m   1948\u001b[0m     \u001b[38;5;28;01mif\u001b[39;00m data_handler\u001b[38;5;241m.\u001b[39mshould_sync:\n\u001b[0;32m   1949\u001b[0m         context\u001b[38;5;241m.\u001b[39masync_wait()\n",
      "File \u001b[1;32mD:\\Program File\\Anaconda\\envs\\practicum\\lib\\site-packages\\tensorflow\\python\\util\\traceback_utils.py:150\u001b[0m, in \u001b[0;36mfilter_traceback.<locals>.error_handler\u001b[1;34m(*args, **kwargs)\u001b[0m\n\u001b[0;32m    148\u001b[0m filtered_tb \u001b[38;5;241m=\u001b[39m \u001b[38;5;28;01mNone\u001b[39;00m\n\u001b[0;32m    149\u001b[0m \u001b[38;5;28;01mtry\u001b[39;00m:\n\u001b[1;32m--> 150\u001b[0m   \u001b[38;5;28;01mreturn\u001b[39;00m fn(\u001b[38;5;241m*\u001b[39margs, \u001b[38;5;241m*\u001b[39m\u001b[38;5;241m*\u001b[39mkwargs)\n\u001b[0;32m    151\u001b[0m \u001b[38;5;28;01mexcept\u001b[39;00m \u001b[38;5;167;01mException\u001b[39;00m \u001b[38;5;28;01mas\u001b[39;00m e:\n\u001b[0;32m    152\u001b[0m   filtered_tb \u001b[38;5;241m=\u001b[39m _process_traceback_frames(e\u001b[38;5;241m.\u001b[39m__traceback__)\n",
      "File \u001b[1;32mD:\\Program File\\Anaconda\\envs\\practicum\\lib\\site-packages\\tensorflow\\python\\eager\\def_function.py:915\u001b[0m, in \u001b[0;36mFunction.__call__\u001b[1;34m(self, *args, **kwds)\u001b[0m\n\u001b[0;32m    912\u001b[0m compiler \u001b[38;5;241m=\u001b[39m \u001b[38;5;124m\"\u001b[39m\u001b[38;5;124mxla\u001b[39m\u001b[38;5;124m\"\u001b[39m \u001b[38;5;28;01mif\u001b[39;00m \u001b[38;5;28mself\u001b[39m\u001b[38;5;241m.\u001b[39m_jit_compile \u001b[38;5;28;01melse\u001b[39;00m \u001b[38;5;124m\"\u001b[39m\u001b[38;5;124mnonXla\u001b[39m\u001b[38;5;124m\"\u001b[39m\n\u001b[0;32m    914\u001b[0m \u001b[38;5;28;01mwith\u001b[39;00m OptionalXlaContext(\u001b[38;5;28mself\u001b[39m\u001b[38;5;241m.\u001b[39m_jit_compile):\n\u001b[1;32m--> 915\u001b[0m   result \u001b[38;5;241m=\u001b[39m \u001b[38;5;28mself\u001b[39m\u001b[38;5;241m.\u001b[39m_call(\u001b[38;5;241m*\u001b[39margs, \u001b[38;5;241m*\u001b[39m\u001b[38;5;241m*\u001b[39mkwds)\n\u001b[0;32m    917\u001b[0m new_tracing_count \u001b[38;5;241m=\u001b[39m \u001b[38;5;28mself\u001b[39m\u001b[38;5;241m.\u001b[39mexperimental_get_tracing_count()\n\u001b[0;32m    918\u001b[0m without_tracing \u001b[38;5;241m=\u001b[39m (tracing_count \u001b[38;5;241m==\u001b[39m new_tracing_count)\n",
      "File \u001b[1;32mD:\\Program File\\Anaconda\\envs\\practicum\\lib\\site-packages\\tensorflow\\python\\eager\\def_function.py:954\u001b[0m, in \u001b[0;36mFunction._call\u001b[1;34m(self, *args, **kwds)\u001b[0m\n\u001b[0;32m    951\u001b[0m \u001b[38;5;28mself\u001b[39m\u001b[38;5;241m.\u001b[39m_lock\u001b[38;5;241m.\u001b[39mrelease()\n\u001b[0;32m    952\u001b[0m \u001b[38;5;66;03m# In this case we have not created variables on the first call. So we can\u001b[39;00m\n\u001b[0;32m    953\u001b[0m \u001b[38;5;66;03m# run the first trace but we should fail if variables are created.\u001b[39;00m\n\u001b[1;32m--> 954\u001b[0m results \u001b[38;5;241m=\u001b[39m \u001b[38;5;28mself\u001b[39m\u001b[38;5;241m.\u001b[39m_stateful_fn(\u001b[38;5;241m*\u001b[39margs, \u001b[38;5;241m*\u001b[39m\u001b[38;5;241m*\u001b[39mkwds)\n\u001b[0;32m    955\u001b[0m \u001b[38;5;28;01mif\u001b[39;00m \u001b[38;5;28mself\u001b[39m\u001b[38;5;241m.\u001b[39m_created_variables \u001b[38;5;129;01mand\u001b[39;00m \u001b[38;5;129;01mnot\u001b[39;00m ALLOW_DYNAMIC_VARIABLE_CREATION:\n\u001b[0;32m    956\u001b[0m   \u001b[38;5;28;01mraise\u001b[39;00m \u001b[38;5;167;01mValueError\u001b[39;00m(\u001b[38;5;124m\"\u001b[39m\u001b[38;5;124mCreating variables on a non-first call to a function\u001b[39m\u001b[38;5;124m\"\u001b[39m\n\u001b[0;32m    957\u001b[0m                    \u001b[38;5;124m\"\u001b[39m\u001b[38;5;124m decorated with tf.function.\u001b[39m\u001b[38;5;124m\"\u001b[39m)\n",
      "File \u001b[1;32mD:\\Program File\\Anaconda\\envs\\practicum\\lib\\site-packages\\tensorflow\\python\\eager\\function.py:2496\u001b[0m, in \u001b[0;36m__call__\u001b[1;34m(self, *args, **kwargs)\u001b[0m\n\u001b[0;32m   2478\u001b[0m \u001b[38;5;28;01mdef\u001b[39;00m \u001b[38;5;21m__init__\u001b[39m(\u001b[38;5;28mself\u001b[39m,\n\u001b[0;32m   2479\u001b[0m              fullargspec,\n\u001b[0;32m   2480\u001b[0m              is_method,\n\u001b[1;32m   (...)\u001b[0m\n\u001b[0;32m   2484\u001b[0m              name\u001b[38;5;241m=\u001b[39m\u001b[38;5;28;01mNone\u001b[39;00m,\n\u001b[0;32m   2485\u001b[0m              jit_compile\u001b[38;5;241m=\u001b[39m\u001b[38;5;28;01mNone\u001b[39;00m):\n\u001b[0;32m   2486\u001b[0m   \u001b[38;5;124;03m\"\"\"Constructs a FunctionSpec describing a python function.\u001b[39;00m\n\u001b[0;32m   2487\u001b[0m \n\u001b[0;32m   2488\u001b[0m \u001b[38;5;124;03m  Args:\u001b[39;00m\n\u001b[0;32m   2489\u001b[0m \u001b[38;5;124;03m    fullargspec: `tf_inspect.FullArgSpec` object describing the function.\u001b[39;00m\n\u001b[0;32m   2490\u001b[0m \u001b[38;5;124;03m    is_method: True if the function is a method.\u001b[39;00m\n\u001b[0;32m   2491\u001b[0m \u001b[38;5;124;03m    input_signature: a signature of the function (None, if variable)\u001b[39;00m\n\u001b[0;32m   2492\u001b[0m \u001b[38;5;124;03m    is_pure: if True all input arguments (including variables and constants)\u001b[39;00m\n\u001b[0;32m   2493\u001b[0m \u001b[38;5;124;03m      will be converted to tensors and no variable changes allowed.\u001b[39;00m\n\u001b[0;32m   2494\u001b[0m \u001b[38;5;124;03m    experimental_follow_type_hints: see `tf.function`.\u001b[39;00m\n\u001b[0;32m   2495\u001b[0m \u001b[38;5;124;03m    name: Name of the function\u001b[39;00m\n\u001b[1;32m-> 2496\u001b[0m \u001b[38;5;124;03m    jit_compile: see `tf.function`.\u001b[39;00m\n\u001b[0;32m   2497\u001b[0m \u001b[38;5;124;03m  \"\"\"\u001b[39;00m\n\u001b[0;32m   2498\u001b[0m   \u001b[38;5;28mself\u001b[39m\u001b[38;5;241m.\u001b[39m_fullargspec \u001b[38;5;241m=\u001b[39m fullargspec\n\u001b[0;32m   2499\u001b[0m   \u001b[38;5;28mself\u001b[39m\u001b[38;5;241m.\u001b[39m_is_method \u001b[38;5;241m=\u001b[39m is_method\n",
      "File \u001b[1;32mD:\\Program File\\Anaconda\\envs\\practicum\\lib\\site-packages\\tensorflow\\python\\eager\\function.py:1862\u001b[0m, in \u001b[0;36m_call_flat\u001b[1;34m(self, args, captured_inputs, cancellation_manager)\u001b[0m\n\u001b[0;32m   1859\u001b[0m forward_function, args_with_tangents \u001b[38;5;241m=\u001b[39m forward_backward\u001b[38;5;241m.\u001b[39mforward()\n\u001b[0;32m   1860\u001b[0m \u001b[38;5;28;01mif\u001b[39;00m executing_eagerly:\n\u001b[0;32m   1861\u001b[0m   flat_outputs \u001b[38;5;241m=\u001b[39m forward_function\u001b[38;5;241m.\u001b[39mcall(\n\u001b[1;32m-> 1862\u001b[0m       ctx, args_with_tangents, cancellation_manager\u001b[38;5;241m=\u001b[39mcancellation_manager)\n\u001b[0;32m   1863\u001b[0m \u001b[38;5;28;01melse\u001b[39;00m:\n\u001b[0;32m   1864\u001b[0m   \u001b[38;5;28;01mwith\u001b[39;00m default_graph\u001b[38;5;241m.\u001b[39m_override_gradient_function(  \u001b[38;5;66;03m# pylint: disable=protected-access\u001b[39;00m\n\u001b[0;32m   1865\u001b[0m       {\u001b[38;5;124m\"\u001b[39m\u001b[38;5;124mPartitionedCall\u001b[39m\u001b[38;5;124m\"\u001b[39m: \u001b[38;5;28mself\u001b[39m\u001b[38;5;241m.\u001b[39m_get_gradient_function(),\n\u001b[0;32m   1866\u001b[0m        \u001b[38;5;124m\"\u001b[39m\u001b[38;5;124mStatefulPartitionedCall\u001b[39m\u001b[38;5;124m\"\u001b[39m: \u001b[38;5;28mself\u001b[39m\u001b[38;5;241m.\u001b[39m_get_gradient_function()}):\n",
      "File \u001b[1;32mD:\\Program File\\Anaconda\\envs\\practicum\\lib\\site-packages\\tensorflow\\python\\eager\\function.py:499\u001b[0m, in \u001b[0;36mcall\u001b[1;34m(self, ctx, args, cancellation_manager)\u001b[0m\n\u001b[0;32m    497\u001b[0m \u001b[38;5;28;01mwith\u001b[39;00m _InterpolateFunctionError(\u001b[38;5;28mself\u001b[39m):\n\u001b[0;32m    498\u001b[0m   \u001b[38;5;28;01mif\u001b[39;00m cancellation_manager \u001b[38;5;129;01mis\u001b[39;00m \u001b[38;5;28;01mNone\u001b[39;00m:\n\u001b[1;32m--> 499\u001b[0m     outputs \u001b[38;5;241m=\u001b[39m execute\u001b[38;5;241m.\u001b[39mexecute(\n\u001b[0;32m    500\u001b[0m         \u001b[38;5;28mstr\u001b[39m(\u001b[38;5;28mself\u001b[39m\u001b[38;5;241m.\u001b[39msignature\u001b[38;5;241m.\u001b[39mname),\n\u001b[0;32m    501\u001b[0m         num_outputs\u001b[38;5;241m=\u001b[39m\u001b[38;5;28mself\u001b[39m\u001b[38;5;241m.\u001b[39m_num_outputs,\n\u001b[0;32m    502\u001b[0m         inputs\u001b[38;5;241m=\u001b[39margs,\n\u001b[0;32m    503\u001b[0m         attrs\u001b[38;5;241m=\u001b[39mattrs,\n\u001b[0;32m    504\u001b[0m         ctx\u001b[38;5;241m=\u001b[39mctx)\n\u001b[0;32m    505\u001b[0m   \u001b[38;5;28;01melse\u001b[39;00m:\n\u001b[0;32m    506\u001b[0m     outputs \u001b[38;5;241m=\u001b[39m execute\u001b[38;5;241m.\u001b[39mexecute_with_cancellation(\n\u001b[0;32m    507\u001b[0m         \u001b[38;5;28mstr\u001b[39m(\u001b[38;5;28mself\u001b[39m\u001b[38;5;241m.\u001b[39msignature\u001b[38;5;241m.\u001b[39mname),\n\u001b[0;32m    508\u001b[0m         num_outputs\u001b[38;5;241m=\u001b[39m\u001b[38;5;28mself\u001b[39m\u001b[38;5;241m.\u001b[39m_num_outputs,\n\u001b[1;32m   (...)\u001b[0m\n\u001b[0;32m    511\u001b[0m         ctx\u001b[38;5;241m=\u001b[39mctx,\n\u001b[0;32m    512\u001b[0m         cancellation_manager\u001b[38;5;241m=\u001b[39mcancellation_manager)\n",
      "File \u001b[1;32mD:\\Program File\\Anaconda\\envs\\practicum\\lib\\site-packages\\tensorflow\\python\\eager\\execute.py:54\u001b[0m, in \u001b[0;36mquick_execute\u001b[1;34m(op_name, num_outputs, inputs, attrs, ctx, name)\u001b[0m\n\u001b[0;32m     52\u001b[0m \u001b[38;5;28;01mtry\u001b[39;00m:\n\u001b[0;32m     53\u001b[0m   ctx\u001b[38;5;241m.\u001b[39mensure_initialized()\n\u001b[1;32m---> 54\u001b[0m   tensors \u001b[38;5;241m=\u001b[39m \u001b[43mpywrap_tfe\u001b[49m\u001b[38;5;241;43m.\u001b[39;49m\u001b[43mTFE_Py_Execute\u001b[49m\u001b[43m(\u001b[49m\u001b[43mctx\u001b[49m\u001b[38;5;241;43m.\u001b[39;49m\u001b[43m_handle\u001b[49m\u001b[43m,\u001b[49m\u001b[43m \u001b[49m\u001b[43mdevice_name\u001b[49m\u001b[43m,\u001b[49m\u001b[43m \u001b[49m\u001b[43mop_name\u001b[49m\u001b[43m,\u001b[49m\n\u001b[0;32m     55\u001b[0m \u001b[43m                                      \u001b[49m\u001b[43minputs\u001b[49m\u001b[43m,\u001b[49m\u001b[43m \u001b[49m\u001b[43mattrs\u001b[49m\u001b[43m,\u001b[49m\u001b[43m \u001b[49m\u001b[43mnum_outputs\u001b[49m\u001b[43m)\u001b[49m\n\u001b[0;32m     56\u001b[0m \u001b[38;5;28;01mexcept\u001b[39;00m core\u001b[38;5;241m.\u001b[39m_NotOkStatusException \u001b[38;5;28;01mas\u001b[39;00m e:\n\u001b[0;32m     57\u001b[0m   \u001b[38;5;28;01mif\u001b[39;00m name \u001b[38;5;129;01mis\u001b[39;00m \u001b[38;5;129;01mnot\u001b[39;00m \u001b[38;5;28;01mNone\u001b[39;00m:\n",
      "\u001b[1;31mKeyboardInterrupt\u001b[0m: "
     ]
    }
   ],
   "source": [
    "loss, accuracy = classifier_model.evaluate(toxic_comments_csv_ds_test)\n",
    "\n",
    "print(f'Loss: {loss}')\n",
    "print(f'Accuracy: {accuracy}')"
   ]
  },
  {
   "cell_type": "markdown",
   "id": "4fd41e66",
   "metadata": {},
   "source": [
    "<div class=\"alert alert-block alert-info\">\n",
    "\n",
    "Комментарий студента V1: И здесь аналогично\n",
    "    \n",
    "</div>"
   ]
  },
  {
   "cell_type": "markdown",
   "id": "73dae050",
   "metadata": {},
   "source": [
    "### Построим график точности и потери с течением времени\n",
    "\n",
    "На основе объекта `History`, возвращаемого `model.fit()`. Вы можете построить график потерь при обучении и валидации для сравнения, а также точности обучения и валидации:"
   ]
  },
  {
   "cell_type": "code",
   "execution_count": 456,
   "id": "af81b6f5",
   "metadata": {},
   "outputs": [
    {
     "ename": "NameError",
     "evalue": "name 'history' is not defined",
     "output_type": "error",
     "traceback": [
      "\u001b[1;31m---------------------------------------------------------------------------\u001b[0m",
      "\u001b[1;31mNameError\u001b[0m                                 Traceback (most recent call last)",
      "Cell \u001b[1;32mIn[456], line 1\u001b[0m\n\u001b[1;32m----> 1\u001b[0m history_dict \u001b[38;5;241m=\u001b[39m \u001b[43mhistory\u001b[49m\u001b[38;5;241m.\u001b[39mhistory\n\u001b[0;32m      2\u001b[0m \u001b[38;5;28mprint\u001b[39m(history_dict\u001b[38;5;241m.\u001b[39mkeys())\n\u001b[0;32m      4\u001b[0m acc \u001b[38;5;241m=\u001b[39m history_dict[\u001b[38;5;124m'\u001b[39m\u001b[38;5;124mbinary_accuracy\u001b[39m\u001b[38;5;124m'\u001b[39m]\n",
      "\u001b[1;31mNameError\u001b[0m: name 'history' is not defined"
     ]
    }
   ],
   "source": [
    "history_dict = history.history\n",
    "print(history_dict.keys())\n",
    "\n",
    "acc = history_dict['binary_accuracy']\n",
    "val_acc = history_dict['val_binary_accuracy']\n",
    "loss = history_dict['loss']\n",
    "val_loss = history_dict['val_loss']\n",
    "\n",
    "epochs = range(1, len(acc) + 1)\n",
    "fig = plt.figure(figsize=(10, 6))\n",
    "fig.tight_layout()\n",
    "\n",
    "plt.subplot(2, 1, 1)\n",
    "# r is for \"solid red line\"\n",
    "plt.plot(epochs, loss, 'r', label='Training loss')\n",
    "# b is for \"solid blue line\"\n",
    "plt.plot(epochs, val_loss, 'b', label='Validation loss')\n",
    "plt.title('Training and validation loss')\n",
    "# plt.xlabel('Epochs')\n",
    "plt.ylabel('Loss')\n",
    "plt.legend()\n",
    "\n",
    "plt.subplot(2, 1, 2)\n",
    "plt.plot(epochs, acc, 'r', label='Training acc')\n",
    "plt.plot(epochs, val_acc, 'b', label='Validation acc')\n",
    "plt.title('Training and validation accuracy')\n",
    "plt.xlabel('Epochs')\n",
    "plt.ylabel('Accuracy')\n",
    "plt.legend(loc='lower right')"
   ]
  },
  {
   "cell_type": "markdown",
   "id": "db6c2890",
   "metadata": {},
   "source": [
    "## Проверим на F1-метрику"
   ]
  },
  {
   "cell_type": "code",
   "execution_count": 504,
   "id": "5b7aefbd",
   "metadata": {},
   "outputs": [],
   "source": [
    "# Каким образом можно вытянуть предсказания, если там выдает только функцию потери?"
   ]
  },
  {
   "cell_type": "code",
   "execution_count": 505,
   "id": "045b6575",
   "metadata": {},
   "outputs": [],
   "source": [
    "# В процессе"
   ]
  },
  {
   "cell_type": "code",
   "execution_count": null,
   "id": "47c05298",
   "metadata": {},
   "outputs": [],
   "source": []
  },
  {
   "cell_type": "markdown",
   "id": "4aa91e02",
   "metadata": {},
   "source": [
    "# Выводы"
   ]
  },
  {
   "cell_type": "code",
   "execution_count": 506,
   "id": "41f29090",
   "metadata": {},
   "outputs": [],
   "source": [
    "# В процессе"
   ]
  },
  {
   "cell_type": "markdown",
   "id": "698e0e67",
   "metadata": {},
   "source": [
    "## Чек-лист проверки"
   ]
  },
  {
   "cell_type": "markdown",
   "id": "52299a68",
   "metadata": {},
   "source": [
    "- [x]  Jupyter Notebook открыт\n",
    "- [ ]  Весь код выполняется без ошибок\n",
    "- [x]  Ячейки с кодом расположены в порядке исполнения\n",
    "- [x]  Данные загружены и подготовлены\n",
    "- [x]  Модели обучены\n",
    "- [x]  Значение метрики *F1* не меньше 0.75\n",
    "- [ ]  Выводы написаны"
   ]
  },
  {
   "cell_type": "code",
   "execution_count": null,
   "id": "2c7e001f",
   "metadata": {},
   "outputs": [],
   "source": []
  }
 ],
 "metadata": {
  "kernelspec": {
   "display_name": "Python 3 (ipykernel)",
   "language": "python",
   "name": "python3"
  },
  "language_info": {
   "codemirror_mode": {
    "name": "ipython",
    "version": 3
   },
   "file_extension": ".py",
   "mimetype": "text/x-python",
   "name": "python",
   "nbconvert_exporter": "python",
   "pygments_lexer": "ipython3",
   "version": "3.9.5"
  },
  "toc": {
   "base_numbering": 1,
   "nav_menu": {},
   "number_sections": true,
   "sideBar": true,
   "skip_h1_title": false,
   "title_cell": "Table of Contents",
   "title_sidebar": "Contents",
   "toc_cell": false,
   "toc_position": {
    "height": "calc(100% - 180px)",
    "left": "10px",
    "top": "150px",
    "width": "374.375px"
   },
   "toc_section_display": true,
   "toc_window_display": true
  }
 },
 "nbformat": 4,
 "nbformat_minor": 5
}
