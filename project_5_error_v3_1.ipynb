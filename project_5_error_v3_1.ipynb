{
 "cells": [
  {
   "cell_type": "markdown",
   "metadata": {},
   "source": [
    "Привет! Меня зовут Исмаилов Исмаил, я буду проверять твой проект :) Можешь обращаться ко мне на «ты». Если тебе комфортно, то и я буду к тебе так обращаться, если нет, то обязательно скажи об этом.\n",
    "\n",
    "Пожалуйста, не удаляй мои комментарии, которые я буду оставлять в работе. Это особенно поможет, если твои проекты будут отправлены на повторную проверку. При повторных проверках у комментариев будут приписки: \"Вторая итерация\", \"Третья итерация\" и т.д. \n",
    "\n",
    "Ты тоже можешь реагировать на мои комментарии, но в таком случае постарайся, чтобы твои комментарии отличались от моих: например, выделяй их своим любимым цветом — так у нас не возникнет путаницы :)\n",
    "\n",
    "Кстати, про цвета! Мои комментарии будут в следующей цветовой гамме: зелеными, желтыми и красными. Например:\n",
    "\n",
    "<div class=\"alert-success\"> \n",
    "<b>Комментарий ревьюера 👍 </b>\n",
    "    \n",
    "В случае, если решение на отдельном шаге является полностью правильным. </div>\n",
    "\n",
    "<div class=\"alert-warning\"> \n",
    "<b>Комментарий ревьюера 💡</b> \n",
    "    \n",
    "В случае, если решение может стать еще лучше с некоторыми корректировками </div>\n",
    " \n",
    "<div class=\"alert-danger\"> \n",
    "<b>Комментарий ревьюера ❌</b> \n",
    "    \n",
    "В случае, если решение какого-то шага требует значительных изменений. Проект не может быть принят с первого раза, если ревью содержит комментарии, помеченные этим цветом </div>"
   ]
  },
  {
   "cell_type": "markdown",
   "metadata": {},
   "source": [
    "<div class=\"alert alert-block alert-info\">\n",
    "\n",
    "Прощу прощения, я работал над проектом в другом месте, что и не тот отправил на проверку :(\n",
    "    \n",
    "</div>"
   ]
  },
  {
   "cell_type": "markdown",
   "metadata": {},
   "source": [
    "<div class=\"alert-warning\"> \n",
    "<b>Комментарий ревьюера 💡 Вторая итерация </b> \n",
    "\n",
    "Не стоило удалять мои комментарии, не делай так больше"
   ]
  },
  {
   "cell_type": "markdown",
   "metadata": {},
   "source": [
    "<div class=\"alert-warning\"> \n",
    "<b>Комментарий ревьюера 💡 Третья итерация </b> \n",
    "\n",
    "Напоминаю об этом: это даже не просьба, а правило Практикума. С удаленными комментариями работу не приму"
   ]
  },
  {
   "cell_type": "markdown",
   "metadata": {},
   "source": [
    "<div class=\"alert alert-block alert-info\">\n",
    "\n",
    "Долго думал, что не так с комментариями, потом меня дошло, что нужно скорпировать комментарии с 1 итерации и вставить сюда. Я правильно сделал? Если не так, дай, пожалуйста, мне знать\n",
    "    \n",
    "</div>"
   ]
  },
  {
   "cell_type": "markdown",
   "metadata": {},
   "source": [
    "# Рекомендация тарифов"
   ]
  },
  {
   "cell_type": "markdown",
   "metadata": {},
   "source": [
    "В вашем распоряжении данные о поведении клиентов, которые уже перешли на эти тарифы (из проекта курса «Статистический анализ данных»). Нужно построить модель для задачи классификации, которая выберет подходящий тариф. Предобработка данных не понадобится — вы её уже сделали.\n",
    "\n",
    "Постройте модель с максимально большим значением *accuracy*. Чтобы сдать проект успешно, нужно довести долю правильных ответов по крайней мере до 0.75. Проверьте *accuracy* на тестовой выборке самостоятельно."
   ]
  },
  {
   "cell_type": "markdown",
   "metadata": {},
   "source": [
    "## Откройте и изучите файл"
   ]
  },
  {
   "cell_type": "code",
   "execution_count": 1,
   "metadata": {},
   "outputs": [
    {
     "name": "stdout",
     "output_type": "stream",
     "text": [
      "<class 'pandas.core.frame.DataFrame'>\n",
      "RangeIndex: 3214 entries, 0 to 3213\n",
      "Data columns (total 5 columns):\n",
      " #   Column    Non-Null Count  Dtype  \n",
      "---  ------    --------------  -----  \n",
      " 0   calls     3214 non-null   float64\n",
      " 1   minutes   3214 non-null   float64\n",
      " 2   messages  3214 non-null   float64\n",
      " 3   mb_used   3214 non-null   float64\n",
      " 4   is_ultra  3214 non-null   int64  \n",
      "dtypes: float64(4), int64(1)\n",
      "memory usage: 125.7 KB\n"
     ]
    }
   ],
   "source": [
    "# Подключаем библиотеку pandas\n",
    "import pandas as pd\n",
    "\n",
    "# Получаем датасет\n",
    "try:\n",
    "    df = pd.read_csv('/datasets/users_behavior.csv')\n",
    "except:\n",
    "    df = pd.read_csv('users_behavior.csv')\n",
    "\n",
    "# Смотрим и изучаем датасет\n",
    "df.info()"
   ]
  },
  {
   "cell_type": "code",
   "execution_count": 2,
   "metadata": {},
   "outputs": [
    {
     "data": {
      "text/html": [
       "<div>\n",
       "<style scoped>\n",
       "    .dataframe tbody tr th:only-of-type {\n",
       "        vertical-align: middle;\n",
       "    }\n",
       "\n",
       "    .dataframe tbody tr th {\n",
       "        vertical-align: top;\n",
       "    }\n",
       "\n",
       "    .dataframe thead th {\n",
       "        text-align: right;\n",
       "    }\n",
       "</style>\n",
       "<table border=\"1\" class=\"dataframe\">\n",
       "  <thead>\n",
       "    <tr style=\"text-align: right;\">\n",
       "      <th></th>\n",
       "      <th>calls</th>\n",
       "      <th>minutes</th>\n",
       "      <th>messages</th>\n",
       "      <th>mb_used</th>\n",
       "      <th>is_ultra</th>\n",
       "    </tr>\n",
       "  </thead>\n",
       "  <tbody>\n",
       "    <tr>\n",
       "      <th>0</th>\n",
       "      <td>40.0</td>\n",
       "      <td>311.90</td>\n",
       "      <td>83.0</td>\n",
       "      <td>19915.42</td>\n",
       "      <td>0</td>\n",
       "    </tr>\n",
       "    <tr>\n",
       "      <th>1</th>\n",
       "      <td>85.0</td>\n",
       "      <td>516.75</td>\n",
       "      <td>56.0</td>\n",
       "      <td>22696.96</td>\n",
       "      <td>0</td>\n",
       "    </tr>\n",
       "    <tr>\n",
       "      <th>2</th>\n",
       "      <td>77.0</td>\n",
       "      <td>467.66</td>\n",
       "      <td>86.0</td>\n",
       "      <td>21060.45</td>\n",
       "      <td>0</td>\n",
       "    </tr>\n",
       "    <tr>\n",
       "      <th>3</th>\n",
       "      <td>106.0</td>\n",
       "      <td>745.53</td>\n",
       "      <td>81.0</td>\n",
       "      <td>8437.39</td>\n",
       "      <td>1</td>\n",
       "    </tr>\n",
       "    <tr>\n",
       "      <th>4</th>\n",
       "      <td>66.0</td>\n",
       "      <td>418.74</td>\n",
       "      <td>1.0</td>\n",
       "      <td>14502.75</td>\n",
       "      <td>0</td>\n",
       "    </tr>\n",
       "  </tbody>\n",
       "</table>\n",
       "</div>"
      ],
      "text/plain": [
       "   calls  minutes  messages   mb_used  is_ultra\n",
       "0   40.0   311.90      83.0  19915.42         0\n",
       "1   85.0   516.75      56.0  22696.96         0\n",
       "2   77.0   467.66      86.0  21060.45         0\n",
       "3  106.0   745.53      81.0   8437.39         1\n",
       "4   66.0   418.74       1.0  14502.75         0"
      ]
     },
     "execution_count": 2,
     "metadata": {},
     "output_type": "execute_result"
    }
   ],
   "source": [
    "df.head()"
   ]
  },
  {
   "cell_type": "code",
   "execution_count": 3,
   "metadata": {},
   "outputs": [
    {
     "data": {
      "text/plain": [
       "calls       0\n",
       "minutes     0\n",
       "messages    0\n",
       "mb_used     0\n",
       "is_ultra    0\n",
       "dtype: int64"
      ]
     },
     "execution_count": 3,
     "metadata": {},
     "output_type": "execute_result"
    }
   ],
   "source": [
    "# Проверяем пропущенные значения\n",
    "df.isna().sum()"
   ]
  },
  {
   "cell_type": "markdown",
   "metadata": {},
   "source": [
    "<div class=\"alert-success\"> \n",
    "<b>Комментарий ревьюера 👍</b>\n",
    "\n",
    "Хороший первичный обзор данных"
   ]
  },
  {
   "cell_type": "markdown",
   "metadata": {},
   "source": [
    "Нет пропущенных значений, теперь переходим к следующему шагу"
   ]
  },
  {
   "cell_type": "markdown",
   "metadata": {},
   "source": [
    "<div class=\"alert-warning\"> \n",
    "<b>Комментарий ревьюера 💡 </b>\n",
    "\n",
    "Не забывай о существовании текстовых ячеек"
   ]
  },
  {
   "cell_type": "markdown",
   "metadata": {},
   "source": [
    "## Разбейте данные на выборки"
   ]
  },
  {
   "cell_type": "code",
   "execution_count": 4,
   "metadata": {},
   "outputs": [],
   "source": [
    "# Подключаем библиотеку для деления на две выборки (Валидационную выборку)\n",
    "from sklearn.model_selection import train_test_split\n",
    "\n",
    "# Подключаем функцию для оценки правильности\n",
    "from sklearn.metrics import accuracy_score"
   ]
  },
  {
   "cell_type": "code",
   "execution_count": 5,
   "metadata": {},
   "outputs": [],
   "source": [
    "# Устанавливаем признаки и цели обучения\n",
    "features = df.drop(['is_ultra'], axis=1)\n",
    "target = df['is_ultra']"
   ]
  },
  {
   "cell_type": "markdown",
   "metadata": {},
   "source": [
    "Нам нужно отделить по 20% данных для валидационной и тестовой выборки, а 60% - обучающей выборки"
   ]
  },
  {
   "cell_type": "code",
   "execution_count": 6,
   "metadata": {},
   "outputs": [],
   "source": [
    "# Разделяем исходные данные на обучающую, валидационную и тестовую выборки\n",
    "\n",
    "# Как обычно, будем разделять 60% данных для обучающей выборки, а features_temp и target_temp будут временным датафреймом\n",
    "features_train, features_temp, target_train, target_temp = train_test_split(features, target, test_size= (1 - 0.6), random_state=12345) \n",
    "\n",
    "# А тестовая и валидационная - по 20% данных\n",
    "features_valid, features_test, target_valid, target_test = train_test_split(features_temp, target_temp, test_size=(1 - 0.5), random_state=12345) "
   ]
  },
  {
   "cell_type": "markdown",
   "metadata": {},
   "source": [
    "<div class=\"alert-danger\"> \n",
    "<b>Комментарий ревьюера ❌</b> \n",
    "\n",
    "У тебя нигде переменная model не задана, как можем мы ее использовать?"
   ]
  },
  {
   "cell_type": "markdown",
   "metadata": {},
   "source": [
    "<div class=\"alert-danger\"> \n",
    "<b>Комментарий ревьюера ❌</b> \n",
    "\n",
    "Те же ошибки, model никак не инициализирована; мы ее ни на чем не обучаем, чтобы делать предсказания "
   ]
  },
  {
   "cell_type": "markdown",
   "metadata": {},
   "source": [
    "<div class=\"alert-danger\"> \n",
    "<b>Комментарий ревьюера ❌ Третья итерация </b>\n",
    "\n",
    "Не создана тестовая выборка"
   ]
  },
  {
   "cell_type": "markdown",
   "metadata": {},
   "source": [
    "<div class=\"alert alert-block alert-info\">\n",
    "\n",
    "~Обученная модель перемещена в 3 шаг - Исследовать модели~\n",
    "    \n",
    "</div>"
   ]
  },
  {
   "cell_type": "markdown",
   "metadata": {},
   "source": [
    "<div class=\"alert alert-block alert-info\">\n",
    "\n",
    "Добавлена тестовая выборка\n",
    "    \n",
    "</div>"
   ]
  },
  {
   "cell_type": "markdown",
   "metadata": {},
   "source": [
    "## Исследуйте модели"
   ]
  },
  {
   "cell_type": "markdown",
   "metadata": {},
   "source": [
    "Нам требуется исследовать какими тарифом пользователь пользуются, а эти признаки являются категориальными, т.е. будем применять методом обучения для классификации"
   ]
  },
  {
   "cell_type": "code",
   "execution_count": 7,
   "metadata": {},
   "outputs": [],
   "source": [
    "# Подключаем библиотеки для обучения разными способами:\n",
    "# - Случайный лес в регрессии\n",
    "# - Линейная регрессия\n",
    "# - Дерево решений в регресии\n",
    "# - Случайный лес\n",
    "# - Решающее дерево\n",
    "\n",
    "# from sklearn.ensemble import RandomForestRegressor\n",
    "# from sklearn.linear_model import LinearRegression\n",
    "# from sklearn.tree import DecisionTreeRegressor\n",
    "from sklearn.ensemble import RandomForestClassifier\n",
    "from sklearn.tree import DecisionTreeClassifier\n",
    "\n",
    "# И библиотеку для вычисления MSE (Среднеквадратичная ошибка) - Для регрессии\n",
    "# from sklearn.metrics import mean_squared_error"
   ]
  },
  {
   "cell_type": "markdown",
   "metadata": {},
   "source": [
    "Исследуем качество модели разными способами"
   ]
  },
  {
   "cell_type": "code",
   "execution_count": 8,
   "metadata": {},
   "outputs": [],
   "source": [
    "# Методом случайного леса\n",
    "\n",
    "best_model = None\n",
    "best_result = 0\n",
    "for est in range(1, 11):\n",
    "    # Обучим модель с заданным количеством деревьев\n",
    "    model = RandomForestClassifier(random_state=12345, n_estimators=est) \n",
    "    \n",
    "    # Обучим модель на тренировочной выборке\n",
    "    model.fit(features_train, target_train) \n",
    "    \n",
    "    # Посчитаем качество модели на валидационной выборке\n",
    "    result = model.score(features_valid, target_valid) \n",
    "    \n",
    "    if result > best_result:\n",
    "        # Сохраним наилучшую модель\n",
    "        best_model = model\n",
    "        # Сохраним наилучшее значение метрики accuracy на валидационных данных\n",
    "        best_result = result"
   ]
  },
  {
   "cell_type": "code",
   "execution_count": 9,
   "metadata": {},
   "outputs": [
    {
     "name": "stdout",
     "output_type": "stream",
     "text": [
      "Accuracy наилучшей модели на валидационной выборке: 0.7853810264385692\n"
     ]
    }
   ],
   "source": [
    "print(\"Accuracy наилучшей модели на валидационной выборке:\", best_result)"
   ]
  },
  {
   "cell_type": "code",
   "execution_count": 10,
   "metadata": {},
   "outputs": [
    {
     "name": "stdout",
     "output_type": "stream",
     "text": [
      "max_depth = 1 : 0.7542768273716952\n",
      "max_depth = 2 : 0.7822706065318819\n",
      "max_depth = 3 : 0.7853810264385692\n",
      "max_depth = 4 : 0.7791601866251944\n",
      "max_depth = 5 : 0.7791601866251944\n"
     ]
    }
   ],
   "source": [
    "# Методом решающего дерева\n",
    "\n",
    "best_model = None\n",
    "best_result = 0\n",
    "\n",
    "for depth in range(1, 6):\n",
    "    # Обучим модель с заданной глубиной дерева\n",
    "    model = DecisionTreeClassifier(random_state=12345, max_depth=depth) \n",
    "    \n",
    "    # Обучим модель\n",
    "    model.fit(features_train, target_train)\n",
    "    \n",
    "    # Получим предсказания модели\n",
    "    predictions_valid = model.predict(features_valid)\n",
    "    \n",
    "    # Посчитаем качество модели\n",
    "    result = accuracy_score(target_valid, predictions_valid) \n",
    "    \n",
    "    if result > best_result:\n",
    "        best_model = model\n",
    "        best_result = result\n",
    "        best_depth = depth\n",
    "    \n",
    "    print(\"max_depth =\", depth, \": \", end='')\n",
    "    print(result)"
   ]
  },
  {
   "cell_type": "markdown",
   "metadata": {},
   "source": [
    "<div class=\"alert-danger\"> \n",
    "<b>Комментарий ревьюера ❌ Третья итерация </b> \n",
    "\n",
    "Ты здесь обучаешься и делаешь предсказания на всей выборке (переменные features и target), так делать нельзя, для этого мы и разбивали выборку на три части"
   ]
  },
  {
   "cell_type": "code",
   "execution_count": 11,
   "metadata": {},
   "outputs": [
    {
     "name": "stdout",
     "output_type": "stream",
     "text": [
      "Accuracy лучшей модели: 0.7853810264385692 \n",
      "Глубина обучения: 3\n"
     ]
    }
   ],
   "source": [
    "print(\"Accuracy лучшей модели:\", best_result, '\\nГлубина обучения:', best_depth)"
   ]
  },
  {
   "cell_type": "markdown",
   "metadata": {},
   "source": [
    "<div class=\"alert-warning\"> \n",
    "<b>Комментарий ревьюера 💡 Третья итерация </b> \n",
    "\n",
    "Ты сделал одну и ту же работу дважды, в прошлом пункте то же самое, только без вывода метрики. Почему сделал так?"
   ]
  },
  {
   "cell_type": "markdown",
   "metadata": {},
   "source": [
    "<div class=\"alert alert-block alert-info\">\n",
    "\n",
    "Действительно так, я поторопился сдать проект до НГ, что и допустил много ошибок\n",
    "    \n",
    "</div>"
   ]
  },
  {
   "cell_type": "markdown",
   "metadata": {},
   "source": [
    "Здесь видно, что максимальная глубина 3 является оптимальной по сравнению остальных "
   ]
  },
  {
   "cell_type": "markdown",
   "metadata": {},
   "source": [
    "<div class=\"alert-danger\"> \n",
    "<b>Комментарий ревьюера ❌</b> \n",
    "\n",
    "RMSE - метрика для регрессии, а у нас задача классификации"
   ]
  },
  {
   "cell_type": "markdown",
   "metadata": {},
   "source": [
    "<div class=\"alert-danger\"> \n",
    "<b>Комментарий ревьюера ❌</b> \n",
    "\n",
    "Опять же - у нас не регрессия, а классификация"
   ]
  },
  {
   "cell_type": "markdown",
   "metadata": {},
   "source": [
    "<div class=\"alert-danger\"> \n",
    "<b>Комментарий ревьюера ❌</b> \n",
    "\n",
    "Почему где-то accuracy, где-то RMSE?"
   ]
  },
  {
   "cell_type": "markdown",
   "metadata": {},
   "source": [
    "## Проверьте модель на тестовой выборке"
   ]
  },
  {
   "cell_type": "code",
   "execution_count": 12,
   "metadata": {},
   "outputs": [],
   "source": [
    "# Обучим модель с заданным количеством деревьев\n",
    "model = RandomForestClassifier(random_state=12345, n_estimators=est) \n",
    "\n",
    "# Обучим модель на тренировочной выборке\n",
    "model.fit(features_train, target_train) \n",
    "\n",
    "# Получим предсказания обучающей модели\n",
    "train_predictions = model.predict(features_train)\n",
    "\n",
    "# Получим предсказания тестовой модели\n",
    "test_predictions = model.predict(features_test)"
   ]
  },
  {
   "cell_type": "code",
   "execution_count": 13,
   "metadata": {},
   "outputs": [
    {
     "name": "stdout",
     "output_type": "stream",
     "text": [
      "Accuracy\n",
      "Обучающая выборка: 0.9823651452282157\n",
      "Тестовая выборка: 0.7807153965785381\n"
     ]
    }
   ],
   "source": [
    "print(\"Accuracy\")\n",
    "print(\"Обучающая выборка:\", accuracy_score(target_train, train_predictions))\n",
    "print(\"Тестовая выборка:\", accuracy_score(target_test, test_predictions))"
   ]
  },
  {
   "cell_type": "markdown",
   "metadata": {},
   "source": [
    "Здесь получилось, что обученная модель показалась себя намного лучше, ближе к 1.0, а тестовая справилась, но не намного хуже валидационного выборки, разница лишь в сотых, отн. погрешность около 0,6%"
   ]
  },
  {
   "cell_type": "markdown",
   "metadata": {},
   "source": [
    "<div class=\"alert-warning\"> \n",
    "<b>Комментарий ревьюера 💡 Третья итерация </b>\n",
    "\n",
    "Почему выбрал не ту модель, которая показала наилучшее качество ранее?"
   ]
  },
  {
   "cell_type": "markdown",
   "metadata": {},
   "source": [
    "<div class=\"alert alert-block alert-info\">\n",
    "\n",
    "По той же причине - спешки сдать проект до НГ\n",
    "    \n",
    "</div>"
   ]
  },
  {
   "cell_type": "markdown",
   "metadata": {},
   "source": [
    "<div class=\"alert-danger\"> \n",
    "<b>Комментарий ревьюера ❌ Третья итерация </b>\n",
    "\n",
    "Ты не проверил модель на тестовой выборке, ты ее пока даже не создал"
   ]
  },
  {
   "cell_type": "markdown",
   "metadata": {},
   "source": [
    "<div class=\"alert-danger\"> \n",
    "<b>Комментарий ревьюера ❌</b> \n",
    "\n",
    "Код не воспроизводится. Да и не нужно создавать дополнительную функцию, используй тот же accuracy"
   ]
  },
  {
   "cell_type": "markdown",
   "metadata": {},
   "source": [
    "<div class=\"alert-danger\"> \n",
    "<b>Комментарий ревьюера ❌</b> \n",
    "\n",
    "Пункт не сделан :("
   ]
  },
  {
   "cell_type": "markdown",
   "metadata": {},
   "source": [
    "## (бонус) Проверьте модели на адекватность"
   ]
  },
  {
   "cell_type": "code",
   "execution_count": 14,
   "metadata": {},
   "outputs": [],
   "source": [
    "# Подключаем библиотеку еще\n",
    "from sklearn.dummy import DummyClassifier"
   ]
  },
  {
   "cell_type": "code",
   "execution_count": 15,
   "metadata": {},
   "outputs": [
    {
     "data": {
      "text/plain": [
       "0.6924273858921162"
      ]
     },
     "execution_count": 15,
     "metadata": {},
     "output_type": "execute_result"
    }
   ],
   "source": [
    "# Устанавливаем стратегию прогноза как \"самый частый случай\", \n",
    "# т.е. частую метку класса в наблюдаемом аргументе target, \n",
    "# переданном для соответствия\n",
    "dummy_clf = DummyClassifier(strategy = \"most_frequent\")\n",
    "\n",
    "# Обучим модель\n",
    "dummy_clf.fit(features_train, target_train)\n",
    "\n",
    "# Создаем модель, указав стратению как \"самый частый случай\"\n",
    "DummyClassifier(strategy = 'most_frequent')\n",
    "\n",
    "# Получим предсказания модели\n",
    "dummy_clf.predict(features_train)\n",
    "\n",
    "# Посчитаем качество модели\n",
    "dummy_clf.score(features_train, target_train)"
   ]
  },
  {
   "cell_type": "markdown",
   "metadata": {},
   "source": [
    "<div class=\"alert-success\"> \n",
    "<b>Комментарий ревьюера 👍 Третья итерация </b>\n",
    "\n",
    "Можно сделать легче, посмотреть на баланс классов: например, если у нас 90 процентов таргета это \"1\", а остальные \"10\" - 0, то мы можем тупо выдавать каждый раз цифру 1 и получать метрику 90 %. Любая модель, которая будет выдавать качество ниже этого - плохая/неадекватная"
   ]
  },
  {
   "cell_type": "markdown",
   "metadata": {},
   "source": [
    "Получилось, что обученная модель не является идеальным по сравнению остальных"
   ]
  },
  {
   "cell_type": "code",
   "execution_count": 16,
   "metadata": {},
   "outputs": [
    {
     "data": {
      "text/plain": [
       "0    2229\n",
       "1     985\n",
       "Name: is_ultra, dtype: int64"
      ]
     },
     "execution_count": 16,
     "metadata": {},
     "output_type": "execute_result"
    }
   ],
   "source": [
    "df['is_ultra'].value_counts()"
   ]
  },
  {
   "cell_type": "markdown",
   "metadata": {},
   "source": [
    "<div class=\"alert alert-block alert-info\">\n",
    "\n",
    "Если присмотреться, то действительно да, тут можно посмотреть как \n",
    "\n",
    "2229 + 985 = 3214\n",
    "\n",
    "100% - 3214\n",
    "\n",
    "69% - 2229\n",
    "\n",
    "31% - 985\n",
    "    \n",
    "</div>"
   ]
  },
  {
   "cell_type": "markdown",
   "metadata": {},
   "source": [
    "<div class=\"alert-danger\"> \n",
    "<b>Комментарий ревьюера ❌ Третья итерация </b>\n",
    "\n",
    "Нет верного разбиения на выборки, неверно обучается модель, неверно проверяется модель. Также оставил пару желтых комментарий, дай, пожалуйста, комментарий к ним \n",
    "    \n",
    "И не удаляй комментарии."
   ]
  },
  {
   "cell_type": "markdown",
   "metadata": {},
   "source": [
    "<div class=\"alert-danger\"> \n",
    "<b>Комментарий ревьюера ❌</b> \n",
    "\n",
    "Проект не доделан, код не воспроизводится. Возникло ощущение, что ты списывал и просто запутался в том, что делал. Подскажи, так ли это или нужна ли тебе какая-то помощь?"
   ]
  },
  {
   "cell_type": "markdown",
   "metadata": {},
   "source": [
    "## Чек-лист готовности проекта"
   ]
  },
  {
   "cell_type": "markdown",
   "metadata": {},
   "source": [
    "Поставьте 'x' в выполненных пунктах. Далее нажмите Shift+Enter."
   ]
  },
  {
   "cell_type": "markdown",
   "metadata": {},
   "source": [
    "- [x] Jupyter Notebook открыт\n",
    "- [x] Весь код исполняется без ошибок\n",
    "- [x] Ячейки с кодом расположены в порядке исполнения\n",
    "- [x] Выполнено задание 1: данные загружены и изучены\n",
    "- [x] Выполнено задание 2: данные разбиты на три выборки\n",
    "- [x] Выполнено задание 3: проведено исследование моделей\n",
    "    - [x] Рассмотрено больше одной модели\n",
    "    - [x] Рассмотрено хотя бы 3 значения гипепараметров для какой-нибудь модели\n",
    "    - [x] Написаны выводы по результатам исследования\n",
    "- [x] Выполнено задание 3: Проведено тестирование\n",
    "- [x] Удалось достичь accuracy не меньше 0.75\n"
   ]
  }
 ],
 "metadata": {
  "ExecuteTimeLog": [
   {
    "duration": 480,
    "start_time": "2022-12-30T09:53:49.268Z"
   },
   {
    "duration": 3,
    "start_time": "2022-12-30T09:55:11.977Z"
   },
   {
    "duration": 10,
    "start_time": "2022-12-30T09:55:25.917Z"
   },
   {
    "duration": 10,
    "start_time": "2022-12-30T09:55:49.181Z"
   },
   {
    "duration": 2,
    "start_time": "2022-12-30T09:56:09.670Z"
   },
   {
    "duration": 12,
    "start_time": "2022-12-30T09:56:32.062Z"
   },
   {
    "duration": 35,
    "start_time": "2022-12-30T09:56:37.398Z"
   },
   {
    "duration": 37,
    "start_time": "2022-12-30T09:56:42.267Z"
   },
   {
    "duration": 10,
    "start_time": "2022-12-30T09:56:42.306Z"
   },
   {
    "duration": 7,
    "start_time": "2022-12-30T09:56:42.318Z"
   },
   {
    "duration": 14,
    "start_time": "2022-12-30T09:56:42.327Z"
   },
   {
    "duration": 10,
    "start_time": "2022-12-30T09:56:42.343Z"
   },
   {
    "duration": 3,
    "start_time": "2022-12-30T09:56:42.355Z"
   },
   {
    "duration": 36,
    "start_time": "2022-12-30T09:56:46.483Z"
   },
   {
    "duration": 9,
    "start_time": "2022-12-30T09:56:46.521Z"
   },
   {
    "duration": 9,
    "start_time": "2022-12-30T09:56:46.531Z"
   },
   {
    "duration": 15,
    "start_time": "2022-12-30T09:56:46.541Z"
   },
   {
    "duration": 12,
    "start_time": "2022-12-30T09:56:46.557Z"
   },
   {
    "duration": 5,
    "start_time": "2022-12-30T09:56:46.570Z"
   },
   {
    "duration": 9,
    "start_time": "2022-12-30T09:57:03.591Z"
   },
   {
    "duration": 7,
    "start_time": "2022-12-30T09:57:43.215Z"
   },
   {
    "duration": 5,
    "start_time": "2022-12-30T09:57:51.624Z"
   },
   {
    "duration": 3,
    "start_time": "2022-12-30T09:57:55.704Z"
   },
   {
    "duration": 36,
    "start_time": "2022-12-30T09:58:03.720Z"
   },
   {
    "duration": 9,
    "start_time": "2022-12-30T09:58:03.759Z"
   },
   {
    "duration": 11,
    "start_time": "2022-12-30T09:58:03.770Z"
   },
   {
    "duration": 7,
    "start_time": "2022-12-30T09:58:03.783Z"
   },
   {
    "duration": 694,
    "start_time": "2022-12-30T10:08:27.492Z"
   },
   {
    "duration": 101,
    "start_time": "2022-12-30T10:12:02.585Z"
   },
   {
    "duration": 36,
    "start_time": "2022-12-30T10:12:06.663Z"
   },
   {
    "duration": 9,
    "start_time": "2022-12-30T10:12:06.701Z"
   },
   {
    "duration": 13,
    "start_time": "2022-12-30T10:12:06.712Z"
   },
   {
    "duration": 16,
    "start_time": "2022-12-30T10:12:06.727Z"
   },
   {
    "duration": 28,
    "start_time": "2022-12-30T10:12:06.745Z"
   },
   {
    "duration": 6,
    "start_time": "2022-12-30T10:12:06.775Z"
   },
   {
    "duration": 5,
    "start_time": "2022-12-30T10:12:46.240Z"
   },
   {
    "duration": 46,
    "start_time": "2022-12-30T10:15:01.859Z"
   },
   {
    "duration": 3,
    "start_time": "2022-12-30T10:15:11.250Z"
   },
   {
    "duration": 4,
    "start_time": "2022-12-30T10:15:45.596Z"
   },
   {
    "duration": 2,
    "start_time": "2022-12-30T10:19:01.256Z"
   },
   {
    "duration": 35,
    "start_time": "2022-12-30T10:30:03.716Z"
   },
   {
    "duration": 3,
    "start_time": "2022-12-30T10:30:42.799Z"
   },
   {
    "duration": 4739,
    "start_time": "2022-12-30T10:30:43.709Z"
   },
   {
    "duration": 4823,
    "start_time": "2022-12-30T10:31:02.238Z"
   },
   {
    "duration": 4668,
    "start_time": "2022-12-30T10:31:11.838Z"
   },
   {
    "duration": 3,
    "start_time": "2022-12-30T10:31:17.430Z"
   },
   {
    "duration": 4,
    "start_time": "2022-12-30T10:31:25.334Z"
   },
   {
    "duration": 9,
    "start_time": "2022-12-30T10:33:25.095Z"
   },
   {
    "duration": 4,
    "start_time": "2022-12-30T10:33:27.407Z"
   },
   {
    "duration": 8,
    "start_time": "2022-12-30T10:33:44.464Z"
   },
   {
    "duration": 3,
    "start_time": "2022-12-30T10:33:45.369Z"
   },
   {
    "duration": 11,
    "start_time": "2022-12-30T10:37:03.053Z"
   },
   {
    "duration": 3,
    "start_time": "2022-12-30T10:37:29.828Z"
   },
   {
    "duration": 10,
    "start_time": "2022-12-30T10:37:33.309Z"
   },
   {
    "duration": 3,
    "start_time": "2022-12-30T10:37:39.703Z"
   },
   {
    "duration": 3,
    "start_time": "2022-12-30T10:37:43.203Z"
   },
   {
    "duration": 5008,
    "start_time": "2022-12-30T10:37:44.287Z"
   },
   {
    "duration": 3,
    "start_time": "2022-12-30T10:37:51.133Z"
   },
   {
    "duration": 9,
    "start_time": "2022-12-30T10:37:52.205Z"
   },
   {
    "duration": 3,
    "start_time": "2022-12-30T10:37:53.325Z"
   },
   {
    "duration": 10,
    "start_time": "2022-12-30T10:37:54.350Z"
   },
   {
    "duration": 42,
    "start_time": "2022-12-30T10:38:03.206Z"
   },
   {
    "duration": 11,
    "start_time": "2022-12-30T10:38:03.250Z"
   },
   {
    "duration": 37,
    "start_time": "2022-12-30T10:38:03.263Z"
   },
   {
    "duration": 16,
    "start_time": "2022-12-30T10:38:03.301Z"
   },
   {
    "duration": 22,
    "start_time": "2022-12-30T10:38:03.320Z"
   },
   {
    "duration": 17,
    "start_time": "2022-12-30T10:38:03.344Z"
   },
   {
    "duration": 24,
    "start_time": "2022-12-30T10:38:03.363Z"
   },
   {
    "duration": 8,
    "start_time": "2022-12-30T10:38:03.389Z"
   },
   {
    "duration": 4819,
    "start_time": "2022-12-30T10:38:03.399Z"
   },
   {
    "duration": 4,
    "start_time": "2022-12-30T10:38:08.221Z"
   },
   {
    "duration": 8,
    "start_time": "2022-12-30T10:38:08.227Z"
   },
   {
    "duration": 6,
    "start_time": "2022-12-30T10:38:08.236Z"
   },
   {
    "duration": 16,
    "start_time": "2022-12-30T10:38:08.244Z"
   },
   {
    "duration": 1,
    "start_time": "2022-12-30T10:38:08.261Z"
   },
   {
    "duration": 311,
    "start_time": "2022-12-30T10:38:38.360Z"
   },
   {
    "duration": 5,
    "start_time": "2022-12-30T10:38:46.445Z"
   },
   {
    "duration": 319,
    "start_time": "2022-12-30T10:38:47.032Z"
   },
   {
    "duration": 4,
    "start_time": "2022-12-30T10:38:48.801Z"
   },
   {
    "duration": 3,
    "start_time": "2022-12-30T10:40:56.298Z"
   },
   {
    "duration": 16,
    "start_time": "2022-12-30T10:40:58.505Z"
   },
   {
    "duration": 3,
    "start_time": "2022-12-30T10:43:31.427Z"
   },
   {
    "duration": 11,
    "start_time": "2022-12-30T10:45:38.182Z"
   },
   {
    "duration": 8,
    "start_time": "2022-12-30T10:46:07.062Z"
   },
   {
    "duration": 12,
    "start_time": "2022-12-30T10:46:10.935Z"
   },
   {
    "duration": 16,
    "start_time": "2022-12-30T10:46:36.568Z"
   },
   {
    "duration": 8,
    "start_time": "2022-12-30T10:46:43.044Z"
   },
   {
    "duration": 5,
    "start_time": "2022-12-30T10:46:47.736Z"
   },
   {
    "duration": 3,
    "start_time": "2022-12-30T10:52:56.454Z"
   },
   {
    "duration": 281,
    "start_time": "2022-12-30T10:53:32.056Z"
   },
   {
    "duration": 3,
    "start_time": "2022-12-30T10:53:33.554Z"
   },
   {
    "duration": 3,
    "start_time": "2022-12-30T10:55:41.177Z"
   },
   {
    "duration": 32,
    "start_time": "2022-12-30T10:56:24.609Z"
   },
   {
    "duration": 2,
    "start_time": "2022-12-30T10:56:29.666Z"
   },
   {
    "duration": 33,
    "start_time": "2022-12-30T10:57:16.362Z"
   },
   {
    "duration": 33,
    "start_time": "2022-12-30T10:57:22.819Z"
   },
   {
    "duration": 285,
    "start_time": "2022-12-30T10:57:46.459Z"
   },
   {
    "duration": 38,
    "start_time": "2022-12-30T10:57:54.723Z"
   },
   {
    "duration": 308,
    "start_time": "2022-12-30T10:57:56.154Z"
   },
   {
    "duration": 3,
    "start_time": "2022-12-30T10:57:57.282Z"
   },
   {
    "duration": 3,
    "start_time": "2022-12-30T10:57:58.731Z"
   },
   {
    "duration": 39,
    "start_time": "2022-12-30T10:57:59.679Z"
   },
   {
    "duration": 3,
    "start_time": "2022-12-30T10:58:00.547Z"
   },
   {
    "duration": 9,
    "start_time": "2022-12-30T10:59:26.332Z"
   },
   {
    "duration": 12,
    "start_time": "2022-12-30T10:59:41.366Z"
   },
   {
    "duration": 7,
    "start_time": "2022-12-30T11:00:43.774Z"
   },
   {
    "duration": 15,
    "start_time": "2022-12-30T11:00:46.166Z"
   },
   {
    "duration": 19,
    "start_time": "2022-12-30T11:00:53.127Z"
   },
   {
    "duration": 33,
    "start_time": "2022-12-30T11:01:44.575Z"
   },
   {
    "duration": 5,
    "start_time": "2022-12-30T11:02:35.399Z"
   },
   {
    "duration": 36,
    "start_time": "2022-12-30T11:03:06.760Z"
   },
   {
    "duration": 10,
    "start_time": "2022-12-30T11:03:06.798Z"
   },
   {
    "duration": 11,
    "start_time": "2022-12-30T11:03:06.809Z"
   },
   {
    "duration": 12,
    "start_time": "2022-12-30T11:03:06.822Z"
   },
   {
    "duration": 8,
    "start_time": "2022-12-30T11:03:06.836Z"
   },
   {
    "duration": 10,
    "start_time": "2022-12-30T11:03:06.846Z"
   },
   {
    "duration": 10,
    "start_time": "2022-12-30T11:03:06.857Z"
   },
   {
    "duration": 11,
    "start_time": "2022-12-30T11:03:06.868Z"
   },
   {
    "duration": 17,
    "start_time": "2022-12-30T11:03:06.881Z"
   },
   {
    "duration": 8,
    "start_time": "2022-12-30T11:03:06.901Z"
   },
   {
    "duration": 3,
    "start_time": "2022-12-30T11:03:06.911Z"
   },
   {
    "duration": 304,
    "start_time": "2022-12-30T11:03:06.916Z"
   },
   {
    "duration": 3,
    "start_time": "2022-12-30T11:03:07.221Z"
   },
   {
    "duration": 37,
    "start_time": "2022-12-30T11:03:07.226Z"
   },
   {
    "duration": 3,
    "start_time": "2022-12-30T11:03:07.265Z"
   },
   {
    "duration": 33,
    "start_time": "2022-12-30T11:03:07.278Z"
   },
   {
    "duration": 11,
    "start_time": "2022-12-30T11:05:38.980Z"
   },
   {
    "duration": 11,
    "start_time": "2022-12-30T11:07:47.471Z"
   },
   {
    "duration": 9,
    "start_time": "2022-12-30T11:08:03.294Z"
   },
   {
    "duration": 10,
    "start_time": "2022-12-30T11:08:08.527Z"
   },
   {
    "duration": 78,
    "start_time": "2022-12-30T11:10:58.473Z"
   },
   {
    "duration": 3,
    "start_time": "2022-12-30T11:12:55.731Z"
   },
   {
    "duration": 6,
    "start_time": "2022-12-30T11:14:29.885Z"
   },
   {
    "duration": 6,
    "start_time": "2022-12-30T11:21:19.422Z"
   },
   {
    "duration": 6,
    "start_time": "2022-12-30T11:22:12.600Z"
   },
   {
    "duration": 35,
    "start_time": "2022-12-30T11:22:16.732Z"
   },
   {
    "duration": 9,
    "start_time": "2022-12-30T11:22:16.769Z"
   },
   {
    "duration": 10,
    "start_time": "2022-12-30T11:22:16.780Z"
   },
   {
    "duration": 8,
    "start_time": "2022-12-30T11:22:16.791Z"
   },
   {
    "duration": 10,
    "start_time": "2022-12-30T11:22:16.801Z"
   },
   {
    "duration": 7,
    "start_time": "2022-12-30T11:22:16.813Z"
   },
   {
    "duration": 7,
    "start_time": "2022-12-30T11:22:16.821Z"
   },
   {
    "duration": 5,
    "start_time": "2022-12-30T11:22:16.830Z"
   },
   {
    "duration": 7,
    "start_time": "2022-12-30T11:22:16.837Z"
   },
   {
    "duration": 322,
    "start_time": "2022-12-30T11:22:16.845Z"
   },
   {
    "duration": 9,
    "start_time": "2022-12-30T11:22:17.169Z"
   },
   {
    "duration": 36,
    "start_time": "2022-12-30T11:22:17.180Z"
   },
   {
    "duration": 4,
    "start_time": "2022-12-30T11:22:17.217Z"
   },
   {
    "duration": 56,
    "start_time": "2022-12-30T11:22:17.223Z"
   },
   {
    "duration": 11,
    "start_time": "2022-12-30T11:22:17.281Z"
   },
   {
    "duration": 9,
    "start_time": "2022-12-30T11:22:17.293Z"
   },
   {
    "duration": 11,
    "start_time": "2022-12-30T11:22:17.304Z"
   },
   {
    "duration": 36,
    "start_time": "2022-12-30T12:14:21.333Z"
   },
   {
    "duration": 13,
    "start_time": "2022-12-30T12:14:21.371Z"
   },
   {
    "duration": 7,
    "start_time": "2022-12-30T12:14:21.386Z"
   },
   {
    "duration": 6,
    "start_time": "2022-12-30T12:14:21.396Z"
   },
   {
    "duration": 7,
    "start_time": "2022-12-30T12:14:21.404Z"
   },
   {
    "duration": 8,
    "start_time": "2022-12-30T12:14:21.412Z"
   },
   {
    "duration": 7,
    "start_time": "2022-12-30T12:14:21.422Z"
   },
   {
    "duration": 6,
    "start_time": "2022-12-30T12:14:21.431Z"
   },
   {
    "duration": 5,
    "start_time": "2022-12-30T12:14:21.439Z"
   },
   {
    "duration": 327,
    "start_time": "2022-12-30T12:14:21.447Z"
   },
   {
    "duration": 4,
    "start_time": "2022-12-30T12:14:21.775Z"
   },
   {
    "duration": 39,
    "start_time": "2022-12-30T12:14:21.780Z"
   },
   {
    "duration": 3,
    "start_time": "2022-12-30T12:14:21.821Z"
   },
   {
    "duration": 39,
    "start_time": "2022-12-30T12:14:21.825Z"
   },
   {
    "duration": 22,
    "start_time": "2022-12-30T12:14:21.866Z"
   },
   {
    "duration": 8,
    "start_time": "2022-12-30T12:14:21.890Z"
   },
   {
    "duration": 11,
    "start_time": "2022-12-30T12:14:21.900Z"
   },
   {
    "duration": 39,
    "start_time": "2022-12-30T12:38:31.727Z"
   },
   {
    "duration": 9,
    "start_time": "2022-12-30T12:38:31.768Z"
   },
   {
    "duration": 8,
    "start_time": "2022-12-30T12:38:31.779Z"
   },
   {
    "duration": 3,
    "start_time": "2022-12-30T12:38:31.788Z"
   },
   {
    "duration": 10,
    "start_time": "2022-12-30T12:38:31.793Z"
   },
   {
    "duration": 10,
    "start_time": "2022-12-30T12:38:31.804Z"
   },
   {
    "duration": 27,
    "start_time": "2022-12-30T12:38:31.816Z"
   },
   {
    "duration": 7,
    "start_time": "2022-12-30T12:38:31.845Z"
   },
   {
    "duration": 6,
    "start_time": "2022-12-30T12:38:31.854Z"
   },
   {
    "duration": 319,
    "start_time": "2022-12-30T12:38:31.861Z"
   },
   {
    "duration": 3,
    "start_time": "2022-12-30T12:38:32.182Z"
   },
   {
    "duration": 37,
    "start_time": "2022-12-30T12:38:45.689Z"
   },
   {
    "duration": 9,
    "start_time": "2022-12-30T12:38:46.673Z"
   },
   {
    "duration": 6,
    "start_time": "2022-12-30T12:38:47.071Z"
   },
   {
    "duration": 3,
    "start_time": "2022-12-30T12:38:48.706Z"
   },
   {
    "duration": 5,
    "start_time": "2022-12-30T12:38:49.121Z"
   },
   {
    "duration": 5,
    "start_time": "2022-12-30T12:38:50.204Z"
   },
   {
    "duration": 14,
    "start_time": "2022-12-30T12:38:51.723Z"
   },
   {
    "duration": 5,
    "start_time": "2022-12-30T12:38:55.989Z"
   },
   {
    "duration": 406,
    "start_time": "2022-12-30T12:42:49.703Z"
   },
   {
    "duration": 15,
    "start_time": "2022-12-30T12:42:50.111Z"
   },
   {
    "duration": 17,
    "start_time": "2022-12-30T12:42:50.128Z"
   },
   {
    "duration": 815,
    "start_time": "2022-12-30T12:42:50.147Z"
   },
   {
    "duration": 4,
    "start_time": "2022-12-30T12:42:50.965Z"
   },
   {
    "duration": 11,
    "start_time": "2022-12-30T12:42:50.970Z"
   },
   {
    "duration": 100,
    "start_time": "2022-12-30T12:42:50.983Z"
   },
   {
    "duration": 0,
    "start_time": "2022-12-30T12:42:51.085Z"
   },
   {
    "duration": 0,
    "start_time": "2022-12-30T12:42:51.086Z"
   },
   {
    "duration": 0,
    "start_time": "2022-12-30T12:42:51.087Z"
   },
   {
    "duration": 0,
    "start_time": "2022-12-30T12:42:51.088Z"
   },
   {
    "duration": 0,
    "start_time": "2022-12-30T12:42:51.089Z"
   },
   {
    "duration": 0,
    "start_time": "2022-12-30T12:42:51.090Z"
   },
   {
    "duration": 0,
    "start_time": "2022-12-30T12:42:51.091Z"
   },
   {
    "duration": 0,
    "start_time": "2022-12-30T12:42:51.092Z"
   },
   {
    "duration": 0,
    "start_time": "2022-12-30T12:42:51.093Z"
   },
   {
    "duration": 0,
    "start_time": "2022-12-30T12:42:51.095Z"
   },
   {
    "duration": 87,
    "start_time": "2022-12-30T12:44:44.473Z"
   },
   {
    "duration": 43,
    "start_time": "2022-12-30T12:44:53.373Z"
   },
   {
    "duration": 311,
    "start_time": "2022-12-30T12:44:56.607Z"
   },
   {
    "duration": 3,
    "start_time": "2022-12-30T12:45:00.506Z"
   },
   {
    "duration": 42,
    "start_time": "2022-12-30T12:45:03.923Z"
   },
   {
    "duration": 3,
    "start_time": "2022-12-30T12:45:25.654Z"
   },
   {
    "duration": 36,
    "start_time": "2022-12-30T12:45:26.173Z"
   },
   {
    "duration": 14,
    "start_time": "2022-12-30T12:45:37.557Z"
   },
   {
    "duration": 2,
    "start_time": "2022-12-30T12:46:37.578Z"
   },
   {
    "duration": 6,
    "start_time": "2022-12-30T12:46:37.993Z"
   },
   {
    "duration": 481,
    "start_time": "2022-12-30T13:09:17.995Z"
   },
   {
    "duration": 27,
    "start_time": "2022-12-30T13:09:18.478Z"
   },
   {
    "duration": 6,
    "start_time": "2022-12-30T13:09:18.507Z"
   },
   {
    "duration": 733,
    "start_time": "2022-12-30T13:09:18.515Z"
   },
   {
    "duration": 5,
    "start_time": "2022-12-30T13:09:19.249Z"
   },
   {
    "duration": 8,
    "start_time": "2022-12-30T13:09:19.255Z"
   },
   {
    "duration": 99,
    "start_time": "2022-12-30T13:09:19.265Z"
   },
   {
    "duration": 0,
    "start_time": "2022-12-30T13:09:19.366Z"
   },
   {
    "duration": 0,
    "start_time": "2022-12-30T13:09:19.367Z"
   },
   {
    "duration": 0,
    "start_time": "2022-12-30T13:09:19.368Z"
   },
   {
    "duration": 0,
    "start_time": "2022-12-30T13:09:19.369Z"
   },
   {
    "duration": 0,
    "start_time": "2022-12-30T13:09:19.370Z"
   },
   {
    "duration": 0,
    "start_time": "2022-12-30T13:09:19.378Z"
   },
   {
    "duration": 0,
    "start_time": "2022-12-30T13:09:19.379Z"
   },
   {
    "duration": 0,
    "start_time": "2022-12-30T13:09:19.387Z"
   },
   {
    "duration": 0,
    "start_time": "2022-12-30T13:09:19.390Z"
   },
   {
    "duration": 0,
    "start_time": "2022-12-30T13:09:19.393Z"
   },
   {
    "duration": 172,
    "start_time": "2022-12-30T13:18:38.875Z"
   },
   {
    "duration": 366,
    "start_time": "2022-12-30T13:18:40.615Z"
   },
   {
    "duration": 4,
    "start_time": "2022-12-30T13:18:42.407Z"
   },
   {
    "duration": 50,
    "start_time": "2022-12-30T13:18:43.651Z"
   },
   {
    "duration": 3,
    "start_time": "2022-12-30T13:18:46.131Z"
   },
   {
    "duration": 48,
    "start_time": "2022-12-30T13:18:47.171Z"
   },
   {
    "duration": 16,
    "start_time": "2022-12-30T13:18:59.560Z"
   },
   {
    "duration": 21,
    "start_time": "2022-12-30T13:19:46.439Z"
   },
   {
    "duration": 5,
    "start_time": "2022-12-30T13:20:57.444Z"
   },
   {
    "duration": 15,
    "start_time": "2022-12-30T13:21:01.036Z"
   },
   {
    "duration": 5,
    "start_time": "2022-12-30T13:21:05.709Z"
   },
   {
    "duration": 5,
    "start_time": "2022-12-30T13:21:14.418Z"
   },
   {
    "duration": 9,
    "start_time": "2022-12-30T13:22:40.467Z"
   },
   {
    "duration": 2,
    "start_time": "2022-12-30T13:23:23.883Z"
   },
   {
    "duration": 8,
    "start_time": "2022-12-30T13:23:24.612Z"
   },
   {
    "duration": 47,
    "start_time": "2022-12-30T13:23:44.257Z"
   },
   {
    "duration": 12,
    "start_time": "2022-12-30T13:23:44.307Z"
   },
   {
    "duration": 14,
    "start_time": "2022-12-30T13:23:44.321Z"
   },
   {
    "duration": 8,
    "start_time": "2022-12-30T13:23:44.336Z"
   },
   {
    "duration": 8,
    "start_time": "2022-12-30T13:23:44.348Z"
   },
   {
    "duration": 29,
    "start_time": "2022-12-30T13:23:44.358Z"
   },
   {
    "duration": 16,
    "start_time": "2022-12-30T13:23:44.390Z"
   },
   {
    "duration": 339,
    "start_time": "2022-12-30T13:23:44.408Z"
   },
   {
    "duration": 3,
    "start_time": "2022-12-30T13:23:44.749Z"
   },
   {
    "duration": 57,
    "start_time": "2022-12-30T13:23:44.754Z"
   },
   {
    "duration": 3,
    "start_time": "2022-12-30T13:23:44.813Z"
   },
   {
    "duration": 45,
    "start_time": "2022-12-30T13:23:44.818Z"
   },
   {
    "duration": 26,
    "start_time": "2022-12-30T13:23:44.865Z"
   },
   {
    "duration": 14,
    "start_time": "2022-12-30T13:23:44.895Z"
   },
   {
    "duration": 14,
    "start_time": "2022-12-30T13:23:44.911Z"
   },
   {
    "duration": 37,
    "start_time": "2022-12-30T13:29:09.106Z"
   },
   {
    "duration": 3,
    "start_time": "2022-12-30T13:29:10.252Z"
   },
   {
    "duration": 55,
    "start_time": "2022-12-30T13:29:13.712Z"
   },
   {
    "duration": 5,
    "start_time": "2022-12-30T13:29:14.613Z"
   },
   {
    "duration": 35,
    "start_time": "2022-12-30T13:29:18.029Z"
   },
   {
    "duration": 36,
    "start_time": "2022-12-30T13:29:41.715Z"
   },
   {
    "duration": 9,
    "start_time": "2022-12-30T13:29:41.752Z"
   },
   {
    "duration": 13,
    "start_time": "2022-12-30T13:29:41.763Z"
   },
   {
    "duration": 38,
    "start_time": "2022-12-30T13:29:41.778Z"
   },
   {
    "duration": 10,
    "start_time": "2022-12-30T13:29:41.818Z"
   },
   {
    "duration": 10,
    "start_time": "2022-12-30T13:29:41.829Z"
   },
   {
    "duration": 6,
    "start_time": "2022-12-30T13:29:41.841Z"
   },
   {
    "duration": 324,
    "start_time": "2022-12-30T13:29:41.849Z"
   },
   {
    "duration": 6,
    "start_time": "2022-12-30T13:29:42.175Z"
   },
   {
    "duration": 72,
    "start_time": "2022-12-30T13:29:42.184Z"
   },
   {
    "duration": 4,
    "start_time": "2022-12-30T13:29:42.257Z"
   },
   {
    "duration": 69,
    "start_time": "2022-12-30T13:29:42.263Z"
   },
   {
    "duration": 8,
    "start_time": "2022-12-30T13:29:42.334Z"
   },
   {
    "duration": 11,
    "start_time": "2022-12-30T13:29:42.345Z"
   },
   {
    "duration": 11,
    "start_time": "2022-12-30T13:29:42.358Z"
   },
   {
    "duration": 551,
    "start_time": "2023-01-03T19:12:26.093Z"
   },
   {
    "duration": 17,
    "start_time": "2023-01-03T19:12:26.647Z"
   },
   {
    "duration": 22,
    "start_time": "2023-01-03T19:12:26.666Z"
   },
   {
    "duration": 948,
    "start_time": "2023-01-03T19:12:26.690Z"
   },
   {
    "duration": 4,
    "start_time": "2023-01-03T19:12:27.640Z"
   },
   {
    "duration": 17,
    "start_time": "2023-01-03T19:12:27.646Z"
   },
   {
    "duration": 66,
    "start_time": "2023-01-03T19:12:27.665Z"
   },
   {
    "duration": 341,
    "start_time": "2023-01-03T19:12:27.733Z"
   },
   {
    "duration": 4,
    "start_time": "2023-01-03T19:12:28.076Z"
   },
   {
    "duration": 64,
    "start_time": "2023-01-03T19:12:28.083Z"
   },
   {
    "duration": 4,
    "start_time": "2023-01-03T19:12:28.149Z"
   },
   {
    "duration": 62,
    "start_time": "2023-01-03T19:12:28.156Z"
   },
   {
    "duration": 6,
    "start_time": "2023-01-03T19:12:28.220Z"
   },
   {
    "duration": 36,
    "start_time": "2023-01-03T19:12:28.229Z"
   },
   {
    "duration": 15,
    "start_time": "2023-01-03T19:12:28.268Z"
   },
   {
    "duration": 4,
    "start_time": "2023-01-03T19:12:54.512Z"
   },
   {
    "duration": 5,
    "start_time": "2023-01-03T19:12:58.803Z"
   },
   {
    "duration": 4,
    "start_time": "2023-01-03T19:13:27.347Z"
   },
   {
    "duration": 4,
    "start_time": "2023-01-03T19:13:27.495Z"
   },
   {
    "duration": 5,
    "start_time": "2023-01-03T19:13:32.133Z"
   },
   {
    "duration": 6,
    "start_time": "2023-01-03T19:13:37.246Z"
   },
   {
    "duration": 5,
    "start_time": "2023-01-03T19:13:42.212Z"
   },
   {
    "duration": 3,
    "start_time": "2023-01-03T19:13:53.695Z"
   },
   {
    "duration": 58,
    "start_time": "2023-01-08T10:14:31.093Z"
   },
   {
    "duration": 497,
    "start_time": "2023-01-08T10:14:38.252Z"
   },
   {
    "duration": 18,
    "start_time": "2023-01-08T10:14:40.287Z"
   },
   {
    "duration": 7,
    "start_time": "2023-01-08T10:14:41.470Z"
   },
   {
    "duration": 767,
    "start_time": "2023-01-08T10:14:43.126Z"
   },
   {
    "duration": 4,
    "start_time": "2023-01-08T10:14:44.789Z"
   },
   {
    "duration": 7,
    "start_time": "2023-01-08T10:14:45.764Z"
   },
   {
    "duration": 3,
    "start_time": "2023-01-08T10:17:32.434Z"
   },
   {
    "duration": 3,
    "start_time": "2023-01-08T10:17:39.373Z"
   },
   {
    "duration": 3,
    "start_time": "2023-01-08T10:17:51.273Z"
   },
   {
    "duration": 6,
    "start_time": "2023-01-08T10:18:09.584Z"
   },
   {
    "duration": 5,
    "start_time": "2023-01-08T10:18:20.888Z"
   },
   {
    "duration": 7,
    "start_time": "2023-01-08T10:18:36.864Z"
   },
   {
    "duration": 6,
    "start_time": "2023-01-08T10:18:47.096Z"
   },
   {
    "duration": 10,
    "start_time": "2023-01-08T10:25:37.021Z"
   },
   {
    "duration": 6,
    "start_time": "2023-01-08T10:25:38.479Z"
   },
   {
    "duration": 6,
    "start_time": "2023-01-08T10:26:43.705Z"
   },
   {
    "duration": 7,
    "start_time": "2023-01-08T10:26:45.008Z"
   },
   {
    "duration": 46,
    "start_time": "2023-01-08T10:27:44.273Z"
   },
   {
    "duration": 289,
    "start_time": "2023-01-08T10:27:46.633Z"
   },
   {
    "duration": 3,
    "start_time": "2023-01-08T10:27:48.721Z"
   },
   {
    "duration": 116,
    "start_time": "2023-01-08T10:31:51.021Z"
   },
   {
    "duration": 20,
    "start_time": "2023-01-08T10:32:55.063Z"
   },
   {
    "duration": 29,
    "start_time": "2023-01-08T10:32:58.229Z"
   },
   {
    "duration": 3,
    "start_time": "2023-01-08T10:33:03.486Z"
   },
   {
    "duration": 40,
    "start_time": "2023-01-08T10:33:30.621Z"
   },
   {
    "duration": 17,
    "start_time": "2023-01-08T10:33:32.921Z"
   },
   {
    "duration": 31,
    "start_time": "2023-01-08T10:33:34.488Z"
   },
   {
    "duration": 4,
    "start_time": "2023-01-08T10:33:35.820Z"
   },
   {
    "duration": 3,
    "start_time": "2023-01-08T10:33:48.046Z"
   },
   {
    "duration": 32,
    "start_time": "2023-01-08T10:36:40.721Z"
   },
   {
    "duration": 4,
    "start_time": "2023-01-08T10:36:42.013Z"
   },
   {
    "duration": 35,
    "start_time": "2023-01-08T10:37:49.420Z"
   },
   {
    "duration": 4,
    "start_time": "2023-01-08T10:37:51.677Z"
   },
   {
    "duration": 9,
    "start_time": "2023-01-08T10:38:37.621Z"
   },
   {
    "duration": 36,
    "start_time": "2023-01-08T10:38:40.124Z"
   },
   {
    "duration": 4,
    "start_time": "2023-01-08T10:38:41.269Z"
   },
   {
    "duration": 57,
    "start_time": "2023-01-08T10:48:15.639Z"
   },
   {
    "duration": 54,
    "start_time": "2023-01-08T10:48:28.720Z"
   },
   {
    "duration": 11,
    "start_time": "2023-01-08T10:48:38.004Z"
   },
   {
    "duration": 5,
    "start_time": "2023-01-08T10:48:53.443Z"
   },
   {
    "duration": 61,
    "start_time": "2023-01-08T10:50:16.155Z"
   },
   {
    "duration": 5,
    "start_time": "2023-01-08T10:50:17.537Z"
   },
   {
    "duration": 14,
    "start_time": "2023-01-08T10:53:03.213Z"
   },
   {
    "duration": 1177,
    "start_time": "2023-01-08T10:53:16.101Z"
   },
   {
    "duration": 1227,
    "start_time": "2023-01-08T10:53:21.904Z"
   },
   {
    "duration": 11,
    "start_time": "2023-01-08T10:53:31.678Z"
   },
   {
    "duration": 5,
    "start_time": "2023-01-08T10:53:37.820Z"
   },
   {
    "duration": 11,
    "start_time": "2023-01-08T10:54:01.825Z"
   },
   {
    "duration": 10,
    "start_time": "2023-01-08T10:54:06.120Z"
   },
   {
    "duration": 11,
    "start_time": "2023-01-08T10:54:19.358Z"
   },
   {
    "duration": 10,
    "start_time": "2023-01-08T10:54:23.037Z"
   },
   {
    "duration": 6,
    "start_time": "2023-01-08T10:54:42.140Z"
   },
   {
    "duration": 12,
    "start_time": "2023-01-08T10:56:13.857Z"
   },
   {
    "duration": 14,
    "start_time": "2023-01-08T10:56:19.655Z"
   },
   {
    "duration": 11,
    "start_time": "2023-01-08T10:56:24.679Z"
   },
   {
    "duration": 8,
    "start_time": "2023-01-08T10:56:42.502Z"
   },
   {
    "duration": 8,
    "start_time": "2023-01-08T10:56:45.864Z"
   },
   {
    "duration": 9,
    "start_time": "2023-01-08T10:56:55.824Z"
   },
   {
    "duration": 6,
    "start_time": "2023-01-08T10:57:03.058Z"
   },
   {
    "duration": 10,
    "start_time": "2023-01-08T10:57:47.952Z"
   },
   {
    "duration": 7,
    "start_time": "2023-01-08T10:58:16.154Z"
   },
   {
    "duration": 6,
    "start_time": "2023-01-08T10:58:21.485Z"
   },
   {
    "duration": 9,
    "start_time": "2023-01-08T10:59:13.043Z"
   },
   {
    "duration": 12,
    "start_time": "2023-01-08T10:59:15.955Z"
   },
   {
    "duration": 14,
    "start_time": "2023-01-08T10:59:23.890Z"
   },
   {
    "duration": 13,
    "start_time": "2023-01-08T10:59:26.949Z"
   },
   {
    "duration": 20,
    "start_time": "2023-01-08T10:59:39.739Z"
   },
   {
    "duration": 13,
    "start_time": "2023-01-08T10:59:56.531Z"
   },
   {
    "duration": 5,
    "start_time": "2023-01-08T11:00:12.120Z"
   },
   {
    "duration": 5,
    "start_time": "2023-01-08T11:00:15.251Z"
   },
   {
    "duration": 5,
    "start_time": "2023-01-08T11:00:26.740Z"
   },
   {
    "duration": 12,
    "start_time": "2023-01-08T11:00:29.763Z"
   },
   {
    "duration": 5,
    "start_time": "2023-01-08T11:00:31.347Z"
   },
   {
    "duration": 18,
    "start_time": "2023-01-08T11:00:36.524Z"
   },
   {
    "duration": 6,
    "start_time": "2023-01-08T11:01:10.204Z"
   },
   {
    "duration": 15,
    "start_time": "2023-01-08T11:09:55.720Z"
   },
   {
    "duration": 15,
    "start_time": "2023-01-08T11:10:12.010Z"
   }
  ],
  "kernelspec": {
   "display_name": "base",
   "language": "python",
   "name": "python3"
  },
  "language_info": {
   "codemirror_mode": {
    "name": "ipython",
    "version": 3
   },
   "file_extension": ".py",
   "mimetype": "text/x-python",
   "name": "python",
   "nbconvert_exporter": "python",
   "pygments_lexer": "ipython3",
   "version": "3.9.13"
  },
  "toc": {
   "base_numbering": 1,
   "nav_menu": {},
   "number_sections": true,
   "sideBar": true,
   "skip_h1_title": true,
   "title_cell": "Table of Contents",
   "title_sidebar": "Contents",
   "toc_cell": false,
   "toc_position": {},
   "toc_section_display": true,
   "toc_window_display": false
  },
  "vscode": {
   "interpreter": {
    "hash": "40bcb2e441a6d0af9e6f649dfe5ca0440eb431939f3ce0f6d45a172cb5590c37"
   }
  }
 },
 "nbformat": 4,
 "nbformat_minor": 2
}
