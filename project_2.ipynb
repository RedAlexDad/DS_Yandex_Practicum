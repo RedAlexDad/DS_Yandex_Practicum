{
 "cells": [
  {
   "cell_type": "markdown",
   "id": "57bf11ab",
   "metadata": {},
   "source": [
    "# Проект \"Исследование надёжности заёмщиков\". Курс взят с Яндекс Практикум\n",
    "\n",
    "## Описание данных\n",
    "На основе данных кредитного отдела банка исследовал влияние семейного положения и\n",
    "количества детей на факт погашения кредита в срок. Была получена информация о\n",
    "данных. Определены и обработаны пропуски. Заменены типы данных на соответствующие\n",
    "хранящимся данным. Удалены дубликаты. Категоризованы данные. Один датафрейм декомпозирован на три.\n",
    "\n",
    "## Задача проекта\n",
    "На основе статистики о платёжеспособности клиентов исследовать влияет ли семейное положение и количество детей клиента на факт возврата кредита в срок\n",
    "\n",
    "## Информация датафрейма\n",
    "\n",
    "- `children` — количество детей в семье\n",
    "- `days_employed` — общий трудовой стаж в днях\n",
    "- `dob_years` — возраст клиента в годах\n",
    "- `education` — уровень образования клиента\n",
    "- `education_id` — идентификатор уровня образования\n",
    "- `family_status` — семейное положение\n",
    "- `family_status_id` — идентификатор семейного положения\n",
    "- `gender` — пол клиента\n",
    "- `income_type` — тип занятости\n",
    "- `debt` — имел ли задолженность по возврату кредитов\n",
    "- `total_income` — ежемесячный доход\n",
    "- `purpose` — цель получения кредита\n"
   ]
  },
  {
   "cell_type": "markdown",
   "id": "fa50b07e",
   "metadata": {
    "toc": true
   },
   "source": [
    "<h1>Содержание<span class=\"tocSkip\"></span></h1>\n",
    "<div class=\"toc\"><ul class=\"toc-item\"><li><span><a href=\"#Описание-данных\" data-toc-modified-id=\"Описание-данных-1\"><span class=\"toc-item-num\">1&nbsp;&nbsp;</span>Описание данных</a></span></li><li><span><a href=\"#Задача-проекта\" data-toc-modified-id=\"Задача-проекта-2\"><span class=\"toc-item-num\">2&nbsp;&nbsp;</span>Задача проекта</a></span></li><li><span><a href=\"#Информация-датафрейма\" data-toc-modified-id=\"Информация-датафрейма-3\"><span class=\"toc-item-num\">3&nbsp;&nbsp;</span>Информация датафрейма</a></span></li><li><span><a href=\"#Откройте-таблицу-и-изучите-общую-информацию-о-данных\" data-toc-modified-id=\"Откройте-таблицу-и-изучите-общую-информацию-о-данных-4\"><span class=\"toc-item-num\">4&nbsp;&nbsp;</span>Откройте таблицу и изучите общую информацию о данных</a></span></li><li><span><a href=\"#Предобработка-данных\" data-toc-modified-id=\"Предобработка-данных-5\"><span class=\"toc-item-num\">5&nbsp;&nbsp;</span>Предобработка данных</a></span><ul class=\"toc-item\"><li><span><a href=\"#Удаление-пропусков\" data-toc-modified-id=\"Удаление-пропусков-5.1\"><span class=\"toc-item-num\">5.1&nbsp;&nbsp;</span>Удаление пропусков</a></span></li><li><span><a href=\"#Обработка-аномальных-значений\" data-toc-modified-id=\"Обработка-аномальных-значений-5.2\"><span class=\"toc-item-num\">5.2&nbsp;&nbsp;</span>Обработка аномальных значений</a></span></li><li><span><a href=\"#Удаление-пропусков-(продолжение)\" data-toc-modified-id=\"Удаление-пропусков-(продолжение)-5.3\"><span class=\"toc-item-num\">5.3&nbsp;&nbsp;</span>Удаление пропусков (продолжение)</a></span></li><li><span><a href=\"#Изменение-типов-данных\" data-toc-modified-id=\"Изменение-типов-данных-5.4\"><span class=\"toc-item-num\">5.4&nbsp;&nbsp;</span>Изменение типов данных</a></span></li><li><span><a href=\"#Обработка-дубликатов\" data-toc-modified-id=\"Обработка-дубликатов-5.5\"><span class=\"toc-item-num\">5.5&nbsp;&nbsp;</span>Обработка дубликатов</a></span></li><li><span><a href=\"#Категоризация-данных\" data-toc-modified-id=\"Категоризация-данных-5.6\"><span class=\"toc-item-num\">5.6&nbsp;&nbsp;</span>Категоризация данных</a></span></li><li><span><a href=\"#Шаг-3.-Исследуйте-данные-и-ответьте-на-вопросы\" data-toc-modified-id=\"Шаг-3.-Исследуйте-данные-и-ответьте-на-вопросы-5.7\"><span class=\"toc-item-num\">5.7&nbsp;&nbsp;</span>Шаг 3. Исследуйте данные и ответьте на вопросы</a></span><ul class=\"toc-item\"><li><span><a href=\"#3.1-Есть-ли-зависимость-между-количеством-детей-и-возвратом-кредита-в-срок?\" data-toc-modified-id=\"3.1-Есть-ли-зависимость-между-количеством-детей-и-возвратом-кредита-в-срок?-5.7.1\"><span class=\"toc-item-num\">5.7.1&nbsp;&nbsp;</span>3.1 Есть ли зависимость между количеством детей и возвратом кредита в срок?</a></span></li><li><span><a href=\"#3.2-Есть-ли-зависимость-между-семейным-положением-и-возвратом-кредита-в-срок?\" data-toc-modified-id=\"3.2-Есть-ли-зависимость-между-семейным-положением-и-возвратом-кредита-в-срок?-5.7.2\"><span class=\"toc-item-num\">5.7.2&nbsp;&nbsp;</span>3.2 Есть ли зависимость между семейным положением и возвратом кредита в срок?</a></span></li><li><span><a href=\"#3.3-Есть-ли-зависимость-между-уровнем-дохода-и-возвратом-кредита-в-срок?\" data-toc-modified-id=\"3.3-Есть-ли-зависимость-между-уровнем-дохода-и-возвратом-кредита-в-срок?-5.7.3\"><span class=\"toc-item-num\">5.7.3&nbsp;&nbsp;</span>3.3 Есть ли зависимость между уровнем дохода и возвратом кредита в срок?</a></span></li><li><span><a href=\"#3.4-Как-разные-цели-кредита-влияют-на-его-возврат-в-срок?\" data-toc-modified-id=\"3.4-Как-разные-цели-кредита-влияют-на-его-возврат-в-срок?-5.7.4\"><span class=\"toc-item-num\">5.7.4&nbsp;&nbsp;</span>3.4 Как разные цели кредита влияют на его возврат в срок?</a></span></li><li><span><a href=\"#3.5-Приведите-возможные-причины-появления-пропусков-в-исходных-данных.\" data-toc-modified-id=\"3.5-Приведите-возможные-причины-появления-пропусков-в-исходных-данных.-5.7.5\"><span class=\"toc-item-num\">5.7.5&nbsp;&nbsp;</span>3.5 Приведите возможные причины появления пропусков в исходных данных.</a></span></li><li><span><a href=\"#3.6-Объясните,-почему-заполнить-пропуски-медианным-значением-—-лучшее-решение-для-количественных-переменных.\" data-toc-modified-id=\"3.6-Объясните,-почему-заполнить-пропуски-медианным-значением-—-лучшее-решение-для-количественных-переменных.-5.7.6\"><span class=\"toc-item-num\">5.7.6&nbsp;&nbsp;</span>3.6 Объясните, почему заполнить пропуски медианным значением — лучшее решение для количественных переменных.</a></span></li></ul></li><li><span><a href=\"#Шаг-4:-общий-вывод.\" data-toc-modified-id=\"Шаг-4:-общий-вывод.-5.8\"><span class=\"toc-item-num\">5.8&nbsp;&nbsp;</span>Шаг 4: общий вывод.</a></span></li></ul></li></ul></div>"
   ]
  },
  {
   "cell_type": "markdown",
   "id": "b1feae51",
   "metadata": {
    "deletable": false,
    "editable": false,
    "id": "744d7639"
   },
   "source": [
    "## Откройте таблицу и изучите общую информацию о данных"
   ]
  },
  {
   "cell_type": "markdown",
   "id": "8bff231f",
   "metadata": {
    "deletable": false,
    "editable": false,
    "id": "e7a14c31"
   },
   "source": [
    "**Задание 1. Импортируйте библиотеку pandas. Считайте данные из csv-файла в датафрейм и сохраните в переменную `data`. Путь к файлу:**\n",
    "\n",
    "`/datasets/data.csv`"
   ]
  },
  {
   "cell_type": "code",
   "execution_count": 1,
   "id": "6cc0b18a",
   "metadata": {
    "code_folding": [],
    "deletable": false,
    "id": "7bcf75c9"
   },
   "outputs": [
    {
     "name": "stdout",
     "output_type": "stream",
     "text": [
      "Попробуем загружать с локального диска\n",
      "Загружено с локального диска\n"
     ]
    }
   ],
   "source": [
    "import pandas as pd\n",
    "\n",
    "try:\n",
    "    print('Попробуем загружать с локального диска')\n",
    "    data = pd.read_csv('datasets/data.csv')\n",
    "    print('Загружено с локального диска')\n",
    "except:\n",
    "    print('Ошибка! Отсутствует. Попробуем загружать с Яндекса сервера')\n",
    "    data = pd.read_csv('https://code.s3.yandex.net/datasets/data.csv')\n",
    "    print('Загружено с Яндекса сервера')"
   ]
  },
  {
   "cell_type": "markdown",
   "id": "8773b145",
   "metadata": {
    "deletable": false,
    "editable": false,
    "id": "b8038fe3"
   },
   "source": [
    "**Задание 2. Выведите первые 20 строчек датафрейма `data` на экран.**"
   ]
  },
  {
   "cell_type": "code",
   "execution_count": 2,
   "id": "e0b7149c",
   "metadata": {
    "deletable": false,
    "id": "2a7cab99",
    "outputId": "1a8f3ef2-d323-4ec2-ddf7-89670b5944c4",
    "scrolled": true
   },
   "outputs": [
    {
     "data": {
      "text/html": [
       "<div>\n",
       "<style scoped>\n",
       "    .dataframe tbody tr th:only-of-type {\n",
       "        vertical-align: middle;\n",
       "    }\n",
       "\n",
       "    .dataframe tbody tr th {\n",
       "        vertical-align: top;\n",
       "    }\n",
       "\n",
       "    .dataframe thead th {\n",
       "        text-align: right;\n",
       "    }\n",
       "</style>\n",
       "<table border=\"1\" class=\"dataframe\">\n",
       "  <thead>\n",
       "    <tr style=\"text-align: right;\">\n",
       "      <th></th>\n",
       "      <th>children</th>\n",
       "      <th>days_employed</th>\n",
       "      <th>dob_years</th>\n",
       "      <th>education</th>\n",
       "      <th>education_id</th>\n",
       "      <th>family_status</th>\n",
       "      <th>family_status_id</th>\n",
       "      <th>gender</th>\n",
       "      <th>income_type</th>\n",
       "      <th>debt</th>\n",
       "      <th>total_income</th>\n",
       "      <th>purpose</th>\n",
       "    </tr>\n",
       "  </thead>\n",
       "  <tbody>\n",
       "    <tr>\n",
       "      <th>0</th>\n",
       "      <td>1</td>\n",
       "      <td>-8437.673028</td>\n",
       "      <td>42</td>\n",
       "      <td>высшее</td>\n",
       "      <td>0</td>\n",
       "      <td>женат / замужем</td>\n",
       "      <td>0</td>\n",
       "      <td>F</td>\n",
       "      <td>сотрудник</td>\n",
       "      <td>0</td>\n",
       "      <td>253875.639453</td>\n",
       "      <td>покупка жилья</td>\n",
       "    </tr>\n",
       "    <tr>\n",
       "      <th>1</th>\n",
       "      <td>1</td>\n",
       "      <td>-4024.803754</td>\n",
       "      <td>36</td>\n",
       "      <td>среднее</td>\n",
       "      <td>1</td>\n",
       "      <td>женат / замужем</td>\n",
       "      <td>0</td>\n",
       "      <td>F</td>\n",
       "      <td>сотрудник</td>\n",
       "      <td>0</td>\n",
       "      <td>112080.014102</td>\n",
       "      <td>приобретение автомобиля</td>\n",
       "    </tr>\n",
       "    <tr>\n",
       "      <th>2</th>\n",
       "      <td>0</td>\n",
       "      <td>-5623.422610</td>\n",
       "      <td>33</td>\n",
       "      <td>Среднее</td>\n",
       "      <td>1</td>\n",
       "      <td>женат / замужем</td>\n",
       "      <td>0</td>\n",
       "      <td>M</td>\n",
       "      <td>сотрудник</td>\n",
       "      <td>0</td>\n",
       "      <td>145885.952297</td>\n",
       "      <td>покупка жилья</td>\n",
       "    </tr>\n",
       "    <tr>\n",
       "      <th>3</th>\n",
       "      <td>3</td>\n",
       "      <td>-4124.747207</td>\n",
       "      <td>32</td>\n",
       "      <td>среднее</td>\n",
       "      <td>1</td>\n",
       "      <td>женат / замужем</td>\n",
       "      <td>0</td>\n",
       "      <td>M</td>\n",
       "      <td>сотрудник</td>\n",
       "      <td>0</td>\n",
       "      <td>267628.550329</td>\n",
       "      <td>дополнительное образование</td>\n",
       "    </tr>\n",
       "    <tr>\n",
       "      <th>4</th>\n",
       "      <td>0</td>\n",
       "      <td>340266.072047</td>\n",
       "      <td>53</td>\n",
       "      <td>среднее</td>\n",
       "      <td>1</td>\n",
       "      <td>гражданский брак</td>\n",
       "      <td>1</td>\n",
       "      <td>F</td>\n",
       "      <td>пенсионер</td>\n",
       "      <td>0</td>\n",
       "      <td>158616.077870</td>\n",
       "      <td>сыграть свадьбу</td>\n",
       "    </tr>\n",
       "    <tr>\n",
       "      <th>5</th>\n",
       "      <td>0</td>\n",
       "      <td>-926.185831</td>\n",
       "      <td>27</td>\n",
       "      <td>высшее</td>\n",
       "      <td>0</td>\n",
       "      <td>гражданский брак</td>\n",
       "      <td>1</td>\n",
       "      <td>M</td>\n",
       "      <td>компаньон</td>\n",
       "      <td>0</td>\n",
       "      <td>255763.565419</td>\n",
       "      <td>покупка жилья</td>\n",
       "    </tr>\n",
       "    <tr>\n",
       "      <th>6</th>\n",
       "      <td>0</td>\n",
       "      <td>-2879.202052</td>\n",
       "      <td>43</td>\n",
       "      <td>высшее</td>\n",
       "      <td>0</td>\n",
       "      <td>женат / замужем</td>\n",
       "      <td>0</td>\n",
       "      <td>F</td>\n",
       "      <td>компаньон</td>\n",
       "      <td>0</td>\n",
       "      <td>240525.971920</td>\n",
       "      <td>операции с жильем</td>\n",
       "    </tr>\n",
       "    <tr>\n",
       "      <th>7</th>\n",
       "      <td>0</td>\n",
       "      <td>-152.779569</td>\n",
       "      <td>50</td>\n",
       "      <td>СРЕДНЕЕ</td>\n",
       "      <td>1</td>\n",
       "      <td>женат / замужем</td>\n",
       "      <td>0</td>\n",
       "      <td>M</td>\n",
       "      <td>сотрудник</td>\n",
       "      <td>0</td>\n",
       "      <td>135823.934197</td>\n",
       "      <td>образование</td>\n",
       "    </tr>\n",
       "    <tr>\n",
       "      <th>8</th>\n",
       "      <td>2</td>\n",
       "      <td>-6929.865299</td>\n",
       "      <td>35</td>\n",
       "      <td>ВЫСШЕЕ</td>\n",
       "      <td>0</td>\n",
       "      <td>гражданский брак</td>\n",
       "      <td>1</td>\n",
       "      <td>F</td>\n",
       "      <td>сотрудник</td>\n",
       "      <td>0</td>\n",
       "      <td>95856.832424</td>\n",
       "      <td>на проведение свадьбы</td>\n",
       "    </tr>\n",
       "    <tr>\n",
       "      <th>9</th>\n",
       "      <td>0</td>\n",
       "      <td>-2188.756445</td>\n",
       "      <td>41</td>\n",
       "      <td>среднее</td>\n",
       "      <td>1</td>\n",
       "      <td>женат / замужем</td>\n",
       "      <td>0</td>\n",
       "      <td>M</td>\n",
       "      <td>сотрудник</td>\n",
       "      <td>0</td>\n",
       "      <td>144425.938277</td>\n",
       "      <td>покупка жилья для семьи</td>\n",
       "    </tr>\n",
       "    <tr>\n",
       "      <th>10</th>\n",
       "      <td>2</td>\n",
       "      <td>-4171.483647</td>\n",
       "      <td>36</td>\n",
       "      <td>высшее</td>\n",
       "      <td>0</td>\n",
       "      <td>женат / замужем</td>\n",
       "      <td>0</td>\n",
       "      <td>M</td>\n",
       "      <td>компаньон</td>\n",
       "      <td>0</td>\n",
       "      <td>113943.491460</td>\n",
       "      <td>покупка недвижимости</td>\n",
       "    </tr>\n",
       "    <tr>\n",
       "      <th>11</th>\n",
       "      <td>0</td>\n",
       "      <td>-792.701887</td>\n",
       "      <td>40</td>\n",
       "      <td>среднее</td>\n",
       "      <td>1</td>\n",
       "      <td>женат / замужем</td>\n",
       "      <td>0</td>\n",
       "      <td>F</td>\n",
       "      <td>сотрудник</td>\n",
       "      <td>0</td>\n",
       "      <td>77069.234271</td>\n",
       "      <td>покупка коммерческой недвижимости</td>\n",
       "    </tr>\n",
       "    <tr>\n",
       "      <th>12</th>\n",
       "      <td>0</td>\n",
       "      <td>NaN</td>\n",
       "      <td>65</td>\n",
       "      <td>среднее</td>\n",
       "      <td>1</td>\n",
       "      <td>гражданский брак</td>\n",
       "      <td>1</td>\n",
       "      <td>M</td>\n",
       "      <td>пенсионер</td>\n",
       "      <td>0</td>\n",
       "      <td>NaN</td>\n",
       "      <td>сыграть свадьбу</td>\n",
       "    </tr>\n",
       "    <tr>\n",
       "      <th>13</th>\n",
       "      <td>0</td>\n",
       "      <td>-1846.641941</td>\n",
       "      <td>54</td>\n",
       "      <td>неоконченное высшее</td>\n",
       "      <td>2</td>\n",
       "      <td>женат / замужем</td>\n",
       "      <td>0</td>\n",
       "      <td>F</td>\n",
       "      <td>сотрудник</td>\n",
       "      <td>0</td>\n",
       "      <td>130458.228857</td>\n",
       "      <td>приобретение автомобиля</td>\n",
       "    </tr>\n",
       "    <tr>\n",
       "      <th>14</th>\n",
       "      <td>0</td>\n",
       "      <td>-1844.956182</td>\n",
       "      <td>56</td>\n",
       "      <td>высшее</td>\n",
       "      <td>0</td>\n",
       "      <td>гражданский брак</td>\n",
       "      <td>1</td>\n",
       "      <td>F</td>\n",
       "      <td>компаньон</td>\n",
       "      <td>1</td>\n",
       "      <td>165127.911772</td>\n",
       "      <td>покупка жилой недвижимости</td>\n",
       "    </tr>\n",
       "    <tr>\n",
       "      <th>15</th>\n",
       "      <td>1</td>\n",
       "      <td>-972.364419</td>\n",
       "      <td>26</td>\n",
       "      <td>среднее</td>\n",
       "      <td>1</td>\n",
       "      <td>женат / замужем</td>\n",
       "      <td>0</td>\n",
       "      <td>F</td>\n",
       "      <td>сотрудник</td>\n",
       "      <td>0</td>\n",
       "      <td>116820.904450</td>\n",
       "      <td>строительство собственной недвижимости</td>\n",
       "    </tr>\n",
       "    <tr>\n",
       "      <th>16</th>\n",
       "      <td>0</td>\n",
       "      <td>-1719.934226</td>\n",
       "      <td>35</td>\n",
       "      <td>среднее</td>\n",
       "      <td>1</td>\n",
       "      <td>женат / замужем</td>\n",
       "      <td>0</td>\n",
       "      <td>F</td>\n",
       "      <td>сотрудник</td>\n",
       "      <td>0</td>\n",
       "      <td>289202.704229</td>\n",
       "      <td>недвижимость</td>\n",
       "    </tr>\n",
       "    <tr>\n",
       "      <th>17</th>\n",
       "      <td>0</td>\n",
       "      <td>-2369.999720</td>\n",
       "      <td>33</td>\n",
       "      <td>высшее</td>\n",
       "      <td>0</td>\n",
       "      <td>гражданский брак</td>\n",
       "      <td>1</td>\n",
       "      <td>M</td>\n",
       "      <td>сотрудник</td>\n",
       "      <td>0</td>\n",
       "      <td>90410.586745</td>\n",
       "      <td>строительство недвижимости</td>\n",
       "    </tr>\n",
       "    <tr>\n",
       "      <th>18</th>\n",
       "      <td>0</td>\n",
       "      <td>400281.136913</td>\n",
       "      <td>53</td>\n",
       "      <td>среднее</td>\n",
       "      <td>1</td>\n",
       "      <td>вдовец / вдова</td>\n",
       "      <td>2</td>\n",
       "      <td>F</td>\n",
       "      <td>пенсионер</td>\n",
       "      <td>0</td>\n",
       "      <td>56823.777243</td>\n",
       "      <td>на покупку подержанного автомобиля</td>\n",
       "    </tr>\n",
       "    <tr>\n",
       "      <th>19</th>\n",
       "      <td>0</td>\n",
       "      <td>-10038.818549</td>\n",
       "      <td>48</td>\n",
       "      <td>СРЕДНЕЕ</td>\n",
       "      <td>1</td>\n",
       "      <td>в разводе</td>\n",
       "      <td>3</td>\n",
       "      <td>F</td>\n",
       "      <td>сотрудник</td>\n",
       "      <td>0</td>\n",
       "      <td>242831.107982</td>\n",
       "      <td>на покупку своего автомобиля</td>\n",
       "    </tr>\n",
       "  </tbody>\n",
       "</table>\n",
       "</div>"
      ],
      "text/plain": [
       "    children  days_employed  dob_years            education  education_id  \\\n",
       "0          1   -8437.673028         42               высшее             0   \n",
       "1          1   -4024.803754         36              среднее             1   \n",
       "2          0   -5623.422610         33              Среднее             1   \n",
       "3          3   -4124.747207         32              среднее             1   \n",
       "4          0  340266.072047         53              среднее             1   \n",
       "5          0    -926.185831         27               высшее             0   \n",
       "6          0   -2879.202052         43               высшее             0   \n",
       "7          0    -152.779569         50              СРЕДНЕЕ             1   \n",
       "8          2   -6929.865299         35               ВЫСШЕЕ             0   \n",
       "9          0   -2188.756445         41              среднее             1   \n",
       "10         2   -4171.483647         36               высшее             0   \n",
       "11         0    -792.701887         40              среднее             1   \n",
       "12         0            NaN         65              среднее             1   \n",
       "13         0   -1846.641941         54  неоконченное высшее             2   \n",
       "14         0   -1844.956182         56               высшее             0   \n",
       "15         1    -972.364419         26              среднее             1   \n",
       "16         0   -1719.934226         35              среднее             1   \n",
       "17         0   -2369.999720         33               высшее             0   \n",
       "18         0  400281.136913         53              среднее             1   \n",
       "19         0  -10038.818549         48              СРЕДНЕЕ             1   \n",
       "\n",
       "       family_status  family_status_id gender income_type  debt  \\\n",
       "0    женат / замужем                 0      F   сотрудник     0   \n",
       "1    женат / замужем                 0      F   сотрудник     0   \n",
       "2    женат / замужем                 0      M   сотрудник     0   \n",
       "3    женат / замужем                 0      M   сотрудник     0   \n",
       "4   гражданский брак                 1      F   пенсионер     0   \n",
       "5   гражданский брак                 1      M   компаньон     0   \n",
       "6    женат / замужем                 0      F   компаньон     0   \n",
       "7    женат / замужем                 0      M   сотрудник     0   \n",
       "8   гражданский брак                 1      F   сотрудник     0   \n",
       "9    женат / замужем                 0      M   сотрудник     0   \n",
       "10   женат / замужем                 0      M   компаньон     0   \n",
       "11   женат / замужем                 0      F   сотрудник     0   \n",
       "12  гражданский брак                 1      M   пенсионер     0   \n",
       "13   женат / замужем                 0      F   сотрудник     0   \n",
       "14  гражданский брак                 1      F   компаньон     1   \n",
       "15   женат / замужем                 0      F   сотрудник     0   \n",
       "16   женат / замужем                 0      F   сотрудник     0   \n",
       "17  гражданский брак                 1      M   сотрудник     0   \n",
       "18    вдовец / вдова                 2      F   пенсионер     0   \n",
       "19         в разводе                 3      F   сотрудник     0   \n",
       "\n",
       "     total_income                                 purpose  \n",
       "0   253875.639453                           покупка жилья  \n",
       "1   112080.014102                 приобретение автомобиля  \n",
       "2   145885.952297                           покупка жилья  \n",
       "3   267628.550329              дополнительное образование  \n",
       "4   158616.077870                         сыграть свадьбу  \n",
       "5   255763.565419                           покупка жилья  \n",
       "6   240525.971920                       операции с жильем  \n",
       "7   135823.934197                             образование  \n",
       "8    95856.832424                   на проведение свадьбы  \n",
       "9   144425.938277                 покупка жилья для семьи  \n",
       "10  113943.491460                    покупка недвижимости  \n",
       "11   77069.234271       покупка коммерческой недвижимости  \n",
       "12            NaN                         сыграть свадьбу  \n",
       "13  130458.228857                 приобретение автомобиля  \n",
       "14  165127.911772              покупка жилой недвижимости  \n",
       "15  116820.904450  строительство собственной недвижимости  \n",
       "16  289202.704229                            недвижимость  \n",
       "17   90410.586745              строительство недвижимости  \n",
       "18   56823.777243      на покупку подержанного автомобиля  \n",
       "19  242831.107982            на покупку своего автомобиля  "
      ]
     },
     "execution_count": 2,
     "metadata": {},
     "output_type": "execute_result"
    }
   ],
   "source": [
    "data.head(20)"
   ]
  },
  {
   "cell_type": "markdown",
   "id": "47034d41",
   "metadata": {
    "deletable": false,
    "editable": false,
    "id": "1c12e233"
   },
   "source": [
    "**Задание 3. Выведите основную информацию о датафрейме с помощью метода `info()`.**"
   ]
  },
  {
   "cell_type": "code",
   "execution_count": 3,
   "id": "da8d4fa2",
   "metadata": {
    "deletable": false,
    "id": "2b757bca",
    "outputId": "15376089-8dad-46c9-b520-c05248d43158"
   },
   "outputs": [
    {
     "name": "stdout",
     "output_type": "stream",
     "text": [
      "<class 'pandas.core.frame.DataFrame'>\n",
      "RangeIndex: 21525 entries, 0 to 21524\n",
      "Data columns (total 12 columns):\n",
      " #   Column            Non-Null Count  Dtype  \n",
      "---  ------            --------------  -----  \n",
      " 0   children          21525 non-null  int64  \n",
      " 1   days_employed     19351 non-null  float64\n",
      " 2   dob_years         21525 non-null  int64  \n",
      " 3   education         21525 non-null  object \n",
      " 4   education_id      21525 non-null  int64  \n",
      " 5   family_status     21525 non-null  object \n",
      " 6   family_status_id  21525 non-null  int64  \n",
      " 7   gender            21525 non-null  object \n",
      " 8   income_type       21525 non-null  object \n",
      " 9   debt              21525 non-null  int64  \n",
      " 10  total_income      19351 non-null  float64\n",
      " 11  purpose           21525 non-null  object \n",
      "dtypes: float64(2), int64(5), object(5)\n",
      "memory usage: 2.0+ MB\n"
     ]
    }
   ],
   "source": [
    "data.info()"
   ]
  },
  {
   "cell_type": "markdown",
   "id": "1c0c74db",
   "metadata": {
    "deletable": false,
    "editable": false,
    "id": "333ec665"
   },
   "source": [
    "## Предобработка данных"
   ]
  },
  {
   "cell_type": "markdown",
   "id": "fdf5467a",
   "metadata": {
    "deletable": false,
    "editable": false,
    "id": "02d92d53"
   },
   "source": [
    "### Удаление пропусков"
   ]
  },
  {
   "cell_type": "markdown",
   "id": "1cc14b9a",
   "metadata": {
    "deletable": false,
    "editable": false,
    "id": "cd84967c"
   },
   "source": [
    "**Задание 4. Выведите количество пропущенных значений для каждого столбца. Используйте комбинацию двух методов.**"
   ]
  },
  {
   "cell_type": "code",
   "execution_count": null,
   "id": "d0852333",
   "metadata": {
    "deletable": false,
    "id": "7f9b2309",
    "outputId": "81f4d817-781c-465c-ed15-91ce4446810d"
   },
   "outputs": [],
   "source": [
    "data.isna().sum()"
   ]
  },
  {
   "cell_type": "markdown",
   "id": "a10f2c67",
   "metadata": {
    "deletable": false,
    "editable": false,
    "id": "db86e27b"
   },
   "source": [
    "**Задание 5. В двух столбцах есть пропущенные значения. Один из них — `days_employed`. Пропуски в этом столбце вы обработаете на следующем этапе. Другой столбец с пропущенными значениями — `total_income` — хранит данные о доходах. На сумму дохода сильнее всего влияет тип занятости, поэтому заполнить пропуски в этом столбце нужно медианным значением по каждому типу из столбца `income_type`. Например, у человека с типом занятости `сотрудник` пропуск в столбце `total_income` должен быть заполнен медианным доходом среди всех записей с тем же типом.**"
   ]
  },
  {
   "cell_type": "code",
   "execution_count": null,
   "id": "16944c7b",
   "metadata": {
    "deletable": false,
    "id": "42006a93"
   },
   "outputs": [],
   "source": [
    "for t in data['income_type'].unique():\n",
    "    data.loc[(data['income_type'] == t) & (data['total_income'].isna()), 'total_income'] = \\\n",
    "    data.loc[(data['income_type'] == t), 'total_income'].median()"
   ]
  },
  {
   "cell_type": "markdown",
   "id": "41a64cb2",
   "metadata": {
    "deletable": false,
    "editable": false,
    "id": "89da5ece"
   },
   "source": [
    "### Обработка аномальных значений"
   ]
  },
  {
   "cell_type": "markdown",
   "id": "5ff67c93",
   "metadata": {
    "deletable": false,
    "editable": false,
    "id": "57964554"
   },
   "source": [
    "**Задание 6. В данных могут встречаться артефакты (аномалии) — значения, которые не отражают действительность и появились по какой-то ошибке. таким артефактом будет отрицательное количество дней трудового стажа в столбце `days_employed`. Для реальных данных это нормально. Обработайте значения в этом столбце: замените все отрицательные значения положительными с помощью метода `abs()`.**"
   ]
  },
  {
   "cell_type": "code",
   "execution_count": null,
   "id": "cbd0cc01",
   "metadata": {
    "deletable": false,
    "id": "f6f055bf"
   },
   "outputs": [],
   "source": [
    "data['days_employed'] = data['days_employed'].abs()"
   ]
  },
  {
   "cell_type": "markdown",
   "id": "de7f8ae3",
   "metadata": {
    "deletable": false,
    "editable": false,
    "id": "6107dd2f"
   },
   "source": [
    "**Задание 7. Для каждого типа занятости выведите медианное значение трудового стажа `days_employed` в днях.**"
   ]
  },
  {
   "cell_type": "code",
   "execution_count": null,
   "id": "9880ba63",
   "metadata": {
    "deletable": false,
    "id": "85a5faf6",
    "outputId": "801ef80e-522b-4668-f34e-565af7432bcf"
   },
   "outputs": [],
   "source": [
    "data.groupby('income_type')['days_employed'].agg('median')"
   ]
  },
  {
   "cell_type": "markdown",
   "id": "c23d1b41",
   "metadata": {
    "deletable": false,
    "editable": false,
    "id": "38d1a030"
   },
   "source": [
    "У двух типов (безработные и пенсионеры) получатся аномально большие значения. Исправить такие значения сложно, поэтому оставьте их как есть. Тем более этот столбец не понадобится вам для исследования."
   ]
  },
  {
   "cell_type": "markdown",
   "id": "623fe1d0",
   "metadata": {
    "deletable": false,
    "editable": false,
    "id": "d8a9f147"
   },
   "source": [
    "**Задание 8. Выведите перечень уникальных значений столбца `children`.**"
   ]
  },
  {
   "cell_type": "code",
   "execution_count": null,
   "id": "23f5dca1",
   "metadata": {
    "deletable": false,
    "id": "ef5056eb",
    "outputId": "6975b15c-7f95-4697-d16d-a0c79b657b03"
   },
   "outputs": [],
   "source": [
    "data['children'].unique()"
   ]
  },
  {
   "cell_type": "markdown",
   "id": "c11cab8a",
   "metadata": {
    "deletable": false,
    "editable": false,
    "id": "40b9ebf2"
   },
   "source": [
    "**Задание 9. В столбце `children` есть два аномальных значения. Удалите строки, в которых встречаются такие аномальные значения из датафрейма `data`.**"
   ]
  },
  {
   "cell_type": "code",
   "execution_count": null,
   "id": "23194515",
   "metadata": {
    "deletable": false,
    "id": "3ff9801d"
   },
   "outputs": [],
   "source": [
    "data = data[(data['children'] != -1) & (data['children'] != 20)]"
   ]
  },
  {
   "cell_type": "markdown",
   "id": "2dc62b7d",
   "metadata": {
    "deletable": false,
    "editable": false,
    "id": "bbc4d0ce"
   },
   "source": [
    "**Задание 10. Ещё раз выведите перечень уникальных значений столбца `children`, чтобы убедиться, что артефакты удалены.**"
   ]
  },
  {
   "cell_type": "code",
   "execution_count": null,
   "id": "9778483b",
   "metadata": {
    "deletable": false,
    "id": "ad4fa8b7",
    "outputId": "b2097101-d49d-44d9-901b-32a65c9463d1"
   },
   "outputs": [],
   "source": [
    "data['children'].unique()"
   ]
  },
  {
   "cell_type": "markdown",
   "id": "a0f6a896",
   "metadata": {
    "deletable": false,
    "editable": false,
    "id": "75440b63"
   },
   "source": [
    "### Удаление пропусков (продолжение)"
   ]
  },
  {
   "cell_type": "markdown",
   "id": "c9cbff58",
   "metadata": {
    "deletable": false,
    "editable": false,
    "id": "f4ea573f"
   },
   "source": [
    "**Задание 11. Заполните пропуски в столбце `days_employed` медианными значениями по каждого типа занятости `income_type`.**"
   ]
  },
  {
   "cell_type": "code",
   "execution_count": null,
   "id": "9358acf6",
   "metadata": {
    "deletable": false,
    "id": "af6b1a7e"
   },
   "outputs": [],
   "source": [
    "for t in data['income_type'].unique():\n",
    "    data.loc[(data['income_type'] == t) & (data['days_employed'].isna()), 'days_employed'] = \\\n",
    "    data.loc[(data['income_type'] == t), 'days_employed'].median()"
   ]
  },
  {
   "cell_type": "code",
   "execution_count": null,
   "id": "946d5ebf",
   "metadata": {},
   "outputs": [],
   "source": [
    "for t in data['income_type'].unique():\n",
    "    data.loc[(data['income_type'] == t) | (data['days_employed'].isna()), 'days_employed'] = \\\n",
    "    data.loc[(data['income_type'] == t), 'days_employed'].median()"
   ]
  },
  {
   "cell_type": "markdown",
   "id": "25557dcb",
   "metadata": {
    "deletable": false,
    "editable": false,
    "id": "2753f40d"
   },
   "source": [
    "**Задание 12. Убедитесь, что все пропуски заполнены. Проверьте себя и ещё раз выведите количество пропущенных значений для каждого столбца с помощью двух методов.**"
   ]
  },
  {
   "cell_type": "code",
   "execution_count": null,
   "id": "191bab82",
   "metadata": {
    "deletable": false,
    "id": "55f78bc2",
    "outputId": "8da1e4e1-358e-4e87-98c9-f261bce0a7b2"
   },
   "outputs": [],
   "source": [
    "data.isna().sum()"
   ]
  },
  {
   "cell_type": "markdown",
   "id": "79242af7",
   "metadata": {
    "deletable": false,
    "editable": false,
    "id": "ddc81e43"
   },
   "source": [
    "### Изменение типов данных"
   ]
  },
  {
   "cell_type": "markdown",
   "id": "446900c7",
   "metadata": {
    "deletable": false,
    "editable": false,
    "id": "42d19d24"
   },
   "source": [
    "**Задание 13. Замените вещественный тип данных в столбце `total_income` на целочисленный с помощью метода `astype()`.**"
   ]
  },
  {
   "cell_type": "code",
   "execution_count": null,
   "id": "d4be581e",
   "metadata": {
    "deletable": false,
    "id": "920b65ad"
   },
   "outputs": [],
   "source": [
    "data['total_income'] = data['total_income'].astype(int)"
   ]
  },
  {
   "cell_type": "markdown",
   "id": "2beb6a89",
   "metadata": {
    "deletable": false,
    "editable": false,
    "id": "80c420ba"
   },
   "source": [
    "### Обработка дубликатов"
   ]
  },
  {
   "cell_type": "markdown",
   "id": "1da52734",
   "metadata": {
    "deletable": false,
    "editable": false
   },
   "source": [
    "**Задание 14. Обработайте неявные дубликаты в столбце `education`. В этом столбце есть одни и те же значения, но записанные по-разному: с использованием заглавных и строчных букв. Приведите их к нижнему регистру. Проверьте остальные столбцы.**"
   ]
  },
  {
   "cell_type": "code",
   "execution_count": null,
   "id": "2478f49a",
   "metadata": {
    "deletable": false
   },
   "outputs": [],
   "source": [
    "data['education'] = data['education'].str.lower()"
   ]
  },
  {
   "cell_type": "markdown",
   "id": "6d3e9e87",
   "metadata": {
    "deletable": false,
    "editable": false,
    "id": "dc587695"
   },
   "source": [
    "**Задание 15. Выведите на экран количество строк-дубликатов в данных. Если такие строки присутствуют, удалите их.**"
   ]
  },
  {
   "cell_type": "code",
   "execution_count": null,
   "id": "d4cd9de3",
   "metadata": {
    "deletable": false,
    "id": "3ee445e4",
    "outputId": "9684deba-1934-42d1-99e1-cda61740f822"
   },
   "outputs": [],
   "source": [
    "data.duplicated().sum()"
   ]
  },
  {
   "cell_type": "code",
   "execution_count": null,
   "id": "89e6f235",
   "metadata": {
    "deletable": false,
    "id": "8575fe05"
   },
   "outputs": [],
   "source": [
    "data = data.drop_duplicates()"
   ]
  },
  {
   "cell_type": "markdown",
   "id": "f3e93213",
   "metadata": {
    "deletable": false,
    "editable": false,
    "id": "9904cf55"
   },
   "source": [
    "### Категоризация данных"
   ]
  },
  {
   "cell_type": "markdown",
   "id": "29340bcf",
   "metadata": {
    "deletable": false,
    "editable": false,
    "id": "72fcc8a2"
   },
   "source": [
    "**Задание 16. На основании диапазонов, указанных ниже, создайте в датафрейме `data` столбец `total_income_category` с категориями:**\n",
    "\n",
    "- 0–30000 — `'E'`;\n",
    "- 30001–50000 — `'D'`;\n",
    "- 50001–200000 — `'C'`;\n",
    "- 200001–1000000 — `'B'`;\n",
    "- 1000001 и выше — `'A'`.\n",
    "\n",
    "\n",
    "**Например, кредитополучателю с доходом 25000 нужно назначить категорию `'E'`, а клиенту, получающему 235000, — `'B'`. Используйте собственную функцию с именем `categorize_income()` и метод `apply()`.**"
   ]
  },
  {
   "cell_type": "code",
   "execution_count": null,
   "id": "fe2f112f",
   "metadata": {
    "deletable": false,
    "id": "e1771346"
   },
   "outputs": [],
   "source": [
    "def categorize_income(income):\n",
    "    try:\n",
    "        if 0 <= income <= 30000:\n",
    "            return 'E'\n",
    "        elif 30001 <= income <= 50000:\n",
    "            return 'D'\n",
    "        elif 50001 <= income <= 200000:\n",
    "            return 'C'\n",
    "        elif 200001 <= income <= 1000000:\n",
    "            return 'B'\n",
    "        elif income >= 1000001:\n",
    "            return 'A'\n",
    "    except:\n",
    "        pass"
   ]
  },
  {
   "cell_type": "code",
   "execution_count": null,
   "id": "e9fae9ee",
   "metadata": {
    "deletable": false,
    "id": "d5f3586d"
   },
   "outputs": [],
   "source": [
    "data['total_income_category'] = data['total_income'].apply(categorize_income)"
   ]
  },
  {
   "cell_type": "markdown",
   "id": "ffe0c2bf",
   "metadata": {
    "deletable": false,
    "editable": false,
    "id": "dde49b5c"
   },
   "source": [
    "**Задание 17. Выведите на экран перечень уникальных целей взятия кредита из столбца `purpose`.**"
   ]
  },
  {
   "cell_type": "code",
   "execution_count": null,
   "id": "5f1b4b7a",
   "metadata": {
    "deletable": false,
    "id": "f67ce9b3",
    "outputId": "673c12d9-7d7e-4ae0-9812-c622c89dd244"
   },
   "outputs": [],
   "source": [
    "data['purpose'].unique()"
   ]
  },
  {
   "cell_type": "markdown",
   "id": "fe44e845",
   "metadata": {
    "deletable": false,
    "editable": false,
    "id": "85d0aef0"
   },
   "source": [
    "**Задание 18. Создайте функцию, которая на основании данных из столбца `purpose` сформирует новый столбец `purpose_category`, в который войдут следующие категории:**\n",
    "\n",
    "- `'операции с автомобилем'`,\n",
    "- `'операции с недвижимостью'`,\n",
    "- `'проведение свадьбы'`,\n",
    "- `'получение образования'`.\n",
    "\n",
    "**Например, если в столбце `purpose` находится подстрока `'на покупку автомобиля'`, то в столбце `purpose_category` должна появиться строка `'операции с автомобилем'`.**\n",
    "\n",
    "**Используйте собственную функцию с именем `categorize_purpose()` и метод `apply()`. Изучите данные в столбце `purpose` и определите, какие подстроки помогут вам правильно определить категорию.**"
   ]
  },
  {
   "cell_type": "code",
   "execution_count": null,
   "id": "0e88c3a1",
   "metadata": {
    "deletable": false,
    "id": "e149fab4"
   },
   "outputs": [],
   "source": [
    "def categorize_purpose(row):\n",
    "    try:\n",
    "        if 'автом' in row:\n",
    "            return 'операции с автомобилем'\n",
    "        elif 'жил' in row or 'недвиж' in row:\n",
    "            return 'операции с недвижимостью'\n",
    "        elif 'свад' in row:\n",
    "            return 'проведение свадьбы'\n",
    "        elif 'образов' in row:\n",
    "            return 'получение образования'\n",
    "    except:\n",
    "        return 'нет категории'"
   ]
  },
  {
   "cell_type": "code",
   "execution_count": null,
   "id": "4a1d6e09",
   "metadata": {
    "deletable": false,
    "id": "bf36e69b"
   },
   "outputs": [],
   "source": [
    "data['purpose_category'] = data['purpose'].apply(categorize_purpose)"
   ]
  },
  {
   "cell_type": "markdown",
   "id": "8bd76ac7",
   "metadata": {
    "deletable": false,
    "editable": false,
    "id": "09b242bf"
   },
   "source": [
    "### Шаг 3. Исследуйте данные и ответьте на вопросы"
   ]
  },
  {
   "cell_type": "markdown",
   "id": "466f0b2d",
   "metadata": {
    "deletable": false,
    "editable": false,
    "id": "c5d66278"
   },
   "source": [
    "#### 3.1 Есть ли зависимость между количеством детей и возвратом кредита в срок?"
   ]
  },
  {
   "cell_type": "code",
   "execution_count": null,
   "id": "2f4c630b",
   "metadata": {
    "deletable": false,
    "id": "2cacfc4a"
   },
   "outputs": [],
   "source": [
    "# Через группировки\n",
    "round(data.groupby('children')['debt'].value_counts(normalize = True) * 100, 3)"
   ]
  },
  {
   "cell_type": "code",
   "execution_count": null,
   "id": "0f7a9f43",
   "metadata": {},
   "outputs": [],
   "source": [
    "# Создадим функцию, которая будет считывать данные и устанавливать долю\n",
    "def percent(debt):\n",
    "    return str(round((debt.sum() / debt.count()) * 100, 3)) + '%'"
   ]
  },
  {
   "cell_type": "code",
   "execution_count": null,
   "id": "c1464d64",
   "metadata": {
    "scrolled": true
   },
   "outputs": [],
   "source": [
    "# или через pivot_table\n",
    "pd.pivot_table(data, index = ['children'], values = ['debt'], aggfunc = {'children': 'count', 'debt': percent})"
   ]
  },
  {
   "cell_type": "markdown",
   "id": "bd875387",
   "metadata": {
    "deletable": false,
    "id": "3a6b99ec"
   },
   "source": [
    "**Вывод:** \n",
    "\n",
    "Здесь можно заметить, что у семей, имеющих 4 детей, высокий процент задолженности по сравнению сотальных: 9,76%. \n",
    "\n",
    "Однако второе место по задолженности занимает семья, имеющаяся двух детей: 9,45%. А третье - однодетная семья.\n",
    "\n",
    "Самый низкий процент задолженности является семья, не имеющаяся детей. \n",
    "\n",
    "Почему? Я считаю, что некорректно сделать и опираться на данных у пятидетной семьи, т.к. их мало (количеств данных составялет 9). "
   ]
  },
  {
   "cell_type": "code",
   "execution_count": null,
   "id": "30566b3d",
   "metadata": {},
   "outputs": [],
   "source": [
    "print('Количество семей, имеющих 5 детей:', data[data['children'] == 5]['children'].count())"
   ]
  },
  {
   "cell_type": "markdown",
   "id": "1206dbfc",
   "metadata": {
    "deletable": false,
    "editable": false,
    "id": "97be82ca"
   },
   "source": [
    "#### 3.2 Есть ли зависимость между семейным положением и возвратом кредита в срок?"
   ]
  },
  {
   "cell_type": "code",
   "execution_count": null,
   "id": "52001f4d",
   "metadata": {
    "deletable": false,
    "id": "dc3f7ee8"
   },
   "outputs": [],
   "source": [
    "# Через группировки\n",
    "round(data.groupby('family_status')['debt'].value_counts(normalize = True) * 100, 3)"
   ]
  },
  {
   "cell_type": "code",
   "execution_count": null,
   "id": "a5c034cb",
   "metadata": {},
   "outputs": [],
   "source": [
    "# или через pivot_table\n",
    "pd.pivot_table(data, index = ['family_status'], values = ['debt'], aggfunc = {'family_status': 'count', 'debt': percent})"
   ]
  },
  {
   "cell_type": "markdown",
   "id": "422d2996",
   "metadata": {},
   "source": [
    "У семей, обладающей статусом \"женат / замужем\", задолженность больше чем у остальных.\n",
    "\n",
    "Причем у человека, обладающего статусом \"вдовец / вдова\", меньше задолженность по сравнению остальных.\n",
    "\n",
    "Однако, если объединить статус \"женат / замужем\" и \"гражданский брак\" и с точки зрения закона рассмотреть их как один статус - \"женат / замужем\", то, соответственно, доля задолженности ниже остальных.\n",
    "\n",
    "Проверим"
   ]
  },
  {
   "cell_type": "code",
   "execution_count": null,
   "id": "ca2730a9",
   "metadata": {},
   "outputs": [],
   "source": [
    "def family_status_category(type_family):\n",
    "    if(type_family == 'женат / замужем'):\n",
    "        return 'в браке'\n",
    "    elif(type_family == 'гражданский брак'):\n",
    "        return 'в браке'\n",
    "    else:\n",
    "        return 'не в браке'\n",
    "\n",
    "data['family_status_category'] = data['family_status'].apply(family_status_category)"
   ]
  },
  {
   "cell_type": "code",
   "execution_count": null,
   "id": "87b37ca6",
   "metadata": {},
   "outputs": [],
   "source": [
    "# Через группировки\n",
    "round(data.groupby('family_status_category')['debt'].value_counts(normalize = True) * 100, 3)"
   ]
  },
  {
   "cell_type": "markdown",
   "id": "9af7bd9b",
   "metadata": {
    "deletable": false,
    "id": "1cef7837"
   },
   "source": [
    "\n"
   ]
  },
  {
   "cell_type": "markdown",
   "id": "ad928eb8",
   "metadata": {
    "deletable": false,
    "editable": false,
    "id": "1e8b2fca"
   },
   "source": [
    "#### 3.3 Есть ли зависимость между уровнем дохода и возвратом кредита в срок?"
   ]
  },
  {
   "cell_type": "code",
   "execution_count": null,
   "id": "e9f1179b",
   "metadata": {},
   "outputs": [],
   "source": [
    "'''\n",
    "Уровень дохода:\n",
    "0–30000 — 'E';\n",
    "30001–50000 — 'D';\n",
    "50001–200000 — 'C';\n",
    "200001–1000000 — 'B';\n",
    "1000001 и выше — 'A'.\n",
    "'''"
   ]
  },
  {
   "cell_type": "code",
   "execution_count": null,
   "id": "b92b2b23",
   "metadata": {
    "deletable": false,
    "id": "cd7e3720"
   },
   "outputs": [],
   "source": [
    "# Через группировки\n",
    "round(data.groupby('total_income_category')['debt'].value_counts(normalize = True) * 100, 3)"
   ]
  },
  {
   "cell_type": "code",
   "execution_count": null,
   "id": "d48dff44",
   "metadata": {},
   "outputs": [],
   "source": [
    "# или через pivot_table\n",
    "pd.pivot_table(data, index = ['total_income_category'], values = ['debt'], aggfunc = {'total_income_category': 'count', 'debt': percent})"
   ]
  },
  {
   "cell_type": "markdown",
   "id": "53907283",
   "metadata": {
    "deletable": false,
    "id": "e8593def"
   },
   "source": [
    "**Вывод:** \n",
    "\n",
    "Человек, обладающий уровнем дохода Е, задолженность больше чем у остальных.\n",
    "\n",
    "Однако, у человека, обладающего уровнем дохода D, меньше задолженности остальных.\n",
    "\n",
    "Можно сказать, что человек со средним уровнем дохода (уровень С) является высокой долей заемщиков."
   ]
  },
  {
   "cell_type": "markdown",
   "id": "b358b5ee",
   "metadata": {
    "deletable": false,
    "editable": false,
    "id": "99ecbd1f"
   },
   "source": [
    "#### 3.4 Как разные цели кредита влияют на его возврат в срок?"
   ]
  },
  {
   "cell_type": "code",
   "execution_count": null,
   "id": "afc666cc",
   "metadata": {},
   "outputs": [],
   "source": [
    "def purpose_category(row):\n",
    "    try:\n",
    "        if 'автом' in row:\n",
    "            return 'автомобиль'\n",
    "        elif 'жил' in row or 'недвиж' in row:\n",
    "            return 'недвижимость'\n",
    "        elif 'свад' in row:\n",
    "            return 'свадьба'\n",
    "        elif 'образов' in row:\n",
    "            return 'образование'\n",
    "    except:\n",
    "        return 'нет категории'\n",
    "\n",
    "data['purpose_category'] = data['purpose'].apply(purpose_category)"
   ]
  },
  {
   "cell_type": "code",
   "execution_count": null,
   "id": "7f6e499f",
   "metadata": {
    "deletable": false,
    "id": "2b687290"
   },
   "outputs": [],
   "source": [
    "# Через группировки\n",
    "round(data.groupby('purpose_category')['debt'].value_counts(normalize = True) * 100, 3)"
   ]
  },
  {
   "cell_type": "code",
   "execution_count": null,
   "id": "69798548",
   "metadata": {},
   "outputs": [],
   "source": [
    "# или через pivot_table\n",
    "pd.pivot_table(data, index = ['purpose_category'], values = ['debt'], aggfunc = {'purpose_category': 'count', 'debt': percent})"
   ]
  },
  {
   "cell_type": "markdown",
   "id": "443ffbc5",
   "metadata": {
    "deletable": false,
    "id": "b4bb2ce6"
   },
   "source": [
    "**Вывод:** \n",
    "\n",
    "Человек, офромлявшийся кредит на автомобиль, имеет задолженность на порядку выше остальных.\n",
    "\n",
    "Второе место занимает человек, оформлявшийся кредит на образование, третье - свадьба.\n",
    "\n",
    "Однако, человек, оформлявшийся кредит на недвижимость, занимает большую долю в количествах людей и низую долю по сравнению остальных"
   ]
  },
  {
   "cell_type": "markdown",
   "id": "aaad1e6a",
   "metadata": {
    "deletable": false,
    "editable": false,
    "id": "09c3ac4c"
   },
   "source": [
    "#### 3.5 Приведите возможные причины появления пропусков в исходных данных."
   ]
  },
  {
   "cell_type": "markdown",
   "id": "d2b01d37",
   "metadata": {
    "deletable": false,
    "id": "9da2ceda"
   },
   "source": [
    "*Ответ:* Основные причины: человеческий фактор ошибки (невнимательность, спешки, и т.д.), ошибки конвентированя из одного типа в другого типа (например, преобразование в численного типа из строкого или символьного типа, не являющегося числом, т.е. не получится конвентировать на число слово \"Яндекс Практикум\"), неправильное преобразование нужного формата файла (приводит к неверному кодированию символ, т.е. вместо UTF-8 другой тип ставится)"
   ]
  },
  {
   "cell_type": "markdown",
   "id": "cbcdcb28",
   "metadata": {
    "deletable": false,
    "editable": false,
    "id": "7b0487d6"
   },
   "source": [
    "#### 3.6 Объясните, почему заполнить пропуски медианным значением — лучшее решение для количественных переменных."
   ]
  },
  {
   "cell_type": "markdown",
   "id": "2bf241bb",
   "metadata": {
    "deletable": false,
    "id": "7ecf2b8e"
   },
   "source": [
    "*Ответ:* Потому что медианное значение в отличие от среднего значения позволяет находить по середине значения, не учитывая на наличие резкого и аномального значения в данных.\n",
    "\n",
    "Например:\n",
    "Пусть дан список, где аномальное значение является: 20 и 40. Вместо их должны быть: 8, 10:\n",
    "\n",
    "test = [0, 2, 4, 6, 20, 40]\n",
    "\n",
    "Среднее значение: 12\n",
    "\n",
    "Медианное значение: 6\n",
    "\n",
    "Медианное значение в основном применяют для вычисления и заполнения отсутствующих значения, избегая различных сомнительных значений. "
   ]
  },
  {
   "cell_type": "markdown",
   "id": "49bb32cf",
   "metadata": {
    "deletable": false,
    "editable": false,
    "id": "6db5255a"
   },
   "source": [
    "### Шаг 4: общий вывод."
   ]
  },
  {
   "cell_type": "markdown",
   "id": "2e422b62",
   "metadata": {
    "deletable": false,
    "id": "bad65432"
   },
   "source": [
    "Опираясь на данных, можно сделать общий вывод, что человек, оформлявшись кредит на свадьбу, с средним уровнем дохода заработной платы и с бездетными семьями имеет высокую вероятность того, что окажется в ряд людей, имеющих задолженностей. Это говорит о том, что человек не предусмотрел дальнейшие последствия, что могут возникнуть различные проблемы в семейных ситуациях после регистрации брака."
   ]
  }
 ],
 "metadata": {
  "ExecuteTimeLog": [
   {
    "duration": 399,
    "start_time": "2022-11-05T17:33:45.853Z"
   },
   {
    "duration": 66,
    "start_time": "2022-11-05T17:55:18.333Z"
   },
   {
    "duration": 65,
    "start_time": "2022-11-05T17:55:21.959Z"
   },
   {
    "duration": 20,
    "start_time": "2022-11-05T17:55:22.026Z"
   },
   {
    "duration": 14,
    "start_time": "2022-11-05T17:55:22.047Z"
   },
   {
    "duration": 9,
    "start_time": "2022-11-05T17:55:22.063Z"
   },
   {
    "duration": 49,
    "start_time": "2022-11-05T17:55:22.074Z"
   },
   {
    "duration": 4,
    "start_time": "2022-11-05T17:55:22.125Z"
   },
   {
    "duration": 12,
    "start_time": "2022-11-05T17:55:22.131Z"
   },
   {
    "duration": 4,
    "start_time": "2022-11-05T17:55:22.145Z"
   },
   {
    "duration": 26,
    "start_time": "2022-11-05T17:55:22.151Z"
   },
   {
    "duration": 6,
    "start_time": "2022-11-05T17:55:22.179Z"
   },
   {
    "duration": 41,
    "start_time": "2022-11-05T17:55:22.186Z"
   },
   {
    "duration": 10,
    "start_time": "2022-11-05T17:55:22.228Z"
   },
   {
    "duration": 3,
    "start_time": "2022-11-05T17:55:22.240Z"
   },
   {
    "duration": 14,
    "start_time": "2022-11-05T17:55:22.244Z"
   },
   {
    "duration": 18,
    "start_time": "2022-11-05T17:55:22.259Z"
   },
   {
    "duration": 38,
    "start_time": "2022-11-05T17:55:22.279Z"
   },
   {
    "duration": 4,
    "start_time": "2022-11-05T17:55:22.319Z"
   },
   {
    "duration": 10,
    "start_time": "2022-11-05T17:55:22.324Z"
   },
   {
    "duration": 6,
    "start_time": "2022-11-05T17:55:22.336Z"
   },
   {
    "duration": 8,
    "start_time": "2022-11-05T17:55:22.344Z"
   },
   {
    "duration": 16,
    "start_time": "2022-11-05T17:55:22.354Z"
   },
   {
    "duration": 3,
    "start_time": "2022-11-05T17:55:22.371Z"
   },
   {
    "duration": 3,
    "start_time": "2022-11-05T17:55:22.405Z"
   },
   {
    "duration": 5,
    "start_time": "2022-11-05T17:55:22.409Z"
   },
   {
    "duration": 6,
    "start_time": "2022-11-05T17:55:22.416Z"
   },
   {
    "duration": 4,
    "start_time": "2022-11-05T18:05:17.650Z"
   },
   {
    "duration": 4,
    "start_time": "2022-11-05T18:05:49.552Z"
   },
   {
    "duration": 59,
    "start_time": "2022-11-05T18:12:18.563Z"
   },
   {
    "duration": 5,
    "start_time": "2022-11-05T18:12:26.312Z"
   },
   {
    "duration": 6,
    "start_time": "2022-11-05T18:12:39.344Z"
   },
   {
    "duration": 5,
    "start_time": "2022-11-05T18:13:03.112Z"
   },
   {
    "duration": 6,
    "start_time": "2022-11-05T18:13:07.600Z"
   },
   {
    "duration": 8,
    "start_time": "2022-11-05T18:13:17.640Z"
   },
   {
    "duration": 1002,
    "start_time": "2022-11-05T18:14:32.410Z"
   },
   {
    "duration": 124,
    "start_time": "2022-11-05T18:14:55.930Z"
   },
   {
    "duration": 54,
    "start_time": "2022-11-05T18:15:29.588Z"
   },
   {
    "duration": 11,
    "start_time": "2022-11-05T18:16:10.220Z"
   },
   {
    "duration": 6,
    "start_time": "2022-11-05T18:16:24.391Z"
   },
   {
    "duration": 6,
    "start_time": "2022-11-05T18:16:31.229Z"
   },
   {
    "duration": 7,
    "start_time": "2022-11-05T18:17:00.317Z"
   },
   {
    "duration": 7,
    "start_time": "2022-11-05T18:17:09.527Z"
   },
   {
    "duration": 7,
    "start_time": "2022-11-05T18:20:25.792Z"
   },
   {
    "duration": 10,
    "start_time": "2022-11-05T18:20:31.440Z"
   },
   {
    "duration": 7,
    "start_time": "2022-11-05T18:20:35.110Z"
   },
   {
    "duration": 7,
    "start_time": "2022-11-05T18:23:30.937Z"
   },
   {
    "duration": 8,
    "start_time": "2022-11-05T18:23:33.942Z"
   },
   {
    "duration": 9,
    "start_time": "2022-11-05T18:23:37.067Z"
   },
   {
    "duration": 11,
    "start_time": "2022-11-05T18:23:50.564Z"
   },
   {
    "duration": 8,
    "start_time": "2022-11-05T18:23:54.615Z"
   },
   {
    "duration": 7,
    "start_time": "2022-11-05T18:24:01.604Z"
   },
   {
    "duration": 13,
    "start_time": "2022-11-05T18:25:50.214Z"
   },
   {
    "duration": 9,
    "start_time": "2022-11-05T18:26:02.033Z"
   },
   {
    "duration": 10,
    "start_time": "2022-11-05T18:26:18.503Z"
   },
   {
    "duration": 7,
    "start_time": "2022-11-05T18:26:23.560Z"
   },
   {
    "duration": 8,
    "start_time": "2022-11-05T18:26:24.423Z"
   },
   {
    "duration": 8,
    "start_time": "2022-11-05T18:26:26.177Z"
   },
   {
    "duration": 8,
    "start_time": "2022-11-05T18:26:29.535Z"
   },
   {
    "duration": 8,
    "start_time": "2022-11-05T18:26:31.057Z"
   },
   {
    "duration": 7,
    "start_time": "2022-11-05T18:26:32.983Z"
   },
   {
    "duration": 12,
    "start_time": "2022-11-05T18:26:51.273Z"
   },
   {
    "duration": 12,
    "start_time": "2022-11-05T18:27:00.713Z"
   },
   {
    "duration": 8,
    "start_time": "2022-11-05T18:27:04.344Z"
   },
   {
    "duration": 7,
    "start_time": "2022-11-05T18:27:36.307Z"
   },
   {
    "duration": 7,
    "start_time": "2022-11-05T18:27:42.844Z"
   },
   {
    "duration": 9,
    "start_time": "2022-11-05T18:27:51.242Z"
   },
   {
    "duration": 8,
    "start_time": "2022-11-05T18:28:05.673Z"
   },
   {
    "duration": 9,
    "start_time": "2022-11-05T18:28:10.737Z"
   },
   {
    "duration": 99,
    "start_time": "2022-11-05T18:28:22.953Z"
   },
   {
    "duration": 135,
    "start_time": "2022-11-05T18:28:55.799Z"
   },
   {
    "duration": 107,
    "start_time": "2022-11-05T18:29:14.156Z"
   },
   {
    "duration": 111,
    "start_time": "2022-11-05T18:29:46.666Z"
   },
   {
    "duration": 103,
    "start_time": "2022-11-05T18:29:54.891Z"
   },
   {
    "duration": 178,
    "start_time": "2022-11-05T18:30:08.737Z"
   },
   {
    "duration": 102,
    "start_time": "2022-11-05T18:30:17.619Z"
   },
   {
    "duration": 105,
    "start_time": "2022-11-05T18:30:29.741Z"
   },
   {
    "duration": 109,
    "start_time": "2022-11-05T18:30:34.412Z"
   },
   {
    "duration": 106,
    "start_time": "2022-11-05T18:30:42.508Z"
   },
   {
    "duration": 109,
    "start_time": "2022-11-05T18:31:18.438Z"
   },
   {
    "duration": 116,
    "start_time": "2022-11-05T18:34:30.451Z"
   },
   {
    "duration": 946,
    "start_time": "2022-11-05T18:38:20.464Z"
   },
   {
    "duration": 14,
    "start_time": "2022-11-05T18:38:36.988Z"
   },
   {
    "duration": 17,
    "start_time": "2022-11-05T18:38:52.509Z"
   },
   {
    "duration": 16,
    "start_time": "2022-11-05T18:39:45.006Z"
   },
   {
    "duration": 6,
    "start_time": "2022-11-05T18:40:34.295Z"
   },
   {
    "duration": 10,
    "start_time": "2022-11-05T18:40:41.763Z"
   },
   {
    "duration": 7,
    "start_time": "2022-11-05T18:40:46.232Z"
   },
   {
    "duration": 7,
    "start_time": "2022-11-05T18:41:07.288Z"
   },
   {
    "duration": 16,
    "start_time": "2022-11-05T18:41:35.497Z"
   },
   {
    "duration": 19,
    "start_time": "2022-11-05T18:41:43.871Z"
   },
   {
    "duration": 18,
    "start_time": "2022-11-05T18:41:50.219Z"
   },
   {
    "duration": 16,
    "start_time": "2022-11-05T18:42:39.010Z"
   },
   {
    "duration": 16,
    "start_time": "2022-11-05T18:43:43.799Z"
   },
   {
    "duration": 16,
    "start_time": "2022-11-05T18:45:24.201Z"
   },
   {
    "duration": 16,
    "start_time": "2022-11-05T18:45:49.708Z"
   },
   {
    "duration": 17,
    "start_time": "2022-11-05T18:46:19.704Z"
   },
   {
    "duration": 19,
    "start_time": "2022-11-05T18:47:57.088Z"
   },
   {
    "duration": 12,
    "start_time": "2022-11-05T18:48:02.103Z"
   },
   {
    "duration": 17,
    "start_time": "2022-11-05T18:48:08.482Z"
   },
   {
    "duration": 17,
    "start_time": "2022-11-05T18:48:29.133Z"
   },
   {
    "duration": 12,
    "start_time": "2022-11-05T18:48:45.063Z"
   },
   {
    "duration": 17,
    "start_time": "2022-11-05T18:49:03.140Z"
   },
   {
    "duration": 1095,
    "start_time": "2022-11-05T18:49:11.484Z"
   },
   {
    "duration": 17,
    "start_time": "2022-11-05T18:49:25.571Z"
   },
   {
    "duration": 17,
    "start_time": "2022-11-05T18:49:34.080Z"
   },
   {
    "duration": 15,
    "start_time": "2022-11-05T18:50:14.517Z"
   },
   {
    "duration": 14,
    "start_time": "2022-11-05T18:50:27.108Z"
   },
   {
    "duration": 15,
    "start_time": "2022-11-05T18:50:30.795Z"
   },
   {
    "duration": 23,
    "start_time": "2022-11-05T18:50:47.551Z"
   },
   {
    "duration": 16,
    "start_time": "2022-11-05T18:51:31.299Z"
   },
   {
    "duration": 9,
    "start_time": "2022-11-05T18:52:25.728Z"
   },
   {
    "duration": 25,
    "start_time": "2022-11-05T18:52:31.091Z"
   },
   {
    "duration": 21,
    "start_time": "2022-11-05T18:52:46.008Z"
   },
   {
    "duration": 24,
    "start_time": "2022-11-05T18:53:02.004Z"
   },
   {
    "duration": 16,
    "start_time": "2022-11-05T18:53:40.384Z"
   },
   {
    "duration": 21,
    "start_time": "2022-11-05T18:53:47.893Z"
   },
   {
    "duration": 18,
    "start_time": "2022-11-05T18:53:57.005Z"
   },
   {
    "duration": 16,
    "start_time": "2022-11-05T18:54:07.886Z"
   },
   {
    "duration": 19,
    "start_time": "2022-11-05T18:54:39.153Z"
   },
   {
    "duration": 19,
    "start_time": "2022-11-05T18:56:24.530Z"
   },
   {
    "duration": 19,
    "start_time": "2022-11-05T18:56:38.801Z"
   },
   {
    "duration": 20,
    "start_time": "2022-11-05T18:56:41.080Z"
   },
   {
    "duration": 21,
    "start_time": "2022-11-05T18:56:44.678Z"
   },
   {
    "duration": 19,
    "start_time": "2022-11-05T18:56:50.225Z"
   },
   {
    "duration": 21,
    "start_time": "2022-11-05T18:56:52.592Z"
   },
   {
    "duration": 3,
    "start_time": "2022-11-05T18:58:02.495Z"
   },
   {
    "duration": 119,
    "start_time": "2022-11-05T18:58:42.427Z"
   },
   {
    "duration": 6,
    "start_time": "2022-11-05T18:59:48.603Z"
   },
   {
    "duration": 113,
    "start_time": "2022-11-05T18:59:49.522Z"
   },
   {
    "duration": 81,
    "start_time": "2022-11-05T19:00:03.747Z"
   },
   {
    "duration": 15,
    "start_time": "2022-11-05T19:00:03.829Z"
   },
   {
    "duration": 39,
    "start_time": "2022-11-05T19:00:03.846Z"
   },
   {
    "duration": 23,
    "start_time": "2022-11-05T19:00:03.887Z"
   },
   {
    "duration": 42,
    "start_time": "2022-11-05T19:00:03.913Z"
   },
   {
    "duration": 3,
    "start_time": "2022-11-05T19:00:03.957Z"
   },
   {
    "duration": 29,
    "start_time": "2022-11-05T19:00:03.961Z"
   },
   {
    "duration": 26,
    "start_time": "2022-11-05T19:00:03.991Z"
   },
   {
    "duration": 15,
    "start_time": "2022-11-05T19:00:04.019Z"
   },
   {
    "duration": 19,
    "start_time": "2022-11-05T19:00:04.036Z"
   },
   {
    "duration": 36,
    "start_time": "2022-11-05T19:00:04.056Z"
   },
   {
    "duration": 12,
    "start_time": "2022-11-05T19:00:04.095Z"
   },
   {
    "duration": 16,
    "start_time": "2022-11-05T19:00:04.109Z"
   },
   {
    "duration": 25,
    "start_time": "2022-11-05T19:00:04.128Z"
   },
   {
    "duration": 46,
    "start_time": "2022-11-05T19:00:04.155Z"
   },
   {
    "duration": 35,
    "start_time": "2022-11-05T19:00:04.203Z"
   },
   {
    "duration": 5,
    "start_time": "2022-11-05T19:00:04.240Z"
   },
   {
    "duration": 37,
    "start_time": "2022-11-05T19:00:04.247Z"
   },
   {
    "duration": 13,
    "start_time": "2022-11-05T19:00:04.286Z"
   },
   {
    "duration": 6,
    "start_time": "2022-11-05T19:00:04.301Z"
   },
   {
    "duration": 11,
    "start_time": "2022-11-05T19:00:04.309Z"
   },
   {
    "duration": 19,
    "start_time": "2022-11-05T19:00:04.323Z"
   },
   {
    "duration": 0,
    "start_time": "2022-11-05T19:00:04.343Z"
   },
   {
    "duration": 0,
    "start_time": "2022-11-05T19:00:04.345Z"
   },
   {
    "duration": 0,
    "start_time": "2022-11-05T19:00:04.346Z"
   },
   {
    "duration": 0,
    "start_time": "2022-11-05T19:00:04.348Z"
   },
   {
    "duration": 14,
    "start_time": "2022-11-05T19:00:21.959Z"
   },
   {
    "duration": 11,
    "start_time": "2022-11-05T19:00:47.677Z"
   },
   {
    "duration": 5,
    "start_time": "2022-11-05T19:00:58.159Z"
   },
   {
    "duration": 4,
    "start_time": "2022-11-05T19:01:06.557Z"
   },
   {
    "duration": 108,
    "start_time": "2022-11-05T19:01:09.637Z"
   },
   {
    "duration": 124,
    "start_time": "2022-11-05T19:01:13.943Z"
   },
   {
    "duration": 196,
    "start_time": "2022-11-05T19:01:30.801Z"
   },
   {
    "duration": 4,
    "start_time": "2022-11-05T19:02:13.439Z"
   },
   {
    "duration": 108,
    "start_time": "2022-11-05T19:02:13.976Z"
   },
   {
    "duration": 65,
    "start_time": "2022-11-05T19:02:30.467Z"
   },
   {
    "duration": 14,
    "start_time": "2022-11-05T19:02:30.534Z"
   },
   {
    "duration": 38,
    "start_time": "2022-11-05T19:02:30.550Z"
   },
   {
    "duration": 13,
    "start_time": "2022-11-05T19:02:30.591Z"
   },
   {
    "duration": 44,
    "start_time": "2022-11-05T19:02:30.606Z"
   },
   {
    "duration": 4,
    "start_time": "2022-11-05T19:02:30.652Z"
   },
   {
    "duration": 15,
    "start_time": "2022-11-05T19:02:30.657Z"
   },
   {
    "duration": 4,
    "start_time": "2022-11-05T19:02:30.674Z"
   },
   {
    "duration": 9,
    "start_time": "2022-11-05T19:02:30.679Z"
   },
   {
    "duration": 10,
    "start_time": "2022-11-05T19:02:30.691Z"
   },
   {
    "duration": 32,
    "start_time": "2022-11-05T19:02:30.705Z"
   },
   {
    "duration": 9,
    "start_time": "2022-11-05T19:02:30.738Z"
   },
   {
    "duration": 4,
    "start_time": "2022-11-05T19:02:30.748Z"
   },
   {
    "duration": 15,
    "start_time": "2022-11-05T19:02:30.753Z"
   },
   {
    "duration": 36,
    "start_time": "2022-11-05T19:02:30.769Z"
   },
   {
    "duration": 18,
    "start_time": "2022-11-05T19:02:30.807Z"
   },
   {
    "duration": 3,
    "start_time": "2022-11-05T19:02:30.826Z"
   },
   {
    "duration": 20,
    "start_time": "2022-11-05T19:02:30.831Z"
   },
   {
    "duration": 6,
    "start_time": "2022-11-05T19:02:30.852Z"
   },
   {
    "duration": 13,
    "start_time": "2022-11-05T19:02:30.859Z"
   },
   {
    "duration": 36,
    "start_time": "2022-11-05T19:02:30.873Z"
   },
   {
    "duration": 6,
    "start_time": "2022-11-05T19:02:30.911Z"
   },
   {
    "duration": 127,
    "start_time": "2022-11-05T19:02:30.918Z"
   },
   {
    "duration": 3,
    "start_time": "2022-11-05T19:02:31.046Z"
   },
   {
    "duration": 6,
    "start_time": "2022-11-05T19:02:31.051Z"
   },
   {
    "duration": 5,
    "start_time": "2022-11-05T19:02:31.058Z"
   },
   {
    "duration": 104,
    "start_time": "2022-11-05T19:03:04.676Z"
   },
   {
    "duration": 109,
    "start_time": "2022-11-05T19:03:33.005Z"
   },
   {
    "duration": 73,
    "start_time": "2022-11-05T19:03:35.632Z"
   },
   {
    "duration": 14,
    "start_time": "2022-11-05T19:03:35.707Z"
   },
   {
    "duration": 15,
    "start_time": "2022-11-05T19:03:35.722Z"
   },
   {
    "duration": 9,
    "start_time": "2022-11-05T19:03:35.738Z"
   },
   {
    "duration": 28,
    "start_time": "2022-11-05T19:03:35.749Z"
   },
   {
    "duration": 26,
    "start_time": "2022-11-05T19:03:35.779Z"
   },
   {
    "duration": 6,
    "start_time": "2022-11-05T19:03:35.807Z"
   },
   {
    "duration": 4,
    "start_time": "2022-11-05T19:03:35.815Z"
   },
   {
    "duration": 6,
    "start_time": "2022-11-05T19:03:35.820Z"
   },
   {
    "duration": 4,
    "start_time": "2022-11-05T19:03:35.827Z"
   },
   {
    "duration": 30,
    "start_time": "2022-11-05T19:03:35.832Z"
   },
   {
    "duration": 8,
    "start_time": "2022-11-05T19:03:35.864Z"
   },
   {
    "duration": 35,
    "start_time": "2022-11-05T19:03:35.874Z"
   },
   {
    "duration": 10,
    "start_time": "2022-11-05T19:03:35.911Z"
   },
   {
    "duration": 16,
    "start_time": "2022-11-05T19:03:35.922Z"
   },
   {
    "duration": 18,
    "start_time": "2022-11-05T19:03:35.939Z"
   },
   {
    "duration": 3,
    "start_time": "2022-11-05T19:03:35.958Z"
   },
   {
    "duration": 21,
    "start_time": "2022-11-05T19:03:35.962Z"
   },
   {
    "duration": 21,
    "start_time": "2022-11-05T19:03:35.985Z"
   },
   {
    "duration": 15,
    "start_time": "2022-11-05T19:03:36.008Z"
   },
   {
    "duration": 23,
    "start_time": "2022-11-05T19:03:36.024Z"
   },
   {
    "duration": 135,
    "start_time": "2022-11-05T19:03:36.048Z"
   },
   {
    "duration": 3,
    "start_time": "2022-11-05T19:03:36.184Z"
   },
   {
    "duration": 16,
    "start_time": "2022-11-05T19:03:36.188Z"
   },
   {
    "duration": 17,
    "start_time": "2022-11-05T19:03:36.205Z"
   },
   {
    "duration": 82,
    "start_time": "2022-11-05T19:04:07.380Z"
   },
   {
    "duration": 16,
    "start_time": "2022-11-05T19:04:07.464Z"
   },
   {
    "duration": 33,
    "start_time": "2022-11-05T19:04:07.482Z"
   },
   {
    "duration": 12,
    "start_time": "2022-11-05T19:04:07.517Z"
   },
   {
    "duration": 33,
    "start_time": "2022-11-05T19:04:07.531Z"
   },
   {
    "duration": 4,
    "start_time": "2022-11-05T19:04:07.565Z"
   },
   {
    "duration": 9,
    "start_time": "2022-11-05T19:04:07.570Z"
   },
   {
    "duration": 27,
    "start_time": "2022-11-05T19:04:07.581Z"
   },
   {
    "duration": 6,
    "start_time": "2022-11-05T19:04:07.610Z"
   },
   {
    "duration": 10,
    "start_time": "2022-11-05T19:04:07.618Z"
   },
   {
    "duration": 30,
    "start_time": "2022-11-05T19:04:07.630Z"
   },
   {
    "duration": 10,
    "start_time": "2022-11-05T19:04:07.662Z"
   },
   {
    "duration": 32,
    "start_time": "2022-11-05T19:04:07.674Z"
   },
   {
    "duration": 12,
    "start_time": "2022-11-05T19:04:07.709Z"
   },
   {
    "duration": 22,
    "start_time": "2022-11-05T19:04:07.722Z"
   },
   {
    "duration": 18,
    "start_time": "2022-11-05T19:04:07.745Z"
   },
   {
    "duration": 3,
    "start_time": "2022-11-05T19:04:07.765Z"
   },
   {
    "duration": 11,
    "start_time": "2022-11-05T19:04:07.770Z"
   },
   {
    "duration": 23,
    "start_time": "2022-11-05T19:04:07.783Z"
   },
   {
    "duration": 4,
    "start_time": "2022-11-05T19:04:07.808Z"
   },
   {
    "duration": 10,
    "start_time": "2022-11-05T19:04:07.814Z"
   },
   {
    "duration": 134,
    "start_time": "2022-11-05T19:04:07.826Z"
   },
   {
    "duration": 2,
    "start_time": "2022-11-05T19:04:07.962Z"
   },
   {
    "duration": 5,
    "start_time": "2022-11-05T19:04:07.966Z"
   },
   {
    "duration": 5,
    "start_time": "2022-11-05T19:04:07.973Z"
   },
   {
    "duration": 109,
    "start_time": "2022-11-05T19:05:42.641Z"
   },
   {
    "duration": 15,
    "start_time": "2022-11-05T19:05:46.269Z"
   },
   {
    "duration": 13,
    "start_time": "2022-11-05T19:05:49.134Z"
   },
   {
    "duration": 110,
    "start_time": "2022-11-05T19:05:50.476Z"
   },
   {
    "duration": 114,
    "start_time": "2022-11-05T19:05:55.842Z"
   },
   {
    "duration": 113,
    "start_time": "2022-11-05T19:05:58.010Z"
   },
   {
    "duration": 197,
    "start_time": "2022-11-05T19:06:01.793Z"
   },
   {
    "duration": 105,
    "start_time": "2022-11-05T19:06:10.014Z"
   },
   {
    "duration": 102,
    "start_time": "2022-11-05T19:06:16.731Z"
   },
   {
    "duration": 2,
    "start_time": "2022-11-05T19:06:23.554Z"
   },
   {
    "duration": 15,
    "start_time": "2022-11-05T19:10:01.748Z"
   },
   {
    "duration": 19,
    "start_time": "2022-11-05T19:10:33.212Z"
   },
   {
    "duration": 11,
    "start_time": "2022-11-05T19:10:36.019Z"
   },
   {
    "duration": 112,
    "start_time": "2022-11-05T19:10:39.023Z"
   },
   {
    "duration": 13,
    "start_time": "2022-11-05T19:10:51.167Z"
   },
   {
    "duration": 12,
    "start_time": "2022-11-05T19:11:23.544Z"
   },
   {
    "duration": 111,
    "start_time": "2022-11-05T19:11:53.200Z"
   },
   {
    "duration": 9,
    "start_time": "2022-11-05T19:12:08.073Z"
   },
   {
    "duration": 109,
    "start_time": "2022-11-05T19:12:12.545Z"
   },
   {
    "duration": 111,
    "start_time": "2022-11-05T19:13:48.960Z"
   },
   {
    "duration": 18,
    "start_time": "2022-11-05T19:14:08.460Z"
   },
   {
    "duration": 97,
    "start_time": "2022-11-05T19:14:12.698Z"
   },
   {
    "duration": 16,
    "start_time": "2022-11-05T19:14:19.050Z"
   },
   {
    "duration": 15,
    "start_time": "2022-11-05T19:14:25.246Z"
   },
   {
    "duration": 7,
    "start_time": "2022-11-05T19:14:34.252Z"
   },
   {
    "duration": 7,
    "start_time": "2022-11-05T19:14:38.771Z"
   },
   {
    "duration": 7,
    "start_time": "2022-11-05T19:14:42.763Z"
   },
   {
    "duration": 12,
    "start_time": "2022-11-05T19:14:48.084Z"
   },
   {
    "duration": 12,
    "start_time": "2022-11-05T19:14:51.772Z"
   },
   {
    "duration": 11,
    "start_time": "2022-11-05T19:14:55.499Z"
   },
   {
    "duration": 7,
    "start_time": "2022-11-05T19:15:00.460Z"
   },
   {
    "duration": 6,
    "start_time": "2022-11-05T19:15:03.334Z"
   },
   {
    "duration": 7,
    "start_time": "2022-11-05T19:15:10.229Z"
   },
   {
    "duration": 7,
    "start_time": "2022-11-05T19:15:19.396Z"
   },
   {
    "duration": 7,
    "start_time": "2022-11-05T19:15:27.140Z"
   },
   {
    "duration": 13,
    "start_time": "2022-11-05T19:15:46.485Z"
   },
   {
    "duration": 7,
    "start_time": "2022-11-05T19:15:49.982Z"
   },
   {
    "duration": 6,
    "start_time": "2022-11-05T19:16:01.135Z"
   },
   {
    "duration": 7,
    "start_time": "2022-11-05T19:16:02.220Z"
   },
   {
    "duration": 8,
    "start_time": "2022-11-05T19:16:05.177Z"
   },
   {
    "duration": 8,
    "start_time": "2022-11-05T19:16:15.588Z"
   },
   {
    "duration": 9,
    "start_time": "2022-11-05T19:16:30.341Z"
   },
   {
    "duration": 17,
    "start_time": "2022-11-05T19:17:06.742Z"
   },
   {
    "duration": 94,
    "start_time": "2022-11-05T19:17:14.047Z"
   },
   {
    "duration": 110,
    "start_time": "2022-11-05T19:17:28.159Z"
   },
   {
    "duration": 26,
    "start_time": "2022-11-05T19:17:52.703Z"
   },
   {
    "duration": 18,
    "start_time": "2022-11-05T19:18:07.087Z"
   },
   {
    "duration": 19,
    "start_time": "2022-11-05T19:18:10.470Z"
   },
   {
    "duration": 18,
    "start_time": "2022-11-05T19:18:19.690Z"
   },
   {
    "duration": 108,
    "start_time": "2022-11-05T19:18:36.792Z"
   },
   {
    "duration": 182,
    "start_time": "2022-11-05T19:18:53.465Z"
   },
   {
    "duration": 94,
    "start_time": "2022-11-05T19:19:18.269Z"
   },
   {
    "duration": 1225,
    "start_time": "2022-11-05T19:19:29.971Z"
   },
   {
    "duration": 18,
    "start_time": "2022-11-05T19:19:41.519Z"
   },
   {
    "duration": 96,
    "start_time": "2022-11-05T19:19:44.459Z"
   },
   {
    "duration": 19,
    "start_time": "2022-11-05T19:19:57.794Z"
   },
   {
    "duration": 18,
    "start_time": "2022-11-05T19:20:02.051Z"
   },
   {
    "duration": 11,
    "start_time": "2022-11-05T19:20:26.277Z"
   },
   {
    "duration": 16,
    "start_time": "2022-11-05T19:20:35.249Z"
   },
   {
    "duration": 17,
    "start_time": "2022-11-05T19:20:47.849Z"
   },
   {
    "duration": 15,
    "start_time": "2022-11-05T19:20:50.550Z"
   },
   {
    "duration": 11,
    "start_time": "2022-11-05T19:20:56.817Z"
   },
   {
    "duration": 9,
    "start_time": "2022-11-05T19:21:09.658Z"
   },
   {
    "duration": 11,
    "start_time": "2022-11-05T19:21:12.202Z"
   },
   {
    "duration": 15,
    "start_time": "2022-11-05T19:21:20.893Z"
   },
   {
    "duration": 15,
    "start_time": "2022-11-05T19:21:25.809Z"
   },
   {
    "duration": 13,
    "start_time": "2022-11-05T19:21:30.703Z"
   },
   {
    "duration": 21,
    "start_time": "2022-11-05T19:23:25.053Z"
   },
   {
    "duration": 19,
    "start_time": "2022-11-05T19:23:34.270Z"
   },
   {
    "duration": 16,
    "start_time": "2022-11-05T19:23:36.378Z"
   },
   {
    "duration": 16,
    "start_time": "2022-11-05T19:23:39.948Z"
   },
   {
    "duration": 9,
    "start_time": "2022-11-05T19:23:43.333Z"
   },
   {
    "duration": 1095,
    "start_time": "2022-11-05T19:24:02.898Z"
   },
   {
    "duration": 9,
    "start_time": "2022-11-05T19:24:51.807Z"
   },
   {
    "duration": 7,
    "start_time": "2022-11-05T19:25:35.470Z"
   },
   {
    "duration": 108,
    "start_time": "2022-11-05T19:25:49.899Z"
   },
   {
    "duration": 124,
    "start_time": "2022-11-05T19:25:58.017Z"
   },
   {
    "duration": 12,
    "start_time": "2022-11-05T19:27:09.695Z"
   },
   {
    "duration": 112,
    "start_time": "2022-11-05T19:27:24.943Z"
   },
   {
    "duration": 109,
    "start_time": "2022-11-05T19:27:30.959Z"
   },
   {
    "duration": 112,
    "start_time": "2022-11-05T19:27:33.325Z"
   },
   {
    "duration": 17,
    "start_time": "2022-11-05T19:27:50.563Z"
   },
   {
    "duration": 13,
    "start_time": "2022-11-05T19:27:55.179Z"
   },
   {
    "duration": 104,
    "start_time": "2022-11-05T19:27:58.576Z"
   },
   {
    "duration": 69,
    "start_time": "2022-11-05T19:28:16.699Z"
   },
   {
    "duration": 14,
    "start_time": "2022-11-05T19:28:16.770Z"
   },
   {
    "duration": 15,
    "start_time": "2022-11-05T19:28:16.785Z"
   },
   {
    "duration": 8,
    "start_time": "2022-11-05T19:28:16.801Z"
   },
   {
    "duration": 30,
    "start_time": "2022-11-05T19:28:16.811Z"
   },
   {
    "duration": 4,
    "start_time": "2022-11-05T19:28:16.842Z"
   },
   {
    "duration": 10,
    "start_time": "2022-11-05T19:28:16.848Z"
   },
   {
    "duration": 14,
    "start_time": "2022-11-05T19:28:16.861Z"
   },
   {
    "duration": 29,
    "start_time": "2022-11-05T19:28:16.876Z"
   },
   {
    "duration": 5,
    "start_time": "2022-11-05T19:28:16.908Z"
   },
   {
    "duration": 31,
    "start_time": "2022-11-05T19:28:16.914Z"
   },
   {
    "duration": 8,
    "start_time": "2022-11-05T19:28:16.947Z"
   },
   {
    "duration": 5,
    "start_time": "2022-11-05T19:28:16.956Z"
   },
   {
    "duration": 16,
    "start_time": "2022-11-05T19:28:16.963Z"
   },
   {
    "duration": 37,
    "start_time": "2022-11-05T19:28:16.980Z"
   },
   {
    "duration": 17,
    "start_time": "2022-11-05T19:28:17.018Z"
   },
   {
    "duration": 3,
    "start_time": "2022-11-05T19:28:17.037Z"
   },
   {
    "duration": 11,
    "start_time": "2022-11-05T19:28:17.041Z"
   },
   {
    "duration": 5,
    "start_time": "2022-11-05T19:28:17.054Z"
   },
   {
    "duration": 7,
    "start_time": "2022-11-05T19:28:17.061Z"
   },
   {
    "duration": 36,
    "start_time": "2022-11-05T19:28:17.069Z"
   },
   {
    "duration": 119,
    "start_time": "2022-11-05T19:28:17.107Z"
   },
   {
    "duration": 11,
    "start_time": "2022-11-05T19:28:17.228Z"
   },
   {
    "duration": 2,
    "start_time": "2022-11-05T19:28:17.241Z"
   },
   {
    "duration": 4,
    "start_time": "2022-11-05T19:28:17.245Z"
   },
   {
    "duration": 141,
    "start_time": "2022-11-05T19:28:50.266Z"
   },
   {
    "duration": 197,
    "start_time": "2022-11-05T19:29:05.105Z"
   },
   {
    "duration": 9,
    "start_time": "2022-11-05T19:29:13.978Z"
   },
   {
    "duration": 20,
    "start_time": "2022-11-05T19:29:16.411Z"
   },
   {
    "duration": 16,
    "start_time": "2022-11-05T19:31:44.604Z"
   },
   {
    "duration": 16,
    "start_time": "2022-11-05T19:31:47.240Z"
   },
   {
    "duration": 17,
    "start_time": "2022-11-05T19:32:06.270Z"
   },
   {
    "duration": 15,
    "start_time": "2022-11-05T19:33:02.326Z"
   },
   {
    "duration": 14,
    "start_time": "2022-11-05T19:33:06.461Z"
   },
   {
    "duration": 14,
    "start_time": "2022-11-05T19:33:13.280Z"
   },
   {
    "duration": 16,
    "start_time": "2022-11-05T19:34:14.872Z"
   },
   {
    "duration": 16,
    "start_time": "2022-11-05T19:34:37.881Z"
   },
   {
    "duration": 15,
    "start_time": "2022-11-05T19:34:40.440Z"
   },
   {
    "duration": 65,
    "start_time": "2022-11-05T19:34:43.301Z"
   },
   {
    "duration": 14,
    "start_time": "2022-11-05T19:34:43.368Z"
   },
   {
    "duration": 17,
    "start_time": "2022-11-05T19:34:43.383Z"
   },
   {
    "duration": 11,
    "start_time": "2022-11-05T19:34:43.401Z"
   },
   {
    "duration": 29,
    "start_time": "2022-11-05T19:34:43.414Z"
   },
   {
    "duration": 3,
    "start_time": "2022-11-05T19:34:43.445Z"
   },
   {
    "duration": 12,
    "start_time": "2022-11-05T19:34:43.449Z"
   },
   {
    "duration": 4,
    "start_time": "2022-11-05T19:34:43.462Z"
   },
   {
    "duration": 9,
    "start_time": "2022-11-05T19:34:43.468Z"
   },
   {
    "duration": 27,
    "start_time": "2022-11-05T19:34:43.479Z"
   },
   {
    "duration": 28,
    "start_time": "2022-11-05T19:34:43.507Z"
   },
   {
    "duration": 8,
    "start_time": "2022-11-05T19:34:43.537Z"
   },
   {
    "duration": 6,
    "start_time": "2022-11-05T19:34:43.546Z"
   },
   {
    "duration": 13,
    "start_time": "2022-11-05T19:34:43.554Z"
   },
   {
    "duration": 18,
    "start_time": "2022-11-05T19:34:43.568Z"
   },
   {
    "duration": 17,
    "start_time": "2022-11-05T19:34:43.605Z"
   },
   {
    "duration": 4,
    "start_time": "2022-11-05T19:34:43.624Z"
   },
   {
    "duration": 13,
    "start_time": "2022-11-05T19:34:43.630Z"
   },
   {
    "duration": 7,
    "start_time": "2022-11-05T19:34:43.645Z"
   },
   {
    "duration": 4,
    "start_time": "2022-11-05T19:34:43.653Z"
   },
   {
    "duration": 9,
    "start_time": "2022-11-05T19:34:43.658Z"
   },
   {
    "duration": 138,
    "start_time": "2022-11-05T19:34:43.669Z"
   },
   {
    "duration": 14,
    "start_time": "2022-11-05T19:34:43.808Z"
   },
   {
    "duration": 0,
    "start_time": "2022-11-05T19:34:43.824Z"
   },
   {
    "duration": 0,
    "start_time": "2022-11-05T19:34:43.826Z"
   },
   {
    "duration": 112,
    "start_time": "2022-11-05T19:35:41.763Z"
   },
   {
    "duration": 6,
    "start_time": "2022-11-05T19:35:48.933Z"
   },
   {
    "duration": 7,
    "start_time": "2022-11-05T19:35:54.281Z"
   },
   {
    "duration": 7,
    "start_time": "2022-11-05T19:35:56.731Z"
   },
   {
    "duration": 9,
    "start_time": "2022-11-05T19:35:59.890Z"
   },
   {
    "duration": 7,
    "start_time": "2022-11-05T19:36:02.139Z"
   },
   {
    "duration": 7,
    "start_time": "2022-11-05T19:36:03.457Z"
   },
   {
    "duration": 6,
    "start_time": "2022-11-05T19:36:07.041Z"
   },
   {
    "duration": 8,
    "start_time": "2022-11-05T19:36:13.001Z"
   },
   {
    "duration": 7,
    "start_time": "2022-11-05T19:36:19.588Z"
   },
   {
    "duration": 7,
    "start_time": "2022-11-05T19:42:45.224Z"
   },
   {
    "duration": 8,
    "start_time": "2022-11-05T19:42:54.296Z"
   },
   {
    "duration": 9,
    "start_time": "2022-11-05T19:42:55.872Z"
   },
   {
    "duration": 3,
    "start_time": "2022-11-05T19:42:58.564Z"
   },
   {
    "duration": 6,
    "start_time": "2022-11-05T19:43:43.456Z"
   },
   {
    "duration": 4,
    "start_time": "2022-11-05T19:44:03.729Z"
   },
   {
    "duration": 4,
    "start_time": "2022-11-05T19:44:07.050Z"
   },
   {
    "duration": 7,
    "start_time": "2022-11-05T19:44:13.427Z"
   },
   {
    "duration": 70,
    "start_time": "2022-11-05T19:45:58.212Z"
   },
   {
    "duration": 13,
    "start_time": "2022-11-05T19:45:58.284Z"
   },
   {
    "duration": 14,
    "start_time": "2022-11-05T19:45:58.299Z"
   },
   {
    "duration": 8,
    "start_time": "2022-11-05T19:45:58.315Z"
   },
   {
    "duration": 28,
    "start_time": "2022-11-05T19:45:58.324Z"
   },
   {
    "duration": 3,
    "start_time": "2022-11-05T19:45:58.353Z"
   },
   {
    "duration": 10,
    "start_time": "2022-11-05T19:45:58.357Z"
   },
   {
    "duration": 3,
    "start_time": "2022-11-05T19:45:58.368Z"
   },
   {
    "duration": 5,
    "start_time": "2022-11-05T19:45:58.373Z"
   },
   {
    "duration": 4,
    "start_time": "2022-11-05T19:45:58.406Z"
   },
   {
    "duration": 30,
    "start_time": "2022-11-05T19:45:58.411Z"
   },
   {
    "duration": 8,
    "start_time": "2022-11-05T19:45:58.442Z"
   },
   {
    "duration": 5,
    "start_time": "2022-11-05T19:45:58.451Z"
   },
   {
    "duration": 11,
    "start_time": "2022-11-05T19:45:58.457Z"
   },
   {
    "duration": 39,
    "start_time": "2022-11-05T19:45:58.469Z"
   },
   {
    "duration": 19,
    "start_time": "2022-11-05T19:45:58.509Z"
   },
   {
    "duration": 4,
    "start_time": "2022-11-05T19:45:58.530Z"
   },
   {
    "duration": 14,
    "start_time": "2022-11-05T19:45:58.535Z"
   },
   {
    "duration": 8,
    "start_time": "2022-11-05T19:45:58.551Z"
   },
   {
    "duration": 3,
    "start_time": "2022-11-05T19:45:58.560Z"
   },
   {
    "duration": 11,
    "start_time": "2022-11-05T19:45:58.565Z"
   },
   {
    "duration": 38,
    "start_time": "2022-11-05T19:45:58.577Z"
   },
   {
    "duration": 8,
    "start_time": "2022-11-05T19:45:58.617Z"
   },
   {
    "duration": 2,
    "start_time": "2022-11-05T19:45:58.627Z"
   },
   {
    "duration": 4,
    "start_time": "2022-11-05T19:45:58.630Z"
   },
   {
    "duration": 7,
    "start_time": "2022-11-05T19:46:34.516Z"
   },
   {
    "duration": 5,
    "start_time": "2022-11-05T19:47:17.610Z"
   },
   {
    "duration": 8,
    "start_time": "2022-11-05T19:54:59.102Z"
   },
   {
    "duration": 8,
    "start_time": "2022-11-05T20:15:17.810Z"
   },
   {
    "duration": 8,
    "start_time": "2022-11-05T20:16:19.200Z"
   },
   {
    "duration": 9,
    "start_time": "2022-11-05T20:16:23.395Z"
   },
   {
    "duration": 3,
    "start_time": "2022-11-05T20:16:32.512Z"
   },
   {
    "duration": 10,
    "start_time": "2022-11-05T20:17:34.900Z"
   },
   {
    "duration": 11,
    "start_time": "2022-11-05T20:17:48.410Z"
   },
   {
    "duration": 9,
    "start_time": "2022-11-05T20:17:51.291Z"
   },
   {
    "duration": 11,
    "start_time": "2022-11-05T20:17:53.410Z"
   },
   {
    "duration": 10,
    "start_time": "2022-11-05T20:18:01.506Z"
   },
   {
    "duration": 8,
    "start_time": "2022-11-05T20:18:03.844Z"
   },
   {
    "duration": 9,
    "start_time": "2022-11-05T20:18:06.865Z"
   },
   {
    "duration": 4,
    "start_time": "2022-11-05T20:18:46.579Z"
   },
   {
    "duration": 4,
    "start_time": "2022-11-05T20:18:58.453Z"
   },
   {
    "duration": 9,
    "start_time": "2022-11-05T20:19:04.795Z"
   },
   {
    "duration": 4,
    "start_time": "2022-11-05T20:19:09.550Z"
   },
   {
    "duration": 43,
    "start_time": "2022-11-05T21:45:24.587Z"
   },
   {
    "duration": 16,
    "start_time": "2022-11-05T21:46:05.268Z"
   },
   {
    "duration": 63,
    "start_time": "2022-11-05T21:46:30.352Z"
   },
   {
    "duration": 9,
    "start_time": "2022-11-05T21:47:58.654Z"
   },
   {
    "duration": 153,
    "start_time": "2022-11-05T21:48:13.391Z"
   },
   {
    "duration": 40,
    "start_time": "2022-11-05T21:49:38.086Z"
   },
   {
    "duration": 149,
    "start_time": "2022-11-05T21:49:43.203Z"
   },
   {
    "duration": 91,
    "start_time": "2022-11-05T21:49:54.948Z"
   },
   {
    "duration": 101,
    "start_time": "2022-11-05T21:49:56.967Z"
   },
   {
    "duration": 159,
    "start_time": "2022-11-05T21:50:01.984Z"
   },
   {
    "duration": 171,
    "start_time": "2022-11-05T21:50:34.908Z"
   },
   {
    "duration": 166,
    "start_time": "2022-11-05T21:50:41.608Z"
   },
   {
    "duration": 166,
    "start_time": "2022-11-05T21:50:44.794Z"
   },
   {
    "duration": 166,
    "start_time": "2022-11-05T21:50:47.497Z"
   },
   {
    "duration": 152,
    "start_time": "2022-11-05T21:50:51.291Z"
   },
   {
    "duration": 151,
    "start_time": "2022-11-05T21:50:54.218Z"
   },
   {
    "duration": 145,
    "start_time": "2022-11-05T21:50:58.561Z"
   },
   {
    "duration": 12,
    "start_time": "2022-11-05T21:52:07.447Z"
   },
   {
    "duration": 155,
    "start_time": "2022-11-05T21:52:12.409Z"
   },
   {
    "duration": 47,
    "start_time": "2022-11-08T07:31:14.203Z"
   },
   {
    "duration": 724,
    "start_time": "2022-11-08T07:31:19.762Z"
   },
   {
    "duration": 26,
    "start_time": "2022-11-08T07:31:20.489Z"
   },
   {
    "duration": 15,
    "start_time": "2022-11-08T07:31:20.516Z"
   },
   {
    "duration": 9,
    "start_time": "2022-11-08T07:31:20.532Z"
   },
   {
    "duration": 50,
    "start_time": "2022-11-08T07:31:20.543Z"
   },
   {
    "duration": 3,
    "start_time": "2022-11-08T07:31:20.595Z"
   },
   {
    "duration": 11,
    "start_time": "2022-11-08T07:31:20.600Z"
   },
   {
    "duration": 13,
    "start_time": "2022-11-08T07:31:20.612Z"
   },
   {
    "duration": 16,
    "start_time": "2022-11-08T07:31:20.626Z"
   },
   {
    "duration": 5,
    "start_time": "2022-11-08T07:31:20.643Z"
   },
   {
    "duration": 50,
    "start_time": "2022-11-08T07:31:20.650Z"
   },
   {
    "duration": 12,
    "start_time": "2022-11-08T07:31:20.702Z"
   },
   {
    "duration": 4,
    "start_time": "2022-11-08T07:31:20.716Z"
   },
   {
    "duration": 12,
    "start_time": "2022-11-08T07:31:20.723Z"
   },
   {
    "duration": 41,
    "start_time": "2022-11-08T07:31:20.736Z"
   },
   {
    "duration": 19,
    "start_time": "2022-11-08T07:31:20.779Z"
   },
   {
    "duration": 3,
    "start_time": "2022-11-08T07:31:20.799Z"
   },
   {
    "duration": 16,
    "start_time": "2022-11-08T07:31:20.804Z"
   },
   {
    "duration": 5,
    "start_time": "2022-11-08T07:31:20.821Z"
   },
   {
    "duration": 20,
    "start_time": "2022-11-08T07:31:20.827Z"
   },
   {
    "duration": 11,
    "start_time": "2022-11-08T07:31:20.858Z"
   },
   {
    "duration": 10,
    "start_time": "2022-11-08T07:31:20.871Z"
   },
   {
    "duration": 47,
    "start_time": "2022-11-08T07:31:20.884Z"
   },
   {
    "duration": 28,
    "start_time": "2022-11-08T07:31:20.933Z"
   },
   {
    "duration": 4,
    "start_time": "2022-11-08T07:31:20.963Z"
   },
   {
    "duration": 13,
    "start_time": "2022-11-08T07:31:20.969Z"
   },
   {
    "duration": 10,
    "start_time": "2022-11-08T07:31:20.984Z"
   },
   {
    "duration": 47,
    "start_time": "2022-11-08T07:31:41.575Z"
   },
   {
    "duration": 39,
    "start_time": "2022-11-08T07:31:56.372Z"
   },
   {
    "duration": 33,
    "start_time": "2022-11-08T07:32:03.380Z"
   },
   {
    "duration": 39,
    "start_time": "2022-11-08T07:32:15.565Z"
   },
   {
    "duration": 47,
    "start_time": "2022-11-08T07:34:01.574Z"
   },
   {
    "duration": 12,
    "start_time": "2022-11-08T07:34:53.599Z"
   },
   {
    "duration": 10,
    "start_time": "2022-11-08T07:34:59.492Z"
   },
   {
    "duration": 12,
    "start_time": "2022-11-08T07:35:24.327Z"
   },
   {
    "duration": 11,
    "start_time": "2022-11-08T07:35:33.152Z"
   },
   {
    "duration": 11,
    "start_time": "2022-11-08T07:35:35.760Z"
   },
   {
    "duration": 12,
    "start_time": "2022-11-08T07:36:15.006Z"
   },
   {
    "duration": 35,
    "start_time": "2022-11-08T07:36:21.012Z"
   },
   {
    "duration": 12,
    "start_time": "2022-11-08T07:36:25.220Z"
   },
   {
    "duration": 8,
    "start_time": "2022-11-08T07:36:37.197Z"
   },
   {
    "duration": 10,
    "start_time": "2022-11-08T07:36:44.339Z"
   },
   {
    "duration": 8,
    "start_time": "2022-11-08T07:37:01.121Z"
   },
   {
    "duration": 6,
    "start_time": "2022-11-08T07:37:14.869Z"
   },
   {
    "duration": 8,
    "start_time": "2022-11-08T07:37:20.034Z"
   },
   {
    "duration": 6,
    "start_time": "2022-11-08T07:37:26.235Z"
   },
   {
    "duration": 10,
    "start_time": "2022-11-08T07:37:32.805Z"
   },
   {
    "duration": 11,
    "start_time": "2022-11-08T07:38:19.086Z"
   },
   {
    "duration": 13,
    "start_time": "2022-11-08T07:38:34.720Z"
   },
   {
    "duration": 11,
    "start_time": "2022-11-08T07:38:45.435Z"
   },
   {
    "duration": 13,
    "start_time": "2022-11-08T07:38:49.608Z"
   },
   {
    "duration": 13,
    "start_time": "2022-11-08T07:39:52.577Z"
   },
   {
    "duration": 13,
    "start_time": "2022-11-08T07:39:56.311Z"
   },
   {
    "duration": 12,
    "start_time": "2022-11-08T07:39:59.057Z"
   },
   {
    "duration": 14,
    "start_time": "2022-11-08T07:40:22.366Z"
   },
   {
    "duration": 13,
    "start_time": "2022-11-08T07:40:37.887Z"
   },
   {
    "duration": 14,
    "start_time": "2022-11-08T07:40:40.941Z"
   },
   {
    "duration": 14,
    "start_time": "2022-11-08T07:40:44.348Z"
   },
   {
    "duration": 11,
    "start_time": "2022-11-08T07:40:49.095Z"
   },
   {
    "duration": 13,
    "start_time": "2022-11-08T07:40:51.856Z"
   },
   {
    "duration": 15,
    "start_time": "2022-11-08T07:40:54.770Z"
   },
   {
    "duration": 10,
    "start_time": "2022-11-08T07:40:59.808Z"
   },
   {
    "duration": 10,
    "start_time": "2022-11-08T07:41:21.518Z"
   },
   {
    "duration": 11,
    "start_time": "2022-11-08T07:41:23.158Z"
   },
   {
    "duration": 17,
    "start_time": "2022-11-08T07:41:45.074Z"
   },
   {
    "duration": 16,
    "start_time": "2022-11-08T07:41:56.225Z"
   },
   {
    "duration": 18,
    "start_time": "2022-11-08T07:42:03.256Z"
   },
   {
    "duration": 18,
    "start_time": "2022-11-08T07:42:08.168Z"
   },
   {
    "duration": 18,
    "start_time": "2022-11-08T07:42:18.130Z"
   },
   {
    "duration": 19,
    "start_time": "2022-11-08T07:42:18.349Z"
   },
   {
    "duration": 17,
    "start_time": "2022-11-08T07:42:20.623Z"
   },
   {
    "duration": 18,
    "start_time": "2022-11-08T07:42:30.768Z"
   },
   {
    "duration": 19,
    "start_time": "2022-11-08T07:42:46.407Z"
   },
   {
    "duration": 13,
    "start_time": "2022-11-08T07:42:53.147Z"
   },
   {
    "duration": 69,
    "start_time": "2022-11-08T07:44:07.694Z"
   },
   {
    "duration": 114,
    "start_time": "2022-11-08T07:44:22.811Z"
   },
   {
    "duration": 64,
    "start_time": "2022-11-08T07:44:27.752Z"
   },
   {
    "duration": 12,
    "start_time": "2022-11-08T07:44:33.906Z"
   },
   {
    "duration": 13,
    "start_time": "2022-11-08T07:44:37.876Z"
   },
   {
    "duration": 13,
    "start_time": "2022-11-08T07:44:42.668Z"
   },
   {
    "duration": 14,
    "start_time": "2022-11-08T07:44:46.144Z"
   },
   {
    "duration": 13,
    "start_time": "2022-11-08T07:44:48.959Z"
   },
   {
    "duration": 20,
    "start_time": "2022-11-08T07:44:58.763Z"
   },
   {
    "duration": 9,
    "start_time": "2022-11-08T07:46:03.227Z"
   },
   {
    "duration": 27,
    "start_time": "2022-11-08T07:46:05.253Z"
   },
   {
    "duration": 11,
    "start_time": "2022-11-08T07:48:50.065Z"
   },
   {
    "duration": 11,
    "start_time": "2022-11-08T07:49:03.688Z"
   },
   {
    "duration": 11,
    "start_time": "2022-11-08T07:49:10.800Z"
   },
   {
    "duration": 10,
    "start_time": "2022-11-08T07:49:27.512Z"
   },
   {
    "duration": 11,
    "start_time": "2022-11-08T07:49:37.343Z"
   },
   {
    "duration": 11,
    "start_time": "2022-11-08T07:49:42.740Z"
   },
   {
    "duration": 13,
    "start_time": "2022-11-08T07:49:48.610Z"
   },
   {
    "duration": 146,
    "start_time": "2022-11-08T07:49:55.356Z"
   },
   {
    "duration": 160,
    "start_time": "2022-11-08T07:49:59.480Z"
   },
   {
    "duration": 41,
    "start_time": "2022-11-08T07:50:04.911Z"
   },
   {
    "duration": 14,
    "start_time": "2022-11-08T07:50:48.777Z"
   },
   {
    "duration": 7,
    "start_time": "2022-11-08T07:51:28.075Z"
   },
   {
    "duration": 16,
    "start_time": "2022-11-08T07:51:36.532Z"
   },
   {
    "duration": 34,
    "start_time": "2022-11-08T07:51:46.155Z"
   },
   {
    "duration": 52,
    "start_time": "2022-11-08T07:51:58.657Z"
   },
   {
    "duration": 31,
    "start_time": "2022-11-08T07:53:28.620Z"
   },
   {
    "duration": 61,
    "start_time": "2022-11-08T07:54:11.583Z"
   },
   {
    "duration": 17,
    "start_time": "2022-11-08T07:55:22.951Z"
   },
   {
    "duration": 57,
    "start_time": "2022-11-08T07:55:28.392Z"
   },
   {
    "duration": 59,
    "start_time": "2022-11-08T07:55:52.296Z"
   },
   {
    "duration": 12,
    "start_time": "2022-11-08T07:56:13.632Z"
   },
   {
    "duration": 58,
    "start_time": "2022-11-08T07:56:18.730Z"
   },
   {
    "duration": 66,
    "start_time": "2022-11-08T07:56:23.872Z"
   },
   {
    "duration": 10,
    "start_time": "2022-11-08T07:58:16.335Z"
   },
   {
    "duration": 8,
    "start_time": "2022-11-08T07:58:25.978Z"
   },
   {
    "duration": 7,
    "start_time": "2022-11-08T07:58:28.909Z"
   },
   {
    "duration": 8,
    "start_time": "2022-11-08T07:58:38.187Z"
   },
   {
    "duration": 10,
    "start_time": "2022-11-08T07:58:53.101Z"
   },
   {
    "duration": 12,
    "start_time": "2022-11-08T07:58:58.779Z"
   },
   {
    "duration": 10,
    "start_time": "2022-11-08T07:59:00.516Z"
   },
   {
    "duration": 11,
    "start_time": "2022-11-08T07:59:07.278Z"
   },
   {
    "duration": 9,
    "start_time": "2022-11-08T07:59:13.516Z"
   },
   {
    "duration": 10,
    "start_time": "2022-11-08T07:59:19.939Z"
   },
   {
    "duration": 10,
    "start_time": "2022-11-08T07:59:27.860Z"
   },
   {
    "duration": 20,
    "start_time": "2022-11-08T08:01:53.250Z"
   },
   {
    "duration": 7,
    "start_time": "2022-11-08T08:02:08.156Z"
   },
   {
    "duration": 11,
    "start_time": "2022-11-08T08:02:13.583Z"
   },
   {
    "duration": 11,
    "start_time": "2022-11-08T08:02:27.046Z"
   },
   {
    "duration": 12,
    "start_time": "2022-11-08T08:02:32.032Z"
   },
   {
    "duration": 14,
    "start_time": "2022-11-08T08:02:42.111Z"
   },
   {
    "duration": 12,
    "start_time": "2022-11-08T08:05:59.572Z"
   },
   {
    "duration": 13,
    "start_time": "2022-11-08T08:06:02.117Z"
   },
   {
    "duration": 65,
    "start_time": "2022-11-08T08:06:06.504Z"
   },
   {
    "duration": 59,
    "start_time": "2022-11-08T08:07:13.885Z"
   },
   {
    "duration": 39,
    "start_time": "2022-11-08T08:07:27.884Z"
   },
   {
    "duration": 26,
    "start_time": "2022-11-08T08:07:45.558Z"
   },
   {
    "duration": 45,
    "start_time": "2022-11-08T08:07:51.441Z"
   },
   {
    "duration": 22,
    "start_time": "2022-11-08T08:08:12.584Z"
   },
   {
    "duration": 94,
    "start_time": "2022-11-08T08:14:07.449Z"
   },
   {
    "duration": 47,
    "start_time": "2022-11-08T08:14:23.608Z"
   },
   {
    "duration": 13,
    "start_time": "2022-11-08T08:17:21.346Z"
   },
   {
    "duration": 11,
    "start_time": "2022-11-08T08:17:38.041Z"
   },
   {
    "duration": 10,
    "start_time": "2022-11-08T08:18:24.471Z"
   },
   {
    "duration": 13,
    "start_time": "2022-11-08T08:18:32.018Z"
   },
   {
    "duration": 13,
    "start_time": "2022-11-08T08:18:53.846Z"
   },
   {
    "duration": 13,
    "start_time": "2022-11-08T08:19:09.259Z"
   },
   {
    "duration": 13,
    "start_time": "2022-11-08T08:19:11.311Z"
   },
   {
    "duration": 18,
    "start_time": "2022-11-08T08:19:26.032Z"
   },
   {
    "duration": 17,
    "start_time": "2022-11-08T08:19:57.406Z"
   },
   {
    "duration": 13,
    "start_time": "2022-11-08T08:19:59.171Z"
   },
   {
    "duration": 27,
    "start_time": "2022-11-08T08:20:59.381Z"
   },
   {
    "duration": 28,
    "start_time": "2022-11-08T08:21:15.734Z"
   },
   {
    "duration": 31,
    "start_time": "2022-11-08T08:21:21.525Z"
   },
   {
    "duration": 23,
    "start_time": "2022-11-08T08:21:40.526Z"
   },
   {
    "duration": 32,
    "start_time": "2022-11-08T08:21:51.710Z"
   },
   {
    "duration": 29,
    "start_time": "2022-11-08T08:22:01.711Z"
   },
   {
    "duration": 41,
    "start_time": "2022-11-08T08:22:10.487Z"
   },
   {
    "duration": 28,
    "start_time": "2022-11-08T08:22:13.256Z"
   },
   {
    "duration": 36,
    "start_time": "2022-11-08T08:22:16.293Z"
   },
   {
    "duration": 345,
    "start_time": "2022-11-08T08:23:24.000Z"
   },
   {
    "duration": 18,
    "start_time": "2022-11-08T08:23:26.659Z"
   },
   {
    "duration": 52,
    "start_time": "2022-11-08T08:24:50.580Z"
   },
   {
    "duration": 42,
    "start_time": "2022-11-08T08:24:58.697Z"
   },
   {
    "duration": 54,
    "start_time": "2022-11-08T08:25:00.610Z"
   },
   {
    "duration": 152,
    "start_time": "2022-11-08T08:25:05.544Z"
   },
   {
    "duration": 15,
    "start_time": "2022-11-08T08:25:05.697Z"
   },
   {
    "duration": 17,
    "start_time": "2022-11-08T08:25:05.714Z"
   },
   {
    "duration": 11,
    "start_time": "2022-11-08T08:25:05.732Z"
   },
   {
    "duration": 41,
    "start_time": "2022-11-08T08:25:05.744Z"
   },
   {
    "duration": 3,
    "start_time": "2022-11-08T08:25:05.786Z"
   },
   {
    "duration": 12,
    "start_time": "2022-11-08T08:25:05.790Z"
   },
   {
    "duration": 4,
    "start_time": "2022-11-08T08:25:05.803Z"
   },
   {
    "duration": 7,
    "start_time": "2022-11-08T08:25:05.808Z"
   },
   {
    "duration": 10,
    "start_time": "2022-11-08T08:25:05.816Z"
   },
   {
    "duration": 56,
    "start_time": "2022-11-08T08:25:05.828Z"
   },
   {
    "duration": 10,
    "start_time": "2022-11-08T08:25:05.885Z"
   },
   {
    "duration": 4,
    "start_time": "2022-11-08T08:25:05.897Z"
   },
   {
    "duration": 13,
    "start_time": "2022-11-08T08:25:05.903Z"
   },
   {
    "duration": 19,
    "start_time": "2022-11-08T08:25:05.918Z"
   },
   {
    "duration": 39,
    "start_time": "2022-11-08T08:25:05.939Z"
   },
   {
    "duration": 3,
    "start_time": "2022-11-08T08:25:05.979Z"
   },
   {
    "duration": 13,
    "start_time": "2022-11-08T08:25:05.984Z"
   },
   {
    "duration": 7,
    "start_time": "2022-11-08T08:25:05.998Z"
   },
   {
    "duration": 3,
    "start_time": "2022-11-08T08:25:06.007Z"
   },
   {
    "duration": 13,
    "start_time": "2022-11-08T08:25:06.011Z"
   },
   {
    "duration": 47,
    "start_time": "2022-11-08T08:25:06.025Z"
   },
   {
    "duration": 15,
    "start_time": "2022-11-08T08:25:06.074Z"
   },
   {
    "duration": 49,
    "start_time": "2022-11-08T08:25:06.090Z"
   },
   {
    "duration": 0,
    "start_time": "2022-11-08T08:25:06.140Z"
   },
   {
    "duration": 0,
    "start_time": "2022-11-08T08:25:06.141Z"
   },
   {
    "duration": 0,
    "start_time": "2022-11-08T08:25:06.142Z"
   },
   {
    "duration": 0,
    "start_time": "2022-11-08T08:25:06.143Z"
   },
   {
    "duration": 0,
    "start_time": "2022-11-08T08:25:06.144Z"
   },
   {
    "duration": 0,
    "start_time": "2022-11-08T08:25:06.145Z"
   },
   {
    "duration": 3,
    "start_time": "2022-11-08T08:25:18.707Z"
   },
   {
    "duration": 17,
    "start_time": "2022-11-08T08:25:22.025Z"
   },
   {
    "duration": 22,
    "start_time": "2022-11-08T08:25:23.499Z"
   },
   {
    "duration": 795,
    "start_time": "2022-11-08T08:26:46.700Z"
   },
   {
    "duration": 16,
    "start_time": "2022-11-08T08:27:07.236Z"
   },
   {
    "duration": 898,
    "start_time": "2022-11-08T08:27:11.717Z"
   },
   {
    "duration": 26,
    "start_time": "2022-11-08T08:27:27.644Z"
   },
   {
    "duration": 21,
    "start_time": "2022-11-08T08:27:35.919Z"
   },
   {
    "duration": 16,
    "start_time": "2022-11-08T08:27:50.821Z"
   },
   {
    "duration": 1064,
    "start_time": "2022-11-08T08:28:02.777Z"
   },
   {
    "duration": 18,
    "start_time": "2022-11-08T08:28:13.708Z"
   },
   {
    "duration": 900,
    "start_time": "2022-11-08T08:28:29.220Z"
   },
   {
    "duration": 871,
    "start_time": "2022-11-08T08:28:40.845Z"
   },
   {
    "duration": 966,
    "start_time": "2022-11-08T08:28:44.346Z"
   },
   {
    "duration": 919,
    "start_time": "2022-11-08T08:28:48.302Z"
   },
   {
    "duration": 1110,
    "start_time": "2022-11-08T08:30:47.929Z"
   },
   {
    "duration": 1025,
    "start_time": "2022-11-08T08:30:54.231Z"
   },
   {
    "duration": 1152,
    "start_time": "2022-11-08T08:30:57.181Z"
   },
   {
    "duration": 19,
    "start_time": "2022-11-08T08:31:02.980Z"
   },
   {
    "duration": 21,
    "start_time": "2022-11-08T08:31:22.089Z"
   },
   {
    "duration": 18,
    "start_time": "2022-11-08T08:31:41.421Z"
   },
   {
    "duration": 22,
    "start_time": "2022-11-08T08:32:28.321Z"
   },
   {
    "duration": 23,
    "start_time": "2022-11-08T08:32:57.242Z"
   },
   {
    "duration": 5,
    "start_time": "2022-11-08T08:34:05.923Z"
   },
   {
    "duration": 10,
    "start_time": "2022-11-08T08:34:08.884Z"
   },
   {
    "duration": 8,
    "start_time": "2022-11-08T08:34:30.891Z"
   },
   {
    "duration": 19,
    "start_time": "2022-11-08T08:35:16.007Z"
   },
   {
    "duration": 29,
    "start_time": "2022-11-08T08:35:18.283Z"
   },
   {
    "duration": 22,
    "start_time": "2022-11-08T08:36:22.724Z"
   },
   {
    "duration": 28,
    "start_time": "2022-11-08T08:36:28.224Z"
   },
   {
    "duration": 35,
    "start_time": "2022-11-08T08:36:35.353Z"
   },
   {
    "duration": 32,
    "start_time": "2022-11-08T08:37:22.423Z"
   },
   {
    "duration": 22,
    "start_time": "2022-11-08T08:37:25.310Z"
   },
   {
    "duration": 28,
    "start_time": "2022-11-08T08:37:59.216Z"
   },
   {
    "duration": 25,
    "start_time": "2022-11-08T08:38:11.993Z"
   },
   {
    "duration": 34,
    "start_time": "2022-11-08T08:38:15.304Z"
   },
   {
    "duration": 34,
    "start_time": "2022-11-08T08:38:29.456Z"
   },
   {
    "duration": 27,
    "start_time": "2022-11-08T08:38:39.483Z"
   },
   {
    "duration": 30,
    "start_time": "2022-11-08T08:38:47.781Z"
   },
   {
    "duration": 31,
    "start_time": "2022-11-08T08:39:00.081Z"
   },
   {
    "duration": 26,
    "start_time": "2022-11-08T08:39:07.388Z"
   },
   {
    "duration": 39,
    "start_time": "2022-11-08T08:39:14.937Z"
   },
   {
    "duration": 29,
    "start_time": "2022-11-08T08:39:18.249Z"
   },
   {
    "duration": 37,
    "start_time": "2022-11-08T08:39:22.552Z"
   },
   {
    "duration": 37,
    "start_time": "2022-11-08T08:40:23.155Z"
   },
   {
    "duration": 36,
    "start_time": "2022-11-08T08:40:31.851Z"
   },
   {
    "duration": 31,
    "start_time": "2022-11-08T08:40:42.499Z"
   },
   {
    "duration": 9,
    "start_time": "2022-11-08T08:45:24.399Z"
   },
   {
    "duration": 8,
    "start_time": "2022-11-08T08:45:46.097Z"
   },
   {
    "duration": 242,
    "start_time": "2022-11-08T08:45:57.203Z"
   },
   {
    "duration": 9,
    "start_time": "2022-11-08T08:46:17.972Z"
   },
   {
    "duration": 9,
    "start_time": "2022-11-08T08:47:11.705Z"
   },
   {
    "duration": 8,
    "start_time": "2022-11-08T08:47:16.533Z"
   },
   {
    "duration": 10,
    "start_time": "2022-11-08T08:47:18.630Z"
   },
   {
    "duration": 9,
    "start_time": "2022-11-08T08:47:22.513Z"
   },
   {
    "duration": 10,
    "start_time": "2022-11-08T08:47:23.667Z"
   },
   {
    "duration": 36,
    "start_time": "2022-11-08T08:49:42.392Z"
   },
   {
    "duration": 49,
    "start_time": "2022-11-08T08:49:44.280Z"
   },
   {
    "duration": 7,
    "start_time": "2022-11-08T08:51:33.454Z"
   },
   {
    "duration": 6,
    "start_time": "2022-11-08T08:51:41.137Z"
   },
   {
    "duration": 6,
    "start_time": "2022-11-08T08:52:29.603Z"
   },
   {
    "duration": 38,
    "start_time": "2022-11-08T08:52:33.936Z"
   },
   {
    "duration": 20,
    "start_time": "2022-11-08T08:52:58.000Z"
   },
   {
    "duration": 12,
    "start_time": "2022-11-08T08:56:25.732Z"
   },
   {
    "duration": 13,
    "start_time": "2022-11-08T08:56:35.042Z"
   },
   {
    "duration": 14,
    "start_time": "2022-11-08T08:56:41.359Z"
   },
   {
    "duration": 14,
    "start_time": "2022-11-08T08:56:44.668Z"
   },
   {
    "duration": 15,
    "start_time": "2022-11-08T08:57:04.277Z"
   },
   {
    "duration": 18,
    "start_time": "2022-11-08T08:57:08.911Z"
   },
   {
    "duration": 6,
    "start_time": "2022-11-08T08:57:13.829Z"
   },
   {
    "duration": 13,
    "start_time": "2022-11-08T08:57:16.925Z"
   },
   {
    "duration": 14,
    "start_time": "2022-11-08T08:57:23.695Z"
   },
   {
    "duration": 9,
    "start_time": "2022-11-08T08:57:31.160Z"
   },
   {
    "duration": 13,
    "start_time": "2022-11-08T08:57:38.367Z"
   },
   {
    "duration": 11,
    "start_time": "2022-11-08T08:57:47.512Z"
   },
   {
    "duration": 838,
    "start_time": "2022-11-08T08:58:32.085Z"
   },
   {
    "duration": 865,
    "start_time": "2022-11-08T08:58:41.344Z"
   },
   {
    "duration": 7,
    "start_time": "2022-11-08T08:58:49.883Z"
   },
   {
    "duration": 11,
    "start_time": "2022-11-08T08:58:53.411Z"
   },
   {
    "duration": 12,
    "start_time": "2022-11-08T08:59:13.145Z"
   },
   {
    "duration": 12,
    "start_time": "2022-11-08T08:59:25.185Z"
   },
   {
    "duration": 26,
    "start_time": "2022-11-08T08:59:39.696Z"
   },
   {
    "duration": 16,
    "start_time": "2022-11-08T08:59:55.050Z"
   },
   {
    "duration": 10,
    "start_time": "2022-11-08T09:00:07.201Z"
   },
   {
    "duration": 55,
    "start_time": "2022-11-08T09:00:58.849Z"
   },
   {
    "duration": 9,
    "start_time": "2022-11-08T09:01:02.004Z"
   },
   {
    "duration": 7,
    "start_time": "2022-11-08T09:01:05.770Z"
   },
   {
    "duration": 11,
    "start_time": "2022-11-08T09:01:09.963Z"
   },
   {
    "duration": 13,
    "start_time": "2022-11-08T09:01:27.074Z"
   },
   {
    "duration": 15,
    "start_time": "2022-11-08T09:01:31.459Z"
   },
   {
    "duration": 8,
    "start_time": "2022-11-08T09:01:34.847Z"
   },
   {
    "duration": 9,
    "start_time": "2022-11-08T09:02:03.349Z"
   },
   {
    "duration": 10,
    "start_time": "2022-11-08T09:02:04.403Z"
   },
   {
    "duration": 24,
    "start_time": "2022-11-08T09:02:28.092Z"
   },
   {
    "duration": 19,
    "start_time": "2022-11-08T09:02:32.808Z"
   },
   {
    "duration": 17,
    "start_time": "2022-11-08T09:02:55.586Z"
   },
   {
    "duration": 17,
    "start_time": "2022-11-08T09:03:02.405Z"
   },
   {
    "duration": 22,
    "start_time": "2022-11-08T09:03:05.750Z"
   },
   {
    "duration": 11,
    "start_time": "2022-11-08T09:04:51.595Z"
   },
   {
    "duration": 10,
    "start_time": "2022-11-08T09:10:13.910Z"
   },
   {
    "duration": 12,
    "start_time": "2022-11-08T09:10:21.627Z"
   },
   {
    "duration": 11,
    "start_time": "2022-11-08T09:10:26.185Z"
   },
   {
    "duration": 27,
    "start_time": "2022-11-08T09:10:41.579Z"
   },
   {
    "duration": 25,
    "start_time": "2022-11-08T09:10:57.037Z"
   },
   {
    "duration": 27,
    "start_time": "2022-11-08T09:11:01.247Z"
   },
   {
    "duration": 11,
    "start_time": "2022-11-08T09:11:22.783Z"
   },
   {
    "duration": 17,
    "start_time": "2022-11-08T09:11:36.450Z"
   },
   {
    "duration": 12,
    "start_time": "2022-11-08T09:11:40.327Z"
   },
   {
    "duration": 15,
    "start_time": "2022-11-08T09:11:51.089Z"
   },
   {
    "duration": 17,
    "start_time": "2022-11-08T09:11:54.677Z"
   },
   {
    "duration": 110,
    "start_time": "2022-11-08T09:11:59.627Z"
   },
   {
    "duration": 120,
    "start_time": "2022-11-08T09:12:10.143Z"
   },
   {
    "duration": 11,
    "start_time": "2022-11-08T09:12:34.337Z"
   },
   {
    "duration": 32,
    "start_time": "2022-11-08T09:12:39.847Z"
   },
   {
    "duration": 909,
    "start_time": "2022-11-08T09:13:06.923Z"
   },
   {
    "duration": 1036,
    "start_time": "2022-11-08T09:13:14.893Z"
   },
   {
    "duration": 712,
    "start_time": "2022-11-08T09:13:46.394Z"
   },
   {
    "duration": 693,
    "start_time": "2022-11-08T09:13:53.908Z"
   },
   {
    "duration": 713,
    "start_time": "2022-11-08T09:13:57.461Z"
   },
   {
    "duration": 747,
    "start_time": "2022-11-08T09:14:06.593Z"
   },
   {
    "duration": 926,
    "start_time": "2022-11-08T09:14:12.531Z"
   },
   {
    "duration": 786,
    "start_time": "2022-11-08T09:14:26.908Z"
   },
   {
    "duration": 75,
    "start_time": "2022-11-08T09:14:35.396Z"
   },
   {
    "duration": 13,
    "start_time": "2022-11-08T09:14:35.473Z"
   },
   {
    "duration": 26,
    "start_time": "2022-11-08T09:14:35.487Z"
   },
   {
    "duration": 30,
    "start_time": "2022-11-08T09:14:35.515Z"
   },
   {
    "duration": 57,
    "start_time": "2022-11-08T09:14:35.547Z"
   },
   {
    "duration": 3,
    "start_time": "2022-11-08T09:14:35.605Z"
   },
   {
    "duration": 22,
    "start_time": "2022-11-08T09:14:35.609Z"
   },
   {
    "duration": 41,
    "start_time": "2022-11-08T09:14:35.633Z"
   },
   {
    "duration": 19,
    "start_time": "2022-11-08T09:14:35.675Z"
   },
   {
    "duration": 12,
    "start_time": "2022-11-08T09:14:35.697Z"
   },
   {
    "duration": 60,
    "start_time": "2022-11-08T09:14:35.710Z"
   },
   {
    "duration": 9,
    "start_time": "2022-11-08T09:14:35.771Z"
   },
   {
    "duration": 25,
    "start_time": "2022-11-08T09:14:35.781Z"
   },
   {
    "duration": 73,
    "start_time": "2022-11-08T09:14:35.808Z"
   },
   {
    "duration": 31,
    "start_time": "2022-11-08T09:14:35.883Z"
   },
   {
    "duration": 26,
    "start_time": "2022-11-08T09:14:35.915Z"
   },
   {
    "duration": 10,
    "start_time": "2022-11-08T09:14:35.943Z"
   },
   {
    "duration": 52,
    "start_time": "2022-11-08T09:14:35.954Z"
   },
   {
    "duration": 24,
    "start_time": "2022-11-08T09:14:36.008Z"
   },
   {
    "duration": 13,
    "start_time": "2022-11-08T09:14:36.034Z"
   },
   {
    "duration": 43,
    "start_time": "2022-11-08T09:14:36.048Z"
   },
   {
    "duration": 43,
    "start_time": "2022-11-08T09:14:36.092Z"
   },
   {
    "duration": 14,
    "start_time": "2022-11-08T09:14:36.137Z"
   },
   {
    "duration": 47,
    "start_time": "2022-11-08T09:14:36.153Z"
   },
   {
    "duration": 86,
    "start_time": "2022-11-08T09:14:36.202Z"
   },
   {
    "duration": 15,
    "start_time": "2022-11-08T09:14:36.290Z"
   },
   {
    "duration": 34,
    "start_time": "2022-11-08T09:14:36.306Z"
   },
   {
    "duration": 98,
    "start_time": "2022-11-08T09:14:36.343Z"
   },
   {
    "duration": 14,
    "start_time": "2022-11-08T09:14:36.443Z"
   },
   {
    "duration": 24,
    "start_time": "2022-11-08T09:14:36.460Z"
   },
   {
    "duration": 31,
    "start_time": "2022-11-08T09:14:36.485Z"
   },
   {
    "duration": 24,
    "start_time": "2022-11-08T09:14:36.518Z"
   },
   {
    "duration": 22,
    "start_time": "2022-11-08T09:14:36.544Z"
   },
   {
    "duration": 9,
    "start_time": "2022-11-08T09:14:36.567Z"
   },
   {
    "duration": 39,
    "start_time": "2022-11-08T09:14:36.577Z"
   },
   {
    "duration": 18,
    "start_time": "2022-11-08T09:14:36.618Z"
   },
   {
    "duration": 40,
    "start_time": "2022-11-08T09:14:43.944Z"
   },
   {
    "duration": 502,
    "start_time": "2022-11-08T09:14:50.806Z"
   },
   {
    "duration": 19,
    "start_time": "2022-11-08T09:15:11.037Z"
   },
   {
    "duration": 15,
    "start_time": "2022-11-08T09:15:20.772Z"
   },
   {
    "duration": 23,
    "start_time": "2022-11-08T09:15:24.179Z"
   },
   {
    "duration": 16,
    "start_time": "2022-11-08T09:15:30.568Z"
   },
   {
    "duration": 21,
    "start_time": "2022-11-08T09:15:34.235Z"
   },
   {
    "duration": 23,
    "start_time": "2022-11-08T09:15:44.539Z"
   },
   {
    "duration": 16,
    "start_time": "2022-11-08T09:17:05.993Z"
   },
   {
    "duration": 43,
    "start_time": "2022-11-08T09:17:14.677Z"
   },
   {
    "duration": 16,
    "start_time": "2022-11-08T09:17:29.237Z"
   },
   {
    "duration": 7,
    "start_time": "2022-11-08T09:17:32.581Z"
   },
   {
    "duration": 16,
    "start_time": "2022-11-08T09:17:36.532Z"
   },
   {
    "duration": 27,
    "start_time": "2022-11-08T09:17:43.153Z"
   },
   {
    "duration": 15,
    "start_time": "2022-11-08T09:17:51.129Z"
   },
   {
    "duration": 16,
    "start_time": "2022-11-08T09:17:59.223Z"
   },
   {
    "duration": 23,
    "start_time": "2022-11-08T09:18:03.950Z"
   },
   {
    "duration": 23,
    "start_time": "2022-11-08T09:18:11.045Z"
   },
   {
    "duration": 14,
    "start_time": "2022-11-08T09:18:15.883Z"
   },
   {
    "duration": 14,
    "start_time": "2022-11-08T09:18:30.625Z"
   },
   {
    "duration": 1857,
    "start_time": "2022-11-08T09:18:38.273Z"
   },
   {
    "duration": 15,
    "start_time": "2022-11-08T09:18:53.296Z"
   },
   {
    "duration": 27,
    "start_time": "2022-11-08T09:19:02.171Z"
   },
   {
    "duration": 16,
    "start_time": "2022-11-08T09:19:30.735Z"
   },
   {
    "duration": 33,
    "start_time": "2022-11-08T09:19:37.455Z"
   },
   {
    "duration": 17,
    "start_time": "2022-11-08T09:19:45.720Z"
   },
   {
    "duration": 23,
    "start_time": "2022-11-08T09:19:48.823Z"
   },
   {
    "duration": 19,
    "start_time": "2022-11-08T09:20:24.630Z"
   },
   {
    "duration": 22,
    "start_time": "2022-11-08T09:20:26.516Z"
   },
   {
    "duration": 19,
    "start_time": "2022-11-08T09:20:54.433Z"
   },
   {
    "duration": 1434,
    "start_time": "2022-11-08T09:20:58.665Z"
   },
   {
    "duration": 25,
    "start_time": "2022-11-08T09:21:05.792Z"
   },
   {
    "duration": 64,
    "start_time": "2022-11-08T09:21:27.147Z"
   },
   {
    "duration": 37,
    "start_time": "2022-11-08T09:21:39.324Z"
   },
   {
    "duration": 55,
    "start_time": "2022-11-08T09:21:43.577Z"
   },
   {
    "duration": 63,
    "start_time": "2022-11-08T09:22:24.520Z"
   },
   {
    "duration": 20,
    "start_time": "2022-11-08T09:22:24.585Z"
   },
   {
    "duration": 36,
    "start_time": "2022-11-08T09:22:24.607Z"
   },
   {
    "duration": 11,
    "start_time": "2022-11-08T09:22:24.644Z"
   },
   {
    "duration": 41,
    "start_time": "2022-11-08T09:22:24.658Z"
   },
   {
    "duration": 4,
    "start_time": "2022-11-08T09:22:24.701Z"
   },
   {
    "duration": 28,
    "start_time": "2022-11-08T09:22:24.707Z"
   },
   {
    "duration": 10,
    "start_time": "2022-11-08T09:22:24.737Z"
   },
   {
    "duration": 19,
    "start_time": "2022-11-08T09:22:24.749Z"
   },
   {
    "duration": 19,
    "start_time": "2022-11-08T09:22:24.770Z"
   },
   {
    "duration": 47,
    "start_time": "2022-11-08T09:22:24.791Z"
   },
   {
    "duration": 11,
    "start_time": "2022-11-08T09:22:24.840Z"
   },
   {
    "duration": 12,
    "start_time": "2022-11-08T09:22:24.853Z"
   },
   {
    "duration": 17,
    "start_time": "2022-11-08T09:22:24.869Z"
   },
   {
    "duration": 29,
    "start_time": "2022-11-08T09:22:24.888Z"
   },
   {
    "duration": 15,
    "start_time": "2022-11-08T09:22:24.919Z"
   },
   {
    "duration": 4,
    "start_time": "2022-11-08T09:22:24.936Z"
   },
   {
    "duration": 15,
    "start_time": "2022-11-08T09:22:24.941Z"
   },
   {
    "duration": 13,
    "start_time": "2022-11-08T09:22:24.958Z"
   },
   {
    "duration": 3,
    "start_time": "2022-11-08T09:22:24.973Z"
   },
   {
    "duration": 21,
    "start_time": "2022-11-08T09:22:24.977Z"
   },
   {
    "duration": 9,
    "start_time": "2022-11-08T09:22:25.000Z"
   },
   {
    "duration": 11,
    "start_time": "2022-11-08T09:22:30.990Z"
   },
   {
    "duration": 62,
    "start_time": "2022-11-08T09:22:31.003Z"
   },
   {
    "duration": 13,
    "start_time": "2022-11-08T09:22:31.067Z"
   },
   {
    "duration": 10,
    "start_time": "2022-11-08T09:22:31.082Z"
   },
   {
    "duration": 23,
    "start_time": "2022-11-08T09:22:31.093Z"
   },
   {
    "duration": 69,
    "start_time": "2022-11-08T09:22:31.118Z"
   },
   {
    "duration": 43,
    "start_time": "2022-11-08T09:22:31.189Z"
   },
   {
    "duration": 21,
    "start_time": "2022-11-08T09:22:31.234Z"
   },
   {
    "duration": 16,
    "start_time": "2022-11-08T09:22:31.256Z"
   },
   {
    "duration": 9,
    "start_time": "2022-11-08T09:22:31.275Z"
   },
   {
    "duration": 36,
    "start_time": "2022-11-08T09:22:31.286Z"
   },
   {
    "duration": 29,
    "start_time": "2022-11-08T09:22:31.323Z"
   },
   {
    "duration": 6,
    "start_time": "2022-11-08T09:22:31.353Z"
   },
   {
    "duration": 19,
    "start_time": "2022-11-08T09:22:31.360Z"
   },
   {
    "duration": 9,
    "start_time": "2022-11-08T09:22:31.381Z"
   },
   {
    "duration": 514,
    "start_time": "2022-11-08T09:23:03.786Z"
   },
   {
    "duration": 552,
    "start_time": "2022-11-08T09:23:12.511Z"
   },
   {
    "duration": 50,
    "start_time": "2022-11-08T09:23:21.764Z"
   },
   {
    "duration": 13,
    "start_time": "2022-11-08T09:25:14.779Z"
   },
   {
    "duration": 8,
    "start_time": "2022-11-08T09:25:53.976Z"
   },
   {
    "duration": 12,
    "start_time": "2022-11-08T09:26:13.020Z"
   },
   {
    "duration": 10,
    "start_time": "2022-11-08T09:26:13.222Z"
   },
   {
    "duration": 11,
    "start_time": "2022-11-08T09:26:27.159Z"
   },
   {
    "duration": 11,
    "start_time": "2022-11-08T09:26:30.342Z"
   },
   {
    "duration": 11,
    "start_time": "2022-11-08T09:26:51.440Z"
   },
   {
    "duration": 73,
    "start_time": "2022-11-08T09:27:10.629Z"
   },
   {
    "duration": 25,
    "start_time": "2022-11-08T09:27:13.835Z"
   },
   {
    "duration": 20,
    "start_time": "2022-11-08T09:27:19.183Z"
   },
   {
    "duration": 12,
    "start_time": "2022-11-08T09:30:30.540Z"
   },
   {
    "duration": 10,
    "start_time": "2022-11-08T09:30:39.751Z"
   },
   {
    "duration": 11,
    "start_time": "2022-11-08T09:30:56.613Z"
   },
   {
    "duration": 8,
    "start_time": "2022-11-08T09:31:07.189Z"
   },
   {
    "duration": 13,
    "start_time": "2022-11-08T09:31:12.748Z"
   },
   {
    "duration": 17,
    "start_time": "2022-11-08T09:31:22.964Z"
   },
   {
    "duration": 12,
    "start_time": "2022-11-08T09:31:25.932Z"
   },
   {
    "duration": 13,
    "start_time": "2022-11-08T09:37:02.793Z"
   },
   {
    "duration": 11,
    "start_time": "2022-11-08T09:38:17.526Z"
   },
   {
    "duration": 7,
    "start_time": "2022-11-08T09:38:53.437Z"
   },
   {
    "duration": 8,
    "start_time": "2022-11-08T09:39:03.197Z"
   },
   {
    "duration": 4,
    "start_time": "2022-11-08T09:40:18.727Z"
   },
   {
    "duration": 4,
    "start_time": "2022-11-08T09:40:55.719Z"
   },
   {
    "duration": 5,
    "start_time": "2022-11-08T09:40:58.131Z"
   },
   {
    "duration": 5,
    "start_time": "2022-11-08T09:41:03.636Z"
   },
   {
    "duration": 5,
    "start_time": "2022-11-08T09:41:05.344Z"
   },
   {
    "duration": 20,
    "start_time": "2022-11-08T09:41:36.216Z"
   },
   {
    "duration": 38,
    "start_time": "2022-11-08T09:41:59.367Z"
   },
   {
    "duration": 12,
    "start_time": "2022-11-08T09:42:05.944Z"
   },
   {
    "duration": 17,
    "start_time": "2022-11-08T09:42:10.207Z"
   },
   {
    "duration": 13,
    "start_time": "2022-11-08T09:42:14.513Z"
   },
   {
    "duration": 21,
    "start_time": "2022-11-08T09:42:19.752Z"
   },
   {
    "duration": 8,
    "start_time": "2022-11-08T09:42:39.409Z"
   },
   {
    "duration": 20,
    "start_time": "2022-11-08T09:42:43.287Z"
   },
   {
    "duration": 20,
    "start_time": "2022-11-08T09:44:09.436Z"
   },
   {
    "duration": 16,
    "start_time": "2022-11-08T09:44:20.894Z"
   },
   {
    "duration": 13,
    "start_time": "2022-11-08T09:44:35.555Z"
   },
   {
    "duration": 14,
    "start_time": "2022-11-08T09:44:40.916Z"
   },
   {
    "duration": 15,
    "start_time": "2022-11-08T09:44:44.351Z"
   },
   {
    "duration": 14,
    "start_time": "2022-11-08T09:44:45.508Z"
   },
   {
    "duration": 17,
    "start_time": "2022-11-08T09:45:15.012Z"
   },
   {
    "duration": 16,
    "start_time": "2022-11-08T09:46:08.240Z"
   },
   {
    "duration": 14,
    "start_time": "2022-11-08T09:46:12.541Z"
   },
   {
    "duration": 12,
    "start_time": "2022-11-08T09:46:22.078Z"
   },
   {
    "duration": 12,
    "start_time": "2022-11-08T09:46:29.990Z"
   },
   {
    "duration": 20,
    "start_time": "2022-11-08T09:46:31.622Z"
   },
   {
    "duration": 19,
    "start_time": "2022-11-08T09:47:02.118Z"
   },
   {
    "duration": 28,
    "start_time": "2022-11-08T09:47:03.294Z"
   },
   {
    "duration": 24,
    "start_time": "2022-11-08T09:47:15.198Z"
   },
   {
    "duration": 14,
    "start_time": "2022-11-08T09:47:39.319Z"
   },
   {
    "duration": 16,
    "start_time": "2022-11-08T09:48:01.607Z"
   },
   {
    "duration": 14,
    "start_time": "2022-11-08T09:48:22.281Z"
   },
   {
    "duration": 13,
    "start_time": "2022-11-08T09:48:28.623Z"
   },
   {
    "duration": 13,
    "start_time": "2022-11-08T09:48:48.784Z"
   },
   {
    "duration": 13,
    "start_time": "2022-11-08T09:48:56.981Z"
   },
   {
    "duration": 13,
    "start_time": "2022-11-08T09:49:07.172Z"
   },
   {
    "duration": 13,
    "start_time": "2022-11-08T09:49:57.674Z"
   },
   {
    "duration": 14,
    "start_time": "2022-11-08T09:50:01.668Z"
   },
   {
    "duration": 14,
    "start_time": "2022-11-08T09:50:11.033Z"
   },
   {
    "duration": 13,
    "start_time": "2022-11-08T09:50:14.073Z"
   },
   {
    "duration": 12,
    "start_time": "2022-11-08T09:50:17.857Z"
   },
   {
    "duration": 13,
    "start_time": "2022-11-08T09:50:20.688Z"
   },
   {
    "duration": 10,
    "start_time": "2022-11-08T09:50:23.842Z"
   },
   {
    "duration": 13,
    "start_time": "2022-11-08T09:50:25.930Z"
   },
   {
    "duration": 18,
    "start_time": "2022-11-08T09:50:27.953Z"
   },
   {
    "duration": 13,
    "start_time": "2022-11-08T09:50:31.923Z"
   },
   {
    "duration": 22,
    "start_time": "2022-11-08T09:50:43.747Z"
   },
   {
    "duration": 23,
    "start_time": "2022-11-08T09:52:04.758Z"
   },
   {
    "duration": 38,
    "start_time": "2022-11-08T09:52:06.355Z"
   },
   {
    "duration": 20,
    "start_time": "2022-11-08T09:52:30.335Z"
   },
   {
    "duration": 4,
    "start_time": "2022-11-08T09:53:01.326Z"
   },
   {
    "duration": 17,
    "start_time": "2022-11-08T09:53:04.685Z"
   },
   {
    "duration": 15,
    "start_time": "2022-11-08T09:53:12.642Z"
   },
   {
    "duration": 13,
    "start_time": "2022-11-08T09:53:15.987Z"
   },
   {
    "duration": 16,
    "start_time": "2022-11-08T09:53:47.742Z"
   },
   {
    "duration": 13,
    "start_time": "2022-11-08T09:53:58.834Z"
   },
   {
    "duration": 12,
    "start_time": "2022-11-08T09:54:08.371Z"
   },
   {
    "duration": 13,
    "start_time": "2022-11-08T09:54:19.195Z"
   },
   {
    "duration": 16,
    "start_time": "2022-11-08T09:54:25.529Z"
   },
   {
    "duration": 19,
    "start_time": "2022-11-08T09:54:32.113Z"
   },
   {
    "duration": 21,
    "start_time": "2022-11-08T09:54:39.106Z"
   },
   {
    "duration": 1218,
    "start_time": "2022-11-08T09:54:45.187Z"
   },
   {
    "duration": 13,
    "start_time": "2022-11-08T09:54:52.915Z"
   },
   {
    "duration": 14,
    "start_time": "2022-11-08T09:54:57.991Z"
   },
   {
    "duration": 17,
    "start_time": "2022-11-08T09:55:03.557Z"
   },
   {
    "duration": 17,
    "start_time": "2022-11-08T09:55:48.865Z"
   },
   {
    "duration": 18,
    "start_time": "2022-11-08T09:56:54.459Z"
   },
   {
    "duration": 1517,
    "start_time": "2022-11-08T09:57:07.707Z"
   },
   {
    "duration": 9,
    "start_time": "2022-11-08T09:57:22.650Z"
   },
   {
    "duration": 9,
    "start_time": "2022-11-08T09:57:31.075Z"
   },
   {
    "duration": 19,
    "start_time": "2022-11-08T09:57:34.281Z"
   },
   {
    "duration": 17,
    "start_time": "2022-11-08T09:57:59.764Z"
   },
   {
    "duration": 19,
    "start_time": "2022-11-08T09:58:09.419Z"
   },
   {
    "duration": 8,
    "start_time": "2022-11-08T09:58:25.387Z"
   },
   {
    "duration": 17,
    "start_time": "2022-11-08T09:58:29.524Z"
   },
   {
    "duration": 46,
    "start_time": "2022-11-08T10:00:36.533Z"
   },
   {
    "duration": 9,
    "start_time": "2022-11-08T10:00:42.339Z"
   },
   {
    "duration": 11,
    "start_time": "2022-11-08T10:00:51.102Z"
   },
   {
    "duration": 13,
    "start_time": "2022-11-08T10:00:57.315Z"
   },
   {
    "duration": 10,
    "start_time": "2022-11-08T10:01:44.984Z"
   },
   {
    "duration": 14,
    "start_time": "2022-11-08T10:01:51.876Z"
   },
   {
    "duration": 11,
    "start_time": "2022-11-08T10:02:05.449Z"
   },
   {
    "duration": 9,
    "start_time": "2022-11-08T10:02:09.398Z"
   },
   {
    "duration": 52,
    "start_time": "2022-11-08T10:02:15.247Z"
   },
   {
    "duration": 8,
    "start_time": "2022-11-08T10:02:17.783Z"
   },
   {
    "duration": 11,
    "start_time": "2022-11-08T10:02:22.815Z"
   },
   {
    "duration": 14,
    "start_time": "2022-11-08T10:02:31.010Z"
   },
   {
    "duration": 14,
    "start_time": "2022-11-08T10:02:33.287Z"
   },
   {
    "duration": 14,
    "start_time": "2022-11-08T10:02:34.951Z"
   },
   {
    "duration": 11,
    "start_time": "2022-11-08T10:02:52.289Z"
   },
   {
    "duration": 11,
    "start_time": "2022-11-08T10:02:56.639Z"
   },
   {
    "duration": 13,
    "start_time": "2022-11-08T10:02:59.737Z"
   },
   {
    "duration": 12,
    "start_time": "2022-11-08T10:03:06.603Z"
   },
   {
    "duration": 11,
    "start_time": "2022-11-08T10:03:13.521Z"
   },
   {
    "duration": 14,
    "start_time": "2022-11-08T10:03:21.364Z"
   },
   {
    "duration": 8,
    "start_time": "2022-11-08T10:03:55.471Z"
   },
   {
    "duration": 8,
    "start_time": "2022-11-08T10:04:06.021Z"
   },
   {
    "duration": 7,
    "start_time": "2022-11-08T10:04:08.932Z"
   },
   {
    "duration": 15,
    "start_time": "2022-11-08T10:04:14.331Z"
   },
   {
    "duration": 6,
    "start_time": "2022-11-08T10:04:16.835Z"
   },
   {
    "duration": 18,
    "start_time": "2022-11-08T10:04:33.950Z"
   },
   {
    "duration": 7,
    "start_time": "2022-11-08T10:04:46.254Z"
   },
   {
    "duration": 1083,
    "start_time": "2022-11-08T10:04:54.872Z"
   },
   {
    "duration": 8,
    "start_time": "2022-11-08T10:04:58.627Z"
   },
   {
    "duration": 18,
    "start_time": "2022-11-08T10:05:30.453Z"
   },
   {
    "duration": 10,
    "start_time": "2022-11-08T10:05:38.272Z"
   },
   {
    "duration": 56,
    "start_time": "2022-11-08T10:05:44.086Z"
   },
   {
    "duration": 13,
    "start_time": "2022-11-08T10:06:07.580Z"
   },
   {
    "duration": 13,
    "start_time": "2022-11-08T10:06:12.932Z"
   },
   {
    "duration": 11,
    "start_time": "2022-11-08T10:06:15.241Z"
   },
   {
    "duration": 10,
    "start_time": "2022-11-08T10:06:44.829Z"
   },
   {
    "duration": 7,
    "start_time": "2022-11-08T10:06:52.077Z"
   },
   {
    "duration": 15,
    "start_time": "2022-11-08T10:06:59.847Z"
   },
   {
    "duration": 11,
    "start_time": "2022-11-08T10:07:13.313Z"
   },
   {
    "duration": 13,
    "start_time": "2022-11-08T10:07:28.617Z"
   },
   {
    "duration": 11,
    "start_time": "2022-11-08T10:07:33.974Z"
   },
   {
    "duration": 18,
    "start_time": "2022-11-08T10:08:03.402Z"
   },
   {
    "duration": 15,
    "start_time": "2022-11-08T10:08:07.392Z"
   },
   {
    "duration": 13,
    "start_time": "2022-11-08T10:08:11.770Z"
   },
   {
    "duration": 25,
    "start_time": "2022-11-08T10:08:16.502Z"
   },
   {
    "duration": 18,
    "start_time": "2022-11-08T10:08:56.388Z"
   },
   {
    "duration": 12,
    "start_time": "2022-11-08T10:09:20.241Z"
   },
   {
    "duration": 15,
    "start_time": "2022-11-08T10:09:28.800Z"
   },
   {
    "duration": 65,
    "start_time": "2022-11-08T10:14:51.623Z"
   },
   {
    "duration": 8,
    "start_time": "2022-11-08T10:14:56.828Z"
   },
   {
    "duration": 9,
    "start_time": "2022-11-08T10:15:05.008Z"
   },
   {
    "duration": 6,
    "start_time": "2022-11-08T10:15:14.208Z"
   },
   {
    "duration": 5,
    "start_time": "2022-11-08T10:15:20.857Z"
   },
   {
    "duration": 7,
    "start_time": "2022-11-08T10:15:28.277Z"
   },
   {
    "duration": 8,
    "start_time": "2022-11-08T10:15:32.684Z"
   },
   {
    "duration": 7,
    "start_time": "2022-11-08T10:16:01.595Z"
   },
   {
    "duration": 5,
    "start_time": "2022-11-08T10:16:10.776Z"
   },
   {
    "duration": 2,
    "start_time": "2022-11-08T10:18:25.684Z"
   },
   {
    "duration": 15,
    "start_time": "2022-11-08T10:18:27.265Z"
   },
   {
    "duration": 5,
    "start_time": "2022-11-08T10:18:29.344Z"
   },
   {
    "duration": 8,
    "start_time": "2022-11-08T10:18:36.970Z"
   },
   {
    "duration": 10,
    "start_time": "2022-11-08T10:18:52.491Z"
   },
   {
    "duration": 13,
    "start_time": "2022-11-08T10:19:19.680Z"
   },
   {
    "duration": 16,
    "start_time": "2022-11-08T10:19:22.063Z"
   },
   {
    "duration": 3,
    "start_time": "2022-11-08T10:21:18.006Z"
   },
   {
    "duration": 14,
    "start_time": "2022-11-08T10:21:18.701Z"
   },
   {
    "duration": 3,
    "start_time": "2022-11-08T10:21:26.070Z"
   },
   {
    "duration": 15,
    "start_time": "2022-11-08T10:21:27.301Z"
   },
   {
    "duration": 3,
    "start_time": "2022-11-08T10:21:33.817Z"
   },
   {
    "duration": 18,
    "start_time": "2022-11-08T10:21:34.726Z"
   },
   {
    "duration": 9,
    "start_time": "2022-11-08T10:21:40.229Z"
   },
   {
    "duration": 9,
    "start_time": "2022-11-08T10:22:04.469Z"
   },
   {
    "duration": 8,
    "start_time": "2022-11-08T10:22:21.487Z"
   },
   {
    "duration": 8,
    "start_time": "2022-11-08T10:22:23.698Z"
   },
   {
    "duration": 42,
    "start_time": "2022-11-08T10:22:31.358Z"
   },
   {
    "duration": 8,
    "start_time": "2022-11-08T10:22:33.896Z"
   },
   {
    "duration": 7,
    "start_time": "2022-11-08T10:22:38.033Z"
   },
   {
    "duration": 606,
    "start_time": "2022-11-08T10:23:21.263Z"
   },
   {
    "duration": 8,
    "start_time": "2022-11-08T10:23:27.533Z"
   },
   {
    "duration": 12,
    "start_time": "2022-11-08T10:23:32.440Z"
   },
   {
    "duration": 9,
    "start_time": "2022-11-08T10:23:38.713Z"
   },
   {
    "duration": 8,
    "start_time": "2022-11-08T10:23:44.575Z"
   },
   {
    "duration": 8,
    "start_time": "2022-11-08T10:23:48.616Z"
   },
   {
    "duration": 10,
    "start_time": "2022-11-08T10:23:55.110Z"
   },
   {
    "duration": 7,
    "start_time": "2022-11-08T10:23:59.679Z"
   },
   {
    "duration": 9,
    "start_time": "2022-11-08T10:24:08.637Z"
   },
   {
    "duration": 9,
    "start_time": "2022-11-08T10:24:12.938Z"
   },
   {
    "duration": 7,
    "start_time": "2022-11-08T10:24:26.136Z"
   },
   {
    "duration": 7,
    "start_time": "2022-11-08T10:24:30.600Z"
   },
   {
    "duration": 8,
    "start_time": "2022-11-08T10:24:37.002Z"
   },
   {
    "duration": 8,
    "start_time": "2022-11-08T10:24:43.658Z"
   },
   {
    "duration": 9,
    "start_time": "2022-11-08T10:24:52.685Z"
   },
   {
    "duration": 714,
    "start_time": "2022-11-08T10:27:37.044Z"
   },
   {
    "duration": 6,
    "start_time": "2022-11-08T10:27:43.340Z"
   },
   {
    "duration": 12,
    "start_time": "2022-11-08T10:27:47.109Z"
   },
   {
    "duration": 8,
    "start_time": "2022-11-08T10:28:44.471Z"
   },
   {
    "duration": 13,
    "start_time": "2022-11-08T10:28:52.120Z"
   },
   {
    "duration": 15,
    "start_time": "2022-11-08T10:28:57.814Z"
   },
   {
    "duration": 13,
    "start_time": "2022-11-08T10:29:00.038Z"
   },
   {
    "duration": 20,
    "start_time": "2022-11-08T10:29:05.652Z"
   },
   {
    "duration": 23,
    "start_time": "2022-11-08T10:29:24.953Z"
   },
   {
    "duration": 13,
    "start_time": "2022-11-08T10:29:32.158Z"
   },
   {
    "duration": 14,
    "start_time": "2022-11-08T10:29:34.254Z"
   },
   {
    "duration": 13,
    "start_time": "2022-11-08T10:29:37.126Z"
   },
   {
    "duration": 15,
    "start_time": "2022-11-08T10:29:40.378Z"
   },
   {
    "duration": 14,
    "start_time": "2022-11-08T10:29:45.247Z"
   },
   {
    "duration": 15,
    "start_time": "2022-11-08T10:32:06.186Z"
   },
   {
    "duration": 14,
    "start_time": "2022-11-08T10:32:11.722Z"
   },
   {
    "duration": 20,
    "start_time": "2022-11-08T10:36:29.510Z"
   },
   {
    "duration": 14,
    "start_time": "2022-11-08T10:36:37.331Z"
   },
   {
    "duration": 15,
    "start_time": "2022-11-08T10:36:52.391Z"
   },
   {
    "duration": 4,
    "start_time": "2022-11-08T10:46:56.350Z"
   },
   {
    "duration": 8,
    "start_time": "2022-11-08T10:48:26.108Z"
   },
   {
    "duration": 8,
    "start_time": "2022-11-08T10:48:33.275Z"
   },
   {
    "duration": 7,
    "start_time": "2022-11-08T10:48:38.272Z"
   },
   {
    "duration": 7,
    "start_time": "2022-11-08T10:48:40.910Z"
   },
   {
    "duration": 10,
    "start_time": "2022-11-08T10:49:26.134Z"
   },
   {
    "duration": 9,
    "start_time": "2022-11-08T10:49:36.899Z"
   },
   {
    "duration": 12,
    "start_time": "2022-11-08T10:49:42.022Z"
   },
   {
    "duration": 11,
    "start_time": "2022-11-08T10:50:31.089Z"
   },
   {
    "duration": 11,
    "start_time": "2022-11-08T10:50:54.055Z"
   },
   {
    "duration": 9,
    "start_time": "2022-11-08T10:50:57.340Z"
   },
   {
    "duration": 13,
    "start_time": "2022-11-08T10:50:59.660Z"
   },
   {
    "duration": 58,
    "start_time": "2022-11-08T10:52:30.809Z"
   },
   {
    "duration": 11,
    "start_time": "2022-11-08T10:52:49.992Z"
   },
   {
    "duration": 13,
    "start_time": "2022-11-08T10:53:00.083Z"
   },
   {
    "duration": 20,
    "start_time": "2022-11-08T10:55:38.453Z"
   },
   {
    "duration": 14,
    "start_time": "2022-11-08T10:58:06.423Z"
   },
   {
    "duration": 14,
    "start_time": "2022-11-08T10:58:10.855Z"
   },
   {
    "duration": 14,
    "start_time": "2022-11-08T10:58:13.506Z"
   },
   {
    "duration": 42,
    "start_time": "2022-11-08T10:58:27.364Z"
   },
   {
    "duration": 452,
    "start_time": "2022-11-08T11:00:38.971Z"
   },
   {
    "duration": 498,
    "start_time": "2022-11-08T11:00:51.410Z"
   },
   {
    "duration": 262,
    "start_time": "2022-11-08T11:01:11.211Z"
   },
   {
    "duration": 352,
    "start_time": "2022-11-08T11:01:16.262Z"
   },
   {
    "duration": 268,
    "start_time": "2022-11-08T11:01:41.550Z"
   },
   {
    "duration": 6,
    "start_time": "2022-11-08T11:02:07.920Z"
   },
   {
    "duration": 10,
    "start_time": "2022-11-08T11:02:10.859Z"
   },
   {
    "duration": 11,
    "start_time": "2022-11-08T11:02:18.512Z"
   },
   {
    "duration": 984,
    "start_time": "2022-11-08T11:02:27.159Z"
   },
   {
    "duration": 772,
    "start_time": "2022-11-08T11:02:42.207Z"
   },
   {
    "duration": 14,
    "start_time": "2022-11-08T11:02:56.974Z"
   },
   {
    "duration": 760,
    "start_time": "2022-11-08T11:02:58.953Z"
   },
   {
    "duration": 785,
    "start_time": "2022-11-08T11:03:02.559Z"
   },
   {
    "duration": 1194,
    "start_time": "2022-11-08T11:03:27.735Z"
   },
   {
    "duration": 844,
    "start_time": "2022-11-08T11:03:46.622Z"
   },
   {
    "duration": 768,
    "start_time": "2022-11-08T11:04:14.358Z"
   },
   {
    "duration": 872,
    "start_time": "2022-11-08T11:04:43.368Z"
   },
   {
    "duration": 13,
    "start_time": "2022-11-08T11:06:07.609Z"
   },
   {
    "duration": 890,
    "start_time": "2022-11-08T11:06:17.035Z"
   },
   {
    "duration": 10,
    "start_time": "2022-11-08T11:06:29.906Z"
   },
   {
    "duration": 15,
    "start_time": "2022-11-08T11:07:43.681Z"
   },
   {
    "duration": 69,
    "start_time": "2022-11-08T11:07:56.034Z"
   },
   {
    "duration": 14,
    "start_time": "2022-11-08T11:07:56.105Z"
   },
   {
    "duration": 39,
    "start_time": "2022-11-08T11:07:56.120Z"
   },
   {
    "duration": 10,
    "start_time": "2022-11-08T11:07:56.160Z"
   },
   {
    "duration": 32,
    "start_time": "2022-11-08T11:07:56.171Z"
   },
   {
    "duration": 3,
    "start_time": "2022-11-08T11:07:56.204Z"
   },
   {
    "duration": 9,
    "start_time": "2022-11-08T11:07:56.208Z"
   },
   {
    "duration": 5,
    "start_time": "2022-11-08T11:07:56.218Z"
   },
   {
    "duration": 6,
    "start_time": "2022-11-08T11:07:56.224Z"
   },
   {
    "duration": 4,
    "start_time": "2022-11-08T11:07:56.258Z"
   },
   {
    "duration": 32,
    "start_time": "2022-11-08T11:07:56.263Z"
   },
   {
    "duration": 9,
    "start_time": "2022-11-08T11:07:56.297Z"
   },
   {
    "duration": 6,
    "start_time": "2022-11-08T11:07:56.307Z"
   },
   {
    "duration": 11,
    "start_time": "2022-11-08T11:07:56.314Z"
   },
   {
    "duration": 35,
    "start_time": "2022-11-08T11:07:56.327Z"
   },
   {
    "duration": 16,
    "start_time": "2022-11-08T11:07:56.364Z"
   },
   {
    "duration": 3,
    "start_time": "2022-11-08T11:07:56.382Z"
   },
   {
    "duration": 14,
    "start_time": "2022-11-08T11:07:56.386Z"
   },
   {
    "duration": 6,
    "start_time": "2022-11-08T11:07:56.401Z"
   },
   {
    "duration": 6,
    "start_time": "2022-11-08T11:07:56.408Z"
   },
   {
    "duration": 13,
    "start_time": "2022-11-08T11:07:56.416Z"
   },
   {
    "duration": 28,
    "start_time": "2022-11-08T11:07:56.431Z"
   },
   {
    "duration": 2,
    "start_time": "2022-11-08T11:07:56.461Z"
   },
   {
    "duration": 20,
    "start_time": "2022-11-08T11:07:56.465Z"
   },
   {
    "duration": 5,
    "start_time": "2022-11-08T11:07:56.486Z"
   },
   {
    "duration": 12,
    "start_time": "2022-11-08T11:07:56.492Z"
   },
   {
    "duration": 17,
    "start_time": "2022-11-08T11:07:56.505Z"
   },
   {
    "duration": 2,
    "start_time": "2022-11-08T11:07:56.525Z"
   },
   {
    "duration": 37,
    "start_time": "2022-11-08T11:07:56.528Z"
   },
   {
    "duration": 12,
    "start_time": "2022-11-08T11:07:56.566Z"
   },
   {
    "duration": 7,
    "start_time": "2022-11-08T11:07:56.579Z"
   },
   {
    "duration": 13,
    "start_time": "2022-11-08T11:08:06.794Z"
   },
   {
    "duration": 12,
    "start_time": "2022-11-08T11:08:16.526Z"
   },
   {
    "duration": 8,
    "start_time": "2022-11-08T11:08:35.488Z"
   },
   {
    "duration": 8,
    "start_time": "2022-11-08T11:08:37.091Z"
   },
   {
    "duration": 66,
    "start_time": "2022-11-08T11:08:41.414Z"
   },
   {
    "duration": 13,
    "start_time": "2022-11-08T11:08:41.482Z"
   },
   {
    "duration": 14,
    "start_time": "2022-11-08T11:08:41.497Z"
   },
   {
    "duration": 8,
    "start_time": "2022-11-08T11:08:41.513Z"
   },
   {
    "duration": 45,
    "start_time": "2022-11-08T11:08:41.522Z"
   },
   {
    "duration": 3,
    "start_time": "2022-11-08T11:08:41.568Z"
   },
   {
    "duration": 9,
    "start_time": "2022-11-08T11:08:41.572Z"
   },
   {
    "duration": 4,
    "start_time": "2022-11-08T11:08:41.583Z"
   },
   {
    "duration": 7,
    "start_time": "2022-11-08T11:08:41.588Z"
   },
   {
    "duration": 10,
    "start_time": "2022-11-08T11:08:41.597Z"
   },
   {
    "duration": 31,
    "start_time": "2022-11-08T11:08:41.608Z"
   },
   {
    "duration": 22,
    "start_time": "2022-11-08T11:08:41.640Z"
   },
   {
    "duration": 5,
    "start_time": "2022-11-08T11:08:41.664Z"
   },
   {
    "duration": 12,
    "start_time": "2022-11-08T11:08:41.670Z"
   },
   {
    "duration": 17,
    "start_time": "2022-11-08T11:08:41.684Z"
   },
   {
    "duration": 14,
    "start_time": "2022-11-08T11:08:41.703Z"
   },
   {
    "duration": 3,
    "start_time": "2022-11-08T11:08:41.718Z"
   },
   {
    "duration": 13,
    "start_time": "2022-11-08T11:08:41.722Z"
   },
   {
    "duration": 26,
    "start_time": "2022-11-08T11:08:41.736Z"
   },
   {
    "duration": 4,
    "start_time": "2022-11-08T11:08:41.763Z"
   },
   {
    "duration": 10,
    "start_time": "2022-11-08T11:08:41.768Z"
   },
   {
    "duration": 8,
    "start_time": "2022-11-08T11:08:41.779Z"
   },
   {
    "duration": 2,
    "start_time": "2022-11-08T11:08:41.788Z"
   },
   {
    "duration": 17,
    "start_time": "2022-11-08T11:08:41.792Z"
   },
   {
    "duration": 4,
    "start_time": "2022-11-08T11:08:41.810Z"
   },
   {
    "duration": 12,
    "start_time": "2022-11-08T11:08:41.815Z"
   },
   {
    "duration": 43,
    "start_time": "2022-11-08T11:08:41.829Z"
   },
   {
    "duration": 12,
    "start_time": "2022-11-08T11:08:41.874Z"
   },
   {
    "duration": 8,
    "start_time": "2022-11-08T11:08:41.887Z"
   },
   {
    "duration": 12,
    "start_time": "2022-11-08T11:08:41.896Z"
   },
   {
    "duration": 7,
    "start_time": "2022-11-08T11:08:41.909Z"
   },
   {
    "duration": 959,
    "start_time": "2022-11-08T11:09:19.791Z"
   },
   {
    "duration": 62,
    "start_time": "2022-11-08T11:09:23.074Z"
   },
   {
    "duration": 13,
    "start_time": "2022-11-08T11:09:23.138Z"
   },
   {
    "duration": 16,
    "start_time": "2022-11-08T11:09:23.152Z"
   },
   {
    "duration": 10,
    "start_time": "2022-11-08T11:09:23.171Z"
   },
   {
    "duration": 33,
    "start_time": "2022-11-08T11:09:23.182Z"
   },
   {
    "duration": 3,
    "start_time": "2022-11-08T11:09:23.216Z"
   },
   {
    "duration": 10,
    "start_time": "2022-11-08T11:09:23.220Z"
   },
   {
    "duration": 26,
    "start_time": "2022-11-08T11:09:23.232Z"
   },
   {
    "duration": 5,
    "start_time": "2022-11-08T11:09:23.259Z"
   },
   {
    "duration": 4,
    "start_time": "2022-11-08T11:09:23.266Z"
   },
   {
    "duration": 30,
    "start_time": "2022-11-08T11:09:23.272Z"
   },
   {
    "duration": 9,
    "start_time": "2022-11-08T11:09:23.304Z"
   },
   {
    "duration": 3,
    "start_time": "2022-11-08T11:09:23.315Z"
   },
   {
    "duration": 12,
    "start_time": "2022-11-08T11:09:23.319Z"
   },
   {
    "duration": 36,
    "start_time": "2022-11-08T11:09:23.333Z"
   },
   {
    "duration": 15,
    "start_time": "2022-11-08T11:09:23.370Z"
   },
   {
    "duration": 3,
    "start_time": "2022-11-08T11:09:23.387Z"
   },
   {
    "duration": 14,
    "start_time": "2022-11-08T11:09:23.391Z"
   },
   {
    "duration": 12,
    "start_time": "2022-11-08T11:09:23.406Z"
   },
   {
    "duration": 3,
    "start_time": "2022-11-08T11:09:23.419Z"
   },
   {
    "duration": 9,
    "start_time": "2022-11-08T11:09:23.424Z"
   },
   {
    "duration": 26,
    "start_time": "2022-11-08T11:09:23.435Z"
   },
   {
    "duration": 2,
    "start_time": "2022-11-08T11:09:23.462Z"
   },
   {
    "duration": 19,
    "start_time": "2022-11-08T11:09:23.466Z"
   },
   {
    "duration": 4,
    "start_time": "2022-11-08T11:09:23.486Z"
   },
   {
    "duration": 12,
    "start_time": "2022-11-08T11:09:23.491Z"
   },
   {
    "duration": 21,
    "start_time": "2022-11-08T11:09:23.504Z"
   },
   {
    "duration": 1275,
    "start_time": "2022-11-08T11:09:23.527Z"
   },
   {
    "duration": 0,
    "start_time": "2022-11-08T11:09:24.804Z"
   },
   {
    "duration": 0,
    "start_time": "2022-11-08T11:09:24.805Z"
   },
   {
    "duration": 0,
    "start_time": "2022-11-08T11:09:24.807Z"
   },
   {
    "duration": 65,
    "start_time": "2022-11-08T11:09:54.192Z"
   },
   {
    "duration": 14,
    "start_time": "2022-11-08T11:09:54.259Z"
   },
   {
    "duration": 31,
    "start_time": "2022-11-08T11:09:54.274Z"
   },
   {
    "duration": 44,
    "start_time": "2022-11-08T11:09:54.307Z"
   },
   {
    "duration": 37,
    "start_time": "2022-11-08T11:09:54.352Z"
   },
   {
    "duration": 3,
    "start_time": "2022-11-08T11:09:54.391Z"
   },
   {
    "duration": 25,
    "start_time": "2022-11-08T11:09:54.395Z"
   },
   {
    "duration": 7,
    "start_time": "2022-11-08T11:09:54.421Z"
   },
   {
    "duration": 6,
    "start_time": "2022-11-08T11:09:54.430Z"
   },
   {
    "duration": 5,
    "start_time": "2022-11-08T11:09:54.439Z"
   },
   {
    "duration": 40,
    "start_time": "2022-11-08T11:09:54.445Z"
   },
   {
    "duration": 10,
    "start_time": "2022-11-08T11:09:54.486Z"
   },
   {
    "duration": 10,
    "start_time": "2022-11-08T11:09:54.497Z"
   },
   {
    "duration": 14,
    "start_time": "2022-11-08T11:09:54.508Z"
   },
   {
    "duration": 17,
    "start_time": "2022-11-08T11:09:54.523Z"
   },
   {
    "duration": 32,
    "start_time": "2022-11-08T11:09:54.541Z"
   },
   {
    "duration": 5,
    "start_time": "2022-11-08T11:09:54.575Z"
   },
   {
    "duration": 39,
    "start_time": "2022-11-08T11:09:54.582Z"
   },
   {
    "duration": 23,
    "start_time": "2022-11-08T11:09:54.622Z"
   },
   {
    "duration": 10,
    "start_time": "2022-11-08T11:09:54.647Z"
   },
   {
    "duration": 24,
    "start_time": "2022-11-08T11:09:54.659Z"
   },
   {
    "duration": 12,
    "start_time": "2022-11-08T11:09:54.685Z"
   },
   {
    "duration": 9,
    "start_time": "2022-11-08T11:09:54.699Z"
   },
   {
    "duration": 24,
    "start_time": "2022-11-08T11:09:54.710Z"
   },
   {
    "duration": 5,
    "start_time": "2022-11-08T11:09:54.736Z"
   },
   {
    "duration": 28,
    "start_time": "2022-11-08T11:09:54.742Z"
   },
   {
    "duration": 19,
    "start_time": "2022-11-08T11:09:54.772Z"
   },
   {
    "duration": 3,
    "start_time": "2022-11-08T11:09:54.794Z"
   },
   {
    "duration": 13,
    "start_time": "2022-11-08T11:09:54.798Z"
   },
   {
    "duration": 23,
    "start_time": "2022-11-08T11:09:54.813Z"
   },
   {
    "duration": 16,
    "start_time": "2022-11-08T11:09:54.838Z"
   },
   {
    "duration": 7,
    "start_time": "2022-11-08T11:09:59.419Z"
   },
   {
    "duration": 9,
    "start_time": "2022-11-08T11:10:20.590Z"
   },
   {
    "duration": 8,
    "start_time": "2022-11-08T11:10:28.311Z"
   },
   {
    "duration": 6,
    "start_time": "2022-11-08T11:10:32.352Z"
   },
   {
    "duration": 7,
    "start_time": "2022-11-08T11:10:40.543Z"
   },
   {
    "duration": 6,
    "start_time": "2022-11-08T11:10:49.245Z"
   },
   {
    "duration": 11,
    "start_time": "2022-11-08T11:12:09.328Z"
   },
   {
    "duration": 15,
    "start_time": "2022-11-08T11:12:12.522Z"
   },
   {
    "duration": 8,
    "start_time": "2022-11-08T11:12:24.305Z"
   },
   {
    "duration": 11,
    "start_time": "2022-11-08T11:12:45.889Z"
   },
   {
    "duration": 11,
    "start_time": "2022-11-08T11:12:49.025Z"
   },
   {
    "duration": 17,
    "start_time": "2022-11-08T11:14:03.653Z"
   },
   {
    "duration": 17,
    "start_time": "2022-11-08T11:14:13.785Z"
   },
   {
    "duration": 4,
    "start_time": "2022-11-08T11:15:35.906Z"
   },
   {
    "duration": 14,
    "start_time": "2022-11-08T11:15:36.779Z"
   },
   {
    "duration": 17,
    "start_time": "2022-11-08T11:16:59.119Z"
   },
   {
    "duration": 17,
    "start_time": "2022-11-08T11:17:06.670Z"
   },
   {
    "duration": 19,
    "start_time": "2022-11-08T11:17:25.633Z"
   },
   {
    "duration": 23,
    "start_time": "2022-11-08T11:17:50.133Z"
   },
   {
    "duration": 25,
    "start_time": "2022-11-08T11:18:08.057Z"
   },
   {
    "duration": 17,
    "start_time": "2022-11-08T11:18:45.375Z"
   },
   {
    "duration": 13,
    "start_time": "2022-11-08T11:20:56.742Z"
   },
   {
    "duration": 14,
    "start_time": "2022-11-08T11:21:17.922Z"
   },
   {
    "duration": 13,
    "start_time": "2022-11-08T11:21:20.894Z"
   },
   {
    "duration": 12,
    "start_time": "2022-11-08T11:21:49.326Z"
   },
   {
    "duration": 14,
    "start_time": "2022-11-08T11:22:13.836Z"
   },
   {
    "duration": 10,
    "start_time": "2022-11-08T11:23:09.196Z"
   },
   {
    "duration": 17,
    "start_time": "2022-11-08T11:24:11.189Z"
   },
   {
    "duration": 7,
    "start_time": "2022-11-08T11:30:38.421Z"
   },
   {
    "duration": 10,
    "start_time": "2022-11-08T11:30:41.487Z"
   },
   {
    "duration": 9,
    "start_time": "2022-11-08T11:30:45.234Z"
   },
   {
    "duration": 8,
    "start_time": "2022-11-08T11:31:01.236Z"
   },
   {
    "duration": 13,
    "start_time": "2022-11-08T11:31:59.915Z"
   },
   {
    "duration": 29,
    "start_time": "2022-11-08T11:32:06.515Z"
   },
   {
    "duration": 24,
    "start_time": "2022-11-08T11:32:50.962Z"
   },
   {
    "duration": 22,
    "start_time": "2022-11-08T11:34:13.008Z"
   },
   {
    "duration": 14,
    "start_time": "2022-11-08T11:35:48.558Z"
   },
   {
    "duration": 15,
    "start_time": "2022-11-08T11:36:07.517Z"
   },
   {
    "duration": 15,
    "start_time": "2022-11-08T11:36:11.508Z"
   },
   {
    "duration": 9,
    "start_time": "2022-11-08T11:37:17.934Z"
   },
   {
    "duration": 572,
    "start_time": "2022-11-08T11:38:03.782Z"
   },
   {
    "duration": 53,
    "start_time": "2022-11-08T11:44:10.386Z"
   },
   {
    "duration": 9,
    "start_time": "2022-11-08T11:47:08.368Z"
   },
   {
    "duration": 17,
    "start_time": "2022-11-08T11:47:09.555Z"
   },
   {
    "duration": 9,
    "start_time": "2022-11-08T11:52:39.121Z"
   },
   {
    "duration": 7,
    "start_time": "2022-11-08T11:52:40.228Z"
   },
   {
    "duration": 9,
    "start_time": "2022-11-08T11:52:50.454Z"
   },
   {
    "duration": 9,
    "start_time": "2022-11-08T11:52:54.383Z"
   },
   {
    "duration": 13,
    "start_time": "2022-11-08T11:53:23.885Z"
   },
   {
    "duration": 16,
    "start_time": "2022-11-08T11:53:27.072Z"
   },
   {
    "duration": 9,
    "start_time": "2022-11-08T11:53:33.195Z"
   },
   {
    "duration": 10,
    "start_time": "2022-11-08T11:53:33.990Z"
   },
   {
    "duration": 60,
    "start_time": "2022-11-08T11:56:23.423Z"
   },
   {
    "duration": 14,
    "start_time": "2022-11-08T11:56:23.485Z"
   },
   {
    "duration": 15,
    "start_time": "2022-11-08T11:56:23.500Z"
   },
   {
    "duration": 8,
    "start_time": "2022-11-08T11:56:23.516Z"
   },
   {
    "duration": 51,
    "start_time": "2022-11-08T11:56:23.526Z"
   },
   {
    "duration": 3,
    "start_time": "2022-11-08T11:56:23.578Z"
   },
   {
    "duration": 10,
    "start_time": "2022-11-08T11:56:23.582Z"
   },
   {
    "duration": 4,
    "start_time": "2022-11-08T11:56:23.593Z"
   },
   {
    "duration": 5,
    "start_time": "2022-11-08T11:56:23.599Z"
   },
   {
    "duration": 8,
    "start_time": "2022-11-08T11:56:23.606Z"
   },
   {
    "duration": 48,
    "start_time": "2022-11-08T11:56:23.615Z"
   },
   {
    "duration": 30,
    "start_time": "2022-11-08T11:56:23.665Z"
   },
   {
    "duration": 10,
    "start_time": "2022-11-08T11:56:23.696Z"
   },
   {
    "duration": 3,
    "start_time": "2022-11-08T11:56:23.708Z"
   },
   {
    "duration": 11,
    "start_time": "2022-11-08T11:56:23.713Z"
   },
   {
    "duration": 35,
    "start_time": "2022-11-08T11:56:23.726Z"
   },
   {
    "duration": 15,
    "start_time": "2022-11-08T11:56:23.763Z"
   },
   {
    "duration": 4,
    "start_time": "2022-11-08T11:56:23.780Z"
   },
   {
    "duration": 13,
    "start_time": "2022-11-08T11:56:23.786Z"
   },
   {
    "duration": 5,
    "start_time": "2022-11-08T11:56:23.800Z"
   },
   {
    "duration": 3,
    "start_time": "2022-11-08T11:56:23.807Z"
   },
   {
    "duration": 12,
    "start_time": "2022-11-08T11:56:23.811Z"
   },
   {
    "duration": 35,
    "start_time": "2022-11-08T11:56:23.825Z"
   },
   {
    "duration": 3,
    "start_time": "2022-11-08T11:56:23.861Z"
   },
   {
    "duration": 20,
    "start_time": "2022-11-08T11:56:23.865Z"
   },
   {
    "duration": 3,
    "start_time": "2022-11-08T11:56:23.887Z"
   },
   {
    "duration": 13,
    "start_time": "2022-11-08T11:56:23.891Z"
   },
   {
    "duration": 19,
    "start_time": "2022-11-08T11:56:23.906Z"
   },
   {
    "duration": 6,
    "start_time": "2022-11-08T11:56:23.927Z"
   },
   {
    "duration": 27,
    "start_time": "2022-11-08T11:56:23.935Z"
   },
   {
    "duration": 3,
    "start_time": "2022-11-08T11:56:23.964Z"
   },
   {
    "duration": 11,
    "start_time": "2022-11-08T11:56:23.968Z"
   },
   {
    "duration": 19,
    "start_time": "2022-11-08T11:56:23.981Z"
   },
   {
    "duration": 10,
    "start_time": "2022-11-08T11:56:24.002Z"
   },
   {
    "duration": 11,
    "start_time": "2022-11-08T11:56:24.014Z"
   },
   {
    "duration": 17,
    "start_time": "2022-11-08T11:56:24.058Z"
   },
   {
    "duration": 1422,
    "start_time": "2022-11-09T16:18:24.316Z"
   },
   {
    "duration": 9,
    "start_time": "2022-11-09T16:19:00.623Z"
   },
   {
    "duration": 9,
    "start_time": "2022-11-09T16:19:07.545Z"
   },
   {
    "duration": 8,
    "start_time": "2022-11-09T16:19:25.115Z"
   },
   {
    "duration": 9,
    "start_time": "2022-11-09T16:20:01.109Z"
   },
   {
    "duration": 288,
    "start_time": "2022-11-09T16:20:11.388Z"
   },
   {
    "duration": 26,
    "start_time": "2022-11-09T16:20:11.679Z"
   },
   {
    "duration": 14,
    "start_time": "2022-11-09T16:20:11.708Z"
   },
   {
    "duration": 9,
    "start_time": "2022-11-09T16:20:11.724Z"
   },
   {
    "duration": 46,
    "start_time": "2022-11-09T16:20:11.735Z"
   },
   {
    "duration": 4,
    "start_time": "2022-11-09T16:20:11.783Z"
   },
   {
    "duration": 13,
    "start_time": "2022-11-09T16:20:11.789Z"
   },
   {
    "duration": 12,
    "start_time": "2022-11-09T16:20:11.804Z"
   },
   {
    "duration": 10,
    "start_time": "2022-11-09T16:20:11.818Z"
   },
   {
    "duration": 4,
    "start_time": "2022-11-09T16:20:11.830Z"
   },
   {
    "duration": 49,
    "start_time": "2022-11-09T16:20:11.836Z"
   },
   {
    "duration": 30,
    "start_time": "2022-11-09T16:20:11.887Z"
   },
   {
    "duration": 10,
    "start_time": "2022-11-09T16:20:11.919Z"
   },
   {
    "duration": 8,
    "start_time": "2022-11-09T16:20:11.931Z"
   },
   {
    "duration": 30,
    "start_time": "2022-11-09T16:20:11.940Z"
   },
   {
    "duration": 17,
    "start_time": "2022-11-09T16:20:11.972Z"
   },
   {
    "duration": 15,
    "start_time": "2022-11-09T16:20:11.991Z"
   },
   {
    "duration": 3,
    "start_time": "2022-11-09T16:20:12.008Z"
   },
   {
    "duration": 16,
    "start_time": "2022-11-09T16:20:12.012Z"
   },
   {
    "duration": 5,
    "start_time": "2022-11-09T16:20:12.029Z"
   },
   {
    "duration": 32,
    "start_time": "2022-11-09T16:20:12.036Z"
   },
   {
    "duration": 12,
    "start_time": "2022-11-09T16:20:12.070Z"
   },
   {
    "duration": 19,
    "start_time": "2022-11-09T16:20:12.084Z"
   },
   {
    "duration": 3,
    "start_time": "2022-11-09T16:20:12.104Z"
   },
   {
    "duration": 20,
    "start_time": "2022-11-09T16:20:12.109Z"
   },
   {
    "duration": 208,
    "start_time": "2022-11-09T16:20:12.131Z"
   },
   {
    "duration": 0,
    "start_time": "2022-11-09T16:20:12.341Z"
   },
   {
    "duration": 0,
    "start_time": "2022-11-09T16:20:12.342Z"
   },
   {
    "duration": 0,
    "start_time": "2022-11-09T16:20:12.343Z"
   },
   {
    "duration": 0,
    "start_time": "2022-11-09T16:20:12.344Z"
   },
   {
    "duration": 0,
    "start_time": "2022-11-09T16:20:12.344Z"
   },
   {
    "duration": 0,
    "start_time": "2022-11-09T16:20:12.345Z"
   },
   {
    "duration": 0,
    "start_time": "2022-11-09T16:20:12.346Z"
   },
   {
    "duration": 0,
    "start_time": "2022-11-09T16:20:12.348Z"
   },
   {
    "duration": 0,
    "start_time": "2022-11-09T16:20:12.349Z"
   },
   {
    "duration": 0,
    "start_time": "2022-11-09T16:20:12.350Z"
   },
   {
    "duration": 0,
    "start_time": "2022-11-09T16:20:12.351Z"
   },
   {
    "duration": 0,
    "start_time": "2022-11-09T16:20:12.352Z"
   },
   {
    "duration": 10,
    "start_time": "2022-11-09T16:20:30.589Z"
   },
   {
    "duration": 187,
    "start_time": "2022-11-09T16:20:36.871Z"
   },
   {
    "duration": 205,
    "start_time": "2022-11-09T16:20:41.243Z"
   },
   {
    "duration": 197,
    "start_time": "2022-11-09T16:20:53.436Z"
   },
   {
    "duration": 200,
    "start_time": "2022-11-09T16:21:09.461Z"
   },
   {
    "duration": 186,
    "start_time": "2022-11-09T16:21:12.848Z"
   },
   {
    "duration": 8,
    "start_time": "2022-11-09T16:21:14.771Z"
   },
   {
    "duration": 207,
    "start_time": "2022-11-09T16:21:37.219Z"
   },
   {
    "duration": 8,
    "start_time": "2022-11-09T16:21:48.179Z"
   },
   {
    "duration": 13,
    "start_time": "2022-11-09T16:21:51.277Z"
   },
   {
    "duration": 25,
    "start_time": "2022-11-09T16:22:02.722Z"
   },
   {
    "duration": 8,
    "start_time": "2022-11-09T16:22:10.538Z"
   },
   {
    "duration": 26,
    "start_time": "2022-11-09T16:22:14.234Z"
   },
   {
    "duration": 27,
    "start_time": "2022-11-09T16:22:18.702Z"
   },
   {
    "duration": 27,
    "start_time": "2022-11-09T16:22:30.738Z"
   },
   {
    "duration": 15,
    "start_time": "2022-11-09T16:22:38.292Z"
   },
   {
    "duration": 138,
    "start_time": "2022-11-09T16:22:45.114Z"
   },
   {
    "duration": 112,
    "start_time": "2022-11-09T16:22:53.417Z"
   },
   {
    "duration": 19,
    "start_time": "2022-11-09T16:23:37.870Z"
   },
   {
    "duration": 117,
    "start_time": "2022-11-09T16:23:41.392Z"
   },
   {
    "duration": 9,
    "start_time": "2022-11-09T16:24:28.444Z"
   },
   {
    "duration": 11,
    "start_time": "2022-11-09T16:24:33.433Z"
   },
   {
    "duration": 14,
    "start_time": "2022-11-09T16:24:40.345Z"
   },
   {
    "duration": 9,
    "start_time": "2022-11-09T16:24:55.384Z"
   },
   {
    "duration": 24,
    "start_time": "2022-11-09T16:25:01.475Z"
   },
   {
    "duration": 22,
    "start_time": "2022-11-09T16:25:12.784Z"
   },
   {
    "duration": 31,
    "start_time": "2022-11-09T16:25:18.834Z"
   },
   {
    "duration": 30,
    "start_time": "2022-11-09T16:25:27.646Z"
   },
   {
    "duration": 24,
    "start_time": "2022-11-09T16:25:31.339Z"
   },
   {
    "duration": 25,
    "start_time": "2022-11-09T16:25:37.752Z"
   },
   {
    "duration": 13,
    "start_time": "2022-11-09T16:25:52.673Z"
   },
   {
    "duration": 11,
    "start_time": "2022-11-09T16:25:59.470Z"
   },
   {
    "duration": 378,
    "start_time": "2022-11-09T16:26:08.206Z"
   },
   {
    "duration": 263,
    "start_time": "2022-11-09T16:26:29.683Z"
   },
   {
    "duration": 1011,
    "start_time": "2022-11-09T16:26:39.242Z"
   },
   {
    "duration": 25,
    "start_time": "2022-11-09T16:26:49.183Z"
   },
   {
    "duration": 26,
    "start_time": "2022-11-09T16:26:50.598Z"
   },
   {
    "duration": 8,
    "start_time": "2022-11-09T16:27:03.440Z"
   },
   {
    "duration": 8,
    "start_time": "2022-11-09T16:27:09.808Z"
   },
   {
    "duration": 7,
    "start_time": "2022-11-09T16:27:13.377Z"
   },
   {
    "duration": 315,
    "start_time": "2022-11-09T16:27:46.629Z"
   },
   {
    "duration": 8,
    "start_time": "2022-11-09T16:27:58.213Z"
   },
   {
    "duration": 7,
    "start_time": "2022-11-09T16:28:00.836Z"
   },
   {
    "duration": 8,
    "start_time": "2022-11-09T16:28:27.493Z"
   },
   {
    "duration": 9,
    "start_time": "2022-11-09T16:28:33.513Z"
   },
   {
    "duration": 10,
    "start_time": "2022-11-09T16:28:37.906Z"
   },
   {
    "duration": 64,
    "start_time": "2022-11-09T16:30:14.582Z"
   },
   {
    "duration": 800,
    "start_time": "2022-11-09T16:30:22.765Z"
   },
   {
    "duration": 51,
    "start_time": "2022-11-09T16:30:36.241Z"
   },
   {
    "duration": 13,
    "start_time": "2022-11-09T16:30:45.182Z"
   },
   {
    "duration": 14,
    "start_time": "2022-11-09T16:30:58.045Z"
   },
   {
    "duration": 14,
    "start_time": "2022-11-09T16:31:08.607Z"
   },
   {
    "duration": 14,
    "start_time": "2022-11-09T16:31:14.094Z"
   },
   {
    "duration": 15,
    "start_time": "2022-11-09T16:31:30.533Z"
   },
   {
    "duration": 20,
    "start_time": "2022-11-09T16:31:43.303Z"
   },
   {
    "duration": 17,
    "start_time": "2022-11-09T16:32:28.897Z"
   },
   {
    "duration": 16,
    "start_time": "2022-11-09T16:32:42.820Z"
   },
   {
    "duration": 16,
    "start_time": "2022-11-09T16:32:53.545Z"
   },
   {
    "duration": 15,
    "start_time": "2022-11-09T16:33:35.330Z"
   },
   {
    "duration": 15,
    "start_time": "2022-11-09T16:33:43.037Z"
   },
   {
    "duration": 12,
    "start_time": "2022-11-09T16:33:59.990Z"
   },
   {
    "duration": 13,
    "start_time": "2022-11-09T16:34:09.201Z"
   },
   {
    "duration": 13,
    "start_time": "2022-11-09T16:34:29.233Z"
   },
   {
    "duration": 10,
    "start_time": "2022-11-09T16:34:50.356Z"
   },
   {
    "duration": 10,
    "start_time": "2022-11-09T16:34:54.195Z"
   },
   {
    "duration": 19,
    "start_time": "2022-11-09T16:35:06.474Z"
   },
   {
    "duration": 14,
    "start_time": "2022-11-09T16:35:19.654Z"
   },
   {
    "duration": 20,
    "start_time": "2022-11-09T16:35:43.410Z"
   },
   {
    "duration": 17,
    "start_time": "2022-11-09T16:35:47.043Z"
   },
   {
    "duration": 24,
    "start_time": "2022-11-09T16:38:24.662Z"
   },
   {
    "duration": 30,
    "start_time": "2022-11-09T16:38:25.859Z"
   },
   {
    "duration": 86,
    "start_time": "2022-11-09T16:38:41.226Z"
   },
   {
    "duration": 203,
    "start_time": "2022-11-09T16:38:49.254Z"
   },
   {
    "duration": 108,
    "start_time": "2022-11-09T16:39:07.834Z"
   },
   {
    "duration": 111,
    "start_time": "2022-11-09T16:39:20.977Z"
   },
   {
    "duration": 18,
    "start_time": "2022-11-09T16:39:49.423Z"
   },
   {
    "duration": 5,
    "start_time": "2022-11-09T16:39:59.143Z"
   },
   {
    "duration": 4,
    "start_time": "2022-11-09T16:40:04.725Z"
   },
   {
    "duration": 19,
    "start_time": "2022-11-09T16:40:07.865Z"
   },
   {
    "duration": 5,
    "start_time": "2022-11-09T16:40:12.651Z"
   },
   {
    "duration": 4,
    "start_time": "2022-11-09T16:40:21.297Z"
   },
   {
    "duration": 11,
    "start_time": "2022-11-09T16:40:45.223Z"
   },
   {
    "duration": 114,
    "start_time": "2022-11-09T16:40:48.790Z"
   },
   {
    "duration": 8,
    "start_time": "2022-11-09T16:41:03.789Z"
   },
   {
    "duration": 11,
    "start_time": "2022-11-09T16:41:09.152Z"
   },
   {
    "duration": 113,
    "start_time": "2022-11-09T16:42:21.235Z"
   },
   {
    "duration": 1371,
    "start_time": "2022-11-09T16:42:30.122Z"
   },
   {
    "duration": 10,
    "start_time": "2022-11-09T16:42:37.546Z"
   }
  ],
  "colab": {
   "name": "dpp_template_part2.ipynb",
   "provenance": []
  },
  "kernelspec": {
   "display_name": "Python 3 (ipykernel)",
   "language": "python",
   "name": "python3"
  },
  "language_info": {
   "codemirror_mode": {
    "name": "ipython",
    "version": 3
   },
   "file_extension": ".py",
   "mimetype": "text/x-python",
   "name": "python",
   "nbconvert_exporter": "python",
   "pygments_lexer": "ipython3",
   "version": "3.9.16"
  },
  "toc": {
   "base_numbering": 1,
   "nav_menu": {},
   "number_sections": true,
   "sideBar": true,
   "skip_h1_title": true,
   "title_cell": "Содержание",
   "title_sidebar": "Contents",
   "toc_cell": true,
   "toc_position": {
    "height": "calc(100% - 180px)",
    "left": "10px",
    "top": "150px",
    "width": "299.513px"
   },
   "toc_section_display": true,
   "toc_window_display": true
  },
  "vscode": {
   "interpreter": {
    "hash": "40bcb2e441a6d0af9e6f649dfe5ca0440eb431939f3ce0f6d45a172cb5590c37"
   }
  }
 },
 "nbformat": 4,
 "nbformat_minor": 5
}
