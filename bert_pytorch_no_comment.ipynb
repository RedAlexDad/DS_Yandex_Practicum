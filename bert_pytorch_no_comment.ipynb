{
 "cells": [
  {
   "cell_type": "markdown",
   "id": "d973801e",
   "metadata": {},
   "source": [
    "# Проект для «Викишоп» с BERT"
   ]
  },
  {
   "cell_type": "markdown",
   "id": "4bbadcb6",
   "metadata": {},
   "source": [
    "Интернет-магазин «Викишоп» запускает новый сервис. Теперь пользователи могут редактировать и дополнять описания товаров, как в вики-сообществах. То есть клиенты предлагают свои правки и комментируют изменения других. Магазину нужен инструмент, который будет искать токсичные комментарии и отправлять их на модерацию. \n",
    "\n",
    "Обучите модель классифицировать комментарии на позитивные и негативные. В вашем распоряжении набор данных с разметкой о токсичности правок.\n",
    "\n",
    "Постройте модель со значением метрики качества *F1* не меньше 0.75. \n",
    "\n",
    "**Инструкция по выполнению проекта**\n",
    "\n",
    "1. Загрузите и подготовьте данные.\n",
    "2. Обучите разные модели. \n",
    "3. Сделайте выводы.\n",
    "\n",
    "Для выполнения проекта применять *BERT* необязательно, но вы можете попробовать.\n",
    "\n",
    "**Описание данных**\n",
    "\n",
    "Данные находятся в файле `toxic_comments.csv`. Столбец *text* в нём содержит текст комментария, а *toxic* — целевой признак."
   ]
  },
  {
   "cell_type": "markdown",
   "id": "efaadd75",
   "metadata": {},
   "source": [
    "**Рассмотрим два варианта проекта без BERT и с BERT**"
   ]
  },
  {
   "cell_type": "markdown",
   "id": "ea2edf34",
   "metadata": {},
   "source": [
    "# Подготовка"
   ]
  },
  {
   "cell_type": "markdown",
   "id": "cb74461d",
   "metadata": {},
   "source": [
    "## Подключение библиотеки"
   ]
  },
  {
   "cell_type": "code",
   "execution_count": 104,
   "id": "1b1cf1f3",
   "metadata": {
    "execution": {
     "iopub.execute_input": "2023-04-16T21:15:03.600933Z",
     "iopub.status.busy": "2023-04-16T21:15:03.600512Z",
     "iopub.status.idle": "2023-04-16T21:15:03.607252Z",
     "shell.execute_reply": "2023-04-16T21:15:03.605949Z",
     "shell.execute_reply.started": "2023-04-16T21:15:03.600896Z"
    },
    "scrolled": true
   },
   "outputs": [
    {
     "name": "stdout",
     "output_type": "stream",
     "text": [
      "The jupyternotify extension is already loaded. To reload it, use:\n",
      "  %reload_ext jupyternotify\n"
     ]
    }
   ],
   "source": [
    "# Уведомление о завершение работы определенного ячейка (очень пригодится для машинного обучения)\n",
    "import jupyternotify\n",
    "%load_ext jupyternotify"
   ]
  },
  {
   "cell_type": "code",
   "execution_count": 105,
   "id": "03c0b2cd",
   "metadata": {
    "execution": {
     "iopub.execute_input": "2023-04-16T21:15:05.052238Z",
     "iopub.status.busy": "2023-04-16T21:15:05.051875Z",
     "iopub.status.idle": "2023-04-16T21:15:05.064047Z",
     "shell.execute_reply": "2023-04-16T21:15:05.062952Z",
     "shell.execute_reply.started": "2023-04-16T21:15:05.052205Z"
    }
   },
   "outputs": [],
   "source": [
    "# Подключаем все необходимые библиотеки\n",
    "import pandas as pd\n",
    "import numpy as np\n",
    "import matplotlib.pyplot as plt\n",
    "# Для визуализации временных рядов\n",
    "import plotly.graph_objects\n",
    "import seaborn as sb\n",
    "from scipy import stats as st\n",
    "# Время обучения модели\n",
    "import timeit\n",
    "# Тренды и сезонность\n",
    "from statsmodels.tsa.seasonal import seasonal_decompose\n",
    "# Проверка на стационарность\n",
    "from statsmodels.tsa.stattools import adfuller, kpss\n",
    "# Проверка на дисперсию с помощью теста Андерсона-Дарлинга\n",
    "from scipy.stats import anderson\n",
    "# XGBRegressor\n",
    "import xgboost as xgb\n",
    "\n",
    "# Работа с текстами\n",
    "import nltk\n",
    "from nltk.corpus import stopwords as nltk_stopwords\n",
    "from sklearn.feature_extraction.text import TfidfVectorizer\n",
    "\n",
    "from lightgbm import LGBMRegressor\n",
    "# Вызов библиотеки для отключения предупреждения\n",
    "import warnings\n",
    "\n",
    "# Разбиение на обучающую, валидационную и тестовую выборку\n",
    "from sklearn.model_selection import train_test_split, GridSearchCV, cross_val_score, cross_val_predict, TimeSeriesSplit\n",
    "# Применим кроссвалидацию для повышения качеств обучения\n",
    "\n",
    "\n",
    "\n",
    "# Масштабируемость модели\n",
    "from sklearn.preprocessing import StandardScaler, OrdinalEncoder, OneHotEncoder\n",
    "\n",
    "# Для машинного обучения разными способами:\n",
    "# - Логическая регрессия\n",
    "from sklearn.linear_model import LogisticRegression\n",
    "# - Случайный лес\n",
    "from sklearn.ensemble import RandomForestClassifier\n",
    "# - Решающее дерево\n",
    "from sklearn.tree import DecisionTreeClassifier\n",
    "# - Модель на адекватность\n",
    "from sklearn.dummy import DummyClassifier\n",
    "# - Бустинг модель\n",
    "from catboost import CatBoostClassifier\n",
    "\n",
    "from sklearn.metrics import (\n",
    "    # Точность модели\n",
    "    accuracy_score,\n",
    "    # Матрицы ошибок (для борьбы с дисбалансом)\n",
    "    confusion_matrix, \n",
    "    # Полнота\n",
    "    recall_score, \n",
    "    # Точность\n",
    "    precision_score, \n",
    "    # F1-мера\n",
    "    f1_score,\n",
    "    # Метрика AUC-ROC\n",
    "    roc_auc_score,\n",
    "    roc_curve,\n",
    "    # MSE\n",
    "    mean_squared_error,\n",
    "    mean_absolute_error,\n",
    "    fbeta_score, \n",
    "    make_scorer\n",
    ")\n",
    "\n",
    "# Контроль выборки\n",
    "from sklearn.utils import shuffle\n",
    "\n",
    "# Для лематизации текстов\n",
    "import re\n",
    "from pymystem3 import Mystem\n",
    "import nltk\n",
    "from nltk.stem import WordNetLemmatizer\n",
    "from nltk.corpus import wordnet\n",
    "\n",
    "# Для машинного обучения - деление выборки на обучающие и валидационные\n",
    "from sklearn.pipeline import Pipeline\n",
    "from sklearn.feature_extraction.text import CountVectorizer, TfidfTransformer\n",
    "# Просмотр все значений метрики\n",
    "from sklearn.metrics import classification_report\n",
    "\n",
    "from sklearn import svm\n",
    "import joblib"
   ]
  },
  {
   "cell_type": "markdown",
   "id": "9e62a42d",
   "metadata": {},
   "source": [
    "Для машинного обучения с BERT"
   ]
  },
  {
   "cell_type": "code",
   "execution_count": 106,
   "id": "76dc1f24",
   "metadata": {
    "execution": {
     "iopub.execute_input": "2023-04-16T21:15:07.758445Z",
     "iopub.status.busy": "2023-04-16T21:15:07.757745Z",
     "iopub.status.idle": "2023-04-16T21:15:07.763718Z",
     "shell.execute_reply": "2023-04-16T21:15:07.762673Z",
     "shell.execute_reply.started": "2023-04-16T21:15:07.758405Z"
    },
    "scrolled": true
   },
   "outputs": [],
   "source": [
    "from torch import cuda\n",
    "\n",
    "# Библиотеки для обучения с применением технологий BERT\n",
    "import numpy as np\n",
    "import pandas as pd\n",
    "from sklearn import metrics\n",
    "import transformers\n",
    "import torch\n",
    "from torch.utils.data import Dataset, DataLoader, RandomSampler, SequentialSampler\n",
    "from transformers import BertTokenizer, BertModel, BertConfig"
   ]
  },
  {
   "cell_type": "markdown",
   "id": "27716476",
   "metadata": {},
   "source": [
    "## Загрузим данные"
   ]
  },
  {
   "cell_type": "code",
   "execution_count": 114,
   "id": "2a9bdeb9",
   "metadata": {
    "execution": {
     "iopub.execute_input": "2023-04-16T21:16:55.587597Z",
     "iopub.status.busy": "2023-04-16T21:16:55.586926Z",
     "iopub.status.idle": "2023-04-16T21:17:01.309511Z",
     "shell.execute_reply": "2023-04-16T21:17:01.308477Z",
     "shell.execute_reply.started": "2023-04-16T21:16:55.587542Z"
    }
   },
   "outputs": [],
   "source": [
    "# Получаем датасет\n",
    "try:\n",
    "    # С локального файла\n",
    "    try:\n",
    "        # Сразу устанавливаем время как индексы\n",
    "        df = pd.read_csv('toxic_comments.csv', index_col=[0], parse_dates=[0])\n",
    "    except:\n",
    "        df = pd.read_csv('https://code.s3.yandex.net/datasets/toxic_comments.csv', index_col=[0], parse_dates=[0])\n",
    "except:\n",
    "    print('Отсутствует датасет. Проверьте путь файла')"
   ]
  },
  {
   "cell_type": "code",
   "execution_count": null,
   "id": "695c3843",
   "metadata": {},
   "outputs": [],
   "source": [
    "df_bert = df.copy()"
   ]
  },
  {
   "cell_type": "markdown",
   "id": "163891c0",
   "metadata": {},
   "source": [
    "## Изучим данные"
   ]
  },
  {
   "cell_type": "code",
   "execution_count": 115,
   "id": "7b57ceb3",
   "metadata": {
    "execution": {
     "iopub.execute_input": "2023-04-16T21:17:06.524501Z",
     "iopub.status.busy": "2023-04-16T21:17:06.524029Z",
     "iopub.status.idle": "2023-04-16T21:17:06.640525Z",
     "shell.execute_reply": "2023-04-16T21:17:06.635974Z",
     "shell.execute_reply.started": "2023-04-16T21:17:06.524459Z"
    }
   },
   "outputs": [
    {
     "name": "stdout",
     "output_type": "stream",
     "text": [
      "<class 'pandas.core.frame.DataFrame'>\n",
      "Int64Index: 159292 entries, 0 to 159450\n",
      "Data columns (total 2 columns):\n",
      " #   Column  Non-Null Count   Dtype \n",
      "---  ------  --------------   ----- \n",
      " 0   text    159292 non-null  object\n",
      " 1   toxic   159292 non-null  int64 \n",
      "dtypes: int64(1), object(1)\n",
      "memory usage: 3.6+ MB\n"
     ]
    },
    {
     "data": {
      "text/plain": [
       "None"
      ]
     },
     "metadata": {},
     "output_type": "display_data"
    },
    {
     "data": {
      "text/html": [
       "<div>\n",
       "<style scoped>\n",
       "    .dataframe tbody tr th:only-of-type {\n",
       "        vertical-align: middle;\n",
       "    }\n",
       "\n",
       "    .dataframe tbody tr th {\n",
       "        vertical-align: top;\n",
       "    }\n",
       "\n",
       "    .dataframe thead th {\n",
       "        text-align: right;\n",
       "    }\n",
       "</style>\n",
       "<table border=\"1\" class=\"dataframe\">\n",
       "  <thead>\n",
       "    <tr style=\"text-align: right;\">\n",
       "      <th></th>\n",
       "      <th>text</th>\n",
       "      <th>toxic</th>\n",
       "    </tr>\n",
       "  </thead>\n",
       "  <tbody>\n",
       "    <tr>\n",
       "      <th>0</th>\n",
       "      <td>Explanation\\nWhy the edits made under my usern...</td>\n",
       "      <td>0</td>\n",
       "    </tr>\n",
       "    <tr>\n",
       "      <th>1</th>\n",
       "      <td>D'aww! He matches this background colour I'm s...</td>\n",
       "      <td>0</td>\n",
       "    </tr>\n",
       "    <tr>\n",
       "      <th>2</th>\n",
       "      <td>Hey man, I'm really not trying to edit war. It...</td>\n",
       "      <td>0</td>\n",
       "    </tr>\n",
       "    <tr>\n",
       "      <th>3</th>\n",
       "      <td>\"\\nMore\\nI can't make any real suggestions on ...</td>\n",
       "      <td>0</td>\n",
       "    </tr>\n",
       "    <tr>\n",
       "      <th>4</th>\n",
       "      <td>You, sir, are my hero. Any chance you remember...</td>\n",
       "      <td>0</td>\n",
       "    </tr>\n",
       "  </tbody>\n",
       "</table>\n",
       "</div>"
      ],
      "text/plain": [
       "                                                text  toxic\n",
       "0  Explanation\\nWhy the edits made under my usern...      0\n",
       "1  D'aww! He matches this background colour I'm s...      0\n",
       "2  Hey man, I'm really not trying to edit war. It...      0\n",
       "3  \"\\nMore\\nI can't make any real suggestions on ...      0\n",
       "4  You, sir, are my hero. Any chance you remember...      0"
      ]
     },
     "metadata": {},
     "output_type": "display_data"
    }
   ],
   "source": [
    "display(df.info(), df.head())"
   ]
  },
  {
   "cell_type": "markdown",
   "id": "bf0b7d03",
   "metadata": {},
   "source": [
    "Как и видим, что текст написан на английском языке"
   ]
  },
  {
   "cell_type": "markdown",
   "id": "7bb18b0a",
   "metadata": {},
   "source": [
    "### Изучим балансы классов"
   ]
  },
  {
   "cell_type": "code",
   "execution_count": 116,
   "id": "20c79dcd",
   "metadata": {
    "execution": {
     "iopub.execute_input": "2023-04-16T21:17:09.644574Z",
     "iopub.status.busy": "2023-04-16T21:17:09.643799Z",
     "iopub.status.idle": "2023-04-16T21:17:10.053784Z",
     "shell.execute_reply": "2023-04-16T21:17:10.052793Z",
     "shell.execute_reply.started": "2023-04-16T21:17:09.644526Z"
    }
   },
   "outputs": [
    {
     "data": {
      "text/plain": [
       "Text(0.5, 0, 'Токсичные и позитивные комментарии')"
      ]
     },
     "execution_count": 116,
     "metadata": {},
     "output_type": "execute_result"
    },
    {
     "data": {
      "image/png": "[encoded data removed]",
      "text/plain": [
       "<Figure size 1700x1000 with 2 Axes>"
      ]
     },
     "metadata": {},
     "output_type": "display_data"
    }
   ],
   "source": [
    "fig, axs = plt.subplots(1, 2, figsize=(17, 10))\n",
    "\n",
    "df['toxic'].value_counts(normalize=True).plot(ax=axs[0], kind='bar')\n",
    "axs[0].set_title('Соотношение к позитивному и токсичному комментарию')\n",
    "axs[0].set_ylabel('Соотношение 100%')\n",
    "axs[0].set_xlabel('Токсичные и позитивные комментарии')\n",
    "        \n",
    "df['toxic'].value_counts().plot(ax=axs[1], kind='bar')\n",
    "axs[1].set_title('Количество позитивные и токсичные комментарии')\n",
    "axs[1].set_ylabel('Количество')\n",
    "axs[1].set_xlabel('Токсичные и позитивные комментарии')"
   ]
  },
  {
   "cell_type": "markdown",
   "id": "f405b861",
   "metadata": {},
   "source": [
    "Как и видим, что много токсичных комментариев нежели позитивных. Дальше идем"
   ]
  },
  {
   "cell_type": "markdown",
   "id": "4f00b237",
   "metadata": {},
   "source": [
    "# Машинное обучение с BERT"
   ]
  },
  {
   "cell_type": "code",
   "execution_count": 117,
   "id": "e8731032",
   "metadata": {
    "execution": {
     "iopub.execute_input": "2023-04-16T21:17:10.653306Z",
     "iopub.status.busy": "2023-04-16T21:17:10.652573Z",
     "iopub.status.idle": "2023-04-16T21:17:10.900788Z",
     "shell.execute_reply": "2023-04-16T21:17:10.898691Z",
     "shell.execute_reply.started": "2023-04-16T21:17:10.653264Z"
    }
   },
   "outputs": [
    {
     "name": "stdout",
     "output_type": "stream",
     "text": [
      "Sun Apr 16 21:17:10 2023       \n",
      "+-----------------------------------------------------------------------------+\n",
      "| NVIDIA-SMI 470.161.03   Driver Version: 470.161.03   CUDA Version: 11.4     |\n",
      "|-------------------------------+----------------------+----------------------+\n",
      "| GPU  Name        Persistence-M| Bus-Id        Disp.A | Volatile Uncorr. ECC |\n",
      "| Fan  Temp  Perf  Pwr:Usage/Cap|         Memory-Usage | GPU-Util  Compute M. |\n",
      "|                               |                      |               MIG M. |\n",
      "|===============================+======================+======================|\n",
      "|   0  Tesla T4            Off  | 00000000:00:04.0 Off |                    0 |\n",
      "| N/A   77C    P0    33W /  70W |   4112MiB / 15109MiB |      0%      Default |\n",
      "|                               |                      |                  N/A |\n",
      "+-------------------------------+----------------------+----------------------+\n",
      "|   1  Tesla T4            Off  | 00000000:00:05.0 Off |                    0 |\n",
      "| N/A   41C    P8     9W /  70W |      3MiB / 15109MiB |      0%      Default |\n",
      "|                               |                      |                  N/A |\n",
      "+-------------------------------+----------------------+----------------------+\n",
      "                                                                               \n",
      "+-----------------------------------------------------------------------------+\n",
      "| Processes:                                                                  |\n",
      "|  GPU   GI   CI        PID   Type   Process name                  GPU Memory |\n",
      "|        ID   ID                                                   Usage      |\n",
      "|=============================================================================|\n",
      "+-----------------------------------------------------------------------------+\n"
     ]
    }
   ],
   "source": [
    "gpu_info = !nvidia-smi\n",
    "gpu_info = '\\n'.join(gpu_info)\n",
    "if gpu_info.find('failed') >= 0:\n",
    "    print('Select the Runtime > \"Change runtime type\" menu to enable a GPU accelerator, ')\n",
    "    print('and then re-execute this cell.')\n",
    "else:\n",
    "    print(gpu_info)"
   ]
  },
  {
   "cell_type": "code",
   "execution_count": 118,
   "id": "6f156efd",
   "metadata": {
    "execution": {
     "iopub.execute_input": "2023-04-16T21:17:11.039175Z",
     "iopub.status.busy": "2023-04-16T21:17:11.038070Z",
     "iopub.status.idle": "2023-04-16T21:17:11.047490Z",
     "shell.execute_reply": "2023-04-16T21:17:11.046142Z",
     "shell.execute_reply.started": "2023-04-16T21:17:11.039130Z"
    }
   },
   "outputs": [
    {
     "name": "stdout",
     "output_type": "stream",
     "text": [
      "Using Tesla T4 GPUs\n"
     ]
    }
   ],
   "source": [
    "device = torch.device(\"cuda\" if torch.cuda.is_available() else \"cpu\")\n",
    "\n",
    "if device == torch.device('cpu'):\n",
    "    print('Using CPU')\n",
    "else:\n",
    "    n_gpu = torch.cuda.device_count()\n",
    "    print('Using {} GPUs'.format(torch.cuda.get_device_name(0)))"
   ]
  },
  {
   "cell_type": "code",
   "execution_count": 120,
   "id": "4a4ae2eb",
   "metadata": {
    "execution": {
     "iopub.execute_input": "2023-04-16T21:17:26.687789Z",
     "iopub.status.busy": "2023-04-16T21:17:26.687219Z",
     "iopub.status.idle": "2023-04-16T21:17:26.716135Z",
     "shell.execute_reply": "2023-04-16T21:17:26.715081Z",
     "shell.execute_reply.started": "2023-04-16T21:17:26.687746Z"
    }
   },
   "outputs": [
    {
     "data": {
      "text/html": [
       "<div>\n",
       "<style scoped>\n",
       "    .dataframe tbody tr th:only-of-type {\n",
       "        vertical-align: middle;\n",
       "    }\n",
       "\n",
       "    .dataframe tbody tr th {\n",
       "        vertical-align: top;\n",
       "    }\n",
       "\n",
       "    .dataframe thead th {\n",
       "        text-align: right;\n",
       "    }\n",
       "</style>\n",
       "<table border=\"1\" class=\"dataframe\">\n",
       "  <thead>\n",
       "    <tr style=\"text-align: right;\">\n",
       "      <th></th>\n",
       "      <th>text</th>\n",
       "      <th>toxic</th>\n",
       "    </tr>\n",
       "  </thead>\n",
       "  <tbody>\n",
       "    <tr>\n",
       "      <th>0</th>\n",
       "      <td>Explanation\\nWhy the edits made under my usern...</td>\n",
       "      <td>0</td>\n",
       "    </tr>\n",
       "    <tr>\n",
       "      <th>1</th>\n",
       "      <td>D'aww! He matches this background colour I'm s...</td>\n",
       "      <td>0</td>\n",
       "    </tr>\n",
       "    <tr>\n",
       "      <th>2</th>\n",
       "      <td>Hey man, I'm really not trying to edit war. It...</td>\n",
       "      <td>0</td>\n",
       "    </tr>\n",
       "    <tr>\n",
       "      <th>3</th>\n",
       "      <td>\"\\nMore\\nI can't make any real suggestions on ...</td>\n",
       "      <td>0</td>\n",
       "    </tr>\n",
       "    <tr>\n",
       "      <th>4</th>\n",
       "      <td>You, sir, are my hero. Any chance you remember...</td>\n",
       "      <td>0</td>\n",
       "    </tr>\n",
       "  </tbody>\n",
       "</table>\n",
       "</div>"
      ],
      "text/plain": [
       "                                                text  toxic\n",
       "0  Explanation\\nWhy the edits made under my usern...      0\n",
       "1  D'aww! He matches this background colour I'm s...      0\n",
       "2  Hey man, I'm really not trying to edit war. It...      0\n",
       "3  \"\\nMore\\nI can't make any real suggestions on ...      0\n",
       "4  You, sir, are my hero. Any chance you remember...      0"
      ]
     },
     "metadata": {},
     "output_type": "display_data"
    },
    {
     "data": {
      "text/html": [
       "<div>\n",
       "<style scoped>\n",
       "    .dataframe tbody tr th:only-of-type {\n",
       "        vertical-align: middle;\n",
       "    }\n",
       "\n",
       "    .dataframe tbody tr th {\n",
       "        vertical-align: top;\n",
       "    }\n",
       "\n",
       "    .dataframe thead th {\n",
       "        text-align: right;\n",
       "    }\n",
       "</style>\n",
       "<table border=\"1\" class=\"dataframe\">\n",
       "  <thead>\n",
       "    <tr style=\"text-align: right;\">\n",
       "      <th></th>\n",
       "      <th>text</th>\n",
       "      <th>toxic</th>\n",
       "    </tr>\n",
       "  </thead>\n",
       "  <tbody>\n",
       "    <tr>\n",
       "      <th>159446</th>\n",
       "      <td>\":::::And for the second time of asking, when ...</td>\n",
       "      <td>0</td>\n",
       "    </tr>\n",
       "    <tr>\n",
       "      <th>159447</th>\n",
       "      <td>You should be ashamed of yourself \\n\\nThat is ...</td>\n",
       "      <td>0</td>\n",
       "    </tr>\n",
       "    <tr>\n",
       "      <th>159448</th>\n",
       "      <td>Spitzer \\n\\nUmm, theres no actual article for ...</td>\n",
       "      <td>0</td>\n",
       "    </tr>\n",
       "    <tr>\n",
       "      <th>159449</th>\n",
       "      <td>And it looks like it was actually you who put ...</td>\n",
       "      <td>0</td>\n",
       "    </tr>\n",
       "    <tr>\n",
       "      <th>159450</th>\n",
       "      <td>\"\\nAnd ... I really don't think you understand...</td>\n",
       "      <td>0</td>\n",
       "    </tr>\n",
       "  </tbody>\n",
       "</table>\n",
       "</div>"
      ],
      "text/plain": [
       "                                                     text  toxic\n",
       "159446  \":::::And for the second time of asking, when ...      0\n",
       "159447  You should be ashamed of yourself \\n\\nThat is ...      0\n",
       "159448  Spitzer \\n\\nUmm, theres no actual article for ...      0\n",
       "159449  And it looks like it was actually you who put ...      0\n",
       "159450  \"\\nAnd ... I really don't think you understand...      0"
      ]
     },
     "metadata": {},
     "output_type": "display_data"
    }
   ],
   "source": [
    "display(df_bert.head(), df_bert.tail())"
   ]
  },
  {
   "cell_type": "markdown",
   "id": "a86d92ba",
   "metadata": {},
   "source": [
    "## Предобработка данных\n",
    "\n",
    "Мы начнем с определения нескольких ключевых переменных, которые будут использоваться позже на этапе обучения/тонкой настройки. \n",
    "\n",
    "Затем создадим класс CustomDataset, который определяет, как текст предварительно обрабатывается перед отправкой в нейронную сеть. \n",
    "\n",
    "Также определим загрузчик данных, который будет пакетами передавать данные в нейронную сеть для подходящего обучения и обработки. \n",
    "\n",
    "Dataset и Dataloader - это конструкции библиотеки PyTorch для определения и управления предварительной обработкой данных и их передачей в нейронную сеть. \n",
    "\n",
    "Для дальнейшего ознакомления с Dataset и Dataloader нам следует ознакомиться с документами на [PyTorch](https://pytorch.org/docs/stable/data.html)"
   ]
  },
  {
   "cell_type": "markdown",
   "id": "8f68ff26",
   "metadata": {},
   "source": [
    "### *CustomDataset* Dataset Class\n",
    "- Этот класс определен для приема `tokenizer`, `dataframe` и `max_length` в качестве входных данных и генерации токенизированных выходных данных и тегов, которые используются моделью BERT для обучения.\n",
    "- Мы используем токенизатор BERT для токенизации данных в столбце `comment_text` фрейма данных.\n",
    "- Токенизатор использует метод `encode_plus` для выполнения токенизации и генерации необходимых выходных данных, а именно: `ids`, `attention_mask`, `token_type_ids`\n",
    "---\n",
    "- *Это первое различие между distilbert и bert, где токенизатор генерирует token_type_ids в случае Bert*\n",
    "---\n",
    "- Чтобы подробнее ознакомиться с токенизатором, [обратитесь к этому документу](https://huggingface.co/transformers/model_doc/bert.html#berttokenizer )\n",
    "- \"targest\" - это список категорий, помеченных как \"0\" или \"1\" во фрейме данных.\n",
    "- Класс *CustomDataset* используется для создания 2 наборов данных, для обучения и для проверки.\n",
    "- *Обучающий набор данных * используется для точной настройки модели: **80% исходных данных**\n",
    "- *Набор данных для проверки* используется для оценки производительности модели. Модель не видела этих данных во время обучения.\n",
    "\n",
    "### Dataloader\n",
    "- Dataloader используется для создания обучающего и валидационного загрузчика данных, который загружает данные в нейронную сеть определенным образом. Это необходимо, потому что все данные из набора данных не могут быть загружены в память сразу, следовательно, необходимо контролировать объем данных, загружаемых в память и затем передаваемых в нейронную сеть.\n",
    "- Это управление достигается с помощью таких параметров, как `batch_size` и `max_len`.\n",
    "- Загрузчики данных обучения и валидации используются в части обучения и валидации потока соответственно"
   ]
  },
  {
   "cell_type": "code",
   "execution_count": 149,
   "id": "24fe6513",
   "metadata": {
    "execution": {
     "iopub.execute_input": "2023-04-16T21:20:07.553464Z",
     "iopub.status.busy": "2023-04-16T21:20:07.553082Z",
     "iopub.status.idle": "2023-04-16T21:20:07.704504Z",
     "shell.execute_reply": "2023-04-16T21:20:07.703452Z",
     "shell.execute_reply.started": "2023-04-16T21:20:07.553430Z"
    }
   },
   "outputs": [],
   "source": [
    "# Разделы конфигурации\n",
    "\n",
    "# Определение некоторых ключевых переменных, которые будут использоваться позже в ходе обучения\n",
    "MAX_LEN = 200\n",
    "TRAIN_BATCH_SIZE = 8\n",
    "VALID_BATCH_SIZE = 4\n",
    "EPOCHS = 2\n",
    "LEARNING_RATE = 1e-05\n",
    "tokenizer = BertTokenizer.from_pretrained('bert-base-uncased')"
   ]
  },
  {
   "cell_type": "code",
   "execution_count": 150,
   "id": "880ba944",
   "metadata": {
    "execution": {
     "iopub.execute_input": "2023-04-16T21:20:07.747745Z",
     "iopub.status.busy": "2023-04-16T21:20:07.747445Z",
     "iopub.status.idle": "2023-04-16T21:20:07.757313Z",
     "shell.execute_reply": "2023-04-16T21:20:07.756068Z",
     "shell.execute_reply.started": "2023-04-16T21:20:07.747717Z"
    }
   },
   "outputs": [],
   "source": [
    "class CustomDataset(Dataset):\n",
    "\n",
    "    def __init__(self, dataframe, tokenizer, max_len):\n",
    "        self.tokenizer = tokenizer\n",
    "        self.data = dataframe\n",
    "        self.text = dataframe.text\n",
    "        self.targets = self.data.toxic\n",
    "        self.max_len = max_len\n",
    "\n",
    "    def __len__(self):\n",
    "        return len(self.text)\n",
    "\n",
    "    def __getitem__(self, index):\n",
    "        text = str(self.text[index])\n",
    "        text = \" \".join(text.split())\n",
    "\n",
    "        inputs = self.tokenizer.encode_plus(\n",
    "            text,\n",
    "            None,\n",
    "            add_special_tokens=True,\n",
    "            max_length=self.max_len,\n",
    "            pad_to_max_length=True,\n",
    "            return_token_type_ids=True\n",
    "        )\n",
    "        ids = inputs['input_ids']\n",
    "        mask = inputs['attention_mask']\n",
    "        token_type_ids = inputs[\"token_type_ids\"]\n",
    "\n",
    "\n",
    "        return {\n",
    "            'ids': torch.tensor(ids, dtype=torch.long),\n",
    "            'mask': torch.tensor(mask, dtype=torch.long),\n",
    "            'token_type_ids': torch.tensor(token_type_ids, dtype=torch.long),\n",
    "            'targets': torch.tensor(self.targets[index], dtype=torch.float)\n",
    "        }"
   ]
  },
  {
   "cell_type": "markdown",
   "id": "e6aed6f0",
   "metadata": {},
   "source": [
    "##  Деление на обучающей и тестовой выборки"
   ]
  },
  {
   "cell_type": "code",
   "execution_count": 151,
   "id": "f80acbe6",
   "metadata": {
    "execution": {
     "iopub.execute_input": "2023-04-16T21:20:08.142911Z",
     "iopub.status.busy": "2023-04-16T21:20:08.141760Z",
     "iopub.status.idle": "2023-04-16T21:20:08.212347Z",
     "shell.execute_reply": "2023-04-16T21:20:08.211322Z",
     "shell.execute_reply.started": "2023-04-16T21:20:08.142861Z"
    }
   },
   "outputs": [],
   "source": [
    "train_size = 0.8\n",
    "\n",
    "train_dataset=df_bert.sample(frac=train_size,random_state=200)\n",
    "test_dataset=df_bert.drop(train_dataset.index).reset_index(drop=True)\n",
    "train_dataset = train_dataset.reset_index(drop=True)"
   ]
  },
  {
   "cell_type": "code",
   "execution_count": 152,
   "id": "5e1a7f04",
   "metadata": {
    "execution": {
     "iopub.execute_input": "2023-04-16T21:20:08.350103Z",
     "iopub.status.busy": "2023-04-16T21:20:08.348119Z",
     "iopub.status.idle": "2023-04-16T21:20:08.355518Z",
     "shell.execute_reply": "2023-04-16T21:20:08.354330Z",
     "shell.execute_reply.started": "2023-04-16T21:20:08.350056Z"
    }
   },
   "outputs": [
    {
     "name": "stdout",
     "output_type": "stream",
     "text": [
      "Объем полного датасета: (159292, 2)\n",
      "Размер обучающей выборки: (127434, 2)\n",
      "Размер тестовой выборки: (31858, 2)\n"
     ]
    }
   ],
   "source": [
    "print(f\"Объем полного датасета: {df_bert.shape}\")\n",
    "print(f\"Размер обучающей выборки: {train_dataset.shape}\")\n",
    "print(f\"Размер тестовой выборки: {test_dataset.shape}\")"
   ]
  },
  {
   "cell_type": "code",
   "execution_count": 153,
   "id": "7c8360c8",
   "metadata": {
    "execution": {
     "iopub.execute_input": "2023-04-16T21:20:08.673155Z",
     "iopub.status.busy": "2023-04-16T21:20:08.670948Z",
     "iopub.status.idle": "2023-04-16T21:20:08.679699Z",
     "shell.execute_reply": "2023-04-16T21:20:08.678626Z",
     "shell.execute_reply.started": "2023-04-16T21:20:08.673098Z"
    }
   },
   "outputs": [],
   "source": [
    "training_set = CustomDataset(train_dataset, tokenizer, MAX_LEN)\n",
    "testing_set = CustomDataset(test_dataset, tokenizer, MAX_LEN)"
   ]
  },
  {
   "cell_type": "code",
   "execution_count": 154,
   "id": "0aa6b07d",
   "metadata": {
    "execution": {
     "iopub.execute_input": "2023-04-16T21:20:09.005658Z",
     "iopub.status.busy": "2023-04-16T21:20:09.004672Z",
     "iopub.status.idle": "2023-04-16T21:20:09.011411Z",
     "shell.execute_reply": "2023-04-16T21:20:09.010201Z",
     "shell.execute_reply.started": "2023-04-16T21:20:09.005581Z"
    }
   },
   "outputs": [],
   "source": [
    "# Устанавливаем параметры\n",
    "train_params = {\n",
    "    'batch_size': TRAIN_BATCH_SIZE,\n",
    "    'shuffle': True,\n",
    "    'num_workers': 0\n",
    "}\n",
    "\n",
    "test_params = {\n",
    "    'batch_size': VALID_BATCH_SIZE,\n",
    "    'shuffle': True,\n",
    "    'num_workers': 0\n",
    "}"
   ]
  },
  {
   "cell_type": "code",
   "execution_count": 155,
   "id": "7b8b4090",
   "metadata": {
    "execution": {
     "iopub.execute_input": "2023-04-16T21:20:09.415242Z",
     "iopub.status.busy": "2023-04-16T21:20:09.414301Z",
     "iopub.status.idle": "2023-04-16T21:20:09.425586Z",
     "shell.execute_reply": "2023-04-16T21:20:09.424380Z",
     "shell.execute_reply.started": "2023-04-16T21:20:09.415191Z"
    }
   },
   "outputs": [],
   "source": [
    "training_loader = DataLoader(training_set, **train_params)\n",
    "testing_loader = DataLoader(testing_set, **test_params)"
   ]
  },
  {
   "cell_type": "markdown",
   "id": "22de49fa",
   "metadata": {},
   "source": [
    "## Создание нейронной сети для тонкой настройки"
   ]
  },
  {
   "cell_type": "markdown",
   "id": "63964b5a",
   "metadata": {},
   "source": [
    "### Нейронная сеть\n",
    "- Мы будем создавать нейронную сеть с `BERTClass`.\n",
    "- У этой сети будет `Bert` модель. Далее следуют `Droput` и `Linear Layer`. Они добавлены с целью **Упорядочивания** и **Regulariaztion** соответственно.\n",
    "- В прямом цикле есть 2 выходных данных из слоя `Bert Model`.\n",
    "- Второй вывод `output_1` или называемый `объединенным выводом` передается в `Drop Out layer`, а последующий вывод передается в `Linear layer`.\n",
    "- Обратите внимание, что количество измерений для \"линейного слоя\" равно **6** потому что это общее количество категорий, по которым мы хотим классифицировать нашу модель.\n",
    "- Данные будут переданы в `BertClass`, как определено в наборе данных.\n",
    "- Выходные данные конечного уровня - это то, что будет использоваться для расчета потерь и определения точности прогнозирования моделей.\n",
    "- Мы инициируем экземпляр сети под названием `model`. Этот экземпляр будет использоваться для обучения, а затем для сохранения окончательной обученной модели для последующего вывода.\n",
    " \n",
    "### Функция потерь и оптимизатор\n",
    "- Потеря определяется в следующей ячейке как `loss_fn`.\n",
    "- Как определено выше, используемая функция потерь будет представлять собой комбинацию двоичной перекрестной энтропии, которая реализована как [BCELogits Loss](https://pytorch.org/docs/stable/nn.html#bcewithlogitsloss ) в PyTorch\n",
    "- `Optimizer` определен в следующей ячейке.\n",
    "- `Optimizer` используется для обновления весов нейронной сети для повышения ее производительности.\n",
    " \n",
    "### На будущее\n",
    "- Вы можете обратиться к моим [Pytorch Tutorials](https://github.com/abhimishra91/pytorch-tutorials ), чтобы получить представление о функции потерь и оптимизаторе.\n",
    "- [Документация Pytorch для функции потерь](https://pytorch.org/docs/stable/nn.html#loss-functions )\n",
    "- [Документация Pytorch для оптимизатора](https://pytorch.org/docs/stable/optim.html )\n",
    "- Обратитесь к ссылкам, приведенным в верхней части блокнота, чтобы узнать больше о `BertModel`. "
   ]
  },
  {
   "cell_type": "code",
   "execution_count": 156,
   "id": "e5a93b4a",
   "metadata": {
    "execution": {
     "iopub.execute_input": "2023-04-16T21:20:10.478672Z",
     "iopub.status.busy": "2023-04-16T21:20:10.477950Z",
     "iopub.status.idle": "2023-04-16T21:20:12.099511Z",
     "shell.execute_reply": "2023-04-16T21:20:12.098176Z",
     "shell.execute_reply.started": "2023-04-16T21:20:10.478624Z"
    },
    "scrolled": true
   },
   "outputs": [
    {
     "name": "stderr",
     "output_type": "stream",
     "text": [
      "Some weights of the model checkpoint at bert-base-uncased were not used when initializing BertModel: ['cls.predictions.transform.dense.bias', 'cls.predictions.bias', 'cls.predictions.transform.LayerNorm.weight', 'cls.seq_relationship.bias', 'cls.predictions.transform.dense.weight', 'cls.predictions.transform.LayerNorm.bias', 'cls.predictions.decoder.weight', 'cls.seq_relationship.weight']\n",
      "- This IS expected if you are initializing BertModel from the checkpoint of a model trained on another task or with another architecture (e.g. initializing a BertForSequenceClassification model from a BertForPreTraining model).\n",
      "- This IS NOT expected if you are initializing BertModel from the checkpoint of a model that you expect to be exactly identical (initializing a BertForSequenceClassification model from a BertForSequenceClassification model).\n"
     ]
    },
    {
     "data": {
      "text/plain": [
       "BERTClass(\n",
       "  (l1): BertModel(\n",
       "    (embeddings): BertEmbeddings(\n",
       "      (word_embeddings): Embedding(30522, 768, padding_idx=0)\n",
       "      (position_embeddings): Embedding(512, 768)\n",
       "      (token_type_embeddings): Embedding(2, 768)\n",
       "      (LayerNorm): LayerNorm((768,), eps=1e-12, elementwise_affine=True)\n",
       "      (dropout): Dropout(p=0.1, inplace=False)\n",
       "    )\n",
       "    (encoder): BertEncoder(\n",
       "      (layer): ModuleList(\n",
       "        (0): BertLayer(\n",
       "          (attention): BertAttention(\n",
       "            (self): BertSelfAttention(\n",
       "              (query): Linear(in_features=768, out_features=768, bias=True)\n",
       "              (key): Linear(in_features=768, out_features=768, bias=True)\n",
       "              (value): Linear(in_features=768, out_features=768, bias=True)\n",
       "              (dropout): Dropout(p=0.1, inplace=False)\n",
       "            )\n",
       "            (output): BertSelfOutput(\n",
       "              (dense): Linear(in_features=768, out_features=768, bias=True)\n",
       "              (LayerNorm): LayerNorm((768,), eps=1e-12, elementwise_affine=True)\n",
       "              (dropout): Dropout(p=0.1, inplace=False)\n",
       "            )\n",
       "          )\n",
       "          (intermediate): BertIntermediate(\n",
       "            (dense): Linear(in_features=768, out_features=3072, bias=True)\n",
       "            (intermediate_act_fn): GELUActivation()\n",
       "          )\n",
       "          (output): BertOutput(\n",
       "            (dense): Linear(in_features=3072, out_features=768, bias=True)\n",
       "            (LayerNorm): LayerNorm((768,), eps=1e-12, elementwise_affine=True)\n",
       "            (dropout): Dropout(p=0.1, inplace=False)\n",
       "          )\n",
       "        )\n",
       "        (1): BertLayer(\n",
       "          (attention): BertAttention(\n",
       "            (self): BertSelfAttention(\n",
       "              (query): Linear(in_features=768, out_features=768, bias=True)\n",
       "              (key): Linear(in_features=768, out_features=768, bias=True)\n",
       "              (value): Linear(in_features=768, out_features=768, bias=True)\n",
       "              (dropout): Dropout(p=0.1, inplace=False)\n",
       "            )\n",
       "            (output): BertSelfOutput(\n",
       "              (dense): Linear(in_features=768, out_features=768, bias=True)\n",
       "              (LayerNorm): LayerNorm((768,), eps=1e-12, elementwise_affine=True)\n",
       "              (dropout): Dropout(p=0.1, inplace=False)\n",
       "            )\n",
       "          )\n",
       "          (intermediate): BertIntermediate(\n",
       "            (dense): Linear(in_features=768, out_features=3072, bias=True)\n",
       "            (intermediate_act_fn): GELUActivation()\n",
       "          )\n",
       "          (output): BertOutput(\n",
       "            (dense): Linear(in_features=3072, out_features=768, bias=True)\n",
       "            (LayerNorm): LayerNorm((768,), eps=1e-12, elementwise_affine=True)\n",
       "            (dropout): Dropout(p=0.1, inplace=False)\n",
       "          )\n",
       "        )\n",
       "        (2): BertLayer(\n",
       "          (attention): BertAttention(\n",
       "            (self): BertSelfAttention(\n",
       "              (query): Linear(in_features=768, out_features=768, bias=True)\n",
       "              (key): Linear(in_features=768, out_features=768, bias=True)\n",
       "              (value): Linear(in_features=768, out_features=768, bias=True)\n",
       "              (dropout): Dropout(p=0.1, inplace=False)\n",
       "            )\n",
       "            (output): BertSelfOutput(\n",
       "              (dense): Linear(in_features=768, out_features=768, bias=True)\n",
       "              (LayerNorm): LayerNorm((768,), eps=1e-12, elementwise_affine=True)\n",
       "              (dropout): Dropout(p=0.1, inplace=False)\n",
       "            )\n",
       "          )\n",
       "          (intermediate): BertIntermediate(\n",
       "            (dense): Linear(in_features=768, out_features=3072, bias=True)\n",
       "            (intermediate_act_fn): GELUActivation()\n",
       "          )\n",
       "          (output): BertOutput(\n",
       "            (dense): Linear(in_features=3072, out_features=768, bias=True)\n",
       "            (LayerNorm): LayerNorm((768,), eps=1e-12, elementwise_affine=True)\n",
       "            (dropout): Dropout(p=0.1, inplace=False)\n",
       "          )\n",
       "        )\n",
       "        (3): BertLayer(\n",
       "          (attention): BertAttention(\n",
       "            (self): BertSelfAttention(\n",
       "              (query): Linear(in_features=768, out_features=768, bias=True)\n",
       "              (key): Linear(in_features=768, out_features=768, bias=True)\n",
       "              (value): Linear(in_features=768, out_features=768, bias=True)\n",
       "              (dropout): Dropout(p=0.1, inplace=False)\n",
       "            )\n",
       "            (output): BertSelfOutput(\n",
       "              (dense): Linear(in_features=768, out_features=768, bias=True)\n",
       "              (LayerNorm): LayerNorm((768,), eps=1e-12, elementwise_affine=True)\n",
       "              (dropout): Dropout(p=0.1, inplace=False)\n",
       "            )\n",
       "          )\n",
       "          (intermediate): BertIntermediate(\n",
       "            (dense): Linear(in_features=768, out_features=3072, bias=True)\n",
       "            (intermediate_act_fn): GELUActivation()\n",
       "          )\n",
       "          (output): BertOutput(\n",
       "            (dense): Linear(in_features=3072, out_features=768, bias=True)\n",
       "            (LayerNorm): LayerNorm((768,), eps=1e-12, elementwise_affine=True)\n",
       "            (dropout): Dropout(p=0.1, inplace=False)\n",
       "          )\n",
       "        )\n",
       "        (4): BertLayer(\n",
       "          (attention): BertAttention(\n",
       "            (self): BertSelfAttention(\n",
       "              (query): Linear(in_features=768, out_features=768, bias=True)\n",
       "              (key): Linear(in_features=768, out_features=768, bias=True)\n",
       "              (value): Linear(in_features=768, out_features=768, bias=True)\n",
       "              (dropout): Dropout(p=0.1, inplace=False)\n",
       "            )\n",
       "            (output): BertSelfOutput(\n",
       "              (dense): Linear(in_features=768, out_features=768, bias=True)\n",
       "              (LayerNorm): LayerNorm((768,), eps=1e-12, elementwise_affine=True)\n",
       "              (dropout): Dropout(p=0.1, inplace=False)\n",
       "            )\n",
       "          )\n",
       "          (intermediate): BertIntermediate(\n",
       "            (dense): Linear(in_features=768, out_features=3072, bias=True)\n",
       "            (intermediate_act_fn): GELUActivation()\n",
       "          )\n",
       "          (output): BertOutput(\n",
       "            (dense): Linear(in_features=3072, out_features=768, bias=True)\n",
       "            (LayerNorm): LayerNorm((768,), eps=1e-12, elementwise_affine=True)\n",
       "            (dropout): Dropout(p=0.1, inplace=False)\n",
       "          )\n",
       "        )\n",
       "        (5): BertLayer(\n",
       "          (attention): BertAttention(\n",
       "            (self): BertSelfAttention(\n",
       "              (query): Linear(in_features=768, out_features=768, bias=True)\n",
       "              (key): Linear(in_features=768, out_features=768, bias=True)\n",
       "              (value): Linear(in_features=768, out_features=768, bias=True)\n",
       "              (dropout): Dropout(p=0.1, inplace=False)\n",
       "            )\n",
       "            (output): BertSelfOutput(\n",
       "              (dense): Linear(in_features=768, out_features=768, bias=True)\n",
       "              (LayerNorm): LayerNorm((768,), eps=1e-12, elementwise_affine=True)\n",
       "              (dropout): Dropout(p=0.1, inplace=False)\n",
       "            )\n",
       "          )\n",
       "          (intermediate): BertIntermediate(\n",
       "            (dense): Linear(in_features=768, out_features=3072, bias=True)\n",
       "            (intermediate_act_fn): GELUActivation()\n",
       "          )\n",
       "          (output): BertOutput(\n",
       "            (dense): Linear(in_features=3072, out_features=768, bias=True)\n",
       "            (LayerNorm): LayerNorm((768,), eps=1e-12, elementwise_affine=True)\n",
       "            (dropout): Dropout(p=0.1, inplace=False)\n",
       "          )\n",
       "        )\n",
       "        (6): BertLayer(\n",
       "          (attention): BertAttention(\n",
       "            (self): BertSelfAttention(\n",
       "              (query): Linear(in_features=768, out_features=768, bias=True)\n",
       "              (key): Linear(in_features=768, out_features=768, bias=True)\n",
       "              (value): Linear(in_features=768, out_features=768, bias=True)\n",
       "              (dropout): Dropout(p=0.1, inplace=False)\n",
       "            )\n",
       "            (output): BertSelfOutput(\n",
       "              (dense): Linear(in_features=768, out_features=768, bias=True)\n",
       "              (LayerNorm): LayerNorm((768,), eps=1e-12, elementwise_affine=True)\n",
       "              (dropout): Dropout(p=0.1, inplace=False)\n",
       "            )\n",
       "          )\n",
       "          (intermediate): BertIntermediate(\n",
       "            (dense): Linear(in_features=768, out_features=3072, bias=True)\n",
       "            (intermediate_act_fn): GELUActivation()\n",
       "          )\n",
       "          (output): BertOutput(\n",
       "            (dense): Linear(in_features=3072, out_features=768, bias=True)\n",
       "            (LayerNorm): LayerNorm((768,), eps=1e-12, elementwise_affine=True)\n",
       "            (dropout): Dropout(p=0.1, inplace=False)\n",
       "          )\n",
       "        )\n",
       "        (7): BertLayer(\n",
       "          (attention): BertAttention(\n",
       "            (self): BertSelfAttention(\n",
       "              (query): Linear(in_features=768, out_features=768, bias=True)\n",
       "              (key): Linear(in_features=768, out_features=768, bias=True)\n",
       "              (value): Linear(in_features=768, out_features=768, bias=True)\n",
       "              (dropout): Dropout(p=0.1, inplace=False)\n",
       "            )\n",
       "            (output): BertSelfOutput(\n",
       "              (dense): Linear(in_features=768, out_features=768, bias=True)\n",
       "              (LayerNorm): LayerNorm((768,), eps=1e-12, elementwise_affine=True)\n",
       "              (dropout): Dropout(p=0.1, inplace=False)\n",
       "            )\n",
       "          )\n",
       "          (intermediate): BertIntermediate(\n",
       "            (dense): Linear(in_features=768, out_features=3072, bias=True)\n",
       "            (intermediate_act_fn): GELUActivation()\n",
       "          )\n",
       "          (output): BertOutput(\n",
       "            (dense): Linear(in_features=3072, out_features=768, bias=True)\n",
       "            (LayerNorm): LayerNorm((768,), eps=1e-12, elementwise_affine=True)\n",
       "            (dropout): Dropout(p=0.1, inplace=False)\n",
       "          )\n",
       "        )\n",
       "        (8): BertLayer(\n",
       "          (attention): BertAttention(\n",
       "            (self): BertSelfAttention(\n",
       "              (query): Linear(in_features=768, out_features=768, bias=True)\n",
       "              (key): Linear(in_features=768, out_features=768, bias=True)\n",
       "              (value): Linear(in_features=768, out_features=768, bias=True)\n",
       "              (dropout): Dropout(p=0.1, inplace=False)\n",
       "            )\n",
       "            (output): BertSelfOutput(\n",
       "              (dense): Linear(in_features=768, out_features=768, bias=True)\n",
       "              (LayerNorm): LayerNorm((768,), eps=1e-12, elementwise_affine=True)\n",
       "              (dropout): Dropout(p=0.1, inplace=False)\n",
       "            )\n",
       "          )\n",
       "          (intermediate): BertIntermediate(\n",
       "            (dense): Linear(in_features=768, out_features=3072, bias=True)\n",
       "            (intermediate_act_fn): GELUActivation()\n",
       "          )\n",
       "          (output): BertOutput(\n",
       "            (dense): Linear(in_features=3072, out_features=768, bias=True)\n",
       "            (LayerNorm): LayerNorm((768,), eps=1e-12, elementwise_affine=True)\n",
       "            (dropout): Dropout(p=0.1, inplace=False)\n",
       "          )\n",
       "        )\n",
       "        (9): BertLayer(\n",
       "          (attention): BertAttention(\n",
       "            (self): BertSelfAttention(\n",
       "              (query): Linear(in_features=768, out_features=768, bias=True)\n",
       "              (key): Linear(in_features=768, out_features=768, bias=True)\n",
       "              (value): Linear(in_features=768, out_features=768, bias=True)\n",
       "              (dropout): Dropout(p=0.1, inplace=False)\n",
       "            )\n",
       "            (output): BertSelfOutput(\n",
       "              (dense): Linear(in_features=768, out_features=768, bias=True)\n",
       "              (LayerNorm): LayerNorm((768,), eps=1e-12, elementwise_affine=True)\n",
       "              (dropout): Dropout(p=0.1, inplace=False)\n",
       "            )\n",
       "          )\n",
       "          (intermediate): BertIntermediate(\n",
       "            (dense): Linear(in_features=768, out_features=3072, bias=True)\n",
       "            (intermediate_act_fn): GELUActivation()\n",
       "          )\n",
       "          (output): BertOutput(\n",
       "            (dense): Linear(in_features=3072, out_features=768, bias=True)\n",
       "            (LayerNorm): LayerNorm((768,), eps=1e-12, elementwise_affine=True)\n",
       "            (dropout): Dropout(p=0.1, inplace=False)\n",
       "          )\n",
       "        )\n",
       "        (10): BertLayer(\n",
       "          (attention): BertAttention(\n",
       "            (self): BertSelfAttention(\n",
       "              (query): Linear(in_features=768, out_features=768, bias=True)\n",
       "              (key): Linear(in_features=768, out_features=768, bias=True)\n",
       "              (value): Linear(in_features=768, out_features=768, bias=True)\n",
       "              (dropout): Dropout(p=0.1, inplace=False)\n",
       "            )\n",
       "            (output): BertSelfOutput(\n",
       "              (dense): Linear(in_features=768, out_features=768, bias=True)\n",
       "              (LayerNorm): LayerNorm((768,), eps=1e-12, elementwise_affine=True)\n",
       "              (dropout): Dropout(p=0.1, inplace=False)\n",
       "            )\n",
       "          )\n",
       "          (intermediate): BertIntermediate(\n",
       "            (dense): Linear(in_features=768, out_features=3072, bias=True)\n",
       "            (intermediate_act_fn): GELUActivation()\n",
       "          )\n",
       "          (output): BertOutput(\n",
       "            (dense): Linear(in_features=3072, out_features=768, bias=True)\n",
       "            (LayerNorm): LayerNorm((768,), eps=1e-12, elementwise_affine=True)\n",
       "            (dropout): Dropout(p=0.1, inplace=False)\n",
       "          )\n",
       "        )\n",
       "        (11): BertLayer(\n",
       "          (attention): BertAttention(\n",
       "            (self): BertSelfAttention(\n",
       "              (query): Linear(in_features=768, out_features=768, bias=True)\n",
       "              (key): Linear(in_features=768, out_features=768, bias=True)\n",
       "              (value): Linear(in_features=768, out_features=768, bias=True)\n",
       "              (dropout): Dropout(p=0.1, inplace=False)\n",
       "            )\n",
       "            (output): BertSelfOutput(\n",
       "              (dense): Linear(in_features=768, out_features=768, bias=True)\n",
       "              (LayerNorm): LayerNorm((768,), eps=1e-12, elementwise_affine=True)\n",
       "              (dropout): Dropout(p=0.1, inplace=False)\n",
       "            )\n",
       "          )\n",
       "          (intermediate): BertIntermediate(\n",
       "            (dense): Linear(in_features=768, out_features=3072, bias=True)\n",
       "            (intermediate_act_fn): GELUActivation()\n",
       "          )\n",
       "          (output): BertOutput(\n",
       "            (dense): Linear(in_features=3072, out_features=768, bias=True)\n",
       "            (LayerNorm): LayerNorm((768,), eps=1e-12, elementwise_affine=True)\n",
       "            (dropout): Dropout(p=0.1, inplace=False)\n",
       "          )\n",
       "        )\n",
       "      )\n",
       "    )\n",
       "    (pooler): BertPooler(\n",
       "      (dense): Linear(in_features=768, out_features=768, bias=True)\n",
       "      (activation): Tanh()\n",
       "    )\n",
       "  )\n",
       "  (l2): Dropout(p=0.3, inplace=False)\n",
       "  (l3): Linear(in_features=768, out_features=1, bias=True)\n",
       ")"
      ]
     },
     "execution_count": 156,
     "metadata": {},
     "output_type": "execute_result"
    }
   ],
   "source": [
    "# Создаем индивидуальную модель, добавляя отсев и плотный слой поверх distil bert, чтобы получить конечный результат для модели\n",
    "class BERTClass(torch.nn.Module):\n",
    "    def __init__(self):\n",
    "        super(BERTClass, self).__init__()\n",
    "        self.l1 = transformers.BertModel.from_pretrained('bert-base-uncased', return_dict=False)\n",
    "        self.l2 = torch.nn.Dropout(0.3)\n",
    "        self.l3 = torch.nn.Linear(768, 1)\n",
    "    \n",
    "    def forward(self, ids, mask, token_type_ids):\n",
    "        _, output_1= self.l1(ids, attention_mask = mask, token_type_ids = token_type_ids)\n",
    "        output_2 = self.l2(output_1)\n",
    "        output = self.l3(output_2)\n",
    "        return output\n",
    "\n",
    "model = BERTClass()\n",
    "model.to(device)"
   ]
  },
  {
   "cell_type": "code",
   "execution_count": 157,
   "id": "113c0759",
   "metadata": {
    "execution": {
     "iopub.execute_input": "2023-04-16T21:20:12.102535Z",
     "iopub.status.busy": "2023-04-16T21:20:12.102027Z",
     "iopub.status.idle": "2023-04-16T21:20:12.108624Z",
     "shell.execute_reply": "2023-04-16T21:20:12.107326Z",
     "shell.execute_reply.started": "2023-04-16T21:20:12.102493Z"
    }
   },
   "outputs": [],
   "source": [
    "# Функция потери\n",
    "def loss_fn(outputs, targets):\n",
    "    return torch.nn.BCEWithLogitsLoss()(outputs, targets)"
   ]
  },
  {
   "cell_type": "code",
   "execution_count": 158,
   "id": "e8d31a29",
   "metadata": {
    "execution": {
     "iopub.execute_input": "2023-04-16T21:20:12.111061Z",
     "iopub.status.busy": "2023-04-16T21:20:12.110656Z",
     "iopub.status.idle": "2023-04-16T21:20:12.121193Z",
     "shell.execute_reply": "2023-04-16T21:20:12.120124Z",
     "shell.execute_reply.started": "2023-04-16T21:20:12.111023Z"
    }
   },
   "outputs": [],
   "source": [
    "optimizer = torch.optim.Adam(params =  model.parameters(), lr=LEARNING_RATE)"
   ]
  },
  {
   "cell_type": "markdown",
   "id": "b671712b",
   "metadata": {},
   "source": [
    "### Точная настройка модели\n",
    "\n",
    "После всех усилий по загрузке и подготовке данных и наборов данных, созданию модели и определению ее потерь и оптимизатора. Вероятно, это самый простой шаг в процессе.\n",
    "\n",
    "Здесь мы определяем обучающую функцию, которая обучает модель на основе обучающего набора данных, созданного выше, заданное количество раз (ЭПОХА), эпоха определяет, сколько раз полные данные будут передаваться по сети.\n",
    "\n",
    "Для точной настройки нейронной сети в этой функции происходят следующие события:\n",
    "- Загрузчик данных передает данные в модель в зависимости от размера пакета.\n",
    "- Последующие выходные данные модели и фактическая категория сравниваются для расчета потерь.\n",
    "- Значение потерь используется для оптимизации весов нейронов в сети.\n",
    "- После каждых 5000 шагов в консоли выводится значение потерь.\n",
    "\n",
    "Как вы можете видеть, всего за 1 эпоху на последнем шаге модель работала с незначительными потерями в 0,022, т.е. выходной сигнал сети чрезвычайно близок к фактическому выходному сигналу."
   ]
  },
  {
   "cell_type": "code",
   "execution_count": 159,
   "id": "14ef2856",
   "metadata": {
    "execution": {
     "iopub.execute_input": "2023-04-16T21:20:12.151527Z",
     "iopub.status.busy": "2023-04-16T21:20:12.151261Z",
     "iopub.status.idle": "2023-04-16T21:20:12.158514Z",
     "shell.execute_reply": "2023-04-16T21:20:12.157314Z",
     "shell.execute_reply.started": "2023-04-16T21:20:12.151502Z"
    }
   },
   "outputs": [],
   "source": [
    "def train(epoch):\n",
    "    model.train()\n",
    "    for _,data in enumerate(training_loader, 0):\n",
    "        ids = data['ids'].to(device, dtype = torch.long)\n",
    "        mask = data['mask'].to(device, dtype = torch.long)\n",
    "        token_type_ids = data['token_type_ids'].to(device, dtype = torch.long)\n",
    "        targets = data['targets'].to(device, dtype = torch.float)\n",
    "\n",
    "        outputs = model(ids, mask, token_type_ids)\n",
    "        \n",
    "        optimizer.zero_grad()\n",
    "        loss = loss_fn(outputs, targets)\n",
    "        if _%5000==0:\n",
    "            print(f'Epoch: {epoch}, Loss:  {loss.item()}')\n",
    "        \n",
    "        optimizer.zero_grad()\n",
    "        loss.backward()\n",
    "        optimizer.step()"
   ]
  },
  {
   "cell_type": "markdown",
   "id": "2ae4d3fb",
   "metadata": {},
   "source": [
    "## Обучение"
   ]
  },
  {
   "cell_type": "code",
   "execution_count": 160,
   "id": "c7f90d4e",
   "metadata": {
    "execution": {
     "iopub.execute_input": "2023-04-16T21:20:13.289998Z",
     "iopub.status.busy": "2023-04-16T21:20:13.289550Z",
     "iopub.status.idle": "2023-04-16T23:55:52.854918Z",
     "shell.execute_reply": "2023-04-16T23:55:52.853791Z",
     "shell.execute_reply.started": "2023-04-16T21:20:13.289956Z"
    }
   },
   "outputs": [
    {
     "name": "stderr",
     "output_type": "stream",
     "text": [
      "Truncation was not explicitly activated but `max_length` is provided a specific value, please use `truncation=True` to explicitly truncate examples to max length. Defaulting to 'longest_first' truncation strategy. If you encode pairs of sequences (GLUE-style) with the tokenizer you can select this strategy more precisely by providing a specific strategy to `truncation`.\n",
      "/opt/conda/lib/python3.7/site-packages/transformers/tokenization_utils_base.py:2352: FutureWarning: The `pad_to_max_length` argument is deprecated and will be removed in a future version, use `padding=True` or `padding='longest'` to pad to the longest sequence in the batch, or use `padding='max_length'` to pad to a max length. In this case, you can give a specific length with `max_length` (e.g. `max_length=45`) or leave max_length to None to pad to the maximal input size of the model (e.g. 512 for Bert).\n",
      "  FutureWarning,\n"
     ]
    },
    {
     "name": "stdout",
     "output_type": "stream",
     "text": [
      "Epoch: 0, Loss:  0.733110785484314\n",
      "Epoch: 0, Loss:  0.39082932472229004\n",
      "Epoch: 0, Loss:  0.005783333443105221\n",
      "Epoch: 0, Loss:  0.09499093890190125\n",
      "Epoch: 1, Loss:  0.01712093874812126\n",
      "Epoch: 1, Loss:  0.00039071450009942055\n",
      "Epoch: 1, Loss:  0.322614461183548\n",
      "Epoch: 1, Loss:  0.02024523913860321\n",
      "CPU times: user 1h 41min 16s, sys: 53min 13s, total: 2h 34min 29s\n",
      "Wall time: 2h 35min 39s\n"
     ]
    },
    {
     "data": {
      "application/javascript": [
       "$(document).ready(\n",
       "    function() {\n",
       "        function appendUniqueDiv(){\n",
       "            // append a div with our uuid so we can check that it's already\n",
       "            // been sent and avoid duplicates on page reload\n",
       "            var notifiedDiv = document.createElement(\"div\")\n",
       "            notifiedDiv.id = \"2f837bc6-0599-4596-96f7-75dc631a3bc8\"\n",
       "            element.append(notifiedDiv)\n",
       "        }\n",
       "\n",
       "        // only send notifications if the pageload is complete; this will\n",
       "        // help stop extra notifications when a saved notebook is loaded,\n",
       "        // which during testing gives us state \"interactive\", not \"complete\"\n",
       "        if (document.readyState === 'complete') {\n",
       "            // check for the div that signifies that the notification\n",
       "            // was already sent\n",
       "            if (document.getElementById(\"2f837bc6-0599-4596-96f7-75dc631a3bc8\") === null) {\n",
       "                var notificationPayload = {\"requireInteraction\": false, \"icon\": \"/static/base/images/favicon.ico\", \"body\": \"BERT\"};\n",
       "                if (Notification.permission !== 'denied') {\n",
       "                    if (Notification.permission !== 'granted') { \n",
       "                        Notification.requestPermission(function (permission) {\n",
       "                            if(!('permission' in Notification)) {\n",
       "                                Notification.permission = permission\n",
       "                            }\n",
       "                        })\n",
       "                    }\n",
       "                    if (Notification.permission === 'granted') {\n",
       "                    var notification = new Notification(\"Jupyter Notebook\", notificationPayload)\n",
       "                    appendUniqueDiv()\n",
       "                    notification.onclick = function () {\n",
       "                        window.focus();\n",
       "                        this.close();\n",
       "                        };\n",
       "                    } \n",
       "                }     \n",
       "            }\n",
       "        }\n",
       "    }\n",
       ")\n"
      ],
      "text/plain": [
       "<IPython.core.display.Javascript object>"
      ]
     },
     "metadata": {},
     "output_type": "display_data"
    }
   ],
   "source": [
    "%%notify -m 'BERT'\n",
    "%%time\n",
    "\n",
    "for epoch in range(EPOCHS):\n",
    "    train(epoch)"
   ]
  },
  {
   "cell_type": "markdown",
   "id": "fc9f4f0e",
   "metadata": {},
   "source": [
    "## Проверим на F1-метрику\n",
    "\n",
    "На этапе проверки мы передаем невидимые данные (тестовый набор данных) в модель. Этот шаг определяет, насколько хорошо модель работает с невидимыми данными.\n",
    "\n",
    "Эти невидимые данные составляют 20% от `train.csv`, которые были отделены на этапе создания набора данных.\n",
    "На этапе проверки веса модели не обновляются. Только конечный результат сравнивается с фактическим значением. Это сравнение затем используется для расчета точности модели.\n",
    "\n",
    "Как определено выше, чтобы получить оценку производительности наших моделей, мы используем следующие показатели.\n",
    "- Accuracy Score\n",
    "- F1-score\n",
    "- F1-score MACRO\n",
    "- F1-score MICRO\n",
    "\n",
    "Мы получаем потрясающие результаты по всем этим 3 категориям, просто обучая модель в течение 1 эпохи."
   ]
  },
  {
   "cell_type": "code",
   "execution_count": 161,
   "id": "8990af0c",
   "metadata": {
    "execution": {
     "iopub.execute_input": "2023-04-16T23:55:52.857390Z",
     "iopub.status.busy": "2023-04-16T23:55:52.857032Z",
     "iopub.status.idle": "2023-04-16T23:55:52.865054Z",
     "shell.execute_reply": "2023-04-16T23:55:52.863883Z",
     "shell.execute_reply.started": "2023-04-16T23:55:52.857351Z"
    }
   },
   "outputs": [],
   "source": [
    "def validation(epoch):\n",
    "    model.eval()\n",
    "    fin_targets=[]\n",
    "    fin_outputs=[]\n",
    "    with torch.no_grad():\n",
    "        for _, data in enumerate(testing_loader, 0):\n",
    "            ids = data['ids'].to(device, dtype = torch.long)\n",
    "            mask = data['mask'].to(device, dtype = torch.long)\n",
    "            token_type_ids = data['token_type_ids'].to(device, dtype = torch.long)\n",
    "            targets = data['targets'].to(device, dtype = torch.float)\n",
    "            outputs = model(ids, mask, token_type_ids)\n",
    "            fin_targets.extend(targets.cpu().detach().numpy().tolist())\n",
    "            fin_outputs.extend(torch.sigmoid(outputs).cpu().detach().numpy().tolist())\n",
    "    return fin_outputs, fin_targets"
   ]
  },
  {
   "cell_type": "code",
   "execution_count": 162,
   "id": "61b58a0b",
   "metadata": {
    "execution": {
     "iopub.execute_input": "2023-04-16T23:55:52.867506Z",
     "iopub.status.busy": "2023-04-16T23:55:52.866733Z",
     "iopub.status.idle": "2023-04-17T00:10:17.044033Z",
     "shell.execute_reply": "2023-04-17T00:10:17.042882Z",
     "shell.execute_reply.started": "2023-04-16T23:55:52.867464Z"
    }
   },
   "outputs": [
    {
     "name": "stdout",
     "output_type": "stream",
     "text": [
      "Accuracy Score = 0.9693954422750958\n",
      "F1 Score = 0.8411275867687795\n",
      "F1 Score (Micro) = 0.9693954422750958\n",
      "F1 Score (Macro) = 0.9120971649260977\n"
     ]
    },
    {
     "name": "stderr",
     "output_type": "stream",
     "text": [
      "/opt/conda/lib/python3.7/site-packages/transformers/tokenization_utils_base.py:2352: FutureWarning: The `pad_to_max_length` argument is deprecated and will be removed in a future version, use `padding=True` or `padding='longest'` to pad to the longest sequence in the batch, or use `padding='max_length'` to pad to a max length. In this case, you can give a specific length with `max_length` (e.g. `max_length=45`) or leave max_length to None to pad to the maximal input size of the model (e.g. 512 for Bert).\n",
      "  FutureWarning,\n"
     ]
    },
    {
     "name": "stdout",
     "output_type": "stream",
     "text": [
      "Accuracy Score = 0.9693954422750958\n",
      "F1 Score = 0.8411275867687795\n",
      "F1 Score (Micro) = 0.9693954422750958\n",
      "F1 Score (Macro) = 0.9120971649260977\n",
      "CPU times: user 14min 20s, sys: 1.26 s, total: 14min 21s\n",
      "Wall time: 14min 24s\n"
     ]
    },
    {
     "data": {
      "application/javascript": [
       "$(document).ready(\n",
       "    function() {\n",
       "        function appendUniqueDiv(){\n",
       "            // append a div with our uuid so we can check that it's already\n",
       "            // been sent and avoid duplicates on page reload\n",
       "            var notifiedDiv = document.createElement(\"div\")\n",
       "            notifiedDiv.id = \"e1a4d417-812b-474a-a80c-75820606a6be\"\n",
       "            element.append(notifiedDiv)\n",
       "        }\n",
       "\n",
       "        // only send notifications if the pageload is complete; this will\n",
       "        // help stop extra notifications when a saved notebook is loaded,\n",
       "        // which during testing gives us state \"interactive\", not \"complete\"\n",
       "        if (document.readyState === 'complete') {\n",
       "            // check for the div that signifies that the notification\n",
       "            // was already sent\n",
       "            if (document.getElementById(\"e1a4d417-812b-474a-a80c-75820606a6be\") === null) {\n",
       "                var notificationPayload = {\"requireInteraction\": false, \"icon\": \"/static/base/images/favicon.ico\", \"body\": \"PREDCIT BERT\"};\n",
       "                if (Notification.permission !== 'denied') {\n",
       "                    if (Notification.permission !== 'granted') { \n",
       "                        Notification.requestPermission(function (permission) {\n",
       "                            if(!('permission' in Notification)) {\n",
       "                                Notification.permission = permission\n",
       "                            }\n",
       "                        })\n",
       "                    }\n",
       "                    if (Notification.permission === 'granted') {\n",
       "                    var notification = new Notification(\"Jupyter Notebook\", notificationPayload)\n",
       "                    appendUniqueDiv()\n",
       "                    notification.onclick = function () {\n",
       "                        window.focus();\n",
       "                        this.close();\n",
       "                        };\n",
       "                    } \n",
       "                }     \n",
       "            }\n",
       "        }\n",
       "    }\n",
       ")\n"
      ],
      "text/plain": [
       "<IPython.core.display.Javascript object>"
      ]
     },
     "metadata": {},
     "output_type": "display_data"
    }
   ],
   "source": [
    "%%notify -m 'PREDCIT BERT'\n",
    "%%time\n",
    "\n",
    "for epoch in range(EPOCHS):\n",
    "    outputs, targets = validation(epoch)\n",
    "    outputs = np.array(outputs) >= 0.5\n",
    "    accuracy = metrics.accuracy_score(targets, outputs)\n",
    "    f1_score = metrics.f1_score(targets, outputs)\n",
    "    f1_score_micro = metrics.f1_score(targets, outputs, average='micro')\n",
    "    f1_score_macro = metrics.f1_score(targets, outputs, average='macro')\n",
    "    print(f\"Accuracy Score = {accuracy}\")\n",
    "    print(f\"F1 Score = {f1_score}\")\n",
    "    print(f\"F1 Score (Micro) = {f1_score_micro}\")\n",
    "    print(f\"F1 Score (Macro) = {f1_score_macro}\")"
   ]
  },
  {
   "cell_type": "markdown",
   "id": "1132b881",
   "metadata": {},
   "source": [
    "# Выводы"
   ]
  },
  {
   "cell_type": "markdown",
   "id": "8a2497a5",
   "metadata": {},
   "source": [
    "F1-SCORE у модели BERT с помощью библиотеки PyTorch получилось очень неплохой, аж **0,841** значений. Однако у этой модели есть основные недостатки, от которых мы избегаем: время обучения и предсказаня. Время обучения занимает аж **1,5 часа** в среднем. А время предсказания меньше **1\\4 часа**.\n",
    "\n",
    "Если нам поставлена задача создать модель, которая дает высокие результаты, тогда нам следует применять глубокие обучения, в противном случае можно применять легкие модели и быстро получить результаты для предварительного прогнозирования."
   ]
  },
  {
   "cell_type": "markdown",
   "id": "3e0e3038",
   "metadata": {},
   "source": [
    "## Чек-лист проверки"
   ]
  },
  {
   "cell_type": "markdown",
   "id": "cac4c3b2",
   "metadata": {},
   "source": [
    "- [x]  Jupyter Notebook открыт\n",
    "- [x]  Весь код выполняется без ошибок\n",
    "- [x]  Ячейки с кодом расположены в порядке исполнения\n",
    "- [x]  Данные загружены и подготовлены\n",
    "- [x]  Модели обучены\n",
    "- [x]  Значение метрики *F1* не меньше 0.75\n",
    "- [x]  Выводы написаны"
   ]
  },
  {
   "cell_type": "code",
   "execution_count": null,
   "id": "bfa40866",
   "metadata": {},
   "outputs": [],
   "source": []
  }
 ],
 "metadata": {
  "kernelspec": {
   "display_name": "Python 3 (ipykernel)",
   "language": "python",
   "name": "python3"
  },
  "language_info": {
   "codemirror_mode": {
    "name": "ipython",
    "version": 3
   },
   "file_extension": ".py",
   "mimetype": "text/x-python",
   "name": "python",
   "nbconvert_exporter": "python",
   "pygments_lexer": "ipython3",
   "version": "3.9.13"
  },
  "toc": {
   "base_numbering": 1,
   "nav_menu": {},
   "number_sections": true,
   "sideBar": true,
   "skip_h1_title": false,
   "title_cell": "Table of Contents",
   "title_sidebar": "Contents",
   "toc_cell": false,
   "toc_position": {
    "height": "calc(100% - 180px)",
    "left": "10px",
    "top": "150px",
    "width": "374.375px"
   },
   "toc_section_display": true,
   "toc_window_display": true
  }
 },
 "nbformat": 4,
 "nbformat_minor": 5
}
